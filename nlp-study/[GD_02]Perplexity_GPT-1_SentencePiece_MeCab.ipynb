{
  "nbformat": 4,
  "nbformat_minor": 0,
  "metadata": {
    "colab": {
      "name": "[GD_02]Perplexity_GPT-1_SentencePiece_MeCab.ipynb",
      "provenance": [],
      "collapsed_sections": [],
      "toc_visible": true
    },
    "kernelspec": {
      "name": "python3",
      "display_name": "Python 3"
    },
    "language_info": {
      "name": "python"
    },
    "gpuClass": "standard"
  },
  "cells": [
    {
      "cell_type": "markdown",
      "source": [
        "##멋진 단어사전 만들기"
      ],
      "metadata": {
        "id": "FE9cLqC3Be8C"
      }
    },
    {
      "cell_type": "markdown",
      "source": [
        ""
      ],
      "metadata": {
        "id": "mt2ATrv4BfUR"
      }
    },
    {
      "cell_type": "markdown",
      "source": [
        "Korean Parallel Corpora\n",
        "<br/>데이터 정보\n",
        "<br/>데이터 탐색\n",
        "<br/>SentencePiece\n",
        "<br/>Tokenizer\n"
      ],
      "metadata": {
        "id": "NR6Os5N_BfbB"
      }
    },
    {
      "cell_type": "markdown",
      "source": [
        "Naver sentiment movie corpus\n",
        "<br/>데이터 정보\n",
        "<br/>데이터 탐색"
      ],
      "metadata": {
        "id": "RLwyr79LA-_g"
      }
    },
    {
      "cell_type": "markdown",
      "source": [
        "SentencePiece\n",
        "<br/>Corpus\n",
        "<br/>Pretrained Model\n",
        "<br/>Config\n",
        "<br/>Common Class\n",
        "<br/>Decoder\n",
        "<br/>GPT-1\n",
        "<br/>Data Loader\n",
        "<br/>모델 학습\n",
        "<br/>모델 평가"
      ],
      "metadata": {
        "id": "l0pIicRgzvZ4"
      }
    },
    {
      "cell_type": "markdown",
      "source": [
        "MeCab\n",
        "<br/>Corpus\n",
        "<br/>GPT-1\n",
        "<br/>모델 학습\n",
        "<br/>모델 평가"
      ],
      "metadata": {
        "id": "j8QG3pkDzvcB"
      }
    },
    {
      "cell_type": "markdown",
      "source": [
        "결론\n",
        "<br/>참고문헌"
      ],
      "metadata": {
        "id": "1DGRCQEEBC2G"
      }
    },
    {
      "cell_type": "markdown",
      "source": [
        ""
      ],
      "metadata": {
        "id": "1WS5J5yGFTiT"
      }
    },
    {
      "cell_type": "markdown",
      "source": [
        "#개발 환경"
      ],
      "metadata": {
        "id": "u0-ojqQCC7SD"
      }
    },
    {
      "cell_type": "code",
      "execution_count": null,
      "metadata": {
        "id": "xH-8qUfEBeIH"
      },
      "outputs": [],
      "source": [
        "!pip install sentencepiece"
      ]
    },
    {
      "cell_type": "code",
      "source": [
        "!pip install wget"
      ],
      "metadata": {
        "id": "5yyQJVpOVuIw"
      },
      "execution_count": null,
      "outputs": []
    },
    {
      "cell_type": "code",
      "source": [
        "import os\n",
        "# install konlpy, jdk, JPype\n",
        "!pip install konlpy\n",
        "!apt-get install openjdk-8-jdk-headless -qq > /dev/null\n",
        "!pip3 install JPype1-py3\n",
        "\n",
        "# install mecab-ko\n",
        "os.chdir('/tmp/')\n",
        "!curl -LO https://bitbucket.org/eunjeon/mecab-ko/downloads/mecab-0.996-ko-0.9.2.tar.gz\n",
        "!tar zxfv mecab-0.996-ko-0.9.2.tar.gz\n",
        "os.chdir('/tmp/mecab-0.996-ko-0.9.2')\n",
        "!./configure\n",
        "!make\n",
        "!make check\n",
        "!make install\n",
        "\n",
        "# install mecab-ko-dic\n",
        "!apt-get install automake\n",
        "os.chdir('/tmp')\n",
        "!curl -LO https://bitbucket.org/eunjeon/mecab-ko-dic/downloads/mecab-ko-dic-2.1.1-20180720.tar.gz\n",
        "!tar -zxvf mecab-ko-dic-2.1.1-20180720.tar.gz\n",
        "os.chdir('/tmp/mecab-ko-dic-2.1.1-20180720')\n",
        "!./autogen.sh\n",
        "!./configure\n",
        "!make\n",
        "!make install\n",
        "\n",
        "# install mecab-python\n",
        "os.chdir('/content')\n",
        "!git clone https://bitbucket.org/eunjeon/mecab-python-0.996.git\n",
        "os.chdir('/content/mecab-python-0.996')\n",
        "!python3 setup.py build\n",
        "!python3 setup.py install"
      ],
      "metadata": {
        "id": "4IIy-U7bbcZ8"
      },
      "execution_count": null,
      "outputs": []
    },
    {
      "cell_type": "code",
      "source": [
        "import random\n",
        "import json\n",
        "from collections import Counter\n",
        "import warnings\n",
        "warnings.filterwarnings(action='ignore')"
      ],
      "metadata": {
        "id": "WZ550UILWQzD"
      },
      "execution_count": null,
      "outputs": []
    },
    {
      "cell_type": "code",
      "source": [
        "import tensorflow as tf\n",
        "import pandas as pd\n",
        "import numpy as np"
      ],
      "metadata": {
        "id": "I9OCQn7LGLsp"
      },
      "execution_count": null,
      "outputs": []
    },
    {
      "cell_type": "code",
      "source": [
        "import wget\n",
        "import matplotlib.pyplot as plt\n",
        "%matplotlib inline\n",
        "from IPython.display import Image\n",
        "from IPython.display import display\n",
        "from tqdm import tqdm, tqdm_notebook, trange"
      ],
      "metadata": {
        "id": "KmnRUSBqVfn9"
      },
      "execution_count": null,
      "outputs": []
    },
    {
      "cell_type": "markdown",
      "source": [
        "wget은 모델 학습의 bar 디자인과 모델의 다운로드 위치를 변경한다.\n",
        "<br/>tqdm은 for문의 작업진행률을 표시한다.\n",
        "<br/>IPython은 Jupyter Notebook의 파일에서 이미지를 표시한다."
      ],
      "metadata": {
        "id": "BSUDTR8TBy-U"
      }
    },
    {
      "cell_type": "code",
      "source": [
        "import re\n",
        "import sentencepiece as spm\n",
        "from konlpy.tag import Mecab"
      ],
      "metadata": {
        "id": "1uWuI-glGVgb"
      },
      "execution_count": null,
      "outputs": []
    },
    {
      "cell_type": "markdown",
      "source": [
        "토크나이저의 방식은 크게 두가지 방식으로 나뉜다.\n",
        "<br/><br/>Wordpiece\n",
        "<br/>한 단어를 세부 단어로 분리한다.\n",
        "<br/>SetencePiece. BPE. BERT WordPiece. \n",
        "<br/><br/>Morphology\n",
        "<br/>형태소 분석을 한다.\n",
        "<br/>Mecab. Okt. Komoran. Kkma. Hannanum. Khaiii\n",
        "<br/>*Package : Huggingface Tokenizers"
      ],
      "metadata": {
        "id": "9la8xJN4DDmV"
      }
    },
    {
      "cell_type": "code",
      "source": [
        "import torch\n",
        "import torch.nn as nn\n",
        "import torch.nn.functional as F"
      ],
      "metadata": {
        "id": "WX-HZxoWimMt"
      },
      "execution_count": null,
      "outputs": []
    },
    {
      "cell_type": "code",
      "source": [
        "import argparse\n",
        "import collections\n",
        "import shutil\n",
        "import zipfile"
      ],
      "metadata": {
        "id": "YAq-Oq8AkP-L"
      },
      "execution_count": null,
      "outputs": []
    },
    {
      "cell_type": "code",
      "source": [
        "from google.colab import drive\n",
        "drive.mount('/content/drive')"
      ],
      "metadata": {
        "id": "FaywWx1uBeoJ"
      },
      "execution_count": null,
      "outputs": []
    },
    {
      "cell_type": "code",
      "source": [
        "pip freeze > '/content/drive/MyDrive/lms/library_version.txt'"
      ],
      "metadata": {
        "id": "P_trrie_Beqi"
      },
      "execution_count": null,
      "outputs": []
    },
    {
      "cell_type": "code",
      "source": [
        "library_name = ['random', 'jsonschema=', 'tensorflow=', 'pandas=', \n",
        "                 'numpy=', 'wget', 'tqdm', 'matplotlib=',\n",
        "                'regex=', 'sentencepiece=', 'konlpy', 'mecab', 'torch @']\n",
        "library_version = []\n",
        "count = 0\n",
        "\n",
        "import sys\n",
        "print(sys.version)\n",
        "print()\n",
        "\n",
        "with open('/content/drive/MyDrive/lms/library_version.txt', 'r') as f:\n",
        "    lines = f.read().splitlines() \n",
        "\n",
        "for i in range(len(lines)):\n",
        "  for line in lines[i:i+1]:\n",
        "    for library in library_name:\n",
        "      if library in line:\n",
        "        library_version.append(line)\n",
        "        count += 1\n",
        "        print(line, end = '    ')\n",
        "        if count % 3 == 0:\n",
        "          print()"
      ],
      "metadata": {
        "colab": {
          "base_uri": "https://localhost:8080/"
        },
        "id": "GWeBHj1JBess",
        "outputId": "169e26b3-c8be-47f1-a5dd-19abe3bbe62a"
      },
      "execution_count": null,
      "outputs": [
        {
          "output_type": "stream",
          "name": "stdout",
          "text": [
            "3.7.13 (default, Apr 24 2022, 01:04:09) \n",
            "[GCC 7.5.0]\n",
            "\n",
            "fastjsonschema==2.15.3      jsonschema==4.3.3      konlpy==0.6.0     \n",
            "matplotlib==3.2.2      mecab-python===0.996-ko-0.9.2      numpy==1.21.6     \n",
            "pandas==1.3.5      regex==2022.6.2      sentencepiece==0.1.96     \n",
            "sklearn-pandas==1.8.0      tensorflow==2.8.2+zzzcolab20220527125636      torch @ https://download.pytorch.org/whl/cu113/torch-1.11.0%2Bcu113-cp37-cp37m-linux_x86_64.whl     \n",
            "tqdm==4.64.0      wget==3.2     \n"
          ]
        }
      ]
    },
    {
      "cell_type": "code",
      "source": [
        "gpu_info = !nvidia-smi\n",
        "gpu_info = '\\n'.join(gpu_info)\n",
        "if gpu_info.find('failed') >= 0:\n",
        "  print('Not connected to a GPU')\n",
        "else:\n",
        "  print(gpu_info)"
      ],
      "metadata": {
        "id": "Wg4zCBMCFA-7"
      },
      "execution_count": null,
      "outputs": []
    },
    {
      "cell_type": "code",
      "source": [
        "from psutil import virtual_memory\n",
        "ram_gb = virtual_memory().total / 1e9\n",
        "print('Your runtime has {:.1f} gigabytes of available RAM\\n'.format(ram_gb))\n",
        "\n",
        "if ram_gb < 20:\n",
        "  print('Not using a high-RAM runtime')\n",
        "else:\n",
        "  print('You are using a high-RAM runtime!')"
      ],
      "metadata": {
        "id": "P5ijEFzcFBBi"
      },
      "execution_count": null,
      "outputs": []
    },
    {
      "cell_type": "markdown",
      "source": [
        "Google Colab에서 할당된 GPU를 확인한다.\n",
        "<br/>고용량 메모리 VM에 액세스한다."
      ],
      "metadata": {
        "id": "IUNYlauMFP10"
      }
    },
    {
      "cell_type": "markdown",
      "source": [
        "#Korean Parallel Corpora"
      ],
      "metadata": {
        "id": "RCBpWDz3AMDf"
      }
    },
    {
      "cell_type": "markdown",
      "source": [
        "##데이터 정보"
      ],
      "metadata": {
        "id": "KDkFf2n3FSJi"
      }
    },
    {
      "cell_type": "markdown",
      "source": [
        "[Korean Parallel Corpora](https://github.com/jungyeul/korean-parallel-corpora)"
      ],
      "metadata": {
        "id": "IQHtCP7TPL-8"
      }
    },
    {
      "cell_type": "markdown",
      "source": [
        "한국어의 형태소 분석과 품사 태깅, 기계 번역 연구를 위해 공개된 데이터이다."
      ],
      "metadata": {
        "id": "zt2bmVGmSgCc"
      }
    },
    {
      "cell_type": "markdown",
      "source": [
        "한국어-영어 뉴스 병렬 코퍼스\n",
        "<br/>한국어-영어 Junior High Evaluation 병렬 코퍼스\n",
        "<br/>한국어-프랑스 병렬 코퍼스\n",
        "<br/>북한어-영어 병렬 코퍼스"
      ],
      "metadata": {
        "id": "eNPU-HEeX_9q"
      }
    },
    {
      "cell_type": "markdown",
      "source": [
        "[Korean English News V1](https://github.com/jungyeul/korean-parallel-corpora/tree/master/korean-english-news-v1)"
      ],
      "metadata": {
        "id": "QOHM07NQKiyy"
      }
    },
    {
      "cell_type": "markdown",
      "source": [
        "한국어-영어 뉴스 병렬 코퍼스에서 한국어 부분을 데이터로 사용한다."
      ],
      "metadata": {
        "id": "xwcmD493YB7g"
      }
    },
    {
      "cell_type": "markdown",
      "source": [
        "##데이터 탐색"
      ],
      "metadata": {
        "id": "rGP2ZW3qZspc"
      }
    },
    {
      "cell_type": "code",
      "source": [
        "path_to_file = '/content/drive/MyDrive/lms/sp_tokenizer/korean_parallel_corpora/korean-english-park.train.ko'\n",
        "\n",
        "with open(path_to_file, \"r\") as f:\n",
        "    raw = f.read().splitlines()\n",
        "\n",
        "print(\"Data Size :\", len(raw))\n",
        "print()\n",
        "print(\"Example\")\n",
        "for sen in raw[600:700][::20]: print(\"\", sen)"
      ],
      "metadata": {
        "colab": {
          "base_uri": "https://localhost:8080/"
        },
        "id": "RGIm7wdYPYs0",
        "outputId": "750465e6-c838-4fa5-e5dd-a8a6945c2338"
      },
      "execution_count": null,
      "outputs": [
        {
          "output_type": "stream",
          "name": "stdout",
          "text": [
            "Data Size : 94123\n",
            "\n",
            "Example\n",
            " 앞서가고 있는 은행 중의 하나가 오하이오 주 콜럼버스에 있는 헌팅턴 뱅크쉐어즈이다.\n",
            " 우리 내부의 신체 시계는 밤 에 자고, 낮 에 사냥하는 그러한 세계에 최적의 상태로 적응되어 있습니다.\"\n",
            " 하지만 얼마나 오래 그 효과가 지속될 것인가?\n",
            " 그 이름이 뜻하는 바와 같이 이 세균은 이미 밴코마이신과 모든 다른 항생물질에 대해 면역성을 갖게 되었다.\n",
            " 하나의 통신망은 모뎀이나 케이블에 의해 호스트 컴퓨터나 서버에 접속되어 있는 일단의 컴퓨터들을 말한다.\n"
          ]
        }
      ]
    },
    {
      "cell_type": "code",
      "source": [
        "warnings.filterwarnings(action='ignore')\n",
        "\n",
        "min_len = 999\n",
        "max_len = 0\n",
        "sum_len = 0\n",
        "\n",
        "for sen in raw:\n",
        "    length = len(sen)\n",
        "    if min_len > length: min_len = length\n",
        "    if max_len < length: max_len = length\n",
        "    sum_len += length\n",
        "\n",
        "print(\"문장의 최소 길이 :\", min_len)\n",
        "print(\"문장의 최대 길이 :\", max_len)\n",
        "print(\"문장의 평균 길이 :\", sum_len // len(raw))\n",
        "\n",
        "sentence_length = np.zeros((max_len), dtype=np.int)\n",
        "\n",
        "for sen in raw:\n",
        "    sentence_length[len(sen)-1] += 1\n",
        "\n",
        "print()\n",
        "plt.boxplot(sentence_length)\n",
        "plt.title(\"Sentence Length Boxplot\")\n",
        "plt.show()\n",
        "\n",
        "print()\n",
        "plt.bar(range(max_len), sentence_length, width=1.0)\n",
        "plt.title(\"Sentence Length Distribution\")\n",
        "plt.show()"
      ],
      "metadata": {
        "colab": {
          "base_uri": "https://localhost:8080/",
          "height": 637
        },
        "id": "hY55szDnUpSM",
        "outputId": "758519d7-2109-45ae-e528-fb501a7e057a"
      },
      "execution_count": null,
      "outputs": [
        {
          "output_type": "stream",
          "name": "stdout",
          "text": [
            "문장의 최소 길이 : 1\n",
            "문장의 최대 길이 : 377\n",
            "문장의 평균 길이 : 60\n",
            "\n"
          ]
        },
        {
          "output_type": "display_data",
          "data": {
            "text/plain": [
              "<Figure size 432x288 with 1 Axes>"
            ],
            "image/png": "[encoded data removed]"
          },
          "metadata": {
            "needs_background": "light"
          }
        },
        {
          "output_type": "stream",
          "name": "stdout",
          "text": [
            "\n"
          ]
        },
        {
          "output_type": "display_data",
          "data": {
            "text/plain": [
              "<Figure size 432x288 with 1 Axes>"
            ],
            "image/png": "[encoded data removed]"
          },
          "metadata": {
            "needs_background": "light"
          }
        }
      ]
    },
    {
      "cell_type": "code",
      "source": [
        "for idx, _sum in enumerate(sentence_length):\n",
        "    if _sum > 1500:\n",
        "        print(\"Outlier Index:\", idx+1)"
      ],
      "metadata": {
        "colab": {
          "base_uri": "https://localhost:8080/"
        },
        "id": "7HJMzWDDZz9U",
        "outputId": "fa76a5f5-876d-411f-e41a-9b0be8b2a777"
      },
      "execution_count": null,
      "outputs": [
        {
          "output_type": "stream",
          "name": "stdout",
          "text": [
            "Outlier Index: 11\n",
            "Outlier Index: 19\n",
            "Outlier Index: 21\n"
          ]
        }
      ]
    },
    {
      "cell_type": "markdown",
      "source": [
        "문장의 수가 1500을 초과하는 문장의 인덱스를 확인한다."
      ],
      "metadata": {
        "id": "kEcloS0z840O"
      }
    },
    {
      "cell_type": "code",
      "source": [
        "def check_sentence_with_length_list(raw, length):\n",
        "    sentence = []\n",
        "    count = 0\n",
        "\n",
        "    for sen in raw:\n",
        "        if len(sen) == length:\n",
        "            sentence.append(sen)\n",
        "            sentence.append('    ')\n",
        "            count += 1\n",
        "            if count > 100: return sentence\n",
        "\n",
        "    return sentence"
      ],
      "metadata": {
        "id": "MGRTaBPv3a_P"
      },
      "execution_count": null,
      "outputs": []
    },
    {
      "cell_type": "code",
      "source": [
        "def check_sentence_with_length_print(raw, length):\n",
        "\n",
        "  sentence = check_sentence_with_length_list(raw, length)\n",
        "\n",
        "  for i in range(0, len(sentence) - 1, 6):\n",
        "    print(str(sentence[i : i+6]).replace(\"[\",\"\").replace(\"]\",\"\").replace(\"'\",\"\").replace(\"\\\\n\",\"\").replace(\",\",\"\"), end='') \n",
        "    if i % 6 == 0:\n",
        "      print()\n",
        "    \n",
        "  for i in range(len(sentence) - 1):\n",
        "    if (i-1) % 6 == 0 and i == len(sentence) - 6:\n",
        "      print(str(sentence[-1]).replace(\"[\",\"\").replace(\"]\",\"\").replace(\"'\",\"\").replace(\"\\\\n\",\"\").replace(\",\",\"\"), end='')"
      ],
      "metadata": {
        "id": "tmZlfG2g75Tw"
      },
      "execution_count": null,
      "outputs": []
    },
    {
      "cell_type": "code",
      "source": [
        "check_sentence_with_length_print(raw, 1)"
      ],
      "metadata": {
        "colab": {
          "base_uri": "https://localhost:8080/"
        },
        "id": "2Uoa1ny89KFG",
        "outputId": "f37ee8f1-0725-4a01-8562-6509a6fb39a5"
      },
      "execution_count": null,
      "outputs": [
        {
          "output_type": "stream",
          "name": "stdout",
          "text": [
            "’     \n"
          ]
        }
      ]
    },
    {
      "cell_type": "markdown",
      "source": [
        "길이가 1인 문장을 출력한다.\n",
        "<br/>아무것도 나오지 않는 결측치이다."
      ],
      "metadata": {
        "id": "F0OeNvEZ_GIo"
      }
    },
    {
      "cell_type": "code",
      "source": [
        "check_sentence_with_length_print(raw, 11)"
      ],
      "metadata": {
        "colab": {
          "base_uri": "https://localhost:8080/"
        },
        "id": "-LJxqr3S8Rbo",
        "outputId": "df79bb59-bb31-472b-f770-d21d65f97cfa"
      },
      "execution_count": null,
      "outputs": [
        {
          "output_type": "stream",
          "name": "stdout",
          "text": [
            "라고 조던이 말했다.      - 모르고 있습니다.      - 네 보이는군요.     \n",
            "디즈니사만이 아니다.      큰 파티는 아니지요.      의자는 비어 있었다.     \n",
            "이 일은 계속됩니다.      나는 크게 실망했다.      그 이유는 간단하다.     \n",
            "이력서와 자기 소개서      시대가 변하고 있다.      는 돌발질문을 했다.     \n",
            "9. 몇 분간의 명상      하와이 빅 아일랜드      키스를 잘 하는 방법     \n",
            "키스를 잘 하는 방법      스피어스가 뚱뚱한가?      산 위를 나는 느낌.     \n",
            "세 시간쯤 걸었을까?      (아직 읽고있습니까?      처음에는 장난이었다.     \n",
            "우리는 운이 좋았다.      아기가 숨을 멈출 때      건물 전체 무너져내려     \n",
            "그녀의 아름다운 눈.      대답은 다음과 같다.      \"사과할 것이 없다.     \n",
            "폭탄테러가 공포 유발      그는 \"잘 모르겠다.      그는 \"잘 모르겠다.     \n",
            "그는 \"잘 모르겠다.      그는 \"잘 모르겠다.      그는 \"잘 모르겠다.     \n",
            "그는 \"잘 모르겠다.      그는 \"잘 모르겠다.      그는 \"잘 모르겠다.     \n",
            "그는 \"잘 모르겠다.      케냐 야생동물 고아원      경유 1200원대로…     \n",
            "더 내려야 하는 이유      케냐 야생동물 고아원      경유 1200원대로…     \n",
            "더 내려야 하는 이유      케냐 야생동물 고아원      경유 1200원대로…     \n",
            "더 내려야 하는 이유      케냐 야생동물 고아원      경유 1200원대로…     \n",
            "더 내려야 하는 이유      케냐 야생동물 고아원      경유 1200원대로…     \n",
            "더 내려야 하는 이유      케냐 야생동물 고아원      경유 1200원대로…     \n",
            "더 내려야 하는 이유      케냐 야생동물 고아원      경유 1200원대로…     \n",
            "더 내려야 하는 이유      케냐 야생동물 고아원      경유 1200원대로…     \n",
            "더 내려야 하는 이유      케냐 야생동물 고아원      경유 1200원대로…     \n",
            "더 내려야 하는 이유      케냐 야생동물 고아원      경유 1200원대로…     \n",
            "더 내려야 하는 이유      케냐 야생동물 고아원      경유 1200원대로…     \n",
            "더 내려야 하는 이유      케냐 야생동물 고아원      경유 1200원대로…     \n",
            "더 내려야 하는 이유      케냐 야생동물 고아원      경유 1200원대로…     \n",
            "더 내려야 하는 이유      케냐 야생동물 고아원      경유 1200원대로…     \n",
            "더 내려야 하는 이유      케냐 야생동물 고아원      경유 1200원대로…     \n",
            "더 내려야 하는 이유      케냐 야생동물 고아원      경유 1200원대로…     \n",
            "더 내려야 하는 이유      케냐 야생동물 고아원      경유 1200원대로…     \n",
            "더 내려야 하는 이유      케냐 야생동물 고아원      경유 1200원대로…     \n",
            "더 내려야 하는 이유      케냐 야생동물 고아원      경유 1200원대로…     \n",
            "더 내려야 하는 이유      케냐 야생동물 고아원      경유 1200원대로…     \n",
            "더 내려야 하는 이유      조금은 새침한 샬롯？      조금은 새침한 샬롯？     \n",
            "케냐 야생동물 고아원      경유 1200원대로…     \n"
          ]
        }
      ]
    },
    {
      "cell_type": "markdown",
      "source": [
        "길이가 11인 문장을 출력한다.\n",
        "<br/>중복된 문장을 확인한다."
      ],
      "metadata": {
        "id": "enl489URaJt8"
      }
    },
    {
      "cell_type": "code",
      "source": [
        "cleaned_corpus = list(set(raw))"
      ],
      "metadata": {
        "id": "qsXrz3mk_x4H"
      },
      "execution_count": null,
      "outputs": []
    },
    {
      "cell_type": "markdown",
      "source": [
        "set을 사용해서 중복을 제거한다."
      ],
      "metadata": {
        "id": "ypn7Pta1_z-f"
      }
    },
    {
      "cell_type": "code",
      "source": [
        "check_sentence_with_length_print(cleaned_corpus, 11)"
      ],
      "metadata": {
        "colab": {
          "base_uri": "https://localhost:8080/"
        },
        "id": "YshcPK0tG3EA",
        "outputId": "bb13fc51-2610-486e-f708-88694cb896c5"
      },
      "execution_count": null,
      "outputs": [
        {
          "output_type": "stream",
          "name": "stdout",
          "text": [
            "비관적인 염세주의의      의자는 비어 있었다.      제발 답변을 주세요!     \n",
            "대답은 다음과 같다.      그들은 신중했습니다.      스피어스가 뚱뚱한가?     \n",
            "건물 전체 무너져내려      끌어내다 철수시키다      hearing 청문회     \n",
            "키스를 잘 하는 방법      - 모르고 있습니다.      원문기사 원문기사보기     \n",
            "폭탄테러가 공포 유발      (정당의) 원내 총무      좀 더 말씀해주시죠.     \n",
            "고 소식통이 전했다.      대통령 후보자의 지명      나는 크게 실망했다.     \n",
            "resign 사퇴하다      levee 제방 둑      meantime 한편     \n",
            "tribunal 법정      raft 다수 다량      Congress 의회     \n",
            "본서 본부 사령부      하와이 빅 아일랜드      크라이슬러. 조업중단     \n",
            "더 내려야 하는 이유      9. 몇 분간의 명상      조금은 새침한 샬롯？     \n",
            "외교통상부 이슬람교도      아기가 숨을 멈출 때      시대가 변하고 있다.     \n",
            "지하철 타기 겁난다.      (아직 읽고있습니까?      큰 파티는 아니지요.     \n",
            "이전 보기 다음 보기      그는 \"잘 모르겠다.      그 이유는 간단하다.     \n",
            "이 일은 계속됩니다.      \"천재 소녀의 부활\"      처음에는 장난이었다.     \n",
            "산 위를 나는 느낌.      pledge 서약하다      standard 표준     \n",
            "경유 1200원대로…      라고 조던이 말했다.      작은 못이 아닙니다.     \n",
            "로그인 Korea사전      우리는 운이 좋았다.      이력서와 자기 소개서     \n",
            "정권을 잡다장악하다      원화 강세 언제까지?      전유를 넣은 카페라떼     \n",
            "세 시간쯤 걸었을까?      케냐 야생동물 고아원      - 네 보이는군요.     \n",
            "미래의 최첨단 사무실      \"사과할 것이 없다.      디즈니사만이 아니다.     \n",
            "는 돌발질문을 했다.      brisk 활기를 띤      를 외치며 기뻐했다.     \n",
            "남한의 객관적 평가?      사업의) 합병 합동      미래 동맹 정책 구상     \n",
            "그녀의 아름다운 눈.     \n"
          ]
        }
      ]
    },
    {
      "cell_type": "code",
      "source": [
        "min_len = 999\n",
        "max_len = 0\n",
        "sum_len = 0\n",
        "\n",
        "print(\"Data Size :\", len(cleaned_corpus))\n",
        "\n",
        "for sen in cleaned_corpus:\n",
        "    length = len(sen)\n",
        "    if min_len > length: min_len = length\n",
        "    if max_len < length: max_len = length\n",
        "    sum_len += length\n",
        "\n",
        "print(\"문장의 최소 길이 :\", min_len)\n",
        "print(\"문장의 최대 길이 :\", max_len)\n",
        "print(\"문장의 평균 길이 :\", sum_len // len(cleaned_corpus))\n",
        "\n",
        "sentence_length = np.zeros((max_len), dtype=np.int)\n",
        "\n",
        "for sen in cleaned_corpus:   # 중복이 제거된 코퍼스 기준\n",
        "    sentence_length[len(sen)-1] += 1\n",
        "\n",
        "\n",
        "print()\n",
        "plt.boxplot(sentence_length)\n",
        "plt.title(\"Sentence Length Boxplot\")\n",
        "plt.show()\n",
        "\n",
        "print()\n",
        "plt.bar(range(max_len), sentence_length, width=1.0)\n",
        "plt.title(\"Sentence Length Distribution\")\n",
        "plt.show()"
      ],
      "metadata": {
        "colab": {
          "base_uri": "https://localhost:8080/",
          "height": 655
        },
        "id": "uv4REYZF_2FX",
        "outputId": "fce14881-5bff-4c75-c1fc-60b1d697df42"
      },
      "execution_count": null,
      "outputs": [
        {
          "output_type": "stream",
          "name": "stdout",
          "text": [
            "Data Size : 77591\n",
            "문장의 최소 길이 : 1\n",
            "문장의 최대 길이 : 377\n",
            "문장의 평균 길이 : 64\n",
            "\n"
          ]
        },
        {
          "output_type": "display_data",
          "data": {
            "text/plain": [
              "<Figure size 432x288 with 1 Axes>"
            ],
            "image/png": "[encoded data removed]"
          },
          "metadata": {
            "needs_background": "light"
          }
        },
        {
          "output_type": "stream",
          "name": "stdout",
          "text": [
            "\n"
          ]
        },
        {
          "output_type": "display_data",
          "data": {
            "text/plain": [
              "<Figure size 432x288 with 1 Axes>"
            ],
            "image/png": "[encoded data removed]"
          },
          "metadata": {
            "needs_background": "light"
          }
        }
      ]
    },
    {
      "cell_type": "code",
      "source": [
        "max_len = 150\n",
        "min_len = 10\n",
        "\n",
        "filtered_corpus = [i for i in cleaned_corpus if (len(i) < max_len) & (len(i) >= min_len)]\n",
        "\n",
        "sentence_length = np.zeros((max_len), dtype=np.int)\n",
        "\n",
        "for sen in filtered_corpus:\n",
        "    sentence_length[len(sen)-1] += 1\n",
        "\n",
        "print()\n",
        "plt.boxplot(sentence_length)\n",
        "plt.title(\"Sentence Length Boxplot\")\n",
        "plt.show()\n",
        "\n",
        "print()\n",
        "plt.bar(range(max_len), sentence_length, width=1.0)\n",
        "plt.title(\"Sentence Length Distribution\")\n",
        "plt.show()"
      ],
      "metadata": {
        "colab": {
          "base_uri": "https://localhost:8080/",
          "height": 582
        },
        "id": "g77KOZ3JB49O",
        "outputId": "5c10f6ca-780d-4bd9-cf02-cb27a0611aaf"
      },
      "execution_count": null,
      "outputs": [
        {
          "output_type": "stream",
          "name": "stdout",
          "text": [
            "\n"
          ]
        },
        {
          "output_type": "display_data",
          "data": {
            "text/plain": [
              "<Figure size 432x288 with 1 Axes>"
            ],
            "image/png": "[encoded data removed]"
          },
          "metadata": {
            "needs_background": "light"
          }
        },
        {
          "output_type": "stream",
          "name": "stdout",
          "text": [
            "\n"
          ]
        },
        {
          "output_type": "display_data",
          "data": {
            "text/plain": [
              "<Figure size 432x288 with 1 Axes>"
            ],
            "image/png": "[encoded data removed]"
          },
          "metadata": {
            "needs_background": "light"
          }
        }
      ]
    },
    {
      "cell_type": "markdown",
      "source": [
        "길이 조건에 맞는 문장을 선택한다.\n",
        "<br/>문장의 최소 길이 10, 최대 길이 150으로 설정한다."
      ],
      "metadata": {
        "id": "n3Mve_00CLxX"
      }
    },
    {
      "cell_type": "markdown",
      "source": [
        "##SentencePiece"
      ],
      "metadata": {
        "id": "DjMV0BhmHCN0"
      }
    },
    {
      "cell_type": "code",
      "source": [
        "temp_file = '/content/drive/MyDrive/lms/sp_tokenizer/korean_parallel_corpora/korean-english-park.train.ko.temp'\n",
        "\n",
        "vocab_size = 8000\n",
        "\n",
        "with open(temp_file, 'w') as f:\n",
        "    for row in cleaned_corpus:   \n",
        "        f.write(str(row) + '\\n')\n",
        "\n",
        "spm.SentencePieceTrainer.Train(\n",
        "    '--input={} --model_prefix=korean_spm --vocab_size={}'.format(temp_file, vocab_size)    \n",
        ")\n",
        "\n",
        "!ls -l korean_spm*"
      ],
      "metadata": {
        "colab": {
          "base_uri": "https://localhost:8080/"
        },
        "id": "0HefWrPrFBEJ",
        "outputId": "d51a7bf3-8ca9-4176-b733-077c218d3d12"
      },
      "execution_count": null,
      "outputs": [
        {
          "output_type": "stream",
          "name": "stdout",
          "text": [
            "-rw-r--r-- 1 root root 376722 Jul  6 00:10 korean_spm.model\n",
            "-rw-r--r-- 1 root root 146141 Jul  6 00:10 korean_spm.vocab\n"
          ]
        }
      ]
    },
    {
      "cell_type": "markdown",
      "source": [
        "corpus를 활용해 sentencepiece 학습한 모델과 단어 사전을 만든다.\n",
        "<br/>Train에서  model_type = 'unigram'이 디폴트 적용된다.\n",
        "<br/>model_type = 'bpe' 로 옵션을 주어 변경할 수 있다."
      ],
      "metadata": {
        "id": "flXCNBAtD_4Q"
      }
    },
    {
      "cell_type": "code",
      "source": [
        "s = spm.SentencePieceProcessor()\n",
        "s.Load('korean_spm.model')"
      ],
      "metadata": {
        "id": "HWIuCLe2HQyS"
      },
      "execution_count": null,
      "outputs": []
    },
    {
      "cell_type": "code",
      "source": [
        "def sentencepiece_process_input(sentence):\n",
        "  number_list = []\n",
        "  sentence_list = []\n",
        "  \n",
        "  for i in range(0, len(sentence), 2):\n",
        "    number_list.append(i)\n",
        "\n",
        "  for i in range(3):\n",
        "    j = int(random.choice(number_list))\n",
        "    sentence_list.append(\"\".join(str(j) for j in sentence[j:j+1]))\n",
        "  return sentence_list"
      ],
      "metadata": {
        "id": "wIpoCylIHfHQ"
      },
      "execution_count": null,
      "outputs": []
    },
    {
      "cell_type": "code",
      "source": [
        "cleaned_sentence_list = check_sentence_with_length_list(cleaned_corpus, 13)\n",
        "sentence = sentencepiece_process_input(cleaned_sentence_list)"
      ],
      "metadata": {
        "id": "s0nSVDorO7U5"
      },
      "execution_count": null,
      "outputs": []
    },
    {
      "cell_type": "code",
      "source": [
        "print(\"Encoding\")\n",
        "for i in sentence:\n",
        "  print(s.EncodeAsIds(i))\n",
        "print()\n",
        "\n",
        "print(\"Encoded Pieces\")\n",
        "for i in sentence:\n",
        "  print(s.SampleEncodeAsPieces(i ,1, 0.0))\n",
        "print()\n",
        "\n",
        "print(\"Decoding\")\n",
        "for i in sentence:\n",
        "  tokensIDs = s.EncodeAsIds(i)\n",
        "  print(s.DecodeIds(tokensIDs))"
      ],
      "metadata": {
        "colab": {
          "base_uri": "https://localhost:8080/"
        },
        "id": "rDuEP9A8PJhh",
        "outputId": "13c02d1f-93a1-44d5-ce0d-0a92fad9003d"
      },
      "execution_count": null,
      "outputs": [
        {
          "output_type": "stream",
          "name": "stdout",
          "text": [
            "Encoding\n",
            "[1627, 983, 7367, 460, 270, 13, 5017]\n",
            "[912, 13, 669, 1156, 1158]\n",
            "[6892, 378, 265, 640, 1471, 5956]\n",
            "\n",
            "Encoded Pieces\n",
            "['▁p', 'le', 'dge', '▁서', '약', ',', '▁공약']\n",
            "['▁은행', ',', '▁인터넷', '▁보안', '▁강화']\n",
            "['▁pre', 'm', 'i', 'er', '▁최초', '▁상영']\n",
            "\n",
            "Decoding\n",
            "pledge 서약, 공약\n",
            "은행, 인터넷 보안 강화\n",
            "premier 최초 상영\n"
          ]
        }
      ]
    },
    {
      "cell_type": "markdown",
      "source": [
        "길이가 13인 문장을 무작위로 3개 추출해 인코딩과 디코딩을 한다."
      ],
      "metadata": {
        "id": "DcAh2gQPSOlZ"
      }
    },
    {
      "cell_type": "markdown",
      "source": [
        "##Tokenizer"
      ],
      "metadata": {
        "id": "58I_8I9yI0fS"
      }
    },
    {
      "cell_type": "code",
      "source": [
        "def sp_tokenize(s, corpus):\n",
        "\n",
        "    tensor = []\n",
        "\n",
        "    for sen in corpus:\n",
        "        tensor.append(s.EncodeAsIds(sen))\n",
        "\n",
        "    with open(\"./korean_spm.vocab\", 'r') as f:\n",
        "        vocab = f.readlines()\n",
        "\n",
        "    word_index = {}\n",
        "    index_word = {}\n",
        "\n",
        "    for idx, line in enumerate(vocab):\n",
        "        word = line.split(\"\\t\")[0]\n",
        "\n",
        "        word_index.update({idx:word})\n",
        "        index_word.update({word:idx})\n",
        "\n",
        "    tensor = tf.keras.preprocessing.sequence.pad_sequences(tensor, padding='post')\n",
        "\n",
        "    return tensor, word_index, index_word"
      ],
      "metadata": {
        "id": "EQjUQZTzI1Xx"
      },
      "execution_count": null,
      "outputs": []
    },
    {
      "cell_type": "code",
      "source": [
        "cleaned_sentence_list = check_sentence_with_length_list(cleaned_corpus, 9)\n",
        "sentence = sentencepiece_process_input(cleaned_sentence_list)"
      ],
      "metadata": {
        "id": "EGwqZ1TAVj67"
      },
      "execution_count": null,
      "outputs": []
    },
    {
      "cell_type": "code",
      "source": [
        "print(sentence)\n",
        "tensor, word_index, index_word = sp_tokenize(s, sentence)\n",
        "print()\n",
        "print(tensor)"
      ],
      "metadata": {
        "colab": {
          "base_uri": "https://localhost:8080/"
        },
        "id": "vLV6DSF7I5r6",
        "outputId": "5b7f7c4f-d0a5-4f1f-f938-7f5494bd0a7d"
      },
      "execution_count": null,
      "outputs": [
        {
          "output_type": "stream",
          "name": "stdout",
          "text": [
            "['내 블로그에 저장', '서식환경, 서식지', '영화 대여 서비스']\n",
            "\n",
            "[[ 120 3171 2150    0    0]\n",
            " [ 460  249 6826   13 6264]\n",
            " [ 210  184  221 1180    0]]\n"
          ]
        }
      ]
    },
    {
      "cell_type": "markdown",
      "source": [
        "길이가 9인 문장을 무작위로 3개 추출해 인코딩한다."
      ],
      "metadata": {
        "id": "D-oUjbYScCXi"
      }
    },
    {
      "cell_type": "code",
      "source": [
        "def word_with_index_print(word_with_index):\n",
        "\n",
        "  r = list(range(len(word_with_index)))\n",
        "  random.shuffle(r)\n",
        "\n",
        "  print(\"Word Index\")\n",
        "\n",
        "  for i in r[:10]:\n",
        "    print(i, ':', word_with_index[i])\n",
        "  print()\n",
        "\n",
        "  print(\"Index Word\")\n",
        "  \n",
        "  for i in r[:10]:\n",
        "    print(word_with_index[i], \":\", i)"
      ],
      "metadata": {
        "id": "igo-UXJKhPIj"
      },
      "execution_count": null,
      "outputs": []
    },
    {
      "cell_type": "code",
      "source": [
        "word_with_index_print(word_index)"
      ],
      "metadata": {
        "colab": {
          "base_uri": "https://localhost:8080/"
        },
        "id": "mTZWbNgJha56",
        "outputId": "aa95a4ea-5082-443b-91d8-d64c6c6b9496"
      },
      "execution_count": null,
      "outputs": [
        {
          "output_type": "stream",
          "name": "stdout",
          "text": [
            "Word Index\n",
            "7700 : 셍\n",
            "1215 : ▁골\n",
            "2538 : ▁확대\n",
            "7612 : 쳇\n",
            "6723 : ▁착수했다\n",
            "2034 : 측은\n",
            "2953 : ▁겪고\n",
            "7763 : 쌀\n",
            "5412 : ▁공개된\n",
            "5086 : 받았다\n",
            "\n",
            "Index Word\n",
            "셍 : 7700\n",
            "▁골 : 1215\n",
            "▁확대 : 2538\n",
            "쳇 : 7612\n",
            "▁착수했다 : 6723\n",
            "측은 : 2034\n",
            "▁겪고 : 2953\n",
            "쌀 : 7763\n",
            "▁공개된 : 5412\n",
            "받았다 : 5086\n"
          ]
        }
      ]
    },
    {
      "cell_type": "markdown",
      "source": [
        "무작위로 word_index와 index_word를 추출한다."
      ],
      "metadata": {
        "id": "tJMp_mBGlvBC"
      }
    },
    {
      "cell_type": "markdown",
      "source": [
        "#Naver sentiment movie corpus"
      ],
      "metadata": {
        "id": "GdPnPQoHAUQ4"
      }
    },
    {
      "cell_type": "markdown",
      "source": [
        "##데이터 정보"
      ],
      "metadata": {
        "id": "PFmGUFfbAhuf"
      }
    },
    {
      "cell_type": "markdown",
      "source": [
        "[Naver sentiment movie corpus v1.0](https://github.com/e9t/nsmc)"
      ],
      "metadata": {
        "id": "N7NmWlUsBk81"
      }
    },
    {
      "cell_type": "markdown",
      "source": [
        "네이버 영화 리뷰 댓글을 웹크롤링한 한국어 말뭉치 데이터셋이다."
      ],
      "metadata": {
        "id": "MxFoMC_Enbvz"
      }
    },
    {
      "cell_type": "markdown",
      "source": [
        "데이터셋 구축 과정은 [Large Movie Review Dataset v1.0](https://ai.stanford.edu/~amaas/data/sentiment/)의 구성 방식에 기초한다. \n",
        "<br/>Large Movie Review Dataset은 IMDB에서 영화 5만편의 작품 리뷰를 웹크롤링한 말뭉치 데이터셋이다.\n",
        "<br/>그 중에 훈련 데이터로 쓰일 2만5천개의 리뷰, 시험 데이터로 쓰일 2만5천개의 리뷰로 구성된다.\n",
        "<br/>그리고 긍정적인 리뷰 2만5천개, 부정적인 리뷰 2만5천개로 구성된다."
      ],
      "metadata": {
        "id": "kkBRM7c3nbye"
      }
    },
    {
      "cell_type": "markdown",
      "source": [
        "데이터셋 분석 결과를 통해 논문 Learning Word Vectors for Sentiment Analysis을 작성했다.\n",
        "<br/>이 데이터로 학습시킨 모델의 성능은 88.89%의 정확도에 달한다."
      ],
      "metadata": {
        "id": "J9UbEyxqnb03"
      }
    },
    {
      "cell_type": "markdown",
      "source": [
        "Naver Sentiment Movie Corpus v1.0(NSMC)은 훈련 데이터로 쓰일 15만개의 리뷰,\n",
        "<br/>시험 데이터로 쓰일 5만개의 리뷰로 구성된다.\n",
        "<br/>그리고 긍정적인 리뷰 1만개, 부정적인 리뷰 1만개로 구성된다."
      ],
      "metadata": {
        "id": "X7wYzJMGnlxL"
      }
    },
    {
      "cell_type": "markdown",
      "source": [
        "모든 리뷰의 글자수는 140자 이하이다.\n",
        "<br/>긍정과 부정의 수치는 1부터 10까지로 정수로 부여한다.\n",
        "<br/>중립적인 의견의 리뷰는 데이터셋에서 제외한다."
      ],
      "metadata": {
        "id": "5fN5LY_rnlz4"
      }
    },
    {
      "cell_type": "markdown",
      "source": [
        "##데이터 탐색"
      ],
      "metadata": {
        "id": "qXb3jzbZAjlH"
      }
    },
    {
      "cell_type": "code",
      "source": [
        "train_data = pd.read_table(\"/content/drive/MyDrive/lms/film_review/ratings_train.txt\")\n",
        "test_data = pd.read_table(\"/content/drive/MyDrive/lms/film_review/ratings_test.txt\")\n",
        "\n",
        "train_data.head()"
      ],
      "metadata": {
        "colab": {
          "base_uri": "https://localhost:8080/",
          "height": 206
        },
        "id": "14_ZE8kwnul7",
        "outputId": "ef297336-49bd-47d3-c5cd-9add8caffca9"
      },
      "execution_count": null,
      "outputs": [
        {
          "output_type": "execute_result",
          "data": {
            "text/plain": [
              "         id                                           document  label\n",
              "0   9976970                                아 더빙.. 진짜 짜증나네요 목소리      0\n",
              "1   3819312                  흠...포스터보고 초딩영화줄....오버연기조차 가볍지 않구나      1\n",
              "2  10265843                                  너무재밓었다그래서보는것을추천한다      0\n",
              "3   9045019                      교도소 이야기구먼 ..솔직히 재미는 없다..평점 조정      0\n",
              "4   6483659  사이몬페그의 익살스런 연기가 돋보였던 영화!스파이더맨에서 늙어보이기만 했던 커스틴 ...      1"
            ],
            "text/html": [
              "\n",
              "  <div id=\"df-8329f8a6-4f1a-4906-83bb-f8c4c060ce64\">\n",
              "    <div class=\"colab-df-container\">\n",
              "      <div>\n",
              "<style scoped>\n",
              "    .dataframe tbody tr th:only-of-type {\n",
              "        vertical-align: middle;\n",
              "    }\n",
              "\n",
              "    .dataframe tbody tr th {\n",
              "        vertical-align: top;\n",
              "    }\n",
              "\n",
              "    .dataframe thead th {\n",
              "        text-align: right;\n",
              "    }\n",
              "</style>\n",
              "<table border=\"1\" class=\"dataframe\">\n",
              "  <thead>\n",
              "    <tr style=\"text-align: right;\">\n",
              "      <th></th>\n",
              "      <th>id</th>\n",
              "      <th>document</th>\n",
              "      <th>label</th>\n",
              "    </tr>\n",
              "  </thead>\n",
              "  <tbody>\n",
              "    <tr>\n",
              "      <th>0</th>\n",
              "      <td>9976970</td>\n",
              "      <td>아 더빙.. 진짜 짜증나네요 목소리</td>\n",
              "      <td>0</td>\n",
              "    </tr>\n",
              "    <tr>\n",
              "      <th>1</th>\n",
              "      <td>3819312</td>\n",
              "      <td>흠...포스터보고 초딩영화줄....오버연기조차 가볍지 않구나</td>\n",
              "      <td>1</td>\n",
              "    </tr>\n",
              "    <tr>\n",
              "      <th>2</th>\n",
              "      <td>10265843</td>\n",
              "      <td>너무재밓었다그래서보는것을추천한다</td>\n",
              "      <td>0</td>\n",
              "    </tr>\n",
              "    <tr>\n",
              "      <th>3</th>\n",
              "      <td>9045019</td>\n",
              "      <td>교도소 이야기구먼 ..솔직히 재미는 없다..평점 조정</td>\n",
              "      <td>0</td>\n",
              "    </tr>\n",
              "    <tr>\n",
              "      <th>4</th>\n",
              "      <td>6483659</td>\n",
              "      <td>사이몬페그의 익살스런 연기가 돋보였던 영화!스파이더맨에서 늙어보이기만 했던 커스틴 ...</td>\n",
              "      <td>1</td>\n",
              "    </tr>\n",
              "  </tbody>\n",
              "</table>\n",
              "</div>\n",
              "      <button class=\"colab-df-convert\" onclick=\"convertToInteractive('df-8329f8a6-4f1a-4906-83bb-f8c4c060ce64')\"\n",
              "              title=\"Convert this dataframe to an interactive table.\"\n",
              "              style=\"display:none;\">\n",
              "        \n",
              "  <svg xmlns=\"http://www.w3.org/2000/svg\" height=\"24px\"viewBox=\"0 0 24 24\"\n",
              "       width=\"24px\">\n",
              "    <path d=\"M0 0h24v24H0V0z\" fill=\"none\"/>\n",
              "    <path d=\"M18.56 5.44l.94 2.06.94-2.06 2.06-.94-2.06-.94-.94-2.06-.94 2.06-2.06.94zm-11 1L8.5 8.5l.94-2.06 2.06-.94-2.06-.94L8.5 2.5l-.94 2.06-2.06.94zm10 10l.94 2.06.94-2.06 2.06-.94-2.06-.94-.94-2.06-.94 2.06-2.06.94z\"/><path d=\"M17.41 7.96l-1.37-1.37c-.4-.4-.92-.59-1.43-.59-.52 0-1.04.2-1.43.59L10.3 9.45l-7.72 7.72c-.78.78-.78 2.05 0 2.83L4 21.41c.39.39.9.59 1.41.59.51 0 1.02-.2 1.41-.59l7.78-7.78 2.81-2.81c.8-.78.8-2.07 0-2.86zM5.41 20L4 18.59l7.72-7.72 1.47 1.35L5.41 20z\"/>\n",
              "  </svg>\n",
              "      </button>\n",
              "      \n",
              "  <style>\n",
              "    .colab-df-container {\n",
              "      display:flex;\n",
              "      flex-wrap:wrap;\n",
              "      gap: 12px;\n",
              "    }\n",
              "\n",
              "    .colab-df-convert {\n",
              "      background-color: #E8F0FE;\n",
              "      border: none;\n",
              "      border-radius: 50%;\n",
              "      cursor: pointer;\n",
              "      display: none;\n",
              "      fill: #1967D2;\n",
              "      height: 32px;\n",
              "      padding: 0 0 0 0;\n",
              "      width: 32px;\n",
              "    }\n",
              "\n",
              "    .colab-df-convert:hover {\n",
              "      background-color: #E2EBFA;\n",
              "      box-shadow: 0px 1px 2px rgba(60, 64, 67, 0.3), 0px 1px 3px 1px rgba(60, 64, 67, 0.15);\n",
              "      fill: #174EA6;\n",
              "    }\n",
              "\n",
              "    [theme=dark] .colab-df-convert {\n",
              "      background-color: #3B4455;\n",
              "      fill: #D2E3FC;\n",
              "    }\n",
              "\n",
              "    [theme=dark] .colab-df-convert:hover {\n",
              "      background-color: #434B5C;\n",
              "      box-shadow: 0px 1px 3px 1px rgba(0, 0, 0, 0.15);\n",
              "      filter: drop-shadow(0px 1px 2px rgba(0, 0, 0, 0.3));\n",
              "      fill: #FFFFFF;\n",
              "    }\n",
              "  </style>\n",
              "\n",
              "      <script>\n",
              "        const buttonEl =\n",
              "          document.querySelector('#df-8329f8a6-4f1a-4906-83bb-f8c4c060ce64 button.colab-df-convert');\n",
              "        buttonEl.style.display =\n",
              "          google.colab.kernel.accessAllowed ? 'block' : 'none';\n",
              "\n",
              "        async function convertToInteractive(key) {\n",
              "          const element = document.querySelector('#df-8329f8a6-4f1a-4906-83bb-f8c4c060ce64');\n",
              "          const dataTable =\n",
              "            await google.colab.kernel.invokeFunction('convertToInteractive',\n",
              "                                                     [key], {});\n",
              "          if (!dataTable) return;\n",
              "\n",
              "          const docLinkHtml = 'Like what you see? Visit the ' +\n",
              "            '<a target=\"_blank\" href=https://colab.research.google.com/notebooks/data_table.ipynb>data table notebook</a>'\n",
              "            + ' to learn more about interactive tables.';\n",
              "          element.innerHTML = '';\n",
              "          dataTable['output_type'] = 'display_data';\n",
              "          await google.colab.output.renderOutput(dataTable, element);\n",
              "          const docLink = document.createElement('div');\n",
              "          docLink.innerHTML = docLinkHtml;\n",
              "          element.appendChild(docLink);\n",
              "        }\n",
              "      </script>\n",
              "    </div>\n",
              "  </div>\n",
              "  "
            ]
          },
          "metadata": {},
          "execution_count": 13
        }
      ]
    },
    {
      "cell_type": "code",
      "source": [
        "train_data['document'].to_csv(\"/content/drive/MyDrive/lms/film_review/sp_tokenizer/train.csv\", index = False)"
      ],
      "metadata": {
        "id": "CUQYNLrGkYmI"
      },
      "execution_count": null,
      "outputs": []
    },
    {
      "cell_type": "markdown",
      "source": [
        "문자열이 포함된 행을 추출하여 데이터프레임을 만든다."
      ],
      "metadata": {
        "id": "wIOCgM9C1qRt"
      }
    },
    {
      "cell_type": "code",
      "source": [
        "with open(\"/content/drive/MyDrive/lms/film_review/sp_tokenizer/train.csv\", \"r\") as f:\n",
        "    raw = f.read().splitlines()\n",
        "\n",
        "movie_raw = raw[1:]\n",
        "print(\"Data Size :\", len(movie_raw))\n",
        "print()\n",
        "print(\"Example\")\n",
        "for sen in movie_raw[:100][::20]: print(\"\", sen)"
      ],
      "metadata": {
        "colab": {
          "base_uri": "https://localhost:8080/"
        },
        "id": "lWMo_zcPpFYU",
        "outputId": "e2aba824-cfea-4fa9-d27c-e6c4e8e9ef74"
      },
      "execution_count": null,
      "outputs": [
        {
          "output_type": "stream",
          "name": "stdout",
          "text": [
            "Data Size : 150000\n",
            "\n",
            "Example\n",
            " 아 더빙.. 진짜 짜증나네요 목소리\n",
            " 나름 심오한 뜻도 있는 듯. 그냥 학생이 선생과 놀아나는 영화는 절대 아님\n",
            " 단순하면서 은은한 매력의 영화\n",
            " 보는내내 그대로 들어맞는 예측 카리스마 없는 악역\n",
            " 뭐냐..시작하고 3분만에 나왔다. 리플릿 사진 보며 불안하더니만..\n"
          ]
        }
      ]
    },
    {
      "cell_type": "code",
      "source": [
        "warnings.filterwarnings(action='ignore')\n",
        "\n",
        "min_len = 999\n",
        "max_len = 0\n",
        "sum_len = 0\n",
        "\n",
        "for sen in movie_raw :\n",
        "    length = len(sen)\n",
        "    if min_len > length: min_len = length\n",
        "    if max_len < length: max_len = length\n",
        "    sum_len += length\n",
        "\n",
        "print(\"문장의 최소 길이 :\", min_len)\n",
        "print(\"문장의 최대 길이 :\", max_len)\n",
        "print(\"문장의 평균 길이 :\", sum_len // len(movie_raw))\n",
        "\n",
        "sentence_length = np.zeros((max_len), dtype=np.int)\n",
        "\n",
        "for sen in movie_raw:\n",
        "    sentence_length[len(sen)-1] += 1\n",
        "\n",
        "print()\n",
        "plt.boxplot(sentence_length)\n",
        "plt.title(\"Sentence Length Boxplot\")\n",
        "plt.show()\n",
        "\n",
        "print()\n",
        "plt.bar(range(max_len), sentence_length, width=1.0)\n",
        "plt.title(\"Sentence Length Distribution\")\n",
        "plt.show()"
      ],
      "metadata": {
        "colab": {
          "base_uri": "https://localhost:8080/",
          "height": 636
        },
        "id": "_lXr2WODlzTY",
        "outputId": "b9fbf418-7828-4a62-dbc6-95cc0ff11e33"
      },
      "execution_count": null,
      "outputs": [
        {
          "output_type": "stream",
          "name": "stdout",
          "text": [
            "문장의 최소 길이 : 1\n",
            "문장의 최대 길이 : 158\n",
            "문장의 평균 길이 : 35\n",
            "\n"
          ]
        },
        {
          "output_type": "display_data",
          "data": {
            "text/plain": [
              "<Figure size 432x288 with 1 Axes>"
            ],
            "image/png": "[encoded data removed]"
          },
          "metadata": {
            "needs_background": "light"
          }
        },
        {
          "output_type": "stream",
          "name": "stdout",
          "text": [
            "\n"
          ]
        },
        {
          "output_type": "display_data",
          "data": {
            "text/plain": [
              "<Figure size 432x288 with 1 Axes>"
            ],
            "image/png": "[encoded data removed]"
          },
          "metadata": {
            "needs_background": "light"
          }
        }
      ]
    },
    {
      "cell_type": "markdown",
      "source": [
        "##SentencePiece"
      ],
      "metadata": {
        "id": "01xoBbJHAokP"
      }
    },
    {
      "cell_type": "markdown",
      "source": [
        "###Corpus"
      ],
      "metadata": {
        "id": "OlFQNn5YFmEQ"
      }
    },
    {
      "cell_type": "markdown",
      "source": [
        "[kowiki.txt](https://paul-hyun.github.io/nlp-tutorial-02-02-tokenizer/)"
      ],
      "metadata": {
        "id": "dvUGpyXIPdM2"
      }
    },
    {
      "cell_type": "markdown",
      "source": [
        "한글 [나무위키](https://namu.wiki/w/%EB%82%98%EB%AC%B4%EC%9C%84%ED%82%A4:%EB%8C%80%EB%AC%B8) 코퍼스이다."
      ],
      "metadata": {
        "id": "oJ7TeO-ZFBlv"
      }
    },
    {
      "cell_type": "code",
      "source": [
        "path_to_file = \"/content/drive/MyDrive/lms/sp_tokenizer/kowikitext/kowiki.txt\"\n",
        "\n",
        "with open(path_to_file, \"r\") as f:\n",
        "    kowiki = f.read().splitlines()\n",
        "\n",
        "print(\"Data Size :\", len(kowiki))\n",
        "print()\n",
        "print(\"Example\")\n",
        "for sen in kowiki[80:81]:\n",
        "    print(\"\", sen)"
      ],
      "metadata": {
        "colab": {
          "base_uri": "https://localhost:8080/"
        },
        "id": "XQ4ww2LvE9kf",
        "outputId": "e0b2daaf-4c31-4cc1-ecda-8484f4f4e354"
      },
      "execution_count": null,
      "outputs": [
        {
          "output_type": "stream",
          "name": "stdout",
          "text": [
            "Data Size : 3724342\n",
            "\n",
            "Example\n",
            " 아마도 통제 된 방식으로 사용 된 최초의 화학 반응은 불이였다. 그러나 천년 동안 불는 단순히 열과 빛을 생성하면서 한 물질을 다른 물질 (타는 나무 또는 끓는 물)로 변형시킬 수있는 신비한 힘으로만 알려졌다. 불는 초기 사회의 여러 측면에 영향을 미쳤다. 이들은 요리 및 서식지 조명과 같은 일상 생활의 가장 단순한면에서 도기, 벽돌 및 금속을 녹여 도구를 만드는 것과 같은 고급 기술에 이르기까지 다양했다.\n"
          ]
        }
      ]
    },
    {
      "cell_type": "markdown",
      "source": [
        "###Pretrained Model"
      ],
      "metadata": {
        "id": "1zo-5GapyzzR"
      }
    },
    {
      "cell_type": "code",
      "source": [
        "corpus = \"/content/drive/MyDrive/lms/sp_tokenizer/kowikitext/kowiki.txt\"\n",
        "prefix = \"kowiki\"\n",
        "vocab_size = 8000\n",
        "spm.SentencePieceTrainer.train(\n",
        "    f\"--input={corpus} --model_prefix={prefix} --vocab_size={vocab_size + 7}\" + \n",
        "    \" --model_type=bpe\" +\n",
        "    \" --max_sentence_length=999999\" + \n",
        "    \" --pad_id=0 --pad_piece=[PAD]\" + \n",
        "    \" --unk_id=1 --unk_piece=[UNK]\" + \n",
        "    \" --bos_id=2 --bos_piece=[BOS]\" + \n",
        "    \" --eos_id=3 --eos_piece=[EOS]\" + \n",
        "    \" --user_defined_symbols=[SEP],[CLS],[MASK]\") "
      ],
      "metadata": {
        "id": "9t5L_n5XtrUx"
      },
      "execution_count": null,
      "outputs": []
    },
    {
      "cell_type": "markdown",
      "source": [
        "corpus는 학습용 말뭉치이다.\n",
        "<br/>prefix는 저장할 vocab 이름이다.\n",
        "<br/>vocab_size에 7를 더한다. 7은 특수문자 개수이다.\n",
        "<br/>model_type은 bpe이다.\n",
        "<br/>max_sentence_length를 default 999999로 설정한다.\n",
        "<br/>token은 [PAD], [UNK], [BOS], [EOS], [SEP], [CLS], [MASK]으로 구성된다.\n",
        "<br/>pad_id는 0, unk_id는 1, bos_id는 2, eos_id는 3으로 설정한다.\n",
        "<br/>bos는 begin of sequence, eos는 end of sequence를 의미한다.\n",
        "<br/>user_defined_symbols는 모델 구성을 위한 [SEP] : 4, [CLS] : 5, [MASK] : 6으로 설정한다."
      ],
      "metadata": {
        "id": "wja18nrq7TDU"
      }
    },
    {
      "cell_type": "code",
      "source": [
        "vocab = spm.SentencePieceProcessor()\n",
        "vocab.load(\"kowiki.model\")"
      ],
      "metadata": {
        "id": "5aHRDFdu30H8"
      },
      "execution_count": null,
      "outputs": []
    },
    {
      "cell_type": "code",
      "source": [
        "sentence_list = check_sentence_with_length_list(movie_raw, 19)\n",
        "sentence = sentencepiece_process_input(sentence_list)"
      ],
      "metadata": {
        "id": "MaLe4saU4WcK"
      },
      "execution_count": null,
      "outputs": []
    },
    {
      "cell_type": "code",
      "source": [
        "for line in sentence:\n",
        "  pieces = vocab.encode_as_pieces(line)\n",
        "  ids = vocab.encode_as_ids(line)\n",
        "  print(line)\n",
        "  print(pieces)\n",
        "  print(ids)\n",
        "  print()"
      ],
      "metadata": {
        "colab": {
          "base_uri": "https://localhost:8080/"
        },
        "id": "eDif-RFg38rq",
        "outputId": "b4ee347c-9ad3-411e-bb82-80672f68e0e0"
      },
      "execution_count": null,
      "outputs": [
        {
          "output_type": "stream",
          "name": "stdout",
          "text": [
            "기대이상으로 사랑스러운 영화네 ㅋㅋ\n",
            "['▁기', '대', '이', '상으로', '▁사랑', '스', '러운', '▁영화', '네', '▁', 'ᄏ', 'ᄏ']\n",
            "[23, 3612, 3588, 1300, 1421, 3618, 2615, 339, 3857, 3587, 7112, 7112]\n",
            "\n",
            "안보면 인생을 낭비하는 것과 같다.\n",
            "['▁안', '보', '면', '▁인', '생', '을', '▁', '낭', '비', '하는', '▁것과', '▁같다', '.']\n",
            "[176, 3666, 3693, 44, 3737, 3598, 3587, 4427, 3684, 38, 2405, 533, 3590]\n",
            "\n",
            "Sf영화에서 안좋은 모든 것을 갖춤\n",
            "['▁S', 'f', '영화', '에서', '▁안', '좋', '은', '▁모든', '▁것을', '▁갖', '춤']\n",
            "[225, 3854, 2275, 10, 176, 4151, 3604, 487, 341, 570, 4538]\n",
            "\n"
          ]
        }
      ]
    },
    {
      "cell_type": "markdown",
      "source": [
        "길이가 19인 문장을 무작위로 3개 추출해 토크나이징과 인코딩을 한다."
      ],
      "metadata": {
        "id": "f0-g1CVY5B5U"
      }
    },
    {
      "cell_type": "code",
      "source": [
        "def prepare_train(vocab, infile, outfile):\n",
        "    df = pd.read_csv(infile, sep=\"\\t\", engine=\"python\")\n",
        "    with open(outfile, \"w\") as f:\n",
        "        for index, row in df.iterrows():\n",
        "            document = row[\"document\"]\n",
        "            if type(document) != str:\n",
        "                continue\n",
        "            instance = { \"id\": row[\"id\"], \"doc\": vocab.encode_as_pieces(document), \"label\": row[\"label\"] }\n",
        "            f.write(json.dumps(instance))\n",
        "            f.write(\"\\n\")"
      ],
      "metadata": {
        "id": "6iHav1CohwQv"
      },
      "execution_count": null,
      "outputs": []
    },
    {
      "cell_type": "code",
      "source": [
        "prepare_train(vocab, \"/content/drive/MyDrive/lms/film_review/ratings_train.txt\",\n",
        "              \"/content/drive/MyDrive/lms/sp_tokenizer/film_review/sentencepiece_ratings_train.json\")\n",
        "\n",
        "prepare_train(vocab, \"/content/drive/MyDrive/lms/film_review/ratings_test.txt\",\n",
        "              \"/content/drive/MyDrive/lms/sp_tokenizer/film_review/sentencepiece_ratings_test.json\")"
      ],
      "metadata": {
        "id": "bpEdp8Tsh4gs"
      },
      "execution_count": null,
      "outputs": []
    },
    {
      "cell_type": "markdown",
      "source": [
        " ### Config"
      ],
      "metadata": {
        "id": "tr4g0g5DDFK8"
      }
    },
    {
      "cell_type": "code",
      "source": [
        "class Config(dict): \n",
        "    __getattr__ = dict.__getitem__\n",
        "    __setattr__ = dict.__setitem__\n",
        "\n",
        "    @classmethod\n",
        "    def load(cls, file):\n",
        "        with open(file, 'r') as f:\n",
        "            config = json.loads(f.read())\n",
        "            return Config(config)"
      ],
      "metadata": {
        "id": "lGFIMEZ9Ssm0"
      },
      "execution_count": null,
      "outputs": []
    },
    {
      "cell_type": "code",
      "source": [
        "config = Config({\n",
        "    \"n_dec_vocab\": len(vocab),\n",
        "    \"n_dec_seq\": 256,\n",
        "    \"n_layer\": 6,\n",
        "    \"d_hidn\": 256,\n",
        "    \"i_pad\": 0,\n",
        "    \"d_ff\": 1024,\n",
        "    \"n_head\": 4,\n",
        "    \"d_head\": 64,\n",
        "    \"dropout\": 0.1,\n",
        "    \"layer_norm_epsilon\": 1e-12\n",
        "})\n",
        "print(config)"
      ],
      "metadata": {
        "colab": {
          "base_uri": "https://localhost:8080/"
        },
        "id": "pRYKZ7hoRy6k",
        "outputId": "27ffba48-ef1c-49fd-a68d-33a3601a0021"
      },
      "execution_count": null,
      "outputs": [
        {
          "output_type": "stream",
          "name": "stdout",
          "text": [
            "{'n_dec_vocab': 8007, 'n_dec_seq': 256, 'n_layer': 6, 'd_hidn': 256, 'i_pad': 0, 'd_ff': 1024, 'n_head': 4, 'd_head': 64, 'dropout': 0.1, 'layer_norm_epsilon': 1e-12}\n"
          ]
        }
      ]
    },
    {
      "cell_type": "markdown",
      "source": [
        "###Common Class"
      ],
      "metadata": {
        "id": "XZ-9fIKuTC0k"
      }
    },
    {
      "cell_type": "code",
      "source": [
        "def get_sinusoid_encoding_table(n_seq, d_hidn):\n",
        "    def cal_angle(position, i_hidn):\n",
        "        return position / np.power(10000, 2 * (i_hidn // 2) / d_hidn)\n",
        "    def get_posi_angle_vec(position):\n",
        "        return [cal_angle(position, i_hidn) for i_hidn in range(d_hidn)]\n",
        "\n",
        "    sinusoid_table = np.array([get_posi_angle_vec(i_seq) for i_seq in range(n_seq)])\n",
        "    sinusoid_table[:, 0::2] = np.sin(sinusoid_table[:, 0::2])  # even index sin \n",
        "    sinusoid_table[:, 1::2] = np.cos(sinusoid_table[:, 1::2])  # odd index cos\n",
        "\n",
        "    return sinusoid_table"
      ],
      "metadata": {
        "id": "gIhlykQ5Ry9b"
      },
      "execution_count": null,
      "outputs": []
    },
    {
      "cell_type": "code",
      "source": [
        "def get_attn_pad_mask(seq_q, seq_k, i_pad):\n",
        "    batch_size, len_q = seq_q.size()\n",
        "    batch_size, len_k = seq_k.size()\n",
        "    pad_attn_mask = seq_k.data.eq(i_pad).unsqueeze(1).expand(batch_size, len_q, len_k)  # <pad>\n",
        "    return pad_attn_mask"
      ],
      "metadata": {
        "id": "hwEzg9B5Ry_l"
      },
      "execution_count": null,
      "outputs": []
    },
    {
      "cell_type": "code",
      "source": [
        "def get_attn_decoder_mask(seq):\n",
        "    subsequent_mask = torch.ones_like(seq).unsqueeze(-1).expand(seq.size(0), seq.size(1), seq.size(1))\n",
        "    subsequent_mask = subsequent_mask.triu(diagonal=1) # upper triangular part of a matrix(2-D)\n",
        "    return subsequent_mask"
      ],
      "metadata": {
        "id": "BCaRphafRzB4"
      },
      "execution_count": null,
      "outputs": []
    },
    {
      "cell_type": "code",
      "source": [
        "class ScaledDotProductAttention(nn.Module):\n",
        "    def __init__(self, config):\n",
        "        super().__init__()\n",
        "        self.config = config\n",
        "        self.dropout = nn.Dropout(config.dropout)\n",
        "        self.scale = 1 / (self.config.d_head ** 0.5)\n",
        "    \n",
        "    def forward(self, Q, K, V, attn_mask):\n",
        "        # (bs, n_head, n_q_seq, n_k_seq)\n",
        "        scores = torch.matmul(Q, K.transpose(-1, -2)).mul_(self.scale)\n",
        "        scores.masked_fill_(attn_mask, -1e9)\n",
        "        # (bs, n_head, n_q_seq, n_k_seq)\n",
        "        attn_prob = nn.Softmax(dim=-1)(scores)\n",
        "        attn_prob = self.dropout(attn_prob)\n",
        "        # (bs, n_head, n_q_seq, d_v)\n",
        "        context = torch.matmul(attn_prob, V)\n",
        "        # (bs, n_head, n_q_seq, d_v), (bs, n_head, n_q_seq, n_v_seq)\n",
        "        return context, attn_prob"
      ],
      "metadata": {
        "id": "4atMQ_YwRzEZ"
      },
      "execution_count": null,
      "outputs": []
    },
    {
      "cell_type": "code",
      "source": [
        "class MultiHeadAttention(nn.Module):\n",
        "    def __init__(self, config):\n",
        "        super().__init__()\n",
        "        self.config = config\n",
        "\n",
        "        self.W_Q = nn.Linear(self.config.d_hidn, self.config.n_head * self.config.d_head)\n",
        "        self.W_K = nn.Linear(self.config.d_hidn, self.config.n_head * self.config.d_head)\n",
        "        self.W_V = nn.Linear(self.config.d_hidn, self.config.n_head * self.config.d_head)\n",
        "        self.scaled_dot_attn = ScaledDotProductAttention(self.config)\n",
        "        self.linear = nn.Linear(self.config.n_head * self.config.d_head, self.config.d_hidn)\n",
        "        self.dropout = nn.Dropout(config.dropout)\n",
        "    \n",
        "    def forward(self, Q, K, V, attn_mask):\n",
        "        batch_size = Q.size(0)\n",
        "        # (bs, n_head, n_q_seq, d_head)\n",
        "        q_s = self.W_Q(Q).view(batch_size, -1, self.config.n_head, self.config.d_head).transpose(1,2)\n",
        "        # (bs, n_head, n_k_seq, d_head)\n",
        "        k_s = self.W_K(K).view(batch_size, -1, self.config.n_head, self.config.d_head).transpose(1,2)\n",
        "        # (bs, n_head, n_v_seq, d_head)\n",
        "        v_s = self.W_V(V).view(batch_size, -1, self.config.n_head, self.config.d_head).transpose(1,2)\n",
        "\n",
        "        # (bs, n_head, n_q_seq, n_k_seq)\n",
        "        attn_mask = attn_mask.unsqueeze(1).repeat(1, self.config.n_head, 1, 1)\n",
        "\n",
        "        # (bs, n_head, n_q_seq, d_head), (bs, n_head, n_q_seq, n_k_seq)\n",
        "        context, attn_prob = self.scaled_dot_attn(q_s, k_s, v_s, attn_mask)\n",
        "        # (bs, n_head, n_q_seq, h_head * d_head)\n",
        "        context = context.transpose(1, 2).contiguous().view(batch_size, -1, self.config.n_head * self.config.d_head)\n",
        "        # (bs, n_head, n_q_seq, e_embd)\n",
        "        output = self.linear(context)\n",
        "        output = self.dropout(output)\n",
        "        # (bs, n_q_seq, d_hidn), (bs, n_head, n_q_seq, n_k_seq)\n",
        "        return output, attn_prob"
      ],
      "metadata": {
        "id": "uodP_Z7CRzGn"
      },
      "execution_count": null,
      "outputs": []
    },
    {
      "cell_type": "code",
      "source": [
        "class PoswiseFeedForwardNet(nn.Module):\n",
        "    def __init__(self, config):\n",
        "        super().__init__()\n",
        "        self.config = config\n",
        "\n",
        "        self.conv1 = nn.Conv1d(in_channels=self.config.d_hidn, out_channels=self.config.d_ff, kernel_size=1)\n",
        "        self.conv2 = nn.Conv1d(in_channels=self.config.d_ff, out_channels=self.config.d_hidn, kernel_size=1)\n",
        "        self.active = F.gelu\n",
        "        self.dropout = nn.Dropout(config.dropout)\n",
        "\n",
        "    def forward(self, inputs):\n",
        "        # (bs, d_ff, n_seq)\n",
        "        output = self.active(self.conv1(inputs.transpose(1, 2)))\n",
        "        # (bs, n_seq, d_hidn)\n",
        "        output = self.conv2(output).transpose(1, 2)\n",
        "        output = self.dropout(output)\n",
        "        # (bs, n_seq, d_hidn)\n",
        "        return output"
      ],
      "metadata": {
        "id": "BHxoND5CS-18"
      },
      "execution_count": null,
      "outputs": []
    },
    {
      "cell_type": "markdown",
      "source": [
        "###Decoder"
      ],
      "metadata": {
        "id": "idkWUQnDS_hc"
      }
    },
    {
      "cell_type": "code",
      "source": [
        "class DecoderLayer(nn.Module):\n",
        "    def __init__(self, config):\n",
        "        super().__init__()\n",
        "        self.config = config\n",
        "\n",
        "        self.self_attn = MultiHeadAttention(self.config)\n",
        "        self.layer_norm1 = nn.LayerNorm(self.config.d_hidn, eps=self.config.layer_norm_epsilon)\n",
        "        self.pos_ffn = PoswiseFeedForwardNet(self.config)\n",
        "        self.layer_norm3 = nn.LayerNorm(self.config.d_hidn, eps=self.config.layer_norm_epsilon)\n",
        "    \n",
        "    def forward(self, dec_inputs, self_attn_mask):\n",
        "        # (bs, n_dec_seq, d_hidn), (bs, n_head, n_dec_seq, n_dec_seq)\n",
        "        self_att_outputs, self_attn_prob = self.self_attn(dec_inputs, dec_inputs, dec_inputs, self_attn_mask)\n",
        "        self_att_outputs = self.layer_norm1(dec_inputs + self_att_outputs)\n",
        "        # (bs, n_dec_seq, d_hidn)\n",
        "        ffn_outputs = self.pos_ffn(self_att_outputs)\n",
        "        ffn_outputs = self.layer_norm3(self_att_outputs + ffn_outputs)\n",
        "        # (bs, n_dec_seq, d_hidn), (bs, n_head, n_dec_seq, n_dec_seq), (bs, n_head, n_dec_seq, n_enc_seq)\n",
        "        return ffn_outputs, self_attn_prob"
      ],
      "metadata": {
        "id": "rCNiGr7JTQD9"
      },
      "execution_count": null,
      "outputs": []
    },
    {
      "cell_type": "code",
      "source": [
        "class Decoder(nn.Module):\n",
        "    def __init__(self, config):\n",
        "        super().__init__()\n",
        "        self.config = config\n",
        "\n",
        "        self.dec_emb = nn.Embedding(self.config.n_dec_vocab, self.config.d_hidn)\n",
        "        sinusoid_table = torch.FloatTensor(get_sinusoid_encoding_table(self.config.n_dec_seq + 1, self.config.d_hidn))\n",
        "        self.pos_emb = nn.Embedding.from_pretrained(sinusoid_table, freeze=True)\n",
        "\n",
        "        self.layers = nn.ModuleList([DecoderLayer(self.config) for _ in range(self.config.n_layer)])\n",
        "    \n",
        "    def forward(self, dec_inputs):\n",
        "        positions = torch.arange(dec_inputs.size(1), device=dec_inputs.device, dtype=dec_inputs.dtype).expand(dec_inputs.size(0), dec_inputs.size(1)).contiguous() + 1\n",
        "        pos_mask = dec_inputs.eq(self.config.i_pad)\n",
        "        positions.masked_fill_(pos_mask, 0)\n",
        "    \n",
        "        # (bs, n_dec_seq, d_hidn)\n",
        "        dec_outputs = self.dec_emb(dec_inputs) + self.pos_emb(positions)\n",
        "\n",
        "        # (bs, n_dec_seq, n_dec_seq)\n",
        "        dec_attn_pad_mask = get_attn_pad_mask(dec_inputs, dec_inputs, self.config.i_pad)\n",
        "        # (bs, n_dec_seq, n_dec_seq)\n",
        "        dec_attn_decoder_mask = get_attn_decoder_mask(dec_inputs)\n",
        "        # (bs, n_dec_seq, n_dec_seq)\n",
        "        dec_self_attn_mask = torch.gt((dec_attn_pad_mask + dec_attn_decoder_mask), 0)\n",
        "\n",
        "        self_attn_probs = []\n",
        "        for layer in self.layers:\n",
        "            # (bs, n_dec_seq, d_hidn), (bs, n_dec_seq, n_dec_seq)\n",
        "            dec_outputs, self_attn_prob = layer(dec_outputs, dec_self_attn_mask)\n",
        "            self_attn_probs.append(self_attn_prob)\n",
        "        # (bs, n_dec_seq, d_hidn), [(bs, n_dec_seq, n_dec_seq)]\n",
        "        return dec_outputs, self_attn_probs"
      ],
      "metadata": {
        "id": "ao7EP-tfTQGG"
      },
      "execution_count": null,
      "outputs": []
    },
    {
      "cell_type": "markdown",
      "source": [
        "### GPT-1"
      ],
      "metadata": {
        "id": "F63m-8n4TZMd"
      }
    },
    {
      "cell_type": "code",
      "source": [
        "Image(filename='/content/drive/MyDrive/lms/sp_tokenizer/gpt-1.png') "
      ],
      "metadata": {
        "colab": {
          "base_uri": "https://localhost:8080/",
          "height": 349
        },
        "id": "3j_dlkIhyCcd",
        "outputId": "67db69fa-dd28-453e-a12b-095701d1e5eb"
      },
      "execution_count": null,
      "outputs": [
        {
          "output_type": "execute_result",
          "data": {
            "text/plain": [
              "<IPython.core.display.Image object>"
            ],
            "image/png": "[encoded data removed]"
          },
          "metadata": {},
          "execution_count": 4
        }
      ]
    },
    {
      "cell_type": "code",
      "source": [
        "class GPT(nn.Module):\n",
        "    def __init__(self, config):\n",
        "        super().__init__()\n",
        "        self.config = config\n",
        "\n",
        "        self.decoder = Decoder(self.config)\n",
        "    \n",
        "    def forward(self, dec_inputs):\n",
        "        # (bs, n_seq, d_hidn), [(bs, n_head, n_dec_seq, n_dec_seq)]\n",
        "        dec_outputs, dec_self_attn_probs = self.decoder(dec_inputs)\n",
        "        # (bs, n_dec_seq, n_dec_vocab), [(bs, n_head, n_dec_seq, n_dec_seq)]\n",
        "        return dec_outputs, dec_self_attn_probs\n",
        "    \n",
        "    def save(self, epoch, loss, path):\n",
        "        torch.save({\n",
        "            \"epoch\": epoch,\n",
        "            \"loss\": loss,\n",
        "            \"state_dict\": self.state_dict()\n",
        "        }, path)\n",
        "    \n",
        "    def load(self, path):\n",
        "        save = torch.load(path)\n",
        "        self.load_state_dict(save[\"state_dict\"])\n",
        "        return save[\"epoch\"], save[\"loss\"]"
      ],
      "metadata": {
        "id": "jVI-9oPxTQKd"
      },
      "execution_count": null,
      "outputs": []
    },
    {
      "cell_type": "code",
      "source": [
        "class MovieClassification(nn.Module):\n",
        "    def __init__(self, config):\n",
        "        super().__init__()\n",
        "        self.config = config\n",
        "\n",
        "        self.gpt = GPT(self.config)\n",
        "        # lm\n",
        "        self.projection_lm = nn.Linear(self.config.d_hidn, self.config.n_dec_vocab, bias=False)\n",
        "        self.projection_lm.weight = self.gpt.decoder.dec_emb.weight\n",
        "        # classfier\n",
        "        self.projection_cls = nn.Linear(self.config.d_hidn, self.config.n_output, bias=False)\n",
        "    \n",
        "    def forward(self, dec_inputs):\n",
        "        # (bs, n_dec_seq, d_hidn), [(bs, n_head, n_dec_seq, n_dec_seq)]\n",
        "        dec_outputs, dec_self_attn_probs = self.gpt(dec_inputs)\n",
        "        # (bs, n_dec_seq, n_dec_vocab)\n",
        "        logits_lm = self.projection_lm(dec_outputs)\n",
        "        # (bs, d_hidn)\n",
        "        dec_outputs = dec_outputs[:, -1].contiguous()\n",
        "        # (bs, n_output)\n",
        "        logits_cls = self.projection_cls(dec_outputs)\n",
        "        # (bs, n_dec_seq - 1, n_dec_vocab), (bs, n_output), [(bs, n_head, n_dec_seq, n_dec_seq)]\n",
        "        return logits_lm[:, :-1, :].contiguous(), logits_cls, dec_self_attn_probs"
      ],
      "metadata": {
        "id": "2JnaNJet0nno"
      },
      "execution_count": null,
      "outputs": []
    },
    {
      "cell_type": "markdown",
      "source": [
        "###Data Loader"
      ],
      "metadata": {
        "id": "xj2o2l87VAfl"
      }
    },
    {
      "cell_type": "code",
      "source": [
        "class MovieDataSet(torch.utils.data.Dataset):\n",
        "    def __init__(self, vocab, infile):\n",
        "        self.vocab = vocab\n",
        "        self.labels = []\n",
        "        self.sentences = []\n",
        "\n",
        "        line_cnt = 0\n",
        "        with open(infile, \"r\") as f:\n",
        "            for line in f:\n",
        "                line_cnt += 1\n",
        "\n",
        "        with open(infile, \"r\") as f:\n",
        "            for i, line in enumerate(tqdm(f, total=line_cnt, desc=f\"Loading {infile}\", unit=\" lines\")):\n",
        "                data = json.loads(line)\n",
        "                self.labels.append(data[\"label\"])\n",
        "                self.sentences.append([vocab.piece_to_id(\"[BOS]\")] + [vocab.piece_to_id(p) for p in data[\"doc\"]] + [vocab.piece_to_id(\"[EOS]\")])\n",
        "    \n",
        "    def __len__(self):\n",
        "        assert len(self.labels) == len(self.sentences)\n",
        "        return len(self.labels)\n",
        "    \n",
        "    def __getitem__(self, item):\n",
        "        return (torch.tensor(self.labels[item]),\n",
        "                torch.tensor(self.sentences[item]))"
      ],
      "metadata": {
        "id": "GSnojfW6jrYd"
      },
      "execution_count": null,
      "outputs": []
    },
    {
      "cell_type": "code",
      "source": [
        "def movie_collate_fn(inputs):\n",
        "    labels, dec_inputs = list(zip(*inputs))\n",
        "\n",
        "    dec_inputs = torch.nn.utils.rnn.pad_sequence(dec_inputs, batch_first=True, padding_value=0)\n",
        "\n",
        "    batch = [\n",
        "        torch.stack(labels, dim=0),\n",
        "        dec_inputs,\n",
        "    ]\n",
        "    return batch"
      ],
      "metadata": {
        "id": "pqzQctDgj0w-"
      },
      "execution_count": null,
      "outputs": []
    },
    {
      "cell_type": "code",
      "source": [
        "batch_size = 128\n",
        "train_dataset = MovieDataSet(vocab, \"/content/drive/MyDrive/lms/sp_tokenizer/film_review/sentencepiece_ratings_train.json\")\n",
        "train_loader = torch.utils.data.DataLoader(train_dataset, batch_size=batch_size,\n",
        "                                           shuffle=True, collate_fn=movie_collate_fn)\n",
        "\n",
        "test_dataset = MovieDataSet(vocab, \"/content/drive/MyDrive/lms/sp_tokenizer/film_review/sentencepiece_ratings_test.json\")\n",
        "test_loader = torch.utils.data.DataLoader(test_dataset, batch_size=batch_size,\n",
        "                                          shuffle=False, collate_fn=movie_collate_fn)"
      ],
      "metadata": {
        "colab": {
          "base_uri": "https://localhost:8080/"
        },
        "id": "eJyQ33pAUXi8",
        "outputId": "e30008af-d3bb-43d4-e0ce-178070d0ec91"
      },
      "execution_count": null,
      "outputs": [
        {
          "output_type": "stream",
          "name": "stderr",
          "text": [
            "Loading /content/drive/MyDrive/lms/sp_tokenizer/film_review/ratings_train.json: 100%|██████████| 149995/149995 [00:05<00:00, 28494.57 lines/s]\n",
            "Loading /content/drive/MyDrive/lms/sp_tokenizer/film_review/ratings_test.json: 100%|██████████| 49997/49997 [00:01<00:00, 25804.78 lines/s]\n"
          ]
        }
      ]
    },
    {
      "cell_type": "markdown",
      "source": [
        "###모델 학습"
      ],
      "metadata": {
        "id": "WKUJ1l-oWEGN"
      }
    },
    {
      "cell_type": "code",
      "source": [
        "def train_epoch(config, epoch, model, criterion_cls, optimizer, train_loader):\n",
        "    losses = []\n",
        "    model.train()\n",
        "\n",
        "    with tqdm(total=len(train_loader), desc=f\"Train({epoch})\") as pbar:\n",
        "        for i, value in enumerate(train_loader):\n",
        "            labels, dec_inputs = map(lambda v: v.to(config.device), value)\n",
        "\n",
        "            optimizer.zero_grad()\n",
        "            outputs = model(dec_inputs)\n",
        "            logits_cls = outputs[1]\n",
        "\n",
        "            loss_cls = criterion_cls(logits_cls, labels)\n",
        "            loss = loss_cls\n",
        "\n",
        "            loss_val = loss_cls.item()\n",
        "            losses.append(loss_val)\n",
        "\n",
        "            loss.backward()\n",
        "            optimizer.step()\n",
        "\n",
        "            pbar.update(1)\n",
        "            pbar.set_postfix_str(f\"Loss: {loss_val:.3f} ({np.mean(losses):.3f})\")\n",
        "    return np.mean(losses)"
      ],
      "metadata": {
        "id": "nibXypLqWHOV"
      },
      "execution_count": null,
      "outputs": []
    },
    {
      "cell_type": "code",
      "source": [
        "def eval_epoch(config, model, data_loader):\n",
        "    matchs = []\n",
        "    model.eval()\n",
        "\n",
        "    n_word_total = 0\n",
        "    n_correct_total = 0\n",
        "    with tqdm(total=len(data_loader), desc=f\"Valid\") as pbar:\n",
        "        for i, value in enumerate(data_loader):\n",
        "            labels, dec_inputs = map(lambda v: v.to(config.device), value)\n",
        "\n",
        "            outputs = model(dec_inputs)\n",
        "            logits_cls = outputs[1]\n",
        "            _, indices = logits_cls.max(1)\n",
        "\n",
        "            match = torch.eq(indices, labels).detach()\n",
        "            matchs.extend(match.cpu())\n",
        "            accuracy = np.sum(matchs) / len(matchs) if 0 < len(matchs) else 0\n",
        "\n",
        "            pbar.update(1)\n",
        "            pbar.set_postfix_str(f\"Acc: {accuracy:.3f}\")\n",
        "    return np.sum(matchs) / len(matchs) if 0 < len(matchs) else 0"
      ],
      "metadata": {
        "id": "HhRfiqSXWCVM"
      },
      "execution_count": null,
      "outputs": []
    },
    {
      "cell_type": "code",
      "source": [
        "config.device = torch.device(\"cuda\" if torch.cuda.is_available() else \"cpu\")\n",
        "config.n_output = 2\n",
        "print(config)\n",
        "\n",
        "learning_rate = 5e-5\n",
        "n_epoch = 10"
      ],
      "metadata": {
        "colab": {
          "base_uri": "https://localhost:8080/"
        },
        "id": "xOP3ARcbWJiu",
        "outputId": "5d6a06cf-4e67-4702-a570-0463cf5ca073"
      },
      "execution_count": null,
      "outputs": [
        {
          "output_type": "stream",
          "name": "stdout",
          "text": [
            "{'n_dec_vocab': 8007, 'n_dec_seq': 256, 'n_layer': 6, 'd_hidn': 256, 'i_pad': 0, 'd_ff': 1024, 'n_head': 4, 'd_head': 64, 'dropout': 0.1, 'layer_norm_epsilon': 1e-12, 'device': device(type='cuda'), 'n_output': 2}\n"
          ]
        }
      ]
    },
    {
      "cell_type": "code",
      "source": [
        "def train(model):\n",
        "    model.to(config.device)\n",
        "\n",
        "    criterion_cls = torch.nn.CrossEntropyLoss()\n",
        "    optimizer = torch.optim.Adam(model.parameters(), lr=learning_rate)\n",
        "\n",
        "    best_epoch, best_loss, best_score = 0, 0, 0\n",
        "    losses, scores = [], []\n",
        "    for epoch in range(n_epoch):\n",
        "        loss = train_epoch(config, epoch, model, criterion_cls, optimizer, train_loader)\n",
        "        score = eval_epoch(config, model, test_loader)\n",
        "\n",
        "        losses.append(loss)\n",
        "        scores.append(score)\n",
        "\n",
        "        if best_score < score:\n",
        "            best_epoch, best_loss, best_score = epoch, loss, score\n",
        "    print(f\">>>> epoch={best_epoch}, loss={best_loss:.5f}, socre={best_score:.5f}\")\n",
        "    return losses, scores"
      ],
      "metadata": {
        "id": "kFUjRpOgWM_F"
      },
      "execution_count": null,
      "outputs": []
    },
    {
      "cell_type": "code",
      "source": [
        "model = MovieClassification(config)\n",
        "sentencepiece_losses, sentencepiece_accuracy = train(model)"
      ],
      "metadata": {
        "colab": {
          "base_uri": "https://localhost:8080/"
        },
        "id": "4vHlOzW-WOSC",
        "outputId": "5b1cc068-9b48-42b9-f61d-623c1bb7cf38"
      },
      "execution_count": null,
      "outputs": [
        {
          "output_type": "stream",
          "name": "stderr",
          "text": [
            "Train(0): 100%|██████████| 1172/1172 [04:03<00:00,  4.81it/s, Loss: 0.367 (0.489)]\n",
            "Valid: 100%|██████████| 391/391 [00:48<00:00,  7.98it/s, Acc: 0.795]\n",
            "Train(1): 100%|██████████| 1172/1172 [04:14<00:00,  4.60it/s, Loss: 0.501 (0.409)]\n",
            "Valid: 100%|██████████| 391/391 [00:47<00:00,  8.15it/s, Acc: 0.814]\n",
            "Train(2): 100%|██████████| 1172/1172 [04:15<00:00,  4.59it/s, Loss: 0.363 (0.383)]\n",
            "Valid: 100%|██████████| 391/391 [00:48<00:00,  8.06it/s, Acc: 0.818]\n",
            "Train(3): 100%|██████████| 1172/1172 [04:14<00:00,  4.60it/s, Loss: 0.418 (0.363)]\n",
            "Valid: 100%|██████████| 391/391 [00:49<00:00,  7.94it/s, Acc: 0.828]\n",
            "Train(4): 100%|██████████| 1172/1172 [04:14<00:00,  4.60it/s, Loss: 0.347 (0.344)]\n",
            "Valid: 100%|██████████| 391/391 [00:49<00:00,  7.82it/s, Acc: 0.830]\n",
            "Train(5): 100%|██████████| 1172/1172 [04:15<00:00,  4.59it/s, Loss: 0.410 (0.326)]\n",
            "Valid: 100%|██████████| 391/391 [00:49<00:00,  7.94it/s, Acc: 0.835]\n",
            "Train(6): 100%|██████████| 1172/1172 [04:15<00:00,  4.59it/s, Loss: 0.320 (0.310)]\n",
            "Valid: 100%|██████████| 391/391 [00:48<00:00,  7.99it/s, Acc: 0.836]\n",
            "Train(7): 100%|██████████| 1172/1172 [04:14<00:00,  4.60it/s, Loss: 0.250 (0.292)]\n",
            "Valid: 100%|██████████| 391/391 [00:48<00:00,  7.99it/s, Acc: 0.837]\n",
            "Train(8): 100%|██████████| 1172/1172 [04:15<00:00,  4.59it/s, Loss: 0.248 (0.274)]\n",
            "Valid: 100%|██████████| 391/391 [00:48<00:00,  8.01it/s, Acc: 0.838]\n",
            "Train(9): 100%|██████████| 1172/1172 [04:15<00:00,  4.59it/s, Loss: 0.178 (0.256)]\n",
            "Valid: 100%|██████████| 391/391 [00:48<00:00,  8.02it/s, Acc: 0.839]\n"
          ]
        },
        {
          "output_type": "stream",
          "name": "stdout",
          "text": [
            ">>>> epoch=9, loss=0.25584, socre=0.83891\n"
          ]
        }
      ]
    },
    {
      "cell_type": "markdown",
      "source": [
        "###모델 평가"
      ],
      "metadata": {
        "id": "gqxOTGw5WbD8"
      }
    },
    {
      "cell_type": "code",
      "source": [
        "data = {\n",
        "    \"Loss\": sentencepiece_losses,\n",
        "    \"Accuracy\": sentencepiece_accuracy,\n",
        "}\n",
        "df = pd.DataFrame(data)\n",
        "display(df)\n",
        "print()\n",
        "\n",
        "plt.figure(figsize=[12, 4])\n",
        "plt.plot(sentencepiece_losses, label=\"Loss\")\n",
        "plt.plot(sentencepiece_accuracy, label=\"Accuracy\")\n",
        "plt.legend()\n",
        "plt.title('Loss')\n",
        "plt.xlabel('Epoch')\n",
        "plt.ylabel('Value')\n",
        "plt.show()"
      ],
      "metadata": {
        "colab": {
          "base_uri": "https://localhost:8080/",
          "height": 659
        },
        "id": "Hq2qTxWIWad1",
        "outputId": "108c42a8-566a-4e19-bd77-599b71ea99db"
      },
      "execution_count": null,
      "outputs": [
        {
          "output_type": "display_data",
          "data": {
            "text/plain": [
              "       Loss  Accuracy\n",
              "0  0.488845  0.795468\n",
              "1  0.408942  0.814009\n",
              "2  0.383089  0.818049\n",
              "3  0.362958  0.828190\n",
              "4  0.343607  0.830110\n",
              "5  0.326295  0.835150\n",
              "6  0.310044  0.835890\n",
              "7  0.292093  0.836990\n",
              "8  0.274038  0.838030\n",
              "9  0.255835  0.838910"
            ],
            "text/html": [
              "\n",
              "  <div id=\"df-8bb49a23-235f-4c2f-add1-e18701ddfd82\">\n",
              "    <div class=\"colab-df-container\">\n",
              "      <div>\n",
              "<style scoped>\n",
              "    .dataframe tbody tr th:only-of-type {\n",
              "        vertical-align: middle;\n",
              "    }\n",
              "\n",
              "    .dataframe tbody tr th {\n",
              "        vertical-align: top;\n",
              "    }\n",
              "\n",
              "    .dataframe thead th {\n",
              "        text-align: right;\n",
              "    }\n",
              "</style>\n",
              "<table border=\"1\" class=\"dataframe\">\n",
              "  <thead>\n",
              "    <tr style=\"text-align: right;\">\n",
              "      <th></th>\n",
              "      <th>Loss</th>\n",
              "      <th>Accuracy</th>\n",
              "    </tr>\n",
              "  </thead>\n",
              "  <tbody>\n",
              "    <tr>\n",
              "      <th>0</th>\n",
              "      <td>0.488845</td>\n",
              "      <td>0.795468</td>\n",
              "    </tr>\n",
              "    <tr>\n",
              "      <th>1</th>\n",
              "      <td>0.408942</td>\n",
              "      <td>0.814009</td>\n",
              "    </tr>\n",
              "    <tr>\n",
              "      <th>2</th>\n",
              "      <td>0.383089</td>\n",
              "      <td>0.818049</td>\n",
              "    </tr>\n",
              "    <tr>\n",
              "      <th>3</th>\n",
              "      <td>0.362958</td>\n",
              "      <td>0.828190</td>\n",
              "    </tr>\n",
              "    <tr>\n",
              "      <th>4</th>\n",
              "      <td>0.343607</td>\n",
              "      <td>0.830110</td>\n",
              "    </tr>\n",
              "    <tr>\n",
              "      <th>5</th>\n",
              "      <td>0.326295</td>\n",
              "      <td>0.835150</td>\n",
              "    </tr>\n",
              "    <tr>\n",
              "      <th>6</th>\n",
              "      <td>0.310044</td>\n",
              "      <td>0.835890</td>\n",
              "    </tr>\n",
              "    <tr>\n",
              "      <th>7</th>\n",
              "      <td>0.292093</td>\n",
              "      <td>0.836990</td>\n",
              "    </tr>\n",
              "    <tr>\n",
              "      <th>8</th>\n",
              "      <td>0.274038</td>\n",
              "      <td>0.838030</td>\n",
              "    </tr>\n",
              "    <tr>\n",
              "      <th>9</th>\n",
              "      <td>0.255835</td>\n",
              "      <td>0.838910</td>\n",
              "    </tr>\n",
              "  </tbody>\n",
              "</table>\n",
              "</div>\n",
              "      <button class=\"colab-df-convert\" onclick=\"convertToInteractive('df-8bb49a23-235f-4c2f-add1-e18701ddfd82')\"\n",
              "              title=\"Convert this dataframe to an interactive table.\"\n",
              "              style=\"display:none;\">\n",
              "        \n",
              "  <svg xmlns=\"http://www.w3.org/2000/svg\" height=\"24px\"viewBox=\"0 0 24 24\"\n",
              "       width=\"24px\">\n",
              "    <path d=\"M0 0h24v24H0V0z\" fill=\"none\"/>\n",
              "    <path d=\"M18.56 5.44l.94 2.06.94-2.06 2.06-.94-2.06-.94-.94-2.06-.94 2.06-2.06.94zm-11 1L8.5 8.5l.94-2.06 2.06-.94-2.06-.94L8.5 2.5l-.94 2.06-2.06.94zm10 10l.94 2.06.94-2.06 2.06-.94-2.06-.94-.94-2.06-.94 2.06-2.06.94z\"/><path d=\"M17.41 7.96l-1.37-1.37c-.4-.4-.92-.59-1.43-.59-.52 0-1.04.2-1.43.59L10.3 9.45l-7.72 7.72c-.78.78-.78 2.05 0 2.83L4 21.41c.39.39.9.59 1.41.59.51 0 1.02-.2 1.41-.59l7.78-7.78 2.81-2.81c.8-.78.8-2.07 0-2.86zM5.41 20L4 18.59l7.72-7.72 1.47 1.35L5.41 20z\"/>\n",
              "  </svg>\n",
              "      </button>\n",
              "      \n",
              "  <style>\n",
              "    .colab-df-container {\n",
              "      display:flex;\n",
              "      flex-wrap:wrap;\n",
              "      gap: 12px;\n",
              "    }\n",
              "\n",
              "    .colab-df-convert {\n",
              "      background-color: #E8F0FE;\n",
              "      border: none;\n",
              "      border-radius: 50%;\n",
              "      cursor: pointer;\n",
              "      display: none;\n",
              "      fill: #1967D2;\n",
              "      height: 32px;\n",
              "      padding: 0 0 0 0;\n",
              "      width: 32px;\n",
              "    }\n",
              "\n",
              "    .colab-df-convert:hover {\n",
              "      background-color: #E2EBFA;\n",
              "      box-shadow: 0px 1px 2px rgba(60, 64, 67, 0.3), 0px 1px 3px 1px rgba(60, 64, 67, 0.15);\n",
              "      fill: #174EA6;\n",
              "    }\n",
              "\n",
              "    [theme=dark] .colab-df-convert {\n",
              "      background-color: #3B4455;\n",
              "      fill: #D2E3FC;\n",
              "    }\n",
              "\n",
              "    [theme=dark] .colab-df-convert:hover {\n",
              "      background-color: #434B5C;\n",
              "      box-shadow: 0px 1px 3px 1px rgba(0, 0, 0, 0.15);\n",
              "      filter: drop-shadow(0px 1px 2px rgba(0, 0, 0, 0.3));\n",
              "      fill: #FFFFFF;\n",
              "    }\n",
              "  </style>\n",
              "\n",
              "      <script>\n",
              "        const buttonEl =\n",
              "          document.querySelector('#df-8bb49a23-235f-4c2f-add1-e18701ddfd82 button.colab-df-convert');\n",
              "        buttonEl.style.display =\n",
              "          google.colab.kernel.accessAllowed ? 'block' : 'none';\n",
              "\n",
              "        async function convertToInteractive(key) {\n",
              "          const element = document.querySelector('#df-8bb49a23-235f-4c2f-add1-e18701ddfd82');\n",
              "          const dataTable =\n",
              "            await google.colab.kernel.invokeFunction('convertToInteractive',\n",
              "                                                     [key], {});\n",
              "          if (!dataTable) return;\n",
              "\n",
              "          const docLinkHtml = 'Like what you see? Visit the ' +\n",
              "            '<a target=\"_blank\" href=https://colab.research.google.com/notebooks/data_table.ipynb>data table notebook</a>'\n",
              "            + ' to learn more about interactive tables.';\n",
              "          element.innerHTML = '';\n",
              "          dataTable['output_type'] = 'display_data';\n",
              "          await google.colab.output.renderOutput(dataTable, element);\n",
              "          const docLink = document.createElement('div');\n",
              "          docLink.innerHTML = docLinkHtml;\n",
              "          element.appendChild(docLink);\n",
              "        }\n",
              "      </script>\n",
              "    </div>\n",
              "  </div>\n",
              "  "
            ]
          },
          "metadata": {}
        },
        {
          "output_type": "stream",
          "name": "stdout",
          "text": [
            "\n"
          ]
        },
        {
          "output_type": "display_data",
          "data": {
            "text/plain": [
              "<Figure size 864x288 with 1 Axes>"
            ],
            "image/png": "[encoded data removed]"
          },
          "metadata": {
            "needs_background": "light"
          }
        }
      ]
    },
    {
      "cell_type": "markdown",
      "source": [
        "##MeCab"
      ],
      "metadata": {
        "id": "SCZ6_qcXAt9H"
      }
    },
    {
      "cell_type": "markdown",
      "source": [
        "###Corpus"
      ],
      "metadata": {
        "id": "SeIjsLb-hxlC"
      }
    },
    {
      "cell_type": "code",
      "source": [
        "kowiki_file = \"/content/drive/MyDrive/lms/sp_tokenizer/kowikitext/kowiki.zip\""
      ],
      "metadata": {
        "id": "ZeN_0JfrleqT"
      },
      "execution_count": null,
      "outputs": []
    },
    {
      "cell_type": "code",
      "source": [
        "args = {\n",
        "    \"seed\": 1234,\n",
        "    \"device\": torch.device(\"cuda\" if torch.cuda.is_available() else \"cpu\"),\n",
        "    \"corpus\": kowiki_file,\n",
        "}\n",
        "args = argparse.Namespace(**args)\n",
        "\n",
        "print(args)"
      ],
      "metadata": {
        "colab": {
          "base_uri": "https://localhost:8080/"
        },
        "id": "bR7xXIT8lOWS",
        "outputId": "4ff01875-9223-40ae-e6f3-720d8675d934"
      },
      "execution_count": null,
      "outputs": [
        {
          "output_type": "stream",
          "name": "stdout",
          "text": [
            "Namespace(corpus='/content/drive/MyDrive/lms/sp_tokenizer/kowikitext/kowiki.zip', device=device(type='cuda'), seed=1234)\n"
          ]
        }
      ]
    },
    {
      "cell_type": "markdown",
      "source": [
        "환경 설정을 한다.\n",
        "<br/>random seed value를 1234로 설정한다.\n",
        "<br/>CPU 또는 GPU 사용여부를 결정한다.\n",
        "<br/>말뭉치 파일을 만든다."
      ],
      "metadata": {
        "id": "xCD707Zt7L38"
      }
    },
    {
      "cell_type": "code",
      "source": [
        "random.seed(args.seed)\n",
        "np.random.seed(args.seed)\n",
        "torch.manual_seed(args.seed)\n",
        "torch.cuda.manual_seed_all(args.seed)"
      ],
      "metadata": {
        "id": "ofZXRxh3lSjB"
      },
      "execution_count": null,
      "outputs": []
    },
    {
      "cell_type": "code",
      "source": [
        "mecab = Mecab()"
      ],
      "metadata": {
        "id": "JprWEIENFBGU"
      },
      "execution_count": null,
      "outputs": []
    },
    {
      "cell_type": "code",
      "source": [
        "with open(\"/content/drive/MyDrive/lms/sp_tokenizer/kowikitext/kowiki_mecab.txt\", \"w\") as o_f:\n",
        "    with zipfile.ZipFile(args.corpus) as z:\n",
        "        with z.open(\"kowiki.txt\") as f:\n",
        "            for i, line in enumerate(f):\n",
        "                line = line.decode('utf-8').strip()\n",
        "                tokens = mecab.morphs(line)\n",
        "                string = \" \".join(tokens)\n",
        "                o_f.write(string)\n",
        "                o_f.write(\"\\n\")"
      ],
      "metadata": {
        "id": "tZjZNwTIgo-y"
      },
      "execution_count": null,
      "outputs": []
    },
    {
      "cell_type": "markdown",
      "source": [
        "morph 단위로 분할된 말뭉치를 생성한다."
      ],
      "metadata": {
        "id": "G8YBBixM8O7t"
      }
    },
    {
      "cell_type": "code",
      "source": [
        "print(os.listdir(\"./\"))"
      ],
      "metadata": {
        "colab": {
          "base_uri": "https://localhost:8080/"
        },
        "id": "UbJ0Ejgmg1qs",
        "outputId": "301f1b90-26e0-44ca-b044-d8b5ab9078a3"
      },
      "execution_count": null,
      "outputs": [
        {
          "output_type": "stream",
          "name": "stdout",
          "text": [
            "['setup.py', '.git', 'GPL', 'build', '__pycache__', 'bindings.html', 'README', 'BSD', 'MeCab_wrap.cxx', 'AUTHORS', 'COPYING', 'test.py', 'LGPL', 'README.md', 'MeCab.py']\n"
          ]
        }
      ]
    },
    {
      "cell_type": "code",
      "source": [
        "def train_sentencepiece(corpus, prefix, vocab_size=8000):\n",
        "\n",
        "    spm.SentencePieceTrainer.train(\n",
        "        f\"--input={corpus} --model_prefix={prefix} --vocab_size={vocab_size + 7}\" +  \n",
        "        \" --model_type=unigram\" +\n",
        "        \" --max_sentence_length=999999\" +  \n",
        "        \" --pad_id=0 --pad_piece=[PAD]\" + \n",
        "        \" --unk_id=1 --unk_piece=[UNK]\" +  \n",
        "        \" --bos_id=2 --bos_piece=[BOS]\" +  \n",
        "        \" --eos_id=3 --eos_piece=[EOS]\" +  \n",
        "        \" --user_defined_symbols=[SEP],[CLS],[MASK]\" +  \n",
        "        \" --input_sentence_size=100000\" +  \n",
        "        \" --shuffle_input_sentence=true\")  "
      ],
      "metadata": {
        "id": "F90KoqnCg_ux"
      },
      "execution_count": null,
      "outputs": []
    },
    {
      "cell_type": "markdown",
      "source": [
        "corpus는 학습용 말뭉치이다.\n",
        "<br/>prefix는 저장할 vocab 이름이다.\n",
        "<br/>vocab_size에 7를 더한다. 7은 특수문자 개수이다.\n",
        "<br/>model_type은 bpe이다.\n",
        "<br/>max_sentence_length를 default 999999로 설정한다.\n",
        "<br/>token은 [PAD], [UNK], [BOS], [EOS], [SEP], [CLS], [MASK]으로 구성된다.\n",
        "<br/>pad_id는 0, unk_id는 1, bos_id는 2, eos_id는 3으로 설정한다.\n",
        "<br/>bos는 begin of sequence, eos는 end of sequence를 의미한다.\n",
        "<br/>user_defined_symbols는 모델 구성을 위한 [SEP] : 4, [CLS] : 5, [MASK] : 6으로 설정한다.\n",
        "<br/>input_sentence_size는 말뭉치에서 샘플링하여 학습한다.\n",
        "<br/>shuffle_input_sentence는 샘플링한 말뭉치를 shuffle한다."
      ],
      "metadata": {
        "id": "EXWepKh04zKV"
      }
    },
    {
      "cell_type": "code",
      "source": [
        "train_sentencepiece(\"/content/drive/MyDrive/lms/sp_tokenizer/kowikitext/kowiki_mecab.txt\", \"kowiki_mecab\")"
      ],
      "metadata": {
        "id": "kbHbdjtuf-Xm"
      },
      "execution_count": null,
      "outputs": []
    },
    {
      "cell_type": "code",
      "source": [
        "print(os.listdir(\"./\"))"
      ],
      "metadata": {
        "colab": {
          "base_uri": "https://localhost:8080/"
        },
        "id": "ascWRIrhf-Z5",
        "outputId": "da76125d-ef45-4a41-93f2-535dde0ff2f8"
      },
      "execution_count": null,
      "outputs": [
        {
          "output_type": "stream",
          "name": "stdout",
          "text": [
            "['setup.py', 'kowiki_mecab.model', '.git', 'GPL', 'build', '__pycache__', 'bindings.html', 'README', 'BSD', 'MeCab_wrap.cxx', 'AUTHORS', 'COPYING', 'kowiki_mecab.vocab', 'test.py', 'LGPL', 'README.md', 'MeCab.py']\n"
          ]
        }
      ]
    },
    {
      "cell_type": "code",
      "source": [
        "corpus_dir = os.path.dirname(args.corpus)\n",
        "shutil.copy(\"kowiki_mecab.model\", corpus_dir)\n",
        "shutil.copy(\"kowiki_mecab.vocab\", corpus_dir)\n",
        "\n",
        "print(os.listdir(corpus_dir))"
      ],
      "metadata": {
        "colab": {
          "base_uri": "https://localhost:8080/"
        },
        "id": "VNiF12Kff-cO",
        "outputId": "8e18379a-ec48-4488-bdee-8ae3fdbbd0d8"
      },
      "execution_count": null,
      "outputs": [
        {
          "output_type": "stream",
          "name": "stdout",
          "text": [
            "['kowiki.txt', 'kowiki.zip', 'kowiki_mecab.txt', 'kowiki_mecab.model', 'kowiki_mecab.vocab']\n"
          ]
        }
      ]
    },
    {
      "cell_type": "code",
      "source": [
        "spm_vocab = spm.SentencePieceProcessor()\n",
        "spm_vocab.load(os.path.join(corpus_dir, \"kowiki_mecab.model\"))"
      ],
      "metadata": {
        "id": "pC1wmZPihSCx"
      },
      "execution_count": null,
      "outputs": []
    },
    {
      "cell_type": "code",
      "source": [
        "sentence_list = check_sentence_with_length_list(movie_raw, 20)\n",
        "sentence = sentencepiece_process_input(sentence_list)"
      ],
      "metadata": {
        "id": "6evh3Fty37hE"
      },
      "execution_count": null,
      "outputs": []
    },
    {
      "cell_type": "code",
      "source": [
        "for line in sentence:\n",
        "  pieces = spm_vocab.encode_as_pieces(line)\n",
        "  ids = spm_vocab.encode_as_ids(line)\n",
        "  print(line)\n",
        "  print(pieces)\n",
        "  print(ids)\n",
        "  print()"
      ],
      "metadata": {
        "colab": {
          "base_uri": "https://localhost:8080/"
        },
        "id": "mu2eeRRg37jb",
        "outputId": "abb4ec9a-b627-4b9a-dd8f-185492eebdfe"
      },
      "execution_count": null,
      "outputs": [
        {
          "output_type": "stream",
          "name": "stdout",
          "text": [
            "제대하고 보니까 더 재밌네요 ㅋㅋㅋㅋ\n",
            "['▁제', '대', '하', '고', '▁보', '니', '까', '▁더', '▁재', '밌', '네', '요', '▁', 'ᄏᄏᄏᄏ']\n",
            "[71, 142, 74, 166, 154, 196, 2008, 249, 258, 7122, 573, 809, 7, 1]\n",
            "\n",
            "재미만있구만 ㅋ뭔작품성따지고보냐 ㅋㅋ\n",
            "['▁재', '미', '만', '있', '구', '만', '▁', 'ᄏ', '뭔', '작', '품', '성', '따', '지', '고', '보', '냐', '▁', 'ᄏᄏ']\n",
            "[258, 183, 382, 5286, 136, 382, 7, 1, 7872, 687, 1072, 144, 4091, 53, 166, 199, 3103, 7, 1]\n",
            "\n",
            "시나리오 연기 연출 모든면에서 좋았다\n",
            "['▁시나', '리오', '▁연기', '▁연출', '▁모', '든', '면', '에', '서', '▁좋', '았', '다']\n",
            "[3947, 1817, 1442, 3310, 150, 371, 191, 417, 93, 795, 4955, 123]\n",
            "\n"
          ]
        }
      ]
    },
    {
      "cell_type": "markdown",
      "source": [
        "### GPT-1"
      ],
      "metadata": {
        "id": "qX8g8rO6h3YK"
      }
    },
    {
      "cell_type": "code",
      "source": [
        "config = Config({\n",
        "    \"n_dec_vocab\": len(spm_vocab),\n",
        "    \"n_dec_seq\": 256,\n",
        "    \"n_layer\": 6,\n",
        "    \"d_hidn\": 256,\n",
        "    \"i_pad\": 0,\n",
        "    \"d_ff\": 1024,\n",
        "    \"n_head\": 4,\n",
        "    \"d_head\": 64,\n",
        "    \"dropout\": 0.1,\n",
        "    \"layer_norm_epsilon\": 1e-12\n",
        "})\n",
        "print(config)"
      ],
      "metadata": {
        "colab": {
          "base_uri": "https://localhost:8080/"
        },
        "id": "nLBoTYxaht8F",
        "outputId": "9e395554-8ccd-43f3-8738-c04bf117ea27"
      },
      "execution_count": null,
      "outputs": [
        {
          "output_type": "stream",
          "name": "stdout",
          "text": [
            "{'n_dec_vocab': 8007, 'n_dec_seq': 256, 'n_layer': 6, 'd_hidn': 256, 'i_pad': 0, 'd_ff': 1024, 'n_head': 4, 'd_head': 64, 'dropout': 0.1, 'layer_norm_epsilon': 1e-12}\n"
          ]
        }
      ]
    },
    {
      "cell_type": "code",
      "source": [
        "prepare_train(spm_vocab, \"/content/drive/MyDrive/lms/film_review/ratings_train.txt\",\n",
        "              \"/content/drive/MyDrive/lms/sp_tokenizer/film_review/mecab_ratings_train.json\")\n",
        "\n",
        "prepare_train(spm_vocab, \"/content/drive/MyDrive/lms/film_review/ratings_test.txt\",\n",
        "              \"/content/drive/MyDrive/lms/sp_tokenizer/film_review/mecab_ratings_test.json\")"
      ],
      "metadata": {
        "id": "Sra_vNSqh94a"
      },
      "execution_count": null,
      "outputs": []
    },
    {
      "cell_type": "code",
      "source": [
        "batch_size = 128\n",
        "train_dataset = MovieDataSet(spm_vocab, \"/content/drive/MyDrive/lms/sp_tokenizer/film_review/mecab_ratings_train.json\")\n",
        "train_loader = torch.utils.data.DataLoader(train_dataset, batch_size=batch_size,\n",
        "                                           shuffle=True, collate_fn=movie_collate_fn)\n",
        "\n",
        "test_dataset = MovieDataSet(spm_vocab, \"/content/drive/MyDrive/lms/sp_tokenizer/film_review/mecab_ratings_test.json\")\n",
        "test_loader = torch.utils.data.DataLoader(test_dataset, batch_size=batch_size,\n",
        "                                          shuffle=False, collate_fn=movie_collate_fn)"
      ],
      "metadata": {
        "colab": {
          "base_uri": "https://localhost:8080/"
        },
        "id": "P4gIVuulht5a",
        "outputId": "476d60a2-428e-4cb1-ee02-a46d9b11fc0c"
      },
      "execution_count": null,
      "outputs": [
        {
          "output_type": "stream",
          "name": "stderr",
          "text": [
            "Loading /content/drive/MyDrive/lms/sp_tokenizer/film_review/mecab_ratings_train.json: 100%|██████████| 149995/149995 [00:05<00:00, 28120.59 lines/s]\n",
            "Loading /content/drive/MyDrive/lms/sp_tokenizer/film_review/mecab_ratings_test.json: 100%|██████████| 49997/49997 [00:01<00:00, 30212.61 lines/s]\n"
          ]
        }
      ]
    },
    {
      "cell_type": "markdown",
      "source": [
        "###모델 학습"
      ],
      "metadata": {
        "id": "cQp5rv94i_y6"
      }
    },
    {
      "cell_type": "code",
      "source": [
        "config.device = torch.device(\"cuda\" if torch.cuda.is_available() else \"cpu\")\n",
        "config.n_output = 2\n",
        "print(config)\n",
        "\n",
        "learning_rate = 5e-5\n",
        "n_epoch = 10"
      ],
      "metadata": {
        "id": "qCGpnu6p8Ric",
        "colab": {
          "base_uri": "https://localhost:8080/"
        },
        "outputId": "01d2f363-2106-4a0a-ba6d-f2533b2306a9"
      },
      "execution_count": null,
      "outputs": [
        {
          "output_type": "stream",
          "name": "stdout",
          "text": [
            "{'n_dec_vocab': 8007, 'n_dec_seq': 256, 'n_layer': 6, 'd_hidn': 256, 'i_pad': 0, 'd_ff': 1024, 'n_head': 4, 'd_head': 64, 'dropout': 0.1, 'layer_norm_epsilon': 1e-12, 'device': device(type='cuda'), 'n_output': 2}\n"
          ]
        }
      ]
    },
    {
      "cell_type": "code",
      "source": [
        "model = MovieClassification(config)\n",
        "mecab_losses, mecab_accuracy = train(model)"
      ],
      "metadata": {
        "colab": {
          "base_uri": "https://localhost:8080/"
        },
        "id": "gyrTeXPli9nb",
        "outputId": "4201cdfe-8a5d-45dd-cdf3-f8330a200861"
      },
      "execution_count": null,
      "outputs": [
        {
          "output_type": "stream",
          "name": "stderr",
          "text": [
            "Train(0): 100%|██████████| 1172/1172 [04:37<00:00,  4.22it/s, Loss: 0.423 (0.490)]\n",
            "Valid: 100%|██████████| 391/391 [00:54<00:00,  7.21it/s, Acc: 0.806]\n",
            "Train(1): 100%|██████████| 1172/1172 [04:44<00:00,  4.12it/s, Loss: 0.382 (0.404)]\n",
            "Valid: 100%|██████████| 391/391 [00:53<00:00,  7.28it/s, Acc: 0.819]\n",
            "Train(2): 100%|██████████| 1172/1172 [04:44<00:00,  4.12it/s, Loss: 0.320 (0.377)]\n",
            "Valid: 100%|██████████| 391/391 [00:54<00:00,  7.24it/s, Acc: 0.825]\n",
            "Train(3): 100%|██████████| 1172/1172 [04:44<00:00,  4.12it/s, Loss: 0.323 (0.357)]\n",
            "Valid: 100%|██████████| 391/391 [00:53<00:00,  7.32it/s, Acc: 0.832]\n",
            "Train(4): 100%|██████████| 1172/1172 [04:43<00:00,  4.13it/s, Loss: 0.329 (0.338)]\n",
            "Valid: 100%|██████████| 391/391 [00:53<00:00,  7.26it/s, Acc: 0.837]\n",
            "Train(5): 100%|██████████| 1172/1172 [04:43<00:00,  4.13it/s, Loss: 0.403 (0.321)]\n",
            "Valid: 100%|██████████| 391/391 [00:53<00:00,  7.34it/s, Acc: 0.839]\n",
            "Train(6): 100%|██████████| 1172/1172 [04:37<00:00,  4.22it/s, Loss: 0.316 (0.305)]\n",
            "Valid: 100%|██████████| 391/391 [00:52<00:00,  7.38it/s, Acc: 0.841]\n",
            "Train(7): 100%|██████████| 1172/1172 [04:38<00:00,  4.21it/s, Loss: 0.230 (0.287)]\n",
            "Valid: 100%|██████████| 391/391 [00:53<00:00,  7.28it/s, Acc: 0.842]\n",
            "Train(8): 100%|██████████| 1172/1172 [04:44<00:00,  4.12it/s, Loss: 0.265 (0.271)]\n",
            "Valid: 100%|██████████| 391/391 [00:53<00:00,  7.28it/s, Acc: 0.840]\n",
            "Train(9): 100%|██████████| 1172/1172 [04:39<00:00,  4.19it/s, Loss: 0.246 (0.254)]\n",
            "Valid: 100%|██████████| 391/391 [00:53<00:00,  7.35it/s, Acc: 0.841]\n"
          ]
        },
        {
          "output_type": "stream",
          "name": "stdout",
          "text": [
            ">>>> epoch=7, loss=0.28692, socre=0.84205\n"
          ]
        }
      ]
    },
    {
      "cell_type": "markdown",
      "source": [
        "### 모델 평가"
      ],
      "metadata": {
        "id": "JlOtdLXejIEy"
      }
    },
    {
      "cell_type": "code",
      "source": [
        "model_history_data = {\n",
        "    \"Loss\": mecab_losses,\n",
        "    \"Accuracy\": mecab_accuracy,\n",
        "}\n",
        "model_history_df = pd.DataFrame(model_history_data)\n",
        "display(model_history_df)\n",
        "print()\n",
        "\n",
        "plt.figure(figsize=[12, 4])\n",
        "plt.plot(mecab_losses, label=\"Loss\")\n",
        "plt.plot(mecab_accuracy, label=\"Accuracy\")\n",
        "plt.legend()\n",
        "plt.title('Loss')\n",
        "plt.xlabel('Epoch')\n",
        "plt.ylabel('Value')\n",
        "plt.show()"
      ],
      "metadata": {
        "id": "vA6CuYyWjCOC",
        "colab": {
          "base_uri": "https://localhost:8080/",
          "height": 659
        },
        "outputId": "552b8f51-b8a1-494c-cfa6-1f3fb0b0224f"
      },
      "execution_count": null,
      "outputs": [
        {
          "output_type": "display_data",
          "data": {
            "text/plain": [
              "       Loss  Accuracy\n",
              "0  0.490261  0.806048\n",
              "1  0.404277  0.818849\n",
              "2  0.377093  0.824569\n",
              "3  0.356641  0.831990\n",
              "4  0.338119  0.837090\n",
              "5  0.320748  0.839410\n",
              "6  0.305006  0.841350\n",
              "7  0.286919  0.842051\n",
              "8  0.270789  0.839890\n",
              "9  0.253703  0.841370"
            ],
            "text/html": [
              "\n",
              "  <div id=\"df-a6922279-6347-4c4b-ad30-c159af5d6c4a\">\n",
              "    <div class=\"colab-df-container\">\n",
              "      <div>\n",
              "<style scoped>\n",
              "    .dataframe tbody tr th:only-of-type {\n",
              "        vertical-align: middle;\n",
              "    }\n",
              "\n",
              "    .dataframe tbody tr th {\n",
              "        vertical-align: top;\n",
              "    }\n",
              "\n",
              "    .dataframe thead th {\n",
              "        text-align: right;\n",
              "    }\n",
              "</style>\n",
              "<table border=\"1\" class=\"dataframe\">\n",
              "  <thead>\n",
              "    <tr style=\"text-align: right;\">\n",
              "      <th></th>\n",
              "      <th>Loss</th>\n",
              "      <th>Accuracy</th>\n",
              "    </tr>\n",
              "  </thead>\n",
              "  <tbody>\n",
              "    <tr>\n",
              "      <th>0</th>\n",
              "      <td>0.490261</td>\n",
              "      <td>0.806048</td>\n",
              "    </tr>\n",
              "    <tr>\n",
              "      <th>1</th>\n",
              "      <td>0.404277</td>\n",
              "      <td>0.818849</td>\n",
              "    </tr>\n",
              "    <tr>\n",
              "      <th>2</th>\n",
              "      <td>0.377093</td>\n",
              "      <td>0.824569</td>\n",
              "    </tr>\n",
              "    <tr>\n",
              "      <th>3</th>\n",
              "      <td>0.356641</td>\n",
              "      <td>0.831990</td>\n",
              "    </tr>\n",
              "    <tr>\n",
              "      <th>4</th>\n",
              "      <td>0.338119</td>\n",
              "      <td>0.837090</td>\n",
              "    </tr>\n",
              "    <tr>\n",
              "      <th>5</th>\n",
              "      <td>0.320748</td>\n",
              "      <td>0.839410</td>\n",
              "    </tr>\n",
              "    <tr>\n",
              "      <th>6</th>\n",
              "      <td>0.305006</td>\n",
              "      <td>0.841350</td>\n",
              "    </tr>\n",
              "    <tr>\n",
              "      <th>7</th>\n",
              "      <td>0.286919</td>\n",
              "      <td>0.842051</td>\n",
              "    </tr>\n",
              "    <tr>\n",
              "      <th>8</th>\n",
              "      <td>0.270789</td>\n",
              "      <td>0.839890</td>\n",
              "    </tr>\n",
              "    <tr>\n",
              "      <th>9</th>\n",
              "      <td>0.253703</td>\n",
              "      <td>0.841370</td>\n",
              "    </tr>\n",
              "  </tbody>\n",
              "</table>\n",
              "</div>\n",
              "      <button class=\"colab-df-convert\" onclick=\"convertToInteractive('df-a6922279-6347-4c4b-ad30-c159af5d6c4a')\"\n",
              "              title=\"Convert this dataframe to an interactive table.\"\n",
              "              style=\"display:none;\">\n",
              "        \n",
              "  <svg xmlns=\"http://www.w3.org/2000/svg\" height=\"24px\"viewBox=\"0 0 24 24\"\n",
              "       width=\"24px\">\n",
              "    <path d=\"M0 0h24v24H0V0z\" fill=\"none\"/>\n",
              "    <path d=\"M18.56 5.44l.94 2.06.94-2.06 2.06-.94-2.06-.94-.94-2.06-.94 2.06-2.06.94zm-11 1L8.5 8.5l.94-2.06 2.06-.94-2.06-.94L8.5 2.5l-.94 2.06-2.06.94zm10 10l.94 2.06.94-2.06 2.06-.94-2.06-.94-.94-2.06-.94 2.06-2.06.94z\"/><path d=\"M17.41 7.96l-1.37-1.37c-.4-.4-.92-.59-1.43-.59-.52 0-1.04.2-1.43.59L10.3 9.45l-7.72 7.72c-.78.78-.78 2.05 0 2.83L4 21.41c.39.39.9.59 1.41.59.51 0 1.02-.2 1.41-.59l7.78-7.78 2.81-2.81c.8-.78.8-2.07 0-2.86zM5.41 20L4 18.59l7.72-7.72 1.47 1.35L5.41 20z\"/>\n",
              "  </svg>\n",
              "      </button>\n",
              "      \n",
              "  <style>\n",
              "    .colab-df-container {\n",
              "      display:flex;\n",
              "      flex-wrap:wrap;\n",
              "      gap: 12px;\n",
              "    }\n",
              "\n",
              "    .colab-df-convert {\n",
              "      background-color: #E8F0FE;\n",
              "      border: none;\n",
              "      border-radius: 50%;\n",
              "      cursor: pointer;\n",
              "      display: none;\n",
              "      fill: #1967D2;\n",
              "      height: 32px;\n",
              "      padding: 0 0 0 0;\n",
              "      width: 32px;\n",
              "    }\n",
              "\n",
              "    .colab-df-convert:hover {\n",
              "      background-color: #E2EBFA;\n",
              "      box-shadow: 0px 1px 2px rgba(60, 64, 67, 0.3), 0px 1px 3px 1px rgba(60, 64, 67, 0.15);\n",
              "      fill: #174EA6;\n",
              "    }\n",
              "\n",
              "    [theme=dark] .colab-df-convert {\n",
              "      background-color: #3B4455;\n",
              "      fill: #D2E3FC;\n",
              "    }\n",
              "\n",
              "    [theme=dark] .colab-df-convert:hover {\n",
              "      background-color: #434B5C;\n",
              "      box-shadow: 0px 1px 3px 1px rgba(0, 0, 0, 0.15);\n",
              "      filter: drop-shadow(0px 1px 2px rgba(0, 0, 0, 0.3));\n",
              "      fill: #FFFFFF;\n",
              "    }\n",
              "  </style>\n",
              "\n",
              "      <script>\n",
              "        const buttonEl =\n",
              "          document.querySelector('#df-a6922279-6347-4c4b-ad30-c159af5d6c4a button.colab-df-convert');\n",
              "        buttonEl.style.display =\n",
              "          google.colab.kernel.accessAllowed ? 'block' : 'none';\n",
              "\n",
              "        async function convertToInteractive(key) {\n",
              "          const element = document.querySelector('#df-a6922279-6347-4c4b-ad30-c159af5d6c4a');\n",
              "          const dataTable =\n",
              "            await google.colab.kernel.invokeFunction('convertToInteractive',\n",
              "                                                     [key], {});\n",
              "          if (!dataTable) return;\n",
              "\n",
              "          const docLinkHtml = 'Like what you see? Visit the ' +\n",
              "            '<a target=\"_blank\" href=https://colab.research.google.com/notebooks/data_table.ipynb>data table notebook</a>'\n",
              "            + ' to learn more about interactive tables.';\n",
              "          element.innerHTML = '';\n",
              "          dataTable['output_type'] = 'display_data';\n",
              "          await google.colab.output.renderOutput(dataTable, element);\n",
              "          const docLink = document.createElement('div');\n",
              "          docLink.innerHTML = docLinkHtml;\n",
              "          element.appendChild(docLink);\n",
              "        }\n",
              "      </script>\n",
              "    </div>\n",
              "  </div>\n",
              "  "
            ]
          },
          "metadata": {}
        },
        {
          "output_type": "stream",
          "name": "stdout",
          "text": [
            "\n"
          ]
        },
        {
          "output_type": "display_data",
          "data": {
            "text/plain": [
              "<Figure size 864x288 with 1 Axes>"
            ],
            "image/png": "[encoded data removed]"
          },
          "metadata": {
            "needs_background": "light"
          }
        }
      ]
    },
    {
      "cell_type": "markdown",
      "source": [
        "#결론"
      ],
      "metadata": {
        "id": "6bFouV0SFkGy"
      }
    },
    {
      "cell_type": "markdown",
      "source": [
        "SentencePiece + GPT-1\n",
        "<br/>Loss: 0.2558 - Accuracy: 0.8389\n"
      ],
      "metadata": {
        "id": "VOxozbjmFkI5"
      }
    },
    {
      "cell_type": "markdown",
      "source": [
        "MeCab + GPT-1\n",
        "<br/>Loss: 0.2537 - Accuracy: 0.8414\n"
      ],
      "metadata": {
        "id": "4do5OlS4AMpc"
      }
    },
    {
      "cell_type": "markdown",
      "source": [
        "MeCab + GPT-1 모델의 성능이 더 높다."
      ],
      "metadata": {
        "id": "BmzSgvPVARku"
      }
    },
    {
      "cell_type": "markdown",
      "source": [
        "#참고문헌"
      ],
      "metadata": {
        "id": "KiHJ4xtBFkLC"
      }
    },
    {
      "cell_type": "markdown",
      "source": [
        "**LMS**\n",
        "<br/>[dev-sngwn](https://github.com/dev-sngwn)\n",
        "\n",
        "<br/>**논문**\n",
        "<br/>[Alec Radford, Karthik Narasimhan, Tim Salimans, Ilya Sutskever, 「Improving Language Understanding by Generative Pre-Training」, OpenAI, 2018](https://openai.com/blog/language-unsupervised/)\n",
        "\n",
        "<br/>**공식 사이트**\n",
        "<br/>Korpora\n",
        "<br/>[한국어 위키 텍스트](https://ko-nlp.github.io/Korpora/ko-docs/corpuslist/kowikitext.html)\n",
        "<br/><br/>파이토치 한국 사용자 모임\n",
        "<br/>[TORCH.NN 이 실제로 무엇인가요?](https://tutorials.pytorch.kr/beginner/nn_tutorial.html)\n",
        "\n",
        "<br/>**깃허브**\n",
        "<br/>jungyeul\n",
        "<br/>[jungyeul/korean-parallel-corpora/korean-english-news-v1](https://github.com/jungyeul/korean-parallel-corpora/tree/master/korean-english-news-v1)\n",
        "\n",
        "<br/>cchyun\n",
        "<br/>[paul-hyun/transformer-evolution/tutorial](https://github.com/paul-hyun/transformer-evolution/tree/master/tutorial)\n",
        "<br/>[Sentencepiece를 활용해 Vocab 만들기](https://paul-hyun.github.io/vocab-with-sentencepiece/)\n",
        "<br/>[Naver 영화리뷰 감정분석 데이터 전처리 하기](https://paul-hyun.github.io/preprocess-nsmc/)\n",
        "<br/>[자연어처리를 위한 Tokenizer & Vocabulary](https://paul-hyun.github.io/nlp-tutorial-02-02-tokenizer/)\n",
        "<br/>[GPT(Generative Pre-Training) 구현하기 (1/2)](https://paul-hyun.github.io/gpt-01/)\n",
        "<br/>[GPT(Generative Pre-Training) 구현하기 (2/2)](https://paul-hyun.github.io/gpt-02/)\n",
        "\n",
        "<br/>**웹사이트**\n",
        "<br/>[python wget 사용하는 방법](https://my-devblog.tistory.com/18)\n",
        "<br/>[Python에서 tqdm 라이브러리를 이용한 작업진행률 표시](http://www.gisdeveloper.co.kr/?p=8636)\n",
        "<br/>[python Jupyter Notebook의 파일에서 이미지를 표시하려면 어떻게해야합니까?](http://daplus.net/python-jupyter-notebook%EC%9D%98-%ED%8C%8C%EC%9D%BC%EC%97%90%EC%84%9C-%EC%9D%B4%EB%AF%B8%EC%A7%80%EB%A5%BC-%ED%91%9C%EC%8B%9C%ED%95%98%EB%A0%A4%EB%A9%B4-%EC%96%B4%EB%96%BB%EA%B2%8C%ED%95%B4%EC%95%BC/)\n",
        "<br/>[Tokenizer 비교 실험 (형태소 분석, word piece)](https://i-am-wendy.tistory.com/27)\n",
        "<br/>[에러 해결: RuntimeError: CUDA error: device-side assert triggered](https://qlsenddl-lab.tistory.com/39)"
      ],
      "metadata": {
        "id": "Fh-y3ALMngn-"
      }
    }
  ]
}