{
  "nbformat": 4,
  "nbformat_minor": 0,
  "metadata": {
    "colab": {
      "name": "[GD_08]Seq2seq_with_Attention_Kor_Eng_Translator.ipynb",
      "provenance": [],
      "collapsed_sections": [],
      "machine_shape": "hm",
      "toc_visible": true
    },
    "kernelspec": {
      "name": "python3",
      "display_name": "Python 3"
    },
    "language_info": {
      "name": "python"
    },
    "accelerator": "GPU",
    "gpuClass": "standard"
  },
  "cells": [
    {
      "cell_type": "markdown",
      "source": [
        "##Seq2seq으로 번역기 만들기"
      ],
      "metadata": {
        "id": "6bxAEH1LP0Mq"
      }
    },
    {
      "cell_type": "markdown",
      "source": [
        ""
      ],
      "metadata": {
        "id": "eV1VFHBLP16A"
      }
    },
    {
      "cell_type": "markdown",
      "source": [
        "개발 환경\n",
        "<br/>데이터 정보\n"
      ],
      "metadata": {
        "id": "EMp6RyCZP30Z"
      }
    },
    {
      "cell_type": "markdown",
      "source": [
        "데이터 전처리\n",
        "<br/>중복 제거\n",
        "<br/>정제\n",
        "<br/>토큰화"
      ],
      "metadata": {
        "id": "JkkrYIe2kVvu"
      }
    },
    {
      "cell_type": "markdown",
      "source": [
        "모델 구성\n",
        "<br/>Seq2seq with Attention\n",
        "<br/>Optimizer & Loss\n",
        "<br/>Train Step\n",
        "<br/>Evaluation"
      ],
      "metadata": {
        "id": "Pkd7a0E0kW98"
      }
    },
    {
      "cell_type": "markdown",
      "source": [
        "모델 학습\n",
        "<br/>Hyperparameter\n",
        "<br/>Model Initialization\n",
        "<br/>First Model\n",
        "<br/>Second Model\n",
        "<br/>Third Model\n",
        "<br/>Fourth Model\n",
        "<br/>FModel Selection"
      ],
      "metadata": {
        "id": "2b0C3rxjkYqd"
      }
    },
    {
      "cell_type": "markdown",
      "source": [
        "최종 모델\n",
        "<br/>Epoch Test\n",
        "<br/>Epoch 50\n",
        "<br/>모델 평가"
      ],
      "metadata": {
        "id": "rvZ_YbX_kaBD"
      }
    },
    {
      "cell_type": "markdown",
      "source": [
        "결론\n",
        "<br/>참고문헌"
      ],
      "metadata": {
        "id": "c_MDhqToe_6Z"
      }
    },
    {
      "cell_type": "markdown",
      "source": [
        ""
      ],
      "metadata": {
        "id": "nfoDs1itP324"
      }
    },
    {
      "cell_type": "markdown",
      "source": [
        "#개발 환경"
      ],
      "metadata": {
        "id": "wx0j1AP9P2EI"
      }
    },
    {
      "cell_type": "code",
      "source": [
        "!sudo apt-get install -y fonts-nanum\n",
        "!sudo fc-cache -fv\n",
        "!rm ~/.cache/matplotlib -rf"
      ],
      "metadata": {
        "id": "OsfcfzYSRw_Q"
      },
      "execution_count": null,
      "outputs": []
    },
    {
      "cell_type": "markdown",
      "source": [
        "한글 폰트를 설치한다.\n",
        "<br/>혹시 깨짐현상이 발생하는 경우 런타임을 다시 시작하고 matplotlib 모듈을 실행하면 한글이 출력된다."
      ],
      "metadata": {
        "id": "VK-dmMh7Rxto"
      }
    },
    {
      "cell_type": "code",
      "source": [
        "import matplotlib as mpl\n",
        "import matplotlib.pyplot as plt\n",
        "%config InlineBackend.figure_format = 'retina'\n",
        "import matplotlib.font_manager as fm\n",
        "import matplotlib.ticker as ticker"
      ],
      "metadata": {
        "id": "lN5_NcFQDLRG"
      },
      "execution_count": 1,
      "outputs": []
    },
    {
      "cell_type": "code",
      "source": [
        "font_list = [font.name for font in fm.fontManager.ttflist]\n",
        "font_list"
      ],
      "metadata": {
        "id": "8ZFci3LURxnY"
      },
      "execution_count": null,
      "outputs": []
    },
    {
      "cell_type": "markdown",
      "source": [
        "Google Colab에 한글 폰트가 설치되어 있는지 확인한다."
      ],
      "metadata": {
        "id": "BvPTdrgLRxMn"
      }
    },
    {
      "cell_type": "code",
      "source": [
        "fontpath = '/usr/share/fonts/truetype/nanum/NanumBarunGothic.ttf'\n",
        "font = fm.FontProperties(fname=fontpath, size=9)\n",
        "plt.rc('font', family='NanumBarunGothic') \n",
        "mpl.font_manager.findfont(font)"
      ],
      "metadata": {
        "id": "eKf107YaFWfC"
      },
      "execution_count": null,
      "outputs": []
    },
    {
      "cell_type": "markdown",
      "source": [
        "Attention Map을 확인하기 위해 한국어를 지원하는 폰트로 변경한다."
      ],
      "metadata": {
        "id": "zPFKs8eJFzml"
      }
    },
    {
      "cell_type": "code",
      "source": [
        "import os\n",
        "# install konlpy, jdk, JPype\n",
        "!pip install konlpy\n",
        "!apt-get install openjdk-8-jdk-headless -qq > /dev/null\n",
        "!pip3 install JPype1-py3\n",
        "\n",
        "# install mecab-ko\n",
        "os.chdir('/tmp/')\n",
        "!curl -LO https://bitbucket.org/eunjeon/mecab-ko/downloads/mecab-0.996-ko-0.9.2.tar.gz\n",
        "!tar zxfv mecab-0.996-ko-0.9.2.tar.gz\n",
        "os.chdir('/tmp/mecab-0.996-ko-0.9.2')\n",
        "!./configure\n",
        "!make\n",
        "!make check\n",
        "!make install\n",
        "\n",
        "# install mecab-ko-dic\n",
        "!apt-get install automake\n",
        "os.chdir('/tmp')\n",
        "!curl -LO https://bitbucket.org/eunjeon/mecab-ko-dic/downloads/mecab-ko-dic-2.1.1-20180720.tar.gz\n",
        "!tar -zxvf mecab-ko-dic-2.1.1-20180720.tar.gz\n",
        "os.chdir('/tmp/mecab-ko-dic-2.1.1-20180720')\n",
        "!./autogen.sh\n",
        "!./configure\n",
        "!make\n",
        "!make install\n",
        "\n",
        "# install mecab-python\n",
        "os.chdir('/content')\n",
        "!git clone https://bitbucket.org/eunjeon/mecab-python-0.996.git\n",
        "os.chdir('/content/mecab-python-0.996')\n",
        "!python3 setup.py build\n",
        "!python3 setup.py install"
      ],
      "metadata": {
        "id": "0FCqyQuMjTyU"
      },
      "execution_count": null,
      "outputs": []
    },
    {
      "cell_type": "code",
      "source": [
        "import tensorflow as tf\n",
        "import pandas as pd\n",
        "import numpy as np"
      ],
      "metadata": {
        "id": "3WCZqjErRdlw"
      },
      "execution_count": 4,
      "outputs": []
    },
    {
      "cell_type": "code",
      "source": [
        "from sklearn.model_selection import train_test_split"
      ],
      "metadata": {
        "id": "_TCS1AitRkcp"
      },
      "execution_count": 5,
      "outputs": []
    },
    {
      "cell_type": "code",
      "source": [
        "import os\n",
        "import io\n",
        "import time\n",
        "import random\n",
        "from tqdm import tqdm\n",
        "from IPython.display import Image"
      ],
      "metadata": {
        "id": "Zd8sgftQjtOl"
      },
      "execution_count": 6,
      "outputs": []
    },
    {
      "cell_type": "code",
      "source": [
        "import re\n",
        "from konlpy.tag import Mecab\n",
        "from keras.preprocessing.text import Tokenizer"
      ],
      "metadata": {
        "id": "OfzrFsSaRmQY"
      },
      "execution_count": 7,
      "outputs": []
    },
    {
      "cell_type": "code",
      "source": [
        "from google.colab import drive\n",
        "drive.mount('/content/drive')"
      ],
      "metadata": {
        "id": "UUFzTxS_Djhu"
      },
      "execution_count": null,
      "outputs": []
    },
    {
      "cell_type": "code",
      "execution_count": 9,
      "metadata": {
        "id": "ciSzE3PsPrcX"
      },
      "outputs": [],
      "source": [
        "pip freeze > '/content/drive/MyDrive/lms/library_version.txt'"
      ]
    },
    {
      "cell_type": "code",
      "source": [
        "library_name = ['matplotlib=', 'scikit-learn=', 'tensorflow=', 'pandas=', 'numpy=',\n",
        "                'tqdm=', 'regex=', 'konlpy=', 'keras=']\n",
        "library_version = []\n",
        "f = open('/content/drive/MyDrive/lms/library_version.txt', 'r')\n",
        "line = f.readline()\n",
        "while True:\n",
        "    line = f.readline()\n",
        "    if not line:\n",
        "      break\n",
        "    for i in library_name:\n",
        "      if i in line:\n",
        "        library_version.append(line)\n",
        "        library_version.append('    ')\n",
        "\n",
        "f.close()\n",
        "\n",
        "import sys\n",
        "print(sys.version)\n",
        "print()\n",
        "\n",
        "for i in range(0, len(library_version) - 1, 6):\n",
        "  print(str(library_version[i : i+6]).replace(\"[\",\"\").replace(\"]\",\"\").replace(\"'\",\"\").replace(\"\\\\n\",\"\").replace(\",\",\"\"), end='') \n",
        "  if i % 6 == 0:\n",
        "    print()\n",
        "\n",
        "for i in range(len(library_version) - 1):\n",
        "  if (i-1) % 6 == 0 and i == len(library_version) - 6:\n",
        "    print(str(library_version[-1]).replace(\"[\",\"\").replace(\"]\",\"\").replace(\"'\",\"\").replace(\"\\\\n\",\"\").replace(\",\",\"\"), end='')"
      ],
      "metadata": {
        "id": "RaTjEXMlQn8A",
        "colab": {
          "base_uri": "https://localhost:8080/"
        },
        "outputId": "be7b41cc-963d-4acb-c78a-b4374cda15cd"
      },
      "execution_count": 10,
      "outputs": [
        {
          "output_type": "stream",
          "name": "stdout",
          "text": [
            "3.7.13 (default, Apr 24 2022, 01:04:09) \n",
            "[GCC 7.5.0]\n",
            "\n",
            "keras==2.8.0      konlpy==0.6.0      matplotlib==3.2.2     \n",
            "numpy==1.21.6      pandas==1.3.5      regex==2022.6.2     \n",
            "scikit-learn==1.0.2      sklearn-pandas==1.8.0      tensorflow==2.8.2+zzzcolab20220527125636     \n",
            "tqdm==4.64.0     \n"
          ]
        }
      ]
    },
    {
      "cell_type": "code",
      "source": [
        "gpu_info = !nvidia-smi\n",
        "gpu_info = '\\n'.join(gpu_info)\n",
        "if gpu_info.find('failed') >= 0:\n",
        "  print('Not connected to a GPU')\n",
        "else:\n",
        "  print(gpu_info)"
      ],
      "metadata": {
        "id": "mWbaHapHQn_C"
      },
      "execution_count": null,
      "outputs": []
    },
    {
      "cell_type": "code",
      "source": [
        "from psutil import virtual_memory\n",
        "ram_gb = virtual_memory().total / 1e9\n",
        "print('Your runtime has {:.1f} gigabytes of available RAM\\n'.format(ram_gb))\n",
        "\n",
        "if ram_gb < 20:\n",
        "  print('Not using a high-RAM runtime')\n",
        "else:\n",
        "  print('You are using a high-RAM runtime!')"
      ],
      "metadata": {
        "id": "lir_vxfGQvXQ"
      },
      "execution_count": null,
      "outputs": []
    },
    {
      "cell_type": "markdown",
      "source": [
        "Google Colab에서 할당된 GPU를 확인한다.\n",
        "<br/>고용량 메모리 VM에 액세스한다"
      ],
      "metadata": {
        "id": "SW4QvZkVQw6w"
      }
    },
    {
      "cell_type": "markdown",
      "source": [
        "#데이터 정보"
      ],
      "metadata": {
        "id": "uBlcS-nnQyVP"
      }
    },
    {
      "cell_type": "markdown",
      "source": [
        "[Korean Parallel Corpora](https://github.com/jungyeul/korean-parallel-corpora)"
      ],
      "metadata": {
        "id": "E24MBVh7TyYA"
      }
    },
    {
      "cell_type": "markdown",
      "source": [
        "한국어의 형태소 분석과 품사 태깅, 기계 번역 연구를 위해 공개된 데이터이다."
      ],
      "metadata": {
        "id": "Ygabx7htUSdR"
      }
    },
    {
      "cell_type": "markdown",
      "source": [
        "[Korean English News V1](https://github.com/jungyeul/korean-parallel-corpora/tree/master/korean-english-news-v1)"
      ],
      "metadata": {
        "id": "-ecEvnboAckQ"
      }
    },
    {
      "cell_type": "markdown",
      "source": [
        "한국어-영어 병렬 코퍼스 데이터이다."
      ],
      "metadata": {
        "id": "gAr8nVg0Acmy"
      }
    },
    {
      "cell_type": "code",
      "source": [
        "path_to_kor = '/content/drive/MyDrive/lms/seq2seq_translation/korean_parallel_corpora/korean-english-park.train.ko'\n",
        "\n",
        "with open(path_to_kor, \"r\") as f:\n",
        "    kor_raw = f.read().splitlines()\n",
        "\n",
        "print(\"Data Size :\", len(kor_raw))\n",
        "print()\n",
        "print(\"Example\")\n",
        "for kor_sen in kor_raw[600:700][::20]: print(\"\", kor_sen)"
      ],
      "metadata": {
        "colab": {
          "base_uri": "https://localhost:8080/"
        },
        "id": "mq-JgZyk7VZu",
        "outputId": "f4180d75-c348-4872-ad72-35a397185171"
      },
      "execution_count": 10,
      "outputs": [
        {
          "output_type": "stream",
          "name": "stdout",
          "text": [
            "Data Size : 94123\n",
            "\n",
            "Example\n",
            " 앞서가고 있는 은행 중의 하나가 오하이오 주 콜럼버스에 있는 헌팅턴 뱅크쉐어즈이다.\n",
            " 우리 내부의 신체 시계는 밤 에 자고, 낮 에 사냥하는 그러한 세계에 최적의 상태로 적응되어 있습니다.\"\n",
            " 하지만 얼마나 오래 그 효과가 지속될 것인가?\n",
            " 그 이름이 뜻하는 바와 같이 이 세균은 이미 밴코마이신과 모든 다른 항생물질에 대해 면역성을 갖게 되었다.\n",
            " 하나의 통신망은 모뎀이나 케이블에 의해 호스트 컴퓨터나 서버에 접속되어 있는 일단의 컴퓨터들을 말한다.\n"
          ]
        }
      ]
    },
    {
      "cell_type": "code",
      "source": [
        "path_to_eng = '/content/drive/MyDrive/lms/seq2seq_translation/korean_parallel_corpora/korean-english-park.train.en'\n",
        "\n",
        "with open(path_to_eng, \"r\") as f:\n",
        "    eng_raw = f.read().splitlines()\n",
        "\n",
        "print(\"Data Size :\", len(eng_raw))\n",
        "print()\n",
        "print(\"Example\")\n",
        "for eng_sen in eng_raw[600:700][::20]: print(\"\", eng_sen)"
      ],
      "metadata": {
        "colab": {
          "base_uri": "https://localhost:8080/"
        },
        "id": "Mx2LkI_MMUvq",
        "outputId": "55190481-c432-4cda-9b63-f56d01e26150"
      },
      "execution_count": 11,
      "outputs": [
        {
          "output_type": "stream",
          "name": "stdout",
          "text": [
            "Data Size : 94123\n",
            "\n",
            "Example\n",
            " A leader is Huntington Bankshares in Columbus, Ohio.\n",
            " Our internal clocks adapted us perfectly to a world where we slept by night and hunted by day.\"\n",
            " But how long will it hold up?\n",
            " As the name implies, it's already become immune to Vancomycin and every other antibiotic.\n",
            " A network is a group of computers joined to a host computer or server by modems or by cables.\n"
          ]
        }
      ]
    },
    {
      "cell_type": "markdown",
      "source": [
        "#데이터 전처리"
      ],
      "metadata": {
        "id": "_Oac6W-NQyX5"
      }
    },
    {
      "cell_type": "markdown",
      "source": [
        "##중복 제거"
      ],
      "metadata": {
        "id": "_nw7jQPphGLd"
      }
    },
    {
      "cell_type": "code",
      "source": [
        "kor_raw_dict = {string : i for i,string in enumerate(kor_raw)}\n",
        "eng_raw_dict = {string : i for i,string in enumerate(eng_raw)}"
      ],
      "metadata": {
        "id": "GrUeWwiUl6AD"
      },
      "execution_count": 12,
      "outputs": []
    },
    {
      "cell_type": "markdown",
      "source": [
        "딕셔너리를 생성하면서 중복되는 key 값을 제외한다.\n",
        "<br/>자료구조 딕셔너리는 중복되는 key 값을 허용하지 않는다."
      ],
      "metadata": {
        "id": "ahcE2xKlcVZC"
      }
    },
    {
      "cell_type": "code",
      "source": [
        "kor_raw_df = pd.DataFrame(list(kor_raw_dict.items()), columns=['key', 'value'])\n",
        "eng_raw_df = pd.DataFrame(list(eng_raw_dict.items()), columns=['key', 'value'])\n",
        "df_INNER_JOIN = pd.merge(kor_raw_df, eng_raw_df, left_on='value', right_on='value', how='inner')"
      ],
      "metadata": {
        "id": "zHuw2Ubgkt8t"
      },
      "execution_count": 13,
      "outputs": []
    },
    {
      "cell_type": "code",
      "source": [
        "df_INNER_JOIN"
      ],
      "metadata": {
        "colab": {
          "base_uri": "https://localhost:8080/",
          "height": 424
        },
        "id": "brf4jp9Ukz0s",
        "outputId": "74adfc40-5e28-4cef-865e-62d7925a0745"
      },
      "execution_count": 14,
      "outputs": [
        {
          "output_type": "execute_result",
          "data": {
            "text/plain": [
              "                                                   key_x  value  \\\n",
              "0                   개인용 컴퓨터 사용의 상당 부분은 \"이것보다 뛰어날 수 있느냐?\"      0   \n",
              "1      모든 광마우스와 마찬가지 로 이 광마우스도 책상 위에 놓는 마우스 패드를 필요로 하...      1   \n",
              "2                             그러나 이것은 또한 책상도 필요로 하지 않는다.      2   \n",
              "3      79.95달러하는 이 최첨단 무선 광마우스는 허공에서 팔목, 팔, 그외에 어떤 부분...      3   \n",
              "4      정보 관리들은 동남 아시아에서의 선박들에 대한 많은 (테러) 계획들이 실패로 돌아갔...      4   \n",
              "...                                                  ...    ...   \n",
              "74449  “우리는 3월 8일 김승연 회장과 그의 아들이 보복폭행에 가담한 혐의를 찾기 위해 ...  94118   \n",
              "74450   월요일 술집 종업원 6명은 김회장과 아들에게 폭행을 당했음을 진술했다고 경찰은 말했다.  94119   \n",
              "74451                       그러나 불충분한 증거 확보로 수사에 어려움이 있다.  94120   \n",
              "74452                  김회장과 그의 아들은 보복폭행 혐의를 강력히 부인하고 있다.  94121   \n",
              "74453  경찰은 김회장의 집무실에서 추가 증거를 찾은 이후 가능한 한 오늘 김회장과 아들을 ...  94122   \n",
              "\n",
              "                                                   key_y  \n",
              "0      Much of personal computing is about \"can you t...  \n",
              "1      so a mention a few weeks ago about a rechargea...  \n",
              "2      Like all optical mice, But it also doesn't nee...  \n",
              "3      uses gyroscopic sensors to control the cursor ...  \n",
              "4      Intelligence officials have revealed a spate o...  \n",
              "...                                                  ...  \n",
              "74449  ””We are hoping to seize material evidence to ...  \n",
              "74450  ” On Monday, police secured statements from si...  \n",
              "74451  But the lack of material evidence is making it...  \n",
              "74452         Kim and his son both deny the allegations.  \n",
              "74453  Police are planning to seek arrest warrants fo...  \n",
              "\n",
              "[74454 rows x 3 columns]"
            ],
            "text/html": [
              "\n",
              "  <div id=\"df-b789c6d2-222d-45a7-8e2a-b6492edd80df\">\n",
              "    <div class=\"colab-df-container\">\n",
              "      <div>\n",
              "<style scoped>\n",
              "    .dataframe tbody tr th:only-of-type {\n",
              "        vertical-align: middle;\n",
              "    }\n",
              "\n",
              "    .dataframe tbody tr th {\n",
              "        vertical-align: top;\n",
              "    }\n",
              "\n",
              "    .dataframe thead th {\n",
              "        text-align: right;\n",
              "    }\n",
              "</style>\n",
              "<table border=\"1\" class=\"dataframe\">\n",
              "  <thead>\n",
              "    <tr style=\"text-align: right;\">\n",
              "      <th></th>\n",
              "      <th>key_x</th>\n",
              "      <th>value</th>\n",
              "      <th>key_y</th>\n",
              "    </tr>\n",
              "  </thead>\n",
              "  <tbody>\n",
              "    <tr>\n",
              "      <th>0</th>\n",
              "      <td>개인용 컴퓨터 사용의 상당 부분은 \"이것보다 뛰어날 수 있느냐?\"</td>\n",
              "      <td>0</td>\n",
              "      <td>Much of personal computing is about \"can you t...</td>\n",
              "    </tr>\n",
              "    <tr>\n",
              "      <th>1</th>\n",
              "      <td>모든 광마우스와 마찬가지 로 이 광마우스도 책상 위에 놓는 마우스 패드를 필요로 하...</td>\n",
              "      <td>1</td>\n",
              "      <td>so a mention a few weeks ago about a rechargea...</td>\n",
              "    </tr>\n",
              "    <tr>\n",
              "      <th>2</th>\n",
              "      <td>그러나 이것은 또한 책상도 필요로 하지 않는다.</td>\n",
              "      <td>2</td>\n",
              "      <td>Like all optical mice, But it also doesn't nee...</td>\n",
              "    </tr>\n",
              "    <tr>\n",
              "      <th>3</th>\n",
              "      <td>79.95달러하는 이 최첨단 무선 광마우스는 허공에서 팔목, 팔, 그외에 어떤 부분...</td>\n",
              "      <td>3</td>\n",
              "      <td>uses gyroscopic sensors to control the cursor ...</td>\n",
              "    </tr>\n",
              "    <tr>\n",
              "      <th>4</th>\n",
              "      <td>정보 관리들은 동남 아시아에서의 선박들에 대한 많은 (테러) 계획들이 실패로 돌아갔...</td>\n",
              "      <td>4</td>\n",
              "      <td>Intelligence officials have revealed a spate o...</td>\n",
              "    </tr>\n",
              "    <tr>\n",
              "      <th>...</th>\n",
              "      <td>...</td>\n",
              "      <td>...</td>\n",
              "      <td>...</td>\n",
              "    </tr>\n",
              "    <tr>\n",
              "      <th>74449</th>\n",
              "      <td>“우리는 3월 8일 김승연 회장과 그의 아들이 보복폭행에 가담한 혐의를 찾기 위해 ...</td>\n",
              "      <td>94118</td>\n",
              "      <td>””We are hoping to seize material evidence to ...</td>\n",
              "    </tr>\n",
              "    <tr>\n",
              "      <th>74450</th>\n",
              "      <td>월요일 술집 종업원 6명은 김회장과 아들에게 폭행을 당했음을 진술했다고 경찰은 말했다.</td>\n",
              "      <td>94119</td>\n",
              "      <td>” On Monday, police secured statements from si...</td>\n",
              "    </tr>\n",
              "    <tr>\n",
              "      <th>74451</th>\n",
              "      <td>그러나 불충분한 증거 확보로 수사에 어려움이 있다.</td>\n",
              "      <td>94120</td>\n",
              "      <td>But the lack of material evidence is making it...</td>\n",
              "    </tr>\n",
              "    <tr>\n",
              "      <th>74452</th>\n",
              "      <td>김회장과 그의 아들은 보복폭행 혐의를 강력히 부인하고 있다.</td>\n",
              "      <td>94121</td>\n",
              "      <td>Kim and his son both deny the allegations.</td>\n",
              "    </tr>\n",
              "    <tr>\n",
              "      <th>74453</th>\n",
              "      <td>경찰은 김회장의 집무실에서 추가 증거를 찾은 이후 가능한 한 오늘 김회장과 아들을 ...</td>\n",
              "      <td>94122</td>\n",
              "      <td>Police are planning to seek arrest warrants fo...</td>\n",
              "    </tr>\n",
              "  </tbody>\n",
              "</table>\n",
              "<p>74454 rows × 3 columns</p>\n",
              "</div>\n",
              "      <button class=\"colab-df-convert\" onclick=\"convertToInteractive('df-b789c6d2-222d-45a7-8e2a-b6492edd80df')\"\n",
              "              title=\"Convert this dataframe to an interactive table.\"\n",
              "              style=\"display:none;\">\n",
              "        \n",
              "  <svg xmlns=\"http://www.w3.org/2000/svg\" height=\"24px\"viewBox=\"0 0 24 24\"\n",
              "       width=\"24px\">\n",
              "    <path d=\"M0 0h24v24H0V0z\" fill=\"none\"/>\n",
              "    <path d=\"M18.56 5.44l.94 2.06.94-2.06 2.06-.94-2.06-.94-.94-2.06-.94 2.06-2.06.94zm-11 1L8.5 8.5l.94-2.06 2.06-.94-2.06-.94L8.5 2.5l-.94 2.06-2.06.94zm10 10l.94 2.06.94-2.06 2.06-.94-2.06-.94-.94-2.06-.94 2.06-2.06.94z\"/><path d=\"M17.41 7.96l-1.37-1.37c-.4-.4-.92-.59-1.43-.59-.52 0-1.04.2-1.43.59L10.3 9.45l-7.72 7.72c-.78.78-.78 2.05 0 2.83L4 21.41c.39.39.9.59 1.41.59.51 0 1.02-.2 1.41-.59l7.78-7.78 2.81-2.81c.8-.78.8-2.07 0-2.86zM5.41 20L4 18.59l7.72-7.72 1.47 1.35L5.41 20z\"/>\n",
              "  </svg>\n",
              "      </button>\n",
              "      \n",
              "  <style>\n",
              "    .colab-df-container {\n",
              "      display:flex;\n",
              "      flex-wrap:wrap;\n",
              "      gap: 12px;\n",
              "    }\n",
              "\n",
              "    .colab-df-convert {\n",
              "      background-color: #E8F0FE;\n",
              "      border: none;\n",
              "      border-radius: 50%;\n",
              "      cursor: pointer;\n",
              "      display: none;\n",
              "      fill: #1967D2;\n",
              "      height: 32px;\n",
              "      padding: 0 0 0 0;\n",
              "      width: 32px;\n",
              "    }\n",
              "\n",
              "    .colab-df-convert:hover {\n",
              "      background-color: #E2EBFA;\n",
              "      box-shadow: 0px 1px 2px rgba(60, 64, 67, 0.3), 0px 1px 3px 1px rgba(60, 64, 67, 0.15);\n",
              "      fill: #174EA6;\n",
              "    }\n",
              "\n",
              "    [theme=dark] .colab-df-convert {\n",
              "      background-color: #3B4455;\n",
              "      fill: #D2E3FC;\n",
              "    }\n",
              "\n",
              "    [theme=dark] .colab-df-convert:hover {\n",
              "      background-color: #434B5C;\n",
              "      box-shadow: 0px 1px 3px 1px rgba(0, 0, 0, 0.15);\n",
              "      filter: drop-shadow(0px 1px 2px rgba(0, 0, 0, 0.3));\n",
              "      fill: #FFFFFF;\n",
              "    }\n",
              "  </style>\n",
              "\n",
              "      <script>\n",
              "        const buttonEl =\n",
              "          document.querySelector('#df-b789c6d2-222d-45a7-8e2a-b6492edd80df button.colab-df-convert');\n",
              "        buttonEl.style.display =\n",
              "          google.colab.kernel.accessAllowed ? 'block' : 'none';\n",
              "\n",
              "        async function convertToInteractive(key) {\n",
              "          const element = document.querySelector('#df-b789c6d2-222d-45a7-8e2a-b6492edd80df');\n",
              "          const dataTable =\n",
              "            await google.colab.kernel.invokeFunction('convertToInteractive',\n",
              "                                                     [key], {});\n",
              "          if (!dataTable) return;\n",
              "\n",
              "          const docLinkHtml = 'Like what you see? Visit the ' +\n",
              "            '<a target=\"_blank\" href=https://colab.research.google.com/notebooks/data_table.ipynb>data table notebook</a>'\n",
              "            + ' to learn more about interactive tables.';\n",
              "          element.innerHTML = '';\n",
              "          dataTable['output_type'] = 'display_data';\n",
              "          await google.colab.output.renderOutput(dataTable, element);\n",
              "          const docLink = document.createElement('div');\n",
              "          docLink.innerHTML = docLinkHtml;\n",
              "          element.appendChild(docLink);\n",
              "        }\n",
              "      </script>\n",
              "    </div>\n",
              "  </div>\n",
              "  "
            ]
          },
          "metadata": {},
          "execution_count": 14
        }
      ]
    },
    {
      "cell_type": "markdown",
      "source": [
        "데이터의 병렬 쌍이 흐트러지지 않도록 데이터프레임의 INNER JOIN을 한다."
      ],
      "metadata": {
        "id": "69Fak6iFcn4M"
      }
    },
    {
      "cell_type": "code",
      "source": [
        "kor_unique = list(df_INNER_JOIN['key_x'])\n",
        "eng_unique = list(df_INNER_JOIN['key_y'])"
      ],
      "metadata": {
        "id": "bozrN0-1mWf0"
      },
      "execution_count": 15,
      "outputs": []
    },
    {
      "cell_type": "markdown",
      "source": [
        "데이터프레임의 key_x, key_y를 리스트로 저장한다.\n",
        "<br/>kor_unique는 중복 데이터를 제외한 한국어 문장의 리스트이다.\n",
        "<br/>eng_unique는 중복 데이터를 제외한 영어 문장의 리스트이다."
      ],
      "metadata": {
        "id": "roxTfr43c1QF"
      }
    },
    {
      "cell_type": "markdown",
      "source": [
        "##정제"
      ],
      "metadata": {
        "id": "haE3iHPenY2z"
      }
    },
    {
      "cell_type": "code",
      "source": [
        "def kor_preprocess_sentence(sentence):\n",
        "\n",
        "    sentence = sentence.lower().strip()\n",
        "    sentence = re.sub(r\"([?.!,])\", r\" \\1 \", sentence)\n",
        "    sentence = re.sub(r'[\" \"]+', \" \", sentence)\n",
        "    sentence = re.sub(r\"[^가-힣a-zA-Z?.!,]+\", \" \", sentence)\n",
        "    sentence = sentence.strip()\n",
        "    \n",
        "    mecab = Mecab()\n",
        "    sentence = mecab.morphs(sentence) \n",
        "\n",
        "    return sentence"
      ],
      "metadata": {
        "id": "oT1ymjGBSHbo"
      },
      "execution_count": 16,
      "outputs": []
    },
    {
      "cell_type": "code",
      "source": [
        "def eng_preprocess_sentence(sentence, s_token=False, e_token=False):\n",
        "\n",
        "    sentence = sentence.lower().strip()\n",
        "    sentence = re.sub(r\"([?.!,])\", r\" \\1 \", sentence)\n",
        "    sentence = re.sub(r'[\" \"]+', \" \", sentence)\n",
        "    sentence = re.sub(r\"[^가-힣a-zA-Z?.!,]+\", \" \", sentence)\n",
        "    sentence = sentence.strip()\n",
        "    \n",
        "    if s_token:\n",
        "        sentence = '<start> ' + sentence\n",
        "\n",
        "    if e_token:\n",
        "        sentence += ' <end>'\n",
        "\n",
        "    sentence = sentence.split()\n",
        "    \n",
        "    return sentence"
      ],
      "metadata": {
        "id": "jZq3sH0PI6em"
      },
      "execution_count": 17,
      "outputs": []
    },
    {
      "cell_type": "markdown",
      "source": [
        "타겟 문장의 시작 문자 < start >, 종료 문자 < end > 를 붙여준다.\n",
        "<br/>이 작업은 Encoder에 들어갈 입력 문장의 전처리에는 굳이 필요하지 않지만\n",
        "<br/>Decoder의 입력 문장과 라벨로 사용할 출력 문장에는 꼭 필요하다.\n",
        "<br/>Decoder는 첫 입력으로 사용할 시작 토큰과 문장생성 종료를 알리는 끝 토큰이 반드시 필요하기 때문이다."
      ],
      "metadata": {
        "id": "yvUAfGm2KzeO"
      }
    },
    {
      "cell_type": "markdown",
      "source": [
        "<br/>"
      ],
      "metadata": {
        "id": "TMqOA5NFdTSN"
      }
    },
    {
      "cell_type": "markdown",
      "source": [
        "\n",
        "\n",
        "```\n",
        "sentence = re.sub(r'[^\\w]', ' ', sentence)\n",
        "```\n",
        "\n"
      ],
      "metadata": {
        "id": "KxLMkD57dQbM"
      }
    },
    {
      "cell_type": "markdown",
      "source": [
        ""
      ],
      "metadata": {
        "id": "GtkU4lOh2vSW"
      }
    },
    {
      "cell_type": "markdown",
      "source": [
        "문장에서 온점(.)과 반점(,)을 제외할 것인지 남길 것인지 선택한다.\n",
        "<br/>이번 데이터 전처리에서는 온점과 반점을 제외하지 않는다."
      ],
      "metadata": {
        "id": "Zr--wVXZdT6d"
      }
    },
    {
      "cell_type": "markdown",
      "source": [
        "<br/>"
      ],
      "metadata": {
        "id": "FlJ5NtNjL7xe"
      }
    },
    {
      "cell_type": "markdown",
      "source": [
        "<br/>"
      ],
      "metadata": {
        "id": "lgsMcfBzL-4W"
      }
    },
    {
      "cell_type": "markdown",
      "source": [
        "\n",
        "\n",
        "```\n",
        "kor_stopwords = ['의','가','이','은','들','는','좀','잘','걍','과','도','를','으로','자','에','와','한','하다']\n",
        "\n",
        "word_token = []\n",
        "for word in sentence: \n",
        "  if word not in kor_stopwords: \n",
        "    word_token.append(word) \n",
        "\n",
        "```\n",
        "\n"
      ],
      "metadata": {
        "id": "f1RoEysVMAwm"
      }
    },
    {
      "cell_type": "markdown",
      "source": [
        ""
      ],
      "metadata": {
        "id": "B6k5LZZw2wb2"
      }
    },
    {
      "cell_type": "markdown",
      "source": [
        "\n",
        "\n",
        "```\n",
        "eng_stopwords = set(stopwords.words('english')) \n",
        "\n",
        "word_token = []\n",
        "for word in sentence: \n",
        "  if word not in eng_stopwords: \n",
        "    word_token.append(word) \n",
        "```\n",
        "\n"
      ],
      "metadata": {
        "id": "dPPqVMZKL9Ce"
      }
    },
    {
      "cell_type": "markdown",
      "source": [
        ""
      ],
      "metadata": {
        "id": "4Dj5n52p2wDd"
      }
    },
    {
      "cell_type": "markdown",
      "source": [
        "불용어를 제외할 것인지 남길 것인지 선택한다.\n",
        "<br/>이번 데이터 전처리에서는 불용어를 제외하지 않는다."
      ],
      "metadata": {
        "id": "1vZsvYhIL2q3"
      }
    },
    {
      "cell_type": "markdown",
      "source": [
        "<br/>"
      ],
      "metadata": {
        "id": "S4Ix0HChd8cU"
      }
    },
    {
      "cell_type": "code",
      "source": [
        "enc_corpus = []\n",
        "dec_corpus = []\n",
        "num_examples = 30000\n",
        "\n",
        "for kor_sen in kor_unique[:num_examples]:\n",
        "  enc_corpus.append(kor_preprocess_sentence(kor_sen))\n",
        "\n",
        "for eng_sen in eng_unique[:num_examples]:\n",
        "  dec_corpus.append(eng_preprocess_sentence(eng_sen, s_token=True, e_token=True))"
      ],
      "metadata": {
        "id": "HzEUI3qlIOPm"
      },
      "execution_count": null,
      "outputs": []
    },
    {
      "cell_type": "markdown",
      "source": [
        "중복 데이터를 제외한 문장 리스트에서 소스 문장, 타겟 문장을 추출한다.\n",
        "<br/>소스 문장으로 한국어 문장, 타겟 문장으로 영어 문장을 사용한다. \n",
        "<br/>타겟 문장인 영어 문장의 시작 문자 < start >, 종료 문자 < end > 를 붙여준다."
      ],
      "metadata": {
        "id": "5ocgqnxPV-hN"
      }
    },
    {
      "cell_type": "code",
      "source": [
        "print(\"Korean \\n\", enc_corpus[90])  \n",
        "print()\n",
        "print(\"English \\n\", dec_corpus[90])  "
      ],
      "metadata": {
        "colab": {
          "base_uri": "https://localhost:8080/"
        },
        "id": "KQnJHeCbUCgU",
        "outputId": "62f4e62a-a817-4e59-f69c-d436b4ed7ef8"
      },
      "execution_count": null,
      "outputs": [
        {
          "output_type": "stream",
          "name": "stdout",
          "text": [
            "Korean \n",
            " ['그', '는', '이', '연구', '결과', '가', '심장', '협회', '의', '지침', '과', '도', '부합', '된다고', '말', '했', '는데', ',', '심장', '협회', '의', '지침', '은', '일', '주일', '에', '적어도', '일', '은', '유산소', '운동', '을', '하', '고', ',', '매주', '번', '은', '근력', '운동', '을', '하', '라고', '권장', '하', '고', '있', '다', '.']\n",
            "\n",
            "English \n",
            " ['<start>', 'he', 'said', 'the', 'findings', 'correspond', 'with', 'aha', 'guidelines', ',', 'which', 'recommend', 'aerobic', 'exercise', 'at', 'least', 'six', 'days', 'a', 'week', 'and', 'weight', 'training', 'two', 'or', 'three', 'times', 'weekly', '.', '<end>']\n"
          ]
        }
      ]
    },
    {
      "cell_type": "markdown",
      "source": [
        "##토큰화"
      ],
      "metadata": {
        "id": "zDyPR62LUe9z"
      }
    },
    {
      "cell_type": "code",
      "source": [
        "def tokenize(corpus):\n",
        "\n",
        "    text_max_len = 40\n",
        "    tokenizer = tf.keras.preprocessing.text.Tokenizer(filters='')\n",
        "    tokenizer.fit_on_texts(corpus)\n",
        "    tensor = tokenizer.texts_to_sequences(corpus)\n",
        "    tensor = tf.keras.preprocessing.sequence.pad_sequences(tensor, padding='post', maxlen=text_max_len)\n",
        "\n",
        "    return tensor, tokenizer"
      ],
      "metadata": {
        "id": "698q9cMulPmt"
      },
      "execution_count": 18,
      "outputs": []
    },
    {
      "cell_type": "code",
      "source": [
        "enc_tensor, enc_tokenizer = tokenize(enc_corpus)\n",
        "dec_tensor, dec_tokenizer = tokenize(dec_corpus)"
      ],
      "metadata": {
        "id": "ByBNiX4r_U7c"
      },
      "execution_count": null,
      "outputs": []
    },
    {
      "cell_type": "markdown",
      "source": [
        "토큰을 정수 인코딩하여 텐서로 변환한다.\n",
        "<br/>모든 데이터를 사용할 경우 학습에 굉장히 오랜 시간이 걸리기 때문에 토큰의 길이가 40 이하인 데이터를 선별한다."
      ],
      "metadata": {
        "id": "pCs-SCuR_ofc"
      }
    },
    {
      "cell_type": "code",
      "source": [
        "print(\"Korean Vocab Size :\", len(enc_tokenizer.index_word))\n",
        "print(\"English Vocab Size :\", len(dec_tokenizer.index_word))"
      ],
      "metadata": {
        "id": "l1MKIq-QSVtq",
        "colab": {
          "base_uri": "https://localhost:8080/"
        },
        "outputId": "d7b2e302-4f45-4ea5-f75e-6d960e577301"
      },
      "execution_count": null,
      "outputs": [
        {
          "output_type": "stream",
          "name": "stdout",
          "text": [
            "Korean Vocab Size : 31795\n",
            "English Vocab Size : 30386\n"
          ]
        }
      ]
    },
    {
      "cell_type": "markdown",
      "source": [
        "#모델 구성"
      ],
      "metadata": {
        "id": "XQYkUWNfQyaq"
      }
    },
    {
      "cell_type": "markdown",
      "source": [
        "##Seq2seq with Attention"
      ],
      "metadata": {
        "id": "1HV87zOW3MJd"
      }
    },
    {
      "cell_type": "markdown",
      "source": [
        "Attention 기반 Seq2seq 모델을 구성한다.\n",
        "<br/>각각 1개의 GRU을 갖는 Encoder-Decoder 구조를 갖는다."
      ],
      "metadata": {
        "id": "FHVN7OE8UtBY"
      }
    },
    {
      "cell_type": "code",
      "source": [
        "Image(filename='/content/drive/MyDrive/lms/seq2seq_translation/GRU_Structure.jpg') "
      ],
      "metadata": {
        "colab": {
          "base_uri": "https://localhost:8080/",
          "height": 593
        },
        "id": "ND-g8_7FWgGo",
        "outputId": "3cf1b60d-b0c6-44d7-84f9-c09ad996e838"
      },
      "execution_count": null,
      "outputs": [
        {
          "output_type": "execute_result",
          "data": {
            "text/plain": [
              "<IPython.core.display.Image object>"
            ],
            "image/jpeg": "[encoded data removed]"
          },
          "metadata": {},
          "execution_count": 28
        }
      ]
    },
    {
      "cell_type": "code",
      "source": [
        "class BahdanauAttention(tf.keras.layers.Layer):\n",
        "    def __init__(self, units):\n",
        "        super(BahdanauAttention, self).__init__()\n",
        "        self.w_dec = tf.keras.layers.Dense(units)\n",
        "        self.w_enc = tf.keras.layers.Dense(units)\n",
        "        self.w_com = tf.keras.layers.Dense(1)\n",
        "    \n",
        "    def call(self, h_enc, h_dec):\n",
        "        # h_enc shape: [batch x length x units]\n",
        "        # h_dec shape: [batch x units]\n",
        "\n",
        "        h_enc = self.w_enc(h_enc)\n",
        "        h_dec = tf.expand_dims(h_dec, 1)\n",
        "        h_dec = self.w_dec(h_dec)\n",
        "\n",
        "        score = self.w_com(tf.nn.tanh(h_dec + h_enc))\n",
        "        \n",
        "        attn = tf.nn.softmax(score, axis=1)\n",
        "\n",
        "        context_vec = attn * h_enc\n",
        "        context_vec = tf.reduce_sum(context_vec, axis=1)\n",
        "\n",
        "        return context_vec, attn"
      ],
      "metadata": {
        "id": "KopZUzDGSehB"
      },
      "execution_count": 19,
      "outputs": []
    },
    {
      "cell_type": "code",
      "source": [
        "class Encoder(tf.keras.Model):\n",
        "    def __init__(self, vocab_size, embedding_dim, enc_units, dropout):\n",
        "        super(Encoder, self).__init__()\n",
        "        \n",
        "        self.enc_units = enc_units\n",
        "        self.embedding = tf.keras.layers.Embedding(vocab_size, embedding_dim)\n",
        "        self.gru = tf.keras.layers.GRU(enc_units, return_sequences=True, dropout=dropout)\n",
        "        self.dropout = tf.keras.layers.Dropout(dropout)\n",
        "        \n",
        "    def call(self, x):\n",
        "        out = self.embedding(x)\n",
        "        out = self.gru(out)\n",
        "        \n",
        "        return out"
      ],
      "metadata": {
        "id": "H_lE8uqLSp3p"
      },
      "execution_count": 20,
      "outputs": []
    },
    {
      "cell_type": "markdown",
      "source": [
        "Encoder는 모든 Time-Step의 Hidden State를 출력으로 갖는다.\n",
        "<br/>일반적으로 Encoder의 Final State를 Hidden State로 사용한다."
      ],
      "metadata": {
        "id": "qiu-if_gQyiF"
      }
    },
    {
      "cell_type": "code",
      "source": [
        "class Decoder(tf.keras.Model):\n",
        "    def __init__(self, vocab_size, embedding_dim, dec_units, dropout):\n",
        "        super(Decoder, self).__init__()\n",
        "        self.dec_units = dec_units\n",
        "        self.embedding = tf.keras.layers.Embedding(vocab_size, embedding_dim)\n",
        "        self.gru = tf.keras.layers.GRU(dec_units, return_sequences=True,\n",
        "                                       return_state=True, dropout=dropout)\n",
        "        self.fc = tf.keras.layers.Dense(vocab_size)\n",
        "        self.dropout = tf.keras.layers.Dropout(dropout)\n",
        "        self.attention = BahdanauAttention(self.dec_units)\n",
        "\n",
        "    def call(self, x, h_dec, enc_out):\n",
        "        context_vec, attn = self.attention(enc_out, h_dec)\n",
        "\n",
        "        out = self.embedding(x)\n",
        "        out = tf.concat([tf.expand_dims(context_vec, 1), out], axis=-1)\n",
        "        \n",
        "        out, h_dec = self.gru(out)\n",
        "        out = tf.reshape(out, (-1, out.shape[2]))\n",
        "        out = self.fc(out)\n",
        "\n",
        "        return out, h_dec, attn"
      ],
      "metadata": {
        "id": "XjSl8zodShjh"
      },
      "execution_count": 21,
      "outputs": []
    },
    {
      "cell_type": "markdown",
      "source": [
        "Decoder는 Encoder의 출력과 Decoder의 t-1 Step의 Hidden State로 Attention을 취하여 t Step의 Hidden State를 만든다.\n",
        "<br/>Decoder에서 t Step의 단어로 예측된 것을 실제 정답과 대조해 Loss를 계산한다.\n",
        "<br/>생성된 t Step의 Hidden State는 t+1 Step의 Hidden State를 만들기 위해 다시 Decoder에 전달된다."
      ],
      "metadata": {
        "id": "m9CwHZQ0Q-vf"
      }
    },
    {
      "cell_type": "code",
      "source": [
        "batch_size     = 64\n",
        "src_vocab_size = len(enc_tokenizer.index_word) + 1\n",
        "tgt_vocab_size = len(dec_tokenizer.index_word) + 1\n",
        "\n",
        "units         = 1024\n",
        "embedding_dim = 512\n",
        "dropout = 0.2\n",
        "\n",
        "encoder = Encoder(src_vocab_size, embedding_dim, units, dropout)\n",
        "decoder = Decoder(tgt_vocab_size, embedding_dim, units, dropout)\n",
        "\n",
        "# sample input\n",
        "sequence_len = 30\n",
        "\n",
        "sample_enc = tf.random.uniform((batch_size, sequence_len))\n",
        "sample_output = encoder(sample_enc)\n",
        "\n",
        "print ('Encoder Output :', sample_output.shape)\n",
        "\n",
        "sample_state = tf.random.uniform((batch_size, units))\n",
        "\n",
        "sample_logits, h_dec, attn = decoder(tf.random.uniform((batch_size, 1)),\n",
        "                                     sample_state, sample_output)\n",
        "\n",
        "print ('Decoder Output:', sample_logits.shape)\n",
        "print ('Decoder Hidden State :', h_dec.shape)\n",
        "print ('Attention :', attn.shape)"
      ],
      "metadata": {
        "id": "jBmfxtHVSmw5",
        "colab": {
          "base_uri": "https://localhost:8080/"
        },
        "outputId": "3b9167db-7ccf-45f0-837a-3a9ebfe44ca9"
      },
      "execution_count": 32,
      "outputs": [
        {
          "output_type": "stream",
          "name": "stdout",
          "text": [
            "Encoder Output : (64, 30, 1024)\n",
            "Decoder Output: (64, 44461)\n",
            "Decoder Hidden State : (64, 1024)\n",
            "Attention : (64, 30, 1)\n"
          ]
        }
      ]
    },
    {
      "cell_type": "markdown",
      "source": [
        "Embedding Size와 Hidden Size는 실험을 통해 적당한 값을 맞춰 주도록 한다."
      ],
      "metadata": {
        "id": "rp3JGHfDD6z1"
      }
    },
    {
      "cell_type": "markdown",
      "source": [
        "##Optimizer & Loss"
      ],
      "metadata": {
        "id": "r_V0UPJGQydo"
      }
    },
    {
      "cell_type": "markdown",
      "source": [
        "Seq2seq with Attention에서 model.fit()은 따로 존재하지 않는다.\n",
        "<br/>Encoder-Decoder 구조의 경우 입출력이 단순하지 않아 학습 과정을 직접 정의한다."
      ],
      "metadata": {
        "id": "bEQbsvfiYSLW"
      }
    },
    {
      "cell_type": "code",
      "source": [
        "optimizer = tf.keras.optimizers.Adam()\n",
        "loss_object = tf.keras.losses.SparseCategoricalCrossentropy(\n",
        "    from_logits=True, reduction='none')\n",
        "\n",
        "def loss_function(real, pred):\n",
        "    mask = tf.math.logical_not(tf.math.equal(real, 0))\n",
        "    loss = loss_object(real, pred)\n",
        "    \n",
        "    mask = tf.cast(mask, dtype=loss.dtype)\n",
        "    loss *= mask\n",
        "    \n",
        "    return tf.reduce_mean(loss)"
      ],
      "metadata": {
        "id": "qli0TP1hTIuy"
      },
      "execution_count": 22,
      "outputs": []
    },
    {
      "cell_type": "markdown",
      "source": [
        " Encoder-Decoder 구조는 학습 과정이 일반적이지 않으므로 직접 Loss를 커스텀해서 사용한다.\n",
        " <br/>SparseCategoricalCrossentropy()는 모델이 출력한 확률 분포와 (One-hot이 아닌) 정수 인덱스 답안을 비교해 Cross Entropy값을 구한다.\n",
        "<br/>from_logits는 확률 분포가 Softmax를 거쳐서 들어오는지 모델의 출력값 그대로 들어오는지를 결정 (True/False) 한다.\n",
        "<br/>패딩에 대한 처리를 해주지 않으면 < PAD > 토큰만을 생성할 확률이 높아지기 때문에 이 문제를 방지하기 위해 mask 가 사용된다.\n",
        "<br/>mask는 정답지에서 < PAD > 토큰을 찾아내어 그 부분에 대한 Loss는 구하지 않도록 하는 역할을 한다.\n",
        "<br/>equal()는 정확히는 0 이 아닌 < PAD > 토큰의 인덱스를 전달하는 것이 맞지만 대부분의 경우는 0으로 패딩되기 때문에 편의상 0을 전달하여 처리한다."
      ],
      "metadata": {
        "id": "Aou1f48TYed-"
      }
    },
    {
      "cell_type": "markdown",
      "source": [
        "##Train Step"
      ],
      "metadata": {
        "id": "mByEUb4lU5TR"
      }
    },
    {
      "cell_type": "code",
      "source": [
        "@tf.function\n",
        "def train_step(src, tgt, encoder, decoder, optimizer, dec_tok):\n",
        "    bsz = src.shape[0]\n",
        "    loss = 0\n",
        "\n",
        "    with tf.GradientTape() as tape:\n",
        "        enc_out = encoder(src)\n",
        "        h_dec = enc_out[:, -1]\n",
        "        \n",
        "        dec_src = tf.expand_dims([dec_tok.word_index['<start>']] * bsz, 1)\n",
        "\n",
        "        for t in range(1, tgt.shape[1]):\n",
        "            pred, h_dec, _ = decoder(dec_src, h_dec, enc_out)\n",
        "\n",
        "            loss += loss_function(tgt[:, t], pred)\n",
        "            dec_src = tf.expand_dims(tgt[:, t], 1)\n",
        "        \n",
        "    batch_loss = (loss / int(tgt.shape[1]))\n",
        "\n",
        "    variables = encoder.trainable_variables + decoder.trainable_variables\n",
        "    gradients = tape.gradient(loss, variables)\n",
        "    optimizer.apply_gradients(zip(gradients, variables))\n",
        "    \n",
        "    return batch_loss"
      ],
      "metadata": {
        "id": "5UIeWgvf3Sxm"
      },
      "execution_count": 23,
      "outputs": []
    },
    {
      "cell_type": "markdown",
      "source": [
        "@tf.function 데코레이터는 훈련 외적인 텐서플로우 연산을 GPU에서 동작하게 해 훈련을 가속한다.\n",
        "<br/>tf.GradientTape()는 학습하며 발생한 모든 연산을 기록하는 테이프이다. 모델이 각 스텝의 최종 단계에서 미분값을 구하는 데에 사용된다."
      ],
      "metadata": {
        "id": "L-FDx7Qhdvf1"
      }
    },
    {
      "cell_type": "markdown",
      "source": [
        "train_step()의 학습 과정\n",
        "<br/>1) Encoder에 소스 문장을 전달해 컨텍스트 벡터인 enc_out 을 생성\n",
        "<br/>2) t=0일 때, Decoder의 Hidden State는 Encoder의 Final State로 정의&emsp;|&emsp;h_dec = enc_out[:, -1]\n",
        "<br/>3) Decoder에 입력으로 전달할 < start > 토큰 문장 생성\n",
        "<br/>4) < start > 문장과 enc_out, Hidden State를 기반으로 다음 단어(t=1)를 예측&emsp;|&emsp; pred\n",
        "<br/>5) 예측된 단어와 정답 간의 Loss를 구한 후, t=1의 정답 단어를 다음 입력으로 사용 (예측 단어 X)"
      ],
      "metadata": {
        "id": "oT3nKuq30c2P"
      }
    },
    {
      "cell_type": "markdown",
      "source": [
        "##Evaluation"
      ],
      "metadata": {
        "id": "rFZngHwfJ8iW"
      }
    },
    {
      "cell_type": "code",
      "source": [
        "def preprocess_sentence(sentence):\n",
        "\n",
        "    sentence = sentence.lower().strip()\n",
        "    sentence = re.sub(r\"([?.!,])\", r\" \\1 \", sentence)\n",
        "    sentence = re.sub(r'[\" \"]+', \" \", sentence)\n",
        "    sentence = re.sub(r\"[^가-힣a-zA-Z?.!,]+\", \" \", sentence)\n",
        "    sentence = sentence.strip()\n",
        "\n",
        "    return sentence"
      ],
      "metadata": {
        "id": "a6857HzfZrBT"
      },
      "execution_count": 24,
      "outputs": []
    },
    {
      "cell_type": "code",
      "source": [
        "def evaluate(sentence, encoder, decoder):\n",
        "\n",
        "    attention = np.zeros((dec_train.shape[-1], enc_train.shape[-1]))\n",
        "    sentence = preprocess_sentence(sentence)\n",
        "\n",
        "    mecab = Mecab()\n",
        "    inputs = enc_tokenizer.texts_to_sequences([mecab.morphs(sentence)])\n",
        "    inputs = tf.keras.preprocessing.sequence.pad_sequences(inputs,\n",
        "                                                           maxlen=enc_train.shape[-1],\n",
        "                                                           padding='post')\n",
        "\n",
        "    result = ''\n",
        "\n",
        "    enc_out = encoder(inputs)\n",
        "\n",
        "    dec_hidden = enc_out[:, -1]\n",
        "    dec_input = tf.expand_dims([dec_tokenizer.word_index['<start>']], 0)\n",
        "\n",
        "    for t in range(dec_train.shape[-1]):\n",
        "        predictions, dec_hidden, attention_weights = decoder(dec_input,\n",
        "                                                             dec_hidden,\n",
        "                                                             enc_out)\n",
        "\n",
        "        attention_weights = tf.reshape(attention_weights, (-1, ))\n",
        "        attention[t] = attention_weights.numpy()\n",
        "\n",
        "        predicted_id = \\\n",
        "        tf.argmax(tf.math.softmax(predictions, axis=-1)[0]).numpy()\n",
        "\n",
        "        result += dec_tokenizer.index_word[predicted_id] + ' '\n",
        "\n",
        "        if dec_tokenizer.index_word[predicted_id] == '<end>':\n",
        "            return result, sentence, attention\n",
        "\n",
        "        dec_input = tf.expand_dims([predicted_id], 0)\n",
        "\n",
        "    return result, sentence, attention"
      ],
      "metadata": {
        "id": "cD2iro8gKA42"
      },
      "execution_count": 25,
      "outputs": []
    },
    {
      "cell_type": "code",
      "source": [
        "def plot_attention(attention, sentence, predicted_sentence):\n",
        "    fig = plt.figure(figsize=(10,10))\n",
        "    ax = fig.add_subplot(1, 1, 1)\n",
        "    ax.matshow(attention, cmap='viridis')\n",
        "\n",
        "    fontdict = {'fontsize': 14}\n",
        "\n",
        "    ax.set_xticklabels([''] + sentence, fontdict=fontdict, rotation=90)\n",
        "    ax.set_yticklabels([''] + predicted_sentence, fontdict=fontdict)\n",
        "\n",
        "    ax.xaxis.set_major_locator(ticker.MultipleLocator(1))\n",
        "    ax.yaxis.set_major_locator(ticker.MultipleLocator(1))\n",
        "\n",
        "    plt.show()"
      ],
      "metadata": {
        "id": "CMErtIPMKA7n"
      },
      "execution_count": 26,
      "outputs": []
    },
    {
      "cell_type": "code",
      "source": [
        "def translate(sentence, encoder, decoder):\n",
        "    result, sentence, attention = evaluate(sentence, encoder, decoder)\n",
        "\n",
        "    print('Input : %s' % (sentence))\n",
        "    print('Predicted translation : {}'.format(result))\n",
        "    print()\n",
        "\n",
        "    mecab = Mecab()\n",
        "    attention = attention[:len(result.split()), :len(mecab.morphs(sentence))]\n",
        "    plot_attention(attention, mecab.morphs(sentence), result.split(' '))"
      ],
      "metadata": {
        "id": "drggxXa8KGIn"
      },
      "execution_count": 27,
      "outputs": []
    },
    {
      "cell_type": "code",
      "source": [
        "def sentence_translator(sentence, encoder, decoder):\n",
        "    result, sentence, attention = evaluate(sentence, encoder, decoder)\n",
        "\n",
        "    print('Input : %s' % (sentence))\n",
        "    print('Predicted translation : {}'.format(result))"
      ],
      "metadata": {
        "id": "Q0qWCoV-KGK0"
      },
      "execution_count": 28,
      "outputs": []
    },
    {
      "cell_type": "markdown",
      "source": [
        "#모델 학습"
      ],
      "metadata": {
        "id": "nSalN8tZiTiu"
      }
    },
    {
      "cell_type": "markdown",
      "source": [
        "##Hyperparameter"
      ],
      "metadata": {
        "id": "wLEqhhenjD0g"
      }
    },
    {
      "cell_type": "code",
      "source": [
        "hyperparameter_tuning = pd.DataFrame({'Model':[1, 2, 3, 4],\n",
        "                             'Batch Size':[64, 32, 128, 64],\n",
        "                             'Units':[1024, 256, 128, 128], \n",
        "                             'Embedding Dimension':[512, 64, 128, 64]})"
      ],
      "metadata": {
        "id": "K7bQYzEUiULk"
      },
      "execution_count": null,
      "outputs": []
    },
    {
      "cell_type": "code",
      "source": [
        "hyperparameter_tuning "
      ],
      "metadata": {
        "colab": {
          "base_uri": "https://localhost:8080/",
          "height": 175
        },
        "id": "iCiawiB0jCw9",
        "outputId": "1269e465-455e-414a-adbc-0dc88f251c4b"
      },
      "execution_count": null,
      "outputs": [
        {
          "output_type": "execute_result",
          "data": {
            "text/plain": [
              "   Model  Batch Size  Units  Embedding Dimension\n",
              "0      1          64   1024                  512\n",
              "1      2          32    256                   64\n",
              "2      3         128    128                  128\n",
              "3      4          64    128                   64"
            ],
            "text/html": [
              "\n",
              "  <div id=\"df-22dfbe9b-6de2-4456-bc2d-45d44cf63cd1\">\n",
              "    <div class=\"colab-df-container\">\n",
              "      <div>\n",
              "<style scoped>\n",
              "    .dataframe tbody tr th:only-of-type {\n",
              "        vertical-align: middle;\n",
              "    }\n",
              "\n",
              "    .dataframe tbody tr th {\n",
              "        vertical-align: top;\n",
              "    }\n",
              "\n",
              "    .dataframe thead th {\n",
              "        text-align: right;\n",
              "    }\n",
              "</style>\n",
              "<table border=\"1\" class=\"dataframe\">\n",
              "  <thead>\n",
              "    <tr style=\"text-align: right;\">\n",
              "      <th></th>\n",
              "      <th>Model</th>\n",
              "      <th>Batch Size</th>\n",
              "      <th>Units</th>\n",
              "      <th>Embedding Dimension</th>\n",
              "    </tr>\n",
              "  </thead>\n",
              "  <tbody>\n",
              "    <tr>\n",
              "      <th>0</th>\n",
              "      <td>1</td>\n",
              "      <td>64</td>\n",
              "      <td>1024</td>\n",
              "      <td>512</td>\n",
              "    </tr>\n",
              "    <tr>\n",
              "      <th>1</th>\n",
              "      <td>2</td>\n",
              "      <td>32</td>\n",
              "      <td>256</td>\n",
              "      <td>64</td>\n",
              "    </tr>\n",
              "    <tr>\n",
              "      <th>2</th>\n",
              "      <td>3</td>\n",
              "      <td>128</td>\n",
              "      <td>128</td>\n",
              "      <td>128</td>\n",
              "    </tr>\n",
              "    <tr>\n",
              "      <th>3</th>\n",
              "      <td>4</td>\n",
              "      <td>64</td>\n",
              "      <td>128</td>\n",
              "      <td>64</td>\n",
              "    </tr>\n",
              "  </tbody>\n",
              "</table>\n",
              "</div>\n",
              "      <button class=\"colab-df-convert\" onclick=\"convertToInteractive('df-22dfbe9b-6de2-4456-bc2d-45d44cf63cd1')\"\n",
              "              title=\"Convert this dataframe to an interactive table.\"\n",
              "              style=\"display:none;\">\n",
              "        \n",
              "  <svg xmlns=\"http://www.w3.org/2000/svg\" height=\"24px\"viewBox=\"0 0 24 24\"\n",
              "       width=\"24px\">\n",
              "    <path d=\"M0 0h24v24H0V0z\" fill=\"none\"/>\n",
              "    <path d=\"M18.56 5.44l.94 2.06.94-2.06 2.06-.94-2.06-.94-.94-2.06-.94 2.06-2.06.94zm-11 1L8.5 8.5l.94-2.06 2.06-.94-2.06-.94L8.5 2.5l-.94 2.06-2.06.94zm10 10l.94 2.06.94-2.06 2.06-.94-2.06-.94-.94-2.06-.94 2.06-2.06.94z\"/><path d=\"M17.41 7.96l-1.37-1.37c-.4-.4-.92-.59-1.43-.59-.52 0-1.04.2-1.43.59L10.3 9.45l-7.72 7.72c-.78.78-.78 2.05 0 2.83L4 21.41c.39.39.9.59 1.41.59.51 0 1.02-.2 1.41-.59l7.78-7.78 2.81-2.81c.8-.78.8-2.07 0-2.86zM5.41 20L4 18.59l7.72-7.72 1.47 1.35L5.41 20z\"/>\n",
              "  </svg>\n",
              "      </button>\n",
              "      \n",
              "  <style>\n",
              "    .colab-df-container {\n",
              "      display:flex;\n",
              "      flex-wrap:wrap;\n",
              "      gap: 12px;\n",
              "    }\n",
              "\n",
              "    .colab-df-convert {\n",
              "      background-color: #E8F0FE;\n",
              "      border: none;\n",
              "      border-radius: 50%;\n",
              "      cursor: pointer;\n",
              "      display: none;\n",
              "      fill: #1967D2;\n",
              "      height: 32px;\n",
              "      padding: 0 0 0 0;\n",
              "      width: 32px;\n",
              "    }\n",
              "\n",
              "    .colab-df-convert:hover {\n",
              "      background-color: #E2EBFA;\n",
              "      box-shadow: 0px 1px 2px rgba(60, 64, 67, 0.3), 0px 1px 3px 1px rgba(60, 64, 67, 0.15);\n",
              "      fill: #174EA6;\n",
              "    }\n",
              "\n",
              "    [theme=dark] .colab-df-convert {\n",
              "      background-color: #3B4455;\n",
              "      fill: #D2E3FC;\n",
              "    }\n",
              "\n",
              "    [theme=dark] .colab-df-convert:hover {\n",
              "      background-color: #434B5C;\n",
              "      box-shadow: 0px 1px 3px 1px rgba(0, 0, 0, 0.15);\n",
              "      filter: drop-shadow(0px 1px 2px rgba(0, 0, 0, 0.3));\n",
              "      fill: #FFFFFF;\n",
              "    }\n",
              "  </style>\n",
              "\n",
              "      <script>\n",
              "        const buttonEl =\n",
              "          document.querySelector('#df-22dfbe9b-6de2-4456-bc2d-45d44cf63cd1 button.colab-df-convert');\n",
              "        buttonEl.style.display =\n",
              "          google.colab.kernel.accessAllowed ? 'block' : 'none';\n",
              "\n",
              "        async function convertToInteractive(key) {\n",
              "          const element = document.querySelector('#df-22dfbe9b-6de2-4456-bc2d-45d44cf63cd1');\n",
              "          const dataTable =\n",
              "            await google.colab.kernel.invokeFunction('convertToInteractive',\n",
              "                                                     [key], {});\n",
              "          if (!dataTable) return;\n",
              "\n",
              "          const docLinkHtml = 'Like what you see? Visit the ' +\n",
              "            '<a target=\"_blank\" href=https://colab.research.google.com/notebooks/data_table.ipynb>data table notebook</a>'\n",
              "            + ' to learn more about interactive tables.';\n",
              "          element.innerHTML = '';\n",
              "          dataTable['output_type'] = 'display_data';\n",
              "          await google.colab.output.renderOutput(dataTable, element);\n",
              "          const docLink = document.createElement('div');\n",
              "          docLink.innerHTML = docLinkHtml;\n",
              "          element.appendChild(docLink);\n",
              "        }\n",
              "      </script>\n",
              "    </div>\n",
              "  </div>\n",
              "  "
            ]
          },
          "metadata": {},
          "execution_count": 31
        }
      ]
    },
    {
      "cell_type": "code",
      "source": [
        "Embedding_Hidden_Size = pd.DataFrame({'Encoder Output':['(64, 30, 1024)', '(32, 30, 256)', '(128, 30, 128)', '(64, 30, 128)'],\n",
        "                   'Decoder Output':['(64, 44461)', '(32, 44461)', '(128, 44461)', '(64, 44461)'],\n",
        "                   'Decoder Hidden State':['(64, 1024)', '(32, 256)', '(128, 128)', '(64, 128)'],\n",
        "                   'Attention':['(64, 30, 1)', '(32, 30, 1)', '(128, 30, 1)', '(64, 30, 1)']},\n",
        "                  index=['Model 1', 'Model 2', 'Model 3', 'Model 4'])"
      ],
      "metadata": {
        "id": "LKn6OjiF5dvh"
      },
      "execution_count": 34,
      "outputs": []
    },
    {
      "cell_type": "code",
      "source": [
        "Embedding_Hidden_Size"
      ],
      "metadata": {
        "colab": {
          "base_uri": "https://localhost:8080/",
          "height": 175
        },
        "id": "_EQgHHCj9nmB",
        "outputId": "ca5e7be3-c13e-48ab-8e8f-843367e48cb9"
      },
      "execution_count": 35,
      "outputs": [
        {
          "output_type": "execute_result",
          "data": {
            "text/plain": [
              "         Encoder Output Decoder Output Decoder Hidden State     Attention\n",
              "Model 1  (64, 30, 1024)    (64, 44461)           (64, 1024)   (64, 30, 1)\n",
              "Model 2   (32, 30, 256)    (32, 44461)            (32, 256)   (32, 30, 1)\n",
              "Model 3  (128, 30, 128)   (128, 44461)           (128, 128)  (128, 30, 1)\n",
              "Model 4   (64, 30, 128)    (64, 44461)            (64, 128)   (64, 30, 1)"
            ],
            "text/html": [
              "\n",
              "  <div id=\"df-a6f988f3-22f8-4083-829c-2d9f5c49dd59\">\n",
              "    <div class=\"colab-df-container\">\n",
              "      <div>\n",
              "<style scoped>\n",
              "    .dataframe tbody tr th:only-of-type {\n",
              "        vertical-align: middle;\n",
              "    }\n",
              "\n",
              "    .dataframe tbody tr th {\n",
              "        vertical-align: top;\n",
              "    }\n",
              "\n",
              "    .dataframe thead th {\n",
              "        text-align: right;\n",
              "    }\n",
              "</style>\n",
              "<table border=\"1\" class=\"dataframe\">\n",
              "  <thead>\n",
              "    <tr style=\"text-align: right;\">\n",
              "      <th></th>\n",
              "      <th>Encoder Output</th>\n",
              "      <th>Decoder Output</th>\n",
              "      <th>Decoder Hidden State</th>\n",
              "      <th>Attention</th>\n",
              "    </tr>\n",
              "  </thead>\n",
              "  <tbody>\n",
              "    <tr>\n",
              "      <th>Model 1</th>\n",
              "      <td>(64, 30, 1024)</td>\n",
              "      <td>(64, 44461)</td>\n",
              "      <td>(64, 1024)</td>\n",
              "      <td>(64, 30, 1)</td>\n",
              "    </tr>\n",
              "    <tr>\n",
              "      <th>Model 2</th>\n",
              "      <td>(32, 30, 256)</td>\n",
              "      <td>(32, 44461)</td>\n",
              "      <td>(32, 256)</td>\n",
              "      <td>(32, 30, 1)</td>\n",
              "    </tr>\n",
              "    <tr>\n",
              "      <th>Model 3</th>\n",
              "      <td>(128, 30, 128)</td>\n",
              "      <td>(128, 44461)</td>\n",
              "      <td>(128, 128)</td>\n",
              "      <td>(128, 30, 1)</td>\n",
              "    </tr>\n",
              "    <tr>\n",
              "      <th>Model 4</th>\n",
              "      <td>(64, 30, 128)</td>\n",
              "      <td>(64, 44461)</td>\n",
              "      <td>(64, 128)</td>\n",
              "      <td>(64, 30, 1)</td>\n",
              "    </tr>\n",
              "  </tbody>\n",
              "</table>\n",
              "</div>\n",
              "      <button class=\"colab-df-convert\" onclick=\"convertToInteractive('df-a6f988f3-22f8-4083-829c-2d9f5c49dd59')\"\n",
              "              title=\"Convert this dataframe to an interactive table.\"\n",
              "              style=\"display:none;\">\n",
              "        \n",
              "  <svg xmlns=\"http://www.w3.org/2000/svg\" height=\"24px\"viewBox=\"0 0 24 24\"\n",
              "       width=\"24px\">\n",
              "    <path d=\"M0 0h24v24H0V0z\" fill=\"none\"/>\n",
              "    <path d=\"M18.56 5.44l.94 2.06.94-2.06 2.06-.94-2.06-.94-.94-2.06-.94 2.06-2.06.94zm-11 1L8.5 8.5l.94-2.06 2.06-.94-2.06-.94L8.5 2.5l-.94 2.06-2.06.94zm10 10l.94 2.06.94-2.06 2.06-.94-2.06-.94-.94-2.06-.94 2.06-2.06.94z\"/><path d=\"M17.41 7.96l-1.37-1.37c-.4-.4-.92-.59-1.43-.59-.52 0-1.04.2-1.43.59L10.3 9.45l-7.72 7.72c-.78.78-.78 2.05 0 2.83L4 21.41c.39.39.9.59 1.41.59.51 0 1.02-.2 1.41-.59l7.78-7.78 2.81-2.81c.8-.78.8-2.07 0-2.86zM5.41 20L4 18.59l7.72-7.72 1.47 1.35L5.41 20z\"/>\n",
              "  </svg>\n",
              "      </button>\n",
              "      \n",
              "  <style>\n",
              "    .colab-df-container {\n",
              "      display:flex;\n",
              "      flex-wrap:wrap;\n",
              "      gap: 12px;\n",
              "    }\n",
              "\n",
              "    .colab-df-convert {\n",
              "      background-color: #E8F0FE;\n",
              "      border: none;\n",
              "      border-radius: 50%;\n",
              "      cursor: pointer;\n",
              "      display: none;\n",
              "      fill: #1967D2;\n",
              "      height: 32px;\n",
              "      padding: 0 0 0 0;\n",
              "      width: 32px;\n",
              "    }\n",
              "\n",
              "    .colab-df-convert:hover {\n",
              "      background-color: #E2EBFA;\n",
              "      box-shadow: 0px 1px 2px rgba(60, 64, 67, 0.3), 0px 1px 3px 1px rgba(60, 64, 67, 0.15);\n",
              "      fill: #174EA6;\n",
              "    }\n",
              "\n",
              "    [theme=dark] .colab-df-convert {\n",
              "      background-color: #3B4455;\n",
              "      fill: #D2E3FC;\n",
              "    }\n",
              "\n",
              "    [theme=dark] .colab-df-convert:hover {\n",
              "      background-color: #434B5C;\n",
              "      box-shadow: 0px 1px 3px 1px rgba(0, 0, 0, 0.15);\n",
              "      filter: drop-shadow(0px 1px 2px rgba(0, 0, 0, 0.3));\n",
              "      fill: #FFFFFF;\n",
              "    }\n",
              "  </style>\n",
              "\n",
              "      <script>\n",
              "        const buttonEl =\n",
              "          document.querySelector('#df-a6f988f3-22f8-4083-829c-2d9f5c49dd59 button.colab-df-convert');\n",
              "        buttonEl.style.display =\n",
              "          google.colab.kernel.accessAllowed ? 'block' : 'none';\n",
              "\n",
              "        async function convertToInteractive(key) {\n",
              "          const element = document.querySelector('#df-a6f988f3-22f8-4083-829c-2d9f5c49dd59');\n",
              "          const dataTable =\n",
              "            await google.colab.kernel.invokeFunction('convertToInteractive',\n",
              "                                                     [key], {});\n",
              "          if (!dataTable) return;\n",
              "\n",
              "          const docLinkHtml = 'Like what you see? Visit the ' +\n",
              "            '<a target=\"_blank\" href=https://colab.research.google.com/notebooks/data_table.ipynb>data table notebook</a>'\n",
              "            + ' to learn more about interactive tables.';\n",
              "          element.innerHTML = '';\n",
              "          dataTable['output_type'] = 'display_data';\n",
              "          await google.colab.output.renderOutput(dataTable, element);\n",
              "          const docLink = document.createElement('div');\n",
              "          docLink.innerHTML = docLinkHtml;\n",
              "          element.appendChild(docLink);\n",
              "        }\n",
              "      </script>\n",
              "    </div>\n",
              "  </div>\n",
              "  "
            ]
          },
          "metadata": {},
          "execution_count": 35
        }
      ]
    },
    {
      "cell_type": "markdown",
      "source": [
        "##Model Initialization"
      ],
      "metadata": {
        "id": "RVepRStOmk1u"
      }
    },
    {
      "cell_type": "markdown",
      "source": [
        "하이퍼 파라미터 튜닝을 하여 새로운 모델을 구성하고 다시 학습할 때\n",
        "Google Colab의 런타임을 다시 시작해야 한다.\n",
        "<br/>런타임 재시작할 때마다 처음부터 코드를 작동시켜야하는 번거로움을 느낀다.\n",
        "<br/>모델 초기화 함수 코드가 있었다면 런타임을 재시작하지 않아도 되었을 것이다.\n",
        "<br/>모델 초기화 함수의 필요성을 느낀다."
      ],
      "metadata": {
        "id": "vd2-olFgmUbN"
      }
    },
    {
      "cell_type": "markdown",
      "source": [
        "##First Model"
      ],
      "metadata": {
        "id": "0CxnYDiOJm4V"
      }
    },
    {
      "cell_type": "code",
      "source": [
        "batch_size     = 64\n",
        "src_vocab_size = len(enc_tokenizer.index_word) + 1\n",
        "tgt_vocab_size = len(dec_tokenizer.index_word) + 1\n",
        "\n",
        "units         = 1024\n",
        "embedding_dim = 512\n",
        "dropout = 0.2\n",
        "\n",
        "encoder = Encoder(src_vocab_size, embedding_dim, units, dropout)\n",
        "decoder = Decoder(tgt_vocab_size, embedding_dim, units, dropout)\n",
        "\n",
        "# sample input\n",
        "sequence_len = 30\n",
        "\n",
        "sample_enc = tf.random.uniform((batch_size, sequence_len))\n",
        "sample_output = encoder(sample_enc)\n",
        "\n",
        "print ('Encoder Output :', sample_output.shape)\n",
        "\n",
        "sample_state = tf.random.uniform((batch_size, units))\n",
        "\n",
        "sample_logits, h_dec, attn = decoder(tf.random.uniform((batch_size, 1)),\n",
        "                                     sample_state, sample_output)\n",
        "\n",
        "print ('Decoder Output :', sample_logits.shape)\n",
        "print ('Decoder Hidden State :', h_dec.shape)\n",
        "print ('Attention :', attn.shape)"
      ],
      "metadata": {
        "colab": {
          "base_uri": "https://localhost:8080/"
        },
        "id": "E7KNRwt0KltG",
        "outputId": "de262264-0e52-471c-91d7-726cc4a37ae3"
      },
      "execution_count": 38,
      "outputs": [
        {
          "output_type": "stream",
          "name": "stdout",
          "text": [
            "Encoder Output : (64, 30, 1024)\n",
            "Decoder Output : (64, 44461)\n",
            "Decoder Hidden State : (64, 1024)\n",
            "Attention : (64, 30, 1)\n"
          ]
        }
      ]
    },
    {
      "cell_type": "code",
      "source": [
        "epochs = 10\n",
        "\n",
        "for epoch in range(epochs):\n",
        "    total_loss = 0\n",
        "    \n",
        "    idx_list = list(range(0, enc_tensor.shape[0], batch_size))\n",
        "    random.shuffle(idx_list)\n",
        "    t = tqdm(idx_list)   \n",
        "\n",
        "    for (batch, idx) in enumerate(t):\n",
        "        batch_loss = train_step(enc_tensor[idx:idx + batch_size],\n",
        "                                dec_tensor[idx:idx +  batch_size],\n",
        "                                encoder,\n",
        "                                decoder,\n",
        "                                optimizer,\n",
        "                                dec_tokenizer)\n",
        "    \n",
        "        total_loss += batch_loss\n",
        "        \n",
        "        t.set_description_str('Epoch %2d' % (epoch + 1))    \n",
        "        t.set_postfix_str('Loss %.4f' % (total_loss.numpy() / (batch + 1)))    "
      ],
      "metadata": {
        "id": "_S_QLuu8TI0F",
        "colab": {
          "base_uri": "https://localhost:8080/"
        },
        "outputId": "6eab4523-ed93-43f8-e83c-bba788f51d49"
      },
      "execution_count": null,
      "outputs": [
        {
          "output_type": "stream",
          "name": "stderr",
          "text": [
            "Epoch  1: 100%|██████████| 469/469 [04:12<00:00,  1.86it/s, Loss 4.6990]\n",
            "Epoch  2: 100%|██████████| 469/469 [02:55<00:00,  2.68it/s, Loss 4.5603]\n",
            "Epoch  3: 100%|██████████| 469/469 [02:55<00:00,  2.68it/s, Loss 4.5648]\n",
            "Epoch  4: 100%|██████████| 469/469 [02:55<00:00,  2.68it/s, Loss 4.5655]\n",
            "Epoch  5: 100%|██████████| 469/469 [02:55<00:00,  2.68it/s, Loss 4.5644]\n",
            "Epoch  6: 100%|██████████| 469/469 [02:55<00:00,  2.68it/s, Loss 4.5652]\n",
            "Epoch  7: 100%|██████████| 469/469 [02:55<00:00,  2.68it/s, Loss 4.5646]\n",
            "Epoch  8: 100%|██████████| 469/469 [02:55<00:00,  2.68it/s, Loss 4.5628]\n",
            "Epoch  9: 100%|██████████| 469/469 [02:55<00:00,  2.68it/s, Loss 4.5649]\n",
            "Epoch 10: 100%|██████████| 469/469 [02:55<00:00,  2.68it/s, Loss 4.5642]\n"
          ]
        }
      ]
    },
    {
      "cell_type": "markdown",
      "source": [
        "EPOCHS = 10 만큼 반복하는 루프에 진입한 후 각 배치의 시작 인덱스를 idx_list 배열에 저장한다.\n",
        "<br/>모델이 학습을 원활하게 할 수 있도록 인덱스를 섞어서 데이터를 처리한다.\n",
        "<br/>각 미니배치를 train_step()에서 학습하고  Loss를 계산한다.\n"
      ],
      "metadata": {
        "id": "dEVbWiS81ZdO"
      }
    },
    {
      "cell_type": "markdown",
      "source": [
        "##Second Model"
      ],
      "metadata": {
        "id": "bmGub4slK4Ge"
      }
    },
    {
      "cell_type": "code",
      "source": [
        "batch_size     = 32\n",
        "src_vocab_size = len(enc_tokenizer.index_word) + 1\n",
        "tgt_vocab_size = len(dec_tokenizer.index_word) + 1\n",
        "\n",
        "units         = 256\n",
        "embedding_dim = 64\n",
        "dropout = 0.2\n",
        "\n",
        "encoder = Encoder(src_vocab_size, embedding_dim, units, dropout)\n",
        "decoder = Decoder(tgt_vocab_size, embedding_dim, units, dropout)\n",
        "\n",
        "# sample input\n",
        "sequence_len = 30\n",
        "\n",
        "sample_enc = tf.random.uniform((batch_size, sequence_len))\n",
        "sample_output = encoder(sample_enc)\n",
        "\n",
        "print ('Encoder Output :', sample_output.shape)\n",
        "\n",
        "sample_state = tf.random.uniform((batch_size, units))\n",
        "\n",
        "sample_logits, h_dec, attn = decoder(tf.random.uniform((batch_size, 1)),\n",
        "                                     sample_state, sample_output)\n",
        "\n",
        "print ('Decoder Output :', sample_logits.shape)\n",
        "print ('Decoder Hidden State :', h_dec.shape)\n",
        "print ('Attention :', attn.shape)"
      ],
      "metadata": {
        "colab": {
          "base_uri": "https://localhost:8080/"
        },
        "id": "8Pu4TvQKKof2",
        "outputId": "9851477f-2047-43c8-8719-1b29986afd0e"
      },
      "execution_count": null,
      "outputs": [
        {
          "output_type": "stream",
          "name": "stdout",
          "text": [
            "Encoder Output : (32, 30, 256)\n",
            "Decoder Output : (32, 44461)\n",
            "Decoder Hidden State : (32, 256)\n",
            "Attention : (32, 30, 1)\n"
          ]
        }
      ]
    },
    {
      "cell_type": "code",
      "source": [
        "epochs = 10\n",
        "\n",
        "for epoch in range(epochs):\n",
        "    total_loss = 0\n",
        "    \n",
        "    idx_list = list(range(0, enc_tensor.shape[0], batch_size))\n",
        "    random.shuffle(idx_list)\n",
        "    t = tqdm(idx_list)   \n",
        "\n",
        "    for (batch, idx) in enumerate(t):\n",
        "        batch_loss = train_step(enc_tensor[idx:idx + batch_size],\n",
        "                                dec_tensor[idx:idx +  batch_size],\n",
        "                                encoder,\n",
        "                                decoder,\n",
        "                                optimizer,\n",
        "                                dec_tokenizer)\n",
        "    \n",
        "        total_loss += batch_loss\n",
        "        \n",
        "        t.set_description_str('Epoch %2d' % (epoch + 1))    \n",
        "        t.set_postfix_str('Loss %.4f' % (total_loss.numpy() / (batch + 1)))   "
      ],
      "metadata": {
        "colab": {
          "base_uri": "https://localhost:8080/"
        },
        "id": "xuwAR2v7Koif",
        "outputId": "471440b0-9158-41fe-c8b0-7bf9551390d5"
      },
      "execution_count": null,
      "outputs": [
        {
          "output_type": "stream",
          "name": "stderr",
          "text": [
            "Epoch  1: 100%|██████████| 938/938 [02:48<00:00,  5.58it/s, Loss 4.5586]\n",
            "Epoch  2: 100%|██████████| 938/938 [01:37<00:00,  9.61it/s, Loss 4.4829]\n",
            "Epoch  3: 100%|██████████| 938/938 [01:36<00:00,  9.68it/s, Loss 4.4833]\n",
            "Epoch  4: 100%|██████████| 938/938 [01:36<00:00,  9.68it/s, Loss 4.4848]\n",
            "Epoch  5: 100%|██████████| 938/938 [01:38<00:00,  9.49it/s, Loss 4.4843]\n",
            "Epoch  6: 100%|██████████| 938/938 [01:37<00:00,  9.64it/s, Loss 4.4837]\n",
            "Epoch  7: 100%|██████████| 938/938 [01:36<00:00,  9.75it/s, Loss 4.4850]\n",
            "Epoch  8: 100%|██████████| 938/938 [01:37<00:00,  9.67it/s, Loss 4.4844]\n",
            "Epoch  9: 100%|██████████| 938/938 [01:36<00:00,  9.77it/s, Loss 4.4421]\n",
            "Epoch 10: 100%|██████████| 938/938 [01:36<00:00,  9.77it/s, Loss 4.4448]\n"
          ]
        }
      ]
    },
    {
      "cell_type": "markdown",
      "source": [
        "##Third Model"
      ],
      "metadata": {
        "id": "pi3QW0sdLEBN"
      }
    },
    {
      "cell_type": "code",
      "source": [
        "batch_size     = 128\n",
        "src_vocab_size = len(enc_tokenizer.index_word) + 1\n",
        "tgt_vocab_size = len(dec_tokenizer.index_word) + 1\n",
        "\n",
        "units         = 128\n",
        "embedding_dim = 128\n",
        "dropout = 0.2\n",
        "\n",
        "encoder = Encoder(src_vocab_size, embedding_dim, units, dropout)\n",
        "decoder = Decoder(tgt_vocab_size, embedding_dim, units, dropout)\n",
        "\n",
        "# sample input\n",
        "sequence_len = 30\n",
        "\n",
        "sample_enc = tf.random.uniform((batch_size, sequence_len))\n",
        "sample_output = encoder(sample_enc)\n",
        "\n",
        "print ('Encoder Output :', sample_output.shape)\n",
        "\n",
        "sample_state = tf.random.uniform((batch_size, units))\n",
        "\n",
        "sample_logits, h_dec, attn = decoder(tf.random.uniform((batch_size, 1)),\n",
        "                                     sample_state, sample_output)\n",
        "\n",
        "print ('Decoder Output :', sample_logits.shape)\n",
        "print ('Decoder Hidden State :', h_dec.shape)\n",
        "print ('Attention :', attn.shape)"
      ],
      "metadata": {
        "colab": {
          "base_uri": "https://localhost:8080/"
        },
        "id": "xMcuFu5BK7GV",
        "outputId": "ba3c1eb3-9b62-4846-aa73-cb2107ff4ddf"
      },
      "execution_count": null,
      "outputs": [
        {
          "output_type": "stream",
          "name": "stdout",
          "text": [
            "Encoder Output : (128, 30, 128)\n",
            "Decoder Output : (128, 44461)\n",
            "Decoder Hidden State : (128, 128)\n",
            "Attention : (128, 30, 1)\n"
          ]
        }
      ]
    },
    {
      "cell_type": "code",
      "source": [
        "epochs = 10\n",
        "\n",
        "for epoch in range(epochs):\n",
        "    total_loss = 0\n",
        "    \n",
        "    idx_list = list(range(0, enc_tensor.shape[0], batch_size))\n",
        "    random.shuffle(idx_list)\n",
        "    t = tqdm(idx_list)   \n",
        "\n",
        "    for (batch, idx) in enumerate(t):\n",
        "        batch_loss = train_step(enc_tensor[idx:idx + batch_size],\n",
        "                                dec_tensor[idx:idx +  batch_size],\n",
        "                                encoder,\n",
        "                                decoder,\n",
        "                                optimizer,\n",
        "                                dec_tokenizer)\n",
        "    \n",
        "        total_loss += batch_loss\n",
        "        \n",
        "        t.set_description_str('Epoch %2d' % (epoch + 1))    \n",
        "        t.set_postfix_str('Loss %.4f' % (total_loss.numpy() / (batch + 1)))   "
      ],
      "metadata": {
        "colab": {
          "base_uri": "https://localhost:8080/"
        },
        "id": "a9tsYvW2K7It",
        "outputId": "58dc3a41-58d5-444e-c2f2-856a725d1d25"
      },
      "execution_count": null,
      "outputs": [
        {
          "output_type": "stream",
          "name": "stderr",
          "text": [
            "Epoch  1: 100%|██████████| 235/235 [01:46<00:00,  2.21it/s, Loss 4.5931]\n",
            "Epoch  2: 100%|██████████| 235/235 [00:29<00:00,  7.92it/s, Loss 4.3884]\n",
            "Epoch  3: 100%|██████████| 235/235 [00:29<00:00,  7.89it/s, Loss 4.3876]\n",
            "Epoch  4: 100%|██████████| 235/235 [00:30<00:00,  7.80it/s, Loss 4.3877]\n",
            "Epoch  5: 100%|██████████| 235/235 [00:29<00:00,  7.84it/s, Loss 4.3877]\n",
            "Epoch  6: 100%|██████████| 235/235 [00:29<00:00,  7.92it/s, Loss 4.3875]\n",
            "Epoch  7: 100%|██████████| 235/235 [00:29<00:00,  7.85it/s, Loss 4.3879]\n",
            "Epoch  8: 100%|██████████| 235/235 [00:29<00:00,  7.94it/s, Loss 4.3878]\n",
            "Epoch  9: 100%|██████████| 235/235 [00:29<00:00,  7.91it/s, Loss 4.3873]\n",
            "Epoch 10: 100%|██████████| 235/235 [00:29<00:00,  7.91it/s, Loss 4.3875]\n"
          ]
        }
      ]
    },
    {
      "cell_type": "markdown",
      "source": [
        "##Fourth Model"
      ],
      "metadata": {
        "id": "Ia_WeyXTzFzu"
      }
    },
    {
      "cell_type": "code",
      "source": [
        "batch_size     = 64\n",
        "src_vocab_size = len(enc_tokenizer.index_word) + 1\n",
        "tgt_vocab_size = len(dec_tokenizer.index_word) + 1\n",
        "\n",
        "units         = 128\n",
        "embedding_dim = 64\n",
        "dropout = 0.2\n",
        "\n",
        "encoder = Encoder(src_vocab_size, embedding_dim, units, dropout)\n",
        "decoder = Decoder(tgt_vocab_size, embedding_dim, units, dropout)\n",
        "\n",
        "# sample input\n",
        "sequence_len = 30\n",
        "\n",
        "sample_enc = tf.random.uniform((batch_size, sequence_len))\n",
        "sample_output = encoder(sample_enc)\n",
        "\n",
        "print ('Encoder Output :', sample_output.shape)\n",
        "\n",
        "sample_state = tf.random.uniform((batch_size, units))\n",
        "\n",
        "sample_logits, h_dec, attn = decoder(tf.random.uniform((batch_size, 1)),\n",
        "                                     sample_state, sample_output)\n",
        "\n",
        "print ('Decoder Output :', sample_logits.shape)\n",
        "print ('Decoder Hidden State :', h_dec.shape)\n",
        "print ('Attention :', attn.shape)"
      ],
      "metadata": {
        "colab": {
          "base_uri": "https://localhost:8080/"
        },
        "id": "VCX3lGpo14rN",
        "outputId": "97e988d0-9190-46cd-fd87-8d92b009c7ac"
      },
      "execution_count": null,
      "outputs": [
        {
          "output_type": "stream",
          "name": "stdout",
          "text": [
            "Encoder Output : (64, 30, 128)\n",
            "Decoder Output : (64, 44461)\n",
            "Decoder Hidden State : (64, 128)\n",
            "Attention : (64, 30, 1)\n"
          ]
        }
      ]
    },
    {
      "cell_type": "code",
      "source": [
        "epochs = 10\n",
        "\n",
        "for epoch in range(epochs):\n",
        "    total_loss = 0\n",
        "    \n",
        "    idx_list = list(range(0, enc_tensor.shape[0], batch_size))\n",
        "    random.shuffle(idx_list)\n",
        "    t = tqdm(idx_list)   \n",
        "\n",
        "    for (batch, idx) in enumerate(t):\n",
        "        batch_loss = train_step(enc_tensor[idx:idx + batch_size],\n",
        "                                dec_tensor[idx:idx +  batch_size],\n",
        "                                encoder,\n",
        "                                decoder,\n",
        "                                optimizer,\n",
        "                                dec_tokenizer)\n",
        "    \n",
        "        total_loss += batch_loss\n",
        "        \n",
        "        t.set_description_str('Epoch %2d' % (epoch + 1))    \n",
        "        t.set_postfix_str('Loss %.4f' % (total_loss.numpy() / (batch + 1)))  "
      ],
      "metadata": {
        "colab": {
          "base_uri": "https://localhost:8080/"
        },
        "id": "3DK6bCOi18id",
        "outputId": "5532821e-df36-4294-8341-241ab973caa5"
      },
      "execution_count": null,
      "outputs": [
        {
          "output_type": "stream",
          "name": "stderr",
          "text": [
            "Epoch  1: 100%|██████████| 469/469 [01:59<00:00,  3.92it/s, Loss 4.5274]\n",
            "Epoch  2: 100%|██████████| 469/469 [00:44<00:00, 10.43it/s, Loss 4.4040]\n",
            "Epoch  3: 100%|██████████| 469/469 [00:44<00:00, 10.47it/s, Loss 4.4025]\n",
            "Epoch  4: 100%|██████████| 469/469 [00:45<00:00, 10.31it/s, Loss 4.4029]\n",
            "Epoch  5: 100%|██████████| 469/469 [00:44<00:00, 10.51it/s, Loss 4.4025]\n",
            "Epoch  6: 100%|██████████| 469/469 [00:44<00:00, 10.53it/s, Loss 4.4032]\n",
            "Epoch  7: 100%|██████████| 469/469 [00:44<00:00, 10.54it/s, Loss 4.2243]\n",
            "Epoch  8: 100%|██████████| 469/469 [00:45<00:00, 10.41it/s, Loss 3.9798]\n",
            "Epoch  9: 100%|██████████| 469/469 [00:44<00:00, 10.53it/s, Loss 3.8107]\n",
            "Epoch 10: 100%|██████████| 469/469 [00:44<00:00, 10.54it/s, Loss 3.6855]\n"
          ]
        }
      ]
    },
    {
      "cell_type": "markdown",
      "source": [
        "##Model Selection"
      ],
      "metadata": {
        "id": "CXtJNpr19xew"
      }
    },
    {
      "cell_type": "code",
      "source": [
        "hyperparameter_tuning_result = pd.DataFrame({'Model':[1, 2, 3, 4],\n",
        "                             'Batch Size':[64, 32, 128, 64],\n",
        "                             'Units':[1024, 256, 128, 128], \n",
        "                             'Embedding Dimension':[512, 64, 128, 64],\n",
        "                             'Epoch':[10, 10, 10, 10],\n",
        "                             'Loss':[4.5642, 4.4448, 4.3875, 3.6855]})"
      ],
      "metadata": {
        "id": "kodxHVd890UI"
      },
      "execution_count": 29,
      "outputs": []
    },
    {
      "cell_type": "code",
      "source": [
        "hyperparameter_tuning_result.sort_values(by='Loss', ascending=True)"
      ],
      "metadata": {
        "colab": {
          "base_uri": "https://localhost:8080/",
          "height": 175
        },
        "id": "R6DfBye490bf",
        "outputId": "375f34ed-7986-49f0-c208-f7259b4d611f"
      },
      "execution_count": 31,
      "outputs": [
        {
          "output_type": "execute_result",
          "data": {
            "text/plain": [
              "   Model  Batch Size  Units  Embedding Dimension  Epoch    Loss\n",
              "3      4          64    128                   64     10  3.6855\n",
              "2      3         128    128                  128     10  4.3875\n",
              "1      2          32    256                   64     10  4.4448\n",
              "0      1          64   1024                  512     10  4.5642"
            ],
            "text/html": [
              "\n",
              "  <div id=\"df-37749c06-025d-49e0-bc39-ebda165926a8\">\n",
              "    <div class=\"colab-df-container\">\n",
              "      <div>\n",
              "<style scoped>\n",
              "    .dataframe tbody tr th:only-of-type {\n",
              "        vertical-align: middle;\n",
              "    }\n",
              "\n",
              "    .dataframe tbody tr th {\n",
              "        vertical-align: top;\n",
              "    }\n",
              "\n",
              "    .dataframe thead th {\n",
              "        text-align: right;\n",
              "    }\n",
              "</style>\n",
              "<table border=\"1\" class=\"dataframe\">\n",
              "  <thead>\n",
              "    <tr style=\"text-align: right;\">\n",
              "      <th></th>\n",
              "      <th>Model</th>\n",
              "      <th>Batch Size</th>\n",
              "      <th>Units</th>\n",
              "      <th>Embedding Dimension</th>\n",
              "      <th>Epoch</th>\n",
              "      <th>Loss</th>\n",
              "    </tr>\n",
              "  </thead>\n",
              "  <tbody>\n",
              "    <tr>\n",
              "      <th>3</th>\n",
              "      <td>4</td>\n",
              "      <td>64</td>\n",
              "      <td>128</td>\n",
              "      <td>64</td>\n",
              "      <td>10</td>\n",
              "      <td>3.6855</td>\n",
              "    </tr>\n",
              "    <tr>\n",
              "      <th>2</th>\n",
              "      <td>3</td>\n",
              "      <td>128</td>\n",
              "      <td>128</td>\n",
              "      <td>128</td>\n",
              "      <td>10</td>\n",
              "      <td>4.3875</td>\n",
              "    </tr>\n",
              "    <tr>\n",
              "      <th>1</th>\n",
              "      <td>2</td>\n",
              "      <td>32</td>\n",
              "      <td>256</td>\n",
              "      <td>64</td>\n",
              "      <td>10</td>\n",
              "      <td>4.4448</td>\n",
              "    </tr>\n",
              "    <tr>\n",
              "      <th>0</th>\n",
              "      <td>1</td>\n",
              "      <td>64</td>\n",
              "      <td>1024</td>\n",
              "      <td>512</td>\n",
              "      <td>10</td>\n",
              "      <td>4.5642</td>\n",
              "    </tr>\n",
              "  </tbody>\n",
              "</table>\n",
              "</div>\n",
              "      <button class=\"colab-df-convert\" onclick=\"convertToInteractive('df-37749c06-025d-49e0-bc39-ebda165926a8')\"\n",
              "              title=\"Convert this dataframe to an interactive table.\"\n",
              "              style=\"display:none;\">\n",
              "        \n",
              "  <svg xmlns=\"http://www.w3.org/2000/svg\" height=\"24px\"viewBox=\"0 0 24 24\"\n",
              "       width=\"24px\">\n",
              "    <path d=\"M0 0h24v24H0V0z\" fill=\"none\"/>\n",
              "    <path d=\"M18.56 5.44l.94 2.06.94-2.06 2.06-.94-2.06-.94-.94-2.06-.94 2.06-2.06.94zm-11 1L8.5 8.5l.94-2.06 2.06-.94-2.06-.94L8.5 2.5l-.94 2.06-2.06.94zm10 10l.94 2.06.94-2.06 2.06-.94-2.06-.94-.94-2.06-.94 2.06-2.06.94z\"/><path d=\"M17.41 7.96l-1.37-1.37c-.4-.4-.92-.59-1.43-.59-.52 0-1.04.2-1.43.59L10.3 9.45l-7.72 7.72c-.78.78-.78 2.05 0 2.83L4 21.41c.39.39.9.59 1.41.59.51 0 1.02-.2 1.41-.59l7.78-7.78 2.81-2.81c.8-.78.8-2.07 0-2.86zM5.41 20L4 18.59l7.72-7.72 1.47 1.35L5.41 20z\"/>\n",
              "  </svg>\n",
              "      </button>\n",
              "      \n",
              "  <style>\n",
              "    .colab-df-container {\n",
              "      display:flex;\n",
              "      flex-wrap:wrap;\n",
              "      gap: 12px;\n",
              "    }\n",
              "\n",
              "    .colab-df-convert {\n",
              "      background-color: #E8F0FE;\n",
              "      border: none;\n",
              "      border-radius: 50%;\n",
              "      cursor: pointer;\n",
              "      display: none;\n",
              "      fill: #1967D2;\n",
              "      height: 32px;\n",
              "      padding: 0 0 0 0;\n",
              "      width: 32px;\n",
              "    }\n",
              "\n",
              "    .colab-df-convert:hover {\n",
              "      background-color: #E2EBFA;\n",
              "      box-shadow: 0px 1px 2px rgba(60, 64, 67, 0.3), 0px 1px 3px 1px rgba(60, 64, 67, 0.15);\n",
              "      fill: #174EA6;\n",
              "    }\n",
              "\n",
              "    [theme=dark] .colab-df-convert {\n",
              "      background-color: #3B4455;\n",
              "      fill: #D2E3FC;\n",
              "    }\n",
              "\n",
              "    [theme=dark] .colab-df-convert:hover {\n",
              "      background-color: #434B5C;\n",
              "      box-shadow: 0px 1px 3px 1px rgba(0, 0, 0, 0.15);\n",
              "      filter: drop-shadow(0px 1px 2px rgba(0, 0, 0, 0.3));\n",
              "      fill: #FFFFFF;\n",
              "    }\n",
              "  </style>\n",
              "\n",
              "      <script>\n",
              "        const buttonEl =\n",
              "          document.querySelector('#df-37749c06-025d-49e0-bc39-ebda165926a8 button.colab-df-convert');\n",
              "        buttonEl.style.display =\n",
              "          google.colab.kernel.accessAllowed ? 'block' : 'none';\n",
              "\n",
              "        async function convertToInteractive(key) {\n",
              "          const element = document.querySelector('#df-37749c06-025d-49e0-bc39-ebda165926a8');\n",
              "          const dataTable =\n",
              "            await google.colab.kernel.invokeFunction('convertToInteractive',\n",
              "                                                     [key], {});\n",
              "          if (!dataTable) return;\n",
              "\n",
              "          const docLinkHtml = 'Like what you see? Visit the ' +\n",
              "            '<a target=\"_blank\" href=https://colab.research.google.com/notebooks/data_table.ipynb>data table notebook</a>'\n",
              "            + ' to learn more about interactive tables.';\n",
              "          element.innerHTML = '';\n",
              "          dataTable['output_type'] = 'display_data';\n",
              "          await google.colab.output.renderOutput(dataTable, element);\n",
              "          const docLink = document.createElement('div');\n",
              "          docLink.innerHTML = docLinkHtml;\n",
              "          element.appendChild(docLink);\n",
              "        }\n",
              "      </script>\n",
              "    </div>\n",
              "  </div>\n",
              "  "
            ]
          },
          "metadata": {},
          "execution_count": 31
        }
      ]
    },
    {
      "cell_type": "markdown",
      "source": [
        "#최종 모델"
      ],
      "metadata": {
        "id": "j95pEO9N3VQ3"
      }
    },
    {
      "cell_type": "markdown",
      "source": [
        "##Epoch Test"
      ],
      "metadata": {
        "id": "DqO9-d7eewMJ"
      }
    },
    {
      "cell_type": "code",
      "source": [
        "enc_corpus = []\n",
        "dec_corpus = []\n",
        "\n",
        "for kor_sen in kor_unique:\n",
        "  enc_corpus.append(kor_preprocess_sentence(kor_sen))\n",
        "\n",
        "for eng_sen in eng_unique:\n",
        "  dec_corpus.append(eng_preprocess_sentence(eng_sen, s_token=True, e_token=True))"
      ],
      "metadata": {
        "id": "a1xn59dELyEG"
      },
      "execution_count": 29,
      "outputs": []
    },
    {
      "cell_type": "code",
      "source": [
        "enc_tensor, enc_tokenizer = tokenize(enc_corpus)\n",
        "dec_tensor, dec_tokenizer = tokenize(dec_corpus)"
      ],
      "metadata": {
        "id": "LdsLC3OWLyG0"
      },
      "execution_count": 30,
      "outputs": []
    },
    {
      "cell_type": "code",
      "source": [
        "enc_train, enc_val, dec_train, dec_val = \\\n",
        "train_test_split(enc_tensor, dec_tensor, test_size=0.2)"
      ],
      "metadata": {
        "id": "DKkuyouaAR5r"
      },
      "execution_count": 31,
      "outputs": []
    },
    {
      "cell_type": "markdown",
      "source": [
        "데이터를 훈련 데이터와 검증 데이터로 분리한다."
      ],
      "metadata": {
        "id": "ce8TyvDpATuU"
      }
    },
    {
      "cell_type": "code",
      "source": [
        "print(\"Korean Vocab Size :\", len(enc_tokenizer.index_word))\n",
        "print(\"English Vocab Size :\", len(dec_tokenizer.index_word))"
      ],
      "metadata": {
        "colab": {
          "base_uri": "https://localhost:8080/"
        },
        "id": "gGpV3qwqLyJM",
        "outputId": "a061b791-1ea0-45a1-d46a-aad15f4b5e69"
      },
      "execution_count": 32,
      "outputs": [
        {
          "output_type": "stream",
          "name": "stdout",
          "text": [
            "Korean Vocab Size : 49785\n",
            "English Vocab Size : 44460\n"
          ]
        }
      ]
    },
    {
      "cell_type": "code",
      "source": [
        "batch_size     = 64\n",
        "src_vocab_size = len(enc_tokenizer.index_word) + 1\n",
        "tgt_vocab_size = len(dec_tokenizer.index_word) + 1\n",
        "\n",
        "units         = 128\n",
        "embedding_dim = 64\n",
        "dropout = 0.2\n",
        "\n",
        "encoder = Encoder(src_vocab_size, embedding_dim, units, dropout)\n",
        "decoder = Decoder(tgt_vocab_size, embedding_dim, units, dropout)\n",
        "\n",
        "# sample input\n",
        "sequence_len = 30\n",
        "\n",
        "sample_enc = tf.random.uniform((batch_size, sequence_len))\n",
        "sample_output = encoder(sample_enc)\n",
        "\n",
        "print ('Encoder Output :', sample_output.shape)\n",
        "\n",
        "sample_state = tf.random.uniform((batch_size, units))\n",
        "\n",
        "sample_logits, h_dec, attn = decoder(tf.random.uniform((batch_size, 1)),\n",
        "                                     sample_state, sample_output)\n",
        "\n",
        "print ('Decoder Output :', sample_logits.shape)\n",
        "print ('Decoder Hidden State :', h_dec.shape)\n",
        "print ('Attention :', attn.shape)"
      ],
      "metadata": {
        "colab": {
          "base_uri": "https://localhost:8080/"
        },
        "id": "MXjEoz5ALyK5",
        "outputId": "b0cf9de1-8c69-42f8-899e-dca56f5daa7c"
      },
      "execution_count": 33,
      "outputs": [
        {
          "output_type": "stream",
          "name": "stdout",
          "text": [
            "Encoder Output : (64, 30, 128)\n",
            "Decoder Output : (64, 44461)\n",
            "Decoder Hidden State : (64, 128)\n",
            "Attention : (64, 30, 1)\n"
          ]
        }
      ]
    },
    {
      "cell_type": "code",
      "source": [
        "@tf.function\n",
        "def eval_step(src, tgt, encoder, decoder, dec_tok):\n",
        "    bsz = src.shape[0]\n",
        "    loss = 0\n",
        "\n",
        "    enc_out = encoder(src)\n",
        "\n",
        "    h_dec = enc_out[:, -1]\n",
        "    \n",
        "    dec_src = tf.expand_dims([dec_tok.word_index['<start>']] * bsz, 1)\n",
        "\n",
        "    for t in range(1, tgt.shape[1]):\n",
        "        pred, h_dec, _ = decoder(dec_src, h_dec, enc_out)\n",
        "\n",
        "        loss += loss_function(tgt[:, t], pred)\n",
        "        dec_src = tf.expand_dims(tgt[:, t], 1)\n",
        "        \n",
        "    batch_loss = (loss / int(tgt.shape[1]))\n",
        "    \n",
        "    return batch_loss"
      ],
      "metadata": {
        "id": "hgrWW1s6-9Iu"
      },
      "execution_count": 34,
      "outputs": []
    },
    {
      "cell_type": "markdown",
      "source": [
        "훈련 데이터와 검증 데이터를 사용하는 eval_step()을 정의한다."
      ],
      "metadata": {
        "id": "WZXteVYC-mGW"
      }
    },
    {
      "cell_type": "code",
      "source": [
        "model_loss_df = pd.DataFrame({'Epoch':[0],\n",
        "                             'Train Loss':[0],\n",
        "                             'Test Loss':[0]})\n",
        "\n",
        "epochs = 200\n",
        "train_count = 0\n",
        "test_count = 0\n",
        "\n",
        "sentence_list = [\"오바마는 대통령이다.\", \"시민들은 도시 속에 산다.\",\n",
        "                 \"커피는 필요 없다.\", \"일곱 명의 사망자가 발생했다.\"]\n",
        "                 \n",
        "\n",
        "for epoch in range(epochs):\n",
        "    total_loss = 0\n",
        "    \n",
        "    idx_list = list(range(0, enc_train.shape[0], batch_size))\n",
        "    random.shuffle(idx_list)\n",
        "\n",
        "    for (batch, idx) in enumerate(idx_list):\n",
        "        batch_loss = train_step(enc_train[idx:idx + batch_size],\n",
        "                                dec_train[idx:idx + batch_size],\n",
        "                                encoder,\n",
        "                                decoder,\n",
        "                                optimizer,\n",
        "                                dec_tokenizer)\n",
        "    \n",
        "        total_loss += batch_loss\n",
        "\n",
        "        train_count += 1\n",
        "\n",
        "        if train_count % len(idx_list) == 0:\n",
        "            model_loss_df.loc[epoch] = [int(epoch + 1), round(total_loss.numpy() / (batch + 1), 4), 0]\n",
        "\n",
        "            if epoch == 0 or (epoch + 1) % 10 == 0:\n",
        "                print('Epoch {}'.format(epoch + 1))\n",
        "                print('Train Loss {:.4f}'.format(total_loss.numpy() / (batch + 1)), end=\"  \")\n",
        "\n",
        "    \n",
        "    test_loss = 0\n",
        "    \n",
        "    idx_list = list(range(0, enc_val.shape[0], batch_size))\n",
        "    random.shuffle(idx_list)\n",
        "\n",
        "    for (test_batch, idx) in enumerate(idx_list):\n",
        "        test_batch_loss = eval_step(enc_val[idx:idx + batch_size],\n",
        "                                    dec_val[idx:idx + batch_size],\n",
        "                                    encoder,\n",
        "                                    decoder,\n",
        "                                    dec_tokenizer)\n",
        "    \n",
        "        test_loss += test_batch_loss\n",
        "\n",
        "        test_count += 1\n",
        "        \n",
        "        if test_count % len(idx_list) == 0:\n",
        "            model_loss_df.loc[epoch, 'Test Loss'] = [round(test_loss.numpy() / (test_batch + 1), 4)]\n",
        "\n",
        "            if epoch == 0 or (epoch + 1) % 10 == 0:\n",
        "                print('Test Loss {:.4f}'.format(test_loss.numpy() / (test_batch + 1)))\n",
        "                print()\n",
        "\n",
        "                for sentence in sentence_list:\n",
        "                  sentence_translator(sentence, encoder, decoder)\n",
        "                  print()\n",
        "                print()"
      ],
      "metadata": {
        "colab": {
          "base_uri": "https://localhost:8080/"
        },
        "id": "5lxWGDhL2Bcu",
        "outputId": "abc56e48-7626-45b2-ca86-5b2781e4350d"
      },
      "execution_count": 37,
      "outputs": [
        {
          "output_type": "stream",
          "name": "stdout",
          "text": [
            "Epoch 1\n",
            "Train Loss 4.4547  Test Loss 4.3930\n",
            "\n",
            "Input : 오바마는 대통령이다 .\n",
            "Predicted translation : the the the the the the the the the the the the the the the the the the the the the the the the the the the the the the the the the the the the the the the the \n",
            "\n",
            "Input : 시민들은 도시 속에 산다 .\n",
            "Predicted translation : the the the the the the the the the the the the the the the the the the the the the the the the the the the the the the the the the the the the the the the the \n",
            "\n",
            "Input : 커피는 필요 없다 .\n",
            "Predicted translation : the the the the the the the the the the the the the the the the the the the the the the the the the the the the the the the the the the the the the the the the \n",
            "\n",
            "Input : 일곱 명의 사망자가 발생했다 .\n",
            "Predicted translation : the the the the the the the the the the the the the the the the the the the the the the the the the the the the the the the the the the the the the the the the \n",
            "\n",
            "\n",
            "Epoch 10\n",
            "Train Loss 3.1001  Test Loss 3.3534\n",
            "\n",
            "Input : 오바마는 대통령이다 .\n",
            "Predicted translation : obama s campaign . <end> \n",
            "\n",
            "Input : 시민들은 도시 속에 산다 .\n",
            "Predicted translation : the u . s . <end> \n",
            "\n",
            "Input : 커피는 필요 없다 .\n",
            "Predicted translation : the most of the same time , you can be a lot of the same time <end> \n",
            "\n",
            "Input : 일곱 명의 사망자가 발생했다 .\n",
            "Predicted translation : the blast killed people were killed . <end> \n",
            "\n",
            "\n",
            "Epoch 20\n",
            "Train Loss 2.4983  Test Loss 3.4193\n",
            "\n",
            "Input : 오바마는 대통령이다 .\n",
            "Predicted translation : obama s president . <end> \n",
            "\n",
            "Input : 시민들은 도시 속에 산다 .\n",
            "Predicted translation : the government has been living in the country . <end> \n",
            "\n",
            "Input : 커피는 필요 없다 .\n",
            "Predicted translation : if you have been a little bit of the same time , you re going to be the same time , you can be a little bit of the same time , you re going to be the same time \n",
            "\n",
            "Input : 일곱 명의 사망자가 발생했다 .\n",
            "Predicted translation : the number of the quake killed one person was killed . <end> \n",
            "\n",
            "\n",
            "Epoch 30\n",
            "Train Loss 2.1683  Test Loss 3.6766\n",
            "\n",
            "Input : 오바마는 대통령이다 .\n",
            "Predicted translation : obama s victory is a very good chance to be a very good chance to be a very good chance to be a very good chance to be a very good chance to be a very good chance to be \n",
            "\n",
            "Input : 시민들은 도시 속에 산다 .\n",
            "Predicted translation : the victims were in the same period . <end> \n",
            "\n",
            "Input : 커피는 필요 없다 .\n",
            "Predicted translation : if you re going to be a big screen . <end> \n",
            "\n",
            "Input : 일곱 명의 사망자가 발생했다 .\n",
            "Predicted translation : about , people have been killed . <end> \n",
            "\n",
            "\n",
            "Epoch 40\n",
            "Train Loss 1.9602  Test Loss 3.9201\n",
            "\n",
            "Input : 오바마는 대통령이다 .\n",
            "Predicted translation : obama s victory in the next president . <end> \n",
            "\n",
            "Input : 시민들은 도시 속에 산다 .\n",
            "Predicted translation : they were in cities . <end> \n",
            "\n",
            "Input : 커피는 필요 없다 .\n",
            "Predicted translation : when you re gonna be able to get worse . <end> \n",
            "\n",
            "Input : 일곱 명의 사망자가 발생했다 .\n",
            "Predicted translation : more than , people have been killed . <end> \n",
            "\n",
            "\n",
            "Epoch 50\n",
            "Train Loss 1.8056  Test Loss 4.1241\n",
            "\n",
            "Input : 오바마는 대통령이다 .\n",
            "Predicted translation : obama s president is a very good day . <end> \n",
            "\n",
            "Input : 시민들은 도시 속에 산다 .\n",
            "Predicted translation : the number of people have been living in cities . <end> \n",
            "\n",
            "Input : 커피는 필요 없다 .\n",
            "Predicted translation : when you re gonna be able to see how it . <end> \n",
            "\n",
            "Input : 일곱 명의 사망자가 발생했다 .\n",
            "Predicted translation : more than , people have been killed . <end> \n",
            "\n",
            "\n",
            "Epoch 60\n",
            "Train Loss 1.7042  Test Loss 4.3029\n",
            "\n",
            "Input : 오바마는 대통령이다 .\n",
            "Predicted translation : obama s victory is a very good day . <end> \n",
            "\n",
            "Input : 시민들은 도시 속에 산다 .\n",
            "Predicted translation : the number of people have been living in cities . <end> \n",
            "\n",
            "Input : 커피는 필요 없다 .\n",
            "Predicted translation : when you don t know . <end> \n",
            "\n",
            "Input : 일곱 명의 사망자가 발생했다 .\n",
            "Predicted translation : more than , . <end> \n",
            "\n",
            "\n",
            "Epoch 70\n",
            "Train Loss 1.6238  Test Loss 4.4542\n",
            "\n",
            "Input : 오바마는 대통령이다 .\n",
            "Predicted translation : obama s president . <end> \n",
            "\n",
            "Input : 시민들은 도시 속에 산다 .\n",
            "Predicted translation : violence is now getting more than , from the capital . <end> \n",
            "\n",
            "Input : 커피는 필요 없다 .\n",
            "Predicted translation : but you don t know . <end> \n",
            "\n",
            "Input : 일곱 명의 사망자가 발생했다 .\n",
            "Predicted translation : more than , . <end> \n",
            "\n",
            "\n",
            "Epoch 80\n",
            "Train Loss 1.5559  Test Loss 4.6004\n",
            "\n",
            "Input : 오바마는 대통령이다 .\n",
            "Predicted translation : obama s success . <end> \n",
            "\n",
            "Input : 시민들은 도시 속에 산다 .\n",
            "Predicted translation : the attack was a distinct strength . <end> \n",
            "\n",
            "Input : 커피는 필요 없다 .\n",
            "Predicted translation : but you re gonna be able to get more than <end> \n",
            "\n",
            "Input : 일곱 명의 사망자가 발생했다 .\n",
            "Predicted translation : more than , . <end> \n",
            "\n",
            "\n",
            "Epoch 90\n",
            "Train Loss 1.5045  Test Loss 4.7240\n",
            "\n",
            "Input : 오바마는 대통령이다 .\n",
            "Predicted translation : obama s pennsylvania celebrates the reality . <end> \n",
            "\n",
            "Input : 시민들은 도시 속에 산다 .\n",
            "Predicted translation : the attack was too far from the same period . <end> \n",
            "\n",
            "Input : 커피는 필요 없다 .\n",
            "Predicted translation : but you re gonna be able to get more above . <end> \n",
            "\n",
            "Input : 일곱 명의 사망자가 발생했다 .\n",
            "Predicted translation : more than , square , china s office s civil defense ministry official xinhua news reports of the civil defense has gained about , from the total s . earthquake . <end> \n",
            "\n",
            "\n",
            "Epoch 100\n",
            "Train Loss 1.4611  Test Loss 4.8365\n",
            "\n",
            "Input : 오바마는 대통령이다 .\n",
            "Predicted translation : obama s president . <end> \n",
            "\n",
            "Input : 시민들은 도시 속에 산다 .\n",
            "Predicted translation : the number of smoke sheets there were more painful tensions . <end> \n",
            "\n",
            "Input : 커피는 필요 없다 .\n",
            "Predicted translation : but you re gonna be able to get more above . <end> \n",
            "\n",
            "Input : 일곱 명의 사망자가 발생했다 .\n",
            "Predicted translation : more than , from the total number two of the total s p . m . , from the worst hit , which have been m . , from the worst hit , which have been m . , from \n",
            "\n",
            "\n",
            "Epoch 110\n",
            "Train Loss 1.4251  Test Loss 4.9445\n",
            "\n",
            "Input : 오바마는 대통령이다 .\n",
            "Predicted translation : obama s president . <end> \n",
            "\n",
            "Input : 시민들은 도시 속에 산다 .\n",
            "Predicted translation : many are dead at home attacks , people who have fled to the same period , where they re still waiting to their homes . <end> \n",
            "\n",
            "Input : 커피는 필요 없다 .\n",
            "Predicted translation : but you re gonna be able to get more above <end> \n",
            "\n",
            "Input : 일곱 명의 사망자가 발생했다 .\n",
            "Predicted translation : more than , square , xinhua said people have been destroyed . <end> \n",
            "\n",
            "\n",
            "Epoch 120\n",
            "Train Loss 1.3977  Test Loss 5.0350\n",
            "\n",
            "Input : 오바마는 대통령이다 .\n",
            "Predicted translation : obama s president is a very difficult job . <end> \n",
            "\n",
            "Input : 시민들은 도시 속에 산다 .\n",
            "Predicted translation : the number of smoke season . <end> \n",
            "\n",
            "Input : 커피는 필요 없다 .\n",
            "Predicted translation : but you can you get tired . <end> \n",
            "\n",
            "Input : 일곱 명의 사망자가 발생했다 .\n",
            "Predicted translation : more than , square was up . <end> \n",
            "\n",
            "\n",
            "Epoch 130\n",
            "Train Loss 1.3603  Test Loss 5.1198\n",
            "\n",
            "Input : 오바마는 대통령이다 .\n",
            "Predicted translation : obama s president is a very difficult job <end> \n",
            "\n",
            "Input : 시민들은 도시 속에 산다 .\n",
            "Predicted translation : the attack was too tough on the same period . <end> \n",
            "\n",
            "Input : 커피는 필요 없다 .\n",
            "Predicted translation : but you re gonna be big and <end> \n",
            "\n",
            "Input : 일곱 명의 사망자가 발생했다 .\n",
            "Predicted translation : more than , square , weber , xinhua said it , which have been m . <end> \n",
            "\n",
            "\n",
            "Epoch 140\n",
            "Train Loss 1.3421  Test Loss 5.2070\n",
            "\n",
            "Input : 오바마는 대통령이다 .\n",
            "Predicted translation : obama s pennsylvania presidential nominee is a very difficult job <end> \n",
            "\n",
            "Input : 시민들은 도시 속에 산다 .\n",
            "Predicted translation : the problem was somber dancing and bridges . <end> \n",
            "\n",
            "Input : 커피는 필요 없다 .\n",
            "Predicted translation : but you can you mind . <end> \n",
            "\n",
            "Input : 일곱 명의 사망자가 발생했다 .\n",
            "Predicted translation : more than , square , weber , cnn more than , square , weber , cnn more than , square , weber , cnn more than , square , weber , cnn more than , square , weber , cnn \n",
            "\n",
            "\n",
            "Epoch 150\n",
            "Train Loss 1.3238  Test Loss 5.2821\n",
            "\n",
            "Input : 오바마는 대통령이다 .\n",
            "Predicted translation : obama s president is back to the next president . <end> \n",
            "\n",
            "Input : 시민들은 도시 속에 산다 .\n",
            "Predicted translation : the problem has already been torn for sight . <end> \n",
            "\n",
            "Input : 커피는 필요 없다 .\n",
            "Predicted translation : but the lights l . <end> \n",
            "\n",
            "Input : 일곱 명의 사망자가 발생했다 .\n",
            "Predicted translation : shanghai s p second day s . quake . <end> \n",
            "\n",
            "\n",
            "Epoch 160\n",
            "Train Loss 1.3112  Test Loss 5.3502\n",
            "\n",
            "Input : 오바마는 대통령이다 .\n",
            "Predicted translation : obama s john mccain . <end> \n",
            "\n",
            "Input : 시민들은 도시 속에 산다 .\n",
            "Predicted translation : the people have been living in cities . <end> \n",
            "\n",
            "Input : 커피는 필요 없다 .\n",
            "Predicted translation : but this is getting more comfortable . <end> \n",
            "\n",
            "Input : 일곱 명의 사망자가 발생했다 .\n",
            "Predicted translation : more than , square , square , square , from shanghai s kenyan quake . <end> \n",
            "\n",
            "\n",
            "Epoch 170\n",
            "Train Loss 1.2875  Test Loss 5.4230\n",
            "\n",
            "Input : 오바마는 대통령이다 .\n",
            "Predicted translation : obama s pennsylvania senator who are spilling out for the first african american . <end> \n",
            "\n",
            "Input : 시민들은 도시 속에 산다 .\n",
            "Predicted translation : the problem has been living in pennsylvania highway <end> \n",
            "\n",
            "Input : 커피는 필요 없다 .\n",
            "Predicted translation : but you re gonna be able to get more above . <end> \n",
            "\n",
            "Input : 일곱 명의 사망자가 발생했다 .\n",
            "Predicted translation : more than , square . million . <end> \n",
            "\n",
            "\n",
            "Epoch 180\n",
            "Train Loss 1.2872  Test Loss 5.4896\n",
            "\n",
            "Input : 오바마는 대통령이다 .\n",
            "Predicted translation : obama s success . <end> \n",
            "\n",
            "Input : 시민들은 도시 속에 산다 .\n",
            "Predicted translation : the victims were attacked by wine savvy . <end> \n",
            "\n",
            "Input : 커피는 필요 없다 .\n",
            "Predicted translation : time you re getting more above . <end> \n",
            "\n",
            "Input : 일곱 명의 사망자가 발생했다 .\n",
            "Predicted translation : more than , square was up . <end> \n",
            "\n",
            "\n",
            "Epoch 190\n",
            "Train Loss 1.2543  Test Loss 5.5589\n",
            "\n",
            "Input : 오바마는 대통령이다 .\n",
            "Predicted translation : obama s president . <end> \n",
            "\n",
            "Input : 시민들은 도시 속에 산다 .\n",
            "Predicted translation : the problem has been startling . <end> \n",
            "\n",
            "Input : 커피는 필요 없다 .\n",
            "Predicted translation : but the machine has the size of <end> \n",
            "\n",
            "Input : 일곱 명의 사망자가 발생했다 .\n",
            "Predicted translation : more than , square was up . <end> \n",
            "\n",
            "\n",
            "Epoch 200\n",
            "Train Loss 1.2517  Test Loss 5.6068\n",
            "\n",
            "Input : 오바마는 대통령이다 .\n",
            "Predicted translation : obama s pennsylvania senator obama . <end> \n",
            "\n",
            "Input : 시민들은 도시 속에 산다 .\n",
            "Predicted translation : the problem has been living in cities . <end> \n",
            "\n",
            "Input : 커피는 필요 없다 .\n",
            "Predicted translation : like a lot of your car . <end> \n",
            "\n",
            "Input : 일곱 명의 사망자가 발생했다 .\n",
            "Predicted translation : shanghai s busiest , square , kenya s civil coalition was up . <end> \n",
            "\n",
            "\n"
          ]
        }
      ]
    },
    {
      "cell_type": "code",
      "source": [
        "model_loss_df"
      ],
      "metadata": {
        "id": "wJ-4MlFWVjQF",
        "colab": {
          "base_uri": "https://localhost:8080/",
          "height": 424
        },
        "outputId": "40d937f3-1a38-4720-e01d-9779a450074c"
      },
      "execution_count": 38,
      "outputs": [
        {
          "output_type": "execute_result",
          "data": {
            "text/plain": [
              "     Epoch  Train Loss  Test Loss\n",
              "0      1.0      4.4547     4.3930\n",
              "1      2.0      4.3843     4.4027\n",
              "2      3.0      4.3843     4.4082\n",
              "3      4.0      4.2010     3.9671\n",
              "4      5.0      3.7951     3.7189\n",
              "..     ...         ...        ...\n",
              "195  196.0      1.2594     5.5880\n",
              "196  197.0      1.2485     5.6000\n",
              "197  198.0      1.2642     5.5991\n",
              "198  199.0      1.2437     5.6018\n",
              "199  200.0      1.2517     5.6068\n",
              "\n",
              "[200 rows x 3 columns]"
            ],
            "text/html": [
              "\n",
              "  <div id=\"df-8d63586a-bf22-4e28-b452-b7bb014eb4ec\">\n",
              "    <div class=\"colab-df-container\">\n",
              "      <div>\n",
              "<style scoped>\n",
              "    .dataframe tbody tr th:only-of-type {\n",
              "        vertical-align: middle;\n",
              "    }\n",
              "\n",
              "    .dataframe tbody tr th {\n",
              "        vertical-align: top;\n",
              "    }\n",
              "\n",
              "    .dataframe thead th {\n",
              "        text-align: right;\n",
              "    }\n",
              "</style>\n",
              "<table border=\"1\" class=\"dataframe\">\n",
              "  <thead>\n",
              "    <tr style=\"text-align: right;\">\n",
              "      <th></th>\n",
              "      <th>Epoch</th>\n",
              "      <th>Train Loss</th>\n",
              "      <th>Test Loss</th>\n",
              "    </tr>\n",
              "  </thead>\n",
              "  <tbody>\n",
              "    <tr>\n",
              "      <th>0</th>\n",
              "      <td>1.0</td>\n",
              "      <td>4.4547</td>\n",
              "      <td>4.3930</td>\n",
              "    </tr>\n",
              "    <tr>\n",
              "      <th>1</th>\n",
              "      <td>2.0</td>\n",
              "      <td>4.3843</td>\n",
              "      <td>4.4027</td>\n",
              "    </tr>\n",
              "    <tr>\n",
              "      <th>2</th>\n",
              "      <td>3.0</td>\n",
              "      <td>4.3843</td>\n",
              "      <td>4.4082</td>\n",
              "    </tr>\n",
              "    <tr>\n",
              "      <th>3</th>\n",
              "      <td>4.0</td>\n",
              "      <td>4.2010</td>\n",
              "      <td>3.9671</td>\n",
              "    </tr>\n",
              "    <tr>\n",
              "      <th>4</th>\n",
              "      <td>5.0</td>\n",
              "      <td>3.7951</td>\n",
              "      <td>3.7189</td>\n",
              "    </tr>\n",
              "    <tr>\n",
              "      <th>...</th>\n",
              "      <td>...</td>\n",
              "      <td>...</td>\n",
              "      <td>...</td>\n",
              "    </tr>\n",
              "    <tr>\n",
              "      <th>195</th>\n",
              "      <td>196.0</td>\n",
              "      <td>1.2594</td>\n",
              "      <td>5.5880</td>\n",
              "    </tr>\n",
              "    <tr>\n",
              "      <th>196</th>\n",
              "      <td>197.0</td>\n",
              "      <td>1.2485</td>\n",
              "      <td>5.6000</td>\n",
              "    </tr>\n",
              "    <tr>\n",
              "      <th>197</th>\n",
              "      <td>198.0</td>\n",
              "      <td>1.2642</td>\n",
              "      <td>5.5991</td>\n",
              "    </tr>\n",
              "    <tr>\n",
              "      <th>198</th>\n",
              "      <td>199.0</td>\n",
              "      <td>1.2437</td>\n",
              "      <td>5.6018</td>\n",
              "    </tr>\n",
              "    <tr>\n",
              "      <th>199</th>\n",
              "      <td>200.0</td>\n",
              "      <td>1.2517</td>\n",
              "      <td>5.6068</td>\n",
              "    </tr>\n",
              "  </tbody>\n",
              "</table>\n",
              "<p>200 rows × 3 columns</p>\n",
              "</div>\n",
              "      <button class=\"colab-df-convert\" onclick=\"convertToInteractive('df-8d63586a-bf22-4e28-b452-b7bb014eb4ec')\"\n",
              "              title=\"Convert this dataframe to an interactive table.\"\n",
              "              style=\"display:none;\">\n",
              "        \n",
              "  <svg xmlns=\"http://www.w3.org/2000/svg\" height=\"24px\"viewBox=\"0 0 24 24\"\n",
              "       width=\"24px\">\n",
              "    <path d=\"M0 0h24v24H0V0z\" fill=\"none\"/>\n",
              "    <path d=\"M18.56 5.44l.94 2.06.94-2.06 2.06-.94-2.06-.94-.94-2.06-.94 2.06-2.06.94zm-11 1L8.5 8.5l.94-2.06 2.06-.94-2.06-.94L8.5 2.5l-.94 2.06-2.06.94zm10 10l.94 2.06.94-2.06 2.06-.94-2.06-.94-.94-2.06-.94 2.06-2.06.94z\"/><path d=\"M17.41 7.96l-1.37-1.37c-.4-.4-.92-.59-1.43-.59-.52 0-1.04.2-1.43.59L10.3 9.45l-7.72 7.72c-.78.78-.78 2.05 0 2.83L4 21.41c.39.39.9.59 1.41.59.51 0 1.02-.2 1.41-.59l7.78-7.78 2.81-2.81c.8-.78.8-2.07 0-2.86zM5.41 20L4 18.59l7.72-7.72 1.47 1.35L5.41 20z\"/>\n",
              "  </svg>\n",
              "      </button>\n",
              "      \n",
              "  <style>\n",
              "    .colab-df-container {\n",
              "      display:flex;\n",
              "      flex-wrap:wrap;\n",
              "      gap: 12px;\n",
              "    }\n",
              "\n",
              "    .colab-df-convert {\n",
              "      background-color: #E8F0FE;\n",
              "      border: none;\n",
              "      border-radius: 50%;\n",
              "      cursor: pointer;\n",
              "      display: none;\n",
              "      fill: #1967D2;\n",
              "      height: 32px;\n",
              "      padding: 0 0 0 0;\n",
              "      width: 32px;\n",
              "    }\n",
              "\n",
              "    .colab-df-convert:hover {\n",
              "      background-color: #E2EBFA;\n",
              "      box-shadow: 0px 1px 2px rgba(60, 64, 67, 0.3), 0px 1px 3px 1px rgba(60, 64, 67, 0.15);\n",
              "      fill: #174EA6;\n",
              "    }\n",
              "\n",
              "    [theme=dark] .colab-df-convert {\n",
              "      background-color: #3B4455;\n",
              "      fill: #D2E3FC;\n",
              "    }\n",
              "\n",
              "    [theme=dark] .colab-df-convert:hover {\n",
              "      background-color: #434B5C;\n",
              "      box-shadow: 0px 1px 3px 1px rgba(0, 0, 0, 0.15);\n",
              "      filter: drop-shadow(0px 1px 2px rgba(0, 0, 0, 0.3));\n",
              "      fill: #FFFFFF;\n",
              "    }\n",
              "  </style>\n",
              "\n",
              "      <script>\n",
              "        const buttonEl =\n",
              "          document.querySelector('#df-8d63586a-bf22-4e28-b452-b7bb014eb4ec button.colab-df-convert');\n",
              "        buttonEl.style.display =\n",
              "          google.colab.kernel.accessAllowed ? 'block' : 'none';\n",
              "\n",
              "        async function convertToInteractive(key) {\n",
              "          const element = document.querySelector('#df-8d63586a-bf22-4e28-b452-b7bb014eb4ec');\n",
              "          const dataTable =\n",
              "            await google.colab.kernel.invokeFunction('convertToInteractive',\n",
              "                                                     [key], {});\n",
              "          if (!dataTable) return;\n",
              "\n",
              "          const docLinkHtml = 'Like what you see? Visit the ' +\n",
              "            '<a target=\"_blank\" href=https://colab.research.google.com/notebooks/data_table.ipynb>data table notebook</a>'\n",
              "            + ' to learn more about interactive tables.';\n",
              "          element.innerHTML = '';\n",
              "          dataTable['output_type'] = 'display_data';\n",
              "          await google.colab.output.renderOutput(dataTable, element);\n",
              "          const docLink = document.createElement('div');\n",
              "          docLink.innerHTML = docLinkHtml;\n",
              "          element.appendChild(docLink);\n",
              "        }\n",
              "      </script>\n",
              "    </div>\n",
              "  </div>\n",
              "  "
            ]
          },
          "metadata": {},
          "execution_count": 38
        }
      ]
    },
    {
      "cell_type": "code",
      "source": [
        "model_loss_df.to_csv(\"/content/drive/MyDrive/lms/seq2seq_translation/model_loss.csv\", index = False)"
      ],
      "metadata": {
        "id": "9eakCSKfdQev"
      },
      "execution_count": 41,
      "outputs": []
    },
    {
      "cell_type": "code",
      "source": [
        "plt.figure(figsize=[12, 4])\n",
        "plt.plot(model_loss_df['Train Loss'] , label=\"Train Loss\")\n",
        "plt.plot(model_loss_df['Test Loss'], label=\"Test Loss\")\n",
        "plt.legend()\n",
        "plt.title('Loss')\n",
        "plt.xlabel('Epoch')\n",
        "plt.ylabel('Value')\n",
        "plt.show()"
      ],
      "metadata": {
        "id": "kReEdBnCTuF9",
        "colab": {
          "base_uri": "https://localhost:8080/",
          "height": 297
        },
        "outputId": "5a7b5734-151b-471c-e0a5-65a97f2f82af"
      },
      "execution_count": 39,
      "outputs": [
        {
          "output_type": "display_data",
          "data": {
            "text/plain": [
              "<Figure size 864x288 with 1 Axes>"
            ],
            "image/png": "[encoded data removed]"
          },
          "metadata": {
            "image/png": {
              "width": 711,
              "height": 280
            },
            "needs_background": "light"
          }
        }
      ]
    },
    {
      "cell_type": "markdown",
      "source": [
        "훈련엔 위에서 사용한 코드를 그대로 사용하되, eval_step() 부분이 없음에 유의한다.\n",
        "<br/>매 스텝 아래의 예문에 대한 번역을 생성하여 본인이 생각하기에 가장 멋지게 번역한 Case를 제출한다.\n",
        "<br/>Attention Map을 시각화해보는 것도 재밌다."
      ],
      "metadata": {
        "id": "kygpHtKNU9Lg"
      }
    },
    {
      "cell_type": "markdown",
      "source": [
        "##Epoch 50"
      ],
      "metadata": {
        "id": "P3vUPoRni9M1"
      }
    },
    {
      "cell_type": "code",
      "source": [
        "final_model_loss_df = pd.DataFrame({'Epoch':[0],\n",
        "                             'Train Loss':[0],\n",
        "                             'Test Loss':[0]})\n",
        "\n",
        "epochs = 50\n",
        "train_count = 0\n",
        "test_count = 0\n",
        "\n",
        "sentence_list = [\"오바마는 대통령이다.\", \"시민들은 도시 속에 산다.\",\n",
        "                 \"커피는 필요 없다.\", \"일곱 명의 사망자가 발생했다.\"]\n",
        "                 \n",
        "\n",
        "for epoch in range(epochs):\n",
        "    total_loss = 0\n",
        "    \n",
        "    idx_list = list(range(0, enc_train.shape[0], batch_size))\n",
        "    random.shuffle(idx_list)\n",
        "\n",
        "    for (batch, idx) in enumerate(idx_list):\n",
        "        batch_loss = train_step(enc_train[idx:idx + batch_size],\n",
        "                                dec_train[idx:idx + batch_size],\n",
        "                                encoder,\n",
        "                                decoder,\n",
        "                                optimizer,\n",
        "                                dec_tokenizer)\n",
        "    \n",
        "        total_loss += batch_loss\n",
        "\n",
        "        train_count += 1\n",
        "\n",
        "        if train_count % len(idx_list) == 0:\n",
        "            final_model_loss_df.loc[epoch] = [int(epoch + 1), round(total_loss.numpy() / (batch + 1), 4), 0]\n",
        "\n",
        "            if epoch == 0 or (epoch + 1) % 10 == 0:\n",
        "                print('Epoch {}  Train Loss {:.4f}'.format(epoch + 1, total_loss.numpy() / (batch + 1)), end=\"  \")\n",
        "\n",
        "    \n",
        "    test_loss = 0\n",
        "    \n",
        "    idx_list = list(range(0, enc_val.shape[0], batch_size))\n",
        "    random.shuffle(idx_list)\n",
        "\n",
        "    for (test_batch, idx) in enumerate(idx_list):\n",
        "        test_batch_loss = eval_step(enc_val[idx:idx + batch_size],\n",
        "                                    dec_val[idx:idx + batch_size],\n",
        "                                    encoder,\n",
        "                                    decoder,\n",
        "                                    dec_tokenizer)\n",
        "    \n",
        "        test_loss += test_batch_loss\n",
        "\n",
        "        test_count += 1\n",
        "        \n",
        "        if test_count % len(idx_list) == 0:\n",
        "            final_model_loss_df.loc[epoch, 'Test Loss'] = [round(test_loss.numpy() / (test_batch + 1), 4)]\n",
        "\n",
        "            if epoch == 0 or (epoch + 1) % 10 == 0:\n",
        "                print('Test Loss {:.4f}'.format(test_loss.numpy() / (test_batch + 1)))"
      ],
      "metadata": {
        "colab": {
          "base_uri": "https://localhost:8080/"
        },
        "id": "tHbuhpgSLfCy",
        "outputId": "e06a3b40-146d-4956-a5df-77dead35df4d"
      },
      "execution_count": 35,
      "outputs": [
        {
          "output_type": "stream",
          "name": "stdout",
          "text": [
            "Epoch 1  Train Loss 4.4524  Test Loss 4.4000\n",
            "Epoch 10  Train Loss 3.1029  Test Loss 3.3513\n",
            "Epoch 20  Train Loss 2.4984  Test Loss 3.4224\n",
            "Epoch 30  Train Loss 2.1714  Test Loss 3.6839\n",
            "Epoch 40  Train Loss 1.9587  Test Loss 3.9276\n",
            "Epoch 50  Train Loss 1.8108  Test Loss 4.1408\n"
          ]
        }
      ]
    },
    {
      "cell_type": "code",
      "source": [
        "pd.set_option('display.max_rows', 10)\n",
        "final_model_loss_df"
      ],
      "metadata": {
        "colab": {
          "base_uri": "https://localhost:8080/",
          "height": 424
        },
        "id": "EOZxkrXLMYYW",
        "outputId": "f572ec62-1635-44b0-88c4-2af06624642a"
      },
      "execution_count": 52,
      "outputs": [
        {
          "output_type": "execute_result",
          "data": {
            "text/plain": [
              "    Epoch  Train Loss  Test Loss\n",
              "0     1.0      4.4524     4.4000\n",
              "1     2.0      4.3826     4.4106\n",
              "2     3.0      4.3824     4.4154\n",
              "3     4.0      4.2496     4.0342\n",
              "4     5.0      3.8291     3.7426\n",
              "..    ...         ...        ...\n",
              "45   46.0      1.8626     4.0635\n",
              "46   47.0      1.8485     4.0843\n",
              "47   48.0      1.8365     4.1014\n",
              "48   49.0      1.8223     4.1266\n",
              "49   50.0      1.8108     4.1408\n",
              "\n",
              "[50 rows x 3 columns]"
            ],
            "text/html": [
              "\n",
              "  <div id=\"df-4e380fcf-bdf2-41bd-bfb8-dbe5f9c0e668\">\n",
              "    <div class=\"colab-df-container\">\n",
              "      <div>\n",
              "<style scoped>\n",
              "    .dataframe tbody tr th:only-of-type {\n",
              "        vertical-align: middle;\n",
              "    }\n",
              "\n",
              "    .dataframe tbody tr th {\n",
              "        vertical-align: top;\n",
              "    }\n",
              "\n",
              "    .dataframe thead th {\n",
              "        text-align: right;\n",
              "    }\n",
              "</style>\n",
              "<table border=\"1\" class=\"dataframe\">\n",
              "  <thead>\n",
              "    <tr style=\"text-align: right;\">\n",
              "      <th></th>\n",
              "      <th>Epoch</th>\n",
              "      <th>Train Loss</th>\n",
              "      <th>Test Loss</th>\n",
              "    </tr>\n",
              "  </thead>\n",
              "  <tbody>\n",
              "    <tr>\n",
              "      <th>0</th>\n",
              "      <td>1.0</td>\n",
              "      <td>4.4524</td>\n",
              "      <td>4.4000</td>\n",
              "    </tr>\n",
              "    <tr>\n",
              "      <th>1</th>\n",
              "      <td>2.0</td>\n",
              "      <td>4.3826</td>\n",
              "      <td>4.4106</td>\n",
              "    </tr>\n",
              "    <tr>\n",
              "      <th>2</th>\n",
              "      <td>3.0</td>\n",
              "      <td>4.3824</td>\n",
              "      <td>4.4154</td>\n",
              "    </tr>\n",
              "    <tr>\n",
              "      <th>3</th>\n",
              "      <td>4.0</td>\n",
              "      <td>4.2496</td>\n",
              "      <td>4.0342</td>\n",
              "    </tr>\n",
              "    <tr>\n",
              "      <th>4</th>\n",
              "      <td>5.0</td>\n",
              "      <td>3.8291</td>\n",
              "      <td>3.7426</td>\n",
              "    </tr>\n",
              "    <tr>\n",
              "      <th>...</th>\n",
              "      <td>...</td>\n",
              "      <td>...</td>\n",
              "      <td>...</td>\n",
              "    </tr>\n",
              "    <tr>\n",
              "      <th>45</th>\n",
              "      <td>46.0</td>\n",
              "      <td>1.8626</td>\n",
              "      <td>4.0635</td>\n",
              "    </tr>\n",
              "    <tr>\n",
              "      <th>46</th>\n",
              "      <td>47.0</td>\n",
              "      <td>1.8485</td>\n",
              "      <td>4.0843</td>\n",
              "    </tr>\n",
              "    <tr>\n",
              "      <th>47</th>\n",
              "      <td>48.0</td>\n",
              "      <td>1.8365</td>\n",
              "      <td>4.1014</td>\n",
              "    </tr>\n",
              "    <tr>\n",
              "      <th>48</th>\n",
              "      <td>49.0</td>\n",
              "      <td>1.8223</td>\n",
              "      <td>4.1266</td>\n",
              "    </tr>\n",
              "    <tr>\n",
              "      <th>49</th>\n",
              "      <td>50.0</td>\n",
              "      <td>1.8108</td>\n",
              "      <td>4.1408</td>\n",
              "    </tr>\n",
              "  </tbody>\n",
              "</table>\n",
              "<p>50 rows × 3 columns</p>\n",
              "</div>\n",
              "      <button class=\"colab-df-convert\" onclick=\"convertToInteractive('df-4e380fcf-bdf2-41bd-bfb8-dbe5f9c0e668')\"\n",
              "              title=\"Convert this dataframe to an interactive table.\"\n",
              "              style=\"display:none;\">\n",
              "        \n",
              "  <svg xmlns=\"http://www.w3.org/2000/svg\" height=\"24px\"viewBox=\"0 0 24 24\"\n",
              "       width=\"24px\">\n",
              "    <path d=\"M0 0h24v24H0V0z\" fill=\"none\"/>\n",
              "    <path d=\"M18.56 5.44l.94 2.06.94-2.06 2.06-.94-2.06-.94-.94-2.06-.94 2.06-2.06.94zm-11 1L8.5 8.5l.94-2.06 2.06-.94-2.06-.94L8.5 2.5l-.94 2.06-2.06.94zm10 10l.94 2.06.94-2.06 2.06-.94-2.06-.94-.94-2.06-.94 2.06-2.06.94z\"/><path d=\"M17.41 7.96l-1.37-1.37c-.4-.4-.92-.59-1.43-.59-.52 0-1.04.2-1.43.59L10.3 9.45l-7.72 7.72c-.78.78-.78 2.05 0 2.83L4 21.41c.39.39.9.59 1.41.59.51 0 1.02-.2 1.41-.59l7.78-7.78 2.81-2.81c.8-.78.8-2.07 0-2.86zM5.41 20L4 18.59l7.72-7.72 1.47 1.35L5.41 20z\"/>\n",
              "  </svg>\n",
              "      </button>\n",
              "      \n",
              "  <style>\n",
              "    .colab-df-container {\n",
              "      display:flex;\n",
              "      flex-wrap:wrap;\n",
              "      gap: 12px;\n",
              "    }\n",
              "\n",
              "    .colab-df-convert {\n",
              "      background-color: #E8F0FE;\n",
              "      border: none;\n",
              "      border-radius: 50%;\n",
              "      cursor: pointer;\n",
              "      display: none;\n",
              "      fill: #1967D2;\n",
              "      height: 32px;\n",
              "      padding: 0 0 0 0;\n",
              "      width: 32px;\n",
              "    }\n",
              "\n",
              "    .colab-df-convert:hover {\n",
              "      background-color: #E2EBFA;\n",
              "      box-shadow: 0px 1px 2px rgba(60, 64, 67, 0.3), 0px 1px 3px 1px rgba(60, 64, 67, 0.15);\n",
              "      fill: #174EA6;\n",
              "    }\n",
              "\n",
              "    [theme=dark] .colab-df-convert {\n",
              "      background-color: #3B4455;\n",
              "      fill: #D2E3FC;\n",
              "    }\n",
              "\n",
              "    [theme=dark] .colab-df-convert:hover {\n",
              "      background-color: #434B5C;\n",
              "      box-shadow: 0px 1px 3px 1px rgba(0, 0, 0, 0.15);\n",
              "      filter: drop-shadow(0px 1px 2px rgba(0, 0, 0, 0.3));\n",
              "      fill: #FFFFFF;\n",
              "    }\n",
              "  </style>\n",
              "\n",
              "      <script>\n",
              "        const buttonEl =\n",
              "          document.querySelector('#df-4e380fcf-bdf2-41bd-bfb8-dbe5f9c0e668 button.colab-df-convert');\n",
              "        buttonEl.style.display =\n",
              "          google.colab.kernel.accessAllowed ? 'block' : 'none';\n",
              "\n",
              "        async function convertToInteractive(key) {\n",
              "          const element = document.querySelector('#df-4e380fcf-bdf2-41bd-bfb8-dbe5f9c0e668');\n",
              "          const dataTable =\n",
              "            await google.colab.kernel.invokeFunction('convertToInteractive',\n",
              "                                                     [key], {});\n",
              "          if (!dataTable) return;\n",
              "\n",
              "          const docLinkHtml = 'Like what you see? Visit the ' +\n",
              "            '<a target=\"_blank\" href=https://colab.research.google.com/notebooks/data_table.ipynb>data table notebook</a>'\n",
              "            + ' to learn more about interactive tables.';\n",
              "          element.innerHTML = '';\n",
              "          dataTable['output_type'] = 'display_data';\n",
              "          await google.colab.output.renderOutput(dataTable, element);\n",
              "          const docLink = document.createElement('div');\n",
              "          docLink.innerHTML = docLinkHtml;\n",
              "          element.appendChild(docLink);\n",
              "        }\n",
              "      </script>\n",
              "    </div>\n",
              "  </div>\n",
              "  "
            ]
          },
          "metadata": {},
          "execution_count": 52
        }
      ]
    },
    {
      "cell_type": "code",
      "source": [
        "final_model_loss_df.to_csv(\"/content/drive/MyDrive/lms/seq2seq_translation/final_model_loss.csv\", index = False)"
      ],
      "metadata": {
        "id": "ooLLoHbMdzq5"
      },
      "execution_count": 37,
      "outputs": []
    },
    {
      "cell_type": "code",
      "source": [
        "plt.figure(figsize=[12, 4])\n",
        "plt.plot(final_model_loss_df['Train Loss'] , label=\"Train Loss\")\n",
        "plt.plot(final_model_loss_df['Test Loss'], label=\"Test Loss\")\n",
        "plt.legend()\n",
        "plt.title('Loss')\n",
        "plt.xlabel('Epoch')\n",
        "plt.ylabel('Value')\n",
        "plt.show()"
      ],
      "metadata": {
        "colab": {
          "base_uri": "https://localhost:8080/",
          "height": 297
        },
        "id": "c7756C_DMaj4",
        "outputId": "56d55414-efd0-4052-9756-dd5760806df3"
      },
      "execution_count": 38,
      "outputs": [
        {
          "output_type": "display_data",
          "data": {
            "text/plain": [
              "<Figure size 864x288 with 1 Axes>"
            ],
            "image/png": "[encoded data removed]"
          },
          "metadata": {
            "image/png": {
              "width": 720,
              "height": 280
            },
            "needs_background": "light"
          }
        }
      ]
    },
    {
      "cell_type": "markdown",
      "source": [
        "##모델 평가"
      ],
      "metadata": {
        "id": "wGgXP3PXNZYx"
      }
    },
    {
      "cell_type": "code",
      "source": [
        "sentence_list = [\"오바마는 대통령이다.\", \"시민들은 도시 속에 산다.\",\n",
        "                 \"커피는 필요 없다.\", \"일곱 명의 사망자가 발생했다.\"]\n",
        "\n",
        "for sentence in sentence_list:\n",
        "  sentence_translator(sentence, encoder, decoder)\n",
        "  print()"
      ],
      "metadata": {
        "colab": {
          "base_uri": "https://localhost:8080/"
        },
        "id": "sQGhYA-_NGnZ",
        "outputId": "b34c981a-e0c2-4ae6-d2a0-ea7a878d98c8"
      },
      "execution_count": 39,
      "outputs": [
        {
          "output_type": "stream",
          "name": "stdout",
          "text": [
            "Input : 오바마는 대통령이다 .\n",
            "Predicted translation : obama is in the same time . <end> \n",
            "\n",
            "Input : 시민들은 도시 속에 산다 .\n",
            "Predicted translation : the mosquito borne travelers are commonplace . <end> \n",
            "\n",
            "Input : 커피는 필요 없다 .\n",
            "Predicted translation : the colder it is , it s not this night . <end> \n",
            "\n",
            "Input : 일곱 명의 사망자가 발생했다 .\n",
            "Predicted translation : eight people were killed in the same time . <end> \n",
            "\n"
          ]
        }
      ]
    },
    {
      "cell_type": "code",
      "source": [
        "translate(\"오바마는 대통령이다.\", encoder, decoder)"
      ],
      "metadata": {
        "colab": {
          "base_uri": "https://localhost:8080/",
          "height": 677
        },
        "id": "z-ErD6qlNGqk",
        "outputId": "6af13519-c51e-4606-f874-14d123682550"
      },
      "execution_count": 40,
      "outputs": [
        {
          "output_type": "stream",
          "name": "stdout",
          "text": [
            "Input : 오바마는 대통령이다 .\n",
            "Predicted translation : obama is in the same time . <end> \n",
            "\n"
          ]
        },
        {
          "output_type": "display_data",
          "data": {
            "text/plain": [
              "<Figure size 720x720 with 1 Axes>"
            ],
            "image/png": "[encoded data removed]"
          },
          "metadata": {
            "image/png": {
              "width": 473,
              "height": 606
            },
            "needs_background": "light"
          }
        }
      ]
    },
    {
      "cell_type": "code",
      "source": [
        "translate(\"시민들은 도시 속에 산다.\", encoder, decoder)"
      ],
      "metadata": {
        "colab": {
          "base_uri": "https://localhost:8080/",
          "height": 664
        },
        "id": "PsQZcuVdNgG-",
        "outputId": "cfc9a97e-8e1e-4ac9-a479-76359262a15d"
      },
      "execution_count": 41,
      "outputs": [
        {
          "output_type": "stream",
          "name": "stdout",
          "text": [
            "Input : 시민들은 도시 속에 산다 .\n",
            "Predicted translation : the mosquito borne travelers are commonplace . <end> \n",
            "\n"
          ]
        },
        {
          "output_type": "display_data",
          "data": {
            "text/plain": [
              "<Figure size 720x720 with 1 Axes>"
            ],
            "image/png": "[encoded data removed]"
          },
          "metadata": {
            "image/png": {
              "width": 655,
              "height": 593
            },
            "needs_background": "light"
          }
        }
      ]
    },
    {
      "cell_type": "code",
      "source": [
        "translate(\"커피는 필요 없다.\", encoder, decoder)"
      ],
      "metadata": {
        "colab": {
          "base_uri": "https://localhost:8080/",
          "height": 664
        },
        "id": "cbXEyXJtNgJY",
        "outputId": "0a3e33b5-7cbe-453d-97ee-aca2639bf5b6"
      },
      "execution_count": 42,
      "outputs": [
        {
          "output_type": "stream",
          "name": "stdout",
          "text": [
            "Input : 커피는 필요 없다 .\n",
            "Predicted translation : the colder it is , it s not this night . <end> \n",
            "\n"
          ]
        },
        {
          "output_type": "display_data",
          "data": {
            "text/plain": [
              "<Figure size 720x720 with 1 Axes>"
            ],
            "image/png": "[encoded data removed]"
          },
          "metadata": {
            "image/png": {
              "width": 333,
              "height": 593
            },
            "needs_background": "light"
          }
        }
      ]
    },
    {
      "cell_type": "code",
      "source": [
        "translate(\"일곱 명의 사망자가 발생했다.\", encoder, decoder)"
      ],
      "metadata": {
        "colab": {
          "base_uri": "https://localhost:8080/",
          "height": 677
        },
        "id": "msguM7VENmKe",
        "outputId": "3c94aec1-d09a-4aaa-bafd-932209d188f7"
      },
      "execution_count": 43,
      "outputs": [
        {
          "output_type": "stream",
          "name": "stdout",
          "text": [
            "Input : 일곱 명의 사망자가 발생했다 .\n",
            "Predicted translation : eight people were killed in the same time . <end> \n",
            "\n"
          ]
        },
        {
          "output_type": "display_data",
          "data": {
            "text/plain": [
              "<Figure size 720x720 with 1 Axes>"
            ],
            "image/png": "[encoded data removed]"
          },
          "metadata": {
            "image/png": {
              "width": 554,
              "height": 606
            },
            "needs_background": "light"
          }
        }
      ]
    },
    {
      "cell_type": "markdown",
      "source": [
        "##재시도"
      ],
      "metadata": {
        "id": "dYpZrbO7Q_rm"
      }
    },
    {
      "cell_type": "code",
      "source": [
        "final_model_loss_df2 = pd.DataFrame({'Epoch':[0],\n",
        "                             'Train Loss':[0],\n",
        "                             'Test Loss':[0]})\n",
        "\n",
        "epochs = 50\n",
        "train_count = 0\n",
        "test_count = 0\n",
        "\n",
        "sentence_list = [\"오바마는 대통령이다.\", \"시민들은 도시 속에 산다.\",\n",
        "                 \"커피는 필요 없다.\", \"일곱 명의 사망자가 발생했다.\"]\n",
        "                 \n",
        "\n",
        "for epoch in range(epochs):\n",
        "    total_loss = 0\n",
        "    \n",
        "    idx_list = list(range(0, enc_train.shape[0], batch_size))\n",
        "    random.shuffle(idx_list)\n",
        "\n",
        "    for (batch, idx) in enumerate(idx_list):\n",
        "        batch_loss = train_step(enc_train[idx:idx + batch_size],\n",
        "                                dec_train[idx:idx + batch_size],\n",
        "                                encoder,\n",
        "                                decoder,\n",
        "                                optimizer,\n",
        "                                dec_tokenizer)\n",
        "    \n",
        "        total_loss += batch_loss\n",
        "\n",
        "        train_count += 1\n",
        "\n",
        "        if train_count % len(idx_list) == 0:\n",
        "            final_model_loss_df2.loc[epoch] = [int(epoch + 1), round(total_loss.numpy() / (batch + 1), 4), 0]\n",
        "\n",
        "            if epoch == 0 or (epoch + 1) % 10 == 0:\n",
        "                print('Epoch {}  Train Loss {:.4f}'.format(epoch + 1, total_loss.numpy() / (batch + 1)), end=\"  \")\n",
        "\n",
        "    \n",
        "    test_loss = 0\n",
        "    \n",
        "    idx_list = list(range(0, enc_val.shape[0], batch_size))\n",
        "    random.shuffle(idx_list)\n",
        "\n",
        "    for (test_batch, idx) in enumerate(idx_list):\n",
        "        test_batch_loss = eval_step(enc_val[idx:idx + batch_size],\n",
        "                                    dec_val[idx:idx + batch_size],\n",
        "                                    encoder,\n",
        "                                    decoder,\n",
        "                                    dec_tokenizer)\n",
        "    \n",
        "        test_loss += test_batch_loss\n",
        "\n",
        "        test_count += 1\n",
        "        \n",
        "        if test_count % len(idx_list) == 0:\n",
        "            final_model_loss_df2.loc[epoch, 'Test Loss'] = [round(test_loss.numpy() / (test_batch + 1), 4)]\n",
        "\n",
        "            if epoch == 0 or (epoch + 1) % 10 == 0:\n",
        "                print('Test Loss {:.4f}'.format(test_loss.numpy() / (test_batch + 1)))"
      ],
      "metadata": {
        "colab": {
          "base_uri": "https://localhost:8080/"
        },
        "id": "cpxHPpJLRB59",
        "outputId": "fe0f8d11-9c16-4b95-9e38-f42f5f5cb2dd"
      },
      "execution_count": null,
      "outputs": [
        {
          "output_type": "stream",
          "name": "stdout",
          "text": [
            "Epoch 1  Train Loss 4.4525  Test Loss 4.4017\n",
            "Epoch 10  Train Loss 3.0847  Test Loss 3.3433\n",
            "Epoch 20  Train Loss 2.4942  Test Loss 3.4183\n",
            "Epoch 30  Train Loss 2.1811  Test Loss 3.6740\n"
          ]
        }
      ]
    },
    {
      "cell_type": "code",
      "source": [
        "pd.set_option('display.max_rows', 10)\n",
        "final_model_loss_df2"
      ],
      "metadata": {
        "id": "ReUgwxFIRB84"
      },
      "execution_count": null,
      "outputs": []
    },
    {
      "cell_type": "code",
      "source": [
        "final_model_loss_df2.to_csv(\"/content/drive/MyDrive/lms/seq2seq_translation/final_model_loss2.csv\", index = False)"
      ],
      "metadata": {
        "id": "AtWjNFrMRCBm"
      },
      "execution_count": null,
      "outputs": []
    },
    {
      "cell_type": "code",
      "source": [
        "plt.figure(figsize=[12, 4])\n",
        "plt.plot(final_model_loss_df2['Train Loss'] , label=\"Train Loss\")\n",
        "plt.plot(final_model_loss_df2['Test Loss'], label=\"Test Loss\")\n",
        "plt.legend()\n",
        "plt.title('Loss')\n",
        "plt.xlabel('Epoch')\n",
        "plt.ylabel('Value')\n",
        "plt.show()"
      ],
      "metadata": {
        "id": "iqAz4n35RCEO"
      },
      "execution_count": null,
      "outputs": []
    },
    {
      "cell_type": "code",
      "source": [
        "sentence_list = [\"오바마는 대통령이다.\", \"시민들은 도시 속에 산다.\",\n",
        "                 \"커피는 필요 없다.\", \"일곱 명의 사망자가 발생했다.\"]\n",
        "\n",
        "for sentence in sentence_list:\n",
        "  sentence_translator(sentence, encoder, decoder)\n",
        "  print()"
      ],
      "metadata": {
        "id": "GBUccKsuRCHi"
      },
      "execution_count": null,
      "outputs": []
    },
    {
      "cell_type": "code",
      "source": [
        "translate(\"오바마는 대통령이다.\", encoder, decoder)"
      ],
      "metadata": {
        "id": "NP6ZL0uGR3EG"
      },
      "execution_count": null,
      "outputs": []
    },
    {
      "cell_type": "code",
      "source": [
        "translate(\"시민들은 도시 속에 산다.\", encoder, decoder)"
      ],
      "metadata": {
        "id": "kMKPkqNiR3Gm"
      },
      "execution_count": null,
      "outputs": []
    },
    {
      "cell_type": "code",
      "source": [
        "translate(\"커피는 필요 없다.\", encoder, decoder)"
      ],
      "metadata": {
        "id": "0hZAAcuJSUIP"
      },
      "execution_count": null,
      "outputs": []
    },
    {
      "cell_type": "code",
      "source": [
        "translate(\"일곱 명의 사망자가 발생했다.\", encoder, decoder)"
      ],
      "metadata": {
        "id": "1naXwt26R3KF"
      },
      "execution_count": null,
      "outputs": []
    },
    {
      "cell_type": "markdown",
      "source": [
        "#결론"
      ],
      "metadata": {
        "id": "9wemNsMUQimB"
      }
    },
    {
      "cell_type": "markdown",
      "source": [
        "**하이퍼파라미터**"
      ],
      "metadata": {
        "id": "Y31r_Kqf3t1P"
      }
    },
    {
      "cell_type": "code",
      "source": [
        ""
      ],
      "metadata": {
        "id": "PFkLxAmk4_ky"
      },
      "execution_count": null,
      "outputs": []
    },
    {
      "cell_type": "code",
      "source": [
        ""
      ],
      "metadata": {
        "id": "nRoTySy24_ue"
      },
      "execution_count": null,
      "outputs": []
    },
    {
      "cell_type": "markdown",
      "source": [
        ""
      ],
      "metadata": {
        "id": "8pAEFfUc305v"
      }
    },
    {
      "cell_type": "markdown",
      "source": [
        "**모델 초기화**"
      ],
      "metadata": {
        "id": "pgW7_j1_MzG4"
      }
    },
    {
      "cell_type": "markdown",
      "source": [
        "하이퍼 파라미터 튜닝을 하여 새로운 모델을 구성하고 다시 학습할 때\n",
        "Google Colab의 런타임을 다시 시작해야 한다.\n",
        "<br/>런타임 재시작할 때마다 처음부터 코드를 작동시켜야하는 번거로움을 느낀다.\n",
        "<br/>모델 초기화 함수 코드가 있었다면 런타임을 재시작하지 않아도 되었을 것이다.\n",
        "<br/>모델 초기화 함수의 필요성을 느낀다."
      ],
      "metadata": {
        "id": "u5aYks5YMzSG"
      }
    },
    {
      "cell_type": "markdown",
      "source": [
        "**모델 학습 시간**"
      ],
      "metadata": {
        "id": "yT_Hd7GrMQsD"
      }
    },
    {
      "cell_type": "code",
      "source": [
        "begin = time.time()\n",
        "epochs = 200\n",
        "train_count = 0\n",
        "test_count = 0\n",
        "\n",
        "for epoch in range(epochs):\n",
        "  idx_list = list(range(0, enc_train.shape[0], batch_size))\n",
        "  random.shuffle(idx_list)\n",
        "\n",
        "  for (batch, idx) in enumerate(idx_list):\n",
        "    train_count += 1\n",
        "\n",
        "  idx_list = list(range(0, enc_val.shape[0], batch_size))\n",
        "  random.shuffle(idx_list)\n",
        "\n",
        "  for (test_batch, idx) in enumerate(idx_list):\n",
        "    test_count += 1\n",
        "\n",
        "end = time.time()\n",
        "\n",
        "#시간차\n",
        "result = end - begin\n",
        "\n",
        "#여기서 round는 파이썬에서 소수점 자리수 조절에 활용됩니다.\n",
        "print(int(result), \"초의 시간이 흘렀습니다.\")\n",
        "print(int(result) / 60, \"분의 시간이 흘렀습니다.\")\n",
        "print(int(result) / 3600, \"시간이 흘렀습니다.\")"
      ],
      "metadata": {
        "id": "RyrAZ3u016bp"
      },
      "execution_count": null,
      "outputs": []
    },
    {
      "cell_type": "markdown",
      "source": [
        "#참고문헌"
      ],
      "metadata": {
        "id": "VbhCZ1jZQj2B"
      }
    },
    {
      "cell_type": "markdown",
      "source": [
        "**LMS**\n",
        "<br/>[dev-sngwn](https://github.com/dev-sngwn)\n",
        "\n",
        "<br/>**단행본**\n",
        "<br/>유원준 외 1명, 『딥러닝을 이용한 자연어 처리 입문』, Wikidocs, 2022\n",
        "<br/>[불용어(Stopword)](https://wikidocs.net/22530)\n",
        "<br/>[네이버 영화 리뷰 감성 분류하기(Naver Movie Review Sentiment Analysis)](https://wikidocs.net/44249)\n",
        "\n",
        "<br/>**공식 사이트**\n",
        "<br/>DACON\n",
        "<br/>[금융 문자 분석 경진대회 SOMJANG 최종 순위 59위 코드](https://dacon.io/competitions/open/235401/codeshare/661)\n",
        "<br/>[2021 농산물 가격예측 AI 경진대회 baseline 어텐션이 적용된 Seq2Seq](https://dacon.io/competitions/official/235801/codeshare/3172)\n",
        "<br/><br/>Tensorflow\n",
        "<br/>[어텐션을 사용한 인공 신경망 기계 번역](https://www.tensorflow.org/tutorials/text/nmt_with_attention?hl=ko)\n",
        "<br/>[tf.function으로 성능 향상하기](https://www.tensorflow.org/guide/function?hl=ko)\n",
        "<br/>[그래디언트 및 자동 미분 소개](https://www.tensorflow.org/guide/autodiff?hl=ko)\n",
        "<br/>[tf.keras.layers.GRU](https://www.tensorflow.org/api_docs/python/tf/keras/layers/GRU)\n",
        "<br/>[tf.keras.layers.Dropout](https://www.tensorflow.org/api_docs/python/tf/keras/layers/Dropout)\n",
        "<br/><br/>RStudio AI Blog\n",
        "<br/>[Attention-based Neural Machine Translation with Keras](https://blogs.rstudio.com/ai/posts/2018-07-30-attention-layer/)\n",
        "\n",
        "<br/>**깃허브**\n",
        "<br/>[Korean English News V1](https://github.com/jungyeul/korean-parallel-corpora/tree/master/korean-english-news-v1)\n",
        "<br/>[train 데이터에서 한영 문장이 매치되지 않습니다. #2](https://github.com/haven-jeon/ko_en_neural_machine_translation/issues/2)\n",
        "<br/>[tqdm](https://github.com/tqdm/tqdm)\n",
        "<br/>[GD_NLP_4_seq2seq_translation.ipynb](https://github.com/suheeeee/my_deeplearning_project/blob/main/going_deeper/GD_NLP_4_seq2seq_translation.ipynb)\n",
        "\n",
        "<br/>**웹사이트**\n",
        "<br/>[Python 정규표현식 - re.sub : 원하는 문자만 남기고 제거하기](https://kyhslam.tistory.com/entry/Python-%EC%A0%95%EA%B7%9C%ED%91%9C%ED%98%84%EC%8B%9D-resub-%EC%9B%90%ED%95%98%EB%8A%94-%EB%AC%B8%EC%9E%90%EB%A7%8C-%EB%82%A8%EA%B8%B0%EA%B3%A0-%EC%A0%9C%EA%B1%B0%ED%95%98%EA%B8%B0)\n",
        "<br/>[Codetorial 자연어 처리하기 1](https://codetorial.net/tensorflow/natural_language_processing_in_tensorflow_01.html)\n",
        "<br/>[Python - list vs tuple, set vs dictionary](https://phin09.tistory.com/43)\n",
        "<br/>[python - dictionary 의 key, value 를 출력 하는 방법. dictionary loop](https://junho85.pe.kr/671)\n",
        "<br/>[Python 사전을 Pandas DataFrame으로 변환하는 방법](https://www.delftstack.com/ko/howto/python-pandas/how-to-convert-python-dictionary-to-pandas-dataframe/)\n",
        "<br/>[pandas의 DataFrame에 대한 Inner Join, Outer Join, Left Join, Right Join](http://www.gisdeveloper.co.kr/?p=8255)\n"
      ],
      "metadata": {
        "id": "1SDdGdnJKVQl"
      }
    }
  ]
}