{
  "nbformat": 4,
  "nbformat_minor": 0,
  "metadata": {
    "colab": {
      "name": "[GD_08]Seq2seq_with_Attention_Kor_Eng_Translator.ipynb",
      "provenance": [],
      "collapsed_sections": [],
      "toc_visible": true,
      "machine_shape": "hm"
    },
    "kernelspec": {
      "name": "python3",
      "display_name": "Python 3"
    },
    "language_info": {
      "name": "python"
    },
    "gpuClass": "standard",
    "accelerator": "GPU"
  },
  "cells": [
    {
      "cell_type": "markdown",
      "source": [
        "##Seq2seq으로 번역기 만들기"
      ],
      "metadata": {
        "id": "6bxAEH1LP0Mq"
      }
    },
    {
      "cell_type": "markdown",
      "source": [
        ""
      ],
      "metadata": {
        "id": "eV1VFHBLP16A"
      }
    },
    {
      "cell_type": "markdown",
      "source": [
        "개발 환경\n",
        "<br/>데이터 정보\n"
      ],
      "metadata": {
        "id": "EMp6RyCZP30Z"
      }
    },
    {
      "cell_type": "markdown",
      "source": [
        "데이터 전처리\n",
        "<br/>중복 제거\n",
        "<br/>정제\n",
        "<br/>토큰화"
      ],
      "metadata": {
        "id": "JkkrYIe2kVvu"
      }
    },
    {
      "cell_type": "markdown",
      "source": [
        "모델 구성\n",
        "<br/>Seq2seq with Attention\n",
        "<br/>Optimizer & Loss\n",
        "<br/>Train Step\n",
        "<br/>Evaluation"
      ],
      "metadata": {
        "id": "Pkd7a0E0kW98"
      }
    },
    {
      "cell_type": "markdown",
      "source": [
        "모델 학습\n",
        "<br/>Hyperparameter\n",
        "<br/>Model Initialization\n",
        "<br/>First Model\n",
        "<br/>Second Model\n",
        "<br/>Third Model\n",
        "<br/>Fourth Model\n",
        "<br/>FModel Selection"
      ],
      "metadata": {
        "id": "2b0C3rxjkYqd"
      }
    },
    {
      "cell_type": "markdown",
      "source": [
        "최종 모델\n",
        "<br/>Epoch Test\n",
        "<br/>Model Evaluation\n",
        "<br/>Random State"
      ],
      "metadata": {
        "id": "rvZ_YbX_kaBD"
      }
    },
    {
      "cell_type": "markdown",
      "source": [
        "결론\n",
        "<br/>참고문헌"
      ],
      "metadata": {
        "id": "c_MDhqToe_6Z"
      }
    },
    {
      "cell_type": "markdown",
      "source": [
        ""
      ],
      "metadata": {
        "id": "nfoDs1itP324"
      }
    },
    {
      "cell_type": "markdown",
      "source": [
        "#개발 환경"
      ],
      "metadata": {
        "id": "wx0j1AP9P2EI"
      }
    },
    {
      "cell_type": "code",
      "source": [
        "!sudo apt-get install -y fonts-nanum\n",
        "!sudo fc-cache -fv\n",
        "!rm ~/.cache/matplotlib -rf"
      ],
      "metadata": {
        "id": "OsfcfzYSRw_Q"
      },
      "execution_count": null,
      "outputs": []
    },
    {
      "cell_type": "markdown",
      "source": [
        "한글 폰트를 설치한다.\n",
        "<br/>혹시 깨짐현상이 발생하는 경우 런타임을 다시 시작하고 matplotlib 모듈을 실행하면 한글이 출력된다."
      ],
      "metadata": {
        "id": "VK-dmMh7Rxto"
      }
    },
    {
      "cell_type": "code",
      "source": [
        "import matplotlib as mpl\n",
        "import matplotlib.pyplot as plt\n",
        "%config InlineBackend.figure_format = 'retina'\n",
        "import matplotlib.font_manager as fm\n",
        "import matplotlib.ticker as ticker"
      ],
      "metadata": {
        "id": "lN5_NcFQDLRG"
      },
      "execution_count": null,
      "outputs": []
    },
    {
      "cell_type": "code",
      "source": [
        "font_list = [font.name for font in fm.fontManager.ttflist]\n",
        "font_list"
      ],
      "metadata": {
        "id": "8ZFci3LURxnY"
      },
      "execution_count": null,
      "outputs": []
    },
    {
      "cell_type": "markdown",
      "source": [
        "Google Colab에 한글 폰트가 설치되어 있는지 확인한다."
      ],
      "metadata": {
        "id": "BvPTdrgLRxMn"
      }
    },
    {
      "cell_type": "code",
      "source": [
        "fontpath = '/usr/share/fonts/truetype/nanum/NanumBarunGothic.ttf'\n",
        "font = fm.FontProperties(fname=fontpath, size=9)\n",
        "plt.rc('font', family='NanumBarunGothic') \n",
        "mpl.font_manager.findfont(font)"
      ],
      "metadata": {
        "id": "eKf107YaFWfC"
      },
      "execution_count": null,
      "outputs": []
    },
    {
      "cell_type": "markdown",
      "source": [
        "Attention Map을 확인하기 위해 한국어를 지원하는 폰트로 변경한다."
      ],
      "metadata": {
        "id": "zPFKs8eJFzml"
      }
    },
    {
      "cell_type": "code",
      "source": [
        "import os\n",
        "# install konlpy, jdk, JPype\n",
        "!pip install konlpy\n",
        "!apt-get install openjdk-8-jdk-headless -qq > /dev/null\n",
        "!pip3 install JPype1-py3\n",
        "\n",
        "# install mecab-ko\n",
        "os.chdir('/tmp/')\n",
        "!curl -LO https://bitbucket.org/eunjeon/mecab-ko/downloads/mecab-0.996-ko-0.9.2.tar.gz\n",
        "!tar zxfv mecab-0.996-ko-0.9.2.tar.gz\n",
        "os.chdir('/tmp/mecab-0.996-ko-0.9.2')\n",
        "!./configure\n",
        "!make\n",
        "!make check\n",
        "!make install\n",
        "\n",
        "# install mecab-ko-dic\n",
        "!apt-get install automake\n",
        "os.chdir('/tmp')\n",
        "!curl -LO https://bitbucket.org/eunjeon/mecab-ko-dic/downloads/mecab-ko-dic-2.1.1-20180720.tar.gz\n",
        "!tar -zxvf mecab-ko-dic-2.1.1-20180720.tar.gz\n",
        "os.chdir('/tmp/mecab-ko-dic-2.1.1-20180720')\n",
        "!./autogen.sh\n",
        "!./configure\n",
        "!make\n",
        "!make install\n",
        "\n",
        "# install mecab-python\n",
        "os.chdir('/content')\n",
        "!git clone https://bitbucket.org/eunjeon/mecab-python-0.996.git\n",
        "os.chdir('/content/mecab-python-0.996')\n",
        "!python3 setup.py build\n",
        "!python3 setup.py install"
      ],
      "metadata": {
        "id": "0FCqyQuMjTyU"
      },
      "execution_count": null,
      "outputs": []
    },
    {
      "cell_type": "code",
      "source": [
        "import tensorflow as tf\n",
        "import pandas as pd\n",
        "import numpy as np"
      ],
      "metadata": {
        "id": "3WCZqjErRdlw"
      },
      "execution_count": null,
      "outputs": []
    },
    {
      "cell_type": "code",
      "source": [
        "from sklearn.model_selection import train_test_split"
      ],
      "metadata": {
        "id": "_TCS1AitRkcp"
      },
      "execution_count": null,
      "outputs": []
    },
    {
      "cell_type": "code",
      "source": [
        "import os\n",
        "import io\n",
        "import time\n",
        "import random\n",
        "from tqdm import tqdm\n",
        "from IPython.display import Image\n",
        "from IPython.display import HTML"
      ],
      "metadata": {
        "id": "Zd8sgftQjtOl"
      },
      "execution_count": null,
      "outputs": []
    },
    {
      "cell_type": "code",
      "source": [
        "import re\n",
        "from konlpy.tag import Mecab\n",
        "from keras.preprocessing.text import Tokenizer"
      ],
      "metadata": {
        "id": "OfzrFsSaRmQY"
      },
      "execution_count": null,
      "outputs": []
    },
    {
      "cell_type": "code",
      "source": [
        "from google.colab import drive\n",
        "drive.mount('/content/drive')"
      ],
      "metadata": {
        "id": "UUFzTxS_Djhu"
      },
      "execution_count": null,
      "outputs": []
    },
    {
      "cell_type": "code",
      "execution_count": null,
      "metadata": {
        "id": "ciSzE3PsPrcX"
      },
      "outputs": [],
      "source": [
        "pip freeze > '/content/drive/MyDrive/lms/library_version.txt'"
      ]
    },
    {
      "cell_type": "code",
      "source": [
        "library_name = ['matplotlib=', 'scikit-learn=', 'tensorflow=', 'pandas=', 'numpy=',\n",
        "                'tqdm=', 'regex=', 'konlpy=', 'keras=']\n",
        "library_version = []\n",
        "f = open('/content/drive/MyDrive/lms/library_version.txt', 'r')\n",
        "line = f.readline()\n",
        "while True:\n",
        "    line = f.readline()\n",
        "    if not line:\n",
        "      break\n",
        "    for i in library_name:\n",
        "      if i in line:\n",
        "        library_version.append(line)\n",
        "        library_version.append('    ')\n",
        "\n",
        "f.close()\n",
        "\n",
        "import sys\n",
        "print(sys.version)\n",
        "print()\n",
        "\n",
        "for i in range(0, len(library_version) - 1, 6):\n",
        "  print(str(library_version[i : i+6]).replace(\"[\",\"\").replace(\"]\",\"\").replace(\"'\",\"\").replace(\"\\\\n\",\"\").replace(\",\",\"\"), end='') \n",
        "  if i % 6 == 0:\n",
        "    print()\n",
        "\n",
        "for i in range(len(library_version) - 1):\n",
        "  if (i-1) % 6 == 0 and i == len(library_version) - 6:\n",
        "    print(str(library_version[-1]).replace(\"[\",\"\").replace(\"]\",\"\").replace(\"'\",\"\").replace(\"\\\\n\",\"\").replace(\",\",\"\"), end='')"
      ],
      "metadata": {
        "id": "RaTjEXMlQn8A",
        "colab": {
          "base_uri": "https://localhost:8080/"
        },
        "outputId": "be7b41cc-963d-4acb-c78a-b4374cda15cd"
      },
      "execution_count": null,
      "outputs": [
        {
          "output_type": "stream",
          "name": "stdout",
          "text": [
            "3.7.13 (default, Apr 24 2022, 01:04:09) \n",
            "[GCC 7.5.0]\n",
            "\n",
            "keras==2.8.0      konlpy==0.6.0      matplotlib==3.2.2     \n",
            "numpy==1.21.6      pandas==1.3.5      regex==2022.6.2     \n",
            "scikit-learn==1.0.2      sklearn-pandas==1.8.0      tensorflow==2.8.2+zzzcolab20220527125636     \n",
            "tqdm==4.64.0     \n"
          ]
        }
      ]
    },
    {
      "cell_type": "code",
      "source": [
        "gpu_info = !nvidia-smi\n",
        "gpu_info = '\\n'.join(gpu_info)\n",
        "if gpu_info.find('failed') >= 0:\n",
        "  print('Not connected to a GPU')\n",
        "else:\n",
        "  print(gpu_info)"
      ],
      "metadata": {
        "id": "mWbaHapHQn_C"
      },
      "execution_count": null,
      "outputs": []
    },
    {
      "cell_type": "code",
      "source": [
        "from psutil import virtual_memory\n",
        "ram_gb = virtual_memory().total / 1e9\n",
        "print('Your runtime has {:.1f} gigabytes of available RAM\\n'.format(ram_gb))\n",
        "\n",
        "if ram_gb < 20:\n",
        "  print('Not using a high-RAM runtime')\n",
        "else:\n",
        "  print('You are using a high-RAM runtime!')"
      ],
      "metadata": {
        "id": "lir_vxfGQvXQ"
      },
      "execution_count": null,
      "outputs": []
    },
    {
      "cell_type": "markdown",
      "source": [
        "Google Colab에서 할당된 GPU를 확인한다.\n",
        "<br/>고용량 메모리 VM에 액세스한다"
      ],
      "metadata": {
        "id": "SW4QvZkVQw6w"
      }
    },
    {
      "cell_type": "markdown",
      "source": [
        "#데이터 정보"
      ],
      "metadata": {
        "id": "uBlcS-nnQyVP"
      }
    },
    {
      "cell_type": "markdown",
      "source": [
        "[Korean Parallel Corpora](https://github.com/jungyeul/korean-parallel-corpora)"
      ],
      "metadata": {
        "id": "E24MBVh7TyYA"
      }
    },
    {
      "cell_type": "markdown",
      "source": [
        "한국어의 형태소 분석과 품사 태깅, 기계 번역 연구를 위해 공개된 데이터이다."
      ],
      "metadata": {
        "id": "Ygabx7htUSdR"
      }
    },
    {
      "cell_type": "markdown",
      "source": [
        "[Korean English News V1](https://github.com/jungyeul/korean-parallel-corpora/tree/master/korean-english-news-v1)"
      ],
      "metadata": {
        "id": "-ecEvnboAckQ"
      }
    },
    {
      "cell_type": "markdown",
      "source": [
        "한국어-영어 병렬 코퍼스 데이터이다."
      ],
      "metadata": {
        "id": "gAr8nVg0Acmy"
      }
    },
    {
      "cell_type": "code",
      "source": [
        "path_to_ko = '/content/drive/MyDrive/lms/seq2seq_translation/korean_parallel_corpora/korean-english-park.train.ko'\n",
        "\n",
        "with open(path_to_ko, \"r\") as f:\n",
        "    ko_raw = f.read().splitlines()\n",
        "\n",
        "print(\"Data Size :\", len(ko_raw))\n",
        "print()\n",
        "print(\"Example\")\n",
        "for ko_sen in ko_raw[600:700][::20]: print(\"\", ko_sen)"
      ],
      "metadata": {
        "colab": {
          "base_uri": "https://localhost:8080/"
        },
        "id": "mq-JgZyk7VZu",
        "outputId": "85e053cf-9fe5-40bb-a585-37026b9dab3b"
      },
      "execution_count": null,
      "outputs": [
        {
          "output_type": "stream",
          "name": "stdout",
          "text": [
            "Data Size : 94123\n",
            "\n",
            "Example\n",
            " 앞서가고 있는 은행 중의 하나가 오하이오 주 콜럼버스에 있는 헌팅턴 뱅크쉐어즈이다.\n",
            " 우리 내부의 신체 시계는 밤 에 자고, 낮 에 사냥하는 그러한 세계에 최적의 상태로 적응되어 있습니다.\"\n",
            " 하지만 얼마나 오래 그 효과가 지속될 것인가?\n",
            " 그 이름이 뜻하는 바와 같이 이 세균은 이미 밴코마이신과 모든 다른 항생물질에 대해 면역성을 갖게 되었다.\n",
            " 하나의 통신망은 모뎀이나 케이블에 의해 호스트 컴퓨터나 서버에 접속되어 있는 일단의 컴퓨터들을 말한다.\n"
          ]
        }
      ]
    },
    {
      "cell_type": "code",
      "source": [
        "path_to_en = '/content/drive/MyDrive/lms/seq2seq_translation/korean_parallel_corpora/korean-english-park.train.en'\n",
        "\n",
        "with open(path_to_en, \"r\") as f:\n",
        "    en_raw = f.read().splitlines()\n",
        "\n",
        "print(\"Data Size :\", len(en_raw))\n",
        "print()\n",
        "print(\"Example\")\n",
        "for en_sen in en_raw[600:700][::20]: print(\"\", en_sen)"
      ],
      "metadata": {
        "colab": {
          "base_uri": "https://localhost:8080/"
        },
        "id": "Mx2LkI_MMUvq",
        "outputId": "b41bf7ca-ac07-4331-bbb4-d0dff1f6509d"
      },
      "execution_count": null,
      "outputs": [
        {
          "output_type": "stream",
          "name": "stdout",
          "text": [
            "Data Size : 94123\n",
            "\n",
            "Example\n",
            " A leader is Huntington Bankshares in Columbus, Ohio.\n",
            " Our internal clocks adapted us perfectly to a world where we slept by night and hunted by day.\"\n",
            " But how long will it hold up?\n",
            " As the name implies, it's already become immune to Vancomycin and every other antibiotic.\n",
            " A network is a group of computers joined to a host computer or server by modems or by cables.\n"
          ]
        }
      ]
    },
    {
      "cell_type": "markdown",
      "source": [
        "#데이터 전처리"
      ],
      "metadata": {
        "id": "_Oac6W-NQyX5"
      }
    },
    {
      "cell_type": "markdown",
      "source": [
        "##중복 제거"
      ],
      "metadata": {
        "id": "_nw7jQPphGLd"
      }
    },
    {
      "cell_type": "code",
      "source": [
        "ko_raw_dict = {string : i for i,string in enumerate(ko_raw)}\n",
        "en_raw_dict = {string : i for i,string in enumerate(en_raw)}"
      ],
      "metadata": {
        "id": "GrUeWwiUl6AD"
      },
      "execution_count": null,
      "outputs": []
    },
    {
      "cell_type": "markdown",
      "source": [
        "딕셔너리를 생성하면서 중복되는 key 값을 제외한다.\n",
        "<br/>자료구조 딕셔너리는 중복되는 key 값을 허용하지 않는다."
      ],
      "metadata": {
        "id": "ahcE2xKlcVZC"
      }
    },
    {
      "cell_type": "code",
      "source": [
        "ko_raw_df = pd.DataFrame(list(ko_raw_dict.items()), columns=['key', 'value'])\n",
        "en_raw_df = pd.DataFrame(list(en_raw_dict.items()), columns=['key', 'value'])\n",
        "df_INNER_JOIN = pd.merge(ko_raw_df, en_raw_df, left_on='value', right_on='value', how='inner')"
      ],
      "metadata": {
        "id": "zHuw2Ubgkt8t"
      },
      "execution_count": null,
      "outputs": []
    },
    {
      "cell_type": "code",
      "source": [
        "df_INNER_JOIN"
      ],
      "metadata": {
        "colab": {
          "base_uri": "https://localhost:8080/",
          "height": 424
        },
        "id": "brf4jp9Ukz0s",
        "outputId": "45407f4c-cdf8-4397-c292-0dd6c9bec935"
      },
      "execution_count": null,
      "outputs": [
        {
          "output_type": "execute_result",
          "data": {
            "text/plain": [
              "                                                   key_x  value  \\\n",
              "0                   개인용 컴퓨터 사용의 상당 부분은 \"이것보다 뛰어날 수 있느냐?\"      0   \n",
              "1      모든 광마우스와 마찬가지 로 이 광마우스도 책상 위에 놓는 마우스 패드를 필요로 하...      1   \n",
              "2                             그러나 이것은 또한 책상도 필요로 하지 않는다.      2   \n",
              "3      79.95달러하는 이 최첨단 무선 광마우스는 허공에서 팔목, 팔, 그외에 어떤 부분...      3   \n",
              "4      정보 관리들은 동남 아시아에서의 선박들에 대한 많은 (테러) 계획들이 실패로 돌아갔...      4   \n",
              "...                                                  ...    ...   \n",
              "74449  “우리는 3월 8일 김승연 회장과 그의 아들이 보복폭행에 가담한 혐의를 찾기 위해 ...  94118   \n",
              "74450   월요일 술집 종업원 6명은 김회장과 아들에게 폭행을 당했음을 진술했다고 경찰은 말했다.  94119   \n",
              "74451                       그러나 불충분한 증거 확보로 수사에 어려움이 있다.  94120   \n",
              "74452                  김회장과 그의 아들은 보복폭행 혐의를 강력히 부인하고 있다.  94121   \n",
              "74453  경찰은 김회장의 집무실에서 추가 증거를 찾은 이후 가능한 한 오늘 김회장과 아들을 ...  94122   \n",
              "\n",
              "                                                   key_y  \n",
              "0      Much of personal computing is about \"can you t...  \n",
              "1      so a mention a few weeks ago about a rechargea...  \n",
              "2      Like all optical mice, But it also doesn't nee...  \n",
              "3      uses gyroscopic sensors to control the cursor ...  \n",
              "4      Intelligence officials have revealed a spate o...  \n",
              "...                                                  ...  \n",
              "74449  ””We are hoping to seize material evidence to ...  \n",
              "74450  ” On Monday, police secured statements from si...  \n",
              "74451  But the lack of material evidence is making it...  \n",
              "74452         Kim and his son both deny the allegations.  \n",
              "74453  Police are planning to seek arrest warrants fo...  \n",
              "\n",
              "[74454 rows x 3 columns]"
            ],
            "text/html": [
              "\n",
              "  <div id=\"df-9498b0ea-95fb-4d84-a735-1699496130fc\">\n",
              "    <div class=\"colab-df-container\">\n",
              "      <div>\n",
              "<style scoped>\n",
              "    .dataframe tbody tr th:only-of-type {\n",
              "        vertical-align: middle;\n",
              "    }\n",
              "\n",
              "    .dataframe tbody tr th {\n",
              "        vertical-align: top;\n",
              "    }\n",
              "\n",
              "    .dataframe thead th {\n",
              "        text-align: right;\n",
              "    }\n",
              "</style>\n",
              "<table border=\"1\" class=\"dataframe\">\n",
              "  <thead>\n",
              "    <tr style=\"text-align: right;\">\n",
              "      <th></th>\n",
              "      <th>key_x</th>\n",
              "      <th>value</th>\n",
              "      <th>key_y</th>\n",
              "    </tr>\n",
              "  </thead>\n",
              "  <tbody>\n",
              "    <tr>\n",
              "      <th>0</th>\n",
              "      <td>개인용 컴퓨터 사용의 상당 부분은 \"이것보다 뛰어날 수 있느냐?\"</td>\n",
              "      <td>0</td>\n",
              "      <td>Much of personal computing is about \"can you t...</td>\n",
              "    </tr>\n",
              "    <tr>\n",
              "      <th>1</th>\n",
              "      <td>모든 광마우스와 마찬가지 로 이 광마우스도 책상 위에 놓는 마우스 패드를 필요로 하...</td>\n",
              "      <td>1</td>\n",
              "      <td>so a mention a few weeks ago about a rechargea...</td>\n",
              "    </tr>\n",
              "    <tr>\n",
              "      <th>2</th>\n",
              "      <td>그러나 이것은 또한 책상도 필요로 하지 않는다.</td>\n",
              "      <td>2</td>\n",
              "      <td>Like all optical mice, But it also doesn't nee...</td>\n",
              "    </tr>\n",
              "    <tr>\n",
              "      <th>3</th>\n",
              "      <td>79.95달러하는 이 최첨단 무선 광마우스는 허공에서 팔목, 팔, 그외에 어떤 부분...</td>\n",
              "      <td>3</td>\n",
              "      <td>uses gyroscopic sensors to control the cursor ...</td>\n",
              "    </tr>\n",
              "    <tr>\n",
              "      <th>4</th>\n",
              "      <td>정보 관리들은 동남 아시아에서의 선박들에 대한 많은 (테러) 계획들이 실패로 돌아갔...</td>\n",
              "      <td>4</td>\n",
              "      <td>Intelligence officials have revealed a spate o...</td>\n",
              "    </tr>\n",
              "    <tr>\n",
              "      <th>...</th>\n",
              "      <td>...</td>\n",
              "      <td>...</td>\n",
              "      <td>...</td>\n",
              "    </tr>\n",
              "    <tr>\n",
              "      <th>74449</th>\n",
              "      <td>“우리는 3월 8일 김승연 회장과 그의 아들이 보복폭행에 가담한 혐의를 찾기 위해 ...</td>\n",
              "      <td>94118</td>\n",
              "      <td>””We are hoping to seize material evidence to ...</td>\n",
              "    </tr>\n",
              "    <tr>\n",
              "      <th>74450</th>\n",
              "      <td>월요일 술집 종업원 6명은 김회장과 아들에게 폭행을 당했음을 진술했다고 경찰은 말했다.</td>\n",
              "      <td>94119</td>\n",
              "      <td>” On Monday, police secured statements from si...</td>\n",
              "    </tr>\n",
              "    <tr>\n",
              "      <th>74451</th>\n",
              "      <td>그러나 불충분한 증거 확보로 수사에 어려움이 있다.</td>\n",
              "      <td>94120</td>\n",
              "      <td>But the lack of material evidence is making it...</td>\n",
              "    </tr>\n",
              "    <tr>\n",
              "      <th>74452</th>\n",
              "      <td>김회장과 그의 아들은 보복폭행 혐의를 강력히 부인하고 있다.</td>\n",
              "      <td>94121</td>\n",
              "      <td>Kim and his son both deny the allegations.</td>\n",
              "    </tr>\n",
              "    <tr>\n",
              "      <th>74453</th>\n",
              "      <td>경찰은 김회장의 집무실에서 추가 증거를 찾은 이후 가능한 한 오늘 김회장과 아들을 ...</td>\n",
              "      <td>94122</td>\n",
              "      <td>Police are planning to seek arrest warrants fo...</td>\n",
              "    </tr>\n",
              "  </tbody>\n",
              "</table>\n",
              "<p>74454 rows × 3 columns</p>\n",
              "</div>\n",
              "      <button class=\"colab-df-convert\" onclick=\"convertToInteractive('df-9498b0ea-95fb-4d84-a735-1699496130fc')\"\n",
              "              title=\"Convert this dataframe to an interactive table.\"\n",
              "              style=\"display:none;\">\n",
              "        \n",
              "  <svg xmlns=\"http://www.w3.org/2000/svg\" height=\"24px\"viewBox=\"0 0 24 24\"\n",
              "       width=\"24px\">\n",
              "    <path d=\"M0 0h24v24H0V0z\" fill=\"none\"/>\n",
              "    <path d=\"M18.56 5.44l.94 2.06.94-2.06 2.06-.94-2.06-.94-.94-2.06-.94 2.06-2.06.94zm-11 1L8.5 8.5l.94-2.06 2.06-.94-2.06-.94L8.5 2.5l-.94 2.06-2.06.94zm10 10l.94 2.06.94-2.06 2.06-.94-2.06-.94-.94-2.06-.94 2.06-2.06.94z\"/><path d=\"M17.41 7.96l-1.37-1.37c-.4-.4-.92-.59-1.43-.59-.52 0-1.04.2-1.43.59L10.3 9.45l-7.72 7.72c-.78.78-.78 2.05 0 2.83L4 21.41c.39.39.9.59 1.41.59.51 0 1.02-.2 1.41-.59l7.78-7.78 2.81-2.81c.8-.78.8-2.07 0-2.86zM5.41 20L4 18.59l7.72-7.72 1.47 1.35L5.41 20z\"/>\n",
              "  </svg>\n",
              "      </button>\n",
              "      \n",
              "  <style>\n",
              "    .colab-df-container {\n",
              "      display:flex;\n",
              "      flex-wrap:wrap;\n",
              "      gap: 12px;\n",
              "    }\n",
              "\n",
              "    .colab-df-convert {\n",
              "      background-color: #E8F0FE;\n",
              "      border: none;\n",
              "      border-radius: 50%;\n",
              "      cursor: pointer;\n",
              "      display: none;\n",
              "      fill: #1967D2;\n",
              "      height: 32px;\n",
              "      padding: 0 0 0 0;\n",
              "      width: 32px;\n",
              "    }\n",
              "\n",
              "    .colab-df-convert:hover {\n",
              "      background-color: #E2EBFA;\n",
              "      box-shadow: 0px 1px 2px rgba(60, 64, 67, 0.3), 0px 1px 3px 1px rgba(60, 64, 67, 0.15);\n",
              "      fill: #174EA6;\n",
              "    }\n",
              "\n",
              "    [theme=dark] .colab-df-convert {\n",
              "      background-color: #3B4455;\n",
              "      fill: #D2E3FC;\n",
              "    }\n",
              "\n",
              "    [theme=dark] .colab-df-convert:hover {\n",
              "      background-color: #434B5C;\n",
              "      box-shadow: 0px 1px 3px 1px rgba(0, 0, 0, 0.15);\n",
              "      filter: drop-shadow(0px 1px 2px rgba(0, 0, 0, 0.3));\n",
              "      fill: #FFFFFF;\n",
              "    }\n",
              "  </style>\n",
              "\n",
              "      <script>\n",
              "        const buttonEl =\n",
              "          document.querySelector('#df-9498b0ea-95fb-4d84-a735-1699496130fc button.colab-df-convert');\n",
              "        buttonEl.style.display =\n",
              "          google.colab.kernel.accessAllowed ? 'block' : 'none';\n",
              "\n",
              "        async function convertToInteractive(key) {\n",
              "          const element = document.querySelector('#df-9498b0ea-95fb-4d84-a735-1699496130fc');\n",
              "          const dataTable =\n",
              "            await google.colab.kernel.invokeFunction('convertToInteractive',\n",
              "                                                     [key], {});\n",
              "          if (!dataTable) return;\n",
              "\n",
              "          const docLinkHtml = 'Like what you see? Visit the ' +\n",
              "            '<a target=\"_blank\" href=https://colab.research.google.com/notebooks/data_table.ipynb>data table notebook</a>'\n",
              "            + ' to learn more about interactive tables.';\n",
              "          element.innerHTML = '';\n",
              "          dataTable['output_type'] = 'display_data';\n",
              "          await google.colab.output.renderOutput(dataTable, element);\n",
              "          const docLink = document.createElement('div');\n",
              "          docLink.innerHTML = docLinkHtml;\n",
              "          element.appendChild(docLink);\n",
              "        }\n",
              "      </script>\n",
              "    </div>\n",
              "  </div>\n",
              "  "
            ]
          },
          "metadata": {},
          "execution_count": 15
        }
      ]
    },
    {
      "cell_type": "markdown",
      "source": [
        "데이터의 병렬 쌍이 흐트러지지 않도록 데이터프레임의 INNER JOIN을 한다."
      ],
      "metadata": {
        "id": "69Fak6iFcn4M"
      }
    },
    {
      "cell_type": "code",
      "source": [
        "ko_unique = list(df_INNER_JOIN['key_x'])\n",
        "en_unique = list(df_INNER_JOIN['key_y'])"
      ],
      "metadata": {
        "id": "bozrN0-1mWf0"
      },
      "execution_count": null,
      "outputs": []
    },
    {
      "cell_type": "markdown",
      "source": [
        "데이터프레임의 key_x, key_y를 리스트로 저장한다.\n",
        "<br/>kor_unique는 중복 데이터를 제외한 한국어 문장의 리스트이다.\n",
        "<br/>eng_unique는 중복 데이터를 제외한 영어 문장의 리스트이다."
      ],
      "metadata": {
        "id": "roxTfr43c1QF"
      }
    },
    {
      "cell_type": "markdown",
      "source": [
        "##정제"
      ],
      "metadata": {
        "id": "haE3iHPenY2z"
      }
    },
    {
      "cell_type": "code",
      "source": [
        "def ko_preprocess_sentence(sentence):\n",
        "\n",
        "    sentence = sentence.lower().strip()\n",
        "    sentence = re.sub(r\"([?.!,])\", r\" \\1 \", sentence)\n",
        "    sentence = re.sub(r'[\" \"]+', \" \", sentence)\n",
        "    sentence = re.sub(r\"[^가-힣a-zA-Z?.!,]+\", \" \", sentence)\n",
        "    sentence = sentence.strip()\n",
        "    \n",
        "    mecab = Mecab()\n",
        "    sentence = mecab.morphs(sentence) \n",
        "\n",
        "    return sentence"
      ],
      "metadata": {
        "id": "oT1ymjGBSHbo"
      },
      "execution_count": null,
      "outputs": []
    },
    {
      "cell_type": "code",
      "source": [
        "def en_preprocess_sentence(sentence, s_token=False, e_token=False):\n",
        "\n",
        "    sentence = sentence.lower().strip()\n",
        "    sentence = re.sub(r\"([?.!,])\", r\" \\1 \", sentence)\n",
        "    sentence = re.sub(r'[\" \"]+', \" \", sentence)\n",
        "    sentence = re.sub(r\"[^가-힣a-zA-Z?.!,]+\", \" \", sentence)\n",
        "    sentence = sentence.strip()\n",
        "    \n",
        "    if s_token:\n",
        "        sentence = '<start> ' + sentence\n",
        "\n",
        "    if e_token:\n",
        "        sentence += ' <end>'\n",
        "\n",
        "    sentence = sentence.split()\n",
        "    \n",
        "    return sentence"
      ],
      "metadata": {
        "id": "jZq3sH0PI6em"
      },
      "execution_count": null,
      "outputs": []
    },
    {
      "cell_type": "markdown",
      "source": [
        "타겟 문장의 시작 문자 < start >, 종료 문자 < end > 를 붙여준다.\n",
        "<br/>이 작업은 Encoder에 들어갈 입력 문장의 전처리에는 굳이 필요하지 않지만\n",
        "<br/>Decoder의 입력 문장과 라벨로 사용할 출력 문장에는 꼭 필요하다.\n",
        "<br/>Decoder는 첫 입력으로 사용할 시작 토큰과 문장생성 종료를 알리는 끝 토큰이 반드시 필요하기 때문이다."
      ],
      "metadata": {
        "id": "yvUAfGm2KzeO"
      }
    },
    {
      "cell_type": "markdown",
      "source": [
        "<br/>"
      ],
      "metadata": {
        "id": "TMqOA5NFdTSN"
      }
    },
    {
      "cell_type": "markdown",
      "source": [
        "\n",
        "\n",
        "```\n",
        "sentence = re.sub(r'[^\\w]', ' ', sentence)\n",
        "```\n",
        "\n"
      ],
      "metadata": {
        "id": "KxLMkD57dQbM"
      }
    },
    {
      "cell_type": "markdown",
      "source": [
        ""
      ],
      "metadata": {
        "id": "GtkU4lOh2vSW"
      }
    },
    {
      "cell_type": "markdown",
      "source": [
        "문장에서 온점(.)과 반점(,)을 제외할 것인지 남길 것인지 선택한다.\n",
        "<br/>이번 데이터 전처리에서는 온점과 반점을 제외하지 않는다."
      ],
      "metadata": {
        "id": "Zr--wVXZdT6d"
      }
    },
    {
      "cell_type": "markdown",
      "source": [
        "<br/>"
      ],
      "metadata": {
        "id": "lgsMcfBzL-4W"
      }
    },
    {
      "cell_type": "markdown",
      "source": [
        "\n",
        "\n",
        "```\n",
        "kor_stopwords = ['의','가','이','은','들','는','좀','잘','걍','과','도','를','으로','자','에','와','한','하다']\n",
        "\n",
        "word_token = []\n",
        "for word in sentence: \n",
        "  if word not in kor_stopwords: \n",
        "    word_token.append(word) \n",
        "\n",
        "```\n",
        "\n"
      ],
      "metadata": {
        "id": "f1RoEysVMAwm"
      }
    },
    {
      "cell_type": "markdown",
      "source": [
        ""
      ],
      "metadata": {
        "id": "B6k5LZZw2wb2"
      }
    },
    {
      "cell_type": "markdown",
      "source": [
        "\n",
        "\n",
        "```\n",
        "eng_stopwords = set(stopwords.words('english')) \n",
        "\n",
        "word_token = []\n",
        "for word in sentence: \n",
        "  if word not in eng_stopwords: \n",
        "    word_token.append(word) \n",
        "```\n",
        "\n"
      ],
      "metadata": {
        "id": "dPPqVMZKL9Ce"
      }
    },
    {
      "cell_type": "markdown",
      "source": [
        ""
      ],
      "metadata": {
        "id": "4Dj5n52p2wDd"
      }
    },
    {
      "cell_type": "markdown",
      "source": [
        "불용어를 제외할 것인지 남길 것인지 선택한다.\n",
        "<br/>이번 데이터 전처리에서는 불용어를 제외하지 않는다."
      ],
      "metadata": {
        "id": "1vZsvYhIL2q3"
      }
    },
    {
      "cell_type": "markdown",
      "source": [
        "<br/>"
      ],
      "metadata": {
        "id": "S4Ix0HChd8cU"
      }
    },
    {
      "cell_type": "code",
      "source": [
        "enc_corpus = []\n",
        "dec_corpus = []\n",
        "num_examples = 30000\n",
        "\n",
        "for ko_sen in ko_unique[:num_examples]:\n",
        "  enc_corpus.append(ko_preprocess_sentence(ko_sen))\n",
        "\n",
        "for en_sen in en_unique[:num_examples]:\n",
        "  dec_corpus.append(en_preprocess_sentence(en_sen, s_token=True, e_token=True))"
      ],
      "metadata": {
        "id": "HzEUI3qlIOPm"
      },
      "execution_count": null,
      "outputs": []
    },
    {
      "cell_type": "markdown",
      "source": [
        "중복 데이터를 제외한 문장 리스트에서 소스 문장, 타겟 문장을 추출한다.\n",
        "<br/>소스 문장으로 한국어 문장, 타겟 문장으로 영어 문장을 사용한다. \n",
        "<br/>타겟 문장인 영어 문장의 시작 문자 < start >, 종료 문자 < end > 를 붙여준다."
      ],
      "metadata": {
        "id": "5ocgqnxPV-hN"
      }
    },
    {
      "cell_type": "code",
      "source": [
        "print(\"Korean \\n\", enc_corpus[90])  \n",
        "print()\n",
        "print(\"English \\n\", dec_corpus[90])  "
      ],
      "metadata": {
        "colab": {
          "base_uri": "https://localhost:8080/"
        },
        "id": "KQnJHeCbUCgU",
        "outputId": "de27f7d9-192b-4eb9-d055-5a11f7d172f0"
      },
      "execution_count": null,
      "outputs": [
        {
          "output_type": "stream",
          "name": "stdout",
          "text": [
            "Korean \n",
            " ['그', '는', '이', '연구', '결과', '가', '심장', '협회', '의', '지침', '과', '도', '부합', '된다고', '말', '했', '는데', ',', '심장', '협회', '의', '지침', '은', '일', '주일', '에', '적어도', '일', '은', '유산소', '운동', '을', '하', '고', ',', '매주', '번', '은', '근력', '운동', '을', '하', '라고', '권장', '하', '고', '있', '다', '.']\n",
            "\n",
            "English \n",
            " ['<start>', 'he', 'said', 'the', 'findings', 'correspond', 'with', 'aha', 'guidelines', ',', 'which', 'recommend', 'aerobic', 'exercise', 'at', 'least', 'six', 'days', 'a', 'week', 'and', 'weight', 'training', 'two', 'or', 'three', 'times', 'weekly', '.', '<end>']\n"
          ]
        }
      ]
    },
    {
      "cell_type": "markdown",
      "source": [
        "##토큰화"
      ],
      "metadata": {
        "id": "zDyPR62LUe9z"
      }
    },
    {
      "cell_type": "code",
      "source": [
        "def tokenize(corpus):\n",
        "\n",
        "    text_max_len = 40\n",
        "    tokenizer = tf.keras.preprocessing.text.Tokenizer(filters='')\n",
        "    tokenizer.fit_on_texts(corpus)\n",
        "    tensor = tokenizer.texts_to_sequences(corpus)\n",
        "    tensor = tf.keras.preprocessing.sequence.pad_sequences(tensor, padding='post', maxlen=text_max_len)\n",
        "\n",
        "    return tensor, tokenizer"
      ],
      "metadata": {
        "id": "698q9cMulPmt"
      },
      "execution_count": null,
      "outputs": []
    },
    {
      "cell_type": "code",
      "source": [
        "enc_tensor, enc_tokenizer = tokenize(enc_corpus)\n",
        "dec_tensor, dec_tokenizer = tokenize(dec_corpus)"
      ],
      "metadata": {
        "id": "ByBNiX4r_U7c"
      },
      "execution_count": null,
      "outputs": []
    },
    {
      "cell_type": "markdown",
      "source": [
        "토큰을 정수 인코딩하여 텐서로 변환한다.\n",
        "<br/>모든 데이터를 사용할 경우 학습에 굉장히 오랜 시간이 걸리기 때문에 토큰의 길이가 40 이하인 데이터를 선별한다."
      ],
      "metadata": {
        "id": "pCs-SCuR_ofc"
      }
    },
    {
      "cell_type": "code",
      "source": [
        "print(\"Korean Vocab Size :\", len(enc_tokenizer.index_word))\n",
        "print(\"English Vocab Size :\", len(dec_tokenizer.index_word))"
      ],
      "metadata": {
        "id": "l1MKIq-QSVtq",
        "colab": {
          "base_uri": "https://localhost:8080/"
        },
        "outputId": "bcc692d2-ad81-4202-f400-3e390b2b22d9"
      },
      "execution_count": null,
      "outputs": [
        {
          "output_type": "stream",
          "name": "stdout",
          "text": [
            "Korean Vocab Size : 31795\n",
            "English Vocab Size : 30386\n"
          ]
        }
      ]
    },
    {
      "cell_type": "markdown",
      "source": [
        "#모델 구성"
      ],
      "metadata": {
        "id": "XQYkUWNfQyaq"
      }
    },
    {
      "cell_type": "markdown",
      "source": [
        "##Seq2seq with Attention"
      ],
      "metadata": {
        "id": "1HV87zOW3MJd"
      }
    },
    {
      "cell_type": "markdown",
      "source": [
        "Attention 기반 Seq2seq 모델을 구성한다.\n",
        "<br/>각각 1개의 GRU을 갖는 Encoder-Decoder 구조를 갖는다."
      ],
      "metadata": {
        "id": "FHVN7OE8UtBY"
      }
    },
    {
      "cell_type": "code",
      "source": [
        "Image(filename='/content/drive/MyDrive/lms/seq2seq_translation/GRU_Structure.jpg') "
      ],
      "metadata": {
        "colab": {
          "base_uri": "https://localhost:8080/",
          "height": 593
        },
        "id": "ND-g8_7FWgGo",
        "outputId": "3cf1b60d-b0c6-44d7-84f9-c09ad996e838"
      },
      "execution_count": null,
      "outputs": [
        {
          "output_type": "execute_result",
          "data": {
            "text/plain": [
              "<IPython.core.display.Image object>"
            ],
            "image/jpeg": "[encoded data removed]"
          },
          "metadata": {},
          "execution_count": 28
        }
      ]
    },
    {
      "cell_type": "code",
      "source": [
        "class BahdanauAttention(tf.keras.layers.Layer):\n",
        "    def __init__(self, units):\n",
        "        super(BahdanauAttention, self).__init__()\n",
        "        self.w_dec = tf.keras.layers.Dense(units)\n",
        "        self.w_enc = tf.keras.layers.Dense(units)\n",
        "        self.w_com = tf.keras.layers.Dense(1)\n",
        "    \n",
        "    def call(self, h_enc, h_dec):\n",
        "        # h_enc shape: [batch x length x units]\n",
        "        # h_dec shape: [batch x units]\n",
        "\n",
        "        h_enc = self.w_enc(h_enc)\n",
        "        h_dec = tf.expand_dims(h_dec, 1)\n",
        "        h_dec = self.w_dec(h_dec)\n",
        "\n",
        "        score = self.w_com(tf.nn.tanh(h_dec + h_enc))\n",
        "        \n",
        "        attn = tf.nn.softmax(score, axis=1)\n",
        "\n",
        "        context_vec = attn * h_enc\n",
        "        context_vec = tf.reduce_sum(context_vec, axis=1)\n",
        "\n",
        "        return context_vec, attn"
      ],
      "metadata": {
        "id": "KopZUzDGSehB"
      },
      "execution_count": null,
      "outputs": []
    },
    {
      "cell_type": "code",
      "source": [
        "class Encoder(tf.keras.Model):\n",
        "    def __init__(self, vocab_size, embedding_dim, enc_units, dropout):\n",
        "        super(Encoder, self).__init__()\n",
        "        \n",
        "        self.enc_units = enc_units\n",
        "        self.embedding = tf.keras.layers.Embedding(vocab_size, embedding_dim)\n",
        "        self.gru = tf.keras.layers.GRU(enc_units, return_sequences=True, dropout=dropout)\n",
        "        self.dropout = tf.keras.layers.Dropout(dropout)\n",
        "        \n",
        "    def call(self, x):\n",
        "        out = self.embedding(x)\n",
        "        out = self.gru(out)\n",
        "        \n",
        "        return out"
      ],
      "metadata": {
        "id": "H_lE8uqLSp3p"
      },
      "execution_count": null,
      "outputs": []
    },
    {
      "cell_type": "markdown",
      "source": [
        "Encoder는 모든 Time-Step의 Hidden State를 출력으로 갖는다.\n",
        "<br/>일반적으로 Encoder의 Final State를 Hidden State로 사용한다."
      ],
      "metadata": {
        "id": "qiu-if_gQyiF"
      }
    },
    {
      "cell_type": "code",
      "source": [
        "class Decoder(tf.keras.Model):\n",
        "    def __init__(self, vocab_size, embedding_dim, dec_units, dropout):\n",
        "        super(Decoder, self).__init__()\n",
        "        self.dec_units = dec_units\n",
        "        self.embedding = tf.keras.layers.Embedding(vocab_size, embedding_dim)\n",
        "        self.gru = tf.keras.layers.GRU(dec_units, return_sequences=True,\n",
        "                                       return_state=True, dropout=dropout)\n",
        "        self.fc = tf.keras.layers.Dense(vocab_size)\n",
        "        self.dropout = tf.keras.layers.Dropout(dropout)\n",
        "        self.attention = BahdanauAttention(self.dec_units)\n",
        "\n",
        "    def call(self, x, h_dec, enc_out):\n",
        "        context_vec, attn = self.attention(enc_out, h_dec)\n",
        "\n",
        "        out = self.embedding(x)\n",
        "        out = tf.concat([tf.expand_dims(context_vec, 1), out], axis=-1)\n",
        "        \n",
        "        out, h_dec = self.gru(out)\n",
        "        out = tf.reshape(out, (-1, out.shape[2]))\n",
        "        out = self.fc(out)\n",
        "\n",
        "        return out, h_dec, attn"
      ],
      "metadata": {
        "id": "XjSl8zodShjh"
      },
      "execution_count": null,
      "outputs": []
    },
    {
      "cell_type": "markdown",
      "source": [
        "Decoder는 Encoder의 출력과 Decoder의 t-1 Step의 Hidden State로 Attention을 취하여 t Step의 Hidden State를 만든다.\n",
        "<br/>Decoder에서 t Step의 단어로 예측된 것을 실제 정답과 대조해 Loss를 계산한다.\n",
        "<br/>생성된 t Step의 Hidden State는 t+1 Step의 Hidden State를 만들기 위해 다시 Decoder에 전달된다."
      ],
      "metadata": {
        "id": "m9CwHZQ0Q-vf"
      }
    },
    {
      "cell_type": "code",
      "source": [
        "batch_size     = 64\n",
        "src_vocab_size = len(enc_tokenizer.index_word) + 1\n",
        "tgt_vocab_size = len(dec_tokenizer.index_word) + 1\n",
        "\n",
        "units         = 1024\n",
        "embedding_dim = 512\n",
        "dropout = 0.2\n",
        "\n",
        "encoder = Encoder(src_vocab_size, embedding_dim, units, dropout)\n",
        "decoder = Decoder(tgt_vocab_size, embedding_dim, units, dropout)\n",
        "\n",
        "# sample input\n",
        "sequence_len = 30\n",
        "\n",
        "sample_enc = tf.random.uniform((batch_size, sequence_len))\n",
        "sample_output = encoder(sample_enc)\n",
        "\n",
        "print ('Encoder Output :', sample_output.shape)\n",
        "\n",
        "sample_state = tf.random.uniform((batch_size, units))\n",
        "\n",
        "sample_logits, h_dec, attn = decoder(tf.random.uniform((batch_size, 1)),\n",
        "                                     sample_state, sample_output)\n",
        "\n",
        "print ('Decoder Output:', sample_logits.shape)\n",
        "print ('Decoder Hidden State :', h_dec.shape)\n",
        "print ('Attention :', attn.shape)"
      ],
      "metadata": {
        "id": "jBmfxtHVSmw5",
        "colab": {
          "base_uri": "https://localhost:8080/"
        },
        "outputId": "603d0555-5b21-4a0a-bb2f-12c583a92713"
      },
      "execution_count": null,
      "outputs": [
        {
          "output_type": "stream",
          "name": "stdout",
          "text": [
            "Encoder Output : (64, 30, 1024)\n",
            "Decoder Output: (64, 30387)\n",
            "Decoder Hidden State : (64, 1024)\n",
            "Attention : (64, 30, 1)\n"
          ]
        }
      ]
    },
    {
      "cell_type": "markdown",
      "source": [
        "Embedding Size와 Hidden Size는 실험을 통해 적당한 값을 맞춰 주도록 한다."
      ],
      "metadata": {
        "id": "rp3JGHfDD6z1"
      }
    },
    {
      "cell_type": "markdown",
      "source": [
        "##Optimizer & Loss"
      ],
      "metadata": {
        "id": "r_V0UPJGQydo"
      }
    },
    {
      "cell_type": "markdown",
      "source": [
        "Seq2seq with Attention에서 model.fit()은 따로 존재하지 않는다.\n",
        "<br/>Encoder-Decoder 구조의 경우 입출력이 단순하지 않아 학습 과정을 직접 정의한다."
      ],
      "metadata": {
        "id": "bEQbsvfiYSLW"
      }
    },
    {
      "cell_type": "code",
      "source": [
        "optimizer = tf.keras.optimizers.Adam()\n",
        "loss_object = tf.keras.losses.SparseCategoricalCrossentropy(\n",
        "    from_logits=True, reduction='none')\n",
        "\n",
        "def loss_function(real, pred):\n",
        "    mask = tf.math.logical_not(tf.math.equal(real, 0))\n",
        "    loss = loss_object(real, pred)\n",
        "    \n",
        "    mask = tf.cast(mask, dtype=loss.dtype)\n",
        "    loss *= mask\n",
        "    \n",
        "    return tf.reduce_mean(loss)"
      ],
      "metadata": {
        "id": "qli0TP1hTIuy"
      },
      "execution_count": null,
      "outputs": []
    },
    {
      "cell_type": "markdown",
      "source": [
        " Encoder-Decoder 구조는 학습 과정이 일반적이지 않으므로 직접 Loss를 커스텀해서 사용한다.\n",
        " <br/>SparseCategoricalCrossentropy()는 모델이 출력한 확률 분포와 (One-hot이 아닌) 정수 인덱스 답안을 비교해 Cross Entropy값을 구한다.\n",
        "<br/>from_logits는 확률 분포가 Softmax를 거쳐서 들어오는지 모델의 출력값 그대로 들어오는지를 결정 (True/False) 한다.\n",
        "<br/>패딩에 대한 처리를 해주지 않으면 < PAD > 토큰만을 생성할 확률이 높아지기 때문에 이 문제를 방지하기 위해 mask 가 사용된다.\n",
        "<br/>mask는 정답지에서 < PAD > 토큰을 찾아내어 그 부분에 대한 Loss는 구하지 않도록 하는 역할을 한다.\n",
        "<br/>equal()는 정확히는 0 이 아닌 < PAD > 토큰의 인덱스를 전달하는 것이 맞지만 대부분의 경우는 0으로 패딩되기 때문에 편의상 0을 전달하여 처리한다."
      ],
      "metadata": {
        "id": "Aou1f48TYed-"
      }
    },
    {
      "cell_type": "markdown",
      "source": [
        "##Train Step"
      ],
      "metadata": {
        "id": "mByEUb4lU5TR"
      }
    },
    {
      "cell_type": "code",
      "source": [
        "@tf.function\n",
        "def train_step(src, tgt, encoder, decoder, optimizer, dec_tok):\n",
        "    bsz = src.shape[0]\n",
        "    loss = 0\n",
        "\n",
        "    with tf.GradientTape() as tape:\n",
        "        enc_out = encoder(src)\n",
        "        h_dec = enc_out[:, -1]\n",
        "        \n",
        "        dec_src = tf.expand_dims([dec_tok.word_index['<start>']] * bsz, 1)\n",
        "\n",
        "        for t in range(1, tgt.shape[1]):\n",
        "            pred, h_dec, _ = decoder(dec_src, h_dec, enc_out)\n",
        "\n",
        "            loss += loss_function(tgt[:, t], pred)\n",
        "            dec_src = tf.expand_dims(tgt[:, t], 1)\n",
        "        \n",
        "    batch_loss = (loss / int(tgt.shape[1]))\n",
        "\n",
        "    variables = encoder.trainable_variables + decoder.trainable_variables\n",
        "    gradients = tape.gradient(loss, variables)\n",
        "    optimizer.apply_gradients(zip(gradients, variables))\n",
        "    \n",
        "    return batch_loss"
      ],
      "metadata": {
        "id": "5UIeWgvf3Sxm"
      },
      "execution_count": null,
      "outputs": []
    },
    {
      "cell_type": "markdown",
      "source": [
        "@tf.function 데코레이터는 훈련 외적인 텐서플로우 연산을 GPU에서 동작하게 해 훈련을 가속한다.\n",
        "<br/>tf.GradientTape()는 학습하며 발생한 모든 연산을 기록하는 테이프이다. 모델이 각 스텝의 최종 단계에서 미분값을 구하는 데에 사용된다."
      ],
      "metadata": {
        "id": "L-FDx7Qhdvf1"
      }
    },
    {
      "cell_type": "markdown",
      "source": [
        "train_step()의 학습 과정\n",
        "<br/>1) Encoder에 소스 문장을 전달해 컨텍스트 벡터인 enc_out 을 생성\n",
        "<br/>2) t=0일 때, Decoder의 Hidden State는 Encoder의 Final State로 정의&emsp;|&emsp;h_dec = enc_out[:, -1]\n",
        "<br/>3) Decoder에 입력으로 전달할 < start > 토큰 문장 생성\n",
        "<br/>4) < start > 문장과 enc_out, Hidden State를 기반으로 다음 단어(t=1)를 예측&emsp;|&emsp; pred\n",
        "<br/>5) 예측된 단어와 정답 간의 Loss를 구한 후, t=1의 정답 단어를 다음 입력으로 사용 (예측 단어 X)"
      ],
      "metadata": {
        "id": "oT3nKuq30c2P"
      }
    },
    {
      "cell_type": "markdown",
      "source": [
        "##Evaluation"
      ],
      "metadata": {
        "id": "rFZngHwfJ8iW"
      }
    },
    {
      "cell_type": "code",
      "source": [
        "def preprocess_sentence(sentence):\n",
        "\n",
        "    sentence = sentence.lower().strip()\n",
        "    sentence = re.sub(r\"([?.!,])\", r\" \\1 \", sentence)\n",
        "    sentence = re.sub(r'[\" \"]+', \" \", sentence)\n",
        "    sentence = re.sub(r\"[^가-힣a-zA-Z?.!,]+\", \" \", sentence)\n",
        "    sentence = sentence.strip()\n",
        "\n",
        "    return sentence"
      ],
      "metadata": {
        "id": "a6857HzfZrBT"
      },
      "execution_count": null,
      "outputs": []
    },
    {
      "cell_type": "code",
      "source": [
        "def evaluate(sentence, encoder, decoder):\n",
        "\n",
        "    attention = np.zeros((dec_train.shape[-1], enc_train.shape[-1]))\n",
        "    sentence = preprocess_sentence(sentence)\n",
        "\n",
        "    mecab = Mecab()\n",
        "    inputs = enc_tokenizer.texts_to_sequences([mecab.morphs(sentence)])\n",
        "    inputs = tf.keras.preprocessing.sequence.pad_sequences(inputs,\n",
        "                                                           maxlen=enc_train.shape[-1],\n",
        "                                                           padding='post')\n",
        "\n",
        "    result = ''\n",
        "\n",
        "    enc_out = encoder(inputs)\n",
        "\n",
        "    dec_hidden = enc_out[:, -1]\n",
        "    dec_input = tf.expand_dims([dec_tokenizer.word_index['<start>']], 0)\n",
        "\n",
        "    for t in range(dec_train.shape[-1]):\n",
        "        predictions, dec_hidden, attention_weights = decoder(dec_input,\n",
        "                                                             dec_hidden,\n",
        "                                                             enc_out)\n",
        "\n",
        "        attention_weights = tf.reshape(attention_weights, (-1, ))\n",
        "        attention[t] = attention_weights.numpy()\n",
        "\n",
        "        predicted_id = \\\n",
        "        tf.argmax(tf.math.softmax(predictions, axis=-1)[0]).numpy()\n",
        "\n",
        "        result += dec_tokenizer.index_word[predicted_id] + ' '\n",
        "\n",
        "        if dec_tokenizer.index_word[predicted_id] == '<end>':\n",
        "            return result, sentence, attention\n",
        "\n",
        "        dec_input = tf.expand_dims([predicted_id], 0)\n",
        "\n",
        "    return result, sentence, attention"
      ],
      "metadata": {
        "id": "cD2iro8gKA42"
      },
      "execution_count": null,
      "outputs": []
    },
    {
      "cell_type": "code",
      "source": [
        "def plot_attention(attention, sentence, predicted_sentence):\n",
        "    fig = plt.figure(figsize=(10,10))\n",
        "    ax = fig.add_subplot(1, 1, 1)\n",
        "    ax.matshow(attention, cmap='viridis')\n",
        "\n",
        "    fontdict = {'fontsize': 14}\n",
        "\n",
        "    ax.set_xticklabels([''] + sentence, fontdict=fontdict, rotation=90)\n",
        "    ax.set_yticklabels([''] + predicted_sentence, fontdict=fontdict)\n",
        "\n",
        "    ax.xaxis.set_major_locator(ticker.MultipleLocator(1))\n",
        "    ax.yaxis.set_major_locator(ticker.MultipleLocator(1))\n",
        "\n",
        "    plt.show()"
      ],
      "metadata": {
        "id": "CMErtIPMKA7n"
      },
      "execution_count": null,
      "outputs": []
    },
    {
      "cell_type": "code",
      "source": [
        "def translate(sentence, encoder, decoder):\n",
        "    result, sentence, attention = evaluate(sentence, encoder, decoder)\n",
        "\n",
        "    print('Input : %s' % (sentence))\n",
        "    print('Predicted translation : {}'.format(result))\n",
        "    print()\n",
        "\n",
        "    mecab = Mecab()\n",
        "    attention = attention[:len(result.split()), :len(mecab.morphs(sentence))]\n",
        "    plot_attention(attention, mecab.morphs(sentence), result.split(' '))"
      ],
      "metadata": {
        "id": "drggxXa8KGIn"
      },
      "execution_count": null,
      "outputs": []
    },
    {
      "cell_type": "code",
      "source": [
        "def sentence_translator(sentence, encoder, decoder):\n",
        "    result, sentence, attention = evaluate(sentence, encoder, decoder)\n",
        "\n",
        "    print('Input : %s' % (sentence))\n",
        "    print('Predicted translation : {}'.format(result))"
      ],
      "metadata": {
        "id": "Q0qWCoV-KGK0"
      },
      "execution_count": null,
      "outputs": []
    },
    {
      "cell_type": "markdown",
      "source": [
        "#모델 학습"
      ],
      "metadata": {
        "id": "nSalN8tZiTiu"
      }
    },
    {
      "cell_type": "markdown",
      "source": [
        "##Hyperparameter"
      ],
      "metadata": {
        "id": "wLEqhhenjD0g"
      }
    },
    {
      "cell_type": "code",
      "source": [
        "CSS = \"\"\".output {flex-direction: row;}\"\"\"\n",
        "HTML('<style>{}</style>'.format(CSS))\n",
        "\n",
        "hyperparameter_tuning = pd.DataFrame({'Batch Size':[64, 32, 128, 64], 'Units':[1024, 256, 128, 128], \n",
        "                             'Embedding Dimension':[512, 64, 128, 64], 'Dropout Rate':[0.2, 0.2, 0.2, 0.2],\n",
        "                             'Sequence Length':[30, 30, 30, 30]}, index=['Model 1', 'Model 2', 'Model 3', 'Model 4'])\n",
        "\n",
        "embedding_hidden_size = pd.DataFrame({'Encoder Output':['(64, 30, 1024)', '(32, 30, 256)', '(128, 30, 128)', '(64, 30, 128)'],\n",
        "                   'Decoder Output':['(64, 30387)', '(32, 30387)', '(128, 30387)', '(64, 30387)'],\n",
        "                   'Decoder Hidden State':['(64, 1024)', '(32, 256)', '(128, 128)', '(64, 128)'],\n",
        "                   'Attention':['(64, 30, 1)', '(32, 30, 1)', '(128, 30, 1)', '(64, 30, 1)']},\n",
        "                    index=['Model 1', 'Model 2', 'Model 3', 'Model 4'])\n",
        "\n",
        "reorderlist = ['Activation Function', 'Optimizer', 'Loss Function']\n",
        "training_way = pd.DataFrame({'Final Model':{'Activation Function':'Softmax', 'Optimizer':'Adam',\n",
        "                                            'Loss Function': 'Sparse Categorical Crossentropy'}})\n",
        "training_way = training_way.iloc[pd.Categorical(training_way.index,reorderlist).argsort()]\n",
        "\n",
        "display(hyperparameter_tuning)\n",
        "print(\"\\n\")\n",
        "display(embedding_hidden_size)\n",
        "print(\"\\n\")\n",
        "display(training_way)"
      ],
      "metadata": {
        "id": "K7bQYzEUiULk",
        "colab": {
          "base_uri": "https://localhost:8080/",
          "height": 532
        },
        "outputId": "f1b8739f-6e17-4198-bfa2-679c12e7b5f4"
      },
      "execution_count": 5,
      "outputs": [
        {
          "output_type": "display_data",
          "data": {
            "text/plain": [
              "         Batch Size  Units  Embedding Dimension  Dropout Rate  Sequence Length\n",
              "Model 1          64   1024                  512           0.2               30\n",
              "Model 2          32    256                   64           0.2               30\n",
              "Model 3         128    128                  128           0.2               30\n",
              "Model 4          64    128                   64           0.2               30"
            ],
            "text/html": [
              "\n",
              "  <div id=\"df-9b429a41-4724-4f97-94d0-656fafae706d\">\n",
              "    <div class=\"colab-df-container\">\n",
              "      <div>\n",
              "<style scoped>\n",
              "    .dataframe tbody tr th:only-of-type {\n",
              "        vertical-align: middle;\n",
              "    }\n",
              "\n",
              "    .dataframe tbody tr th {\n",
              "        vertical-align: top;\n",
              "    }\n",
              "\n",
              "    .dataframe thead th {\n",
              "        text-align: right;\n",
              "    }\n",
              "</style>\n",
              "<table border=\"1\" class=\"dataframe\">\n",
              "  <thead>\n",
              "    <tr style=\"text-align: right;\">\n",
              "      <th></th>\n",
              "      <th>Batch Size</th>\n",
              "      <th>Units</th>\n",
              "      <th>Embedding Dimension</th>\n",
              "      <th>Dropout Rate</th>\n",
              "      <th>Sequence Length</th>\n",
              "    </tr>\n",
              "  </thead>\n",
              "  <tbody>\n",
              "    <tr>\n",
              "      <th>Model 1</th>\n",
              "      <td>64</td>\n",
              "      <td>1024</td>\n",
              "      <td>512</td>\n",
              "      <td>0.2</td>\n",
              "      <td>30</td>\n",
              "    </tr>\n",
              "    <tr>\n",
              "      <th>Model 2</th>\n",
              "      <td>32</td>\n",
              "      <td>256</td>\n",
              "      <td>64</td>\n",
              "      <td>0.2</td>\n",
              "      <td>30</td>\n",
              "    </tr>\n",
              "    <tr>\n",
              "      <th>Model 3</th>\n",
              "      <td>128</td>\n",
              "      <td>128</td>\n",
              "      <td>128</td>\n",
              "      <td>0.2</td>\n",
              "      <td>30</td>\n",
              "    </tr>\n",
              "    <tr>\n",
              "      <th>Model 4</th>\n",
              "      <td>64</td>\n",
              "      <td>128</td>\n",
              "      <td>64</td>\n",
              "      <td>0.2</td>\n",
              "      <td>30</td>\n",
              "    </tr>\n",
              "  </tbody>\n",
              "</table>\n",
              "</div>\n",
              "      <button class=\"colab-df-convert\" onclick=\"convertToInteractive('df-9b429a41-4724-4f97-94d0-656fafae706d')\"\n",
              "              title=\"Convert this dataframe to an interactive table.\"\n",
              "              style=\"display:none;\">\n",
              "        \n",
              "  <svg xmlns=\"http://www.w3.org/2000/svg\" height=\"24px\"viewBox=\"0 0 24 24\"\n",
              "       width=\"24px\">\n",
              "    <path d=\"M0 0h24v24H0V0z\" fill=\"none\"/>\n",
              "    <path d=\"M18.56 5.44l.94 2.06.94-2.06 2.06-.94-2.06-.94-.94-2.06-.94 2.06-2.06.94zm-11 1L8.5 8.5l.94-2.06 2.06-.94-2.06-.94L8.5 2.5l-.94 2.06-2.06.94zm10 10l.94 2.06.94-2.06 2.06-.94-2.06-.94-.94-2.06-.94 2.06-2.06.94z\"/><path d=\"M17.41 7.96l-1.37-1.37c-.4-.4-.92-.59-1.43-.59-.52 0-1.04.2-1.43.59L10.3 9.45l-7.72 7.72c-.78.78-.78 2.05 0 2.83L4 21.41c.39.39.9.59 1.41.59.51 0 1.02-.2 1.41-.59l7.78-7.78 2.81-2.81c.8-.78.8-2.07 0-2.86zM5.41 20L4 18.59l7.72-7.72 1.47 1.35L5.41 20z\"/>\n",
              "  </svg>\n",
              "      </button>\n",
              "      \n",
              "  <style>\n",
              "    .colab-df-container {\n",
              "      display:flex;\n",
              "      flex-wrap:wrap;\n",
              "      gap: 12px;\n",
              "    }\n",
              "\n",
              "    .colab-df-convert {\n",
              "      background-color: #E8F0FE;\n",
              "      border: none;\n",
              "      border-radius: 50%;\n",
              "      cursor: pointer;\n",
              "      display: none;\n",
              "      fill: #1967D2;\n",
              "      height: 32px;\n",
              "      padding: 0 0 0 0;\n",
              "      width: 32px;\n",
              "    }\n",
              "\n",
              "    .colab-df-convert:hover {\n",
              "      background-color: #E2EBFA;\n",
              "      box-shadow: 0px 1px 2px rgba(60, 64, 67, 0.3), 0px 1px 3px 1px rgba(60, 64, 67, 0.15);\n",
              "      fill: #174EA6;\n",
              "    }\n",
              "\n",
              "    [theme=dark] .colab-df-convert {\n",
              "      background-color: #3B4455;\n",
              "      fill: #D2E3FC;\n",
              "    }\n",
              "\n",
              "    [theme=dark] .colab-df-convert:hover {\n",
              "      background-color: #434B5C;\n",
              "      box-shadow: 0px 1px 3px 1px rgba(0, 0, 0, 0.15);\n",
              "      filter: drop-shadow(0px 1px 2px rgba(0, 0, 0, 0.3));\n",
              "      fill: #FFFFFF;\n",
              "    }\n",
              "  </style>\n",
              "\n",
              "      <script>\n",
              "        const buttonEl =\n",
              "          document.querySelector('#df-9b429a41-4724-4f97-94d0-656fafae706d button.colab-df-convert');\n",
              "        buttonEl.style.display =\n",
              "          google.colab.kernel.accessAllowed ? 'block' : 'none';\n",
              "\n",
              "        async function convertToInteractive(key) {\n",
              "          const element = document.querySelector('#df-9b429a41-4724-4f97-94d0-656fafae706d');\n",
              "          const dataTable =\n",
              "            await google.colab.kernel.invokeFunction('convertToInteractive',\n",
              "                                                     [key], {});\n",
              "          if (!dataTable) return;\n",
              "\n",
              "          const docLinkHtml = 'Like what you see? Visit the ' +\n",
              "            '<a target=\"_blank\" href=https://colab.research.google.com/notebooks/data_table.ipynb>data table notebook</a>'\n",
              "            + ' to learn more about interactive tables.';\n",
              "          element.innerHTML = '';\n",
              "          dataTable['output_type'] = 'display_data';\n",
              "          await google.colab.output.renderOutput(dataTable, element);\n",
              "          const docLink = document.createElement('div');\n",
              "          docLink.innerHTML = docLinkHtml;\n",
              "          element.appendChild(docLink);\n",
              "        }\n",
              "      </script>\n",
              "    </div>\n",
              "  </div>\n",
              "  "
            ]
          },
          "metadata": {}
        },
        {
          "output_type": "stream",
          "name": "stdout",
          "text": [
            "\n",
            "\n"
          ]
        },
        {
          "output_type": "display_data",
          "data": {
            "text/plain": [
              "         Encoder Output Decoder Output Decoder Hidden State     Attention\n",
              "Model 1  (64, 30, 1024)    (64, 30387)           (64, 1024)   (64, 30, 1)\n",
              "Model 2   (32, 30, 256)    (32, 30387)            (32, 256)   (32, 30, 1)\n",
              "Model 3  (128, 30, 128)   (128, 30387)           (128, 128)  (128, 30, 1)\n",
              "Model 4   (64, 30, 128)    (64, 30387)            (64, 128)   (64, 30, 1)"
            ],
            "text/html": [
              "\n",
              "  <div id=\"df-64dd562b-59c2-4842-a3dc-c035c76e1991\">\n",
              "    <div class=\"colab-df-container\">\n",
              "      <div>\n",
              "<style scoped>\n",
              "    .dataframe tbody tr th:only-of-type {\n",
              "        vertical-align: middle;\n",
              "    }\n",
              "\n",
              "    .dataframe tbody tr th {\n",
              "        vertical-align: top;\n",
              "    }\n",
              "\n",
              "    .dataframe thead th {\n",
              "        text-align: right;\n",
              "    }\n",
              "</style>\n",
              "<table border=\"1\" class=\"dataframe\">\n",
              "  <thead>\n",
              "    <tr style=\"text-align: right;\">\n",
              "      <th></th>\n",
              "      <th>Encoder Output</th>\n",
              "      <th>Decoder Output</th>\n",
              "      <th>Decoder Hidden State</th>\n",
              "      <th>Attention</th>\n",
              "    </tr>\n",
              "  </thead>\n",
              "  <tbody>\n",
              "    <tr>\n",
              "      <th>Model 1</th>\n",
              "      <td>(64, 30, 1024)</td>\n",
              "      <td>(64, 30387)</td>\n",
              "      <td>(64, 1024)</td>\n",
              "      <td>(64, 30, 1)</td>\n",
              "    </tr>\n",
              "    <tr>\n",
              "      <th>Model 2</th>\n",
              "      <td>(32, 30, 256)</td>\n",
              "      <td>(32, 30387)</td>\n",
              "      <td>(32, 256)</td>\n",
              "      <td>(32, 30, 1)</td>\n",
              "    </tr>\n",
              "    <tr>\n",
              "      <th>Model 3</th>\n",
              "      <td>(128, 30, 128)</td>\n",
              "      <td>(128, 30387)</td>\n",
              "      <td>(128, 128)</td>\n",
              "      <td>(128, 30, 1)</td>\n",
              "    </tr>\n",
              "    <tr>\n",
              "      <th>Model 4</th>\n",
              "      <td>(64, 30, 128)</td>\n",
              "      <td>(64, 30387)</td>\n",
              "      <td>(64, 128)</td>\n",
              "      <td>(64, 30, 1)</td>\n",
              "    </tr>\n",
              "  </tbody>\n",
              "</table>\n",
              "</div>\n",
              "      <button class=\"colab-df-convert\" onclick=\"convertToInteractive('df-64dd562b-59c2-4842-a3dc-c035c76e1991')\"\n",
              "              title=\"Convert this dataframe to an interactive table.\"\n",
              "              style=\"display:none;\">\n",
              "        \n",
              "  <svg xmlns=\"http://www.w3.org/2000/svg\" height=\"24px\"viewBox=\"0 0 24 24\"\n",
              "       width=\"24px\">\n",
              "    <path d=\"M0 0h24v24H0V0z\" fill=\"none\"/>\n",
              "    <path d=\"M18.56 5.44l.94 2.06.94-2.06 2.06-.94-2.06-.94-.94-2.06-.94 2.06-2.06.94zm-11 1L8.5 8.5l.94-2.06 2.06-.94-2.06-.94L8.5 2.5l-.94 2.06-2.06.94zm10 10l.94 2.06.94-2.06 2.06-.94-2.06-.94-.94-2.06-.94 2.06-2.06.94z\"/><path d=\"M17.41 7.96l-1.37-1.37c-.4-.4-.92-.59-1.43-.59-.52 0-1.04.2-1.43.59L10.3 9.45l-7.72 7.72c-.78.78-.78 2.05 0 2.83L4 21.41c.39.39.9.59 1.41.59.51 0 1.02-.2 1.41-.59l7.78-7.78 2.81-2.81c.8-.78.8-2.07 0-2.86zM5.41 20L4 18.59l7.72-7.72 1.47 1.35L5.41 20z\"/>\n",
              "  </svg>\n",
              "      </button>\n",
              "      \n",
              "  <style>\n",
              "    .colab-df-container {\n",
              "      display:flex;\n",
              "      flex-wrap:wrap;\n",
              "      gap: 12px;\n",
              "    }\n",
              "\n",
              "    .colab-df-convert {\n",
              "      background-color: #E8F0FE;\n",
              "      border: none;\n",
              "      border-radius: 50%;\n",
              "      cursor: pointer;\n",
              "      display: none;\n",
              "      fill: #1967D2;\n",
              "      height: 32px;\n",
              "      padding: 0 0 0 0;\n",
              "      width: 32px;\n",
              "    }\n",
              "\n",
              "    .colab-df-convert:hover {\n",
              "      background-color: #E2EBFA;\n",
              "      box-shadow: 0px 1px 2px rgba(60, 64, 67, 0.3), 0px 1px 3px 1px rgba(60, 64, 67, 0.15);\n",
              "      fill: #174EA6;\n",
              "    }\n",
              "\n",
              "    [theme=dark] .colab-df-convert {\n",
              "      background-color: #3B4455;\n",
              "      fill: #D2E3FC;\n",
              "    }\n",
              "\n",
              "    [theme=dark] .colab-df-convert:hover {\n",
              "      background-color: #434B5C;\n",
              "      box-shadow: 0px 1px 3px 1px rgba(0, 0, 0, 0.15);\n",
              "      filter: drop-shadow(0px 1px 2px rgba(0, 0, 0, 0.3));\n",
              "      fill: #FFFFFF;\n",
              "    }\n",
              "  </style>\n",
              "\n",
              "      <script>\n",
              "        const buttonEl =\n",
              "          document.querySelector('#df-64dd562b-59c2-4842-a3dc-c035c76e1991 button.colab-df-convert');\n",
              "        buttonEl.style.display =\n",
              "          google.colab.kernel.accessAllowed ? 'block' : 'none';\n",
              "\n",
              "        async function convertToInteractive(key) {\n",
              "          const element = document.querySelector('#df-64dd562b-59c2-4842-a3dc-c035c76e1991');\n",
              "          const dataTable =\n",
              "            await google.colab.kernel.invokeFunction('convertToInteractive',\n",
              "                                                     [key], {});\n",
              "          if (!dataTable) return;\n",
              "\n",
              "          const docLinkHtml = 'Like what you see? Visit the ' +\n",
              "            '<a target=\"_blank\" href=https://colab.research.google.com/notebooks/data_table.ipynb>data table notebook</a>'\n",
              "            + ' to learn more about interactive tables.';\n",
              "          element.innerHTML = '';\n",
              "          dataTable['output_type'] = 'display_data';\n",
              "          await google.colab.output.renderOutput(dataTable, element);\n",
              "          const docLink = document.createElement('div');\n",
              "          docLink.innerHTML = docLinkHtml;\n",
              "          element.appendChild(docLink);\n",
              "        }\n",
              "      </script>\n",
              "    </div>\n",
              "  </div>\n",
              "  "
            ]
          },
          "metadata": {}
        },
        {
          "output_type": "stream",
          "name": "stdout",
          "text": [
            "\n",
            "\n"
          ]
        },
        {
          "output_type": "display_data",
          "data": {
            "text/plain": [
              "                                         Final Model\n",
              "Activation Function                          Softmax\n",
              "Optimizer                                       Adam\n",
              "Loss Function        Sparse Categorical Crossentropy"
            ],
            "text/html": [
              "\n",
              "  <div id=\"df-8dd6a664-32ce-4ed5-acd4-bd52d6c97081\">\n",
              "    <div class=\"colab-df-container\">\n",
              "      <div>\n",
              "<style scoped>\n",
              "    .dataframe tbody tr th:only-of-type {\n",
              "        vertical-align: middle;\n",
              "    }\n",
              "\n",
              "    .dataframe tbody tr th {\n",
              "        vertical-align: top;\n",
              "    }\n",
              "\n",
              "    .dataframe thead th {\n",
              "        text-align: right;\n",
              "    }\n",
              "</style>\n",
              "<table border=\"1\" class=\"dataframe\">\n",
              "  <thead>\n",
              "    <tr style=\"text-align: right;\">\n",
              "      <th></th>\n",
              "      <th>Final Model</th>\n",
              "    </tr>\n",
              "  </thead>\n",
              "  <tbody>\n",
              "    <tr>\n",
              "      <th>Activation Function</th>\n",
              "      <td>Softmax</td>\n",
              "    </tr>\n",
              "    <tr>\n",
              "      <th>Optimizer</th>\n",
              "      <td>Adam</td>\n",
              "    </tr>\n",
              "    <tr>\n",
              "      <th>Loss Function</th>\n",
              "      <td>Sparse Categorical Crossentropy</td>\n",
              "    </tr>\n",
              "  </tbody>\n",
              "</table>\n",
              "</div>\n",
              "      <button class=\"colab-df-convert\" onclick=\"convertToInteractive('df-8dd6a664-32ce-4ed5-acd4-bd52d6c97081')\"\n",
              "              title=\"Convert this dataframe to an interactive table.\"\n",
              "              style=\"display:none;\">\n",
              "        \n",
              "  <svg xmlns=\"http://www.w3.org/2000/svg\" height=\"24px\"viewBox=\"0 0 24 24\"\n",
              "       width=\"24px\">\n",
              "    <path d=\"M0 0h24v24H0V0z\" fill=\"none\"/>\n",
              "    <path d=\"M18.56 5.44l.94 2.06.94-2.06 2.06-.94-2.06-.94-.94-2.06-.94 2.06-2.06.94zm-11 1L8.5 8.5l.94-2.06 2.06-.94-2.06-.94L8.5 2.5l-.94 2.06-2.06.94zm10 10l.94 2.06.94-2.06 2.06-.94-2.06-.94-.94-2.06-.94 2.06-2.06.94z\"/><path d=\"M17.41 7.96l-1.37-1.37c-.4-.4-.92-.59-1.43-.59-.52 0-1.04.2-1.43.59L10.3 9.45l-7.72 7.72c-.78.78-.78 2.05 0 2.83L4 21.41c.39.39.9.59 1.41.59.51 0 1.02-.2 1.41-.59l7.78-7.78 2.81-2.81c.8-.78.8-2.07 0-2.86zM5.41 20L4 18.59l7.72-7.72 1.47 1.35L5.41 20z\"/>\n",
              "  </svg>\n",
              "      </button>\n",
              "      \n",
              "  <style>\n",
              "    .colab-df-container {\n",
              "      display:flex;\n",
              "      flex-wrap:wrap;\n",
              "      gap: 12px;\n",
              "    }\n",
              "\n",
              "    .colab-df-convert {\n",
              "      background-color: #E8F0FE;\n",
              "      border: none;\n",
              "      border-radius: 50%;\n",
              "      cursor: pointer;\n",
              "      display: none;\n",
              "      fill: #1967D2;\n",
              "      height: 32px;\n",
              "      padding: 0 0 0 0;\n",
              "      width: 32px;\n",
              "    }\n",
              "\n",
              "    .colab-df-convert:hover {\n",
              "      background-color: #E2EBFA;\n",
              "      box-shadow: 0px 1px 2px rgba(60, 64, 67, 0.3), 0px 1px 3px 1px rgba(60, 64, 67, 0.15);\n",
              "      fill: #174EA6;\n",
              "    }\n",
              "\n",
              "    [theme=dark] .colab-df-convert {\n",
              "      background-color: #3B4455;\n",
              "      fill: #D2E3FC;\n",
              "    }\n",
              "\n",
              "    [theme=dark] .colab-df-convert:hover {\n",
              "      background-color: #434B5C;\n",
              "      box-shadow: 0px 1px 3px 1px rgba(0, 0, 0, 0.15);\n",
              "      filter: drop-shadow(0px 1px 2px rgba(0, 0, 0, 0.3));\n",
              "      fill: #FFFFFF;\n",
              "    }\n",
              "  </style>\n",
              "\n",
              "      <script>\n",
              "        const buttonEl =\n",
              "          document.querySelector('#df-8dd6a664-32ce-4ed5-acd4-bd52d6c97081 button.colab-df-convert');\n",
              "        buttonEl.style.display =\n",
              "          google.colab.kernel.accessAllowed ? 'block' : 'none';\n",
              "\n",
              "        async function convertToInteractive(key) {\n",
              "          const element = document.querySelector('#df-8dd6a664-32ce-4ed5-acd4-bd52d6c97081');\n",
              "          const dataTable =\n",
              "            await google.colab.kernel.invokeFunction('convertToInteractive',\n",
              "                                                     [key], {});\n",
              "          if (!dataTable) return;\n",
              "\n",
              "          const docLinkHtml = 'Like what you see? Visit the ' +\n",
              "            '<a target=\"_blank\" href=https://colab.research.google.com/notebooks/data_table.ipynb>data table notebook</a>'\n",
              "            + ' to learn more about interactive tables.';\n",
              "          element.innerHTML = '';\n",
              "          dataTable['output_type'] = 'display_data';\n",
              "          await google.colab.output.renderOutput(dataTable, element);\n",
              "          const docLink = document.createElement('div');\n",
              "          docLink.innerHTML = docLinkHtml;\n",
              "          element.appendChild(docLink);\n",
              "        }\n",
              "      </script>\n",
              "    </div>\n",
              "  </div>\n",
              "  "
            ]
          },
          "metadata": {}
        }
      ]
    },
    {
      "cell_type": "markdown",
      "source": [
        "##Model Initialization"
      ],
      "metadata": {
        "id": "RVepRStOmk1u"
      }
    },
    {
      "cell_type": "markdown",
      "source": [
        "하이퍼파라미터 튜닝을 하여 새로운 모델을 구성하고 다시 학습할 때\n",
        "Google Colab의 런타임을 다시 시작해야 한다.\n",
        "<br/>런타임 재시작할 때마다 처음부터 코드를 작동시켜야하는 번거로움을 느낀다.\n",
        "<br/>모델 초기화 함수 코드가 있었다면 런타임을 재시작하지 않아도 되었을 것이다.\n",
        "<br/>모델 초기화 함수의 필요성을 느낀다."
      ],
      "metadata": {
        "id": "vd2-olFgmUbN"
      }
    },
    {
      "cell_type": "markdown",
      "source": [
        "##First Model"
      ],
      "metadata": {
        "id": "0CxnYDiOJm4V"
      }
    },
    {
      "cell_type": "code",
      "source": [
        "batch_size     = 64\n",
        "src_vocab_size = len(enc_tokenizer.index_word) + 1\n",
        "tgt_vocab_size = len(dec_tokenizer.index_word) + 1\n",
        "\n",
        "units         = 1024\n",
        "embedding_dim = 512\n",
        "dropout = 0.2\n",
        "\n",
        "encoder = Encoder(src_vocab_size, embedding_dim, units, dropout)\n",
        "decoder = Decoder(tgt_vocab_size, embedding_dim, units, dropout)\n",
        "\n",
        "# sample input\n",
        "sequence_len = 30\n",
        "\n",
        "sample_enc = tf.random.uniform((batch_size, sequence_len))\n",
        "sample_output = encoder(sample_enc)\n",
        "\n",
        "print ('Encoder Output :', sample_output.shape)\n",
        "\n",
        "sample_state = tf.random.uniform((batch_size, units))\n",
        "\n",
        "sample_logits, h_dec, attn = decoder(tf.random.uniform((batch_size, 1)),\n",
        "                                     sample_state, sample_output)\n",
        "\n",
        "print ('Decoder Output :', sample_logits.shape)\n",
        "print ('Decoder Hidden State :', h_dec.shape)\n",
        "print ('Attention :', attn.shape)"
      ],
      "metadata": {
        "colab": {
          "base_uri": "https://localhost:8080/"
        },
        "id": "E7KNRwt0KltG",
        "outputId": "c9122974-7924-4a48-8a32-c405d23af96a"
      },
      "execution_count": null,
      "outputs": [
        {
          "output_type": "stream",
          "name": "stdout",
          "text": [
            "Encoder Output : (64, 30, 1024)\n",
            "Decoder Output : (64, 30387)\n",
            "Decoder Hidden State : (64, 1024)\n",
            "Attention : (64, 30, 1)\n"
          ]
        }
      ]
    },
    {
      "cell_type": "code",
      "source": [
        "first_model_loss_df = pd.DataFrame({'Epoch':[0], 'Loss':[0]})\n",
        "\n",
        "epochs = 10\n",
        "count = 0\n",
        "\n",
        "for epoch in range(epochs):\n",
        "    total_loss = 0\n",
        "    \n",
        "    idx_list = list(range(0, enc_tensor.shape[0], batch_size))\n",
        "    random.shuffle(idx_list)\n",
        "    t = tqdm(idx_list)   \n",
        "\n",
        "    for (batch, idx) in enumerate(t):\n",
        "        batch_loss = train_step(enc_tensor[idx:idx + batch_size],\n",
        "                                dec_tensor[idx:idx +  batch_size],\n",
        "                                encoder,\n",
        "                                decoder,\n",
        "                                optimizer,\n",
        "                                dec_tokenizer)\n",
        "    \n",
        "        total_loss += batch_loss\n",
        "\n",
        "        count += 1\n",
        "        \n",
        "        if count % len(idx_list) == 0:\n",
        "            first_model_loss_df.loc[epoch] = [epoch + 1, round(total_loss.numpy() / (batch + 1), 4)]\n",
        "            first_model_loss_df = first_model_loss_df.astype({'Epoch':'int'})\n",
        "\n",
        "        t.set_description_str('Epoch %2d' % (epoch + 1))    \n",
        "        t.set_postfix_str('Loss %.4f' % (total_loss.numpy() / (batch + 1)))          "
      ],
      "metadata": {
        "id": "_S_QLuu8TI0F",
        "colab": {
          "base_uri": "https://localhost:8080/"
        },
        "outputId": "6eab4523-ed93-43f8-e83c-bba788f51d49"
      },
      "execution_count": null,
      "outputs": [
        {
          "output_type": "stream",
          "name": "stderr",
          "text": [
            "Epoch  1: 100%|██████████| 469/469 [04:12<00:00,  1.86it/s, Loss 4.6990]\n",
            "Epoch  2: 100%|██████████| 469/469 [02:55<00:00,  2.68it/s, Loss 4.5603]\n",
            "Epoch  3: 100%|██████████| 469/469 [02:55<00:00,  2.68it/s, Loss 4.5648]\n",
            "Epoch  4: 100%|██████████| 469/469 [02:55<00:00,  2.68it/s, Loss 4.5655]\n",
            "Epoch  5: 100%|██████████| 469/469 [02:55<00:00,  2.68it/s, Loss 4.5644]\n",
            "Epoch  6: 100%|██████████| 469/469 [02:55<00:00,  2.68it/s, Loss 4.5652]\n",
            "Epoch  7: 100%|██████████| 469/469 [02:55<00:00,  2.68it/s, Loss 4.5646]\n",
            "Epoch  8: 100%|██████████| 469/469 [02:55<00:00,  2.68it/s, Loss 4.5628]\n",
            "Epoch  9: 100%|██████████| 469/469 [02:55<00:00,  2.68it/s, Loss 4.5649]\n",
            "Epoch 10: 100%|██████████| 469/469 [02:55<00:00,  2.68it/s, Loss 4.5642]\n"
          ]
        }
      ]
    },
    {
      "cell_type": "markdown",
      "source": [
        "EPOCHS = 10 만큼 반복하는 루프에 진입한 후 각 배치의 시작 인덱스를 idx_list 배열에 저장한다.\n",
        "<br/>모델이 학습을 원활하게 할 수 있도록 인덱스를 섞어서 데이터를 처리한다.\n",
        "<br/>각 미니배치를 train_step()에서 학습하고  Loss를 계산한다.\n"
      ],
      "metadata": {
        "id": "dEVbWiS81ZdO"
      }
    },
    {
      "cell_type": "code",
      "source": [
        "pd.set_option('display.max_rows', 4)\n",
        "first_model_loss_df"
      ],
      "metadata": {
        "colab": {
          "base_uri": "https://localhost:8080/",
          "height": 235
        },
        "id": "TkfgZM1UDAef",
        "outputId": "ced36613-90d5-44f6-9c2d-a5e590fd275d"
      },
      "execution_count": null,
      "outputs": [
        {
          "output_type": "execute_result",
          "data": {
            "text/plain": [
              "    Epoch    Loss\n",
              "0       1  4.6990\n",
              "1       2  4.5603\n",
              "..    ...     ...\n",
              "8       9  4.5649\n",
              "9      10  4.5642\n",
              "\n",
              "[10 rows x 2 columns]"
            ],
            "text/html": [
              "\n",
              "  <div id=\"df-488be4a3-4931-4da0-bac8-cf957e7904a0\">\n",
              "    <div class=\"colab-df-container\">\n",
              "      <div>\n",
              "<style scoped>\n",
              "    .dataframe tbody tr th:only-of-type {\n",
              "        vertical-align: middle;\n",
              "    }\n",
              "\n",
              "    .dataframe tbody tr th {\n",
              "        vertical-align: top;\n",
              "    }\n",
              "\n",
              "    .dataframe thead th {\n",
              "        text-align: right;\n",
              "    }\n",
              "</style>\n",
              "<table border=\"1\" class=\"dataframe\">\n",
              "  <thead>\n",
              "    <tr style=\"text-align: right;\">\n",
              "      <th></th>\n",
              "      <th>Epoch</th>\n",
              "      <th>Loss</th>\n",
              "    </tr>\n",
              "  </thead>\n",
              "  <tbody>\n",
              "    <tr>\n",
              "      <th>0</th>\n",
              "      <td>1</td>\n",
              "      <td>4.6990</td>\n",
              "    </tr>\n",
              "    <tr>\n",
              "      <th>1</th>\n",
              "      <td>2</td>\n",
              "      <td>4.5603</td>\n",
              "    </tr>\n",
              "    <tr>\n",
              "      <th>...</th>\n",
              "      <td>...</td>\n",
              "      <td>...</td>\n",
              "    </tr>\n",
              "    <tr>\n",
              "      <th>8</th>\n",
              "      <td>9</td>\n",
              "      <td>4.5649</td>\n",
              "    </tr>\n",
              "    <tr>\n",
              "      <th>9</th>\n",
              "      <td>10</td>\n",
              "      <td>4.5642</td>\n",
              "    </tr>\n",
              "  </tbody>\n",
              "</table>\n",
              "<p>10 rows × 2 columns</p>\n",
              "</div>\n",
              "      <button class=\"colab-df-convert\" onclick=\"convertToInteractive('df-488be4a3-4931-4da0-bac8-cf957e7904a0')\"\n",
              "              title=\"Convert this dataframe to an interactive table.\"\n",
              "              style=\"display:none;\">\n",
              "        \n",
              "  <svg xmlns=\"http://www.w3.org/2000/svg\" height=\"24px\"viewBox=\"0 0 24 24\"\n",
              "       width=\"24px\">\n",
              "    <path d=\"M0 0h24v24H0V0z\" fill=\"none\"/>\n",
              "    <path d=\"M18.56 5.44l.94 2.06.94-2.06 2.06-.94-2.06-.94-.94-2.06-.94 2.06-2.06.94zm-11 1L8.5 8.5l.94-2.06 2.06-.94-2.06-.94L8.5 2.5l-.94 2.06-2.06.94zm10 10l.94 2.06.94-2.06 2.06-.94-2.06-.94-.94-2.06-.94 2.06-2.06.94z\"/><path d=\"M17.41 7.96l-1.37-1.37c-.4-.4-.92-.59-1.43-.59-.52 0-1.04.2-1.43.59L10.3 9.45l-7.72 7.72c-.78.78-.78 2.05 0 2.83L4 21.41c.39.39.9.59 1.41.59.51 0 1.02-.2 1.41-.59l7.78-7.78 2.81-2.81c.8-.78.8-2.07 0-2.86zM5.41 20L4 18.59l7.72-7.72 1.47 1.35L5.41 20z\"/>\n",
              "  </svg>\n",
              "      </button>\n",
              "      \n",
              "  <style>\n",
              "    .colab-df-container {\n",
              "      display:flex;\n",
              "      flex-wrap:wrap;\n",
              "      gap: 12px;\n",
              "    }\n",
              "\n",
              "    .colab-df-convert {\n",
              "      background-color: #E8F0FE;\n",
              "      border: none;\n",
              "      border-radius: 50%;\n",
              "      cursor: pointer;\n",
              "      display: none;\n",
              "      fill: #1967D2;\n",
              "      height: 32px;\n",
              "      padding: 0 0 0 0;\n",
              "      width: 32px;\n",
              "    }\n",
              "\n",
              "    .colab-df-convert:hover {\n",
              "      background-color: #E2EBFA;\n",
              "      box-shadow: 0px 1px 2px rgba(60, 64, 67, 0.3), 0px 1px 3px 1px rgba(60, 64, 67, 0.15);\n",
              "      fill: #174EA6;\n",
              "    }\n",
              "\n",
              "    [theme=dark] .colab-df-convert {\n",
              "      background-color: #3B4455;\n",
              "      fill: #D2E3FC;\n",
              "    }\n",
              "\n",
              "    [theme=dark] .colab-df-convert:hover {\n",
              "      background-color: #434B5C;\n",
              "      box-shadow: 0px 1px 3px 1px rgba(0, 0, 0, 0.15);\n",
              "      filter: drop-shadow(0px 1px 2px rgba(0, 0, 0, 0.3));\n",
              "      fill: #FFFFFF;\n",
              "    }\n",
              "  </style>\n",
              "\n",
              "      <script>\n",
              "        const buttonEl =\n",
              "          document.querySelector('#df-488be4a3-4931-4da0-bac8-cf957e7904a0 button.colab-df-convert');\n",
              "        buttonEl.style.display =\n",
              "          google.colab.kernel.accessAllowed ? 'block' : 'none';\n",
              "\n",
              "        async function convertToInteractive(key) {\n",
              "          const element = document.querySelector('#df-488be4a3-4931-4da0-bac8-cf957e7904a0');\n",
              "          const dataTable =\n",
              "            await google.colab.kernel.invokeFunction('convertToInteractive',\n",
              "                                                     [key], {});\n",
              "          if (!dataTable) return;\n",
              "\n",
              "          const docLinkHtml = 'Like what you see? Visit the ' +\n",
              "            '<a target=\"_blank\" href=https://colab.research.google.com/notebooks/data_table.ipynb>data table notebook</a>'\n",
              "            + ' to learn more about interactive tables.';\n",
              "          element.innerHTML = '';\n",
              "          dataTable['output_type'] = 'display_data';\n",
              "          await google.colab.output.renderOutput(dataTable, element);\n",
              "          const docLink = document.createElement('div');\n",
              "          docLink.innerHTML = docLinkHtml;\n",
              "          element.appendChild(docLink);\n",
              "        }\n",
              "      </script>\n",
              "    </div>\n",
              "  </div>\n",
              "  "
            ]
          },
          "metadata": {},
          "execution_count": 50
        }
      ]
    },
    {
      "cell_type": "code",
      "source": [
        "first_model_loss_df.to_csv(\"/content/drive/MyDrive/lms/seq2seq_translation/first_model_loss.csv\", index = False)"
      ],
      "metadata": {
        "id": "IAVCEfs5C-0a"
      },
      "execution_count": null,
      "outputs": []
    },
    {
      "cell_type": "markdown",
      "source": [
        "##Second Model"
      ],
      "metadata": {
        "id": "bmGub4slK4Ge"
      }
    },
    {
      "cell_type": "code",
      "source": [
        "batch_size     = 32\n",
        "src_vocab_size = len(enc_tokenizer.index_word) + 1\n",
        "tgt_vocab_size = len(dec_tokenizer.index_word) + 1\n",
        "\n",
        "units         = 256\n",
        "embedding_dim = 64\n",
        "dropout = 0.2\n",
        "\n",
        "encoder = Encoder(src_vocab_size, embedding_dim, units, dropout)\n",
        "decoder = Decoder(tgt_vocab_size, embedding_dim, units, dropout)\n",
        "\n",
        "# sample input\n",
        "sequence_len = 30\n",
        "\n",
        "sample_enc = tf.random.uniform((batch_size, sequence_len))\n",
        "sample_output = encoder(sample_enc)\n",
        "\n",
        "print ('Encoder Output :', sample_output.shape)\n",
        "\n",
        "sample_state = tf.random.uniform((batch_size, units))\n",
        "\n",
        "sample_logits, h_dec, attn = decoder(tf.random.uniform((batch_size, 1)),\n",
        "                                     sample_state, sample_output)\n",
        "\n",
        "print ('Decoder Output :', sample_logits.shape)\n",
        "print ('Decoder Hidden State :', h_dec.shape)\n",
        "print ('Attention :', attn.shape)"
      ],
      "metadata": {
        "colab": {
          "base_uri": "https://localhost:8080/"
        },
        "id": "8Pu4TvQKKof2",
        "outputId": "a84ffd62-194f-4c80-a3c6-87ee616617b0"
      },
      "execution_count": null,
      "outputs": [
        {
          "output_type": "stream",
          "name": "stdout",
          "text": [
            "Encoder Output : (32, 30, 256)\n",
            "Decoder Output : (32, 30387)\n",
            "Decoder Hidden State : (32, 256)\n",
            "Attention : (32, 30, 1)\n"
          ]
        }
      ]
    },
    {
      "cell_type": "code",
      "source": [
        "second_model_loss_df = pd.DataFrame({'Epoch':[0], 'Loss':[0]})\n",
        "\n",
        "epochs = 10\n",
        "count = 0\n",
        "\n",
        "for epoch in range(epochs):\n",
        "    total_loss = 0\n",
        "    \n",
        "    idx_list = list(range(0, enc_tensor.shape[0], batch_size))\n",
        "    random.shuffle(idx_list)\n",
        "    t = tqdm(idx_list)   \n",
        "\n",
        "    for (batch, idx) in enumerate(t):\n",
        "        batch_loss = train_step(enc_tensor[idx:idx + batch_size],\n",
        "                                dec_tensor[idx:idx +  batch_size],\n",
        "                                encoder,\n",
        "                                decoder,\n",
        "                                optimizer,\n",
        "                                dec_tokenizer)\n",
        "    \n",
        "        total_loss += batch_loss\n",
        "\n",
        "        count += 1\n",
        "        \n",
        "        if count % len(idx_list) == 0:\n",
        "            second_model_loss_df.loc[epoch] = [epoch + 1, round(total_loss.numpy() / (batch + 1), 4)]\n",
        "            second_model_loss_df = second_model_loss_df.astype({'Epoch':'int'})\n",
        "        \n",
        "        t.set_description_str('Epoch %2d' % (epoch + 1))    \n",
        "        t.set_postfix_str('Loss %.4f' % (total_loss.numpy() / (batch + 1)))   "
      ],
      "metadata": {
        "colab": {
          "base_uri": "https://localhost:8080/"
        },
        "id": "xuwAR2v7Koif",
        "outputId": "471440b0-9158-41fe-c8b0-7bf9551390d5"
      },
      "execution_count": null,
      "outputs": [
        {
          "output_type": "stream",
          "name": "stderr",
          "text": [
            "Epoch  1: 100%|██████████| 938/938 [02:48<00:00,  5.58it/s, Loss 4.5586]\n",
            "Epoch  2: 100%|██████████| 938/938 [01:37<00:00,  9.61it/s, Loss 4.4829]\n",
            "Epoch  3: 100%|██████████| 938/938 [01:36<00:00,  9.68it/s, Loss 4.4833]\n",
            "Epoch  4: 100%|██████████| 938/938 [01:36<00:00,  9.68it/s, Loss 4.4848]\n",
            "Epoch  5: 100%|██████████| 938/938 [01:38<00:00,  9.49it/s, Loss 4.4843]\n",
            "Epoch  6: 100%|██████████| 938/938 [01:37<00:00,  9.64it/s, Loss 4.4837]\n",
            "Epoch  7: 100%|██████████| 938/938 [01:36<00:00,  9.75it/s, Loss 4.4850]\n",
            "Epoch  8: 100%|██████████| 938/938 [01:37<00:00,  9.67it/s, Loss 4.4844]\n",
            "Epoch  9: 100%|██████████| 938/938 [01:36<00:00,  9.77it/s, Loss 4.4421]\n",
            "Epoch 10: 100%|██████████| 938/938 [01:36<00:00,  9.77it/s, Loss 4.4448]\n"
          ]
        }
      ]
    },
    {
      "cell_type": "code",
      "source": [
        "pd.set_option('display.max_rows', 4)\n",
        "second_model_loss_df"
      ],
      "metadata": {
        "colab": {
          "base_uri": "https://localhost:8080/",
          "height": 235
        },
        "id": "jjswCHx-HW-f",
        "outputId": "ed3ab89e-d2ec-401d-954a-f0802359bbd1"
      },
      "execution_count": null,
      "outputs": [
        {
          "output_type": "execute_result",
          "data": {
            "text/plain": [
              "    Epoch    Loss\n",
              "0       1  4.5586\n",
              "1       2  4.4829\n",
              "..    ...     ...\n",
              "8       9  4.4421\n",
              "9      10  4.4448\n",
              "\n",
              "[10 rows x 2 columns]"
            ],
            "text/html": [
              "\n",
              "  <div id=\"df-c816d544-c2a0-40be-887f-9eaea4045709\">\n",
              "    <div class=\"colab-df-container\">\n",
              "      <div>\n",
              "<style scoped>\n",
              "    .dataframe tbody tr th:only-of-type {\n",
              "        vertical-align: middle;\n",
              "    }\n",
              "\n",
              "    .dataframe tbody tr th {\n",
              "        vertical-align: top;\n",
              "    }\n",
              "\n",
              "    .dataframe thead th {\n",
              "        text-align: right;\n",
              "    }\n",
              "</style>\n",
              "<table border=\"1\" class=\"dataframe\">\n",
              "  <thead>\n",
              "    <tr style=\"text-align: right;\">\n",
              "      <th></th>\n",
              "      <th>Epoch</th>\n",
              "      <th>Loss</th>\n",
              "    </tr>\n",
              "  </thead>\n",
              "  <tbody>\n",
              "    <tr>\n",
              "      <th>0</th>\n",
              "      <td>1</td>\n",
              "      <td>4.5586</td>\n",
              "    </tr>\n",
              "    <tr>\n",
              "      <th>1</th>\n",
              "      <td>2</td>\n",
              "      <td>4.4829</td>\n",
              "    </tr>\n",
              "    <tr>\n",
              "      <th>...</th>\n",
              "      <td>...</td>\n",
              "      <td>...</td>\n",
              "    </tr>\n",
              "    <tr>\n",
              "      <th>8</th>\n",
              "      <td>9</td>\n",
              "      <td>4.4421</td>\n",
              "    </tr>\n",
              "    <tr>\n",
              "      <th>9</th>\n",
              "      <td>10</td>\n",
              "      <td>4.4448</td>\n",
              "    </tr>\n",
              "  </tbody>\n",
              "</table>\n",
              "<p>10 rows × 2 columns</p>\n",
              "</div>\n",
              "      <button class=\"colab-df-convert\" onclick=\"convertToInteractive('df-c816d544-c2a0-40be-887f-9eaea4045709')\"\n",
              "              title=\"Convert this dataframe to an interactive table.\"\n",
              "              style=\"display:none;\">\n",
              "        \n",
              "  <svg xmlns=\"http://www.w3.org/2000/svg\" height=\"24px\"viewBox=\"0 0 24 24\"\n",
              "       width=\"24px\">\n",
              "    <path d=\"M0 0h24v24H0V0z\" fill=\"none\"/>\n",
              "    <path d=\"M18.56 5.44l.94 2.06.94-2.06 2.06-.94-2.06-.94-.94-2.06-.94 2.06-2.06.94zm-11 1L8.5 8.5l.94-2.06 2.06-.94-2.06-.94L8.5 2.5l-.94 2.06-2.06.94zm10 10l.94 2.06.94-2.06 2.06-.94-2.06-.94-.94-2.06-.94 2.06-2.06.94z\"/><path d=\"M17.41 7.96l-1.37-1.37c-.4-.4-.92-.59-1.43-.59-.52 0-1.04.2-1.43.59L10.3 9.45l-7.72 7.72c-.78.78-.78 2.05 0 2.83L4 21.41c.39.39.9.59 1.41.59.51 0 1.02-.2 1.41-.59l7.78-7.78 2.81-2.81c.8-.78.8-2.07 0-2.86zM5.41 20L4 18.59l7.72-7.72 1.47 1.35L5.41 20z\"/>\n",
              "  </svg>\n",
              "      </button>\n",
              "      \n",
              "  <style>\n",
              "    .colab-df-container {\n",
              "      display:flex;\n",
              "      flex-wrap:wrap;\n",
              "      gap: 12px;\n",
              "    }\n",
              "\n",
              "    .colab-df-convert {\n",
              "      background-color: #E8F0FE;\n",
              "      border: none;\n",
              "      border-radius: 50%;\n",
              "      cursor: pointer;\n",
              "      display: none;\n",
              "      fill: #1967D2;\n",
              "      height: 32px;\n",
              "      padding: 0 0 0 0;\n",
              "      width: 32px;\n",
              "    }\n",
              "\n",
              "    .colab-df-convert:hover {\n",
              "      background-color: #E2EBFA;\n",
              "      box-shadow: 0px 1px 2px rgba(60, 64, 67, 0.3), 0px 1px 3px 1px rgba(60, 64, 67, 0.15);\n",
              "      fill: #174EA6;\n",
              "    }\n",
              "\n",
              "    [theme=dark] .colab-df-convert {\n",
              "      background-color: #3B4455;\n",
              "      fill: #D2E3FC;\n",
              "    }\n",
              "\n",
              "    [theme=dark] .colab-df-convert:hover {\n",
              "      background-color: #434B5C;\n",
              "      box-shadow: 0px 1px 3px 1px rgba(0, 0, 0, 0.15);\n",
              "      filter: drop-shadow(0px 1px 2px rgba(0, 0, 0, 0.3));\n",
              "      fill: #FFFFFF;\n",
              "    }\n",
              "  </style>\n",
              "\n",
              "      <script>\n",
              "        const buttonEl =\n",
              "          document.querySelector('#df-c816d544-c2a0-40be-887f-9eaea4045709 button.colab-df-convert');\n",
              "        buttonEl.style.display =\n",
              "          google.colab.kernel.accessAllowed ? 'block' : 'none';\n",
              "\n",
              "        async function convertToInteractive(key) {\n",
              "          const element = document.querySelector('#df-c816d544-c2a0-40be-887f-9eaea4045709');\n",
              "          const dataTable =\n",
              "            await google.colab.kernel.invokeFunction('convertToInteractive',\n",
              "                                                     [key], {});\n",
              "          if (!dataTable) return;\n",
              "\n",
              "          const docLinkHtml = 'Like what you see? Visit the ' +\n",
              "            '<a target=\"_blank\" href=https://colab.research.google.com/notebooks/data_table.ipynb>data table notebook</a>'\n",
              "            + ' to learn more about interactive tables.';\n",
              "          element.innerHTML = '';\n",
              "          dataTable['output_type'] = 'display_data';\n",
              "          await google.colab.output.renderOutput(dataTable, element);\n",
              "          const docLink = document.createElement('div');\n",
              "          docLink.innerHTML = docLinkHtml;\n",
              "          element.appendChild(docLink);\n",
              "        }\n",
              "      </script>\n",
              "    </div>\n",
              "  </div>\n",
              "  "
            ]
          },
          "metadata": {},
          "execution_count": 47
        }
      ]
    },
    {
      "cell_type": "code",
      "source": [
        "second_model_loss_df.to_csv(\"/content/drive/MyDrive/lms/seq2seq_translation/second_model_loss.csv\", index = False)"
      ],
      "metadata": {
        "id": "JQInJtm_HXEY"
      },
      "execution_count": null,
      "outputs": []
    },
    {
      "cell_type": "markdown",
      "source": [
        "##Third Model"
      ],
      "metadata": {
        "id": "pi3QW0sdLEBN"
      }
    },
    {
      "cell_type": "code",
      "source": [
        "batch_size     = 128\n",
        "src_vocab_size = len(enc_tokenizer.index_word) + 1\n",
        "tgt_vocab_size = len(dec_tokenizer.index_word) + 1\n",
        "\n",
        "units         = 128\n",
        "embedding_dim = 128\n",
        "dropout = 0.2\n",
        "\n",
        "encoder = Encoder(src_vocab_size, embedding_dim, units, dropout)\n",
        "decoder = Decoder(tgt_vocab_size, embedding_dim, units, dropout)\n",
        "\n",
        "# sample input\n",
        "sequence_len = 30\n",
        "\n",
        "sample_enc = tf.random.uniform((batch_size, sequence_len))\n",
        "sample_output = encoder(sample_enc)\n",
        "\n",
        "print ('Encoder Output :', sample_output.shape)\n",
        "\n",
        "sample_state = tf.random.uniform((batch_size, units))\n",
        "\n",
        "sample_logits, h_dec, attn = decoder(tf.random.uniform((batch_size, 1)),\n",
        "                                     sample_state, sample_output)\n",
        "\n",
        "print ('Decoder Output :', sample_logits.shape)\n",
        "print ('Decoder Hidden State :', h_dec.shape)\n",
        "print ('Attention :', attn.shape)"
      ],
      "metadata": {
        "colab": {
          "base_uri": "https://localhost:8080/"
        },
        "id": "xMcuFu5BK7GV",
        "outputId": "b0fc5b83-cabb-4ba9-80bc-78dbaddf48f0"
      },
      "execution_count": null,
      "outputs": [
        {
          "output_type": "stream",
          "name": "stdout",
          "text": [
            "Encoder Output : (128, 30, 128)\n",
            "Decoder Output : (128, 30387)\n",
            "Decoder Hidden State : (128, 128)\n",
            "Attention : (128, 30, 1)\n"
          ]
        }
      ]
    },
    {
      "cell_type": "code",
      "source": [
        "third_model_loss_df = pd.DataFrame({'Epoch':[0], 'Loss':[0]})\n",
        "\n",
        "epochs = 10\n",
        "count = 0\n",
        "\n",
        "for epoch in range(epochs):\n",
        "    total_loss = 0\n",
        "    \n",
        "    idx_list = list(range(0, enc_tensor.shape[0], batch_size))\n",
        "    random.shuffle(idx_list)\n",
        "    t = tqdm(idx_list)   \n",
        "\n",
        "    for (batch, idx) in enumerate(t):\n",
        "        batch_loss = train_step(enc_tensor[idx:idx + batch_size],\n",
        "                                dec_tensor[idx:idx +  batch_size],\n",
        "                                encoder,\n",
        "                                decoder,\n",
        "                                optimizer,\n",
        "                                dec_tokenizer)\n",
        "    \n",
        "        total_loss += batch_loss\n",
        "\n",
        "        count += 1\n",
        "        \n",
        "        if count % len(idx_list) == 0:\n",
        "            third_model_loss_df.loc[epoch] = [epoch + 1, round(total_loss.numpy() / (batch + 1), 4)]\n",
        "            third_model_loss_df = third_model_loss_df.astype({'Epoch':'int'})\n",
        "\n",
        "        t.set_description_str('Epoch %2d' % (epoch + 1))    \n",
        "        t.set_postfix_str('Loss %.4f' % (total_loss.numpy() / (batch + 1)))   "
      ],
      "metadata": {
        "colab": {
          "base_uri": "https://localhost:8080/"
        },
        "id": "a9tsYvW2K7It",
        "outputId": "58dc3a41-58d5-444e-c2f2-856a725d1d25"
      },
      "execution_count": null,
      "outputs": [
        {
          "output_type": "stream",
          "name": "stderr",
          "text": [
            "Epoch  1: 100%|██████████| 235/235 [01:46<00:00,  2.21it/s, Loss 4.5931]\n",
            "Epoch  2: 100%|██████████| 235/235 [00:29<00:00,  7.92it/s, Loss 4.3884]\n",
            "Epoch  3: 100%|██████████| 235/235 [00:29<00:00,  7.89it/s, Loss 4.3876]\n",
            "Epoch  4: 100%|██████████| 235/235 [00:30<00:00,  7.80it/s, Loss 4.3877]\n",
            "Epoch  5: 100%|██████████| 235/235 [00:29<00:00,  7.84it/s, Loss 4.3877]\n",
            "Epoch  6: 100%|██████████| 235/235 [00:29<00:00,  7.92it/s, Loss 4.3875]\n",
            "Epoch  7: 100%|██████████| 235/235 [00:29<00:00,  7.85it/s, Loss 4.3879]\n",
            "Epoch  8: 100%|██████████| 235/235 [00:29<00:00,  7.94it/s, Loss 4.3878]\n",
            "Epoch  9: 100%|██████████| 235/235 [00:29<00:00,  7.91it/s, Loss 4.3873]\n",
            "Epoch 10: 100%|██████████| 235/235 [00:29<00:00,  7.91it/s, Loss 4.3875]\n"
          ]
        }
      ]
    },
    {
      "cell_type": "code",
      "source": [
        "pd.set_option('display.max_rows', 4)\n",
        "third_model_loss_df"
      ],
      "metadata": {
        "colab": {
          "base_uri": "https://localhost:8080/",
          "height": 235
        },
        "id": "GBnvKh82IR7-",
        "outputId": "3b7650e7-0e89-4388-85cd-32247b871423"
      },
      "execution_count": null,
      "outputs": [
        {
          "output_type": "execute_result",
          "data": {
            "text/plain": [
              "    Epoch    Loss\n",
              "0       1  4.5931\n",
              "1       2  4.3884\n",
              "..    ...     ...\n",
              "8       9  4.3873\n",
              "9      10  4.3875\n",
              "\n",
              "[10 rows x 2 columns]"
            ],
            "text/html": [
              "\n",
              "  <div id=\"df-486c1284-d06c-45cf-a7da-46e78fd39bcb\">\n",
              "    <div class=\"colab-df-container\">\n",
              "      <div>\n",
              "<style scoped>\n",
              "    .dataframe tbody tr th:only-of-type {\n",
              "        vertical-align: middle;\n",
              "    }\n",
              "\n",
              "    .dataframe tbody tr th {\n",
              "        vertical-align: top;\n",
              "    }\n",
              "\n",
              "    .dataframe thead th {\n",
              "        text-align: right;\n",
              "    }\n",
              "</style>\n",
              "<table border=\"1\" class=\"dataframe\">\n",
              "  <thead>\n",
              "    <tr style=\"text-align: right;\">\n",
              "      <th></th>\n",
              "      <th>Epoch</th>\n",
              "      <th>Loss</th>\n",
              "    </tr>\n",
              "  </thead>\n",
              "  <tbody>\n",
              "    <tr>\n",
              "      <th>0</th>\n",
              "      <td>1</td>\n",
              "      <td>4.5931</td>\n",
              "    </tr>\n",
              "    <tr>\n",
              "      <th>1</th>\n",
              "      <td>2</td>\n",
              "      <td>4.3884</td>\n",
              "    </tr>\n",
              "    <tr>\n",
              "      <th>...</th>\n",
              "      <td>...</td>\n",
              "      <td>...</td>\n",
              "    </tr>\n",
              "    <tr>\n",
              "      <th>8</th>\n",
              "      <td>9</td>\n",
              "      <td>4.3873</td>\n",
              "    </tr>\n",
              "    <tr>\n",
              "      <th>9</th>\n",
              "      <td>10</td>\n",
              "      <td>4.3875</td>\n",
              "    </tr>\n",
              "  </tbody>\n",
              "</table>\n",
              "<p>10 rows × 2 columns</p>\n",
              "</div>\n",
              "      <button class=\"colab-df-convert\" onclick=\"convertToInteractive('df-486c1284-d06c-45cf-a7da-46e78fd39bcb')\"\n",
              "              title=\"Convert this dataframe to an interactive table.\"\n",
              "              style=\"display:none;\">\n",
              "        \n",
              "  <svg xmlns=\"http://www.w3.org/2000/svg\" height=\"24px\"viewBox=\"0 0 24 24\"\n",
              "       width=\"24px\">\n",
              "    <path d=\"M0 0h24v24H0V0z\" fill=\"none\"/>\n",
              "    <path d=\"M18.56 5.44l.94 2.06.94-2.06 2.06-.94-2.06-.94-.94-2.06-.94 2.06-2.06.94zm-11 1L8.5 8.5l.94-2.06 2.06-.94-2.06-.94L8.5 2.5l-.94 2.06-2.06.94zm10 10l.94 2.06.94-2.06 2.06-.94-2.06-.94-.94-2.06-.94 2.06-2.06.94z\"/><path d=\"M17.41 7.96l-1.37-1.37c-.4-.4-.92-.59-1.43-.59-.52 0-1.04.2-1.43.59L10.3 9.45l-7.72 7.72c-.78.78-.78 2.05 0 2.83L4 21.41c.39.39.9.59 1.41.59.51 0 1.02-.2 1.41-.59l7.78-7.78 2.81-2.81c.8-.78.8-2.07 0-2.86zM5.41 20L4 18.59l7.72-7.72 1.47 1.35L5.41 20z\"/>\n",
              "  </svg>\n",
              "      </button>\n",
              "      \n",
              "  <style>\n",
              "    .colab-df-container {\n",
              "      display:flex;\n",
              "      flex-wrap:wrap;\n",
              "      gap: 12px;\n",
              "    }\n",
              "\n",
              "    .colab-df-convert {\n",
              "      background-color: #E8F0FE;\n",
              "      border: none;\n",
              "      border-radius: 50%;\n",
              "      cursor: pointer;\n",
              "      display: none;\n",
              "      fill: #1967D2;\n",
              "      height: 32px;\n",
              "      padding: 0 0 0 0;\n",
              "      width: 32px;\n",
              "    }\n",
              "\n",
              "    .colab-df-convert:hover {\n",
              "      background-color: #E2EBFA;\n",
              "      box-shadow: 0px 1px 2px rgba(60, 64, 67, 0.3), 0px 1px 3px 1px rgba(60, 64, 67, 0.15);\n",
              "      fill: #174EA6;\n",
              "    }\n",
              "\n",
              "    [theme=dark] .colab-df-convert {\n",
              "      background-color: #3B4455;\n",
              "      fill: #D2E3FC;\n",
              "    }\n",
              "\n",
              "    [theme=dark] .colab-df-convert:hover {\n",
              "      background-color: #434B5C;\n",
              "      box-shadow: 0px 1px 3px 1px rgba(0, 0, 0, 0.15);\n",
              "      filter: drop-shadow(0px 1px 2px rgba(0, 0, 0, 0.3));\n",
              "      fill: #FFFFFF;\n",
              "    }\n",
              "  </style>\n",
              "\n",
              "      <script>\n",
              "        const buttonEl =\n",
              "          document.querySelector('#df-486c1284-d06c-45cf-a7da-46e78fd39bcb button.colab-df-convert');\n",
              "        buttonEl.style.display =\n",
              "          google.colab.kernel.accessAllowed ? 'block' : 'none';\n",
              "\n",
              "        async function convertToInteractive(key) {\n",
              "          const element = document.querySelector('#df-486c1284-d06c-45cf-a7da-46e78fd39bcb');\n",
              "          const dataTable =\n",
              "            await google.colab.kernel.invokeFunction('convertToInteractive',\n",
              "                                                     [key], {});\n",
              "          if (!dataTable) return;\n",
              "\n",
              "          const docLinkHtml = 'Like what you see? Visit the ' +\n",
              "            '<a target=\"_blank\" href=https://colab.research.google.com/notebooks/data_table.ipynb>data table notebook</a>'\n",
              "            + ' to learn more about interactive tables.';\n",
              "          element.innerHTML = '';\n",
              "          dataTable['output_type'] = 'display_data';\n",
              "          await google.colab.output.renderOutput(dataTable, element);\n",
              "          const docLink = document.createElement('div');\n",
              "          docLink.innerHTML = docLinkHtml;\n",
              "          element.appendChild(docLink);\n",
              "        }\n",
              "      </script>\n",
              "    </div>\n",
              "  </div>\n",
              "  "
            ]
          },
          "metadata": {},
          "execution_count": 55
        }
      ]
    },
    {
      "cell_type": "code",
      "source": [
        "third_model_loss_df.to_csv(\"/content/drive/MyDrive/lms/seq2seq_translation/third_model_loss.csv\", index = False)"
      ],
      "metadata": {
        "id": "ldVWVubcISAn"
      },
      "execution_count": null,
      "outputs": []
    },
    {
      "cell_type": "markdown",
      "source": [
        "##Fourth Model"
      ],
      "metadata": {
        "id": "Ia_WeyXTzFzu"
      }
    },
    {
      "cell_type": "code",
      "source": [
        "batch_size     = 64\n",
        "src_vocab_size = len(enc_tokenizer.index_word) + 1\n",
        "tgt_vocab_size = len(dec_tokenizer.index_word) + 1\n",
        "\n",
        "units         = 128\n",
        "embedding_dim = 64\n",
        "dropout = 0.2\n",
        "\n",
        "encoder = Encoder(src_vocab_size, embedding_dim, units, dropout)\n",
        "decoder = Decoder(tgt_vocab_size, embedding_dim, units, dropout)\n",
        "\n",
        "# sample input\n",
        "sequence_len = 30\n",
        "\n",
        "sample_enc = tf.random.uniform((batch_size, sequence_len))\n",
        "sample_output = encoder(sample_enc)\n",
        "\n",
        "print ('Encoder Output :', sample_output.shape)\n",
        "\n",
        "sample_state = tf.random.uniform((batch_size, units))\n",
        "\n",
        "sample_logits, h_dec, attn = decoder(tf.random.uniform((batch_size, 1)),\n",
        "                                     sample_state, sample_output)\n",
        "\n",
        "print ('Decoder Output :', sample_logits.shape)\n",
        "print ('Decoder Hidden State :', h_dec.shape)\n",
        "print ('Attention :', attn.shape)"
      ],
      "metadata": {
        "colab": {
          "base_uri": "https://localhost:8080/"
        },
        "id": "VCX3lGpo14rN",
        "outputId": "fd53a926-2877-4b5f-b6c2-cd3c6f37462f"
      },
      "execution_count": null,
      "outputs": [
        {
          "output_type": "stream",
          "name": "stdout",
          "text": [
            "Encoder Output : (64, 30, 128)\n",
            "Decoder Output : (64, 30387)\n",
            "Decoder Hidden State : (64, 128)\n",
            "Attention : (64, 30, 1)\n"
          ]
        }
      ]
    },
    {
      "cell_type": "code",
      "source": [
        "fourth_model_loss_df = pd.DataFrame({'Epoch':[0], 'Loss':[0]})\n",
        "\n",
        "epochs = 10\n",
        "count = 0\n",
        "\n",
        "for epoch in range(epochs):\n",
        "    total_loss = 0\n",
        "    \n",
        "    idx_list = list(range(0, enc_tensor.shape[0], batch_size))\n",
        "    random.shuffle(idx_list)\n",
        "    t = tqdm(idx_list)   \n",
        "\n",
        "    for (batch, idx) in enumerate(t):\n",
        "        batch_loss = train_step(enc_tensor[idx:idx + batch_size],\n",
        "                                dec_tensor[idx:idx +  batch_size],\n",
        "                                encoder,\n",
        "                                decoder,\n",
        "                                optimizer,\n",
        "                                dec_tokenizer)\n",
        "    \n",
        "        total_loss += batch_loss\n",
        "\n",
        "        count += 1\n",
        "        \n",
        "        if count % len(idx_list) == 0:\n",
        "            fourth_model_loss_df.loc[epoch] = [epoch + 1, round(total_loss.numpy() / (batch + 1), 4)]\n",
        "            fourth_model_loss_df = fourth_model_loss_df.astype({'Epoch':'int'})\n",
        "        \n",
        "        t.set_description_str('Epoch %2d' % (epoch + 1))    \n",
        "        t.set_postfix_str('Loss %.4f' % (total_loss.numpy() / (batch + 1)))  "
      ],
      "metadata": {
        "colab": {
          "base_uri": "https://localhost:8080/"
        },
        "id": "3DK6bCOi18id",
        "outputId": "5532821e-df36-4294-8341-241ab973caa5"
      },
      "execution_count": null,
      "outputs": [
        {
          "output_type": "stream",
          "name": "stderr",
          "text": [
            "Epoch  1: 100%|██████████| 469/469 [01:59<00:00,  3.92it/s, Loss 4.5274]\n",
            "Epoch  2: 100%|██████████| 469/469 [00:44<00:00, 10.43it/s, Loss 4.4040]\n",
            "Epoch  3: 100%|██████████| 469/469 [00:44<00:00, 10.47it/s, Loss 4.4025]\n",
            "Epoch  4: 100%|██████████| 469/469 [00:45<00:00, 10.31it/s, Loss 4.4029]\n",
            "Epoch  5: 100%|██████████| 469/469 [00:44<00:00, 10.51it/s, Loss 4.4025]\n",
            "Epoch  6: 100%|██████████| 469/469 [00:44<00:00, 10.53it/s, Loss 4.4032]\n",
            "Epoch  7: 100%|██████████| 469/469 [00:44<00:00, 10.54it/s, Loss 4.2243]\n",
            "Epoch  8: 100%|██████████| 469/469 [00:45<00:00, 10.41it/s, Loss 3.9798]\n",
            "Epoch  9: 100%|██████████| 469/469 [00:44<00:00, 10.53it/s, Loss 3.8107]\n",
            "Epoch 10: 100%|██████████| 469/469 [00:44<00:00, 10.54it/s, Loss 3.6855]\n"
          ]
        }
      ]
    },
    {
      "cell_type": "code",
      "source": [
        "pd.set_option('display.max_rows', 4)\n",
        "fourth_model_loss_df"
      ],
      "metadata": {
        "colab": {
          "base_uri": "https://localhost:8080/",
          "height": 235
        },
        "id": "ooOAqt1WJMLa",
        "outputId": "d7b3d611-fdc6-49bd-c293-15a3cc7316b8"
      },
      "execution_count": null,
      "outputs": [
        {
          "output_type": "execute_result",
          "data": {
            "text/plain": [
              "    Epoch    Loss\n",
              "0       1  4.5274\n",
              "1       2  4.4040\n",
              "..    ...     ...\n",
              "8       9  3.8107\n",
              "9      10  3.6855\n",
              "\n",
              "[10 rows x 2 columns]"
            ],
            "text/html": [
              "\n",
              "  <div id=\"df-f7930fdf-fbe2-4b91-a4bd-b38479c3647c\">\n",
              "    <div class=\"colab-df-container\">\n",
              "      <div>\n",
              "<style scoped>\n",
              "    .dataframe tbody tr th:only-of-type {\n",
              "        vertical-align: middle;\n",
              "    }\n",
              "\n",
              "    .dataframe tbody tr th {\n",
              "        vertical-align: top;\n",
              "    }\n",
              "\n",
              "    .dataframe thead th {\n",
              "        text-align: right;\n",
              "    }\n",
              "</style>\n",
              "<table border=\"1\" class=\"dataframe\">\n",
              "  <thead>\n",
              "    <tr style=\"text-align: right;\">\n",
              "      <th></th>\n",
              "      <th>Epoch</th>\n",
              "      <th>Loss</th>\n",
              "    </tr>\n",
              "  </thead>\n",
              "  <tbody>\n",
              "    <tr>\n",
              "      <th>0</th>\n",
              "      <td>1</td>\n",
              "      <td>4.5274</td>\n",
              "    </tr>\n",
              "    <tr>\n",
              "      <th>1</th>\n",
              "      <td>2</td>\n",
              "      <td>4.4040</td>\n",
              "    </tr>\n",
              "    <tr>\n",
              "      <th>...</th>\n",
              "      <td>...</td>\n",
              "      <td>...</td>\n",
              "    </tr>\n",
              "    <tr>\n",
              "      <th>8</th>\n",
              "      <td>9</td>\n",
              "      <td>3.8107</td>\n",
              "    </tr>\n",
              "    <tr>\n",
              "      <th>9</th>\n",
              "      <td>10</td>\n",
              "      <td>3.6855</td>\n",
              "    </tr>\n",
              "  </tbody>\n",
              "</table>\n",
              "<p>10 rows × 2 columns</p>\n",
              "</div>\n",
              "      <button class=\"colab-df-convert\" onclick=\"convertToInteractive('df-f7930fdf-fbe2-4b91-a4bd-b38479c3647c')\"\n",
              "              title=\"Convert this dataframe to an interactive table.\"\n",
              "              style=\"display:none;\">\n",
              "        \n",
              "  <svg xmlns=\"http://www.w3.org/2000/svg\" height=\"24px\"viewBox=\"0 0 24 24\"\n",
              "       width=\"24px\">\n",
              "    <path d=\"M0 0h24v24H0V0z\" fill=\"none\"/>\n",
              "    <path d=\"M18.56 5.44l.94 2.06.94-2.06 2.06-.94-2.06-.94-.94-2.06-.94 2.06-2.06.94zm-11 1L8.5 8.5l.94-2.06 2.06-.94-2.06-.94L8.5 2.5l-.94 2.06-2.06.94zm10 10l.94 2.06.94-2.06 2.06-.94-2.06-.94-.94-2.06-.94 2.06-2.06.94z\"/><path d=\"M17.41 7.96l-1.37-1.37c-.4-.4-.92-.59-1.43-.59-.52 0-1.04.2-1.43.59L10.3 9.45l-7.72 7.72c-.78.78-.78 2.05 0 2.83L4 21.41c.39.39.9.59 1.41.59.51 0 1.02-.2 1.41-.59l7.78-7.78 2.81-2.81c.8-.78.8-2.07 0-2.86zM5.41 20L4 18.59l7.72-7.72 1.47 1.35L5.41 20z\"/>\n",
              "  </svg>\n",
              "      </button>\n",
              "      \n",
              "  <style>\n",
              "    .colab-df-container {\n",
              "      display:flex;\n",
              "      flex-wrap:wrap;\n",
              "      gap: 12px;\n",
              "    }\n",
              "\n",
              "    .colab-df-convert {\n",
              "      background-color: #E8F0FE;\n",
              "      border: none;\n",
              "      border-radius: 50%;\n",
              "      cursor: pointer;\n",
              "      display: none;\n",
              "      fill: #1967D2;\n",
              "      height: 32px;\n",
              "      padding: 0 0 0 0;\n",
              "      width: 32px;\n",
              "    }\n",
              "\n",
              "    .colab-df-convert:hover {\n",
              "      background-color: #E2EBFA;\n",
              "      box-shadow: 0px 1px 2px rgba(60, 64, 67, 0.3), 0px 1px 3px 1px rgba(60, 64, 67, 0.15);\n",
              "      fill: #174EA6;\n",
              "    }\n",
              "\n",
              "    [theme=dark] .colab-df-convert {\n",
              "      background-color: #3B4455;\n",
              "      fill: #D2E3FC;\n",
              "    }\n",
              "\n",
              "    [theme=dark] .colab-df-convert:hover {\n",
              "      background-color: #434B5C;\n",
              "      box-shadow: 0px 1px 3px 1px rgba(0, 0, 0, 0.15);\n",
              "      filter: drop-shadow(0px 1px 2px rgba(0, 0, 0, 0.3));\n",
              "      fill: #FFFFFF;\n",
              "    }\n",
              "  </style>\n",
              "\n",
              "      <script>\n",
              "        const buttonEl =\n",
              "          document.querySelector('#df-f7930fdf-fbe2-4b91-a4bd-b38479c3647c button.colab-df-convert');\n",
              "        buttonEl.style.display =\n",
              "          google.colab.kernel.accessAllowed ? 'block' : 'none';\n",
              "\n",
              "        async function convertToInteractive(key) {\n",
              "          const element = document.querySelector('#df-f7930fdf-fbe2-4b91-a4bd-b38479c3647c');\n",
              "          const dataTable =\n",
              "            await google.colab.kernel.invokeFunction('convertToInteractive',\n",
              "                                                     [key], {});\n",
              "          if (!dataTable) return;\n",
              "\n",
              "          const docLinkHtml = 'Like what you see? Visit the ' +\n",
              "            '<a target=\"_blank\" href=https://colab.research.google.com/notebooks/data_table.ipynb>data table notebook</a>'\n",
              "            + ' to learn more about interactive tables.';\n",
              "          element.innerHTML = '';\n",
              "          dataTable['output_type'] = 'display_data';\n",
              "          await google.colab.output.renderOutput(dataTable, element);\n",
              "          const docLink = document.createElement('div');\n",
              "          docLink.innerHTML = docLinkHtml;\n",
              "          element.appendChild(docLink);\n",
              "        }\n",
              "      </script>\n",
              "    </div>\n",
              "  </div>\n",
              "  "
            ]
          },
          "metadata": {},
          "execution_count": 60
        }
      ]
    },
    {
      "cell_type": "code",
      "source": [
        "fourth_model_loss_df.to_csv(\"/content/drive/MyDrive/lms/seq2seq_translation/fourth_model_loss.csv\", index = False)"
      ],
      "metadata": {
        "id": "GFPh3Vh1JMNc"
      },
      "execution_count": null,
      "outputs": []
    },
    {
      "cell_type": "markdown",
      "source": [
        "##Model Selection"
      ],
      "metadata": {
        "id": "CXtJNpr19xew"
      }
    },
    {
      "cell_type": "code",
      "source": [
        "first_loss = pd.read_csv(\"/content/drive/MyDrive/lms/seq2seq_translation/first_model_loss.csv\").iloc[-1]['Loss']\n",
        "second_loss = pd.read_csv(\"/content/drive/MyDrive/lms/seq2seq_translation/second_model_loss.csv\").iloc[-1]['Loss']\n",
        "third_loss = pd.read_csv(\"/content/drive/MyDrive/lms/seq2seq_translation/third_model_loss.csv\").iloc[-1]['Loss']\n",
        "fourth_loss = pd.read_csv(\"/content/drive/MyDrive/lms/seq2seq_translation/first_model_loss.csv\").iloc[-1]['Loss']\n",
        "\n",
        "hyperparameter_tuning_result = pd.DataFrame({'Batch Size':[64, 32, 128, 64],\n",
        "                             'Units':[1024, 256, 128, 128], \n",
        "                             'Embedding Dimension':[512, 64, 128, 64],\n",
        "                             'Epoch':[10, 10, 10, 10],\n",
        "                             'Loss':[first_loss, second_loss, third_loss, fourth_loss]},\n",
        "                             index=['Model 1', 'Model 2', 'Model 3', 'Model 4'])\n",
        "\n",
        "hyperparameter_tuning_result.sort_values(by='Loss', ascending=True)"
      ],
      "metadata": {
        "colab": {
          "base_uri": "https://localhost:8080/",
          "height": 175
        },
        "id": "R6DfBye490bf",
        "outputId": "122fe641-2617-4d65-c464-421d5d1bbc21"
      },
      "execution_count": null,
      "outputs": [
        {
          "output_type": "execute_result",
          "data": {
            "text/plain": [
              "         Batch Size  Units  Embedding Dimension  Epoch    Loss\n",
              "Model 3         128    128                  128     10  4.3875\n",
              "Model 2          32    256                   64     10  4.4448\n",
              "Model 1          64   1024                  512     10  4.5642\n",
              "Model 4          64    128                   64     10  4.5642"
            ],
            "text/html": [
              "\n",
              "  <div id=\"df-b6a597a7-4375-4ae6-a891-ec16f5b1f139\">\n",
              "    <div class=\"colab-df-container\">\n",
              "      <div>\n",
              "<style scoped>\n",
              "    .dataframe tbody tr th:only-of-type {\n",
              "        vertical-align: middle;\n",
              "    }\n",
              "\n",
              "    .dataframe tbody tr th {\n",
              "        vertical-align: top;\n",
              "    }\n",
              "\n",
              "    .dataframe thead th {\n",
              "        text-align: right;\n",
              "    }\n",
              "</style>\n",
              "<table border=\"1\" class=\"dataframe\">\n",
              "  <thead>\n",
              "    <tr style=\"text-align: right;\">\n",
              "      <th></th>\n",
              "      <th>Batch Size</th>\n",
              "      <th>Units</th>\n",
              "      <th>Embedding Dimension</th>\n",
              "      <th>Epoch</th>\n",
              "      <th>Loss</th>\n",
              "    </tr>\n",
              "  </thead>\n",
              "  <tbody>\n",
              "    <tr>\n",
              "      <th>Model 3</th>\n",
              "      <td>128</td>\n",
              "      <td>128</td>\n",
              "      <td>128</td>\n",
              "      <td>10</td>\n",
              "      <td>4.3875</td>\n",
              "    </tr>\n",
              "    <tr>\n",
              "      <th>Model 2</th>\n",
              "      <td>32</td>\n",
              "      <td>256</td>\n",
              "      <td>64</td>\n",
              "      <td>10</td>\n",
              "      <td>4.4448</td>\n",
              "    </tr>\n",
              "    <tr>\n",
              "      <th>Model 1</th>\n",
              "      <td>64</td>\n",
              "      <td>1024</td>\n",
              "      <td>512</td>\n",
              "      <td>10</td>\n",
              "      <td>4.5642</td>\n",
              "    </tr>\n",
              "    <tr>\n",
              "      <th>Model 4</th>\n",
              "      <td>64</td>\n",
              "      <td>128</td>\n",
              "      <td>64</td>\n",
              "      <td>10</td>\n",
              "      <td>4.5642</td>\n",
              "    </tr>\n",
              "  </tbody>\n",
              "</table>\n",
              "</div>\n",
              "      <button class=\"colab-df-convert\" onclick=\"convertToInteractive('df-b6a597a7-4375-4ae6-a891-ec16f5b1f139')\"\n",
              "              title=\"Convert this dataframe to an interactive table.\"\n",
              "              style=\"display:none;\">\n",
              "        \n",
              "  <svg xmlns=\"http://www.w3.org/2000/svg\" height=\"24px\"viewBox=\"0 0 24 24\"\n",
              "       width=\"24px\">\n",
              "    <path d=\"M0 0h24v24H0V0z\" fill=\"none\"/>\n",
              "    <path d=\"M18.56 5.44l.94 2.06.94-2.06 2.06-.94-2.06-.94-.94-2.06-.94 2.06-2.06.94zm-11 1L8.5 8.5l.94-2.06 2.06-.94-2.06-.94L8.5 2.5l-.94 2.06-2.06.94zm10 10l.94 2.06.94-2.06 2.06-.94-2.06-.94-.94-2.06-.94 2.06-2.06.94z\"/><path d=\"M17.41 7.96l-1.37-1.37c-.4-.4-.92-.59-1.43-.59-.52 0-1.04.2-1.43.59L10.3 9.45l-7.72 7.72c-.78.78-.78 2.05 0 2.83L4 21.41c.39.39.9.59 1.41.59.51 0 1.02-.2 1.41-.59l7.78-7.78 2.81-2.81c.8-.78.8-2.07 0-2.86zM5.41 20L4 18.59l7.72-7.72 1.47 1.35L5.41 20z\"/>\n",
              "  </svg>\n",
              "      </button>\n",
              "      \n",
              "  <style>\n",
              "    .colab-df-container {\n",
              "      display:flex;\n",
              "      flex-wrap:wrap;\n",
              "      gap: 12px;\n",
              "    }\n",
              "\n",
              "    .colab-df-convert {\n",
              "      background-color: #E8F0FE;\n",
              "      border: none;\n",
              "      border-radius: 50%;\n",
              "      cursor: pointer;\n",
              "      display: none;\n",
              "      fill: #1967D2;\n",
              "      height: 32px;\n",
              "      padding: 0 0 0 0;\n",
              "      width: 32px;\n",
              "    }\n",
              "\n",
              "    .colab-df-convert:hover {\n",
              "      background-color: #E2EBFA;\n",
              "      box-shadow: 0px 1px 2px rgba(60, 64, 67, 0.3), 0px 1px 3px 1px rgba(60, 64, 67, 0.15);\n",
              "      fill: #174EA6;\n",
              "    }\n",
              "\n",
              "    [theme=dark] .colab-df-convert {\n",
              "      background-color: #3B4455;\n",
              "      fill: #D2E3FC;\n",
              "    }\n",
              "\n",
              "    [theme=dark] .colab-df-convert:hover {\n",
              "      background-color: #434B5C;\n",
              "      box-shadow: 0px 1px 3px 1px rgba(0, 0, 0, 0.15);\n",
              "      filter: drop-shadow(0px 1px 2px rgba(0, 0, 0, 0.3));\n",
              "      fill: #FFFFFF;\n",
              "    }\n",
              "  </style>\n",
              "\n",
              "      <script>\n",
              "        const buttonEl =\n",
              "          document.querySelector('#df-b6a597a7-4375-4ae6-a891-ec16f5b1f139 button.colab-df-convert');\n",
              "        buttonEl.style.display =\n",
              "          google.colab.kernel.accessAllowed ? 'block' : 'none';\n",
              "\n",
              "        async function convertToInteractive(key) {\n",
              "          const element = document.querySelector('#df-b6a597a7-4375-4ae6-a891-ec16f5b1f139');\n",
              "          const dataTable =\n",
              "            await google.colab.kernel.invokeFunction('convertToInteractive',\n",
              "                                                     [key], {});\n",
              "          if (!dataTable) return;\n",
              "\n",
              "          const docLinkHtml = 'Like what you see? Visit the ' +\n",
              "            '<a target=\"_blank\" href=https://colab.research.google.com/notebooks/data_table.ipynb>data table notebook</a>'\n",
              "            + ' to learn more about interactive tables.';\n",
              "          element.innerHTML = '';\n",
              "          dataTable['output_type'] = 'display_data';\n",
              "          await google.colab.output.renderOutput(dataTable, element);\n",
              "          const docLink = document.createElement('div');\n",
              "          docLink.innerHTML = docLinkHtml;\n",
              "          element.appendChild(docLink);\n",
              "        }\n",
              "      </script>\n",
              "    </div>\n",
              "  </div>\n",
              "  "
            ]
          },
          "metadata": {},
          "execution_count": 89
        }
      ]
    },
    {
      "cell_type": "markdown",
      "source": [
        "#최종 모델"
      ],
      "metadata": {
        "id": "j95pEO9N3VQ3"
      }
    },
    {
      "cell_type": "markdown",
      "source": [
        "##Epoch Test"
      ],
      "metadata": {
        "id": "DqO9-d7eewMJ"
      }
    },
    {
      "cell_type": "code",
      "source": [
        "enc_corpus = []\n",
        "dec_corpus = []\n",
        "\n",
        "for ko_sen in ko_unique:\n",
        "  enc_corpus.append(ko_preprocess_sentence(ko_sen))\n",
        "\n",
        "for en_sen in en_unique:\n",
        "  dec_corpus.append(en_preprocess_sentence(en_sen, s_token=True, e_token=True))"
      ],
      "metadata": {
        "id": "a1xn59dELyEG"
      },
      "execution_count": null,
      "outputs": []
    },
    {
      "cell_type": "code",
      "source": [
        "enc_tensor, enc_tokenizer = tokenize(enc_corpus)\n",
        "dec_tensor, dec_tokenizer = tokenize(dec_corpus)"
      ],
      "metadata": {
        "id": "LdsLC3OWLyG0"
      },
      "execution_count": null,
      "outputs": []
    },
    {
      "cell_type": "code",
      "source": [
        "enc_train, enc_val, dec_train, dec_val = \\\n",
        "train_test_split(enc_tensor, dec_tensor, test_size=0.2)"
      ],
      "metadata": {
        "id": "DKkuyouaAR5r"
      },
      "execution_count": null,
      "outputs": []
    },
    {
      "cell_type": "markdown",
      "source": [
        "데이터를 훈련 데이터와 검증 데이터로 분리한다."
      ],
      "metadata": {
        "id": "ce8TyvDpATuU"
      }
    },
    {
      "cell_type": "code",
      "source": [
        "print(\"Korean Vocab Size :\", len(enc_tokenizer.index_word))\n",
        "print(\"English Vocab Size :\", len(dec_tokenizer.index_word))"
      ],
      "metadata": {
        "colab": {
          "base_uri": "https://localhost:8080/"
        },
        "id": "gGpV3qwqLyJM",
        "outputId": "d41b7049-98c6-4340-802e-ca147c282384"
      },
      "execution_count": null,
      "outputs": [
        {
          "output_type": "stream",
          "name": "stdout",
          "text": [
            "Korean Vocab Size : 49786\n",
            "English Vocab Size : 44460\n"
          ]
        }
      ]
    },
    {
      "cell_type": "code",
      "source": [
        "batch_size     = 64\n",
        "src_vocab_size = len(enc_tokenizer.index_word) + 1\n",
        "tgt_vocab_size = len(dec_tokenizer.index_word) + 1\n",
        "\n",
        "units         = 128\n",
        "embedding_dim = 64\n",
        "dropout = 0.2\n",
        "\n",
        "encoder = Encoder(src_vocab_size, embedding_dim, units, dropout)\n",
        "decoder = Decoder(tgt_vocab_size, embedding_dim, units, dropout)\n",
        "\n",
        "# sample input\n",
        "sequence_len = 30\n",
        "\n",
        "sample_enc = tf.random.uniform((batch_size, sequence_len))\n",
        "sample_output = encoder(sample_enc)\n",
        "\n",
        "print ('Encoder Output :', sample_output.shape)\n",
        "\n",
        "sample_state = tf.random.uniform((batch_size, units))\n",
        "\n",
        "sample_logits, h_dec, attn = decoder(tf.random.uniform((batch_size, 1)),\n",
        "                                     sample_state, sample_output)\n",
        "\n",
        "print ('Decoder Output :', sample_logits.shape)\n",
        "print ('Decoder Hidden State :', h_dec.shape)\n",
        "print ('Attention :', attn.shape)"
      ],
      "metadata": {
        "colab": {
          "base_uri": "https://localhost:8080/"
        },
        "id": "MXjEoz5ALyK5",
        "outputId": "62920a8a-a68b-4045-9c22-60fa84f59205"
      },
      "execution_count": null,
      "outputs": [
        {
          "output_type": "stream",
          "name": "stdout",
          "text": [
            "Encoder Output : (64, 30, 128)\n",
            "Decoder Output : (64, 44461)\n",
            "Decoder Hidden State : (64, 128)\n",
            "Attention : (64, 30, 1)\n"
          ]
        }
      ]
    },
    {
      "cell_type": "code",
      "source": [
        "@tf.function\n",
        "def eval_step(src, tgt, encoder, decoder, dec_tok):\n",
        "    bsz = src.shape[0]\n",
        "    loss = 0\n",
        "\n",
        "    enc_out = encoder(src)\n",
        "\n",
        "    h_dec = enc_out[:, -1]\n",
        "    \n",
        "    dec_src = tf.expand_dims([dec_tok.word_index['<start>']] * bsz, 1)\n",
        "\n",
        "    for t in range(1, tgt.shape[1]):\n",
        "        pred, h_dec, _ = decoder(dec_src, h_dec, enc_out)\n",
        "\n",
        "        loss += loss_function(tgt[:, t], pred)\n",
        "        dec_src = tf.expand_dims(tgt[:, t], 1)\n",
        "        \n",
        "    batch_loss = (loss / int(tgt.shape[1]))\n",
        "    \n",
        "    return batch_loss"
      ],
      "metadata": {
        "id": "hgrWW1s6-9Iu"
      },
      "execution_count": null,
      "outputs": []
    },
    {
      "cell_type": "markdown",
      "source": [
        "훈련 데이터와 검증 데이터를 사용하는 eval_step()을 정의한다."
      ],
      "metadata": {
        "id": "WZXteVYC-mGW"
      }
    },
    {
      "cell_type": "code",
      "source": [
        "model_loss_df = pd.DataFrame({'Epoch':[0], 'Train Loss':[0], 'Test Loss':[0]})\n",
        "\n",
        "epochs = 50\n",
        "train_count = 0\n",
        "test_count = 0\n",
        "\n",
        "sentence_list = [\"오바마는 대통령이다.\", \"시민들은 도시 속에 산다.\",\n",
        "                 \"커피는 필요 없다.\", \"일곱 명의 사망자가 발생했다.\"]\n",
        "                 \n",
        "\n",
        "for epoch in range(epochs):\n",
        "    total_loss = 0\n",
        "    \n",
        "    idx_list = list(range(0, enc_train.shape[0], batch_size))\n",
        "    random.shuffle(idx_list)\n",
        "\n",
        "    for (batch, idx) in enumerate(idx_list):\n",
        "        batch_loss = train_step(enc_train[idx:idx + batch_size],\n",
        "                                dec_train[idx:idx + batch_size],\n",
        "                                encoder,\n",
        "                                decoder,\n",
        "                                optimizer,\n",
        "                                dec_tokenizer)\n",
        "    \n",
        "        total_loss += batch_loss\n",
        "\n",
        "        train_count += 1\n",
        "\n",
        "        if train_count % len(idx_list) == 0:\n",
        "            model_loss_df.loc[epoch] = [epoch + 1, round(total_loss.numpy() / (batch + 1), 4), 0]\n",
        "            model_loss_df = model_loss_df.astype({'Epoch':'int'})\n",
        "\n",
        "            if epoch == 0 or ((epoch + 1) % 5 == 0 and epoch + 1 <= 30) or ((epoch + 1) % 2 == 0 and (epoch + 1) > 30):\n",
        "                print('Epoch {}'.format(epoch + 1))\n",
        "                print('Train Loss {:.4f}'.format(total_loss.numpy() / (batch + 1)), end=\"  \")\n",
        "\n",
        "    \n",
        "    test_loss = 0\n",
        "    \n",
        "    idx_list = list(range(0, enc_val.shape[0], batch_size))\n",
        "    random.shuffle(idx_list)\n",
        "\n",
        "    for (test_batch, idx) in enumerate(idx_list):\n",
        "        test_batch_loss = eval_step(enc_val[idx:idx + batch_size],\n",
        "                                    dec_val[idx:idx + batch_size],\n",
        "                                    encoder,\n",
        "                                    decoder,\n",
        "                                    dec_tokenizer)\n",
        "    \n",
        "        test_loss += test_batch_loss\n",
        "\n",
        "        test_count += 1\n",
        "        \n",
        "        if test_count % len(idx_list) == 0:\n",
        "            model_loss_df.loc[epoch, 'Test Loss'] = [round(test_loss.numpy() / (test_batch + 1), 4)]\n",
        "\n",
        "            if epoch == 0 or ((epoch + 1) % 5 == 0 and epoch + 1 <= 30) or ((epoch + 1) % 2 == 0 and (epoch + 1) > 30):\n",
        "                print('Test Loss {:.4f}'.format(test_loss.numpy() / (test_batch + 1)))\n",
        "                print()\n",
        "\n",
        "                for sentence in sentence_list:\n",
        "                  sentence_translator(sentence, encoder, decoder)\n",
        "                  print()\n",
        "                print()"
      ],
      "metadata": {
        "id": "5lxWGDhL2Bcu",
        "colab": {
          "base_uri": "https://localhost:8080/"
        },
        "outputId": "1221f99e-8f80-4409-b472-8e75804a1953"
      },
      "execution_count": null,
      "outputs": [
        {
          "output_type": "stream",
          "name": "stdout",
          "text": [
            "Epoch 1\n",
            "Train Loss 4.4504  Test Loss 4.4120\n",
            "\n",
            "Input : 오바마는 대통령이다 .\n",
            "Predicted translation : the the the the the the the the the the the the the the the the the the the the the the the the the the the the the the the the the the the the the the the the \n",
            "\n",
            "Input : 시민들은 도시 속에 산다 .\n",
            "Predicted translation : the the the the the the the the the the the the the the the the the the the the the the the the the the the the the the the the the the the the the the the the \n",
            "\n",
            "Input : 커피는 필요 없다 .\n",
            "Predicted translation : the the the the the the the the the the the the the the the the the the the the the the the the the the the the the the the the the the the the the the the the \n",
            "\n",
            "Input : 일곱 명의 사망자가 발생했다 .\n",
            "Predicted translation : the the the the the the the the the the the the the the the the the the the the the the the the the the the the the the the the the the the the the the the the \n",
            "\n",
            "\n",
            "Epoch 5\n",
            "Train Loss 3.9160  Test Loss 3.8064\n",
            "\n",
            "Input : 오바마는 대통령이다 .\n",
            "Predicted translation : the u . s . <end> \n",
            "\n",
            "Input : 시민들은 도시 속에 산다 .\n",
            "Predicted translation : the first year . <end> \n",
            "\n",
            "Input : 커피는 필요 없다 .\n",
            "Predicted translation : the first year . <end> \n",
            "\n",
            "Input : 일곱 명의 사망자가 발생했다 .\n",
            "Predicted translation : the u . s . <end> \n",
            "\n",
            "\n",
            "Epoch 10\n",
            "Train Loss 3.1338  Test Loss 3.3744\n",
            "\n",
            "Input : 오바마는 대통령이다 .\n",
            "Predicted translation : obama is a lot of the first time . <end> \n",
            "\n",
            "Input : 시민들은 도시 속에 산다 .\n",
            "Predicted translation : the report . <end> \n",
            "\n",
            "Input : 커피는 필요 없다 .\n",
            "Predicted translation : the best of the best of the best of the best of the best of the best of the best of the best of the best of the best of the best of the best of the best of the \n",
            "\n",
            "Input : 일곱 명의 사망자가 발생했다 .\n",
            "Predicted translation : the united states was killed in the city of the year old girl was killed in the city of the year old girl was killed in the city of the year old girl was killed in the city of the \n",
            "\n",
            "\n",
            "Epoch 15\n",
            "Train Loss 2.7596  Test Loss 3.3269\n",
            "\n",
            "Input : 오바마는 대통령이다 .\n",
            "Predicted translation : obama is a good time . <end> \n",
            "\n",
            "Input : 시민들은 도시 속에 산다 .\n",
            "Predicted translation : the people are still . <end> \n",
            "\n",
            "Input : 커피는 필요 없다 .\n",
            "Predicted translation : the same time . <end> \n",
            "\n",
            "Input : 일곱 명의 사망자가 발생했다 .\n",
            "Predicted translation : the year old . <end> \n",
            "\n",
            "\n",
            "Epoch 20\n",
            "Train Loss 2.4977  Test Loss 3.4098\n",
            "\n",
            "Input : 오바마는 대통령이다 .\n",
            "Predicted translation : obama is a lot of the obama campaign . <end> \n",
            "\n",
            "Input : 시민들은 도시 속에 산다 .\n",
            "Predicted translation : the number of the city s most populous country s most populous country s most populous country s most populous country s most populous country s most populous country s most populous country s most populous country s most populous \n",
            "\n",
            "Input : 커피는 필요 없다 .\n",
            "Predicted translation : the other thing is that s a lot of the same time . <end> \n",
            "\n",
            "Input : 일곱 명의 사망자가 발생했다 .\n",
            "Predicted translation : two people were killed . <end> \n",
            "\n",
            "\n",
            "Epoch 25\n",
            "Train Loss 2.3102  Test Loss 3.5333\n",
            "\n",
            "Input : 오바마는 대통령이다 .\n",
            "Predicted translation : obama is a new prime minister . <end> \n",
            "\n",
            "Input : 시민들은 도시 속에 산다 .\n",
            "Predicted translation : the people have been killed in the region . <end> \n",
            "\n",
            "Input : 커피는 필요 없다 .\n",
            "Predicted translation : the most important layer of the coffee destination <end> \n",
            "\n",
            "Input : 일곱 명의 사망자가 발생했다 .\n",
            "Predicted translation : two people were killed . <end> \n",
            "\n",
            "\n",
            "Epoch 30\n",
            "Train Loss 2.1653  Test Loss 3.6602\n",
            "\n",
            "Input : 오바마는 대통령이다 .\n",
            "Predicted translation : obama is a little bit of the obama campaign . <end> \n",
            "\n",
            "Input : 시민들은 도시 속에 산다 .\n",
            "Predicted translation : the number of the region . <end> \n",
            "\n",
            "Input : 커피는 필요 없다 .\n",
            "Predicted translation : the ultimate staph celeste is not a little oktoberfest . <end> \n",
            "\n",
            "Input : 일곱 명의 사망자가 발생했다 .\n",
            "Predicted translation : two people were killed . <end> \n",
            "\n",
            "\n",
            "Epoch 32\n",
            "Train Loss 2.1159  Test Loss 3.7098\n",
            "\n",
            "Input : 오바마는 대통령이다 .\n",
            "Predicted translation : obama is a lot of the obama campaign . <end> \n",
            "\n",
            "Input : 시민들은 도시 속에 산다 .\n",
            "Predicted translation : they are also depressed . <end> \n",
            "\n",
            "Input : 커피는 필요 없다 .\n",
            "Predicted translation : the only factor . <end> \n",
            "\n",
            "Input : 일곱 명의 사망자가 발생했다 .\n",
            "Predicted translation : two people were killed . <end> \n",
            "\n",
            "\n",
            "Epoch 34\n",
            "Train Loss 2.0720  Test Loss 3.7616\n",
            "\n",
            "Input : 오바마는 대통령이다 .\n",
            "Predicted translation : obama s president obama is readying for the nation . <end> \n",
            "\n",
            "Input : 시민들은 도시 속에 산다 .\n",
            "Predicted translation : they are also depressed . <end> \n",
            "\n",
            "Input : 커피는 필요 없다 .\n",
            "Predicted translation : the overanalytical carrie <end> \n",
            "\n",
            "Input : 일곱 명의 사망자가 발생했다 .\n",
            "Predicted translation : two people were killed . <end> \n",
            "\n",
            "\n",
            "Epoch 36\n",
            "Train Loss 2.0297  Test Loss 3.8094\n",
            "\n",
            "Input : 오바마는 대통령이다 .\n",
            "Predicted translation : obama is readying to be sworn in the obama campaign . <end> \n",
            "\n",
            "Input : 시민들은 도시 속에 산다 .\n",
            "Predicted translation : they are also depressed urban areas . <end> \n",
            "\n",
            "Input : 커피는 필요 없다 .\n",
            "Predicted translation : the only factor that s a cliche because it can be a little trickier . <end> \n",
            "\n",
            "Input : 일곱 명의 사망자가 발생했다 .\n",
            "Predicted translation : two people were killed . <end> \n",
            "\n",
            "\n",
            "Epoch 38\n",
            "Train Loss 1.9901  Test Loss 3.8532\n",
            "\n",
            "Input : 오바마는 대통령이다 .\n",
            "Predicted translation : obama is a good job <end> \n",
            "\n",
            "Input : 시민들은 도시 속에 산다 .\n",
            "Predicted translation : they are also lists and cities . <end> \n",
            "\n",
            "Input : 커피는 필요 없다 .\n",
            "Predicted translation : the time they re getting out . <end> \n",
            "\n",
            "Input : 일곱 명의 사망자가 발생했다 .\n",
            "Predicted translation : two people were killed . <end> \n",
            "\n",
            "\n",
            "Epoch 40\n",
            "Train Loss 1.9546  Test Loss 3.8965\n",
            "\n",
            "Input : 오바마는 대통령이다 .\n",
            "Predicted translation : obama is a good job <end> \n",
            "\n",
            "Input : 시민들은 도시 속에 산다 .\n",
            "Predicted translation : they are also lists and cities . <end> \n",
            "\n",
            "Input : 커피는 필요 없다 .\n",
            "Predicted translation : the only factor they can be a little bit of the coffee destination <end> \n",
            "\n",
            "Input : 일곱 명의 사망자가 발생했다 .\n",
            "Predicted translation : two people were killed . <end> \n",
            "\n",
            "\n",
            "Epoch 42\n",
            "Train Loss 1.9206  Test Loss 3.9400\n",
            "\n",
            "Input : 오바마는 대통령이다 .\n",
            "Predicted translation : obama s president obama obama s president obama . <end> \n",
            "\n",
            "Input : 시민들은 도시 속에 산다 .\n",
            "Predicted translation : the number of violence . <end> \n",
            "\n",
            "Input : 커피는 필요 없다 .\n",
            "Predicted translation : the overanalytical carrie <end> \n",
            "\n",
            "Input : 일곱 명의 사망자가 발생했다 .\n",
            "Predicted translation : two people were killed . <end> \n",
            "\n",
            "\n",
            "Epoch 44\n",
            "Train Loss 1.8897  Test Loss 3.9832\n",
            "\n",
            "Input : 오바마는 대통령이다 .\n",
            "Predicted translation : obama s secretary of state . <end> \n",
            "\n",
            "Input : 시민들은 도시 속에 산다 .\n",
            "Predicted translation : they are currently , people are still relatively mild than people . <end> \n",
            "\n",
            "Input : 커피는 필요 없다 .\n",
            "Predicted translation : the overanalytical carrie <end> \n",
            "\n",
            "Input : 일곱 명의 사망자가 발생했다 .\n",
            "Predicted translation : two people were killed . <end> \n",
            "\n",
            "\n",
            "Epoch 46\n",
            "Train Loss 1.8584  Test Loss 4.0279\n",
            "\n",
            "Input : 오바마는 대통령이다 .\n",
            "Predicted translation : obama s secretary of illinois is obama . <end> \n",
            "\n",
            "Input : 시민들은 도시 속에 산다 .\n",
            "Predicted translation : they are also depressed clothes . <end> \n",
            "\n",
            "Input : 커피는 필요 없다 .\n",
            "Predicted translation : the only thing you can be in the same type of lights . <end> \n",
            "\n",
            "Input : 일곱 명의 사망자가 발생했다 .\n",
            "Predicted translation : two people were killed . <end> \n",
            "\n",
            "\n",
            "Epoch 48\n",
            "Train Loss 1.8311  Test Loss 4.0688\n",
            "\n",
            "Input : 오바마는 대통령이다 .\n",
            "Predicted translation : obama s president clinton obama s president . <end> \n",
            "\n",
            "Input : 시민들은 도시 속에 산다 .\n",
            "Predicted translation : they are currently , or are in the same number of the streets of the streets of the streets of the streets of the streets of the streets of the streets of the streets of the streets of the streets \n",
            "\n",
            "Input : 커피는 필요 없다 .\n",
            "Predicted translation : the overanalytical carrie ? <end> \n",
            "\n",
            "Input : 일곱 명의 사망자가 발생했다 .\n",
            "Predicted translation : two people were killed . <end> \n",
            "\n",
            "\n",
            "Epoch 50\n",
            "Train Loss 1.8062  Test Loss 4.1101\n",
            "\n",
            "Input : 오바마는 대통령이다 .\n",
            "Predicted translation : obama s secretary of illinois . <end> \n",
            "\n",
            "Input : 시민들은 도시 속에 산다 .\n",
            "Predicted translation : they are also lists or . <end> \n",
            "\n",
            "Input : 커피는 필요 없다 .\n",
            "Predicted translation : the only factor . <end> \n",
            "\n",
            "Input : 일곱 명의 사망자가 발생했다 .\n",
            "Predicted translation : two people were killed . <end> \n",
            "\n",
            "\n"
          ]
        }
      ]
    },
    {
      "cell_type": "code",
      "source": [
        "with pd.option_context('display.max_rows',None):\n",
        "  display(model_loss_df[(model_loss_df.Epoch == 1) | (model_loss_df.Epoch % 10 == 0)])"
      ],
      "metadata": {
        "colab": {
          "base_uri": "https://localhost:8080/",
          "height": 237
        },
        "id": "ovPy70d_RWpX",
        "outputId": "9b5b6bfc-e41d-4be1-b246-2c1d34a95d23"
      },
      "execution_count": null,
      "outputs": [
        {
          "output_type": "display_data",
          "data": {
            "text/plain": [
              "    Epoch  Train Loss  Test Loss\n",
              "0       1      4.4504     4.4120\n",
              "9      10      3.1338     3.3744\n",
              "19     20      2.4977     3.4098\n",
              "29     30      2.1653     3.6602\n",
              "39     40      1.9546     3.8965\n",
              "49     50      1.8062     4.1101"
            ],
            "text/html": [
              "\n",
              "  <div id=\"df-6d3ecb76-8e9d-445d-b051-45ab4ecb905c\">\n",
              "    <div class=\"colab-df-container\">\n",
              "      <div>\n",
              "<style scoped>\n",
              "    .dataframe tbody tr th:only-of-type {\n",
              "        vertical-align: middle;\n",
              "    }\n",
              "\n",
              "    .dataframe tbody tr th {\n",
              "        vertical-align: top;\n",
              "    }\n",
              "\n",
              "    .dataframe thead th {\n",
              "        text-align: right;\n",
              "    }\n",
              "</style>\n",
              "<table border=\"1\" class=\"dataframe\">\n",
              "  <thead>\n",
              "    <tr style=\"text-align: right;\">\n",
              "      <th></th>\n",
              "      <th>Epoch</th>\n",
              "      <th>Train Loss</th>\n",
              "      <th>Test Loss</th>\n",
              "    </tr>\n",
              "  </thead>\n",
              "  <tbody>\n",
              "    <tr>\n",
              "      <th>0</th>\n",
              "      <td>1</td>\n",
              "      <td>4.4504</td>\n",
              "      <td>4.4120</td>\n",
              "    </tr>\n",
              "    <tr>\n",
              "      <th>9</th>\n",
              "      <td>10</td>\n",
              "      <td>3.1338</td>\n",
              "      <td>3.3744</td>\n",
              "    </tr>\n",
              "    <tr>\n",
              "      <th>19</th>\n",
              "      <td>20</td>\n",
              "      <td>2.4977</td>\n",
              "      <td>3.4098</td>\n",
              "    </tr>\n",
              "    <tr>\n",
              "      <th>29</th>\n",
              "      <td>30</td>\n",
              "      <td>2.1653</td>\n",
              "      <td>3.6602</td>\n",
              "    </tr>\n",
              "    <tr>\n",
              "      <th>39</th>\n",
              "      <td>40</td>\n",
              "      <td>1.9546</td>\n",
              "      <td>3.8965</td>\n",
              "    </tr>\n",
              "    <tr>\n",
              "      <th>49</th>\n",
              "      <td>50</td>\n",
              "      <td>1.8062</td>\n",
              "      <td>4.1101</td>\n",
              "    </tr>\n",
              "  </tbody>\n",
              "</table>\n",
              "</div>\n",
              "      <button class=\"colab-df-convert\" onclick=\"convertToInteractive('df-6d3ecb76-8e9d-445d-b051-45ab4ecb905c')\"\n",
              "              title=\"Convert this dataframe to an interactive table.\"\n",
              "              style=\"display:none;\">\n",
              "        \n",
              "  <svg xmlns=\"http://www.w3.org/2000/svg\" height=\"24px\"viewBox=\"0 0 24 24\"\n",
              "       width=\"24px\">\n",
              "    <path d=\"M0 0h24v24H0V0z\" fill=\"none\"/>\n",
              "    <path d=\"M18.56 5.44l.94 2.06.94-2.06 2.06-.94-2.06-.94-.94-2.06-.94 2.06-2.06.94zm-11 1L8.5 8.5l.94-2.06 2.06-.94-2.06-.94L8.5 2.5l-.94 2.06-2.06.94zm10 10l.94 2.06.94-2.06 2.06-.94-2.06-.94-.94-2.06-.94 2.06-2.06.94z\"/><path d=\"M17.41 7.96l-1.37-1.37c-.4-.4-.92-.59-1.43-.59-.52 0-1.04.2-1.43.59L10.3 9.45l-7.72 7.72c-.78.78-.78 2.05 0 2.83L4 21.41c.39.39.9.59 1.41.59.51 0 1.02-.2 1.41-.59l7.78-7.78 2.81-2.81c.8-.78.8-2.07 0-2.86zM5.41 20L4 18.59l7.72-7.72 1.47 1.35L5.41 20z\"/>\n",
              "  </svg>\n",
              "      </button>\n",
              "      \n",
              "  <style>\n",
              "    .colab-df-container {\n",
              "      display:flex;\n",
              "      flex-wrap:wrap;\n",
              "      gap: 12px;\n",
              "    }\n",
              "\n",
              "    .colab-df-convert {\n",
              "      background-color: #E8F0FE;\n",
              "      border: none;\n",
              "      border-radius: 50%;\n",
              "      cursor: pointer;\n",
              "      display: none;\n",
              "      fill: #1967D2;\n",
              "      height: 32px;\n",
              "      padding: 0 0 0 0;\n",
              "      width: 32px;\n",
              "    }\n",
              "\n",
              "    .colab-df-convert:hover {\n",
              "      background-color: #E2EBFA;\n",
              "      box-shadow: 0px 1px 2px rgba(60, 64, 67, 0.3), 0px 1px 3px 1px rgba(60, 64, 67, 0.15);\n",
              "      fill: #174EA6;\n",
              "    }\n",
              "\n",
              "    [theme=dark] .colab-df-convert {\n",
              "      background-color: #3B4455;\n",
              "      fill: #D2E3FC;\n",
              "    }\n",
              "\n",
              "    [theme=dark] .colab-df-convert:hover {\n",
              "      background-color: #434B5C;\n",
              "      box-shadow: 0px 1px 3px 1px rgba(0, 0, 0, 0.15);\n",
              "      filter: drop-shadow(0px 1px 2px rgba(0, 0, 0, 0.3));\n",
              "      fill: #FFFFFF;\n",
              "    }\n",
              "  </style>\n",
              "\n",
              "      <script>\n",
              "        const buttonEl =\n",
              "          document.querySelector('#df-6d3ecb76-8e9d-445d-b051-45ab4ecb905c button.colab-df-convert');\n",
              "        buttonEl.style.display =\n",
              "          google.colab.kernel.accessAllowed ? 'block' : 'none';\n",
              "\n",
              "        async function convertToInteractive(key) {\n",
              "          const element = document.querySelector('#df-6d3ecb76-8e9d-445d-b051-45ab4ecb905c');\n",
              "          const dataTable =\n",
              "            await google.colab.kernel.invokeFunction('convertToInteractive',\n",
              "                                                     [key], {});\n",
              "          if (!dataTable) return;\n",
              "\n",
              "          const docLinkHtml = 'Like what you see? Visit the ' +\n",
              "            '<a target=\"_blank\" href=https://colab.research.google.com/notebooks/data_table.ipynb>data table notebook</a>'\n",
              "            + ' to learn more about interactive tables.';\n",
              "          element.innerHTML = '';\n",
              "          dataTable['output_type'] = 'display_data';\n",
              "          await google.colab.output.renderOutput(dataTable, element);\n",
              "          const docLink = document.createElement('div');\n",
              "          docLink.innerHTML = docLinkHtml;\n",
              "          element.appendChild(docLink);\n",
              "        }\n",
              "      </script>\n",
              "    </div>\n",
              "  </div>\n",
              "  "
            ]
          },
          "metadata": {}
        }
      ]
    },
    {
      "cell_type": "code",
      "source": [
        "model_loss_df.to_csv(\"/content/drive/MyDrive/lms/seq2seq_translation/model_loss.csv\", index = False)"
      ],
      "metadata": {
        "id": "9eakCSKfdQev"
      },
      "execution_count": null,
      "outputs": []
    },
    {
      "cell_type": "code",
      "source": [
        "plt.figure(figsize=[12, 4])\n",
        "plt.plot(model_loss_df['Train Loss'] , label=\"Train Loss\")\n",
        "plt.plot(model_loss_df['Test Loss'], label=\"Test Loss\")\n",
        "plt.legend()\n",
        "plt.title('Loss')\n",
        "plt.xlabel('Epoch')\n",
        "plt.ylabel('Value')\n",
        "plt.show()"
      ],
      "metadata": {
        "id": "kReEdBnCTuF9",
        "colab": {
          "base_uri": "https://localhost:8080/",
          "height": 297
        },
        "outputId": "3ee84410-5dc5-4833-ba7d-b46e1a843b10"
      },
      "execution_count": null,
      "outputs": [
        {
          "output_type": "display_data",
          "data": {
            "text/plain": [
              "<Figure size 864x288 with 1 Axes>"
            ],
            "image/png": "[encoded data removed]"
          },
          "metadata": {
            "image/png": {
              "width": 720,
              "height": 280
            },
            "needs_background": "light"
          }
        }
      ]
    },
    {
      "cell_type": "markdown",
      "source": [
        "최종 모델의 Epoch을 40으로 설정한다.\n",
        "<br/>Epoch 40 이상부터는 Train Loss의 변화가 거의 없고 Test Loss가 증가하여 과적합 문제가 심해진다."
      ],
      "metadata": {
        "id": "ZWjz_jwMEYFP"
      }
    },
    {
      "cell_type": "markdown",
      "source": [
        "##Model Evaluation"
      ],
      "metadata": {
        "id": "P3vUPoRni9M1"
      }
    },
    {
      "cell_type": "code",
      "source": [
        "final_model_loss_df = pd.DataFrame({'Epoch':[0], 'Train Loss':[0], 'Test Loss':[0]})\n",
        "\n",
        "epochs = 40\n",
        "train_count = 0\n",
        "test_count = 0  \n",
        "\n",
        "for epoch in range(epochs):\n",
        "    total_loss = 0\n",
        "    \n",
        "    idx_list = list(range(0, enc_train.shape[0], batch_size))\n",
        "    random.shuffle(idx_list)\n",
        "\n",
        "    for (batch, idx) in enumerate(idx_list):\n",
        "        batch_loss = train_step(enc_train[idx:idx + batch_size],\n",
        "                                dec_train[idx:idx + batch_size],\n",
        "                                encoder,\n",
        "                                decoder,\n",
        "                                optimizer,\n",
        "                                dec_tokenizer)\n",
        "    \n",
        "        total_loss += batch_loss\n",
        "\n",
        "        train_count += 1\n",
        "\n",
        "        if train_count % len(idx_list) == 0:\n",
        "            final_model_loss_df.loc[epoch] = [epoch + 1, round(total_loss.numpy() / (batch + 1), 4), 0]\n",
        "            final_model_loss_df = final_model_loss_df.astype({'Epoch':'int'})\n",
        "\n",
        "            if epoch == 0 or (epoch + 1) % 10 == 0:\n",
        "                print('Epoch {}  Train Loss {:.4f}'.format(epoch + 1, total_loss.numpy() / (batch + 1)), end=\"  \")\n",
        "\n",
        "    \n",
        "    test_loss = 0\n",
        "    \n",
        "    idx_list = list(range(0, enc_val.shape[0], batch_size))\n",
        "    random.shuffle(idx_list)\n",
        "\n",
        "    for (test_batch, idx) in enumerate(idx_list):\n",
        "        test_batch_loss = eval_step(enc_val[idx:idx + batch_size],\n",
        "                                    dec_val[idx:idx + batch_size],\n",
        "                                    encoder,\n",
        "                                    decoder,\n",
        "                                    dec_tokenizer)\n",
        "    \n",
        "        test_loss += test_batch_loss\n",
        "\n",
        "        test_count += 1\n",
        "        \n",
        "        if test_count % len(idx_list) == 0:\n",
        "            final_model_loss_df.loc[epoch, 'Test Loss'] = [round(test_loss.numpy() / (test_batch + 1), 4)]\n",
        "\n",
        "            if epoch == 0 or (epoch + 1) % 10 == 0:\n",
        "                print('Test Loss {:.4f}'.format(test_loss.numpy() / (test_batch + 1)))"
      ],
      "metadata": {
        "colab": {
          "base_uri": "https://localhost:8080/"
        },
        "id": "tHbuhpgSLfCy",
        "outputId": "202ad722-274d-46f3-c106-ceb680941e7a"
      },
      "execution_count": null,
      "outputs": [
        {
          "output_type": "stream",
          "name": "stdout",
          "text": [
            "Epoch 1  Train Loss 4.4557  Test Loss 4.3959\n",
            "Epoch 10  Train Loss 3.1322  Test Loss 3.3625\n",
            "Epoch 20  Train Loss 2.5257  Test Loss 3.4187\n",
            "Epoch 30  Train Loss 2.2004  Test Loss 3.6839\n",
            "Epoch 40  Train Loss 1.9897  Test Loss 3.9271\n"
          ]
        }
      ]
    },
    {
      "cell_type": "code",
      "source": [
        "pd.set_option('display.max_rows', 4)\n",
        "final_model_loss_df"
      ],
      "metadata": {
        "colab": {
          "base_uri": "https://localhost:8080/",
          "height": 235
        },
        "id": "bWoVvXy2vLuS",
        "outputId": "15688737-28c1-452a-eb63-f1e7f3a8ef9f"
      },
      "execution_count": null,
      "outputs": [
        {
          "output_type": "execute_result",
          "data": {
            "text/plain": [
              "    Epoch  Train Loss  Test Loss\n",
              "0       1      4.4557     4.3959\n",
              "1       2      4.3832     4.4076\n",
              "..    ...         ...        ...\n",
              "38     39      2.0059     3.9049\n",
              "39     40      1.9897     3.9271\n",
              "\n",
              "[40 rows x 3 columns]"
            ],
            "text/html": [
              "\n",
              "  <div id=\"df-a96d5d8a-ac45-4c6f-8dcf-b93dc6ee0d9a\">\n",
              "    <div class=\"colab-df-container\">\n",
              "      <div>\n",
              "<style scoped>\n",
              "    .dataframe tbody tr th:only-of-type {\n",
              "        vertical-align: middle;\n",
              "    }\n",
              "\n",
              "    .dataframe tbody tr th {\n",
              "        vertical-align: top;\n",
              "    }\n",
              "\n",
              "    .dataframe thead th {\n",
              "        text-align: right;\n",
              "    }\n",
              "</style>\n",
              "<table border=\"1\" class=\"dataframe\">\n",
              "  <thead>\n",
              "    <tr style=\"text-align: right;\">\n",
              "      <th></th>\n",
              "      <th>Epoch</th>\n",
              "      <th>Train Loss</th>\n",
              "      <th>Test Loss</th>\n",
              "    </tr>\n",
              "  </thead>\n",
              "  <tbody>\n",
              "    <tr>\n",
              "      <th>0</th>\n",
              "      <td>1</td>\n",
              "      <td>4.4557</td>\n",
              "      <td>4.3959</td>\n",
              "    </tr>\n",
              "    <tr>\n",
              "      <th>1</th>\n",
              "      <td>2</td>\n",
              "      <td>4.3832</td>\n",
              "      <td>4.4076</td>\n",
              "    </tr>\n",
              "    <tr>\n",
              "      <th>...</th>\n",
              "      <td>...</td>\n",
              "      <td>...</td>\n",
              "      <td>...</td>\n",
              "    </tr>\n",
              "    <tr>\n",
              "      <th>38</th>\n",
              "      <td>39</td>\n",
              "      <td>2.0059</td>\n",
              "      <td>3.9049</td>\n",
              "    </tr>\n",
              "    <tr>\n",
              "      <th>39</th>\n",
              "      <td>40</td>\n",
              "      <td>1.9897</td>\n",
              "      <td>3.9271</td>\n",
              "    </tr>\n",
              "  </tbody>\n",
              "</table>\n",
              "<p>40 rows × 3 columns</p>\n",
              "</div>\n",
              "      <button class=\"colab-df-convert\" onclick=\"convertToInteractive('df-a96d5d8a-ac45-4c6f-8dcf-b93dc6ee0d9a')\"\n",
              "              title=\"Convert this dataframe to an interactive table.\"\n",
              "              style=\"display:none;\">\n",
              "        \n",
              "  <svg xmlns=\"http://www.w3.org/2000/svg\" height=\"24px\"viewBox=\"0 0 24 24\"\n",
              "       width=\"24px\">\n",
              "    <path d=\"M0 0h24v24H0V0z\" fill=\"none\"/>\n",
              "    <path d=\"M18.56 5.44l.94 2.06.94-2.06 2.06-.94-2.06-.94-.94-2.06-.94 2.06-2.06.94zm-11 1L8.5 8.5l.94-2.06 2.06-.94-2.06-.94L8.5 2.5l-.94 2.06-2.06.94zm10 10l.94 2.06.94-2.06 2.06-.94-2.06-.94-.94-2.06-.94 2.06-2.06.94z\"/><path d=\"M17.41 7.96l-1.37-1.37c-.4-.4-.92-.59-1.43-.59-.52 0-1.04.2-1.43.59L10.3 9.45l-7.72 7.72c-.78.78-.78 2.05 0 2.83L4 21.41c.39.39.9.59 1.41.59.51 0 1.02-.2 1.41-.59l7.78-7.78 2.81-2.81c.8-.78.8-2.07 0-2.86zM5.41 20L4 18.59l7.72-7.72 1.47 1.35L5.41 20z\"/>\n",
              "  </svg>\n",
              "      </button>\n",
              "      \n",
              "  <style>\n",
              "    .colab-df-container {\n",
              "      display:flex;\n",
              "      flex-wrap:wrap;\n",
              "      gap: 12px;\n",
              "    }\n",
              "\n",
              "    .colab-df-convert {\n",
              "      background-color: #E8F0FE;\n",
              "      border: none;\n",
              "      border-radius: 50%;\n",
              "      cursor: pointer;\n",
              "      display: none;\n",
              "      fill: #1967D2;\n",
              "      height: 32px;\n",
              "      padding: 0 0 0 0;\n",
              "      width: 32px;\n",
              "    }\n",
              "\n",
              "    .colab-df-convert:hover {\n",
              "      background-color: #E2EBFA;\n",
              "      box-shadow: 0px 1px 2px rgba(60, 64, 67, 0.3), 0px 1px 3px 1px rgba(60, 64, 67, 0.15);\n",
              "      fill: #174EA6;\n",
              "    }\n",
              "\n",
              "    [theme=dark] .colab-df-convert {\n",
              "      background-color: #3B4455;\n",
              "      fill: #D2E3FC;\n",
              "    }\n",
              "\n",
              "    [theme=dark] .colab-df-convert:hover {\n",
              "      background-color: #434B5C;\n",
              "      box-shadow: 0px 1px 3px 1px rgba(0, 0, 0, 0.15);\n",
              "      filter: drop-shadow(0px 1px 2px rgba(0, 0, 0, 0.3));\n",
              "      fill: #FFFFFF;\n",
              "    }\n",
              "  </style>\n",
              "\n",
              "      <script>\n",
              "        const buttonEl =\n",
              "          document.querySelector('#df-a96d5d8a-ac45-4c6f-8dcf-b93dc6ee0d9a button.colab-df-convert');\n",
              "        buttonEl.style.display =\n",
              "          google.colab.kernel.accessAllowed ? 'block' : 'none';\n",
              "\n",
              "        async function convertToInteractive(key) {\n",
              "          const element = document.querySelector('#df-a96d5d8a-ac45-4c6f-8dcf-b93dc6ee0d9a');\n",
              "          const dataTable =\n",
              "            await google.colab.kernel.invokeFunction('convertToInteractive',\n",
              "                                                     [key], {});\n",
              "          if (!dataTable) return;\n",
              "\n",
              "          const docLinkHtml = 'Like what you see? Visit the ' +\n",
              "            '<a target=\"_blank\" href=https://colab.research.google.com/notebooks/data_table.ipynb>data table notebook</a>'\n",
              "            + ' to learn more about interactive tables.';\n",
              "          element.innerHTML = '';\n",
              "          dataTable['output_type'] = 'display_data';\n",
              "          await google.colab.output.renderOutput(dataTable, element);\n",
              "          const docLink = document.createElement('div');\n",
              "          docLink.innerHTML = docLinkHtml;\n",
              "          element.appendChild(docLink);\n",
              "        }\n",
              "      </script>\n",
              "    </div>\n",
              "  </div>\n",
              "  "
            ]
          },
          "metadata": {},
          "execution_count": 21
        }
      ]
    },
    {
      "cell_type": "code",
      "source": [
        "final_model_loss_df.to_csv(\"/content/drive/MyDrive/lms/seq2seq_translation/final_model_loss.csv\", index = False)"
      ],
      "metadata": {
        "id": "ooLLoHbMdzq5"
      },
      "execution_count": null,
      "outputs": []
    },
    {
      "cell_type": "code",
      "source": [
        "plt.figure(figsize=[12, 4])\n",
        "plt.plot(final_model_loss_df['Train Loss'] , label=\"Train Loss\")\n",
        "plt.plot(final_model_loss_df['Test Loss'], label=\"Test Loss\")\n",
        "plt.legend()\n",
        "plt.title('Loss')\n",
        "plt.xlabel('Epoch')\n",
        "plt.ylabel('Value')\n",
        "plt.show()"
      ],
      "metadata": {
        "colab": {
          "base_uri": "https://localhost:8080/",
          "height": 297
        },
        "id": "c7756C_DMaj4",
        "outputId": "36a478c4-eb3a-485b-ea6a-882c83889a23"
      },
      "execution_count": null,
      "outputs": [
        {
          "output_type": "display_data",
          "data": {
            "text/plain": [
              "<Figure size 864x288 with 1 Axes>"
            ],
            "image/png": "[encoded data removed]"
          },
          "metadata": {
            "image/png": {
              "width": 720,
              "height": 280
            },
            "needs_background": "light"
          }
        }
      ]
    },
    {
      "cell_type": "code",
      "source": [
        "sentence_list = [\"오바마는 대통령이다.\", \"시민들은 도시 속에 산다.\",\n",
        "                 \"커피는 필요 없다.\", \"일곱 명의 사망자가 발생했다.\"]\n",
        "\n",
        "for sentence in sentence_list:\n",
        "  sentence_translator(sentence, encoder, decoder)\n",
        "  print()"
      ],
      "metadata": {
        "colab": {
          "base_uri": "https://localhost:8080/"
        },
        "id": "sQGhYA-_NGnZ",
        "outputId": "35b9ebd5-24a3-493b-adaf-f525a3638718"
      },
      "execution_count": null,
      "outputs": [
        {
          "output_type": "stream",
          "name": "stdout",
          "text": [
            "Input : 오바마는 대통령이다 .\n",
            "Predicted translation : obama is a democrat . <end> \n",
            "\n",
            "Input : 시민들은 도시 속에 산다 .\n",
            "Predicted translation : they are still searching for the city of people , as many people , as many people , as many people , as many people , as many people , as many people , as many people , as many \n",
            "\n",
            "Input : 커피는 필요 없다 .\n",
            "Predicted translation : it is a little bit of the way <end> \n",
            "\n",
            "Input : 일곱 명의 사망자가 발생했다 .\n",
            "Predicted translation : two people were killed . <end> \n",
            "\n"
          ]
        }
      ]
    },
    {
      "cell_type": "code",
      "source": [
        "translate(\"오바마는 대통령이다.\", encoder, decoder)"
      ],
      "metadata": {
        "colab": {
          "base_uri": "https://localhost:8080/",
          "height": 677
        },
        "id": "z-ErD6qlNGqk",
        "outputId": "9ca157fe-740f-4535-8728-a64305320387"
      },
      "execution_count": null,
      "outputs": [
        {
          "output_type": "stream",
          "name": "stdout",
          "text": [
            "Input : 오바마는 대통령이다 .\n",
            "Predicted translation : obama is a democrat . <end> \n",
            "\n"
          ]
        },
        {
          "output_type": "display_data",
          "data": {
            "text/plain": [
              "<Figure size 720x720 with 1 Axes>"
            ],
            "image/png": "[encoded data removed]"
          },
          "metadata": {
            "image/png": {
              "width": 626,
              "height": 606
            },
            "needs_background": "light"
          }
        }
      ]
    },
    {
      "cell_type": "code",
      "source": [
        "translate(\"시민들은 도시 속에 산다.\", encoder, decoder)"
      ],
      "metadata": {
        "colab": {
          "base_uri": "https://localhost:8080/",
          "height": 684
        },
        "id": "PsQZcuVdNgG-",
        "outputId": "31e3432a-3823-44e7-8878-4efc43967f7f"
      },
      "execution_count": null,
      "outputs": [
        {
          "output_type": "stream",
          "name": "stdout",
          "text": [
            "Input : 시민들은 도시 속에 산다 .\n",
            "Predicted translation : they are still searching for the city of people , as many people , as many people , as many people , as many people , as many people , as many people , as many people , as many \n",
            "\n"
          ]
        },
        {
          "output_type": "display_data",
          "data": {
            "text/plain": [
              "<Figure size 720x720 with 1 Axes>"
            ],
            "image/png": "[encoded data removed]"
          },
          "metadata": {
            "image/png": {
              "width": 193,
              "height": 593
            },
            "needs_background": "light"
          }
        }
      ]
    },
    {
      "cell_type": "code",
      "source": [
        "translate(\"커피는 필요 없다.\", encoder, decoder)"
      ],
      "metadata": {
        "colab": {
          "base_uri": "https://localhost:8080/",
          "height": 664
        },
        "id": "cbXEyXJtNgJY",
        "outputId": "99bd6660-b79f-4f21-cf49-5a125e1490a3"
      },
      "execution_count": null,
      "outputs": [
        {
          "output_type": "stream",
          "name": "stdout",
          "text": [
            "Input : 커피는 필요 없다 .\n",
            "Predicted translation : it is a little bit of the way <end> \n",
            "\n"
          ]
        },
        {
          "output_type": "display_data",
          "data": {
            "text/plain": [
              "<Figure size 720x720 with 1 Axes>"
            ],
            "image/png": "[encoded data removed]"
          },
          "metadata": {
            "image/png": {
              "width": 420,
              "height": 593
            },
            "needs_background": "light"
          }
        }
      ]
    },
    {
      "cell_type": "code",
      "source": [
        "translate(\"일곱 명의 사망자가 발생했다.\", encoder, decoder)"
      ],
      "metadata": {
        "colab": {
          "base_uri": "https://localhost:8080/",
          "height": 505
        },
        "id": "msguM7VENmKe",
        "outputId": "ab9074f4-31c7-45c6-f324-d9467828e47d"
      },
      "execution_count": null,
      "outputs": [
        {
          "output_type": "stream",
          "name": "stdout",
          "text": [
            "Input : 일곱 명의 사망자가 발생했다 .\n",
            "Predicted translation : two people were killed . <end> \n",
            "\n"
          ]
        },
        {
          "output_type": "display_data",
          "data": {
            "text/plain": [
              "<Figure size 720x720 with 1 Axes>"
            ],
            "image/png": "[encoded data removed]"
          },
          "metadata": {
            "image/png": {
              "width": 623,
              "height": 434
            },
            "needs_background": "light"
          }
        }
      ]
    },
    {
      "cell_type": "markdown",
      "source": [
        "##Random State"
      ],
      "metadata": {
        "id": "dYpZrbO7Q_rm"
      }
    },
    {
      "cell_type": "markdown",
      "source": [
        "동일한 하이퍼파라미터와 데이터를 사용했는데  알고리즘을 작동시킬 때마다 다른 모델 학습 결과가 나온다.\n",
        "<br/>딥러닝 모델은 Random State로 작동하는 것인가?\n",
        "<br/>그렇다면 Random State로 작동하는 딥러닝 모델의 성능을 어떻게 측정할 수 있는가?\n",
        "<br/>매번 달라지는 모델 성능을 어떻게 확률분포로 나타낼 수 있는가?"
      ],
      "metadata": {
        "id": "Ax1-1k5a6amA"
      }
    },
    {
      "cell_type": "code",
      "source": [
        "final_model_loss_df2 = pd.DataFrame({'Epoch':[0], 'Train Loss':[0], 'Test Loss':[0]})\n",
        "\n",
        "epochs = 40\n",
        "train_count = 0\n",
        "test_count = 0\n",
        "\n",
        "sentence_list = [\"오바마는 대통령이다.\", \"시민들은 도시 속에 산다.\",\n",
        "                 \"커피는 필요 없다.\", \"일곱 명의 사망자가 발생했다.\"]\n",
        "                 \n",
        "\n",
        "for epoch in range(epochs):\n",
        "    total_loss = 0\n",
        "    \n",
        "    idx_list = list(range(0, enc_train.shape[0], batch_size))\n",
        "    random.shuffle(idx_list)\n",
        "\n",
        "    for (batch, idx) in enumerate(idx_list):\n",
        "        batch_loss = train_step(enc_train[idx:idx + batch_size],\n",
        "                                dec_train[idx:idx + batch_size],\n",
        "                                encoder,\n",
        "                                decoder,\n",
        "                                optimizer,\n",
        "                                dec_tokenizer)\n",
        "    \n",
        "        total_loss += batch_loss\n",
        "\n",
        "        train_count += 1\n",
        "\n",
        "        if train_count % len(idx_list) == 0:\n",
        "            final_model_loss_df2.loc[epoch] = [int(epoch + 1), round(total_loss.numpy() / (batch + 1), 4), 0]\n",
        "            final_model_loss_df2 = final_model_loss_df2.astype({'Epoch':'int'})\n",
        "\n",
        "            if epoch == 0 or (epoch + 1) % 10 == 0:\n",
        "                print('Epoch {}  Train Loss {:.4f}'.format(epoch + 1, total_loss.numpy() / (batch + 1)), end=\"  \")\n",
        "\n",
        "    \n",
        "    test_loss = 0\n",
        "    \n",
        "    idx_list = list(range(0, enc_val.shape[0], batch_size))\n",
        "    random.shuffle(idx_list)\n",
        "\n",
        "    for (test_batch, idx) in enumerate(idx_list):\n",
        "        test_batch_loss = eval_step(enc_val[idx:idx + batch_size],\n",
        "                                    dec_val[idx:idx + batch_size],\n",
        "                                    encoder,\n",
        "                                    decoder,\n",
        "                                    dec_tokenizer)\n",
        "    \n",
        "        test_loss += test_batch_loss\n",
        "\n",
        "        test_count += 1\n",
        "        \n",
        "        if test_count % len(idx_list) == 0:\n",
        "            final_model_loss_df2.loc[epoch, 'Test Loss'] = [round(test_loss.numpy() / (test_batch + 1), 4)]\n",
        "            final_model_loss_df2 = final_model_loss_df2.astype({'Epoch':'int'})\n",
        "\n",
        "            if epoch == 0 or (epoch + 1) % 10 == 0:\n",
        "                print('Test Loss {:.4f}'.format(test_loss.numpy() / (test_batch + 1)))"
      ],
      "metadata": {
        "colab": {
          "base_uri": "https://localhost:8080/"
        },
        "id": "FiVfwCOuaU7_",
        "outputId": "274b74cb-1234-4f11-9583-acda3b7a8f5f"
      },
      "execution_count": null,
      "outputs": [
        {
          "output_type": "stream",
          "name": "stdout",
          "text": [
            "Epoch 1  Train Loss 4.4549  Test Loss 4.3975\n",
            "Epoch 10  Train Loss 3.1367  Test Loss 3.3661\n",
            "Epoch 20  Train Loss 2.5112  Test Loss 3.4173\n",
            "Epoch 30  Train Loss 2.1837  Test Loss 3.6765\n",
            "Epoch 40  Train Loss 1.9727  Test Loss 3.9215\n"
          ]
        }
      ]
    },
    {
      "cell_type": "code",
      "source": [
        "pd.set_option('display.max_rows', 4)\n",
        "final_model_loss_df2"
      ],
      "metadata": {
        "colab": {
          "base_uri": "https://localhost:8080/",
          "height": 235
        },
        "id": "1Q1mGMYfaU-u",
        "outputId": "8e9839f0-b923-46bd-ff1c-43cecdf3e045"
      },
      "execution_count": null,
      "outputs": [
        {
          "output_type": "execute_result",
          "data": {
            "text/plain": [
              "    Epoch  Train Loss  Test Loss\n",
              "0       1      4.4549     4.3975\n",
              "1       2      4.3833     4.4080\n",
              "..    ...         ...        ...\n",
              "38     39      1.9897     3.9019\n",
              "39     40      1.9727     3.9215\n",
              "\n",
              "[40 rows x 3 columns]"
            ],
            "text/html": [
              "\n",
              "  <div id=\"df-dd02e6fc-cdbf-4077-a913-678c3bec67ac\">\n",
              "    <div class=\"colab-df-container\">\n",
              "      <div>\n",
              "<style scoped>\n",
              "    .dataframe tbody tr th:only-of-type {\n",
              "        vertical-align: middle;\n",
              "    }\n",
              "\n",
              "    .dataframe tbody tr th {\n",
              "        vertical-align: top;\n",
              "    }\n",
              "\n",
              "    .dataframe thead th {\n",
              "        text-align: right;\n",
              "    }\n",
              "</style>\n",
              "<table border=\"1\" class=\"dataframe\">\n",
              "  <thead>\n",
              "    <tr style=\"text-align: right;\">\n",
              "      <th></th>\n",
              "      <th>Epoch</th>\n",
              "      <th>Train Loss</th>\n",
              "      <th>Test Loss</th>\n",
              "    </tr>\n",
              "  </thead>\n",
              "  <tbody>\n",
              "    <tr>\n",
              "      <th>0</th>\n",
              "      <td>1</td>\n",
              "      <td>4.4549</td>\n",
              "      <td>4.3975</td>\n",
              "    </tr>\n",
              "    <tr>\n",
              "      <th>1</th>\n",
              "      <td>2</td>\n",
              "      <td>4.3833</td>\n",
              "      <td>4.4080</td>\n",
              "    </tr>\n",
              "    <tr>\n",
              "      <th>...</th>\n",
              "      <td>...</td>\n",
              "      <td>...</td>\n",
              "      <td>...</td>\n",
              "    </tr>\n",
              "    <tr>\n",
              "      <th>38</th>\n",
              "      <td>39</td>\n",
              "      <td>1.9897</td>\n",
              "      <td>3.9019</td>\n",
              "    </tr>\n",
              "    <tr>\n",
              "      <th>39</th>\n",
              "      <td>40</td>\n",
              "      <td>1.9727</td>\n",
              "      <td>3.9215</td>\n",
              "    </tr>\n",
              "  </tbody>\n",
              "</table>\n",
              "<p>40 rows × 3 columns</p>\n",
              "</div>\n",
              "      <button class=\"colab-df-convert\" onclick=\"convertToInteractive('df-dd02e6fc-cdbf-4077-a913-678c3bec67ac')\"\n",
              "              title=\"Convert this dataframe to an interactive table.\"\n",
              "              style=\"display:none;\">\n",
              "        \n",
              "  <svg xmlns=\"http://www.w3.org/2000/svg\" height=\"24px\"viewBox=\"0 0 24 24\"\n",
              "       width=\"24px\">\n",
              "    <path d=\"M0 0h24v24H0V0z\" fill=\"none\"/>\n",
              "    <path d=\"M18.56 5.44l.94 2.06.94-2.06 2.06-.94-2.06-.94-.94-2.06-.94 2.06-2.06.94zm-11 1L8.5 8.5l.94-2.06 2.06-.94-2.06-.94L8.5 2.5l-.94 2.06-2.06.94zm10 10l.94 2.06.94-2.06 2.06-.94-2.06-.94-.94-2.06-.94 2.06-2.06.94z\"/><path d=\"M17.41 7.96l-1.37-1.37c-.4-.4-.92-.59-1.43-.59-.52 0-1.04.2-1.43.59L10.3 9.45l-7.72 7.72c-.78.78-.78 2.05 0 2.83L4 21.41c.39.39.9.59 1.41.59.51 0 1.02-.2 1.41-.59l7.78-7.78 2.81-2.81c.8-.78.8-2.07 0-2.86zM5.41 20L4 18.59l7.72-7.72 1.47 1.35L5.41 20z\"/>\n",
              "  </svg>\n",
              "      </button>\n",
              "      \n",
              "  <style>\n",
              "    .colab-df-container {\n",
              "      display:flex;\n",
              "      flex-wrap:wrap;\n",
              "      gap: 12px;\n",
              "    }\n",
              "\n",
              "    .colab-df-convert {\n",
              "      background-color: #E8F0FE;\n",
              "      border: none;\n",
              "      border-radius: 50%;\n",
              "      cursor: pointer;\n",
              "      display: none;\n",
              "      fill: #1967D2;\n",
              "      height: 32px;\n",
              "      padding: 0 0 0 0;\n",
              "      width: 32px;\n",
              "    }\n",
              "\n",
              "    .colab-df-convert:hover {\n",
              "      background-color: #E2EBFA;\n",
              "      box-shadow: 0px 1px 2px rgba(60, 64, 67, 0.3), 0px 1px 3px 1px rgba(60, 64, 67, 0.15);\n",
              "      fill: #174EA6;\n",
              "    }\n",
              "\n",
              "    [theme=dark] .colab-df-convert {\n",
              "      background-color: #3B4455;\n",
              "      fill: #D2E3FC;\n",
              "    }\n",
              "\n",
              "    [theme=dark] .colab-df-convert:hover {\n",
              "      background-color: #434B5C;\n",
              "      box-shadow: 0px 1px 3px 1px rgba(0, 0, 0, 0.15);\n",
              "      filter: drop-shadow(0px 1px 2px rgba(0, 0, 0, 0.3));\n",
              "      fill: #FFFFFF;\n",
              "    }\n",
              "  </style>\n",
              "\n",
              "      <script>\n",
              "        const buttonEl =\n",
              "          document.querySelector('#df-dd02e6fc-cdbf-4077-a913-678c3bec67ac button.colab-df-convert');\n",
              "        buttonEl.style.display =\n",
              "          google.colab.kernel.accessAllowed ? 'block' : 'none';\n",
              "\n",
              "        async function convertToInteractive(key) {\n",
              "          const element = document.querySelector('#df-dd02e6fc-cdbf-4077-a913-678c3bec67ac');\n",
              "          const dataTable =\n",
              "            await google.colab.kernel.invokeFunction('convertToInteractive',\n",
              "                                                     [key], {});\n",
              "          if (!dataTable) return;\n",
              "\n",
              "          const docLinkHtml = 'Like what you see? Visit the ' +\n",
              "            '<a target=\"_blank\" href=https://colab.research.google.com/notebooks/data_table.ipynb>data table notebook</a>'\n",
              "            + ' to learn more about interactive tables.';\n",
              "          element.innerHTML = '';\n",
              "          dataTable['output_type'] = 'display_data';\n",
              "          await google.colab.output.renderOutput(dataTable, element);\n",
              "          const docLink = document.createElement('div');\n",
              "          docLink.innerHTML = docLinkHtml;\n",
              "          element.appendChild(docLink);\n",
              "        }\n",
              "      </script>\n",
              "    </div>\n",
              "  </div>\n",
              "  "
            ]
          },
          "metadata": {},
          "execution_count": 22
        }
      ]
    },
    {
      "cell_type": "code",
      "source": [
        "final_model_loss_df2.to_csv(\"/content/drive/MyDrive/lms/seq2seq_translation/final_model_loss2.csv\", index = False)"
      ],
      "metadata": {
        "id": "v4Q6umpXaVBx"
      },
      "execution_count": null,
      "outputs": []
    },
    {
      "cell_type": "code",
      "source": [
        "plt.figure(figsize=[12, 4])\n",
        "plt.plot(final_model_loss_df2['Train Loss'] , label=\"Train Loss\")\n",
        "plt.plot(final_model_loss_df2['Test Loss'], label=\"Test Loss\")\n",
        "plt.legend()\n",
        "plt.title('Loss')\n",
        "plt.xlabel('Epoch')\n",
        "plt.ylabel('Value')\n",
        "plt.show()"
      ],
      "metadata": {
        "colab": {
          "base_uri": "https://localhost:8080/",
          "height": 297
        },
        "id": "2B57munvaVD2",
        "outputId": "804c39d3-a5ba-4b6d-8bd0-853dbf7aeb1a"
      },
      "execution_count": null,
      "outputs": [
        {
          "output_type": "display_data",
          "data": {
            "text/plain": [
              "<Figure size 864x288 with 1 Axes>"
            ],
            "image/png": "[encoded data removed]"
          },
          "metadata": {
            "image/png": {
              "width": 720,
              "height": 280
            },
            "needs_background": "light"
          }
        }
      ]
    },
    {
      "cell_type": "code",
      "source": [
        "sentence_list = [\"오바마는 대통령이다.\", \"시민들은 도시 속에 산다.\",\n",
        "                 \"커피는 필요 없다.\", \"일곱 명의 사망자가 발생했다.\"]\n",
        "\n",
        "for sentence in sentence_list:\n",
        "  sentence_translator(sentence, encoder, decoder)\n",
        "  print()"
      ],
      "metadata": {
        "colab": {
          "base_uri": "https://localhost:8080/"
        },
        "id": "DSH6qmjtalnf",
        "outputId": "c5ec5c43-fd43-4174-b6f8-8d3ecbd55926"
      },
      "execution_count": null,
      "outputs": [
        {
          "output_type": "stream",
          "name": "stdout",
          "text": [
            "Input : 오바마는 대통령이다 .\n",
            "Predicted translation : obama says he was a key presidential nomination . <end> \n",
            "\n",
            "Input : 시민들은 도시 속에 산다 .\n",
            "Predicted translation : the survey showed fires that the city , square miles , and some of the city of upstate new orleans . <end> \n",
            "\n",
            "Input : 커피는 필요 없다 .\n",
            "Predicted translation : the t know , you know that you get to be pretty good . <end> \n",
            "\n",
            "Input : 일곱 명의 사망자가 발생했다 .\n",
            "Predicted translation : the two were killed . <end> \n",
            "\n"
          ]
        }
      ]
    },
    {
      "cell_type": "markdown",
      "source": [
        "#결론"
      ],
      "metadata": {
        "id": "9wemNsMUQimB"
      }
    },
    {
      "cell_type": "markdown",
      "source": [
        "**하이퍼파라미터**"
      ],
      "metadata": {
        "id": "Y31r_Kqf3t1P"
      }
    },
    {
      "cell_type": "code",
      "source": [
        "CSS = \"\"\".output {flex-direction: row;}\"\"\"\n",
        "HTML('<style>{}</style>'.format(CSS))\n",
        "\n",
        "final_hyperparameter = pd.DataFrame({'Batch Size':[64], 'Units':[128], 'Embedding Dimension':[64],\n",
        "                                     'Dropout Rate':[0.2], 'Sequence Length':[30]}, index=['Final Model'])\n",
        "\n",
        "final_embedding_hidden_size = pd.DataFrame({'Encoder Output':['(64, 30, 128)'], 'Decoder Output':['(64, 44461)'],\n",
        "                   'Decoder Hidden State':['(64, 128)'], 'Attention':['(64, 30, 1)']}, index=['Final Model'])\n",
        "\n",
        "reorderlist = ['Tokenizer', 'Korean Vocab Size', 'English Vocab Size', 'Text Max Length',\n",
        "               'Activation Function', 'Optimizer', 'Loss Function', 'Epoch']\n",
        "learning_way = pd.DataFrame({'Final Model':{'Tokenizer': 'MeCab. split', \n",
        "                            'Korean Vocab Size': 49786, 'English Vocab Size': 44460, 'Text Max Length': 40, \n",
        "                            'Activation Function':'Softmax', 'Optimizer':'Adam',\n",
        "                            'Loss Function': 'Sparse Categorical Crossentropy', 'Epoch':40}})\n",
        "learning_way = learning_way.iloc[pd.Categorical(learning_way.index,reorderlist).argsort()]\n",
        "\n",
        "final_model_loss_df = pd.read_csv(\"/content/drive/MyDrive/lms/seq2seq_translation/final_model_loss.csv\")\n",
        "\n",
        "display(final_hyperparameter)\n",
        "print(\"\\n\")\n",
        "display(final_embedding_hidden_size)\n",
        "print(\"\\n\")\n",
        "with pd.option_context('display.max_rows',None):\n",
        "  display(learning_way)\n",
        "print(\"\\n\")\n",
        "with pd.option_context('display.max_rows',None):\n",
        "  display(final_model_loss_df[(final_model_loss_df.Epoch == 1) | (final_model_loss_df.Epoch % 10 == 0)])"
      ],
      "metadata": {
        "id": "PFkLxAmk4_ky",
        "colab": {
          "base_uri": "https://localhost:8080/",
          "height": 726
        },
        "outputId": "a99fb889-5f97-4484-847e-e15d70766d3b"
      },
      "execution_count": null,
      "outputs": [
        {
          "output_type": "display_data",
          "data": {
            "text/plain": [
              "             Batch Size  Units  Embedding Dimension  Dropout Rate  \\\n",
              "Final Model          64    128                   64           0.2   \n",
              "\n",
              "             Sequence Length  \n",
              "Final Model               30  "
            ],
            "text/html": [
              "\n",
              "  <div id=\"df-a2131d86-7fa3-4918-b13c-ff783431bf1c\">\n",
              "    <div class=\"colab-df-container\">\n",
              "      <div>\n",
              "<style scoped>\n",
              "    .dataframe tbody tr th:only-of-type {\n",
              "        vertical-align: middle;\n",
              "    }\n",
              "\n",
              "    .dataframe tbody tr th {\n",
              "        vertical-align: top;\n",
              "    }\n",
              "\n",
              "    .dataframe thead th {\n",
              "        text-align: right;\n",
              "    }\n",
              "</style>\n",
              "<table border=\"1\" class=\"dataframe\">\n",
              "  <thead>\n",
              "    <tr style=\"text-align: right;\">\n",
              "      <th></th>\n",
              "      <th>Batch Size</th>\n",
              "      <th>Units</th>\n",
              "      <th>Embedding Dimension</th>\n",
              "      <th>Dropout Rate</th>\n",
              "      <th>Sequence Length</th>\n",
              "    </tr>\n",
              "  </thead>\n",
              "  <tbody>\n",
              "    <tr>\n",
              "      <th>Final Model</th>\n",
              "      <td>64</td>\n",
              "      <td>128</td>\n",
              "      <td>64</td>\n",
              "      <td>0.2</td>\n",
              "      <td>30</td>\n",
              "    </tr>\n",
              "  </tbody>\n",
              "</table>\n",
              "</div>\n",
              "      <button class=\"colab-df-convert\" onclick=\"convertToInteractive('df-a2131d86-7fa3-4918-b13c-ff783431bf1c')\"\n",
              "              title=\"Convert this dataframe to an interactive table.\"\n",
              "              style=\"display:none;\">\n",
              "        \n",
              "  <svg xmlns=\"http://www.w3.org/2000/svg\" height=\"24px\"viewBox=\"0 0 24 24\"\n",
              "       width=\"24px\">\n",
              "    <path d=\"M0 0h24v24H0V0z\" fill=\"none\"/>\n",
              "    <path d=\"M18.56 5.44l.94 2.06.94-2.06 2.06-.94-2.06-.94-.94-2.06-.94 2.06-2.06.94zm-11 1L8.5 8.5l.94-2.06 2.06-.94-2.06-.94L8.5 2.5l-.94 2.06-2.06.94zm10 10l.94 2.06.94-2.06 2.06-.94-2.06-.94-.94-2.06-.94 2.06-2.06.94z\"/><path d=\"M17.41 7.96l-1.37-1.37c-.4-.4-.92-.59-1.43-.59-.52 0-1.04.2-1.43.59L10.3 9.45l-7.72 7.72c-.78.78-.78 2.05 0 2.83L4 21.41c.39.39.9.59 1.41.59.51 0 1.02-.2 1.41-.59l7.78-7.78 2.81-2.81c.8-.78.8-2.07 0-2.86zM5.41 20L4 18.59l7.72-7.72 1.47 1.35L5.41 20z\"/>\n",
              "  </svg>\n",
              "      </button>\n",
              "      \n",
              "  <style>\n",
              "    .colab-df-container {\n",
              "      display:flex;\n",
              "      flex-wrap:wrap;\n",
              "      gap: 12px;\n",
              "    }\n",
              "\n",
              "    .colab-df-convert {\n",
              "      background-color: #E8F0FE;\n",
              "      border: none;\n",
              "      border-radius: 50%;\n",
              "      cursor: pointer;\n",
              "      display: none;\n",
              "      fill: #1967D2;\n",
              "      height: 32px;\n",
              "      padding: 0 0 0 0;\n",
              "      width: 32px;\n",
              "    }\n",
              "\n",
              "    .colab-df-convert:hover {\n",
              "      background-color: #E2EBFA;\n",
              "      box-shadow: 0px 1px 2px rgba(60, 64, 67, 0.3), 0px 1px 3px 1px rgba(60, 64, 67, 0.15);\n",
              "      fill: #174EA6;\n",
              "    }\n",
              "\n",
              "    [theme=dark] .colab-df-convert {\n",
              "      background-color: #3B4455;\n",
              "      fill: #D2E3FC;\n",
              "    }\n",
              "\n",
              "    [theme=dark] .colab-df-convert:hover {\n",
              "      background-color: #434B5C;\n",
              "      box-shadow: 0px 1px 3px 1px rgba(0, 0, 0, 0.15);\n",
              "      filter: drop-shadow(0px 1px 2px rgba(0, 0, 0, 0.3));\n",
              "      fill: #FFFFFF;\n",
              "    }\n",
              "  </style>\n",
              "\n",
              "      <script>\n",
              "        const buttonEl =\n",
              "          document.querySelector('#df-a2131d86-7fa3-4918-b13c-ff783431bf1c button.colab-df-convert');\n",
              "        buttonEl.style.display =\n",
              "          google.colab.kernel.accessAllowed ? 'block' : 'none';\n",
              "\n",
              "        async function convertToInteractive(key) {\n",
              "          const element = document.querySelector('#df-a2131d86-7fa3-4918-b13c-ff783431bf1c');\n",
              "          const dataTable =\n",
              "            await google.colab.kernel.invokeFunction('convertToInteractive',\n",
              "                                                     [key], {});\n",
              "          if (!dataTable) return;\n",
              "\n",
              "          const docLinkHtml = 'Like what you see? Visit the ' +\n",
              "            '<a target=\"_blank\" href=https://colab.research.google.com/notebooks/data_table.ipynb>data table notebook</a>'\n",
              "            + ' to learn more about interactive tables.';\n",
              "          element.innerHTML = '';\n",
              "          dataTable['output_type'] = 'display_data';\n",
              "          await google.colab.output.renderOutput(dataTable, element);\n",
              "          const docLink = document.createElement('div');\n",
              "          docLink.innerHTML = docLinkHtml;\n",
              "          element.appendChild(docLink);\n",
              "        }\n",
              "      </script>\n",
              "    </div>\n",
              "  </div>\n",
              "  "
            ]
          },
          "metadata": {}
        },
        {
          "output_type": "stream",
          "name": "stdout",
          "text": [
            "\n",
            "\n"
          ]
        },
        {
          "output_type": "display_data",
          "data": {
            "text/plain": [
              "            Encoder Output Decoder Output Decoder Hidden State    Attention\n",
              "Final Model  (64, 30, 128)    (64, 44461)            (64, 128)  (64, 30, 1)"
            ],
            "text/html": [
              "\n",
              "  <div id=\"df-af99888b-ec39-4e16-81a7-b2858523d853\">\n",
              "    <div class=\"colab-df-container\">\n",
              "      <div>\n",
              "<style scoped>\n",
              "    .dataframe tbody tr th:only-of-type {\n",
              "        vertical-align: middle;\n",
              "    }\n",
              "\n",
              "    .dataframe tbody tr th {\n",
              "        vertical-align: top;\n",
              "    }\n",
              "\n",
              "    .dataframe thead th {\n",
              "        text-align: right;\n",
              "    }\n",
              "</style>\n",
              "<table border=\"1\" class=\"dataframe\">\n",
              "  <thead>\n",
              "    <tr style=\"text-align: right;\">\n",
              "      <th></th>\n",
              "      <th>Encoder Output</th>\n",
              "      <th>Decoder Output</th>\n",
              "      <th>Decoder Hidden State</th>\n",
              "      <th>Attention</th>\n",
              "    </tr>\n",
              "  </thead>\n",
              "  <tbody>\n",
              "    <tr>\n",
              "      <th>Final Model</th>\n",
              "      <td>(64, 30, 128)</td>\n",
              "      <td>(64, 44461)</td>\n",
              "      <td>(64, 128)</td>\n",
              "      <td>(64, 30, 1)</td>\n",
              "    </tr>\n",
              "  </tbody>\n",
              "</table>\n",
              "</div>\n",
              "      <button class=\"colab-df-convert\" onclick=\"convertToInteractive('df-af99888b-ec39-4e16-81a7-b2858523d853')\"\n",
              "              title=\"Convert this dataframe to an interactive table.\"\n",
              "              style=\"display:none;\">\n",
              "        \n",
              "  <svg xmlns=\"http://www.w3.org/2000/svg\" height=\"24px\"viewBox=\"0 0 24 24\"\n",
              "       width=\"24px\">\n",
              "    <path d=\"M0 0h24v24H0V0z\" fill=\"none\"/>\n",
              "    <path d=\"M18.56 5.44l.94 2.06.94-2.06 2.06-.94-2.06-.94-.94-2.06-.94 2.06-2.06.94zm-11 1L8.5 8.5l.94-2.06 2.06-.94-2.06-.94L8.5 2.5l-.94 2.06-2.06.94zm10 10l.94 2.06.94-2.06 2.06-.94-2.06-.94-.94-2.06-.94 2.06-2.06.94z\"/><path d=\"M17.41 7.96l-1.37-1.37c-.4-.4-.92-.59-1.43-.59-.52 0-1.04.2-1.43.59L10.3 9.45l-7.72 7.72c-.78.78-.78 2.05 0 2.83L4 21.41c.39.39.9.59 1.41.59.51 0 1.02-.2 1.41-.59l7.78-7.78 2.81-2.81c.8-.78.8-2.07 0-2.86zM5.41 20L4 18.59l7.72-7.72 1.47 1.35L5.41 20z\"/>\n",
              "  </svg>\n",
              "      </button>\n",
              "      \n",
              "  <style>\n",
              "    .colab-df-container {\n",
              "      display:flex;\n",
              "      flex-wrap:wrap;\n",
              "      gap: 12px;\n",
              "    }\n",
              "\n",
              "    .colab-df-convert {\n",
              "      background-color: #E8F0FE;\n",
              "      border: none;\n",
              "      border-radius: 50%;\n",
              "      cursor: pointer;\n",
              "      display: none;\n",
              "      fill: #1967D2;\n",
              "      height: 32px;\n",
              "      padding: 0 0 0 0;\n",
              "      width: 32px;\n",
              "    }\n",
              "\n",
              "    .colab-df-convert:hover {\n",
              "      background-color: #E2EBFA;\n",
              "      box-shadow: 0px 1px 2px rgba(60, 64, 67, 0.3), 0px 1px 3px 1px rgba(60, 64, 67, 0.15);\n",
              "      fill: #174EA6;\n",
              "    }\n",
              "\n",
              "    [theme=dark] .colab-df-convert {\n",
              "      background-color: #3B4455;\n",
              "      fill: #D2E3FC;\n",
              "    }\n",
              "\n",
              "    [theme=dark] .colab-df-convert:hover {\n",
              "      background-color: #434B5C;\n",
              "      box-shadow: 0px 1px 3px 1px rgba(0, 0, 0, 0.15);\n",
              "      filter: drop-shadow(0px 1px 2px rgba(0, 0, 0, 0.3));\n",
              "      fill: #FFFFFF;\n",
              "    }\n",
              "  </style>\n",
              "\n",
              "      <script>\n",
              "        const buttonEl =\n",
              "          document.querySelector('#df-af99888b-ec39-4e16-81a7-b2858523d853 button.colab-df-convert');\n",
              "        buttonEl.style.display =\n",
              "          google.colab.kernel.accessAllowed ? 'block' : 'none';\n",
              "\n",
              "        async function convertToInteractive(key) {\n",
              "          const element = document.querySelector('#df-af99888b-ec39-4e16-81a7-b2858523d853');\n",
              "          const dataTable =\n",
              "            await google.colab.kernel.invokeFunction('convertToInteractive',\n",
              "                                                     [key], {});\n",
              "          if (!dataTable) return;\n",
              "\n",
              "          const docLinkHtml = 'Like what you see? Visit the ' +\n",
              "            '<a target=\"_blank\" href=https://colab.research.google.com/notebooks/data_table.ipynb>data table notebook</a>'\n",
              "            + ' to learn more about interactive tables.';\n",
              "          element.innerHTML = '';\n",
              "          dataTable['output_type'] = 'display_data';\n",
              "          await google.colab.output.renderOutput(dataTable, element);\n",
              "          const docLink = document.createElement('div');\n",
              "          docLink.innerHTML = docLinkHtml;\n",
              "          element.appendChild(docLink);\n",
              "        }\n",
              "      </script>\n",
              "    </div>\n",
              "  </div>\n",
              "  "
            ]
          },
          "metadata": {}
        },
        {
          "output_type": "stream",
          "name": "stdout",
          "text": [
            "\n",
            "\n"
          ]
        },
        {
          "output_type": "display_data",
          "data": {
            "text/plain": [
              "                                         Final Model\n",
              "Tokenizer                               MeCab. split\n",
              "Korean Vocab Size                              49786\n",
              "English Vocab Size                             44460\n",
              "Text Max Length                                   40\n",
              "Activation Function                          Softmax\n",
              "Optimizer                                       Adam\n",
              "Loss Function        Sparse Categorical Crossentropy\n",
              "Epoch                                             40"
            ],
            "text/html": [
              "\n",
              "  <div id=\"df-16d27a65-0505-45b7-a6e1-4ba407bfb085\">\n",
              "    <div class=\"colab-df-container\">\n",
              "      <div>\n",
              "<style scoped>\n",
              "    .dataframe tbody tr th:only-of-type {\n",
              "        vertical-align: middle;\n",
              "    }\n",
              "\n",
              "    .dataframe tbody tr th {\n",
              "        vertical-align: top;\n",
              "    }\n",
              "\n",
              "    .dataframe thead th {\n",
              "        text-align: right;\n",
              "    }\n",
              "</style>\n",
              "<table border=\"1\" class=\"dataframe\">\n",
              "  <thead>\n",
              "    <tr style=\"text-align: right;\">\n",
              "      <th></th>\n",
              "      <th>Final Model</th>\n",
              "    </tr>\n",
              "  </thead>\n",
              "  <tbody>\n",
              "    <tr>\n",
              "      <th>Tokenizer</th>\n",
              "      <td>MeCab. split</td>\n",
              "    </tr>\n",
              "    <tr>\n",
              "      <th>Korean Vocab Size</th>\n",
              "      <td>49786</td>\n",
              "    </tr>\n",
              "    <tr>\n",
              "      <th>English Vocab Size</th>\n",
              "      <td>44460</td>\n",
              "    </tr>\n",
              "    <tr>\n",
              "      <th>Text Max Length</th>\n",
              "      <td>40</td>\n",
              "    </tr>\n",
              "    <tr>\n",
              "      <th>Activation Function</th>\n",
              "      <td>Softmax</td>\n",
              "    </tr>\n",
              "    <tr>\n",
              "      <th>Optimizer</th>\n",
              "      <td>Adam</td>\n",
              "    </tr>\n",
              "    <tr>\n",
              "      <th>Loss Function</th>\n",
              "      <td>Sparse Categorical Crossentropy</td>\n",
              "    </tr>\n",
              "    <tr>\n",
              "      <th>Epoch</th>\n",
              "      <td>40</td>\n",
              "    </tr>\n",
              "  </tbody>\n",
              "</table>\n",
              "</div>\n",
              "      <button class=\"colab-df-convert\" onclick=\"convertToInteractive('df-16d27a65-0505-45b7-a6e1-4ba407bfb085')\"\n",
              "              title=\"Convert this dataframe to an interactive table.\"\n",
              "              style=\"display:none;\">\n",
              "        \n",
              "  <svg xmlns=\"http://www.w3.org/2000/svg\" height=\"24px\"viewBox=\"0 0 24 24\"\n",
              "       width=\"24px\">\n",
              "    <path d=\"M0 0h24v24H0V0z\" fill=\"none\"/>\n",
              "    <path d=\"M18.56 5.44l.94 2.06.94-2.06 2.06-.94-2.06-.94-.94-2.06-.94 2.06-2.06.94zm-11 1L8.5 8.5l.94-2.06 2.06-.94-2.06-.94L8.5 2.5l-.94 2.06-2.06.94zm10 10l.94 2.06.94-2.06 2.06-.94-2.06-.94-.94-2.06-.94 2.06-2.06.94z\"/><path d=\"M17.41 7.96l-1.37-1.37c-.4-.4-.92-.59-1.43-.59-.52 0-1.04.2-1.43.59L10.3 9.45l-7.72 7.72c-.78.78-.78 2.05 0 2.83L4 21.41c.39.39.9.59 1.41.59.51 0 1.02-.2 1.41-.59l7.78-7.78 2.81-2.81c.8-.78.8-2.07 0-2.86zM5.41 20L4 18.59l7.72-7.72 1.47 1.35L5.41 20z\"/>\n",
              "  </svg>\n",
              "      </button>\n",
              "      \n",
              "  <style>\n",
              "    .colab-df-container {\n",
              "      display:flex;\n",
              "      flex-wrap:wrap;\n",
              "      gap: 12px;\n",
              "    }\n",
              "\n",
              "    .colab-df-convert {\n",
              "      background-color: #E8F0FE;\n",
              "      border: none;\n",
              "      border-radius: 50%;\n",
              "      cursor: pointer;\n",
              "      display: none;\n",
              "      fill: #1967D2;\n",
              "      height: 32px;\n",
              "      padding: 0 0 0 0;\n",
              "      width: 32px;\n",
              "    }\n",
              "\n",
              "    .colab-df-convert:hover {\n",
              "      background-color: #E2EBFA;\n",
              "      box-shadow: 0px 1px 2px rgba(60, 64, 67, 0.3), 0px 1px 3px 1px rgba(60, 64, 67, 0.15);\n",
              "      fill: #174EA6;\n",
              "    }\n",
              "\n",
              "    [theme=dark] .colab-df-convert {\n",
              "      background-color: #3B4455;\n",
              "      fill: #D2E3FC;\n",
              "    }\n",
              "\n",
              "    [theme=dark] .colab-df-convert:hover {\n",
              "      background-color: #434B5C;\n",
              "      box-shadow: 0px 1px 3px 1px rgba(0, 0, 0, 0.15);\n",
              "      filter: drop-shadow(0px 1px 2px rgba(0, 0, 0, 0.3));\n",
              "      fill: #FFFFFF;\n",
              "    }\n",
              "  </style>\n",
              "\n",
              "      <script>\n",
              "        const buttonEl =\n",
              "          document.querySelector('#df-16d27a65-0505-45b7-a6e1-4ba407bfb085 button.colab-df-convert');\n",
              "        buttonEl.style.display =\n",
              "          google.colab.kernel.accessAllowed ? 'block' : 'none';\n",
              "\n",
              "        async function convertToInteractive(key) {\n",
              "          const element = document.querySelector('#df-16d27a65-0505-45b7-a6e1-4ba407bfb085');\n",
              "          const dataTable =\n",
              "            await google.colab.kernel.invokeFunction('convertToInteractive',\n",
              "                                                     [key], {});\n",
              "          if (!dataTable) return;\n",
              "\n",
              "          const docLinkHtml = 'Like what you see? Visit the ' +\n",
              "            '<a target=\"_blank\" href=https://colab.research.google.com/notebooks/data_table.ipynb>data table notebook</a>'\n",
              "            + ' to learn more about interactive tables.';\n",
              "          element.innerHTML = '';\n",
              "          dataTable['output_type'] = 'display_data';\n",
              "          await google.colab.output.renderOutput(dataTable, element);\n",
              "          const docLink = document.createElement('div');\n",
              "          docLink.innerHTML = docLinkHtml;\n",
              "          element.appendChild(docLink);\n",
              "        }\n",
              "      </script>\n",
              "    </div>\n",
              "  </div>\n",
              "  "
            ]
          },
          "metadata": {}
        },
        {
          "output_type": "stream",
          "name": "stdout",
          "text": [
            "\n",
            "\n"
          ]
        },
        {
          "output_type": "display_data",
          "data": {
            "text/plain": [
              "    Epoch  Train Loss  Test Loss\n",
              "0       1      4.4557     4.3959\n",
              "9      10      3.1322     3.3625\n",
              "19     20      2.5257     3.4187\n",
              "29     30      2.2004     3.6839\n",
              "39     40      1.9897     3.9271"
            ],
            "text/html": [
              "\n",
              "  <div id=\"df-22484d5e-4fc2-47b7-a7c1-70560d37d031\">\n",
              "    <div class=\"colab-df-container\">\n",
              "      <div>\n",
              "<style scoped>\n",
              "    .dataframe tbody tr th:only-of-type {\n",
              "        vertical-align: middle;\n",
              "    }\n",
              "\n",
              "    .dataframe tbody tr th {\n",
              "        vertical-align: top;\n",
              "    }\n",
              "\n",
              "    .dataframe thead th {\n",
              "        text-align: right;\n",
              "    }\n",
              "</style>\n",
              "<table border=\"1\" class=\"dataframe\">\n",
              "  <thead>\n",
              "    <tr style=\"text-align: right;\">\n",
              "      <th></th>\n",
              "      <th>Epoch</th>\n",
              "      <th>Train Loss</th>\n",
              "      <th>Test Loss</th>\n",
              "    </tr>\n",
              "  </thead>\n",
              "  <tbody>\n",
              "    <tr>\n",
              "      <th>0</th>\n",
              "      <td>1</td>\n",
              "      <td>4.4557</td>\n",
              "      <td>4.3959</td>\n",
              "    </tr>\n",
              "    <tr>\n",
              "      <th>9</th>\n",
              "      <td>10</td>\n",
              "      <td>3.1322</td>\n",
              "      <td>3.3625</td>\n",
              "    </tr>\n",
              "    <tr>\n",
              "      <th>19</th>\n",
              "      <td>20</td>\n",
              "      <td>2.5257</td>\n",
              "      <td>3.4187</td>\n",
              "    </tr>\n",
              "    <tr>\n",
              "      <th>29</th>\n",
              "      <td>30</td>\n",
              "      <td>2.2004</td>\n",
              "      <td>3.6839</td>\n",
              "    </tr>\n",
              "    <tr>\n",
              "      <th>39</th>\n",
              "      <td>40</td>\n",
              "      <td>1.9897</td>\n",
              "      <td>3.9271</td>\n",
              "    </tr>\n",
              "  </tbody>\n",
              "</table>\n",
              "</div>\n",
              "      <button class=\"colab-df-convert\" onclick=\"convertToInteractive('df-22484d5e-4fc2-47b7-a7c1-70560d37d031')\"\n",
              "              title=\"Convert this dataframe to an interactive table.\"\n",
              "              style=\"display:none;\">\n",
              "        \n",
              "  <svg xmlns=\"http://www.w3.org/2000/svg\" height=\"24px\"viewBox=\"0 0 24 24\"\n",
              "       width=\"24px\">\n",
              "    <path d=\"M0 0h24v24H0V0z\" fill=\"none\"/>\n",
              "    <path d=\"M18.56 5.44l.94 2.06.94-2.06 2.06-.94-2.06-.94-.94-2.06-.94 2.06-2.06.94zm-11 1L8.5 8.5l.94-2.06 2.06-.94-2.06-.94L8.5 2.5l-.94 2.06-2.06.94zm10 10l.94 2.06.94-2.06 2.06-.94-2.06-.94-.94-2.06-.94 2.06-2.06.94z\"/><path d=\"M17.41 7.96l-1.37-1.37c-.4-.4-.92-.59-1.43-.59-.52 0-1.04.2-1.43.59L10.3 9.45l-7.72 7.72c-.78.78-.78 2.05 0 2.83L4 21.41c.39.39.9.59 1.41.59.51 0 1.02-.2 1.41-.59l7.78-7.78 2.81-2.81c.8-.78.8-2.07 0-2.86zM5.41 20L4 18.59l7.72-7.72 1.47 1.35L5.41 20z\"/>\n",
              "  </svg>\n",
              "      </button>\n",
              "      \n",
              "  <style>\n",
              "    .colab-df-container {\n",
              "      display:flex;\n",
              "      flex-wrap:wrap;\n",
              "      gap: 12px;\n",
              "    }\n",
              "\n",
              "    .colab-df-convert {\n",
              "      background-color: #E8F0FE;\n",
              "      border: none;\n",
              "      border-radius: 50%;\n",
              "      cursor: pointer;\n",
              "      display: none;\n",
              "      fill: #1967D2;\n",
              "      height: 32px;\n",
              "      padding: 0 0 0 0;\n",
              "      width: 32px;\n",
              "    }\n",
              "\n",
              "    .colab-df-convert:hover {\n",
              "      background-color: #E2EBFA;\n",
              "      box-shadow: 0px 1px 2px rgba(60, 64, 67, 0.3), 0px 1px 3px 1px rgba(60, 64, 67, 0.15);\n",
              "      fill: #174EA6;\n",
              "    }\n",
              "\n",
              "    [theme=dark] .colab-df-convert {\n",
              "      background-color: #3B4455;\n",
              "      fill: #D2E3FC;\n",
              "    }\n",
              "\n",
              "    [theme=dark] .colab-df-convert:hover {\n",
              "      background-color: #434B5C;\n",
              "      box-shadow: 0px 1px 3px 1px rgba(0, 0, 0, 0.15);\n",
              "      filter: drop-shadow(0px 1px 2px rgba(0, 0, 0, 0.3));\n",
              "      fill: #FFFFFF;\n",
              "    }\n",
              "  </style>\n",
              "\n",
              "      <script>\n",
              "        const buttonEl =\n",
              "          document.querySelector('#df-22484d5e-4fc2-47b7-a7c1-70560d37d031 button.colab-df-convert');\n",
              "        buttonEl.style.display =\n",
              "          google.colab.kernel.accessAllowed ? 'block' : 'none';\n",
              "\n",
              "        async function convertToInteractive(key) {\n",
              "          const element = document.querySelector('#df-22484d5e-4fc2-47b7-a7c1-70560d37d031');\n",
              "          const dataTable =\n",
              "            await google.colab.kernel.invokeFunction('convertToInteractive',\n",
              "                                                     [key], {});\n",
              "          if (!dataTable) return;\n",
              "\n",
              "          const docLinkHtml = 'Like what you see? Visit the ' +\n",
              "            '<a target=\"_blank\" href=https://colab.research.google.com/notebooks/data_table.ipynb>data table notebook</a>'\n",
              "            + ' to learn more about interactive tables.';\n",
              "          element.innerHTML = '';\n",
              "          dataTable['output_type'] = 'display_data';\n",
              "          await google.colab.output.renderOutput(dataTable, element);\n",
              "          const docLink = document.createElement('div');\n",
              "          docLink.innerHTML = docLinkHtml;\n",
              "          element.appendChild(docLink);\n",
              "        }\n",
              "      </script>\n",
              "    </div>\n",
              "  </div>\n",
              "  "
            ]
          },
          "metadata": {}
        }
      ]
    },
    {
      "cell_type": "markdown",
      "source": [
        ""
      ],
      "metadata": {
        "id": "ahXXlUkMiygC"
      }
    },
    {
      "cell_type": "markdown",
      "source": [
        "**Random State**"
      ],
      "metadata": {
        "id": "hm_z58NE52HZ"
      }
    },
    {
      "cell_type": "markdown",
      "source": [
        "동일한 하이퍼파라미터와 데이터를 사용했는데 알고리즘을 작동시킬 때마다 다른 모델 학습 결과가 나온다.\n",
        "<br/>딥러닝 모델은 Random State로 작동하는 것인가?\n",
        "<br/>그렇다면 Random State로 작동하는 딥러닝 모델의 성능을 어떻게 측정할 수 있는가?\n",
        "<br/>매번 달라지는 모델 성능을 어떻게 확률분포로 나타낼 수 있는가?"
      ],
      "metadata": {
        "id": "8pAEFfUc305v"
      }
    },
    {
      "cell_type": "markdown",
      "source": [
        ""
      ],
      "metadata": {
        "id": "iKBGieopix5c"
      }
    },
    {
      "cell_type": "markdown",
      "source": [
        "**모델 초기화**"
      ],
      "metadata": {
        "id": "pgW7_j1_MzG4"
      }
    },
    {
      "cell_type": "markdown",
      "source": [
        "하이퍼파라미터 튜닝을 하여 새로운 모델을 구성하고 다시 학습할 때\n",
        "Google Colab의 런타임을 다시 시작해야 한다.\n",
        "<br/>런타임 재시작할 때마다 처음부터 코드를 작동시켜야하는 번거로움을 느낀다.\n",
        "<br/>모델 초기화 함수 코드가 있었다면 런타임을 재시작하지 않아도 되었을 것이다.\n",
        "<br/>모델 초기화 함수의 필요성을 느낀다."
      ],
      "metadata": {
        "id": "u5aYks5YMzSG"
      }
    },
    {
      "cell_type": "markdown",
      "source": [
        ""
      ],
      "metadata": {
        "id": "lcIosUgbivF1"
      }
    },
    {
      "cell_type": "markdown",
      "source": [
        "**Epoch and Overfitting**"
      ],
      "metadata": {
        "id": "fVdK3S0aEw4K"
      }
    },
    {
      "cell_type": "markdown",
      "source": [
        "Epoch가 늘어날수록 Train Loss값은 떨어지지만\n",
        "<br/>어느 임계점을 넘어서면 Test Loss가 커지면서 과적합 문제가 발생한다.\n",
        "<br/>Train Loss과 Test Loss가 수렴을 하다가 그 차이가 벌어지면 과적합 문제가 발생한 것이다.\n",
        "<br/>따라서 적합한 Epoch에서 학습을 진행하는 것이 바람직하다."
      ],
      "metadata": {
        "id": "hX0apkUiEz4D"
      }
    },
    {
      "cell_type": "markdown",
      "source": [
        "적합한 Epoch는 무엇에 의해 판단되는가?\n",
        "<br/>그 판단 기준 중의 하나가 데이터의 크기라고 생각한다.\n",
        "<br/>데이터의 크기가 클수록 Epoch를 크게 잡아도 과적합 문제가 발생할 가능성이 크지 않다고 생각한다.\n",
        "<br/>데이터의 크기가 크다는 것은 학습 영역의 넓이가 넓다는 것이다.\n",
        "<br/>그래서 Epoch을 크게 잡아도 Loss값은 계속 떨어지며 지속적인 모델 학습 효과를 낼 수 있을 것이다."
      ],
      "metadata": {
        "id": "UiHu1L7QH3Xz"
      }
    },
    {
      "cell_type": "markdown",
      "source": [
        "번역기 알고리즘에 쓰인 한국어-영어 병렬 데이터의 크기가 지금보다 몇천배 컸더라면\n",
        "<br/>Epoch은 2자리수로 충분하지 않을 것이다. \n",
        "<br/>3~4자리수로 Epoch을 시도하면서 Loss값의 추이를 확인하는 과정이 필요할 것이다."
      ],
      "metadata": {
        "id": "Aj8lWpwIDaPu"
      }
    },
    {
      "cell_type": "markdown",
      "source": [
        "최적의 Epoch를 설정하는 기법으로 Early Stopping이 있다.\n",
        "<br/>Early Stopping은 검증 셋의 손실 값이 최소가 되는 순간 학습을 멈춤으로써 과대 적합을 방지한다. "
      ],
      "metadata": {
        "id": "tTCP5sqiFy2r"
      }
    },
    {
      "cell_type": "markdown",
      "source": [
        ""
      ],
      "metadata": {
        "id": "6Jc3tjUQiv2b"
      }
    },
    {
      "cell_type": "markdown",
      "source": [
        "#참고문헌"
      ],
      "metadata": {
        "id": "VbhCZ1jZQj2B"
      }
    },
    {
      "cell_type": "markdown",
      "source": [
        "**LMS**\n",
        "<br/>[dev-sngwn](https://github.com/dev-sngwn)\n",
        "\n",
        "<br/>**단행본**\n",
        "<br/>유원준 외 1명, 『딥러닝을 이용한 자연어 처리 입문』, Wikidocs, 2022\n",
        "<br/>[불용어(Stopword)](https://wikidocs.net/22530)\n",
        "<br/>[네이버 영화 리뷰 감성 분류하기(Naver Movie Review Sentiment Analysis)](https://wikidocs.net/44249)\n",
        "<br/><br/>유원준 외 1명, 『PyTorch로 시작하는 딥러닝 입문』, Wikidocs, 2022\n",
        "<br/>[선형 회귀(Linear Regression)](https://wikidocs.net/53560)\n",
        "\n",
        "<br/>**공식 사이트**\n",
        "<br/>DACON\n",
        "<br/>[금융 문자 분석 경진대회 SOMJANG 최종 순위 59위 코드](https://dacon.io/competitions/open/235401/codeshare/661)\n",
        "<br/>[2021 농산물 가격예측 AI 경진대회 baseline 어텐션이 적용된 Seq2Seq](https://dacon.io/competitions/official/235801/codeshare/3172)\n",
        "<br/><br/>Tensorflow\n",
        "<br/>[어텐션을 사용한 인공 신경망 기계 번역](https://www.tensorflow.org/tutorials/text/nmt_with_attention?hl=ko)\n",
        "<br/>[tf.function으로 성능 향상하기](https://www.tensorflow.org/guide/function?hl=ko)\n",
        "<br/>[그래디언트 및 자동 미분 소개](https://www.tensorflow.org/guide/autodiff?hl=ko)\n",
        "<br/>[tf.keras.layers.GRU](https://www.tensorflow.org/api_docs/python/tf/keras/layers/GRU)\n",
        "<br/>[tf.keras.layers.Dropout](https://www.tensorflow.org/api_docs/python/tf/keras/layers/Dropout)\n",
        "<br/><br/>RStudio AI Blog\n",
        "<br/>[Attention-based Neural Machine Translation with Keras](https://blogs.rstudio.com/ai/posts/2018-07-30-attention-layer/)\n",
        "\n",
        "<br/>**깃허브**\n",
        "<br/>[Korean English News V1](https://github.com/jungyeul/korean-parallel-corpora/tree/master/korean-english-news-v1)\n",
        "<br/>[train 데이터에서 한영 문장이 매치되지 않습니다. #2](https://github.com/haven-jeon/ko_en_neural_machine_translation/issues/2)\n",
        "<br/>[tqdm](https://github.com/tqdm/tqdm)\n",
        "<br/>[GD_NLP_4_seq2seq_translation.ipynb](https://github.com/suheeeee/my_deeplearning_project/blob/main/going_deeper/GD_NLP_4_seq2seq_translation.ipynb)\n",
        "\n",
        "<br/>**웹사이트**\n",
        "<br/>[Python 정규표현식 - re.sub : 원하는 문자만 남기고 제거하기](https://kyhslam.tistory.com/entry/Python-%EC%A0%95%EA%B7%9C%ED%91%9C%ED%98%84%EC%8B%9D-resub-%EC%9B%90%ED%95%98%EB%8A%94-%EB%AC%B8%EC%9E%90%EB%A7%8C-%EB%82%A8%EA%B8%B0%EA%B3%A0-%EC%A0%9C%EA%B1%B0%ED%95%98%EA%B8%B0)\n",
        "<br/>[Codetorial 자연어 처리하기 1](https://codetorial.net/tensorflow/natural_language_processing_in_tensorflow_01.html)\n",
        "<br/>[Python - list vs tuple, set vs dictionary](https://phin09.tistory.com/43)\n",
        "<br/>[python - dictionary 의 key, value 를 출력 하는 방법. dictionary loop](https://junho85.pe.kr/671)\n",
        "<br/>[Python 사전을 Pandas DataFrame으로 변환하는 방법](https://www.delftstack.com/ko/howto/python-pandas/how-to-convert-python-dictionary-to-pandas-dataframe/)\n",
        "<br/>[pandas의 DataFrame에 대한 Inner Join, Outer Join, Left Join, Right Join](http://www.gisdeveloper.co.kr/?p=8255)\n",
        "<br/>[python pandas select both head and tail](https://stackoverflow.com/questions/42504984/python-pandas-select-both-head-and-tail)\n",
        "<br/>[pandas: multiple conditions while indexing data frame - unexpected behavior](https://stackoverflow.com/questions/22591174/pandas-multiple-conditions-while-indexing-data-frame-unexpected-behavior)\n",
        "<br/>[Tensorflow-3.6 이미지 분류 모델(6)-학습과정확인](https://gooopy.tistory.com/94)\n",
        "<br/>[Tensorflow-3.7 이미지 분류 모델(7)-조기종료와 콜백](https://gooopy.tistory.com/95?category=876252)\n",
        "<br/>[매트랩으로 배우는 인공지능 - 7 | Training Option](https://sedangdang.tistory.com/144)\n",
        "\n",
        "<br/>**공부**\n",
        "<br/>[tensorflow2.0 series: Eagle execution and Auto Graph](https://programmer.group/tensorflow2.0-series-eagle-execution-and-auto-graph.html)\n"
      ],
      "metadata": {
        "id": "1SDdGdnJKVQl"
      }
    }
  ]
}