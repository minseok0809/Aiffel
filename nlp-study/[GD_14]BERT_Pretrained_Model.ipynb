{
  "nbformat": 4,
  "nbformat_minor": 0,
  "metadata": {
    "colab": {
      "name": "[GD_14]BERT_Pretrained_Model.ipynb",
      "provenance": [],
      "collapsed_sections": [],
      "machine_shape": "hm",
      "toc_visible": true
    },
    "kernelspec": {
      "name": "python3",
      "display_name": "Python 3"
    },
    "language_info": {
      "name": "python"
    },
    "accelerator": "GPU",
    "gpuClass": "standard",
    "widgets": {
      "application/vnd.jupyter.widget-state+json": {
        "729e6ee8eca143cba12403a8530b91ba": {
          "model_module": "@jupyter-widgets/controls",
          "model_name": "HBoxModel",
          "model_module_version": "1.5.0",
          "state": {
            "_dom_classes": [],
            "_model_module": "@jupyter-widgets/controls",
            "_model_module_version": "1.5.0",
            "_model_name": "HBoxModel",
            "_view_count": null,
            "_view_module": "@jupyter-widgets/controls",
            "_view_module_version": "1.5.0",
            "_view_name": "HBoxView",
            "box_style": "",
            "children": [
              "IPY_MODEL_5bc33bd2855f4ebb80416d3b590f014d",
              "IPY_MODEL_8ca40527eef84c1fbdda7175e000449d",
              "IPY_MODEL_838b9355bccd4fb798ee780c0869ec8b"
            ],
            "layout": "IPY_MODEL_f5033ee57af84769a15af4ad73360011"
          }
        },
        "5bc33bd2855f4ebb80416d3b590f014d": {
          "model_module": "@jupyter-widgets/controls",
          "model_name": "HTMLModel",
          "model_module_version": "1.5.0",
          "state": {
            "_dom_classes": [],
            "_model_module": "@jupyter-widgets/controls",
            "_model_module_version": "1.5.0",
            "_model_name": "HTMLModel",
            "_view_count": null,
            "_view_module": "@jupyter-widgets/controls",
            "_view_module_version": "1.5.0",
            "_view_name": "HTMLView",
            "description": "",
            "description_tooltip": null,
            "layout": "IPY_MODEL_009a5094ce624fa8b13d141dc388d27c",
            "placeholder": "​",
            "style": "IPY_MODEL_da65c4e6cda64bf4a5d57f5aeaab85b2",
            "value": "  0%"
          }
        },
        "8ca40527eef84c1fbdda7175e000449d": {
          "model_module": "@jupyter-widgets/controls",
          "model_name": "FloatProgressModel",
          "model_module_version": "1.5.0",
          "state": {
            "_dom_classes": [],
            "_model_module": "@jupyter-widgets/controls",
            "_model_module_version": "1.5.0",
            "_model_name": "FloatProgressModel",
            "_view_count": null,
            "_view_module": "@jupyter-widgets/controls",
            "_view_module_version": "1.5.0",
            "_view_name": "ProgressView",
            "bar_style": "danger",
            "description": "",
            "description_tooltip": null,
            "layout": "IPY_MODEL_841fb9d1803a4c48b18a8fc6f58633a5",
            "max": 3724301,
            "min": 0,
            "orientation": "horizontal",
            "style": "IPY_MODEL_73841ef05e8a475d868c70459b43ed6d",
            "value": 2181
          }
        },
        "838b9355bccd4fb798ee780c0869ec8b": {
          "model_module": "@jupyter-widgets/controls",
          "model_name": "HTMLModel",
          "model_module_version": "1.5.0",
          "state": {
            "_dom_classes": [],
            "_model_module": "@jupyter-widgets/controls",
            "_model_module_version": "1.5.0",
            "_model_name": "HTMLModel",
            "_view_count": null,
            "_view_module": "@jupyter-widgets/controls",
            "_view_module_version": "1.5.0",
            "_view_name": "HTMLView",
            "description": "",
            "description_tooltip": null,
            "layout": "IPY_MODEL_e6bf445e0f9142c090d26eb12cb27982",
            "placeholder": "​",
            "style": "IPY_MODEL_3ced9f32fead4d94a1196e5b998f05e6",
            "value": " 2181/3724301 [00:00&lt;08:17, 7481.59it/s]"
          }
        },
        "f5033ee57af84769a15af4ad73360011": {
          "model_module": "@jupyter-widgets/base",
          "model_name": "LayoutModel",
          "model_module_version": "1.2.0",
          "state": {
            "_model_module": "@jupyter-widgets/base",
            "_model_module_version": "1.2.0",
            "_model_name": "LayoutModel",
            "_view_count": null,
            "_view_module": "@jupyter-widgets/base",
            "_view_module_version": "1.2.0",
            "_view_name": "LayoutView",
            "align_content": null,
            "align_items": null,
            "align_self": null,
            "border": null,
            "bottom": null,
            "display": null,
            "flex": null,
            "flex_flow": null,
            "grid_area": null,
            "grid_auto_columns": null,
            "grid_auto_flow": null,
            "grid_auto_rows": null,
            "grid_column": null,
            "grid_gap": null,
            "grid_row": null,
            "grid_template_areas": null,
            "grid_template_columns": null,
            "grid_template_rows": null,
            "height": null,
            "justify_content": null,
            "justify_items": null,
            "left": null,
            "margin": null,
            "max_height": null,
            "max_width": null,
            "min_height": null,
            "min_width": null,
            "object_fit": null,
            "object_position": null,
            "order": null,
            "overflow": null,
            "overflow_x": null,
            "overflow_y": null,
            "padding": null,
            "right": null,
            "top": null,
            "visibility": null,
            "width": null
          }
        },
        "009a5094ce624fa8b13d141dc388d27c": {
          "model_module": "@jupyter-widgets/base",
          "model_name": "LayoutModel",
          "model_module_version": "1.2.0",
          "state": {
            "_model_module": "@jupyter-widgets/base",
            "_model_module_version": "1.2.0",
            "_model_name": "LayoutModel",
            "_view_count": null,
            "_view_module": "@jupyter-widgets/base",
            "_view_module_version": "1.2.0",
            "_view_name": "LayoutView",
            "align_content": null,
            "align_items": null,
            "align_self": null,
            "border": null,
            "bottom": null,
            "display": null,
            "flex": null,
            "flex_flow": null,
            "grid_area": null,
            "grid_auto_columns": null,
            "grid_auto_flow": null,
            "grid_auto_rows": null,
            "grid_column": null,
            "grid_gap": null,
            "grid_row": null,
            "grid_template_areas": null,
            "grid_template_columns": null,
            "grid_template_rows": null,
            "height": null,
            "justify_content": null,
            "justify_items": null,
            "left": null,
            "margin": null,
            "max_height": null,
            "max_width": null,
            "min_height": null,
            "min_width": null,
            "object_fit": null,
            "object_position": null,
            "order": null,
            "overflow": null,
            "overflow_x": null,
            "overflow_y": null,
            "padding": null,
            "right": null,
            "top": null,
            "visibility": null,
            "width": null
          }
        },
        "da65c4e6cda64bf4a5d57f5aeaab85b2": {
          "model_module": "@jupyter-widgets/controls",
          "model_name": "DescriptionStyleModel",
          "model_module_version": "1.5.0",
          "state": {
            "_model_module": "@jupyter-widgets/controls",
            "_model_module_version": "1.5.0",
            "_model_name": "DescriptionStyleModel",
            "_view_count": null,
            "_view_module": "@jupyter-widgets/base",
            "_view_module_version": "1.2.0",
            "_view_name": "StyleView",
            "description_width": ""
          }
        },
        "841fb9d1803a4c48b18a8fc6f58633a5": {
          "model_module": "@jupyter-widgets/base",
          "model_name": "LayoutModel",
          "model_module_version": "1.2.0",
          "state": {
            "_model_module": "@jupyter-widgets/base",
            "_model_module_version": "1.2.0",
            "_model_name": "LayoutModel",
            "_view_count": null,
            "_view_module": "@jupyter-widgets/base",
            "_view_module_version": "1.2.0",
            "_view_name": "LayoutView",
            "align_content": null,
            "align_items": null,
            "align_self": null,
            "border": null,
            "bottom": null,
            "display": null,
            "flex": null,
            "flex_flow": null,
            "grid_area": null,
            "grid_auto_columns": null,
            "grid_auto_flow": null,
            "grid_auto_rows": null,
            "grid_column": null,
            "grid_gap": null,
            "grid_row": null,
            "grid_template_areas": null,
            "grid_template_columns": null,
            "grid_template_rows": null,
            "height": null,
            "justify_content": null,
            "justify_items": null,
            "left": null,
            "margin": null,
            "max_height": null,
            "max_width": null,
            "min_height": null,
            "min_width": null,
            "object_fit": null,
            "object_position": null,
            "order": null,
            "overflow": null,
            "overflow_x": null,
            "overflow_y": null,
            "padding": null,
            "right": null,
            "top": null,
            "visibility": null,
            "width": null
          }
        },
        "73841ef05e8a475d868c70459b43ed6d": {
          "model_module": "@jupyter-widgets/controls",
          "model_name": "ProgressStyleModel",
          "model_module_version": "1.5.0",
          "state": {
            "_model_module": "@jupyter-widgets/controls",
            "_model_module_version": "1.5.0",
            "_model_name": "ProgressStyleModel",
            "_view_count": null,
            "_view_module": "@jupyter-widgets/base",
            "_view_module_version": "1.2.0",
            "_view_name": "StyleView",
            "bar_color": null,
            "description_width": ""
          }
        },
        "e6bf445e0f9142c090d26eb12cb27982": {
          "model_module": "@jupyter-widgets/base",
          "model_name": "LayoutModel",
          "model_module_version": "1.2.0",
          "state": {
            "_model_module": "@jupyter-widgets/base",
            "_model_module_version": "1.2.0",
            "_model_name": "LayoutModel",
            "_view_count": null,
            "_view_module": "@jupyter-widgets/base",
            "_view_module_version": "1.2.0",
            "_view_name": "LayoutView",
            "align_content": null,
            "align_items": null,
            "align_self": null,
            "border": null,
            "bottom": null,
            "display": null,
            "flex": null,
            "flex_flow": null,
            "grid_area": null,
            "grid_auto_columns": null,
            "grid_auto_flow": null,
            "grid_auto_rows": null,
            "grid_column": null,
            "grid_gap": null,
            "grid_row": null,
            "grid_template_areas": null,
            "grid_template_columns": null,
            "grid_template_rows": null,
            "height": null,
            "justify_content": null,
            "justify_items": null,
            "left": null,
            "margin": null,
            "max_height": null,
            "max_width": null,
            "min_height": null,
            "min_width": null,
            "object_fit": null,
            "object_position": null,
            "order": null,
            "overflow": null,
            "overflow_x": null,
            "overflow_y": null,
            "padding": null,
            "right": null,
            "top": null,
            "visibility": null,
            "width": null
          }
        },
        "3ced9f32fead4d94a1196e5b998f05e6": {
          "model_module": "@jupyter-widgets/controls",
          "model_name": "DescriptionStyleModel",
          "model_module_version": "1.5.0",
          "state": {
            "_model_module": "@jupyter-widgets/controls",
            "_model_module_version": "1.5.0",
            "_model_name": "DescriptionStyleModel",
            "_view_count": null,
            "_view_module": "@jupyter-widgets/base",
            "_view_module_version": "1.2.0",
            "_view_name": "StyleView",
            "description_width": ""
          }
        },
        "4d1e8c8655ba4fa8bddec36724381560": {
          "model_module": "@jupyter-widgets/controls",
          "model_name": "HBoxModel",
          "model_module_version": "1.5.0",
          "state": {
            "_dom_classes": [],
            "_model_module": "@jupyter-widgets/controls",
            "_model_module_version": "1.5.0",
            "_model_name": "HBoxModel",
            "_view_count": null,
            "_view_module": "@jupyter-widgets/controls",
            "_view_module_version": "1.5.0",
            "_view_name": "HBoxView",
            "box_style": "",
            "children": [
              "IPY_MODEL_659452b168954d1bbd9a7ef3400e1cb4",
              "IPY_MODEL_a8700e19a435405aa1f9eb17eb1a759a",
              "IPY_MODEL_ff1439046666456d89f361ddeae953b2"
            ],
            "layout": "IPY_MODEL_e54109c086844cdb9779c5c955152f65"
          }
        },
        "659452b168954d1bbd9a7ef3400e1cb4": {
          "model_module": "@jupyter-widgets/controls",
          "model_name": "HTMLModel",
          "model_module_version": "1.5.0",
          "state": {
            "_dom_classes": [],
            "_model_module": "@jupyter-widgets/controls",
            "_model_module_version": "1.5.0",
            "_model_name": "HTMLModel",
            "_view_count": null,
            "_view_module": "@jupyter-widgets/controls",
            "_view_module_version": "1.5.0",
            "_view_name": "HTMLView",
            "description": "",
            "description_tooltip": null,
            "layout": "IPY_MODEL_bda722cbed734fe2a13a192926c5062c",
            "placeholder": "​",
            "style": "IPY_MODEL_732795ad6fc548b494843d84133b3d79",
            "value": "100%"
          }
        },
        "a8700e19a435405aa1f9eb17eb1a759a": {
          "model_module": "@jupyter-widgets/controls",
          "model_name": "FloatProgressModel",
          "model_module_version": "1.5.0",
          "state": {
            "_dom_classes": [],
            "_model_module": "@jupyter-widgets/controls",
            "_model_module_version": "1.5.0",
            "_model_name": "FloatProgressModel",
            "_view_count": null,
            "_view_module": "@jupyter-widgets/controls",
            "_view_module_version": "1.5.0",
            "_view_name": "ProgressView",
            "bar_style": "success",
            "description": "",
            "description_tooltip": null,
            "layout": "IPY_MODEL_2f616364e90e4647abf8859892cadc66",
            "max": 3724301,
            "min": 0,
            "orientation": "horizontal",
            "style": "IPY_MODEL_88a4aeb85d6c43d09cf1cf0fa722b7a4",
            "value": 3724301
          }
        },
        "ff1439046666456d89f361ddeae953b2": {
          "model_module": "@jupyter-widgets/controls",
          "model_name": "HTMLModel",
          "model_module_version": "1.5.0",
          "state": {
            "_dom_classes": [],
            "_model_module": "@jupyter-widgets/controls",
            "_model_module_version": "1.5.0",
            "_model_name": "HTMLModel",
            "_view_count": null,
            "_view_module": "@jupyter-widgets/controls",
            "_view_module_version": "1.5.0",
            "_view_name": "HTMLView",
            "description": "",
            "description_tooltip": null,
            "layout": "IPY_MODEL_106544e985aa4815b2cd4a84d24dc520",
            "placeholder": "​",
            "style": "IPY_MODEL_823c53534a6648efbdeb551e0456971f",
            "value": " 3724301/3724301 [05:07&lt;00:00, 15057.87it/s]"
          }
        },
        "e54109c086844cdb9779c5c955152f65": {
          "model_module": "@jupyter-widgets/base",
          "model_name": "LayoutModel",
          "model_module_version": "1.2.0",
          "state": {
            "_model_module": "@jupyter-widgets/base",
            "_model_module_version": "1.2.0",
            "_model_name": "LayoutModel",
            "_view_count": null,
            "_view_module": "@jupyter-widgets/base",
            "_view_module_version": "1.2.0",
            "_view_name": "LayoutView",
            "align_content": null,
            "align_items": null,
            "align_self": null,
            "border": null,
            "bottom": null,
            "display": null,
            "flex": null,
            "flex_flow": null,
            "grid_area": null,
            "grid_auto_columns": null,
            "grid_auto_flow": null,
            "grid_auto_rows": null,
            "grid_column": null,
            "grid_gap": null,
            "grid_row": null,
            "grid_template_areas": null,
            "grid_template_columns": null,
            "grid_template_rows": null,
            "height": null,
            "justify_content": null,
            "justify_items": null,
            "left": null,
            "margin": null,
            "max_height": null,
            "max_width": null,
            "min_height": null,
            "min_width": null,
            "object_fit": null,
            "object_position": null,
            "order": null,
            "overflow": null,
            "overflow_x": null,
            "overflow_y": null,
            "padding": null,
            "right": null,
            "top": null,
            "visibility": null,
            "width": null
          }
        },
        "bda722cbed734fe2a13a192926c5062c": {
          "model_module": "@jupyter-widgets/base",
          "model_name": "LayoutModel",
          "model_module_version": "1.2.0",
          "state": {
            "_model_module": "@jupyter-widgets/base",
            "_model_module_version": "1.2.0",
            "_model_name": "LayoutModel",
            "_view_count": null,
            "_view_module": "@jupyter-widgets/base",
            "_view_module_version": "1.2.0",
            "_view_name": "LayoutView",
            "align_content": null,
            "align_items": null,
            "align_self": null,
            "border": null,
            "bottom": null,
            "display": null,
            "flex": null,
            "flex_flow": null,
            "grid_area": null,
            "grid_auto_columns": null,
            "grid_auto_flow": null,
            "grid_auto_rows": null,
            "grid_column": null,
            "grid_gap": null,
            "grid_row": null,
            "grid_template_areas": null,
            "grid_template_columns": null,
            "grid_template_rows": null,
            "height": null,
            "justify_content": null,
            "justify_items": null,
            "left": null,
            "margin": null,
            "max_height": null,
            "max_width": null,
            "min_height": null,
            "min_width": null,
            "object_fit": null,
            "object_position": null,
            "order": null,
            "overflow": null,
            "overflow_x": null,
            "overflow_y": null,
            "padding": null,
            "right": null,
            "top": null,
            "visibility": null,
            "width": null
          }
        },
        "732795ad6fc548b494843d84133b3d79": {
          "model_module": "@jupyter-widgets/controls",
          "model_name": "DescriptionStyleModel",
          "model_module_version": "1.5.0",
          "state": {
            "_model_module": "@jupyter-widgets/controls",
            "_model_module_version": "1.5.0",
            "_model_name": "DescriptionStyleModel",
            "_view_count": null,
            "_view_module": "@jupyter-widgets/base",
            "_view_module_version": "1.2.0",
            "_view_name": "StyleView",
            "description_width": ""
          }
        },
        "2f616364e90e4647abf8859892cadc66": {
          "model_module": "@jupyter-widgets/base",
          "model_name": "LayoutModel",
          "model_module_version": "1.2.0",
          "state": {
            "_model_module": "@jupyter-widgets/base",
            "_model_module_version": "1.2.0",
            "_model_name": "LayoutModel",
            "_view_count": null,
            "_view_module": "@jupyter-widgets/base",
            "_view_module_version": "1.2.0",
            "_view_name": "LayoutView",
            "align_content": null,
            "align_items": null,
            "align_self": null,
            "border": null,
            "bottom": null,
            "display": null,
            "flex": null,
            "flex_flow": null,
            "grid_area": null,
            "grid_auto_columns": null,
            "grid_auto_flow": null,
            "grid_auto_rows": null,
            "grid_column": null,
            "grid_gap": null,
            "grid_row": null,
            "grid_template_areas": null,
            "grid_template_columns": null,
            "grid_template_rows": null,
            "height": null,
            "justify_content": null,
            "justify_items": null,
            "left": null,
            "margin": null,
            "max_height": null,
            "max_width": null,
            "min_height": null,
            "min_width": null,
            "object_fit": null,
            "object_position": null,
            "order": null,
            "overflow": null,
            "overflow_x": null,
            "overflow_y": null,
            "padding": null,
            "right": null,
            "top": null,
            "visibility": null,
            "width": null
          }
        },
        "88a4aeb85d6c43d09cf1cf0fa722b7a4": {
          "model_module": "@jupyter-widgets/controls",
          "model_name": "ProgressStyleModel",
          "model_module_version": "1.5.0",
          "state": {
            "_model_module": "@jupyter-widgets/controls",
            "_model_module_version": "1.5.0",
            "_model_name": "ProgressStyleModel",
            "_view_count": null,
            "_view_module": "@jupyter-widgets/base",
            "_view_module_version": "1.2.0",
            "_view_name": "StyleView",
            "bar_color": null,
            "description_width": ""
          }
        },
        "106544e985aa4815b2cd4a84d24dc520": {
          "model_module": "@jupyter-widgets/base",
          "model_name": "LayoutModel",
          "model_module_version": "1.2.0",
          "state": {
            "_model_module": "@jupyter-widgets/base",
            "_model_module_version": "1.2.0",
            "_model_name": "LayoutModel",
            "_view_count": null,
            "_view_module": "@jupyter-widgets/base",
            "_view_module_version": "1.2.0",
            "_view_name": "LayoutView",
            "align_content": null,
            "align_items": null,
            "align_self": null,
            "border": null,
            "bottom": null,
            "display": null,
            "flex": null,
            "flex_flow": null,
            "grid_area": null,
            "grid_auto_columns": null,
            "grid_auto_flow": null,
            "grid_auto_rows": null,
            "grid_column": null,
            "grid_gap": null,
            "grid_row": null,
            "grid_template_areas": null,
            "grid_template_columns": null,
            "grid_template_rows": null,
            "height": null,
            "justify_content": null,
            "justify_items": null,
            "left": null,
            "margin": null,
            "max_height": null,
            "max_width": null,
            "min_height": null,
            "min_width": null,
            "object_fit": null,
            "object_position": null,
            "order": null,
            "overflow": null,
            "overflow_x": null,
            "overflow_y": null,
            "padding": null,
            "right": null,
            "top": null,
            "visibility": null,
            "width": null
          }
        },
        "823c53534a6648efbdeb551e0456971f": {
          "model_module": "@jupyter-widgets/controls",
          "model_name": "DescriptionStyleModel",
          "model_module_version": "1.5.0",
          "state": {
            "_model_module": "@jupyter-widgets/controls",
            "_model_module_version": "1.5.0",
            "_model_name": "DescriptionStyleModel",
            "_view_count": null,
            "_view_module": "@jupyter-widgets/base",
            "_view_module_version": "1.2.0",
            "_view_name": "StyleView",
            "description_width": ""
          }
        },
        "7715410c8e224a16a268d379680656ca": {
          "model_module": "@jupyter-widgets/controls",
          "model_name": "HBoxModel",
          "model_module_version": "1.5.0",
          "state": {
            "_dom_classes": [],
            "_model_module": "@jupyter-widgets/controls",
            "_model_module_version": "1.5.0",
            "_model_name": "HBoxModel",
            "_view_count": null,
            "_view_module": "@jupyter-widgets/controls",
            "_view_module_version": "1.5.0",
            "_view_name": "HBoxView",
            "box_style": "",
            "children": [
              "IPY_MODEL_63b583771c884d1a87ea71514d7a0ba1",
              "IPY_MODEL_b6f80d2c2caf4e1c91e5eadb0f5beb53",
              "IPY_MODEL_903598b101894d45a0eec7b0a96f32e7"
            ],
            "layout": "IPY_MODEL_3c1241dae3804c8e916b3f1527630340"
          }
        },
        "63b583771c884d1a87ea71514d7a0ba1": {
          "model_module": "@jupyter-widgets/controls",
          "model_name": "HTMLModel",
          "model_module_version": "1.5.0",
          "state": {
            "_dom_classes": [],
            "_model_module": "@jupyter-widgets/controls",
            "_model_module_version": "1.5.0",
            "_model_name": "HTMLModel",
            "_view_count": null,
            "_view_module": "@jupyter-widgets/controls",
            "_view_module_version": "1.5.0",
            "_view_name": "HTMLView",
            "description": "",
            "description_tooltip": null,
            "layout": "IPY_MODEL_d65de250ddd9468ab3f9db7acc2cb2ee",
            "placeholder": "​",
            "style": "IPY_MODEL_dbc8e1047dcd4b3b80a73a4e0077b701",
            "value": "100%"
          }
        },
        "b6f80d2c2caf4e1c91e5eadb0f5beb53": {
          "model_module": "@jupyter-widgets/controls",
          "model_name": "FloatProgressModel",
          "model_module_version": "1.5.0",
          "state": {
            "_dom_classes": [],
            "_model_module": "@jupyter-widgets/controls",
            "_model_module_version": "1.5.0",
            "_model_name": "FloatProgressModel",
            "_view_count": null,
            "_view_module": "@jupyter-widgets/controls",
            "_view_module_version": "1.5.0",
            "_view_name": "ProgressView",
            "bar_style": "danger",
            "description": "",
            "description_tooltip": null,
            "layout": "IPY_MODEL_365ee938075a4a7999fa01a6a0a6b041",
            "max": 128000,
            "min": 0,
            "orientation": "horizontal",
            "style": "IPY_MODEL_c9ff3064558d44d9b30b9f473b0e0fa7",
            "value": 128000
          }
        },
        "903598b101894d45a0eec7b0a96f32e7": {
          "model_module": "@jupyter-widgets/controls",
          "model_name": "HTMLModel",
          "model_module_version": "1.5.0",
          "state": {
            "_dom_classes": [],
            "_model_module": "@jupyter-widgets/controls",
            "_model_module_version": "1.5.0",
            "_model_name": "HTMLModel",
            "_view_count": null,
            "_view_module": "@jupyter-widgets/controls",
            "_view_module_version": "1.5.0",
            "_view_name": "HTMLView",
            "description": "",
            "description_tooltip": null,
            "layout": "IPY_MODEL_69ccf80b69cd4b1d88fcaf954ca7dbe1",
            "placeholder": "​",
            "style": "IPY_MODEL_857a1c673b92420dbf94fdd1bd99b449",
            "value": " 128000/128000 [00:25&lt;00:00, 4948.38it/s]"
          }
        },
        "3c1241dae3804c8e916b3f1527630340": {
          "model_module": "@jupyter-widgets/base",
          "model_name": "LayoutModel",
          "model_module_version": "1.2.0",
          "state": {
            "_model_module": "@jupyter-widgets/base",
            "_model_module_version": "1.2.0",
            "_model_name": "LayoutModel",
            "_view_count": null,
            "_view_module": "@jupyter-widgets/base",
            "_view_module_version": "1.2.0",
            "_view_name": "LayoutView",
            "align_content": null,
            "align_items": null,
            "align_self": null,
            "border": null,
            "bottom": null,
            "display": null,
            "flex": null,
            "flex_flow": null,
            "grid_area": null,
            "grid_auto_columns": null,
            "grid_auto_flow": null,
            "grid_auto_rows": null,
            "grid_column": null,
            "grid_gap": null,
            "grid_row": null,
            "grid_template_areas": null,
            "grid_template_columns": null,
            "grid_template_rows": null,
            "height": null,
            "justify_content": null,
            "justify_items": null,
            "left": null,
            "margin": null,
            "max_height": null,
            "max_width": null,
            "min_height": null,
            "min_width": null,
            "object_fit": null,
            "object_position": null,
            "order": null,
            "overflow": null,
            "overflow_x": null,
            "overflow_y": null,
            "padding": null,
            "right": null,
            "top": null,
            "visibility": null,
            "width": null
          }
        },
        "d65de250ddd9468ab3f9db7acc2cb2ee": {
          "model_module": "@jupyter-widgets/base",
          "model_name": "LayoutModel",
          "model_module_version": "1.2.0",
          "state": {
            "_model_module": "@jupyter-widgets/base",
            "_model_module_version": "1.2.0",
            "_model_name": "LayoutModel",
            "_view_count": null,
            "_view_module": "@jupyter-widgets/base",
            "_view_module_version": "1.2.0",
            "_view_name": "LayoutView",
            "align_content": null,
            "align_items": null,
            "align_self": null,
            "border": null,
            "bottom": null,
            "display": null,
            "flex": null,
            "flex_flow": null,
            "grid_area": null,
            "grid_auto_columns": null,
            "grid_auto_flow": null,
            "grid_auto_rows": null,
            "grid_column": null,
            "grid_gap": null,
            "grid_row": null,
            "grid_template_areas": null,
            "grid_template_columns": null,
            "grid_template_rows": null,
            "height": null,
            "justify_content": null,
            "justify_items": null,
            "left": null,
            "margin": null,
            "max_height": null,
            "max_width": null,
            "min_height": null,
            "min_width": null,
            "object_fit": null,
            "object_position": null,
            "order": null,
            "overflow": null,
            "overflow_x": null,
            "overflow_y": null,
            "padding": null,
            "right": null,
            "top": null,
            "visibility": null,
            "width": null
          }
        },
        "dbc8e1047dcd4b3b80a73a4e0077b701": {
          "model_module": "@jupyter-widgets/controls",
          "model_name": "DescriptionStyleModel",
          "model_module_version": "1.5.0",
          "state": {
            "_model_module": "@jupyter-widgets/controls",
            "_model_module_version": "1.5.0",
            "_model_name": "DescriptionStyleModel",
            "_view_count": null,
            "_view_module": "@jupyter-widgets/base",
            "_view_module_version": "1.2.0",
            "_view_name": "StyleView",
            "description_width": ""
          }
        },
        "365ee938075a4a7999fa01a6a0a6b041": {
          "model_module": "@jupyter-widgets/base",
          "model_name": "LayoutModel",
          "model_module_version": "1.2.0",
          "state": {
            "_model_module": "@jupyter-widgets/base",
            "_model_module_version": "1.2.0",
            "_model_name": "LayoutModel",
            "_view_count": null,
            "_view_module": "@jupyter-widgets/base",
            "_view_module_version": "1.2.0",
            "_view_name": "LayoutView",
            "align_content": null,
            "align_items": null,
            "align_self": null,
            "border": null,
            "bottom": null,
            "display": null,
            "flex": null,
            "flex_flow": null,
            "grid_area": null,
            "grid_auto_columns": null,
            "grid_auto_flow": null,
            "grid_auto_rows": null,
            "grid_column": null,
            "grid_gap": null,
            "grid_row": null,
            "grid_template_areas": null,
            "grid_template_columns": null,
            "grid_template_rows": null,
            "height": null,
            "justify_content": null,
            "justify_items": null,
            "left": null,
            "margin": null,
            "max_height": null,
            "max_width": null,
            "min_height": null,
            "min_width": null,
            "object_fit": null,
            "object_position": null,
            "order": null,
            "overflow": null,
            "overflow_x": null,
            "overflow_y": null,
            "padding": null,
            "right": null,
            "top": null,
            "visibility": null,
            "width": null
          }
        },
        "c9ff3064558d44d9b30b9f473b0e0fa7": {
          "model_module": "@jupyter-widgets/controls",
          "model_name": "ProgressStyleModel",
          "model_module_version": "1.5.0",
          "state": {
            "_model_module": "@jupyter-widgets/controls",
            "_model_module_version": "1.5.0",
            "_model_name": "ProgressStyleModel",
            "_view_count": null,
            "_view_module": "@jupyter-widgets/base",
            "_view_module_version": "1.2.0",
            "_view_name": "StyleView",
            "bar_color": null,
            "description_width": ""
          }
        },
        "69ccf80b69cd4b1d88fcaf954ca7dbe1": {
          "model_module": "@jupyter-widgets/base",
          "model_name": "LayoutModel",
          "model_module_version": "1.2.0",
          "state": {
            "_model_module": "@jupyter-widgets/base",
            "_model_module_version": "1.2.0",
            "_model_name": "LayoutModel",
            "_view_count": null,
            "_view_module": "@jupyter-widgets/base",
            "_view_module_version": "1.2.0",
            "_view_name": "LayoutView",
            "align_content": null,
            "align_items": null,
            "align_self": null,
            "border": null,
            "bottom": null,
            "display": null,
            "flex": null,
            "flex_flow": null,
            "grid_area": null,
            "grid_auto_columns": null,
            "grid_auto_flow": null,
            "grid_auto_rows": null,
            "grid_column": null,
            "grid_gap": null,
            "grid_row": null,
            "grid_template_areas": null,
            "grid_template_columns": null,
            "grid_template_rows": null,
            "height": null,
            "justify_content": null,
            "justify_items": null,
            "left": null,
            "margin": null,
            "max_height": null,
            "max_width": null,
            "min_height": null,
            "min_width": null,
            "object_fit": null,
            "object_position": null,
            "order": null,
            "overflow": null,
            "overflow_x": null,
            "overflow_y": null,
            "padding": null,
            "right": null,
            "top": null,
            "visibility": null,
            "width": null
          }
        },
        "857a1c673b92420dbf94fdd1bd99b449": {
          "model_module": "@jupyter-widgets/controls",
          "model_name": "DescriptionStyleModel",
          "model_module_version": "1.5.0",
          "state": {
            "_model_module": "@jupyter-widgets/controls",
            "_model_module_version": "1.5.0",
            "_model_name": "DescriptionStyleModel",
            "_view_count": null,
            "_view_module": "@jupyter-widgets/base",
            "_view_module_version": "1.2.0",
            "_view_name": "StyleView",
            "description_width": ""
          }
        }
      }
    }
  },
  "cells": [
    {
      "cell_type": "markdown",
      "source": [
        "## BERT pretrained model 제작"
      ],
      "metadata": {
        "id": "wO5_EybRSuEK"
      }
    },
    {
      "cell_type": "markdown",
      "source": [
        ""
      ],
      "metadata": {
        "id": "D7QWbsoJSxCd"
      }
    },
    {
      "cell_type": "markdown",
      "source": [
        "머리말\n",
        "<br/>개발 환경\n",
        "<br/>데이터 정보\n",
        "<br/>SentencePiece"
      ],
      "metadata": {
        "id": "hTmBkO7-YVVl"
      }
    },
    {
      "cell_type": "markdown",
      "source": [
        "Masked Language Model Train Data\n",
        "<br/>MASK\n",
        "<br/>NSP pair\n",
        "<br/>File I/O\n"
      ],
      "metadata": {
        "id": "ECLQyk2-LrHk"
      }
    },
    {
      "cell_type": "markdown",
      "source": [
        "모델 구성\n",
        "<br/>Utility Function\n",
        "<br/>Config\n",
        "<br/>Token Embedding\n",
        "<br/>Segment Embedding\n",
        "<br/>Transformer Encoder\n",
        "<br/>BERT\n",
        "<br/>Loss Function\n",
        "<br/>Learning Rate Schedule"
      ],
      "metadata": {
        "id": "beCJOvV-LsW0"
      }
    },
    {
      "cell_type": "markdown",
      "source": [
        "Hyperparameter\n",
        "<br/>First Model\n",
        "<br/>Second Model\n",
        "<br/>Third Model\n",
        "<br/>Model Selection\n",
        "<br/>최종 모델\n",
        "<br/>결론\n",
        "<br/>참고문헌"
      ],
      "metadata": {
        "id": "ZbESi9T8LtnL"
      }
    },
    {
      "cell_type": "markdown",
      "source": [
        ""
      ],
      "metadata": {
        "id": "L2ua2xBoYVYN"
      }
    },
    {
      "cell_type": "markdown",
      "source": [
        "#머리말"
      ],
      "metadata": {
        "id": "oCJjwir_YSJW"
      }
    },
    {
      "cell_type": "markdown",
      "source": [
        "전체 파라미터 사이즈가 1M 정도가 되는 Mini BERT 모델을 만들어 수백 MB 수준의 코퍼스 기반으로 Pretrain을 진행한다.\n",
        "<br/>코퍼스 데이터를 가공해서 학습시켜야 할 Task에 적합한 형태의 데이터셋으로 만들어가는 과정을 따라가본다."
      ],
      "metadata": {
        "id": "m4wf36IPS9HL"
      }
    },
    {
      "cell_type": "markdown",
      "source": [
        "#개발 환경"
      ],
      "metadata": {
        "id": "pzk1CpqNSxI8"
      }
    },
    {
      "cell_type": "code",
      "source": [
        "!pip install sentencepiece"
      ],
      "metadata": {
        "id": "ALdlJhUKDew_"
      },
      "execution_count": null,
      "outputs": []
    },
    {
      "cell_type": "code",
      "source": [
        "import os\n",
        "import json\n",
        "import shutil\n",
        "import zipfile\n",
        "from __future__ import absolute_import, division, print_function, unicode_literals"
      ],
      "metadata": {
        "id": "p-cTODnATOPk"
      },
      "execution_count": null,
      "outputs": []
    },
    {
      "cell_type": "code",
      "source": [
        "import math\n",
        "import copy\n",
        "import collections\n",
        "import matplotlib.pyplot as plt\n",
        "from tqdm.notebook import tqdm\n",
        "from IPython.display import HTML\n",
        "from IPython.display import Image\n",
        "from IPython.display import display"
      ],
      "metadata": {
        "id": "tAD3jRSDDDN_"
      },
      "execution_count": null,
      "outputs": []
    },
    {
      "cell_type": "code",
      "execution_count": null,
      "metadata": {
        "id": "C6s0l-wOP_h-"
      },
      "outputs": [],
      "source": [
        "import numpy as np\n",
        "import pandas as pd"
      ]
    },
    {
      "cell_type": "code",
      "source": [
        "import tensorflow as tf\n",
        "import tensorflow.keras.backend as K"
      ],
      "metadata": {
        "id": "nIjLMaOyC7SX"
      },
      "execution_count": null,
      "outputs": []
    },
    {
      "cell_type": "code",
      "source": [
        "import re\n",
        "import sentencepiece as spm"
      ],
      "metadata": {
        "id": "bJWSbif0DP7-"
      },
      "execution_count": null,
      "outputs": []
    },
    {
      "cell_type": "code",
      "source": [
        "import random\n",
        "random_seed = 1234\n",
        "random.seed(random_seed)\n",
        "np.random.seed(random_seed)\n",
        "tf.random.set_seed(random_seed)"
      ],
      "metadata": {
        "id": "lWTw8obDDStP"
      },
      "execution_count": null,
      "outputs": []
    },
    {
      "cell_type": "code",
      "source": [
        "from google.colab import drive\n",
        "drive.mount('/content/drive')"
      ],
      "metadata": {
        "id": "QCCXoUOJTXoC"
      },
      "execution_count": null,
      "outputs": []
    },
    {
      "cell_type": "code",
      "source": [
        "pip freeze > '/content/drive/MyDrive/lms/library_version.txt'"
      ],
      "metadata": {
        "id": "q3HW-HdUTYDz"
      },
      "execution_count": null,
      "outputs": []
    },
    {
      "cell_type": "code",
      "source": [
        "library_name = ['numpy=', 'pandas=', 'tensorflow=', 'keras=', 'tqdm=',\n",
        "                'zip', 'future', 'matplotlib=','regex=', 'sentencepiece']\n",
        "library_version = []\n",
        "count = 0\n",
        "\n",
        "import sys\n",
        "print(sys.version)\n",
        "print(tf.__version__)\n",
        "print(tf.config.list_physical_devices('GPU'))\n",
        "print(tf.test.gpu_device_name())\n",
        "print()\n",
        "\n",
        "with open('/content/drive/MyDrive/lms/library_version.txt', 'r') as f:\n",
        "    lines = f.read().splitlines() \n",
        "\n",
        "for i in range(len(lines)):\n",
        "  for line in lines[i:i+1]:\n",
        "    for library in library_name:\n",
        "      if library in line:\n",
        "        library_version.append(line)\n",
        "        count += 1\n",
        "        print(line, end = '    ')\n",
        "        if count % 3 == 0:\n",
        "          print()"
      ],
      "metadata": {
        "colab": {
          "base_uri": "https://localhost:8080/"
        },
        "id": "T27bv9-b3Z_F",
        "outputId": "117eb109-b736-4c07-d372-0b575641063a"
      },
      "execution_count": null,
      "outputs": [
        {
          "output_type": "stream",
          "name": "stdout",
          "text": [
            "3.7.13 (default, Apr 24 2022, 01:04:09) \n",
            "[GCC 7.5.0]\n",
            "2.8.2\n",
            "[PhysicalDevice(name='/physical_device:GPU:0', device_type='GPU')]\n",
            "/device:GPU:0\n",
            "\n",
            "future==0.16.0    keras==2.8.0    matplotlib==3.2.2    \n",
            "numpy==1.21.6    pandas==1.3.5    regex==2022.6.2    \n",
            "sentencepiece==0.1.96    sklearn-pandas==1.8.0    tensorflow==2.8.2+zzzcolab20220719082949    \n",
            "tqdm==4.64.0    zipp==3.8.1    "
          ]
        }
      ]
    },
    {
      "cell_type": "code",
      "source": [
        "gpu_info = !nvidia-smi\n",
        "gpu_info = '\\n'.join(gpu_info)\n",
        "if gpu_info.find('failed') >= 0:\n",
        "  print('Not connected to a GPU')\n",
        "else:\n",
        "  print(gpu_info)"
      ],
      "metadata": {
        "id": "sANVYKz0Tdua"
      },
      "execution_count": null,
      "outputs": []
    },
    {
      "cell_type": "code",
      "source": [
        "from psutil import virtual_memory\n",
        "ram_gb = virtual_memory().total / 1e9\n",
        "print('Your runtime has {:.1f} gigabytes of available RAM\\n'.format(ram_gb))\n",
        "\n",
        "if ram_gb < 20:\n",
        "  print('Not using a high-RAM runtime')\n",
        "else:\n",
        "  print('You are using a high-RAM runtime!')"
      ],
      "metadata": {
        "id": "p2u0RKKcTd6L"
      },
      "execution_count": null,
      "outputs": []
    },
    {
      "cell_type": "markdown",
      "source": [
        "Google Colab에서 할당된 GPU를 확인한다.\n",
        "<br/>고용량 메모리 VM에 액세스한다"
      ],
      "metadata": {
        "id": "Hp7WbLlNTiqc"
      }
    },
    {
      "cell_type": "markdown",
      "source": [
        "#데이터 정보"
      ],
      "metadata": {
        "id": "MZm4kAEuTlOD"
      }
    },
    {
      "cell_type": "markdown",
      "source": [
        "[kowiki](https://paul-hyun.github.io/nlp-tutorial-02-02-tokenizer/)"
      ],
      "metadata": {
        "id": "eKizzC95UqJq"
      }
    },
    {
      "cell_type": "markdown",
      "source": [
        "[나무위키](https://namu.wiki/w/%EB%82%98%EB%AC%B4%EC%9C%84%ED%82%A4:%EB%8C%80%EB%AC%B8) 코퍼스이다."
      ],
      "metadata": {
        "id": "kQB8SBYsEJEe"
      }
    },
    {
      "cell_type": "code",
      "source": [
        "corpus_file = \"/content/drive/MyDrive/lms/sp_tokenizer/kowikitext/kowiki.txt\"\n",
        "\n",
        "with open(corpus_file, \"r\") as f:\n",
        "    kowiki = f.read().splitlines()\n",
        "\n",
        "print(\"Data Size:\", len(kowiki))\n",
        "print()\n",
        "print(\"Example\")\n",
        "for sen in kowiki[80:81]:\n",
        "    print(\"\", sen)"
      ],
      "metadata": {
        "id": "94KhezpnTls7",
        "colab": {
          "base_uri": "https://localhost:8080/"
        },
        "outputId": "7716716b-cd83-4a71-c667-5e96a85dfde3"
      },
      "execution_count": null,
      "outputs": [
        {
          "output_type": "stream",
          "name": "stdout",
          "text": [
            "Data Size: 3724342\n",
            "\n",
            "Example\n",
            " 아마도 통제 된 방식으로 사용 된 최초의 화학 반응은 불이였다. 그러나 천년 동안 불는 단순히 열과 빛을 생성하면서 한 물질을 다른 물질 (타는 나무 또는 끓는 물)로 변형시킬 수있는 신비한 힘으로만 알려졌다. 불는 초기 사회의 여러 측면에 영향을 미쳤다. 이들은 요리 및 서식지 조명과 같은 일상 생활의 가장 단순한면에서 도기, 벽돌 및 금속을 녹여 도구를 만드는 것과 같은 고급 기술에 이르기까지 다양했다.\n"
          ]
        }
      ]
    },
    {
      "cell_type": "markdown",
      "source": [
        "#SentencePiece"
      ],
      "metadata": {
        "id": "Qy_rTVyRfGmL"
      }
    },
    {
      "cell_type": "markdown",
      "source": [
        "BERT에 사용되는 주요 특수문자가 vocab에 포함되어야 한다.\n",
        "<br/>시간이 부족하다면 클라우드에 저장된 SentencePiece 모델을 사용한다."
      ],
      "metadata": {
        "id": "n4ui3RCvVdtz"
      }
    },
    {
      "cell_type": "code",
      "source": [
        "corpus = \"/content/drive/MyDrive/lms/bert_pretrain/data/kowiki.txt\"\n",
        "prefix = \"ko_8000\"\n",
        "vocab_size = 8000\n",
        "spm.SentencePieceTrainer.train(\n",
        "    f\"--input={corpus} --model_prefix={prefix} --vocab_size={vocab_size + 7}\" + \n",
        "    \" --model_type=bpe\" +\n",
        "    \" --max_sentence_length=999999\" + \n",
        "    \" --pad_id=0 --pad_piece=[PAD]\" + \n",
        "    \" --unk_id=1 --unk_piece=[UNK]\" + \n",
        "    \" --bos_id=2 --bos_piece=[BOS]\" + \n",
        "    \" --eos_id=3 --eos_piece=[EOS]\" + \n",
        "    \" --user_defined_symbols=[SEP],[CLS],[MASK]\") \n",
        "\n",
        "!ls -l ko_8000*"
      ],
      "metadata": {
        "colab": {
          "base_uri": "https://localhost:8080/"
        },
        "id": "l8Wc7GMEmUIZ",
        "outputId": "b3eb032b-6e2d-4a16-b8b5-17e8c87c131f"
      },
      "execution_count": null,
      "outputs": [
        {
          "output_type": "stream",
          "name": "stdout",
          "text": [
            "-rw-r--r-- 1 root root 350324 Aug  6 15:11 ko_8000.model\n",
            "-rw-r--r-- 1 root root  95430 Aug  6 15:11 ko_8000.vocab\n"
          ]
        }
      ]
    },
    {
      "cell_type": "markdown",
      "source": [
        "corpus는 학습용 말뭉치이다.\n",
        "<br/>prefix는 저장할 vocab 이름이다.\n",
        "<br/>vocab_size에 7를 더한다. 7은 특수문자 개수이다.\n",
        "<br/>model_type은 bpe이다.\n",
        "<br/>max_sentence_length를 default 999999로 설정한다.\n",
        "<br/>token은 [PAD], [UNK], [BOS], [EOS], [SEP], [CLS], [MASK]으로 구성된다.\n",
        "<br/>pad_id는 0, unk_id는 1, bos_id는 2, eos_id는 3으로 설정한다.\n",
        "<br/>bos는 begin of sequence, eos는 end of sequence를 의미한다.\n",
        "<br/>user_defined_symbols는 모델 구성을 위한 [SEP] : 4, [CLS] : 5, [MASK] : 6으로 설정한다."
      ],
      "metadata": {
        "id": "xqlgHd6BUuDK"
      }
    },
    {
      "cell_type": "code",
      "source": [
        "vocab = spm.SentencePieceProcessor()\n",
        "vocab.load(\"ko_8000.model\")"
      ],
      "metadata": {
        "id": "EMifMpGilf0h"
      },
      "execution_count": null,
      "outputs": []
    },
    {
      "cell_type": "code",
      "source": [
        "vocab_list = []\n",
        "for id in range(7, len(vocab)):\n",
        "    if not vocab.is_unknown(id):\n",
        "        vocab_list.append(vocab.id_to_piece(id))\n",
        "\n",
        "for i in range(len(vocab_list) // 100):\n",
        "  if i % 10 == 0 and i <= (len(vocab_list) - 10):\n",
        "    print(\"    \".join(vocab_list[i:i+10]))"
      ],
      "metadata": {
        "colab": {
          "base_uri": "https://localhost:8080/"
        },
        "id": "OlSmT19snf8R",
        "outputId": "ee33dbb2-a1e3-4ec6-884d-292748ad9b22"
      },
      "execution_count": null,
      "outputs": [
        {
          "output_type": "stream",
          "name": "stdout",
          "text": [
            "▁1    ▁이    으로    에서    ▁있    ▁2    ▁그    ▁대    ▁사    이다\n",
            "었다    ▁지    ▁수    ▁시    ▁19    ▁가    ▁기    ▁전    ▁20    ▁아\n",
            "▁하    ▁있다    ▁다    ▁제    했다    ▁일    하였    ▁한    ▁정    ▁중\n",
            "▁주    하는    ▁것    ▁자    ▁공    되었다    ▁경    ▁인    ▁위    ▁유\n",
            "하고    ▁보    ▁3    ▁등    ▁부    하였다    ▁조    하여    ▁선    ▁동\n",
            "▁나    으며    ▁모    ▁미    ▁연    ▁오    ▁마    에는    ▁영    ▁의\n",
            "▁발    ▁소    한다    ▁고    ▁구    ▁개    ▁세    ▁도    ▁201    ▁상\n",
            "▁비    ▁스    ▁서    ▁국    ▁200    ▁후    ▁여    ▁때    ▁4    ▁성\n"
          ]
        }
      ]
    },
    {
      "cell_type": "markdown",
      "source": [
        ""
      ],
      "metadata": {
        "id": "rNoI_5Rxh_dW"
      }
    },
    {
      "cell_type": "markdown",
      "source": [
        "#Masked Language Model Train Data"
      ],
      "metadata": {
        "id": "VUQ-LrW3Tl89"
      }
    },
    {
      "cell_type": "markdown",
      "source": [
        "Masked Language Model(MLM)은 GPT의 Next Token Prediction 태스크처럼 다음이 이어질 단어를 예측하는 것이 아니라\n",
        "<br/>마스킹 이후 빈칸에 알맞은 단어를 예측하며 문제를 푸는 형식으로 구성된다."
      ],
      "metadata": {
        "id": "jXcpfX3JfSUF"
      }
    },
    {
      "cell_type": "markdown",
      "source": [
        "##MASK"
      ],
      "metadata": {
        "id": "dyBQpsxyVmyD"
      }
    },
    {
      "cell_type": "code",
      "source": [
        "def create_pretrain_mask(tokens, mask_cnt, vocab_list):\n",
        "    \"\"\"\n",
        "    마스크 생성\n",
        "    :param tokens: tokens\n",
        "    :param mask_cnt: mask 개수 (전체 tokens의 15%)\n",
        "    :param vocab_list: vocab list (random token 용)\n",
        "    :return tokens: mask된 tokens\n",
        "    :return mask_idx: mask된 token의 index\n",
        "    :return mask_label: mask된 token의 원래 값\n",
        "    \"\"\"\n",
        "    # 단어 단위로 mask 하기 위해서 index 분할\n",
        "    cand_idx = []  # word 단위의 index array\n",
        "    for (i, token) in enumerate(tokens):\n",
        "        if token == \"[CLS]\" or token == \"[SEP]\":\n",
        "            continue\n",
        "        if 0 < len(cand_idx) and not token.startswith(u\"\\u2581\"):\n",
        "            cand_idx[-1].append(i)\n",
        "        else:\n",
        "            cand_idx.append([i])\n",
        "    # random mask를 위해서 순서를 섞음\n",
        "    random.shuffle(cand_idx)\n",
        "\n",
        "    mask_lms = []  # mask 된 값\n",
        "    for index_set in cand_idx:\n",
        "        if len(mask_lms) >= mask_cnt:  # 핸재 mask된 개수가 15%를 넘으면 중지\n",
        "            break\n",
        "        if len(mask_lms) + len(index_set) > mask_cnt:  # 이번에 mask할 개수를 포함해 15%를 넘으면 skip\n",
        "            continue\n",
        "        dice = random.random()  # 0..1 사이의 확률 값\n",
        "        for index in index_set:\n",
        "            masked_token = None\n",
        "            if dice < 0.8:  # 80% replace with [MASK]\n",
        "                masked_token = \"[MASK]\"\n",
        "            elif dice < 0.9: # 10% keep original\n",
        "                masked_token = tokens[index]\n",
        "            else:  # 10% random word\n",
        "                masked_token = random.choice(vocab_list)\n",
        "            mask_lms.append({\"index\": index, \"label\": tokens[index]})\n",
        "            tokens[index] = masked_token\n",
        "    # mask_lms 정렬 후 mask_idx, mask_label 추출\n",
        "    mask_lms = sorted(mask_lms, key=lambda x: x[\"index\"])\n",
        "    mask_idx = [p[\"index\"] for p in mask_lms]  # mask된 token의 index\n",
        "    mask_label = [p[\"label\"] for p in mask_lms]  # mask된 token의 원래 값\n",
        "\n",
        "    return tokens, mask_idx, mask_label"
      ],
      "metadata": {
        "id": "tqCwu9trEcoB"
      },
      "execution_count": null,
      "outputs": []
    },
    {
      "cell_type": "markdown",
      "source": [
        "BERT의 MLM에 필요한 빈칸(mask)을 학습 데이터 전체 토큰의 15% 정도로 만든다.\n",
        "<br/>그 중 80%는 [ MASK ] 토큰, 10%는 랜덤한 토큰, 나머지 10%는 원래의 토큰을 그대로 사용한다.\n",
        "<br/>Masked LM 태스크를 구성할 때는 띄어쓰기 단위로 마스킹한다.\n",
        "<br/>Masked LM의 라벨 데이터를 생성한다."
      ],
      "metadata": {
        "id": "EZYWDdWoVn5a"
      }
    },
    {
      "cell_type": "code",
      "source": [
        "# [CLS], tokens a, [SEP], tokens b, [SEP] 형태의 token \n",
        "string_a = \"한 번 더 나에게 질풍 같은 용기를 거친 파도에도 굴하지 않게\"\n",
        "string_b = \"드넓은 대지에 다시 새길 희망을 안고 달려갈 거야 너에게\"\n",
        "tokens_org = [\"[CLS]\"] + vocab.encode_as_pieces(string_a) + [\"[SEP]\"] + vocab.encode_as_pieces(string_b) + [\"[SEP]\"]"
      ],
      "metadata": {
        "id": "06ZgKRxLDj-Y"
      },
      "execution_count": null,
      "outputs": []
    },
    {
      "cell_type": "code",
      "source": [
        "# tokens가 mask되므로 재실행을 위해서 넣어줌 (시험용)\n",
        "tokens = copy.deepcopy(tokens_org)\n",
        "mask_cnt = int((len(tokens_org) - 3) * 0.15)\n",
        "tokens, mask_idx, mask_label = create_pretrain_mask(tokens, mask_cnt, vocab_list)\n",
        "\n",
        "print(\"tokens_org\")\n",
        "print(\"  \".join(tokens_org), \"\\n\")\n",
        "print(\"tokens\")\n",
        "print(\"  \".join(tokens), \"\\n\")\n",
        "\n",
        "print(\"mask_idx\")\n",
        "print(mask_idx, \"\\n\")\n",
        "print(\"mask_label\")\n",
        "print(mask_label, \"\\n\")"
      ],
      "metadata": {
        "colab": {
          "base_uri": "https://localhost:8080/"
        },
        "id": "mwUXs6kPEfoo",
        "outputId": "739d56b6-b9c4-4cb3-8e05-e2d931fa0226"
      },
      "execution_count": null,
      "outputs": [
        {
          "output_type": "stream",
          "name": "stdout",
          "text": [
            "tokens_org\n",
            "[CLS]  ▁한  ▁번  ▁더  ▁나  에게  ▁질  풍  ▁같은  ▁용  기를  ▁거  친  ▁파  도  에도  ▁굴  하지  ▁않  게  [SEP]  ▁드  넓  은  ▁대  지에  ▁다시  ▁새  길  ▁희  망  을  ▁안  고  ▁달  려  갈  ▁거  야  ▁너  에게  [SEP] \n",
            "\n",
            "tokens\n",
            "[CLS]  ▁한  ▁번  ▁더  ▁나  에게  [MASK]  [MASK]  ▁같은  ▁용  기를  ▁거  친  ▁파  도  에도  ▁굴  하지  ▁않  게  [SEP]  ▁드  넓  은  ▁대  지에  [MASK]  ▁새  길  ▁희  망  을  ▁안  고  ▁달  려  갈  ▁거  야  [MASK]  [MASK]  [SEP] \n",
            "\n",
            "mask_idx\n",
            "[6, 7, 26, 39, 40] \n",
            "\n",
            "mask_label\n",
            "['▁질', '풍', '▁다시', '▁너', '에게'] \n",
            "\n"
          ]
        }
      ]
    },
    {
      "cell_type": "markdown",
      "source": [
        "예를 들어 유정석 <질풍가도 ('쾌걸 근육맨 2세' 1기 여는노래)> 가사의 Mask Token을 생성한다."
      ],
      "metadata": {
        "id": "JuikWhoAFHWp"
      }
    },
    {
      "cell_type": "markdown",
      "source": [
        ""
      ],
      "metadata": {
        "id": "uiHWYI3RiXLF"
      }
    },
    {
      "cell_type": "markdown",
      "source": [
        "## NSP pair"
      ],
      "metadata": {
        "id": "j5J2jh-FVtva"
      }
    },
    {
      "cell_type": "markdown",
      "source": [
        "BERT의 pretrain task로 Next Sentence Prediction이 있다.\n",
        "<br/>문장 2개를 붙여 놓고 두 문장이 이어지는 것인지 아닌지 문장 호응관계를 맞춘다.\n",
        "<br/>이를 위해 2개의 문장을 짝지어 50%의 확률로 TRUE와 FALSE를 지정해 주세요.\n",
        "<br/>두 문장 사이에 Segment를 처리한다.\n",
        "<br/>첫 번째 문장의 Segment는 0, 두 번째 문장은 1로 채워준 후 둘 사이에 구분자 [ SEP ] 등을 넣는다.\n",
        "<br/>MLM과 NSP는 동시에 학습된다는 것을 고려하며 학습 데이터를 구성한다."
      ],
      "metadata": {
        "id": "t0mqKzXwjZAA"
      }
    },
    {
      "cell_type": "code",
      "source": [
        "def trim_tokens(tokens_a, tokens_b, max_seq):\n",
        "    \"\"\"\n",
        "    tokens_a, tokens_b의 길이를 줄임 최대 길이: max_seq\n",
        "    :param tokens_a: tokens A\n",
        "    :param tokens_b: tokens B\n",
        "    :param max_seq: 두 tokens 길이의 최대 값\n",
        "    \"\"\"\n",
        "    while True:\n",
        "        total_length = len(tokens_a) + len(tokens_b)\n",
        "        if total_length <= max_seq:\n",
        "            break\n",
        "\n",
        "        if len(tokens_a) > len(tokens_b):\n",
        "            del tokens_a[0]\n",
        "        else:\n",
        "            tokens_b.pop()"
      ],
      "metadata": {
        "id": "QqvW7Pf1WBur"
      },
      "execution_count": null,
      "outputs": []
    },
    {
      "cell_type": "code",
      "source": [
        "def create_pretrain_instances(vocab, doc, n_seq, mask_prob, vocab_list):\n",
        "    \"\"\"\n",
        "    doc별 pretrain 데이터 생성\n",
        "    \"\"\"\n",
        "    # for CLS], [SEP], [SEP]\n",
        "    max_seq = n_seq - 3\n",
        "\n",
        "    instances = []\n",
        "    current_chunk = []\n",
        "    current_length = 0\n",
        "    for i in range(len(doc)):\n",
        "        current_chunk.append(doc[i])  # line\n",
        "        current_length += len(doc[i])\n",
        "        if 1 < len(current_chunk) and (i == len(doc) - 1 or current_length >= max_seq):\n",
        "            # token a\n",
        "            a_end = 1\n",
        "            if 1 < len(current_chunk):\n",
        "                a_end = random.randrange(1, len(current_chunk))\n",
        "            tokens_a = []\n",
        "            for j in range(a_end):\n",
        "                tokens_a.extend(current_chunk[j])\n",
        "            # token b\n",
        "            tokens_b = []\n",
        "            for j in range(a_end, len(current_chunk)):\n",
        "                tokens_b.extend(current_chunk[j])\n",
        "\n",
        "            if random.random() < 0.5:  # 50% 확률로 swap\n",
        "                is_next = 0\n",
        "                tokens_t = tokens_a\n",
        "                tokens_a = tokens_b\n",
        "                tokens_b = tokens_t\n",
        "            else:\n",
        "                is_next = 1\n",
        "            # max_seq 보다 큰 경우 길이 조절\n",
        "            trim_tokens(tokens_a, tokens_b, max_seq)\n",
        "            assert 0 < len(tokens_a)\n",
        "            assert 0 < len(tokens_b)\n",
        "            # tokens & aegment 생성\n",
        "            tokens = [\"[CLS]\"] + tokens_a + [\"[SEP]\"] + tokens_b + [\"[SEP]\"]\n",
        "            segment = [0] * (len(tokens_a) + 2) + [1] * (len(tokens_b) + 1)\n",
        "            # mask\n",
        "            tokens, mask_idx, mask_label = create_pretrain_mask(tokens, int((len(tokens) - 3) * mask_prob), vocab_list)\n",
        "\n",
        "            instance = {\n",
        "                \"tokens\": tokens,\n",
        "                \"segment\": segment,\n",
        "                \"is_next\": is_next,\n",
        "                \"mask_idx\": mask_idx,\n",
        "                \"mask_label\": mask_label\n",
        "            }\n",
        "            instances.append(instance)\n",
        "\n",
        "            current_chunk = []\n",
        "            current_length = 0\n",
        "    return instances"
      ],
      "metadata": {
        "id": "d3UAcHNXONIH"
      },
      "execution_count": null,
      "outputs": []
    },
    {
      "cell_type": "markdown",
      "source": [
        "특수 token은 [ CLS ]와 [ SEP ]이고 sequence의 최대 길이는 n_test_seq - 3으로 정한다.\n",
        "<br/>짝지은 두 문장을 그대로 두면 NSP task의 true label case가 되고, 둘의 순서를 뒤바꾸면 false label case가 된다.\n",
        "<br/>두 문장의 최대 길이를 유지하도록 trim을 적용한 후 50%의 확률로 true/false case를 생성한다.\n",
        "<br/>token A의 길이가 max_seq보다 길면 앞에서부터 토큰을 제거하고 token B의 길이가 길면 뒤에서부터 토큰을 제거한다."
      ],
      "metadata": {
        "id": "lY1Iv-Kvkj5N"
      }
    },
    {
      "cell_type": "markdown",
      "source": [
        "두 문장 사이에 segment 처리를 한다.\n",
        "<br/>첫 번째 문장의 segment는 모두 0으로 두 번째 문장은 1로 채워준 후 둘 사이에 구분자인 [ SEP ] 등을 넣는다.\n",
        "<br/>create_pretrain_mask()까지 함께 호출되어 Mask LM용 데이터셋과 NSP용 데이터셋이 결합된 하나의 데이터셋을 제작한다.\n",
        "<br/>BERT의 pretrain은 MLM과 NSP 두 가지 task가 동시에 수행된다."
      ],
      "metadata": {
        "id": "O4lNS5JnlOoz"
      }
    },
    {
      "cell_type": "code",
      "source": [
        "string = \"\"\"여기까지가 끝인가보오 이제 나는 돌아서겠소\n",
        "억지 노력으로 인연을 거슬러 괴롭히지는 않겠소\n",
        "하고 싶은 말 하려 했던 말 이대로 다 남겨 두고서\n",
        "혹시나 기대도 포기하려하오 그대 부디 잘 지내시오\"\"\"\n",
        "\n",
        "doc = [vocab.encode_as_pieces(line) for line in string.split(\"\\n\")]\n",
        "n_test_seq = 64"
      ],
      "metadata": {
        "id": "LDGaHDkrP-yP"
      },
      "execution_count": null,
      "outputs": []
    },
    {
      "cell_type": "code",
      "source": [
        "instances = create_pretrain_instances(vocab, doc, n_test_seq, 0.15, vocab_list)\n",
        "\n",
        "for instance in instances:\n",
        "    for key, value in instance.items():\n",
        "      print(key)\n",
        "      if type(value) == list and type(value[0]) == str:\n",
        "        print(\" \".join(value))\n",
        "      else:\n",
        "        print(value)\n",
        "      print()"
      ],
      "metadata": {
        "colab": {
          "base_uri": "https://localhost:8080/"
        },
        "id": "plkzxeXnPqy2",
        "outputId": "e0c64023-ce57-49f5-f33e-59521cf9eea6"
      },
      "execution_count": null,
      "outputs": [
        {
          "output_type": "stream",
          "name": "stdout",
          "text": [
            "tokens\n",
            "[CLS] [MASK] [MASK] [MASK] ▁끝 인 가 보 오 ▁이 제 ▁나 는 ▁돌아 서 겠 소 [SEP] ▁억 지 ▁노 력으로 ▁인 연 을 ▁거 슬 러 ▁면 하여 ▁필요한 들에 ▁않 겠 소 [MASK] ▁싶 은 ▁말 ▁하 려 ▁ 했던 ▁말 ▁이 대로 [MASK] ▁남 겨 ▁두고 서 ▁혹 시 나 ▁기 대 도 ▁포 기 하려 하 오 ▁그 [SEP]\n",
            "\n",
            "segment\n",
            "[0, 0, 0, 0, 0, 0, 0, 0, 0, 0, 0, 0, 0, 0, 0, 0, 0, 0, 1, 1, 1, 1, 1, 1, 1, 1, 1, 1, 1, 1, 1, 1, 1, 1, 1, 1, 1, 1, 1, 1, 1, 1, 1, 1, 1, 1, 1, 1, 1, 1, 1, 1, 1, 1, 1, 1, 1, 1, 1, 1, 1, 1, 1, 1]\n",
            "\n",
            "is_next\n",
            "1\n",
            "\n",
            "mask_idx\n",
            "[1, 2, 3, 28, 29, 30, 31, 35, 46]\n",
            "\n",
            "mask_label\n",
            "▁여기 까지 가 ▁괴 롭 히 지는 ▁하고 ▁다\n",
            "\n"
          ]
        }
      ]
    },
    {
      "cell_type": "markdown",
      "source": [
        "예를 들어 김광진 <편지> 가사의 MLM, NSP Task를 진행한다."
      ],
      "metadata": {
        "id": "fJgux5B4QKE9"
      }
    },
    {
      "cell_type": "markdown",
      "source": [
        ""
      ],
      "metadata": {
        "id": "I9YJfKrTk09V"
      }
    },
    {
      "cell_type": "code",
      "source": [
        "corpus_file = '/content/drive/MyDrive/lms/bert_pretrain/data/kowiki.txt'\n",
        "\n",
        "# line count 확인\n",
        "total = 0\n",
        "with open(corpus_file, 'r') as in_f:\n",
        "    for line in in_f:\n",
        "        total += 1\n",
        "total"
      ],
      "metadata": {
        "colab": {
          "base_uri": "https://localhost:8080/"
        },
        "id": "Bs2dAeiHbxE9",
        "outputId": "6081e9d5-e3aa-48bd-d5d3-8f99f970da70"
      },
      "execution_count": null,
      "outputs": [
        {
          "output_type": "execute_result",
          "data": {
            "text/plain": [
              "3724301"
            ]
          },
          "metadata": {},
          "execution_count": 20
        }
      ]
    },
    {
      "cell_type": "markdown",
      "source": [
        "전체 line 수가 3,724,301이다."
      ],
      "metadata": {
        "id": "SBkPJe76l-rR"
      }
    },
    {
      "cell_type": "code",
      "source": [
        "# 위키가 주제별로 잘 나눠지는지 여부 확인\n",
        "# 100개의 주제 중에서 무작위로 5개 추출\n",
        "count = 100\n",
        "num_list = []\n",
        "for i in range(100):\n",
        "  num_list.append(i)\n",
        "sample_num = random.sample(num_list, 5)\n",
        "\n",
        "with open(corpus_file, 'r') as in_f:\n",
        "    doc = []  # 단락 단위로 문서 저장\n",
        "    for line in tqdm(in_f, total=total):\n",
        "        line = line.strip()\n",
        "        if line == \"\":  # line이 빈줄 일 경우 (새로운 단락)  \n",
        "            if 0 < len(doc):\n",
        "                if 0 < count:\n",
        "                    count -= 1\n",
        "                    if count in sample_num:\n",
        "                      print(\"topic:\", \" \".join(doc[0]))\n",
        "                      print(\" \".join(doc[1]))\n",
        "                      print()\n",
        "\n",
        "                      instances = create_pretrain_instances(vocab, doc, n_test_seq, 0.15, vocab_list)\n",
        "                      # save\n",
        "                      print(\"doc:\", len(doc), \" instances:\", len(instances))\n",
        "                      for item in instances[0].items():\n",
        "                        print(item[0], end= '  ')\n",
        "                        if type(item[1]) == list and type(item[1][0]) == str:\n",
        "                            print(\" \".join(item[1]))\n",
        "                        else:\n",
        "                            print(item[1])\n",
        "                      print(\"\\n\\n\")\n",
        "\n",
        "                else:\n",
        "                    break\n",
        "                doc = []\n",
        "\n",
        "        else:  # 빈 줄이 아니면 doc에 저장\n",
        "            pieces = vocab.encode_as_pieces(line) \n",
        "            if 0 < len(pieces):\n",
        "                doc.append(pieces)"
      ],
      "metadata": {
        "colab": {
          "base_uri": "https://localhost:8080/",
          "height": 1000,
          "referenced_widgets": [
            "729e6ee8eca143cba12403a8530b91ba",
            "5bc33bd2855f4ebb80416d3b590f014d",
            "8ca40527eef84c1fbdda7175e000449d",
            "838b9355bccd4fb798ee780c0869ec8b",
            "f5033ee57af84769a15af4ad73360011",
            "009a5094ce624fa8b13d141dc388d27c",
            "da65c4e6cda64bf4a5d57f5aeaab85b2",
            "841fb9d1803a4c48b18a8fc6f58633a5",
            "73841ef05e8a475d868c70459b43ed6d",
            "e6bf445e0f9142c090d26eb12cb27982",
            "3ced9f32fead4d94a1196e5b998f05e6"
          ]
        },
        "id": "rzh27BDkeUMd",
        "outputId": "b0bbd186-4562-4a49-b7c2-6f5b729ac581"
      },
      "execution_count": null,
      "outputs": [
        {
          "output_type": "display_data",
          "data": {
            "text/plain": [
              "  0%|          | 0/3724301 [00:00<?, ?it/s]"
            ],
            "application/vnd.jupyter.widget-view+json": {
              "version_major": 2,
              "version_minor": 0,
              "model_id": "729e6ee8eca143cba12403a8530b91ba"
            }
          },
          "metadata": {}
        },
        {
          "output_type": "stream",
          "name": "stdout",
          "text": [
            "topic: ▁위 키\n",
            "▁위 키 (, ▁) 는 ▁불 특 정 ▁다 수가 ▁협 업을 ▁통해 ▁직접 ▁내용 과 ▁구조를 ▁수정 할 ▁수 ▁있는 ▁웹 사 이트 를 ▁말한다 .\n",
            "\n",
            "doc: 17  instances: 7\n",
            "tokens  [CLS] 의 ▁도움을 ▁받아 ▁편집 하기도 ▁한다 . ▁위 키는 ▁지 식 경 영 이나 ▁기록 ▁등 ▁다양한 ▁용 도로 ▁이용 된다 . ▁공동 체 용 ▁웹 사 이트 나 [MASK] ▁도 ▁인 트라 넷 에 ▁쓰 이기도 ▁한다 . ▁그러나 ▁주로 ▁개인 적인 ▁용 도로 辨 ▁성장 ▁위 키 도 [MASK] [MASK] [MASK] ▁개인 ▁위 키 라고 ▁한다 . [SEP] [MASK] [MASK] [SEP]\n",
            "segment  [0, 0, 0, 0, 0, 0, 0, 0, 0, 0, 0, 0, 0, 0, 0, 0, 0, 0, 0, 0, 0, 0, 0, 0, 0, 0, 0, 0, 0, 0, 0, 0, 0, 0, 0, 0, 0, 0, 0, 0, 0, 0, 0, 0, 0, 0, 0, 0, 0, 0, 0, 0, 0, 0, 0, 0, 0, 0, 0, 0, 0, 1, 1, 1]\n",
            "is_next  0\n",
            "mask_idx  [30, 31, 46, 47, 51, 52, 53, 61, 62]\n",
            "mask_label  ▁조직 ▁내 ▁이용 되는 ▁있는데 , ▁이를 ▁위 키\n",
            "\n",
            "\n",
            "\n",
            "topic: ▁가수\n",
            "▁가수 ( 歌 手 ) 는 ▁목 소 리를 ▁이용 해서 ▁음악 을 ▁만드는 ▁사람을 ▁말한다 . ▁고전 음악 이나 ▁오 페 라 에서 ▁목 소 리는 ▁악 기와 ▁동일 한 ▁용 법 으로 ▁사용되었다 . ▁따라서 ▁각 ▁음 역 별 로 ▁전문 성이 ▁계 발 되었다 .\n",
            "\n",
            "doc: 3  instances: 1\n",
            "tokens  [CLS] ▁가수 ▁가수 ( 歌 手 ) 는 ▁목 소 리를 ▁이용 해서 ▁음악 을 ▁만드는 ▁사람을 ▁말한다 . ▁고전 음악 이나 [MASK] [MASK] [MASK] [MASK] ▁목 소 리는 ▁악 기와 ▁입학 簡 ▁용 법 으로 ▁사용되었다 . ▁따라서 ▁각 ▁음 역 별 로 ▁전문 성이 ▁계 발 되었다 . [SEP] ▁192 긍 ▁확인 ▁음 역 별 로 ▁다음과 ▁같이 ▁분류 된다 . [SEP]\n",
            "segment  [0, 0, 0, 0, 0, 0, 0, 0, 0, 0, 0, 0, 0, 0, 0, 0, 0, 0, 0, 0, 0, 0, 0, 0, 0, 0, 0, 0, 0, 0, 0, 0, 0, 0, 0, 0, 0, 0, 0, 0, 0, 0, 0, 0, 0, 0, 0, 0, 0, 0, 0, 1, 1, 1, 1, 1, 1, 1, 1, 1, 1, 1, 1, 1]\n",
            "is_next  1\n",
            "mask_idx  [22, 23, 24, 25, 31, 32, 51, 52, 53]\n",
            "mask_label  ▁오 페 라 에서 ▁동일 한 ▁목 소 리는\n",
            "\n",
            "\n",
            "\n",
            "topic: ▁엔 트로 피\n",
            "▁엔 트로 피 (, ▁) 는 ▁열 역 학적 ▁계 의 ▁유 용 하지 ▁않은 ▁( 일 로 ▁변 환 할 ▁수 ▁없는 ) ▁에너 지의 ▁흐 름 을 ▁설명 할 ▁때 ▁이용 되는 ▁상태 ▁함수 다 . ▁통 계 역 학 적으로 , ▁주 어진 ▁거 시 적 ▁상태 에 ▁대응 하는 ▁미 시 적 ▁상태 의 ▁수 의 ▁로 그 로 ▁생각 할 ▁수 ▁있다 . ▁엔 트로 피 는 ▁일반적으로 ▁보존 되지 ▁않고 , ▁열 역 학 ▁제 2 법 칙 에 ▁따라 ▁시간 에 ▁따라 ▁증가 한다 . ▁독일의 ▁물리 학자 ▁루 돌 프 ▁클 라우 지 우 스가 ▁18 50 년대 ▁초 에 ▁도입 하였다 . ▁대 개 ▁기 호로 ▁라틴 ▁대 문 자 ▁\" S \" 를 ▁쓴 다 .\n",
            "\n",
            "doc: 25  instances: 12\n",
            "tokens  [CLS] ▁엔 트로 피 는 ▁일반적으로 ▁보존 되지 ▁않고 , ▁열 역 학 ▁제 2 법 칙 에 [MASK] [MASK] [MASK] ▁따라 [MASK] [MASK] [MASK] ▁독일의 ▁물리 학자 ▁루 돌 프 ▁클 라우 지 우 스가 ▁18 50 년대 ▁초 에 ▁도입 하였다 . ▁대 개 ▁기 호로 ▁라틴 ▁대 문 자 ▁\" S \" 를 ▁쓴 다 . [SEP] [MASK] [MASK] [MASK] [SEP]\n",
            "segment  [0, 0, 0, 0, 0, 0, 0, 0, 0, 0, 0, 0, 0, 0, 0, 0, 0, 0, 0, 0, 0, 0, 0, 0, 0, 0, 0, 0, 0, 0, 0, 0, 0, 0, 0, 0, 0, 0, 0, 0, 0, 0, 0, 0, 0, 0, 0, 0, 0, 0, 0, 0, 0, 0, 0, 0, 0, 0, 0, 0, 1, 1, 1, 1]\n",
            "is_next  0\n",
            "mask_idx  [18, 19, 20, 22, 23, 24, 60, 61, 62]\n",
            "mask_label  ▁따라 ▁시간 에 ▁증가 한다 . ▁엔 트로 피\n",
            "\n",
            "\n",
            "\n",
            "topic: ▁깊 은 ▁생각\n",
            "▁깊 은 ▁생각 () 은 ▁더 글 러스 ▁애 덤 스의 ▁과학 소 설 ▁《 은 하 수를 ▁여행 하는 ▁히 치 하이 커 를 ▁위한 ▁안 내 서 》 에 ▁등장하는 ▁상 상의 ▁컴퓨터 이다 .\n",
            "\n",
            "doc: 5  instances: 2\n",
            "tokens  [CLS] ▁천 만 ▁년 ▁동안 ▁계 산을 [MASK] ▁결과 를 ▁내 어 ▁놓 기 ▁5 분을 [MASK] [MASK] [MASK] [MASK] ▁지구 는 ▁보 곤 ▁공 병 함 대에 ▁의해 ▁파괴 된다 . [SEP] ▁깊 은 ▁생각 ▁깊 은 [MASK] [MASK] [MASK] ▁더 글 러스 ▁애 덤 스의 ▁과학 소 설 ▁《 은 하 수를 ▁여행 하는 ▁히 치 하이 커 를 ▁위한 [MASK] [SEP]\n",
            "segment  [0, 0, 0, 0, 0, 0, 0, 0, 0, 0, 0, 0, 0, 0, 0, 0, 0, 0, 0, 0, 0, 0, 0, 0, 0, 0, 0, 0, 0, 0, 0, 0, 0, 1, 1, 1, 1, 1, 1, 1, 1, 1, 1, 1, 1, 1, 1, 1, 1, 1, 1, 1, 1, 1, 1, 1, 1, 1, 1, 1, 1, 1, 1, 1]\n",
            "is_next  0\n",
            "mask_idx  [7, 16, 17, 18, 19, 38, 39, 40, 62]\n",
            "mask_label  ▁하고 ▁남 겨 놓 고 ▁생각 () 은 ▁안\n",
            "\n",
            "\n",
            "\n",
            "topic: ▁좌 표 계\n",
            "▁좌 표 계 ( 座 標 系 , ▁c o or d in at e ▁s y st em ) ▁혹은 ▁자리 표 계는 ▁유 클 리 드 ▁공간 과 ▁같은 ▁다양 체의 ▁점 이나 ▁기타 ▁기 하 학적 ▁요 소를 ▁고 유 하게 ▁결정 하기 ▁위해 ▁하나 ▁이상의 ▁숫 자인 ▁좌 표 를 ▁사용하는 ▁체 계 이다 . ▁스 칼 라 ▁ 튜 플 을 ▁이용 해 ▁n 차 원 ▁공 간의 ▁각 ▁지 점을 ▁표현 하는 ▁방법 을 ▁말한다 . ▁여기서 ▁스 칼 라는 ▁보통 ▁실 수 , ▁경우 에 ▁따라 서는 ▁복 소 수 나 ▁다른 ▁일반적인 ▁환 ( r ing ) 의 ▁원 소를 ▁말 하기도 ▁한다 . ▁복잡 한 ▁우주 에서 ▁스 칼 라는 ▁우주 ▁전체 에 ▁대해 ▁효과 적인 ▁좌 표 계를 ▁산 출 하지 ▁못 하기도 ▁한다 . ▁이 ▁경우 ▁그래 프로 ▁이 ▁좌 표 계를 ▁우주 ▁지도 ▁책 에 ▁함께 ▁수 집 하여 ▁둔 다 . ▁좌 표 를 ▁나타 내는 ▁방법 ▁중 ▁하나 인 ▁직 교 좌 표 계는 ▁프랑스의 ▁철 학자 이자 ▁수 학자 인 ▁르 네 ▁데 카 르트 가 ▁발 명 했다 . ▁그는 ▁천 장에 ▁붙 어 ▁있는 ▁파 리의 ▁위치 를 ▁나타 내는 ▁방법 에 ▁대해 ▁고 민 하다가 ▁직 교 좌 표 계를 ▁발 명 해 ▁ 냈 다고 ▁한다 .\n",
            "\n",
            "doc: 2  instances: 1\n",
            "tokens  [CLS] ▁좌 표 계 [SEP] ▁좌 표 계 ( 座 標 系 , ▁c o or d in at e ▁s y st em ) ▁혹은 ▁자리 표 계는 [MASK] [MASK] [MASK] [MASK] ▁공간 과 [MASK] ▁다양 체의 ▁점 이나 ▁기타 ▁기 하 학적 ▁요 소를 ▁고 유 하게 ▁결정 하기 ▁위해 ▁하나 ▁이상의 ▁숫 자인 [MASK] [MASK] [MASK] [MASK] ▁체 계 이다 [SEP]\n",
            "segment  [0, 0, 0, 0, 0, 1, 1, 1, 1, 1, 1, 1, 1, 1, 1, 1, 1, 1, 1, 1, 1, 1, 1, 1, 1, 1, 1, 1, 1, 1, 1, 1, 1, 1, 1, 1, 1, 1, 1, 1, 1, 1, 1, 1, 1, 1, 1, 1, 1, 1, 1, 1, 1, 1, 1, 1, 1, 1, 1, 1, 1, 1, 1, 1]\n",
            "is_next  1\n",
            "mask_idx  [29, 30, 31, 32, 35, 56, 57, 58, 59]\n",
            "mask_label  ▁유 클 리 드 ▁같은 ▁좌 표 를 ▁사용하는\n",
            "\n",
            "\n",
            "\n"
          ]
        }
      ]
    },
    {
      "cell_type": "markdown",
      "source": [
        "위키 문서는 하나의 document가 주제 키워드에 대해 상세 내용이 설명으로 따라붙어 있는 형태로 구성된다.\n",
        "<br/>데이터가 document 주제별로 분리가 되는지 확인한다.\n",
        "<br/>create_pretrain_instances를 코퍼스에 적용할 수 있는지 확인한다."
      ],
      "metadata": {
        "id": "9Co6MTEKriip"
      }
    },
    {
      "cell_type": "markdown",
      "source": [
        ""
      ],
      "metadata": {
        "id": "xAUUAZUKiEBY"
      }
    },
    {
      "cell_type": "markdown",
      "source": [
        "##File I/O"
      ],
      "metadata": {
        "id": "L10NhoiyV-jb"
      }
    },
    {
      "cell_type": "code",
      "source": [
        "def make_pretrain_data(vocab, in_file, out_file, n_seq, mask_prob=0.15):\n",
        "    \"\"\" pretrain 데이터 생성 \"\"\"\n",
        "    def save_pretrain_instances(out_f, doc):\n",
        "        instances = create_pretrain_instances(vocab, doc, n_seq, mask_prob, vocab_list)\n",
        "        for instance in instances:\n",
        "            out_f.write(json.dumps(instance, ensure_ascii=False))\n",
        "            out_f.write(\"\\n\")\n",
        "\n",
        "    # 특수문자 7개를 제외한 vocab_list 생성\n",
        "    vocab_list = []\n",
        "    for id in range(7, len(vocab)):\n",
        "        if not vocab.is_unknown(id):        # 생성되는 단어 목록이 unknown인 경우는 제거합니다. \n",
        "            vocab_list.append(vocab.id_to_piece(id))\n",
        "\n",
        "    # line count 확인\n",
        "    line_cnt = 0\n",
        "    with open(in_file, \"r\") as in_f:\n",
        "        for line in in_f:\n",
        "            line_cnt += 1\n",
        "\n",
        "    with open(in_file, \"r\") as in_f:\n",
        "        with open(out_file, \"w\") as out_f:\n",
        "            doc = []\n",
        "            for line in tqdm(in_f, total=line_cnt):\n",
        "                line = line.strip()\n",
        "                if line == \"\":  # line이 빈줄 일 경우 (새로운 단락)\n",
        "                    if 0 < len(doc):\n",
        "                        save_pretrain_instances(out_f, doc)\n",
        "                        doc = []\n",
        "                else:  # line이 빈줄이 아닐 경우 tokenize 해서 doc에 저장\n",
        "                    pieces = vocab.encode_as_pieces(line)\n",
        "                    if 0 < len(pieces):\n",
        "                        doc.append(pieces)\n",
        "            if 0 < len(doc):  # 마지막에 처리되지 않은 doc가 있는 경우\n",
        "                save_pretrain_instances(out_f, doc)\n",
        "                doc = []"
      ],
      "metadata": {
        "id": "L3HU17TdSrTm"
      },
      "execution_count": null,
      "outputs": []
    },
    {
      "cell_type": "code",
      "source": [
        "corpus_file = '/content/drive/MyDrive/lms/bert_pretrain/data/kowiki.txt'\n",
        "pretrain_json_path = '/content/drive/MyDrive/lms/bert_pretrain/data/bert_pre_train.json'\n",
        "\n",
        "make_pretrain_data(vocab, corpus_file, pretrain_json_path, 128)"
      ],
      "metadata": {
        "colab": {
          "base_uri": "https://localhost:8080/",
          "height": 49,
          "referenced_widgets": [
            "4d1e8c8655ba4fa8bddec36724381560",
            "659452b168954d1bbd9a7ef3400e1cb4",
            "a8700e19a435405aa1f9eb17eb1a759a",
            "ff1439046666456d89f361ddeae953b2",
            "e54109c086844cdb9779c5c955152f65",
            "bda722cbed734fe2a13a192926c5062c",
            "732795ad6fc548b494843d84133b3d79",
            "2f616364e90e4647abf8859892cadc66",
            "88a4aeb85d6c43d09cf1cf0fa722b7a4",
            "106544e985aa4815b2cd4a84d24dc520",
            "823c53534a6648efbdeb551e0456971f"
          ]
        },
        "id": "U1Ky7-m1St9W",
        "outputId": "44ec44b8-63f6-41ef-ee03-9bc8c519cdec"
      },
      "execution_count": null,
      "outputs": [
        {
          "output_type": "display_data",
          "data": {
            "text/plain": [
              "  0%|          | 0/3724301 [00:00<?, ?it/s]"
            ],
            "application/vnd.jupyter.widget-view+json": {
              "version_major": 2,
              "version_minor": 0,
              "model_id": "4d1e8c8655ba4fa8bddec36724381560"
            }
          },
          "metadata": {}
        }
      ]
    },
    {
      "cell_type": "markdown",
      "source": [
        "BERT pretrain 데이터셋을 생성해 json 포맷으로 저장한다."
      ],
      "metadata": {
        "id": "5DEkcuvEWDKq"
      }
    },
    {
      "cell_type": "code",
      "source": [
        "total = 0\n",
        "with open(pretrain_json_path, \"r\") as f:\n",
        "    for line in f:\n",
        "        total += 1\n",
        "        \n",
        "print(total)"
      ],
      "metadata": {
        "colab": {
          "base_uri": "https://localhost:8080/"
        },
        "id": "q66OT6jqTCgn",
        "outputId": "1b889599-9aee-4f83-c03d-ec6249fcc2eb"
      },
      "execution_count": null,
      "outputs": [
        {
          "output_type": "stream",
          "name": "stdout",
          "text": [
            "863207\n"
          ]
        }
      ]
    },
    {
      "cell_type": "markdown",
      "source": [
        "전체 line 수가 863,207이다."
      ],
      "metadata": {
        "id": "XTuBRpE3f_0k"
      }
    },
    {
      "cell_type": "code",
      "source": [
        "def load_pre_train_data(vocab, filename, n_seq, count=None):\n",
        "    \"\"\"\n",
        "    학습에 필요한 데이터 로드\n",
        "    :param vocab: vocab\n",
        "    :param filename: 전처리된 json 파일\n",
        "    :param n_seq: 시퀀스 길이 (number of sequence)\n",
        "    :param count: 데이터 수 제한 (None이면 전체)\n",
        "    :return enc_tokens: encoder inputs\n",
        "    :return segments: segment inputs\n",
        "    :return labels_nsp: nsp labels\n",
        "    :return labels_mlm: mlm labels\n",
        "    \"\"\"\n",
        "    total = 0\n",
        "    with open(filename, \"r\") as f:\n",
        "        for line in f:\n",
        "            total += 1\n",
        "            # 데이터 수 제한\n",
        "            if count is not None and count <= total:\n",
        "                break\n",
        "    \n",
        "    # np.memmap을 사용하면 메모리를 적은 메모리에서도 대용량 데이터 처리가 가능 함\n",
        "    enc_tokens = np.memmap(filename='enc_tokens.memmap', mode='w+', dtype=np.int32, shape=(total, n_seq))\n",
        "    segments = np.memmap(filename='segments.memmap', mode='w+', dtype=np.int32, shape=(total, n_seq))\n",
        "    labels_nsp = np.memmap(filename='labels_nsp.memmap', mode='w+', dtype=np.int32, shape=(total,))\n",
        "    labels_mlm = np.memmap(filename='labels_mlm.memmap', mode='w+', dtype=np.int32, shape=(total, n_seq))\n",
        "\n",
        "    with open(filename, \"r\") as f:\n",
        "        for i, line in enumerate(tqdm(f, total=total)):\n",
        "            if total <= i:\n",
        "                print(\"data load early stop\", total, i)\n",
        "                break\n",
        "            data = json.loads(line)\n",
        "            # encoder token\n",
        "            enc_token = [vocab.piece_to_id(p) for p in data[\"tokens\"]]\n",
        "            enc_token += [0] * (n_seq - len(enc_token))\n",
        "            # segment\n",
        "            segment = data[\"segment\"]\n",
        "            segment += [0] * (n_seq - len(segment))\n",
        "            # nsp label\n",
        "            label_nsp = data[\"is_next\"]\n",
        "            # mlm label\n",
        "            mask_idx = np.array(data[\"mask_idx\"], dtype=np.int32)\n",
        "            mask_label = np.array([vocab.piece_to_id(p) for p in data[\"mask_label\"]], dtype=np.int32)\n",
        "            label_mlm = np.full(n_seq, dtype=np.int32, fill_value=0)\n",
        "            label_mlm[mask_idx] = mask_label\n",
        "\n",
        "            assert len(enc_token) == len(segment) == len(label_mlm) == n_seq\n",
        "\n",
        "            enc_tokens[i] = enc_token\n",
        "            segments[i] = segment\n",
        "            labels_nsp[i] = label_nsp\n",
        "            labels_mlm[i] = label_mlm\n",
        "\n",
        "    return (enc_tokens, segments), (labels_nsp, labels_mlm)"
      ],
      "metadata": {
        "id": "j95hrmxGT1Wd"
      },
      "execution_count": null,
      "outputs": []
    },
    {
      "cell_type": "code",
      "source": [
        "pre_train_inputs, pre_train_labels = load_pre_train_data(vocab, pretrain_json_path, 128, count=128000)"
      ],
      "metadata": {
        "colab": {
          "base_uri": "https://localhost:8080/",
          "height": 67,
          "referenced_widgets": [
            "7715410c8e224a16a268d379680656ca",
            "63b583771c884d1a87ea71514d7a0ba1",
            "b6f80d2c2caf4e1c91e5eadb0f5beb53",
            "903598b101894d45a0eec7b0a96f32e7",
            "3c1241dae3804c8e916b3f1527630340",
            "d65de250ddd9468ab3f9db7acc2cb2ee",
            "dbc8e1047dcd4b3b80a73a4e0077b701",
            "365ee938075a4a7999fa01a6a0a6b041",
            "c9ff3064558d44d9b30b9f473b0e0fa7",
            "69ccf80b69cd4b1d88fcaf954ca7dbe1",
            "857a1c673b92420dbf94fdd1bd99b449"
          ]
        },
        "id": "qN_VXH7aT34N",
        "outputId": "e29042b8-caa7-410d-ea0c-6506f10d6e8a"
      },
      "execution_count": null,
      "outputs": [
        {
          "output_type": "display_data",
          "data": {
            "text/plain": [
              "  0%|          | 0/128000 [00:00<?, ?it/s]"
            ],
            "application/vnd.jupyter.widget-view+json": {
              "version_major": 2,
              "version_minor": 0,
              "model_id": "7715410c8e224a16a268d379680656ca"
            }
          },
          "metadata": {}
        },
        {
          "output_type": "stream",
          "name": "stdout",
          "text": [
            "data load early stop 128000 128000\n"
          ]
        }
      ]
    },
    {
      "cell_type": "markdown",
      "source": [
        "데이터셋의 크기가 크므로 np.memmap을 사용해 메모리 사용량을 최소화한다.\n",
        "<br/>128,000건만 메모리에 할당한다."
      ],
      "metadata": {
        "id": "kg0SiEqkgfM_"
      }
    },
    {
      "cell_type": "code",
      "source": [
        "print(\"Input Type\")\n",
        "print(type(pre_train_inputs[0]))\n",
        "print(type(pre_train_inputs[0][0]))\n",
        "print()\n",
        "print(\"Label Type\")\n",
        "print(type(pre_train_labels[0]))\n",
        "print(type(pre_train_labels[0][0]))"
      ],
      "metadata": {
        "id": "7FqMjJJ3T41W",
        "colab": {
          "base_uri": "https://localhost:8080/"
        },
        "outputId": "f204ecb7-4126-43bf-ed55-b7bc4a0499a0"
      },
      "execution_count": null,
      "outputs": [
        {
          "output_type": "stream",
          "name": "stdout",
          "text": [
            "Input Type\n",
            "<class 'numpy.memmap'>\n",
            "<class 'numpy.memmap'>\n",
            "\n",
            "Label Type\n",
            "<class 'numpy.memmap'>\n",
            "<class 'numpy.int32'>\n"
          ]
        }
      ]
    },
    {
      "cell_type": "code",
      "source": [
        "print(\"Input\\n\")\n",
        "print(\"pre_train_inputs[0][0]\\n\", pre_train_inputs[0][0], \"\\n\")\n",
        "print(\"pre_train_inputs[0][-1]\\n\", pre_train_inputs[0][-1], \"\\n\")\n",
        "print(\"pre_train_inputs[1][0]\\n\", pre_train_inputs[1][0], \"\\n\")\n",
        "print(\"pre_train_inputs[1][-1]\\n\", pre_train_inputs[1][-1], \"\\n\")"
      ],
      "metadata": {
        "colab": {
          "base_uri": "https://localhost:8080/"
        },
        "id": "Bpam_sBGhwls",
        "outputId": "446b529e-20e2-49c8-d5db-30688350c155"
      },
      "execution_count": null,
      "outputs": [
        {
          "output_type": "stream",
          "name": "stdout",
          "text": [
            "Input\n",
            "\n",
            "pre_train_inputs[0][0]\n",
            " [   5   18 3680  210 3705    4 3342    6  103 3601 3680 3709  210 3705\n",
            "    6    6    6  793 3656 3616  129 3652    7 3620  198  237 3593 1143\n",
            " 3718  785  257   49 3623  803  659 1684 3671 3671 3616  198 2975 3616\n",
            " 3607   16 3590   18 3680    6    6    6 1751 3621 3637  607 3705  210\n",
            " 3750 3827  430 3730 3619 3618 1372   10 1572 3590 1751 3621   41 3635\n",
            "  815 3615 1103   52 3590    6   82   87 1514 2226   24 3768 3861 3658\n",
            " 3622 3801 3861 4188 3627 3768 3592    6    6    6   32   52 3590  478\n",
            " 3643 3616  257 2765   14 1508  172 3866  425  165 1696 4286 3861 3693\n",
            " 3676  586   22 4997  395 1939 3598    6    6    6  305  580  933  103\n",
            " 4304    4] \n",
            "\n",
            "pre_train_inputs[0][-1]\n",
            " [   5 3592    6    6    6    6    6 1430 1530 3642  832 1826    6    6\n",
            "  143  670  506 3636  221 1574  586 3044  160 3723  975  328 3802  995\n",
            " 3655  518 4164 3598   14 3936    6    6  522    6    6  296  976 3665\n",
            " 3795 3592 1365 2246 3615    6    6    6  160 3723 1068 2701 2647    6\n",
            "    6    6    8  630 3591   88 3645 2846  487 1530 3642   15 3642  162\n",
            "  214 3795  604 3595  630 3598   96 3667 3603  787 4014 3678  819  318\n",
            " 3214 3588   28   54  787 4014 3678  819    6  214 3795   42 3590    4\n",
            "    8  630 3604   34 3761  438  485 3647    8 4025 3599 2762 3595  408\n",
            " 1642 1905 3700 3804 3812 3746   74 3708 3611 3795   36 1893  314 1028\n",
            " 3590    4] \n",
            "\n",
            "pre_train_inputs[1][0]\n",
            " [0 0 0 0 0 0 1 1 1 1 1 1 1 1 1 1 1 1 1 1 1 1 1 1 1 1 1 1 1 1 1 1 1 1 1 1 1\n",
            " 1 1 1 1 1 1 1 1 1 1 1 1 1 1 1 1 1 1 1 1 1 1 1 1 1 1 1 1 1 1 1 1 1 1 1 1 1\n",
            " 1 1 1 1 1 1 1 1 1 1 1 1 1 1 1 1 1 1 1 1 1 1 1 1 1 1 1 1 1 1 1 1 1 1 1 1 1\n",
            " 1 1 1 1 1 1 1 1 1 1 1 1 1 1 1 1 1] \n",
            "\n",
            "pre_train_inputs[1][-1]\n",
            " [0 0 0 0 0 0 0 0 0 0 0 0 0 0 0 0 0 0 0 0 0 0 0 0 0 0 0 0 0 0 0 0 0 0 0 0 0\n",
            " 0 0 0 0 0 0 0 0 0 0 0 0 0 0 0 0 0 0 0 0 0 0 0 0 0 0 0 0 0 0 0 0 0 0 0 0 0\n",
            " 0 0 0 0 0 0 0 0 0 0 0 0 0 0 0 0 0 0 0 0 0 0 0 0 1 1 1 1 1 1 1 1 1 1 1 1 1\n",
            " 1 1 1 1 1 1 1 1 1 1 1 1 1 1 1 1 1] \n",
            "\n"
          ]
        }
      ]
    },
    {
      "cell_type": "code",
      "source": [
        "print(\"Label\\n\")\n",
        "print(\"pre_train_labels[0][0]\\n\", pre_train_labels[0][0], \"\\n\")\n",
        "print(\"pre_train_labels[0][-1]\\n\", pre_train_labels[0][-1], \"\\n\")\n",
        "print(\"pre_train_labels[1][0]\\n\", pre_train_labels[1][0], \"\\n\")\n",
        "print(\"pre_train_labels[1][-1]\\n\", pre_train_labels[1][-1], \"\\n\")"
      ],
      "metadata": {
        "colab": {
          "base_uri": "https://localhost:8080/"
        },
        "id": "XNiMT9tcmxHp",
        "outputId": "c7786e8e-9e8e-4b28-c1ee-6f9c12008686"
      },
      "execution_count": null,
      "outputs": [
        {
          "output_type": "stream",
          "name": "stdout",
          "text": [
            "Label\n",
            "\n",
            "pre_train_labels[0][0]\n",
            " 1 \n",
            "\n",
            "pre_train_labels[0][-1]\n",
            " 1 \n",
            "\n",
            "pre_train_labels[1][0]\n",
            " [   0   18 3680    0    0    0    0 1034    0    0    0    0    0    0\n",
            "   37 3456  446    0    0    0    0    0    0    0    0    0    0    0\n",
            "    0    0    0    0    0    0  659    0    0    0    0    0    0    0\n",
            "    0    0    0    0    0  210 3705 3593    0    0    0    0    0    0\n",
            "    0    0    0    0    0    0    0    0    0    0    0    0    0    0\n",
            "    0    0    0    0    0   13    0    0    0 2226    0    0    0    0\n",
            "    0    0    0    0    0    0    0  240 3714 1220    0    0    0    0\n",
            "    0    0    0    0    0    0    0    0    0    0    0    0    0    0\n",
            "    0    0    0    0    0    0    0  810   17 3590    0    0    0    0\n",
            "    0    0] \n",
            "\n",
            "pre_train_labels[1][-1]\n",
            " [   0    0   19 3611 3776 1749 2326    0    0    0    0    0   29 2755\n",
            "    0    0    0    0    0    0    0    0    0    0    0    0    0    0\n",
            "    0    0    0    0    0    0 3097  166    0 2055 3595    0    0    0\n",
            "    0    0    0    0    0   74 3708 3636    0    0    0    0    0  630\n",
            "  435 3590    0    0    0    0    0    0    0    0    0    0    0    0\n",
            "    0    0    0    0    0    0    0    0    0    0    0    0    0    0\n",
            "    0    0    0    0    0    0    0    0  274    0    0    0    0    0\n",
            "    0    0    0    0    0    0    0    0    0    0    0    0    0    0\n",
            "    0    0    0    0    0    0    0    0    0    0    0    0    0    0\n",
            "    0    0] \n",
            "\n"
          ]
        }
      ]
    },
    {
      "cell_type": "markdown",
      "source": [
        "데이터의 처음과 마지막을 확인한다."
      ],
      "metadata": {
        "id": "HEVzQj0cgjCM"
      }
    },
    {
      "cell_type": "markdown",
      "source": [
        ""
      ],
      "metadata": {
        "id": "7AxkFTw7ifP9"
      }
    },
    {
      "cell_type": "markdown",
      "source": [
        "#모델 구성"
      ],
      "metadata": {
        "id": "BXY36FvrWIOr"
      }
    },
    {
      "cell_type": "code",
      "source": [
        "file_path = '/content/drive/MyDrive/lms/bert_pretrain/'\n",
        "x = Image(filename= file_path + 'bert_embedding_layer.png') \n",
        "y = Image(filename= file_path + 'bert_classification_task.png', width=600, height=544) \n",
        "display(x)\n",
        "print(\"\\n\")\n",
        "display(y)"
      ],
      "metadata": {
        "colab": {
          "base_uri": "https://localhost:8080/",
          "height": 816
        },
        "id": "dK1XidAjyN2t",
        "outputId": "a465c47c-b445-4cb8-f487-8c2598cf159b"
      },
      "execution_count": null,
      "outputs": [
        {
          "output_type": "display_data",
          "data": {
            "text/plain": [
              "<IPython.core.display.Image object>"
            ],
            "image/png": "[encoded data removed]"
          },
          "metadata": {}
        },
        {
          "output_type": "stream",
          "name": "stdout",
          "text": [
            "\n",
            "\n"
          ]
        },
        {
          "output_type": "display_data",
          "data": {
            "text/plain": [
              "<IPython.core.display.Image object>"
            ],
            "image/png": "[encoded data removed]"
          },
          "metadata": {
            "image/png": {
              "width": 600,
              "height": 544
            }
          }
        }
      ]
    },
    {
      "cell_type": "markdown",
      "source": [
        "##Utility Function"
      ],
      "metadata": {
        "id": "rb5sk7_j31lm"
      }
    },
    {
      "cell_type": "code",
      "source": [
        "def get_pad_mask(tokens, i_pad=0):\n",
        "    \"\"\"\n",
        "    pad mask 계산\n",
        "    :param tokens: tokens (bs, n_seq)\n",
        "    :param i_pad: id of pad\n",
        "    :return mask: pad mask (pad: 1, other: 0)\n",
        "    \"\"\"\n",
        "    mask = tf.cast(tf.math.equal(tokens, i_pad), tf.float32)\n",
        "    mask = tf.expand_dims(mask, axis=1)\n",
        "    return mask"
      ],
      "metadata": {
        "id": "bGwmuD-ET65m"
      },
      "execution_count": null,
      "outputs": []
    },
    {
      "cell_type": "code",
      "source": [
        "def get_ahead_mask(tokens, i_pad=0):\n",
        "    \"\"\"\n",
        "    ahead mask 계산\n",
        "    :param tokens: tokens (bs, n_seq)\n",
        "    :param i_pad: id of pad\n",
        "    :return mask: ahead and pad mask (ahead or pad: 1, other: 0)\n",
        "    \"\"\"\n",
        "    n_seq = tf.shape(tokens)[1]\n",
        "    ahead_mask = 1 - tf.linalg.band_part(tf.ones((n_seq, n_seq)), -1, 0)\n",
        "    ahead_mask = tf.expand_dims(ahead_mask, axis=0)\n",
        "    pad_mask = get_pad_mask(tokens, i_pad)\n",
        "    mask = tf.maximum(ahead_mask, pad_mask)\n",
        "    return mask"
      ],
      "metadata": {
        "id": "gh6JNARoT8jG"
      },
      "execution_count": null,
      "outputs": []
    },
    {
      "cell_type": "code",
      "source": [
        "@tf.function(experimental_relax_shapes=True)\n",
        "def gelu(x):\n",
        "    \"\"\"\n",
        "    gelu activation\n",
        "    :param x: 입력 값\n",
        "    :return: gelu activation result\n",
        "    \"\"\"\n",
        "    return 0.5*x*(1+tf.tanh(np.sqrt(2/np.pi)*(x+0.044715*tf.pow(x, 3))))"
      ],
      "metadata": {
        "id": "w9zBOM_zUBJd"
      },
      "execution_count": null,
      "outputs": []
    },
    {
      "cell_type": "code",
      "source": [
        "def kernel_initializer(stddev=0.02):\n",
        "    \"\"\"\n",
        "    parameter initializer 생성\n",
        "    :param stddev: 생성할 랜덤 변수의 표준편차\n",
        "    \"\"\"\n",
        "    return tf.keras.initializers.TruncatedNormal(stddev=stddev)"
      ],
      "metadata": {
        "id": "5n9wtmeGUCvl"
      },
      "execution_count": null,
      "outputs": []
    },
    {
      "cell_type": "code",
      "source": [
        "def bias_initializer():\n",
        "    \"\"\"\n",
        "    bias initializer 생성\n",
        "    \"\"\"\n",
        "    return tf.zeros_initializer"
      ],
      "metadata": {
        "id": "bwf5OL7zUD-N"
      },
      "execution_count": null,
      "outputs": []
    },
    {
      "cell_type": "markdown",
      "source": [
        "##Config"
      ],
      "metadata": {
        "id": "MZnr4Jkf35Wi"
      }
    },
    {
      "cell_type": "code",
      "source": [
        "class Config(dict):\n",
        "    \"\"\"\n",
        "    json을 config 형태로 사용하기 위한 Class\n",
        "    :param dict: config dictionary\n",
        "    \"\"\"\n",
        "    __getattr__ = dict.__getitem__\n",
        "    __setattr__ = dict.__setitem__\n",
        "\n",
        "    @classmethod\n",
        "    def load(cls, file):\n",
        "        \"\"\"\n",
        "        file에서 Config를 생성 함\n",
        "        :param file: filename\n",
        "        \"\"\"\n",
        "        with open(file, 'r') as f:\n",
        "            config = json.loads(f.read())\n",
        "            return Config(config)"
      ],
      "metadata": {
        "id": "gw8sPqc6UGyk"
      },
      "execution_count": null,
      "outputs": []
    },
    {
      "cell_type": "markdown",
      "source": [
        "json을 config 형태로 사용한다."
      ],
      "metadata": {
        "id": "JyJobjCq8YGg"
      }
    },
    {
      "cell_type": "markdown",
      "source": [
        "##Token Embedding"
      ],
      "metadata": {
        "id": "Cn06b1p523OS"
      }
    },
    {
      "cell_type": "code",
      "source": [
        "class SharedEmbedding(tf.keras.layers.Layer):\n",
        "    \"\"\"\n",
        "    Weighed Shaed Embedding Class\n",
        "    \"\"\"\n",
        "    def __init__(self, config, name=\"weight_shared_embedding\"):\n",
        "        \"\"\"\n",
        "        생성자\n",
        "        :param config: Config 객체\n",
        "        :param name: layer name\n",
        "        \"\"\"\n",
        "        super().__init__(name=name)\n",
        "\n",
        "        self.n_vocab = config.n_vocab\n",
        "        self.d_model = config.d_model\n",
        "    \n",
        "    def build(self, input_shape):\n",
        "        \"\"\"\n",
        "        shared weight 생성\n",
        "        :param input_shape: Tensor Shape (not used)\n",
        "        \"\"\"\n",
        "        with tf.name_scope(\"shared_embedding_weight\"):\n",
        "            self.shared_weights = self.add_weight(\n",
        "                \"weights\",\n",
        "                shape=[self.n_vocab, self.d_model],\n",
        "                initializer=kernel_initializer()\n",
        "            )\n",
        "\n",
        "    def call(self, inputs, mode=\"embedding\"):\n",
        "        \"\"\"\n",
        "        layer 실행\n",
        "        :param inputs: 입력\n",
        "        :param mode: 실행 모드\n",
        "        :return: embedding or linear 실행 결과\n",
        "        \"\"\"\n",
        "        # mode가 embedding일 경우 embedding lookup 실행\n",
        "        if mode == \"embedding\":\n",
        "            return self._embedding(inputs)\n",
        "        # mode가 linear일 경우 linear 실행\n",
        "        elif mode == \"linear\":\n",
        "            return self._linear(inputs)\n",
        "        # mode가 기타일 경우 오류 발생\n",
        "        else:\n",
        "            raise ValueError(f\"mode {mode} is not valid.\")\n",
        "    \n",
        "    def _embedding(self, inputs):\n",
        "        \"\"\"\n",
        "        embedding lookup\n",
        "        :param inputs: 입력\n",
        "        \"\"\"\n",
        "        embed = tf.gather(self.shared_weights, tf.cast(inputs, tf.int32))\n",
        "        return embed\n",
        "\n",
        "    def _linear(self, inputs):  # (bs, n_seq, d_model)\n",
        "        \"\"\"\n",
        "        linear 실행\n",
        "        :param inputs: 입력\n",
        "        \"\"\"\n",
        "        n_batch = tf.shape(inputs)[0]\n",
        "        n_seq = tf.shape(inputs)[1]\n",
        "        inputs = tf.reshape(inputs, [-1, self.d_model])  # (bs * n_seq, d_model)\n",
        "        outputs = tf.matmul(inputs, self.shared_weights, transpose_b=True)\n",
        "        outputs = tf.reshape(outputs, [n_batch, n_seq, self.n_vocab])  # (bs, n_seq, n_vocab)\n",
        "        return outputs"
      ],
      "metadata": {
        "id": "tZiysu5UUKzd"
      },
      "execution_count": null,
      "outputs": []
    },
    {
      "cell_type": "code",
      "source": [
        "class PositionEmbedding(tf.keras.layers.Layer):\n",
        "    \"\"\"\n",
        "    Position Embedding Class\n",
        "    \"\"\"\n",
        "    def __init__(self, config, name=\"position_embedding\"):\n",
        "        \"\"\"\n",
        "        생성자\n",
        "        :param config: Config 객체\n",
        "        :param name: layer name\n",
        "        \"\"\"\n",
        "        super().__init__(name=name)\n",
        "        \n",
        "        self.embedding = tf.keras.layers.Embedding(config.n_seq, config.d_model, embeddings_initializer=kernel_initializer())\n",
        "\n",
        "    def call(self, inputs):\n",
        "        \"\"\"\n",
        "        layer 실행\n",
        "        :param inputs: 입력\n",
        "        :return embed: position embedding lookup 결과\n",
        "        \"\"\"\n",
        "        position = tf.cast(tf.math.cumsum(tf.ones_like(inputs), axis=1, exclusive=True), tf.int32)\n",
        "        embed = self.embedding(position)\n",
        "        return embed"
      ],
      "metadata": {
        "id": "wgoOiLKhUMhk"
      },
      "execution_count": null,
      "outputs": []
    },
    {
      "cell_type": "markdown",
      "source": [
        "##Segment Embedding"
      ],
      "metadata": {
        "id": "gerPQl0S28dS"
      }
    },
    {
      "cell_type": "code",
      "source": [
        "class ScaleDotProductAttention(tf.keras.layers.Layer):\n",
        "    \"\"\"\n",
        "    Scale Dot Product Attention Class\n",
        "    \"\"\"\n",
        "    def __init__(self, name=\"scale_dot_product_attention\"):\n",
        "        \"\"\"\n",
        "        생성자\n",
        "        :param name: layer name\n",
        "        \"\"\"\n",
        "        super().__init__(name=name)\n",
        "\n",
        "    def call(self, Q, K, V, attn_mask):\n",
        "        \"\"\"\n",
        "        layer 실행\n",
        "        :param Q: Q value\n",
        "        :param K: K value\n",
        "        :param V: V value\n",
        "        :param attn_mask: 실행 모드\n",
        "        :return attn_out: attention 실행 결과\n",
        "        \"\"\"\n",
        "        attn_score = tf.matmul(Q, K, transpose_b=True)\n",
        "        scale = tf.math.sqrt(tf.cast(tf.shape(K)[-1], tf.float32))\n",
        "        attn_scale = tf.math.divide(attn_score, scale)\n",
        "        attn_scale -= 1.e9 * attn_mask\n",
        "        attn_prob = tf.nn.softmax(attn_scale, axis=-1)\n",
        "        attn_out = tf.matmul(attn_prob, V)\n",
        "        return attn_out"
      ],
      "metadata": {
        "id": "GLhLM4VhURE1"
      },
      "execution_count": null,
      "outputs": []
    },
    {
      "cell_type": "code",
      "source": [
        "class MultiHeadAttention(tf.keras.layers.Layer):\n",
        "    \"\"\"\n",
        "    Multi Head Attention Class\n",
        "    \"\"\"\n",
        "    def __init__(self, config, name=\"multi_head_attention\"):\n",
        "        \"\"\"\n",
        "        생성자\n",
        "        :param config: Config 객체\n",
        "        :param name: layer name\n",
        "        \"\"\"\n",
        "        super().__init__(name=name)\n",
        "\n",
        "        self.d_model = config.d_model\n",
        "        self.n_head = config.n_head\n",
        "        self.d_head = config.d_head\n",
        "\n",
        "        # Q, K, V input dense layer\n",
        "        self.W_Q = tf.keras.layers.Dense(config.n_head * config.d_head, kernel_initializer=kernel_initializer(), bias_initializer=bias_initializer())\n",
        "        self.W_K = tf.keras.layers.Dense(config.n_head * config.d_head, kernel_initializer=kernel_initializer(), bias_initializer=bias_initializer())\n",
        "        self.W_V = tf.keras.layers.Dense(config.n_head * config.d_head, kernel_initializer=kernel_initializer(), bias_initializer=bias_initializer())\n",
        "        # Scale Dot Product Attention class\n",
        "        self.attention = ScaleDotProductAttention(name=\"self_attention\")\n",
        "        # output dense layer\n",
        "        self.W_O = tf.keras.layers.Dense(config.d_model, kernel_initializer=kernel_initializer(), bias_initializer=bias_initializer())\n",
        "\n",
        "    def call(self, Q, K, V, attn_mask):\n",
        "        \"\"\"\n",
        "        layer 실행\n",
        "        :param Q: Q value\n",
        "        :param K: K value\n",
        "        :param V: V value\n",
        "        :param attn_mask: 실행 모드\n",
        "        :return attn_out: attention 실행 결과\n",
        "        \"\"\"\n",
        "        # reshape Q, K, V, attn_mask\n",
        "        batch_size = tf.shape(Q)[0]\n",
        "        Q_m = tf.transpose(tf.reshape(self.W_Q(Q), [batch_size, -1, self.n_head, self.d_head]), [0, 2, 1, 3])  # (bs, n_head, Q_len, d_head)\n",
        "        K_m = tf.transpose(tf.reshape(self.W_K(K), [batch_size, -1, self.n_head, self.d_head]), [0, 2, 1, 3])  # (bs, n_head, K_len, d_head)\n",
        "        V_m = tf.transpose(tf.reshape(self.W_V(V), [batch_size, -1, self.n_head, self.d_head]), [0, 2, 1, 3])  # (bs, n_head, K_len, d_head)\n",
        "        attn_mask_m = tf.expand_dims(attn_mask, axis=1)\n",
        "        # Scale Dot Product Attention with multi head Q, K, V, attn_mask\n",
        "        attn_out = self.attention(Q_m, K_m, V_m, attn_mask_m)  # (bs, n_head, Q_len, d_head)\n",
        "        # transpose and liner\n",
        "        attn_out_m = tf.transpose(attn_out, perm=[0, 2, 1, 3])  # (bs, Q_len, n_head, d_head)\n",
        "        attn_out = tf.reshape(attn_out_m, [batch_size, -1, config.n_head * config.d_head])  # (bs, Q_len, d_model)\n",
        "        attn_out = self.W_O(attn_out) # (bs, Q_len, d_model)\n",
        "\n",
        "        return attn_out"
      ],
      "metadata": {
        "id": "LOBWMgX8US-U"
      },
      "execution_count": null,
      "outputs": []
    },
    {
      "cell_type": "markdown",
      "source": [
        "##Transformer Encoder"
      ],
      "metadata": {
        "id": "Gmz_L2Z83FxB"
      }
    },
    {
      "cell_type": "code",
      "source": [
        "class PositionWiseFeedForward(tf.keras.layers.Layer):\n",
        "    \"\"\"\n",
        "    Position Wise Feed Forward Class\n",
        "    \"\"\"\n",
        "    def __init__(self, config, name=\"feed_forward\"):\n",
        "        \"\"\"\n",
        "        생성자\n",
        "        :param config: Config 객체\n",
        "        :param name: layer name\n",
        "        \"\"\"\n",
        "        super().__init__(name=name)\n",
        "\n",
        "        self.W_1 = tf.keras.layers.Dense(config.d_ff, activation=gelu, kernel_initializer=kernel_initializer(), bias_initializer=bias_initializer())\n",
        "        self.W_2 = tf.keras.layers.Dense(config.d_model, kernel_initializer=kernel_initializer(), bias_initializer=bias_initializer())\n",
        "\n",
        "    def call(self, inputs):\n",
        "        \"\"\"\n",
        "        layer 실행\n",
        "        :param inputs: inputs\n",
        "        :return ff_val: feed forward 실행 결과\n",
        "        \"\"\"\n",
        "        ff_val = self.W_2(self.W_1(inputs))\n",
        "        return ff_val"
      ],
      "metadata": {
        "id": "x4Un9Bqw3Nt5"
      },
      "execution_count": null,
      "outputs": []
    },
    {
      "cell_type": "code",
      "source": [
        "class EncoderLayer(tf.keras.layers.Layer):\n",
        "    \"\"\"\n",
        "    Encoder Layer Class\n",
        "    \"\"\"\n",
        "    def __init__(self, config, name=\"encoder_layer\"):\n",
        "        \"\"\"\n",
        "        생성자\n",
        "        :param config: Config 객체\n",
        "        :param name: layer name\n",
        "        \"\"\"\n",
        "        super().__init__(name=name)\n",
        "\n",
        "        self.self_attention = MultiHeadAttention(config)\n",
        "        self.norm1 = tf.keras.layers.LayerNormalization(epsilon=config.layernorm_epsilon)\n",
        "\n",
        "        self.ffn = PositionWiseFeedForward(config)\n",
        "        self.norm2 = tf.keras.layers.LayerNormalization(epsilon=config.layernorm_epsilon)\n",
        "\n",
        "        self.dropout = tf.keras.layers.Dropout(config.dropout)\n",
        " \n",
        "    def call(self, enc_embed, self_mask):\n",
        "        \"\"\"\n",
        "        layer 실행\n",
        "        :param enc_embed: enc_embed 또는 이전 EncoderLayer의 출력\n",
        "        :param self_mask: enc_tokens의 pad mask\n",
        "        :return enc_out: EncoderLayer 실행 결과\n",
        "        \"\"\"\n",
        "        self_attn_val = self.self_attention(enc_embed, enc_embed, enc_embed, self_mask)\n",
        "        norm1_val = self.norm1(enc_embed + self.dropout(self_attn_val))\n",
        "\n",
        "        ffn_val = self.ffn(norm1_val)\n",
        "        enc_out = self.norm2(norm1_val + self.dropout(ffn_val))\n",
        "\n",
        "        return enc_out"
      ],
      "metadata": {
        "id": "nBZCX6v3Ubvu"
      },
      "execution_count": null,
      "outputs": []
    },
    {
      "cell_type": "markdown",
      "source": [
        "##BERT"
      ],
      "metadata": {
        "id": "yiyvJlsb3QPb"
      }
    },
    {
      "cell_type": "code",
      "source": [
        "class BERT(tf.keras.layers.Layer):\n",
        "    \"\"\"\n",
        "    BERT Class\n",
        "    \"\"\"\n",
        "    def __init__(self, config, name=\"bert\"):\n",
        "        \"\"\"\n",
        "        생성자\n",
        "        :param config: Config 객체\n",
        "        :param name: layer name\n",
        "        \"\"\"\n",
        "        super().__init__(name=name)\n",
        "\n",
        "        self.i_pad = config.i_pad\n",
        "        self.embedding = SharedEmbedding(config)\n",
        "        self.position = PositionEmbedding(config)\n",
        "        self.segment = tf.keras.layers.Embedding(2, config.d_model, embeddings_initializer=kernel_initializer())\n",
        "        self.norm = tf.keras.layers.LayerNormalization(epsilon=config.layernorm_epsilon)\n",
        "        \n",
        "        self.encoder_layers = [EncoderLayer(config, name=f\"encoder_layer_{i}\") for i in range(config.n_layer)]\n",
        "\n",
        "        self.dropout = tf.keras.layers.Dropout(config.dropout)\n",
        "\n",
        "    def call(self, inputs):\n",
        "        \"\"\"\n",
        "        layer 실행\n",
        "        :param inputs: (enc_tokens, segments)\n",
        "        :return logits: dec_tokens에 대한 다음 토큰 예측 결과 logits\n",
        "        \"\"\"\n",
        "        enc_tokens, segments = inputs\n",
        "\n",
        "        enc_self_mask = tf.keras.layers.Lambda(get_pad_mask, output_shape=(1, None), name='enc_self_mask')(enc_tokens, self.i_pad)\n",
        "\n",
        "        enc_embed = self.get_embedding(enc_tokens, segments)\n",
        "\n",
        "        enc_out = self.dropout(enc_embed)\n",
        "        for encoder_layer in self.encoder_layers:\n",
        "            enc_out = encoder_layer(enc_out, enc_self_mask)\n",
        "\n",
        "        logits_cls = enc_out[:,0]\n",
        "        logits_lm = self.embedding(enc_out, mode=\"linear\")\n",
        "        return logits_cls, logits_lm\n",
        "    \n",
        "    def get_embedding(self, tokens, segments):\n",
        "        \"\"\"\n",
        "        token embedding, position embedding lookup\n",
        "        :param tokens: 입력 tokens\n",
        "        :param segments: 입력 segments\n",
        "        :return embed: embedding 결과\n",
        "        \"\"\"\n",
        "        embed = self.embedding(tokens) + self.position(tokens) + self.segment(segments)\n",
        "        embed = self.norm(embed)\n",
        "        return embed"
      ],
      "metadata": {
        "id": "Qri45oG6UfNW"
      },
      "execution_count": null,
      "outputs": []
    },
    {
      "cell_type": "code",
      "source": [
        "# Encoder Layer class 정의\n",
        "class PooledOutput(tf.keras.layers.Layer):\n",
        "    def __init__(self, config, n_output, name=\"pooled_output\"):\n",
        "        super().__init__(name=name)\n",
        "\n",
        "        self.dense1 = tf.keras.layers.Dense(config.d_model, activation=tf.nn.tanh, kernel_initializer=kernel_initializer(), bias_initializer=bias_initializer())\n",
        "        self.dense2 = tf.keras.layers.Dense(n_output, use_bias=False, activation=tf.nn.softmax, name=\"nsp\", kernel_initializer=kernel_initializer(), bias_initializer=bias_initializer())\n",
        " \n",
        "    def call(self, inputs):\n",
        "        outputs = self.dense1(inputs)\n",
        "        outputs = self.dense2(outputs)\n",
        "        return outputs"
      ],
      "metadata": {
        "id": "gnWjqH2OUggl"
      },
      "execution_count": null,
      "outputs": []
    },
    {
      "cell_type": "code",
      "source": [
        "def build_model_pre_train(config):\n",
        "    enc_tokens = tf.keras.layers.Input((None,), name=\"enc_tokens\")\n",
        "    segments = tf.keras.layers.Input((None,), name=\"segments\")\n",
        "\n",
        "    bert = BERT(config)\n",
        "    logits_cls, logits_lm = bert((enc_tokens, segments))\n",
        "\n",
        "    logits_cls = PooledOutput(config, 2, name=\"pooled_nsp\")(logits_cls)\n",
        "    outputs_nsp = tf.keras.layers.Softmax(name=\"nsp\")(logits_cls)\n",
        "\n",
        "    outputs_mlm = tf.keras.layers.Softmax(name=\"mlm\")(logits_lm)\n",
        "\n",
        "    model = tf.keras.Model(inputs=(enc_tokens, segments), outputs=(outputs_nsp, outputs_mlm))\n",
        "    return model"
      ],
      "metadata": {
        "id": "Xju-5aKWUlC-"
      },
      "execution_count": null,
      "outputs": []
    },
    {
      "cell_type": "code",
      "source": [
        "config = Config({\"d_model\": 256,\n",
        "                 \"n_head\": 4,\n",
        "                 \"d_head\": 64,\n",
        "                 \"dropout\": 0.1,\n",
        "                 \"d_ff\": 1024,\n",
        "                 \"layernorm_epsilon\": 0.001,\n",
        "                 \"n_layer\": 3,\n",
        "                 \"n_seq\": 256,\n",
        "                 \"n_vocab\": 0,\n",
        "                 \"i_pad\": 0})\n",
        "\n",
        "config.n_vocab = len(vocab)\n",
        "config.i_pad = vocab.pad_id()\n",
        "config"
      ],
      "metadata": {
        "id": "a4T9LXsoUmiW",
        "colab": {
          "base_uri": "https://localhost:8080/"
        },
        "outputId": "ab9c9e31-1a68-41ff-f178-9c39c1d6fcc5"
      },
      "execution_count": null,
      "outputs": [
        {
          "output_type": "execute_result",
          "data": {
            "text/plain": [
              "{'d_ff': 1024,\n",
              " 'd_head': 64,\n",
              " 'd_model': 256,\n",
              " 'dropout': 0.1,\n",
              " 'i_pad': 0,\n",
              " 'layernorm_epsilon': 0.001,\n",
              " 'n_head': 4,\n",
              " 'n_layer': 3,\n",
              " 'n_seq': 256,\n",
              " 'n_vocab': 8007}"
            ]
          },
          "metadata": {},
          "execution_count": 45
        }
      ]
    },
    {
      "cell_type": "markdown",
      "source": [
        "<br/>"
      ],
      "metadata": {
        "id": "RTfgKY7vpeRZ"
      }
    },
    {
      "cell_type": "code",
      "source": [
        "n_seq = 10\n",
        "\n",
        "# make test inputs\n",
        "enc_tokens = np.random.randint(0, len(vocab), (10, n_seq))\n",
        "segments = np.random.randint(0, 2, (10, n_seq))\n",
        "labels_nsp = np.random.randint(0, 2, (10,))\n",
        "labels_mlm = np.random.randint(0, len(vocab), (10, n_seq))"
      ],
      "metadata": {
        "id": "8xvxYQxp-hhB"
      },
      "execution_count": null,
      "outputs": []
    },
    {
      "cell_type": "code",
      "source": [
        "test_model = build_model_pre_train(config)\n",
        "test_model.compile(loss=tf.keras.losses.sparse_categorical_crossentropy, optimizer=tf.keras.optimizers.Adam(), metrics=[\"acc\"])"
      ],
      "metadata": {
        "id": "TcJsFv2M7vBY"
      },
      "execution_count": null,
      "outputs": []
    },
    {
      "cell_type": "code",
      "source": [
        "test_model.summary()"
      ],
      "metadata": {
        "colab": {
          "base_uri": "https://localhost:8080/"
        },
        "id": "8LZdFzxa74WY",
        "outputId": "4cfd722f-216c-4261-8c11-bfb1d7ffb038"
      },
      "execution_count": null,
      "outputs": [
        {
          "output_type": "stream",
          "name": "stdout",
          "text": [
            "Model: \"model\"\n",
            "__________________________________________________________________________________________________\n",
            " Layer (type)                   Output Shape         Param #     Connected to                     \n",
            "==================================================================================================\n",
            " enc_tokens (InputLayer)        [(None, None)]       0           []                               \n",
            "                                                                                                  \n",
            " segments (InputLayer)          [(None, None)]       0           []                               \n",
            "                                                                                                  \n",
            " bert (BERT)                    ((None, 256),        4485632     ['enc_tokens[0][0]',             \n",
            "                                 (None, None, 8007)               'segments[0][0]']               \n",
            "                                )                                                                 \n",
            "                                                                                                  \n",
            " pooled_nsp (PooledOutput)      (None, 2)            66304       ['bert[0][0]']                   \n",
            "                                                                                                  \n",
            " nsp (Softmax)                  (None, 2)            0           ['pooled_nsp[0][0]']             \n",
            "                                                                                                  \n",
            " mlm (Softmax)                  (None, None, 8007)   0           ['bert[0][1]']                   \n",
            "                                                                                                  \n",
            "==================================================================================================\n",
            "Total params: 4,551,936\n",
            "Trainable params: 4,551,936\n",
            "Non-trainable params: 0\n",
            "__________________________________________________________________________________________________\n"
          ]
        }
      ]
    },
    {
      "cell_type": "markdown",
      "source": [
        "<br/>"
      ],
      "metadata": {
        "id": "Q0S1kcmAk_DN"
      }
    },
    {
      "cell_type": "code",
      "source": [
        "test_model.fit((enc_tokens, segments), (labels_nsp, labels_mlm), epochs=2, batch_size=5)"
      ],
      "metadata": {
        "id": "4NEFG5ZGUo8l",
        "colab": {
          "base_uri": "https://localhost:8080/"
        },
        "outputId": "0bf981b3-b64f-4a3e-8740-5cacd1f6ad7f"
      },
      "execution_count": null,
      "outputs": [
        {
          "output_type": "stream",
          "name": "stdout",
          "text": [
            "Epoch 1/2\n",
            "2/2 [==============================] - 3s 15ms/step - loss: 9.7747 - nsp_loss: 0.7198 - mlm_loss: 9.0549 - nsp_acc: 0.6000 - mlm_acc: 0.0000e+00\n",
            "Epoch 2/2\n",
            "2/2 [==============================] - 0s 10ms/step - loss: 8.5973 - nsp_loss: 0.6165 - mlm_loss: 7.9808 - nsp_acc: 0.8000 - mlm_acc: 0.0000e+00\n"
          ]
        },
        {
          "output_type": "execute_result",
          "data": {
            "text/plain": [
              "<keras.callbacks.History at 0x7f336287d490>"
            ]
          },
          "metadata": {},
          "execution_count": 49
        }
      ]
    },
    {
      "cell_type": "markdown",
      "source": [
        "Pretrained BERT 모델을 생성하여 모델 작동을 확인한다."
      ],
      "metadata": {
        "id": "4IHUApWB5NGJ"
      }
    },
    {
      "cell_type": "markdown",
      "source": [
        ""
      ],
      "metadata": {
        "id": "5s_tj3iYlAw9"
      }
    },
    {
      "cell_type": "markdown",
      "source": [
        "##Loss Function"
      ],
      "metadata": {
        "id": "bLMJC8xZ3XxL"
      }
    },
    {
      "cell_type": "code",
      "source": [
        "def lm_loss(y_true, y_pred):\n",
        "    \"\"\"\n",
        "    loss 계산\n",
        "    :param y_true: 정답 (bs, n_seq)\n",
        "    :param y_pred: 예측 값 (bs, n_seq, n_vocab)\n",
        "    \"\"\"\n",
        "    # loss 계산\n",
        "    loss = tf.keras.losses.SparseCategoricalCrossentropy(reduction=tf.keras.losses.Reduction.NONE)(y_true, y_pred)\n",
        "    # pad(0) 인 부분 mask\n",
        "    mask = tf.cast(tf.math.not_equal(y_true, 0), dtype=loss.dtype)\n",
        "    loss *= mask\n",
        "    return loss * 20  # mlm을 더 잘 학습하도록 20배 증가 시킴"
      ],
      "metadata": {
        "id": "mhb2NsqiUrIG"
      },
      "execution_count": null,
      "outputs": []
    },
    {
      "cell_type": "code",
      "source": [
        "def lm_acc(y_true, y_pred):\n",
        "    \"\"\"\n",
        "    accuracy 계산\n",
        "    :param y_true: 정답 (bs, n_seq)\n",
        "    :param y_pred: 예측 값 (bs, n_seq, n_vocab)\n",
        "    \"\"\"\n",
        "    # 정답 여부 확인\n",
        "    y_pred_class = tf.cast(K.argmax(y_pred, axis=-1), tf.float32)\n",
        "    matches = tf.cast(K.equal(y_true, y_pred_class), tf.float32)\n",
        "    # pad(0) 인 부분 mask\n",
        "    mask = tf.cast(tf.math.not_equal(y_true, 0), dtype=matches.dtype)\n",
        "    matches *= mask\n",
        "    # 정확도 계산\n",
        "    accuracy = K.sum(matches) / K.maximum(K.sum(mask), 1)\n",
        "    return accuracy"
      ],
      "metadata": {
        "id": "-xTSSRTs6GsI"
      },
      "execution_count": null,
      "outputs": []
    },
    {
      "cell_type": "markdown",
      "source": [
        "##Learning Rate Schedule "
      ],
      "metadata": {
        "id": "yjGvydHA8Glh"
      }
    },
    {
      "cell_type": "code",
      "source": [
        "class CosineSchedule(tf.keras.optimizers.schedules.LearningRateSchedule):\n",
        "    \"\"\"\n",
        "    CosineSchedule Class\n",
        "    \"\"\"\n",
        "    def __init__(self, train_steps=4000, warmup_steps=2000, max_lr=2.5e-4):\n",
        "        \"\"\"\n",
        "        생성자\n",
        "        :param train_steps: 학습 step 총 합\n",
        "        :param warmup_steps: warmup steps\n",
        "        :param max_lr: 최대 learning rate\n",
        "        \"\"\"\n",
        "        super().__init__()\n",
        "\n",
        "        assert 0 < warmup_steps < train_steps\n",
        "        self.warmup_steps = warmup_steps\n",
        "        self.train_steps = train_steps\n",
        "        self.max_lr = max_lr\n",
        "\n",
        "    def __call__(self, step_num):\n",
        "        \"\"\"\n",
        "        learning rate 계산\n",
        "        :param step_num: 현재 step number\n",
        "        :retrun: 계산된 learning rate\n",
        "        \"\"\"\n",
        "        state = tf.cast(step_num <= self.warmup_steps, tf.float32)\n",
        "        lr1 = tf.cast(step_num, tf.float32) / self.warmup_steps\n",
        "        progress = tf.cast(step_num - self.warmup_steps, tf.float32) / max(1, self.train_steps - self.warmup_steps)\n",
        "        lr2 = 0.5 * (1.0 + tf.math.cos(math.pi * progress))\n",
        "        return (state * lr1 + (1 - state) * lr2) * self.max_lr"
      ],
      "metadata": {
        "id": "WtKvL4MKUu-w"
      },
      "execution_count": null,
      "outputs": []
    },
    {
      "cell_type": "code",
      "source": [
        "# compute lr \n",
        "test_schedule = CosineSchedule(train_steps=4000, warmup_steps=500)\n",
        "lrs = []\n",
        "for step_num in range(4000):\n",
        "    lrs.append(test_schedule(float(step_num)).numpy())\n",
        "\n",
        "# draw\n",
        "plt.plot(lrs, 'r-', label='learning_rate')\n",
        "plt.title(\"Learning Rate Schedule\")\n",
        "plt.xlabel('Step')\n",
        "plt.ylabel('Learning Rate')\n",
        "plt.show()"
      ],
      "metadata": {
        "colab": {
          "base_uri": "https://localhost:8080/",
          "height": 295
        },
        "id": "TDTVkGm_8uDf",
        "outputId": "d395b24f-3f38-441a-c9ef-7f2bcdb97b9c"
      },
      "execution_count": null,
      "outputs": [
        {
          "output_type": "display_data",
          "data": {
            "text/plain": [
              "<Figure size 432x288 with 1 Axes>"
            ],
            "image/png": "[encoded data removed]"
          },
          "metadata": {
            "needs_background": "light"
          }
        }
      ]
    },
    {
      "cell_type": "markdown",
      "source": [
        "WarmUp 이후 Consine 형태로 감소하는 스케줄을 적용한다.\n",
        "<br/>Learning Rate를 단순히 감소시키기 보다는 진동하면서 최적점을 찾는다."
      ],
      "metadata": {
        "id": "CyUgo_rI8PWw"
      }
    },
    {
      "cell_type": "markdown",
      "source": [
        "#Hyperparameter"
      ],
      "metadata": {
        "id": "q0HM8XjaKd2U"
      }
    },
    {
      "cell_type": "code",
      "source": [
        "reorderlist = ['Model Dimension', 'Feedforwad Hidden Layer', 'Feedforwad Hidden Layer Dimension', 'Feedforward Network Dimension',\n",
        "               'Layer Normalization Epsilon', 'Number of Layer', 'Sequence Size', 'Number of Vocab', \"Pad ID\", 'Tokenizer', 'Vocab Size', \n",
        "               'Dropout Rate', 'Learning Rate', 'Optimizer', 'Activation Function', 'Loss Function', 'Epoch', 'Batch Size', 'Total Parameter']\n",
        "\n",
        "hyperparameter = pd.DataFrame({'First Model':{'Model Dimension':256, 'Feedforwad Hidden Layer':4,\n",
        "                                                    'Feedforwad Hidden Layer Dimension':64, 'Feedforward Network Dimension':1024,\n",
        "                                                    'Layer Normalization Epsilon':0.001, 'Number of Layer':3, 'Sequence Size':256,\n",
        "                                                    'Number of Vocab':8007, \"Pad ID\":0,  'Tokenizer':'SentencePiece', 'Vocab Size':8000,\n",
        "                                                    'Dropout Rate':0.1, 'Learning Rate':'Scheduler', 'Optimizer':'Adam',\n",
        "                                                    'Activation Function':'Gelu', 'Loss Function':'Sparse Categorical Crossentropy',\n",
        "                                                    'Epoch':10, 'Batch Size':128, 'Total Parameter':4551936}})\n",
        "\n",
        "hyperparameter = hyperparameter.iloc[pd.Categorical(hyperparameter.index,reorderlist).argsort()]\n",
        "\n",
        "hyperparameter.loc[:,'Second Model'] = [128, 4, 64, 512, 0.001, 3, 256, 8007, 0, 'SentencePiece', 8000, 0.1, 'Scheduler', 'Adam',\n",
        "                                              'Gelu', 'Sparse Categorical Crossentropy', 10, 128, 1867520]\n",
        "hyperparameter.loc[:,'Third Model'] = [64, 4, 64, 256, 0.001, 3, 256, 8007,0, 'SentencePiece', 8000, 0.1, 'Scheduler', 'Adam',\n",
        "                                              'Gelu', 'Sparse Categorical Crossentropy', 10, 128, 832512]\n",
        "\n",
        "\n",
        "pd.set_option('display.max_columns', None)\n",
        "hyperparameter"
      ],
      "metadata": {
        "colab": {
          "base_uri": "https://localhost:8080/",
          "height": 645
        },
        "id": "um-XwT89KfR2",
        "outputId": "fdaa7916-52fe-4b54-95e1-41f5ae26f65c"
      },
      "execution_count": null,
      "outputs": [
        {
          "output_type": "execute_result",
          "data": {
            "text/plain": [
              "                                                       First Model  \\\n",
              "Model Dimension                                                256   \n",
              "Feedforwad Hidden Layer                                          4   \n",
              "Feedforwad Hidden Layer Dimension                               64   \n",
              "Feedforward Network Dimension                                 1024   \n",
              "Layer Normalization Epsilon                                  0.001   \n",
              "Number of Layer                                                  3   \n",
              "Sequence Size                                                  256   \n",
              "Number of Vocab                                               8007   \n",
              "Pad ID                                                           0   \n",
              "Tokenizer                                            SentencePiece   \n",
              "Vocab Size                                                    8000   \n",
              "Dropout Rate                                                   0.1   \n",
              "Learning Rate                                            Scheduler   \n",
              "Optimizer                                                     Adam   \n",
              "Activation Function                                           Gelu   \n",
              "Loss Function                      Sparse Categorical Crossentropy   \n",
              "Epoch                                                           10   \n",
              "Batch Size                                                     128   \n",
              "Total Parameter                                            4551936   \n",
              "\n",
              "                                                      Second Model  \\\n",
              "Model Dimension                                                128   \n",
              "Feedforwad Hidden Layer                                          4   \n",
              "Feedforwad Hidden Layer Dimension                               64   \n",
              "Feedforward Network Dimension                                  512   \n",
              "Layer Normalization Epsilon                                  0.001   \n",
              "Number of Layer                                                  3   \n",
              "Sequence Size                                                  256   \n",
              "Number of Vocab                                               8007   \n",
              "Pad ID                                                           0   \n",
              "Tokenizer                                            SentencePiece   \n",
              "Vocab Size                                                    8000   \n",
              "Dropout Rate                                                   0.1   \n",
              "Learning Rate                                            Scheduler   \n",
              "Optimizer                                                     Adam   \n",
              "Activation Function                                           Gelu   \n",
              "Loss Function                      Sparse Categorical Crossentropy   \n",
              "Epoch                                                           10   \n",
              "Batch Size                                                     128   \n",
              "Total Parameter                                            1867520   \n",
              "\n",
              "                                                       Third Model  \n",
              "Model Dimension                                                 64  \n",
              "Feedforwad Hidden Layer                                          4  \n",
              "Feedforwad Hidden Layer Dimension                               64  \n",
              "Feedforward Network Dimension                                  256  \n",
              "Layer Normalization Epsilon                                  0.001  \n",
              "Number of Layer                                                  3  \n",
              "Sequence Size                                                  256  \n",
              "Number of Vocab                                               8007  \n",
              "Pad ID                                                           0  \n",
              "Tokenizer                                            SentencePiece  \n",
              "Vocab Size                                                    8000  \n",
              "Dropout Rate                                                   0.1  \n",
              "Learning Rate                                            Scheduler  \n",
              "Optimizer                                                     Adam  \n",
              "Activation Function                                           Gelu  \n",
              "Loss Function                      Sparse Categorical Crossentropy  \n",
              "Epoch                                                           10  \n",
              "Batch Size                                                     128  \n",
              "Total Parameter                                             832512  "
            ],
            "text/html": [
              "\n",
              "  <div id=\"df-eb60a6b3-493a-4587-8ab7-0d088fe20755\">\n",
              "    <div class=\"colab-df-container\">\n",
              "      <div>\n",
              "<style scoped>\n",
              "    .dataframe tbody tr th:only-of-type {\n",
              "        vertical-align: middle;\n",
              "    }\n",
              "\n",
              "    .dataframe tbody tr th {\n",
              "        vertical-align: top;\n",
              "    }\n",
              "\n",
              "    .dataframe thead th {\n",
              "        text-align: right;\n",
              "    }\n",
              "</style>\n",
              "<table border=\"1\" class=\"dataframe\">\n",
              "  <thead>\n",
              "    <tr style=\"text-align: right;\">\n",
              "      <th></th>\n",
              "      <th>First Model</th>\n",
              "      <th>Second Model</th>\n",
              "      <th>Third Model</th>\n",
              "    </tr>\n",
              "  </thead>\n",
              "  <tbody>\n",
              "    <tr>\n",
              "      <th>Model Dimension</th>\n",
              "      <td>256</td>\n",
              "      <td>128</td>\n",
              "      <td>64</td>\n",
              "    </tr>\n",
              "    <tr>\n",
              "      <th>Feedforwad Hidden Layer</th>\n",
              "      <td>4</td>\n",
              "      <td>4</td>\n",
              "      <td>4</td>\n",
              "    </tr>\n",
              "    <tr>\n",
              "      <th>Feedforwad Hidden Layer Dimension</th>\n",
              "      <td>64</td>\n",
              "      <td>64</td>\n",
              "      <td>64</td>\n",
              "    </tr>\n",
              "    <tr>\n",
              "      <th>Feedforward Network Dimension</th>\n",
              "      <td>1024</td>\n",
              "      <td>512</td>\n",
              "      <td>256</td>\n",
              "    </tr>\n",
              "    <tr>\n",
              "      <th>Layer Normalization Epsilon</th>\n",
              "      <td>0.001</td>\n",
              "      <td>0.001</td>\n",
              "      <td>0.001</td>\n",
              "    </tr>\n",
              "    <tr>\n",
              "      <th>Number of Layer</th>\n",
              "      <td>3</td>\n",
              "      <td>3</td>\n",
              "      <td>3</td>\n",
              "    </tr>\n",
              "    <tr>\n",
              "      <th>Sequence Size</th>\n",
              "      <td>256</td>\n",
              "      <td>256</td>\n",
              "      <td>256</td>\n",
              "    </tr>\n",
              "    <tr>\n",
              "      <th>Number of Vocab</th>\n",
              "      <td>8007</td>\n",
              "      <td>8007</td>\n",
              "      <td>8007</td>\n",
              "    </tr>\n",
              "    <tr>\n",
              "      <th>Pad ID</th>\n",
              "      <td>0</td>\n",
              "      <td>0</td>\n",
              "      <td>0</td>\n",
              "    </tr>\n",
              "    <tr>\n",
              "      <th>Tokenizer</th>\n",
              "      <td>SentencePiece</td>\n",
              "      <td>SentencePiece</td>\n",
              "      <td>SentencePiece</td>\n",
              "    </tr>\n",
              "    <tr>\n",
              "      <th>Vocab Size</th>\n",
              "      <td>8000</td>\n",
              "      <td>8000</td>\n",
              "      <td>8000</td>\n",
              "    </tr>\n",
              "    <tr>\n",
              "      <th>Dropout Rate</th>\n",
              "      <td>0.1</td>\n",
              "      <td>0.1</td>\n",
              "      <td>0.1</td>\n",
              "    </tr>\n",
              "    <tr>\n",
              "      <th>Learning Rate</th>\n",
              "      <td>Scheduler</td>\n",
              "      <td>Scheduler</td>\n",
              "      <td>Scheduler</td>\n",
              "    </tr>\n",
              "    <tr>\n",
              "      <th>Optimizer</th>\n",
              "      <td>Adam</td>\n",
              "      <td>Adam</td>\n",
              "      <td>Adam</td>\n",
              "    </tr>\n",
              "    <tr>\n",
              "      <th>Activation Function</th>\n",
              "      <td>Gelu</td>\n",
              "      <td>Gelu</td>\n",
              "      <td>Gelu</td>\n",
              "    </tr>\n",
              "    <tr>\n",
              "      <th>Loss Function</th>\n",
              "      <td>Sparse Categorical Crossentropy</td>\n",
              "      <td>Sparse Categorical Crossentropy</td>\n",
              "      <td>Sparse Categorical Crossentropy</td>\n",
              "    </tr>\n",
              "    <tr>\n",
              "      <th>Epoch</th>\n",
              "      <td>10</td>\n",
              "      <td>10</td>\n",
              "      <td>10</td>\n",
              "    </tr>\n",
              "    <tr>\n",
              "      <th>Batch Size</th>\n",
              "      <td>128</td>\n",
              "      <td>128</td>\n",
              "      <td>128</td>\n",
              "    </tr>\n",
              "    <tr>\n",
              "      <th>Total Parameter</th>\n",
              "      <td>4551936</td>\n",
              "      <td>1867520</td>\n",
              "      <td>832512</td>\n",
              "    </tr>\n",
              "  </tbody>\n",
              "</table>\n",
              "</div>\n",
              "      <button class=\"colab-df-convert\" onclick=\"convertToInteractive('df-eb60a6b3-493a-4587-8ab7-0d088fe20755')\"\n",
              "              title=\"Convert this dataframe to an interactive table.\"\n",
              "              style=\"display:none;\">\n",
              "        \n",
              "  <svg xmlns=\"http://www.w3.org/2000/svg\" height=\"24px\"viewBox=\"0 0 24 24\"\n",
              "       width=\"24px\">\n",
              "    <path d=\"M0 0h24v24H0V0z\" fill=\"none\"/>\n",
              "    <path d=\"M18.56 5.44l.94 2.06.94-2.06 2.06-.94-2.06-.94-.94-2.06-.94 2.06-2.06.94zm-11 1L8.5 8.5l.94-2.06 2.06-.94-2.06-.94L8.5 2.5l-.94 2.06-2.06.94zm10 10l.94 2.06.94-2.06 2.06-.94-2.06-.94-.94-2.06-.94 2.06-2.06.94z\"/><path d=\"M17.41 7.96l-1.37-1.37c-.4-.4-.92-.59-1.43-.59-.52 0-1.04.2-1.43.59L10.3 9.45l-7.72 7.72c-.78.78-.78 2.05 0 2.83L4 21.41c.39.39.9.59 1.41.59.51 0 1.02-.2 1.41-.59l7.78-7.78 2.81-2.81c.8-.78.8-2.07 0-2.86zM5.41 20L4 18.59l7.72-7.72 1.47 1.35L5.41 20z\"/>\n",
              "  </svg>\n",
              "      </button>\n",
              "      \n",
              "  <style>\n",
              "    .colab-df-container {\n",
              "      display:flex;\n",
              "      flex-wrap:wrap;\n",
              "      gap: 12px;\n",
              "    }\n",
              "\n",
              "    .colab-df-convert {\n",
              "      background-color: #E8F0FE;\n",
              "      border: none;\n",
              "      border-radius: 50%;\n",
              "      cursor: pointer;\n",
              "      display: none;\n",
              "      fill: #1967D2;\n",
              "      height: 32px;\n",
              "      padding: 0 0 0 0;\n",
              "      width: 32px;\n",
              "    }\n",
              "\n",
              "    .colab-df-convert:hover {\n",
              "      background-color: #E2EBFA;\n",
              "      box-shadow: 0px 1px 2px rgba(60, 64, 67, 0.3), 0px 1px 3px 1px rgba(60, 64, 67, 0.15);\n",
              "      fill: #174EA6;\n",
              "    }\n",
              "\n",
              "    [theme=dark] .colab-df-convert {\n",
              "      background-color: #3B4455;\n",
              "      fill: #D2E3FC;\n",
              "    }\n",
              "\n",
              "    [theme=dark] .colab-df-convert:hover {\n",
              "      background-color: #434B5C;\n",
              "      box-shadow: 0px 1px 3px 1px rgba(0, 0, 0, 0.15);\n",
              "      filter: drop-shadow(0px 1px 2px rgba(0, 0, 0, 0.3));\n",
              "      fill: #FFFFFF;\n",
              "    }\n",
              "  </style>\n",
              "\n",
              "      <script>\n",
              "        const buttonEl =\n",
              "          document.querySelector('#df-eb60a6b3-493a-4587-8ab7-0d088fe20755 button.colab-df-convert');\n",
              "        buttonEl.style.display =\n",
              "          google.colab.kernel.accessAllowed ? 'block' : 'none';\n",
              "\n",
              "        async function convertToInteractive(key) {\n",
              "          const element = document.querySelector('#df-eb60a6b3-493a-4587-8ab7-0d088fe20755');\n",
              "          const dataTable =\n",
              "            await google.colab.kernel.invokeFunction('convertToInteractive',\n",
              "                                                     [key], {});\n",
              "          if (!dataTable) return;\n",
              "\n",
              "          const docLinkHtml = 'Like what you see? Visit the ' +\n",
              "            '<a target=\"_blank\" href=https://colab.research.google.com/notebooks/data_table.ipynb>data table notebook</a>'\n",
              "            + ' to learn more about interactive tables.';\n",
              "          element.innerHTML = '';\n",
              "          dataTable['output_type'] = 'display_data';\n",
              "          await google.colab.output.renderOutput(dataTable, element);\n",
              "          const docLink = document.createElement('div');\n",
              "          docLink.innerHTML = docLinkHtml;\n",
              "          element.appendChild(docLink);\n",
              "        }\n",
              "      </script>\n",
              "    </div>\n",
              "  </div>\n",
              "  "
            ]
          },
          "metadata": {},
          "execution_count": 54
        }
      ]
    },
    {
      "cell_type": "markdown",
      "source": [
        "#First Model"
      ],
      "metadata": {
        "id": "7kYfSfg_FwHe"
      }
    },
    {
      "cell_type": "code",
      "source": [
        "config_1 = Config({\"d_model\": 256,\n",
        "                 \"n_head\": 4,\n",
        "                 \"d_head\": 64,\n",
        "                 \"dropout\": 0.1,\n",
        "                 \"d_ff\": 1024,\n",
        "                 \"layernorm_epsilon\": 0.001,\n",
        "                 \"n_layer\": 3,\n",
        "                 \"n_seq\": 256,\n",
        "                 \"n_vocab\": 0,\n",
        "                 \"i_pad\": 0})\n",
        "\n",
        "config_1.n_vocab = len(vocab)\n",
        "config_1.i_pad = vocab.pad_id()\n",
        "config_1"
      ],
      "metadata": {
        "colab": {
          "base_uri": "https://localhost:8080/"
        },
        "id": "5aMTQJVnGGBW",
        "outputId": "c586b20b-9c2d-49c8-c7d0-ed6f7f3e6fe6"
      },
      "execution_count": null,
      "outputs": [
        {
          "output_type": "execute_result",
          "data": {
            "text/plain": [
              "{'d_ff': 1024,\n",
              " 'd_head': 64,\n",
              " 'd_model': 256,\n",
              " 'dropout': 0.1,\n",
              " 'i_pad': 0,\n",
              " 'layernorm_epsilon': 0.001,\n",
              " 'n_head': 4,\n",
              " 'n_layer': 3,\n",
              " 'n_seq': 256,\n",
              " 'n_vocab': 8007}"
            ]
          },
          "metadata": {},
          "execution_count": 55
        }
      ]
    },
    {
      "cell_type": "markdown",
      "source": [
        "<br/>"
      ],
      "metadata": {
        "id": "cpm-8a6sphjZ"
      }
    },
    {
      "cell_type": "code",
      "source": [
        "epochs = 10\n",
        "batch_size = 128\n",
        "\n",
        "# optimizer\n",
        "train_steps = math.ceil(len(pre_train_inputs[0]) / batch_size) * epochs\n",
        "learning_rate = CosineSchedule(train_steps=train_steps, warmup_steps=max(100, train_steps // 10))\n",
        "lrs = []\n",
        "for step_num in range(train_steps):\n",
        "    lrs.append(learning_rate(float(step_num)).numpy())\n",
        "\n",
        "# draw\n",
        "plt.plot(lrs, 'r-', label='learning_rate')\n",
        "plt.title(\"Learning Rate Schedule\")\n",
        "plt.xlabel('Step')\n",
        "plt.ylabel('Learning Rate')\n",
        "plt.show()\n",
        "print(\"\\n\")\n",
        "\n",
        "optimizer = tf.keras.optimizers.Adam(learning_rate, beta_1=0.9, beta_2=0.98, epsilon=1e-9)\n",
        "\n",
        "# compile\n",
        "pre_train_model = build_model_pre_train(config_1)\n",
        "pre_train_model.compile(loss=(tf.keras.losses.sparse_categorical_crossentropy, lm_loss),\n",
        "                        optimizer=optimizer, metrics={\"nsp\": \"acc\", \"mlm\": lm_acc})\n",
        "pre_train_model.summary()"
      ],
      "metadata": {
        "id": "6qIgEzWnaYE6",
        "colab": {
          "base_uri": "https://localhost:8080/",
          "height": 754
        },
        "outputId": "b7d9135e-d8e3-4534-a13d-03c1a1d33739"
      },
      "execution_count": null,
      "outputs": [
        {
          "output_type": "display_data",
          "data": {
            "text/plain": [
              "<Figure size 432x288 with 1 Axes>"
            ],
            "image/png": "[encoded data removed]"
          },
          "metadata": {
            "needs_background": "light"
          }
        },
        {
          "output_type": "stream",
          "name": "stdout",
          "text": [
            "\n",
            "\n",
            "Model: \"model_1\"\n",
            "__________________________________________________________________________________________________\n",
            " Layer (type)                   Output Shape         Param #     Connected to                     \n",
            "==================================================================================================\n",
            " enc_tokens (InputLayer)        [(None, None)]       0           []                               \n",
            "                                                                                                  \n",
            " segments (InputLayer)          [(None, None)]       0           []                               \n",
            "                                                                                                  \n",
            " bert (BERT)                    ((None, 256),        4485632     ['enc_tokens[0][0]',             \n",
            "                                 (None, None, 8007)               'segments[0][0]']               \n",
            "                                )                                                                 \n",
            "                                                                                                  \n",
            " pooled_nsp (PooledOutput)      (None, 2)            66304       ['bert[0][0]']                   \n",
            "                                                                                                  \n",
            " nsp (Softmax)                  (None, 2)            0           ['pooled_nsp[0][0]']             \n",
            "                                                                                                  \n",
            " mlm (Softmax)                  (None, None, 8007)   0           ['bert[0][1]']                   \n",
            "                                                                                                  \n",
            "==================================================================================================\n",
            "Total params: 4,551,936\n",
            "Trainable params: 4,551,936\n",
            "Non-trainable params: 0\n",
            "__________________________________________________________________________________________________\n"
          ]
        }
      ]
    },
    {
      "cell_type": "markdown",
      "source": [
        "<br/>"
      ],
      "metadata": {
        "id": "SbTNsr6ulD-9"
      }
    },
    {
      "cell_type": "code",
      "source": [
        "# save weights callback\n",
        "model_dir = '/content/drive/MyDrive/lms/bert_pretrain/model'\n",
        "save_weights = tf.keras.callbacks.ModelCheckpoint(f\"{model_dir}/first_bert_pre_train.hdf5\", monitor=\"mlm_lm_acc\",\n",
        "                                                  verbose=0, save_best_only=True, mode=\"max\", save_freq=\"epoch\", save_weights_only=True)\n",
        "# train\n",
        "history = pre_train_model.fit(pre_train_inputs, pre_train_labels, epochs=epochs, batch_size=batch_size, callbacks=[save_weights])"
      ],
      "metadata": {
        "id": "TO8jO_cq90u7",
        "colab": {
          "base_uri": "https://localhost:8080/"
        },
        "outputId": "835ebbe8-4554-44a4-f759-f57e1dd40be4"
      },
      "execution_count": null,
      "outputs": [
        {
          "output_type": "stream",
          "name": "stdout",
          "text": [
            "Epoch 1/10\n",
            "1000/1000 [==============================] - 168s 163ms/step - loss: 19.9153 - nsp_loss: 0.6521 - mlm_loss: 19.2632 - nsp_acc: 0.5926 - mlm_lm_acc: 0.1085\n",
            "Epoch 2/10\n",
            "1000/1000 [==============================] - 164s 164ms/step - loss: 17.7894 - nsp_loss: 0.6241 - mlm_loss: 17.1653 - nsp_acc: 0.6193 - mlm_lm_acc: 0.1281\n",
            "Epoch 3/10\n",
            "1000/1000 [==============================] - 164s 164ms/step - loss: 17.0763 - nsp_loss: 0.6117 - mlm_loss: 16.4646 - nsp_acc: 0.6349 - mlm_lm_acc: 0.1345\n",
            "Epoch 4/10\n",
            "1000/1000 [==============================] - 164s 164ms/step - loss: 16.3482 - nsp_loss: 0.6075 - mlm_loss: 15.7407 - nsp_acc: 0.6411 - mlm_lm_acc: 0.1448\n",
            "Epoch 5/10\n",
            "1000/1000 [==============================] - 164s 164ms/step - loss: 14.9680 - nsp_loss: 0.6065 - mlm_loss: 14.3614 - nsp_acc: 0.6460 - mlm_lm_acc: 0.1677\n",
            "Epoch 6/10\n",
            "1000/1000 [==============================] - 164s 164ms/step - loss: 14.1599 - nsp_loss: 0.6019 - mlm_loss: 13.5580 - nsp_acc: 0.6551 - mlm_lm_acc: 0.1874\n",
            "Epoch 7/10\n",
            "1000/1000 [==============================] - 164s 164ms/step - loss: 13.7392 - nsp_loss: 0.5957 - mlm_loss: 13.1435 - nsp_acc: 0.6653 - mlm_lm_acc: 0.1984\n",
            "Epoch 8/10\n",
            "1000/1000 [==============================] - 164s 164ms/step - loss: 13.5014 - nsp_loss: 0.5898 - mlm_loss: 12.9115 - nsp_acc: 0.6784 - mlm_lm_acc: 0.2048\n",
            "Epoch 9/10\n",
            "1000/1000 [==============================] - 164s 164ms/step - loss: 13.3750 - nsp_loss: 0.5852 - mlm_loss: 12.7898 - nsp_acc: 0.6845 - mlm_lm_acc: 0.2081\n",
            "Epoch 10/10\n",
            "1000/1000 [==============================] - 164s 164ms/step - loss: 13.3245 - nsp_loss: 0.5820 - mlm_loss: 12.7425 - nsp_acc: 0.6897 - mlm_lm_acc: 0.2095\n"
          ]
        }
      ]
    },
    {
      "cell_type": "markdown",
      "source": [
        "<br/>"
      ],
      "metadata": {
        "id": "ISGTBfbdlEXN"
      }
    },
    {
      "cell_type": "code",
      "source": [
        "first_model_history = {'Loss': history.history['loss'], \n",
        "                       'NSP Loss': history.history['nsp_loss'],\n",
        "                       'MLM Loss': history.history['mlm_loss'],\n",
        "                       'NSP Accuracy': history.history['nsp_acc'],\n",
        "                       'MLM Accuracy': history.history['mlm_lm_acc']}\n",
        "\n",
        "first_model_history_df = pd.DataFrame(first_model_history)\n",
        "first_model_history_df = first_model_history_df.round(4)\n",
        "first_model_history_df['Epoch'] = first_model_history_df.reset_index().index + 1\n",
        "first_model_history_df = first_model_history_df[['Epoch', 'Loss', 'NSP Loss', 'MLM Loss', 'NSP Accuracy', 'MLM Accuracy']]\n",
        "first_model_history_df.to_csv(\"/content/drive/MyDrive/lms/bert_pretrain/first_model_history.csv\", index = False)\n",
        "display(first_model_history_df)\n",
        "print(\"\\n\")\n",
        "\n",
        "plt.figure(figsize=(18, 4))\n",
        "\n",
        "plt.subplot(1, 3, 1)\n",
        "plt.plot(history.history['loss'], label='Loss')\n",
        "plt.title(\"Loss\")\n",
        "plt.xlabel('Epoch')\n",
        "plt.legend()\n",
        "\n",
        "plt.subplot(1, 3, 2)\n",
        "plt.plot(history.history['nsp_loss'], 'b-', label='NSP Loss')\n",
        "plt.plot(history.history['mlm_loss'], 'r--', label='MLM Loss')\n",
        "plt.title(\"Loss\")\n",
        "plt.xlabel('Epoch')\n",
        "plt.legend()\n",
        "\n",
        "plt.subplot(1, 3, 3)\n",
        "plt.plot(history.history['nsp_acc'], 'g-', label='NSP Accuracy')\n",
        "plt.plot(history.history['mlm_lm_acc'], 'k--', label='MLM Accuracy')\n",
        "plt.title(\"Accuracy\")\n",
        "plt.xlabel('Epoch')\n",
        "plt.legend()\n",
        "\n",
        "plt.show()"
      ],
      "metadata": {
        "id": "4WouVzu9U5Xl",
        "colab": {
          "base_uri": "https://localhost:8080/",
          "height": 678
        },
        "outputId": "5480b19c-40f1-4884-9371-aac7e53e281e"
      },
      "execution_count": null,
      "outputs": [
        {
          "output_type": "display_data",
          "data": {
            "text/plain": [
              "   Epoch     Loss  NSP Loss  MLM Loss  NSP Accuracy  MLM Accuracy\n",
              "0      1  19.9153    0.6521   19.2632        0.5926        0.1085\n",
              "1      2  17.7894    0.6241   17.1653        0.6193        0.1281\n",
              "2      3  17.0763    0.6117   16.4646        0.6349        0.1345\n",
              "3      4  16.3482    0.6075   15.7407        0.6411        0.1448\n",
              "4      5  14.9680    0.6065   14.3614        0.6460        0.1677\n",
              "5      6  14.1599    0.6019   13.5580        0.6551        0.1874\n",
              "6      7  13.7392    0.5957   13.1435        0.6653        0.1984\n",
              "7      8  13.5014    0.5898   12.9115        0.6784        0.2048\n",
              "8      9  13.3750    0.5852   12.7898        0.6845        0.2081\n",
              "9     10  13.3245    0.5820   12.7425        0.6897        0.2095"
            ],
            "text/html": [
              "\n",
              "  <div id=\"df-ee85d41c-f087-4e91-ba77-c2f363f6782e\">\n",
              "    <div class=\"colab-df-container\">\n",
              "      <div>\n",
              "<style scoped>\n",
              "    .dataframe tbody tr th:only-of-type {\n",
              "        vertical-align: middle;\n",
              "    }\n",
              "\n",
              "    .dataframe tbody tr th {\n",
              "        vertical-align: top;\n",
              "    }\n",
              "\n",
              "    .dataframe thead th {\n",
              "        text-align: right;\n",
              "    }\n",
              "</style>\n",
              "<table border=\"1\" class=\"dataframe\">\n",
              "  <thead>\n",
              "    <tr style=\"text-align: right;\">\n",
              "      <th></th>\n",
              "      <th>Epoch</th>\n",
              "      <th>Loss</th>\n",
              "      <th>NSP Loss</th>\n",
              "      <th>MLM Loss</th>\n",
              "      <th>NSP Accuracy</th>\n",
              "      <th>MLM Accuracy</th>\n",
              "    </tr>\n",
              "  </thead>\n",
              "  <tbody>\n",
              "    <tr>\n",
              "      <th>0</th>\n",
              "      <td>1</td>\n",
              "      <td>19.9153</td>\n",
              "      <td>0.6521</td>\n",
              "      <td>19.2632</td>\n",
              "      <td>0.5926</td>\n",
              "      <td>0.1085</td>\n",
              "    </tr>\n",
              "    <tr>\n",
              "      <th>1</th>\n",
              "      <td>2</td>\n",
              "      <td>17.7894</td>\n",
              "      <td>0.6241</td>\n",
              "      <td>17.1653</td>\n",
              "      <td>0.6193</td>\n",
              "      <td>0.1281</td>\n",
              "    </tr>\n",
              "    <tr>\n",
              "      <th>2</th>\n",
              "      <td>3</td>\n",
              "      <td>17.0763</td>\n",
              "      <td>0.6117</td>\n",
              "      <td>16.4646</td>\n",
              "      <td>0.6349</td>\n",
              "      <td>0.1345</td>\n",
              "    </tr>\n",
              "    <tr>\n",
              "      <th>3</th>\n",
              "      <td>4</td>\n",
              "      <td>16.3482</td>\n",
              "      <td>0.6075</td>\n",
              "      <td>15.7407</td>\n",
              "      <td>0.6411</td>\n",
              "      <td>0.1448</td>\n",
              "    </tr>\n",
              "    <tr>\n",
              "      <th>4</th>\n",
              "      <td>5</td>\n",
              "      <td>14.9680</td>\n",
              "      <td>0.6065</td>\n",
              "      <td>14.3614</td>\n",
              "      <td>0.6460</td>\n",
              "      <td>0.1677</td>\n",
              "    </tr>\n",
              "    <tr>\n",
              "      <th>5</th>\n",
              "      <td>6</td>\n",
              "      <td>14.1599</td>\n",
              "      <td>0.6019</td>\n",
              "      <td>13.5580</td>\n",
              "      <td>0.6551</td>\n",
              "      <td>0.1874</td>\n",
              "    </tr>\n",
              "    <tr>\n",
              "      <th>6</th>\n",
              "      <td>7</td>\n",
              "      <td>13.7392</td>\n",
              "      <td>0.5957</td>\n",
              "      <td>13.1435</td>\n",
              "      <td>0.6653</td>\n",
              "      <td>0.1984</td>\n",
              "    </tr>\n",
              "    <tr>\n",
              "      <th>7</th>\n",
              "      <td>8</td>\n",
              "      <td>13.5014</td>\n",
              "      <td>0.5898</td>\n",
              "      <td>12.9115</td>\n",
              "      <td>0.6784</td>\n",
              "      <td>0.2048</td>\n",
              "    </tr>\n",
              "    <tr>\n",
              "      <th>8</th>\n",
              "      <td>9</td>\n",
              "      <td>13.3750</td>\n",
              "      <td>0.5852</td>\n",
              "      <td>12.7898</td>\n",
              "      <td>0.6845</td>\n",
              "      <td>0.2081</td>\n",
              "    </tr>\n",
              "    <tr>\n",
              "      <th>9</th>\n",
              "      <td>10</td>\n",
              "      <td>13.3245</td>\n",
              "      <td>0.5820</td>\n",
              "      <td>12.7425</td>\n",
              "      <td>0.6897</td>\n",
              "      <td>0.2095</td>\n",
              "    </tr>\n",
              "  </tbody>\n",
              "</table>\n",
              "</div>\n",
              "      <button class=\"colab-df-convert\" onclick=\"convertToInteractive('df-ee85d41c-f087-4e91-ba77-c2f363f6782e')\"\n",
              "              title=\"Convert this dataframe to an interactive table.\"\n",
              "              style=\"display:none;\">\n",
              "        \n",
              "  <svg xmlns=\"http://www.w3.org/2000/svg\" height=\"24px\"viewBox=\"0 0 24 24\"\n",
              "       width=\"24px\">\n",
              "    <path d=\"M0 0h24v24H0V0z\" fill=\"none\"/>\n",
              "    <path d=\"M18.56 5.44l.94 2.06.94-2.06 2.06-.94-2.06-.94-.94-2.06-.94 2.06-2.06.94zm-11 1L8.5 8.5l.94-2.06 2.06-.94-2.06-.94L8.5 2.5l-.94 2.06-2.06.94zm10 10l.94 2.06.94-2.06 2.06-.94-2.06-.94-.94-2.06-.94 2.06-2.06.94z\"/><path d=\"M17.41 7.96l-1.37-1.37c-.4-.4-.92-.59-1.43-.59-.52 0-1.04.2-1.43.59L10.3 9.45l-7.72 7.72c-.78.78-.78 2.05 0 2.83L4 21.41c.39.39.9.59 1.41.59.51 0 1.02-.2 1.41-.59l7.78-7.78 2.81-2.81c.8-.78.8-2.07 0-2.86zM5.41 20L4 18.59l7.72-7.72 1.47 1.35L5.41 20z\"/>\n",
              "  </svg>\n",
              "      </button>\n",
              "      \n",
              "  <style>\n",
              "    .colab-df-container {\n",
              "      display:flex;\n",
              "      flex-wrap:wrap;\n",
              "      gap: 12px;\n",
              "    }\n",
              "\n",
              "    .colab-df-convert {\n",
              "      background-color: #E8F0FE;\n",
              "      border: none;\n",
              "      border-radius: 50%;\n",
              "      cursor: pointer;\n",
              "      display: none;\n",
              "      fill: #1967D2;\n",
              "      height: 32px;\n",
              "      padding: 0 0 0 0;\n",
              "      width: 32px;\n",
              "    }\n",
              "\n",
              "    .colab-df-convert:hover {\n",
              "      background-color: #E2EBFA;\n",
              "      box-shadow: 0px 1px 2px rgba(60, 64, 67, 0.3), 0px 1px 3px 1px rgba(60, 64, 67, 0.15);\n",
              "      fill: #174EA6;\n",
              "    }\n",
              "\n",
              "    [theme=dark] .colab-df-convert {\n",
              "      background-color: #3B4455;\n",
              "      fill: #D2E3FC;\n",
              "    }\n",
              "\n",
              "    [theme=dark] .colab-df-convert:hover {\n",
              "      background-color: #434B5C;\n",
              "      box-shadow: 0px 1px 3px 1px rgba(0, 0, 0, 0.15);\n",
              "      filter: drop-shadow(0px 1px 2px rgba(0, 0, 0, 0.3));\n",
              "      fill: #FFFFFF;\n",
              "    }\n",
              "  </style>\n",
              "\n",
              "      <script>\n",
              "        const buttonEl =\n",
              "          document.querySelector('#df-ee85d41c-f087-4e91-ba77-c2f363f6782e button.colab-df-convert');\n",
              "        buttonEl.style.display =\n",
              "          google.colab.kernel.accessAllowed ? 'block' : 'none';\n",
              "\n",
              "        async function convertToInteractive(key) {\n",
              "          const element = document.querySelector('#df-ee85d41c-f087-4e91-ba77-c2f363f6782e');\n",
              "          const dataTable =\n",
              "            await google.colab.kernel.invokeFunction('convertToInteractive',\n",
              "                                                     [key], {});\n",
              "          if (!dataTable) return;\n",
              "\n",
              "          const docLinkHtml = 'Like what you see? Visit the ' +\n",
              "            '<a target=\"_blank\" href=https://colab.research.google.com/notebooks/data_table.ipynb>data table notebook</a>'\n",
              "            + ' to learn more about interactive tables.';\n",
              "          element.innerHTML = '';\n",
              "          dataTable['output_type'] = 'display_data';\n",
              "          await google.colab.output.renderOutput(dataTable, element);\n",
              "          const docLink = document.createElement('div');\n",
              "          docLink.innerHTML = docLinkHtml;\n",
              "          element.appendChild(docLink);\n",
              "        }\n",
              "      </script>\n",
              "    </div>\n",
              "  </div>\n",
              "  "
            ]
          },
          "metadata": {}
        },
        {
          "output_type": "stream",
          "name": "stdout",
          "text": [
            "\n",
            "\n"
          ]
        },
        {
          "output_type": "display_data",
          "data": {
            "text/plain": [
              "<Figure size 1296x288 with 3 Axes>"
            ],
            "image/png": "[encoded data removed]"
          },
          "metadata": {
            "needs_background": "light"
          }
        }
      ]
    },
    {
      "cell_type": "markdown",
      "source": [
        "학습 과정에서 MLM Loss, NSP Loss가 안정적으로 감소한다."
      ],
      "metadata": {
        "id": "ALg_y2-wMLbz"
      }
    },
    {
      "cell_type": "markdown",
      "source": [
        ""
      ],
      "metadata": {
        "id": "EcWl5eaFoA5E"
      }
    },
    {
      "cell_type": "markdown",
      "source": [
        "#Second Model"
      ],
      "metadata": {
        "id": "t_BHZ_KoF4_E"
      }
    },
    {
      "cell_type": "code",
      "source": [
        "config_2 = Config({\"d_model\": 128,\n",
        "                   \"n_head\": 4,\n",
        "                   \"d_head\": 64,\n",
        "                   \"dropout\": 0.1,\n",
        "                   \"d_ff\": 512,\n",
        "                   \"layernorm_epsilon\": 0.001,\n",
        "                   \"n_layer\": 3,\n",
        "                   \"n_seq\": 256,\n",
        "                   \"n_vocab\": 0,\n",
        "                   \"i_pad\": 0})\n",
        "\n",
        "config_2.n_vocab = len(vocab)\n",
        "config_2.i_pad = vocab.pad_id()\n",
        "config_2"
      ],
      "metadata": {
        "colab": {
          "base_uri": "https://localhost:8080/"
        },
        "id": "zdEAu5xBF7GV",
        "outputId": "32622825-85a3-465a-8bf6-cb8f9cd974ac"
      },
      "execution_count": null,
      "outputs": [
        {
          "output_type": "execute_result",
          "data": {
            "text/plain": [
              "{'d_ff': 512,\n",
              " 'd_head': 64,\n",
              " 'd_model': 128,\n",
              " 'dropout': 0.1,\n",
              " 'i_pad': 0,\n",
              " 'layernorm_epsilon': 0.001,\n",
              " 'n_head': 4,\n",
              " 'n_layer': 3,\n",
              " 'n_seq': 256,\n",
              " 'n_vocab': 8007}"
            ]
          },
          "metadata": {},
          "execution_count": 61
        }
      ]
    },
    {
      "cell_type": "markdown",
      "source": [
        "<br/>"
      ],
      "metadata": {
        "id": "eXW3iY_lpiM5"
      }
    },
    {
      "cell_type": "code",
      "source": [
        "epochs = 10\n",
        "batch_size = 128\n",
        "\n",
        "# optimizer\n",
        "train_steps = math.ceil(len(pre_train_inputs[0]) / batch_size) * epochs\n",
        "learning_rate = CosineSchedule(train_steps=train_steps, warmup_steps=max(100, train_steps // 10))\n",
        "lrs = []\n",
        "for step_num in range(train_steps):\n",
        "    lrs.append(learning_rate(float(step_num)).numpy())\n",
        "\n",
        "# draw\n",
        "plt.plot(lrs, 'r-', label='learning_rate')\n",
        "plt.title(\"Learning Rate Schedule\")\n",
        "plt.xlabel('Step')\n",
        "plt.ylabel('Learning Rate')\n",
        "plt.show()\n",
        "print(\"\\n\")\n",
        "\n",
        "optimizer = tf.keras.optimizers.Adam(learning_rate, beta_1=0.9, beta_2=0.98, epsilon=1e-9)\n",
        "\n",
        "# compile\n",
        "pre_train_model = build_model_pre_train(config_2)\n",
        "pre_train_model.compile(loss=(tf.keras.losses.sparse_categorical_crossentropy, lm_loss),\n",
        "                        optimizer=optimizer, metrics={\"nsp\": \"acc\", \"mlm\": lm_acc})\n",
        "pre_train_model.summary()"
      ],
      "metadata": {
        "colab": {
          "base_uri": "https://localhost:8080/",
          "height": 754
        },
        "id": "UNrT6rWqF7I8",
        "outputId": "cba37356-36ca-4a07-d028-79069f5c8b5c"
      },
      "execution_count": null,
      "outputs": [
        {
          "output_type": "display_data",
          "data": {
            "text/plain": [
              "<Figure size 432x288 with 1 Axes>"
            ],
            "image/png": "[encoded data removed]"
          },
          "metadata": {
            "needs_background": "light"
          }
        },
        {
          "output_type": "stream",
          "name": "stdout",
          "text": [
            "\n",
            "\n",
            "Model: \"model_2\"\n",
            "__________________________________________________________________________________________________\n",
            " Layer (type)                   Output Shape         Param #     Connected to                     \n",
            "==================================================================================================\n",
            " enc_tokens (InputLayer)        [(None, None)]       0           []                               \n",
            "                                                                                                  \n",
            " segments (InputLayer)          [(None, None)]       0           []                               \n",
            "                                                                                                  \n",
            " bert (BERT)                    ((None, 128),        1850752     ['enc_tokens[0][0]',             \n",
            "                                 (None, None, 8007)               'segments[0][0]']               \n",
            "                                )                                                                 \n",
            "                                                                                                  \n",
            " pooled_nsp (PooledOutput)      (None, 2)            16768       ['bert[0][0]']                   \n",
            "                                                                                                  \n",
            " nsp (Softmax)                  (None, 2)            0           ['pooled_nsp[0][0]']             \n",
            "                                                                                                  \n",
            " mlm (Softmax)                  (None, None, 8007)   0           ['bert[0][1]']                   \n",
            "                                                                                                  \n",
            "==================================================================================================\n",
            "Total params: 1,867,520\n",
            "Trainable params: 1,867,520\n",
            "Non-trainable params: 0\n",
            "__________________________________________________________________________________________________\n"
          ]
        }
      ]
    },
    {
      "cell_type": "markdown",
      "source": [
        "<br/>"
      ],
      "metadata": {
        "id": "uPh4M1lulLpG"
      }
    },
    {
      "cell_type": "code",
      "source": [
        "# save weights callback\n",
        "model_dir = '/content/drive/MyDrive/lms/bert_pretrain/model'\n",
        "save_weights = tf.keras.callbacks.ModelCheckpoint(f\"{model_dir}/second_bert_pre_train.hdf5\", monitor=\"mlm_lm_acc\",\n",
        "                                                  verbose=0, save_best_only=True, mode=\"max\", save_freq=\"epoch\", save_weights_only=True)\n",
        "# train\n",
        "history = pre_train_model.fit(pre_train_inputs, pre_train_labels, epochs=epochs, batch_size=batch_size, callbacks=[save_weights])"
      ],
      "metadata": {
        "id": "qQQTFNAgF7K8",
        "colab": {
          "base_uri": "https://localhost:8080/"
        },
        "outputId": "3f99723f-e6ef-45a3-8faa-ee17a24a3f9d"
      },
      "execution_count": null,
      "outputs": [
        {
          "output_type": "stream",
          "name": "stdout",
          "text": [
            "Epoch 1/10\n",
            "1000/1000 [==============================] - 120s 118ms/step - loss: 20.7646 - nsp_loss: 0.6589 - mlm_loss: 20.1056 - nsp_acc: 0.5791 - mlm_lm_acc: 0.0571\n",
            "Epoch 2/10\n",
            "1000/1000 [==============================] - 117s 117ms/step - loss: 18.5774 - nsp_loss: 0.6314 - mlm_loss: 17.9460 - nsp_acc: 0.6108 - mlm_lm_acc: 0.1014\n",
            "Epoch 3/10\n",
            "1000/1000 [==============================] - 117s 117ms/step - loss: 17.7050 - nsp_loss: 0.6196 - mlm_loss: 17.0854 - nsp_acc: 0.6303 - mlm_lm_acc: 0.1228\n",
            "Epoch 4/10\n",
            "1000/1000 [==============================] - 117s 117ms/step - loss: 17.2665 - nsp_loss: 0.6103 - mlm_loss: 16.6562 - nsp_acc: 0.6443 - mlm_lm_acc: 0.1301\n",
            "Epoch 5/10\n",
            "1000/1000 [==============================] - 117s 117ms/step - loss: 17.0053 - nsp_loss: 0.6050 - mlm_loss: 16.4003 - nsp_acc: 0.6541 - mlm_lm_acc: 0.1336\n",
            "Epoch 6/10\n",
            "1000/1000 [==============================] - 117s 117ms/step - loss: 16.7980 - nsp_loss: 0.6003 - mlm_loss: 16.1977 - nsp_acc: 0.6624 - mlm_lm_acc: 0.1365\n",
            "Epoch 7/10\n",
            "1000/1000 [==============================] - 117s 117ms/step - loss: 16.6422 - nsp_loss: 0.5973 - mlm_loss: 16.0449 - nsp_acc: 0.6677 - mlm_lm_acc: 0.1386\n",
            "Epoch 8/10\n",
            "1000/1000 [==============================] - 117s 117ms/step - loss: 16.5403 - nsp_loss: 0.5938 - mlm_loss: 15.9466 - nsp_acc: 0.6757 - mlm_lm_acc: 0.1398\n",
            "Epoch 9/10\n",
            "1000/1000 [==============================] - 117s 117ms/step - loss: 16.4836 - nsp_loss: 0.5917 - mlm_loss: 15.8919 - nsp_acc: 0.6790 - mlm_lm_acc: 0.1407\n",
            "Epoch 10/10\n",
            "1000/1000 [==============================] - 117s 117ms/step - loss: 16.4588 - nsp_loss: 0.5896 - mlm_loss: 15.8692 - nsp_acc: 0.6819 - mlm_lm_acc: 0.1411\n"
          ]
        }
      ]
    },
    {
      "cell_type": "markdown",
      "source": [
        "<br/>"
      ],
      "metadata": {
        "id": "jnHB0DUllMQ0"
      }
    },
    {
      "cell_type": "code",
      "source": [
        "second_model_history = {'Loss': history.history['loss'],\n",
        "                        'NSP Loss': history.history['nsp_loss'],\n",
        "                        'MLM Loss': history.history['mlm_loss'],\n",
        "                        'NSP Accuracy': history.history['nsp_acc'],\n",
        "                        'MLM Accuracy': history.history['mlm_lm_acc']}\n",
        "\n",
        "second_model_history_df = pd.DataFrame(second_model_history)\n",
        "second_model_history_df = second_model_history_df.round(4)\n",
        "second_model_history_df['Epoch'] = second_model_history_df.reset_index().index + 1\n",
        "second_model_history_df = second_model_history_df[['Epoch', 'Loss', 'NSP Loss', 'MLM Loss', 'NSP Accuracy', 'MLM Accuracy']]\n",
        "second_model_history_df.to_csv(\"/content/drive/MyDrive/lms/bert_pretrain/second_model_history.csv\", index = False)\n",
        "display(second_model_history_df)\n",
        "print(\"\\n\")\n",
        "\n",
        "plt.figure(figsize=(18, 4))\n",
        "\n",
        "plt.subplot(1, 3, 1)\n",
        "plt.plot(history.history['loss'], label='Loss')\n",
        "plt.title(\"Loss\")\n",
        "plt.xlabel('Epoch')\n",
        "plt.legend()\n",
        "\n",
        "plt.subplot(1, 3, 2)\n",
        "plt.plot(history.history['nsp_loss'], 'b-', label='NSP Loss')\n",
        "plt.plot(history.history['mlm_loss'], 'r--', label='MLM Loss')\n",
        "plt.title(\"Loss\")\n",
        "plt.xlabel('Epoch')\n",
        "plt.legend()\n",
        "\n",
        "plt.subplot(1, 3, 3)\n",
        "plt.plot(history.history['nsp_acc'], 'g-', label='NSP Accuracy')\n",
        "plt.plot(history.history['mlm_lm_acc'], 'k--', label='MLM Accuracy')\n",
        "plt.title(\"Accuracy\")\n",
        "plt.xlabel('Epoch')\n",
        "plt.legend()\n",
        "\n",
        "plt.show()"
      ],
      "metadata": {
        "id": "J6qNVjK4F7NW",
        "colab": {
          "base_uri": "https://localhost:8080/",
          "height": 678
        },
        "outputId": "be1c47d7-b451-4246-f19b-42953720a695"
      },
      "execution_count": null,
      "outputs": [
        {
          "output_type": "display_data",
          "data": {
            "text/plain": [
              "   Epoch     Loss  NSP Loss  MLM Loss  NSP Accuracy  MLM Accuracy\n",
              "0      1  20.7646    0.6589   20.1056        0.5791        0.0571\n",
              "1      2  18.5774    0.6314   17.9460        0.6108        0.1014\n",
              "2      3  17.7050    0.6196   17.0854        0.6303        0.1228\n",
              "3      4  17.2665    0.6103   16.6562        0.6443        0.1301\n",
              "4      5  17.0053    0.6050   16.4003        0.6541        0.1336\n",
              "5      6  16.7980    0.6003   16.1977        0.6624        0.1365\n",
              "6      7  16.6422    0.5973   16.0449        0.6677        0.1386\n",
              "7      8  16.5403    0.5938   15.9466        0.6757        0.1398\n",
              "8      9  16.4836    0.5917   15.8919        0.6790        0.1407\n",
              "9     10  16.4588    0.5896   15.8692        0.6819        0.1411"
            ],
            "text/html": [
              "\n",
              "  <div id=\"df-76d1e669-7528-419c-ab91-940728923f10\">\n",
              "    <div class=\"colab-df-container\">\n",
              "      <div>\n",
              "<style scoped>\n",
              "    .dataframe tbody tr th:only-of-type {\n",
              "        vertical-align: middle;\n",
              "    }\n",
              "\n",
              "    .dataframe tbody tr th {\n",
              "        vertical-align: top;\n",
              "    }\n",
              "\n",
              "    .dataframe thead th {\n",
              "        text-align: right;\n",
              "    }\n",
              "</style>\n",
              "<table border=\"1\" class=\"dataframe\">\n",
              "  <thead>\n",
              "    <tr style=\"text-align: right;\">\n",
              "      <th></th>\n",
              "      <th>Epoch</th>\n",
              "      <th>Loss</th>\n",
              "      <th>NSP Loss</th>\n",
              "      <th>MLM Loss</th>\n",
              "      <th>NSP Accuracy</th>\n",
              "      <th>MLM Accuracy</th>\n",
              "    </tr>\n",
              "  </thead>\n",
              "  <tbody>\n",
              "    <tr>\n",
              "      <th>0</th>\n",
              "      <td>1</td>\n",
              "      <td>20.7646</td>\n",
              "      <td>0.6589</td>\n",
              "      <td>20.1056</td>\n",
              "      <td>0.5791</td>\n",
              "      <td>0.0571</td>\n",
              "    </tr>\n",
              "    <tr>\n",
              "      <th>1</th>\n",
              "      <td>2</td>\n",
              "      <td>18.5774</td>\n",
              "      <td>0.6314</td>\n",
              "      <td>17.9460</td>\n",
              "      <td>0.6108</td>\n",
              "      <td>0.1014</td>\n",
              "    </tr>\n",
              "    <tr>\n",
              "      <th>2</th>\n",
              "      <td>3</td>\n",
              "      <td>17.7050</td>\n",
              "      <td>0.6196</td>\n",
              "      <td>17.0854</td>\n",
              "      <td>0.6303</td>\n",
              "      <td>0.1228</td>\n",
              "    </tr>\n",
              "    <tr>\n",
              "      <th>3</th>\n",
              "      <td>4</td>\n",
              "      <td>17.2665</td>\n",
              "      <td>0.6103</td>\n",
              "      <td>16.6562</td>\n",
              "      <td>0.6443</td>\n",
              "      <td>0.1301</td>\n",
              "    </tr>\n",
              "    <tr>\n",
              "      <th>4</th>\n",
              "      <td>5</td>\n",
              "      <td>17.0053</td>\n",
              "      <td>0.6050</td>\n",
              "      <td>16.4003</td>\n",
              "      <td>0.6541</td>\n",
              "      <td>0.1336</td>\n",
              "    </tr>\n",
              "    <tr>\n",
              "      <th>5</th>\n",
              "      <td>6</td>\n",
              "      <td>16.7980</td>\n",
              "      <td>0.6003</td>\n",
              "      <td>16.1977</td>\n",
              "      <td>0.6624</td>\n",
              "      <td>0.1365</td>\n",
              "    </tr>\n",
              "    <tr>\n",
              "      <th>6</th>\n",
              "      <td>7</td>\n",
              "      <td>16.6422</td>\n",
              "      <td>0.5973</td>\n",
              "      <td>16.0449</td>\n",
              "      <td>0.6677</td>\n",
              "      <td>0.1386</td>\n",
              "    </tr>\n",
              "    <tr>\n",
              "      <th>7</th>\n",
              "      <td>8</td>\n",
              "      <td>16.5403</td>\n",
              "      <td>0.5938</td>\n",
              "      <td>15.9466</td>\n",
              "      <td>0.6757</td>\n",
              "      <td>0.1398</td>\n",
              "    </tr>\n",
              "    <tr>\n",
              "      <th>8</th>\n",
              "      <td>9</td>\n",
              "      <td>16.4836</td>\n",
              "      <td>0.5917</td>\n",
              "      <td>15.8919</td>\n",
              "      <td>0.6790</td>\n",
              "      <td>0.1407</td>\n",
              "    </tr>\n",
              "    <tr>\n",
              "      <th>9</th>\n",
              "      <td>10</td>\n",
              "      <td>16.4588</td>\n",
              "      <td>0.5896</td>\n",
              "      <td>15.8692</td>\n",
              "      <td>0.6819</td>\n",
              "      <td>0.1411</td>\n",
              "    </tr>\n",
              "  </tbody>\n",
              "</table>\n",
              "</div>\n",
              "      <button class=\"colab-df-convert\" onclick=\"convertToInteractive('df-76d1e669-7528-419c-ab91-940728923f10')\"\n",
              "              title=\"Convert this dataframe to an interactive table.\"\n",
              "              style=\"display:none;\">\n",
              "        \n",
              "  <svg xmlns=\"http://www.w3.org/2000/svg\" height=\"24px\"viewBox=\"0 0 24 24\"\n",
              "       width=\"24px\">\n",
              "    <path d=\"M0 0h24v24H0V0z\" fill=\"none\"/>\n",
              "    <path d=\"M18.56 5.44l.94 2.06.94-2.06 2.06-.94-2.06-.94-.94-2.06-.94 2.06-2.06.94zm-11 1L8.5 8.5l.94-2.06 2.06-.94-2.06-.94L8.5 2.5l-.94 2.06-2.06.94zm10 10l.94 2.06.94-2.06 2.06-.94-2.06-.94-.94-2.06-.94 2.06-2.06.94z\"/><path d=\"M17.41 7.96l-1.37-1.37c-.4-.4-.92-.59-1.43-.59-.52 0-1.04.2-1.43.59L10.3 9.45l-7.72 7.72c-.78.78-.78 2.05 0 2.83L4 21.41c.39.39.9.59 1.41.59.51 0 1.02-.2 1.41-.59l7.78-7.78 2.81-2.81c.8-.78.8-2.07 0-2.86zM5.41 20L4 18.59l7.72-7.72 1.47 1.35L5.41 20z\"/>\n",
              "  </svg>\n",
              "      </button>\n",
              "      \n",
              "  <style>\n",
              "    .colab-df-container {\n",
              "      display:flex;\n",
              "      flex-wrap:wrap;\n",
              "      gap: 12px;\n",
              "    }\n",
              "\n",
              "    .colab-df-convert {\n",
              "      background-color: #E8F0FE;\n",
              "      border: none;\n",
              "      border-radius: 50%;\n",
              "      cursor: pointer;\n",
              "      display: none;\n",
              "      fill: #1967D2;\n",
              "      height: 32px;\n",
              "      padding: 0 0 0 0;\n",
              "      width: 32px;\n",
              "    }\n",
              "\n",
              "    .colab-df-convert:hover {\n",
              "      background-color: #E2EBFA;\n",
              "      box-shadow: 0px 1px 2px rgba(60, 64, 67, 0.3), 0px 1px 3px 1px rgba(60, 64, 67, 0.15);\n",
              "      fill: #174EA6;\n",
              "    }\n",
              "\n",
              "    [theme=dark] .colab-df-convert {\n",
              "      background-color: #3B4455;\n",
              "      fill: #D2E3FC;\n",
              "    }\n",
              "\n",
              "    [theme=dark] .colab-df-convert:hover {\n",
              "      background-color: #434B5C;\n",
              "      box-shadow: 0px 1px 3px 1px rgba(0, 0, 0, 0.15);\n",
              "      filter: drop-shadow(0px 1px 2px rgba(0, 0, 0, 0.3));\n",
              "      fill: #FFFFFF;\n",
              "    }\n",
              "  </style>\n",
              "\n",
              "      <script>\n",
              "        const buttonEl =\n",
              "          document.querySelector('#df-76d1e669-7528-419c-ab91-940728923f10 button.colab-df-convert');\n",
              "        buttonEl.style.display =\n",
              "          google.colab.kernel.accessAllowed ? 'block' : 'none';\n",
              "\n",
              "        async function convertToInteractive(key) {\n",
              "          const element = document.querySelector('#df-76d1e669-7528-419c-ab91-940728923f10');\n",
              "          const dataTable =\n",
              "            await google.colab.kernel.invokeFunction('convertToInteractive',\n",
              "                                                     [key], {});\n",
              "          if (!dataTable) return;\n",
              "\n",
              "          const docLinkHtml = 'Like what you see? Visit the ' +\n",
              "            '<a target=\"_blank\" href=https://colab.research.google.com/notebooks/data_table.ipynb>data table notebook</a>'\n",
              "            + ' to learn more about interactive tables.';\n",
              "          element.innerHTML = '';\n",
              "          dataTable['output_type'] = 'display_data';\n",
              "          await google.colab.output.renderOutput(dataTable, element);\n",
              "          const docLink = document.createElement('div');\n",
              "          docLink.innerHTML = docLinkHtml;\n",
              "          element.appendChild(docLink);\n",
              "        }\n",
              "      </script>\n",
              "    </div>\n",
              "  </div>\n",
              "  "
            ]
          },
          "metadata": {}
        },
        {
          "output_type": "stream",
          "name": "stdout",
          "text": [
            "\n",
            "\n"
          ]
        },
        {
          "output_type": "display_data",
          "data": {
            "text/plain": [
              "<Figure size 1296x288 with 3 Axes>"
            ],
            "image/png": "[encoded data removed]"
          },
          "metadata": {
            "needs_background": "light"
          }
        }
      ]
    },
    {
      "cell_type": "markdown",
      "source": [
        "학습 과정에서 MLM Loss, NSP Loss가 안정적으로 감소한다."
      ],
      "metadata": {
        "id": "5JU8Vsn9MHZ8"
      }
    },
    {
      "cell_type": "markdown",
      "source": [
        ""
      ],
      "metadata": {
        "id": "4R-5-dqDoEpc"
      }
    },
    {
      "cell_type": "markdown",
      "source": [
        "#Third Model"
      ],
      "metadata": {
        "id": "ZBByqD5fuhjw"
      }
    },
    {
      "cell_type": "code",
      "source": [
        "config_3 = Config({\"d_model\": 64,\n",
        "                   \"n_head\": 4,\n",
        "                   \"d_head\": 64,\n",
        "                   \"dropout\": 0.1,\n",
        "                   \"d_ff\": 256,\n",
        "                   \"layernorm_epsilon\": 0.001,\n",
        "                   \"n_layer\": 3,\n",
        "                   \"n_seq\": 256,\n",
        "                   \"n_vocab\": 0,\n",
        "                   \"i_pad\": 0})\n",
        "\n",
        "config_3.n_vocab = len(vocab)\n",
        "config_3.i_pad = vocab.pad_id()\n",
        "config_3"
      ],
      "metadata": {
        "colab": {
          "base_uri": "https://localhost:8080/"
        },
        "id": "52QypCjIujYA",
        "outputId": "4f96e6bd-3b65-46ac-c9a2-63a643b8a8be"
      },
      "execution_count": null,
      "outputs": [
        {
          "output_type": "execute_result",
          "data": {
            "text/plain": [
              "{'d_ff': 256,\n",
              " 'd_head': 64,\n",
              " 'd_model': 64,\n",
              " 'dropout': 0.1,\n",
              " 'i_pad': 0,\n",
              " 'layernorm_epsilon': 0.001,\n",
              " 'n_head': 4,\n",
              " 'n_layer': 3,\n",
              " 'n_seq': 256,\n",
              " 'n_vocab': 8007}"
            ]
          },
          "metadata": {},
          "execution_count": 65
        }
      ]
    },
    {
      "cell_type": "markdown",
      "source": [
        "<br/>"
      ],
      "metadata": {
        "id": "BkBApyGcpi56"
      }
    },
    {
      "cell_type": "code",
      "source": [
        "epochs = 10\n",
        "batch_size = 128\n",
        "\n",
        "# optimizer\n",
        "train_steps = math.ceil(len(pre_train_inputs[0]) / batch_size) * epochs\n",
        "learning_rate = CosineSchedule(train_steps=train_steps, warmup_steps=max(100, train_steps // 10))\n",
        "lrs = []\n",
        "for step_num in range(train_steps):\n",
        "    lrs.append(learning_rate(float(step_num)).numpy())\n",
        "\n",
        "# draw\n",
        "plt.plot(lrs, 'r-', label='learning_rate')\n",
        "plt.title(\"Learning Rate Schedule\")\n",
        "plt.xlabel('Step')\n",
        "plt.ylabel('Learning Rate')\n",
        "plt.show()\n",
        "print(\"\\n\")\n",
        "\n",
        "optimizer = tf.keras.optimizers.Adam(learning_rate, beta_1=0.9, beta_2=0.98, epsilon=1e-9)\n",
        "\n",
        "# compile\n",
        "pre_train_model = build_model_pre_train(config_3)\n",
        "pre_train_model.compile(loss=(tf.keras.losses.sparse_categorical_crossentropy, lm_loss),\n",
        "                        optimizer=optimizer, metrics={\"nsp\": \"acc\", \"mlm\": lm_acc})\n",
        "pre_train_model.summary()"
      ],
      "metadata": {
        "colab": {
          "base_uri": "https://localhost:8080/",
          "height": 754
        },
        "id": "LbPN7QlJujay",
        "outputId": "fb9b5a27-84b6-4bcc-d210-68903ac728e4"
      },
      "execution_count": null,
      "outputs": [
        {
          "output_type": "display_data",
          "data": {
            "text/plain": [
              "<Figure size 432x288 with 1 Axes>"
            ],
            "image/png": "[encoded data removed]"
          },
          "metadata": {
            "needs_background": "light"
          }
        },
        {
          "output_type": "stream",
          "name": "stdout",
          "text": [
            "\n",
            "\n",
            "Model: \"model_3\"\n",
            "__________________________________________________________________________________________________\n",
            " Layer (type)                   Output Shape         Param #     Connected to                     \n",
            "==================================================================================================\n",
            " enc_tokens (InputLayer)        [(None, None)]       0           []                               \n",
            "                                                                                                  \n",
            " segments (InputLayer)          [(None, None)]       0           []                               \n",
            "                                                                                                  \n",
            " bert (BERT)                    ((None, 64),         828224      ['enc_tokens[0][0]',             \n",
            "                                 (None, None, 8007)               'segments[0][0]']               \n",
            "                                )                                                                 \n",
            "                                                                                                  \n",
            " pooled_nsp (PooledOutput)      (None, 2)            4288        ['bert[0][0]']                   \n",
            "                                                                                                  \n",
            " nsp (Softmax)                  (None, 2)            0           ['pooled_nsp[0][0]']             \n",
            "                                                                                                  \n",
            " mlm (Softmax)                  (None, None, 8007)   0           ['bert[0][1]']                   \n",
            "                                                                                                  \n",
            "==================================================================================================\n",
            "Total params: 832,512\n",
            "Trainable params: 832,512\n",
            "Non-trainable params: 0\n",
            "__________________________________________________________________________________________________\n"
          ]
        }
      ]
    },
    {
      "cell_type": "markdown",
      "source": [
        "<br/>"
      ],
      "metadata": {
        "id": "05_WNQDflN9U"
      }
    },
    {
      "cell_type": "code",
      "source": [
        "# save weights callback\n",
        "model_dir = '/content/drive/MyDrive/lms/bert_pretrain/model'\n",
        "save_weights = tf.keras.callbacks.ModelCheckpoint(f\"{model_dir}/third_bert_pre_train.hdf5\", monitor=\"mlm_lm_acc\",\n",
        "                                                  verbose=0, save_best_only=True, mode=\"max\", save_freq=\"epoch\", save_weights_only=True)\n",
        "# train\n",
        "history = pre_train_model.fit(pre_train_inputs, pre_train_labels, epochs=epochs, batch_size=batch_size, callbacks=[save_weights])"
      ],
      "metadata": {
        "id": "VpVEPk_Dujcy",
        "colab": {
          "base_uri": "https://localhost:8080/"
        },
        "outputId": "969c4f21-184d-4606-a993-0b2a21383fe8"
      },
      "execution_count": null,
      "outputs": [
        {
          "output_type": "stream",
          "name": "stdout",
          "text": [
            "Epoch 1/10\n",
            "1000/1000 [==============================] - 94s 91ms/step - loss: 21.4481 - nsp_loss: 0.6774 - mlm_loss: 20.7707 - nsp_acc: 0.5437 - mlm_lm_acc: 0.0370\n",
            "Epoch 2/10\n",
            "1000/1000 [==============================] - 91s 91ms/step - loss: 19.3892 - nsp_loss: 0.6363 - mlm_loss: 18.7529 - nsp_acc: 0.6117 - mlm_lm_acc: 0.0488\n",
            "Epoch 3/10\n",
            "1000/1000 [==============================] - 91s 91ms/step - loss: 18.6509 - nsp_loss: 0.6261 - mlm_loss: 18.0248 - nsp_acc: 0.6294 - mlm_lm_acc: 0.0882\n",
            "Epoch 4/10\n",
            "1000/1000 [==============================] - 91s 91ms/step - loss: 18.1235 - nsp_loss: 0.6196 - mlm_loss: 17.5038 - nsp_acc: 0.6397 - mlm_lm_acc: 0.1046\n",
            "Epoch 5/10\n",
            "1000/1000 [==============================] - 91s 91ms/step - loss: 17.8164 - nsp_loss: 0.6150 - mlm_loss: 17.2014 - nsp_acc: 0.6477 - mlm_lm_acc: 0.1132\n",
            "Epoch 6/10\n",
            "1000/1000 [==============================] - 91s 91ms/step - loss: 17.6165 - nsp_loss: 0.6107 - mlm_loss: 17.0058 - nsp_acc: 0.6549 - mlm_lm_acc: 0.1183\n",
            "Epoch 7/10\n",
            "1000/1000 [==============================] - 92s 92ms/step - loss: 17.4909 - nsp_loss: 0.6058 - mlm_loss: 16.8851 - nsp_acc: 0.6631 - mlm_lm_acc: 0.1213\n",
            "Epoch 8/10\n",
            "1000/1000 [==============================] - 92s 92ms/step - loss: 17.4165 - nsp_loss: 0.6022 - mlm_loss: 16.8142 - nsp_acc: 0.6687 - mlm_lm_acc: 0.1229\n",
            "Epoch 9/10\n",
            "1000/1000 [==============================] - 92s 92ms/step - loss: 17.3765 - nsp_loss: 0.5994 - mlm_loss: 16.7772 - nsp_acc: 0.6736 - mlm_lm_acc: 0.1236\n",
            "Epoch 10/10\n",
            "1000/1000 [==============================] - 92s 92ms/step - loss: 17.3629 - nsp_loss: 0.5987 - mlm_loss: 16.7642 - nsp_acc: 0.6741 - mlm_lm_acc: 0.1239\n"
          ]
        }
      ]
    },
    {
      "cell_type": "markdown",
      "source": [
        "<br/>"
      ],
      "metadata": {
        "id": "Sajbms5MlOhN"
      }
    },
    {
      "cell_type": "code",
      "source": [
        "third_model_history = {'Loss': history.history['loss'],\n",
        "                       'NSP Loss': history.history['nsp_loss'],\n",
        "                       'MLM Loss': history.history['mlm_loss'],\n",
        "                       'NSP Accuracy': history.history['nsp_acc'],\n",
        "                       'MLM Accuracy': history.history['mlm_lm_acc']}\n",
        "                       \n",
        "third_model_history_df = pd.DataFrame(third_model_history)\n",
        "third_model_history_df = third_model_history_df.round(4)\n",
        "third_model_history_df['Epoch'] = third_model_history_df.reset_index().index + 1\n",
        "third_model_history_df = third_model_history_df[['Epoch', 'Loss', 'NSP Loss', 'MLM Loss', 'NSP Accuracy', 'MLM Accuracy']]\n",
        "third_model_history_df.to_csv(\"/content/drive/MyDrive/lms/bert_pretrain/third_model_history.csv\", index = False)\n",
        "display(third_model_history_df)\n",
        "print(\"\\n\")\n",
        "\n",
        "plt.figure(figsize=(18, 4))\n",
        "\n",
        "plt.subplot(1, 3, 1)\n",
        "plt.plot(history.history['loss'], label='Loss')\n",
        "plt.title(\"Loss\")\n",
        "plt.xlabel('Epoch')\n",
        "plt.legend()\n",
        "\n",
        "plt.subplot(1, 3, 2)\n",
        "plt.plot(history.history['nsp_loss'], 'b-', label='NSP Loss')\n",
        "plt.plot(history.history['mlm_loss'], 'r--', label='MLM Loss')\n",
        "plt.title(\"Loss\")\n",
        "plt.xlabel('Epoch')\n",
        "plt.legend()\n",
        "\n",
        "plt.subplot(1, 3, 3)\n",
        "plt.plot(history.history['nsp_acc'], 'g-', label='NSP Accuracy')\n",
        "plt.plot(history.history['mlm_lm_acc'], 'k--', label='MLM Accuracy')\n",
        "plt.title(\"Accuracy\")\n",
        "plt.xlabel('Epoch')\n",
        "plt.legend()\n",
        "\n",
        "plt.show()"
      ],
      "metadata": {
        "id": "ScF6lkKhujfk",
        "colab": {
          "base_uri": "https://localhost:8080/",
          "height": 678
        },
        "outputId": "9487f70f-64d0-49cf-a608-c0f9d9e5a179"
      },
      "execution_count": null,
      "outputs": [
        {
          "output_type": "display_data",
          "data": {
            "text/plain": [
              "   Epoch     Loss  NSP Loss  MLM Loss  NSP Accuracy  MLM Accuracy\n",
              "0      1  21.4481    0.6774   20.7707        0.5437        0.0370\n",
              "1      2  19.3892    0.6363   18.7529        0.6117        0.0488\n",
              "2      3  18.6509    0.6261   18.0248        0.6294        0.0882\n",
              "3      4  18.1235    0.6196   17.5038        0.6397        0.1046\n",
              "4      5  17.8164    0.6150   17.2014        0.6477        0.1132\n",
              "5      6  17.6165    0.6107   17.0058        0.6549        0.1183\n",
              "6      7  17.4909    0.6058   16.8851        0.6631        0.1213\n",
              "7      8  17.4165    0.6022   16.8142        0.6687        0.1229\n",
              "8      9  17.3765    0.5994   16.7772        0.6736        0.1236\n",
              "9     10  17.3629    0.5987   16.7642        0.6741        0.1239"
            ],
            "text/html": [
              "\n",
              "  <div id=\"df-6bab13d7-d426-44df-8a8e-95d6ffe3ee3d\">\n",
              "    <div class=\"colab-df-container\">\n",
              "      <div>\n",
              "<style scoped>\n",
              "    .dataframe tbody tr th:only-of-type {\n",
              "        vertical-align: middle;\n",
              "    }\n",
              "\n",
              "    .dataframe tbody tr th {\n",
              "        vertical-align: top;\n",
              "    }\n",
              "\n",
              "    .dataframe thead th {\n",
              "        text-align: right;\n",
              "    }\n",
              "</style>\n",
              "<table border=\"1\" class=\"dataframe\">\n",
              "  <thead>\n",
              "    <tr style=\"text-align: right;\">\n",
              "      <th></th>\n",
              "      <th>Epoch</th>\n",
              "      <th>Loss</th>\n",
              "      <th>NSP Loss</th>\n",
              "      <th>MLM Loss</th>\n",
              "      <th>NSP Accuracy</th>\n",
              "      <th>MLM Accuracy</th>\n",
              "    </tr>\n",
              "  </thead>\n",
              "  <tbody>\n",
              "    <tr>\n",
              "      <th>0</th>\n",
              "      <td>1</td>\n",
              "      <td>21.4481</td>\n",
              "      <td>0.6774</td>\n",
              "      <td>20.7707</td>\n",
              "      <td>0.5437</td>\n",
              "      <td>0.0370</td>\n",
              "    </tr>\n",
              "    <tr>\n",
              "      <th>1</th>\n",
              "      <td>2</td>\n",
              "      <td>19.3892</td>\n",
              "      <td>0.6363</td>\n",
              "      <td>18.7529</td>\n",
              "      <td>0.6117</td>\n",
              "      <td>0.0488</td>\n",
              "    </tr>\n",
              "    <tr>\n",
              "      <th>2</th>\n",
              "      <td>3</td>\n",
              "      <td>18.6509</td>\n",
              "      <td>0.6261</td>\n",
              "      <td>18.0248</td>\n",
              "      <td>0.6294</td>\n",
              "      <td>0.0882</td>\n",
              "    </tr>\n",
              "    <tr>\n",
              "      <th>3</th>\n",
              "      <td>4</td>\n",
              "      <td>18.1235</td>\n",
              "      <td>0.6196</td>\n",
              "      <td>17.5038</td>\n",
              "      <td>0.6397</td>\n",
              "      <td>0.1046</td>\n",
              "    </tr>\n",
              "    <tr>\n",
              "      <th>4</th>\n",
              "      <td>5</td>\n",
              "      <td>17.8164</td>\n",
              "      <td>0.6150</td>\n",
              "      <td>17.2014</td>\n",
              "      <td>0.6477</td>\n",
              "      <td>0.1132</td>\n",
              "    </tr>\n",
              "    <tr>\n",
              "      <th>5</th>\n",
              "      <td>6</td>\n",
              "      <td>17.6165</td>\n",
              "      <td>0.6107</td>\n",
              "      <td>17.0058</td>\n",
              "      <td>0.6549</td>\n",
              "      <td>0.1183</td>\n",
              "    </tr>\n",
              "    <tr>\n",
              "      <th>6</th>\n",
              "      <td>7</td>\n",
              "      <td>17.4909</td>\n",
              "      <td>0.6058</td>\n",
              "      <td>16.8851</td>\n",
              "      <td>0.6631</td>\n",
              "      <td>0.1213</td>\n",
              "    </tr>\n",
              "    <tr>\n",
              "      <th>7</th>\n",
              "      <td>8</td>\n",
              "      <td>17.4165</td>\n",
              "      <td>0.6022</td>\n",
              "      <td>16.8142</td>\n",
              "      <td>0.6687</td>\n",
              "      <td>0.1229</td>\n",
              "    </tr>\n",
              "    <tr>\n",
              "      <th>8</th>\n",
              "      <td>9</td>\n",
              "      <td>17.3765</td>\n",
              "      <td>0.5994</td>\n",
              "      <td>16.7772</td>\n",
              "      <td>0.6736</td>\n",
              "      <td>0.1236</td>\n",
              "    </tr>\n",
              "    <tr>\n",
              "      <th>9</th>\n",
              "      <td>10</td>\n",
              "      <td>17.3629</td>\n",
              "      <td>0.5987</td>\n",
              "      <td>16.7642</td>\n",
              "      <td>0.6741</td>\n",
              "      <td>0.1239</td>\n",
              "    </tr>\n",
              "  </tbody>\n",
              "</table>\n",
              "</div>\n",
              "      <button class=\"colab-df-convert\" onclick=\"convertToInteractive('df-6bab13d7-d426-44df-8a8e-95d6ffe3ee3d')\"\n",
              "              title=\"Convert this dataframe to an interactive table.\"\n",
              "              style=\"display:none;\">\n",
              "        \n",
              "  <svg xmlns=\"http://www.w3.org/2000/svg\" height=\"24px\"viewBox=\"0 0 24 24\"\n",
              "       width=\"24px\">\n",
              "    <path d=\"M0 0h24v24H0V0z\" fill=\"none\"/>\n",
              "    <path d=\"M18.56 5.44l.94 2.06.94-2.06 2.06-.94-2.06-.94-.94-2.06-.94 2.06-2.06.94zm-11 1L8.5 8.5l.94-2.06 2.06-.94-2.06-.94L8.5 2.5l-.94 2.06-2.06.94zm10 10l.94 2.06.94-2.06 2.06-.94-2.06-.94-.94-2.06-.94 2.06-2.06.94z\"/><path d=\"M17.41 7.96l-1.37-1.37c-.4-.4-.92-.59-1.43-.59-.52 0-1.04.2-1.43.59L10.3 9.45l-7.72 7.72c-.78.78-.78 2.05 0 2.83L4 21.41c.39.39.9.59 1.41.59.51 0 1.02-.2 1.41-.59l7.78-7.78 2.81-2.81c.8-.78.8-2.07 0-2.86zM5.41 20L4 18.59l7.72-7.72 1.47 1.35L5.41 20z\"/>\n",
              "  </svg>\n",
              "      </button>\n",
              "      \n",
              "  <style>\n",
              "    .colab-df-container {\n",
              "      display:flex;\n",
              "      flex-wrap:wrap;\n",
              "      gap: 12px;\n",
              "    }\n",
              "\n",
              "    .colab-df-convert {\n",
              "      background-color: #E8F0FE;\n",
              "      border: none;\n",
              "      border-radius: 50%;\n",
              "      cursor: pointer;\n",
              "      display: none;\n",
              "      fill: #1967D2;\n",
              "      height: 32px;\n",
              "      padding: 0 0 0 0;\n",
              "      width: 32px;\n",
              "    }\n",
              "\n",
              "    .colab-df-convert:hover {\n",
              "      background-color: #E2EBFA;\n",
              "      box-shadow: 0px 1px 2px rgba(60, 64, 67, 0.3), 0px 1px 3px 1px rgba(60, 64, 67, 0.15);\n",
              "      fill: #174EA6;\n",
              "    }\n",
              "\n",
              "    [theme=dark] .colab-df-convert {\n",
              "      background-color: #3B4455;\n",
              "      fill: #D2E3FC;\n",
              "    }\n",
              "\n",
              "    [theme=dark] .colab-df-convert:hover {\n",
              "      background-color: #434B5C;\n",
              "      box-shadow: 0px 1px 3px 1px rgba(0, 0, 0, 0.15);\n",
              "      filter: drop-shadow(0px 1px 2px rgba(0, 0, 0, 0.3));\n",
              "      fill: #FFFFFF;\n",
              "    }\n",
              "  </style>\n",
              "\n",
              "      <script>\n",
              "        const buttonEl =\n",
              "          document.querySelector('#df-6bab13d7-d426-44df-8a8e-95d6ffe3ee3d button.colab-df-convert');\n",
              "        buttonEl.style.display =\n",
              "          google.colab.kernel.accessAllowed ? 'block' : 'none';\n",
              "\n",
              "        async function convertToInteractive(key) {\n",
              "          const element = document.querySelector('#df-6bab13d7-d426-44df-8a8e-95d6ffe3ee3d');\n",
              "          const dataTable =\n",
              "            await google.colab.kernel.invokeFunction('convertToInteractive',\n",
              "                                                     [key], {});\n",
              "          if (!dataTable) return;\n",
              "\n",
              "          const docLinkHtml = 'Like what you see? Visit the ' +\n",
              "            '<a target=\"_blank\" href=https://colab.research.google.com/notebooks/data_table.ipynb>data table notebook</a>'\n",
              "            + ' to learn more about interactive tables.';\n",
              "          element.innerHTML = '';\n",
              "          dataTable['output_type'] = 'display_data';\n",
              "          await google.colab.output.renderOutput(dataTable, element);\n",
              "          const docLink = document.createElement('div');\n",
              "          docLink.innerHTML = docLinkHtml;\n",
              "          element.appendChild(docLink);\n",
              "        }\n",
              "      </script>\n",
              "    </div>\n",
              "  </div>\n",
              "  "
            ]
          },
          "metadata": {}
        },
        {
          "output_type": "stream",
          "name": "stdout",
          "text": [
            "\n",
            "\n"
          ]
        },
        {
          "output_type": "display_data",
          "data": {
            "text/plain": [
              "<Figure size 1296x288 with 3 Axes>"
            ],
            "image/png": "[encoded data removed]"
          },
          "metadata": {
            "needs_background": "light"
          }
        }
      ]
    },
    {
      "cell_type": "markdown",
      "source": [
        ""
      ],
      "metadata": {
        "id": "Qt99GmXioG7s"
      }
    },
    {
      "cell_type": "markdown",
      "source": [
        "#Model Selection"
      ],
      "metadata": {
        "id": "u7uc_z_ED1wA"
      }
    },
    {
      "cell_type": "code",
      "source": [
        "first_df = pd.read_csv(\"/content/drive/MyDrive/lms/bert_pretrain/first_model_history.csv\")\n",
        "second_df = pd.read_csv(\"/content/drive/MyDrive/lms/bert_pretrain/second_model_history.csv\")\n",
        "third_df = pd.read_csv(\"/content/drive/MyDrive/lms/bert_pretrain/third_model_history.csv\")\n",
        "\n",
        "hyperparameter_tuning_result = pd.DataFrame({'Total Parameter':[4551936, 1867520,\t832512],\n",
        "                             'Epoch':[10, 10, 10],\n",
        "                             'NSP Accuracy':[first_df.iloc[-1]['NSP Accuracy'], second_df.iloc[-1]['NSP Accuracy'], third_df.iloc[-1]['NSP Accuracy']],\n",
        "                             'MLM Accuracy':[first_df.iloc[-1]['MLM Accuracy'], second_df.iloc[-1]['MLM Accuracy'], third_df.iloc[-1]['MLM Accuracy']]},\n",
        "                             index=['Model 1', 'Model 2', 'Model 3'])\n",
        "\n",
        "hyperparameter_tuning_result"
      ],
      "metadata": {
        "colab": {
          "base_uri": "https://localhost:8080/",
          "height": 143
        },
        "id": "a1dxZKueD2OA",
        "outputId": "5913a162-ac92-4c86-c7e5-8954fa957638"
      },
      "execution_count": null,
      "outputs": [
        {
          "output_type": "execute_result",
          "data": {
            "text/plain": [
              "         Total Parameter  Epoch  NSP Accuracy  MLM Accuracy\n",
              "Model 1          4551936     10        0.6897        0.2095\n",
              "Model 2          1867520     10        0.6819        0.1411\n",
              "Model 3           832512     10        0.6741        0.1239"
            ],
            "text/html": [
              "\n",
              "  <div id=\"df-b2f94afb-21df-4f98-a89e-0a7d97702720\">\n",
              "    <div class=\"colab-df-container\">\n",
              "      <div>\n",
              "<style scoped>\n",
              "    .dataframe tbody tr th:only-of-type {\n",
              "        vertical-align: middle;\n",
              "    }\n",
              "\n",
              "    .dataframe tbody tr th {\n",
              "        vertical-align: top;\n",
              "    }\n",
              "\n",
              "    .dataframe thead th {\n",
              "        text-align: right;\n",
              "    }\n",
              "</style>\n",
              "<table border=\"1\" class=\"dataframe\">\n",
              "  <thead>\n",
              "    <tr style=\"text-align: right;\">\n",
              "      <th></th>\n",
              "      <th>Total Parameter</th>\n",
              "      <th>Epoch</th>\n",
              "      <th>NSP Accuracy</th>\n",
              "      <th>MLM Accuracy</th>\n",
              "    </tr>\n",
              "  </thead>\n",
              "  <tbody>\n",
              "    <tr>\n",
              "      <th>Model 1</th>\n",
              "      <td>4551936</td>\n",
              "      <td>10</td>\n",
              "      <td>0.6897</td>\n",
              "      <td>0.2095</td>\n",
              "    </tr>\n",
              "    <tr>\n",
              "      <th>Model 2</th>\n",
              "      <td>1867520</td>\n",
              "      <td>10</td>\n",
              "      <td>0.6819</td>\n",
              "      <td>0.1411</td>\n",
              "    </tr>\n",
              "    <tr>\n",
              "      <th>Model 3</th>\n",
              "      <td>832512</td>\n",
              "      <td>10</td>\n",
              "      <td>0.6741</td>\n",
              "      <td>0.1239</td>\n",
              "    </tr>\n",
              "  </tbody>\n",
              "</table>\n",
              "</div>\n",
              "      <button class=\"colab-df-convert\" onclick=\"convertToInteractive('df-b2f94afb-21df-4f98-a89e-0a7d97702720')\"\n",
              "              title=\"Convert this dataframe to an interactive table.\"\n",
              "              style=\"display:none;\">\n",
              "        \n",
              "  <svg xmlns=\"http://www.w3.org/2000/svg\" height=\"24px\"viewBox=\"0 0 24 24\"\n",
              "       width=\"24px\">\n",
              "    <path d=\"M0 0h24v24H0V0z\" fill=\"none\"/>\n",
              "    <path d=\"M18.56 5.44l.94 2.06.94-2.06 2.06-.94-2.06-.94-.94-2.06-.94 2.06-2.06.94zm-11 1L8.5 8.5l.94-2.06 2.06-.94-2.06-.94L8.5 2.5l-.94 2.06-2.06.94zm10 10l.94 2.06.94-2.06 2.06-.94-2.06-.94-.94-2.06-.94 2.06-2.06.94z\"/><path d=\"M17.41 7.96l-1.37-1.37c-.4-.4-.92-.59-1.43-.59-.52 0-1.04.2-1.43.59L10.3 9.45l-7.72 7.72c-.78.78-.78 2.05 0 2.83L4 21.41c.39.39.9.59 1.41.59.51 0 1.02-.2 1.41-.59l7.78-7.78 2.81-2.81c.8-.78.8-2.07 0-2.86zM5.41 20L4 18.59l7.72-7.72 1.47 1.35L5.41 20z\"/>\n",
              "  </svg>\n",
              "      </button>\n",
              "      \n",
              "  <style>\n",
              "    .colab-df-container {\n",
              "      display:flex;\n",
              "      flex-wrap:wrap;\n",
              "      gap: 12px;\n",
              "    }\n",
              "\n",
              "    .colab-df-convert {\n",
              "      background-color: #E8F0FE;\n",
              "      border: none;\n",
              "      border-radius: 50%;\n",
              "      cursor: pointer;\n",
              "      display: none;\n",
              "      fill: #1967D2;\n",
              "      height: 32px;\n",
              "      padding: 0 0 0 0;\n",
              "      width: 32px;\n",
              "    }\n",
              "\n",
              "    .colab-df-convert:hover {\n",
              "      background-color: #E2EBFA;\n",
              "      box-shadow: 0px 1px 2px rgba(60, 64, 67, 0.3), 0px 1px 3px 1px rgba(60, 64, 67, 0.15);\n",
              "      fill: #174EA6;\n",
              "    }\n",
              "\n",
              "    [theme=dark] .colab-df-convert {\n",
              "      background-color: #3B4455;\n",
              "      fill: #D2E3FC;\n",
              "    }\n",
              "\n",
              "    [theme=dark] .colab-df-convert:hover {\n",
              "      background-color: #434B5C;\n",
              "      box-shadow: 0px 1px 3px 1px rgba(0, 0, 0, 0.15);\n",
              "      filter: drop-shadow(0px 1px 2px rgba(0, 0, 0, 0.3));\n",
              "      fill: #FFFFFF;\n",
              "    }\n",
              "  </style>\n",
              "\n",
              "      <script>\n",
              "        const buttonEl =\n",
              "          document.querySelector('#df-b2f94afb-21df-4f98-a89e-0a7d97702720 button.colab-df-convert');\n",
              "        buttonEl.style.display =\n",
              "          google.colab.kernel.accessAllowed ? 'block' : 'none';\n",
              "\n",
              "        async function convertToInteractive(key) {\n",
              "          const element = document.querySelector('#df-b2f94afb-21df-4f98-a89e-0a7d97702720');\n",
              "          const dataTable =\n",
              "            await google.colab.kernel.invokeFunction('convertToInteractive',\n",
              "                                                     [key], {});\n",
              "          if (!dataTable) return;\n",
              "\n",
              "          const docLinkHtml = 'Like what you see? Visit the ' +\n",
              "            '<a target=\"_blank\" href=https://colab.research.google.com/notebooks/data_table.ipynb>data table notebook</a>'\n",
              "            + ' to learn more about interactive tables.';\n",
              "          element.innerHTML = '';\n",
              "          dataTable['output_type'] = 'display_data';\n",
              "          await google.colab.output.renderOutput(dataTable, element);\n",
              "          const docLink = document.createElement('div');\n",
              "          docLink.innerHTML = docLinkHtml;\n",
              "          element.appendChild(docLink);\n",
              "        }\n",
              "      </script>\n",
              "    </div>\n",
              "  </div>\n",
              "  "
            ]
          },
          "metadata": {},
          "execution_count": 70
        }
      ]
    },
    {
      "cell_type": "markdown",
      "source": [
        ""
      ],
      "metadata": {
        "id": "Zwt_XZjXomqk"
      }
    },
    {
      "cell_type": "markdown",
      "source": [
        "#최종 모델"
      ],
      "metadata": {
        "id": "BbbzQdtJKTTF"
      }
    },
    {
      "cell_type": "code",
      "source": [
        "CSS = \"\"\".output {flex-direction: row;}\"\"\"\n",
        "HTML('<style>{}</style>'.format(CSS))\n",
        "\n",
        "reorderlist = ['Model Dimension', 'Feedforwad Hidden Layer', 'Feedforwad Hidden Layer Dimension', 'Feedforward Network Dimension',\n",
        "               'Layer Normalization Epsilon', 'Number of Layer', 'Sequence Size', 'Number of Vocab', \"Pad ID\", 'Tokenizer', 'Vocab Size', \n",
        "               'Dropout Rate', 'Learning Rate', 'Optimizer', 'Activation Function', 'Loss Function', 'Epoch', 'Batch Size', 'Total Parameter']\n",
        "\n",
        "final_hyperparameter = pd.DataFrame({'Final Model':{'Model Dimension':64, 'Feedforwad Hidden Layer':4,\n",
        "                                                    'Feedforwad Hidden Layer Dimension':64, 'Feedforward Network Dimension':256,\n",
        "                                                    'Layer Normalization Epsilon':0.001, 'Number of Layer':3, 'Sequence Size':256,\n",
        "                                                    'Number of Vocab':8007, \"Pad ID\":0,  'Tokenizer':'SentencePiece', 'Vocab Size':8000,\n",
        "                                                    'Dropout Rate':0.1, 'Learning Rate':'Scheduler', 'Optimizer':'Adam',\n",
        "                                                    'Activation Function':'Gelu', 'Loss Function':'Sparse Categorical Crossentropy',\n",
        "                                                    'Epoch':10, 'Batch Size':128, 'Total Parameter':832512}})\n",
        "\n",
        "final_hyperparameter = final_hyperparameter.iloc[pd.Categorical(final_hyperparameter.index,reorderlist).argsort()]\n",
        "\n",
        "final_model_loss_df = pd.read_csv(\"/content/drive/MyDrive/lms/bert_pretrain/third_model_history.csv\")\n",
        "final_model_loss_df.to_csv(\"/content/drive/MyDrive/lms/bert_pretrain/final_model_history.csv\", index = False)\n",
        "\n",
        "with pd.option_context('display.max_rows',None):\n",
        "  display(final_hyperparameter)\n",
        "print(\"\\n\")\n",
        "display(final_model_loss_df)\n",
        "print(\"\\n\")\n",
        "\n",
        "plt.figure(figsize=(18, 4))\n",
        "\n",
        "plt.subplot(1, 3, 1)\n",
        "plt.plot(final_model_loss_df['Loss'], label='Loss')\n",
        "plt.title(\"Loss\")\n",
        "plt.xlabel('Epoch')\n",
        "plt.legend()\n",
        "\n",
        "plt.subplot(1, 3, 2)\n",
        "plt.plot(final_model_loss_df['NSP Loss'], 'b-', label='NSP Loss')\n",
        "plt.plot(final_model_loss_df['MLM Loss'], 'r--', label='MLM Loss')\n",
        "plt.title(\"Loss\")\n",
        "plt.xlabel('Epoch')\n",
        "plt.legend()\n",
        "\n",
        "plt.subplot(1, 3, 3)\n",
        "plt.plot(final_model_loss_df['NSP Accuracy'], 'g-', label='NSP Accuracy')\n",
        "plt.plot(final_model_loss_df['MLM Accuracy'], 'k--', label='MLM Accuracy')\n",
        "plt.title(\"Accuracy\")\n",
        "plt.xlabel('Epoch')\n",
        "plt.legend()\n",
        "\n",
        "plt.show()"
      ],
      "metadata": {
        "id": "4Wm6WAtxKT4u",
        "colab": {
          "base_uri": "https://localhost:8080/",
          "height": 1000
        },
        "outputId": "555c6abe-93a9-4505-c272-6e7f41530c2e"
      },
      "execution_count": null,
      "outputs": [
        {
          "output_type": "display_data",
          "data": {
            "text/plain": [
              "                                                       Final Model\n",
              "Model Dimension                                                 64\n",
              "Feedforwad Hidden Layer                                          4\n",
              "Feedforwad Hidden Layer Dimension                               64\n",
              "Feedforward Network Dimension                                  256\n",
              "Layer Normalization Epsilon                                  0.001\n",
              "Number of Layer                                                  3\n",
              "Sequence Size                                                  256\n",
              "Number of Vocab                                               8007\n",
              "Pad ID                                                           0\n",
              "Tokenizer                                            SentencePiece\n",
              "Vocab Size                                                    8000\n",
              "Dropout Rate                                                   0.1\n",
              "Learning Rate                                            Scheduler\n",
              "Optimizer                                                     Adam\n",
              "Activation Function                                           Gelu\n",
              "Loss Function                      Sparse Categorical Crossentropy\n",
              "Epoch                                                           10\n",
              "Batch Size                                                     128\n",
              "Total Parameter                                             832512"
            ],
            "text/html": [
              "\n",
              "  <div id=\"df-7aa406cf-c085-4f39-a1e1-9b811af43279\">\n",
              "    <div class=\"colab-df-container\">\n",
              "      <div>\n",
              "<style scoped>\n",
              "    .dataframe tbody tr th:only-of-type {\n",
              "        vertical-align: middle;\n",
              "    }\n",
              "\n",
              "    .dataframe tbody tr th {\n",
              "        vertical-align: top;\n",
              "    }\n",
              "\n",
              "    .dataframe thead th {\n",
              "        text-align: right;\n",
              "    }\n",
              "</style>\n",
              "<table border=\"1\" class=\"dataframe\">\n",
              "  <thead>\n",
              "    <tr style=\"text-align: right;\">\n",
              "      <th></th>\n",
              "      <th>Final Model</th>\n",
              "    </tr>\n",
              "  </thead>\n",
              "  <tbody>\n",
              "    <tr>\n",
              "      <th>Model Dimension</th>\n",
              "      <td>64</td>\n",
              "    </tr>\n",
              "    <tr>\n",
              "      <th>Feedforwad Hidden Layer</th>\n",
              "      <td>4</td>\n",
              "    </tr>\n",
              "    <tr>\n",
              "      <th>Feedforwad Hidden Layer Dimension</th>\n",
              "      <td>64</td>\n",
              "    </tr>\n",
              "    <tr>\n",
              "      <th>Feedforward Network Dimension</th>\n",
              "      <td>256</td>\n",
              "    </tr>\n",
              "    <tr>\n",
              "      <th>Layer Normalization Epsilon</th>\n",
              "      <td>0.001</td>\n",
              "    </tr>\n",
              "    <tr>\n",
              "      <th>Number of Layer</th>\n",
              "      <td>3</td>\n",
              "    </tr>\n",
              "    <tr>\n",
              "      <th>Sequence Size</th>\n",
              "      <td>256</td>\n",
              "    </tr>\n",
              "    <tr>\n",
              "      <th>Number of Vocab</th>\n",
              "      <td>8007</td>\n",
              "    </tr>\n",
              "    <tr>\n",
              "      <th>Pad ID</th>\n",
              "      <td>0</td>\n",
              "    </tr>\n",
              "    <tr>\n",
              "      <th>Tokenizer</th>\n",
              "      <td>SentencePiece</td>\n",
              "    </tr>\n",
              "    <tr>\n",
              "      <th>Vocab Size</th>\n",
              "      <td>8000</td>\n",
              "    </tr>\n",
              "    <tr>\n",
              "      <th>Dropout Rate</th>\n",
              "      <td>0.1</td>\n",
              "    </tr>\n",
              "    <tr>\n",
              "      <th>Learning Rate</th>\n",
              "      <td>Scheduler</td>\n",
              "    </tr>\n",
              "    <tr>\n",
              "      <th>Optimizer</th>\n",
              "      <td>Adam</td>\n",
              "    </tr>\n",
              "    <tr>\n",
              "      <th>Activation Function</th>\n",
              "      <td>Gelu</td>\n",
              "    </tr>\n",
              "    <tr>\n",
              "      <th>Loss Function</th>\n",
              "      <td>Sparse Categorical Crossentropy</td>\n",
              "    </tr>\n",
              "    <tr>\n",
              "      <th>Epoch</th>\n",
              "      <td>10</td>\n",
              "    </tr>\n",
              "    <tr>\n",
              "      <th>Batch Size</th>\n",
              "      <td>128</td>\n",
              "    </tr>\n",
              "    <tr>\n",
              "      <th>Total Parameter</th>\n",
              "      <td>832512</td>\n",
              "    </tr>\n",
              "  </tbody>\n",
              "</table>\n",
              "</div>\n",
              "      <button class=\"colab-df-convert\" onclick=\"convertToInteractive('df-7aa406cf-c085-4f39-a1e1-9b811af43279')\"\n",
              "              title=\"Convert this dataframe to an interactive table.\"\n",
              "              style=\"display:none;\">\n",
              "        \n",
              "  <svg xmlns=\"http://www.w3.org/2000/svg\" height=\"24px\"viewBox=\"0 0 24 24\"\n",
              "       width=\"24px\">\n",
              "    <path d=\"M0 0h24v24H0V0z\" fill=\"none\"/>\n",
              "    <path d=\"M18.56 5.44l.94 2.06.94-2.06 2.06-.94-2.06-.94-.94-2.06-.94 2.06-2.06.94zm-11 1L8.5 8.5l.94-2.06 2.06-.94-2.06-.94L8.5 2.5l-.94 2.06-2.06.94zm10 10l.94 2.06.94-2.06 2.06-.94-2.06-.94-.94-2.06-.94 2.06-2.06.94z\"/><path d=\"M17.41 7.96l-1.37-1.37c-.4-.4-.92-.59-1.43-.59-.52 0-1.04.2-1.43.59L10.3 9.45l-7.72 7.72c-.78.78-.78 2.05 0 2.83L4 21.41c.39.39.9.59 1.41.59.51 0 1.02-.2 1.41-.59l7.78-7.78 2.81-2.81c.8-.78.8-2.07 0-2.86zM5.41 20L4 18.59l7.72-7.72 1.47 1.35L5.41 20z\"/>\n",
              "  </svg>\n",
              "      </button>\n",
              "      \n",
              "  <style>\n",
              "    .colab-df-container {\n",
              "      display:flex;\n",
              "      flex-wrap:wrap;\n",
              "      gap: 12px;\n",
              "    }\n",
              "\n",
              "    .colab-df-convert {\n",
              "      background-color: #E8F0FE;\n",
              "      border: none;\n",
              "      border-radius: 50%;\n",
              "      cursor: pointer;\n",
              "      display: none;\n",
              "      fill: #1967D2;\n",
              "      height: 32px;\n",
              "      padding: 0 0 0 0;\n",
              "      width: 32px;\n",
              "    }\n",
              "\n",
              "    .colab-df-convert:hover {\n",
              "      background-color: #E2EBFA;\n",
              "      box-shadow: 0px 1px 2px rgba(60, 64, 67, 0.3), 0px 1px 3px 1px rgba(60, 64, 67, 0.15);\n",
              "      fill: #174EA6;\n",
              "    }\n",
              "\n",
              "    [theme=dark] .colab-df-convert {\n",
              "      background-color: #3B4455;\n",
              "      fill: #D2E3FC;\n",
              "    }\n",
              "\n",
              "    [theme=dark] .colab-df-convert:hover {\n",
              "      background-color: #434B5C;\n",
              "      box-shadow: 0px 1px 3px 1px rgba(0, 0, 0, 0.15);\n",
              "      filter: drop-shadow(0px 1px 2px rgba(0, 0, 0, 0.3));\n",
              "      fill: #FFFFFF;\n",
              "    }\n",
              "  </style>\n",
              "\n",
              "      <script>\n",
              "        const buttonEl =\n",
              "          document.querySelector('#df-7aa406cf-c085-4f39-a1e1-9b811af43279 button.colab-df-convert');\n",
              "        buttonEl.style.display =\n",
              "          google.colab.kernel.accessAllowed ? 'block' : 'none';\n",
              "\n",
              "        async function convertToInteractive(key) {\n",
              "          const element = document.querySelector('#df-7aa406cf-c085-4f39-a1e1-9b811af43279');\n",
              "          const dataTable =\n",
              "            await google.colab.kernel.invokeFunction('convertToInteractive',\n",
              "                                                     [key], {});\n",
              "          if (!dataTable) return;\n",
              "\n",
              "          const docLinkHtml = 'Like what you see? Visit the ' +\n",
              "            '<a target=\"_blank\" href=https://colab.research.google.com/notebooks/data_table.ipynb>data table notebook</a>'\n",
              "            + ' to learn more about interactive tables.';\n",
              "          element.innerHTML = '';\n",
              "          dataTable['output_type'] = 'display_data';\n",
              "          await google.colab.output.renderOutput(dataTable, element);\n",
              "          const docLink = document.createElement('div');\n",
              "          docLink.innerHTML = docLinkHtml;\n",
              "          element.appendChild(docLink);\n",
              "        }\n",
              "      </script>\n",
              "    </div>\n",
              "  </div>\n",
              "  "
            ]
          },
          "metadata": {}
        },
        {
          "output_type": "stream",
          "name": "stdout",
          "text": [
            "\n",
            "\n"
          ]
        },
        {
          "output_type": "display_data",
          "data": {
            "text/plain": [
              "   Epoch     Loss  NSP Loss  MLM Loss  NSP Accuracy  MLM Accuracy\n",
              "0      1  21.4481    0.6774   20.7707        0.5437        0.0370\n",
              "1      2  19.3892    0.6363   18.7529        0.6117        0.0488\n",
              "2      3  18.6509    0.6261   18.0248        0.6294        0.0882\n",
              "3      4  18.1235    0.6196   17.5038        0.6397        0.1046\n",
              "4      5  17.8164    0.6150   17.2014        0.6477        0.1132\n",
              "5      6  17.6165    0.6107   17.0058        0.6549        0.1183\n",
              "6      7  17.4909    0.6058   16.8851        0.6631        0.1213\n",
              "7      8  17.4165    0.6022   16.8142        0.6687        0.1229\n",
              "8      9  17.3765    0.5994   16.7772        0.6736        0.1236\n",
              "9     10  17.3629    0.5987   16.7642        0.6741        0.1239"
            ],
            "text/html": [
              "\n",
              "  <div id=\"df-64dc5963-9fcd-420b-90d0-b3337ed79cae\">\n",
              "    <div class=\"colab-df-container\">\n",
              "      <div>\n",
              "<style scoped>\n",
              "    .dataframe tbody tr th:only-of-type {\n",
              "        vertical-align: middle;\n",
              "    }\n",
              "\n",
              "    .dataframe tbody tr th {\n",
              "        vertical-align: top;\n",
              "    }\n",
              "\n",
              "    .dataframe thead th {\n",
              "        text-align: right;\n",
              "    }\n",
              "</style>\n",
              "<table border=\"1\" class=\"dataframe\">\n",
              "  <thead>\n",
              "    <tr style=\"text-align: right;\">\n",
              "      <th></th>\n",
              "      <th>Epoch</th>\n",
              "      <th>Loss</th>\n",
              "      <th>NSP Loss</th>\n",
              "      <th>MLM Loss</th>\n",
              "      <th>NSP Accuracy</th>\n",
              "      <th>MLM Accuracy</th>\n",
              "    </tr>\n",
              "  </thead>\n",
              "  <tbody>\n",
              "    <tr>\n",
              "      <th>0</th>\n",
              "      <td>1</td>\n",
              "      <td>21.4481</td>\n",
              "      <td>0.6774</td>\n",
              "      <td>20.7707</td>\n",
              "      <td>0.5437</td>\n",
              "      <td>0.0370</td>\n",
              "    </tr>\n",
              "    <tr>\n",
              "      <th>1</th>\n",
              "      <td>2</td>\n",
              "      <td>19.3892</td>\n",
              "      <td>0.6363</td>\n",
              "      <td>18.7529</td>\n",
              "      <td>0.6117</td>\n",
              "      <td>0.0488</td>\n",
              "    </tr>\n",
              "    <tr>\n",
              "      <th>2</th>\n",
              "      <td>3</td>\n",
              "      <td>18.6509</td>\n",
              "      <td>0.6261</td>\n",
              "      <td>18.0248</td>\n",
              "      <td>0.6294</td>\n",
              "      <td>0.0882</td>\n",
              "    </tr>\n",
              "    <tr>\n",
              "      <th>3</th>\n",
              "      <td>4</td>\n",
              "      <td>18.1235</td>\n",
              "      <td>0.6196</td>\n",
              "      <td>17.5038</td>\n",
              "      <td>0.6397</td>\n",
              "      <td>0.1046</td>\n",
              "    </tr>\n",
              "    <tr>\n",
              "      <th>4</th>\n",
              "      <td>5</td>\n",
              "      <td>17.8164</td>\n",
              "      <td>0.6150</td>\n",
              "      <td>17.2014</td>\n",
              "      <td>0.6477</td>\n",
              "      <td>0.1132</td>\n",
              "    </tr>\n",
              "    <tr>\n",
              "      <th>5</th>\n",
              "      <td>6</td>\n",
              "      <td>17.6165</td>\n",
              "      <td>0.6107</td>\n",
              "      <td>17.0058</td>\n",
              "      <td>0.6549</td>\n",
              "      <td>0.1183</td>\n",
              "    </tr>\n",
              "    <tr>\n",
              "      <th>6</th>\n",
              "      <td>7</td>\n",
              "      <td>17.4909</td>\n",
              "      <td>0.6058</td>\n",
              "      <td>16.8851</td>\n",
              "      <td>0.6631</td>\n",
              "      <td>0.1213</td>\n",
              "    </tr>\n",
              "    <tr>\n",
              "      <th>7</th>\n",
              "      <td>8</td>\n",
              "      <td>17.4165</td>\n",
              "      <td>0.6022</td>\n",
              "      <td>16.8142</td>\n",
              "      <td>0.6687</td>\n",
              "      <td>0.1229</td>\n",
              "    </tr>\n",
              "    <tr>\n",
              "      <th>8</th>\n",
              "      <td>9</td>\n",
              "      <td>17.3765</td>\n",
              "      <td>0.5994</td>\n",
              "      <td>16.7772</td>\n",
              "      <td>0.6736</td>\n",
              "      <td>0.1236</td>\n",
              "    </tr>\n",
              "    <tr>\n",
              "      <th>9</th>\n",
              "      <td>10</td>\n",
              "      <td>17.3629</td>\n",
              "      <td>0.5987</td>\n",
              "      <td>16.7642</td>\n",
              "      <td>0.6741</td>\n",
              "      <td>0.1239</td>\n",
              "    </tr>\n",
              "  </tbody>\n",
              "</table>\n",
              "</div>\n",
              "      <button class=\"colab-df-convert\" onclick=\"convertToInteractive('df-64dc5963-9fcd-420b-90d0-b3337ed79cae')\"\n",
              "              title=\"Convert this dataframe to an interactive table.\"\n",
              "              style=\"display:none;\">\n",
              "        \n",
              "  <svg xmlns=\"http://www.w3.org/2000/svg\" height=\"24px\"viewBox=\"0 0 24 24\"\n",
              "       width=\"24px\">\n",
              "    <path d=\"M0 0h24v24H0V0z\" fill=\"none\"/>\n",
              "    <path d=\"M18.56 5.44l.94 2.06.94-2.06 2.06-.94-2.06-.94-.94-2.06-.94 2.06-2.06.94zm-11 1L8.5 8.5l.94-2.06 2.06-.94-2.06-.94L8.5 2.5l-.94 2.06-2.06.94zm10 10l.94 2.06.94-2.06 2.06-.94-2.06-.94-.94-2.06-.94 2.06-2.06.94z\"/><path d=\"M17.41 7.96l-1.37-1.37c-.4-.4-.92-.59-1.43-.59-.52 0-1.04.2-1.43.59L10.3 9.45l-7.72 7.72c-.78.78-.78 2.05 0 2.83L4 21.41c.39.39.9.59 1.41.59.51 0 1.02-.2 1.41-.59l7.78-7.78 2.81-2.81c.8-.78.8-2.07 0-2.86zM5.41 20L4 18.59l7.72-7.72 1.47 1.35L5.41 20z\"/>\n",
              "  </svg>\n",
              "      </button>\n",
              "      \n",
              "  <style>\n",
              "    .colab-df-container {\n",
              "      display:flex;\n",
              "      flex-wrap:wrap;\n",
              "      gap: 12px;\n",
              "    }\n",
              "\n",
              "    .colab-df-convert {\n",
              "      background-color: #E8F0FE;\n",
              "      border: none;\n",
              "      border-radius: 50%;\n",
              "      cursor: pointer;\n",
              "      display: none;\n",
              "      fill: #1967D2;\n",
              "      height: 32px;\n",
              "      padding: 0 0 0 0;\n",
              "      width: 32px;\n",
              "    }\n",
              "\n",
              "    .colab-df-convert:hover {\n",
              "      background-color: #E2EBFA;\n",
              "      box-shadow: 0px 1px 2px rgba(60, 64, 67, 0.3), 0px 1px 3px 1px rgba(60, 64, 67, 0.15);\n",
              "      fill: #174EA6;\n",
              "    }\n",
              "\n",
              "    [theme=dark] .colab-df-convert {\n",
              "      background-color: #3B4455;\n",
              "      fill: #D2E3FC;\n",
              "    }\n",
              "\n",
              "    [theme=dark] .colab-df-convert:hover {\n",
              "      background-color: #434B5C;\n",
              "      box-shadow: 0px 1px 3px 1px rgba(0, 0, 0, 0.15);\n",
              "      filter: drop-shadow(0px 1px 2px rgba(0, 0, 0, 0.3));\n",
              "      fill: #FFFFFF;\n",
              "    }\n",
              "  </style>\n",
              "\n",
              "      <script>\n",
              "        const buttonEl =\n",
              "          document.querySelector('#df-64dc5963-9fcd-420b-90d0-b3337ed79cae button.colab-df-convert');\n",
              "        buttonEl.style.display =\n",
              "          google.colab.kernel.accessAllowed ? 'block' : 'none';\n",
              "\n",
              "        async function convertToInteractive(key) {\n",
              "          const element = document.querySelector('#df-64dc5963-9fcd-420b-90d0-b3337ed79cae');\n",
              "          const dataTable =\n",
              "            await google.colab.kernel.invokeFunction('convertToInteractive',\n",
              "                                                     [key], {});\n",
              "          if (!dataTable) return;\n",
              "\n",
              "          const docLinkHtml = 'Like what you see? Visit the ' +\n",
              "            '<a target=\"_blank\" href=https://colab.research.google.com/notebooks/data_table.ipynb>data table notebook</a>'\n",
              "            + ' to learn more about interactive tables.';\n",
              "          element.innerHTML = '';\n",
              "          dataTable['output_type'] = 'display_data';\n",
              "          await google.colab.output.renderOutput(dataTable, element);\n",
              "          const docLink = document.createElement('div');\n",
              "          docLink.innerHTML = docLinkHtml;\n",
              "          element.appendChild(docLink);\n",
              "        }\n",
              "      </script>\n",
              "    </div>\n",
              "  </div>\n",
              "  "
            ]
          },
          "metadata": {}
        },
        {
          "output_type": "stream",
          "name": "stdout",
          "text": [
            "\n",
            "\n"
          ]
        },
        {
          "output_type": "display_data",
          "data": {
            "text/plain": [
              "<Figure size 1296x288 with 3 Axes>"
            ],
            "image/png": "[encoded data removed]"
          },
          "metadata": {
            "needs_background": "light"
          }
        }
      ]
    },
    {
      "cell_type": "markdown",
      "source": [
        ""
      ],
      "metadata": {
        "id": "2om9IIE7hbL2"
      }
    },
    {
      "cell_type": "markdown",
      "source": [
        "#결론"
      ],
      "metadata": {
        "id": "IiFrwUEiasni"
      }
    },
    {
      "cell_type": "markdown",
      "source": [
        "**Pretrained Model의 잠재력**"
      ],
      "metadata": {
        "id": "0m8VTRGiJJUm"
      }
    },
    {
      "cell_type": "markdown",
      "source": [
        "Train Model의 기본 바탕이 되는 Pretrain Model은 어떤 Task에 적합한가?\n",
        "<br/>Pretrain Model의 쓰임새는 Train Model이라는 실전에 투입되기 전까지는 알 수 없다.\n",
        "<br/>Pretrain Model의 잠재력을 발굴하는 것은 실전에서 딥러닝 기계를 작동시키는 언어모델 개발자의 역량이다.\n",
        "<br/>학교에서 학생의 잠재력을 발견하여 사회에서 자신의 능력을 쓸 줄 아는 성인으로 성장할 수 있게 도와주는 것처럼\n",
        "<br/>딥러닝 모델 개발자는 Pretrain Model의 사용 영역을 탐색하고 유용성을 높인다."
      ],
      "metadata": {
        "id": "e5iMAykiawFK"
      }
    },
    {
      "cell_type": "markdown",
      "source": [
        ""
      ],
      "metadata": {
        "id": "bANSIVKwhXJy"
      }
    },
    {
      "cell_type": "markdown",
      "source": [
        "**파라미터 사이즈**"
      ],
      "metadata": {
        "id": "A-_ilel1PER8"
      }
    },
    {
      "cell_type": "markdown",
      "source": [
        "BERT는 3억 4천만, GPT-1는 1억 1,700만, GPT-2는 15억, GPT-3는 1,750억 개의 파라미터를 가진다.\n",
        "<br/>GPT–3은 시스템의 거대한 작동 규모와 뛰어난 성능으로 다른 AI 시스템과 달리 AGI에 한층 가까워졌다."
      ],
      "metadata": {
        "id": "yuyrCip7PEW2"
      }
    },
    {
      "cell_type": "markdown",
      "source": [
        "AI 기술을 기반으로 움직이는 기업은 거대 언어 모델을 개발하고 사용한다.\n",
        "<br/>네이버의 HyperCLOVA는 2,040억, 딥마인드의 Gopher는 2,800억, 메가트론-튜링 NL은 5,300억, 구글의 Switch-Transformer는 1조 6,000억 개의 파라미터를 가진다.\n",
        "<br/>이렇게 대기업이 모델 크기를 갖고 경쟁하는 상황에서 기업 조직이 아닌 개인이 AI 기술에 기여할 수 있는 일은 무엇인가?\n",
        "<br/>대기업의 투자가 판을 이끄는 구조적인 결과인가? 개인이 기술의 발전에 기여하는 개별적인 결과인가?\n",
        "<br/>과학 기술 AI라는 프로메테우스의 불을 지니고 있는 주체는 누구인가.\n",
        "<br/>그 주체가 모여 AI를 기반으로 한 사회를 구성하고 있다.\n",
        "<br/>개인, 기업, 가정, 학교, 지역, 국가 간의 원활한 정보 교류가 이뤄질 수 있는 AI 기술 생태계가 형성되어야한다고 생각한다.\n"
      ],
      "metadata": {
        "id": "Jkr4TEFecqyg"
      }
    },
    {
      "cell_type": "markdown",
      "source": [
        ""
      ],
      "metadata": {
        "id": "-E5-zYXKhZfQ"
      }
    },
    {
      "cell_type": "markdown",
      "source": [
        "#참고문헌"
      ],
      "metadata": {
        "id": "_k_NRgb5autR"
      }
    },
    {
      "cell_type": "markdown",
      "source": [
        "**LMS**\n",
        "<br/>[cchyun](https://github.com/paul-hyun)\n",
        "\n",
        "<br/>**논문**\n",
        "<br/>[Dan Hendrycks, Kevin Gimpel, 「GAUSSIAN ERROR LINEAR UNITS (GELUS)」, arXiv:1606.08415, 2016](https://arxiv.org/abs/1606.08415)\n",
        "<br/>[Devlin, J., Chang, M.-W., Lee, K., and Toutanova, K, 「BERT: Pre-training of Deep Bidirectional Transformers for Language Understanding」, ArXiv e-prints: 1810.04805, 2018](https://arxiv.org/abs/1810.04805)\n",
        "\n",
        "<br/>**기사**\n",
        "<br/>[류한석, “범용 AI의 선두주자 GPT-3가 가져온 충격”, 『나라경제 2020년 10월호』, KDI경제정보센터, 2020.10](https://eiec.kdi.re.kr/publish/columnView.do?cidx=13038&ccode=&pp=20&pg=&sel_year=2020&sel_month=10)\n",
        "<br/>[Will Douglas Heaven, “초거대 AI 모델들이 탄생한 2021년”, MIT Technology Review, 2021.12.27](https://www.technologyreview.kr/%EC%B4%88%EA%B1%B0%EB%8C%80-ai-%EB%AA%A8%EB%8D%B8%EB%93%A4%EC%9D%B4-%ED%83%84%EC%83%9D%ED%95%9C-2021%EB%85%84/)\n",
        "\n",
        "<br/>**음악**\n",
        "<br/>[유정석 <질풍가도 ('쾌걸 근육맨 2세' 1기 여는노래)>](https://youtu.be/No0YMy5nXeA)\n",
        "<br/>[김광진 <편지>](https://www.youtube.com/watch?v=0fzaYwdVte8)\n",
        "\n",
        "<br/>**깃허브**\n",
        "<br/>cchyun\n",
        "<br/>[한글 나무위키 코퍼스](https://paul-hyun.github.io/nlp-tutorial-02-02-tokenizer/)\n",
        "<br/><br/>suheeeee\n",
        "<br/>[GD_NLP_8_mini_bert.ipynb](https://github.com/suheeeee/my_deeplearning_project/blob/main/going_deeper/GD_NLP_8_mini_bert.ipynb)\n",
        "\n",
        "<br/>**웹사이트**\n",
        "<br/>[나무위키](https://namu.wiki/w/%EB%82%98%EB%AC%B4%EC%9C%84%ED%82%A4:%EB%8C%80%EB%AC%B8)\n",
        "<br/>[Python print tuple values | Example code](https://tutorial.eyehunts.com/python/python-print-tuple-values-example-code/)\n",
        "<br/>[tensorflow 콜백함수: ModelCheckpoint](https://deep-deep-deep.tistory.com/53)\n",
        "\n",
        "<br/>**공부**\n",
        "<br/>[Week 43 - 벤치마크 데이터 셋 그리고 KLUE](https://jiho-ml.com/weekly-nlp-43/)"
      ],
      "metadata": {
        "id": "QWObsge0G3DP"
      }
    }
  ]
}