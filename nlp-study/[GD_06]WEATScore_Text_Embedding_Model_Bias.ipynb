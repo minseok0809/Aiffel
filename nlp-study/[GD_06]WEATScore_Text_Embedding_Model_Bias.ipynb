{
  "nbformat": 4,
  "nbformat_minor": 0,
  "metadata": {
    "colab": {
      "name": "[GD_06]WEATScore_Text_Embedding_Model_Bias.ipynb",
      "provenance": [],
      "collapsed_sections": [],
      "machine_shape": "hm",
      "toc_visible": true
    },
    "kernelspec": {
      "name": "python3",
      "display_name": "Python 3"
    },
    "language_info": {
      "name": "python"
    },
    "gpuClass": "standard",
    "accelerator": "GPU"
  },
  "cells": [
    {
      "cell_type": "markdown",
      "source": [
        "##임베딩 내 편향성 알아보기"
      ],
      "metadata": {
        "id": "bt4mQdnKXMGp"
      }
    },
    {
      "cell_type": "markdown",
      "source": [
        ""
      ],
      "metadata": {
        "id": "DTZg3mmNXMkw"
      }
    },
    {
      "cell_type": "markdown",
      "source": [
        "개발 환경\n",
        "<br/>데이터 정보"
      ],
      "metadata": {
        "id": "_PUIFq7J9IZ-"
      }
    },
    {
      "cell_type": "markdown",
      "source": [
        "Word Embedding\n",
        "<br/>Tokenizer\n",
        "<br/>Word2Vec"
      ],
      "metadata": {
        "id": "N1RPXiih9Njn"
      }
    },
    {
      "cell_type": "markdown",
      "source": [
        "Target-Attribute Word Set\n",
        "<br/>WEAT(Word Embedding Association Test)\n",
        "<br/>결론\n",
        "<br/>참고문헌"
      ],
      "metadata": {
        "id": "0T-E7fff9Ole"
      }
    },
    {
      "cell_type": "markdown",
      "source": [
        ""
      ],
      "metadata": {
        "id": "atkq0feEXMnI"
      }
    },
    {
      "cell_type": "markdown",
      "source": [
        "#개발 환경"
      ],
      "metadata": {
        "id": "iWKXpryuXMpp"
      }
    },
    {
      "cell_type": "code",
      "source": [
        "%%bash\n",
        "apt-get update\n",
        "apt-get install g++ openjdk-8-jdk python-dev python3-dev\n",
        "pip3 install JPype1\n",
        "pip3 install konlpy"
      ],
      "metadata": {
        "id": "u0JWT6SppxrF"
      },
      "execution_count": null,
      "outputs": []
    },
    {
      "cell_type": "code",
      "source": [
        "%env JAVA_HOME \"/usr/lib/jvm/java-8-openjdk-amd64\""
      ],
      "metadata": {
        "id": "lOwghnBGpxyi"
      },
      "execution_count": null,
      "outputs": []
    },
    {
      "cell_type": "markdown",
      "source": [
        "Okt를 작동하기 위한 KoNLPy 환경을 구성한다.\n",
        "<br/>bash 셸로 명령어 입력하여 라이브러리를 설치한다.<br/>JAVA_HOME 환경변수를 설정한다."
      ],
      "metadata": {
        "id": "gJggAy4QqaHq"
      }
    },
    {
      "cell_type": "code",
      "source": [
        "!pip install gensim"
      ],
      "metadata": {
        "id": "xYCsJMnEczCx"
      },
      "execution_count": null,
      "outputs": []
    },
    {
      "cell_type": "code",
      "source": [
        "import os\n",
        "import seaborn as sns\n",
        "import matplotlib as plt\n",
        "from matplotlib import font_manager as fm"
      ],
      "metadata": {
        "id": "b7bGtQEUdxmp"
      },
      "execution_count": null,
      "outputs": []
    },
    {
      "cell_type": "code",
      "source": [
        "import sklearn\n",
        "from sklearn.feature_extraction.text import TfidfVectorizer"
      ],
      "metadata": {
        "id": "eMK0NiMZmaEF"
      },
      "execution_count": null,
      "outputs": []
    },
    {
      "cell_type": "code",
      "source": [
        "import konlpy\n",
        "from konlpy.tag import Okt"
      ],
      "metadata": {
        "id": "sWzix-T5aup5"
      },
      "execution_count": null,
      "outputs": []
    },
    {
      "cell_type": "code",
      "source": [
        "import gensim\n",
        "from gensim.models import KeyedVectors\n",
        "from gensim.models import Word2Vec"
      ],
      "metadata": {
        "id": "rdTTmH1KdwUz"
      },
      "execution_count": null,
      "outputs": []
    },
    {
      "cell_type": "code",
      "source": [
        "import numpy as np\n",
        "from numpy import dot\n",
        "from numpy.linalg import norm"
      ],
      "metadata": {
        "id": "QMkMrP4cGFPN"
      },
      "execution_count": null,
      "outputs": []
    },
    {
      "cell_type": "code",
      "execution_count": null,
      "metadata": {
        "id": "Uw79Mu-DV__P"
      },
      "outputs": [],
      "source": [
        "from google.colab import drive\n",
        "drive.mount('/content/drive')"
      ]
    },
    {
      "cell_type": "code",
      "source": [
        "pip freeze > '/content/drive/MyDrive/lms/library_version.txt'"
      ],
      "metadata": {
        "id": "0qfojeblaRQA"
      },
      "execution_count": null,
      "outputs": []
    },
    {
      "cell_type": "code",
      "source": [
        "library_name = ['scikit-learn=', 'seaborn=', 'matplotlib=', 'konlpy=', 'gensim=', 'numpy=']\n",
        "library_version = []\n",
        "f = open('/content/drive/MyDrive/lms/library_version.txt', 'r')\n",
        "line = f.readline()\n",
        "while True:\n",
        "    line = f.readline()\n",
        "    if not line:\n",
        "      break\n",
        "    for i in library_name:\n",
        "      if i in line:\n",
        "        library_version.append(line)\n",
        "        library_version.append('    ')\n",
        "\n",
        "f.close()\n",
        "\n",
        "import sys\n",
        "print(sys.version)\n",
        "print()\n",
        "\n",
        "for i in range(0, len(library_version) - 1, 6):\n",
        "  print(str(library_version[i : i+6]).replace(\"[\",\"\").replace(\"]\",\"\").replace(\"'\",\"\").replace(\"\\\\n\",\"\").replace(\",\",\"\"), end='') \n",
        "  if i % 6 == 0:\n",
        "    print()\n",
        "\n",
        "for i in range(len(library_version) - 1):\n",
        "  if (i-1) % 6 == 0 and i == len(library_version) - 6:\n",
        "    print(str(library_version[-1]).replace(\"[\",\"\").replace(\"]\",\"\").replace(\"'\",\"\").replace(\"\\\\n\",\"\").replace(\",\",\"\"), end='')"
      ],
      "metadata": {
        "colab": {
          "base_uri": "https://localhost:8080/"
        },
        "id": "pKCDN2l2aRSR",
        "outputId": "b8749038-7043-4f2b-92b1-45fd3c4ca154"
      },
      "execution_count": null,
      "outputs": [
        {
          "output_type": "stream",
          "name": "stdout",
          "text": [
            "3.7.13 (default, Apr 24 2022, 01:04:09) \n",
            "[GCC 7.5.0]\n",
            "\n",
            "gensim==3.6.0      konlpy==0.6.0      matplotlib==3.2.2     \n",
            "numpy==1.21.6      scikit-learn==1.0.2      seaborn==0.11.2     \n"
          ]
        }
      ]
    },
    {
      "cell_type": "code",
      "source": [
        "gpu_info = !nvidia-smi\n",
        "gpu_info = '\\n'.join(gpu_info)\n",
        "if gpu_info.find('failed') >= 0:\n",
        "  print('Not connected to a GPU')\n",
        "else:\n",
        "  print(gpu_info)"
      ],
      "metadata": {
        "id": "tNWjfqhEaRUw"
      },
      "execution_count": null,
      "outputs": []
    },
    {
      "cell_type": "code",
      "source": [
        "from psutil import virtual_memory\n",
        "ram_gb = virtual_memory().total / 1e9\n",
        "print('Your runtime has {:.1f} gigabytes of available RAM\\n'.format(ram_gb))\n",
        "\n",
        "if ram_gb < 20:\n",
        "  print('Not using a high-RAM runtime')\n",
        "else:\n",
        "  print('You are using a high-RAM runtime!')"
      ],
      "metadata": {
        "id": "mBRskmBNaYUC"
      },
      "execution_count": null,
      "outputs": []
    },
    {
      "cell_type": "markdown",
      "source": [
        "Google Colab에서 할당된 GPU를 확인한다.\n",
        "<br/>고용량 메모리 VM에 액세스한다"
      ],
      "metadata": {
        "id": "rnoekd7qaObY"
      }
    },
    {
      "cell_type": "markdown",
      "source": [
        "#데이터 정보"
      ],
      "metadata": {
        "id": "YRvJ0bBqfwIR"
      }
    },
    {
      "cell_type": "markdown",
      "source": [
        "[KOBIS 영화정보 시놉시스](https://www.kobis.or.kr/kobis/business/mast/mvie/searchMovieList.do)"
      ],
      "metadata": {
        "id": "diACM4RFfxkh"
      }
    },
    {
      "cell_type": "markdown",
      "source": [
        "KOBIS(영화관입장권통합전산망) 사이트에서\n",
        "<br/>2001년부터 2019년 8월까지 제작된 영화의 시놉시스 정보를 수집했다."
      ],
      "metadata": {
        "id": "0NofOPIBfzkJ"
      }
    },
    {
      "cell_type": "code",
      "source": [
        "print(os.listdir('/content/drive/MyDrive/lms/weat_score/synopsis'))"
      ],
      "metadata": {
        "colab": {
          "base_uri": "https://localhost:8080/"
        },
        "id": "Mla1vew1AjWm",
        "outputId": "2e81bd98-f98f-4d24-90e8-df19f427dd31"
      },
      "execution_count": null,
      "outputs": [
        {
          "output_type": "stream",
          "name": "stdout",
          "text": [
            "['synopsis.txt', 'synopsis_art.txt', 'synopsis_gen.txt', 'synopsis_etc.txt', 'synopsis_SF.txt', 'synopsis_comedy.txt', 'synopsis_mystery.txt', 'synopsis_historical.txt', 'synopsis_documentary.txt', 'synopsis_animation.txt', 'synopsis_action.txt', 'synopsis_western.txt', 'synopsis_crime.txt', 'synopsis_thriller.txt', 'synopsis_adult.txt', 'synopsis_drama.txt', 'synopsis_musical.txt', 'synopsis_fantasy.txt', 'synopsis_family.txt', 'synopsis_war.txt', 'synopsis_adventure.txt', 'synopsis_romance.txt', 'synopsis_show.txt', 'synopsis_horror.txt']\n"
          ]
        }
      ]
    },
    {
      "cell_type": "markdown",
      "source": [
        "[synopsis](https://d3s0tskafalll9.cloudfront.net/media/documents/synopsis.zip)"
      ],
      "metadata": {
        "id": "5-MW97ZU46Y8"
      }
    },
    {
      "cell_type": "markdown",
      "source": [
        "영화 구분과 장르 구분에 따라 시놉시스가 분류된다.\n",
        "<br/>KOBIS에서 제공한 정보를 기준으로 분류한다."
      ],
      "metadata": {
        "id": "aNIdJ-Hi46hD"
      }
    },
    {
      "cell_type": "markdown",
      "source": [
        "영화 구분 정보는 일반영화(gen), 예술영화(art)로 구분된 정보이다."
      ],
      "metadata": {
        "id": "DooEBKXN6bSw"
      }
    },
    {
      "cell_type": "markdown",
      "source": [
        "장르 구분 정보는 SF, 가족(family), 공연(sbow), 공포(horror), 기타(etc), 다큐멘터리(documentary), 드라마(drama), 멜로/로맨스(romance),\n",
        "<br/>뮤지컬(musical), 미스터리(mystery), 범죄(crime), 사극(historical), 서부극(western), 성인물(adult), 스릴러(thriller), \n",
        "<br/>애니메이션(animation), 액션(action), 어드벤처(adventure), 전쟁(war), 코미디(comedy), 판타지(fantasy)로 구분된 정보이다."
      ],
      "metadata": {
        "id": "DNAsETjJ6fkU"
      }
    },
    {
      "cell_type": "code",
      "source": [
        "with open('/content/drive/MyDrive/lms/weat_score/synopsis/synopsis.txt', 'r') as file:\n",
        "    for i in range(11):\n",
        "      print(file.readline(), end='')"
      ],
      "metadata": {
        "colab": {
          "base_uri": "https://localhost:8080/"
        },
        "id": "7FaoiR_-eS-j",
        "outputId": "386f2b65-cf37-44f5-9eac-e364aba8740e"
      },
      "execution_count": null,
      "outputs": [
        {
          "output_type": "stream",
          "name": "stdout",
          "text": [
            "사운드 엔지니어 상우(유지태 분)는 치매에 걸린 할머니(백성희 분)와\n",
            " 젊은 시절 상처한 한 아버지(박인환 분), 고모(신신애 분)와 함께 살고 있다.\n",
            " 어느 겨울 그는 지방 방송국 라디오 PD 은수(이영애 분)를 만난다.\n",
            " 자연의 소리를 채집해 틀어주는 라디오 프로그램을 준비하는 은수는 상우와 녹음 여행을 떠난다.\n",
            " 자연스레 가까워지는 두 사람은 어느 날, 은수의 아파트에서 밤을 보낸다.\n",
            " 너무 쉽게 사랑에 빠진 두 사람... 상우는 주체할 수 없을 정도로 그녀에게 빨려든다.\n",
            " 그러나 겨울에 만난 두 사람의 관계는 봄을 지나 여름을 맞이하면서 삐걱거린다.\n",
            " 이혼 경험이 있는 은수는 상우에게 결혼할 생각이 없다며 부담스러운 표정을 내비친다.\n",
            " \"어떻게 사랑이 변하니?...\"라고 묻는 상우에게 은수는 그저 \"헤어져\" 라고 단호하게 말한다.\n",
            " 영원히 변할 것 같지 않던 사랑이 변하고, 그 사실을 받아들이지 못하는 상우는 어찌 할 바를 모른다.\n",
            " 은수를 잊지 못하는 상우는 미련과 집착의 감정을 이기지 못하고 서울과 강릉을 오간다.\n"
          ]
        }
      ]
    },
    {
      "cell_type": "markdown",
      "source": [
        "#Word Embedding"
      ],
      "metadata": {
        "id": "ZNRh1JRp4NR1"
      }
    },
    {
      "cell_type": "markdown",
      "source": [
        "##Tokenizer"
      ],
      "metadata": {
        "id": "E0I2vvPK3UZE"
      }
    },
    {
      "cell_type": "code",
      "source": [
        "okt = Okt()"
      ],
      "metadata": {
        "id": "ytlNZTpNppKK"
      },
      "execution_count": null,
      "outputs": []
    },
    {
      "cell_type": "code",
      "source": [
        "tokenized = []\n",
        "with open('/content/drive/MyDrive/lms/weat_score/synopsis/synopsis.txt', 'r') as file:\n",
        "    while True:\n",
        "        line = file.readline()\n",
        "        if not line: break\n",
        "        words = okt.pos(line, stem=True, norm=True)\n",
        "        res = []\n",
        "        for w in words:\n",
        "            if w[1] in [\"Noun\"]:      # \"Noun\", \"Adjective\", \"Verb\" 등을 포함할 수도 있다.\n",
        "                res.append(w[0])    # 명사일 때만 tokenized에 저장한다. \n",
        "        tokenized.append(res)"
      ],
      "metadata": {
        "id": "qEqR1xSDpnXi"
      },
      "execution_count": null,
      "outputs": []
    },
    {
      "cell_type": "code",
      "source": [
        "print(len(tokenized))"
      ],
      "metadata": {
        "colab": {
          "base_uri": "https://localhost:8080/"
        },
        "id": "HIQsvu1gruzy",
        "outputId": "82411e75-4881-4f3f-c628-18bcbd2074f0"
      },
      "execution_count": null,
      "outputs": [
        {
          "output_type": "stream",
          "name": "stdout",
          "text": [
            "71156\n"
          ]
        }
      ]
    },
    {
      "cell_type": "markdown",
      "source": [
        "##Word2Vec"
      ],
      "metadata": {
        "id": "ZrghedfFa1HJ"
      }
    },
    {
      "cell_type": "code",
      "source": [
        "model = Word2Vec(tokenized, size=100, window=5, min_count=3, sg=0)  "
      ],
      "metadata": {
        "id": "qqU0U0TLrwpj"
      },
      "execution_count": null,
      "outputs": []
    },
    {
      "cell_type": "code",
      "source": [
        "model.wv.most_similar(positive=['영화'])"
      ],
      "metadata": {
        "colab": {
          "base_uri": "https://localhost:8080/"
        },
        "id": "EOKqIoni2vrF",
        "outputId": "275d3c2e-5321-42a7-b12e-3c43ec60502b"
      },
      "execution_count": null,
      "outputs": [
        {
          "output_type": "execute_result",
          "data": {
            "text/plain": [
              "[('작품', 0.9072275161743164),\n",
              " ('다큐멘터리', 0.8603159189224243),\n",
              " ('드라마', 0.8470381498336792),\n",
              " ('에마데딘', 0.8215174078941345),\n",
              " ('영화로', 0.8193426132202148),\n",
              " ('형식', 0.804463803768158),\n",
              " ('소재', 0.8009482026100159),\n",
              " ('코미디', 0.7889076471328735),\n",
              " ('감동', 0.7888327836990356),\n",
              " ('주제', 0.7881967425346375)]"
            ]
          },
          "metadata": {},
          "execution_count": 35
        }
      ]
    },
    {
      "cell_type": "code",
      "source": [
        "model.wv.most_similar(positive=['사랑'])"
      ],
      "metadata": {
        "colab": {
          "base_uri": "https://localhost:8080/"
        },
        "id": "RfP7MpjSsJGb",
        "outputId": "796640fe-bc67-4675-d8ce-6a8c5028b637"
      },
      "execution_count": null,
      "outputs": [
        {
          "output_type": "execute_result",
          "data": {
            "text/plain": [
              "[('만남', 0.7535564303398132),\n",
              " ('존경심', 0.735042929649353),\n",
              " ('애정', 0.7345134019851685),\n",
              " ('우정', 0.721521258354187),\n",
              " ('이별', 0.715362548828125),\n",
              " ('연애', 0.7145897150039673),\n",
              " ('첫사랑', 0.7127914428710938),\n",
              " ('고백', 0.7110415697097778),\n",
              " ('진심', 0.7083190679550171),\n",
              " ('행복', 0.7009942531585693)]"
            ]
          },
          "metadata": {},
          "execution_count": 36
        }
      ]
    },
    {
      "cell_type": "code",
      "source": [
        "model.wv.most_similar(positive=['연극'])"
      ],
      "metadata": {
        "colab": {
          "base_uri": "https://localhost:8080/"
        },
        "id": "QNssP5E5sJ6b",
        "outputId": "e4480d15-8a12-4d77-f08e-b1f4282ba546"
      },
      "execution_count": null,
      "outputs": [
        {
          "output_type": "execute_result",
          "data": {
            "text/plain": [
              "[('영감', 0.8993031978607178),\n",
              " ('영화로', 0.8857376575469971),\n",
              " ('시나리오', 0.8761259317398071),\n",
              " ('뮤지컬', 0.870364248752594),\n",
              " ('예술가', 0.8673529624938965),\n",
              " ('감성', 0.8654918670654297),\n",
              " ('거장', 0.864867627620697),\n",
              " ('예술', 0.8647466897964478),\n",
              " ('영화감독', 0.8640060424804688),\n",
              " ('비디오', 0.8638930320739746)]"
            ]
          },
          "metadata": {},
          "execution_count": 37
        }
      ]
    },
    {
      "cell_type": "markdown",
      "source": [
        "#Target-Attribute Word Set"
      ],
      "metadata": {
        "id": "FZPnooTya11g"
      }
    },
    {
      "cell_type": "markdown",
      "source": [
        "일반영화와 예술영화라는 영화구분을 Target으로 삼고\n",
        "<br/>모든 장르를 포함한 장르구분을 Attribute로 삼아 WEAT Score를 구한다.\n",
        "<br/>장르마다 편향성이 워드 임베딩 상에 얼마나 나타나고 있는지를 측정한다."
      ],
      "metadata": {
        "id": "zjdbYTjOEOdV"
      }
    },
    {
      "cell_type": "code",
      "source": [
        "def read_token(file_name):\n",
        "    okt = Okt()\n",
        "    result = []\n",
        "    with open('/content/drive/MyDrive/lms/weat_score/synopsis/'+file_name, 'r') as fread: \n",
        "        while True:\n",
        "            line = fread.readline() \n",
        "            if not line: break \n",
        "            tokenlist = okt.pos(line, stem=True, norm=True) \n",
        "            for word in tokenlist:\n",
        "                if word[1] in [\"Noun\"]: # \"Noun\", \"Adjective\", \"Verb\" 등을 포함할 수도 있다.\n",
        "                    result.append((word[0])) # 명사일 때만 tokenized에 저장한다. \n",
        "    return ' '.join(result)"
      ],
      "metadata": {
        "id": "FyD9v-2oG1N1"
      },
      "execution_count": null,
      "outputs": []
    },
    {
      "cell_type": "code",
      "source": [
        "art_txt = 'synopsis_art.txt'\n",
        "gen_txt = 'synopsis_gen.txt'"
      ],
      "metadata": {
        "id": "3oWR3e7aF05t"
      },
      "execution_count": null,
      "outputs": []
    },
    {
      "cell_type": "code",
      "source": [
        "art = read_token(art_txt)\n",
        "gen = read_token(gen_txt)"
      ],
      "metadata": {
        "id": "BpJ3BINIG3ZW"
      },
      "execution_count": null,
      "outputs": []
    },
    {
      "cell_type": "markdown",
      "source": [
        "WEAT 계산을 위해서는 총 4개의 단어 세트 X, Y, A, B가 필요하다.\n",
        "<br/>예를 들면 예술영화의 시놉시스 art_txt를 처리해서 만든 art라는 단어 리스트에서부터 예술영화라는 개념을 나타내는 단어를 골라낸다."
      ],
      "metadata": {
        "id": "sxJL_OPJMzCO"
      }
    },
    {
      "cell_type": "code",
      "source": [
        "vectorizer = TfidfVectorizer()\n",
        "X = vectorizer.fit_transform([art, gen])\n",
        "\n",
        "print(X.shape)"
      ],
      "metadata": {
        "id": "B47VLuR_JFWU",
        "colab": {
          "base_uri": "https://localhost:8080/"
        },
        "outputId": "d938918e-e351-404e-f4bc-2d027f203984"
      },
      "execution_count": null,
      "outputs": [
        {
          "output_type": "stream",
          "name": "stdout",
          "text": [
            "(2, 41082)\n"
          ]
        }
      ]
    },
    {
      "cell_type": "markdown",
      "source": [
        "단어 세트 구성을 위해 TF-IDF방식을 사용한다.\n",
        "<br/>코퍼스에서 자주 나타나는(TF가 높은) 단어이지만, 다른 코퍼스에까지 두루 걸쳐 나오지는 않는(IDF가 높은) 단어를 선정한다."
      ],
      "metadata": {
        "id": "1ERzdOwKMZy3"
      }
    },
    {
      "cell_type": "code",
      "source": [
        "print(vectorizer.vocabulary_['영화'])\n",
        "print(vectorizer.get_feature_names_out()[23976])"
      ],
      "metadata": {
        "id": "MDlrU_fTJIDm",
        "colab": {
          "base_uri": "https://localhost:8080/"
        },
        "outputId": "2510165a-4df8-46e9-c956-3030cf561940"
      },
      "execution_count": null,
      "outputs": [
        {
          "output_type": "stream",
          "name": "stdout",
          "text": [
            "23976\n",
            "영화\n"
          ]
        }
      ]
    },
    {
      "cell_type": "code",
      "source": [
        "m1 = X[0].tocoo()     \n",
        "m2 = X[1].tocoo()  \n",
        "\n",
        "w1 = [[i, j] for i, j in zip(m1.col, m1.data)]\n",
        "w2 = [[i, j] for i, j in zip(m2.col, m2.data)]\n",
        "\n",
        "w1.sort(key=lambda x: x[1], reverse=True)   \n",
        "w2.sort(key=lambda x: x[1], reverse=True)   \n",
        "\n",
        "print('예술영화')\n",
        "for i in range(100):\n",
        "    if i % 10 == 0 and i > 0:\n",
        "        print()\n",
        "    print(vectorizer.get_feature_names_out()[w1[i][0]], end=', ')\n",
        "\n",
        "print(\"\\n\\n\")\n",
        "    \n",
        "print('일반영화')\n",
        "for i in range(100):\n",
        "    if i % 10 == 0 and i > 0:\n",
        "        print()\n",
        "    print(vectorizer.get_feature_names_out()[w2[i][0]], end=', ')"
      ],
      "metadata": {
        "id": "tDOYh5SuPj-3",
        "colab": {
          "base_uri": "https://localhost:8080/"
        },
        "outputId": "634ca17b-6725-43d1-a661-b0f9bc79a54f"
      },
      "execution_count": null,
      "outputs": [
        {
          "output_type": "stream",
          "name": "stdout",
          "text": [
            "예술영화\n",
            "그녀, 자신, 시작, 위해, 사랑, 사람, 영화, 친구, 남자, 가족, \n",
            "이야기, 마을, 사건, 마음, 세상, 아버지, 아이, 엄마, 모든, 여자, \n",
            "대한, 서로, 과연, 다시, 시간, 아들, 소녀, 아내, 다른, 사이, \n",
            "영화제, 세계, 사실, 하나, 점점, 남편, 감독, 여행, 인생, 발견, \n",
            "모두, 순간, 우리, 가장, 마지막, 생활, 아빠, 모습, 통해, 죽음, \n",
            "기억, 비밀, 학교, 음악, 한편, 소년, 생각, 도시, 명의, 사고, \n",
            "결혼, 전쟁, 때문, 위기, 이제, 최고, 이자, 과거, 일상, 경찰, \n",
            "상황, 간다, 미국, 결심, 운명, 현실, 관계, 지금, 단편, 여인, \n",
            "하루, 이름, 이후, 준비, 인간, 감정, 만난, 국제, 처음, 충격, \n",
            "살인, 누구, 동안, 존재, 그린, 어머니, 연인, 계속, 동생, 작품, \n",
            "\n",
            "\n",
            "일반영화\n",
            "자신, 그녀, 영화제, 위해, 사람, 시작, 국제, 영화, 친구, 사랑, \n",
            "남자, 이야기, 대한, 서울, 여자, 사건, 남편, 아이, 가족, 아버지, \n",
            "다른, 마을, 시간, 엄마, 아들, 모든, 단편, 마음, 사실, 다시, \n",
            "세계, 모습, 작품, 통해, 생각, 서로, 세상, 발견, 감독, 아내, \n",
            "관계, 소녀, 사이, 하나, 우리, 애니메이션, 때문, 여성, 죽음, 과연, \n",
            "점점, 인간, 생활, 한편, 결혼, 상황, 모두, 기억, 명의, 소년, \n",
            "여행, 가장, 간다, 순간, 이제, 도시, 비밀, 학교, 과거, 가지, \n",
            "이자, 경찰, 마지막, 미국, 동안, 전쟁, 주인공, 대해, 존재, 현실, \n",
            "연출, 사고, 살인, 일상, 어머니, 계속, 사회, 인생, 다큐멘터리, 부문, \n",
            "섹스, 최고, 바로, 동생, 의도, 하루, 위기, 계획, 정체, 한국, "
          ]
        }
      ]
    },
    {
      "cell_type": "markdown",
      "source": [
        "<br/>"
      ],
      "metadata": {
        "id": "YE0-2cyv-TAq"
      }
    },
    {
      "cell_type": "markdown",
      "source": [
        "art, gen을 TF-IDF로 표현한 Sparse Matrix를 가져온다.\n",
        "<br>art, gen을 구성하는 단어를 TF-IDF가 높은 순으로 정렬한다. "
      ],
      "metadata": {
        "id": "v4GpurrHjD2P"
      }
    },
    {
      "cell_type": "markdown",
      "source": [
        "개념을 대표하는 단어를 TF-IDF가 높은 순으로 추출하고 싶었는데 양쪽에 중복된 단어가 너무 많은 것을 볼 수 있다.\n",
        "<br/>두 개념축이 대조되도록 대표하는 단어 세트를 구성하기 위해 단어가 서로 중복되지 않게 단어세트를 추출한다."
      ],
      "metadata": {
        "id": "7bMlRyDRPoen"
      }
    },
    {
      "cell_type": "code",
      "source": [
        "n = 15\n",
        "w1_, w2_ = [], []\n",
        "for i in range(100):\n",
        "    w1_.append(vectorizer.get_feature_names_out()[w1[i][0]])\n",
        "    w2_.append(vectorizer.get_feature_names_out()[w2[i][0]])\n",
        "\n",
        "\n",
        "target_art, target_gen = [], []\n",
        "for i in range(100):\n",
        "    if (w1_[i] not in w2_) and (w1_[i] in model.wv): target_art.append(w1_[i])\n",
        "    if len(target_art) == n: break \n",
        "\n",
        "for i in range(100):\n",
        "    if (w2_[i] not in w1_) and (w2_[i] in model.wv): target_gen.append(w2_[i])\n",
        "    if len(target_gen) == n: break"
      ],
      "metadata": {
        "id": "D152QEraPkr3"
      },
      "execution_count": null,
      "outputs": []
    },
    {
      "cell_type": "markdown",
      "source": [
        "상위 100개의 단어들 중 중복되는 단어를 제외하고 상위 n(15)개의 단어를 추출한다."
      ],
      "metadata": {
        "id": "PYhy-LQ2P2OW"
      }
    },
    {
      "cell_type": "code",
      "source": [
        "print(target_art)"
      ],
      "metadata": {
        "id": "DqpWyMNcP6pP",
        "colab": {
          "base_uri": "https://localhost:8080/"
        },
        "outputId": "5159b6e8-970f-4a89-dbec-f03e905122f6"
      },
      "execution_count": null,
      "outputs": [
        {
          "output_type": "stream",
          "name": "stdout",
          "text": [
            "['아빠', '음악', '결심', '운명', '지금', '여인', '이름', '이후', '준비', '감정', '만난', '처음', '충격', '누구', '그린']\n"
          ]
        }
      ]
    },
    {
      "cell_type": "markdown",
      "source": [
        "w1에 있고 w2에 없는 예술영화를 대표하는 단어를 15개 추출한다."
      ],
      "metadata": {
        "id": "huWullUScR8B"
      }
    },
    {
      "cell_type": "code",
      "source": [
        "print(target_gen)"
      ],
      "metadata": {
        "id": "KF_gI3X9P65F",
        "colab": {
          "base_uri": "https://localhost:8080/"
        },
        "outputId": "5a134a6c-ce38-44dc-8f85-2d287190041c"
      },
      "execution_count": null,
      "outputs": [
        {
          "output_type": "stream",
          "name": "stdout",
          "text": [
            "['서울', '애니메이션', '여성', '가지', '주인공', '대해', '연출', '사회', '다큐멘터리', '부문', '섹스', '바로', '의도', '계획', '정체']\n"
          ]
        }
      ]
    },
    {
      "cell_type": "markdown",
      "source": [
        "w2에 있고 w1에 없는 일반영화를 대표하는 단어를 15개 추출한다."
      ],
      "metadata": {
        "id": "77-jTqzlcWan"
      }
    },
    {
      "cell_type": "code",
      "source": [
        "file_txt = os.listdir('/content/drive/MyDrive/lms/weat_score/synopsis')\n",
        "genre_txt = [ x for x in file_txt if x != 'synopsis.txt' if x != 'synopsis_art.txt' if x != 'synopsis_gen.txt']\n",
        "genre_txt =  sorted(genre_txt)\n",
        "genre_name = ['SF', '액션', '성인물(에로)', '어드벤처', '애니메이션', '코미디', '범죄',\n",
        "              '다큐멘터리', '드라마', '기타', '가족', '판타지', '사극', '공포(호러)',\n",
        "              '뮤지컬', '미스터리', '멜로로맨스', '공연', '스릴러', '전쟁', '서부극(웨스턴)']"
      ],
      "metadata": {
        "id": "6fmpsejMHORO"
      },
      "execution_count": null,
      "outputs": []
    },
    {
      "cell_type": "code",
      "source": [
        "genre = []\n",
        "for file_name in genre_txt:\n",
        "    genre.append(read_token(file_name))"
      ],
      "metadata": {
        "id": "asi2UOVSMCM-"
      },
      "execution_count": null,
      "outputs": []
    },
    {
      "cell_type": "code",
      "source": [
        "vectorizer = TfidfVectorizer()\n",
        "X = vectorizer.fit_transform(genre)\n",
        "\n",
        "print(X.shape)"
      ],
      "metadata": {
        "colab": {
          "base_uri": "https://localhost:8080/"
        },
        "id": "f4Is62AGoqHm",
        "outputId": "80fdf364-dbb5-4ba4-9f93-54056d97df03"
      },
      "execution_count": null,
      "outputs": [
        {
          "output_type": "stream",
          "name": "stdout",
          "text": [
            "(21, 42191)\n"
          ]
        }
      ]
    },
    {
      "cell_type": "code",
      "source": [
        "m = [X[i].tocoo() for i in range(X.shape[0])]\n",
        "\n",
        "w = [[[i, j] for i, j in zip(mm.col, mm.data)] for mm in m]\n",
        "\n",
        "for i in range(len(w)):\n",
        "    w[i].sort(key=lambda x: x[1], reverse=True)\n",
        "attributes = []\n",
        "for i in range(len(w)):\n",
        "    print(genre_name[i])\n",
        "    attr = []\n",
        "    j = 0\n",
        "    while (len(attr) < 15):\n",
        "        if vectorizer.get_feature_names_out()[w[i][j][0]] in model.wv:\n",
        "            attr.append(vectorizer.get_feature_names_out()[w[i][j][0]])\n",
        "            print(vectorizer.get_feature_names_out()[w[i][j][0]], end=', ')\n",
        "        j += 1\n",
        "    attributes.append(attr)\n",
        "    print(\"\\n\")"
      ],
      "metadata": {
        "id": "x1pGelYzTT03",
        "colab": {
          "base_uri": "https://localhost:8080/"
        },
        "outputId": "7af078a5-6642-4b5f-9048-e37806e6517f"
      },
      "execution_count": null,
      "outputs": [
        {
          "output_type": "stream",
          "name": "stdout",
          "text": [
            "SF\n",
            "위해, 자신, 지구, 시작, 사람, 인류, 인간, 미래, 우주, 그녀, 로봇, 세계, 모든, 박사, 우주선, \n",
            "\n",
            "액션\n",
            "위해, 자신, 시작, 조직, 사건, 사람, 그녀, 경찰, 전쟁, 모든, 목숨, 사실, 친구, 가족, 요원, \n",
            "\n",
            "성인물(에로)\n",
            "그녀, 남편, 마사지, 자신, 섹스, 관계, 영화, 정사, 남자, 위해, 시작, 여자, 유부녀, 마음, 사랑, \n",
            "\n",
            "어드벤처\n",
            "위해, 자신, 시작, 친구, 마을, 아버지, 영화, 아이, 사람, 여행, 세계, 앤트, 세상, 가족, 모험, \n",
            "\n",
            "애니메이션\n",
            "애니메이션, 국제, 영화제, 친구, 인디애니페스트, 위해, 자신, 시작, 사람, 페스티벌, 서울, 이야기, 아이, 마을, 소녀, \n",
            "\n",
            "코미디\n",
            "그녀, 자신, 시작, 위해, 사랑, 사람, 친구, 영화, 남자, 여자, 영화제, 가족, 과연, 마을, 사건, \n",
            "\n",
            "범죄\n",
            "사건, 위해, 자신, 경찰, 시작, 그녀, 범죄, 조직, 살인, 사람, 마약, 형사, 남자, 모든, 살해, \n",
            "\n",
            "다큐멘터리\n",
            "영화제, 영화, 다큐, 국제, 다큐멘터리, 사람, 이야기, 대한, 자신, 감독, 위해, 서울, 우리, 시작, 세계, \n",
            "\n",
            "드라마\n",
            "자신, 영화제, 그녀, 사람, 사랑, 영화, 위해, 시작, 국제, 남자, 친구, 이야기, 엄마, 여자, 아버지, \n",
            "\n",
            "기타\n",
            "영화제, 국제, 서울, 단편, 영화, 자신, 사람, 이야기, 그녀, 남자, 위해, 시작, 사랑, 뉴미디어, 페스티벌, \n",
            "\n",
            "가족\n",
            "엄마, 아빠, 가족, 영화제, 자신, 위해, 친구, 아주르, 아버지, 시작, 그녀, 아들, 마을, 국제, 낙타, \n",
            "\n",
            "판타지\n",
            "자신, 그녀, 시작, 위해, 사람, 사랑, 요괴, 영화제, 이야기, 영화, 소녀, 남자, 인간, 세상, 마을, \n",
            "\n",
            "사극\n",
            "조선, 위해, 시작, 신기전, 사랑, 자신, 아가멤논, 황제, 그녀, 루안, 최고, 운명, 사람, 하선, 전쟁, \n",
            "\n",
            "공포(호러)\n",
            "시작, 위해, 사람, 자신, 친구, 그녀, 사건, 공포, 발견, 죽음, 마을, 가족, 악령, 남자, 좀비, \n",
            "\n",
            "뮤지컬\n",
            "뮤지컬, 사랑, 에스메랄다, 그녀, 음악, 충무로, 모차르트, 영화, 토스카, 자신, 니웨, 카바, 영화제, 바흐, 페뷔스, \n",
            "\n",
            "미스터리\n",
            "사건, 그녀, 시작, 자신, 위해, 사람, 발견, 사고, 진실, 죽음, 기억, 살인, 친구, 아내, 남자, \n",
            "\n",
            "멜로로맨스\n",
            "그녀, 사랑, 자신, 시작, 남편, 남자, 여자, 사람, 친구, 섹스, 위해, 마음, 결혼, 서로, 아내, \n",
            "\n",
            "공연\n",
            "오페라, 사랑, 토스카, 실황, 올레, 자신, 카바, 그녀, 공연, 오텔로, 리골레토, 백작, 프레, 베르디, 위해, \n",
            "\n",
            "스릴러\n",
            "자신, 그녀, 사건, 시작, 위해, 사람, 살인, 남자, 발견, 아내, 경찰, 친구, 모든, 사실, 살해, \n",
            "\n",
            "전쟁\n",
            "전쟁, 독일군, 전투, 위해, 작전, 시작, 부대, 윈터스, 독일, 연합군, 미군, 임무, 자신, 사람, 나치, \n",
            "\n",
            "서부극(웨스턴)\n",
            "서부, 보안관, 위해, 벌린, 카우보이, 그레이프바인, 헨리, 마을, 자신, 개릿, 아이, 시작, 무법자, 프린트, 태구, \n",
            "\n"
          ]
        }
      ]
    },
    {
      "cell_type": "markdown",
      "source": [
        "<br/>"
      ],
      "metadata": {
        "id": "YtU9eT_b-VZx"
      }
    },
    {
      "cell_type": "markdown",
      "source": [
        "각 장르를 대표하는 단어들을 추출한다.\n",
        "<br/>중복된 것이 종종 있지만 art, gen 두 개의 단어 셋을 추출했을 때에 비해 적다.\n",
        "<br/>따라서 중복을 체크해서 삭제하기보다 그대로 사용한다."
      ],
      "metadata": {
        "id": "4Gc6pYndThnX"
      }
    },
    {
      "cell_type": "markdown",
      "source": [
        "#WEAT(Word Embedding Association Test)"
      ],
      "metadata": {
        "id": "waVfSTT9bHDx"
      }
    },
    {
      "cell_type": "code",
      "source": [
        "def cos_sim(i, j):\n",
        "    return dot(i, j.T)/(norm(i)*norm(j))"
      ],
      "metadata": {
        "id": "buNkdYO_mRRV"
      },
      "execution_count": null,
      "outputs": []
    },
    {
      "cell_type": "code",
      "source": [
        "def s(w, A, B):\n",
        "    c_a = cos_sim(w, A)\n",
        "    c_b = cos_sim(w, B)\n",
        "\n",
        "    mean_A = np.mean(c_a, axis=-1)\n",
        "    mean_B = np.mean(c_b, axis=-1)\n",
        "    return mean_A - mean_B #, c_a, c_b"
      ],
      "metadata": {
        "id": "P50ae9E0mRbm"
      },
      "execution_count": null,
      "outputs": []
    },
    {
      "cell_type": "code",
      "source": [
        "def weat_score(X, Y, A, B):\n",
        "\n",
        "    s_X = s(X, A, B)\n",
        "    s_Y = s(Y, A, B)\n",
        "\n",
        "    mean_X = np.mean(s_X)\n",
        "    mean_Y = np.mean(s_Y)\n",
        "    \n",
        "    std_dev = np.std(np.concatenate([s_X, s_Y], axis=0))\n",
        "    \n",
        "    return  (mean_X-mean_Y)/std_dev"
      ],
      "metadata": {
        "id": "Jg3kyskkmReU"
      },
      "execution_count": null,
      "outputs": []
    },
    {
      "cell_type": "code",
      "source": [
        "matrix = [[0 for _ in range(len(genre_name))] for _ in range(len(genre_name))]"
      ],
      "metadata": {
        "id": "1bIq7AH1TrR_"
      },
      "execution_count": null,
      "outputs": []
    },
    {
      "cell_type": "code",
      "source": [
        "X = np.array([model.wv[word] for word in target_art])\n",
        "Y = np.array([model.wv[word] for word in target_gen])\n",
        "\n",
        "for i in range(len(genre_name)-1):\n",
        "    for j in range(i+1, len(genre_name)):\n",
        "        A = np.array([model.wv[word] for word in attributes[i]])\n",
        "        B = np.array([model.wv[word] for word in attributes[j]])\n",
        "        matrix[i][j] = weat_score(X, Y, A, B)"
      ],
      "metadata": {
        "id": "XN5Aa9TYT2X3"
      },
      "execution_count": null,
      "outputs": []
    },
    {
      "cell_type": "code",
      "source": [
        "for i in range(len(genre_name)-1):\n",
        "    for j in range(i+1, len(genre_name)):\n",
        "      if j == i+1:\n",
        "        print(genre_name[i])\n",
        "      elif j % 7 == 0:\n",
        "        print()\n",
        "      print(genre_name[j], round(matrix[i][j], 2), end = '     ')\n",
        "    print(\"\\n\\n\")"
      ],
      "metadata": {
        "id": "3ZjFp772T-HX",
        "colab": {
          "base_uri": "https://localhost:8080/"
        },
        "outputId": "18d5ea7d-c074-4241-b851-c0d9c86cee04"
      },
      "execution_count": null,
      "outputs": [
        {
          "output_type": "stream",
          "name": "stdout",
          "text": [
            "SF\n",
            "액션 -0.47     성인물(에로) -0.61     어드벤처 -0.82     애니메이션 0.36     코미디 -0.49     범죄 -0.21     \n",
            "다큐멘터리 0.59     드라마 -0.4     기타 0.36     가족 -0.54     판타지 -0.23     사극 -0.86     공포(호러) -0.71     \n",
            "뮤지컬 0.33     미스터리 -0.69     멜로로맨스 -0.81     공연 -0.4     스릴러 -0.52     전쟁 0.3     서부극(웨스턴) -0.41     \n",
            "\n",
            "\n",
            "액션\n",
            "성인물(에로) -0.44     어드벤처 -0.18     애니메이션 0.49     코미디 0.01     범죄 0.41     \n",
            "다큐멘터리 0.6     드라마 0.01     기타 0.49     가족 -0.15     판타지 0.2     사극 -0.23     공포(호러) -0.62     \n",
            "뮤지컬 0.46     미스터리 -0.78     멜로로맨스 -0.77     공연 0.0     스릴러 -0.51     전쟁 0.59     서부극(웨스턴) 0.08     \n",
            "\n",
            "\n",
            "성인물(에로)\n",
            "어드벤처 0.32     애니메이션 0.77     코미디 0.62     범죄 0.56     \n",
            "다큐멘터리 0.83     드라마 0.61     기타 0.83     가족 0.33     판타지 0.65     사극 0.37     공포(호러) 0.25     \n",
            "뮤지컬 0.8     미스터리 0.09     멜로로맨스 -0.87     공연 0.5     스릴러 0.28     전쟁 0.65     서부극(웨스턴) 0.48     \n",
            "\n",
            "\n",
            "어드벤처\n",
            "애니메이션 0.92     코미디 0.38     범죄 0.28     \n",
            "다큐멘터리 0.97     드라마 0.33     기타 0.87     가족 0.02     판타지 0.79     사극 -0.02     공포(호러) -0.17     \n",
            "뮤지컬 0.83     미스터리 -0.28     멜로로맨스 -0.6     공연 0.24     스릴러 -0.09     전쟁 0.77     서부극(웨스턴) 0.42     \n",
            "\n",
            "\n",
            "애니메이션\n",
            "코미디 -0.74     범죄 -0.36     \n",
            "다큐멘터리 0.53     드라마 -0.87     기타 0.1     가족 -0.89     판타지 -0.71     사극 -0.82     공포(호러) -0.67     \n",
            "뮤지컬 -0.02     미스터리 -0.66     멜로로맨스 -0.87     공연 -0.92     스릴러 -0.56     전쟁 -0.19     서부극(웨스턴) -0.7     \n",
            "\n",
            "\n",
            "코미디\n",
            "범죄 0.16     \n",
            "다큐멘터리 0.82     드라마 0.02     기타 0.77     가족 -0.23     판타지 0.51     사극 -0.41     공포(호러) -0.45     \n",
            "뮤지컬 0.71     미스터리 -0.51     멜로로맨스 -0.9     공연 -0.01     스릴러 -0.29     전쟁 0.57     서부극(웨스턴) 0.1     \n",
            "\n",
            "\n",
            "범죄\n",
            "다큐멘터리 0.48     드라마 -0.12     기타 0.37     가족 -0.26     판타지 0.05     사극 -0.35     공포(호러) -0.75     \n",
            "뮤지컬 0.34     미스터리 -1.01     멜로로맨스 -0.88     공연 -0.13     스릴러 -0.98     전쟁 0.38     서부극(웨스턴) -0.1     \n",
            "\n",
            "\n",
            "다큐멘터리\n",
            "드라마 -0.92     기타 -0.57     가족 -0.85     판타지 -0.91     사극 -0.89     공포(호러) -0.75     \n",
            "뮤지컬 -0.73     미스터리 -0.74     멜로로맨스 -0.89     공연 -0.92     스릴러 -0.65     전쟁 -0.41     서부극(웨스턴) -0.73     \n",
            "\n",
            "\n",
            "드라마\n",
            "기타 0.92     가족 -0.24     판타지 0.54     사극 -0.31     공포(호러) -0.32     \n",
            "뮤지컬 0.86     미스터리 -0.4     멜로로맨스 -0.83     공연 -0.02     스릴러 -0.22     전쟁 0.52     서부극(웨스턴) 0.07     \n",
            "\n",
            "\n",
            "기타\n",
            "가족 -0.81     판타지 -0.76     사극 -0.84     공포(호러) -0.67     \n",
            "뮤지컬 -0.18     미스터리 -0.67     멜로로맨스 -0.9     공연 -0.96     스릴러 -0.57     전쟁 -0.2     서부극(웨스턴) -0.65     \n",
            "\n",
            "\n",
            "가족\n",
            "판타지 0.45     사극 -0.03     공포(호러) -0.15     \n",
            "뮤지컬 0.75     미스터리 -0.27     멜로로맨스 -0.62     공연 0.22     스릴러 -0.1     전쟁 0.72     서부극(웨스턴) 0.53     \n",
            "\n",
            "\n",
            "판타지\n",
            "사극 -0.62     공포(호러) -0.53     \n",
            "뮤지컬 0.7     미스터리 -0.55     멜로로맨스 -0.83     공연 -0.33     스릴러 -0.37     전쟁 0.35     서부극(웨스턴) -0.21     \n",
            "\n",
            "\n",
            "사극\n",
            "공포(호러) -0.16     \n",
            "뮤지컬 0.8     미스터리 -0.29     멜로로맨스 -0.67     공연 0.32     스릴러 -0.09     전쟁 0.92     서부극(웨스턴) 0.43     \n",
            "\n",
            "\n",
            "공포(호러)\n",
            "뮤지컬 0.63     미스터리 -0.48     멜로로맨스 -0.65     공연 0.25     스릴러 0.08     전쟁 0.7     서부극(웨스턴) 0.42     \n",
            "\n",
            "\n",
            "뮤지컬\n",
            "미스터리 -0.64     멜로로맨스 -0.87     공연 -0.92     스릴러 -0.54     전쟁 -0.16     서부극(웨스턴) -0.59     \n",
            "\n",
            "\n",
            "미스터리\n",
            "멜로로맨스 -0.51     공연 0.33     스릴러 0.74     전쟁 0.7     서부극(웨스턴) 0.47     \n",
            "\n",
            "\n",
            "멜로로맨스\n",
            "공연 0.7     스릴러 0.71     전쟁 0.82     서부극(웨스턴) 0.74     \n",
            "\n",
            "\n",
            "공연\n",
            "스릴러 -0.19     전쟁 0.66     서부극(웨스턴) 0.1     \n",
            "\n",
            "\n",
            "스릴러\n",
            "전쟁 0.6     서부극(웨스턴) 0.31     \n",
            "\n",
            "\n",
            "전쟁\n",
            "서부극(웨스턴) -0.73     \n",
            "\n",
            "\n"
          ]
        }
      ]
    },
    {
      "cell_type": "markdown",
      "source": [
        "영화 구분,장르에 따른 편향성을 측정하여 WEAT Score로 계산한다. "
      ],
      "metadata": {
        "id": "iO0HQys6bJGh"
      }
    },
    {
      "cell_type": "markdown",
      "source": [
        "WEAT Score가 0.8 이상, -0.8 이하의 경우만 해석해 보면 아래와 같다.\n",
        "\n",
        "<br/>예술영화와 일반영화, 그리고 드라마와 멜로로맨스의 WEAT Score의 의미를 해석해보면\n",
        "<br/>예술영화는 멜로로맨스, 일반영화는 드라마와 가깝다고 볼 수 있다.\n",
        "<br/>부호가 마이너스이므로 사람의 편향과 반대라는 것을 알 수 있다.\n",
        "\n",
        "<br/>예술영화와 일반영화, 그리고 멜로로맨스와 코미디의 WEAT Score의 의미를 해석해보면\n",
        "<br/>예술 영화는 멜로로맨스와 가깝고, 코디미는 일반 영화와 가깝다고 볼 수 있다.\n",
        "<br/>예술영화와 일반영화, 그리고 멜로로맨스와 전쟁의 WEAT Score의 의미를 해석해보면 예술 영화는 멜로로맨스와 가깝고, 전쟁은 일반 영화와 가깝다고 볼 수 있다."
      ],
      "metadata": {
        "id": "uzAm3XrrUCk3"
      }
    },
    {
      "cell_type": "code",
      "source": [
        "!sudo apt-get install -y fonts-nanum\n",
        "!sudo fc-cache -fv\n",
        "!rm ~/.cache/matplotlib -rf"
      ],
      "metadata": {
        "id": "TXiSzDVf4jYf"
      },
      "execution_count": null,
      "outputs": []
    },
    {
      "cell_type": "markdown",
      "source": [
        "한글 폰트를 설치한다.\n",
        "<br/>혹시 깨짐현상이 발생하는 경우 런타임을 다시 시작하고 seaborn 모듈을 실행하면 한글이 출력된다."
      ],
      "metadata": {
        "id": "C4RGBvTcF4Ig"
      }
    },
    {
      "cell_type": "code",
      "source": [
        "font_list = [font.name for font in fm.fontManager.ttflist]\n",
        "font_list"
      ],
      "metadata": {
        "id": "lpLoXnX1pAal"
      },
      "execution_count": null,
      "outputs": []
    },
    {
      "cell_type": "markdown",
      "source": [
        "Google Colab에 한글 폰트가 설치되어 있는지 확인한다."
      ],
      "metadata": {
        "id": "y_iADmsaGEke"
      }
    },
    {
      "cell_type": "code",
      "source": [
        "np.random.seed(0)\n",
        "\n",
        "sns.set(font='NanumGothic')\n",
        "plt.rcParams['axes.unicode_minus'] = False\n",
        "plt.rcParams['figure.figsize'] = (18, 16)\n",
        "ax = sns.heatmap(matrix, xticklabels=genre_name, yticklabels=genre_name, annot=True,  cmap='RdYlGn_r', annot_kws={'size': 14})\n",
        "ticks = ax.set_xticklabels(ax.get_xticklabels(), rotation=90)"
      ],
      "metadata": {
        "colab": {
          "base_uri": "https://localhost:8080/",
          "height": 693
        },
        "id": "7GTqGm0UDxx3",
        "outputId": "b21d3453-0991-4220-df38-cdaed6f5f63d"
      },
      "execution_count": null,
      "outputs": [
        {
          "output_type": "display_data",
          "data": {
            "text/plain": [
              "<Figure size 1296x1152 with 2 Axes>"
            ],
            "image/png": "[encoded data removed]"
          },
          "metadata": {}
        }
      ]
    },
    {
      "cell_type": "markdown",
      "source": [
        "<br/>"
      ],
      "metadata": {
        "id": "Dk2-6wkb-ZpC"
      }
    },
    {
      "cell_type": "markdown",
      "source": [
        "WEAT Score를 Heatmap 형태로 시각화한다.\n",
        "<br/>편향성이 두드러지는 영화장르 attribute 구성에는 어떤 케이스가 있는지 시각적으로 두드러지게 구성한다."
      ],
      "metadata": {
        "id": "u96gBUDhTzC3"
      }
    },
    {
      "cell_type": "markdown",
      "source": [
        "#결론"
      ],
      "metadata": {
        "id": "g7bpyK3pbOtB"
      }
    },
    {
      "cell_type": "markdown",
      "source": [
        ""
      ],
      "metadata": {
        "id": "wj1SklMbaenB"
      }
    },
    {
      "cell_type": "markdown",
      "source": [
        "#참고문헌"
      ],
      "metadata": {
        "id": "eerYvbUJbVxp"
      }
    },
    {
      "cell_type": "markdown",
      "source": [
        "<br/>**LMS**\n",
        "<br/>yjseraphina89\n",
        "\n",
        "<br/>**공식 사이트**\n",
        "<br/>[KOBIS(영화관입장권통합전산망) 영화정보](https://www.kobis.or.kr/kobis/business/mast/mvie/searchMovieList.do)\n",
        "\n",
        "<br/>**깃허브**\n",
        "<br/>[(G6)WEAT Project.ipynb](https://github.com/Jeongeun-Kwak/GD/blob/master/(G6)%20WEAT%20Project.ipynb)\n",
        "<br/>[GoingDeeper NLP 06 임베딩 내 편향성 알아보기_프로젝트](https://piaojian.tistory.com/37)\n",
        "\n",
        "<br/>**웹사이트**\n",
        "<br/>[구글 코랩(colab) 한글 깨짐 현상 해결방법](https://teddylee777.github.io/colab/colab-korean)\n",
        "<br/>[Hide text before seaborn barplot duplicate](https://stackoverflow.com/questions/57165540/hide-text-before-seaborn-barplot)\n",
        "\n",
        "<br/>**공부**\n",
        "<br/>[Python 영화진흥위원회 상영관 데이터 웹크롤링](https://littleworks.tistory.com/3)\n",
        "<br/>[python 크롤링 및 개인프로젝트 시작](https://angehende-ingenieur.tistory.com/180)\n",
        "<br/>[KOFIC(영화진흥위원회) 영화상세정보 조회 API 서비스](https://www.kobis.or.kr/kobisopenapi/homepg/apiservice/searchServiceInfo.do)\n",
        "<br/>[파이썬으로 영화오픈API파싱](https://yeowool0217.tistory.com/550)\n",
        "<br/>[영화진흥위원회 오픈API 사용하는 방법 + csv 추출](https://fjdkslvn.tistory.com/27)"
      ],
      "metadata": {
        "id": "QmNDIDRy6XMW"
      }
    }
  ]
}