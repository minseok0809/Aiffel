{
  "nbformat": 4,
  "nbformat_minor": 0,
  "metadata": {
    "colab": {
      "name": "[GD_12]BLUEScore_Lexical Substitution_Chatbot.ipynb",
      "provenance": [],
      "collapsed_sections": [],
      "machine_shape": "hm",
      "toc_visible": true
    },
    "kernelspec": {
      "name": "python3",
      "display_name": "Python 3"
    },
    "language_info": {
      "name": "python"
    },
    "accelerator": "GPU",
    "gpuClass": "standard",
    "widgets": {
      "application/vnd.jupyter.widget-state+json": {
        "3cb36072f1d44f15bf36c90ef71767fb": {
          "model_module": "@jupyter-widgets/controls",
          "model_name": "HBoxModel",
          "model_module_version": "1.5.0",
          "state": {
            "_dom_classes": [],
            "_model_module": "@jupyter-widgets/controls",
            "_model_module_version": "1.5.0",
            "_model_name": "HBoxModel",
            "_view_count": null,
            "_view_module": "@jupyter-widgets/controls",
            "_view_module_version": "1.5.0",
            "_view_name": "HBoxView",
            "box_style": "",
            "children": [
              "IPY_MODEL_daf2d8c607394b66a0ee11ead64cee65",
              "IPY_MODEL_8d1dbf3c7c0a41f5a7a7a6f476d21963",
              "IPY_MODEL_6b3258ba574840cfbc4792f17abb82d9"
            ],
            "layout": "IPY_MODEL_06d9a3efdc0441cfb93fa44b103c1a6f"
          }
        },
        "daf2d8c607394b66a0ee11ead64cee65": {
          "model_module": "@jupyter-widgets/controls",
          "model_name": "HTMLModel",
          "model_module_version": "1.5.0",
          "state": {
            "_dom_classes": [],
            "_model_module": "@jupyter-widgets/controls",
            "_model_module_version": "1.5.0",
            "_model_name": "HTMLModel",
            "_view_count": null,
            "_view_module": "@jupyter-widgets/controls",
            "_view_module_version": "1.5.0",
            "_view_name": "HTMLView",
            "description": "",
            "description_tooltip": null,
            "layout": "IPY_MODEL_93ff368867a043d3bb33d5c852bb5e3d",
            "placeholder": "​",
            "style": "IPY_MODEL_fb375eb265db4d2dbd17f531b6e6dd56",
            "value": "100%"
          }
        },
        "8d1dbf3c7c0a41f5a7a7a6f476d21963": {
          "model_module": "@jupyter-widgets/controls",
          "model_name": "FloatProgressModel",
          "model_module_version": "1.5.0",
          "state": {
            "_dom_classes": [],
            "_model_module": "@jupyter-widgets/controls",
            "_model_module_version": "1.5.0",
            "_model_name": "FloatProgressModel",
            "_view_count": null,
            "_view_module": "@jupyter-widgets/controls",
            "_view_module_version": "1.5.0",
            "_view_name": "ProgressView",
            "bar_style": "success",
            "description": "",
            "description_tooltip": null,
            "layout": "IPY_MODEL_e4bcb03d86a843ecacdf954547251109",
            "max": 7612,
            "min": 0,
            "orientation": "horizontal",
            "style": "IPY_MODEL_f3984a0e827b446bbfa3aa7ce31cab4d",
            "value": 7612
          }
        },
        "6b3258ba574840cfbc4792f17abb82d9": {
          "model_module": "@jupyter-widgets/controls",
          "model_name": "HTMLModel",
          "model_module_version": "1.5.0",
          "state": {
            "_dom_classes": [],
            "_model_module": "@jupyter-widgets/controls",
            "_model_module_version": "1.5.0",
            "_model_name": "HTMLModel",
            "_view_count": null,
            "_view_module": "@jupyter-widgets/controls",
            "_view_module_version": "1.5.0",
            "_view_name": "HTMLView",
            "description": "",
            "description_tooltip": null,
            "layout": "IPY_MODEL_9562d4d1b3c8486c850370593100c940",
            "placeholder": "​",
            "style": "IPY_MODEL_bb934cc8f22040b99d5d091ddd34a392",
            "value": " 7612/7612 [00:15&lt;00:00, 477.82it/s]"
          }
        },
        "06d9a3efdc0441cfb93fa44b103c1a6f": {
          "model_module": "@jupyter-widgets/base",
          "model_name": "LayoutModel",
          "model_module_version": "1.2.0",
          "state": {
            "_model_module": "@jupyter-widgets/base",
            "_model_module_version": "1.2.0",
            "_model_name": "LayoutModel",
            "_view_count": null,
            "_view_module": "@jupyter-widgets/base",
            "_view_module_version": "1.2.0",
            "_view_name": "LayoutView",
            "align_content": null,
            "align_items": null,
            "align_self": null,
            "border": null,
            "bottom": null,
            "display": null,
            "flex": null,
            "flex_flow": null,
            "grid_area": null,
            "grid_auto_columns": null,
            "grid_auto_flow": null,
            "grid_auto_rows": null,
            "grid_column": null,
            "grid_gap": null,
            "grid_row": null,
            "grid_template_areas": null,
            "grid_template_columns": null,
            "grid_template_rows": null,
            "height": null,
            "justify_content": null,
            "justify_items": null,
            "left": null,
            "margin": null,
            "max_height": null,
            "max_width": null,
            "min_height": null,
            "min_width": null,
            "object_fit": null,
            "object_position": null,
            "order": null,
            "overflow": null,
            "overflow_x": null,
            "overflow_y": null,
            "padding": null,
            "right": null,
            "top": null,
            "visibility": null,
            "width": null
          }
        },
        "93ff368867a043d3bb33d5c852bb5e3d": {
          "model_module": "@jupyter-widgets/base",
          "model_name": "LayoutModel",
          "model_module_version": "1.2.0",
          "state": {
            "_model_module": "@jupyter-widgets/base",
            "_model_module_version": "1.2.0",
            "_model_name": "LayoutModel",
            "_view_count": null,
            "_view_module": "@jupyter-widgets/base",
            "_view_module_version": "1.2.0",
            "_view_name": "LayoutView",
            "align_content": null,
            "align_items": null,
            "align_self": null,
            "border": null,
            "bottom": null,
            "display": null,
            "flex": null,
            "flex_flow": null,
            "grid_area": null,
            "grid_auto_columns": null,
            "grid_auto_flow": null,
            "grid_auto_rows": null,
            "grid_column": null,
            "grid_gap": null,
            "grid_row": null,
            "grid_template_areas": null,
            "grid_template_columns": null,
            "grid_template_rows": null,
            "height": null,
            "justify_content": null,
            "justify_items": null,
            "left": null,
            "margin": null,
            "max_height": null,
            "max_width": null,
            "min_height": null,
            "min_width": null,
            "object_fit": null,
            "object_position": null,
            "order": null,
            "overflow": null,
            "overflow_x": null,
            "overflow_y": null,
            "padding": null,
            "right": null,
            "top": null,
            "visibility": null,
            "width": null
          }
        },
        "fb375eb265db4d2dbd17f531b6e6dd56": {
          "model_module": "@jupyter-widgets/controls",
          "model_name": "DescriptionStyleModel",
          "model_module_version": "1.5.0",
          "state": {
            "_model_module": "@jupyter-widgets/controls",
            "_model_module_version": "1.5.0",
            "_model_name": "DescriptionStyleModel",
            "_view_count": null,
            "_view_module": "@jupyter-widgets/base",
            "_view_module_version": "1.2.0",
            "_view_name": "StyleView",
            "description_width": ""
          }
        },
        "e4bcb03d86a843ecacdf954547251109": {
          "model_module": "@jupyter-widgets/base",
          "model_name": "LayoutModel",
          "model_module_version": "1.2.0",
          "state": {
            "_model_module": "@jupyter-widgets/base",
            "_model_module_version": "1.2.0",
            "_model_name": "LayoutModel",
            "_view_count": null,
            "_view_module": "@jupyter-widgets/base",
            "_view_module_version": "1.2.0",
            "_view_name": "LayoutView",
            "align_content": null,
            "align_items": null,
            "align_self": null,
            "border": null,
            "bottom": null,
            "display": null,
            "flex": null,
            "flex_flow": null,
            "grid_area": null,
            "grid_auto_columns": null,
            "grid_auto_flow": null,
            "grid_auto_rows": null,
            "grid_column": null,
            "grid_gap": null,
            "grid_row": null,
            "grid_template_areas": null,
            "grid_template_columns": null,
            "grid_template_rows": null,
            "height": null,
            "justify_content": null,
            "justify_items": null,
            "left": null,
            "margin": null,
            "max_height": null,
            "max_width": null,
            "min_height": null,
            "min_width": null,
            "object_fit": null,
            "object_position": null,
            "order": null,
            "overflow": null,
            "overflow_x": null,
            "overflow_y": null,
            "padding": null,
            "right": null,
            "top": null,
            "visibility": null,
            "width": null
          }
        },
        "f3984a0e827b446bbfa3aa7ce31cab4d": {
          "model_module": "@jupyter-widgets/controls",
          "model_name": "ProgressStyleModel",
          "model_module_version": "1.5.0",
          "state": {
            "_model_module": "@jupyter-widgets/controls",
            "_model_module_version": "1.5.0",
            "_model_name": "ProgressStyleModel",
            "_view_count": null,
            "_view_module": "@jupyter-widgets/base",
            "_view_module_version": "1.2.0",
            "_view_name": "StyleView",
            "bar_color": null,
            "description_width": ""
          }
        },
        "9562d4d1b3c8486c850370593100c940": {
          "model_module": "@jupyter-widgets/base",
          "model_name": "LayoutModel",
          "model_module_version": "1.2.0",
          "state": {
            "_model_module": "@jupyter-widgets/base",
            "_model_module_version": "1.2.0",
            "_model_name": "LayoutModel",
            "_view_count": null,
            "_view_module": "@jupyter-widgets/base",
            "_view_module_version": "1.2.0",
            "_view_name": "LayoutView",
            "align_content": null,
            "align_items": null,
            "align_self": null,
            "border": null,
            "bottom": null,
            "display": null,
            "flex": null,
            "flex_flow": null,
            "grid_area": null,
            "grid_auto_columns": null,
            "grid_auto_flow": null,
            "grid_auto_rows": null,
            "grid_column": null,
            "grid_gap": null,
            "grid_row": null,
            "grid_template_areas": null,
            "grid_template_columns": null,
            "grid_template_rows": null,
            "height": null,
            "justify_content": null,
            "justify_items": null,
            "left": null,
            "margin": null,
            "max_height": null,
            "max_width": null,
            "min_height": null,
            "min_width": null,
            "object_fit": null,
            "object_position": null,
            "order": null,
            "overflow": null,
            "overflow_x": null,
            "overflow_y": null,
            "padding": null,
            "right": null,
            "top": null,
            "visibility": null,
            "width": null
          }
        },
        "bb934cc8f22040b99d5d091ddd34a392": {
          "model_module": "@jupyter-widgets/controls",
          "model_name": "DescriptionStyleModel",
          "model_module_version": "1.5.0",
          "state": {
            "_model_module": "@jupyter-widgets/controls",
            "_model_module_version": "1.5.0",
            "_model_name": "DescriptionStyleModel",
            "_view_count": null,
            "_view_module": "@jupyter-widgets/base",
            "_view_module_version": "1.2.0",
            "_view_name": "StyleView",
            "description_width": ""
          }
        },
        "bd63594d2abc4a0daf18c6ea12274b61": {
          "model_module": "@jupyter-widgets/controls",
          "model_name": "HBoxModel",
          "model_module_version": "1.5.0",
          "state": {
            "_dom_classes": [],
            "_model_module": "@jupyter-widgets/controls",
            "_model_module_version": "1.5.0",
            "_model_name": "HBoxModel",
            "_view_count": null,
            "_view_module": "@jupyter-widgets/controls",
            "_view_module_version": "1.5.0",
            "_view_name": "HBoxView",
            "box_style": "",
            "children": [
              "IPY_MODEL_01306f106953408b9f4bdc5612335507",
              "IPY_MODEL_a992617fa1a5430abe56e6402a4f824f",
              "IPY_MODEL_2d59519c737a406d9a7e114ded79e61f"
            ],
            "layout": "IPY_MODEL_c0b880d4d7694c5fbfe79b8967dece04"
          }
        },
        "01306f106953408b9f4bdc5612335507": {
          "model_module": "@jupyter-widgets/controls",
          "model_name": "HTMLModel",
          "model_module_version": "1.5.0",
          "state": {
            "_dom_classes": [],
            "_model_module": "@jupyter-widgets/controls",
            "_model_module_version": "1.5.0",
            "_model_name": "HTMLModel",
            "_view_count": null,
            "_view_module": "@jupyter-widgets/controls",
            "_view_module_version": "1.5.0",
            "_view_name": "HTMLView",
            "description": "",
            "description_tooltip": null,
            "layout": "IPY_MODEL_b491082ca19e459cb5498fffd1c64af5",
            "placeholder": "​",
            "style": "IPY_MODEL_5107a25eb2b54d439f97685ef0cfd3d4",
            "value": "100%"
          }
        },
        "a992617fa1a5430abe56e6402a4f824f": {
          "model_module": "@jupyter-widgets/controls",
          "model_name": "FloatProgressModel",
          "model_module_version": "1.5.0",
          "state": {
            "_dom_classes": [],
            "_model_module": "@jupyter-widgets/controls",
            "_model_module_version": "1.5.0",
            "_model_name": "FloatProgressModel",
            "_view_count": null,
            "_view_module": "@jupyter-widgets/controls",
            "_view_module_version": "1.5.0",
            "_view_name": "ProgressView",
            "bar_style": "success",
            "description": "",
            "description_tooltip": null,
            "layout": "IPY_MODEL_32385d3583c944f2af28d1f3e99ef584",
            "max": 7612,
            "min": 0,
            "orientation": "horizontal",
            "style": "IPY_MODEL_29952b3c2a8c437d99651c60a188bdb1",
            "value": 7612
          }
        },
        "2d59519c737a406d9a7e114ded79e61f": {
          "model_module": "@jupyter-widgets/controls",
          "model_name": "HTMLModel",
          "model_module_version": "1.5.0",
          "state": {
            "_dom_classes": [],
            "_model_module": "@jupyter-widgets/controls",
            "_model_module_version": "1.5.0",
            "_model_name": "HTMLModel",
            "_view_count": null,
            "_view_module": "@jupyter-widgets/controls",
            "_view_module_version": "1.5.0",
            "_view_name": "HTMLView",
            "description": "",
            "description_tooltip": null,
            "layout": "IPY_MODEL_0afc9c8e0e284d95b9b6e15d35df525c",
            "placeholder": "​",
            "style": "IPY_MODEL_4062a5e754a841d28e1bb884916e861f",
            "value": " 7612/7612 [02:36&lt;00:00, 49.36it/s]"
          }
        },
        "c0b880d4d7694c5fbfe79b8967dece04": {
          "model_module": "@jupyter-widgets/base",
          "model_name": "LayoutModel",
          "model_module_version": "1.2.0",
          "state": {
            "_model_module": "@jupyter-widgets/base",
            "_model_module_version": "1.2.0",
            "_model_name": "LayoutModel",
            "_view_count": null,
            "_view_module": "@jupyter-widgets/base",
            "_view_module_version": "1.2.0",
            "_view_name": "LayoutView",
            "align_content": null,
            "align_items": null,
            "align_self": null,
            "border": null,
            "bottom": null,
            "display": null,
            "flex": null,
            "flex_flow": null,
            "grid_area": null,
            "grid_auto_columns": null,
            "grid_auto_flow": null,
            "grid_auto_rows": null,
            "grid_column": null,
            "grid_gap": null,
            "grid_row": null,
            "grid_template_areas": null,
            "grid_template_columns": null,
            "grid_template_rows": null,
            "height": null,
            "justify_content": null,
            "justify_items": null,
            "left": null,
            "margin": null,
            "max_height": null,
            "max_width": null,
            "min_height": null,
            "min_width": null,
            "object_fit": null,
            "object_position": null,
            "order": null,
            "overflow": null,
            "overflow_x": null,
            "overflow_y": null,
            "padding": null,
            "right": null,
            "top": null,
            "visibility": null,
            "width": null
          }
        },
        "b491082ca19e459cb5498fffd1c64af5": {
          "model_module": "@jupyter-widgets/base",
          "model_name": "LayoutModel",
          "model_module_version": "1.2.0",
          "state": {
            "_model_module": "@jupyter-widgets/base",
            "_model_module_version": "1.2.0",
            "_model_name": "LayoutModel",
            "_view_count": null,
            "_view_module": "@jupyter-widgets/base",
            "_view_module_version": "1.2.0",
            "_view_name": "LayoutView",
            "align_content": null,
            "align_items": null,
            "align_self": null,
            "border": null,
            "bottom": null,
            "display": null,
            "flex": null,
            "flex_flow": null,
            "grid_area": null,
            "grid_auto_columns": null,
            "grid_auto_flow": null,
            "grid_auto_rows": null,
            "grid_column": null,
            "grid_gap": null,
            "grid_row": null,
            "grid_template_areas": null,
            "grid_template_columns": null,
            "grid_template_rows": null,
            "height": null,
            "justify_content": null,
            "justify_items": null,
            "left": null,
            "margin": null,
            "max_height": null,
            "max_width": null,
            "min_height": null,
            "min_width": null,
            "object_fit": null,
            "object_position": null,
            "order": null,
            "overflow": null,
            "overflow_x": null,
            "overflow_y": null,
            "padding": null,
            "right": null,
            "top": null,
            "visibility": null,
            "width": null
          }
        },
        "5107a25eb2b54d439f97685ef0cfd3d4": {
          "model_module": "@jupyter-widgets/controls",
          "model_name": "DescriptionStyleModel",
          "model_module_version": "1.5.0",
          "state": {
            "_model_module": "@jupyter-widgets/controls",
            "_model_module_version": "1.5.0",
            "_model_name": "DescriptionStyleModel",
            "_view_count": null,
            "_view_module": "@jupyter-widgets/base",
            "_view_module_version": "1.2.0",
            "_view_name": "StyleView",
            "description_width": ""
          }
        },
        "32385d3583c944f2af28d1f3e99ef584": {
          "model_module": "@jupyter-widgets/base",
          "model_name": "LayoutModel",
          "model_module_version": "1.2.0",
          "state": {
            "_model_module": "@jupyter-widgets/base",
            "_model_module_version": "1.2.0",
            "_model_name": "LayoutModel",
            "_view_count": null,
            "_view_module": "@jupyter-widgets/base",
            "_view_module_version": "1.2.0",
            "_view_name": "LayoutView",
            "align_content": null,
            "align_items": null,
            "align_self": null,
            "border": null,
            "bottom": null,
            "display": null,
            "flex": null,
            "flex_flow": null,
            "grid_area": null,
            "grid_auto_columns": null,
            "grid_auto_flow": null,
            "grid_auto_rows": null,
            "grid_column": null,
            "grid_gap": null,
            "grid_row": null,
            "grid_template_areas": null,
            "grid_template_columns": null,
            "grid_template_rows": null,
            "height": null,
            "justify_content": null,
            "justify_items": null,
            "left": null,
            "margin": null,
            "max_height": null,
            "max_width": null,
            "min_height": null,
            "min_width": null,
            "object_fit": null,
            "object_position": null,
            "order": null,
            "overflow": null,
            "overflow_x": null,
            "overflow_y": null,
            "padding": null,
            "right": null,
            "top": null,
            "visibility": null,
            "width": null
          }
        },
        "29952b3c2a8c437d99651c60a188bdb1": {
          "model_module": "@jupyter-widgets/controls",
          "model_name": "ProgressStyleModel",
          "model_module_version": "1.5.0",
          "state": {
            "_model_module": "@jupyter-widgets/controls",
            "_model_module_version": "1.5.0",
            "_model_name": "ProgressStyleModel",
            "_view_count": null,
            "_view_module": "@jupyter-widgets/base",
            "_view_module_version": "1.2.0",
            "_view_name": "StyleView",
            "bar_color": null,
            "description_width": ""
          }
        },
        "0afc9c8e0e284d95b9b6e15d35df525c": {
          "model_module": "@jupyter-widgets/base",
          "model_name": "LayoutModel",
          "model_module_version": "1.2.0",
          "state": {
            "_model_module": "@jupyter-widgets/base",
            "_model_module_version": "1.2.0",
            "_model_name": "LayoutModel",
            "_view_count": null,
            "_view_module": "@jupyter-widgets/base",
            "_view_module_version": "1.2.0",
            "_view_name": "LayoutView",
            "align_content": null,
            "align_items": null,
            "align_self": null,
            "border": null,
            "bottom": null,
            "display": null,
            "flex": null,
            "flex_flow": null,
            "grid_area": null,
            "grid_auto_columns": null,
            "grid_auto_flow": null,
            "grid_auto_rows": null,
            "grid_column": null,
            "grid_gap": null,
            "grid_row": null,
            "grid_template_areas": null,
            "grid_template_columns": null,
            "grid_template_rows": null,
            "height": null,
            "justify_content": null,
            "justify_items": null,
            "left": null,
            "margin": null,
            "max_height": null,
            "max_width": null,
            "min_height": null,
            "min_width": null,
            "object_fit": null,
            "object_position": null,
            "order": null,
            "overflow": null,
            "overflow_x": null,
            "overflow_y": null,
            "padding": null,
            "right": null,
            "top": null,
            "visibility": null,
            "width": null
          }
        },
        "4062a5e754a841d28e1bb884916e861f": {
          "model_module": "@jupyter-widgets/controls",
          "model_name": "DescriptionStyleModel",
          "model_module_version": "1.5.0",
          "state": {
            "_model_module": "@jupyter-widgets/controls",
            "_model_module_version": "1.5.0",
            "_model_name": "DescriptionStyleModel",
            "_view_count": null,
            "_view_module": "@jupyter-widgets/base",
            "_view_module_version": "1.2.0",
            "_view_name": "StyleView",
            "description_width": ""
          }
        },
        "e75f880fde6a49358efb3e21e5eec718": {
          "model_module": "@jupyter-widgets/controls",
          "model_name": "HBoxModel",
          "model_module_version": "1.5.0",
          "state": {
            "_dom_classes": [],
            "_model_module": "@jupyter-widgets/controls",
            "_model_module_version": "1.5.0",
            "_model_name": "HBoxModel",
            "_view_count": null,
            "_view_module": "@jupyter-widgets/controls",
            "_view_module_version": "1.5.0",
            "_view_name": "HBoxView",
            "box_style": "",
            "children": [
              "IPY_MODEL_4b1a9f331ab746009a20694d32f1501f",
              "IPY_MODEL_10f9216067994a92b6fa0ea055078586",
              "IPY_MODEL_800fbf1b2a034904a68b652faa8e3e3c"
            ],
            "layout": "IPY_MODEL_79fa5ee34c8646fdab560bf6e1b698c7"
          }
        },
        "4b1a9f331ab746009a20694d32f1501f": {
          "model_module": "@jupyter-widgets/controls",
          "model_name": "HTMLModel",
          "model_module_version": "1.5.0",
          "state": {
            "_dom_classes": [],
            "_model_module": "@jupyter-widgets/controls",
            "_model_module_version": "1.5.0",
            "_model_name": "HTMLModel",
            "_view_count": null,
            "_view_module": "@jupyter-widgets/controls",
            "_view_module_version": "1.5.0",
            "_view_name": "HTMLView",
            "description": "",
            "description_tooltip": null,
            "layout": "IPY_MODEL_67131487eeff44e88169a33d4ff96fcf",
            "placeholder": "​",
            "style": "IPY_MODEL_8a8997ce87e348968858df7df234dd43",
            "value": "100%"
          }
        },
        "10f9216067994a92b6fa0ea055078586": {
          "model_module": "@jupyter-widgets/controls",
          "model_name": "FloatProgressModel",
          "model_module_version": "1.5.0",
          "state": {
            "_dom_classes": [],
            "_model_module": "@jupyter-widgets/controls",
            "_model_module_version": "1.5.0",
            "_model_name": "FloatProgressModel",
            "_view_count": null,
            "_view_module": "@jupyter-widgets/controls",
            "_view_module_version": "1.5.0",
            "_view_name": "ProgressView",
            "bar_style": "success",
            "description": "",
            "description_tooltip": null,
            "layout": "IPY_MODEL_bb618097879c42e186b19ddac0998cd2",
            "max": 7612,
            "min": 0,
            "orientation": "horizontal",
            "style": "IPY_MODEL_e3c369bad28f4d36b22dce372de0d491",
            "value": 7612
          }
        },
        "800fbf1b2a034904a68b652faa8e3e3c": {
          "model_module": "@jupyter-widgets/controls",
          "model_name": "HTMLModel",
          "model_module_version": "1.5.0",
          "state": {
            "_dom_classes": [],
            "_model_module": "@jupyter-widgets/controls",
            "_model_module_version": "1.5.0",
            "_model_name": "HTMLModel",
            "_view_count": null,
            "_view_module": "@jupyter-widgets/controls",
            "_view_module_version": "1.5.0",
            "_view_name": "HTMLView",
            "description": "",
            "description_tooltip": null,
            "layout": "IPY_MODEL_75224f0bfc7f4da9a4dcd0a909cfc552",
            "placeholder": "​",
            "style": "IPY_MODEL_2a23573d967043de8888122dd176f363",
            "value": " 7612/7612 [13:16&lt;00:00,  9.81it/s]"
          }
        },
        "79fa5ee34c8646fdab560bf6e1b698c7": {
          "model_module": "@jupyter-widgets/base",
          "model_name": "LayoutModel",
          "model_module_version": "1.2.0",
          "state": {
            "_model_module": "@jupyter-widgets/base",
            "_model_module_version": "1.2.0",
            "_model_name": "LayoutModel",
            "_view_count": null,
            "_view_module": "@jupyter-widgets/base",
            "_view_module_version": "1.2.0",
            "_view_name": "LayoutView",
            "align_content": null,
            "align_items": null,
            "align_self": null,
            "border": null,
            "bottom": null,
            "display": null,
            "flex": null,
            "flex_flow": null,
            "grid_area": null,
            "grid_auto_columns": null,
            "grid_auto_flow": null,
            "grid_auto_rows": null,
            "grid_column": null,
            "grid_gap": null,
            "grid_row": null,
            "grid_template_areas": null,
            "grid_template_columns": null,
            "grid_template_rows": null,
            "height": null,
            "justify_content": null,
            "justify_items": null,
            "left": null,
            "margin": null,
            "max_height": null,
            "max_width": null,
            "min_height": null,
            "min_width": null,
            "object_fit": null,
            "object_position": null,
            "order": null,
            "overflow": null,
            "overflow_x": null,
            "overflow_y": null,
            "padding": null,
            "right": null,
            "top": null,
            "visibility": null,
            "width": null
          }
        },
        "67131487eeff44e88169a33d4ff96fcf": {
          "model_module": "@jupyter-widgets/base",
          "model_name": "LayoutModel",
          "model_module_version": "1.2.0",
          "state": {
            "_model_module": "@jupyter-widgets/base",
            "_model_module_version": "1.2.0",
            "_model_name": "LayoutModel",
            "_view_count": null,
            "_view_module": "@jupyter-widgets/base",
            "_view_module_version": "1.2.0",
            "_view_name": "LayoutView",
            "align_content": null,
            "align_items": null,
            "align_self": null,
            "border": null,
            "bottom": null,
            "display": null,
            "flex": null,
            "flex_flow": null,
            "grid_area": null,
            "grid_auto_columns": null,
            "grid_auto_flow": null,
            "grid_auto_rows": null,
            "grid_column": null,
            "grid_gap": null,
            "grid_row": null,
            "grid_template_areas": null,
            "grid_template_columns": null,
            "grid_template_rows": null,
            "height": null,
            "justify_content": null,
            "justify_items": null,
            "left": null,
            "margin": null,
            "max_height": null,
            "max_width": null,
            "min_height": null,
            "min_width": null,
            "object_fit": null,
            "object_position": null,
            "order": null,
            "overflow": null,
            "overflow_x": null,
            "overflow_y": null,
            "padding": null,
            "right": null,
            "top": null,
            "visibility": null,
            "width": null
          }
        },
        "8a8997ce87e348968858df7df234dd43": {
          "model_module": "@jupyter-widgets/controls",
          "model_name": "DescriptionStyleModel",
          "model_module_version": "1.5.0",
          "state": {
            "_model_module": "@jupyter-widgets/controls",
            "_model_module_version": "1.5.0",
            "_model_name": "DescriptionStyleModel",
            "_view_count": null,
            "_view_module": "@jupyter-widgets/base",
            "_view_module_version": "1.2.0",
            "_view_name": "StyleView",
            "description_width": ""
          }
        },
        "bb618097879c42e186b19ddac0998cd2": {
          "model_module": "@jupyter-widgets/base",
          "model_name": "LayoutModel",
          "model_module_version": "1.2.0",
          "state": {
            "_model_module": "@jupyter-widgets/base",
            "_model_module_version": "1.2.0",
            "_model_name": "LayoutModel",
            "_view_count": null,
            "_view_module": "@jupyter-widgets/base",
            "_view_module_version": "1.2.0",
            "_view_name": "LayoutView",
            "align_content": null,
            "align_items": null,
            "align_self": null,
            "border": null,
            "bottom": null,
            "display": null,
            "flex": null,
            "flex_flow": null,
            "grid_area": null,
            "grid_auto_columns": null,
            "grid_auto_flow": null,
            "grid_auto_rows": null,
            "grid_column": null,
            "grid_gap": null,
            "grid_row": null,
            "grid_template_areas": null,
            "grid_template_columns": null,
            "grid_template_rows": null,
            "height": null,
            "justify_content": null,
            "justify_items": null,
            "left": null,
            "margin": null,
            "max_height": null,
            "max_width": null,
            "min_height": null,
            "min_width": null,
            "object_fit": null,
            "object_position": null,
            "order": null,
            "overflow": null,
            "overflow_x": null,
            "overflow_y": null,
            "padding": null,
            "right": null,
            "top": null,
            "visibility": null,
            "width": null
          }
        },
        "e3c369bad28f4d36b22dce372de0d491": {
          "model_module": "@jupyter-widgets/controls",
          "model_name": "ProgressStyleModel",
          "model_module_version": "1.5.0",
          "state": {
            "_model_module": "@jupyter-widgets/controls",
            "_model_module_version": "1.5.0",
            "_model_name": "ProgressStyleModel",
            "_view_count": null,
            "_view_module": "@jupyter-widgets/base",
            "_view_module_version": "1.2.0",
            "_view_name": "StyleView",
            "bar_color": null,
            "description_width": ""
          }
        },
        "75224f0bfc7f4da9a4dcd0a909cfc552": {
          "model_module": "@jupyter-widgets/base",
          "model_name": "LayoutModel",
          "model_module_version": "1.2.0",
          "state": {
            "_model_module": "@jupyter-widgets/base",
            "_model_module_version": "1.2.0",
            "_model_name": "LayoutModel",
            "_view_count": null,
            "_view_module": "@jupyter-widgets/base",
            "_view_module_version": "1.2.0",
            "_view_name": "LayoutView",
            "align_content": null,
            "align_items": null,
            "align_self": null,
            "border": null,
            "bottom": null,
            "display": null,
            "flex": null,
            "flex_flow": null,
            "grid_area": null,
            "grid_auto_columns": null,
            "grid_auto_flow": null,
            "grid_auto_rows": null,
            "grid_column": null,
            "grid_gap": null,
            "grid_row": null,
            "grid_template_areas": null,
            "grid_template_columns": null,
            "grid_template_rows": null,
            "height": null,
            "justify_content": null,
            "justify_items": null,
            "left": null,
            "margin": null,
            "max_height": null,
            "max_width": null,
            "min_height": null,
            "min_width": null,
            "object_fit": null,
            "object_position": null,
            "order": null,
            "overflow": null,
            "overflow_x": null,
            "overflow_y": null,
            "padding": null,
            "right": null,
            "top": null,
            "visibility": null,
            "width": null
          }
        },
        "2a23573d967043de8888122dd176f363": {
          "model_module": "@jupyter-widgets/controls",
          "model_name": "DescriptionStyleModel",
          "model_module_version": "1.5.0",
          "state": {
            "_model_module": "@jupyter-widgets/controls",
            "_model_module_version": "1.5.0",
            "_model_name": "DescriptionStyleModel",
            "_view_count": null,
            "_view_module": "@jupyter-widgets/base",
            "_view_module_version": "1.2.0",
            "_view_name": "StyleView",
            "description_width": ""
          }
        },
        "3a9fafb28d8a46d7a97b7e1e5002565b": {
          "model_module": "@jupyter-widgets/controls",
          "model_name": "HBoxModel",
          "model_module_version": "1.5.0",
          "state": {
            "_dom_classes": [],
            "_model_module": "@jupyter-widgets/controls",
            "_model_module_version": "1.5.0",
            "_model_name": "HBoxModel",
            "_view_count": null,
            "_view_module": "@jupyter-widgets/controls",
            "_view_module_version": "1.5.0",
            "_view_name": "HBoxView",
            "box_style": "",
            "children": [
              "IPY_MODEL_80daf6e94edb4d928ff41a511184a737",
              "IPY_MODEL_baf454fa298f40d9be311b1a3b192df0",
              "IPY_MODEL_21c948c939784adc8436b8ab9cd244d7"
            ],
            "layout": "IPY_MODEL_99a8b07d2db445e89483e8cbb6158dd2"
          }
        },
        "80daf6e94edb4d928ff41a511184a737": {
          "model_module": "@jupyter-widgets/controls",
          "model_name": "HTMLModel",
          "model_module_version": "1.5.0",
          "state": {
            "_dom_classes": [],
            "_model_module": "@jupyter-widgets/controls",
            "_model_module_version": "1.5.0",
            "_model_name": "HTMLModel",
            "_view_count": null,
            "_view_module": "@jupyter-widgets/controls",
            "_view_module_version": "1.5.0",
            "_view_name": "HTMLView",
            "description": "",
            "description_tooltip": null,
            "layout": "IPY_MODEL_c2ff257cf8e449a2bf84d8886535eea4",
            "placeholder": "​",
            "style": "IPY_MODEL_d65bd8bfdcc14f40a7876cc83226055a",
            "value": "100%"
          }
        },
        "baf454fa298f40d9be311b1a3b192df0": {
          "model_module": "@jupyter-widgets/controls",
          "model_name": "FloatProgressModel",
          "model_module_version": "1.5.0",
          "state": {
            "_dom_classes": [],
            "_model_module": "@jupyter-widgets/controls",
            "_model_module_version": "1.5.0",
            "_model_name": "FloatProgressModel",
            "_view_count": null,
            "_view_module": "@jupyter-widgets/controls",
            "_view_module_version": "1.5.0",
            "_view_name": "ProgressView",
            "bar_style": "success",
            "description": "",
            "description_tooltip": null,
            "layout": "IPY_MODEL_bc35a17851f04dc1a37725346c7e6830",
            "max": 3,
            "min": 0,
            "orientation": "horizontal",
            "style": "IPY_MODEL_fd8d7c42642d41bf931d2d5f2cfb4f82",
            "value": 3
          }
        },
        "21c948c939784adc8436b8ab9cd244d7": {
          "model_module": "@jupyter-widgets/controls",
          "model_name": "HTMLModel",
          "model_module_version": "1.5.0",
          "state": {
            "_dom_classes": [],
            "_model_module": "@jupyter-widgets/controls",
            "_model_module_version": "1.5.0",
            "_model_name": "HTMLModel",
            "_view_count": null,
            "_view_module": "@jupyter-widgets/controls",
            "_view_module_version": "1.5.0",
            "_view_name": "HTMLView",
            "description": "",
            "description_tooltip": null,
            "layout": "IPY_MODEL_538b01fea5c24793bc56843e14c6b87d",
            "placeholder": "​",
            "style": "IPY_MODEL_378430d439b54ae4965825e16f6e83cb",
            "value": " 3/3 [00:01&lt;00:00,  1.63it/s]"
          }
        },
        "99a8b07d2db445e89483e8cbb6158dd2": {
          "model_module": "@jupyter-widgets/base",
          "model_name": "LayoutModel",
          "model_module_version": "1.2.0",
          "state": {
            "_model_module": "@jupyter-widgets/base",
            "_model_module_version": "1.2.0",
            "_model_name": "LayoutModel",
            "_view_count": null,
            "_view_module": "@jupyter-widgets/base",
            "_view_module_version": "1.2.0",
            "_view_name": "LayoutView",
            "align_content": null,
            "align_items": null,
            "align_self": null,
            "border": null,
            "bottom": null,
            "display": null,
            "flex": null,
            "flex_flow": null,
            "grid_area": null,
            "grid_auto_columns": null,
            "grid_auto_flow": null,
            "grid_auto_rows": null,
            "grid_column": null,
            "grid_gap": null,
            "grid_row": null,
            "grid_template_areas": null,
            "grid_template_columns": null,
            "grid_template_rows": null,
            "height": null,
            "justify_content": null,
            "justify_items": null,
            "left": null,
            "margin": null,
            "max_height": null,
            "max_width": null,
            "min_height": null,
            "min_width": null,
            "object_fit": null,
            "object_position": null,
            "order": null,
            "overflow": null,
            "overflow_x": null,
            "overflow_y": null,
            "padding": null,
            "right": null,
            "top": null,
            "visibility": null,
            "width": null
          }
        },
        "c2ff257cf8e449a2bf84d8886535eea4": {
          "model_module": "@jupyter-widgets/base",
          "model_name": "LayoutModel",
          "model_module_version": "1.2.0",
          "state": {
            "_model_module": "@jupyter-widgets/base",
            "_model_module_version": "1.2.0",
            "_model_name": "LayoutModel",
            "_view_count": null,
            "_view_module": "@jupyter-widgets/base",
            "_view_module_version": "1.2.0",
            "_view_name": "LayoutView",
            "align_content": null,
            "align_items": null,
            "align_self": null,
            "border": null,
            "bottom": null,
            "display": null,
            "flex": null,
            "flex_flow": null,
            "grid_area": null,
            "grid_auto_columns": null,
            "grid_auto_flow": null,
            "grid_auto_rows": null,
            "grid_column": null,
            "grid_gap": null,
            "grid_row": null,
            "grid_template_areas": null,
            "grid_template_columns": null,
            "grid_template_rows": null,
            "height": null,
            "justify_content": null,
            "justify_items": null,
            "left": null,
            "margin": null,
            "max_height": null,
            "max_width": null,
            "min_height": null,
            "min_width": null,
            "object_fit": null,
            "object_position": null,
            "order": null,
            "overflow": null,
            "overflow_x": null,
            "overflow_y": null,
            "padding": null,
            "right": null,
            "top": null,
            "visibility": null,
            "width": null
          }
        },
        "d65bd8bfdcc14f40a7876cc83226055a": {
          "model_module": "@jupyter-widgets/controls",
          "model_name": "DescriptionStyleModel",
          "model_module_version": "1.5.0",
          "state": {
            "_model_module": "@jupyter-widgets/controls",
            "_model_module_version": "1.5.0",
            "_model_name": "DescriptionStyleModel",
            "_view_count": null,
            "_view_module": "@jupyter-widgets/base",
            "_view_module_version": "1.2.0",
            "_view_name": "StyleView",
            "description_width": ""
          }
        },
        "bc35a17851f04dc1a37725346c7e6830": {
          "model_module": "@jupyter-widgets/base",
          "model_name": "LayoutModel",
          "model_module_version": "1.2.0",
          "state": {
            "_model_module": "@jupyter-widgets/base",
            "_model_module_version": "1.2.0",
            "_model_name": "LayoutModel",
            "_view_count": null,
            "_view_module": "@jupyter-widgets/base",
            "_view_module_version": "1.2.0",
            "_view_name": "LayoutView",
            "align_content": null,
            "align_items": null,
            "align_self": null,
            "border": null,
            "bottom": null,
            "display": null,
            "flex": null,
            "flex_flow": null,
            "grid_area": null,
            "grid_auto_columns": null,
            "grid_auto_flow": null,
            "grid_auto_rows": null,
            "grid_column": null,
            "grid_gap": null,
            "grid_row": null,
            "grid_template_areas": null,
            "grid_template_columns": null,
            "grid_template_rows": null,
            "height": null,
            "justify_content": null,
            "justify_items": null,
            "left": null,
            "margin": null,
            "max_height": null,
            "max_width": null,
            "min_height": null,
            "min_width": null,
            "object_fit": null,
            "object_position": null,
            "order": null,
            "overflow": null,
            "overflow_x": null,
            "overflow_y": null,
            "padding": null,
            "right": null,
            "top": null,
            "visibility": null,
            "width": null
          }
        },
        "fd8d7c42642d41bf931d2d5f2cfb4f82": {
          "model_module": "@jupyter-widgets/controls",
          "model_name": "ProgressStyleModel",
          "model_module_version": "1.5.0",
          "state": {
            "_model_module": "@jupyter-widgets/controls",
            "_model_module_version": "1.5.0",
            "_model_name": "ProgressStyleModel",
            "_view_count": null,
            "_view_module": "@jupyter-widgets/base",
            "_view_module_version": "1.2.0",
            "_view_name": "StyleView",
            "bar_color": null,
            "description_width": ""
          }
        },
        "538b01fea5c24793bc56843e14c6b87d": {
          "model_module": "@jupyter-widgets/base",
          "model_name": "LayoutModel",
          "model_module_version": "1.2.0",
          "state": {
            "_model_module": "@jupyter-widgets/base",
            "_model_module_version": "1.2.0",
            "_model_name": "LayoutModel",
            "_view_count": null,
            "_view_module": "@jupyter-widgets/base",
            "_view_module_version": "1.2.0",
            "_view_name": "LayoutView",
            "align_content": null,
            "align_items": null,
            "align_self": null,
            "border": null,
            "bottom": null,
            "display": null,
            "flex": null,
            "flex_flow": null,
            "grid_area": null,
            "grid_auto_columns": null,
            "grid_auto_flow": null,
            "grid_auto_rows": null,
            "grid_column": null,
            "grid_gap": null,
            "grid_row": null,
            "grid_template_areas": null,
            "grid_template_columns": null,
            "grid_template_rows": null,
            "height": null,
            "justify_content": null,
            "justify_items": null,
            "left": null,
            "margin": null,
            "max_height": null,
            "max_width": null,
            "min_height": null,
            "min_width": null,
            "object_fit": null,
            "object_position": null,
            "order": null,
            "overflow": null,
            "overflow_x": null,
            "overflow_y": null,
            "padding": null,
            "right": null,
            "top": null,
            "visibility": null,
            "width": null
          }
        },
        "378430d439b54ae4965825e16f6e83cb": {
          "model_module": "@jupyter-widgets/controls",
          "model_name": "DescriptionStyleModel",
          "model_module_version": "1.5.0",
          "state": {
            "_model_module": "@jupyter-widgets/controls",
            "_model_module_version": "1.5.0",
            "_model_name": "DescriptionStyleModel",
            "_view_count": null,
            "_view_module": "@jupyter-widgets/base",
            "_view_module_version": "1.2.0",
            "_view_name": "StyleView",
            "description_width": ""
          }
        },
        "a278796e0df041488270b454927f0618": {
          "model_module": "@jupyter-widgets/controls",
          "model_name": "HBoxModel",
          "model_module_version": "1.5.0",
          "state": {
            "_dom_classes": [],
            "_model_module": "@jupyter-widgets/controls",
            "_model_module_version": "1.5.0",
            "_model_name": "HBoxModel",
            "_view_count": null,
            "_view_module": "@jupyter-widgets/controls",
            "_view_module_version": "1.5.0",
            "_view_name": "HBoxView",
            "box_style": "",
            "children": [
              "IPY_MODEL_a4d215fc641b44a8819c6b6e2343faaa",
              "IPY_MODEL_6752c6b60e65472aa7340be04317f091",
              "IPY_MODEL_63dcae6747504486b3d0b658112e080f"
            ],
            "layout": "IPY_MODEL_8163161cb4e8450793d2bece82b4f75e"
          }
        },
        "a4d215fc641b44a8819c6b6e2343faaa": {
          "model_module": "@jupyter-widgets/controls",
          "model_name": "HTMLModel",
          "model_module_version": "1.5.0",
          "state": {
            "_dom_classes": [],
            "_model_module": "@jupyter-widgets/controls",
            "_model_module_version": "1.5.0",
            "_model_name": "HTMLModel",
            "_view_count": null,
            "_view_module": "@jupyter-widgets/controls",
            "_view_module_version": "1.5.0",
            "_view_name": "HTMLView",
            "description": "",
            "description_tooltip": null,
            "layout": "IPY_MODEL_dc8e09228aa143c28e916688690f9e26",
            "placeholder": "​",
            "style": "IPY_MODEL_78550ef6df0146898bfc76faf5fbec77",
            "value": "100%"
          }
        },
        "6752c6b60e65472aa7340be04317f091": {
          "model_module": "@jupyter-widgets/controls",
          "model_name": "FloatProgressModel",
          "model_module_version": "1.5.0",
          "state": {
            "_dom_classes": [],
            "_model_module": "@jupyter-widgets/controls",
            "_model_module_version": "1.5.0",
            "_model_name": "FloatProgressModel",
            "_view_count": null,
            "_view_module": "@jupyter-widgets/controls",
            "_view_module_version": "1.5.0",
            "_view_name": "ProgressView",
            "bar_style": "success",
            "description": "",
            "description_tooltip": null,
            "layout": "IPY_MODEL_8a15b9308324411aa3cac2f6fcf8b354",
            "max": 512,
            "min": 0,
            "orientation": "horizontal",
            "style": "IPY_MODEL_997e1791d9d74e6a92b94e27db61f4fc",
            "value": 512
          }
        },
        "63dcae6747504486b3d0b658112e080f": {
          "model_module": "@jupyter-widgets/controls",
          "model_name": "HTMLModel",
          "model_module_version": "1.5.0",
          "state": {
            "_dom_classes": [],
            "_model_module": "@jupyter-widgets/controls",
            "_model_module_version": "1.5.0",
            "_model_name": "HTMLModel",
            "_view_count": null,
            "_view_module": "@jupyter-widgets/controls",
            "_view_module_version": "1.5.0",
            "_view_name": "HTMLView",
            "description": "",
            "description_tooltip": null,
            "layout": "IPY_MODEL_02c27f885e754575820d7364d31a8b3c",
            "placeholder": "​",
            "style": "IPY_MODEL_0d9f2effc9b147ce91df84c49a4eab5e",
            "value": " 512/512 [05:05&lt;00:00,  1.52it/s]"
          }
        },
        "8163161cb4e8450793d2bece82b4f75e": {
          "model_module": "@jupyter-widgets/base",
          "model_name": "LayoutModel",
          "model_module_version": "1.2.0",
          "state": {
            "_model_module": "@jupyter-widgets/base",
            "_model_module_version": "1.2.0",
            "_model_name": "LayoutModel",
            "_view_count": null,
            "_view_module": "@jupyter-widgets/base",
            "_view_module_version": "1.2.0",
            "_view_name": "LayoutView",
            "align_content": null,
            "align_items": null,
            "align_self": null,
            "border": null,
            "bottom": null,
            "display": null,
            "flex": null,
            "flex_flow": null,
            "grid_area": null,
            "grid_auto_columns": null,
            "grid_auto_flow": null,
            "grid_auto_rows": null,
            "grid_column": null,
            "grid_gap": null,
            "grid_row": null,
            "grid_template_areas": null,
            "grid_template_columns": null,
            "grid_template_rows": null,
            "height": null,
            "justify_content": null,
            "justify_items": null,
            "left": null,
            "margin": null,
            "max_height": null,
            "max_width": null,
            "min_height": null,
            "min_width": null,
            "object_fit": null,
            "object_position": null,
            "order": null,
            "overflow": null,
            "overflow_x": null,
            "overflow_y": null,
            "padding": null,
            "right": null,
            "top": null,
            "visibility": null,
            "width": null
          }
        },
        "dc8e09228aa143c28e916688690f9e26": {
          "model_module": "@jupyter-widgets/base",
          "model_name": "LayoutModel",
          "model_module_version": "1.2.0",
          "state": {
            "_model_module": "@jupyter-widgets/base",
            "_model_module_version": "1.2.0",
            "_model_name": "LayoutModel",
            "_view_count": null,
            "_view_module": "@jupyter-widgets/base",
            "_view_module_version": "1.2.0",
            "_view_name": "LayoutView",
            "align_content": null,
            "align_items": null,
            "align_self": null,
            "border": null,
            "bottom": null,
            "display": null,
            "flex": null,
            "flex_flow": null,
            "grid_area": null,
            "grid_auto_columns": null,
            "grid_auto_flow": null,
            "grid_auto_rows": null,
            "grid_column": null,
            "grid_gap": null,
            "grid_row": null,
            "grid_template_areas": null,
            "grid_template_columns": null,
            "grid_template_rows": null,
            "height": null,
            "justify_content": null,
            "justify_items": null,
            "left": null,
            "margin": null,
            "max_height": null,
            "max_width": null,
            "min_height": null,
            "min_width": null,
            "object_fit": null,
            "object_position": null,
            "order": null,
            "overflow": null,
            "overflow_x": null,
            "overflow_y": null,
            "padding": null,
            "right": null,
            "top": null,
            "visibility": null,
            "width": null
          }
        },
        "78550ef6df0146898bfc76faf5fbec77": {
          "model_module": "@jupyter-widgets/controls",
          "model_name": "DescriptionStyleModel",
          "model_module_version": "1.5.0",
          "state": {
            "_model_module": "@jupyter-widgets/controls",
            "_model_module_version": "1.5.0",
            "_model_name": "DescriptionStyleModel",
            "_view_count": null,
            "_view_module": "@jupyter-widgets/base",
            "_view_module_version": "1.2.0",
            "_view_name": "StyleView",
            "description_width": ""
          }
        },
        "8a15b9308324411aa3cac2f6fcf8b354": {
          "model_module": "@jupyter-widgets/base",
          "model_name": "LayoutModel",
          "model_module_version": "1.2.0",
          "state": {
            "_model_module": "@jupyter-widgets/base",
            "_model_module_version": "1.2.0",
            "_model_name": "LayoutModel",
            "_view_count": null,
            "_view_module": "@jupyter-widgets/base",
            "_view_module_version": "1.2.0",
            "_view_name": "LayoutView",
            "align_content": null,
            "align_items": null,
            "align_self": null,
            "border": null,
            "bottom": null,
            "display": null,
            "flex": null,
            "flex_flow": null,
            "grid_area": null,
            "grid_auto_columns": null,
            "grid_auto_flow": null,
            "grid_auto_rows": null,
            "grid_column": null,
            "grid_gap": null,
            "grid_row": null,
            "grid_template_areas": null,
            "grid_template_columns": null,
            "grid_template_rows": null,
            "height": null,
            "justify_content": null,
            "justify_items": null,
            "left": null,
            "margin": null,
            "max_height": null,
            "max_width": null,
            "min_height": null,
            "min_width": null,
            "object_fit": null,
            "object_position": null,
            "order": null,
            "overflow": null,
            "overflow_x": null,
            "overflow_y": null,
            "padding": null,
            "right": null,
            "top": null,
            "visibility": null,
            "width": null
          }
        },
        "997e1791d9d74e6a92b94e27db61f4fc": {
          "model_module": "@jupyter-widgets/controls",
          "model_name": "ProgressStyleModel",
          "model_module_version": "1.5.0",
          "state": {
            "_model_module": "@jupyter-widgets/controls",
            "_model_module_version": "1.5.0",
            "_model_name": "ProgressStyleModel",
            "_view_count": null,
            "_view_module": "@jupyter-widgets/base",
            "_view_module_version": "1.2.0",
            "_view_name": "StyleView",
            "bar_color": null,
            "description_width": ""
          }
        },
        "02c27f885e754575820d7364d31a8b3c": {
          "model_module": "@jupyter-widgets/base",
          "model_name": "LayoutModel",
          "model_module_version": "1.2.0",
          "state": {
            "_model_module": "@jupyter-widgets/base",
            "_model_module_version": "1.2.0",
            "_model_name": "LayoutModel",
            "_view_count": null,
            "_view_module": "@jupyter-widgets/base",
            "_view_module_version": "1.2.0",
            "_view_name": "LayoutView",
            "align_content": null,
            "align_items": null,
            "align_self": null,
            "border": null,
            "bottom": null,
            "display": null,
            "flex": null,
            "flex_flow": null,
            "grid_area": null,
            "grid_auto_columns": null,
            "grid_auto_flow": null,
            "grid_auto_rows": null,
            "grid_column": null,
            "grid_gap": null,
            "grid_row": null,
            "grid_template_areas": null,
            "grid_template_columns": null,
            "grid_template_rows": null,
            "height": null,
            "justify_content": null,
            "justify_items": null,
            "left": null,
            "margin": null,
            "max_height": null,
            "max_width": null,
            "min_height": null,
            "min_width": null,
            "object_fit": null,
            "object_position": null,
            "order": null,
            "overflow": null,
            "overflow_x": null,
            "overflow_y": null,
            "padding": null,
            "right": null,
            "top": null,
            "visibility": null,
            "width": null
          }
        },
        "0d9f2effc9b147ce91df84c49a4eab5e": {
          "model_module": "@jupyter-widgets/controls",
          "model_name": "DescriptionStyleModel",
          "model_module_version": "1.5.0",
          "state": {
            "_model_module": "@jupyter-widgets/controls",
            "_model_module_version": "1.5.0",
            "_model_name": "DescriptionStyleModel",
            "_view_count": null,
            "_view_module": "@jupyter-widgets/base",
            "_view_module_version": "1.2.0",
            "_view_name": "StyleView",
            "description_width": ""
          }
        },
        "8cc316e533d54fa09b07b0b0b0753b70": {
          "model_module": "@jupyter-widgets/controls",
          "model_name": "HBoxModel",
          "model_module_version": "1.5.0",
          "state": {
            "_dom_classes": [],
            "_model_module": "@jupyter-widgets/controls",
            "_model_module_version": "1.5.0",
            "_model_name": "HBoxModel",
            "_view_count": null,
            "_view_module": "@jupyter-widgets/controls",
            "_view_module_version": "1.5.0",
            "_view_name": "HBoxView",
            "box_style": "",
            "children": [
              "IPY_MODEL_31454a6c34a54a3eb342a45a0de22365",
              "IPY_MODEL_f48d75739fb94c30b9c5e3c8d5a499e0",
              "IPY_MODEL_8c9e3598d703433bb0d1e65fc7dc1105"
            ],
            "layout": "IPY_MODEL_1bea6e19d6764836aa7de5e2ecfae444"
          }
        },
        "31454a6c34a54a3eb342a45a0de22365": {
          "model_module": "@jupyter-widgets/controls",
          "model_name": "HTMLModel",
          "model_module_version": "1.5.0",
          "state": {
            "_dom_classes": [],
            "_model_module": "@jupyter-widgets/controls",
            "_model_module_version": "1.5.0",
            "_model_name": "HTMLModel",
            "_view_count": null,
            "_view_module": "@jupyter-widgets/controls",
            "_view_module_version": "1.5.0",
            "_view_name": "HTMLView",
            "description": "",
            "description_tooltip": null,
            "layout": "IPY_MODEL_c1582a9fcf4b4dfc9b9bc58e99bd68a2",
            "placeholder": "​",
            "style": "IPY_MODEL_a94b5224c8564e11b99ecef6dbedbe97",
            "value": "100%"
          }
        },
        "f48d75739fb94c30b9c5e3c8d5a499e0": {
          "model_module": "@jupyter-widgets/controls",
          "model_name": "FloatProgressModel",
          "model_module_version": "1.5.0",
          "state": {
            "_dom_classes": [],
            "_model_module": "@jupyter-widgets/controls",
            "_model_module_version": "1.5.0",
            "_model_name": "FloatProgressModel",
            "_view_count": null,
            "_view_module": "@jupyter-widgets/controls",
            "_view_module_version": "1.5.0",
            "_view_name": "ProgressView",
            "bar_style": "success",
            "description": "",
            "description_tooltip": null,
            "layout": "IPY_MODEL_5f3e4c5d61414ee1a8c29535d691e811",
            "max": 3,
            "min": 0,
            "orientation": "horizontal",
            "style": "IPY_MODEL_d37a04fbadf54bd487fa3091b597dcdf",
            "value": 3
          }
        },
        "8c9e3598d703433bb0d1e65fc7dc1105": {
          "model_module": "@jupyter-widgets/controls",
          "model_name": "HTMLModel",
          "model_module_version": "1.5.0",
          "state": {
            "_dom_classes": [],
            "_model_module": "@jupyter-widgets/controls",
            "_model_module_version": "1.5.0",
            "_model_name": "HTMLModel",
            "_view_count": null,
            "_view_module": "@jupyter-widgets/controls",
            "_view_module_version": "1.5.0",
            "_view_name": "HTMLView",
            "description": "",
            "description_tooltip": null,
            "layout": "IPY_MODEL_3e5e7072d6e04624a4aa73a7d9d5065b",
            "placeholder": "​",
            "style": "IPY_MODEL_9027858cb39a48cfad0f8d2888602f88",
            "value": " 3/3 [00:01&lt;00:00,  1.49it/s]"
          }
        },
        "1bea6e19d6764836aa7de5e2ecfae444": {
          "model_module": "@jupyter-widgets/base",
          "model_name": "LayoutModel",
          "model_module_version": "1.2.0",
          "state": {
            "_model_module": "@jupyter-widgets/base",
            "_model_module_version": "1.2.0",
            "_model_name": "LayoutModel",
            "_view_count": null,
            "_view_module": "@jupyter-widgets/base",
            "_view_module_version": "1.2.0",
            "_view_name": "LayoutView",
            "align_content": null,
            "align_items": null,
            "align_self": null,
            "border": null,
            "bottom": null,
            "display": null,
            "flex": null,
            "flex_flow": null,
            "grid_area": null,
            "grid_auto_columns": null,
            "grid_auto_flow": null,
            "grid_auto_rows": null,
            "grid_column": null,
            "grid_gap": null,
            "grid_row": null,
            "grid_template_areas": null,
            "grid_template_columns": null,
            "grid_template_rows": null,
            "height": null,
            "justify_content": null,
            "justify_items": null,
            "left": null,
            "margin": null,
            "max_height": null,
            "max_width": null,
            "min_height": null,
            "min_width": null,
            "object_fit": null,
            "object_position": null,
            "order": null,
            "overflow": null,
            "overflow_x": null,
            "overflow_y": null,
            "padding": null,
            "right": null,
            "top": null,
            "visibility": null,
            "width": null
          }
        },
        "c1582a9fcf4b4dfc9b9bc58e99bd68a2": {
          "model_module": "@jupyter-widgets/base",
          "model_name": "LayoutModel",
          "model_module_version": "1.2.0",
          "state": {
            "_model_module": "@jupyter-widgets/base",
            "_model_module_version": "1.2.0",
            "_model_name": "LayoutModel",
            "_view_count": null,
            "_view_module": "@jupyter-widgets/base",
            "_view_module_version": "1.2.0",
            "_view_name": "LayoutView",
            "align_content": null,
            "align_items": null,
            "align_self": null,
            "border": null,
            "bottom": null,
            "display": null,
            "flex": null,
            "flex_flow": null,
            "grid_area": null,
            "grid_auto_columns": null,
            "grid_auto_flow": null,
            "grid_auto_rows": null,
            "grid_column": null,
            "grid_gap": null,
            "grid_row": null,
            "grid_template_areas": null,
            "grid_template_columns": null,
            "grid_template_rows": null,
            "height": null,
            "justify_content": null,
            "justify_items": null,
            "left": null,
            "margin": null,
            "max_height": null,
            "max_width": null,
            "min_height": null,
            "min_width": null,
            "object_fit": null,
            "object_position": null,
            "order": null,
            "overflow": null,
            "overflow_x": null,
            "overflow_y": null,
            "padding": null,
            "right": null,
            "top": null,
            "visibility": null,
            "width": null
          }
        },
        "a94b5224c8564e11b99ecef6dbedbe97": {
          "model_module": "@jupyter-widgets/controls",
          "model_name": "DescriptionStyleModel",
          "model_module_version": "1.5.0",
          "state": {
            "_model_module": "@jupyter-widgets/controls",
            "_model_module_version": "1.5.0",
            "_model_name": "DescriptionStyleModel",
            "_view_count": null,
            "_view_module": "@jupyter-widgets/base",
            "_view_module_version": "1.2.0",
            "_view_name": "StyleView",
            "description_width": ""
          }
        },
        "5f3e4c5d61414ee1a8c29535d691e811": {
          "model_module": "@jupyter-widgets/base",
          "model_name": "LayoutModel",
          "model_module_version": "1.2.0",
          "state": {
            "_model_module": "@jupyter-widgets/base",
            "_model_module_version": "1.2.0",
            "_model_name": "LayoutModel",
            "_view_count": null,
            "_view_module": "@jupyter-widgets/base",
            "_view_module_version": "1.2.0",
            "_view_name": "LayoutView",
            "align_content": null,
            "align_items": null,
            "align_self": null,
            "border": null,
            "bottom": null,
            "display": null,
            "flex": null,
            "flex_flow": null,
            "grid_area": null,
            "grid_auto_columns": null,
            "grid_auto_flow": null,
            "grid_auto_rows": null,
            "grid_column": null,
            "grid_gap": null,
            "grid_row": null,
            "grid_template_areas": null,
            "grid_template_columns": null,
            "grid_template_rows": null,
            "height": null,
            "justify_content": null,
            "justify_items": null,
            "left": null,
            "margin": null,
            "max_height": null,
            "max_width": null,
            "min_height": null,
            "min_width": null,
            "object_fit": null,
            "object_position": null,
            "order": null,
            "overflow": null,
            "overflow_x": null,
            "overflow_y": null,
            "padding": null,
            "right": null,
            "top": null,
            "visibility": null,
            "width": null
          }
        },
        "d37a04fbadf54bd487fa3091b597dcdf": {
          "model_module": "@jupyter-widgets/controls",
          "model_name": "ProgressStyleModel",
          "model_module_version": "1.5.0",
          "state": {
            "_model_module": "@jupyter-widgets/controls",
            "_model_module_version": "1.5.0",
            "_model_name": "ProgressStyleModel",
            "_view_count": null,
            "_view_module": "@jupyter-widgets/base",
            "_view_module_version": "1.2.0",
            "_view_name": "StyleView",
            "bar_color": null,
            "description_width": ""
          }
        },
        "3e5e7072d6e04624a4aa73a7d9d5065b": {
          "model_module": "@jupyter-widgets/base",
          "model_name": "LayoutModel",
          "model_module_version": "1.2.0",
          "state": {
            "_model_module": "@jupyter-widgets/base",
            "_model_module_version": "1.2.0",
            "_model_name": "LayoutModel",
            "_view_count": null,
            "_view_module": "@jupyter-widgets/base",
            "_view_module_version": "1.2.0",
            "_view_name": "LayoutView",
            "align_content": null,
            "align_items": null,
            "align_self": null,
            "border": null,
            "bottom": null,
            "display": null,
            "flex": null,
            "flex_flow": null,
            "grid_area": null,
            "grid_auto_columns": null,
            "grid_auto_flow": null,
            "grid_auto_rows": null,
            "grid_column": null,
            "grid_gap": null,
            "grid_row": null,
            "grid_template_areas": null,
            "grid_template_columns": null,
            "grid_template_rows": null,
            "height": null,
            "justify_content": null,
            "justify_items": null,
            "left": null,
            "margin": null,
            "max_height": null,
            "max_width": null,
            "min_height": null,
            "min_width": null,
            "object_fit": null,
            "object_position": null,
            "order": null,
            "overflow": null,
            "overflow_x": null,
            "overflow_y": null,
            "padding": null,
            "right": null,
            "top": null,
            "visibility": null,
            "width": null
          }
        },
        "9027858cb39a48cfad0f8d2888602f88": {
          "model_module": "@jupyter-widgets/controls",
          "model_name": "DescriptionStyleModel",
          "model_module_version": "1.5.0",
          "state": {
            "_model_module": "@jupyter-widgets/controls",
            "_model_module_version": "1.5.0",
            "_model_name": "DescriptionStyleModel",
            "_view_count": null,
            "_view_module": "@jupyter-widgets/base",
            "_view_module_version": "1.2.0",
            "_view_name": "StyleView",
            "description_width": ""
          }
        },
        "97967c1cb07644579840badd76f8909d": {
          "model_module": "@jupyter-widgets/controls",
          "model_name": "HBoxModel",
          "model_module_version": "1.5.0",
          "state": {
            "_dom_classes": [],
            "_model_module": "@jupyter-widgets/controls",
            "_model_module_version": "1.5.0",
            "_model_name": "HBoxModel",
            "_view_count": null,
            "_view_module": "@jupyter-widgets/controls",
            "_view_module_version": "1.5.0",
            "_view_name": "HBoxView",
            "box_style": "",
            "children": [
              "IPY_MODEL_60c1042541f044cf8569d6cef1419d09",
              "IPY_MODEL_0987c452ca874e83be7f8b2282bb0487",
              "IPY_MODEL_8426f7b72f6c4e73ab548ce1012ab094"
            ],
            "layout": "IPY_MODEL_4e5ad38fa44e46dca48aa54a84d7b178"
          }
        },
        "60c1042541f044cf8569d6cef1419d09": {
          "model_module": "@jupyter-widgets/controls",
          "model_name": "HTMLModel",
          "model_module_version": "1.5.0",
          "state": {
            "_dom_classes": [],
            "_model_module": "@jupyter-widgets/controls",
            "_model_module_version": "1.5.0",
            "_model_name": "HTMLModel",
            "_view_count": null,
            "_view_module": "@jupyter-widgets/controls",
            "_view_module_version": "1.5.0",
            "_view_name": "HTMLView",
            "description": "",
            "description_tooltip": null,
            "layout": "IPY_MODEL_98b53401f48f44f9a639caaee7bd53d8",
            "placeholder": "​",
            "style": "IPY_MODEL_250e9ab5a7f34a0690540f77d2fb6dd5",
            "value": "100%"
          }
        },
        "0987c452ca874e83be7f8b2282bb0487": {
          "model_module": "@jupyter-widgets/controls",
          "model_name": "FloatProgressModel",
          "model_module_version": "1.5.0",
          "state": {
            "_dom_classes": [],
            "_model_module": "@jupyter-widgets/controls",
            "_model_module_version": "1.5.0",
            "_model_name": "FloatProgressModel",
            "_view_count": null,
            "_view_module": "@jupyter-widgets/controls",
            "_view_module_version": "1.5.0",
            "_view_name": "ProgressView",
            "bar_style": "success",
            "description": "",
            "description_tooltip": null,
            "layout": "IPY_MODEL_878a8f73783046ae91a5e6308d04aa7f",
            "max": 512,
            "min": 0,
            "orientation": "horizontal",
            "style": "IPY_MODEL_5be514e03b064523b3dd33abfffb1c70",
            "value": 512
          }
        },
        "8426f7b72f6c4e73ab548ce1012ab094": {
          "model_module": "@jupyter-widgets/controls",
          "model_name": "HTMLModel",
          "model_module_version": "1.5.0",
          "state": {
            "_dom_classes": [],
            "_model_module": "@jupyter-widgets/controls",
            "_model_module_version": "1.5.0",
            "_model_name": "HTMLModel",
            "_view_count": null,
            "_view_module": "@jupyter-widgets/controls",
            "_view_module_version": "1.5.0",
            "_view_name": "HTMLView",
            "description": "",
            "description_tooltip": null,
            "layout": "IPY_MODEL_718d763f77e14b899af777b9ea039c0a",
            "placeholder": "​",
            "style": "IPY_MODEL_88a98a2a3c0f433da80a339c7f9ab876",
            "value": " 512/512 [05:06&lt;00:00,  2.11it/s]"
          }
        },
        "4e5ad38fa44e46dca48aa54a84d7b178": {
          "model_module": "@jupyter-widgets/base",
          "model_name": "LayoutModel",
          "model_module_version": "1.2.0",
          "state": {
            "_model_module": "@jupyter-widgets/base",
            "_model_module_version": "1.2.0",
            "_model_name": "LayoutModel",
            "_view_count": null,
            "_view_module": "@jupyter-widgets/base",
            "_view_module_version": "1.2.0",
            "_view_name": "LayoutView",
            "align_content": null,
            "align_items": null,
            "align_self": null,
            "border": null,
            "bottom": null,
            "display": null,
            "flex": null,
            "flex_flow": null,
            "grid_area": null,
            "grid_auto_columns": null,
            "grid_auto_flow": null,
            "grid_auto_rows": null,
            "grid_column": null,
            "grid_gap": null,
            "grid_row": null,
            "grid_template_areas": null,
            "grid_template_columns": null,
            "grid_template_rows": null,
            "height": null,
            "justify_content": null,
            "justify_items": null,
            "left": null,
            "margin": null,
            "max_height": null,
            "max_width": null,
            "min_height": null,
            "min_width": null,
            "object_fit": null,
            "object_position": null,
            "order": null,
            "overflow": null,
            "overflow_x": null,
            "overflow_y": null,
            "padding": null,
            "right": null,
            "top": null,
            "visibility": null,
            "width": null
          }
        },
        "98b53401f48f44f9a639caaee7bd53d8": {
          "model_module": "@jupyter-widgets/base",
          "model_name": "LayoutModel",
          "model_module_version": "1.2.0",
          "state": {
            "_model_module": "@jupyter-widgets/base",
            "_model_module_version": "1.2.0",
            "_model_name": "LayoutModel",
            "_view_count": null,
            "_view_module": "@jupyter-widgets/base",
            "_view_module_version": "1.2.0",
            "_view_name": "LayoutView",
            "align_content": null,
            "align_items": null,
            "align_self": null,
            "border": null,
            "bottom": null,
            "display": null,
            "flex": null,
            "flex_flow": null,
            "grid_area": null,
            "grid_auto_columns": null,
            "grid_auto_flow": null,
            "grid_auto_rows": null,
            "grid_column": null,
            "grid_gap": null,
            "grid_row": null,
            "grid_template_areas": null,
            "grid_template_columns": null,
            "grid_template_rows": null,
            "height": null,
            "justify_content": null,
            "justify_items": null,
            "left": null,
            "margin": null,
            "max_height": null,
            "max_width": null,
            "min_height": null,
            "min_width": null,
            "object_fit": null,
            "object_position": null,
            "order": null,
            "overflow": null,
            "overflow_x": null,
            "overflow_y": null,
            "padding": null,
            "right": null,
            "top": null,
            "visibility": null,
            "width": null
          }
        },
        "250e9ab5a7f34a0690540f77d2fb6dd5": {
          "model_module": "@jupyter-widgets/controls",
          "model_name": "DescriptionStyleModel",
          "model_module_version": "1.5.0",
          "state": {
            "_model_module": "@jupyter-widgets/controls",
            "_model_module_version": "1.5.0",
            "_model_name": "DescriptionStyleModel",
            "_view_count": null,
            "_view_module": "@jupyter-widgets/base",
            "_view_module_version": "1.2.0",
            "_view_name": "StyleView",
            "description_width": ""
          }
        },
        "878a8f73783046ae91a5e6308d04aa7f": {
          "model_module": "@jupyter-widgets/base",
          "model_name": "LayoutModel",
          "model_module_version": "1.2.0",
          "state": {
            "_model_module": "@jupyter-widgets/base",
            "_model_module_version": "1.2.0",
            "_model_name": "LayoutModel",
            "_view_count": null,
            "_view_module": "@jupyter-widgets/base",
            "_view_module_version": "1.2.0",
            "_view_name": "LayoutView",
            "align_content": null,
            "align_items": null,
            "align_self": null,
            "border": null,
            "bottom": null,
            "display": null,
            "flex": null,
            "flex_flow": null,
            "grid_area": null,
            "grid_auto_columns": null,
            "grid_auto_flow": null,
            "grid_auto_rows": null,
            "grid_column": null,
            "grid_gap": null,
            "grid_row": null,
            "grid_template_areas": null,
            "grid_template_columns": null,
            "grid_template_rows": null,
            "height": null,
            "justify_content": null,
            "justify_items": null,
            "left": null,
            "margin": null,
            "max_height": null,
            "max_width": null,
            "min_height": null,
            "min_width": null,
            "object_fit": null,
            "object_position": null,
            "order": null,
            "overflow": null,
            "overflow_x": null,
            "overflow_y": null,
            "padding": null,
            "right": null,
            "top": null,
            "visibility": null,
            "width": null
          }
        },
        "5be514e03b064523b3dd33abfffb1c70": {
          "model_module": "@jupyter-widgets/controls",
          "model_name": "ProgressStyleModel",
          "model_module_version": "1.5.0",
          "state": {
            "_model_module": "@jupyter-widgets/controls",
            "_model_module_version": "1.5.0",
            "_model_name": "ProgressStyleModel",
            "_view_count": null,
            "_view_module": "@jupyter-widgets/base",
            "_view_module_version": "1.2.0",
            "_view_name": "StyleView",
            "bar_color": null,
            "description_width": ""
          }
        },
        "718d763f77e14b899af777b9ea039c0a": {
          "model_module": "@jupyter-widgets/base",
          "model_name": "LayoutModel",
          "model_module_version": "1.2.0",
          "state": {
            "_model_module": "@jupyter-widgets/base",
            "_model_module_version": "1.2.0",
            "_model_name": "LayoutModel",
            "_view_count": null,
            "_view_module": "@jupyter-widgets/base",
            "_view_module_version": "1.2.0",
            "_view_name": "LayoutView",
            "align_content": null,
            "align_items": null,
            "align_self": null,
            "border": null,
            "bottom": null,
            "display": null,
            "flex": null,
            "flex_flow": null,
            "grid_area": null,
            "grid_auto_columns": null,
            "grid_auto_flow": null,
            "grid_auto_rows": null,
            "grid_column": null,
            "grid_gap": null,
            "grid_row": null,
            "grid_template_areas": null,
            "grid_template_columns": null,
            "grid_template_rows": null,
            "height": null,
            "justify_content": null,
            "justify_items": null,
            "left": null,
            "margin": null,
            "max_height": null,
            "max_width": null,
            "min_height": null,
            "min_width": null,
            "object_fit": null,
            "object_position": null,
            "order": null,
            "overflow": null,
            "overflow_x": null,
            "overflow_y": null,
            "padding": null,
            "right": null,
            "top": null,
            "visibility": null,
            "width": null
          }
        },
        "88a98a2a3c0f433da80a339c7f9ab876": {
          "model_module": "@jupyter-widgets/controls",
          "model_name": "DescriptionStyleModel",
          "model_module_version": "1.5.0",
          "state": {
            "_model_module": "@jupyter-widgets/controls",
            "_model_module_version": "1.5.0",
            "_model_name": "DescriptionStyleModel",
            "_view_count": null,
            "_view_module": "@jupyter-widgets/base",
            "_view_module_version": "1.2.0",
            "_view_name": "StyleView",
            "description_width": ""
          }
        },
        "a40dfe3e6c3c4f2bba3d64a745da2fbf": {
          "model_module": "@jupyter-widgets/controls",
          "model_name": "HBoxModel",
          "model_module_version": "1.5.0",
          "state": {
            "_dom_classes": [],
            "_model_module": "@jupyter-widgets/controls",
            "_model_module_version": "1.5.0",
            "_model_name": "HBoxModel",
            "_view_count": null,
            "_view_module": "@jupyter-widgets/controls",
            "_view_module_version": "1.5.0",
            "_view_name": "HBoxView",
            "box_style": "",
            "children": [
              "IPY_MODEL_000c73d69a074ee7997fc1737dd61ff2",
              "IPY_MODEL_205ba1f42f9f40f8a4a480a10fb21ffd",
              "IPY_MODEL_e70544387cba4436903c898b7ad88628"
            ],
            "layout": "IPY_MODEL_22bbed94055b4d048974f4d6776fa953"
          }
        },
        "000c73d69a074ee7997fc1737dd61ff2": {
          "model_module": "@jupyter-widgets/controls",
          "model_name": "HTMLModel",
          "model_module_version": "1.5.0",
          "state": {
            "_dom_classes": [],
            "_model_module": "@jupyter-widgets/controls",
            "_model_module_version": "1.5.0",
            "_model_name": "HTMLModel",
            "_view_count": null,
            "_view_module": "@jupyter-widgets/controls",
            "_view_module_version": "1.5.0",
            "_view_name": "HTMLView",
            "description": "",
            "description_tooltip": null,
            "layout": "IPY_MODEL_1d9b7a084ccd49168cdef5cb3dc3bdc4",
            "placeholder": "​",
            "style": "IPY_MODEL_5552874335c147128a3a19ccb1287f24",
            "value": "100%"
          }
        },
        "205ba1f42f9f40f8a4a480a10fb21ffd": {
          "model_module": "@jupyter-widgets/controls",
          "model_name": "FloatProgressModel",
          "model_module_version": "1.5.0",
          "state": {
            "_dom_classes": [],
            "_model_module": "@jupyter-widgets/controls",
            "_model_module_version": "1.5.0",
            "_model_name": "FloatProgressModel",
            "_view_count": null,
            "_view_module": "@jupyter-widgets/controls",
            "_view_module_version": "1.5.0",
            "_view_name": "ProgressView",
            "bar_style": "success",
            "description": "",
            "description_tooltip": null,
            "layout": "IPY_MODEL_2265e74cc8d8480f8d3ffbf791f97d6d",
            "max": 512,
            "min": 0,
            "orientation": "horizontal",
            "style": "IPY_MODEL_1764dd98cd8444fa82d0e154eafb6d17",
            "value": 512
          }
        },
        "e70544387cba4436903c898b7ad88628": {
          "model_module": "@jupyter-widgets/controls",
          "model_name": "HTMLModel",
          "model_module_version": "1.5.0",
          "state": {
            "_dom_classes": [],
            "_model_module": "@jupyter-widgets/controls",
            "_model_module_version": "1.5.0",
            "_model_name": "HTMLModel",
            "_view_count": null,
            "_view_module": "@jupyter-widgets/controls",
            "_view_module_version": "1.5.0",
            "_view_name": "HTMLView",
            "description": "",
            "description_tooltip": null,
            "layout": "IPY_MODEL_9a401f9665404ddabc231d2e4d689551",
            "placeholder": "​",
            "style": "IPY_MODEL_f6d93fd0102644bea437853240047a44",
            "value": " 512/512 [05:04&lt;00:00,  2.13it/s]"
          }
        },
        "22bbed94055b4d048974f4d6776fa953": {
          "model_module": "@jupyter-widgets/base",
          "model_name": "LayoutModel",
          "model_module_version": "1.2.0",
          "state": {
            "_model_module": "@jupyter-widgets/base",
            "_model_module_version": "1.2.0",
            "_model_name": "LayoutModel",
            "_view_count": null,
            "_view_module": "@jupyter-widgets/base",
            "_view_module_version": "1.2.0",
            "_view_name": "LayoutView",
            "align_content": null,
            "align_items": null,
            "align_self": null,
            "border": null,
            "bottom": null,
            "display": null,
            "flex": null,
            "flex_flow": null,
            "grid_area": null,
            "grid_auto_columns": null,
            "grid_auto_flow": null,
            "grid_auto_rows": null,
            "grid_column": null,
            "grid_gap": null,
            "grid_row": null,
            "grid_template_areas": null,
            "grid_template_columns": null,
            "grid_template_rows": null,
            "height": null,
            "justify_content": null,
            "justify_items": null,
            "left": null,
            "margin": null,
            "max_height": null,
            "max_width": null,
            "min_height": null,
            "min_width": null,
            "object_fit": null,
            "object_position": null,
            "order": null,
            "overflow": null,
            "overflow_x": null,
            "overflow_y": null,
            "padding": null,
            "right": null,
            "top": null,
            "visibility": null,
            "width": null
          }
        },
        "1d9b7a084ccd49168cdef5cb3dc3bdc4": {
          "model_module": "@jupyter-widgets/base",
          "model_name": "LayoutModel",
          "model_module_version": "1.2.0",
          "state": {
            "_model_module": "@jupyter-widgets/base",
            "_model_module_version": "1.2.0",
            "_model_name": "LayoutModel",
            "_view_count": null,
            "_view_module": "@jupyter-widgets/base",
            "_view_module_version": "1.2.0",
            "_view_name": "LayoutView",
            "align_content": null,
            "align_items": null,
            "align_self": null,
            "border": null,
            "bottom": null,
            "display": null,
            "flex": null,
            "flex_flow": null,
            "grid_area": null,
            "grid_auto_columns": null,
            "grid_auto_flow": null,
            "grid_auto_rows": null,
            "grid_column": null,
            "grid_gap": null,
            "grid_row": null,
            "grid_template_areas": null,
            "grid_template_columns": null,
            "grid_template_rows": null,
            "height": null,
            "justify_content": null,
            "justify_items": null,
            "left": null,
            "margin": null,
            "max_height": null,
            "max_width": null,
            "min_height": null,
            "min_width": null,
            "object_fit": null,
            "object_position": null,
            "order": null,
            "overflow": null,
            "overflow_x": null,
            "overflow_y": null,
            "padding": null,
            "right": null,
            "top": null,
            "visibility": null,
            "width": null
          }
        },
        "5552874335c147128a3a19ccb1287f24": {
          "model_module": "@jupyter-widgets/controls",
          "model_name": "DescriptionStyleModel",
          "model_module_version": "1.5.0",
          "state": {
            "_model_module": "@jupyter-widgets/controls",
            "_model_module_version": "1.5.0",
            "_model_name": "DescriptionStyleModel",
            "_view_count": null,
            "_view_module": "@jupyter-widgets/base",
            "_view_module_version": "1.2.0",
            "_view_name": "StyleView",
            "description_width": ""
          }
        },
        "2265e74cc8d8480f8d3ffbf791f97d6d": {
          "model_module": "@jupyter-widgets/base",
          "model_name": "LayoutModel",
          "model_module_version": "1.2.0",
          "state": {
            "_model_module": "@jupyter-widgets/base",
            "_model_module_version": "1.2.0",
            "_model_name": "LayoutModel",
            "_view_count": null,
            "_view_module": "@jupyter-widgets/base",
            "_view_module_version": "1.2.0",
            "_view_name": "LayoutView",
            "align_content": null,
            "align_items": null,
            "align_self": null,
            "border": null,
            "bottom": null,
            "display": null,
            "flex": null,
            "flex_flow": null,
            "grid_area": null,
            "grid_auto_columns": null,
            "grid_auto_flow": null,
            "grid_auto_rows": null,
            "grid_column": null,
            "grid_gap": null,
            "grid_row": null,
            "grid_template_areas": null,
            "grid_template_columns": null,
            "grid_template_rows": null,
            "height": null,
            "justify_content": null,
            "justify_items": null,
            "left": null,
            "margin": null,
            "max_height": null,
            "max_width": null,
            "min_height": null,
            "min_width": null,
            "object_fit": null,
            "object_position": null,
            "order": null,
            "overflow": null,
            "overflow_x": null,
            "overflow_y": null,
            "padding": null,
            "right": null,
            "top": null,
            "visibility": null,
            "width": null
          }
        },
        "1764dd98cd8444fa82d0e154eafb6d17": {
          "model_module": "@jupyter-widgets/controls",
          "model_name": "ProgressStyleModel",
          "model_module_version": "1.5.0",
          "state": {
            "_model_module": "@jupyter-widgets/controls",
            "_model_module_version": "1.5.0",
            "_model_name": "ProgressStyleModel",
            "_view_count": null,
            "_view_module": "@jupyter-widgets/base",
            "_view_module_version": "1.2.0",
            "_view_name": "StyleView",
            "bar_color": null,
            "description_width": ""
          }
        },
        "9a401f9665404ddabc231d2e4d689551": {
          "model_module": "@jupyter-widgets/base",
          "model_name": "LayoutModel",
          "model_module_version": "1.2.0",
          "state": {
            "_model_module": "@jupyter-widgets/base",
            "_model_module_version": "1.2.0",
            "_model_name": "LayoutModel",
            "_view_count": null,
            "_view_module": "@jupyter-widgets/base",
            "_view_module_version": "1.2.0",
            "_view_name": "LayoutView",
            "align_content": null,
            "align_items": null,
            "align_self": null,
            "border": null,
            "bottom": null,
            "display": null,
            "flex": null,
            "flex_flow": null,
            "grid_area": null,
            "grid_auto_columns": null,
            "grid_auto_flow": null,
            "grid_auto_rows": null,
            "grid_column": null,
            "grid_gap": null,
            "grid_row": null,
            "grid_template_areas": null,
            "grid_template_columns": null,
            "grid_template_rows": null,
            "height": null,
            "justify_content": null,
            "justify_items": null,
            "left": null,
            "margin": null,
            "max_height": null,
            "max_width": null,
            "min_height": null,
            "min_width": null,
            "object_fit": null,
            "object_position": null,
            "order": null,
            "overflow": null,
            "overflow_x": null,
            "overflow_y": null,
            "padding": null,
            "right": null,
            "top": null,
            "visibility": null,
            "width": null
          }
        },
        "f6d93fd0102644bea437853240047a44": {
          "model_module": "@jupyter-widgets/controls",
          "model_name": "DescriptionStyleModel",
          "model_module_version": "1.5.0",
          "state": {
            "_model_module": "@jupyter-widgets/controls",
            "_model_module_version": "1.5.0",
            "_model_name": "DescriptionStyleModel",
            "_view_count": null,
            "_view_module": "@jupyter-widgets/base",
            "_view_module_version": "1.2.0",
            "_view_name": "StyleView",
            "description_width": ""
          }
        }
      }
    }
  },
  "cells": [
    {
      "cell_type": "markdown",
      "source": [
        "##번역가는 대화에도 능하다"
      ],
      "metadata": {
        "id": "KuZ4Oz1_L0CI"
      }
    },
    {
      "cell_type": "markdown",
      "source": [
        ""
      ],
      "metadata": {
        "id": "-9Qt4VWCL29n"
      }
    },
    {
      "cell_type": "markdown",
      "source": [
        "개발 환경\n",
        "<br/>데이터 정보\n",
        "<br/>데이터 탐색\n",
        "<br/>데이터 전처리\n"
      ],
      "metadata": {
        "id": "e50Vz6AMBxIE"
      }
    },
    {
      "cell_type": "markdown",
      "source": [
        "Data Augmentation\n",
        "<br/>Word2Vec\n",
        "<br/>Glove\n",
        "<br/>FastText\n",
        "<br/>Lexical Substitution\n",
        "<br/>File I/O"
      ],
      "metadata": {
        "id": "7jwiITOfB6Pz"
      }
    },
    {
      "cell_type": "markdown",
      "source": [
        "Data Vectorization"
      ],
      "metadata": {
        "id": "k9HerWMxB8Bu"
      }
    },
    {
      "cell_type": "markdown",
      "source": [
        "모델 구성\n",
        "<br/>Transformer\n",
        "<br/>Learning Rate Schedule\n",
        "<br/>Loss Function\n",
        "<br/>Train Step\n",
        "<br/>Evaluation"
      ],
      "metadata": {
        "id": "CXd8ww_TB90L"
      }
    },
    {
      "cell_type": "markdown",
      "source": [
        "BLEU Score\n",
        "<br/>Hyperparameter\n",
        "<br/>First Model\n",
        "<br/>Second Model\n",
        "<br/>최종 모델\n",
        "<br/>결론\n",
        "<br/>참고문헌"
      ],
      "metadata": {
        "id": "KqBAmMLRCAhb"
      }
    },
    {
      "cell_type": "markdown",
      "source": [
        ""
      ],
      "metadata": {
        "id": "gBLdkNwYL3GX"
      }
    },
    {
      "cell_type": "markdown",
      "source": [
        "#개발 환경"
      ],
      "metadata": {
        "id": "3YxtFSJkL2qf"
      }
    },
    {
      "cell_type": "code",
      "source": [
        "!sudo apt-get install -y fonts-nanum\n",
        "!sudo fc-cache -fv\n",
        "!rm ~/.cache/matplotlib -rf"
      ],
      "metadata": {
        "id": "tOfvNHPpEOuy"
      },
      "execution_count": null,
      "outputs": []
    },
    {
      "cell_type": "markdown",
      "source": [
        "한글 폰트를 설치한다.\n",
        "<br/>혹시 깨짐현상이 발생하는 경우 런타임을 다시 시작하고 matplotlib 모듈을 실행하면 한글이 출력된다."
      ],
      "metadata": {
        "id": "5NqFDNBEEU6b"
      }
    },
    {
      "cell_type": "code",
      "source": [
        "import matplotlib as mpl\n",
        "import matplotlib.pyplot as plt\n",
        "%config InlineBackend.figure_format = 'retina'\n",
        "import matplotlib.font_manager as fm\n",
        "import matplotlib.ticker as ticker"
      ],
      "metadata": {
        "id": "FT_6nFlmEOyW"
      },
      "execution_count": null,
      "outputs": []
    },
    {
      "cell_type": "code",
      "source": [
        "font_list = [font.name for font in fm.fontManager.ttflist]\n",
        "font_list"
      ],
      "metadata": {
        "id": "P_ejBJhTEPDZ"
      },
      "execution_count": null,
      "outputs": []
    },
    {
      "cell_type": "markdown",
      "source": [
        "Google Colab에 한글 폰트가 설치되어 있는지 확인한다."
      ],
      "metadata": {
        "id": "wpd9H369Ejk7"
      }
    },
    {
      "cell_type": "code",
      "source": [
        "fontpath = '/usr/share/fonts/truetype/nanum/NanumBarunGothic.ttf'\n",
        "font = fm.FontProperties(fname=fontpath, size=9)\n",
        "plt.rc('font', family='NanumBarunGothic') \n",
        "mpl.font_manager.findfont(font)"
      ],
      "metadata": {
        "id": "xzkeautOEkm7"
      },
      "execution_count": null,
      "outputs": []
    },
    {
      "cell_type": "markdown",
      "source": [
        "PCA Scatter Plot을 확인하기 위해 한국어를 지원하는 폰트로 변경한다."
      ],
      "metadata": {
        "id": "_mgeAws-Erja"
      }
    },
    {
      "cell_type": "code",
      "source": [
        "!pip install fasttext"
      ],
      "metadata": {
        "id": "MxpIocvq8ZOe"
      },
      "execution_count": null,
      "outputs": []
    },
    {
      "cell_type": "code",
      "source": [
        "import os\n",
        "# install konlpy, jdk, JPype\n",
        "!pip install konlpy\n",
        "!apt-get install openjdk-8-jdk-headless -qq > /dev/null\n",
        "!pip3 install JPype1-py3\n",
        "\n",
        "# install mecab-ko\n",
        "os.chdir('/tmp/')\n",
        "!curl -LO https://bitbucket.org/eunjeon/mecab-ko/downloads/mecab-0.996-ko-0.9.2.tar.gz\n",
        "!tar zxfv mecab-0.996-ko-0.9.2.tar.gz\n",
        "os.chdir('/tmp/mecab-0.996-ko-0.9.2')\n",
        "!./configure\n",
        "!make\n",
        "!make check\n",
        "!make install\n",
        "\n",
        "# install mecab-ko-dic\n",
        "!apt-get install automake\n",
        "os.chdir('/tmp')\n",
        "!curl -LO https://bitbucket.org/eunjeon/mecab-ko-dic/downloads/mecab-ko-dic-2.1.1-20180720.tar.gz\n",
        "!tar -zxvf mecab-ko-dic-2.1.1-20180720.tar.gz\n",
        "os.chdir('/tmp/mecab-ko-dic-2.1.1-20180720')\n",
        "!./autogen.sh\n",
        "!./configure\n",
        "!make\n",
        "!make install\n",
        "\n",
        "# install mecab-python\n",
        "os.chdir('/content')\n",
        "!git clone https://bitbucket.org/eunjeon/mecab-python-0.996.git\n",
        "os.chdir('/content/mecab-python-0.996')\n",
        "!python3 setup.py build\n",
        "!python3 setup.py install"
      ],
      "metadata": {
        "id": "IzBw5BrPP-lq"
      },
      "execution_count": null,
      "outputs": []
    },
    {
      "cell_type": "code",
      "source": [
        "import os\n",
        "import csv\n",
        "import pickle\n",
        "import math\n",
        "import random\n",
        "import warnings\n",
        "warnings.filterwarnings('ignore')\n",
        "from collections import Counter"
      ],
      "metadata": {
        "id": "xG3wwdOAN0Po"
      },
      "execution_count": null,
      "outputs": []
    },
    {
      "cell_type": "code",
      "source": [
        "import numpy as np\n",
        "import pandas as pd\n",
        "import tensorflow as tf\n",
        "from keras.preprocessing import sequence\n",
        "from sklearn.decomposition import PCA\n",
        "from sklearn.model_selection import train_test_split"
      ],
      "metadata": {
        "id": "ypVXfWMCPMBB"
      },
      "execution_count": null,
      "outputs": []
    },
    {
      "cell_type": "code",
      "source": [
        "from tqdm.notebook import tqdm\n",
        "from IPython.display import HTML\n",
        "from IPython.display import Image"
      ],
      "metadata": {
        "id": "5bapnBhAdcnS"
      },
      "execution_count": null,
      "outputs": []
    },
    {
      "cell_type": "code",
      "source": [
        "import re\n",
        "from konlpy.tag import Mecab"
      ],
      "metadata": {
        "id": "qhumuiC16Oha"
      },
      "execution_count": null,
      "outputs": []
    },
    {
      "cell_type": "code",
      "source": [
        "import gensim\n",
        "from gensim.models import Word2Vec\n",
        "from gensim.models.keyedvectors import KeyedVectors\n",
        "from gensim.scripts.glove2word2vec import glove2word2vec"
      ],
      "metadata": {
        "id": "IxFl_wIdREBP"
      },
      "execution_count": null,
      "outputs": []
    },
    {
      "cell_type": "code",
      "source": [
        "import fasttext\n",
        "import fasttext.util"
      ],
      "metadata": {
        "id": "IjI6PqkGHe-W"
      },
      "execution_count": null,
      "outputs": []
    },
    {
      "cell_type": "code",
      "source": [
        "import nltk\n",
        "from nltk.translate.bleu_score import sentence_bleu\n",
        "from nltk.translate.bleu_score import SmoothingFunction"
      ],
      "metadata": {
        "id": "abYf_Hz-Hf3P"
      },
      "execution_count": null,
      "outputs": []
    },
    {
      "cell_type": "code",
      "execution_count": null,
      "metadata": {
        "id": "IRF7OzHjLpqv"
      },
      "outputs": [],
      "source": [
        "from google.colab import drive\n",
        "drive.mount('/content/drive')"
      ]
    },
    {
      "cell_type": "code",
      "source": [
        "pip freeze > '/content/drive/MyDrive/lms/library_version.txt'"
      ],
      "metadata": {
        "id": "oYVCEyNAL8_4"
      },
      "execution_count": null,
      "outputs": []
    },
    {
      "cell_type": "code",
      "source": [
        "library_name = ['numpy=', 'pandas=', 'tensorflow=', 'keras=', 'scikit-learn=', 'tqdm=', 'matplotlib=',\n",
        "                'regex=', 'gensim=', 'nltk=', 'konlpy=', 'fasttext=', 'pickle=', 'nltk=']\n",
        "library_version = []\n",
        "f = open('/content/drive/MyDrive/lms/library_version.txt', 'r')\n",
        "line = f.readline()\n",
        "while True:\n",
        "    line = f.readline()\n",
        "    if not line:\n",
        "      break\n",
        "    for i in library_name:\n",
        "      if i in line:\n",
        "        library_version.append(line)\n",
        "        library_version.append('    ')\n",
        "\n",
        "f.close()\n",
        "\n",
        "import sys\n",
        "print(sys.version)\n",
        "print()\n",
        "\n",
        "for i in range(0, len(library_version) - 1, 6):\n",
        "  print(str(library_version[i : i+6]).replace(\"[\",\"\").replace(\"]\",\"\").replace(\"'\",\"\").replace(\"\\\\n\",\"\").replace(\",\",\"\"), end='') \n",
        "  if i % 6 == 0:\n",
        "    print()\n",
        "\n",
        "for i in range(len(library_version) - 1):\n",
        "  if (i-1) % 6 == 0 and i == len(library_version) - 6:\n",
        "    print(str(library_version[-1]).replace(\"[\",\"\").replace(\"]\",\"\").replace(\"'\",\"\").replace(\"\\\\n\",\"\").replace(\",\",\"\"), end='')"
      ],
      "metadata": {
        "id": "OW7wp6CdL_bn"
      },
      "execution_count": null,
      "outputs": []
    },
    {
      "cell_type": "code",
      "source": [
        "gpu_info = !nvidia-smi\n",
        "gpu_info = '\\n'.join(gpu_info)\n",
        "if gpu_info.find('failed') >= 0:\n",
        "  print('Not connected to a GPU')\n",
        "else:\n",
        "  print(gpu_info)"
      ],
      "metadata": {
        "id": "YwV-ON03MBvP"
      },
      "execution_count": null,
      "outputs": []
    },
    {
      "cell_type": "code",
      "source": [
        "from psutil import virtual_memory\n",
        "ram_gb = virtual_memory().total / 1e9\n",
        "print('Your runtime has {:.1f} gigabytes of available RAM\\n'.format(ram_gb))\n",
        "\n",
        "if ram_gb < 20:\n",
        "  print('Not using a high-RAM runtime')\n",
        "else:\n",
        "  print('You are using a high-RAM runtime!')"
      ],
      "metadata": {
        "id": "MyIkJ2hgMDDn"
      },
      "execution_count": null,
      "outputs": []
    },
    {
      "cell_type": "markdown",
      "source": [
        "Google Colab에서 할당된 GPU를 확인한다.\n",
        "<br/>고용량 메모리 VM에 액세스한다"
      ],
      "metadata": {
        "id": "AWApxiI9MkMg"
      }
    },
    {
      "cell_type": "markdown",
      "source": [
        "#데이터 정보"
      ],
      "metadata": {
        "id": "x_c43FZvMkPy"
      }
    },
    {
      "cell_type": "markdown",
      "source": [
        "[Chatbot data for Korean v1.0](https://github.com/songys/Chatbot_data)"
      ],
      "metadata": {
        "id": "GeY9T2AZMnyh"
      }
    },
    {
      "cell_type": "markdown",
      "source": [
        "다음 카페 [사랑보다 아름다운 실연](http://cafe116.daum.net/_c21_/home?grpid=1bld)에서 자주 나오는 이야기들을 참고하여 제작한 데이터셋이다.\n",
        "<br/>챗봇 트레이닝용 문답 페어가 11,876개이다.\n",
        "<br/>일상다반사 0, 이별(부정) 1, 사랑(긍정) 2로 레이블링했다.\n",
        "<br/>읽어 온 데이터의 질문과 답변을 각각 questions, answers 변수에 나눠서 저장한다."
      ],
      "metadata": {
        "id": "8HJVVyC3J9bp"
      }
    },
    {
      "cell_type": "code",
      "source": [
        "chatbot_data = pd.read_table('/content/drive/MyDrive/lms/transformer_chatbot/ChatbotData.csv')\n",
        "chatbot_data.head()"
      ],
      "metadata": {
        "colab": {
          "base_uri": "https://localhost:8080/",
          "height": 206
        },
        "id": "vedhYYcoK8IB",
        "outputId": "0c83ae4a-f5d1-44a7-dd28-1129fb24f93e"
      },
      "execution_count": null,
      "outputs": [
        {
          "output_type": "execute_result",
          "data": {
            "text/plain": [
              "                       Q,A,label\n",
              "0            12시 땡!,하루가 또 가네요.,0\n",
              "1        1지망 학교 떨어졌어,위로해 드립니다.,0\n",
              "2     3박4일 놀러가고 싶다,여행은 언제나 좋죠.,0\n",
              "3  3박4일 정도 놀러가고 싶다,여행은 언제나 좋죠.,0\n",
              "4           PPL 심하네,눈살이 찌푸려지죠.,0"
            ],
            "text/html": [
              "\n",
              "  <div id=\"df-5c83d1f6-f686-42a3-8254-4119b7944ba1\">\n",
              "    <div class=\"colab-df-container\">\n",
              "      <div>\n",
              "<style scoped>\n",
              "    .dataframe tbody tr th:only-of-type {\n",
              "        vertical-align: middle;\n",
              "    }\n",
              "\n",
              "    .dataframe tbody tr th {\n",
              "        vertical-align: top;\n",
              "    }\n",
              "\n",
              "    .dataframe thead th {\n",
              "        text-align: right;\n",
              "    }\n",
              "</style>\n",
              "<table border=\"1\" class=\"dataframe\">\n",
              "  <thead>\n",
              "    <tr style=\"text-align: right;\">\n",
              "      <th></th>\n",
              "      <th>Q,A,label</th>\n",
              "    </tr>\n",
              "  </thead>\n",
              "  <tbody>\n",
              "    <tr>\n",
              "      <th>0</th>\n",
              "      <td>12시 땡!,하루가 또 가네요.,0</td>\n",
              "    </tr>\n",
              "    <tr>\n",
              "      <th>1</th>\n",
              "      <td>1지망 학교 떨어졌어,위로해 드립니다.,0</td>\n",
              "    </tr>\n",
              "    <tr>\n",
              "      <th>2</th>\n",
              "      <td>3박4일 놀러가고 싶다,여행은 언제나 좋죠.,0</td>\n",
              "    </tr>\n",
              "    <tr>\n",
              "      <th>3</th>\n",
              "      <td>3박4일 정도 놀러가고 싶다,여행은 언제나 좋죠.,0</td>\n",
              "    </tr>\n",
              "    <tr>\n",
              "      <th>4</th>\n",
              "      <td>PPL 심하네,눈살이 찌푸려지죠.,0</td>\n",
              "    </tr>\n",
              "  </tbody>\n",
              "</table>\n",
              "</div>\n",
              "      <button class=\"colab-df-convert\" onclick=\"convertToInteractive('df-5c83d1f6-f686-42a3-8254-4119b7944ba1')\"\n",
              "              title=\"Convert this dataframe to an interactive table.\"\n",
              "              style=\"display:none;\">\n",
              "        \n",
              "  <svg xmlns=\"http://www.w3.org/2000/svg\" height=\"24px\"viewBox=\"0 0 24 24\"\n",
              "       width=\"24px\">\n",
              "    <path d=\"M0 0h24v24H0V0z\" fill=\"none\"/>\n",
              "    <path d=\"M18.56 5.44l.94 2.06.94-2.06 2.06-.94-2.06-.94-.94-2.06-.94 2.06-2.06.94zm-11 1L8.5 8.5l.94-2.06 2.06-.94-2.06-.94L8.5 2.5l-.94 2.06-2.06.94zm10 10l.94 2.06.94-2.06 2.06-.94-2.06-.94-.94-2.06-.94 2.06-2.06.94z\"/><path d=\"M17.41 7.96l-1.37-1.37c-.4-.4-.92-.59-1.43-.59-.52 0-1.04.2-1.43.59L10.3 9.45l-7.72 7.72c-.78.78-.78 2.05 0 2.83L4 21.41c.39.39.9.59 1.41.59.51 0 1.02-.2 1.41-.59l7.78-7.78 2.81-2.81c.8-.78.8-2.07 0-2.86zM5.41 20L4 18.59l7.72-7.72 1.47 1.35L5.41 20z\"/>\n",
              "  </svg>\n",
              "      </button>\n",
              "      \n",
              "  <style>\n",
              "    .colab-df-container {\n",
              "      display:flex;\n",
              "      flex-wrap:wrap;\n",
              "      gap: 12px;\n",
              "    }\n",
              "\n",
              "    .colab-df-convert {\n",
              "      background-color: #E8F0FE;\n",
              "      border: none;\n",
              "      border-radius: 50%;\n",
              "      cursor: pointer;\n",
              "      display: none;\n",
              "      fill: #1967D2;\n",
              "      height: 32px;\n",
              "      padding: 0 0 0 0;\n",
              "      width: 32px;\n",
              "    }\n",
              "\n",
              "    .colab-df-convert:hover {\n",
              "      background-color: #E2EBFA;\n",
              "      box-shadow: 0px 1px 2px rgba(60, 64, 67, 0.3), 0px 1px 3px 1px rgba(60, 64, 67, 0.15);\n",
              "      fill: #174EA6;\n",
              "    }\n",
              "\n",
              "    [theme=dark] .colab-df-convert {\n",
              "      background-color: #3B4455;\n",
              "      fill: #D2E3FC;\n",
              "    }\n",
              "\n",
              "    [theme=dark] .colab-df-convert:hover {\n",
              "      background-color: #434B5C;\n",
              "      box-shadow: 0px 1px 3px 1px rgba(0, 0, 0, 0.15);\n",
              "      filter: drop-shadow(0px 1px 2px rgba(0, 0, 0, 0.3));\n",
              "      fill: #FFFFFF;\n",
              "    }\n",
              "  </style>\n",
              "\n",
              "      <script>\n",
              "        const buttonEl =\n",
              "          document.querySelector('#df-5c83d1f6-f686-42a3-8254-4119b7944ba1 button.colab-df-convert');\n",
              "        buttonEl.style.display =\n",
              "          google.colab.kernel.accessAllowed ? 'block' : 'none';\n",
              "\n",
              "        async function convertToInteractive(key) {\n",
              "          const element = document.querySelector('#df-5c83d1f6-f686-42a3-8254-4119b7944ba1');\n",
              "          const dataTable =\n",
              "            await google.colab.kernel.invokeFunction('convertToInteractive',\n",
              "                                                     [key], {});\n",
              "          if (!dataTable) return;\n",
              "\n",
              "          const docLinkHtml = 'Like what you see? Visit the ' +\n",
              "            '<a target=\"_blank\" href=https://colab.research.google.com/notebooks/data_table.ipynb>data table notebook</a>'\n",
              "            + ' to learn more about interactive tables.';\n",
              "          element.innerHTML = '';\n",
              "          dataTable['output_type'] = 'display_data';\n",
              "          await google.colab.output.renderOutput(dataTable, element);\n",
              "          const docLink = document.createElement('div');\n",
              "          docLink.innerHTML = docLinkHtml;\n",
              "          element.appendChild(docLink);\n",
              "        }\n",
              "      </script>\n",
              "    </div>\n",
              "  </div>\n",
              "  "
            ]
          },
          "metadata": {},
          "execution_count": 14
        }
      ]
    },
    {
      "cell_type": "code",
      "source": [
        "chatbot_qna = chatbot_data[\"Q,A,label\"].str.split(',')\n",
        "chatbot_qna = chatbot_qna.apply(lambda x: pd.Series(x))\n",
        "chatbot_qna = chatbot_qna.loc[:, [0, 1]]\n",
        "chatbot_qna.columns = ['question', 'answer']"
      ],
      "metadata": {
        "id": "M7lX3zpdMR0Z"
      },
      "execution_count": null,
      "outputs": []
    },
    {
      "cell_type": "code",
      "source": [
        "chatbot_qna"
      ],
      "metadata": {
        "colab": {
          "base_uri": "https://localhost:8080/",
          "height": 424
        },
        "id": "IfIuyyj8NHYR",
        "outputId": "bed505f8-f4f5-422f-9aa3-c1705aab321c"
      },
      "execution_count": null,
      "outputs": [
        {
          "output_type": "execute_result",
          "data": {
            "text/plain": [
              "                      question                    answer\n",
              "0                       12시 땡!                하루가 또 가네요.\n",
              "1                  1지망 학교 떨어졌어                 위로해 드립니다.\n",
              "2                 3박4일 놀러가고 싶다               여행은 언제나 좋죠.\n",
              "3              3박4일 정도 놀러가고 싶다               여행은 언제나 좋죠.\n",
              "4                      PPL 심하네                눈살이 찌푸려지죠.\n",
              "...                        ...                       ...\n",
              "11818           훔쳐보는 것도 눈치 보임.        티가 나니까 눈치가 보이는 거죠!\n",
              "11819           훔쳐보는 것도 눈치 보임.             훔쳐보는 거 티나나봐요.\n",
              "11820              흑기사 해주는 짝남.                    설렜겠어요.\n",
              "11821  힘든 연애 좋은 연애라는게 무슨 차이일까?  잘 헤어질 수 있는 사이 여부인 거 같아요.\n",
              "11822               힘들어서 결혼할까봐        도피성 결혼은 하지 않길 바라요.\n",
              "\n",
              "[11823 rows x 2 columns]"
            ],
            "text/html": [
              "\n",
              "  <div id=\"df-c661dc9c-2c05-4a88-bdd2-55e548f63e13\">\n",
              "    <div class=\"colab-df-container\">\n",
              "      <div>\n",
              "<style scoped>\n",
              "    .dataframe tbody tr th:only-of-type {\n",
              "        vertical-align: middle;\n",
              "    }\n",
              "\n",
              "    .dataframe tbody tr th {\n",
              "        vertical-align: top;\n",
              "    }\n",
              "\n",
              "    .dataframe thead th {\n",
              "        text-align: right;\n",
              "    }\n",
              "</style>\n",
              "<table border=\"1\" class=\"dataframe\">\n",
              "  <thead>\n",
              "    <tr style=\"text-align: right;\">\n",
              "      <th></th>\n",
              "      <th>question</th>\n",
              "      <th>answer</th>\n",
              "    </tr>\n",
              "  </thead>\n",
              "  <tbody>\n",
              "    <tr>\n",
              "      <th>0</th>\n",
              "      <td>12시 땡!</td>\n",
              "      <td>하루가 또 가네요.</td>\n",
              "    </tr>\n",
              "    <tr>\n",
              "      <th>1</th>\n",
              "      <td>1지망 학교 떨어졌어</td>\n",
              "      <td>위로해 드립니다.</td>\n",
              "    </tr>\n",
              "    <tr>\n",
              "      <th>2</th>\n",
              "      <td>3박4일 놀러가고 싶다</td>\n",
              "      <td>여행은 언제나 좋죠.</td>\n",
              "    </tr>\n",
              "    <tr>\n",
              "      <th>3</th>\n",
              "      <td>3박4일 정도 놀러가고 싶다</td>\n",
              "      <td>여행은 언제나 좋죠.</td>\n",
              "    </tr>\n",
              "    <tr>\n",
              "      <th>4</th>\n",
              "      <td>PPL 심하네</td>\n",
              "      <td>눈살이 찌푸려지죠.</td>\n",
              "    </tr>\n",
              "    <tr>\n",
              "      <th>...</th>\n",
              "      <td>...</td>\n",
              "      <td>...</td>\n",
              "    </tr>\n",
              "    <tr>\n",
              "      <th>11818</th>\n",
              "      <td>훔쳐보는 것도 눈치 보임.</td>\n",
              "      <td>티가 나니까 눈치가 보이는 거죠!</td>\n",
              "    </tr>\n",
              "    <tr>\n",
              "      <th>11819</th>\n",
              "      <td>훔쳐보는 것도 눈치 보임.</td>\n",
              "      <td>훔쳐보는 거 티나나봐요.</td>\n",
              "    </tr>\n",
              "    <tr>\n",
              "      <th>11820</th>\n",
              "      <td>흑기사 해주는 짝남.</td>\n",
              "      <td>설렜겠어요.</td>\n",
              "    </tr>\n",
              "    <tr>\n",
              "      <th>11821</th>\n",
              "      <td>힘든 연애 좋은 연애라는게 무슨 차이일까?</td>\n",
              "      <td>잘 헤어질 수 있는 사이 여부인 거 같아요.</td>\n",
              "    </tr>\n",
              "    <tr>\n",
              "      <th>11822</th>\n",
              "      <td>힘들어서 결혼할까봐</td>\n",
              "      <td>도피성 결혼은 하지 않길 바라요.</td>\n",
              "    </tr>\n",
              "  </tbody>\n",
              "</table>\n",
              "<p>11823 rows × 2 columns</p>\n",
              "</div>\n",
              "      <button class=\"colab-df-convert\" onclick=\"convertToInteractive('df-c661dc9c-2c05-4a88-bdd2-55e548f63e13')\"\n",
              "              title=\"Convert this dataframe to an interactive table.\"\n",
              "              style=\"display:none;\">\n",
              "        \n",
              "  <svg xmlns=\"http://www.w3.org/2000/svg\" height=\"24px\"viewBox=\"0 0 24 24\"\n",
              "       width=\"24px\">\n",
              "    <path d=\"M0 0h24v24H0V0z\" fill=\"none\"/>\n",
              "    <path d=\"M18.56 5.44l.94 2.06.94-2.06 2.06-.94-2.06-.94-.94-2.06-.94 2.06-2.06.94zm-11 1L8.5 8.5l.94-2.06 2.06-.94-2.06-.94L8.5 2.5l-.94 2.06-2.06.94zm10 10l.94 2.06.94-2.06 2.06-.94-2.06-.94-.94-2.06-.94 2.06-2.06.94z\"/><path d=\"M17.41 7.96l-1.37-1.37c-.4-.4-.92-.59-1.43-.59-.52 0-1.04.2-1.43.59L10.3 9.45l-7.72 7.72c-.78.78-.78 2.05 0 2.83L4 21.41c.39.39.9.59 1.41.59.51 0 1.02-.2 1.41-.59l7.78-7.78 2.81-2.81c.8-.78.8-2.07 0-2.86zM5.41 20L4 18.59l7.72-7.72 1.47 1.35L5.41 20z\"/>\n",
              "  </svg>\n",
              "      </button>\n",
              "      \n",
              "  <style>\n",
              "    .colab-df-container {\n",
              "      display:flex;\n",
              "      flex-wrap:wrap;\n",
              "      gap: 12px;\n",
              "    }\n",
              "\n",
              "    .colab-df-convert {\n",
              "      background-color: #E8F0FE;\n",
              "      border: none;\n",
              "      border-radius: 50%;\n",
              "      cursor: pointer;\n",
              "      display: none;\n",
              "      fill: #1967D2;\n",
              "      height: 32px;\n",
              "      padding: 0 0 0 0;\n",
              "      width: 32px;\n",
              "    }\n",
              "\n",
              "    .colab-df-convert:hover {\n",
              "      background-color: #E2EBFA;\n",
              "      box-shadow: 0px 1px 2px rgba(60, 64, 67, 0.3), 0px 1px 3px 1px rgba(60, 64, 67, 0.15);\n",
              "      fill: #174EA6;\n",
              "    }\n",
              "\n",
              "    [theme=dark] .colab-df-convert {\n",
              "      background-color: #3B4455;\n",
              "      fill: #D2E3FC;\n",
              "    }\n",
              "\n",
              "    [theme=dark] .colab-df-convert:hover {\n",
              "      background-color: #434B5C;\n",
              "      box-shadow: 0px 1px 3px 1px rgba(0, 0, 0, 0.15);\n",
              "      filter: drop-shadow(0px 1px 2px rgba(0, 0, 0, 0.3));\n",
              "      fill: #FFFFFF;\n",
              "    }\n",
              "  </style>\n",
              "\n",
              "      <script>\n",
              "        const buttonEl =\n",
              "          document.querySelector('#df-c661dc9c-2c05-4a88-bdd2-55e548f63e13 button.colab-df-convert');\n",
              "        buttonEl.style.display =\n",
              "          google.colab.kernel.accessAllowed ? 'block' : 'none';\n",
              "\n",
              "        async function convertToInteractive(key) {\n",
              "          const element = document.querySelector('#df-c661dc9c-2c05-4a88-bdd2-55e548f63e13');\n",
              "          const dataTable =\n",
              "            await google.colab.kernel.invokeFunction('convertToInteractive',\n",
              "                                                     [key], {});\n",
              "          if (!dataTable) return;\n",
              "\n",
              "          const docLinkHtml = 'Like what you see? Visit the ' +\n",
              "            '<a target=\"_blank\" href=https://colab.research.google.com/notebooks/data_table.ipynb>data table notebook</a>'\n",
              "            + ' to learn more about interactive tables.';\n",
              "          element.innerHTML = '';\n",
              "          dataTable['output_type'] = 'display_data';\n",
              "          await google.colab.output.renderOutput(dataTable, element);\n",
              "          const docLink = document.createElement('div');\n",
              "          docLink.innerHTML = docLinkHtml;\n",
              "          element.appendChild(docLink);\n",
              "        }\n",
              "      </script>\n",
              "    </div>\n",
              "  </div>\n",
              "  "
            ]
          },
          "metadata": {},
          "execution_count": 16
        }
      ]
    },
    {
      "cell_type": "code",
      "source": [
        "question = []\n",
        "for i in range(len(chatbot_qna['question'])):\n",
        "  question.append(chatbot_qna['question'][i])\n",
        "\n",
        "print(\"Data Size :\", len(question))\n",
        "print()\n",
        "print(\"Example\")\n",
        "for question_sen in question[:100][::20]: print(\"\", question_sen)"
      ],
      "metadata": {
        "colab": {
          "base_uri": "https://localhost:8080/"
        },
        "id": "o0wcKKIqRVfx",
        "outputId": "3e586dfc-a8f7-4c42-f7b1-1ecb6bfa1043"
      },
      "execution_count": null,
      "outputs": [
        {
          "output_type": "stream",
          "name": "stdout",
          "text": [
            "Data Size : 11823\n",
            "\n",
            "Example\n",
            " 12시 땡!\n",
            " 가스비 비싼데 감기 걸리겠어\n",
            " 간만에 떨리니까 좋더라\n",
            " 감정컨트롤을 못하겠어\n",
            " 개강룩 입어볼까\n"
          ]
        }
      ]
    },
    {
      "cell_type": "code",
      "source": [
        "answer = []\n",
        "for i in range(len(chatbot_qna['answer'])):\n",
        "  answer.append(chatbot_qna['answer'][i])\n",
        "\n",
        "print(\"Data Size :\", len(answer))\n",
        "print()\n",
        "print(\"Example\")\n",
        "for answer_sen in answer[:100][::20]: print(\"\", answer_sen)"
      ],
      "metadata": {
        "colab": {
          "base_uri": "https://localhost:8080/"
        },
        "id": "-qWeBrpEREgr",
        "outputId": "b63cb818-6af8-4624-9b42-3ffc3b33cf69"
      },
      "execution_count": null,
      "outputs": [
        {
          "output_type": "stream",
          "name": "stdout",
          "text": [
            "Data Size : 11823\n",
            "\n",
            "Example\n",
            " 하루가 또 가네요.\n",
            " 따뜻하게 사세요!\n",
            " 떨리는 감정은 그 자체로 소중해요.\n",
            " 그건 습관이에요.\n",
            " 개시해보세요.\n"
          ]
        }
      ]
    },
    {
      "cell_type": "markdown",
      "source": [
        "#데이터 탐색"
      ],
      "metadata": {
        "id": "1AmIO9pP7RkK"
      }
    },
    {
      "cell_type": "code",
      "source": [
        "num_question = np.array([len(i) for i in question])\n",
        "num_answer = np.array([len(i) for i in answer])\n",
        "\n",
        "print('Question Min Length : {}'.format(np.min(num_question)))\n",
        "print('Question Max Length : {}'.format(np.max(num_question)))\n",
        "print('Question Mean Length : {}'.format(np.mean(num_question)))\n",
        "print('Answer Min Length : {}'.format(np.min(num_answer)))\n",
        "print('Answer Max Length : {}'.format(np.max(num_answer)))\n",
        "print('Answer Mean Length : {}'.format(np.mean(num_answer)))\n",
        "print()\n",
        "plt.subplot(1,2,1)\n",
        "plt.boxplot(num_question)\n",
        "plt.title('Question')\n",
        "plt.subplot(1,2,2)\n",
        "plt.boxplot(num_answer)\n",
        "plt.title('Answer')\n",
        "plt.tight_layout()\n",
        "plt.show()\n",
        "print()\n",
        "plt.title('Question')\n",
        "plt.hist(num_question, bins = 40)\n",
        "plt.xlabel('length of samples')\n",
        "plt.ylabel('number of samples')\n",
        "plt.show()\n",
        "print()\n",
        "plt.title('Answer')\n",
        "plt.hist(num_answer, bins = 40)\n",
        "plt.xlabel('length of samples')\n",
        "plt.ylabel('number of samples')\n",
        "plt.show()"
      ],
      "metadata": {
        "colab": {
          "base_uri": "https://localhost:8080/",
          "height": 1000
        },
        "id": "DU-ymZXQ81S9",
        "outputId": "8fc2abac-b7ed-4eea-98ca-acdd545bcd6d"
      },
      "execution_count": null,
      "outputs": [
        {
          "output_type": "stream",
          "name": "stdout",
          "text": [
            "Question Min Length : 1\n",
            "Question Max Length : 56\n",
            "Question Mean Length : 12.847162310750232\n",
            "Answer Min Length : 0\n",
            "Answer Max Length : 69\n",
            "Answer Mean Length : 14.927091262792862\n",
            "\n"
          ]
        },
        {
          "output_type": "display_data",
          "data": {
            "text/plain": [
              "<Figure size 432x288 with 2 Axes>"
            ],
            "image/png": "[encoded data removed]"
          },
          "metadata": {
            "needs_background": "light"
          }
        },
        {
          "output_type": "stream",
          "name": "stdout",
          "text": [
            "\n"
          ]
        },
        {
          "output_type": "display_data",
          "data": {
            "text/plain": [
              "<Figure size 432x288 with 1 Axes>"
            ],
            "image/png": "[encoded data removed]"
          },
          "metadata": {
            "needs_background": "light"
          }
        },
        {
          "output_type": "stream",
          "name": "stdout",
          "text": [
            "\n"
          ]
        },
        {
          "output_type": "display_data",
          "data": {
            "text/plain": [
              "<Figure size 432x288 with 1 Axes>"
            ],
            "image/png": "[encoded data removed]"
          },
          "metadata": {
            "needs_background": "light"
          }
        }
      ]
    },
    {
      "cell_type": "code",
      "source": [
        "text_max_len = 40\n",
        "num_max_question = np.array([len(i) for i in question if len(i) < text_max_len])\n",
        "num_max_answer = np.array([len(i) for i in question if len(i) < text_max_len])\n",
        "\n",
        "print('Text Max Length : ', text_max_len)\n",
        "print('{:.2f}% of all sentences are within the text_max_len setting.'.format(100 * len(num_max_answer + num_max_question)/ len(num_answer + num_question)))"
      ],
      "metadata": {
        "colab": {
          "base_uri": "https://localhost:8080/"
        },
        "id": "BsJgo6Zr78ai",
        "outputId": "0d5316b8-cf79-44b3-804b-6e7feb9c9d1e"
      },
      "execution_count": null,
      "outputs": [
        {
          "output_type": "stream",
          "name": "stdout",
          "text": [
            "Text Max Length :  40\n",
            "99.81% of all sentences are within the text_max_len setting.\n"
          ]
        }
      ]
    },
    {
      "cell_type": "markdown",
      "source": [
        "적절한 최대 문장 길이를 40으로 지정한다."
      ],
      "metadata": {
        "id": "XcnqITb7E_59"
      }
    },
    {
      "cell_type": "markdown",
      "source": [
        "#데이터 전처리"
      ],
      "metadata": {
        "id": "HaGfUkyCMyhh"
      }
    },
    {
      "cell_type": "code",
      "source": [
        "def preprocess_sentence(sentence_list):\n",
        "\n",
        "    text_max_len = 40\n",
        "    corpus = []\n",
        "    for sentence in sentence_list:\n",
        "        sentence = sentence.lower().strip()\n",
        "        sentence = re.sub(r\"([?.!,])\", r\" \\1 \", sentence)\n",
        "        sentence = re.sub(r'[\" \"]+', \" \", sentence)\n",
        "        sentence = re.sub(r\"[^0-9ㄱ-ㅎㅏ-ㅣ가-힣a-zA-Z?.!,]+\", \" \", sentence)\n",
        "        sentence = sentence.strip()\n",
        "        if len(sentence) <= text_max_len:\n",
        "          corpus.append(sentence)\n",
        "        \n",
        "    return corpus"
      ],
      "metadata": {
        "id": "RC0HcQTESoBT"
      },
      "execution_count": null,
      "outputs": []
    },
    {
      "cell_type": "markdown",
      "source": [
        "영문자의 경우 소문자로 변환한다.\n",
        "<br/>영문자와 한글, 숫자, 주요 특수문자를 남기고 나머지 문자를 제외한다.\n",
        "<br/>문장의 길이가 40 이상인 문장은 제외한다."
      ],
      "metadata": {
        "id": "bmrQFD5aPDJB"
      }
    },
    {
      "cell_type": "code",
      "source": [
        "def remove_repeated_sentence(question, answer):\n",
        "\n",
        "    question_dict = {string : i for i,string in enumerate(question)}\n",
        "    answer_dict = {string : i for i,string in enumerate(answer)}\n",
        "\n",
        "    question_df = pd.DataFrame(list(question_dict.items()), columns=['value', 'key'])\n",
        "    answer_df = pd.DataFrame(list(answer_dict.items()), columns=['value', 'key'])\n",
        "    df_INNER_JOIN = pd.merge(question_df, answer_df, left_on='key', right_on='key', how='inner')\n",
        "\n",
        "    question_unique = list(df_INNER_JOIN['value_x'])\n",
        "    answer_unique = list(df_INNER_JOIN['value_y'])\n",
        "    \n",
        "    return question_unique, answer_unique"
      ],
      "metadata": {
        "id": "yCL4z1TkK512"
      },
      "execution_count": null,
      "outputs": []
    },
    {
      "cell_type": "markdown",
      "source": [
        "딕셔너리를 생성하면서 중복되는 key 값을 제외한다.\n",
        "<br/>자료구조 딕셔너리는 중복되는 key 값을 허용하지 않는다.\n",
        "<br/>데이터의 병렬 쌍이 흐트러지지 않도록 데이터프레임의 INNER JOIN을 한다.\n",
        "<br/>데이터프레임의 key_x, key_y를 리스트로 저장한다.\n",
        "<br/>question_unique는 중복 데이터를 제외한 질문 문장의 리스트이다.\n",
        "<br/>answer_unique는 중복 데이터를 제외한 대답 문장의 리스트이다."
      ],
      "metadata": {
        "id": "B9JbcjKIe-yV"
      }
    },
    {
      "cell_type": "code",
      "source": [
        "def mecab_tokenizer(sentence_list):\n",
        "  \n",
        "    corpus = []\n",
        "\n",
        "    mecab = Mecab()\n",
        "    for sentence in sentence_list:\n",
        "      token = mecab.morphs(sentence)\n",
        "      corpus.append(token)\n",
        "\n",
        "    return corpus"
      ],
      "metadata": {
        "id": "7t42uSx7MOee"
      },
      "execution_count": null,
      "outputs": []
    },
    {
      "cell_type": "markdown",
      "source": [
        "MeCab을 활용하여 토큰화한다."
      ],
      "metadata": {
        "id": "IM8ag8xqQl5Z"
      }
    },
    {
      "cell_type": "code",
      "source": [
        "def build_corpus(question_raw, answer_raw):\n",
        "  \n",
        "    question = preprocess_sentence(question_raw)\n",
        "    answer = preprocess_sentence(answer_raw)\n",
        "\n",
        "    que_unique, ans_unique = remove_repeated_sentence(question, answer)\n",
        "    que_corpus = mecab_tokenizer(que_unique)\n",
        "    ans_corpus = mecab_tokenizer(ans_unique)\n",
        "\n",
        "    return que_corpus, ans_corpus, que_unique, ans_unique"
      ],
      "metadata": {
        "id": "v8xCwEFdTpx7"
      },
      "execution_count": null,
      "outputs": []
    },
    {
      "cell_type": "code",
      "source": [
        "que_corpus, ans_corpus, que_unique, ans_unique = build_corpus(question, answer)"
      ],
      "metadata": {
        "id": "Sa7gwUGDZxNm"
      },
      "execution_count": null,
      "outputs": []
    },
    {
      "cell_type": "code",
      "source": [
        "print(\"Question Sentence\")\n",
        "print(que_unique[0], \"\\n\")\n",
        "print(\"Question Morpheme Token\")\n",
        "print(que_corpus[0], \"\\n\\n\")\n",
        "print(\"Answer Sentence\")\n",
        "print(ans_unique[0], \"\\n\")\n",
        "print(\"Answer Morpheme Token\")\n",
        "print(ans_corpus[0], \"\\n\")"
      ],
      "metadata": {
        "colab": {
          "base_uri": "https://localhost:8080/"
        },
        "id": "hVBmMAIfiuZw",
        "outputId": "1190d166-ae27-4d2d-eb31-1493c25d5a11"
      },
      "execution_count": null,
      "outputs": [
        {
          "output_type": "stream",
          "name": "stdout",
          "text": [
            "Question Sentence\n",
            "3박4일 정도 놀러가고 싶다 \n",
            "\n",
            "Question Morpheme Token\n",
            "['3', '박', '4', '일', '정도', '놀', '러', '가', '고', '싶', '다'] \n",
            "\n",
            "\n",
            "Answer Sentence\n",
            "여행은 언제나 좋죠 . \n",
            "\n",
            "Answer Morpheme Token\n",
            "['여행', '은', '언제나', '좋', '죠', '.'] \n",
            "\n"
          ]
        }
      ]
    },
    {
      "cell_type": "code",
      "source": [
        "print(\"Data Size : ({}, {})\".format(len(que_corpus), len(ans_corpus)))"
      ],
      "metadata": {
        "colab": {
          "base_uri": "https://localhost:8080/"
        },
        "id": "T3WqilVMeEXa",
        "outputId": "18624c46-bca0-4841-eea7-5d992d4390f7"
      },
      "execution_count": null,
      "outputs": [
        {
          "output_type": "stream",
          "name": "stdout",
          "text": [
            "Data Size : (7612, 7612)\n"
          ]
        }
      ]
    },
    {
      "cell_type": "markdown",
      "source": [
        "#Data Augmentation"
      ],
      "metadata": {
        "id": "hXpa5E0OPqGh"
      }
    },
    {
      "cell_type": "markdown",
      "source": [
        "##Word2Vec"
      ],
      "metadata": {
        "id": "vqBoNp916jxD"
      }
    },
    {
      "cell_type": "markdown",
      "source": [
        "[Pre-trained word vectors of 30+ languages](https://github.com/Kyubyong/wordvectors)"
      ],
      "metadata": {
        "id": "8Pibb-uoPwoZ"
      }
    },
    {
      "cell_type": "markdown",
      "source": [
        "한국어로 사전 훈련된 단어 수준의 Word2Vec Embedding 모델이다."
      ],
      "metadata": {
        "id": "qjPT5nmrR-T_"
      }
    },
    {
      "cell_type": "code",
      "source": [
        "word2vec_path = '/content/drive/MyDrive/lms/transformer_chatbot/embedding_model/word2vec.bin'\n",
        "word2vec_model = Word2Vec.load(word2vec_path)"
      ],
      "metadata": {
        "id": "pgsoqcjvM2Dw"
      },
      "execution_count": null,
      "outputs": []
    },
    {
      "cell_type": "code",
      "source": [
        "word2vec_model.wv.most_similar(\"길\")"
      ],
      "metadata": {
        "colab": {
          "base_uri": "https://localhost:8080/"
        },
        "id": "qCQk7kYL6cuV",
        "outputId": "35036dfc-886a-43fd-f0f2-50918fbcfa52"
      },
      "execution_count": null,
      "outputs": [
        {
          "output_type": "execute_result",
          "data": {
            "text/plain": [
              "[('구불구불', 0.4876348078250885),\n",
              " ('가늘', 0.4853244125843048),\n",
              " ('길다랗', 0.4841133952140808),\n",
              " ('둥글', 0.4518604874610901),\n",
              " ('짧', 0.4475528597831726),\n",
              " ('기다랗', 0.4351239502429962),\n",
              " ('푸르', 0.4280202388763428),\n",
              " ('산길', 0.4273521304130554),\n",
              " ('길쭉', 0.42183613777160645),\n",
              " ('길이', 0.42086976766586304)]"
            ]
          },
          "metadata": {},
          "execution_count": 54
        }
      ]
    },
    {
      "cell_type": "code",
      "source": [
        "for i in range(0, 150, 30):\n",
        "  if i > 0:\n",
        "    print()\n",
        "  print(\"from : \", que_unique[i])\n",
        "  print(\"to : \", end='')\n",
        "  for j in range(len(que_corpus[i])):\n",
        "    try:\n",
        "      result = word2vec_model.wv.most_similar(que_corpus[i][j])[0][0]\n",
        "      print(result, end=' ')\n",
        "    except KeyError: \n",
        "      print(que_corpus[i][j], end=' ')\n",
        "  print()"
      ],
      "metadata": {
        "colab": {
          "base_uri": "https://localhost:8080/"
        },
        "id": "tLSUp0mhnim9",
        "outputId": "e56f115b-cbd3-4bb9-d523-7dd620f55e9a"
      },
      "execution_count": null,
      "outputs": [
        {
          "output_type": "stream",
          "name": "stdout",
          "text": [
            "from :  3박4일 정도 놀러가고 싶다\n",
            "to : 3 김 4 월과 만큼 살 ㄹ래 놀드 기에 겠 으며 \n",
            "\n",
            "from :  결혼 했는데 .\n",
            "to : 재혼 했 으며 는데 \n",
            "\n",
            "from :  과식했다\n",
            "to : 과식 했 으며 \n",
            "\n",
            "from :  기본이 안 되어 있어\n",
            "to : 표준 그러 못가 이루어지 어서 없 어서 \n",
            "\n",
            "from :  꽃다발 준비했어\n",
            "to : 강아지 추진 했 어서 \n"
          ]
        }
      ]
    },
    {
      "cell_type": "code",
      "source": [
        "def display_pca_scatterplot(model, title, words=None, sample=0):\n",
        "    if words == None:\n",
        "        if sample > 0:\n",
        "            words = np.random.choice(list(model.vocab.keys()), sample)\n",
        "        else:\n",
        "            words = [ word for word in model.vocab ]\n",
        "        \n",
        "    word_vectors = np.array([model[w] for w in words])\n",
        "\n",
        "    twodim = PCA().fit_transform(word_vectors)[:,:2]\n",
        "    \n",
        "    plt.figure(figsize=(8,8))\n",
        "    plt.title(title)\n",
        "    plt.scatter(twodim[:,0], twodim[:,1], edgecolors='k', c='r')\n",
        "    for word, (x,y) in zip(words, twodim):\n",
        "        plt.text(x+0.05, y+0.05, word)"
      ],
      "metadata": {
        "id": "QtNyobSY2yUH"
      },
      "execution_count": null,
      "outputs": []
    },
    {
      "cell_type": "code",
      "source": [
        "display_pca_scatterplot(word2vec_model, \"Word2Vec\",\n",
        "                        ['민첩', '야망', '용감', '공손', \n",
        "                         '정중', '근면', '성실', '단호', \n",
        "                         '관대', '상냥', '다정', '진실', \n",
        "                         '사교', '고집', '사려', '검소', \n",
        "                         '고결', '현명', '슬기', '재치'])"
      ],
      "metadata": {
        "colab": {
          "base_uri": "https://localhost:8080/",
          "height": 499
        },
        "id": "6eD2XXIsGVTM",
        "outputId": "ecd226c1-b002-4711-b67e-9bca2ffc0810"
      },
      "execution_count": null,
      "outputs": [
        {
          "output_type": "display_data",
          "data": {
            "text/plain": [
              "<Figure size 576x576 with 1 Axes>"
            ],
            "image/png": "[encoded data removed]"
          },
          "metadata": {
            "image/png": {
              "width": 479,
              "height": 482
            },
            "needs_background": "light"
          }
        }
      ]
    },
    {
      "cell_type": "markdown",
      "source": [
        "##Glove"
      ],
      "metadata": {
        "id": "vdW_qcV1NgkY"
      }
    },
    {
      "cell_type": "markdown",
      "source": [
        "[Pre-trained word embedding vector](https://ratsgo.github.io/embedding/downloaddata.html)"
      ],
      "metadata": {
        "id": "mewSddJCNx4H"
      }
    },
    {
      "cell_type": "markdown",
      "source": [
        "학습이 완료된 단어 수준 임베딩 모델이다.\n",
        "<br/>FastText-Jamo를 제외한 모든 임베딩은 한국어 위키백과, KorQuAD, 네이버 영화 말뭉치를 은전한닢(mecab)으로\n",
        "<br/>형태소 분석한 말뭉치로 학습됐다."
      ],
      "metadata": {
        "id": "uuufStaceL7K"
      }
    },
    {
      "cell_type": "code",
      "source": [
        "glove2word2vec(glove_input_file='/content/drive/MyDrive/lms/transformer_chatbot/embedding_model/glove.txt',\n",
        "               word2vec_output_file='/content/drive/MyDrive/lms/transformer_chatbot/embedding_model/gensim_glove_vectors.txt')"
      ],
      "metadata": {
        "id": "EVrICSiNXEz5"
      },
      "execution_count": null,
      "outputs": []
    },
    {
      "cell_type": "code",
      "source": [
        "glove_path = '/content/drive/MyDrive/lms/transformer_chatbot/embedding_model/gensim_glove_vectors.txt'\n",
        "glove_model = KeyedVectors.load_word2vec_format(glove_path, binary=False)"
      ],
      "metadata": {
        "id": "ksjrikKoUbxw"
      },
      "execution_count": null,
      "outputs": []
    },
    {
      "cell_type": "code",
      "source": [
        "glove_model.most_similar(\"길\")"
      ],
      "metadata": {
        "colab": {
          "base_uri": "https://localhost:8080/"
        },
        "id": "vpYxJj2uZLBW",
        "outputId": "d4e261c8-2f5f-40af-bbe4-97b5edd53720"
      },
      "execution_count": null,
      "outputs": [
        {
          "output_type": "execute_result",
          "data": {
            "text/plain": [
              "[('삼', 0.7340559959411621),\n",
              " ('교차로', 0.7128734588623047),\n",
              " ('거리', 0.7117969989776611),\n",
              " ('고개', 0.6495471596717834),\n",
              " ('교', 0.6426589488983154),\n",
              " ('로', 0.6424239277839661),\n",
              " ('마을', 0.6404488682746887),\n",
              " ('서', 0.6330164670944214),\n",
              " ('앞', 0.6325525641441345),\n",
              " ('입구', 0.6304036378860474)]"
            ]
          },
          "metadata": {},
          "execution_count": 27
        }
      ]
    },
    {
      "cell_type": "code",
      "source": [
        "for i in range(0, 150, 30):\n",
        "  if i > 0:\n",
        "    print()\n",
        "  print(\"from : \", que_unique[i])\n",
        "  print(\"to : \", end='')\n",
        "  for j in range(len(que_corpus[i])):\n",
        "    try:\n",
        "      result = glove_model.most_similar(que_corpus[i][j])[0][0]\n",
        "      print(result, end=' ')\n",
        "    except KeyError: \n",
        "      print(que_corpus[i][j], end=' ')\n",
        "  print()"
      ],
      "metadata": {
        "colab": {
          "base_uri": "https://localhost:8080/"
        },
        "id": "ay76y8CrbFkS",
        "outputId": "250ee587-2207-49db-d1b6-c3da52097423"
      },
      "execution_count": null,
      "outputs": [
        {
          "output_type": "stream",
          "name": "stdout",
          "text": [
            "from :  3박4일 정도 놀러가고 싶다\n",
            "to : 4 김 5 월 만큼 다니 와서 는 하 겠 었 \n",
            "\n",
            "from :  결혼 했는데 .\n",
            "to : 아내 였 또 다 \n",
            "\n",
            "from :  과식했다\n",
            "to : 과음 였 었 \n",
            "\n",
            "from :  기본이 안 되어 있어\n",
            "to : 요소 은 보 었 되 다 되 \n",
            "\n",
            "from :  꽃다발 준비했어\n",
            "to : 쉐이미 위해 였 되 \n"
          ]
        }
      ]
    },
    {
      "cell_type": "code",
      "source": [
        "display_pca_scatterplot(glove_model, \"Glove\",\n",
        "                        ['민첩', '야망', '용감', '공손', \n",
        "                         '정중', '근면', '성실', '단호', \n",
        "                         '관대', '상냥', '다정', '진실', \n",
        "                         '사교', '고집', '사려', '검소', \n",
        "                         '고결', '현명', '슬기', '재치'])"
      ],
      "metadata": {
        "colab": {
          "base_uri": "https://localhost:8080/",
          "height": 499
        },
        "id": "fQp0DqyV2zKo",
        "outputId": "f88f009f-8795-43f7-c235-01b70247493d"
      },
      "execution_count": null,
      "outputs": [
        {
          "output_type": "display_data",
          "data": {
            "text/plain": [
              "<Figure size 576x576 with 1 Axes>"
            ],
            "image/png": "[encoded data removed]"
          },
          "metadata": {
            "image/png": {
              "width": 477,
              "height": 482
            },
            "needs_background": "light"
          }
        }
      ]
    },
    {
      "cell_type": "markdown",
      "source": [
        "##FastText"
      ],
      "metadata": {
        "id": "QSeys_GE6pbN"
      }
    },
    {
      "cell_type": "markdown",
      "source": [
        "[Word vectors for 157 languages](https://fasttext.cc/docs/en/crawl-vectors.html)"
      ],
      "metadata": {
        "id": "RPzvxI6D8BL9"
      }
    },
    {
      "cell_type": "markdown",
      "source": [
        "FastText 공식 사이트의 사전학습 모델 파일 용량이 4.2GB에 달하여 작업 시간이 오래 걸린다.\n",
        "<br/>따라서 용량이 가벼운 모델 파일을 대신 사용한다."
      ],
      "metadata": {
        "id": "HpIF8UcXGi7m"
      }
    },
    {
      "cell_type": "markdown",
      "source": [
        "[Pre-trained word embedding vector](https://ratsgo.github.io/embedding/downloaddata.html)"
      ],
      "metadata": {
        "id": "iPyPJ4AOigUj"
      }
    },
    {
      "cell_type": "markdown",
      "source": [
        "학습이 완료된 단어 수준 임베딩 모델이다.\n",
        "<br/>FastText-Jamo를 제외한 모든 임베딩은 한국어 위키백과, KorQuAD, 네이버 영화, 은전한닢(mecab) 코퍼스로 학습됐다."
      ],
      "metadata": {
        "id": "xF1p3j5-igW-"
      }
    },
    {
      "cell_type": "code",
      "source": [
        "fastext_path = '/content/drive/MyDrive/lms/transformer_chatbot/embedding_model/fasttext.bin'\n",
        "fastext_model = fasttext.load_model(fastext_path)"
      ],
      "metadata": {
        "id": "nQiF-zZbjazT"
      },
      "execution_count": null,
      "outputs": []
    },
    {
      "cell_type": "code",
      "source": [
        "fastext_model.get_nearest_neighbors('길')"
      ],
      "metadata": {
        "colab": {
          "base_uri": "https://localhost:8080/"
        },
        "id": "xqQMJ7yr9RmO",
        "outputId": "484998bc-f5d8-4ca6-886a-f6c67b866199"
      },
      "execution_count": null,
      "outputs": [
        {
          "output_type": "execute_result",
          "data": {
            "text/plain": [
              "[(0.6960369348526001, '안길'),\n",
              " (0.680328905582428, '다평'),\n",
              " (0.674354076385498, '허궁다리'),\n",
              " (0.6734952926635742, '한다리'),\n",
              " (0.6731016039848328, '쪽다리'),\n",
              " (0.6721546649932861, '잠로'),\n",
              " (0.6712022423744202, '거길'),\n",
              " (0.6651454567909241, '산길'),\n",
              " (0.6600451469421387, '들길'),\n",
              " (0.6581897735595703, '무네미로')]"
            ]
          },
          "metadata": {},
          "execution_count": 58
        }
      ]
    },
    {
      "cell_type": "code",
      "source": [
        "for i in range(0, 150, 30):\n",
        "  if i > 0:\n",
        "    print()\n",
        "  print(\"from : \", que_unique[i])\n",
        "  print(\"to : \", end='')\n",
        "  for j in range(len(que_corpus[i])):\n",
        "    try:\n",
        "      result = fastext_model.get_nearest_neighbors(que_corpus[i][j])[0][1]\n",
        "      print(result, end=' ')\n",
        "    except KeyError: \n",
        "      print(que_corpus[i][j], end=' ')\n",
        "  print()"
      ],
      "metadata": {
        "colab": {
          "base_uri": "https://localhost:8080/"
        },
        "id": "B1GiZWk16rOm",
        "outputId": "12940f16-4f24-4a20-d096-e038850d281e"
      },
      "execution_count": null,
      "outputs": [
        {
          "output_type": "stream",
          "name": "stdout",
          "text": [
            "from :  3박4일 정도 놀러가고 싶다\n",
            "to : 4 김 5 월 만큼 빈둥빈둥 와서 는 하 진짜로 이 \n",
            "\n",
            "from :  결혼 했는데 .\n",
            "to : 재혼 였 또 다 \n",
            "\n",
            "from :  과식했다\n",
            "to : 신경과민 였 이 \n",
            "\n",
            "from :  기본이 안 되어 있어\n",
            "to : 공통 은 방 었 져 으며 져 \n",
            "\n",
            "from :  꽃다발 준비했어\n",
            "to : 쉐이미 만반 였 져 \n"
          ]
        }
      ]
    },
    {
      "cell_type": "code",
      "source": [
        "display_pca_scatterplot(fastext_model, \"FastText\",\n",
        "                        ['민첩', '야망', '용감', '공손', \n",
        "                         '정중', '근면', '성실', '단호', \n",
        "                         '관대', '상냥', '다정', '진실', \n",
        "                         '사교', '고집', '사려', '검소', \n",
        "                         '고결', '현명', '슬기', '재치'])"
      ],
      "metadata": {
        "colab": {
          "base_uri": "https://localhost:8080/",
          "height": 499
        },
        "id": "Br88fFlEKk8S",
        "outputId": "21e2d31b-b54b-45ad-bad7-c39adc9efd69"
      },
      "execution_count": null,
      "outputs": [
        {
          "output_type": "display_data",
          "data": {
            "text/plain": [
              "<Figure size 576x576 with 1 Axes>"
            ],
            "image/png": "[encoded data removed]"
          },
          "metadata": {
            "image/png": {
              "width": 491,
              "height": 482
            },
            "needs_background": "light"
          }
        }
      ]
    },
    {
      "cell_type": "markdown",
      "source": [
        "##Lexical Substitution"
      ],
      "metadata": {
        "id": "sWIZVYD2_l_l"
      }
    },
    {
      "cell_type": "code",
      "source": [
        "def lexical_sub(sentence, word_vector):\n",
        "    try:\n",
        "        i = np.random.randint(len(sentence))\n",
        "        result = sentence[::]\n",
        "        if word_vector == word2vec_model:\n",
        "          result[i] = word2vec_model.wv.most_similar(sentence[i])[0][0]\n",
        "\n",
        "        elif word_vector == glove_model:\n",
        "          result[i] = glove_model.most_similar(sentence[i])[0][0]\n",
        "\n",
        "        elif word_vector == fastext_model:\n",
        "          result[i] = fastext_model.get_nearest_neighbors(sentence[i])[0][1]\n",
        "\n",
        "    except:   \n",
        "        return None\n",
        "\n",
        "    return result"
      ],
      "metadata": {
        "id": "_xeRxoK05Xxi"
      },
      "execution_count": null,
      "outputs": []
    },
    {
      "cell_type": "code",
      "source": [
        "def augment_corpus(src_corpus, tgt_corpus, word_vector):\n",
        "    new_src_corpus = []\n",
        "    new_tgt_corpus = []\n",
        "    corpus_size = len(src_corpus)\n",
        "    \n",
        "    for i in tqdm(range(corpus_size)):\n",
        "        old_src_sen = src_corpus[i]\n",
        "        old_tgt_sen = tgt_corpus[i]\n",
        "        \n",
        "        new_src_sen = lexical_sub(old_src_sen, word_vector)\n",
        "        new_tgt_sen = lexical_sub(old_tgt_sen, word_vector)\n",
        "\n",
        "        if new_src_sen :\n",
        "            new_src_corpus.append(new_src_sen)\n",
        "            new_tgt_corpus.append(old_tgt_sen)\n",
        "        \n",
        "        if new_tgt_sen:\n",
        "            new_tgt_corpus.append(new_tgt_sen)\n",
        "            new_src_corpus.append(old_src_sen)\n",
        "    \n",
        "    return new_src_corpus, new_tgt_corpus"
      ],
      "metadata": {
        "id": "99-JIagXwXCH"
      },
      "execution_count": null,
      "outputs": []
    },
    {
      "cell_type": "code",
      "source": [
        "new_wv_que_corpus, new_wv_ans_corpus = augment_corpus(que_corpus, ans_corpus, word2vec_model)"
      ],
      "metadata": {
        "colab": {
          "base_uri": "https://localhost:8080/",
          "height": 49,
          "referenced_widgets": [
            "3cb36072f1d44f15bf36c90ef71767fb",
            "daf2d8c607394b66a0ee11ead64cee65",
            "8d1dbf3c7c0a41f5a7a7a6f476d21963",
            "6b3258ba574840cfbc4792f17abb82d9",
            "06d9a3efdc0441cfb93fa44b103c1a6f",
            "93ff368867a043d3bb33d5c852bb5e3d",
            "fb375eb265db4d2dbd17f531b6e6dd56",
            "e4bcb03d86a843ecacdf954547251109",
            "f3984a0e827b446bbfa3aa7ce31cab4d",
            "9562d4d1b3c8486c850370593100c940",
            "bb934cc8f22040b99d5d091ddd34a392"
          ]
        },
        "id": "xIUbvl3swxvW",
        "outputId": "bc2cc239-5ba8-4008-a63f-3656054f19c9"
      },
      "execution_count": null,
      "outputs": [
        {
          "output_type": "display_data",
          "data": {
            "text/plain": [
              "  0%|          | 0/7612 [00:00<?, ?it/s]"
            ],
            "application/vnd.jupyter.widget-view+json": {
              "version_major": 2,
              "version_minor": 0,
              "model_id": "3cb36072f1d44f15bf36c90ef71767fb"
            }
          },
          "metadata": {}
        }
      ]
    },
    {
      "cell_type": "code",
      "source": [
        "new_gv_que_corpus, new_gv_ans_corpus = augment_corpus(que_corpus, ans_corpus, glove_model)"
      ],
      "metadata": {
        "colab": {
          "base_uri": "https://localhost:8080/",
          "height": 49,
          "referenced_widgets": [
            "bd63594d2abc4a0daf18c6ea12274b61",
            "01306f106953408b9f4bdc5612335507",
            "a992617fa1a5430abe56e6402a4f824f",
            "2d59519c737a406d9a7e114ded79e61f",
            "c0b880d4d7694c5fbfe79b8967dece04",
            "b491082ca19e459cb5498fffd1c64af5",
            "5107a25eb2b54d439f97685ef0cfd3d4",
            "32385d3583c944f2af28d1f3e99ef584",
            "29952b3c2a8c437d99651c60a188bdb1",
            "0afc9c8e0e284d95b9b6e15d35df525c",
            "4062a5e754a841d28e1bb884916e861f"
          ]
        },
        "id": "5CZKx8FJdwzi",
        "outputId": "c932b5ef-b83e-4312-ee38-51c63fd32239"
      },
      "execution_count": null,
      "outputs": [
        {
          "output_type": "display_data",
          "data": {
            "text/plain": [
              "  0%|          | 0/7612 [00:00<?, ?it/s]"
            ],
            "application/vnd.jupyter.widget-view+json": {
              "version_major": 2,
              "version_minor": 0,
              "model_id": "bd63594d2abc4a0daf18c6ea12274b61"
            }
          },
          "metadata": {}
        }
      ]
    },
    {
      "cell_type": "code",
      "source": [
        "new_ft_que_corpus, new_ft_ans_corpus = augment_corpus(que_corpus, ans_corpus, fastext_model)"
      ],
      "metadata": {
        "id": "i5gxHTdCGWLX",
        "colab": {
          "base_uri": "https://localhost:8080/",
          "height": 49,
          "referenced_widgets": [
            "e75f880fde6a49358efb3e21e5eec718",
            "4b1a9f331ab746009a20694d32f1501f",
            "10f9216067994a92b6fa0ea055078586",
            "800fbf1b2a034904a68b652faa8e3e3c",
            "79fa5ee34c8646fdab560bf6e1b698c7",
            "67131487eeff44e88169a33d4ff96fcf",
            "8a8997ce87e348968858df7df234dd43",
            "bb618097879c42e186b19ddac0998cd2",
            "e3c369bad28f4d36b22dce372de0d491",
            "75224f0bfc7f4da9a4dcd0a909cfc552",
            "2a23573d967043de8888122dd176f363"
          ]
        },
        "outputId": "1132ed35-04b8-4724-ae30-5bd789515cc6"
      },
      "execution_count": null,
      "outputs": [
        {
          "output_type": "display_data",
          "data": {
            "text/plain": [
              "  0%|          | 0/7612 [00:00<?, ?it/s]"
            ],
            "application/vnd.jupyter.widget-view+json": {
              "version_major": 2,
              "version_minor": 0,
              "model_id": "e75f880fde6a49358efb3e21e5eec718"
            }
          },
          "metadata": {}
        }
      ]
    },
    {
      "cell_type": "code",
      "source": [
        "new_que_corpus = que_corpus + new_wv_que_corpus + new_gv_que_corpus + new_ft_que_corpus\n",
        "new_ans_corpus = ans_corpus + new_wv_ans_corpus + new_gv_ans_corpus + new_ft_ans_corpus"
      ],
      "metadata": {
        "id": "u_ifW_AuLeYo"
      },
      "execution_count": null,
      "outputs": []
    },
    {
      "cell_type": "code",
      "source": [
        "print(\"Word2Vec Augmented Data Size : ({}, {})\".format(len(new_wv_que_corpus), len(new_wv_ans_corpus)))\n",
        "print(\"Glove Augmented Data Size : ({}, {})\".format(len(new_gv_que_corpus), len(new_gv_ans_corpus)))\n",
        "print(\"FastText Augmented Data Size : ({}, {})\".format(len(new_ft_que_corpus), len(new_ft_ans_corpus)))"
      ],
      "metadata": {
        "id": "hE2PbnQShav9",
        "colab": {
          "base_uri": "https://localhost:8080/"
        },
        "outputId": "45f76c89-1772-4ec7-8e03-e187cf0bcbe4"
      },
      "execution_count": null,
      "outputs": [
        {
          "output_type": "stream",
          "name": "stdout",
          "text": [
            "Word2Vec Augmented Data Size : (13190, 13190)\n",
            "Glove Augmented Data Size : (15132, 15132)\n",
            "FastText Augmented Data Size : (15223, 15223)\n"
          ]
        }
      ]
    },
    {
      "cell_type": "code",
      "source": [
        "print(\"Original Data Size : ({}, {})\".format(len(que_corpus), len(ans_corpus)))\n",
        "print(\"Augmented Data Size : ({}, {})\".format(len(new_que_corpus), len(new_ans_corpus)))"
      ],
      "metadata": {
        "id": "VQnb0qiA1EFs",
        "colab": {
          "base_uri": "https://localhost:8080/"
        },
        "outputId": "a792e788-9709-4cab-8305-6b7b6370a6f0"
      },
      "execution_count": null,
      "outputs": [
        {
          "output_type": "stream",
          "name": "stdout",
          "text": [
            "Original Data Size : (7612, 7612)\n",
            "Augmented Data Size : (51157, 51157)\n"
          ]
        }
      ]
    },
    {
      "cell_type": "markdown",
      "source": [
        "##File I/O"
      ],
      "metadata": {
        "id": "X955cda-NG3P"
      }
    },
    {
      "cell_type": "markdown",
      "source": [
        "전처리한 코퍼스 파일을 저장하고 다음에 불러올 수 있다면\n",
        "<br/>전처리 과정을 건너뛰고 바로 모델 구성과 학습을 진행할 수 있다.\n",
        "<br/>If Statement, For Loop, File I/O를 이용해\n",
        "전처리한 코퍼스 파일을 저장하고 불러온다."
      ],
      "metadata": {
        "id": "LIx0ziuR-2n5"
      }
    },
    {
      "cell_type": "code",
      "source": [
        "basic_txt_format = 'new_00_11_corpus.txt'\n",
        "basic_bin_format = 'new_00_11_corpus.bin'\n",
        "sen_type = ['que', 'ans']\n",
        "vec_type = ['wv', 'gv', 'ft']\n",
        "\n",
        "def original_corpus(basic_file_format):\n",
        "    augmented_corpus_list = []\n",
        "    for i in range(len(sen_type)):\n",
        "      file_format = basic_file_format.replace('00_11', sen_type[i]) \n",
        "      augmented_corpus_list.append(file_format) \n",
        "    return augmented_corpus_list\n",
        "\n",
        "def oddeven(basic_file_format, i):\n",
        "    if i % len(sen_type) == 0:\n",
        "        file_format = basic_file_format.replace('11', sen_type[i])\n",
        "    else:\n",
        "        file_format = basic_file_format.replace('11', sen_type[i])\n",
        "    return file_format\n",
        "\n",
        "def multiple(basic_file_format):\n",
        "  augmented_corpus_list = original_corpus(basic_file_format)\n",
        "  for j in range(len(vec_type)):\n",
        "      for k in range(len(sen_type)):\n",
        "          if j == 0:\n",
        "              file_format = basic_file_format.replace('00', vec_type[j])\n",
        "          elif j == 1:\n",
        "              file_format = basic_file_format.replace('00', vec_type[j])\n",
        "          elif j == 2:\n",
        "              file_format = basic_file_format.replace('00', vec_type[j])  \n",
        "          augmented_corpus_list.append(oddeven(file_format, k))\n",
        "  return augmented_corpus_list"
      ],
      "metadata": {
        "id": "qpS5YtsRs4wa"
      },
      "execution_count": null,
      "outputs": []
    },
    {
      "cell_type": "code",
      "source": [
        "txt_list = multiple(basic_txt_format)\n",
        "bin_list = multiple(basic_bin_format)\n",
        "\n",
        "file_path = '/content/drive/MyDrive/lms/transformer_chatbot/augmented_corpus/'\n",
        "txt_path_list = []\n",
        "bin_path_list = []\n",
        "\n",
        "for i in txt_list:\n",
        "  txt_path_list.append(file_path + i) \n",
        "\n",
        "for i in bin_list:\n",
        "  bin_path_list.append(file_path + i)"
      ],
      "metadata": {
        "id": "xpq0wnEmWC1O"
      },
      "execution_count": null,
      "outputs": []
    },
    {
      "cell_type": "code",
      "source": [
        "for j in range(len(txt_path_list)):\n",
        "  print(txt_path_list[j], '   ', bin_path_list[j].rjust(86))"
      ],
      "metadata": {
        "colab": {
          "base_uri": "https://localhost:8080/"
        },
        "id": "9sisfkemJ81f",
        "outputId": "e306b798-48aa-4509-db93-b5d5b9c72b7c"
      },
      "execution_count": null,
      "outputs": [
        {
          "output_type": "stream",
          "name": "stdout",
          "text": [
            "/content/drive/MyDrive/lms/transformer_chatbot/augmented_corpus/new_que_corpus.txt         /content/drive/MyDrive/lms/transformer_chatbot/augmented_corpus/new_que_corpus.bin\n",
            "/content/drive/MyDrive/lms/transformer_chatbot/augmented_corpus/new_ans_corpus.txt         /content/drive/MyDrive/lms/transformer_chatbot/augmented_corpus/new_ans_corpus.bin\n",
            "/content/drive/MyDrive/lms/transformer_chatbot/augmented_corpus/new_wv_que_corpus.txt      /content/drive/MyDrive/lms/transformer_chatbot/augmented_corpus/new_wv_que_corpus.bin\n",
            "/content/drive/MyDrive/lms/transformer_chatbot/augmented_corpus/new_wv_ans_corpus.txt      /content/drive/MyDrive/lms/transformer_chatbot/augmented_corpus/new_wv_ans_corpus.bin\n",
            "/content/drive/MyDrive/lms/transformer_chatbot/augmented_corpus/new_gv_que_corpus.txt      /content/drive/MyDrive/lms/transformer_chatbot/augmented_corpus/new_gv_que_corpus.bin\n",
            "/content/drive/MyDrive/lms/transformer_chatbot/augmented_corpus/new_gv_ans_corpus.txt      /content/drive/MyDrive/lms/transformer_chatbot/augmented_corpus/new_gv_ans_corpus.bin\n",
            "/content/drive/MyDrive/lms/transformer_chatbot/augmented_corpus/new_ft_que_corpus.txt      /content/drive/MyDrive/lms/transformer_chatbot/augmented_corpus/new_ft_que_corpus.bin\n",
            "/content/drive/MyDrive/lms/transformer_chatbot/augmented_corpus/new_ft_ans_corpus.txt      /content/drive/MyDrive/lms/transformer_chatbot/augmented_corpus/new_ft_ans_corpus.bin\n"
          ]
        }
      ]
    },
    {
      "cell_type": "code",
      "source": [
        "def save_corpus_txt(corpus_path, corpus):\n",
        "    with open(corpus_path, 'w') as f:\n",
        "        wr = csv.writer(f)\n",
        "        wr.writerows(corpus)\n",
        "\n",
        "def save_corpus_bin(corpus_path, corpus):\n",
        "    with open(corpus_path, 'wb') as f:\n",
        "      pickle.dump(corpus, f)\n",
        "\n",
        "def read_corpus_bin(corpus_path):\n",
        "    with open(corpus_path, 'rb') as f:\n",
        "       corpus = pickle.load(f)\n",
        "    return corpus"
      ],
      "metadata": {
        "id": "MH0C-0hRrhlc"
      },
      "execution_count": null,
      "outputs": []
    },
    {
      "cell_type": "code",
      "source": [
        "for i in txt_path_list:\n",
        "  if 'new_que' in i:\n",
        "      save_corpus_txt(i, new_que_corpus)\n",
        "  elif 'new_ans' in i:\n",
        "      save_corpus_txt(i, new_ans_corpus)\n",
        "  elif 'wv' in i and 'que' in i:\n",
        "      save_corpus_txt(i, new_wv_que_corpus)\n",
        "  elif 'wv' in i and 'ans' in i:\n",
        "      save_corpus_txt(i, new_wv_ans_corpus)\n",
        "  elif 'gv' in i and 'que' in i:\n",
        "      save_corpus_txt(i, new_gv_que_corpus)\n",
        "  elif 'gv' in i and 'ans' in i:\n",
        "      save_corpus_txt(i, new_gv_ans_corpus)\n",
        "  elif 'ft' in i and 'que' in i:\n",
        "      save_corpus_txt(i, new_ft_que_corpus)\n",
        "  elif 'ft' in i and 'ans' in i:\n",
        "      save_corpus_txt(i, new_ft_ans_corpus)"
      ],
      "metadata": {
        "id": "_TuG0emcMRq3"
      },
      "execution_count": null,
      "outputs": []
    },
    {
      "cell_type": "code",
      "source": [
        "for i in bin_path_list:\n",
        "  if 'new_que' in i:\n",
        "      save_corpus_bin(i, new_que_corpus)\n",
        "  elif 'new_ans' in i:\n",
        "      save_corpus_bin(i, new_ans_corpus)\n",
        "  elif 'wv' in i and 'que' in i:\n",
        "      save_corpus_bin(i, new_wv_que_corpus)\n",
        "  elif 'wv' in i and 'ans' in i:\n",
        "      save_corpus_bin(i, new_wv_ans_corpus)\n",
        "  elif 'gv' in i and 'que' in i:\n",
        "      save_corpus_bin(i, new_gv_que_corpus)\n",
        "  elif 'gv' in i and 'ans' in i:\n",
        "      save_corpus_bin(i, new_gv_ans_corpus)\n",
        "  elif 'ft' in i and 'que' in i:\n",
        "      save_corpus_bin(i, new_ft_que_corpus)\n",
        "  elif 'ft' in i and 'ans' in i:\n",
        "      save_corpus_bin(i, new_ft_ans_corpus)"
      ],
      "metadata": {
        "id": "97d7Hcbq9k7b"
      },
      "execution_count": null,
      "outputs": []
    },
    {
      "cell_type": "code",
      "source": [
        "for i in bin_path_list:\n",
        "    if 'new_que' in i:\n",
        "        new_que_corpus_from_file = read_corpus_bin(i)\n",
        "    elif 'new_ans' in i:\n",
        "        new_ans_corpus_from_file = read_corpus_bin(i)\n",
        "    elif 'wv' in i and 'que' in i:\n",
        "        new_wv_que_corpus_from_file = read_corpus_bin(i)\n",
        "    elif 'wv' in i and 'ans' in i:\n",
        "        new_wv_ans_corpus_from_file = read_corpus_bin(i)\n",
        "    elif 'gv' in i and 'que' in i:\n",
        "        new_gv_que_corpus_from_file = read_corpus_bin(i)\n",
        "    elif 'gv' in i and 'ans' in i:\n",
        "        new_gv_ans_corpus_from_file = read_corpus_bin(i)\n",
        "    elif 'ft' in i and 'que' in i:\n",
        "        new_ft_que_corpus_from_file = read_corpus_bin(i)\n",
        "    elif 'ft' in i and 'ans' in i:\n",
        "        new_ft_ans_corpus_from_file = read_corpus_bin(i)"
      ],
      "metadata": {
        "id": "OY9HunwLgkc1"
      },
      "execution_count": null,
      "outputs": []
    },
    {
      "cell_type": "code",
      "source": [
        "print(\"Word2Vec Augmented Data Size : ({}, {})\".format(len(new_wv_que_corpus_from_file), len(new_wv_ans_corpus_from_file)))\n",
        "print(\"Glove Augmented Data Size : ({}, {})\".format(len(new_gv_que_corpus_from_file), len(new_gv_ans_corpus_from_file)))\n",
        "print(\"FastText Augmented Data Size : ({}, {})\".format(len(new_ft_que_corpus_from_file), len(new_ft_ans_corpus_from_file)))\n",
        "print(\"Train Augmented Data Size : ({}, {})\".format(len(new_que_corpus_from_file), len(new_ans_corpus_from_file)))"
      ],
      "metadata": {
        "colab": {
          "base_uri": "https://localhost:8080/"
        },
        "id": "NkAT6T3EQII-",
        "outputId": "08dbdc70-072e-45dd-d7ee-d22f8003cd72"
      },
      "execution_count": null,
      "outputs": [
        {
          "output_type": "stream",
          "name": "stdout",
          "text": [
            "Word2Vec Augmented Data Size : (13190, 13190)\n",
            "Glove Augmented Data Size : (15132, 15132)\n",
            "FastText Augmented Data Size : (15223, 15223)\n",
            "Train Augmented Data Size : (51157, 51157)\n"
          ]
        }
      ]
    },
    {
      "cell_type": "markdown",
      "source": [
        "#Data Vectorization"
      ],
      "metadata": {
        "id": "n3ZycP_yQDvZ"
      }
    },
    {
      "cell_type": "code",
      "source": [
        "def make_vocabulary(que_corpus, ans_corpus, vocab_size):\n",
        "\n",
        "    src_corpus = [ \" \".join(sen) for sen in que_corpus ]\n",
        "    tgt_corpus = [ \" \".join(sen) for sen in ans_corpus ]\n",
        "    \n",
        "    mecab = Mecab()\n",
        "    src_tok = []\n",
        "    tgt_tok = []\n",
        "    word_tok = []\n",
        "    \n",
        "    for s in src_corpus:\n",
        "        tmp = mecab.morphs(s)\n",
        "        src_tok.append(tmp)\n",
        "        word_tok.append(tmp)\n",
        "    \n",
        "    for t in tgt_corpus:\n",
        "        tmp = mecab.morphs(t)\n",
        "        tgt_tok.append(tmp)\n",
        "        word_tok.append(tmp)\n",
        "        \n",
        "    words = np.concatenate(word_tok).tolist()\n",
        "    counter = Counter(words)\n",
        "    counter = counter.most_common(vocab_size-4)\n",
        "    vocab = ['<PAD>', '<start>', '<UNK>', '<end>'] + [key for key, _ in counter]\n",
        "    # 사전 구성\n",
        "    word_to_index = {word:index for index, word in enumerate(vocab)}\n",
        "\n",
        "    def wordlist_to_indexlist(wordlist):\n",
        "        return [word_to_index[word] if word in word_to_index else word_to_index['<UNK>'] for word in wordlist]\n",
        "    # 변환 text to index\n",
        "    src_corpus = list(map(wordlist_to_indexlist, src_tok))\n",
        "    tgt_corpus = list(map(wordlist_to_indexlist, tgt_tok))\n",
        "\n",
        "    index_to_word = {index:word for word, index in word_to_index.items()}\n",
        "\n",
        "    return src_corpus, tgt_corpus, word_to_index, index_to_word"
      ],
      "metadata": {
        "id": "bsk9010a6Yul"
      },
      "execution_count": null,
      "outputs": []
    },
    {
      "cell_type": "code",
      "source": [
        "vocab_size = 20000\n",
        "src_corpus, tgt_corpus, word_to_index, index_to_word = make_vocabulary(new_ans_corpus, new_que_corpus, vocab_size)"
      ],
      "metadata": {
        "id": "e0V-uxpp7ZL9"
      },
      "execution_count": null,
      "outputs": []
    },
    {
      "cell_type": "code",
      "source": [
        "def data_vectorization(src_corpus, tgt_corpus):\n",
        "\n",
        "  enc_corpus = src_corpus\n",
        "  dec_corpus = []\n",
        "  for sen in tgt_corpus:\n",
        "    dec_corpus.append([word_to_index['<start>']] + sen + [word_to_index['<end>']])\n",
        "\n",
        "  enc_tensor = tf.keras.preprocessing.sequence.pad_sequences(enc_corpus, padding='post')\n",
        "  dec_tensor = tf.keras.preprocessing.sequence.pad_sequences(dec_corpus, padding='post')\n",
        "\n",
        "  return enc_tensor, dec_tensor"
      ],
      "metadata": {
        "id": "OjfdjRl59NEU"
      },
      "execution_count": null,
      "outputs": []
    },
    {
      "cell_type": "code",
      "source": [
        "enc_tensor, dec_tensor = data_vectorization(src_corpus, tgt_corpus)"
      ],
      "metadata": {
        "id": "VkxEHiE78wX1"
      },
      "execution_count": null,
      "outputs": []
    },
    {
      "cell_type": "code",
      "source": [
        "enc_train, enc_val, dec_train, dec_val = \\\n",
        "train_test_split(enc_tensor, dec_tensor, test_size=0.01)"
      ],
      "metadata": {
        "id": "dzE-o6-hBx9D"
      },
      "execution_count": null,
      "outputs": []
    },
    {
      "cell_type": "code",
      "source": [
        "print(\"Index Word\")\n",
        "print(list(index_to_word.items())[:10])\n",
        "print()\n",
        "print(\"Word Index\")\n",
        "print(list(word_to_index.items())[:10])"
      ],
      "metadata": {
        "colab": {
          "base_uri": "https://localhost:8080/"
        },
        "id": "Nnro39L6qMMo",
        "outputId": "c0a478fb-b522-43d0-cfdd-9ffd261275d1"
      },
      "execution_count": null,
      "outputs": [
        {
          "output_type": "stream",
          "name": "stdout",
          "text": [
            "Index Word\n",
            "[(0, '<PAD>'), (1, '<start>'), (2, '<UNK>'), (3, '<end>'), (4, '.'), (5, '이'), (6, '는'), (7, '하'), (8, '을'), (9, '가')]\n",
            "\n",
            "Word Index\n",
            "[('<PAD>', 0), ('<start>', 1), ('<UNK>', 2), ('<end>', 3), ('.', 4), ('이', 5), ('는', 6), ('하', 7), ('을', 8), ('가', 9)]\n"
          ]
        }
      ]
    },
    {
      "cell_type": "code",
      "source": [
        "print(new_ans_corpus[0])\n",
        "print(enc_tensor[0])\n",
        "print()\n",
        "print(new_que_corpus[0])\n",
        "print(dec_tensor[0])"
      ],
      "metadata": {
        "colab": {
          "base_uri": "https://localhost:8080/"
        },
        "id": "_YdQi86axJYn",
        "outputId": "e2e0d0fe-a472-4d1f-8b73-edc062a3e9a1"
      },
      "execution_count": null,
      "outputs": [
        {
          "output_type": "stream",
          "name": "stdout",
          "text": [
            "['여행', '은', '언제나', '좋', '죠', '.']\n",
            "[314  14 456  11  36   4   0   0   0   0   0   0   0   0   0   0   0   0\n",
            "   0   0   0   0   0   0]\n",
            "\n",
            "['3', '박', '4', '일', '정도', '놀', '러', '가', '고', '싶', '다']\n",
            "[   1  313 2375  446   62  382  193  294    9   10   39   25    3    0\n",
            "    0    0    0    0    0    0    0    0    0    0    0    0]\n"
          ]
        }
      ]
    },
    {
      "cell_type": "markdown",
      "source": [
        "#모델 구성"
      ],
      "metadata": {
        "id": "vC633HzWM2KI"
      }
    },
    {
      "cell_type": "code",
      "source": [
        "Image(filename='/content/drive/MyDrive/lms/transformer_translation/Transformer.png') "
      ],
      "metadata": {
        "id": "ncNbv8FDM2xZ",
        "colab": {
          "base_uri": "https://localhost:8080/",
          "height": 793
        },
        "outputId": "db28a378-2d18-401b-aab8-fcbcd535ff11"
      },
      "execution_count": null,
      "outputs": [
        {
          "output_type": "execute_result",
          "data": {
            "text/plain": [
              "<IPython.core.display.Image object>"
            ],
            "image/png": "[encoded data removed]"
          },
          "metadata": {},
          "execution_count": 21
        }
      ]
    },
    {
      "cell_type": "markdown",
      "source": [
        "##Transformer"
      ],
      "metadata": {
        "id": "aMmj6r6bzIKG"
      }
    },
    {
      "cell_type": "code",
      "source": [
        "def positional_encoding(pos, d_model):\n",
        "    def cal_angle(position, i):\n",
        "        return position / np.power(10000, int(i) / d_model)\n",
        "\n",
        "    def get_posi_angle_vec(position):\n",
        "        return [cal_angle(position, i) for i in range(d_model)]\n",
        "\n",
        "    sinusoid_table = np.array([get_posi_angle_vec(pos_i) for pos_i in range(pos)])\n",
        "\n",
        "    sinusoid_table[:, 0::2] = np.sin(sinusoid_table[:, 0::2])\n",
        "    sinusoid_table[:, 1::2] = np.cos(sinusoid_table[:, 1::2])\n",
        "\n",
        "    return sinusoid_table"
      ],
      "metadata": {
        "id": "ChgZy0eYM39Q"
      },
      "execution_count": null,
      "outputs": []
    },
    {
      "cell_type": "code",
      "source": [
        "def generate_padding_mask(seq):\n",
        "    seq = tf.cast(tf.math.equal(seq, 0), tf.float32)\n",
        "    return seq[:, tf.newaxis, tf.newaxis, :]"
      ],
      "metadata": {
        "id": "RCgESb8Zyste"
      },
      "execution_count": null,
      "outputs": []
    },
    {
      "cell_type": "code",
      "source": [
        "def generate_causality_mask(src_len, tgt_len):\n",
        "    mask = 1 - np.cumsum(np.eye(src_len, tgt_len), 0)\n",
        "    return tf.cast(mask, tf.float32)"
      ],
      "metadata": {
        "id": "WEEqmOhHyuyW"
      },
      "execution_count": null,
      "outputs": []
    },
    {
      "cell_type": "code",
      "source": [
        "def generate_masks(src, tgt):\n",
        "    enc_mask = generate_padding_mask(src)\n",
        "    dec_mask = generate_padding_mask(tgt)\n",
        "\n",
        "    dec_causality_mask = generate_causality_mask(tgt.shape[1], tgt.shape[1])\n",
        "    dec_mask = tf.maximum(dec_mask, dec_causality_mask)\n",
        "\n",
        "    dec_enc_causality_mask = generate_causality_mask(tgt.shape[1], src.shape[1])\n",
        "    dec_enc_mask = tf.maximum(enc_mask, dec_enc_causality_mask)\n",
        "\n",
        "    return enc_mask, dec_enc_mask, dec_mask"
      ],
      "metadata": {
        "id": "9j0Noj64yrzd"
      },
      "execution_count": null,
      "outputs": []
    },
    {
      "cell_type": "code",
      "source": [
        "class MultiHeadAttention(tf.keras.layers.Layer):\n",
        "    def __init__(self, d_model, num_heads):\n",
        "        super(MultiHeadAttention, self).__init__()\n",
        "        self.num_heads = num_heads\n",
        "        self.d_model = d_model\n",
        "\n",
        "        self.depth = d_model // self.num_heads\n",
        "\n",
        "        self.W_q = tf.keras.layers.Dense(d_model)\n",
        "        self.W_k = tf.keras.layers.Dense(d_model)\n",
        "        self.W_v = tf.keras.layers.Dense(d_model)\n",
        "\n",
        "        self.linear = tf.keras.layers.Dense(d_model)\n",
        "\n",
        "    def scaled_dot_product_attention(self, Q, K, V, mask):\n",
        "        d_k = tf.cast(K.shape[-1], tf.float32)\n",
        "        QK = tf.matmul(Q, K, transpose_b=True)\n",
        "\n",
        "        scaled_qk = QK / tf.math.sqrt(d_k)\n",
        "\n",
        "        if mask is not None: scaled_qk += (mask * -1e9)  \n",
        "\n",
        "        attentions = tf.nn.softmax(scaled_qk, axis=-1)\n",
        "        out = tf.matmul(attentions, V)\n",
        "\n",
        "        return out, attentions\n",
        "\n",
        "\n",
        "    def split_heads(self, x):\n",
        "        bsz = x.shape[0]\n",
        "        split_x = tf.reshape(x, (bsz, -1, self.num_heads, self.depth))\n",
        "        split_x = tf.transpose(split_x, perm=[0, 2, 1, 3])\n",
        "\n",
        "        return split_x\n",
        "\n",
        "    def combine_heads(self, x):\n",
        "        bsz = x.shape[0]\n",
        "        combined_x = tf.transpose(x, perm=[0, 2, 1, 3])\n",
        "        combined_x = tf.reshape(combined_x, (bsz, -1, self.d_model))\n",
        "\n",
        "        return combined_x\n",
        "\n",
        "\n",
        "    def call(self, Q, K, V, mask):\n",
        "        WQ = self.W_q(Q)\n",
        "        WK = self.W_k(K)\n",
        "        WV = self.W_v(V)\n",
        "\n",
        "        WQ_splits = self.split_heads(WQ)\n",
        "        WK_splits = self.split_heads(WK)\n",
        "        WV_splits = self.split_heads(WV)\n",
        "\n",
        "        out, attention_weights = self.scaled_dot_product_attention(\n",
        "            WQ_splits, WK_splits, WV_splits, mask)\n",
        "\n",
        "        out = self.combine_heads(out)\n",
        "        out = self.linear(out)\n",
        "\n",
        "        return out, attention_weights"
      ],
      "metadata": {
        "id": "1OB89KgpywH9"
      },
      "execution_count": null,
      "outputs": []
    },
    {
      "cell_type": "code",
      "source": [
        "class PoswiseFeedForwardNet(tf.keras.layers.Layer):\n",
        "    def __init__(self, d_model, d_ff):\n",
        "        super(PoswiseFeedForwardNet, self).__init__()\n",
        "        self.d_model = d_model\n",
        "        self.d_ff = d_ff\n",
        "\n",
        "        self.fc1 = tf.keras.layers.Dense(d_ff, activation='relu')\n",
        "        self.fc2 = tf.keras.layers.Dense(d_model)\n",
        "\n",
        "    def call(self, x):\n",
        "        out = self.fc1(x)\n",
        "        out = self.fc2(out)\n",
        "\n",
        "        return out"
      ],
      "metadata": {
        "id": "pTrFGS0qywKt"
      },
      "execution_count": null,
      "outputs": []
    },
    {
      "cell_type": "code",
      "source": [
        "class EncoderLayer(tf.keras.layers.Layer):\n",
        "    def __init__(self, d_model, n_heads, d_ff, dropout):\n",
        "        super(EncoderLayer, self).__init__()\n",
        "\n",
        "        self.enc_self_attn = MultiHeadAttention(d_model, n_heads)\n",
        "        self.ffn = PoswiseFeedForwardNet(d_model, d_ff)\n",
        "\n",
        "        self.norm_1 = tf.keras.layers.LayerNormalization(epsilon=1e-6)\n",
        "        self.norm_2 = tf.keras.layers.LayerNormalization(epsilon=1e-6)\n",
        "\n",
        "        self.do = tf.keras.layers.Dropout(dropout)\n",
        "\n",
        "    def call(self, x, mask):\n",
        "\n",
        "        \"\"\"\n",
        "        Multi-Head Attention\n",
        "        \"\"\"\n",
        "        residual = x\n",
        "        out = self.norm_1(x)\n",
        "        out, enc_attn = self.enc_self_attn(out, out, out, mask)\n",
        "        out = self.do(out)\n",
        "        out += residual\n",
        "\n",
        "        \"\"\"\n",
        "        Position-Wise Feed Forward Network\n",
        "        \"\"\"\n",
        "        residual = out\n",
        "        out = self.norm_2(out)\n",
        "        out = self.ffn(out)\n",
        "        out = self.do(out)\n",
        "        out += residual\n",
        "\n",
        "        return out, enc_attn"
      ],
      "metadata": {
        "id": "SLLzGSFlyz2P"
      },
      "execution_count": null,
      "outputs": []
    },
    {
      "cell_type": "code",
      "source": [
        "class DecoderLayer(tf.keras.layers.Layer):\n",
        "    def __init__(self, d_model, num_heads, d_ff, dropout):\n",
        "        super(DecoderLayer, self).__init__()\n",
        "\n",
        "        self.dec_self_attn = MultiHeadAttention(d_model, num_heads)\n",
        "        self.enc_dec_attn = MultiHeadAttention(d_model, num_heads)\n",
        "\n",
        "        self.ffn = PoswiseFeedForwardNet(d_model, d_ff)\n",
        "\n",
        "        self.norm_1 = tf.keras.layers.LayerNormalization(epsilon=1e-6)\n",
        "        self.norm_2 = tf.keras.layers.LayerNormalization(epsilon=1e-6)\n",
        "        self.norm_3 = tf.keras.layers.LayerNormalization(epsilon=1e-6)\n",
        "\n",
        "        self.do = tf.keras.layers.Dropout(dropout)\n",
        "\n",
        "    def call(self, x, enc_out, causality_mask, padding_mask):\n",
        "\n",
        "        \"\"\"\n",
        "        Masked Multi-Head Attention\n",
        "        \"\"\"\n",
        "        residual = x\n",
        "        out = self.norm_1(x)\n",
        "        out, dec_attn = self.dec_self_attn(out, out, out, padding_mask)\n",
        "        out = self.do(out)\n",
        "        out += residual\n",
        "\n",
        "        \"\"\"\n",
        "        Multi-Head Attention\n",
        "        \"\"\"\n",
        "        residual = out\n",
        "        out = self.norm_2(out)\n",
        "        out, dec_enc_attn = self.dec_self_attn(out, enc_out, enc_out, causality_mask)\n",
        "        out = self.do(out)\n",
        "        out += residual\n",
        "\n",
        "        \"\"\"\n",
        "        Position-Wise Feed Forward Network\n",
        "        \"\"\"\n",
        "        residual = out\n",
        "        out = self.norm_3(out)\n",
        "        out = self.ffn(out)\n",
        "        out = self.do(out)\n",
        "        out += residual\n",
        "\n",
        "        return out, dec_attn, dec_enc_attn"
      ],
      "metadata": {
        "id": "vtK6oVbyy352"
      },
      "execution_count": null,
      "outputs": []
    },
    {
      "cell_type": "code",
      "source": [
        "class Encoder(tf.keras.Model):\n",
        "    def __init__(self,\n",
        "                    n_layers,\n",
        "                    d_model,\n",
        "                    n_heads,\n",
        "                    d_ff,\n",
        "                    dropout):\n",
        "        super(Encoder, self).__init__()\n",
        "        self.n_layers = n_layers\n",
        "        self.enc_layers = [EncoderLayer(d_model, n_heads, d_ff, dropout) \n",
        "                        for _ in range(n_layers)]\n",
        "\n",
        "        self.do = tf.keras.layers.Dropout(dropout)\n",
        "\n",
        "    def call(self, x, mask):\n",
        "        out = x\n",
        "\n",
        "        enc_attns = list()\n",
        "        for i in range(self.n_layers):\n",
        "            out, enc_attn = self.enc_layers[i](out, mask)\n",
        "            enc_attns.append(enc_attn)\n",
        "\n",
        "        return out, enc_attns"
      ],
      "metadata": {
        "id": "PxNz9uyoy4t9"
      },
      "execution_count": null,
      "outputs": []
    },
    {
      "cell_type": "code",
      "source": [
        "class Decoder(tf.keras.Model):\n",
        "    def __init__(self,\n",
        "                    n_layers,\n",
        "                    d_model,\n",
        "                    n_heads,\n",
        "                    d_ff,\n",
        "                    dropout):\n",
        "        super(Decoder, self).__init__()\n",
        "        self.n_layers = n_layers\n",
        "        self.dec_layers = [DecoderLayer(d_model, n_heads, d_ff, dropout) \n",
        "                            for _ in range(n_layers)]\n",
        "\n",
        "    def call(self, x, enc_out, causality_mask, padding_mask):\n",
        "        out = x\n",
        "\n",
        "        dec_attns = list()\n",
        "        dec_enc_attns = list()\n",
        "        for i in range(self.n_layers):\n",
        "            out, dec_attn, dec_enc_attn = \\\n",
        "            self.dec_layers[i](out, enc_out, causality_mask, padding_mask)\n",
        "\n",
        "            dec_attns.append(dec_attn)\n",
        "            dec_enc_attns.append(dec_enc_attn)\n",
        "\n",
        "        return out, dec_attns, dec_enc_attns"
      ],
      "metadata": {
        "id": "lfzo2tLHy4xT"
      },
      "execution_count": null,
      "outputs": []
    },
    {
      "cell_type": "code",
      "source": [
        "class Transformer(tf.keras.Model):\n",
        "    def __init__(self,\n",
        "                    n_layers,\n",
        "                    d_model,\n",
        "                    n_heads,\n",
        "                    d_ff,\n",
        "                    src_vocab_size,\n",
        "                    tgt_vocab_size,\n",
        "                    pos_len,\n",
        "                    dropout=0.2,\n",
        "                    shared_fc=True,\n",
        "                    shared_emb=False):\n",
        "        super(Transformer, self).__init__()\n",
        "\n",
        "        self.d_model = tf.cast(d_model, tf.float32)\n",
        "\n",
        "        if shared_emb:\n",
        "            self.enc_emb = self.dec_emb = \\\n",
        "            tf.keras.layers.Embedding(src_vocab_size, d_model)\n",
        "        else:\n",
        "            self.enc_emb = tf.keras.layers.Embedding(src_vocab_size, d_model)\n",
        "            self.dec_emb = tf.keras.layers.Embedding(tgt_vocab_size, d_model)\n",
        "\n",
        "        self.pos_encoding = positional_encoding(pos_len, d_model)\n",
        "        self.do = tf.keras.layers.Dropout(dropout)\n",
        "\n",
        "        self.encoder = Encoder(n_layers, d_model, n_heads, d_ff, dropout)\n",
        "        self.decoder = Decoder(n_layers, d_model, n_heads, d_ff, dropout)\n",
        "\n",
        "        self.fc = tf.keras.layers.Dense(tgt_vocab_size)\n",
        "\n",
        "        self.shared_fc = shared_fc\n",
        "\n",
        "        if shared_fc:\n",
        "            self.fc.set_weights(tf.transpose(self.dec_emb.weights))\n",
        "\n",
        "    def embedding(self, emb, x):\n",
        "        seq_len = x.shape[1]\n",
        "\n",
        "        out = emb(x)\n",
        "\n",
        "        if self.shared_fc: out *= tf.math.sqrt(self.d_model)\n",
        "\n",
        "        out += self.pos_encoding[np.newaxis, ...][:, :seq_len, :]\n",
        "        out = self.do(out)\n",
        "\n",
        "        return out\n",
        "\n",
        "\n",
        "    def call(self, enc_in, dec_in, enc_mask, causality_mask, dec_mask):\n",
        "        enc_in = self.embedding(self.enc_emb, enc_in)\n",
        "        dec_in = self.embedding(self.dec_emb, dec_in)\n",
        "\n",
        "        enc_out, enc_attns = self.encoder(enc_in, enc_mask)\n",
        "\n",
        "        dec_out, dec_attns, dec_enc_attns = \\\n",
        "        self.decoder(dec_in, enc_out, causality_mask, dec_mask)\n",
        "\n",
        "        logits = self.fc(dec_out)\n",
        "\n",
        "        return logits, enc_attns, dec_attns, dec_enc_attns"
      ],
      "metadata": {
        "id": "YemwRdjQy9Hk"
      },
      "execution_count": null,
      "outputs": []
    },
    {
      "cell_type": "markdown",
      "source": [
        "##Learning Rate Schedule "
      ],
      "metadata": {
        "id": "fSgMp2iyzNn1"
      }
    },
    {
      "cell_type": "code",
      "source": [
        "class LearningRateScheduler(tf.keras.optimizers.schedules.LearningRateSchedule):\n",
        "    def __init__(self, d_model, warmup_steps=4000):\n",
        "        super(LearningRateScheduler, self).__init__()\n",
        "\n",
        "        self.d_model = d_model\n",
        "        self.warmup_steps = warmup_steps\n",
        "\n",
        "    def __call__(self, step):\n",
        "        arg1 = step ** -0.5\n",
        "        arg2 = step * (self.warmup_steps ** -1.5)\n",
        "\n",
        "        return (self.d_model ** -0.5) * tf.math.minimum(arg1, arg2)"
      ],
      "metadata": {
        "id": "PWBiimo6zBRe"
      },
      "execution_count": null,
      "outputs": []
    },
    {
      "cell_type": "markdown",
      "source": [
        "##Loss Function"
      ],
      "metadata": {
        "id": "6Syr39N8zSX9"
      }
    },
    {
      "cell_type": "code",
      "source": [
        "loss_object = tf.keras.losses.SparseCategoricalCrossentropy(\n",
        "    from_logits=True, reduction='none')\n",
        "\n",
        "def loss_function(real, pred):\n",
        "    mask = tf.math.logical_not(tf.math.equal(real, 0))\n",
        "    loss_ = loss_object(real, pred)\n",
        "\n",
        "    mask = tf.cast(mask, dtype=loss_.dtype)\n",
        "    loss_ *= mask\n",
        "\n",
        "    return tf.reduce_sum(loss_)/tf.reduce_sum(mask)"
      ],
      "metadata": {
        "id": "iui8jQ73zWoU"
      },
      "execution_count": null,
      "outputs": []
    },
    {
      "cell_type": "markdown",
      "source": [
        "##Train Step"
      ],
      "metadata": {
        "id": "kg-P5ZBIzaJF"
      }
    },
    {
      "cell_type": "code",
      "source": [
        "@tf.function()\n",
        "def train_step(src, tgt, model, optimizer):\n",
        "    tgt_in = tgt[:, :-1]  # Decoder의 input\n",
        "    gold = tgt[:, 1:]     # Decoder의 output과 비교하기 위해 right shift를 통해 생성한 최종 타겟\n",
        "\n",
        "    enc_mask, dec_enc_mask, dec_mask = generate_masks(src, tgt_in)\n",
        "\n",
        "    with tf.GradientTape() as tape:\n",
        "        predictions, enc_attns, dec_attns, dec_enc_attns = \\\n",
        "        model(src, tgt_in, enc_mask, dec_enc_mask, dec_mask)\n",
        "        loss = loss_function(gold, predictions)\n",
        "\n",
        "    gradients = tape.gradient(loss, model.trainable_variables)    \n",
        "    optimizer.apply_gradients(zip(gradients, model.trainable_variables))\n",
        "\n",
        "    return loss, enc_attns, dec_attns, dec_enc_attns"
      ],
      "metadata": {
        "id": "04VZpGtFzauP"
      },
      "execution_count": null,
      "outputs": []
    },
    {
      "cell_type": "markdown",
      "source": [
        "##Evaluation"
      ],
      "metadata": {
        "id": "60F81w-bzaQt"
      }
    },
    {
      "cell_type": "code",
      "source": [
        "def preprocess_question(question):\n",
        "\n",
        "    question = question.lower().strip()\n",
        "    question = re.sub(r\"([?.!])\", r\" \\1 \", question)\n",
        "    question = re.sub(r'[\" \"]+', \" \", question)\n",
        "    question = re.sub(r\"[^0-9ㄱ-ㅎㅏ-ㅣ가-힣a-zA-Z?.!]+\", \" \", question)\n",
        "    question = question.strip()\n",
        "\n",
        "    return question"
      ],
      "metadata": {
        "id": "z8UFl0CM3PPO"
      },
      "execution_count": null,
      "outputs": []
    },
    {
      "cell_type": "code",
      "source": [
        "def evaluate(sentence, model, src_tokenizer, tgt_tokenizer):\n",
        "    sentence = preprocess_question(sentence)\n",
        "    \n",
        "    s = src_tokenizer.morphs(sentence)\n",
        "    tokens = []\n",
        "    for i in s:\n",
        "        tokens.append(word_to_index[i])\n",
        "    pieces = tokens        \n",
        "        \n",
        "    # pieces = src_tokenizer.encode_as_pieces(sentence)\n",
        "    # tokens = src_tokenizer.encode_as_ids(sentence)\n",
        "        \n",
        "    _input = tf.keras.preprocessing.sequence.pad_sequences([tokens],\n",
        "                                                           maxlen=enc_train.shape[-1],\n",
        "                                                           padding='post')\n",
        "    \n",
        "    ids = []\n",
        "    output = tf.expand_dims([1], 0)\n",
        "    for i in range(dec_train.shape[-1]):\n",
        "        enc_padding_mask, combined_mask, dec_padding_mask = \\\n",
        "        generate_masks(_input, output)\n",
        "\n",
        "        predictions, enc_attns, dec_attns, dec_enc_attns =\\\n",
        "        model(_input, \n",
        "              output,\n",
        "              enc_padding_mask,\n",
        "              combined_mask,\n",
        "              dec_padding_mask)\n",
        "\n",
        "        predicted_id = \\\n",
        "        tf.argmax(tf.math.softmax(predictions, axis=-1)[0, -1]).numpy().item()\n",
        "\n",
        "        if predicted_id == 3:\n",
        "            # result = tgt_tokenizer.decode_ids(ids)\n",
        "            result = []\n",
        "            for i in ids:\n",
        "                result.append(index_to_word[i])\n",
        "            \n",
        "            return pieces, result, enc_attns, dec_attns, dec_enc_attns\n",
        "\n",
        "        ids.append(predicted_id)\n",
        "        output = tf.concat([output, tf.expand_dims([predicted_id], 0)], axis=-1)\n",
        "\n",
        "    # result = tgt_tokenizer.decode_ids(ids)\n",
        "    result = ''\n",
        "    for i in ids:\n",
        "        result += index_to_word[i]\n",
        "    \n",
        "    return pieces, result, enc_attns, dec_attns, dec_enc_attns"
      ],
      "metadata": {
        "id": "ZMlE3lf_IAAq"
      },
      "execution_count": null,
      "outputs": []
    },
    {
      "cell_type": "code",
      "source": [
        "def answer_generate(sentence, model, src_tokenizer, tgt_tokenizer):\n",
        "    pieces, result, enc_attns, dec_attns, dec_enc_attns = \\\n",
        "    evaluate(sentence, model, src_tokenizer, tgt_tokenizer)\n",
        "\n",
        "    return result"
      ],
      "metadata": {
        "id": "ne8EfUwaGAbh"
      },
      "execution_count": null,
      "outputs": []
    },
    {
      "cell_type": "code",
      "source": [
        "def answer_print(sentence, model, src_tokenizer, tgt_tokenizer):\n",
        "    pieces, result, enc_attns, dec_attns, dec_enc_attns = \\\n",
        "    evaluate(sentence, model, src_tokenizer, tgt_tokenizer)\n",
        "\n",
        "    print(f'Input: {sentence}')\n",
        "    print(f'Predicted Answer: {\" \".join(result)}')"
      ],
      "metadata": {
        "id": "pqeApcKDGES4"
      },
      "execution_count": null,
      "outputs": []
    },
    {
      "cell_type": "markdown",
      "source": [
        "#BLEU Score"
      ],
      "metadata": {
        "id": "0pPKYWwigfb2"
      }
    },
    {
      "cell_type": "code",
      "source": [
        "def calculate_bleu(reference, candidate, weights=[0.25, 0.25, 0.25, 0.25]):\n",
        "    return sentence_bleu([reference],\n",
        "                         candidate,\n",
        "                         weights=weights,\n",
        "                         smoothing_function=SmoothingFunction().method1)"
      ],
      "metadata": {
        "id": "YTTvlEqNISgK"
      },
      "execution_count": null,
      "outputs": []
    },
    {
      "cell_type": "code",
      "source": [
        "def eval_bleu(src_corpus, tgt_corpus, model, verbose=True):\n",
        "    total_score = 0.0\n",
        "    sample_size = len(tgt_corpus)\n",
        "\n",
        "    for idx in tqdm(range(sample_size)):\n",
        "        src_tokens = src_corpus[idx]\n",
        "        tgt_tokens = tgt_corpus[idx]\n",
        "\n",
        "    # src_sentence = tokenizer.decode_ids((src_tokens.tolist()))\n",
        "    # tgt_sentence = tokenizer.decode_ids((tgt_tokens.tolist()))\n",
        "\n",
        "        src_sentence = []\n",
        "        tgt_sentence = []\n",
        "        \n",
        "        for w in src_tokens:\n",
        "            if w != 0:\n",
        "                ow = index_to_word[w]\n",
        "                src_sentence.append(ow)\n",
        "\n",
        "        src_sentence = ' '.join(src_sentence)\n",
        "        \n",
        "        for w in tgt_tokens:\n",
        "            if w != 0 and w != 1 and w != 3:\n",
        "                ow = index_to_word[w]\n",
        "                tgt_sentence.append(ow)\n",
        "   \n",
        "        tgt_sentence = ' '.join(tgt_sentence)\n",
        "        \n",
        "        reference = preprocess_question(tgt_sentence).split()\n",
        "        candidate = answer_generate(src_sentence, model, tokenizer, tokenizer)\n",
        "        \n",
        "        score = sentence_bleu([reference], candidate,\n",
        "                              smoothing_function=SmoothingFunction().method1)\n",
        "        total_score += score\n",
        "\n",
        "        if verbose:\n",
        "            print(\"Source Sentence: \", src_sentence)\n",
        "            print(\"Model Prediction: \", \" \".join(candidate))\n",
        "            print(\"Real Answer: \", \" \".join(reference))\n",
        "            print(\"Score: %lf\\n\" % score)\n",
        "\n",
        "    print(\"Num of Sample:\", sample_size)\n",
        "    print(\"Total Score:\", total_score / sample_size)"
      ],
      "metadata": {
        "id": "TiQrrpYMIc7S"
      },
      "execution_count": null,
      "outputs": []
    },
    {
      "cell_type": "markdown",
      "source": [
        "#Hyperparameter"
      ],
      "metadata": {
        "id": "5kn4Ma01p4v6"
      }
    },
    {
      "cell_type": "code",
      "source": [
        "reorderlist = ['Encoder & Decoder Layer', 'Model Dimension', 'Feedforwad Hidden Layer', 'Feedforward Network Dimension',\n",
        "               'Normalization Layer', 'Tokenizer', 'SRC Vocab Size', 'TGT Vocab Size', 'POS Length', 'Text Max Length',\n",
        "               'Dropout Rate', 'Shared FC', 'Shared EMB', 'Learning Rate', 'Optimizer', 'Activation Function',\n",
        "               'Loss Function', 'Epoch', 'Batch Size']\n",
        "\n",
        "first_hyperparameter = pd.DataFrame({'First Model':{'Encoder & Decoder Layer':2, 'Model Dimension':512,\n",
        "                                     'Feedforwad Hidden Layer':8, 'Feedforward Network Dimension':2048,\n",
        "                                     'Normalization Layer':'Pre-LN', 'Tokenizer':'MeCab',\n",
        "                                     'SRC Vocab Size':20000, 'TGT Vocab Size':20000,\n",
        "                                     'POS Length':200, 'Text Max Length':40, 'Dropout Rate':0.3,\n",
        "                                     'Shared FC': 'True', 'Shared EMB': 'True',\n",
        "                                     'Learning Rate':'Scheduler', 'Optimizer':'Adam', 'Activation Function':'Relu',\n",
        "                                     'Loss Function':'Sparse Categorical Crossentropy', 'Epoch':5, 'Batch Size':64}})\n",
        "\n",
        "first_hyperparameter = first_hyperparameter.iloc[pd.Categorical(first_hyperparameter.index,reorderlist).argsort()]\n",
        "\n",
        "first_hyperparameter.loc[:,'Second Model'] = [2, 1024, 8, 4096, 'Pre-LN', 'MeCab', 20000, 20000,\n",
        "                                              200, 40, 0.3, 'True', 'True', 'Scheduler', 'Adam', 'Relu',\n",
        "                                              'Sparse Categorical Crossentropy', 5, 256]\n",
        "\n",
        "\n",
        "pd.set_option('display.max_columns', None)\n",
        "first_hyperparameter"
      ],
      "metadata": {
        "colab": {
          "base_uri": "https://localhost:8080/",
          "height": 645
        },
        "id": "TkHKpfu156n9",
        "outputId": "f3f69f6d-e5cf-40c4-9b89-cf5d73d194fc"
      },
      "execution_count": null,
      "outputs": [
        {
          "output_type": "execute_result",
          "data": {
            "text/plain": [
              "                                                   First Model  \\\n",
              "Encoder & Decoder Layer                                      2   \n",
              "Model Dimension                                            512   \n",
              "Feedforwad Hidden Layer                                      8   \n",
              "Feedforward Network Dimension                             2048   \n",
              "Normalization Layer                                     Pre-LN   \n",
              "Tokenizer                                                MeCab   \n",
              "SRC Vocab Size                                           20000   \n",
              "TGT Vocab Size                                           20000   \n",
              "POS Length                                                 200   \n",
              "Text Max Length                                             40   \n",
              "Dropout Rate                                               0.3   \n",
              "Shared FC                                                 True   \n",
              "Shared EMB                                                True   \n",
              "Learning Rate                                        Scheduler   \n",
              "Optimizer                                                 Adam   \n",
              "Activation Function                                       Relu   \n",
              "Loss Function                  Sparse Categorical Crossentropy   \n",
              "Epoch                                                        5   \n",
              "Batch Size                                                  64   \n",
              "\n",
              "                                                  Second Model  \n",
              "Encoder & Decoder Layer                                      2  \n",
              "Model Dimension                                           1024  \n",
              "Feedforwad Hidden Layer                                      8  \n",
              "Feedforward Network Dimension                             4096  \n",
              "Normalization Layer                                     Pre-LN  \n",
              "Tokenizer                                                MeCab  \n",
              "SRC Vocab Size                                           20000  \n",
              "TGT Vocab Size                                           20000  \n",
              "POS Length                                                 200  \n",
              "Text Max Length                                             40  \n",
              "Dropout Rate                                               0.3  \n",
              "Shared FC                                                 True  \n",
              "Shared EMB                                                True  \n",
              "Learning Rate                                        Scheduler  \n",
              "Optimizer                                                 Adam  \n",
              "Activation Function                                       Relu  \n",
              "Loss Function                  Sparse Categorical Crossentropy  \n",
              "Epoch                                                        5  \n",
              "Batch Size                                                 256  "
            ],
            "text/html": [
              "\n",
              "  <div id=\"df-7b52ba67-271c-40a1-b4c6-02c9117e5882\">\n",
              "    <div class=\"colab-df-container\">\n",
              "      <div>\n",
              "<style scoped>\n",
              "    .dataframe tbody tr th:only-of-type {\n",
              "        vertical-align: middle;\n",
              "    }\n",
              "\n",
              "    .dataframe tbody tr th {\n",
              "        vertical-align: top;\n",
              "    }\n",
              "\n",
              "    .dataframe thead th {\n",
              "        text-align: right;\n",
              "    }\n",
              "</style>\n",
              "<table border=\"1\" class=\"dataframe\">\n",
              "  <thead>\n",
              "    <tr style=\"text-align: right;\">\n",
              "      <th></th>\n",
              "      <th>First Model</th>\n",
              "      <th>Second Model</th>\n",
              "    </tr>\n",
              "  </thead>\n",
              "  <tbody>\n",
              "    <tr>\n",
              "      <th>Encoder &amp; Decoder Layer</th>\n",
              "      <td>2</td>\n",
              "      <td>2</td>\n",
              "    </tr>\n",
              "    <tr>\n",
              "      <th>Model Dimension</th>\n",
              "      <td>512</td>\n",
              "      <td>1024</td>\n",
              "    </tr>\n",
              "    <tr>\n",
              "      <th>Feedforwad Hidden Layer</th>\n",
              "      <td>8</td>\n",
              "      <td>8</td>\n",
              "    </tr>\n",
              "    <tr>\n",
              "      <th>Feedforward Network Dimension</th>\n",
              "      <td>2048</td>\n",
              "      <td>4096</td>\n",
              "    </tr>\n",
              "    <tr>\n",
              "      <th>Normalization Layer</th>\n",
              "      <td>Pre-LN</td>\n",
              "      <td>Pre-LN</td>\n",
              "    </tr>\n",
              "    <tr>\n",
              "      <th>Tokenizer</th>\n",
              "      <td>MeCab</td>\n",
              "      <td>MeCab</td>\n",
              "    </tr>\n",
              "    <tr>\n",
              "      <th>SRC Vocab Size</th>\n",
              "      <td>20000</td>\n",
              "      <td>20000</td>\n",
              "    </tr>\n",
              "    <tr>\n",
              "      <th>TGT Vocab Size</th>\n",
              "      <td>20000</td>\n",
              "      <td>20000</td>\n",
              "    </tr>\n",
              "    <tr>\n",
              "      <th>POS Length</th>\n",
              "      <td>200</td>\n",
              "      <td>200</td>\n",
              "    </tr>\n",
              "    <tr>\n",
              "      <th>Text Max Length</th>\n",
              "      <td>40</td>\n",
              "      <td>40</td>\n",
              "    </tr>\n",
              "    <tr>\n",
              "      <th>Dropout Rate</th>\n",
              "      <td>0.3</td>\n",
              "      <td>0.3</td>\n",
              "    </tr>\n",
              "    <tr>\n",
              "      <th>Shared FC</th>\n",
              "      <td>True</td>\n",
              "      <td>True</td>\n",
              "    </tr>\n",
              "    <tr>\n",
              "      <th>Shared EMB</th>\n",
              "      <td>True</td>\n",
              "      <td>True</td>\n",
              "    </tr>\n",
              "    <tr>\n",
              "      <th>Learning Rate</th>\n",
              "      <td>Scheduler</td>\n",
              "      <td>Scheduler</td>\n",
              "    </tr>\n",
              "    <tr>\n",
              "      <th>Optimizer</th>\n",
              "      <td>Adam</td>\n",
              "      <td>Adam</td>\n",
              "    </tr>\n",
              "    <tr>\n",
              "      <th>Activation Function</th>\n",
              "      <td>Relu</td>\n",
              "      <td>Relu</td>\n",
              "    </tr>\n",
              "    <tr>\n",
              "      <th>Loss Function</th>\n",
              "      <td>Sparse Categorical Crossentropy</td>\n",
              "      <td>Sparse Categorical Crossentropy</td>\n",
              "    </tr>\n",
              "    <tr>\n",
              "      <th>Epoch</th>\n",
              "      <td>5</td>\n",
              "      <td>5</td>\n",
              "    </tr>\n",
              "    <tr>\n",
              "      <th>Batch Size</th>\n",
              "      <td>64</td>\n",
              "      <td>256</td>\n",
              "    </tr>\n",
              "  </tbody>\n",
              "</table>\n",
              "</div>\n",
              "      <button class=\"colab-df-convert\" onclick=\"convertToInteractive('df-7b52ba67-271c-40a1-b4c6-02c9117e5882')\"\n",
              "              title=\"Convert this dataframe to an interactive table.\"\n",
              "              style=\"display:none;\">\n",
              "        \n",
              "  <svg xmlns=\"http://www.w3.org/2000/svg\" height=\"24px\"viewBox=\"0 0 24 24\"\n",
              "       width=\"24px\">\n",
              "    <path d=\"M0 0h24v24H0V0z\" fill=\"none\"/>\n",
              "    <path d=\"M18.56 5.44l.94 2.06.94-2.06 2.06-.94-2.06-.94-.94-2.06-.94 2.06-2.06.94zm-11 1L8.5 8.5l.94-2.06 2.06-.94-2.06-.94L8.5 2.5l-.94 2.06-2.06.94zm10 10l.94 2.06.94-2.06 2.06-.94-2.06-.94-.94-2.06-.94 2.06-2.06.94z\"/><path d=\"M17.41 7.96l-1.37-1.37c-.4-.4-.92-.59-1.43-.59-.52 0-1.04.2-1.43.59L10.3 9.45l-7.72 7.72c-.78.78-.78 2.05 0 2.83L4 21.41c.39.39.9.59 1.41.59.51 0 1.02-.2 1.41-.59l7.78-7.78 2.81-2.81c.8-.78.8-2.07 0-2.86zM5.41 20L4 18.59l7.72-7.72 1.47 1.35L5.41 20z\"/>\n",
              "  </svg>\n",
              "      </button>\n",
              "      \n",
              "  <style>\n",
              "    .colab-df-container {\n",
              "      display:flex;\n",
              "      flex-wrap:wrap;\n",
              "      gap: 12px;\n",
              "    }\n",
              "\n",
              "    .colab-df-convert {\n",
              "      background-color: #E8F0FE;\n",
              "      border: none;\n",
              "      border-radius: 50%;\n",
              "      cursor: pointer;\n",
              "      display: none;\n",
              "      fill: #1967D2;\n",
              "      height: 32px;\n",
              "      padding: 0 0 0 0;\n",
              "      width: 32px;\n",
              "    }\n",
              "\n",
              "    .colab-df-convert:hover {\n",
              "      background-color: #E2EBFA;\n",
              "      box-shadow: 0px 1px 2px rgba(60, 64, 67, 0.3), 0px 1px 3px 1px rgba(60, 64, 67, 0.15);\n",
              "      fill: #174EA6;\n",
              "    }\n",
              "\n",
              "    [theme=dark] .colab-df-convert {\n",
              "      background-color: #3B4455;\n",
              "      fill: #D2E3FC;\n",
              "    }\n",
              "\n",
              "    [theme=dark] .colab-df-convert:hover {\n",
              "      background-color: #434B5C;\n",
              "      box-shadow: 0px 1px 3px 1px rgba(0, 0, 0, 0.15);\n",
              "      filter: drop-shadow(0px 1px 2px rgba(0, 0, 0, 0.3));\n",
              "      fill: #FFFFFF;\n",
              "    }\n",
              "  </style>\n",
              "\n",
              "      <script>\n",
              "        const buttonEl =\n",
              "          document.querySelector('#df-7b52ba67-271c-40a1-b4c6-02c9117e5882 button.colab-df-convert');\n",
              "        buttonEl.style.display =\n",
              "          google.colab.kernel.accessAllowed ? 'block' : 'none';\n",
              "\n",
              "        async function convertToInteractive(key) {\n",
              "          const element = document.querySelector('#df-7b52ba67-271c-40a1-b4c6-02c9117e5882');\n",
              "          const dataTable =\n",
              "            await google.colab.kernel.invokeFunction('convertToInteractive',\n",
              "                                                     [key], {});\n",
              "          if (!dataTable) return;\n",
              "\n",
              "          const docLinkHtml = 'Like what you see? Visit the ' +\n",
              "            '<a target=\"_blank\" href=https://colab.research.google.com/notebooks/data_table.ipynb>data table notebook</a>'\n",
              "            + ' to learn more about interactive tables.';\n",
              "          element.innerHTML = '';\n",
              "          dataTable['output_type'] = 'display_data';\n",
              "          await google.colab.output.renderOutput(dataTable, element);\n",
              "          const docLink = document.createElement('div');\n",
              "          docLink.innerHTML = docLinkHtml;\n",
              "          element.appendChild(docLink);\n",
              "        }\n",
              "      </script>\n",
              "    </div>\n",
              "  </div>\n",
              "  "
            ]
          },
          "metadata": {},
          "execution_count": 44
        }
      ]
    },
    {
      "cell_type": "markdown",
      "source": [
        "#First Model"
      ],
      "metadata": {
        "id": "wlARiKTJ5xPf"
      }
    },
    {
      "cell_type": "code",
      "source": [
        "vocab_size = 20000\n",
        "d_model = 512\n",
        "\n",
        "first_transformer = Transformer(n_layers=2,\n",
        "                          d_model=512,\n",
        "                          n_heads=8,\n",
        "                          d_ff=2048,\n",
        "                          src_vocab_size=vocab_size,\n",
        "                          tgt_vocab_size=vocab_size,\n",
        "                          pos_len=200,\n",
        "                          dropout=0.3,\n",
        "                          shared_fc=True,\n",
        "                          shared_emb=True)"
      ],
      "metadata": {
        "id": "sitLzn7iE_nD"
      },
      "execution_count": null,
      "outputs": []
    },
    {
      "cell_type": "code",
      "source": [
        "learning_rate = LearningRateScheduler(d_model)\n",
        "\n",
        "optimizer = tf.keras.optimizers.Adam(learning_rate,\n",
        "                                        beta_1=0.9,\n",
        "                                        beta_2=0.98, \n",
        "                                        epsilon=1e-9)"
      ],
      "metadata": {
        "id": "ecrw4MTlzR1e"
      },
      "execution_count": null,
      "outputs": []
    },
    {
      "cell_type": "code",
      "source": [
        "first_model_loss_df = pd.DataFrame({'Epoch':[0], 'Loss':[0]})\n",
        "\n",
        "batch_size = 64\n",
        "epochs = 5\n",
        "train_count = 0\n",
        "tokenizer = Mecab()\n",
        " \n",
        "sentence_list = [\"지루하다, 놀러가고 싶어.\", \"오늘 일찍 일어났더니 피곤하다.\",\n",
        "                 \"간만에 여자친구랑 데이트 하기로 했어.\", \"집에 있는다는 소리야.\"]\n",
        "\n",
        "for epoch in range(epochs):\n",
        "      total_loss = 0\n",
        "\n",
        "      idx_list = list(range(0, enc_train.shape[0], batch_size))\n",
        "      random.shuffle(idx_list)\n",
        "\n",
        "      for (batch, idx) in enumerate(idx_list):\n",
        "          batch_loss, enc_attns, dec_attns, dec_enc_attns = \\\n",
        "          train_step(enc_train[idx:idx+batch_size],\n",
        "                     dec_train[idx:idx+batch_size],\n",
        "                     first_transformer,\n",
        "                     optimizer)\n",
        "\n",
        "          total_loss += batch_loss\n",
        "\n",
        "          train_count += 1\n",
        "\n",
        "          if train_count % len(idx_list) == 0:\n",
        "              first_model_loss_df.loc[epoch] = [epoch + 1, round(total_loss.numpy() / (batch + 1), 4)]\n",
        "              first_model_loss_df = first_model_loss_df.astype({'Epoch':'int'})\n",
        "              print('Epoch {}'.format(epoch + 1))\n",
        "              print('Loss {:.4f}'.format(total_loss.numpy() / (batch + 1)))\n",
        "              print()\n",
        "\n",
        "              for sentence in sentence_list:\n",
        "                  answer_print(sentence, first_transformer, tokenizer, tokenizer)\n",
        "                  print()\n",
        "              print()"
      ],
      "metadata": {
        "id": "sYURd5Th7uTD",
        "colab": {
          "base_uri": "https://localhost:8080/"
        },
        "outputId": "3b7f2962-aacd-46ce-f6d6-bc4e0f040a7a"
      },
      "execution_count": null,
      "outputs": [
        {
          "output_type": "stream",
          "name": "stdout",
          "text": [
            "Epoch 1\n",
            "Loss 5.3369\n",
            "\n",
            "Input: 지루하다, 놀러가고 싶어.\n",
            "Predicted Answer: 나 만 안 되 네\n",
            "\n",
            "Input: 오늘 일찍 일어났더니 피곤하다.\n",
            "Predicted Answer: 오늘 도 끝 났 네\n",
            "\n",
            "Input: 간만에 여자친구랑 데이트 하기로 했어.\n",
            "Predicted Answer: 여자 친구 가 좋 아 하 는 사람 이 있 는 게 좋 아 .\n",
            "\n",
            "Input: 집에 있는다는 소리야.\n",
            "Predicted Answer: 남자 친구 가 좋 아 하 는 거 같 아\n",
            "\n",
            "\n",
            "Epoch 2\n",
            "Loss 2.4290\n",
            "\n",
            "Input: 지루하다, 놀러가고 싶어.\n",
            "Predicted Answer: 언제 다시 붙잡 고 왔 어\n",
            "\n",
            "Input: 오늘 일찍 일어났더니 피곤하다.\n",
            "Predicted Answer: 오늘 따라 좋 아 하 는 거 같 은 거 같 은데\n",
            "\n",
            "Input: 간만에 여자친구랑 데이트 하기로 했어.\n",
            "Predicted Answer: 썸 은 데 만들 되 는 것 같 아\n",
            "\n",
            "Input: 집에 있는다는 소리야.\n",
            "Predicted Answer: 5 년 째 데이트 만났 고 있 어\n",
            "\n",
            "\n",
            "Epoch 3\n",
            "Loss 1.2319\n",
            "\n",
            "Input: 지루하다, 놀러가고 싶어.\n",
            "Predicted Answer: 다시 붙잡 고 있 을까\n",
            "\n",
            "Input: 오늘 일찍 일어났더니 피곤하다.\n",
            "Predicted Answer: 오늘 은 웃 는 게 좋 아\n",
            "\n",
            "Input: 간만에 여자친구랑 데이트 하기로 했어.\n",
            "Predicted Answer: 여자 친구 가 담배 를 보내 다 나 ?\n",
            "\n",
            "Input: 집에 있는다는 소리야.\n",
            "Predicted Answer: 데이트 하 는 데 데이트 하 고 싶 어 .\n",
            "\n",
            "\n",
            "Epoch 4\n",
            "Loss 1.0411\n",
            "\n",
            "Input: 지루하다, 놀러가고 싶어.\n",
            "Predicted Answer: 게임 에서 첫 사랑 하 고 싶 어\n",
            "\n",
            "Input: 오늘 일찍 일어났더니 피곤하다.\n",
            "Predicted Answer: 아침 챙겨 하 게 좋 겠 어\n",
            "\n",
            "Input: 간만에 여자친구랑 데이트 하기로 했어.\n",
            "Predicted Answer: 어제 하 는 애 한테 남친 이랑 내일 한 테 주 기 도 싫 어 .\n",
            "\n",
            "Input: 집에 있는다는 소리야.\n",
            "Predicted Answer: 앞 에서 표정 에 잠 이 안 와\n",
            "\n",
            "\n",
            "Epoch 5\n",
            "Loss 0.9984\n",
            "\n",
            "Input: 지루하다, 놀러가고 싶어.\n",
            "Predicted Answer: 헤어져야 하 는 게 맞 는 데 돈 이 걸까 ?\n",
            "\n",
            "Input: 오늘 일찍 일어났더니 피곤하다.\n",
            "Predicted Answer: 조급 은 나 여 고 싶 어\n",
            "\n",
            "Input: 간만에 여자친구랑 데이트 하기로 했어.\n",
            "Predicted Answer: 친구 들 은 이렇게 마음 작용 이 중요 해 주 는 게 좋 아 하 는 방법 기분 이 있 는 걸까 ?\n",
            "\n",
            "Input: 집에 있는다는 소리야.\n",
            "Predicted Answer: 헤어진 여자 애 한테 어떻게 해야 겠지 ?\n",
            "\n",
            "\n"
          ]
        }
      ]
    },
    {
      "cell_type": "code",
      "source": [
        "CSS = \"\"\".output {flex-direction: row;}\"\"\"\n",
        "HTML('<style>{}</style>'.format(CSS))\n",
        "\n",
        "display(first_model_loss_df)\n",
        "print(\"\\n\")\n",
        "\n",
        "plt.figure(figsize=[12, 4])\n",
        "plt.plot(first_model_loss_df['Loss'] , label=\"Loss\")\n",
        "plt.legend()\n",
        "plt.title('Loss')\n",
        "plt.xlabel('Epoch')\n",
        "plt.ylabel('Value')\n",
        "plt.show()"
      ],
      "metadata": {
        "colab": {
          "base_uri": "https://localhost:8080/",
          "height": 521
        },
        "id": "IKNLtcJV46Wb",
        "outputId": "2d5ef3e9-3091-40d1-f6f6-cd0aa88fbcbc"
      },
      "execution_count": null,
      "outputs": [
        {
          "output_type": "display_data",
          "data": {
            "text/plain": [
              "   Epoch    Loss\n",
              "0      1  5.3369\n",
              "1      2  2.4290\n",
              "2      3  1.2319\n",
              "3      4  1.0411\n",
              "4      5  0.9984"
            ],
            "text/html": [
              "\n",
              "  <div id=\"df-543f2918-b63c-427a-ba09-e25586c0ae94\">\n",
              "    <div class=\"colab-df-container\">\n",
              "      <div>\n",
              "<style scoped>\n",
              "    .dataframe tbody tr th:only-of-type {\n",
              "        vertical-align: middle;\n",
              "    }\n",
              "\n",
              "    .dataframe tbody tr th {\n",
              "        vertical-align: top;\n",
              "    }\n",
              "\n",
              "    .dataframe thead th {\n",
              "        text-align: right;\n",
              "    }\n",
              "</style>\n",
              "<table border=\"1\" class=\"dataframe\">\n",
              "  <thead>\n",
              "    <tr style=\"text-align: right;\">\n",
              "      <th></th>\n",
              "      <th>Epoch</th>\n",
              "      <th>Loss</th>\n",
              "    </tr>\n",
              "  </thead>\n",
              "  <tbody>\n",
              "    <tr>\n",
              "      <th>0</th>\n",
              "      <td>1</td>\n",
              "      <td>5.3369</td>\n",
              "    </tr>\n",
              "    <tr>\n",
              "      <th>1</th>\n",
              "      <td>2</td>\n",
              "      <td>2.4290</td>\n",
              "    </tr>\n",
              "    <tr>\n",
              "      <th>2</th>\n",
              "      <td>3</td>\n",
              "      <td>1.2319</td>\n",
              "    </tr>\n",
              "    <tr>\n",
              "      <th>3</th>\n",
              "      <td>4</td>\n",
              "      <td>1.0411</td>\n",
              "    </tr>\n",
              "    <tr>\n",
              "      <th>4</th>\n",
              "      <td>5</td>\n",
              "      <td>0.9984</td>\n",
              "    </tr>\n",
              "  </tbody>\n",
              "</table>\n",
              "</div>\n",
              "      <button class=\"colab-df-convert\" onclick=\"convertToInteractive('df-543f2918-b63c-427a-ba09-e25586c0ae94')\"\n",
              "              title=\"Convert this dataframe to an interactive table.\"\n",
              "              style=\"display:none;\">\n",
              "        \n",
              "  <svg xmlns=\"http://www.w3.org/2000/svg\" height=\"24px\"viewBox=\"0 0 24 24\"\n",
              "       width=\"24px\">\n",
              "    <path d=\"M0 0h24v24H0V0z\" fill=\"none\"/>\n",
              "    <path d=\"M18.56 5.44l.94 2.06.94-2.06 2.06-.94-2.06-.94-.94-2.06-.94 2.06-2.06.94zm-11 1L8.5 8.5l.94-2.06 2.06-.94-2.06-.94L8.5 2.5l-.94 2.06-2.06.94zm10 10l.94 2.06.94-2.06 2.06-.94-2.06-.94-.94-2.06-.94 2.06-2.06.94z\"/><path d=\"M17.41 7.96l-1.37-1.37c-.4-.4-.92-.59-1.43-.59-.52 0-1.04.2-1.43.59L10.3 9.45l-7.72 7.72c-.78.78-.78 2.05 0 2.83L4 21.41c.39.39.9.59 1.41.59.51 0 1.02-.2 1.41-.59l7.78-7.78 2.81-2.81c.8-.78.8-2.07 0-2.86zM5.41 20L4 18.59l7.72-7.72 1.47 1.35L5.41 20z\"/>\n",
              "  </svg>\n",
              "      </button>\n",
              "      \n",
              "  <style>\n",
              "    .colab-df-container {\n",
              "      display:flex;\n",
              "      flex-wrap:wrap;\n",
              "      gap: 12px;\n",
              "    }\n",
              "\n",
              "    .colab-df-convert {\n",
              "      background-color: #E8F0FE;\n",
              "      border: none;\n",
              "      border-radius: 50%;\n",
              "      cursor: pointer;\n",
              "      display: none;\n",
              "      fill: #1967D2;\n",
              "      height: 32px;\n",
              "      padding: 0 0 0 0;\n",
              "      width: 32px;\n",
              "    }\n",
              "\n",
              "    .colab-df-convert:hover {\n",
              "      background-color: #E2EBFA;\n",
              "      box-shadow: 0px 1px 2px rgba(60, 64, 67, 0.3), 0px 1px 3px 1px rgba(60, 64, 67, 0.15);\n",
              "      fill: #174EA6;\n",
              "    }\n",
              "\n",
              "    [theme=dark] .colab-df-convert {\n",
              "      background-color: #3B4455;\n",
              "      fill: #D2E3FC;\n",
              "    }\n",
              "\n",
              "    [theme=dark] .colab-df-convert:hover {\n",
              "      background-color: #434B5C;\n",
              "      box-shadow: 0px 1px 3px 1px rgba(0, 0, 0, 0.15);\n",
              "      filter: drop-shadow(0px 1px 2px rgba(0, 0, 0, 0.3));\n",
              "      fill: #FFFFFF;\n",
              "    }\n",
              "  </style>\n",
              "\n",
              "      <script>\n",
              "        const buttonEl =\n",
              "          document.querySelector('#df-543f2918-b63c-427a-ba09-e25586c0ae94 button.colab-df-convert');\n",
              "        buttonEl.style.display =\n",
              "          google.colab.kernel.accessAllowed ? 'block' : 'none';\n",
              "\n",
              "        async function convertToInteractive(key) {\n",
              "          const element = document.querySelector('#df-543f2918-b63c-427a-ba09-e25586c0ae94');\n",
              "          const dataTable =\n",
              "            await google.colab.kernel.invokeFunction('convertToInteractive',\n",
              "                                                     [key], {});\n",
              "          if (!dataTable) return;\n",
              "\n",
              "          const docLinkHtml = 'Like what you see? Visit the ' +\n",
              "            '<a target=\"_blank\" href=https://colab.research.google.com/notebooks/data_table.ipynb>data table notebook</a>'\n",
              "            + ' to learn more about interactive tables.';\n",
              "          element.innerHTML = '';\n",
              "          dataTable['output_type'] = 'display_data';\n",
              "          await google.colab.output.renderOutput(dataTable, element);\n",
              "          const docLink = document.createElement('div');\n",
              "          docLink.innerHTML = docLinkHtml;\n",
              "          element.appendChild(docLink);\n",
              "        }\n",
              "      </script>\n",
              "    </div>\n",
              "  </div>\n",
              "  "
            ]
          },
          "metadata": {}
        },
        {
          "output_type": "stream",
          "name": "stdout",
          "text": [
            "\n",
            "\n"
          ]
        },
        {
          "output_type": "display_data",
          "data": {
            "text/plain": [
              "<Figure size 864x288 with 1 Axes>"
            ],
            "image/png": "[encoded data removed]"
          },
          "metadata": {
            "needs_background": "light"
          }
        }
      ]
    },
    {
      "cell_type": "code",
      "source": [
        "first_model_loss_df.to_csv(\"/content/drive/MyDrive/lms/transformer_chatbot/first_model_loss.csv\", index = False)"
      ],
      "metadata": {
        "id": "di45a5i946ZV"
      },
      "execution_count": null,
      "outputs": []
    },
    {
      "cell_type": "markdown",
      "source": [
        "챗봇의 경우, 올바른 대답을 하는지가 중요한 평가 지표이다.\n",
        "<br/>올바른 답변을 하는지 눈으로 확인할 수 있겠지만, 많은 데이터의 경우는 모든 결과를 확인할 수 없다.\n",
        "<br/>주어진 질문에 적절한 답변을 하는지 확인하고, BLEU Score를 계산하는 calculate_bleu() 함수도 적용한다."
      ],
      "metadata": {
        "id": "b00dBcL1QpgJ"
      }
    },
    {
      "cell_type": "code",
      "source": [
        "for sentence in sentence_list:\n",
        "  answer_print(sentence, first_transformer, tokenizer, tokenizer)\n",
        "  print()"
      ],
      "metadata": {
        "colab": {
          "base_uri": "https://localhost:8080/"
        },
        "id": "MVdHjrmOd6b9",
        "outputId": "09521e41-0efd-498f-c205-903e9ecb27db"
      },
      "execution_count": null,
      "outputs": [
        {
          "output_type": "stream",
          "name": "stdout",
          "text": [
            "Input: 지루하다, 놀러가고 싶어.\n",
            "Predicted Answer: 헤어져야 하 는 게 맞 는 데 돈 이 걸까 ?\n",
            "\n",
            "Input: 오늘 일찍 일어났더니 피곤하다.\n",
            "Predicted Answer: 조급 은 나 여 고 싶 어\n",
            "\n",
            "Input: 간만에 여자친구랑 데이트 하기로 했어.\n",
            "Predicted Answer: 친구 들 은 이렇게 마음 작용 이 중요 해 주 는 게 좋 아 하 는 방법 기분 이 있 는 걸까 ?\n",
            "\n",
            "Input: 집에 있는다는 소리야.\n",
            "Predicted Answer: 헤어진 여자 애 한테 어떻게 해야 겠지 ?\n",
            "\n"
          ]
        }
      ]
    },
    {
      "cell_type": "code",
      "source": [
        "eval_bleu(enc_val[:3], dec_val[:3], first_transformer, True)"
      ],
      "metadata": {
        "colab": {
          "base_uri": "https://localhost:8080/",
          "height": 361,
          "referenced_widgets": [
            "3a9fafb28d8a46d7a97b7e1e5002565b",
            "80daf6e94edb4d928ff41a511184a737",
            "baf454fa298f40d9be311b1a3b192df0",
            "21c948c939784adc8436b8ab9cd244d7",
            "99a8b07d2db445e89483e8cbb6158dd2",
            "c2ff257cf8e449a2bf84d8886535eea4",
            "d65bd8bfdcc14f40a7876cc83226055a",
            "bc35a17851f04dc1a37725346c7e6830",
            "fd8d7c42642d41bf931d2d5f2cfb4f82",
            "538b01fea5c24793bc56843e14c6b87d",
            "378430d439b54ae4965825e16f6e83cb"
          ]
        },
        "id": "viCq4DEKfHyr",
        "outputId": "862c0bdc-b590-400e-9cbe-959da4a84661"
      },
      "execution_count": null,
      "outputs": [
        {
          "output_type": "display_data",
          "data": {
            "text/plain": [
              "  0%|          | 0/3 [00:00<?, ?it/s]"
            ],
            "application/vnd.jupyter.widget-view+json": {
              "version_major": 2,
              "version_minor": 0,
              "model_id": "3a9fafb28d8a46d7a97b7e1e5002565b"
            }
          },
          "metadata": {}
        },
        {
          "output_type": "stream",
          "name": "stdout",
          "text": [
            "Source Sentence:  잠깐 주무세요 .\n",
            "Model Prediction:  추우 니까 나가 기 싫 어\n",
            "Real Answer:  추우 니까 나가 기 싫 어\n",
            "Score: 1.000000\n",
            "\n",
            "Source Sentence:  그럴수록 당신 이 힘들 거 예요 .\n",
            "Model Prediction:  잊 을 수 없 다는 거 이제 알 겠 네\n",
            "Real Answer:  잊 를 수 없 다는 거 이제 알 겠 네\n",
            "Score: 0.782542\n",
            "\n",
            "Source Sentence:  연예인 걱정 이 제일 일부러 어 요 .\n",
            "Model Prediction:  연애 위기 인 거 같 아\n",
            "Real Answer:  연애 위기 인 거 같 아\n",
            "Score: 1.000000\n",
            "\n",
            "Num of Sample: 3\n",
            "Total Score: 0.9275140966788813\n"
          ]
        }
      ]
    },
    {
      "cell_type": "code",
      "source": [
        "eval_bleu(enc_val, dec_val, first_transformer, False)"
      ],
      "metadata": {
        "colab": {
          "base_uri": "https://localhost:8080/",
          "height": 86,
          "referenced_widgets": [
            "a278796e0df041488270b454927f0618",
            "a4d215fc641b44a8819c6b6e2343faaa",
            "6752c6b60e65472aa7340be04317f091",
            "63dcae6747504486b3d0b658112e080f",
            "8163161cb4e8450793d2bece82b4f75e",
            "dc8e09228aa143c28e916688690f9e26",
            "78550ef6df0146898bfc76faf5fbec77",
            "8a15b9308324411aa3cac2f6fcf8b354",
            "997e1791d9d74e6a92b94e27db61f4fc",
            "02c27f885e754575820d7364d31a8b3c",
            "0d9f2effc9b147ce91df84c49a4eab5e"
          ]
        },
        "id": "DywgqROsfIKT",
        "outputId": "0f0e462b-5b3c-44a2-f949-96580746ebd4"
      },
      "execution_count": null,
      "outputs": [
        {
          "output_type": "display_data",
          "data": {
            "text/plain": [
              "  0%|          | 0/512 [00:00<?, ?it/s]"
            ],
            "application/vnd.jupyter.widget-view+json": {
              "version_major": 2,
              "version_minor": 0,
              "model_id": "a278796e0df041488270b454927f0618"
            }
          },
          "metadata": {}
        },
        {
          "output_type": "stream",
          "name": "stdout",
          "text": [
            "Num of Sample: 512\n",
            "Total Score: 0.3553519578841624\n"
          ]
        }
      ]
    },
    {
      "cell_type": "markdown",
      "source": [
        "#Second Model"
      ],
      "metadata": {
        "id": "8V7uZ4m_527-"
      }
    },
    {
      "cell_type": "code",
      "source": [
        "vocab_size = 20000\n",
        "d_model = 1024\n",
        "\n",
        "second_transformer = Transformer(n_layers=2,\n",
        "                          d_model=1024,\n",
        "                          n_heads=8,\n",
        "                          d_ff=4096,\n",
        "                          src_vocab_size=vocab_size,\n",
        "                          tgt_vocab_size=vocab_size,\n",
        "                          pos_len=200,\n",
        "                          dropout=0.3,\n",
        "                          shared_fc=True,\n",
        "                          shared_emb=True)"
      ],
      "metadata": {
        "id": "EC3wjoCcE9YC"
      },
      "execution_count": null,
      "outputs": []
    },
    {
      "cell_type": "code",
      "source": [
        "learning_rate = LearningRateScheduler(d_model)\n",
        "\n",
        "optimizer = tf.keras.optimizers.Adam(learning_rate,\n",
        "                                        beta_1=0.9,\n",
        "                                        beta_2=0.98, \n",
        "                                        epsilon=1e-9)"
      ],
      "metadata": {
        "id": "ukHbd_jIE9rp"
      },
      "execution_count": null,
      "outputs": []
    },
    {
      "cell_type": "code",
      "source": [
        "second_model_loss_df = pd.DataFrame({'Epoch':[0], 'Loss':[0]})\n",
        "\n",
        "batch_size = 256\n",
        "epochs = 5\n",
        "train_count = 0\n",
        "tokenizer = Mecab()\n",
        " \n",
        "sentence_list = [\"지루하다, 놀러가고 싶어.\", \"오늘 일찍 일어났더니 피곤하다.\",\n",
        "                 \"간만에 여자친구랑 데이트 하기로 했어.\", \"집에 있는다는 소리야.\"]\n",
        "\n",
        "for epoch in range(epochs):\n",
        "      total_loss = 0\n",
        "\n",
        "      idx_list = list(range(0, enc_train.shape[0], batch_size))\n",
        "      random.shuffle(idx_list)\n",
        "\n",
        "      for (batch, idx) in enumerate(idx_list):\n",
        "          batch_loss, enc_attns, dec_attns, dec_enc_attns = \\\n",
        "          train_step(enc_train[idx:idx+batch_size],\n",
        "                     dec_train[idx:idx+batch_size],\n",
        "                     second_transformer,\n",
        "                     optimizer)\n",
        "\n",
        "          total_loss += batch_loss\n",
        "\n",
        "          train_count += 1\n",
        "\n",
        "          if train_count % len(idx_list) == 0:\n",
        "              second_model_loss_df.loc[epoch] = [epoch + 1, round(total_loss.numpy() / (batch + 1), 4)]\n",
        "              second_model_loss_df = second_model_loss_df.astype({'Epoch':'int'})\n",
        "              print('Epoch {}'.format(epoch + 1))\n",
        "              print('Loss {:.4f}'.format(total_loss.numpy() / (batch + 1)))\n",
        "              print()\n",
        "\n",
        "              for sentence in sentence_list:\n",
        "                  answer_print(sentence, second_transformer, tokenizer, tokenizer)\n",
        "                  print()\n",
        "              print()"
      ],
      "metadata": {
        "colab": {
          "base_uri": "https://localhost:8080/"
        },
        "id": "4GPFI-zNhomp",
        "outputId": "ff5ed774-ea09-4179-8154-489551e5a6e3"
      },
      "execution_count": null,
      "outputs": [
        {
          "output_type": "stream",
          "name": "stdout",
          "text": [
            "Epoch 1\n",
            "Loss 6.8999\n",
            "\n",
            "Input: 지루하다, 놀러가고 싶어.\n",
            "Predicted Answer: 이별 하 는 사람 이\n",
            "\n",
            "Input: 오늘 일찍 일어났더니 피곤하다.\n",
            "Predicted Answer: 좋 아 하 는 사람 이 네\n",
            "\n",
            "Input: 간만에 여자친구랑 데이트 하기로 했어.\n",
            "Predicted Answer: 남자 친구 가 나\n",
            "\n",
            "Input: 집에 있는다는 소리야.\n",
            "Predicted Answer: 내 가 가 좋 아\n",
            "\n",
            "\n",
            "Epoch 2\n",
            "Loss 4.5029\n",
            "\n",
            "Input: 지루하다, 놀러가고 싶어.\n",
            "Predicted Answer: 이 별 이 네\n",
            "\n",
            "Input: 오늘 일찍 일어났더니 피곤하다.\n",
            "Predicted Answer: 오늘 도 좋 아 하 는 사람 이 뭐 가 좋 아 하 는 것 같 아\n",
            "\n",
            "Input: 간만에 여자친구랑 데이트 하기로 했어.\n",
            "Predicted Answer: 나 를 좋아하 는 사람 이 너무 힘들 어\n",
            "\n",
            "Input: 집에 있는다는 소리야.\n",
            "Predicted Answer: 내 가 너무 많 아\n",
            "\n",
            "\n",
            "Epoch 3\n",
            "Loss 2.8705\n",
            "\n",
            "Input: 지루하다, 놀러가고 싶어.\n",
            "Predicted Answer: 헤어진지 1 년 째\n",
            "\n",
            "Input: 오늘 일찍 일어났더니 피곤하다.\n",
            "Predicted Answer: 공휴일 이 너무 많 아\n",
            "\n",
            "Input: 간만에 여자친구랑 데이트 하기로 했어.\n",
            "Predicted Answer: 나 를 좋아하 는 사람 이랑 내 가 나 의 나 만 싫 어 .\n",
            "\n",
            "Input: 집에 있는다는 소리야.\n",
            "Predicted Answer: 미끄러질 먹 었\n",
            "\n",
            "\n",
            "Epoch 4\n",
            "Loss 1.2792\n",
            "\n",
            "Input: 지루하다, 놀러가고 싶어.\n",
            "Predicted Answer: 연애 안 됐 어\n",
            "\n",
            "Input: 오늘 일찍 일어났더니 피곤하다.\n",
            "Predicted Answer: 기다리 고 이 것 같 은 것 같 아\n",
            "\n",
            "Input: 간만에 여자친구랑 데이트 하기로 했어.\n",
            "Predicted Answer: 내 가 연락 이 나 는 것 같 아\n",
            "\n",
            "Input: 집에 있는다는 소리야.\n",
            "Predicted Answer: 날씨 가 내 가 많 아\n",
            "\n",
            "\n",
            "Epoch 5\n",
            "Loss 0.6900\n",
            "\n",
            "Input: 지루하다, 놀러가고 싶어.\n",
            "Predicted Answer: 연애 를 하 네\n",
            "\n",
            "Input: 오늘 일찍 일어났더니 피곤하다.\n",
            "Predicted Answer: 기다리 고 이 것 같 아\n",
            "\n",
            "Input: 간만에 여자친구랑 데이트 하기로 했어.\n",
            "Predicted Answer: 짝 남 이랑 생각 했 던 내 친구 는 나 의 이야기 .\n",
            "\n",
            "Input: 집에 있는다는 소리야.\n",
            "Predicted Answer: 오늘 따라 ?\n",
            "\n",
            "\n"
          ]
        }
      ]
    },
    {
      "cell_type": "code",
      "source": [
        "CSS = \"\"\".output {flex-direction: row;}\"\"\"\n",
        "HTML('<style>{}</style>'.format(CSS))\n",
        "\n",
        "display(second_model_loss_df)\n",
        "print(\"\\n\")\n",
        "\n",
        "plt.figure(figsize=[12, 4])\n",
        "plt.plot(second_model_loss_df['Loss'] , label=\"Loss\")\n",
        "plt.legend()\n",
        "plt.title('Loss')\n",
        "plt.xlabel('Epoch')\n",
        "plt.ylabel('Value')\n",
        "plt.show()"
      ],
      "metadata": {
        "colab": {
          "base_uri": "https://localhost:8080/",
          "height": 521
        },
        "id": "6JXXdALghzns",
        "outputId": "368ab56e-913a-4821-d4ed-3b5cb35d3490"
      },
      "execution_count": null,
      "outputs": [
        {
          "output_type": "display_data",
          "data": {
            "text/plain": [
              "   Epoch    Loss\n",
              "0      1  6.8999\n",
              "1      2  4.5029\n",
              "2      3  2.8705\n",
              "3      4  1.2792\n",
              "4      5  0.6900"
            ],
            "text/html": [
              "\n",
              "  <div id=\"df-4a47afad-2638-44a5-b42c-74ccaf12a04e\">\n",
              "    <div class=\"colab-df-container\">\n",
              "      <div>\n",
              "<style scoped>\n",
              "    .dataframe tbody tr th:only-of-type {\n",
              "        vertical-align: middle;\n",
              "    }\n",
              "\n",
              "    .dataframe tbody tr th {\n",
              "        vertical-align: top;\n",
              "    }\n",
              "\n",
              "    .dataframe thead th {\n",
              "        text-align: right;\n",
              "    }\n",
              "</style>\n",
              "<table border=\"1\" class=\"dataframe\">\n",
              "  <thead>\n",
              "    <tr style=\"text-align: right;\">\n",
              "      <th></th>\n",
              "      <th>Epoch</th>\n",
              "      <th>Loss</th>\n",
              "    </tr>\n",
              "  </thead>\n",
              "  <tbody>\n",
              "    <tr>\n",
              "      <th>0</th>\n",
              "      <td>1</td>\n",
              "      <td>6.8999</td>\n",
              "    </tr>\n",
              "    <tr>\n",
              "      <th>1</th>\n",
              "      <td>2</td>\n",
              "      <td>4.5029</td>\n",
              "    </tr>\n",
              "    <tr>\n",
              "      <th>2</th>\n",
              "      <td>3</td>\n",
              "      <td>2.8705</td>\n",
              "    </tr>\n",
              "    <tr>\n",
              "      <th>3</th>\n",
              "      <td>4</td>\n",
              "      <td>1.2792</td>\n",
              "    </tr>\n",
              "    <tr>\n",
              "      <th>4</th>\n",
              "      <td>5</td>\n",
              "      <td>0.6900</td>\n",
              "    </tr>\n",
              "  </tbody>\n",
              "</table>\n",
              "</div>\n",
              "      <button class=\"colab-df-convert\" onclick=\"convertToInteractive('df-4a47afad-2638-44a5-b42c-74ccaf12a04e')\"\n",
              "              title=\"Convert this dataframe to an interactive table.\"\n",
              "              style=\"display:none;\">\n",
              "        \n",
              "  <svg xmlns=\"http://www.w3.org/2000/svg\" height=\"24px\"viewBox=\"0 0 24 24\"\n",
              "       width=\"24px\">\n",
              "    <path d=\"M0 0h24v24H0V0z\" fill=\"none\"/>\n",
              "    <path d=\"M18.56 5.44l.94 2.06.94-2.06 2.06-.94-2.06-.94-.94-2.06-.94 2.06-2.06.94zm-11 1L8.5 8.5l.94-2.06 2.06-.94-2.06-.94L8.5 2.5l-.94 2.06-2.06.94zm10 10l.94 2.06.94-2.06 2.06-.94-2.06-.94-.94-2.06-.94 2.06-2.06.94z\"/><path d=\"M17.41 7.96l-1.37-1.37c-.4-.4-.92-.59-1.43-.59-.52 0-1.04.2-1.43.59L10.3 9.45l-7.72 7.72c-.78.78-.78 2.05 0 2.83L4 21.41c.39.39.9.59 1.41.59.51 0 1.02-.2 1.41-.59l7.78-7.78 2.81-2.81c.8-.78.8-2.07 0-2.86zM5.41 20L4 18.59l7.72-7.72 1.47 1.35L5.41 20z\"/>\n",
              "  </svg>\n",
              "      </button>\n",
              "      \n",
              "  <style>\n",
              "    .colab-df-container {\n",
              "      display:flex;\n",
              "      flex-wrap:wrap;\n",
              "      gap: 12px;\n",
              "    }\n",
              "\n",
              "    .colab-df-convert {\n",
              "      background-color: #E8F0FE;\n",
              "      border: none;\n",
              "      border-radius: 50%;\n",
              "      cursor: pointer;\n",
              "      display: none;\n",
              "      fill: #1967D2;\n",
              "      height: 32px;\n",
              "      padding: 0 0 0 0;\n",
              "      width: 32px;\n",
              "    }\n",
              "\n",
              "    .colab-df-convert:hover {\n",
              "      background-color: #E2EBFA;\n",
              "      box-shadow: 0px 1px 2px rgba(60, 64, 67, 0.3), 0px 1px 3px 1px rgba(60, 64, 67, 0.15);\n",
              "      fill: #174EA6;\n",
              "    }\n",
              "\n",
              "    [theme=dark] .colab-df-convert {\n",
              "      background-color: #3B4455;\n",
              "      fill: #D2E3FC;\n",
              "    }\n",
              "\n",
              "    [theme=dark] .colab-df-convert:hover {\n",
              "      background-color: #434B5C;\n",
              "      box-shadow: 0px 1px 3px 1px rgba(0, 0, 0, 0.15);\n",
              "      filter: drop-shadow(0px 1px 2px rgba(0, 0, 0, 0.3));\n",
              "      fill: #FFFFFF;\n",
              "    }\n",
              "  </style>\n",
              "\n",
              "      <script>\n",
              "        const buttonEl =\n",
              "          document.querySelector('#df-4a47afad-2638-44a5-b42c-74ccaf12a04e button.colab-df-convert');\n",
              "        buttonEl.style.display =\n",
              "          google.colab.kernel.accessAllowed ? 'block' : 'none';\n",
              "\n",
              "        async function convertToInteractive(key) {\n",
              "          const element = document.querySelector('#df-4a47afad-2638-44a5-b42c-74ccaf12a04e');\n",
              "          const dataTable =\n",
              "            await google.colab.kernel.invokeFunction('convertToInteractive',\n",
              "                                                     [key], {});\n",
              "          if (!dataTable) return;\n",
              "\n",
              "          const docLinkHtml = 'Like what you see? Visit the ' +\n",
              "            '<a target=\"_blank\" href=https://colab.research.google.com/notebooks/data_table.ipynb>data table notebook</a>'\n",
              "            + ' to learn more about interactive tables.';\n",
              "          element.innerHTML = '';\n",
              "          dataTable['output_type'] = 'display_data';\n",
              "          await google.colab.output.renderOutput(dataTable, element);\n",
              "          const docLink = document.createElement('div');\n",
              "          docLink.innerHTML = docLinkHtml;\n",
              "          element.appendChild(docLink);\n",
              "        }\n",
              "      </script>\n",
              "    </div>\n",
              "  </div>\n",
              "  "
            ]
          },
          "metadata": {}
        },
        {
          "output_type": "stream",
          "name": "stdout",
          "text": [
            "\n",
            "\n"
          ]
        },
        {
          "output_type": "display_data",
          "data": {
            "text/plain": [
              "<Figure size 864x288 with 1 Axes>"
            ],
            "image/png": "[encoded data removed]"
          },
          "metadata": {
            "needs_background": "light"
          }
        }
      ]
    },
    {
      "cell_type": "code",
      "source": [
        "second_model_loss_df.to_csv(\"/content/drive/MyDrive/lms/transformer_chatbot/second_model_loss.csv\", index = False)"
      ],
      "metadata": {
        "id": "1frvyGQPhuxh"
      },
      "execution_count": null,
      "outputs": []
    },
    {
      "cell_type": "code",
      "source": [
        "for sentence in sentence_list:\n",
        "  answer_print(sentence, second_transformer, tokenizer, tokenizer)\n",
        "  print()"
      ],
      "metadata": {
        "colab": {
          "base_uri": "https://localhost:8080/"
        },
        "id": "aNGMZ9V8h562",
        "outputId": "793318ae-c47f-49bf-b6be-dcf0fec1dda5"
      },
      "execution_count": null,
      "outputs": [
        {
          "output_type": "stream",
          "name": "stdout",
          "text": [
            "Input: 지루하다, 놀러가고 싶어.\n",
            "Predicted Answer: 연애 를 하 네\n",
            "\n",
            "Input: 오늘 일찍 일어났더니 피곤하다.\n",
            "Predicted Answer: 기다리 고 이 것 같 아\n",
            "\n",
            "Input: 간만에 여자친구랑 데이트 하기로 했어.\n",
            "Predicted Answer: 짝 남 이랑 생각 했 던 내 친구 는 나 의 이야기 .\n",
            "\n",
            "Input: 집에 있는다는 소리야.\n",
            "Predicted Answer: 오늘 따라 ?\n",
            "\n"
          ]
        }
      ]
    },
    {
      "cell_type": "code",
      "source": [
        "eval_bleu(enc_val[:3], dec_val[:3], second_transformer, True)"
      ],
      "metadata": {
        "colab": {
          "base_uri": "https://localhost:8080/",
          "height": 361,
          "referenced_widgets": [
            "8cc316e533d54fa09b07b0b0b0753b70",
            "31454a6c34a54a3eb342a45a0de22365",
            "f48d75739fb94c30b9c5e3c8d5a499e0",
            "8c9e3598d703433bb0d1e65fc7dc1105",
            "1bea6e19d6764836aa7de5e2ecfae444",
            "c1582a9fcf4b4dfc9b9bc58e99bd68a2",
            "a94b5224c8564e11b99ecef6dbedbe97",
            "5f3e4c5d61414ee1a8c29535d691e811",
            "d37a04fbadf54bd487fa3091b597dcdf",
            "3e5e7072d6e04624a4aa73a7d9d5065b",
            "9027858cb39a48cfad0f8d2888602f88"
          ]
        },
        "id": "M4f8aFwch_a6",
        "outputId": "ab557367-7a5e-464a-cfe2-a8c6c41a4b3e"
      },
      "execution_count": null,
      "outputs": [
        {
          "output_type": "display_data",
          "data": {
            "text/plain": [
              "  0%|          | 0/3 [00:00<?, ?it/s]"
            ],
            "application/vnd.jupyter.widget-view+json": {
              "version_major": 2,
              "version_minor": 0,
              "model_id": "8cc316e533d54fa09b07b0b0b0753b70"
            }
          },
          "metadata": {}
        },
        {
          "output_type": "stream",
          "name": "stdout",
          "text": [
            "Source Sentence:  많이 힘들 었 겠 어요 .\n",
            "Model Prediction:  해선 안 될 사랑 .\n",
            "Real Answer:  해선 안 될 사랑 .\n",
            "Score: 1.000000\n",
            "\n",
            "Source Sentence:  그분 생각 으로 가득 찼 나 봐요 .\n",
            "Model Prediction:  벌써 한 달 은 었 다 되 었 다\n",
            "Real Answer:  벌써 한 달 이 되 었 이\n",
            "Score: 0.149237\n",
            "\n",
            "Source Sentence:  침대 와 한 몸 이 되 어 푹 쉬 세요 .\n",
            "Model Prediction:  친구 한테 몇 년 만 에 연락 해도 되 나\n",
            "Real Answer:  친구 한테 몇 년 만 이 에 연락 해도 되 나\n",
            "Score: 0.710867\n",
            "\n",
            "Num of Sample: 3\n",
            "Total Score: 0.6200346945918417\n"
          ]
        }
      ]
    },
    {
      "cell_type": "code",
      "source": [
        "eval_bleu(enc_val, dec_val, second_transformer, False)"
      ],
      "metadata": {
        "colab": {
          "base_uri": "https://localhost:8080/",
          "height": 86,
          "referenced_widgets": [
            "97967c1cb07644579840badd76f8909d",
            "60c1042541f044cf8569d6cef1419d09",
            "0987c452ca874e83be7f8b2282bb0487",
            "8426f7b72f6c4e73ab548ce1012ab094",
            "4e5ad38fa44e46dca48aa54a84d7b178",
            "98b53401f48f44f9a639caaee7bd53d8",
            "250e9ab5a7f34a0690540f77d2fb6dd5",
            "878a8f73783046ae91a5e6308d04aa7f",
            "5be514e03b064523b3dd33abfffb1c70",
            "718d763f77e14b899af777b9ea039c0a",
            "88a98a2a3c0f433da80a339c7f9ab876"
          ]
        },
        "id": "ebFxuQuZh_lr",
        "outputId": "db6b9e7e-d96c-4cbc-900d-93644826f3d7"
      },
      "execution_count": null,
      "outputs": [
        {
          "output_type": "display_data",
          "data": {
            "text/plain": [
              "  0%|          | 0/512 [00:00<?, ?it/s]"
            ],
            "application/vnd.jupyter.widget-view+json": {
              "version_major": 2,
              "version_minor": 0,
              "model_id": "97967c1cb07644579840badd76f8909d"
            }
          },
          "metadata": {}
        },
        {
          "output_type": "stream",
          "name": "stdout",
          "text": [
            "Num of Sample: 512\n",
            "Total Score: 0.5123873628903671\n"
          ]
        }
      ]
    },
    {
      "cell_type": "markdown",
      "source": [
        "#최종 모델"
      ],
      "metadata": {
        "id": "4z1L8fMDr8WQ"
      }
    },
    {
      "cell_type": "code",
      "source": [
        "CSS = \"\"\".output {flex-direction: row;}\"\"\"\n",
        "HTML('<style>{}</style>'.format(CSS))\n",
        "\n",
        "reorderlist = ['Encoder & Decoder Layer', 'Model Dimension', 'Feedforwad Hidden Layer', 'Feedforward Network Dimension',\n",
        "               'Normalization Layer', 'Tokenizer', 'SRC Vocab Size', 'TGT Vocab Size', 'POS Length', 'Text Max Length',\n",
        "               'Dropout Rate', 'Shared FC', 'Shared EMB', 'Learning Rate', 'Optimizer', 'Activation Function',\n",
        "               'Loss Function', 'Epoch', 'Batch Size']\n",
        "\n",
        "final_hyperparameter = pd.DataFrame({'First Model':{'Encoder & Decoder Layer':2, 'Model Dimension':1024,\n",
        "                                     'Feedforwad Hidden Layer':8, 'Feedforward Network Dimension':4096,\n",
        "                                     'Normalization Layer':'Pre-LN', 'Tokenizer':'MeCab',\n",
        "                                     'SRC Vocab Size':20000, 'TGT Vocab Size':20000,\n",
        "                                     'POS Length':200, 'Text Max Length':40, 'Dropout Rate':0.3,\n",
        "                                     'Shared FC': 'True', 'Shared EMB': 'True',\n",
        "                                     'Learning Rate':'Scheduler', 'Optimizer':'Adam', 'Activation Function':'Relu',\n",
        "                                     'Loss Function':'Sparse Categorical Crossentropy', 'Epoch':5, 'Batch Size':256}})\n",
        "\n",
        "final_hyperparameter = final_hyperparameter.iloc[pd.Categorical(final_hyperparameter.index,reorderlist).argsort()]\n",
        "\n",
        "final_model_loss_df = pd.read_csv(\"/content/drive/MyDrive/lms/transformer_chatbot/second_model_loss.csv\")\n",
        "final_model_loss_df.to_csv(\"/content/drive/MyDrive/lms/transformer_chatbot/final_model_loss.csv\", index = False)\n",
        "\n",
        "with pd.option_context('display.max_rows',None):\n",
        "  display(final_hyperparameter)\n",
        "print(\"\\n\")\n",
        "display(final_model_loss_df)\n",
        "print(\"\\n\")\n",
        "\n",
        "plt.figure(figsize=[12, 4])\n",
        "plt.plot(final_model_loss_df['Loss'] , label=\"Loss\")\n",
        "plt.legend()\n",
        "plt.title('Loss')\n",
        "plt.xlabel('Epoch')\n",
        "plt.ylabel('Value')\n",
        "plt.show()\n",
        "print(\"\\n\")\n",
        "\n",
        "for sentence in sentence_list:\n",
        "  answer_print(sentence, second_transformer, tokenizer, tokenizer)\n",
        "  print()\n",
        "print(\"\\n\")\n",
        "eval_bleu(enc_val, dec_val, second_transformer, False)"
      ],
      "metadata": {
        "colab": {
          "base_uri": "https://localhost:8080/",
          "height": 1000,
          "referenced_widgets": [
            "a40dfe3e6c3c4f2bba3d64a745da2fbf",
            "000c73d69a074ee7997fc1737dd61ff2",
            "205ba1f42f9f40f8a4a480a10fb21ffd",
            "e70544387cba4436903c898b7ad88628",
            "22bbed94055b4d048974f4d6776fa953",
            "1d9b7a084ccd49168cdef5cb3dc3bdc4",
            "5552874335c147128a3a19ccb1287f24",
            "2265e74cc8d8480f8d3ffbf791f97d6d",
            "1764dd98cd8444fa82d0e154eafb6d17",
            "9a401f9665404ddabc231d2e4d689551",
            "f6d93fd0102644bea437853240047a44"
          ]
        },
        "id": "pZUcd1k8r_Sr",
        "outputId": "2febe22c-25f1-4439-8582-502541dd6b6d"
      },
      "execution_count": null,
      "outputs": [
        {
          "output_type": "display_data",
          "data": {
            "text/plain": [
              "                                                   First Model\n",
              "Encoder & Decoder Layer                                      2\n",
              "Model Dimension                                           1024\n",
              "Feedforwad Hidden Layer                                      8\n",
              "Feedforward Network Dimension                             4096\n",
              "Normalization Layer                                     Pre-LN\n",
              "Tokenizer                                                MeCab\n",
              "SRC Vocab Size                                           20000\n",
              "TGT Vocab Size                                           20000\n",
              "POS Length                                                 200\n",
              "Text Max Length                                             40\n",
              "Dropout Rate                                               0.3\n",
              "Shared FC                                                 True\n",
              "Shared EMB                                                True\n",
              "Learning Rate                                        Scheduler\n",
              "Optimizer                                                 Adam\n",
              "Activation Function                                       Relu\n",
              "Loss Function                  Sparse Categorical Crossentropy\n",
              "Epoch                                                        5\n",
              "Batch Size                                                 256"
            ],
            "text/html": [
              "\n",
              "  <div id=\"df-bb80f7ef-1a47-4cef-b43f-adf838b675b9\">\n",
              "    <div class=\"colab-df-container\">\n",
              "      <div>\n",
              "<style scoped>\n",
              "    .dataframe tbody tr th:only-of-type {\n",
              "        vertical-align: middle;\n",
              "    }\n",
              "\n",
              "    .dataframe tbody tr th {\n",
              "        vertical-align: top;\n",
              "    }\n",
              "\n",
              "    .dataframe thead th {\n",
              "        text-align: right;\n",
              "    }\n",
              "</style>\n",
              "<table border=\"1\" class=\"dataframe\">\n",
              "  <thead>\n",
              "    <tr style=\"text-align: right;\">\n",
              "      <th></th>\n",
              "      <th>First Model</th>\n",
              "    </tr>\n",
              "  </thead>\n",
              "  <tbody>\n",
              "    <tr>\n",
              "      <th>Encoder &amp; Decoder Layer</th>\n",
              "      <td>2</td>\n",
              "    </tr>\n",
              "    <tr>\n",
              "      <th>Model Dimension</th>\n",
              "      <td>1024</td>\n",
              "    </tr>\n",
              "    <tr>\n",
              "      <th>Feedforwad Hidden Layer</th>\n",
              "      <td>8</td>\n",
              "    </tr>\n",
              "    <tr>\n",
              "      <th>Feedforward Network Dimension</th>\n",
              "      <td>4096</td>\n",
              "    </tr>\n",
              "    <tr>\n",
              "      <th>Normalization Layer</th>\n",
              "      <td>Pre-LN</td>\n",
              "    </tr>\n",
              "    <tr>\n",
              "      <th>Tokenizer</th>\n",
              "      <td>MeCab</td>\n",
              "    </tr>\n",
              "    <tr>\n",
              "      <th>SRC Vocab Size</th>\n",
              "      <td>20000</td>\n",
              "    </tr>\n",
              "    <tr>\n",
              "      <th>TGT Vocab Size</th>\n",
              "      <td>20000</td>\n",
              "    </tr>\n",
              "    <tr>\n",
              "      <th>POS Length</th>\n",
              "      <td>200</td>\n",
              "    </tr>\n",
              "    <tr>\n",
              "      <th>Text Max Length</th>\n",
              "      <td>40</td>\n",
              "    </tr>\n",
              "    <tr>\n",
              "      <th>Dropout Rate</th>\n",
              "      <td>0.3</td>\n",
              "    </tr>\n",
              "    <tr>\n",
              "      <th>Shared FC</th>\n",
              "      <td>True</td>\n",
              "    </tr>\n",
              "    <tr>\n",
              "      <th>Shared EMB</th>\n",
              "      <td>True</td>\n",
              "    </tr>\n",
              "    <tr>\n",
              "      <th>Learning Rate</th>\n",
              "      <td>Scheduler</td>\n",
              "    </tr>\n",
              "    <tr>\n",
              "      <th>Optimizer</th>\n",
              "      <td>Adam</td>\n",
              "    </tr>\n",
              "    <tr>\n",
              "      <th>Activation Function</th>\n",
              "      <td>Relu</td>\n",
              "    </tr>\n",
              "    <tr>\n",
              "      <th>Loss Function</th>\n",
              "      <td>Sparse Categorical Crossentropy</td>\n",
              "    </tr>\n",
              "    <tr>\n",
              "      <th>Epoch</th>\n",
              "      <td>5</td>\n",
              "    </tr>\n",
              "    <tr>\n",
              "      <th>Batch Size</th>\n",
              "      <td>256</td>\n",
              "    </tr>\n",
              "  </tbody>\n",
              "</table>\n",
              "</div>\n",
              "      <button class=\"colab-df-convert\" onclick=\"convertToInteractive('df-bb80f7ef-1a47-4cef-b43f-adf838b675b9')\"\n",
              "              title=\"Convert this dataframe to an interactive table.\"\n",
              "              style=\"display:none;\">\n",
              "        \n",
              "  <svg xmlns=\"http://www.w3.org/2000/svg\" height=\"24px\"viewBox=\"0 0 24 24\"\n",
              "       width=\"24px\">\n",
              "    <path d=\"M0 0h24v24H0V0z\" fill=\"none\"/>\n",
              "    <path d=\"M18.56 5.44l.94 2.06.94-2.06 2.06-.94-2.06-.94-.94-2.06-.94 2.06-2.06.94zm-11 1L8.5 8.5l.94-2.06 2.06-.94-2.06-.94L8.5 2.5l-.94 2.06-2.06.94zm10 10l.94 2.06.94-2.06 2.06-.94-2.06-.94-.94-2.06-.94 2.06-2.06.94z\"/><path d=\"M17.41 7.96l-1.37-1.37c-.4-.4-.92-.59-1.43-.59-.52 0-1.04.2-1.43.59L10.3 9.45l-7.72 7.72c-.78.78-.78 2.05 0 2.83L4 21.41c.39.39.9.59 1.41.59.51 0 1.02-.2 1.41-.59l7.78-7.78 2.81-2.81c.8-.78.8-2.07 0-2.86zM5.41 20L4 18.59l7.72-7.72 1.47 1.35L5.41 20z\"/>\n",
              "  </svg>\n",
              "      </button>\n",
              "      \n",
              "  <style>\n",
              "    .colab-df-container {\n",
              "      display:flex;\n",
              "      flex-wrap:wrap;\n",
              "      gap: 12px;\n",
              "    }\n",
              "\n",
              "    .colab-df-convert {\n",
              "      background-color: #E8F0FE;\n",
              "      border: none;\n",
              "      border-radius: 50%;\n",
              "      cursor: pointer;\n",
              "      display: none;\n",
              "      fill: #1967D2;\n",
              "      height: 32px;\n",
              "      padding: 0 0 0 0;\n",
              "      width: 32px;\n",
              "    }\n",
              "\n",
              "    .colab-df-convert:hover {\n",
              "      background-color: #E2EBFA;\n",
              "      box-shadow: 0px 1px 2px rgba(60, 64, 67, 0.3), 0px 1px 3px 1px rgba(60, 64, 67, 0.15);\n",
              "      fill: #174EA6;\n",
              "    }\n",
              "\n",
              "    [theme=dark] .colab-df-convert {\n",
              "      background-color: #3B4455;\n",
              "      fill: #D2E3FC;\n",
              "    }\n",
              "\n",
              "    [theme=dark] .colab-df-convert:hover {\n",
              "      background-color: #434B5C;\n",
              "      box-shadow: 0px 1px 3px 1px rgba(0, 0, 0, 0.15);\n",
              "      filter: drop-shadow(0px 1px 2px rgba(0, 0, 0, 0.3));\n",
              "      fill: #FFFFFF;\n",
              "    }\n",
              "  </style>\n",
              "\n",
              "      <script>\n",
              "        const buttonEl =\n",
              "          document.querySelector('#df-bb80f7ef-1a47-4cef-b43f-adf838b675b9 button.colab-df-convert');\n",
              "        buttonEl.style.display =\n",
              "          google.colab.kernel.accessAllowed ? 'block' : 'none';\n",
              "\n",
              "        async function convertToInteractive(key) {\n",
              "          const element = document.querySelector('#df-bb80f7ef-1a47-4cef-b43f-adf838b675b9');\n",
              "          const dataTable =\n",
              "            await google.colab.kernel.invokeFunction('convertToInteractive',\n",
              "                                                     [key], {});\n",
              "          if (!dataTable) return;\n",
              "\n",
              "          const docLinkHtml = 'Like what you see? Visit the ' +\n",
              "            '<a target=\"_blank\" href=https://colab.research.google.com/notebooks/data_table.ipynb>data table notebook</a>'\n",
              "            + ' to learn more about interactive tables.';\n",
              "          element.innerHTML = '';\n",
              "          dataTable['output_type'] = 'display_data';\n",
              "          await google.colab.output.renderOutput(dataTable, element);\n",
              "          const docLink = document.createElement('div');\n",
              "          docLink.innerHTML = docLinkHtml;\n",
              "          element.appendChild(docLink);\n",
              "        }\n",
              "      </script>\n",
              "    </div>\n",
              "  </div>\n",
              "  "
            ]
          },
          "metadata": {}
        },
        {
          "output_type": "stream",
          "name": "stdout",
          "text": [
            "\n",
            "\n"
          ]
        },
        {
          "output_type": "display_data",
          "data": {
            "text/plain": [
              "   Epoch    Loss\n",
              "0      1  6.8999\n",
              "1      2  4.5029\n",
              "2      3  2.8705\n",
              "3      4  1.2792\n",
              "4      5  0.6900"
            ],
            "text/html": [
              "\n",
              "  <div id=\"df-490049f0-6bf3-4ab6-96e4-dc814befda89\">\n",
              "    <div class=\"colab-df-container\">\n",
              "      <div>\n",
              "<style scoped>\n",
              "    .dataframe tbody tr th:only-of-type {\n",
              "        vertical-align: middle;\n",
              "    }\n",
              "\n",
              "    .dataframe tbody tr th {\n",
              "        vertical-align: top;\n",
              "    }\n",
              "\n",
              "    .dataframe thead th {\n",
              "        text-align: right;\n",
              "    }\n",
              "</style>\n",
              "<table border=\"1\" class=\"dataframe\">\n",
              "  <thead>\n",
              "    <tr style=\"text-align: right;\">\n",
              "      <th></th>\n",
              "      <th>Epoch</th>\n",
              "      <th>Loss</th>\n",
              "    </tr>\n",
              "  </thead>\n",
              "  <tbody>\n",
              "    <tr>\n",
              "      <th>0</th>\n",
              "      <td>1</td>\n",
              "      <td>6.8999</td>\n",
              "    </tr>\n",
              "    <tr>\n",
              "      <th>1</th>\n",
              "      <td>2</td>\n",
              "      <td>4.5029</td>\n",
              "    </tr>\n",
              "    <tr>\n",
              "      <th>2</th>\n",
              "      <td>3</td>\n",
              "      <td>2.8705</td>\n",
              "    </tr>\n",
              "    <tr>\n",
              "      <th>3</th>\n",
              "      <td>4</td>\n",
              "      <td>1.2792</td>\n",
              "    </tr>\n",
              "    <tr>\n",
              "      <th>4</th>\n",
              "      <td>5</td>\n",
              "      <td>0.6900</td>\n",
              "    </tr>\n",
              "  </tbody>\n",
              "</table>\n",
              "</div>\n",
              "      <button class=\"colab-df-convert\" onclick=\"convertToInteractive('df-490049f0-6bf3-4ab6-96e4-dc814befda89')\"\n",
              "              title=\"Convert this dataframe to an interactive table.\"\n",
              "              style=\"display:none;\">\n",
              "        \n",
              "  <svg xmlns=\"http://www.w3.org/2000/svg\" height=\"24px\"viewBox=\"0 0 24 24\"\n",
              "       width=\"24px\">\n",
              "    <path d=\"M0 0h24v24H0V0z\" fill=\"none\"/>\n",
              "    <path d=\"M18.56 5.44l.94 2.06.94-2.06 2.06-.94-2.06-.94-.94-2.06-.94 2.06-2.06.94zm-11 1L8.5 8.5l.94-2.06 2.06-.94-2.06-.94L8.5 2.5l-.94 2.06-2.06.94zm10 10l.94 2.06.94-2.06 2.06-.94-2.06-.94-.94-2.06-.94 2.06-2.06.94z\"/><path d=\"M17.41 7.96l-1.37-1.37c-.4-.4-.92-.59-1.43-.59-.52 0-1.04.2-1.43.59L10.3 9.45l-7.72 7.72c-.78.78-.78 2.05 0 2.83L4 21.41c.39.39.9.59 1.41.59.51 0 1.02-.2 1.41-.59l7.78-7.78 2.81-2.81c.8-.78.8-2.07 0-2.86zM5.41 20L4 18.59l7.72-7.72 1.47 1.35L5.41 20z\"/>\n",
              "  </svg>\n",
              "      </button>\n",
              "      \n",
              "  <style>\n",
              "    .colab-df-container {\n",
              "      display:flex;\n",
              "      flex-wrap:wrap;\n",
              "      gap: 12px;\n",
              "    }\n",
              "\n",
              "    .colab-df-convert {\n",
              "      background-color: #E8F0FE;\n",
              "      border: none;\n",
              "      border-radius: 50%;\n",
              "      cursor: pointer;\n",
              "      display: none;\n",
              "      fill: #1967D2;\n",
              "      height: 32px;\n",
              "      padding: 0 0 0 0;\n",
              "      width: 32px;\n",
              "    }\n",
              "\n",
              "    .colab-df-convert:hover {\n",
              "      background-color: #E2EBFA;\n",
              "      box-shadow: 0px 1px 2px rgba(60, 64, 67, 0.3), 0px 1px 3px 1px rgba(60, 64, 67, 0.15);\n",
              "      fill: #174EA6;\n",
              "    }\n",
              "\n",
              "    [theme=dark] .colab-df-convert {\n",
              "      background-color: #3B4455;\n",
              "      fill: #D2E3FC;\n",
              "    }\n",
              "\n",
              "    [theme=dark] .colab-df-convert:hover {\n",
              "      background-color: #434B5C;\n",
              "      box-shadow: 0px 1px 3px 1px rgba(0, 0, 0, 0.15);\n",
              "      filter: drop-shadow(0px 1px 2px rgba(0, 0, 0, 0.3));\n",
              "      fill: #FFFFFF;\n",
              "    }\n",
              "  </style>\n",
              "\n",
              "      <script>\n",
              "        const buttonEl =\n",
              "          document.querySelector('#df-490049f0-6bf3-4ab6-96e4-dc814befda89 button.colab-df-convert');\n",
              "        buttonEl.style.display =\n",
              "          google.colab.kernel.accessAllowed ? 'block' : 'none';\n",
              "\n",
              "        async function convertToInteractive(key) {\n",
              "          const element = document.querySelector('#df-490049f0-6bf3-4ab6-96e4-dc814befda89');\n",
              "          const dataTable =\n",
              "            await google.colab.kernel.invokeFunction('convertToInteractive',\n",
              "                                                     [key], {});\n",
              "          if (!dataTable) return;\n",
              "\n",
              "          const docLinkHtml = 'Like what you see? Visit the ' +\n",
              "            '<a target=\"_blank\" href=https://colab.research.google.com/notebooks/data_table.ipynb>data table notebook</a>'\n",
              "            + ' to learn more about interactive tables.';\n",
              "          element.innerHTML = '';\n",
              "          dataTable['output_type'] = 'display_data';\n",
              "          await google.colab.output.renderOutput(dataTable, element);\n",
              "          const docLink = document.createElement('div');\n",
              "          docLink.innerHTML = docLinkHtml;\n",
              "          element.appendChild(docLink);\n",
              "        }\n",
              "      </script>\n",
              "    </div>\n",
              "  </div>\n",
              "  "
            ]
          },
          "metadata": {}
        },
        {
          "output_type": "stream",
          "name": "stdout",
          "text": [
            "\n",
            "\n"
          ]
        },
        {
          "output_type": "display_data",
          "data": {
            "text/plain": [
              "<Figure size 864x288 with 1 Axes>"
            ],
            "image/png": "[encoded data removed]"
          },
          "metadata": {
            "needs_background": "light"
          }
        },
        {
          "output_type": "stream",
          "name": "stdout",
          "text": [
            "\n",
            "\n",
            "Input: 지루하다, 놀러가고 싶어.\n",
            "Predicted Answer: 연애 를 하 네\n",
            "\n",
            "Input: 오늘 일찍 일어났더니 피곤하다.\n",
            "Predicted Answer: 기다리 고 이 것 같 아\n",
            "\n",
            "Input: 간만에 여자친구랑 데이트 하기로 했어.\n",
            "Predicted Answer: 짝 남 이랑 생각 했 던 내 친구 는 나 의 이야기 .\n",
            "\n",
            "Input: 집에 있는다는 소리야.\n",
            "Predicted Answer: 오늘 따라 ?\n",
            "\n",
            "\n",
            "\n"
          ]
        },
        {
          "output_type": "display_data",
          "data": {
            "text/plain": [
              "  0%|          | 0/512 [00:00<?, ?it/s]"
            ],
            "application/vnd.jupyter.widget-view+json": {
              "version_major": 2,
              "version_minor": 0,
              "model_id": "a40dfe3e6c3c4f2bba3d64a745da2fbf"
            }
          },
          "metadata": {}
        },
        {
          "output_type": "stream",
          "name": "stdout",
          "text": [
            "Num of Sample: 512\n",
            "Total Score: 0.5123873628903671\n"
          ]
        }
      ]
    },
    {
      "cell_type": "markdown",
      "source": [
        "#결론"
      ],
      "metadata": {
        "id": "DHVHXKwENBOJ"
      }
    },
    {
      "cell_type": "markdown",
      "source": [
        "**하이퍼파라미터**"
      ],
      "metadata": {
        "id": "N9xIVNjbNtWg"
      }
    },
    {
      "cell_type": "markdown",
      "source": [
        "임베딩 차원의 깊이에 따라 모델의 성능이 어떻게 달라지는지 알고 싶다.\n",
        "<br/>워드 임베딩 하이퍼파라미터에 대한 공부의 필요성을 느낀다."
      ],
      "metadata": {
        "id": "7k7nGXzgAmmS"
      }
    },
    {
      "cell_type": "markdown",
      "source": [
        "**워드 임베딩**"
      ],
      "metadata": {
        "id": "leTlaL0YMKWq"
      }
    },
    {
      "cell_type": "markdown",
      "source": [
        "Word2Vec, Glove, FastText의 방식에 따라 Word Vector를 시각화했을 때\n",
        "<br/>동일한 단어를 입력했음에도 서로 다른 모습의 PCA Scatter Plot을 출력한다.\n",
        "<br/>Word2Vec, Glove, FastText 텐서 연산 방법의 차이에 대한 공부의 필요성을 느낀다."
      ],
      "metadata": {
        "id": "Js2G8H65MQVx"
      }
    },
    {
      "cell_type": "markdown",
      "source": [
        "#참고문헌"
      ],
      "metadata": {
        "id": "SI6CJbIWNBnQ"
      }
    },
    {
      "cell_type": "markdown",
      "source": [
        "**LMS**\n",
        "<br/>[dev-sngwn](https://github.com/dev-sngwn)\n",
        "\n",
        "<br/>**단행본**\n",
        "<br/>유원준 외 1명, 『딥러닝을 이용한 자연어 처리 입문』, Wikidocs, 2022\n",
        "<br/>[사전 훈련된 워드 임베딩(Pre-trained Word Embedding)](https://wikidocs.net/33793)\n",
        "\n",
        "<br/>**공식 사이트**\n",
        "<br/>Stanford University CS224n\n",
        "<br/>[Gensim word vector visualization of various word vectors](https://web.stanford.edu/class/cs224n/materials/Gensim%20word%20vector%20visualization.html)\n",
        "\n",
        "<br/>**깃허브**\n",
        "<br/>songys\n",
        "<br/>[Chatbot data for Korean v1.0](https://github.com/songys/Chatbot_data)\n",
        "<br/><br/>Kyubyong\n",
        "<br/>[Pre-trained word vectors of 30+ languages](https://github.com/Kyubyong/wordvectors)\n",
        "<br/>[Pre-trained Korean Word2Vec model](https://drive.google.com/file/d/0B0ZXk88koS2KbDhXdWg1Q2RydlU/view?resourcekey=0-Dq9yyzwZxAqT3J02qvnFwg)\n",
        "<br/><br/>ratsgo\n",
        "<br/>[단어 임베딩 데이터 다운로드](https://ratsgo.github.io/embedding/downloaddata.html)\n",
        "<br/><br/>yeoooo\n",
        "<br/>[(GD6)BLEU_Score_yeoooo_2021-05-07.ipynb](https://github.com/yeoooo/Aiffel/blob/master/(GD6)BLEU_Score_yeoooo_2021-05-07.ipynb)\n",
        "<br/><br/>suheeeee\n",
        "<br/>[GD_NLP_6_transformer_chatbot.ipynb](https://github.com/suheeeee/my_deeplearning_project/blob/main/going_deeper/GD_NLP_6_transformer_chatbot.ipynb)\n",
        "\n",
        "<br/>**웹사이트**\n",
        "<br/>[다음 카페 사랑보다 아름다운 실연](http://cafe116.daum.net/_c21_/home?grpid=1bld)\n",
        "<br/>[형용사모음, 다양한 형용사모음 준비했습니다](https://m.post.naver.com/viewer/postView.naver?volumeNo=32582245&memberNo=28172842)\n",
        "<br/>[Load Pretrained glove vectors in python](https://stackoverflow.com/questions/37793118/load-pretrained-glove-vectors-in-python)\n",
        "<br/>[python how to write list of lists to file](https://stackoverflow.com/questions/30711899/python-how-to-write-list-of-lists-to-file)\n",
        "<br/>[python  Gensim을 사용하여 Python에서 Word 임베딩을 개발하는 방법](https://ngio.co.kr/9518)\n",
        "<br/>[파이썬 print 문 출력결과 가지고 놀기](https://light-tree.tistory.com/109)\n",
        "<br/>[Reading a list of lists from a file as list of lists in python](https://stackoverflow.com/questions/10294310/reading-a-list-of-lists-from-a-file-as-list-of-lists-in-python)\n",
        "<br/>[python 에러: 'list' object is not callable](https://janeljs.github.io/python/not-callable/)\n",
        "<br/>[Python Pandas의 기존 DataFrame에 새 열 추가](https://www.delftstack.com/ko/howto/python-pandas/how-to-add-new-column-to-existing-dataframe-in-python-pandas/)\n",
        "<br/>[Python 파이썬 리스트 문자열 합치기 Join 함수](https://needneo.tistory.com/92)"
      ],
      "metadata": {
        "id": "FqqY0qsX2M3W"
      }
    }
  ]
}