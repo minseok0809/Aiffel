{
  "nbformat": 4,
  "nbformat_minor": 0,
  "metadata": {
    "colab": {
      "name": "[GD_12]BLUEScore_Lexical_Substitution_Chatbot.ipynb",
      "provenance": [],
      "collapsed_sections": [],
      "machine_shape": "hm",
      "toc_visible": true
    },
    "kernelspec": {
      "name": "python3",
      "display_name": "Python 3"
    },
    "language_info": {
      "name": "python"
    },
    "accelerator": "GPU",
    "gpuClass": "standard",
    "widgets": {
      "application/vnd.jupyter.widget-state+json": {
        "56d2a18373124f8396e1441643e32fbe": {
          "model_module": "@jupyter-widgets/controls",
          "model_name": "HBoxModel",
          "model_module_version": "1.5.0",
          "state": {
            "_dom_classes": [],
            "_model_module": "@jupyter-widgets/controls",
            "_model_module_version": "1.5.0",
            "_model_name": "HBoxModel",
            "_view_count": null,
            "_view_module": "@jupyter-widgets/controls",
            "_view_module_version": "1.5.0",
            "_view_name": "HBoxView",
            "box_style": "",
            "children": [
              "IPY_MODEL_6a0f5f0acdfb4884a3d92bda0821ef01",
              "IPY_MODEL_ae790ad56fe74a9db1053d1592fc9b32",
              "IPY_MODEL_91a038c5818b46ca81fe79bf0bb0f432"
            ],
            "layout": "IPY_MODEL_0b9898f4c00545dba10c9ba199a7ba72"
          }
        },
        "6a0f5f0acdfb4884a3d92bda0821ef01": {
          "model_module": "@jupyter-widgets/controls",
          "model_name": "HTMLModel",
          "model_module_version": "1.5.0",
          "state": {
            "_dom_classes": [],
            "_model_module": "@jupyter-widgets/controls",
            "_model_module_version": "1.5.0",
            "_model_name": "HTMLModel",
            "_view_count": null,
            "_view_module": "@jupyter-widgets/controls",
            "_view_module_version": "1.5.0",
            "_view_name": "HTMLView",
            "description": "",
            "description_tooltip": null,
            "layout": "IPY_MODEL_cf742aac4b0c463a96f9b81f72169dc3",
            "placeholder": "​",
            "style": "IPY_MODEL_fac3c5788bde43bc87b990e02f06cfb5",
            "value": "100%"
          }
        },
        "ae790ad56fe74a9db1053d1592fc9b32": {
          "model_module": "@jupyter-widgets/controls",
          "model_name": "FloatProgressModel",
          "model_module_version": "1.5.0",
          "state": {
            "_dom_classes": [],
            "_model_module": "@jupyter-widgets/controls",
            "_model_module_version": "1.5.0",
            "_model_name": "FloatProgressModel",
            "_view_count": null,
            "_view_module": "@jupyter-widgets/controls",
            "_view_module_version": "1.5.0",
            "_view_name": "ProgressView",
            "bar_style": "success",
            "description": "",
            "description_tooltip": null,
            "layout": "IPY_MODEL_0d3e95d5d4f645ec92163fa709815dfb",
            "max": 7607,
            "min": 0,
            "orientation": "horizontal",
            "style": "IPY_MODEL_0b925e492ce0461286db0e5634c793ee",
            "value": 7607
          }
        },
        "91a038c5818b46ca81fe79bf0bb0f432": {
          "model_module": "@jupyter-widgets/controls",
          "model_name": "HTMLModel",
          "model_module_version": "1.5.0",
          "state": {
            "_dom_classes": [],
            "_model_module": "@jupyter-widgets/controls",
            "_model_module_version": "1.5.0",
            "_model_name": "HTMLModel",
            "_view_count": null,
            "_view_module": "@jupyter-widgets/controls",
            "_view_module_version": "1.5.0",
            "_view_name": "HTMLView",
            "description": "",
            "description_tooltip": null,
            "layout": "IPY_MODEL_c7dbe47edaaa4eb3bf4fcf0335d74041",
            "placeholder": "​",
            "style": "IPY_MODEL_3f32a47ad550453489ea4a0f306607ce",
            "value": " 7607/7607 [00:14&lt;00:00, 508.36it/s]"
          }
        },
        "0b9898f4c00545dba10c9ba199a7ba72": {
          "model_module": "@jupyter-widgets/base",
          "model_name": "LayoutModel",
          "model_module_version": "1.2.0",
          "state": {
            "_model_module": "@jupyter-widgets/base",
            "_model_module_version": "1.2.0",
            "_model_name": "LayoutModel",
            "_view_count": null,
            "_view_module": "@jupyter-widgets/base",
            "_view_module_version": "1.2.0",
            "_view_name": "LayoutView",
            "align_content": null,
            "align_items": null,
            "align_self": null,
            "border": null,
            "bottom": null,
            "display": null,
            "flex": null,
            "flex_flow": null,
            "grid_area": null,
            "grid_auto_columns": null,
            "grid_auto_flow": null,
            "grid_auto_rows": null,
            "grid_column": null,
            "grid_gap": null,
            "grid_row": null,
            "grid_template_areas": null,
            "grid_template_columns": null,
            "grid_template_rows": null,
            "height": null,
            "justify_content": null,
            "justify_items": null,
            "left": null,
            "margin": null,
            "max_height": null,
            "max_width": null,
            "min_height": null,
            "min_width": null,
            "object_fit": null,
            "object_position": null,
            "order": null,
            "overflow": null,
            "overflow_x": null,
            "overflow_y": null,
            "padding": null,
            "right": null,
            "top": null,
            "visibility": null,
            "width": null
          }
        },
        "cf742aac4b0c463a96f9b81f72169dc3": {
          "model_module": "@jupyter-widgets/base",
          "model_name": "LayoutModel",
          "model_module_version": "1.2.0",
          "state": {
            "_model_module": "@jupyter-widgets/base",
            "_model_module_version": "1.2.0",
            "_model_name": "LayoutModel",
            "_view_count": null,
            "_view_module": "@jupyter-widgets/base",
            "_view_module_version": "1.2.0",
            "_view_name": "LayoutView",
            "align_content": null,
            "align_items": null,
            "align_self": null,
            "border": null,
            "bottom": null,
            "display": null,
            "flex": null,
            "flex_flow": null,
            "grid_area": null,
            "grid_auto_columns": null,
            "grid_auto_flow": null,
            "grid_auto_rows": null,
            "grid_column": null,
            "grid_gap": null,
            "grid_row": null,
            "grid_template_areas": null,
            "grid_template_columns": null,
            "grid_template_rows": null,
            "height": null,
            "justify_content": null,
            "justify_items": null,
            "left": null,
            "margin": null,
            "max_height": null,
            "max_width": null,
            "min_height": null,
            "min_width": null,
            "object_fit": null,
            "object_position": null,
            "order": null,
            "overflow": null,
            "overflow_x": null,
            "overflow_y": null,
            "padding": null,
            "right": null,
            "top": null,
            "visibility": null,
            "width": null
          }
        },
        "fac3c5788bde43bc87b990e02f06cfb5": {
          "model_module": "@jupyter-widgets/controls",
          "model_name": "DescriptionStyleModel",
          "model_module_version": "1.5.0",
          "state": {
            "_model_module": "@jupyter-widgets/controls",
            "_model_module_version": "1.5.0",
            "_model_name": "DescriptionStyleModel",
            "_view_count": null,
            "_view_module": "@jupyter-widgets/base",
            "_view_module_version": "1.2.0",
            "_view_name": "StyleView",
            "description_width": ""
          }
        },
        "0d3e95d5d4f645ec92163fa709815dfb": {
          "model_module": "@jupyter-widgets/base",
          "model_name": "LayoutModel",
          "model_module_version": "1.2.0",
          "state": {
            "_model_module": "@jupyter-widgets/base",
            "_model_module_version": "1.2.0",
            "_model_name": "LayoutModel",
            "_view_count": null,
            "_view_module": "@jupyter-widgets/base",
            "_view_module_version": "1.2.0",
            "_view_name": "LayoutView",
            "align_content": null,
            "align_items": null,
            "align_self": null,
            "border": null,
            "bottom": null,
            "display": null,
            "flex": null,
            "flex_flow": null,
            "grid_area": null,
            "grid_auto_columns": null,
            "grid_auto_flow": null,
            "grid_auto_rows": null,
            "grid_column": null,
            "grid_gap": null,
            "grid_row": null,
            "grid_template_areas": null,
            "grid_template_columns": null,
            "grid_template_rows": null,
            "height": null,
            "justify_content": null,
            "justify_items": null,
            "left": null,
            "margin": null,
            "max_height": null,
            "max_width": null,
            "min_height": null,
            "min_width": null,
            "object_fit": null,
            "object_position": null,
            "order": null,
            "overflow": null,
            "overflow_x": null,
            "overflow_y": null,
            "padding": null,
            "right": null,
            "top": null,
            "visibility": null,
            "width": null
          }
        },
        "0b925e492ce0461286db0e5634c793ee": {
          "model_module": "@jupyter-widgets/controls",
          "model_name": "ProgressStyleModel",
          "model_module_version": "1.5.0",
          "state": {
            "_model_module": "@jupyter-widgets/controls",
            "_model_module_version": "1.5.0",
            "_model_name": "ProgressStyleModel",
            "_view_count": null,
            "_view_module": "@jupyter-widgets/base",
            "_view_module_version": "1.2.0",
            "_view_name": "StyleView",
            "bar_color": null,
            "description_width": ""
          }
        },
        "c7dbe47edaaa4eb3bf4fcf0335d74041": {
          "model_module": "@jupyter-widgets/base",
          "model_name": "LayoutModel",
          "model_module_version": "1.2.0",
          "state": {
            "_model_module": "@jupyter-widgets/base",
            "_model_module_version": "1.2.0",
            "_model_name": "LayoutModel",
            "_view_count": null,
            "_view_module": "@jupyter-widgets/base",
            "_view_module_version": "1.2.0",
            "_view_name": "LayoutView",
            "align_content": null,
            "align_items": null,
            "align_self": null,
            "border": null,
            "bottom": null,
            "display": null,
            "flex": null,
            "flex_flow": null,
            "grid_area": null,
            "grid_auto_columns": null,
            "grid_auto_flow": null,
            "grid_auto_rows": null,
            "grid_column": null,
            "grid_gap": null,
            "grid_row": null,
            "grid_template_areas": null,
            "grid_template_columns": null,
            "grid_template_rows": null,
            "height": null,
            "justify_content": null,
            "justify_items": null,
            "left": null,
            "margin": null,
            "max_height": null,
            "max_width": null,
            "min_height": null,
            "min_width": null,
            "object_fit": null,
            "object_position": null,
            "order": null,
            "overflow": null,
            "overflow_x": null,
            "overflow_y": null,
            "padding": null,
            "right": null,
            "top": null,
            "visibility": null,
            "width": null
          }
        },
        "3f32a47ad550453489ea4a0f306607ce": {
          "model_module": "@jupyter-widgets/controls",
          "model_name": "DescriptionStyleModel",
          "model_module_version": "1.5.0",
          "state": {
            "_model_module": "@jupyter-widgets/controls",
            "_model_module_version": "1.5.0",
            "_model_name": "DescriptionStyleModel",
            "_view_count": null,
            "_view_module": "@jupyter-widgets/base",
            "_view_module_version": "1.2.0",
            "_view_name": "StyleView",
            "description_width": ""
          }
        },
        "e97af8c5b7e1486c9bb8eab9fd355382": {
          "model_module": "@jupyter-widgets/controls",
          "model_name": "HBoxModel",
          "model_module_version": "1.5.0",
          "state": {
            "_dom_classes": [],
            "_model_module": "@jupyter-widgets/controls",
            "_model_module_version": "1.5.0",
            "_model_name": "HBoxModel",
            "_view_count": null,
            "_view_module": "@jupyter-widgets/controls",
            "_view_module_version": "1.5.0",
            "_view_name": "HBoxView",
            "box_style": "",
            "children": [
              "IPY_MODEL_d6ef2b6195484b1ab58068cbe9eda54b",
              "IPY_MODEL_dada87454fb24985940c8adc2ac2d7dd",
              "IPY_MODEL_d73090c42d194a529913e47839f59e53"
            ],
            "layout": "IPY_MODEL_b14bdb753f2e4ecf9dad8b6c5e18d220"
          }
        },
        "d6ef2b6195484b1ab58068cbe9eda54b": {
          "model_module": "@jupyter-widgets/controls",
          "model_name": "HTMLModel",
          "model_module_version": "1.5.0",
          "state": {
            "_dom_classes": [],
            "_model_module": "@jupyter-widgets/controls",
            "_model_module_version": "1.5.0",
            "_model_name": "HTMLModel",
            "_view_count": null,
            "_view_module": "@jupyter-widgets/controls",
            "_view_module_version": "1.5.0",
            "_view_name": "HTMLView",
            "description": "",
            "description_tooltip": null,
            "layout": "IPY_MODEL_7c260e70c5124641bd3b0207268a96ea",
            "placeholder": "​",
            "style": "IPY_MODEL_be8390c29cb845539dc802d3a99779ba",
            "value": "100%"
          }
        },
        "dada87454fb24985940c8adc2ac2d7dd": {
          "model_module": "@jupyter-widgets/controls",
          "model_name": "FloatProgressModel",
          "model_module_version": "1.5.0",
          "state": {
            "_dom_classes": [],
            "_model_module": "@jupyter-widgets/controls",
            "_model_module_version": "1.5.0",
            "_model_name": "FloatProgressModel",
            "_view_count": null,
            "_view_module": "@jupyter-widgets/controls",
            "_view_module_version": "1.5.0",
            "_view_name": "ProgressView",
            "bar_style": "success",
            "description": "",
            "description_tooltip": null,
            "layout": "IPY_MODEL_d82a0d9f8b6a45728164581040adad7e",
            "max": 7607,
            "min": 0,
            "orientation": "horizontal",
            "style": "IPY_MODEL_cd47045d79344db9a5f56d08ccde0c92",
            "value": 7607
          }
        },
        "d73090c42d194a529913e47839f59e53": {
          "model_module": "@jupyter-widgets/controls",
          "model_name": "HTMLModel",
          "model_module_version": "1.5.0",
          "state": {
            "_dom_classes": [],
            "_model_module": "@jupyter-widgets/controls",
            "_model_module_version": "1.5.0",
            "_model_name": "HTMLModel",
            "_view_count": null,
            "_view_module": "@jupyter-widgets/controls",
            "_view_module_version": "1.5.0",
            "_view_name": "HTMLView",
            "description": "",
            "description_tooltip": null,
            "layout": "IPY_MODEL_13a849c4784440438efd029e3e07573e",
            "placeholder": "​",
            "style": "IPY_MODEL_494569a4aeec4582802ecc765179d393",
            "value": " 7607/7607 [02:33&lt;00:00, 51.05it/s]"
          }
        },
        "b14bdb753f2e4ecf9dad8b6c5e18d220": {
          "model_module": "@jupyter-widgets/base",
          "model_name": "LayoutModel",
          "model_module_version": "1.2.0",
          "state": {
            "_model_module": "@jupyter-widgets/base",
            "_model_module_version": "1.2.0",
            "_model_name": "LayoutModel",
            "_view_count": null,
            "_view_module": "@jupyter-widgets/base",
            "_view_module_version": "1.2.0",
            "_view_name": "LayoutView",
            "align_content": null,
            "align_items": null,
            "align_self": null,
            "border": null,
            "bottom": null,
            "display": null,
            "flex": null,
            "flex_flow": null,
            "grid_area": null,
            "grid_auto_columns": null,
            "grid_auto_flow": null,
            "grid_auto_rows": null,
            "grid_column": null,
            "grid_gap": null,
            "grid_row": null,
            "grid_template_areas": null,
            "grid_template_columns": null,
            "grid_template_rows": null,
            "height": null,
            "justify_content": null,
            "justify_items": null,
            "left": null,
            "margin": null,
            "max_height": null,
            "max_width": null,
            "min_height": null,
            "min_width": null,
            "object_fit": null,
            "object_position": null,
            "order": null,
            "overflow": null,
            "overflow_x": null,
            "overflow_y": null,
            "padding": null,
            "right": null,
            "top": null,
            "visibility": null,
            "width": null
          }
        },
        "7c260e70c5124641bd3b0207268a96ea": {
          "model_module": "@jupyter-widgets/base",
          "model_name": "LayoutModel",
          "model_module_version": "1.2.0",
          "state": {
            "_model_module": "@jupyter-widgets/base",
            "_model_module_version": "1.2.0",
            "_model_name": "LayoutModel",
            "_view_count": null,
            "_view_module": "@jupyter-widgets/base",
            "_view_module_version": "1.2.0",
            "_view_name": "LayoutView",
            "align_content": null,
            "align_items": null,
            "align_self": null,
            "border": null,
            "bottom": null,
            "display": null,
            "flex": null,
            "flex_flow": null,
            "grid_area": null,
            "grid_auto_columns": null,
            "grid_auto_flow": null,
            "grid_auto_rows": null,
            "grid_column": null,
            "grid_gap": null,
            "grid_row": null,
            "grid_template_areas": null,
            "grid_template_columns": null,
            "grid_template_rows": null,
            "height": null,
            "justify_content": null,
            "justify_items": null,
            "left": null,
            "margin": null,
            "max_height": null,
            "max_width": null,
            "min_height": null,
            "min_width": null,
            "object_fit": null,
            "object_position": null,
            "order": null,
            "overflow": null,
            "overflow_x": null,
            "overflow_y": null,
            "padding": null,
            "right": null,
            "top": null,
            "visibility": null,
            "width": null
          }
        },
        "be8390c29cb845539dc802d3a99779ba": {
          "model_module": "@jupyter-widgets/controls",
          "model_name": "DescriptionStyleModel",
          "model_module_version": "1.5.0",
          "state": {
            "_model_module": "@jupyter-widgets/controls",
            "_model_module_version": "1.5.0",
            "_model_name": "DescriptionStyleModel",
            "_view_count": null,
            "_view_module": "@jupyter-widgets/base",
            "_view_module_version": "1.2.0",
            "_view_name": "StyleView",
            "description_width": ""
          }
        },
        "d82a0d9f8b6a45728164581040adad7e": {
          "model_module": "@jupyter-widgets/base",
          "model_name": "LayoutModel",
          "model_module_version": "1.2.0",
          "state": {
            "_model_module": "@jupyter-widgets/base",
            "_model_module_version": "1.2.0",
            "_model_name": "LayoutModel",
            "_view_count": null,
            "_view_module": "@jupyter-widgets/base",
            "_view_module_version": "1.2.0",
            "_view_name": "LayoutView",
            "align_content": null,
            "align_items": null,
            "align_self": null,
            "border": null,
            "bottom": null,
            "display": null,
            "flex": null,
            "flex_flow": null,
            "grid_area": null,
            "grid_auto_columns": null,
            "grid_auto_flow": null,
            "grid_auto_rows": null,
            "grid_column": null,
            "grid_gap": null,
            "grid_row": null,
            "grid_template_areas": null,
            "grid_template_columns": null,
            "grid_template_rows": null,
            "height": null,
            "justify_content": null,
            "justify_items": null,
            "left": null,
            "margin": null,
            "max_height": null,
            "max_width": null,
            "min_height": null,
            "min_width": null,
            "object_fit": null,
            "object_position": null,
            "order": null,
            "overflow": null,
            "overflow_x": null,
            "overflow_y": null,
            "padding": null,
            "right": null,
            "top": null,
            "visibility": null,
            "width": null
          }
        },
        "cd47045d79344db9a5f56d08ccde0c92": {
          "model_module": "@jupyter-widgets/controls",
          "model_name": "ProgressStyleModel",
          "model_module_version": "1.5.0",
          "state": {
            "_model_module": "@jupyter-widgets/controls",
            "_model_module_version": "1.5.0",
            "_model_name": "ProgressStyleModel",
            "_view_count": null,
            "_view_module": "@jupyter-widgets/base",
            "_view_module_version": "1.2.0",
            "_view_name": "StyleView",
            "bar_color": null,
            "description_width": ""
          }
        },
        "13a849c4784440438efd029e3e07573e": {
          "model_module": "@jupyter-widgets/base",
          "model_name": "LayoutModel",
          "model_module_version": "1.2.0",
          "state": {
            "_model_module": "@jupyter-widgets/base",
            "_model_module_version": "1.2.0",
            "_model_name": "LayoutModel",
            "_view_count": null,
            "_view_module": "@jupyter-widgets/base",
            "_view_module_version": "1.2.0",
            "_view_name": "LayoutView",
            "align_content": null,
            "align_items": null,
            "align_self": null,
            "border": null,
            "bottom": null,
            "display": null,
            "flex": null,
            "flex_flow": null,
            "grid_area": null,
            "grid_auto_columns": null,
            "grid_auto_flow": null,
            "grid_auto_rows": null,
            "grid_column": null,
            "grid_gap": null,
            "grid_row": null,
            "grid_template_areas": null,
            "grid_template_columns": null,
            "grid_template_rows": null,
            "height": null,
            "justify_content": null,
            "justify_items": null,
            "left": null,
            "margin": null,
            "max_height": null,
            "max_width": null,
            "min_height": null,
            "min_width": null,
            "object_fit": null,
            "object_position": null,
            "order": null,
            "overflow": null,
            "overflow_x": null,
            "overflow_y": null,
            "padding": null,
            "right": null,
            "top": null,
            "visibility": null,
            "width": null
          }
        },
        "494569a4aeec4582802ecc765179d393": {
          "model_module": "@jupyter-widgets/controls",
          "model_name": "DescriptionStyleModel",
          "model_module_version": "1.5.0",
          "state": {
            "_model_module": "@jupyter-widgets/controls",
            "_model_module_version": "1.5.0",
            "_model_name": "DescriptionStyleModel",
            "_view_count": null,
            "_view_module": "@jupyter-widgets/base",
            "_view_module_version": "1.2.0",
            "_view_name": "StyleView",
            "description_width": ""
          }
        },
        "627ed1d338ac4d54964f2ec194ec9fae": {
          "model_module": "@jupyter-widgets/controls",
          "model_name": "HBoxModel",
          "model_module_version": "1.5.0",
          "state": {
            "_dom_classes": [],
            "_model_module": "@jupyter-widgets/controls",
            "_model_module_version": "1.5.0",
            "_model_name": "HBoxModel",
            "_view_count": null,
            "_view_module": "@jupyter-widgets/controls",
            "_view_module_version": "1.5.0",
            "_view_name": "HBoxView",
            "box_style": "",
            "children": [
              "IPY_MODEL_2f1dfa7bd4e34d5eb08dab2f586902ac",
              "IPY_MODEL_3e3daf856c4d43b486afa1cc0b1fc5cd",
              "IPY_MODEL_7ac00569a4db43879af361dbbc95fe49"
            ],
            "layout": "IPY_MODEL_9eb0d10d81dd403f826ca37bef3e148f"
          }
        },
        "2f1dfa7bd4e34d5eb08dab2f586902ac": {
          "model_module": "@jupyter-widgets/controls",
          "model_name": "HTMLModel",
          "model_module_version": "1.5.0",
          "state": {
            "_dom_classes": [],
            "_model_module": "@jupyter-widgets/controls",
            "_model_module_version": "1.5.0",
            "_model_name": "HTMLModel",
            "_view_count": null,
            "_view_module": "@jupyter-widgets/controls",
            "_view_module_version": "1.5.0",
            "_view_name": "HTMLView",
            "description": "",
            "description_tooltip": null,
            "layout": "IPY_MODEL_06f8d35f12684c6a95b9f203c2ac7efb",
            "placeholder": "​",
            "style": "IPY_MODEL_422c75d3ba0740349c7d47a652bcf545",
            "value": "100%"
          }
        },
        "3e3daf856c4d43b486afa1cc0b1fc5cd": {
          "model_module": "@jupyter-widgets/controls",
          "model_name": "FloatProgressModel",
          "model_module_version": "1.5.0",
          "state": {
            "_dom_classes": [],
            "_model_module": "@jupyter-widgets/controls",
            "_model_module_version": "1.5.0",
            "_model_name": "FloatProgressModel",
            "_view_count": null,
            "_view_module": "@jupyter-widgets/controls",
            "_view_module_version": "1.5.0",
            "_view_name": "ProgressView",
            "bar_style": "success",
            "description": "",
            "description_tooltip": null,
            "layout": "IPY_MODEL_4f8e0d094c074b56a4850652ccc478f9",
            "max": 7607,
            "min": 0,
            "orientation": "horizontal",
            "style": "IPY_MODEL_54cf77a9d8774d74bc88f22954aefc0d",
            "value": 7607
          }
        },
        "7ac00569a4db43879af361dbbc95fe49": {
          "model_module": "@jupyter-widgets/controls",
          "model_name": "HTMLModel",
          "model_module_version": "1.5.0",
          "state": {
            "_dom_classes": [],
            "_model_module": "@jupyter-widgets/controls",
            "_model_module_version": "1.5.0",
            "_model_name": "HTMLModel",
            "_view_count": null,
            "_view_module": "@jupyter-widgets/controls",
            "_view_module_version": "1.5.0",
            "_view_name": "HTMLView",
            "description": "",
            "description_tooltip": null,
            "layout": "IPY_MODEL_256142c2d1fb46b0ac778872397dbc7c",
            "placeholder": "​",
            "style": "IPY_MODEL_2c52159119a74c9aa07eab26e7980e55",
            "value": " 7607/7607 [13:08&lt;00:00,  9.29it/s]"
          }
        },
        "9eb0d10d81dd403f826ca37bef3e148f": {
          "model_module": "@jupyter-widgets/base",
          "model_name": "LayoutModel",
          "model_module_version": "1.2.0",
          "state": {
            "_model_module": "@jupyter-widgets/base",
            "_model_module_version": "1.2.0",
            "_model_name": "LayoutModel",
            "_view_count": null,
            "_view_module": "@jupyter-widgets/base",
            "_view_module_version": "1.2.0",
            "_view_name": "LayoutView",
            "align_content": null,
            "align_items": null,
            "align_self": null,
            "border": null,
            "bottom": null,
            "display": null,
            "flex": null,
            "flex_flow": null,
            "grid_area": null,
            "grid_auto_columns": null,
            "grid_auto_flow": null,
            "grid_auto_rows": null,
            "grid_column": null,
            "grid_gap": null,
            "grid_row": null,
            "grid_template_areas": null,
            "grid_template_columns": null,
            "grid_template_rows": null,
            "height": null,
            "justify_content": null,
            "justify_items": null,
            "left": null,
            "margin": null,
            "max_height": null,
            "max_width": null,
            "min_height": null,
            "min_width": null,
            "object_fit": null,
            "object_position": null,
            "order": null,
            "overflow": null,
            "overflow_x": null,
            "overflow_y": null,
            "padding": null,
            "right": null,
            "top": null,
            "visibility": null,
            "width": null
          }
        },
        "06f8d35f12684c6a95b9f203c2ac7efb": {
          "model_module": "@jupyter-widgets/base",
          "model_name": "LayoutModel",
          "model_module_version": "1.2.0",
          "state": {
            "_model_module": "@jupyter-widgets/base",
            "_model_module_version": "1.2.0",
            "_model_name": "LayoutModel",
            "_view_count": null,
            "_view_module": "@jupyter-widgets/base",
            "_view_module_version": "1.2.0",
            "_view_name": "LayoutView",
            "align_content": null,
            "align_items": null,
            "align_self": null,
            "border": null,
            "bottom": null,
            "display": null,
            "flex": null,
            "flex_flow": null,
            "grid_area": null,
            "grid_auto_columns": null,
            "grid_auto_flow": null,
            "grid_auto_rows": null,
            "grid_column": null,
            "grid_gap": null,
            "grid_row": null,
            "grid_template_areas": null,
            "grid_template_columns": null,
            "grid_template_rows": null,
            "height": null,
            "justify_content": null,
            "justify_items": null,
            "left": null,
            "margin": null,
            "max_height": null,
            "max_width": null,
            "min_height": null,
            "min_width": null,
            "object_fit": null,
            "object_position": null,
            "order": null,
            "overflow": null,
            "overflow_x": null,
            "overflow_y": null,
            "padding": null,
            "right": null,
            "top": null,
            "visibility": null,
            "width": null
          }
        },
        "422c75d3ba0740349c7d47a652bcf545": {
          "model_module": "@jupyter-widgets/controls",
          "model_name": "DescriptionStyleModel",
          "model_module_version": "1.5.0",
          "state": {
            "_model_module": "@jupyter-widgets/controls",
            "_model_module_version": "1.5.0",
            "_model_name": "DescriptionStyleModel",
            "_view_count": null,
            "_view_module": "@jupyter-widgets/base",
            "_view_module_version": "1.2.0",
            "_view_name": "StyleView",
            "description_width": ""
          }
        },
        "4f8e0d094c074b56a4850652ccc478f9": {
          "model_module": "@jupyter-widgets/base",
          "model_name": "LayoutModel",
          "model_module_version": "1.2.0",
          "state": {
            "_model_module": "@jupyter-widgets/base",
            "_model_module_version": "1.2.0",
            "_model_name": "LayoutModel",
            "_view_count": null,
            "_view_module": "@jupyter-widgets/base",
            "_view_module_version": "1.2.0",
            "_view_name": "LayoutView",
            "align_content": null,
            "align_items": null,
            "align_self": null,
            "border": null,
            "bottom": null,
            "display": null,
            "flex": null,
            "flex_flow": null,
            "grid_area": null,
            "grid_auto_columns": null,
            "grid_auto_flow": null,
            "grid_auto_rows": null,
            "grid_column": null,
            "grid_gap": null,
            "grid_row": null,
            "grid_template_areas": null,
            "grid_template_columns": null,
            "grid_template_rows": null,
            "height": null,
            "justify_content": null,
            "justify_items": null,
            "left": null,
            "margin": null,
            "max_height": null,
            "max_width": null,
            "min_height": null,
            "min_width": null,
            "object_fit": null,
            "object_position": null,
            "order": null,
            "overflow": null,
            "overflow_x": null,
            "overflow_y": null,
            "padding": null,
            "right": null,
            "top": null,
            "visibility": null,
            "width": null
          }
        },
        "54cf77a9d8774d74bc88f22954aefc0d": {
          "model_module": "@jupyter-widgets/controls",
          "model_name": "ProgressStyleModel",
          "model_module_version": "1.5.0",
          "state": {
            "_model_module": "@jupyter-widgets/controls",
            "_model_module_version": "1.5.0",
            "_model_name": "ProgressStyleModel",
            "_view_count": null,
            "_view_module": "@jupyter-widgets/base",
            "_view_module_version": "1.2.0",
            "_view_name": "StyleView",
            "bar_color": null,
            "description_width": ""
          }
        },
        "256142c2d1fb46b0ac778872397dbc7c": {
          "model_module": "@jupyter-widgets/base",
          "model_name": "LayoutModel",
          "model_module_version": "1.2.0",
          "state": {
            "_model_module": "@jupyter-widgets/base",
            "_model_module_version": "1.2.0",
            "_model_name": "LayoutModel",
            "_view_count": null,
            "_view_module": "@jupyter-widgets/base",
            "_view_module_version": "1.2.0",
            "_view_name": "LayoutView",
            "align_content": null,
            "align_items": null,
            "align_self": null,
            "border": null,
            "bottom": null,
            "display": null,
            "flex": null,
            "flex_flow": null,
            "grid_area": null,
            "grid_auto_columns": null,
            "grid_auto_flow": null,
            "grid_auto_rows": null,
            "grid_column": null,
            "grid_gap": null,
            "grid_row": null,
            "grid_template_areas": null,
            "grid_template_columns": null,
            "grid_template_rows": null,
            "height": null,
            "justify_content": null,
            "justify_items": null,
            "left": null,
            "margin": null,
            "max_height": null,
            "max_width": null,
            "min_height": null,
            "min_width": null,
            "object_fit": null,
            "object_position": null,
            "order": null,
            "overflow": null,
            "overflow_x": null,
            "overflow_y": null,
            "padding": null,
            "right": null,
            "top": null,
            "visibility": null,
            "width": null
          }
        },
        "2c52159119a74c9aa07eab26e7980e55": {
          "model_module": "@jupyter-widgets/controls",
          "model_name": "DescriptionStyleModel",
          "model_module_version": "1.5.0",
          "state": {
            "_model_module": "@jupyter-widgets/controls",
            "_model_module_version": "1.5.0",
            "_model_name": "DescriptionStyleModel",
            "_view_count": null,
            "_view_module": "@jupyter-widgets/base",
            "_view_module_version": "1.2.0",
            "_view_name": "StyleView",
            "description_width": ""
          }
        },
        "bcfea3fba97743368535c4117fc510c1": {
          "model_module": "@jupyter-widgets/controls",
          "model_name": "HBoxModel",
          "model_module_version": "1.5.0",
          "state": {
            "_dom_classes": [],
            "_model_module": "@jupyter-widgets/controls",
            "_model_module_version": "1.5.0",
            "_model_name": "HBoxModel",
            "_view_count": null,
            "_view_module": "@jupyter-widgets/controls",
            "_view_module_version": "1.5.0",
            "_view_name": "HBoxView",
            "box_style": "",
            "children": [
              "IPY_MODEL_bc5f9f941908453d846215c6004919fb",
              "IPY_MODEL_58386390805842808f33220173173ca2",
              "IPY_MODEL_b6793dc3d9f4465580210f12acb7183b"
            ],
            "layout": "IPY_MODEL_7a1d5b22812f49ad99894876a7cc47de"
          }
        },
        "bc5f9f941908453d846215c6004919fb": {
          "model_module": "@jupyter-widgets/controls",
          "model_name": "HTMLModel",
          "model_module_version": "1.5.0",
          "state": {
            "_dom_classes": [],
            "_model_module": "@jupyter-widgets/controls",
            "_model_module_version": "1.5.0",
            "_model_name": "HTMLModel",
            "_view_count": null,
            "_view_module": "@jupyter-widgets/controls",
            "_view_module_version": "1.5.0",
            "_view_name": "HTMLView",
            "description": "",
            "description_tooltip": null,
            "layout": "IPY_MODEL_4eb48e20328b404ba9ed953f55369393",
            "placeholder": "​",
            "style": "IPY_MODEL_aacafe885b104e06b474c13a59643e08",
            "value": "100%"
          }
        },
        "58386390805842808f33220173173ca2": {
          "model_module": "@jupyter-widgets/controls",
          "model_name": "FloatProgressModel",
          "model_module_version": "1.5.0",
          "state": {
            "_dom_classes": [],
            "_model_module": "@jupyter-widgets/controls",
            "_model_module_version": "1.5.0",
            "_model_name": "FloatProgressModel",
            "_view_count": null,
            "_view_module": "@jupyter-widgets/controls",
            "_view_module_version": "1.5.0",
            "_view_name": "ProgressView",
            "bar_style": "success",
            "description": "",
            "description_tooltip": null,
            "layout": "IPY_MODEL_e350a460ed0b46c1bee05f592f959511",
            "max": 3,
            "min": 0,
            "orientation": "horizontal",
            "style": "IPY_MODEL_36c47f48f0c8491d8a9776eea5310689",
            "value": 3
          }
        },
        "b6793dc3d9f4465580210f12acb7183b": {
          "model_module": "@jupyter-widgets/controls",
          "model_name": "HTMLModel",
          "model_module_version": "1.5.0",
          "state": {
            "_dom_classes": [],
            "_model_module": "@jupyter-widgets/controls",
            "_model_module_version": "1.5.0",
            "_model_name": "HTMLModel",
            "_view_count": null,
            "_view_module": "@jupyter-widgets/controls",
            "_view_module_version": "1.5.0",
            "_view_name": "HTMLView",
            "description": "",
            "description_tooltip": null,
            "layout": "IPY_MODEL_6db3744311c348029729a714697ef56f",
            "placeholder": "​",
            "style": "IPY_MODEL_f0c110e617864fb1b3923e5baea06658",
            "value": " 3/3 [00:01&lt;00:00,  1.61it/s]"
          }
        },
        "7a1d5b22812f49ad99894876a7cc47de": {
          "model_module": "@jupyter-widgets/base",
          "model_name": "LayoutModel",
          "model_module_version": "1.2.0",
          "state": {
            "_model_module": "@jupyter-widgets/base",
            "_model_module_version": "1.2.0",
            "_model_name": "LayoutModel",
            "_view_count": null,
            "_view_module": "@jupyter-widgets/base",
            "_view_module_version": "1.2.0",
            "_view_name": "LayoutView",
            "align_content": null,
            "align_items": null,
            "align_self": null,
            "border": null,
            "bottom": null,
            "display": null,
            "flex": null,
            "flex_flow": null,
            "grid_area": null,
            "grid_auto_columns": null,
            "grid_auto_flow": null,
            "grid_auto_rows": null,
            "grid_column": null,
            "grid_gap": null,
            "grid_row": null,
            "grid_template_areas": null,
            "grid_template_columns": null,
            "grid_template_rows": null,
            "height": null,
            "justify_content": null,
            "justify_items": null,
            "left": null,
            "margin": null,
            "max_height": null,
            "max_width": null,
            "min_height": null,
            "min_width": null,
            "object_fit": null,
            "object_position": null,
            "order": null,
            "overflow": null,
            "overflow_x": null,
            "overflow_y": null,
            "padding": null,
            "right": null,
            "top": null,
            "visibility": null,
            "width": null
          }
        },
        "4eb48e20328b404ba9ed953f55369393": {
          "model_module": "@jupyter-widgets/base",
          "model_name": "LayoutModel",
          "model_module_version": "1.2.0",
          "state": {
            "_model_module": "@jupyter-widgets/base",
            "_model_module_version": "1.2.0",
            "_model_name": "LayoutModel",
            "_view_count": null,
            "_view_module": "@jupyter-widgets/base",
            "_view_module_version": "1.2.0",
            "_view_name": "LayoutView",
            "align_content": null,
            "align_items": null,
            "align_self": null,
            "border": null,
            "bottom": null,
            "display": null,
            "flex": null,
            "flex_flow": null,
            "grid_area": null,
            "grid_auto_columns": null,
            "grid_auto_flow": null,
            "grid_auto_rows": null,
            "grid_column": null,
            "grid_gap": null,
            "grid_row": null,
            "grid_template_areas": null,
            "grid_template_columns": null,
            "grid_template_rows": null,
            "height": null,
            "justify_content": null,
            "justify_items": null,
            "left": null,
            "margin": null,
            "max_height": null,
            "max_width": null,
            "min_height": null,
            "min_width": null,
            "object_fit": null,
            "object_position": null,
            "order": null,
            "overflow": null,
            "overflow_x": null,
            "overflow_y": null,
            "padding": null,
            "right": null,
            "top": null,
            "visibility": null,
            "width": null
          }
        },
        "aacafe885b104e06b474c13a59643e08": {
          "model_module": "@jupyter-widgets/controls",
          "model_name": "DescriptionStyleModel",
          "model_module_version": "1.5.0",
          "state": {
            "_model_module": "@jupyter-widgets/controls",
            "_model_module_version": "1.5.0",
            "_model_name": "DescriptionStyleModel",
            "_view_count": null,
            "_view_module": "@jupyter-widgets/base",
            "_view_module_version": "1.2.0",
            "_view_name": "StyleView",
            "description_width": ""
          }
        },
        "e350a460ed0b46c1bee05f592f959511": {
          "model_module": "@jupyter-widgets/base",
          "model_name": "LayoutModel",
          "model_module_version": "1.2.0",
          "state": {
            "_model_module": "@jupyter-widgets/base",
            "_model_module_version": "1.2.0",
            "_model_name": "LayoutModel",
            "_view_count": null,
            "_view_module": "@jupyter-widgets/base",
            "_view_module_version": "1.2.0",
            "_view_name": "LayoutView",
            "align_content": null,
            "align_items": null,
            "align_self": null,
            "border": null,
            "bottom": null,
            "display": null,
            "flex": null,
            "flex_flow": null,
            "grid_area": null,
            "grid_auto_columns": null,
            "grid_auto_flow": null,
            "grid_auto_rows": null,
            "grid_column": null,
            "grid_gap": null,
            "grid_row": null,
            "grid_template_areas": null,
            "grid_template_columns": null,
            "grid_template_rows": null,
            "height": null,
            "justify_content": null,
            "justify_items": null,
            "left": null,
            "margin": null,
            "max_height": null,
            "max_width": null,
            "min_height": null,
            "min_width": null,
            "object_fit": null,
            "object_position": null,
            "order": null,
            "overflow": null,
            "overflow_x": null,
            "overflow_y": null,
            "padding": null,
            "right": null,
            "top": null,
            "visibility": null,
            "width": null
          }
        },
        "36c47f48f0c8491d8a9776eea5310689": {
          "model_module": "@jupyter-widgets/controls",
          "model_name": "ProgressStyleModel",
          "model_module_version": "1.5.0",
          "state": {
            "_model_module": "@jupyter-widgets/controls",
            "_model_module_version": "1.5.0",
            "_model_name": "ProgressStyleModel",
            "_view_count": null,
            "_view_module": "@jupyter-widgets/base",
            "_view_module_version": "1.2.0",
            "_view_name": "StyleView",
            "bar_color": null,
            "description_width": ""
          }
        },
        "6db3744311c348029729a714697ef56f": {
          "model_module": "@jupyter-widgets/base",
          "model_name": "LayoutModel",
          "model_module_version": "1.2.0",
          "state": {
            "_model_module": "@jupyter-widgets/base",
            "_model_module_version": "1.2.0",
            "_model_name": "LayoutModel",
            "_view_count": null,
            "_view_module": "@jupyter-widgets/base",
            "_view_module_version": "1.2.0",
            "_view_name": "LayoutView",
            "align_content": null,
            "align_items": null,
            "align_self": null,
            "border": null,
            "bottom": null,
            "display": null,
            "flex": null,
            "flex_flow": null,
            "grid_area": null,
            "grid_auto_columns": null,
            "grid_auto_flow": null,
            "grid_auto_rows": null,
            "grid_column": null,
            "grid_gap": null,
            "grid_row": null,
            "grid_template_areas": null,
            "grid_template_columns": null,
            "grid_template_rows": null,
            "height": null,
            "justify_content": null,
            "justify_items": null,
            "left": null,
            "margin": null,
            "max_height": null,
            "max_width": null,
            "min_height": null,
            "min_width": null,
            "object_fit": null,
            "object_position": null,
            "order": null,
            "overflow": null,
            "overflow_x": null,
            "overflow_y": null,
            "padding": null,
            "right": null,
            "top": null,
            "visibility": null,
            "width": null
          }
        },
        "f0c110e617864fb1b3923e5baea06658": {
          "model_module": "@jupyter-widgets/controls",
          "model_name": "DescriptionStyleModel",
          "model_module_version": "1.5.0",
          "state": {
            "_model_module": "@jupyter-widgets/controls",
            "_model_module_version": "1.5.0",
            "_model_name": "DescriptionStyleModel",
            "_view_count": null,
            "_view_module": "@jupyter-widgets/base",
            "_view_module_version": "1.2.0",
            "_view_name": "StyleView",
            "description_width": ""
          }
        },
        "acb99a8bf388487baaf54514d5fd4cf2": {
          "model_module": "@jupyter-widgets/controls",
          "model_name": "HBoxModel",
          "model_module_version": "1.5.0",
          "state": {
            "_dom_classes": [],
            "_model_module": "@jupyter-widgets/controls",
            "_model_module_version": "1.5.0",
            "_model_name": "HBoxModel",
            "_view_count": null,
            "_view_module": "@jupyter-widgets/controls",
            "_view_module_version": "1.5.0",
            "_view_name": "HBoxView",
            "box_style": "",
            "children": [
              "IPY_MODEL_28f8e9b2a0964be3acf23029a45916e2",
              "IPY_MODEL_16097b8024b3430786c53057bf35b752",
              "IPY_MODEL_d82da026befb4c13aadcdcfd4c878dba"
            ],
            "layout": "IPY_MODEL_7d536fae86e748ef991619ee6bf088aa"
          }
        },
        "28f8e9b2a0964be3acf23029a45916e2": {
          "model_module": "@jupyter-widgets/controls",
          "model_name": "HTMLModel",
          "model_module_version": "1.5.0",
          "state": {
            "_dom_classes": [],
            "_model_module": "@jupyter-widgets/controls",
            "_model_module_version": "1.5.0",
            "_model_name": "HTMLModel",
            "_view_count": null,
            "_view_module": "@jupyter-widgets/controls",
            "_view_module_version": "1.5.0",
            "_view_name": "HTMLView",
            "description": "",
            "description_tooltip": null,
            "layout": "IPY_MODEL_55052ab832b748ac8bf033fba7552e4b",
            "placeholder": "​",
            "style": "IPY_MODEL_72b5fe075e2944f78137fa3acfca9bb6",
            "value": "100%"
          }
        },
        "16097b8024b3430786c53057bf35b752": {
          "model_module": "@jupyter-widgets/controls",
          "model_name": "FloatProgressModel",
          "model_module_version": "1.5.0",
          "state": {
            "_dom_classes": [],
            "_model_module": "@jupyter-widgets/controls",
            "_model_module_version": "1.5.0",
            "_model_name": "FloatProgressModel",
            "_view_count": null,
            "_view_module": "@jupyter-widgets/controls",
            "_view_module_version": "1.5.0",
            "_view_name": "ProgressView",
            "bar_style": "success",
            "description": "",
            "description_tooltip": null,
            "layout": "IPY_MODEL_97ce7d6799c34c129d02b339f86198c9",
            "max": 512,
            "min": 0,
            "orientation": "horizontal",
            "style": "IPY_MODEL_e80b2a601aa04648aa34d90afe9378ad",
            "value": 512
          }
        },
        "d82da026befb4c13aadcdcfd4c878dba": {
          "model_module": "@jupyter-widgets/controls",
          "model_name": "HTMLModel",
          "model_module_version": "1.5.0",
          "state": {
            "_dom_classes": [],
            "_model_module": "@jupyter-widgets/controls",
            "_model_module_version": "1.5.0",
            "_model_name": "HTMLModel",
            "_view_count": null,
            "_view_module": "@jupyter-widgets/controls",
            "_view_module_version": "1.5.0",
            "_view_name": "HTMLView",
            "description": "",
            "description_tooltip": null,
            "layout": "IPY_MODEL_cb6717af974c44258ddad959272a0832",
            "placeholder": "​",
            "style": "IPY_MODEL_4581e4b7d81b4402b5c2a7b269b00569",
            "value": " 512/512 [05:00&lt;00:00,  1.98it/s]"
          }
        },
        "7d536fae86e748ef991619ee6bf088aa": {
          "model_module": "@jupyter-widgets/base",
          "model_name": "LayoutModel",
          "model_module_version": "1.2.0",
          "state": {
            "_model_module": "@jupyter-widgets/base",
            "_model_module_version": "1.2.0",
            "_model_name": "LayoutModel",
            "_view_count": null,
            "_view_module": "@jupyter-widgets/base",
            "_view_module_version": "1.2.0",
            "_view_name": "LayoutView",
            "align_content": null,
            "align_items": null,
            "align_self": null,
            "border": null,
            "bottom": null,
            "display": null,
            "flex": null,
            "flex_flow": null,
            "grid_area": null,
            "grid_auto_columns": null,
            "grid_auto_flow": null,
            "grid_auto_rows": null,
            "grid_column": null,
            "grid_gap": null,
            "grid_row": null,
            "grid_template_areas": null,
            "grid_template_columns": null,
            "grid_template_rows": null,
            "height": null,
            "justify_content": null,
            "justify_items": null,
            "left": null,
            "margin": null,
            "max_height": null,
            "max_width": null,
            "min_height": null,
            "min_width": null,
            "object_fit": null,
            "object_position": null,
            "order": null,
            "overflow": null,
            "overflow_x": null,
            "overflow_y": null,
            "padding": null,
            "right": null,
            "top": null,
            "visibility": null,
            "width": null
          }
        },
        "55052ab832b748ac8bf033fba7552e4b": {
          "model_module": "@jupyter-widgets/base",
          "model_name": "LayoutModel",
          "model_module_version": "1.2.0",
          "state": {
            "_model_module": "@jupyter-widgets/base",
            "_model_module_version": "1.2.0",
            "_model_name": "LayoutModel",
            "_view_count": null,
            "_view_module": "@jupyter-widgets/base",
            "_view_module_version": "1.2.0",
            "_view_name": "LayoutView",
            "align_content": null,
            "align_items": null,
            "align_self": null,
            "border": null,
            "bottom": null,
            "display": null,
            "flex": null,
            "flex_flow": null,
            "grid_area": null,
            "grid_auto_columns": null,
            "grid_auto_flow": null,
            "grid_auto_rows": null,
            "grid_column": null,
            "grid_gap": null,
            "grid_row": null,
            "grid_template_areas": null,
            "grid_template_columns": null,
            "grid_template_rows": null,
            "height": null,
            "justify_content": null,
            "justify_items": null,
            "left": null,
            "margin": null,
            "max_height": null,
            "max_width": null,
            "min_height": null,
            "min_width": null,
            "object_fit": null,
            "object_position": null,
            "order": null,
            "overflow": null,
            "overflow_x": null,
            "overflow_y": null,
            "padding": null,
            "right": null,
            "top": null,
            "visibility": null,
            "width": null
          }
        },
        "72b5fe075e2944f78137fa3acfca9bb6": {
          "model_module": "@jupyter-widgets/controls",
          "model_name": "DescriptionStyleModel",
          "model_module_version": "1.5.0",
          "state": {
            "_model_module": "@jupyter-widgets/controls",
            "_model_module_version": "1.5.0",
            "_model_name": "DescriptionStyleModel",
            "_view_count": null,
            "_view_module": "@jupyter-widgets/base",
            "_view_module_version": "1.2.0",
            "_view_name": "StyleView",
            "description_width": ""
          }
        },
        "97ce7d6799c34c129d02b339f86198c9": {
          "model_module": "@jupyter-widgets/base",
          "model_name": "LayoutModel",
          "model_module_version": "1.2.0",
          "state": {
            "_model_module": "@jupyter-widgets/base",
            "_model_module_version": "1.2.0",
            "_model_name": "LayoutModel",
            "_view_count": null,
            "_view_module": "@jupyter-widgets/base",
            "_view_module_version": "1.2.0",
            "_view_name": "LayoutView",
            "align_content": null,
            "align_items": null,
            "align_self": null,
            "border": null,
            "bottom": null,
            "display": null,
            "flex": null,
            "flex_flow": null,
            "grid_area": null,
            "grid_auto_columns": null,
            "grid_auto_flow": null,
            "grid_auto_rows": null,
            "grid_column": null,
            "grid_gap": null,
            "grid_row": null,
            "grid_template_areas": null,
            "grid_template_columns": null,
            "grid_template_rows": null,
            "height": null,
            "justify_content": null,
            "justify_items": null,
            "left": null,
            "margin": null,
            "max_height": null,
            "max_width": null,
            "min_height": null,
            "min_width": null,
            "object_fit": null,
            "object_position": null,
            "order": null,
            "overflow": null,
            "overflow_x": null,
            "overflow_y": null,
            "padding": null,
            "right": null,
            "top": null,
            "visibility": null,
            "width": null
          }
        },
        "e80b2a601aa04648aa34d90afe9378ad": {
          "model_module": "@jupyter-widgets/controls",
          "model_name": "ProgressStyleModel",
          "model_module_version": "1.5.0",
          "state": {
            "_model_module": "@jupyter-widgets/controls",
            "_model_module_version": "1.5.0",
            "_model_name": "ProgressStyleModel",
            "_view_count": null,
            "_view_module": "@jupyter-widgets/base",
            "_view_module_version": "1.2.0",
            "_view_name": "StyleView",
            "bar_color": null,
            "description_width": ""
          }
        },
        "cb6717af974c44258ddad959272a0832": {
          "model_module": "@jupyter-widgets/base",
          "model_name": "LayoutModel",
          "model_module_version": "1.2.0",
          "state": {
            "_model_module": "@jupyter-widgets/base",
            "_model_module_version": "1.2.0",
            "_model_name": "LayoutModel",
            "_view_count": null,
            "_view_module": "@jupyter-widgets/base",
            "_view_module_version": "1.2.0",
            "_view_name": "LayoutView",
            "align_content": null,
            "align_items": null,
            "align_self": null,
            "border": null,
            "bottom": null,
            "display": null,
            "flex": null,
            "flex_flow": null,
            "grid_area": null,
            "grid_auto_columns": null,
            "grid_auto_flow": null,
            "grid_auto_rows": null,
            "grid_column": null,
            "grid_gap": null,
            "grid_row": null,
            "grid_template_areas": null,
            "grid_template_columns": null,
            "grid_template_rows": null,
            "height": null,
            "justify_content": null,
            "justify_items": null,
            "left": null,
            "margin": null,
            "max_height": null,
            "max_width": null,
            "min_height": null,
            "min_width": null,
            "object_fit": null,
            "object_position": null,
            "order": null,
            "overflow": null,
            "overflow_x": null,
            "overflow_y": null,
            "padding": null,
            "right": null,
            "top": null,
            "visibility": null,
            "width": null
          }
        },
        "4581e4b7d81b4402b5c2a7b269b00569": {
          "model_module": "@jupyter-widgets/controls",
          "model_name": "DescriptionStyleModel",
          "model_module_version": "1.5.0",
          "state": {
            "_model_module": "@jupyter-widgets/controls",
            "_model_module_version": "1.5.0",
            "_model_name": "DescriptionStyleModel",
            "_view_count": null,
            "_view_module": "@jupyter-widgets/base",
            "_view_module_version": "1.2.0",
            "_view_name": "StyleView",
            "description_width": ""
          }
        },
        "68cc9076b9af43c2824f63ead7b28199": {
          "model_module": "@jupyter-widgets/controls",
          "model_name": "HBoxModel",
          "model_module_version": "1.5.0",
          "state": {
            "_dom_classes": [],
            "_model_module": "@jupyter-widgets/controls",
            "_model_module_version": "1.5.0",
            "_model_name": "HBoxModel",
            "_view_count": null,
            "_view_module": "@jupyter-widgets/controls",
            "_view_module_version": "1.5.0",
            "_view_name": "HBoxView",
            "box_style": "",
            "children": [
              "IPY_MODEL_1b4faaf7ccb243e79a14b0aef72a20d1",
              "IPY_MODEL_aaf4cb360af04371b3a3de0d1c036db9",
              "IPY_MODEL_d2ad6e555a9b4e86868d88d9ac8a59ad"
            ],
            "layout": "IPY_MODEL_ecbe00276adf47c49dd8d8b85e5e8fe2"
          }
        },
        "1b4faaf7ccb243e79a14b0aef72a20d1": {
          "model_module": "@jupyter-widgets/controls",
          "model_name": "HTMLModel",
          "model_module_version": "1.5.0",
          "state": {
            "_dom_classes": [],
            "_model_module": "@jupyter-widgets/controls",
            "_model_module_version": "1.5.0",
            "_model_name": "HTMLModel",
            "_view_count": null,
            "_view_module": "@jupyter-widgets/controls",
            "_view_module_version": "1.5.0",
            "_view_name": "HTMLView",
            "description": "",
            "description_tooltip": null,
            "layout": "IPY_MODEL_d392a13f0a4e414194f7562ac38babd3",
            "placeholder": "​",
            "style": "IPY_MODEL_382b9b1ece934229b00b5bd46291a18f",
            "value": "100%"
          }
        },
        "aaf4cb360af04371b3a3de0d1c036db9": {
          "model_module": "@jupyter-widgets/controls",
          "model_name": "FloatProgressModel",
          "model_module_version": "1.5.0",
          "state": {
            "_dom_classes": [],
            "_model_module": "@jupyter-widgets/controls",
            "_model_module_version": "1.5.0",
            "_model_name": "FloatProgressModel",
            "_view_count": null,
            "_view_module": "@jupyter-widgets/controls",
            "_view_module_version": "1.5.0",
            "_view_name": "ProgressView",
            "bar_style": "success",
            "description": "",
            "description_tooltip": null,
            "layout": "IPY_MODEL_78d885017426437a953db777e27bc551",
            "max": 3,
            "min": 0,
            "orientation": "horizontal",
            "style": "IPY_MODEL_9adc1f67710c4279a9327e826c3efe90",
            "value": 3
          }
        },
        "d2ad6e555a9b4e86868d88d9ac8a59ad": {
          "model_module": "@jupyter-widgets/controls",
          "model_name": "HTMLModel",
          "model_module_version": "1.5.0",
          "state": {
            "_dom_classes": [],
            "_model_module": "@jupyter-widgets/controls",
            "_model_module_version": "1.5.0",
            "_model_name": "HTMLModel",
            "_view_count": null,
            "_view_module": "@jupyter-widgets/controls",
            "_view_module_version": "1.5.0",
            "_view_name": "HTMLView",
            "description": "",
            "description_tooltip": null,
            "layout": "IPY_MODEL_1eb9d8436c36489f83c11238eefe2fc7",
            "placeholder": "​",
            "style": "IPY_MODEL_152e58db3c8641738a2db1cb3a995e47",
            "value": " 3/3 [00:01&lt;00:00,  2.31it/s]"
          }
        },
        "ecbe00276adf47c49dd8d8b85e5e8fe2": {
          "model_module": "@jupyter-widgets/base",
          "model_name": "LayoutModel",
          "model_module_version": "1.2.0",
          "state": {
            "_model_module": "@jupyter-widgets/base",
            "_model_module_version": "1.2.0",
            "_model_name": "LayoutModel",
            "_view_count": null,
            "_view_module": "@jupyter-widgets/base",
            "_view_module_version": "1.2.0",
            "_view_name": "LayoutView",
            "align_content": null,
            "align_items": null,
            "align_self": null,
            "border": null,
            "bottom": null,
            "display": null,
            "flex": null,
            "flex_flow": null,
            "grid_area": null,
            "grid_auto_columns": null,
            "grid_auto_flow": null,
            "grid_auto_rows": null,
            "grid_column": null,
            "grid_gap": null,
            "grid_row": null,
            "grid_template_areas": null,
            "grid_template_columns": null,
            "grid_template_rows": null,
            "height": null,
            "justify_content": null,
            "justify_items": null,
            "left": null,
            "margin": null,
            "max_height": null,
            "max_width": null,
            "min_height": null,
            "min_width": null,
            "object_fit": null,
            "object_position": null,
            "order": null,
            "overflow": null,
            "overflow_x": null,
            "overflow_y": null,
            "padding": null,
            "right": null,
            "top": null,
            "visibility": null,
            "width": null
          }
        },
        "d392a13f0a4e414194f7562ac38babd3": {
          "model_module": "@jupyter-widgets/base",
          "model_name": "LayoutModel",
          "model_module_version": "1.2.0",
          "state": {
            "_model_module": "@jupyter-widgets/base",
            "_model_module_version": "1.2.0",
            "_model_name": "LayoutModel",
            "_view_count": null,
            "_view_module": "@jupyter-widgets/base",
            "_view_module_version": "1.2.0",
            "_view_name": "LayoutView",
            "align_content": null,
            "align_items": null,
            "align_self": null,
            "border": null,
            "bottom": null,
            "display": null,
            "flex": null,
            "flex_flow": null,
            "grid_area": null,
            "grid_auto_columns": null,
            "grid_auto_flow": null,
            "grid_auto_rows": null,
            "grid_column": null,
            "grid_gap": null,
            "grid_row": null,
            "grid_template_areas": null,
            "grid_template_columns": null,
            "grid_template_rows": null,
            "height": null,
            "justify_content": null,
            "justify_items": null,
            "left": null,
            "margin": null,
            "max_height": null,
            "max_width": null,
            "min_height": null,
            "min_width": null,
            "object_fit": null,
            "object_position": null,
            "order": null,
            "overflow": null,
            "overflow_x": null,
            "overflow_y": null,
            "padding": null,
            "right": null,
            "top": null,
            "visibility": null,
            "width": null
          }
        },
        "382b9b1ece934229b00b5bd46291a18f": {
          "model_module": "@jupyter-widgets/controls",
          "model_name": "DescriptionStyleModel",
          "model_module_version": "1.5.0",
          "state": {
            "_model_module": "@jupyter-widgets/controls",
            "_model_module_version": "1.5.0",
            "_model_name": "DescriptionStyleModel",
            "_view_count": null,
            "_view_module": "@jupyter-widgets/base",
            "_view_module_version": "1.2.0",
            "_view_name": "StyleView",
            "description_width": ""
          }
        },
        "78d885017426437a953db777e27bc551": {
          "model_module": "@jupyter-widgets/base",
          "model_name": "LayoutModel",
          "model_module_version": "1.2.0",
          "state": {
            "_model_module": "@jupyter-widgets/base",
            "_model_module_version": "1.2.0",
            "_model_name": "LayoutModel",
            "_view_count": null,
            "_view_module": "@jupyter-widgets/base",
            "_view_module_version": "1.2.0",
            "_view_name": "LayoutView",
            "align_content": null,
            "align_items": null,
            "align_self": null,
            "border": null,
            "bottom": null,
            "display": null,
            "flex": null,
            "flex_flow": null,
            "grid_area": null,
            "grid_auto_columns": null,
            "grid_auto_flow": null,
            "grid_auto_rows": null,
            "grid_column": null,
            "grid_gap": null,
            "grid_row": null,
            "grid_template_areas": null,
            "grid_template_columns": null,
            "grid_template_rows": null,
            "height": null,
            "justify_content": null,
            "justify_items": null,
            "left": null,
            "margin": null,
            "max_height": null,
            "max_width": null,
            "min_height": null,
            "min_width": null,
            "object_fit": null,
            "object_position": null,
            "order": null,
            "overflow": null,
            "overflow_x": null,
            "overflow_y": null,
            "padding": null,
            "right": null,
            "top": null,
            "visibility": null,
            "width": null
          }
        },
        "9adc1f67710c4279a9327e826c3efe90": {
          "model_module": "@jupyter-widgets/controls",
          "model_name": "ProgressStyleModel",
          "model_module_version": "1.5.0",
          "state": {
            "_model_module": "@jupyter-widgets/controls",
            "_model_module_version": "1.5.0",
            "_model_name": "ProgressStyleModel",
            "_view_count": null,
            "_view_module": "@jupyter-widgets/base",
            "_view_module_version": "1.2.0",
            "_view_name": "StyleView",
            "bar_color": null,
            "description_width": ""
          }
        },
        "1eb9d8436c36489f83c11238eefe2fc7": {
          "model_module": "@jupyter-widgets/base",
          "model_name": "LayoutModel",
          "model_module_version": "1.2.0",
          "state": {
            "_model_module": "@jupyter-widgets/base",
            "_model_module_version": "1.2.0",
            "_model_name": "LayoutModel",
            "_view_count": null,
            "_view_module": "@jupyter-widgets/base",
            "_view_module_version": "1.2.0",
            "_view_name": "LayoutView",
            "align_content": null,
            "align_items": null,
            "align_self": null,
            "border": null,
            "bottom": null,
            "display": null,
            "flex": null,
            "flex_flow": null,
            "grid_area": null,
            "grid_auto_columns": null,
            "grid_auto_flow": null,
            "grid_auto_rows": null,
            "grid_column": null,
            "grid_gap": null,
            "grid_row": null,
            "grid_template_areas": null,
            "grid_template_columns": null,
            "grid_template_rows": null,
            "height": null,
            "justify_content": null,
            "justify_items": null,
            "left": null,
            "margin": null,
            "max_height": null,
            "max_width": null,
            "min_height": null,
            "min_width": null,
            "object_fit": null,
            "object_position": null,
            "order": null,
            "overflow": null,
            "overflow_x": null,
            "overflow_y": null,
            "padding": null,
            "right": null,
            "top": null,
            "visibility": null,
            "width": null
          }
        },
        "152e58db3c8641738a2db1cb3a995e47": {
          "model_module": "@jupyter-widgets/controls",
          "model_name": "DescriptionStyleModel",
          "model_module_version": "1.5.0",
          "state": {
            "_model_module": "@jupyter-widgets/controls",
            "_model_module_version": "1.5.0",
            "_model_name": "DescriptionStyleModel",
            "_view_count": null,
            "_view_module": "@jupyter-widgets/base",
            "_view_module_version": "1.2.0",
            "_view_name": "StyleView",
            "description_width": ""
          }
        },
        "8bf5b39b447f43a6b88e331e695ed69d": {
          "model_module": "@jupyter-widgets/controls",
          "model_name": "HBoxModel",
          "model_module_version": "1.5.0",
          "state": {
            "_dom_classes": [],
            "_model_module": "@jupyter-widgets/controls",
            "_model_module_version": "1.5.0",
            "_model_name": "HBoxModel",
            "_view_count": null,
            "_view_module": "@jupyter-widgets/controls",
            "_view_module_version": "1.5.0",
            "_view_name": "HBoxView",
            "box_style": "",
            "children": [
              "IPY_MODEL_254fc6b2be344cc2aad31ae12c971818",
              "IPY_MODEL_e95b52b7eb39479c9e59e86e1228a8c2",
              "IPY_MODEL_8dfd1821451b44079f2eafb03662f81b"
            ],
            "layout": "IPY_MODEL_e7d802a1f7504409ac7743145e2e19d0"
          }
        },
        "254fc6b2be344cc2aad31ae12c971818": {
          "model_module": "@jupyter-widgets/controls",
          "model_name": "HTMLModel",
          "model_module_version": "1.5.0",
          "state": {
            "_dom_classes": [],
            "_model_module": "@jupyter-widgets/controls",
            "_model_module_version": "1.5.0",
            "_model_name": "HTMLModel",
            "_view_count": null,
            "_view_module": "@jupyter-widgets/controls",
            "_view_module_version": "1.5.0",
            "_view_name": "HTMLView",
            "description": "",
            "description_tooltip": null,
            "layout": "IPY_MODEL_7883aa10c2b14366adf279501adfd335",
            "placeholder": "​",
            "style": "IPY_MODEL_6b6365735524428b961af4774a7126d2",
            "value": "100%"
          }
        },
        "e95b52b7eb39479c9e59e86e1228a8c2": {
          "model_module": "@jupyter-widgets/controls",
          "model_name": "FloatProgressModel",
          "model_module_version": "1.5.0",
          "state": {
            "_dom_classes": [],
            "_model_module": "@jupyter-widgets/controls",
            "_model_module_version": "1.5.0",
            "_model_name": "FloatProgressModel",
            "_view_count": null,
            "_view_module": "@jupyter-widgets/controls",
            "_view_module_version": "1.5.0",
            "_view_name": "ProgressView",
            "bar_style": "success",
            "description": "",
            "description_tooltip": null,
            "layout": "IPY_MODEL_7c547b116ad845cba6cc3ce0f260eddf",
            "max": 512,
            "min": 0,
            "orientation": "horizontal",
            "style": "IPY_MODEL_19f50364ff5d45a094f6f87121cb242b",
            "value": 512
          }
        },
        "8dfd1821451b44079f2eafb03662f81b": {
          "model_module": "@jupyter-widgets/controls",
          "model_name": "HTMLModel",
          "model_module_version": "1.5.0",
          "state": {
            "_dom_classes": [],
            "_model_module": "@jupyter-widgets/controls",
            "_model_module_version": "1.5.0",
            "_model_name": "HTMLModel",
            "_view_count": null,
            "_view_module": "@jupyter-widgets/controls",
            "_view_module_version": "1.5.0",
            "_view_name": "HTMLView",
            "description": "",
            "description_tooltip": null,
            "layout": "IPY_MODEL_76586fdfb7444f7fa14f1cd3f5028df0",
            "placeholder": "​",
            "style": "IPY_MODEL_299f25bdef644e9db7c01d791ddcdeff",
            "value": " 512/512 [04:19&lt;00:00,  2.05it/s]"
          }
        },
        "e7d802a1f7504409ac7743145e2e19d0": {
          "model_module": "@jupyter-widgets/base",
          "model_name": "LayoutModel",
          "model_module_version": "1.2.0",
          "state": {
            "_model_module": "@jupyter-widgets/base",
            "_model_module_version": "1.2.0",
            "_model_name": "LayoutModel",
            "_view_count": null,
            "_view_module": "@jupyter-widgets/base",
            "_view_module_version": "1.2.0",
            "_view_name": "LayoutView",
            "align_content": null,
            "align_items": null,
            "align_self": null,
            "border": null,
            "bottom": null,
            "display": null,
            "flex": null,
            "flex_flow": null,
            "grid_area": null,
            "grid_auto_columns": null,
            "grid_auto_flow": null,
            "grid_auto_rows": null,
            "grid_column": null,
            "grid_gap": null,
            "grid_row": null,
            "grid_template_areas": null,
            "grid_template_columns": null,
            "grid_template_rows": null,
            "height": null,
            "justify_content": null,
            "justify_items": null,
            "left": null,
            "margin": null,
            "max_height": null,
            "max_width": null,
            "min_height": null,
            "min_width": null,
            "object_fit": null,
            "object_position": null,
            "order": null,
            "overflow": null,
            "overflow_x": null,
            "overflow_y": null,
            "padding": null,
            "right": null,
            "top": null,
            "visibility": null,
            "width": null
          }
        },
        "7883aa10c2b14366adf279501adfd335": {
          "model_module": "@jupyter-widgets/base",
          "model_name": "LayoutModel",
          "model_module_version": "1.2.0",
          "state": {
            "_model_module": "@jupyter-widgets/base",
            "_model_module_version": "1.2.0",
            "_model_name": "LayoutModel",
            "_view_count": null,
            "_view_module": "@jupyter-widgets/base",
            "_view_module_version": "1.2.0",
            "_view_name": "LayoutView",
            "align_content": null,
            "align_items": null,
            "align_self": null,
            "border": null,
            "bottom": null,
            "display": null,
            "flex": null,
            "flex_flow": null,
            "grid_area": null,
            "grid_auto_columns": null,
            "grid_auto_flow": null,
            "grid_auto_rows": null,
            "grid_column": null,
            "grid_gap": null,
            "grid_row": null,
            "grid_template_areas": null,
            "grid_template_columns": null,
            "grid_template_rows": null,
            "height": null,
            "justify_content": null,
            "justify_items": null,
            "left": null,
            "margin": null,
            "max_height": null,
            "max_width": null,
            "min_height": null,
            "min_width": null,
            "object_fit": null,
            "object_position": null,
            "order": null,
            "overflow": null,
            "overflow_x": null,
            "overflow_y": null,
            "padding": null,
            "right": null,
            "top": null,
            "visibility": null,
            "width": null
          }
        },
        "6b6365735524428b961af4774a7126d2": {
          "model_module": "@jupyter-widgets/controls",
          "model_name": "DescriptionStyleModel",
          "model_module_version": "1.5.0",
          "state": {
            "_model_module": "@jupyter-widgets/controls",
            "_model_module_version": "1.5.0",
            "_model_name": "DescriptionStyleModel",
            "_view_count": null,
            "_view_module": "@jupyter-widgets/base",
            "_view_module_version": "1.2.0",
            "_view_name": "StyleView",
            "description_width": ""
          }
        },
        "7c547b116ad845cba6cc3ce0f260eddf": {
          "model_module": "@jupyter-widgets/base",
          "model_name": "LayoutModel",
          "model_module_version": "1.2.0",
          "state": {
            "_model_module": "@jupyter-widgets/base",
            "_model_module_version": "1.2.0",
            "_model_name": "LayoutModel",
            "_view_count": null,
            "_view_module": "@jupyter-widgets/base",
            "_view_module_version": "1.2.0",
            "_view_name": "LayoutView",
            "align_content": null,
            "align_items": null,
            "align_self": null,
            "border": null,
            "bottom": null,
            "display": null,
            "flex": null,
            "flex_flow": null,
            "grid_area": null,
            "grid_auto_columns": null,
            "grid_auto_flow": null,
            "grid_auto_rows": null,
            "grid_column": null,
            "grid_gap": null,
            "grid_row": null,
            "grid_template_areas": null,
            "grid_template_columns": null,
            "grid_template_rows": null,
            "height": null,
            "justify_content": null,
            "justify_items": null,
            "left": null,
            "margin": null,
            "max_height": null,
            "max_width": null,
            "min_height": null,
            "min_width": null,
            "object_fit": null,
            "object_position": null,
            "order": null,
            "overflow": null,
            "overflow_x": null,
            "overflow_y": null,
            "padding": null,
            "right": null,
            "top": null,
            "visibility": null,
            "width": null
          }
        },
        "19f50364ff5d45a094f6f87121cb242b": {
          "model_module": "@jupyter-widgets/controls",
          "model_name": "ProgressStyleModel",
          "model_module_version": "1.5.0",
          "state": {
            "_model_module": "@jupyter-widgets/controls",
            "_model_module_version": "1.5.0",
            "_model_name": "ProgressStyleModel",
            "_view_count": null,
            "_view_module": "@jupyter-widgets/base",
            "_view_module_version": "1.2.0",
            "_view_name": "StyleView",
            "bar_color": null,
            "description_width": ""
          }
        },
        "76586fdfb7444f7fa14f1cd3f5028df0": {
          "model_module": "@jupyter-widgets/base",
          "model_name": "LayoutModel",
          "model_module_version": "1.2.0",
          "state": {
            "_model_module": "@jupyter-widgets/base",
            "_model_module_version": "1.2.0",
            "_model_name": "LayoutModel",
            "_view_count": null,
            "_view_module": "@jupyter-widgets/base",
            "_view_module_version": "1.2.0",
            "_view_name": "LayoutView",
            "align_content": null,
            "align_items": null,
            "align_self": null,
            "border": null,
            "bottom": null,
            "display": null,
            "flex": null,
            "flex_flow": null,
            "grid_area": null,
            "grid_auto_columns": null,
            "grid_auto_flow": null,
            "grid_auto_rows": null,
            "grid_column": null,
            "grid_gap": null,
            "grid_row": null,
            "grid_template_areas": null,
            "grid_template_columns": null,
            "grid_template_rows": null,
            "height": null,
            "justify_content": null,
            "justify_items": null,
            "left": null,
            "margin": null,
            "max_height": null,
            "max_width": null,
            "min_height": null,
            "min_width": null,
            "object_fit": null,
            "object_position": null,
            "order": null,
            "overflow": null,
            "overflow_x": null,
            "overflow_y": null,
            "padding": null,
            "right": null,
            "top": null,
            "visibility": null,
            "width": null
          }
        },
        "299f25bdef644e9db7c01d791ddcdeff": {
          "model_module": "@jupyter-widgets/controls",
          "model_name": "DescriptionStyleModel",
          "model_module_version": "1.5.0",
          "state": {
            "_model_module": "@jupyter-widgets/controls",
            "_model_module_version": "1.5.0",
            "_model_name": "DescriptionStyleModel",
            "_view_count": null,
            "_view_module": "@jupyter-widgets/base",
            "_view_module_version": "1.2.0",
            "_view_name": "StyleView",
            "description_width": ""
          }
        },
        "040e8f3caee843b0b9eb29746e238038": {
          "model_module": "@jupyter-widgets/controls",
          "model_name": "HBoxModel",
          "model_module_version": "1.5.0",
          "state": {
            "_dom_classes": [],
            "_model_module": "@jupyter-widgets/controls",
            "_model_module_version": "1.5.0",
            "_model_name": "HBoxModel",
            "_view_count": null,
            "_view_module": "@jupyter-widgets/controls",
            "_view_module_version": "1.5.0",
            "_view_name": "HBoxView",
            "box_style": "",
            "children": [
              "IPY_MODEL_8fd26183a4db457bbeddb96c75a6fe71",
              "IPY_MODEL_090c5ffdc8954b6d83d4cf19529705f8",
              "IPY_MODEL_b61621c23e024a0aab3df9c275c812ac"
            ],
            "layout": "IPY_MODEL_19fb2e28ca6441d3af50b12f9e8ca2d9"
          }
        },
        "8fd26183a4db457bbeddb96c75a6fe71": {
          "model_module": "@jupyter-widgets/controls",
          "model_name": "HTMLModel",
          "model_module_version": "1.5.0",
          "state": {
            "_dom_classes": [],
            "_model_module": "@jupyter-widgets/controls",
            "_model_module_version": "1.5.0",
            "_model_name": "HTMLModel",
            "_view_count": null,
            "_view_module": "@jupyter-widgets/controls",
            "_view_module_version": "1.5.0",
            "_view_name": "HTMLView",
            "description": "",
            "description_tooltip": null,
            "layout": "IPY_MODEL_c57ad8be6a3246b3beccb26d0ea3168c",
            "placeholder": "​",
            "style": "IPY_MODEL_76e911f2087f483194b495a8c258c43a",
            "value": "100%"
          }
        },
        "090c5ffdc8954b6d83d4cf19529705f8": {
          "model_module": "@jupyter-widgets/controls",
          "model_name": "FloatProgressModel",
          "model_module_version": "1.5.0",
          "state": {
            "_dom_classes": [],
            "_model_module": "@jupyter-widgets/controls",
            "_model_module_version": "1.5.0",
            "_model_name": "FloatProgressModel",
            "_view_count": null,
            "_view_module": "@jupyter-widgets/controls",
            "_view_module_version": "1.5.0",
            "_view_name": "ProgressView",
            "bar_style": "success",
            "description": "",
            "description_tooltip": null,
            "layout": "IPY_MODEL_2d73dda6860044a0a70a38d83723c6d7",
            "max": 512,
            "min": 0,
            "orientation": "horizontal",
            "style": "IPY_MODEL_24b9da17e7554a60bd835b60c21e4deb",
            "value": 512
          }
        },
        "b61621c23e024a0aab3df9c275c812ac": {
          "model_module": "@jupyter-widgets/controls",
          "model_name": "HTMLModel",
          "model_module_version": "1.5.0",
          "state": {
            "_dom_classes": [],
            "_model_module": "@jupyter-widgets/controls",
            "_model_module_version": "1.5.0",
            "_model_name": "HTMLModel",
            "_view_count": null,
            "_view_module": "@jupyter-widgets/controls",
            "_view_module_version": "1.5.0",
            "_view_name": "HTMLView",
            "description": "",
            "description_tooltip": null,
            "layout": "IPY_MODEL_01852ed2f318445e90e187a8645b4810",
            "placeholder": "​",
            "style": "IPY_MODEL_9afcb48f3c3d44489516f20012396bd5",
            "value": " 512/512 [04:21&lt;00:00,  2.03it/s]"
          }
        },
        "19fb2e28ca6441d3af50b12f9e8ca2d9": {
          "model_module": "@jupyter-widgets/base",
          "model_name": "LayoutModel",
          "model_module_version": "1.2.0",
          "state": {
            "_model_module": "@jupyter-widgets/base",
            "_model_module_version": "1.2.0",
            "_model_name": "LayoutModel",
            "_view_count": null,
            "_view_module": "@jupyter-widgets/base",
            "_view_module_version": "1.2.0",
            "_view_name": "LayoutView",
            "align_content": null,
            "align_items": null,
            "align_self": null,
            "border": null,
            "bottom": null,
            "display": null,
            "flex": null,
            "flex_flow": null,
            "grid_area": null,
            "grid_auto_columns": null,
            "grid_auto_flow": null,
            "grid_auto_rows": null,
            "grid_column": null,
            "grid_gap": null,
            "grid_row": null,
            "grid_template_areas": null,
            "grid_template_columns": null,
            "grid_template_rows": null,
            "height": null,
            "justify_content": null,
            "justify_items": null,
            "left": null,
            "margin": null,
            "max_height": null,
            "max_width": null,
            "min_height": null,
            "min_width": null,
            "object_fit": null,
            "object_position": null,
            "order": null,
            "overflow": null,
            "overflow_x": null,
            "overflow_y": null,
            "padding": null,
            "right": null,
            "top": null,
            "visibility": null,
            "width": null
          }
        },
        "c57ad8be6a3246b3beccb26d0ea3168c": {
          "model_module": "@jupyter-widgets/base",
          "model_name": "LayoutModel",
          "model_module_version": "1.2.0",
          "state": {
            "_model_module": "@jupyter-widgets/base",
            "_model_module_version": "1.2.0",
            "_model_name": "LayoutModel",
            "_view_count": null,
            "_view_module": "@jupyter-widgets/base",
            "_view_module_version": "1.2.0",
            "_view_name": "LayoutView",
            "align_content": null,
            "align_items": null,
            "align_self": null,
            "border": null,
            "bottom": null,
            "display": null,
            "flex": null,
            "flex_flow": null,
            "grid_area": null,
            "grid_auto_columns": null,
            "grid_auto_flow": null,
            "grid_auto_rows": null,
            "grid_column": null,
            "grid_gap": null,
            "grid_row": null,
            "grid_template_areas": null,
            "grid_template_columns": null,
            "grid_template_rows": null,
            "height": null,
            "justify_content": null,
            "justify_items": null,
            "left": null,
            "margin": null,
            "max_height": null,
            "max_width": null,
            "min_height": null,
            "min_width": null,
            "object_fit": null,
            "object_position": null,
            "order": null,
            "overflow": null,
            "overflow_x": null,
            "overflow_y": null,
            "padding": null,
            "right": null,
            "top": null,
            "visibility": null,
            "width": null
          }
        },
        "76e911f2087f483194b495a8c258c43a": {
          "model_module": "@jupyter-widgets/controls",
          "model_name": "DescriptionStyleModel",
          "model_module_version": "1.5.0",
          "state": {
            "_model_module": "@jupyter-widgets/controls",
            "_model_module_version": "1.5.0",
            "_model_name": "DescriptionStyleModel",
            "_view_count": null,
            "_view_module": "@jupyter-widgets/base",
            "_view_module_version": "1.2.0",
            "_view_name": "StyleView",
            "description_width": ""
          }
        },
        "2d73dda6860044a0a70a38d83723c6d7": {
          "model_module": "@jupyter-widgets/base",
          "model_name": "LayoutModel",
          "model_module_version": "1.2.0",
          "state": {
            "_model_module": "@jupyter-widgets/base",
            "_model_module_version": "1.2.0",
            "_model_name": "LayoutModel",
            "_view_count": null,
            "_view_module": "@jupyter-widgets/base",
            "_view_module_version": "1.2.0",
            "_view_name": "LayoutView",
            "align_content": null,
            "align_items": null,
            "align_self": null,
            "border": null,
            "bottom": null,
            "display": null,
            "flex": null,
            "flex_flow": null,
            "grid_area": null,
            "grid_auto_columns": null,
            "grid_auto_flow": null,
            "grid_auto_rows": null,
            "grid_column": null,
            "grid_gap": null,
            "grid_row": null,
            "grid_template_areas": null,
            "grid_template_columns": null,
            "grid_template_rows": null,
            "height": null,
            "justify_content": null,
            "justify_items": null,
            "left": null,
            "margin": null,
            "max_height": null,
            "max_width": null,
            "min_height": null,
            "min_width": null,
            "object_fit": null,
            "object_position": null,
            "order": null,
            "overflow": null,
            "overflow_x": null,
            "overflow_y": null,
            "padding": null,
            "right": null,
            "top": null,
            "visibility": null,
            "width": null
          }
        },
        "24b9da17e7554a60bd835b60c21e4deb": {
          "model_module": "@jupyter-widgets/controls",
          "model_name": "ProgressStyleModel",
          "model_module_version": "1.5.0",
          "state": {
            "_model_module": "@jupyter-widgets/controls",
            "_model_module_version": "1.5.0",
            "_model_name": "ProgressStyleModel",
            "_view_count": null,
            "_view_module": "@jupyter-widgets/base",
            "_view_module_version": "1.2.0",
            "_view_name": "StyleView",
            "bar_color": null,
            "description_width": ""
          }
        },
        "01852ed2f318445e90e187a8645b4810": {
          "model_module": "@jupyter-widgets/base",
          "model_name": "LayoutModel",
          "model_module_version": "1.2.0",
          "state": {
            "_model_module": "@jupyter-widgets/base",
            "_model_module_version": "1.2.0",
            "_model_name": "LayoutModel",
            "_view_count": null,
            "_view_module": "@jupyter-widgets/base",
            "_view_module_version": "1.2.0",
            "_view_name": "LayoutView",
            "align_content": null,
            "align_items": null,
            "align_self": null,
            "border": null,
            "bottom": null,
            "display": null,
            "flex": null,
            "flex_flow": null,
            "grid_area": null,
            "grid_auto_columns": null,
            "grid_auto_flow": null,
            "grid_auto_rows": null,
            "grid_column": null,
            "grid_gap": null,
            "grid_row": null,
            "grid_template_areas": null,
            "grid_template_columns": null,
            "grid_template_rows": null,
            "height": null,
            "justify_content": null,
            "justify_items": null,
            "left": null,
            "margin": null,
            "max_height": null,
            "max_width": null,
            "min_height": null,
            "min_width": null,
            "object_fit": null,
            "object_position": null,
            "order": null,
            "overflow": null,
            "overflow_x": null,
            "overflow_y": null,
            "padding": null,
            "right": null,
            "top": null,
            "visibility": null,
            "width": null
          }
        },
        "9afcb48f3c3d44489516f20012396bd5": {
          "model_module": "@jupyter-widgets/controls",
          "model_name": "DescriptionStyleModel",
          "model_module_version": "1.5.0",
          "state": {
            "_model_module": "@jupyter-widgets/controls",
            "_model_module_version": "1.5.0",
            "_model_name": "DescriptionStyleModel",
            "_view_count": null,
            "_view_module": "@jupyter-widgets/base",
            "_view_module_version": "1.2.0",
            "_view_name": "StyleView",
            "description_width": ""
          }
        }
      }
    }
  },
  "cells": [
    {
      "cell_type": "markdown",
      "source": [
        "##번역가는 대화에도 능하다"
      ],
      "metadata": {
        "id": "KuZ4Oz1_L0CI"
      }
    },
    {
      "cell_type": "markdown",
      "source": [
        ""
      ],
      "metadata": {
        "id": "-9Qt4VWCL29n"
      }
    },
    {
      "cell_type": "markdown",
      "source": [
        "개발 환경\n",
        "<br/>데이터 정보\n",
        "<br/>데이터 탐색\n"
      ],
      "metadata": {
        "id": "e50Vz6AMBxIE"
      }
    },
    {
      "cell_type": "markdown",
      "source": [
        "데이터 전처리\n",
        "<br/>문장 길이 범위\n",
        "<br/>중복 제거\n",
        "<br/>리스트 변환\n",
        "<br/>정제\n",
        "<br/>토큰화"
      ],
      "metadata": {
        "id": "TxZJ7HYmfV3k"
      }
    },
    {
      "cell_type": "markdown",
      "source": [
        "Data Augmentation\n",
        "<br/>Word2Vec\n",
        "<br/>Glove\n",
        "<br/>FastText\n",
        "<br/>Lexical Substitution\n",
        "<br/>Ascending Order\n",
        "<br/>File I/O"
      ],
      "metadata": {
        "id": "7jwiITOfB6Pz"
      }
    },
    {
      "cell_type": "markdown",
      "source": [
        "Data Vectorization"
      ],
      "metadata": {
        "id": "k9HerWMxB8Bu"
      }
    },
    {
      "cell_type": "markdown",
      "source": [
        "모델 구성\n",
        "<br/>Transformer\n",
        "<br/>Learning Rate Schedule\n",
        "<br/>Loss Function\n",
        "<br/>Train Step\n",
        "<br/>Evaluation"
      ],
      "metadata": {
        "id": "CXd8ww_TB90L"
      }
    },
    {
      "cell_type": "markdown",
      "source": [
        "BLEU Score\n",
        "<br/>Hyperparameter\n",
        "<br/>First Model\n",
        "<br/>Second Model\n",
        "<br/>최종 모델\n",
        "<br/>결론\n",
        "<br/>참고문헌"
      ],
      "metadata": {
        "id": "KqBAmMLRCAhb"
      }
    },
    {
      "cell_type": "markdown",
      "source": [
        ""
      ],
      "metadata": {
        "id": "gBLdkNwYL3GX"
      }
    },
    {
      "cell_type": "markdown",
      "source": [
        "#개발 환경"
      ],
      "metadata": {
        "id": "3YxtFSJkL2qf"
      }
    },
    {
      "cell_type": "code",
      "source": [
        "!sudo apt-get install -y fonts-nanum\n",
        "!sudo fc-cache -fv\n",
        "!rm ~/.cache/matplotlib -rf"
      ],
      "metadata": {
        "id": "tOfvNHPpEOuy"
      },
      "execution_count": null,
      "outputs": []
    },
    {
      "cell_type": "markdown",
      "source": [
        "한글 폰트를 설치한다.\n",
        "<br/>혹시 깨짐현상이 발생하는 경우 런타임을 다시 시작하고 matplotlib 모듈을 실행하면 한글이 출력된다."
      ],
      "metadata": {
        "id": "5NqFDNBEEU6b"
      }
    },
    {
      "cell_type": "code",
      "source": [
        "import matplotlib as mpl\n",
        "import matplotlib.pyplot as plt\n",
        "%config InlineBackend.figure_format = 'retina'\n",
        "import matplotlib.font_manager as fm\n",
        "import matplotlib.ticker as ticker"
      ],
      "metadata": {
        "id": "FT_6nFlmEOyW"
      },
      "execution_count": 1,
      "outputs": []
    },
    {
      "cell_type": "code",
      "source": [
        "font_list = [font.name for font in fm.fontManager.ttflist]\n",
        "font_list"
      ],
      "metadata": {
        "id": "P_ejBJhTEPDZ"
      },
      "execution_count": null,
      "outputs": []
    },
    {
      "cell_type": "markdown",
      "source": [
        "Google Colab에 한글 폰트가 설치되어 있는지 확인한다."
      ],
      "metadata": {
        "id": "wpd9H369Ejk7"
      }
    },
    {
      "cell_type": "code",
      "source": [
        "fontpath = '/usr/share/fonts/truetype/nanum/NanumBarunGothic.ttf'\n",
        "font = fm.FontProperties(fname=fontpath, size=9)\n",
        "plt.rc('font', family='NanumBarunGothic') \n",
        "mpl.font_manager.findfont(font)"
      ],
      "metadata": {
        "id": "xzkeautOEkm7"
      },
      "execution_count": null,
      "outputs": []
    },
    {
      "cell_type": "markdown",
      "source": [
        "PCA Scatter Plot을 확인하기 위해 한국어를 지원하는 폰트로 변경한다."
      ],
      "metadata": {
        "id": "_mgeAws-Erja"
      }
    },
    {
      "cell_type": "code",
      "source": [
        "!pip install fasttext"
      ],
      "metadata": {
        "id": "MxpIocvq8ZOe"
      },
      "execution_count": null,
      "outputs": []
    },
    {
      "cell_type": "code",
      "source": [
        "import os\n",
        "# install konlpy, jdk, JPype\n",
        "!pip install konlpy\n",
        "!apt-get install openjdk-8-jdk-headless -qq > /dev/null\n",
        "!pip3 install JPype1-py3\n",
        "\n",
        "# install mecab-ko\n",
        "os.chdir('/tmp/')\n",
        "!curl -LO https://bitbucket.org/eunjeon/mecab-ko/downloads/mecab-0.996-ko-0.9.2.tar.gz\n",
        "!tar zxfv mecab-0.996-ko-0.9.2.tar.gz\n",
        "os.chdir('/tmp/mecab-0.996-ko-0.9.2')\n",
        "!./configure\n",
        "!make\n",
        "!make check\n",
        "!make install\n",
        "\n",
        "# install mecab-ko-dic\n",
        "!apt-get install automake\n",
        "os.chdir('/tmp')\n",
        "!curl -LO https://bitbucket.org/eunjeon/mecab-ko-dic/downloads/mecab-ko-dic-2.1.1-20180720.tar.gz\n",
        "!tar -zxvf mecab-ko-dic-2.1.1-20180720.tar.gz\n",
        "os.chdir('/tmp/mecab-ko-dic-2.1.1-20180720')\n",
        "!./autogen.sh\n",
        "!./configure\n",
        "!make\n",
        "!make install\n",
        "\n",
        "# install mecab-python\n",
        "os.chdir('/content')\n",
        "!git clone https://bitbucket.org/eunjeon/mecab-python-0.996.git\n",
        "os.chdir('/content/mecab-python-0.996')\n",
        "!python3 setup.py build\n",
        "!python3 setup.py install"
      ],
      "metadata": {
        "id": "IzBw5BrPP-lq"
      },
      "execution_count": null,
      "outputs": []
    },
    {
      "cell_type": "code",
      "source": [
        "import os\n",
        "import csv\n",
        "import pickle\n",
        "import math\n",
        "import random\n",
        "import warnings\n",
        "warnings.filterwarnings('ignore')\n",
        "from collections import Counter"
      ],
      "metadata": {
        "id": "xG3wwdOAN0Po"
      },
      "execution_count": 2,
      "outputs": []
    },
    {
      "cell_type": "code",
      "source": [
        "import numpy as np\n",
        "import pandas as pd\n",
        "import tensorflow as tf\n",
        "from keras.preprocessing import sequence\n",
        "from sklearn.decomposition import PCA\n",
        "from sklearn.model_selection import train_test_split"
      ],
      "metadata": {
        "id": "ypVXfWMCPMBB"
      },
      "execution_count": 3,
      "outputs": []
    },
    {
      "cell_type": "code",
      "source": [
        "from tqdm.notebook import tqdm\n",
        "from IPython.display import HTML\n",
        "from IPython.display import Image"
      ],
      "metadata": {
        "id": "5bapnBhAdcnS"
      },
      "execution_count": 4,
      "outputs": []
    },
    {
      "cell_type": "code",
      "source": [
        "import re\n",
        "from konlpy.tag import Mecab"
      ],
      "metadata": {
        "id": "qhumuiC16Oha"
      },
      "execution_count": 5,
      "outputs": []
    },
    {
      "cell_type": "code",
      "source": [
        "import gensim\n",
        "from gensim.models import Word2Vec\n",
        "from gensim.models.keyedvectors import KeyedVectors\n",
        "from gensim.scripts.glove2word2vec import glove2word2vec"
      ],
      "metadata": {
        "id": "IxFl_wIdREBP"
      },
      "execution_count": 8,
      "outputs": []
    },
    {
      "cell_type": "code",
      "source": [
        "import fasttext\n",
        "import fasttext.util"
      ],
      "metadata": {
        "id": "IjI6PqkGHe-W"
      },
      "execution_count": 9,
      "outputs": []
    },
    {
      "cell_type": "code",
      "source": [
        "import nltk\n",
        "from nltk.translate.bleu_score import sentence_bleu\n",
        "from nltk.translate.bleu_score import SmoothingFunction"
      ],
      "metadata": {
        "id": "abYf_Hz-Hf3P"
      },
      "execution_count": 6,
      "outputs": []
    },
    {
      "cell_type": "code",
      "execution_count": null,
      "metadata": {
        "id": "IRF7OzHjLpqv"
      },
      "outputs": [],
      "source": [
        "from google.colab import drive\n",
        "drive.mount('/content/drive')"
      ]
    },
    {
      "cell_type": "code",
      "source": [
        "pip freeze > '/content/drive/MyDrive/lms/library_version.txt'"
      ],
      "metadata": {
        "id": "oYVCEyNAL8_4"
      },
      "execution_count": 11,
      "outputs": []
    },
    {
      "cell_type": "code",
      "source": [
        "library_name = ['numpy=', 'pandas=', 'tensorflow=', 'keras=', 'scikit-learn=', 'tqdm=', 'matplotlib=',\n",
        "                'regex=', 'gensim=', 'nltk=', 'konlpy=', 'fasttext=', 'pickle=', 'nltk=']\n",
        "library_version = []\n",
        "f = open('/content/drive/MyDrive/lms/library_version.txt', 'r')\n",
        "line = f.readline()\n",
        "while True:\n",
        "    line = f.readline()\n",
        "    if not line:\n",
        "      break\n",
        "    for i in library_name:\n",
        "      if i in line:\n",
        "        library_version.append(line)\n",
        "        library_version.append('    ')\n",
        "\n",
        "f.close()\n",
        "\n",
        "import sys\n",
        "print(sys.version)\n",
        "print()\n",
        "\n",
        "for i in range(0, len(library_version) - 1, 6):\n",
        "  print(str(library_version[i : i+6]).replace(\"[\",\"\").replace(\"]\",\"\").replace(\"'\",\"\").replace(\"\\\\n\",\"\").replace(\",\",\"\"), end='') \n",
        "  if i % 6 == 0:\n",
        "    print()\n",
        "\n",
        "for i in range(len(library_version) - 1):\n",
        "  if (i-1) % 6 == 0 and i == len(library_version) - 6:\n",
        "    print(str(library_version[-1]).replace(\"[\",\"\").replace(\"]\",\"\").replace(\"'\",\"\").replace(\"\\\\n\",\"\").replace(\",\",\"\"), end='')"
      ],
      "metadata": {
        "id": "OW7wp6CdL_bn",
        "colab": {
          "base_uri": "https://localhost:8080/"
        },
        "outputId": "9a4bf883-22bf-419f-d34f-76444c3d0a4b"
      },
      "execution_count": 12,
      "outputs": [
        {
          "output_type": "stream",
          "name": "stdout",
          "text": [
            "3.7.13 (default, Apr 24 2022, 01:04:09) \n",
            "[GCC 7.5.0]\n",
            "\n",
            "cloudpickle==1.3.0      fasttext==0.9.2      gensim==3.6.0     \n",
            "keras==2.8.0      konlpy==0.6.0      matplotlib==3.2.2     \n",
            "nltk==3.7      nltk==3.7      numpy==1.21.6     \n",
            "pandas==1.3.5      regex==2022.6.2      scikit-learn==1.0.2     \n",
            "sklearn-pandas==1.8.0      tensorflow==2.8.2+zzzcolab20220719082949      tqdm==4.64.0     \n"
          ]
        }
      ]
    },
    {
      "cell_type": "code",
      "source": [
        "gpu_info = !nvidia-smi\n",
        "gpu_info = '\\n'.join(gpu_info)\n",
        "if gpu_info.find('failed') >= 0:\n",
        "  print('Not connected to a GPU')\n",
        "else:\n",
        "  print(gpu_info)"
      ],
      "metadata": {
        "id": "YwV-ON03MBvP"
      },
      "execution_count": null,
      "outputs": []
    },
    {
      "cell_type": "code",
      "source": [
        "from psutil import virtual_memory\n",
        "ram_gb = virtual_memory().total / 1e9\n",
        "print('Your runtime has {:.1f} gigabytes of available RAM\\n'.format(ram_gb))\n",
        "\n",
        "if ram_gb < 20:\n",
        "  print('Not using a high-RAM runtime')\n",
        "else:\n",
        "  print('You are using a high-RAM runtime!')"
      ],
      "metadata": {
        "id": "MyIkJ2hgMDDn"
      },
      "execution_count": null,
      "outputs": []
    },
    {
      "cell_type": "markdown",
      "source": [
        "Google Colab에서 할당된 GPU를 확인한다.\n",
        "<br/>고용량 메모리 VM에 액세스한다"
      ],
      "metadata": {
        "id": "AWApxiI9MkMg"
      }
    },
    {
      "cell_type": "markdown",
      "source": [
        "#데이터 정보"
      ],
      "metadata": {
        "id": "x_c43FZvMkPy"
      }
    },
    {
      "cell_type": "markdown",
      "source": [
        "[Chatbot data for Korean v1.0](https://github.com/songys/Chatbot_data)"
      ],
      "metadata": {
        "id": "GeY9T2AZMnyh"
      }
    },
    {
      "cell_type": "markdown",
      "source": [
        "다음 카페 [사랑보다 아름다운 실연](http://cafe116.daum.net/_c21_/home?grpid=1bld)에서 자주 나오는 이야기들을 참고하여 제작한 데이터셋이다.\n",
        "<br/>챗봇 트레이닝용 문답 페어가 11,876개이다.\n",
        "<br/>일상다반사 0, 이별(부정) 1, 사랑(긍정) 2로 레이블링했다.\n",
        "<br/>읽어 온 데이터의 질문과 답변을 각각 questions, answers 변수에 나눠서 저장한다."
      ],
      "metadata": {
        "id": "8HJVVyC3J9bp"
      }
    },
    {
      "cell_type": "code",
      "source": [
        "chatbot_data = pd.read_table('/content/drive/MyDrive/lms/transformer_chatbot/ChatbotData.csv')\n",
        "chatbot_data.head()"
      ],
      "metadata": {
        "colab": {
          "base_uri": "https://localhost:8080/",
          "height": 206
        },
        "id": "vedhYYcoK8IB",
        "outputId": "e735cab7-7c83-4085-c91f-0d24918cee46"
      },
      "execution_count": 147,
      "outputs": [
        {
          "output_type": "execute_result",
          "data": {
            "text/plain": [
              "                       Q,A,label\n",
              "0            12시 땡!,하루가 또 가네요.,0\n",
              "1        1지망 학교 떨어졌어,위로해 드립니다.,0\n",
              "2     3박4일 놀러가고 싶다,여행은 언제나 좋죠.,0\n",
              "3  3박4일 정도 놀러가고 싶다,여행은 언제나 좋죠.,0\n",
              "4           PPL 심하네,눈살이 찌푸려지죠.,0"
            ],
            "text/html": [
              "\n",
              "  <div id=\"df-e0fa753d-e43e-4ced-b4f6-fb550d23c63f\">\n",
              "    <div class=\"colab-df-container\">\n",
              "      <div>\n",
              "<style scoped>\n",
              "    .dataframe tbody tr th:only-of-type {\n",
              "        vertical-align: middle;\n",
              "    }\n",
              "\n",
              "    .dataframe tbody tr th {\n",
              "        vertical-align: top;\n",
              "    }\n",
              "\n",
              "    .dataframe thead th {\n",
              "        text-align: right;\n",
              "    }\n",
              "</style>\n",
              "<table border=\"1\" class=\"dataframe\">\n",
              "  <thead>\n",
              "    <tr style=\"text-align: right;\">\n",
              "      <th></th>\n",
              "      <th>Q,A,label</th>\n",
              "    </tr>\n",
              "  </thead>\n",
              "  <tbody>\n",
              "    <tr>\n",
              "      <th>0</th>\n",
              "      <td>12시 땡!,하루가 또 가네요.,0</td>\n",
              "    </tr>\n",
              "    <tr>\n",
              "      <th>1</th>\n",
              "      <td>1지망 학교 떨어졌어,위로해 드립니다.,0</td>\n",
              "    </tr>\n",
              "    <tr>\n",
              "      <th>2</th>\n",
              "      <td>3박4일 놀러가고 싶다,여행은 언제나 좋죠.,0</td>\n",
              "    </tr>\n",
              "    <tr>\n",
              "      <th>3</th>\n",
              "      <td>3박4일 정도 놀러가고 싶다,여행은 언제나 좋죠.,0</td>\n",
              "    </tr>\n",
              "    <tr>\n",
              "      <th>4</th>\n",
              "      <td>PPL 심하네,눈살이 찌푸려지죠.,0</td>\n",
              "    </tr>\n",
              "  </tbody>\n",
              "</table>\n",
              "</div>\n",
              "      <button class=\"colab-df-convert\" onclick=\"convertToInteractive('df-e0fa753d-e43e-4ced-b4f6-fb550d23c63f')\"\n",
              "              title=\"Convert this dataframe to an interactive table.\"\n",
              "              style=\"display:none;\">\n",
              "        \n",
              "  <svg xmlns=\"http://www.w3.org/2000/svg\" height=\"24px\"viewBox=\"0 0 24 24\"\n",
              "       width=\"24px\">\n",
              "    <path d=\"M0 0h24v24H0V0z\" fill=\"none\"/>\n",
              "    <path d=\"M18.56 5.44l.94 2.06.94-2.06 2.06-.94-2.06-.94-.94-2.06-.94 2.06-2.06.94zm-11 1L8.5 8.5l.94-2.06 2.06-.94-2.06-.94L8.5 2.5l-.94 2.06-2.06.94zm10 10l.94 2.06.94-2.06 2.06-.94-2.06-.94-.94-2.06-.94 2.06-2.06.94z\"/><path d=\"M17.41 7.96l-1.37-1.37c-.4-.4-.92-.59-1.43-.59-.52 0-1.04.2-1.43.59L10.3 9.45l-7.72 7.72c-.78.78-.78 2.05 0 2.83L4 21.41c.39.39.9.59 1.41.59.51 0 1.02-.2 1.41-.59l7.78-7.78 2.81-2.81c.8-.78.8-2.07 0-2.86zM5.41 20L4 18.59l7.72-7.72 1.47 1.35L5.41 20z\"/>\n",
              "  </svg>\n",
              "      </button>\n",
              "      \n",
              "  <style>\n",
              "    .colab-df-container {\n",
              "      display:flex;\n",
              "      flex-wrap:wrap;\n",
              "      gap: 12px;\n",
              "    }\n",
              "\n",
              "    .colab-df-convert {\n",
              "      background-color: #E8F0FE;\n",
              "      border: none;\n",
              "      border-radius: 50%;\n",
              "      cursor: pointer;\n",
              "      display: none;\n",
              "      fill: #1967D2;\n",
              "      height: 32px;\n",
              "      padding: 0 0 0 0;\n",
              "      width: 32px;\n",
              "    }\n",
              "\n",
              "    .colab-df-convert:hover {\n",
              "      background-color: #E2EBFA;\n",
              "      box-shadow: 0px 1px 2px rgba(60, 64, 67, 0.3), 0px 1px 3px 1px rgba(60, 64, 67, 0.15);\n",
              "      fill: #174EA6;\n",
              "    }\n",
              "\n",
              "    [theme=dark] .colab-df-convert {\n",
              "      background-color: #3B4455;\n",
              "      fill: #D2E3FC;\n",
              "    }\n",
              "\n",
              "    [theme=dark] .colab-df-convert:hover {\n",
              "      background-color: #434B5C;\n",
              "      box-shadow: 0px 1px 3px 1px rgba(0, 0, 0, 0.15);\n",
              "      filter: drop-shadow(0px 1px 2px rgba(0, 0, 0, 0.3));\n",
              "      fill: #FFFFFF;\n",
              "    }\n",
              "  </style>\n",
              "\n",
              "      <script>\n",
              "        const buttonEl =\n",
              "          document.querySelector('#df-e0fa753d-e43e-4ced-b4f6-fb550d23c63f button.colab-df-convert');\n",
              "        buttonEl.style.display =\n",
              "          google.colab.kernel.accessAllowed ? 'block' : 'none';\n",
              "\n",
              "        async function convertToInteractive(key) {\n",
              "          const element = document.querySelector('#df-e0fa753d-e43e-4ced-b4f6-fb550d23c63f');\n",
              "          const dataTable =\n",
              "            await google.colab.kernel.invokeFunction('convertToInteractive',\n",
              "                                                     [key], {});\n",
              "          if (!dataTable) return;\n",
              "\n",
              "          const docLinkHtml = 'Like what you see? Visit the ' +\n",
              "            '<a target=\"_blank\" href=https://colab.research.google.com/notebooks/data_table.ipynb>data table notebook</a>'\n",
              "            + ' to learn more about interactive tables.';\n",
              "          element.innerHTML = '';\n",
              "          dataTable['output_type'] = 'display_data';\n",
              "          await google.colab.output.renderOutput(dataTable, element);\n",
              "          const docLink = document.createElement('div');\n",
              "          docLink.innerHTML = docLinkHtml;\n",
              "          element.appendChild(docLink);\n",
              "        }\n",
              "      </script>\n",
              "    </div>\n",
              "  </div>\n",
              "  "
            ]
          },
          "metadata": {},
          "execution_count": 147
        }
      ]
    },
    {
      "cell_type": "code",
      "source": [
        "chatbot_qna = chatbot_data[\"Q,A,label\"].str.split(',')\n",
        "chatbot_qna = chatbot_qna.apply(lambda x: pd.Series(x))\n",
        "chatbot_qna = chatbot_qna.loc[:, [0, 1]]\n",
        "chatbot_qna.columns = ['question', 'answer']"
      ],
      "metadata": {
        "id": "M7lX3zpdMR0Z"
      },
      "execution_count": 148,
      "outputs": []
    },
    {
      "cell_type": "code",
      "source": [
        "chatbot_qna"
      ],
      "metadata": {
        "colab": {
          "base_uri": "https://localhost:8080/",
          "height": 424
        },
        "id": "IfIuyyj8NHYR",
        "outputId": "651c625f-81a0-4fa0-a290-6e5787839e68"
      },
      "execution_count": 149,
      "outputs": [
        {
          "output_type": "execute_result",
          "data": {
            "text/plain": [
              "                      question                    answer\n",
              "0                       12시 땡!                하루가 또 가네요.\n",
              "1                  1지망 학교 떨어졌어                 위로해 드립니다.\n",
              "2                 3박4일 놀러가고 싶다               여행은 언제나 좋죠.\n",
              "3              3박4일 정도 놀러가고 싶다               여행은 언제나 좋죠.\n",
              "4                      PPL 심하네                눈살이 찌푸려지죠.\n",
              "...                        ...                       ...\n",
              "11818           훔쳐보는 것도 눈치 보임.        티가 나니까 눈치가 보이는 거죠!\n",
              "11819           훔쳐보는 것도 눈치 보임.             훔쳐보는 거 티나나봐요.\n",
              "11820              흑기사 해주는 짝남.                    설렜겠어요.\n",
              "11821  힘든 연애 좋은 연애라는게 무슨 차이일까?  잘 헤어질 수 있는 사이 여부인 거 같아요.\n",
              "11822               힘들어서 결혼할까봐        도피성 결혼은 하지 않길 바라요.\n",
              "\n",
              "[11823 rows x 2 columns]"
            ],
            "text/html": [
              "\n",
              "  <div id=\"df-8f436baa-b7a3-475e-beb7-df7bdb21cb78\">\n",
              "    <div class=\"colab-df-container\">\n",
              "      <div>\n",
              "<style scoped>\n",
              "    .dataframe tbody tr th:only-of-type {\n",
              "        vertical-align: middle;\n",
              "    }\n",
              "\n",
              "    .dataframe tbody tr th {\n",
              "        vertical-align: top;\n",
              "    }\n",
              "\n",
              "    .dataframe thead th {\n",
              "        text-align: right;\n",
              "    }\n",
              "</style>\n",
              "<table border=\"1\" class=\"dataframe\">\n",
              "  <thead>\n",
              "    <tr style=\"text-align: right;\">\n",
              "      <th></th>\n",
              "      <th>question</th>\n",
              "      <th>answer</th>\n",
              "    </tr>\n",
              "  </thead>\n",
              "  <tbody>\n",
              "    <tr>\n",
              "      <th>0</th>\n",
              "      <td>12시 땡!</td>\n",
              "      <td>하루가 또 가네요.</td>\n",
              "    </tr>\n",
              "    <tr>\n",
              "      <th>1</th>\n",
              "      <td>1지망 학교 떨어졌어</td>\n",
              "      <td>위로해 드립니다.</td>\n",
              "    </tr>\n",
              "    <tr>\n",
              "      <th>2</th>\n",
              "      <td>3박4일 놀러가고 싶다</td>\n",
              "      <td>여행은 언제나 좋죠.</td>\n",
              "    </tr>\n",
              "    <tr>\n",
              "      <th>3</th>\n",
              "      <td>3박4일 정도 놀러가고 싶다</td>\n",
              "      <td>여행은 언제나 좋죠.</td>\n",
              "    </tr>\n",
              "    <tr>\n",
              "      <th>4</th>\n",
              "      <td>PPL 심하네</td>\n",
              "      <td>눈살이 찌푸려지죠.</td>\n",
              "    </tr>\n",
              "    <tr>\n",
              "      <th>...</th>\n",
              "      <td>...</td>\n",
              "      <td>...</td>\n",
              "    </tr>\n",
              "    <tr>\n",
              "      <th>11818</th>\n",
              "      <td>훔쳐보는 것도 눈치 보임.</td>\n",
              "      <td>티가 나니까 눈치가 보이는 거죠!</td>\n",
              "    </tr>\n",
              "    <tr>\n",
              "      <th>11819</th>\n",
              "      <td>훔쳐보는 것도 눈치 보임.</td>\n",
              "      <td>훔쳐보는 거 티나나봐요.</td>\n",
              "    </tr>\n",
              "    <tr>\n",
              "      <th>11820</th>\n",
              "      <td>흑기사 해주는 짝남.</td>\n",
              "      <td>설렜겠어요.</td>\n",
              "    </tr>\n",
              "    <tr>\n",
              "      <th>11821</th>\n",
              "      <td>힘든 연애 좋은 연애라는게 무슨 차이일까?</td>\n",
              "      <td>잘 헤어질 수 있는 사이 여부인 거 같아요.</td>\n",
              "    </tr>\n",
              "    <tr>\n",
              "      <th>11822</th>\n",
              "      <td>힘들어서 결혼할까봐</td>\n",
              "      <td>도피성 결혼은 하지 않길 바라요.</td>\n",
              "    </tr>\n",
              "  </tbody>\n",
              "</table>\n",
              "<p>11823 rows × 2 columns</p>\n",
              "</div>\n",
              "      <button class=\"colab-df-convert\" onclick=\"convertToInteractive('df-8f436baa-b7a3-475e-beb7-df7bdb21cb78')\"\n",
              "              title=\"Convert this dataframe to an interactive table.\"\n",
              "              style=\"display:none;\">\n",
              "        \n",
              "  <svg xmlns=\"http://www.w3.org/2000/svg\" height=\"24px\"viewBox=\"0 0 24 24\"\n",
              "       width=\"24px\">\n",
              "    <path d=\"M0 0h24v24H0V0z\" fill=\"none\"/>\n",
              "    <path d=\"M18.56 5.44l.94 2.06.94-2.06 2.06-.94-2.06-.94-.94-2.06-.94 2.06-2.06.94zm-11 1L8.5 8.5l.94-2.06 2.06-.94-2.06-.94L8.5 2.5l-.94 2.06-2.06.94zm10 10l.94 2.06.94-2.06 2.06-.94-2.06-.94-.94-2.06-.94 2.06-2.06.94z\"/><path d=\"M17.41 7.96l-1.37-1.37c-.4-.4-.92-.59-1.43-.59-.52 0-1.04.2-1.43.59L10.3 9.45l-7.72 7.72c-.78.78-.78 2.05 0 2.83L4 21.41c.39.39.9.59 1.41.59.51 0 1.02-.2 1.41-.59l7.78-7.78 2.81-2.81c.8-.78.8-2.07 0-2.86zM5.41 20L4 18.59l7.72-7.72 1.47 1.35L5.41 20z\"/>\n",
              "  </svg>\n",
              "      </button>\n",
              "      \n",
              "  <style>\n",
              "    .colab-df-container {\n",
              "      display:flex;\n",
              "      flex-wrap:wrap;\n",
              "      gap: 12px;\n",
              "    }\n",
              "\n",
              "    .colab-df-convert {\n",
              "      background-color: #E8F0FE;\n",
              "      border: none;\n",
              "      border-radius: 50%;\n",
              "      cursor: pointer;\n",
              "      display: none;\n",
              "      fill: #1967D2;\n",
              "      height: 32px;\n",
              "      padding: 0 0 0 0;\n",
              "      width: 32px;\n",
              "    }\n",
              "\n",
              "    .colab-df-convert:hover {\n",
              "      background-color: #E2EBFA;\n",
              "      box-shadow: 0px 1px 2px rgba(60, 64, 67, 0.3), 0px 1px 3px 1px rgba(60, 64, 67, 0.15);\n",
              "      fill: #174EA6;\n",
              "    }\n",
              "\n",
              "    [theme=dark] .colab-df-convert {\n",
              "      background-color: #3B4455;\n",
              "      fill: #D2E3FC;\n",
              "    }\n",
              "\n",
              "    [theme=dark] .colab-df-convert:hover {\n",
              "      background-color: #434B5C;\n",
              "      box-shadow: 0px 1px 3px 1px rgba(0, 0, 0, 0.15);\n",
              "      filter: drop-shadow(0px 1px 2px rgba(0, 0, 0, 0.3));\n",
              "      fill: #FFFFFF;\n",
              "    }\n",
              "  </style>\n",
              "\n",
              "      <script>\n",
              "        const buttonEl =\n",
              "          document.querySelector('#df-8f436baa-b7a3-475e-beb7-df7bdb21cb78 button.colab-df-convert');\n",
              "        buttonEl.style.display =\n",
              "          google.colab.kernel.accessAllowed ? 'block' : 'none';\n",
              "\n",
              "        async function convertToInteractive(key) {\n",
              "          const element = document.querySelector('#df-8f436baa-b7a3-475e-beb7-df7bdb21cb78');\n",
              "          const dataTable =\n",
              "            await google.colab.kernel.invokeFunction('convertToInteractive',\n",
              "                                                     [key], {});\n",
              "          if (!dataTable) return;\n",
              "\n",
              "          const docLinkHtml = 'Like what you see? Visit the ' +\n",
              "            '<a target=\"_blank\" href=https://colab.research.google.com/notebooks/data_table.ipynb>data table notebook</a>'\n",
              "            + ' to learn more about interactive tables.';\n",
              "          element.innerHTML = '';\n",
              "          dataTable['output_type'] = 'display_data';\n",
              "          await google.colab.output.renderOutput(dataTable, element);\n",
              "          const docLink = document.createElement('div');\n",
              "          docLink.innerHTML = docLinkHtml;\n",
              "          element.appendChild(docLink);\n",
              "        }\n",
              "      </script>\n",
              "    </div>\n",
              "  </div>\n",
              "  "
            ]
          },
          "metadata": {},
          "execution_count": 149
        }
      ]
    },
    {
      "cell_type": "markdown",
      "source": [
        "#데이터 탐색"
      ],
      "metadata": {
        "id": "1AmIO9pP7RkK"
      }
    },
    {
      "cell_type": "code",
      "source": [
        "question = []\n",
        "for i in range(len(chatbot_qna['question'])):\n",
        "  question.append(chatbot_qna['question'][i])\n",
        "\n",
        "answer = []\n",
        "for i in range(len(chatbot_qna['answer'])):\n",
        "  answer.append(chatbot_qna['answer'][i])  \n",
        "\n",
        "num_question = np.array([len(i) for i in question])\n",
        "num_answer = np.array([len(i) for i in answer])\n",
        "\n",
        "print('Question Min Length : {}'.format(np.min(num_question)))\n",
        "print('Question Max Length : {}'.format(np.max(num_question)))\n",
        "print('Question Mean Length : {}'.format(np.mean(num_question)))\n",
        "print('Answer Min Length : {}'.format(np.min(num_answer)))\n",
        "print('Answer Max Length : {}'.format(np.max(num_answer)))\n",
        "print('Answer Mean Length : {}'.format(np.mean(num_answer)))\n",
        "print()\n",
        "plt.subplot(1,2,1)\n",
        "plt.boxplot(num_question)\n",
        "plt.title('Question')\n",
        "plt.subplot(1,2,2)\n",
        "plt.boxplot(num_answer)\n",
        "plt.title('Answer')\n",
        "plt.tight_layout()\n",
        "plt.show()\n",
        "print()\n",
        "plt.title('Question')\n",
        "plt.hist(num_question, bins = 40)\n",
        "plt.xlabel('length of samples')\n",
        "plt.ylabel('number of samples')\n",
        "plt.show()\n",
        "print()\n",
        "plt.title('Answer')\n",
        "plt.hist(num_answer, bins = 40)\n",
        "plt.xlabel('length of samples')\n",
        "plt.ylabel('number of samples')\n",
        "plt.show()"
      ],
      "metadata": {
        "colab": {
          "base_uri": "https://localhost:8080/",
          "height": 1000
        },
        "id": "DU-ymZXQ81S9",
        "outputId": "cbc272a4-50f4-4a4b-cd4b-febf3a828622"
      },
      "execution_count": 138,
      "outputs": [
        {
          "output_type": "stream",
          "name": "stdout",
          "text": [
            "Question Min Length : 1\n",
            "Question Max Length : 56\n",
            "Question Mean Length : 12.847162310750232\n",
            "Answer Min Length : 0\n",
            "Answer Max Length : 69\n",
            "Answer Mean Length : 14.927091262792862\n",
            "\n"
          ]
        },
        {
          "output_type": "display_data",
          "data": {
            "text/plain": [
              "<Figure size 432x288 with 2 Axes>"
            ],
            "image/png": "[encoded data removed]"
          },
          "metadata": {
            "image/png": {
              "width": 424,
              "height": 279
            },
            "needs_background": "light"
          }
        },
        {
          "output_type": "stream",
          "name": "stdout",
          "text": [
            "\n"
          ]
        },
        {
          "output_type": "display_data",
          "data": {
            "text/plain": [
              "<Figure size 432x288 with 1 Axes>"
            ],
            "image/png": "[encoded data removed]"
          },
          "metadata": {
            "image/png": {
              "width": 395,
              "height": 277
            },
            "needs_background": "light"
          }
        },
        {
          "output_type": "stream",
          "name": "stdout",
          "text": [
            "\n"
          ]
        },
        {
          "output_type": "display_data",
          "data": {
            "text/plain": [
              "<Figure size 432x288 with 1 Axes>"
            ],
            "image/png": "[encoded data removed]"
          },
          "metadata": {
            "image/png": {
              "width": 395,
              "height": 277
            },
            "needs_background": "light"
          }
        }
      ]
    },
    {
      "cell_type": "code",
      "source": [
        "text_min_len = 2\n",
        "text_max_len = 40\n",
        "num_part_question = np.array([len(i) for i in question if text_min_len <= len(i) <= text_max_len])\n",
        "num_part_answer = np.array([len(i) for i in question if text_min_len <= len(i) <= text_max_len])\n",
        "\n",
        "print('Text Min Length : ', text_min_len)\n",
        "print('Text Max Length : ', text_max_len)\n",
        "print('{:.2f}% of all sentences are within the setting.'.format(100 * len(num_part_answer + num_part_question)/ len(num_answer + num_question)))"
      ],
      "metadata": {
        "colab": {
          "base_uri": "https://localhost:8080/"
        },
        "id": "BsJgo6Zr78ai",
        "outputId": "dc42fc32-e520-47a1-953f-921017c8c14c"
      },
      "execution_count": 139,
      "outputs": [
        {
          "output_type": "stream",
          "name": "stdout",
          "text": [
            "Text Min Length :  2\n",
            "Text Max Length :  40\n",
            "99.77% of all sentences are within the setting.\n"
          ]
        }
      ]
    },
    {
      "cell_type": "markdown",
      "source": [
        "적절한 최대 문장 길이를 40으로 지정한다."
      ],
      "metadata": {
        "id": "XcnqITb7E_59"
      }
    },
    {
      "cell_type": "markdown",
      "source": [
        "#데이터 전처리"
      ],
      "metadata": {
        "id": "HaGfUkyCMyhh"
      }
    },
    {
      "cell_type": "markdown",
      "source": [
        "##문장 길이 범위"
      ],
      "metadata": {
        "id": "ODm06_tRtfhx"
      }
    },
    {
      "cell_type": "code",
      "source": [
        "text_min_len = 2\n",
        "text_max_len = 40\n",
        "\n",
        "chatbot_qna['index'] = chatbot_qna.index\n",
        "for i in range(len(chatbot_qna)):\n",
        "  if len(chatbot_qna['question'][i]) <= text_min_len or len(chatbot_qna['question'][i]) >= text_max_len \\\n",
        "  or len(chatbot_qna['answer'][i]) <= text_min_len or len(chatbot_qna['answer'][i]) >= text_max_len:\n",
        "  \n",
        "    chatbot_qna = chatbot_qna[chatbot_qna['index'] != i]\n",
        "    \n",
        "del chatbot_qna['index']"
      ],
      "metadata": {
        "id": "KGysxdNNq2VJ"
      },
      "execution_count": 150,
      "outputs": []
    },
    {
      "cell_type": "markdown",
      "source": [
        "##중복 제거"
      ],
      "metadata": {
        "id": "BoCtvSrouBRI"
      }
    },
    {
      "cell_type": "code",
      "source": [
        "chatbot_qna = chatbot_qna.drop_duplicates(['question'])\n",
        "chatbot_qna = chatbot_qna.drop_duplicates(['answer'])\n",
        "chatbot_qna = chatbot_qna.reset_index()\n",
        "\n",
        "del chatbot_qna['index']"
      ],
      "metadata": {
        "id": "KNOqZrYjsKSY"
      },
      "execution_count": 152,
      "outputs": []
    },
    {
      "cell_type": "markdown",
      "source": [
        "##리스트 변환"
      ],
      "metadata": {
        "id": "f57B-VMMvY8h"
      }
    },
    {
      "cell_type": "code",
      "source": [
        "question_raw = []\n",
        "for i in range(len(chatbot_qna['question'])):\n",
        "  question_raw.append(chatbot_qna['question'][i])\n",
        "\n",
        "print(\"Data Size :\", len(question_raw))\n",
        "print()\n",
        "print(\"Example\")\n",
        "for question_sen in question_raw[:250][::50]: print(\"\", question_sen)"
      ],
      "metadata": {
        "colab": {
          "base_uri": "https://localhost:8080/"
        },
        "id": "o0wcKKIqRVfx",
        "outputId": "483c00c8-09fc-4663-99e4-afbbf97c3480"
      },
      "execution_count": 186,
      "outputs": [
        {
          "output_type": "stream",
          "name": "stdout",
          "text": [
            "Data Size : 7607\n",
            "\n",
            "Example\n",
            " 12시 땡!\n",
            " 같이 수영장 가기로 했어\n",
            " 결정적인 물증이 없어\n",
            " 공부 왜 해야 돼?\n",
            " 그 사람이 나 좋아해줬으면 좋겠다\n"
          ]
        }
      ]
    },
    {
      "cell_type": "code",
      "source": [
        "answer_raw = []\n",
        "for i in range(len(chatbot_qna['answer'])):\n",
        "  answer_raw.append(chatbot_qna['answer'][i])\n",
        "\n",
        "print(\"Data Size :\", len(answer_raw))\n",
        "print()\n",
        "print(\"Example\")\n",
        "for answer_sen in answer_raw[:250][::50]: print(\"\", answer_sen)"
      ],
      "metadata": {
        "colab": {
          "base_uri": "https://localhost:8080/"
        },
        "id": "-qWeBrpEREgr",
        "outputId": "98495d72-7eb1-4a62-fa13-1e938c6df2bb"
      },
      "execution_count": 187,
      "outputs": [
        {
          "output_type": "stream",
          "name": "stdout",
          "text": [
            "Data Size : 7607\n",
            "\n",
            "Example\n",
            " 하루가 또 가네요.\n",
            " 즐거운 시간 보내고 오세요!\n",
            " 안타깝네요. 증거를 지금이라도 모아봐요.\n",
            " 공부하면 더 많은 선택을 할 수 있죠.\n",
            " 저도 간절히 기도 할게요.\n"
          ]
        }
      ]
    },
    {
      "cell_type": "markdown",
      "source": [
        "##정제"
      ],
      "metadata": {
        "id": "PqX2ZWq3wIoh"
      }
    },
    {
      "cell_type": "code",
      "source": [
        "def preprocess_sentence(sentence_list):\n",
        "    \n",
        "    corpus = []\n",
        "    for sentence in sentence_list:\n",
        "        sentence = sentence.lower()\n",
        "        sentence = re.sub(r\"([?.!,])\", r\" \\1 \", sentence)\n",
        "        sentence = re.sub(r'[\" \"]+', \" \", sentence)\n",
        "        sentence = re.sub(r\"[^0-9ㄱ-ㅎㅏ-ㅣ가-힣a-zA-Z?.!,]+\", \" \", sentence)\n",
        "        sentence = sentence.strip()\n",
        "        corpus.append(sentence)\n",
        "        \n",
        "    return corpus"
      ],
      "metadata": {
        "id": "RC0HcQTESoBT"
      },
      "execution_count": 170,
      "outputs": []
    },
    {
      "cell_type": "code",
      "source": [
        "preprocess_sentence('+& 카드 망가졌어]')"
      ],
      "metadata": {
        "colab": {
          "base_uri": "https://localhost:8080/"
        },
        "id": "th_bP79N7Lxl",
        "outputId": "5cb7d998-f693-4083-e205-3accac662184"
      },
      "execution_count": 225,
      "outputs": [
        {
          "output_type": "execute_result",
          "data": {
            "text/plain": [
              "['', '', '', '카', '드', '', '망', '가', '졌', '어', '']"
            ]
          },
          "metadata": {},
          "execution_count": 225
        }
      ]
    },
    {
      "cell_type": "markdown",
      "source": [
        "영문자의 경우 소문자로 변환한다.\n",
        "<br/>영문자, 한글, 숫자, 주요 문장부호( ? . ! , )를 남기고 나머지 문자를 제외한다."
      ],
      "metadata": {
        "id": "bmrQFD5aPDJB"
      }
    },
    {
      "cell_type": "markdown",
      "source": [
        "##토큰화"
      ],
      "metadata": {
        "id": "RSpXQzd7fJgQ"
      }
    },
    {
      "cell_type": "code",
      "source": [
        "def mecab_tokenizer(sentence_list):\n",
        "  \n",
        "    corpus = []\n",
        "    mecab = Mecab()\n",
        "    for sentence in sentence_list:\n",
        "      token = mecab.morphs(sentence)\n",
        "      corpus.append(token)\n",
        "\n",
        "    return corpus"
      ],
      "metadata": {
        "id": "7t42uSx7MOee"
      },
      "execution_count": 167,
      "outputs": []
    },
    {
      "cell_type": "markdown",
      "source": [
        "MeCab을 활용하여 토큰화한다."
      ],
      "metadata": {
        "id": "IM8ag8xqQl5Z"
      }
    },
    {
      "cell_type": "code",
      "source": [
        "def build_corpus(question_raw, answer_raw):\n",
        "  \n",
        "    question = preprocess_sentence(question_raw)\n",
        "    answer = preprocess_sentence(answer_raw)\n",
        "    que_corpus = mecab_tokenizer(question)\n",
        "    ans_corpus = mecab_tokenizer(answer)\n",
        "\n",
        "    return que_corpus, ans_corpus, question, answer"
      ],
      "metadata": {
        "id": "v8xCwEFdTpx7"
      },
      "execution_count": 171,
      "outputs": []
    },
    {
      "cell_type": "code",
      "source": [
        "que_corpus, ans_corpus, question, answer = build_corpus(question_raw, answer_raw)"
      ],
      "metadata": {
        "id": "Sa7gwUGDZxNm"
      },
      "execution_count": 172,
      "outputs": []
    },
    {
      "cell_type": "code",
      "source": [
        "print(\"Question Sentence\")\n",
        "print(question[0], \"\\n\")\n",
        "print(\"Question Morpheme Token\")\n",
        "print(que_corpus[0], \"\\n\\n\")\n",
        "print(\"Answer Sentence\")\n",
        "print(answer[0], \"\\n\")\n",
        "print(\"Answer Morpheme Token\")\n",
        "print(ans_corpus[0], \"\\n\")"
      ],
      "metadata": {
        "colab": {
          "base_uri": "https://localhost:8080/"
        },
        "id": "hVBmMAIfiuZw",
        "outputId": "91424676-59bf-4d64-aa4f-e87f03a04e28"
      },
      "execution_count": 173,
      "outputs": [
        {
          "output_type": "stream",
          "name": "stdout",
          "text": [
            "Question Sentence\n",
            "12시 땡 ! \n",
            "\n",
            "Question Morpheme Token\n",
            "['12', '시', '땡', '!'] \n",
            "\n",
            "\n",
            "Answer Sentence\n",
            "하루가 또 가네요 . \n",
            "\n",
            "Answer Morpheme Token\n",
            "['하루', '가', '또', '가', '네요', '.'] \n",
            "\n"
          ]
        }
      ]
    },
    {
      "cell_type": "code",
      "source": [
        "print(\"Data Size : ({}, {})\".format(len(que_corpus), len(ans_corpus)))"
      ],
      "metadata": {
        "colab": {
          "base_uri": "https://localhost:8080/"
        },
        "id": "T3WqilVMeEXa",
        "outputId": "97a85c0c-8b4a-41ce-a7af-d7a96079460e"
      },
      "execution_count": 174,
      "outputs": [
        {
          "output_type": "stream",
          "name": "stdout",
          "text": [
            "Data Size : (7607, 7607)\n"
          ]
        }
      ]
    },
    {
      "cell_type": "markdown",
      "source": [
        "#Data Augmentation"
      ],
      "metadata": {
        "id": "hXpa5E0OPqGh"
      }
    },
    {
      "cell_type": "markdown",
      "source": [
        "##Word2Vec"
      ],
      "metadata": {
        "id": "vqBoNp916jxD"
      }
    },
    {
      "cell_type": "markdown",
      "source": [
        "[Pre-trained word vectors of 30+ languages](https://github.com/Kyubyong/wordvectors)"
      ],
      "metadata": {
        "id": "8Pibb-uoPwoZ"
      }
    },
    {
      "cell_type": "markdown",
      "source": [
        "한국어로 사전 훈련된 단어 수준의 Word2Vec Embedding 모델이다."
      ],
      "metadata": {
        "id": "qjPT5nmrR-T_"
      }
    },
    {
      "cell_type": "code",
      "source": [
        "word2vec_path = '/content/drive/MyDrive/lms/transformer_chatbot/embedding_model/word2vec.bin'\n",
        "word2vec_model = Word2Vec.load(word2vec_path)"
      ],
      "metadata": {
        "id": "pgsoqcjvM2Dw"
      },
      "execution_count": 175,
      "outputs": []
    },
    {
      "cell_type": "code",
      "source": [
        "word2vec_model.wv.most_similar(\"길\")"
      ],
      "metadata": {
        "colab": {
          "base_uri": "https://localhost:8080/"
        },
        "id": "qCQk7kYL6cuV",
        "outputId": "3ee446c6-b46f-4aad-fb2d-7b9b20c013c2"
      },
      "execution_count": 176,
      "outputs": [
        {
          "output_type": "execute_result",
          "data": {
            "text/plain": [
              "[('구불구불', 0.4876348078250885),\n",
              " ('가늘', 0.4853244125843048),\n",
              " ('길다랗', 0.4841133952140808),\n",
              " ('둥글', 0.4518604874610901),\n",
              " ('짧', 0.4475528597831726),\n",
              " ('기다랗', 0.4351239502429962),\n",
              " ('푸르', 0.4280202388763428),\n",
              " ('산길', 0.4273521304130554),\n",
              " ('길쭉', 0.42183613777160645),\n",
              " ('길이', 0.42086976766586304)]"
            ]
          },
          "metadata": {},
          "execution_count": 176
        }
      ]
    },
    {
      "cell_type": "code",
      "source": [
        "for i in range(0, 250, 50):\n",
        "  if i > 0:\n",
        "    print()\n",
        "  print(\"from : \", \" \".join(que_corpus[i]))\n",
        "  print(\"to : \", end='')\n",
        "  for j in range(len(que_corpus[i])):\n",
        "    try:\n",
        "      result = word2vec_model.wv.most_similar(que_corpus[i][j])[0][0]\n",
        "      print(result, end=' ')\n",
        "    except KeyError: \n",
        "      print(que_corpus[i][j], end=' ')\n",
        "  print()"
      ],
      "metadata": {
        "colab": {
          "base_uri": "https://localhost:8080/"
        },
        "id": "tLSUp0mhnim9",
        "outputId": "3d333a3a-5a80-4848-e3ae-32dda4108bd4"
      },
      "execution_count": 194,
      "outputs": [
        {
          "output_type": "stream",
          "name": "stdout",
          "text": [
            "from :  12 시 땡 !\n",
            "to : 12 시가 끗 캐치 \n",
            "\n",
            "from :  같이 수영장 가 기 로 했 어\n",
            "to : 같 축구장 놀드 적기 로서 했 어서 \n",
            "\n",
            "from :  결정 적 인 물증 이 없 어\n",
            "to : 의결 의식적 인은 물증 그러 없었 어서 \n",
            "\n",
            "from :  공부 왜 해야 돼 ?\n",
            "to : 가르치 과연 해야 돼 ... \n",
            "\n",
            "from :  그 사람 이 나 좋 아 해 줬 으면 좋 겠 다\n",
            "to : 그녀 젊은이 그러 나의 괜찮 아서 해의 줬 다면 괜찮 싶 으며 \n"
          ]
        }
      ]
    },
    {
      "cell_type": "code",
      "source": [
        "def display_pca_scatterplot(model, title, words=None, sample=0):\n",
        "    if words == None:\n",
        "        if sample > 0:\n",
        "            words = np.random.choice(list(model.vocab.keys()), sample)\n",
        "        else:\n",
        "            words = [ word for word in model.vocab ]\n",
        "        \n",
        "    word_vectors = np.array([model[w] for w in words])\n",
        "\n",
        "    twodim = PCA().fit_transform(word_vectors)[:,:2]\n",
        "    \n",
        "    plt.figure(figsize=(8,8))\n",
        "    plt.title(title)\n",
        "    plt.scatter(twodim[:,0], twodim[:,1], edgecolors='k', c='r')\n",
        "    for word, (x,y) in zip(words, twodim):\n",
        "        plt.text(x+0.05, y+0.05, word)"
      ],
      "metadata": {
        "id": "QtNyobSY2yUH"
      },
      "execution_count": null,
      "outputs": []
    },
    {
      "cell_type": "code",
      "source": [
        "display_pca_scatterplot(word2vec_model, \"Word2Vec\",\n",
        "                        ['민첩', '야망', '용감', '공손', \n",
        "                         '정중', '근면', '성실', '단호', \n",
        "                         '관대', '상냥', '다정', '진실', \n",
        "                         '사교', '고집', '사려', '검소', \n",
        "                         '고결', '현명', '슬기', '재치'])"
      ],
      "metadata": {
        "colab": {
          "base_uri": "https://localhost:8080/",
          "height": 499
        },
        "id": "6eD2XXIsGVTM",
        "outputId": "ecd226c1-b002-4711-b67e-9bca2ffc0810"
      },
      "execution_count": null,
      "outputs": [
        {
          "output_type": "display_data",
          "data": {
            "text/plain": [
              "<Figure size 576x576 with 1 Axes>"
            ],
            "image/png": "[encoded data removed]"
          },
          "metadata": {
            "image/png": {
              "width": 479,
              "height": 482
            },
            "needs_background": "light"
          }
        }
      ]
    },
    {
      "cell_type": "markdown",
      "source": [
        "##Glove"
      ],
      "metadata": {
        "id": "vdW_qcV1NgkY"
      }
    },
    {
      "cell_type": "markdown",
      "source": [
        "[Pre-trained word embedding vector](https://ratsgo.github.io/embedding/downloaddata.html)"
      ],
      "metadata": {
        "id": "mewSddJCNx4H"
      }
    },
    {
      "cell_type": "markdown",
      "source": [
        "학습이 완료된 단어 수준 임베딩 모델이다.\n",
        "<br/>FastText-Jamo를 제외한 모든 임베딩은 한국어 위키백과, KorQuAD, 네이버 영화 말뭉치를 은전한닢(mecab)으로\n",
        "<br/>형태소 분석한 말뭉치로 학습됐다."
      ],
      "metadata": {
        "id": "uuufStaceL7K"
      }
    },
    {
      "cell_type": "code",
      "source": [
        "glove2word2vec(glove_input_file='/content/drive/MyDrive/lms/transformer_chatbot/embedding_model/glove.txt',\n",
        "               word2vec_output_file='/content/drive/MyDrive/lms/transformer_chatbot/embedding_model/gensim_glove_vectors.txt')"
      ],
      "metadata": {
        "id": "EVrICSiNXEz5"
      },
      "execution_count": null,
      "outputs": []
    },
    {
      "cell_type": "code",
      "source": [
        "glove_path = '/content/drive/MyDrive/lms/transformer_chatbot/embedding_model/gensim_glove_vectors.txt'\n",
        "glove_model = KeyedVectors.load_word2vec_format(glove_path, binary=False)"
      ],
      "metadata": {
        "id": "ksjrikKoUbxw"
      },
      "execution_count": 180,
      "outputs": []
    },
    {
      "cell_type": "code",
      "source": [
        "glove_model.most_similar(\"길\")"
      ],
      "metadata": {
        "colab": {
          "base_uri": "https://localhost:8080/"
        },
        "id": "vpYxJj2uZLBW",
        "outputId": "2b969db9-2d91-4471-ef25-f8f2fa902aa8"
      },
      "execution_count": 181,
      "outputs": [
        {
          "output_type": "execute_result",
          "data": {
            "text/plain": [
              "[('삼', 0.7340559959411621),\n",
              " ('교차로', 0.7128734588623047),\n",
              " ('거리', 0.7117969989776611),\n",
              " ('고개', 0.6495471596717834),\n",
              " ('교', 0.6426589488983154),\n",
              " ('로', 0.6424239277839661),\n",
              " ('마을', 0.6404488682746887),\n",
              " ('서', 0.6330164670944214),\n",
              " ('앞', 0.6325525641441345),\n",
              " ('입구', 0.6304036378860474)]"
            ]
          },
          "metadata": {},
          "execution_count": 181
        }
      ]
    },
    {
      "cell_type": "code",
      "source": [
        "for i in range(0, 250, 50):\n",
        "  if i > 0:\n",
        "    print()\n",
        "  print(\"from : \", \" \".join(que_corpus[i]))\n",
        "  print(\"to : \", end='')\n",
        "  for j in range(len(que_corpus[i])):\n",
        "    try:\n",
        "      result = glove_model.most_similar(que_corpus[i][j])[0][0]\n",
        "      print(result, end=' ')\n",
        "    except KeyError: \n",
        "      print(que_corpus[i][j], end=' ')\n",
        "  print()"
      ],
      "metadata": {
        "colab": {
          "base_uri": "https://localhost:8080/"
        },
        "id": "ay76y8CrbFkS",
        "outputId": "9991c166-10e6-4123-da4d-9af64eeaee83"
      },
      "execution_count": 195,
      "outputs": [
        {
          "output_type": "stream",
          "name": "stdout",
          "text": [
            "from :  12 시 땡 !\n",
            "to : 12 현 땡땡 세요 \n",
            "\n",
            "from :  같이 수영장 가 기 로 했 어\n",
            "to : 같 실내 는 게 되 였 되 \n",
            "\n",
            "from :  결정 적 인 물증 이 없 어\n",
            "to : 최종 이러 의 못한다는 은 않 되 \n",
            "\n",
            "from :  공부 왜 해야 돼 ?\n",
            "to : 배웠 뭐 할 됐 왜 \n",
            "\n",
            "from :  그 사람 이 나 좋 아 해 줬 으면 좋 겠 다\n",
            "to : 자신 살 은 같 잘 았 하 가져다 어야 잘 싶 었 \n"
          ]
        }
      ]
    },
    {
      "cell_type": "code",
      "source": [
        "display_pca_scatterplot(glove_model, \"Glove\",\n",
        "                        ['민첩', '야망', '용감', '공손', \n",
        "                         '정중', '근면', '성실', '단호', \n",
        "                         '관대', '상냥', '다정', '진실', \n",
        "                         '사교', '고집', '사려', '검소', \n",
        "                         '고결', '현명', '슬기', '재치'])"
      ],
      "metadata": {
        "colab": {
          "base_uri": "https://localhost:8080/",
          "height": 499
        },
        "id": "fQp0DqyV2zKo",
        "outputId": "f88f009f-8795-43f7-c235-01b70247493d"
      },
      "execution_count": null,
      "outputs": [
        {
          "output_type": "display_data",
          "data": {
            "text/plain": [
              "<Figure size 576x576 with 1 Axes>"
            ],
            "image/png": "[encoded data removed]"
          },
          "metadata": {
            "image/png": {
              "width": 477,
              "height": 482
            },
            "needs_background": "light"
          }
        }
      ]
    },
    {
      "cell_type": "markdown",
      "source": [
        "##FastText"
      ],
      "metadata": {
        "id": "QSeys_GE6pbN"
      }
    },
    {
      "cell_type": "markdown",
      "source": [
        "[Word vectors for 157 languages](https://fasttext.cc/docs/en/crawl-vectors.html)"
      ],
      "metadata": {
        "id": "RPzvxI6D8BL9"
      }
    },
    {
      "cell_type": "markdown",
      "source": [
        "FastText 공식 사이트의 사전학습 모델 파일 용량이 4.2GB에 달하여 작업 시간이 오래 걸린다.\n",
        "<br/>따라서 용량이 가벼운 모델 파일을 대신 사용한다."
      ],
      "metadata": {
        "id": "HpIF8UcXGi7m"
      }
    },
    {
      "cell_type": "markdown",
      "source": [
        "[Pre-trained word embedding vector](https://ratsgo.github.io/embedding/downloaddata.html)"
      ],
      "metadata": {
        "id": "iPyPJ4AOigUj"
      }
    },
    {
      "cell_type": "markdown",
      "source": [
        "학습이 완료된 단어 수준 임베딩 모델이다.\n",
        "<br/>FastText-Jamo를 제외한 모든 임베딩은 한국어 위키백과, KorQuAD, 네이버 영화, 은전한닢(mecab) 코퍼스로 학습됐다."
      ],
      "metadata": {
        "id": "xF1p3j5-igW-"
      }
    },
    {
      "cell_type": "code",
      "source": [
        "fastext_path = '/content/drive/MyDrive/lms/transformer_chatbot/embedding_model/fasttext.bin'\n",
        "fastext_model = fasttext.load_model(fastext_path)"
      ],
      "metadata": {
        "id": "nQiF-zZbjazT"
      },
      "execution_count": null,
      "outputs": []
    },
    {
      "cell_type": "code",
      "source": [
        "fastext_model.get_nearest_neighbors('길')"
      ],
      "metadata": {
        "colab": {
          "base_uri": "https://localhost:8080/"
        },
        "id": "xqQMJ7yr9RmO",
        "outputId": "b39fd732-583b-4e36-eea7-707158eeb77c"
      },
      "execution_count": 189,
      "outputs": [
        {
          "output_type": "execute_result",
          "data": {
            "text/plain": [
              "[(0.6960369348526001, '안길'),\n",
              " (0.680328905582428, '다평'),\n",
              " (0.674354076385498, '허궁다리'),\n",
              " (0.6734952926635742, '한다리'),\n",
              " (0.6731016039848328, '쪽다리'),\n",
              " (0.6721546649932861, '잠로'),\n",
              " (0.6712022423744202, '거길'),\n",
              " (0.6651454567909241, '산길'),\n",
              " (0.6600451469421387, '들길'),\n",
              " (0.6581897735595703, '무네미로')]"
            ]
          },
          "metadata": {},
          "execution_count": 189
        }
      ]
    },
    {
      "cell_type": "code",
      "source": [
        "for i in range(0, 250, 50):\n",
        "  if i > 0:\n",
        "    print()\n",
        "  print(\"from : \", \" \".join(que_corpus[i]))\n",
        "  print(\"to : \", end='')\n",
        "  for j in range(len(que_corpus[i])):\n",
        "    try:\n",
        "      result = fastext_model.get_nearest_neighbors(que_corpus[i][j])[0][1]\n",
        "      print(result, end=' ')\n",
        "    except KeyError: \n",
        "      print(que_corpus[i][j], end=' ')\n",
        "  print()"
      ],
      "metadata": {
        "colab": {
          "base_uri": "https://localhost:8080/"
        },
        "id": "B1GiZWk16rOm",
        "outputId": "a2d6f224-8e5d-4ee2-c585-9867ea4e27d4"
      },
      "execution_count": 196,
      "outputs": [
        {
          "output_type": "stream",
          "name": "stdout",
          "text": [
            "from :  12 시 땡 !\n",
            "to : 성리대전 도요아케 삼돌이 ~!》 \n",
            "\n",
            "from :  같이 수영장 가 기 로 했 어\n",
            "to : 같 스케이트장 는 위해서 는 였 져 \n",
            "\n",
            "from :  결정 적 인 물증 이 없 어\n",
            "to : 최종 인 의 증거 은 밖에 져 \n",
            "\n",
            "from :  공부 왜 해야 돼 ?\n",
            "to : 가르쳤 저럴까 반드시 됐 는가 \n",
            "\n",
            "from :  그 사람 이 나 좋 아 해 줬 으면 좋 겠 다\n",
            "to : 자신 살 은 야 나쁘 살 해서 줘서 어도 나쁘 라며 이 \n"
          ]
        }
      ]
    },
    {
      "cell_type": "code",
      "source": [
        "display_pca_scatterplot(fastext_model, \"FastText\",\n",
        "                        ['민첩', '야망', '용감', '공손', \n",
        "                         '정중', '근면', '성실', '단호', \n",
        "                         '관대', '상냥', '다정', '진실', \n",
        "                         '사교', '고집', '사려', '검소', \n",
        "                         '고결', '현명', '슬기', '재치'])"
      ],
      "metadata": {
        "colab": {
          "base_uri": "https://localhost:8080/",
          "height": 499
        },
        "id": "Br88fFlEKk8S",
        "outputId": "21e2d31b-b54b-45ad-bad7-c39adc9efd69"
      },
      "execution_count": null,
      "outputs": [
        {
          "output_type": "display_data",
          "data": {
            "text/plain": [
              "<Figure size 576x576 with 1 Axes>"
            ],
            "image/png": "[encoded data removed]"
          },
          "metadata": {
            "image/png": {
              "width": 491,
              "height": 482
            },
            "needs_background": "light"
          }
        }
      ]
    },
    {
      "cell_type": "markdown",
      "source": [
        "##Lexical Substitution"
      ],
      "metadata": {
        "id": "sWIZVYD2_l_l"
      }
    },
    {
      "cell_type": "code",
      "source": [
        "def lexical_sub(sentence, word_vector):\n",
        "    try:\n",
        "        i = np.random.randint(len(sentence))\n",
        "        result = sentence[::]\n",
        "        if word_vector == word2vec_model:\n",
        "          result[i] = word2vec_model.wv.most_similar(sentence[i])[0][0]\n",
        "\n",
        "        elif word_vector == glove_model:\n",
        "          result[i] = glove_model.most_similar(sentence[i])[0][0]\n",
        "\n",
        "        elif word_vector == fastext_model:\n",
        "          result[i] = fastext_model.get_nearest_neighbors(sentence[i])[0][1]\n",
        "\n",
        "    except:   \n",
        "        return None\n",
        "\n",
        "    return result"
      ],
      "metadata": {
        "id": "_xeRxoK05Xxi"
      },
      "execution_count": 197,
      "outputs": []
    },
    {
      "cell_type": "code",
      "source": [
        "def augment_corpus(src_corpus, tgt_corpus, word_vector):\n",
        "    new_src_corpus = []\n",
        "    new_tgt_corpus = []\n",
        "    corpus_size = len(src_corpus)\n",
        "    \n",
        "    for i in tqdm(range(corpus_size)):\n",
        "        old_src_sen = src_corpus[i]\n",
        "        old_tgt_sen = tgt_corpus[i]\n",
        "        \n",
        "        new_src_sen = lexical_sub(old_src_sen, word_vector)\n",
        "        new_tgt_sen = lexical_sub(old_tgt_sen, word_vector)\n",
        "\n",
        "        if new_src_sen :\n",
        "            new_src_corpus.append(new_src_sen)\n",
        "            new_tgt_corpus.append(old_tgt_sen)\n",
        "        \n",
        "        if new_tgt_sen:\n",
        "            new_tgt_corpus.append(new_tgt_sen)\n",
        "            new_src_corpus.append(old_src_sen)\n",
        "    \n",
        "    return new_src_corpus, new_tgt_corpus"
      ],
      "metadata": {
        "id": "99-JIagXwXCH"
      },
      "execution_count": 198,
      "outputs": []
    },
    {
      "cell_type": "code",
      "source": [
        "new_wv_que_corpus, new_wv_ans_corpus = augment_corpus(que_corpus, ans_corpus, word2vec_model)"
      ],
      "metadata": {
        "colab": {
          "base_uri": "https://localhost:8080/",
          "height": 49,
          "referenced_widgets": [
            "56d2a18373124f8396e1441643e32fbe",
            "6a0f5f0acdfb4884a3d92bda0821ef01",
            "ae790ad56fe74a9db1053d1592fc9b32",
            "91a038c5818b46ca81fe79bf0bb0f432",
            "0b9898f4c00545dba10c9ba199a7ba72",
            "cf742aac4b0c463a96f9b81f72169dc3",
            "fac3c5788bde43bc87b990e02f06cfb5",
            "0d3e95d5d4f645ec92163fa709815dfb",
            "0b925e492ce0461286db0e5634c793ee",
            "c7dbe47edaaa4eb3bf4fcf0335d74041",
            "3f32a47ad550453489ea4a0f306607ce"
          ]
        },
        "id": "xIUbvl3swxvW",
        "outputId": "c2f22302-2b56-43cc-d879-856d6112e18b"
      },
      "execution_count": 199,
      "outputs": [
        {
          "output_type": "display_data",
          "data": {
            "text/plain": [
              "  0%|          | 0/7607 [00:00<?, ?it/s]"
            ],
            "application/vnd.jupyter.widget-view+json": {
              "version_major": 2,
              "version_minor": 0,
              "model_id": "56d2a18373124f8396e1441643e32fbe"
            }
          },
          "metadata": {}
        }
      ]
    },
    {
      "cell_type": "code",
      "source": [
        "new_gv_que_corpus, new_gv_ans_corpus = augment_corpus(que_corpus, ans_corpus, glove_model)"
      ],
      "metadata": {
        "colab": {
          "base_uri": "https://localhost:8080/",
          "height": 49,
          "referenced_widgets": [
            "e97af8c5b7e1486c9bb8eab9fd355382",
            "d6ef2b6195484b1ab58068cbe9eda54b",
            "dada87454fb24985940c8adc2ac2d7dd",
            "d73090c42d194a529913e47839f59e53",
            "b14bdb753f2e4ecf9dad8b6c5e18d220",
            "7c260e70c5124641bd3b0207268a96ea",
            "be8390c29cb845539dc802d3a99779ba",
            "d82a0d9f8b6a45728164581040adad7e",
            "cd47045d79344db9a5f56d08ccde0c92",
            "13a849c4784440438efd029e3e07573e",
            "494569a4aeec4582802ecc765179d393"
          ]
        },
        "id": "5CZKx8FJdwzi",
        "outputId": "5a0d4a04-f3aa-4fc4-81e8-5693fe111df5"
      },
      "execution_count": 200,
      "outputs": [
        {
          "output_type": "display_data",
          "data": {
            "text/plain": [
              "  0%|          | 0/7607 [00:00<?, ?it/s]"
            ],
            "application/vnd.jupyter.widget-view+json": {
              "version_major": 2,
              "version_minor": 0,
              "model_id": "e97af8c5b7e1486c9bb8eab9fd355382"
            }
          },
          "metadata": {}
        }
      ]
    },
    {
      "cell_type": "code",
      "source": [
        "new_ft_que_corpus, new_ft_ans_corpus = augment_corpus(que_corpus, ans_corpus, fastext_model)"
      ],
      "metadata": {
        "id": "i5gxHTdCGWLX",
        "colab": {
          "base_uri": "https://localhost:8080/",
          "height": 49,
          "referenced_widgets": [
            "627ed1d338ac4d54964f2ec194ec9fae",
            "2f1dfa7bd4e34d5eb08dab2f586902ac",
            "3e3daf856c4d43b486afa1cc0b1fc5cd",
            "7ac00569a4db43879af361dbbc95fe49",
            "9eb0d10d81dd403f826ca37bef3e148f",
            "06f8d35f12684c6a95b9f203c2ac7efb",
            "422c75d3ba0740349c7d47a652bcf545",
            "4f8e0d094c074b56a4850652ccc478f9",
            "54cf77a9d8774d74bc88f22954aefc0d",
            "256142c2d1fb46b0ac778872397dbc7c",
            "2c52159119a74c9aa07eab26e7980e55"
          ]
        },
        "outputId": "1845d08a-6c4b-4409-f63f-abbddc797bdc"
      },
      "execution_count": 201,
      "outputs": [
        {
          "output_type": "display_data",
          "data": {
            "text/plain": [
              "  0%|          | 0/7607 [00:00<?, ?it/s]"
            ],
            "application/vnd.jupyter.widget-view+json": {
              "version_major": 2,
              "version_minor": 0,
              "model_id": "627ed1d338ac4d54964f2ec194ec9fae"
            }
          },
          "metadata": {}
        }
      ]
    },
    {
      "cell_type": "code",
      "source": [
        "new_que_corpus = que_corpus + new_wv_que_corpus + new_gv_que_corpus + new_ft_que_corpus\n",
        "new_ans_corpus = ans_corpus + new_wv_ans_corpus + new_gv_ans_corpus + new_ft_ans_corpus"
      ],
      "metadata": {
        "id": "u_ifW_AuLeYo"
      },
      "execution_count": 202,
      "outputs": []
    },
    {
      "cell_type": "code",
      "source": [
        "print(\"Word2Vec Augmented Data Size : ({}, {})\".format(len(new_wv_que_corpus), len(new_wv_ans_corpus)))\n",
        "print(\"Glove Augmented Data Size : ({}, {})\".format(len(new_gv_que_corpus), len(new_gv_ans_corpus)))\n",
        "print(\"FastText Augmented Data Size : ({}, {})\".format(len(new_ft_que_corpus), len(new_ft_ans_corpus)))"
      ],
      "metadata": {
        "id": "hE2PbnQShav9",
        "colab": {
          "base_uri": "https://localhost:8080/"
        },
        "outputId": "4d2df4c3-5875-47e7-82f0-df1723e7e9e2"
      },
      "execution_count": 203,
      "outputs": [
        {
          "output_type": "stream",
          "name": "stdout",
          "text": [
            "Word2Vec Augmented Data Size : (13234, 13234)\n",
            "Glove Augmented Data Size : (15118, 15118)\n",
            "FastText Augmented Data Size : (15214, 15214)\n"
          ]
        }
      ]
    },
    {
      "cell_type": "code",
      "source": [
        "print(\"Original Data Size : ({}, {})\".format(len(que_corpus), len(ans_corpus)))\n",
        "print(\"Augmented Data Size : ({}, {})\".format(len(new_que_corpus), len(new_ans_corpus)))"
      ],
      "metadata": {
        "id": "VQnb0qiA1EFs",
        "colab": {
          "base_uri": "https://localhost:8080/"
        },
        "outputId": "ca350604-8ce0-4d96-b8ea-ec3fe32b1eaa"
      },
      "execution_count": 204,
      "outputs": [
        {
          "output_type": "stream",
          "name": "stdout",
          "text": [
            "Original Data Size : (7607, 7607)\n",
            "Augmented Data Size : (51173, 51173)\n"
          ]
        }
      ]
    },
    {
      "cell_type": "code",
      "source": [
        "print(\"Original Data\")\n",
        "for i in que_corpus:\n",
        "  if '짜증' in i and '나' in i and '네' in i and len(i) == 4:\n",
        "    print(\" \".join(i))\n",
        "print()\n",
        "print(\"Augmented Data\")\n",
        "for i in new_que_corpus:\n",
        "  if '짜증' in i and '나' in i and '네' in i and len(i) == 4:\n",
        "    print(\" \".join(i))"
      ],
      "metadata": {
        "colab": {
          "base_uri": "https://localhost:8080/"
        },
        "id": "yg2FhGctCJ1E",
        "outputId": "80f6db7d-4afc-4b18-b80d-acf917076983"
      },
      "execution_count": 268,
      "outputs": [
        {
          "output_type": "stream",
          "name": "stdout",
          "text": [
            "Original Data\n",
            "으으 짜증 나 네\n",
            "\n",
            "Augmented Data\n",
            ".-_-; 짜증 나 네\n",
            "으으 짜증 나 네\n",
            "으으 짜증 나 네\n",
            "으으 짜증 나 네\n",
            "으으 짜증 나 네\n",
            "으으으 짜증 나 네\n"
          ]
        }
      ]
    },
    {
      "cell_type": "code",
      "source": [
        "print(\"Original Data\")\n",
        "for i in que_corpus:\n",
        "  if '카드' in i and '망가졌' in i:\n",
        "    print(\" \".join(i))\n",
        "print()\n",
        "print(\"Augmented Data\")\n",
        "for i in new_que_corpus:\n",
        "  if '카드' in i and '망가졌' in i:\n",
        "    print(\" \".join(i))"
      ],
      "metadata": {
        "colab": {
          "base_uri": "https://localhost:8080/"
        },
        "id": "L6rf3ZDoBW-7",
        "outputId": "c88015b1-4af6-45f1-cfc2-9e3a8d327ec2"
      },
      "execution_count": 267,
      "outputs": [
        {
          "output_type": "stream",
          "name": "stdout",
          "text": [
            "Original Data\n",
            "sd 카드 망가졌 어\n",
            "\n",
            "Augmented Data\n",
            "+& 카드 망가졌 어\n",
            "sd 카드 망가졌 되\n",
            "sd 카드 망가졌 어\n",
            "sd 카드 망가졌 어\n",
            "sd 카드 망가졌 어\n",
            "sd 카드 망가졌 어\n"
          ]
        }
      ]
    },
    {
      "cell_type": "markdown",
      "source": [
        "Data Agumentation 이후 특수기호 .-_-; +& 등이 생겨났다.\n",
        "<br/>Word Vector 모델 제작자가 의도하여 인터넷에서 사용하는 특수기호(이모티콘 등)을 포함시킨 것이다."
      ],
      "metadata": {
        "id": "WVBfca6DCh5T"
      }
    },
    {
      "cell_type": "markdown",
      "source": [
        "##Ascending Order"
      ],
      "metadata": {
        "id": "6qRkyhllYALl"
      }
    },
    {
      "cell_type": "markdown",
      "source": [
        ""
      ],
      "metadata": {
        "id": "RTWNPvd6Y6hV"
      }
    },
    {
      "cell_type": "markdown",
      "source": [
        "\n",
        "\n",
        "```\n",
        "new_que_corpus = que_corpus + new_wv_que_corpus + new_gv_que_corpus + new_ft_que_corpus\n",
        "new_ans_corpus = ans_corpus + new_wv_ans_corpus + new_gv_ans_corpus + new_ft_ans_corpus\n",
        "```\n",
        "\n"
      ],
      "metadata": {
        "id": "VQHXXEwHY7xE"
      }
    },
    {
      "cell_type": "markdown",
      "source": [
        ""
      ],
      "metadata": {
        "id": "R94cmSvFZAQV"
      }
    },
    {
      "cell_type": "markdown",
      "source": [
        "Augmented 데이터를 병합하면서 순서가 뒤섞였다.\n",
        "<br/>훈련 데이터와 시험 데이터로 분리할 때 \n",
        "<br/>Augment하면서 생겨난 비슷한 문장들이 훈련 데이터와 시험 데이터에 중복되는 것을 방지하기 위해서\n",
        "<br/>컬럼 'question'을 기준으로 가나다순 정렬한다."
      ],
      "metadata": {
        "id": "51ksjQCzZ9DP"
      }
    },
    {
      "cell_type": "code",
      "source": [
        "new_corpus_df = pd.DataFrame({'question':new_que_corpus, 'answer':new_ans_corpus })\n",
        "new_corpus_sorted_df = new_corpus_df.sort_values(by=['question'], ascending = True)\n",
        "new_corpus_sorted_df = new_corpus_sorted_df.reset_index()\n",
        "del new_corpus_sorted_df['index']\n",
        "\n",
        "new_corpus_sorted_df"
      ],
      "metadata": {
        "colab": {
          "base_uri": "https://localhost:8080/",
          "height": 424
        },
        "id": "PlsFodYCYVa1",
        "outputId": "6aa03619-d8b6-471c-a3f1-449e4e3dcf45"
      },
      "execution_count": 233,
      "outputs": [
        {
          "output_type": "execute_result",
          "data": {
            "text/plain": [
              "                            question                              answer\n",
              "0                   [+&, 카드, 망가졌, 어]       [다시, 새로, 사, 는, 게, 마음, 편해요, .]\n",
              "1                  [.-_-;, 짜증, 나, 네]                   [짜증, 날, 만, 해요, .]\n",
              "2                        [..-_-;, .]  [수십, 번, 생각, 이, 나, 도, 잊, 어야, 해요, .]\n",
              "3      [..., 라도, 해야, 살, 거, 같, 은데, .]      [작, 은, 일, 부터, 시작, 해, 보, 세요, .]\n",
              "4                    [..., 먹, 을까, ?]               [좀, 먹, 어도, 괜찮, 아요, .]\n",
              "...                              ...                                 ...\n",
              "51168         [힘듭니다, 오늘, 는데, 무너졌, 어]                    [다시, 일어서, 세요, .]\n",
              "51169          [힘듭니다, 오늘, 또, 무너졌, 어]                   [다시, 일어서, 세요, 는데]\n",
              "51170          [힘듭니다, 오늘, 또, 무너졌, 어]                     [다시, 일어서, 싶, .]\n",
              "51171          [힘듭니다, 오늘, 또, 무너졌, 어]                    [다시, 일어서, 세요, .]\n",
              "51172          [힘듭니다, 오늘, 또, 무너졌, 어]                    [다시, 일어서, 세요, 다]\n",
              "\n",
              "[51173 rows x 2 columns]"
            ],
            "text/html": [
              "\n",
              "  <div id=\"df-bc9c671f-9fda-4f04-a2f5-f8d60dd50db2\">\n",
              "    <div class=\"colab-df-container\">\n",
              "      <div>\n",
              "<style scoped>\n",
              "    .dataframe tbody tr th:only-of-type {\n",
              "        vertical-align: middle;\n",
              "    }\n",
              "\n",
              "    .dataframe tbody tr th {\n",
              "        vertical-align: top;\n",
              "    }\n",
              "\n",
              "    .dataframe thead th {\n",
              "        text-align: right;\n",
              "    }\n",
              "</style>\n",
              "<table border=\"1\" class=\"dataframe\">\n",
              "  <thead>\n",
              "    <tr style=\"text-align: right;\">\n",
              "      <th></th>\n",
              "      <th>question</th>\n",
              "      <th>answer</th>\n",
              "    </tr>\n",
              "  </thead>\n",
              "  <tbody>\n",
              "    <tr>\n",
              "      <th>0</th>\n",
              "      <td>[+&amp;, 카드, 망가졌, 어]</td>\n",
              "      <td>[다시, 새로, 사, 는, 게, 마음, 편해요, .]</td>\n",
              "    </tr>\n",
              "    <tr>\n",
              "      <th>1</th>\n",
              "      <td>[.-_-;, 짜증, 나, 네]</td>\n",
              "      <td>[짜증, 날, 만, 해요, .]</td>\n",
              "    </tr>\n",
              "    <tr>\n",
              "      <th>2</th>\n",
              "      <td>[..-_-;, .]</td>\n",
              "      <td>[수십, 번, 생각, 이, 나, 도, 잊, 어야, 해요, .]</td>\n",
              "    </tr>\n",
              "    <tr>\n",
              "      <th>3</th>\n",
              "      <td>[..., 라도, 해야, 살, 거, 같, 은데, .]</td>\n",
              "      <td>[작, 은, 일, 부터, 시작, 해, 보, 세요, .]</td>\n",
              "    </tr>\n",
              "    <tr>\n",
              "      <th>4</th>\n",
              "      <td>[..., 먹, 을까, ?]</td>\n",
              "      <td>[좀, 먹, 어도, 괜찮, 아요, .]</td>\n",
              "    </tr>\n",
              "    <tr>\n",
              "      <th>...</th>\n",
              "      <td>...</td>\n",
              "      <td>...</td>\n",
              "    </tr>\n",
              "    <tr>\n",
              "      <th>51168</th>\n",
              "      <td>[힘듭니다, 오늘, 는데, 무너졌, 어]</td>\n",
              "      <td>[다시, 일어서, 세요, .]</td>\n",
              "    </tr>\n",
              "    <tr>\n",
              "      <th>51169</th>\n",
              "      <td>[힘듭니다, 오늘, 또, 무너졌, 어]</td>\n",
              "      <td>[다시, 일어서, 세요, 는데]</td>\n",
              "    </tr>\n",
              "    <tr>\n",
              "      <th>51170</th>\n",
              "      <td>[힘듭니다, 오늘, 또, 무너졌, 어]</td>\n",
              "      <td>[다시, 일어서, 싶, .]</td>\n",
              "    </tr>\n",
              "    <tr>\n",
              "      <th>51171</th>\n",
              "      <td>[힘듭니다, 오늘, 또, 무너졌, 어]</td>\n",
              "      <td>[다시, 일어서, 세요, .]</td>\n",
              "    </tr>\n",
              "    <tr>\n",
              "      <th>51172</th>\n",
              "      <td>[힘듭니다, 오늘, 또, 무너졌, 어]</td>\n",
              "      <td>[다시, 일어서, 세요, 다]</td>\n",
              "    </tr>\n",
              "  </tbody>\n",
              "</table>\n",
              "<p>51173 rows × 2 columns</p>\n",
              "</div>\n",
              "      <button class=\"colab-df-convert\" onclick=\"convertToInteractive('df-bc9c671f-9fda-4f04-a2f5-f8d60dd50db2')\"\n",
              "              title=\"Convert this dataframe to an interactive table.\"\n",
              "              style=\"display:none;\">\n",
              "        \n",
              "  <svg xmlns=\"http://www.w3.org/2000/svg\" height=\"24px\"viewBox=\"0 0 24 24\"\n",
              "       width=\"24px\">\n",
              "    <path d=\"M0 0h24v24H0V0z\" fill=\"none\"/>\n",
              "    <path d=\"M18.56 5.44l.94 2.06.94-2.06 2.06-.94-2.06-.94-.94-2.06-.94 2.06-2.06.94zm-11 1L8.5 8.5l.94-2.06 2.06-.94-2.06-.94L8.5 2.5l-.94 2.06-2.06.94zm10 10l.94 2.06.94-2.06 2.06-.94-2.06-.94-.94-2.06-.94 2.06-2.06.94z\"/><path d=\"M17.41 7.96l-1.37-1.37c-.4-.4-.92-.59-1.43-.59-.52 0-1.04.2-1.43.59L10.3 9.45l-7.72 7.72c-.78.78-.78 2.05 0 2.83L4 21.41c.39.39.9.59 1.41.59.51 0 1.02-.2 1.41-.59l7.78-7.78 2.81-2.81c.8-.78.8-2.07 0-2.86zM5.41 20L4 18.59l7.72-7.72 1.47 1.35L5.41 20z\"/>\n",
              "  </svg>\n",
              "      </button>\n",
              "      \n",
              "  <style>\n",
              "    .colab-df-container {\n",
              "      display:flex;\n",
              "      flex-wrap:wrap;\n",
              "      gap: 12px;\n",
              "    }\n",
              "\n",
              "    .colab-df-convert {\n",
              "      background-color: #E8F0FE;\n",
              "      border: none;\n",
              "      border-radius: 50%;\n",
              "      cursor: pointer;\n",
              "      display: none;\n",
              "      fill: #1967D2;\n",
              "      height: 32px;\n",
              "      padding: 0 0 0 0;\n",
              "      width: 32px;\n",
              "    }\n",
              "\n",
              "    .colab-df-convert:hover {\n",
              "      background-color: #E2EBFA;\n",
              "      box-shadow: 0px 1px 2px rgba(60, 64, 67, 0.3), 0px 1px 3px 1px rgba(60, 64, 67, 0.15);\n",
              "      fill: #174EA6;\n",
              "    }\n",
              "\n",
              "    [theme=dark] .colab-df-convert {\n",
              "      background-color: #3B4455;\n",
              "      fill: #D2E3FC;\n",
              "    }\n",
              "\n",
              "    [theme=dark] .colab-df-convert:hover {\n",
              "      background-color: #434B5C;\n",
              "      box-shadow: 0px 1px 3px 1px rgba(0, 0, 0, 0.15);\n",
              "      filter: drop-shadow(0px 1px 2px rgba(0, 0, 0, 0.3));\n",
              "      fill: #FFFFFF;\n",
              "    }\n",
              "  </style>\n",
              "\n",
              "      <script>\n",
              "        const buttonEl =\n",
              "          document.querySelector('#df-bc9c671f-9fda-4f04-a2f5-f8d60dd50db2 button.colab-df-convert');\n",
              "        buttonEl.style.display =\n",
              "          google.colab.kernel.accessAllowed ? 'block' : 'none';\n",
              "\n",
              "        async function convertToInteractive(key) {\n",
              "          const element = document.querySelector('#df-bc9c671f-9fda-4f04-a2f5-f8d60dd50db2');\n",
              "          const dataTable =\n",
              "            await google.colab.kernel.invokeFunction('convertToInteractive',\n",
              "                                                     [key], {});\n",
              "          if (!dataTable) return;\n",
              "\n",
              "          const docLinkHtml = 'Like what you see? Visit the ' +\n",
              "            '<a target=\"_blank\" href=https://colab.research.google.com/notebooks/data_table.ipynb>data table notebook</a>'\n",
              "            + ' to learn more about interactive tables.';\n",
              "          element.innerHTML = '';\n",
              "          dataTable['output_type'] = 'display_data';\n",
              "          await google.colab.output.renderOutput(dataTable, element);\n",
              "          const docLink = document.createElement('div');\n",
              "          docLink.innerHTML = docLinkHtml;\n",
              "          element.appendChild(docLink);\n",
              "        }\n",
              "      </script>\n",
              "    </div>\n",
              "  </div>\n",
              "  "
            ]
          },
          "metadata": {},
          "execution_count": 233
        }
      ]
    },
    {
      "cell_type": "code",
      "source": [
        "new_que_corpus = list(new_corpus_sorted_df['question'])\n",
        "new_ans_corpus = list(new_corpus_sorted_df['answer'])"
      ],
      "metadata": {
        "id": "NO0qlzZ09Vob"
      },
      "execution_count": 239,
      "outputs": []
    },
    {
      "cell_type": "markdown",
      "source": [
        "##File I/O"
      ],
      "metadata": {
        "id": "X955cda-NG3P"
      }
    },
    {
      "cell_type": "markdown",
      "source": [
        "전처리한 코퍼스 파일을 저장하고 다음에 불러올 수 있다면\n",
        "<br/>전처리 과정을 건너뛰고 바로 모델 구성과 학습을 진행할 수 있다.\n",
        "<br/>If Statement, For Loop, File I/O를 이용해\n",
        "전처리한 코퍼스 파일을 저장하고 불러온다."
      ],
      "metadata": {
        "id": "LIx0ziuR-2n5"
      }
    },
    {
      "cell_type": "code",
      "source": [
        "basic_txt_format = 'new_00_11_corpus.txt'\n",
        "basic_bin_format = 'new_00_11_corpus.bin'\n",
        "sen_type = ['que', 'ans']\n",
        "vec_type = ['wv', 'gv', 'ft']\n",
        "\n",
        "def original_corpus(basic_file_format):\n",
        "    augmented_corpus_list = []\n",
        "    for i in range(len(sen_type)):\n",
        "      file_format = basic_file_format.replace('00_11', sen_type[i]) \n",
        "      augmented_corpus_list.append(file_format) \n",
        "    return augmented_corpus_list\n",
        "\n",
        "def oddeven(basic_file_format, i):\n",
        "    if i % len(sen_type) == 0:\n",
        "        file_format = basic_file_format.replace('11', sen_type[i])\n",
        "    else:\n",
        "        file_format = basic_file_format.replace('11', sen_type[i])\n",
        "    return file_format\n",
        "\n",
        "def multiple(basic_file_format):\n",
        "  augmented_corpus_list = original_corpus(basic_file_format)\n",
        "  for j in range(len(vec_type)):\n",
        "      for k in range(len(sen_type)):\n",
        "          if j == 0:\n",
        "              file_format = basic_file_format.replace('00', vec_type[j])\n",
        "          elif j == 1:\n",
        "              file_format = basic_file_format.replace('00', vec_type[j])\n",
        "          elif j == 2:\n",
        "              file_format = basic_file_format.replace('00', vec_type[j])  \n",
        "          augmented_corpus_list.append(oddeven(file_format, k))\n",
        "  return augmented_corpus_list"
      ],
      "metadata": {
        "id": "qpS5YtsRs4wa"
      },
      "execution_count": 9,
      "outputs": []
    },
    {
      "cell_type": "code",
      "source": [
        "txt_list = multiple(basic_txt_format)\n",
        "bin_list = multiple(basic_bin_format)\n",
        "\n",
        "file_path = '/content/drive/MyDrive/lms/transformer_chatbot/augmented_corpus/'\n",
        "txt_path_list = []\n",
        "bin_path_list = []\n",
        "\n",
        "for i in txt_list:\n",
        "  txt_path_list.append(file_path + i) \n",
        "\n",
        "for i in bin_list:\n",
        "  bin_path_list.append(file_path + i)"
      ],
      "metadata": {
        "id": "xpq0wnEmWC1O"
      },
      "execution_count": 10,
      "outputs": []
    },
    {
      "cell_type": "code",
      "source": [
        "for j in range(len(txt_path_list)):\n",
        "  print(txt_path_list[j], '   ', bin_path_list[j].rjust(86))"
      ],
      "metadata": {
        "colab": {
          "base_uri": "https://localhost:8080/"
        },
        "id": "9sisfkemJ81f",
        "outputId": "b3a23e8e-967d-426e-94a9-c4ee8bfb13a4"
      },
      "execution_count": 11,
      "outputs": [
        {
          "output_type": "stream",
          "name": "stdout",
          "text": [
            "/content/drive/MyDrive/lms/transformer_chatbot/augmented_corpus/new_que_corpus.txt         /content/drive/MyDrive/lms/transformer_chatbot/augmented_corpus/new_que_corpus.bin\n",
            "/content/drive/MyDrive/lms/transformer_chatbot/augmented_corpus/new_ans_corpus.txt         /content/drive/MyDrive/lms/transformer_chatbot/augmented_corpus/new_ans_corpus.bin\n",
            "/content/drive/MyDrive/lms/transformer_chatbot/augmented_corpus/new_wv_que_corpus.txt      /content/drive/MyDrive/lms/transformer_chatbot/augmented_corpus/new_wv_que_corpus.bin\n",
            "/content/drive/MyDrive/lms/transformer_chatbot/augmented_corpus/new_wv_ans_corpus.txt      /content/drive/MyDrive/lms/transformer_chatbot/augmented_corpus/new_wv_ans_corpus.bin\n",
            "/content/drive/MyDrive/lms/transformer_chatbot/augmented_corpus/new_gv_que_corpus.txt      /content/drive/MyDrive/lms/transformer_chatbot/augmented_corpus/new_gv_que_corpus.bin\n",
            "/content/drive/MyDrive/lms/transformer_chatbot/augmented_corpus/new_gv_ans_corpus.txt      /content/drive/MyDrive/lms/transformer_chatbot/augmented_corpus/new_gv_ans_corpus.bin\n",
            "/content/drive/MyDrive/lms/transformer_chatbot/augmented_corpus/new_ft_que_corpus.txt      /content/drive/MyDrive/lms/transformer_chatbot/augmented_corpus/new_ft_que_corpus.bin\n",
            "/content/drive/MyDrive/lms/transformer_chatbot/augmented_corpus/new_ft_ans_corpus.txt      /content/drive/MyDrive/lms/transformer_chatbot/augmented_corpus/new_ft_ans_corpus.bin\n"
          ]
        }
      ]
    },
    {
      "cell_type": "code",
      "source": [
        "def save_corpus_txt(corpus_path, corpus):\n",
        "    with open(corpus_path, 'w') as f:\n",
        "        wr = csv.writer(f)\n",
        "        wr.writerows(corpus)\n",
        "\n",
        "def save_corpus_bin(corpus_path, corpus):\n",
        "    with open(corpus_path, 'wb') as f:\n",
        "      pickle.dump(corpus, f)\n",
        "\n",
        "def read_corpus_bin(corpus_path):\n",
        "    with open(corpus_path, 'rb') as f:\n",
        "       corpus = pickle.load(f)\n",
        "    return corpus"
      ],
      "metadata": {
        "id": "MH0C-0hRrhlc"
      },
      "execution_count": 12,
      "outputs": []
    },
    {
      "cell_type": "code",
      "source": [
        "for i in txt_path_list:\n",
        "  if 'new_que' in i:\n",
        "      save_corpus_txt(i, new_que_corpus)\n",
        "  elif 'new_ans' in i:\n",
        "      save_corpus_txt(i, new_ans_corpus)\n",
        "  elif 'wv' in i and 'que' in i:\n",
        "      save_corpus_txt(i, new_wv_que_corpus)\n",
        "  elif 'wv' in i and 'ans' in i:\n",
        "      save_corpus_txt(i, new_wv_ans_corpus)\n",
        "  elif 'gv' in i and 'que' in i:\n",
        "      save_corpus_txt(i, new_gv_que_corpus)\n",
        "  elif 'gv' in i and 'ans' in i:\n",
        "      save_corpus_txt(i, new_gv_ans_corpus)\n",
        "  elif 'ft' in i and 'que' in i:\n",
        "      save_corpus_txt(i, new_ft_que_corpus)\n",
        "  elif 'ft' in i and 'ans' in i:\n",
        "      save_corpus_txt(i, new_ft_ans_corpus)"
      ],
      "metadata": {
        "id": "_TuG0emcMRq3"
      },
      "execution_count": null,
      "outputs": []
    },
    {
      "cell_type": "code",
      "source": [
        "for i in bin_path_list:\n",
        "  if 'new_que' in i:\n",
        "      save_corpus_bin(i, new_que_corpus)\n",
        "  elif 'new_ans' in i:\n",
        "      save_corpus_bin(i, new_ans_corpus)\n",
        "  elif 'wv' in i and 'que' in i:\n",
        "      save_corpus_bin(i, new_wv_que_corpus)\n",
        "  elif 'wv' in i and 'ans' in i:\n",
        "      save_corpus_bin(i, new_wv_ans_corpus)\n",
        "  elif 'gv' in i and 'que' in i:\n",
        "      save_corpus_bin(i, new_gv_que_corpus)\n",
        "  elif 'gv' in i and 'ans' in i:\n",
        "      save_corpus_bin(i, new_gv_ans_corpus)\n",
        "  elif 'ft' in i and 'que' in i:\n",
        "      save_corpus_bin(i, new_ft_que_corpus)\n",
        "  elif 'ft' in i and 'ans' in i:\n",
        "      save_corpus_bin(i, new_ft_ans_corpus)"
      ],
      "metadata": {
        "id": "97d7Hcbq9k7b"
      },
      "execution_count": 243,
      "outputs": []
    },
    {
      "cell_type": "code",
      "source": [
        "for i in bin_path_list:\n",
        "    if 'new_que' in i:\n",
        "        new_que_corpus_from_file = read_corpus_bin(i)\n",
        "    elif 'new_ans' in i:\n",
        "        new_ans_corpus_from_file = read_corpus_bin(i)\n",
        "    elif 'wv' in i and 'que' in i:\n",
        "        new_wv_que_corpus_from_file = read_corpus_bin(i)\n",
        "    elif 'wv' in i and 'ans' in i:\n",
        "        new_wv_ans_corpus_from_file = read_corpus_bin(i)\n",
        "    elif 'gv' in i and 'que' in i:\n",
        "        new_gv_que_corpus_from_file = read_corpus_bin(i)\n",
        "    elif 'gv' in i and 'ans' in i:\n",
        "        new_gv_ans_corpus_from_file = read_corpus_bin(i)\n",
        "    elif 'ft' in i and 'que' in i:\n",
        "        new_ft_que_corpus_from_file = read_corpus_bin(i)\n",
        "    elif 'ft' in i and 'ans' in i:\n",
        "        new_ft_ans_corpus_from_file = read_corpus_bin(i)"
      ],
      "metadata": {
        "id": "OY9HunwLgkc1"
      },
      "execution_count": 13,
      "outputs": []
    },
    {
      "cell_type": "code",
      "source": [
        "print(\"Word2Vec Augmented Data Size : ({}, {})\".format(len(new_wv_que_corpus_from_file), len(new_wv_ans_corpus_from_file)))\n",
        "print(\"Glove Augmented Data Size : ({}, {})\".format(len(new_gv_que_corpus_from_file), len(new_gv_ans_corpus_from_file)))\n",
        "print(\"FastText Augmented Data Size : ({}, {})\".format(len(new_ft_que_corpus_from_file), len(new_ft_ans_corpus_from_file)))\n",
        "print(\"Augmented Data Size : ({}, {})\".format(len(new_que_corpus_from_file), len(new_ans_corpus_from_file)))"
      ],
      "metadata": {
        "colab": {
          "base_uri": "https://localhost:8080/"
        },
        "id": "NkAT6T3EQII-",
        "outputId": "dae24969-3203-46de-bb36-ac43c2e488d7"
      },
      "execution_count": 246,
      "outputs": [
        {
          "output_type": "stream",
          "name": "stdout",
          "text": [
            "Word2Vec Augmented Data Size : (13234, 13234)\n",
            "Glove Augmented Data Size : (15118, 15118)\n",
            "FastText Augmented Data Size : (15214, 15214)\n",
            "Augmented Data Size : (51173, 51173)\n"
          ]
        }
      ]
    },
    {
      "cell_type": "markdown",
      "source": [
        "#Data Vectorization"
      ],
      "metadata": {
        "id": "n3ZycP_yQDvZ"
      }
    },
    {
      "cell_type": "code",
      "source": [
        "def make_vocabulary(que_corpus, ans_corpus, vocab_size):\n",
        "\n",
        "    src_corpus = [ \" \".join(sen) for sen in que_corpus ]\n",
        "    tgt_corpus = [ \" \".join(sen) for sen in ans_corpus ]\n",
        "    \n",
        "    mecab = Mecab()\n",
        "    src_tok = []\n",
        "    tgt_tok = []\n",
        "    word_tok = []\n",
        "    \n",
        "    for s in src_corpus:\n",
        "        tmp = mecab.morphs(s)\n",
        "        src_tok.append(tmp)\n",
        "        word_tok.append(tmp)\n",
        "    \n",
        "    for t in tgt_corpus:\n",
        "        tmp = mecab.morphs(t)\n",
        "        tgt_tok.append(tmp)\n",
        "        word_tok.append(tmp)\n",
        "        \n",
        "    words = np.concatenate(word_tok).tolist()\n",
        "    counter = Counter(words)\n",
        "    counter = counter.most_common(vocab_size-4)\n",
        "    vocab = ['<PAD>', '<start>', '<UNK>', '<end>'] + [key for key, _ in counter]\n",
        "    # 사전 구성\n",
        "    word_to_index = {word:index for index, word in enumerate(vocab)}\n",
        "\n",
        "    def wordlist_to_indexlist(wordlist):\n",
        "        return [word_to_index[word] if word in word_to_index else word_to_index['<UNK>'] for word in wordlist]\n",
        "    # 변환 text to index\n",
        "    src_corpus = list(map(wordlist_to_indexlist, src_tok))\n",
        "    tgt_corpus = list(map(wordlist_to_indexlist, tgt_tok))\n",
        "\n",
        "    index_to_word = {index:word for word, index in word_to_index.items()}\n",
        "\n",
        "    return src_corpus, tgt_corpus, word_to_index, index_to_word"
      ],
      "metadata": {
        "id": "bsk9010a6Yul"
      },
      "execution_count": 14,
      "outputs": []
    },
    {
      "cell_type": "code",
      "source": [
        "vocab_size = 20000\n",
        "src_corpus, tgt_corpus, word_to_index, index_to_word = make_vocabulary(new_ans_corpus, new_que_corpus, vocab_size)"
      ],
      "metadata": {
        "id": "e0V-uxpp7ZL9"
      },
      "execution_count": 15,
      "outputs": []
    },
    {
      "cell_type": "code",
      "source": [
        "def data_vectorization(src_corpus, tgt_corpus):\n",
        "\n",
        "  enc_corpus = src_corpus\n",
        "  dec_corpus = []\n",
        "  for sen in tgt_corpus:\n",
        "    dec_corpus.append([word_to_index['<start>']] + sen + [word_to_index['<end>']])\n",
        "\n",
        "  enc_tensor = tf.keras.preprocessing.sequence.pad_sequences(enc_corpus, padding='post')\n",
        "  dec_tensor = tf.keras.preprocessing.sequence.pad_sequences(dec_corpus, padding='post')\n",
        "\n",
        "  return enc_tensor, dec_tensor"
      ],
      "metadata": {
        "id": "OjfdjRl59NEU"
      },
      "execution_count": 16,
      "outputs": []
    },
    {
      "cell_type": "code",
      "source": [
        "enc_tensor, dec_tensor = data_vectorization(src_corpus, tgt_corpus)"
      ],
      "metadata": {
        "id": "VkxEHiE78wX1"
      },
      "execution_count": 17,
      "outputs": []
    },
    {
      "cell_type": "code",
      "source": [
        "enc_train, enc_test, dec_train, dec_test = \\\n",
        "train_test_split(enc_tensor, dec_tensor, test_size=0.01)"
      ],
      "metadata": {
        "id": "dzE-o6-hBx9D"
      },
      "execution_count": 18,
      "outputs": []
    },
    {
      "cell_type": "code",
      "source": [
        "print(\"Index Word\")\n",
        "print(list(index_to_word.items())[:10])\n",
        "print()\n",
        "print(\"Word Index\")\n",
        "print(list(word_to_index.items())[:10])"
      ],
      "metadata": {
        "colab": {
          "base_uri": "https://localhost:8080/"
        },
        "id": "Nnro39L6qMMo",
        "outputId": "65809102-49de-4734-a348-844b1616b87b"
      },
      "execution_count": 19,
      "outputs": [
        {
          "output_type": "stream",
          "name": "stdout",
          "text": [
            "Index Word\n",
            "[(0, '<PAD>'), (1, '<start>'), (2, '<UNK>'), (3, '<end>'), (4, '.'), (5, '이'), (6, '는'), (7, '하'), (8, '을'), (9, '가')]\n",
            "\n",
            "Word Index\n",
            "[('<PAD>', 0), ('<start>', 1), ('<UNK>', 2), ('<end>', 3), ('.', 4), ('이', 5), ('는', 6), ('하', 7), ('을', 8), ('가', 9)]\n"
          ]
        }
      ]
    },
    {
      "cell_type": "code",
      "source": [
        "print(new_ans_corpus[0])\n",
        "print(enc_tensor[0])\n",
        "print()\n",
        "print(new_que_corpus[0])\n",
        "print(dec_tensor[0])"
      ],
      "metadata": {
        "colab": {
          "base_uri": "https://localhost:8080/"
        },
        "id": "_YdQi86axJYn",
        "outputId": "8224bb84-1cba-4631-a2ad-75aaae92686d"
      },
      "execution_count": 20,
      "outputs": [
        {
          "output_type": "stream",
          "name": "stdout",
          "text": [
            "['다시', '새로', '사', '는', '게', '마음', '편해요', '.']\n",
            "[ 127 2110  179    6   24   51 5062    4    0    0    0    0    0    0\n",
            "    0    0    0    0    0    0    0    0    0]\n",
            "\n",
            "['+&', '카드', '망가졌', '어']\n",
            "[   1 8017 1811 5446   13    3    0    0    0    0    0    0    0    0\n",
            "    0    0    0    0    0    0    0    0    0    0    0    0]\n"
          ]
        }
      ]
    },
    {
      "cell_type": "markdown",
      "source": [
        "#모델 구성"
      ],
      "metadata": {
        "id": "vC633HzWM2KI"
      }
    },
    {
      "cell_type": "code",
      "source": [
        "Image(filename='/content/drive/MyDrive/lms/transformer_translation/Transformer.png') "
      ],
      "metadata": {
        "id": "ncNbv8FDM2xZ",
        "colab": {
          "base_uri": "https://localhost:8080/",
          "height": 793
        },
        "outputId": "1aaea31c-a71d-4e13-a4a8-e97cc3da13ac"
      },
      "execution_count": 276,
      "outputs": [
        {
          "output_type": "execute_result",
          "data": {
            "text/plain": [
              "<IPython.core.display.Image object>"
            ],
            "image/png": "[encoded data removed]"
          },
          "metadata": {},
          "execution_count": 276
        }
      ]
    },
    {
      "cell_type": "markdown",
      "source": [
        "##Transformer"
      ],
      "metadata": {
        "id": "aMmj6r6bzIKG"
      }
    },
    {
      "cell_type": "code",
      "source": [
        "def positional_encoding(pos, d_model):\n",
        "    def cal_angle(position, i):\n",
        "        return position / np.power(10000, int(i) / d_model)\n",
        "\n",
        "    def get_posi_angle_vec(position):\n",
        "        return [cal_angle(position, i) for i in range(d_model)]\n",
        "\n",
        "    sinusoid_table = np.array([get_posi_angle_vec(pos_i) for pos_i in range(pos)])\n",
        "\n",
        "    sinusoid_table[:, 0::2] = np.sin(sinusoid_table[:, 0::2])\n",
        "    sinusoid_table[:, 1::2] = np.cos(sinusoid_table[:, 1::2])\n",
        "\n",
        "    return sinusoid_table"
      ],
      "metadata": {
        "id": "ChgZy0eYM39Q"
      },
      "execution_count": 21,
      "outputs": []
    },
    {
      "cell_type": "code",
      "source": [
        "def generate_padding_mask(seq):\n",
        "    seq = tf.cast(tf.math.equal(seq, 0), tf.float32)\n",
        "    return seq[:, tf.newaxis, tf.newaxis, :]"
      ],
      "metadata": {
        "id": "RCgESb8Zyste"
      },
      "execution_count": 22,
      "outputs": []
    },
    {
      "cell_type": "code",
      "source": [
        "def generate_causality_mask(src_len, tgt_len):\n",
        "    mask = 1 - np.cumsum(np.eye(src_len, tgt_len), 0)\n",
        "    return tf.cast(mask, tf.float32)"
      ],
      "metadata": {
        "id": "WEEqmOhHyuyW"
      },
      "execution_count": 23,
      "outputs": []
    },
    {
      "cell_type": "code",
      "source": [
        "def generate_masks(src, tgt):\n",
        "    enc_mask = generate_padding_mask(src)\n",
        "    dec_mask = generate_padding_mask(tgt)\n",
        "\n",
        "    dec_causality_mask = generate_causality_mask(tgt.shape[1], tgt.shape[1])\n",
        "    dec_mask = tf.maximum(dec_mask, dec_causality_mask)\n",
        "\n",
        "    dec_enc_causality_mask = generate_causality_mask(tgt.shape[1], src.shape[1])\n",
        "    dec_enc_mask = tf.maximum(enc_mask, dec_enc_causality_mask)\n",
        "\n",
        "    return enc_mask, dec_enc_mask, dec_mask"
      ],
      "metadata": {
        "id": "9j0Noj64yrzd"
      },
      "execution_count": 24,
      "outputs": []
    },
    {
      "cell_type": "code",
      "source": [
        "class MultiHeadAttention(tf.keras.layers.Layer):\n",
        "    def __init__(self, d_model, num_heads):\n",
        "        super(MultiHeadAttention, self).__init__()\n",
        "        self.num_heads = num_heads\n",
        "        self.d_model = d_model\n",
        "\n",
        "        self.depth = d_model // self.num_heads\n",
        "\n",
        "        self.W_q = tf.keras.layers.Dense(d_model)\n",
        "        self.W_k = tf.keras.layers.Dense(d_model)\n",
        "        self.W_v = tf.keras.layers.Dense(d_model)\n",
        "\n",
        "        self.linear = tf.keras.layers.Dense(d_model)\n",
        "\n",
        "    def scaled_dot_product_attention(self, Q, K, V, mask):\n",
        "        d_k = tf.cast(K.shape[-1], tf.float32)\n",
        "        QK = tf.matmul(Q, K, transpose_b=True)\n",
        "\n",
        "        scaled_qk = QK / tf.math.sqrt(d_k)\n",
        "\n",
        "        if mask is not None: scaled_qk += (mask * -1e9)  \n",
        "\n",
        "        attentions = tf.nn.softmax(scaled_qk, axis=-1)\n",
        "        out = tf.matmul(attentions, V)\n",
        "\n",
        "        return out, attentions\n",
        "\n",
        "\n",
        "    def split_heads(self, x):\n",
        "        bsz = x.shape[0]\n",
        "        split_x = tf.reshape(x, (bsz, -1, self.num_heads, self.depth))\n",
        "        split_x = tf.transpose(split_x, perm=[0, 2, 1, 3])\n",
        "\n",
        "        return split_x\n",
        "\n",
        "    def combine_heads(self, x):\n",
        "        bsz = x.shape[0]\n",
        "        combined_x = tf.transpose(x, perm=[0, 2, 1, 3])\n",
        "        combined_x = tf.reshape(combined_x, (bsz, -1, self.d_model))\n",
        "\n",
        "        return combined_x\n",
        "\n",
        "\n",
        "    def call(self, Q, K, V, mask):\n",
        "        WQ = self.W_q(Q)\n",
        "        WK = self.W_k(K)\n",
        "        WV = self.W_v(V)\n",
        "\n",
        "        WQ_splits = self.split_heads(WQ)\n",
        "        WK_splits = self.split_heads(WK)\n",
        "        WV_splits = self.split_heads(WV)\n",
        "\n",
        "        out, attention_weights = self.scaled_dot_product_attention(\n",
        "            WQ_splits, WK_splits, WV_splits, mask)\n",
        "\n",
        "        out = self.combine_heads(out)\n",
        "        out = self.linear(out)\n",
        "\n",
        "        return out, attention_weights"
      ],
      "metadata": {
        "id": "1OB89KgpywH9"
      },
      "execution_count": 25,
      "outputs": []
    },
    {
      "cell_type": "code",
      "source": [
        "class PoswiseFeedForwardNet(tf.keras.layers.Layer):\n",
        "    def __init__(self, d_model, d_ff):\n",
        "        super(PoswiseFeedForwardNet, self).__init__()\n",
        "        self.d_model = d_model\n",
        "        self.d_ff = d_ff\n",
        "\n",
        "        self.fc1 = tf.keras.layers.Dense(d_ff, activation='relu')\n",
        "        self.fc2 = tf.keras.layers.Dense(d_model)\n",
        "\n",
        "    def call(self, x):\n",
        "        out = self.fc1(x)\n",
        "        out = self.fc2(out)\n",
        "\n",
        "        return out"
      ],
      "metadata": {
        "id": "pTrFGS0qywKt"
      },
      "execution_count": 26,
      "outputs": []
    },
    {
      "cell_type": "code",
      "source": [
        "class EncoderLayer(tf.keras.layers.Layer):\n",
        "    def __init__(self, d_model, n_heads, d_ff, dropout):\n",
        "        super(EncoderLayer, self).__init__()\n",
        "\n",
        "        self.enc_self_attn = MultiHeadAttention(d_model, n_heads)\n",
        "        self.ffn = PoswiseFeedForwardNet(d_model, d_ff)\n",
        "\n",
        "        self.norm_1 = tf.keras.layers.LayerNormalization(epsilon=1e-6)\n",
        "        self.norm_2 = tf.keras.layers.LayerNormalization(epsilon=1e-6)\n",
        "\n",
        "        self.do = tf.keras.layers.Dropout(dropout)\n",
        "\n",
        "    def call(self, x, mask):\n",
        "\n",
        "        \"\"\"\n",
        "        Multi-Head Attention\n",
        "        \"\"\"\n",
        "        residual = x\n",
        "        out = self.norm_1(x)\n",
        "        out, enc_attn = self.enc_self_attn(out, out, out, mask)\n",
        "        out = self.do(out)\n",
        "        out += residual\n",
        "\n",
        "        \"\"\"\n",
        "        Position-Wise Feed Forward Network\n",
        "        \"\"\"\n",
        "        residual = out\n",
        "        out = self.norm_2(out)\n",
        "        out = self.ffn(out)\n",
        "        out = self.do(out)\n",
        "        out += residual\n",
        "\n",
        "        return out, enc_attn"
      ],
      "metadata": {
        "id": "SLLzGSFlyz2P"
      },
      "execution_count": 27,
      "outputs": []
    },
    {
      "cell_type": "code",
      "source": [
        "class DecoderLayer(tf.keras.layers.Layer):\n",
        "    def __init__(self, d_model, num_heads, d_ff, dropout):\n",
        "        super(DecoderLayer, self).__init__()\n",
        "\n",
        "        self.dec_self_attn = MultiHeadAttention(d_model, num_heads)\n",
        "        self.enc_dec_attn = MultiHeadAttention(d_model, num_heads)\n",
        "\n",
        "        self.ffn = PoswiseFeedForwardNet(d_model, d_ff)\n",
        "\n",
        "        self.norm_1 = tf.keras.layers.LayerNormalization(epsilon=1e-6)\n",
        "        self.norm_2 = tf.keras.layers.LayerNormalization(epsilon=1e-6)\n",
        "        self.norm_3 = tf.keras.layers.LayerNormalization(epsilon=1e-6)\n",
        "\n",
        "        self.do = tf.keras.layers.Dropout(dropout)\n",
        "\n",
        "    def call(self, x, enc_out, causality_mask, padding_mask):\n",
        "\n",
        "        \"\"\"\n",
        "        Masked Multi-Head Attention\n",
        "        \"\"\"\n",
        "        residual = x\n",
        "        out = self.norm_1(x)\n",
        "        out, dec_attn = self.dec_self_attn(out, out, out, padding_mask)\n",
        "        out = self.do(out)\n",
        "        out += residual\n",
        "\n",
        "        \"\"\"\n",
        "        Multi-Head Attention\n",
        "        \"\"\"\n",
        "        residual = out\n",
        "        out = self.norm_2(out)\n",
        "        out, dec_enc_attn = self.dec_self_attn(out, enc_out, enc_out, causality_mask)\n",
        "        out = self.do(out)\n",
        "        out += residual\n",
        "\n",
        "        \"\"\"\n",
        "        Position-Wise Feed Forward Network\n",
        "        \"\"\"\n",
        "        residual = out\n",
        "        out = self.norm_3(out)\n",
        "        out = self.ffn(out)\n",
        "        out = self.do(out)\n",
        "        out += residual\n",
        "\n",
        "        return out, dec_attn, dec_enc_attn"
      ],
      "metadata": {
        "id": "vtK6oVbyy352"
      },
      "execution_count": 28,
      "outputs": []
    },
    {
      "cell_type": "code",
      "source": [
        "class Encoder(tf.keras.Model):\n",
        "    def __init__(self,\n",
        "                    n_layers,\n",
        "                    d_model,\n",
        "                    n_heads,\n",
        "                    d_ff,\n",
        "                    dropout):\n",
        "        super(Encoder, self).__init__()\n",
        "        self.n_layers = n_layers\n",
        "        self.enc_layers = [EncoderLayer(d_model, n_heads, d_ff, dropout) \n",
        "                        for _ in range(n_layers)]\n",
        "\n",
        "        self.do = tf.keras.layers.Dropout(dropout)\n",
        "\n",
        "    def call(self, x, mask):\n",
        "        out = x\n",
        "\n",
        "        enc_attns = list()\n",
        "        for i in range(self.n_layers):\n",
        "            out, enc_attn = self.enc_layers[i](out, mask)\n",
        "            enc_attns.append(enc_attn)\n",
        "\n",
        "        return out, enc_attns"
      ],
      "metadata": {
        "id": "PxNz9uyoy4t9"
      },
      "execution_count": 29,
      "outputs": []
    },
    {
      "cell_type": "code",
      "source": [
        "class Decoder(tf.keras.Model):\n",
        "    def __init__(self,\n",
        "                    n_layers,\n",
        "                    d_model,\n",
        "                    n_heads,\n",
        "                    d_ff,\n",
        "                    dropout):\n",
        "        super(Decoder, self).__init__()\n",
        "        self.n_layers = n_layers\n",
        "        self.dec_layers = [DecoderLayer(d_model, n_heads, d_ff, dropout) \n",
        "                            for _ in range(n_layers)]\n",
        "\n",
        "    def call(self, x, enc_out, causality_mask, padding_mask):\n",
        "        out = x\n",
        "\n",
        "        dec_attns = list()\n",
        "        dec_enc_attns = list()\n",
        "        for i in range(self.n_layers):\n",
        "            out, dec_attn, dec_enc_attn = \\\n",
        "            self.dec_layers[i](out, enc_out, causality_mask, padding_mask)\n",
        "\n",
        "            dec_attns.append(dec_attn)\n",
        "            dec_enc_attns.append(dec_enc_attn)\n",
        "\n",
        "        return out, dec_attns, dec_enc_attns"
      ],
      "metadata": {
        "id": "lfzo2tLHy4xT"
      },
      "execution_count": 30,
      "outputs": []
    },
    {
      "cell_type": "code",
      "source": [
        "class Transformer(tf.keras.Model):\n",
        "    def __init__(self,\n",
        "                    n_layers,\n",
        "                    d_model,\n",
        "                    n_heads,\n",
        "                    d_ff,\n",
        "                    src_vocab_size,\n",
        "                    tgt_vocab_size,\n",
        "                    pos_len,\n",
        "                    dropout=0.2,\n",
        "                    shared_fc=True,\n",
        "                    shared_emb=False):\n",
        "        super(Transformer, self).__init__()\n",
        "\n",
        "        self.d_model = tf.cast(d_model, tf.float32)\n",
        "\n",
        "        if shared_emb:\n",
        "            self.enc_emb = self.dec_emb = \\\n",
        "            tf.keras.layers.Embedding(src_vocab_size, d_model)\n",
        "        else:\n",
        "            self.enc_emb = tf.keras.layers.Embedding(src_vocab_size, d_model)\n",
        "            self.dec_emb = tf.keras.layers.Embedding(tgt_vocab_size, d_model)\n",
        "\n",
        "        self.pos_encoding = positional_encoding(pos_len, d_model)\n",
        "        self.do = tf.keras.layers.Dropout(dropout)\n",
        "\n",
        "        self.encoder = Encoder(n_layers, d_model, n_heads, d_ff, dropout)\n",
        "        self.decoder = Decoder(n_layers, d_model, n_heads, d_ff, dropout)\n",
        "\n",
        "        self.fc = tf.keras.layers.Dense(tgt_vocab_size)\n",
        "\n",
        "        self.shared_fc = shared_fc\n",
        "\n",
        "        if shared_fc:\n",
        "            self.fc.set_weights(tf.transpose(self.dec_emb.weights))\n",
        "\n",
        "    def embedding(self, emb, x):\n",
        "        seq_len = x.shape[1]\n",
        "\n",
        "        out = emb(x)\n",
        "\n",
        "        if self.shared_fc: out *= tf.math.sqrt(self.d_model)\n",
        "\n",
        "        out += self.pos_encoding[np.newaxis, ...][:, :seq_len, :]\n",
        "        out = self.do(out)\n",
        "\n",
        "        return out\n",
        "\n",
        "\n",
        "    def call(self, enc_in, dec_in, enc_mask, causality_mask, dec_mask):\n",
        "        enc_in = self.embedding(self.enc_emb, enc_in)\n",
        "        dec_in = self.embedding(self.dec_emb, dec_in)\n",
        "\n",
        "        enc_out, enc_attns = self.encoder(enc_in, enc_mask)\n",
        "\n",
        "        dec_out, dec_attns, dec_enc_attns = \\\n",
        "        self.decoder(dec_in, enc_out, causality_mask, dec_mask)\n",
        "\n",
        "        logits = self.fc(dec_out)\n",
        "\n",
        "        return logits, enc_attns, dec_attns, dec_enc_attns"
      ],
      "metadata": {
        "id": "YemwRdjQy9Hk"
      },
      "execution_count": 31,
      "outputs": []
    },
    {
      "cell_type": "markdown",
      "source": [
        "##Learning Rate Schedule "
      ],
      "metadata": {
        "id": "fSgMp2iyzNn1"
      }
    },
    {
      "cell_type": "code",
      "source": [
        "class LearningRateScheduler(tf.keras.optimizers.schedules.LearningRateSchedule):\n",
        "    def __init__(self, d_model, warmup_steps=4000):\n",
        "        super(LearningRateScheduler, self).__init__()\n",
        "\n",
        "        self.d_model = d_model\n",
        "        self.warmup_steps = warmup_steps\n",
        "\n",
        "    def __call__(self, step):\n",
        "        arg1 = step ** -0.5\n",
        "        arg2 = step * (self.warmup_steps ** -1.5)\n",
        "\n",
        "        return (self.d_model ** -0.5) * tf.math.minimum(arg1, arg2)"
      ],
      "metadata": {
        "id": "PWBiimo6zBRe"
      },
      "execution_count": 32,
      "outputs": []
    },
    {
      "cell_type": "markdown",
      "source": [
        "##Loss Function"
      ],
      "metadata": {
        "id": "6Syr39N8zSX9"
      }
    },
    {
      "cell_type": "code",
      "source": [
        "loss_object = tf.keras.losses.SparseCategoricalCrossentropy(\n",
        "    from_logits=True, reduction='none')\n",
        "\n",
        "def loss_function(real, pred):\n",
        "    mask = tf.math.logical_not(tf.math.equal(real, 0))\n",
        "    loss_ = loss_object(real, pred)\n",
        "\n",
        "    mask = tf.cast(mask, dtype=loss_.dtype)\n",
        "    loss_ *= mask\n",
        "\n",
        "    return tf.reduce_sum(loss_)/tf.reduce_sum(mask)"
      ],
      "metadata": {
        "id": "iui8jQ73zWoU"
      },
      "execution_count": 33,
      "outputs": []
    },
    {
      "cell_type": "markdown",
      "source": [
        "##Train Step"
      ],
      "metadata": {
        "id": "kg-P5ZBIzaJF"
      }
    },
    {
      "cell_type": "code",
      "source": [
        "@tf.function()\n",
        "def train_step(src, tgt, model, optimizer):\n",
        "    tgt_in = tgt[:, :-1]  # Decoder의 input\n",
        "    gold = tgt[:, 1:]     # Decoder의 output과 비교하기 위해 right shift를 통해 생성한 최종 타겟\n",
        "\n",
        "    enc_mask, dec_enc_mask, dec_mask = generate_masks(src, tgt_in)\n",
        "\n",
        "    with tf.GradientTape() as tape:\n",
        "        predictions, enc_attns, dec_attns, dec_enc_attns = \\\n",
        "        model(src, tgt_in, enc_mask, dec_enc_mask, dec_mask)\n",
        "        loss = loss_function(gold, predictions)\n",
        "\n",
        "    gradients = tape.gradient(loss, model.trainable_variables)    \n",
        "    optimizer.apply_gradients(zip(gradients, model.trainable_variables))\n",
        "\n",
        "    return loss, enc_attns, dec_attns, dec_enc_attns"
      ],
      "metadata": {
        "id": "04VZpGtFzauP"
      },
      "execution_count": 34,
      "outputs": []
    },
    {
      "cell_type": "markdown",
      "source": [
        "##Evaluation"
      ],
      "metadata": {
        "id": "60F81w-bzaQt"
      }
    },
    {
      "cell_type": "code",
      "source": [
        "def preprocess_question(question):\n",
        "\n",
        "    question = question.lower()\n",
        "    question = re.sub(r\"([?.!])\", r\" \\1 \", question)\n",
        "    question = re.sub(r'[\" \"]+', \" \", question)\n",
        "    question = re.sub(r\"[^0-9ㄱ-ㅎㅏ-ㅣ가-힣a-zA-Z?.!]+\", \" \", question)\n",
        "    question = question.strip()\n",
        "\n",
        "    return question"
      ],
      "metadata": {
        "id": "z8UFl0CM3PPO"
      },
      "execution_count": 35,
      "outputs": []
    },
    {
      "cell_type": "markdown",
      "source": [
        "MeCab 형태소 토큰화를 통해 만든 Vocabulary의 word_to_index에 문장부호 , 가 등록되어 있지 않아\n",
        "<br/>검증 데이터와 시험 데이터를 전처리할 때 , 을 제거한다.\n",
        "<br/>나머지 문장부호( ? . !) , 한글, 영문자, 숫자는 남긴다."
      ],
      "metadata": {
        "id": "q1hYye_oYue0"
      }
    },
    {
      "cell_type": "code",
      "source": [
        "def evaluate(sentence, model, src_tokenizer, tgt_tokenizer):\n",
        "    sentence = preprocess_question(sentence)\n",
        "    \n",
        "    s = src_tokenizer.morphs(sentence)\n",
        "    tokens = []\n",
        "    for i in s:\n",
        "        tokens.append(word_to_index[i])\n",
        "    pieces = tokens        \n",
        "        \n",
        "    # pieces = src_tokenizer.encode_as_pieces(sentence)\n",
        "    # tokens = src_tokenizer.encode_as_ids(sentence)\n",
        "        \n",
        "    _input = tf.keras.preprocessing.sequence.pad_sequences([tokens],\n",
        "                                                           maxlen=enc_train.shape[-1],\n",
        "                                                           padding='post')\n",
        "    \n",
        "    ids = []\n",
        "    output = tf.expand_dims([1], 0)\n",
        "    for i in range(dec_train.shape[-1]):\n",
        "        enc_padding_mask, combined_mask, dec_padding_mask = \\\n",
        "        generate_masks(_input, output)\n",
        "\n",
        "        predictions, enc_attns, dec_attns, dec_enc_attns =\\\n",
        "        model(_input, \n",
        "              output,\n",
        "              enc_padding_mask,\n",
        "              combined_mask,\n",
        "              dec_padding_mask)\n",
        "\n",
        "        predicted_id = \\\n",
        "        tf.argmax(tf.math.softmax(predictions, axis=-1)[0, -1]).numpy().item()\n",
        "\n",
        "        if predicted_id == 3:\n",
        "            # result = tgt_tokenizer.decode_ids(ids)\n",
        "            result = []\n",
        "            for i in ids:\n",
        "                result.append(index_to_word[i])\n",
        "            \n",
        "            return pieces, result, enc_attns, dec_attns, dec_enc_attns\n",
        "\n",
        "        ids.append(predicted_id)\n",
        "        output = tf.concat([output, tf.expand_dims([predicted_id], 0)], axis=-1)\n",
        "\n",
        "    # result = tgt_tokenizer.decode_ids(ids)\n",
        "    result = ''\n",
        "    for i in ids:\n",
        "        result += index_to_word[i]\n",
        "    \n",
        "    return pieces, result, enc_attns, dec_attns, dec_enc_attns"
      ],
      "metadata": {
        "id": "ZMlE3lf_IAAq"
      },
      "execution_count": 36,
      "outputs": []
    },
    {
      "cell_type": "code",
      "source": [
        "def answer_generate(sentence, model, src_tokenizer, tgt_tokenizer):\n",
        "    pieces, result, enc_attns, dec_attns, dec_enc_attns = \\\n",
        "    evaluate(sentence, model, src_tokenizer, tgt_tokenizer)\n",
        "\n",
        "    return result"
      ],
      "metadata": {
        "id": "ne8EfUwaGAbh"
      },
      "execution_count": 37,
      "outputs": []
    },
    {
      "cell_type": "code",
      "source": [
        "def answer_print(sentence, model, src_tokenizer, tgt_tokenizer):\n",
        "    pieces, result, enc_attns, dec_attns, dec_enc_attns = \\\n",
        "    evaluate(sentence, model, src_tokenizer, tgt_tokenizer)\n",
        "\n",
        "    print(f'Input: {sentence}')\n",
        "    print(f'Predicted Answer: {\" \".join(result)}')"
      ],
      "metadata": {
        "id": "pqeApcKDGES4"
      },
      "execution_count": 38,
      "outputs": []
    },
    {
      "cell_type": "markdown",
      "source": [
        "#BLEU Score"
      ],
      "metadata": {
        "id": "0pPKYWwigfb2"
      }
    },
    {
      "cell_type": "markdown",
      "source": [
        "챗봇의 경우 올바른 대답을 하는지가 중요한 평가 지표이다.\n",
        "<br/>올바른 답변을 하는지 눈으로 확인할 수 있겠지만 많은 데이터의 경우는 모든 결과를 확인할 수 없다.\n",
        "<br/>BLEU Score를 통해 주어진 질문에 적절한 답변을 하는지 정량적으로 평가한다."
      ],
      "metadata": {
        "id": "b00dBcL1QpgJ"
      }
    },
    {
      "cell_type": "code",
      "source": [
        "def calculate_bleu(reference, candidate, weights=[0.25, 0.25, 0.25, 0.25]):\n",
        "    return sentence_bleu([reference],\n",
        "                         candidate,\n",
        "                         weights=weights,\n",
        "                         smoothing_function=SmoothingFunction().method1)"
      ],
      "metadata": {
        "id": "YTTvlEqNISgK"
      },
      "execution_count": 39,
      "outputs": []
    },
    {
      "cell_type": "code",
      "source": [
        "def eval_bleu(src_corpus, tgt_corpus, model, verbose=True):\n",
        "    total_score = 0.0\n",
        "    sample_size = len(tgt_corpus)\n",
        "\n",
        "    for idx in tqdm(range(sample_size)):\n",
        "        src_tokens = src_corpus[idx]\n",
        "        tgt_tokens = tgt_corpus[idx]\n",
        "\n",
        "    # src_sentence = tokenizer.decode_ids((src_tokens.tolist()))\n",
        "    # tgt_sentence = tokenizer.decode_ids((tgt_tokens.tolist()))\n",
        "\n",
        "        src_sentence = []\n",
        "        tgt_sentence = []\n",
        "        \n",
        "        for w in src_tokens:\n",
        "            if w != 0:\n",
        "                ow = index_to_word[w]\n",
        "                src_sentence.append(ow)\n",
        "\n",
        "        src_sentence = ' '.join(src_sentence)\n",
        "        \n",
        "        for w in tgt_tokens:\n",
        "            if w != 0 and w != 1 and w != 3:\n",
        "                ow = index_to_word[w]\n",
        "                tgt_sentence.append(ow)\n",
        "   \n",
        "        tgt_sentence = ' '.join(tgt_sentence)\n",
        "        \n",
        "        reference = preprocess_question(tgt_sentence).split()\n",
        "        candidate = answer_generate(src_sentence, model, tokenizer, tokenizer)\n",
        "        \n",
        "        score = sentence_bleu([reference], candidate,\n",
        "                              smoothing_function=SmoothingFunction().method1)\n",
        "        total_score += score\n",
        "\n",
        "        if verbose:\n",
        "            print(\"Source Sentence: \", src_sentence)\n",
        "            print(\"Model Prediction: \", \" \".join(candidate))\n",
        "            print(\"Real Answer: \", \" \".join(reference))\n",
        "            print(\"Score: %lf\\n\" % score)\n",
        "\n",
        "    print(\"Num of Sample:\", sample_size)\n",
        "    print(\"Total Score:\", total_score / sample_size)"
      ],
      "metadata": {
        "id": "TiQrrpYMIc7S"
      },
      "execution_count": 40,
      "outputs": []
    },
    {
      "cell_type": "markdown",
      "source": [
        "#Hyperparameter"
      ],
      "metadata": {
        "id": "5kn4Ma01p4v6"
      }
    },
    {
      "cell_type": "code",
      "source": [
        "reorderlist = ['Encoder & Decoder Layer', 'Model Dimension', 'Feedforwad Hidden Layer', 'Feedforward Network Dimension',\n",
        "               'Normalization Layer', 'Tokenizer', 'SRC Vocab Size', 'TGT Vocab Size', 'POS Length', 'Text Max Length',\n",
        "               'Dropout Rate', 'Shared FC', 'Shared EMB', 'Learning Rate', 'Optimizer', 'Activation Function',\n",
        "               'Loss Function', 'Epoch', 'Batch Size']\n",
        "\n",
        "first_hyperparameter = pd.DataFrame({'First Model':{'Encoder & Decoder Layer':2, 'Model Dimension':512,\n",
        "                                     'Feedforwad Hidden Layer':8, 'Feedforward Network Dimension':2048,\n",
        "                                     'Normalization Layer':'Pre-LN', 'Tokenizer':'MeCab',\n",
        "                                     'SRC Vocab Size':20000, 'TGT Vocab Size':20000,\n",
        "                                     'POS Length':200, 'Text Max Length':40, 'Dropout Rate':0.3,\n",
        "                                     'Shared FC': 'True', 'Shared EMB': 'True',\n",
        "                                     'Learning Rate':'Scheduler', 'Optimizer':'Adam', 'Activation Function':'Relu',\n",
        "                                     'Loss Function':'Sparse Categorical Crossentropy', 'Epoch':5, 'Batch Size':64}})\n",
        "\n",
        "first_hyperparameter = first_hyperparameter.iloc[pd.Categorical(first_hyperparameter.index,reorderlist).argsort()]\n",
        "\n",
        "first_hyperparameter.loc[:,'Second Model'] = [2, 1024, 8, 4096, 'Pre-LN', 'MeCab', 20000, 20000,\n",
        "                                              200, 40, 0.3, 'True', 'True', 'Scheduler', 'Adam', 'Relu',\n",
        "                                              'Sparse Categorical Crossentropy', 5, 256]\n",
        "\n",
        "\n",
        "pd.set_option('display.max_columns', None)\n",
        "first_hyperparameter"
      ],
      "metadata": {
        "colab": {
          "base_uri": "https://localhost:8080/",
          "height": 645
        },
        "id": "TkHKpfu156n9",
        "outputId": "94f0a7ca-760e-4db8-dd47-892b10beb7eb"
      },
      "execution_count": 40,
      "outputs": [
        {
          "output_type": "execute_result",
          "data": {
            "text/plain": [
              "                                                   First Model  \\\n",
              "Encoder & Decoder Layer                                      2   \n",
              "Model Dimension                                            512   \n",
              "Feedforwad Hidden Layer                                      8   \n",
              "Feedforward Network Dimension                             2048   \n",
              "Normalization Layer                                     Pre-LN   \n",
              "Tokenizer                                                MeCab   \n",
              "SRC Vocab Size                                           20000   \n",
              "TGT Vocab Size                                           20000   \n",
              "POS Length                                                 200   \n",
              "Text Max Length                                             40   \n",
              "Dropout Rate                                               0.3   \n",
              "Shared FC                                                 True   \n",
              "Shared EMB                                                True   \n",
              "Learning Rate                                        Scheduler   \n",
              "Optimizer                                                 Adam   \n",
              "Activation Function                                       Relu   \n",
              "Loss Function                  Sparse Categorical Crossentropy   \n",
              "Epoch                                                        5   \n",
              "Batch Size                                                  64   \n",
              "\n",
              "                                                  Second Model  \n",
              "Encoder & Decoder Layer                                      2  \n",
              "Model Dimension                                           1024  \n",
              "Feedforwad Hidden Layer                                      8  \n",
              "Feedforward Network Dimension                             4096  \n",
              "Normalization Layer                                     Pre-LN  \n",
              "Tokenizer                                                MeCab  \n",
              "SRC Vocab Size                                           20000  \n",
              "TGT Vocab Size                                           20000  \n",
              "POS Length                                                 200  \n",
              "Text Max Length                                             40  \n",
              "Dropout Rate                                               0.3  \n",
              "Shared FC                                                 True  \n",
              "Shared EMB                                                True  \n",
              "Learning Rate                                        Scheduler  \n",
              "Optimizer                                                 Adam  \n",
              "Activation Function                                       Relu  \n",
              "Loss Function                  Sparse Categorical Crossentropy  \n",
              "Epoch                                                        5  \n",
              "Batch Size                                                 256  "
            ],
            "text/html": [
              "\n",
              "  <div id=\"df-949c3974-641e-49ed-8802-6e0f383997a2\">\n",
              "    <div class=\"colab-df-container\">\n",
              "      <div>\n",
              "<style scoped>\n",
              "    .dataframe tbody tr th:only-of-type {\n",
              "        vertical-align: middle;\n",
              "    }\n",
              "\n",
              "    .dataframe tbody tr th {\n",
              "        vertical-align: top;\n",
              "    }\n",
              "\n",
              "    .dataframe thead th {\n",
              "        text-align: right;\n",
              "    }\n",
              "</style>\n",
              "<table border=\"1\" class=\"dataframe\">\n",
              "  <thead>\n",
              "    <tr style=\"text-align: right;\">\n",
              "      <th></th>\n",
              "      <th>First Model</th>\n",
              "      <th>Second Model</th>\n",
              "    </tr>\n",
              "  </thead>\n",
              "  <tbody>\n",
              "    <tr>\n",
              "      <th>Encoder &amp; Decoder Layer</th>\n",
              "      <td>2</td>\n",
              "      <td>2</td>\n",
              "    </tr>\n",
              "    <tr>\n",
              "      <th>Model Dimension</th>\n",
              "      <td>512</td>\n",
              "      <td>1024</td>\n",
              "    </tr>\n",
              "    <tr>\n",
              "      <th>Feedforwad Hidden Layer</th>\n",
              "      <td>8</td>\n",
              "      <td>8</td>\n",
              "    </tr>\n",
              "    <tr>\n",
              "      <th>Feedforward Network Dimension</th>\n",
              "      <td>2048</td>\n",
              "      <td>4096</td>\n",
              "    </tr>\n",
              "    <tr>\n",
              "      <th>Normalization Layer</th>\n",
              "      <td>Pre-LN</td>\n",
              "      <td>Pre-LN</td>\n",
              "    </tr>\n",
              "    <tr>\n",
              "      <th>Tokenizer</th>\n",
              "      <td>MeCab</td>\n",
              "      <td>MeCab</td>\n",
              "    </tr>\n",
              "    <tr>\n",
              "      <th>SRC Vocab Size</th>\n",
              "      <td>20000</td>\n",
              "      <td>20000</td>\n",
              "    </tr>\n",
              "    <tr>\n",
              "      <th>TGT Vocab Size</th>\n",
              "      <td>20000</td>\n",
              "      <td>20000</td>\n",
              "    </tr>\n",
              "    <tr>\n",
              "      <th>POS Length</th>\n",
              "      <td>200</td>\n",
              "      <td>200</td>\n",
              "    </tr>\n",
              "    <tr>\n",
              "      <th>Text Max Length</th>\n",
              "      <td>40</td>\n",
              "      <td>40</td>\n",
              "    </tr>\n",
              "    <tr>\n",
              "      <th>Dropout Rate</th>\n",
              "      <td>0.3</td>\n",
              "      <td>0.3</td>\n",
              "    </tr>\n",
              "    <tr>\n",
              "      <th>Shared FC</th>\n",
              "      <td>True</td>\n",
              "      <td>True</td>\n",
              "    </tr>\n",
              "    <tr>\n",
              "      <th>Shared EMB</th>\n",
              "      <td>True</td>\n",
              "      <td>True</td>\n",
              "    </tr>\n",
              "    <tr>\n",
              "      <th>Learning Rate</th>\n",
              "      <td>Scheduler</td>\n",
              "      <td>Scheduler</td>\n",
              "    </tr>\n",
              "    <tr>\n",
              "      <th>Optimizer</th>\n",
              "      <td>Adam</td>\n",
              "      <td>Adam</td>\n",
              "    </tr>\n",
              "    <tr>\n",
              "      <th>Activation Function</th>\n",
              "      <td>Relu</td>\n",
              "      <td>Relu</td>\n",
              "    </tr>\n",
              "    <tr>\n",
              "      <th>Loss Function</th>\n",
              "      <td>Sparse Categorical Crossentropy</td>\n",
              "      <td>Sparse Categorical Crossentropy</td>\n",
              "    </tr>\n",
              "    <tr>\n",
              "      <th>Epoch</th>\n",
              "      <td>5</td>\n",
              "      <td>5</td>\n",
              "    </tr>\n",
              "    <tr>\n",
              "      <th>Batch Size</th>\n",
              "      <td>64</td>\n",
              "      <td>256</td>\n",
              "    </tr>\n",
              "  </tbody>\n",
              "</table>\n",
              "</div>\n",
              "      <button class=\"colab-df-convert\" onclick=\"convertToInteractive('df-949c3974-641e-49ed-8802-6e0f383997a2')\"\n",
              "              title=\"Convert this dataframe to an interactive table.\"\n",
              "              style=\"display:none;\">\n",
              "        \n",
              "  <svg xmlns=\"http://www.w3.org/2000/svg\" height=\"24px\"viewBox=\"0 0 24 24\"\n",
              "       width=\"24px\">\n",
              "    <path d=\"M0 0h24v24H0V0z\" fill=\"none\"/>\n",
              "    <path d=\"M18.56 5.44l.94 2.06.94-2.06 2.06-.94-2.06-.94-.94-2.06-.94 2.06-2.06.94zm-11 1L8.5 8.5l.94-2.06 2.06-.94-2.06-.94L8.5 2.5l-.94 2.06-2.06.94zm10 10l.94 2.06.94-2.06 2.06-.94-2.06-.94-.94-2.06-.94 2.06-2.06.94z\"/><path d=\"M17.41 7.96l-1.37-1.37c-.4-.4-.92-.59-1.43-.59-.52 0-1.04.2-1.43.59L10.3 9.45l-7.72 7.72c-.78.78-.78 2.05 0 2.83L4 21.41c.39.39.9.59 1.41.59.51 0 1.02-.2 1.41-.59l7.78-7.78 2.81-2.81c.8-.78.8-2.07 0-2.86zM5.41 20L4 18.59l7.72-7.72 1.47 1.35L5.41 20z\"/>\n",
              "  </svg>\n",
              "      </button>\n",
              "      \n",
              "  <style>\n",
              "    .colab-df-container {\n",
              "      display:flex;\n",
              "      flex-wrap:wrap;\n",
              "      gap: 12px;\n",
              "    }\n",
              "\n",
              "    .colab-df-convert {\n",
              "      background-color: #E8F0FE;\n",
              "      border: none;\n",
              "      border-radius: 50%;\n",
              "      cursor: pointer;\n",
              "      display: none;\n",
              "      fill: #1967D2;\n",
              "      height: 32px;\n",
              "      padding: 0 0 0 0;\n",
              "      width: 32px;\n",
              "    }\n",
              "\n",
              "    .colab-df-convert:hover {\n",
              "      background-color: #E2EBFA;\n",
              "      box-shadow: 0px 1px 2px rgba(60, 64, 67, 0.3), 0px 1px 3px 1px rgba(60, 64, 67, 0.15);\n",
              "      fill: #174EA6;\n",
              "    }\n",
              "\n",
              "    [theme=dark] .colab-df-convert {\n",
              "      background-color: #3B4455;\n",
              "      fill: #D2E3FC;\n",
              "    }\n",
              "\n",
              "    [theme=dark] .colab-df-convert:hover {\n",
              "      background-color: #434B5C;\n",
              "      box-shadow: 0px 1px 3px 1px rgba(0, 0, 0, 0.15);\n",
              "      filter: drop-shadow(0px 1px 2px rgba(0, 0, 0, 0.3));\n",
              "      fill: #FFFFFF;\n",
              "    }\n",
              "  </style>\n",
              "\n",
              "      <script>\n",
              "        const buttonEl =\n",
              "          document.querySelector('#df-949c3974-641e-49ed-8802-6e0f383997a2 button.colab-df-convert');\n",
              "        buttonEl.style.display =\n",
              "          google.colab.kernel.accessAllowed ? 'block' : 'none';\n",
              "\n",
              "        async function convertToInteractive(key) {\n",
              "          const element = document.querySelector('#df-949c3974-641e-49ed-8802-6e0f383997a2');\n",
              "          const dataTable =\n",
              "            await google.colab.kernel.invokeFunction('convertToInteractive',\n",
              "                                                     [key], {});\n",
              "          if (!dataTable) return;\n",
              "\n",
              "          const docLinkHtml = 'Like what you see? Visit the ' +\n",
              "            '<a target=\"_blank\" href=https://colab.research.google.com/notebooks/data_table.ipynb>data table notebook</a>'\n",
              "            + ' to learn more about interactive tables.';\n",
              "          element.innerHTML = '';\n",
              "          dataTable['output_type'] = 'display_data';\n",
              "          await google.colab.output.renderOutput(dataTable, element);\n",
              "          const docLink = document.createElement('div');\n",
              "          docLink.innerHTML = docLinkHtml;\n",
              "          element.appendChild(docLink);\n",
              "        }\n",
              "      </script>\n",
              "    </div>\n",
              "  </div>\n",
              "  "
            ]
          },
          "metadata": {},
          "execution_count": 40
        }
      ]
    },
    {
      "cell_type": "markdown",
      "source": [
        "#First Model"
      ],
      "metadata": {
        "id": "wlARiKTJ5xPf"
      }
    },
    {
      "cell_type": "code",
      "source": [
        "vocab_size = 20000\n",
        "d_model = 512\n",
        "\n",
        "first_transformer = Transformer(n_layers=2,\n",
        "                          d_model=512,\n",
        "                          n_heads=8,\n",
        "                          d_ff=2048,\n",
        "                          src_vocab_size=vocab_size,\n",
        "                          tgt_vocab_size=vocab_size,\n",
        "                          pos_len=200,\n",
        "                          dropout=0.3,\n",
        "                          shared_fc=True,\n",
        "                          shared_emb=True)"
      ],
      "metadata": {
        "id": "sitLzn7iE_nD"
      },
      "execution_count": 41,
      "outputs": []
    },
    {
      "cell_type": "code",
      "source": [
        "learning_rate = LearningRateScheduler(d_model)\n",
        "\n",
        "optimizer = tf.keras.optimizers.Adam(learning_rate,\n",
        "                                        beta_1=0.9,\n",
        "                                        beta_2=0.98, \n",
        "                                        epsilon=1e-9)"
      ],
      "metadata": {
        "id": "ecrw4MTlzR1e"
      },
      "execution_count": 42,
      "outputs": []
    },
    {
      "cell_type": "code",
      "source": [
        "first_model_loss_df = pd.DataFrame({'Epoch':[0], 'Loss':[0]})\n",
        "\n",
        "batch_size = 64\n",
        "epochs = 5\n",
        "train_count = 0\n",
        "tokenizer = Mecab()\n",
        " \n",
        "sentence_list = [\"지루하다, 놀러가고 싶어.\", \"오늘 일찍 일어났더니 피곤하다.\",\n",
        "                 \"간만에 여자친구랑 데이트 하기로 했어.\", \"집에 있는다는 소리야.\"]\n",
        "\n",
        "for epoch in range(epochs):\n",
        "      total_loss = 0\n",
        "\n",
        "      idx_list = list(range(0, enc_train.shape[0], batch_size))\n",
        "      random.shuffle(idx_list)\n",
        "\n",
        "      for (batch, idx) in enumerate(idx_list):\n",
        "          batch_loss, enc_attns, dec_attns, dec_enc_attns = \\\n",
        "          train_step(enc_train[idx:idx+batch_size],\n",
        "                     dec_train[idx:idx+batch_size],\n",
        "                     first_transformer,\n",
        "                     optimizer)\n",
        "\n",
        "          total_loss += batch_loss\n",
        "\n",
        "          train_count += 1\n",
        "\n",
        "          if train_count % len(idx_list) == 0:\n",
        "              first_model_loss_df.loc[epoch] = [epoch + 1, round(total_loss.numpy() / (batch + 1), 4)]\n",
        "              first_model_loss_df = first_model_loss_df.astype({'Epoch':'int'})\n",
        "              print('Epoch {}'.format(epoch + 1))\n",
        "              print('Loss {:.4f}'.format(total_loss.numpy() / (batch + 1)))\n",
        "              print()\n",
        "\n",
        "              for sentence in sentence_list:\n",
        "                  answer_print(sentence, first_transformer, tokenizer, tokenizer)\n",
        "                  print()\n",
        "              print()"
      ],
      "metadata": {
        "id": "sYURd5Th7uTD",
        "colab": {
          "base_uri": "https://localhost:8080/"
        },
        "outputId": "1acc434c-56ae-42a9-8e53-0d5fa99d1bce"
      },
      "execution_count": 43,
      "outputs": [
        {
          "output_type": "stream",
          "name": "stdout",
          "text": [
            "Epoch 1\n",
            "Loss 5.3032\n",
            "\n",
            "Input: 지루하다, 놀러가고 싶어.\n",
            "Predicted Answer: 오늘 도 없 어\n",
            "\n",
            "Input: 오늘 일찍 일어났더니 피곤하다.\n",
            "Predicted Answer: 오늘 오늘 하루\n",
            "\n",
            "Input: 간만에 여자친구랑 데이트 하기로 했어.\n",
            "Predicted Answer: 나 랑 친구 가 너무 힘들 게 좋 아\n",
            "\n",
            "Input: 집에 있는다는 소리야.\n",
            "Predicted Answer: 비 가 고 싶 어\n",
            "\n",
            "\n",
            "Epoch 2\n",
            "Loss 2.3979\n",
            "\n",
            "Input: 지루하다, 놀러가고 싶어.\n",
            "Predicted Answer: 계속 생각 하 고 싶 어\n",
            "\n",
            "Input: 오늘 일찍 일어났더니 피곤하다.\n",
            "Predicted Answer: 오늘 아침 일찍 일어나 고 일어나\n",
            "\n",
            "Input: 간만에 여자친구랑 데이트 하기로 했어.\n",
            "Predicted Answer: 친구 의 내 가 이해 가 없 어\n",
            "\n",
            "Input: 집에 있는다는 소리야.\n",
            "Predicted Answer: 나가 고 싶 어\n",
            "\n",
            "\n",
            "Epoch 3\n",
            "Loss 1.2573\n",
            "\n",
            "Input: 지루하다, 놀러가고 싶어.\n",
            "Predicted Answer: 계속 보 기 로 했 으면 좋 겠 어\n",
            "\n",
            "Input: 오늘 일찍 일어났더니 피곤하다.\n",
            "Predicted Answer: 오늘 도 잠 이 너무 피곤 해\n",
            "\n",
            "Input: 간만에 여자친구랑 데이트 하기로 했어.\n",
            "Predicted Answer: 내 가 내 가 좋 아 하 는 거 같 아 .\n",
            "\n",
            "Input: 집에 있는다는 소리야.\n",
            "Predicted Answer: 스테이크 도 많이 고 싶 다\n",
            "\n",
            "\n",
            "Epoch 4\n",
            "Loss 1.0481\n",
            "\n",
            "Input: 지루하다, 놀러가고 싶어.\n",
            "Predicted Answer: 잠 못 하 겠 죠\n",
            "\n",
            "Input: 오늘 일찍 일어났더니 피곤하다.\n",
            "Predicted Answer: 하늘 입 고 자\n",
            "\n",
            "Input: 간만에 여자친구랑 데이트 하기로 했어.\n",
            "Predicted Answer: 친구 에서 만나 면 여행 만 하 면 오해 하 면 어떡 하 죠 ?\n",
            "\n",
            "Input: 집에 있는다는 소리야.\n",
            "Predicted Answer: 스테이크 먹 었 으면\n",
            "\n",
            "\n",
            "Epoch 5\n",
            "Loss 0.9982\n",
            "\n",
            "Input: 지루하다, 놀러가고 싶어.\n",
            "Predicted Answer: 짝 남 이 오 는 게 너무 보 고 싶 어 .\n",
            "\n",
            "Input: 오늘 일찍 일어났더니 피곤하다.\n",
            "Predicted Answer: 내일 일찍 일어나 는 거 야\n",
            "\n",
            "Input: 간만에 여자친구랑 데이트 하기로 했어.\n",
            "Predicted Answer: 여자 친구 가 같 은 데 만 좋 아\n",
            "\n",
            "Input: 집에 있는다는 소리야.\n",
            "Predicted Answer: 우리 집 망한 거 야\n",
            "\n",
            "\n"
          ]
        }
      ]
    },
    {
      "cell_type": "code",
      "source": [
        "CSS = \"\"\".output {flex-direction: row;}\"\"\"\n",
        "HTML('<style>{}</style>'.format(CSS))\n",
        "\n",
        "display(first_model_loss_df)\n",
        "print(\"\\n\")\n",
        "\n",
        "plt.figure(figsize=[12, 4])\n",
        "plt.plot(first_model_loss_df['Loss'] , label=\"Loss\")\n",
        "plt.legend()\n",
        "plt.title('Loss')\n",
        "plt.xlabel('Epoch')\n",
        "plt.ylabel('Value')\n",
        "plt.show()"
      ],
      "metadata": {
        "colab": {
          "base_uri": "https://localhost:8080/",
          "height": 520
        },
        "id": "IKNLtcJV46Wb",
        "outputId": "49549a0a-cf0d-478b-b1be-bcf90677e7fe"
      },
      "execution_count": 44,
      "outputs": [
        {
          "output_type": "display_data",
          "data": {
            "text/plain": [
              "   Epoch    Loss\n",
              "0      1  5.3032\n",
              "1      2  2.3979\n",
              "2      3  1.2573\n",
              "3      4  1.0481\n",
              "4      5  0.9982"
            ],
            "text/html": [
              "\n",
              "  <div id=\"df-6e54a9b3-e2c2-4595-b5b9-20a1ba8d0e16\">\n",
              "    <div class=\"colab-df-container\">\n",
              "      <div>\n",
              "<style scoped>\n",
              "    .dataframe tbody tr th:only-of-type {\n",
              "        vertical-align: middle;\n",
              "    }\n",
              "\n",
              "    .dataframe tbody tr th {\n",
              "        vertical-align: top;\n",
              "    }\n",
              "\n",
              "    .dataframe thead th {\n",
              "        text-align: right;\n",
              "    }\n",
              "</style>\n",
              "<table border=\"1\" class=\"dataframe\">\n",
              "  <thead>\n",
              "    <tr style=\"text-align: right;\">\n",
              "      <th></th>\n",
              "      <th>Epoch</th>\n",
              "      <th>Loss</th>\n",
              "    </tr>\n",
              "  </thead>\n",
              "  <tbody>\n",
              "    <tr>\n",
              "      <th>0</th>\n",
              "      <td>1</td>\n",
              "      <td>5.3032</td>\n",
              "    </tr>\n",
              "    <tr>\n",
              "      <th>1</th>\n",
              "      <td>2</td>\n",
              "      <td>2.3979</td>\n",
              "    </tr>\n",
              "    <tr>\n",
              "      <th>2</th>\n",
              "      <td>3</td>\n",
              "      <td>1.2573</td>\n",
              "    </tr>\n",
              "    <tr>\n",
              "      <th>3</th>\n",
              "      <td>4</td>\n",
              "      <td>1.0481</td>\n",
              "    </tr>\n",
              "    <tr>\n",
              "      <th>4</th>\n",
              "      <td>5</td>\n",
              "      <td>0.9982</td>\n",
              "    </tr>\n",
              "  </tbody>\n",
              "</table>\n",
              "</div>\n",
              "      <button class=\"colab-df-convert\" onclick=\"convertToInteractive('df-6e54a9b3-e2c2-4595-b5b9-20a1ba8d0e16')\"\n",
              "              title=\"Convert this dataframe to an interactive table.\"\n",
              "              style=\"display:none;\">\n",
              "        \n",
              "  <svg xmlns=\"http://www.w3.org/2000/svg\" height=\"24px\"viewBox=\"0 0 24 24\"\n",
              "       width=\"24px\">\n",
              "    <path d=\"M0 0h24v24H0V0z\" fill=\"none\"/>\n",
              "    <path d=\"M18.56 5.44l.94 2.06.94-2.06 2.06-.94-2.06-.94-.94-2.06-.94 2.06-2.06.94zm-11 1L8.5 8.5l.94-2.06 2.06-.94-2.06-.94L8.5 2.5l-.94 2.06-2.06.94zm10 10l.94 2.06.94-2.06 2.06-.94-2.06-.94-.94-2.06-.94 2.06-2.06.94z\"/><path d=\"M17.41 7.96l-1.37-1.37c-.4-.4-.92-.59-1.43-.59-.52 0-1.04.2-1.43.59L10.3 9.45l-7.72 7.72c-.78.78-.78 2.05 0 2.83L4 21.41c.39.39.9.59 1.41.59.51 0 1.02-.2 1.41-.59l7.78-7.78 2.81-2.81c.8-.78.8-2.07 0-2.86zM5.41 20L4 18.59l7.72-7.72 1.47 1.35L5.41 20z\"/>\n",
              "  </svg>\n",
              "      </button>\n",
              "      \n",
              "  <style>\n",
              "    .colab-df-container {\n",
              "      display:flex;\n",
              "      flex-wrap:wrap;\n",
              "      gap: 12px;\n",
              "    }\n",
              "\n",
              "    .colab-df-convert {\n",
              "      background-color: #E8F0FE;\n",
              "      border: none;\n",
              "      border-radius: 50%;\n",
              "      cursor: pointer;\n",
              "      display: none;\n",
              "      fill: #1967D2;\n",
              "      height: 32px;\n",
              "      padding: 0 0 0 0;\n",
              "      width: 32px;\n",
              "    }\n",
              "\n",
              "    .colab-df-convert:hover {\n",
              "      background-color: #E2EBFA;\n",
              "      box-shadow: 0px 1px 2px rgba(60, 64, 67, 0.3), 0px 1px 3px 1px rgba(60, 64, 67, 0.15);\n",
              "      fill: #174EA6;\n",
              "    }\n",
              "\n",
              "    [theme=dark] .colab-df-convert {\n",
              "      background-color: #3B4455;\n",
              "      fill: #D2E3FC;\n",
              "    }\n",
              "\n",
              "    [theme=dark] .colab-df-convert:hover {\n",
              "      background-color: #434B5C;\n",
              "      box-shadow: 0px 1px 3px 1px rgba(0, 0, 0, 0.15);\n",
              "      filter: drop-shadow(0px 1px 2px rgba(0, 0, 0, 0.3));\n",
              "      fill: #FFFFFF;\n",
              "    }\n",
              "  </style>\n",
              "\n",
              "      <script>\n",
              "        const buttonEl =\n",
              "          document.querySelector('#df-6e54a9b3-e2c2-4595-b5b9-20a1ba8d0e16 button.colab-df-convert');\n",
              "        buttonEl.style.display =\n",
              "          google.colab.kernel.accessAllowed ? 'block' : 'none';\n",
              "\n",
              "        async function convertToInteractive(key) {\n",
              "          const element = document.querySelector('#df-6e54a9b3-e2c2-4595-b5b9-20a1ba8d0e16');\n",
              "          const dataTable =\n",
              "            await google.colab.kernel.invokeFunction('convertToInteractive',\n",
              "                                                     [key], {});\n",
              "          if (!dataTable) return;\n",
              "\n",
              "          const docLinkHtml = 'Like what you see? Visit the ' +\n",
              "            '<a target=\"_blank\" href=https://colab.research.google.com/notebooks/data_table.ipynb>data table notebook</a>'\n",
              "            + ' to learn more about interactive tables.';\n",
              "          element.innerHTML = '';\n",
              "          dataTable['output_type'] = 'display_data';\n",
              "          await google.colab.output.renderOutput(dataTable, element);\n",
              "          const docLink = document.createElement('div');\n",
              "          docLink.innerHTML = docLinkHtml;\n",
              "          element.appendChild(docLink);\n",
              "        }\n",
              "      </script>\n",
              "    </div>\n",
              "  </div>\n",
              "  "
            ]
          },
          "metadata": {}
        },
        {
          "output_type": "stream",
          "name": "stdout",
          "text": [
            "\n",
            "\n"
          ]
        },
        {
          "output_type": "display_data",
          "data": {
            "text/plain": [
              "<Figure size 864x288 with 1 Axes>"
            ],
            "image/png": "[encoded data removed]"
          },
          "metadata": {
            "image/png": {
              "width": 710,
              "height": 277
            },
            "needs_background": "light"
          }
        }
      ]
    },
    {
      "cell_type": "code",
      "source": [
        "first_model_loss_df.to_csv(\"/content/drive/MyDrive/lms/transformer_chatbot/first_model_loss.csv\", index = False)"
      ],
      "metadata": {
        "id": "di45a5i946ZV"
      },
      "execution_count": 45,
      "outputs": []
    },
    {
      "cell_type": "code",
      "source": [
        "for sentence in sentence_list:\n",
        "  answer_print(sentence, first_transformer, tokenizer, tokenizer)\n",
        "  print()"
      ],
      "metadata": {
        "colab": {
          "base_uri": "https://localhost:8080/"
        },
        "id": "MVdHjrmOd6b9",
        "outputId": "57a28e96-6147-4958-aab8-06f803010609"
      },
      "execution_count": 46,
      "outputs": [
        {
          "output_type": "stream",
          "name": "stdout",
          "text": [
            "Input: 지루하다, 놀러가고 싶어.\n",
            "Predicted Answer: 짝 남 이 오 는 게 너무 보 고 싶 어 .\n",
            "\n",
            "Input: 오늘 일찍 일어났더니 피곤하다.\n",
            "Predicted Answer: 내일 일찍 일어나 는 거 야\n",
            "\n",
            "Input: 간만에 여자친구랑 데이트 하기로 했어.\n",
            "Predicted Answer: 여자 친구 가 같 은 데 만 좋 아\n",
            "\n",
            "Input: 집에 있는다는 소리야.\n",
            "Predicted Answer: 우리 집 망한 거 야\n",
            "\n"
          ]
        }
      ]
    },
    {
      "cell_type": "code",
      "source": [
        "eval_bleu(enc_test[:3], dec_test[:3], first_transformer, True)"
      ],
      "metadata": {
        "colab": {
          "base_uri": "https://localhost:8080/",
          "height": 361,
          "referenced_widgets": [
            "bcfea3fba97743368535c4117fc510c1",
            "bc5f9f941908453d846215c6004919fb",
            "58386390805842808f33220173173ca2",
            "b6793dc3d9f4465580210f12acb7183b",
            "7a1d5b22812f49ad99894876a7cc47de",
            "4eb48e20328b404ba9ed953f55369393",
            "aacafe885b104e06b474c13a59643e08",
            "e350a460ed0b46c1bee05f592f959511",
            "36c47f48f0c8491d8a9776eea5310689",
            "6db3744311c348029729a714697ef56f",
            "f0c110e617864fb1b3923e5baea06658"
          ]
        },
        "id": "viCq4DEKfHyr",
        "outputId": "d0db5827-5b1e-4ef0-9341-1012e4a1ad44"
      },
      "execution_count": 47,
      "outputs": [
        {
          "output_type": "display_data",
          "data": {
            "text/plain": [
              "  0%|          | 0/3 [00:00<?, ?it/s]"
            ],
            "application/vnd.jupyter.widget-view+json": {
              "version_major": 2,
              "version_minor": 0,
              "model_id": "bcfea3fba97743368535c4117fc510c1"
            }
          },
          "metadata": {}
        },
        {
          "output_type": "stream",
          "name": "stdout",
          "text": [
            "Source Sentence:  커피 한잔 마시 며 기다려 보 세요 .\n",
            "Model Prediction:  사람 많 아 기다려야 할지 기다려야 할지 없 어\n",
            "Real Answer:  사람 많 아서 기다려야 할지 는\n",
            "Score: 0.071718\n",
            "\n",
            "Source Sentence:  함께 일 때 비로소 전부 라고 느껴 지 는 연애 가 아닐까 생각 해 봅니다 .\n",
            "Model Prediction:  이상 적 인 관계 는 뭘까 ?\n",
            "Real Answer:  이상 적 인 관계 이 뭘까 ?\n",
            "Score: 0.488923\n",
            "\n",
            "Source Sentence:  여행 을 떠나 세요 .\n",
            "Model Prediction:  이런 일상 에서 휙 떠나 고 싶 어\n",
            "Real Answer:  이런 일상 에서 휙 떠나 고 싶 되\n",
            "Score: 0.840896\n",
            "\n",
            "Num of Sample: 3\n",
            "Total Score: 0.4671790842536194\n"
          ]
        }
      ]
    },
    {
      "cell_type": "code",
      "source": [
        "eval_bleu(enc_test, dec_test, first_transformer, False)"
      ],
      "metadata": {
        "colab": {
          "base_uri": "https://localhost:8080/",
          "height": 86,
          "referenced_widgets": [
            "acb99a8bf388487baaf54514d5fd4cf2",
            "28f8e9b2a0964be3acf23029a45916e2",
            "16097b8024b3430786c53057bf35b752",
            "d82da026befb4c13aadcdcfd4c878dba",
            "7d536fae86e748ef991619ee6bf088aa",
            "55052ab832b748ac8bf033fba7552e4b",
            "72b5fe075e2944f78137fa3acfca9bb6",
            "97ce7d6799c34c129d02b339f86198c9",
            "e80b2a601aa04648aa34d90afe9378ad",
            "cb6717af974c44258ddad959272a0832",
            "4581e4b7d81b4402b5c2a7b269b00569"
          ]
        },
        "id": "DywgqROsfIKT",
        "outputId": "ff2b79f8-a3e3-4cfa-c0d0-fd046657aca7"
      },
      "execution_count": 48,
      "outputs": [
        {
          "output_type": "display_data",
          "data": {
            "text/plain": [
              "  0%|          | 0/512 [00:00<?, ?it/s]"
            ],
            "application/vnd.jupyter.widget-view+json": {
              "version_major": 2,
              "version_minor": 0,
              "model_id": "acb99a8bf388487baaf54514d5fd4cf2"
            }
          },
          "metadata": {}
        },
        {
          "output_type": "stream",
          "name": "stdout",
          "text": [
            "Num of Sample: 512\n",
            "Total Score: 0.32975910567761824\n"
          ]
        }
      ]
    },
    {
      "cell_type": "markdown",
      "source": [
        ""
      ],
      "metadata": {
        "id": "N-SOe0V0WHyk"
      }
    },
    {
      "cell_type": "markdown",
      "source": [
        "#Second Model"
      ],
      "metadata": {
        "id": "8V7uZ4m_527-"
      }
    },
    {
      "cell_type": "code",
      "source": [
        "vocab_size = 20000\n",
        "d_model = 1024\n",
        "\n",
        "second_transformer = Transformer(n_layers=2,\n",
        "                          d_model=1024,\n",
        "                          n_heads=8,\n",
        "                          d_ff=4096,\n",
        "                          src_vocab_size=vocab_size,\n",
        "                          tgt_vocab_size=vocab_size,\n",
        "                          pos_len=200,\n",
        "                          dropout=0.3,\n",
        "                          shared_fc=True,\n",
        "                          shared_emb=True)"
      ],
      "metadata": {
        "id": "EC3wjoCcE9YC"
      },
      "execution_count": 42,
      "outputs": []
    },
    {
      "cell_type": "code",
      "source": [
        "learning_rate = LearningRateScheduler(d_model)\n",
        "\n",
        "optimizer = tf.keras.optimizers.Adam(learning_rate,\n",
        "                                        beta_1=0.9,\n",
        "                                        beta_2=0.98, \n",
        "                                        epsilon=1e-9)"
      ],
      "metadata": {
        "id": "ukHbd_jIE9rp"
      },
      "execution_count": 43,
      "outputs": []
    },
    {
      "cell_type": "code",
      "source": [
        "second_model_loss_df = pd.DataFrame({'Epoch':[0], 'Loss':[0]})\n",
        "\n",
        "batch_size = 256\n",
        "epochs = 5\n",
        "train_count = 0\n",
        "tokenizer = Mecab()\n",
        " \n",
        "sentence_list = [\"지루하다, 놀러가고 싶어.\", \"오늘 일찍 일어났더니 피곤하다.\",\n",
        "                 \"간만에 여자친구랑 데이트 하기로 했어.\", \"집에 있는다는 소리야.\"]\n",
        "\n",
        "for epoch in range(epochs):\n",
        "      total_loss = 0\n",
        "\n",
        "      idx_list = list(range(0, enc_train.shape[0], batch_size))\n",
        "      random.shuffle(idx_list)\n",
        "\n",
        "      for (batch, idx) in enumerate(idx_list):\n",
        "          batch_loss, enc_attns, dec_attns, dec_enc_attns = \\\n",
        "          train_step(enc_train[idx:idx+batch_size],\n",
        "                     dec_train[idx:idx+batch_size],\n",
        "                     second_transformer,\n",
        "                     optimizer)\n",
        "\n",
        "          total_loss += batch_loss\n",
        "\n",
        "          train_count += 1\n",
        "\n",
        "          if train_count % len(idx_list) == 0:\n",
        "              second_model_loss_df.loc[epoch] = [epoch + 1, round(total_loss.numpy() / (batch + 1), 4)]\n",
        "              second_model_loss_df = second_model_loss_df.astype({'Epoch':'int'})\n",
        "              print('Epoch {}'.format(epoch + 1))\n",
        "              print('Loss {:.4f}'.format(total_loss.numpy() / (batch + 1)))\n",
        "              print()\n",
        "\n",
        "              for sentence in sentence_list:\n",
        "                  answer_print(sentence, second_transformer, tokenizer, tokenizer)\n",
        "                  print()\n",
        "              print()"
      ],
      "metadata": {
        "colab": {
          "base_uri": "https://localhost:8080/"
        },
        "id": "4GPFI-zNhomp",
        "outputId": "d6af2ce7-00f3-4538-8c08-a6d458668973"
      },
      "execution_count": 47,
      "outputs": [
        {
          "output_type": "stream",
          "name": "stdout",
          "text": [
            "Epoch 1\n",
            "Loss 6.9304\n",
            "\n",
            "Input: 지루하다, 놀러가고 싶어.\n",
            "Predicted Answer: 썸 는 게 하 는 게 하 는 게 하 는 게 .\n",
            "\n",
            "Input: 오늘 일찍 일어났더니 피곤하다.\n",
            "Predicted Answer: 짝 남 이 안\n",
            "\n",
            "Input: 간만에 여자친구랑 데이트 하기로 했어.\n",
            "Predicted Answer: 좋 아 하 는 게 하 는 게 하 는 게 .\n",
            "\n",
            "Input: 집에 있는다는 소리야.\n",
            "Predicted Answer: 짝 남 이 이 안 하 는 게 하 는 게 하 는 게 .\n",
            "\n",
            "\n",
            "Epoch 2\n",
            "Loss 4.4701\n",
            "\n",
            "Input: 지루하다, 놀러가고 싶어.\n",
            "Predicted Answer: 사랑 이 별 가 고 싶 어\n",
            "\n",
            "Input: 오늘 일찍 일어났더니 피곤하다.\n",
            "Predicted Answer: 오늘 도 안 되 는 거 같 아\n",
            "\n",
            "Input: 간만에 여자친구랑 데이트 하기로 했어.\n",
            "Predicted Answer: 좋 아 하 는 여자 애 가 없 어 .\n",
            "\n",
            "Input: 집에 있는다는 소리야.\n",
            "Predicted Answer: 오늘 도 안 되 고 싶 어\n",
            "\n",
            "\n",
            "Epoch 3\n",
            "Loss 2.7813\n",
            "\n",
            "Input: 지루하다, 놀러가고 싶어.\n",
            "Predicted Answer: 사 랑 이 게 제 일 게 좋 아 하 는 게 맞 는 게 맞 는 게 맞 는 게 맞 는 게 맞 는 게 .\n",
            "\n",
            "Input: 오늘 일찍 일어났더니 피곤하다.\n",
            "Predicted Answer: 나 내일 뭐 입 었 어\n",
            "\n",
            "Input: 간만에 여자친구랑 데이트 하기로 했어.\n",
            "Predicted Answer: 좋 아 하 는 여자 한테 연락 하 는 게 되 는 게 없 어 .\n",
            "\n",
            "Input: 집에 있는다는 소리야.\n",
            "Predicted Answer: 스테이크 먹 고 싶 다\n",
            "\n",
            "\n",
            "Epoch 4\n",
            "Loss 1.2323\n",
            "\n",
            "Input: 지루하다, 놀러가고 싶어.\n",
            "Predicted Answer: 사랑 에 게 만들 고 싶 습니다\n",
            "\n",
            "Input: 오늘 일찍 일어났더니 피곤하다.\n",
            "Predicted Answer: 오늘 아침 일어나 또 아침 이 네\n",
            "\n",
            "Input: 간만에 여자친구랑 데이트 하기로 했어.\n",
            "Predicted Answer: 좋 아 하 는 여자 애 한테 관심 을 잘 하 는 게 짜증 나 .\n",
            "\n",
            "Input: 집에 있는다는 소리야.\n",
            "Predicted Answer: 아무 도 안 었 나\n",
            "\n",
            "\n",
            "Epoch 5\n",
            "Loss 0.6806\n",
            "\n",
            "Input: 지루하다, 놀러가고 싶어.\n",
            "Predicted Answer: 사랑 이 게 제일 다니 지\n",
            "\n",
            "Input: 오늘 일찍 일어났더니 피곤하다.\n",
            "Predicted Answer: 나 아침 없이 잘 아 하 는 것 같 음 ?\n",
            "\n",
            "Input: 간만에 여자친구랑 데이트 하기로 했어.\n",
            "Predicted Answer: 매일 여자 친구 의 사친 이 뭐 가 잘 하 지 .\n",
            "\n",
            "Input: 집에 있는다는 소리야.\n",
            "Predicted Answer: 스테이크 먹 고 싶 다\n",
            "\n",
            "\n"
          ]
        }
      ]
    },
    {
      "cell_type": "code",
      "source": [
        "CSS = \"\"\".output {flex-direction: row;}\"\"\"\n",
        "HTML('<style>{}</style>'.format(CSS))\n",
        "\n",
        "display(second_model_loss_df)\n",
        "print(\"\\n\")\n",
        "\n",
        "plt.figure(figsize=[12, 4])\n",
        "plt.plot(second_model_loss_df['Loss'] , label=\"Loss\")\n",
        "plt.legend()\n",
        "plt.title('Loss')\n",
        "plt.xlabel('Epoch')\n",
        "plt.ylabel('Value')\n",
        "plt.show()"
      ],
      "metadata": {
        "colab": {
          "base_uri": "https://localhost:8080/",
          "height": 520
        },
        "id": "6JXXdALghzns",
        "outputId": "12f2f979-b616-4b17-ec20-4acd79a0fafd"
      },
      "execution_count": 48,
      "outputs": [
        {
          "output_type": "display_data",
          "data": {
            "text/plain": [
              "   Epoch    Loss\n",
              "0      1  6.9304\n",
              "1      2  4.4701\n",
              "2      3  2.7813\n",
              "3      4  1.2323\n",
              "4      5  0.6806"
            ],
            "text/html": [
              "\n",
              "  <div id=\"df-b6b3a46e-2f2a-46d5-a45c-f9301d8c5384\">\n",
              "    <div class=\"colab-df-container\">\n",
              "      <div>\n",
              "<style scoped>\n",
              "    .dataframe tbody tr th:only-of-type {\n",
              "        vertical-align: middle;\n",
              "    }\n",
              "\n",
              "    .dataframe tbody tr th {\n",
              "        vertical-align: top;\n",
              "    }\n",
              "\n",
              "    .dataframe thead th {\n",
              "        text-align: right;\n",
              "    }\n",
              "</style>\n",
              "<table border=\"1\" class=\"dataframe\">\n",
              "  <thead>\n",
              "    <tr style=\"text-align: right;\">\n",
              "      <th></th>\n",
              "      <th>Epoch</th>\n",
              "      <th>Loss</th>\n",
              "    </tr>\n",
              "  </thead>\n",
              "  <tbody>\n",
              "    <tr>\n",
              "      <th>0</th>\n",
              "      <td>1</td>\n",
              "      <td>6.9304</td>\n",
              "    </tr>\n",
              "    <tr>\n",
              "      <th>1</th>\n",
              "      <td>2</td>\n",
              "      <td>4.4701</td>\n",
              "    </tr>\n",
              "    <tr>\n",
              "      <th>2</th>\n",
              "      <td>3</td>\n",
              "      <td>2.7813</td>\n",
              "    </tr>\n",
              "    <tr>\n",
              "      <th>3</th>\n",
              "      <td>4</td>\n",
              "      <td>1.2323</td>\n",
              "    </tr>\n",
              "    <tr>\n",
              "      <th>4</th>\n",
              "      <td>5</td>\n",
              "      <td>0.6806</td>\n",
              "    </tr>\n",
              "  </tbody>\n",
              "</table>\n",
              "</div>\n",
              "      <button class=\"colab-df-convert\" onclick=\"convertToInteractive('df-b6b3a46e-2f2a-46d5-a45c-f9301d8c5384')\"\n",
              "              title=\"Convert this dataframe to an interactive table.\"\n",
              "              style=\"display:none;\">\n",
              "        \n",
              "  <svg xmlns=\"http://www.w3.org/2000/svg\" height=\"24px\"viewBox=\"0 0 24 24\"\n",
              "       width=\"24px\">\n",
              "    <path d=\"M0 0h24v24H0V0z\" fill=\"none\"/>\n",
              "    <path d=\"M18.56 5.44l.94 2.06.94-2.06 2.06-.94-2.06-.94-.94-2.06-.94 2.06-2.06.94zm-11 1L8.5 8.5l.94-2.06 2.06-.94-2.06-.94L8.5 2.5l-.94 2.06-2.06.94zm10 10l.94 2.06.94-2.06 2.06-.94-2.06-.94-.94-2.06-.94 2.06-2.06.94z\"/><path d=\"M17.41 7.96l-1.37-1.37c-.4-.4-.92-.59-1.43-.59-.52 0-1.04.2-1.43.59L10.3 9.45l-7.72 7.72c-.78.78-.78 2.05 0 2.83L4 21.41c.39.39.9.59 1.41.59.51 0 1.02-.2 1.41-.59l7.78-7.78 2.81-2.81c.8-.78.8-2.07 0-2.86zM5.41 20L4 18.59l7.72-7.72 1.47 1.35L5.41 20z\"/>\n",
              "  </svg>\n",
              "      </button>\n",
              "      \n",
              "  <style>\n",
              "    .colab-df-container {\n",
              "      display:flex;\n",
              "      flex-wrap:wrap;\n",
              "      gap: 12px;\n",
              "    }\n",
              "\n",
              "    .colab-df-convert {\n",
              "      background-color: #E8F0FE;\n",
              "      border: none;\n",
              "      border-radius: 50%;\n",
              "      cursor: pointer;\n",
              "      display: none;\n",
              "      fill: #1967D2;\n",
              "      height: 32px;\n",
              "      padding: 0 0 0 0;\n",
              "      width: 32px;\n",
              "    }\n",
              "\n",
              "    .colab-df-convert:hover {\n",
              "      background-color: #E2EBFA;\n",
              "      box-shadow: 0px 1px 2px rgba(60, 64, 67, 0.3), 0px 1px 3px 1px rgba(60, 64, 67, 0.15);\n",
              "      fill: #174EA6;\n",
              "    }\n",
              "\n",
              "    [theme=dark] .colab-df-convert {\n",
              "      background-color: #3B4455;\n",
              "      fill: #D2E3FC;\n",
              "    }\n",
              "\n",
              "    [theme=dark] .colab-df-convert:hover {\n",
              "      background-color: #434B5C;\n",
              "      box-shadow: 0px 1px 3px 1px rgba(0, 0, 0, 0.15);\n",
              "      filter: drop-shadow(0px 1px 2px rgba(0, 0, 0, 0.3));\n",
              "      fill: #FFFFFF;\n",
              "    }\n",
              "  </style>\n",
              "\n",
              "      <script>\n",
              "        const buttonEl =\n",
              "          document.querySelector('#df-b6b3a46e-2f2a-46d5-a45c-f9301d8c5384 button.colab-df-convert');\n",
              "        buttonEl.style.display =\n",
              "          google.colab.kernel.accessAllowed ? 'block' : 'none';\n",
              "\n",
              "        async function convertToInteractive(key) {\n",
              "          const element = document.querySelector('#df-b6b3a46e-2f2a-46d5-a45c-f9301d8c5384');\n",
              "          const dataTable =\n",
              "            await google.colab.kernel.invokeFunction('convertToInteractive',\n",
              "                                                     [key], {});\n",
              "          if (!dataTable) return;\n",
              "\n",
              "          const docLinkHtml = 'Like what you see? Visit the ' +\n",
              "            '<a target=\"_blank\" href=https://colab.research.google.com/notebooks/data_table.ipynb>data table notebook</a>'\n",
              "            + ' to learn more about interactive tables.';\n",
              "          element.innerHTML = '';\n",
              "          dataTable['output_type'] = 'display_data';\n",
              "          await google.colab.output.renderOutput(dataTable, element);\n",
              "          const docLink = document.createElement('div');\n",
              "          docLink.innerHTML = docLinkHtml;\n",
              "          element.appendChild(docLink);\n",
              "        }\n",
              "      </script>\n",
              "    </div>\n",
              "  </div>\n",
              "  "
            ]
          },
          "metadata": {}
        },
        {
          "output_type": "stream",
          "name": "stdout",
          "text": [
            "\n",
            "\n"
          ]
        },
        {
          "output_type": "display_data",
          "data": {
            "text/plain": [
              "<Figure size 864x288 with 1 Axes>"
            ],
            "image/png": "[encoded data removed]"
          },
          "metadata": {
            "image/png": {
              "width": 710,
              "height": 277
            },
            "needs_background": "light"
          }
        }
      ]
    },
    {
      "cell_type": "code",
      "source": [
        "second_model_loss_df.to_csv(\"/content/drive/MyDrive/lms/transformer_chatbot/second_model_loss.csv\", index = False)"
      ],
      "metadata": {
        "id": "1frvyGQPhuxh"
      },
      "execution_count": 49,
      "outputs": []
    },
    {
      "cell_type": "code",
      "source": [
        "for sentence in sentence_list:\n",
        "  answer_print(sentence, second_transformer, tokenizer, tokenizer)\n",
        "  print()"
      ],
      "metadata": {
        "colab": {
          "base_uri": "https://localhost:8080/"
        },
        "id": "aNGMZ9V8h562",
        "outputId": "c9dd1a44-999a-41db-97cd-df1a50cb5545"
      },
      "execution_count": 50,
      "outputs": [
        {
          "output_type": "stream",
          "name": "stdout",
          "text": [
            "Input: 지루하다, 놀러가고 싶어.\n",
            "Predicted Answer: 사랑 이 게 제일 다니 지\n",
            "\n",
            "Input: 오늘 일찍 일어났더니 피곤하다.\n",
            "Predicted Answer: 나 아침 없이 잘 아 하 는 것 같 음 ?\n",
            "\n",
            "Input: 간만에 여자친구랑 데이트 하기로 했어.\n",
            "Predicted Answer: 매일 여자 친구 의 사친 이 뭐 가 잘 하 지 .\n",
            "\n",
            "Input: 집에 있는다는 소리야.\n",
            "Predicted Answer: 스테이크 먹 고 싶 다\n",
            "\n"
          ]
        }
      ]
    },
    {
      "cell_type": "code",
      "source": [
        "eval_bleu(enc_test[:3], dec_test[:3], second_transformer, True)"
      ],
      "metadata": {
        "colab": {
          "base_uri": "https://localhost:8080/",
          "height": 361,
          "referenced_widgets": [
            "68cc9076b9af43c2824f63ead7b28199",
            "1b4faaf7ccb243e79a14b0aef72a20d1",
            "aaf4cb360af04371b3a3de0d1c036db9",
            "d2ad6e555a9b4e86868d88d9ac8a59ad",
            "ecbe00276adf47c49dd8d8b85e5e8fe2",
            "d392a13f0a4e414194f7562ac38babd3",
            "382b9b1ece934229b00b5bd46291a18f",
            "78d885017426437a953db777e27bc551",
            "9adc1f67710c4279a9327e826c3efe90",
            "1eb9d8436c36489f83c11238eefe2fc7",
            "152e58db3c8641738a2db1cb3a995e47"
          ]
        },
        "id": "M4f8aFwch_a6",
        "outputId": "d329673b-5dac-45f8-f4a3-978d124532e9"
      },
      "execution_count": 51,
      "outputs": [
        {
          "output_type": "display_data",
          "data": {
            "text/plain": [
              "  0%|          | 0/3 [00:00<?, ?it/s]"
            ],
            "application/vnd.jupyter.widget-view+json": {
              "version_major": 2,
              "version_minor": 0,
              "model_id": "68cc9076b9af43c2824f63ead7b28199"
            }
          },
          "metadata": {}
        },
        {
          "output_type": "stream",
          "name": "stdout",
          "text": [
            "Source Sentence:  자신 하 고 만나 는 분 도 중요 해요 .\n",
            "Model Prediction:  누굴 만나 는 것 도 귀찮 아\n",
            "Real Answer:  누굴 만나 는 것 도 귀찮 아\n",
            "Score: 1.000000\n",
            "\n",
            "Source Sentence:  시 달리\n",
            "Model Prediction:  이 별 이 .\n",
            "Real Answer:  새 출발\n",
            "Score: 0.000000\n",
            "\n",
            "Source Sentence:  좋 은 마무리 가 되 었 길 바랍니다 .\n",
            "Model Prediction:  4 년 을 엊그제 마무리 했 습니다\n",
            "Real Answer:  4 9 을 엊그제 마무리 했 습니다\n",
            "Score: 0.643459\n",
            "\n",
            "Num of Sample: 3\n",
            "Total Score: 0.5478196280535873\n"
          ]
        }
      ]
    },
    {
      "cell_type": "code",
      "source": [
        "eval_bleu(enc_test, dec_test, second_transformer, False)"
      ],
      "metadata": {
        "colab": {
          "base_uri": "https://localhost:8080/",
          "height": 86,
          "referenced_widgets": [
            "8bf5b39b447f43a6b88e331e695ed69d",
            "254fc6b2be344cc2aad31ae12c971818",
            "e95b52b7eb39479c9e59e86e1228a8c2",
            "8dfd1821451b44079f2eafb03662f81b",
            "e7d802a1f7504409ac7743145e2e19d0",
            "7883aa10c2b14366adf279501adfd335",
            "6b6365735524428b961af4774a7126d2",
            "7c547b116ad845cba6cc3ce0f260eddf",
            "19f50364ff5d45a094f6f87121cb242b",
            "76586fdfb7444f7fa14f1cd3f5028df0",
            "299f25bdef644e9db7c01d791ddcdeff"
          ]
        },
        "id": "ebFxuQuZh_lr",
        "outputId": "8695336a-3611-4bfa-e974-1d26cc53c22a"
      },
      "execution_count": 52,
      "outputs": [
        {
          "output_type": "display_data",
          "data": {
            "text/plain": [
              "  0%|          | 0/512 [00:00<?, ?it/s]"
            ],
            "application/vnd.jupyter.widget-view+json": {
              "version_major": 2,
              "version_minor": 0,
              "model_id": "8bf5b39b447f43a6b88e331e695ed69d"
            }
          },
          "metadata": {}
        },
        {
          "output_type": "stream",
          "name": "stdout",
          "text": [
            "Num of Sample: 512\n",
            "Total Score: 0.5141685911207127\n"
          ]
        }
      ]
    },
    {
      "cell_type": "markdown",
      "source": [
        ""
      ],
      "metadata": {
        "id": "Owp7jzWsWJhN"
      }
    },
    {
      "cell_type": "markdown",
      "source": [
        "#최종 모델"
      ],
      "metadata": {
        "id": "4z1L8fMDr8WQ"
      }
    },
    {
      "cell_type": "code",
      "source": [
        "CSS = \"\"\".output {flex-direction: row;}\"\"\"\n",
        "HTML('<style>{}</style>'.format(CSS))\n",
        "\n",
        "reorderlist = ['Encoder & Decoder Layer', 'Model Dimension', 'Feedforwad Hidden Layer', 'Feedforward Network Dimension',\n",
        "               'Normalization Layer', 'Tokenizer', 'SRC Vocab Size', 'TGT Vocab Size', 'POS Length', 'Text Max Length',\n",
        "               'Dropout Rate', 'Shared FC', 'Shared EMB', 'Learning Rate', 'Optimizer', 'Activation Function',\n",
        "               'Loss Function', 'Epoch', 'Batch Size']\n",
        "\n",
        "final_hyperparameter = pd.DataFrame({'Final Model':{'Encoder & Decoder Layer':2, 'Model Dimension':1024,\n",
        "                                     'Feedforwad Hidden Layer':8, 'Feedforward Network Dimension':4096,\n",
        "                                     'Normalization Layer':'Pre-LN', 'Tokenizer':'MeCab',\n",
        "                                     'SRC Vocab Size':20000, 'TGT Vocab Size':20000,\n",
        "                                     'POS Length':200, 'Text Max Length':40, 'Dropout Rate':0.3,\n",
        "                                     'Shared FC': 'True', 'Shared EMB': 'True',\n",
        "                                     'Learning Rate':'Scheduler', 'Optimizer':'Adam', 'Activation Function':'Relu',\n",
        "                                     'Loss Function':'Sparse Categorical Crossentropy', 'Epoch':5, 'Batch Size':256}})\n",
        "\n",
        "final_hyperparameter = final_hyperparameter.iloc[pd.Categorical(final_hyperparameter.index,reorderlist).argsort()]\n",
        "\n",
        "final_model_loss_df = pd.read_csv(\"/content/drive/MyDrive/lms/transformer_chatbot/second_model_loss.csv\")\n",
        "final_model_loss_df.to_csv(\"/content/drive/MyDrive/lms/transformer_chatbot/final_model_loss.csv\", index = False)\n",
        "\n",
        "with pd.option_context('display.max_rows',None):\n",
        "  display(final_hyperparameter)\n",
        "print(\"\\n\")\n",
        "display(final_model_loss_df)\n",
        "print(\"\\n\")\n",
        "\n",
        "plt.figure(figsize=[12, 4])\n",
        "plt.plot(final_model_loss_df['Loss'] , label=\"Loss\")\n",
        "plt.legend()\n",
        "plt.title('Loss')\n",
        "plt.xlabel('Epoch')\n",
        "plt.ylabel('Value')\n",
        "plt.show()\n",
        "print(\"\\n\")\n",
        "\n",
        "for sentence in sentence_list:\n",
        "  answer_print(sentence, second_transformer, tokenizer, tokenizer)\n",
        "  print()\n",
        "print(\"\\n\")\n",
        "eval_bleu(enc_test, dec_test, second_transformer, False)"
      ],
      "metadata": {
        "colab": {
          "base_uri": "https://localhost:8080/",
          "height": 1000,
          "referenced_widgets": [
            "040e8f3caee843b0b9eb29746e238038",
            "8fd26183a4db457bbeddb96c75a6fe71",
            "090c5ffdc8954b6d83d4cf19529705f8",
            "b61621c23e024a0aab3df9c275c812ac",
            "19fb2e28ca6441d3af50b12f9e8ca2d9",
            "c57ad8be6a3246b3beccb26d0ea3168c",
            "76e911f2087f483194b495a8c258c43a",
            "2d73dda6860044a0a70a38d83723c6d7",
            "24b9da17e7554a60bd835b60c21e4deb",
            "01852ed2f318445e90e187a8645b4810",
            "9afcb48f3c3d44489516f20012396bd5"
          ]
        },
        "id": "pZUcd1k8r_Sr",
        "outputId": "b95cbf45-4215-44ce-b3b3-accf00987e6c"
      },
      "execution_count": 54,
      "outputs": [
        {
          "output_type": "display_data",
          "data": {
            "text/plain": [
              "                                                   Final Model\n",
              "Encoder & Decoder Layer                                      2\n",
              "Model Dimension                                           1024\n",
              "Feedforwad Hidden Layer                                      8\n",
              "Feedforward Network Dimension                             4096\n",
              "Normalization Layer                                     Pre-LN\n",
              "Tokenizer                                                MeCab\n",
              "SRC Vocab Size                                           20000\n",
              "TGT Vocab Size                                           20000\n",
              "POS Length                                                 200\n",
              "Text Max Length                                             40\n",
              "Dropout Rate                                               0.3\n",
              "Shared FC                                                 True\n",
              "Shared EMB                                                True\n",
              "Learning Rate                                        Scheduler\n",
              "Optimizer                                                 Adam\n",
              "Activation Function                                       Relu\n",
              "Loss Function                  Sparse Categorical Crossentropy\n",
              "Epoch                                                        5\n",
              "Batch Size                                                 256"
            ],
            "text/html": [
              "\n",
              "  <div id=\"df-5e285326-6162-47ac-9bf0-fcde5a6b225e\">\n",
              "    <div class=\"colab-df-container\">\n",
              "      <div>\n",
              "<style scoped>\n",
              "    .dataframe tbody tr th:only-of-type {\n",
              "        vertical-align: middle;\n",
              "    }\n",
              "\n",
              "    .dataframe tbody tr th {\n",
              "        vertical-align: top;\n",
              "    }\n",
              "\n",
              "    .dataframe thead th {\n",
              "        text-align: right;\n",
              "    }\n",
              "</style>\n",
              "<table border=\"1\" class=\"dataframe\">\n",
              "  <thead>\n",
              "    <tr style=\"text-align: right;\">\n",
              "      <th></th>\n",
              "      <th>Final Model</th>\n",
              "    </tr>\n",
              "  </thead>\n",
              "  <tbody>\n",
              "    <tr>\n",
              "      <th>Encoder &amp; Decoder Layer</th>\n",
              "      <td>2</td>\n",
              "    </tr>\n",
              "    <tr>\n",
              "      <th>Model Dimension</th>\n",
              "      <td>1024</td>\n",
              "    </tr>\n",
              "    <tr>\n",
              "      <th>Feedforwad Hidden Layer</th>\n",
              "      <td>8</td>\n",
              "    </tr>\n",
              "    <tr>\n",
              "      <th>Feedforward Network Dimension</th>\n",
              "      <td>4096</td>\n",
              "    </tr>\n",
              "    <tr>\n",
              "      <th>Normalization Layer</th>\n",
              "      <td>Pre-LN</td>\n",
              "    </tr>\n",
              "    <tr>\n",
              "      <th>Tokenizer</th>\n",
              "      <td>MeCab</td>\n",
              "    </tr>\n",
              "    <tr>\n",
              "      <th>SRC Vocab Size</th>\n",
              "      <td>20000</td>\n",
              "    </tr>\n",
              "    <tr>\n",
              "      <th>TGT Vocab Size</th>\n",
              "      <td>20000</td>\n",
              "    </tr>\n",
              "    <tr>\n",
              "      <th>POS Length</th>\n",
              "      <td>200</td>\n",
              "    </tr>\n",
              "    <tr>\n",
              "      <th>Text Max Length</th>\n",
              "      <td>40</td>\n",
              "    </tr>\n",
              "    <tr>\n",
              "      <th>Dropout Rate</th>\n",
              "      <td>0.3</td>\n",
              "    </tr>\n",
              "    <tr>\n",
              "      <th>Shared FC</th>\n",
              "      <td>True</td>\n",
              "    </tr>\n",
              "    <tr>\n",
              "      <th>Shared EMB</th>\n",
              "      <td>True</td>\n",
              "    </tr>\n",
              "    <tr>\n",
              "      <th>Learning Rate</th>\n",
              "      <td>Scheduler</td>\n",
              "    </tr>\n",
              "    <tr>\n",
              "      <th>Optimizer</th>\n",
              "      <td>Adam</td>\n",
              "    </tr>\n",
              "    <tr>\n",
              "      <th>Activation Function</th>\n",
              "      <td>Relu</td>\n",
              "    </tr>\n",
              "    <tr>\n",
              "      <th>Loss Function</th>\n",
              "      <td>Sparse Categorical Crossentropy</td>\n",
              "    </tr>\n",
              "    <tr>\n",
              "      <th>Epoch</th>\n",
              "      <td>5</td>\n",
              "    </tr>\n",
              "    <tr>\n",
              "      <th>Batch Size</th>\n",
              "      <td>256</td>\n",
              "    </tr>\n",
              "  </tbody>\n",
              "</table>\n",
              "</div>\n",
              "      <button class=\"colab-df-convert\" onclick=\"convertToInteractive('df-5e285326-6162-47ac-9bf0-fcde5a6b225e')\"\n",
              "              title=\"Convert this dataframe to an interactive table.\"\n",
              "              style=\"display:none;\">\n",
              "        \n",
              "  <svg xmlns=\"http://www.w3.org/2000/svg\" height=\"24px\"viewBox=\"0 0 24 24\"\n",
              "       width=\"24px\">\n",
              "    <path d=\"M0 0h24v24H0V0z\" fill=\"none\"/>\n",
              "    <path d=\"M18.56 5.44l.94 2.06.94-2.06 2.06-.94-2.06-.94-.94-2.06-.94 2.06-2.06.94zm-11 1L8.5 8.5l.94-2.06 2.06-.94-2.06-.94L8.5 2.5l-.94 2.06-2.06.94zm10 10l.94 2.06.94-2.06 2.06-.94-2.06-.94-.94-2.06-.94 2.06-2.06.94z\"/><path d=\"M17.41 7.96l-1.37-1.37c-.4-.4-.92-.59-1.43-.59-.52 0-1.04.2-1.43.59L10.3 9.45l-7.72 7.72c-.78.78-.78 2.05 0 2.83L4 21.41c.39.39.9.59 1.41.59.51 0 1.02-.2 1.41-.59l7.78-7.78 2.81-2.81c.8-.78.8-2.07 0-2.86zM5.41 20L4 18.59l7.72-7.72 1.47 1.35L5.41 20z\"/>\n",
              "  </svg>\n",
              "      </button>\n",
              "      \n",
              "  <style>\n",
              "    .colab-df-container {\n",
              "      display:flex;\n",
              "      flex-wrap:wrap;\n",
              "      gap: 12px;\n",
              "    }\n",
              "\n",
              "    .colab-df-convert {\n",
              "      background-color: #E8F0FE;\n",
              "      border: none;\n",
              "      border-radius: 50%;\n",
              "      cursor: pointer;\n",
              "      display: none;\n",
              "      fill: #1967D2;\n",
              "      height: 32px;\n",
              "      padding: 0 0 0 0;\n",
              "      width: 32px;\n",
              "    }\n",
              "\n",
              "    .colab-df-convert:hover {\n",
              "      background-color: #E2EBFA;\n",
              "      box-shadow: 0px 1px 2px rgba(60, 64, 67, 0.3), 0px 1px 3px 1px rgba(60, 64, 67, 0.15);\n",
              "      fill: #174EA6;\n",
              "    }\n",
              "\n",
              "    [theme=dark] .colab-df-convert {\n",
              "      background-color: #3B4455;\n",
              "      fill: #D2E3FC;\n",
              "    }\n",
              "\n",
              "    [theme=dark] .colab-df-convert:hover {\n",
              "      background-color: #434B5C;\n",
              "      box-shadow: 0px 1px 3px 1px rgba(0, 0, 0, 0.15);\n",
              "      filter: drop-shadow(0px 1px 2px rgba(0, 0, 0, 0.3));\n",
              "      fill: #FFFFFF;\n",
              "    }\n",
              "  </style>\n",
              "\n",
              "      <script>\n",
              "        const buttonEl =\n",
              "          document.querySelector('#df-5e285326-6162-47ac-9bf0-fcde5a6b225e button.colab-df-convert');\n",
              "        buttonEl.style.display =\n",
              "          google.colab.kernel.accessAllowed ? 'block' : 'none';\n",
              "\n",
              "        async function convertToInteractive(key) {\n",
              "          const element = document.querySelector('#df-5e285326-6162-47ac-9bf0-fcde5a6b225e');\n",
              "          const dataTable =\n",
              "            await google.colab.kernel.invokeFunction('convertToInteractive',\n",
              "                                                     [key], {});\n",
              "          if (!dataTable) return;\n",
              "\n",
              "          const docLinkHtml = 'Like what you see? Visit the ' +\n",
              "            '<a target=\"_blank\" href=https://colab.research.google.com/notebooks/data_table.ipynb>data table notebook</a>'\n",
              "            + ' to learn more about interactive tables.';\n",
              "          element.innerHTML = '';\n",
              "          dataTable['output_type'] = 'display_data';\n",
              "          await google.colab.output.renderOutput(dataTable, element);\n",
              "          const docLink = document.createElement('div');\n",
              "          docLink.innerHTML = docLinkHtml;\n",
              "          element.appendChild(docLink);\n",
              "        }\n",
              "      </script>\n",
              "    </div>\n",
              "  </div>\n",
              "  "
            ]
          },
          "metadata": {}
        },
        {
          "output_type": "stream",
          "name": "stdout",
          "text": [
            "\n",
            "\n"
          ]
        },
        {
          "output_type": "display_data",
          "data": {
            "text/plain": [
              "   Epoch    Loss\n",
              "0      1  6.9304\n",
              "1      2  4.4701\n",
              "2      3  2.7813\n",
              "3      4  1.2323\n",
              "4      5  0.6806"
            ],
            "text/html": [
              "\n",
              "  <div id=\"df-72a94f41-2903-4d6f-94e6-c60345133a55\">\n",
              "    <div class=\"colab-df-container\">\n",
              "      <div>\n",
              "<style scoped>\n",
              "    .dataframe tbody tr th:only-of-type {\n",
              "        vertical-align: middle;\n",
              "    }\n",
              "\n",
              "    .dataframe tbody tr th {\n",
              "        vertical-align: top;\n",
              "    }\n",
              "\n",
              "    .dataframe thead th {\n",
              "        text-align: right;\n",
              "    }\n",
              "</style>\n",
              "<table border=\"1\" class=\"dataframe\">\n",
              "  <thead>\n",
              "    <tr style=\"text-align: right;\">\n",
              "      <th></th>\n",
              "      <th>Epoch</th>\n",
              "      <th>Loss</th>\n",
              "    </tr>\n",
              "  </thead>\n",
              "  <tbody>\n",
              "    <tr>\n",
              "      <th>0</th>\n",
              "      <td>1</td>\n",
              "      <td>6.9304</td>\n",
              "    </tr>\n",
              "    <tr>\n",
              "      <th>1</th>\n",
              "      <td>2</td>\n",
              "      <td>4.4701</td>\n",
              "    </tr>\n",
              "    <tr>\n",
              "      <th>2</th>\n",
              "      <td>3</td>\n",
              "      <td>2.7813</td>\n",
              "    </tr>\n",
              "    <tr>\n",
              "      <th>3</th>\n",
              "      <td>4</td>\n",
              "      <td>1.2323</td>\n",
              "    </tr>\n",
              "    <tr>\n",
              "      <th>4</th>\n",
              "      <td>5</td>\n",
              "      <td>0.6806</td>\n",
              "    </tr>\n",
              "  </tbody>\n",
              "</table>\n",
              "</div>\n",
              "      <button class=\"colab-df-convert\" onclick=\"convertToInteractive('df-72a94f41-2903-4d6f-94e6-c60345133a55')\"\n",
              "              title=\"Convert this dataframe to an interactive table.\"\n",
              "              style=\"display:none;\">\n",
              "        \n",
              "  <svg xmlns=\"http://www.w3.org/2000/svg\" height=\"24px\"viewBox=\"0 0 24 24\"\n",
              "       width=\"24px\">\n",
              "    <path d=\"M0 0h24v24H0V0z\" fill=\"none\"/>\n",
              "    <path d=\"M18.56 5.44l.94 2.06.94-2.06 2.06-.94-2.06-.94-.94-2.06-.94 2.06-2.06.94zm-11 1L8.5 8.5l.94-2.06 2.06-.94-2.06-.94L8.5 2.5l-.94 2.06-2.06.94zm10 10l.94 2.06.94-2.06 2.06-.94-2.06-.94-.94-2.06-.94 2.06-2.06.94z\"/><path d=\"M17.41 7.96l-1.37-1.37c-.4-.4-.92-.59-1.43-.59-.52 0-1.04.2-1.43.59L10.3 9.45l-7.72 7.72c-.78.78-.78 2.05 0 2.83L4 21.41c.39.39.9.59 1.41.59.51 0 1.02-.2 1.41-.59l7.78-7.78 2.81-2.81c.8-.78.8-2.07 0-2.86zM5.41 20L4 18.59l7.72-7.72 1.47 1.35L5.41 20z\"/>\n",
              "  </svg>\n",
              "      </button>\n",
              "      \n",
              "  <style>\n",
              "    .colab-df-container {\n",
              "      display:flex;\n",
              "      flex-wrap:wrap;\n",
              "      gap: 12px;\n",
              "    }\n",
              "\n",
              "    .colab-df-convert {\n",
              "      background-color: #E8F0FE;\n",
              "      border: none;\n",
              "      border-radius: 50%;\n",
              "      cursor: pointer;\n",
              "      display: none;\n",
              "      fill: #1967D2;\n",
              "      height: 32px;\n",
              "      padding: 0 0 0 0;\n",
              "      width: 32px;\n",
              "    }\n",
              "\n",
              "    .colab-df-convert:hover {\n",
              "      background-color: #E2EBFA;\n",
              "      box-shadow: 0px 1px 2px rgba(60, 64, 67, 0.3), 0px 1px 3px 1px rgba(60, 64, 67, 0.15);\n",
              "      fill: #174EA6;\n",
              "    }\n",
              "\n",
              "    [theme=dark] .colab-df-convert {\n",
              "      background-color: #3B4455;\n",
              "      fill: #D2E3FC;\n",
              "    }\n",
              "\n",
              "    [theme=dark] .colab-df-convert:hover {\n",
              "      background-color: #434B5C;\n",
              "      box-shadow: 0px 1px 3px 1px rgba(0, 0, 0, 0.15);\n",
              "      filter: drop-shadow(0px 1px 2px rgba(0, 0, 0, 0.3));\n",
              "      fill: #FFFFFF;\n",
              "    }\n",
              "  </style>\n",
              "\n",
              "      <script>\n",
              "        const buttonEl =\n",
              "          document.querySelector('#df-72a94f41-2903-4d6f-94e6-c60345133a55 button.colab-df-convert');\n",
              "        buttonEl.style.display =\n",
              "          google.colab.kernel.accessAllowed ? 'block' : 'none';\n",
              "\n",
              "        async function convertToInteractive(key) {\n",
              "          const element = document.querySelector('#df-72a94f41-2903-4d6f-94e6-c60345133a55');\n",
              "          const dataTable =\n",
              "            await google.colab.kernel.invokeFunction('convertToInteractive',\n",
              "                                                     [key], {});\n",
              "          if (!dataTable) return;\n",
              "\n",
              "          const docLinkHtml = 'Like what you see? Visit the ' +\n",
              "            '<a target=\"_blank\" href=https://colab.research.google.com/notebooks/data_table.ipynb>data table notebook</a>'\n",
              "            + ' to learn more about interactive tables.';\n",
              "          element.innerHTML = '';\n",
              "          dataTable['output_type'] = 'display_data';\n",
              "          await google.colab.output.renderOutput(dataTable, element);\n",
              "          const docLink = document.createElement('div');\n",
              "          docLink.innerHTML = docLinkHtml;\n",
              "          element.appendChild(docLink);\n",
              "        }\n",
              "      </script>\n",
              "    </div>\n",
              "  </div>\n",
              "  "
            ]
          },
          "metadata": {}
        },
        {
          "output_type": "stream",
          "name": "stdout",
          "text": [
            "\n",
            "\n"
          ]
        },
        {
          "output_type": "display_data",
          "data": {
            "text/plain": [
              "<Figure size 864x288 with 1 Axes>"
            ],
            "image/png": "[encoded data removed]"
          },
          "metadata": {
            "image/png": {
              "width": 710,
              "height": 277
            },
            "needs_background": "light"
          }
        },
        {
          "output_type": "stream",
          "name": "stdout",
          "text": [
            "\n",
            "\n",
            "Input: 지루하다, 놀러가고 싶어.\n",
            "Predicted Answer: 사랑 이 게 제일 다니 지\n",
            "\n",
            "Input: 오늘 일찍 일어났더니 피곤하다.\n",
            "Predicted Answer: 나 아침 없이 잘 아 하 는 것 같 음 ?\n",
            "\n",
            "Input: 간만에 여자친구랑 데이트 하기로 했어.\n",
            "Predicted Answer: 매일 여자 친구 의 사친 이 뭐 가 잘 하 지 .\n",
            "\n",
            "Input: 집에 있는다는 소리야.\n",
            "Predicted Answer: 스테이크 먹 고 싶 다\n",
            "\n",
            "\n",
            "\n"
          ]
        },
        {
          "output_type": "display_data",
          "data": {
            "text/plain": [
              "  0%|          | 0/512 [00:00<?, ?it/s]"
            ],
            "application/vnd.jupyter.widget-view+json": {
              "version_major": 2,
              "version_minor": 0,
              "model_id": "040e8f3caee843b0b9eb29746e238038"
            }
          },
          "metadata": {}
        },
        {
          "output_type": "stream",
          "name": "stdout",
          "text": [
            "Num of Sample: 512\n",
            "Total Score: 0.5141685911207127\n"
          ]
        }
      ]
    },
    {
      "cell_type": "markdown",
      "source": [
        "<br/>"
      ],
      "metadata": {
        "id": "RaPflTZZV92c"
      }
    },
    {
      "cell_type": "markdown",
      "source": [
        "#결론"
      ],
      "metadata": {
        "id": "DHVHXKwENBOJ"
      }
    },
    {
      "cell_type": "markdown",
      "source": [
        "**하이퍼파라미터**"
      ],
      "metadata": {
        "id": "N9xIVNjbNtWg"
      }
    },
    {
      "cell_type": "markdown",
      "source": [
        "임베딩 차원의 깊이에 따라 모델의 성능이 어떻게 달라지는지 알고 싶다.\n",
        "<br/>워드 임베딩 하이퍼파라미터에 대한 공부의 필요성을 느낀다."
      ],
      "metadata": {
        "id": "7k7nGXzgAmmS"
      }
    },
    {
      "cell_type": "markdown",
      "source": [
        ""
      ],
      "metadata": {
        "id": "6kZDy-i2WOIc"
      }
    },
    {
      "cell_type": "markdown",
      "source": [
        "**워드 임베딩**"
      ],
      "metadata": {
        "id": "leTlaL0YMKWq"
      }
    },
    {
      "cell_type": "markdown",
      "source": [
        "Word2Vec, Glove, FastText의 방식에 따라 Word Vector를 시각화했을 때\n",
        "<br/>동일한 단어를 입력했음에도 서로 다른 모습의 PCA Scatter Plot을 출력한다.\n",
        "<br/>Word2Vec, Glove, FastText 텐서 연산 방법의 차이에 대한 공부의 필요성을 느낀다."
      ],
      "metadata": {
        "id": "Js2G8H65MQVx"
      }
    },
    {
      "cell_type": "markdown",
      "source": [
        ""
      ],
      "metadata": {
        "id": "yssnsz1zbyc2"
      }
    },
    {
      "cell_type": "markdown",
      "source": [
        "**데이터 병합**"
      ],
      "metadata": {
        "id": "ZZturLtObykM"
      }
    },
    {
      "cell_type": "markdown",
      "source": [
        "Augmented 데이터를 병합하면서 순서가 뒤섞였다.\n",
        "<br/>이에 따라 가나다순으로 정렬시켰다.\n",
        "<br/>구조적으로 접근하여 데이터 병합을 하는 방법에 대한 공부의 필요성을 느낀다."
      ],
      "metadata": {
        "id": "YSQPgMn1bwww"
      }
    },
    {
      "cell_type": "markdown",
      "source": [
        ""
      ],
      "metadata": {
        "id": "muEO_qmIcqOl"
      }
    },
    {
      "cell_type": "markdown",
      "source": [
        "**연구자의 주관**"
      ],
      "metadata": {
        "id": "Q2a7Cx0ucrRc"
      }
    },
    {
      "cell_type": "markdown",
      "source": [
        "Data Agumentation 이후 특수기호 .-_-; +& 등이 생겨났다.\n",
        "<br/>Word Vector 모델 제작자가 의도하여 인터넷에서 사용하는 특수기호(이모티콘 등)을 포함시킨 것이다.\n",
        "<br/>Word Vector 연구자의 주관은 어떤 면에서 타당한 것인가.\n",
        "<br/>그 의도는 자신이 제작한 Word Vector 모델의 특수성을 만들어냈다.\n",
        "<br/>그 특수성은 어떻게 과학적으로 입증이 가능한가."
      ],
      "metadata": {
        "id": "4EIzHNRZcqX2"
      }
    },
    {
      "cell_type": "markdown",
      "source": [
        "<br/>"
      ],
      "metadata": {
        "id": "N8XiIJzCWAAr"
      }
    },
    {
      "cell_type": "markdown",
      "source": [
        "#참고문헌"
      ],
      "metadata": {
        "id": "SI6CJbIWNBnQ"
      }
    },
    {
      "cell_type": "markdown",
      "source": [
        "**LMS**\n",
        "<br/>[dev-sngwn](https://github.com/dev-sngwn)\n",
        "\n",
        "<br/>**단행본**\n",
        "<br/>유원준 외 1명, 『딥러닝을 이용한 자연어 처리 입문』, Wikidocs, 2022\n",
        "<br/>[사전 훈련된 워드 임베딩(Pre-trained Word Embedding)](https://wikidocs.net/33793)\n",
        "\n",
        "<br/>**공식 사이트**\n",
        "<br/>Stanford University CS224n\n",
        "<br/>[Gensim word vector visualization of various word vectors](https://web.stanford.edu/class/cs224n/materials/Gensim%20word%20vector%20visualization.html)\n",
        "\n",
        "<br/>**깃허브**\n",
        "<br/>songys\n",
        "<br/>[Chatbot data for Korean v1.0](https://github.com/songys/Chatbot_data)\n",
        "<br/><br/>Kyubyong\n",
        "<br/>[Pre-trained word vectors of 30+ languages](https://github.com/Kyubyong/wordvectors)\n",
        "<br/>[Pre-trained Korean Word2Vec model](https://drive.google.com/file/d/0B0ZXk88koS2KbDhXdWg1Q2RydlU/view?resourcekey=0-Dq9yyzwZxAqT3J02qvnFwg)\n",
        "<br/><br/>ratsgo\n",
        "<br/>[단어 임베딩 데이터 다운로드](https://ratsgo.github.io/embedding/downloaddata.html)\n",
        "<br/><br/>yeoooo\n",
        "<br/>[(GD6)BLEU_Score_yeoooo_2021-05-07.ipynb](https://github.com/yeoooo/Aiffel/blob/master/(GD6)BLEU_Score_yeoooo_2021-05-07.ipynb)\n",
        "<br/><br/>suheeeee\n",
        "<br/>[GD_NLP_6_transformer_chatbot.ipynb](https://github.com/suheeeee/my_deeplearning_project/blob/main/going_deeper/GD_NLP_6_transformer_chatbot.ipynb)\n",
        "\n",
        "<br/>**웹사이트**\n",
        "<br/>[다음 카페 사랑보다 아름다운 실연](http://cafe116.daum.net/_c21_/home?grpid=1bld)\n",
        "<br/>[형용사모음, 다양한 형용사모음 준비했습니다](https://m.post.naver.com/viewer/postView.naver?volumeNo=32582245&memberNo=28172842)\n",
        "<br/>[Load Pretrained glove vectors in python](https://stackoverflow.com/questions/37793118/load-pretrained-glove-vectors-in-python)\n",
        "<br/>[python how to write list of lists to file](https://stackoverflow.com/questions/30711899/python-how-to-write-list-of-lists-to-file)\n",
        "<br/>[python  Gensim을 사용하여 Python에서 Word 임베딩을 개발하는 방법](https://ngio.co.kr/9518)\n",
        "<br/>[파이썬 print 문 출력결과 가지고 놀기](https://light-tree.tistory.com/109)\n",
        "<br/>[Reading a list of lists from a file as list of lists in python](https://stackoverflow.com/questions/10294310/reading-a-list-of-lists-from-a-file-as-list-of-lists-in-python)\n",
        "<br/>[python 에러: 'list' object is not callable](https://janeljs.github.io/python/not-callable/)\n",
        "<br/>[Python Pandas의 기존 DataFrame에 새 열 추가](https://www.delftstack.com/ko/howto/python-pandas/how-to-add-new-column-to-existing-dataframe-in-python-pandas/)\n",
        "<br/>[Python 파이썬 리스트 문자열 합치기 Join 함수](https://needneo.tistory.com/92)"
      ],
      "metadata": {
        "id": "FqqY0qsX2M3W"
      }
    }
  ]
}