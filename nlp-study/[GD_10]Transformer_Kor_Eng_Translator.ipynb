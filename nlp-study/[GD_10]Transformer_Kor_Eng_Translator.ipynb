{
  "nbformat": 4,
  "nbformat_minor": 0,
  "metadata": {
    "colab": {
      "name": "[GD_10]Transformer_Kor_Eng_Translator.ipynb",
      "provenance": [],
      "collapsed_sections": [],
      "machine_shape": "hm",
      "toc_visible": true
    },
    "kernelspec": {
      "name": "python3",
      "display_name": "Python 3"
    },
    "language_info": {
      "name": "python"
    },
    "accelerator": "GPU",
    "gpuClass": "standard",
    "widgets": {
      "application/vnd.jupyter.widget-state+json": {
        "c557d3bc3c2b4c528f90fcc4f1ec1bbe": {
          "model_module": "@jupyter-widgets/controls",
          "model_name": "HBoxModel",
          "model_module_version": "1.5.0",
          "state": {
            "_dom_classes": [],
            "_model_module": "@jupyter-widgets/controls",
            "_model_module_version": "1.5.0",
            "_model_name": "HBoxModel",
            "_view_count": null,
            "_view_module": "@jupyter-widgets/controls",
            "_view_module_version": "1.5.0",
            "_view_name": "HBoxView",
            "box_style": "",
            "children": [
              "IPY_MODEL_e17dc9e527cb4e369dd184db61ca9f22",
              "IPY_MODEL_84b7be5a188f451db2a97bdfe0cd07a0",
              "IPY_MODEL_0bc8b4eafb8c4c7ca8cb20aeb204a57a"
            ],
            "layout": "IPY_MODEL_9ad5b162016b4c39b4fbb6fe74147d86"
          }
        },
        "e17dc9e527cb4e369dd184db61ca9f22": {
          "model_module": "@jupyter-widgets/controls",
          "model_name": "HTMLModel",
          "model_module_version": "1.5.0",
          "state": {
            "_dom_classes": [],
            "_model_module": "@jupyter-widgets/controls",
            "_model_module_version": "1.5.0",
            "_model_name": "HTMLModel",
            "_view_count": null,
            "_view_module": "@jupyter-widgets/controls",
            "_view_module_version": "1.5.0",
            "_view_name": "HTMLView",
            "description": "",
            "description_tooltip": null,
            "layout": "IPY_MODEL_c05bd3a1c84140b0896934c7d81314cc",
            "placeholder": "​",
            "style": "IPY_MODEL_37f36c17d1f247a3bac2235fdb054eb7",
            "value": "100%"
          }
        },
        "84b7be5a188f451db2a97bdfe0cd07a0": {
          "model_module": "@jupyter-widgets/controls",
          "model_name": "FloatProgressModel",
          "model_module_version": "1.5.0",
          "state": {
            "_dom_classes": [],
            "_model_module": "@jupyter-widgets/controls",
            "_model_module_version": "1.5.0",
            "_model_name": "FloatProgressModel",
            "_view_count": null,
            "_view_module": "@jupyter-widgets/controls",
            "_view_module_version": "1.5.0",
            "_view_name": "ProgressView",
            "bar_style": "success",
            "description": "",
            "description_tooltip": null,
            "layout": "IPY_MODEL_9e676c880a404d79931ab5978c856b55",
            "max": 74454,
            "min": 0,
            "orientation": "horizontal",
            "style": "IPY_MODEL_69fe6044989940dd9dc0918d58705e7a",
            "value": 74454
          }
        },
        "0bc8b4eafb8c4c7ca8cb20aeb204a57a": {
          "model_module": "@jupyter-widgets/controls",
          "model_name": "HTMLModel",
          "model_module_version": "1.5.0",
          "state": {
            "_dom_classes": [],
            "_model_module": "@jupyter-widgets/controls",
            "_model_module_version": "1.5.0",
            "_model_name": "HTMLModel",
            "_view_count": null,
            "_view_module": "@jupyter-widgets/controls",
            "_view_module_version": "1.5.0",
            "_view_name": "HTMLView",
            "description": "",
            "description_tooltip": null,
            "layout": "IPY_MODEL_43cbba88b77d4b77b2a18d6c95e24dc7",
            "placeholder": "​",
            "style": "IPY_MODEL_840f849ab8134d28b1ec031f8bcf01d2",
            "value": " 74454/74454 [00:04&lt;00:00, 19316.93it/s]"
          }
        },
        "9ad5b162016b4c39b4fbb6fe74147d86": {
          "model_module": "@jupyter-widgets/base",
          "model_name": "LayoutModel",
          "model_module_version": "1.2.0",
          "state": {
            "_model_module": "@jupyter-widgets/base",
            "_model_module_version": "1.2.0",
            "_model_name": "LayoutModel",
            "_view_count": null,
            "_view_module": "@jupyter-widgets/base",
            "_view_module_version": "1.2.0",
            "_view_name": "LayoutView",
            "align_content": null,
            "align_items": null,
            "align_self": null,
            "border": null,
            "bottom": null,
            "display": null,
            "flex": null,
            "flex_flow": null,
            "grid_area": null,
            "grid_auto_columns": null,
            "grid_auto_flow": null,
            "grid_auto_rows": null,
            "grid_column": null,
            "grid_gap": null,
            "grid_row": null,
            "grid_template_areas": null,
            "grid_template_columns": null,
            "grid_template_rows": null,
            "height": null,
            "justify_content": null,
            "justify_items": null,
            "left": null,
            "margin": null,
            "max_height": null,
            "max_width": null,
            "min_height": null,
            "min_width": null,
            "object_fit": null,
            "object_position": null,
            "order": null,
            "overflow": null,
            "overflow_x": null,
            "overflow_y": null,
            "padding": null,
            "right": null,
            "top": null,
            "visibility": null,
            "width": null
          }
        },
        "c05bd3a1c84140b0896934c7d81314cc": {
          "model_module": "@jupyter-widgets/base",
          "model_name": "LayoutModel",
          "model_module_version": "1.2.0",
          "state": {
            "_model_module": "@jupyter-widgets/base",
            "_model_module_version": "1.2.0",
            "_model_name": "LayoutModel",
            "_view_count": null,
            "_view_module": "@jupyter-widgets/base",
            "_view_module_version": "1.2.0",
            "_view_name": "LayoutView",
            "align_content": null,
            "align_items": null,
            "align_self": null,
            "border": null,
            "bottom": null,
            "display": null,
            "flex": null,
            "flex_flow": null,
            "grid_area": null,
            "grid_auto_columns": null,
            "grid_auto_flow": null,
            "grid_auto_rows": null,
            "grid_column": null,
            "grid_gap": null,
            "grid_row": null,
            "grid_template_areas": null,
            "grid_template_columns": null,
            "grid_template_rows": null,
            "height": null,
            "justify_content": null,
            "justify_items": null,
            "left": null,
            "margin": null,
            "max_height": null,
            "max_width": null,
            "min_height": null,
            "min_width": null,
            "object_fit": null,
            "object_position": null,
            "order": null,
            "overflow": null,
            "overflow_x": null,
            "overflow_y": null,
            "padding": null,
            "right": null,
            "top": null,
            "visibility": null,
            "width": null
          }
        },
        "37f36c17d1f247a3bac2235fdb054eb7": {
          "model_module": "@jupyter-widgets/controls",
          "model_name": "DescriptionStyleModel",
          "model_module_version": "1.5.0",
          "state": {
            "_model_module": "@jupyter-widgets/controls",
            "_model_module_version": "1.5.0",
            "_model_name": "DescriptionStyleModel",
            "_view_count": null,
            "_view_module": "@jupyter-widgets/base",
            "_view_module_version": "1.2.0",
            "_view_name": "StyleView",
            "description_width": ""
          }
        },
        "9e676c880a404d79931ab5978c856b55": {
          "model_module": "@jupyter-widgets/base",
          "model_name": "LayoutModel",
          "model_module_version": "1.2.0",
          "state": {
            "_model_module": "@jupyter-widgets/base",
            "_model_module_version": "1.2.0",
            "_model_name": "LayoutModel",
            "_view_count": null,
            "_view_module": "@jupyter-widgets/base",
            "_view_module_version": "1.2.0",
            "_view_name": "LayoutView",
            "align_content": null,
            "align_items": null,
            "align_self": null,
            "border": null,
            "bottom": null,
            "display": null,
            "flex": null,
            "flex_flow": null,
            "grid_area": null,
            "grid_auto_columns": null,
            "grid_auto_flow": null,
            "grid_auto_rows": null,
            "grid_column": null,
            "grid_gap": null,
            "grid_row": null,
            "grid_template_areas": null,
            "grid_template_columns": null,
            "grid_template_rows": null,
            "height": null,
            "justify_content": null,
            "justify_items": null,
            "left": null,
            "margin": null,
            "max_height": null,
            "max_width": null,
            "min_height": null,
            "min_width": null,
            "object_fit": null,
            "object_position": null,
            "order": null,
            "overflow": null,
            "overflow_x": null,
            "overflow_y": null,
            "padding": null,
            "right": null,
            "top": null,
            "visibility": null,
            "width": null
          }
        },
        "69fe6044989940dd9dc0918d58705e7a": {
          "model_module": "@jupyter-widgets/controls",
          "model_name": "ProgressStyleModel",
          "model_module_version": "1.5.0",
          "state": {
            "_model_module": "@jupyter-widgets/controls",
            "_model_module_version": "1.5.0",
            "_model_name": "ProgressStyleModel",
            "_view_count": null,
            "_view_module": "@jupyter-widgets/base",
            "_view_module_version": "1.2.0",
            "_view_name": "StyleView",
            "bar_color": null,
            "description_width": ""
          }
        },
        "43cbba88b77d4b77b2a18d6c95e24dc7": {
          "model_module": "@jupyter-widgets/base",
          "model_name": "LayoutModel",
          "model_module_version": "1.2.0",
          "state": {
            "_model_module": "@jupyter-widgets/base",
            "_model_module_version": "1.2.0",
            "_model_name": "LayoutModel",
            "_view_count": null,
            "_view_module": "@jupyter-widgets/base",
            "_view_module_version": "1.2.0",
            "_view_name": "LayoutView",
            "align_content": null,
            "align_items": null,
            "align_self": null,
            "border": null,
            "bottom": null,
            "display": null,
            "flex": null,
            "flex_flow": null,
            "grid_area": null,
            "grid_auto_columns": null,
            "grid_auto_flow": null,
            "grid_auto_rows": null,
            "grid_column": null,
            "grid_gap": null,
            "grid_row": null,
            "grid_template_areas": null,
            "grid_template_columns": null,
            "grid_template_rows": null,
            "height": null,
            "justify_content": null,
            "justify_items": null,
            "left": null,
            "margin": null,
            "max_height": null,
            "max_width": null,
            "min_height": null,
            "min_width": null,
            "object_fit": null,
            "object_position": null,
            "order": null,
            "overflow": null,
            "overflow_x": null,
            "overflow_y": null,
            "padding": null,
            "right": null,
            "top": null,
            "visibility": null,
            "width": null
          }
        },
        "840f849ab8134d28b1ec031f8bcf01d2": {
          "model_module": "@jupyter-widgets/controls",
          "model_name": "DescriptionStyleModel",
          "model_module_version": "1.5.0",
          "state": {
            "_model_module": "@jupyter-widgets/controls",
            "_model_module_version": "1.5.0",
            "_model_name": "DescriptionStyleModel",
            "_view_count": null,
            "_view_module": "@jupyter-widgets/base",
            "_view_module_version": "1.2.0",
            "_view_name": "StyleView",
            "description_width": ""
          }
        }
      }
    }
  },
  "cells": [
    {
      "cell_type": "markdown",
      "source": [
        "##Transformer로 번역기 만들기\n"
      ],
      "metadata": {
        "id": "gXzOW1LQVwfG"
      }
    },
    {
      "cell_type": "markdown",
      "source": [
        ""
      ],
      "metadata": {
        "id": "BYhVCz6SVxmO"
      }
    },
    {
      "cell_type": "markdown",
      "source": [
        "개발 환경\n",
        "<br/>데이터 정보\n"
      ],
      "metadata": {
        "id": "cbn_9umcV1Oe"
      }
    },
    {
      "cell_type": "markdown",
      "source": [
        "데이터 전처리\n",
        "<br/>중복 제거\n",
        "<br/>정제\n",
        "<br/>토큰화"
      ],
      "metadata": {
        "id": "sPXL-VVPFjYn"
      }
    },
    {
      "cell_type": "markdown",
      "source": [
        "모델 구성\n",
        "<br/>Transformer\n",
        "<br/>Learning Rate Schedule\n",
        "<br/>Loss Function\n",
        "<br/>Train Step\n",
        "<br/>Evaluation"
      ],
      "metadata": {
        "id": "2-5s6JdaFk8m"
      }
    },
    {
      "cell_type": "markdown",
      "source": [
        "모델 학습\n",
        "<br/>최종 모델\n",
        "<br/>모델 평가\n",
        "<br/>Random State\n",
        "<br/>결론\n",
        "<br/>참고문헌"
      ],
      "metadata": {
        "id": "PKIjCZPqFmwv"
      }
    },
    {
      "cell_type": "markdown",
      "source": [
        ""
      ],
      "metadata": {
        "id": "6USVuJwXV3Tn"
      }
    },
    {
      "cell_type": "markdown",
      "source": [
        "#개발 환경"
      ],
      "metadata": {
        "id": "cV9KjrQMVxo3"
      }
    },
    {
      "cell_type": "code",
      "source": [
        "!sudo apt-get install -y fonts-nanum\n",
        "!sudo fc-cache -fv\n",
        "!rm ~/.cache/matplotlib -rf"
      ],
      "metadata": {
        "id": "e0XTBNUgYlXW"
      },
      "execution_count": null,
      "outputs": []
    },
    {
      "cell_type": "markdown",
      "source": [
        "한글 폰트를 설치한다.\n",
        "<br/>혹시 깨짐현상이 발생하는 경우 런타임을 다시 시작하고 matplotlib 혹은 seaborn 모듈을 실행하면 한글이 출력된다."
      ],
      "metadata": {
        "id": "WpKJoIUSYm_O"
      }
    },
    {
      "cell_type": "code",
      "source": [
        "import matplotlib as mpl\n",
        "import matplotlib.pyplot as plt\n",
        "%config InlineBackend.figure_format = 'retina'\n",
        "import matplotlib.font_manager as fm\n",
        "import matplotlib.ticker as ticker"
      ],
      "metadata": {
        "id": "SbvHWQP2Yf2X"
      },
      "execution_count": null,
      "outputs": []
    },
    {
      "cell_type": "code",
      "source": [
        "font_list = [font.name for font in fm.fontManager.ttflist]\n",
        "font_list"
      ],
      "metadata": {
        "id": "I902J-niYrO_"
      },
      "execution_count": null,
      "outputs": []
    },
    {
      "cell_type": "markdown",
      "source": [
        "Google Colab에 한글 폰트가 설치되어 있는지 확인한다."
      ],
      "metadata": {
        "id": "eq8EIuhcYu_e"
      }
    },
    {
      "cell_type": "code",
      "execution_count": null,
      "metadata": {
        "id": "4h6_NebvTZVY"
      },
      "outputs": [],
      "source": [
        "fontpath = '/usr/share/fonts/truetype/nanum/NanumBarunGothic.ttf'\n",
        "font = fm.FontProperties(fname=fontpath, size=9)\n",
        "plt.rc('font', family='NanumBarunGothic') \n",
        "mpl.font_manager.findfont(font)"
      ]
    },
    {
      "cell_type": "markdown",
      "source": [
        "Attention Map을 확인하기 위해 한국어를 지원하는 폰트로 변경한다."
      ],
      "metadata": {
        "id": "m5zeq7uHY1Mf"
      }
    },
    {
      "cell_type": "code",
      "source": [
        "!pip install sentencepiece"
      ],
      "metadata": {
        "id": "ZXis23FBuz3m"
      },
      "execution_count": null,
      "outputs": []
    },
    {
      "cell_type": "code",
      "source": [
        "import os\n",
        "import io\n",
        "import time\n",
        "import random\n",
        "import warnings\n",
        "warnings.filterwarnings(action='ignore')\n",
        "from tqdm.notebook import tqdm \n",
        "from IPython.display import HTML\n",
        "from IPython.display import Image"
      ],
      "metadata": {
        "id": "syaiPvE9ZEZH"
      },
      "execution_count": null,
      "outputs": []
    },
    {
      "cell_type": "code",
      "source": [
        "import tensorflow as tf\n",
        "import pandas as pd\n",
        "import numpy as np\n",
        "import seaborn "
      ],
      "metadata": {
        "id": "a3TUOlQ0ZC4-"
      },
      "execution_count": null,
      "outputs": []
    },
    {
      "cell_type": "code",
      "source": [
        "import re\n",
        "import sentencepiece as spm"
      ],
      "metadata": {
        "id": "vREH7uDMvD1n"
      },
      "execution_count": null,
      "outputs": []
    },
    {
      "cell_type": "code",
      "source": [
        "from google.colab import drive\n",
        "drive.mount('/content/drive')"
      ],
      "metadata": {
        "id": "Y_PiHMWcVxYG"
      },
      "execution_count": null,
      "outputs": []
    },
    {
      "cell_type": "code",
      "source": [
        "pip freeze > '/content/drive/MyDrive/lms/library_version.txt'"
      ],
      "metadata": {
        "id": "_MwTbbOsXs9A"
      },
      "execution_count": null,
      "outputs": []
    },
    {
      "cell_type": "code",
      "source": [
        "library_name = ['matplotlib=', 'tqdm=', 'tensorflow=', 'pandas=', 'numpy=', \n",
        "                'seaborn=', 'regex=', 'sentencepiece=']\n",
        "library_version = []\n",
        "f = open('/content/drive/MyDrive/lms/library_version.txt', 'r')\n",
        "line = f.readline()\n",
        "while True:\n",
        "    line = f.readline()\n",
        "    if not line:\n",
        "      break\n",
        "    for i in library_name:\n",
        "      if i in line:\n",
        "        library_version.append(line)\n",
        "        library_version.append('    ')\n",
        "\n",
        "f.close()\n",
        "\n",
        "import sys\n",
        "print(sys.version)\n",
        "print()\n",
        "\n",
        "for i in range(0, len(library_version) - 1, 6):\n",
        "  print(str(library_version[i : i+6]).replace(\"[\",\"\").replace(\"]\",\"\").replace(\"'\",\"\").replace(\"\\\\n\",\"\").replace(\",\",\"\"), end='') \n",
        "  if i % 6 == 0:\n",
        "    print()\n",
        "\n",
        "for i in range(len(library_version) - 1):\n",
        "  if (i-1) % 6 == 0 and i == len(library_version) - 6:\n",
        "    print(str(library_version[-1]).replace(\"[\",\"\").replace(\"]\",\"\").replace(\"'\",\"\").replace(\"\\\\n\",\"\").replace(\",\",\"\"), end='')"
      ],
      "metadata": {
        "id": "RgnqjrN8XuZX",
        "colab": {
          "base_uri": "https://localhost:8080/"
        },
        "outputId": "718e4f31-8e98-40ba-94e4-bfd3d2db0422"
      },
      "execution_count": null,
      "outputs": [
        {
          "output_type": "stream",
          "name": "stdout",
          "text": [
            "3.7.13 (default, Apr 24 2022, 01:04:09) \n",
            "[GCC 7.5.0]\n",
            "\n",
            "matplotlib==3.2.2      numpy==1.21.6      pandas==1.3.5     \n",
            "regex==2022.6.2      seaborn==0.11.2      sentencepiece==0.1.96     \n",
            "sklearn-pandas==1.8.0      tensorflow==2.8.2+zzzcolab20220719082949      tqdm==4.64.0     \n"
          ]
        }
      ]
    },
    {
      "cell_type": "code",
      "source": [
        "gpu_info = !nvidia-smi\n",
        "gpu_info = '\\n'.join(gpu_info)\n",
        "if gpu_info.find('failed') >= 0:\n",
        "  print('Not connected to a GPU')\n",
        "else:\n",
        "  print(gpu_info)"
      ],
      "metadata": {
        "id": "b45xWgABXx6f"
      },
      "execution_count": null,
      "outputs": []
    },
    {
      "cell_type": "code",
      "source": [
        "from psutil import virtual_memory\n",
        "ram_gb = virtual_memory().total / 1e9\n",
        "print('Your runtime has {:.1f} gigabytes of available RAM\\n'.format(ram_gb))\n",
        "\n",
        "if ram_gb < 20:\n",
        "  print('Not using a high-RAM runtime')\n",
        "else:\n",
        "  print('You are using a high-RAM runtime!')"
      ],
      "metadata": {
        "id": "z_12JoUEXzWQ"
      },
      "execution_count": null,
      "outputs": []
    },
    {
      "cell_type": "markdown",
      "source": [
        "Google Colab에서 할당된 GPU를 확인한다.\n",
        "<br/>고용량 메모리 VM에 액세스한다"
      ],
      "metadata": {
        "id": "sieWZaRzYB9v"
      }
    },
    {
      "cell_type": "markdown",
      "source": [
        "#데이터 정보"
      ],
      "metadata": {
        "id": "tKIDhtk0YFHX"
      }
    },
    {
      "cell_type": "markdown",
      "source": [
        "[Korean Parallel Corpora](https://github.com/jungyeul/korean-parallel-corpora)"
      ],
      "metadata": {
        "id": "MpE8ZLgcYN9H"
      }
    },
    {
      "cell_type": "markdown",
      "source": [
        "한국어의 형태소 분석과 품사 태깅, 기계 번역 연구를 위해 공개된 데이터이다."
      ],
      "metadata": {
        "id": "Oe9h5aGvkBFO"
      }
    },
    {
      "cell_type": "markdown",
      "source": [
        "[Korean English News V1](https://github.com/jungyeul/korean-parallel-corpora/tree/master/korean-english-news-v1)"
      ],
      "metadata": {
        "id": "poPDYQSbkBH8"
      }
    },
    {
      "cell_type": "markdown",
      "source": [
        "한국어-영어 병렬 코퍼스 데이터이다."
      ],
      "metadata": {
        "id": "up7LDRBkkGR_"
      }
    },
    {
      "cell_type": "code",
      "source": [
        "path_to_kor = '/content/drive/MyDrive/lms/transformer_translation/korean_parallel_corpora/korean-english-park.train.ko'\n",
        "\n",
        "with open(path_to_kor, \"r\") as f:\n",
        "    ko_raw = f.read().splitlines()\n",
        "\n",
        "print(\"Data Size :\", len(ko_raw))\n",
        "print()\n",
        "print(\"Example\")\n",
        "for kor_sen in ko_raw[600:700][::20]: print(\"\", kor_sen)"
      ],
      "metadata": {
        "id": "cjchuzQbYOyP",
        "colab": {
          "base_uri": "https://localhost:8080/"
        },
        "outputId": "0c81aa8f-779f-410a-ce7c-d7fd96e1323c"
      },
      "execution_count": null,
      "outputs": [
        {
          "output_type": "stream",
          "name": "stdout",
          "text": [
            "Data Size : 94123\n",
            "\n",
            "Example\n",
            " 앞서가고 있는 은행 중의 하나가 오하이오 주 콜럼버스에 있는 헌팅턴 뱅크쉐어즈이다.\n",
            " 우리 내부의 신체 시계는 밤 에 자고, 낮 에 사냥하는 그러한 세계에 최적의 상태로 적응되어 있습니다.\"\n",
            " 하지만 얼마나 오래 그 효과가 지속될 것인가?\n",
            " 그 이름이 뜻하는 바와 같이 이 세균은 이미 밴코마이신과 모든 다른 항생물질에 대해 면역성을 갖게 되었다.\n",
            " 하나의 통신망은 모뎀이나 케이블에 의해 호스트 컴퓨터나 서버에 접속되어 있는 일단의 컴퓨터들을 말한다.\n"
          ]
        }
      ]
    },
    {
      "cell_type": "code",
      "source": [
        "path_to_eng = '/content/drive/MyDrive/lms/transformer_translation/korean_parallel_corpora/korean-english-park.train.en'\n",
        "\n",
        "with open(path_to_eng, \"r\") as f:\n",
        "    en_raw = f.read().splitlines()\n",
        "\n",
        "print(\"Data Size :\", len(en_raw))\n",
        "print()\n",
        "print(\"Example\")\n",
        "for eng_sen in en_raw[600:700][::20]: print(\"\", eng_sen)"
      ],
      "metadata": {
        "id": "Z-Axp1Bukd1X",
        "colab": {
          "base_uri": "https://localhost:8080/"
        },
        "outputId": "ff5b402e-d11a-4e84-c714-688e84ca00b9"
      },
      "execution_count": null,
      "outputs": [
        {
          "output_type": "stream",
          "name": "stdout",
          "text": [
            "Data Size : 94123\n",
            "\n",
            "Example\n",
            " A leader is Huntington Bankshares in Columbus, Ohio.\n",
            " Our internal clocks adapted us perfectly to a world where we slept by night and hunted by day.\"\n",
            " But how long will it hold up?\n",
            " As the name implies, it's already become immune to Vancomycin and every other antibiotic.\n",
            " A network is a group of computers joined to a host computer or server by modems or by cables.\n"
          ]
        }
      ]
    },
    {
      "cell_type": "markdown",
      "source": [
        "#데이터 전처리"
      ],
      "metadata": {
        "id": "8gQfrSmVkrLe"
      }
    },
    {
      "cell_type": "markdown",
      "source": [
        "##중복 제거"
      ],
      "metadata": {
        "id": "HL2zhmkQoBxo"
      }
    },
    {
      "cell_type": "code",
      "source": [
        "ko_raw_dict = {string : i for i,string in enumerate(ko_raw)}\n",
        "en_raw_dict = {string : i for i,string in enumerate(en_raw)}"
      ],
      "metadata": {
        "id": "-avp7V_4krsP"
      },
      "execution_count": null,
      "outputs": []
    },
    {
      "cell_type": "markdown",
      "source": [
        "딕셔너리를 생성하면서 중복되는 key 값을 제외한다.\n",
        "<br/>자료구조 딕셔너리는 중복되는 key 값을 허용하지 않는다."
      ],
      "metadata": {
        "id": "q9sNlipwoQb2"
      }
    },
    {
      "cell_type": "code",
      "source": [
        "ko_raw_df = pd.DataFrame(list(ko_raw_dict.items()), columns=['key', 'value'])\n",
        "en_raw_df = pd.DataFrame(list(en_raw_dict.items()), columns=['key', 'value'])\n",
        "df_INNER_JOIN = pd.merge(ko_raw_df, en_raw_df, left_on='value', right_on='value', how='inner')"
      ],
      "metadata": {
        "id": "w1jyEqMekrxI"
      },
      "execution_count": null,
      "outputs": []
    },
    {
      "cell_type": "code",
      "source": [
        "df_INNER_JOIN"
      ],
      "metadata": {
        "id": "3DRoju9UoHEw",
        "colab": {
          "base_uri": "https://localhost:8080/",
          "height": 424
        },
        "outputId": "551a72fe-23b9-426f-db53-d9d5c4168d32"
      },
      "execution_count": null,
      "outputs": [
        {
          "output_type": "execute_result",
          "data": {
            "text/plain": [
              "                                                   key_x  value  \\\n",
              "0                   개인용 컴퓨터 사용의 상당 부분은 \"이것보다 뛰어날 수 있느냐?\"      0   \n",
              "1      모든 광마우스와 마찬가지 로 이 광마우스도 책상 위에 놓는 마우스 패드를 필요로 하...      1   \n",
              "2                             그러나 이것은 또한 책상도 필요로 하지 않는다.      2   \n",
              "3      79.95달러하는 이 최첨단 무선 광마우스는 허공에서 팔목, 팔, 그외에 어떤 부분...      3   \n",
              "4      정보 관리들은 동남 아시아에서의 선박들에 대한 많은 (테러) 계획들이 실패로 돌아갔...      4   \n",
              "...                                                  ...    ...   \n",
              "74449  “우리는 3월 8일 김승연 회장과 그의 아들이 보복폭행에 가담한 혐의를 찾기 위해 ...  94118   \n",
              "74450   월요일 술집 종업원 6명은 김회장과 아들에게 폭행을 당했음을 진술했다고 경찰은 말했다.  94119   \n",
              "74451                       그러나 불충분한 증거 확보로 수사에 어려움이 있다.  94120   \n",
              "74452                  김회장과 그의 아들은 보복폭행 혐의를 강력히 부인하고 있다.  94121   \n",
              "74453  경찰은 김회장의 집무실에서 추가 증거를 찾은 이후 가능한 한 오늘 김회장과 아들을 ...  94122   \n",
              "\n",
              "                                                   key_y  \n",
              "0      Much of personal computing is about \"can you t...  \n",
              "1      so a mention a few weeks ago about a rechargea...  \n",
              "2      Like all optical mice, But it also doesn't nee...  \n",
              "3      uses gyroscopic sensors to control the cursor ...  \n",
              "4      Intelligence officials have revealed a spate o...  \n",
              "...                                                  ...  \n",
              "74449  ””We are hoping to seize material evidence to ...  \n",
              "74450  ” On Monday, police secured statements from si...  \n",
              "74451  But the lack of material evidence is making it...  \n",
              "74452         Kim and his son both deny the allegations.  \n",
              "74453  Police are planning to seek arrest warrants fo...  \n",
              "\n",
              "[74454 rows x 3 columns]"
            ],
            "text/html": [
              "\n",
              "  <div id=\"df-b1a5950c-2b52-4781-8bee-9ea2c409f47d\">\n",
              "    <div class=\"colab-df-container\">\n",
              "      <div>\n",
              "<style scoped>\n",
              "    .dataframe tbody tr th:only-of-type {\n",
              "        vertical-align: middle;\n",
              "    }\n",
              "\n",
              "    .dataframe tbody tr th {\n",
              "        vertical-align: top;\n",
              "    }\n",
              "\n",
              "    .dataframe thead th {\n",
              "        text-align: right;\n",
              "    }\n",
              "</style>\n",
              "<table border=\"1\" class=\"dataframe\">\n",
              "  <thead>\n",
              "    <tr style=\"text-align: right;\">\n",
              "      <th></th>\n",
              "      <th>key_x</th>\n",
              "      <th>value</th>\n",
              "      <th>key_y</th>\n",
              "    </tr>\n",
              "  </thead>\n",
              "  <tbody>\n",
              "    <tr>\n",
              "      <th>0</th>\n",
              "      <td>개인용 컴퓨터 사용의 상당 부분은 \"이것보다 뛰어날 수 있느냐?\"</td>\n",
              "      <td>0</td>\n",
              "      <td>Much of personal computing is about \"can you t...</td>\n",
              "    </tr>\n",
              "    <tr>\n",
              "      <th>1</th>\n",
              "      <td>모든 광마우스와 마찬가지 로 이 광마우스도 책상 위에 놓는 마우스 패드를 필요로 하...</td>\n",
              "      <td>1</td>\n",
              "      <td>so a mention a few weeks ago about a rechargea...</td>\n",
              "    </tr>\n",
              "    <tr>\n",
              "      <th>2</th>\n",
              "      <td>그러나 이것은 또한 책상도 필요로 하지 않는다.</td>\n",
              "      <td>2</td>\n",
              "      <td>Like all optical mice, But it also doesn't nee...</td>\n",
              "    </tr>\n",
              "    <tr>\n",
              "      <th>3</th>\n",
              "      <td>79.95달러하는 이 최첨단 무선 광마우스는 허공에서 팔목, 팔, 그외에 어떤 부분...</td>\n",
              "      <td>3</td>\n",
              "      <td>uses gyroscopic sensors to control the cursor ...</td>\n",
              "    </tr>\n",
              "    <tr>\n",
              "      <th>4</th>\n",
              "      <td>정보 관리들은 동남 아시아에서의 선박들에 대한 많은 (테러) 계획들이 실패로 돌아갔...</td>\n",
              "      <td>4</td>\n",
              "      <td>Intelligence officials have revealed a spate o...</td>\n",
              "    </tr>\n",
              "    <tr>\n",
              "      <th>...</th>\n",
              "      <td>...</td>\n",
              "      <td>...</td>\n",
              "      <td>...</td>\n",
              "    </tr>\n",
              "    <tr>\n",
              "      <th>74449</th>\n",
              "      <td>“우리는 3월 8일 김승연 회장과 그의 아들이 보복폭행에 가담한 혐의를 찾기 위해 ...</td>\n",
              "      <td>94118</td>\n",
              "      <td>””We are hoping to seize material evidence to ...</td>\n",
              "    </tr>\n",
              "    <tr>\n",
              "      <th>74450</th>\n",
              "      <td>월요일 술집 종업원 6명은 김회장과 아들에게 폭행을 당했음을 진술했다고 경찰은 말했다.</td>\n",
              "      <td>94119</td>\n",
              "      <td>” On Monday, police secured statements from si...</td>\n",
              "    </tr>\n",
              "    <tr>\n",
              "      <th>74451</th>\n",
              "      <td>그러나 불충분한 증거 확보로 수사에 어려움이 있다.</td>\n",
              "      <td>94120</td>\n",
              "      <td>But the lack of material evidence is making it...</td>\n",
              "    </tr>\n",
              "    <tr>\n",
              "      <th>74452</th>\n",
              "      <td>김회장과 그의 아들은 보복폭행 혐의를 강력히 부인하고 있다.</td>\n",
              "      <td>94121</td>\n",
              "      <td>Kim and his son both deny the allegations.</td>\n",
              "    </tr>\n",
              "    <tr>\n",
              "      <th>74453</th>\n",
              "      <td>경찰은 김회장의 집무실에서 추가 증거를 찾은 이후 가능한 한 오늘 김회장과 아들을 ...</td>\n",
              "      <td>94122</td>\n",
              "      <td>Police are planning to seek arrest warrants fo...</td>\n",
              "    </tr>\n",
              "  </tbody>\n",
              "</table>\n",
              "<p>74454 rows × 3 columns</p>\n",
              "</div>\n",
              "      <button class=\"colab-df-convert\" onclick=\"convertToInteractive('df-b1a5950c-2b52-4781-8bee-9ea2c409f47d')\"\n",
              "              title=\"Convert this dataframe to an interactive table.\"\n",
              "              style=\"display:none;\">\n",
              "        \n",
              "  <svg xmlns=\"http://www.w3.org/2000/svg\" height=\"24px\"viewBox=\"0 0 24 24\"\n",
              "       width=\"24px\">\n",
              "    <path d=\"M0 0h24v24H0V0z\" fill=\"none\"/>\n",
              "    <path d=\"M18.56 5.44l.94 2.06.94-2.06 2.06-.94-2.06-.94-.94-2.06-.94 2.06-2.06.94zm-11 1L8.5 8.5l.94-2.06 2.06-.94-2.06-.94L8.5 2.5l-.94 2.06-2.06.94zm10 10l.94 2.06.94-2.06 2.06-.94-2.06-.94-.94-2.06-.94 2.06-2.06.94z\"/><path d=\"M17.41 7.96l-1.37-1.37c-.4-.4-.92-.59-1.43-.59-.52 0-1.04.2-1.43.59L10.3 9.45l-7.72 7.72c-.78.78-.78 2.05 0 2.83L4 21.41c.39.39.9.59 1.41.59.51 0 1.02-.2 1.41-.59l7.78-7.78 2.81-2.81c.8-.78.8-2.07 0-2.86zM5.41 20L4 18.59l7.72-7.72 1.47 1.35L5.41 20z\"/>\n",
              "  </svg>\n",
              "      </button>\n",
              "      \n",
              "  <style>\n",
              "    .colab-df-container {\n",
              "      display:flex;\n",
              "      flex-wrap:wrap;\n",
              "      gap: 12px;\n",
              "    }\n",
              "\n",
              "    .colab-df-convert {\n",
              "      background-color: #E8F0FE;\n",
              "      border: none;\n",
              "      border-radius: 50%;\n",
              "      cursor: pointer;\n",
              "      display: none;\n",
              "      fill: #1967D2;\n",
              "      height: 32px;\n",
              "      padding: 0 0 0 0;\n",
              "      width: 32px;\n",
              "    }\n",
              "\n",
              "    .colab-df-convert:hover {\n",
              "      background-color: #E2EBFA;\n",
              "      box-shadow: 0px 1px 2px rgba(60, 64, 67, 0.3), 0px 1px 3px 1px rgba(60, 64, 67, 0.15);\n",
              "      fill: #174EA6;\n",
              "    }\n",
              "\n",
              "    [theme=dark] .colab-df-convert {\n",
              "      background-color: #3B4455;\n",
              "      fill: #D2E3FC;\n",
              "    }\n",
              "\n",
              "    [theme=dark] .colab-df-convert:hover {\n",
              "      background-color: #434B5C;\n",
              "      box-shadow: 0px 1px 3px 1px rgba(0, 0, 0, 0.15);\n",
              "      filter: drop-shadow(0px 1px 2px rgba(0, 0, 0, 0.3));\n",
              "      fill: #FFFFFF;\n",
              "    }\n",
              "  </style>\n",
              "\n",
              "      <script>\n",
              "        const buttonEl =\n",
              "          document.querySelector('#df-b1a5950c-2b52-4781-8bee-9ea2c409f47d button.colab-df-convert');\n",
              "        buttonEl.style.display =\n",
              "          google.colab.kernel.accessAllowed ? 'block' : 'none';\n",
              "\n",
              "        async function convertToInteractive(key) {\n",
              "          const element = document.querySelector('#df-b1a5950c-2b52-4781-8bee-9ea2c409f47d');\n",
              "          const dataTable =\n",
              "            await google.colab.kernel.invokeFunction('convertToInteractive',\n",
              "                                                     [key], {});\n",
              "          if (!dataTable) return;\n",
              "\n",
              "          const docLinkHtml = 'Like what you see? Visit the ' +\n",
              "            '<a target=\"_blank\" href=https://colab.research.google.com/notebooks/data_table.ipynb>data table notebook</a>'\n",
              "            + ' to learn more about interactive tables.';\n",
              "          element.innerHTML = '';\n",
              "          dataTable['output_type'] = 'display_data';\n",
              "          await google.colab.output.renderOutput(dataTable, element);\n",
              "          const docLink = document.createElement('div');\n",
              "          docLink.innerHTML = docLinkHtml;\n",
              "          element.appendChild(docLink);\n",
              "        }\n",
              "      </script>\n",
              "    </div>\n",
              "  </div>\n",
              "  "
            ]
          },
          "metadata": {},
          "execution_count": 15
        }
      ]
    },
    {
      "cell_type": "markdown",
      "source": [
        "데이터의 병렬 쌍이 흐트러지지 않도록 데이터프레임의 INNER JOIN을 한다."
      ],
      "metadata": {
        "id": "1Eb4F85DoMje"
      }
    },
    {
      "cell_type": "code",
      "source": [
        "ko_unique = list(df_INNER_JOIN['key_x'])\n",
        "en_unique = list(df_INNER_JOIN['key_y'])"
      ],
      "metadata": {
        "id": "zm0zJJpjoJ8n"
      },
      "execution_count": null,
      "outputs": []
    },
    {
      "cell_type": "markdown",
      "source": [
        "데이터프레임의 key_x, key_y를 리스트로 저장한다.\n",
        "<br/>kor_unique는 중복 데이터를 제외한 한국어 문장의 리스트이다.\n",
        "<br/>eng_unique는 중복 데이터를 제외한 영어 문장의 리스트이다."
      ],
      "metadata": {
        "id": "hrhXin46oON_"
      }
    },
    {
      "cell_type": "markdown",
      "source": [
        "##정제"
      ],
      "metadata": {
        "id": "e2tel8cGoZhO"
      }
    },
    {
      "cell_type": "code",
      "source": [
        "def preprocess_sentence(sentence):\n",
        "\n",
        "    sentence = sentence.lower().strip()\n",
        "    sentence = re.sub(r\"([?.!,])\", r\" \\1 \", sentence)\n",
        "    sentence = re.sub(r'[\" \"]+', \" \", sentence)\n",
        "    sentence = re.sub(r\"[^가-힣a-zA-Z?.!,]+\", \" \", sentence)\n",
        "    sentence = sentence.strip()\n",
        "    \n",
        "    return sentence"
      ],
      "metadata": {
        "id": "mLlMUYnroaD2"
      },
      "execution_count": null,
      "outputs": []
    },
    {
      "cell_type": "code",
      "source": [
        "ko_corpus = []\n",
        "en_corpus = []\n",
        "\n",
        "for ko_sen in ko_unique[:]:\n",
        "  ko_corpus.append(preprocess_sentence(ko_sen))\n",
        "\n",
        "for en_sen in en_unique[:]:\n",
        "  en_corpus.append(preprocess_sentence(en_sen))"
      ],
      "metadata": {
        "id": "HIiZK_yZrod_"
      },
      "execution_count": null,
      "outputs": []
    },
    {
      "cell_type": "code",
      "source": [
        "print(\"Korean \\n\", ko_corpus[90])  \n",
        "print()\n",
        "print(\"English \\n\", en_corpus[90])  "
      ],
      "metadata": {
        "id": "8UFtyjWMrolm",
        "colab": {
          "base_uri": "https://localhost:8080/"
        },
        "outputId": "7d3592f8-3d8b-4a2d-837f-e5179f082e1a"
      },
      "execution_count": null,
      "outputs": [
        {
          "output_type": "stream",
          "name": "stdout",
          "text": [
            "Korean \n",
            " 그는 이 연구 결과가 심장 협회의 지침과도 부합된다고 말했는데 , 심장 협회의 지침은 일주일에 적어도 일은 유산소 운동을 하고 , 매주 번은 근력 운동을 하라고 권장하고 있다 .\n",
            "\n",
            "English \n",
            " he said the findings correspond with aha guidelines , which recommend aerobic exercise at least six days a week and weight training two or three times weekly .\n"
          ]
        }
      ]
    },
    {
      "cell_type": "markdown",
      "source": [
        "##단어 사전"
      ],
      "metadata": {
        "id": "IgjK8Gqooup1"
      }
    },
    {
      "cell_type": "code",
      "source": [
        "temp_file = '/content/drive/MyDrive/lms/transformer_translation/korean_parallel_corpora/korean-english-park.train.ko.temp'\n",
        "\n",
        "vocab_size = 20000\n",
        "\n",
        "with open(temp_file, 'w') as f:\n",
        "    for row in ko_corpus:   \n",
        "        f.write(str(row) + '\\n')\n",
        "\n",
        "spm.SentencePieceTrainer.Train(\n",
        "    '--input={} --model_prefix=korean_spm --vocab_size={}'.format(temp_file, vocab_size)    \n",
        ")\n",
        "\n",
        "!ls -l korean_spm*"
      ],
      "metadata": {
        "colab": {
          "base_uri": "https://localhost:8080/"
        },
        "id": "uSsniJlNoxkN",
        "outputId": "f4760c32-a965-4501-c07e-094ac01cc9a7"
      },
      "execution_count": null,
      "outputs": [
        {
          "output_type": "stream",
          "name": "stdout",
          "text": [
            "-rw-r--r-- 1 root root 623710 Jul 22 16:48 korean_spm.model\n",
            "-rw-r--r-- 1 root root 404078 Jul 22 16:48 korean_spm.vocab\n"
          ]
        }
      ]
    },
    {
      "cell_type": "code",
      "source": [
        "temp_file = '/content/drive/MyDrive/lms/transformer_translation/korean_parallel_corpora/korean-english-park.train.en.temp'\n",
        "\n",
        "vocab_size = 20000\n",
        "\n",
        "with open(temp_file, 'w') as f:\n",
        "    for row in en_corpus:   \n",
        "        f.write(str(row) + '\\n')\n",
        "\n",
        "spm.SentencePieceTrainer.Train(\n",
        "    '--input={} --model_prefix=english_spm --vocab_size={}'.format(temp_file, vocab_size)    \n",
        ")\n",
        "\n",
        "!ls -l english_spm*"
      ],
      "metadata": {
        "colab": {
          "base_uri": "https://localhost:8080/"
        },
        "id": "FAlgFg7dpgou",
        "outputId": "11101096-e42b-4bfc-f82d-44151e35fd72"
      },
      "execution_count": null,
      "outputs": [
        {
          "output_type": "stream",
          "name": "stdout",
          "text": [
            "-rw-r--r-- 1 root root 575204 Jul 22 16:48 english_spm.model\n",
            "-rw-r--r-- 1 root root 355453 Jul 22 16:48 english_spm.vocab\n"
          ]
        }
      ]
    },
    {
      "cell_type": "markdown",
      "source": [
        "##토큰화"
      ],
      "metadata": {
        "id": "6Zc2KC54rU5f"
      }
    },
    {
      "cell_type": "markdown",
      "source": [
        "한글 말뭉치 kor_corpus 와 영문 말뭉치 eng_corpus 를 각각 분리한 후 정제하여 토큰화를 진행한다.\n",
        "<br/>토큰화에는 Sentencepiece를 활용한다.\n",
        "<br/>첨부된 공식 사이트를 참고해 아래 조건을 만족하는 generate_tokenizer() 함수를 정의한다.\n",
        "<br/>최종적으로 ko_tokenizer 과 en_tokenizer 를 얻는다.\n",
        "<br/>en_tokenizer에는 set_encode_extra_options(\"bos:eos\") 함수를 실행해 타겟 입력이 문장의 시작 토큰과 끝 토큰을 포함할 수 있게 한다."
      ],
      "metadata": {
        "id": "s4vxIY_ky07w"
      }
    },
    {
      "cell_type": "markdown",
      "source": [
        "단어 사전을 매개변수로 받아 원하는 크기의 사전을 정의할 수 있게 한다. (기본: 20,000)\n",
        "<br/>학습 후 저장된 model 파일을 SentencePieceProcessor() 클래스에 Load()한 후 반환한다.\n",
        "<br/>특수 토큰의 인덱스를 아래와 동일하게 지정한다.\n",
        "<br/>< PAD > : 0 / < BOS > : 1 / < EOS > : 2 / < UNK > : 3"
      ],
      "metadata": {
        "id": "EpmvrWkzzEfI"
      }
    },
    {
      "cell_type": "code",
      "source": [
        "def generate_tokenizer(corpus,\n",
        "                        vocab_size,\n",
        "                        lang,\n",
        "                        pad_id=0,\n",
        "                        bos_id=1,\n",
        "                        eos_id=2,\n",
        "                        unk_id=3):\n",
        "    \n",
        "    data_path = '/content/drive/MyDrive/lms/transformer_translation/korean_parallel_corpora'\n",
        "    model_path = '/content/drive/MyDrive/lms/transformer_translation/model'\n",
        "\n",
        "    corpus_path = f'{data_path}/sp_train_corpus_{lang}.temp'\n",
        "    with open(corpus_path, 'w') as f:\n",
        "        for row in corpus:\n",
        "            f.write(str(row) + '\\n')\n",
        "\n",
        "    prefix = f'{model_path}/spm_{lang}'\n",
        "    \n",
        "    spm.SentencePieceTrainer.Train(\n",
        "        f'--input={corpus_path} \\\n",
        "            --model_prefix={prefix} \\\n",
        "            --vocab_size={vocab_size} \\\n",
        "            --model_type=unigram \\\n",
        "            --pad_id={pad_id} \\\n",
        "            --bos_id={bos_id} \\\n",
        "            --eos_id={eos_id} \\\n",
        "            --unk_id={unk_id}')\n",
        "    \n",
        "    tokenizer = spm.SentencePieceProcessor()\n",
        "    tokenizer.Load(f'{prefix}.model')\n",
        "\n",
        "    return tokenizer"
      ],
      "metadata": {
        "id": "xSSDc5UdrWvf"
      },
      "execution_count": null,
      "outputs": []
    },
    {
      "cell_type": "code",
      "source": [
        "src_vocab_size = tgt_vocab_size = 20000\n",
        "\n",
        "ko_tokenizer = generate_tokenizer(ko_corpus, src_vocab_size, \"ko\")\n",
        "en_tokenizer = generate_tokenizer(en_corpus, tgt_vocab_size, \"en\")\n",
        "en_tokenizer.set_encode_extra_options(\"bos:eos\")"
      ],
      "metadata": {
        "id": "eshX9Hvzrc3P"
      },
      "execution_count": null,
      "outputs": []
    },
    {
      "cell_type": "code",
      "source": [
        "src_corpus = []\n",
        "tgt_corpus = []\n",
        "text_max_len = 50\n",
        "\n",
        "assert len(ko_corpus) == len(en_corpus)\n",
        "\n",
        "for idx in tqdm(range(len(ko_corpus))):\n",
        "    ko_tokenized = ko_tokenizer.EncodeAsIds(ko_corpus[idx])\n",
        "    en_tokenized = en_tokenizer.EncodeAsIds(en_corpus[idx])\n",
        "    \n",
        "    if len(ko_tokenized) <= text_max_len and len(en_tokenized) <= text_max_len:\n",
        "        src_corpus.append(ko_tokenized)\n",
        "        tgt_corpus.append(en_tokenized)\n",
        "\n",
        "enc_train = tf.keras.preprocessing.sequence.pad_sequences(src_corpus, padding='post')\n",
        "dec_train = tf.keras.preprocessing.sequence.pad_sequences(tgt_corpus, padding='post')"
      ],
      "metadata": {
        "id": "-bJhjc_Ce9We",
        "colab": {
          "base_uri": "https://localhost:8080/",
          "height": 49,
          "referenced_widgets": [
            "c557d3bc3c2b4c528f90fcc4f1ec1bbe",
            "e17dc9e527cb4e369dd184db61ca9f22",
            "84b7be5a188f451db2a97bdfe0cd07a0",
            "0bc8b4eafb8c4c7ca8cb20aeb204a57a",
            "9ad5b162016b4c39b4fbb6fe74147d86",
            "c05bd3a1c84140b0896934c7d81314cc",
            "37f36c17d1f247a3bac2235fdb054eb7",
            "9e676c880a404d79931ab5978c856b55",
            "69fe6044989940dd9dc0918d58705e7a",
            "43cbba88b77d4b77b2a18d6c95e24dc7",
            "840f849ab8134d28b1ec031f8bcf01d2"
          ]
        },
        "outputId": "49f5edab-44cb-4e05-da4b-de90b8021ec5"
      },
      "execution_count": null,
      "outputs": [
        {
          "output_type": "display_data",
          "data": {
            "text/plain": [
              "  0%|          | 0/74454 [00:00<?, ?it/s]"
            ],
            "application/vnd.jupyter.widget-view+json": {
              "version_major": 2,
              "version_minor": 0,
              "model_id": "c557d3bc3c2b4c528f90fcc4f1ec1bbe"
            }
          },
          "metadata": {}
        }
      ]
    },
    {
      "cell_type": "code",
      "source": [
        "print(\"Korean Encoded\")\n",
        "print(enc_train[1], \"\\n\")\n",
        "print(\"Korean Decoded\")\n",
        "print(ko_tokenizer.DecodeIds(enc_train[1].tolist()), \"\\n\\n\")\n",
        "print(\"English Encoded\")\n",
        "print(dec_train[1], \"\\n\")\n",
        "print(\"English Decoded\")\n",
        "print(en_tokenizer.DecodeIds(dec_train[1].tolist()), \"\\n\")"
      ],
      "metadata": {
        "colab": {
          "base_uri": "https://localhost:8080/"
        },
        "id": "yylDPpfY23Qo",
        "outputId": "f9110899-9901-44a8-efec-e49645e6ac19"
      },
      "execution_count": null,
      "outputs": [
        {
          "output_type": "stream",
          "name": "stdout",
          "text": [
            "Korean Encoded\n",
            "[  171  3549   382  3623    27  3436   182    19  3549   382  3623    28\n",
            " 11105  1834  1254     6 15668  1427   160    10  5293   421   447     4\n",
            "     0     0     0     0     0     0     0     0     0     0     0     0\n",
            "     0     0     0     0     0     0     0     0     0     0     0     0\n",
            "     0     0] \n",
            "\n",
            "Korean Decoded\n",
            "모든 광마우스와 마찬가지 로 이 광마우스도 책상 위에 놓는 마우스 패드를 필요로 하지 않는다 . \n",
            "\n",
            "\n",
            "English Encoded\n",
            "[    1   144     8  2748     8   407   553   352    56     8  9591   239\n",
            "  3815 11631  5581    40   201  1239    12    31   235  9591   239     6\n",
            "  3815  5581    40     5     2     0     0     0     0     0     0     0\n",
            "     0     0     0     0     0     0     0     0     0     0     0     0\n",
            "     0     0] \n",
            "\n",
            "English Decoded\n",
            "so a mention a few weeks ago about a rechargeable wireless optical mouse brought in another rechargeable , wireless mouse . \n",
            "\n"
          ]
        }
      ]
    },
    {
      "cell_type": "markdown",
      "source": [
        "#모델 구성"
      ],
      "metadata": {
        "id": "0D_ROacMjtTH"
      }
    },
    {
      "cell_type": "code",
      "source": [
        "Image(filename='/content/drive/MyDrive/lms/transformer_translation/Transformer.png') "
      ],
      "metadata": {
        "id": "EK89AHXlipqg",
        "colab": {
          "base_uri": "https://localhost:8080/",
          "height": 793
        },
        "outputId": "e3c4f075-5bd0-46e3-973c-7d2cce165af2"
      },
      "execution_count": null,
      "outputs": [
        {
          "output_type": "execute_result",
          "data": {
            "text/plain": [
              "<IPython.core.display.Image object>"
            ],
            "image/png": "[encoded data removed]"
          },
          "metadata": {},
          "execution_count": 127
        }
      ]
    },
    {
      "cell_type": "markdown",
      "source": [
        "##Transformer"
      ],
      "metadata": {
        "id": "uzvmogyIZSxP"
      }
    },
    {
      "cell_type": "code",
      "source": [
        "def positional_encoding(pos, d_model):\n",
        "    def cal_angle(position, i):\n",
        "        return position / np.power(10000, int(i) / d_model)\n",
        "\n",
        "    def get_posi_angle_vec(position):\n",
        "        return [cal_angle(position, i) for i in range(d_model)]\n",
        "\n",
        "    sinusoid_table = np.array([get_posi_angle_vec(pos_i) for pos_i in range(pos)])\n",
        "    sinusoid_table[:, 0::2] = np.sin(sinusoid_table[:, 0::2])\n",
        "    sinusoid_table[:, 1::2] = np.cos(sinusoid_table[:, 1::2])\n",
        "    \n",
        "    return sinusoid_table"
      ],
      "metadata": {
        "id": "iWtcIB9LZT1e"
      },
      "execution_count": null,
      "outputs": []
    },
    {
      "cell_type": "code",
      "source": [
        "class MultiHeadAttention(tf.keras.layers.Layer):\n",
        "    def __init__(self, d_model, num_heads):\n",
        "        super(MultiHeadAttention, self).__init__()\n",
        "        self.num_heads = num_heads\n",
        "        self.d_model = d_model\n",
        "        \n",
        "        self.depth = d_model // self.num_heads\n",
        "        \n",
        "        self.W_q = tf.keras.layers.Dense(d_model) # Linear Layer\n",
        "        self.W_k = tf.keras.layers.Dense(d_model)\n",
        "        self.W_v = tf.keras.layers.Dense(d_model)\n",
        "        \n",
        "        self.linear = tf.keras.layers.Dense(d_model)\n",
        "\n",
        "    def scaled_dot_product_attention(self, Q, K, V, mask):\n",
        "        matmul_qk = tf.matmul(Q, K, transpose_b=True)\n",
        "        dk = tf.cast(K.shape[-1], tf.float32)\n",
        "        scaled_qk = matmul_qk / tf.math.sqrt(dk)\n",
        "        \n",
        "        # print('scaled_dot_product_attention')\n",
        "        # print(f'Q.shape : {Q.shape}')\n",
        "        # print(f'K.shape : {K.shape}')\n",
        "        # print(f'V.shape : {V.shape}')\n",
        "        # print(f'mask.shape : {mask.shape}')\n",
        "        # print(f'scaled_qk.shape : {scaled_qk.shape}')\n",
        "        if mask is not None: \n",
        "            scaled_qk += (mask * -1e9)\n",
        "\n",
        "        attentions = tf.nn.softmax(scaled_qk, axis=-1)\n",
        "        # print(f'attentions.shape : {attentions.shape}')\n",
        "        out = tf.matmul(attentions, V)\n",
        "        # print(f'out.shape : {out.shape}\\n')\n",
        "\n",
        "        return out, attentions\n",
        "        \n",
        "\n",
        "    def split_heads(self, x):\n",
        "        \"\"\"\n",
        "        Embedding을 Head의 수로 분할하는 함수\n",
        "\n",
        "        x: [ batch x length x emb ]\n",
        "        return: [ batch x length x heads x self.depth ]\n",
        "        \"\"\"\n",
        "        bsz = x.shape[0]\n",
        "        split_x = tf.reshape(x, (bsz, -1, self.num_heads, self.depth))\n",
        "        split_x = tf.transpose(split_x, perm=[0, 2, 1, 3])\n",
        "\n",
        "        return split_x\n",
        "\n",
        "    def combine_heads(self, x):\n",
        "        \"\"\"\n",
        "        분할된 Embedding을 하나로 결합하는 함수\n",
        "\n",
        "        x: [ batch x length x heads x self.depth ]\n",
        "        return: [ batch x length x emb ]\n",
        "        \"\"\"\n",
        "        bsz = x.shape[0]\n",
        "        combined_x = tf.transpose(x, perm=[0, 2, 1, 3])\n",
        "        combined_x = tf.reshape(combined_x, (bsz, -1, self.d_model))\n",
        "\n",
        "        return combined_x\n",
        "    \n",
        "\n",
        "    def call(self, Q, K, V, mask):\n",
        "        \"\"\"\n",
        "        Step 1: Linear_in(Q, K, V) -> WQ, WK, WV\n",
        "        Step 2: Split Heads(WQ, WK, WV) -> WQ_split, WK_split, WV_split\n",
        "        Step 3: Scaled Dot Product Attention(WQ_split, WK_split, WV_split)\n",
        "                 -> out, attention_weights\n",
        "        Step 4: Combine Heads(out) -> out\n",
        "        Step 5: Linear_out(out) -> out\n",
        "\n",
        "        \"\"\"\n",
        "        WQ = self.W_q(Q)\n",
        "        WK = self.W_k(K)\n",
        "        WV = self.W_v(V)\n",
        "\n",
        "        WQ_splits = self.split_heads(WQ)\n",
        "        WK_splits = self.split_heads(WK)\n",
        "        WV_splits = self.split_heads(WV)\n",
        "\n",
        "        out, attention_weights = self.scaled_dot_product_attention(WQ_splits, WK_splits, WV_splits, mask)\n",
        "\n",
        "        out = self.combine_heads(out)\n",
        "        out = self.linear(out)\n",
        "\n",
        "        return out, attention_weights"
      ],
      "metadata": {
        "id": "YEA6CkW9Zd9f"
      },
      "execution_count": null,
      "outputs": []
    },
    {
      "cell_type": "code",
      "source": [
        "class PoswiseFeedForwardNet(tf.keras.layers.Layer):\n",
        "    def __init__(self, d_model, d_ff):\n",
        "        super(PoswiseFeedForwardNet, self).__init__()\n",
        "        self.w_1 = tf.keras.layers.Dense(d_ff, activation='relu')\n",
        "        self.w_2 = tf.keras.layers.Dense(d_model)\n",
        "\n",
        "    def call(self, x):\n",
        "        out = self.w_1(x)\n",
        "        out = self.w_2(out)\n",
        "            \n",
        "        return out"
      ],
      "metadata": {
        "id": "RDW-uS4UZsln"
      },
      "execution_count": null,
      "outputs": []
    },
    {
      "cell_type": "code",
      "source": [
        "class EncoderLayer(tf.keras.layers.Layer):\n",
        "    def __init__(self, d_model, n_heads, d_ff, dropout):\n",
        "        super(EncoderLayer, self).__init__()\n",
        "\n",
        "        self.enc_self_attn = MultiHeadAttention(d_model, n_heads)\n",
        "        self.ffn = PoswiseFeedForwardNet(d_model, d_ff)\n",
        "\n",
        "        self.norm_1 = tf.keras.layers.LayerNormalization(epsilon=1e-6)\n",
        "        self.norm_2 = tf.keras.layers.LayerNormalization(epsilon=1e-6)\n",
        "\n",
        "        self.dropout = tf.keras.layers.Dropout(dropout)\n",
        "        \n",
        "    def call(self, x, mask):\n",
        "\n",
        "        \"\"\"\n",
        "        Multi-Head Attention\n",
        "        \"\"\"\n",
        "        residual = x\n",
        "        out = self.norm_1(x)\n",
        "        out, enc_attn = self.enc_self_attn(out, out, out, mask)\n",
        "        out = self.dropout(out)\n",
        "        out += residual\n",
        "        \n",
        "        \"\"\"\n",
        "        Position-Wise Feed Forward Network\n",
        "        \"\"\"\n",
        "        residual = out\n",
        "        out = self.norm_2(out)\n",
        "        out = self.ffn(out)\n",
        "        out = self.dropout(out)\n",
        "        out += residual\n",
        "        \n",
        "        return out, enc_attn"
      ],
      "metadata": {
        "id": "nmgzFhRcZ6gH"
      },
      "execution_count": null,
      "outputs": []
    },
    {
      "cell_type": "code",
      "source": [
        "class DecoderLayer(tf.keras.layers.Layer):\n",
        "    def __init__(self, d_model, num_heads, d_ff, dropout):\n",
        "        super(DecoderLayer, self).__init__()\n",
        "\n",
        "        self.dec_self_attn = MultiHeadAttention(d_model, num_heads)\n",
        "        self.enc_dec_attn = MultiHeadAttention(d_model, num_heads)\n",
        "\n",
        "        self.ffn = PoswiseFeedForwardNet(d_model, d_ff)\n",
        "\n",
        "        self.norm_1 = tf.keras.layers.LayerNormalization(epsilon=1e-6)\n",
        "        self.norm_2 = tf.keras.layers.LayerNormalization(epsilon=1e-6)\n",
        "        self.norm_3 = tf.keras.layers.LayerNormalization(epsilon=1e-6)\n",
        "\n",
        "        self.dropout = tf.keras.layers.Dropout(dropout)\n",
        "    \n",
        "    def call(self, x, enc_out, causality_mask, padding_mask):\n",
        "\n",
        "        \"\"\"\n",
        "        Masked Multi-Head Attention\n",
        "        \"\"\"\n",
        "        residual = x\n",
        "        out = self.norm_1(x)\n",
        "        out, dec_attn = self.dec_self_attn(out, out, out, padding_mask)\n",
        "        out = self.dropout(out)\n",
        "        out += residual\n",
        "\n",
        "        \"\"\"\n",
        "        Multi-Head Attention\n",
        "        \"\"\"\n",
        "        residual = out\n",
        "        out = self.norm_2(out)\n",
        "        out, dec_enc_attn = self.enc_dec_attn(out, enc_out, enc_out, causality_mask)\n",
        "        out = self.dropout(out)\n",
        "        out += residual\n",
        "        \n",
        "        \"\"\"\n",
        "        Position-Wise Feed Forward Network\n",
        "        \"\"\"\n",
        "        residual = out\n",
        "        out = self.norm_3(out)\n",
        "        out = self.ffn(out)\n",
        "        out = self.dropout(out)\n",
        "        out += residual\n",
        "\n",
        "        return out, dec_attn, dec_enc_attn"
      ],
      "metadata": {
        "id": "6-G7C-AKZ9QX"
      },
      "execution_count": null,
      "outputs": []
    },
    {
      "cell_type": "code",
      "source": [
        "class Encoder(tf.keras.Model):\n",
        "    def __init__(self,\n",
        "                 n_layers,\n",
        "                 d_model,\n",
        "                 n_heads,\n",
        "                 d_ff,\n",
        "                 dropout):\n",
        "        super(Encoder, self).__init__()\n",
        "        self.n_layers = n_layers\n",
        "        self.enc_layers = [EncoderLayer(d_model, n_heads, d_ff, dropout) \n",
        "                        for _ in range(n_layers)]\n",
        "        \n",
        "    def call(self, x, mask):\n",
        "        out = x\n",
        "    \n",
        "        enc_attns = list()\n",
        "        for i in range(self.n_layers):\n",
        "            out, enc_attn = self.enc_layers[i](out, mask)\n",
        "            enc_attns.append(enc_attn)\n",
        "        \n",
        "        return out, enc_attns"
      ],
      "metadata": {
        "id": "p_KbzvpWba5_"
      },
      "execution_count": null,
      "outputs": []
    },
    {
      "cell_type": "code",
      "source": [
        "class Decoder(tf.keras.Model):\n",
        "    def __init__(self,\n",
        "                 n_layers,\n",
        "                 d_model,\n",
        "                 n_heads,\n",
        "                 d_ff,\n",
        "                 dropout):\n",
        "        super(Decoder, self).__init__()\n",
        "        self.n_layers = n_layers\n",
        "        self.dec_layers = [DecoderLayer(d_model, n_heads, d_ff, dropout) \n",
        "                            for _ in range(n_layers)]\n",
        "                            \n",
        "                            \n",
        "    def call(self, x, enc_out, causality_mask, padding_mask):\n",
        "        out = x\n",
        "    \n",
        "        dec_attns = list()\n",
        "        dec_enc_attns = list()\n",
        "        for i in range(self.n_layers):\n",
        "            out, dec_attn, dec_enc_attn = \\\n",
        "            self.dec_layers[i](out, enc_out, causality_mask, padding_mask)\n",
        "\n",
        "            dec_attns.append(dec_attn)\n",
        "            dec_enc_attns.append(dec_enc_attn)\n",
        "\n",
        "        return out, dec_attns, dec_enc_attns"
      ],
      "metadata": {
        "id": "YZ40OTTLbgQm"
      },
      "execution_count": null,
      "outputs": []
    },
    {
      "cell_type": "code",
      "source": [
        "class Transformer(tf.keras.Model):\n",
        "    def __init__(self,\n",
        "                    n_layers,\n",
        "                    d_model,\n",
        "                    n_heads,\n",
        "                    d_ff,\n",
        "                    src_vocab_size,\n",
        "                    tgt_vocab_size,\n",
        "                    pos_len,\n",
        "                    dropout=0.2,\n",
        "                    shared=True):\n",
        "        super(Transformer, self).__init__()\n",
        "        self.d_model = tf.cast(d_model, tf.float32)\n",
        "\n",
        "        self.enc_emb = tf.keras.layers.Embedding(src_vocab_size, d_model)\n",
        "        self.dec_emb = tf.keras.layers.Embedding(tgt_vocab_size, d_model)\n",
        "\n",
        "        self.pos_encoding = positional_encoding(pos_len, d_model)\n",
        "        self.dropout = tf.keras.layers.Dropout(dropout)\n",
        "\n",
        "        self.encoder = Encoder(n_layers, d_model, n_heads, d_ff, dropout)\n",
        "        self.decoder = Decoder(n_layers, d_model, n_heads, d_ff, dropout)\n",
        "\n",
        "        self.fc = tf.keras.layers.Dense(tgt_vocab_size)\n",
        "\n",
        "        self.shared = shared\n",
        "\n",
        "        if shared: self.fc.set_weights(tf.transpose(self.dec_emb.weights))\n",
        "\n",
        "    def embedding(self, emb, x):\n",
        "        seq_len = x.shape[1]\n",
        "        out = emb(x)\n",
        "\n",
        "        if self.shared: out *= tf.math.sqrt(self.d_model)\n",
        "\n",
        "        out += self.pos_encoding[np.newaxis, ...][:, :seq_len, :]\n",
        "        out = self.dropout(out)\n",
        "\n",
        "        return out\n",
        "\n",
        "        \n",
        "    def call(self, enc_in, dec_in, enc_mask, causality_mask, dec_mask):\n",
        "        enc_in = self.embedding(self.enc_emb, enc_in)\n",
        "        dec_in = self.embedding(self.dec_emb, dec_in)\n",
        "\n",
        "        enc_out, enc_attns = self.encoder(enc_in, enc_mask)\n",
        "        \n",
        "        dec_out, dec_attns, dec_enc_attns = \\\n",
        "        self.decoder(dec_in, enc_out, causality_mask, dec_mask)\n",
        "        \n",
        "        logits = self.fc(dec_out)\n",
        "        \n",
        "        return logits, enc_attns, dec_attns, dec_enc_attns"
      ],
      "metadata": {
        "id": "osyzQnSmbvCO"
      },
      "execution_count": null,
      "outputs": []
    },
    {
      "cell_type": "code",
      "source": [
        "def generate_padding_mask(seq):\n",
        "    seq = tf.cast(tf.math.equal(seq, 0), tf.float32)\n",
        "    return seq[:, tf.newaxis, tf.newaxis, :]"
      ],
      "metadata": {
        "id": "1n1XSn_ViMMG"
      },
      "execution_count": null,
      "outputs": []
    },
    {
      "cell_type": "code",
      "source": [
        "def generate_causality_mask(src_len, tgt_len):\n",
        "    mask = 1 - np.cumsum(np.eye(src_len, tgt_len), 0)\n",
        "    return tf.cast(mask, tf.float32)"
      ],
      "metadata": {
        "id": "guAfYeTyiMOl"
      },
      "execution_count": null,
      "outputs": []
    },
    {
      "cell_type": "code",
      "source": [
        "def generate_masks(src, tgt):\n",
        "    enc_mask = generate_padding_mask(src)\n",
        "    dec_mask = generate_padding_mask(tgt)\n",
        "\n",
        "    dec_enc_causality_mask = generate_causality_mask(tgt.shape[1], src.shape[1])\n",
        "    dec_enc_mask = tf.maximum(enc_mask, dec_enc_causality_mask)\n",
        "\n",
        "    dec_causality_mask = generate_causality_mask(tgt.shape[1], tgt.shape[1])\n",
        "    dec_mask = tf.maximum(dec_mask, dec_causality_mask)\n",
        "\n",
        "    return enc_mask, dec_enc_mask, dec_mask"
      ],
      "metadata": {
        "id": "VgoZieq-iSqv"
      },
      "execution_count": null,
      "outputs": []
    },
    {
      "cell_type": "code",
      "source": [
        "batch, length = 16, 20\n",
        "src_padding = 5\n",
        "tgt_padding = 15\n",
        "\n",
        "src_pad = tf.zeros(shape=(batch, src_padding))\n",
        "tgt_pad = tf.zeros(shape=(batch, tgt_padding))\n",
        "\n",
        "sample_data = tf.ones(shape=(batch, length))\n",
        "\n",
        "sample_src = tf.concat([sample_data, src_pad], axis=-1)\n",
        "sample_tgt = tf.concat([sample_data, tgt_pad], axis=-1)\n",
        "\n",
        "enc_mask, dec_enc_mask, dec_mask = \\\n",
        "generate_masks(sample_src, sample_tgt)\n",
        "\n",
        "fig = plt.figure(figsize=(9, 9))\n",
        "\n",
        "ax1 = fig.add_subplot(131)\n",
        "ax2 = fig.add_subplot(132)\n",
        "ax3 = fig.add_subplot(133)\n",
        "\n",
        "ax1.set_title('Encoder Mask')\n",
        "ax2.set_title('Encoder-Decoder Mask')\n",
        "ax3.set_title('Decoder Mask')\n",
        "\n",
        "ax1.imshow(enc_mask[:3, 0, 0].numpy(), cmap='Dark2')\n",
        "ax2.imshow(dec_enc_mask[0, 0].numpy(), cmap='Dark2')\n",
        "ax3.imshow(dec_mask[0, 0].numpy(), cmap='Dark2')\n",
        "\n",
        "plt.show()"
      ],
      "metadata": {
        "id": "OpGT-95EiXIX",
        "colab": {
          "base_uri": "https://localhost:8080/",
          "height": 271
        },
        "outputId": "98c57411-04c9-4e01-aa10-360a342254be"
      },
      "execution_count": null,
      "outputs": [
        {
          "output_type": "display_data",
          "data": {
            "text/plain": [
              "<Figure size 648x648 with 3 Axes>"
            ],
            "image/png": "[encoded data removed]"
          },
          "metadata": {
            "image/png": {
              "width": 538,
              "height": 254
            },
            "needs_background": "light"
          }
        }
      ]
    },
    {
      "cell_type": "markdown",
      "source": [
        "##Learning Rate Schedule "
      ],
      "metadata": {
        "id": "TVFDs50WidIg"
      }
    },
    {
      "cell_type": "code",
      "source": [
        "class LearningRateScheduler(tf.keras.optimizers.schedules.LearningRateSchedule):\n",
        "    def __init__(self, d_model, warmup_steps=4000):\n",
        "        super(LearningRateScheduler, self).__init__()\n",
        "        self.d_model = d_model\n",
        "        self.warmup_steps = warmup_steps\n",
        "    \n",
        "    def __call__(self, step):\n",
        "        arg1 = step ** -0.5\n",
        "        arg2 = step * (self.warmup_steps ** -1.5)\n",
        "        \n",
        "        return (self.d_model ** -0.5) * tf.math.minimum(arg1, arg2)"
      ],
      "metadata": {
        "id": "jgvM_OY_GKEO"
      },
      "execution_count": null,
      "outputs": []
    },
    {
      "cell_type": "markdown",
      "source": [
        "##Loss Function"
      ],
      "metadata": {
        "id": "gd3--HiMkSxf"
      }
    },
    {
      "cell_type": "code",
      "source": [
        "loss_object = tf.keras.losses.SparseCategoricalCrossentropy(\n",
        "    from_logits=True, reduction='none')"
      ],
      "metadata": {
        "id": "GwjsCRtsjwk3"
      },
      "execution_count": null,
      "outputs": []
    },
    {
      "cell_type": "code",
      "source": [
        "def loss_function(real, pred):\n",
        "    mask = tf.math.logical_not(tf.math.equal(real, 0))\n",
        "    loss_ = loss_object(real, pred)\n",
        "\n",
        "    # Masking 되지 않은 입력의 개수로 Scaling하는 과정\n",
        "    mask = tf.cast(mask, dtype=loss_.dtype)\n",
        "    loss_ *= mask\n",
        "\n",
        "    return tf.reduce_sum(loss_)/tf.reduce_sum(mask)"
      ],
      "metadata": {
        "id": "i6qUhOEQkNlm"
      },
      "execution_count": null,
      "outputs": []
    },
    {
      "cell_type": "markdown",
      "source": [
        "##Train Step"
      ],
      "metadata": {
        "id": "k53j5GHIkYN-"
      }
    },
    {
      "cell_type": "code",
      "source": [
        "@tf.function()\n",
        "def train_step(src, tgt, model, optimizer):\n",
        "    gold = tgt[:, 1:]\n",
        "        \n",
        "    enc_mask, dec_enc_mask, dec_mask = generate_masks(src, tgt)\n",
        "\n",
        "    # 계산된 loss에 tf.GradientTape()를 적용해 학습을 진행합니다.\n",
        "    with tf.GradientTape() as tape:\n",
        "        predictions, enc_attns, dec_attns, dec_enc_attns = \\\n",
        "        model(src, tgt, enc_mask, dec_enc_mask, dec_mask)\n",
        "        loss = loss_function(gold, predictions[:, :-1])\n",
        "\n",
        "    # 최종적으로 optimizer.apply_gradients()가 사용됩니다. \n",
        "    gradients = tape.gradient(loss, model.trainable_variables)\n",
        "    optimizer.apply_gradients(zip(gradients, model.trainable_variables))\n",
        "    \n",
        "    return loss, enc_attns, dec_attns, dec_enc_attns"
      ],
      "metadata": {
        "id": "BoO7UnrmmOmX"
      },
      "execution_count": null,
      "outputs": []
    },
    {
      "cell_type": "markdown",
      "source": [
        "##Evaluation"
      ],
      "metadata": {
        "id": "Pthh0mzimZBf"
      }
    },
    {
      "cell_type": "code",
      "source": [
        "def visualize_attention(src, tgt, enc_attns, dec_attns, dec_enc_attns):\n",
        "    def draw(data, ax, x=\"auto\", y=\"auto\"):\n",
        "        import seaborn\n",
        "        seaborn.heatmap(data, \n",
        "                        square=True,\n",
        "                        vmin=0.0, vmax=1.0, \n",
        "                        cbar=False, ax=ax,\n",
        "                        xticklabels=x,\n",
        "                        yticklabels=y)\n",
        "        \n",
        "    for layer in range(0, 2, 1):\n",
        "        fig, axs = plt.subplots(1, 4, figsize=(16, 8))\n",
        "        print(\"Encoder Layer\", layer + 1)\n",
        "        for h in range(4):\n",
        "            draw(enc_attns[layer][0, h, :len(src), :len(src)], axs[h], src, src)\n",
        "        plt.show()\n",
        "        print()\n",
        "        \n",
        "    for layer in range(0, 2, 1):\n",
        "        fig, axs = plt.subplots(1, 4, figsize=(16, 8))\n",
        "        print(\"Decoder Self Layer\", layer+1)\n",
        "        for h in range(4):\n",
        "            draw(dec_attns[layer][0, h, :len(tgt), :len(tgt)], axs[h], tgt, tgt)\n",
        "        plt.show()\n",
        "        print()\n",
        "\n",
        "        print(\"Decoder Src Layer\", layer+1)\n",
        "        fig, axs = plt.subplots(1, 4, figsize=(16, 8))\n",
        "        for h in range(4):\n",
        "            draw(dec_enc_attns[layer][0, h, :len(tgt), :len(src)], axs[h], src, tgt)\n",
        "        plt.show()\n",
        "        print()"
      ],
      "metadata": {
        "id": "SuOYVd60mbiH"
      },
      "execution_count": null,
      "outputs": []
    },
    {
      "cell_type": "code",
      "source": [
        "def evaluate(sentence, model, src_tokenizer, tgt_tokenizer):\n",
        "    sentence = preprocess_sentence(sentence)\n",
        "\n",
        "    pieces = src_tokenizer.encode_as_pieces(sentence)\n",
        "    tokens = src_tokenizer.encode_as_ids(sentence)\n",
        "\n",
        "    _input = tf.keras.preprocessing.sequence.pad_sequences([tokens],\n",
        "                                                           maxlen=enc_train.shape[-1],\n",
        "                                                           padding='post')\n",
        "    \n",
        "    ids = []\n",
        "    output = tf.expand_dims([tgt_tokenizer.bos_id()], 0)\n",
        "    for i in range(dec_train.shape[-1]):\n",
        "        enc_padding_mask, combined_mask, dec_padding_mask = \\\n",
        "        generate_masks(_input, output)\n",
        "\n",
        "        predictions, enc_attns, dec_attns, dec_enc_attns =\\\n",
        "        model(_input, \n",
        "              output,\n",
        "              enc_padding_mask,\n",
        "              combined_mask,\n",
        "              dec_padding_mask)\n",
        "\n",
        "        predicted_id = \\\n",
        "        tf.argmax(tf.math.softmax(predictions, axis=-1)[0, -1]).numpy().item()\n",
        "\n",
        "        if tgt_tokenizer.eos_id() == predicted_id:\n",
        "            result = tgt_tokenizer.decode_ids(ids)\n",
        "            return pieces, result, enc_attns, dec_attns, dec_enc_attns\n",
        "\n",
        "        ids.append(predicted_id)\n",
        "        output = tf.concat([output, tf.expand_dims([predicted_id], 0)], axis=-1)\n",
        "\n",
        "    result = tgt_tokenizer.decode_ids(ids)\n",
        "\n",
        "    return pieces, result, enc_attns, dec_attns, dec_enc_attns"
      ],
      "metadata": {
        "id": "q0N-iN33mb_2"
      },
      "execution_count": null,
      "outputs": []
    },
    {
      "cell_type": "code",
      "source": [
        "def translate(sentence, model, src_tokenizer, tgt_tokenizer, plot_attention=True):\n",
        "    pieces, result, enc_attns, dec_attns, dec_enc_attns = \\\n",
        "    evaluate(sentence, model, src_tokenizer, tgt_tokenizer)\n",
        "    \n",
        "    print('Input: %s' % (sentence))\n",
        "    print('Predicted translation: {}'.format(result))\n",
        "    print()\n",
        "\n",
        "    if plot_attention:\n",
        "        visualize_attention(pieces, result.split(), enc_attns, dec_attns, dec_enc_attns)"
      ],
      "metadata": {
        "id": "zfctAhoimjQm"
      },
      "execution_count": null,
      "outputs": []
    },
    {
      "cell_type": "code",
      "source": [
        "def sentence_translator(sentence, model, src_tokenizer, tgt_tokenizer):\n",
        "    pieces, result, enc_attns, dec_attns, dec_enc_attns = \\\n",
        "    evaluate(sentence, model, src_tokenizer, tgt_tokenizer)\n",
        "    \n",
        "    print('Input: %s' % (sentence))\n",
        "    print('Predicted translation: {}'.format(result))"
      ],
      "metadata": {
        "id": "yrb9GIRuxj8g"
      },
      "execution_count": null,
      "outputs": []
    },
    {
      "cell_type": "markdown",
      "source": [
        "#모델 학습"
      ],
      "metadata": {
        "id": "ci8xHG_Rjfim"
      }
    },
    {
      "cell_type": "code",
      "source": [
        "transformer = Transformer(n_layers=2, \n",
        "                          d_model=512, \n",
        "                          n_heads=8, \n",
        "                          d_ff=2048, \n",
        "                          src_vocab_size=src_vocab_size, \n",
        "                          tgt_vocab_size=tgt_vocab_size, \n",
        "                          pos_len=256, \n",
        "                          dropout=0.1)"
      ],
      "metadata": {
        "id": "BP0YgEbujhTZ"
      },
      "execution_count": null,
      "outputs": []
    },
    {
      "cell_type": "code",
      "source": [
        "learning_rate = LearningRateScheduler(512)\n",
        "optimizer = tf.keras.optimizers.Adam(learning_rate,\n",
        "                                     beta_1=0.9,\n",
        "                                     beta_2=0.98, \n",
        "                                     epsilon=1e-9)"
      ],
      "metadata": {
        "id": "BVWdGiINiie-"
      },
      "execution_count": null,
      "outputs": []
    },
    {
      "cell_type": "code",
      "source": [
        "model_loss_df = pd.DataFrame({'Epoch':[0],\n",
        "                             'Train Loss':[0]})\n",
        "\n",
        "batch_size = 64\n",
        "epochs = 30\n",
        "train_count = 0\n",
        "\n",
        "sentence_list = [\"오바마는 대통령이다.\", \"시민들은 도시 속에 산다.\",\n",
        "                 \"커피는 필요 없다.\", \"일곱 명의 사망자가 발생했다.\"]\n",
        "\n",
        "for epoch in range(epochs):\n",
        "    total_loss = 0\n",
        "    \n",
        "    idx_list = list(range(0, enc_train.shape[0], batch_size))\n",
        "    random.shuffle(idx_list)\n",
        "\n",
        "    for (batch, idx) in enumerate(idx_list):\n",
        "        batch_loss, enc_attns, dec_attns, dec_enc_attns = \\\n",
        "        train_step(enc_train[idx:idx+batch_size],\n",
        "                    dec_train[idx:idx+batch_size],\n",
        "                    transformer,\n",
        "                    optimizer)\n",
        "\n",
        "        total_loss += batch_loss\n",
        "\n",
        "        train_count += 1\n",
        "\n",
        "        if train_count % len(idx_list) == 0:\n",
        "            model_loss_df.loc[epoch] = [epoch + 1, round(total_loss.numpy() / (batch + 1), 4)]\n",
        "            model_loss_df = model_loss_df.astype({'Epoch':'int'})\n",
        "        \n",
        "            if epoch == 0 or (epoch + 1) % 2 == 0:\n",
        "                print('Epoch {}'.format(epoch + 1))\n",
        "                print('Train Loss {:.4f}'.format(total_loss.numpy() / (batch + 1)))\n",
        "                print()\n",
        "\n",
        "                for sentence in sentence_list:\n",
        "                    sentence_translator(sentence, transformer, ko_tokenizer, en_tokenizer)\n",
        "                    print()\n",
        "                print()"
      ],
      "metadata": {
        "id": "CtyDoVUTt6kW",
        "colab": {
          "base_uri": "https://localhost:8080/"
        },
        "outputId": "c36fad9b-855a-4f3c-baf7-81e710d351e1"
      },
      "execution_count": null,
      "outputs": [
        {
          "output_type": "stream",
          "name": "stdout",
          "text": [
            "Epoch 1\n",
            "Train Loss 6.0602\n",
            "\n",
            "Input: 오바마는 대통령이다.\n",
            "Predicted translation: obama is obama s obama .\n",
            "\n",
            "Input: 시민들은 도시 속에 산다.\n",
            "Predicted translation: the year old boys were killed .\n",
            "\n",
            "Input: 커피는 필요 없다.\n",
            "Predicted translation: the reason is not to be .\n",
            "\n",
            "Input: 일곱 명의 사망자가 발생했다.\n",
            "Predicted translation: the two hours were killed .\n",
            "\n",
            "\n",
            "Epoch 2\n",
            "Train Loss 4.5847\n",
            "\n",
            "Input: 오바마는 대통령이다.\n",
            "Predicted translation: obama is a little bit of the president .\n",
            "\n",
            "Input: 시민들은 도시 속에 산다.\n",
            "Predicted translation: the city s urban is away .\n",
            "\n",
            "Input: 커피는 필요 없다.\n",
            "Predicted translation: coffee is not no matter .\n",
            "\n",
            "Input: 일곱 명의 사망자가 발생했다.\n",
            "Predicted translation: the total , , died sunday .\n",
            "\n",
            "\n",
            "Epoch 4\n",
            "Train Loss 3.5875\n",
            "\n",
            "Input: 오바마는 대통령이다.\n",
            "Predicted translation: obama is a president .\n",
            "\n",
            "Input: 시민들은 도시 속에 산다.\n",
            "Predicted translation: the city is the city s .\n",
            "\n",
            "Input: 커피는 필요 없다.\n",
            "Predicted translation: it needs to need .\n",
            "\n",
            "Input: 일곱 명의 사망자가 발생했다.\n",
            "Predicted translation: the death toll from the death toll .\n",
            "\n",
            "\n",
            "Epoch 6\n",
            "Train Loss 2.4921\n",
            "\n",
            "Input: 오바마는 대통령이다.\n",
            "Predicted translation: the president is the first .\n",
            "\n",
            "Input: 시민들은 도시 속에 산다.\n",
            "Predicted translation: mountain is a street manhattan street at the mountain .\n",
            "\n",
            "Input: 커피는 필요 없다.\n",
            "Predicted translation: coffee .\n",
            "\n",
            "Input: 일곱 명의 사망자가 발생했다.\n",
            "Predicted translation: seven people were killed sunday .\n",
            "\n",
            "\n",
            "Epoch 8\n",
            "Train Loss 1.4550\n",
            "\n",
            "Input: 오바마는 대통령이다.\n",
            "Predicted translation: obama is the only president .\n",
            "\n",
            "Input: 시민들은 도시 속에 산다.\n",
            "Predicted translation: on the street , you forget about .\n",
            "\n",
            "Input: 커피는 필요 없다.\n",
            "Predicted translation: the coffee is called it a good thing .\n",
            "\n",
            "Input: 일곱 명의 사망자가 발생했다.\n",
            "Predicted translation: seven seventeen others were reported .\n",
            "\n",
            "\n",
            "Epoch 10\n",
            "Train Loss 0.8105\n",
            "\n",
            "Input: 오바마는 대통령이다.\n",
            "Predicted translation: obama is the only president .\n",
            "\n",
            "Input: 시민들은 도시 속에 산다.\n",
            "Predicted translation: they took into the city .\n",
            "\n",
            "Input: 커피는 필요 없다.\n",
            "Predicted translation: it does need a need no sign of coffee .\n",
            "\n",
            "Input: 일곱 명의 사망자가 발생했다.\n",
            "Predicted translation: seven people were killed and the seven deaths a dozen died sunday after the seven deaths .\n",
            "\n",
            "\n",
            "Epoch 12\n",
            "Train Loss 0.5033\n",
            "\n",
            "Input: 오바마는 대통령이다.\n",
            "Predicted translation: mccain is the illinois senator .\n",
            "\n",
            "Input: 시민들은 도시 속에 산다.\n",
            "Predicted translation: they took over of the city .\n",
            "\n",
            "Input: 커피는 필요 없다.\n",
            "Predicted translation: no one needs to be demonstration .\n",
            "\n",
            "Input: 일곱 명의 사망자가 발생했다.\n",
            "Predicted translation: seven people were killed and the seven death toll was reported to seven dead and climb the seventh of seven figure .\n",
            "\n",
            "\n",
            "Epoch 14\n",
            "Train Loss 0.3562\n",
            "\n",
            "Input: 오바마는 대통령이다.\n",
            "Predicted translation: obama is the first president .\n",
            "\n",
            "Input: 시민들은 도시 속에 산다.\n",
            "Predicted translation: only a few of the cities around the world .\n",
            "\n",
            "Input: 커피는 필요 없다.\n",
            "Predicted translation: coffee doesn t needy at site for coffee\n",
            "\n",
            "Input: 일곱 명의 사망자가 발생했다.\n",
            "Predicted translation: seventeen these deaths are reported to be .\n",
            "\n",
            "\n",
            "Epoch 16\n",
            "Train Loss 0.2771\n",
            "\n",
            "Input: 오바마는 대통령이다.\n",
            "Predicted translation: obama is the first thing\n",
            "\n",
            "Input: 시민들은 도시 속에 산다.\n",
            "Predicted translation: they took a couple of cities in the city .\n",
            "\n",
            "Input: 커피는 필요 없다.\n",
            "Predicted translation: you need a gerald for water .\n",
            "\n",
            "Input: 일곱 명의 사망자가 발생했다.\n",
            "Predicted translation: seven other dead were all reported tuesday .\n",
            "\n",
            "\n",
            "Epoch 18\n",
            "Train Loss 0.2214\n",
            "\n",
            "Input: 오바마는 대통령이다.\n",
            "Predicted translation: obama is the upcoming president .\n",
            "\n",
            "Input: 시민들은 도시 속에 산다.\n",
            "Predicted translation: they took the four sky .\n",
            "\n",
            "Input: 커피는 필요 없다.\n",
            "Predicted translation: the no need for coffee\n",
            "\n",
            "Input: 일곱 명의 사망자가 발생했다.\n",
            "Predicted translation: seven and seven figure was reported dead .\n",
            "\n",
            "\n",
            "Epoch 20\n",
            "Train Loss 0.1880\n",
            "\n",
            "Input: 오바마는 대통령이다.\n",
            "Predicted translation: obama is the illinois president .\n",
            "\n",
            "Input: 시민들은 도시 속에 산다.\n",
            "Predicted translation: they re also aircraft in the city .\n",
            "\n",
            "Input: 커피는 필요 없다.\n",
            "Predicted translation: coffee doesn t needy at . . coffee\n",
            "\n",
            "Input: 일곱 명의 사망자가 발생했다.\n",
            "Predicted translation: seven seventy seven high nominated , the seven figure was reported missing .\n",
            "\n",
            "\n",
            "Epoch 22\n",
            "Train Loss 0.1592\n",
            "\n",
            "Input: 오바마는 대통령이다.\n",
            "Predicted translation: obama is the country s first president .\n",
            "\n",
            "Input: 시민들은 도시 속에 산다.\n",
            "Predicted translation: they opened fire in the heart of the city .\n",
            "\n",
            "Input: 커피는 필요 없다.\n",
            "Predicted translation: coffee is a nod need for coffee .\n",
            "\n",
            "Input: 일곱 명의 사망자가 발생했다.\n",
            "Predicted translation: seven and seven cups were reported .\n",
            "\n",
            "\n",
            "Epoch 24\n",
            "Train Loss 0.1407\n",
            "\n",
            "Input: 오바마는 대통령이다.\n",
            "Predicted translation: obama is the first democratic .\n",
            "\n",
            "Input: 시민들은 도시 속에 산다.\n",
            "Predicted translation: the internet is measured in the park .\n",
            "\n",
            "Input: 커피는 필요 없다.\n",
            "Predicted translation: cheaper way , need to be stood at .\n",
            "\n",
            "Input: 일곱 명의 사망자가 발생했다.\n",
            "Predicted translation: seven people were killed seven monday .\n",
            "\n",
            "\n",
            "Epoch 26\n",
            "Train Loss 0.1257\n",
            "\n",
            "Input: 오바마는 대통령이다.\n",
            "Predicted translation: obama is the first family .\n",
            "\n",
            "Input: 시민들은 도시 속에 산다.\n",
            "Predicted translation: they can only gain in the cities .\n",
            "\n",
            "Input: 커피는 필요 없다.\n",
            "Predicted translation: no coffee is needed .\n",
            "\n",
            "Input: 일곱 명의 사망자가 발생했다.\n",
            "Predicted translation: seventeen these dead were reported .\n",
            "\n",
            "\n",
            "Epoch 28\n",
            "Train Loss 0.1154\n",
            "\n",
            "Input: 오바마는 대통령이다.\n",
            "Predicted translation: obama is the illinois senator .\n",
            "\n",
            "Input: 시민들은 도시 속에 산다.\n",
            "Predicted translation: the crowds at the cities of neighboring friedl mountains .\n",
            "\n",
            "Input: 커피는 필요 없다.\n",
            "Predicted translation: coffee is needed to be a no good coffee to helpy coffee .\n",
            "\n",
            "Input: 일곱 명의 사망자가 발생했다.\n",
            "Predicted translation: seven deaths seven days are reported .\n",
            "\n",
            "\n",
            "Epoch 30\n",
            "Train Loss 0.1079\n",
            "\n",
            "Input: 오바마는 대통령이다.\n",
            "Predicted translation: obama is the first wife of president .\n",
            "\n",
            "Input: 시민들은 도시 속에 산다.\n",
            "Predicted translation: they just live in the town of music .\n",
            "\n",
            "Input: 커피는 필요 없다.\n",
            "Predicted translation: coffee is a good sign .\n",
            "\n",
            "Input: 일곱 명의 사망자가 발생했다.\n",
            "Predicted translation: seven and seven died seven days .\n",
            "\n",
            "\n"
          ]
        }
      ]
    },
    {
      "cell_type": "code",
      "source": [
        "pd.set_option('display.max_rows', 10)\n",
        "model_loss_df"
      ],
      "metadata": {
        "colab": {
          "base_uri": "https://localhost:8080/",
          "height": 424
        },
        "id": "-85aht3dHlWT",
        "outputId": "61d2c42e-5d1c-41f0-9780-6c9124d75ab6"
      },
      "execution_count": null,
      "outputs": [
        {
          "output_type": "execute_result",
          "data": {
            "text/plain": [
              "    Epoch  Train Loss\n",
              "0       1      6.0602\n",
              "1       2      4.5847\n",
              "2       3      3.9839\n",
              "3       4      3.5875\n",
              "4       5      3.0987\n",
              "..    ...         ...\n",
              "25     26      0.1257\n",
              "26     27      0.1215\n",
              "27     28      0.1154\n",
              "28     29      0.1109\n",
              "29     30      0.1079\n",
              "\n",
              "[30 rows x 2 columns]"
            ],
            "text/html": [
              "\n",
              "  <div id=\"df-62eb2404-c280-4d08-9643-ff48de232172\">\n",
              "    <div class=\"colab-df-container\">\n",
              "      <div>\n",
              "<style scoped>\n",
              "    .dataframe tbody tr th:only-of-type {\n",
              "        vertical-align: middle;\n",
              "    }\n",
              "\n",
              "    .dataframe tbody tr th {\n",
              "        vertical-align: top;\n",
              "    }\n",
              "\n",
              "    .dataframe thead th {\n",
              "        text-align: right;\n",
              "    }\n",
              "</style>\n",
              "<table border=\"1\" class=\"dataframe\">\n",
              "  <thead>\n",
              "    <tr style=\"text-align: right;\">\n",
              "      <th></th>\n",
              "      <th>Epoch</th>\n",
              "      <th>Train Loss</th>\n",
              "    </tr>\n",
              "  </thead>\n",
              "  <tbody>\n",
              "    <tr>\n",
              "      <th>0</th>\n",
              "      <td>1</td>\n",
              "      <td>6.0602</td>\n",
              "    </tr>\n",
              "    <tr>\n",
              "      <th>1</th>\n",
              "      <td>2</td>\n",
              "      <td>4.5847</td>\n",
              "    </tr>\n",
              "    <tr>\n",
              "      <th>2</th>\n",
              "      <td>3</td>\n",
              "      <td>3.9839</td>\n",
              "    </tr>\n",
              "    <tr>\n",
              "      <th>3</th>\n",
              "      <td>4</td>\n",
              "      <td>3.5875</td>\n",
              "    </tr>\n",
              "    <tr>\n",
              "      <th>4</th>\n",
              "      <td>5</td>\n",
              "      <td>3.0987</td>\n",
              "    </tr>\n",
              "    <tr>\n",
              "      <th>...</th>\n",
              "      <td>...</td>\n",
              "      <td>...</td>\n",
              "    </tr>\n",
              "    <tr>\n",
              "      <th>25</th>\n",
              "      <td>26</td>\n",
              "      <td>0.1257</td>\n",
              "    </tr>\n",
              "    <tr>\n",
              "      <th>26</th>\n",
              "      <td>27</td>\n",
              "      <td>0.1215</td>\n",
              "    </tr>\n",
              "    <tr>\n",
              "      <th>27</th>\n",
              "      <td>28</td>\n",
              "      <td>0.1154</td>\n",
              "    </tr>\n",
              "    <tr>\n",
              "      <th>28</th>\n",
              "      <td>29</td>\n",
              "      <td>0.1109</td>\n",
              "    </tr>\n",
              "    <tr>\n",
              "      <th>29</th>\n",
              "      <td>30</td>\n",
              "      <td>0.1079</td>\n",
              "    </tr>\n",
              "  </tbody>\n",
              "</table>\n",
              "<p>30 rows × 2 columns</p>\n",
              "</div>\n",
              "      <button class=\"colab-df-convert\" onclick=\"convertToInteractive('df-62eb2404-c280-4d08-9643-ff48de232172')\"\n",
              "              title=\"Convert this dataframe to an interactive table.\"\n",
              "              style=\"display:none;\">\n",
              "        \n",
              "  <svg xmlns=\"http://www.w3.org/2000/svg\" height=\"24px\"viewBox=\"0 0 24 24\"\n",
              "       width=\"24px\">\n",
              "    <path d=\"M0 0h24v24H0V0z\" fill=\"none\"/>\n",
              "    <path d=\"M18.56 5.44l.94 2.06.94-2.06 2.06-.94-2.06-.94-.94-2.06-.94 2.06-2.06.94zm-11 1L8.5 8.5l.94-2.06 2.06-.94-2.06-.94L8.5 2.5l-.94 2.06-2.06.94zm10 10l.94 2.06.94-2.06 2.06-.94-2.06-.94-.94-2.06-.94 2.06-2.06.94z\"/><path d=\"M17.41 7.96l-1.37-1.37c-.4-.4-.92-.59-1.43-.59-.52 0-1.04.2-1.43.59L10.3 9.45l-7.72 7.72c-.78.78-.78 2.05 0 2.83L4 21.41c.39.39.9.59 1.41.59.51 0 1.02-.2 1.41-.59l7.78-7.78 2.81-2.81c.8-.78.8-2.07 0-2.86zM5.41 20L4 18.59l7.72-7.72 1.47 1.35L5.41 20z\"/>\n",
              "  </svg>\n",
              "      </button>\n",
              "      \n",
              "  <style>\n",
              "    .colab-df-container {\n",
              "      display:flex;\n",
              "      flex-wrap:wrap;\n",
              "      gap: 12px;\n",
              "    }\n",
              "\n",
              "    .colab-df-convert {\n",
              "      background-color: #E8F0FE;\n",
              "      border: none;\n",
              "      border-radius: 50%;\n",
              "      cursor: pointer;\n",
              "      display: none;\n",
              "      fill: #1967D2;\n",
              "      height: 32px;\n",
              "      padding: 0 0 0 0;\n",
              "      width: 32px;\n",
              "    }\n",
              "\n",
              "    .colab-df-convert:hover {\n",
              "      background-color: #E2EBFA;\n",
              "      box-shadow: 0px 1px 2px rgba(60, 64, 67, 0.3), 0px 1px 3px 1px rgba(60, 64, 67, 0.15);\n",
              "      fill: #174EA6;\n",
              "    }\n",
              "\n",
              "    [theme=dark] .colab-df-convert {\n",
              "      background-color: #3B4455;\n",
              "      fill: #D2E3FC;\n",
              "    }\n",
              "\n",
              "    [theme=dark] .colab-df-convert:hover {\n",
              "      background-color: #434B5C;\n",
              "      box-shadow: 0px 1px 3px 1px rgba(0, 0, 0, 0.15);\n",
              "      filter: drop-shadow(0px 1px 2px rgba(0, 0, 0, 0.3));\n",
              "      fill: #FFFFFF;\n",
              "    }\n",
              "  </style>\n",
              "\n",
              "      <script>\n",
              "        const buttonEl =\n",
              "          document.querySelector('#df-62eb2404-c280-4d08-9643-ff48de232172 button.colab-df-convert');\n",
              "        buttonEl.style.display =\n",
              "          google.colab.kernel.accessAllowed ? 'block' : 'none';\n",
              "\n",
              "        async function convertToInteractive(key) {\n",
              "          const element = document.querySelector('#df-62eb2404-c280-4d08-9643-ff48de232172');\n",
              "          const dataTable =\n",
              "            await google.colab.kernel.invokeFunction('convertToInteractive',\n",
              "                                                     [key], {});\n",
              "          if (!dataTable) return;\n",
              "\n",
              "          const docLinkHtml = 'Like what you see? Visit the ' +\n",
              "            '<a target=\"_blank\" href=https://colab.research.google.com/notebooks/data_table.ipynb>data table notebook</a>'\n",
              "            + ' to learn more about interactive tables.';\n",
              "          element.innerHTML = '';\n",
              "          dataTable['output_type'] = 'display_data';\n",
              "          await google.colab.output.renderOutput(dataTable, element);\n",
              "          const docLink = document.createElement('div');\n",
              "          docLink.innerHTML = docLinkHtml;\n",
              "          element.appendChild(docLink);\n",
              "        }\n",
              "      </script>\n",
              "    </div>\n",
              "  </div>\n",
              "  "
            ]
          },
          "metadata": {},
          "execution_count": 45
        }
      ]
    },
    {
      "cell_type": "code",
      "source": [
        "model_loss_df.to_csv(\"/content/drive/MyDrive/lms/transformer_translation/model_loss.csv\", index = False)"
      ],
      "metadata": {
        "id": "QuyoFn5JfyAX"
      },
      "execution_count": null,
      "outputs": []
    },
    {
      "cell_type": "code",
      "source": [
        "plt.figure(figsize=[12, 4])\n",
        "plt.plot(model_loss_df['Train Loss'] , label=\"Train Loss\")\n",
        "plt.legend()\n",
        "plt.title('Loss')\n",
        "plt.xlabel('Epoch')\n",
        "plt.ylabel('Value')\n",
        "plt.show()"
      ],
      "metadata": {
        "id": "b43ovHRSLv9P",
        "colab": {
          "base_uri": "https://localhost:8080/",
          "height": 297
        },
        "outputId": "a223c86a-e45e-4cb8-fd06-cdec8015e229"
      },
      "execution_count": null,
      "outputs": [
        {
          "output_type": "display_data",
          "data": {
            "text/plain": [
              "<Figure size 864x288 with 1 Axes>"
            ],
            "image/png": "[encoded data removed]"
          },
          "metadata": {
            "image/png": {
              "width": 711,
              "height": 280
            },
            "needs_background": "light"
          }
        }
      ]
    },
    {
      "cell_type": "markdown",
      "source": [
        "최종 모델의 Epoch을 10으로 설정한다.\n",
        "<br/>Epoch 10 이상부터는 Train Loss의 변화가 거의 없고 Test Loss가 증가하여 과적합 문제가 심해진다."
      ],
      "metadata": {
        "id": "VeTV72K2FhDO"
      }
    },
    {
      "cell_type": "markdown",
      "source": [
        "#최종 모델"
      ],
      "metadata": {
        "id": "Mk1Hc0s-K6e-"
      }
    },
    {
      "cell_type": "code",
      "source": [
        "transformer = Transformer(n_layers=2, \n",
        "                          d_model=512, \n",
        "                          n_heads=8, \n",
        "                          d_ff=2048, \n",
        "                          src_vocab_size=src_vocab_size, \n",
        "                          tgt_vocab_size=tgt_vocab_size, \n",
        "                          pos_len=256, \n",
        "                          dropout=0.1)"
      ],
      "metadata": {
        "id": "yM0kUMmABDT0"
      },
      "execution_count": null,
      "outputs": []
    },
    {
      "cell_type": "code",
      "source": [
        "learning_rate = LearningRateScheduler(512)\n",
        "optimizer = tf.keras.optimizers.Adam(learning_rate,\n",
        "                                     beta_1=0.9,\n",
        "                                     beta_2=0.98, \n",
        "                                     epsilon=1e-9)"
      ],
      "metadata": {
        "id": "hSRsnxysBGXb"
      },
      "execution_count": null,
      "outputs": []
    },
    {
      "cell_type": "code",
      "source": [
        "final_model_loss_df = pd.DataFrame({'Epoch':[0],\n",
        "                             'Train Loss':[0]})\n",
        "\n",
        "batch_size = 64\n",
        "epochs = 10\n",
        "train_count = 0\n",
        "\n",
        "for epoch in range(epochs):\n",
        "    total_loss = 0\n",
        "    \n",
        "    idx_list = list(range(0, enc_train.shape[0], batch_size))\n",
        "    random.shuffle(idx_list)\n",
        "\n",
        "    for (batch, idx) in enumerate(idx_list):\n",
        "        batch_loss, enc_attns, dec_attns, dec_enc_attns = \\\n",
        "        train_step(enc_train[idx:idx+batch_size],\n",
        "                    dec_train[idx:idx+batch_size],\n",
        "                    transformer,\n",
        "                    optimizer)\n",
        "\n",
        "        total_loss += batch_loss\n",
        "\n",
        "        train_count += 1\n",
        "\n",
        "        if train_count % len(idx_list) == 0:\n",
        "            final_model_loss_df.loc[epoch] = [epoch + 1, round(total_loss.numpy() / (batch + 1), 4)]\n",
        "            final_model_loss_df = final_model_loss_df.astype({'Epoch':'int'})\n",
        "            print('Epoch {}  Train Loss {:.4f}'.format(epoch + 1, total_loss.numpy() / (batch + 1)))"
      ],
      "metadata": {
        "id": "f7Tg-5UxKYtM",
        "colab": {
          "base_uri": "https://localhost:8080/"
        },
        "outputId": "9303d86b-7e92-4057-c435-2ff5ca65dab3"
      },
      "execution_count": null,
      "outputs": [
        {
          "output_type": "stream",
          "name": "stdout",
          "text": [
            "Epoch 1  Train Loss 6.0585\n",
            "Epoch 2  Train Loss 4.5797\n",
            "Epoch 3  Train Loss 3.9776\n",
            "Epoch 4  Train Loss 3.5826\n",
            "Epoch 5  Train Loss 3.0897\n",
            "Epoch 6  Train Loss 2.4725\n",
            "Epoch 7  Train Loss 1.9086\n",
            "Epoch 8  Train Loss 1.4308\n",
            "Epoch 9  Train Loss 1.0601\n",
            "Epoch 10  Train Loss 0.7867\n"
          ]
        }
      ]
    },
    {
      "cell_type": "code",
      "source": [
        "final_model_loss_df"
      ],
      "metadata": {
        "id": "u_w3xRSxLx1O",
        "colab": {
          "base_uri": "https://localhost:8080/",
          "height": 363
        },
        "outputId": "80619350-8b8f-4de1-a941-dddef0153536"
      },
      "execution_count": null,
      "outputs": [
        {
          "output_type": "execute_result",
          "data": {
            "text/plain": [
              "   Epoch  Train Loss\n",
              "0      1      6.0585\n",
              "1      2      4.5797\n",
              "2      3      3.9776\n",
              "3      4      3.5826\n",
              "4      5      3.0897\n",
              "5      6      2.4725\n",
              "6      7      1.9086\n",
              "7      8      1.4308\n",
              "8      9      1.0601\n",
              "9     10      0.7867"
            ],
            "text/html": [
              "\n",
              "  <div id=\"df-1a8580c5-c803-4ecc-ae19-0cbd1b99663f\">\n",
              "    <div class=\"colab-df-container\">\n",
              "      <div>\n",
              "<style scoped>\n",
              "    .dataframe tbody tr th:only-of-type {\n",
              "        vertical-align: middle;\n",
              "    }\n",
              "\n",
              "    .dataframe tbody tr th {\n",
              "        vertical-align: top;\n",
              "    }\n",
              "\n",
              "    .dataframe thead th {\n",
              "        text-align: right;\n",
              "    }\n",
              "</style>\n",
              "<table border=\"1\" class=\"dataframe\">\n",
              "  <thead>\n",
              "    <tr style=\"text-align: right;\">\n",
              "      <th></th>\n",
              "      <th>Epoch</th>\n",
              "      <th>Train Loss</th>\n",
              "    </tr>\n",
              "  </thead>\n",
              "  <tbody>\n",
              "    <tr>\n",
              "      <th>0</th>\n",
              "      <td>1</td>\n",
              "      <td>6.0585</td>\n",
              "    </tr>\n",
              "    <tr>\n",
              "      <th>1</th>\n",
              "      <td>2</td>\n",
              "      <td>4.5797</td>\n",
              "    </tr>\n",
              "    <tr>\n",
              "      <th>2</th>\n",
              "      <td>3</td>\n",
              "      <td>3.9776</td>\n",
              "    </tr>\n",
              "    <tr>\n",
              "      <th>3</th>\n",
              "      <td>4</td>\n",
              "      <td>3.5826</td>\n",
              "    </tr>\n",
              "    <tr>\n",
              "      <th>4</th>\n",
              "      <td>5</td>\n",
              "      <td>3.0897</td>\n",
              "    </tr>\n",
              "    <tr>\n",
              "      <th>5</th>\n",
              "      <td>6</td>\n",
              "      <td>2.4725</td>\n",
              "    </tr>\n",
              "    <tr>\n",
              "      <th>6</th>\n",
              "      <td>7</td>\n",
              "      <td>1.9086</td>\n",
              "    </tr>\n",
              "    <tr>\n",
              "      <th>7</th>\n",
              "      <td>8</td>\n",
              "      <td>1.4308</td>\n",
              "    </tr>\n",
              "    <tr>\n",
              "      <th>8</th>\n",
              "      <td>9</td>\n",
              "      <td>1.0601</td>\n",
              "    </tr>\n",
              "    <tr>\n",
              "      <th>9</th>\n",
              "      <td>10</td>\n",
              "      <td>0.7867</td>\n",
              "    </tr>\n",
              "  </tbody>\n",
              "</table>\n",
              "</div>\n",
              "      <button class=\"colab-df-convert\" onclick=\"convertToInteractive('df-1a8580c5-c803-4ecc-ae19-0cbd1b99663f')\"\n",
              "              title=\"Convert this dataframe to an interactive table.\"\n",
              "              style=\"display:none;\">\n",
              "        \n",
              "  <svg xmlns=\"http://www.w3.org/2000/svg\" height=\"24px\"viewBox=\"0 0 24 24\"\n",
              "       width=\"24px\">\n",
              "    <path d=\"M0 0h24v24H0V0z\" fill=\"none\"/>\n",
              "    <path d=\"M18.56 5.44l.94 2.06.94-2.06 2.06-.94-2.06-.94-.94-2.06-.94 2.06-2.06.94zm-11 1L8.5 8.5l.94-2.06 2.06-.94-2.06-.94L8.5 2.5l-.94 2.06-2.06.94zm10 10l.94 2.06.94-2.06 2.06-.94-2.06-.94-.94-2.06-.94 2.06-2.06.94z\"/><path d=\"M17.41 7.96l-1.37-1.37c-.4-.4-.92-.59-1.43-.59-.52 0-1.04.2-1.43.59L10.3 9.45l-7.72 7.72c-.78.78-.78 2.05 0 2.83L4 21.41c.39.39.9.59 1.41.59.51 0 1.02-.2 1.41-.59l7.78-7.78 2.81-2.81c.8-.78.8-2.07 0-2.86zM5.41 20L4 18.59l7.72-7.72 1.47 1.35L5.41 20z\"/>\n",
              "  </svg>\n",
              "      </button>\n",
              "      \n",
              "  <style>\n",
              "    .colab-df-container {\n",
              "      display:flex;\n",
              "      flex-wrap:wrap;\n",
              "      gap: 12px;\n",
              "    }\n",
              "\n",
              "    .colab-df-convert {\n",
              "      background-color: #E8F0FE;\n",
              "      border: none;\n",
              "      border-radius: 50%;\n",
              "      cursor: pointer;\n",
              "      display: none;\n",
              "      fill: #1967D2;\n",
              "      height: 32px;\n",
              "      padding: 0 0 0 0;\n",
              "      width: 32px;\n",
              "    }\n",
              "\n",
              "    .colab-df-convert:hover {\n",
              "      background-color: #E2EBFA;\n",
              "      box-shadow: 0px 1px 2px rgba(60, 64, 67, 0.3), 0px 1px 3px 1px rgba(60, 64, 67, 0.15);\n",
              "      fill: #174EA6;\n",
              "    }\n",
              "\n",
              "    [theme=dark] .colab-df-convert {\n",
              "      background-color: #3B4455;\n",
              "      fill: #D2E3FC;\n",
              "    }\n",
              "\n",
              "    [theme=dark] .colab-df-convert:hover {\n",
              "      background-color: #434B5C;\n",
              "      box-shadow: 0px 1px 3px 1px rgba(0, 0, 0, 0.15);\n",
              "      filter: drop-shadow(0px 1px 2px rgba(0, 0, 0, 0.3));\n",
              "      fill: #FFFFFF;\n",
              "    }\n",
              "  </style>\n",
              "\n",
              "      <script>\n",
              "        const buttonEl =\n",
              "          document.querySelector('#df-1a8580c5-c803-4ecc-ae19-0cbd1b99663f button.colab-df-convert');\n",
              "        buttonEl.style.display =\n",
              "          google.colab.kernel.accessAllowed ? 'block' : 'none';\n",
              "\n",
              "        async function convertToInteractive(key) {\n",
              "          const element = document.querySelector('#df-1a8580c5-c803-4ecc-ae19-0cbd1b99663f');\n",
              "          const dataTable =\n",
              "            await google.colab.kernel.invokeFunction('convertToInteractive',\n",
              "                                                     [key], {});\n",
              "          if (!dataTable) return;\n",
              "\n",
              "          const docLinkHtml = 'Like what you see? Visit the ' +\n",
              "            '<a target=\"_blank\" href=https://colab.research.google.com/notebooks/data_table.ipynb>data table notebook</a>'\n",
              "            + ' to learn more about interactive tables.';\n",
              "          element.innerHTML = '';\n",
              "          dataTable['output_type'] = 'display_data';\n",
              "          await google.colab.output.renderOutput(dataTable, element);\n",
              "          const docLink = document.createElement('div');\n",
              "          docLink.innerHTML = docLinkHtml;\n",
              "          element.appendChild(docLink);\n",
              "        }\n",
              "      </script>\n",
              "    </div>\n",
              "  </div>\n",
              "  "
            ]
          },
          "metadata": {},
          "execution_count": 47
        }
      ]
    },
    {
      "cell_type": "code",
      "source": [
        "final_model_loss_df.to_csv(\"/content/drive/MyDrive/lms/transformer_translation/final_model_loss.csv\", index = False)"
      ],
      "metadata": {
        "id": "cvpMjM3Zft-e"
      },
      "execution_count": null,
      "outputs": []
    },
    {
      "cell_type": "code",
      "source": [
        "plt.figure(figsize=[12, 4])\n",
        "plt.plot(final_model_loss_df['Train Loss'] , label=\"Train Loss\")\n",
        "plt.legend()\n",
        "plt.title('Loss')\n",
        "plt.xlabel('Epoch')\n",
        "plt.ylabel('Value')\n",
        "plt.show()"
      ],
      "metadata": {
        "id": "go4Y3QrsLx37",
        "colab": {
          "base_uri": "https://localhost:8080/",
          "height": 297
        },
        "outputId": "29d34955-12ef-4d70-dd79-0c65e85bfafc"
      },
      "execution_count": null,
      "outputs": [
        {
          "output_type": "display_data",
          "data": {
            "text/plain": [
              "<Figure size 864x288 with 1 Axes>"
            ],
            "image/png": "[encoded data removed]"
          },
          "metadata": {
            "image/png": {
              "width": 711,
              "height": 280
            },
            "needs_background": "light"
          }
        }
      ]
    },
    {
      "cell_type": "markdown",
      "source": [
        "#모델 평가"
      ],
      "metadata": {
        "id": "S-v67XejGtC1"
      }
    },
    {
      "cell_type": "code",
      "source": [
        "sentence_list = [\"오바마는 대통령이다.\", \"시민들은 도시 속에 산다.\",\n",
        "                 \"커피는 필요 없다.\", \"일곱 명의 사망자가 발생했다.\"]\n",
        "\n",
        "for sentence in sentence_list:\n",
        "                    sentence_translator(sentence, transformer, ko_tokenizer, en_tokenizer)\n",
        "                    print()"
      ],
      "metadata": {
        "id": "0x4GWAaYLiiH",
        "colab": {
          "base_uri": "https://localhost:8080/"
        },
        "outputId": "cd0bd383-7e9a-4fb0-d7d8-657cefdac826"
      },
      "execution_count": null,
      "outputs": [
        {
          "output_type": "stream",
          "name": "stdout",
          "text": [
            "Input: 오바마는 대통령이다.\n",
            "Predicted translation: obama is the president .\n",
            "\n",
            "Input: 시민들은 도시 속에 산다.\n",
            "Predicted translation: the city puts around the world .\n",
            "\n",
            "Input: 커피는 필요 없다.\n",
            "Predicted translation: no need to no . . . . no need .\n",
            "\n",
            "Input: 일곱 명의 사망자가 발생했다.\n",
            "Predicted translation: the seven people were killed and seven others were hurt .\n",
            "\n"
          ]
        }
      ]
    },
    {
      "cell_type": "code",
      "source": [
        "translate(\"오바마는 대통령이다.\", transformer, ko_tokenizer, en_tokenizer)"
      ],
      "metadata": {
        "id": "vpGUVYfaKnJN",
        "colab": {
          "base_uri": "https://localhost:8080/",
          "height": 1000
        },
        "outputId": "77137441-5889-462b-8bac-cde4c7c6c5d6"
      },
      "execution_count": null,
      "outputs": [
        {
          "output_type": "stream",
          "name": "stdout",
          "text": [
            "Input: 오바마는 대통령이다.\n",
            "Predicted translation: obama is the president .\n",
            "\n",
            "Encoder Layer 1\n"
          ]
        },
        {
          "output_type": "display_data",
          "data": {
            "text/plain": [
              "<Figure size 1152x576 with 4 Axes>"
            ],
            "image/png": "[encoded data removed]"
          },
          "metadata": {
            "image/png": {
              "width": 925,
              "height": 226
            },
            "needs_background": "light"
          }
        },
        {
          "output_type": "stream",
          "name": "stdout",
          "text": [
            "\n",
            "Encoder Layer 2\n"
          ]
        },
        {
          "output_type": "display_data",
          "data": {
            "text/plain": [
              "<Figure size 1152x576 with 4 Axes>"
            ],
            "image/png": "[encoded data removed]"
          },
          "metadata": {
            "image/png": {
              "width": 925,
              "height": 226
            },
            "needs_background": "light"
          }
        },
        {
          "output_type": "stream",
          "name": "stdout",
          "text": [
            "\n",
            "Decoder Self Layer 1\n"
          ]
        },
        {
          "output_type": "display_data",
          "data": {
            "text/plain": [
              "<Figure size 1152x576 with 4 Axes>"
            ],
            "image/png": "[encoded data removed]"
          },
          "metadata": {
            "image/png": {
              "width": 925,
              "height": 226
            },
            "needs_background": "light"
          }
        },
        {
          "output_type": "stream",
          "name": "stdout",
          "text": [
            "\n",
            "Decoder Src Layer 1\n"
          ]
        },
        {
          "output_type": "display_data",
          "data": {
            "text/plain": [
              "<Figure size 1152x576 with 4 Axes>"
            ],
            "image/png": "[encoded data removed]"
          },
          "metadata": {
            "image/png": {
              "width": 925,
              "height": 226
            },
            "needs_background": "light"
          }
        },
        {
          "output_type": "stream",
          "name": "stdout",
          "text": [
            "\n",
            "Decoder Self Layer 2\n"
          ]
        },
        {
          "output_type": "display_data",
          "data": {
            "text/plain": [
              "<Figure size 1152x576 with 4 Axes>"
            ],
            "image/png": "[encoded data removed]"
          },
          "metadata": {
            "image/png": {
              "width": 925,
              "height": 226
            },
            "needs_background": "light"
          }
        },
        {
          "output_type": "stream",
          "name": "stdout",
          "text": [
            "\n",
            "Decoder Src Layer 2\n"
          ]
        },
        {
          "output_type": "display_data",
          "data": {
            "text/plain": [
              "<Figure size 1152x576 with 4 Axes>"
            ],
            "image/png": "[encoded data removed]"
          },
          "metadata": {
            "image/png": {
              "width": 925,
              "height": 226
            },
            "needs_background": "light"
          }
        },
        {
          "output_type": "stream",
          "name": "stdout",
          "text": [
            "\n"
          ]
        }
      ]
    },
    {
      "cell_type": "code",
      "source": [
        "translate(\"시민들은 도시 속에 산다.\", transformer, ko_tokenizer, en_tokenizer)"
      ],
      "metadata": {
        "id": "Ea3Sh8MRKnMF",
        "colab": {
          "base_uri": "https://localhost:8080/",
          "height": 1000
        },
        "outputId": "1cb69435-7945-4f2a-f527-a719cf5731e9"
      },
      "execution_count": null,
      "outputs": [
        {
          "output_type": "stream",
          "name": "stdout",
          "text": [
            "Input: 시민들은 도시 속에 산다.\n",
            "Predicted translation: the city puts around the world .\n",
            "\n",
            "Encoder Layer 1\n"
          ]
        },
        {
          "output_type": "display_data",
          "data": {
            "text/plain": [
              "<Figure size 1152x576 with 4 Axes>"
            ],
            "image/png": "[encoded data removed]"
          },
          "metadata": {
            "image/png": {
              "width": 925,
              "height": 227
            },
            "needs_background": "light"
          }
        },
        {
          "output_type": "stream",
          "name": "stdout",
          "text": [
            "\n",
            "Encoder Layer 2\n"
          ]
        },
        {
          "output_type": "display_data",
          "data": {
            "text/plain": [
              "<Figure size 1152x576 with 4 Axes>"
            ],
            "image/png": "[encoded data removed]"
          },
          "metadata": {
            "image/png": {
              "width": 925,
              "height": 227
            },
            "needs_background": "light"
          }
        },
        {
          "output_type": "stream",
          "name": "stdout",
          "text": [
            "\n",
            "Decoder Self Layer 1\n"
          ]
        },
        {
          "output_type": "display_data",
          "data": {
            "text/plain": [
              "<Figure size 1152x576 with 4 Axes>"
            ],
            "image/png": "[encoded data removed]"
          },
          "metadata": {
            "image/png": {
              "width": 925,
              "height": 226
            },
            "needs_background": "light"
          }
        },
        {
          "output_type": "stream",
          "name": "stdout",
          "text": [
            "\n",
            "Decoder Src Layer 1\n"
          ]
        },
        {
          "output_type": "display_data",
          "data": {
            "text/plain": [
              "<Figure size 1152x576 with 4 Axes>"
            ],
            "image/png": "[encoded data removed]"
          },
          "metadata": {
            "image/png": {
              "width": 925,
              "height": 226
            },
            "needs_background": "light"
          }
        },
        {
          "output_type": "stream",
          "name": "stdout",
          "text": [
            "\n",
            "Decoder Self Layer 2\n"
          ]
        },
        {
          "output_type": "display_data",
          "data": {
            "text/plain": [
              "<Figure size 1152x576 with 4 Axes>"
            ],
            "image/png": "[encoded data removed]"
          },
          "metadata": {
            "image/png": {
              "width": 925,
              "height": 226
            },
            "needs_background": "light"
          }
        },
        {
          "output_type": "stream",
          "name": "stdout",
          "text": [
            "\n",
            "Decoder Src Layer 2\n"
          ]
        },
        {
          "output_type": "display_data",
          "data": {
            "text/plain": [
              "<Figure size 1152x576 with 4 Axes>"
            ],
            "image/png": "[encoded data removed]"
          },
          "metadata": {
            "image/png": {
              "width": 925,
              "height": 226
            },
            "needs_background": "light"
          }
        },
        {
          "output_type": "stream",
          "name": "stdout",
          "text": [
            "\n"
          ]
        }
      ]
    },
    {
      "cell_type": "code",
      "source": [
        "translate(\"커피는 필요 없다.\", transformer, ko_tokenizer, en_tokenizer)"
      ],
      "metadata": {
        "id": "XZw2T5wfK2i2",
        "colab": {
          "base_uri": "https://localhost:8080/",
          "height": 1000
        },
        "outputId": "67767301-1c8c-4053-b031-0e1309313890"
      },
      "execution_count": null,
      "outputs": [
        {
          "output_type": "stream",
          "name": "stdout",
          "text": [
            "Input: 커피는 필요 없다.\n",
            "Predicted translation: no need to no . . . . no need .\n",
            "\n",
            "Encoder Layer 1\n"
          ]
        },
        {
          "output_type": "display_data",
          "data": {
            "text/plain": [
              "<Figure size 1152x576 with 4 Axes>"
            ],
            "image/png": "[encoded data removed]"
          },
          "metadata": {
            "image/png": {
              "width": 925,
              "height": 226
            },
            "needs_background": "light"
          }
        },
        {
          "output_type": "stream",
          "name": "stdout",
          "text": [
            "\n",
            "Encoder Layer 2\n"
          ]
        },
        {
          "output_type": "display_data",
          "data": {
            "text/plain": [
              "<Figure size 1152x576 with 4 Axes>"
            ],
            "image/png": "[encoded data removed]"
          },
          "metadata": {
            "image/png": {
              "width": 925,
              "height": 226
            },
            "needs_background": "light"
          }
        },
        {
          "output_type": "stream",
          "name": "stdout",
          "text": [
            "\n",
            "Decoder Self Layer 1\n"
          ]
        },
        {
          "output_type": "display_data",
          "data": {
            "text/plain": [
              "<Figure size 1152x576 with 4 Axes>"
            ],
            "image/png": "[encoded data removed]"
          },
          "metadata": {
            "image/png": {
              "width": 925,
              "height": 226
            },
            "needs_background": "light"
          }
        },
        {
          "output_type": "stream",
          "name": "stdout",
          "text": [
            "\n",
            "Decoder Src Layer 1\n"
          ]
        },
        {
          "output_type": "display_data",
          "data": {
            "text/plain": [
              "<Figure size 1152x576 with 4 Axes>"
            ],
            "image/png": "[encoded data removed]"
          },
          "metadata": {
            "image/png": {
              "width": 925,
              "height": 459
            },
            "needs_background": "light"
          }
        },
        {
          "output_type": "stream",
          "name": "stdout",
          "text": [
            "\n",
            "Decoder Self Layer 2\n"
          ]
        },
        {
          "output_type": "display_data",
          "data": {
            "text/plain": [
              "<Figure size 1152x576 with 4 Axes>"
            ],
            "image/png": "[encoded data removed]"
          },
          "metadata": {
            "image/png": {
              "width": 925,
              "height": 226
            },
            "needs_background": "light"
          }
        },
        {
          "output_type": "stream",
          "name": "stdout",
          "text": [
            "\n",
            "Decoder Src Layer 2\n"
          ]
        },
        {
          "output_type": "display_data",
          "data": {
            "text/plain": [
              "<Figure size 1152x576 with 4 Axes>"
            ],
            "image/png": "[encoded data removed]"
          },
          "metadata": {
            "image/png": {
              "width": 925,
              "height": 459
            },
            "needs_background": "light"
          }
        },
        {
          "output_type": "stream",
          "name": "stdout",
          "text": [
            "\n"
          ]
        }
      ]
    },
    {
      "cell_type": "code",
      "source": [
        "translate(\"일곱 명의 사망자가 발생했다.\", transformer, ko_tokenizer, en_tokenizer)"
      ],
      "metadata": {
        "id": "wZNoqXKKwbm-",
        "colab": {
          "base_uri": "https://localhost:8080/",
          "height": 1000
        },
        "outputId": "3248d11b-3c35-4f26-c35b-3bfaa7f11543"
      },
      "execution_count": null,
      "outputs": [
        {
          "output_type": "stream",
          "name": "stdout",
          "text": [
            "Input: 일곱 명의 사망자가 발생했다.\n",
            "Predicted translation: the seven people were killed and seven others were hurt .\n",
            "\n",
            "Encoder Layer 1\n"
          ]
        },
        {
          "output_type": "display_data",
          "data": {
            "text/plain": [
              "<Figure size 1152x576 with 4 Axes>"
            ],
            "image/png": "[encoded data removed]"
          },
          "metadata": {
            "image/png": {
              "width": 925,
              "height": 226
            },
            "needs_background": "light"
          }
        },
        {
          "output_type": "stream",
          "name": "stdout",
          "text": [
            "\n",
            "Encoder Layer 2\n"
          ]
        },
        {
          "output_type": "display_data",
          "data": {
            "text/plain": [
              "<Figure size 1152x576 with 4 Axes>"
            ],
            "image/png": "[encoded data removed]"
          },
          "metadata": {
            "image/png": {
              "width": 925,
              "height": 226
            },
            "needs_background": "light"
          }
        },
        {
          "output_type": "stream",
          "name": "stdout",
          "text": [
            "\n",
            "Decoder Self Layer 1\n"
          ]
        },
        {
          "output_type": "display_data",
          "data": {
            "text/plain": [
              "<Figure size 1152x576 with 4 Axes>"
            ],
            "image/png": "[encoded data removed]"
          },
          "metadata": {
            "image/png": {
              "width": 945,
              "height": 246
            },
            "needs_background": "light"
          }
        },
        {
          "output_type": "stream",
          "name": "stdout",
          "text": [
            "\n",
            "Decoder Src Layer 1\n"
          ]
        },
        {
          "output_type": "display_data",
          "data": {
            "text/plain": [
              "<Figure size 1152x576 with 4 Axes>"
            ],
            "image/png": "[encoded data removed]"
          },
          "metadata": {
            "image/png": {
              "width": 945,
              "height": 337
            },
            "needs_background": "light"
          }
        },
        {
          "output_type": "stream",
          "name": "stdout",
          "text": [
            "\n",
            "Decoder Self Layer 2\n"
          ]
        },
        {
          "output_type": "display_data",
          "data": {
            "text/plain": [
              "<Figure size 1152x576 with 4 Axes>"
            ],
            "image/png": "[encoded data removed]"
          },
          "metadata": {
            "image/png": {
              "width": 945,
              "height": 246
            },
            "needs_background": "light"
          }
        },
        {
          "output_type": "stream",
          "name": "stdout",
          "text": [
            "\n",
            "Decoder Src Layer 2\n"
          ]
        },
        {
          "output_type": "display_data",
          "data": {
            "text/plain": [
              "<Figure size 1152x576 with 4 Axes>"
            ],
            "image/png": "[encoded data removed]"
          },
          "metadata": {
            "image/png": {
              "width": 945,
              "height": 337
            },
            "needs_background": "light"
          }
        },
        {
          "output_type": "stream",
          "name": "stdout",
          "text": [
            "\n"
          ]
        }
      ]
    },
    {
      "cell_type": "markdown",
      "source": [
        "#Random State"
      ],
      "metadata": {
        "id": "lZtUq734glfi"
      }
    },
    {
      "cell_type": "markdown",
      "source": [
        "동일한 하이퍼파라미터와 데이터를 사용했는데 알고리즘을 작동시킬 때마다 다른 모델 학습 결과가 나온다.\n",
        "<br/>딥러닝 모델은 Random State로 작동하는 것인가?\n",
        "<br/>그렇다면 Random State로 작동하는 딥러닝 모델의 성능을 어떻게 측정할 수 있는가?\n",
        "<br/>매번 달라지는 모델 성능을 어떻게 확률분포로 나타낼 수 있는가?"
      ],
      "metadata": {
        "id": "YjIDh2vUwWdX"
      }
    },
    {
      "cell_type": "code",
      "source": [
        "final_model_loss_df2 = pd.DataFrame({'Epoch':[0],\n",
        "                             'Train Loss':[0]})\n",
        "\n",
        "batch_size = 64\n",
        "epochs = 10\n",
        "train_count = 0\n",
        "\n",
        "for epoch in range(epochs):\n",
        "    total_loss = 0\n",
        "    \n",
        "    idx_list = list(range(0, enc_train.shape[0], batch_size))\n",
        "    random.shuffle(idx_list)\n",
        "\n",
        "    for (batch, idx) in enumerate(idx_list):\n",
        "        batch_loss, enc_attns, dec_attns, dec_enc_attns = \\\n",
        "        train_step(enc_train[idx:idx+batch_size],\n",
        "                    dec_train[idx:idx+batch_size],\n",
        "                    transformer,\n",
        "                    optimizer)\n",
        "\n",
        "        total_loss += batch_loss\n",
        "\n",
        "        train_count += 1\n",
        "\n",
        "        if train_count % len(idx_list) == 0:\n",
        "            final_model_loss_df2.loc[epoch] = [epoch + 1, round(total_loss.numpy() / (batch + 1), 4)]\n",
        "            final_model_loss_df2 = final_model_loss_df2.astype({'Epoch':'int'})\n",
        "            print('Epoch {}  Train Loss {:.4f}'.format(epoch + 1, total_loss.numpy() / (batch + 1)))"
      ],
      "metadata": {
        "colab": {
          "base_uri": "https://localhost:8080/"
        },
        "id": "wD2x3afYgpdp",
        "outputId": "4bac8df1-c5f7-46e3-8f72-f9b6cc2b1b9a"
      },
      "execution_count": null,
      "outputs": [
        {
          "output_type": "stream",
          "name": "stdout",
          "text": [
            "Epoch 1  Train Loss 6.0544\n",
            "Epoch 2  Train Loss 4.5858\n",
            "Epoch 3  Train Loss 3.9867\n",
            "Epoch 4  Train Loss 3.5887\n",
            "Epoch 5  Train Loss 3.1025\n",
            "Epoch 6  Train Loss 2.4868\n",
            "Epoch 7  Train Loss 1.9242\n",
            "Epoch 8  Train Loss 1.4508\n",
            "Epoch 9  Train Loss 1.0735\n",
            "Epoch 10  Train Loss 0.8038\n"
          ]
        }
      ]
    },
    {
      "cell_type": "code",
      "source": [
        "final_model_loss_df2"
      ],
      "metadata": {
        "colab": {
          "base_uri": "https://localhost:8080/",
          "height": 363
        },
        "id": "bKkUnX0JgplJ",
        "outputId": "2f8095c6-143c-4344-9696-2dd482a7d134"
      },
      "execution_count": null,
      "outputs": [
        {
          "output_type": "execute_result",
          "data": {
            "text/plain": [
              "   Epoch  Train Loss\n",
              "0      1      6.0544\n",
              "1      2      4.5858\n",
              "2      3      3.9867\n",
              "3      4      3.5887\n",
              "4      5      3.1025\n",
              "5      6      2.4868\n",
              "6      7      1.9242\n",
              "7      8      1.4508\n",
              "8      9      1.0735\n",
              "9     10      0.8038"
            ],
            "text/html": [
              "\n",
              "  <div id=\"df-6685ae50-5e28-4f84-baac-a431c625c92c\">\n",
              "    <div class=\"colab-df-container\">\n",
              "      <div>\n",
              "<style scoped>\n",
              "    .dataframe tbody tr th:only-of-type {\n",
              "        vertical-align: middle;\n",
              "    }\n",
              "\n",
              "    .dataframe tbody tr th {\n",
              "        vertical-align: top;\n",
              "    }\n",
              "\n",
              "    .dataframe thead th {\n",
              "        text-align: right;\n",
              "    }\n",
              "</style>\n",
              "<table border=\"1\" class=\"dataframe\">\n",
              "  <thead>\n",
              "    <tr style=\"text-align: right;\">\n",
              "      <th></th>\n",
              "      <th>Epoch</th>\n",
              "      <th>Train Loss</th>\n",
              "    </tr>\n",
              "  </thead>\n",
              "  <tbody>\n",
              "    <tr>\n",
              "      <th>0</th>\n",
              "      <td>1</td>\n",
              "      <td>6.0544</td>\n",
              "    </tr>\n",
              "    <tr>\n",
              "      <th>1</th>\n",
              "      <td>2</td>\n",
              "      <td>4.5858</td>\n",
              "    </tr>\n",
              "    <tr>\n",
              "      <th>2</th>\n",
              "      <td>3</td>\n",
              "      <td>3.9867</td>\n",
              "    </tr>\n",
              "    <tr>\n",
              "      <th>3</th>\n",
              "      <td>4</td>\n",
              "      <td>3.5887</td>\n",
              "    </tr>\n",
              "    <tr>\n",
              "      <th>4</th>\n",
              "      <td>5</td>\n",
              "      <td>3.1025</td>\n",
              "    </tr>\n",
              "    <tr>\n",
              "      <th>5</th>\n",
              "      <td>6</td>\n",
              "      <td>2.4868</td>\n",
              "    </tr>\n",
              "    <tr>\n",
              "      <th>6</th>\n",
              "      <td>7</td>\n",
              "      <td>1.9242</td>\n",
              "    </tr>\n",
              "    <tr>\n",
              "      <th>7</th>\n",
              "      <td>8</td>\n",
              "      <td>1.4508</td>\n",
              "    </tr>\n",
              "    <tr>\n",
              "      <th>8</th>\n",
              "      <td>9</td>\n",
              "      <td>1.0735</td>\n",
              "    </tr>\n",
              "    <tr>\n",
              "      <th>9</th>\n",
              "      <td>10</td>\n",
              "      <td>0.8038</td>\n",
              "    </tr>\n",
              "  </tbody>\n",
              "</table>\n",
              "</div>\n",
              "      <button class=\"colab-df-convert\" onclick=\"convertToInteractive('df-6685ae50-5e28-4f84-baac-a431c625c92c')\"\n",
              "              title=\"Convert this dataframe to an interactive table.\"\n",
              "              style=\"display:none;\">\n",
              "        \n",
              "  <svg xmlns=\"http://www.w3.org/2000/svg\" height=\"24px\"viewBox=\"0 0 24 24\"\n",
              "       width=\"24px\">\n",
              "    <path d=\"M0 0h24v24H0V0z\" fill=\"none\"/>\n",
              "    <path d=\"M18.56 5.44l.94 2.06.94-2.06 2.06-.94-2.06-.94-.94-2.06-.94 2.06-2.06.94zm-11 1L8.5 8.5l.94-2.06 2.06-.94-2.06-.94L8.5 2.5l-.94 2.06-2.06.94zm10 10l.94 2.06.94-2.06 2.06-.94-2.06-.94-.94-2.06-.94 2.06-2.06.94z\"/><path d=\"M17.41 7.96l-1.37-1.37c-.4-.4-.92-.59-1.43-.59-.52 0-1.04.2-1.43.59L10.3 9.45l-7.72 7.72c-.78.78-.78 2.05 0 2.83L4 21.41c.39.39.9.59 1.41.59.51 0 1.02-.2 1.41-.59l7.78-7.78 2.81-2.81c.8-.78.8-2.07 0-2.86zM5.41 20L4 18.59l7.72-7.72 1.47 1.35L5.41 20z\"/>\n",
              "  </svg>\n",
              "      </button>\n",
              "      \n",
              "  <style>\n",
              "    .colab-df-container {\n",
              "      display:flex;\n",
              "      flex-wrap:wrap;\n",
              "      gap: 12px;\n",
              "    }\n",
              "\n",
              "    .colab-df-convert {\n",
              "      background-color: #E8F0FE;\n",
              "      border: none;\n",
              "      border-radius: 50%;\n",
              "      cursor: pointer;\n",
              "      display: none;\n",
              "      fill: #1967D2;\n",
              "      height: 32px;\n",
              "      padding: 0 0 0 0;\n",
              "      width: 32px;\n",
              "    }\n",
              "\n",
              "    .colab-df-convert:hover {\n",
              "      background-color: #E2EBFA;\n",
              "      box-shadow: 0px 1px 2px rgba(60, 64, 67, 0.3), 0px 1px 3px 1px rgba(60, 64, 67, 0.15);\n",
              "      fill: #174EA6;\n",
              "    }\n",
              "\n",
              "    [theme=dark] .colab-df-convert {\n",
              "      background-color: #3B4455;\n",
              "      fill: #D2E3FC;\n",
              "    }\n",
              "\n",
              "    [theme=dark] .colab-df-convert:hover {\n",
              "      background-color: #434B5C;\n",
              "      box-shadow: 0px 1px 3px 1px rgba(0, 0, 0, 0.15);\n",
              "      filter: drop-shadow(0px 1px 2px rgba(0, 0, 0, 0.3));\n",
              "      fill: #FFFFFF;\n",
              "    }\n",
              "  </style>\n",
              "\n",
              "      <script>\n",
              "        const buttonEl =\n",
              "          document.querySelector('#df-6685ae50-5e28-4f84-baac-a431c625c92c button.colab-df-convert');\n",
              "        buttonEl.style.display =\n",
              "          google.colab.kernel.accessAllowed ? 'block' : 'none';\n",
              "\n",
              "        async function convertToInteractive(key) {\n",
              "          const element = document.querySelector('#df-6685ae50-5e28-4f84-baac-a431c625c92c');\n",
              "          const dataTable =\n",
              "            await google.colab.kernel.invokeFunction('convertToInteractive',\n",
              "                                                     [key], {});\n",
              "          if (!dataTable) return;\n",
              "\n",
              "          const docLinkHtml = 'Like what you see? Visit the ' +\n",
              "            '<a target=\"_blank\" href=https://colab.research.google.com/notebooks/data_table.ipynb>data table notebook</a>'\n",
              "            + ' to learn more about interactive tables.';\n",
              "          element.innerHTML = '';\n",
              "          dataTable['output_type'] = 'display_data';\n",
              "          await google.colab.output.renderOutput(dataTable, element);\n",
              "          const docLink = document.createElement('div');\n",
              "          docLink.innerHTML = docLinkHtml;\n",
              "          element.appendChild(docLink);\n",
              "        }\n",
              "      </script>\n",
              "    </div>\n",
              "  </div>\n",
              "  "
            ]
          },
          "metadata": {},
          "execution_count": 47
        }
      ]
    },
    {
      "cell_type": "code",
      "source": [
        "final_model_loss_df2.to_csv(\"/content/drive/MyDrive/lms/transformer_translation/final_model_loss2.csv\", index = False)"
      ],
      "metadata": {
        "id": "Bpk2dbukgpoR"
      },
      "execution_count": null,
      "outputs": []
    },
    {
      "cell_type": "code",
      "source": [
        "sentence_list = [\"오바마는 대통령이다.\", \"시민들은 도시 속에 산다.\",\n",
        "                 \"커피는 필요 없다.\", \"일곱 명의 사망자가 발생했다.\"]\n",
        "\n",
        "for sentence in sentence_list:\n",
        "                    sentence_translator(sentence, transformer, ko_tokenizer, en_tokenizer)\n",
        "                    print()"
      ],
      "metadata": {
        "colab": {
          "base_uri": "https://localhost:8080/"
        },
        "id": "fow_qh7ehgzy",
        "outputId": "80a85284-b061-430d-d818-9222bc2c9f21"
      },
      "execution_count": null,
      "outputs": [
        {
          "output_type": "stream",
          "name": "stdout",
          "text": [
            "Input: 오바마는 대통령이다.\n",
            "Predicted translation: obama is also a charge for obama .\n",
            "\n",
            "Input: 시민들은 도시 속에 산다.\n",
            "Predicted translation: citizens in town part of the city .\n",
            "\n",
            "Input: 커피는 필요 없다.\n",
            "Predicted translation: no needed to ask for a coffee .\n",
            "\n",
            "Input: 일곱 명의 사망자가 발생했다.\n",
            "Predicted translation: five people were killed in the sunday attack .\n",
            "\n"
          ]
        }
      ]
    },
    {
      "cell_type": "markdown",
      "source": [
        "#결론"
      ],
      "metadata": {
        "id": "seH0QOJaYFu-"
      }
    },
    {
      "cell_type": "markdown",
      "source": [
        "**하이퍼파라미터**"
      ],
      "metadata": {
        "id": "UbhNAtotF04W"
      }
    },
    {
      "cell_type": "code",
      "source": [
        "CSS = \"\"\".output {flex-direction: row;}\"\"\"\n",
        "HTML('<style>{}</style>'.format(CSS))\n",
        "\n",
        "reorderlist = ['Encoder & Decoder Layer', 'Model Dimension', 'Feed Forwad Hidden Layer', 'Feed Forwad Hidden Dimension',\n",
        "               'Normalization Layer', 'Tokenizer', 'SRC Vocab Size', 'TGT Vocab Size', 'POS Length', 'Text Max Length',\n",
        "               'Dropout Rate', 'Learning Rate', 'Optimizer', 'Activation Function', 'Loss Function', 'Epoch']\n",
        "final_hyperparameter = pd.DataFrame({'Final Model':{'Encoder & Decoder Layer':2, 'Model Dimension':512,\n",
        "                                     'Feed Forwad Hidden Layer':8, 'Feed Forwad Hidden Dimension':2048,\n",
        "                                     'Normalization Layer':'Pre-LN', 'Tokenizer':'SentencePiece',\n",
        "                                     'SRC Vocab Size':20000, 'TGT Vocab Size':20000,\n",
        "                                     'POS Length':256, 'Text Max Length':50, 'Dropout Rate':0.1,\n",
        "                                     'Learning Rate':'Scheduler', 'Optimizer':'Adam', 'Activation Function':'Relu',\n",
        "                                     'Loss Function':'Sparse Categorical Crossentropy', 'Epoch':10}})\n",
        "final_hyperparameter = final_hyperparameter.iloc[pd.Categorical(final_hyperparameter.index,reorderlist).argsort()]\n",
        "\n",
        "display(final_hyperparameter)\n",
        "print(\"\\n\")\n",
        "display(final_model_loss_df)"
      ],
      "metadata": {
        "colab": {
          "base_uri": "https://localhost:8080/",
          "height": 933
        },
        "id": "8_qLi67WJuCn",
        "outputId": "09412c5c-785f-4435-b1ff-9f1f3660210b"
      },
      "execution_count": null,
      "outputs": [
        {
          "output_type": "display_data",
          "data": {
            "text/plain": [
              "                                                  Final Model\n",
              "Encoder & Decoder Layer                                     2\n",
              "Model Dimension                                           512\n",
              "Feed Forwad Hidden Layer                                    8\n",
              "Feed Forwad Hidden Dimension                             2048\n",
              "Normalization Layer                                    Pre-LN\n",
              "Tokenizer                                       SentencePiece\n",
              "SRC Vocab Size                                          20000\n",
              "TGT Vocab Size                                          20000\n",
              "POS Length                                                256\n",
              "Text Max Length                                            50\n",
              "Dropout Rate                                              0.1\n",
              "Learning Rate                                       Scheduler\n",
              "Optimizer                                                Adam\n",
              "Activation Function                                      Relu\n",
              "Loss Function                 Sparse Categorical Crossentropy\n",
              "Epoch                                                      10"
            ],
            "text/html": [
              "\n",
              "  <div id=\"df-c6797ac7-4763-4288-8565-14826ffb75f7\">\n",
              "    <div class=\"colab-df-container\">\n",
              "      <div>\n",
              "<style scoped>\n",
              "    .dataframe tbody tr th:only-of-type {\n",
              "        vertical-align: middle;\n",
              "    }\n",
              "\n",
              "    .dataframe tbody tr th {\n",
              "        vertical-align: top;\n",
              "    }\n",
              "\n",
              "    .dataframe thead th {\n",
              "        text-align: right;\n",
              "    }\n",
              "</style>\n",
              "<table border=\"1\" class=\"dataframe\">\n",
              "  <thead>\n",
              "    <tr style=\"text-align: right;\">\n",
              "      <th></th>\n",
              "      <th>Final Model</th>\n",
              "    </tr>\n",
              "  </thead>\n",
              "  <tbody>\n",
              "    <tr>\n",
              "      <th>Encoder &amp; Decoder Layer</th>\n",
              "      <td>2</td>\n",
              "    </tr>\n",
              "    <tr>\n",
              "      <th>Model Dimension</th>\n",
              "      <td>512</td>\n",
              "    </tr>\n",
              "    <tr>\n",
              "      <th>Feed Forwad Hidden Layer</th>\n",
              "      <td>8</td>\n",
              "    </tr>\n",
              "    <tr>\n",
              "      <th>Feed Forwad Hidden Dimension</th>\n",
              "      <td>2048</td>\n",
              "    </tr>\n",
              "    <tr>\n",
              "      <th>Normalization Layer</th>\n",
              "      <td>Pre-LN</td>\n",
              "    </tr>\n",
              "    <tr>\n",
              "      <th>Tokenizer</th>\n",
              "      <td>SentencePiece</td>\n",
              "    </tr>\n",
              "    <tr>\n",
              "      <th>SRC Vocab Size</th>\n",
              "      <td>20000</td>\n",
              "    </tr>\n",
              "    <tr>\n",
              "      <th>TGT Vocab Size</th>\n",
              "      <td>20000</td>\n",
              "    </tr>\n",
              "    <tr>\n",
              "      <th>POS Length</th>\n",
              "      <td>256</td>\n",
              "    </tr>\n",
              "    <tr>\n",
              "      <th>Text Max Length</th>\n",
              "      <td>50</td>\n",
              "    </tr>\n",
              "    <tr>\n",
              "      <th>Dropout Rate</th>\n",
              "      <td>0.1</td>\n",
              "    </tr>\n",
              "    <tr>\n",
              "      <th>Learning Rate</th>\n",
              "      <td>Scheduler</td>\n",
              "    </tr>\n",
              "    <tr>\n",
              "      <th>Optimizer</th>\n",
              "      <td>Adam</td>\n",
              "    </tr>\n",
              "    <tr>\n",
              "      <th>Activation Function</th>\n",
              "      <td>Relu</td>\n",
              "    </tr>\n",
              "    <tr>\n",
              "      <th>Loss Function</th>\n",
              "      <td>Sparse Categorical Crossentropy</td>\n",
              "    </tr>\n",
              "    <tr>\n",
              "      <th>Epoch</th>\n",
              "      <td>10</td>\n",
              "    </tr>\n",
              "  </tbody>\n",
              "</table>\n",
              "</div>\n",
              "      <button class=\"colab-df-convert\" onclick=\"convertToInteractive('df-c6797ac7-4763-4288-8565-14826ffb75f7')\"\n",
              "              title=\"Convert this dataframe to an interactive table.\"\n",
              "              style=\"display:none;\">\n",
              "        \n",
              "  <svg xmlns=\"http://www.w3.org/2000/svg\" height=\"24px\"viewBox=\"0 0 24 24\"\n",
              "       width=\"24px\">\n",
              "    <path d=\"M0 0h24v24H0V0z\" fill=\"none\"/>\n",
              "    <path d=\"M18.56 5.44l.94 2.06.94-2.06 2.06-.94-2.06-.94-.94-2.06-.94 2.06-2.06.94zm-11 1L8.5 8.5l.94-2.06 2.06-.94-2.06-.94L8.5 2.5l-.94 2.06-2.06.94zm10 10l.94 2.06.94-2.06 2.06-.94-2.06-.94-.94-2.06-.94 2.06-2.06.94z\"/><path d=\"M17.41 7.96l-1.37-1.37c-.4-.4-.92-.59-1.43-.59-.52 0-1.04.2-1.43.59L10.3 9.45l-7.72 7.72c-.78.78-.78 2.05 0 2.83L4 21.41c.39.39.9.59 1.41.59.51 0 1.02-.2 1.41-.59l7.78-7.78 2.81-2.81c.8-.78.8-2.07 0-2.86zM5.41 20L4 18.59l7.72-7.72 1.47 1.35L5.41 20z\"/>\n",
              "  </svg>\n",
              "      </button>\n",
              "      \n",
              "  <style>\n",
              "    .colab-df-container {\n",
              "      display:flex;\n",
              "      flex-wrap:wrap;\n",
              "      gap: 12px;\n",
              "    }\n",
              "\n",
              "    .colab-df-convert {\n",
              "      background-color: #E8F0FE;\n",
              "      border: none;\n",
              "      border-radius: 50%;\n",
              "      cursor: pointer;\n",
              "      display: none;\n",
              "      fill: #1967D2;\n",
              "      height: 32px;\n",
              "      padding: 0 0 0 0;\n",
              "      width: 32px;\n",
              "    }\n",
              "\n",
              "    .colab-df-convert:hover {\n",
              "      background-color: #E2EBFA;\n",
              "      box-shadow: 0px 1px 2px rgba(60, 64, 67, 0.3), 0px 1px 3px 1px rgba(60, 64, 67, 0.15);\n",
              "      fill: #174EA6;\n",
              "    }\n",
              "\n",
              "    [theme=dark] .colab-df-convert {\n",
              "      background-color: #3B4455;\n",
              "      fill: #D2E3FC;\n",
              "    }\n",
              "\n",
              "    [theme=dark] .colab-df-convert:hover {\n",
              "      background-color: #434B5C;\n",
              "      box-shadow: 0px 1px 3px 1px rgba(0, 0, 0, 0.15);\n",
              "      filter: drop-shadow(0px 1px 2px rgba(0, 0, 0, 0.3));\n",
              "      fill: #FFFFFF;\n",
              "    }\n",
              "  </style>\n",
              "\n",
              "      <script>\n",
              "        const buttonEl =\n",
              "          document.querySelector('#df-c6797ac7-4763-4288-8565-14826ffb75f7 button.colab-df-convert');\n",
              "        buttonEl.style.display =\n",
              "          google.colab.kernel.accessAllowed ? 'block' : 'none';\n",
              "\n",
              "        async function convertToInteractive(key) {\n",
              "          const element = document.querySelector('#df-c6797ac7-4763-4288-8565-14826ffb75f7');\n",
              "          const dataTable =\n",
              "            await google.colab.kernel.invokeFunction('convertToInteractive',\n",
              "                                                     [key], {});\n",
              "          if (!dataTable) return;\n",
              "\n",
              "          const docLinkHtml = 'Like what you see? Visit the ' +\n",
              "            '<a target=\"_blank\" href=https://colab.research.google.com/notebooks/data_table.ipynb>data table notebook</a>'\n",
              "            + ' to learn more about interactive tables.';\n",
              "          element.innerHTML = '';\n",
              "          dataTable['output_type'] = 'display_data';\n",
              "          await google.colab.output.renderOutput(dataTable, element);\n",
              "          const docLink = document.createElement('div');\n",
              "          docLink.innerHTML = docLinkHtml;\n",
              "          element.appendChild(docLink);\n",
              "        }\n",
              "      </script>\n",
              "    </div>\n",
              "  </div>\n",
              "  "
            ]
          },
          "metadata": {}
        },
        {
          "output_type": "stream",
          "name": "stdout",
          "text": [
            "\n",
            "\n"
          ]
        },
        {
          "output_type": "display_data",
          "data": {
            "text/plain": [
              "   Epoch  Train Loss\n",
              "0      1      6.0585\n",
              "1      2      4.5797\n",
              "2      3      3.9776\n",
              "3      4      3.5826\n",
              "4      5      3.0897\n",
              "5      6      2.4725\n",
              "6      7      1.9086\n",
              "7      8      1.4308\n",
              "8      9      1.0601\n",
              "9     10      0.7867"
            ],
            "text/html": [
              "\n",
              "  <div id=\"df-3cc35b81-0955-4fbc-8939-549a9a71fdd3\">\n",
              "    <div class=\"colab-df-container\">\n",
              "      <div>\n",
              "<style scoped>\n",
              "    .dataframe tbody tr th:only-of-type {\n",
              "        vertical-align: middle;\n",
              "    }\n",
              "\n",
              "    .dataframe tbody tr th {\n",
              "        vertical-align: top;\n",
              "    }\n",
              "\n",
              "    .dataframe thead th {\n",
              "        text-align: right;\n",
              "    }\n",
              "</style>\n",
              "<table border=\"1\" class=\"dataframe\">\n",
              "  <thead>\n",
              "    <tr style=\"text-align: right;\">\n",
              "      <th></th>\n",
              "      <th>Epoch</th>\n",
              "      <th>Train Loss</th>\n",
              "    </tr>\n",
              "  </thead>\n",
              "  <tbody>\n",
              "    <tr>\n",
              "      <th>0</th>\n",
              "      <td>1</td>\n",
              "      <td>6.0585</td>\n",
              "    </tr>\n",
              "    <tr>\n",
              "      <th>1</th>\n",
              "      <td>2</td>\n",
              "      <td>4.5797</td>\n",
              "    </tr>\n",
              "    <tr>\n",
              "      <th>2</th>\n",
              "      <td>3</td>\n",
              "      <td>3.9776</td>\n",
              "    </tr>\n",
              "    <tr>\n",
              "      <th>3</th>\n",
              "      <td>4</td>\n",
              "      <td>3.5826</td>\n",
              "    </tr>\n",
              "    <tr>\n",
              "      <th>4</th>\n",
              "      <td>5</td>\n",
              "      <td>3.0897</td>\n",
              "    </tr>\n",
              "    <tr>\n",
              "      <th>5</th>\n",
              "      <td>6</td>\n",
              "      <td>2.4725</td>\n",
              "    </tr>\n",
              "    <tr>\n",
              "      <th>6</th>\n",
              "      <td>7</td>\n",
              "      <td>1.9086</td>\n",
              "    </tr>\n",
              "    <tr>\n",
              "      <th>7</th>\n",
              "      <td>8</td>\n",
              "      <td>1.4308</td>\n",
              "    </tr>\n",
              "    <tr>\n",
              "      <th>8</th>\n",
              "      <td>9</td>\n",
              "      <td>1.0601</td>\n",
              "    </tr>\n",
              "    <tr>\n",
              "      <th>9</th>\n",
              "      <td>10</td>\n",
              "      <td>0.7867</td>\n",
              "    </tr>\n",
              "  </tbody>\n",
              "</table>\n",
              "</div>\n",
              "      <button class=\"colab-df-convert\" onclick=\"convertToInteractive('df-3cc35b81-0955-4fbc-8939-549a9a71fdd3')\"\n",
              "              title=\"Convert this dataframe to an interactive table.\"\n",
              "              style=\"display:none;\">\n",
              "        \n",
              "  <svg xmlns=\"http://www.w3.org/2000/svg\" height=\"24px\"viewBox=\"0 0 24 24\"\n",
              "       width=\"24px\">\n",
              "    <path d=\"M0 0h24v24H0V0z\" fill=\"none\"/>\n",
              "    <path d=\"M18.56 5.44l.94 2.06.94-2.06 2.06-.94-2.06-.94-.94-2.06-.94 2.06-2.06.94zm-11 1L8.5 8.5l.94-2.06 2.06-.94-2.06-.94L8.5 2.5l-.94 2.06-2.06.94zm10 10l.94 2.06.94-2.06 2.06-.94-2.06-.94-.94-2.06-.94 2.06-2.06.94z\"/><path d=\"M17.41 7.96l-1.37-1.37c-.4-.4-.92-.59-1.43-.59-.52 0-1.04.2-1.43.59L10.3 9.45l-7.72 7.72c-.78.78-.78 2.05 0 2.83L4 21.41c.39.39.9.59 1.41.59.51 0 1.02-.2 1.41-.59l7.78-7.78 2.81-2.81c.8-.78.8-2.07 0-2.86zM5.41 20L4 18.59l7.72-7.72 1.47 1.35L5.41 20z\"/>\n",
              "  </svg>\n",
              "      </button>\n",
              "      \n",
              "  <style>\n",
              "    .colab-df-container {\n",
              "      display:flex;\n",
              "      flex-wrap:wrap;\n",
              "      gap: 12px;\n",
              "    }\n",
              "\n",
              "    .colab-df-convert {\n",
              "      background-color: #E8F0FE;\n",
              "      border: none;\n",
              "      border-radius: 50%;\n",
              "      cursor: pointer;\n",
              "      display: none;\n",
              "      fill: #1967D2;\n",
              "      height: 32px;\n",
              "      padding: 0 0 0 0;\n",
              "      width: 32px;\n",
              "    }\n",
              "\n",
              "    .colab-df-convert:hover {\n",
              "      background-color: #E2EBFA;\n",
              "      box-shadow: 0px 1px 2px rgba(60, 64, 67, 0.3), 0px 1px 3px 1px rgba(60, 64, 67, 0.15);\n",
              "      fill: #174EA6;\n",
              "    }\n",
              "\n",
              "    [theme=dark] .colab-df-convert {\n",
              "      background-color: #3B4455;\n",
              "      fill: #D2E3FC;\n",
              "    }\n",
              "\n",
              "    [theme=dark] .colab-df-convert:hover {\n",
              "      background-color: #434B5C;\n",
              "      box-shadow: 0px 1px 3px 1px rgba(0, 0, 0, 0.15);\n",
              "      filter: drop-shadow(0px 1px 2px rgba(0, 0, 0, 0.3));\n",
              "      fill: #FFFFFF;\n",
              "    }\n",
              "  </style>\n",
              "\n",
              "      <script>\n",
              "        const buttonEl =\n",
              "          document.querySelector('#df-3cc35b81-0955-4fbc-8939-549a9a71fdd3 button.colab-df-convert');\n",
              "        buttonEl.style.display =\n",
              "          google.colab.kernel.accessAllowed ? 'block' : 'none';\n",
              "\n",
              "        async function convertToInteractive(key) {\n",
              "          const element = document.querySelector('#df-3cc35b81-0955-4fbc-8939-549a9a71fdd3');\n",
              "          const dataTable =\n",
              "            await google.colab.kernel.invokeFunction('convertToInteractive',\n",
              "                                                     [key], {});\n",
              "          if (!dataTable) return;\n",
              "\n",
              "          const docLinkHtml = 'Like what you see? Visit the ' +\n",
              "            '<a target=\"_blank\" href=https://colab.research.google.com/notebooks/data_table.ipynb>data table notebook</a>'\n",
              "            + ' to learn more about interactive tables.';\n",
              "          element.innerHTML = '';\n",
              "          dataTable['output_type'] = 'display_data';\n",
              "          await google.colab.output.renderOutput(dataTable, element);\n",
              "          const docLink = document.createElement('div');\n",
              "          docLink.innerHTML = docLinkHtml;\n",
              "          element.appendChild(docLink);\n",
              "        }\n",
              "      </script>\n",
              "    </div>\n",
              "  </div>\n",
              "  "
            ]
          },
          "metadata": {}
        }
      ]
    },
    {
      "cell_type": "markdown",
      "source": [
        ""
      ],
      "metadata": {
        "id": "cfytiToylOZ2"
      }
    },
    {
      "cell_type": "markdown",
      "source": [
        "**Random State**"
      ],
      "metadata": {
        "id": "jumlnGRPwlsX"
      }
    },
    {
      "cell_type": "markdown",
      "source": [
        "동일한 하이퍼파라미터와 데이터를 사용했는데  알고리즘을 작동시킬 때마다 다른 모델 학습 결과가 나온다.\n",
        "<br/>딥러닝 모델은 Random State로 작동하는 것인가?\n",
        "<br/>그렇다면 Random State로 작동하는 딥러닝 모델의 성능을 어떻게 측정할 수 있는가?\n",
        "<br/>매번 달라지는 모델 성능을 어떻게 확률분포로 나타낼 수 있는가?"
      ],
      "metadata": {
        "id": "jMEA6QDzYK3P"
      }
    },
    {
      "cell_type": "markdown",
      "source": [
        ""
      ],
      "metadata": {
        "id": "3v1m4n_IlO9F"
      }
    },
    {
      "cell_type": "markdown",
      "source": [
        "**모델 초기화**"
      ],
      "metadata": {
        "id": "Q1-tHVD-7pcP"
      }
    },
    {
      "cell_type": "markdown",
      "source": [
        "알고리즘을 다시 작동시킬 때 Google Colab의 런타임을 다시 시작해야 한다.\n",
        "<br/>런타임 재시작할 때마다 처음부터 코드를 작동시켜야하는 번거로움을 느낀다.\n",
        "<br/>모델 초기화 함수 코드가 있었다면 런타임을 재시작하지 않아도 되었을 것이다.\n",
        "<br/>모델 초기화 함수의 필요성을 느낀다."
      ],
      "metadata": {
        "id": "Gmm5I3ek7qRG"
      }
    },
    {
      "cell_type": "markdown",
      "source": [
        ""
      ],
      "metadata": {
        "id": "Y091_aN-lPf3"
      }
    },
    {
      "cell_type": "markdown",
      "source": [
        "**Epoch and Overfitting**"
      ],
      "metadata": {
        "id": "dNFjtyX17xkH"
      }
    },
    {
      "cell_type": "markdown",
      "source": [
        "Epoch가 늘어날수록 Train Loss값은 떨어지지만\n",
        "<br/>어느 임계점을 넘어서면 Test Loss가 커지면서 과적합 문제가 발생한다.\n",
        "<br/>Train Loss과 Test Loss가 수렴을 하다가 그 차이가 벌어지면 과적합 문제가 발생한 것이다.\n",
        "<br/>따라서 적합한 Epoch에서 학습을 진행하는 것이 바람직하다."
      ],
      "metadata": {
        "id": "dKebuGaz7xn1"
      }
    },
    {
      "cell_type": "markdown",
      "source": [
        "적합한 Epoch는 무엇에 의해 판단되는가?\n",
        "<br/>그 판단 기준 중의 하나가 데이터의 크기라고 생각한다.\n",
        "<br/>데이터의 크기가 클수록 Epoch를 크게 잡아도 과적합 문제가 발생할 가능성이 크지 않다고 생각한다.\n",
        "<br/>데이터의 크기가 크다는 것은 학습 영역의 넓이가 넓다는 것이다.\n",
        "<br/>그래서 Epoch을 크게 잡아도 Loss값은 계속 떨어지며 지속적인 모델 학습 효과를 낼 수 있을 것이다."
      ],
      "metadata": {
        "id": "0CcEyaTg72o2"
      }
    },
    {
      "cell_type": "markdown",
      "source": [
        "번역기 알고리즘에 쓰인 한국어-영어 병렬 데이터의 크기가 지금보다 몇천배 컸더라면\n",
        "<br/>Epoch은 2자리수로 충분하지 않을 것이다. \n",
        "<br/>3~4자리수로 Epoch을 시도하면서 Loss값의 추이를 확인하는 과정이 필요할 것이다."
      ],
      "metadata": {
        "id": "fHSAc93wB1XH"
      }
    },
    {
      "cell_type": "markdown",
      "source": [
        "최적의 Epoch를 설정하는 기법으로 Early Stopping이 있다.\n",
        "<br/>Early Stopping은 검증 셋의 손실 값이 최소가 되는 순간 학습을 멈춤으로써 과대 적합을 방지한다. "
      ],
      "metadata": {
        "id": "97Gf3Yrg72rt"
      }
    },
    {
      "cell_type": "markdown",
      "source": [
        ""
      ],
      "metadata": {
        "id": "9hns6665lQPt"
      }
    },
    {
      "cell_type": "markdown",
      "source": [
        "#참고문헌"
      ],
      "metadata": {
        "id": "Pfyax5_jYK7X"
      }
    },
    {
      "cell_type": "markdown",
      "source": [
        "**LMS**\n",
        "<br/>[dev-sngwn](https://github.com/dev-sngwn)\n",
        "\n",
        "<br/>**논문**\n",
        "<br/>[Ashish Vaswani, Noam Shazeer, Niki Parmar, Jakob Uszkoreit, Llion Jones, Aidan N. Gomez, Lukasz Kaiser, Illia Polosukhin, 「Attention Is All You Need」, NIPS, 2017](https://arxiv.org/pdf/1706.03762.pdf)\n",
        "<br/>[Ruibin Xiong, Yunchang Yang, Di He, Kai Zheng, Shuxin Zheng, Chen Xing, Huishuai Zhang, Yanyan Lan, Liwei Wang, Tie-Yan Liu, 「On Layer Normalization in the Transformer Architecture」, ICML, 2020](https://arxiv.org/pdf/2002.04745.pdf)\n",
        "\n",
        "<br/>**단행본**\n",
        "<br/>유원준 외 1명, 『딥러닝을 이용한 자연어 처리 입문』, Wikidocs, 2022\n",
        "<br/>[트랜스포머(Transformer)](https://wikidocs.net/31379)\n",
        "<br/><br/>유원준 외 1명, 『PyTorch로 시작하는 딥러닝 입문』, Wikidocs, 2022\n",
        "<br/>[선형 회귀(Linear Regression)](https://wikidocs.net/53560)\n",
        "\n",
        "<br/>**깃허브**\n",
        "<br/>[Korean English News V1](https://github.com/jungyeul/korean-parallel-corpora/tree/master/korean-english-news-v1)\n",
        "<br/>[sentencepiece](https://github.com/google/sentencepiece)\n",
        "<br/>[GD_NLP_5_transformer_translation.ipynb](https://github.com/suheeeee/my_deeplearning_project/blob/main/going_deeper/GD_NLP_5_transformer_translation.ipynb)\n",
        "\n",
        "<br/>**웹사이트**\n",
        "<br/>[Sentencepiece를 활용해 Vocab 만들기](https://paul-hyun.github.io/vocab-with-sentencepiece/)\n",
        "<br/>[자연어처리를 위한 BPE & SentencePiece](http://tensorboy.com/bpe-sentencepiece)\n",
        "<br/>[ensorflow-3.6 이미지 분류 모델(6)-학습과정확인](https://gooopy.tistory.com/94)\n",
        "<br/>[Tensorflow-3.7 이미지 분류 모델(7)-조기종료와 콜백](https://gooopy.tistory.com/95?category=876252)\n",
        "<br/>[매트랩으로 배우는 인공지능 - 7 | Training Option](https://sedangdang.tistory.com/144)\n",
        "\n",
        "<br/>**공부**\n",
        "<br/>[tensorflow2.0 series: Eagle execution and Auto Graph](https://programmer.group/tensorflow2.0-series-eagle-execution-and-auto-graph.html)\n",
        "<br/>[Python 파이썬으로 타이머 만들기 (Feat. Time 모듈)](https://datazzang.tistory.com/6)\n",
        "<br/>[How to get length of a list of lists in python](https://stackoverflow.com/questions/20151141/how-to-get-length-of-a-list-of-lists-in-python)\n",
        "<br/>[Removing duplicates from a list of lists](https://stackoverflow.com/questions/2213923/removing-duplicates-from-a-list-of-lists)"
      ],
      "metadata": {
        "id": "hv6oIPsPvi0G"
      }
    }
  ]
}