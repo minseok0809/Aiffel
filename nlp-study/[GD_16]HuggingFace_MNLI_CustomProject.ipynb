{
  "nbformat": 4,
  "nbformat_minor": 0,
  "metadata": {
    "colab": {
      "name": "[GD_16]HuggingFace_MNLI_CustomProject.ipynb",
      "provenance": [],
      "collapsed_sections": [],
      "machine_shape": "hm",
      "toc_visible": true
    },
    "kernelspec": {
      "name": "python3",
      "display_name": "Python 3"
    },
    "language_info": {
      "name": "python"
    },
    "accelerator": "GPU",
    "gpuClass": "standard",
    "widgets": {
      "application/vnd.jupyter.widget-state+json": {
        "c5841ed6fda74347a5183794d3b1959a": {
          "model_module": "@jupyter-widgets/controls",
          "model_name": "HBoxModel",
          "model_module_version": "1.5.0",
          "state": {
            "_dom_classes": [],
            "_model_module": "@jupyter-widgets/controls",
            "_model_module_version": "1.5.0",
            "_model_name": "HBoxModel",
            "_view_count": null,
            "_view_module": "@jupyter-widgets/controls",
            "_view_module_version": "1.5.0",
            "_view_name": "HBoxView",
            "box_style": "",
            "children": [
              "IPY_MODEL_d308088b34554da9ad715648b384e2c7",
              "IPY_MODEL_f517c24d3777498985a7252991cca9e2",
              "IPY_MODEL_490df62fdf0f4f59ae1df1d594649cce"
            ],
            "layout": "IPY_MODEL_64b3295318fa4ca6b7ad54675d318a22"
          }
        },
        "d308088b34554da9ad715648b384e2c7": {
          "model_module": "@jupyter-widgets/controls",
          "model_name": "HTMLModel",
          "model_module_version": "1.5.0",
          "state": {
            "_dom_classes": [],
            "_model_module": "@jupyter-widgets/controls",
            "_model_module_version": "1.5.0",
            "_model_name": "HTMLModel",
            "_view_count": null,
            "_view_module": "@jupyter-widgets/controls",
            "_view_module_version": "1.5.0",
            "_view_name": "HTMLView",
            "description": "",
            "description_tooltip": null,
            "layout": "IPY_MODEL_2eff3554e4a54487ba94de010aaacd04",
            "placeholder": "​",
            "style": "IPY_MODEL_2ae680ee486f4d40aeaf6a8d99f28531",
            "value": "100%"
          }
        },
        "f517c24d3777498985a7252991cca9e2": {
          "model_module": "@jupyter-widgets/controls",
          "model_name": "FloatProgressModel",
          "model_module_version": "1.5.0",
          "state": {
            "_dom_classes": [],
            "_model_module": "@jupyter-widgets/controls",
            "_model_module_version": "1.5.0",
            "_model_name": "FloatProgressModel",
            "_view_count": null,
            "_view_module": "@jupyter-widgets/controls",
            "_view_module_version": "1.5.0",
            "_view_name": "ProgressView",
            "bar_style": "success",
            "description": "",
            "description_tooltip": null,
            "layout": "IPY_MODEL_3d0206f8c334448598cdb025563ffb52",
            "max": 20,
            "min": 0,
            "orientation": "horizontal",
            "style": "IPY_MODEL_6976b7ba51b940debf862ddcd15f20a9",
            "value": 20
          }
        },
        "490df62fdf0f4f59ae1df1d594649cce": {
          "model_module": "@jupyter-widgets/controls",
          "model_name": "HTMLModel",
          "model_module_version": "1.5.0",
          "state": {
            "_dom_classes": [],
            "_model_module": "@jupyter-widgets/controls",
            "_model_module_version": "1.5.0",
            "_model_name": "HTMLModel",
            "_view_count": null,
            "_view_module": "@jupyter-widgets/controls",
            "_view_module_version": "1.5.0",
            "_view_name": "HTMLView",
            "description": "",
            "description_tooltip": null,
            "layout": "IPY_MODEL_cc69f18d021248838f381811dcd0df3f",
            "placeholder": "​",
            "style": "IPY_MODEL_88e88b7199f24f30a21160294c71e36b",
            "value": " 20/20 [00:10&lt;00:00,  1.90it/s]"
          }
        },
        "64b3295318fa4ca6b7ad54675d318a22": {
          "model_module": "@jupyter-widgets/base",
          "model_name": "LayoutModel",
          "model_module_version": "1.2.0",
          "state": {
            "_model_module": "@jupyter-widgets/base",
            "_model_module_version": "1.2.0",
            "_model_name": "LayoutModel",
            "_view_count": null,
            "_view_module": "@jupyter-widgets/base",
            "_view_module_version": "1.2.0",
            "_view_name": "LayoutView",
            "align_content": null,
            "align_items": null,
            "align_self": null,
            "border": null,
            "bottom": null,
            "display": null,
            "flex": null,
            "flex_flow": null,
            "grid_area": null,
            "grid_auto_columns": null,
            "grid_auto_flow": null,
            "grid_auto_rows": null,
            "grid_column": null,
            "grid_gap": null,
            "grid_row": null,
            "grid_template_areas": null,
            "grid_template_columns": null,
            "grid_template_rows": null,
            "height": null,
            "justify_content": null,
            "justify_items": null,
            "left": null,
            "margin": null,
            "max_height": null,
            "max_width": null,
            "min_height": null,
            "min_width": null,
            "object_fit": null,
            "object_position": null,
            "order": null,
            "overflow": null,
            "overflow_x": null,
            "overflow_y": null,
            "padding": null,
            "right": null,
            "top": null,
            "visibility": null,
            "width": null
          }
        },
        "2eff3554e4a54487ba94de010aaacd04": {
          "model_module": "@jupyter-widgets/base",
          "model_name": "LayoutModel",
          "model_module_version": "1.2.0",
          "state": {
            "_model_module": "@jupyter-widgets/base",
            "_model_module_version": "1.2.0",
            "_model_name": "LayoutModel",
            "_view_count": null,
            "_view_module": "@jupyter-widgets/base",
            "_view_module_version": "1.2.0",
            "_view_name": "LayoutView",
            "align_content": null,
            "align_items": null,
            "align_self": null,
            "border": null,
            "bottom": null,
            "display": null,
            "flex": null,
            "flex_flow": null,
            "grid_area": null,
            "grid_auto_columns": null,
            "grid_auto_flow": null,
            "grid_auto_rows": null,
            "grid_column": null,
            "grid_gap": null,
            "grid_row": null,
            "grid_template_areas": null,
            "grid_template_columns": null,
            "grid_template_rows": null,
            "height": null,
            "justify_content": null,
            "justify_items": null,
            "left": null,
            "margin": null,
            "max_height": null,
            "max_width": null,
            "min_height": null,
            "min_width": null,
            "object_fit": null,
            "object_position": null,
            "order": null,
            "overflow": null,
            "overflow_x": null,
            "overflow_y": null,
            "padding": null,
            "right": null,
            "top": null,
            "visibility": null,
            "width": null
          }
        },
        "2ae680ee486f4d40aeaf6a8d99f28531": {
          "model_module": "@jupyter-widgets/controls",
          "model_name": "DescriptionStyleModel",
          "model_module_version": "1.5.0",
          "state": {
            "_model_module": "@jupyter-widgets/controls",
            "_model_module_version": "1.5.0",
            "_model_name": "DescriptionStyleModel",
            "_view_count": null,
            "_view_module": "@jupyter-widgets/base",
            "_view_module_version": "1.2.0",
            "_view_name": "StyleView",
            "description_width": ""
          }
        },
        "3d0206f8c334448598cdb025563ffb52": {
          "model_module": "@jupyter-widgets/base",
          "model_name": "LayoutModel",
          "model_module_version": "1.2.0",
          "state": {
            "_model_module": "@jupyter-widgets/base",
            "_model_module_version": "1.2.0",
            "_model_name": "LayoutModel",
            "_view_count": null,
            "_view_module": "@jupyter-widgets/base",
            "_view_module_version": "1.2.0",
            "_view_name": "LayoutView",
            "align_content": null,
            "align_items": null,
            "align_self": null,
            "border": null,
            "bottom": null,
            "display": null,
            "flex": null,
            "flex_flow": null,
            "grid_area": null,
            "grid_auto_columns": null,
            "grid_auto_flow": null,
            "grid_auto_rows": null,
            "grid_column": null,
            "grid_gap": null,
            "grid_row": null,
            "grid_template_areas": null,
            "grid_template_columns": null,
            "grid_template_rows": null,
            "height": null,
            "justify_content": null,
            "justify_items": null,
            "left": null,
            "margin": null,
            "max_height": null,
            "max_width": null,
            "min_height": null,
            "min_width": null,
            "object_fit": null,
            "object_position": null,
            "order": null,
            "overflow": null,
            "overflow_x": null,
            "overflow_y": null,
            "padding": null,
            "right": null,
            "top": null,
            "visibility": null,
            "width": null
          }
        },
        "6976b7ba51b940debf862ddcd15f20a9": {
          "model_module": "@jupyter-widgets/controls",
          "model_name": "ProgressStyleModel",
          "model_module_version": "1.5.0",
          "state": {
            "_model_module": "@jupyter-widgets/controls",
            "_model_module_version": "1.5.0",
            "_model_name": "ProgressStyleModel",
            "_view_count": null,
            "_view_module": "@jupyter-widgets/base",
            "_view_module_version": "1.2.0",
            "_view_name": "StyleView",
            "bar_color": null,
            "description_width": ""
          }
        },
        "cc69f18d021248838f381811dcd0df3f": {
          "model_module": "@jupyter-widgets/base",
          "model_name": "LayoutModel",
          "model_module_version": "1.2.0",
          "state": {
            "_model_module": "@jupyter-widgets/base",
            "_model_module_version": "1.2.0",
            "_model_name": "LayoutModel",
            "_view_count": null,
            "_view_module": "@jupyter-widgets/base",
            "_view_module_version": "1.2.0",
            "_view_name": "LayoutView",
            "align_content": null,
            "align_items": null,
            "align_self": null,
            "border": null,
            "bottom": null,
            "display": null,
            "flex": null,
            "flex_flow": null,
            "grid_area": null,
            "grid_auto_columns": null,
            "grid_auto_flow": null,
            "grid_auto_rows": null,
            "grid_column": null,
            "grid_gap": null,
            "grid_row": null,
            "grid_template_areas": null,
            "grid_template_columns": null,
            "grid_template_rows": null,
            "height": null,
            "justify_content": null,
            "justify_items": null,
            "left": null,
            "margin": null,
            "max_height": null,
            "max_width": null,
            "min_height": null,
            "min_width": null,
            "object_fit": null,
            "object_position": null,
            "order": null,
            "overflow": null,
            "overflow_x": null,
            "overflow_y": null,
            "padding": null,
            "right": null,
            "top": null,
            "visibility": null,
            "width": null
          }
        },
        "88e88b7199f24f30a21160294c71e36b": {
          "model_module": "@jupyter-widgets/controls",
          "model_name": "DescriptionStyleModel",
          "model_module_version": "1.5.0",
          "state": {
            "_model_module": "@jupyter-widgets/controls",
            "_model_module_version": "1.5.0",
            "_model_name": "DescriptionStyleModel",
            "_view_count": null,
            "_view_module": "@jupyter-widgets/base",
            "_view_module_version": "1.2.0",
            "_view_name": "StyleView",
            "description_width": ""
          }
        },
        "d9133ae31b3243c88d3369252f3df7fd": {
          "model_module": "@jupyter-widgets/controls",
          "model_name": "HBoxModel",
          "model_module_version": "1.5.0",
          "state": {
            "_dom_classes": [],
            "_model_module": "@jupyter-widgets/controls",
            "_model_module_version": "1.5.0",
            "_model_name": "HBoxModel",
            "_view_count": null,
            "_view_module": "@jupyter-widgets/controls",
            "_view_module_version": "1.5.0",
            "_view_name": "HBoxView",
            "box_style": "",
            "children": [
              "IPY_MODEL_65dd4cdf45574124a6c5b72a35203eef",
              "IPY_MODEL_8999ab9aca474b7e8f42a20a90c71b5f",
              "IPY_MODEL_153c0bf835824f06a6e3537bb6510c50"
            ],
            "layout": "IPY_MODEL_609796745eb04143bd00834f3ecc3d06"
          }
        },
        "65dd4cdf45574124a6c5b72a35203eef": {
          "model_module": "@jupyter-widgets/controls",
          "model_name": "HTMLModel",
          "model_module_version": "1.5.0",
          "state": {
            "_dom_classes": [],
            "_model_module": "@jupyter-widgets/controls",
            "_model_module_version": "1.5.0",
            "_model_name": "HTMLModel",
            "_view_count": null,
            "_view_module": "@jupyter-widgets/controls",
            "_view_module_version": "1.5.0",
            "_view_name": "HTMLView",
            "description": "",
            "description_tooltip": null,
            "layout": "IPY_MODEL_73f0bb55d2f4494aad37ce24244ee42e",
            "placeholder": "​",
            "style": "IPY_MODEL_32062185de654b53b40e52a94f8a46ff",
            "value": "100%"
          }
        },
        "8999ab9aca474b7e8f42a20a90c71b5f": {
          "model_module": "@jupyter-widgets/controls",
          "model_name": "FloatProgressModel",
          "model_module_version": "1.5.0",
          "state": {
            "_dom_classes": [],
            "_model_module": "@jupyter-widgets/controls",
            "_model_module_version": "1.5.0",
            "_model_name": "FloatProgressModel",
            "_view_count": null,
            "_view_module": "@jupyter-widgets/controls",
            "_view_module_version": "1.5.0",
            "_view_name": "ProgressView",
            "bar_style": "success",
            "description": "",
            "description_tooltip": null,
            "layout": "IPY_MODEL_7be575ee2d024d5b992714f94f718ba5",
            "max": 3704,
            "min": 0,
            "orientation": "horizontal",
            "style": "IPY_MODEL_c00207f2ba0e4d6ba2ca9ee127b1ae6c",
            "value": 3704
          }
        },
        "153c0bf835824f06a6e3537bb6510c50": {
          "model_module": "@jupyter-widgets/controls",
          "model_name": "HTMLModel",
          "model_module_version": "1.5.0",
          "state": {
            "_dom_classes": [],
            "_model_module": "@jupyter-widgets/controls",
            "_model_module_version": "1.5.0",
            "_model_name": "HTMLModel",
            "_view_count": null,
            "_view_module": "@jupyter-widgets/controls",
            "_view_module_version": "1.5.0",
            "_view_name": "HTMLView",
            "description": "",
            "description_tooltip": null,
            "layout": "IPY_MODEL_2c54f7eab4be475ba97a70cd7ca90af1",
            "placeholder": "​",
            "style": "IPY_MODEL_8ede3bddf43e4ab89e3b50c1eefaf82e",
            "value": " 3704/3704 [03:11&lt;00:00, 34.80it/s]"
          }
        },
        "609796745eb04143bd00834f3ecc3d06": {
          "model_module": "@jupyter-widgets/base",
          "model_name": "LayoutModel",
          "model_module_version": "1.2.0",
          "state": {
            "_model_module": "@jupyter-widgets/base",
            "_model_module_version": "1.2.0",
            "_model_name": "LayoutModel",
            "_view_count": null,
            "_view_module": "@jupyter-widgets/base",
            "_view_module_version": "1.2.0",
            "_view_name": "LayoutView",
            "align_content": null,
            "align_items": null,
            "align_self": null,
            "border": null,
            "bottom": null,
            "display": null,
            "flex": null,
            "flex_flow": null,
            "grid_area": null,
            "grid_auto_columns": null,
            "grid_auto_flow": null,
            "grid_auto_rows": null,
            "grid_column": null,
            "grid_gap": null,
            "grid_row": null,
            "grid_template_areas": null,
            "grid_template_columns": null,
            "grid_template_rows": null,
            "height": null,
            "justify_content": null,
            "justify_items": null,
            "left": null,
            "margin": null,
            "max_height": null,
            "max_width": null,
            "min_height": null,
            "min_width": null,
            "object_fit": null,
            "object_position": null,
            "order": null,
            "overflow": null,
            "overflow_x": null,
            "overflow_y": null,
            "padding": null,
            "right": null,
            "top": null,
            "visibility": null,
            "width": null
          }
        },
        "73f0bb55d2f4494aad37ce24244ee42e": {
          "model_module": "@jupyter-widgets/base",
          "model_name": "LayoutModel",
          "model_module_version": "1.2.0",
          "state": {
            "_model_module": "@jupyter-widgets/base",
            "_model_module_version": "1.2.0",
            "_model_name": "LayoutModel",
            "_view_count": null,
            "_view_module": "@jupyter-widgets/base",
            "_view_module_version": "1.2.0",
            "_view_name": "LayoutView",
            "align_content": null,
            "align_items": null,
            "align_self": null,
            "border": null,
            "bottom": null,
            "display": null,
            "flex": null,
            "flex_flow": null,
            "grid_area": null,
            "grid_auto_columns": null,
            "grid_auto_flow": null,
            "grid_auto_rows": null,
            "grid_column": null,
            "grid_gap": null,
            "grid_row": null,
            "grid_template_areas": null,
            "grid_template_columns": null,
            "grid_template_rows": null,
            "height": null,
            "justify_content": null,
            "justify_items": null,
            "left": null,
            "margin": null,
            "max_height": null,
            "max_width": null,
            "min_height": null,
            "min_width": null,
            "object_fit": null,
            "object_position": null,
            "order": null,
            "overflow": null,
            "overflow_x": null,
            "overflow_y": null,
            "padding": null,
            "right": null,
            "top": null,
            "visibility": null,
            "width": null
          }
        },
        "32062185de654b53b40e52a94f8a46ff": {
          "model_module": "@jupyter-widgets/controls",
          "model_name": "DescriptionStyleModel",
          "model_module_version": "1.5.0",
          "state": {
            "_model_module": "@jupyter-widgets/controls",
            "_model_module_version": "1.5.0",
            "_model_name": "DescriptionStyleModel",
            "_view_count": null,
            "_view_module": "@jupyter-widgets/base",
            "_view_module_version": "1.2.0",
            "_view_name": "StyleView",
            "description_width": ""
          }
        },
        "7be575ee2d024d5b992714f94f718ba5": {
          "model_module": "@jupyter-widgets/base",
          "model_name": "LayoutModel",
          "model_module_version": "1.2.0",
          "state": {
            "_model_module": "@jupyter-widgets/base",
            "_model_module_version": "1.2.0",
            "_model_name": "LayoutModel",
            "_view_count": null,
            "_view_module": "@jupyter-widgets/base",
            "_view_module_version": "1.2.0",
            "_view_name": "LayoutView",
            "align_content": null,
            "align_items": null,
            "align_self": null,
            "border": null,
            "bottom": null,
            "display": null,
            "flex": null,
            "flex_flow": null,
            "grid_area": null,
            "grid_auto_columns": null,
            "grid_auto_flow": null,
            "grid_auto_rows": null,
            "grid_column": null,
            "grid_gap": null,
            "grid_row": null,
            "grid_template_areas": null,
            "grid_template_columns": null,
            "grid_template_rows": null,
            "height": null,
            "justify_content": null,
            "justify_items": null,
            "left": null,
            "margin": null,
            "max_height": null,
            "max_width": null,
            "min_height": null,
            "min_width": null,
            "object_fit": null,
            "object_position": null,
            "order": null,
            "overflow": null,
            "overflow_x": null,
            "overflow_y": null,
            "padding": null,
            "right": null,
            "top": null,
            "visibility": null,
            "width": null
          }
        },
        "c00207f2ba0e4d6ba2ca9ee127b1ae6c": {
          "model_module": "@jupyter-widgets/controls",
          "model_name": "ProgressStyleModel",
          "model_module_version": "1.5.0",
          "state": {
            "_model_module": "@jupyter-widgets/controls",
            "_model_module_version": "1.5.0",
            "_model_name": "ProgressStyleModel",
            "_view_count": null,
            "_view_module": "@jupyter-widgets/base",
            "_view_module_version": "1.2.0",
            "_view_name": "StyleView",
            "bar_color": null,
            "description_width": ""
          }
        },
        "2c54f7eab4be475ba97a70cd7ca90af1": {
          "model_module": "@jupyter-widgets/base",
          "model_name": "LayoutModel",
          "model_module_version": "1.2.0",
          "state": {
            "_model_module": "@jupyter-widgets/base",
            "_model_module_version": "1.2.0",
            "_model_name": "LayoutModel",
            "_view_count": null,
            "_view_module": "@jupyter-widgets/base",
            "_view_module_version": "1.2.0",
            "_view_name": "LayoutView",
            "align_content": null,
            "align_items": null,
            "align_self": null,
            "border": null,
            "bottom": null,
            "display": null,
            "flex": null,
            "flex_flow": null,
            "grid_area": null,
            "grid_auto_columns": null,
            "grid_auto_flow": null,
            "grid_auto_rows": null,
            "grid_column": null,
            "grid_gap": null,
            "grid_row": null,
            "grid_template_areas": null,
            "grid_template_columns": null,
            "grid_template_rows": null,
            "height": null,
            "justify_content": null,
            "justify_items": null,
            "left": null,
            "margin": null,
            "max_height": null,
            "max_width": null,
            "min_height": null,
            "min_width": null,
            "object_fit": null,
            "object_position": null,
            "order": null,
            "overflow": null,
            "overflow_x": null,
            "overflow_y": null,
            "padding": null,
            "right": null,
            "top": null,
            "visibility": null,
            "width": null
          }
        },
        "8ede3bddf43e4ab89e3b50c1eefaf82e": {
          "model_module": "@jupyter-widgets/controls",
          "model_name": "DescriptionStyleModel",
          "model_module_version": "1.5.0",
          "state": {
            "_model_module": "@jupyter-widgets/controls",
            "_model_module_version": "1.5.0",
            "_model_name": "DescriptionStyleModel",
            "_view_count": null,
            "_view_module": "@jupyter-widgets/base",
            "_view_module_version": "1.2.0",
            "_view_name": "StyleView",
            "description_width": ""
          }
        },
        "95274951738f4d108956934411d26bb5": {
          "model_module": "@jupyter-widgets/controls",
          "model_name": "HBoxModel",
          "model_module_version": "1.5.0",
          "state": {
            "_dom_classes": [],
            "_model_module": "@jupyter-widgets/controls",
            "_model_module_version": "1.5.0",
            "_model_name": "HBoxModel",
            "_view_count": null,
            "_view_module": "@jupyter-widgets/controls",
            "_view_module_version": "1.5.0",
            "_view_name": "HBoxView",
            "box_style": "",
            "children": [
              "IPY_MODEL_5ff21ce11d38485a89305ab7354bdf67",
              "IPY_MODEL_1e21ab79f5fb400d9d649879d5bace04",
              "IPY_MODEL_e683cff10f444360ade97af1511e49c5"
            ],
            "layout": "IPY_MODEL_c9665b556ed0483faf9494c2b45bb4c6"
          }
        },
        "5ff21ce11d38485a89305ab7354bdf67": {
          "model_module": "@jupyter-widgets/controls",
          "model_name": "HTMLModel",
          "model_module_version": "1.5.0",
          "state": {
            "_dom_classes": [],
            "_model_module": "@jupyter-widgets/controls",
            "_model_module_version": "1.5.0",
            "_model_name": "HTMLModel",
            "_view_count": null,
            "_view_module": "@jupyter-widgets/controls",
            "_view_module_version": "1.5.0",
            "_view_name": "HTMLView",
            "description": "",
            "description_tooltip": null,
            "layout": "IPY_MODEL_9c120c2813164dfb99c25139b4f31510",
            "placeholder": "​",
            "style": "IPY_MODEL_0774d460b2044a25a4786bc35f13deb9",
            "value": "Downloading builder script: "
          }
        },
        "1e21ab79f5fb400d9d649879d5bace04": {
          "model_module": "@jupyter-widgets/controls",
          "model_name": "FloatProgressModel",
          "model_module_version": "1.5.0",
          "state": {
            "_dom_classes": [],
            "_model_module": "@jupyter-widgets/controls",
            "_model_module_version": "1.5.0",
            "_model_name": "FloatProgressModel",
            "_view_count": null,
            "_view_module": "@jupyter-widgets/controls",
            "_view_module_version": "1.5.0",
            "_view_name": "ProgressView",
            "bar_style": "success",
            "description": "",
            "description_tooltip": null,
            "layout": "IPY_MODEL_b680cf095c944842b397d851bbab1243",
            "max": 7777,
            "min": 0,
            "orientation": "horizontal",
            "style": "IPY_MODEL_5a17eec00424462989c8fd172cdd0b9e",
            "value": 7777
          }
        },
        "e683cff10f444360ade97af1511e49c5": {
          "model_module": "@jupyter-widgets/controls",
          "model_name": "HTMLModel",
          "model_module_version": "1.5.0",
          "state": {
            "_dom_classes": [],
            "_model_module": "@jupyter-widgets/controls",
            "_model_module_version": "1.5.0",
            "_model_name": "HTMLModel",
            "_view_count": null,
            "_view_module": "@jupyter-widgets/controls",
            "_view_module_version": "1.5.0",
            "_view_name": "HTMLView",
            "description": "",
            "description_tooltip": null,
            "layout": "IPY_MODEL_62021634abfd46dca29ba2ce05964b01",
            "placeholder": "​",
            "style": "IPY_MODEL_efa402185167426592fb2b8db3a35808",
            "value": " 28.8k/? [00:00&lt;00:00, 535kB/s]"
          }
        },
        "c9665b556ed0483faf9494c2b45bb4c6": {
          "model_module": "@jupyter-widgets/base",
          "model_name": "LayoutModel",
          "model_module_version": "1.2.0",
          "state": {
            "_model_module": "@jupyter-widgets/base",
            "_model_module_version": "1.2.0",
            "_model_name": "LayoutModel",
            "_view_count": null,
            "_view_module": "@jupyter-widgets/base",
            "_view_module_version": "1.2.0",
            "_view_name": "LayoutView",
            "align_content": null,
            "align_items": null,
            "align_self": null,
            "border": null,
            "bottom": null,
            "display": null,
            "flex": null,
            "flex_flow": null,
            "grid_area": null,
            "grid_auto_columns": null,
            "grid_auto_flow": null,
            "grid_auto_rows": null,
            "grid_column": null,
            "grid_gap": null,
            "grid_row": null,
            "grid_template_areas": null,
            "grid_template_columns": null,
            "grid_template_rows": null,
            "height": null,
            "justify_content": null,
            "justify_items": null,
            "left": null,
            "margin": null,
            "max_height": null,
            "max_width": null,
            "min_height": null,
            "min_width": null,
            "object_fit": null,
            "object_position": null,
            "order": null,
            "overflow": null,
            "overflow_x": null,
            "overflow_y": null,
            "padding": null,
            "right": null,
            "top": null,
            "visibility": null,
            "width": null
          }
        },
        "9c120c2813164dfb99c25139b4f31510": {
          "model_module": "@jupyter-widgets/base",
          "model_name": "LayoutModel",
          "model_module_version": "1.2.0",
          "state": {
            "_model_module": "@jupyter-widgets/base",
            "_model_module_version": "1.2.0",
            "_model_name": "LayoutModel",
            "_view_count": null,
            "_view_module": "@jupyter-widgets/base",
            "_view_module_version": "1.2.0",
            "_view_name": "LayoutView",
            "align_content": null,
            "align_items": null,
            "align_self": null,
            "border": null,
            "bottom": null,
            "display": null,
            "flex": null,
            "flex_flow": null,
            "grid_area": null,
            "grid_auto_columns": null,
            "grid_auto_flow": null,
            "grid_auto_rows": null,
            "grid_column": null,
            "grid_gap": null,
            "grid_row": null,
            "grid_template_areas": null,
            "grid_template_columns": null,
            "grid_template_rows": null,
            "height": null,
            "justify_content": null,
            "justify_items": null,
            "left": null,
            "margin": null,
            "max_height": null,
            "max_width": null,
            "min_height": null,
            "min_width": null,
            "object_fit": null,
            "object_position": null,
            "order": null,
            "overflow": null,
            "overflow_x": null,
            "overflow_y": null,
            "padding": null,
            "right": null,
            "top": null,
            "visibility": null,
            "width": null
          }
        },
        "0774d460b2044a25a4786bc35f13deb9": {
          "model_module": "@jupyter-widgets/controls",
          "model_name": "DescriptionStyleModel",
          "model_module_version": "1.5.0",
          "state": {
            "_model_module": "@jupyter-widgets/controls",
            "_model_module_version": "1.5.0",
            "_model_name": "DescriptionStyleModel",
            "_view_count": null,
            "_view_module": "@jupyter-widgets/base",
            "_view_module_version": "1.2.0",
            "_view_name": "StyleView",
            "description_width": ""
          }
        },
        "b680cf095c944842b397d851bbab1243": {
          "model_module": "@jupyter-widgets/base",
          "model_name": "LayoutModel",
          "model_module_version": "1.2.0",
          "state": {
            "_model_module": "@jupyter-widgets/base",
            "_model_module_version": "1.2.0",
            "_model_name": "LayoutModel",
            "_view_count": null,
            "_view_module": "@jupyter-widgets/base",
            "_view_module_version": "1.2.0",
            "_view_name": "LayoutView",
            "align_content": null,
            "align_items": null,
            "align_self": null,
            "border": null,
            "bottom": null,
            "display": null,
            "flex": null,
            "flex_flow": null,
            "grid_area": null,
            "grid_auto_columns": null,
            "grid_auto_flow": null,
            "grid_auto_rows": null,
            "grid_column": null,
            "grid_gap": null,
            "grid_row": null,
            "grid_template_areas": null,
            "grid_template_columns": null,
            "grid_template_rows": null,
            "height": null,
            "justify_content": null,
            "justify_items": null,
            "left": null,
            "margin": null,
            "max_height": null,
            "max_width": null,
            "min_height": null,
            "min_width": null,
            "object_fit": null,
            "object_position": null,
            "order": null,
            "overflow": null,
            "overflow_x": null,
            "overflow_y": null,
            "padding": null,
            "right": null,
            "top": null,
            "visibility": null,
            "width": null
          }
        },
        "5a17eec00424462989c8fd172cdd0b9e": {
          "model_module": "@jupyter-widgets/controls",
          "model_name": "ProgressStyleModel",
          "model_module_version": "1.5.0",
          "state": {
            "_model_module": "@jupyter-widgets/controls",
            "_model_module_version": "1.5.0",
            "_model_name": "ProgressStyleModel",
            "_view_count": null,
            "_view_module": "@jupyter-widgets/base",
            "_view_module_version": "1.2.0",
            "_view_name": "StyleView",
            "bar_color": null,
            "description_width": ""
          }
        },
        "62021634abfd46dca29ba2ce05964b01": {
          "model_module": "@jupyter-widgets/base",
          "model_name": "LayoutModel",
          "model_module_version": "1.2.0",
          "state": {
            "_model_module": "@jupyter-widgets/base",
            "_model_module_version": "1.2.0",
            "_model_name": "LayoutModel",
            "_view_count": null,
            "_view_module": "@jupyter-widgets/base",
            "_view_module_version": "1.2.0",
            "_view_name": "LayoutView",
            "align_content": null,
            "align_items": null,
            "align_self": null,
            "border": null,
            "bottom": null,
            "display": null,
            "flex": null,
            "flex_flow": null,
            "grid_area": null,
            "grid_auto_columns": null,
            "grid_auto_flow": null,
            "grid_auto_rows": null,
            "grid_column": null,
            "grid_gap": null,
            "grid_row": null,
            "grid_template_areas": null,
            "grid_template_columns": null,
            "grid_template_rows": null,
            "height": null,
            "justify_content": null,
            "justify_items": null,
            "left": null,
            "margin": null,
            "max_height": null,
            "max_width": null,
            "min_height": null,
            "min_width": null,
            "object_fit": null,
            "object_position": null,
            "order": null,
            "overflow": null,
            "overflow_x": null,
            "overflow_y": null,
            "padding": null,
            "right": null,
            "top": null,
            "visibility": null,
            "width": null
          }
        },
        "efa402185167426592fb2b8db3a35808": {
          "model_module": "@jupyter-widgets/controls",
          "model_name": "DescriptionStyleModel",
          "model_module_version": "1.5.0",
          "state": {
            "_model_module": "@jupyter-widgets/controls",
            "_model_module_version": "1.5.0",
            "_model_name": "DescriptionStyleModel",
            "_view_count": null,
            "_view_module": "@jupyter-widgets/base",
            "_view_module_version": "1.2.0",
            "_view_name": "StyleView",
            "description_width": ""
          }
        },
        "a470709aba73498b87eceae2d898d05b": {
          "model_module": "@jupyter-widgets/controls",
          "model_name": "HBoxModel",
          "model_module_version": "1.5.0",
          "state": {
            "_dom_classes": [],
            "_model_module": "@jupyter-widgets/controls",
            "_model_module_version": "1.5.0",
            "_model_name": "HBoxModel",
            "_view_count": null,
            "_view_module": "@jupyter-widgets/controls",
            "_view_module_version": "1.5.0",
            "_view_name": "HBoxView",
            "box_style": "",
            "children": [
              "IPY_MODEL_b47d1c54741d43f78f50b6a227713cea",
              "IPY_MODEL_6302505de71e40e79316f96780114db2",
              "IPY_MODEL_bb3482612fb4412896eed7e1f91f8bfb"
            ],
            "layout": "IPY_MODEL_655cbe87b7b044aeba94c33bf2ff9694"
          }
        },
        "b47d1c54741d43f78f50b6a227713cea": {
          "model_module": "@jupyter-widgets/controls",
          "model_name": "HTMLModel",
          "model_module_version": "1.5.0",
          "state": {
            "_dom_classes": [],
            "_model_module": "@jupyter-widgets/controls",
            "_model_module_version": "1.5.0",
            "_model_name": "HTMLModel",
            "_view_count": null,
            "_view_module": "@jupyter-widgets/controls",
            "_view_module_version": "1.5.0",
            "_view_name": "HTMLView",
            "description": "",
            "description_tooltip": null,
            "layout": "IPY_MODEL_fcaaaf4e397c448f95c3b4a7b19e1100",
            "placeholder": "​",
            "style": "IPY_MODEL_fedb5b3fde2b4448b0d90da4a2a040da",
            "value": "Downloading metadata: "
          }
        },
        "6302505de71e40e79316f96780114db2": {
          "model_module": "@jupyter-widgets/controls",
          "model_name": "FloatProgressModel",
          "model_module_version": "1.5.0",
          "state": {
            "_dom_classes": [],
            "_model_module": "@jupyter-widgets/controls",
            "_model_module_version": "1.5.0",
            "_model_name": "FloatProgressModel",
            "_view_count": null,
            "_view_module": "@jupyter-widgets/controls",
            "_view_module_version": "1.5.0",
            "_view_name": "ProgressView",
            "bar_style": "success",
            "description": "",
            "description_tooltip": null,
            "layout": "IPY_MODEL_59a05d54e81b46959fc86d855d4cd3e7",
            "max": 4473,
            "min": 0,
            "orientation": "horizontal",
            "style": "IPY_MODEL_78097f56c1bc4256b82fb8651e063dcc",
            "value": 4473
          }
        },
        "bb3482612fb4412896eed7e1f91f8bfb": {
          "model_module": "@jupyter-widgets/controls",
          "model_name": "HTMLModel",
          "model_module_version": "1.5.0",
          "state": {
            "_dom_classes": [],
            "_model_module": "@jupyter-widgets/controls",
            "_model_module_version": "1.5.0",
            "_model_name": "HTMLModel",
            "_view_count": null,
            "_view_module": "@jupyter-widgets/controls",
            "_view_module_version": "1.5.0",
            "_view_name": "HTMLView",
            "description": "",
            "description_tooltip": null,
            "layout": "IPY_MODEL_e23afcc72f4f434db14a04e4f8e39a1b",
            "placeholder": "​",
            "style": "IPY_MODEL_34b6c96b5677481bb4ca0b8147d9b2e4",
            "value": " 28.7k/? [00:00&lt;00:00, 980kB/s]"
          }
        },
        "655cbe87b7b044aeba94c33bf2ff9694": {
          "model_module": "@jupyter-widgets/base",
          "model_name": "LayoutModel",
          "model_module_version": "1.2.0",
          "state": {
            "_model_module": "@jupyter-widgets/base",
            "_model_module_version": "1.2.0",
            "_model_name": "LayoutModel",
            "_view_count": null,
            "_view_module": "@jupyter-widgets/base",
            "_view_module_version": "1.2.0",
            "_view_name": "LayoutView",
            "align_content": null,
            "align_items": null,
            "align_self": null,
            "border": null,
            "bottom": null,
            "display": null,
            "flex": null,
            "flex_flow": null,
            "grid_area": null,
            "grid_auto_columns": null,
            "grid_auto_flow": null,
            "grid_auto_rows": null,
            "grid_column": null,
            "grid_gap": null,
            "grid_row": null,
            "grid_template_areas": null,
            "grid_template_columns": null,
            "grid_template_rows": null,
            "height": null,
            "justify_content": null,
            "justify_items": null,
            "left": null,
            "margin": null,
            "max_height": null,
            "max_width": null,
            "min_height": null,
            "min_width": null,
            "object_fit": null,
            "object_position": null,
            "order": null,
            "overflow": null,
            "overflow_x": null,
            "overflow_y": null,
            "padding": null,
            "right": null,
            "top": null,
            "visibility": null,
            "width": null
          }
        },
        "fcaaaf4e397c448f95c3b4a7b19e1100": {
          "model_module": "@jupyter-widgets/base",
          "model_name": "LayoutModel",
          "model_module_version": "1.2.0",
          "state": {
            "_model_module": "@jupyter-widgets/base",
            "_model_module_version": "1.2.0",
            "_model_name": "LayoutModel",
            "_view_count": null,
            "_view_module": "@jupyter-widgets/base",
            "_view_module_version": "1.2.0",
            "_view_name": "LayoutView",
            "align_content": null,
            "align_items": null,
            "align_self": null,
            "border": null,
            "bottom": null,
            "display": null,
            "flex": null,
            "flex_flow": null,
            "grid_area": null,
            "grid_auto_columns": null,
            "grid_auto_flow": null,
            "grid_auto_rows": null,
            "grid_column": null,
            "grid_gap": null,
            "grid_row": null,
            "grid_template_areas": null,
            "grid_template_columns": null,
            "grid_template_rows": null,
            "height": null,
            "justify_content": null,
            "justify_items": null,
            "left": null,
            "margin": null,
            "max_height": null,
            "max_width": null,
            "min_height": null,
            "min_width": null,
            "object_fit": null,
            "object_position": null,
            "order": null,
            "overflow": null,
            "overflow_x": null,
            "overflow_y": null,
            "padding": null,
            "right": null,
            "top": null,
            "visibility": null,
            "width": null
          }
        },
        "fedb5b3fde2b4448b0d90da4a2a040da": {
          "model_module": "@jupyter-widgets/controls",
          "model_name": "DescriptionStyleModel",
          "model_module_version": "1.5.0",
          "state": {
            "_model_module": "@jupyter-widgets/controls",
            "_model_module_version": "1.5.0",
            "_model_name": "DescriptionStyleModel",
            "_view_count": null,
            "_view_module": "@jupyter-widgets/base",
            "_view_module_version": "1.2.0",
            "_view_name": "StyleView",
            "description_width": ""
          }
        },
        "59a05d54e81b46959fc86d855d4cd3e7": {
          "model_module": "@jupyter-widgets/base",
          "model_name": "LayoutModel",
          "model_module_version": "1.2.0",
          "state": {
            "_model_module": "@jupyter-widgets/base",
            "_model_module_version": "1.2.0",
            "_model_name": "LayoutModel",
            "_view_count": null,
            "_view_module": "@jupyter-widgets/base",
            "_view_module_version": "1.2.0",
            "_view_name": "LayoutView",
            "align_content": null,
            "align_items": null,
            "align_self": null,
            "border": null,
            "bottom": null,
            "display": null,
            "flex": null,
            "flex_flow": null,
            "grid_area": null,
            "grid_auto_columns": null,
            "grid_auto_flow": null,
            "grid_auto_rows": null,
            "grid_column": null,
            "grid_gap": null,
            "grid_row": null,
            "grid_template_areas": null,
            "grid_template_columns": null,
            "grid_template_rows": null,
            "height": null,
            "justify_content": null,
            "justify_items": null,
            "left": null,
            "margin": null,
            "max_height": null,
            "max_width": null,
            "min_height": null,
            "min_width": null,
            "object_fit": null,
            "object_position": null,
            "order": null,
            "overflow": null,
            "overflow_x": null,
            "overflow_y": null,
            "padding": null,
            "right": null,
            "top": null,
            "visibility": null,
            "width": null
          }
        },
        "78097f56c1bc4256b82fb8651e063dcc": {
          "model_module": "@jupyter-widgets/controls",
          "model_name": "ProgressStyleModel",
          "model_module_version": "1.5.0",
          "state": {
            "_model_module": "@jupyter-widgets/controls",
            "_model_module_version": "1.5.0",
            "_model_name": "ProgressStyleModel",
            "_view_count": null,
            "_view_module": "@jupyter-widgets/base",
            "_view_module_version": "1.2.0",
            "_view_name": "StyleView",
            "bar_color": null,
            "description_width": ""
          }
        },
        "e23afcc72f4f434db14a04e4f8e39a1b": {
          "model_module": "@jupyter-widgets/base",
          "model_name": "LayoutModel",
          "model_module_version": "1.2.0",
          "state": {
            "_model_module": "@jupyter-widgets/base",
            "_model_module_version": "1.2.0",
            "_model_name": "LayoutModel",
            "_view_count": null,
            "_view_module": "@jupyter-widgets/base",
            "_view_module_version": "1.2.0",
            "_view_name": "LayoutView",
            "align_content": null,
            "align_items": null,
            "align_self": null,
            "border": null,
            "bottom": null,
            "display": null,
            "flex": null,
            "flex_flow": null,
            "grid_area": null,
            "grid_auto_columns": null,
            "grid_auto_flow": null,
            "grid_auto_rows": null,
            "grid_column": null,
            "grid_gap": null,
            "grid_row": null,
            "grid_template_areas": null,
            "grid_template_columns": null,
            "grid_template_rows": null,
            "height": null,
            "justify_content": null,
            "justify_items": null,
            "left": null,
            "margin": null,
            "max_height": null,
            "max_width": null,
            "min_height": null,
            "min_width": null,
            "object_fit": null,
            "object_position": null,
            "order": null,
            "overflow": null,
            "overflow_x": null,
            "overflow_y": null,
            "padding": null,
            "right": null,
            "top": null,
            "visibility": null,
            "width": null
          }
        },
        "34b6c96b5677481bb4ca0b8147d9b2e4": {
          "model_module": "@jupyter-widgets/controls",
          "model_name": "DescriptionStyleModel",
          "model_module_version": "1.5.0",
          "state": {
            "_model_module": "@jupyter-widgets/controls",
            "_model_module_version": "1.5.0",
            "_model_name": "DescriptionStyleModel",
            "_view_count": null,
            "_view_module": "@jupyter-widgets/base",
            "_view_module_version": "1.2.0",
            "_view_name": "StyleView",
            "description_width": ""
          }
        },
        "df104598fc3d4287a9548613d4bf56c0": {
          "model_module": "@jupyter-widgets/controls",
          "model_name": "HBoxModel",
          "model_module_version": "1.5.0",
          "state": {
            "_dom_classes": [],
            "_model_module": "@jupyter-widgets/controls",
            "_model_module_version": "1.5.0",
            "_model_name": "HBoxModel",
            "_view_count": null,
            "_view_module": "@jupyter-widgets/controls",
            "_view_module_version": "1.5.0",
            "_view_name": "HBoxView",
            "box_style": "",
            "children": [
              "IPY_MODEL_02b2ab807a564c03b89d86a83eeeb2f5",
              "IPY_MODEL_ed0552bef9364826bd3d3de05497bf17",
              "IPY_MODEL_033fa163c01845e6a5684348987136c9"
            ],
            "layout": "IPY_MODEL_ecad89afa2284145904db14280081124"
          }
        },
        "02b2ab807a564c03b89d86a83eeeb2f5": {
          "model_module": "@jupyter-widgets/controls",
          "model_name": "HTMLModel",
          "model_module_version": "1.5.0",
          "state": {
            "_dom_classes": [],
            "_model_module": "@jupyter-widgets/controls",
            "_model_module_version": "1.5.0",
            "_model_name": "HTMLModel",
            "_view_count": null,
            "_view_module": "@jupyter-widgets/controls",
            "_view_module_version": "1.5.0",
            "_view_name": "HTMLView",
            "description": "",
            "description_tooltip": null,
            "layout": "IPY_MODEL_83e37e57ac87491a95d3e3bb1ea6eccc",
            "placeholder": "​",
            "style": "IPY_MODEL_1bd7403993144046ba05cdea23a9649c",
            "value": "Downloading data: 100%"
          }
        },
        "ed0552bef9364826bd3d3de05497bf17": {
          "model_module": "@jupyter-widgets/controls",
          "model_name": "FloatProgressModel",
          "model_module_version": "1.5.0",
          "state": {
            "_dom_classes": [],
            "_model_module": "@jupyter-widgets/controls",
            "_model_module_version": "1.5.0",
            "_model_name": "FloatProgressModel",
            "_view_count": null,
            "_view_module": "@jupyter-widgets/controls",
            "_view_module_version": "1.5.0",
            "_view_name": "ProgressView",
            "bar_style": "success",
            "description": "",
            "description_tooltip": null,
            "layout": "IPY_MODEL_df32003639c64096b41664f07cb3a4d9",
            "max": 312783507,
            "min": 0,
            "orientation": "horizontal",
            "style": "IPY_MODEL_2f278ec3552445c79512a4412656c4e0",
            "value": 312783507
          }
        },
        "033fa163c01845e6a5684348987136c9": {
          "model_module": "@jupyter-widgets/controls",
          "model_name": "HTMLModel",
          "model_module_version": "1.5.0",
          "state": {
            "_dom_classes": [],
            "_model_module": "@jupyter-widgets/controls",
            "_model_module_version": "1.5.0",
            "_model_name": "HTMLModel",
            "_view_count": null,
            "_view_module": "@jupyter-widgets/controls",
            "_view_module_version": "1.5.0",
            "_view_name": "HTMLView",
            "description": "",
            "description_tooltip": null,
            "layout": "IPY_MODEL_82dd96af1b2e4a7c808a7f1c32804efd",
            "placeholder": "​",
            "style": "IPY_MODEL_c4aa8fccad8341b6824a8e7da5561eff",
            "value": " 313M/313M [00:15&lt;00:00, 22.6MB/s]"
          }
        },
        "ecad89afa2284145904db14280081124": {
          "model_module": "@jupyter-widgets/base",
          "model_name": "LayoutModel",
          "model_module_version": "1.2.0",
          "state": {
            "_model_module": "@jupyter-widgets/base",
            "_model_module_version": "1.2.0",
            "_model_name": "LayoutModel",
            "_view_count": null,
            "_view_module": "@jupyter-widgets/base",
            "_view_module_version": "1.2.0",
            "_view_name": "LayoutView",
            "align_content": null,
            "align_items": null,
            "align_self": null,
            "border": null,
            "bottom": null,
            "display": null,
            "flex": null,
            "flex_flow": null,
            "grid_area": null,
            "grid_auto_columns": null,
            "grid_auto_flow": null,
            "grid_auto_rows": null,
            "grid_column": null,
            "grid_gap": null,
            "grid_row": null,
            "grid_template_areas": null,
            "grid_template_columns": null,
            "grid_template_rows": null,
            "height": null,
            "justify_content": null,
            "justify_items": null,
            "left": null,
            "margin": null,
            "max_height": null,
            "max_width": null,
            "min_height": null,
            "min_width": null,
            "object_fit": null,
            "object_position": null,
            "order": null,
            "overflow": null,
            "overflow_x": null,
            "overflow_y": null,
            "padding": null,
            "right": null,
            "top": null,
            "visibility": null,
            "width": null
          }
        },
        "83e37e57ac87491a95d3e3bb1ea6eccc": {
          "model_module": "@jupyter-widgets/base",
          "model_name": "LayoutModel",
          "model_module_version": "1.2.0",
          "state": {
            "_model_module": "@jupyter-widgets/base",
            "_model_module_version": "1.2.0",
            "_model_name": "LayoutModel",
            "_view_count": null,
            "_view_module": "@jupyter-widgets/base",
            "_view_module_version": "1.2.0",
            "_view_name": "LayoutView",
            "align_content": null,
            "align_items": null,
            "align_self": null,
            "border": null,
            "bottom": null,
            "display": null,
            "flex": null,
            "flex_flow": null,
            "grid_area": null,
            "grid_auto_columns": null,
            "grid_auto_flow": null,
            "grid_auto_rows": null,
            "grid_column": null,
            "grid_gap": null,
            "grid_row": null,
            "grid_template_areas": null,
            "grid_template_columns": null,
            "grid_template_rows": null,
            "height": null,
            "justify_content": null,
            "justify_items": null,
            "left": null,
            "margin": null,
            "max_height": null,
            "max_width": null,
            "min_height": null,
            "min_width": null,
            "object_fit": null,
            "object_position": null,
            "order": null,
            "overflow": null,
            "overflow_x": null,
            "overflow_y": null,
            "padding": null,
            "right": null,
            "top": null,
            "visibility": null,
            "width": null
          }
        },
        "1bd7403993144046ba05cdea23a9649c": {
          "model_module": "@jupyter-widgets/controls",
          "model_name": "DescriptionStyleModel",
          "model_module_version": "1.5.0",
          "state": {
            "_model_module": "@jupyter-widgets/controls",
            "_model_module_version": "1.5.0",
            "_model_name": "DescriptionStyleModel",
            "_view_count": null,
            "_view_module": "@jupyter-widgets/base",
            "_view_module_version": "1.2.0",
            "_view_name": "StyleView",
            "description_width": ""
          }
        },
        "df32003639c64096b41664f07cb3a4d9": {
          "model_module": "@jupyter-widgets/base",
          "model_name": "LayoutModel",
          "model_module_version": "1.2.0",
          "state": {
            "_model_module": "@jupyter-widgets/base",
            "_model_module_version": "1.2.0",
            "_model_name": "LayoutModel",
            "_view_count": null,
            "_view_module": "@jupyter-widgets/base",
            "_view_module_version": "1.2.0",
            "_view_name": "LayoutView",
            "align_content": null,
            "align_items": null,
            "align_self": null,
            "border": null,
            "bottom": null,
            "display": null,
            "flex": null,
            "flex_flow": null,
            "grid_area": null,
            "grid_auto_columns": null,
            "grid_auto_flow": null,
            "grid_auto_rows": null,
            "grid_column": null,
            "grid_gap": null,
            "grid_row": null,
            "grid_template_areas": null,
            "grid_template_columns": null,
            "grid_template_rows": null,
            "height": null,
            "justify_content": null,
            "justify_items": null,
            "left": null,
            "margin": null,
            "max_height": null,
            "max_width": null,
            "min_height": null,
            "min_width": null,
            "object_fit": null,
            "object_position": null,
            "order": null,
            "overflow": null,
            "overflow_x": null,
            "overflow_y": null,
            "padding": null,
            "right": null,
            "top": null,
            "visibility": null,
            "width": null
          }
        },
        "2f278ec3552445c79512a4412656c4e0": {
          "model_module": "@jupyter-widgets/controls",
          "model_name": "ProgressStyleModel",
          "model_module_version": "1.5.0",
          "state": {
            "_model_module": "@jupyter-widgets/controls",
            "_model_module_version": "1.5.0",
            "_model_name": "ProgressStyleModel",
            "_view_count": null,
            "_view_module": "@jupyter-widgets/base",
            "_view_module_version": "1.2.0",
            "_view_name": "StyleView",
            "bar_color": null,
            "description_width": ""
          }
        },
        "82dd96af1b2e4a7c808a7f1c32804efd": {
          "model_module": "@jupyter-widgets/base",
          "model_name": "LayoutModel",
          "model_module_version": "1.2.0",
          "state": {
            "_model_module": "@jupyter-widgets/base",
            "_model_module_version": "1.2.0",
            "_model_name": "LayoutModel",
            "_view_count": null,
            "_view_module": "@jupyter-widgets/base",
            "_view_module_version": "1.2.0",
            "_view_name": "LayoutView",
            "align_content": null,
            "align_items": null,
            "align_self": null,
            "border": null,
            "bottom": null,
            "display": null,
            "flex": null,
            "flex_flow": null,
            "grid_area": null,
            "grid_auto_columns": null,
            "grid_auto_flow": null,
            "grid_auto_rows": null,
            "grid_column": null,
            "grid_gap": null,
            "grid_row": null,
            "grid_template_areas": null,
            "grid_template_columns": null,
            "grid_template_rows": null,
            "height": null,
            "justify_content": null,
            "justify_items": null,
            "left": null,
            "margin": null,
            "max_height": null,
            "max_width": null,
            "min_height": null,
            "min_width": null,
            "object_fit": null,
            "object_position": null,
            "order": null,
            "overflow": null,
            "overflow_x": null,
            "overflow_y": null,
            "padding": null,
            "right": null,
            "top": null,
            "visibility": null,
            "width": null
          }
        },
        "c4aa8fccad8341b6824a8e7da5561eff": {
          "model_module": "@jupyter-widgets/controls",
          "model_name": "DescriptionStyleModel",
          "model_module_version": "1.5.0",
          "state": {
            "_model_module": "@jupyter-widgets/controls",
            "_model_module_version": "1.5.0",
            "_model_name": "DescriptionStyleModel",
            "_view_count": null,
            "_view_module": "@jupyter-widgets/base",
            "_view_module_version": "1.2.0",
            "_view_name": "StyleView",
            "description_width": ""
          }
        },
        "fc37442823924091b729e985c237a6e9": {
          "model_module": "@jupyter-widgets/controls",
          "model_name": "HBoxModel",
          "model_module_version": "1.5.0",
          "state": {
            "_dom_classes": [],
            "_model_module": "@jupyter-widgets/controls",
            "_model_module_version": "1.5.0",
            "_model_name": "HBoxModel",
            "_view_count": null,
            "_view_module": "@jupyter-widgets/controls",
            "_view_module_version": "1.5.0",
            "_view_name": "HBoxView",
            "box_style": "",
            "children": [
              "IPY_MODEL_2c63200c251a4981ba06d753ae06cd3a",
              "IPY_MODEL_6dac89ab66e348518949b09c7b389eeb",
              "IPY_MODEL_5d458e0c334b40d3bd2781216c8267e4"
            ],
            "layout": "IPY_MODEL_272b6dd1713c48c2bb6e7ca3d9bf0bd8"
          }
        },
        "2c63200c251a4981ba06d753ae06cd3a": {
          "model_module": "@jupyter-widgets/controls",
          "model_name": "HTMLModel",
          "model_module_version": "1.5.0",
          "state": {
            "_dom_classes": [],
            "_model_module": "@jupyter-widgets/controls",
            "_model_module_version": "1.5.0",
            "_model_name": "HTMLModel",
            "_view_count": null,
            "_view_module": "@jupyter-widgets/controls",
            "_view_module_version": "1.5.0",
            "_view_name": "HTMLView",
            "description": "",
            "description_tooltip": null,
            "layout": "IPY_MODEL_c99ae7dba6064bc594e5db819841740b",
            "placeholder": "​",
            "style": "IPY_MODEL_dd34ddca4f3e4d49be60932a6230489e",
            "value": "Generating train split: 100%"
          }
        },
        "6dac89ab66e348518949b09c7b389eeb": {
          "model_module": "@jupyter-widgets/controls",
          "model_name": "FloatProgressModel",
          "model_module_version": "1.5.0",
          "state": {
            "_dom_classes": [],
            "_model_module": "@jupyter-widgets/controls",
            "_model_module_version": "1.5.0",
            "_model_name": "FloatProgressModel",
            "_view_count": null,
            "_view_module": "@jupyter-widgets/controls",
            "_view_module_version": "1.5.0",
            "_view_name": "ProgressView",
            "bar_style": "",
            "description": "",
            "description_tooltip": null,
            "layout": "IPY_MODEL_5b1e97446b69480295305fd749b1d088",
            "max": 392702,
            "min": 0,
            "orientation": "horizontal",
            "style": "IPY_MODEL_3967bec868d24d208e6d390ada900def",
            "value": 392702
          }
        },
        "5d458e0c334b40d3bd2781216c8267e4": {
          "model_module": "@jupyter-widgets/controls",
          "model_name": "HTMLModel",
          "model_module_version": "1.5.0",
          "state": {
            "_dom_classes": [],
            "_model_module": "@jupyter-widgets/controls",
            "_model_module_version": "1.5.0",
            "_model_name": "HTMLModel",
            "_view_count": null,
            "_view_module": "@jupyter-widgets/controls",
            "_view_module_version": "1.5.0",
            "_view_name": "HTMLView",
            "description": "",
            "description_tooltip": null,
            "layout": "IPY_MODEL_9c387542de4b4bd4a9b6131f8b94e420",
            "placeholder": "​",
            "style": "IPY_MODEL_3fb1d86638744c71b8d3fd01c806cf74",
            "value": " 391929/392702 [00:27&lt;00:00, 14433.43 examples/s]"
          }
        },
        "272b6dd1713c48c2bb6e7ca3d9bf0bd8": {
          "model_module": "@jupyter-widgets/base",
          "model_name": "LayoutModel",
          "model_module_version": "1.2.0",
          "state": {
            "_model_module": "@jupyter-widgets/base",
            "_model_module_version": "1.2.0",
            "_model_name": "LayoutModel",
            "_view_count": null,
            "_view_module": "@jupyter-widgets/base",
            "_view_module_version": "1.2.0",
            "_view_name": "LayoutView",
            "align_content": null,
            "align_items": null,
            "align_self": null,
            "border": null,
            "bottom": null,
            "display": null,
            "flex": null,
            "flex_flow": null,
            "grid_area": null,
            "grid_auto_columns": null,
            "grid_auto_flow": null,
            "grid_auto_rows": null,
            "grid_column": null,
            "grid_gap": null,
            "grid_row": null,
            "grid_template_areas": null,
            "grid_template_columns": null,
            "grid_template_rows": null,
            "height": null,
            "justify_content": null,
            "justify_items": null,
            "left": null,
            "margin": null,
            "max_height": null,
            "max_width": null,
            "min_height": null,
            "min_width": null,
            "object_fit": null,
            "object_position": null,
            "order": null,
            "overflow": null,
            "overflow_x": null,
            "overflow_y": null,
            "padding": null,
            "right": null,
            "top": null,
            "visibility": null,
            "width": null
          }
        },
        "c99ae7dba6064bc594e5db819841740b": {
          "model_module": "@jupyter-widgets/base",
          "model_name": "LayoutModel",
          "model_module_version": "1.2.0",
          "state": {
            "_model_module": "@jupyter-widgets/base",
            "_model_module_version": "1.2.0",
            "_model_name": "LayoutModel",
            "_view_count": null,
            "_view_module": "@jupyter-widgets/base",
            "_view_module_version": "1.2.0",
            "_view_name": "LayoutView",
            "align_content": null,
            "align_items": null,
            "align_self": null,
            "border": null,
            "bottom": null,
            "display": null,
            "flex": null,
            "flex_flow": null,
            "grid_area": null,
            "grid_auto_columns": null,
            "grid_auto_flow": null,
            "grid_auto_rows": null,
            "grid_column": null,
            "grid_gap": null,
            "grid_row": null,
            "grid_template_areas": null,
            "grid_template_columns": null,
            "grid_template_rows": null,
            "height": null,
            "justify_content": null,
            "justify_items": null,
            "left": null,
            "margin": null,
            "max_height": null,
            "max_width": null,
            "min_height": null,
            "min_width": null,
            "object_fit": null,
            "object_position": null,
            "order": null,
            "overflow": null,
            "overflow_x": null,
            "overflow_y": null,
            "padding": null,
            "right": null,
            "top": null,
            "visibility": null,
            "width": null
          }
        },
        "dd34ddca4f3e4d49be60932a6230489e": {
          "model_module": "@jupyter-widgets/controls",
          "model_name": "DescriptionStyleModel",
          "model_module_version": "1.5.0",
          "state": {
            "_model_module": "@jupyter-widgets/controls",
            "_model_module_version": "1.5.0",
            "_model_name": "DescriptionStyleModel",
            "_view_count": null,
            "_view_module": "@jupyter-widgets/base",
            "_view_module_version": "1.2.0",
            "_view_name": "StyleView",
            "description_width": ""
          }
        },
        "5b1e97446b69480295305fd749b1d088": {
          "model_module": "@jupyter-widgets/base",
          "model_name": "LayoutModel",
          "model_module_version": "1.2.0",
          "state": {
            "_model_module": "@jupyter-widgets/base",
            "_model_module_version": "1.2.0",
            "_model_name": "LayoutModel",
            "_view_count": null,
            "_view_module": "@jupyter-widgets/base",
            "_view_module_version": "1.2.0",
            "_view_name": "LayoutView",
            "align_content": null,
            "align_items": null,
            "align_self": null,
            "border": null,
            "bottom": null,
            "display": null,
            "flex": null,
            "flex_flow": null,
            "grid_area": null,
            "grid_auto_columns": null,
            "grid_auto_flow": null,
            "grid_auto_rows": null,
            "grid_column": null,
            "grid_gap": null,
            "grid_row": null,
            "grid_template_areas": null,
            "grid_template_columns": null,
            "grid_template_rows": null,
            "height": null,
            "justify_content": null,
            "justify_items": null,
            "left": null,
            "margin": null,
            "max_height": null,
            "max_width": null,
            "min_height": null,
            "min_width": null,
            "object_fit": null,
            "object_position": null,
            "order": null,
            "overflow": null,
            "overflow_x": null,
            "overflow_y": null,
            "padding": null,
            "right": null,
            "top": null,
            "visibility": null,
            "width": null
          }
        },
        "3967bec868d24d208e6d390ada900def": {
          "model_module": "@jupyter-widgets/controls",
          "model_name": "ProgressStyleModel",
          "model_module_version": "1.5.0",
          "state": {
            "_model_module": "@jupyter-widgets/controls",
            "_model_module_version": "1.5.0",
            "_model_name": "ProgressStyleModel",
            "_view_count": null,
            "_view_module": "@jupyter-widgets/base",
            "_view_module_version": "1.2.0",
            "_view_name": "StyleView",
            "bar_color": null,
            "description_width": ""
          }
        },
        "9c387542de4b4bd4a9b6131f8b94e420": {
          "model_module": "@jupyter-widgets/base",
          "model_name": "LayoutModel",
          "model_module_version": "1.2.0",
          "state": {
            "_model_module": "@jupyter-widgets/base",
            "_model_module_version": "1.2.0",
            "_model_name": "LayoutModel",
            "_view_count": null,
            "_view_module": "@jupyter-widgets/base",
            "_view_module_version": "1.2.0",
            "_view_name": "LayoutView",
            "align_content": null,
            "align_items": null,
            "align_self": null,
            "border": null,
            "bottom": null,
            "display": null,
            "flex": null,
            "flex_flow": null,
            "grid_area": null,
            "grid_auto_columns": null,
            "grid_auto_flow": null,
            "grid_auto_rows": null,
            "grid_column": null,
            "grid_gap": null,
            "grid_row": null,
            "grid_template_areas": null,
            "grid_template_columns": null,
            "grid_template_rows": null,
            "height": null,
            "justify_content": null,
            "justify_items": null,
            "left": null,
            "margin": null,
            "max_height": null,
            "max_width": null,
            "min_height": null,
            "min_width": null,
            "object_fit": null,
            "object_position": null,
            "order": null,
            "overflow": null,
            "overflow_x": null,
            "overflow_y": null,
            "padding": null,
            "right": null,
            "top": null,
            "visibility": null,
            "width": null
          }
        },
        "3fb1d86638744c71b8d3fd01c806cf74": {
          "model_module": "@jupyter-widgets/controls",
          "model_name": "DescriptionStyleModel",
          "model_module_version": "1.5.0",
          "state": {
            "_model_module": "@jupyter-widgets/controls",
            "_model_module_version": "1.5.0",
            "_model_name": "DescriptionStyleModel",
            "_view_count": null,
            "_view_module": "@jupyter-widgets/base",
            "_view_module_version": "1.2.0",
            "_view_name": "StyleView",
            "description_width": ""
          }
        },
        "c5156e4431074f2b90ab91d8f30a83b2": {
          "model_module": "@jupyter-widgets/controls",
          "model_name": "HBoxModel",
          "model_module_version": "1.5.0",
          "state": {
            "_dom_classes": [],
            "_model_module": "@jupyter-widgets/controls",
            "_model_module_version": "1.5.0",
            "_model_name": "HBoxModel",
            "_view_count": null,
            "_view_module": "@jupyter-widgets/controls",
            "_view_module_version": "1.5.0",
            "_view_name": "HBoxView",
            "box_style": "",
            "children": [
              "IPY_MODEL_ebc8a5c9ac564dcc8fab474e586d8207",
              "IPY_MODEL_d6f5d77abeb348f38f21d4c5cceb5393",
              "IPY_MODEL_71991cc9dc0a42b89e78dcb48c5e2f2e"
            ],
            "layout": "IPY_MODEL_4254395ddb6a44e9808933e66b225dd6"
          }
        },
        "ebc8a5c9ac564dcc8fab474e586d8207": {
          "model_module": "@jupyter-widgets/controls",
          "model_name": "HTMLModel",
          "model_module_version": "1.5.0",
          "state": {
            "_dom_classes": [],
            "_model_module": "@jupyter-widgets/controls",
            "_model_module_version": "1.5.0",
            "_model_name": "HTMLModel",
            "_view_count": null,
            "_view_module": "@jupyter-widgets/controls",
            "_view_module_version": "1.5.0",
            "_view_name": "HTMLView",
            "description": "",
            "description_tooltip": null,
            "layout": "IPY_MODEL_418a1db7332e4edc954894e4bd1f987e",
            "placeholder": "​",
            "style": "IPY_MODEL_f5770d7048394498b5765919d49294e0",
            "value": "Generating validation_matched split: 100%"
          }
        },
        "d6f5d77abeb348f38f21d4c5cceb5393": {
          "model_module": "@jupyter-widgets/controls",
          "model_name": "FloatProgressModel",
          "model_module_version": "1.5.0",
          "state": {
            "_dom_classes": [],
            "_model_module": "@jupyter-widgets/controls",
            "_model_module_version": "1.5.0",
            "_model_name": "FloatProgressModel",
            "_view_count": null,
            "_view_module": "@jupyter-widgets/controls",
            "_view_module_version": "1.5.0",
            "_view_name": "ProgressView",
            "bar_style": "",
            "description": "",
            "description_tooltip": null,
            "layout": "IPY_MODEL_3b71c9bf59af4ef4bceea2f1d3981b1a",
            "max": 9815,
            "min": 0,
            "orientation": "horizontal",
            "style": "IPY_MODEL_21c2e2db09c2490db0f881f166d12116",
            "value": 9815
          }
        },
        "71991cc9dc0a42b89e78dcb48c5e2f2e": {
          "model_module": "@jupyter-widgets/controls",
          "model_name": "HTMLModel",
          "model_module_version": "1.5.0",
          "state": {
            "_dom_classes": [],
            "_model_module": "@jupyter-widgets/controls",
            "_model_module_version": "1.5.0",
            "_model_name": "HTMLModel",
            "_view_count": null,
            "_view_module": "@jupyter-widgets/controls",
            "_view_module_version": "1.5.0",
            "_view_name": "HTMLView",
            "description": "",
            "description_tooltip": null,
            "layout": "IPY_MODEL_d90fb64298774629a8830f2453d84c4e",
            "placeholder": "​",
            "style": "IPY_MODEL_1a835e3d26d1404caaf6f295b952d88e",
            "value": " 9774/9815 [00:00&lt;00:00, 14560.40 examples/s]"
          }
        },
        "4254395ddb6a44e9808933e66b225dd6": {
          "model_module": "@jupyter-widgets/base",
          "model_name": "LayoutModel",
          "model_module_version": "1.2.0",
          "state": {
            "_model_module": "@jupyter-widgets/base",
            "_model_module_version": "1.2.0",
            "_model_name": "LayoutModel",
            "_view_count": null,
            "_view_module": "@jupyter-widgets/base",
            "_view_module_version": "1.2.0",
            "_view_name": "LayoutView",
            "align_content": null,
            "align_items": null,
            "align_self": null,
            "border": null,
            "bottom": null,
            "display": null,
            "flex": null,
            "flex_flow": null,
            "grid_area": null,
            "grid_auto_columns": null,
            "grid_auto_flow": null,
            "grid_auto_rows": null,
            "grid_column": null,
            "grid_gap": null,
            "grid_row": null,
            "grid_template_areas": null,
            "grid_template_columns": null,
            "grid_template_rows": null,
            "height": null,
            "justify_content": null,
            "justify_items": null,
            "left": null,
            "margin": null,
            "max_height": null,
            "max_width": null,
            "min_height": null,
            "min_width": null,
            "object_fit": null,
            "object_position": null,
            "order": null,
            "overflow": null,
            "overflow_x": null,
            "overflow_y": null,
            "padding": null,
            "right": null,
            "top": null,
            "visibility": null,
            "width": null
          }
        },
        "418a1db7332e4edc954894e4bd1f987e": {
          "model_module": "@jupyter-widgets/base",
          "model_name": "LayoutModel",
          "model_module_version": "1.2.0",
          "state": {
            "_model_module": "@jupyter-widgets/base",
            "_model_module_version": "1.2.0",
            "_model_name": "LayoutModel",
            "_view_count": null,
            "_view_module": "@jupyter-widgets/base",
            "_view_module_version": "1.2.0",
            "_view_name": "LayoutView",
            "align_content": null,
            "align_items": null,
            "align_self": null,
            "border": null,
            "bottom": null,
            "display": null,
            "flex": null,
            "flex_flow": null,
            "grid_area": null,
            "grid_auto_columns": null,
            "grid_auto_flow": null,
            "grid_auto_rows": null,
            "grid_column": null,
            "grid_gap": null,
            "grid_row": null,
            "grid_template_areas": null,
            "grid_template_columns": null,
            "grid_template_rows": null,
            "height": null,
            "justify_content": null,
            "justify_items": null,
            "left": null,
            "margin": null,
            "max_height": null,
            "max_width": null,
            "min_height": null,
            "min_width": null,
            "object_fit": null,
            "object_position": null,
            "order": null,
            "overflow": null,
            "overflow_x": null,
            "overflow_y": null,
            "padding": null,
            "right": null,
            "top": null,
            "visibility": null,
            "width": null
          }
        },
        "f5770d7048394498b5765919d49294e0": {
          "model_module": "@jupyter-widgets/controls",
          "model_name": "DescriptionStyleModel",
          "model_module_version": "1.5.0",
          "state": {
            "_model_module": "@jupyter-widgets/controls",
            "_model_module_version": "1.5.0",
            "_model_name": "DescriptionStyleModel",
            "_view_count": null,
            "_view_module": "@jupyter-widgets/base",
            "_view_module_version": "1.2.0",
            "_view_name": "StyleView",
            "description_width": ""
          }
        },
        "3b71c9bf59af4ef4bceea2f1d3981b1a": {
          "model_module": "@jupyter-widgets/base",
          "model_name": "LayoutModel",
          "model_module_version": "1.2.0",
          "state": {
            "_model_module": "@jupyter-widgets/base",
            "_model_module_version": "1.2.0",
            "_model_name": "LayoutModel",
            "_view_count": null,
            "_view_module": "@jupyter-widgets/base",
            "_view_module_version": "1.2.0",
            "_view_name": "LayoutView",
            "align_content": null,
            "align_items": null,
            "align_self": null,
            "border": null,
            "bottom": null,
            "display": null,
            "flex": null,
            "flex_flow": null,
            "grid_area": null,
            "grid_auto_columns": null,
            "grid_auto_flow": null,
            "grid_auto_rows": null,
            "grid_column": null,
            "grid_gap": null,
            "grid_row": null,
            "grid_template_areas": null,
            "grid_template_columns": null,
            "grid_template_rows": null,
            "height": null,
            "justify_content": null,
            "justify_items": null,
            "left": null,
            "margin": null,
            "max_height": null,
            "max_width": null,
            "min_height": null,
            "min_width": null,
            "object_fit": null,
            "object_position": null,
            "order": null,
            "overflow": null,
            "overflow_x": null,
            "overflow_y": null,
            "padding": null,
            "right": null,
            "top": null,
            "visibility": null,
            "width": null
          }
        },
        "21c2e2db09c2490db0f881f166d12116": {
          "model_module": "@jupyter-widgets/controls",
          "model_name": "ProgressStyleModel",
          "model_module_version": "1.5.0",
          "state": {
            "_model_module": "@jupyter-widgets/controls",
            "_model_module_version": "1.5.0",
            "_model_name": "ProgressStyleModel",
            "_view_count": null,
            "_view_module": "@jupyter-widgets/base",
            "_view_module_version": "1.2.0",
            "_view_name": "StyleView",
            "bar_color": null,
            "description_width": ""
          }
        },
        "d90fb64298774629a8830f2453d84c4e": {
          "model_module": "@jupyter-widgets/base",
          "model_name": "LayoutModel",
          "model_module_version": "1.2.0",
          "state": {
            "_model_module": "@jupyter-widgets/base",
            "_model_module_version": "1.2.0",
            "_model_name": "LayoutModel",
            "_view_count": null,
            "_view_module": "@jupyter-widgets/base",
            "_view_module_version": "1.2.0",
            "_view_name": "LayoutView",
            "align_content": null,
            "align_items": null,
            "align_self": null,
            "border": null,
            "bottom": null,
            "display": null,
            "flex": null,
            "flex_flow": null,
            "grid_area": null,
            "grid_auto_columns": null,
            "grid_auto_flow": null,
            "grid_auto_rows": null,
            "grid_column": null,
            "grid_gap": null,
            "grid_row": null,
            "grid_template_areas": null,
            "grid_template_columns": null,
            "grid_template_rows": null,
            "height": null,
            "justify_content": null,
            "justify_items": null,
            "left": null,
            "margin": null,
            "max_height": null,
            "max_width": null,
            "min_height": null,
            "min_width": null,
            "object_fit": null,
            "object_position": null,
            "order": null,
            "overflow": null,
            "overflow_x": null,
            "overflow_y": null,
            "padding": null,
            "right": null,
            "top": null,
            "visibility": null,
            "width": null
          }
        },
        "1a835e3d26d1404caaf6f295b952d88e": {
          "model_module": "@jupyter-widgets/controls",
          "model_name": "DescriptionStyleModel",
          "model_module_version": "1.5.0",
          "state": {
            "_model_module": "@jupyter-widgets/controls",
            "_model_module_version": "1.5.0",
            "_model_name": "DescriptionStyleModel",
            "_view_count": null,
            "_view_module": "@jupyter-widgets/base",
            "_view_module_version": "1.2.0",
            "_view_name": "StyleView",
            "description_width": ""
          }
        },
        "dfa960556a1e4384bc086d9df9883ec6": {
          "model_module": "@jupyter-widgets/controls",
          "model_name": "HBoxModel",
          "model_module_version": "1.5.0",
          "state": {
            "_dom_classes": [],
            "_model_module": "@jupyter-widgets/controls",
            "_model_module_version": "1.5.0",
            "_model_name": "HBoxModel",
            "_view_count": null,
            "_view_module": "@jupyter-widgets/controls",
            "_view_module_version": "1.5.0",
            "_view_name": "HBoxView",
            "box_style": "",
            "children": [
              "IPY_MODEL_acd7df22a908488ca7747728f92ed95a",
              "IPY_MODEL_5a15a2b70f934543b92476cb88313add",
              "IPY_MODEL_b4951ac2913147729501ef4c68e985c2"
            ],
            "layout": "IPY_MODEL_7a186502f56845fcbb8f29340d80569c"
          }
        },
        "acd7df22a908488ca7747728f92ed95a": {
          "model_module": "@jupyter-widgets/controls",
          "model_name": "HTMLModel",
          "model_module_version": "1.5.0",
          "state": {
            "_dom_classes": [],
            "_model_module": "@jupyter-widgets/controls",
            "_model_module_version": "1.5.0",
            "_model_name": "HTMLModel",
            "_view_count": null,
            "_view_module": "@jupyter-widgets/controls",
            "_view_module_version": "1.5.0",
            "_view_name": "HTMLView",
            "description": "",
            "description_tooltip": null,
            "layout": "IPY_MODEL_8ce257e1fc904cee88694749c0b63a2b",
            "placeholder": "​",
            "style": "IPY_MODEL_6ee24ab550fb4300b1851e54188987e4",
            "value": "Generating validation_mismatched split:  97%"
          }
        },
        "5a15a2b70f934543b92476cb88313add": {
          "model_module": "@jupyter-widgets/controls",
          "model_name": "FloatProgressModel",
          "model_module_version": "1.5.0",
          "state": {
            "_dom_classes": [],
            "_model_module": "@jupyter-widgets/controls",
            "_model_module_version": "1.5.0",
            "_model_name": "FloatProgressModel",
            "_view_count": null,
            "_view_module": "@jupyter-widgets/controls",
            "_view_module_version": "1.5.0",
            "_view_name": "ProgressView",
            "bar_style": "",
            "description": "",
            "description_tooltip": null,
            "layout": "IPY_MODEL_8cdf47056d60414da0fe8cb8e9857a45",
            "max": 9832,
            "min": 0,
            "orientation": "horizontal",
            "style": "IPY_MODEL_9b66d091c34745cf94a28aaea63e812c",
            "value": 9832
          }
        },
        "b4951ac2913147729501ef4c68e985c2": {
          "model_module": "@jupyter-widgets/controls",
          "model_name": "HTMLModel",
          "model_module_version": "1.5.0",
          "state": {
            "_dom_classes": [],
            "_model_module": "@jupyter-widgets/controls",
            "_model_module_version": "1.5.0",
            "_model_name": "HTMLModel",
            "_view_count": null,
            "_view_module": "@jupyter-widgets/controls",
            "_view_module_version": "1.5.0",
            "_view_name": "HTMLView",
            "description": "",
            "description_tooltip": null,
            "layout": "IPY_MODEL_e6b8c9afe5e946c382bbbf0dac0b03f4",
            "placeholder": "​",
            "style": "IPY_MODEL_37a4c7933f1143e7a5e4d25f1afebffd",
            "value": " 9532/9832 [00:00&lt;00:00, 14330.35 examples/s]"
          }
        },
        "7a186502f56845fcbb8f29340d80569c": {
          "model_module": "@jupyter-widgets/base",
          "model_name": "LayoutModel",
          "model_module_version": "1.2.0",
          "state": {
            "_model_module": "@jupyter-widgets/base",
            "_model_module_version": "1.2.0",
            "_model_name": "LayoutModel",
            "_view_count": null,
            "_view_module": "@jupyter-widgets/base",
            "_view_module_version": "1.2.0",
            "_view_name": "LayoutView",
            "align_content": null,
            "align_items": null,
            "align_self": null,
            "border": null,
            "bottom": null,
            "display": null,
            "flex": null,
            "flex_flow": null,
            "grid_area": null,
            "grid_auto_columns": null,
            "grid_auto_flow": null,
            "grid_auto_rows": null,
            "grid_column": null,
            "grid_gap": null,
            "grid_row": null,
            "grid_template_areas": null,
            "grid_template_columns": null,
            "grid_template_rows": null,
            "height": null,
            "justify_content": null,
            "justify_items": null,
            "left": null,
            "margin": null,
            "max_height": null,
            "max_width": null,
            "min_height": null,
            "min_width": null,
            "object_fit": null,
            "object_position": null,
            "order": null,
            "overflow": null,
            "overflow_x": null,
            "overflow_y": null,
            "padding": null,
            "right": null,
            "top": null,
            "visibility": null,
            "width": null
          }
        },
        "8ce257e1fc904cee88694749c0b63a2b": {
          "model_module": "@jupyter-widgets/base",
          "model_name": "LayoutModel",
          "model_module_version": "1.2.0",
          "state": {
            "_model_module": "@jupyter-widgets/base",
            "_model_module_version": "1.2.0",
            "_model_name": "LayoutModel",
            "_view_count": null,
            "_view_module": "@jupyter-widgets/base",
            "_view_module_version": "1.2.0",
            "_view_name": "LayoutView",
            "align_content": null,
            "align_items": null,
            "align_self": null,
            "border": null,
            "bottom": null,
            "display": null,
            "flex": null,
            "flex_flow": null,
            "grid_area": null,
            "grid_auto_columns": null,
            "grid_auto_flow": null,
            "grid_auto_rows": null,
            "grid_column": null,
            "grid_gap": null,
            "grid_row": null,
            "grid_template_areas": null,
            "grid_template_columns": null,
            "grid_template_rows": null,
            "height": null,
            "justify_content": null,
            "justify_items": null,
            "left": null,
            "margin": null,
            "max_height": null,
            "max_width": null,
            "min_height": null,
            "min_width": null,
            "object_fit": null,
            "object_position": null,
            "order": null,
            "overflow": null,
            "overflow_x": null,
            "overflow_y": null,
            "padding": null,
            "right": null,
            "top": null,
            "visibility": null,
            "width": null
          }
        },
        "6ee24ab550fb4300b1851e54188987e4": {
          "model_module": "@jupyter-widgets/controls",
          "model_name": "DescriptionStyleModel",
          "model_module_version": "1.5.0",
          "state": {
            "_model_module": "@jupyter-widgets/controls",
            "_model_module_version": "1.5.0",
            "_model_name": "DescriptionStyleModel",
            "_view_count": null,
            "_view_module": "@jupyter-widgets/base",
            "_view_module_version": "1.2.0",
            "_view_name": "StyleView",
            "description_width": ""
          }
        },
        "8cdf47056d60414da0fe8cb8e9857a45": {
          "model_module": "@jupyter-widgets/base",
          "model_name": "LayoutModel",
          "model_module_version": "1.2.0",
          "state": {
            "_model_module": "@jupyter-widgets/base",
            "_model_module_version": "1.2.0",
            "_model_name": "LayoutModel",
            "_view_count": null,
            "_view_module": "@jupyter-widgets/base",
            "_view_module_version": "1.2.0",
            "_view_name": "LayoutView",
            "align_content": null,
            "align_items": null,
            "align_self": null,
            "border": null,
            "bottom": null,
            "display": null,
            "flex": null,
            "flex_flow": null,
            "grid_area": null,
            "grid_auto_columns": null,
            "grid_auto_flow": null,
            "grid_auto_rows": null,
            "grid_column": null,
            "grid_gap": null,
            "grid_row": null,
            "grid_template_areas": null,
            "grid_template_columns": null,
            "grid_template_rows": null,
            "height": null,
            "justify_content": null,
            "justify_items": null,
            "left": null,
            "margin": null,
            "max_height": null,
            "max_width": null,
            "min_height": null,
            "min_width": null,
            "object_fit": null,
            "object_position": null,
            "order": null,
            "overflow": null,
            "overflow_x": null,
            "overflow_y": null,
            "padding": null,
            "right": null,
            "top": null,
            "visibility": null,
            "width": null
          }
        },
        "9b66d091c34745cf94a28aaea63e812c": {
          "model_module": "@jupyter-widgets/controls",
          "model_name": "ProgressStyleModel",
          "model_module_version": "1.5.0",
          "state": {
            "_model_module": "@jupyter-widgets/controls",
            "_model_module_version": "1.5.0",
            "_model_name": "ProgressStyleModel",
            "_view_count": null,
            "_view_module": "@jupyter-widgets/base",
            "_view_module_version": "1.2.0",
            "_view_name": "StyleView",
            "bar_color": null,
            "description_width": ""
          }
        },
        "e6b8c9afe5e946c382bbbf0dac0b03f4": {
          "model_module": "@jupyter-widgets/base",
          "model_name": "LayoutModel",
          "model_module_version": "1.2.0",
          "state": {
            "_model_module": "@jupyter-widgets/base",
            "_model_module_version": "1.2.0",
            "_model_name": "LayoutModel",
            "_view_count": null,
            "_view_module": "@jupyter-widgets/base",
            "_view_module_version": "1.2.0",
            "_view_name": "LayoutView",
            "align_content": null,
            "align_items": null,
            "align_self": null,
            "border": null,
            "bottom": null,
            "display": null,
            "flex": null,
            "flex_flow": null,
            "grid_area": null,
            "grid_auto_columns": null,
            "grid_auto_flow": null,
            "grid_auto_rows": null,
            "grid_column": null,
            "grid_gap": null,
            "grid_row": null,
            "grid_template_areas": null,
            "grid_template_columns": null,
            "grid_template_rows": null,
            "height": null,
            "justify_content": null,
            "justify_items": null,
            "left": null,
            "margin": null,
            "max_height": null,
            "max_width": null,
            "min_height": null,
            "min_width": null,
            "object_fit": null,
            "object_position": null,
            "order": null,
            "overflow": null,
            "overflow_x": null,
            "overflow_y": null,
            "padding": null,
            "right": null,
            "top": null,
            "visibility": null,
            "width": null
          }
        },
        "37a4c7933f1143e7a5e4d25f1afebffd": {
          "model_module": "@jupyter-widgets/controls",
          "model_name": "DescriptionStyleModel",
          "model_module_version": "1.5.0",
          "state": {
            "_model_module": "@jupyter-widgets/controls",
            "_model_module_version": "1.5.0",
            "_model_name": "DescriptionStyleModel",
            "_view_count": null,
            "_view_module": "@jupyter-widgets/base",
            "_view_module_version": "1.2.0",
            "_view_name": "StyleView",
            "description_width": ""
          }
        },
        "b6360083b5ed4b83a08db2c2f112b51c": {
          "model_module": "@jupyter-widgets/controls",
          "model_name": "HBoxModel",
          "model_module_version": "1.5.0",
          "state": {
            "_dom_classes": [],
            "_model_module": "@jupyter-widgets/controls",
            "_model_module_version": "1.5.0",
            "_model_name": "HBoxModel",
            "_view_count": null,
            "_view_module": "@jupyter-widgets/controls",
            "_view_module_version": "1.5.0",
            "_view_name": "HBoxView",
            "box_style": "",
            "children": [
              "IPY_MODEL_0071f6fc3a4c487c83afa41bc03086ab",
              "IPY_MODEL_3cfc04a134084f1ab3f677ff773a9521",
              "IPY_MODEL_4e9e4ab33cfb431ca0c5e680881f1cc0"
            ],
            "layout": "IPY_MODEL_8fc2ea50964e420cb435c61a0ae5d101"
          }
        },
        "0071f6fc3a4c487c83afa41bc03086ab": {
          "model_module": "@jupyter-widgets/controls",
          "model_name": "HTMLModel",
          "model_module_version": "1.5.0",
          "state": {
            "_dom_classes": [],
            "_model_module": "@jupyter-widgets/controls",
            "_model_module_version": "1.5.0",
            "_model_name": "HTMLModel",
            "_view_count": null,
            "_view_module": "@jupyter-widgets/controls",
            "_view_module_version": "1.5.0",
            "_view_name": "HTMLView",
            "description": "",
            "description_tooltip": null,
            "layout": "IPY_MODEL_5e3a4da641f14cc9a02975b822e0c68a",
            "placeholder": "​",
            "style": "IPY_MODEL_69e179b6dce94796bfcb78e287124648",
            "value": "Generating test_matched split:  91%"
          }
        },
        "3cfc04a134084f1ab3f677ff773a9521": {
          "model_module": "@jupyter-widgets/controls",
          "model_name": "FloatProgressModel",
          "model_module_version": "1.5.0",
          "state": {
            "_dom_classes": [],
            "_model_module": "@jupyter-widgets/controls",
            "_model_module_version": "1.5.0",
            "_model_name": "FloatProgressModel",
            "_view_count": null,
            "_view_module": "@jupyter-widgets/controls",
            "_view_module_version": "1.5.0",
            "_view_name": "ProgressView",
            "bar_style": "",
            "description": "",
            "description_tooltip": null,
            "layout": "IPY_MODEL_501ee576957940a791e427f8ec85721d",
            "max": 9796,
            "min": 0,
            "orientation": "horizontal",
            "style": "IPY_MODEL_0e7e64b479b54300ad89a88637e58e45",
            "value": 9796
          }
        },
        "4e9e4ab33cfb431ca0c5e680881f1cc0": {
          "model_module": "@jupyter-widgets/controls",
          "model_name": "HTMLModel",
          "model_module_version": "1.5.0",
          "state": {
            "_dom_classes": [],
            "_model_module": "@jupyter-widgets/controls",
            "_model_module_version": "1.5.0",
            "_model_name": "HTMLModel",
            "_view_count": null,
            "_view_module": "@jupyter-widgets/controls",
            "_view_module_version": "1.5.0",
            "_view_name": "HTMLView",
            "description": "",
            "description_tooltip": null,
            "layout": "IPY_MODEL_4db930fc0de044eabe6b4b6bdb05c364",
            "placeholder": "​",
            "style": "IPY_MODEL_e00524c886a24ec68b6aaf7c0d8c8748",
            "value": " 8876/9796 [00:00&lt;00:00, 15442.03 examples/s]"
          }
        },
        "8fc2ea50964e420cb435c61a0ae5d101": {
          "model_module": "@jupyter-widgets/base",
          "model_name": "LayoutModel",
          "model_module_version": "1.2.0",
          "state": {
            "_model_module": "@jupyter-widgets/base",
            "_model_module_version": "1.2.0",
            "_model_name": "LayoutModel",
            "_view_count": null,
            "_view_module": "@jupyter-widgets/base",
            "_view_module_version": "1.2.0",
            "_view_name": "LayoutView",
            "align_content": null,
            "align_items": null,
            "align_self": null,
            "border": null,
            "bottom": null,
            "display": null,
            "flex": null,
            "flex_flow": null,
            "grid_area": null,
            "grid_auto_columns": null,
            "grid_auto_flow": null,
            "grid_auto_rows": null,
            "grid_column": null,
            "grid_gap": null,
            "grid_row": null,
            "grid_template_areas": null,
            "grid_template_columns": null,
            "grid_template_rows": null,
            "height": null,
            "justify_content": null,
            "justify_items": null,
            "left": null,
            "margin": null,
            "max_height": null,
            "max_width": null,
            "min_height": null,
            "min_width": null,
            "object_fit": null,
            "object_position": null,
            "order": null,
            "overflow": null,
            "overflow_x": null,
            "overflow_y": null,
            "padding": null,
            "right": null,
            "top": null,
            "visibility": null,
            "width": null
          }
        },
        "5e3a4da641f14cc9a02975b822e0c68a": {
          "model_module": "@jupyter-widgets/base",
          "model_name": "LayoutModel",
          "model_module_version": "1.2.0",
          "state": {
            "_model_module": "@jupyter-widgets/base",
            "_model_module_version": "1.2.0",
            "_model_name": "LayoutModel",
            "_view_count": null,
            "_view_module": "@jupyter-widgets/base",
            "_view_module_version": "1.2.0",
            "_view_name": "LayoutView",
            "align_content": null,
            "align_items": null,
            "align_self": null,
            "border": null,
            "bottom": null,
            "display": null,
            "flex": null,
            "flex_flow": null,
            "grid_area": null,
            "grid_auto_columns": null,
            "grid_auto_flow": null,
            "grid_auto_rows": null,
            "grid_column": null,
            "grid_gap": null,
            "grid_row": null,
            "grid_template_areas": null,
            "grid_template_columns": null,
            "grid_template_rows": null,
            "height": null,
            "justify_content": null,
            "justify_items": null,
            "left": null,
            "margin": null,
            "max_height": null,
            "max_width": null,
            "min_height": null,
            "min_width": null,
            "object_fit": null,
            "object_position": null,
            "order": null,
            "overflow": null,
            "overflow_x": null,
            "overflow_y": null,
            "padding": null,
            "right": null,
            "top": null,
            "visibility": null,
            "width": null
          }
        },
        "69e179b6dce94796bfcb78e287124648": {
          "model_module": "@jupyter-widgets/controls",
          "model_name": "DescriptionStyleModel",
          "model_module_version": "1.5.0",
          "state": {
            "_model_module": "@jupyter-widgets/controls",
            "_model_module_version": "1.5.0",
            "_model_name": "DescriptionStyleModel",
            "_view_count": null,
            "_view_module": "@jupyter-widgets/base",
            "_view_module_version": "1.2.0",
            "_view_name": "StyleView",
            "description_width": ""
          }
        },
        "501ee576957940a791e427f8ec85721d": {
          "model_module": "@jupyter-widgets/base",
          "model_name": "LayoutModel",
          "model_module_version": "1.2.0",
          "state": {
            "_model_module": "@jupyter-widgets/base",
            "_model_module_version": "1.2.0",
            "_model_name": "LayoutModel",
            "_view_count": null,
            "_view_module": "@jupyter-widgets/base",
            "_view_module_version": "1.2.0",
            "_view_name": "LayoutView",
            "align_content": null,
            "align_items": null,
            "align_self": null,
            "border": null,
            "bottom": null,
            "display": null,
            "flex": null,
            "flex_flow": null,
            "grid_area": null,
            "grid_auto_columns": null,
            "grid_auto_flow": null,
            "grid_auto_rows": null,
            "grid_column": null,
            "grid_gap": null,
            "grid_row": null,
            "grid_template_areas": null,
            "grid_template_columns": null,
            "grid_template_rows": null,
            "height": null,
            "justify_content": null,
            "justify_items": null,
            "left": null,
            "margin": null,
            "max_height": null,
            "max_width": null,
            "min_height": null,
            "min_width": null,
            "object_fit": null,
            "object_position": null,
            "order": null,
            "overflow": null,
            "overflow_x": null,
            "overflow_y": null,
            "padding": null,
            "right": null,
            "top": null,
            "visibility": null,
            "width": null
          }
        },
        "0e7e64b479b54300ad89a88637e58e45": {
          "model_module": "@jupyter-widgets/controls",
          "model_name": "ProgressStyleModel",
          "model_module_version": "1.5.0",
          "state": {
            "_model_module": "@jupyter-widgets/controls",
            "_model_module_version": "1.5.0",
            "_model_name": "ProgressStyleModel",
            "_view_count": null,
            "_view_module": "@jupyter-widgets/base",
            "_view_module_version": "1.2.0",
            "_view_name": "StyleView",
            "bar_color": null,
            "description_width": ""
          }
        },
        "4db930fc0de044eabe6b4b6bdb05c364": {
          "model_module": "@jupyter-widgets/base",
          "model_name": "LayoutModel",
          "model_module_version": "1.2.0",
          "state": {
            "_model_module": "@jupyter-widgets/base",
            "_model_module_version": "1.2.0",
            "_model_name": "LayoutModel",
            "_view_count": null,
            "_view_module": "@jupyter-widgets/base",
            "_view_module_version": "1.2.0",
            "_view_name": "LayoutView",
            "align_content": null,
            "align_items": null,
            "align_self": null,
            "border": null,
            "bottom": null,
            "display": null,
            "flex": null,
            "flex_flow": null,
            "grid_area": null,
            "grid_auto_columns": null,
            "grid_auto_flow": null,
            "grid_auto_rows": null,
            "grid_column": null,
            "grid_gap": null,
            "grid_row": null,
            "grid_template_areas": null,
            "grid_template_columns": null,
            "grid_template_rows": null,
            "height": null,
            "justify_content": null,
            "justify_items": null,
            "left": null,
            "margin": null,
            "max_height": null,
            "max_width": null,
            "min_height": null,
            "min_width": null,
            "object_fit": null,
            "object_position": null,
            "order": null,
            "overflow": null,
            "overflow_x": null,
            "overflow_y": null,
            "padding": null,
            "right": null,
            "top": null,
            "visibility": null,
            "width": null
          }
        },
        "e00524c886a24ec68b6aaf7c0d8c8748": {
          "model_module": "@jupyter-widgets/controls",
          "model_name": "DescriptionStyleModel",
          "model_module_version": "1.5.0",
          "state": {
            "_model_module": "@jupyter-widgets/controls",
            "_model_module_version": "1.5.0",
            "_model_name": "DescriptionStyleModel",
            "_view_count": null,
            "_view_module": "@jupyter-widgets/base",
            "_view_module_version": "1.2.0",
            "_view_name": "StyleView",
            "description_width": ""
          }
        },
        "4a4e850268424cfb8728c51f233a2127": {
          "model_module": "@jupyter-widgets/controls",
          "model_name": "HBoxModel",
          "model_module_version": "1.5.0",
          "state": {
            "_dom_classes": [],
            "_model_module": "@jupyter-widgets/controls",
            "_model_module_version": "1.5.0",
            "_model_name": "HBoxModel",
            "_view_count": null,
            "_view_module": "@jupyter-widgets/controls",
            "_view_module_version": "1.5.0",
            "_view_name": "HBoxView",
            "box_style": "",
            "children": [
              "IPY_MODEL_ad0b5ea8908a488f98a1f11653713764",
              "IPY_MODEL_c04c2cd7edae4aaaa49422851d562d01",
              "IPY_MODEL_93a4dcafeb2b4af18ac64fc038481b9a"
            ],
            "layout": "IPY_MODEL_5e55a207de0e479899c8014af7dc1172"
          }
        },
        "ad0b5ea8908a488f98a1f11653713764": {
          "model_module": "@jupyter-widgets/controls",
          "model_name": "HTMLModel",
          "model_module_version": "1.5.0",
          "state": {
            "_dom_classes": [],
            "_model_module": "@jupyter-widgets/controls",
            "_model_module_version": "1.5.0",
            "_model_name": "HTMLModel",
            "_view_count": null,
            "_view_module": "@jupyter-widgets/controls",
            "_view_module_version": "1.5.0",
            "_view_name": "HTMLView",
            "description": "",
            "description_tooltip": null,
            "layout": "IPY_MODEL_a90c10c13b684d8691fb5a29dadad05f",
            "placeholder": "​",
            "style": "IPY_MODEL_a91bb712629448179c6c5dab935017ec",
            "value": "Generating test_mismatched split:  89%"
          }
        },
        "c04c2cd7edae4aaaa49422851d562d01": {
          "model_module": "@jupyter-widgets/controls",
          "model_name": "FloatProgressModel",
          "model_module_version": "1.5.0",
          "state": {
            "_dom_classes": [],
            "_model_module": "@jupyter-widgets/controls",
            "_model_module_version": "1.5.0",
            "_model_name": "FloatProgressModel",
            "_view_count": null,
            "_view_module": "@jupyter-widgets/controls",
            "_view_module_version": "1.5.0",
            "_view_name": "ProgressView",
            "bar_style": "",
            "description": "",
            "description_tooltip": null,
            "layout": "IPY_MODEL_08e5f8d340fd4c4ea4b21354560e82f2",
            "max": 9847,
            "min": 0,
            "orientation": "horizontal",
            "style": "IPY_MODEL_6cca7a9d118a4bbd98a0595e8556e68c",
            "value": 9847
          }
        },
        "93a4dcafeb2b4af18ac64fc038481b9a": {
          "model_module": "@jupyter-widgets/controls",
          "model_name": "HTMLModel",
          "model_module_version": "1.5.0",
          "state": {
            "_dom_classes": [],
            "_model_module": "@jupyter-widgets/controls",
            "_model_module_version": "1.5.0",
            "_model_name": "HTMLModel",
            "_view_count": null,
            "_view_module": "@jupyter-widgets/controls",
            "_view_module_version": "1.5.0",
            "_view_name": "HTMLView",
            "description": "",
            "description_tooltip": null,
            "layout": "IPY_MODEL_3c21d373177e493c93699ef4abe3f3ee",
            "placeholder": "​",
            "style": "IPY_MODEL_8e11b81215404c2a82aed366e7e29713",
            "value": " 8798/9847 [00:00&lt;00:00, 15329.64 examples/s]"
          }
        },
        "5e55a207de0e479899c8014af7dc1172": {
          "model_module": "@jupyter-widgets/base",
          "model_name": "LayoutModel",
          "model_module_version": "1.2.0",
          "state": {
            "_model_module": "@jupyter-widgets/base",
            "_model_module_version": "1.2.0",
            "_model_name": "LayoutModel",
            "_view_count": null,
            "_view_module": "@jupyter-widgets/base",
            "_view_module_version": "1.2.0",
            "_view_name": "LayoutView",
            "align_content": null,
            "align_items": null,
            "align_self": null,
            "border": null,
            "bottom": null,
            "display": null,
            "flex": null,
            "flex_flow": null,
            "grid_area": null,
            "grid_auto_columns": null,
            "grid_auto_flow": null,
            "grid_auto_rows": null,
            "grid_column": null,
            "grid_gap": null,
            "grid_row": null,
            "grid_template_areas": null,
            "grid_template_columns": null,
            "grid_template_rows": null,
            "height": null,
            "justify_content": null,
            "justify_items": null,
            "left": null,
            "margin": null,
            "max_height": null,
            "max_width": null,
            "min_height": null,
            "min_width": null,
            "object_fit": null,
            "object_position": null,
            "order": null,
            "overflow": null,
            "overflow_x": null,
            "overflow_y": null,
            "padding": null,
            "right": null,
            "top": null,
            "visibility": null,
            "width": null
          }
        },
        "a90c10c13b684d8691fb5a29dadad05f": {
          "model_module": "@jupyter-widgets/base",
          "model_name": "LayoutModel",
          "model_module_version": "1.2.0",
          "state": {
            "_model_module": "@jupyter-widgets/base",
            "_model_module_version": "1.2.0",
            "_model_name": "LayoutModel",
            "_view_count": null,
            "_view_module": "@jupyter-widgets/base",
            "_view_module_version": "1.2.0",
            "_view_name": "LayoutView",
            "align_content": null,
            "align_items": null,
            "align_self": null,
            "border": null,
            "bottom": null,
            "display": null,
            "flex": null,
            "flex_flow": null,
            "grid_area": null,
            "grid_auto_columns": null,
            "grid_auto_flow": null,
            "grid_auto_rows": null,
            "grid_column": null,
            "grid_gap": null,
            "grid_row": null,
            "grid_template_areas": null,
            "grid_template_columns": null,
            "grid_template_rows": null,
            "height": null,
            "justify_content": null,
            "justify_items": null,
            "left": null,
            "margin": null,
            "max_height": null,
            "max_width": null,
            "min_height": null,
            "min_width": null,
            "object_fit": null,
            "object_position": null,
            "order": null,
            "overflow": null,
            "overflow_x": null,
            "overflow_y": null,
            "padding": null,
            "right": null,
            "top": null,
            "visibility": null,
            "width": null
          }
        },
        "a91bb712629448179c6c5dab935017ec": {
          "model_module": "@jupyter-widgets/controls",
          "model_name": "DescriptionStyleModel",
          "model_module_version": "1.5.0",
          "state": {
            "_model_module": "@jupyter-widgets/controls",
            "_model_module_version": "1.5.0",
            "_model_name": "DescriptionStyleModel",
            "_view_count": null,
            "_view_module": "@jupyter-widgets/base",
            "_view_module_version": "1.2.0",
            "_view_name": "StyleView",
            "description_width": ""
          }
        },
        "08e5f8d340fd4c4ea4b21354560e82f2": {
          "model_module": "@jupyter-widgets/base",
          "model_name": "LayoutModel",
          "model_module_version": "1.2.0",
          "state": {
            "_model_module": "@jupyter-widgets/base",
            "_model_module_version": "1.2.0",
            "_model_name": "LayoutModel",
            "_view_count": null,
            "_view_module": "@jupyter-widgets/base",
            "_view_module_version": "1.2.0",
            "_view_name": "LayoutView",
            "align_content": null,
            "align_items": null,
            "align_self": null,
            "border": null,
            "bottom": null,
            "display": null,
            "flex": null,
            "flex_flow": null,
            "grid_area": null,
            "grid_auto_columns": null,
            "grid_auto_flow": null,
            "grid_auto_rows": null,
            "grid_column": null,
            "grid_gap": null,
            "grid_row": null,
            "grid_template_areas": null,
            "grid_template_columns": null,
            "grid_template_rows": null,
            "height": null,
            "justify_content": null,
            "justify_items": null,
            "left": null,
            "margin": null,
            "max_height": null,
            "max_width": null,
            "min_height": null,
            "min_width": null,
            "object_fit": null,
            "object_position": null,
            "order": null,
            "overflow": null,
            "overflow_x": null,
            "overflow_y": null,
            "padding": null,
            "right": null,
            "top": null,
            "visibility": null,
            "width": null
          }
        },
        "6cca7a9d118a4bbd98a0595e8556e68c": {
          "model_module": "@jupyter-widgets/controls",
          "model_name": "ProgressStyleModel",
          "model_module_version": "1.5.0",
          "state": {
            "_model_module": "@jupyter-widgets/controls",
            "_model_module_version": "1.5.0",
            "_model_name": "ProgressStyleModel",
            "_view_count": null,
            "_view_module": "@jupyter-widgets/base",
            "_view_module_version": "1.2.0",
            "_view_name": "StyleView",
            "bar_color": null,
            "description_width": ""
          }
        },
        "3c21d373177e493c93699ef4abe3f3ee": {
          "model_module": "@jupyter-widgets/base",
          "model_name": "LayoutModel",
          "model_module_version": "1.2.0",
          "state": {
            "_model_module": "@jupyter-widgets/base",
            "_model_module_version": "1.2.0",
            "_model_name": "LayoutModel",
            "_view_count": null,
            "_view_module": "@jupyter-widgets/base",
            "_view_module_version": "1.2.0",
            "_view_name": "LayoutView",
            "align_content": null,
            "align_items": null,
            "align_self": null,
            "border": null,
            "bottom": null,
            "display": null,
            "flex": null,
            "flex_flow": null,
            "grid_area": null,
            "grid_auto_columns": null,
            "grid_auto_flow": null,
            "grid_auto_rows": null,
            "grid_column": null,
            "grid_gap": null,
            "grid_row": null,
            "grid_template_areas": null,
            "grid_template_columns": null,
            "grid_template_rows": null,
            "height": null,
            "justify_content": null,
            "justify_items": null,
            "left": null,
            "margin": null,
            "max_height": null,
            "max_width": null,
            "min_height": null,
            "min_width": null,
            "object_fit": null,
            "object_position": null,
            "order": null,
            "overflow": null,
            "overflow_x": null,
            "overflow_y": null,
            "padding": null,
            "right": null,
            "top": null,
            "visibility": null,
            "width": null
          }
        },
        "8e11b81215404c2a82aed366e7e29713": {
          "model_module": "@jupyter-widgets/controls",
          "model_name": "DescriptionStyleModel",
          "model_module_version": "1.5.0",
          "state": {
            "_model_module": "@jupyter-widgets/controls",
            "_model_module_version": "1.5.0",
            "_model_name": "DescriptionStyleModel",
            "_view_count": null,
            "_view_module": "@jupyter-widgets/base",
            "_view_module_version": "1.2.0",
            "_view_name": "StyleView",
            "description_width": ""
          }
        },
        "26783762c2e24323b7ea4a5da01fafdf": {
          "model_module": "@jupyter-widgets/controls",
          "model_name": "HBoxModel",
          "model_module_version": "1.5.0",
          "state": {
            "_dom_classes": [],
            "_model_module": "@jupyter-widgets/controls",
            "_model_module_version": "1.5.0",
            "_model_name": "HBoxModel",
            "_view_count": null,
            "_view_module": "@jupyter-widgets/controls",
            "_view_module_version": "1.5.0",
            "_view_name": "HBoxView",
            "box_style": "",
            "children": [
              "IPY_MODEL_69913ce01ea6411aa60c4d45f835228d",
              "IPY_MODEL_e5ce418c1c824b8082e78a2b6d2e8346",
              "IPY_MODEL_5831f5e1df0d4861aee9bcf73788c51f"
            ],
            "layout": "IPY_MODEL_488ff6171c1345ca921b8dea8fb6f9fa"
          }
        },
        "69913ce01ea6411aa60c4d45f835228d": {
          "model_module": "@jupyter-widgets/controls",
          "model_name": "HTMLModel",
          "model_module_version": "1.5.0",
          "state": {
            "_dom_classes": [],
            "_model_module": "@jupyter-widgets/controls",
            "_model_module_version": "1.5.0",
            "_model_name": "HTMLModel",
            "_view_count": null,
            "_view_module": "@jupyter-widgets/controls",
            "_view_module_version": "1.5.0",
            "_view_name": "HTMLView",
            "description": "",
            "description_tooltip": null,
            "layout": "IPY_MODEL_aecb1a55552646a89cc2a3ab1a4edd3e",
            "placeholder": "​",
            "style": "IPY_MODEL_2ab068d83812490fa31cd096b58750a6",
            "value": "100%"
          }
        },
        "e5ce418c1c824b8082e78a2b6d2e8346": {
          "model_module": "@jupyter-widgets/controls",
          "model_name": "FloatProgressModel",
          "model_module_version": "1.5.0",
          "state": {
            "_dom_classes": [],
            "_model_module": "@jupyter-widgets/controls",
            "_model_module_version": "1.5.0",
            "_model_name": "FloatProgressModel",
            "_view_count": null,
            "_view_module": "@jupyter-widgets/controls",
            "_view_module_version": "1.5.0",
            "_view_name": "ProgressView",
            "bar_style": "success",
            "description": "",
            "description_tooltip": null,
            "layout": "IPY_MODEL_b98dbe729ca941438f346fcf08a00186",
            "max": 5,
            "min": 0,
            "orientation": "horizontal",
            "style": "IPY_MODEL_e9b3da45def4428facfef2606cd945ba",
            "value": 5
          }
        },
        "5831f5e1df0d4861aee9bcf73788c51f": {
          "model_module": "@jupyter-widgets/controls",
          "model_name": "HTMLModel",
          "model_module_version": "1.5.0",
          "state": {
            "_dom_classes": [],
            "_model_module": "@jupyter-widgets/controls",
            "_model_module_version": "1.5.0",
            "_model_name": "HTMLModel",
            "_view_count": null,
            "_view_module": "@jupyter-widgets/controls",
            "_view_module_version": "1.5.0",
            "_view_name": "HTMLView",
            "description": "",
            "description_tooltip": null,
            "layout": "IPY_MODEL_c2457836d5b94cecb9c49b3adb076fff",
            "placeholder": "​",
            "style": "IPY_MODEL_a01fa8486d5541debb71322e64a7fe78",
            "value": " 5/5 [00:00&lt;00:00, 61.57it/s]"
          }
        },
        "488ff6171c1345ca921b8dea8fb6f9fa": {
          "model_module": "@jupyter-widgets/base",
          "model_name": "LayoutModel",
          "model_module_version": "1.2.0",
          "state": {
            "_model_module": "@jupyter-widgets/base",
            "_model_module_version": "1.2.0",
            "_model_name": "LayoutModel",
            "_view_count": null,
            "_view_module": "@jupyter-widgets/base",
            "_view_module_version": "1.2.0",
            "_view_name": "LayoutView",
            "align_content": null,
            "align_items": null,
            "align_self": null,
            "border": null,
            "bottom": null,
            "display": null,
            "flex": null,
            "flex_flow": null,
            "grid_area": null,
            "grid_auto_columns": null,
            "grid_auto_flow": null,
            "grid_auto_rows": null,
            "grid_column": null,
            "grid_gap": null,
            "grid_row": null,
            "grid_template_areas": null,
            "grid_template_columns": null,
            "grid_template_rows": null,
            "height": null,
            "justify_content": null,
            "justify_items": null,
            "left": null,
            "margin": null,
            "max_height": null,
            "max_width": null,
            "min_height": null,
            "min_width": null,
            "object_fit": null,
            "object_position": null,
            "order": null,
            "overflow": null,
            "overflow_x": null,
            "overflow_y": null,
            "padding": null,
            "right": null,
            "top": null,
            "visibility": null,
            "width": null
          }
        },
        "aecb1a55552646a89cc2a3ab1a4edd3e": {
          "model_module": "@jupyter-widgets/base",
          "model_name": "LayoutModel",
          "model_module_version": "1.2.0",
          "state": {
            "_model_module": "@jupyter-widgets/base",
            "_model_module_version": "1.2.0",
            "_model_name": "LayoutModel",
            "_view_count": null,
            "_view_module": "@jupyter-widgets/base",
            "_view_module_version": "1.2.0",
            "_view_name": "LayoutView",
            "align_content": null,
            "align_items": null,
            "align_self": null,
            "border": null,
            "bottom": null,
            "display": null,
            "flex": null,
            "flex_flow": null,
            "grid_area": null,
            "grid_auto_columns": null,
            "grid_auto_flow": null,
            "grid_auto_rows": null,
            "grid_column": null,
            "grid_gap": null,
            "grid_row": null,
            "grid_template_areas": null,
            "grid_template_columns": null,
            "grid_template_rows": null,
            "height": null,
            "justify_content": null,
            "justify_items": null,
            "left": null,
            "margin": null,
            "max_height": null,
            "max_width": null,
            "min_height": null,
            "min_width": null,
            "object_fit": null,
            "object_position": null,
            "order": null,
            "overflow": null,
            "overflow_x": null,
            "overflow_y": null,
            "padding": null,
            "right": null,
            "top": null,
            "visibility": null,
            "width": null
          }
        },
        "2ab068d83812490fa31cd096b58750a6": {
          "model_module": "@jupyter-widgets/controls",
          "model_name": "DescriptionStyleModel",
          "model_module_version": "1.5.0",
          "state": {
            "_model_module": "@jupyter-widgets/controls",
            "_model_module_version": "1.5.0",
            "_model_name": "DescriptionStyleModel",
            "_view_count": null,
            "_view_module": "@jupyter-widgets/base",
            "_view_module_version": "1.2.0",
            "_view_name": "StyleView",
            "description_width": ""
          }
        },
        "b98dbe729ca941438f346fcf08a00186": {
          "model_module": "@jupyter-widgets/base",
          "model_name": "LayoutModel",
          "model_module_version": "1.2.0",
          "state": {
            "_model_module": "@jupyter-widgets/base",
            "_model_module_version": "1.2.0",
            "_model_name": "LayoutModel",
            "_view_count": null,
            "_view_module": "@jupyter-widgets/base",
            "_view_module_version": "1.2.0",
            "_view_name": "LayoutView",
            "align_content": null,
            "align_items": null,
            "align_self": null,
            "border": null,
            "bottom": null,
            "display": null,
            "flex": null,
            "flex_flow": null,
            "grid_area": null,
            "grid_auto_columns": null,
            "grid_auto_flow": null,
            "grid_auto_rows": null,
            "grid_column": null,
            "grid_gap": null,
            "grid_row": null,
            "grid_template_areas": null,
            "grid_template_columns": null,
            "grid_template_rows": null,
            "height": null,
            "justify_content": null,
            "justify_items": null,
            "left": null,
            "margin": null,
            "max_height": null,
            "max_width": null,
            "min_height": null,
            "min_width": null,
            "object_fit": null,
            "object_position": null,
            "order": null,
            "overflow": null,
            "overflow_x": null,
            "overflow_y": null,
            "padding": null,
            "right": null,
            "top": null,
            "visibility": null,
            "width": null
          }
        },
        "e9b3da45def4428facfef2606cd945ba": {
          "model_module": "@jupyter-widgets/controls",
          "model_name": "ProgressStyleModel",
          "model_module_version": "1.5.0",
          "state": {
            "_model_module": "@jupyter-widgets/controls",
            "_model_module_version": "1.5.0",
            "_model_name": "ProgressStyleModel",
            "_view_count": null,
            "_view_module": "@jupyter-widgets/base",
            "_view_module_version": "1.2.0",
            "_view_name": "StyleView",
            "bar_color": null,
            "description_width": ""
          }
        },
        "c2457836d5b94cecb9c49b3adb076fff": {
          "model_module": "@jupyter-widgets/base",
          "model_name": "LayoutModel",
          "model_module_version": "1.2.0",
          "state": {
            "_model_module": "@jupyter-widgets/base",
            "_model_module_version": "1.2.0",
            "_model_name": "LayoutModel",
            "_view_count": null,
            "_view_module": "@jupyter-widgets/base",
            "_view_module_version": "1.2.0",
            "_view_name": "LayoutView",
            "align_content": null,
            "align_items": null,
            "align_self": null,
            "border": null,
            "bottom": null,
            "display": null,
            "flex": null,
            "flex_flow": null,
            "grid_area": null,
            "grid_auto_columns": null,
            "grid_auto_flow": null,
            "grid_auto_rows": null,
            "grid_column": null,
            "grid_gap": null,
            "grid_row": null,
            "grid_template_areas": null,
            "grid_template_columns": null,
            "grid_template_rows": null,
            "height": null,
            "justify_content": null,
            "justify_items": null,
            "left": null,
            "margin": null,
            "max_height": null,
            "max_width": null,
            "min_height": null,
            "min_width": null,
            "object_fit": null,
            "object_position": null,
            "order": null,
            "overflow": null,
            "overflow_x": null,
            "overflow_y": null,
            "padding": null,
            "right": null,
            "top": null,
            "visibility": null,
            "width": null
          }
        },
        "a01fa8486d5541debb71322e64a7fe78": {
          "model_module": "@jupyter-widgets/controls",
          "model_name": "DescriptionStyleModel",
          "model_module_version": "1.5.0",
          "state": {
            "_model_module": "@jupyter-widgets/controls",
            "_model_module_version": "1.5.0",
            "_model_name": "DescriptionStyleModel",
            "_view_count": null,
            "_view_module": "@jupyter-widgets/base",
            "_view_module_version": "1.2.0",
            "_view_name": "StyleView",
            "description_width": ""
          }
        },
        "ca7fbc637076404b98e0536e7396b9b9": {
          "model_module": "@jupyter-widgets/controls",
          "model_name": "HBoxModel",
          "model_module_version": "1.5.0",
          "state": {
            "_dom_classes": [],
            "_model_module": "@jupyter-widgets/controls",
            "_model_module_version": "1.5.0",
            "_model_name": "HBoxModel",
            "_view_count": null,
            "_view_module": "@jupyter-widgets/controls",
            "_view_module_version": "1.5.0",
            "_view_name": "HBoxView",
            "box_style": "",
            "children": [
              "IPY_MODEL_9171132de21545bb9ab94e4ae00285f4",
              "IPY_MODEL_d7ce8b0a5d494cc69af2254ce100c389",
              "IPY_MODEL_90d9bcc60a494052a3a070909a65f3cb"
            ],
            "layout": "IPY_MODEL_171b74a7250445d6ac31f78a41aedea4"
          }
        },
        "9171132de21545bb9ab94e4ae00285f4": {
          "model_module": "@jupyter-widgets/controls",
          "model_name": "HTMLModel",
          "model_module_version": "1.5.0",
          "state": {
            "_dom_classes": [],
            "_model_module": "@jupyter-widgets/controls",
            "_model_module_version": "1.5.0",
            "_model_name": "HTMLModel",
            "_view_count": null,
            "_view_module": "@jupyter-widgets/controls",
            "_view_module_version": "1.5.0",
            "_view_name": "HTMLView",
            "description": "",
            "description_tooltip": null,
            "layout": "IPY_MODEL_4c2ba43a08724c76b1c1b9b4bf98180d",
            "placeholder": "​",
            "style": "IPY_MODEL_4f0e7462e38c46b784927231cd453220",
            "value": "Downloading tokenizer_config.json: 100%"
          }
        },
        "d7ce8b0a5d494cc69af2254ce100c389": {
          "model_module": "@jupyter-widgets/controls",
          "model_name": "FloatProgressModel",
          "model_module_version": "1.5.0",
          "state": {
            "_dom_classes": [],
            "_model_module": "@jupyter-widgets/controls",
            "_model_module_version": "1.5.0",
            "_model_name": "FloatProgressModel",
            "_view_count": null,
            "_view_module": "@jupyter-widgets/controls",
            "_view_module_version": "1.5.0",
            "_view_name": "ProgressView",
            "bar_style": "success",
            "description": "",
            "description_tooltip": null,
            "layout": "IPY_MODEL_8a0ba6712e9f4837b200d4c1a195f1c1",
            "max": 27,
            "min": 0,
            "orientation": "horizontal",
            "style": "IPY_MODEL_da77e7524b0e4c24a952cd81c9a8ebff",
            "value": 27
          }
        },
        "90d9bcc60a494052a3a070909a65f3cb": {
          "model_module": "@jupyter-widgets/controls",
          "model_name": "HTMLModel",
          "model_module_version": "1.5.0",
          "state": {
            "_dom_classes": [],
            "_model_module": "@jupyter-widgets/controls",
            "_model_module_version": "1.5.0",
            "_model_name": "HTMLModel",
            "_view_count": null,
            "_view_module": "@jupyter-widgets/controls",
            "_view_module_version": "1.5.0",
            "_view_name": "HTMLView",
            "description": "",
            "description_tooltip": null,
            "layout": "IPY_MODEL_f450a978b40d4e5d939960a1eca9c9fc",
            "placeholder": "​",
            "style": "IPY_MODEL_a89ad1d4a99b46e888ef4cc73d880b73",
            "value": " 27.0/27.0 [00:00&lt;00:00, 1.09kB/s]"
          }
        },
        "171b74a7250445d6ac31f78a41aedea4": {
          "model_module": "@jupyter-widgets/base",
          "model_name": "LayoutModel",
          "model_module_version": "1.2.0",
          "state": {
            "_model_module": "@jupyter-widgets/base",
            "_model_module_version": "1.2.0",
            "_model_name": "LayoutModel",
            "_view_count": null,
            "_view_module": "@jupyter-widgets/base",
            "_view_module_version": "1.2.0",
            "_view_name": "LayoutView",
            "align_content": null,
            "align_items": null,
            "align_self": null,
            "border": null,
            "bottom": null,
            "display": null,
            "flex": null,
            "flex_flow": null,
            "grid_area": null,
            "grid_auto_columns": null,
            "grid_auto_flow": null,
            "grid_auto_rows": null,
            "grid_column": null,
            "grid_gap": null,
            "grid_row": null,
            "grid_template_areas": null,
            "grid_template_columns": null,
            "grid_template_rows": null,
            "height": null,
            "justify_content": null,
            "justify_items": null,
            "left": null,
            "margin": null,
            "max_height": null,
            "max_width": null,
            "min_height": null,
            "min_width": null,
            "object_fit": null,
            "object_position": null,
            "order": null,
            "overflow": null,
            "overflow_x": null,
            "overflow_y": null,
            "padding": null,
            "right": null,
            "top": null,
            "visibility": null,
            "width": null
          }
        },
        "4c2ba43a08724c76b1c1b9b4bf98180d": {
          "model_module": "@jupyter-widgets/base",
          "model_name": "LayoutModel",
          "model_module_version": "1.2.0",
          "state": {
            "_model_module": "@jupyter-widgets/base",
            "_model_module_version": "1.2.0",
            "_model_name": "LayoutModel",
            "_view_count": null,
            "_view_module": "@jupyter-widgets/base",
            "_view_module_version": "1.2.0",
            "_view_name": "LayoutView",
            "align_content": null,
            "align_items": null,
            "align_self": null,
            "border": null,
            "bottom": null,
            "display": null,
            "flex": null,
            "flex_flow": null,
            "grid_area": null,
            "grid_auto_columns": null,
            "grid_auto_flow": null,
            "grid_auto_rows": null,
            "grid_column": null,
            "grid_gap": null,
            "grid_row": null,
            "grid_template_areas": null,
            "grid_template_columns": null,
            "grid_template_rows": null,
            "height": null,
            "justify_content": null,
            "justify_items": null,
            "left": null,
            "margin": null,
            "max_height": null,
            "max_width": null,
            "min_height": null,
            "min_width": null,
            "object_fit": null,
            "object_position": null,
            "order": null,
            "overflow": null,
            "overflow_x": null,
            "overflow_y": null,
            "padding": null,
            "right": null,
            "top": null,
            "visibility": null,
            "width": null
          }
        },
        "4f0e7462e38c46b784927231cd453220": {
          "model_module": "@jupyter-widgets/controls",
          "model_name": "DescriptionStyleModel",
          "model_module_version": "1.5.0",
          "state": {
            "_model_module": "@jupyter-widgets/controls",
            "_model_module_version": "1.5.0",
            "_model_name": "DescriptionStyleModel",
            "_view_count": null,
            "_view_module": "@jupyter-widgets/base",
            "_view_module_version": "1.2.0",
            "_view_name": "StyleView",
            "description_width": ""
          }
        },
        "8a0ba6712e9f4837b200d4c1a195f1c1": {
          "model_module": "@jupyter-widgets/base",
          "model_name": "LayoutModel",
          "model_module_version": "1.2.0",
          "state": {
            "_model_module": "@jupyter-widgets/base",
            "_model_module_version": "1.2.0",
            "_model_name": "LayoutModel",
            "_view_count": null,
            "_view_module": "@jupyter-widgets/base",
            "_view_module_version": "1.2.0",
            "_view_name": "LayoutView",
            "align_content": null,
            "align_items": null,
            "align_self": null,
            "border": null,
            "bottom": null,
            "display": null,
            "flex": null,
            "flex_flow": null,
            "grid_area": null,
            "grid_auto_columns": null,
            "grid_auto_flow": null,
            "grid_auto_rows": null,
            "grid_column": null,
            "grid_gap": null,
            "grid_row": null,
            "grid_template_areas": null,
            "grid_template_columns": null,
            "grid_template_rows": null,
            "height": null,
            "justify_content": null,
            "justify_items": null,
            "left": null,
            "margin": null,
            "max_height": null,
            "max_width": null,
            "min_height": null,
            "min_width": null,
            "object_fit": null,
            "object_position": null,
            "order": null,
            "overflow": null,
            "overflow_x": null,
            "overflow_y": null,
            "padding": null,
            "right": null,
            "top": null,
            "visibility": null,
            "width": null
          }
        },
        "da77e7524b0e4c24a952cd81c9a8ebff": {
          "model_module": "@jupyter-widgets/controls",
          "model_name": "ProgressStyleModel",
          "model_module_version": "1.5.0",
          "state": {
            "_model_module": "@jupyter-widgets/controls",
            "_model_module_version": "1.5.0",
            "_model_name": "ProgressStyleModel",
            "_view_count": null,
            "_view_module": "@jupyter-widgets/base",
            "_view_module_version": "1.2.0",
            "_view_name": "StyleView",
            "bar_color": null,
            "description_width": ""
          }
        },
        "f450a978b40d4e5d939960a1eca9c9fc": {
          "model_module": "@jupyter-widgets/base",
          "model_name": "LayoutModel",
          "model_module_version": "1.2.0",
          "state": {
            "_model_module": "@jupyter-widgets/base",
            "_model_module_version": "1.2.0",
            "_model_name": "LayoutModel",
            "_view_count": null,
            "_view_module": "@jupyter-widgets/base",
            "_view_module_version": "1.2.0",
            "_view_name": "LayoutView",
            "align_content": null,
            "align_items": null,
            "align_self": null,
            "border": null,
            "bottom": null,
            "display": null,
            "flex": null,
            "flex_flow": null,
            "grid_area": null,
            "grid_auto_columns": null,
            "grid_auto_flow": null,
            "grid_auto_rows": null,
            "grid_column": null,
            "grid_gap": null,
            "grid_row": null,
            "grid_template_areas": null,
            "grid_template_columns": null,
            "grid_template_rows": null,
            "height": null,
            "justify_content": null,
            "justify_items": null,
            "left": null,
            "margin": null,
            "max_height": null,
            "max_width": null,
            "min_height": null,
            "min_width": null,
            "object_fit": null,
            "object_position": null,
            "order": null,
            "overflow": null,
            "overflow_x": null,
            "overflow_y": null,
            "padding": null,
            "right": null,
            "top": null,
            "visibility": null,
            "width": null
          }
        },
        "a89ad1d4a99b46e888ef4cc73d880b73": {
          "model_module": "@jupyter-widgets/controls",
          "model_name": "DescriptionStyleModel",
          "model_module_version": "1.5.0",
          "state": {
            "_model_module": "@jupyter-widgets/controls",
            "_model_module_version": "1.5.0",
            "_model_name": "DescriptionStyleModel",
            "_view_count": null,
            "_view_module": "@jupyter-widgets/base",
            "_view_module_version": "1.2.0",
            "_view_name": "StyleView",
            "description_width": ""
          }
        },
        "fed676b1b1ce4199891af6e18ecc792b": {
          "model_module": "@jupyter-widgets/controls",
          "model_name": "HBoxModel",
          "model_module_version": "1.5.0",
          "state": {
            "_dom_classes": [],
            "_model_module": "@jupyter-widgets/controls",
            "_model_module_version": "1.5.0",
            "_model_name": "HBoxModel",
            "_view_count": null,
            "_view_module": "@jupyter-widgets/controls",
            "_view_module_version": "1.5.0",
            "_view_name": "HBoxView",
            "box_style": "",
            "children": [
              "IPY_MODEL_1d4214f328f0455aa2f6d60eca7e90b5",
              "IPY_MODEL_44b6a3f406c14c09a46d54d9fd6670d0",
              "IPY_MODEL_c671a988cf35443cabc66482a195197a"
            ],
            "layout": "IPY_MODEL_c6f40be01d3e447282a5ac011861e48b"
          }
        },
        "1d4214f328f0455aa2f6d60eca7e90b5": {
          "model_module": "@jupyter-widgets/controls",
          "model_name": "HTMLModel",
          "model_module_version": "1.5.0",
          "state": {
            "_dom_classes": [],
            "_model_module": "@jupyter-widgets/controls",
            "_model_module_version": "1.5.0",
            "_model_name": "HTMLModel",
            "_view_count": null,
            "_view_module": "@jupyter-widgets/controls",
            "_view_module_version": "1.5.0",
            "_view_name": "HTMLView",
            "description": "",
            "description_tooltip": null,
            "layout": "IPY_MODEL_398c265ed16e4b3c9292825b0c6fa230",
            "placeholder": "​",
            "style": "IPY_MODEL_976ad6b0d9e148d4b340eca60ab7dce5",
            "value": "Downloading vocab.txt: 100%"
          }
        },
        "44b6a3f406c14c09a46d54d9fd6670d0": {
          "model_module": "@jupyter-widgets/controls",
          "model_name": "FloatProgressModel",
          "model_module_version": "1.5.0",
          "state": {
            "_dom_classes": [],
            "_model_module": "@jupyter-widgets/controls",
            "_model_module_version": "1.5.0",
            "_model_name": "FloatProgressModel",
            "_view_count": null,
            "_view_module": "@jupyter-widgets/controls",
            "_view_module_version": "1.5.0",
            "_view_name": "ProgressView",
            "bar_style": "success",
            "description": "",
            "description_tooltip": null,
            "layout": "IPY_MODEL_2c2af6a1121a4f9bb491bb87e157c683",
            "max": 231508,
            "min": 0,
            "orientation": "horizontal",
            "style": "IPY_MODEL_0f215c6ccd614583982ea6a7f78ef2bd",
            "value": 231508
          }
        },
        "c671a988cf35443cabc66482a195197a": {
          "model_module": "@jupyter-widgets/controls",
          "model_name": "HTMLModel",
          "model_module_version": "1.5.0",
          "state": {
            "_dom_classes": [],
            "_model_module": "@jupyter-widgets/controls",
            "_model_module_version": "1.5.0",
            "_model_name": "HTMLModel",
            "_view_count": null,
            "_view_module": "@jupyter-widgets/controls",
            "_view_module_version": "1.5.0",
            "_view_name": "HTMLView",
            "description": "",
            "description_tooltip": null,
            "layout": "IPY_MODEL_53f0212ad57b46bdaab84bd62ec4daa3",
            "placeholder": "​",
            "style": "IPY_MODEL_dd1f78a8ee384a1f9103b4de67640935",
            "value": " 226k/226k [00:00&lt;00:00, 349kB/s]"
          }
        },
        "c6f40be01d3e447282a5ac011861e48b": {
          "model_module": "@jupyter-widgets/base",
          "model_name": "LayoutModel",
          "model_module_version": "1.2.0",
          "state": {
            "_model_module": "@jupyter-widgets/base",
            "_model_module_version": "1.2.0",
            "_model_name": "LayoutModel",
            "_view_count": null,
            "_view_module": "@jupyter-widgets/base",
            "_view_module_version": "1.2.0",
            "_view_name": "LayoutView",
            "align_content": null,
            "align_items": null,
            "align_self": null,
            "border": null,
            "bottom": null,
            "display": null,
            "flex": null,
            "flex_flow": null,
            "grid_area": null,
            "grid_auto_columns": null,
            "grid_auto_flow": null,
            "grid_auto_rows": null,
            "grid_column": null,
            "grid_gap": null,
            "grid_row": null,
            "grid_template_areas": null,
            "grid_template_columns": null,
            "grid_template_rows": null,
            "height": null,
            "justify_content": null,
            "justify_items": null,
            "left": null,
            "margin": null,
            "max_height": null,
            "max_width": null,
            "min_height": null,
            "min_width": null,
            "object_fit": null,
            "object_position": null,
            "order": null,
            "overflow": null,
            "overflow_x": null,
            "overflow_y": null,
            "padding": null,
            "right": null,
            "top": null,
            "visibility": null,
            "width": null
          }
        },
        "398c265ed16e4b3c9292825b0c6fa230": {
          "model_module": "@jupyter-widgets/base",
          "model_name": "LayoutModel",
          "model_module_version": "1.2.0",
          "state": {
            "_model_module": "@jupyter-widgets/base",
            "_model_module_version": "1.2.0",
            "_model_name": "LayoutModel",
            "_view_count": null,
            "_view_module": "@jupyter-widgets/base",
            "_view_module_version": "1.2.0",
            "_view_name": "LayoutView",
            "align_content": null,
            "align_items": null,
            "align_self": null,
            "border": null,
            "bottom": null,
            "display": null,
            "flex": null,
            "flex_flow": null,
            "grid_area": null,
            "grid_auto_columns": null,
            "grid_auto_flow": null,
            "grid_auto_rows": null,
            "grid_column": null,
            "grid_gap": null,
            "grid_row": null,
            "grid_template_areas": null,
            "grid_template_columns": null,
            "grid_template_rows": null,
            "height": null,
            "justify_content": null,
            "justify_items": null,
            "left": null,
            "margin": null,
            "max_height": null,
            "max_width": null,
            "min_height": null,
            "min_width": null,
            "object_fit": null,
            "object_position": null,
            "order": null,
            "overflow": null,
            "overflow_x": null,
            "overflow_y": null,
            "padding": null,
            "right": null,
            "top": null,
            "visibility": null,
            "width": null
          }
        },
        "976ad6b0d9e148d4b340eca60ab7dce5": {
          "model_module": "@jupyter-widgets/controls",
          "model_name": "DescriptionStyleModel",
          "model_module_version": "1.5.0",
          "state": {
            "_model_module": "@jupyter-widgets/controls",
            "_model_module_version": "1.5.0",
            "_model_name": "DescriptionStyleModel",
            "_view_count": null,
            "_view_module": "@jupyter-widgets/base",
            "_view_module_version": "1.2.0",
            "_view_name": "StyleView",
            "description_width": ""
          }
        },
        "2c2af6a1121a4f9bb491bb87e157c683": {
          "model_module": "@jupyter-widgets/base",
          "model_name": "LayoutModel",
          "model_module_version": "1.2.0",
          "state": {
            "_model_module": "@jupyter-widgets/base",
            "_model_module_version": "1.2.0",
            "_model_name": "LayoutModel",
            "_view_count": null,
            "_view_module": "@jupyter-widgets/base",
            "_view_module_version": "1.2.0",
            "_view_name": "LayoutView",
            "align_content": null,
            "align_items": null,
            "align_self": null,
            "border": null,
            "bottom": null,
            "display": null,
            "flex": null,
            "flex_flow": null,
            "grid_area": null,
            "grid_auto_columns": null,
            "grid_auto_flow": null,
            "grid_auto_rows": null,
            "grid_column": null,
            "grid_gap": null,
            "grid_row": null,
            "grid_template_areas": null,
            "grid_template_columns": null,
            "grid_template_rows": null,
            "height": null,
            "justify_content": null,
            "justify_items": null,
            "left": null,
            "margin": null,
            "max_height": null,
            "max_width": null,
            "min_height": null,
            "min_width": null,
            "object_fit": null,
            "object_position": null,
            "order": null,
            "overflow": null,
            "overflow_x": null,
            "overflow_y": null,
            "padding": null,
            "right": null,
            "top": null,
            "visibility": null,
            "width": null
          }
        },
        "0f215c6ccd614583982ea6a7f78ef2bd": {
          "model_module": "@jupyter-widgets/controls",
          "model_name": "ProgressStyleModel",
          "model_module_version": "1.5.0",
          "state": {
            "_model_module": "@jupyter-widgets/controls",
            "_model_module_version": "1.5.0",
            "_model_name": "ProgressStyleModel",
            "_view_count": null,
            "_view_module": "@jupyter-widgets/base",
            "_view_module_version": "1.2.0",
            "_view_name": "StyleView",
            "bar_color": null,
            "description_width": ""
          }
        },
        "53f0212ad57b46bdaab84bd62ec4daa3": {
          "model_module": "@jupyter-widgets/base",
          "model_name": "LayoutModel",
          "model_module_version": "1.2.0",
          "state": {
            "_model_module": "@jupyter-widgets/base",
            "_model_module_version": "1.2.0",
            "_model_name": "LayoutModel",
            "_view_count": null,
            "_view_module": "@jupyter-widgets/base",
            "_view_module_version": "1.2.0",
            "_view_name": "LayoutView",
            "align_content": null,
            "align_items": null,
            "align_self": null,
            "border": null,
            "bottom": null,
            "display": null,
            "flex": null,
            "flex_flow": null,
            "grid_area": null,
            "grid_auto_columns": null,
            "grid_auto_flow": null,
            "grid_auto_rows": null,
            "grid_column": null,
            "grid_gap": null,
            "grid_row": null,
            "grid_template_areas": null,
            "grid_template_columns": null,
            "grid_template_rows": null,
            "height": null,
            "justify_content": null,
            "justify_items": null,
            "left": null,
            "margin": null,
            "max_height": null,
            "max_width": null,
            "min_height": null,
            "min_width": null,
            "object_fit": null,
            "object_position": null,
            "order": null,
            "overflow": null,
            "overflow_x": null,
            "overflow_y": null,
            "padding": null,
            "right": null,
            "top": null,
            "visibility": null,
            "width": null
          }
        },
        "dd1f78a8ee384a1f9103b4de67640935": {
          "model_module": "@jupyter-widgets/controls",
          "model_name": "DescriptionStyleModel",
          "model_module_version": "1.5.0",
          "state": {
            "_model_module": "@jupyter-widgets/controls",
            "_model_module_version": "1.5.0",
            "_model_name": "DescriptionStyleModel",
            "_view_count": null,
            "_view_module": "@jupyter-widgets/base",
            "_view_module_version": "1.2.0",
            "_view_name": "StyleView",
            "description_width": ""
          }
        },
        "93b890c679db4c75bebd8c1f010dc543": {
          "model_module": "@jupyter-widgets/controls",
          "model_name": "HBoxModel",
          "model_module_version": "1.5.0",
          "state": {
            "_dom_classes": [],
            "_model_module": "@jupyter-widgets/controls",
            "_model_module_version": "1.5.0",
            "_model_name": "HBoxModel",
            "_view_count": null,
            "_view_module": "@jupyter-widgets/controls",
            "_view_module_version": "1.5.0",
            "_view_name": "HBoxView",
            "box_style": "",
            "children": [
              "IPY_MODEL_2490e5fbe0d14b44b158d3dec088dd3b",
              "IPY_MODEL_5b1c2bf8c37845e8bfbeed4350b14e8d",
              "IPY_MODEL_238e0cb4a1cc4106acb7433871a96aed"
            ],
            "layout": "IPY_MODEL_1efe582e33ec465e83514a3f937d8b95"
          }
        },
        "2490e5fbe0d14b44b158d3dec088dd3b": {
          "model_module": "@jupyter-widgets/controls",
          "model_name": "HTMLModel",
          "model_module_version": "1.5.0",
          "state": {
            "_dom_classes": [],
            "_model_module": "@jupyter-widgets/controls",
            "_model_module_version": "1.5.0",
            "_model_name": "HTMLModel",
            "_view_count": null,
            "_view_module": "@jupyter-widgets/controls",
            "_view_module_version": "1.5.0",
            "_view_name": "HTMLView",
            "description": "",
            "description_tooltip": null,
            "layout": "IPY_MODEL_2020d6050e8d404ca9258b7a24196acf",
            "placeholder": "​",
            "style": "IPY_MODEL_100e1fe73153410aa1e9c44e33053b00",
            "value": "Downloading tokenizer.json: 100%"
          }
        },
        "5b1c2bf8c37845e8bfbeed4350b14e8d": {
          "model_module": "@jupyter-widgets/controls",
          "model_name": "FloatProgressModel",
          "model_module_version": "1.5.0",
          "state": {
            "_dom_classes": [],
            "_model_module": "@jupyter-widgets/controls",
            "_model_module_version": "1.5.0",
            "_model_name": "FloatProgressModel",
            "_view_count": null,
            "_view_module": "@jupyter-widgets/controls",
            "_view_module_version": "1.5.0",
            "_view_name": "ProgressView",
            "bar_style": "success",
            "description": "",
            "description_tooltip": null,
            "layout": "IPY_MODEL_37ef467ef05142859d7262eedd32edf5",
            "max": 466062,
            "min": 0,
            "orientation": "horizontal",
            "style": "IPY_MODEL_d941c393206f4a4cb324784c6079696e",
            "value": 466062
          }
        },
        "238e0cb4a1cc4106acb7433871a96aed": {
          "model_module": "@jupyter-widgets/controls",
          "model_name": "HTMLModel",
          "model_module_version": "1.5.0",
          "state": {
            "_dom_classes": [],
            "_model_module": "@jupyter-widgets/controls",
            "_model_module_version": "1.5.0",
            "_model_name": "HTMLModel",
            "_view_count": null,
            "_view_module": "@jupyter-widgets/controls",
            "_view_module_version": "1.5.0",
            "_view_name": "HTMLView",
            "description": "",
            "description_tooltip": null,
            "layout": "IPY_MODEL_8a5f7d4bc9e4474cb3d30a15abcb8f98",
            "placeholder": "​",
            "style": "IPY_MODEL_3cb4f89911d74ef59f42c9bba3fc47c1",
            "value": " 455k/455k [00:00&lt;00:00, 649kB/s]"
          }
        },
        "1efe582e33ec465e83514a3f937d8b95": {
          "model_module": "@jupyter-widgets/base",
          "model_name": "LayoutModel",
          "model_module_version": "1.2.0",
          "state": {
            "_model_module": "@jupyter-widgets/base",
            "_model_module_version": "1.2.0",
            "_model_name": "LayoutModel",
            "_view_count": null,
            "_view_module": "@jupyter-widgets/base",
            "_view_module_version": "1.2.0",
            "_view_name": "LayoutView",
            "align_content": null,
            "align_items": null,
            "align_self": null,
            "border": null,
            "bottom": null,
            "display": null,
            "flex": null,
            "flex_flow": null,
            "grid_area": null,
            "grid_auto_columns": null,
            "grid_auto_flow": null,
            "grid_auto_rows": null,
            "grid_column": null,
            "grid_gap": null,
            "grid_row": null,
            "grid_template_areas": null,
            "grid_template_columns": null,
            "grid_template_rows": null,
            "height": null,
            "justify_content": null,
            "justify_items": null,
            "left": null,
            "margin": null,
            "max_height": null,
            "max_width": null,
            "min_height": null,
            "min_width": null,
            "object_fit": null,
            "object_position": null,
            "order": null,
            "overflow": null,
            "overflow_x": null,
            "overflow_y": null,
            "padding": null,
            "right": null,
            "top": null,
            "visibility": null,
            "width": null
          }
        },
        "2020d6050e8d404ca9258b7a24196acf": {
          "model_module": "@jupyter-widgets/base",
          "model_name": "LayoutModel",
          "model_module_version": "1.2.0",
          "state": {
            "_model_module": "@jupyter-widgets/base",
            "_model_module_version": "1.2.0",
            "_model_name": "LayoutModel",
            "_view_count": null,
            "_view_module": "@jupyter-widgets/base",
            "_view_module_version": "1.2.0",
            "_view_name": "LayoutView",
            "align_content": null,
            "align_items": null,
            "align_self": null,
            "border": null,
            "bottom": null,
            "display": null,
            "flex": null,
            "flex_flow": null,
            "grid_area": null,
            "grid_auto_columns": null,
            "grid_auto_flow": null,
            "grid_auto_rows": null,
            "grid_column": null,
            "grid_gap": null,
            "grid_row": null,
            "grid_template_areas": null,
            "grid_template_columns": null,
            "grid_template_rows": null,
            "height": null,
            "justify_content": null,
            "justify_items": null,
            "left": null,
            "margin": null,
            "max_height": null,
            "max_width": null,
            "min_height": null,
            "min_width": null,
            "object_fit": null,
            "object_position": null,
            "order": null,
            "overflow": null,
            "overflow_x": null,
            "overflow_y": null,
            "padding": null,
            "right": null,
            "top": null,
            "visibility": null,
            "width": null
          }
        },
        "100e1fe73153410aa1e9c44e33053b00": {
          "model_module": "@jupyter-widgets/controls",
          "model_name": "DescriptionStyleModel",
          "model_module_version": "1.5.0",
          "state": {
            "_model_module": "@jupyter-widgets/controls",
            "_model_module_version": "1.5.0",
            "_model_name": "DescriptionStyleModel",
            "_view_count": null,
            "_view_module": "@jupyter-widgets/base",
            "_view_module_version": "1.2.0",
            "_view_name": "StyleView",
            "description_width": ""
          }
        },
        "37ef467ef05142859d7262eedd32edf5": {
          "model_module": "@jupyter-widgets/base",
          "model_name": "LayoutModel",
          "model_module_version": "1.2.0",
          "state": {
            "_model_module": "@jupyter-widgets/base",
            "_model_module_version": "1.2.0",
            "_model_name": "LayoutModel",
            "_view_count": null,
            "_view_module": "@jupyter-widgets/base",
            "_view_module_version": "1.2.0",
            "_view_name": "LayoutView",
            "align_content": null,
            "align_items": null,
            "align_self": null,
            "border": null,
            "bottom": null,
            "display": null,
            "flex": null,
            "flex_flow": null,
            "grid_area": null,
            "grid_auto_columns": null,
            "grid_auto_flow": null,
            "grid_auto_rows": null,
            "grid_column": null,
            "grid_gap": null,
            "grid_row": null,
            "grid_template_areas": null,
            "grid_template_columns": null,
            "grid_template_rows": null,
            "height": null,
            "justify_content": null,
            "justify_items": null,
            "left": null,
            "margin": null,
            "max_height": null,
            "max_width": null,
            "min_height": null,
            "min_width": null,
            "object_fit": null,
            "object_position": null,
            "order": null,
            "overflow": null,
            "overflow_x": null,
            "overflow_y": null,
            "padding": null,
            "right": null,
            "top": null,
            "visibility": null,
            "width": null
          }
        },
        "d941c393206f4a4cb324784c6079696e": {
          "model_module": "@jupyter-widgets/controls",
          "model_name": "ProgressStyleModel",
          "model_module_version": "1.5.0",
          "state": {
            "_model_module": "@jupyter-widgets/controls",
            "_model_module_version": "1.5.0",
            "_model_name": "ProgressStyleModel",
            "_view_count": null,
            "_view_module": "@jupyter-widgets/base",
            "_view_module_version": "1.2.0",
            "_view_name": "StyleView",
            "bar_color": null,
            "description_width": ""
          }
        },
        "8a5f7d4bc9e4474cb3d30a15abcb8f98": {
          "model_module": "@jupyter-widgets/base",
          "model_name": "LayoutModel",
          "model_module_version": "1.2.0",
          "state": {
            "_model_module": "@jupyter-widgets/base",
            "_model_module_version": "1.2.0",
            "_model_name": "LayoutModel",
            "_view_count": null,
            "_view_module": "@jupyter-widgets/base",
            "_view_module_version": "1.2.0",
            "_view_name": "LayoutView",
            "align_content": null,
            "align_items": null,
            "align_self": null,
            "border": null,
            "bottom": null,
            "display": null,
            "flex": null,
            "flex_flow": null,
            "grid_area": null,
            "grid_auto_columns": null,
            "grid_auto_flow": null,
            "grid_auto_rows": null,
            "grid_column": null,
            "grid_gap": null,
            "grid_row": null,
            "grid_template_areas": null,
            "grid_template_columns": null,
            "grid_template_rows": null,
            "height": null,
            "justify_content": null,
            "justify_items": null,
            "left": null,
            "margin": null,
            "max_height": null,
            "max_width": null,
            "min_height": null,
            "min_width": null,
            "object_fit": null,
            "object_position": null,
            "order": null,
            "overflow": null,
            "overflow_x": null,
            "overflow_y": null,
            "padding": null,
            "right": null,
            "top": null,
            "visibility": null,
            "width": null
          }
        },
        "3cb4f89911d74ef59f42c9bba3fc47c1": {
          "model_module": "@jupyter-widgets/controls",
          "model_name": "DescriptionStyleModel",
          "model_module_version": "1.5.0",
          "state": {
            "_model_module": "@jupyter-widgets/controls",
            "_model_module_version": "1.5.0",
            "_model_name": "DescriptionStyleModel",
            "_view_count": null,
            "_view_module": "@jupyter-widgets/base",
            "_view_module_version": "1.2.0",
            "_view_name": "StyleView",
            "description_width": ""
          }
        },
        "5fe9775477e84c1f8e0fabffcd8199ce": {
          "model_module": "@jupyter-widgets/controls",
          "model_name": "HBoxModel",
          "model_module_version": "1.5.0",
          "state": {
            "_dom_classes": [],
            "_model_module": "@jupyter-widgets/controls",
            "_model_module_version": "1.5.0",
            "_model_name": "HBoxModel",
            "_view_count": null,
            "_view_module": "@jupyter-widgets/controls",
            "_view_module_version": "1.5.0",
            "_view_name": "HBoxView",
            "box_style": "",
            "children": [
              "IPY_MODEL_84a62573225f4ada862271aa785f4ecf",
              "IPY_MODEL_4124f986d3fc4cfb969919ee74c70286",
              "IPY_MODEL_fd9fe83b014d4b659d6182fba7945b88"
            ],
            "layout": "IPY_MODEL_b27a7e1123244224b39f6b6a89698538"
          }
        },
        "84a62573225f4ada862271aa785f4ecf": {
          "model_module": "@jupyter-widgets/controls",
          "model_name": "HTMLModel",
          "model_module_version": "1.5.0",
          "state": {
            "_dom_classes": [],
            "_model_module": "@jupyter-widgets/controls",
            "_model_module_version": "1.5.0",
            "_model_name": "HTMLModel",
            "_view_count": null,
            "_view_module": "@jupyter-widgets/controls",
            "_view_module_version": "1.5.0",
            "_view_name": "HTMLView",
            "description": "",
            "description_tooltip": null,
            "layout": "IPY_MODEL_17d154c0af794175bf1b525da4d27f13",
            "placeholder": "​",
            "style": "IPY_MODEL_120ddba3db494756a194f92bf19f3310",
            "value": "Downloading config.json: 100%"
          }
        },
        "4124f986d3fc4cfb969919ee74c70286": {
          "model_module": "@jupyter-widgets/controls",
          "model_name": "FloatProgressModel",
          "model_module_version": "1.5.0",
          "state": {
            "_dom_classes": [],
            "_model_module": "@jupyter-widgets/controls",
            "_model_module_version": "1.5.0",
            "_model_name": "FloatProgressModel",
            "_view_count": null,
            "_view_module": "@jupyter-widgets/controls",
            "_view_module_version": "1.5.0",
            "_view_name": "ProgressView",
            "bar_style": "success",
            "description": "",
            "description_tooltip": null,
            "layout": "IPY_MODEL_ac365e89175e4f2399d49215e590602a",
            "max": 666,
            "min": 0,
            "orientation": "horizontal",
            "style": "IPY_MODEL_992b862ac6d54531890060c556830182",
            "value": 666
          }
        },
        "fd9fe83b014d4b659d6182fba7945b88": {
          "model_module": "@jupyter-widgets/controls",
          "model_name": "HTMLModel",
          "model_module_version": "1.5.0",
          "state": {
            "_dom_classes": [],
            "_model_module": "@jupyter-widgets/controls",
            "_model_module_version": "1.5.0",
            "_model_name": "HTMLModel",
            "_view_count": null,
            "_view_module": "@jupyter-widgets/controls",
            "_view_module_version": "1.5.0",
            "_view_name": "HTMLView",
            "description": "",
            "description_tooltip": null,
            "layout": "IPY_MODEL_9582d97bb9d54bfdbf904b928feb2af6",
            "placeholder": "​",
            "style": "IPY_MODEL_eef9709263e34369ac28664310ae8e02",
            "value": " 666/666 [00:00&lt;00:00, 27.6kB/s]"
          }
        },
        "b27a7e1123244224b39f6b6a89698538": {
          "model_module": "@jupyter-widgets/base",
          "model_name": "LayoutModel",
          "model_module_version": "1.2.0",
          "state": {
            "_model_module": "@jupyter-widgets/base",
            "_model_module_version": "1.2.0",
            "_model_name": "LayoutModel",
            "_view_count": null,
            "_view_module": "@jupyter-widgets/base",
            "_view_module_version": "1.2.0",
            "_view_name": "LayoutView",
            "align_content": null,
            "align_items": null,
            "align_self": null,
            "border": null,
            "bottom": null,
            "display": null,
            "flex": null,
            "flex_flow": null,
            "grid_area": null,
            "grid_auto_columns": null,
            "grid_auto_flow": null,
            "grid_auto_rows": null,
            "grid_column": null,
            "grid_gap": null,
            "grid_row": null,
            "grid_template_areas": null,
            "grid_template_columns": null,
            "grid_template_rows": null,
            "height": null,
            "justify_content": null,
            "justify_items": null,
            "left": null,
            "margin": null,
            "max_height": null,
            "max_width": null,
            "min_height": null,
            "min_width": null,
            "object_fit": null,
            "object_position": null,
            "order": null,
            "overflow": null,
            "overflow_x": null,
            "overflow_y": null,
            "padding": null,
            "right": null,
            "top": null,
            "visibility": null,
            "width": null
          }
        },
        "17d154c0af794175bf1b525da4d27f13": {
          "model_module": "@jupyter-widgets/base",
          "model_name": "LayoutModel",
          "model_module_version": "1.2.0",
          "state": {
            "_model_module": "@jupyter-widgets/base",
            "_model_module_version": "1.2.0",
            "_model_name": "LayoutModel",
            "_view_count": null,
            "_view_module": "@jupyter-widgets/base",
            "_view_module_version": "1.2.0",
            "_view_name": "LayoutView",
            "align_content": null,
            "align_items": null,
            "align_self": null,
            "border": null,
            "bottom": null,
            "display": null,
            "flex": null,
            "flex_flow": null,
            "grid_area": null,
            "grid_auto_columns": null,
            "grid_auto_flow": null,
            "grid_auto_rows": null,
            "grid_column": null,
            "grid_gap": null,
            "grid_row": null,
            "grid_template_areas": null,
            "grid_template_columns": null,
            "grid_template_rows": null,
            "height": null,
            "justify_content": null,
            "justify_items": null,
            "left": null,
            "margin": null,
            "max_height": null,
            "max_width": null,
            "min_height": null,
            "min_width": null,
            "object_fit": null,
            "object_position": null,
            "order": null,
            "overflow": null,
            "overflow_x": null,
            "overflow_y": null,
            "padding": null,
            "right": null,
            "top": null,
            "visibility": null,
            "width": null
          }
        },
        "120ddba3db494756a194f92bf19f3310": {
          "model_module": "@jupyter-widgets/controls",
          "model_name": "DescriptionStyleModel",
          "model_module_version": "1.5.0",
          "state": {
            "_model_module": "@jupyter-widgets/controls",
            "_model_module_version": "1.5.0",
            "_model_name": "DescriptionStyleModel",
            "_view_count": null,
            "_view_module": "@jupyter-widgets/base",
            "_view_module_version": "1.2.0",
            "_view_name": "StyleView",
            "description_width": ""
          }
        },
        "ac365e89175e4f2399d49215e590602a": {
          "model_module": "@jupyter-widgets/base",
          "model_name": "LayoutModel",
          "model_module_version": "1.2.0",
          "state": {
            "_model_module": "@jupyter-widgets/base",
            "_model_module_version": "1.2.0",
            "_model_name": "LayoutModel",
            "_view_count": null,
            "_view_module": "@jupyter-widgets/base",
            "_view_module_version": "1.2.0",
            "_view_name": "LayoutView",
            "align_content": null,
            "align_items": null,
            "align_self": null,
            "border": null,
            "bottom": null,
            "display": null,
            "flex": null,
            "flex_flow": null,
            "grid_area": null,
            "grid_auto_columns": null,
            "grid_auto_flow": null,
            "grid_auto_rows": null,
            "grid_column": null,
            "grid_gap": null,
            "grid_row": null,
            "grid_template_areas": null,
            "grid_template_columns": null,
            "grid_template_rows": null,
            "height": null,
            "justify_content": null,
            "justify_items": null,
            "left": null,
            "margin": null,
            "max_height": null,
            "max_width": null,
            "min_height": null,
            "min_width": null,
            "object_fit": null,
            "object_position": null,
            "order": null,
            "overflow": null,
            "overflow_x": null,
            "overflow_y": null,
            "padding": null,
            "right": null,
            "top": null,
            "visibility": null,
            "width": null
          }
        },
        "992b862ac6d54531890060c556830182": {
          "model_module": "@jupyter-widgets/controls",
          "model_name": "ProgressStyleModel",
          "model_module_version": "1.5.0",
          "state": {
            "_model_module": "@jupyter-widgets/controls",
            "_model_module_version": "1.5.0",
            "_model_name": "ProgressStyleModel",
            "_view_count": null,
            "_view_module": "@jupyter-widgets/base",
            "_view_module_version": "1.2.0",
            "_view_name": "StyleView",
            "bar_color": null,
            "description_width": ""
          }
        },
        "9582d97bb9d54bfdbf904b928feb2af6": {
          "model_module": "@jupyter-widgets/base",
          "model_name": "LayoutModel",
          "model_module_version": "1.2.0",
          "state": {
            "_model_module": "@jupyter-widgets/base",
            "_model_module_version": "1.2.0",
            "_model_name": "LayoutModel",
            "_view_count": null,
            "_view_module": "@jupyter-widgets/base",
            "_view_module_version": "1.2.0",
            "_view_name": "LayoutView",
            "align_content": null,
            "align_items": null,
            "align_self": null,
            "border": null,
            "bottom": null,
            "display": null,
            "flex": null,
            "flex_flow": null,
            "grid_area": null,
            "grid_auto_columns": null,
            "grid_auto_flow": null,
            "grid_auto_rows": null,
            "grid_column": null,
            "grid_gap": null,
            "grid_row": null,
            "grid_template_areas": null,
            "grid_template_columns": null,
            "grid_template_rows": null,
            "height": null,
            "justify_content": null,
            "justify_items": null,
            "left": null,
            "margin": null,
            "max_height": null,
            "max_width": null,
            "min_height": null,
            "min_width": null,
            "object_fit": null,
            "object_position": null,
            "order": null,
            "overflow": null,
            "overflow_x": null,
            "overflow_y": null,
            "padding": null,
            "right": null,
            "top": null,
            "visibility": null,
            "width": null
          }
        },
        "eef9709263e34369ac28664310ae8e02": {
          "model_module": "@jupyter-widgets/controls",
          "model_name": "DescriptionStyleModel",
          "model_module_version": "1.5.0",
          "state": {
            "_model_module": "@jupyter-widgets/controls",
            "_model_module_version": "1.5.0",
            "_model_name": "DescriptionStyleModel",
            "_view_count": null,
            "_view_module": "@jupyter-widgets/base",
            "_view_module_version": "1.2.0",
            "_view_name": "StyleView",
            "description_width": ""
          }
        },
        "846b7701afe44f0bb4e256e06aec20a0": {
          "model_module": "@jupyter-widgets/controls",
          "model_name": "HBoxModel",
          "model_module_version": "1.5.0",
          "state": {
            "_dom_classes": [],
            "_model_module": "@jupyter-widgets/controls",
            "_model_module_version": "1.5.0",
            "_model_name": "HBoxModel",
            "_view_count": null,
            "_view_module": "@jupyter-widgets/controls",
            "_view_module_version": "1.5.0",
            "_view_name": "HBoxView",
            "box_style": "",
            "children": [
              "IPY_MODEL_9686e9fd3b7246158bc270cfa0c38ab8",
              "IPY_MODEL_75b71edbb27e4691956b4044d8e4dbde",
              "IPY_MODEL_e8994c28376342f6ae8b5a68ce43da34"
            ],
            "layout": "IPY_MODEL_bce93095fafe49648d2b2ea4f289523c"
          }
        },
        "9686e9fd3b7246158bc270cfa0c38ab8": {
          "model_module": "@jupyter-widgets/controls",
          "model_name": "HTMLModel",
          "model_module_version": "1.5.0",
          "state": {
            "_dom_classes": [],
            "_model_module": "@jupyter-widgets/controls",
            "_model_module_version": "1.5.0",
            "_model_name": "HTMLModel",
            "_view_count": null,
            "_view_module": "@jupyter-widgets/controls",
            "_view_module_version": "1.5.0",
            "_view_name": "HTMLView",
            "description": "",
            "description_tooltip": null,
            "layout": "IPY_MODEL_b6f7f645cfe9438eafb2d4fa4a6d520f",
            "placeholder": "​",
            "style": "IPY_MODEL_893d468e541f4986996aee7e306e9eb5",
            "value": "Downloading pytorch_model.bin: 100%"
          }
        },
        "75b71edbb27e4691956b4044d8e4dbde": {
          "model_module": "@jupyter-widgets/controls",
          "model_name": "FloatProgressModel",
          "model_module_version": "1.5.0",
          "state": {
            "_dom_classes": [],
            "_model_module": "@jupyter-widgets/controls",
            "_model_module_version": "1.5.0",
            "_model_name": "FloatProgressModel",
            "_view_count": null,
            "_view_module": "@jupyter-widgets/controls",
            "_view_module_version": "1.5.0",
            "_view_name": "ProgressView",
            "bar_style": "success",
            "description": "",
            "description_tooltip": null,
            "layout": "IPY_MODEL_710d966271b44b0c889b8c7e9071ccfc",
            "max": 440343552,
            "min": 0,
            "orientation": "horizontal",
            "style": "IPY_MODEL_93cb9f71ce5144c186a3fbae0bdbb6d1",
            "value": 440343552
          }
        },
        "e8994c28376342f6ae8b5a68ce43da34": {
          "model_module": "@jupyter-widgets/controls",
          "model_name": "HTMLModel",
          "model_module_version": "1.5.0",
          "state": {
            "_dom_classes": [],
            "_model_module": "@jupyter-widgets/controls",
            "_model_module_version": "1.5.0",
            "_model_name": "HTMLModel",
            "_view_count": null,
            "_view_module": "@jupyter-widgets/controls",
            "_view_module_version": "1.5.0",
            "_view_name": "HTMLView",
            "description": "",
            "description_tooltip": null,
            "layout": "IPY_MODEL_d407e0665cb442fdb798d40fa99331db",
            "placeholder": "​",
            "style": "IPY_MODEL_f11cca729db34a389b9a2e4e4d0bf709",
            "value": " 420M/420M [00:06&lt;00:00, 64.7MB/s]"
          }
        },
        "bce93095fafe49648d2b2ea4f289523c": {
          "model_module": "@jupyter-widgets/base",
          "model_name": "LayoutModel",
          "model_module_version": "1.2.0",
          "state": {
            "_model_module": "@jupyter-widgets/base",
            "_model_module_version": "1.2.0",
            "_model_name": "LayoutModel",
            "_view_count": null,
            "_view_module": "@jupyter-widgets/base",
            "_view_module_version": "1.2.0",
            "_view_name": "LayoutView",
            "align_content": null,
            "align_items": null,
            "align_self": null,
            "border": null,
            "bottom": null,
            "display": null,
            "flex": null,
            "flex_flow": null,
            "grid_area": null,
            "grid_auto_columns": null,
            "grid_auto_flow": null,
            "grid_auto_rows": null,
            "grid_column": null,
            "grid_gap": null,
            "grid_row": null,
            "grid_template_areas": null,
            "grid_template_columns": null,
            "grid_template_rows": null,
            "height": null,
            "justify_content": null,
            "justify_items": null,
            "left": null,
            "margin": null,
            "max_height": null,
            "max_width": null,
            "min_height": null,
            "min_width": null,
            "object_fit": null,
            "object_position": null,
            "order": null,
            "overflow": null,
            "overflow_x": null,
            "overflow_y": null,
            "padding": null,
            "right": null,
            "top": null,
            "visibility": null,
            "width": null
          }
        },
        "b6f7f645cfe9438eafb2d4fa4a6d520f": {
          "model_module": "@jupyter-widgets/base",
          "model_name": "LayoutModel",
          "model_module_version": "1.2.0",
          "state": {
            "_model_module": "@jupyter-widgets/base",
            "_model_module_version": "1.2.0",
            "_model_name": "LayoutModel",
            "_view_count": null,
            "_view_module": "@jupyter-widgets/base",
            "_view_module_version": "1.2.0",
            "_view_name": "LayoutView",
            "align_content": null,
            "align_items": null,
            "align_self": null,
            "border": null,
            "bottom": null,
            "display": null,
            "flex": null,
            "flex_flow": null,
            "grid_area": null,
            "grid_auto_columns": null,
            "grid_auto_flow": null,
            "grid_auto_rows": null,
            "grid_column": null,
            "grid_gap": null,
            "grid_row": null,
            "grid_template_areas": null,
            "grid_template_columns": null,
            "grid_template_rows": null,
            "height": null,
            "justify_content": null,
            "justify_items": null,
            "left": null,
            "margin": null,
            "max_height": null,
            "max_width": null,
            "min_height": null,
            "min_width": null,
            "object_fit": null,
            "object_position": null,
            "order": null,
            "overflow": null,
            "overflow_x": null,
            "overflow_y": null,
            "padding": null,
            "right": null,
            "top": null,
            "visibility": null,
            "width": null
          }
        },
        "893d468e541f4986996aee7e306e9eb5": {
          "model_module": "@jupyter-widgets/controls",
          "model_name": "DescriptionStyleModel",
          "model_module_version": "1.5.0",
          "state": {
            "_model_module": "@jupyter-widgets/controls",
            "_model_module_version": "1.5.0",
            "_model_name": "DescriptionStyleModel",
            "_view_count": null,
            "_view_module": "@jupyter-widgets/base",
            "_view_module_version": "1.2.0",
            "_view_name": "StyleView",
            "description_width": ""
          }
        },
        "710d966271b44b0c889b8c7e9071ccfc": {
          "model_module": "@jupyter-widgets/base",
          "model_name": "LayoutModel",
          "model_module_version": "1.2.0",
          "state": {
            "_model_module": "@jupyter-widgets/base",
            "_model_module_version": "1.2.0",
            "_model_name": "LayoutModel",
            "_view_count": null,
            "_view_module": "@jupyter-widgets/base",
            "_view_module_version": "1.2.0",
            "_view_name": "LayoutView",
            "align_content": null,
            "align_items": null,
            "align_self": null,
            "border": null,
            "bottom": null,
            "display": null,
            "flex": null,
            "flex_flow": null,
            "grid_area": null,
            "grid_auto_columns": null,
            "grid_auto_flow": null,
            "grid_auto_rows": null,
            "grid_column": null,
            "grid_gap": null,
            "grid_row": null,
            "grid_template_areas": null,
            "grid_template_columns": null,
            "grid_template_rows": null,
            "height": null,
            "justify_content": null,
            "justify_items": null,
            "left": null,
            "margin": null,
            "max_height": null,
            "max_width": null,
            "min_height": null,
            "min_width": null,
            "object_fit": null,
            "object_position": null,
            "order": null,
            "overflow": null,
            "overflow_x": null,
            "overflow_y": null,
            "padding": null,
            "right": null,
            "top": null,
            "visibility": null,
            "width": null
          }
        },
        "93cb9f71ce5144c186a3fbae0bdbb6d1": {
          "model_module": "@jupyter-widgets/controls",
          "model_name": "ProgressStyleModel",
          "model_module_version": "1.5.0",
          "state": {
            "_model_module": "@jupyter-widgets/controls",
            "_model_module_version": "1.5.0",
            "_model_name": "ProgressStyleModel",
            "_view_count": null,
            "_view_module": "@jupyter-widgets/base",
            "_view_module_version": "1.2.0",
            "_view_name": "StyleView",
            "bar_color": null,
            "description_width": ""
          }
        },
        "d407e0665cb442fdb798d40fa99331db": {
          "model_module": "@jupyter-widgets/base",
          "model_name": "LayoutModel",
          "model_module_version": "1.2.0",
          "state": {
            "_model_module": "@jupyter-widgets/base",
            "_model_module_version": "1.2.0",
            "_model_name": "LayoutModel",
            "_view_count": null,
            "_view_module": "@jupyter-widgets/base",
            "_view_module_version": "1.2.0",
            "_view_name": "LayoutView",
            "align_content": null,
            "align_items": null,
            "align_self": null,
            "border": null,
            "bottom": null,
            "display": null,
            "flex": null,
            "flex_flow": null,
            "grid_area": null,
            "grid_auto_columns": null,
            "grid_auto_flow": null,
            "grid_auto_rows": null,
            "grid_column": null,
            "grid_gap": null,
            "grid_row": null,
            "grid_template_areas": null,
            "grid_template_columns": null,
            "grid_template_rows": null,
            "height": null,
            "justify_content": null,
            "justify_items": null,
            "left": null,
            "margin": null,
            "max_height": null,
            "max_width": null,
            "min_height": null,
            "min_width": null,
            "object_fit": null,
            "object_position": null,
            "order": null,
            "overflow": null,
            "overflow_x": null,
            "overflow_y": null,
            "padding": null,
            "right": null,
            "top": null,
            "visibility": null,
            "width": null
          }
        },
        "f11cca729db34a389b9a2e4e4d0bf709": {
          "model_module": "@jupyter-widgets/controls",
          "model_name": "DescriptionStyleModel",
          "model_module_version": "1.5.0",
          "state": {
            "_model_module": "@jupyter-widgets/controls",
            "_model_module_version": "1.5.0",
            "_model_name": "DescriptionStyleModel",
            "_view_count": null,
            "_view_module": "@jupyter-widgets/base",
            "_view_module_version": "1.2.0",
            "_view_name": "StyleView",
            "description_width": ""
          }
        },
        "1f21813481054c37b13ec2a7959b0f96": {
          "model_module": "@jupyter-widgets/controls",
          "model_name": "HBoxModel",
          "model_module_version": "1.5.0",
          "state": {
            "_dom_classes": [],
            "_model_module": "@jupyter-widgets/controls",
            "_model_module_version": "1.5.0",
            "_model_name": "HBoxModel",
            "_view_count": null,
            "_view_module": "@jupyter-widgets/controls",
            "_view_module_version": "1.5.0",
            "_view_name": "HBoxView",
            "box_style": "",
            "children": [
              "IPY_MODEL_4b1c8e9c63c74aa496b0306ccd7f7685",
              "IPY_MODEL_8c129d576d1b4521bf54b8f482b3be33",
              "IPY_MODEL_f43881cd99b44ba3848d765f295a76c8"
            ],
            "layout": "IPY_MODEL_54e8ffe759ed4bbcbe4e0ecc5153b0e3"
          }
        },
        "4b1c8e9c63c74aa496b0306ccd7f7685": {
          "model_module": "@jupyter-widgets/controls",
          "model_name": "HTMLModel",
          "model_module_version": "1.5.0",
          "state": {
            "_dom_classes": [],
            "_model_module": "@jupyter-widgets/controls",
            "_model_module_version": "1.5.0",
            "_model_name": "HTMLModel",
            "_view_count": null,
            "_view_module": "@jupyter-widgets/controls",
            "_view_module_version": "1.5.0",
            "_view_name": "HTMLView",
            "description": "",
            "description_tooltip": null,
            "layout": "IPY_MODEL_4be626f2ace04d328cde0a0f54b2f06b",
            "placeholder": "​",
            "style": "IPY_MODEL_1b4f335c46ef49fd85b9665f53f39d42",
            "value": "100%"
          }
        },
        "8c129d576d1b4521bf54b8f482b3be33": {
          "model_module": "@jupyter-widgets/controls",
          "model_name": "FloatProgressModel",
          "model_module_version": "1.5.0",
          "state": {
            "_dom_classes": [],
            "_model_module": "@jupyter-widgets/controls",
            "_model_module_version": "1.5.0",
            "_model_name": "FloatProgressModel",
            "_view_count": null,
            "_view_module": "@jupyter-widgets/controls",
            "_view_module_version": "1.5.0",
            "_view_name": "ProgressView",
            "bar_style": "success",
            "description": "",
            "description_tooltip": null,
            "layout": "IPY_MODEL_8596594b917f42bf9d97daacc120a3ee",
            "max": 393,
            "min": 0,
            "orientation": "horizontal",
            "style": "IPY_MODEL_4e024b1a0c0c4730a80ccc89d546319a",
            "value": 393
          }
        },
        "f43881cd99b44ba3848d765f295a76c8": {
          "model_module": "@jupyter-widgets/controls",
          "model_name": "HTMLModel",
          "model_module_version": "1.5.0",
          "state": {
            "_dom_classes": [],
            "_model_module": "@jupyter-widgets/controls",
            "_model_module_version": "1.5.0",
            "_model_name": "HTMLModel",
            "_view_count": null,
            "_view_module": "@jupyter-widgets/controls",
            "_view_module_version": "1.5.0",
            "_view_name": "HTMLView",
            "description": "",
            "description_tooltip": null,
            "layout": "IPY_MODEL_51b803901f10471fbad74bb97e9cc9d6",
            "placeholder": "​",
            "style": "IPY_MODEL_7320a8f71ed54dc199a8a4acbf602f13",
            "value": " 393/393 [01:19&lt;00:00,  5.58ba/s]"
          }
        },
        "54e8ffe759ed4bbcbe4e0ecc5153b0e3": {
          "model_module": "@jupyter-widgets/base",
          "model_name": "LayoutModel",
          "model_module_version": "1.2.0",
          "state": {
            "_model_module": "@jupyter-widgets/base",
            "_model_module_version": "1.2.0",
            "_model_name": "LayoutModel",
            "_view_count": null,
            "_view_module": "@jupyter-widgets/base",
            "_view_module_version": "1.2.0",
            "_view_name": "LayoutView",
            "align_content": null,
            "align_items": null,
            "align_self": null,
            "border": null,
            "bottom": null,
            "display": null,
            "flex": null,
            "flex_flow": null,
            "grid_area": null,
            "grid_auto_columns": null,
            "grid_auto_flow": null,
            "grid_auto_rows": null,
            "grid_column": null,
            "grid_gap": null,
            "grid_row": null,
            "grid_template_areas": null,
            "grid_template_columns": null,
            "grid_template_rows": null,
            "height": null,
            "justify_content": null,
            "justify_items": null,
            "left": null,
            "margin": null,
            "max_height": null,
            "max_width": null,
            "min_height": null,
            "min_width": null,
            "object_fit": null,
            "object_position": null,
            "order": null,
            "overflow": null,
            "overflow_x": null,
            "overflow_y": null,
            "padding": null,
            "right": null,
            "top": null,
            "visibility": null,
            "width": null
          }
        },
        "4be626f2ace04d328cde0a0f54b2f06b": {
          "model_module": "@jupyter-widgets/base",
          "model_name": "LayoutModel",
          "model_module_version": "1.2.0",
          "state": {
            "_model_module": "@jupyter-widgets/base",
            "_model_module_version": "1.2.0",
            "_model_name": "LayoutModel",
            "_view_count": null,
            "_view_module": "@jupyter-widgets/base",
            "_view_module_version": "1.2.0",
            "_view_name": "LayoutView",
            "align_content": null,
            "align_items": null,
            "align_self": null,
            "border": null,
            "bottom": null,
            "display": null,
            "flex": null,
            "flex_flow": null,
            "grid_area": null,
            "grid_auto_columns": null,
            "grid_auto_flow": null,
            "grid_auto_rows": null,
            "grid_column": null,
            "grid_gap": null,
            "grid_row": null,
            "grid_template_areas": null,
            "grid_template_columns": null,
            "grid_template_rows": null,
            "height": null,
            "justify_content": null,
            "justify_items": null,
            "left": null,
            "margin": null,
            "max_height": null,
            "max_width": null,
            "min_height": null,
            "min_width": null,
            "object_fit": null,
            "object_position": null,
            "order": null,
            "overflow": null,
            "overflow_x": null,
            "overflow_y": null,
            "padding": null,
            "right": null,
            "top": null,
            "visibility": null,
            "width": null
          }
        },
        "1b4f335c46ef49fd85b9665f53f39d42": {
          "model_module": "@jupyter-widgets/controls",
          "model_name": "DescriptionStyleModel",
          "model_module_version": "1.5.0",
          "state": {
            "_model_module": "@jupyter-widgets/controls",
            "_model_module_version": "1.5.0",
            "_model_name": "DescriptionStyleModel",
            "_view_count": null,
            "_view_module": "@jupyter-widgets/base",
            "_view_module_version": "1.2.0",
            "_view_name": "StyleView",
            "description_width": ""
          }
        },
        "8596594b917f42bf9d97daacc120a3ee": {
          "model_module": "@jupyter-widgets/base",
          "model_name": "LayoutModel",
          "model_module_version": "1.2.0",
          "state": {
            "_model_module": "@jupyter-widgets/base",
            "_model_module_version": "1.2.0",
            "_model_name": "LayoutModel",
            "_view_count": null,
            "_view_module": "@jupyter-widgets/base",
            "_view_module_version": "1.2.0",
            "_view_name": "LayoutView",
            "align_content": null,
            "align_items": null,
            "align_self": null,
            "border": null,
            "bottom": null,
            "display": null,
            "flex": null,
            "flex_flow": null,
            "grid_area": null,
            "grid_auto_columns": null,
            "grid_auto_flow": null,
            "grid_auto_rows": null,
            "grid_column": null,
            "grid_gap": null,
            "grid_row": null,
            "grid_template_areas": null,
            "grid_template_columns": null,
            "grid_template_rows": null,
            "height": null,
            "justify_content": null,
            "justify_items": null,
            "left": null,
            "margin": null,
            "max_height": null,
            "max_width": null,
            "min_height": null,
            "min_width": null,
            "object_fit": null,
            "object_position": null,
            "order": null,
            "overflow": null,
            "overflow_x": null,
            "overflow_y": null,
            "padding": null,
            "right": null,
            "top": null,
            "visibility": null,
            "width": null
          }
        },
        "4e024b1a0c0c4730a80ccc89d546319a": {
          "model_module": "@jupyter-widgets/controls",
          "model_name": "ProgressStyleModel",
          "model_module_version": "1.5.0",
          "state": {
            "_model_module": "@jupyter-widgets/controls",
            "_model_module_version": "1.5.0",
            "_model_name": "ProgressStyleModel",
            "_view_count": null,
            "_view_module": "@jupyter-widgets/base",
            "_view_module_version": "1.2.0",
            "_view_name": "StyleView",
            "bar_color": null,
            "description_width": ""
          }
        },
        "51b803901f10471fbad74bb97e9cc9d6": {
          "model_module": "@jupyter-widgets/base",
          "model_name": "LayoutModel",
          "model_module_version": "1.2.0",
          "state": {
            "_model_module": "@jupyter-widgets/base",
            "_model_module_version": "1.2.0",
            "_model_name": "LayoutModel",
            "_view_count": null,
            "_view_module": "@jupyter-widgets/base",
            "_view_module_version": "1.2.0",
            "_view_name": "LayoutView",
            "align_content": null,
            "align_items": null,
            "align_self": null,
            "border": null,
            "bottom": null,
            "display": null,
            "flex": null,
            "flex_flow": null,
            "grid_area": null,
            "grid_auto_columns": null,
            "grid_auto_flow": null,
            "grid_auto_rows": null,
            "grid_column": null,
            "grid_gap": null,
            "grid_row": null,
            "grid_template_areas": null,
            "grid_template_columns": null,
            "grid_template_rows": null,
            "height": null,
            "justify_content": null,
            "justify_items": null,
            "left": null,
            "margin": null,
            "max_height": null,
            "max_width": null,
            "min_height": null,
            "min_width": null,
            "object_fit": null,
            "object_position": null,
            "order": null,
            "overflow": null,
            "overflow_x": null,
            "overflow_y": null,
            "padding": null,
            "right": null,
            "top": null,
            "visibility": null,
            "width": null
          }
        },
        "7320a8f71ed54dc199a8a4acbf602f13": {
          "model_module": "@jupyter-widgets/controls",
          "model_name": "DescriptionStyleModel",
          "model_module_version": "1.5.0",
          "state": {
            "_model_module": "@jupyter-widgets/controls",
            "_model_module_version": "1.5.0",
            "_model_name": "DescriptionStyleModel",
            "_view_count": null,
            "_view_module": "@jupyter-widgets/base",
            "_view_module_version": "1.2.0",
            "_view_name": "StyleView",
            "description_width": ""
          }
        },
        "a5a3da46f22b490ca08fa9d98b5c9dfb": {
          "model_module": "@jupyter-widgets/controls",
          "model_name": "HBoxModel",
          "model_module_version": "1.5.0",
          "state": {
            "_dom_classes": [],
            "_model_module": "@jupyter-widgets/controls",
            "_model_module_version": "1.5.0",
            "_model_name": "HBoxModel",
            "_view_count": null,
            "_view_module": "@jupyter-widgets/controls",
            "_view_module_version": "1.5.0",
            "_view_name": "HBoxView",
            "box_style": "",
            "children": [
              "IPY_MODEL_9635b18b3d6b49ef941bb6f0fea3d398",
              "IPY_MODEL_a9e481f2b4a14d45b2acb90035f19991",
              "IPY_MODEL_00e7e38464994ca08a483799dcf94078"
            ],
            "layout": "IPY_MODEL_f662e43b754d4136a92e62d58b38bf38"
          }
        },
        "9635b18b3d6b49ef941bb6f0fea3d398": {
          "model_module": "@jupyter-widgets/controls",
          "model_name": "HTMLModel",
          "model_module_version": "1.5.0",
          "state": {
            "_dom_classes": [],
            "_model_module": "@jupyter-widgets/controls",
            "_model_module_version": "1.5.0",
            "_model_name": "HTMLModel",
            "_view_count": null,
            "_view_module": "@jupyter-widgets/controls",
            "_view_module_version": "1.5.0",
            "_view_name": "HTMLView",
            "description": "",
            "description_tooltip": null,
            "layout": "IPY_MODEL_82f4944ded2341bab83ffcd6c65c2641",
            "placeholder": "​",
            "style": "IPY_MODEL_71159ab489aa42afa96890ed7af5f869",
            "value": "100%"
          }
        },
        "a9e481f2b4a14d45b2acb90035f19991": {
          "model_module": "@jupyter-widgets/controls",
          "model_name": "FloatProgressModel",
          "model_module_version": "1.5.0",
          "state": {
            "_dom_classes": [],
            "_model_module": "@jupyter-widgets/controls",
            "_model_module_version": "1.5.0",
            "_model_name": "FloatProgressModel",
            "_view_count": null,
            "_view_module": "@jupyter-widgets/controls",
            "_view_module_version": "1.5.0",
            "_view_name": "ProgressView",
            "bar_style": "success",
            "description": "",
            "description_tooltip": null,
            "layout": "IPY_MODEL_2a18a18095414180b6408e6e59625392",
            "max": 10,
            "min": 0,
            "orientation": "horizontal",
            "style": "IPY_MODEL_21ae57715e754e93bff1dab9ffbcef77",
            "value": 10
          }
        },
        "00e7e38464994ca08a483799dcf94078": {
          "model_module": "@jupyter-widgets/controls",
          "model_name": "HTMLModel",
          "model_module_version": "1.5.0",
          "state": {
            "_dom_classes": [],
            "_model_module": "@jupyter-widgets/controls",
            "_model_module_version": "1.5.0",
            "_model_name": "HTMLModel",
            "_view_count": null,
            "_view_module": "@jupyter-widgets/controls",
            "_view_module_version": "1.5.0",
            "_view_name": "HTMLView",
            "description": "",
            "description_tooltip": null,
            "layout": "IPY_MODEL_ddd362c0c20b43a980a2ba80e06338fc",
            "placeholder": "​",
            "style": "IPY_MODEL_5845822400f14500afcd3d1117813bb8",
            "value": " 10/10 [00:01&lt;00:00,  5.36ba/s]"
          }
        },
        "f662e43b754d4136a92e62d58b38bf38": {
          "model_module": "@jupyter-widgets/base",
          "model_name": "LayoutModel",
          "model_module_version": "1.2.0",
          "state": {
            "_model_module": "@jupyter-widgets/base",
            "_model_module_version": "1.2.0",
            "_model_name": "LayoutModel",
            "_view_count": null,
            "_view_module": "@jupyter-widgets/base",
            "_view_module_version": "1.2.0",
            "_view_name": "LayoutView",
            "align_content": null,
            "align_items": null,
            "align_self": null,
            "border": null,
            "bottom": null,
            "display": null,
            "flex": null,
            "flex_flow": null,
            "grid_area": null,
            "grid_auto_columns": null,
            "grid_auto_flow": null,
            "grid_auto_rows": null,
            "grid_column": null,
            "grid_gap": null,
            "grid_row": null,
            "grid_template_areas": null,
            "grid_template_columns": null,
            "grid_template_rows": null,
            "height": null,
            "justify_content": null,
            "justify_items": null,
            "left": null,
            "margin": null,
            "max_height": null,
            "max_width": null,
            "min_height": null,
            "min_width": null,
            "object_fit": null,
            "object_position": null,
            "order": null,
            "overflow": null,
            "overflow_x": null,
            "overflow_y": null,
            "padding": null,
            "right": null,
            "top": null,
            "visibility": null,
            "width": null
          }
        },
        "82f4944ded2341bab83ffcd6c65c2641": {
          "model_module": "@jupyter-widgets/base",
          "model_name": "LayoutModel",
          "model_module_version": "1.2.0",
          "state": {
            "_model_module": "@jupyter-widgets/base",
            "_model_module_version": "1.2.0",
            "_model_name": "LayoutModel",
            "_view_count": null,
            "_view_module": "@jupyter-widgets/base",
            "_view_module_version": "1.2.0",
            "_view_name": "LayoutView",
            "align_content": null,
            "align_items": null,
            "align_self": null,
            "border": null,
            "bottom": null,
            "display": null,
            "flex": null,
            "flex_flow": null,
            "grid_area": null,
            "grid_auto_columns": null,
            "grid_auto_flow": null,
            "grid_auto_rows": null,
            "grid_column": null,
            "grid_gap": null,
            "grid_row": null,
            "grid_template_areas": null,
            "grid_template_columns": null,
            "grid_template_rows": null,
            "height": null,
            "justify_content": null,
            "justify_items": null,
            "left": null,
            "margin": null,
            "max_height": null,
            "max_width": null,
            "min_height": null,
            "min_width": null,
            "object_fit": null,
            "object_position": null,
            "order": null,
            "overflow": null,
            "overflow_x": null,
            "overflow_y": null,
            "padding": null,
            "right": null,
            "top": null,
            "visibility": null,
            "width": null
          }
        },
        "71159ab489aa42afa96890ed7af5f869": {
          "model_module": "@jupyter-widgets/controls",
          "model_name": "DescriptionStyleModel",
          "model_module_version": "1.5.0",
          "state": {
            "_model_module": "@jupyter-widgets/controls",
            "_model_module_version": "1.5.0",
            "_model_name": "DescriptionStyleModel",
            "_view_count": null,
            "_view_module": "@jupyter-widgets/base",
            "_view_module_version": "1.2.0",
            "_view_name": "StyleView",
            "description_width": ""
          }
        },
        "2a18a18095414180b6408e6e59625392": {
          "model_module": "@jupyter-widgets/base",
          "model_name": "LayoutModel",
          "model_module_version": "1.2.0",
          "state": {
            "_model_module": "@jupyter-widgets/base",
            "_model_module_version": "1.2.0",
            "_model_name": "LayoutModel",
            "_view_count": null,
            "_view_module": "@jupyter-widgets/base",
            "_view_module_version": "1.2.0",
            "_view_name": "LayoutView",
            "align_content": null,
            "align_items": null,
            "align_self": null,
            "border": null,
            "bottom": null,
            "display": null,
            "flex": null,
            "flex_flow": null,
            "grid_area": null,
            "grid_auto_columns": null,
            "grid_auto_flow": null,
            "grid_auto_rows": null,
            "grid_column": null,
            "grid_gap": null,
            "grid_row": null,
            "grid_template_areas": null,
            "grid_template_columns": null,
            "grid_template_rows": null,
            "height": null,
            "justify_content": null,
            "justify_items": null,
            "left": null,
            "margin": null,
            "max_height": null,
            "max_width": null,
            "min_height": null,
            "min_width": null,
            "object_fit": null,
            "object_position": null,
            "order": null,
            "overflow": null,
            "overflow_x": null,
            "overflow_y": null,
            "padding": null,
            "right": null,
            "top": null,
            "visibility": null,
            "width": null
          }
        },
        "21ae57715e754e93bff1dab9ffbcef77": {
          "model_module": "@jupyter-widgets/controls",
          "model_name": "ProgressStyleModel",
          "model_module_version": "1.5.0",
          "state": {
            "_model_module": "@jupyter-widgets/controls",
            "_model_module_version": "1.5.0",
            "_model_name": "ProgressStyleModel",
            "_view_count": null,
            "_view_module": "@jupyter-widgets/base",
            "_view_module_version": "1.2.0",
            "_view_name": "StyleView",
            "bar_color": null,
            "description_width": ""
          }
        },
        "ddd362c0c20b43a980a2ba80e06338fc": {
          "model_module": "@jupyter-widgets/base",
          "model_name": "LayoutModel",
          "model_module_version": "1.2.0",
          "state": {
            "_model_module": "@jupyter-widgets/base",
            "_model_module_version": "1.2.0",
            "_model_name": "LayoutModel",
            "_view_count": null,
            "_view_module": "@jupyter-widgets/base",
            "_view_module_version": "1.2.0",
            "_view_name": "LayoutView",
            "align_content": null,
            "align_items": null,
            "align_self": null,
            "border": null,
            "bottom": null,
            "display": null,
            "flex": null,
            "flex_flow": null,
            "grid_area": null,
            "grid_auto_columns": null,
            "grid_auto_flow": null,
            "grid_auto_rows": null,
            "grid_column": null,
            "grid_gap": null,
            "grid_row": null,
            "grid_template_areas": null,
            "grid_template_columns": null,
            "grid_template_rows": null,
            "height": null,
            "justify_content": null,
            "justify_items": null,
            "left": null,
            "margin": null,
            "max_height": null,
            "max_width": null,
            "min_height": null,
            "min_width": null,
            "object_fit": null,
            "object_position": null,
            "order": null,
            "overflow": null,
            "overflow_x": null,
            "overflow_y": null,
            "padding": null,
            "right": null,
            "top": null,
            "visibility": null,
            "width": null
          }
        },
        "5845822400f14500afcd3d1117813bb8": {
          "model_module": "@jupyter-widgets/controls",
          "model_name": "DescriptionStyleModel",
          "model_module_version": "1.5.0",
          "state": {
            "_model_module": "@jupyter-widgets/controls",
            "_model_module_version": "1.5.0",
            "_model_name": "DescriptionStyleModel",
            "_view_count": null,
            "_view_module": "@jupyter-widgets/base",
            "_view_module_version": "1.2.0",
            "_view_name": "StyleView",
            "description_width": ""
          }
        },
        "96b43329d17f45359bbb9959b7d02cc3": {
          "model_module": "@jupyter-widgets/controls",
          "model_name": "HBoxModel",
          "model_module_version": "1.5.0",
          "state": {
            "_dom_classes": [],
            "_model_module": "@jupyter-widgets/controls",
            "_model_module_version": "1.5.0",
            "_model_name": "HBoxModel",
            "_view_count": null,
            "_view_module": "@jupyter-widgets/controls",
            "_view_module_version": "1.5.0",
            "_view_name": "HBoxView",
            "box_style": "",
            "children": [
              "IPY_MODEL_104750de58184b8cb55a4fe1eedbb370",
              "IPY_MODEL_16fa8f6e4c344b4284cb126ff1595550",
              "IPY_MODEL_1b881be8cead4caa8508d3254d3ca7c3"
            ],
            "layout": "IPY_MODEL_606ab08f92bd43fb85bb79233493e374"
          }
        },
        "104750de58184b8cb55a4fe1eedbb370": {
          "model_module": "@jupyter-widgets/controls",
          "model_name": "HTMLModel",
          "model_module_version": "1.5.0",
          "state": {
            "_dom_classes": [],
            "_model_module": "@jupyter-widgets/controls",
            "_model_module_version": "1.5.0",
            "_model_name": "HTMLModel",
            "_view_count": null,
            "_view_module": "@jupyter-widgets/controls",
            "_view_module_version": "1.5.0",
            "_view_name": "HTMLView",
            "description": "",
            "description_tooltip": null,
            "layout": "IPY_MODEL_7bb053d31bc84d2c9e8fad35a699c6fc",
            "placeholder": "​",
            "style": "IPY_MODEL_b9ba2cc7e7b84f738b794b9c5aff419b",
            "value": "100%"
          }
        },
        "16fa8f6e4c344b4284cb126ff1595550": {
          "model_module": "@jupyter-widgets/controls",
          "model_name": "FloatProgressModel",
          "model_module_version": "1.5.0",
          "state": {
            "_dom_classes": [],
            "_model_module": "@jupyter-widgets/controls",
            "_model_module_version": "1.5.0",
            "_model_name": "FloatProgressModel",
            "_view_count": null,
            "_view_module": "@jupyter-widgets/controls",
            "_view_module_version": "1.5.0",
            "_view_name": "ProgressView",
            "bar_style": "success",
            "description": "",
            "description_tooltip": null,
            "layout": "IPY_MODEL_f046d01f47a04e62a39512fbbf7d9771",
            "max": 10,
            "min": 0,
            "orientation": "horizontal",
            "style": "IPY_MODEL_434f1f48c98543178ecc92b93d61142d",
            "value": 10
          }
        },
        "1b881be8cead4caa8508d3254d3ca7c3": {
          "model_module": "@jupyter-widgets/controls",
          "model_name": "HTMLModel",
          "model_module_version": "1.5.0",
          "state": {
            "_dom_classes": [],
            "_model_module": "@jupyter-widgets/controls",
            "_model_module_version": "1.5.0",
            "_model_name": "HTMLModel",
            "_view_count": null,
            "_view_module": "@jupyter-widgets/controls",
            "_view_module_version": "1.5.0",
            "_view_name": "HTMLView",
            "description": "",
            "description_tooltip": null,
            "layout": "IPY_MODEL_886d635073fb4af998e889fd1704744b",
            "placeholder": "​",
            "style": "IPY_MODEL_4ac996c9fbdc4730ba8f4b5447c61c08",
            "value": " 10/10 [00:01&lt;00:00,  5.25ba/s]"
          }
        },
        "606ab08f92bd43fb85bb79233493e374": {
          "model_module": "@jupyter-widgets/base",
          "model_name": "LayoutModel",
          "model_module_version": "1.2.0",
          "state": {
            "_model_module": "@jupyter-widgets/base",
            "_model_module_version": "1.2.0",
            "_model_name": "LayoutModel",
            "_view_count": null,
            "_view_module": "@jupyter-widgets/base",
            "_view_module_version": "1.2.0",
            "_view_name": "LayoutView",
            "align_content": null,
            "align_items": null,
            "align_self": null,
            "border": null,
            "bottom": null,
            "display": null,
            "flex": null,
            "flex_flow": null,
            "grid_area": null,
            "grid_auto_columns": null,
            "grid_auto_flow": null,
            "grid_auto_rows": null,
            "grid_column": null,
            "grid_gap": null,
            "grid_row": null,
            "grid_template_areas": null,
            "grid_template_columns": null,
            "grid_template_rows": null,
            "height": null,
            "justify_content": null,
            "justify_items": null,
            "left": null,
            "margin": null,
            "max_height": null,
            "max_width": null,
            "min_height": null,
            "min_width": null,
            "object_fit": null,
            "object_position": null,
            "order": null,
            "overflow": null,
            "overflow_x": null,
            "overflow_y": null,
            "padding": null,
            "right": null,
            "top": null,
            "visibility": null,
            "width": null
          }
        },
        "7bb053d31bc84d2c9e8fad35a699c6fc": {
          "model_module": "@jupyter-widgets/base",
          "model_name": "LayoutModel",
          "model_module_version": "1.2.0",
          "state": {
            "_model_module": "@jupyter-widgets/base",
            "_model_module_version": "1.2.0",
            "_model_name": "LayoutModel",
            "_view_count": null,
            "_view_module": "@jupyter-widgets/base",
            "_view_module_version": "1.2.0",
            "_view_name": "LayoutView",
            "align_content": null,
            "align_items": null,
            "align_self": null,
            "border": null,
            "bottom": null,
            "display": null,
            "flex": null,
            "flex_flow": null,
            "grid_area": null,
            "grid_auto_columns": null,
            "grid_auto_flow": null,
            "grid_auto_rows": null,
            "grid_column": null,
            "grid_gap": null,
            "grid_row": null,
            "grid_template_areas": null,
            "grid_template_columns": null,
            "grid_template_rows": null,
            "height": null,
            "justify_content": null,
            "justify_items": null,
            "left": null,
            "margin": null,
            "max_height": null,
            "max_width": null,
            "min_height": null,
            "min_width": null,
            "object_fit": null,
            "object_position": null,
            "order": null,
            "overflow": null,
            "overflow_x": null,
            "overflow_y": null,
            "padding": null,
            "right": null,
            "top": null,
            "visibility": null,
            "width": null
          }
        },
        "b9ba2cc7e7b84f738b794b9c5aff419b": {
          "model_module": "@jupyter-widgets/controls",
          "model_name": "DescriptionStyleModel",
          "model_module_version": "1.5.0",
          "state": {
            "_model_module": "@jupyter-widgets/controls",
            "_model_module_version": "1.5.0",
            "_model_name": "DescriptionStyleModel",
            "_view_count": null,
            "_view_module": "@jupyter-widgets/base",
            "_view_module_version": "1.2.0",
            "_view_name": "StyleView",
            "description_width": ""
          }
        },
        "f046d01f47a04e62a39512fbbf7d9771": {
          "model_module": "@jupyter-widgets/base",
          "model_name": "LayoutModel",
          "model_module_version": "1.2.0",
          "state": {
            "_model_module": "@jupyter-widgets/base",
            "_model_module_version": "1.2.0",
            "_model_name": "LayoutModel",
            "_view_count": null,
            "_view_module": "@jupyter-widgets/base",
            "_view_module_version": "1.2.0",
            "_view_name": "LayoutView",
            "align_content": null,
            "align_items": null,
            "align_self": null,
            "border": null,
            "bottom": null,
            "display": null,
            "flex": null,
            "flex_flow": null,
            "grid_area": null,
            "grid_auto_columns": null,
            "grid_auto_flow": null,
            "grid_auto_rows": null,
            "grid_column": null,
            "grid_gap": null,
            "grid_row": null,
            "grid_template_areas": null,
            "grid_template_columns": null,
            "grid_template_rows": null,
            "height": null,
            "justify_content": null,
            "justify_items": null,
            "left": null,
            "margin": null,
            "max_height": null,
            "max_width": null,
            "min_height": null,
            "min_width": null,
            "object_fit": null,
            "object_position": null,
            "order": null,
            "overflow": null,
            "overflow_x": null,
            "overflow_y": null,
            "padding": null,
            "right": null,
            "top": null,
            "visibility": null,
            "width": null
          }
        },
        "434f1f48c98543178ecc92b93d61142d": {
          "model_module": "@jupyter-widgets/controls",
          "model_name": "ProgressStyleModel",
          "model_module_version": "1.5.0",
          "state": {
            "_model_module": "@jupyter-widgets/controls",
            "_model_module_version": "1.5.0",
            "_model_name": "ProgressStyleModel",
            "_view_count": null,
            "_view_module": "@jupyter-widgets/base",
            "_view_module_version": "1.2.0",
            "_view_name": "StyleView",
            "bar_color": null,
            "description_width": ""
          }
        },
        "886d635073fb4af998e889fd1704744b": {
          "model_module": "@jupyter-widgets/base",
          "model_name": "LayoutModel",
          "model_module_version": "1.2.0",
          "state": {
            "_model_module": "@jupyter-widgets/base",
            "_model_module_version": "1.2.0",
            "_model_name": "LayoutModel",
            "_view_count": null,
            "_view_module": "@jupyter-widgets/base",
            "_view_module_version": "1.2.0",
            "_view_name": "LayoutView",
            "align_content": null,
            "align_items": null,
            "align_self": null,
            "border": null,
            "bottom": null,
            "display": null,
            "flex": null,
            "flex_flow": null,
            "grid_area": null,
            "grid_auto_columns": null,
            "grid_auto_flow": null,
            "grid_auto_rows": null,
            "grid_column": null,
            "grid_gap": null,
            "grid_row": null,
            "grid_template_areas": null,
            "grid_template_columns": null,
            "grid_template_rows": null,
            "height": null,
            "justify_content": null,
            "justify_items": null,
            "left": null,
            "margin": null,
            "max_height": null,
            "max_width": null,
            "min_height": null,
            "min_width": null,
            "object_fit": null,
            "object_position": null,
            "order": null,
            "overflow": null,
            "overflow_x": null,
            "overflow_y": null,
            "padding": null,
            "right": null,
            "top": null,
            "visibility": null,
            "width": null
          }
        },
        "4ac996c9fbdc4730ba8f4b5447c61c08": {
          "model_module": "@jupyter-widgets/controls",
          "model_name": "DescriptionStyleModel",
          "model_module_version": "1.5.0",
          "state": {
            "_model_module": "@jupyter-widgets/controls",
            "_model_module_version": "1.5.0",
            "_model_name": "DescriptionStyleModel",
            "_view_count": null,
            "_view_module": "@jupyter-widgets/base",
            "_view_module_version": "1.2.0",
            "_view_name": "StyleView",
            "description_width": ""
          }
        },
        "15d6ca3930cf45e4bd4b6e2e3ad026dc": {
          "model_module": "@jupyter-widgets/controls",
          "model_name": "HBoxModel",
          "model_module_version": "1.5.0",
          "state": {
            "_dom_classes": [],
            "_model_module": "@jupyter-widgets/controls",
            "_model_module_version": "1.5.0",
            "_model_name": "HBoxModel",
            "_view_count": null,
            "_view_module": "@jupyter-widgets/controls",
            "_view_module_version": "1.5.0",
            "_view_name": "HBoxView",
            "box_style": "",
            "children": [
              "IPY_MODEL_8c1bdb746d454562bee34d8db6e26e6c",
              "IPY_MODEL_01083aea7ca841aeaadb8a99b4b591d6",
              "IPY_MODEL_1b7b209d549f423faa96b63d5bfbf3cc"
            ],
            "layout": "IPY_MODEL_57cb373697f64c479a942d459507cc1c"
          }
        },
        "8c1bdb746d454562bee34d8db6e26e6c": {
          "model_module": "@jupyter-widgets/controls",
          "model_name": "HTMLModel",
          "model_module_version": "1.5.0",
          "state": {
            "_dom_classes": [],
            "_model_module": "@jupyter-widgets/controls",
            "_model_module_version": "1.5.0",
            "_model_name": "HTMLModel",
            "_view_count": null,
            "_view_module": "@jupyter-widgets/controls",
            "_view_module_version": "1.5.0",
            "_view_name": "HTMLView",
            "description": "",
            "description_tooltip": null,
            "layout": "IPY_MODEL_00fc0178a1064e28aa8c35346778288e",
            "placeholder": "​",
            "style": "IPY_MODEL_250e4aa07a1845578d2ac7642c0b8aa9",
            "value": "100%"
          }
        },
        "01083aea7ca841aeaadb8a99b4b591d6": {
          "model_module": "@jupyter-widgets/controls",
          "model_name": "FloatProgressModel",
          "model_module_version": "1.5.0",
          "state": {
            "_dom_classes": [],
            "_model_module": "@jupyter-widgets/controls",
            "_model_module_version": "1.5.0",
            "_model_name": "FloatProgressModel",
            "_view_count": null,
            "_view_module": "@jupyter-widgets/controls",
            "_view_module_version": "1.5.0",
            "_view_name": "ProgressView",
            "bar_style": "success",
            "description": "",
            "description_tooltip": null,
            "layout": "IPY_MODEL_e2b1866a034e431381dea777aab02950",
            "max": 10,
            "min": 0,
            "orientation": "horizontal",
            "style": "IPY_MODEL_63ad20ad55e641b9a16ec5cc7dce1492",
            "value": 10
          }
        },
        "1b7b209d549f423faa96b63d5bfbf3cc": {
          "model_module": "@jupyter-widgets/controls",
          "model_name": "HTMLModel",
          "model_module_version": "1.5.0",
          "state": {
            "_dom_classes": [],
            "_model_module": "@jupyter-widgets/controls",
            "_model_module_version": "1.5.0",
            "_model_name": "HTMLModel",
            "_view_count": null,
            "_view_module": "@jupyter-widgets/controls",
            "_view_module_version": "1.5.0",
            "_view_name": "HTMLView",
            "description": "",
            "description_tooltip": null,
            "layout": "IPY_MODEL_e7cb36c95a3148418bab5c8955a16d4b",
            "placeholder": "​",
            "style": "IPY_MODEL_fe6224afc95d4bd490ec43107eb397de",
            "value": " 10/10 [00:01&lt;00:00,  5.38ba/s]"
          }
        },
        "57cb373697f64c479a942d459507cc1c": {
          "model_module": "@jupyter-widgets/base",
          "model_name": "LayoutModel",
          "model_module_version": "1.2.0",
          "state": {
            "_model_module": "@jupyter-widgets/base",
            "_model_module_version": "1.2.0",
            "_model_name": "LayoutModel",
            "_view_count": null,
            "_view_module": "@jupyter-widgets/base",
            "_view_module_version": "1.2.0",
            "_view_name": "LayoutView",
            "align_content": null,
            "align_items": null,
            "align_self": null,
            "border": null,
            "bottom": null,
            "display": null,
            "flex": null,
            "flex_flow": null,
            "grid_area": null,
            "grid_auto_columns": null,
            "grid_auto_flow": null,
            "grid_auto_rows": null,
            "grid_column": null,
            "grid_gap": null,
            "grid_row": null,
            "grid_template_areas": null,
            "grid_template_columns": null,
            "grid_template_rows": null,
            "height": null,
            "justify_content": null,
            "justify_items": null,
            "left": null,
            "margin": null,
            "max_height": null,
            "max_width": null,
            "min_height": null,
            "min_width": null,
            "object_fit": null,
            "object_position": null,
            "order": null,
            "overflow": null,
            "overflow_x": null,
            "overflow_y": null,
            "padding": null,
            "right": null,
            "top": null,
            "visibility": null,
            "width": null
          }
        },
        "00fc0178a1064e28aa8c35346778288e": {
          "model_module": "@jupyter-widgets/base",
          "model_name": "LayoutModel",
          "model_module_version": "1.2.0",
          "state": {
            "_model_module": "@jupyter-widgets/base",
            "_model_module_version": "1.2.0",
            "_model_name": "LayoutModel",
            "_view_count": null,
            "_view_module": "@jupyter-widgets/base",
            "_view_module_version": "1.2.0",
            "_view_name": "LayoutView",
            "align_content": null,
            "align_items": null,
            "align_self": null,
            "border": null,
            "bottom": null,
            "display": null,
            "flex": null,
            "flex_flow": null,
            "grid_area": null,
            "grid_auto_columns": null,
            "grid_auto_flow": null,
            "grid_auto_rows": null,
            "grid_column": null,
            "grid_gap": null,
            "grid_row": null,
            "grid_template_areas": null,
            "grid_template_columns": null,
            "grid_template_rows": null,
            "height": null,
            "justify_content": null,
            "justify_items": null,
            "left": null,
            "margin": null,
            "max_height": null,
            "max_width": null,
            "min_height": null,
            "min_width": null,
            "object_fit": null,
            "object_position": null,
            "order": null,
            "overflow": null,
            "overflow_x": null,
            "overflow_y": null,
            "padding": null,
            "right": null,
            "top": null,
            "visibility": null,
            "width": null
          }
        },
        "250e4aa07a1845578d2ac7642c0b8aa9": {
          "model_module": "@jupyter-widgets/controls",
          "model_name": "DescriptionStyleModel",
          "model_module_version": "1.5.0",
          "state": {
            "_model_module": "@jupyter-widgets/controls",
            "_model_module_version": "1.5.0",
            "_model_name": "DescriptionStyleModel",
            "_view_count": null,
            "_view_module": "@jupyter-widgets/base",
            "_view_module_version": "1.2.0",
            "_view_name": "StyleView",
            "description_width": ""
          }
        },
        "e2b1866a034e431381dea777aab02950": {
          "model_module": "@jupyter-widgets/base",
          "model_name": "LayoutModel",
          "model_module_version": "1.2.0",
          "state": {
            "_model_module": "@jupyter-widgets/base",
            "_model_module_version": "1.2.0",
            "_model_name": "LayoutModel",
            "_view_count": null,
            "_view_module": "@jupyter-widgets/base",
            "_view_module_version": "1.2.0",
            "_view_name": "LayoutView",
            "align_content": null,
            "align_items": null,
            "align_self": null,
            "border": null,
            "bottom": null,
            "display": null,
            "flex": null,
            "flex_flow": null,
            "grid_area": null,
            "grid_auto_columns": null,
            "grid_auto_flow": null,
            "grid_auto_rows": null,
            "grid_column": null,
            "grid_gap": null,
            "grid_row": null,
            "grid_template_areas": null,
            "grid_template_columns": null,
            "grid_template_rows": null,
            "height": null,
            "justify_content": null,
            "justify_items": null,
            "left": null,
            "margin": null,
            "max_height": null,
            "max_width": null,
            "min_height": null,
            "min_width": null,
            "object_fit": null,
            "object_position": null,
            "order": null,
            "overflow": null,
            "overflow_x": null,
            "overflow_y": null,
            "padding": null,
            "right": null,
            "top": null,
            "visibility": null,
            "width": null
          }
        },
        "63ad20ad55e641b9a16ec5cc7dce1492": {
          "model_module": "@jupyter-widgets/controls",
          "model_name": "ProgressStyleModel",
          "model_module_version": "1.5.0",
          "state": {
            "_model_module": "@jupyter-widgets/controls",
            "_model_module_version": "1.5.0",
            "_model_name": "ProgressStyleModel",
            "_view_count": null,
            "_view_module": "@jupyter-widgets/base",
            "_view_module_version": "1.2.0",
            "_view_name": "StyleView",
            "bar_color": null,
            "description_width": ""
          }
        },
        "e7cb36c95a3148418bab5c8955a16d4b": {
          "model_module": "@jupyter-widgets/base",
          "model_name": "LayoutModel",
          "model_module_version": "1.2.0",
          "state": {
            "_model_module": "@jupyter-widgets/base",
            "_model_module_version": "1.2.0",
            "_model_name": "LayoutModel",
            "_view_count": null,
            "_view_module": "@jupyter-widgets/base",
            "_view_module_version": "1.2.0",
            "_view_name": "LayoutView",
            "align_content": null,
            "align_items": null,
            "align_self": null,
            "border": null,
            "bottom": null,
            "display": null,
            "flex": null,
            "flex_flow": null,
            "grid_area": null,
            "grid_auto_columns": null,
            "grid_auto_flow": null,
            "grid_auto_rows": null,
            "grid_column": null,
            "grid_gap": null,
            "grid_row": null,
            "grid_template_areas": null,
            "grid_template_columns": null,
            "grid_template_rows": null,
            "height": null,
            "justify_content": null,
            "justify_items": null,
            "left": null,
            "margin": null,
            "max_height": null,
            "max_width": null,
            "min_height": null,
            "min_width": null,
            "object_fit": null,
            "object_position": null,
            "order": null,
            "overflow": null,
            "overflow_x": null,
            "overflow_y": null,
            "padding": null,
            "right": null,
            "top": null,
            "visibility": null,
            "width": null
          }
        },
        "fe6224afc95d4bd490ec43107eb397de": {
          "model_module": "@jupyter-widgets/controls",
          "model_name": "DescriptionStyleModel",
          "model_module_version": "1.5.0",
          "state": {
            "_model_module": "@jupyter-widgets/controls",
            "_model_module_version": "1.5.0",
            "_model_name": "DescriptionStyleModel",
            "_view_count": null,
            "_view_module": "@jupyter-widgets/base",
            "_view_module_version": "1.2.0",
            "_view_name": "StyleView",
            "description_width": ""
          }
        },
        "a17906119e1448b7be63d630865339bb": {
          "model_module": "@jupyter-widgets/controls",
          "model_name": "HBoxModel",
          "model_module_version": "1.5.0",
          "state": {
            "_dom_classes": [],
            "_model_module": "@jupyter-widgets/controls",
            "_model_module_version": "1.5.0",
            "_model_name": "HBoxModel",
            "_view_count": null,
            "_view_module": "@jupyter-widgets/controls",
            "_view_module_version": "1.5.0",
            "_view_name": "HBoxView",
            "box_style": "",
            "children": [
              "IPY_MODEL_136f3ee66d1e4a4cb42faaa932fc783e",
              "IPY_MODEL_8a52cd8e6e3246b099c4c643ffc3f60b",
              "IPY_MODEL_3f1bf10af6964bb0a7ea2a68c248ee1c"
            ],
            "layout": "IPY_MODEL_2d233236b1d245b78f45741338f04bb8"
          }
        },
        "136f3ee66d1e4a4cb42faaa932fc783e": {
          "model_module": "@jupyter-widgets/controls",
          "model_name": "HTMLModel",
          "model_module_version": "1.5.0",
          "state": {
            "_dom_classes": [],
            "_model_module": "@jupyter-widgets/controls",
            "_model_module_version": "1.5.0",
            "_model_name": "HTMLModel",
            "_view_count": null,
            "_view_module": "@jupyter-widgets/controls",
            "_view_module_version": "1.5.0",
            "_view_name": "HTMLView",
            "description": "",
            "description_tooltip": null,
            "layout": "IPY_MODEL_f6cd4043fcf64bbba8862518d50abe2a",
            "placeholder": "​",
            "style": "IPY_MODEL_54a45be179a345dda34d1af3419ab03f",
            "value": "100%"
          }
        },
        "8a52cd8e6e3246b099c4c643ffc3f60b": {
          "model_module": "@jupyter-widgets/controls",
          "model_name": "FloatProgressModel",
          "model_module_version": "1.5.0",
          "state": {
            "_dom_classes": [],
            "_model_module": "@jupyter-widgets/controls",
            "_model_module_version": "1.5.0",
            "_model_name": "FloatProgressModel",
            "_view_count": null,
            "_view_module": "@jupyter-widgets/controls",
            "_view_module_version": "1.5.0",
            "_view_name": "ProgressView",
            "bar_style": "success",
            "description": "",
            "description_tooltip": null,
            "layout": "IPY_MODEL_0405988d699641b787c5ccc677ffea89",
            "max": 10,
            "min": 0,
            "orientation": "horizontal",
            "style": "IPY_MODEL_840629d11c80486982fbbea50f2fc1a7",
            "value": 10
          }
        },
        "3f1bf10af6964bb0a7ea2a68c248ee1c": {
          "model_module": "@jupyter-widgets/controls",
          "model_name": "HTMLModel",
          "model_module_version": "1.5.0",
          "state": {
            "_dom_classes": [],
            "_model_module": "@jupyter-widgets/controls",
            "_model_module_version": "1.5.0",
            "_model_name": "HTMLModel",
            "_view_count": null,
            "_view_module": "@jupyter-widgets/controls",
            "_view_module_version": "1.5.0",
            "_view_name": "HTMLView",
            "description": "",
            "description_tooltip": null,
            "layout": "IPY_MODEL_c887082d3ea14ec599eaba24a500e89b",
            "placeholder": "​",
            "style": "IPY_MODEL_6f349e7c460d461e86343b21087a1c5a",
            "value": " 10/10 [00:01&lt;00:00,  5.27ba/s]"
          }
        },
        "2d233236b1d245b78f45741338f04bb8": {
          "model_module": "@jupyter-widgets/base",
          "model_name": "LayoutModel",
          "model_module_version": "1.2.0",
          "state": {
            "_model_module": "@jupyter-widgets/base",
            "_model_module_version": "1.2.0",
            "_model_name": "LayoutModel",
            "_view_count": null,
            "_view_module": "@jupyter-widgets/base",
            "_view_module_version": "1.2.0",
            "_view_name": "LayoutView",
            "align_content": null,
            "align_items": null,
            "align_self": null,
            "border": null,
            "bottom": null,
            "display": null,
            "flex": null,
            "flex_flow": null,
            "grid_area": null,
            "grid_auto_columns": null,
            "grid_auto_flow": null,
            "grid_auto_rows": null,
            "grid_column": null,
            "grid_gap": null,
            "grid_row": null,
            "grid_template_areas": null,
            "grid_template_columns": null,
            "grid_template_rows": null,
            "height": null,
            "justify_content": null,
            "justify_items": null,
            "left": null,
            "margin": null,
            "max_height": null,
            "max_width": null,
            "min_height": null,
            "min_width": null,
            "object_fit": null,
            "object_position": null,
            "order": null,
            "overflow": null,
            "overflow_x": null,
            "overflow_y": null,
            "padding": null,
            "right": null,
            "top": null,
            "visibility": null,
            "width": null
          }
        },
        "f6cd4043fcf64bbba8862518d50abe2a": {
          "model_module": "@jupyter-widgets/base",
          "model_name": "LayoutModel",
          "model_module_version": "1.2.0",
          "state": {
            "_model_module": "@jupyter-widgets/base",
            "_model_module_version": "1.2.0",
            "_model_name": "LayoutModel",
            "_view_count": null,
            "_view_module": "@jupyter-widgets/base",
            "_view_module_version": "1.2.0",
            "_view_name": "LayoutView",
            "align_content": null,
            "align_items": null,
            "align_self": null,
            "border": null,
            "bottom": null,
            "display": null,
            "flex": null,
            "flex_flow": null,
            "grid_area": null,
            "grid_auto_columns": null,
            "grid_auto_flow": null,
            "grid_auto_rows": null,
            "grid_column": null,
            "grid_gap": null,
            "grid_row": null,
            "grid_template_areas": null,
            "grid_template_columns": null,
            "grid_template_rows": null,
            "height": null,
            "justify_content": null,
            "justify_items": null,
            "left": null,
            "margin": null,
            "max_height": null,
            "max_width": null,
            "min_height": null,
            "min_width": null,
            "object_fit": null,
            "object_position": null,
            "order": null,
            "overflow": null,
            "overflow_x": null,
            "overflow_y": null,
            "padding": null,
            "right": null,
            "top": null,
            "visibility": null,
            "width": null
          }
        },
        "54a45be179a345dda34d1af3419ab03f": {
          "model_module": "@jupyter-widgets/controls",
          "model_name": "DescriptionStyleModel",
          "model_module_version": "1.5.0",
          "state": {
            "_model_module": "@jupyter-widgets/controls",
            "_model_module_version": "1.5.0",
            "_model_name": "DescriptionStyleModel",
            "_view_count": null,
            "_view_module": "@jupyter-widgets/base",
            "_view_module_version": "1.2.0",
            "_view_name": "StyleView",
            "description_width": ""
          }
        },
        "0405988d699641b787c5ccc677ffea89": {
          "model_module": "@jupyter-widgets/base",
          "model_name": "LayoutModel",
          "model_module_version": "1.2.0",
          "state": {
            "_model_module": "@jupyter-widgets/base",
            "_model_module_version": "1.2.0",
            "_model_name": "LayoutModel",
            "_view_count": null,
            "_view_module": "@jupyter-widgets/base",
            "_view_module_version": "1.2.0",
            "_view_name": "LayoutView",
            "align_content": null,
            "align_items": null,
            "align_self": null,
            "border": null,
            "bottom": null,
            "display": null,
            "flex": null,
            "flex_flow": null,
            "grid_area": null,
            "grid_auto_columns": null,
            "grid_auto_flow": null,
            "grid_auto_rows": null,
            "grid_column": null,
            "grid_gap": null,
            "grid_row": null,
            "grid_template_areas": null,
            "grid_template_columns": null,
            "grid_template_rows": null,
            "height": null,
            "justify_content": null,
            "justify_items": null,
            "left": null,
            "margin": null,
            "max_height": null,
            "max_width": null,
            "min_height": null,
            "min_width": null,
            "object_fit": null,
            "object_position": null,
            "order": null,
            "overflow": null,
            "overflow_x": null,
            "overflow_y": null,
            "padding": null,
            "right": null,
            "top": null,
            "visibility": null,
            "width": null
          }
        },
        "840629d11c80486982fbbea50f2fc1a7": {
          "model_module": "@jupyter-widgets/controls",
          "model_name": "ProgressStyleModel",
          "model_module_version": "1.5.0",
          "state": {
            "_model_module": "@jupyter-widgets/controls",
            "_model_module_version": "1.5.0",
            "_model_name": "ProgressStyleModel",
            "_view_count": null,
            "_view_module": "@jupyter-widgets/base",
            "_view_module_version": "1.2.0",
            "_view_name": "StyleView",
            "bar_color": null,
            "description_width": ""
          }
        },
        "c887082d3ea14ec599eaba24a500e89b": {
          "model_module": "@jupyter-widgets/base",
          "model_name": "LayoutModel",
          "model_module_version": "1.2.0",
          "state": {
            "_model_module": "@jupyter-widgets/base",
            "_model_module_version": "1.2.0",
            "_model_name": "LayoutModel",
            "_view_count": null,
            "_view_module": "@jupyter-widgets/base",
            "_view_module_version": "1.2.0",
            "_view_name": "LayoutView",
            "align_content": null,
            "align_items": null,
            "align_self": null,
            "border": null,
            "bottom": null,
            "display": null,
            "flex": null,
            "flex_flow": null,
            "grid_area": null,
            "grid_auto_columns": null,
            "grid_auto_flow": null,
            "grid_auto_rows": null,
            "grid_column": null,
            "grid_gap": null,
            "grid_row": null,
            "grid_template_areas": null,
            "grid_template_columns": null,
            "grid_template_rows": null,
            "height": null,
            "justify_content": null,
            "justify_items": null,
            "left": null,
            "margin": null,
            "max_height": null,
            "max_width": null,
            "min_height": null,
            "min_width": null,
            "object_fit": null,
            "object_position": null,
            "order": null,
            "overflow": null,
            "overflow_x": null,
            "overflow_y": null,
            "padding": null,
            "right": null,
            "top": null,
            "visibility": null,
            "width": null
          }
        },
        "6f349e7c460d461e86343b21087a1c5a": {
          "model_module": "@jupyter-widgets/controls",
          "model_name": "DescriptionStyleModel",
          "model_module_version": "1.5.0",
          "state": {
            "_model_module": "@jupyter-widgets/controls",
            "_model_module_version": "1.5.0",
            "_model_name": "DescriptionStyleModel",
            "_view_count": null,
            "_view_module": "@jupyter-widgets/base",
            "_view_module_version": "1.2.0",
            "_view_name": "StyleView",
            "description_width": ""
          }
        }
      }
    }
  },
  "cells": [
    {
      "cell_type": "markdown",
      "source": [
        "##HuggingFace 커스텀 프로젝트 만들기"
      ],
      "metadata": {
        "id": "utIBHuY949tO"
      }
    },
    {
      "cell_type": "markdown",
      "source": [
        ""
      ],
      "metadata": {
        "id": "ZVIGFXXxCa6D"
      }
    },
    {
      "cell_type": "markdown",
      "source": [
        "HuggingFrace Framework\n",
        "<br/>Development Environment\n",
        "<br/>KcBERT-base MLM Finetune\n",
        "<br/>bert-base-cased MRPC Finetune\n",
        "<br/>bert-base-uncased MRPC Finetune\n",
        "<br/>bert_uncased_L-12_H-768_A-12 MRPC Finetune\n",
        "<br/>Debugging"
      ],
      "metadata": {
        "id": "m8OFE7rG5K4u"
      }
    },
    {
      "cell_type": "markdown",
      "source": [
        "Transformer Pipeline\n",
        "<br/>Text generation\n",
        "<br/>Sentiment analysis\n",
        "<br/>Question Answering\n",
        "<br/>Text prediction\n",
        "<br/>Text Summarization\n",
        "<br/>Translation\n",
        "<br/>Zero-Shot Learning"
      ],
      "metadata": {
        "id": "zt_4waePcxRK"
      }
    },
    {
      "cell_type": "markdown",
      "source": [
        "HuggingFrace MNLI Custom Project\n",
        "<br/>개발 환경\n",
        "<br/>데이터 정보\n",
        "<br/>Processor\n",
        "<br/>Huggingface Dataset"
      ],
      "metadata": {
        "id": "zJlN_FMGcysV"
      }
    },
    {
      "cell_type": "markdown",
      "source": [
        "모델 구성\n",
        "<br/>Tokenizer & Model\n",
        "<br/>Huggingface Auto Classes\n",
        "<br/>Tokenizing"
      ],
      "metadata": {
        "id": "Vh971A0Hc0sT"
      }
    },
    {
      "cell_type": "markdown",
      "source": [
        "Keras Moodel\n",
        "<br/>Huggingface Trainer\n",
        "<br/>결론\n",
        "<br/>참고문헌\n"
      ],
      "metadata": {
        "id": "9FvV9oVic2Vy"
      }
    },
    {
      "cell_type": "markdown",
      "source": [
        ""
      ],
      "metadata": {
        "id": "6As6CrkL5LX8"
      }
    },
    {
      "cell_type": "markdown",
      "source": [
        "#HuggingFrace Framework"
      ],
      "metadata": {
        "id": "7xjWFThv5LaW"
      }
    },
    {
      "cell_type": "markdown",
      "source": [
        "##Development Environment"
      ],
      "metadata": {
        "id": "ScTbhJ8qWMXt"
      }
    },
    {
      "cell_type": "code",
      "source": [
        "import os\n",
        "import sys\n",
        "import json\n",
        "import warnings\n",
        "warnings.filterwarnings(\"ignore\")"
      ],
      "metadata": {
        "id": "pWAh3OF8Kk49"
      },
      "execution_count": null,
      "outputs": []
    },
    {
      "cell_type": "code",
      "source": [
        "import pandas as pd\n",
        "from urllib import request\n",
        "from IPython.display import HTML\n",
        "from IPython.display import display"
      ],
      "metadata": {
        "id": "U3hVycswKxKN"
      },
      "execution_count": null,
      "outputs": []
    },
    {
      "cell_type": "code",
      "source": [
        "from google.colab import drive\n",
        "drive.mount('/content/drive')"
      ],
      "metadata": {
        "id": "czrUAdAAaj01"
      },
      "execution_count": null,
      "outputs": []
    },
    {
      "cell_type": "code",
      "source": [
        "gpu_info = !nvidia-smi\n",
        "gpu_info = '\\n'.join(gpu_info)\n",
        "if gpu_info.find('failed') >= 0:\n",
        "  print('Not connected to a GPU')\n",
        "else:\n",
        "  print(gpu_info)"
      ],
      "metadata": {
        "id": "s533AUkpWEOW"
      },
      "execution_count": null,
      "outputs": []
    },
    {
      "cell_type": "code",
      "source": [
        "from psutil import virtual_memory\n",
        "ram_gb = virtual_memory().total / 1e9\n",
        "print('Your runtime has {:.1f} gigabytes of available RAM\\n'.format(ram_gb))\n",
        "\n",
        "if ram_gb < 20:\n",
        "  print('Not using a high-RAM runtime')\n",
        "else:\n",
        "  print('You are using a high-RAM runtime!')"
      ],
      "metadata": {
        "id": "N6-n5BYhWERO"
      },
      "execution_count": null,
      "outputs": []
    },
    {
      "cell_type": "markdown",
      "source": [
        "##KcBERT-base MLM Finetune"
      ],
      "metadata": {
        "id": "jt9axT-oI5uH"
      }
    },
    {
      "cell_type": "markdown",
      "source": [
        "[Beomi/2021-03-15-kcbert-mlm-finetune-with-petition-dataset.ipynb](https://gist.github.com/Beomi/972c6442a9c15a22dfd1903d0bb0f577)"
      ],
      "metadata": {
        "id": "J5EhqsSpQil-"
      }
    },
    {
      "cell_type": "code",
      "source": [
        "cd drive/MyDrive/lms/huggingface_glue_task"
      ],
      "metadata": {
        "id": "p-ZenYWDdIFt"
      },
      "execution_count": null,
      "outputs": []
    },
    {
      "cell_type": "code",
      "source": [
        "!pip install -q Korpora soynlp \"kss<2.6\" transformers \"datasets >= 1.1.3\" \"sentencepiece != 0.1.92\" protobuf"
      ],
      "metadata": {
        "id": "njHQXu1LEL5f"
      },
      "execution_count": null,
      "outputs": []
    },
    {
      "cell_type": "code",
      "source": [
        "import re\n",
        "from Korpora import Korpora\n",
        "from glob import glob\n",
        "from tqdm.auto import tqdm\n",
        "from soynlp.normalizer import repeat_normalize\n",
        "from kss import split_sentences"
      ],
      "metadata": {
        "id": "gSVaGqDjECb5"
      },
      "execution_count": null,
      "outputs": []
    },
    {
      "cell_type": "code",
      "source": [
        "Korpora.fetch('korean_petitions', root_dir='data/Korpora')\n",
        "dataset = glob('data/Korpora/korean_petitions/petitions*')"
      ],
      "metadata": {
        "id": "6hbfD-SpL7Rf"
      },
      "execution_count": null,
      "outputs": []
    },
    {
      "cell_type": "code",
      "source": [
        "df = pd.concat([pd.read_json(i, lines=True) for i in tqdm(dataset)])\n",
        "agreed_df = df[df['num_agree'] > 1000]\n",
        "\n",
        "pattern = re.compile(f'[^ .,?!/@$%~％·∼()\\x00-\\x7Fㄱ-ㅣ가-힣]+')\n",
        "url_pattern = re.compile(\n",
        "    r'https?:\\/\\/(www\\.)?[-a-zA-Z0-9@:%._\\+~#=]{1,256}\\.[a-zA-Z0-9()]{1,6}\\b([-a-zA-Z0-9()@:%_\\+.~#?&//=]*)')\n",
        "\n",
        "def clean(x):\n",
        "    x = pattern.sub(' ', x)\n",
        "    x = url_pattern.sub('', x)\n",
        "    x = x.strip()\n",
        "    x = repeat_normalize(x, num_repeats=2)\n",
        "    return x\n",
        "\n",
        "contents = agreed_df['content'].map(clean).to_list()\n",
        "\n",
        "with open('data/korean_petitions_safe.txt', 'w') as f:\n",
        "    for doc in tqdm(contents):\n",
        "        if doc:\n",
        "            for line in split_sentences(doc):\n",
        "                f.write(line+'\\n')\n",
        "            f.write('\\n')\n",
        "    f.close()"
      ],
      "metadata": {
        "colab": {
          "base_uri": "https://localhost:8080/",
          "height": 81,
          "referenced_widgets": [
            "c5841ed6fda74347a5183794d3b1959a",
            "d308088b34554da9ad715648b384e2c7",
            "f517c24d3777498985a7252991cca9e2",
            "490df62fdf0f4f59ae1df1d594649cce",
            "64b3295318fa4ca6b7ad54675d318a22",
            "2eff3554e4a54487ba94de010aaacd04",
            "2ae680ee486f4d40aeaf6a8d99f28531",
            "3d0206f8c334448598cdb025563ffb52",
            "6976b7ba51b940debf862ddcd15f20a9",
            "cc69f18d021248838f381811dcd0df3f",
            "88e88b7199f24f30a21160294c71e36b",
            "d9133ae31b3243c88d3369252f3df7fd",
            "65dd4cdf45574124a6c5b72a35203eef",
            "8999ab9aca474b7e8f42a20a90c71b5f",
            "153c0bf835824f06a6e3537bb6510c50",
            "609796745eb04143bd00834f3ecc3d06",
            "73f0bb55d2f4494aad37ce24244ee42e",
            "32062185de654b53b40e52a94f8a46ff",
            "7be575ee2d024d5b992714f94f718ba5",
            "c00207f2ba0e4d6ba2ca9ee127b1ae6c",
            "2c54f7eab4be475ba97a70cd7ca90af1",
            "8ede3bddf43e4ab89e3b50c1eefaf82e"
          ]
        },
        "id": "MC3aVPIMFBPG",
        "outputId": "68d3dbe8-9993-4c11-955c-d322b0928dc0"
      },
      "execution_count": null,
      "outputs": [
        {
          "output_type": "display_data",
          "data": {
            "text/plain": [
              "  0%|          | 0/20 [00:00<?, ?it/s]"
            ],
            "application/vnd.jupyter.widget-view+json": {
              "version_major": 2,
              "version_minor": 0,
              "model_id": "c5841ed6fda74347a5183794d3b1959a"
            }
          },
          "metadata": {}
        },
        {
          "output_type": "display_data",
          "data": {
            "text/plain": [
              "  0%|          | 0/3704 [00:00<?, ?it/s]"
            ],
            "application/vnd.jupyter.widget-view+json": {
              "version_major": 2,
              "version_minor": 0,
              "model_id": "d9133ae31b3243c88d3369252f3df7fd"
            }
          },
          "metadata": {}
        }
      ]
    },
    {
      "cell_type": "markdown",
      "source": [
        "[Error in google colab(python) while transliterating data into Indian language](https://stackoverflow.com/questions/73024976/error-in-google-colabpython-while-transliterating-data-into-indian-language)"
      ],
      "metadata": {
        "id": "OGGUVjVmMrVY"
      }
    },
    {
      "cell_type": "markdown",
      "source": [
        "AttributeError: module 'emoji' has no attribute 'UNICODE_EMOJI'\n",
        "<br/>AttributeError로 인해 emoji가 작동하지 않아\n",
        "<br/>데이터 전처리 과정에서 emoji를 실행하는 이모티콘 전처리 과정을 생략했다."
      ],
      "metadata": {
        "id": "Nq2LDoiEIxP4"
      }
    },
    {
      "cell_type": "code",
      "source": [
        "!wget -O kcbert_base_mlm/run_mlm.py https://raw.githubusercontent.com/huggingface/transformers/72aee83ced5f31302c5e331d896412737287f976/examples/pytorch/language-modeling/run_mlm.py"
      ],
      "metadata": {
        "id": "AHisd2-vJr-g"
      },
      "execution_count": null,
      "outputs": []
    },
    {
      "cell_type": "code",
      "source": [
        "!python kcbert_base_mlm/run_mlm.py \\\n",
        "    --model_name_or_path beomi/kcbert-base \\\n",
        "    --train_file data/korean_petitions_safe.txt \\\n",
        "    --do_train \\\n",
        "    --output_dir kcbert_base_mlm/test_mlm"
      ],
      "metadata": {
        "id": "vGy7CJPxOSHW"
      },
      "execution_count": null,
      "outputs": []
    },
    {
      "cell_type": "markdown",
      "source": [
        "모델 [beomi/kcbert-base](https://huggingface.co/beomi/kcbert-base)를 사용한다."
      ],
      "metadata": {
        "id": "Pg7NIOVrSRaK"
      }
    },
    {
      "cell_type": "code",
      "source": [
        "def read_model_result_json(json_path):\n",
        "    with open(json_path, 'r') as f:\n",
        "        json_data = json.load(f)\n",
        "    return json_data"
      ],
      "metadata": {
        "id": "EiYkC4wobQ0j"
      },
      "execution_count": null,
      "outputs": []
    },
    {
      "cell_type": "code",
      "source": [
        "CSS = \"\"\".output {flex-direction: row;}\"\"\"\n",
        "HTML('<style>{}</style>'.format(CSS))\n",
        "\n",
        "json_path_list = ['kcbert_base_mlm/test_mlm/trainer_state.json', 'kcbert_base_mlm/test_mlm/train_results.json', \n",
        "                  'kcbert_base_mlm/test_mlm/config.json', 'kcbert_base_mlm/test_mlm/tokenizer_config.json']\n",
        "\n",
        "for i in json_path_list:\n",
        "  if 'trainer_state' in i:\n",
        "      json_data = read_model_result_json(i)\n",
        "      log_history_df = pd.DataFrame.from_dict(json_data['log_history']).fillna(\" \")\n",
        "  elif 'train_results' in i:\n",
        "      json_data = read_model_result_json(i)\n",
        "      train_results_df = pd.DataFrame([json_data])\n",
        "  elif '/config' in i:\n",
        "      json_data = read_model_result_json(i)\n",
        "      config_json_df = pd.DataFrame.from_dict(json_data)\n",
        "  elif 'tokenizer_config' in i:\n",
        "      json_data = read_model_result_json(i)\n",
        "      tokenizer_config_df = pd.DataFrame([json_data])\n",
        "\n",
        "display(log_history_df)\n",
        "print(\"\\n\" * 2)\n",
        "display(train_results_df)\n",
        "print(\"\\n\"* 2)\n",
        "display(config_json_df)\n",
        "print(\"\\n\"* 2)\n",
        "display(tokenizer_config_df)"
      ],
      "metadata": {
        "colab": {
          "base_uri": "https://localhost:8080/",
          "height": 722
        },
        "id": "5U0eTJABRsMH",
        "outputId": "d572dee0-6e6e-47ad-c455-1b6bcd927d58"
      },
      "execution_count": null,
      "outputs": [
        {
          "output_type": "display_data",
          "data": {
            "text/plain": [
              "   epoch learning_rate    loss  step          total_flos train_loss  \\\n",
              "0   0.58       0.00004  2.6954   500                                  \n",
              "1   1.17      0.000031  2.6017  1000                                  \n",
              "2   1.75      0.000021  2.4854  1500                                  \n",
              "3   2.34      0.000011  2.4172  2000                                  \n",
              "4   2.92      0.000001  2.3733  2500                                  \n",
              "5   3.00                        2565  3164144673916800.0   2.510174   \n",
              "\n",
              "  train_runtime train_samples_per_second train_steps_per_second  \n",
              "0                                                                \n",
              "1                                                                \n",
              "2                                                                \n",
              "3                                                                \n",
              "4                                                                \n",
              "5      906.0199                   22.645                  2.831  "
            ],
            "text/html": [
              "\n",
              "  <div id=\"df-8c5ff79a-296d-4c7a-bbdc-8a19c765651b\">\n",
              "    <div class=\"colab-df-container\">\n",
              "      <div>\n",
              "<style scoped>\n",
              "    .dataframe tbody tr th:only-of-type {\n",
              "        vertical-align: middle;\n",
              "    }\n",
              "\n",
              "    .dataframe tbody tr th {\n",
              "        vertical-align: top;\n",
              "    }\n",
              "\n",
              "    .dataframe thead th {\n",
              "        text-align: right;\n",
              "    }\n",
              "</style>\n",
              "<table border=\"1\" class=\"dataframe\">\n",
              "  <thead>\n",
              "    <tr style=\"text-align: right;\">\n",
              "      <th></th>\n",
              "      <th>epoch</th>\n",
              "      <th>learning_rate</th>\n",
              "      <th>loss</th>\n",
              "      <th>step</th>\n",
              "      <th>total_flos</th>\n",
              "      <th>train_loss</th>\n",
              "      <th>train_runtime</th>\n",
              "      <th>train_samples_per_second</th>\n",
              "      <th>train_steps_per_second</th>\n",
              "    </tr>\n",
              "  </thead>\n",
              "  <tbody>\n",
              "    <tr>\n",
              "      <th>0</th>\n",
              "      <td>0.58</td>\n",
              "      <td>0.00004</td>\n",
              "      <td>2.6954</td>\n",
              "      <td>500</td>\n",
              "      <td></td>\n",
              "      <td></td>\n",
              "      <td></td>\n",
              "      <td></td>\n",
              "      <td></td>\n",
              "    </tr>\n",
              "    <tr>\n",
              "      <th>1</th>\n",
              "      <td>1.17</td>\n",
              "      <td>0.000031</td>\n",
              "      <td>2.6017</td>\n",
              "      <td>1000</td>\n",
              "      <td></td>\n",
              "      <td></td>\n",
              "      <td></td>\n",
              "      <td></td>\n",
              "      <td></td>\n",
              "    </tr>\n",
              "    <tr>\n",
              "      <th>2</th>\n",
              "      <td>1.75</td>\n",
              "      <td>0.000021</td>\n",
              "      <td>2.4854</td>\n",
              "      <td>1500</td>\n",
              "      <td></td>\n",
              "      <td></td>\n",
              "      <td></td>\n",
              "      <td></td>\n",
              "      <td></td>\n",
              "    </tr>\n",
              "    <tr>\n",
              "      <th>3</th>\n",
              "      <td>2.34</td>\n",
              "      <td>0.000011</td>\n",
              "      <td>2.4172</td>\n",
              "      <td>2000</td>\n",
              "      <td></td>\n",
              "      <td></td>\n",
              "      <td></td>\n",
              "      <td></td>\n",
              "      <td></td>\n",
              "    </tr>\n",
              "    <tr>\n",
              "      <th>4</th>\n",
              "      <td>2.92</td>\n",
              "      <td>0.000001</td>\n",
              "      <td>2.3733</td>\n",
              "      <td>2500</td>\n",
              "      <td></td>\n",
              "      <td></td>\n",
              "      <td></td>\n",
              "      <td></td>\n",
              "      <td></td>\n",
              "    </tr>\n",
              "    <tr>\n",
              "      <th>5</th>\n",
              "      <td>3.00</td>\n",
              "      <td></td>\n",
              "      <td></td>\n",
              "      <td>2565</td>\n",
              "      <td>3164144673916800.0</td>\n",
              "      <td>2.510174</td>\n",
              "      <td>906.0199</td>\n",
              "      <td>22.645</td>\n",
              "      <td>2.831</td>\n",
              "    </tr>\n",
              "  </tbody>\n",
              "</table>\n",
              "</div>\n",
              "      <button class=\"colab-df-convert\" onclick=\"convertToInteractive('df-8c5ff79a-296d-4c7a-bbdc-8a19c765651b')\"\n",
              "              title=\"Convert this dataframe to an interactive table.\"\n",
              "              style=\"display:none;\">\n",
              "        \n",
              "  <svg xmlns=\"http://www.w3.org/2000/svg\" height=\"24px\"viewBox=\"0 0 24 24\"\n",
              "       width=\"24px\">\n",
              "    <path d=\"M0 0h24v24H0V0z\" fill=\"none\"/>\n",
              "    <path d=\"M18.56 5.44l.94 2.06.94-2.06 2.06-.94-2.06-.94-.94-2.06-.94 2.06-2.06.94zm-11 1L8.5 8.5l.94-2.06 2.06-.94-2.06-.94L8.5 2.5l-.94 2.06-2.06.94zm10 10l.94 2.06.94-2.06 2.06-.94-2.06-.94-.94-2.06-.94 2.06-2.06.94z\"/><path d=\"M17.41 7.96l-1.37-1.37c-.4-.4-.92-.59-1.43-.59-.52 0-1.04.2-1.43.59L10.3 9.45l-7.72 7.72c-.78.78-.78 2.05 0 2.83L4 21.41c.39.39.9.59 1.41.59.51 0 1.02-.2 1.41-.59l7.78-7.78 2.81-2.81c.8-.78.8-2.07 0-2.86zM5.41 20L4 18.59l7.72-7.72 1.47 1.35L5.41 20z\"/>\n",
              "  </svg>\n",
              "      </button>\n",
              "      \n",
              "  <style>\n",
              "    .colab-df-container {\n",
              "      display:flex;\n",
              "      flex-wrap:wrap;\n",
              "      gap: 12px;\n",
              "    }\n",
              "\n",
              "    .colab-df-convert {\n",
              "      background-color: #E8F0FE;\n",
              "      border: none;\n",
              "      border-radius: 50%;\n",
              "      cursor: pointer;\n",
              "      display: none;\n",
              "      fill: #1967D2;\n",
              "      height: 32px;\n",
              "      padding: 0 0 0 0;\n",
              "      width: 32px;\n",
              "    }\n",
              "\n",
              "    .colab-df-convert:hover {\n",
              "      background-color: #E2EBFA;\n",
              "      box-shadow: 0px 1px 2px rgba(60, 64, 67, 0.3), 0px 1px 3px 1px rgba(60, 64, 67, 0.15);\n",
              "      fill: #174EA6;\n",
              "    }\n",
              "\n",
              "    [theme=dark] .colab-df-convert {\n",
              "      background-color: #3B4455;\n",
              "      fill: #D2E3FC;\n",
              "    }\n",
              "\n",
              "    [theme=dark] .colab-df-convert:hover {\n",
              "      background-color: #434B5C;\n",
              "      box-shadow: 0px 1px 3px 1px rgba(0, 0, 0, 0.15);\n",
              "      filter: drop-shadow(0px 1px 2px rgba(0, 0, 0, 0.3));\n",
              "      fill: #FFFFFF;\n",
              "    }\n",
              "  </style>\n",
              "\n",
              "      <script>\n",
              "        const buttonEl =\n",
              "          document.querySelector('#df-8c5ff79a-296d-4c7a-bbdc-8a19c765651b button.colab-df-convert');\n",
              "        buttonEl.style.display =\n",
              "          google.colab.kernel.accessAllowed ? 'block' : 'none';\n",
              "\n",
              "        async function convertToInteractive(key) {\n",
              "          const element = document.querySelector('#df-8c5ff79a-296d-4c7a-bbdc-8a19c765651b');\n",
              "          const dataTable =\n",
              "            await google.colab.kernel.invokeFunction('convertToInteractive',\n",
              "                                                     [key], {});\n",
              "          if (!dataTable) return;\n",
              "\n",
              "          const docLinkHtml = 'Like what you see? Visit the ' +\n",
              "            '<a target=\"_blank\" href=https://colab.research.google.com/notebooks/data_table.ipynb>data table notebook</a>'\n",
              "            + ' to learn more about interactive tables.';\n",
              "          element.innerHTML = '';\n",
              "          dataTable['output_type'] = 'display_data';\n",
              "          await google.colab.output.renderOutput(dataTable, element);\n",
              "          const docLink = document.createElement('div');\n",
              "          docLink.innerHTML = docLinkHtml;\n",
              "          element.appendChild(docLink);\n",
              "        }\n",
              "      </script>\n",
              "    </div>\n",
              "  </div>\n",
              "  "
            ]
          },
          "metadata": {}
        },
        {
          "output_type": "stream",
          "name": "stdout",
          "text": [
            "\n",
            "\n",
            "\n"
          ]
        },
        {
          "output_type": "display_data",
          "data": {
            "text/plain": [
              "   epoch  train_loss  train_runtime  train_samples  train_samples_per_second  \\\n",
              "0    3.0    2.510174       906.0199           6839                    22.645   \n",
              "\n",
              "   train_steps_per_second  \n",
              "0                   2.831  "
            ],
            "text/html": [
              "\n",
              "  <div id=\"df-99f49826-c45d-4f11-94b9-d4049fe90271\">\n",
              "    <div class=\"colab-df-container\">\n",
              "      <div>\n",
              "<style scoped>\n",
              "    .dataframe tbody tr th:only-of-type {\n",
              "        vertical-align: middle;\n",
              "    }\n",
              "\n",
              "    .dataframe tbody tr th {\n",
              "        vertical-align: top;\n",
              "    }\n",
              "\n",
              "    .dataframe thead th {\n",
              "        text-align: right;\n",
              "    }\n",
              "</style>\n",
              "<table border=\"1\" class=\"dataframe\">\n",
              "  <thead>\n",
              "    <tr style=\"text-align: right;\">\n",
              "      <th></th>\n",
              "      <th>epoch</th>\n",
              "      <th>train_loss</th>\n",
              "      <th>train_runtime</th>\n",
              "      <th>train_samples</th>\n",
              "      <th>train_samples_per_second</th>\n",
              "      <th>train_steps_per_second</th>\n",
              "    </tr>\n",
              "  </thead>\n",
              "  <tbody>\n",
              "    <tr>\n",
              "      <th>0</th>\n",
              "      <td>3.0</td>\n",
              "      <td>2.510174</td>\n",
              "      <td>906.0199</td>\n",
              "      <td>6839</td>\n",
              "      <td>22.645</td>\n",
              "      <td>2.831</td>\n",
              "    </tr>\n",
              "  </tbody>\n",
              "</table>\n",
              "</div>\n",
              "      <button class=\"colab-df-convert\" onclick=\"convertToInteractive('df-99f49826-c45d-4f11-94b9-d4049fe90271')\"\n",
              "              title=\"Convert this dataframe to an interactive table.\"\n",
              "              style=\"display:none;\">\n",
              "        \n",
              "  <svg xmlns=\"http://www.w3.org/2000/svg\" height=\"24px\"viewBox=\"0 0 24 24\"\n",
              "       width=\"24px\">\n",
              "    <path d=\"M0 0h24v24H0V0z\" fill=\"none\"/>\n",
              "    <path d=\"M18.56 5.44l.94 2.06.94-2.06 2.06-.94-2.06-.94-.94-2.06-.94 2.06-2.06.94zm-11 1L8.5 8.5l.94-2.06 2.06-.94-2.06-.94L8.5 2.5l-.94 2.06-2.06.94zm10 10l.94 2.06.94-2.06 2.06-.94-2.06-.94-.94-2.06-.94 2.06-2.06.94z\"/><path d=\"M17.41 7.96l-1.37-1.37c-.4-.4-.92-.59-1.43-.59-.52 0-1.04.2-1.43.59L10.3 9.45l-7.72 7.72c-.78.78-.78 2.05 0 2.83L4 21.41c.39.39.9.59 1.41.59.51 0 1.02-.2 1.41-.59l7.78-7.78 2.81-2.81c.8-.78.8-2.07 0-2.86zM5.41 20L4 18.59l7.72-7.72 1.47 1.35L5.41 20z\"/>\n",
              "  </svg>\n",
              "      </button>\n",
              "      \n",
              "  <style>\n",
              "    .colab-df-container {\n",
              "      display:flex;\n",
              "      flex-wrap:wrap;\n",
              "      gap: 12px;\n",
              "    }\n",
              "\n",
              "    .colab-df-convert {\n",
              "      background-color: #E8F0FE;\n",
              "      border: none;\n",
              "      border-radius: 50%;\n",
              "      cursor: pointer;\n",
              "      display: none;\n",
              "      fill: #1967D2;\n",
              "      height: 32px;\n",
              "      padding: 0 0 0 0;\n",
              "      width: 32px;\n",
              "    }\n",
              "\n",
              "    .colab-df-convert:hover {\n",
              "      background-color: #E2EBFA;\n",
              "      box-shadow: 0px 1px 2px rgba(60, 64, 67, 0.3), 0px 1px 3px 1px rgba(60, 64, 67, 0.15);\n",
              "      fill: #174EA6;\n",
              "    }\n",
              "\n",
              "    [theme=dark] .colab-df-convert {\n",
              "      background-color: #3B4455;\n",
              "      fill: #D2E3FC;\n",
              "    }\n",
              "\n",
              "    [theme=dark] .colab-df-convert:hover {\n",
              "      background-color: #434B5C;\n",
              "      box-shadow: 0px 1px 3px 1px rgba(0, 0, 0, 0.15);\n",
              "      filter: drop-shadow(0px 1px 2px rgba(0, 0, 0, 0.3));\n",
              "      fill: #FFFFFF;\n",
              "    }\n",
              "  </style>\n",
              "\n",
              "      <script>\n",
              "        const buttonEl =\n",
              "          document.querySelector('#df-99f49826-c45d-4f11-94b9-d4049fe90271 button.colab-df-convert');\n",
              "        buttonEl.style.display =\n",
              "          google.colab.kernel.accessAllowed ? 'block' : 'none';\n",
              "\n",
              "        async function convertToInteractive(key) {\n",
              "          const element = document.querySelector('#df-99f49826-c45d-4f11-94b9-d4049fe90271');\n",
              "          const dataTable =\n",
              "            await google.colab.kernel.invokeFunction('convertToInteractive',\n",
              "                                                     [key], {});\n",
              "          if (!dataTable) return;\n",
              "\n",
              "          const docLinkHtml = 'Like what you see? Visit the ' +\n",
              "            '<a target=\"_blank\" href=https://colab.research.google.com/notebooks/data_table.ipynb>data table notebook</a>'\n",
              "            + ' to learn more about interactive tables.';\n",
              "          element.innerHTML = '';\n",
              "          dataTable['output_type'] = 'display_data';\n",
              "          await google.colab.output.renderOutput(dataTable, element);\n",
              "          const docLink = document.createElement('div');\n",
              "          docLink.innerHTML = docLinkHtml;\n",
              "          element.appendChild(docLink);\n",
              "        }\n",
              "      </script>\n",
              "    </div>\n",
              "  </div>\n",
              "  "
            ]
          },
          "metadata": {}
        },
        {
          "output_type": "stream",
          "name": "stdout",
          "text": [
            "\n",
            "\n",
            "\n"
          ]
        },
        {
          "output_type": "display_data",
          "data": {
            "text/plain": [
              "       _name_or_path    architectures  attention_probs_dropout_prob  \\\n",
              "0  beomi/kcbert-base  BertForMaskedLM                           0.1   \n",
              "\n",
              "  classifier_dropout directionality hidden_act  hidden_dropout_prob  \\\n",
              "0               None           bidi       gelu                  0.1   \n",
              "\n",
              "   hidden_size  initializer_range  intermediate_size  ...  \\\n",
              "0          768               0.02               3072  ...   \n",
              "\n",
              "   pooler_num_attention_heads  pooler_num_fc_layers pooler_size_per_head  \\\n",
              "0                          12                     3                  128   \n",
              "\n",
              "             pooler_type  position_embedding_type  torch_dtype  \\\n",
              "0  first_token_transform                 absolute      float32   \n",
              "\n",
              "   transformers_version  type_vocab_size  use_cache  vocab_size  \n",
              "0                4.21.1                2       True       30000  \n",
              "\n",
              "[1 rows x 27 columns]"
            ],
            "text/html": [
              "\n",
              "  <div id=\"df-e9663bd2-4b9a-41f0-983a-2e1c75b3c107\">\n",
              "    <div class=\"colab-df-container\">\n",
              "      <div>\n",
              "<style scoped>\n",
              "    .dataframe tbody tr th:only-of-type {\n",
              "        vertical-align: middle;\n",
              "    }\n",
              "\n",
              "    .dataframe tbody tr th {\n",
              "        vertical-align: top;\n",
              "    }\n",
              "\n",
              "    .dataframe thead th {\n",
              "        text-align: right;\n",
              "    }\n",
              "</style>\n",
              "<table border=\"1\" class=\"dataframe\">\n",
              "  <thead>\n",
              "    <tr style=\"text-align: right;\">\n",
              "      <th></th>\n",
              "      <th>_name_or_path</th>\n",
              "      <th>architectures</th>\n",
              "      <th>attention_probs_dropout_prob</th>\n",
              "      <th>classifier_dropout</th>\n",
              "      <th>directionality</th>\n",
              "      <th>hidden_act</th>\n",
              "      <th>hidden_dropout_prob</th>\n",
              "      <th>hidden_size</th>\n",
              "      <th>initializer_range</th>\n",
              "      <th>intermediate_size</th>\n",
              "      <th>...</th>\n",
              "      <th>pooler_num_attention_heads</th>\n",
              "      <th>pooler_num_fc_layers</th>\n",
              "      <th>pooler_size_per_head</th>\n",
              "      <th>pooler_type</th>\n",
              "      <th>position_embedding_type</th>\n",
              "      <th>torch_dtype</th>\n",
              "      <th>transformers_version</th>\n",
              "      <th>type_vocab_size</th>\n",
              "      <th>use_cache</th>\n",
              "      <th>vocab_size</th>\n",
              "    </tr>\n",
              "  </thead>\n",
              "  <tbody>\n",
              "    <tr>\n",
              "      <th>0</th>\n",
              "      <td>beomi/kcbert-base</td>\n",
              "      <td>BertForMaskedLM</td>\n",
              "      <td>0.1</td>\n",
              "      <td>None</td>\n",
              "      <td>bidi</td>\n",
              "      <td>gelu</td>\n",
              "      <td>0.1</td>\n",
              "      <td>768</td>\n",
              "      <td>0.02</td>\n",
              "      <td>3072</td>\n",
              "      <td>...</td>\n",
              "      <td>12</td>\n",
              "      <td>3</td>\n",
              "      <td>128</td>\n",
              "      <td>first_token_transform</td>\n",
              "      <td>absolute</td>\n",
              "      <td>float32</td>\n",
              "      <td>4.21.1</td>\n",
              "      <td>2</td>\n",
              "      <td>True</td>\n",
              "      <td>30000</td>\n",
              "    </tr>\n",
              "  </tbody>\n",
              "</table>\n",
              "<p>1 rows × 27 columns</p>\n",
              "</div>\n",
              "      <button class=\"colab-df-convert\" onclick=\"convertToInteractive('df-e9663bd2-4b9a-41f0-983a-2e1c75b3c107')\"\n",
              "              title=\"Convert this dataframe to an interactive table.\"\n",
              "              style=\"display:none;\">\n",
              "        \n",
              "  <svg xmlns=\"http://www.w3.org/2000/svg\" height=\"24px\"viewBox=\"0 0 24 24\"\n",
              "       width=\"24px\">\n",
              "    <path d=\"M0 0h24v24H0V0z\" fill=\"none\"/>\n",
              "    <path d=\"M18.56 5.44l.94 2.06.94-2.06 2.06-.94-2.06-.94-.94-2.06-.94 2.06-2.06.94zm-11 1L8.5 8.5l.94-2.06 2.06-.94-2.06-.94L8.5 2.5l-.94 2.06-2.06.94zm10 10l.94 2.06.94-2.06 2.06-.94-2.06-.94-.94-2.06-.94 2.06-2.06.94z\"/><path d=\"M17.41 7.96l-1.37-1.37c-.4-.4-.92-.59-1.43-.59-.52 0-1.04.2-1.43.59L10.3 9.45l-7.72 7.72c-.78.78-.78 2.05 0 2.83L4 21.41c.39.39.9.59 1.41.59.51 0 1.02-.2 1.41-.59l7.78-7.78 2.81-2.81c.8-.78.8-2.07 0-2.86zM5.41 20L4 18.59l7.72-7.72 1.47 1.35L5.41 20z\"/>\n",
              "  </svg>\n",
              "      </button>\n",
              "      \n",
              "  <style>\n",
              "    .colab-df-container {\n",
              "      display:flex;\n",
              "      flex-wrap:wrap;\n",
              "      gap: 12px;\n",
              "    }\n",
              "\n",
              "    .colab-df-convert {\n",
              "      background-color: #E8F0FE;\n",
              "      border: none;\n",
              "      border-radius: 50%;\n",
              "      cursor: pointer;\n",
              "      display: none;\n",
              "      fill: #1967D2;\n",
              "      height: 32px;\n",
              "      padding: 0 0 0 0;\n",
              "      width: 32px;\n",
              "    }\n",
              "\n",
              "    .colab-df-convert:hover {\n",
              "      background-color: #E2EBFA;\n",
              "      box-shadow: 0px 1px 2px rgba(60, 64, 67, 0.3), 0px 1px 3px 1px rgba(60, 64, 67, 0.15);\n",
              "      fill: #174EA6;\n",
              "    }\n",
              "\n",
              "    [theme=dark] .colab-df-convert {\n",
              "      background-color: #3B4455;\n",
              "      fill: #D2E3FC;\n",
              "    }\n",
              "\n",
              "    [theme=dark] .colab-df-convert:hover {\n",
              "      background-color: #434B5C;\n",
              "      box-shadow: 0px 1px 3px 1px rgba(0, 0, 0, 0.15);\n",
              "      filter: drop-shadow(0px 1px 2px rgba(0, 0, 0, 0.3));\n",
              "      fill: #FFFFFF;\n",
              "    }\n",
              "  </style>\n",
              "\n",
              "      <script>\n",
              "        const buttonEl =\n",
              "          document.querySelector('#df-e9663bd2-4b9a-41f0-983a-2e1c75b3c107 button.colab-df-convert');\n",
              "        buttonEl.style.display =\n",
              "          google.colab.kernel.accessAllowed ? 'block' : 'none';\n",
              "\n",
              "        async function convertToInteractive(key) {\n",
              "          const element = document.querySelector('#df-e9663bd2-4b9a-41f0-983a-2e1c75b3c107');\n",
              "          const dataTable =\n",
              "            await google.colab.kernel.invokeFunction('convertToInteractive',\n",
              "                                                     [key], {});\n",
              "          if (!dataTable) return;\n",
              "\n",
              "          const docLinkHtml = 'Like what you see? Visit the ' +\n",
              "            '<a target=\"_blank\" href=https://colab.research.google.com/notebooks/data_table.ipynb>data table notebook</a>'\n",
              "            + ' to learn more about interactive tables.';\n",
              "          element.innerHTML = '';\n",
              "          dataTable['output_type'] = 'display_data';\n",
              "          await google.colab.output.renderOutput(dataTable, element);\n",
              "          const docLink = document.createElement('div');\n",
              "          docLink.innerHTML = docLinkHtml;\n",
              "          element.appendChild(docLink);\n",
              "        }\n",
              "      </script>\n",
              "    </div>\n",
              "  </div>\n",
              "  "
            ]
          },
          "metadata": {}
        },
        {
          "output_type": "stream",
          "name": "stdout",
          "text": [
            "\n",
            "\n",
            "\n"
          ]
        },
        {
          "output_type": "display_data",
          "data": {
            "text/plain": [
              "  cls_token  do_basic_tokenize  do_lower_case mask_token  model_max_length  \\\n",
              "0     [CLS]               True          False     [MASK]               300   \n",
              "\n",
              "        name_or_path never_split pad_token sep_token special_tokens_map_file  \\\n",
              "0  beomi/kcbert-base        None     [PAD]     [SEP]                    None   \n",
              "\n",
              "  strip_accents  tokenize_chinese_chars tokenizer_class unk_token  \n",
              "0          None                    True   BertTokenizer     [UNK]  "
            ],
            "text/html": [
              "\n",
              "  <div id=\"df-fb7f10c6-72cc-4143-b865-4ffd31e93c83\">\n",
              "    <div class=\"colab-df-container\">\n",
              "      <div>\n",
              "<style scoped>\n",
              "    .dataframe tbody tr th:only-of-type {\n",
              "        vertical-align: middle;\n",
              "    }\n",
              "\n",
              "    .dataframe tbody tr th {\n",
              "        vertical-align: top;\n",
              "    }\n",
              "\n",
              "    .dataframe thead th {\n",
              "        text-align: right;\n",
              "    }\n",
              "</style>\n",
              "<table border=\"1\" class=\"dataframe\">\n",
              "  <thead>\n",
              "    <tr style=\"text-align: right;\">\n",
              "      <th></th>\n",
              "      <th>cls_token</th>\n",
              "      <th>do_basic_tokenize</th>\n",
              "      <th>do_lower_case</th>\n",
              "      <th>mask_token</th>\n",
              "      <th>model_max_length</th>\n",
              "      <th>name_or_path</th>\n",
              "      <th>never_split</th>\n",
              "      <th>pad_token</th>\n",
              "      <th>sep_token</th>\n",
              "      <th>special_tokens_map_file</th>\n",
              "      <th>strip_accents</th>\n",
              "      <th>tokenize_chinese_chars</th>\n",
              "      <th>tokenizer_class</th>\n",
              "      <th>unk_token</th>\n",
              "    </tr>\n",
              "  </thead>\n",
              "  <tbody>\n",
              "    <tr>\n",
              "      <th>0</th>\n",
              "      <td>[CLS]</td>\n",
              "      <td>True</td>\n",
              "      <td>False</td>\n",
              "      <td>[MASK]</td>\n",
              "      <td>300</td>\n",
              "      <td>beomi/kcbert-base</td>\n",
              "      <td>None</td>\n",
              "      <td>[PAD]</td>\n",
              "      <td>[SEP]</td>\n",
              "      <td>None</td>\n",
              "      <td>None</td>\n",
              "      <td>True</td>\n",
              "      <td>BertTokenizer</td>\n",
              "      <td>[UNK]</td>\n",
              "    </tr>\n",
              "  </tbody>\n",
              "</table>\n",
              "</div>\n",
              "      <button class=\"colab-df-convert\" onclick=\"convertToInteractive('df-fb7f10c6-72cc-4143-b865-4ffd31e93c83')\"\n",
              "              title=\"Convert this dataframe to an interactive table.\"\n",
              "              style=\"display:none;\">\n",
              "        \n",
              "  <svg xmlns=\"http://www.w3.org/2000/svg\" height=\"24px\"viewBox=\"0 0 24 24\"\n",
              "       width=\"24px\">\n",
              "    <path d=\"M0 0h24v24H0V0z\" fill=\"none\"/>\n",
              "    <path d=\"M18.56 5.44l.94 2.06.94-2.06 2.06-.94-2.06-.94-.94-2.06-.94 2.06-2.06.94zm-11 1L8.5 8.5l.94-2.06 2.06-.94-2.06-.94L8.5 2.5l-.94 2.06-2.06.94zm10 10l.94 2.06.94-2.06 2.06-.94-2.06-.94-.94-2.06-.94 2.06-2.06.94z\"/><path d=\"M17.41 7.96l-1.37-1.37c-.4-.4-.92-.59-1.43-.59-.52 0-1.04.2-1.43.59L10.3 9.45l-7.72 7.72c-.78.78-.78 2.05 0 2.83L4 21.41c.39.39.9.59 1.41.59.51 0 1.02-.2 1.41-.59l7.78-7.78 2.81-2.81c.8-.78.8-2.07 0-2.86zM5.41 20L4 18.59l7.72-7.72 1.47 1.35L5.41 20z\"/>\n",
              "  </svg>\n",
              "      </button>\n",
              "      \n",
              "  <style>\n",
              "    .colab-df-container {\n",
              "      display:flex;\n",
              "      flex-wrap:wrap;\n",
              "      gap: 12px;\n",
              "    }\n",
              "\n",
              "    .colab-df-convert {\n",
              "      background-color: #E8F0FE;\n",
              "      border: none;\n",
              "      border-radius: 50%;\n",
              "      cursor: pointer;\n",
              "      display: none;\n",
              "      fill: #1967D2;\n",
              "      height: 32px;\n",
              "      padding: 0 0 0 0;\n",
              "      width: 32px;\n",
              "    }\n",
              "\n",
              "    .colab-df-convert:hover {\n",
              "      background-color: #E2EBFA;\n",
              "      box-shadow: 0px 1px 2px rgba(60, 64, 67, 0.3), 0px 1px 3px 1px rgba(60, 64, 67, 0.15);\n",
              "      fill: #174EA6;\n",
              "    }\n",
              "\n",
              "    [theme=dark] .colab-df-convert {\n",
              "      background-color: #3B4455;\n",
              "      fill: #D2E3FC;\n",
              "    }\n",
              "\n",
              "    [theme=dark] .colab-df-convert:hover {\n",
              "      background-color: #434B5C;\n",
              "      box-shadow: 0px 1px 3px 1px rgba(0, 0, 0, 0.15);\n",
              "      filter: drop-shadow(0px 1px 2px rgba(0, 0, 0, 0.3));\n",
              "      fill: #FFFFFF;\n",
              "    }\n",
              "  </style>\n",
              "\n",
              "      <script>\n",
              "        const buttonEl =\n",
              "          document.querySelector('#df-fb7f10c6-72cc-4143-b865-4ffd31e93c83 button.colab-df-convert');\n",
              "        buttonEl.style.display =\n",
              "          google.colab.kernel.accessAllowed ? 'block' : 'none';\n",
              "\n",
              "        async function convertToInteractive(key) {\n",
              "          const element = document.querySelector('#df-fb7f10c6-72cc-4143-b865-4ffd31e93c83');\n",
              "          const dataTable =\n",
              "            await google.colab.kernel.invokeFunction('convertToInteractive',\n",
              "                                                     [key], {});\n",
              "          if (!dataTable) return;\n",
              "\n",
              "          const docLinkHtml = 'Like what you see? Visit the ' +\n",
              "            '<a target=\"_blank\" href=https://colab.research.google.com/notebooks/data_table.ipynb>data table notebook</a>'\n",
              "            + ' to learn more about interactive tables.';\n",
              "          element.innerHTML = '';\n",
              "          dataTable['output_type'] = 'display_data';\n",
              "          await google.colab.output.renderOutput(dataTable, element);\n",
              "          const docLink = document.createElement('div');\n",
              "          docLink.innerHTML = docLinkHtml;\n",
              "          element.appendChild(docLink);\n",
              "        }\n",
              "      </script>\n",
              "    </div>\n",
              "  </div>\n",
              "  "
            ]
          },
          "metadata": {}
        }
      ]
    },
    {
      "cell_type": "markdown",
      "source": [
        "<br/><br/>"
      ],
      "metadata": {
        "id": "lowuY4G3_C17"
      }
    },
    {
      "cell_type": "markdown",
      "source": [
        "##bert-base-cased MRPC Finetune"
      ],
      "metadata": {
        "id": "EhAQ_zQBKWfy"
      }
    },
    {
      "cell_type": "code",
      "source": [
        "!git clone -b v4.21.1 https://github.com/huggingface/transformers.git"
      ],
      "metadata": {
        "id": "0AZTP5LKjDWw"
      },
      "execution_count": null,
      "outputs": []
    },
    {
      "cell_type": "code",
      "source": [
        "mv transformers transfomers_v4.21.1"
      ],
      "metadata": {
        "id": "Ea1rXSoEmNa7"
      },
      "execution_count": null,
      "outputs": []
    },
    {
      "cell_type": "code",
      "source": [
        "cd transfomers_v4.21.1"
      ],
      "metadata": {
        "id": "OovAN0oui1MP"
      },
      "execution_count": null,
      "outputs": []
    },
    {
      "cell_type": "code",
      "source": [
        "!pip install -e ."
      ],
      "metadata": {
        "id": "5mV5TAqSi1Ot"
      },
      "execution_count": null,
      "outputs": []
    },
    {
      "cell_type": "code",
      "source": [
        "!pip install -q datasets huggingface_hub evaluate transformers"
      ],
      "metadata": {
        "id": "yY3vwDNvi1RM"
      },
      "execution_count": null,
      "outputs": []
    },
    {
      "cell_type": "code",
      "source": [
        "!pip install -q protobuf sentencepiece"
      ],
      "metadata": {
        "id": "pn2RYevYi1Tk"
      },
      "execution_count": null,
      "outputs": []
    },
    {
      "cell_type": "markdown",
      "source": [
        "[HuggingFace Installation](https://huggingface.co/docs/transformers/installation#installing-from-source%60)\n",
        "<br/>[huggingface/transformers/releases](https://github.com/huggingface/transformers/releases)\n",
        "<br/>[# v4.21.1: Patch release](https://github.com/huggingface/transformers/releases/tag/v4.21.1)"
      ],
      "metadata": {
        "id": "49-lv9ekotMJ"
      }
    },
    {
      "cell_type": "markdown",
      "source": [
        "모델 [huggingface/transformers](https://github.com/huggingface/transformers)를 사용한다.\n",
        "<br/>run_glue.py 파일의 check_min_version에 dev가 붙어있다면 Github의 main branch가 아니라 최근 release 된 Tag를 찾아 다운로드한다."
      ],
      "metadata": {
        "id": "MAb2HNYvYo5j"
      }
    },
    {
      "cell_type": "markdown",
      "source": [
        ""
      ],
      "metadata": {
        "id": "oewNuFyI2oEC"
      }
    },
    {
      "cell_type": "code",
      "source": [
        "!python examples/tensorflow/text-classification/run_glue.py \\\n",
        "\t--model_name_or_path bert-base-cased \\\n",
        "\t--task_name mrpc \\\n",
        "\t--output_dir bert_base_cased_mrpc \\\n",
        "\t--overwrite_output_dir \\\n",
        "\t--do_train \\\n",
        "\t--do_eval \\\n",
        "\t--num_train_epochs 1 \\\n",
        "\t--save_steps 20000"
      ],
      "metadata": {
        "id": "ftmRRtcSKWA5"
      },
      "execution_count": null,
      "outputs": []
    },
    {
      "cell_type": "markdown",
      "source": [
        "AssertionError로 인해 실행되지 않는다."
      ],
      "metadata": {
        "id": "W_ptKkp5LjIK"
      }
    },
    {
      "cell_type": "markdown",
      "source": [
        "AssertionError: in user code:\n",
        "<br/>File \"/usr/local/lib/python3.7/dist-packages/datasets/arrow_dataset.py\", line 475, in split_features_and_labels  *\n",
        "<br/>assert set(features.keys()).union(labels.keys()) == set(input_batch.keys())"
      ],
      "metadata": {
        "id": "TrtBr4n6LJlK"
      }
    },
    {
      "cell_type": "markdown",
      "source": [
        "10가지 GLUE Task 중 MRPC를 수행하는 예제 코드이다.\n",
        "<br/>Huggingface의 Framework 기반으로 BERT bert-base-uncased을 활용하여 MRPC Task를 수행한다.\n",
        "<br/>만약 task_name 및 다른 파라미터를 적절히 변경한 후 수행하면 다른 GLUE task도 수행할 수 있다."
      ],
      "metadata": {
        "id": "M0DQiDIYjMwj"
      }
    },
    {
      "cell_type": "markdown",
      "source": [
        "<br/>"
      ],
      "metadata": {
        "id": "EmSTcmlzteeL"
      }
    },
    {
      "cell_type": "markdown",
      "source": [
        "##bert-base-uncased MRPC Finetune"
      ],
      "metadata": {
        "id": "e71W_RpDTf57"
      }
    },
    {
      "cell_type": "code",
      "source": [
        "cd .."
      ],
      "metadata": {
        "id": "yf9ZrR55utmp"
      },
      "execution_count": null,
      "outputs": []
    },
    {
      "cell_type": "code",
      "source": [
        "pwd"
      ],
      "metadata": {
        "colab": {
          "base_uri": "https://localhost:8080/",
          "height": 35
        },
        "id": "XD7BBMdw4Oyh",
        "outputId": "14fff678-142e-40f9-bee8-7f9ef9a78b7f"
      },
      "execution_count": null,
      "outputs": [
        {
          "output_type": "execute_result",
          "data": {
            "text/plain": [
              "'/content/drive/MyDrive/lms/huggingface_glue_task'"
            ],
            "application/vnd.google.colaboratory.intrinsic+json": {
              "type": "string"
            }
          },
          "metadata": {},
          "execution_count": 90
        }
      ]
    },
    {
      "cell_type": "code",
      "source": [
        "!git clone https://github.com/google-research/bert.git"
      ],
      "metadata": {
        "id": "AaDTFfHE6mZ_"
      },
      "execution_count": null,
      "outputs": []
    },
    {
      "cell_type": "markdown",
      "source": [
        "모델 [google-research/bert](https://github.com/google-research/bert)를 사용한다."
      ],
      "metadata": {
        "id": "xNDGcIOc6yqf"
      }
    },
    {
      "cell_type": "code",
      "source": [
        "url = \"https://gist.githubusercontent.com/vlasenkoalexey/fef1601580f269eca73bf26a198595f3/raw/db67cdf22eb5bd7efe376205e8a95028942e263d/download_glue_data.py\"\n",
        "savename = \"data/download_glue_data.py\"\n",
        "\n",
        "request.urlretrieve(url, savename)"
      ],
      "metadata": {
        "id": "YDQgaIOVRUfd"
      },
      "execution_count": null,
      "outputs": []
    },
    {
      "cell_type": "code",
      "source": [
        "!python data/download_glue_data.py --data_dir='data' --tasks='MRPC'"
      ],
      "metadata": {
        "colab": {
          "base_uri": "https://localhost:8080/"
        },
        "id": "gLWWzVivlDcu",
        "outputId": "6a5cf245-9d98-4cb2-e862-9953ffe4bb78"
      },
      "execution_count": null,
      "outputs": [
        {
          "output_type": "stream",
          "name": "stdout",
          "text": [
            "Processing MRPC...\n",
            "\tCompleted!\n"
          ]
        }
      ]
    },
    {
      "cell_type": "markdown",
      "source": [
        "[W4ngatang/download_glue_data.py](https://gist.github.com/W4ngatang/60c2bdb54d156a41194446737ce03e2e)을 실행하여 MRPC 데이터를 다운로드 받을 때\n",
        "<br/>AttributeError: 'NoneType' object has no attribute 'urlretrieve'가 발생한다.\n",
        "<br/>이를 디버깅하여 코드를 수정한 파일이 [vlasenkoalexe/download_glue_data.py](https://gist.github.com/vlasenkoalexey/fef1601580f269eca73bf26a198595f3)이다."
      ],
      "metadata": {
        "id": "hiUm3_69Q5kV"
      }
    },
    {
      "cell_type": "markdown",
      "source": [
        ""
      ],
      "metadata": {
        "id": "1a7SrtHbQ5rE"
      }
    },
    {
      "cell_type": "code",
      "source": [
        "# original code file\n",
        "with open(\"bert/optimization.py\", \"r\") as f:\n",
        "    code_line = f.read().splitlines()\n",
        "for code in code_line:\n",
        "    if  \"class AdamWeightDecayOptimizer\" in code:\n",
        "      print(\"\", code)"
      ],
      "metadata": {
        "colab": {
          "base_uri": "https://localhost:8080/"
        },
        "id": "RT3tWV32FnEy",
        "outputId": "c2f45dcf-952a-4c91-c2a4-0604eed4cd5c"
      },
      "execution_count": null,
      "outputs": [
        {
          "output_type": "stream",
          "name": "stdout",
          "text": [
            " class AdamWeightDecayOptimizer(tf.train.Optimizer):\n"
          ]
        }
      ]
    },
    {
      "cell_type": "code",
      "source": [
        "# revised code file\n",
        "with open(\"bert/optimization.py\", \"r\") as f:\n",
        "    code_line = f.read().splitlines()\n",
        "for code in code_line:\n",
        "    if  \"class AdamWeightDecayOptimizer\" in code:\n",
        "      print(\"\", code)"
      ],
      "metadata": {
        "colab": {
          "base_uri": "https://localhost:8080/"
        },
        "id": "8X-8QChEF25p",
        "outputId": "a69a2ff8-e30f-46bb-ea81-e41ab80430ef"
      },
      "execution_count": null,
      "outputs": [
        {
          "output_type": "stream",
          "name": "stdout",
          "text": [
            " class AdamWeightDecayOptimizer(tf.compat.v1.train.Optimizer):\n"
          ]
        }
      ]
    },
    {
      "cell_type": "markdown",
      "source": [
        "[Error importing BERT: module 'tensorflow._api.v2.train' has no attribute 'Optimizer'](https://stackoverflow.com/questions/61250311/error-importing-bert-module-tensorflow-api-v2-train-has-no-attribute-optimi)"
      ],
      "metadata": {
        "id": "qjUIMDYnBltA"
      }
    },
    {
      "cell_type": "markdown",
      "source": [
        "AttributeError: module 'tensorflow._api.v2.train' has no attribute 'Optimizer'가 발생하기 때문에\n",
        "<br/>파일 optimization.py에서 class AdamWeightDecayOptimizer(tf.train.Optimizer)를 \n",
        "<br/>class AdamWeightDecayOptimizer(tf.compat.v1.train.Optimizer)로 수정한다."
      ],
      "metadata": {
        "id": "QYUIgkiiA9gE"
      }
    },
    {
      "cell_type": "code",
      "source": [
        "# original code file\n",
        "with open(\"bert/run_classifier.py\", \"r\") as f:\n",
        "    code_line = f.read().splitlines()\n",
        "for code in code_line:\n",
        "    if  \"tf.flags\" in code:\n",
        "      print(\"\", code)\n",
        "    elif \"flags.FLAGS\" in code:\n",
        "      print(\"\", code)\n",
        "    elif \"tf.app\" in code:\n",
        "      print(\"\", code)"
      ],
      "metadata": {
        "colab": {
          "base_uri": "https://localhost:8080/"
        },
        "id": "VPVuzID-C6sN",
        "outputId": "117c03ed-7d05-48b7-d6a9-3536aa6ce5d5"
      },
      "execution_count": null,
      "outputs": [
        {
          "output_type": "stream",
          "name": "stdout",
          "text": [
            " flags = tf.flags\n",
            " FLAGS = flags.FLAGS\n",
            " tf.flags.DEFINE_string(\n",
            " tf.flags.DEFINE_string(\n",
            " tf.flags.DEFINE_string(\n",
            " tf.flags.DEFINE_string(\"master\", None, \"[Optional] TensorFlow master URL.\")\n",
            "   tf.app.run()\n"
          ]
        }
      ]
    },
    {
      "cell_type": "code",
      "source": [
        "# revised code file\n",
        "with open(\"bert/run_classifier.py\", \"r\") as f:\n",
        "    code_line = f.read().splitlines()\n",
        "for code in code_line:\n",
        "    if  \"tf.compat.v1\" in code:\n",
        "      print(\"\", code)"
      ],
      "metadata": {
        "colab": {
          "base_uri": "https://localhost:8080/"
        },
        "id": "o5Z7d9PpDgBk",
        "outputId": "800b3fca-0fc2-4da1-fde7-0987e1fe1f2c"
      },
      "execution_count": null,
      "outputs": [
        {
          "output_type": "stream",
          "name": "stdout",
          "text": [
            " flags = tf.compat.v1.flags\n",
            " tf.compat.v1.flags.DEFINE_string(\n",
            " tf.compat.v1.flags.DEFINE_string(\n",
            " tf.compat.v1.flags.DEFINE_string(\n",
            " tf.compat.v1.flags.DEFINE_string(\"master\", None, \"[Optional] TensorFlow master URL.\")\n",
            "   tf.compat.v1.app.run()\n"
          ]
        }
      ]
    },
    {
      "cell_type": "markdown",
      "source": [
        "[AttributeError: module 'tensorflow' has no attribute 'flags' #1754](https://github.com/tensorflow/tensor2tensor/issues/1754)"
      ],
      "metadata": {
        "id": "EPThHlJgCzs9"
      }
    },
    {
      "cell_type": "markdown",
      "source": [
        "AttributeError: module 'tensorflow' has no attribute 'flags'가 발생하기 때문에\n",
        "<br/>파일 run_classifier.py에서 tf.flags.FLAGS를 tf.compat.v1.flags.Flag로 수정한다."
      ],
      "metadata": {
        "id": "fLCp8iq2DjSz"
      }
    },
    {
      "cell_type": "markdown",
      "source": [
        "[AttributeError: module 'tensorflow' has no attribute 'app' #34431](https://github.com/tensorflow/tensorflow/issues/34431)"
      ],
      "metadata": {
        "id": "FUQqe3AiFo1b"
      }
    },
    {
      "cell_type": "markdown",
      "source": [
        "AttributeError: module 'tensorflow' has no attribute 'app'가 발생하기 때문에\n",
        "<br/>파일 run_classifier.py에서 tf.app를 tf.compat.v1.app로 수정한다."
      ],
      "metadata": {
        "id": "qOAzkKZ-Ft_1"
      }
    },
    {
      "cell_type": "markdown",
      "source": [
        ""
      ],
      "metadata": {
        "id": "txTmsijNDNoA"
      }
    },
    {
      "cell_type": "code",
      "source": [
        "!python bert/run_classifier.py \\\n",
        "  --task_name MRPC \\\n",
        "  --do_train \\\n",
        "  --do_eval \\\n",
        "  --do_lower_case \\\n",
        "  --data_dir data/glue_data/MRPC \\\n",
        "  --bert_model bert-base-uncased \\\n",
        "  --max_seq_length 128 \\\n",
        "  --train_batch_size 32 \\\n",
        "  --learning_rate 2e-5 \\\n",
        "  --num_train_epochs 3.0 \\\n",
        "  --output_dir test_mrpc"
      ],
      "metadata": {
        "colab": {
          "base_uri": "https://localhost:8080/"
        },
        "id": "AQAm2O2YHGhE",
        "outputId": "68ac2d01-6320-4a06-aea0-41e17550e883"
      },
      "execution_count": null,
      "outputs": [
        {
          "output_type": "stream",
          "name": "stdout",
          "text": [
            "Traceback (most recent call last):\n",
            "  File \"bert/run_classifier.py\", line 981, in <module>\n",
            "    tf.compat.v1.app.run()\n",
            "  File \"/usr/local/lib/python3.7/dist-packages/tensorflow/python/platform/app.py\", line 36, in run\n",
            "    _run(main=main, argv=argv, flags_parser=_parse_flags_tolerate_undef)\n",
            "  File \"/usr/local/lib/python3.7/dist-packages/absl/app.py\", line 302, in run\n",
            "    flags_parser,\n",
            "  File \"/usr/local/lib/python3.7/dist-packages/absl/app.py\", line 371, in _run_init\n",
            "    flags_parser=flags_parser,\n",
            "  File \"/usr/local/lib/python3.7/dist-packages/absl/app.py\", line 216, in _register_and_parse_flags_with_usage\n",
            "    args_to_main = flags_parser(original_argv)\n",
            "  File \"/usr/local/lib/python3.7/dist-packages/tensorflow/python/platform/app.py\", line 27, in _parse_flags_tolerate_undef\n",
            "    return flags.FLAGS(_sys.argv if argv is None else argv, known_only=True)\n",
            "  File \"/usr/local/lib/python3.7/dist-packages/tensorflow/python/platform/flags.py\", line 109, in __call__\n",
            "    return self.__dict__['__wrapped'].__call__(*args, **kwargs)\n",
            "  File \"/usr/local/lib/python3.7/dist-packages/absl/flags/_flagvalues.py\", line 653, in __call__\n",
            "    self.validate_all_flags()\n",
            "  File \"/usr/local/lib/python3.7/dist-packages/absl/flags/_flagvalues.py\", line 513, in validate_all_flags\n",
            "    self._assert_validators(all_validators)\n",
            "  File \"/usr/local/lib/python3.7/dist-packages/absl/flags/_flagvalues.py\", line 548, in _assert_validators\n",
            "    raise _exceptions.IllegalFlagValueError('\\n'.join(messages))\n",
            "absl.flags._exceptions.IllegalFlagValueError: flag --vocab_file=None: Flag --vocab_file must have a value other than None.\n",
            "flag --bert_config_file=None: Flag --bert_config_file must have a value other than None.\n"
          ]
        }
      ]
    },
    {
      "cell_type": "markdown",
      "source": [
        "[Zhen-Dong/QBERT/NLP-quantization/Fine-tuning with BERT: examples](https://githubmemory.com/index.php/repo/Zhen-Dong/QBERT)"
      ],
      "metadata": {
        "id": "VH8VCSm_J6ua"
      }
    },
    {
      "cell_type": "markdown",
      "source": [
        "absl.flags._exceptions.IllegalFlagValueError가 발생한다."
      ],
      "metadata": {
        "id": "a0HGmJk48W-1"
      }
    },
    {
      "cell_type": "markdown",
      "source": [
        "<br/>"
      ],
      "metadata": {
        "id": "DbeOeHinDAzK"
      }
    },
    {
      "cell_type": "markdown",
      "source": [
        "##bert_uncased_L-12_H-768_A-12 MRPC Finetune"
      ],
      "metadata": {
        "id": "xzVZ8AN3teXJ"
      }
    },
    {
      "cell_type": "code",
      "source": [
        "pwd"
      ],
      "metadata": {
        "colab": {
          "base_uri": "https://localhost:8080/",
          "height": 35
        },
        "id": "K5qJWrtr0FXn",
        "outputId": "506c89f6-6c37-4625-98ec-a960a4ee7f9e"
      },
      "execution_count": null,
      "outputs": [
        {
          "output_type": "execute_result",
          "data": {
            "text/plain": [
              "'/content/drive/MyDrive/lms/huggingface_glue_task'"
            ],
            "application/vnd.google.colaboratory.intrinsic+json": {
              "type": "string"
            }
          },
          "metadata": {},
          "execution_count": 57
        }
      ]
    },
    {
      "cell_type": "markdown",
      "source": [
        "<br/><br/>"
      ],
      "metadata": {
        "id": "oF9jsEP7YYMV"
      }
    },
    {
      "cell_type": "markdown",
      "source": [
        "\n",
        "\n",
        "```\n",
        "!git clone https://github.com/google-research/bert.git\n",
        "```\n",
        "\n"
      ],
      "metadata": {
        "id": "0HtC71N3YYWM"
      }
    },
    {
      "cell_type": "markdown",
      "source": [
        ""
      ],
      "metadata": {
        "id": "oF5HKfWwYYab"
      }
    },
    {
      "cell_type": "markdown",
      "source": [
        "모델 [google-research/bert](https://github.com/google-research/bert)를 사용한다."
      ],
      "metadata": {
        "id": "iXutKPgRYVdK"
      }
    },
    {
      "cell_type": "markdown",
      "source": [
        "<br/><br/>"
      ],
      "metadata": {
        "id": "yB8BpLc4Ydha"
      }
    },
    {
      "cell_type": "code",
      "source": [
        "url_path_dict = {\"https://huggingface.co/google/bert_uncased_L-12_H-768_A-12/blob/main/vocab.txt\" : \"data/bert_uncased_L-12_H-768_A-12/vocab.txt\",\n",
        "            \"https://huggingface.co/google/bert_uncased_L-12_H-768_A-12/blob/main/bert_model.ckpt.data-00000-of-00001\" : \"data/bert_uncased_L-12_H-768_A-12/bert_model.ckpt.data-00000-of-00001\",\n",
        "            \"https://huggingface.co/google/bert_uncased_L-12_H-768_A-12/blob/main/config.json\" : \"data/bert_uncased_L-12_H-768_A-12/config.json\"}\n",
        "\n",
        "for url, save_path in url_path_dict.items():\n",
        "  request.urlretrieve(url, save_path)"
      ],
      "metadata": {
        "id": "KFBcDbKfXOwW"
      },
      "execution_count": null,
      "outputs": []
    },
    {
      "cell_type": "markdown",
      "source": [
        "[google/bert_uncased_L-12_H-768_A-12](https://huggingface.co/google/bert_uncased_L-12_H-768_A-12/tree/main)"
      ],
      "metadata": {
        "id": "Y8INMtZMyoBP"
      }
    },
    {
      "cell_type": "code",
      "source": [
        "# original code file\n",
        "with open(\"bert/run_classifier.py\", \"r\") as f:\n",
        "    code_line = f.read().splitlines()\n",
        "for code in code_line:\n",
        "    if \"tf.logging\" in code:\n",
        "      print(\"\", code)\n",
        "    elif \"do_lower_case\" in code:\n",
        "      print(\"\", code)"
      ],
      "metadata": {
        "colab": {
          "base_uri": "https://localhost:8080/"
        },
        "id": "h6tqk6VQ1o1v",
        "outputId": "ccb737ca-09c0-454c-841e-5fd008316ee5"
      },
      "execution_count": null,
      "outputs": [
        {
          "output_type": "stream",
          "name": "stdout",
          "text": [
            "     \"do_lower_case\", True,\n",
            "     tf.logging.info(\"*** Example ***\")\n",
            "     tf.logging.info(\"guid: %s\" % (example.guid))\n",
            "     tf.logging.info(\"tokens: %s\" % \" \".join(\n",
            "     tf.logging.info(\"input_ids: %s\" % \" \".join([str(x) for x in input_ids]))\n",
            "     tf.logging.info(\"input_mask: %s\" % \" \".join([str(x) for x in input_mask]))\n",
            "     tf.logging.info(\"segment_ids: %s\" % \" \".join([str(x) for x in segment_ids]))\n",
            "     tf.logging.info(\"label: %s (id = %d)\" % (example.label, label_id))\n",
            "       tf.logging.info(\"Writing example %d of %d\" % (ex_index, len(examples)))\n",
            "     tf.logging.info(\"*** Features ***\")\n",
            "       tf.logging.info(\"  name = %s, shape = %s\" % (name, features[name].shape))\n",
            "     tf.logging.info(\"**** Trainable Variables ****\")\n",
            "       tf.logging.info(\"  name = %s, shape = %s%s\", var.name, var.shape,\n",
            "       tf.logging.info(\"Writing example %d of %d\" % (ex_index, len(examples)))\n",
            "   tf.logging.set_verbosity(tf.logging.INFO)\n",
            "   tokenization.validate_case_matches_checkpoint(FLAGS.do_lower_case,\n",
            "       vocab_file=FLAGS.vocab_file, do_lower_case=FLAGS.do_lower_case)\n",
            "     tf.logging.info(\"***** Running training *****\")\n",
            "     tf.logging.info(\"  Num examples = %d\", len(train_examples))\n",
            "     tf.logging.info(\"  Batch size = %d\", FLAGS.train_batch_size)\n",
            "     tf.logging.info(\"  Num steps = %d\", num_train_steps)\n",
            "     tf.logging.info(\"***** Running evaluation *****\")\n",
            "     tf.logging.info(\"  Num examples = %d (%d actual, %d padding)\",\n",
            "     tf.logging.info(\"  Batch size = %d\", FLAGS.eval_batch_size)\n",
            "       tf.logging.info(\"***** Eval results *****\")\n",
            "         tf.logging.info(\"  %s = %s\", key, str(result[key]))\n",
            "     tf.logging.info(\"***** Running prediction*****\")\n",
            "     tf.logging.info(\"  Num examples = %d (%d actual, %d padding)\",\n",
            "     tf.logging.info(\"  Batch size = %d\", FLAGS.predict_batch_size)\n",
            "       tf.logging.info(\"***** Predict results *****\")\n"
          ]
        }
      ]
    },
    {
      "cell_type": "code",
      "source": [
        "#revised code file\n",
        "with open(\"bert/run_classifier.py\", \"r\") as f:\n",
        "    code_line = f.read().splitlines()\n",
        "for code in code_line:\n",
        "    if \"tf.compat.v1.logging\" in code:\n",
        "      print(\"\", code)\n",
        "    elif \"do_lower_case\" in code:\n",
        "      print(\"\", code)"
      ],
      "metadata": {
        "colab": {
          "base_uri": "https://localhost:8080/"
        },
        "id": "Uf1aJdPc7qO2",
        "outputId": "eae2880a-3da3-438c-ef47-074dd3def560"
      },
      "execution_count": null,
      "outputs": [
        {
          "output_type": "stream",
          "name": "stdout",
          "text": [
            "     tf.compat.v1.logging.info(\"*** Example ***\")\n",
            "     tf.compat.v1.logging.info(\"guid: %s\" % (example.guid))\n",
            "     tf.compat.v1.logging.info(\"tokens: %s\" % \" \".join(\n",
            "     tf.compat.v1.logging.info(\"input_ids: %s\" % \" \".join([str(x) for x in input_ids]))\n",
            "     tf.compat.v1.logging.info(\"input_mask: %s\" % \" \".join([str(x) for x in input_mask]))\n",
            "     tf.compat.v1.logging.info(\"segment_ids: %s\" % \" \".join([str(x) for x in segment_ids]))\n",
            "     tf.compat.v1.logging.info(\"label: %s (id = %d)\" % (example.label, label_id))\n",
            "       tf.compat.v1.logging.info(\"Writing example %d of %d\" % (ex_index, len(examples)))\n",
            "     tf.compat.v1.logging.info(\"*** Features ***\")\n",
            "       tf.compat.v1.logging.info(\"  name = %s, shape = %s\" % (name, features[name].shape))\n",
            "     tf.compat.v1.logging.info(\"**** Trainable Variables ****\")\n",
            "       tf.compat.v1.logging.info(\"  name = %s, shape = %s%s\", var.name, var.shape,\n",
            "       tf.compat.v1.logging.info(\"Writing example %d of %d\" % (ex_index, len(examples)))\n",
            "   tf.compat.v1.logging.set_verbosity(tf.compat.v1.logging.INFO)\n",
            "     tf.compat.v1.logging.info(\"***** Running training *****\")\n",
            "     tf.compat.v1.logging.info(\"  Num examples = %d\", len(train_examples))\n",
            "     tf.compat.v1.logging.info(\"  Batch size = %d\", FLAGS.train_batch_size)\n",
            "     tf.compat.v1.logging.info(\"  Num steps = %d\", num_train_steps)\n",
            "     tf.compat.v1.logging.info(\"***** Running evaluation *****\")\n",
            "     tf.compat.v1.logging.info(\"  Num examples = %d (%d actual, %d padding)\",\n",
            "     tf.compat.v1.logging.info(\"  Batch size = %d\", FLAGS.eval_batch_size)\n",
            "       tf.compat.v1.logging.info(\"***** Eval results *****\")\n",
            "         tf.compat.v1.logging.info(\"  %s = %s\", key, str(result[key]))\n",
            "     tf.compat.v1.logging.info(\"***** Running prediction*****\")\n",
            "     tf.compat.v1.logging.info(\"  Num examples = %d (%d actual, %d padding)\",\n",
            "     tf.compat.v1.logging.info(\"  Batch size = %d\", FLAGS.predict_batch_size)\n",
            "       tf.compat.v1.logging.info(\"***** Predict results *****\")\n"
          ]
        }
      ]
    },
    {
      "cell_type": "markdown",
      "source": [
        "[AttributeError: module 'tensorflow' has no attribute 'logging'](https://systemout.tistory.com/8)"
      ],
      "metadata": {
        "id": "91Pcchph6d8c"
      }
    },
    {
      "cell_type": "markdown",
      "source": [
        "AttributeError: module 'tensorflow' has no attribute 'logging'이 발생하기 때문에\n",
        "<br/>파일 run_classifier.py에서 tf.logging 대신 tf.compat.v1.logging로 수정한다."
      ],
      "metadata": {
        "id": "IkSjG7rT6O0l"
      }
    },
    {
      "cell_type": "markdown",
      "source": [
        "AttributeError: type object 'Flag' has no attribute 'do_lower_case'가 발생하기 때문에\n",
        "<br/>파일 run_classifier.py에서 do_lower_case를 제외한다."
      ],
      "metadata": {
        "id": "AYzJiTVB6qyN"
      }
    },
    {
      "cell_type": "markdown",
      "source": [
        ""
      ],
      "metadata": {
        "id": "eI2OU5xz6q0t"
      }
    },
    {
      "cell_type": "code",
      "source": [
        "!python bert/run_classifier.py \\\n",
        "  --task_name=MRPC \\\n",
        "  --do_train=true \\\n",
        "  --do_eval=true \\\n",
        "  --data_dir data/MRPC \\\n",
        "  --vocab_file data/bert_uncased_L-12_H-768_A-12/vocab.txt \\\n",
        "  --bert_config_file data/bert_uncased_L-12_H-768_A-12/config.json \\\n",
        "  --init_checkpoin data/bert_uncased_L-12_H-768_A-12/bert_model.ckpt.data-00000-of-00001 \\\n",
        "  --max_seq_length=128 \\\n",
        "  --train_batch_size=32 \\\n",
        "  --learning_rate=2e-5 \\\n",
        "  --num_train_epochs=3.0 \\\n",
        "  --output_dir bert_uncased_L-12_H-768_A-12_mrpc \\"
      ],
      "metadata": {
        "colab": {
          "base_uri": "https://localhost:8080/"
        },
        "id": "QqfiwsUytgIo",
        "outputId": "ecee82e3-c307-4ec2-84b5-db245cc3adc4"
      },
      "execution_count": null,
      "outputs": [
        {
          "output_type": "stream",
          "name": "stdout",
          "text": [
            "Traceback (most recent call last):\n",
            "  File \"bert/run_classifier.py\", line 60, in <module>\n",
            "    \"Whether to lower case the input text. Should be True for uncased \"\n",
            "  File \"/usr/local/lib/python3.7/dist-packages/tensorflow/python/platform/flags.py\", line 55, in wrapper\n",
            "    return original_function(*args, **kwargs)\n",
            "TypeError: DEFINE_boolean() missing 2 required positional arguments: 'default' and 'help'\n"
          ]
        }
      ]
    },
    {
      "cell_type": "markdown",
      "source": [
        "[google-research/bert/Sentence (and sentence-pair) classification tasks](https://github.com/google-research/bert)"
      ],
      "metadata": {
        "id": "eF-wRvFg-gw0"
      }
    },
    {
      "cell_type": "markdown",
      "source": [
        "TypeError: DEFINE_boolean() missing 2 required positional arguments: 'default' and 'help'가 발생한다."
      ],
      "metadata": {
        "id": "834xMXRT7kYN"
      }
    },
    {
      "cell_type": "markdown",
      "source": [
        "<br/>"
      ],
      "metadata": {
        "id": "4qJdQ7OLDFH7"
      }
    },
    {
      "cell_type": "markdown",
      "source": [
        "##Debugging"
      ],
      "metadata": {
        "id": "skhrrQE8Rad5"
      }
    },
    {
      "cell_type": "markdown",
      "source": [
        "HuggingFace에 등록된 MRPC 모델의 CLI 코드를 실행했다.\n",
        "<br/>bert-base-cased MRPC Finetune\n",
        "<br/>bert-base-uncased MRPC Finetune\n",
        "<br/>bert_uncased_L-12_H-768_A-12 MRPC Finetune"
      ],
      "metadata": {
        "id": "CD5noHDgWepP"
      }
    },
    {
      "cell_type": "markdown",
      "source": [
        "Tensorflow 버전 차이 때문에 AttributeError, TyperError가 발생한다.\n",
        "<br/>py 파일을 여러 번 수정해도 또 다른 에러가 떠서 아예 코드 전체를 바꿔야 하는 디버깅 작업이 요구된다."
      ],
      "metadata": {
        "id": "XiSj-ftIWz9m"
      }
    },
    {
      "cell_type": "markdown",
      "source": [
        "\n",
        "이러한 상황에서 그 작동 코드의 옛날 버전에 맞는 가상환경을 구축하거나\n",
        "<br/>코드 전체를 바꿔서 원작자에게 연락하여 Github Contributor가 되는 방법이 있는 것인가?\n",
        "<br/>개발자는 모델 개발과 배포 프로세스에서 발생한 이슈에 어떻게 대처하는가?"
      ],
      "metadata": {
        "id": "WR4MAvNzWs3Z"
      }
    },
    {
      "cell_type": "markdown",
      "source": [
        "<br/>"
      ],
      "metadata": {
        "id": "zoHB7FpdX0fH"
      }
    },
    {
      "cell_type": "markdown",
      "source": [
        "#Transformer Pipeline"
      ],
      "metadata": {
        "id": "D-r5T2gsVVtx"
      }
    },
    {
      "cell_type": "markdown",
      "source": [
        "[huggingface transformer basic usage](https://www.kaggle.com/code/nageshsingh/huggingface-transformer-basic-usage)"
      ],
      "metadata": {
        "id": "E4RgiLmjPw-_"
      }
    },
    {
      "cell_type": "markdown",
      "source": [
        "##Text generation"
      ],
      "metadata": {
        "id": "gO3gWYF2W8T5"
      }
    },
    {
      "cell_type": "code",
      "source": [
        "pwd"
      ],
      "metadata": {
        "colab": {
          "base_uri": "https://localhost:8080/",
          "height": 35
        },
        "id": "vb9svU6hV2SE",
        "outputId": "7e0d8e6b-ece9-4f6d-977a-f551aef0a455"
      },
      "execution_count": null,
      "outputs": [
        {
          "output_type": "execute_result",
          "data": {
            "text/plain": [
              "'/content/drive/MyDrive/lms/huggingface_glue_task'"
            ],
            "application/vnd.google.colaboratory.intrinsic+json": {
              "type": "string"
            }
          },
          "metadata": {},
          "execution_count": 92
        }
      ]
    },
    {
      "cell_type": "code",
      "source": [
        "cd transfomers_v4.21.1"
      ],
      "metadata": {
        "id": "SVEUK3aLV55V"
      },
      "execution_count": null,
      "outputs": []
    },
    {
      "cell_type": "code",
      "source": [
        "from transformers import pipeline, set_seed"
      ],
      "metadata": {
        "id": "_8r3QfJAT1QY"
      },
      "execution_count": null,
      "outputs": []
    },
    {
      "cell_type": "code",
      "source": [
        "generator = pipeline('text-generation', model='gpt2')\n",
        "set_seed(123)\n",
        "text_generation_dict = generator(\"Hello, I like to play soccer,\", max_length=60, num_return_sequences=7)\n",
        "print(\"\\n\")\n",
        "pd.set_option('display.max_colwidth', None)\n",
        "text_generation_df = pd.DataFrame.from_dict(text_generation_dict)\n",
        "display(text_generation_df.style.set_properties(**{'white-space': 'pre-wrap'}))"
      ],
      "metadata": {
        "colab": {
          "base_uri": "https://localhost:8080/",
          "height": 567
        },
        "id": "8SizhkQKSaMQ",
        "outputId": "fe55f73b-a2b8-4dc7-9438-791cfcde48ad"
      },
      "execution_count": null,
      "outputs": [
        {
          "output_type": "stream",
          "name": "stderr",
          "text": [
            "Setting `pad_token_id` to `eos_token_id`:50256 for open-end generation.\n"
          ]
        },
        {
          "output_type": "stream",
          "name": "stdout",
          "text": [
            "\n",
            "\n"
          ]
        },
        {
          "output_type": "display_data",
          "data": {
            "text/plain": [
              "<pandas.io.formats.style.Styler at 0x7fce51eb9c50>"
            ],
            "text/html": [
              "<style type=\"text/css\">\n",
              "#T_a2a77_row0_col0, #T_a2a77_row1_col0, #T_a2a77_row2_col0, #T_a2a77_row3_col0, #T_a2a77_row4_col0, #T_a2a77_row5_col0, #T_a2a77_row6_col0 {\n",
              "  white-space: pre-wrap;\n",
              "}\n",
              "</style>\n",
              "<table id=\"T_a2a77_\" class=\"dataframe\">\n",
              "  <thead>\n",
              "    <tr>\n",
              "      <th class=\"blank level0\" >&nbsp;</th>\n",
              "      <th class=\"col_heading level0 col0\" >generated_text</th>\n",
              "    </tr>\n",
              "  </thead>\n",
              "  <tbody>\n",
              "    <tr>\n",
              "      <th id=\"T_a2a77_level0_row0\" class=\"row_heading level0 row0\" >0</th>\n",
              "      <td id=\"T_a2a77_row0_col0\" class=\"data row0 col0\" >Hello, I like to play soccer, not basketball. It's an interesting sport and I like that.\n",
              "\n",
              "\"Well, it's not like I'm playing. It's more like I'm just not really doing it, playing a team game in Brazil. No I don't. I'm</td>\n",
              "    </tr>\n",
              "    <tr>\n",
              "      <th id=\"T_a2a77_level0_row1\" class=\"row_heading level0 row1\" >1</th>\n",
              "      <td id=\"T_a2a77_row1_col0\" class=\"data row1 col0\" >Hello, I like to play soccer, I am very good at that,\" said Nel-Kaem.\n",
              "\n",
              "The 30-year old center forward played for the Czech Republic under the former president Viktor Orban this past year and played collegiately in his position for the Republic and the European</td>\n",
              "    </tr>\n",
              "    <tr>\n",
              "      <th id=\"T_a2a77_level0_row2\" class=\"row_heading level0 row2\" >2</th>\n",
              "      <td id=\"T_a2a77_row2_col0\" class=\"data row2 col0\" >Hello, I like to play soccer, but I am not one of those people who likes to play in the middle of the ball. It might be a sign or an excuse to get up early, but it seems like an important issue to me to take care of.\"\n",
              "\n",
              "Still, he added</td>\n",
              "    </tr>\n",
              "    <tr>\n",
              "      <th id=\"T_a2a77_level0_row3\" class=\"row_heading level0 row3\" >3</th>\n",
              "      <td id=\"T_a2a77_row3_col0\" class=\"data row3 col0\" >Hello, I like to play soccer, so I like to spend a lot of time with those kids in the morning, just walking by the water.\"</td>\n",
              "    </tr>\n",
              "    <tr>\n",
              "      <th id=\"T_a2a77_level0_row4\" class=\"row_heading level0 row4\" >4</th>\n",
              "      <td id=\"T_a2a77_row4_col0\" class=\"data row4 col0\" >Hello, I like to play soccer, it is the only way I have managed to do it since then.\"\n",
              "\n",
              "\"Yes,\" said Harry, and he turned to look at him. He was wearing only a short coat but he seemed pleased at how he managed to play even in this dark night</td>\n",
              "    </tr>\n",
              "    <tr>\n",
              "      <th id=\"T_a2a77_level0_row5\" class=\"row_heading level0 row5\" >5</th>\n",
              "      <td id=\"T_a2a77_row5_col0\" class=\"data row5 col0\" >Hello, I like to play soccer, you know, and I do play soccer too,\" says Darnell, who played on his soccer team. \"But football, it's a different environment, it's much more physical and has many better technical abilities. I didn't feel like I had to</td>\n",
              "    </tr>\n",
              "    <tr>\n",
              "      <th id=\"T_a2a77_level0_row6\" class=\"row_heading level0 row6\" >6</th>\n",
              "      <td id=\"T_a2a77_row6_col0\" class=\"data row6 col0\" >Hello, I like to play soccer, but I play basketball. The way I play, I'm not in my late 40's but I'm ready, I'm ready to be here.\"\n",
              "\n",
              "One fan at the home of Portland's star midfielder is even taking advantage of the chance to get into</td>\n",
              "    </tr>\n",
              "  </tbody>\n",
              "</table>\n"
            ]
          },
          "metadata": {}
        }
      ]
    },
    {
      "cell_type": "markdown",
      "source": [
        "##Sentiment analysis"
      ],
      "metadata": {
        "id": "YdeQ5fkSWyLb"
      }
    },
    {
      "cell_type": "code",
      "source": [
        "classifier = pipeline('sentiment-analysis', model='gpt2')\n",
        "set_seed(123)\n",
        "sentiment_anlysis_dict = classifier('We are very happy to introduce pipeline to the transformers repository.')\n",
        "print(\"\\n\")\n",
        "sentiment_anlysis_df = pd.DataFrame(sentiment_anlysis_dict).round(4)\n",
        "sentiment_anlysis_df"
      ],
      "metadata": {
        "colab": {
          "base_uri": "https://localhost:8080/",
          "height": 174
        },
        "id": "yhm5bCVjvmv2",
        "outputId": "cea3dc36-bd25-4294-96f3-36426b475092"
      },
      "execution_count": null,
      "outputs": [
        {
          "output_type": "stream",
          "name": "stderr",
          "text": [
            "Some weights of GPT2ForSequenceClassification were not initialized from the model checkpoint at gpt2 and are newly initialized: ['score.weight']\n",
            "You should probably TRAIN this model on a down-stream task to be able to use it for predictions and inference.\n"
          ]
        },
        {
          "output_type": "stream",
          "name": "stdout",
          "text": [
            "\n",
            "\n"
          ]
        },
        {
          "output_type": "execute_result",
          "data": {
            "text/plain": [
              "     label   score\n",
              "0  LABEL_0  0.6714"
            ],
            "text/html": [
              "\n",
              "  <div id=\"df-1b1c6077-1c59-463e-ac2b-5c963566a6f1\">\n",
              "    <div class=\"colab-df-container\">\n",
              "      <div>\n",
              "<style scoped>\n",
              "    .dataframe tbody tr th:only-of-type {\n",
              "        vertical-align: middle;\n",
              "    }\n",
              "\n",
              "    .dataframe tbody tr th {\n",
              "        vertical-align: top;\n",
              "    }\n",
              "\n",
              "    .dataframe thead th {\n",
              "        text-align: right;\n",
              "    }\n",
              "</style>\n",
              "<table border=\"1\" class=\"dataframe\">\n",
              "  <thead>\n",
              "    <tr style=\"text-align: right;\">\n",
              "      <th></th>\n",
              "      <th>label</th>\n",
              "      <th>score</th>\n",
              "    </tr>\n",
              "  </thead>\n",
              "  <tbody>\n",
              "    <tr>\n",
              "      <th>0</th>\n",
              "      <td>LABEL_0</td>\n",
              "      <td>0.6714</td>\n",
              "    </tr>\n",
              "  </tbody>\n",
              "</table>\n",
              "</div>\n",
              "      <button class=\"colab-df-convert\" onclick=\"convertToInteractive('df-1b1c6077-1c59-463e-ac2b-5c963566a6f1')\"\n",
              "              title=\"Convert this dataframe to an interactive table.\"\n",
              "              style=\"display:none;\">\n",
              "        \n",
              "  <svg xmlns=\"http://www.w3.org/2000/svg\" height=\"24px\"viewBox=\"0 0 24 24\"\n",
              "       width=\"24px\">\n",
              "    <path d=\"M0 0h24v24H0V0z\" fill=\"none\"/>\n",
              "    <path d=\"M18.56 5.44l.94 2.06.94-2.06 2.06-.94-2.06-.94-.94-2.06-.94 2.06-2.06.94zm-11 1L8.5 8.5l.94-2.06 2.06-.94-2.06-.94L8.5 2.5l-.94 2.06-2.06.94zm10 10l.94 2.06.94-2.06 2.06-.94-2.06-.94-.94-2.06-.94 2.06-2.06.94z\"/><path d=\"M17.41 7.96l-1.37-1.37c-.4-.4-.92-.59-1.43-.59-.52 0-1.04.2-1.43.59L10.3 9.45l-7.72 7.72c-.78.78-.78 2.05 0 2.83L4 21.41c.39.39.9.59 1.41.59.51 0 1.02-.2 1.41-.59l7.78-7.78 2.81-2.81c.8-.78.8-2.07 0-2.86zM5.41 20L4 18.59l7.72-7.72 1.47 1.35L5.41 20z\"/>\n",
              "  </svg>\n",
              "      </button>\n",
              "      \n",
              "  <style>\n",
              "    .colab-df-container {\n",
              "      display:flex;\n",
              "      flex-wrap:wrap;\n",
              "      gap: 12px;\n",
              "    }\n",
              "\n",
              "    .colab-df-convert {\n",
              "      background-color: #E8F0FE;\n",
              "      border: none;\n",
              "      border-radius: 50%;\n",
              "      cursor: pointer;\n",
              "      display: none;\n",
              "      fill: #1967D2;\n",
              "      height: 32px;\n",
              "      padding: 0 0 0 0;\n",
              "      width: 32px;\n",
              "    }\n",
              "\n",
              "    .colab-df-convert:hover {\n",
              "      background-color: #E2EBFA;\n",
              "      box-shadow: 0px 1px 2px rgba(60, 64, 67, 0.3), 0px 1px 3px 1px rgba(60, 64, 67, 0.15);\n",
              "      fill: #174EA6;\n",
              "    }\n",
              "\n",
              "    [theme=dark] .colab-df-convert {\n",
              "      background-color: #3B4455;\n",
              "      fill: #D2E3FC;\n",
              "    }\n",
              "\n",
              "    [theme=dark] .colab-df-convert:hover {\n",
              "      background-color: #434B5C;\n",
              "      box-shadow: 0px 1px 3px 1px rgba(0, 0, 0, 0.15);\n",
              "      filter: drop-shadow(0px 1px 2px rgba(0, 0, 0, 0.3));\n",
              "      fill: #FFFFFF;\n",
              "    }\n",
              "  </style>\n",
              "\n",
              "      <script>\n",
              "        const buttonEl =\n",
              "          document.querySelector('#df-1b1c6077-1c59-463e-ac2b-5c963566a6f1 button.colab-df-convert');\n",
              "        buttonEl.style.display =\n",
              "          google.colab.kernel.accessAllowed ? 'block' : 'none';\n",
              "\n",
              "        async function convertToInteractive(key) {\n",
              "          const element = document.querySelector('#df-1b1c6077-1c59-463e-ac2b-5c963566a6f1');\n",
              "          const dataTable =\n",
              "            await google.colab.kernel.invokeFunction('convertToInteractive',\n",
              "                                                     [key], {});\n",
              "          if (!dataTable) return;\n",
              "\n",
              "          const docLinkHtml = 'Like what you see? Visit the ' +\n",
              "            '<a target=\"_blank\" href=https://colab.research.google.com/notebooks/data_table.ipynb>data table notebook</a>'\n",
              "            + ' to learn more about interactive tables.';\n",
              "          element.innerHTML = '';\n",
              "          dataTable['output_type'] = 'display_data';\n",
              "          await google.colab.output.renderOutput(dataTable, element);\n",
              "          const docLink = document.createElement('div');\n",
              "          docLink.innerHTML = docLinkHtml;\n",
              "          element.appendChild(docLink);\n",
              "        }\n",
              "      </script>\n",
              "    </div>\n",
              "  </div>\n",
              "  "
            ]
          },
          "metadata": {},
          "execution_count": 37
        }
      ]
    },
    {
      "cell_type": "markdown",
      "source": [
        "##Question Answering"
      ],
      "metadata": {
        "id": "ZmameQzHXA4q"
      }
    },
    {
      "cell_type": "code",
      "source": [
        "question_answerer = pipeline('question-answering')\n",
        "question_answering_dict = question_answerer({\n",
        "    'question': 'What is the Newtons third law of motion?',\n",
        "    'context': 'Newton’s third law of motion states that, \"For every action there is equal and opposite reaction\"'})\n",
        "print(\"\\n\")\n",
        "question_answering_df = pd.DataFrame([question_answering_dict]).round(4)\n",
        "question_answering_df "
      ],
      "metadata": {
        "colab": {
          "base_uri": "https://localhost:8080/",
          "height": 174
        },
        "id": "J0vCTDjNSnpR",
        "outputId": "514f0135-e277-42ba-d9e6-1301b9ae5147"
      },
      "execution_count": null,
      "outputs": [
        {
          "output_type": "stream",
          "name": "stderr",
          "text": [
            "No model was supplied, defaulted to distilbert-base-cased-distilled-squad and revision 626af31 (https://huggingface.co/distilbert-base-cased-distilled-squad).\n",
            "Using a pipeline without specifying a model name and revision in production is not recommended.\n"
          ]
        },
        {
          "output_type": "stream",
          "name": "stdout",
          "text": [
            "\n",
            "\n"
          ]
        },
        {
          "output_type": "execute_result",
          "data": {
            "text/plain": [
              "    score  start  end                                                   answer\n",
              "0  0.6063  42     97   \"For every action there is equal and opposite reaction\""
            ],
            "text/html": [
              "\n",
              "  <div id=\"df-181b013f-ca30-4d12-8932-22f6c4f1df5a\">\n",
              "    <div class=\"colab-df-container\">\n",
              "      <div>\n",
              "<style scoped>\n",
              "    .dataframe tbody tr th:only-of-type {\n",
              "        vertical-align: middle;\n",
              "    }\n",
              "\n",
              "    .dataframe tbody tr th {\n",
              "        vertical-align: top;\n",
              "    }\n",
              "\n",
              "    .dataframe thead th {\n",
              "        text-align: right;\n",
              "    }\n",
              "</style>\n",
              "<table border=\"1\" class=\"dataframe\">\n",
              "  <thead>\n",
              "    <tr style=\"text-align: right;\">\n",
              "      <th></th>\n",
              "      <th>score</th>\n",
              "      <th>start</th>\n",
              "      <th>end</th>\n",
              "      <th>answer</th>\n",
              "    </tr>\n",
              "  </thead>\n",
              "  <tbody>\n",
              "    <tr>\n",
              "      <th>0</th>\n",
              "      <td>0.6063</td>\n",
              "      <td>42</td>\n",
              "      <td>97</td>\n",
              "      <td>\"For every action there is equal and opposite reaction\"</td>\n",
              "    </tr>\n",
              "  </tbody>\n",
              "</table>\n",
              "</div>\n",
              "      <button class=\"colab-df-convert\" onclick=\"convertToInteractive('df-181b013f-ca30-4d12-8932-22f6c4f1df5a')\"\n",
              "              title=\"Convert this dataframe to an interactive table.\"\n",
              "              style=\"display:none;\">\n",
              "        \n",
              "  <svg xmlns=\"http://www.w3.org/2000/svg\" height=\"24px\"viewBox=\"0 0 24 24\"\n",
              "       width=\"24px\">\n",
              "    <path d=\"M0 0h24v24H0V0z\" fill=\"none\"/>\n",
              "    <path d=\"M18.56 5.44l.94 2.06.94-2.06 2.06-.94-2.06-.94-.94-2.06-.94 2.06-2.06.94zm-11 1L8.5 8.5l.94-2.06 2.06-.94-2.06-.94L8.5 2.5l-.94 2.06-2.06.94zm10 10l.94 2.06.94-2.06 2.06-.94-2.06-.94-.94-2.06-.94 2.06-2.06.94z\"/><path d=\"M17.41 7.96l-1.37-1.37c-.4-.4-.92-.59-1.43-.59-.52 0-1.04.2-1.43.59L10.3 9.45l-7.72 7.72c-.78.78-.78 2.05 0 2.83L4 21.41c.39.39.9.59 1.41.59.51 0 1.02-.2 1.41-.59l7.78-7.78 2.81-2.81c.8-.78.8-2.07 0-2.86zM5.41 20L4 18.59l7.72-7.72 1.47 1.35L5.41 20z\"/>\n",
              "  </svg>\n",
              "      </button>\n",
              "      \n",
              "  <style>\n",
              "    .colab-df-container {\n",
              "      display:flex;\n",
              "      flex-wrap:wrap;\n",
              "      gap: 12px;\n",
              "    }\n",
              "\n",
              "    .colab-df-convert {\n",
              "      background-color: #E8F0FE;\n",
              "      border: none;\n",
              "      border-radius: 50%;\n",
              "      cursor: pointer;\n",
              "      display: none;\n",
              "      fill: #1967D2;\n",
              "      height: 32px;\n",
              "      padding: 0 0 0 0;\n",
              "      width: 32px;\n",
              "    }\n",
              "\n",
              "    .colab-df-convert:hover {\n",
              "      background-color: #E2EBFA;\n",
              "      box-shadow: 0px 1px 2px rgba(60, 64, 67, 0.3), 0px 1px 3px 1px rgba(60, 64, 67, 0.15);\n",
              "      fill: #174EA6;\n",
              "    }\n",
              "\n",
              "    [theme=dark] .colab-df-convert {\n",
              "      background-color: #3B4455;\n",
              "      fill: #D2E3FC;\n",
              "    }\n",
              "\n",
              "    [theme=dark] .colab-df-convert:hover {\n",
              "      background-color: #434B5C;\n",
              "      box-shadow: 0px 1px 3px 1px rgba(0, 0, 0, 0.15);\n",
              "      filter: drop-shadow(0px 1px 2px rgba(0, 0, 0, 0.3));\n",
              "      fill: #FFFFFF;\n",
              "    }\n",
              "  </style>\n",
              "\n",
              "      <script>\n",
              "        const buttonEl =\n",
              "          document.querySelector('#df-181b013f-ca30-4d12-8932-22f6c4f1df5a button.colab-df-convert');\n",
              "        buttonEl.style.display =\n",
              "          google.colab.kernel.accessAllowed ? 'block' : 'none';\n",
              "\n",
              "        async function convertToInteractive(key) {\n",
              "          const element = document.querySelector('#df-181b013f-ca30-4d12-8932-22f6c4f1df5a');\n",
              "          const dataTable =\n",
              "            await google.colab.kernel.invokeFunction('convertToInteractive',\n",
              "                                                     [key], {});\n",
              "          if (!dataTable) return;\n",
              "\n",
              "          const docLinkHtml = 'Like what you see? Visit the ' +\n",
              "            '<a target=\"_blank\" href=https://colab.research.google.com/notebooks/data_table.ipynb>data table notebook</a>'\n",
              "            + ' to learn more about interactive tables.';\n",
              "          element.innerHTML = '';\n",
              "          dataTable['output_type'] = 'display_data';\n",
              "          await google.colab.output.renderOutput(dataTable, element);\n",
              "          const docLink = document.createElement('div');\n",
              "          docLink.innerHTML = docLinkHtml;\n",
              "          element.appendChild(docLink);\n",
              "        }\n",
              "      </script>\n",
              "    </div>\n",
              "  </div>\n",
              "  "
            ]
          },
          "metadata": {},
          "execution_count": 38
        }
      ]
    },
    {
      "cell_type": "markdown",
      "source": [
        "##Text prediction"
      ],
      "metadata": {
        "id": "w089ism-XI6J"
      }
    },
    {
      "cell_type": "code",
      "source": [
        "unmasker = pipeline('fill-mask', model='bert-base-cased')\n",
        "fill_mask_dict = unmasker(\"Hello, My name is [MASK].\")\n",
        "print(\"\\n\")\n",
        "fill_mask_df = pd.DataFrame.from_dict(fill_mask_dict).round(4)\n",
        "fill_mask_df"
      ],
      "metadata": {
        "colab": {
          "base_uri": "https://localhost:8080/",
          "height": 318
        },
        "id": "HpIhs183V36H",
        "outputId": "7f9a0808-959f-4356-d4fe-861fa9cfc48a"
      },
      "execution_count": null,
      "outputs": [
        {
          "output_type": "stream",
          "name": "stderr",
          "text": [
            "Some weights of the model checkpoint at bert-base-cased were not used when initializing BertForMaskedLM: ['cls.seq_relationship.weight', 'cls.seq_relationship.bias']\n",
            "- This IS expected if you are initializing BertForMaskedLM from the checkpoint of a model trained on another task or with another architecture (e.g. initializing a BertForSequenceClassification model from a BertForPreTraining model).\n",
            "- This IS NOT expected if you are initializing BertForMaskedLM from the checkpoint of a model that you expect to be exactly identical (initializing a BertForSequenceClassification model from a BertForSequenceClassification model).\n"
          ]
        },
        {
          "output_type": "stream",
          "name": "stdout",
          "text": [
            "\n",
            "\n"
          ]
        },
        {
          "output_type": "execute_result",
          "data": {
            "text/plain": [
              "    score  token token_str                    sequence\n",
              "0  0.0079  1681   David     Hello, My name is David.  \n",
              "1  0.0073  5036   Kate      Hello, My name is Kate.   \n",
              "2  0.0071  2687   Sam       Hello, My name is Sam.    \n",
              "3  0.0062  1600   James     Hello, My name is James.  \n",
              "4  0.0061  4117   Charlie   Hello, My name is Charlie."
            ],
            "text/html": [
              "\n",
              "  <div id=\"df-fed681b6-4f90-4cd4-bae2-c87002112983\">\n",
              "    <div class=\"colab-df-container\">\n",
              "      <div>\n",
              "<style scoped>\n",
              "    .dataframe tbody tr th:only-of-type {\n",
              "        vertical-align: middle;\n",
              "    }\n",
              "\n",
              "    .dataframe tbody tr th {\n",
              "        vertical-align: top;\n",
              "    }\n",
              "\n",
              "    .dataframe thead th {\n",
              "        text-align: right;\n",
              "    }\n",
              "</style>\n",
              "<table border=\"1\" class=\"dataframe\">\n",
              "  <thead>\n",
              "    <tr style=\"text-align: right;\">\n",
              "      <th></th>\n",
              "      <th>score</th>\n",
              "      <th>token</th>\n",
              "      <th>token_str</th>\n",
              "      <th>sequence</th>\n",
              "    </tr>\n",
              "  </thead>\n",
              "  <tbody>\n",
              "    <tr>\n",
              "      <th>0</th>\n",
              "      <td>0.0079</td>\n",
              "      <td>1681</td>\n",
              "      <td>David</td>\n",
              "      <td>Hello, My name is David.</td>\n",
              "    </tr>\n",
              "    <tr>\n",
              "      <th>1</th>\n",
              "      <td>0.0073</td>\n",
              "      <td>5036</td>\n",
              "      <td>Kate</td>\n",
              "      <td>Hello, My name is Kate.</td>\n",
              "    </tr>\n",
              "    <tr>\n",
              "      <th>2</th>\n",
              "      <td>0.0071</td>\n",
              "      <td>2687</td>\n",
              "      <td>Sam</td>\n",
              "      <td>Hello, My name is Sam.</td>\n",
              "    </tr>\n",
              "    <tr>\n",
              "      <th>3</th>\n",
              "      <td>0.0062</td>\n",
              "      <td>1600</td>\n",
              "      <td>James</td>\n",
              "      <td>Hello, My name is James.</td>\n",
              "    </tr>\n",
              "    <tr>\n",
              "      <th>4</th>\n",
              "      <td>0.0061</td>\n",
              "      <td>4117</td>\n",
              "      <td>Charlie</td>\n",
              "      <td>Hello, My name is Charlie.</td>\n",
              "    </tr>\n",
              "  </tbody>\n",
              "</table>\n",
              "</div>\n",
              "      <button class=\"colab-df-convert\" onclick=\"convertToInteractive('df-fed681b6-4f90-4cd4-bae2-c87002112983')\"\n",
              "              title=\"Convert this dataframe to an interactive table.\"\n",
              "              style=\"display:none;\">\n",
              "        \n",
              "  <svg xmlns=\"http://www.w3.org/2000/svg\" height=\"24px\"viewBox=\"0 0 24 24\"\n",
              "       width=\"24px\">\n",
              "    <path d=\"M0 0h24v24H0V0z\" fill=\"none\"/>\n",
              "    <path d=\"M18.56 5.44l.94 2.06.94-2.06 2.06-.94-2.06-.94-.94-2.06-.94 2.06-2.06.94zm-11 1L8.5 8.5l.94-2.06 2.06-.94-2.06-.94L8.5 2.5l-.94 2.06-2.06.94zm10 10l.94 2.06.94-2.06 2.06-.94-2.06-.94-.94-2.06-.94 2.06-2.06.94z\"/><path d=\"M17.41 7.96l-1.37-1.37c-.4-.4-.92-.59-1.43-.59-.52 0-1.04.2-1.43.59L10.3 9.45l-7.72 7.72c-.78.78-.78 2.05 0 2.83L4 21.41c.39.39.9.59 1.41.59.51 0 1.02-.2 1.41-.59l7.78-7.78 2.81-2.81c.8-.78.8-2.07 0-2.86zM5.41 20L4 18.59l7.72-7.72 1.47 1.35L5.41 20z\"/>\n",
              "  </svg>\n",
              "      </button>\n",
              "      \n",
              "  <style>\n",
              "    .colab-df-container {\n",
              "      display:flex;\n",
              "      flex-wrap:wrap;\n",
              "      gap: 12px;\n",
              "    }\n",
              "\n",
              "    .colab-df-convert {\n",
              "      background-color: #E8F0FE;\n",
              "      border: none;\n",
              "      border-radius: 50%;\n",
              "      cursor: pointer;\n",
              "      display: none;\n",
              "      fill: #1967D2;\n",
              "      height: 32px;\n",
              "      padding: 0 0 0 0;\n",
              "      width: 32px;\n",
              "    }\n",
              "\n",
              "    .colab-df-convert:hover {\n",
              "      background-color: #E2EBFA;\n",
              "      box-shadow: 0px 1px 2px rgba(60, 64, 67, 0.3), 0px 1px 3px 1px rgba(60, 64, 67, 0.15);\n",
              "      fill: #174EA6;\n",
              "    }\n",
              "\n",
              "    [theme=dark] .colab-df-convert {\n",
              "      background-color: #3B4455;\n",
              "      fill: #D2E3FC;\n",
              "    }\n",
              "\n",
              "    [theme=dark] .colab-df-convert:hover {\n",
              "      background-color: #434B5C;\n",
              "      box-shadow: 0px 1px 3px 1px rgba(0, 0, 0, 0.15);\n",
              "      filter: drop-shadow(0px 1px 2px rgba(0, 0, 0, 0.3));\n",
              "      fill: #FFFFFF;\n",
              "    }\n",
              "  </style>\n",
              "\n",
              "      <script>\n",
              "        const buttonEl =\n",
              "          document.querySelector('#df-fed681b6-4f90-4cd4-bae2-c87002112983 button.colab-df-convert');\n",
              "        buttonEl.style.display =\n",
              "          google.colab.kernel.accessAllowed ? 'block' : 'none';\n",
              "\n",
              "        async function convertToInteractive(key) {\n",
              "          const element = document.querySelector('#df-fed681b6-4f90-4cd4-bae2-c87002112983');\n",
              "          const dataTable =\n",
              "            await google.colab.kernel.invokeFunction('convertToInteractive',\n",
              "                                                     [key], {});\n",
              "          if (!dataTable) return;\n",
              "\n",
              "          const docLinkHtml = 'Like what you see? Visit the ' +\n",
              "            '<a target=\"_blank\" href=https://colab.research.google.com/notebooks/data_table.ipynb>data table notebook</a>'\n",
              "            + ' to learn more about interactive tables.';\n",
              "          element.innerHTML = '';\n",
              "          dataTable['output_type'] = 'display_data';\n",
              "          await google.colab.output.renderOutput(dataTable, element);\n",
              "          const docLink = document.createElement('div');\n",
              "          docLink.innerHTML = docLinkHtml;\n",
              "          element.appendChild(docLink);\n",
              "        }\n",
              "      </script>\n",
              "    </div>\n",
              "  </div>\n",
              "  "
            ]
          },
          "metadata": {},
          "execution_count": 40
        }
      ]
    },
    {
      "cell_type": "markdown",
      "source": [
        "##Text Summarization"
      ],
      "metadata": {
        "id": "GuZKfnzjXMma"
      }
    },
    {
      "cell_type": "markdown",
      "source": [
        "[Wikipedia Apollo program](https://en.wikipedia.org/wiki/Apollo_program)"
      ],
      "metadata": {
        "id": "NQfkr0fvWZ8r"
      }
    },
    {
      "cell_type": "code",
      "source": [
        "summarizer = pipeline(\"summarization\")\n",
        "\n",
        "ARTICLE = \"\"\"The Apollo program, also known as Project Apollo, was the third United States human spaceflight program carried out by the National Aeronautics and Space Administration (NASA), which accomplished landing the first humans on the Moon from 1969 to 1972.\n",
        "First conceived during Dwight D. Eisenhower's administration as a three-man spacecraft to follow the one-man Project Mercury which put the first Americans in space,\n",
        "Apollo was later dedicated to President John F. Kennedy's national goal of \"landing a man on the Moon and returning him safely to the Earth\" by the end of the 1960s, which he proposed in a May 25, 1961, address to Congress. \n",
        "Project Mercury was followed by the two-man ProjectGemini (1962–66). \n",
        "The first manned flight of Apollo was in 1968.\n",
        "Apollo ran from 1961 to 1972, and was supported by the two-man Gemini program which ran concurrently with it from 1962 to 1966. \n",
        "Gemini missions developed some of the space travel techniques that were necessary for the success of the Apollo missions.\n",
        "Apollo used Saturn family rockets as launch vehicles. \n",
        "Apollo/Saturn vehicles were also used for an Apollo Applications Program, which consisted of Skylab, a space station that supported three manned missions in 1973–74, and the Apollo–Soyuz Test Project, a joint Earth orbit mission with the Soviet Union in 1975.\n",
        " \"\"\"\n",
        "\n",
        "summary = summarizer(ARTICLE, max_length=130, min_length=30, do_sample=False)[0]\n",
        "\n",
        "print(\"\\n\")\n",
        "print(\"Summary\")\n",
        "print(summary['summary_text'])"
      ],
      "metadata": {
        "colab": {
          "base_uri": "https://localhost:8080/"
        },
        "id": "ZjZ2D_JjWkXu",
        "outputId": "3c70fb09-82ec-4b65-e99b-d509bf206c71"
      },
      "execution_count": null,
      "outputs": [
        {
          "output_type": "stream",
          "name": "stderr",
          "text": [
            "No model was supplied, defaulted to sshleifer/distilbart-cnn-12-6 and revision a4f8f3e (https://huggingface.co/sshleifer/distilbart-cnn-12-6).\n",
            "Using a pipeline without specifying a model name and revision in production is not recommended.\n"
          ]
        },
        {
          "output_type": "stream",
          "name": "stdout",
          "text": [
            "\n",
            "\n",
            "Summary\n",
            " The first manned flight of Apollo ran from 1961 to 1972 . The Apollo program was followed by the two-man ProjectGemini . It was the third mission to land on the Moon .\n"
          ]
        }
      ]
    },
    {
      "cell_type": "markdown",
      "source": [
        "##Translation"
      ],
      "metadata": {
        "id": "fnxtt-xcXRMa"
      }
    },
    {
      "cell_type": "code",
      "source": [
        "# English to Spain\n",
        "translator_ger = pipeline(\"translation_en_to_de\")\n",
        "ger_text = translator_ger(\"Spaghetti is the plural form of the Italian word spaghetto, which is a diminutive of spago, meaning thin string or twine.\", max_length=40)[0]['translation_text']\n",
        "\n",
        "# English to French\n",
        "translator_fr = pipeline('translation_en_to_fr')\n",
        "fr_text = translator_fr(\"Spaghetti is the plural form of the Italian word spaghetto, which is a diminutive of spago, meaning thin string or twine.\",  max_length=40)[0]['translation_text']\n",
        "\n",
        "print(\"\\n\")\n",
        "print(\"German:\", ger_text)\n",
        "print(\"French:\", fr_text)"
      ],
      "metadata": {
        "colab": {
          "base_uri": "https://localhost:8080/"
        },
        "id": "hxZqychrXAY_",
        "outputId": "614ff340-1cf4-44d5-8262-ea7ac6a0d1ce"
      },
      "execution_count": null,
      "outputs": [
        {
          "output_type": "stream",
          "name": "stderr",
          "text": [
            "No model was supplied, defaulted to t5-base and revision 686f1db (https://huggingface.co/t5-base).\n",
            "Using a pipeline without specifying a model name and revision in production is not recommended.\n",
            "Your input_length: 41 is bigger than 0.9 * max_length: 40. You might consider increasing your max_length manually, e.g. translator('...', max_length=400)\n",
            "No model was supplied, defaulted to t5-base and revision 686f1db (https://huggingface.co/t5-base).\n",
            "Using a pipeline without specifying a model name and revision in production is not recommended.\n",
            "Your input_length: 41 is bigger than 0.9 * max_length: 40. You might consider increasing your max_length manually, e.g. translator('...', max_length=400)\n"
          ]
        },
        {
          "output_type": "stream",
          "name": "stdout",
          "text": [
            "\n",
            "\n",
            "German: Spaghetti ist die plurale Form des italienischen Wortes spaghetto, das ein Abkürzung von spago ist, was dünn\n",
            "French: Spaghetti est la forme plurielle du mot italien spaghetto, qui est un diminutif de spago, signifiant mince ficelle ou \n"
          ]
        }
      ]
    },
    {
      "cell_type": "markdown",
      "source": [
        "##Zero-Shot Learning"
      ],
      "metadata": {
        "id": "IZvNUuuWc1fJ"
      }
    },
    {
      "cell_type": "code",
      "source": [
        "classifier_zsl = pipeline(\"zero-shot-classification\")\n",
        "\n",
        "sequence_to_classify = \"Bill gates founded a company called Microsoft in the year 1975\"\n",
        "candidate_labels = [\"computer\", \"sports\",'leadership','business', \"politics\", \"startup\"]\n",
        "classifier_zsl_dict = classifier_zsl(sequence_to_classify, candidate_labels)\n",
        "keys = ('labels', 'scores')\n",
        "classifier_zsl_dict_slice = {k: classifier_zsl_dict[k] for k in keys}\n",
        "\n",
        "print(\"\\n\")\n",
        "classifier_zsl_df = pd.DataFrame.from_dict(classifier_zsl_dict_slice).round(4)\n",
        "classifier_zsl_df"
      ],
      "metadata": {
        "colab": {
          "base_uri": "https://localhost:8080/",
          "height": 331
        },
        "id": "vscXMrBHcBLq",
        "outputId": "55f7526d-9a03-4729-d76d-3ae5c25f0eac"
      },
      "execution_count": null,
      "outputs": [
        {
          "output_type": "stream",
          "name": "stderr",
          "text": [
            "No model was supplied, defaulted to facebook/bart-large-mnli and revision c626438 (https://huggingface.co/facebook/bart-large-mnli).\n",
            "Using a pipeline without specifying a model name and revision in production is not recommended.\n"
          ]
        },
        {
          "output_type": "stream",
          "name": "stdout",
          "text": [
            "\n",
            "\n"
          ]
        },
        {
          "output_type": "execute_result",
          "data": {
            "text/plain": [
              "       labels  scores\n",
              "0  business    0.5354\n",
              "1  leadership  0.2195\n",
              "2  startup     0.1633\n",
              "3  computer    0.0759\n",
              "4  sports      0.0034\n",
              "5  politics    0.0024"
            ],
            "text/html": [
              "\n",
              "  <div id=\"df-98c70c89-5865-4549-881e-b76cf8f811e2\">\n",
              "    <div class=\"colab-df-container\">\n",
              "      <div>\n",
              "<style scoped>\n",
              "    .dataframe tbody tr th:only-of-type {\n",
              "        vertical-align: middle;\n",
              "    }\n",
              "\n",
              "    .dataframe tbody tr th {\n",
              "        vertical-align: top;\n",
              "    }\n",
              "\n",
              "    .dataframe thead th {\n",
              "        text-align: right;\n",
              "    }\n",
              "</style>\n",
              "<table border=\"1\" class=\"dataframe\">\n",
              "  <thead>\n",
              "    <tr style=\"text-align: right;\">\n",
              "      <th></th>\n",
              "      <th>labels</th>\n",
              "      <th>scores</th>\n",
              "    </tr>\n",
              "  </thead>\n",
              "  <tbody>\n",
              "    <tr>\n",
              "      <th>0</th>\n",
              "      <td>business</td>\n",
              "      <td>0.5354</td>\n",
              "    </tr>\n",
              "    <tr>\n",
              "      <th>1</th>\n",
              "      <td>leadership</td>\n",
              "      <td>0.2195</td>\n",
              "    </tr>\n",
              "    <tr>\n",
              "      <th>2</th>\n",
              "      <td>startup</td>\n",
              "      <td>0.1633</td>\n",
              "    </tr>\n",
              "    <tr>\n",
              "      <th>3</th>\n",
              "      <td>computer</td>\n",
              "      <td>0.0759</td>\n",
              "    </tr>\n",
              "    <tr>\n",
              "      <th>4</th>\n",
              "      <td>sports</td>\n",
              "      <td>0.0034</td>\n",
              "    </tr>\n",
              "    <tr>\n",
              "      <th>5</th>\n",
              "      <td>politics</td>\n",
              "      <td>0.0024</td>\n",
              "    </tr>\n",
              "  </tbody>\n",
              "</table>\n",
              "</div>\n",
              "      <button class=\"colab-df-convert\" onclick=\"convertToInteractive('df-98c70c89-5865-4549-881e-b76cf8f811e2')\"\n",
              "              title=\"Convert this dataframe to an interactive table.\"\n",
              "              style=\"display:none;\">\n",
              "        \n",
              "  <svg xmlns=\"http://www.w3.org/2000/svg\" height=\"24px\"viewBox=\"0 0 24 24\"\n",
              "       width=\"24px\">\n",
              "    <path d=\"M0 0h24v24H0V0z\" fill=\"none\"/>\n",
              "    <path d=\"M18.56 5.44l.94 2.06.94-2.06 2.06-.94-2.06-.94-.94-2.06-.94 2.06-2.06.94zm-11 1L8.5 8.5l.94-2.06 2.06-.94-2.06-.94L8.5 2.5l-.94 2.06-2.06.94zm10 10l.94 2.06.94-2.06 2.06-.94-2.06-.94-.94-2.06-.94 2.06-2.06.94z\"/><path d=\"M17.41 7.96l-1.37-1.37c-.4-.4-.92-.59-1.43-.59-.52 0-1.04.2-1.43.59L10.3 9.45l-7.72 7.72c-.78.78-.78 2.05 0 2.83L4 21.41c.39.39.9.59 1.41.59.51 0 1.02-.2 1.41-.59l7.78-7.78 2.81-2.81c.8-.78.8-2.07 0-2.86zM5.41 20L4 18.59l7.72-7.72 1.47 1.35L5.41 20z\"/>\n",
              "  </svg>\n",
              "      </button>\n",
              "      \n",
              "  <style>\n",
              "    .colab-df-container {\n",
              "      display:flex;\n",
              "      flex-wrap:wrap;\n",
              "      gap: 12px;\n",
              "    }\n",
              "\n",
              "    .colab-df-convert {\n",
              "      background-color: #E8F0FE;\n",
              "      border: none;\n",
              "      border-radius: 50%;\n",
              "      cursor: pointer;\n",
              "      display: none;\n",
              "      fill: #1967D2;\n",
              "      height: 32px;\n",
              "      padding: 0 0 0 0;\n",
              "      width: 32px;\n",
              "    }\n",
              "\n",
              "    .colab-df-convert:hover {\n",
              "      background-color: #E2EBFA;\n",
              "      box-shadow: 0px 1px 2px rgba(60, 64, 67, 0.3), 0px 1px 3px 1px rgba(60, 64, 67, 0.15);\n",
              "      fill: #174EA6;\n",
              "    }\n",
              "\n",
              "    [theme=dark] .colab-df-convert {\n",
              "      background-color: #3B4455;\n",
              "      fill: #D2E3FC;\n",
              "    }\n",
              "\n",
              "    [theme=dark] .colab-df-convert:hover {\n",
              "      background-color: #434B5C;\n",
              "      box-shadow: 0px 1px 3px 1px rgba(0, 0, 0, 0.15);\n",
              "      filter: drop-shadow(0px 1px 2px rgba(0, 0, 0, 0.3));\n",
              "      fill: #FFFFFF;\n",
              "    }\n",
              "  </style>\n",
              "\n",
              "      <script>\n",
              "        const buttonEl =\n",
              "          document.querySelector('#df-98c70c89-5865-4549-881e-b76cf8f811e2 button.colab-df-convert');\n",
              "        buttonEl.style.display =\n",
              "          google.colab.kernel.accessAllowed ? 'block' : 'none';\n",
              "\n",
              "        async function convertToInteractive(key) {\n",
              "          const element = document.querySelector('#df-98c70c89-5865-4549-881e-b76cf8f811e2');\n",
              "          const dataTable =\n",
              "            await google.colab.kernel.invokeFunction('convertToInteractive',\n",
              "                                                     [key], {});\n",
              "          if (!dataTable) return;\n",
              "\n",
              "          const docLinkHtml = 'Like what you see? Visit the ' +\n",
              "            '<a target=\"_blank\" href=https://colab.research.google.com/notebooks/data_table.ipynb>data table notebook</a>'\n",
              "            + ' to learn more about interactive tables.';\n",
              "          element.innerHTML = '';\n",
              "          dataTable['output_type'] = 'display_data';\n",
              "          await google.colab.output.renderOutput(dataTable, element);\n",
              "          const docLink = document.createElement('div');\n",
              "          docLink.innerHTML = docLinkHtml;\n",
              "          element.appendChild(docLink);\n",
              "        }\n",
              "      </script>\n",
              "    </div>\n",
              "  </div>\n",
              "  "
            ]
          },
          "metadata": {},
          "execution_count": 56
        }
      ]
    },
    {
      "cell_type": "markdown",
      "source": [
        "<br/>"
      ],
      "metadata": {
        "id": "lrZ1gz4XdT4y"
      }
    },
    {
      "cell_type": "markdown",
      "source": [
        "#HuggingFrace MNLI Custom Project"
      ],
      "metadata": {
        "id": "QXR88XQfJ5Jm"
      }
    },
    {
      "cell_type": "markdown",
      "source": [
        "GLUE MNLI Task를 Custom Project로 구성한다."
      ],
      "metadata": {
        "id": "Z3fd7l7EdlYH"
      }
    },
    {
      "cell_type": "markdown",
      "source": [
        ""
      ],
      "metadata": {
        "id": "p8LBiigFdTRz"
      }
    },
    {
      "cell_type": "markdown",
      "source": [
        "##개발 환경"
      ],
      "metadata": {
        "id": "w6GinPZfODcw"
      }
    },
    {
      "cell_type": "code",
      "source": [
        "pwd"
      ],
      "metadata": {
        "colab": {
          "base_uri": "https://localhost:8080/",
          "height": 35
        },
        "id": "zGxjKM4UTXCv",
        "outputId": "379937cc-a74b-423d-c166-81a9d49219b8"
      },
      "execution_count": null,
      "outputs": [
        {
          "output_type": "execute_result",
          "data": {
            "text/plain": [
              "'/content/drive/MyDrive/lms/huggingface_glue_task/transfomers_v4.21.1'"
            ],
            "application/vnd.google.colaboratory.intrinsic+json": {
              "type": "string"
            }
          },
          "metadata": {},
          "execution_count": 28
        }
      ]
    },
    {
      "cell_type": "code",
      "source": [
        "!pip install tensorflow-datasets -U"
      ],
      "metadata": {
        "id": "tvkNId71SkSh"
      },
      "execution_count": null,
      "outputs": []
    },
    {
      "cell_type": "markdown",
      "source": [
        "tensorflow-datasets를 이용하여 glue/mnli를 다운로드하려면 tensorflow-datasets 라이브러리 버전을 업그레이드한다."
      ],
      "metadata": {
        "id": "hdmUJeHqS4Va"
      }
    },
    {
      "cell_type": "code",
      "source": [
        "!pip install -e ."
      ],
      "metadata": {
        "id": "DDXa6d3WSyBJ"
      },
      "execution_count": null,
      "outputs": []
    },
    {
      "cell_type": "code",
      "source": [
        "!pip install -q datasets huggingface_hub evaluate transformers"
      ],
      "metadata": {
        "id": "-lX_qiKVSyXB"
      },
      "execution_count": null,
      "outputs": []
    },
    {
      "cell_type": "code",
      "source": [
        "!pip install -q protobuf sentencepiece"
      ],
      "metadata": {
        "id": "yqe4TfCSSyaw"
      },
      "execution_count": null,
      "outputs": []
    },
    {
      "cell_type": "code",
      "source": [
        "import os\n",
        "import re\n",
        "import json\n",
        "import time\n",
        "import random\n",
        "import pprint\n",
        "import numpy as np\n",
        "import pandas as pd\n",
        "from datetime import date\n",
        "from termcolor import colored\n",
        "import matplotlib.pyplot as plt\n",
        "from IPython.display import HTML"
      ],
      "metadata": {
        "id": "hBGppdr5doh2"
      },
      "execution_count": null,
      "outputs": []
    },
    {
      "cell_type": "code",
      "source": [
        "import tensorflow as tf\n",
        "import tensorflow_datasets as tfds"
      ],
      "metadata": {
        "id": "8lGNklzDUN93"
      },
      "execution_count": null,
      "outputs": []
    },
    {
      "cell_type": "code",
      "source": [
        "import datasets\n",
        "from datasets import load_dataset"
      ],
      "metadata": {
        "id": "TLqm4x4IURbY"
      },
      "execution_count": null,
      "outputs": []
    },
    {
      "cell_type": "code",
      "source": [
        "from dataclasses import asdict\n",
        "from argparse import ArgumentParser\n",
        "from transformers import get_linear_schedule_with_warmup\n",
        "from transformers import ElectraTokenizerFast, ElectraForSequenceClassification, AutoConfig, AdamW\n",
        "from transformers.data.processors.utils import DataProcessor, InputExample, InputFeatures\n",
        "from torch.utils.data import TensorDataset, DataLoader, RandomSampler, SequentialSampler"
      ],
      "metadata": {
        "id": "_islIcAbUTBn"
      },
      "execution_count": null,
      "outputs": []
    },
    {
      "cell_type": "code",
      "source": [
        "pip freeze > '/content/drive/MyDrive/lms/huggingface_glue_task/library_version.txt'"
      ],
      "metadata": {
        "id": "964mpHQFdosM"
      },
      "execution_count": null,
      "outputs": []
    },
    {
      "cell_type": "code",
      "source": [
        "library_name = ['regex=', 'ujson=', 'numpy=', 'pandas=', 'termcolor=', 'matplotlib=',\n",
        "                'tensorflow=', 'tensorflow-datasets=', 'sdict', 'transformers=']\n",
        "library_version = []\n",
        "count = 0\n",
        "\n",
        "import sys\n",
        "print(sys.version)\n",
        "print()\n",
        "\n",
        "with open('/content/drive/MyDrive/lms/huggingface_glue_task/library_version.txt', 'r') as f:\n",
        "    lines = f.read().splitlines() \n",
        "\n",
        "for i in range(len(lines)):\n",
        "  for line in lines[i:i+1]:\n",
        "    for library in library_name:\n",
        "      if library in line:\n",
        "        library_version.append(line)\n",
        "        count += 1\n",
        "        print(line, end = '    ')\n",
        "        if count % 3 == 0:\n",
        "          print()"
      ],
      "metadata": {
        "id": "zVcPbiRsdouk",
        "colab": {
          "base_uri": "https://localhost:8080/"
        },
        "outputId": "7a0f9db2-dd85-44df-8b12-4000781d7be1"
      },
      "execution_count": null,
      "outputs": [
        {
          "output_type": "stream",
          "name": "stdout",
          "text": [
            "3.7.13 (default, Apr 24 2022, 01:04:09) \n",
            "[GCC 7.5.0]\n",
            "\n",
            "matplotlib==3.2.2    numpy==1.21.6    pandas==1.3.5    \n",
            "regex==2022.6.2    sklearn-pandas==1.8.0    tensorflow==2.8.2+zzzcolab20220719082949    \n",
            "tensorflow-datasets==4.6.0    termcolor==1.1.0    transformers==4.21.1    \n",
            "ujson==5.4.0    "
          ]
        }
      ]
    },
    {
      "cell_type": "code",
      "source": [
        "gpu_info = !nvidia-smi\n",
        "gpu_info = '\\n'.join(gpu_info)\n",
        "if gpu_info.find('failed') >= 0:\n",
        "  print('Not connected to a GPU')\n",
        "else:\n",
        "  print(gpu_info)"
      ],
      "metadata": {
        "id": "ZK7tCUdCeG3e"
      },
      "execution_count": null,
      "outputs": []
    },
    {
      "cell_type": "code",
      "source": [
        "from psutil import virtual_memory\n",
        "ram_gb = virtual_memory().total / 1e9\n",
        "print('Your runtime has {:.1f} gigabytes of available RAM\\n'.format(ram_gb))\n",
        "\n",
        "if ram_gb < 20:\n",
        "  print('Not using a high-RAM runtime')\n",
        "else:\n",
        "  print('You are using a high-RAM runtime!')"
      ],
      "metadata": {
        "id": "wANpgAMceHJW"
      },
      "execution_count": null,
      "outputs": []
    },
    {
      "cell_type": "markdown",
      "source": [
        "Google Colab에서 할당된 GPU를 확인한다.\n",
        "<br/>고용량 메모리 VM에 액세스한다"
      ],
      "metadata": {
        "id": "f86XkJh_eNCE"
      }
    },
    {
      "cell_type": "markdown",
      "source": [
        ""
      ],
      "metadata": {
        "id": "kPidiEx6aMhF"
      }
    },
    {
      "cell_type": "markdown",
      "source": [
        "##데이터 정보"
      ],
      "metadata": {
        "id": "IElCqZ2yikfT"
      }
    },
    {
      "cell_type": "code",
      "source": [
        "data, info = tfds.load('glue/mnli', with_info=True)"
      ],
      "metadata": {
        "id": "Sk-0Tke9ijgK"
      },
      "execution_count": null,
      "outputs": []
    },
    {
      "cell_type": "code",
      "source": [
        "info_splits = \"Train Data Size: \" + str(info.splits['train'].num_examples) + \\\n",
        "              \"\\nValidation Matched Data Size: \" + str(info.splits['validation_matched'].num_examples) + \\\n",
        "              \"\\nValidation Mismatched Data Size: \" + str(info.splits['validation_mismatched'].num_examples) + \\\n",
        "              \"\\nTest Matched Data Size: \" + str(info.splits['test_matched'].num_examples) + \\\n",
        "              \"\\nTest Matched Data Size: \" + str(info.splits['test_mismatched'].num_examples)\n",
        "\n",
        "reorderlist = ['name', 'full_name', 'description', 'config_description', 'supervised_keys', 'disable_shuffling',\n",
        "               'homepage', 'data_path', 'file_format', 'download_size', 'dataset_size', 'features', 'supervised_keys',\n",
        "               'disable_shuffling', 'splits', 'citation', 'comment']\n",
        "\n",
        "info_dict = pd.DataFrame({'tfds.core.DatasetInfo':{'name':info.name, 'full_name':info.full_name,\n",
        "                                     'description':info.description.replace('resources', 'resources<br/>'),\n",
        "                                     'config_description':'''The Multi-Genre Natural Language Inference Corpus is a crowdsourced\n",
        "                                     collection of sentence pairs with textual entailment annotations. Given a premise sentence\n",
        "                                     and a hypothesis sentence, the task is to predict whether the premise entails the hypothesis\n",
        "                                     (entailment), contradicts the hypothesis (contradiction), or neither (neutral). The premise sentences are\n",
        "                                     gathered from ten different sources, including transcribed speech, fiction, and government reports.\n",
        "                                     We use the standard test set, for which we obtained private labels from the authors, and evaluate\n",
        "                                     on both the matched (in-domain) and mismatched (cross-domain) section. We also use and recommend\n",
        "                                     the SNLI corpus as 550k examples of auxiliary training data.''',\n",
        "                                     'supervised_keys':info.supervised_keys, \n",
        "                                     'disable_shuffling':info.disable_shuffling, 'homepage':info.homepage, \n",
        "                                     'data_path': '~/tensorflow_datasets/glue/mnli/2.0.0',\n",
        "                                     'file_format':info.file_format, 'download_size':info.download_size,\n",
        "                                     'dataset_size':info.dataset_size, 'features':info.features,\n",
        "                                      'supervised_keys':info.supervised_keys, 'disable_shuffling': info.disable_shuffling,\n",
        "                                      'splits': info_splits.replace('\\n', '<br/>'),  'citation':info.citation.replace('\\n', '<br/>'),\n",
        "                                      'comment': '''Note that each GLUE dataset has its own citation. Please see the source to see\n",
        "                                      the correct citation for each contained dataset.'''\n",
        "                                      }})\n",
        "info_df = pd.DataFrame(info_dict)\n",
        "info_df = info_df.reindex(reorderlist).reset_index()\n",
        "from pandas import option_context\n",
        "with option_context('display.max_colwidth', None):\n",
        "  display(info_df.style.set_properties(**{'text-align': 'center'}))"
      ],
      "metadata": {
        "colab": {
          "base_uri": "https://localhost:8080/",
          "height": 1000
        },
        "id": "Eoe58JD0bvyF",
        "outputId": "96683483-629c-437b-ddc3-e6ee954cc269"
      },
      "execution_count": null,
      "outputs": [
        {
          "output_type": "display_data",
          "data": {
            "text/plain": [
              "<pandas.io.formats.style.Styler at 0x7f0f887042d0>"
            ],
            "text/html": [
              "<style type=\"text/css\">\n",
              "#T_083d1_row0_col0, #T_083d1_row0_col1, #T_083d1_row1_col0, #T_083d1_row1_col1, #T_083d1_row2_col0, #T_083d1_row2_col1, #T_083d1_row3_col0, #T_083d1_row3_col1, #T_083d1_row4_col0, #T_083d1_row4_col1, #T_083d1_row5_col0, #T_083d1_row5_col1, #T_083d1_row6_col0, #T_083d1_row6_col1, #T_083d1_row7_col0, #T_083d1_row7_col1, #T_083d1_row8_col0, #T_083d1_row8_col1, #T_083d1_row9_col0, #T_083d1_row9_col1, #T_083d1_row10_col0, #T_083d1_row10_col1, #T_083d1_row11_col0, #T_083d1_row11_col1, #T_083d1_row12_col0, #T_083d1_row12_col1, #T_083d1_row13_col0, #T_083d1_row13_col1, #T_083d1_row14_col0, #T_083d1_row14_col1, #T_083d1_row15_col0, #T_083d1_row15_col1, #T_083d1_row16_col0, #T_083d1_row16_col1 {\n",
              "  text-align: center;\n",
              "}\n",
              "</style>\n",
              "<table id=\"T_083d1_\" class=\"dataframe\">\n",
              "  <thead>\n",
              "    <tr>\n",
              "      <th class=\"blank level0\" >&nbsp;</th>\n",
              "      <th class=\"col_heading level0 col0\" >index</th>\n",
              "      <th class=\"col_heading level0 col1\" >tfds.core.DatasetInfo</th>\n",
              "    </tr>\n",
              "  </thead>\n",
              "  <tbody>\n",
              "    <tr>\n",
              "      <th id=\"T_083d1_level0_row0\" class=\"row_heading level0 row0\" >0</th>\n",
              "      <td id=\"T_083d1_row0_col0\" class=\"data row0 col0\" >name</td>\n",
              "      <td id=\"T_083d1_row0_col1\" class=\"data row0 col1\" >glue</td>\n",
              "    </tr>\n",
              "    <tr>\n",
              "      <th id=\"T_083d1_level0_row1\" class=\"row_heading level0 row1\" >1</th>\n",
              "      <td id=\"T_083d1_row1_col0\" class=\"data row1 col0\" >full_name</td>\n",
              "      <td id=\"T_083d1_row1_col1\" class=\"data row1 col1\" >glue/mnli/2.0.0</td>\n",
              "    </tr>\n",
              "    <tr>\n",
              "      <th id=\"T_083d1_level0_row2\" class=\"row_heading level0 row2\" >2</th>\n",
              "      <td id=\"T_083d1_row2_col0\" class=\"data row2 col0\" >description</td>\n",
              "      <td id=\"T_083d1_row2_col1\" class=\"data row2 col1\" >GLUE, the General Language Understanding Evaluation benchmark\n",
              "(https://gluebenchmark.com/) is a collection of resources<br/> for training,\n",
              "evaluating, and analyzing natural language understanding systems.</td>\n",
              "    </tr>\n",
              "    <tr>\n",
              "      <th id=\"T_083d1_level0_row3\" class=\"row_heading level0 row3\" >3</th>\n",
              "      <td id=\"T_083d1_row3_col0\" class=\"data row3 col0\" >config_description</td>\n",
              "      <td id=\"T_083d1_row3_col1\" class=\"data row3 col1\" >The Multi-Genre Natural Language Inference Corpus is a crowdsourced\n",
              "                                     collection of sentence pairs with textual entailment annotations. Given a premise sentence\n",
              "                                     and a hypothesis sentence, the task is to predict whether the premise entails the hypothesis\n",
              "                                     (entailment), contradicts the hypothesis (contradiction), or neither (neutral). The premise sentences are\n",
              "                                     gathered from ten different sources, including transcribed speech, fiction, and government reports.\n",
              "                                     We use the standard test set, for which we obtained private labels from the authors, and evaluate\n",
              "                                     on both the matched (in-domain) and mismatched (cross-domain) section. We also use and recommend\n",
              "                                     the SNLI corpus as 550k examples of auxiliary training data.</td>\n",
              "    </tr>\n",
              "    <tr>\n",
              "      <th id=\"T_083d1_level0_row4\" class=\"row_heading level0 row4\" >4</th>\n",
              "      <td id=\"T_083d1_row4_col0\" class=\"data row4 col0\" >supervised_keys</td>\n",
              "      <td id=\"T_083d1_row4_col1\" class=\"data row4 col1\" >None</td>\n",
              "    </tr>\n",
              "    <tr>\n",
              "      <th id=\"T_083d1_level0_row5\" class=\"row_heading level0 row5\" >5</th>\n",
              "      <td id=\"T_083d1_row5_col0\" class=\"data row5 col0\" >disable_shuffling</td>\n",
              "      <td id=\"T_083d1_row5_col1\" class=\"data row5 col1\" >False</td>\n",
              "    </tr>\n",
              "    <tr>\n",
              "      <th id=\"T_083d1_level0_row6\" class=\"row_heading level0 row6\" >6</th>\n",
              "      <td id=\"T_083d1_row6_col0\" class=\"data row6 col0\" >homepage</td>\n",
              "      <td id=\"T_083d1_row6_col1\" class=\"data row6 col1\" >http://www.nyu.edu/projects/bowman/multinli/</td>\n",
              "    </tr>\n",
              "    <tr>\n",
              "      <th id=\"T_083d1_level0_row7\" class=\"row_heading level0 row7\" >7</th>\n",
              "      <td id=\"T_083d1_row7_col0\" class=\"data row7 col0\" >data_path</td>\n",
              "      <td id=\"T_083d1_row7_col1\" class=\"data row7 col1\" >~/tensorflow_datasets/glue/mnli/2.0.0</td>\n",
              "    </tr>\n",
              "    <tr>\n",
              "      <th id=\"T_083d1_level0_row8\" class=\"row_heading level0 row8\" >8</th>\n",
              "      <td id=\"T_083d1_row8_col0\" class=\"data row8 col0\" >file_format</td>\n",
              "      <td id=\"T_083d1_row8_col1\" class=\"data row8 col1\" >FileFormat.TFRECORD</td>\n",
              "    </tr>\n",
              "    <tr>\n",
              "      <th id=\"T_083d1_level0_row9\" class=\"row_heading level0 row9\" >9</th>\n",
              "      <td id=\"T_083d1_row9_col0\" class=\"data row9 col0\" >download_size</td>\n",
              "      <td id=\"T_083d1_row9_col1\" class=\"data row9 col1\" >298.29 MiB</td>\n",
              "    </tr>\n",
              "    <tr>\n",
              "      <th id=\"T_083d1_level0_row10\" class=\"row_heading level0 row10\" >10</th>\n",
              "      <td id=\"T_083d1_row10_col0\" class=\"data row10 col0\" >dataset_size</td>\n",
              "      <td id=\"T_083d1_row10_col1\" class=\"data row10 col1\" >100.56 MiB</td>\n",
              "    </tr>\n",
              "    <tr>\n",
              "      <th id=\"T_083d1_level0_row11\" class=\"row_heading level0 row11\" >11</th>\n",
              "      <td id=\"T_083d1_row11_col0\" class=\"data row11 col0\" >features</td>\n",
              "      <td id=\"T_083d1_row11_col1\" class=\"data row11 col1\" >FeaturesDict({\n",
              "    'hypothesis': Text(shape=(), dtype=tf.string),\n",
              "    'idx': tf.int32,\n",
              "    'label': ClassLabel(shape=(), dtype=tf.int64, num_classes=3),\n",
              "    'premise': Text(shape=(), dtype=tf.string),\n",
              "})</td>\n",
              "    </tr>\n",
              "    <tr>\n",
              "      <th id=\"T_083d1_level0_row12\" class=\"row_heading level0 row12\" >12</th>\n",
              "      <td id=\"T_083d1_row12_col0\" class=\"data row12 col0\" >supervised_keys</td>\n",
              "      <td id=\"T_083d1_row12_col1\" class=\"data row12 col1\" >None</td>\n",
              "    </tr>\n",
              "    <tr>\n",
              "      <th id=\"T_083d1_level0_row13\" class=\"row_heading level0 row13\" >13</th>\n",
              "      <td id=\"T_083d1_row13_col0\" class=\"data row13 col0\" >disable_shuffling</td>\n",
              "      <td id=\"T_083d1_row13_col1\" class=\"data row13 col1\" >False</td>\n",
              "    </tr>\n",
              "    <tr>\n",
              "      <th id=\"T_083d1_level0_row14\" class=\"row_heading level0 row14\" >14</th>\n",
              "      <td id=\"T_083d1_row14_col0\" class=\"data row14 col0\" >splits</td>\n",
              "      <td id=\"T_083d1_row14_col1\" class=\"data row14 col1\" >Train Data Size: 392702<br/>Validation Matched Data Size: 9815<br/>Validation Mismatched Data Size: 9832<br/>Test Matched Data Size: 9796<br/>Test Matched Data Size: 9847</td>\n",
              "    </tr>\n",
              "    <tr>\n",
              "      <th id=\"T_083d1_level0_row15\" class=\"row_heading level0 row15\" >15</th>\n",
              "      <td id=\"T_083d1_row15_col0\" class=\"data row15 col0\" >citation</td>\n",
              "      <td id=\"T_083d1_row15_col1\" class=\"data row15 col1\" >@InProceedings{N18-1101,<br/>  author = \"Williams, Adina<br/>            and Nangia, Nikita<br/>            and Bowman, Samuel\",<br/>  title = \"A Broad-Coverage Challenge Corpus for<br/>           Sentence Understanding through Inference\",<br/>  booktitle = \"Proceedings of the 2018 Conference of<br/>               the North American Chapter of the<br/>               Association for Computational Linguistics:<br/>               Human Language Technologies, Volume 1 (Long<br/>               Papers)\",<br/>  year = \"2018\",<br/>  publisher = \"Association for Computational Linguistics\",<br/>  pages = \"1112--1122\",<br/>  location = \"New Orleans, Louisiana\",<br/>  url = \"http://aclweb.org/anthology/N18-1101\"<br/>}<br/>@article{bowman2015large,<br/>  title={A large annotated corpus for learning natural language inference},<br/>  author={Bowman, Samuel R and Angeli, Gabor and Potts, Christopher and Manning, Christopher D},<br/>  journal={arXiv preprint arXiv:1508.05326},<br/>  year={2015}<br/>}<br/>@inproceedings{wang2019glue,<br/>  title={{GLUE}: A Multi-Task Benchmark and Analysis Platform for Natural Language Understanding},<br/>  author={Wang, Alex and Singh, Amanpreet and Michael, Julian and Hill, Felix and Levy, Omer and Bowman, Samuel R.},<br/>  note={In the Proceedings of ICLR.},<br/>  year={2019}<br/>}<br/><br/>Note that each GLUE dataset has its own citation. Please see the source to see<br/>the correct citation for each contained dataset.</td>\n",
              "    </tr>\n",
              "    <tr>\n",
              "      <th id=\"T_083d1_level0_row16\" class=\"row_heading level0 row16\" >16</th>\n",
              "      <td id=\"T_083d1_row16_col0\" class=\"data row16 col0\" >comment</td>\n",
              "      <td id=\"T_083d1_row16_col1\" class=\"data row16 col1\" >Note that each GLUE dataset has its own citation. Please see the source to see\n",
              "                                      the correct citation for each contained dataset.</td>\n",
              "    </tr>\n",
              "  </tbody>\n",
              "</table>\n"
            ]
          },
          "metadata": {}
        }
      ]
    },
    {
      "cell_type": "markdown",
      "source": [
        "<br/><br/><br/>"
      ],
      "metadata": {
        "id": "Wrqzjh0YdIJ1"
      }
    },
    {
      "cell_type": "code",
      "source": [
        "def compact_dict_print(d, indent=''):\n",
        "\n",
        "    bracket_count = 0\n",
        "    line_count = 0 \n",
        "    indent = \"    \"\n",
        "\n",
        "    print(\"{\")\n",
        "\n",
        "    for key, value in d.items():\n",
        "      bracket_count += 1\n",
        "      print(indent + \"'{}': \".format(key))\n",
        "      print((indent * 2) + \"<PrefetchDataset element_spec={\")\n",
        "\n",
        "      for nested_key in value:\n",
        "          line_count += 1\n",
        "          \n",
        "          for inner_key in nested_key:\n",
        "              if line_count == 1:\n",
        "                print((indent * 2) + \"'{}': '{}',\".format(inner_key, nested_key[inner_key]))\n",
        "                if inner_key == 'premise':\n",
        "                  print()\n",
        "\n",
        "              elif line_count == len(d[key]):\n",
        "                line_count = 0\n",
        "\n",
        "      print((indent * 2) + \"...\")\n",
        "\n",
        "      if bracket_count < len(data):       \n",
        "        print((indent * 2) + \"}>, \\n\") \n",
        "      else:  \n",
        "        print((indent * 2) + \"}> \\n\")     \n",
        "\n",
        "    print(\"}\")"
      ],
      "metadata": {
        "id": "OJM_cCn7dNg2"
      },
      "execution_count": null,
      "outputs": []
    },
    {
      "cell_type": "code",
      "source": [
        "compact_dict_print(data)"
      ],
      "metadata": {
        "colab": {
          "base_uri": "https://localhost:8080/"
        },
        "id": "z4L0WWf1dRks",
        "outputId": "c806fa34-3d1d-4c6e-8623-b3bff0339c9e"
      },
      "execution_count": null,
      "outputs": [
        {
          "output_type": "stream",
          "name": "stdout",
          "text": [
            "{\n",
            "    'train': \n",
            "        <PrefetchDataset element_spec={\n",
            "        'hypothesis': 'b'Meaningful partnerships with stakeholders is crucial.'',\n",
            "        'idx': '16399',\n",
            "        'label': '1',\n",
            "        'premise': 'b'In recognition of these tensions, LSC has worked diligently since 1995 to convey the expectations of the State Planning Initiative and to establish meaningful partnerships with stakeholders aimed at fostering a new symbiosis between the federal provider and recipients of legal services funding.'',\n",
            "\n",
            "        ...\n",
            "        }>, \n",
            "\n",
            "    'validation_matched': \n",
            "        <PrefetchDataset element_spec={\n",
            "        'hypothesis': 'b'yeah lots of people for the right life '',\n",
            "        'idx': '6287',\n",
            "        'label': '0',\n",
            "        'premise': 'b'uh-huh oh yeah all the people for right uh life or something'',\n",
            "\n",
            "        ...\n",
            "        }>, \n",
            "\n",
            "    'validation_mismatched': \n",
            "        <PrefetchDataset element_spec={\n",
            "        'hypothesis': 'b\"These projects are largely ignored and don't impact anyone. \"',\n",
            "        'idx': '9410',\n",
            "        'label': '2',\n",
            "        'premise': 'b'Projects which enliven and enrich the student experience and draw some of our finest scholars and teachers to our campus--and to our city.'',\n",
            "\n",
            "        ...\n",
            "        }>, \n",
            "\n",
            "    'test_matched': \n",
            "        <PrefetchDataset element_spec={\n",
            "        'hypothesis': 'b'Is there a pump that you put in there?'',\n",
            "        'idx': '5398',\n",
            "        'label': '-1',\n",
            "        'premise': 'b'well is there a little electric pump you put in there'',\n",
            "\n",
            "        ...\n",
            "        }>, \n",
            "\n",
            "    'test_mismatched': \n",
            "        <PrefetchDataset element_spec={\n",
            "        'hypothesis': 'b'That table has been in my family for generations.'',\n",
            "        'idx': '3498',\n",
            "        'label': '-1',\n",
            "        'premise': 'b'Anyway, I treasure that table.'',\n",
            "\n",
            "        ...\n",
            "        }> \n",
            "\n",
            "}\n"
          ]
        }
      ]
    },
    {
      "cell_type": "markdown",
      "source": [
        "<br/><br/>"
      ],
      "metadata": {
        "id": "Apy4umJRdn2N"
      }
    },
    {
      "cell_type": "code",
      "source": [
        "examples = data['train'].take(1)\n",
        "for example in examples:\n",
        "    hypothesis = example['hypothesis']\n",
        "    idx = example['idx']\n",
        "    label = example['label']\n",
        "    premise = example['premise']\n",
        "    print('hypothesis')\n",
        "    print(hypothesis)\n",
        "    print('\\nidx')\n",
        "    print(idx)\n",
        "    print('\\nlabel')\n",
        "    print(label)\n",
        "    print('\\npremise')\n",
        "    print(premise)"
      ],
      "metadata": {
        "colab": {
          "base_uri": "https://localhost:8080/"
        },
        "id": "IeeoptRveeWW",
        "outputId": "be90737f-f15b-4f1c-fb65-4c9e2799daf2"
      },
      "execution_count": null,
      "outputs": [
        {
          "output_type": "stream",
          "name": "stdout",
          "text": [
            "hypothesis\n",
            "tf.Tensor(b'Meaningful partnerships with stakeholders is crucial.', shape=(), dtype=string)\n",
            "\n",
            "idx\n",
            "tf.Tensor(16399, shape=(), dtype=int32)\n",
            "\n",
            "label\n",
            "tf.Tensor(1, shape=(), dtype=int64)\n",
            "\n",
            "premise\n",
            "tf.Tensor(b'In recognition of these tensions, LSC has worked diligently since 1995 to convey the expectations of the State Planning Initiative and to establish meaningful partnerships with stakeholders aimed at fostering a new symbiosis between the federal provider and recipients of legal services funding.', shape=(), dtype=string)\n"
          ]
        }
      ]
    },
    {
      "cell_type": "markdown",
      "source": [
        "<br/>"
      ],
      "metadata": {
        "id": "uJ2FUzeaf67m"
      }
    },
    {
      "cell_type": "markdown",
      "source": [
        "##Processor"
      ],
      "metadata": {
        "id": "_FxnLO1DelRe"
      }
    },
    {
      "cell_type": "code",
      "source": [
        "class DataProcessor:\n",
        "    \"\"\"Base class for data converters for sequence classification data sets.\"\"\"\n",
        "\n",
        "    def get_example_from_tensor_dict(self, tensor_dict):\n",
        "        \"\"\"\n",
        "        Gets an example from a dict with tensorflow tensors.\n",
        "\n",
        "        Args:\n",
        "            tensor_dict: Keys and values should match the corresponding Glue\n",
        "                tensorflow_dataset examples.\n",
        "        \"\"\"\n",
        "        raise NotImplementedError()\n",
        "\n",
        "    def get_train_examples(self, data_dir):\n",
        "        \"\"\"Gets a collection of :class:`InputExample` for the train set.\"\"\"\n",
        "        raise NotImplementedError()\n",
        "\n",
        "    def get_dev_examples(self, data_dir):\n",
        "        \"\"\"Gets a collection of :class:`InputExample` for the dev set.\"\"\"\n",
        "        raise NotImplementedError()\n",
        "\n",
        "    def get_test_examples(self, data_dir):\n",
        "        \"\"\"Gets a collection of :class:`InputExample` for the test set.\"\"\"\n",
        "        raise NotImplementedError()\n",
        "\n",
        "    def get_labels(self):\n",
        "        \"\"\"Gets the list of labels for this data set.\"\"\"\n",
        "        raise NotImplementedError()\n",
        "\n",
        "    def tfds_map(self, example):\n",
        "        \"\"\"\n",
        "        Some tensorflow_datasets datasets are not formatted the same way the GLUE datasets are. This method converts\n",
        "        examples to the correct format.\n",
        "        \"\"\"\n",
        "        if len(self.get_labels()) > 1:\n",
        "            example.label = self.get_labels()[int(example.label)]\n",
        "        return example\n",
        "\n",
        "    @classmethod\n",
        "    def _read_tsv(cls, input_file, quotechar=None):\n",
        "        \"\"\"Reads a tab separated value file.\"\"\"\n",
        "        with open(input_file, \"r\", encoding=\"utf-8-sig\") as f:\n",
        "            return list(csv.reader(f, delimiter=\"\\t\", quotechar=quotechar))"
      ],
      "metadata": {
        "id": "49Zj7quJijlE"
      },
      "execution_count": null,
      "outputs": []
    },
    {
      "cell_type": "markdown",
      "source": [
        "추상클래스인 Processor를 한번 상속받은 후 Sequence Classification Task를 수행하는 모델의 Processor 추상클래스인 DataProcessor이다.\n",
        "<br/>추상클래스 상태이기 때문에 그대로 사용하면 NotImplementedError를 발생시키는 메소드들이 포함되어 있다.\n",
        "<br/>이 메소드들을 Override해야 실제 사용 가능한 클래스가 얻어진다."
      ],
      "metadata": {
        "id": "3wmc3jAHgV_V"
      }
    },
    {
      "cell_type": "code",
      "source": [
        "class MnliProcessor(DataProcessor):\n",
        "    \"\"\"Processor for the MultiNLI data set (GLUE version).\"\"\"\n",
        "\n",
        "    def __init__(self, *args, **kwargs):\n",
        "        super().__init__(*args, **kwargs)\n",
        "        warnings.filterwarnings(\"ignore\", category=DeprecationWarning) \n",
        "\n",
        "    def get_example_from_tensor_dict(self, tensor_dict):\n",
        "        \"\"\"See base class.\"\"\"\n",
        "        return InputExample(\n",
        "            tensor_dict[\"idx\"].numpy(),\n",
        "            tensor_dict[\"premise\"].numpy().decode(\"utf-8\"),\n",
        "            tensor_dict[\"hypothesis\"].numpy().decode(\"utf-8\"),\n",
        "            str(tensor_dict[\"label\"].numpy()),\n",
        "        )\n",
        "\n",
        "    def get_train_examples(self, data_dir):\n",
        "        \"\"\"See base class.\"\"\"\n",
        "        print(\"LOOKING AT {}\".format(os.path.join(data_dir, \"train.tsv\")))\n",
        "        return self._create_examples(self._read_tsv(os.path.join(data_dir, \"train.tsv\")), \"train\")\n",
        "\n",
        "    def get_dev_examples(self, data_dir):\n",
        "        \"\"\"See base class.\"\"\"\n",
        "        return self._create_examples(self._read_tsv(os.path.join(data_dir, \"dev.tsv\")), \"dev\")\n",
        "\n",
        "    def get_test_examples(self, data_dir):\n",
        "        \"\"\"See base class.\"\"\"\n",
        "        return self._create_examples(self._read_tsv(os.path.join(data_dir, \"test.tsv\")), \"test\")\n",
        "    \n",
        "    def get_labels(self):\n",
        "        \"\"\"See base class.\"\"\"\n",
        "        return [\"0\", \"1\", \"2\"]\n",
        "\n",
        "    def _create_examples(self, lines, set_type):\n",
        "        \"\"\"Creates examples for the training, dev and test sets.\"\"\"\n",
        "        examples = []\n",
        "        for (i, line) in enumerate(lines):\n",
        "            if i == 0:\n",
        "                continue\n",
        "            guid = f\"{set_type}-{line[0]}\"\n",
        "            text_a = line[8]\n",
        "            text_b = line[9]\n",
        "            label = None if set_type.startswith(\"test\") else line[-1]\n",
        "            examples.append(InputExample(guid=guid, text_a=text_a, text_b=text_b, label=label))\n",
        "        return examples"
      ],
      "metadata": {
        "id": "M3qlM1Z2gW4l"
      },
      "execution_count": null,
      "outputs": []
    },
    {
      "cell_type": "code",
      "source": [
        "class MnliMismatchedProcessor(MnliProcessor):\n",
        "    \"\"\"Processor for the MultiNLI Mismatched data set (GLUE version).\"\"\"\n",
        "\n",
        "    def get_dev_examples(self, data_dir):\n",
        "        \"\"\"See base class.\"\"\"\n",
        "        return self._create_examples(self._read_tsv(os.path.join(data_dir, \"dev_mismatched.tsv\")), \"dev_mismatched\")\n",
        "\n",
        "    def get_test_examples(self, data_dir):\n",
        "        \"\"\"See base class.\"\"\"\n",
        "        return self._create_examples(self._read_tsv(os.path.join(data_dir, \"test_mismatched.tsv\")), \"test_mismatched\")"
      ],
      "metadata": {
        "id": "dELs_ANJgh3N"
      },
      "execution_count": null,
      "outputs": []
    },
    {
      "cell_type": "markdown",
      "source": [
        "MNLI 원본 데이터셋을 처리하여 모델에 입력할 수 있도록 정리해 주는 MnliProcessor, MnliMismatchedProcessor 클래스이다."
      ],
      "metadata": {
        "id": "M3T0PuE_gpRd"
      }
    },
    {
      "cell_type": "code",
      "source": [
        "processor = MnliProcessor()\n",
        "examples = data['train'].take(1)\n",
        "\n",
        "for example in examples:\n",
        "    print('Original Data')\n",
        "    pprint.pprint(example)  \n",
        "    print(\"\\n\")\n",
        "    example = processor.get_example_from_tensor_dict(example)\n",
        "    print('Processed Data')\n",
        "    pprint.pprint(example)"
      ],
      "metadata": {
        "colab": {
          "base_uri": "https://localhost:8080/"
        },
        "id": "lap2N7NIgyvE",
        "outputId": "db2c1e5a-f0a0-434d-d9e5-bd1150a7d4cf"
      },
      "execution_count": null,
      "outputs": [
        {
          "output_type": "stream",
          "name": "stdout",
          "text": [
            "Original Data\n",
            "{'hypothesis': <tf.Tensor: shape=(), dtype=string, numpy=b'Meaningful partnerships with stakeholders is crucial.'>,\n",
            " 'idx': <tf.Tensor: shape=(), dtype=int32, numpy=16399>,\n",
            " 'label': <tf.Tensor: shape=(), dtype=int64, numpy=1>,\n",
            " 'premise': <tf.Tensor: shape=(), dtype=string, numpy=b'In recognition of these tensions, LSC has worked diligently since 1995 to convey the expectations of the State Planning Initiative and to establish meaningful partnerships with stakeholders aimed at fostering a new symbiosis between the federal provider and recipients of legal services funding.'>}\n",
            "\n",
            "\n",
            "Processed Data\n",
            "InputExample(guid=16399, text_a='In recognition of these tensions, LSC has worked diligently since 1995 to convey the expectations of the State Planning Initiative and to establish meaningful partnerships with stakeholders aimed at fostering a new symbiosis between the federal provider and recipients of legal services funding.', text_b='Meaningful partnerships with stakeholders is crucial.', label='1')\n"
          ]
        }
      ]
    },
    {
      "cell_type": "markdown",
      "source": [
        ""
      ],
      "metadata": {
        "id": "Qvjxx7IXg-mW"
      }
    },
    {
      "cell_type": "markdown",
      "source": [
        "Processor는 'Raw Dataset를 Annotated Dataset으로 변환'하는 역할을 한다.\n",
        "<br/>항목별로 text_a, text_b, label 등의 annotation이 포함된 InputExample로 변환된다."
      ],
      "metadata": {
        "id": "0sRT3z5ghAC8"
      }
    },
    {
      "cell_type": "markdown",
      "source": [
        "<br/>"
      ],
      "metadata": {
        "id": "cvNyR9DdhH_F"
      }
    },
    {
      "cell_type": "code",
      "source": [
        "examples = (data['train'].take(1))\n",
        "for example in examples:\n",
        "    example = processor.get_example_from_tensor_dict(example)\n",
        "    example = processor.tfds_map(example)\n",
        "    print('Processed Data')\n",
        "    print(example)"
      ],
      "metadata": {
        "colab": {
          "base_uri": "https://localhost:8080/"
        },
        "id": "A1DbMKMHhIlu",
        "outputId": "6ab00665-9d0b-4194-d293-d200cccd36fb"
      },
      "execution_count": null,
      "outputs": [
        {
          "output_type": "stream",
          "name": "stdout",
          "text": [
            "Processed Data\n",
            "InputExample(guid=16399, text_a='In recognition of these tensions, LSC has worked diligently since 1995 to convey the expectations of the State Planning Initiative and to establish meaningful partnerships with stakeholders aimed at fostering a new symbiosis between the federal provider and recipients of legal services funding.', text_b='Meaningful partnerships with stakeholders is crucial.', label='1')\n"
          ]
        }
      ]
    },
    {
      "cell_type": "markdown",
      "source": [
        ""
      ],
      "metadata": {
        "id": "LQwiVMoThZLF"
      }
    },
    {
      "cell_type": "markdown",
      "source": [
        "tfds_map 메소드를 활용한 경우이다. tfds_map는 label을 가공하는 메소드이다."
      ],
      "metadata": {
        "id": "M95DAUjkhav1"
      }
    },
    {
      "cell_type": "markdown",
      "source": [
        "<br/>"
      ],
      "metadata": {
        "id": "jVp0ygPMhis0"
      }
    },
    {
      "cell_type": "code",
      "source": [
        "label_list = processor.get_labels()\n",
        "label_list"
      ],
      "metadata": {
        "colab": {
          "base_uri": "https://localhost:8080/"
        },
        "id": "wTHTi-W2hlg0",
        "outputId": "cff79e7a-8c5b-4756-d6b5-7f9758c9c501"
      },
      "execution_count": null,
      "outputs": [
        {
          "output_type": "execute_result",
          "data": {
            "text/plain": [
              "['0', '1', '2']"
            ]
          },
          "metadata": {},
          "execution_count": 31
        }
      ]
    },
    {
      "cell_type": "code",
      "source": [
        "label_map = {label: i for i, label in enumerate(label_list)}\n",
        "label_map"
      ],
      "metadata": {
        "colab": {
          "base_uri": "https://localhost:8080/"
        },
        "id": "fH8VnpzZhl_l",
        "outputId": "e09df7f0-06bd-4451-d81a-099e8be6bb80"
      },
      "execution_count": null,
      "outputs": [
        {
          "output_type": "execute_result",
          "data": {
            "text/plain": [
              "{'0': 0, '1': 1, '2': 2}"
            ]
          },
          "metadata": {},
          "execution_count": 32
        }
      ]
    },
    {
      "cell_type": "markdown",
      "source": [
        "실제 label을 확인하여 Multiple Classification 문제로 정의되는 것을 확인한다."
      ],
      "metadata": {
        "id": "6EqQFXb-hpGO"
      }
    },
    {
      "cell_type": "markdown",
      "source": [
        "<br/>"
      ],
      "metadata": {
        "id": "CdJbgGM-hw-F"
      }
    },
    {
      "cell_type": "markdown",
      "source": [
        "##Huggingface Dataset"
      ],
      "metadata": {
        "id": "KcVdOCmUh0sG"
      }
    },
    {
      "cell_type": "code",
      "source": [
        "huggingface_mnli_dataset = load_dataset('glue', 'mnli')"
      ],
      "metadata": {
        "colab": {
          "base_uri": "https://localhost:8080/",
          "height": 202,
          "referenced_widgets": [
            "95274951738f4d108956934411d26bb5",
            "5ff21ce11d38485a89305ab7354bdf67",
            "1e21ab79f5fb400d9d649879d5bace04",
            "e683cff10f444360ade97af1511e49c5",
            "c9665b556ed0483faf9494c2b45bb4c6",
            "9c120c2813164dfb99c25139b4f31510",
            "0774d460b2044a25a4786bc35f13deb9",
            "b680cf095c944842b397d851bbab1243",
            "5a17eec00424462989c8fd172cdd0b9e",
            "62021634abfd46dca29ba2ce05964b01",
            "efa402185167426592fb2b8db3a35808",
            "a470709aba73498b87eceae2d898d05b",
            "b47d1c54741d43f78f50b6a227713cea",
            "6302505de71e40e79316f96780114db2",
            "bb3482612fb4412896eed7e1f91f8bfb",
            "655cbe87b7b044aeba94c33bf2ff9694",
            "fcaaaf4e397c448f95c3b4a7b19e1100",
            "fedb5b3fde2b4448b0d90da4a2a040da",
            "59a05d54e81b46959fc86d855d4cd3e7",
            "78097f56c1bc4256b82fb8651e063dcc",
            "e23afcc72f4f434db14a04e4f8e39a1b",
            "34b6c96b5677481bb4ca0b8147d9b2e4",
            "df104598fc3d4287a9548613d4bf56c0",
            "02b2ab807a564c03b89d86a83eeeb2f5",
            "ed0552bef9364826bd3d3de05497bf17",
            "033fa163c01845e6a5684348987136c9",
            "ecad89afa2284145904db14280081124",
            "83e37e57ac87491a95d3e3bb1ea6eccc",
            "1bd7403993144046ba05cdea23a9649c",
            "df32003639c64096b41664f07cb3a4d9",
            "2f278ec3552445c79512a4412656c4e0",
            "82dd96af1b2e4a7c808a7f1c32804efd",
            "c4aa8fccad8341b6824a8e7da5561eff",
            "fc37442823924091b729e985c237a6e9",
            "2c63200c251a4981ba06d753ae06cd3a",
            "6dac89ab66e348518949b09c7b389eeb",
            "5d458e0c334b40d3bd2781216c8267e4",
            "272b6dd1713c48c2bb6e7ca3d9bf0bd8",
            "c99ae7dba6064bc594e5db819841740b",
            "dd34ddca4f3e4d49be60932a6230489e",
            "5b1e97446b69480295305fd749b1d088",
            "3967bec868d24d208e6d390ada900def",
            "9c387542de4b4bd4a9b6131f8b94e420",
            "3fb1d86638744c71b8d3fd01c806cf74",
            "c5156e4431074f2b90ab91d8f30a83b2",
            "ebc8a5c9ac564dcc8fab474e586d8207",
            "d6f5d77abeb348f38f21d4c5cceb5393",
            "71991cc9dc0a42b89e78dcb48c5e2f2e",
            "4254395ddb6a44e9808933e66b225dd6",
            "418a1db7332e4edc954894e4bd1f987e",
            "f5770d7048394498b5765919d49294e0",
            "3b71c9bf59af4ef4bceea2f1d3981b1a",
            "21c2e2db09c2490db0f881f166d12116",
            "d90fb64298774629a8830f2453d84c4e",
            "1a835e3d26d1404caaf6f295b952d88e",
            "dfa960556a1e4384bc086d9df9883ec6",
            "acd7df22a908488ca7747728f92ed95a",
            "5a15a2b70f934543b92476cb88313add",
            "b4951ac2913147729501ef4c68e985c2",
            "7a186502f56845fcbb8f29340d80569c",
            "8ce257e1fc904cee88694749c0b63a2b",
            "6ee24ab550fb4300b1851e54188987e4",
            "8cdf47056d60414da0fe8cb8e9857a45",
            "9b66d091c34745cf94a28aaea63e812c",
            "e6b8c9afe5e946c382bbbf0dac0b03f4",
            "37a4c7933f1143e7a5e4d25f1afebffd",
            "b6360083b5ed4b83a08db2c2f112b51c",
            "0071f6fc3a4c487c83afa41bc03086ab",
            "3cfc04a134084f1ab3f677ff773a9521",
            "4e9e4ab33cfb431ca0c5e680881f1cc0",
            "8fc2ea50964e420cb435c61a0ae5d101",
            "5e3a4da641f14cc9a02975b822e0c68a",
            "69e179b6dce94796bfcb78e287124648",
            "501ee576957940a791e427f8ec85721d",
            "0e7e64b479b54300ad89a88637e58e45",
            "4db930fc0de044eabe6b4b6bdb05c364",
            "e00524c886a24ec68b6aaf7c0d8c8748",
            "4a4e850268424cfb8728c51f233a2127",
            "ad0b5ea8908a488f98a1f11653713764",
            "c04c2cd7edae4aaaa49422851d562d01",
            "93a4dcafeb2b4af18ac64fc038481b9a",
            "5e55a207de0e479899c8014af7dc1172",
            "a90c10c13b684d8691fb5a29dadad05f",
            "a91bb712629448179c6c5dab935017ec",
            "08e5f8d340fd4c4ea4b21354560e82f2",
            "6cca7a9d118a4bbd98a0595e8556e68c",
            "3c21d373177e493c93699ef4abe3f3ee",
            "8e11b81215404c2a82aed366e7e29713",
            "26783762c2e24323b7ea4a5da01fafdf",
            "69913ce01ea6411aa60c4d45f835228d",
            "e5ce418c1c824b8082e78a2b6d2e8346",
            "5831f5e1df0d4861aee9bcf73788c51f",
            "488ff6171c1345ca921b8dea8fb6f9fa",
            "aecb1a55552646a89cc2a3ab1a4edd3e",
            "2ab068d83812490fa31cd096b58750a6",
            "b98dbe729ca941438f346fcf08a00186",
            "e9b3da45def4428facfef2606cd945ba",
            "c2457836d5b94cecb9c49b3adb076fff",
            "a01fa8486d5541debb71322e64a7fe78"
          ]
        },
        "id": "4WsQjCgohua9",
        "outputId": "d693b81f-84b4-4696-e52b-96399790d6dc"
      },
      "execution_count": null,
      "outputs": [
        {
          "output_type": "display_data",
          "data": {
            "text/plain": [
              "Downloading builder script:   0%|          | 0.00/7.78k [00:00<?, ?B/s]"
            ],
            "application/vnd.jupyter.widget-view+json": {
              "version_major": 2,
              "version_minor": 0,
              "model_id": "95274951738f4d108956934411d26bb5"
            }
          },
          "metadata": {}
        },
        {
          "output_type": "display_data",
          "data": {
            "text/plain": [
              "Downloading metadata:   0%|          | 0.00/4.47k [00:00<?, ?B/s]"
            ],
            "application/vnd.jupyter.widget-view+json": {
              "version_major": 2,
              "version_minor": 0,
              "model_id": "a470709aba73498b87eceae2d898d05b"
            }
          },
          "metadata": {}
        },
        {
          "output_type": "stream",
          "name": "stdout",
          "text": [
            "Downloading and preparing dataset glue/mnli (download: 298.29 MiB, generated: 78.65 MiB, post-processed: Unknown size, total: 376.95 MiB) to /root/.cache/huggingface/datasets/glue/mnli/1.0.0/dacbe3125aa31d7f70367a07a8a9e72a5a0bfeb5fc42e75c9db75b96da6053ad...\n"
          ]
        },
        {
          "output_type": "display_data",
          "data": {
            "text/plain": [
              "Downloading data:   0%|          | 0.00/313M [00:00<?, ?B/s]"
            ],
            "application/vnd.jupyter.widget-view+json": {
              "version_major": 2,
              "version_minor": 0,
              "model_id": "df104598fc3d4287a9548613d4bf56c0"
            }
          },
          "metadata": {}
        },
        {
          "output_type": "display_data",
          "data": {
            "text/plain": [
              "Generating train split:   0%|          | 0/392702 [00:00<?, ? examples/s]"
            ],
            "application/vnd.jupyter.widget-view+json": {
              "version_major": 2,
              "version_minor": 0,
              "model_id": "fc37442823924091b729e985c237a6e9"
            }
          },
          "metadata": {}
        },
        {
          "output_type": "display_data",
          "data": {
            "text/plain": [
              "Generating validation_matched split:   0%|          | 0/9815 [00:00<?, ? examples/s]"
            ],
            "application/vnd.jupyter.widget-view+json": {
              "version_major": 2,
              "version_minor": 0,
              "model_id": "c5156e4431074f2b90ab91d8f30a83b2"
            }
          },
          "metadata": {}
        },
        {
          "output_type": "display_data",
          "data": {
            "text/plain": [
              "Generating validation_mismatched split:   0%|          | 0/9832 [00:00<?, ? examples/s]"
            ],
            "application/vnd.jupyter.widget-view+json": {
              "version_major": 2,
              "version_minor": 0,
              "model_id": "dfa960556a1e4384bc086d9df9883ec6"
            }
          },
          "metadata": {}
        },
        {
          "output_type": "display_data",
          "data": {
            "text/plain": [
              "Generating test_matched split:   0%|          | 0/9796 [00:00<?, ? examples/s]"
            ],
            "application/vnd.jupyter.widget-view+json": {
              "version_major": 2,
              "version_minor": 0,
              "model_id": "b6360083b5ed4b83a08db2c2f112b51c"
            }
          },
          "metadata": {}
        },
        {
          "output_type": "display_data",
          "data": {
            "text/plain": [
              "Generating test_mismatched split:   0%|          | 0/9847 [00:00<?, ? examples/s]"
            ],
            "application/vnd.jupyter.widget-view+json": {
              "version_major": 2,
              "version_minor": 0,
              "model_id": "4a4e850268424cfb8728c51f233a2127"
            }
          },
          "metadata": {}
        },
        {
          "output_type": "stream",
          "name": "stdout",
          "text": [
            "Dataset glue downloaded and prepared to /root/.cache/huggingface/datasets/glue/mnli/1.0.0/dacbe3125aa31d7f70367a07a8a9e72a5a0bfeb5fc42e75c9db75b96da6053ad. Subsequent calls will reuse this data.\n"
          ]
        },
        {
          "output_type": "display_data",
          "data": {
            "text/plain": [
              "  0%|          | 0/5 [00:00<?, ?it/s]"
            ],
            "application/vnd.jupyter.widget-view+json": {
              "version_major": 2,
              "version_minor": 0,
              "model_id": "26783762c2e24323b7ea4a5da01fafdf"
            }
          },
          "metadata": {}
        }
      ]
    },
    {
      "cell_type": "code",
      "source": [
        "print(huggingface_mnli_dataset)"
      ],
      "metadata": {
        "colab": {
          "base_uri": "https://localhost:8080/"
        },
        "id": "C9toz1Csh_9k",
        "outputId": "0145c694-97ae-4936-9d82-1b44eed443e9"
      },
      "execution_count": null,
      "outputs": [
        {
          "output_type": "stream",
          "name": "stdout",
          "text": [
            "DatasetDict({\n",
            "    train: Dataset({\n",
            "        features: ['premise', 'hypothesis', 'label', 'idx'],\n",
            "        num_rows: 392702\n",
            "    })\n",
            "    validation_matched: Dataset({\n",
            "        features: ['premise', 'hypothesis', 'label', 'idx'],\n",
            "        num_rows: 9815\n",
            "    })\n",
            "    validation_mismatched: Dataset({\n",
            "        features: ['premise', 'hypothesis', 'label', 'idx'],\n",
            "        num_rows: 9832\n",
            "    })\n",
            "    test_matched: Dataset({\n",
            "        features: ['premise', 'hypothesis', 'label', 'idx'],\n",
            "        num_rows: 9796\n",
            "    })\n",
            "    test_mismatched: Dataset({\n",
            "        features: ['premise', 'hypothesis', 'label', 'idx'],\n",
            "        num_rows: 9847\n",
            "    })\n",
            "})\n"
          ]
        }
      ]
    },
    {
      "cell_type": "markdown",
      "source": [
        ""
      ],
      "metadata": {
        "id": "woQaaNOSiBa0"
      }
    },
    {
      "cell_type": "markdown",
      "source": [
        "Huggingface Datasets를 사용하면 DataProcessor를 사용할 필요없이 바로 사용가능하게 구성되어 있다.\n",
        "<br/>Dataset Dictionary은 train dataset, validation dataset, test dataset으로 구성된다.\n",
        "<br/>Dataset은 ‘premise’, ‘hypothesis’, ‘label’, ‘idx’(인덱스)로 구성된다."
      ],
      "metadata": {
        "id": "yu5hNPj2iC1k"
      }
    },
    {
      "cell_type": "markdown",
      "source": [
        "<br/>"
      ],
      "metadata": {
        "id": "ZgIS872SiJZ0"
      }
    },
    {
      "cell_type": "markdown",
      "source": [
        "##모델 구성"
      ],
      "metadata": {
        "id": "F5usYAjRiK8r"
      }
    },
    {
      "cell_type": "markdown",
      "source": [
        "###Tokenizer & Model"
      ],
      "metadata": {
        "id": "I6XuVZmwiMv1"
      }
    },
    {
      "cell_type": "code",
      "source": [
        "tokenizer = ElectraTokenizerFast.from_pretrained('google/electra-base-discriminator')\n",
        "model = ElectraForSequenceClassification.from_pretrained('google/electra-base-discriminator')"
      ],
      "metadata": {
        "colab": {
          "base_uri": "https://localhost:8080/",
          "height": 289,
          "referenced_widgets": [
            "ca7fbc637076404b98e0536e7396b9b9",
            "9171132de21545bb9ab94e4ae00285f4",
            "d7ce8b0a5d494cc69af2254ce100c389",
            "90d9bcc60a494052a3a070909a65f3cb",
            "171b74a7250445d6ac31f78a41aedea4",
            "4c2ba43a08724c76b1c1b9b4bf98180d",
            "4f0e7462e38c46b784927231cd453220",
            "8a0ba6712e9f4837b200d4c1a195f1c1",
            "da77e7524b0e4c24a952cd81c9a8ebff",
            "f450a978b40d4e5d939960a1eca9c9fc",
            "a89ad1d4a99b46e888ef4cc73d880b73",
            "fed676b1b1ce4199891af6e18ecc792b",
            "1d4214f328f0455aa2f6d60eca7e90b5",
            "44b6a3f406c14c09a46d54d9fd6670d0",
            "c671a988cf35443cabc66482a195197a",
            "c6f40be01d3e447282a5ac011861e48b",
            "398c265ed16e4b3c9292825b0c6fa230",
            "976ad6b0d9e148d4b340eca60ab7dce5",
            "2c2af6a1121a4f9bb491bb87e157c683",
            "0f215c6ccd614583982ea6a7f78ef2bd",
            "53f0212ad57b46bdaab84bd62ec4daa3",
            "dd1f78a8ee384a1f9103b4de67640935",
            "93b890c679db4c75bebd8c1f010dc543",
            "2490e5fbe0d14b44b158d3dec088dd3b",
            "5b1c2bf8c37845e8bfbeed4350b14e8d",
            "238e0cb4a1cc4106acb7433871a96aed",
            "1efe582e33ec465e83514a3f937d8b95",
            "2020d6050e8d404ca9258b7a24196acf",
            "100e1fe73153410aa1e9c44e33053b00",
            "37ef467ef05142859d7262eedd32edf5",
            "d941c393206f4a4cb324784c6079696e",
            "8a5f7d4bc9e4474cb3d30a15abcb8f98",
            "3cb4f89911d74ef59f42c9bba3fc47c1",
            "5fe9775477e84c1f8e0fabffcd8199ce",
            "84a62573225f4ada862271aa785f4ecf",
            "4124f986d3fc4cfb969919ee74c70286",
            "fd9fe83b014d4b659d6182fba7945b88",
            "b27a7e1123244224b39f6b6a89698538",
            "17d154c0af794175bf1b525da4d27f13",
            "120ddba3db494756a194f92bf19f3310",
            "ac365e89175e4f2399d49215e590602a",
            "992b862ac6d54531890060c556830182",
            "9582d97bb9d54bfdbf904b928feb2af6",
            "eef9709263e34369ac28664310ae8e02",
            "846b7701afe44f0bb4e256e06aec20a0",
            "9686e9fd3b7246158bc270cfa0c38ab8",
            "75b71edbb27e4691956b4044d8e4dbde",
            "e8994c28376342f6ae8b5a68ce43da34",
            "bce93095fafe49648d2b2ea4f289523c",
            "b6f7f645cfe9438eafb2d4fa4a6d520f",
            "893d468e541f4986996aee7e306e9eb5",
            "710d966271b44b0c889b8c7e9071ccfc",
            "93cb9f71ce5144c186a3fbae0bdbb6d1",
            "d407e0665cb442fdb798d40fa99331db",
            "f11cca729db34a389b9a2e4e4d0bf709"
          ]
        },
        "id": "ILHfN1ZPiNXd",
        "outputId": "534637b9-bad0-418c-991c-b8082ee9c773"
      },
      "execution_count": null,
      "outputs": [
        {
          "output_type": "display_data",
          "data": {
            "text/plain": [
              "Downloading tokenizer_config.json:   0%|          | 0.00/27.0 [00:00<?, ?B/s]"
            ],
            "application/vnd.jupyter.widget-view+json": {
              "version_major": 2,
              "version_minor": 0,
              "model_id": "ca7fbc637076404b98e0536e7396b9b9"
            }
          },
          "metadata": {}
        },
        {
          "output_type": "display_data",
          "data": {
            "text/plain": [
              "Downloading vocab.txt:   0%|          | 0.00/226k [00:00<?, ?B/s]"
            ],
            "application/vnd.jupyter.widget-view+json": {
              "version_major": 2,
              "version_minor": 0,
              "model_id": "fed676b1b1ce4199891af6e18ecc792b"
            }
          },
          "metadata": {}
        },
        {
          "output_type": "display_data",
          "data": {
            "text/plain": [
              "Downloading tokenizer.json:   0%|          | 0.00/455k [00:00<?, ?B/s]"
            ],
            "application/vnd.jupyter.widget-view+json": {
              "version_major": 2,
              "version_minor": 0,
              "model_id": "93b890c679db4c75bebd8c1f010dc543"
            }
          },
          "metadata": {}
        },
        {
          "output_type": "display_data",
          "data": {
            "text/plain": [
              "Downloading config.json:   0%|          | 0.00/666 [00:00<?, ?B/s]"
            ],
            "application/vnd.jupyter.widget-view+json": {
              "version_major": 2,
              "version_minor": 0,
              "model_id": "5fe9775477e84c1f8e0fabffcd8199ce"
            }
          },
          "metadata": {}
        },
        {
          "output_type": "display_data",
          "data": {
            "text/plain": [
              "Downloading pytorch_model.bin:   0%|          | 0.00/420M [00:00<?, ?B/s]"
            ],
            "application/vnd.jupyter.widget-view+json": {
              "version_major": 2,
              "version_minor": 0,
              "model_id": "846b7701afe44f0bb4e256e06aec20a0"
            }
          },
          "metadata": {}
        },
        {
          "output_type": "stream",
          "name": "stderr",
          "text": [
            "Some weights of the model checkpoint at google/electra-base-discriminator were not used when initializing ElectraForSequenceClassification: ['discriminator_predictions.dense.weight', 'discriminator_predictions.dense_prediction.weight', 'discriminator_predictions.dense.bias', 'discriminator_predictions.dense_prediction.bias']\n",
            "- This IS expected if you are initializing ElectraForSequenceClassification from the checkpoint of a model trained on another task or with another architecture (e.g. initializing a BertForSequenceClassification model from a BertForPreTraining model).\n",
            "- This IS NOT expected if you are initializing ElectraForSequenceClassification from the checkpoint of a model that you expect to be exactly identical (initializing a BertForSequenceClassification model from a BertForSequenceClassification model).\n",
            "Some weights of ElectraForSequenceClassification were not initialized from the model checkpoint at google/electra-base-discriminator and are newly initialized: ['classifier.dense.bias', 'classifier.dense.weight', 'classifier.out_proj.bias', 'classifier.out_proj.weight']\n",
            "You should probably TRAIN this model on a down-stream task to be able to use it for predictions and inference.\n"
          ]
        }
      ]
    },
    {
      "cell_type": "code",
      "source": [
        "import torch\n",
        "if torch.cuda.is_available():  \n",
        "    device = torch.device(\"cuda\")\n",
        "    print('We will use the GPU:', torch.cuda.get_device_name(0))    \n",
        "else:\n",
        "    print('No GPU available, using the CPU instead.')\n",
        "    device = torch.device(\"cpu\")"
      ],
      "metadata": {
        "id": "eaEoKICzXFhF"
      },
      "execution_count": null,
      "outputs": []
    },
    {
      "cell_type": "markdown",
      "source": [
        "MnliProcessor, MnliMismatchedProcessor 클래스와 Framework를 결합하는 과정을 진행한다."
      ],
      "metadata": {
        "id": "9H56FeSMj8I8"
      }
    },
    {
      "cell_type": "code",
      "source": [
        "def _glue_convert_examples_to_features(examples, tokenizer, max_length, processor, label_list=None, output_mode=\"claasification\") :\n",
        "    if max_length is None :\n",
        "        max_length = tokenizer.max_len\n",
        "    if label_list is None:\n",
        "        label_list = processor.get_labels()\n",
        "        print(\"Using label list %s\" % (label_list))\n",
        "        print(\"\\n\")\n",
        "\n",
        "    label_map = {label: i for i, label in enumerate(label_list)}\n",
        "    labels = [label_map[example.label] for example in examples]\n",
        "\n",
        "    batch_encoding = tokenizer(\n",
        "        [(example.text_a, example.text_b) for example in examples],\n",
        "        max_length=max_length,\n",
        "        padding=\"max_length\",\n",
        "        truncation=True,\n",
        "    )\n",
        "\n",
        "    features = []\n",
        "    print(\"Example\")\n",
        "    print()\n",
        "\n",
        "    for i in range(len(examples)):\n",
        "        inputs = {k: batch_encoding[k][i] for k in batch_encoding}\n",
        "\n",
        "        feature = InputFeatures(**inputs, label=labels[i])\n",
        "        features.append(feature)\n",
        "\n",
        "        \n",
        "    for i, example in enumerate(examples[:1]):\n",
        "        print(\"guid: %s\" % (example.guid))\n",
        "        pprint.pprint(\"features: %s\" % features[i])\n",
        "        print(\"\\n\")\n",
        "\n",
        "    return features"
      ],
      "metadata": {
        "id": "Vr7O9BYfijnR"
      },
      "execution_count": null,
      "outputs": []
    },
    {
      "cell_type": "code",
      "source": [
        "def tf_glue_convert_examples_to_features(examples, tokenizer, max_length, processor, label_list=None, output_mode=\"classification\") :\n",
        "    \"\"\"\n",
        "    :param examples: tf.data.Dataset\n",
        "    :param tokenizer: pretrained tokenizer\n",
        "    :param max_length: example의 최대 길이(기본값 : tokenizer의 max_len)\n",
        "    :param task: GLUE task 이름\n",
        "    :param label_list: 라벨 리스트\n",
        "    :param output_mode: \"regression\" or \"classification\"\n",
        "\n",
        "    :return: task에 맞도록 feature가 구성된 tf.data.Dataset\n",
        "    \"\"\"\n",
        "    examples = [processor.tfds_map(processor.get_example_from_tensor_dict(example)) for example in examples]\n",
        "    features = _glue_convert_examples_to_features(examples, tokenizer, max_length, processor)\n",
        "    label_type = tf.int64\n",
        "\n",
        "    def gen():\n",
        "        for ex in features:\n",
        "            d = {k: v for k, v in asdict(ex).items() if v is not None}\n",
        "            label = d.pop(\"label\")\n",
        "            yield (d, label)\n",
        "\n",
        "    input_names = [\"input_ids\"] + tokenizer.model_input_names\n",
        "\n",
        "    return tf.data.Dataset.from_generator(\n",
        "        gen,\n",
        "        ({k: tf.int32 for k in input_names}, label_type),\n",
        "        ({k: tf.TensorShape([None]) for k in input_names}, tf.TensorShape([])),\n",
        "    )"
      ],
      "metadata": {
        "id": "ogbtgCKik4Kz"
      },
      "execution_count": null,
      "outputs": []
    },
    {
      "cell_type": "markdown",
      "source": [
        "Processor와 Tokenizer, 원본 데이터셋을 결합하여 Model에 입력할 데이터셋을 생성한다.\n",
        "<br/>_glue_convert_examples_to_feature는 processor가 생성한 example을 tokenizer로 인코딩하여 feature로 변환한다.\n",
        "<br/>tf_glue_convert_examples_to_features는 내부적으로 _glue_convert_examples_to_features를 호출해서 얻은 feature를 바탕으로 tf.data.Dataset을 생성하여 반환한다."
      ],
      "metadata": {
        "id": "HFus6LpdlFdr"
      }
    },
    {
      "cell_type": "code",
      "source": [
        "train_dataset = tf_glue_convert_examples_to_features(data['train'], tokenizer, max_length=128, processor=processor)"
      ],
      "metadata": {
        "colab": {
          "base_uri": "https://localhost:8080/"
        },
        "id": "sMEpuOkzlLoV",
        "outputId": "46170d67-b183-4ac6-a65f-d0063744d31d"
      },
      "execution_count": null,
      "outputs": [
        {
          "output_type": "stream",
          "name": "stdout",
          "text": [
            "Using label list ['0', '1', '2']\n",
            "\n",
            "\n",
            "Example\n",
            "\n",
            "guid: 16399\n",
            "('features: InputFeatures(input_ids=[101, 1999, 5038, 1997, 2122, 13136, 1010, '\n",
            " '1048, 11020, 2038, 2499, 29454, 29206, 14626, 2144, 2786, 2000, 16636, 1996, '\n",
            " '10908, 1997, 1996, 2110, 4041, 6349, 1998, 2000, 5323, 15902, 13797, 2007, '\n",
            " '22859, 6461, 2012, 6469, 2075, 1037, 2047, 25353, 14905, 10735, 2483, 2090, '\n",
            " '1996, 2976, 10802, 1998, 15991, 1997, 3423, 2578, 4804, 1012, 102, 15902, '\n",
            " '13797, 2007, 22859, 2003, 10232, 1012, 102, 0, 0, 0, 0, 0, 0, 0, 0, 0, 0, 0, '\n",
            " '0, 0, 0, 0, 0, 0, 0, 0, 0, 0, 0, 0, 0, 0, 0, 0, 0, 0, 0, 0, 0, 0, 0, 0, 0, '\n",
            " '0, 0, 0, 0, 0, 0, 0, 0, 0, 0, 0, 0, 0, 0, 0, 0, 0, 0, 0, 0, 0, 0, 0, 0, 0, '\n",
            " '0, 0, 0, 0, 0], attention_mask=[1, 1, 1, 1, 1, 1, 1, 1, 1, 1, 1, 1, 1, 1, 1, '\n",
            " '1, 1, 1, 1, 1, 1, 1, 1, 1, 1, 1, 1, 1, 1, 1, 1, 1, 1, 1, 1, 1, 1, 1, 1, 1, '\n",
            " '1, 1, 1, 1, 1, 1, 1, 1, 1, 1, 1, 1, 1, 1, 1, 1, 1, 1, 1, 1, 1, 1, 0, 0, 0, '\n",
            " '0, 0, 0, 0, 0, 0, 0, 0, 0, 0, 0, 0, 0, 0, 0, 0, 0, 0, 0, 0, 0, 0, 0, 0, 0, '\n",
            " '0, 0, 0, 0, 0, 0, 0, 0, 0, 0, 0, 0, 0, 0, 0, 0, 0, 0, 0, 0, 0, 0, 0, 0, 0, '\n",
            " '0, 0, 0, 0, 0, 0, 0, 0, 0, 0, 0, 0, 0], token_type_ids=[0, 0, 0, 0, 0, 0, 0, '\n",
            " '0, 0, 0, 0, 0, 0, 0, 0, 0, 0, 0, 0, 0, 0, 0, 0, 0, 0, 0, 0, 0, 0, 0, 0, 0, '\n",
            " '0, 0, 0, 0, 0, 0, 0, 0, 0, 0, 0, 0, 0, 0, 0, 0, 0, 0, 0, 0, 0, 0, 1, 1, 1, '\n",
            " '1, 1, 1, 1, 1, 0, 0, 0, 0, 0, 0, 0, 0, 0, 0, 0, 0, 0, 0, 0, 0, 0, 0, 0, 0, '\n",
            " '0, 0, 0, 0, 0, 0, 0, 0, 0, 0, 0, 0, 0, 0, 0, 0, 0, 0, 0, 0, 0, 0, 0, 0, 0, '\n",
            " '0, 0, 0, 0, 0, 0, 0, 0, 0, 0, 0, 0, 0, 0, 0, 0, 0, 0, 0, 0, 0], label=1)')\n",
            "\n",
            "\n"
          ]
        }
      ]
    },
    {
      "cell_type": "code",
      "source": [
        "examples = train_dataset.take(1)\n",
        "\n",
        "print('features')\n",
        "print()\n",
        "for example in examples:\n",
        "    print('input_ids')\n",
        "    print(example[0]['input_ids'])\n",
        "    print(\"\\n\")\n",
        "    print('attention_mask')\n",
        "    print(example[0]['attention_mask'])\n",
        "    print(\"\\n\")\n",
        "    print('token_type_ids')\n",
        "    print(example[0]['token_type_ids'])\n",
        "    print(\"\\n\")\n",
        "    print('label')\n",
        "    print(example[1])"
      ],
      "metadata": {
        "colab": {
          "base_uri": "https://localhost:8080/"
        },
        "id": "VFEBl8hJlW2E",
        "outputId": "6e97f412-2be1-478b-ae15-22e4225a1867"
      },
      "execution_count": null,
      "outputs": [
        {
          "output_type": "stream",
          "name": "stdout",
          "text": [
            "features\n",
            "\n",
            "input_ids\n",
            "tf.Tensor(\n",
            "[  101  1999  5038  1997  2122 13136  1010  1048 11020  2038  2499 29454\n",
            " 29206 14626  2144  2786  2000 16636  1996 10908  1997  1996  2110  4041\n",
            "  6349  1998  2000  5323 15902 13797  2007 22859  6461  2012  6469  2075\n",
            "  1037  2047 25353 14905 10735  2483  2090  1996  2976 10802  1998 15991\n",
            "  1997  3423  2578  4804  1012   102 15902 13797  2007 22859  2003 10232\n",
            "  1012   102     0     0     0     0     0     0     0     0     0     0\n",
            "     0     0     0     0     0     0     0     0     0     0     0     0\n",
            "     0     0     0     0     0     0     0     0     0     0     0     0\n",
            "     0     0     0     0     0     0     0     0     0     0     0     0\n",
            "     0     0     0     0     0     0     0     0     0     0     0     0\n",
            "     0     0     0     0     0     0     0     0], shape=(128,), dtype=int32)\n",
            "\n",
            "\n",
            "attention_mask\n",
            "tf.Tensor(\n",
            "[1 1 1 1 1 1 1 1 1 1 1 1 1 1 1 1 1 1 1 1 1 1 1 1 1 1 1 1 1 1 1 1 1 1 1 1 1\n",
            " 1 1 1 1 1 1 1 1 1 1 1 1 1 1 1 1 1 1 1 1 1 1 1 1 1 0 0 0 0 0 0 0 0 0 0 0 0\n",
            " 0 0 0 0 0 0 0 0 0 0 0 0 0 0 0 0 0 0 0 0 0 0 0 0 0 0 0 0 0 0 0 0 0 0 0 0 0\n",
            " 0 0 0 0 0 0 0 0 0 0 0 0 0 0 0 0 0], shape=(128,), dtype=int32)\n",
            "\n",
            "\n",
            "token_type_ids\n",
            "tf.Tensor(\n",
            "[0 0 0 0 0 0 0 0 0 0 0 0 0 0 0 0 0 0 0 0 0 0 0 0 0 0 0 0 0 0 0 0 0 0 0 0 0\n",
            " 0 0 0 0 0 0 0 0 0 0 0 0 0 0 0 0 0 1 1 1 1 1 1 1 1 0 0 0 0 0 0 0 0 0 0 0 0\n",
            " 0 0 0 0 0 0 0 0 0 0 0 0 0 0 0 0 0 0 0 0 0 0 0 0 0 0 0 0 0 0 0 0 0 0 0 0 0\n",
            " 0 0 0 0 0 0 0 0 0 0 0 0 0 0 0 0 0], shape=(128,), dtype=int32)\n",
            "\n",
            "\n",
            "label\n",
            "tf.Tensor(1, shape=(), dtype=int64)\n"
          ]
        }
      ]
    },
    {
      "cell_type": "markdown",
      "source": [
        ""
      ],
      "metadata": {
        "id": "hVkH32VdlaTs"
      }
    },
    {
      "cell_type": "markdown",
      "source": [
        "tf_glue_convert_examples_to_features가 최종적으로 모델에 전달될 tf.data.Dataset 인스턴스를 생성하여\n",
        "<br/>학습 단계 데이터셋 train_dataset이 반환한다."
      ],
      "metadata": {
        "id": "kyrdpGB3m1YD"
      }
    },
    {
      "cell_type": "markdown",
      "source": [
        ""
      ],
      "metadata": {
        "id": "bKD18wvKm6UF"
      }
    },
    {
      "cell_type": "code",
      "source": [
        "train_dataset = tf_glue_convert_examples_to_features(data['train'], tokenizer, max_length=128, processor=processor)\n",
        "train_dataset_batch = train_dataset.shuffle(100).batch(16).repeat(2)"
      ],
      "metadata": {
        "colab": {
          "base_uri": "https://localhost:8080/"
        },
        "id": "YqzovRf0m8D6",
        "outputId": "163be1e2-5904-44b1-f81d-4aa44bcb158e"
      },
      "execution_count": null,
      "outputs": [
        {
          "output_type": "stream",
          "name": "stdout",
          "text": [
            "Using label list ['0', '1', '2']\n",
            "\n",
            "\n",
            "Example\n",
            "\n",
            "guid: 16399\n",
            "('features: InputFeatures(input_ids=[101, 1999, 5038, 1997, 2122, 13136, 1010, '\n",
            " '1048, 11020, 2038, 2499, 29454, 29206, 14626, 2144, 2786, 2000, 16636, 1996, '\n",
            " '10908, 1997, 1996, 2110, 4041, 6349, 1998, 2000, 5323, 15902, 13797, 2007, '\n",
            " '22859, 6461, 2012, 6469, 2075, 1037, 2047, 25353, 14905, 10735, 2483, 2090, '\n",
            " '1996, 2976, 10802, 1998, 15991, 1997, 3423, 2578, 4804, 1012, 102, 15902, '\n",
            " '13797, 2007, 22859, 2003, 10232, 1012, 102, 0, 0, 0, 0, 0, 0, 0, 0, 0, 0, 0, '\n",
            " '0, 0, 0, 0, 0, 0, 0, 0, 0, 0, 0, 0, 0, 0, 0, 0, 0, 0, 0, 0, 0, 0, 0, 0, 0, '\n",
            " '0, 0, 0, 0, 0, 0, 0, 0, 0, 0, 0, 0, 0, 0, 0, 0, 0, 0, 0, 0, 0, 0, 0, 0, 0, '\n",
            " '0, 0, 0, 0, 0], attention_mask=[1, 1, 1, 1, 1, 1, 1, 1, 1, 1, 1, 1, 1, 1, 1, '\n",
            " '1, 1, 1, 1, 1, 1, 1, 1, 1, 1, 1, 1, 1, 1, 1, 1, 1, 1, 1, 1, 1, 1, 1, 1, 1, '\n",
            " '1, 1, 1, 1, 1, 1, 1, 1, 1, 1, 1, 1, 1, 1, 1, 1, 1, 1, 1, 1, 1, 1, 0, 0, 0, '\n",
            " '0, 0, 0, 0, 0, 0, 0, 0, 0, 0, 0, 0, 0, 0, 0, 0, 0, 0, 0, 0, 0, 0, 0, 0, 0, '\n",
            " '0, 0, 0, 0, 0, 0, 0, 0, 0, 0, 0, 0, 0, 0, 0, 0, 0, 0, 0, 0, 0, 0, 0, 0, 0, '\n",
            " '0, 0, 0, 0, 0, 0, 0, 0, 0, 0, 0, 0, 0], token_type_ids=[0, 0, 0, 0, 0, 0, 0, '\n",
            " '0, 0, 0, 0, 0, 0, 0, 0, 0, 0, 0, 0, 0, 0, 0, 0, 0, 0, 0, 0, 0, 0, 0, 0, 0, '\n",
            " '0, 0, 0, 0, 0, 0, 0, 0, 0, 0, 0, 0, 0, 0, 0, 0, 0, 0, 0, 0, 0, 0, 1, 1, 1, '\n",
            " '1, 1, 1, 1, 1, 0, 0, 0, 0, 0, 0, 0, 0, 0, 0, 0, 0, 0, 0, 0, 0, 0, 0, 0, 0, '\n",
            " '0, 0, 0, 0, 0, 0, 0, 0, 0, 0, 0, 0, 0, 0, 0, 0, 0, 0, 0, 0, 0, 0, 0, 0, 0, '\n",
            " '0, 0, 0, 0, 0, 0, 0, 0, 0, 0, 0, 0, 0, 0, 0, 0, 0, 0, 0, 0, 0], label=1)')\n",
            "\n",
            "\n"
          ]
        }
      ]
    },
    {
      "cell_type": "code",
      "source": [
        "validation_dataset = tf_glue_convert_examples_to_features(data['validation_matched'], tokenizer, max_length=128, processor=processor)\n",
        "validation_dataset_batch = validation_dataset.shuffle(100).batch(16)"
      ],
      "metadata": {
        "id": "jmVA8rjjm-EC",
        "colab": {
          "base_uri": "https://localhost:8080/"
        },
        "outputId": "ec8a65c1-93fa-4b0b-c982-73ccb7d5788c"
      },
      "execution_count": null,
      "outputs": [
        {
          "output_type": "stream",
          "name": "stdout",
          "text": [
            "Using label list ['0', '1', '2']\n",
            "\n",
            "\n",
            "Example\n",
            "\n",
            "guid: 6287\n",
            "('features: InputFeatures(input_ids=[101, 7910, 1011, 9616, 2821, 3398, 2035, '\n",
            " '1996, 2111, 2005, 2157, 7910, 2166, 2030, 2242, 102, 3398, 7167, 1997, 2111, '\n",
            " '2005, 1996, 2157, 2166, 102, 0, 0, 0, 0, 0, 0, 0, 0, 0, 0, 0, 0, 0, 0, 0, 0, '\n",
            " '0, 0, 0, 0, 0, 0, 0, 0, 0, 0, 0, 0, 0, 0, 0, 0, 0, 0, 0, 0, 0, 0, 0, 0, 0, '\n",
            " '0, 0, 0, 0, 0, 0, 0, 0, 0, 0, 0, 0, 0, 0, 0, 0, 0, 0, 0, 0, 0, 0, 0, 0, 0, '\n",
            " '0, 0, 0, 0, 0, 0, 0, 0, 0, 0, 0, 0, 0, 0, 0, 0, 0, 0, 0, 0, 0, 0, 0, 0, 0, '\n",
            " '0, 0, 0, 0, 0, 0, 0, 0, 0, 0, 0, 0], attention_mask=[1, 1, 1, 1, 1, 1, 1, 1, '\n",
            " '1, 1, 1, 1, 1, 1, 1, 1, 1, 1, 1, 1, 1, 1, 1, 1, 1, 0, 0, 0, 0, 0, 0, 0, 0, '\n",
            " '0, 0, 0, 0, 0, 0, 0, 0, 0, 0, 0, 0, 0, 0, 0, 0, 0, 0, 0, 0, 0, 0, 0, 0, 0, '\n",
            " '0, 0, 0, 0, 0, 0, 0, 0, 0, 0, 0, 0, 0, 0, 0, 0, 0, 0, 0, 0, 0, 0, 0, 0, 0, '\n",
            " '0, 0, 0, 0, 0, 0, 0, 0, 0, 0, 0, 0, 0, 0, 0, 0, 0, 0, 0, 0, 0, 0, 0, 0, 0, '\n",
            " '0, 0, 0, 0, 0, 0, 0, 0, 0, 0, 0, 0, 0, 0, 0, 0, 0, 0, 0, 0], '\n",
            " 'token_type_ids=[0, 0, 0, 0, 0, 0, 0, 0, 0, 0, 0, 0, 0, 0, 0, 0, 1, 1, 1, 1, '\n",
            " '1, 1, 1, 1, 1, 0, 0, 0, 0, 0, 0, 0, 0, 0, 0, 0, 0, 0, 0, 0, 0, 0, 0, 0, 0, '\n",
            " '0, 0, 0, 0, 0, 0, 0, 0, 0, 0, 0, 0, 0, 0, 0, 0, 0, 0, 0, 0, 0, 0, 0, 0, 0, '\n",
            " '0, 0, 0, 0, 0, 0, 0, 0, 0, 0, 0, 0, 0, 0, 0, 0, 0, 0, 0, 0, 0, 0, 0, 0, 0, '\n",
            " '0, 0, 0, 0, 0, 0, 0, 0, 0, 0, 0, 0, 0, 0, 0, 0, 0, 0, 0, 0, 0, 0, 0, 0, 0, '\n",
            " '0, 0, 0, 0, 0, 0, 0, 0], label=0)')\n",
            "\n",
            "\n"
          ]
        }
      ]
    },
    {
      "cell_type": "code",
      "source": [
        "test_dataset = tf_glue_convert_examples_to_features(data['test_matched'], tokenizer, max_length=128, processor=processor)\n",
        "test_dataset_batch = test_dataset.shuffle(100).batch(16)"
      ],
      "metadata": {
        "id": "ewrVHuRKm-L-",
        "colab": {
          "base_uri": "https://localhost:8080/"
        },
        "outputId": "b05d7810-16f1-447b-803b-c9b938060b70"
      },
      "execution_count": null,
      "outputs": [
        {
          "output_type": "stream",
          "name": "stdout",
          "text": [
            "Using label list ['0', '1', '2']\n",
            "\n",
            "\n",
            "Example\n",
            "\n",
            "guid: 5398\n",
            "('features: InputFeatures(input_ids=[101, 2092, 2003, 2045, 1037, 2210, 3751, '\n",
            " '10216, 2017, 2404, 1999, 2045, 102, 2003, 2045, 1037, 10216, 2008, 2017, '\n",
            " '2404, 1999, 2045, 1029, 102, 0, 0, 0, 0, 0, 0, 0, 0, 0, 0, 0, 0, 0, 0, 0, 0, '\n",
            " '0, 0, 0, 0, 0, 0, 0, 0, 0, 0, 0, 0, 0, 0, 0, 0, 0, 0, 0, 0, 0, 0, 0, 0, 0, '\n",
            " '0, 0, 0, 0, 0, 0, 0, 0, 0, 0, 0, 0, 0, 0, 0, 0, 0, 0, 0, 0, 0, 0, 0, 0, 0, '\n",
            " '0, 0, 0, 0, 0, 0, 0, 0, 0, 0, 0, 0, 0, 0, 0, 0, 0, 0, 0, 0, 0, 0, 0, 0, 0, '\n",
            " '0, 0, 0, 0, 0, 0, 0, 0, 0, 0, 0, 0, 0], attention_mask=[1, 1, 1, 1, 1, 1, 1, '\n",
            " '1, 1, 1, 1, 1, 1, 1, 1, 1, 1, 1, 1, 1, 1, 1, 1, 1, 0, 0, 0, 0, 0, 0, 0, 0, '\n",
            " '0, 0, 0, 0, 0, 0, 0, 0, 0, 0, 0, 0, 0, 0, 0, 0, 0, 0, 0, 0, 0, 0, 0, 0, 0, '\n",
            " '0, 0, 0, 0, 0, 0, 0, 0, 0, 0, 0, 0, 0, 0, 0, 0, 0, 0, 0, 0, 0, 0, 0, 0, 0, '\n",
            " '0, 0, 0, 0, 0, 0, 0, 0, 0, 0, 0, 0, 0, 0, 0, 0, 0, 0, 0, 0, 0, 0, 0, 0, 0, '\n",
            " '0, 0, 0, 0, 0, 0, 0, 0, 0, 0, 0, 0, 0, 0, 0, 0, 0, 0, 0, 0, 0], '\n",
            " 'token_type_ids=[0, 0, 0, 0, 0, 0, 0, 0, 0, 0, 0, 0, 0, 1, 1, 1, 1, 1, 1, 1, '\n",
            " '1, 1, 1, 1, 0, 0, 0, 0, 0, 0, 0, 0, 0, 0, 0, 0, 0, 0, 0, 0, 0, 0, 0, 0, 0, '\n",
            " '0, 0, 0, 0, 0, 0, 0, 0, 0, 0, 0, 0, 0, 0, 0, 0, 0, 0, 0, 0, 0, 0, 0, 0, 0, '\n",
            " '0, 0, 0, 0, 0, 0, 0, 0, 0, 0, 0, 0, 0, 0, 0, 0, 0, 0, 0, 0, 0, 0, 0, 0, 0, '\n",
            " '0, 0, 0, 0, 0, 0, 0, 0, 0, 0, 0, 0, 0, 0, 0, 0, 0, 0, 0, 0, 0, 0, 0, 0, 0, '\n",
            " '0, 0, 0, 0, 0, 0, 0, 0], label=2)')\n",
            "\n",
            "\n"
          ]
        }
      ]
    },
    {
      "cell_type": "markdown",
      "source": [
        ""
      ],
      "metadata": {
        "id": "o7ef0R7qnC6d"
      }
    },
    {
      "cell_type": "markdown",
      "source": [
        "###Huggingface Auto Classes"
      ],
      "metadata": {
        "id": "1OHBaoZZnFGl"
      }
    },
    {
      "cell_type": "code",
      "source": [
        "import transformers\n",
        "from transformers import AutoTokenizer, AutoModelForSequenceClassification\n",
        "\n",
        "huggingface_tokenizer = AutoTokenizer.from_pretrained('google/electra-base-discriminator')\n",
        "huggingface_model = AutoModelForSequenceClassification.from_pretrained('google/electra-base-discriminator', num_labels = 2)"
      ],
      "metadata": {
        "colab": {
          "base_uri": "https://localhost:8080/"
        },
        "id": "dIc78AnRnIBL",
        "outputId": "00861c35-50e3-4ae6-e8e9-2c3221267fc2"
      },
      "execution_count": null,
      "outputs": [
        {
          "output_type": "stream",
          "name": "stderr",
          "text": [
            "Some weights of the model checkpoint at google/electra-base-discriminator were not used when initializing ElectraForSequenceClassification: ['discriminator_predictions.dense.bias', 'discriminator_predictions.dense_prediction.bias', 'discriminator_predictions.dense.weight', 'discriminator_predictions.dense_prediction.weight']\n",
            "- This IS expected if you are initializing ElectraForSequenceClassification from the checkpoint of a model trained on another task or with another architecture (e.g. initializing a BertForSequenceClassification model from a BertForPreTraining model).\n",
            "- This IS NOT expected if you are initializing ElectraForSequenceClassification from the checkpoint of a model that you expect to be exactly identical (initializing a BertForSequenceClassification model from a BertForSequenceClassification model).\n",
            "Some weights of ElectraForSequenceClassification were not initialized from the model checkpoint at google/electra-base-discriminator and are newly initialized: ['classifier.out_proj.weight', 'classifier.out_proj.bias', 'classifier.dense.weight', 'classifier.dense.bias']\n",
            "You should probably TRAIN this model on a down-stream task to be able to use it for predictions and inference.\n"
          ]
        }
      ]
    },
    {
      "cell_type": "markdown",
      "source": [
        "Huggingface의 경우 AutoTokenizer, AutoModel기능을 지원한다.\n",
        "<br/>AutoTokenizer와 AutoModel은 Huggingface에서 지원하는 Auto Class이다.\n",
        "<br/>Auto Class는 from_pretrained 메소드를 이용해 Pretrained Model의 경로 혹은 이름만 안다면 자동으로 생성하는 방법이다."
      ],
      "metadata": {
        "id": "aNDK1hN8nKLa"
      }
    },
    {
      "cell_type": "markdown",
      "source": [
        "AutoModelForSequenceClassification는 AutoModel을 그대로 사용하기보다 특정 task를 지정하는 방식이다.\n",
        "<br/>Auto Class는 다양한 모델에 자동으로 맞출 수 있기 떄문에 특정 task와 dataset이 주어져있는 경우 다양한 모델을 실험한다."
      ],
      "metadata": {
        "id": "zTbpsahYnL-E"
      }
    },
    {
      "cell_type": "markdown",
      "source": [
        "###Tokenizing"
      ],
      "metadata": {
        "id": "SwPF811noVZ0"
      }
    },
    {
      "cell_type": "code",
      "source": [
        "def transform(data):\n",
        "  return huggingface_tokenizer(\n",
        "      data['premise'],\n",
        "      data['hypothesis'],\n",
        "      truncation = True,\n",
        "      padding = 'max_length',\n",
        "      return_token_type_ids = False,\n",
        "      )"
      ],
      "metadata": {
        "id": "NmRWvUd1oXZb"
      },
      "execution_count": null,
      "outputs": []
    },
    {
      "cell_type": "markdown",
      "source": [
        "토크나이징은 transform이라는 함수를 만들고 이전에 만들어두었던 Tokenizer를 사용하는데 이때 dataset의 형태를 확인하고 바꿀 대상을 지정한다.\n",
        "<br/>mnli의 경우 premise가 토크나이징할 대상이므로 data[’premise ’]로 인덱싱해서 지정한다.\n",
        "<br/>truncation은 특정 문장이 길어 모델을 다루기 힘들어 질 수 있으므로 짧게 자르는 것을 의미한다.\n",
        "<br/>return_token_type_ids는 문장이 한개이상일 때 나뉘는걸 보여준다. (해당 내용은 task에 필요없으므로 제거한다.)"
      ],
      "metadata": {
        "id": "q0rVbghWpjtX"
      }
    },
    {
      "cell_type": "code",
      "source": [
        "examples = huggingface_mnli_dataset['train'][:5]\n",
        "examples_transformed = transform(examples)\n",
        "\n",
        "count = 0\n",
        "print(\"Example\")\n",
        "print()\n",
        "pprint.pprint(examples)\n",
        "print(\"\\n\")\n",
        "print()\n",
        "\n",
        "print(\"Tokenization Example\")\n",
        "print()\n",
        "\n",
        "for i in ['input_ids', 'attention_mask']:\n",
        "  if i == 'input_ids':\n",
        "    print('input_ids[0]')\n",
        "  else:\n",
        "    count = 0\n",
        "    print(\"\\n\")\n",
        "    print()\n",
        "    print('attention_mask[0]')\n",
        "\n",
        "  for j in examples_transformed[i][0]:\n",
        "    count += 1\n",
        "    if count < len(examples_transformed[i][0]):\n",
        "      print(j, end=', ')\n",
        "    elif count == len(examples_transformed[i][0]):\n",
        "      print(j, end=' ')  \n",
        "    if (i == 'input_ids' and count % 54 == 27) or (i == 'attention_mask' and count % 54 == 0):\n",
        "      print()"
      ],
      "metadata": {
        "colab": {
          "base_uri": "https://localhost:8080/"
        },
        "id": "UOGpq7Nhpuyu",
        "outputId": "642c3ea4-90e7-472b-de0e-4277643f60c5"
      },
      "execution_count": null,
      "outputs": [
        {
          "output_type": "stream",
          "name": "stdout",
          "text": [
            "Example\n",
            "\n",
            "{'hypothesis': ['Product and geography are what make cream skimming work. ',\n",
            "                'You lose the things to the following level if the people '\n",
            "                'recall.',\n",
            "                'A member of my team will execute your orders with immense '\n",
            "                'precision.',\n",
            "                'This information belongs to them.',\n",
            "                'The tennis shoes have a range of prices.'],\n",
            " 'idx': [0, 1, 2, 3, 4],\n",
            " 'label': [1, 0, 0, 0, 1],\n",
            " 'premise': ['Conceptually cream skimming has two basic dimensions - product '\n",
            "             'and geography.',\n",
            "             'you know during the season and i guess at at your level uh you '\n",
            "             'lose them to the next level if if they decide to recall the the '\n",
            "             'parent team the Braves decide to call to recall a guy from '\n",
            "             'triple A then a double A guy goes up to replace him and a single '\n",
            "             'A guy goes up to replace him',\n",
            "             'One of our number will carry out your instructions minutely.',\n",
            "             'How do you know? All this is their information again.',\n",
            "             'yeah i tell you what though if you go price some of those tennis '\n",
            "             \"shoes i can see why now you know they're getting up in the \"\n",
            "             'hundred dollar range']}\n",
            "\n",
            "\n",
            "\n",
            "Tokenization Example\n",
            "\n",
            "input_ids[0]\n",
            "101, 17158, 2135, 6949, 8301, 25057, 2038, 2048, 3937, 9646, 1011, 4031, 1998, 10505, 1012, 102, 4031, 1998, 10505, 2024, 2054, 2191, 6949, 8301, 25057, 2147, 1012, \n",
            "102, 0, 0, 0, 0, 0, 0, 0, 0, 0, 0, 0, 0, 0, 0, 0, 0, 0, 0, 0, 0, 0, 0, 0, 0, 0, 0, 0, 0, 0, 0, 0, 0, 0, 0, 0, 0, 0, 0, 0, 0, 0, 0, 0, 0, 0, 0, 0, 0, 0, 0, 0, 0, 0, \n",
            "0, 0, 0, 0, 0, 0, 0, 0, 0, 0, 0, 0, 0, 0, 0, 0, 0, 0, 0, 0, 0, 0, 0, 0, 0, 0, 0, 0, 0, 0, 0, 0, 0, 0, 0, 0, 0, 0, 0, 0, 0, 0, 0, 0, 0, 0, 0, 0, 0, 0, 0, 0, 0, 0, \n",
            "0, 0, 0, 0, 0, 0, 0, 0, 0, 0, 0, 0, 0, 0, 0, 0, 0, 0, 0, 0, 0, 0, 0, 0, 0, 0, 0, 0, 0, 0, 0, 0, 0, 0, 0, 0, 0, 0, 0, 0, 0, 0, 0, 0, 0, 0, 0, 0, 0, 0, 0, 0, 0, 0, \n",
            "0, 0, 0, 0, 0, 0, 0, 0, 0, 0, 0, 0, 0, 0, 0, 0, 0, 0, 0, 0, 0, 0, 0, 0, 0, 0, 0, 0, 0, 0, 0, 0, 0, 0, 0, 0, 0, 0, 0, 0, 0, 0, 0, 0, 0, 0, 0, 0, 0, 0, 0, 0, 0, 0, \n",
            "0, 0, 0, 0, 0, 0, 0, 0, 0, 0, 0, 0, 0, 0, 0, 0, 0, 0, 0, 0, 0, 0, 0, 0, 0, 0, 0, 0, 0, 0, 0, 0, 0, 0, 0, 0, 0, 0, 0, 0, 0, 0, 0, 0, 0, 0, 0, 0, 0, 0, 0, 0, 0, 0, \n",
            "0, 0, 0, 0, 0, 0, 0, 0, 0, 0, 0, 0, 0, 0, 0, 0, 0, 0, 0, 0, 0, 0, 0, 0, 0, 0, 0, 0, 0, 0, 0, 0, 0, 0, 0, 0, 0, 0, 0, 0, 0, 0, 0, 0, 0, 0, 0, 0, 0, 0, 0, 0, 0, 0, \n",
            "0, 0, 0, 0, 0, 0, 0, 0, 0, 0, 0, 0, 0, 0, 0, 0, 0, 0, 0, 0, 0, 0, 0, 0, 0, 0, 0, 0, 0, 0, 0, 0, 0, 0, 0, 0, 0, 0, 0, 0, 0, 0, 0, 0, 0, 0, 0, 0, 0, 0, 0, 0, 0, 0, \n",
            "0, 0, 0, 0, 0, 0, 0, 0, 0, 0, 0, 0, 0, 0, 0, 0, 0, 0, 0, 0, 0, 0, 0, 0, 0, 0, 0, 0, 0, 0, 0, 0, 0, 0, 0, 0, 0, 0, 0, 0, 0, 0, 0, 0, 0, 0, 0, 0, 0, 0, 0, 0, 0, 0, \n",
            "0, 0, 0, 0, 0, 0, 0, 0, 0, 0, 0, 0, 0, 0, 0, 0, 0, 0, 0, 0, 0, 0, 0, 0, 0, 0, 0, 0, 0, 0, 0, 0, 0, 0, 0, 0, 0, 0, 0, 0, 0, 0, 0, 0, 0, 0, 0, 0, 0, 0, 0, 0, 0 \n",
            "\n",
            "\n",
            "attention_mask[0]\n",
            "1, 1, 1, 1, 1, 1, 1, 1, 1, 1, 1, 1, 1, 1, 1, 1, 1, 1, 1, 1, 1, 1, 1, 1, 1, 1, 1, 1, 0, 0, 0, 0, 0, 0, 0, 0, 0, 0, 0, 0, 0, 0, 0, 0, 0, 0, 0, 0, 0, 0, 0, 0, 0, 0, \n",
            "0, 0, 0, 0, 0, 0, 0, 0, 0, 0, 0, 0, 0, 0, 0, 0, 0, 0, 0, 0, 0, 0, 0, 0, 0, 0, 0, 0, 0, 0, 0, 0, 0, 0, 0, 0, 0, 0, 0, 0, 0, 0, 0, 0, 0, 0, 0, 0, 0, 0, 0, 0, 0, 0, \n",
            "0, 0, 0, 0, 0, 0, 0, 0, 0, 0, 0, 0, 0, 0, 0, 0, 0, 0, 0, 0, 0, 0, 0, 0, 0, 0, 0, 0, 0, 0, 0, 0, 0, 0, 0, 0, 0, 0, 0, 0, 0, 0, 0, 0, 0, 0, 0, 0, 0, 0, 0, 0, 0, 0, \n",
            "0, 0, 0, 0, 0, 0, 0, 0, 0, 0, 0, 0, 0, 0, 0, 0, 0, 0, 0, 0, 0, 0, 0, 0, 0, 0, 0, 0, 0, 0, 0, 0, 0, 0, 0, 0, 0, 0, 0, 0, 0, 0, 0, 0, 0, 0, 0, 0, 0, 0, 0, 0, 0, 0, \n",
            "0, 0, 0, 0, 0, 0, 0, 0, 0, 0, 0, 0, 0, 0, 0, 0, 0, 0, 0, 0, 0, 0, 0, 0, 0, 0, 0, 0, 0, 0, 0, 0, 0, 0, 0, 0, 0, 0, 0, 0, 0, 0, 0, 0, 0, 0, 0, 0, 0, 0, 0, 0, 0, 0, \n",
            "0, 0, 0, 0, 0, 0, 0, 0, 0, 0, 0, 0, 0, 0, 0, 0, 0, 0, 0, 0, 0, 0, 0, 0, 0, 0, 0, 0, 0, 0, 0, 0, 0, 0, 0, 0, 0, 0, 0, 0, 0, 0, 0, 0, 0, 0, 0, 0, 0, 0, 0, 0, 0, 0, \n",
            "0, 0, 0, 0, 0, 0, 0, 0, 0, 0, 0, 0, 0, 0, 0, 0, 0, 0, 0, 0, 0, 0, 0, 0, 0, 0, 0, 0, 0, 0, 0, 0, 0, 0, 0, 0, 0, 0, 0, 0, 0, 0, 0, 0, 0, 0, 0, 0, 0, 0, 0, 0, 0, 0, \n",
            "0, 0, 0, 0, 0, 0, 0, 0, 0, 0, 0, 0, 0, 0, 0, 0, 0, 0, 0, 0, 0, 0, 0, 0, 0, 0, 0, 0, 0, 0, 0, 0, 0, 0, 0, 0, 0, 0, 0, 0, 0, 0, 0, 0, 0, 0, 0, 0, 0, 0, 0, 0, 0, 0, \n",
            "0, 0, 0, 0, 0, 0, 0, 0, 0, 0, 0, 0, 0, 0, 0, 0, 0, 0, 0, 0, 0, 0, 0, 0, 0, 0, 0, 0, 0, 0, 0, 0, 0, 0, 0, 0, 0, 0, 0, 0, 0, 0, 0, 0, 0, 0, 0, 0, 0, 0, 0, 0, 0, 0, \n",
            "0, 0, 0, 0, 0, 0, 0, 0, 0, 0, 0, 0, 0, 0, 0, 0, 0, 0, 0, 0, 0, 0, 0, 0, 0, 0 "
          ]
        }
      ]
    },
    {
      "cell_type": "code",
      "source": [
        ""
      ],
      "metadata": {
        "id": "MNkUwm42WYnm"
      },
      "execution_count": null,
      "outputs": []
    },
    {
      "cell_type": "markdown",
      "source": [
        "<br/><br/><br/><br/>"
      ],
      "metadata": {
        "id": "_C5ByV5FtuSQ"
      }
    },
    {
      "cell_type": "code",
      "source": [
        "encoded_dataset = huggingface_mnli_dataset.map(transform, batched=True)"
      ],
      "metadata": {
        "id": "QHvaBkSbtqGY",
        "colab": {
          "base_uri": "https://localhost:8080/",
          "height": 177,
          "referenced_widgets": [
            "1f21813481054c37b13ec2a7959b0f96",
            "4b1c8e9c63c74aa496b0306ccd7f7685",
            "8c129d576d1b4521bf54b8f482b3be33",
            "f43881cd99b44ba3848d765f295a76c8",
            "54e8ffe759ed4bbcbe4e0ecc5153b0e3",
            "4be626f2ace04d328cde0a0f54b2f06b",
            "1b4f335c46ef49fd85b9665f53f39d42",
            "8596594b917f42bf9d97daacc120a3ee",
            "4e024b1a0c0c4730a80ccc89d546319a",
            "51b803901f10471fbad74bb97e9cc9d6",
            "7320a8f71ed54dc199a8a4acbf602f13",
            "a5a3da46f22b490ca08fa9d98b5c9dfb",
            "9635b18b3d6b49ef941bb6f0fea3d398",
            "a9e481f2b4a14d45b2acb90035f19991",
            "00e7e38464994ca08a483799dcf94078",
            "f662e43b754d4136a92e62d58b38bf38",
            "82f4944ded2341bab83ffcd6c65c2641",
            "71159ab489aa42afa96890ed7af5f869",
            "2a18a18095414180b6408e6e59625392",
            "21ae57715e754e93bff1dab9ffbcef77",
            "ddd362c0c20b43a980a2ba80e06338fc",
            "5845822400f14500afcd3d1117813bb8",
            "96b43329d17f45359bbb9959b7d02cc3",
            "104750de58184b8cb55a4fe1eedbb370",
            "16fa8f6e4c344b4284cb126ff1595550",
            "1b881be8cead4caa8508d3254d3ca7c3",
            "606ab08f92bd43fb85bb79233493e374",
            "7bb053d31bc84d2c9e8fad35a699c6fc",
            "b9ba2cc7e7b84f738b794b9c5aff419b",
            "f046d01f47a04e62a39512fbbf7d9771",
            "434f1f48c98543178ecc92b93d61142d",
            "886d635073fb4af998e889fd1704744b",
            "4ac996c9fbdc4730ba8f4b5447c61c08",
            "15d6ca3930cf45e4bd4b6e2e3ad026dc",
            "8c1bdb746d454562bee34d8db6e26e6c",
            "01083aea7ca841aeaadb8a99b4b591d6",
            "1b7b209d549f423faa96b63d5bfbf3cc",
            "57cb373697f64c479a942d459507cc1c",
            "00fc0178a1064e28aa8c35346778288e",
            "250e4aa07a1845578d2ac7642c0b8aa9",
            "e2b1866a034e431381dea777aab02950",
            "63ad20ad55e641b9a16ec5cc7dce1492",
            "e7cb36c95a3148418bab5c8955a16d4b",
            "fe6224afc95d4bd490ec43107eb397de",
            "a17906119e1448b7be63d630865339bb",
            "136f3ee66d1e4a4cb42faaa932fc783e",
            "8a52cd8e6e3246b099c4c643ffc3f60b",
            "3f1bf10af6964bb0a7ea2a68c248ee1c",
            "2d233236b1d245b78f45741338f04bb8",
            "f6cd4043fcf64bbba8862518d50abe2a",
            "54a45be179a345dda34d1af3419ab03f",
            "0405988d699641b787c5ccc677ffea89",
            "840629d11c80486982fbbea50f2fc1a7",
            "c887082d3ea14ec599eaba24a500e89b",
            "6f349e7c460d461e86343b21087a1c5a"
          ]
        },
        "outputId": "33e108b4-f88b-4e2e-ae7d-1be6f0517743"
      },
      "execution_count": null,
      "outputs": [
        {
          "output_type": "display_data",
          "data": {
            "text/plain": [
              "  0%|          | 0/393 [00:00<?, ?ba/s]"
            ],
            "application/vnd.jupyter.widget-view+json": {
              "version_major": 2,
              "version_minor": 0,
              "model_id": "1f21813481054c37b13ec2a7959b0f96"
            }
          },
          "metadata": {}
        },
        {
          "output_type": "display_data",
          "data": {
            "text/plain": [
              "  0%|          | 0/10 [00:00<?, ?ba/s]"
            ],
            "application/vnd.jupyter.widget-view+json": {
              "version_major": 2,
              "version_minor": 0,
              "model_id": "a5a3da46f22b490ca08fa9d98b5c9dfb"
            }
          },
          "metadata": {}
        },
        {
          "output_type": "display_data",
          "data": {
            "text/plain": [
              "  0%|          | 0/10 [00:00<?, ?ba/s]"
            ],
            "application/vnd.jupyter.widget-view+json": {
              "version_major": 2,
              "version_minor": 0,
              "model_id": "96b43329d17f45359bbb9959b7d02cc3"
            }
          },
          "metadata": {}
        },
        {
          "output_type": "display_data",
          "data": {
            "text/plain": [
              "  0%|          | 0/10 [00:00<?, ?ba/s]"
            ],
            "application/vnd.jupyter.widget-view+json": {
              "version_major": 2,
              "version_minor": 0,
              "model_id": "15d6ca3930cf45e4bd4b6e2e3ad026dc"
            }
          },
          "metadata": {}
        },
        {
          "output_type": "display_data",
          "data": {
            "text/plain": [
              "  0%|          | 0/10 [00:00<?, ?ba/s]"
            ],
            "application/vnd.jupyter.widget-view+json": {
              "version_major": 2,
              "version_minor": 0,
              "model_id": "a17906119e1448b7be63d630865339bb"
            }
          },
          "metadata": {}
        }
      ]
    },
    {
      "cell_type": "markdown",
      "source": [
        "데이터셋을 한번에 토크나이징할때 자주 사용하는 기법은 map이다.\n",
        "<br/>map을 사용하면 Data Dictionary에 있는 모든 데이터들이 빠르게 적용시킬 수 있다.\n",
        "<br/>우리는 map을 사용해 토크나이징을 진행하기 때문에 batch를 적용하므로 batched=True로 설정한다."
      ],
      "metadata": {
        "id": "yyje-MK0t2Ta"
      }
    },
    {
      "cell_type": "markdown",
      "source": [
        "<br/>"
      ],
      "metadata": {
        "id": "43Sy3tOUtxGh"
      }
    },
    {
      "cell_type": "markdown",
      "source": [
        "##Keras Moodel"
      ],
      "metadata": {
        "id": "cyMUxwRvxIU_"
      }
    },
    {
      "cell_type": "code",
      "source": [
        "len(data['train'])"
      ],
      "metadata": {
        "colab": {
          "base_uri": "https://localhost:8080/"
        },
        "id": "idTibhntY3aD",
        "outputId": "6e4223e5-e11d-4eb3-8b18-b66282aff38a"
      },
      "execution_count": null,
      "outputs": [
        {
          "output_type": "execute_result",
          "data": {
            "text/plain": [
              "392702"
            ]
          },
          "metadata": {},
          "execution_count": 77
        }
      ]
    },
    {
      "cell_type": "code",
      "source": [
        "optimizer = AdamW(model.parameters(),\n",
        "                  lr = 6e-6, # args.learning_rate - default is 5e-5, our notebook had 2e-5\n",
        "                  eps = 1e-8 # args.adam_epsilon  - default is 1e-8.\n",
        "                )\n",
        "\n",
        "# Number of training epochs (authors recommend between 2 and 4)\n",
        "epochs = 3\n",
        "\n",
        "# Total number of training steps is number of batches * number of epochs.\n",
        "total_steps = len(data['train']) * epochs\n",
        "\n",
        "# Create the learning rate scheduler.\n",
        "scheduler = get_linear_schedule_with_warmup(optimizer, \n",
        "                                            num_warmup_steps = 0, \n",
        "                                            num_training_steps = total_steps)"
      ],
      "metadata": {
        "id": "6km2tOMLxIeB"
      },
      "execution_count": null,
      "outputs": []
    },
    {
      "cell_type": "code",
      "source": [
        "def format_time(elapsed):\n",
        "    '''\n",
        "    Takes a time in seconds and returns a string hh:mm:ss\n",
        "    '''\n",
        "    # Round to the nearest second.\n",
        "    elapsed_rounded = int(round((elapsed)))\n",
        "    \n",
        "    # Format as hh:mm:ss\n",
        "    return str(datetime.timedelta(seconds=elapsed_rounded))"
      ],
      "metadata": {
        "id": "PvOOhGKuTU2X"
      },
      "execution_count": null,
      "outputs": []
    },
    {
      "cell_type": "markdown",
      "source": [
        "[Disaster Tweets : multiple vectorizers and models](https://www.kaggle.com/code/zinebkhanjari/disaster-tweets-multiple-vectorizers-and-models/notebook?scriptVersionId=52721572)"
      ],
      "metadata": {
        "id": "zUwqoCrhbKdT"
      }
    },
    {
      "cell_type": "code",
      "source": [
        "# This training code is based on the `run_glue.py` script here:\n",
        "# https://github.com/huggingface/transformers/blob/5bfcd0485ece086ebcbed2d008813037968a9e58/examples/run_glue.py#L128\n",
        "\n",
        "first_model_loss_df = pd.DataFrame({'Epoch':[0], 'Train Loss':[0]})\n",
        "# Set the seed value all over the place to make this reproducible.\n",
        "seed_val = 42\n",
        "\n",
        "random.seed(seed_val)\n",
        "np.random.seed(seed_val)\n",
        "torch.manual_seed(seed_val)\n",
        "torch.cuda.manual_seed_all(seed_val)\n",
        "\n",
        "# Store the average loss after each epoch so we can plot them.\n",
        "loss_values = []\n",
        "\n",
        "# For each epoch...\n",
        "for epoch_i in range(0, epochs):\n",
        "    \n",
        "    # ========================================\n",
        "    #               Training\n",
        "    # ========================================\n",
        "    \n",
        "    # Perform one full pass over the training set.\n",
        "\n",
        "    print(\"\")\n",
        "    print('======== Epoch {:} ========'.format(epoch_i + 1))\n",
        "    first_model_loss_df.loc[epoch_i] = [epoch_i + 1, round(total_loss.numpy() / (batch + 1), 4)]\n",
        "              first_model_loss_df = first_model_loss_df.astype({'Epoch':'int'})\n",
        "              print('Epoch {}'.format(epoch + 1))\n",
        "              print('Loss {:.4f}'.format(total_loss.numpy() / (batch + 1)))\n",
        "              print()\n",
        "\n",
        "    # Measure how long the training epoch takes.\n",
        "    t0 = time.time()\n",
        "\n",
        "    # Reset the total loss for this epoch.\n",
        "    total_loss = 0\n",
        "\n",
        "    # Put the model into training mode. Don't be mislead--the call to \n",
        "    # `train` just changes the *mode*, it doesn't *perform* the training.\n",
        "    # `dropout` and `batchnorm` layers behave differently during training\n",
        "    # vs. test (source: https://stackoverflow.com/questions/51433378/what-does-model-train-do-in-pytorch)\n",
        "    model.train()\n",
        "\n",
        "    # For each batch of training data...\n",
        "    for step, batch in enumerate(len(data['train'])):\n",
        "\n",
        "        # Progress update every 100 batches.\n",
        "        if step % 50 == 0 and not step == 0:\n",
        "            # Calculate elapsed time in minutes.\n",
        "            elapsed = format_time(time.time() - t0)\n",
        "           \n",
        "        # Unpack this training batch from our dataloader. \n",
        "        #\n",
        "        # As we unpack the batch, we'll also copy each tensor to the GPU using the \n",
        "        # `to` method.\n",
        "        #\n",
        "        # `batch` contains three pytorch tensors:\n",
        "        #   [0]: input ids \n",
        "        #   [1]: attention masks\n",
        "        #   [2]: labels \n",
        "        b_input_ids = batch[0].to(device)\n",
        "        b_input_mask = batch[1].to(device)\n",
        "        b_labels = batch[2].to(device)\n",
        "\n",
        "        # Always clear any previously calculated gradients before performing a\n",
        "        # backward pass. PyTorch doesn't do this automatically because \n",
        "        # accumulating the gradients is \"convenient while training RNNs\". \n",
        "        # (source: https://stackoverflow.com/questions/48001598/why-do-we-need-to-call-zero-grad-in-pytorch)\n",
        "        model.zero_grad()        \n",
        "\n",
        "        # Perform a forward pass (evaluate the model on this training batch).\n",
        "        # This will return the loss (rather than the model output) because we\n",
        "        # have provided the `labels`.\n",
        "        # The documentation for this `model` function is here: \n",
        "        # https://huggingface.co/transformers/v2.2.0/model_doc/bert.html#transformers.BertForSequenceClassification\n",
        "        outputs = model(b_input_ids, \n",
        "                    token_type_ids=None, \n",
        "                    attention_mask=b_input_mask, \n",
        "                    labels=b_labels)\n",
        "        \n",
        "        # The call to `model` always returns a tuple, so we need to pull the \n",
        "        # loss value out of the tuple.\n",
        "        loss = outputs[0]\n",
        "\n",
        "        # Accumulate the training loss over all of the batches so that we can\n",
        "        # calculate the average loss at the end. `loss` is a Tensor containing a\n",
        "        # single value; the `.item()` function just returns the Python value \n",
        "        # from the tensor.\n",
        "        total_loss += loss.item()\n",
        "\n",
        "        # Perform a backward pass to calculate the gradients.\n",
        "        loss.backward()\n",
        "\n",
        "        # Clip the norm of the gradients to 1.0.\n",
        "        # This is to help prevent the \"exploding gradients\" problem.\n",
        "        torch.nn.utils.clip_grad_norm_(model.parameters(), 1.0)\n",
        "\n",
        "        # Update parameters and take a step using the computed gradient.\n",
        "        # The optimizer dictates the \"update rule\"--how the parameters are\n",
        "        # modified based on their gradients, the learning rate, etc.\n",
        "        optimizer.step()\n",
        "\n",
        "        # Update the learning rate.\n",
        "        scheduler.step()\n",
        "\n",
        "    # Calculate the average loss over the training data.\n",
        "    avg_train_loss = total_loss / len(len(data['train']))            \n",
        "    \n",
        "    # Store the loss value for plotting the learning curve.\n",
        "    loss_values.append(avg_train_loss)\n",
        "\n",
        "    print(\"\")\n",
        "    print(\"  Average training loss: {0:.2f}\".format(avg_train_loss))"
      ],
      "metadata": {
        "id": "lODvRKzpTU5B"
      },
      "execution_count": null,
      "outputs": []
    },
    {
      "cell_type": "code",
      "source": [
        ""
      ],
      "metadata": {
        "id": "5bGi5yhdTU68"
      },
      "execution_count": null,
      "outputs": []
    },
    {
      "cell_type": "markdown",
      "source": [
        "##Huggingface Trainer"
      ],
      "metadata": {
        "id": "Zq8Gykzueuc9"
      }
    },
    {
      "cell_type": "code",
      "source": [
        "#메모리를 비워줍니다.\n",
        "del model\n",
        "del train_dataset_batch\n",
        "del validation_dataset_batch\n",
        "del test_dataset_batch"
      ],
      "metadata": {
        "id": "88pq_1cOevBW"
      },
      "execution_count": null,
      "outputs": []
    },
    {
      "cell_type": "code",
      "source": [
        "pwd"
      ],
      "metadata": {
        "colab": {
          "base_uri": "https://localhost:8080/",
          "height": 35
        },
        "id": "_VbuYTobv94h",
        "outputId": "70948cf2-b121-48ea-d6e9-9f0fdd01659d"
      },
      "execution_count": null,
      "outputs": [
        {
          "output_type": "execute_result",
          "data": {
            "text/plain": [
              "'/content/drive/MyDrive/lms/huggingface_glue_task/transfomers_v4.21.1'"
            ],
            "application/vnd.google.colaboratory.intrinsic+json": {
              "type": "string"
            }
          },
          "metadata": {},
          "execution_count": 118
        }
      ]
    },
    {
      "cell_type": "code",
      "source": [
        "from transformers import Trainer, TrainingArguments\n",
        "output_dir = 'huggingface_trainer_mnli'\n",
        "metric_name = 'accuracy'\n",
        "\n",
        "training_arguments = TrainingArguments(\n",
        "    output_dir, # output이 저장될 경로\n",
        "    evaluation_strategy=\"epoch\", #evaluation하는 빈도\n",
        "    learning_rate = 2e-5, #learning_rate\n",
        "    per_device_train_batch_size = 16, # 각 device 당 batch size\n",
        "    per_device_eval_batch_size = 16, # evaluation 시에 batch size\n",
        "    num_train_epochs = 3, # train 시킬 총 epochs\n",
        "    weight_decay = 0.01, # weight decay\n",
        ")"
      ],
      "metadata": {
        "colab": {
          "base_uri": "https://localhost:8080/"
        },
        "id": "bKiPJ7HJuQE7",
        "outputId": "efe4cb8a-8d38-431b-fa07-00ce28354ba8"
      },
      "execution_count": null,
      "outputs": [
        {
          "output_type": "stream",
          "name": "stderr",
          "text": [
            "PyTorch: setting up devices\n",
            "The default value for the training argument `--report_to` will change in v5 (from all installed integrations to none). In v5, you will need to use `--report_to all` to get the same behavior as now. You should start updating your code and make this info disappear :-).\n"
          ]
        }
      ]
    },
    {
      "cell_type": "markdown",
      "source": [
        "Trainer를 사용하기 위해서는 TrainingArguments를 통해 학습 관련 설정을 미리 지정한다."
      ],
      "metadata": {
        "id": "N-91t8gAwPbp"
      }
    },
    {
      "cell_type": "markdown",
      "source": [
        "FutureWarning: This implementation of AdamW is deprecated and will be removed in a future version.\n",
        "<br/>Use the PyTorch implementation torch.optim.AdamW instead, or set `no_deprecation_warning=True` to disable this warning"
      ],
      "metadata": {
        "id": "E4MEYLz3wQzj"
      }
    },
    {
      "cell_type": "markdown",
      "source": [
        "FutureWarning을 해결하기 위해 TrainingArguments에 optim=\"adamw_torch\"를 지정한다."
      ],
      "metadata": {
        "id": "TRM_spjVwS65"
      }
    },
    {
      "cell_type": "markdown",
      "source": [
        "<br/>"
      ],
      "metadata": {
        "id": "XDj5omRtwUci"
      }
    },
    {
      "cell_type": "code",
      "source": [
        "from datasets import load_metric\n",
        "metric = load_metric('glue', 'mnli')"
      ],
      "metadata": {
        "id": "v3mvJQQCwRUy"
      },
      "execution_count": null,
      "outputs": []
    },
    {
      "cell_type": "code",
      "source": [
        "def compute_metrics(eval_pred):    \n",
        "    predictions,labels = eval_pred\n",
        "    predictions = np.argmax(predictions, axis=1)\n",
        "    return metric.compute(predictions=predictions, references = labels)"
      ],
      "metadata": {
        "id": "8jBd2uB-wYD5"
      },
      "execution_count": null,
      "outputs": []
    },
    {
      "cell_type": "markdown",
      "source": [
        "Trainer의 인자로 넘겨주어야 할 것 중에 compute_metrics 메소드가 있다.\n",
        "<br/>task가 classification인지 regression인지에 따라 모델의 출력 형태가 달라지므로\n",
        "<br/>task별로 적합한 출력 형식을 고려해 모델의 성능을 계산하는 방법을 미리 지정한다."
      ],
      "metadata": {
        "id": "T6pXJ0Ziwb8D"
      }
    },
    {
      "cell_type": "code",
      "source": [
        "trainer = Trainer(\n",
        "    model=huggingface_model,                           # 학습시킬 model\n",
        "    args=training_arguments,                  # TrainingArguments을 통해 설정한 arguments\n",
        "    train_dataset=encoded_dataset['train'],    # training dataset\n",
        "    eval_dataset=encoded_dataset['validation_matched'],       # evaluation dataset\n",
        "    compute_metrics=compute_metrics,\n",
        ")"
      ],
      "metadata": {
        "id": "5abpZWcuwdlB"
      },
      "execution_count": null,
      "outputs": []
    },
    {
      "cell_type": "code",
      "source": [
        "trainer.train()"
      ],
      "metadata": {
        "id": "yLup7XfHwqKA"
      },
      "execution_count": null,
      "outputs": []
    },
    {
      "cell_type": "markdown",
      "source": [
        "#결론"
      ],
      "metadata": {
        "id": "XJpEF1oSfKfy"
      }
    },
    {
      "cell_type": "markdown",
      "source": [
        "**Virtual Environment VS Github Contributor**"
      ],
      "metadata": {
        "id": "JpPJJuLDfNWs"
      }
    },
    {
      "cell_type": "markdown",
      "source": [
        "HuggingFace에 등록된 MRPC 모델의 CLI 코드를 실행했다.\n",
        "<br/>bert-base-cased MRPC Finetune\n",
        "<br/>bert-base-uncased MRPC Finetune\n",
        "<br/>bert_uncased_L-12_H-768_A-12 MRPC Finetune"
      ],
      "metadata": {
        "id": "CZ3-zvn0YiSX"
      }
    },
    {
      "cell_type": "markdown",
      "source": [
        "Tensorflow 버전 차이 때문에 AttributeError, TyperError가 발생한다.\n",
        "<br/>py 파일을 여러 번 수정해도 또 다른 에러가 떠서 아예 코드 전체를 바꿔야 하는 디버깅 작업이 요구된다."
      ],
      "metadata": {
        "id": "PfpXXFn2YiVF"
      }
    },
    {
      "cell_type": "markdown",
      "source": [
        "\n",
        "이러한 상황에서 그 작동 코드의 옛날 버전에 맞는 가상환경을 구축하거나\n",
        "<br/>코드 전체를 바꿔서 원작자에게 연락하여 Github Contributor가 되는 방법이 있는 것인가?\n",
        "<br/>개발자는 모델 개발과 배포 프로세스에서 발생한 이슈에 어떻게 대처하는가?"
      ],
      "metadata": {
        "id": "fjoiZvo4ZbTO"
      }
    },
    {
      "cell_type": "markdown",
      "source": [
        ""
      ],
      "metadata": {
        "id": "6c5_H3o2Zb_-"
      }
    },
    {
      "cell_type": "markdown",
      "source": [
        ""
      ],
      "metadata": {
        "id": "OyDqPHPyZgov"
      }
    },
    {
      "cell_type": "markdown",
      "source": [
        "#참고문헌"
      ],
      "metadata": {
        "id": "0CvvDzWefNe_"
      }
    },
    {
      "cell_type": "markdown",
      "source": [
        "**LMS**\n",
        "<br/>[mjmingd](https://github.com/mjmingd)\n",
        "\n",
        "<br/>**공식 사이트**\n",
        "<br/>DACON\n",
        "<br/>[뉴스 토픽 분류 AI 경진대회 private 27위 TwoKimBrothers팀 코드공유](https://dacon.io/competitions/official/235747/codeshare/3050)\n",
        "\n",
        "<br/>**Github**\n",
        "<br/>HuggingFace\n",
        "<br/>[Transformers Release](https://github.com/huggingface/transformers/releases)\n",
        "<br/><br/>sgugger\n",
        "<br/>[# v4.21.1: Patch release](https://github.com/huggingface/transformers/releases/tag/v4.21.1)\n",
        "<br/><br/>Beomi\n",
        "<br/>[2021-03-15-kcbert-mlm-finetune-with-petition-dataset.ipynb](https://gist.github.com/Beomi/972c6442a9c15a22dfd1903d0bb0f577)\n",
        "<br/>[KcBERT MLM Finetune으로 Domain adaptation하기](https://beomi.github.io/2021/03/15/KcBERT-MLM-Finetune/)\n",
        "<br/><br/>jacobdevlin-google\n",
        "<br/>[google-research/bert/Sentence (and sentence-pair) classification tasks](https://github.com/google-research/bert)\n",
        "<br/><br/>W4ngatan\n",
        "<br/>[download_glue_data.py](https://gist.github.com/W4ngatang/60c2bdb54d156a41194446737ce03e2e)\n",
        "<br/><br/>vlasenkoalexe\n",
        "<br/>[download_glue_data.py (fixed script)](https://gist.github.com/vlasenkoalexey/fef1601580f269eca73bf26a198595f3)\n",
        "<br/><br/>birdmw\n",
        "<br/>[AttributeError: module 'tensorflow' has no attribute 'flags' #1754](https://github.com/tensorflow/tensor2tensor/issues/1754)\n",
        "<br/><br/>Gabriel-Molinas\n",
        "<br/>[AttributeError: module 'tensorflow' has no attribute 'app' #34431](https://github.com/tensorflow/tensorflow/issues/34431)\n",
        "<br/><br/>Zhen-Dong\n",
        "<br/>[QBERT/NLP-quantization/Fine-tuning with BERT: examples](https://githubmemory.com/index.php/repo/Zhen-Dong/QBERT)\n",
        "\n",
        "<br/>**Hugging Face**\n",
        "<br/>[Installation](https://huggingface.co/docs/transformers/installation#installing-from-source%60)\n",
        "<br/>[Transformers Examples](https://huggingface.co/transformers/v2.9.1/examples.html)\n",
        "<br/>[beomi/kcbert-base](https://huggingface.co/beomi/kcbert-base)\n",
        "<br/>[google/bert_uncased_L-12_H-768_A-12](https://huggingface.co/google/bert_uncased_L-12_H-768_A-12/tree/main)\n",
        "<br/>[google/electra-base-discriminator](https://huggingface.co/google/electra-base-discriminator)\n",
        "<br/>[Huggingface transformers longformer optimizer warning AdamW](https://discuss.huggingface.co/t/huggingface-transformers-longformer-optimizer-warning-adamw/14711/3)\n",
        "<br/>[`run_glue.py` with my own dataset of one-sentence input](https://discuss.huggingface.co/t/run-glue-py-with-my-own-dataset-of-one-sentence-input/3098/6)\n",
        "\n",
        "<br/>**Kaggle**\n",
        "<br/>[huggingface transformer basic usage](https://www.kaggle.com/code/nageshsingh/huggingface-transformer-basic-usage)\n",
        "<br/>[Trainer](https://huggingface.co/docs/transformers/main_classes/trainer)\n",
        "\n",
        "<br/>**웹사이트**\n",
        "<br/>[PYTORCH / HUGGINGFACE CUSTOM DATASET으로 BERT 학습하기 – GPU](https://cryptosalamander.tistory.com/141)\n",
        "<br/>[git 특정 tag clone 하기. git clone -b < tag > < repositor y>](https://junho85.pe.kr/433\n",
        "<br/>[Error in google colab(python) while transliterating data into Indian language](https://stackoverflow.com/questions/73024976/error-in-google-colabpython-while-transliterating-data-into-indian-language)\n",
        "<br/>[Pretty printing newlines inside a string in a Pandas DataFrame](https://stackoverflow.com/questions/34322448/pretty-printing-newlines-inside-a-string-in-a-pandas-dataframe)\n",
        "<br/>[Python: how to slice a dictionary based on the values of its keys?](https://stackoverflow.com/questions/40440373/python-how-to-slice-a-dictionary-based-on-the-values-of-its-keys)\n",
        "<br/>[Error importing BERT: module 'tensorflow._api.v2.train' has no attribute 'Optimizer'](https://stackoverflow.com/questions/61250311/error-importing-bert-module-tensorflow-api-v2-train-has-no-attribute-optimi)\n",
        "<br/>[AttributeError: module 'tensorflow' has no attribute 'logging'](https://systemout.tistory.com/8)\n",
        "error-importing-bert-module-tensorflow-api-v2-train-has-no-attribute-optimi)\n",
        "<br/>[Wikipedia Apollo program](https://en.wikipedia.org/wiki/Apollo_program)\n",
        "<br/>[How to reorder indexed rows based on a list in Pandas data frame](https://www.google.com/search?q=info.splits&oq=info.splits&aqs=chrome..69i57.395j0j9&sourceid=chrome&ie=UTF-8)\n",
        "<br/>[Print the structure of large nested dictionaries in a compact way without printing all elements](https://stackoverflow.com/questions/39334638/print-the-structure-of-large-nested-dictionaries-in-a-compact-way-without-printi)\n",
        "<br/>[Python Pandas: Convert nested dictionary to dataframe](https://stackoverflow.com/questions/31460234/python-pandas-convert-nested-dictionary-to-datafram)\n",
        "<br/>[TPU를 이용한 BERT GLUE task Train, Evaluation 해보기](https://choice-life.tistory.com/77)\n",
        "<br/>[How to reorder a python ordered dict based on array?](https://stackoverflow.com/questions/18405537/how-to-reorder-a-python-ordered-dict-based-on-array)\n",
        "\n",
        "<br/>[Convert Ordereddict into dataframe in python](https://stackoverflow.com/questions/68797498/convert-ordereddict-into-dataframe-in-python)\n",
        "<br/>[Constructing pandas DataFrame from values in variables gives \"ValueError: If using all scalar values, you must pass an index\"](https://stackoverflow.com/questions/17839973/constructing-pandas-dataframe-from-values-in-variables-gives-valueerror-if-usi)\n",
        "<br/>[matplotlib label doesn't work](https://stackoverflow.com/questions/14657169/matplotlib-label-doesnt-work)"
      ],
      "metadata": {
        "id": "CHp6lFqtc5Fa"
      }
    }
  ]
}