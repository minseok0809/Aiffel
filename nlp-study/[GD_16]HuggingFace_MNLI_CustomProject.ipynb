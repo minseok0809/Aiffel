{
  "nbformat": 4,
  "nbformat_minor": 0,
  "metadata": {
    "colab": {
      "name": "[GD_16]HuggingFace_MNLI_CustomProject.ipynb",
      "provenance": [],
      "collapsed_sections": [],
      "machine_shape": "hm",
      "toc_visible": true
    },
    "kernelspec": {
      "name": "python3",
      "display_name": "Python 3"
    },
    "language_info": {
      "name": "python"
    },
    "accelerator": "GPU",
    "gpuClass": "standard",
    "widgets": {
      "application/vnd.jupyter.widget-state+json": {
        "c5841ed6fda74347a5183794d3b1959a": {
          "model_module": "@jupyter-widgets/controls",
          "model_name": "HBoxModel",
          "model_module_version": "1.5.0",
          "state": {
            "_dom_classes": [],
            "_model_module": "@jupyter-widgets/controls",
            "_model_module_version": "1.5.0",
            "_model_name": "HBoxModel",
            "_view_count": null,
            "_view_module": "@jupyter-widgets/controls",
            "_view_module_version": "1.5.0",
            "_view_name": "HBoxView",
            "box_style": "",
            "children": [
              "IPY_MODEL_d308088b34554da9ad715648b384e2c7",
              "IPY_MODEL_f517c24d3777498985a7252991cca9e2",
              "IPY_MODEL_490df62fdf0f4f59ae1df1d594649cce"
            ],
            "layout": "IPY_MODEL_64b3295318fa4ca6b7ad54675d318a22"
          }
        },
        "d308088b34554da9ad715648b384e2c7": {
          "model_module": "@jupyter-widgets/controls",
          "model_name": "HTMLModel",
          "model_module_version": "1.5.0",
          "state": {
            "_dom_classes": [],
            "_model_module": "@jupyter-widgets/controls",
            "_model_module_version": "1.5.0",
            "_model_name": "HTMLModel",
            "_view_count": null,
            "_view_module": "@jupyter-widgets/controls",
            "_view_module_version": "1.5.0",
            "_view_name": "HTMLView",
            "description": "",
            "description_tooltip": null,
            "layout": "IPY_MODEL_2eff3554e4a54487ba94de010aaacd04",
            "placeholder": "​",
            "style": "IPY_MODEL_2ae680ee486f4d40aeaf6a8d99f28531",
            "value": "100%"
          }
        },
        "f517c24d3777498985a7252991cca9e2": {
          "model_module": "@jupyter-widgets/controls",
          "model_name": "FloatProgressModel",
          "model_module_version": "1.5.0",
          "state": {
            "_dom_classes": [],
            "_model_module": "@jupyter-widgets/controls",
            "_model_module_version": "1.5.0",
            "_model_name": "FloatProgressModel",
            "_view_count": null,
            "_view_module": "@jupyter-widgets/controls",
            "_view_module_version": "1.5.0",
            "_view_name": "ProgressView",
            "bar_style": "success",
            "description": "",
            "description_tooltip": null,
            "layout": "IPY_MODEL_3d0206f8c334448598cdb025563ffb52",
            "max": 20,
            "min": 0,
            "orientation": "horizontal",
            "style": "IPY_MODEL_6976b7ba51b940debf862ddcd15f20a9",
            "value": 20
          }
        },
        "490df62fdf0f4f59ae1df1d594649cce": {
          "model_module": "@jupyter-widgets/controls",
          "model_name": "HTMLModel",
          "model_module_version": "1.5.0",
          "state": {
            "_dom_classes": [],
            "_model_module": "@jupyter-widgets/controls",
            "_model_module_version": "1.5.0",
            "_model_name": "HTMLModel",
            "_view_count": null,
            "_view_module": "@jupyter-widgets/controls",
            "_view_module_version": "1.5.0",
            "_view_name": "HTMLView",
            "description": "",
            "description_tooltip": null,
            "layout": "IPY_MODEL_cc69f18d021248838f381811dcd0df3f",
            "placeholder": "​",
            "style": "IPY_MODEL_88e88b7199f24f30a21160294c71e36b",
            "value": " 20/20 [00:10&lt;00:00,  1.90it/s]"
          }
        },
        "64b3295318fa4ca6b7ad54675d318a22": {
          "model_module": "@jupyter-widgets/base",
          "model_name": "LayoutModel",
          "model_module_version": "1.2.0",
          "state": {
            "_model_module": "@jupyter-widgets/base",
            "_model_module_version": "1.2.0",
            "_model_name": "LayoutModel",
            "_view_count": null,
            "_view_module": "@jupyter-widgets/base",
            "_view_module_version": "1.2.0",
            "_view_name": "LayoutView",
            "align_content": null,
            "align_items": null,
            "align_self": null,
            "border": null,
            "bottom": null,
            "display": null,
            "flex": null,
            "flex_flow": null,
            "grid_area": null,
            "grid_auto_columns": null,
            "grid_auto_flow": null,
            "grid_auto_rows": null,
            "grid_column": null,
            "grid_gap": null,
            "grid_row": null,
            "grid_template_areas": null,
            "grid_template_columns": null,
            "grid_template_rows": null,
            "height": null,
            "justify_content": null,
            "justify_items": null,
            "left": null,
            "margin": null,
            "max_height": null,
            "max_width": null,
            "min_height": null,
            "min_width": null,
            "object_fit": null,
            "object_position": null,
            "order": null,
            "overflow": null,
            "overflow_x": null,
            "overflow_y": null,
            "padding": null,
            "right": null,
            "top": null,
            "visibility": null,
            "width": null
          }
        },
        "2eff3554e4a54487ba94de010aaacd04": {
          "model_module": "@jupyter-widgets/base",
          "model_name": "LayoutModel",
          "model_module_version": "1.2.0",
          "state": {
            "_model_module": "@jupyter-widgets/base",
            "_model_module_version": "1.2.0",
            "_model_name": "LayoutModel",
            "_view_count": null,
            "_view_module": "@jupyter-widgets/base",
            "_view_module_version": "1.2.0",
            "_view_name": "LayoutView",
            "align_content": null,
            "align_items": null,
            "align_self": null,
            "border": null,
            "bottom": null,
            "display": null,
            "flex": null,
            "flex_flow": null,
            "grid_area": null,
            "grid_auto_columns": null,
            "grid_auto_flow": null,
            "grid_auto_rows": null,
            "grid_column": null,
            "grid_gap": null,
            "grid_row": null,
            "grid_template_areas": null,
            "grid_template_columns": null,
            "grid_template_rows": null,
            "height": null,
            "justify_content": null,
            "justify_items": null,
            "left": null,
            "margin": null,
            "max_height": null,
            "max_width": null,
            "min_height": null,
            "min_width": null,
            "object_fit": null,
            "object_position": null,
            "order": null,
            "overflow": null,
            "overflow_x": null,
            "overflow_y": null,
            "padding": null,
            "right": null,
            "top": null,
            "visibility": null,
            "width": null
          }
        },
        "2ae680ee486f4d40aeaf6a8d99f28531": {
          "model_module": "@jupyter-widgets/controls",
          "model_name": "DescriptionStyleModel",
          "model_module_version": "1.5.0",
          "state": {
            "_model_module": "@jupyter-widgets/controls",
            "_model_module_version": "1.5.0",
            "_model_name": "DescriptionStyleModel",
            "_view_count": null,
            "_view_module": "@jupyter-widgets/base",
            "_view_module_version": "1.2.0",
            "_view_name": "StyleView",
            "description_width": ""
          }
        },
        "3d0206f8c334448598cdb025563ffb52": {
          "model_module": "@jupyter-widgets/base",
          "model_name": "LayoutModel",
          "model_module_version": "1.2.0",
          "state": {
            "_model_module": "@jupyter-widgets/base",
            "_model_module_version": "1.2.0",
            "_model_name": "LayoutModel",
            "_view_count": null,
            "_view_module": "@jupyter-widgets/base",
            "_view_module_version": "1.2.0",
            "_view_name": "LayoutView",
            "align_content": null,
            "align_items": null,
            "align_self": null,
            "border": null,
            "bottom": null,
            "display": null,
            "flex": null,
            "flex_flow": null,
            "grid_area": null,
            "grid_auto_columns": null,
            "grid_auto_flow": null,
            "grid_auto_rows": null,
            "grid_column": null,
            "grid_gap": null,
            "grid_row": null,
            "grid_template_areas": null,
            "grid_template_columns": null,
            "grid_template_rows": null,
            "height": null,
            "justify_content": null,
            "justify_items": null,
            "left": null,
            "margin": null,
            "max_height": null,
            "max_width": null,
            "min_height": null,
            "min_width": null,
            "object_fit": null,
            "object_position": null,
            "order": null,
            "overflow": null,
            "overflow_x": null,
            "overflow_y": null,
            "padding": null,
            "right": null,
            "top": null,
            "visibility": null,
            "width": null
          }
        },
        "6976b7ba51b940debf862ddcd15f20a9": {
          "model_module": "@jupyter-widgets/controls",
          "model_name": "ProgressStyleModel",
          "model_module_version": "1.5.0",
          "state": {
            "_model_module": "@jupyter-widgets/controls",
            "_model_module_version": "1.5.0",
            "_model_name": "ProgressStyleModel",
            "_view_count": null,
            "_view_module": "@jupyter-widgets/base",
            "_view_module_version": "1.2.0",
            "_view_name": "StyleView",
            "bar_color": null,
            "description_width": ""
          }
        },
        "cc69f18d021248838f381811dcd0df3f": {
          "model_module": "@jupyter-widgets/base",
          "model_name": "LayoutModel",
          "model_module_version": "1.2.0",
          "state": {
            "_model_module": "@jupyter-widgets/base",
            "_model_module_version": "1.2.0",
            "_model_name": "LayoutModel",
            "_view_count": null,
            "_view_module": "@jupyter-widgets/base",
            "_view_module_version": "1.2.0",
            "_view_name": "LayoutView",
            "align_content": null,
            "align_items": null,
            "align_self": null,
            "border": null,
            "bottom": null,
            "display": null,
            "flex": null,
            "flex_flow": null,
            "grid_area": null,
            "grid_auto_columns": null,
            "grid_auto_flow": null,
            "grid_auto_rows": null,
            "grid_column": null,
            "grid_gap": null,
            "grid_row": null,
            "grid_template_areas": null,
            "grid_template_columns": null,
            "grid_template_rows": null,
            "height": null,
            "justify_content": null,
            "justify_items": null,
            "left": null,
            "margin": null,
            "max_height": null,
            "max_width": null,
            "min_height": null,
            "min_width": null,
            "object_fit": null,
            "object_position": null,
            "order": null,
            "overflow": null,
            "overflow_x": null,
            "overflow_y": null,
            "padding": null,
            "right": null,
            "top": null,
            "visibility": null,
            "width": null
          }
        },
        "88e88b7199f24f30a21160294c71e36b": {
          "model_module": "@jupyter-widgets/controls",
          "model_name": "DescriptionStyleModel",
          "model_module_version": "1.5.0",
          "state": {
            "_model_module": "@jupyter-widgets/controls",
            "_model_module_version": "1.5.0",
            "_model_name": "DescriptionStyleModel",
            "_view_count": null,
            "_view_module": "@jupyter-widgets/base",
            "_view_module_version": "1.2.0",
            "_view_name": "StyleView",
            "description_width": ""
          }
        },
        "d9133ae31b3243c88d3369252f3df7fd": {
          "model_module": "@jupyter-widgets/controls",
          "model_name": "HBoxModel",
          "model_module_version": "1.5.0",
          "state": {
            "_dom_classes": [],
            "_model_module": "@jupyter-widgets/controls",
            "_model_module_version": "1.5.0",
            "_model_name": "HBoxModel",
            "_view_count": null,
            "_view_module": "@jupyter-widgets/controls",
            "_view_module_version": "1.5.0",
            "_view_name": "HBoxView",
            "box_style": "",
            "children": [
              "IPY_MODEL_65dd4cdf45574124a6c5b72a35203eef",
              "IPY_MODEL_8999ab9aca474b7e8f42a20a90c71b5f",
              "IPY_MODEL_153c0bf835824f06a6e3537bb6510c50"
            ],
            "layout": "IPY_MODEL_609796745eb04143bd00834f3ecc3d06"
          }
        },
        "65dd4cdf45574124a6c5b72a35203eef": {
          "model_module": "@jupyter-widgets/controls",
          "model_name": "HTMLModel",
          "model_module_version": "1.5.0",
          "state": {
            "_dom_classes": [],
            "_model_module": "@jupyter-widgets/controls",
            "_model_module_version": "1.5.0",
            "_model_name": "HTMLModel",
            "_view_count": null,
            "_view_module": "@jupyter-widgets/controls",
            "_view_module_version": "1.5.0",
            "_view_name": "HTMLView",
            "description": "",
            "description_tooltip": null,
            "layout": "IPY_MODEL_73f0bb55d2f4494aad37ce24244ee42e",
            "placeholder": "​",
            "style": "IPY_MODEL_32062185de654b53b40e52a94f8a46ff",
            "value": "100%"
          }
        },
        "8999ab9aca474b7e8f42a20a90c71b5f": {
          "model_module": "@jupyter-widgets/controls",
          "model_name": "FloatProgressModel",
          "model_module_version": "1.5.0",
          "state": {
            "_dom_classes": [],
            "_model_module": "@jupyter-widgets/controls",
            "_model_module_version": "1.5.0",
            "_model_name": "FloatProgressModel",
            "_view_count": null,
            "_view_module": "@jupyter-widgets/controls",
            "_view_module_version": "1.5.0",
            "_view_name": "ProgressView",
            "bar_style": "success",
            "description": "",
            "description_tooltip": null,
            "layout": "IPY_MODEL_7be575ee2d024d5b992714f94f718ba5",
            "max": 3704,
            "min": 0,
            "orientation": "horizontal",
            "style": "IPY_MODEL_c00207f2ba0e4d6ba2ca9ee127b1ae6c",
            "value": 3704
          }
        },
        "153c0bf835824f06a6e3537bb6510c50": {
          "model_module": "@jupyter-widgets/controls",
          "model_name": "HTMLModel",
          "model_module_version": "1.5.0",
          "state": {
            "_dom_classes": [],
            "_model_module": "@jupyter-widgets/controls",
            "_model_module_version": "1.5.0",
            "_model_name": "HTMLModel",
            "_view_count": null,
            "_view_module": "@jupyter-widgets/controls",
            "_view_module_version": "1.5.0",
            "_view_name": "HTMLView",
            "description": "",
            "description_tooltip": null,
            "layout": "IPY_MODEL_2c54f7eab4be475ba97a70cd7ca90af1",
            "placeholder": "​",
            "style": "IPY_MODEL_8ede3bddf43e4ab89e3b50c1eefaf82e",
            "value": " 3704/3704 [03:11&lt;00:00, 34.80it/s]"
          }
        },
        "609796745eb04143bd00834f3ecc3d06": {
          "model_module": "@jupyter-widgets/base",
          "model_name": "LayoutModel",
          "model_module_version": "1.2.0",
          "state": {
            "_model_module": "@jupyter-widgets/base",
            "_model_module_version": "1.2.0",
            "_model_name": "LayoutModel",
            "_view_count": null,
            "_view_module": "@jupyter-widgets/base",
            "_view_module_version": "1.2.0",
            "_view_name": "LayoutView",
            "align_content": null,
            "align_items": null,
            "align_self": null,
            "border": null,
            "bottom": null,
            "display": null,
            "flex": null,
            "flex_flow": null,
            "grid_area": null,
            "grid_auto_columns": null,
            "grid_auto_flow": null,
            "grid_auto_rows": null,
            "grid_column": null,
            "grid_gap": null,
            "grid_row": null,
            "grid_template_areas": null,
            "grid_template_columns": null,
            "grid_template_rows": null,
            "height": null,
            "justify_content": null,
            "justify_items": null,
            "left": null,
            "margin": null,
            "max_height": null,
            "max_width": null,
            "min_height": null,
            "min_width": null,
            "object_fit": null,
            "object_position": null,
            "order": null,
            "overflow": null,
            "overflow_x": null,
            "overflow_y": null,
            "padding": null,
            "right": null,
            "top": null,
            "visibility": null,
            "width": null
          }
        },
        "73f0bb55d2f4494aad37ce24244ee42e": {
          "model_module": "@jupyter-widgets/base",
          "model_name": "LayoutModel",
          "model_module_version": "1.2.0",
          "state": {
            "_model_module": "@jupyter-widgets/base",
            "_model_module_version": "1.2.0",
            "_model_name": "LayoutModel",
            "_view_count": null,
            "_view_module": "@jupyter-widgets/base",
            "_view_module_version": "1.2.0",
            "_view_name": "LayoutView",
            "align_content": null,
            "align_items": null,
            "align_self": null,
            "border": null,
            "bottom": null,
            "display": null,
            "flex": null,
            "flex_flow": null,
            "grid_area": null,
            "grid_auto_columns": null,
            "grid_auto_flow": null,
            "grid_auto_rows": null,
            "grid_column": null,
            "grid_gap": null,
            "grid_row": null,
            "grid_template_areas": null,
            "grid_template_columns": null,
            "grid_template_rows": null,
            "height": null,
            "justify_content": null,
            "justify_items": null,
            "left": null,
            "margin": null,
            "max_height": null,
            "max_width": null,
            "min_height": null,
            "min_width": null,
            "object_fit": null,
            "object_position": null,
            "order": null,
            "overflow": null,
            "overflow_x": null,
            "overflow_y": null,
            "padding": null,
            "right": null,
            "top": null,
            "visibility": null,
            "width": null
          }
        },
        "32062185de654b53b40e52a94f8a46ff": {
          "model_module": "@jupyter-widgets/controls",
          "model_name": "DescriptionStyleModel",
          "model_module_version": "1.5.0",
          "state": {
            "_model_module": "@jupyter-widgets/controls",
            "_model_module_version": "1.5.0",
            "_model_name": "DescriptionStyleModel",
            "_view_count": null,
            "_view_module": "@jupyter-widgets/base",
            "_view_module_version": "1.2.0",
            "_view_name": "StyleView",
            "description_width": ""
          }
        },
        "7be575ee2d024d5b992714f94f718ba5": {
          "model_module": "@jupyter-widgets/base",
          "model_name": "LayoutModel",
          "model_module_version": "1.2.0",
          "state": {
            "_model_module": "@jupyter-widgets/base",
            "_model_module_version": "1.2.0",
            "_model_name": "LayoutModel",
            "_view_count": null,
            "_view_module": "@jupyter-widgets/base",
            "_view_module_version": "1.2.0",
            "_view_name": "LayoutView",
            "align_content": null,
            "align_items": null,
            "align_self": null,
            "border": null,
            "bottom": null,
            "display": null,
            "flex": null,
            "flex_flow": null,
            "grid_area": null,
            "grid_auto_columns": null,
            "grid_auto_flow": null,
            "grid_auto_rows": null,
            "grid_column": null,
            "grid_gap": null,
            "grid_row": null,
            "grid_template_areas": null,
            "grid_template_columns": null,
            "grid_template_rows": null,
            "height": null,
            "justify_content": null,
            "justify_items": null,
            "left": null,
            "margin": null,
            "max_height": null,
            "max_width": null,
            "min_height": null,
            "min_width": null,
            "object_fit": null,
            "object_position": null,
            "order": null,
            "overflow": null,
            "overflow_x": null,
            "overflow_y": null,
            "padding": null,
            "right": null,
            "top": null,
            "visibility": null,
            "width": null
          }
        },
        "c00207f2ba0e4d6ba2ca9ee127b1ae6c": {
          "model_module": "@jupyter-widgets/controls",
          "model_name": "ProgressStyleModel",
          "model_module_version": "1.5.0",
          "state": {
            "_model_module": "@jupyter-widgets/controls",
            "_model_module_version": "1.5.0",
            "_model_name": "ProgressStyleModel",
            "_view_count": null,
            "_view_module": "@jupyter-widgets/base",
            "_view_module_version": "1.2.0",
            "_view_name": "StyleView",
            "bar_color": null,
            "description_width": ""
          }
        },
        "2c54f7eab4be475ba97a70cd7ca90af1": {
          "model_module": "@jupyter-widgets/base",
          "model_name": "LayoutModel",
          "model_module_version": "1.2.0",
          "state": {
            "_model_module": "@jupyter-widgets/base",
            "_model_module_version": "1.2.0",
            "_model_name": "LayoutModel",
            "_view_count": null,
            "_view_module": "@jupyter-widgets/base",
            "_view_module_version": "1.2.0",
            "_view_name": "LayoutView",
            "align_content": null,
            "align_items": null,
            "align_self": null,
            "border": null,
            "bottom": null,
            "display": null,
            "flex": null,
            "flex_flow": null,
            "grid_area": null,
            "grid_auto_columns": null,
            "grid_auto_flow": null,
            "grid_auto_rows": null,
            "grid_column": null,
            "grid_gap": null,
            "grid_row": null,
            "grid_template_areas": null,
            "grid_template_columns": null,
            "grid_template_rows": null,
            "height": null,
            "justify_content": null,
            "justify_items": null,
            "left": null,
            "margin": null,
            "max_height": null,
            "max_width": null,
            "min_height": null,
            "min_width": null,
            "object_fit": null,
            "object_position": null,
            "order": null,
            "overflow": null,
            "overflow_x": null,
            "overflow_y": null,
            "padding": null,
            "right": null,
            "top": null,
            "visibility": null,
            "width": null
          }
        },
        "8ede3bddf43e4ab89e3b50c1eefaf82e": {
          "model_module": "@jupyter-widgets/controls",
          "model_name": "DescriptionStyleModel",
          "model_module_version": "1.5.0",
          "state": {
            "_model_module": "@jupyter-widgets/controls",
            "_model_module_version": "1.5.0",
            "_model_name": "DescriptionStyleModel",
            "_view_count": null,
            "_view_module": "@jupyter-widgets/base",
            "_view_module_version": "1.2.0",
            "_view_name": "StyleView",
            "description_width": ""
          }
        },
        "c4bf57ded82640e786698549a7a7ad03": {
          "model_module": "@jupyter-widgets/controls",
          "model_name": "VBoxModel",
          "model_module_version": "1.5.0",
          "state": {
            "_dom_classes": [],
            "_model_module": "@jupyter-widgets/controls",
            "_model_module_version": "1.5.0",
            "_model_name": "VBoxModel",
            "_view_count": null,
            "_view_module": "@jupyter-widgets/controls",
            "_view_module_version": "1.5.0",
            "_view_name": "VBoxView",
            "box_style": "",
            "children": [
              "IPY_MODEL_41dd780324a34687a33a45b131c6e032",
              "IPY_MODEL_71073936e3054e54bf2f701bca84b544",
              "IPY_MODEL_ad4bee22a881402c817d972a8c9168f8",
              "IPY_MODEL_d6ba898d5d0a4f4f8397a6f86a4d5c0b"
            ],
            "layout": "IPY_MODEL_1af3186250de4cada86db16551f7c1b4"
          }
        },
        "41dd780324a34687a33a45b131c6e032": {
          "model_module": "@jupyter-widgets/controls",
          "model_name": "HTMLModel",
          "model_module_version": "1.5.0",
          "state": {
            "_dom_classes": [],
            "_model_module": "@jupyter-widgets/controls",
            "_model_module_version": "1.5.0",
            "_model_name": "HTMLModel",
            "_view_count": null,
            "_view_module": "@jupyter-widgets/controls",
            "_view_module_version": "1.5.0",
            "_view_name": "HTMLView",
            "description": "",
            "description_tooltip": null,
            "layout": "IPY_MODEL_660ce5b23e42417891e53ed99f6a7a18",
            "placeholder": "​",
            "style": "IPY_MODEL_369962a119024a6bae9d48f6e1e734d6",
            "value": "<center> <img\nsrc=https://huggingface.co/front/assets/huggingface_logo-noborder.svg\nalt='Hugging Face'> <br> Copy a token from <a\nhref=\"https://huggingface.co/settings/tokens\" target=\"_blank\">your Hugging Face\ntokens page</a> and paste it below. <br> Immediately click login after copying\nyour token or it might be stored in plain text in this notebook file. </center>"
          }
        },
        "71073936e3054e54bf2f701bca84b544": {
          "model_module": "@jupyter-widgets/controls",
          "model_name": "PasswordModel",
          "model_module_version": "1.5.0",
          "state": {
            "_dom_classes": [],
            "_model_module": "@jupyter-widgets/controls",
            "_model_module_version": "1.5.0",
            "_model_name": "PasswordModel",
            "_view_count": null,
            "_view_module": "@jupyter-widgets/controls",
            "_view_module_version": "1.5.0",
            "_view_name": "PasswordView",
            "continuous_update": true,
            "description": "Token:",
            "description_tooltip": null,
            "disabled": false,
            "layout": "IPY_MODEL_d0e58f898d034592a34a3e452e59e033",
            "placeholder": "​",
            "style": "IPY_MODEL_f9ffc9c505d340ca8b73d18445925ad8",
            "value": ""
          }
        },
        "ad4bee22a881402c817d972a8c9168f8": {
          "model_module": "@jupyter-widgets/controls",
          "model_name": "ButtonModel",
          "model_module_version": "1.5.0",
          "state": {
            "_dom_classes": [],
            "_model_module": "@jupyter-widgets/controls",
            "_model_module_version": "1.5.0",
            "_model_name": "ButtonModel",
            "_view_count": null,
            "_view_module": "@jupyter-widgets/controls",
            "_view_module_version": "1.5.0",
            "_view_name": "ButtonView",
            "button_style": "",
            "description": "Login",
            "disabled": false,
            "icon": "",
            "layout": "IPY_MODEL_0be245765ba14081af2216edeb7509e9",
            "style": "IPY_MODEL_d7162485ae664876a0223d15c205ad2d",
            "tooltip": ""
          }
        },
        "d6ba898d5d0a4f4f8397a6f86a4d5c0b": {
          "model_module": "@jupyter-widgets/controls",
          "model_name": "HTMLModel",
          "model_module_version": "1.5.0",
          "state": {
            "_dom_classes": [],
            "_model_module": "@jupyter-widgets/controls",
            "_model_module_version": "1.5.0",
            "_model_name": "HTMLModel",
            "_view_count": null,
            "_view_module": "@jupyter-widgets/controls",
            "_view_module_version": "1.5.0",
            "_view_name": "HTMLView",
            "description": "",
            "description_tooltip": null,
            "layout": "IPY_MODEL_108f4e016289415fb1efc19fe3861906",
            "placeholder": "​",
            "style": "IPY_MODEL_5a08bb05544e4e4bb8fcb52137b117e5",
            "value": "\n<b>Pro Tip:</b> If you don't already have one, you can create a dedicated\n'notebooks' token with 'write' access, that you can then easily reuse for all\nnotebooks. </center>"
          }
        },
        "1af3186250de4cada86db16551f7c1b4": {
          "model_module": "@jupyter-widgets/base",
          "model_name": "LayoutModel",
          "model_module_version": "1.2.0",
          "state": {
            "_model_module": "@jupyter-widgets/base",
            "_model_module_version": "1.2.0",
            "_model_name": "LayoutModel",
            "_view_count": null,
            "_view_module": "@jupyter-widgets/base",
            "_view_module_version": "1.2.0",
            "_view_name": "LayoutView",
            "align_content": null,
            "align_items": "center",
            "align_self": null,
            "border": null,
            "bottom": null,
            "display": "flex",
            "flex": null,
            "flex_flow": "column",
            "grid_area": null,
            "grid_auto_columns": null,
            "grid_auto_flow": null,
            "grid_auto_rows": null,
            "grid_column": null,
            "grid_gap": null,
            "grid_row": null,
            "grid_template_areas": null,
            "grid_template_columns": null,
            "grid_template_rows": null,
            "height": null,
            "justify_content": null,
            "justify_items": null,
            "left": null,
            "margin": null,
            "max_height": null,
            "max_width": null,
            "min_height": null,
            "min_width": null,
            "object_fit": null,
            "object_position": null,
            "order": null,
            "overflow": null,
            "overflow_x": null,
            "overflow_y": null,
            "padding": null,
            "right": null,
            "top": null,
            "visibility": null,
            "width": "50%"
          }
        },
        "660ce5b23e42417891e53ed99f6a7a18": {
          "model_module": "@jupyter-widgets/base",
          "model_name": "LayoutModel",
          "model_module_version": "1.2.0",
          "state": {
            "_model_module": "@jupyter-widgets/base",
            "_model_module_version": "1.2.0",
            "_model_name": "LayoutModel",
            "_view_count": null,
            "_view_module": "@jupyter-widgets/base",
            "_view_module_version": "1.2.0",
            "_view_name": "LayoutView",
            "align_content": null,
            "align_items": null,
            "align_self": null,
            "border": null,
            "bottom": null,
            "display": null,
            "flex": null,
            "flex_flow": null,
            "grid_area": null,
            "grid_auto_columns": null,
            "grid_auto_flow": null,
            "grid_auto_rows": null,
            "grid_column": null,
            "grid_gap": null,
            "grid_row": null,
            "grid_template_areas": null,
            "grid_template_columns": null,
            "grid_template_rows": null,
            "height": null,
            "justify_content": null,
            "justify_items": null,
            "left": null,
            "margin": null,
            "max_height": null,
            "max_width": null,
            "min_height": null,
            "min_width": null,
            "object_fit": null,
            "object_position": null,
            "order": null,
            "overflow": null,
            "overflow_x": null,
            "overflow_y": null,
            "padding": null,
            "right": null,
            "top": null,
            "visibility": null,
            "width": null
          }
        },
        "369962a119024a6bae9d48f6e1e734d6": {
          "model_module": "@jupyter-widgets/controls",
          "model_name": "DescriptionStyleModel",
          "model_module_version": "1.5.0",
          "state": {
            "_model_module": "@jupyter-widgets/controls",
            "_model_module_version": "1.5.0",
            "_model_name": "DescriptionStyleModel",
            "_view_count": null,
            "_view_module": "@jupyter-widgets/base",
            "_view_module_version": "1.2.0",
            "_view_name": "StyleView",
            "description_width": ""
          }
        },
        "d0e58f898d034592a34a3e452e59e033": {
          "model_module": "@jupyter-widgets/base",
          "model_name": "LayoutModel",
          "model_module_version": "1.2.0",
          "state": {
            "_model_module": "@jupyter-widgets/base",
            "_model_module_version": "1.2.0",
            "_model_name": "LayoutModel",
            "_view_count": null,
            "_view_module": "@jupyter-widgets/base",
            "_view_module_version": "1.2.0",
            "_view_name": "LayoutView",
            "align_content": null,
            "align_items": null,
            "align_self": null,
            "border": null,
            "bottom": null,
            "display": null,
            "flex": null,
            "flex_flow": null,
            "grid_area": null,
            "grid_auto_columns": null,
            "grid_auto_flow": null,
            "grid_auto_rows": null,
            "grid_column": null,
            "grid_gap": null,
            "grid_row": null,
            "grid_template_areas": null,
            "grid_template_columns": null,
            "grid_template_rows": null,
            "height": null,
            "justify_content": null,
            "justify_items": null,
            "left": null,
            "margin": null,
            "max_height": null,
            "max_width": null,
            "min_height": null,
            "min_width": null,
            "object_fit": null,
            "object_position": null,
            "order": null,
            "overflow": null,
            "overflow_x": null,
            "overflow_y": null,
            "padding": null,
            "right": null,
            "top": null,
            "visibility": null,
            "width": null
          }
        },
        "f9ffc9c505d340ca8b73d18445925ad8": {
          "model_module": "@jupyter-widgets/controls",
          "model_name": "DescriptionStyleModel",
          "model_module_version": "1.5.0",
          "state": {
            "_model_module": "@jupyter-widgets/controls",
            "_model_module_version": "1.5.0",
            "_model_name": "DescriptionStyleModel",
            "_view_count": null,
            "_view_module": "@jupyter-widgets/base",
            "_view_module_version": "1.2.0",
            "_view_name": "StyleView",
            "description_width": ""
          }
        },
        "0be245765ba14081af2216edeb7509e9": {
          "model_module": "@jupyter-widgets/base",
          "model_name": "LayoutModel",
          "model_module_version": "1.2.0",
          "state": {
            "_model_module": "@jupyter-widgets/base",
            "_model_module_version": "1.2.0",
            "_model_name": "LayoutModel",
            "_view_count": null,
            "_view_module": "@jupyter-widgets/base",
            "_view_module_version": "1.2.0",
            "_view_name": "LayoutView",
            "align_content": null,
            "align_items": null,
            "align_self": null,
            "border": null,
            "bottom": null,
            "display": null,
            "flex": null,
            "flex_flow": null,
            "grid_area": null,
            "grid_auto_columns": null,
            "grid_auto_flow": null,
            "grid_auto_rows": null,
            "grid_column": null,
            "grid_gap": null,
            "grid_row": null,
            "grid_template_areas": null,
            "grid_template_columns": null,
            "grid_template_rows": null,
            "height": null,
            "justify_content": null,
            "justify_items": null,
            "left": null,
            "margin": null,
            "max_height": null,
            "max_width": null,
            "min_height": null,
            "min_width": null,
            "object_fit": null,
            "object_position": null,
            "order": null,
            "overflow": null,
            "overflow_x": null,
            "overflow_y": null,
            "padding": null,
            "right": null,
            "top": null,
            "visibility": null,
            "width": null
          }
        },
        "d7162485ae664876a0223d15c205ad2d": {
          "model_module": "@jupyter-widgets/controls",
          "model_name": "ButtonStyleModel",
          "model_module_version": "1.5.0",
          "state": {
            "_model_module": "@jupyter-widgets/controls",
            "_model_module_version": "1.5.0",
            "_model_name": "ButtonStyleModel",
            "_view_count": null,
            "_view_module": "@jupyter-widgets/base",
            "_view_module_version": "1.2.0",
            "_view_name": "StyleView",
            "button_color": null,
            "font_weight": ""
          }
        },
        "108f4e016289415fb1efc19fe3861906": {
          "model_module": "@jupyter-widgets/base",
          "model_name": "LayoutModel",
          "model_module_version": "1.2.0",
          "state": {
            "_model_module": "@jupyter-widgets/base",
            "_model_module_version": "1.2.0",
            "_model_name": "LayoutModel",
            "_view_count": null,
            "_view_module": "@jupyter-widgets/base",
            "_view_module_version": "1.2.0",
            "_view_name": "LayoutView",
            "align_content": null,
            "align_items": null,
            "align_self": null,
            "border": null,
            "bottom": null,
            "display": null,
            "flex": null,
            "flex_flow": null,
            "grid_area": null,
            "grid_auto_columns": null,
            "grid_auto_flow": null,
            "grid_auto_rows": null,
            "grid_column": null,
            "grid_gap": null,
            "grid_row": null,
            "grid_template_areas": null,
            "grid_template_columns": null,
            "grid_template_rows": null,
            "height": null,
            "justify_content": null,
            "justify_items": null,
            "left": null,
            "margin": null,
            "max_height": null,
            "max_width": null,
            "min_height": null,
            "min_width": null,
            "object_fit": null,
            "object_position": null,
            "order": null,
            "overflow": null,
            "overflow_x": null,
            "overflow_y": null,
            "padding": null,
            "right": null,
            "top": null,
            "visibility": null,
            "width": null
          }
        },
        "5a08bb05544e4e4bb8fcb52137b117e5": {
          "model_module": "@jupyter-widgets/controls",
          "model_name": "DescriptionStyleModel",
          "model_module_version": "1.5.0",
          "state": {
            "_model_module": "@jupyter-widgets/controls",
            "_model_module_version": "1.5.0",
            "_model_name": "DescriptionStyleModel",
            "_view_count": null,
            "_view_module": "@jupyter-widgets/base",
            "_view_module_version": "1.2.0",
            "_view_name": "StyleView",
            "description_width": ""
          }
        },
        "00fc504a2576439d8bd8e4f8192dc921": {
          "model_module": "@jupyter-widgets/controls",
          "model_name": "VBoxModel",
          "model_module_version": "1.5.0",
          "state": {
            "_dom_classes": [],
            "_model_module": "@jupyter-widgets/controls",
            "_model_module_version": "1.5.0",
            "_model_name": "VBoxModel",
            "_view_count": null,
            "_view_module": "@jupyter-widgets/controls",
            "_view_module_version": "1.5.0",
            "_view_name": "VBoxView",
            "box_style": "",
            "children": [
              "IPY_MODEL_13047093341749ffbaf0e92c8118aabb",
              "IPY_MODEL_7d09ce942108450286004f5c99a68194",
              "IPY_MODEL_3175f0ad3bdd4e938589185320f06f72",
              "IPY_MODEL_e4a22732946c41b499d20299278c6472"
            ],
            "layout": "IPY_MODEL_1d197182532e47d89c5980c47d2e43d5"
          }
        },
        "13047093341749ffbaf0e92c8118aabb": {
          "model_module": "@jupyter-widgets/controls",
          "model_name": "HTMLModel",
          "model_module_version": "1.5.0",
          "state": {
            "_dom_classes": [],
            "_model_module": "@jupyter-widgets/controls",
            "_model_module_version": "1.5.0",
            "_model_name": "HTMLModel",
            "_view_count": null,
            "_view_module": "@jupyter-widgets/controls",
            "_view_module_version": "1.5.0",
            "_view_name": "HTMLView",
            "description": "",
            "description_tooltip": null,
            "layout": "IPY_MODEL_181e37b7d9134e4e98e4b6e4adca1c33",
            "placeholder": "​",
            "style": "IPY_MODEL_9ebae322e91e4ca294efef8b7a89ebcd",
            "value": "<center> <img\nsrc=https://huggingface.co/front/assets/huggingface_logo-noborder.svg\nalt='Hugging Face'> <br> Copy a token from <a\nhref=\"https://huggingface.co/settings/tokens\" target=\"_blank\">your Hugging Face\ntokens page</a> and paste it below. <br> Immediately click login after copying\nyour token or it might be stored in plain text in this notebook file. </center>"
          }
        },
        "7d09ce942108450286004f5c99a68194": {
          "model_module": "@jupyter-widgets/controls",
          "model_name": "PasswordModel",
          "model_module_version": "1.5.0",
          "state": {
            "_dom_classes": [],
            "_model_module": "@jupyter-widgets/controls",
            "_model_module_version": "1.5.0",
            "_model_name": "PasswordModel",
            "_view_count": null,
            "_view_module": "@jupyter-widgets/controls",
            "_view_module_version": "1.5.0",
            "_view_name": "PasswordView",
            "continuous_update": true,
            "description": "Token:",
            "description_tooltip": null,
            "disabled": false,
            "layout": "IPY_MODEL_fdf312b8cd2d402cbd8dd4c12138ef2e",
            "placeholder": "​",
            "style": "IPY_MODEL_7eaaab1b38e443cbb89b2d8c64f6e557",
            "value": ""
          }
        },
        "3175f0ad3bdd4e938589185320f06f72": {
          "model_module": "@jupyter-widgets/controls",
          "model_name": "ButtonModel",
          "model_module_version": "1.5.0",
          "state": {
            "_dom_classes": [],
            "_model_module": "@jupyter-widgets/controls",
            "_model_module_version": "1.5.0",
            "_model_name": "ButtonModel",
            "_view_count": null,
            "_view_module": "@jupyter-widgets/controls",
            "_view_module_version": "1.5.0",
            "_view_name": "ButtonView",
            "button_style": "",
            "description": "Login",
            "disabled": false,
            "icon": "",
            "layout": "IPY_MODEL_aea1a6a889834c77b274a777d288b835",
            "style": "IPY_MODEL_8b129bd3a1754e4483541aba7bb5b1e5",
            "tooltip": ""
          }
        },
        "e4a22732946c41b499d20299278c6472": {
          "model_module": "@jupyter-widgets/controls",
          "model_name": "HTMLModel",
          "model_module_version": "1.5.0",
          "state": {
            "_dom_classes": [],
            "_model_module": "@jupyter-widgets/controls",
            "_model_module_version": "1.5.0",
            "_model_name": "HTMLModel",
            "_view_count": null,
            "_view_module": "@jupyter-widgets/controls",
            "_view_module_version": "1.5.0",
            "_view_name": "HTMLView",
            "description": "",
            "description_tooltip": null,
            "layout": "IPY_MODEL_554a642853b94b25909bf11c0d3a2347",
            "placeholder": "​",
            "style": "IPY_MODEL_15744b4f49db487b89710335c16bac36",
            "value": "\n<b>Pro Tip:</b> If you don't already have one, you can create a dedicated\n'notebooks' token with 'write' access, that you can then easily reuse for all\nnotebooks. </center>"
          }
        },
        "1d197182532e47d89c5980c47d2e43d5": {
          "model_module": "@jupyter-widgets/base",
          "model_name": "LayoutModel",
          "model_module_version": "1.2.0",
          "state": {
            "_model_module": "@jupyter-widgets/base",
            "_model_module_version": "1.2.0",
            "_model_name": "LayoutModel",
            "_view_count": null,
            "_view_module": "@jupyter-widgets/base",
            "_view_module_version": "1.2.0",
            "_view_name": "LayoutView",
            "align_content": null,
            "align_items": "center",
            "align_self": null,
            "border": null,
            "bottom": null,
            "display": "flex",
            "flex": null,
            "flex_flow": "column",
            "grid_area": null,
            "grid_auto_columns": null,
            "grid_auto_flow": null,
            "grid_auto_rows": null,
            "grid_column": null,
            "grid_gap": null,
            "grid_row": null,
            "grid_template_areas": null,
            "grid_template_columns": null,
            "grid_template_rows": null,
            "height": null,
            "justify_content": null,
            "justify_items": null,
            "left": null,
            "margin": null,
            "max_height": null,
            "max_width": null,
            "min_height": null,
            "min_width": null,
            "object_fit": null,
            "object_position": null,
            "order": null,
            "overflow": null,
            "overflow_x": null,
            "overflow_y": null,
            "padding": null,
            "right": null,
            "top": null,
            "visibility": null,
            "width": "50%"
          }
        },
        "181e37b7d9134e4e98e4b6e4adca1c33": {
          "model_module": "@jupyter-widgets/base",
          "model_name": "LayoutModel",
          "model_module_version": "1.2.0",
          "state": {
            "_model_module": "@jupyter-widgets/base",
            "_model_module_version": "1.2.0",
            "_model_name": "LayoutModel",
            "_view_count": null,
            "_view_module": "@jupyter-widgets/base",
            "_view_module_version": "1.2.0",
            "_view_name": "LayoutView",
            "align_content": null,
            "align_items": null,
            "align_self": null,
            "border": null,
            "bottom": null,
            "display": null,
            "flex": null,
            "flex_flow": null,
            "grid_area": null,
            "grid_auto_columns": null,
            "grid_auto_flow": null,
            "grid_auto_rows": null,
            "grid_column": null,
            "grid_gap": null,
            "grid_row": null,
            "grid_template_areas": null,
            "grid_template_columns": null,
            "grid_template_rows": null,
            "height": null,
            "justify_content": null,
            "justify_items": null,
            "left": null,
            "margin": null,
            "max_height": null,
            "max_width": null,
            "min_height": null,
            "min_width": null,
            "object_fit": null,
            "object_position": null,
            "order": null,
            "overflow": null,
            "overflow_x": null,
            "overflow_y": null,
            "padding": null,
            "right": null,
            "top": null,
            "visibility": null,
            "width": null
          }
        },
        "9ebae322e91e4ca294efef8b7a89ebcd": {
          "model_module": "@jupyter-widgets/controls",
          "model_name": "DescriptionStyleModel",
          "model_module_version": "1.5.0",
          "state": {
            "_model_module": "@jupyter-widgets/controls",
            "_model_module_version": "1.5.0",
            "_model_name": "DescriptionStyleModel",
            "_view_count": null,
            "_view_module": "@jupyter-widgets/base",
            "_view_module_version": "1.2.0",
            "_view_name": "StyleView",
            "description_width": ""
          }
        },
        "fdf312b8cd2d402cbd8dd4c12138ef2e": {
          "model_module": "@jupyter-widgets/base",
          "model_name": "LayoutModel",
          "model_module_version": "1.2.0",
          "state": {
            "_model_module": "@jupyter-widgets/base",
            "_model_module_version": "1.2.0",
            "_model_name": "LayoutModel",
            "_view_count": null,
            "_view_module": "@jupyter-widgets/base",
            "_view_module_version": "1.2.0",
            "_view_name": "LayoutView",
            "align_content": null,
            "align_items": null,
            "align_self": null,
            "border": null,
            "bottom": null,
            "display": null,
            "flex": null,
            "flex_flow": null,
            "grid_area": null,
            "grid_auto_columns": null,
            "grid_auto_flow": null,
            "grid_auto_rows": null,
            "grid_column": null,
            "grid_gap": null,
            "grid_row": null,
            "grid_template_areas": null,
            "grid_template_columns": null,
            "grid_template_rows": null,
            "height": null,
            "justify_content": null,
            "justify_items": null,
            "left": null,
            "margin": null,
            "max_height": null,
            "max_width": null,
            "min_height": null,
            "min_width": null,
            "object_fit": null,
            "object_position": null,
            "order": null,
            "overflow": null,
            "overflow_x": null,
            "overflow_y": null,
            "padding": null,
            "right": null,
            "top": null,
            "visibility": null,
            "width": null
          }
        },
        "7eaaab1b38e443cbb89b2d8c64f6e557": {
          "model_module": "@jupyter-widgets/controls",
          "model_name": "DescriptionStyleModel",
          "model_module_version": "1.5.0",
          "state": {
            "_model_module": "@jupyter-widgets/controls",
            "_model_module_version": "1.5.0",
            "_model_name": "DescriptionStyleModel",
            "_view_count": null,
            "_view_module": "@jupyter-widgets/base",
            "_view_module_version": "1.2.0",
            "_view_name": "StyleView",
            "description_width": ""
          }
        },
        "aea1a6a889834c77b274a777d288b835": {
          "model_module": "@jupyter-widgets/base",
          "model_name": "LayoutModel",
          "model_module_version": "1.2.0",
          "state": {
            "_model_module": "@jupyter-widgets/base",
            "_model_module_version": "1.2.0",
            "_model_name": "LayoutModel",
            "_view_count": null,
            "_view_module": "@jupyter-widgets/base",
            "_view_module_version": "1.2.0",
            "_view_name": "LayoutView",
            "align_content": null,
            "align_items": null,
            "align_self": null,
            "border": null,
            "bottom": null,
            "display": null,
            "flex": null,
            "flex_flow": null,
            "grid_area": null,
            "grid_auto_columns": null,
            "grid_auto_flow": null,
            "grid_auto_rows": null,
            "grid_column": null,
            "grid_gap": null,
            "grid_row": null,
            "grid_template_areas": null,
            "grid_template_columns": null,
            "grid_template_rows": null,
            "height": null,
            "justify_content": null,
            "justify_items": null,
            "left": null,
            "margin": null,
            "max_height": null,
            "max_width": null,
            "min_height": null,
            "min_width": null,
            "object_fit": null,
            "object_position": null,
            "order": null,
            "overflow": null,
            "overflow_x": null,
            "overflow_y": null,
            "padding": null,
            "right": null,
            "top": null,
            "visibility": null,
            "width": null
          }
        },
        "8b129bd3a1754e4483541aba7bb5b1e5": {
          "model_module": "@jupyter-widgets/controls",
          "model_name": "ButtonStyleModel",
          "model_module_version": "1.5.0",
          "state": {
            "_model_module": "@jupyter-widgets/controls",
            "_model_module_version": "1.5.0",
            "_model_name": "ButtonStyleModel",
            "_view_count": null,
            "_view_module": "@jupyter-widgets/base",
            "_view_module_version": "1.2.0",
            "_view_name": "StyleView",
            "button_color": null,
            "font_weight": ""
          }
        },
        "554a642853b94b25909bf11c0d3a2347": {
          "model_module": "@jupyter-widgets/base",
          "model_name": "LayoutModel",
          "model_module_version": "1.2.0",
          "state": {
            "_model_module": "@jupyter-widgets/base",
            "_model_module_version": "1.2.0",
            "_model_name": "LayoutModel",
            "_view_count": null,
            "_view_module": "@jupyter-widgets/base",
            "_view_module_version": "1.2.0",
            "_view_name": "LayoutView",
            "align_content": null,
            "align_items": null,
            "align_self": null,
            "border": null,
            "bottom": null,
            "display": null,
            "flex": null,
            "flex_flow": null,
            "grid_area": null,
            "grid_auto_columns": null,
            "grid_auto_flow": null,
            "grid_auto_rows": null,
            "grid_column": null,
            "grid_gap": null,
            "grid_row": null,
            "grid_template_areas": null,
            "grid_template_columns": null,
            "grid_template_rows": null,
            "height": null,
            "justify_content": null,
            "justify_items": null,
            "left": null,
            "margin": null,
            "max_height": null,
            "max_width": null,
            "min_height": null,
            "min_width": null,
            "object_fit": null,
            "object_position": null,
            "order": null,
            "overflow": null,
            "overflow_x": null,
            "overflow_y": null,
            "padding": null,
            "right": null,
            "top": null,
            "visibility": null,
            "width": null
          }
        },
        "15744b4f49db487b89710335c16bac36": {
          "model_module": "@jupyter-widgets/controls",
          "model_name": "DescriptionStyleModel",
          "model_module_version": "1.5.0",
          "state": {
            "_model_module": "@jupyter-widgets/controls",
            "_model_module_version": "1.5.0",
            "_model_name": "DescriptionStyleModel",
            "_view_count": null,
            "_view_module": "@jupyter-widgets/base",
            "_view_module_version": "1.2.0",
            "_view_name": "StyleView",
            "description_width": ""
          }
        }
      }
    }
  },
  "cells": [
    {
      "cell_type": "markdown",
      "source": [
        "##HuggingFace 커스텀 프로젝트 만들기"
      ],
      "metadata": {
        "id": "utIBHuY949tO"
      }
    },
    {
      "cell_type": "markdown",
      "source": [
        ""
      ],
      "metadata": {
        "id": "ZVIGFXXxCa6D"
      }
    },
    {
      "cell_type": "markdown",
      "source": [
        "HuggingFrace Framework\n",
        "<br/>Development Environment\n",
        "<br/>beomi/kcbert-base MLM Finetune\n",
        "<br/>bert-base-cased MRPC Finetune\n",
        "<br/>bert-base-uncased MRPC Finetune\n",
        "<br/>google/bert_uncased_L-12_H-768_A-12 MRPC Finetune\n",
        "<br/>Debugging"
      ],
      "metadata": {
        "id": "m8OFE7rG5K4u"
      }
    },
    {
      "cell_type": "markdown",
      "source": [
        "Transformer Pipeline\n",
        "<br/>Text generation\n",
        "<br/>Sentiment analysis\n",
        "<br/>Question Answering\n",
        "<br/>Text prediction\n",
        "<br/>Text Summarization\n",
        "<br/>Translation\n",
        "<br/>Zero-Shot Learning"
      ],
      "metadata": {
        "id": "zt_4waePcxRK"
      }
    },
    {
      "cell_type": "markdown",
      "source": [
        "HuggingFrace MNLI Custom Project\n",
        "<br/>facebook/bart-large\n",
        "<br/>google/electra-base-discriminator\n"
      ],
      "metadata": {
        "id": "zJlN_FMGcysV"
      }
    },
    {
      "cell_type": "markdown",
      "source": [
        "HuggingFrace MRPC Custom Project\n",
        "<br/>distilbert-base-uncased"
      ],
      "metadata": {
        "id": "j0DVn9t4ST8_"
      }
    },
    {
      "cell_type": "markdown",
      "source": [
        "Conclusion\n",
        "<br/>Reference"
      ],
      "metadata": {
        "id": "GbVMH9TiSgn9"
      }
    },
    {
      "cell_type": "markdown",
      "source": [
        ""
      ],
      "metadata": {
        "id": "6As6CrkL5LX8"
      }
    },
    {
      "cell_type": "markdown",
      "source": [
        "#HuggingFrace Framework"
      ],
      "metadata": {
        "id": "7xjWFThv5LaW"
      }
    },
    {
      "cell_type": "markdown",
      "source": [
        "##Development Environment"
      ],
      "metadata": {
        "id": "ScTbhJ8qWMXt"
      }
    },
    {
      "cell_type": "code",
      "source": [
        "import os\n",
        "import sys\n",
        "import json\n",
        "import warnings\n",
        "warnings.filterwarnings(\"ignore\")"
      ],
      "metadata": {
        "id": "pWAh3OF8Kk49"
      },
      "execution_count": 1,
      "outputs": []
    },
    {
      "cell_type": "code",
      "source": [
        "import pandas as pd\n",
        "from urllib import request\n",
        "from IPython.display import HTML\n",
        "from IPython.display import display"
      ],
      "metadata": {
        "id": "U3hVycswKxKN"
      },
      "execution_count": 2,
      "outputs": []
    },
    {
      "cell_type": "code",
      "source": [
        "from google.colab import drive\n",
        "drive.mount('/content/drive')"
      ],
      "metadata": {
        "id": "czrUAdAAaj01"
      },
      "execution_count": null,
      "outputs": []
    },
    {
      "cell_type": "code",
      "source": [
        "gpu_info = !nvidia-smi\n",
        "gpu_info = '\\n'.join(gpu_info)\n",
        "if gpu_info.find('failed') >= 0:\n",
        "  print('Not connected to a GPU')\n",
        "else:\n",
        "  print(gpu_info)"
      ],
      "metadata": {
        "id": "s533AUkpWEOW"
      },
      "execution_count": null,
      "outputs": []
    },
    {
      "cell_type": "code",
      "source": [
        "from psutil import virtual_memory\n",
        "ram_gb = virtual_memory().total / 1e9\n",
        "print('Your runtime has {:.1f} gigabytes of available RAM\\n'.format(ram_gb))\n",
        "\n",
        "if ram_gb < 20:\n",
        "  print('Not using a high-RAM runtime')\n",
        "else:\n",
        "  print('You are using a high-RAM runtime!')"
      ],
      "metadata": {
        "id": "N6-n5BYhWERO"
      },
      "execution_count": null,
      "outputs": []
    },
    {
      "cell_type": "markdown",
      "source": [
        "<br/>"
      ],
      "metadata": {
        "id": "WwvjTZw7d-Hj"
      }
    },
    {
      "cell_type": "markdown",
      "source": [
        "##beomi/kcbert-base MLM Finetune"
      ],
      "metadata": {
        "id": "jt9axT-oI5uH"
      }
    },
    {
      "cell_type": "markdown",
      "source": [
        "[Beomi/2021-03-15-kcbert-mlm-finetune-with-petition-dataset.ipynb](https://gist.github.com/Beomi/972c6442a9c15a22dfd1903d0bb0f577)"
      ],
      "metadata": {
        "id": "J5EhqsSpQil-"
      }
    },
    {
      "cell_type": "code",
      "source": [
        "cd drive/MyDrive/lms/huggingface_glue_task"
      ],
      "metadata": {
        "id": "p-ZenYWDdIFt"
      },
      "execution_count": null,
      "outputs": []
    },
    {
      "cell_type": "code",
      "source": [
        "pwd"
      ],
      "metadata": {
        "id": "9fBrBXhngnFA",
        "outputId": "d9fcbd22-6cdf-4086-fe6a-079887fbef54",
        "colab": {
          "base_uri": "https://localhost:8080/",
          "height": 35
        }
      },
      "execution_count": null,
      "outputs": [
        {
          "output_type": "execute_result",
          "data": {
            "text/plain": [
              "'/content/drive/MyDrive/lms/huggingface_glue_task'"
            ],
            "application/vnd.google.colaboratory.intrinsic+json": {
              "type": "string"
            }
          },
          "metadata": {},
          "execution_count": 24
        }
      ]
    },
    {
      "cell_type": "code",
      "source": [
        "!pip install -q Korpora soynlp \"kss<2.6\" transformers \"datasets >= 1.1.3\" \"sentencepiece != 0.1.92\" protobuf"
      ],
      "metadata": {
        "id": "njHQXu1LEL5f"
      },
      "execution_count": null,
      "outputs": []
    },
    {
      "cell_type": "code",
      "source": [
        "import re\n",
        "from Korpora import Korpora\n",
        "from glob import glob\n",
        "from tqdm.auto import tqdm\n",
        "from soynlp.normalizer import repeat_normalize\n",
        "from kss import split_sentences"
      ],
      "metadata": {
        "id": "gSVaGqDjECb5"
      },
      "execution_count": null,
      "outputs": []
    },
    {
      "cell_type": "code",
      "source": [
        "Korpora.fetch('korean_petitions', root_dir='data/Korpora')\n",
        "dataset = glob('data/Korpora/korean_petitions/petitions*')"
      ],
      "metadata": {
        "id": "6hbfD-SpL7Rf"
      },
      "execution_count": null,
      "outputs": []
    },
    {
      "cell_type": "markdown",
      "source": [
        "[Korpora: Korean Corpora Archives](https://github.com/ko-nlp/Korpora)\n",
        "<br/>[청와대 국민청원 데이터 아카이브](https://github.com/lovit/petitions_archive)\n",
        "<br/>[Korpora 청와대 국민청원](https://ko-nlp.github.io/Korpora/ko-docs/corpuslist/korean_petitions.html)"
      ],
      "metadata": {
        "id": "s1bwip0Ijwzw"
      }
    },
    {
      "cell_type": "code",
      "source": [
        "df = pd.concat([pd.read_json(i, lines=True) for i in tqdm(dataset)])\n",
        "agreed_df = df[df['num_agree'] > 1000]\n",
        "\n",
        "pattern = re.compile(f'[^ .,?!/@$%~％·∼()\\x00-\\x7Fㄱ-ㅣ가-힣]+')\n",
        "url_pattern = re.compile(\n",
        "    r'https?:\\/\\/(www\\.)?[-a-zA-Z0-9@:%._\\+~#=]{1,256}\\.[a-zA-Z0-9()]{1,6}\\b([-a-zA-Z0-9()@:%_\\+.~#?&//=]*)')\n",
        "\n",
        "def clean(x):\n",
        "    x = pattern.sub(' ', x)\n",
        "    x = url_pattern.sub('', x)\n",
        "    x = x.strip()\n",
        "    x = repeat_normalize(x, num_repeats=2)\n",
        "    return x\n",
        "\n",
        "contents = agreed_df['content'].map(clean).to_list()\n",
        "\n",
        "with open('data/korean_petitions_safe.txt', 'w') as f:\n",
        "    for doc in tqdm(contents):\n",
        "        if doc:\n",
        "            for line in split_sentences(doc):\n",
        "                f.write(line+'\\n')\n",
        "            f.write('\\n')\n",
        "    f.close()"
      ],
      "metadata": {
        "colab": {
          "base_uri": "https://localhost:8080/",
          "height": 81,
          "referenced_widgets": [
            "c5841ed6fda74347a5183794d3b1959a",
            "d308088b34554da9ad715648b384e2c7",
            "f517c24d3777498985a7252991cca9e2",
            "490df62fdf0f4f59ae1df1d594649cce",
            "64b3295318fa4ca6b7ad54675d318a22",
            "2eff3554e4a54487ba94de010aaacd04",
            "2ae680ee486f4d40aeaf6a8d99f28531",
            "3d0206f8c334448598cdb025563ffb52",
            "6976b7ba51b940debf862ddcd15f20a9",
            "cc69f18d021248838f381811dcd0df3f",
            "88e88b7199f24f30a21160294c71e36b",
            "d9133ae31b3243c88d3369252f3df7fd",
            "65dd4cdf45574124a6c5b72a35203eef",
            "8999ab9aca474b7e8f42a20a90c71b5f",
            "153c0bf835824f06a6e3537bb6510c50",
            "609796745eb04143bd00834f3ecc3d06",
            "73f0bb55d2f4494aad37ce24244ee42e",
            "32062185de654b53b40e52a94f8a46ff",
            "7be575ee2d024d5b992714f94f718ba5",
            "c00207f2ba0e4d6ba2ca9ee127b1ae6c",
            "2c54f7eab4be475ba97a70cd7ca90af1",
            "8ede3bddf43e4ab89e3b50c1eefaf82e"
          ]
        },
        "id": "MC3aVPIMFBPG",
        "outputId": "68d3dbe8-9993-4c11-955c-d322b0928dc0"
      },
      "execution_count": null,
      "outputs": [
        {
          "output_type": "display_data",
          "data": {
            "text/plain": [
              "  0%|          | 0/20 [00:00<?, ?it/s]"
            ],
            "application/vnd.jupyter.widget-view+json": {
              "version_major": 2,
              "version_minor": 0,
              "model_id": "c5841ed6fda74347a5183794d3b1959a"
            }
          },
          "metadata": {}
        },
        {
          "output_type": "display_data",
          "data": {
            "text/plain": [
              "  0%|          | 0/3704 [00:00<?, ?it/s]"
            ],
            "application/vnd.jupyter.widget-view+json": {
              "version_major": 2,
              "version_minor": 0,
              "model_id": "d9133ae31b3243c88d3369252f3df7fd"
            }
          },
          "metadata": {}
        }
      ]
    },
    {
      "cell_type": "markdown",
      "source": [
        "[Error in google colab(python) while transliterating data into Indian language](https://stackoverflow.com/questions/73024976/error-in-google-colabpython-while-transliterating-data-into-indian-language)"
      ],
      "metadata": {
        "id": "OGGUVjVmMrVY"
      }
    },
    {
      "cell_type": "markdown",
      "source": [
        "AttributeError: module 'emoji' has no attribute 'UNICODE_EMOJI'\n",
        "<br/>AttributeError로 인해 emoji가 작동하지 않아\n",
        "<br/>데이터 전처리 과정에서 emoji를 실행하는 이모티콘 전처리 과정을 생략했다."
      ],
      "metadata": {
        "id": "Nq2LDoiEIxP4"
      }
    },
    {
      "cell_type": "code",
      "source": [
        "!wget -O kcbert_base_mlm/run_mlm.py https://raw.githubusercontent.com/huggingface/transformers/72aee83ced5f31302c5e331d896412737287f976/examples/pytorch/language-modeling/run_mlm.py"
      ],
      "metadata": {
        "id": "AHisd2-vJr-g"
      },
      "execution_count": null,
      "outputs": []
    },
    {
      "cell_type": "code",
      "source": [
        "!python kcbert_base_mlm/run_mlm.py \\\n",
        "    --model_name_or_path beomi/kcbert-base \\\n",
        "    --train_file data/korean_petitions_safe.txt \\\n",
        "    --do_train \\\n",
        "    --output_dir kcbert_base_mlm/test_mlm"
      ],
      "metadata": {
        "id": "vGy7CJPxOSHW"
      },
      "execution_count": null,
      "outputs": []
    },
    {
      "cell_type": "markdown",
      "source": [
        "모델 [beomi/kcbert-base](https://huggingface.co/beomi/kcbert-base)를 사용한다."
      ],
      "metadata": {
        "id": "Pg7NIOVrSRaK"
      }
    },
    {
      "cell_type": "code",
      "source": [
        "def read_model_result_json(json_path):\n",
        "    with open(json_path, 'r') as f:\n",
        "        json_data = json.load(f)\n",
        "    return json_data"
      ],
      "metadata": {
        "id": "EiYkC4wobQ0j"
      },
      "execution_count": null,
      "outputs": []
    },
    {
      "cell_type": "code",
      "source": [
        "CSS = \"\"\".output {flex-direction: row;}\"\"\"\n",
        "HTML('<style>{}</style>'.format(CSS))\n",
        "\n",
        "json_path_list = ['kcbert_base_mlm/test_mlm/trainer_state.json', 'kcbert_base_mlm/test_mlm/train_results.json', \n",
        "                  'kcbert_base_mlm/test_mlm/config.json', 'kcbert_base_mlm/test_mlm/tokenizer_config.json']\n",
        "\n",
        "for i in json_path_list:\n",
        "  if 'trainer_state' in i:\n",
        "      json_data = read_model_result_json(i)\n",
        "      log_history_df = pd.DataFrame.from_dict(json_data['log_history']).fillna(\" \")\n",
        "  elif 'train_results' in i:\n",
        "      json_data = read_model_result_json(i)\n",
        "      train_results_df = pd.DataFrame([json_data])\n",
        "  elif '/config' in i:\n",
        "      json_data = read_model_result_json(i)\n",
        "      config_json_df = pd.DataFrame.from_dict(json_data)\n",
        "  elif 'tokenizer_config' in i:\n",
        "      json_data = read_model_result_json(i)\n",
        "      tokenizer_config_df = pd.DataFrame([json_data])\n",
        "\n",
        "display(log_history_df)\n",
        "print(\"\\n\" * 2)\n",
        "display(train_results_df)\n",
        "print(\"\\n\"* 2)\n",
        "display(config_json_df)\n",
        "print(\"\\n\"* 2)\n",
        "display(tokenizer_config_df)"
      ],
      "metadata": {
        "colab": {
          "base_uri": "https://localhost:8080/",
          "height": 722
        },
        "id": "5U0eTJABRsMH",
        "outputId": "d572dee0-6e6e-47ad-c455-1b6bcd927d58"
      },
      "execution_count": null,
      "outputs": [
        {
          "output_type": "display_data",
          "data": {
            "text/plain": [
              "   epoch learning_rate    loss  step          total_flos train_loss  \\\n",
              "0   0.58       0.00004  2.6954   500                                  \n",
              "1   1.17      0.000031  2.6017  1000                                  \n",
              "2   1.75      0.000021  2.4854  1500                                  \n",
              "3   2.34      0.000011  2.4172  2000                                  \n",
              "4   2.92      0.000001  2.3733  2500                                  \n",
              "5   3.00                        2565  3164144673916800.0   2.510174   \n",
              "\n",
              "  train_runtime train_samples_per_second train_steps_per_second  \n",
              "0                                                                \n",
              "1                                                                \n",
              "2                                                                \n",
              "3                                                                \n",
              "4                                                                \n",
              "5      906.0199                   22.645                  2.831  "
            ],
            "text/html": [
              "\n",
              "  <div id=\"df-8c5ff79a-296d-4c7a-bbdc-8a19c765651b\">\n",
              "    <div class=\"colab-df-container\">\n",
              "      <div>\n",
              "<style scoped>\n",
              "    .dataframe tbody tr th:only-of-type {\n",
              "        vertical-align: middle;\n",
              "    }\n",
              "\n",
              "    .dataframe tbody tr th {\n",
              "        vertical-align: top;\n",
              "    }\n",
              "\n",
              "    .dataframe thead th {\n",
              "        text-align: right;\n",
              "    }\n",
              "</style>\n",
              "<table border=\"1\" class=\"dataframe\">\n",
              "  <thead>\n",
              "    <tr style=\"text-align: right;\">\n",
              "      <th></th>\n",
              "      <th>epoch</th>\n",
              "      <th>learning_rate</th>\n",
              "      <th>loss</th>\n",
              "      <th>step</th>\n",
              "      <th>total_flos</th>\n",
              "      <th>train_loss</th>\n",
              "      <th>train_runtime</th>\n",
              "      <th>train_samples_per_second</th>\n",
              "      <th>train_steps_per_second</th>\n",
              "    </tr>\n",
              "  </thead>\n",
              "  <tbody>\n",
              "    <tr>\n",
              "      <th>0</th>\n",
              "      <td>0.58</td>\n",
              "      <td>0.00004</td>\n",
              "      <td>2.6954</td>\n",
              "      <td>500</td>\n",
              "      <td></td>\n",
              "      <td></td>\n",
              "      <td></td>\n",
              "      <td></td>\n",
              "      <td></td>\n",
              "    </tr>\n",
              "    <tr>\n",
              "      <th>1</th>\n",
              "      <td>1.17</td>\n",
              "      <td>0.000031</td>\n",
              "      <td>2.6017</td>\n",
              "      <td>1000</td>\n",
              "      <td></td>\n",
              "      <td></td>\n",
              "      <td></td>\n",
              "      <td></td>\n",
              "      <td></td>\n",
              "    </tr>\n",
              "    <tr>\n",
              "      <th>2</th>\n",
              "      <td>1.75</td>\n",
              "      <td>0.000021</td>\n",
              "      <td>2.4854</td>\n",
              "      <td>1500</td>\n",
              "      <td></td>\n",
              "      <td></td>\n",
              "      <td></td>\n",
              "      <td></td>\n",
              "      <td></td>\n",
              "    </tr>\n",
              "    <tr>\n",
              "      <th>3</th>\n",
              "      <td>2.34</td>\n",
              "      <td>0.000011</td>\n",
              "      <td>2.4172</td>\n",
              "      <td>2000</td>\n",
              "      <td></td>\n",
              "      <td></td>\n",
              "      <td></td>\n",
              "      <td></td>\n",
              "      <td></td>\n",
              "    </tr>\n",
              "    <tr>\n",
              "      <th>4</th>\n",
              "      <td>2.92</td>\n",
              "      <td>0.000001</td>\n",
              "      <td>2.3733</td>\n",
              "      <td>2500</td>\n",
              "      <td></td>\n",
              "      <td></td>\n",
              "      <td></td>\n",
              "      <td></td>\n",
              "      <td></td>\n",
              "    </tr>\n",
              "    <tr>\n",
              "      <th>5</th>\n",
              "      <td>3.00</td>\n",
              "      <td></td>\n",
              "      <td></td>\n",
              "      <td>2565</td>\n",
              "      <td>3164144673916800.0</td>\n",
              "      <td>2.510174</td>\n",
              "      <td>906.0199</td>\n",
              "      <td>22.645</td>\n",
              "      <td>2.831</td>\n",
              "    </tr>\n",
              "  </tbody>\n",
              "</table>\n",
              "</div>\n",
              "      <button class=\"colab-df-convert\" onclick=\"convertToInteractive('df-8c5ff79a-296d-4c7a-bbdc-8a19c765651b')\"\n",
              "              title=\"Convert this dataframe to an interactive table.\"\n",
              "              style=\"display:none;\">\n",
              "        \n",
              "  <svg xmlns=\"http://www.w3.org/2000/svg\" height=\"24px\"viewBox=\"0 0 24 24\"\n",
              "       width=\"24px\">\n",
              "    <path d=\"M0 0h24v24H0V0z\" fill=\"none\"/>\n",
              "    <path d=\"M18.56 5.44l.94 2.06.94-2.06 2.06-.94-2.06-.94-.94-2.06-.94 2.06-2.06.94zm-11 1L8.5 8.5l.94-2.06 2.06-.94-2.06-.94L8.5 2.5l-.94 2.06-2.06.94zm10 10l.94 2.06.94-2.06 2.06-.94-2.06-.94-.94-2.06-.94 2.06-2.06.94z\"/><path d=\"M17.41 7.96l-1.37-1.37c-.4-.4-.92-.59-1.43-.59-.52 0-1.04.2-1.43.59L10.3 9.45l-7.72 7.72c-.78.78-.78 2.05 0 2.83L4 21.41c.39.39.9.59 1.41.59.51 0 1.02-.2 1.41-.59l7.78-7.78 2.81-2.81c.8-.78.8-2.07 0-2.86zM5.41 20L4 18.59l7.72-7.72 1.47 1.35L5.41 20z\"/>\n",
              "  </svg>\n",
              "      </button>\n",
              "      \n",
              "  <style>\n",
              "    .colab-df-container {\n",
              "      display:flex;\n",
              "      flex-wrap:wrap;\n",
              "      gap: 12px;\n",
              "    }\n",
              "\n",
              "    .colab-df-convert {\n",
              "      background-color: #E8F0FE;\n",
              "      border: none;\n",
              "      border-radius: 50%;\n",
              "      cursor: pointer;\n",
              "      display: none;\n",
              "      fill: #1967D2;\n",
              "      height: 32px;\n",
              "      padding: 0 0 0 0;\n",
              "      width: 32px;\n",
              "    }\n",
              "\n",
              "    .colab-df-convert:hover {\n",
              "      background-color: #E2EBFA;\n",
              "      box-shadow: 0px 1px 2px rgba(60, 64, 67, 0.3), 0px 1px 3px 1px rgba(60, 64, 67, 0.15);\n",
              "      fill: #174EA6;\n",
              "    }\n",
              "\n",
              "    [theme=dark] .colab-df-convert {\n",
              "      background-color: #3B4455;\n",
              "      fill: #D2E3FC;\n",
              "    }\n",
              "\n",
              "    [theme=dark] .colab-df-convert:hover {\n",
              "      background-color: #434B5C;\n",
              "      box-shadow: 0px 1px 3px 1px rgba(0, 0, 0, 0.15);\n",
              "      filter: drop-shadow(0px 1px 2px rgba(0, 0, 0, 0.3));\n",
              "      fill: #FFFFFF;\n",
              "    }\n",
              "  </style>\n",
              "\n",
              "      <script>\n",
              "        const buttonEl =\n",
              "          document.querySelector('#df-8c5ff79a-296d-4c7a-bbdc-8a19c765651b button.colab-df-convert');\n",
              "        buttonEl.style.display =\n",
              "          google.colab.kernel.accessAllowed ? 'block' : 'none';\n",
              "\n",
              "        async function convertToInteractive(key) {\n",
              "          const element = document.querySelector('#df-8c5ff79a-296d-4c7a-bbdc-8a19c765651b');\n",
              "          const dataTable =\n",
              "            await google.colab.kernel.invokeFunction('convertToInteractive',\n",
              "                                                     [key], {});\n",
              "          if (!dataTable) return;\n",
              "\n",
              "          const docLinkHtml = 'Like what you see? Visit the ' +\n",
              "            '<a target=\"_blank\" href=https://colab.research.google.com/notebooks/data_table.ipynb>data table notebook</a>'\n",
              "            + ' to learn more about interactive tables.';\n",
              "          element.innerHTML = '';\n",
              "          dataTable['output_type'] = 'display_data';\n",
              "          await google.colab.output.renderOutput(dataTable, element);\n",
              "          const docLink = document.createElement('div');\n",
              "          docLink.innerHTML = docLinkHtml;\n",
              "          element.appendChild(docLink);\n",
              "        }\n",
              "      </script>\n",
              "    </div>\n",
              "  </div>\n",
              "  "
            ]
          },
          "metadata": {}
        },
        {
          "output_type": "stream",
          "name": "stdout",
          "text": [
            "\n",
            "\n",
            "\n"
          ]
        },
        {
          "output_type": "display_data",
          "data": {
            "text/plain": [
              "   epoch  train_loss  train_runtime  train_samples  train_samples_per_second  \\\n",
              "0    3.0    2.510174       906.0199           6839                    22.645   \n",
              "\n",
              "   train_steps_per_second  \n",
              "0                   2.831  "
            ],
            "text/html": [
              "\n",
              "  <div id=\"df-99f49826-c45d-4f11-94b9-d4049fe90271\">\n",
              "    <div class=\"colab-df-container\">\n",
              "      <div>\n",
              "<style scoped>\n",
              "    .dataframe tbody tr th:only-of-type {\n",
              "        vertical-align: middle;\n",
              "    }\n",
              "\n",
              "    .dataframe tbody tr th {\n",
              "        vertical-align: top;\n",
              "    }\n",
              "\n",
              "    .dataframe thead th {\n",
              "        text-align: right;\n",
              "    }\n",
              "</style>\n",
              "<table border=\"1\" class=\"dataframe\">\n",
              "  <thead>\n",
              "    <tr style=\"text-align: right;\">\n",
              "      <th></th>\n",
              "      <th>epoch</th>\n",
              "      <th>train_loss</th>\n",
              "      <th>train_runtime</th>\n",
              "      <th>train_samples</th>\n",
              "      <th>train_samples_per_second</th>\n",
              "      <th>train_steps_per_second</th>\n",
              "    </tr>\n",
              "  </thead>\n",
              "  <tbody>\n",
              "    <tr>\n",
              "      <th>0</th>\n",
              "      <td>3.0</td>\n",
              "      <td>2.510174</td>\n",
              "      <td>906.0199</td>\n",
              "      <td>6839</td>\n",
              "      <td>22.645</td>\n",
              "      <td>2.831</td>\n",
              "    </tr>\n",
              "  </tbody>\n",
              "</table>\n",
              "</div>\n",
              "      <button class=\"colab-df-convert\" onclick=\"convertToInteractive('df-99f49826-c45d-4f11-94b9-d4049fe90271')\"\n",
              "              title=\"Convert this dataframe to an interactive table.\"\n",
              "              style=\"display:none;\">\n",
              "        \n",
              "  <svg xmlns=\"http://www.w3.org/2000/svg\" height=\"24px\"viewBox=\"0 0 24 24\"\n",
              "       width=\"24px\">\n",
              "    <path d=\"M0 0h24v24H0V0z\" fill=\"none\"/>\n",
              "    <path d=\"M18.56 5.44l.94 2.06.94-2.06 2.06-.94-2.06-.94-.94-2.06-.94 2.06-2.06.94zm-11 1L8.5 8.5l.94-2.06 2.06-.94-2.06-.94L8.5 2.5l-.94 2.06-2.06.94zm10 10l.94 2.06.94-2.06 2.06-.94-2.06-.94-.94-2.06-.94 2.06-2.06.94z\"/><path d=\"M17.41 7.96l-1.37-1.37c-.4-.4-.92-.59-1.43-.59-.52 0-1.04.2-1.43.59L10.3 9.45l-7.72 7.72c-.78.78-.78 2.05 0 2.83L4 21.41c.39.39.9.59 1.41.59.51 0 1.02-.2 1.41-.59l7.78-7.78 2.81-2.81c.8-.78.8-2.07 0-2.86zM5.41 20L4 18.59l7.72-7.72 1.47 1.35L5.41 20z\"/>\n",
              "  </svg>\n",
              "      </button>\n",
              "      \n",
              "  <style>\n",
              "    .colab-df-container {\n",
              "      display:flex;\n",
              "      flex-wrap:wrap;\n",
              "      gap: 12px;\n",
              "    }\n",
              "\n",
              "    .colab-df-convert {\n",
              "      background-color: #E8F0FE;\n",
              "      border: none;\n",
              "      border-radius: 50%;\n",
              "      cursor: pointer;\n",
              "      display: none;\n",
              "      fill: #1967D2;\n",
              "      height: 32px;\n",
              "      padding: 0 0 0 0;\n",
              "      width: 32px;\n",
              "    }\n",
              "\n",
              "    .colab-df-convert:hover {\n",
              "      background-color: #E2EBFA;\n",
              "      box-shadow: 0px 1px 2px rgba(60, 64, 67, 0.3), 0px 1px 3px 1px rgba(60, 64, 67, 0.15);\n",
              "      fill: #174EA6;\n",
              "    }\n",
              "\n",
              "    [theme=dark] .colab-df-convert {\n",
              "      background-color: #3B4455;\n",
              "      fill: #D2E3FC;\n",
              "    }\n",
              "\n",
              "    [theme=dark] .colab-df-convert:hover {\n",
              "      background-color: #434B5C;\n",
              "      box-shadow: 0px 1px 3px 1px rgba(0, 0, 0, 0.15);\n",
              "      filter: drop-shadow(0px 1px 2px rgba(0, 0, 0, 0.3));\n",
              "      fill: #FFFFFF;\n",
              "    }\n",
              "  </style>\n",
              "\n",
              "      <script>\n",
              "        const buttonEl =\n",
              "          document.querySelector('#df-99f49826-c45d-4f11-94b9-d4049fe90271 button.colab-df-convert');\n",
              "        buttonEl.style.display =\n",
              "          google.colab.kernel.accessAllowed ? 'block' : 'none';\n",
              "\n",
              "        async function convertToInteractive(key) {\n",
              "          const element = document.querySelector('#df-99f49826-c45d-4f11-94b9-d4049fe90271');\n",
              "          const dataTable =\n",
              "            await google.colab.kernel.invokeFunction('convertToInteractive',\n",
              "                                                     [key], {});\n",
              "          if (!dataTable) return;\n",
              "\n",
              "          const docLinkHtml = 'Like what you see? Visit the ' +\n",
              "            '<a target=\"_blank\" href=https://colab.research.google.com/notebooks/data_table.ipynb>data table notebook</a>'\n",
              "            + ' to learn more about interactive tables.';\n",
              "          element.innerHTML = '';\n",
              "          dataTable['output_type'] = 'display_data';\n",
              "          await google.colab.output.renderOutput(dataTable, element);\n",
              "          const docLink = document.createElement('div');\n",
              "          docLink.innerHTML = docLinkHtml;\n",
              "          element.appendChild(docLink);\n",
              "        }\n",
              "      </script>\n",
              "    </div>\n",
              "  </div>\n",
              "  "
            ]
          },
          "metadata": {}
        },
        {
          "output_type": "stream",
          "name": "stdout",
          "text": [
            "\n",
            "\n",
            "\n"
          ]
        },
        {
          "output_type": "display_data",
          "data": {
            "text/plain": [
              "       _name_or_path    architectures  attention_probs_dropout_prob  \\\n",
              "0  beomi/kcbert-base  BertForMaskedLM                           0.1   \n",
              "\n",
              "  classifier_dropout directionality hidden_act  hidden_dropout_prob  \\\n",
              "0               None           bidi       gelu                  0.1   \n",
              "\n",
              "   hidden_size  initializer_range  intermediate_size  ...  \\\n",
              "0          768               0.02               3072  ...   \n",
              "\n",
              "   pooler_num_attention_heads  pooler_num_fc_layers pooler_size_per_head  \\\n",
              "0                          12                     3                  128   \n",
              "\n",
              "             pooler_type  position_embedding_type  torch_dtype  \\\n",
              "0  first_token_transform                 absolute      float32   \n",
              "\n",
              "   transformers_version  type_vocab_size  use_cache  vocab_size  \n",
              "0                4.21.1                2       True       30000  \n",
              "\n",
              "[1 rows x 27 columns]"
            ],
            "text/html": [
              "\n",
              "  <div id=\"df-e9663bd2-4b9a-41f0-983a-2e1c75b3c107\">\n",
              "    <div class=\"colab-df-container\">\n",
              "      <div>\n",
              "<style scoped>\n",
              "    .dataframe tbody tr th:only-of-type {\n",
              "        vertical-align: middle;\n",
              "    }\n",
              "\n",
              "    .dataframe tbody tr th {\n",
              "        vertical-align: top;\n",
              "    }\n",
              "\n",
              "    .dataframe thead th {\n",
              "        text-align: right;\n",
              "    }\n",
              "</style>\n",
              "<table border=\"1\" class=\"dataframe\">\n",
              "  <thead>\n",
              "    <tr style=\"text-align: right;\">\n",
              "      <th></th>\n",
              "      <th>_name_or_path</th>\n",
              "      <th>architectures</th>\n",
              "      <th>attention_probs_dropout_prob</th>\n",
              "      <th>classifier_dropout</th>\n",
              "      <th>directionality</th>\n",
              "      <th>hidden_act</th>\n",
              "      <th>hidden_dropout_prob</th>\n",
              "      <th>hidden_size</th>\n",
              "      <th>initializer_range</th>\n",
              "      <th>intermediate_size</th>\n",
              "      <th>...</th>\n",
              "      <th>pooler_num_attention_heads</th>\n",
              "      <th>pooler_num_fc_layers</th>\n",
              "      <th>pooler_size_per_head</th>\n",
              "      <th>pooler_type</th>\n",
              "      <th>position_embedding_type</th>\n",
              "      <th>torch_dtype</th>\n",
              "      <th>transformers_version</th>\n",
              "      <th>type_vocab_size</th>\n",
              "      <th>use_cache</th>\n",
              "      <th>vocab_size</th>\n",
              "    </tr>\n",
              "  </thead>\n",
              "  <tbody>\n",
              "    <tr>\n",
              "      <th>0</th>\n",
              "      <td>beomi/kcbert-base</td>\n",
              "      <td>BertForMaskedLM</td>\n",
              "      <td>0.1</td>\n",
              "      <td>None</td>\n",
              "      <td>bidi</td>\n",
              "      <td>gelu</td>\n",
              "      <td>0.1</td>\n",
              "      <td>768</td>\n",
              "      <td>0.02</td>\n",
              "      <td>3072</td>\n",
              "      <td>...</td>\n",
              "      <td>12</td>\n",
              "      <td>3</td>\n",
              "      <td>128</td>\n",
              "      <td>first_token_transform</td>\n",
              "      <td>absolute</td>\n",
              "      <td>float32</td>\n",
              "      <td>4.21.1</td>\n",
              "      <td>2</td>\n",
              "      <td>True</td>\n",
              "      <td>30000</td>\n",
              "    </tr>\n",
              "  </tbody>\n",
              "</table>\n",
              "<p>1 rows × 27 columns</p>\n",
              "</div>\n",
              "      <button class=\"colab-df-convert\" onclick=\"convertToInteractive('df-e9663bd2-4b9a-41f0-983a-2e1c75b3c107')\"\n",
              "              title=\"Convert this dataframe to an interactive table.\"\n",
              "              style=\"display:none;\">\n",
              "        \n",
              "  <svg xmlns=\"http://www.w3.org/2000/svg\" height=\"24px\"viewBox=\"0 0 24 24\"\n",
              "       width=\"24px\">\n",
              "    <path d=\"M0 0h24v24H0V0z\" fill=\"none\"/>\n",
              "    <path d=\"M18.56 5.44l.94 2.06.94-2.06 2.06-.94-2.06-.94-.94-2.06-.94 2.06-2.06.94zm-11 1L8.5 8.5l.94-2.06 2.06-.94-2.06-.94L8.5 2.5l-.94 2.06-2.06.94zm10 10l.94 2.06.94-2.06 2.06-.94-2.06-.94-.94-2.06-.94 2.06-2.06.94z\"/><path d=\"M17.41 7.96l-1.37-1.37c-.4-.4-.92-.59-1.43-.59-.52 0-1.04.2-1.43.59L10.3 9.45l-7.72 7.72c-.78.78-.78 2.05 0 2.83L4 21.41c.39.39.9.59 1.41.59.51 0 1.02-.2 1.41-.59l7.78-7.78 2.81-2.81c.8-.78.8-2.07 0-2.86zM5.41 20L4 18.59l7.72-7.72 1.47 1.35L5.41 20z\"/>\n",
              "  </svg>\n",
              "      </button>\n",
              "      \n",
              "  <style>\n",
              "    .colab-df-container {\n",
              "      display:flex;\n",
              "      flex-wrap:wrap;\n",
              "      gap: 12px;\n",
              "    }\n",
              "\n",
              "    .colab-df-convert {\n",
              "      background-color: #E8F0FE;\n",
              "      border: none;\n",
              "      border-radius: 50%;\n",
              "      cursor: pointer;\n",
              "      display: none;\n",
              "      fill: #1967D2;\n",
              "      height: 32px;\n",
              "      padding: 0 0 0 0;\n",
              "      width: 32px;\n",
              "    }\n",
              "\n",
              "    .colab-df-convert:hover {\n",
              "      background-color: #E2EBFA;\n",
              "      box-shadow: 0px 1px 2px rgba(60, 64, 67, 0.3), 0px 1px 3px 1px rgba(60, 64, 67, 0.15);\n",
              "      fill: #174EA6;\n",
              "    }\n",
              "\n",
              "    [theme=dark] .colab-df-convert {\n",
              "      background-color: #3B4455;\n",
              "      fill: #D2E3FC;\n",
              "    }\n",
              "\n",
              "    [theme=dark] .colab-df-convert:hover {\n",
              "      background-color: #434B5C;\n",
              "      box-shadow: 0px 1px 3px 1px rgba(0, 0, 0, 0.15);\n",
              "      filter: drop-shadow(0px 1px 2px rgba(0, 0, 0, 0.3));\n",
              "      fill: #FFFFFF;\n",
              "    }\n",
              "  </style>\n",
              "\n",
              "      <script>\n",
              "        const buttonEl =\n",
              "          document.querySelector('#df-e9663bd2-4b9a-41f0-983a-2e1c75b3c107 button.colab-df-convert');\n",
              "        buttonEl.style.display =\n",
              "          google.colab.kernel.accessAllowed ? 'block' : 'none';\n",
              "\n",
              "        async function convertToInteractive(key) {\n",
              "          const element = document.querySelector('#df-e9663bd2-4b9a-41f0-983a-2e1c75b3c107');\n",
              "          const dataTable =\n",
              "            await google.colab.kernel.invokeFunction('convertToInteractive',\n",
              "                                                     [key], {});\n",
              "          if (!dataTable) return;\n",
              "\n",
              "          const docLinkHtml = 'Like what you see? Visit the ' +\n",
              "            '<a target=\"_blank\" href=https://colab.research.google.com/notebooks/data_table.ipynb>data table notebook</a>'\n",
              "            + ' to learn more about interactive tables.';\n",
              "          element.innerHTML = '';\n",
              "          dataTable['output_type'] = 'display_data';\n",
              "          await google.colab.output.renderOutput(dataTable, element);\n",
              "          const docLink = document.createElement('div');\n",
              "          docLink.innerHTML = docLinkHtml;\n",
              "          element.appendChild(docLink);\n",
              "        }\n",
              "      </script>\n",
              "    </div>\n",
              "  </div>\n",
              "  "
            ]
          },
          "metadata": {}
        },
        {
          "output_type": "stream",
          "name": "stdout",
          "text": [
            "\n",
            "\n",
            "\n"
          ]
        },
        {
          "output_type": "display_data",
          "data": {
            "text/plain": [
              "  cls_token  do_basic_tokenize  do_lower_case mask_token  model_max_length  \\\n",
              "0     [CLS]               True          False     [MASK]               300   \n",
              "\n",
              "        name_or_path never_split pad_token sep_token special_tokens_map_file  \\\n",
              "0  beomi/kcbert-base        None     [PAD]     [SEP]                    None   \n",
              "\n",
              "  strip_accents  tokenize_chinese_chars tokenizer_class unk_token  \n",
              "0          None                    True   BertTokenizer     [UNK]  "
            ],
            "text/html": [
              "\n",
              "  <div id=\"df-fb7f10c6-72cc-4143-b865-4ffd31e93c83\">\n",
              "    <div class=\"colab-df-container\">\n",
              "      <div>\n",
              "<style scoped>\n",
              "    .dataframe tbody tr th:only-of-type {\n",
              "        vertical-align: middle;\n",
              "    }\n",
              "\n",
              "    .dataframe tbody tr th {\n",
              "        vertical-align: top;\n",
              "    }\n",
              "\n",
              "    .dataframe thead th {\n",
              "        text-align: right;\n",
              "    }\n",
              "</style>\n",
              "<table border=\"1\" class=\"dataframe\">\n",
              "  <thead>\n",
              "    <tr style=\"text-align: right;\">\n",
              "      <th></th>\n",
              "      <th>cls_token</th>\n",
              "      <th>do_basic_tokenize</th>\n",
              "      <th>do_lower_case</th>\n",
              "      <th>mask_token</th>\n",
              "      <th>model_max_length</th>\n",
              "      <th>name_or_path</th>\n",
              "      <th>never_split</th>\n",
              "      <th>pad_token</th>\n",
              "      <th>sep_token</th>\n",
              "      <th>special_tokens_map_file</th>\n",
              "      <th>strip_accents</th>\n",
              "      <th>tokenize_chinese_chars</th>\n",
              "      <th>tokenizer_class</th>\n",
              "      <th>unk_token</th>\n",
              "    </tr>\n",
              "  </thead>\n",
              "  <tbody>\n",
              "    <tr>\n",
              "      <th>0</th>\n",
              "      <td>[CLS]</td>\n",
              "      <td>True</td>\n",
              "      <td>False</td>\n",
              "      <td>[MASK]</td>\n",
              "      <td>300</td>\n",
              "      <td>beomi/kcbert-base</td>\n",
              "      <td>None</td>\n",
              "      <td>[PAD]</td>\n",
              "      <td>[SEP]</td>\n",
              "      <td>None</td>\n",
              "      <td>None</td>\n",
              "      <td>True</td>\n",
              "      <td>BertTokenizer</td>\n",
              "      <td>[UNK]</td>\n",
              "    </tr>\n",
              "  </tbody>\n",
              "</table>\n",
              "</div>\n",
              "      <button class=\"colab-df-convert\" onclick=\"convertToInteractive('df-fb7f10c6-72cc-4143-b865-4ffd31e93c83')\"\n",
              "              title=\"Convert this dataframe to an interactive table.\"\n",
              "              style=\"display:none;\">\n",
              "        \n",
              "  <svg xmlns=\"http://www.w3.org/2000/svg\" height=\"24px\"viewBox=\"0 0 24 24\"\n",
              "       width=\"24px\">\n",
              "    <path d=\"M0 0h24v24H0V0z\" fill=\"none\"/>\n",
              "    <path d=\"M18.56 5.44l.94 2.06.94-2.06 2.06-.94-2.06-.94-.94-2.06-.94 2.06-2.06.94zm-11 1L8.5 8.5l.94-2.06 2.06-.94-2.06-.94L8.5 2.5l-.94 2.06-2.06.94zm10 10l.94 2.06.94-2.06 2.06-.94-2.06-.94-.94-2.06-.94 2.06-2.06.94z\"/><path d=\"M17.41 7.96l-1.37-1.37c-.4-.4-.92-.59-1.43-.59-.52 0-1.04.2-1.43.59L10.3 9.45l-7.72 7.72c-.78.78-.78 2.05 0 2.83L4 21.41c.39.39.9.59 1.41.59.51 0 1.02-.2 1.41-.59l7.78-7.78 2.81-2.81c.8-.78.8-2.07 0-2.86zM5.41 20L4 18.59l7.72-7.72 1.47 1.35L5.41 20z\"/>\n",
              "  </svg>\n",
              "      </button>\n",
              "      \n",
              "  <style>\n",
              "    .colab-df-container {\n",
              "      display:flex;\n",
              "      flex-wrap:wrap;\n",
              "      gap: 12px;\n",
              "    }\n",
              "\n",
              "    .colab-df-convert {\n",
              "      background-color: #E8F0FE;\n",
              "      border: none;\n",
              "      border-radius: 50%;\n",
              "      cursor: pointer;\n",
              "      display: none;\n",
              "      fill: #1967D2;\n",
              "      height: 32px;\n",
              "      padding: 0 0 0 0;\n",
              "      width: 32px;\n",
              "    }\n",
              "\n",
              "    .colab-df-convert:hover {\n",
              "      background-color: #E2EBFA;\n",
              "      box-shadow: 0px 1px 2px rgba(60, 64, 67, 0.3), 0px 1px 3px 1px rgba(60, 64, 67, 0.15);\n",
              "      fill: #174EA6;\n",
              "    }\n",
              "\n",
              "    [theme=dark] .colab-df-convert {\n",
              "      background-color: #3B4455;\n",
              "      fill: #D2E3FC;\n",
              "    }\n",
              "\n",
              "    [theme=dark] .colab-df-convert:hover {\n",
              "      background-color: #434B5C;\n",
              "      box-shadow: 0px 1px 3px 1px rgba(0, 0, 0, 0.15);\n",
              "      filter: drop-shadow(0px 1px 2px rgba(0, 0, 0, 0.3));\n",
              "      fill: #FFFFFF;\n",
              "    }\n",
              "  </style>\n",
              "\n",
              "      <script>\n",
              "        const buttonEl =\n",
              "          document.querySelector('#df-fb7f10c6-72cc-4143-b865-4ffd31e93c83 button.colab-df-convert');\n",
              "        buttonEl.style.display =\n",
              "          google.colab.kernel.accessAllowed ? 'block' : 'none';\n",
              "\n",
              "        async function convertToInteractive(key) {\n",
              "          const element = document.querySelector('#df-fb7f10c6-72cc-4143-b865-4ffd31e93c83');\n",
              "          const dataTable =\n",
              "            await google.colab.kernel.invokeFunction('convertToInteractive',\n",
              "                                                     [key], {});\n",
              "          if (!dataTable) return;\n",
              "\n",
              "          const docLinkHtml = 'Like what you see? Visit the ' +\n",
              "            '<a target=\"_blank\" href=https://colab.research.google.com/notebooks/data_table.ipynb>data table notebook</a>'\n",
              "            + ' to learn more about interactive tables.';\n",
              "          element.innerHTML = '';\n",
              "          dataTable['output_type'] = 'display_data';\n",
              "          await google.colab.output.renderOutput(dataTable, element);\n",
              "          const docLink = document.createElement('div');\n",
              "          docLink.innerHTML = docLinkHtml;\n",
              "          element.appendChild(docLink);\n",
              "        }\n",
              "      </script>\n",
              "    </div>\n",
              "  </div>\n",
              "  "
            ]
          },
          "metadata": {}
        }
      ]
    },
    {
      "cell_type": "markdown",
      "source": [
        "<br/><br/>"
      ],
      "metadata": {
        "id": "lowuY4G3_C17"
      }
    },
    {
      "cell_type": "markdown",
      "source": [
        "##bert-base-cased MRPC Finetune"
      ],
      "metadata": {
        "id": "EhAQ_zQBKWfy"
      }
    },
    {
      "cell_type": "code",
      "source": [
        "pwd"
      ],
      "metadata": {
        "colab": {
          "base_uri": "https://localhost:8080/",
          "height": 35
        },
        "id": "zbDOJOrYgjOU",
        "outputId": "d95bc88b-afca-43ac-d6b3-4ccad74af701"
      },
      "execution_count": 7,
      "outputs": [
        {
          "output_type": "execute_result",
          "data": {
            "text/plain": [
              "'/content/drive/MyDrive/lms/huggingface_glue_task'"
            ],
            "application/vnd.google.colaboratory.intrinsic+json": {
              "type": "string"
            }
          },
          "metadata": {},
          "execution_count": 7
        }
      ]
    },
    {
      "cell_type": "code",
      "source": [
        "!git clone -b v4.21.1 https://github.com/huggingface/transformers.git"
      ],
      "metadata": {
        "id": "0AZTP5LKjDWw"
      },
      "execution_count": null,
      "outputs": []
    },
    {
      "cell_type": "code",
      "source": [
        "mv transformers transfomers_v4.21.1"
      ],
      "metadata": {
        "id": "Ea1rXSoEmNa7"
      },
      "execution_count": null,
      "outputs": []
    },
    {
      "cell_type": "code",
      "source": [
        "cd transfomers_v4.21.1"
      ],
      "metadata": {
        "id": "OovAN0oui1MP"
      },
      "execution_count": null,
      "outputs": []
    },
    {
      "cell_type": "code",
      "source": [
        "!pip install -e ."
      ],
      "metadata": {
        "id": "5mV5TAqSi1Ot"
      },
      "execution_count": null,
      "outputs": []
    },
    {
      "cell_type": "code",
      "source": [
        "!pip install -q datasets huggingface_hub evaluate transformers"
      ],
      "metadata": {
        "id": "yY3vwDNvi1RM"
      },
      "execution_count": null,
      "outputs": []
    },
    {
      "cell_type": "code",
      "source": [
        "!pip install -q protobuf sentencepiece"
      ],
      "metadata": {
        "id": "pn2RYevYi1Tk"
      },
      "execution_count": null,
      "outputs": []
    },
    {
      "cell_type": "markdown",
      "source": [
        "[HuggingFace Installation](https://huggingface.co/docs/transformers/installation#installing-from-source%60)\n",
        "<br/>[huggingface/transformers](https://github.com/huggingface/transformers)\n",
        "<br/>[huggingface/transformers/releases](https://github.com/huggingface/transformers/releases)\n",
        "<br/>[# v4.21.1: Patch release](https://github.com/huggingface/transformers/releases/tag/v4.21.1)"
      ],
      "metadata": {
        "id": "49-lv9ekotMJ"
      }
    },
    {
      "cell_type": "markdown",
      "source": [
        "run_glue.py 파일의 check_min_version에 dev가 붙어있다면 Github의 main branch가 아니라 최근 release 된 Tag를 찾아 다운로드한다."
      ],
      "metadata": {
        "id": "MAb2HNYvYo5j"
      }
    },
    {
      "cell_type": "markdown",
      "source": [
        ""
      ],
      "metadata": {
        "id": "oewNuFyI2oEC"
      }
    },
    {
      "cell_type": "code",
      "source": [
        "!python examples/tensorflow/text-classification/run_glue.py \\\n",
        "\t--model_name_or_path bert-base-cased \\\n",
        "\t--task_name mrpc \\\n",
        "\t--output_dir bert_base_cased_mrpc \\\n",
        "\t--overwrite_output_dir \\\n",
        "\t--do_train \\\n",
        "\t--do_eval \\\n",
        "\t--num_train_epochs 1 \\\n",
        "\t--save_steps 20000"
      ],
      "metadata": {
        "id": "ftmRRtcSKWA5"
      },
      "execution_count": null,
      "outputs": []
    },
    {
      "cell_type": "markdown",
      "source": [
        "모델 [bert-base-cased](https://huggingface.co/bert-base-cased)를 사용한다.\n"
      ],
      "metadata": {
        "id": "vMdNYOSAaAJO"
      }
    },
    {
      "cell_type": "markdown",
      "source": [
        "AssertionError로 인해 실행되지 않는다."
      ],
      "metadata": {
        "id": "W_ptKkp5LjIK"
      }
    },
    {
      "cell_type": "markdown",
      "source": [
        "AssertionError: in user code:\n",
        "<br/>File \"/usr/local/lib/python3.7/dist-packages/datasets/arrow_dataset.py\", line 475, in split_features_and_labels  *\n",
        "<br/>assert set(features.keys()).union(labels.keys()) == set(input_batch.keys())"
      ],
      "metadata": {
        "id": "TrtBr4n6LJlK"
      }
    },
    {
      "cell_type": "markdown",
      "source": [
        "10가지 GLUE Task 중 MRPC를 수행하는 예제 코드이다.\n",
        "<br/>Huggingface의 Framework 기반으로 모델 [bert-base-uncased](https://huggingface.co/bert-base-cased)을 활용하여 MRPC Task를 수행한다.\n",
        "<br/>만약 task_name 및 다른 파라미터를 적절히 변경한 후 수행하면 다른 GLUE task도 수행할 수 있다."
      ],
      "metadata": {
        "id": "M0DQiDIYjMwj"
      }
    },
    {
      "cell_type": "markdown",
      "source": [
        "<br/>"
      ],
      "metadata": {
        "id": "EmSTcmlzteeL"
      }
    },
    {
      "cell_type": "markdown",
      "source": [
        "##bert-base-uncased MRPC Finetune"
      ],
      "metadata": {
        "id": "e71W_RpDTf57"
      }
    },
    {
      "cell_type": "code",
      "source": [
        "cd .."
      ],
      "metadata": {
        "id": "yf9ZrR55utmp"
      },
      "execution_count": null,
      "outputs": []
    },
    {
      "cell_type": "code",
      "source": [
        "pwd"
      ],
      "metadata": {
        "colab": {
          "base_uri": "https://localhost:8080/",
          "height": 35
        },
        "id": "XD7BBMdw4Oyh",
        "outputId": "14fff678-142e-40f9-bee8-7f9ef9a78b7f"
      },
      "execution_count": null,
      "outputs": [
        {
          "output_type": "execute_result",
          "data": {
            "text/plain": [
              "'/content/drive/MyDrive/lms/huggingface_glue_task'"
            ],
            "application/vnd.google.colaboratory.intrinsic+json": {
              "type": "string"
            }
          },
          "metadata": {},
          "execution_count": 90
        }
      ]
    },
    {
      "cell_type": "code",
      "source": [
        "!git clone https://github.com/google-research/bert.git"
      ],
      "metadata": {
        "id": "AaDTFfHE6mZ_"
      },
      "execution_count": null,
      "outputs": []
    },
    {
      "cell_type": "markdown",
      "source": [
        "[google-research/bert](https://github.com/google-research/bert)"
      ],
      "metadata": {
        "id": "xNDGcIOc6yqf"
      }
    },
    {
      "cell_type": "code",
      "source": [
        "url = \"https://gist.githubusercontent.com/vlasenkoalexey/fef1601580f269eca73bf26a198595f3/raw/db67cdf22eb5bd7efe376205e8a95028942e263d/download_glue_data.py\"\n",
        "savename = \"data/download_glue_data.py\"\n",
        "\n",
        "request.urlretrieve(url, savename)"
      ],
      "metadata": {
        "id": "YDQgaIOVRUfd"
      },
      "execution_count": null,
      "outputs": []
    },
    {
      "cell_type": "code",
      "source": [
        "!python data/download_glue_data.py --data_dir='data' --tasks='MRPC'"
      ],
      "metadata": {
        "colab": {
          "base_uri": "https://localhost:8080/"
        },
        "id": "gLWWzVivlDcu",
        "outputId": "6a5cf245-9d98-4cb2-e862-9953ffe4bb78"
      },
      "execution_count": null,
      "outputs": [
        {
          "output_type": "stream",
          "name": "stdout",
          "text": [
            "Processing MRPC...\n",
            "\tCompleted!\n"
          ]
        }
      ]
    },
    {
      "cell_type": "markdown",
      "source": [
        "[W4ngatang/download_glue_data.py](https://gist.github.com/W4ngatang/60c2bdb54d156a41194446737ce03e2e)을 실행하여 MRPC 데이터를 다운로드 받을 때\n",
        "<br/>AttributeError: 'NoneType' object has no attribute 'urlretrieve'가 발생한다.\n",
        "<br/>이를 디버깅하여 코드를 수정한 파일이 [vlasenkoalexe/download_glue_data.py](https://gist.github.com/vlasenkoalexey/fef1601580f269eca73bf26a198595f3)이다."
      ],
      "metadata": {
        "id": "hiUm3_69Q5kV"
      }
    },
    {
      "cell_type": "markdown",
      "source": [
        ""
      ],
      "metadata": {
        "id": "1a7SrtHbQ5rE"
      }
    },
    {
      "cell_type": "code",
      "source": [
        "# original code file\n",
        "with open(\"bert/optimization.py\", \"r\") as f:\n",
        "    code_line = f.read().splitlines()\n",
        "for code in code_line:\n",
        "    if  \"class AdamWeightDecayOptimizer\" in code:\n",
        "      print(\"\", code)"
      ],
      "metadata": {
        "colab": {
          "base_uri": "https://localhost:8080/"
        },
        "id": "RT3tWV32FnEy",
        "outputId": "c2f45dcf-952a-4c91-c2a4-0604eed4cd5c"
      },
      "execution_count": null,
      "outputs": [
        {
          "output_type": "stream",
          "name": "stdout",
          "text": [
            " class AdamWeightDecayOptimizer(tf.train.Optimizer):\n"
          ]
        }
      ]
    },
    {
      "cell_type": "code",
      "source": [
        "# revised code file\n",
        "with open(\"bert/optimization.py\", \"r\") as f:\n",
        "    code_line = f.read().splitlines()\n",
        "for code in code_line:\n",
        "    if  \"class AdamWeightDecayOptimizer\" in code:\n",
        "      print(\"\", code)"
      ],
      "metadata": {
        "colab": {
          "base_uri": "https://localhost:8080/"
        },
        "id": "8X-8QChEF25p",
        "outputId": "a69a2ff8-e30f-46bb-ea81-e41ab80430ef"
      },
      "execution_count": null,
      "outputs": [
        {
          "output_type": "stream",
          "name": "stdout",
          "text": [
            " class AdamWeightDecayOptimizer(tf.compat.v1.train.Optimizer):\n"
          ]
        }
      ]
    },
    {
      "cell_type": "markdown",
      "source": [
        "[Error importing BERT: module 'tensorflow._api.v2.train' has no attribute 'Optimizer'](https://stackoverflow.com/questions/61250311/error-importing-bert-module-tensorflow-api-v2-train-has-no-attribute-optimi)"
      ],
      "metadata": {
        "id": "qjUIMDYnBltA"
      }
    },
    {
      "cell_type": "markdown",
      "source": [
        "AttributeError: module 'tensorflow._api.v2.train' has no attribute 'Optimizer'가 발생하기 때문에\n",
        "<br/>파일 optimization.py에서 class AdamWeightDecayOptimizer(tf.train.Optimizer)를 \n",
        "<br/>class AdamWeightDecayOptimizer(tf.compat.v1.train.Optimizer)로 수정한다."
      ],
      "metadata": {
        "id": "QYUIgkiiA9gE"
      }
    },
    {
      "cell_type": "code",
      "source": [
        "# original code file\n",
        "with open(\"bert/run_classifier.py\", \"r\") as f:\n",
        "    code_line = f.read().splitlines()\n",
        "for code in code_line:\n",
        "    if  \"tf.flags\" in code:\n",
        "      print(\"\", code)\n",
        "    elif \"flags.FLAGS\" in code:\n",
        "      print(\"\", code)\n",
        "    elif \"tf.app\" in code:\n",
        "      print(\"\", code)"
      ],
      "metadata": {
        "colab": {
          "base_uri": "https://localhost:8080/"
        },
        "id": "VPVuzID-C6sN",
        "outputId": "117c03ed-7d05-48b7-d6a9-3536aa6ce5d5"
      },
      "execution_count": null,
      "outputs": [
        {
          "output_type": "stream",
          "name": "stdout",
          "text": [
            " flags = tf.flags\n",
            " FLAGS = flags.FLAGS\n",
            " tf.flags.DEFINE_string(\n",
            " tf.flags.DEFINE_string(\n",
            " tf.flags.DEFINE_string(\n",
            " tf.flags.DEFINE_string(\"master\", None, \"[Optional] TensorFlow master URL.\")\n",
            "   tf.app.run()\n"
          ]
        }
      ]
    },
    {
      "cell_type": "code",
      "source": [
        "# revised code file\n",
        "with open(\"bert/run_classifier.py\", \"r\") as f:\n",
        "    code_line = f.read().splitlines()\n",
        "for code in code_line:\n",
        "    if  \"tf.compat.v1\" in code:\n",
        "      print(\"\", code)"
      ],
      "metadata": {
        "colab": {
          "base_uri": "https://localhost:8080/"
        },
        "id": "o5Z7d9PpDgBk",
        "outputId": "800b3fca-0fc2-4da1-fde7-0987e1fe1f2c"
      },
      "execution_count": null,
      "outputs": [
        {
          "output_type": "stream",
          "name": "stdout",
          "text": [
            " flags = tf.compat.v1.flags\n",
            " tf.compat.v1.flags.DEFINE_string(\n",
            " tf.compat.v1.flags.DEFINE_string(\n",
            " tf.compat.v1.flags.DEFINE_string(\n",
            " tf.compat.v1.flags.DEFINE_string(\"master\", None, \"[Optional] TensorFlow master URL.\")\n",
            "   tf.compat.v1.app.run()\n"
          ]
        }
      ]
    },
    {
      "cell_type": "markdown",
      "source": [
        "[AttributeError: module 'tensorflow' has no attribute 'flags' #1754](https://github.com/tensorflow/tensor2tensor/issues/1754)"
      ],
      "metadata": {
        "id": "EPThHlJgCzs9"
      }
    },
    {
      "cell_type": "markdown",
      "source": [
        "AttributeError: module 'tensorflow' has no attribute 'flags'가 발생하기 때문에\n",
        "<br/>파일 run_classifier.py에서 tf.flags.FLAGS를 tf.compat.v1.flags.Flag로 수정한다."
      ],
      "metadata": {
        "id": "fLCp8iq2DjSz"
      }
    },
    {
      "cell_type": "markdown",
      "source": [
        "[AttributeError: module 'tensorflow' has no attribute 'app' #34431](https://github.com/tensorflow/tensorflow/issues/34431)"
      ],
      "metadata": {
        "id": "FUQqe3AiFo1b"
      }
    },
    {
      "cell_type": "markdown",
      "source": [
        "AttributeError: module 'tensorflow' has no attribute 'app'가 발생하기 때문에\n",
        "<br/>파일 run_classifier.py에서 tf.app를 tf.compat.v1.app로 수정한다."
      ],
      "metadata": {
        "id": "qOAzkKZ-Ft_1"
      }
    },
    {
      "cell_type": "markdown",
      "source": [
        ""
      ],
      "metadata": {
        "id": "txTmsijNDNoA"
      }
    },
    {
      "cell_type": "code",
      "source": [
        "!python bert/run_classifier.py \\\n",
        "  --task_name MRPC \\\n",
        "  --do_train \\\n",
        "  --do_eval \\\n",
        "  --do_lower_case \\\n",
        "  --data_dir data/glue_data/MRPC \\\n",
        "  --bert_model bert-base-uncased \\\n",
        "  --max_seq_length 128 \\\n",
        "  --train_batch_size 32 \\\n",
        "  --learning_rate 2e-5 \\\n",
        "  --num_train_epochs 3.0 \\\n",
        "  --output_dir test_mrpc"
      ],
      "metadata": {
        "colab": {
          "base_uri": "https://localhost:8080/"
        },
        "id": "AQAm2O2YHGhE",
        "outputId": "68ac2d01-6320-4a06-aea0-41e17550e883"
      },
      "execution_count": null,
      "outputs": [
        {
          "output_type": "stream",
          "name": "stdout",
          "text": [
            "Traceback (most recent call last):\n",
            "  File \"bert/run_classifier.py\", line 981, in <module>\n",
            "    tf.compat.v1.app.run()\n",
            "  File \"/usr/local/lib/python3.7/dist-packages/tensorflow/python/platform/app.py\", line 36, in run\n",
            "    _run(main=main, argv=argv, flags_parser=_parse_flags_tolerate_undef)\n",
            "  File \"/usr/local/lib/python3.7/dist-packages/absl/app.py\", line 302, in run\n",
            "    flags_parser,\n",
            "  File \"/usr/local/lib/python3.7/dist-packages/absl/app.py\", line 371, in _run_init\n",
            "    flags_parser=flags_parser,\n",
            "  File \"/usr/local/lib/python3.7/dist-packages/absl/app.py\", line 216, in _register_and_parse_flags_with_usage\n",
            "    args_to_main = flags_parser(original_argv)\n",
            "  File \"/usr/local/lib/python3.7/dist-packages/tensorflow/python/platform/app.py\", line 27, in _parse_flags_tolerate_undef\n",
            "    return flags.FLAGS(_sys.argv if argv is None else argv, known_only=True)\n",
            "  File \"/usr/local/lib/python3.7/dist-packages/tensorflow/python/platform/flags.py\", line 109, in __call__\n",
            "    return self.__dict__['__wrapped'].__call__(*args, **kwargs)\n",
            "  File \"/usr/local/lib/python3.7/dist-packages/absl/flags/_flagvalues.py\", line 653, in __call__\n",
            "    self.validate_all_flags()\n",
            "  File \"/usr/local/lib/python3.7/dist-packages/absl/flags/_flagvalues.py\", line 513, in validate_all_flags\n",
            "    self._assert_validators(all_validators)\n",
            "  File \"/usr/local/lib/python3.7/dist-packages/absl/flags/_flagvalues.py\", line 548, in _assert_validators\n",
            "    raise _exceptions.IllegalFlagValueError('\\n'.join(messages))\n",
            "absl.flags._exceptions.IllegalFlagValueError: flag --vocab_file=None: Flag --vocab_file must have a value other than None.\n",
            "flag --bert_config_file=None: Flag --bert_config_file must have a value other than None.\n"
          ]
        }
      ]
    },
    {
      "cell_type": "markdown",
      "source": [
        "모델 [bert-base-uncased](https://huggingface.co/bert-base-uncased)를 사용한다."
      ],
      "metadata": {
        "id": "xHJL6JLvZqS-"
      }
    },
    {
      "cell_type": "markdown",
      "source": [
        "[Zhen-Dong/QBERT/NLP-quantization/Fine-tuning with BERT: examples](https://githubmemory.com/index.php/repo/Zhen-Dong/QBERT)"
      ],
      "metadata": {
        "id": "VH8VCSm_J6ua"
      }
    },
    {
      "cell_type": "markdown",
      "source": [
        "absl.flags._exceptions.IllegalFlagValueError가 발생한다."
      ],
      "metadata": {
        "id": "a0HGmJk48W-1"
      }
    },
    {
      "cell_type": "markdown",
      "source": [
        "<br/>"
      ],
      "metadata": {
        "id": "DbeOeHinDAzK"
      }
    },
    {
      "cell_type": "markdown",
      "source": [
        "##google/bert_uncased_L-12_H-768_A-12 MRPC Finetune"
      ],
      "metadata": {
        "id": "xzVZ8AN3teXJ"
      }
    },
    {
      "cell_type": "code",
      "source": [
        "pwd"
      ],
      "metadata": {
        "colab": {
          "base_uri": "https://localhost:8080/",
          "height": 35
        },
        "id": "K5qJWrtr0FXn",
        "outputId": "506c89f6-6c37-4625-98ec-a960a4ee7f9e"
      },
      "execution_count": null,
      "outputs": [
        {
          "output_type": "execute_result",
          "data": {
            "text/plain": [
              "'/content/drive/MyDrive/lms/huggingface_glue_task'"
            ],
            "application/vnd.google.colaboratory.intrinsic+json": {
              "type": "string"
            }
          },
          "metadata": {},
          "execution_count": 57
        }
      ]
    },
    {
      "cell_type": "code",
      "source": [
        "# !git clone https://github.com/google-research/bert.git\n",
        "ls"
      ],
      "metadata": {
        "colab": {
          "base_uri": "https://localhost:8080/"
        },
        "id": "PJFd9rTHey1J",
        "outputId": "231222b0-99fb-4b82-fc7b-bc4883e78d9c"
      },
      "execution_count": null,
      "outputs": [
        {
          "output_type": "stream",
          "name": "stdout",
          "text": [
            "\u001b[0m\u001b[01;34mbert\u001b[0m/                               \u001b[01;34mkcbert_base_mlm\u001b[0m/     \u001b[01;34mtransfomers_v4.21.1\u001b[0m/\n",
            "\u001b[01;34mbert_uncased_L-12_H-768_A-12_mrpc\u001b[0m/  library_version.txt\n",
            "\u001b[01;34mdata\u001b[0m/                               \u001b[01;34mtest_mnli\u001b[0m/\n"
          ]
        }
      ]
    },
    {
      "cell_type": "markdown",
      "source": [
        "[google-research/bert](https://github.com/google-research/bert)"
      ],
      "metadata": {
        "id": "iXutKPgRYVdK"
      }
    },
    {
      "cell_type": "code",
      "source": [
        "url_path_dict = {\"https://huggingface.co/google/bert_uncased_L-12_H-768_A-12/blob/main/vocab.txt\" : \"data/bert_uncased_L-12_H-768_A-12/vocab.txt\",\n",
        "            \"https://huggingface.co/google/bert_uncased_L-12_H-768_A-12/blob/main/bert_model.ckpt.data-00000-of-00001\" : \"data/bert_uncased_L-12_H-768_A-12/bert_model.ckpt.data-00000-of-00001\",\n",
        "            \"https://huggingface.co/google/bert_uncased_L-12_H-768_A-12/blob/main/config.json\" : \"data/bert_uncased_L-12_H-768_A-12/config.json\"}\n",
        "\n",
        "for url, save_path in url_path_dict.items():\n",
        "  request.urlretrieve(url, save_path)"
      ],
      "metadata": {
        "id": "KFBcDbKfXOwW"
      },
      "execution_count": null,
      "outputs": []
    },
    {
      "cell_type": "markdown",
      "source": [
        "모델 [google/bert_uncased_L-12_H-768_A-12](https://huggingface.co/google/bert_uncased_L-12_H-768_A-12/tree/main)를 사용한다."
      ],
      "metadata": {
        "id": "Y8INMtZMyoBP"
      }
    },
    {
      "cell_type": "code",
      "source": [
        "# original code file\n",
        "with open(\"bert/run_classifier.py\", \"r\") as f:\n",
        "    code_line = f.read().splitlines()\n",
        "for code in code_line:\n",
        "    if \"tf.logging\" in code:\n",
        "      print(\"\", code)\n",
        "    elif \"do_lower_case\" in code:\n",
        "      print(\"\", code)"
      ],
      "metadata": {
        "colab": {
          "base_uri": "https://localhost:8080/"
        },
        "id": "h6tqk6VQ1o1v",
        "outputId": "ccb737ca-09c0-454c-841e-5fd008316ee5"
      },
      "execution_count": null,
      "outputs": [
        {
          "output_type": "stream",
          "name": "stdout",
          "text": [
            "     \"do_lower_case\", True,\n",
            "     tf.logging.info(\"*** Example ***\")\n",
            "     tf.logging.info(\"guid: %s\" % (example.guid))\n",
            "     tf.logging.info(\"tokens: %s\" % \" \".join(\n",
            "     tf.logging.info(\"input_ids: %s\" % \" \".join([str(x) for x in input_ids]))\n",
            "     tf.logging.info(\"input_mask: %s\" % \" \".join([str(x) for x in input_mask]))\n",
            "     tf.logging.info(\"segment_ids: %s\" % \" \".join([str(x) for x in segment_ids]))\n",
            "     tf.logging.info(\"label: %s (id = %d)\" % (example.label, label_id))\n",
            "       tf.logging.info(\"Writing example %d of %d\" % (ex_index, len(examples)))\n",
            "     tf.logging.info(\"*** Features ***\")\n",
            "       tf.logging.info(\"  name = %s, shape = %s\" % (name, features[name].shape))\n",
            "     tf.logging.info(\"**** Trainable Variables ****\")\n",
            "       tf.logging.info(\"  name = %s, shape = %s%s\", var.name, var.shape,\n",
            "       tf.logging.info(\"Writing example %d of %d\" % (ex_index, len(examples)))\n",
            "   tf.logging.set_verbosity(tf.logging.INFO)\n",
            "   tokenization.validate_case_matches_checkpoint(FLAGS.do_lower_case,\n",
            "       vocab_file=FLAGS.vocab_file, do_lower_case=FLAGS.do_lower_case)\n",
            "     tf.logging.info(\"***** Running training *****\")\n",
            "     tf.logging.info(\"  Num examples = %d\", len(train_examples))\n",
            "     tf.logging.info(\"  Batch size = %d\", FLAGS.train_batch_size)\n",
            "     tf.logging.info(\"  Num steps = %d\", num_train_steps)\n",
            "     tf.logging.info(\"***** Running evaluation *****\")\n",
            "     tf.logging.info(\"  Num examples = %d (%d actual, %d padding)\",\n",
            "     tf.logging.info(\"  Batch size = %d\", FLAGS.eval_batch_size)\n",
            "       tf.logging.info(\"***** Eval results *****\")\n",
            "         tf.logging.info(\"  %s = %s\", key, str(result[key]))\n",
            "     tf.logging.info(\"***** Running prediction*****\")\n",
            "     tf.logging.info(\"  Num examples = %d (%d actual, %d padding)\",\n",
            "     tf.logging.info(\"  Batch size = %d\", FLAGS.predict_batch_size)\n",
            "       tf.logging.info(\"***** Predict results *****\")\n"
          ]
        }
      ]
    },
    {
      "cell_type": "code",
      "source": [
        "#revised code file\n",
        "with open(\"bert/run_classifier.py\", \"r\") as f:\n",
        "    code_line = f.read().splitlines()\n",
        "for code in code_line:\n",
        "    if \"tf.compat.v1.logging\" in code:\n",
        "      print(\"\", code)\n",
        "    elif \"do_lower_case\" in code:\n",
        "      print(\"\", code)"
      ],
      "metadata": {
        "colab": {
          "base_uri": "https://localhost:8080/"
        },
        "id": "Uf1aJdPc7qO2",
        "outputId": "eae2880a-3da3-438c-ef47-074dd3def560"
      },
      "execution_count": null,
      "outputs": [
        {
          "output_type": "stream",
          "name": "stdout",
          "text": [
            "     tf.compat.v1.logging.info(\"*** Example ***\")\n",
            "     tf.compat.v1.logging.info(\"guid: %s\" % (example.guid))\n",
            "     tf.compat.v1.logging.info(\"tokens: %s\" % \" \".join(\n",
            "     tf.compat.v1.logging.info(\"input_ids: %s\" % \" \".join([str(x) for x in input_ids]))\n",
            "     tf.compat.v1.logging.info(\"input_mask: %s\" % \" \".join([str(x) for x in input_mask]))\n",
            "     tf.compat.v1.logging.info(\"segment_ids: %s\" % \" \".join([str(x) for x in segment_ids]))\n",
            "     tf.compat.v1.logging.info(\"label: %s (id = %d)\" % (example.label, label_id))\n",
            "       tf.compat.v1.logging.info(\"Writing example %d of %d\" % (ex_index, len(examples)))\n",
            "     tf.compat.v1.logging.info(\"*** Features ***\")\n",
            "       tf.compat.v1.logging.info(\"  name = %s, shape = %s\" % (name, features[name].shape))\n",
            "     tf.compat.v1.logging.info(\"**** Trainable Variables ****\")\n",
            "       tf.compat.v1.logging.info(\"  name = %s, shape = %s%s\", var.name, var.shape,\n",
            "       tf.compat.v1.logging.info(\"Writing example %d of %d\" % (ex_index, len(examples)))\n",
            "   tf.compat.v1.logging.set_verbosity(tf.compat.v1.logging.INFO)\n",
            "     tf.compat.v1.logging.info(\"***** Running training *****\")\n",
            "     tf.compat.v1.logging.info(\"  Num examples = %d\", len(train_examples))\n",
            "     tf.compat.v1.logging.info(\"  Batch size = %d\", FLAGS.train_batch_size)\n",
            "     tf.compat.v1.logging.info(\"  Num steps = %d\", num_train_steps)\n",
            "     tf.compat.v1.logging.info(\"***** Running evaluation *****\")\n",
            "     tf.compat.v1.logging.info(\"  Num examples = %d (%d actual, %d padding)\",\n",
            "     tf.compat.v1.logging.info(\"  Batch size = %d\", FLAGS.eval_batch_size)\n",
            "       tf.compat.v1.logging.info(\"***** Eval results *****\")\n",
            "         tf.compat.v1.logging.info(\"  %s = %s\", key, str(result[key]))\n",
            "     tf.compat.v1.logging.info(\"***** Running prediction*****\")\n",
            "     tf.compat.v1.logging.info(\"  Num examples = %d (%d actual, %d padding)\",\n",
            "     tf.compat.v1.logging.info(\"  Batch size = %d\", FLAGS.predict_batch_size)\n",
            "       tf.compat.v1.logging.info(\"***** Predict results *****\")\n"
          ]
        }
      ]
    },
    {
      "cell_type": "markdown",
      "source": [
        "[AttributeError: module 'tensorflow' has no attribute 'logging'](https://systemout.tistory.com/8)"
      ],
      "metadata": {
        "id": "91Pcchph6d8c"
      }
    },
    {
      "cell_type": "markdown",
      "source": [
        "AttributeError: module 'tensorflow' has no attribute 'logging'이 발생하기 때문에\n",
        "<br/>파일 run_classifier.py에서 tf.logging 대신 tf.compat.v1.logging로 수정한다."
      ],
      "metadata": {
        "id": "IkSjG7rT6O0l"
      }
    },
    {
      "cell_type": "markdown",
      "source": [
        "AttributeError: type object 'Flag' has no attribute 'do_lower_case'가 발생하기 때문에\n",
        "<br/>파일 run_classifier.py에서 do_lower_case를 제외한다."
      ],
      "metadata": {
        "id": "AYzJiTVB6qyN"
      }
    },
    {
      "cell_type": "markdown",
      "source": [
        ""
      ],
      "metadata": {
        "id": "eI2OU5xz6q0t"
      }
    },
    {
      "cell_type": "code",
      "source": [
        "!python bert/run_classifier.py \\\n",
        "  --task_name=MRPC \\\n",
        "  --do_train=true \\\n",
        "  --do_eval=true \\\n",
        "  --data_dir data/MRPC \\\n",
        "  --vocab_file data/bert_uncased_L-12_H-768_A-12/vocab.txt \\\n",
        "  --bert_config_file data/bert_uncased_L-12_H-768_A-12/config.json \\\n",
        "  --init_checkpoin data/bert_uncased_L-12_H-768_A-12/bert_model.ckpt.data-00000-of-00001 \\\n",
        "  --max_seq_length=128 \\\n",
        "  --train_batch_size=32 \\\n",
        "  --learning_rate=2e-5 \\\n",
        "  --num_train_epochs=3.0 \\\n",
        "  --output_dir bert_uncased_L-12_H-768_A-12_mrpc \\"
      ],
      "metadata": {
        "colab": {
          "base_uri": "https://localhost:8080/"
        },
        "id": "QqfiwsUytgIo",
        "outputId": "ecee82e3-c307-4ec2-84b5-db245cc3adc4"
      },
      "execution_count": null,
      "outputs": [
        {
          "output_type": "stream",
          "name": "stdout",
          "text": [
            "Traceback (most recent call last):\n",
            "  File \"bert/run_classifier.py\", line 60, in <module>\n",
            "    \"Whether to lower case the input text. Should be True for uncased \"\n",
            "  File \"/usr/local/lib/python3.7/dist-packages/tensorflow/python/platform/flags.py\", line 55, in wrapper\n",
            "    return original_function(*args, **kwargs)\n",
            "TypeError: DEFINE_boolean() missing 2 required positional arguments: 'default' and 'help'\n"
          ]
        }
      ]
    },
    {
      "cell_type": "markdown",
      "source": [
        "[google-research/bert/Sentence (and sentence-pair) classification tasks](https://github.com/google-research/bert)"
      ],
      "metadata": {
        "id": "eF-wRvFg-gw0"
      }
    },
    {
      "cell_type": "markdown",
      "source": [
        "TypeError: DEFINE_boolean() missing 2 required positional arguments: 'default' and 'help'가 발생한다."
      ],
      "metadata": {
        "id": "834xMXRT7kYN"
      }
    },
    {
      "cell_type": "markdown",
      "source": [
        "<br/>"
      ],
      "metadata": {
        "id": "4qJdQ7OLDFH7"
      }
    },
    {
      "cell_type": "markdown",
      "source": [
        "##Debugging"
      ],
      "metadata": {
        "id": "skhrrQE8Rad5"
      }
    },
    {
      "cell_type": "markdown",
      "source": [
        "HuggingFace에 등록된 MRPC 모델의 CLI 코드를 실행했다.\n",
        "<br/>bert-base-cased MRPC\n",
        "<br/>bert-base-uncased MRPC\n",
        "<br/>bert_uncased_L-12_H-768_A-12 MRPC"
      ],
      "metadata": {
        "id": "CD5noHDgWepP"
      }
    },
    {
      "cell_type": "markdown",
      "source": [
        "Tensorflow 버전 차이 때문에 AttributeError, TyperError가 발생한다.\n",
        "<br/>py 파일을 여러 번 수정해도 또 다른 에러가 떠서 아예 코드 전체를 바꿔야 하는 디버깅 작업이 요구된다."
      ],
      "metadata": {
        "id": "XiSj-ftIWz9m"
      }
    },
    {
      "cell_type": "markdown",
      "source": [
        "\n",
        "이러한 상황에서 그 작동 코드의 옛날 버전에 맞는 가상환경을 구축하거나\n",
        "<br/>코드 전체를 바꿔서 원작자에게 연락하여 Github Contributor가 되는 문제 해결 방법이 있는 것인가?\n",
        "<br/>개발자는 모델 개발과 배포 프로세스에서 발생한 이슈에 어떻게 대처하는가?"
      ],
      "metadata": {
        "id": "WR4MAvNzWs3Z"
      }
    },
    {
      "cell_type": "markdown",
      "source": [
        "<br/>"
      ],
      "metadata": {
        "id": "zoHB7FpdX0fH"
      }
    },
    {
      "cell_type": "markdown",
      "source": [
        "#Transformer Pipeline"
      ],
      "metadata": {
        "id": "D-r5T2gsVVtx"
      }
    },
    {
      "cell_type": "markdown",
      "source": [
        "[huggingface transformer basic usage](https://www.kaggle.com/code/nageshsingh/huggingface-transformer-basic-usage)"
      ],
      "metadata": {
        "id": "E4RgiLmjPw-_"
      }
    },
    {
      "cell_type": "markdown",
      "source": [
        "##Text generation"
      ],
      "metadata": {
        "id": "gO3gWYF2W8T5"
      }
    },
    {
      "cell_type": "code",
      "source": [
        "pwd"
      ],
      "metadata": {
        "colab": {
          "base_uri": "https://localhost:8080/",
          "height": 35
        },
        "id": "vb9svU6hV2SE",
        "outputId": "7e0d8e6b-ece9-4f6d-977a-f551aef0a455"
      },
      "execution_count": null,
      "outputs": [
        {
          "output_type": "execute_result",
          "data": {
            "text/plain": [
              "'/content/drive/MyDrive/lms/huggingface_glue_task'"
            ],
            "application/vnd.google.colaboratory.intrinsic+json": {
              "type": "string"
            }
          },
          "metadata": {},
          "execution_count": 92
        }
      ]
    },
    {
      "cell_type": "code",
      "source": [
        "ls"
      ],
      "metadata": {
        "colab": {
          "base_uri": "https://localhost:8080/"
        },
        "id": "6lWhHpZGf9zb",
        "outputId": "78a84246-b79d-4e0c-d70e-608436fd4e9b"
      },
      "execution_count": null,
      "outputs": [
        {
          "output_type": "stream",
          "name": "stdout",
          "text": [
            "\u001b[0m\u001b[01;34mbert\u001b[0m/                               \u001b[01;34mkcbert_base_mlm\u001b[0m/     \u001b[01;34mtransfomers_v4.21.1\u001b[0m/\n",
            "\u001b[01;34mbert_uncased_L-12_H-768_A-12_mrpc\u001b[0m/  library_version.txt\n",
            "\u001b[01;34mdata\u001b[0m/                               \u001b[01;34mtest_mnli\u001b[0m/\n"
          ]
        }
      ]
    },
    {
      "cell_type": "code",
      "source": [
        "cd transfomers_v4.21.1"
      ],
      "metadata": {
        "id": "SVEUK3aLV55V"
      },
      "execution_count": null,
      "outputs": []
    },
    {
      "cell_type": "code",
      "source": [
        "from transformers import pipeline, set_seed"
      ],
      "metadata": {
        "id": "_8r3QfJAT1QY"
      },
      "execution_count": null,
      "outputs": []
    },
    {
      "cell_type": "code",
      "source": [
        "generator = pipeline('text-generation', model='gpt2')\n",
        "set_seed(123)\n",
        "text_generation_dict = generator(\"Hello, I like to play soccer,\", max_length=60, num_return_sequences=7)\n",
        "print(\"\\n\")\n",
        "pd.set_option('display.max_colwidth', None)\n",
        "text_generation_df = pd.DataFrame.from_dict(text_generation_dict)\n",
        "display(text_generation_df.style.set_properties(**{'white-space': 'pre-wrap'}))"
      ],
      "metadata": {
        "colab": {
          "base_uri": "https://localhost:8080/",
          "height": 567
        },
        "id": "8SizhkQKSaMQ",
        "outputId": "fe55f73b-a2b8-4dc7-9438-791cfcde48ad"
      },
      "execution_count": null,
      "outputs": [
        {
          "output_type": "stream",
          "name": "stderr",
          "text": [
            "Setting `pad_token_id` to `eos_token_id`:50256 for open-end generation.\n"
          ]
        },
        {
          "output_type": "stream",
          "name": "stdout",
          "text": [
            "\n",
            "\n"
          ]
        },
        {
          "output_type": "display_data",
          "data": {
            "text/plain": [
              "<pandas.io.formats.style.Styler at 0x7fce51eb9c50>"
            ],
            "text/html": [
              "<style type=\"text/css\">\n",
              "#T_a2a77_row0_col0, #T_a2a77_row1_col0, #T_a2a77_row2_col0, #T_a2a77_row3_col0, #T_a2a77_row4_col0, #T_a2a77_row5_col0, #T_a2a77_row6_col0 {\n",
              "  white-space: pre-wrap;\n",
              "}\n",
              "</style>\n",
              "<table id=\"T_a2a77_\" class=\"dataframe\">\n",
              "  <thead>\n",
              "    <tr>\n",
              "      <th class=\"blank level0\" >&nbsp;</th>\n",
              "      <th class=\"col_heading level0 col0\" >generated_text</th>\n",
              "    </tr>\n",
              "  </thead>\n",
              "  <tbody>\n",
              "    <tr>\n",
              "      <th id=\"T_a2a77_level0_row0\" class=\"row_heading level0 row0\" >0</th>\n",
              "      <td id=\"T_a2a77_row0_col0\" class=\"data row0 col0\" >Hello, I like to play soccer, not basketball. It's an interesting sport and I like that.\n",
              "\n",
              "\"Well, it's not like I'm playing. It's more like I'm just not really doing it, playing a team game in Brazil. No I don't. I'm</td>\n",
              "    </tr>\n",
              "    <tr>\n",
              "      <th id=\"T_a2a77_level0_row1\" class=\"row_heading level0 row1\" >1</th>\n",
              "      <td id=\"T_a2a77_row1_col0\" class=\"data row1 col0\" >Hello, I like to play soccer, I am very good at that,\" said Nel-Kaem.\n",
              "\n",
              "The 30-year old center forward played for the Czech Republic under the former president Viktor Orban this past year and played collegiately in his position for the Republic and the European</td>\n",
              "    </tr>\n",
              "    <tr>\n",
              "      <th id=\"T_a2a77_level0_row2\" class=\"row_heading level0 row2\" >2</th>\n",
              "      <td id=\"T_a2a77_row2_col0\" class=\"data row2 col0\" >Hello, I like to play soccer, but I am not one of those people who likes to play in the middle of the ball. It might be a sign or an excuse to get up early, but it seems like an important issue to me to take care of.\"\n",
              "\n",
              "Still, he added</td>\n",
              "    </tr>\n",
              "    <tr>\n",
              "      <th id=\"T_a2a77_level0_row3\" class=\"row_heading level0 row3\" >3</th>\n",
              "      <td id=\"T_a2a77_row3_col0\" class=\"data row3 col0\" >Hello, I like to play soccer, so I like to spend a lot of time with those kids in the morning, just walking by the water.\"</td>\n",
              "    </tr>\n",
              "    <tr>\n",
              "      <th id=\"T_a2a77_level0_row4\" class=\"row_heading level0 row4\" >4</th>\n",
              "      <td id=\"T_a2a77_row4_col0\" class=\"data row4 col0\" >Hello, I like to play soccer, it is the only way I have managed to do it since then.\"\n",
              "\n",
              "\"Yes,\" said Harry, and he turned to look at him. He was wearing only a short coat but he seemed pleased at how he managed to play even in this dark night</td>\n",
              "    </tr>\n",
              "    <tr>\n",
              "      <th id=\"T_a2a77_level0_row5\" class=\"row_heading level0 row5\" >5</th>\n",
              "      <td id=\"T_a2a77_row5_col0\" class=\"data row5 col0\" >Hello, I like to play soccer, you know, and I do play soccer too,\" says Darnell, who played on his soccer team. \"But football, it's a different environment, it's much more physical and has many better technical abilities. I didn't feel like I had to</td>\n",
              "    </tr>\n",
              "    <tr>\n",
              "      <th id=\"T_a2a77_level0_row6\" class=\"row_heading level0 row6\" >6</th>\n",
              "      <td id=\"T_a2a77_row6_col0\" class=\"data row6 col0\" >Hello, I like to play soccer, but I play basketball. The way I play, I'm not in my late 40's but I'm ready, I'm ready to be here.\"\n",
              "\n",
              "One fan at the home of Portland's star midfielder is even taking advantage of the chance to get into</td>\n",
              "    </tr>\n",
              "  </tbody>\n",
              "</table>\n"
            ]
          },
          "metadata": {}
        }
      ]
    },
    {
      "cell_type": "markdown",
      "source": [
        "##Sentiment analysis"
      ],
      "metadata": {
        "id": "YdeQ5fkSWyLb"
      }
    },
    {
      "cell_type": "code",
      "source": [
        "classifier = pipeline('sentiment-analysis', model='gpt2')\n",
        "set_seed(123)\n",
        "sentiment_anlysis_dict = classifier('We are very happy to introduce pipeline to the transformers repository.')\n",
        "print(\"\\n\")\n",
        "sentiment_anlysis_df = pd.DataFrame(sentiment_anlysis_dict).round(4)\n",
        "sentiment_anlysis_df"
      ],
      "metadata": {
        "colab": {
          "base_uri": "https://localhost:8080/",
          "height": 174
        },
        "id": "yhm5bCVjvmv2",
        "outputId": "cea3dc36-bd25-4294-96f3-36426b475092"
      },
      "execution_count": null,
      "outputs": [
        {
          "output_type": "stream",
          "name": "stderr",
          "text": [
            "Some weights of GPT2ForSequenceClassification were not initialized from the model checkpoint at gpt2 and are newly initialized: ['score.weight']\n",
            "You should probably TRAIN this model on a down-stream task to be able to use it for predictions and inference.\n"
          ]
        },
        {
          "output_type": "stream",
          "name": "stdout",
          "text": [
            "\n",
            "\n"
          ]
        },
        {
          "output_type": "execute_result",
          "data": {
            "text/plain": [
              "     label   score\n",
              "0  LABEL_0  0.6714"
            ],
            "text/html": [
              "\n",
              "  <div id=\"df-1b1c6077-1c59-463e-ac2b-5c963566a6f1\">\n",
              "    <div class=\"colab-df-container\">\n",
              "      <div>\n",
              "<style scoped>\n",
              "    .dataframe tbody tr th:only-of-type {\n",
              "        vertical-align: middle;\n",
              "    }\n",
              "\n",
              "    .dataframe tbody tr th {\n",
              "        vertical-align: top;\n",
              "    }\n",
              "\n",
              "    .dataframe thead th {\n",
              "        text-align: right;\n",
              "    }\n",
              "</style>\n",
              "<table border=\"1\" class=\"dataframe\">\n",
              "  <thead>\n",
              "    <tr style=\"text-align: right;\">\n",
              "      <th></th>\n",
              "      <th>label</th>\n",
              "      <th>score</th>\n",
              "    </tr>\n",
              "  </thead>\n",
              "  <tbody>\n",
              "    <tr>\n",
              "      <th>0</th>\n",
              "      <td>LABEL_0</td>\n",
              "      <td>0.6714</td>\n",
              "    </tr>\n",
              "  </tbody>\n",
              "</table>\n",
              "</div>\n",
              "      <button class=\"colab-df-convert\" onclick=\"convertToInteractive('df-1b1c6077-1c59-463e-ac2b-5c963566a6f1')\"\n",
              "              title=\"Convert this dataframe to an interactive table.\"\n",
              "              style=\"display:none;\">\n",
              "        \n",
              "  <svg xmlns=\"http://www.w3.org/2000/svg\" height=\"24px\"viewBox=\"0 0 24 24\"\n",
              "       width=\"24px\">\n",
              "    <path d=\"M0 0h24v24H0V0z\" fill=\"none\"/>\n",
              "    <path d=\"M18.56 5.44l.94 2.06.94-2.06 2.06-.94-2.06-.94-.94-2.06-.94 2.06-2.06.94zm-11 1L8.5 8.5l.94-2.06 2.06-.94-2.06-.94L8.5 2.5l-.94 2.06-2.06.94zm10 10l.94 2.06.94-2.06 2.06-.94-2.06-.94-.94-2.06-.94 2.06-2.06.94z\"/><path d=\"M17.41 7.96l-1.37-1.37c-.4-.4-.92-.59-1.43-.59-.52 0-1.04.2-1.43.59L10.3 9.45l-7.72 7.72c-.78.78-.78 2.05 0 2.83L4 21.41c.39.39.9.59 1.41.59.51 0 1.02-.2 1.41-.59l7.78-7.78 2.81-2.81c.8-.78.8-2.07 0-2.86zM5.41 20L4 18.59l7.72-7.72 1.47 1.35L5.41 20z\"/>\n",
              "  </svg>\n",
              "      </button>\n",
              "      \n",
              "  <style>\n",
              "    .colab-df-container {\n",
              "      display:flex;\n",
              "      flex-wrap:wrap;\n",
              "      gap: 12px;\n",
              "    }\n",
              "\n",
              "    .colab-df-convert {\n",
              "      background-color: #E8F0FE;\n",
              "      border: none;\n",
              "      border-radius: 50%;\n",
              "      cursor: pointer;\n",
              "      display: none;\n",
              "      fill: #1967D2;\n",
              "      height: 32px;\n",
              "      padding: 0 0 0 0;\n",
              "      width: 32px;\n",
              "    }\n",
              "\n",
              "    .colab-df-convert:hover {\n",
              "      background-color: #E2EBFA;\n",
              "      box-shadow: 0px 1px 2px rgba(60, 64, 67, 0.3), 0px 1px 3px 1px rgba(60, 64, 67, 0.15);\n",
              "      fill: #174EA6;\n",
              "    }\n",
              "\n",
              "    [theme=dark] .colab-df-convert {\n",
              "      background-color: #3B4455;\n",
              "      fill: #D2E3FC;\n",
              "    }\n",
              "\n",
              "    [theme=dark] .colab-df-convert:hover {\n",
              "      background-color: #434B5C;\n",
              "      box-shadow: 0px 1px 3px 1px rgba(0, 0, 0, 0.15);\n",
              "      filter: drop-shadow(0px 1px 2px rgba(0, 0, 0, 0.3));\n",
              "      fill: #FFFFFF;\n",
              "    }\n",
              "  </style>\n",
              "\n",
              "      <script>\n",
              "        const buttonEl =\n",
              "          document.querySelector('#df-1b1c6077-1c59-463e-ac2b-5c963566a6f1 button.colab-df-convert');\n",
              "        buttonEl.style.display =\n",
              "          google.colab.kernel.accessAllowed ? 'block' : 'none';\n",
              "\n",
              "        async function convertToInteractive(key) {\n",
              "          const element = document.querySelector('#df-1b1c6077-1c59-463e-ac2b-5c963566a6f1');\n",
              "          const dataTable =\n",
              "            await google.colab.kernel.invokeFunction('convertToInteractive',\n",
              "                                                     [key], {});\n",
              "          if (!dataTable) return;\n",
              "\n",
              "          const docLinkHtml = 'Like what you see? Visit the ' +\n",
              "            '<a target=\"_blank\" href=https://colab.research.google.com/notebooks/data_table.ipynb>data table notebook</a>'\n",
              "            + ' to learn more about interactive tables.';\n",
              "          element.innerHTML = '';\n",
              "          dataTable['output_type'] = 'display_data';\n",
              "          await google.colab.output.renderOutput(dataTable, element);\n",
              "          const docLink = document.createElement('div');\n",
              "          docLink.innerHTML = docLinkHtml;\n",
              "          element.appendChild(docLink);\n",
              "        }\n",
              "      </script>\n",
              "    </div>\n",
              "  </div>\n",
              "  "
            ]
          },
          "metadata": {},
          "execution_count": 37
        }
      ]
    },
    {
      "cell_type": "markdown",
      "source": [
        "##Question Answering"
      ],
      "metadata": {
        "id": "ZmameQzHXA4q"
      }
    },
    {
      "cell_type": "code",
      "source": [
        "question_answerer = pipeline('question-answering')\n",
        "question_answering_dict = question_answerer({\n",
        "    'question': 'What is the Newtons third law of motion?',\n",
        "    'context': 'Newton’s third law of motion states that, \"For every action there is equal and opposite reaction\"'})\n",
        "print(\"\\n\")\n",
        "question_answering_df = pd.DataFrame([question_answering_dict]).round(4)\n",
        "question_answering_df "
      ],
      "metadata": {
        "colab": {
          "base_uri": "https://localhost:8080/",
          "height": 174
        },
        "id": "J0vCTDjNSnpR",
        "outputId": "514f0135-e277-42ba-d9e6-1301b9ae5147"
      },
      "execution_count": null,
      "outputs": [
        {
          "output_type": "stream",
          "name": "stderr",
          "text": [
            "No model was supplied, defaulted to distilbert-base-cased-distilled-squad and revision 626af31 (https://huggingface.co/distilbert-base-cased-distilled-squad).\n",
            "Using a pipeline without specifying a model name and revision in production is not recommended.\n"
          ]
        },
        {
          "output_type": "stream",
          "name": "stdout",
          "text": [
            "\n",
            "\n"
          ]
        },
        {
          "output_type": "execute_result",
          "data": {
            "text/plain": [
              "    score  start  end                                                   answer\n",
              "0  0.6063  42     97   \"For every action there is equal and opposite reaction\""
            ],
            "text/html": [
              "\n",
              "  <div id=\"df-181b013f-ca30-4d12-8932-22f6c4f1df5a\">\n",
              "    <div class=\"colab-df-container\">\n",
              "      <div>\n",
              "<style scoped>\n",
              "    .dataframe tbody tr th:only-of-type {\n",
              "        vertical-align: middle;\n",
              "    }\n",
              "\n",
              "    .dataframe tbody tr th {\n",
              "        vertical-align: top;\n",
              "    }\n",
              "\n",
              "    .dataframe thead th {\n",
              "        text-align: right;\n",
              "    }\n",
              "</style>\n",
              "<table border=\"1\" class=\"dataframe\">\n",
              "  <thead>\n",
              "    <tr style=\"text-align: right;\">\n",
              "      <th></th>\n",
              "      <th>score</th>\n",
              "      <th>start</th>\n",
              "      <th>end</th>\n",
              "      <th>answer</th>\n",
              "    </tr>\n",
              "  </thead>\n",
              "  <tbody>\n",
              "    <tr>\n",
              "      <th>0</th>\n",
              "      <td>0.6063</td>\n",
              "      <td>42</td>\n",
              "      <td>97</td>\n",
              "      <td>\"For every action there is equal and opposite reaction\"</td>\n",
              "    </tr>\n",
              "  </tbody>\n",
              "</table>\n",
              "</div>\n",
              "      <button class=\"colab-df-convert\" onclick=\"convertToInteractive('df-181b013f-ca30-4d12-8932-22f6c4f1df5a')\"\n",
              "              title=\"Convert this dataframe to an interactive table.\"\n",
              "              style=\"display:none;\">\n",
              "        \n",
              "  <svg xmlns=\"http://www.w3.org/2000/svg\" height=\"24px\"viewBox=\"0 0 24 24\"\n",
              "       width=\"24px\">\n",
              "    <path d=\"M0 0h24v24H0V0z\" fill=\"none\"/>\n",
              "    <path d=\"M18.56 5.44l.94 2.06.94-2.06 2.06-.94-2.06-.94-.94-2.06-.94 2.06-2.06.94zm-11 1L8.5 8.5l.94-2.06 2.06-.94-2.06-.94L8.5 2.5l-.94 2.06-2.06.94zm10 10l.94 2.06.94-2.06 2.06-.94-2.06-.94-.94-2.06-.94 2.06-2.06.94z\"/><path d=\"M17.41 7.96l-1.37-1.37c-.4-.4-.92-.59-1.43-.59-.52 0-1.04.2-1.43.59L10.3 9.45l-7.72 7.72c-.78.78-.78 2.05 0 2.83L4 21.41c.39.39.9.59 1.41.59.51 0 1.02-.2 1.41-.59l7.78-7.78 2.81-2.81c.8-.78.8-2.07 0-2.86zM5.41 20L4 18.59l7.72-7.72 1.47 1.35L5.41 20z\"/>\n",
              "  </svg>\n",
              "      </button>\n",
              "      \n",
              "  <style>\n",
              "    .colab-df-container {\n",
              "      display:flex;\n",
              "      flex-wrap:wrap;\n",
              "      gap: 12px;\n",
              "    }\n",
              "\n",
              "    .colab-df-convert {\n",
              "      background-color: #E8F0FE;\n",
              "      border: none;\n",
              "      border-radius: 50%;\n",
              "      cursor: pointer;\n",
              "      display: none;\n",
              "      fill: #1967D2;\n",
              "      height: 32px;\n",
              "      padding: 0 0 0 0;\n",
              "      width: 32px;\n",
              "    }\n",
              "\n",
              "    .colab-df-convert:hover {\n",
              "      background-color: #E2EBFA;\n",
              "      box-shadow: 0px 1px 2px rgba(60, 64, 67, 0.3), 0px 1px 3px 1px rgba(60, 64, 67, 0.15);\n",
              "      fill: #174EA6;\n",
              "    }\n",
              "\n",
              "    [theme=dark] .colab-df-convert {\n",
              "      background-color: #3B4455;\n",
              "      fill: #D2E3FC;\n",
              "    }\n",
              "\n",
              "    [theme=dark] .colab-df-convert:hover {\n",
              "      background-color: #434B5C;\n",
              "      box-shadow: 0px 1px 3px 1px rgba(0, 0, 0, 0.15);\n",
              "      filter: drop-shadow(0px 1px 2px rgba(0, 0, 0, 0.3));\n",
              "      fill: #FFFFFF;\n",
              "    }\n",
              "  </style>\n",
              "\n",
              "      <script>\n",
              "        const buttonEl =\n",
              "          document.querySelector('#df-181b013f-ca30-4d12-8932-22f6c4f1df5a button.colab-df-convert');\n",
              "        buttonEl.style.display =\n",
              "          google.colab.kernel.accessAllowed ? 'block' : 'none';\n",
              "\n",
              "        async function convertToInteractive(key) {\n",
              "          const element = document.querySelector('#df-181b013f-ca30-4d12-8932-22f6c4f1df5a');\n",
              "          const dataTable =\n",
              "            await google.colab.kernel.invokeFunction('convertToInteractive',\n",
              "                                                     [key], {});\n",
              "          if (!dataTable) return;\n",
              "\n",
              "          const docLinkHtml = 'Like what you see? Visit the ' +\n",
              "            '<a target=\"_blank\" href=https://colab.research.google.com/notebooks/data_table.ipynb>data table notebook</a>'\n",
              "            + ' to learn more about interactive tables.';\n",
              "          element.innerHTML = '';\n",
              "          dataTable['output_type'] = 'display_data';\n",
              "          await google.colab.output.renderOutput(dataTable, element);\n",
              "          const docLink = document.createElement('div');\n",
              "          docLink.innerHTML = docLinkHtml;\n",
              "          element.appendChild(docLink);\n",
              "        }\n",
              "      </script>\n",
              "    </div>\n",
              "  </div>\n",
              "  "
            ]
          },
          "metadata": {},
          "execution_count": 38
        }
      ]
    },
    {
      "cell_type": "markdown",
      "source": [
        "##Text prediction"
      ],
      "metadata": {
        "id": "w089ism-XI6J"
      }
    },
    {
      "cell_type": "code",
      "source": [
        "unmasker = pipeline('fill-mask', model='bert-base-cased')\n",
        "fill_mask_dict = unmasker(\"Hello, My name is [MASK].\")\n",
        "print(\"\\n\")\n",
        "fill_mask_df = pd.DataFrame.from_dict(fill_mask_dict).round(4)\n",
        "fill_mask_df"
      ],
      "metadata": {
        "colab": {
          "base_uri": "https://localhost:8080/",
          "height": 318
        },
        "id": "HpIhs183V36H",
        "outputId": "7f9a0808-959f-4356-d4fe-861fa9cfc48a"
      },
      "execution_count": null,
      "outputs": [
        {
          "output_type": "stream",
          "name": "stderr",
          "text": [
            "Some weights of the model checkpoint at bert-base-cased were not used when initializing BertForMaskedLM: ['cls.seq_relationship.weight', 'cls.seq_relationship.bias']\n",
            "- This IS expected if you are initializing BertForMaskedLM from the checkpoint of a model trained on another task or with another architecture (e.g. initializing a BertForSequenceClassification model from a BertForPreTraining model).\n",
            "- This IS NOT expected if you are initializing BertForMaskedLM from the checkpoint of a model that you expect to be exactly identical (initializing a BertForSequenceClassification model from a BertForSequenceClassification model).\n"
          ]
        },
        {
          "output_type": "stream",
          "name": "stdout",
          "text": [
            "\n",
            "\n"
          ]
        },
        {
          "output_type": "execute_result",
          "data": {
            "text/plain": [
              "    score  token token_str                    sequence\n",
              "0  0.0079  1681   David     Hello, My name is David.  \n",
              "1  0.0073  5036   Kate      Hello, My name is Kate.   \n",
              "2  0.0071  2687   Sam       Hello, My name is Sam.    \n",
              "3  0.0062  1600   James     Hello, My name is James.  \n",
              "4  0.0061  4117   Charlie   Hello, My name is Charlie."
            ],
            "text/html": [
              "\n",
              "  <div id=\"df-fed681b6-4f90-4cd4-bae2-c87002112983\">\n",
              "    <div class=\"colab-df-container\">\n",
              "      <div>\n",
              "<style scoped>\n",
              "    .dataframe tbody tr th:only-of-type {\n",
              "        vertical-align: middle;\n",
              "    }\n",
              "\n",
              "    .dataframe tbody tr th {\n",
              "        vertical-align: top;\n",
              "    }\n",
              "\n",
              "    .dataframe thead th {\n",
              "        text-align: right;\n",
              "    }\n",
              "</style>\n",
              "<table border=\"1\" class=\"dataframe\">\n",
              "  <thead>\n",
              "    <tr style=\"text-align: right;\">\n",
              "      <th></th>\n",
              "      <th>score</th>\n",
              "      <th>token</th>\n",
              "      <th>token_str</th>\n",
              "      <th>sequence</th>\n",
              "    </tr>\n",
              "  </thead>\n",
              "  <tbody>\n",
              "    <tr>\n",
              "      <th>0</th>\n",
              "      <td>0.0079</td>\n",
              "      <td>1681</td>\n",
              "      <td>David</td>\n",
              "      <td>Hello, My name is David.</td>\n",
              "    </tr>\n",
              "    <tr>\n",
              "      <th>1</th>\n",
              "      <td>0.0073</td>\n",
              "      <td>5036</td>\n",
              "      <td>Kate</td>\n",
              "      <td>Hello, My name is Kate.</td>\n",
              "    </tr>\n",
              "    <tr>\n",
              "      <th>2</th>\n",
              "      <td>0.0071</td>\n",
              "      <td>2687</td>\n",
              "      <td>Sam</td>\n",
              "      <td>Hello, My name is Sam.</td>\n",
              "    </tr>\n",
              "    <tr>\n",
              "      <th>3</th>\n",
              "      <td>0.0062</td>\n",
              "      <td>1600</td>\n",
              "      <td>James</td>\n",
              "      <td>Hello, My name is James.</td>\n",
              "    </tr>\n",
              "    <tr>\n",
              "      <th>4</th>\n",
              "      <td>0.0061</td>\n",
              "      <td>4117</td>\n",
              "      <td>Charlie</td>\n",
              "      <td>Hello, My name is Charlie.</td>\n",
              "    </tr>\n",
              "  </tbody>\n",
              "</table>\n",
              "</div>\n",
              "      <button class=\"colab-df-convert\" onclick=\"convertToInteractive('df-fed681b6-4f90-4cd4-bae2-c87002112983')\"\n",
              "              title=\"Convert this dataframe to an interactive table.\"\n",
              "              style=\"display:none;\">\n",
              "        \n",
              "  <svg xmlns=\"http://www.w3.org/2000/svg\" height=\"24px\"viewBox=\"0 0 24 24\"\n",
              "       width=\"24px\">\n",
              "    <path d=\"M0 0h24v24H0V0z\" fill=\"none\"/>\n",
              "    <path d=\"M18.56 5.44l.94 2.06.94-2.06 2.06-.94-2.06-.94-.94-2.06-.94 2.06-2.06.94zm-11 1L8.5 8.5l.94-2.06 2.06-.94-2.06-.94L8.5 2.5l-.94 2.06-2.06.94zm10 10l.94 2.06.94-2.06 2.06-.94-2.06-.94-.94-2.06-.94 2.06-2.06.94z\"/><path d=\"M17.41 7.96l-1.37-1.37c-.4-.4-.92-.59-1.43-.59-.52 0-1.04.2-1.43.59L10.3 9.45l-7.72 7.72c-.78.78-.78 2.05 0 2.83L4 21.41c.39.39.9.59 1.41.59.51 0 1.02-.2 1.41-.59l7.78-7.78 2.81-2.81c.8-.78.8-2.07 0-2.86zM5.41 20L4 18.59l7.72-7.72 1.47 1.35L5.41 20z\"/>\n",
              "  </svg>\n",
              "      </button>\n",
              "      \n",
              "  <style>\n",
              "    .colab-df-container {\n",
              "      display:flex;\n",
              "      flex-wrap:wrap;\n",
              "      gap: 12px;\n",
              "    }\n",
              "\n",
              "    .colab-df-convert {\n",
              "      background-color: #E8F0FE;\n",
              "      border: none;\n",
              "      border-radius: 50%;\n",
              "      cursor: pointer;\n",
              "      display: none;\n",
              "      fill: #1967D2;\n",
              "      height: 32px;\n",
              "      padding: 0 0 0 0;\n",
              "      width: 32px;\n",
              "    }\n",
              "\n",
              "    .colab-df-convert:hover {\n",
              "      background-color: #E2EBFA;\n",
              "      box-shadow: 0px 1px 2px rgba(60, 64, 67, 0.3), 0px 1px 3px 1px rgba(60, 64, 67, 0.15);\n",
              "      fill: #174EA6;\n",
              "    }\n",
              "\n",
              "    [theme=dark] .colab-df-convert {\n",
              "      background-color: #3B4455;\n",
              "      fill: #D2E3FC;\n",
              "    }\n",
              "\n",
              "    [theme=dark] .colab-df-convert:hover {\n",
              "      background-color: #434B5C;\n",
              "      box-shadow: 0px 1px 3px 1px rgba(0, 0, 0, 0.15);\n",
              "      filter: drop-shadow(0px 1px 2px rgba(0, 0, 0, 0.3));\n",
              "      fill: #FFFFFF;\n",
              "    }\n",
              "  </style>\n",
              "\n",
              "      <script>\n",
              "        const buttonEl =\n",
              "          document.querySelector('#df-fed681b6-4f90-4cd4-bae2-c87002112983 button.colab-df-convert');\n",
              "        buttonEl.style.display =\n",
              "          google.colab.kernel.accessAllowed ? 'block' : 'none';\n",
              "\n",
              "        async function convertToInteractive(key) {\n",
              "          const element = document.querySelector('#df-fed681b6-4f90-4cd4-bae2-c87002112983');\n",
              "          const dataTable =\n",
              "            await google.colab.kernel.invokeFunction('convertToInteractive',\n",
              "                                                     [key], {});\n",
              "          if (!dataTable) return;\n",
              "\n",
              "          const docLinkHtml = 'Like what you see? Visit the ' +\n",
              "            '<a target=\"_blank\" href=https://colab.research.google.com/notebooks/data_table.ipynb>data table notebook</a>'\n",
              "            + ' to learn more about interactive tables.';\n",
              "          element.innerHTML = '';\n",
              "          dataTable['output_type'] = 'display_data';\n",
              "          await google.colab.output.renderOutput(dataTable, element);\n",
              "          const docLink = document.createElement('div');\n",
              "          docLink.innerHTML = docLinkHtml;\n",
              "          element.appendChild(docLink);\n",
              "        }\n",
              "      </script>\n",
              "    </div>\n",
              "  </div>\n",
              "  "
            ]
          },
          "metadata": {},
          "execution_count": 40
        }
      ]
    },
    {
      "cell_type": "markdown",
      "source": [
        "##Text Summarization"
      ],
      "metadata": {
        "id": "GuZKfnzjXMma"
      }
    },
    {
      "cell_type": "markdown",
      "source": [
        "[Wikipedia Apollo program](https://en.wikipedia.org/wiki/Apollo_program)"
      ],
      "metadata": {
        "id": "NQfkr0fvWZ8r"
      }
    },
    {
      "cell_type": "code",
      "source": [
        "summarizer = pipeline(\"summarization\")\n",
        "\n",
        "ARTICLE = \"\"\"The Apollo program, also known as Project Apollo, was the third United States human spaceflight program carried out by the National Aeronautics and Space Administration (NASA), which accomplished landing the first humans on the Moon from 1969 to 1972.\n",
        "First conceived during Dwight D. Eisenhower's administration as a three-man spacecraft to follow the one-man Project Mercury which put the first Americans in space,\n",
        "Apollo was later dedicated to President John F. Kennedy's national goal of \"landing a man on the Moon and returning him safely to the Earth\" by the end of the 1960s, which he proposed in a May 25, 1961, address to Congress. \n",
        "Project Mercury was followed by the two-man ProjectGemini (1962–66). \n",
        "The first manned flight of Apollo was in 1968.\n",
        "Apollo ran from 1961 to 1972, and was supported by the two-man Gemini program which ran concurrently with it from 1962 to 1966. \n",
        "Gemini missions developed some of the space travel techniques that were necessary for the success of the Apollo missions.\n",
        "Apollo used Saturn family rockets as launch vehicles. \n",
        "Apollo/Saturn vehicles were also used for an Apollo Applications Program, which consisted of Skylab, a space station that supported three manned missions in 1973–74, and the Apollo–Soyuz Test Project, a joint Earth orbit mission with the Soviet Union in 1975.\n",
        " \"\"\"\n",
        "\n",
        "summary = summarizer(ARTICLE, max_length=130, min_length=30, do_sample=False)[0]\n",
        "\n",
        "print(\"\\n\")\n",
        "print(\"Summary\")\n",
        "print(summary['summary_text'])"
      ],
      "metadata": {
        "colab": {
          "base_uri": "https://localhost:8080/"
        },
        "id": "ZjZ2D_JjWkXu",
        "outputId": "3c70fb09-82ec-4b65-e99b-d509bf206c71"
      },
      "execution_count": null,
      "outputs": [
        {
          "output_type": "stream",
          "name": "stderr",
          "text": [
            "No model was supplied, defaulted to sshleifer/distilbart-cnn-12-6 and revision a4f8f3e (https://huggingface.co/sshleifer/distilbart-cnn-12-6).\n",
            "Using a pipeline without specifying a model name and revision in production is not recommended.\n"
          ]
        },
        {
          "output_type": "stream",
          "name": "stdout",
          "text": [
            "\n",
            "\n",
            "Summary\n",
            " The first manned flight of Apollo ran from 1961 to 1972 . The Apollo program was followed by the two-man ProjectGemini . It was the third mission to land on the Moon .\n"
          ]
        }
      ]
    },
    {
      "cell_type": "markdown",
      "source": [
        "##Translation"
      ],
      "metadata": {
        "id": "fnxtt-xcXRMa"
      }
    },
    {
      "cell_type": "code",
      "source": [
        "# English to Spain\n",
        "translator_ger = pipeline(\"translation_en_to_de\")\n",
        "ger_text = translator_ger(\"Spaghetti is the plural form of the Italian word spaghetto, which is a diminutive of spago, meaning thin string or twine.\", max_length=40)[0]['translation_text']\n",
        "\n",
        "# English to French\n",
        "translator_fr = pipeline('translation_en_to_fr')\n",
        "fr_text = translator_fr(\"Spaghetti is the plural form of the Italian word spaghetto, which is a diminutive of spago, meaning thin string or twine.\",  max_length=40)[0]['translation_text']\n",
        "\n",
        "print(\"\\n\")\n",
        "print(\"German:\", ger_text)\n",
        "print(\"French:\", fr_text)"
      ],
      "metadata": {
        "colab": {
          "base_uri": "https://localhost:8080/"
        },
        "id": "hxZqychrXAY_",
        "outputId": "614ff340-1cf4-44d5-8262-ea7ac6a0d1ce"
      },
      "execution_count": null,
      "outputs": [
        {
          "output_type": "stream",
          "name": "stderr",
          "text": [
            "No model was supplied, defaulted to t5-base and revision 686f1db (https://huggingface.co/t5-base).\n",
            "Using a pipeline without specifying a model name and revision in production is not recommended.\n",
            "Your input_length: 41 is bigger than 0.9 * max_length: 40. You might consider increasing your max_length manually, e.g. translator('...', max_length=400)\n",
            "No model was supplied, defaulted to t5-base and revision 686f1db (https://huggingface.co/t5-base).\n",
            "Using a pipeline without specifying a model name and revision in production is not recommended.\n",
            "Your input_length: 41 is bigger than 0.9 * max_length: 40. You might consider increasing your max_length manually, e.g. translator('...', max_length=400)\n"
          ]
        },
        {
          "output_type": "stream",
          "name": "stdout",
          "text": [
            "\n",
            "\n",
            "German: Spaghetti ist die plurale Form des italienischen Wortes spaghetto, das ein Abkürzung von spago ist, was dünn\n",
            "French: Spaghetti est la forme plurielle du mot italien spaghetto, qui est un diminutif de spago, signifiant mince ficelle ou \n"
          ]
        }
      ]
    },
    {
      "cell_type": "markdown",
      "source": [
        "##Zero-Shot Learning"
      ],
      "metadata": {
        "id": "IZvNUuuWc1fJ"
      }
    },
    {
      "cell_type": "code",
      "source": [
        "classifier_zsl = pipeline(\"zero-shot-classification\")\n",
        "\n",
        "sequence_to_classify = \"Bill gates founded a company called Microsoft in the year 1975\"\n",
        "candidate_labels = [\"computer\", \"sports\",'leadership','business', \"politics\", \"startup\"]\n",
        "classifier_zsl_dict = classifier_zsl(sequence_to_classify, candidate_labels)\n",
        "keys = ('labels', 'scores')\n",
        "classifier_zsl_dict_slice = {k: classifier_zsl_dict[k] for k in keys}\n",
        "\n",
        "print(\"\\n\")\n",
        "classifier_zsl_df = pd.DataFrame.from_dict(classifier_zsl_dict_slice).round(4)\n",
        "classifier_zsl_df"
      ],
      "metadata": {
        "colab": {
          "base_uri": "https://localhost:8080/",
          "height": 331
        },
        "id": "vscXMrBHcBLq",
        "outputId": "55f7526d-9a03-4729-d76d-3ae5c25f0eac"
      },
      "execution_count": null,
      "outputs": [
        {
          "output_type": "stream",
          "name": "stderr",
          "text": [
            "No model was supplied, defaulted to facebook/bart-large-mnli and revision c626438 (https://huggingface.co/facebook/bart-large-mnli).\n",
            "Using a pipeline without specifying a model name and revision in production is not recommended.\n"
          ]
        },
        {
          "output_type": "stream",
          "name": "stdout",
          "text": [
            "\n",
            "\n"
          ]
        },
        {
          "output_type": "execute_result",
          "data": {
            "text/plain": [
              "       labels  scores\n",
              "0  business    0.5354\n",
              "1  leadership  0.2195\n",
              "2  startup     0.1633\n",
              "3  computer    0.0759\n",
              "4  sports      0.0034\n",
              "5  politics    0.0024"
            ],
            "text/html": [
              "\n",
              "  <div id=\"df-98c70c89-5865-4549-881e-b76cf8f811e2\">\n",
              "    <div class=\"colab-df-container\">\n",
              "      <div>\n",
              "<style scoped>\n",
              "    .dataframe tbody tr th:only-of-type {\n",
              "        vertical-align: middle;\n",
              "    }\n",
              "\n",
              "    .dataframe tbody tr th {\n",
              "        vertical-align: top;\n",
              "    }\n",
              "\n",
              "    .dataframe thead th {\n",
              "        text-align: right;\n",
              "    }\n",
              "</style>\n",
              "<table border=\"1\" class=\"dataframe\">\n",
              "  <thead>\n",
              "    <tr style=\"text-align: right;\">\n",
              "      <th></th>\n",
              "      <th>labels</th>\n",
              "      <th>scores</th>\n",
              "    </tr>\n",
              "  </thead>\n",
              "  <tbody>\n",
              "    <tr>\n",
              "      <th>0</th>\n",
              "      <td>business</td>\n",
              "      <td>0.5354</td>\n",
              "    </tr>\n",
              "    <tr>\n",
              "      <th>1</th>\n",
              "      <td>leadership</td>\n",
              "      <td>0.2195</td>\n",
              "    </tr>\n",
              "    <tr>\n",
              "      <th>2</th>\n",
              "      <td>startup</td>\n",
              "      <td>0.1633</td>\n",
              "    </tr>\n",
              "    <tr>\n",
              "      <th>3</th>\n",
              "      <td>computer</td>\n",
              "      <td>0.0759</td>\n",
              "    </tr>\n",
              "    <tr>\n",
              "      <th>4</th>\n",
              "      <td>sports</td>\n",
              "      <td>0.0034</td>\n",
              "    </tr>\n",
              "    <tr>\n",
              "      <th>5</th>\n",
              "      <td>politics</td>\n",
              "      <td>0.0024</td>\n",
              "    </tr>\n",
              "  </tbody>\n",
              "</table>\n",
              "</div>\n",
              "      <button class=\"colab-df-convert\" onclick=\"convertToInteractive('df-98c70c89-5865-4549-881e-b76cf8f811e2')\"\n",
              "              title=\"Convert this dataframe to an interactive table.\"\n",
              "              style=\"display:none;\">\n",
              "        \n",
              "  <svg xmlns=\"http://www.w3.org/2000/svg\" height=\"24px\"viewBox=\"0 0 24 24\"\n",
              "       width=\"24px\">\n",
              "    <path d=\"M0 0h24v24H0V0z\" fill=\"none\"/>\n",
              "    <path d=\"M18.56 5.44l.94 2.06.94-2.06 2.06-.94-2.06-.94-.94-2.06-.94 2.06-2.06.94zm-11 1L8.5 8.5l.94-2.06 2.06-.94-2.06-.94L8.5 2.5l-.94 2.06-2.06.94zm10 10l.94 2.06.94-2.06 2.06-.94-2.06-.94-.94-2.06-.94 2.06-2.06.94z\"/><path d=\"M17.41 7.96l-1.37-1.37c-.4-.4-.92-.59-1.43-.59-.52 0-1.04.2-1.43.59L10.3 9.45l-7.72 7.72c-.78.78-.78 2.05 0 2.83L4 21.41c.39.39.9.59 1.41.59.51 0 1.02-.2 1.41-.59l7.78-7.78 2.81-2.81c.8-.78.8-2.07 0-2.86zM5.41 20L4 18.59l7.72-7.72 1.47 1.35L5.41 20z\"/>\n",
              "  </svg>\n",
              "      </button>\n",
              "      \n",
              "  <style>\n",
              "    .colab-df-container {\n",
              "      display:flex;\n",
              "      flex-wrap:wrap;\n",
              "      gap: 12px;\n",
              "    }\n",
              "\n",
              "    .colab-df-convert {\n",
              "      background-color: #E8F0FE;\n",
              "      border: none;\n",
              "      border-radius: 50%;\n",
              "      cursor: pointer;\n",
              "      display: none;\n",
              "      fill: #1967D2;\n",
              "      height: 32px;\n",
              "      padding: 0 0 0 0;\n",
              "      width: 32px;\n",
              "    }\n",
              "\n",
              "    .colab-df-convert:hover {\n",
              "      background-color: #E2EBFA;\n",
              "      box-shadow: 0px 1px 2px rgba(60, 64, 67, 0.3), 0px 1px 3px 1px rgba(60, 64, 67, 0.15);\n",
              "      fill: #174EA6;\n",
              "    }\n",
              "\n",
              "    [theme=dark] .colab-df-convert {\n",
              "      background-color: #3B4455;\n",
              "      fill: #D2E3FC;\n",
              "    }\n",
              "\n",
              "    [theme=dark] .colab-df-convert:hover {\n",
              "      background-color: #434B5C;\n",
              "      box-shadow: 0px 1px 3px 1px rgba(0, 0, 0, 0.15);\n",
              "      filter: drop-shadow(0px 1px 2px rgba(0, 0, 0, 0.3));\n",
              "      fill: #FFFFFF;\n",
              "    }\n",
              "  </style>\n",
              "\n",
              "      <script>\n",
              "        const buttonEl =\n",
              "          document.querySelector('#df-98c70c89-5865-4549-881e-b76cf8f811e2 button.colab-df-convert');\n",
              "        buttonEl.style.display =\n",
              "          google.colab.kernel.accessAllowed ? 'block' : 'none';\n",
              "\n",
              "        async function convertToInteractive(key) {\n",
              "          const element = document.querySelector('#df-98c70c89-5865-4549-881e-b76cf8f811e2');\n",
              "          const dataTable =\n",
              "            await google.colab.kernel.invokeFunction('convertToInteractive',\n",
              "                                                     [key], {});\n",
              "          if (!dataTable) return;\n",
              "\n",
              "          const docLinkHtml = 'Like what you see? Visit the ' +\n",
              "            '<a target=\"_blank\" href=https://colab.research.google.com/notebooks/data_table.ipynb>data table notebook</a>'\n",
              "            + ' to learn more about interactive tables.';\n",
              "          element.innerHTML = '';\n",
              "          dataTable['output_type'] = 'display_data';\n",
              "          await google.colab.output.renderOutput(dataTable, element);\n",
              "          const docLink = document.createElement('div');\n",
              "          docLink.innerHTML = docLinkHtml;\n",
              "          element.appendChild(docLink);\n",
              "        }\n",
              "      </script>\n",
              "    </div>\n",
              "  </div>\n",
              "  "
            ]
          },
          "metadata": {},
          "execution_count": 56
        }
      ]
    },
    {
      "cell_type": "markdown",
      "source": [
        "<br/>"
      ],
      "metadata": {
        "id": "lrZ1gz4XdT4y"
      }
    },
    {
      "cell_type": "markdown",
      "source": [
        "#HuggingFrace MNLI Custom Project"
      ],
      "metadata": {
        "id": "QXR88XQfJ5Jm"
      }
    },
    {
      "cell_type": "markdown",
      "source": [
        "GLUE MNLI Task를 Custom Project로 구성한다."
      ],
      "metadata": {
        "id": "Z3fd7l7EdlYH"
      }
    },
    {
      "cell_type": "markdown",
      "source": [
        ""
      ],
      "metadata": {
        "id": "p8LBiigFdTRz"
      }
    },
    {
      "cell_type": "markdown",
      "source": [
        "##Development Environment"
      ],
      "metadata": {
        "id": "w6GinPZfODcw"
      }
    },
    {
      "cell_type": "code",
      "source": [
        "pwd"
      ],
      "metadata": {
        "colab": {
          "base_uri": "https://localhost:8080/",
          "height": 35
        },
        "id": "zGxjKM4UTXCv",
        "outputId": "5e6638fb-4bf5-4ea6-e3bc-d917a5c32463"
      },
      "execution_count": 8,
      "outputs": [
        {
          "output_type": "execute_result",
          "data": {
            "text/plain": [
              "'/content/drive/MyDrive/lms/huggingface_glue_task/transfomers_v4.21.1'"
            ],
            "application/vnd.google.colaboratory.intrinsic+json": {
              "type": "string"
            }
          },
          "metadata": {},
          "execution_count": 8
        }
      ]
    },
    {
      "cell_type": "markdown",
      "source": [
        "[huggingface/transformers/releases](https://github.com/huggingface/transformers/releases)\n",
        "<br/>[# v4.21.1: Patch release](https://github.com/huggingface/transformers/releases/tag/v4.21.1)"
      ],
      "metadata": {
        "id": "mE72-Hb8Um2N"
      }
    },
    {
      "cell_type": "code",
      "source": [
        "!pip install tensorflow-datasets -U"
      ],
      "metadata": {
        "id": "tvkNId71SkSh"
      },
      "execution_count": null,
      "outputs": []
    },
    {
      "cell_type": "markdown",
      "source": [
        "tensorflow-datasets를 이용하여 glue/mnli를 다운로드하려면 tensorflow-datasets 라이브러리 버전을 업그레이드한다."
      ],
      "metadata": {
        "id": "hdmUJeHqS4Va"
      }
    },
    {
      "cell_type": "code",
      "source": [
        "!pip install -e ."
      ],
      "metadata": {
        "id": "DDXa6d3WSyBJ"
      },
      "execution_count": null,
      "outputs": []
    },
    {
      "cell_type": "code",
      "source": [
        "!pip install -q datasets huggingface_hub evaluate transformers"
      ],
      "metadata": {
        "id": "-lX_qiKVSyXB"
      },
      "execution_count": null,
      "outputs": []
    },
    {
      "cell_type": "code",
      "source": [
        "!pip install -q protobuf sentencepiece"
      ],
      "metadata": {
        "id": "yqe4TfCSSyaw"
      },
      "execution_count": null,
      "outputs": []
    },
    {
      "cell_type": "code",
      "source": [
        "import os\n",
        "import json\n",
        "import time\n",
        "import random\n",
        "from datetime import date"
      ],
      "metadata": {
        "id": "_7Ak3VjpDTSN"
      },
      "execution_count": 13,
      "outputs": []
    },
    {
      "cell_type": "code",
      "source": [
        "import pprint\n",
        "from termcolor import colored\n",
        "import matplotlib.pyplot as plt\n",
        "from IPython.display import HTML\n",
        "from IPython.display import Image"
      ],
      "metadata": {
        "id": "hBGppdr5doh2"
      },
      "execution_count": 14,
      "outputs": []
    },
    {
      "cell_type": "code",
      "source": [
        "import re\n",
        "import numpy as np\n",
        "import pandas as pd"
      ],
      "metadata": {
        "id": "Zv-mjO6jDPRM"
      },
      "execution_count": 15,
      "outputs": []
    },
    {
      "cell_type": "code",
      "source": [
        "import tensorflow as tf\n",
        "import tensorflow_datasets as tfds"
      ],
      "metadata": {
        "id": "8lGNklzDUN93"
      },
      "execution_count": 16,
      "outputs": []
    },
    {
      "cell_type": "code",
      "source": [
        "import datasets\n",
        "from datasets import load_dataset"
      ],
      "metadata": {
        "id": "TLqm4x4IURbY"
      },
      "execution_count": 17,
      "outputs": []
    },
    {
      "cell_type": "code",
      "source": [
        "from dataclasses import asdict\n",
        "from argparse import ArgumentParser\n",
        "from transformers import Trainer, TrainingArguments\n",
        "from transformers import get_linear_schedule_with_warmup\n",
        "from transformers.data.processors.utils import DataProcessor, InputExample, InputFeatures"
      ],
      "metadata": {
        "id": "_islIcAbUTBn"
      },
      "execution_count": 18,
      "outputs": []
    },
    {
      "cell_type": "code",
      "source": [
        "pip freeze > '/content/drive/MyDrive/lms/huggingface_glue_task/library_version.txt'"
      ],
      "metadata": {
        "id": "964mpHQFdosM"
      },
      "execution_count": 19,
      "outputs": []
    },
    {
      "cell_type": "code",
      "source": [
        "library_name = ['regex=', 'ujson=', 'numpy=', 'pandas=', 'termcolor=', 'matplotlib=',\n",
        "                'tensorflow=', 'tensorflow-datasets=', 'transformers=']\n",
        "library_version = []\n",
        "count = 0\n",
        "\n",
        "import sys\n",
        "print(sys.version)\n",
        "print()\n",
        "\n",
        "with open('/content/drive/MyDrive/lms/huggingface_glue_task/library_version.txt', 'r') as f:\n",
        "    lines = f.read().splitlines() \n",
        "\n",
        "for i in range(len(lines)):\n",
        "  for line in lines[i:i+1]:\n",
        "    for library in library_name:\n",
        "      if library in line:\n",
        "        library_version.append(line)\n",
        "        count += 1\n",
        "        print(line, end = '    ')\n",
        "        if count % 3 == 0:\n",
        "          print()"
      ],
      "metadata": {
        "id": "zVcPbiRsdouk",
        "colab": {
          "base_uri": "https://localhost:8080/"
        },
        "outputId": "9bc70c48-5a74-4463-a0ae-4ed4d7848a9e"
      },
      "execution_count": 20,
      "outputs": [
        {
          "output_type": "stream",
          "name": "stdout",
          "text": [
            "3.7.13 (default, Apr 24 2022, 01:04:09) \n",
            "[GCC 7.5.0]\n",
            "\n",
            "matplotlib==3.2.2    numpy==1.21.6    pandas==1.3.5    \n",
            "regex==2022.6.2    sklearn-pandas==1.8.0    tensorflow==2.8.2+zzzcolab20220719082949    \n",
            "tensorflow-datasets==4.6.0    termcolor==1.1.0    transformers==4.21.1    \n",
            "ujson==5.4.0    "
          ]
        }
      ]
    },
    {
      "cell_type": "code",
      "source": [
        "gpu_info = !nvidia-smi\n",
        "gpu_info = '\\n'.join(gpu_info)\n",
        "if gpu_info.find('failed') >= 0:\n",
        "  print('Not connected to a GPU')\n",
        "else:\n",
        "  print(gpu_info)"
      ],
      "metadata": {
        "id": "ZK7tCUdCeG3e"
      },
      "execution_count": null,
      "outputs": []
    },
    {
      "cell_type": "code",
      "source": [
        "from psutil import virtual_memory\n",
        "ram_gb = virtual_memory().total / 1e9\n",
        "print('Your runtime has {:.1f} gigabytes of available RAM\\n'.format(ram_gb))\n",
        "\n",
        "if ram_gb < 20:\n",
        "  print('Not using a high-RAM runtime')\n",
        "else:\n",
        "  print('You are using a high-RAM runtime!')"
      ],
      "metadata": {
        "id": "wANpgAMceHJW"
      },
      "execution_count": null,
      "outputs": []
    },
    {
      "cell_type": "markdown",
      "source": [
        "Google Colab에서 할당된 GPU를 확인한다.\n",
        "<br/>고용량 메모리 VM에 액세스한다"
      ],
      "metadata": {
        "id": "f86XkJh_eNCE"
      }
    },
    {
      "cell_type": "markdown",
      "source": [
        ""
      ],
      "metadata": {
        "id": "kPidiEx6aMhF"
      }
    },
    {
      "cell_type": "markdown",
      "source": [
        "##Data Information"
      ],
      "metadata": {
        "id": "IElCqZ2yikfT"
      }
    },
    {
      "cell_type": "code",
      "source": [
        "data, info = tfds.load('glue/mnli', with_info=True)"
      ],
      "metadata": {
        "id": "Sk-0Tke9ijgK"
      },
      "execution_count": 21,
      "outputs": []
    },
    {
      "cell_type": "code",
      "source": [
        "info_splits = \"Train Data Size: \" + str(info.splits['train'].num_examples) + \\\n",
        "              \"\\nValidation Matched Data Size: \" + str(info.splits['validation_matched'].num_examples) + \\\n",
        "              \"\\nValidation Mismatched Data Size: \" + str(info.splits['validation_mismatched'].num_examples) + \\\n",
        "              \"\\nTest Matched Data Size: \" + str(info.splits['test_matched'].num_examples) + \\\n",
        "              \"\\nTest Matched Data Size: \" + str(info.splits['test_mismatched'].num_examples)\n",
        "\n",
        "reorderlist = ['name', 'full_name', 'description', 'config_description', 'supervised_keys', 'disable_shuffling',\n",
        "               'homepage', 'data_path', 'file_format', 'download_size', 'dataset_size', 'features', 'supervised_keys',\n",
        "               'disable_shuffling', 'splits', 'citation', 'comment']\n",
        "\n",
        "info_dict = pd.DataFrame({'tfds.core.DatasetInfo':{'name':info.name, 'full_name':info.full_name,\n",
        "                                     'description':info.description.replace('resources', 'resources<br/>'),\n",
        "                                     'config_description':'''The Multi-Genre Natural Language Inference Corpus is a crowdsourced\n",
        "                                     collection of sentence pairs with textual entailment annotations. Given a premise sentence\n",
        "                                     and a hypothesis sentence, the task is to predict whether the premise entails the hypothesis\n",
        "                                     (entailment), contradicts the hypothesis (contradiction), or neither (neutral). The premise sentences are\n",
        "                                     gathered from ten different sources, including transcribed speech, fiction, and government reports.\n",
        "                                     We use the standard test set, for which we obtained private labels from the authors, and evaluate\n",
        "                                     on both the matched (in-domain) and mismatched (cross-domain) section. We also use and recommend\n",
        "                                     the SNLI corpus as 550k examples of auxiliary training data.''',\n",
        "                                     'supervised_keys':info.supervised_keys, \n",
        "                                     'disable_shuffling':info.disable_shuffling, 'homepage':info.homepage, \n",
        "                                     'data_path': '~/tensorflow_datasets/glue/mnli/2.0.0',\n",
        "                                     'file_format':info.file_format, 'download_size':info.download_size,\n",
        "                                     'dataset_size':info.dataset_size, 'features':info.features,\n",
        "                                      'supervised_keys':info.supervised_keys, 'disable_shuffling': info.disable_shuffling,\n",
        "                                      'splits': info_splits.replace('\\n', '<br/>'),  'citation':info.citation.replace('\\n', '<br/>'),\n",
        "                                      'comment': '''Note that each GLUE dataset has its own citation. Please see the source to see\n",
        "                                      the correct citation for each contained dataset.'''\n",
        "                                      }})\n",
        "info_df = pd.DataFrame(info_dict)\n",
        "info_df = info_df.reindex(reorderlist).reset_index()\n",
        "from pandas import option_context\n",
        "with option_context('display.max_colwidth', None):\n",
        "  display(info_df.style.set_properties(**{'text-align': 'center'}))"
      ],
      "metadata": {
        "colab": {
          "base_uri": "https://localhost:8080/",
          "height": 1000
        },
        "id": "Eoe58JD0bvyF",
        "outputId": "4e871e6f-15f6-4ff5-f970-52bf2d87cf3d"
      },
      "execution_count": 24,
      "outputs": [
        {
          "output_type": "display_data",
          "data": {
            "text/plain": [
              "<pandas.io.formats.style.Styler at 0x7f8550212ad0>"
            ],
            "text/html": [
              "<style type=\"text/css\">\n",
              "#T_08c54_row0_col0, #T_08c54_row0_col1, #T_08c54_row1_col0, #T_08c54_row1_col1, #T_08c54_row2_col0, #T_08c54_row2_col1, #T_08c54_row3_col0, #T_08c54_row3_col1, #T_08c54_row4_col0, #T_08c54_row4_col1, #T_08c54_row5_col0, #T_08c54_row5_col1, #T_08c54_row6_col0, #T_08c54_row6_col1, #T_08c54_row7_col0, #T_08c54_row7_col1, #T_08c54_row8_col0, #T_08c54_row8_col1, #T_08c54_row9_col0, #T_08c54_row9_col1, #T_08c54_row10_col0, #T_08c54_row10_col1, #T_08c54_row11_col0, #T_08c54_row11_col1, #T_08c54_row12_col0, #T_08c54_row12_col1, #T_08c54_row13_col0, #T_08c54_row13_col1, #T_08c54_row14_col0, #T_08c54_row14_col1, #T_08c54_row15_col0, #T_08c54_row15_col1, #T_08c54_row16_col0, #T_08c54_row16_col1 {\n",
              "  text-align: center;\n",
              "}\n",
              "</style>\n",
              "<table id=\"T_08c54_\" class=\"dataframe\">\n",
              "  <thead>\n",
              "    <tr>\n",
              "      <th class=\"blank level0\" >&nbsp;</th>\n",
              "      <th class=\"col_heading level0 col0\" >index</th>\n",
              "      <th class=\"col_heading level0 col1\" >tfds.core.DatasetInfo</th>\n",
              "    </tr>\n",
              "  </thead>\n",
              "  <tbody>\n",
              "    <tr>\n",
              "      <th id=\"T_08c54_level0_row0\" class=\"row_heading level0 row0\" >0</th>\n",
              "      <td id=\"T_08c54_row0_col0\" class=\"data row0 col0\" >name</td>\n",
              "      <td id=\"T_08c54_row0_col1\" class=\"data row0 col1\" >glue</td>\n",
              "    </tr>\n",
              "    <tr>\n",
              "      <th id=\"T_08c54_level0_row1\" class=\"row_heading level0 row1\" >1</th>\n",
              "      <td id=\"T_08c54_row1_col0\" class=\"data row1 col0\" >full_name</td>\n",
              "      <td id=\"T_08c54_row1_col1\" class=\"data row1 col1\" >glue/mnli/2.0.0</td>\n",
              "    </tr>\n",
              "    <tr>\n",
              "      <th id=\"T_08c54_level0_row2\" class=\"row_heading level0 row2\" >2</th>\n",
              "      <td id=\"T_08c54_row2_col0\" class=\"data row2 col0\" >description</td>\n",
              "      <td id=\"T_08c54_row2_col1\" class=\"data row2 col1\" >GLUE, the General Language Understanding Evaluation benchmark\n",
              "(https://gluebenchmark.com/) is a collection of resources<br/> for training,\n",
              "evaluating, and analyzing natural language understanding systems.</td>\n",
              "    </tr>\n",
              "    <tr>\n",
              "      <th id=\"T_08c54_level0_row3\" class=\"row_heading level0 row3\" >3</th>\n",
              "      <td id=\"T_08c54_row3_col0\" class=\"data row3 col0\" >config_description</td>\n",
              "      <td id=\"T_08c54_row3_col1\" class=\"data row3 col1\" >The Multi-Genre Natural Language Inference Corpus is a crowdsourced\n",
              "                                     collection of sentence pairs with textual entailment annotations. Given a premise sentence\n",
              "                                     and a hypothesis sentence, the task is to predict whether the premise entails the hypothesis\n",
              "                                     (entailment), contradicts the hypothesis (contradiction), or neither (neutral). The premise sentences are\n",
              "                                     gathered from ten different sources, including transcribed speech, fiction, and government reports.\n",
              "                                     We use the standard test set, for which we obtained private labels from the authors, and evaluate\n",
              "                                     on both the matched (in-domain) and mismatched (cross-domain) section. We also use and recommend\n",
              "                                     the SNLI corpus as 550k examples of auxiliary training data.</td>\n",
              "    </tr>\n",
              "    <tr>\n",
              "      <th id=\"T_08c54_level0_row4\" class=\"row_heading level0 row4\" >4</th>\n",
              "      <td id=\"T_08c54_row4_col0\" class=\"data row4 col0\" >supervised_keys</td>\n",
              "      <td id=\"T_08c54_row4_col1\" class=\"data row4 col1\" >None</td>\n",
              "    </tr>\n",
              "    <tr>\n",
              "      <th id=\"T_08c54_level0_row5\" class=\"row_heading level0 row5\" >5</th>\n",
              "      <td id=\"T_08c54_row5_col0\" class=\"data row5 col0\" >disable_shuffling</td>\n",
              "      <td id=\"T_08c54_row5_col1\" class=\"data row5 col1\" >False</td>\n",
              "    </tr>\n",
              "    <tr>\n",
              "      <th id=\"T_08c54_level0_row6\" class=\"row_heading level0 row6\" >6</th>\n",
              "      <td id=\"T_08c54_row6_col0\" class=\"data row6 col0\" >homepage</td>\n",
              "      <td id=\"T_08c54_row6_col1\" class=\"data row6 col1\" >http://www.nyu.edu/projects/bowman/multinli/</td>\n",
              "    </tr>\n",
              "    <tr>\n",
              "      <th id=\"T_08c54_level0_row7\" class=\"row_heading level0 row7\" >7</th>\n",
              "      <td id=\"T_08c54_row7_col0\" class=\"data row7 col0\" >data_path</td>\n",
              "      <td id=\"T_08c54_row7_col1\" class=\"data row7 col1\" >~/tensorflow_datasets/glue/mnli/2.0.0</td>\n",
              "    </tr>\n",
              "    <tr>\n",
              "      <th id=\"T_08c54_level0_row8\" class=\"row_heading level0 row8\" >8</th>\n",
              "      <td id=\"T_08c54_row8_col0\" class=\"data row8 col0\" >file_format</td>\n",
              "      <td id=\"T_08c54_row8_col1\" class=\"data row8 col1\" >FileFormat.TFRECORD</td>\n",
              "    </tr>\n",
              "    <tr>\n",
              "      <th id=\"T_08c54_level0_row9\" class=\"row_heading level0 row9\" >9</th>\n",
              "      <td id=\"T_08c54_row9_col0\" class=\"data row9 col0\" >download_size</td>\n",
              "      <td id=\"T_08c54_row9_col1\" class=\"data row9 col1\" >298.29 MiB</td>\n",
              "    </tr>\n",
              "    <tr>\n",
              "      <th id=\"T_08c54_level0_row10\" class=\"row_heading level0 row10\" >10</th>\n",
              "      <td id=\"T_08c54_row10_col0\" class=\"data row10 col0\" >dataset_size</td>\n",
              "      <td id=\"T_08c54_row10_col1\" class=\"data row10 col1\" >100.56 MiB</td>\n",
              "    </tr>\n",
              "    <tr>\n",
              "      <th id=\"T_08c54_level0_row11\" class=\"row_heading level0 row11\" >11</th>\n",
              "      <td id=\"T_08c54_row11_col0\" class=\"data row11 col0\" >features</td>\n",
              "      <td id=\"T_08c54_row11_col1\" class=\"data row11 col1\" >FeaturesDict({\n",
              "    'hypothesis': Text(shape=(), dtype=tf.string),\n",
              "    'idx': tf.int32,\n",
              "    'label': ClassLabel(shape=(), dtype=tf.int64, num_classes=3),\n",
              "    'premise': Text(shape=(), dtype=tf.string),\n",
              "})</td>\n",
              "    </tr>\n",
              "    <tr>\n",
              "      <th id=\"T_08c54_level0_row12\" class=\"row_heading level0 row12\" >12</th>\n",
              "      <td id=\"T_08c54_row12_col0\" class=\"data row12 col0\" >supervised_keys</td>\n",
              "      <td id=\"T_08c54_row12_col1\" class=\"data row12 col1\" >None</td>\n",
              "    </tr>\n",
              "    <tr>\n",
              "      <th id=\"T_08c54_level0_row13\" class=\"row_heading level0 row13\" >13</th>\n",
              "      <td id=\"T_08c54_row13_col0\" class=\"data row13 col0\" >disable_shuffling</td>\n",
              "      <td id=\"T_08c54_row13_col1\" class=\"data row13 col1\" >False</td>\n",
              "    </tr>\n",
              "    <tr>\n",
              "      <th id=\"T_08c54_level0_row14\" class=\"row_heading level0 row14\" >14</th>\n",
              "      <td id=\"T_08c54_row14_col0\" class=\"data row14 col0\" >splits</td>\n",
              "      <td id=\"T_08c54_row14_col1\" class=\"data row14 col1\" >Train Data Size: 392702<br/>Validation Matched Data Size: 9815<br/>Validation Mismatched Data Size: 9832<br/>Test Matched Data Size: 9796<br/>Test Matched Data Size: 9847</td>\n",
              "    </tr>\n",
              "    <tr>\n",
              "      <th id=\"T_08c54_level0_row15\" class=\"row_heading level0 row15\" >15</th>\n",
              "      <td id=\"T_08c54_row15_col0\" class=\"data row15 col0\" >citation</td>\n",
              "      <td id=\"T_08c54_row15_col1\" class=\"data row15 col1\" >@InProceedings{N18-1101,<br/>  author = \"Williams, Adina<br/>            and Nangia, Nikita<br/>            and Bowman, Samuel\",<br/>  title = \"A Broad-Coverage Challenge Corpus for<br/>           Sentence Understanding through Inference\",<br/>  booktitle = \"Proceedings of the 2018 Conference of<br/>               the North American Chapter of the<br/>               Association for Computational Linguistics:<br/>               Human Language Technologies, Volume 1 (Long<br/>               Papers)\",<br/>  year = \"2018\",<br/>  publisher = \"Association for Computational Linguistics\",<br/>  pages = \"1112--1122\",<br/>  location = \"New Orleans, Louisiana\",<br/>  url = \"http://aclweb.org/anthology/N18-1101\"<br/>}<br/>@article{bowman2015large,<br/>  title={A large annotated corpus for learning natural language inference},<br/>  author={Bowman, Samuel R and Angeli, Gabor and Potts, Christopher and Manning, Christopher D},<br/>  journal={arXiv preprint arXiv:1508.05326},<br/>  year={2015}<br/>}<br/>@inproceedings{wang2019glue,<br/>  title={{GLUE}: A Multi-Task Benchmark and Analysis Platform for Natural Language Understanding},<br/>  author={Wang, Alex and Singh, Amanpreet and Michael, Julian and Hill, Felix and Levy, Omer and Bowman, Samuel R.},<br/>  note={In the Proceedings of ICLR.},<br/>  year={2019}<br/>}<br/><br/>Note that each GLUE dataset has its own citation. Please see the source to see<br/>the correct citation for each contained dataset.</td>\n",
              "    </tr>\n",
              "    <tr>\n",
              "      <th id=\"T_08c54_level0_row16\" class=\"row_heading level0 row16\" >16</th>\n",
              "      <td id=\"T_08c54_row16_col0\" class=\"data row16 col0\" >comment</td>\n",
              "      <td id=\"T_08c54_row16_col1\" class=\"data row16 col1\" >Note that each GLUE dataset has its own citation. Please see the source to see\n",
              "                                      the correct citation for each contained dataset.</td>\n",
              "    </tr>\n",
              "  </tbody>\n",
              "</table>\n"
            ]
          },
          "metadata": {}
        }
      ]
    },
    {
      "cell_type": "markdown",
      "source": [
        "<br/><br/><br/>"
      ],
      "metadata": {
        "id": "Wrqzjh0YdIJ1"
      }
    },
    {
      "cell_type": "code",
      "source": [
        "def compact_dict_print(d, indent=''):\n",
        "\n",
        "    bracket_count = 0\n",
        "    line_count = 0 \n",
        "    indent = \"    \"\n",
        "\n",
        "    print(\"{\")\n",
        "\n",
        "    for key, value in d.items():\n",
        "      bracket_count += 1\n",
        "      print(indent + \"'{}': \".format(key))\n",
        "      print((indent * 2) + \"<PrefetchDataset element_spec={\")\n",
        "\n",
        "      for nested_key in value:\n",
        "          line_count += 1\n",
        "          \n",
        "          for inner_key in nested_key:\n",
        "              if line_count == 1:\n",
        "                print((indent * 2) + \"'{}': '{}',\".format(inner_key, nested_key[inner_key]))\n",
        "                if inner_key == 'premise':\n",
        "                  print()\n",
        "\n",
        "              elif line_count == len(d[key]):\n",
        "                line_count = 0\n",
        "\n",
        "      print((indent * 2) + \"...\")\n",
        "\n",
        "      if bracket_count < len(data):       \n",
        "        print((indent * 2) + \"}>, \\n\") \n",
        "      else:  \n",
        "        print((indent * 2) + \"}> \\n\")     \n",
        "\n",
        "    print(\"}\")"
      ],
      "metadata": {
        "id": "OJM_cCn7dNg2"
      },
      "execution_count": 25,
      "outputs": []
    },
    {
      "cell_type": "code",
      "source": [
        "compact_dict_print(data)"
      ],
      "metadata": {
        "colab": {
          "base_uri": "https://localhost:8080/"
        },
        "id": "z4L0WWf1dRks",
        "outputId": "c806fa34-3d1d-4c6e-8623-b3bff0339c9e"
      },
      "execution_count": null,
      "outputs": [
        {
          "output_type": "stream",
          "name": "stdout",
          "text": [
            "{\n",
            "    'train': \n",
            "        <PrefetchDataset element_spec={\n",
            "        'hypothesis': 'b'Meaningful partnerships with stakeholders is crucial.'',\n",
            "        'idx': '16399',\n",
            "        'label': '1',\n",
            "        'premise': 'b'In recognition of these tensions, LSC has worked diligently since 1995 to convey the expectations of the State Planning Initiative and to establish meaningful partnerships with stakeholders aimed at fostering a new symbiosis between the federal provider and recipients of legal services funding.'',\n",
            "\n",
            "        ...\n",
            "        }>, \n",
            "\n",
            "    'validation_matched': \n",
            "        <PrefetchDataset element_spec={\n",
            "        'hypothesis': 'b'yeah lots of people for the right life '',\n",
            "        'idx': '6287',\n",
            "        'label': '0',\n",
            "        'premise': 'b'uh-huh oh yeah all the people for right uh life or something'',\n",
            "\n",
            "        ...\n",
            "        }>, \n",
            "\n",
            "    'validation_mismatched': \n",
            "        <PrefetchDataset element_spec={\n",
            "        'hypothesis': 'b\"These projects are largely ignored and don't impact anyone. \"',\n",
            "        'idx': '9410',\n",
            "        'label': '2',\n",
            "        'premise': 'b'Projects which enliven and enrich the student experience and draw some of our finest scholars and teachers to our campus--and to our city.'',\n",
            "\n",
            "        ...\n",
            "        }>, \n",
            "\n",
            "    'test_matched': \n",
            "        <PrefetchDataset element_spec={\n",
            "        'hypothesis': 'b'Is there a pump that you put in there?'',\n",
            "        'idx': '5398',\n",
            "        'label': '-1',\n",
            "        'premise': 'b'well is there a little electric pump you put in there'',\n",
            "\n",
            "        ...\n",
            "        }>, \n",
            "\n",
            "    'test_mismatched': \n",
            "        <PrefetchDataset element_spec={\n",
            "        'hypothesis': 'b'That table has been in my family for generations.'',\n",
            "        'idx': '3498',\n",
            "        'label': '-1',\n",
            "        'premise': 'b'Anyway, I treasure that table.'',\n",
            "\n",
            "        ...\n",
            "        }> \n",
            "\n",
            "}\n"
          ]
        }
      ]
    },
    {
      "cell_type": "markdown",
      "source": [
        "<br/><br/>"
      ],
      "metadata": {
        "id": "Apy4umJRdn2N"
      }
    },
    {
      "cell_type": "code",
      "source": [
        "examples = data['train'].take(1)\n",
        "for example in examples:\n",
        "    hypothesis = example['hypothesis']\n",
        "    idx = example['idx']\n",
        "    label = example['label']\n",
        "    premise = example['premise']\n",
        "    print('hypothesis')\n",
        "    print(hypothesis)\n",
        "    print('\\nidx')\n",
        "    print(idx)\n",
        "    print('\\nlabel')\n",
        "    print(label)\n",
        "    print('\\npremise')\n",
        "    print(premise)"
      ],
      "metadata": {
        "colab": {
          "base_uri": "https://localhost:8080/"
        },
        "id": "IeeoptRveeWW",
        "outputId": "80c2747f-c7b5-4b61-8d85-fc62ddf6efa8"
      },
      "execution_count": 26,
      "outputs": [
        {
          "output_type": "stream",
          "name": "stdout",
          "text": [
            "hypothesis\n",
            "tf.Tensor(b'Meaningful partnerships with stakeholders is crucial.', shape=(), dtype=string)\n",
            "\n",
            "idx\n",
            "tf.Tensor(16399, shape=(), dtype=int32)\n",
            "\n",
            "label\n",
            "tf.Tensor(1, shape=(), dtype=int64)\n",
            "\n",
            "premise\n",
            "tf.Tensor(b'In recognition of these tensions, LSC has worked diligently since 1995 to convey the expectations of the State Planning Initiative and to establish meaningful partnerships with stakeholders aimed at fostering a new symbiosis between the federal provider and recipients of legal services funding.', shape=(), dtype=string)\n"
          ]
        }
      ]
    },
    {
      "cell_type": "markdown",
      "source": [
        "<br/>"
      ],
      "metadata": {
        "id": "uJ2FUzeaf67m"
      }
    },
    {
      "cell_type": "markdown",
      "source": [
        "##Processor"
      ],
      "metadata": {
        "id": "_FxnLO1DelRe"
      }
    },
    {
      "cell_type": "code",
      "source": [
        "class DataProcessor:\n",
        "    \"\"\"Base class for data converters for sequence classification data sets.\"\"\"\n",
        "\n",
        "    def get_example_from_tensor_dict(self, tensor_dict):\n",
        "        \"\"\"\n",
        "        Gets an example from a dict with tensorflow tensors.\n",
        "\n",
        "        Args:\n",
        "            tensor_dict: Keys and values should match the corresponding Glue\n",
        "                tensorflow_dataset examples.\n",
        "        \"\"\"\n",
        "        raise NotImplementedError()\n",
        "\n",
        "    def get_train_examples(self, data_dir):\n",
        "        \"\"\"Gets a collection of :class:`InputExample` for the train set.\"\"\"\n",
        "        raise NotImplementedError()\n",
        "\n",
        "    def get_dev_examples(self, data_dir):\n",
        "        \"\"\"Gets a collection of :class:`InputExample` for the dev set.\"\"\"\n",
        "        raise NotImplementedError()\n",
        "\n",
        "    def get_test_examples(self, data_dir):\n",
        "        \"\"\"Gets a collection of :class:`InputExample` for the test set.\"\"\"\n",
        "        raise NotImplementedError()\n",
        "\n",
        "    def get_labels(self):\n",
        "        \"\"\"Gets the list of labels for this data set.\"\"\"\n",
        "        raise NotImplementedError()\n",
        "\n",
        "    def tfds_map(self, example):\n",
        "        \"\"\"\n",
        "        Some tensorflow_datasets datasets are not formatted the same way the GLUE datasets are. This method converts\n",
        "        examples to the correct format.\n",
        "        \"\"\"\n",
        "        if len(self.get_labels()) > 1:\n",
        "            example.label = self.get_labels()[int(example.label)]\n",
        "        return example\n",
        "\n",
        "    @classmethod\n",
        "    def _read_tsv(cls, input_file, quotechar=None):\n",
        "        \"\"\"Reads a tab separated value file.\"\"\"\n",
        "        with open(input_file, \"r\", encoding=\"utf-8-sig\") as f:\n",
        "            return list(csv.reader(f, delimiter=\"\\t\", quotechar=quotechar))"
      ],
      "metadata": {
        "id": "49Zj7quJijlE"
      },
      "execution_count": 22,
      "outputs": []
    },
    {
      "cell_type": "markdown",
      "source": [
        "추상클래스인 Processor를 한번 상속받은 후 Sequence Classification Task를 수행하는 모델의 Processor 추상클래스인 DataProcessor이다.\n",
        "<br/>추상클래스 상태이기 때문에 그대로 사용하면 NotImplementedError를 발생시키는 메소드들이 포함되어 있다.\n",
        "<br/>이 메소드들을 Override해야 실제 사용 가능한 클래스가 얻어진다."
      ],
      "metadata": {
        "id": "3wmc3jAHgV_V"
      }
    },
    {
      "cell_type": "code",
      "source": [
        "class MnliProcessor(DataProcessor):\n",
        "    \"\"\"Processor for the MultiNLI data set (GLUE version).\"\"\"\n",
        "\n",
        "    def __init__(self, *args, **kwargs):\n",
        "        super().__init__(*args, **kwargs)\n",
        "        warnings.filterwarnings(\"ignore\", category=DeprecationWarning) \n",
        "\n",
        "    def get_example_from_tensor_dict(self, tensor_dict):\n",
        "        \"\"\"See base class.\"\"\"\n",
        "        return InputExample(\n",
        "            tensor_dict[\"idx\"].numpy(),\n",
        "            tensor_dict[\"premise\"].numpy().decode(\"utf-8\"),\n",
        "            tensor_dict[\"hypothesis\"].numpy().decode(\"utf-8\"),\n",
        "            str(tensor_dict[\"label\"].numpy()),\n",
        "        )\n",
        "\n",
        "    def get_train_examples(self, data_dir):\n",
        "        \"\"\"See base class.\"\"\"\n",
        "        print(\"LOOKING AT {}\".format(os.path.join(data_dir, \"train.tsv\")))\n",
        "        return self._create_examples(self._read_tsv(os.path.join(data_dir, \"train.tsv\")), \"train\")\n",
        "\n",
        "    def get_dev_examples(self, data_dir):\n",
        "        \"\"\"See base class.\"\"\"\n",
        "        return self._create_examples(self._read_tsv(os.path.join(data_dir, \"dev.tsv\")), \"dev\")\n",
        "\n",
        "    def get_test_examples(self, data_dir):\n",
        "        \"\"\"See base class.\"\"\"\n",
        "        return self._create_examples(self._read_tsv(os.path.join(data_dir, \"test.tsv\")), \"test\")\n",
        "    \n",
        "    def get_labels(self):\n",
        "        \"\"\"See base class.\"\"\"\n",
        "        return [\"0\", \"1\", \"2\"]\n",
        "\n",
        "    def _create_examples(self, lines, set_type):\n",
        "        \"\"\"Creates examples for the training, dev and test sets.\"\"\"\n",
        "        examples = []\n",
        "        for (i, line) in enumerate(lines):\n",
        "            if i == 0:\n",
        "                continue\n",
        "            guid = f\"{set_type}-{line[0]}\"\n",
        "            text_a = line[8]\n",
        "            text_b = line[9]\n",
        "            label = None if set_type.startswith(\"test\") else line[-1]\n",
        "            examples.append(InputExample(guid=guid, text_a=text_a, text_b=text_b, label=label))\n",
        "        return examples"
      ],
      "metadata": {
        "id": "M3qlM1Z2gW4l"
      },
      "execution_count": 23,
      "outputs": []
    },
    {
      "cell_type": "code",
      "source": [
        "class MnliMismatchedProcessor(MnliProcessor):\n",
        "    \"\"\"Processor for the MultiNLI Mismatched data set (GLUE version).\"\"\"\n",
        "\n",
        "    def get_dev_examples(self, data_dir):\n",
        "        \"\"\"See base class.\"\"\"\n",
        "        return self._create_examples(self._read_tsv(os.path.join(data_dir, \"dev_mismatched.tsv\")), \"dev_mismatched\")\n",
        "\n",
        "    def get_test_examples(self, data_dir):\n",
        "        \"\"\"See base class.\"\"\"\n",
        "        return self._create_examples(self._read_tsv(os.path.join(data_dir, \"test_mismatched.tsv\")), \"test_mismatched\")"
      ],
      "metadata": {
        "id": "dELs_ANJgh3N"
      },
      "execution_count": 24,
      "outputs": []
    },
    {
      "cell_type": "markdown",
      "source": [
        "MNLI 원본 데이터셋을 처리하여 모델에 입력할 수 있도록 정리해 주는 MnliProcessor, MnliMismatchedProcessor 클래스이다."
      ],
      "metadata": {
        "id": "M3T0PuE_gpRd"
      }
    },
    {
      "cell_type": "code",
      "source": [
        "processor = MnliProcessor()\n",
        "examples = data['train'].take(1)\n",
        "\n",
        "for example in examples:\n",
        "    print('Original Data')\n",
        "    pprint.pprint(example)  \n",
        "    print(\"\\n\")\n",
        "    example = processor.get_example_from_tensor_dict(example)\n",
        "    print('Processed Data')\n",
        "    pprint.pprint(example)"
      ],
      "metadata": {
        "colab": {
          "base_uri": "https://localhost:8080/"
        },
        "id": "lap2N7NIgyvE",
        "outputId": "f6a2a782-1a5b-4189-d325-fb88998d1fff"
      },
      "execution_count": 25,
      "outputs": [
        {
          "output_type": "stream",
          "name": "stdout",
          "text": [
            "Original Data\n",
            "{'hypothesis': <tf.Tensor: shape=(), dtype=string, numpy=b'Meaningful partnerships with stakeholders is crucial.'>,\n",
            " 'idx': <tf.Tensor: shape=(), dtype=int32, numpy=16399>,\n",
            " 'label': <tf.Tensor: shape=(), dtype=int64, numpy=1>,\n",
            " 'premise': <tf.Tensor: shape=(), dtype=string, numpy=b'In recognition of these tensions, LSC has worked diligently since 1995 to convey the expectations of the State Planning Initiative and to establish meaningful partnerships with stakeholders aimed at fostering a new symbiosis between the federal provider and recipients of legal services funding.'>}\n",
            "\n",
            "\n",
            "Processed Data\n",
            "InputExample(guid=16399, text_a='In recognition of these tensions, LSC has worked diligently since 1995 to convey the expectations of the State Planning Initiative and to establish meaningful partnerships with stakeholders aimed at fostering a new symbiosis between the federal provider and recipients of legal services funding.', text_b='Meaningful partnerships with stakeholders is crucial.', label='1')\n"
          ]
        }
      ]
    },
    {
      "cell_type": "markdown",
      "source": [
        ""
      ],
      "metadata": {
        "id": "Qvjxx7IXg-mW"
      }
    },
    {
      "cell_type": "markdown",
      "source": [
        "Processor는 'Raw Dataset를 Annotated Dataset으로 변환'하는 역할을 한다.\n",
        "<br/>항목별로 text_a, text_b, label 등의 annotation이 포함된 InputExample로 변환된다."
      ],
      "metadata": {
        "id": "0sRT3z5ghAC8"
      }
    },
    {
      "cell_type": "markdown",
      "source": [
        "<br/>"
      ],
      "metadata": {
        "id": "cvNyR9DdhH_F"
      }
    },
    {
      "cell_type": "code",
      "source": [
        "examples = (data['train'].take(1))\n",
        "for example in examples:\n",
        "    example = processor.get_example_from_tensor_dict(example)\n",
        "    example = processor.tfds_map(example)\n",
        "    print('Processed Data')\n",
        "    print(example)"
      ],
      "metadata": {
        "colab": {
          "base_uri": "https://localhost:8080/"
        },
        "id": "A1DbMKMHhIlu",
        "outputId": "1cc482fa-9b1e-4f64-ea94-e61903029918"
      },
      "execution_count": 31,
      "outputs": [
        {
          "output_type": "stream",
          "name": "stdout",
          "text": [
            "Processed Data\n",
            "InputExample(guid=16399, text_a='In recognition of these tensions, LSC has worked diligently since 1995 to convey the expectations of the State Planning Initiative and to establish meaningful partnerships with stakeholders aimed at fostering a new symbiosis between the federal provider and recipients of legal services funding.', text_b='Meaningful partnerships with stakeholders is crucial.', label='1')\n"
          ]
        }
      ]
    },
    {
      "cell_type": "markdown",
      "source": [
        ""
      ],
      "metadata": {
        "id": "LQwiVMoThZLF"
      }
    },
    {
      "cell_type": "markdown",
      "source": [
        "tfds_map 메소드를 활용한 경우이다. tfds_map는 label을 가공하는 메소드이다."
      ],
      "metadata": {
        "id": "M95DAUjkhav1"
      }
    },
    {
      "cell_type": "markdown",
      "source": [
        "<br/>"
      ],
      "metadata": {
        "id": "jVp0ygPMhis0"
      }
    },
    {
      "cell_type": "code",
      "source": [
        "label_list = processor.get_labels()\n",
        "label_list"
      ],
      "metadata": {
        "colab": {
          "base_uri": "https://localhost:8080/"
        },
        "id": "wTHTi-W2hlg0",
        "outputId": "12ce514d-847d-44ea-9ad0-59bdc16db294"
      },
      "execution_count": 26,
      "outputs": [
        {
          "output_type": "execute_result",
          "data": {
            "text/plain": [
              "['0', '1', '2']"
            ]
          },
          "metadata": {},
          "execution_count": 26
        }
      ]
    },
    {
      "cell_type": "code",
      "source": [
        "label_map = {label: i for i, label in enumerate(label_list)}\n",
        "label_map"
      ],
      "metadata": {
        "colab": {
          "base_uri": "https://localhost:8080/"
        },
        "id": "fH8VnpzZhl_l",
        "outputId": "cbd3cf51-44af-4c6d-a094-0777fdf61bb2"
      },
      "execution_count": 27,
      "outputs": [
        {
          "output_type": "execute_result",
          "data": {
            "text/plain": [
              "{'0': 0, '1': 1, '2': 2}"
            ]
          },
          "metadata": {},
          "execution_count": 27
        }
      ]
    },
    {
      "cell_type": "markdown",
      "source": [
        "실제 label을 확인하여 Multiple Classification 문제로 정의되는 것을 확인한다."
      ],
      "metadata": {
        "id": "6EqQFXb-hpGO"
      }
    },
    {
      "cell_type": "markdown",
      "source": [
        "<br/>"
      ],
      "metadata": {
        "id": "CdJbgGM-hw-F"
      }
    },
    {
      "cell_type": "markdown",
      "source": [
        "##Huggingface Dataset"
      ],
      "metadata": {
        "id": "KcVdOCmUh0sG"
      }
    },
    {
      "cell_type": "code",
      "source": [
        "huggingface_mnli_dataset = load_dataset('glue', 'mnli')"
      ],
      "metadata": {
        "id": "4WsQjCgohua9"
      },
      "execution_count": null,
      "outputs": []
    },
    {
      "cell_type": "code",
      "source": [
        "print(huggingface_mnli_dataset)"
      ],
      "metadata": {
        "colab": {
          "base_uri": "https://localhost:8080/"
        },
        "id": "C9toz1Csh_9k",
        "outputId": "d3ee3833-da2c-4cc9-d3ec-cda3ee304a64"
      },
      "execution_count": 29,
      "outputs": [
        {
          "output_type": "stream",
          "name": "stdout",
          "text": [
            "DatasetDict({\n",
            "    train: Dataset({\n",
            "        features: ['premise', 'hypothesis', 'label', 'idx'],\n",
            "        num_rows: 392702\n",
            "    })\n",
            "    validation_matched: Dataset({\n",
            "        features: ['premise', 'hypothesis', 'label', 'idx'],\n",
            "        num_rows: 9815\n",
            "    })\n",
            "    validation_mismatched: Dataset({\n",
            "        features: ['premise', 'hypothesis', 'label', 'idx'],\n",
            "        num_rows: 9832\n",
            "    })\n",
            "    test_matched: Dataset({\n",
            "        features: ['premise', 'hypothesis', 'label', 'idx'],\n",
            "        num_rows: 9796\n",
            "    })\n",
            "    test_mismatched: Dataset({\n",
            "        features: ['premise', 'hypothesis', 'label', 'idx'],\n",
            "        num_rows: 9847\n",
            "    })\n",
            "})\n"
          ]
        }
      ]
    },
    {
      "cell_type": "markdown",
      "source": [
        ""
      ],
      "metadata": {
        "id": "woQaaNOSiBa0"
      }
    },
    {
      "cell_type": "markdown",
      "source": [
        "Huggingface Datasets를 사용하면 DataProcessor를 사용할 필요없이 바로 사용가능하게 구성되어 있다.\n",
        "<br/>Dataset Dictionary은 train dataset, validation dataset, test dataset으로 구성된다.\n",
        "<br/>Dataset은 ‘premise’, ‘hypothesis’, ‘label’, ‘idx’(인덱스)로 구성된다."
      ],
      "metadata": {
        "id": "yu5hNPj2iC1k"
      }
    },
    {
      "cell_type": "markdown",
      "source": [
        "<br/>"
      ],
      "metadata": {
        "id": "8RdIOB6M2DWR"
      }
    },
    {
      "cell_type": "markdown",
      "source": [
        "##facebook/bart-large"
      ],
      "metadata": {
        "id": "tnuVFqO51-zP"
      }
    },
    {
      "cell_type": "markdown",
      "source": [
        "###Tokenizer & Model"
      ],
      "metadata": {
        "id": "ELj8fgM32FGh"
      }
    },
    {
      "cell_type": "code",
      "source": [
        "from transformers import BartTokenizer, BartModel, AutoConfig, AdamW\n",
        "\n",
        "tokenizer = BartTokenizer.from_pretrained('facebook/bart-large')\n",
        "model = BartModel.from_pretrained('facebook/bart-large')"
      ],
      "metadata": {
        "id": "LhNq5Qm6eWtJ"
      },
      "execution_count": null,
      "outputs": []
    },
    {
      "cell_type": "markdown",
      "source": [
        "MnliProcessor 클래스와 Framework를 결합하는 과정을 진행한다.\n",
        "<br/>모델 [facebook/bart-large](https://huggingface.co/facebook/bart-large)를 사용한다."
      ],
      "metadata": {
        "id": "Lz2lLNFmWc2e"
      }
    },
    {
      "cell_type": "code",
      "source": [
        "def _glue_convert_examples_to_features(examples, tokenizer, max_length, processor, label_list=None, output_mode=\"claasification\") :\n",
        "    if max_length is None :\n",
        "        max_length = tokenizer.max_len\n",
        "    if label_list is None:\n",
        "        label_list = processor.get_labels()\n",
        "        print(\"Using label list %s\" % (label_list))\n",
        "        print(\"\\n\")\n",
        "\n",
        "    label_map = {label: i for i, label in enumerate(label_list)}\n",
        "    labels = [label_map[example.label] for example in examples]\n",
        "\n",
        "    batch_encoding = tokenizer(\n",
        "        [(example.text_a, example.text_b) for example in examples],\n",
        "        max_length=max_length,\n",
        "        padding=\"max_length\",\n",
        "        truncation=True,\n",
        "    )\n",
        "\n",
        "    features = []\n",
        "    print(\"Example\")\n",
        "    print()\n",
        "\n",
        "    for i in range(len(examples)):\n",
        "        inputs = {k: batch_encoding[k][i] for k in batch_encoding}\n",
        "\n",
        "        feature = InputFeatures(**inputs, label=labels[i])\n",
        "        features.append(feature)\n",
        "\n",
        "        \n",
        "    for i, example in enumerate(examples[:1]):\n",
        "        print(\"guid: %s\" % (example.guid))\n",
        "        pprint.pprint(\"features: %s\" % features[i])\n",
        "        print(\"\\n\")\n",
        "\n",
        "    return features"
      ],
      "metadata": {
        "id": "OjFEHzN7eNa8"
      },
      "execution_count": 34,
      "outputs": []
    },
    {
      "cell_type": "code",
      "source": [
        "def tf_glue_convert_examples_to_features(examples, tokenizer, max_length, processor, label_list=None, output_mode=\"classification\") :\n",
        "    \"\"\"\n",
        "    :param examples: tf.data.Dataset\n",
        "    :param tokenizer: pretrained tokenizer\n",
        "    :param max_length: example의 최대 길이(기본값 : tokenizer의 max_len)\n",
        "    :param task: GLUE task 이름\n",
        "    :param label_list: 라벨 리스트\n",
        "    :param output_mode: \"regression\" or \"classification\"\n",
        "\n",
        "    :return: task에 맞도록 feature가 구성된 tf.data.Dataset\n",
        "    \"\"\"\n",
        "    examples = [processor.tfds_map(processor.get_example_from_tensor_dict(example)) for example in examples]\n",
        "    features = _glue_convert_examples_to_features(examples, tokenizer, max_length, processor)\n",
        "    label_type = tf.int64\n",
        "\n",
        "    def gen():\n",
        "        for ex in features:\n",
        "            d = {k: v for k, v in asdict(ex).items() if v is not None}\n",
        "            label = d.pop(\"label\")\n",
        "            yield (d, label)\n",
        "\n",
        "    input_names = [\"input_ids\"] + tokenizer.model_input_names\n",
        "\n",
        "    return tf.data.Dataset.from_generator(\n",
        "        gen,\n",
        "        ({k: tf.int32 for k in input_names}, label_type),\n",
        "        ({k: tf.TensorShape([None]) for k in input_names}, tf.TensorShape([])),\n",
        "    )"
      ],
      "metadata": {
        "id": "0BQK38c5eNJ9"
      },
      "execution_count": 35,
      "outputs": []
    },
    {
      "cell_type": "code",
      "source": [
        "import logging\n",
        "logging.disable(logging.WARNING)"
      ],
      "metadata": {
        "id": "yDFzloThRvRS"
      },
      "execution_count": 31,
      "outputs": []
    },
    {
      "cell_type": "markdown",
      "source": [
        "Be aware, overflowing tokens are not returned for the setting you have chosen, i.e. sequence pairs with the 'longest_first' truncation strategy. So the returned list will always be empty even if some tokens have been removed."
      ],
      "metadata": {
        "id": "w615CPphR4Hi"
      }
    },
    {
      "cell_type": "code",
      "source": [
        "train_dataset = tf_glue_convert_examples_to_features(data['train'], tokenizer, max_length=128, processor=processor)\n",
        "train_dataset_batch = train_dataset.shuffle(100).batch(16)"
      ],
      "metadata": {
        "colab": {
          "base_uri": "https://localhost:8080/"
        },
        "id": "qfW8auKkeES_",
        "outputId": "781ffc71-9611-40d2-d338-40d39b39ec6e"
      },
      "execution_count": 32,
      "outputs": [
        {
          "output_type": "stream",
          "name": "stdout",
          "text": [
            "Using label list ['0', '1', '2']\n",
            "\n",
            "\n",
            "Example\n",
            "\n",
            "guid: 16399\n",
            "('features: InputFeatures(input_ids=[0, 1121, 4972, 9, 209, 5734, 6, 226, '\n",
            " '3632, 34, 1006, 28554, 187, 7969, 7, 15451, 5, 2113, 9, 5, 331, 9619, 11980, '\n",
            " '8, 7, 5242, 6667, 8670, 19, 7193, 3448, 23, 26242, 10, 92, 39835, 38115, '\n",
            " '227, 5, 752, 3696, 8, 11940, 9, 1030, 518, 1435, 4, 2, 2, 5096, 19266, 2650, '\n",
            " '8670, 19, 7193, 16, 4096, 4, 2, 1, 1, 1, 1, 1, 1, 1, 1, 1, 1, 1, 1, 1, 1, 1, '\n",
            " '1, 1, 1, 1, 1, 1, 1, 1, 1, 1, 1, 1, 1, 1, 1, 1, 1, 1, 1, 1, 1, 1, 1, 1, 1, '\n",
            " '1, 1, 1, 1, 1, 1, 1, 1, 1, 1, 1, 1, 1, 1, 1, 1, 1, 1, 1, 1, 1, 1, 1, 1, 1, '\n",
            " '1, 1, 1], attention_mask=[1, 1, 1, 1, 1, 1, 1, 1, 1, 1, 1, 1, 1, 1, 1, 1, 1, '\n",
            " '1, 1, 1, 1, 1, 1, 1, 1, 1, 1, 1, 1, 1, 1, 1, 1, 1, 1, 1, 1, 1, 1, 1, 1, 1, '\n",
            " '1, 1, 1, 1, 1, 1, 1, 1, 1, 1, 1, 1, 1, 1, 1, 1, 1, 1, 0, 0, 0, 0, 0, 0, 0, '\n",
            " '0, 0, 0, 0, 0, 0, 0, 0, 0, 0, 0, 0, 0, 0, 0, 0, 0, 0, 0, 0, 0, 0, 0, 0, 0, '\n",
            " '0, 0, 0, 0, 0, 0, 0, 0, 0, 0, 0, 0, 0, 0, 0, 0, 0, 0, 0, 0, 0, 0, 0, 0, 0, '\n",
            " '0, 0, 0, 0, 0, 0, 0, 0, 0, 0, 0], token_type_ids=None, label=1)')\n",
            "\n",
            "\n"
          ]
        }
      ]
    },
    {
      "cell_type": "code",
      "source": [
        "validation_dataset = tf_glue_convert_examples_to_features(data['validation_matched'], tokenizer, max_length=128, processor=processor)\n",
        "validation_dataset_batch = validation_dataset.shuffle(100).batch(16)"
      ],
      "metadata": {
        "colab": {
          "base_uri": "https://localhost:8080/"
        },
        "id": "piEuscJHdws2",
        "outputId": "b1838049-9072-4dff-ee25-71c517c75856"
      },
      "execution_count": 33,
      "outputs": [
        {
          "output_type": "stream",
          "name": "stdout",
          "text": [
            "Using label list ['0', '1', '2']\n",
            "\n",
            "\n",
            "Example\n",
            "\n",
            "guid: 6287\n",
            "('features: InputFeatures(input_ids=[0, 2957, 12, 298, 2957, 14223, 11380, 70, '\n",
            " '5, 82, 13, 235, 37463, 301, 50, 402, 2, 2, 42803, 3739, 9, 82, 13, 5, 235, '\n",
            " '301, 1437, 2, 1, 1, 1, 1, 1, 1, 1, 1, 1, 1, 1, 1, 1, 1, 1, 1, 1, 1, 1, 1, 1, '\n",
            " '1, 1, 1, 1, 1, 1, 1, 1, 1, 1, 1, 1, 1, 1, 1, 1, 1, 1, 1, 1, 1, 1, 1, 1, 1, '\n",
            " '1, 1, 1, 1, 1, 1, 1, 1, 1, 1, 1, 1, 1, 1, 1, 1, 1, 1, 1, 1, 1, 1, 1, 1, 1, '\n",
            " '1, 1, 1, 1, 1, 1, 1, 1, 1, 1, 1, 1, 1, 1, 1, 1, 1, 1, 1, 1, 1, 1, 1, 1, 1, '\n",
            " '1, 1, 1, 1], attention_mask=[1, 1, 1, 1, 1, 1, 1, 1, 1, 1, 1, 1, 1, 1, 1, 1, '\n",
            " '1, 1, 1, 1, 1, 1, 1, 1, 1, 1, 1, 1, 0, 0, 0, 0, 0, 0, 0, 0, 0, 0, 0, 0, 0, '\n",
            " '0, 0, 0, 0, 0, 0, 0, 0, 0, 0, 0, 0, 0, 0, 0, 0, 0, 0, 0, 0, 0, 0, 0, 0, 0, '\n",
            " '0, 0, 0, 0, 0, 0, 0, 0, 0, 0, 0, 0, 0, 0, 0, 0, 0, 0, 0, 0, 0, 0, 0, 0, 0, '\n",
            " '0, 0, 0, 0, 0, 0, 0, 0, 0, 0, 0, 0, 0, 0, 0, 0, 0, 0, 0, 0, 0, 0, 0, 0, 0, '\n",
            " '0, 0, 0, 0, 0, 0, 0, 0, 0, 0, 0, 0], token_type_ids=None, label=0)')\n",
            "\n",
            "\n"
          ]
        }
      ]
    },
    {
      "cell_type": "code",
      "source": [
        "test_dataset = tf_glue_convert_examples_to_features(data['test_matched'], tokenizer, max_length=128, processor=processor)\n",
        "test_dataset_batch = test_dataset.shuffle(100).batch(16)"
      ],
      "metadata": {
        "colab": {
          "base_uri": "https://localhost:8080/"
        },
        "id": "kTH6RN949ijf",
        "outputId": "5aa0f282-1855-4084-94ee-3d4e8b26e115"
      },
      "execution_count": 34,
      "outputs": [
        {
          "output_type": "stream",
          "name": "stdout",
          "text": [
            "Using label list ['0', '1', '2']\n",
            "\n",
            "\n",
            "Example\n",
            "\n",
            "guid: 5398\n",
            "('features: InputFeatures(input_ids=[0, 3056, 16, 89, 10, 410, 3459, 9296, 47, '\n",
            " '342, 11, 89, 2, 2, 6209, 89, 10, 9296, 14, 47, 342, 11, 89, 116, 2, 1, 1, 1, '\n",
            " '1, 1, 1, 1, 1, 1, 1, 1, 1, 1, 1, 1, 1, 1, 1, 1, 1, 1, 1, 1, 1, 1, 1, 1, 1, '\n",
            " '1, 1, 1, 1, 1, 1, 1, 1, 1, 1, 1, 1, 1, 1, 1, 1, 1, 1, 1, 1, 1, 1, 1, 1, 1, '\n",
            " '1, 1, 1, 1, 1, 1, 1, 1, 1, 1, 1, 1, 1, 1, 1, 1, 1, 1, 1, 1, 1, 1, 1, 1, 1, '\n",
            " '1, 1, 1, 1, 1, 1, 1, 1, 1, 1, 1, 1, 1, 1, 1, 1, 1, 1, 1, 1, 1, 1, 1, 1, 1], '\n",
            " 'attention_mask=[1, 1, 1, 1, 1, 1, 1, 1, 1, 1, 1, 1, 1, 1, 1, 1, 1, 1, 1, 1, '\n",
            " '1, 1, 1, 1, 1, 0, 0, 0, 0, 0, 0, 0, 0, 0, 0, 0, 0, 0, 0, 0, 0, 0, 0, 0, 0, '\n",
            " '0, 0, 0, 0, 0, 0, 0, 0, 0, 0, 0, 0, 0, 0, 0, 0, 0, 0, 0, 0, 0, 0, 0, 0, 0, '\n",
            " '0, 0, 0, 0, 0, 0, 0, 0, 0, 0, 0, 0, 0, 0, 0, 0, 0, 0, 0, 0, 0, 0, 0, 0, 0, '\n",
            " '0, 0, 0, 0, 0, 0, 0, 0, 0, 0, 0, 0, 0, 0, 0, 0, 0, 0, 0, 0, 0, 0, 0, 0, 0, '\n",
            " '0, 0, 0, 0, 0, 0, 0, 0], token_type_ids=None, label=2)')\n",
            "\n",
            "\n"
          ]
        }
      ]
    },
    {
      "cell_type": "markdown",
      "source": [
        ""
      ],
      "metadata": {
        "id": "mtWjOaJb-jCO"
      }
    },
    {
      "cell_type": "markdown",
      "source": [
        "###Huggingface Auto Classes"
      ],
      "metadata": {
        "id": "iVC30rnq_Ro5"
      }
    },
    {
      "cell_type": "code",
      "source": [
        "# pose sequence as a NLI premise and label as a hypothesis\n",
        "import transformers\n",
        "from transformers import AutoModelForSequenceClassification, AutoTokenizer\n",
        "\n",
        "bart_large_tokenizer = AutoTokenizer.from_pretrained('facebook/bart-large')\n",
        "bart_large_model = AutoModelForSequenceClassification.from_pretrained('facebook/bart-large', num_labels=3)"
      ],
      "metadata": {
        "id": "hbOmtKzB_S3P"
      },
      "execution_count": null,
      "outputs": []
    },
    {
      "cell_type": "markdown",
      "source": [
        "Huggingface의 경우 AutoTokenizer, AutoModel기능을 지원한다.\n",
        "<br/>AutoTokenizer와 AutoModel은 Huggingface에서 지원하는 Auto Class이다.\n",
        "<br/>Auto Class는 from_pretrained 메소드를 이용해 Pretrained Model의 경로 혹은 이름만 안다면 자동으로 생성하는 방법이다."
      ],
      "metadata": {
        "id": "eqA3Xp8F_cSX"
      }
    },
    {
      "cell_type": "markdown",
      "source": [
        "AutoModelForSequenceClassification는 AutoModel을 그대로 사용하기보다 특정 task를 지정하는 방식이다.\n",
        "<br/>Auto Class는 다양한 모델에 자동으로 맞출 수 있기 떄문에 특정 task와 dataset이 주어져있는 경우 다양한 모델을 실험한다."
      ],
      "metadata": {
        "id": "dVCySPf1_e2X"
      }
    },
    {
      "cell_type": "markdown",
      "source": [
        "<br/>"
      ],
      "metadata": {
        "id": "GRdQoHKj_a1X"
      }
    },
    {
      "cell_type": "markdown",
      "source": [
        "###Tokenizing"
      ],
      "metadata": {
        "id": "IrYZBy3e-oWR"
      }
    },
    {
      "cell_type": "code",
      "source": [
        "def transform(data):\n",
        "  return bart_large_tokenizer(\n",
        "      data['premise'],\n",
        "      data['hypothesis'],\n",
        "      truncation = True,\n",
        "      padding = 'max_length',\n",
        "      return_token_type_ids = False,\n",
        "      )"
      ],
      "metadata": {
        "id": "QYEHyX-3RDPH"
      },
      "execution_count": 31,
      "outputs": []
    },
    {
      "cell_type": "markdown",
      "source": [
        "토크나이징은 transform이라는 함수를 만들고 이전에 만들어두었던 Tokenizer를 사용하는데 이때 dataset의 형태를 확인하고 바꿀 대상을 지정한다.\n",
        "<br/>mrpc의 경우 premise, hypothesis가 토크나이징할 대상이므로 data[ 'premise’], data[ 'hypothesis’]로 인덱싱해서 지정한다.\n",
        "<br/>truncation은 특정 문장이 길어 모델을 다루기 힘들어 질 수 있으므로 짧게 자르는 것을 의미한다.\n",
        "<br/>return_token_type_ids는 문장이 한개이상일 때 나뉘는걸 보여준다. (해당 내용은 task에 필요없으므로 제거한다.)"
      ],
      "metadata": {
        "id": "YwrDvMh4R6ZS"
      }
    },
    {
      "cell_type": "code",
      "source": [
        "examples = huggingface_mnli_dataset['train'][:5]\n",
        "examples_transformed = transform(examples)\n",
        "\n",
        "count = 0\n",
        "print(\"Example\")\n",
        "print()\n",
        "pprint.pprint(examples)\n",
        "print(\"\\n\")\n",
        "print()\n",
        "\n",
        "print(\"Tokenization Example\")\n",
        "print()\n",
        "\n",
        "for i in ['input_ids', 'attention_mask']:\n",
        "  if i == 'input_ids':\n",
        "    print('input_ids[0]')\n",
        "  else:\n",
        "    count = 0\n",
        "    print(\"\\n\")\n",
        "    print()\n",
        "    print('attention_mask[0]')\n",
        "\n",
        "  for j in examples_transformed[i][0]:\n",
        "    count += 1\n",
        "    if count < len(examples_transformed[i][0]):\n",
        "      print(j, end=', ')\n",
        "    elif count == len(examples_transformed[i][0]):\n",
        "      print(j, end=' ')  \n",
        "    if (i == 'input_ids' and count % 54 == 32) or (i == 'attention_mask' and count % 54 == 0):\n",
        "      print()"
      ],
      "metadata": {
        "colab": {
          "base_uri": "https://localhost:8080/"
        },
        "id": "K8CRxVdr-8Ns",
        "outputId": "38d7ec39-7203-4242-c610-67a31b7d4cd8"
      },
      "execution_count": 32,
      "outputs": [
        {
          "output_type": "stream",
          "name": "stdout",
          "text": [
            "Example\n",
            "\n",
            "{'hypothesis': ['Product and geography are what make cream skimming work. ',\n",
            "                'You lose the things to the following level if the people '\n",
            "                'recall.',\n",
            "                'A member of my team will execute your orders with immense '\n",
            "                'precision.',\n",
            "                'This information belongs to them.',\n",
            "                'The tennis shoes have a range of prices.'],\n",
            " 'idx': [0, 1, 2, 3, 4],\n",
            " 'label': [1, 0, 0, 0, 1],\n",
            " 'premise': ['Conceptually cream skimming has two basic dimensions - product '\n",
            "             'and geography.',\n",
            "             'you know during the season and i guess at at your level uh you '\n",
            "             'lose them to the next level if if they decide to recall the the '\n",
            "             'parent team the Braves decide to call to recall a guy from '\n",
            "             'triple A then a double A guy goes up to replace him and a single '\n",
            "             'A guy goes up to replace him',\n",
            "             'One of our number will carry out your instructions minutely.',\n",
            "             'How do you know? All this is their information again.',\n",
            "             'yeah i tell you what though if you go price some of those tennis '\n",
            "             \"shoes i can see why now you know they're getting up in the \"\n",
            "             'hundred dollar range']}\n",
            "\n",
            "\n",
            "\n",
            "Tokenization Example\n",
            "\n",
            "input_ids[0]\n",
            "0, 9157, 16771, 13851, 6353, 2972, 16364, 34, 80, 3280, 22735, 111, 1152, 8, 18947, 4, 2, 2, 41257, 8, 18947, 32, 99, 146, 6353, 2972, 16364, 173, 4, 1437, 2, 1, \n",
            "1, 1, 1, 1, 1, 1, 1, 1, 1, 1, 1, 1, 1, 1, 1, 1, 1, 1, 1, 1, 1, 1, 1, 1, 1, 1, 1, 1, 1, 1, 1, 1, 1, 1, 1, 1, 1, 1, 1, 1, 1, 1, 1, 1, 1, 1, 1, 1, 1, 1, 1, 1, 1, 1, \n",
            "1, 1, 1, 1, 1, 1, 1, 1, 1, 1, 1, 1, 1, 1, 1, 1, 1, 1, 1, 1, 1, 1, 1, 1, 1, 1, 1, 1, 1, 1, 1, 1, 1, 1, 1, 1, 1, 1, 1, 1, 1, 1, 1, 1, 1, 1, 1, 1, 1, 1, 1, 1, 1, 1, \n",
            "1, 1, 1, 1, 1, 1, 1, 1, 1, 1, 1, 1, 1, 1, 1, 1, 1, 1, 1, 1, 1, 1, 1, 1, 1, 1, 1, 1, 1, 1, 1, 1, 1, 1, 1, 1, 1, 1, 1, 1, 1, 1, 1, 1, 1, 1, 1, 1, 1, 1, 1, 1, 1, 1, \n",
            "1, 1, 1, 1, 1, 1, 1, 1, 1, 1, 1, 1, 1, 1, 1, 1, 1, 1, 1, 1, 1, 1, 1, 1, 1, 1, 1, 1, 1, 1, 1, 1, 1, 1, 1, 1, 1, 1, 1, 1, 1, 1, 1, 1, 1, 1, 1, 1, 1, 1, 1, 1, 1, 1, \n",
            "1, 1, 1, 1, 1, 1, 1, 1, 1, 1, 1, 1, 1, 1, 1, 1, 1, 1, 1, 1, 1, 1, 1, 1, 1, 1, 1, 1, 1, 1, 1, 1, 1, 1, 1, 1, 1, 1, 1, 1, 1, 1, 1, 1, 1, 1, 1, 1, 1, 1, 1, 1, 1, 1, \n",
            "1, 1, 1, 1, 1, 1, 1, 1, 1, 1, 1, 1, 1, 1, 1, 1, 1, 1, 1, 1, 1, 1, 1, 1, 1, 1, 1, 1, 1, 1, 1, 1, 1, 1, 1, 1, 1, 1, 1, 1, 1, 1, 1, 1, 1, 1, 1, 1, 1, 1, 1, 1, 1, 1, \n",
            "1, 1, 1, 1, 1, 1, 1, 1, 1, 1, 1, 1, 1, 1, 1, 1, 1, 1, 1, 1, 1, 1, 1, 1, 1, 1, 1, 1, 1, 1, 1, 1, 1, 1, 1, 1, 1, 1, 1, 1, 1, 1, 1, 1, 1, 1, 1, 1, 1, 1, 1, 1, 1, 1, \n",
            "1, 1, 1, 1, 1, 1, 1, 1, 1, 1, 1, 1, 1, 1, 1, 1, 1, 1, 1, 1, 1, 1, 1, 1, 1, 1, 1, 1, 1, 1, 1, 1, 1, 1, 1, 1, 1, 1, 1, 1, 1, 1, 1, 1, 1, 1, 1, 1, 1, 1, 1, 1, 1, 1, \n",
            "1, 1, 1, 1, 1, 1, 1, 1, 1, 1, 1, 1, 1, 1, 1, 1, 1, 1, 1, 1, 1, 1, 1, 1, 1, 1, 1, 1, 1, 1, 1, 1, 1, 1, 1, 1, 1, 1, 1, 1, 1, 1, 1, 1, 1, 1, 1, 1, 1, 1, 1, 1, 1, 1, \n",
            "1, 1, 1, 1, 1, 1, 1, 1, 1, 1, 1, 1, 1, 1, 1, 1, 1, 1, 1, 1, 1, 1, 1, 1, 1, 1, 1, 1, 1, 1, 1, 1, 1, 1, 1, 1, 1, 1, 1, 1, 1, 1, 1, 1, 1, 1, 1, 1, 1, 1, 1, 1, 1, 1, \n",
            "1, 1, 1, 1, 1, 1, 1, 1, 1, 1, 1, 1, 1, 1, 1, 1, 1, 1, 1, 1, 1, 1, 1, 1, 1, 1, 1, 1, 1, 1, 1, 1, 1, 1, 1, 1, 1, 1, 1, 1, 1, 1, 1, 1, 1, 1, 1, 1, 1, 1, 1, 1, 1, 1, \n",
            "1, 1, 1, 1, 1, 1, 1, 1, 1, 1, 1, 1, 1, 1, 1, 1, 1, 1, 1, 1, 1, 1, 1, 1, 1, 1, 1, 1, 1, 1, 1, 1, 1, 1, 1, 1, 1, 1, 1, 1, 1, 1, 1, 1, 1, 1, 1, 1, 1, 1, 1, 1, 1, 1, \n",
            "1, 1, 1, 1, 1, 1, 1, 1, 1, 1, 1, 1, 1, 1, 1, 1, 1, 1, 1, 1, 1, 1, 1, 1, 1, 1, 1, 1, 1, 1, 1, 1, 1, 1, 1, 1, 1, 1, 1, 1, 1, 1, 1, 1, 1, 1, 1, 1, 1, 1, 1, 1, 1, 1, \n",
            "1, 1, 1, 1, 1, 1, 1, 1, 1, 1, 1, 1, 1, 1, 1, 1, 1, 1, 1, 1, 1, 1, 1, 1, 1, 1, 1, 1, 1, 1, 1, 1, 1, 1, 1, 1, 1, 1, 1, 1, 1, 1, 1, 1, 1, 1, 1, 1, 1, 1, 1, 1, 1, 1, \n",
            "1, 1, 1, 1, 1, 1, 1, 1, 1, 1, 1, 1, 1, 1, 1, 1, 1, 1, 1, 1, 1, 1, 1, 1, 1, 1, 1, 1, 1, 1, 1, 1, 1, 1, 1, 1, 1, 1, 1, 1, 1, 1, 1, 1, 1, 1, 1, 1, 1, 1, 1, 1, 1, 1, \n",
            "1, 1, 1, 1, 1, 1, 1, 1, 1, 1, 1, 1, 1, 1, 1, 1, 1, 1, 1, 1, 1, 1, 1, 1, 1, 1, 1, 1, 1, 1, 1, 1, 1, 1, 1, 1, 1, 1, 1, 1, 1, 1, 1, 1, 1, 1, 1, 1, 1, 1, 1, 1, 1, 1, \n",
            "1, 1, 1, 1, 1, 1, 1, 1, 1, 1, 1, 1, 1, 1, 1, 1, 1, 1, 1, 1, 1, 1, 1, 1, 1, 1, 1, 1, 1, 1, 1, 1, 1, 1, 1, 1, 1, 1, 1, 1, 1, 1, 1, 1, 1, 1, 1, 1, 1, 1, 1, 1, 1, 1, \n",
            "1, 1, 1, 1, 1, 1, 1, 1, 1, 1, 1, 1, 1, 1, 1, 1, 1, 1, 1, 1, 1, 1, 1, 1, 1, 1, 1, 1, 1, 1, 1, 1, 1, 1, 1, 1, 1, 1, 1, 1, 1, 1, 1, 1, 1, 1, 1, 1, 1, 1, 1, 1, 1, 1, \n",
            "1, 1, 1, 1, 1, 1, 1, 1, 1, 1, 1, 1, 1, 1, 1, 1, 1, 1, 1, 1 \n",
            "\n",
            "\n",
            "attention_mask[0]\n",
            "1, 1, 1, 1, 1, 1, 1, 1, 1, 1, 1, 1, 1, 1, 1, 1, 1, 1, 1, 1, 1, 1, 1, 1, 1, 1, 1, 1, 1, 1, 1, 0, 0, 0, 0, 0, 0, 0, 0, 0, 0, 0, 0, 0, 0, 0, 0, 0, 0, 0, 0, 0, 0, 0, \n",
            "0, 0, 0, 0, 0, 0, 0, 0, 0, 0, 0, 0, 0, 0, 0, 0, 0, 0, 0, 0, 0, 0, 0, 0, 0, 0, 0, 0, 0, 0, 0, 0, 0, 0, 0, 0, 0, 0, 0, 0, 0, 0, 0, 0, 0, 0, 0, 0, 0, 0, 0, 0, 0, 0, \n",
            "0, 0, 0, 0, 0, 0, 0, 0, 0, 0, 0, 0, 0, 0, 0, 0, 0, 0, 0, 0, 0, 0, 0, 0, 0, 0, 0, 0, 0, 0, 0, 0, 0, 0, 0, 0, 0, 0, 0, 0, 0, 0, 0, 0, 0, 0, 0, 0, 0, 0, 0, 0, 0, 0, \n",
            "0, 0, 0, 0, 0, 0, 0, 0, 0, 0, 0, 0, 0, 0, 0, 0, 0, 0, 0, 0, 0, 0, 0, 0, 0, 0, 0, 0, 0, 0, 0, 0, 0, 0, 0, 0, 0, 0, 0, 0, 0, 0, 0, 0, 0, 0, 0, 0, 0, 0, 0, 0, 0, 0, \n",
            "0, 0, 0, 0, 0, 0, 0, 0, 0, 0, 0, 0, 0, 0, 0, 0, 0, 0, 0, 0, 0, 0, 0, 0, 0, 0, 0, 0, 0, 0, 0, 0, 0, 0, 0, 0, 0, 0, 0, 0, 0, 0, 0, 0, 0, 0, 0, 0, 0, 0, 0, 0, 0, 0, \n",
            "0, 0, 0, 0, 0, 0, 0, 0, 0, 0, 0, 0, 0, 0, 0, 0, 0, 0, 0, 0, 0, 0, 0, 0, 0, 0, 0, 0, 0, 0, 0, 0, 0, 0, 0, 0, 0, 0, 0, 0, 0, 0, 0, 0, 0, 0, 0, 0, 0, 0, 0, 0, 0, 0, \n",
            "0, 0, 0, 0, 0, 0, 0, 0, 0, 0, 0, 0, 0, 0, 0, 0, 0, 0, 0, 0, 0, 0, 0, 0, 0, 0, 0, 0, 0, 0, 0, 0, 0, 0, 0, 0, 0, 0, 0, 0, 0, 0, 0, 0, 0, 0, 0, 0, 0, 0, 0, 0, 0, 0, \n",
            "0, 0, 0, 0, 0, 0, 0, 0, 0, 0, 0, 0, 0, 0, 0, 0, 0, 0, 0, 0, 0, 0, 0, 0, 0, 0, 0, 0, 0, 0, 0, 0, 0, 0, 0, 0, 0, 0, 0, 0, 0, 0, 0, 0, 0, 0, 0, 0, 0, 0, 0, 0, 0, 0, \n",
            "0, 0, 0, 0, 0, 0, 0, 0, 0, 0, 0, 0, 0, 0, 0, 0, 0, 0, 0, 0, 0, 0, 0, 0, 0, 0, 0, 0, 0, 0, 0, 0, 0, 0, 0, 0, 0, 0, 0, 0, 0, 0, 0, 0, 0, 0, 0, 0, 0, 0, 0, 0, 0, 0, \n",
            "0, 0, 0, 0, 0, 0, 0, 0, 0, 0, 0, 0, 0, 0, 0, 0, 0, 0, 0, 0, 0, 0, 0, 0, 0, 0, 0, 0, 0, 0, 0, 0, 0, 0, 0, 0, 0, 0, 0, 0, 0, 0, 0, 0, 0, 0, 0, 0, 0, 0, 0, 0, 0, 0, \n",
            "0, 0, 0, 0, 0, 0, 0, 0, 0, 0, 0, 0, 0, 0, 0, 0, 0, 0, 0, 0, 0, 0, 0, 0, 0, 0, 0, 0, 0, 0, 0, 0, 0, 0, 0, 0, 0, 0, 0, 0, 0, 0, 0, 0, 0, 0, 0, 0, 0, 0, 0, 0, 0, 0, \n",
            "0, 0, 0, 0, 0, 0, 0, 0, 0, 0, 0, 0, 0, 0, 0, 0, 0, 0, 0, 0, 0, 0, 0, 0, 0, 0, 0, 0, 0, 0, 0, 0, 0, 0, 0, 0, 0, 0, 0, 0, 0, 0, 0, 0, 0, 0, 0, 0, 0, 0, 0, 0, 0, 0, \n",
            "0, 0, 0, 0, 0, 0, 0, 0, 0, 0, 0, 0, 0, 0, 0, 0, 0, 0, 0, 0, 0, 0, 0, 0, 0, 0, 0, 0, 0, 0, 0, 0, 0, 0, 0, 0, 0, 0, 0, 0, 0, 0, 0, 0, 0, 0, 0, 0, 0, 0, 0, 0, 0, 0, \n",
            "0, 0, 0, 0, 0, 0, 0, 0, 0, 0, 0, 0, 0, 0, 0, 0, 0, 0, 0, 0, 0, 0, 0, 0, 0, 0, 0, 0, 0, 0, 0, 0, 0, 0, 0, 0, 0, 0, 0, 0, 0, 0, 0, 0, 0, 0, 0, 0, 0, 0, 0, 0, 0, 0, \n",
            "0, 0, 0, 0, 0, 0, 0, 0, 0, 0, 0, 0, 0, 0, 0, 0, 0, 0, 0, 0, 0, 0, 0, 0, 0, 0, 0, 0, 0, 0, 0, 0, 0, 0, 0, 0, 0, 0, 0, 0, 0, 0, 0, 0, 0, 0, 0, 0, 0, 0, 0, 0, 0, 0, \n",
            "0, 0, 0, 0, 0, 0, 0, 0, 0, 0, 0, 0, 0, 0, 0, 0, 0, 0, 0, 0, 0, 0, 0, 0, 0, 0, 0, 0, 0, 0, 0, 0, 0, 0, 0, 0, 0, 0, 0, 0, 0, 0, 0, 0, 0, 0, 0, 0, 0, 0, 0, 0, 0, 0, \n",
            "0, 0, 0, 0, 0, 0, 0, 0, 0, 0, 0, 0, 0, 0, 0, 0, 0, 0, 0, 0, 0, 0, 0, 0, 0, 0, 0, 0, 0, 0, 0, 0, 0, 0, 0, 0, 0, 0, 0, 0, 0, 0, 0, 0, 0, 0, 0, 0, 0, 0, 0, 0, 0, 0, \n",
            "0, 0, 0, 0, 0, 0, 0, 0, 0, 0, 0, 0, 0, 0, 0, 0, 0, 0, 0, 0, 0, 0, 0, 0, 0, 0, 0, 0, 0, 0, 0, 0, 0, 0, 0, 0, 0, 0, 0, 0, 0, 0, 0, 0, 0, 0, 0, 0, 0, 0, 0, 0, 0, 0, \n",
            "0, 0, 0, 0, 0, 0, 0, 0, 0, 0, 0, 0, 0, 0, 0, 0, 0, 0, 0, 0, 0, 0, 0, 0, 0, 0, 0, 0, 0, 0, 0, 0, 0, 0, 0, 0, 0, 0, 0, 0, 0, 0, 0, 0, 0, 0, 0, 0, 0, 0, 0, 0 "
          ]
        }
      ]
    },
    {
      "cell_type": "markdown",
      "source": [
        "<br/><br/><br/><br/>"
      ],
      "metadata": {
        "id": "5vLSj1v_AP9w"
      }
    },
    {
      "cell_type": "code",
      "source": [
        "encoded_dataset = huggingface_mnli_dataset.map(transform, batched=True)"
      ],
      "metadata": {
        "id": "UO67TzenRZIt"
      },
      "execution_count": null,
      "outputs": []
    },
    {
      "cell_type": "markdown",
      "source": [
        "데이터셋을 한번에 토크나이징할때 자주 사용하는 기법은 map이다.\n",
        "<br/>map을 사용하면 Data Dictionary에 있는 모든 데이터들이 빠르게 적용시킬 수 있다.\n",
        "<br/>우리는 map을 사용해 토크나이징을 진행하기 때문에 batch를 적용하므로 batched=True를 설정한다."
      ],
      "metadata": {
        "id": "5s47wD5ZAYS9"
      }
    },
    {
      "cell_type": "code",
      "source": [
        "encoded_dataset['train'].shape, encoded_dataset['validation_matched'].shape, encoded_dataset['test_matched'].shape"
      ],
      "metadata": {
        "colab": {
          "base_uri": "https://localhost:8080/"
        },
        "id": "R2v_E16NvsuR",
        "outputId": "86ef7178-4cf5-46ef-c6c6-02ece660c294"
      },
      "execution_count": 34,
      "outputs": [
        {
          "output_type": "execute_result",
          "data": {
            "text/plain": [
              "((392702, 6), (9815, 6), (9796, 6))"
            ]
          },
          "metadata": {},
          "execution_count": 34
        }
      ]
    },
    {
      "cell_type": "markdown",
      "source": [
        "<br/>"
      ],
      "metadata": {
        "id": "mS4elaak6FyN"
      }
    },
    {
      "cell_type": "markdown",
      "source": [
        "###HuggingFace Trainer"
      ],
      "metadata": {
        "id": "QZxgJEmiAcji"
      }
    },
    {
      "cell_type": "code",
      "source": [
        "from huggingface_hub import notebook_login\n",
        "\n",
        "notebook_login()"
      ],
      "metadata": {
        "colab": {
          "base_uri": "https://localhost:8080/",
          "height": 383,
          "referenced_widgets": [
            "c4bf57ded82640e786698549a7a7ad03",
            "41dd780324a34687a33a45b131c6e032",
            "71073936e3054e54bf2f701bca84b544",
            "ad4bee22a881402c817d972a8c9168f8",
            "d6ba898d5d0a4f4f8397a6f86a4d5c0b",
            "1af3186250de4cada86db16551f7c1b4",
            "660ce5b23e42417891e53ed99f6a7a18",
            "369962a119024a6bae9d48f6e1e734d6",
            "d0e58f898d034592a34a3e452e59e033",
            "f9ffc9c505d340ca8b73d18445925ad8",
            "0be245765ba14081af2216edeb7509e9",
            "d7162485ae664876a0223d15c205ad2d",
            "108f4e016289415fb1efc19fe3861906",
            "5a08bb05544e4e4bb8fcb52137b117e5"
          ]
        },
        "id": "nmMejkvX_Z8x",
        "outputId": "995ce4c5-1112-431f-cc47-32ab61598e56"
      },
      "execution_count": 35,
      "outputs": [
        {
          "output_type": "stream",
          "name": "stdout",
          "text": [
            "Login successful\n",
            "Your token has been saved to /root/.huggingface/token\n",
            "\u001b[1m\u001b[31mAuthenticated through git-credential store but this isn't the helper defined on your machine.\n",
            "You might have to re-authenticate when pushing to the Hugging Face Hub. Run the following command in your terminal in case you want to set this credential helper as the default\n",
            "\n",
            "git config --global credential.helper store\u001b[0m\n"
          ]
        }
      ]
    },
    {
      "cell_type": "code",
      "source": [
        "task = \"mnli\"\n",
        "model_checkpoint = 'facebook/bart-large'\n",
        "batch_size = 1"
      ],
      "metadata": {
        "id": "ZXy85i7g_N9G"
      },
      "execution_count": 36,
      "outputs": []
    },
    {
      "cell_type": "markdown",
      "source": [
        "RuntimeError: CUDA out of memory. Tried to allocate 256.00 MiB (GPU 0; 15.90 <br/>GiB total capacity; 14.79\n",
        "<br/>GiB already allocated; 121.75 MiB\n",
        "<br/>free; 14.90 GiB reserved in total by PyTorch)\n",
        "<br/>If reserved memory is >> allocated memory try setting max_split_size_mb to avoid fragmentation. \n",
        "<br/>See documentation for Memory Management and PYTORCH_CUDA_ALLOC_CONF"
      ],
      "metadata": {
        "id": "5qg2xViCCPhV"
      }
    },
    {
      "cell_type": "markdown",
      "source": [
        "RuntimeError로 인해 batch_size = 1로 설정한다."
      ],
      "metadata": {
        "id": "PhXHksq8CZ9l"
      }
    },
    {
      "cell_type": "code",
      "source": [
        "metric_name = \"pearson\" if task == \"stsb\" else \"matthews_correlation\" if task == \"cola\" else \"accuracy\"\n",
        "model_name = model_checkpoint.split(\"/\")[-1]\n",
        "output_dir = 'facebook_bart_large_mnli'\n",
        "\n",
        "bart_large_args = TrainingArguments(\n",
        "    output_dir,\n",
        "    f\"{model_name}-finetuned-{task}\",\n",
        "    evaluation_strategy = \"epoch\",\n",
        "    save_strategy = \"epoch\",\n",
        "    learning_rate=2e-5,\n",
        "    per_device_train_batch_size=batch_size,\n",
        "    per_device_eval_batch_size=batch_size,\n",
        "    num_train_epochs=1,\n",
        "    weight_decay=0.01,\n",
        "    load_best_model_at_end=True,\n",
        "    metric_for_best_model=metric_name,\n",
        "    push_to_hub=True,\n",
        ")"
      ],
      "metadata": {
        "id": "olHlI8ky6JBT"
      },
      "execution_count": 37,
      "outputs": []
    },
    {
      "cell_type": "code",
      "source": [
        "def compute_metrics(eval_pred):\n",
        "    predictions, labels = eval_pred\n",
        "    if task != \"stsb\":\n",
        "        predictions = np.argmax(predictions, axis=1)\n",
        "    else:\n",
        "        predictions = predictions[:, 0]\n",
        "    return metric.compute(predictions=predictions, references=labels)"
      ],
      "metadata": {
        "id": "2FSLOtDL-_xY"
      },
      "execution_count": 38,
      "outputs": []
    },
    {
      "cell_type": "code",
      "source": [
        "validation_key = \"validation_mismatched\" if task == \"mnli-mm\" else \"validation_matched\" if task == \"mnli\" else \"validation\"\n",
        "bart_large_trainer = Trainer(\n",
        "    bart_large_model,\n",
        "    bart_large_args,\n",
        "    train_dataset=encoded_dataset[\"train\"],\n",
        "    eval_dataset=encoded_dataset[validation_key],\n",
        "    tokenizer=bart_large_tokenizer,\n",
        "    compute_metrics=compute_metrics\n",
        ")"
      ],
      "metadata": {
        "colab": {
          "base_uri": "https://localhost:8080/"
        },
        "id": "8qwKf6So_Bv-",
        "outputId": "fa095343-464d-4a6a-a5c7-6321e4b73f52"
      },
      "execution_count": 39,
      "outputs": [
        {
          "output_type": "stream",
          "name": "stderr",
          "text": [
            "Cloning https://huggingface.co/minseok0809/facebook_bart_large_mnli into local empty directory.\n",
            "WARNING:huggingface_hub.repository:Cloning https://huggingface.co/minseok0809/facebook_bart_large_mnli into local empty directory.\n"
          ]
        }
      ]
    },
    {
      "cell_type": "code",
      "source": [
        "bart_large_trainer.train()"
      ],
      "metadata": {
        "colab": {
          "base_uri": "https://localhost:8080/",
          "height": 552
        },
        "id": "x9eSvLq76Nxq",
        "outputId": "554d9f15-1278-47d8-c204-c6e853dc1712"
      },
      "execution_count": 40,
      "outputs": [
        {
          "output_type": "stream",
          "name": "stderr",
          "text": [
            "The following columns in the training set don't have a corresponding argument in `BartForSequenceClassification.forward` and have been ignored: idx, premise, hypothesis. If idx, premise, hypothesis are not expected by `BartForSequenceClassification.forward`,  you can safely ignore this message.\n",
            "***** Running training *****\n",
            "  Num examples = 392702\n",
            "  Num Epochs = 1\n",
            "  Instantaneous batch size per device = 1\n",
            "  Total train batch size (w. parallel, distributed & accumulation) = 1\n",
            "  Gradient Accumulation steps = 1\n",
            "  Total optimization steps = 392702\n"
          ]
        },
        {
          "output_type": "display_data",
          "data": {
            "text/plain": [
              "<IPython.core.display.HTML object>"
            ],
            "text/html": [
              "\n",
              "    <div>\n",
              "      \n",
              "      <progress value='58' max='392702' style='width:300px; height:20px; vertical-align: middle;'></progress>\n",
              "      [    58/392702 00:54 < 106:38:43, 1.02 it/s, Epoch 0.00/1]\n",
              "    </div>\n",
              "    <table border=\"1\" class=\"dataframe\">\n",
              "  <thead>\n",
              " <tr style=\"text-align: left;\">\n",
              "      <th>Epoch</th>\n",
              "      <th>Training Loss</th>\n",
              "      <th>Validation Loss</th>\n",
              "    </tr>\n",
              "  </thead>\n",
              "  <tbody>\n",
              "  </tbody>\n",
              "</table><p>"
            ]
          },
          "metadata": {}
        },
        {
          "output_type": "error",
          "ename": "KeyboardInterrupt",
          "evalue": "ignored",
          "traceback": [
            "\u001b[0;31m---------------------------------------------------------------------------\u001b[0m",
            "\u001b[0;31mKeyboardInterrupt\u001b[0m                         Traceback (most recent call last)",
            "\u001b[0;32m<ipython-input-40-5875b6c7b461>\u001b[0m in \u001b[0;36m<module>\u001b[0;34m()\u001b[0m\n\u001b[0;32m----> 1\u001b[0;31m \u001b[0mbart_large_trainer\u001b[0m\u001b[0;34m.\u001b[0m\u001b[0mtrain\u001b[0m\u001b[0;34m(\u001b[0m\u001b[0;34m)\u001b[0m\u001b[0;34m\u001b[0m\u001b[0;34m\u001b[0m\u001b[0m\n\u001b[0m",
            "\u001b[0;32m/usr/local/lib/python3.7/dist-packages/transformers/trainer.py\u001b[0m in \u001b[0;36mtrain\u001b[0;34m(self, resume_from_checkpoint, trial, ignore_keys_for_eval, **kwargs)\u001b[0m\n\u001b[1;32m   1500\u001b[0m             \u001b[0mresume_from_checkpoint\u001b[0m\u001b[0;34m=\u001b[0m\u001b[0mresume_from_checkpoint\u001b[0m\u001b[0;34m,\u001b[0m\u001b[0;34m\u001b[0m\u001b[0;34m\u001b[0m\u001b[0m\n\u001b[1;32m   1501\u001b[0m             \u001b[0mtrial\u001b[0m\u001b[0;34m=\u001b[0m\u001b[0mtrial\u001b[0m\u001b[0;34m,\u001b[0m\u001b[0;34m\u001b[0m\u001b[0;34m\u001b[0m\u001b[0m\n\u001b[0;32m-> 1502\u001b[0;31m             \u001b[0mignore_keys_for_eval\u001b[0m\u001b[0;34m=\u001b[0m\u001b[0mignore_keys_for_eval\u001b[0m\u001b[0;34m,\u001b[0m\u001b[0;34m\u001b[0m\u001b[0;34m\u001b[0m\u001b[0m\n\u001b[0m\u001b[1;32m   1503\u001b[0m         )\n\u001b[1;32m   1504\u001b[0m \u001b[0;34m\u001b[0m\u001b[0m\n",
            "\u001b[0;32m/usr/local/lib/python3.7/dist-packages/transformers/trainer.py\u001b[0m in \u001b[0;36m_inner_training_loop\u001b[0;34m(self, batch_size, args, resume_from_checkpoint, trial, ignore_keys_for_eval)\u001b[0m\n\u001b[1;32m   1738\u001b[0m                         \u001b[0mtr_loss_step\u001b[0m \u001b[0;34m=\u001b[0m \u001b[0mself\u001b[0m\u001b[0;34m.\u001b[0m\u001b[0mtraining_step\u001b[0m\u001b[0;34m(\u001b[0m\u001b[0mmodel\u001b[0m\u001b[0;34m,\u001b[0m \u001b[0minputs\u001b[0m\u001b[0;34m)\u001b[0m\u001b[0;34m\u001b[0m\u001b[0;34m\u001b[0m\u001b[0m\n\u001b[1;32m   1739\u001b[0m                 \u001b[0;32melse\u001b[0m\u001b[0;34m:\u001b[0m\u001b[0;34m\u001b[0m\u001b[0;34m\u001b[0m\u001b[0m\n\u001b[0;32m-> 1740\u001b[0;31m                     \u001b[0mtr_loss_step\u001b[0m \u001b[0;34m=\u001b[0m \u001b[0mself\u001b[0m\u001b[0;34m.\u001b[0m\u001b[0mtraining_step\u001b[0m\u001b[0;34m(\u001b[0m\u001b[0mmodel\u001b[0m\u001b[0;34m,\u001b[0m \u001b[0minputs\u001b[0m\u001b[0;34m)\u001b[0m\u001b[0;34m\u001b[0m\u001b[0;34m\u001b[0m\u001b[0m\n\u001b[0m\u001b[1;32m   1741\u001b[0m \u001b[0;34m\u001b[0m\u001b[0m\n\u001b[1;32m   1742\u001b[0m                 if (\n",
            "\u001b[0;32m/usr/local/lib/python3.7/dist-packages/transformers/trainer.py\u001b[0m in \u001b[0;36mtraining_step\u001b[0;34m(self, model, inputs)\u001b[0m\n\u001b[1;32m   2486\u001b[0m             \u001b[0mloss\u001b[0m \u001b[0;34m=\u001b[0m \u001b[0mself\u001b[0m\u001b[0;34m.\u001b[0m\u001b[0mdeepspeed\u001b[0m\u001b[0;34m.\u001b[0m\u001b[0mbackward\u001b[0m\u001b[0;34m(\u001b[0m\u001b[0mloss\u001b[0m\u001b[0;34m)\u001b[0m\u001b[0;34m\u001b[0m\u001b[0;34m\u001b[0m\u001b[0m\n\u001b[1;32m   2487\u001b[0m         \u001b[0;32melse\u001b[0m\u001b[0;34m:\u001b[0m\u001b[0;34m\u001b[0m\u001b[0;34m\u001b[0m\u001b[0m\n\u001b[0;32m-> 2488\u001b[0;31m             \u001b[0mloss\u001b[0m\u001b[0;34m.\u001b[0m\u001b[0mbackward\u001b[0m\u001b[0;34m(\u001b[0m\u001b[0;34m)\u001b[0m\u001b[0;34m\u001b[0m\u001b[0;34m\u001b[0m\u001b[0m\n\u001b[0m\u001b[1;32m   2489\u001b[0m \u001b[0;34m\u001b[0m\u001b[0m\n\u001b[1;32m   2490\u001b[0m         \u001b[0;32mreturn\u001b[0m \u001b[0mloss\u001b[0m\u001b[0;34m.\u001b[0m\u001b[0mdetach\u001b[0m\u001b[0;34m(\u001b[0m\u001b[0;34m)\u001b[0m\u001b[0;34m\u001b[0m\u001b[0;34m\u001b[0m\u001b[0m\n",
            "\u001b[0;32m/usr/local/lib/python3.7/dist-packages/torch/_tensor.py\u001b[0m in \u001b[0;36mbackward\u001b[0;34m(self, gradient, retain_graph, create_graph, inputs)\u001b[0m\n\u001b[1;32m    394\u001b[0m                 \u001b[0mcreate_graph\u001b[0m\u001b[0;34m=\u001b[0m\u001b[0mcreate_graph\u001b[0m\u001b[0;34m,\u001b[0m\u001b[0;34m\u001b[0m\u001b[0;34m\u001b[0m\u001b[0m\n\u001b[1;32m    395\u001b[0m                 inputs=inputs)\n\u001b[0;32m--> 396\u001b[0;31m         \u001b[0mtorch\u001b[0m\u001b[0;34m.\u001b[0m\u001b[0mautograd\u001b[0m\u001b[0;34m.\u001b[0m\u001b[0mbackward\u001b[0m\u001b[0;34m(\u001b[0m\u001b[0mself\u001b[0m\u001b[0;34m,\u001b[0m \u001b[0mgradient\u001b[0m\u001b[0;34m,\u001b[0m \u001b[0mretain_graph\u001b[0m\u001b[0;34m,\u001b[0m \u001b[0mcreate_graph\u001b[0m\u001b[0;34m,\u001b[0m \u001b[0minputs\u001b[0m\u001b[0;34m=\u001b[0m\u001b[0minputs\u001b[0m\u001b[0;34m)\u001b[0m\u001b[0;34m\u001b[0m\u001b[0;34m\u001b[0m\u001b[0m\n\u001b[0m\u001b[1;32m    397\u001b[0m \u001b[0;34m\u001b[0m\u001b[0m\n\u001b[1;32m    398\u001b[0m     \u001b[0;32mdef\u001b[0m \u001b[0mregister_hook\u001b[0m\u001b[0;34m(\u001b[0m\u001b[0mself\u001b[0m\u001b[0;34m,\u001b[0m \u001b[0mhook\u001b[0m\u001b[0;34m)\u001b[0m\u001b[0;34m:\u001b[0m\u001b[0;34m\u001b[0m\u001b[0;34m\u001b[0m\u001b[0m\n",
            "\u001b[0;32m/usr/local/lib/python3.7/dist-packages/torch/autograd/__init__.py\u001b[0m in \u001b[0;36mbackward\u001b[0;34m(tensors, grad_tensors, retain_graph, create_graph, grad_variables, inputs)\u001b[0m\n\u001b[1;32m    173\u001b[0m     Variable._execution_engine.run_backward(  # Calls into the C++ engine to run the backward pass\n\u001b[1;32m    174\u001b[0m         \u001b[0mtensors\u001b[0m\u001b[0;34m,\u001b[0m \u001b[0mgrad_tensors_\u001b[0m\u001b[0;34m,\u001b[0m \u001b[0mretain_graph\u001b[0m\u001b[0;34m,\u001b[0m \u001b[0mcreate_graph\u001b[0m\u001b[0;34m,\u001b[0m \u001b[0minputs\u001b[0m\u001b[0;34m,\u001b[0m\u001b[0;34m\u001b[0m\u001b[0;34m\u001b[0m\u001b[0m\n\u001b[0;32m--> 175\u001b[0;31m         allow_unreachable=True, accumulate_grad=True)  # Calls into the C++ engine to run the backward pass\n\u001b[0m\u001b[1;32m    176\u001b[0m \u001b[0;34m\u001b[0m\u001b[0m\n\u001b[1;32m    177\u001b[0m def grad(\n",
            "\u001b[0;31mKeyboardInterrupt\u001b[0m: "
          ]
        }
      ]
    },
    {
      "cell_type": "markdown",
      "source": [
        "RuntimeError로 인해 batch_size = 1, num_train_epochs=1로 설정했는데도\n",
        "<br/>모델 학습 예상 시간이 106시간이 넘어서 작업을 중지하고 다른 방법을 모색한다.\n",
        "<br/>[facebook/bart-large](https://huggingface.co/facebook/bart-large)가 대용량 모델이기 때문에\n",
        "<br/>분산 컴퓨팅을 어떻게 설정해야할지 혹은 소형 모델을 만들어야할지 결정해야 한다.\n"
      ],
      "metadata": {
        "id": "9ZbDJ46b4DkN"
      }
    },
    {
      "cell_type": "code",
      "source": [
        "cd .."
      ],
      "metadata": {
        "colab": {
          "base_uri": "https://localhost:8080/"
        },
        "id": "0lNnSq6cGOyC",
        "outputId": "181e0351-2161-46de-cc7b-dedd4b2721fa"
      },
      "execution_count": 42,
      "outputs": [
        {
          "output_type": "stream",
          "name": "stdout",
          "text": [
            "/content/drive/MyDrive/lms/huggingface_glue_task\n"
          ]
        }
      ]
    },
    {
      "cell_type": "code",
      "source": [
        "pwd"
      ],
      "metadata": {
        "colab": {
          "base_uri": "https://localhost:8080/",
          "height": 35
        },
        "id": "Jp60xBEMGPNK",
        "outputId": "bdc9422f-9a9b-4387-c96c-27d4a52acd2f"
      },
      "execution_count": 43,
      "outputs": [
        {
          "output_type": "execute_result",
          "data": {
            "text/plain": [
              "'/content/drive/MyDrive/lms/huggingface_glue_task'"
            ],
            "application/vnd.google.colaboratory.intrinsic+json": {
              "type": "string"
            }
          },
          "metadata": {},
          "execution_count": 43
        }
      ]
    },
    {
      "cell_type": "code",
      "source": [
        "Image(filename='google_bart_large_gpu.JPG') "
      ],
      "metadata": {
        "colab": {
          "base_uri": "https://localhost:8080/",
          "height": 196
        },
        "id": "546vpWSwDebX",
        "outputId": "ff189088-fff1-43f8-8f21-7f3b693a7ec1"
      },
      "execution_count": 44,
      "outputs": [
        {
          "output_type": "execute_result",
          "data": {
            "text/plain": [
              "<IPython.core.display.Image object>"
            ],
            "image/jpeg": "[encoded data removed]"
          },
          "metadata": {},
          "execution_count": 44
        }
      ]
    },
    {
      "cell_type": "markdown",
      "source": [
        "<br/>"
      ],
      "metadata": {
        "id": "PQxujNBEDe6W"
      }
    },
    {
      "cell_type": "code",
      "source": [
        "bart_large_trainer.evaluate()"
      ],
      "metadata": {
        "id": "UMFnPenC_wbN"
      },
      "execution_count": null,
      "outputs": []
    },
    {
      "cell_type": "markdown",
      "source": [
        "<br/>"
      ],
      "metadata": {
        "id": "OlWAdWYy4-w8"
      }
    },
    {
      "cell_type": "markdown",
      "source": [
        "##google/electra-base-discriminator"
      ],
      "metadata": {
        "id": "F5usYAjRiK8r"
      }
    },
    {
      "cell_type": "code",
      "source": [
        "cd transfomers_v4.21.1"
      ],
      "metadata": {
        "id": "BhjzOVCCGdo0"
      },
      "execution_count": null,
      "outputs": []
    },
    {
      "cell_type": "code",
      "source": [
        "pwd"
      ],
      "metadata": {
        "colab": {
          "base_uri": "https://localhost:8080/",
          "height": 35
        },
        "id": "6hMsFftbGhnx",
        "outputId": "e8f03d4e-33a5-49a0-e521-fe5eaffa2d65"
      },
      "execution_count": 46,
      "outputs": [
        {
          "output_type": "execute_result",
          "data": {
            "text/plain": [
              "'/content/drive/MyDrive/lms/huggingface_glue_task/transfomers_v4.21.1'"
            ],
            "application/vnd.google.colaboratory.intrinsic+json": {
              "type": "string"
            }
          },
          "metadata": {},
          "execution_count": 46
        }
      ]
    },
    {
      "cell_type": "markdown",
      "source": [
        "###Tokenizer & Model"
      ],
      "metadata": {
        "id": "I6XuVZmwiMv1"
      }
    },
    {
      "cell_type": "code",
      "source": [
        "from transformers import ElectraTokenizerFast, ElectraForSequenceClassification, AutoConfig\n",
        "\n",
        "tokenizer = ElectraTokenizerFast.from_pretrained('google/electra-base-discriminator')\n",
        "model = ElectraForSequenceClassification.from_pretrained('google/electra-base-discriminator')"
      ],
      "metadata": {
        "id": "ILHfN1ZPiNXd"
      },
      "execution_count": null,
      "outputs": []
    },
    {
      "cell_type": "markdown",
      "source": [
        "MnliProcessor 클래스와 Framework를 결합하는 과정을 진행한다.\n",
        "<br/>모델 [google/electra-base-discriminator](https://huggingface.co/google/electra-base-discriminator)를 사용한다.\n"
      ],
      "metadata": {
        "id": "kgWFbLdnVaWI"
      }
    },
    {
      "cell_type": "code",
      "source": [
        "import logging\n",
        "logging.disable(logging.WARNING)"
      ],
      "metadata": {
        "id": "VqH6bCtM7weD"
      },
      "execution_count": 29,
      "outputs": []
    },
    {
      "cell_type": "markdown",
      "source": [
        "Be aware, overflowing tokens are not returned for the setting you have chosen, i.e. sequence pairs with the 'longest_first' truncation strategy. So the returned list will always be empty even if some tokens have been removed."
      ],
      "metadata": {
        "id": "lOblWhbc7091"
      }
    },
    {
      "cell_type": "code",
      "source": [
        "train_dataset = tf_glue_convert_examples_to_features(data['train'], tokenizer, max_length=128, processor=processor)\n",
        "train_dataset_batch = train_dataset.shuffle(100).batch(16)"
      ],
      "metadata": {
        "colab": {
          "base_uri": "https://localhost:8080/"
        },
        "id": "OUMZ7Mbm7w4d",
        "outputId": "0f4f46d9-707c-4e48-9664-5ef264e22d66"
      },
      "execution_count": 33,
      "outputs": [
        {
          "output_type": "stream",
          "name": "stdout",
          "text": [
            "Using label list ['0', '1', '2']\n",
            "\n",
            "\n",
            "Example\n",
            "\n",
            "guid: 16399\n",
            "('features: InputFeatures(input_ids=[101, 1999, 5038, 1997, 2122, 13136, 1010, '\n",
            " '1048, 11020, 2038, 2499, 29454, 29206, 14626, 2144, 2786, 2000, 16636, 1996, '\n",
            " '10908, 1997, 1996, 2110, 4041, 6349, 1998, 2000, 5323, 15902, 13797, 2007, '\n",
            " '22859, 6461, 2012, 6469, 2075, 1037, 2047, 25353, 14905, 10735, 2483, 2090, '\n",
            " '1996, 2976, 10802, 1998, 15991, 1997, 3423, 2578, 4804, 1012, 102, 15902, '\n",
            " '13797, 2007, 22859, 2003, 10232, 1012, 102, 0, 0, 0, 0, 0, 0, 0, 0, 0, 0, 0, '\n",
            " '0, 0, 0, 0, 0, 0, 0, 0, 0, 0, 0, 0, 0, 0, 0, 0, 0, 0, 0, 0, 0, 0, 0, 0, 0, '\n",
            " '0, 0, 0, 0, 0, 0, 0, 0, 0, 0, 0, 0, 0, 0, 0, 0, 0, 0, 0, 0, 0, 0, 0, 0, 0, '\n",
            " '0, 0, 0, 0, 0], attention_mask=[1, 1, 1, 1, 1, 1, 1, 1, 1, 1, 1, 1, 1, 1, 1, '\n",
            " '1, 1, 1, 1, 1, 1, 1, 1, 1, 1, 1, 1, 1, 1, 1, 1, 1, 1, 1, 1, 1, 1, 1, 1, 1, '\n",
            " '1, 1, 1, 1, 1, 1, 1, 1, 1, 1, 1, 1, 1, 1, 1, 1, 1, 1, 1, 1, 1, 1, 0, 0, 0, '\n",
            " '0, 0, 0, 0, 0, 0, 0, 0, 0, 0, 0, 0, 0, 0, 0, 0, 0, 0, 0, 0, 0, 0, 0, 0, 0, '\n",
            " '0, 0, 0, 0, 0, 0, 0, 0, 0, 0, 0, 0, 0, 0, 0, 0, 0, 0, 0, 0, 0, 0, 0, 0, 0, '\n",
            " '0, 0, 0, 0, 0, 0, 0, 0, 0, 0, 0, 0, 0], token_type_ids=[0, 0, 0, 0, 0, 0, 0, '\n",
            " '0, 0, 0, 0, 0, 0, 0, 0, 0, 0, 0, 0, 0, 0, 0, 0, 0, 0, 0, 0, 0, 0, 0, 0, 0, '\n",
            " '0, 0, 0, 0, 0, 0, 0, 0, 0, 0, 0, 0, 0, 0, 0, 0, 0, 0, 0, 0, 0, 0, 1, 1, 1, '\n",
            " '1, 1, 1, 1, 1, 0, 0, 0, 0, 0, 0, 0, 0, 0, 0, 0, 0, 0, 0, 0, 0, 0, 0, 0, 0, '\n",
            " '0, 0, 0, 0, 0, 0, 0, 0, 0, 0, 0, 0, 0, 0, 0, 0, 0, 0, 0, 0, 0, 0, 0, 0, 0, '\n",
            " '0, 0, 0, 0, 0, 0, 0, 0, 0, 0, 0, 0, 0, 0, 0, 0, 0, 0, 0, 0, 0], label=1)')\n",
            "\n",
            "\n"
          ]
        }
      ]
    },
    {
      "cell_type": "code",
      "source": [
        "validation_dataset = tf_glue_convert_examples_to_features(data['validation_matched'], tokenizer, max_length=128, processor=processor)\n",
        "validation_dataset_batch = validation_dataset.shuffle(100).batch(16)"
      ],
      "metadata": {
        "colab": {
          "base_uri": "https://localhost:8080/"
        },
        "id": "qkGRt7YD8GS8",
        "outputId": "db48c08f-aa12-4ab3-a77c-ac8a0c039e73"
      },
      "execution_count": 35,
      "outputs": [
        {
          "output_type": "stream",
          "name": "stdout",
          "text": [
            "Using label list ['0', '1', '2']\n",
            "\n",
            "\n",
            "Example\n",
            "\n",
            "guid: 6287\n",
            "('features: InputFeatures(input_ids=[101, 7910, 1011, 9616, 2821, 3398, 2035, '\n",
            " '1996, 2111, 2005, 2157, 7910, 2166, 2030, 2242, 102, 3398, 7167, 1997, 2111, '\n",
            " '2005, 1996, 2157, 2166, 102, 0, 0, 0, 0, 0, 0, 0, 0, 0, 0, 0, 0, 0, 0, 0, 0, '\n",
            " '0, 0, 0, 0, 0, 0, 0, 0, 0, 0, 0, 0, 0, 0, 0, 0, 0, 0, 0, 0, 0, 0, 0, 0, 0, '\n",
            " '0, 0, 0, 0, 0, 0, 0, 0, 0, 0, 0, 0, 0, 0, 0, 0, 0, 0, 0, 0, 0, 0, 0, 0, 0, '\n",
            " '0, 0, 0, 0, 0, 0, 0, 0, 0, 0, 0, 0, 0, 0, 0, 0, 0, 0, 0, 0, 0, 0, 0, 0, 0, '\n",
            " '0, 0, 0, 0, 0, 0, 0, 0, 0, 0, 0, 0], attention_mask=[1, 1, 1, 1, 1, 1, 1, 1, '\n",
            " '1, 1, 1, 1, 1, 1, 1, 1, 1, 1, 1, 1, 1, 1, 1, 1, 1, 0, 0, 0, 0, 0, 0, 0, 0, '\n",
            " '0, 0, 0, 0, 0, 0, 0, 0, 0, 0, 0, 0, 0, 0, 0, 0, 0, 0, 0, 0, 0, 0, 0, 0, 0, '\n",
            " '0, 0, 0, 0, 0, 0, 0, 0, 0, 0, 0, 0, 0, 0, 0, 0, 0, 0, 0, 0, 0, 0, 0, 0, 0, '\n",
            " '0, 0, 0, 0, 0, 0, 0, 0, 0, 0, 0, 0, 0, 0, 0, 0, 0, 0, 0, 0, 0, 0, 0, 0, 0, '\n",
            " '0, 0, 0, 0, 0, 0, 0, 0, 0, 0, 0, 0, 0, 0, 0, 0, 0, 0, 0, 0], '\n",
            " 'token_type_ids=[0, 0, 0, 0, 0, 0, 0, 0, 0, 0, 0, 0, 0, 0, 0, 0, 1, 1, 1, 1, '\n",
            " '1, 1, 1, 1, 1, 0, 0, 0, 0, 0, 0, 0, 0, 0, 0, 0, 0, 0, 0, 0, 0, 0, 0, 0, 0, '\n",
            " '0, 0, 0, 0, 0, 0, 0, 0, 0, 0, 0, 0, 0, 0, 0, 0, 0, 0, 0, 0, 0, 0, 0, 0, 0, '\n",
            " '0, 0, 0, 0, 0, 0, 0, 0, 0, 0, 0, 0, 0, 0, 0, 0, 0, 0, 0, 0, 0, 0, 0, 0, 0, '\n",
            " '0, 0, 0, 0, 0, 0, 0, 0, 0, 0, 0, 0, 0, 0, 0, 0, 0, 0, 0, 0, 0, 0, 0, 0, 0, '\n",
            " '0, 0, 0, 0, 0, 0, 0, 0], label=0)')\n",
            "\n",
            "\n"
          ]
        }
      ]
    },
    {
      "cell_type": "code",
      "source": [
        "test_dataset = tf_glue_convert_examples_to_features(data['test_matched'], tokenizer, max_length=128, processor=processor)\n",
        "test_dataset_batch = test_dataset.shuffle(100).batch(16)"
      ],
      "metadata": {
        "colab": {
          "base_uri": "https://localhost:8080/"
        },
        "id": "a7mT0uyS8Gcp",
        "outputId": "e4ac6f24-4f84-4994-84c2-7e1bd6244af9"
      },
      "execution_count": 36,
      "outputs": [
        {
          "output_type": "stream",
          "name": "stdout",
          "text": [
            "Using label list ['0', '1', '2']\n",
            "\n",
            "\n",
            "Example\n",
            "\n",
            "guid: 5398\n",
            "('features: InputFeatures(input_ids=[101, 2092, 2003, 2045, 1037, 2210, 3751, '\n",
            " '10216, 2017, 2404, 1999, 2045, 102, 2003, 2045, 1037, 10216, 2008, 2017, '\n",
            " '2404, 1999, 2045, 1029, 102, 0, 0, 0, 0, 0, 0, 0, 0, 0, 0, 0, 0, 0, 0, 0, 0, '\n",
            " '0, 0, 0, 0, 0, 0, 0, 0, 0, 0, 0, 0, 0, 0, 0, 0, 0, 0, 0, 0, 0, 0, 0, 0, 0, '\n",
            " '0, 0, 0, 0, 0, 0, 0, 0, 0, 0, 0, 0, 0, 0, 0, 0, 0, 0, 0, 0, 0, 0, 0, 0, 0, '\n",
            " '0, 0, 0, 0, 0, 0, 0, 0, 0, 0, 0, 0, 0, 0, 0, 0, 0, 0, 0, 0, 0, 0, 0, 0, 0, '\n",
            " '0, 0, 0, 0, 0, 0, 0, 0, 0, 0, 0, 0, 0], attention_mask=[1, 1, 1, 1, 1, 1, 1, '\n",
            " '1, 1, 1, 1, 1, 1, 1, 1, 1, 1, 1, 1, 1, 1, 1, 1, 1, 0, 0, 0, 0, 0, 0, 0, 0, '\n",
            " '0, 0, 0, 0, 0, 0, 0, 0, 0, 0, 0, 0, 0, 0, 0, 0, 0, 0, 0, 0, 0, 0, 0, 0, 0, '\n",
            " '0, 0, 0, 0, 0, 0, 0, 0, 0, 0, 0, 0, 0, 0, 0, 0, 0, 0, 0, 0, 0, 0, 0, 0, 0, '\n",
            " '0, 0, 0, 0, 0, 0, 0, 0, 0, 0, 0, 0, 0, 0, 0, 0, 0, 0, 0, 0, 0, 0, 0, 0, 0, '\n",
            " '0, 0, 0, 0, 0, 0, 0, 0, 0, 0, 0, 0, 0, 0, 0, 0, 0, 0, 0, 0, 0], '\n",
            " 'token_type_ids=[0, 0, 0, 0, 0, 0, 0, 0, 0, 0, 0, 0, 0, 1, 1, 1, 1, 1, 1, 1, '\n",
            " '1, 1, 1, 1, 0, 0, 0, 0, 0, 0, 0, 0, 0, 0, 0, 0, 0, 0, 0, 0, 0, 0, 0, 0, 0, '\n",
            " '0, 0, 0, 0, 0, 0, 0, 0, 0, 0, 0, 0, 0, 0, 0, 0, 0, 0, 0, 0, 0, 0, 0, 0, 0, '\n",
            " '0, 0, 0, 0, 0, 0, 0, 0, 0, 0, 0, 0, 0, 0, 0, 0, 0, 0, 0, 0, 0, 0, 0, 0, 0, '\n",
            " '0, 0, 0, 0, 0, 0, 0, 0, 0, 0, 0, 0, 0, 0, 0, 0, 0, 0, 0, 0, 0, 0, 0, 0, 0, '\n",
            " '0, 0, 0, 0, 0, 0, 0, 0], label=2)')\n",
            "\n",
            "\n"
          ]
        }
      ]
    },
    {
      "cell_type": "markdown",
      "source": [
        "<br/>"
      ],
      "metadata": {
        "id": "SRd7lrdTbrs1"
      }
    },
    {
      "cell_type": "markdown",
      "source": [
        "###Huggingface Auto Classes"
      ],
      "metadata": {
        "id": "1OHBaoZZnFGl"
      }
    },
    {
      "cell_type": "code",
      "source": [
        "import transformers\n",
        "from transformers import AutoTokenizer, AutoModelForSequenceClassification\n",
        "\n",
        "electra_base_discriminator_tokenizer = AutoTokenizer.from_pretrained('google/electra-base-discriminator')\n",
        "electra_base_discriminator_model = AutoModelForSequenceClassification.from_pretrained('google/electra-base-discriminator', num_labels = 3)"
      ],
      "metadata": {
        "id": "dIc78AnRnIBL"
      },
      "execution_count": 34,
      "outputs": []
    },
    {
      "cell_type": "markdown",
      "source": [
        "<br/>"
      ],
      "metadata": {
        "id": "BMEG9iFrb2Lk"
      }
    },
    {
      "cell_type": "markdown",
      "source": [
        "###Tokenizing"
      ],
      "metadata": {
        "id": "SwPF811noVZ0"
      }
    },
    {
      "cell_type": "code",
      "source": [
        "def transform(data):\n",
        "  return electra_base_discriminator_tokenizer(\n",
        "      data['premise'],\n",
        "      data['hypothesis'],\n",
        "      truncation = True,\n",
        "      padding = 'max_length',\n",
        "      return_token_type_ids = False,\n",
        "      )"
      ],
      "metadata": {
        "id": "NCtEmIh89DOM"
      },
      "execution_count": 41,
      "outputs": []
    },
    {
      "cell_type": "code",
      "source": [
        "examples = huggingface_mnli_dataset['train'][:5]\n",
        "examples_transformed = transform(examples)\n",
        "\n",
        "count = 0\n",
        "print(\"Example\")\n",
        "print()\n",
        "pprint.pprint(examples)\n",
        "print(\"\\n\")\n",
        "print()\n",
        "\n",
        "print(\"Tokenization Example\")\n",
        "print()\n",
        "\n",
        "for i in ['input_ids', 'attention_mask']:\n",
        "  if i == 'input_ids':\n",
        "    print('input_ids[0]')\n",
        "  else:\n",
        "    count = 0\n",
        "    print(\"\\n\")\n",
        "    print()\n",
        "    print('attention_mask[0]')\n",
        "\n",
        "  for j in examples_transformed[i][0]:\n",
        "    count += 1\n",
        "    if count < len(examples_transformed[i][0]):\n",
        "      print(j, end=', ')\n",
        "    elif count == len(examples_transformed[i][0]):\n",
        "      print(j, end=' ')  \n",
        "    if (i == 'input_ids' and count % 54 == 27) or (i == 'attention_mask' and count % 54 == 0):\n",
        "      print()"
      ],
      "metadata": {
        "colab": {
          "base_uri": "https://localhost:8080/"
        },
        "id": "PoyD5qLL8sb4",
        "outputId": "0a86cd23-49ee-4fd1-d007-a6cc6035ba5e"
      },
      "execution_count": 48,
      "outputs": [
        {
          "output_type": "stream",
          "name": "stdout",
          "text": [
            "Example\n",
            "\n",
            "{'hypothesis': ['Product and geography are what make cream skimming work. ',\n",
            "                'You lose the things to the following level if the people '\n",
            "                'recall.',\n",
            "                'A member of my team will execute your orders with immense '\n",
            "                'precision.',\n",
            "                'This information belongs to them.',\n",
            "                'The tennis shoes have a range of prices.'],\n",
            " 'idx': [0, 1, 2, 3, 4],\n",
            " 'label': [1, 0, 0, 0, 1],\n",
            " 'premise': ['Conceptually cream skimming has two basic dimensions - product '\n",
            "             'and geography.',\n",
            "             'you know during the season and i guess at at your level uh you '\n",
            "             'lose them to the next level if if they decide to recall the the '\n",
            "             'parent team the Braves decide to call to recall a guy from '\n",
            "             'triple A then a double A guy goes up to replace him and a single '\n",
            "             'A guy goes up to replace him',\n",
            "             'One of our number will carry out your instructions minutely.',\n",
            "             'How do you know? All this is their information again.',\n",
            "             'yeah i tell you what though if you go price some of those tennis '\n",
            "             \"shoes i can see why now you know they're getting up in the \"\n",
            "             'hundred dollar range']}\n",
            "\n",
            "\n",
            "\n",
            "Tokenization Example\n",
            "\n",
            "input_ids[0]\n",
            "101, 17158, 2135, 6949, 8301, 25057, 2038, 2048, 3937, 9646, 1011, 4031, 1998, 10505, 1012, 102, 4031, 1998, 10505, 2024, 2054, 2191, 6949, 8301, 25057, 2147, 1012, \n",
            "102, 0, 0, 0, 0, 0, 0, 0, 0, 0, 0, 0, 0, 0, 0, 0, 0, 0, 0, 0, 0, 0, 0, 0, 0, 0, 0, 0, 0, 0, 0, 0, 0, 0, 0, 0, 0, 0, 0, 0, 0, 0, 0, 0, 0, 0, 0, 0, 0, 0, 0, 0, 0, 0, \n",
            "0, 0, 0, 0, 0, 0, 0, 0, 0, 0, 0, 0, 0, 0, 0, 0, 0, 0, 0, 0, 0, 0, 0, 0, 0, 0, 0, 0, 0, 0, 0, 0, 0, 0, 0, 0, 0, 0, 0, 0, 0, 0, 0, 0, 0, 0, 0, 0, 0, 0, 0, 0, 0, 0, \n",
            "0, 0, 0, 0, 0, 0, 0, 0, 0, 0, 0, 0, 0, 0, 0, 0, 0, 0, 0, 0, 0, 0, 0, 0, 0, 0, 0, 0, 0, 0, 0, 0, 0, 0, 0, 0, 0, 0, 0, 0, 0, 0, 0, 0, 0, 0, 0, 0, 0, 0, 0, 0, 0, 0, \n",
            "0, 0, 0, 0, 0, 0, 0, 0, 0, 0, 0, 0, 0, 0, 0, 0, 0, 0, 0, 0, 0, 0, 0, 0, 0, 0, 0, 0, 0, 0, 0, 0, 0, 0, 0, 0, 0, 0, 0, 0, 0, 0, 0, 0, 0, 0, 0, 0, 0, 0, 0, 0, 0, 0, \n",
            "0, 0, 0, 0, 0, 0, 0, 0, 0, 0, 0, 0, 0, 0, 0, 0, 0, 0, 0, 0, 0, 0, 0, 0, 0, 0, 0, 0, 0, 0, 0, 0, 0, 0, 0, 0, 0, 0, 0, 0, 0, 0, 0, 0, 0, 0, 0, 0, 0, 0, 0, 0, 0, 0, \n",
            "0, 0, 0, 0, 0, 0, 0, 0, 0, 0, 0, 0, 0, 0, 0, 0, 0, 0, 0, 0, 0, 0, 0, 0, 0, 0, 0, 0, 0, 0, 0, 0, 0, 0, 0, 0, 0, 0, 0, 0, 0, 0, 0, 0, 0, 0, 0, 0, 0, 0, 0, 0, 0, 0, \n",
            "0, 0, 0, 0, 0, 0, 0, 0, 0, 0, 0, 0, 0, 0, 0, 0, 0, 0, 0, 0, 0, 0, 0, 0, 0, 0, 0, 0, 0, 0, 0, 0, 0, 0, 0, 0, 0, 0, 0, 0, 0, 0, 0, 0, 0, 0, 0, 0, 0, 0, 0, 0, 0, 0, \n",
            "0, 0, 0, 0, 0, 0, 0, 0, 0, 0, 0, 0, 0, 0, 0, 0, 0, 0, 0, 0, 0, 0, 0, 0, 0, 0, 0, 0, 0, 0, 0, 0, 0, 0, 0, 0, 0, 0, 0, 0, 0, 0, 0, 0, 0, 0, 0, 0, 0, 0, 0, 0, 0, 0, \n",
            "0, 0, 0, 0, 0, 0, 0, 0, 0, 0, 0, 0, 0, 0, 0, 0, 0, 0, 0, 0, 0, 0, 0, 0, 0, 0, 0, 0, 0, 0, 0, 0, 0, 0, 0, 0, 0, 0, 0, 0, 0, 0, 0, 0, 0, 0, 0, 0, 0, 0, 0, 0, 0 \n",
            "\n",
            "\n",
            "attention_mask[0]\n",
            "1, 1, 1, 1, 1, 1, 1, 1, 1, 1, 1, 1, 1, 1, 1, 1, 1, 1, 1, 1, 1, 1, 1, 1, 1, 1, 1, 1, 0, 0, 0, 0, 0, 0, 0, 0, 0, 0, 0, 0, 0, 0, 0, 0, 0, 0, 0, 0, 0, 0, 0, 0, 0, 0, \n",
            "0, 0, 0, 0, 0, 0, 0, 0, 0, 0, 0, 0, 0, 0, 0, 0, 0, 0, 0, 0, 0, 0, 0, 0, 0, 0, 0, 0, 0, 0, 0, 0, 0, 0, 0, 0, 0, 0, 0, 0, 0, 0, 0, 0, 0, 0, 0, 0, 0, 0, 0, 0, 0, 0, \n",
            "0, 0, 0, 0, 0, 0, 0, 0, 0, 0, 0, 0, 0, 0, 0, 0, 0, 0, 0, 0, 0, 0, 0, 0, 0, 0, 0, 0, 0, 0, 0, 0, 0, 0, 0, 0, 0, 0, 0, 0, 0, 0, 0, 0, 0, 0, 0, 0, 0, 0, 0, 0, 0, 0, \n",
            "0, 0, 0, 0, 0, 0, 0, 0, 0, 0, 0, 0, 0, 0, 0, 0, 0, 0, 0, 0, 0, 0, 0, 0, 0, 0, 0, 0, 0, 0, 0, 0, 0, 0, 0, 0, 0, 0, 0, 0, 0, 0, 0, 0, 0, 0, 0, 0, 0, 0, 0, 0, 0, 0, \n",
            "0, 0, 0, 0, 0, 0, 0, 0, 0, 0, 0, 0, 0, 0, 0, 0, 0, 0, 0, 0, 0, 0, 0, 0, 0, 0, 0, 0, 0, 0, 0, 0, 0, 0, 0, 0, 0, 0, 0, 0, 0, 0, 0, 0, 0, 0, 0, 0, 0, 0, 0, 0, 0, 0, \n",
            "0, 0, 0, 0, 0, 0, 0, 0, 0, 0, 0, 0, 0, 0, 0, 0, 0, 0, 0, 0, 0, 0, 0, 0, 0, 0, 0, 0, 0, 0, 0, 0, 0, 0, 0, 0, 0, 0, 0, 0, 0, 0, 0, 0, 0, 0, 0, 0, 0, 0, 0, 0, 0, 0, \n",
            "0, 0, 0, 0, 0, 0, 0, 0, 0, 0, 0, 0, 0, 0, 0, 0, 0, 0, 0, 0, 0, 0, 0, 0, 0, 0, 0, 0, 0, 0, 0, 0, 0, 0, 0, 0, 0, 0, 0, 0, 0, 0, 0, 0, 0, 0, 0, 0, 0, 0, 0, 0, 0, 0, \n",
            "0, 0, 0, 0, 0, 0, 0, 0, 0, 0, 0, 0, 0, 0, 0, 0, 0, 0, 0, 0, 0, 0, 0, 0, 0, 0, 0, 0, 0, 0, 0, 0, 0, 0, 0, 0, 0, 0, 0, 0, 0, 0, 0, 0, 0, 0, 0, 0, 0, 0, 0, 0, 0, 0, \n",
            "0, 0, 0, 0, 0, 0, 0, 0, 0, 0, 0, 0, 0, 0, 0, 0, 0, 0, 0, 0, 0, 0, 0, 0, 0, 0, 0, 0, 0, 0, 0, 0, 0, 0, 0, 0, 0, 0, 0, 0, 0, 0, 0, 0, 0, 0, 0, 0, 0, 0, 0, 0, 0, 0, \n",
            "0, 0, 0, 0, 0, 0, 0, 0, 0, 0, 0, 0, 0, 0, 0, 0, 0, 0, 0, 0, 0, 0, 0, 0, 0, 0 "
          ]
        }
      ]
    },
    {
      "cell_type": "code",
      "source": [
        "encoded_dataset = huggingface_mnli_dataset.map(transform, batched=True)"
      ],
      "metadata": {
        "id": "QHvaBkSbtqGY"
      },
      "execution_count": null,
      "outputs": []
    },
    {
      "cell_type": "code",
      "source": [
        "encoded_dataset['train'].shape, encoded_dataset['validation_matched'].shape, encoded_dataset['test_matched'].shape"
      ],
      "metadata": {
        "colab": {
          "base_uri": "https://localhost:8080/"
        },
        "id": "S5XwJ62TEreS",
        "outputId": "bf95be3b-c646-4d86-9a14-0fddff1f9f4c"
      },
      "execution_count": 50,
      "outputs": [
        {
          "output_type": "execute_result",
          "data": {
            "text/plain": [
              "((392702, 6), (9815, 6), (9796, 6))"
            ]
          },
          "metadata": {},
          "execution_count": 50
        }
      ]
    },
    {
      "cell_type": "markdown",
      "source": [
        "<br/>"
      ],
      "metadata": {
        "id": "43Sy3tOUtxGh"
      }
    },
    {
      "cell_type": "markdown",
      "source": [
        "###HuggingFace Trainer"
      ],
      "metadata": {
        "id": "cyMUxwRvxIU_"
      }
    },
    {
      "cell_type": "code",
      "source": [
        "from huggingface_hub import notebook_login\n",
        "\n",
        "notebook_login()"
      ],
      "metadata": {
        "colab": {
          "base_uri": "https://localhost:8080/",
          "height": 327,
          "referenced_widgets": [
            "00fc504a2576439d8bd8e4f8192dc921",
            "13047093341749ffbaf0e92c8118aabb",
            "7d09ce942108450286004f5c99a68194",
            "3175f0ad3bdd4e938589185320f06f72",
            "e4a22732946c41b499d20299278c6472",
            "1d197182532e47d89c5980c47d2e43d5",
            "181e37b7d9134e4e98e4b6e4adca1c33",
            "9ebae322e91e4ca294efef8b7a89ebcd",
            "fdf312b8cd2d402cbd8dd4c12138ef2e",
            "7eaaab1b38e443cbb89b2d8c64f6e557",
            "aea1a6a889834c77b274a777d288b835",
            "8b129bd3a1754e4483541aba7bb5b1e5",
            "554a642853b94b25909bf11c0d3a2347",
            "15744b4f49db487b89710335c16bac36"
          ]
        },
        "id": "aRpnn_H0EudO",
        "outputId": "0abdef76-1e0a-4b3e-cdff-738e4565086b"
      },
      "execution_count": 51,
      "outputs": [
        {
          "output_type": "stream",
          "name": "stdout",
          "text": [
            "Login successful\n",
            "Your token has been saved to /root/.huggingface/token\n",
            "\u001b[1m\u001b[31mAuthenticated through git-credential store but this isn't the helper defined on your machine.\n",
            "You might have to re-authenticate when pushing to the Hugging Face Hub. Run the following command in your terminal in case you want to set this credential helper as the default\n",
            "\n",
            "git config --global credential.helper store\u001b[0m\n"
          ]
        }
      ]
    },
    {
      "cell_type": "code",
      "source": [
        "task = \"mnli\"\n",
        "model_checkpoint = 'google/electra-base-discriminator'\n",
        "batch_size = 16"
      ],
      "metadata": {
        "id": "xkeMiBktEuft"
      },
      "execution_count": 63,
      "outputs": []
    },
    {
      "cell_type": "markdown",
      "source": [
        "RuntimeError: CUDA out of memory. Tried to allocate 256.00 MiB (GPU 0; 15.90 <br/>GiB total capacity; 14.79\n",
        "<br/>GiB already allocated; 121.75 MiB\n",
        "<br/>free; 14.90 GiB reserved in total by PyTorch)\n",
        "<br/>If reserved memory is >> allocated memory try setting max_split_size_mb to avoid fragmentation. \n",
        "<br/>See documentation for Memory Management and PYTORCH_CUDA_ALLOC_CONF"
      ],
      "metadata": {
        "id": "2HpqYy9oAw39"
      }
    },
    {
      "cell_type": "markdown",
      "source": [
        "RuntimeError로 인해 batch_size = 16으로 설정한다."
      ],
      "metadata": {
        "id": "K0IYulVfAxbd"
      }
    },
    {
      "cell_type": "code",
      "source": [
        "metric_name = \"pearson\" if task == \"stsb\" else \"matthews_correlation\" if task == \"cola\" else \"accuracy\"\n",
        "model_name = model_checkpoint.split(\"/\")[-1]\n",
        "output_dir = 'google_electra_base_discriminator_mnli'\n",
        "\n",
        "electra_base_discriminator_args = TrainingArguments(\n",
        "    output_dir,\n",
        "    f\"{model_name}-finetuned-{task}\",\n",
        "    evaluation_strategy = \"epoch\",\n",
        "    save_strategy = \"epoch\",\n",
        "    learning_rate=2e-5,\n",
        "    per_device_train_batch_size=batch_size,\n",
        "    per_device_eval_batch_size=batch_size,\n",
        "    num_train_epochs=3,\n",
        "    weight_decay=0.01,\n",
        "    load_best_model_at_end=True,\n",
        "    metric_for_best_model=metric_name,\n",
        "    push_to_hub=True,\n",
        ")"
      ],
      "metadata": {
        "id": "BRLImMEqEuiY"
      },
      "execution_count": 64,
      "outputs": []
    },
    {
      "cell_type": "code",
      "source": [
        "validation_key = \"validation_mismatched\" if task == \"mnli-mm\" else \"validation_matched\" if task == \"mnli\" else \"validation\"\n",
        "electra_base_discriminator_trainer = Trainer(\n",
        "    electra_base_discriminator_model,\n",
        "    electra_base_discriminator_args,\n",
        "    train_dataset=encoded_dataset[\"train\"],\n",
        "    eval_dataset=encoded_dataset[validation_key],\n",
        "    tokenizer= electra_base_discriminator_tokenizer,\n",
        "    compute_metrics=compute_metrics\n",
        ")"
      ],
      "metadata": {
        "id": "1MN_9iOKEukT"
      },
      "execution_count": 65,
      "outputs": []
    },
    {
      "cell_type": "code",
      "source": [
        "electra_base_discriminator_trainer.train()"
      ],
      "metadata": {
        "colab": {
          "base_uri": "https://localhost:8080/",
          "height": 385
        },
        "id": "znXTGMeVFD6q",
        "outputId": "b9166d20-81f5-4dc6-b9a3-fe838016b7b6"
      },
      "execution_count": 66,
      "outputs": [
        {
          "output_type": "display_data",
          "data": {
            "text/plain": [
              "<IPython.core.display.HTML object>"
            ],
            "text/html": [
              "\n",
              "    <div>\n",
              "      \n",
              "      <progress value='50' max='73632' style='width:300px; height:20px; vertical-align: middle;'></progress>\n",
              "      [   50/73632 00:40 < 17:23:06, 1.18 it/s, Epoch 0.00/3]\n",
              "    </div>\n",
              "    <table border=\"1\" class=\"dataframe\">\n",
              "  <thead>\n",
              " <tr style=\"text-align: left;\">\n",
              "      <th>Epoch</th>\n",
              "      <th>Training Loss</th>\n",
              "      <th>Validation Loss</th>\n",
              "    </tr>\n",
              "  </thead>\n",
              "  <tbody>\n",
              "  </tbody>\n",
              "</table><p>"
            ]
          },
          "metadata": {}
        },
        {
          "output_type": "error",
          "ename": "KeyboardInterrupt",
          "evalue": "ignored",
          "traceback": [
            "\u001b[0;31m---------------------------------------------------------------------------\u001b[0m",
            "\u001b[0;31mKeyboardInterrupt\u001b[0m                         Traceback (most recent call last)",
            "\u001b[0;32m<ipython-input-66-df4beab133d6>\u001b[0m in \u001b[0;36m<module>\u001b[0;34m()\u001b[0m\n\u001b[0;32m----> 1\u001b[0;31m \u001b[0melectra_base_discriminator_trainer\u001b[0m\u001b[0;34m.\u001b[0m\u001b[0mtrain\u001b[0m\u001b[0;34m(\u001b[0m\u001b[0;34m)\u001b[0m\u001b[0;34m\u001b[0m\u001b[0;34m\u001b[0m\u001b[0m\n\u001b[0m",
            "\u001b[0;32m/usr/local/lib/python3.7/dist-packages/transformers/trainer.py\u001b[0m in \u001b[0;36mtrain\u001b[0;34m(self, resume_from_checkpoint, trial, ignore_keys_for_eval, **kwargs)\u001b[0m\n\u001b[1;32m   1500\u001b[0m             \u001b[0mresume_from_checkpoint\u001b[0m\u001b[0;34m=\u001b[0m\u001b[0mresume_from_checkpoint\u001b[0m\u001b[0;34m,\u001b[0m\u001b[0;34m\u001b[0m\u001b[0;34m\u001b[0m\u001b[0m\n\u001b[1;32m   1501\u001b[0m             \u001b[0mtrial\u001b[0m\u001b[0;34m=\u001b[0m\u001b[0mtrial\u001b[0m\u001b[0;34m,\u001b[0m\u001b[0;34m\u001b[0m\u001b[0;34m\u001b[0m\u001b[0m\n\u001b[0;32m-> 1502\u001b[0;31m             \u001b[0mignore_keys_for_eval\u001b[0m\u001b[0;34m=\u001b[0m\u001b[0mignore_keys_for_eval\u001b[0m\u001b[0;34m,\u001b[0m\u001b[0;34m\u001b[0m\u001b[0;34m\u001b[0m\u001b[0m\n\u001b[0m\u001b[1;32m   1503\u001b[0m         )\n\u001b[1;32m   1504\u001b[0m \u001b[0;34m\u001b[0m\u001b[0m\n",
            "\u001b[0;32m/usr/local/lib/python3.7/dist-packages/transformers/trainer.py\u001b[0m in \u001b[0;36m_inner_training_loop\u001b[0;34m(self, batch_size, args, resume_from_checkpoint, trial, ignore_keys_for_eval)\u001b[0m\n\u001b[1;32m   1738\u001b[0m                         \u001b[0mtr_loss_step\u001b[0m \u001b[0;34m=\u001b[0m \u001b[0mself\u001b[0m\u001b[0;34m.\u001b[0m\u001b[0mtraining_step\u001b[0m\u001b[0;34m(\u001b[0m\u001b[0mmodel\u001b[0m\u001b[0;34m,\u001b[0m \u001b[0minputs\u001b[0m\u001b[0;34m)\u001b[0m\u001b[0;34m\u001b[0m\u001b[0;34m\u001b[0m\u001b[0m\n\u001b[1;32m   1739\u001b[0m                 \u001b[0;32melse\u001b[0m\u001b[0;34m:\u001b[0m\u001b[0;34m\u001b[0m\u001b[0;34m\u001b[0m\u001b[0m\n\u001b[0;32m-> 1740\u001b[0;31m                     \u001b[0mtr_loss_step\u001b[0m \u001b[0;34m=\u001b[0m \u001b[0mself\u001b[0m\u001b[0;34m.\u001b[0m\u001b[0mtraining_step\u001b[0m\u001b[0;34m(\u001b[0m\u001b[0mmodel\u001b[0m\u001b[0;34m,\u001b[0m \u001b[0minputs\u001b[0m\u001b[0;34m)\u001b[0m\u001b[0;34m\u001b[0m\u001b[0;34m\u001b[0m\u001b[0m\n\u001b[0m\u001b[1;32m   1741\u001b[0m \u001b[0;34m\u001b[0m\u001b[0m\n\u001b[1;32m   1742\u001b[0m                 if (\n",
            "\u001b[0;32m/usr/local/lib/python3.7/dist-packages/transformers/trainer.py\u001b[0m in \u001b[0;36mtraining_step\u001b[0;34m(self, model, inputs)\u001b[0m\n\u001b[1;32m   2486\u001b[0m             \u001b[0mloss\u001b[0m \u001b[0;34m=\u001b[0m \u001b[0mself\u001b[0m\u001b[0;34m.\u001b[0m\u001b[0mdeepspeed\u001b[0m\u001b[0;34m.\u001b[0m\u001b[0mbackward\u001b[0m\u001b[0;34m(\u001b[0m\u001b[0mloss\u001b[0m\u001b[0;34m)\u001b[0m\u001b[0;34m\u001b[0m\u001b[0;34m\u001b[0m\u001b[0m\n\u001b[1;32m   2487\u001b[0m         \u001b[0;32melse\u001b[0m\u001b[0;34m:\u001b[0m\u001b[0;34m\u001b[0m\u001b[0;34m\u001b[0m\u001b[0m\n\u001b[0;32m-> 2488\u001b[0;31m             \u001b[0mloss\u001b[0m\u001b[0;34m.\u001b[0m\u001b[0mbackward\u001b[0m\u001b[0;34m(\u001b[0m\u001b[0;34m)\u001b[0m\u001b[0;34m\u001b[0m\u001b[0;34m\u001b[0m\u001b[0m\n\u001b[0m\u001b[1;32m   2489\u001b[0m \u001b[0;34m\u001b[0m\u001b[0m\n\u001b[1;32m   2490\u001b[0m         \u001b[0;32mreturn\u001b[0m \u001b[0mloss\u001b[0m\u001b[0;34m.\u001b[0m\u001b[0mdetach\u001b[0m\u001b[0;34m(\u001b[0m\u001b[0;34m)\u001b[0m\u001b[0;34m\u001b[0m\u001b[0;34m\u001b[0m\u001b[0m\n",
            "\u001b[0;32m/usr/local/lib/python3.7/dist-packages/torch/_tensor.py\u001b[0m in \u001b[0;36mbackward\u001b[0;34m(self, gradient, retain_graph, create_graph, inputs)\u001b[0m\n\u001b[1;32m    394\u001b[0m                 \u001b[0mcreate_graph\u001b[0m\u001b[0;34m=\u001b[0m\u001b[0mcreate_graph\u001b[0m\u001b[0;34m,\u001b[0m\u001b[0;34m\u001b[0m\u001b[0;34m\u001b[0m\u001b[0m\n\u001b[1;32m    395\u001b[0m                 inputs=inputs)\n\u001b[0;32m--> 396\u001b[0;31m         \u001b[0mtorch\u001b[0m\u001b[0;34m.\u001b[0m\u001b[0mautograd\u001b[0m\u001b[0;34m.\u001b[0m\u001b[0mbackward\u001b[0m\u001b[0;34m(\u001b[0m\u001b[0mself\u001b[0m\u001b[0;34m,\u001b[0m \u001b[0mgradient\u001b[0m\u001b[0;34m,\u001b[0m \u001b[0mretain_graph\u001b[0m\u001b[0;34m,\u001b[0m \u001b[0mcreate_graph\u001b[0m\u001b[0;34m,\u001b[0m \u001b[0minputs\u001b[0m\u001b[0;34m=\u001b[0m\u001b[0minputs\u001b[0m\u001b[0;34m)\u001b[0m\u001b[0;34m\u001b[0m\u001b[0;34m\u001b[0m\u001b[0m\n\u001b[0m\u001b[1;32m    397\u001b[0m \u001b[0;34m\u001b[0m\u001b[0m\n\u001b[1;32m    398\u001b[0m     \u001b[0;32mdef\u001b[0m \u001b[0mregister_hook\u001b[0m\u001b[0;34m(\u001b[0m\u001b[0mself\u001b[0m\u001b[0;34m,\u001b[0m \u001b[0mhook\u001b[0m\u001b[0;34m)\u001b[0m\u001b[0;34m:\u001b[0m\u001b[0;34m\u001b[0m\u001b[0;34m\u001b[0m\u001b[0m\n",
            "\u001b[0;32m/usr/local/lib/python3.7/dist-packages/torch/autograd/__init__.py\u001b[0m in \u001b[0;36mbackward\u001b[0;34m(tensors, grad_tensors, retain_graph, create_graph, grad_variables, inputs)\u001b[0m\n\u001b[1;32m    173\u001b[0m     Variable._execution_engine.run_backward(  # Calls into the C++ engine to run the backward pass\n\u001b[1;32m    174\u001b[0m         \u001b[0mtensors\u001b[0m\u001b[0;34m,\u001b[0m \u001b[0mgrad_tensors_\u001b[0m\u001b[0;34m,\u001b[0m \u001b[0mretain_graph\u001b[0m\u001b[0;34m,\u001b[0m \u001b[0mcreate_graph\u001b[0m\u001b[0;34m,\u001b[0m \u001b[0minputs\u001b[0m\u001b[0;34m,\u001b[0m\u001b[0;34m\u001b[0m\u001b[0;34m\u001b[0m\u001b[0m\n\u001b[0;32m--> 175\u001b[0;31m         allow_unreachable=True, accumulate_grad=True)  # Calls into the C++ engine to run the backward pass\n\u001b[0m\u001b[1;32m    176\u001b[0m \u001b[0;34m\u001b[0m\u001b[0m\n\u001b[1;32m    177\u001b[0m def grad(\n",
            "\u001b[0;31mKeyboardInterrupt\u001b[0m: "
          ]
        }
      ]
    },
    {
      "cell_type": "markdown",
      "source": [
        "RuntimeError로 인해 batch_size = 16, num_train_epochs=3으로 설정했는데도 \n",
        "<br/>모델 학습 예상 시간이 17시간이 넘어서 작업을 중지하고 다른 방법을 모색한다.\n",
        "<br/>[google/electra-base-discriminator](https://huggingface.co/google/electra-base-discriminator)가 대용량 모델이기 때문에\n",
        "<br/>분산 컴퓨팅을 어떻게 설정해야할지 혹은 소형 모델을 만들어야할지 결정해야 한다.\n"
      ],
      "metadata": {
        "id": "aO5g9I24A7R0"
      }
    },
    {
      "cell_type": "code",
      "source": [
        "cd .."
      ],
      "metadata": {
        "id": "2MK7rIVIDA6s"
      },
      "execution_count": null,
      "outputs": []
    },
    {
      "cell_type": "code",
      "source": [
        "pwd"
      ],
      "metadata": {
        "colab": {
          "base_uri": "https://localhost:8080/",
          "height": 35
        },
        "id": "ezb3qZB0C-xU",
        "outputId": "f5965e60-d8ff-4e2d-ec77-a84c5d23a1ad"
      },
      "execution_count": 69,
      "outputs": [
        {
          "output_type": "execute_result",
          "data": {
            "text/plain": [
              "'/content/drive/MyDrive/lms/huggingface_glue_task'"
            ],
            "application/vnd.google.colaboratory.intrinsic+json": {
              "type": "string"
            }
          },
          "metadata": {},
          "execution_count": 69
        }
      ]
    },
    {
      "cell_type": "code",
      "source": [
        "Image(filename='electra_base_discriminator_gpu.JPG') "
      ],
      "metadata": {
        "colab": {
          "base_uri": "https://localhost:8080/",
          "height": 187
        },
        "id": "lEdfz1D3C60c",
        "outputId": "e9fd24a7-9871-4bec-ad10-0f4f91201eef"
      },
      "execution_count": 76,
      "outputs": [
        {
          "output_type": "execute_result",
          "data": {
            "text/plain": [
              "<IPython.core.display.Image object>"
            ],
            "image/jpeg": "[encoded data removed]"
          },
          "metadata": {},
          "execution_count": 76
        }
      ]
    },
    {
      "cell_type": "markdown",
      "source": [
        "<br/>"
      ],
      "metadata": {
        "id": "5M8AbpdIDaq9"
      }
    },
    {
      "cell_type": "code",
      "source": [
        "electra_base_discriminator_trainer.evaluate()"
      ],
      "metadata": {
        "id": "wjAG1E9DFGOE"
      },
      "execution_count": null,
      "outputs": []
    },
    {
      "cell_type": "markdown",
      "source": [
        "<br/>"
      ],
      "metadata": {
        "id": "LPZtEJ5ocEzF"
      }
    },
    {
      "cell_type": "markdown",
      "source": [
        "#HuggingFrace MRPC Custom Project"
      ],
      "metadata": {
        "id": "7IVmSWVfMRaO"
      }
    },
    {
      "cell_type": "markdown",
      "source": [
        "GLUE MRPC Task를 Custom Project로 구성한다."
      ],
      "metadata": {
        "id": "UipN7gEG5Xc0"
      }
    },
    {
      "cell_type": "markdown",
      "source": [
        ""
      ],
      "metadata": {
        "id": "EPK5i-0aMonL"
      }
    },
    {
      "cell_type": "markdown",
      "source": [
        "##Development Environment"
      ],
      "metadata": {
        "id": "a5AKRPaZRJmZ"
      }
    },
    {
      "cell_type": "code",
      "source": [
        "pwd"
      ],
      "metadata": {
        "colab": {
          "base_uri": "https://localhost:8080/",
          "height": 35
        },
        "outputId": "14025439-b072-4893-b53d-2ff7e93de922",
        "id": "OBejguQKMhqO"
      },
      "execution_count": 9,
      "outputs": [
        {
          "output_type": "execute_result",
          "data": {
            "text/plain": [
              "'/content/drive/MyDrive/lms/huggingface_glue_task/transfomers_v4.21.1'"
            ],
            "application/vnd.google.colaboratory.intrinsic+json": {
              "type": "string"
            }
          },
          "metadata": {},
          "execution_count": 9
        }
      ]
    },
    {
      "cell_type": "markdown",
      "source": [
        "[huggingface/transformers/releases](https://github.com/huggingface/transformers/releases)\n",
        "<br/>[# v4.21.1: Patch release](https://github.com/huggingface/transformers/releases/tag/v4.21.1)"
      ],
      "metadata": {
        "id": "xpk6FOoAUqZL"
      }
    },
    {
      "cell_type": "code",
      "source": [
        "!pip install -e ."
      ],
      "metadata": {
        "id": "M9gNki94MTpk"
      },
      "execution_count": null,
      "outputs": []
    },
    {
      "cell_type": "code",
      "source": [
        "!pip install -q datasets huggingface_hub evaluate transformers"
      ],
      "metadata": {
        "id": "ADt0hCgEMTrt"
      },
      "execution_count": null,
      "outputs": []
    },
    {
      "cell_type": "code",
      "source": [
        "!pip install -q protobuf sentencepiece"
      ],
      "metadata": {
        "id": "BFODcrmBMTuU"
      },
      "execution_count": null,
      "outputs": []
    },
    {
      "cell_type": "code",
      "source": [
        "import os\n",
        "import json"
      ],
      "metadata": {
        "id": "GxFYs2IeRD-Q"
      },
      "execution_count": 89,
      "outputs": []
    },
    {
      "cell_type": "code",
      "source": [
        "import re\n",
        "import numpy as np\n",
        "import pandas as pd"
      ],
      "metadata": {
        "id": "OhHlhcqaRBnZ"
      },
      "execution_count": 88,
      "outputs": []
    },
    {
      "cell_type": "code",
      "source": [
        "import pprint\n",
        "from termcolor import colored\n",
        "import matplotlib.pyplot as plt\n",
        "from IPython.display import HTML\n",
        "from IPython.display import Image"
      ],
      "metadata": {
        "id": "Vad4U5rGMvuL"
      },
      "execution_count": 87,
      "outputs": []
    },
    {
      "cell_type": "code",
      "source": [
        "import tensorflow as tf\n",
        "import tensorflow_datasets as tfds"
      ],
      "metadata": {
        "id": "ECu16YrqMvwh"
      },
      "execution_count": 14,
      "outputs": []
    },
    {
      "cell_type": "code",
      "source": [
        "import datasets\n",
        "from datasets import load_dataset"
      ],
      "metadata": {
        "id": "D8iS1S_aMvyj"
      },
      "execution_count": 15,
      "outputs": []
    },
    {
      "cell_type": "code",
      "source": [
        "from argparse import ArgumentParser\n",
        "from dataclasses import asdict\n",
        "from transformers.data.processors.utils import DataProcessor, InputExample, InputFeatures"
      ],
      "metadata": {
        "id": "lg7WjbMgMv1J"
      },
      "execution_count": 16,
      "outputs": []
    },
    {
      "cell_type": "code",
      "source": [
        "pip freeze > '/content/drive/MyDrive/lms/huggingface_glue_task/transfomers_v4.21.1/library_version.txt'"
      ],
      "metadata": {
        "id": "Ji4A9pLsMv3b"
      },
      "execution_count": null,
      "outputs": []
    },
    {
      "cell_type": "code",
      "source": [
        "library_name = ['regex=', 'ujson=', 'numpy=', 'pandas=', 'termcolor=', 'matplotlib=',\n",
        "                'tensorflow=', 'tensorflow-datasets=', 'transformers=']\n",
        "library_version = []\n",
        "count = 0\n",
        "\n",
        "import sys\n",
        "print(sys.version)\n",
        "print()\n",
        "\n",
        "with open('/content/drive/MyDrive/lms/huggingface_glue_task/library_version.txt', 'r') as f:\n",
        "    lines = f.read().splitlines() \n",
        "\n",
        "for i in range(len(lines)):\n",
        "  for line in lines[i:i+1]:\n",
        "    for library in library_name:\n",
        "      if library in line:\n",
        "        library_version.append(line)\n",
        "        count += 1\n",
        "        print(line, end = '    ')\n",
        "        if count % 3 == 0:\n",
        "          print()"
      ],
      "metadata": {
        "colab": {
          "base_uri": "https://localhost:8080/"
        },
        "outputId": "7a0f9db2-dd85-44df-8b12-4000781d7be1",
        "id": "yMrgG4iDM62b"
      },
      "execution_count": null,
      "outputs": [
        {
          "output_type": "stream",
          "name": "stdout",
          "text": [
            "3.7.13 (default, Apr 24 2022, 01:04:09) \n",
            "[GCC 7.5.0]\n",
            "\n",
            "matplotlib==3.2.2    numpy==1.21.6    pandas==1.3.5    \n",
            "regex==2022.6.2    sklearn-pandas==1.8.0    tensorflow==2.8.2+zzzcolab20220719082949    \n",
            "tensorflow-datasets==4.6.0    termcolor==1.1.0    transformers==4.21.1    \n",
            "ujson==5.4.0    "
          ]
        }
      ]
    },
    {
      "cell_type": "code",
      "source": [
        "gpu_info = !nvidia-smi\n",
        "gpu_info = '\\n'.join(gpu_info)\n",
        "if gpu_info.find('failed') >= 0:\n",
        "  print('Not connected to a GPU')\n",
        "else:\n",
        "  print(gpu_info)"
      ],
      "metadata": {
        "id": "YwTht9msM5Qx"
      },
      "execution_count": null,
      "outputs": []
    },
    {
      "cell_type": "code",
      "source": [
        "from psutil import virtual_memory\n",
        "ram_gb = virtual_memory().total / 1e9\n",
        "print('Your runtime has {:.1f} gigabytes of available RAM\\n'.format(ram_gb))\n",
        "\n",
        "if ram_gb < 20:\n",
        "  print('Not using a high-RAM runtime')\n",
        "else:\n",
        "  print('You are using a high-RAM runtime!')"
      ],
      "metadata": {
        "id": "q1k4kSOpM5TS"
      },
      "execution_count": null,
      "outputs": []
    },
    {
      "cell_type": "markdown",
      "source": [
        "Google Colab에서 할당된 GPU를 확인한다.\n",
        "<br/>고용량 메모리 VM에 액세스한다"
      ],
      "metadata": {
        "id": "jBfW_GwuM-A9"
      }
    },
    {
      "cell_type": "markdown",
      "source": [
        ""
      ],
      "metadata": {
        "id": "7anyG6MaM-Tl"
      }
    },
    {
      "cell_type": "markdown",
      "source": [
        "##Data Information"
      ],
      "metadata": {
        "id": "J74FTnYJNAf_"
      }
    },
    {
      "cell_type": "code",
      "source": [
        "data, info = tfds.load('glue/mrpc', with_info=True)"
      ],
      "metadata": {
        "id": "X6e0GxYhM5aL"
      },
      "execution_count": 19,
      "outputs": []
    },
    {
      "cell_type": "code",
      "source": [
        "info_splits = \"Train Data Size: \" + str(info.splits['train'].num_examples) + \\\n",
        "              \"\\nValidation Data Size: \" + str(info.splits['validation'].num_examples) + \\\n",
        "              \"\\nTest Data Size: \" + str(info.splits['test'].num_examples)\n",
        "\n",
        "reorderlist = ['name', 'full_name', 'description', 'config_description', 'supervised_keys', 'disable_shuffling',\n",
        "               'homepage', 'data_path', 'file_format', 'download_size', 'dataset_size', 'features', 'supervised_keys',\n",
        "               'disable_shuffling', 'splits', 'citation', 'comment']\n",
        "\n",
        "info_dict = pd.DataFrame({'tfds.core.DatasetInfo':{'name':info.name, 'full_name':info.full_name,\n",
        "                                     'description':info.description.replace('resources', 'resources<br/>'),\n",
        "                                     'config_description':'''The Microsoft Research Paraphrase Corpus (Dolan & Brockett, 2005)\n",
        "                                     is a corpus of sentence pairs automatically extracted from online news sources, <br/>\n",
        "                                     with human annotations for whether the sentences in the pair are semantically equivalent.''',\n",
        "                                     'supervised_keys':info.supervised_keys, \n",
        "                                     'disable_shuffling':info.disable_shuffling, 'homepage':info.homepage, \n",
        "                                     'data_path': '~/tensorflow_datasets/glue/mrpc/2.0.0',\n",
        "                                     'file_format':info.file_format, 'download_size':info.download_size,\n",
        "                                     'dataset_size':info.dataset_size, 'features':info.features,\n",
        "                                      'supervised_keys':info.supervised_keys, 'disable_shuffling': info.disable_shuffling,\n",
        "                                      'splits': info_splits.replace('\\n', '<br/>'),  'citation':info.citation.replace('\\n', '<br/>'),\n",
        "                                      'comment': '''Note that each GLUE dataset has its own citation. Please see the source to see\n",
        "                                      the correct citation for each contained dataset.'''\n",
        "                                      }})\n",
        "info_df = pd.DataFrame(info_dict)\n",
        "info_df = info_df.reindex(reorderlist).reset_index()\n",
        "from pandas import option_context\n",
        "with option_context('display.max_colwidth', None):\n",
        "  display(info_df.style.set_properties(**{'text-align': 'center'}))"
      ],
      "metadata": {
        "colab": {
          "base_uri": "https://localhost:8080/",
          "height": 982
        },
        "id": "sxnkRipiPh9A",
        "outputId": "210f0309-2891-4157-f417-0016423be032"
      },
      "execution_count": null,
      "outputs": [
        {
          "output_type": "display_data",
          "data": {
            "text/plain": [
              "<pandas.io.formats.style.Styler at 0x7f0e5ec01b90>"
            ],
            "text/html": [
              "<style type=\"text/css\">\n",
              "#T_28fd0_row0_col0, #T_28fd0_row0_col1, #T_28fd0_row1_col0, #T_28fd0_row1_col1, #T_28fd0_row2_col0, #T_28fd0_row2_col1, #T_28fd0_row3_col0, #T_28fd0_row3_col1, #T_28fd0_row4_col0, #T_28fd0_row4_col1, #T_28fd0_row5_col0, #T_28fd0_row5_col1, #T_28fd0_row6_col0, #T_28fd0_row6_col1, #T_28fd0_row7_col0, #T_28fd0_row7_col1, #T_28fd0_row8_col0, #T_28fd0_row8_col1, #T_28fd0_row9_col0, #T_28fd0_row9_col1, #T_28fd0_row10_col0, #T_28fd0_row10_col1, #T_28fd0_row11_col0, #T_28fd0_row11_col1, #T_28fd0_row12_col0, #T_28fd0_row12_col1, #T_28fd0_row13_col0, #T_28fd0_row13_col1, #T_28fd0_row14_col0, #T_28fd0_row14_col1, #T_28fd0_row15_col0, #T_28fd0_row15_col1, #T_28fd0_row16_col0, #T_28fd0_row16_col1 {\n",
              "  text-align: center;\n",
              "}\n",
              "</style>\n",
              "<table id=\"T_28fd0_\" class=\"dataframe\">\n",
              "  <thead>\n",
              "    <tr>\n",
              "      <th class=\"blank level0\" >&nbsp;</th>\n",
              "      <th class=\"col_heading level0 col0\" >index</th>\n",
              "      <th class=\"col_heading level0 col1\" >tfds.core.DatasetInfo</th>\n",
              "    </tr>\n",
              "  </thead>\n",
              "  <tbody>\n",
              "    <tr>\n",
              "      <th id=\"T_28fd0_level0_row0\" class=\"row_heading level0 row0\" >0</th>\n",
              "      <td id=\"T_28fd0_row0_col0\" class=\"data row0 col0\" >name</td>\n",
              "      <td id=\"T_28fd0_row0_col1\" class=\"data row0 col1\" >glue</td>\n",
              "    </tr>\n",
              "    <tr>\n",
              "      <th id=\"T_28fd0_level0_row1\" class=\"row_heading level0 row1\" >1</th>\n",
              "      <td id=\"T_28fd0_row1_col0\" class=\"data row1 col0\" >full_name</td>\n",
              "      <td id=\"T_28fd0_row1_col1\" class=\"data row1 col1\" >glue/mrpc/2.0.0</td>\n",
              "    </tr>\n",
              "    <tr>\n",
              "      <th id=\"T_28fd0_level0_row2\" class=\"row_heading level0 row2\" >2</th>\n",
              "      <td id=\"T_28fd0_row2_col0\" class=\"data row2 col0\" >description</td>\n",
              "      <td id=\"T_28fd0_row2_col1\" class=\"data row2 col1\" >GLUE, the General Language Understanding Evaluation benchmark\n",
              "(https://gluebenchmark.com/) is a collection of resources<br/> for training,\n",
              "evaluating, and analyzing natural language understanding systems.</td>\n",
              "    </tr>\n",
              "    <tr>\n",
              "      <th id=\"T_28fd0_level0_row3\" class=\"row_heading level0 row3\" >3</th>\n",
              "      <td id=\"T_28fd0_row3_col0\" class=\"data row3 col0\" >config_description</td>\n",
              "      <td id=\"T_28fd0_row3_col1\" class=\"data row3 col1\" >The Microsoft Research Paraphrase Corpus (Dolan & Brockett, 2005)\n",
              "                                     is a corpus of sentence pairs automatically extracted from online news sources, <br/>\n",
              "                                     with human annotations for whether the sentences in the pair are semantically equivalent.</td>\n",
              "    </tr>\n",
              "    <tr>\n",
              "      <th id=\"T_28fd0_level0_row4\" class=\"row_heading level0 row4\" >4</th>\n",
              "      <td id=\"T_28fd0_row4_col0\" class=\"data row4 col0\" >supervised_keys</td>\n",
              "      <td id=\"T_28fd0_row4_col1\" class=\"data row4 col1\" >None</td>\n",
              "    </tr>\n",
              "    <tr>\n",
              "      <th id=\"T_28fd0_level0_row5\" class=\"row_heading level0 row5\" >5</th>\n",
              "      <td id=\"T_28fd0_row5_col0\" class=\"data row5 col0\" >disable_shuffling</td>\n",
              "      <td id=\"T_28fd0_row5_col1\" class=\"data row5 col1\" >False</td>\n",
              "    </tr>\n",
              "    <tr>\n",
              "      <th id=\"T_28fd0_level0_row6\" class=\"row_heading level0 row6\" >6</th>\n",
              "      <td id=\"T_28fd0_row6_col0\" class=\"data row6 col0\" >homepage</td>\n",
              "      <td id=\"T_28fd0_row6_col1\" class=\"data row6 col1\" >https://www.microsoft.com/en-us/download/details.aspx?id=52398</td>\n",
              "    </tr>\n",
              "    <tr>\n",
              "      <th id=\"T_28fd0_level0_row7\" class=\"row_heading level0 row7\" >7</th>\n",
              "      <td id=\"T_28fd0_row7_col0\" class=\"data row7 col0\" >data_path</td>\n",
              "      <td id=\"T_28fd0_row7_col1\" class=\"data row7 col1\" >~/tensorflow_datasets/glue/mrpc/2.0.0</td>\n",
              "    </tr>\n",
              "    <tr>\n",
              "      <th id=\"T_28fd0_level0_row8\" class=\"row_heading level0 row8\" >8</th>\n",
              "      <td id=\"T_28fd0_row8_col0\" class=\"data row8 col0\" >file_format</td>\n",
              "      <td id=\"T_28fd0_row8_col1\" class=\"data row8 col1\" >FileFormat.TFRECORD</td>\n",
              "    </tr>\n",
              "    <tr>\n",
              "      <th id=\"T_28fd0_level0_row9\" class=\"row_heading level0 row9\" >9</th>\n",
              "      <td id=\"T_28fd0_row9_col0\" class=\"data row9 col0\" >download_size</td>\n",
              "      <td id=\"T_28fd0_row9_col1\" class=\"data row9 col1\" >1.43 MiB</td>\n",
              "    </tr>\n",
              "    <tr>\n",
              "      <th id=\"T_28fd0_level0_row10\" class=\"row_heading level0 row10\" >10</th>\n",
              "      <td id=\"T_28fd0_row10_col0\" class=\"data row10 col0\" >dataset_size</td>\n",
              "      <td id=\"T_28fd0_row10_col1\" class=\"data row10 col1\" >1.74 MiB</td>\n",
              "    </tr>\n",
              "    <tr>\n",
              "      <th id=\"T_28fd0_level0_row11\" class=\"row_heading level0 row11\" >11</th>\n",
              "      <td id=\"T_28fd0_row11_col0\" class=\"data row11 col0\" >features</td>\n",
              "      <td id=\"T_28fd0_row11_col1\" class=\"data row11 col1\" >FeaturesDict({\n",
              "    'idx': tf.int32,\n",
              "    'label': ClassLabel(shape=(), dtype=tf.int64, num_classes=2),\n",
              "    'sentence1': Text(shape=(), dtype=tf.string),\n",
              "    'sentence2': Text(shape=(), dtype=tf.string),\n",
              "})</td>\n",
              "    </tr>\n",
              "    <tr>\n",
              "      <th id=\"T_28fd0_level0_row12\" class=\"row_heading level0 row12\" >12</th>\n",
              "      <td id=\"T_28fd0_row12_col0\" class=\"data row12 col0\" >supervised_keys</td>\n",
              "      <td id=\"T_28fd0_row12_col1\" class=\"data row12 col1\" >None</td>\n",
              "    </tr>\n",
              "    <tr>\n",
              "      <th id=\"T_28fd0_level0_row13\" class=\"row_heading level0 row13\" >13</th>\n",
              "      <td id=\"T_28fd0_row13_col0\" class=\"data row13 col0\" >disable_shuffling</td>\n",
              "      <td id=\"T_28fd0_row13_col1\" class=\"data row13 col1\" >False</td>\n",
              "    </tr>\n",
              "    <tr>\n",
              "      <th id=\"T_28fd0_level0_row14\" class=\"row_heading level0 row14\" >14</th>\n",
              "      <td id=\"T_28fd0_row14_col0\" class=\"data row14 col0\" >splits</td>\n",
              "      <td id=\"T_28fd0_row14_col1\" class=\"data row14 col1\" >Train Data Size: 3668<br/>Validation Data Size: 408<br/>Test Data Size: 1725</td>\n",
              "    </tr>\n",
              "    <tr>\n",
              "      <th id=\"T_28fd0_level0_row15\" class=\"row_heading level0 row15\" >15</th>\n",
              "      <td id=\"T_28fd0_row15_col0\" class=\"data row15 col0\" >citation</td>\n",
              "      <td id=\"T_28fd0_row15_col1\" class=\"data row15 col1\" >@inproceedings{dolan2005automatically,<br/>  title={Automatically constructing a corpus of sentential paraphrases},<br/>  author={Dolan, William B and Brockett, Chris},<br/>  booktitle={Proceedings of the Third International Workshop on Paraphrasing (IWP2005)},<br/>  year={2005}<br/>}<br/>@inproceedings{wang2019glue,<br/>  title={{GLUE}: A Multi-Task Benchmark and Analysis Platform for Natural Language Understanding},<br/>  author={Wang, Alex and Singh, Amanpreet and Michael, Julian and Hill, Felix and Levy, Omer and Bowman, Samuel R.},<br/>  note={In the Proceedings of ICLR.},<br/>  year={2019}<br/>}<br/><br/>Note that each GLUE dataset has its own citation. Please see the source to see<br/>the correct citation for each contained dataset.</td>\n",
              "    </tr>\n",
              "    <tr>\n",
              "      <th id=\"T_28fd0_level0_row16\" class=\"row_heading level0 row16\" >16</th>\n",
              "      <td id=\"T_28fd0_row16_col0\" class=\"data row16 col0\" >comment</td>\n",
              "      <td id=\"T_28fd0_row16_col1\" class=\"data row16 col1\" >Note that each GLUE dataset has its own citation. Please see the source to see\n",
              "                                      the correct citation for each contained dataset.</td>\n",
              "    </tr>\n",
              "  </tbody>\n",
              "</table>\n"
            ]
          },
          "metadata": {}
        }
      ]
    },
    {
      "cell_type": "markdown",
      "source": [
        "<br/><br/><br/>"
      ],
      "metadata": {
        "id": "BXCDa5NucLOS"
      }
    },
    {
      "cell_type": "code",
      "source": [
        "compact_dict_print(data)"
      ],
      "metadata": {
        "colab": {
          "base_uri": "https://localhost:8080/"
        },
        "id": "nHpu7NqltQw4",
        "outputId": "fc6e74fc-1e7b-44db-e89a-72b348fc3a6b"
      },
      "execution_count": null,
      "outputs": [
        {
          "output_type": "stream",
          "name": "stdout",
          "text": [
            "{\n",
            "    'train': \n",
            "        <PrefetchDataset element_spec={\n",
            "        'idx': '1680',\n",
            "        'label': '0',\n",
            "        'sentence1': 'b'The identical rovers will act as robotic geologists , searching for evidence of past water .'',\n",
            "        'sentence2': 'b'The rovers act as robotic geologists , moving on six wheels .'',\n",
            "\n",
            "        ...\n",
            "        }>, \n",
            "\n",
            "    'validation': \n",
            "        <PrefetchDataset element_spec={\n",
            "        'idx': '3155',\n",
            "        'label': '1',\n",
            "        'sentence1': 'b\"The show 's closure affected third-quarter earnings per share by a penny .\"',\n",
            "        'sentence2': 'b'The company said this impacted earnings by a penny a share .'',\n",
            "\n",
            "        ...\n",
            "        }>, \n",
            "\n",
            "    'test': \n",
            "        <PrefetchDataset element_spec={\n",
            "        'idx': '163',\n",
            "        'label': '-1',\n",
            "        'sentence1': 'b'Shares in BA were down 1.5 percent at 168 pence by 1420 GMT , off a low of 164p , in a slightly stronger overall London market .'',\n",
            "        'sentence2': 'b'Shares in BA were down three percent at 165-1 / 4 pence by 0933 GMT , off a low of 164 pence , in a stronger market .'',\n",
            "\n",
            "        ...\n",
            "        }> \n",
            "\n",
            "}\n"
          ]
        }
      ]
    },
    {
      "cell_type": "markdown",
      "source": [
        "<br/><br/>"
      ],
      "metadata": {
        "id": "KRsEOSUoRsCs"
      }
    },
    {
      "cell_type": "code",
      "source": [
        "examples = data['train'].take(1)\n",
        "for example in examples:\n",
        "    idx = example['idx']\n",
        "    label = example['label']\n",
        "    sentence1 = example['sentence1']\n",
        "    sentence2 = example['sentence2']\n",
        "\n",
        "    print('idx')\n",
        "    print(idx)\n",
        "    print('\\nlabel')\n",
        "    print(label)\n",
        "    print('\\nsentence1')\n",
        "    print(sentence1)\n",
        "    print('\\nsentence1')\n",
        "    print(sentence2)"
      ],
      "metadata": {
        "colab": {
          "base_uri": "https://localhost:8080/"
        },
        "id": "pSg2zPF1v0PG",
        "outputId": "040ea3cd-f9df-409e-fefb-763f211201e1"
      },
      "execution_count": null,
      "outputs": [
        {
          "output_type": "stream",
          "name": "stdout",
          "text": [
            "idx\n",
            "tf.Tensor(1680, shape=(), dtype=int32)\n",
            "\n",
            "label\n",
            "tf.Tensor(0, shape=(), dtype=int64)\n",
            "\n",
            "sentence1\n",
            "tf.Tensor(b'The identical rovers will act as robotic geologists , searching for evidence of past water .', shape=(), dtype=string)\n",
            "\n",
            "sentence1\n",
            "tf.Tensor(b'The rovers act as robotic geologists , moving on six wheels .', shape=(), dtype=string)\n"
          ]
        }
      ]
    },
    {
      "cell_type": "markdown",
      "source": [
        "<br/>"
      ],
      "metadata": {
        "id": "57Z9j_E8Rq0G"
      }
    },
    {
      "cell_type": "markdown",
      "source": [
        "##Processor"
      ],
      "metadata": {
        "id": "Tq0TgjiZNVkt"
      }
    },
    {
      "cell_type": "code",
      "source": [
        "class DataProcessor:\n",
        "    \"\"\"Base class for data converters for sequence classification data sets.\"\"\"\n",
        "\n",
        "    def get_example_from_tensor_dict(self, tensor_dict):\n",
        "        \"\"\"\n",
        "        Gets an example from a dict with tensorflow tensors.\n",
        "\n",
        "        Args:\n",
        "            tensor_dict: Keys and values should match the corresponding Glue\n",
        "                tensorflow_dataset examples.\n",
        "        \"\"\"\n",
        "        raise NotImplementedError()\n",
        "\n",
        "    def get_train_examples(self, data_dir):\n",
        "        \"\"\"Gets a collection of :class:`InputExample` for the train set.\"\"\"\n",
        "        raise NotImplementedError()\n",
        "\n",
        "    def get_dev_examples(self, data_dir):\n",
        "        \"\"\"Gets a collection of :class:`InputExample` for the dev set.\"\"\"\n",
        "        raise NotImplementedError()\n",
        "\n",
        "    def get_test_examples(self, data_dir):\n",
        "        \"\"\"Gets a collection of :class:`InputExample` for the test set.\"\"\"\n",
        "        raise NotImplementedError()\n",
        "\n",
        "    def get_labels(self):\n",
        "        \"\"\"Gets the list of labels for this data set.\"\"\"\n",
        "        raise NotImplementedError()\n",
        "\n",
        "    def tfds_map(self, example):\n",
        "        \"\"\"\n",
        "        Some tensorflow_datasets datasets are not formatted the same way the GLUE datasets are. This method converts\n",
        "        examples to the correct format.\n",
        "        \"\"\"\n",
        "        if len(self.get_labels()) > 1:\n",
        "            example.label = self.get_labels()[int(example.label)]\n",
        "        return example\n",
        "\n",
        "    @classmethod\n",
        "    def _read_tsv(cls, input_file, quotechar=None):\n",
        "        \"\"\"Reads a tab separated value file.\"\"\"\n",
        "        with open(input_file, \"r\", encoding=\"utf-8-sig\") as f:\n",
        "            return list(csv.reader(f, delimiter=\"\\t\", quotechar=quotechar))"
      ],
      "metadata": {
        "id": "55sxdqL4v80w"
      },
      "execution_count": 20,
      "outputs": []
    },
    {
      "cell_type": "markdown",
      "source": [
        "추상클래스인 Processor를 한번 상속받은 후 Sequence Classification Task를 수행하는 모델의 Processor 추상클래스인 DataProcessor이다.\n",
        "<br/>추상클래스 상태이기 때문에 그대로 사용하면 NotImplementedError를 발생시키는 메소드들이 포함되어 있다.\n",
        "<br/>이 메소드들을 Override해야 실제 사용 가능한 클래스가 얻어진다."
      ],
      "metadata": {
        "id": "tuHmJNvYIIu-"
      }
    },
    {
      "cell_type": "code",
      "source": [
        "class MrpcProcessor(DataProcessor):\n",
        "    \"\"\"Processor for the MRPC data set (GLUE version).\"\"\"\n",
        "    def __init__(self, *args, **kwargs):\n",
        "        super().__init__(*args, **kwargs)\n",
        "\n",
        "    def get_example_from_tensor_dict(self, tensor_dict):\n",
        "        \"\"\"See base class.\"\"\"\n",
        "        return InputExample(\n",
        "            tensor_dict[\"idx\"].numpy(),\n",
        "            tensor_dict[\"sentence1\"].numpy().decode(\"utf-8\"),\n",
        "            tensor_dict[\"sentence2\"].numpy().decode(\"utf-8\"),\n",
        "            str(tensor_dict[\"label\"].numpy()),\n",
        "        )\n",
        "\n",
        "    def get_train_examples(self, data_dir):\n",
        "        \"\"\"See base class.\"\"\"\n",
        "        print(\"LOOKING AT {}\".format(os.path.join(data_dir, \"train.tsv\")))\n",
        "        return self._create_examples(self._read_tsv(os.path.join(data_dir, \"train.tsv\")), \"train\")\n",
        "\n",
        "    def get_dev_examples(self, data_dir):\n",
        "        \"\"\"See base class.\"\"\"\n",
        "        return self._create_examples(self._read_tsv(os.path.join(data_dir, \"dev.tsv\")), \"dev\")\n",
        "\n",
        "    def get_test_examples(self, data_dir):\n",
        "        \"\"\"See base class.\"\"\"\n",
        "        return self._create_examples(self._read_tsv(os.path.join(data_dir, \"test.tsv\")), \"test\")\n",
        "\n",
        "    def get_labels(self):\n",
        "        \"\"\"See base class.\"\"\"\n",
        "        return [\"0\", \"1\"]\n",
        "\n",
        "    def _create_examples(self, lines, set_type):\n",
        "        \"\"\"Creates examples for the training, dev and test sets.\"\"\"\n",
        "        examples = []\n",
        "        for (i, line) in enumerate(lines):\n",
        "            if i == 0:\n",
        "                continue\n",
        "            guid = \"%s-%s\" % (set_type, i)\n",
        "            text_a = line[3]\n",
        "            text_b = line[4]\n",
        "            label = None if set_type == \"test\" else line[0]\n",
        "            examples.append(InputExample(guid=guid, text_a=text_a, text_b=text_b, label=label))\n",
        "        return examples"
      ],
      "metadata": {
        "id": "nOyglndH9u2_"
      },
      "execution_count": 22,
      "outputs": []
    },
    {
      "cell_type": "markdown",
      "source": [
        "MRPC 원본 데이터셋을 처리하여 모델에 입력할 수 있도록 정리해 주는 MrpcProcessor 클래스이다."
      ],
      "metadata": {
        "id": "NOtZvOBfNcnk"
      }
    },
    {
      "cell_type": "code",
      "source": [
        "processor = MrpcProcessor()\n",
        "examples = data['train'].take(1)\n",
        "\n",
        "for example in examples:\n",
        "    print('Original Data')\n",
        "    pprint.pprint(example)  \n",
        "    print(\"\\n\")\n",
        "    example = processor.get_example_from_tensor_dict(example)\n",
        "    print('Processed Data')\n",
        "    pprint.pprint(example)"
      ],
      "metadata": {
        "colab": {
          "base_uri": "https://localhost:8080/"
        },
        "id": "xuy7DCL99y_g",
        "outputId": "e514ac91-9b5a-4ecf-ff44-ff127ad2b325"
      },
      "execution_count": 23,
      "outputs": [
        {
          "output_type": "stream",
          "name": "stdout",
          "text": [
            "Original Data\n",
            "{'idx': <tf.Tensor: shape=(), dtype=int32, numpy=1680>,\n",
            " 'label': <tf.Tensor: shape=(), dtype=int64, numpy=0>,\n",
            " 'sentence1': <tf.Tensor: shape=(), dtype=string, numpy=b'The identical rovers will act as robotic geologists , searching for evidence of past water .'>,\n",
            " 'sentence2': <tf.Tensor: shape=(), dtype=string, numpy=b'The rovers act as robotic geologists , moving on six wheels .'>}\n",
            "\n",
            "\n",
            "Processed Data\n",
            "InputExample(guid=1680, text_a='The identical rovers will act as robotic geologists , searching for evidence of past water .', text_b='The rovers act as robotic geologists , moving on six wheels .', label='0')\n"
          ]
        }
      ]
    },
    {
      "cell_type": "markdown",
      "source": [
        ""
      ],
      "metadata": {
        "id": "MgoObVunNgGb"
      }
    },
    {
      "cell_type": "markdown",
      "source": [
        "Processor는 'Raw Dataset를 Annotated Dataset으로 변환'하는 역할을 한다.\n",
        "<br/>항목별로 text_a, text_b, label 등의 annotation이 포함된 InputExample로 변환된다."
      ],
      "metadata": {
        "id": "3pa26lj6NioL"
      }
    },
    {
      "cell_type": "markdown",
      "source": [
        "<br/>"
      ],
      "metadata": {
        "id": "LLtr9jRzcSHO"
      }
    },
    {
      "cell_type": "code",
      "source": [
        "examples = (data['train'].take(1))\n",
        "for example in examples:\n",
        "    example = processor.get_example_from_tensor_dict(example)\n",
        "    example = processor.tfds_map(example)\n",
        "    print('Processed Data')\n",
        "    print(example)"
      ],
      "metadata": {
        "colab": {
          "base_uri": "https://localhost:8080/"
        },
        "id": "MGBCYyrSDuIV",
        "outputId": "05899f9d-211f-4a1f-b1e9-ddcfd57d4ac8"
      },
      "execution_count": null,
      "outputs": [
        {
          "output_type": "stream",
          "name": "stdout",
          "text": [
            "Processed Data\n",
            "InputExample(guid=1680, text_a='The identical rovers will act as robotic geologists , searching for evidence of past water .', text_b='The rovers act as robotic geologists , moving on six wheels .', label='0')\n"
          ]
        }
      ]
    },
    {
      "cell_type": "markdown",
      "source": [
        ""
      ],
      "metadata": {
        "id": "eSTaN_FiNv6H"
      }
    },
    {
      "cell_type": "markdown",
      "source": [
        "tfds_map 메소드를 활용한 경우이다. tfds_map는 label을 가공하는 메소드이다."
      ],
      "metadata": {
        "id": "1HVTR5SZNxLH"
      }
    },
    {
      "cell_type": "markdown",
      "source": [
        "<br/>"
      ],
      "metadata": {
        "id": "WdhCSxwDNye-"
      }
    },
    {
      "cell_type": "code",
      "source": [
        "label_list = processor.get_labels()\n",
        "label_list"
      ],
      "metadata": {
        "colab": {
          "base_uri": "https://localhost:8080/"
        },
        "id": "gB6rVhc0D-Du",
        "outputId": "10f21373-6900-427b-cc62-ac17703b7a51"
      },
      "execution_count": 24,
      "outputs": [
        {
          "output_type": "execute_result",
          "data": {
            "text/plain": [
              "['0', '1']"
            ]
          },
          "metadata": {},
          "execution_count": 24
        }
      ]
    },
    {
      "cell_type": "code",
      "source": [
        "label_map = {label: i for i, label in enumerate(label_list)}\n",
        "label_map"
      ],
      "metadata": {
        "colab": {
          "base_uri": "https://localhost:8080/"
        },
        "id": "6hU6OnA3EQum",
        "outputId": "99c638eb-b7f9-4f7d-a8de-419bcaafafa0"
      },
      "execution_count": 25,
      "outputs": [
        {
          "output_type": "execute_result",
          "data": {
            "text/plain": [
              "{'0': 0, '1': 1}"
            ]
          },
          "metadata": {},
          "execution_count": 25
        }
      ]
    },
    {
      "cell_type": "markdown",
      "source": [
        "실제 label을 확인하여 Binary Classification 문제로 정의되는 것을 확인한다."
      ],
      "metadata": {
        "id": "DKhz9ztvN5XU"
      }
    },
    {
      "cell_type": "markdown",
      "source": [
        "<br/>"
      ],
      "metadata": {
        "id": "0sqXnVTtN6Vs"
      }
    },
    {
      "cell_type": "markdown",
      "source": [
        "##Huggingface Dataset"
      ],
      "metadata": {
        "id": "H8nZk9ZqN8Kz"
      }
    },
    {
      "cell_type": "code",
      "source": [
        "huggingface_mrpc_dataset = load_dataset('glue', 'mrpc')"
      ],
      "metadata": {
        "id": "oevsq5N1N96u"
      },
      "execution_count": null,
      "outputs": []
    },
    {
      "cell_type": "code",
      "source": [
        "print(huggingface_mrpc_dataset)"
      ],
      "metadata": {
        "colab": {
          "base_uri": "https://localhost:8080/"
        },
        "id": "Bg4NEUn-E5q9",
        "outputId": "49a7ccf2-4cb1-453a-faa0-88ffe1b0f4fe"
      },
      "execution_count": null,
      "outputs": [
        {
          "output_type": "stream",
          "name": "stdout",
          "text": [
            "DatasetDict({\n",
            "    train: Dataset({\n",
            "        features: ['sentence1', 'sentence2', 'label', 'idx'],\n",
            "        num_rows: 3668\n",
            "    })\n",
            "    validation: Dataset({\n",
            "        features: ['sentence1', 'sentence2', 'label', 'idx'],\n",
            "        num_rows: 408\n",
            "    })\n",
            "    test: Dataset({\n",
            "        features: ['sentence1', 'sentence2', 'label', 'idx'],\n",
            "        num_rows: 1725\n",
            "    })\n",
            "})\n"
          ]
        }
      ]
    },
    {
      "cell_type": "markdown",
      "source": [
        ""
      ],
      "metadata": {
        "id": "74io-WujOAVK"
      }
    },
    {
      "cell_type": "markdown",
      "source": [
        "Huggingface Datasets를 사용하면 DataProcessor를 사용할 필요없이 바로 사용가능하게 구성되어 있다.\n",
        "<br/>Dataset Dictionary은 train dataset, validation dataset, test dataset으로 구성된다.\n",
        "<br/>Dataset은 ‘sentence1’, ‘sentence2’, ‘label’, ‘idx’(인덱스)로 구성된다."
      ],
      "metadata": {
        "id": "XInfvGirOBWn"
      }
    },
    {
      "cell_type": "markdown",
      "source": [
        "<br/>"
      ],
      "metadata": {
        "id": "1mJbYOisOCw7"
      }
    },
    {
      "cell_type": "markdown",
      "source": [
        "##distilbert-base-uncased"
      ],
      "metadata": {
        "id": "xE_DN_fZG3jM"
      }
    },
    {
      "cell_type": "markdown",
      "source": [
        "###Tokenizer & Model"
      ],
      "metadata": {
        "id": "0SV8zRoJOFnd"
      }
    },
    {
      "cell_type": "code",
      "source": [
        "from transformers import DistilBertTokenizer, TFDistilBertForSequenceClassification, AutoConfig\n",
        "\n",
        "distilbert_base_uncased_tokenizer = DistilBertTokenizer.from_pretrained('distilbert-base-uncased')\n",
        "distilbert_base_uncased_model = TFDistilBertForSequenceClassification.from_pretrained('distilbert-base-uncased')"
      ],
      "metadata": {
        "id": "3dL2vBreRicp"
      },
      "execution_count": null,
      "outputs": []
    },
    {
      "cell_type": "markdown",
      "source": [
        "MrpcProcessor 클래스와 Framework를 결합하는 과정을 진행한다.\n",
        "<br/>모델 [distilbert-base-uncased](https://huggingface.co/distilbert-base-uncased) 를 사용한다."
      ],
      "metadata": {
        "id": "OJ_VkPkfVtHj"
      }
    },
    {
      "cell_type": "code",
      "source": [
        "train_dataset = tf_glue_convert_examples_to_features(data['train'], tokenizer, max_length=128, processor=processor)"
      ],
      "metadata": {
        "colab": {
          "base_uri": "https://localhost:8080/"
        },
        "id": "ZEoi5R-gODED",
        "outputId": "ea6ebd54-0ce5-4c14-f115-c6ab7e9b0ebe"
      },
      "execution_count": null,
      "outputs": [
        {
          "output_type": "stream",
          "name": "stdout",
          "text": [
            "Using label list ['0', '1']\n",
            "\n",
            "\n",
            "Example\n",
            "\n",
            "guid: 1680\n",
            "('features: InputFeatures(input_ids=[101, 1996, 7235, 9819, 2097, 2552, 2004, '\n",
            " '20478, 21334, 2015, 1010, 6575, 2005, 3350, 1997, 2627, 2300, 1012, 102, '\n",
            " '1996, 9819, 2552, 2004, 20478, 21334, 2015, 1010, 3048, 2006, 2416, 7787, '\n",
            " '1012, 102, 0, 0, 0, 0, 0, 0, 0, 0, 0, 0, 0, 0, 0, 0, 0, 0, 0, 0, 0, 0, 0, 0, '\n",
            " '0, 0, 0, 0, 0, 0, 0, 0, 0, 0, 0, 0, 0, 0, 0, 0, 0, 0, 0, 0, 0, 0, 0, 0, 0, '\n",
            " '0, 0, 0, 0, 0, 0, 0, 0, 0, 0, 0, 0, 0, 0, 0, 0, 0, 0, 0, 0, 0, 0, 0, 0, 0, '\n",
            " '0, 0, 0, 0, 0, 0, 0, 0, 0, 0, 0, 0, 0, 0, 0, 0, 0, 0, 0, 0, 0, 0, 0], '\n",
            " 'attention_mask=[1, 1, 1, 1, 1, 1, 1, 1, 1, 1, 1, 1, 1, 1, 1, 1, 1, 1, 1, 1, '\n",
            " '1, 1, 1, 1, 1, 1, 1, 1, 1, 1, 1, 1, 1, 0, 0, 0, 0, 0, 0, 0, 0, 0, 0, 0, 0, '\n",
            " '0, 0, 0, 0, 0, 0, 0, 0, 0, 0, 0, 0, 0, 0, 0, 0, 0, 0, 0, 0, 0, 0, 0, 0, 0, '\n",
            " '0, 0, 0, 0, 0, 0, 0, 0, 0, 0, 0, 0, 0, 0, 0, 0, 0, 0, 0, 0, 0, 0, 0, 0, 0, '\n",
            " '0, 0, 0, 0, 0, 0, 0, 0, 0, 0, 0, 0, 0, 0, 0, 0, 0, 0, 0, 0, 0, 0, 0, 0, 0, '\n",
            " '0, 0, 0, 0, 0, 0, 0, 0], token_type_ids=None, label=0)')\n",
            "\n",
            "\n"
          ]
        }
      ]
    },
    {
      "cell_type": "code",
      "source": [
        "examples = train_dataset.take(1)\n",
        "\n",
        "print('features')\n",
        "print()\n",
        "for example in examples:\n",
        "    print('input_ids')\n",
        "    print(example[0]['input_ids'])\n",
        "    print(\"\\n\")\n",
        "    print('attention_mask')\n",
        "    print(example[0]['attention_mask'])\n",
        "    print(\"\\n\")\n",
        "    print('token_type_ids')\n",
        "    print(example[0]['token_type_ids'])\n",
        "    print(\"\\n\")\n",
        "    print('label')\n",
        "    print(example[1])"
      ],
      "metadata": {
        "colab": {
          "base_uri": "https://localhost:8080/"
        },
        "id": "r4zslw9IPYkL",
        "outputId": "42c721ae-ca2a-4494-f08d-89f4fb7b4ffc"
      },
      "execution_count": null,
      "outputs": [
        {
          "output_type": "stream",
          "name": "stdout",
          "text": [
            "input_ids\n",
            "tf.Tensor(\n",
            "[  101  1996  7235  9819  2097  2552  2004 20478 21334  2015  1010  6575\n",
            "  2005  3350  1997  2627  2300  1012   102  1996  9819  2552  2004 20478\n",
            " 21334  2015  1010  3048  2006  2416  7787  1012   102     0     0     0\n",
            "     0     0     0     0     0     0     0     0     0     0     0     0\n",
            "     0     0     0     0     0     0     0     0     0     0     0     0\n",
            "     0     0     0     0     0     0     0     0     0     0     0     0\n",
            "     0     0     0     0     0     0     0     0     0     0     0     0\n",
            "     0     0     0     0     0     0     0     0     0     0     0     0\n",
            "     0     0     0     0     0     0     0     0     0     0     0     0\n",
            "     0     0     0     0     0     0     0     0     0     0     0     0\n",
            "     0     0     0     0     0     0     0     0], shape=(128,), dtype=int32)\n",
            "\n",
            "\n",
            "attention_mask\n",
            "tf.Tensor(\n",
            "[1 1 1 1 1 1 1 1 1 1 1 1 1 1 1 1 1 1 1 1 1 1 1 1 1 1 1 1 1 1 1 1 1 0 0 0 0\n",
            " 0 0 0 0 0 0 0 0 0 0 0 0 0 0 0 0 0 0 0 0 0 0 0 0 0 0 0 0 0 0 0 0 0 0 0 0 0\n",
            " 0 0 0 0 0 0 0 0 0 0 0 0 0 0 0 0 0 0 0 0 0 0 0 0 0 0 0 0 0 0 0 0 0 0 0 0 0\n",
            " 0 0 0 0 0 0 0 0 0 0 0 0 0 0 0 0 0], shape=(128,), dtype=int32)\n",
            "\n",
            "\n",
            "tf.Tensor(0, shape=(), dtype=int64)\n"
          ]
        }
      ]
    },
    {
      "cell_type": "markdown",
      "source": [
        ""
      ],
      "metadata": {
        "id": "LbnqmGr4OQNN"
      }
    },
    {
      "cell_type": "markdown",
      "source": [
        "tf_glue_convert_examples_to_features가 최종적으로 모델에 전달될 tf.data.Dataset 인스턴스를 생성하여\n",
        "<br/>학습 단계 데이터셋 train_dataset이 반환한다."
      ],
      "metadata": {
        "id": "XilMhhPsOSOj"
      }
    },
    {
      "cell_type": "markdown",
      "source": [
        "<br/>"
      ],
      "metadata": {
        "id": "RqFoNMdYOXqb"
      }
    },
    {
      "cell_type": "code",
      "source": [
        "train_dataset = tf_glue_convert_examples_to_features(data['train'], tokenizer, max_length=128, processor=processor)\n",
        "train_dataset_batch = train_dataset.shuffle(100).batch(16).repeat(2)"
      ],
      "metadata": {
        "colab": {
          "base_uri": "https://localhost:8080/"
        },
        "id": "eOiwA-URRfPi",
        "outputId": "baeb3b41-6661-4dd8-edba-a897aa31fa4f"
      },
      "execution_count": 46,
      "outputs": [
        {
          "output_type": "stream",
          "name": "stdout",
          "text": [
            "Using label list ['0', '1']\n",
            "\n",
            "\n",
            "Example\n",
            "\n",
            "guid: 1680\n",
            "('features: InputFeatures(input_ids=[101, 1996, 7235, 9819, 2097, 2552, 2004, '\n",
            " '20478, 21334, 2015, 1010, 6575, 2005, 3350, 1997, 2627, 2300, 1012, 102, '\n",
            " '1996, 9819, 2552, 2004, 20478, 21334, 2015, 1010, 3048, 2006, 2416, 7787, '\n",
            " '1012, 102, 0, 0, 0, 0, 0, 0, 0, 0, 0, 0, 0, 0, 0, 0, 0, 0, 0, 0, 0, 0, 0, 0, '\n",
            " '0, 0, 0, 0, 0, 0, 0, 0, 0, 0, 0, 0, 0, 0, 0, 0, 0, 0, 0, 0, 0, 0, 0, 0, 0, '\n",
            " '0, 0, 0, 0, 0, 0, 0, 0, 0, 0, 0, 0, 0, 0, 0, 0, 0, 0, 0, 0, 0, 0, 0, 0, 0, '\n",
            " '0, 0, 0, 0, 0, 0, 0, 0, 0, 0, 0, 0, 0, 0, 0, 0, 0, 0, 0, 0, 0, 0, 0], '\n",
            " 'attention_mask=[1, 1, 1, 1, 1, 1, 1, 1, 1, 1, 1, 1, 1, 1, 1, 1, 1, 1, 1, 1, '\n",
            " '1, 1, 1, 1, 1, 1, 1, 1, 1, 1, 1, 1, 1, 0, 0, 0, 0, 0, 0, 0, 0, 0, 0, 0, 0, '\n",
            " '0, 0, 0, 0, 0, 0, 0, 0, 0, 0, 0, 0, 0, 0, 0, 0, 0, 0, 0, 0, 0, 0, 0, 0, 0, '\n",
            " '0, 0, 0, 0, 0, 0, 0, 0, 0, 0, 0, 0, 0, 0, 0, 0, 0, 0, 0, 0, 0, 0, 0, 0, 0, '\n",
            " '0, 0, 0, 0, 0, 0, 0, 0, 0, 0, 0, 0, 0, 0, 0, 0, 0, 0, 0, 0, 0, 0, 0, 0, 0, '\n",
            " '0, 0, 0, 0, 0, 0, 0, 0], token_type_ids=None, label=0)')\n",
            "\n",
            "\n"
          ]
        }
      ]
    },
    {
      "cell_type": "code",
      "source": [
        "validation_dataset = tf_glue_convert_examples_to_features(data['validation'], tokenizer, max_length=128, processor=processor)\n",
        "validation_dataset_batch = validation_dataset.shuffle(100).batch(16)"
      ],
      "metadata": {
        "colab": {
          "base_uri": "https://localhost:8080/"
        },
        "id": "zKRNMxzPRhgJ",
        "outputId": "f07405d8-8fc1-49eb-e04b-a4de739a3d87"
      },
      "execution_count": 47,
      "outputs": [
        {
          "output_type": "stream",
          "name": "stdout",
          "text": [
            "Using label list ['0', '1']\n",
            "\n",
            "\n",
            "Example\n",
            "\n",
            "guid: 3155\n",
            "('features: InputFeatures(input_ids=[101, 1996, 2265, 1005, 1055, 8503, 5360, '\n",
            " '2353, 1011, 4284, 16565, 2566, 3745, 2011, 1037, 10647, 1012, 102, 1996, '\n",
            " '2194, 2056, 2023, 19209, 16565, 2011, 1037, 10647, 1037, 3745, 1012, 102, 0, '\n",
            " '0, 0, 0, 0, 0, 0, 0, 0, 0, 0, 0, 0, 0, 0, 0, 0, 0, 0, 0, 0, 0, 0, 0, 0, 0, '\n",
            " '0, 0, 0, 0, 0, 0, 0, 0, 0, 0, 0, 0, 0, 0, 0, 0, 0, 0, 0, 0, 0, 0, 0, 0, 0, '\n",
            " '0, 0, 0, 0, 0, 0, 0, 0, 0, 0, 0, 0, 0, 0, 0, 0, 0, 0, 0, 0, 0, 0, 0, 0, 0, '\n",
            " '0, 0, 0, 0, 0, 0, 0, 0, 0, 0, 0, 0, 0, 0, 0, 0, 0, 0, 0, 0, 0], '\n",
            " 'attention_mask=[1, 1, 1, 1, 1, 1, 1, 1, 1, 1, 1, 1, 1, 1, 1, 1, 1, 1, 1, 1, '\n",
            " '1, 1, 1, 1, 1, 1, 1, 1, 1, 1, 1, 0, 0, 0, 0, 0, 0, 0, 0, 0, 0, 0, 0, 0, 0, '\n",
            " '0, 0, 0, 0, 0, 0, 0, 0, 0, 0, 0, 0, 0, 0, 0, 0, 0, 0, 0, 0, 0, 0, 0, 0, 0, '\n",
            " '0, 0, 0, 0, 0, 0, 0, 0, 0, 0, 0, 0, 0, 0, 0, 0, 0, 0, 0, 0, 0, 0, 0, 0, 0, '\n",
            " '0, 0, 0, 0, 0, 0, 0, 0, 0, 0, 0, 0, 0, 0, 0, 0, 0, 0, 0, 0, 0, 0, 0, 0, 0, '\n",
            " '0, 0, 0, 0, 0, 0, 0, 0], token_type_ids=None, label=1)')\n",
            "\n",
            "\n"
          ]
        }
      ]
    },
    {
      "cell_type": "code",
      "source": [
        "test_dataset = tf_glue_convert_examples_to_features(data['test'], tokenizer, max_length=128, processor=processor)\n",
        "test_dataset_batch = test_dataset.shuffle(100).batch(16)"
      ],
      "metadata": {
        "colab": {
          "base_uri": "https://localhost:8080/"
        },
        "id": "yCpDaYpBRt3Z",
        "outputId": "dd6b3812-2b5f-4fb0-d95e-3b8c9965220d"
      },
      "execution_count": 48,
      "outputs": [
        {
          "output_type": "stream",
          "name": "stdout",
          "text": [
            "Using label list ['0', '1']\n",
            "\n",
            "\n",
            "Example\n",
            "\n",
            "guid: 163\n",
            "('features: InputFeatures(input_ids=[101, 6661, 1999, 8670, 2020, 2091, 1015, '\n",
            " '1012, 1019, 3867, 2012, 16923, 7279, 3401, 2011, 16087, 2692, 13938, 2102, '\n",
            " '1010, 2125, 1037, 2659, 1997, 17943, 2361, 1010, 1999, 1037, 3621, 6428, '\n",
            " '3452, 2414, 3006, 1012, 102, 6661, 1999, 8670, 2020, 2091, 2093, 3867, 2012, '\n",
            " '13913, 1011, 1015, 1013, 1018, 7279, 3401, 2011, 5641, 22394, 13938, 2102, '\n",
            " '1010, 2125, 1037, 2659, 1997, 17943, 7279, 3401, 1010, 1999, 1037, 6428, '\n",
            " '3006, 1012, 102, 0, 0, 0, 0, 0, 0, 0, 0, 0, 0, 0, 0, 0, 0, 0, 0, 0, 0, 0, 0, '\n",
            " '0, 0, 0, 0, 0, 0, 0, 0, 0, 0, 0, 0, 0, 0, 0, 0, 0, 0, 0, 0, 0, 0, 0, 0, 0, '\n",
            " '0, 0, 0, 0, 0, 0, 0, 0, 0, 0, 0, 0], attention_mask=[1, 1, 1, 1, 1, 1, 1, 1, '\n",
            " '1, 1, 1, 1, 1, 1, 1, 1, 1, 1, 1, 1, 1, 1, 1, 1, 1, 1, 1, 1, 1, 1, 1, 1, 1, '\n",
            " '1, 1, 1, 1, 1, 1, 1, 1, 1, 1, 1, 1, 1, 1, 1, 1, 1, 1, 1, 1, 1, 1, 1, 1, 1, '\n",
            " '1, 1, 1, 1, 1, 1, 1, 1, 1, 1, 1, 1, 1, 0, 0, 0, 0, 0, 0, 0, 0, 0, 0, 0, 0, '\n",
            " '0, 0, 0, 0, 0, 0, 0, 0, 0, 0, 0, 0, 0, 0, 0, 0, 0, 0, 0, 0, 0, 0, 0, 0, 0, '\n",
            " '0, 0, 0, 0, 0, 0, 0, 0, 0, 0, 0, 0, 0, 0, 0, 0, 0, 0, 0, 0], '\n",
            " 'token_type_ids=None, label=1)')\n",
            "\n",
            "\n"
          ]
        }
      ]
    },
    {
      "cell_type": "markdown",
      "source": [
        ""
      ],
      "metadata": {
        "id": "r4I1Gm_lOboD"
      }
    },
    {
      "cell_type": "markdown",
      "source": [
        "###Tokenizing"
      ],
      "metadata": {
        "id": "8e4DSQjiTgi6"
      }
    },
    {
      "cell_type": "code",
      "source": [
        "def transform(data):\n",
        "  return distilbert_base_uncased_tokenizer(\n",
        "      data['sentence1'],\n",
        "      data['sentence2'],\n",
        "      truncation = True,\n",
        "      padding = 'max_length',\n",
        "      return_token_type_ids = False,\n",
        "      )"
      ],
      "metadata": {
        "id": "qF427dn-OtqF"
      },
      "execution_count": 37,
      "outputs": []
    },
    {
      "cell_type": "markdown",
      "source": [
        "토크나이징은 transform이라는 함수를 만들고 이전에 만들어두었던 Tokenizer를 사용하는데 이때 dataset의 형태를 확인하고 바꿀 대상을 지정한다.\n",
        "<br/>mrpc의 경우 sentence1, sentence2가 토크나이징할 대상이므로 data[’sentence1’], data[’sentence2’]로 인덱싱해서 지정한다.\n",
        "<br/>truncation은 특정 문장이 길어 모델을 다루기 힘들어 질 수 있으므로 짧게 자르는 것을 의미한다.\n",
        "<br/>return_token_type_ids는 문장이 한개이상일 때 나뉘는걸 보여준다. (해당 내용은 task에 필요없으므로 제거한다.)"
      ],
      "metadata": {
        "id": "XcIXXN-QOvlN"
      }
    },
    {
      "cell_type": "code",
      "source": [
        "examples = huggingface_mrpc_dataset['train'][:5]\n",
        "examples_transformed = transform(examples)\n",
        "\n",
        "count = 0\n",
        "print(\"Example\")\n",
        "print()\n",
        "pprint.pprint(examples)\n",
        "print(\"\\n\")\n",
        "print()\n",
        "\n",
        "print(\"Tokenization Example\")\n",
        "print()\n",
        "\n",
        "for i in ['input_ids', 'attention_mask']:\n",
        "  if i == 'input_ids':\n",
        "    print('input_ids[0]')\n",
        "  else:\n",
        "    count = 0\n",
        "    print(\"\\n\")\n",
        "    print()\n",
        "    print('attention_mask[0]')\n",
        "\n",
        "  for j in examples_transformed[i][0]:\n",
        "    count += 1\n",
        "    if count < len(examples_transformed[i][0]):\n",
        "      print(j, end=', ')\n",
        "    elif count == len(examples_transformed[i][0]):\n",
        "      print(j, end=' ')  \n",
        "    if (i == 'input_ids' and count == 25) or count % 50 == 0:\n",
        "      print()"
      ],
      "metadata": {
        "colab": {
          "base_uri": "https://localhost:8080/"
        },
        "id": "auV00DhoUGwy",
        "outputId": "7c253dbb-23f4-42ea-95ae-730916074bd0"
      },
      "execution_count": 38,
      "outputs": [
        {
          "output_type": "stream",
          "name": "stdout",
          "text": [
            "Example\n",
            "\n",
            "{'idx': [0, 1, 2, 3, 4],\n",
            " 'label': [1, 0, 1, 0, 1],\n",
            " 'sentence1': ['Amrozi accused his brother , whom he called \" the witness \" , '\n",
            "               'of deliberately distorting his evidence .',\n",
            "               \"Yucaipa owned Dominick 's before selling the chain to Safeway \"\n",
            "               'in 1998 for $ 2.5 billion .',\n",
            "               'They had published an advertisement on the Internet on June 10 '\n",
            "               ', offering the cargo for sale , he added .',\n",
            "               'Around 0335 GMT , Tab shares were up 19 cents , or 4.4 % , at '\n",
            "               'A $ 4.56 , having earlier set a record high of A $ 4.57 .',\n",
            "               'The stock rose $ 2.11 , or about 11 percent , to close Friday '\n",
            "               'at $ 21.51 on the New York Stock Exchange .'],\n",
            " 'sentence2': ['Referring to him as only \" the witness \" , Amrozi accused his '\n",
            "               'brother of deliberately distorting his evidence .',\n",
            "               \"Yucaipa bought Dominick 's in 1995 for $ 693 million and sold \"\n",
            "               'it to Safeway for $ 1.8 billion in 1998 .',\n",
            "               \"On June 10 , the ship 's owners had published an advertisement \"\n",
            "               'on the Internet , offering the explosives for sale .',\n",
            "               'Tab shares jumped 20 cents , or 4.6 % , to set a record '\n",
            "               'closing high at A $ 4.57 .',\n",
            "               'PG & E Corp. shares jumped $ 1.63 or 8 percent to $ 21.03 on '\n",
            "               'the New York Stock Exchange on Friday .']}\n",
            "\n",
            "\n",
            "\n",
            "Tokenization Example\n",
            "\n",
            "input_ids[0]\n",
            "101, 2572, 3217, 5831, 5496, 2010, 2567, 1010, 3183, 2002, 2170, 1000, 1996, 7409, 1000, 1010, 1997, 9969, 4487, 23809, 3436, 2010, 3350, 1012, 102, \n",
            "7727, 2000, 2032, 2004, 2069, 1000, 1996, 7409, 1000, 1010, 2572, 3217, 5831, 5496, 2010, 2567, 1997, 9969, 4487, 23809, 3436, 2010, 3350, 1012, 102, \n",
            "0, 0, 0, 0, 0, 0, 0, 0, 0, 0, 0, 0, 0, 0, 0, 0, 0, 0, 0, 0, 0, 0, 0, 0, 0, 0, 0, 0, 0, 0, 0, 0, 0, 0, 0, 0, 0, 0, 0, 0, 0, 0, 0, 0, 0, 0, 0, 0, 0, 0, \n",
            "0, 0, 0, 0, 0, 0, 0, 0, 0, 0, 0, 0, 0, 0, 0, 0, 0, 0, 0, 0, 0, 0, 0, 0, 0, 0, 0, 0, 0, 0, 0, 0, 0, 0, 0, 0, 0, 0, 0, 0, 0, 0, 0, 0, 0, 0, 0, 0, 0, 0, \n",
            "0, 0, 0, 0, 0, 0, 0, 0, 0, 0, 0, 0, 0, 0, 0, 0, 0, 0, 0, 0, 0, 0, 0, 0, 0, 0, 0, 0, 0, 0, 0, 0, 0, 0, 0, 0, 0, 0, 0, 0, 0, 0, 0, 0, 0, 0, 0, 0, 0, 0, \n",
            "0, 0, 0, 0, 0, 0, 0, 0, 0, 0, 0, 0, 0, 0, 0, 0, 0, 0, 0, 0, 0, 0, 0, 0, 0, 0, 0, 0, 0, 0, 0, 0, 0, 0, 0, 0, 0, 0, 0, 0, 0, 0, 0, 0, 0, 0, 0, 0, 0, 0, \n",
            "0, 0, 0, 0, 0, 0, 0, 0, 0, 0, 0, 0, 0, 0, 0, 0, 0, 0, 0, 0, 0, 0, 0, 0, 0, 0, 0, 0, 0, 0, 0, 0, 0, 0, 0, 0, 0, 0, 0, 0, 0, 0, 0, 0, 0, 0, 0, 0, 0, 0, \n",
            "0, 0, 0, 0, 0, 0, 0, 0, 0, 0, 0, 0, 0, 0, 0, 0, 0, 0, 0, 0, 0, 0, 0, 0, 0, 0, 0, 0, 0, 0, 0, 0, 0, 0, 0, 0, 0, 0, 0, 0, 0, 0, 0, 0, 0, 0, 0, 0, 0, 0, \n",
            "0, 0, 0, 0, 0, 0, 0, 0, 0, 0, 0, 0, 0, 0, 0, 0, 0, 0, 0, 0, 0, 0, 0, 0, 0, 0, 0, 0, 0, 0, 0, 0, 0, 0, 0, 0, 0, 0, 0, 0, 0, 0, 0, 0, 0, 0, 0, 0, 0, 0, \n",
            "0, 0, 0, 0, 0, 0, 0, 0, 0, 0, 0, 0, 0, 0, 0, 0, 0, 0, 0, 0, 0, 0, 0, 0, 0, 0, 0, 0, 0, 0, 0, 0, 0, 0, 0, 0, 0, 0, 0, 0, 0, 0, 0, 0, 0, 0, 0, 0, 0, 0, \n",
            "0, 0, 0, 0, 0, 0, 0, 0, 0, 0, 0, 0, 0, 0, 0, 0, 0, 0, 0, 0, 0, 0, 0, 0, 0, 0, 0, 0, 0, 0, 0, 0, 0, 0, 0, 0, 0, 0, 0, 0, 0, 0, 0, 0, 0, 0, 0, 0, 0, 0, \n",
            "0, 0, 0, 0, 0, 0, 0, 0, 0, 0, 0, 0 \n",
            "\n",
            "\n",
            "attention_mask[0]\n",
            "1, 1, 1, 1, 1, 1, 1, 1, 1, 1, 1, 1, 1, 1, 1, 1, 1, 1, 1, 1, 1, 1, 1, 1, 1, 1, 1, 1, 1, 1, 1, 1, 1, 1, 1, 1, 1, 1, 1, 1, 1, 1, 1, 1, 1, 1, 1, 1, 1, 1, \n",
            "0, 0, 0, 0, 0, 0, 0, 0, 0, 0, 0, 0, 0, 0, 0, 0, 0, 0, 0, 0, 0, 0, 0, 0, 0, 0, 0, 0, 0, 0, 0, 0, 0, 0, 0, 0, 0, 0, 0, 0, 0, 0, 0, 0, 0, 0, 0, 0, 0, 0, \n",
            "0, 0, 0, 0, 0, 0, 0, 0, 0, 0, 0, 0, 0, 0, 0, 0, 0, 0, 0, 0, 0, 0, 0, 0, 0, 0, 0, 0, 0, 0, 0, 0, 0, 0, 0, 0, 0, 0, 0, 0, 0, 0, 0, 0, 0, 0, 0, 0, 0, 0, \n",
            "0, 0, 0, 0, 0, 0, 0, 0, 0, 0, 0, 0, 0, 0, 0, 0, 0, 0, 0, 0, 0, 0, 0, 0, 0, 0, 0, 0, 0, 0, 0, 0, 0, 0, 0, 0, 0, 0, 0, 0, 0, 0, 0, 0, 0, 0, 0, 0, 0, 0, \n",
            "0, 0, 0, 0, 0, 0, 0, 0, 0, 0, 0, 0, 0, 0, 0, 0, 0, 0, 0, 0, 0, 0, 0, 0, 0, 0, 0, 0, 0, 0, 0, 0, 0, 0, 0, 0, 0, 0, 0, 0, 0, 0, 0, 0, 0, 0, 0, 0, 0, 0, \n",
            "0, 0, 0, 0, 0, 0, 0, 0, 0, 0, 0, 0, 0, 0, 0, 0, 0, 0, 0, 0, 0, 0, 0, 0, 0, 0, 0, 0, 0, 0, 0, 0, 0, 0, 0, 0, 0, 0, 0, 0, 0, 0, 0, 0, 0, 0, 0, 0, 0, 0, \n",
            "0, 0, 0, 0, 0, 0, 0, 0, 0, 0, 0, 0, 0, 0, 0, 0, 0, 0, 0, 0, 0, 0, 0, 0, 0, 0, 0, 0, 0, 0, 0, 0, 0, 0, 0, 0, 0, 0, 0, 0, 0, 0, 0, 0, 0, 0, 0, 0, 0, 0, \n",
            "0, 0, 0, 0, 0, 0, 0, 0, 0, 0, 0, 0, 0, 0, 0, 0, 0, 0, 0, 0, 0, 0, 0, 0, 0, 0, 0, 0, 0, 0, 0, 0, 0, 0, 0, 0, 0, 0, 0, 0, 0, 0, 0, 0, 0, 0, 0, 0, 0, 0, \n",
            "0, 0, 0, 0, 0, 0, 0, 0, 0, 0, 0, 0, 0, 0, 0, 0, 0, 0, 0, 0, 0, 0, 0, 0, 0, 0, 0, 0, 0, 0, 0, 0, 0, 0, 0, 0, 0, 0, 0, 0, 0, 0, 0, 0, 0, 0, 0, 0, 0, 0, \n",
            "0, 0, 0, 0, 0, 0, 0, 0, 0, 0, 0, 0, 0, 0, 0, 0, 0, 0, 0, 0, 0, 0, 0, 0, 0, 0, 0, 0, 0, 0, 0, 0, 0, 0, 0, 0, 0, 0, 0, 0, 0, 0, 0, 0, 0, 0, 0, 0, 0, 0, \n",
            "0, 0, 0, 0, 0, 0, 0, 0, 0, 0, 0, 0 "
          ]
        }
      ]
    },
    {
      "cell_type": "markdown",
      "source": [
        "<br/><br/><br/><br/>"
      ],
      "metadata": {
        "id": "O5m4bUsHO0KG"
      }
    },
    {
      "cell_type": "code",
      "source": [
        "encoded_dataset = huggingface_mrpc_dataset.map(transform, batched=True)"
      ],
      "metadata": {
        "id": "0GPUT0yjUG0Z"
      },
      "execution_count": null,
      "outputs": []
    },
    {
      "cell_type": "markdown",
      "source": [
        "데이터셋을 한번에 토크나이징할때 자주 사용하는 기법은 map이다.\n",
        "<br/>map을 사용하면 Data Dictionary에 있는 모든 데이터들이 빠르게 적용시킬 수 있다.\n",
        "<br/>우리는 map을 사용해 토크나이징을 진행하기 때문에 batch를 적용하므로 batched=True로 설정한다."
      ],
      "metadata": {
        "id": "zr023T88O3T2"
      }
    },
    {
      "cell_type": "markdown",
      "source": [
        "<br/>"
      ],
      "metadata": {
        "id": "2fJWlJRbO40U"
      }
    },
    {
      "cell_type": "markdown",
      "source": [
        "###Keras Moodel"
      ],
      "metadata": {
        "id": "wHOiKeufO6YM"
      }
    },
    {
      "cell_type": "code",
      "source": [
        "num_classes = len(processor.get_labels())\n",
        "\n",
        "optimizer = tf.keras.optimizers.Adam(learning_rate=3e-5)\n",
        "loss = tf.keras.losses.SparseCategoricalCrossentropy(from_logits=True)"
      ],
      "metadata": {
        "id": "GnZrehSRN_R0"
      },
      "execution_count": 31,
      "outputs": []
    },
    {
      "cell_type": "code",
      "source": [
        "distilbert_base_uncased_model.compile(optimizer=optimizer, loss=loss, metrics=['acc'])\n",
        "distilbert_base_uncased_model.summary()"
      ],
      "metadata": {
        "id": "pbefit1kSARx",
        "colab": {
          "base_uri": "https://localhost:8080/"
        },
        "outputId": "89b09966-60ba-4552-9561-903c733557f0"
      },
      "execution_count": 52,
      "outputs": [
        {
          "output_type": "stream",
          "name": "stdout",
          "text": [
            "Model: \"tf_distil_bert_for_sequence_classification\"\n",
            "_________________________________________________________________\n",
            " Layer (type)                Output Shape              Param #   \n",
            "=================================================================\n",
            " distilbert (TFDistilBertMai  multiple                 66362880  \n",
            " nLayer)                                                         \n",
            "                                                                 \n",
            " pre_classifier (Dense)      multiple                  590592    \n",
            "                                                                 \n",
            " classifier (Dense)          multiple                  1538      \n",
            "                                                                 \n",
            " dropout_19 (Dropout)        multiple                  0         \n",
            "                                                                 \n",
            "=================================================================\n",
            "Total params: 66,955,010\n",
            "Trainable params: 66,955,010\n",
            "Non-trainable params: 0\n",
            "_________________________________________________________________\n"
          ]
        }
      ]
    },
    {
      "cell_type": "markdown",
      "source": [
        "<br/><br/>"
      ],
      "metadata": {
        "id": "XzDlf4PCO9sj"
      }
    },
    {
      "cell_type": "code",
      "source": [
        "train_history = distilbert_base_uncased_model.fit(train_dataset_batch, epochs=3, steps_per_epoch=115, \n",
        "                validation_data=validation_dataset_batch)"
      ],
      "metadata": {
        "id": "evuUyTHFR1HB",
        "colab": {
          "base_uri": "https://localhost:8080/"
        },
        "outputId": "8febf701-629e-47bf-f344-6af61a363f98"
      },
      "execution_count": 53,
      "outputs": [
        {
          "output_type": "stream",
          "name": "stdout",
          "text": [
            "Epoch 1/3\n",
            "115/115 [==============================] - 34s 184ms/step - loss: 0.5722 - acc: 0.6940 - val_loss: 0.4792 - val_acc: 0.7475\n",
            "Epoch 2/3\n",
            "115/115 [==============================] - 19s 164ms/step - loss: 0.4613 - acc: 0.7817 - val_loss: 0.3821 - val_acc: 0.8309\n",
            "Epoch 3/3\n",
            "115/115 [==============================] - 19s 167ms/step - loss: 0.3659 - acc: 0.8413 - val_loss: 0.4052 - val_acc: 0.8162\n"
          ]
        }
      ]
    },
    {
      "cell_type": "markdown",
      "source": [
        "<br/><br/>"
      ],
      "metadata": {
        "id": "iVy3x-ByckA3"
      }
    },
    {
      "cell_type": "code",
      "source": [
        "keras_model_train_history = {'Train Loss': train_history.history['loss'],\n",
        "                          'Validation Loss': train_history.history['val_loss'],\n",
        "                          'Train Accuracy': train_history.history['acc'],\n",
        "                          'Validation Accuracy': train_history.history['val_acc']}\n",
        "\n",
        "keras_model_train_history_df = pd.DataFrame(keras_model_train_history)\n",
        "keras_model_train_history_df = keras_model_train_history_df.round(4)\n",
        "keras_model_train_history_df['Epoch'] = keras_model_train_history_df.reset_index().index + 1\n",
        "keras_model_train_history_df = keras_model_train_history_df[['Epoch', 'Train Loss', 'Validation Loss', 'Train Accuracy', 'Validation Accuracy']]\n",
        "keras_model_train_history_df.to_csv(\"distilbert-base-uncased_mrpc/keras_model_train_history.csv\", index = False)\n",
        "display(keras_model_train_history_df)\n",
        "print(\"\\n\" * 4)\n",
        "\n",
        "plt.figure(figsize=(12, 4))\n",
        "\n",
        "plt.subplot(1, 2, 1)\n",
        "plt.plot(train_history.history['loss'], 'b-', label='Train Loss')\n",
        "plt.plot(train_history.history['val_loss'], 'r--', label='Validation Loss')\n",
        "plt.title(\"Loss\")\n",
        "plt.xlabel('Epoch')\n",
        "plt.legend()\n",
        "\n",
        "plt.subplot(1, 2, 2)\n",
        "plt.plot(train_history.history['acc'], 'g-', label='Train Accuracy')\n",
        "plt.plot(train_history.history['val_acc'], 'k--', label='Validation Accuracy')\n",
        "plt.title(\"Accuracy\")\n",
        "plt.xlabel('Epoch')\n",
        "plt.legend()\n",
        "\n",
        "plt.show()"
      ],
      "metadata": {
        "colab": {
          "base_uri": "https://localhost:8080/",
          "height": 513
        },
        "id": "iQWLlyackz_U",
        "outputId": "c3b735bf-cba9-4cbd-f4d8-52b00a16f009"
      },
      "execution_count": 54,
      "outputs": [
        {
          "output_type": "display_data",
          "data": {
            "text/plain": [
              "   Epoch  Train Loss  Validation Loss  Train Accuracy  Validation Accuracy\n",
              "0      1      0.5722           0.4792          0.6940               0.7475\n",
              "1      2      0.4613           0.3821          0.7817               0.8309\n",
              "2      3      0.3659           0.4052          0.8413               0.8162"
            ],
            "text/html": [
              "\n",
              "  <div id=\"df-20d8e3b2-7050-4a12-a8be-28b62590b6ee\">\n",
              "    <div class=\"colab-df-container\">\n",
              "      <div>\n",
              "<style scoped>\n",
              "    .dataframe tbody tr th:only-of-type {\n",
              "        vertical-align: middle;\n",
              "    }\n",
              "\n",
              "    .dataframe tbody tr th {\n",
              "        vertical-align: top;\n",
              "    }\n",
              "\n",
              "    .dataframe thead th {\n",
              "        text-align: right;\n",
              "    }\n",
              "</style>\n",
              "<table border=\"1\" class=\"dataframe\">\n",
              "  <thead>\n",
              "    <tr style=\"text-align: right;\">\n",
              "      <th></th>\n",
              "      <th>Epoch</th>\n",
              "      <th>Train Loss</th>\n",
              "      <th>Validation Loss</th>\n",
              "      <th>Train Accuracy</th>\n",
              "      <th>Validation Accuracy</th>\n",
              "    </tr>\n",
              "  </thead>\n",
              "  <tbody>\n",
              "    <tr>\n",
              "      <th>0</th>\n",
              "      <td>1</td>\n",
              "      <td>0.5722</td>\n",
              "      <td>0.4792</td>\n",
              "      <td>0.6940</td>\n",
              "      <td>0.7475</td>\n",
              "    </tr>\n",
              "    <tr>\n",
              "      <th>1</th>\n",
              "      <td>2</td>\n",
              "      <td>0.4613</td>\n",
              "      <td>0.3821</td>\n",
              "      <td>0.7817</td>\n",
              "      <td>0.8309</td>\n",
              "    </tr>\n",
              "    <tr>\n",
              "      <th>2</th>\n",
              "      <td>3</td>\n",
              "      <td>0.3659</td>\n",
              "      <td>0.4052</td>\n",
              "      <td>0.8413</td>\n",
              "      <td>0.8162</td>\n",
              "    </tr>\n",
              "  </tbody>\n",
              "</table>\n",
              "</div>\n",
              "      <button class=\"colab-df-convert\" onclick=\"convertToInteractive('df-20d8e3b2-7050-4a12-a8be-28b62590b6ee')\"\n",
              "              title=\"Convert this dataframe to an interactive table.\"\n",
              "              style=\"display:none;\">\n",
              "        \n",
              "  <svg xmlns=\"http://www.w3.org/2000/svg\" height=\"24px\"viewBox=\"0 0 24 24\"\n",
              "       width=\"24px\">\n",
              "    <path d=\"M0 0h24v24H0V0z\" fill=\"none\"/>\n",
              "    <path d=\"M18.56 5.44l.94 2.06.94-2.06 2.06-.94-2.06-.94-.94-2.06-.94 2.06-2.06.94zm-11 1L8.5 8.5l.94-2.06 2.06-.94-2.06-.94L8.5 2.5l-.94 2.06-2.06.94zm10 10l.94 2.06.94-2.06 2.06-.94-2.06-.94-.94-2.06-.94 2.06-2.06.94z\"/><path d=\"M17.41 7.96l-1.37-1.37c-.4-.4-.92-.59-1.43-.59-.52 0-1.04.2-1.43.59L10.3 9.45l-7.72 7.72c-.78.78-.78 2.05 0 2.83L4 21.41c.39.39.9.59 1.41.59.51 0 1.02-.2 1.41-.59l7.78-7.78 2.81-2.81c.8-.78.8-2.07 0-2.86zM5.41 20L4 18.59l7.72-7.72 1.47 1.35L5.41 20z\"/>\n",
              "  </svg>\n",
              "      </button>\n",
              "      \n",
              "  <style>\n",
              "    .colab-df-container {\n",
              "      display:flex;\n",
              "      flex-wrap:wrap;\n",
              "      gap: 12px;\n",
              "    }\n",
              "\n",
              "    .colab-df-convert {\n",
              "      background-color: #E8F0FE;\n",
              "      border: none;\n",
              "      border-radius: 50%;\n",
              "      cursor: pointer;\n",
              "      display: none;\n",
              "      fill: #1967D2;\n",
              "      height: 32px;\n",
              "      padding: 0 0 0 0;\n",
              "      width: 32px;\n",
              "    }\n",
              "\n",
              "    .colab-df-convert:hover {\n",
              "      background-color: #E2EBFA;\n",
              "      box-shadow: 0px 1px 2px rgba(60, 64, 67, 0.3), 0px 1px 3px 1px rgba(60, 64, 67, 0.15);\n",
              "      fill: #174EA6;\n",
              "    }\n",
              "\n",
              "    [theme=dark] .colab-df-convert {\n",
              "      background-color: #3B4455;\n",
              "      fill: #D2E3FC;\n",
              "    }\n",
              "\n",
              "    [theme=dark] .colab-df-convert:hover {\n",
              "      background-color: #434B5C;\n",
              "      box-shadow: 0px 1px 3px 1px rgba(0, 0, 0, 0.15);\n",
              "      filter: drop-shadow(0px 1px 2px rgba(0, 0, 0, 0.3));\n",
              "      fill: #FFFFFF;\n",
              "    }\n",
              "  </style>\n",
              "\n",
              "      <script>\n",
              "        const buttonEl =\n",
              "          document.querySelector('#df-20d8e3b2-7050-4a12-a8be-28b62590b6ee button.colab-df-convert');\n",
              "        buttonEl.style.display =\n",
              "          google.colab.kernel.accessAllowed ? 'block' : 'none';\n",
              "\n",
              "        async function convertToInteractive(key) {\n",
              "          const element = document.querySelector('#df-20d8e3b2-7050-4a12-a8be-28b62590b6ee');\n",
              "          const dataTable =\n",
              "            await google.colab.kernel.invokeFunction('convertToInteractive',\n",
              "                                                     [key], {});\n",
              "          if (!dataTable) return;\n",
              "\n",
              "          const docLinkHtml = 'Like what you see? Visit the ' +\n",
              "            '<a target=\"_blank\" href=https://colab.research.google.com/notebooks/data_table.ipynb>data table notebook</a>'\n",
              "            + ' to learn more about interactive tables.';\n",
              "          element.innerHTML = '';\n",
              "          dataTable['output_type'] = 'display_data';\n",
              "          await google.colab.output.renderOutput(dataTable, element);\n",
              "          const docLink = document.createElement('div');\n",
              "          docLink.innerHTML = docLinkHtml;\n",
              "          element.appendChild(docLink);\n",
              "        }\n",
              "      </script>\n",
              "    </div>\n",
              "  </div>\n",
              "  "
            ]
          },
          "metadata": {}
        },
        {
          "output_type": "stream",
          "name": "stdout",
          "text": [
            "\n",
            "\n",
            "\n",
            "\n",
            "\n"
          ]
        },
        {
          "output_type": "display_data",
          "data": {
            "text/plain": [
              "<Figure size 864x288 with 2 Axes>"
            ],
            "image/png": "[encoded data removed]"
          },
          "metadata": {
            "needs_background": "light"
          }
        }
      ]
    },
    {
      "cell_type": "markdown",
      "source": [
        "<br/><br/>"
      ],
      "metadata": {
        "id": "r6rKktdtPF5f"
      }
    },
    {
      "cell_type": "code",
      "source": [
        "eval_history  = distilbert_base_uncased_model.evaluate(test_dataset_batch)"
      ],
      "metadata": {
        "colab": {
          "base_uri": "https://localhost:8080/"
        },
        "id": "4GF85nolj2iG",
        "outputId": "4d37c996-dd98-43c5-ec69-9ab9a65bffad"
      },
      "execution_count": 55,
      "outputs": [
        {
          "output_type": "stream",
          "name": "stdout",
          "text": [
            "108/108 [==============================] - 7s 67ms/step - loss: 0.6290 - acc: 0.6504\n"
          ]
        }
      ]
    },
    {
      "cell_type": "markdown",
      "source": [
        "<br/>"
      ],
      "metadata": {
        "id": "4KjVShn9PJEO"
      }
    },
    {
      "cell_type": "code",
      "source": [
        "output_eval_file  = 'distilbert-base-uncased_mrpc/eval_results.txt'\n",
        "\n",
        "with open(output_eval_file, \"w\") as writer:\n",
        "    for i, v in enumerate(list(np.round(eval_history, 4))) :\n",
        "        if i == 0 :\n",
        "            writer.write(\"Test Loss = %f\\t\" %(v))\n",
        "        if i == 1 :\n",
        "            writer.write(\"Test Accuracy = %f\\n\" %(v))\n",
        "\n",
        "!cat distilbert-base-uncased_mrpc/eval_results.txt"
      ],
      "metadata": {
        "colab": {
          "base_uri": "https://localhost:8080/"
        },
        "id": "zNQHQjq6j7z1",
        "outputId": "a01c0971-2a82-4eb2-dd4d-9167d3f299c7"
      },
      "execution_count": 56,
      "outputs": [
        {
          "output_type": "stream",
          "name": "stdout",
          "text": [
            "Test Loss = 0.629000\tTest Accuracy = 0.650400\n"
          ]
        }
      ]
    },
    {
      "cell_type": "markdown",
      "source": [
        "<br/>"
      ],
      "metadata": {
        "id": "p7OR289nPKvt"
      }
    },
    {
      "cell_type": "code",
      "source": [
        "keras_model_test_history = {'Epoch':1,\n",
        "                               'Test Loss': eval_history[0],\n",
        "                               'Test Accuracy': eval_history[1]}\n",
        "\n",
        "keras_model_test_history_df = pd.DataFrame(keras_model_test_history, index=[0])\n",
        "keras_model_test_history_df = keras_model_test_history_df.round(4)\n",
        "keras_model_test_history_df.to_csv(\"distilbert-base-uncased_mrpc/keras_model_test_history.csv\", index = False)\n",
        "display(keras_model_test_history_df)"
      ],
      "metadata": {
        "colab": {
          "base_uri": "https://localhost:8080/",
          "height": 81
        },
        "id": "klPaH_maynsk",
        "outputId": "5572a884-271b-45cd-f65c-3f232dcacbc5"
      },
      "execution_count": 58,
      "outputs": [
        {
          "output_type": "display_data",
          "data": {
            "text/plain": [
              "   Epoch  Test Loss  Test Accuracy\n",
              "0      1      0.629         0.6504"
            ],
            "text/html": [
              "\n",
              "  <div id=\"df-c0f99abe-1f7c-453e-beeb-44c60c4c1704\">\n",
              "    <div class=\"colab-df-container\">\n",
              "      <div>\n",
              "<style scoped>\n",
              "    .dataframe tbody tr th:only-of-type {\n",
              "        vertical-align: middle;\n",
              "    }\n",
              "\n",
              "    .dataframe tbody tr th {\n",
              "        vertical-align: top;\n",
              "    }\n",
              "\n",
              "    .dataframe thead th {\n",
              "        text-align: right;\n",
              "    }\n",
              "</style>\n",
              "<table border=\"1\" class=\"dataframe\">\n",
              "  <thead>\n",
              "    <tr style=\"text-align: right;\">\n",
              "      <th></th>\n",
              "      <th>Epoch</th>\n",
              "      <th>Test Loss</th>\n",
              "      <th>Test Accuracy</th>\n",
              "    </tr>\n",
              "  </thead>\n",
              "  <tbody>\n",
              "    <tr>\n",
              "      <th>0</th>\n",
              "      <td>1</td>\n",
              "      <td>0.629</td>\n",
              "      <td>0.6504</td>\n",
              "    </tr>\n",
              "  </tbody>\n",
              "</table>\n",
              "</div>\n",
              "      <button class=\"colab-df-convert\" onclick=\"convertToInteractive('df-c0f99abe-1f7c-453e-beeb-44c60c4c1704')\"\n",
              "              title=\"Convert this dataframe to an interactive table.\"\n",
              "              style=\"display:none;\">\n",
              "        \n",
              "  <svg xmlns=\"http://www.w3.org/2000/svg\" height=\"24px\"viewBox=\"0 0 24 24\"\n",
              "       width=\"24px\">\n",
              "    <path d=\"M0 0h24v24H0V0z\" fill=\"none\"/>\n",
              "    <path d=\"M18.56 5.44l.94 2.06.94-2.06 2.06-.94-2.06-.94-.94-2.06-.94 2.06-2.06.94zm-11 1L8.5 8.5l.94-2.06 2.06-.94-2.06-.94L8.5 2.5l-.94 2.06-2.06.94zm10 10l.94 2.06.94-2.06 2.06-.94-2.06-.94-.94-2.06-.94 2.06-2.06.94z\"/><path d=\"M17.41 7.96l-1.37-1.37c-.4-.4-.92-.59-1.43-.59-.52 0-1.04.2-1.43.59L10.3 9.45l-7.72 7.72c-.78.78-.78 2.05 0 2.83L4 21.41c.39.39.9.59 1.41.59.51 0 1.02-.2 1.41-.59l7.78-7.78 2.81-2.81c.8-.78.8-2.07 0-2.86zM5.41 20L4 18.59l7.72-7.72 1.47 1.35L5.41 20z\"/>\n",
              "  </svg>\n",
              "      </button>\n",
              "      \n",
              "  <style>\n",
              "    .colab-df-container {\n",
              "      display:flex;\n",
              "      flex-wrap:wrap;\n",
              "      gap: 12px;\n",
              "    }\n",
              "\n",
              "    .colab-df-convert {\n",
              "      background-color: #E8F0FE;\n",
              "      border: none;\n",
              "      border-radius: 50%;\n",
              "      cursor: pointer;\n",
              "      display: none;\n",
              "      fill: #1967D2;\n",
              "      height: 32px;\n",
              "      padding: 0 0 0 0;\n",
              "      width: 32px;\n",
              "    }\n",
              "\n",
              "    .colab-df-convert:hover {\n",
              "      background-color: #E2EBFA;\n",
              "      box-shadow: 0px 1px 2px rgba(60, 64, 67, 0.3), 0px 1px 3px 1px rgba(60, 64, 67, 0.15);\n",
              "      fill: #174EA6;\n",
              "    }\n",
              "\n",
              "    [theme=dark] .colab-df-convert {\n",
              "      background-color: #3B4455;\n",
              "      fill: #D2E3FC;\n",
              "    }\n",
              "\n",
              "    [theme=dark] .colab-df-convert:hover {\n",
              "      background-color: #434B5C;\n",
              "      box-shadow: 0px 1px 3px 1px rgba(0, 0, 0, 0.15);\n",
              "      filter: drop-shadow(0px 1px 2px rgba(0, 0, 0, 0.3));\n",
              "      fill: #FFFFFF;\n",
              "    }\n",
              "  </style>\n",
              "\n",
              "      <script>\n",
              "        const buttonEl =\n",
              "          document.querySelector('#df-c0f99abe-1f7c-453e-beeb-44c60c4c1704 button.colab-df-convert');\n",
              "        buttonEl.style.display =\n",
              "          google.colab.kernel.accessAllowed ? 'block' : 'none';\n",
              "\n",
              "        async function convertToInteractive(key) {\n",
              "          const element = document.querySelector('#df-c0f99abe-1f7c-453e-beeb-44c60c4c1704');\n",
              "          const dataTable =\n",
              "            await google.colab.kernel.invokeFunction('convertToInteractive',\n",
              "                                                     [key], {});\n",
              "          if (!dataTable) return;\n",
              "\n",
              "          const docLinkHtml = 'Like what you see? Visit the ' +\n",
              "            '<a target=\"_blank\" href=https://colab.research.google.com/notebooks/data_table.ipynb>data table notebook</a>'\n",
              "            + ' to learn more about interactive tables.';\n",
              "          element.innerHTML = '';\n",
              "          dataTable['output_type'] = 'display_data';\n",
              "          await google.colab.output.renderOutput(dataTable, element);\n",
              "          const docLink = document.createElement('div');\n",
              "          docLink.innerHTML = docLinkHtml;\n",
              "          element.appendChild(docLink);\n",
              "        }\n",
              "      </script>\n",
              "    </div>\n",
              "  </div>\n",
              "  "
            ]
          },
          "metadata": {}
        }
      ]
    },
    {
      "cell_type": "markdown",
      "source": [
        "<br/>"
      ],
      "metadata": {
        "id": "H0JjiUUFPOM0"
      }
    },
    {
      "cell_type": "markdown",
      "source": [
        "###Huggingface Trainer"
      ],
      "metadata": {
        "id": "YEtMq4t2PQSL"
      }
    },
    {
      "cell_type": "code",
      "source": [
        "#메모리를 비운다.\n",
        "del distilbert_base_uncased_model\n",
        "del train_dataset_batch\n",
        "del validation_dataset_batch\n",
        "del test_dataset_batch"
      ],
      "metadata": {
        "id": "qNGtYvTpN_Wr"
      },
      "execution_count": 59,
      "outputs": []
    },
    {
      "cell_type": "code",
      "source": [
        "pwd"
      ],
      "metadata": {
        "colab": {
          "base_uri": "https://localhost:8080/",
          "height": 35
        },
        "id": "f6rgHgtdn6FM",
        "outputId": "d43373d2-e222-4c96-8e34-7c85c3b0064e"
      },
      "execution_count": 60,
      "outputs": [
        {
          "output_type": "execute_result",
          "data": {
            "text/plain": [
              "'/content/drive/MyDrive/lms/huggingface_glue_task/transfomers_v4.21.1'"
            ],
            "application/vnd.google.colaboratory.intrinsic+json": {
              "type": "string"
            }
          },
          "metadata": {},
          "execution_count": 60
        }
      ]
    },
    {
      "cell_type": "code",
      "source": [
        "from transformers import Trainer, TrainingArguments\n",
        "output_dir = 'distilbert_base_uncased_trainer_mrpc'\n",
        "metric_name = 'accuracy'\n",
        "\n",
        "distilbert_base_uncased_arg = TrainingArguments(\n",
        "    output_dir, # output이 저장될 경로\n",
        "    evaluation_strategy=\"epoch\", #evaluation하는 빈도\n",
        "    learning_rate = 2e-5, #learning_rate\n",
        "    per_device_train_batch_size = 16, # 각 device 당 batch size\n",
        "    per_device_eval_batch_size = 16, # evaluation 시에 batch size\n",
        "    num_train_epochs = 3, # train 시킬 총 epochs\n",
        "    weight_decay = 0.01, # weight decay\n",
        "    optim=\"adamw_torch\", # defaults to 'adamw_hf'\n",
        ")"
      ],
      "metadata": {
        "colab": {
          "base_uri": "https://localhost:8080/"
        },
        "id": "4l47k7oAn2Uk",
        "outputId": "fe94419d-6386-4169-d06e-1150105deec4"
      },
      "execution_count": 69,
      "outputs": [
        {
          "output_type": "stream",
          "name": "stderr",
          "text": [
            "PyTorch: setting up devices\n",
            "The default value for the training argument `--report_to` will change in v5 (from all installed integrations to none). In v5, you will need to use `--report_to all` to get the same behavior as now. You should start updating your code and make this info disappear :-).\n"
          ]
        }
      ]
    },
    {
      "cell_type": "markdown",
      "source": [
        "Trainer를 사용하기 위해서는 TrainingArguments를 통해 학습 관련 설정을 미리 지정한다."
      ],
      "metadata": {
        "id": "H4Nd1k1ePZmu"
      }
    },
    {
      "cell_type": "markdown",
      "source": [
        "FutureWarning: This implementation of AdamW is deprecated and will be removed in a future version.\n",
        "<br/>Use the PyTorch implementation torch.optim.AdamW instead, or set `no_deprecation_warning=True` to disable this warning"
      ],
      "metadata": {
        "id": "SWdJ9QNGPatt"
      }
    },
    {
      "cell_type": "markdown",
      "source": [
        "FutureWarning을 해결하기 위해 TrainingArguments에 optim=\"adamw_torch\"를 지정한다."
      ],
      "metadata": {
        "id": "OoObH4IsPbuI"
      }
    },
    {
      "cell_type": "markdown",
      "source": [
        "<br/>"
      ],
      "metadata": {
        "id": "QV-B-5-cPc-V"
      }
    },
    {
      "cell_type": "code",
      "source": [
        "from datasets import load_metric\n",
        "metric = load_metric('glue', 'mrpc')"
      ],
      "metadata": {
        "id": "Q48q0zQ7PerW"
      },
      "execution_count": null,
      "outputs": []
    },
    {
      "cell_type": "code",
      "source": [
        "def compute_metrics(eval_pred):    \n",
        "    predictions,labels = eval_pred\n",
        "    predictions = np.argmax(predictions, axis=1)\n",
        "    return metric.compute(predictions=predictions, references = labels)"
      ],
      "metadata": {
        "id": "VyyhoyZpPgXA"
      },
      "execution_count": 63,
      "outputs": []
    },
    {
      "cell_type": "markdown",
      "source": [
        "Trainer의 인자로 넘겨주어야 할 것 중에 compute_metrics 메소드가 있다.\n",
        "<br/>task가 classification인지 regression인지에 따라 모델의 출력 형태가 달라지므로\n",
        "<br/>task별로 적합한 출력 형식을 고려해 모델의 성능을 계산하는 방법을 미리 지정한다."
      ],
      "metadata": {
        "id": "aQYLDovuPhkc"
      }
    },
    {
      "cell_type": "code",
      "source": [
        "distilbert_base_uncased_trainer = Trainer(\n",
        "    model=distilbert_base_uncased_model,                           # 학습시킬 model\n",
        "    args=distilbert_base_uncased_arg,                  # TrainingArguments을 통해 설정한 arguments\n",
        "    train_dataset=encoded_dataset['train'],    # training dataset\n",
        "    eval_dataset=encoded_dataset['validation'],       # evaluation dataset\n",
        "    compute_metrics=compute_metrics,\n",
        ")"
      ],
      "metadata": {
        "id": "kRH2eqXtPiwc"
      },
      "execution_count": 70,
      "outputs": []
    },
    {
      "cell_type": "markdown",
      "source": [
        "/usr/local/lib/python3.7/dist-packages/transformers/optimization.py"
      ],
      "metadata": {
        "id": "YmeaPfwmPkwP"
      }
    },
    {
      "cell_type": "markdown",
      "source": [
        ""
      ],
      "metadata": {
        "id": "6eLHJoNJPnwd"
      }
    },
    {
      "cell_type": "code",
      "source": [
        "distilbert_base_uncased_trainer.train()"
      ],
      "metadata": {
        "colab": {
          "base_uri": "https://localhost:8080/",
          "height": 741
        },
        "id": "SFIYoZ1zo-fL",
        "outputId": "99535590-2046-485d-8862-b86a6ab86b99"
      },
      "execution_count": 65,
      "outputs": [
        {
          "output_type": "stream",
          "name": "stderr",
          "text": [
            "The following columns in the training set don't have a corresponding argument in `DistilBertForSequenceClassification.forward` and have been ignored: sentence1, sentence2, idx. If sentence1, sentence2, idx are not expected by `DistilBertForSequenceClassification.forward`,  you can safely ignore this message.\n",
            "***** Running training *****\n",
            "  Num examples = 3668\n",
            "  Num Epochs = 3\n",
            "  Instantaneous batch size per device = 16\n",
            "  Total train batch size (w. parallel, distributed & accumulation) = 16\n",
            "  Gradient Accumulation steps = 1\n",
            "  Total optimization steps = 690\n"
          ]
        },
        {
          "output_type": "display_data",
          "data": {
            "text/plain": [
              "<IPython.core.display.HTML object>"
            ],
            "text/html": [
              "\n",
              "    <div>\n",
              "      \n",
              "      <progress value='690' max='690' style='width:300px; height:20px; vertical-align: middle;'></progress>\n",
              "      [690/690 05:20, Epoch 3/3]\n",
              "    </div>\n",
              "    <table border=\"1\" class=\"dataframe\">\n",
              "  <thead>\n",
              " <tr style=\"text-align: left;\">\n",
              "      <th>Epoch</th>\n",
              "      <th>Training Loss</th>\n",
              "      <th>Validation Loss</th>\n",
              "      <th>Accuracy</th>\n",
              "      <th>F1</th>\n",
              "    </tr>\n",
              "  </thead>\n",
              "  <tbody>\n",
              "    <tr>\n",
              "      <td>1</td>\n",
              "      <td>No log</td>\n",
              "      <td>0.394289</td>\n",
              "      <td>0.808824</td>\n",
              "      <td>0.864111</td>\n",
              "    </tr>\n",
              "    <tr>\n",
              "      <td>2</td>\n",
              "      <td>No log</td>\n",
              "      <td>0.365772</td>\n",
              "      <td>0.852941</td>\n",
              "      <td>0.898305</td>\n",
              "    </tr>\n",
              "    <tr>\n",
              "      <td>3</td>\n",
              "      <td>0.435300</td>\n",
              "      <td>0.402529</td>\n",
              "      <td>0.848039</td>\n",
              "      <td>0.895270</td>\n",
              "    </tr>\n",
              "  </tbody>\n",
              "</table><p>"
            ]
          },
          "metadata": {}
        },
        {
          "output_type": "stream",
          "name": "stderr",
          "text": [
            "The following columns in the evaluation set don't have a corresponding argument in `DistilBertForSequenceClassification.forward` and have been ignored: sentence1, sentence2, idx. If sentence1, sentence2, idx are not expected by `DistilBertForSequenceClassification.forward`,  you can safely ignore this message.\n",
            "***** Running Evaluation *****\n",
            "  Num examples = 408\n",
            "  Batch size = 16\n",
            "The following columns in the evaluation set don't have a corresponding argument in `DistilBertForSequenceClassification.forward` and have been ignored: sentence1, sentence2, idx. If sentence1, sentence2, idx are not expected by `DistilBertForSequenceClassification.forward`,  you can safely ignore this message.\n",
            "***** Running Evaluation *****\n",
            "  Num examples = 408\n",
            "  Batch size = 16\n",
            "Saving model checkpoint to huggingface_trainer_mrpc/checkpoint-500\n",
            "Configuration saved in huggingface_trainer_mrpc/checkpoint-500/config.json\n",
            "Model weights saved in huggingface_trainer_mrpc/checkpoint-500/pytorch_model.bin\n",
            "The following columns in the evaluation set don't have a corresponding argument in `DistilBertForSequenceClassification.forward` and have been ignored: sentence1, sentence2, idx. If sentence1, sentence2, idx are not expected by `DistilBertForSequenceClassification.forward`,  you can safely ignore this message.\n",
            "***** Running Evaluation *****\n",
            "  Num examples = 408\n",
            "  Batch size = 16\n",
            "\n",
            "\n",
            "Training completed. Do not forget to share your model on huggingface.co/models =)\n",
            "\n",
            "\n"
          ]
        },
        {
          "output_type": "execute_result",
          "data": {
            "text/plain": [
              "TrainOutput(global_step=690, training_loss=0.38137107517408286, metrics={'train_runtime': 321.5042, 'train_samples_per_second': 34.227, 'train_steps_per_second': 2.146, 'total_flos': 1457671254810624.0, 'train_loss': 0.38137107517408286, 'epoch': 3.0})"
            ]
          },
          "metadata": {},
          "execution_count": 65
        }
      ]
    },
    {
      "cell_type": "markdown",
      "source": [
        "<br/><br/>"
      ],
      "metadata": {
        "id": "ANUSEDIrPpeN"
      }
    },
    {
      "cell_type": "code",
      "source": [
        "def read_model_result_json(json_path):\n",
        "    with open(json_path, 'r') as f:\n",
        "        json_data = json.load(f)\n",
        "    return json_data"
      ],
      "metadata": {
        "id": "v-OSbZiWPrTl"
      },
      "execution_count": 67,
      "outputs": []
    },
    {
      "cell_type": "code",
      "source": [
        "json_path = 'distilbert_base_uncased_trainer_mrpc/checkpoint-500/trainer_state.json'\n",
        "\n",
        "json_data = read_model_result_json(json_path)\n",
        "huggingface_trainer_history_df = pd.DataFrame.from_dict(json_data['log_history'])\n",
        "huggingface_trainer_history_df = huggingface_trainer_history_df[['epoch', 'eval_loss', 'eval_accuracy']]\n",
        "huggingface_trainer_history_df.columns = ['Epoch', 'Train Loss', 'Accuracy']\n",
        "huggingface_trainer_history_df = huggingface_trainer_history_df.dropna()\n",
        "huggingface_trainer_history_df.loc[2] = [3, 0.435300, 0.848039]\n",
        "huggingface_trainer_history_df.insert(2,'Validation Loss',[0.394289, 0.365772,0.402529],True)\n",
        "huggingface_trainer_history_df.insert(4,'F1 Score',[0.864111, 0.898305, 0.895270],True)\n",
        "huggingface_trainer_history_df = huggingface_trainer_history_df.round(4)\n",
        "huggingface_trainer_history_df = huggingface_trainer_history_df.astype({'Epoch':'int'})\n",
        "\n",
        "huggingface_trainer_history_df.to_csv(\"distilbert_base_uncased_trainer_mrpc/huggingface_trainer_history.csv\", index = False)\n",
        "display(huggingface_trainer_history_df)\n",
        "print(\"\\n\" * 4)\n",
        "\n",
        "plt.figure(figsize=(24, 4))\n",
        "epoch = list(huggingface_trainer_history_df['Epoch'])\n",
        "train_loss = tuple(huggingface_trainer_history_df['Train Loss'])\n",
        "validation_loss = tuple(huggingface_trainer_history_df['Validation Loss'])\n",
        "loss = [train_loss, validation_loss]\n",
        "accuracy = list(huggingface_trainer_history_df['Accuracy'])\n",
        "f1_score = list(huggingface_trainer_history_df['F1 Score'])\n",
        "\n",
        "plt.subplot(1, 3, 1)\n",
        "plt.plot(train_loss, 'b-', label='Train Loss')\n",
        "plt.plot(validation_loss, 'r--', label='Validation Loss')\n",
        "plt.title(\"Loss\")\n",
        "plt.xlabel('Epoch')\n",
        "plt.legend()\n",
        "\n",
        "plt.subplot(1, 3, 2)\n",
        "plt.plot(accuracy, label='Accuracy')\n",
        "plt.title(\"Accuracy\")\n",
        "plt.xlabel('Epoch')\n",
        "plt.legend()\n",
        "\n",
        "plt.subplot(1, 3, 3)\n",
        "plt.plot(f1_score, label='F1 Score')\n",
        "plt.title(\"F1 Score\")\n",
        "plt.xlabel('Epoch')\n",
        "plt.legend()\n",
        "\n",
        "plt.show()"
      ],
      "metadata": {
        "colab": {
          "base_uri": "https://localhost:8080/",
          "height": 513
        },
        "id": "Dbi2z0ev_25u",
        "outputId": "0b3d9f46-1f02-4b83-ae3f-43f9624988a5"
      },
      "execution_count": 78,
      "outputs": [
        {
          "output_type": "display_data",
          "data": {
            "text/plain": [
              "   Epoch  Train Loss  Validation Loss  Accuracy  F1 Score\n",
              "0      1      0.3943           0.3943    0.8088    0.8641\n",
              "1      2      0.3658           0.3658    0.8529    0.8983\n",
              "2      3      0.4353           0.4025    0.8480    0.8953"
            ],
            "text/html": [
              "\n",
              "  <div id=\"df-404c9aef-5abc-40cc-addf-95dacbc0633a\">\n",
              "    <div class=\"colab-df-container\">\n",
              "      <div>\n",
              "<style scoped>\n",
              "    .dataframe tbody tr th:only-of-type {\n",
              "        vertical-align: middle;\n",
              "    }\n",
              "\n",
              "    .dataframe tbody tr th {\n",
              "        vertical-align: top;\n",
              "    }\n",
              "\n",
              "    .dataframe thead th {\n",
              "        text-align: right;\n",
              "    }\n",
              "</style>\n",
              "<table border=\"1\" class=\"dataframe\">\n",
              "  <thead>\n",
              "    <tr style=\"text-align: right;\">\n",
              "      <th></th>\n",
              "      <th>Epoch</th>\n",
              "      <th>Train Loss</th>\n",
              "      <th>Validation Loss</th>\n",
              "      <th>Accuracy</th>\n",
              "      <th>F1 Score</th>\n",
              "    </tr>\n",
              "  </thead>\n",
              "  <tbody>\n",
              "    <tr>\n",
              "      <th>0</th>\n",
              "      <td>1</td>\n",
              "      <td>0.3943</td>\n",
              "      <td>0.3943</td>\n",
              "      <td>0.8088</td>\n",
              "      <td>0.8641</td>\n",
              "    </tr>\n",
              "    <tr>\n",
              "      <th>1</th>\n",
              "      <td>2</td>\n",
              "      <td>0.3658</td>\n",
              "      <td>0.3658</td>\n",
              "      <td>0.8529</td>\n",
              "      <td>0.8983</td>\n",
              "    </tr>\n",
              "    <tr>\n",
              "      <th>2</th>\n",
              "      <td>3</td>\n",
              "      <td>0.4353</td>\n",
              "      <td>0.4025</td>\n",
              "      <td>0.8480</td>\n",
              "      <td>0.8953</td>\n",
              "    </tr>\n",
              "  </tbody>\n",
              "</table>\n",
              "</div>\n",
              "      <button class=\"colab-df-convert\" onclick=\"convertToInteractive('df-404c9aef-5abc-40cc-addf-95dacbc0633a')\"\n",
              "              title=\"Convert this dataframe to an interactive table.\"\n",
              "              style=\"display:none;\">\n",
              "        \n",
              "  <svg xmlns=\"http://www.w3.org/2000/svg\" height=\"24px\"viewBox=\"0 0 24 24\"\n",
              "       width=\"24px\">\n",
              "    <path d=\"M0 0h24v24H0V0z\" fill=\"none\"/>\n",
              "    <path d=\"M18.56 5.44l.94 2.06.94-2.06 2.06-.94-2.06-.94-.94-2.06-.94 2.06-2.06.94zm-11 1L8.5 8.5l.94-2.06 2.06-.94-2.06-.94L8.5 2.5l-.94 2.06-2.06.94zm10 10l.94 2.06.94-2.06 2.06-.94-2.06-.94-.94-2.06-.94 2.06-2.06.94z\"/><path d=\"M17.41 7.96l-1.37-1.37c-.4-.4-.92-.59-1.43-.59-.52 0-1.04.2-1.43.59L10.3 9.45l-7.72 7.72c-.78.78-.78 2.05 0 2.83L4 21.41c.39.39.9.59 1.41.59.51 0 1.02-.2 1.41-.59l7.78-7.78 2.81-2.81c.8-.78.8-2.07 0-2.86zM5.41 20L4 18.59l7.72-7.72 1.47 1.35L5.41 20z\"/>\n",
              "  </svg>\n",
              "      </button>\n",
              "      \n",
              "  <style>\n",
              "    .colab-df-container {\n",
              "      display:flex;\n",
              "      flex-wrap:wrap;\n",
              "      gap: 12px;\n",
              "    }\n",
              "\n",
              "    .colab-df-convert {\n",
              "      background-color: #E8F0FE;\n",
              "      border: none;\n",
              "      border-radius: 50%;\n",
              "      cursor: pointer;\n",
              "      display: none;\n",
              "      fill: #1967D2;\n",
              "      height: 32px;\n",
              "      padding: 0 0 0 0;\n",
              "      width: 32px;\n",
              "    }\n",
              "\n",
              "    .colab-df-convert:hover {\n",
              "      background-color: #E2EBFA;\n",
              "      box-shadow: 0px 1px 2px rgba(60, 64, 67, 0.3), 0px 1px 3px 1px rgba(60, 64, 67, 0.15);\n",
              "      fill: #174EA6;\n",
              "    }\n",
              "\n",
              "    [theme=dark] .colab-df-convert {\n",
              "      background-color: #3B4455;\n",
              "      fill: #D2E3FC;\n",
              "    }\n",
              "\n",
              "    [theme=dark] .colab-df-convert:hover {\n",
              "      background-color: #434B5C;\n",
              "      box-shadow: 0px 1px 3px 1px rgba(0, 0, 0, 0.15);\n",
              "      filter: drop-shadow(0px 1px 2px rgba(0, 0, 0, 0.3));\n",
              "      fill: #FFFFFF;\n",
              "    }\n",
              "  </style>\n",
              "\n",
              "      <script>\n",
              "        const buttonEl =\n",
              "          document.querySelector('#df-404c9aef-5abc-40cc-addf-95dacbc0633a button.colab-df-convert');\n",
              "        buttonEl.style.display =\n",
              "          google.colab.kernel.accessAllowed ? 'block' : 'none';\n",
              "\n",
              "        async function convertToInteractive(key) {\n",
              "          const element = document.querySelector('#df-404c9aef-5abc-40cc-addf-95dacbc0633a');\n",
              "          const dataTable =\n",
              "            await google.colab.kernel.invokeFunction('convertToInteractive',\n",
              "                                                     [key], {});\n",
              "          if (!dataTable) return;\n",
              "\n",
              "          const docLinkHtml = 'Like what you see? Visit the ' +\n",
              "            '<a target=\"_blank\" href=https://colab.research.google.com/notebooks/data_table.ipynb>data table notebook</a>'\n",
              "            + ' to learn more about interactive tables.';\n",
              "          element.innerHTML = '';\n",
              "          dataTable['output_type'] = 'display_data';\n",
              "          await google.colab.output.renderOutput(dataTable, element);\n",
              "          const docLink = document.createElement('div');\n",
              "          docLink.innerHTML = docLinkHtml;\n",
              "          element.appendChild(docLink);\n",
              "        }\n",
              "      </script>\n",
              "    </div>\n",
              "  </div>\n",
              "  "
            ]
          },
          "metadata": {}
        },
        {
          "output_type": "stream",
          "name": "stdout",
          "text": [
            "\n",
            "\n",
            "\n",
            "\n",
            "\n"
          ]
        },
        {
          "output_type": "display_data",
          "data": {
            "text/plain": [
              "<Figure size 1728x288 with 3 Axes>"
            ],
            "image/png": "[encoded data removed]"
          },
          "metadata": {
            "needs_background": "light"
          }
        }
      ]
    },
    {
      "cell_type": "markdown",
      "source": [
        "Trainer에 model, arguments, train_dataset, eval_dataset, compute_metrics를 넣고 train을 진행한다."
      ],
      "metadata": {
        "id": "NmX8wKeDPvtL"
      }
    },
    {
      "cell_type": "markdown",
      "source": [
        "<br/><br/>"
      ],
      "metadata": {
        "id": "KSPR4iEjPvzp"
      }
    },
    {
      "cell_type": "code",
      "source": [
        "eval_history = distilbert_base_uncased_trainer.evaluate(encoded_dataset['test'])"
      ],
      "metadata": {
        "colab": {
          "base_uri": "https://localhost:8080/",
          "height": 131
        },
        "id": "a0f9K5xxpDTF",
        "outputId": "04a4010a-679c-4dda-c4c0-e2c8d3e8bff6"
      },
      "execution_count": 79,
      "outputs": [
        {
          "output_type": "stream",
          "name": "stderr",
          "text": [
            "The following columns in the evaluation set don't have a corresponding argument in `DistilBertForSequenceClassification.forward` and have been ignored: sentence1, sentence2, idx. If sentence1, sentence2, idx are not expected by `DistilBertForSequenceClassification.forward`,  you can safely ignore this message.\n",
            "***** Running Evaluation *****\n",
            "  Num examples = 1725\n",
            "  Batch size = 16\n"
          ]
        },
        {
          "output_type": "display_data",
          "data": {
            "text/plain": [
              "<IPython.core.display.HTML object>"
            ],
            "text/html": [
              "\n",
              "    <div>\n",
              "      \n",
              "      <progress value='216' max='108' style='width:300px; height:20px; vertical-align: middle;'></progress>\n",
              "      [108/108 04:53]\n",
              "    </div>\n",
              "    "
            ]
          },
          "metadata": {}
        }
      ]
    },
    {
      "cell_type": "markdown",
      "source": [
        "<br/>"
      ],
      "metadata": {
        "id": "mQHuGxAlPzW7"
      }
    },
    {
      "cell_type": "code",
      "source": [
        "eval_history"
      ],
      "metadata": {
        "colab": {
          "base_uri": "https://localhost:8080/"
        },
        "id": "w6w5Gw_00e4b",
        "outputId": "87b352dc-1428-4d9f-cf2c-99e0b359c99d"
      },
      "execution_count": 80,
      "outputs": [
        {
          "output_type": "execute_result",
          "data": {
            "text/plain": [
              "{'eval_accuracy': 0.8220289855072463,\n",
              " 'eval_f1': 0.8712788259958071,\n",
              " 'eval_loss': 0.43992510437965393,\n",
              " 'eval_runtime': 16.2043,\n",
              " 'eval_samples_per_second': 106.453,\n",
              " 'eval_steps_per_second': 6.665}"
            ]
          },
          "metadata": {},
          "execution_count": 80
        }
      ]
    },
    {
      "cell_type": "markdown",
      "source": [
        "<br/>"
      ],
      "metadata": {
        "id": "_KqTmhuPSJyQ"
      }
    },
    {
      "cell_type": "code",
      "source": [
        "huggingface_trainer_test_history = {'Epoch': 1,\n",
        "                                    'Test Loss': eval_history['eval_loss'],\n",
        "                                    'Test Accuracy': eval_history['eval_accuracy'],\n",
        "                                    'F1 Score': eval_history['eval_f1']}\n",
        "\n",
        "huggingface_trainer_test_history_df = pd.DataFrame(huggingface_trainer_test_history, index=[0])\n",
        "huggingface_trainer_test_history_df = huggingface_trainer_test_history_df.round(4)\n",
        "huggingface_trainer_test_history_df = huggingface_trainer_test_history_df.astype({'Epoch':'int'})\n",
        "huggingface_trainer_test_history_df.to_csv(\"distilbert_base_uncased_trainer_mrpc/huggingface_trainer_test_history.csv\", index = False)\n",
        "display(huggingface_trainer_test_history_df)"
      ],
      "metadata": {
        "colab": {
          "base_uri": "https://localhost:8080/",
          "height": 81
        },
        "id": "w6ZAdjBG0eXI",
        "outputId": "f7c7dd20-77e2-4a74-ed1f-8b3d715f5c87"
      },
      "execution_count": 81,
      "outputs": [
        {
          "output_type": "display_data",
          "data": {
            "text/plain": [
              "   Epoch  Test Loss  Test Accuracy  F1 Score\n",
              "0      1     0.4399          0.822    0.8713"
            ],
            "text/html": [
              "\n",
              "  <div id=\"df-6e304c3c-f860-492f-84ad-5cd1abba45df\">\n",
              "    <div class=\"colab-df-container\">\n",
              "      <div>\n",
              "<style scoped>\n",
              "    .dataframe tbody tr th:only-of-type {\n",
              "        vertical-align: middle;\n",
              "    }\n",
              "\n",
              "    .dataframe tbody tr th {\n",
              "        vertical-align: top;\n",
              "    }\n",
              "\n",
              "    .dataframe thead th {\n",
              "        text-align: right;\n",
              "    }\n",
              "</style>\n",
              "<table border=\"1\" class=\"dataframe\">\n",
              "  <thead>\n",
              "    <tr style=\"text-align: right;\">\n",
              "      <th></th>\n",
              "      <th>Epoch</th>\n",
              "      <th>Test Loss</th>\n",
              "      <th>Test Accuracy</th>\n",
              "      <th>F1 Score</th>\n",
              "    </tr>\n",
              "  </thead>\n",
              "  <tbody>\n",
              "    <tr>\n",
              "      <th>0</th>\n",
              "      <td>1</td>\n",
              "      <td>0.4399</td>\n",
              "      <td>0.822</td>\n",
              "      <td>0.8713</td>\n",
              "    </tr>\n",
              "  </tbody>\n",
              "</table>\n",
              "</div>\n",
              "      <button class=\"colab-df-convert\" onclick=\"convertToInteractive('df-6e304c3c-f860-492f-84ad-5cd1abba45df')\"\n",
              "              title=\"Convert this dataframe to an interactive table.\"\n",
              "              style=\"display:none;\">\n",
              "        \n",
              "  <svg xmlns=\"http://www.w3.org/2000/svg\" height=\"24px\"viewBox=\"0 0 24 24\"\n",
              "       width=\"24px\">\n",
              "    <path d=\"M0 0h24v24H0V0z\" fill=\"none\"/>\n",
              "    <path d=\"M18.56 5.44l.94 2.06.94-2.06 2.06-.94-2.06-.94-.94-2.06-.94 2.06-2.06.94zm-11 1L8.5 8.5l.94-2.06 2.06-.94-2.06-.94L8.5 2.5l-.94 2.06-2.06.94zm10 10l.94 2.06.94-2.06 2.06-.94-2.06-.94-.94-2.06-.94 2.06-2.06.94z\"/><path d=\"M17.41 7.96l-1.37-1.37c-.4-.4-.92-.59-1.43-.59-.52 0-1.04.2-1.43.59L10.3 9.45l-7.72 7.72c-.78.78-.78 2.05 0 2.83L4 21.41c.39.39.9.59 1.41.59.51 0 1.02-.2 1.41-.59l7.78-7.78 2.81-2.81c.8-.78.8-2.07 0-2.86zM5.41 20L4 18.59l7.72-7.72 1.47 1.35L5.41 20z\"/>\n",
              "  </svg>\n",
              "      </button>\n",
              "      \n",
              "  <style>\n",
              "    .colab-df-container {\n",
              "      display:flex;\n",
              "      flex-wrap:wrap;\n",
              "      gap: 12px;\n",
              "    }\n",
              "\n",
              "    .colab-df-convert {\n",
              "      background-color: #E8F0FE;\n",
              "      border: none;\n",
              "      border-radius: 50%;\n",
              "      cursor: pointer;\n",
              "      display: none;\n",
              "      fill: #1967D2;\n",
              "      height: 32px;\n",
              "      padding: 0 0 0 0;\n",
              "      width: 32px;\n",
              "    }\n",
              "\n",
              "    .colab-df-convert:hover {\n",
              "      background-color: #E2EBFA;\n",
              "      box-shadow: 0px 1px 2px rgba(60, 64, 67, 0.3), 0px 1px 3px 1px rgba(60, 64, 67, 0.15);\n",
              "      fill: #174EA6;\n",
              "    }\n",
              "\n",
              "    [theme=dark] .colab-df-convert {\n",
              "      background-color: #3B4455;\n",
              "      fill: #D2E3FC;\n",
              "    }\n",
              "\n",
              "    [theme=dark] .colab-df-convert:hover {\n",
              "      background-color: #434B5C;\n",
              "      box-shadow: 0px 1px 3px 1px rgba(0, 0, 0, 0.15);\n",
              "      filter: drop-shadow(0px 1px 2px rgba(0, 0, 0, 0.3));\n",
              "      fill: #FFFFFF;\n",
              "    }\n",
              "  </style>\n",
              "\n",
              "      <script>\n",
              "        const buttonEl =\n",
              "          document.querySelector('#df-6e304c3c-f860-492f-84ad-5cd1abba45df button.colab-df-convert');\n",
              "        buttonEl.style.display =\n",
              "          google.colab.kernel.accessAllowed ? 'block' : 'none';\n",
              "\n",
              "        async function convertToInteractive(key) {\n",
              "          const element = document.querySelector('#df-6e304c3c-f860-492f-84ad-5cd1abba45df');\n",
              "          const dataTable =\n",
              "            await google.colab.kernel.invokeFunction('convertToInteractive',\n",
              "                                                     [key], {});\n",
              "          if (!dataTable) return;\n",
              "\n",
              "          const docLinkHtml = 'Like what you see? Visit the ' +\n",
              "            '<a target=\"_blank\" href=https://colab.research.google.com/notebooks/data_table.ipynb>data table notebook</a>'\n",
              "            + ' to learn more about interactive tables.';\n",
              "          element.innerHTML = '';\n",
              "          dataTable['output_type'] = 'display_data';\n",
              "          await google.colab.output.renderOutput(dataTable, element);\n",
              "          const docLink = document.createElement('div');\n",
              "          docLink.innerHTML = docLinkHtml;\n",
              "          element.appendChild(docLink);\n",
              "        }\n",
              "      </script>\n",
              "    </div>\n",
              "  </div>\n",
              "  "
            ]
          },
          "metadata": {}
        }
      ]
    },
    {
      "cell_type": "code",
      "source": [
        "cd .."
      ],
      "metadata": {
        "colab": {
          "base_uri": "https://localhost:8080/"
        },
        "id": "4R_O5_AEQPiX",
        "outputId": "7c0c3157-3107-4784-a3a0-9716fd4517cf"
      },
      "execution_count": 84,
      "outputs": [
        {
          "output_type": "stream",
          "name": "stdout",
          "text": [
            "/content/drive/MyDrive/lms/huggingface_glue_task\n"
          ]
        }
      ]
    },
    {
      "cell_type": "code",
      "source": [
        "pwd"
      ],
      "metadata": {
        "colab": {
          "base_uri": "https://localhost:8080/",
          "height": 35
        },
        "id": "wLRMlYfLQI4j",
        "outputId": "7fffa48f-5eb0-4127-dd69-8d381ee14f19"
      },
      "execution_count": 85,
      "outputs": [
        {
          "output_type": "execute_result",
          "data": {
            "text/plain": [
              "'/content/drive/MyDrive/lms/huggingface_glue_task'"
            ],
            "application/vnd.google.colaboratory.intrinsic+json": {
              "type": "string"
            }
          },
          "metadata": {},
          "execution_count": 85
        }
      ]
    },
    {
      "cell_type": "code",
      "source": [
        "Image(filename='distillbert_base_uncased_gpu.JPG') "
      ],
      "metadata": {
        "colab": {
          "base_uri": "https://localhost:8080/",
          "height": 196
        },
        "id": "2OmlECgPQI7i",
        "outputId": "b6a87573-8929-4ffb-8a61-c3283f68e8b9"
      },
      "execution_count": 91,
      "outputs": [
        {
          "output_type": "execute_result",
          "data": {
            "text/plain": [
              "<IPython.core.display.Image object>"
            ],
            "image/jpeg": "[encoded data removed]"
          },
          "metadata": {},
          "execution_count": 91
        }
      ]
    },
    {
      "cell_type": "markdown",
      "source": [
        "<br/>"
      ],
      "metadata": {
        "id": "ICODqb0gP3vt"
      }
    },
    {
      "cell_type": "markdown",
      "source": [
        "###Model Evaluation"
      ],
      "metadata": {
        "id": "0SwumEL6P5Mm"
      }
    },
    {
      "cell_type": "code",
      "source": [
        "CSS = \"\"\".output {flex-direction: row;}\"\"\"\n",
        "HTML('<style>{}</style>'.format(CSS))\n",
        "\n",
        "print(colored(\"Keras Model Result\", attrs=['bold']))\n",
        "print()\n",
        "display(keras_model_train_history_df)\n",
        "print(\"\\n\" * 2)\n",
        "display(keras_model_test_history_df)\n",
        "print(\"\\n\" * 4)\n",
        "\n",
        "print(colored(\"HuggingFace Trainer Result\", attrs=['bold']))\n",
        "print()\n",
        "display(huggingface_trainer_history_df)\n",
        "print(\"\\n\" * 2)\n",
        "display(huggingface_trainer_test_history_df)"
      ],
      "metadata": {
        "colab": {
          "base_uri": "https://localhost:8080/",
          "height": 673
        },
        "id": "TEuyY7YmMDZ4",
        "outputId": "c426d8ce-b969-4e26-d563-15e6931916f6"
      },
      "execution_count": 82,
      "outputs": [
        {
          "output_type": "stream",
          "name": "stdout",
          "text": [
            "\u001b[1mKeras Model Result\u001b[0m\n",
            "\n"
          ]
        },
        {
          "output_type": "display_data",
          "data": {
            "text/plain": [
              "   Epoch  Train Loss  Validation Loss  Train Accuracy  Validation Accuracy\n",
              "0      1      0.5722           0.4792          0.6940               0.7475\n",
              "1      2      0.4613           0.3821          0.7817               0.8309\n",
              "2      3      0.3659           0.4052          0.8413               0.8162"
            ],
            "text/html": [
              "\n",
              "  <div id=\"df-6a91e1a4-5751-4ee4-8b9c-a5fd3b8eac06\">\n",
              "    <div class=\"colab-df-container\">\n",
              "      <div>\n",
              "<style scoped>\n",
              "    .dataframe tbody tr th:only-of-type {\n",
              "        vertical-align: middle;\n",
              "    }\n",
              "\n",
              "    .dataframe tbody tr th {\n",
              "        vertical-align: top;\n",
              "    }\n",
              "\n",
              "    .dataframe thead th {\n",
              "        text-align: right;\n",
              "    }\n",
              "</style>\n",
              "<table border=\"1\" class=\"dataframe\">\n",
              "  <thead>\n",
              "    <tr style=\"text-align: right;\">\n",
              "      <th></th>\n",
              "      <th>Epoch</th>\n",
              "      <th>Train Loss</th>\n",
              "      <th>Validation Loss</th>\n",
              "      <th>Train Accuracy</th>\n",
              "      <th>Validation Accuracy</th>\n",
              "    </tr>\n",
              "  </thead>\n",
              "  <tbody>\n",
              "    <tr>\n",
              "      <th>0</th>\n",
              "      <td>1</td>\n",
              "      <td>0.5722</td>\n",
              "      <td>0.4792</td>\n",
              "      <td>0.6940</td>\n",
              "      <td>0.7475</td>\n",
              "    </tr>\n",
              "    <tr>\n",
              "      <th>1</th>\n",
              "      <td>2</td>\n",
              "      <td>0.4613</td>\n",
              "      <td>0.3821</td>\n",
              "      <td>0.7817</td>\n",
              "      <td>0.8309</td>\n",
              "    </tr>\n",
              "    <tr>\n",
              "      <th>2</th>\n",
              "      <td>3</td>\n",
              "      <td>0.3659</td>\n",
              "      <td>0.4052</td>\n",
              "      <td>0.8413</td>\n",
              "      <td>0.8162</td>\n",
              "    </tr>\n",
              "  </tbody>\n",
              "</table>\n",
              "</div>\n",
              "      <button class=\"colab-df-convert\" onclick=\"convertToInteractive('df-6a91e1a4-5751-4ee4-8b9c-a5fd3b8eac06')\"\n",
              "              title=\"Convert this dataframe to an interactive table.\"\n",
              "              style=\"display:none;\">\n",
              "        \n",
              "  <svg xmlns=\"http://www.w3.org/2000/svg\" height=\"24px\"viewBox=\"0 0 24 24\"\n",
              "       width=\"24px\">\n",
              "    <path d=\"M0 0h24v24H0V0z\" fill=\"none\"/>\n",
              "    <path d=\"M18.56 5.44l.94 2.06.94-2.06 2.06-.94-2.06-.94-.94-2.06-.94 2.06-2.06.94zm-11 1L8.5 8.5l.94-2.06 2.06-.94-2.06-.94L8.5 2.5l-.94 2.06-2.06.94zm10 10l.94 2.06.94-2.06 2.06-.94-2.06-.94-.94-2.06-.94 2.06-2.06.94z\"/><path d=\"M17.41 7.96l-1.37-1.37c-.4-.4-.92-.59-1.43-.59-.52 0-1.04.2-1.43.59L10.3 9.45l-7.72 7.72c-.78.78-.78 2.05 0 2.83L4 21.41c.39.39.9.59 1.41.59.51 0 1.02-.2 1.41-.59l7.78-7.78 2.81-2.81c.8-.78.8-2.07 0-2.86zM5.41 20L4 18.59l7.72-7.72 1.47 1.35L5.41 20z\"/>\n",
              "  </svg>\n",
              "      </button>\n",
              "      \n",
              "  <style>\n",
              "    .colab-df-container {\n",
              "      display:flex;\n",
              "      flex-wrap:wrap;\n",
              "      gap: 12px;\n",
              "    }\n",
              "\n",
              "    .colab-df-convert {\n",
              "      background-color: #E8F0FE;\n",
              "      border: none;\n",
              "      border-radius: 50%;\n",
              "      cursor: pointer;\n",
              "      display: none;\n",
              "      fill: #1967D2;\n",
              "      height: 32px;\n",
              "      padding: 0 0 0 0;\n",
              "      width: 32px;\n",
              "    }\n",
              "\n",
              "    .colab-df-convert:hover {\n",
              "      background-color: #E2EBFA;\n",
              "      box-shadow: 0px 1px 2px rgba(60, 64, 67, 0.3), 0px 1px 3px 1px rgba(60, 64, 67, 0.15);\n",
              "      fill: #174EA6;\n",
              "    }\n",
              "\n",
              "    [theme=dark] .colab-df-convert {\n",
              "      background-color: #3B4455;\n",
              "      fill: #D2E3FC;\n",
              "    }\n",
              "\n",
              "    [theme=dark] .colab-df-convert:hover {\n",
              "      background-color: #434B5C;\n",
              "      box-shadow: 0px 1px 3px 1px rgba(0, 0, 0, 0.15);\n",
              "      filter: drop-shadow(0px 1px 2px rgba(0, 0, 0, 0.3));\n",
              "      fill: #FFFFFF;\n",
              "    }\n",
              "  </style>\n",
              "\n",
              "      <script>\n",
              "        const buttonEl =\n",
              "          document.querySelector('#df-6a91e1a4-5751-4ee4-8b9c-a5fd3b8eac06 button.colab-df-convert');\n",
              "        buttonEl.style.display =\n",
              "          google.colab.kernel.accessAllowed ? 'block' : 'none';\n",
              "\n",
              "        async function convertToInteractive(key) {\n",
              "          const element = document.querySelector('#df-6a91e1a4-5751-4ee4-8b9c-a5fd3b8eac06');\n",
              "          const dataTable =\n",
              "            await google.colab.kernel.invokeFunction('convertToInteractive',\n",
              "                                                     [key], {});\n",
              "          if (!dataTable) return;\n",
              "\n",
              "          const docLinkHtml = 'Like what you see? Visit the ' +\n",
              "            '<a target=\"_blank\" href=https://colab.research.google.com/notebooks/data_table.ipynb>data table notebook</a>'\n",
              "            + ' to learn more about interactive tables.';\n",
              "          element.innerHTML = '';\n",
              "          dataTable['output_type'] = 'display_data';\n",
              "          await google.colab.output.renderOutput(dataTable, element);\n",
              "          const docLink = document.createElement('div');\n",
              "          docLink.innerHTML = docLinkHtml;\n",
              "          element.appendChild(docLink);\n",
              "        }\n",
              "      </script>\n",
              "    </div>\n",
              "  </div>\n",
              "  "
            ]
          },
          "metadata": {}
        },
        {
          "output_type": "stream",
          "name": "stdout",
          "text": [
            "\n",
            "\n",
            "\n"
          ]
        },
        {
          "output_type": "display_data",
          "data": {
            "text/plain": [
              "   Epoch  Test Loss  Test Accuracy\n",
              "0      1      0.629         0.6504"
            ],
            "text/html": [
              "\n",
              "  <div id=\"df-f18a20ba-2cd0-4272-a06c-91ce3be436dc\">\n",
              "    <div class=\"colab-df-container\">\n",
              "      <div>\n",
              "<style scoped>\n",
              "    .dataframe tbody tr th:only-of-type {\n",
              "        vertical-align: middle;\n",
              "    }\n",
              "\n",
              "    .dataframe tbody tr th {\n",
              "        vertical-align: top;\n",
              "    }\n",
              "\n",
              "    .dataframe thead th {\n",
              "        text-align: right;\n",
              "    }\n",
              "</style>\n",
              "<table border=\"1\" class=\"dataframe\">\n",
              "  <thead>\n",
              "    <tr style=\"text-align: right;\">\n",
              "      <th></th>\n",
              "      <th>Epoch</th>\n",
              "      <th>Test Loss</th>\n",
              "      <th>Test Accuracy</th>\n",
              "    </tr>\n",
              "  </thead>\n",
              "  <tbody>\n",
              "    <tr>\n",
              "      <th>0</th>\n",
              "      <td>1</td>\n",
              "      <td>0.629</td>\n",
              "      <td>0.6504</td>\n",
              "    </tr>\n",
              "  </tbody>\n",
              "</table>\n",
              "</div>\n",
              "      <button class=\"colab-df-convert\" onclick=\"convertToInteractive('df-f18a20ba-2cd0-4272-a06c-91ce3be436dc')\"\n",
              "              title=\"Convert this dataframe to an interactive table.\"\n",
              "              style=\"display:none;\">\n",
              "        \n",
              "  <svg xmlns=\"http://www.w3.org/2000/svg\" height=\"24px\"viewBox=\"0 0 24 24\"\n",
              "       width=\"24px\">\n",
              "    <path d=\"M0 0h24v24H0V0z\" fill=\"none\"/>\n",
              "    <path d=\"M18.56 5.44l.94 2.06.94-2.06 2.06-.94-2.06-.94-.94-2.06-.94 2.06-2.06.94zm-11 1L8.5 8.5l.94-2.06 2.06-.94-2.06-.94L8.5 2.5l-.94 2.06-2.06.94zm10 10l.94 2.06.94-2.06 2.06-.94-2.06-.94-.94-2.06-.94 2.06-2.06.94z\"/><path d=\"M17.41 7.96l-1.37-1.37c-.4-.4-.92-.59-1.43-.59-.52 0-1.04.2-1.43.59L10.3 9.45l-7.72 7.72c-.78.78-.78 2.05 0 2.83L4 21.41c.39.39.9.59 1.41.59.51 0 1.02-.2 1.41-.59l7.78-7.78 2.81-2.81c.8-.78.8-2.07 0-2.86zM5.41 20L4 18.59l7.72-7.72 1.47 1.35L5.41 20z\"/>\n",
              "  </svg>\n",
              "      </button>\n",
              "      \n",
              "  <style>\n",
              "    .colab-df-container {\n",
              "      display:flex;\n",
              "      flex-wrap:wrap;\n",
              "      gap: 12px;\n",
              "    }\n",
              "\n",
              "    .colab-df-convert {\n",
              "      background-color: #E8F0FE;\n",
              "      border: none;\n",
              "      border-radius: 50%;\n",
              "      cursor: pointer;\n",
              "      display: none;\n",
              "      fill: #1967D2;\n",
              "      height: 32px;\n",
              "      padding: 0 0 0 0;\n",
              "      width: 32px;\n",
              "    }\n",
              "\n",
              "    .colab-df-convert:hover {\n",
              "      background-color: #E2EBFA;\n",
              "      box-shadow: 0px 1px 2px rgba(60, 64, 67, 0.3), 0px 1px 3px 1px rgba(60, 64, 67, 0.15);\n",
              "      fill: #174EA6;\n",
              "    }\n",
              "\n",
              "    [theme=dark] .colab-df-convert {\n",
              "      background-color: #3B4455;\n",
              "      fill: #D2E3FC;\n",
              "    }\n",
              "\n",
              "    [theme=dark] .colab-df-convert:hover {\n",
              "      background-color: #434B5C;\n",
              "      box-shadow: 0px 1px 3px 1px rgba(0, 0, 0, 0.15);\n",
              "      filter: drop-shadow(0px 1px 2px rgba(0, 0, 0, 0.3));\n",
              "      fill: #FFFFFF;\n",
              "    }\n",
              "  </style>\n",
              "\n",
              "      <script>\n",
              "        const buttonEl =\n",
              "          document.querySelector('#df-f18a20ba-2cd0-4272-a06c-91ce3be436dc button.colab-df-convert');\n",
              "        buttonEl.style.display =\n",
              "          google.colab.kernel.accessAllowed ? 'block' : 'none';\n",
              "\n",
              "        async function convertToInteractive(key) {\n",
              "          const element = document.querySelector('#df-f18a20ba-2cd0-4272-a06c-91ce3be436dc');\n",
              "          const dataTable =\n",
              "            await google.colab.kernel.invokeFunction('convertToInteractive',\n",
              "                                                     [key], {});\n",
              "          if (!dataTable) return;\n",
              "\n",
              "          const docLinkHtml = 'Like what you see? Visit the ' +\n",
              "            '<a target=\"_blank\" href=https://colab.research.google.com/notebooks/data_table.ipynb>data table notebook</a>'\n",
              "            + ' to learn more about interactive tables.';\n",
              "          element.innerHTML = '';\n",
              "          dataTable['output_type'] = 'display_data';\n",
              "          await google.colab.output.renderOutput(dataTable, element);\n",
              "          const docLink = document.createElement('div');\n",
              "          docLink.innerHTML = docLinkHtml;\n",
              "          element.appendChild(docLink);\n",
              "        }\n",
              "      </script>\n",
              "    </div>\n",
              "  </div>\n",
              "  "
            ]
          },
          "metadata": {}
        },
        {
          "output_type": "stream",
          "name": "stdout",
          "text": [
            "\n",
            "\n",
            "\n",
            "\n",
            "\n",
            "\u001b[1mHuggingFace Trainer Result\u001b[0m\n",
            "\n"
          ]
        },
        {
          "output_type": "display_data",
          "data": {
            "text/plain": [
              "   Epoch  Train Loss  Validation Loss  Accuracy  F1 Score\n",
              "0      1      0.3943           0.3943    0.8088    0.8641\n",
              "1      2      0.3658           0.3658    0.8529    0.8983\n",
              "2      3      0.4353           0.4025    0.8480    0.8953"
            ],
            "text/html": [
              "\n",
              "  <div id=\"df-c6ced7ce-bd0e-46a0-a6f0-b4de990dbe36\">\n",
              "    <div class=\"colab-df-container\">\n",
              "      <div>\n",
              "<style scoped>\n",
              "    .dataframe tbody tr th:only-of-type {\n",
              "        vertical-align: middle;\n",
              "    }\n",
              "\n",
              "    .dataframe tbody tr th {\n",
              "        vertical-align: top;\n",
              "    }\n",
              "\n",
              "    .dataframe thead th {\n",
              "        text-align: right;\n",
              "    }\n",
              "</style>\n",
              "<table border=\"1\" class=\"dataframe\">\n",
              "  <thead>\n",
              "    <tr style=\"text-align: right;\">\n",
              "      <th></th>\n",
              "      <th>Epoch</th>\n",
              "      <th>Train Loss</th>\n",
              "      <th>Validation Loss</th>\n",
              "      <th>Accuracy</th>\n",
              "      <th>F1 Score</th>\n",
              "    </tr>\n",
              "  </thead>\n",
              "  <tbody>\n",
              "    <tr>\n",
              "      <th>0</th>\n",
              "      <td>1</td>\n",
              "      <td>0.3943</td>\n",
              "      <td>0.3943</td>\n",
              "      <td>0.8088</td>\n",
              "      <td>0.8641</td>\n",
              "    </tr>\n",
              "    <tr>\n",
              "      <th>1</th>\n",
              "      <td>2</td>\n",
              "      <td>0.3658</td>\n",
              "      <td>0.3658</td>\n",
              "      <td>0.8529</td>\n",
              "      <td>0.8983</td>\n",
              "    </tr>\n",
              "    <tr>\n",
              "      <th>2</th>\n",
              "      <td>3</td>\n",
              "      <td>0.4353</td>\n",
              "      <td>0.4025</td>\n",
              "      <td>0.8480</td>\n",
              "      <td>0.8953</td>\n",
              "    </tr>\n",
              "  </tbody>\n",
              "</table>\n",
              "</div>\n",
              "      <button class=\"colab-df-convert\" onclick=\"convertToInteractive('df-c6ced7ce-bd0e-46a0-a6f0-b4de990dbe36')\"\n",
              "              title=\"Convert this dataframe to an interactive table.\"\n",
              "              style=\"display:none;\">\n",
              "        \n",
              "  <svg xmlns=\"http://www.w3.org/2000/svg\" height=\"24px\"viewBox=\"0 0 24 24\"\n",
              "       width=\"24px\">\n",
              "    <path d=\"M0 0h24v24H0V0z\" fill=\"none\"/>\n",
              "    <path d=\"M18.56 5.44l.94 2.06.94-2.06 2.06-.94-2.06-.94-.94-2.06-.94 2.06-2.06.94zm-11 1L8.5 8.5l.94-2.06 2.06-.94-2.06-.94L8.5 2.5l-.94 2.06-2.06.94zm10 10l.94 2.06.94-2.06 2.06-.94-2.06-.94-.94-2.06-.94 2.06-2.06.94z\"/><path d=\"M17.41 7.96l-1.37-1.37c-.4-.4-.92-.59-1.43-.59-.52 0-1.04.2-1.43.59L10.3 9.45l-7.72 7.72c-.78.78-.78 2.05 0 2.83L4 21.41c.39.39.9.59 1.41.59.51 0 1.02-.2 1.41-.59l7.78-7.78 2.81-2.81c.8-.78.8-2.07 0-2.86zM5.41 20L4 18.59l7.72-7.72 1.47 1.35L5.41 20z\"/>\n",
              "  </svg>\n",
              "      </button>\n",
              "      \n",
              "  <style>\n",
              "    .colab-df-container {\n",
              "      display:flex;\n",
              "      flex-wrap:wrap;\n",
              "      gap: 12px;\n",
              "    }\n",
              "\n",
              "    .colab-df-convert {\n",
              "      background-color: #E8F0FE;\n",
              "      border: none;\n",
              "      border-radius: 50%;\n",
              "      cursor: pointer;\n",
              "      display: none;\n",
              "      fill: #1967D2;\n",
              "      height: 32px;\n",
              "      padding: 0 0 0 0;\n",
              "      width: 32px;\n",
              "    }\n",
              "\n",
              "    .colab-df-convert:hover {\n",
              "      background-color: #E2EBFA;\n",
              "      box-shadow: 0px 1px 2px rgba(60, 64, 67, 0.3), 0px 1px 3px 1px rgba(60, 64, 67, 0.15);\n",
              "      fill: #174EA6;\n",
              "    }\n",
              "\n",
              "    [theme=dark] .colab-df-convert {\n",
              "      background-color: #3B4455;\n",
              "      fill: #D2E3FC;\n",
              "    }\n",
              "\n",
              "    [theme=dark] .colab-df-convert:hover {\n",
              "      background-color: #434B5C;\n",
              "      box-shadow: 0px 1px 3px 1px rgba(0, 0, 0, 0.15);\n",
              "      filter: drop-shadow(0px 1px 2px rgba(0, 0, 0, 0.3));\n",
              "      fill: #FFFFFF;\n",
              "    }\n",
              "  </style>\n",
              "\n",
              "      <script>\n",
              "        const buttonEl =\n",
              "          document.querySelector('#df-c6ced7ce-bd0e-46a0-a6f0-b4de990dbe36 button.colab-df-convert');\n",
              "        buttonEl.style.display =\n",
              "          google.colab.kernel.accessAllowed ? 'block' : 'none';\n",
              "\n",
              "        async function convertToInteractive(key) {\n",
              "          const element = document.querySelector('#df-c6ced7ce-bd0e-46a0-a6f0-b4de990dbe36');\n",
              "          const dataTable =\n",
              "            await google.colab.kernel.invokeFunction('convertToInteractive',\n",
              "                                                     [key], {});\n",
              "          if (!dataTable) return;\n",
              "\n",
              "          const docLinkHtml = 'Like what you see? Visit the ' +\n",
              "            '<a target=\"_blank\" href=https://colab.research.google.com/notebooks/data_table.ipynb>data table notebook</a>'\n",
              "            + ' to learn more about interactive tables.';\n",
              "          element.innerHTML = '';\n",
              "          dataTable['output_type'] = 'display_data';\n",
              "          await google.colab.output.renderOutput(dataTable, element);\n",
              "          const docLink = document.createElement('div');\n",
              "          docLink.innerHTML = docLinkHtml;\n",
              "          element.appendChild(docLink);\n",
              "        }\n",
              "      </script>\n",
              "    </div>\n",
              "  </div>\n",
              "  "
            ]
          },
          "metadata": {}
        },
        {
          "output_type": "stream",
          "name": "stdout",
          "text": [
            "\n",
            "\n",
            "\n"
          ]
        },
        {
          "output_type": "display_data",
          "data": {
            "text/plain": [
              "   Epoch  Test Loss  Test Accuracy  F1 Score\n",
              "0      1     0.4399          0.822    0.8713"
            ],
            "text/html": [
              "\n",
              "  <div id=\"df-51126fc1-e1f2-44c3-8c19-c439e388964c\">\n",
              "    <div class=\"colab-df-container\">\n",
              "      <div>\n",
              "<style scoped>\n",
              "    .dataframe tbody tr th:only-of-type {\n",
              "        vertical-align: middle;\n",
              "    }\n",
              "\n",
              "    .dataframe tbody tr th {\n",
              "        vertical-align: top;\n",
              "    }\n",
              "\n",
              "    .dataframe thead th {\n",
              "        text-align: right;\n",
              "    }\n",
              "</style>\n",
              "<table border=\"1\" class=\"dataframe\">\n",
              "  <thead>\n",
              "    <tr style=\"text-align: right;\">\n",
              "      <th></th>\n",
              "      <th>Epoch</th>\n",
              "      <th>Test Loss</th>\n",
              "      <th>Test Accuracy</th>\n",
              "      <th>F1 Score</th>\n",
              "    </tr>\n",
              "  </thead>\n",
              "  <tbody>\n",
              "    <tr>\n",
              "      <th>0</th>\n",
              "      <td>1</td>\n",
              "      <td>0.4399</td>\n",
              "      <td>0.822</td>\n",
              "      <td>0.8713</td>\n",
              "    </tr>\n",
              "  </tbody>\n",
              "</table>\n",
              "</div>\n",
              "      <button class=\"colab-df-convert\" onclick=\"convertToInteractive('df-51126fc1-e1f2-44c3-8c19-c439e388964c')\"\n",
              "              title=\"Convert this dataframe to an interactive table.\"\n",
              "              style=\"display:none;\">\n",
              "        \n",
              "  <svg xmlns=\"http://www.w3.org/2000/svg\" height=\"24px\"viewBox=\"0 0 24 24\"\n",
              "       width=\"24px\">\n",
              "    <path d=\"M0 0h24v24H0V0z\" fill=\"none\"/>\n",
              "    <path d=\"M18.56 5.44l.94 2.06.94-2.06 2.06-.94-2.06-.94-.94-2.06-.94 2.06-2.06.94zm-11 1L8.5 8.5l.94-2.06 2.06-.94-2.06-.94L8.5 2.5l-.94 2.06-2.06.94zm10 10l.94 2.06.94-2.06 2.06-.94-2.06-.94-.94-2.06-.94 2.06-2.06.94z\"/><path d=\"M17.41 7.96l-1.37-1.37c-.4-.4-.92-.59-1.43-.59-.52 0-1.04.2-1.43.59L10.3 9.45l-7.72 7.72c-.78.78-.78 2.05 0 2.83L4 21.41c.39.39.9.59 1.41.59.51 0 1.02-.2 1.41-.59l7.78-7.78 2.81-2.81c.8-.78.8-2.07 0-2.86zM5.41 20L4 18.59l7.72-7.72 1.47 1.35L5.41 20z\"/>\n",
              "  </svg>\n",
              "      </button>\n",
              "      \n",
              "  <style>\n",
              "    .colab-df-container {\n",
              "      display:flex;\n",
              "      flex-wrap:wrap;\n",
              "      gap: 12px;\n",
              "    }\n",
              "\n",
              "    .colab-df-convert {\n",
              "      background-color: #E8F0FE;\n",
              "      border: none;\n",
              "      border-radius: 50%;\n",
              "      cursor: pointer;\n",
              "      display: none;\n",
              "      fill: #1967D2;\n",
              "      height: 32px;\n",
              "      padding: 0 0 0 0;\n",
              "      width: 32px;\n",
              "    }\n",
              "\n",
              "    .colab-df-convert:hover {\n",
              "      background-color: #E2EBFA;\n",
              "      box-shadow: 0px 1px 2px rgba(60, 64, 67, 0.3), 0px 1px 3px 1px rgba(60, 64, 67, 0.15);\n",
              "      fill: #174EA6;\n",
              "    }\n",
              "\n",
              "    [theme=dark] .colab-df-convert {\n",
              "      background-color: #3B4455;\n",
              "      fill: #D2E3FC;\n",
              "    }\n",
              "\n",
              "    [theme=dark] .colab-df-convert:hover {\n",
              "      background-color: #434B5C;\n",
              "      box-shadow: 0px 1px 3px 1px rgba(0, 0, 0, 0.15);\n",
              "      filter: drop-shadow(0px 1px 2px rgba(0, 0, 0, 0.3));\n",
              "      fill: #FFFFFF;\n",
              "    }\n",
              "  </style>\n",
              "\n",
              "      <script>\n",
              "        const buttonEl =\n",
              "          document.querySelector('#df-51126fc1-e1f2-44c3-8c19-c439e388964c button.colab-df-convert');\n",
              "        buttonEl.style.display =\n",
              "          google.colab.kernel.accessAllowed ? 'block' : 'none';\n",
              "\n",
              "        async function convertToInteractive(key) {\n",
              "          const element = document.querySelector('#df-51126fc1-e1f2-44c3-8c19-c439e388964c');\n",
              "          const dataTable =\n",
              "            await google.colab.kernel.invokeFunction('convertToInteractive',\n",
              "                                                     [key], {});\n",
              "          if (!dataTable) return;\n",
              "\n",
              "          const docLinkHtml = 'Like what you see? Visit the ' +\n",
              "            '<a target=\"_blank\" href=https://colab.research.google.com/notebooks/data_table.ipynb>data table notebook</a>'\n",
              "            + ' to learn more about interactive tables.';\n",
              "          element.innerHTML = '';\n",
              "          dataTable['output_type'] = 'display_data';\n",
              "          await google.colab.output.renderOutput(dataTable, element);\n",
              "          const docLink = document.createElement('div');\n",
              "          docLink.innerHTML = docLinkHtml;\n",
              "          element.appendChild(docLink);\n",
              "        }\n",
              "      </script>\n",
              "    </div>\n",
              "  </div>\n",
              "  "
            ]
          },
          "metadata": {}
        }
      ]
    },
    {
      "cell_type": "markdown",
      "source": [
        "<br/><br/>"
      ],
      "metadata": {
        "id": "xHyPzECiQA3e"
      }
    },
    {
      "cell_type": "markdown",
      "source": [
        "#Conclusion"
      ],
      "metadata": {
        "id": "XJpEF1oSfKfy"
      }
    },
    {
      "cell_type": "markdown",
      "source": [
        "**Virtual Environment VS Github Contributor**"
      ],
      "metadata": {
        "id": "JpPJJuLDfNWs"
      }
    },
    {
      "cell_type": "markdown",
      "source": [
        "HuggingFace에 등록된 MRPC 모델의 CLI 코드를 실행했다.\n",
        "<br/>bert-base-cased MRPC Finetune\n",
        "<br/>bert-base-uncased MRPC Finetune\n",
        "<br/>bert_uncased_L-12_H-768_A-12 MRPC Finetune"
      ],
      "metadata": {
        "id": "CZ3-zvn0YiSX"
      }
    },
    {
      "cell_type": "markdown",
      "source": [
        "Tensorflow 버전 차이 때문에 AttributeError, TyperError가 발생한다.\n",
        "<br/>py 파일을 여러 번 수정해도 또 다른 에러가 떠서 아예 코드 전체를 바꿔야 하는 디버깅 작업이 요구된다."
      ],
      "metadata": {
        "id": "PfpXXFn2YiVF"
      }
    },
    {
      "cell_type": "markdown",
      "source": [
        "\n",
        "이러한 상황에서 그 작동 코드의 옛날 버전에 맞는 가상환경을 구축하거나\n",
        "<br/>코드 전체를 바꿔서 원작자에게 연락하여 Github Contributor가 되는 문제 해결 방법이 있는 것인가?\n",
        "<br/>개발자는 모델 개발과 배포 프로세스에서 발생한 이슈에 어떻게 대처하는가?"
      ],
      "metadata": {
        "id": "fjoiZvo4ZbTO"
      }
    },
    {
      "cell_type": "markdown",
      "source": [
        ""
      ],
      "metadata": {
        "id": "vweUxVSKe4Kd"
      }
    },
    {
      "cell_type": "markdown",
      "source": [
        "**Distributed Computing VS Mini Model**"
      ],
      "metadata": {
        "id": "6c5_H3o2Zb_-"
      }
    },
    {
      "cell_type": "markdown",
      "source": [
        "[facebook/bart-large](https://huggingface.co/facebook/bart-large)에서 RuntimeError로 인해 batch_size = 1, num_train_epochs=1로 설정했는데도\n",
        "<br/>모델 학습 예상 시간이 106시간이 넘어서 작업을 중지했다."
      ],
      "metadata": {
        "id": "MKjjQLTweJv2"
      }
    },
    {
      "cell_type": "markdown",
      "source": [
        "[google/electra-base-discriminator](https://huggingface.co/google/electra-base-discriminator)에서\n",
        "<br/>RuntimeError로 인해 batch_size = 16, num_train_epochs=3으로 설정했는데도 \n",
        "<br/>모델 학습 예상 시간이 17시간이 넘어서 작업을 중지했다."
      ],
      "metadata": {
        "id": "nv8HP5cid3Cc"
      }
    },
    {
      "cell_type": "markdown",
      "source": [
        "\n",
        "[facebook/bart-large](https://huggingface.co/facebook/bart-large)와 [google/electra-base-discriminator](https://huggingface.co/google/electra-base-discriminator)가 대용량 모델이기 때문에\n",
        "<br/>분산 컴퓨팅을 어떻게 설정해야할지 혹은 소형 모델을 만들어야할지 결정해야 한다."
      ],
      "metadata": {
        "id": "PTCtgWhUeQlu"
      }
    },
    {
      "cell_type": "markdown",
      "source": [
        "<br/>"
      ],
      "metadata": {
        "id": "PuJwUivze52b"
      }
    },
    {
      "cell_type": "markdown",
      "source": [
        "#Reference"
      ],
      "metadata": {
        "id": "D8lAmiCBP8z0"
      }
    },
    {
      "cell_type": "markdown",
      "source": [
        "**LMS**\n",
        "<br/>[mjmingd](https://github.com/mjmingd)\n",
        "\n",
        "<br/>**공식 사이트**\n",
        "<br/>DACON\n",
        "<br/>[뉴스 토픽 분류 AI 경진대회 private 27위 TwoKimBrothers팀 코드공유](https://dacon.io/competitions/official/235747/codeshare/3050)\n",
        "<br/><br/>Korpora\n",
        "<br/>[청와대 국민청원](https://ko-nlp.github.io/Korpora/ko-docs/corpuslist/korean_petitions.html)\n",
        "<br/><br/>파이토치 한국 사용자 모임\n",
        "<br/>[cuda out of memory 오류 해결](https://discuss.pytorch.kr/t/cuda-out-of-memory/55)\n",
        "\n",
        "<br/>**Github**\n",
        "<br/>HuggingFace\n",
        "<br/>[Transformers Release](https://github.com/huggingface/transformers/releases)\n",
        "<br/><br/>sgugger\n",
        "<br/>[# v4.21.1: Patch release](https://github.com/huggingface/transformers/releases/tag/v4.21.1)\n",
        "<br/><br/>Beomi\n",
        "<br/>[2021-03-15-kcbert-mlm-finetune-with-petition-dataset.ipynb](https://gist.github.com/Beomi/972c6442a9c15a22dfd1903d0bb0f577)\n",
        "<br/>[KcBERT MLM Finetune으로 Domain adaptation하기](https://beomi.github.io/2021/03/15/KcBERT-MLM-Finetune/)\n",
        "<br/><br/>ko-nlp\n",
        "<br/>[Korpora: Korean Corpora Archives](https://github.com/ko-nlp/Korpora)\n",
        "<br/><br/>lovit\n",
        "<br/>[청와대 국민청원 데이터 아카이브](https://github.com/lovit/petitions_archive)\n",
        "<br/><br/>jacobdevlin-google\n",
        "<br/>[google-research/bert/Sentence (and sentence-pair) classification tasks](https://github.com/google-research/bert)\n",
        "<br/><br/>W4ngatan\n",
        "<br/>[download_glue_data.py](https://gist.github.com/W4ngatang/60c2bdb54d156a41194446737ce03e2e)\n",
        "<br/><br/>vlasenkoalexe\n",
        "<br/>[download_glue_data.py (fixed script)](https://gist.github.com/vlasenkoalexey/fef1601580f269eca73bf26a198595f3)\n",
        "<br/><br/>birdmw\n",
        "<br/>[AttributeError: module 'tensorflow' has no attribute 'flags' #1754](https://github.com/tensorflow/tensor2tensor/issues/1754)\n",
        "<br/><br/>Gabriel-Molinas\n",
        "<br/>[AttributeError: module 'tensorflow' has no attribute 'app' #34431](https://github.com/tensorflow/tensorflow/issues/34431)\n",
        "<br/><br/>Zhen-Dong\n",
        "<br/>[QBERT/NLP-quantization/Fine-tuning with BERT: examples](https://githubmemory.com/index.php/repo/Zhen-Dong/QBERT)\n",
        "<br/><br/>wmathor\n",
        "<br/>[How to prevent tokenizer from outputting certain information #14285](https://github.com/huggingface/transformers/issues/14285)\n",
        "<br/><br/>ssdorsey \n",
        "<br/>[XLMRobertaTokenizer vocab size #2976](https://github.com/huggingface/transformers/issues/2976)\n",
        "<br/><br/>sgugger\n",
        "<br/>[text_classification.ipynb](https://github.com/huggingface/notebooks/blob/main/examples/text_classification.ipynb)\n",
        "<br/><br/>yeoooo\n",
        "<br/>[(GD9)Hugging_face_yeoooo_2021-05-18.ipynb](https://github.com/yeoooo/Aiffel)\n",
        "<br/><br/>suheeeee\n",
        "<br/>[GD_NLP_6_transformer_chatbot.ipynb](https://github.com/suheeeee/my_deeplearning_project/blob/main/going_deeper/GD_NLP_9_huggingface_custom.ipynb)\n",
        "\n",
        "<br/>**Hugging Face**\n",
        "<br/>[Installation](https://huggingface.co/docs/transformers/installation#installing-from-source%60)\n",
        "<br/>[Transformers Examples](https://huggingface.co/transformers/v2.9.1/examples.html)\n",
        "<br/>[Process](https://huggingface.co/docs/datasets/process)\n",
        "<br/>[beomi/kcbert-base](https://huggingface.co/beomi/kcbert-base)\n",
        "<br/>[bert-base-cased](https://huggingface.co/bert-base-cased)\n",
        "<br/>[bert-base-uncased](https://huggingface.co/bert-base-uncased)\n",
        "<br/>[google/bert_uncased_L-12_H-768_A-12](https://huggingface.co/google/bert_uncased_L-12_H-768_A-12/tree/main)\n",
        "<br/>[facebook/bart-large](https://huggingface.co/facebook/bart-large)\n",
        "<br/>[google/electra-base-discriminator](https://huggingface.co/google/electra-base-discriminator)\n",
        "<br/>[distilbert-base-uncased](https://huggingface.co/distilbert-base-uncased)\n",
        "<br/>[Huggingface transformers longformer optimizer warning AdamW](https://discuss.huggingface.co/t/huggingface-transformers-longformer-optimizer-warning-adamw/14711/3)\n",
        "<br/>[run_glue.py with my own dataset of one-sentence input](https://discuss.huggingface.co/t/run-glue-py-with-my-own-dataset-of-one-sentence-input/3098/6)\n",
        "\n",
        "<br/>**Kaggle**\n",
        "<br/>[huggingface transformer basic usage](https://www.kaggle.com/code/nageshsingh/huggingface-transformer-basic-usage)\n",
        "<br/>[Trainer](https://huggingface.co/docs/transformers/main_classes/trainer)\n",
        "\n",
        "<br/>**웹사이트**\n",
        "<br/>[PYTORCH / HUGGINGFACE CUSTOM DATASET으로 BERT 학습하기 – GPU](https://cryptosalamander.tistory.com/141)\n",
        "<br/>[git 특정 tag clone 하기. git clone -b tag repositor y](https://junho85.pe.kr/433)\n",
        "<br/>[Error in google colab(python) while transliterating data into Indian language](https://stackoverflow.com/questions/73024976/error-in-google-colabpython-while-transliterating-data-into-indian-language)\n",
        "<br/>[Pretty printing newlines inside a string in a Pandas DataFrame](https://stackoverflow.com/questions/34322448/pretty-printing-newlines-inside-a-string-in-a-pandas-dataframe)\n",
        "<br/>[Python: how to slice a dictionary based on the values of its keys?](https://stackoverflow.com/questions/40440373/python-how-to-slice-a-dictionary-based-on-the-values-of-its-keys)\n",
        "<br/>[Error importing BERT: module 'tensorflow._api.v2.train' has no attribute 'Optimizer'](https://stackoverflow.com/questions/61250311/error-importing-bert-module-tensorflow-api-v2-train-has-no-attribute-optimi)\n",
        "<br/>[AttributeError: module 'tensorflow' has no attribute 'logging'](https://systemout.tistory.com/8)\n",
        "<br/>[Wikipedia Apollo program](https://en.wikipedia.org/wiki/Apollo_program)\n",
        "<br/>[How to reorder indexed rows based on a list in Pandas data frame](https://www.google.com/search?q=info.splits&oq=info.splits&aqs=chrome..69i57.395j0j9&sourceid=chrome&ie=UTF-8)\n",
        "<br/>[Print the structure of large nested dictionaries in a compact way without printing all elements](https://stackoverflow.com/questions/39334638/print-the-structure-of-large-nested-dictionaries-in-a-compact-way-without-printi)\n",
        "<br/>[Python Pandas: Convert nested dictionary to dataframe](https://stackoverflow.com/questions/31460234/python-pandas-convert-nested-dictionary-to-datafram)\n",
        "<br/>[TPU를 이용한 BERT GLUE task Train, Evaluation 해보기](https://choice-life.tistory.com/77)\n",
        "<br/>[How to reorder a python ordered dict based on array?](https://stackoverflow.com/questions/18405537/how-to-reorder-a-python-ordered-dict-based-on-array)\n",
        "<br/>[Convert Ordereddict into dataframe in python](https://stackoverflow.com/questions/68797498/convert-ordereddict-into-dataframe-in-python)\n",
        "<br/>[Constructing pandas DataFrame from values in variables gives \"ValueError: If using all scalar values, you must pass an index\"](https://stackoverflow.com/questions/17839973/constructing-pandas-dataframe-from-values-in-variables-gives-valueerror-if-usi)\n",
        "<br/>[matplotlib label doesn't work](https://stackoverflow.com/questions/14657169/matplotlib-label-doesnt-work)\n",
        "<br/>[Huggingface Hub에 모델을 업로드하는 3가지 방법](https://zerolang.tistory.com/65)\n",
        "\n",
        "<br/>**공부**\n",
        "<br/>[HuggingFace 내 토크나이저 종류 살펴보기](https://huffon.github.io/2020/07/05/tokenizers/)\n",
        "<br/>[Huggingface transformer 설계구조 살펴보기](https://velog.io/@taekkim/Hugginface-transformer-%EC%84%A4%EA%B3%84%EA%B5%AC%EC%A1%B0-%EC%82%B4%ED%8E%B4%EB%B3%B4%EA%B8%B0)\n",
        "<br/>[허깅 페이스 BERT 및 ‘가중치 및 편향(W&B)를 통한 문장 분류](https://wandb.ai/wandb_fc/korean/reports/-BERT-W-B---VmlldzozNzAzNzY)\n",
        "<br/>[toeicbert - pytorch-pretrained-BERT 모델을 사용하여 TOEIC (Test of English for International Communication) 해결.](https://www.wenyanet.com/opensource/ko/6053b6057387cd19e3640ca5.html)\n",
        "<br/><br/>Dacon\n",
        "<br/>[Hugging Face를 활용한 Modeling(public: 0.841)](https://dacon.io/competitions/official/235875/codeshare/4520)\n",
        "<br/><br/>ratsgo\n",
        "<br/>[학습 파이프라인 소개](https://ratsgo.github.io/nlpbook/docs/introduction/pipeline/)\n",
        "<br/>[나만의 질의 응답 모델 만들기](https://ratsgo.github.io/nlpbook/docs/qa/detail/)\n",
        "<br/>[나만의 문서 분류 모델 만들기](https://ratsgo.github.io/nlpbook/docs/doc_cls/detail/)\n",
        "<br/>[나만의 개체명 인식 모델 만들기](https://ratsgo.github.io/nlpbook/docs/ner/detail/)\n",
        "<br/>[나만의 문장 쌍 분류 모델 만들기](https://ratsgo.github.io/nlpbook/docs/pair_cls/detail/)\n",
        "<br/>[문장 쌍 분류 모델 학습하기](https://ratsgo.github.io/nlpbook/docs/pair_cls/train/)\n",
        "<br/>[Disaster Tweets : multiple vectorizers and models](https://www.kaggle.com/code/zinebkhanjari/disaster-tweets-multiple-vectorizers-and-models/notebook?scriptVersionId=52721572)"
      ],
      "metadata": {
        "id": "CHp6lFqtc5Fa"
      }
    }
  ]
}