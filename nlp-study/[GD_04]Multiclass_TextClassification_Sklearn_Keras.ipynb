{
  "nbformat": 4,
  "nbformat_minor": 0,
  "metadata": {
    "colab": {
      "name": "[GD_04]Multiclass_TextClassification_Sklearn_Keras.ipynb",
      "provenance": [],
      "collapsed_sections": [],
      "machine_shape": "hm"
    },
    "kernelspec": {
      "name": "python3",
      "display_name": "Python 3"
    },
    "language_info": {
      "name": "python"
    },
    "accelerator": "GPU",
    "gpuClass": "standard"
  },
  "cells": [
    {
      "cell_type": "markdown",
      "source": [
        "##뉴스 카테고리 다중분류"
      ],
      "metadata": {
        "id": "9u9csEidaHls"
      }
    },
    {
      "cell_type": "markdown",
      "source": [
        ""
      ],
      "metadata": {
        "id": "GgSOfV7PaJCk"
      }
    },
    {
      "cell_type": "markdown",
      "source": [
        "개발 환경\n",
        "<br/>데이터 정보"
      ],
      "metadata": {
        "id": "eWzZPgzFaJF7"
      }
    },
    {
      "cell_type": "markdown",
      "source": [
        "데이터 탐색\n",
        "<br/>정수 시퀀스 데이터\n",
        "<br/>텍스트 데이터 복원\n",
        "<br/>TF-IDF Matrix"
      ],
      "metadata": {
        "id": "N-jOROSx74NC"
      }
    },
    {
      "cell_type": "markdown",
      "source": [
        "데이터 전처리"
      ],
      "metadata": {
        "id": "JxWdhI5n78oO"
      }
    },
    {
      "cell_type": "markdown",
      "source": [
        "Multiclass Text Classifier"
      ],
      "metadata": {
        "id": "6-8jYCuWu8tN"
      }
    },
    {
      "cell_type": "markdown",
      "source": [
        "Naive Bayes Classifier&emsp;&emsp;| &ensp;Multinomial Naive Bayes Classifier(MNB), Complement Naive Bayes Classifier(CNB)\n",
        "<br/>Linear Classifier &emsp;&emsp;&emsp;&ensp;&ensp;&nbsp; | &ensp;Logistic Regression, Passive Aggressive Classifier, Ridge Classifier, SGD Classifier\n",
        "<br/>Support Vector Machine &nbsp;&ensp;| &ensp;Linear SVC, Radial Basis Function SVC, Polynomial SVC\n",
        "<br/>Decision Tree &emsp;&emsp;&emsp;&emsp;&emsp;&ensp;| &ensp;Decision Tree Classifier, ExtraTrees Classifier\n",
        "<br/>Ensemble Method &emsp;&emsp;&emsp;&nbsp; | &ensp;Random Forest, AdaBoost Classifier, Gradient Boosting Classifier, XGB Classifier, LGBM Classifier\n",
        "<br/>&emsp;&emsp;&emsp;&emsp;&emsp;&emsp;&emsp;&emsp;&emsp;&emsp;&emsp;&ensp; |&emsp;CatBoost Classifier, Bagging Classifier, Voting Classifier\n",
        "<br/>Nearest Neighbors &emsp;&emsp;&emsp;&nbsp;| &ensp;KNeighbors Classifier\n",
        "<br/>Neural Network Model &emsp;&ensp;| &ensp;MLP Classifier\n",
        "<br/>Dummy Classifier &emsp;&emsp;&emsp;&ensp;&ensp;&nbsp; \n",
        "<br/>Deep Learning &emsp;&emsp;&emsp;&emsp;&emsp; | &ensp;DNN, 1-D CNN"
      ],
      "metadata": {
        "id": "UNpHSn747A6H"
      }
    },
    {
      "cell_type": "markdown",
      "source": [
        "모델 평가\n",
        "<br/>Model Performance\n",
        "<br/>Vocabulary Size"
      ],
      "metadata": {
        "id": "RE3K_dtH8Avc"
      }
    },
    {
      "cell_type": "markdown",
      "source": [
        "결론\n",
        "<br/>참고문헌"
      ],
      "metadata": {
        "id": "wBxC9xwMNvca"
      }
    },
    {
      "cell_type": "markdown",
      "source": [
        ""
      ],
      "metadata": {
        "id": "9XUThDr4aJIT"
      }
    },
    {
      "cell_type": "markdown",
      "source": [
        "##개발 환경"
      ],
      "metadata": {
        "id": "Go3G6vT_aJKs"
      }
    },
    {
      "cell_type": "code",
      "source": [
        "!pip install catboost"
      ],
      "metadata": {
        "id": "p4S_41aMlBiy"
      },
      "execution_count": null,
      "outputs": []
    },
    {
      "cell_type": "code",
      "source": [
        "import math\n",
        "import numpy as np\n",
        "import pandas as pd"
      ],
      "metadata": {
        "id": "tYLak5FhhNHU"
      },
      "execution_count": null,
      "outputs": []
    },
    {
      "cell_type": "code",
      "source": [
        "import warnings\n",
        "warnings.filterwarnings(action='ignore')\n",
        "import seaborn as sns\n",
        "import matplotlib.pyplot as plt\n",
        "%matplotlib inline"
      ],
      "metadata": {
        "id": "99WTBcBLfju9"
      },
      "execution_count": null,
      "outputs": []
    },
    {
      "cell_type": "code",
      "source": [
        "import tensorflow\n",
        "import sklearn"
      ],
      "metadata": {
        "id": "O_LEgXwlgwjK"
      },
      "execution_count": null,
      "outputs": []
    },
    {
      "cell_type": "code",
      "execution_count": null,
      "metadata": {
        "id": "lDjeUTrUZ86w"
      },
      "outputs": [],
      "source": [
        "from sklearn.feature_extraction.text import CountVectorizer\n",
        "from sklearn.feature_extraction.text import TfidfTransformer"
      ]
    },
    {
      "cell_type": "code",
      "source": [
        "from sklearn import metrics\n",
        "from sklearn.metrics import accuracy_score\n",
        "from sklearn.metrics import classification_report\n",
        "from sklearn.metrics import confusion_matrix"
      ],
      "metadata": {
        "id": "X1obXMaEu_U9"
      },
      "execution_count": null,
      "outputs": []
    },
    {
      "cell_type": "code",
      "source": [
        "from sklearn.naive_bayes import MultinomialNB \n",
        "from sklearn.naive_bayes import ComplementNB"
      ],
      "metadata": {
        "id": "BECyQ-hIu6cl"
      },
      "execution_count": null,
      "outputs": []
    },
    {
      "cell_type": "code",
      "source": [
        "from sklearn.linear_model import LogisticRegression\n",
        "from sklearn.linear_model import PassiveAggressiveClassifier\n",
        "from sklearn.linear_model import RidgeClassifier\n",
        "from sklearn.linear_model import SGDClassifier"
      ],
      "metadata": {
        "id": "SH1xL5fTu9Qc"
      },
      "execution_count": null,
      "outputs": []
    },
    {
      "cell_type": "code",
      "source": [
        "from sklearn.svm import SVC\n",
        "from sklearn.svm import LinearSVC"
      ],
      "metadata": {
        "id": "hJ4ZK6xQSOeB"
      },
      "execution_count": null,
      "outputs": []
    },
    {
      "cell_type": "code",
      "source": [
        "from sklearn.tree import DecisionTreeClassifier\n",
        "from sklearn.ensemble import RandomForestClassifier\n",
        "from sklearn.ensemble import ExtraTreesClassifier\n",
        "from sklearn.ensemble import AdaBoostClassifier\n",
        "from sklearn.ensemble import GradientBoostingClassifier\n",
        "from xgboost import XGBClassifier\n",
        "from lightgbm import LGBMClassifier\n",
        "from catboost import CatBoostClassifier\n",
        "from sklearn.ensemble import BaggingClassifier\n",
        "from sklearn.ensemble import VotingClassifier"
      ],
      "metadata": {
        "id": "hBBxETyHx4Na"
      },
      "execution_count": null,
      "outputs": []
    },
    {
      "cell_type": "code",
      "source": [
        "from sklearn.neighbors import KNeighborsClassifier\n",
        "from sklearn.neural_network import MLPClassifier\n",
        "from sklearn.dummy import DummyClassifier"
      ],
      "metadata": {
        "id": "GgiBiRNzfVxK"
      },
      "execution_count": null,
      "outputs": []
    },
    {
      "cell_type": "code",
      "source": [
        "from tensorflow import keras\n",
        "from tensorflow.keras import layers\n",
        "from tensorflow.keras.models import Sequential\n",
        "from tensorflow.keras.layers import Dense, Dropout, Activation\n",
        "from tensorflow.keras.utils import to_categorical"
      ],
      "metadata": {
        "id": "MrGfPivKnh5B"
      },
      "execution_count": null,
      "outputs": []
    },
    {
      "cell_type": "code",
      "source": [
        "from keras.models import Sequential\n",
        "from keras.layers import Dense, Embedding, Dropout\n",
        "from keras.layers import Conv1D, GlobalMaxPooling1D\n",
        "from keras.preprocessing import sequence\n",
        "from keras.utils import np_utils"
      ],
      "metadata": {
        "id": "dFzyhHOESGma"
      },
      "execution_count": null,
      "outputs": []
    },
    {
      "cell_type": "code",
      "source": [
        "from google.colab import drive\n",
        "drive.mount('/content/drive')"
      ],
      "metadata": {
        "id": "KLEdu2use4u0"
      },
      "execution_count": null,
      "outputs": []
    },
    {
      "cell_type": "code",
      "source": [
        "pip freeze > '/content/drive/MyDrive/lms/library_version.txt'"
      ],
      "metadata": {
        "id": "wO10c8RYe3MU"
      },
      "execution_count": null,
      "outputs": []
    },
    {
      "cell_type": "code",
      "source": [
        "library_name = ['tensorflow=', 'pandas=', 'numpy=', 'matplotlib=', \n",
        "                'scikit-learn=', 'seaborn=', 'keras=', \n",
        "                'xgboost', 'lightgbm', 'catboost']\n",
        "library_version = []\n",
        "count = 0\n",
        "\n",
        "import sys\n",
        "print(sys.version)\n",
        "print()\n",
        "\n",
        "with open('/content/drive/MyDrive/lms/library_version.txt', 'r') as f:\n",
        "    lines = f.read().splitlines() \n",
        "\n",
        "for i in range(len(lines)):\n",
        "  for line in lines[i:i+1]:\n",
        "    for library in library_name:\n",
        "      if library in line:\n",
        "        library_version.append(line)\n",
        "        count += 1\n",
        "        print(line, end = '    ')\n",
        "        if count % 3 == 0:\n",
        "          print()"
      ],
      "metadata": {
        "colab": {
          "base_uri": "https://localhost:8080/"
        },
        "id": "V2yK85BHaMIH",
        "outputId": "c31526c5-b38d-4586-a951-97f2d155ac4a"
      },
      "execution_count": null,
      "outputs": [
        {
          "output_type": "stream",
          "name": "stdout",
          "text": [
            "3.7.13 (default, Apr 24 2022, 01:04:09) \n",
            "[GCC 7.5.0]\n",
            "\n",
            "catboost==1.0.6      keras==2.8.0      lightgbm==2.2.3     \n",
            "matplotlib==3.2.2      numpy==1.21.6      pandas==1.3.5     \n",
            "scikit-learn==1.0.2      seaborn==0.11.2      sklearn-pandas==1.8.0     \n",
            "tensorflow==2.8.2+zzzcolab20220527125636      xgboost==0.90     \n"
          ]
        }
      ]
    },
    {
      "cell_type": "code",
      "source": [
        "gpu_info = !nvidia-smi\n",
        "gpu_info = '\\n'.join(gpu_info)\n",
        "if gpu_info.find('failed') >= 0:\n",
        "  print('Not connected to a GPU')\n",
        "else:\n",
        "  print(gpu_info)"
      ],
      "metadata": {
        "id": "WrYXLUMmaMKT"
      },
      "execution_count": null,
      "outputs": []
    },
    {
      "cell_type": "code",
      "source": [
        "from psutil import virtual_memory\n",
        "ram_gb = virtual_memory().total / 1e9\n",
        "print('Your runtime has {:.1f} gigabytes of available RAM\\n'.format(ram_gb))\n",
        "\n",
        "if ram_gb < 20:\n",
        "  print('Not using a high-RAM runtime')\n",
        "else:\n",
        "  print('You are using a high-RAM runtime!')"
      ],
      "metadata": {
        "id": "wBhzHvJWaMMr"
      },
      "execution_count": null,
      "outputs": []
    },
    {
      "cell_type": "code",
      "source": [
        "%tensorflow_version 2.x\n",
        "import tensorflow as tf\n",
        "device_name = tf.test.gpu_device_name()\n",
        "if device_name != '/device:GPU:0':\n",
        "  raise SystemError('GPU device not found')\n",
        "print('Found GPU at: {}'.format(device_name))"
      ],
      "metadata": {
        "id": "8VCcLR6u2GMy"
      },
      "execution_count": null,
      "outputs": []
    },
    {
      "cell_type": "markdown",
      "source": [
        "Google Colab에서 할당된 GPU를 확인한다.\n",
        "<br/>고용량 메모리 VM에 액세스한다."
      ],
      "metadata": {
        "id": "PQlMJhBVfB59"
      }
    },
    {
      "cell_type": "markdown",
      "source": [
        "#데이터 정보"
      ],
      "metadata": {
        "id": "vpjCezgVfJ-U"
      }
    },
    {
      "cell_type": "markdown",
      "source": [
        "[Reuters-21578 Text Categorization Collection](https://kdd.ics.uci.edu/databases/reuters21578/reuters21578.html)"
      ],
      "metadata": {
        "id": "3hcRSUKTfNoc"
      }
    },
    {
      "cell_type": "markdown",
      "source": [
        "로이터 뉴스 데이터는 총 46개의 클래스로 구성된다.\n",
        "<br/>해당 뉴스가 어느 카테고리에 속하는지를 예측하기 위한 데이터이다."
      ],
      "metadata": {
        "id": "5aZw2S5ifOLT"
      }
    },
    {
      "cell_type": "markdown",
      "source": [
        "David D. Lewis 교수의 AT&T Labs에서 통신사 Reuters의 텍스트 데이터를 수집한 데이터이다.\n",
        "<br/>Reuters는 영국의 발전과 해저전선망 부설로 20세기 초에는 세계 최대의 통신사로 성장했으나\n",
        "<br/>현재는 영국 국내 통신사 PA의 소유로 넘어가 비영리업체로 운영되고 있다.\n",
        "<br/>Reuters는 경제뉴스 판매 수익이 전체의 80% 이상일 정도로 경제 뉴스에 초점을 둔다."
      ],
      "metadata": {
        "id": "R3QValzJxtZH"
      }
    },
    {
      "cell_type": "markdown",
      "source": [
        "통신사는 독자적인 취재조직을 가지고 신문사와 방송국 및 기타 보도 기관을 대신해 뉴스와 기사 자료를 수집·배포하는 기구를 말한다.\n",
        "<br/>"
      ],
      "metadata": {
        "id": "PcbInJGQxmTE"
      }
    },
    {
      "cell_type": "markdown",
      "source": [
        "#데이터 탐색"
      ],
      "metadata": {
        "id": "57AgJesmfUTL"
      }
    },
    {
      "cell_type": "markdown",
      "source": [
        "##정수 시퀀스 데이터"
      ],
      "metadata": {
        "id": "akw987GE4CLK"
      }
    },
    {
      "cell_type": "code",
      "source": [
        "from tensorflow.keras.datasets import reuters"
      ],
      "metadata": {
        "id": "mG0VGQbY17RX"
      },
      "execution_count": null,
      "outputs": []
    },
    {
      "cell_type": "code",
      "source": [
        "(x_train, y_train), (x_test, y_test) = reuters.load_data(num_words=10000, test_split=0.2)"
      ],
      "metadata": {
        "id": "ABd0fJE9fFN8"
      },
      "execution_count": null,
      "outputs": []
    },
    {
      "cell_type": "code",
      "source": [
        "print('Train Data : {}'.format(len(x_train)))\n",
        "print('Test Data : {}'.format(len(x_test)))"
      ],
      "metadata": {
        "colab": {
          "base_uri": "https://localhost:8080/"
        },
        "id": "ZePs12SW17ho",
        "outputId": "a4b51613-3b7a-4912-b9c8-4020b3cd3da7"
      },
      "execution_count": null,
      "outputs": [
        {
          "output_type": "stream",
          "name": "stdout",
          "text": [
            "Train Data : 8982\n",
            "Test Data : 2246\n"
          ]
        }
      ]
    },
    {
      "cell_type": "markdown",
      "source": [
        "keras 라이브러리에서 로이터 뉴스 데이터를 제공한다.\n",
        "<br/>num_words는 데이터에서 빈도수 기준으로 상위 10000번째 단어까지 사용하는 것으로 설정한다.\n",
        "<br/>정수 번호가 10,000이 넘는 단어들을 자동으로 unk 토큰으로 처리한다.\n",
        "<br/>unk은 정수 2번을 가지도록 약속돼 있으므로 정수 2로 변환된다."
      ],
      "metadata": {
        "id": "BTse4X_YynVf"
      }
    },
    {
      "cell_type": "code",
      "source": [
        "print('Number Sequence')\n",
        "print(x_train[0])\n",
        "print(x_test[0])\n",
        "\n",
        "print()\n",
        "print('Label')\n",
        "print(y_train[0])\n",
        "print(y_test[0])\n",
        "\n",
        "print()\n",
        "num_classes = max(y_train) + 1\n",
        "print('Class : {}'.format(num_classes))"
      ],
      "metadata": {
        "colab": {
          "base_uri": "https://localhost:8080/"
        },
        "id": "IONs2bCDzmKR",
        "outputId": "e2e81dc6-ea57-4dcc-cc89-f239c600a7ad"
      },
      "execution_count": null,
      "outputs": [
        {
          "output_type": "stream",
          "name": "stdout",
          "text": [
            "Number Sequence\n",
            "[1, 2, 2, 8, 43, 10, 447, 5, 25, 207, 270, 5, 3095, 111, 16, 369, 186, 90, 67, 7, 89, 5, 19, 102, 6, 19, 124, 15, 90, 67, 84, 22, 482, 26, 7, 48, 4, 49, 8, 864, 39, 209, 154, 6, 151, 6, 83, 11, 15, 22, 155, 11, 15, 7, 48, 9, 4579, 1005, 504, 6, 258, 6, 272, 11, 15, 22, 134, 44, 11, 15, 16, 8, 197, 1245, 90, 67, 52, 29, 209, 30, 32, 132, 6, 109, 15, 17, 12]\n",
            "[1, 4, 1378, 2025, 9, 697, 4622, 111, 8, 25, 109, 29, 3650, 11, 150, 244, 364, 33, 30, 30, 1398, 333, 6, 2, 159, 9, 1084, 363, 13, 2, 71, 9, 2, 71, 117, 4, 225, 78, 206, 10, 9, 1214, 8, 4, 270, 5, 2, 7, 748, 48, 9, 2, 7, 207, 1451, 966, 1864, 793, 97, 133, 336, 7, 4, 493, 98, 273, 104, 284, 25, 39, 338, 22, 905, 220, 3465, 644, 59, 20, 6, 119, 61, 11, 15, 58, 579, 26, 10, 67, 7, 4, 738, 98, 43, 88, 333, 722, 12, 20, 6, 19, 746, 35, 15, 10, 9, 1214, 855, 129, 783, 21, 4, 2280, 244, 364, 51, 16, 299, 452, 16, 515, 4, 99, 29, 5, 4, 364, 281, 48, 10, 9, 1214, 23, 644, 47, 20, 324, 27, 56, 2, 2, 5, 192, 510, 17, 12]\n",
            "\n",
            "Label\n",
            "3\n",
            "3\n",
            "\n",
            "Class : 46\n"
          ]
        }
      ]
    },
    {
      "cell_type": "markdown",
      "source": [
        "첫 번째 훈련용 뉴스와 시험용 뉴스의 정수 시퀀스, 레이블을 출력한다.\n",
        "<br/>그리고 뉴스 데이터의 클래스를 출력한다.\n",
        "<br/>케라스 데이터셋에서는 이미 텍스트에서 숫자로 전처리한 데이터를 제공한다."
      ],
      "metadata": {
        "id": "1oFqV32Pzs2Y"
      }
    },
    {
      "cell_type": "code",
      "source": [
        "print('뉴스의 최소 길이 : {}'.format(min(len(l) for l in x_train)))\n",
        "print('뉴스의 최대 길이 : {}'.format(max(len(l) for l in x_train)))\n",
        "print('뉴스의 평균 길이 : {}'.format(sum(map(len, x_train))/len(x_train)))\n",
        "\n",
        "sentence_length = []\n",
        "\n",
        "for l in x_train:\n",
        "   sentence_length.append(len(l))\n",
        "\n",
        "print()\n",
        "plt.boxplot(sentence_length)\n",
        "plt.title(\"News Length Boxplot\")\n",
        "plt.show()\n",
        "\n",
        "print()\n",
        "plt.hist([len(s) for s in x_train], bins=50)\n",
        "plt.title(\"News Length Distribution\")\n",
        "plt.xlabel('length of samples')\n",
        "plt.ylabel('number of samples')\n",
        "plt.show()"
      ],
      "metadata": {
        "colab": {
          "base_uri": "https://localhost:8080/",
          "height": 651
        },
        "id": "c-wgxw4AmQgc",
        "outputId": "b9eebc79-0fe1-464f-9f69-4090d9b0cdf7"
      },
      "execution_count": null,
      "outputs": [
        {
          "output_type": "stream",
          "name": "stdout",
          "text": [
            "뉴스의 최소 길이 : 13\n",
            "뉴스의 최대 길이 : 2376\n",
            "뉴스의 평균 길이 : 145.5398574927633\n",
            "\n"
          ]
        },
        {
          "output_type": "display_data",
          "data": {
            "text/plain": [
              "<Figure size 432x288 with 1 Axes>"
            ],
            "image/png": "[encoded data removed]"
          },
          "metadata": {
            "needs_background": "light"
          }
        },
        {
          "output_type": "stream",
          "name": "stdout",
          "text": [
            "\n"
          ]
        },
        {
          "output_type": "display_data",
          "data": {
            "text/plain": [
              "<Figure size 432x288 with 1 Axes>"
            ],
            "image/png": "[encoded data removed]"
          },
          "metadata": {
            "needs_background": "light"
          }
        }
      ]
    },
    {
      "cell_type": "code",
      "source": [
        "unique_elements, counts_elements = np.unique(y_train, return_counts=True)\n",
        "print(\"News Class Frequency\")\n",
        "print(\"Index\")\n",
        "print(np.asarray(unique_elements))\n",
        "print(\"Frequency\")\n",
        "print(np.asarray(counts_elements))\n",
        "print()\n",
        "print()\n",
        "\n",
        "fig, axe = plt.subplots(ncols=1)\n",
        "fig.set_size_inches(11,5)\n",
        "sns.countplot(x=y_train)\n",
        "plt.title(\"News Class Distribution\")\n",
        "plt.xlabel('Class')\n",
        "plt.ylabel('Count')\n",
        "plt.show()"
      ],
      "metadata": {
        "colab": {
          "base_uri": "https://localhost:8080/",
          "height": 552
        },
        "id": "Pr3vGp5d5euA",
        "outputId": "731d672e-2782-4c4e-9785-85657a18a0a2"
      },
      "execution_count": null,
      "outputs": [
        {
          "output_type": "stream",
          "name": "stdout",
          "text": [
            "News Class Frequency\n",
            "Index\n",
            "[ 0  1  2  3  4  5  6  7  8  9 10 11 12 13 14 15 16 17 18 19 20 21 22 23\n",
            " 24 25 26 27 28 29 30 31 32 33 34 35 36 37 38 39 40 41 42 43 44 45]\n",
            "Frequency\n",
            "[  55  432   74 3159 1949   17   48   16  139  101  124  390   49  172\n",
            "   26   20  444   39   66  549  269  100   15   41   62   92   24   15\n",
            "   48   19   45   39   32   11   50   10   49   19   19   24   36   30\n",
            "   13   21   12   18]\n",
            "\n",
            "\n"
          ]
        },
        {
          "output_type": "display_data",
          "data": {
            "text/plain": [
              "<Figure size 792x360 with 1 Axes>"
            ],
            "image/png": "[encoded data removed]"
          },
          "metadata": {
            "needs_background": "light"
          }
        }
      ]
    },
    {
      "cell_type": "markdown",
      "source": [
        "뉴스 데이터는 3번, 4번 클래스가 대부분을 차지한다.\n",
        "<br/> 그 뒤로는 19번, 16번, 1번, 11번 등이 높은 분포를 가지고 있다."
      ],
      "metadata": {
        "id": "A-dWH6aw6jA5"
      }
    },
    {
      "cell_type": "markdown",
      "source": [
        "##텍스트 데이터 복원"
      ],
      "metadata": {
        "id": "H8VDgrupa7tK"
      }
    },
    {
      "cell_type": "markdown",
      "source": [
        "정수 시퀀스로 변환된 데이터를 다시 텍스트로 복원한다."
      ],
      "metadata": {
        "id": "YZc1rHNuMyG6"
      }
    },
    {
      "cell_type": "code",
      "source": [
        "word_index = reuters.get_word_index(path=\"reuters_word_index.json\")"
      ],
      "metadata": {
        "id": "AfpDjX_-Mhlb"
      },
      "execution_count": null,
      "outputs": []
    },
    {
      "cell_type": "code",
      "source": [
        "sentence = \"Where shall we eat tonight\"\n",
        "\n",
        "for I in sentence.split():\n",
        "  i = I.lower()\n",
        "  print(i, ':', word_index[i])"
      ],
      "metadata": {
        "colab": {
          "base_uri": "https://localhost:8080/"
        },
        "id": "_SaksmJwNlEr",
        "outputId": "524ded33-bffe-42af-e4ac-b09a73c1a066"
      },
      "execution_count": null,
      "outputs": [
        {
          "output_type": "stream",
          "name": "stdout",
          "text": [
            "where : 693\n",
            "shall : 5829\n",
            "we : 112\n",
            "eat : 10631\n",
            "tonight : 2896\n"
          ]
        }
      ]
    },
    {
      "cell_type": "markdown",
      "source": [
        " 로이터 뉴스 데이터는 단어를 key값으로, 고유한 정수를 value로 가지는 dictionary를 제공한다.\n",
        " <br/>dictionary 유형의 word_index를 저장한다."
      ],
      "metadata": {
        "id": "JJlJJJfbM39R"
      }
    },
    {
      "cell_type": "code",
      "source": [
        "index_to_word = { index + 3 : word for word, index in word_index.items() }"
      ],
      "metadata": {
        "id": "OpaXGx10NsYk"
      },
      "execution_count": null,
      "outputs": []
    },
    {
      "cell_type": "code",
      "source": [
        "for I in sentence.split():\n",
        "  i = I.lower()\n",
        "  print(word_index[i] + 3, ':', index_to_word[ word_index[i] + 3 ])"
      ],
      "metadata": {
        "colab": {
          "base_uri": "https://localhost:8080/"
        },
        "id": "g6EdoSmhQkNi",
        "outputId": "887f2d72-3e47-45e3-baba-b76a7accf81c"
      },
      "execution_count": null,
      "outputs": [
        {
          "output_type": "stream",
          "name": "stdout",
          "text": [
            "696 : where\n",
            "5832 : shall\n",
            "115 : we\n",
            "10634 : eat\n",
            "2899 : tonight\n"
          ]
        }
      ]
    },
    {
      "cell_type": "markdown",
      "source": [
        "로이터 뉴스 데이터가 정의한 일종의 약속이 있다.\n",
        "<br/>reuters.get_word_index에는 실제 단어에 맵핑 한 정수에 -3을 한 정수를 입력해 놓은 것이다.\n",
        "<br/>그러므로 word_index에서 index_word를 만들 때, 각 정수에 +3을 한다."
      ],
      "metadata": {
        "id": "_zcadgVXR4Lt"
      }
    },
    {
      "cell_type": "code",
      "source": [
        "for index, token in enumerate((\"<pad>\", \"<sos>\", \"<unk>\")):\n",
        "  index_to_word[index] = token"
      ],
      "metadata": {
        "id": "rUGKekSxSJnf"
      },
      "execution_count": null,
      "outputs": []
    },
    {
      "cell_type": "markdown",
      "source": [
        "토큰 pad, sos, unk의 mapping 번호는 0, 1, 2이다."
      ],
      "metadata": {
        "id": "L5kLLSwVRbGb"
      }
    },
    {
      "cell_type": "code",
      "source": [
        "print(' '.join([index_to_word[index] for index in x_train[0]]))"
      ],
      "metadata": {
        "colab": {
          "base_uri": "https://localhost:8080/"
        },
        "id": "wTiXVnRUY58x",
        "outputId": "bdb76160-afff-412c-afd3-d03a194066c8"
      },
      "execution_count": null,
      "outputs": [
        {
          "output_type": "stream",
          "name": "stdout",
          "text": [
            "<sos> <unk> <unk> said as a result of its december acquisition of space co it expects earnings per share in 1987 of 1 15 to 1 30 dlrs per share up from 70 cts in 1986 the company said pretax net should rise to nine to 10 mln dlrs from six mln dlrs in 1986 and rental operation revenues to 19 to 22 mln dlrs from 12 5 mln dlrs it said cash flow per share this year should be 2 50 to three dlrs reuter 3\n"
          ]
        }
      ]
    },
    {
      "cell_type": "code",
      "source": [
        "print(' '.join([index_to_word[index] for index in [4, 587, 23, 133, 6, 30, 515]]))"
      ],
      "metadata": {
        "colab": {
          "base_uri": "https://localhost:8080/"
        },
        "id": "Vdo7i2VPZWYP",
        "outputId": "b39ff16a-49f1-4d96-88e0-5a96fc7f771f"
      },
      "execution_count": null,
      "outputs": [
        {
          "output_type": "stream",
          "name": "stdout",
          "text": [
            "the transaction is expected to be completed\n"
          ]
        }
      ]
    },
    {
      "cell_type": "markdown",
      "source": [
        "첫 번째 훈련용 뉴스 기사를 텍스트로 복원한다."
      ],
      "metadata": {
        "id": "P03-lSFASZHD"
      }
    },
    {
      "cell_type": "code",
      "source": [
        "decoded = []\n",
        "for i in range(len(x_train)):\n",
        "    t = ' '.join([index_to_word[index] for index in x_train[i]])\n",
        "    decoded.append(t)\n",
        "\n",
        "x_train = decoded\n",
        "print('Train Data : ', len(x_train))\n",
        "\n",
        "decoded = []\n",
        "for i in range(len(x_test)):\n",
        "    t = ' '.join([index_to_word[index] for index in x_test[i]])\n",
        "    decoded.append(t)\n",
        "\n",
        "x_test = decoded\n",
        "print('Test Data : ', len(x_test))"
      ],
      "metadata": {
        "colab": {
          "base_uri": "https://localhost:8080/"
        },
        "id": "PEDC-HUxZrV6",
        "outputId": "7c0538ce-c1dd-4e0c-ccb5-a07a93553440"
      },
      "execution_count": null,
      "outputs": [
        {
          "output_type": "stream",
          "name": "stdout",
          "text": [
            "Train Data :  8982\n",
            "Test Data :  2246\n"
          ]
        }
      ]
    },
    {
      "cell_type": "markdown",
      "source": [
        "전체 훈련용 뉴스 데이터와 전체 시험용 뉴스 데이터를 텍스트 데이터로 변환한다."
      ],
      "metadata": {
        "id": "-n5MRF3FZvHp"
      }
    },
    {
      "cell_type": "code",
      "source": [
        "print(x_train[0])\n",
        "print()\n",
        "print(x_test[0])"
      ],
      "metadata": {
        "colab": {
          "base_uri": "https://localhost:8080/"
        },
        "id": "2W1af4B5adCS",
        "outputId": "2b7b017e-ec4c-4b1f-a891-4f0eb475d666"
      },
      "execution_count": null,
      "outputs": [
        {
          "output_type": "stream",
          "name": "stdout",
          "text": [
            "<sos> <unk> <unk> said as a result of its december acquisition of space co it expects earnings per share in 1987 of 1 15 to 1 30 dlrs per share up from 70 cts in 1986 the company said pretax net should rise to nine to 10 mln dlrs from six mln dlrs in 1986 and rental operation revenues to 19 to 22 mln dlrs from 12 5 mln dlrs it said cash flow per share this year should be 2 50 to three dlrs reuter 3\n",
            "\n",
            "<sos> the great atlantic and pacific tea co said its three year 345 mln dlr capital program will be be substantially increased to <unk> growth and expansion plans for <unk> inc and <unk> inc over the next two years a and p said the acquisition of <unk> in august 1986 and <unk> in december helped us achieve better than expected results in the fourth quarter ended february 28 its net income from continuing operations jumped 52 6 pct to 20 7 mln dlrs or 55 cts a share in the latest quarter as sales increased 48 3 pct to 1 58 billion dlrs a and p gave no details on the expanded capital program but it did say it completed the first year of the program during 1986 a and p is 52 4 pct owned by lt <unk> <unk> of west germany reuter 3\n"
          ]
        }
      ]
    },
    {
      "cell_type": "markdown",
      "source": [
        "##TF-IDF Matrix"
      ],
      "metadata": {
        "id": "NRnNA2Wya-kR"
      }
    },
    {
      "cell_type": "code",
      "source": [
        "dtmvector = CountVectorizer()\n",
        "x_train_dtm = dtmvector.fit_transform(x_train)\n",
        "print(x_train_dtm.shape)"
      ],
      "metadata": {
        "colab": {
          "base_uri": "https://localhost:8080/"
        },
        "id": "VLZCLZzmadFC",
        "outputId": "343805f4-6ce5-401a-e819-c904cc42e59c"
      },
      "execution_count": null,
      "outputs": [
        {
          "output_type": "stream",
          "name": "stdout",
          "text": [
            "(8982, 9670)\n"
          ]
        }
      ]
    },
    {
      "cell_type": "markdown",
      "source": [
        "DTM은 사이킷런의 CountVectorizer()를 통해서 생성한다.\n",
        "<br/>훈련용 뉴스의 수가 총 8,982개였기 때문에 DTM의 행의 개수는 8,982개가 된다.\n",
        "<br/>DTM이 자체적인 규칙에 따라서 불필요하다고 판단하는 토큰을 제거하기 때문에 <br/>DTM 열의 개수는 10,000개보다 적은 9,670개가 된다."
      ],
      "metadata": {
        "id": "292PBu29bqVC"
      }
    },
    {
      "cell_type": "code",
      "source": [
        "tfidf_transformer = TfidfTransformer()\n",
        "tfidfv = tfidf_transformer.fit_transform(x_train_dtm)\n",
        "print(tfidfv.shape)"
      ],
      "metadata": {
        "colab": {
          "base_uri": "https://localhost:8080/"
        },
        "id": "lXuBaLj-ux-o",
        "outputId": "355a4ebf-88b8-4b83-a6c6-810d9056331f"
      },
      "execution_count": null,
      "outputs": [
        {
          "output_type": "stream",
          "name": "stdout",
          "text": [
            "(8982, 9670)\n"
          ]
        }
      ]
    },
    {
      "cell_type": "markdown",
      "source": [
        "TF-IDF Matrix는 사이킷런의 TfidfTransformer()를 통해서 생성한다."
      ],
      "metadata": {
        "id": "uq-G83D3uxUj"
      }
    },
    {
      "cell_type": "markdown",
      "source": [
        "#데이터 전처리"
      ],
      "metadata": {
        "id": "g7eysqsmMb5b"
      }
    },
    {
      "cell_type": "code",
      "source": [
        "from tensorflow.keras.datasets import reuters"
      ],
      "metadata": {
        "id": "PeCsXLMq2SUM"
      },
      "execution_count": null,
      "outputs": []
    },
    {
      "cell_type": "code",
      "source": [
        "word_index = reuters.get_word_index(path=\"reuters_word_index.json\")"
      ],
      "metadata": {
        "id": "bkfe4-58_qJi"
      },
      "execution_count": null,
      "outputs": []
    },
    {
      "cell_type": "code",
      "source": [
        "index_to_word = { index + 3 : word for word, index in word_index.items() }"
      ],
      "metadata": {
        "id": "pjWrgzgV_qUJ"
      },
      "execution_count": null,
      "outputs": []
    },
    {
      "cell_type": "code",
      "source": [
        "for index, token in enumerate((\"<pad>\", \"<sos>\", \"<unk>\")):\n",
        "  index_to_word[index] = token"
      ],
      "metadata": {
        "id": "nuQbG6NgDO29"
      },
      "execution_count": null,
      "outputs": []
    },
    {
      "cell_type": "code",
      "source": [
        "dtmvector = CountVectorizer()\n",
        "tfidf_transformer = TfidfTransformer()"
      ],
      "metadata": {
        "id": "OgKNt7as8Nlq"
      },
      "execution_count": null,
      "outputs": []
    },
    {
      "cell_type": "markdown",
      "source": [
        "word index, index to word, dimvector, tfidf_transformer를 불러온다."
      ],
      "metadata": {
        "id": "1hhH4D5ZAVE7"
      }
    },
    {
      "cell_type": "markdown",
      "source": [
        ""
      ],
      "metadata": {
        "id": "8KGI9Td6WqSH"
      }
    },
    {
      "cell_type": "markdown",
      "source": [
        "```\n",
        "(none_x_train, none_y_train), (none_x_test, none_y_test) = reuters.load_data(num_words=n, test_split=0.2)\n",
        "```"
      ],
      "metadata": {
        "id": "H0G9xpQvAkqr"
      }
    },
    {
      "cell_type": "markdown",
      "source": [
        ""
      ],
      "metadata": {
        "id": "4inHRb--Wiof"
      }
    },
    {
      "cell_type": "markdown",
      "source": [
        "reuters.load_data에서 num_words는 사용 단어의 수를 조정한다.\n",
        "<br/>빈도수가 많은 순서대로 나열했을 때 num_words의 인자로 준 정수만큼의 단어를 사용하고\n",
        "<br/>나머지 단어는 전부 unk로 처리하는 원리이다."
      ],
      "metadata": {
        "id": "JmCsnu8158lJ"
      }
    },
    {
      "cell_type": "markdown",
      "source": [
        "##None"
      ],
      "metadata": {
        "id": "coiCsnmD64w8"
      }
    },
    {
      "cell_type": "code",
      "source": [
        "(none_x_train, none_y_train), (none_x_test, none_y_test) = reuters.load_data(num_words=None, test_split=0.2)"
      ],
      "metadata": {
        "id": "ji_1idC-0dyR"
      },
      "execution_count": null,
      "outputs": []
    },
    {
      "cell_type": "code",
      "source": [
        "decoded = []\n",
        "for i in range(len(none_x_train)):\n",
        "    t = ' '.join([index_to_word[index] for index in none_x_train[i]])\n",
        "    decoded.append(t)\n",
        "\n",
        "none_x_train = decoded\n",
        "\n",
        "decoded = []\n",
        "for i in range(len(none_x_test)):\n",
        "    t = ' '.join([index_to_word[index] for index in none_x_test[i]])\n",
        "    decoded.append(t)\n",
        "\n",
        "none_x_test = decoded"
      ],
      "metadata": {
        "id": "nWkYEFWk_j5i"
      },
      "execution_count": null,
      "outputs": []
    },
    {
      "cell_type": "code",
      "source": [
        "none_x_train_dtm = dtmvector.fit_transform(none_x_train)\n",
        "none_tfidfv_train = tfidf_transformer.fit_transform(none_x_train_dtm)"
      ],
      "metadata": {
        "id": "K43MAcsz3F7h"
      },
      "execution_count": null,
      "outputs": []
    },
    {
      "cell_type": "code",
      "source": [
        "none_x_test_dtm = dtmvector.transform(none_x_test) \n",
        "none_tfidfv_test = tfidf_transformer.transform(none_x_test_dtm) "
      ],
      "metadata": {
        "id": "mUDx93344o55"
      },
      "execution_count": null,
      "outputs": []
    },
    {
      "cell_type": "markdown",
      "source": [
        "num_words=None은 로우터 뉴스의 모든 단어를 사용한다.\n",
        "<br/>단어 하나도 제외하지 않는다는 default 설정이다."
      ],
      "metadata": {
        "id": "ba4tlaBh2k4Q"
      }
    },
    {
      "cell_type": "markdown",
      "source": [
        "##10000"
      ],
      "metadata": {
        "id": "G2uLG2xz7E-q"
      }
    },
    {
      "cell_type": "code",
      "source": [
        "(ten_x_train, ten_y_train), (ten_x_test, ten_y_test) = reuters.load_data(num_words=10000, test_split=0.2)"
      ],
      "metadata": {
        "id": "tpqqgB9b0rMx"
      },
      "execution_count": null,
      "outputs": []
    },
    {
      "cell_type": "code",
      "source": [
        "decoded = []\n",
        "for i in range(len(ten_x_train)):\n",
        "    t = ' '.join([index_to_word[index] for index in ten_x_train[i]])\n",
        "    decoded.append(t)\n",
        "\n",
        "ten_x_train = decoded\n",
        "\n",
        "decoded = []\n",
        "for i in range(len(ten_x_test)):\n",
        "    t = ' '.join([index_to_word[index] for index in ten_x_test[i]])\n",
        "    decoded.append(t)\n",
        "\n",
        "ten_x_test = decoded"
      ],
      "metadata": {
        "id": "xIK3xJhl5CqC"
      },
      "execution_count": null,
      "outputs": []
    },
    {
      "cell_type": "code",
      "source": [
        "ten_x_train_dtm = dtmvector.fit_transform(ten_x_train)\n",
        "ten_tfidfv_train = tfidf_transformer.fit_transform(ten_x_train_dtm)"
      ],
      "metadata": {
        "id": "ZWEYGRHx5FRp"
      },
      "execution_count": null,
      "outputs": []
    },
    {
      "cell_type": "code",
      "source": [
        "ten_x_test_dtm = dtmvector.transform(ten_x_test) \n",
        "ten_tfidfv_test = tfidf_transformer.transform(ten_x_test_dtm) "
      ],
      "metadata": {
        "id": "90XwrSVv60py"
      },
      "execution_count": null,
      "outputs": []
    },
    {
      "cell_type": "markdown",
      "source": [
        "num_words=10000은 빈도수 상위 10000개의 단어만 사용한다."
      ],
      "metadata": {
        "id": "v1D9CGSW0-l5"
      }
    },
    {
      "cell_type": "markdown",
      "source": [
        "##5000"
      ],
      "metadata": {
        "id": "D57T8XiW7JWy"
      }
    },
    {
      "cell_type": "code",
      "source": [
        "(five_x_train, five_y_train), (five_x_test, five_y_test) = reuters.load_data(num_words=5000, test_split=0.2)"
      ],
      "metadata": {
        "id": "GeHdK4GL0gbh"
      },
      "execution_count": null,
      "outputs": []
    },
    {
      "cell_type": "code",
      "source": [
        "decoded = []\n",
        "for i in range(len(five_x_train)):\n",
        "    t = ' '.join([index_to_word[index] for index in five_x_train[i]])\n",
        "    decoded.append(t)\n",
        "\n",
        "five_x_train = decoded\n",
        "\n",
        "decoded = []\n",
        "for i in range(len(five_x_test)):\n",
        "    t = ' '.join([index_to_word[index] for index in five_x_test[i]])\n",
        "    decoded.append(t)\n",
        "\n",
        "five_x_test = decoded"
      ],
      "metadata": {
        "id": "7LWKZvOu719B"
      },
      "execution_count": null,
      "outputs": []
    },
    {
      "cell_type": "code",
      "source": [
        "five_x_train_dtm = dtmvector.fit_transform(five_x_train)\n",
        "five_tfidfv_train = tfidf_transformer.fit_transform(five_x_train_dtm)"
      ],
      "metadata": {
        "id": "fPGxigLq71_g"
      },
      "execution_count": null,
      "outputs": []
    },
    {
      "cell_type": "code",
      "source": [
        "five_x_test_dtm = dtmvector.transform(five_x_test) \n",
        "five_tfidfv_test = tfidf_transformer.transform(five_x_test_dtm) "
      ],
      "metadata": {
        "id": "XUsOIgxb72B6"
      },
      "execution_count": null,
      "outputs": []
    },
    {
      "cell_type": "markdown",
      "source": [
        "num_words=5000은 빈도수 상위 5000개의 단어만 사용한다."
      ],
      "metadata": {
        "id": "iFnI0wyC0-oh"
      }
    },
    {
      "cell_type": "markdown",
      "source": [
        "##1000"
      ],
      "metadata": {
        "id": "E9Wjkzle7LR8"
      }
    },
    {
      "cell_type": "code",
      "source": [
        "(one_x_train, one_y_train), (one_x_test, one_y_test) = reuters.load_data(num_words=5000, test_split=0.2)"
      ],
      "metadata": {
        "id": "QIC4DZsP5WnD"
      },
      "execution_count": null,
      "outputs": []
    },
    {
      "cell_type": "code",
      "source": [
        "decoded = []\n",
        "for i in range(len(one_x_train)):\n",
        "    t = ' '.join([index_to_word[index] for index in one_x_train[i]])\n",
        "    decoded.append(t)\n",
        "\n",
        "one_x_train = decoded\n",
        "\n",
        "decoded = []\n",
        "for i in range(len(one_x_test)):\n",
        "    t = ' '.join([index_to_word[index] for index in one_x_test[i]])\n",
        "    decoded.append(t)\n",
        "\n",
        "one_x_test = decoded"
      ],
      "metadata": {
        "id": "BwiH8DnV8uSc"
      },
      "execution_count": null,
      "outputs": []
    },
    {
      "cell_type": "code",
      "source": [
        "one_x_train_dtm = dtmvector.fit_transform(one_x_train)\n",
        "one_tfidfv_train = tfidf_transformer.fit_transform(one_x_train_dtm)"
      ],
      "metadata": {
        "id": "61J9DX_R8uUr"
      },
      "execution_count": null,
      "outputs": []
    },
    {
      "cell_type": "code",
      "source": [
        "one_x_test_dtm = dtmvector.transform(one_x_test) \n",
        "one_tfidfv_test = tfidf_transformer.transform(one_x_test_dtm) "
      ],
      "metadata": {
        "id": "hbgUJect8uXK"
      },
      "execution_count": null,
      "outputs": []
    },
    {
      "cell_type": "markdown",
      "source": [
        "num_words=1000은 빈도수 상위 1000개의 단어만 사용한다."
      ],
      "metadata": {
        "id": "uJ4Nld2j5YWY"
      }
    },
    {
      "cell_type": "markdown",
      "source": [
        "#Multiclass Text Classifier"
      ],
      "metadata": {
        "id": "vkhH8ZO_uFEH"
      }
    },
    {
      "cell_type": "markdown",
      "source": [
        "[scikit-learn 1.1.1](https://scikit-learn.org/stable/modules/classes.html)에서 제공하는 머신러닝 다중 분류 알고리즘을 사용하는 것이 이번 프로젝트의 목표이다.\n",
        "<br/>로이터 뉴스 데이터에는 다중 분류 알고리즘을 사용하는 것이 적절하다."
      ],
      "metadata": {
        "id": "Rt48ATypuFPH"
      }
    },
    {
      "cell_type": "markdown",
      "source": [
        "#Naive Bayes Classifier"
      ],
      "metadata": {
        "id": "EDrOGC6-Qo8v"
      }
    },
    {
      "cell_type": "markdown",
      "source": [
        "연속형 변수에는 Gaussian Naive Bayes Classifier(GNB)\n",
        "<br/>빈도수 변수에는 Multinomial Naive Bayes Classifier(MNB)\n",
        "<br/>이진형 변수에는 Bernoulli Naive Bayes Classifier(BNB)\n",
        "<br/>범주형 변수에는 Categorical Naive Bayes Classifier(CNB)가 쓰인다."
      ],
      "metadata": {
        "id": "A8d-u4RV-B1h"
      }
    },
    {
      "cell_type": "markdown",
      "source": [
        "따라서 로우터 뉴스 데이터에는 Multinomial Naive Bayes Classifier(MNB)가 쓰인다.\n",
        "<br/>MNB를 보완한 Complement Naive Bayes Classifier(CNB)도 함께 쓰인다."
      ],
      "metadata": {
        "id": "gyPXM0DF-9Di"
      }
    },
    {
      "cell_type": "markdown",
      "source": [
        "##Multinomial Naive Bayes Classifier(MNB)"
      ],
      "metadata": {
        "id": "77M9T_E3vtFy"
      }
    },
    {
      "cell_type": "code",
      "source": [
        "none_mnb_model = MultinomialNB()\n",
        "none_mnb_model.fit(none_tfidfv_train, none_y_train)"
      ],
      "metadata": {
        "id": "1nEjBynAgB9l"
      },
      "execution_count": null,
      "outputs": []
    },
    {
      "cell_type": "code",
      "source": [
        "print(\"Predicted Label : \", str(none_mnb_model.predict(none_tfidfv_test[3])).replace(\"[\",\"\").replace(\"]\",\"\"))\n",
        "print()\n",
        "probability_3 = none_mnb_model.predict_proba(none_tfidfv_test[3])[0]\n",
        "\n",
        "plt.rcParams[\"figure.figsize\"] = (11,5)\n",
        "plt.bar(none_mnb_model.classes_, probability_3)\n",
        "plt.xlim(-1, 21)\n",
        "plt.xticks(none_mnb_model.classes_)\n",
        "plt.xlabel(\"Class\")\n",
        "plt.ylabel(\"Probability\")\n",
        "plt.show()"
      ],
      "metadata": {
        "colab": {
          "base_uri": "https://localhost:8080/",
          "height": 374
        },
        "id": "Pas2TF9V9qxa",
        "outputId": "af1196e7-189d-4464-9733-e38afcc343df"
      },
      "execution_count": null,
      "outputs": [
        {
          "output_type": "stream",
          "name": "stdout",
          "text": [
            "Predicted Label :  4\n",
            "\n"
          ]
        },
        {
          "output_type": "display_data",
          "data": {
            "text/plain": [
              "<Figure size 792x360 with 1 Axes>"
            ],
            "image/png": "[encoded data removed]"
          },
          "metadata": {
            "needs_background": "light"
          }
        }
      ]
    },
    {
      "cell_type": "markdown",
      "source": [
        "모델은 4번 클래스를 약 80%의 확률로 확신하는데, 20%의 확률로 3번 클래스라고 판단한다.\n",
        "<br/>그러므로 모델이 예측한 레이블은 4번 클래스다."
      ],
      "metadata": {
        "id": "kmbVo72LDqAA"
      }
    },
    {
      "cell_type": "code",
      "source": [
        "def graph_confusion_matrix(model, x_test, y_test):#, classes_name):\n",
        "  df_cm = pd.DataFrame(confusion_matrix(y_test, model.predict(x_test)))#, index=classes_name, columns=classes_name)\n",
        "  fig = plt.figure(figsize=(10,10))\n",
        "  heatmap = sns.heatmap(df_cm, annot=True, fmt=\"d\", cmap='YlGnBu')\n",
        "  heatmap.yaxis.set_ticklabels(heatmap.yaxis.get_ticklabels(), rotation=0, ha='right', fontsize=12)\n",
        "  heatmap.xaxis.set_ticklabels(heatmap.xaxis.get_ticklabels(), rotation=45, ha='right', fontsize=12)\n",
        "  plt.ylabel('label')\n",
        "  plt.xlabel('predicted value')"
      ],
      "metadata": {
        "id": "atLFKxpe-onj"
      },
      "execution_count": null,
      "outputs": []
    },
    {
      "cell_type": "code",
      "source": [
        "graph_confusion_matrix(none_mnb_model, none_tfidfv_test, none_y_test)"
      ],
      "metadata": {
        "colab": {
          "base_uri": "https://localhost:8080/",
          "height": 616
        },
        "id": "WGtglMd5-p5V",
        "outputId": "6f84c467-bc28-4bb9-84f2-4a5491a0acab"
      },
      "execution_count": null,
      "outputs": [
        {
          "output_type": "display_data",
          "data": {
            "text/plain": [
              "<Figure size 720x720 with 2 Axes>"
            ],
            "image/png": "[encoded data removed]"
          },
          "metadata": {
            "needs_background": "light"
          }
        }
      ]
    },
    {
      "cell_type": "markdown",
      "source": [
        "그래프에서 보여주고 싶은 부분만 crop할 수 있을까?\n",
        "<br/>예를 들면 특정 수치가 큰 부분만 잘라서 보여주는 것이다.\n",
        "<br/>numpy의 array 구조를 이해한다면 특정 부분을 강조한 그래프 함수를 짤 수 있을 것이다."
      ],
      "metadata": {
        "id": "CYevoLOrWTsO"
      }
    },
    {
      "cell_type": "code",
      "source": [
        "print(classification_report(none_y_test, none_mnb_model.predict(none_tfidfv_test), zero_division=0))"
      ],
      "metadata": {
        "colab": {
          "base_uri": "https://localhost:8080/"
        },
        "id": "neszCvnu-L2z",
        "outputId": "4381c041-6edc-4a2d-db22-105175ad77aa"
      },
      "execution_count": null,
      "outputs": [
        {
          "output_type": "stream",
          "name": "stdout",
          "text": [
            "              precision    recall  f1-score   support\n",
            "\n",
            "           0       0.00      0.00      0.00        12\n",
            "           1       0.79      0.21      0.33       105\n",
            "           2       0.00      0.00      0.00        20\n",
            "           3       0.72      0.92      0.81       813\n",
            "           4       0.45      0.96      0.61       474\n",
            "           5       0.00      0.00      0.00         5\n",
            "           6       0.00      0.00      0.00        14\n",
            "           7       0.00      0.00      0.00         3\n",
            "           8       0.00      0.00      0.00        38\n",
            "           9       0.00      0.00      0.00        25\n",
            "          10       0.00      0.00      0.00        30\n",
            "          11       0.80      0.29      0.42        83\n",
            "          12       0.00      0.00      0.00        13\n",
            "          13       0.00      0.00      0.00        37\n",
            "          14       0.00      0.00      0.00         2\n",
            "          15       0.00      0.00      0.00         9\n",
            "          16       0.75      0.18      0.29        99\n",
            "          17       0.00      0.00      0.00        12\n",
            "          18       0.00      0.00      0.00        20\n",
            "          19       0.73      0.58      0.64       133\n",
            "          20       0.00      0.00      0.00        70\n",
            "          21       0.00      0.00      0.00        27\n",
            "          22       0.00      0.00      0.00         7\n",
            "          23       0.00      0.00      0.00        12\n",
            "          24       0.00      0.00      0.00        19\n",
            "          25       0.00      0.00      0.00        31\n",
            "          26       0.00      0.00      0.00         8\n",
            "          27       0.00      0.00      0.00         4\n",
            "          28       0.00      0.00      0.00        10\n",
            "          29       0.00      0.00      0.00         4\n",
            "          30       0.00      0.00      0.00        12\n",
            "          31       0.00      0.00      0.00        13\n",
            "          32       0.00      0.00      0.00        10\n",
            "          33       0.00      0.00      0.00         5\n",
            "          34       0.00      0.00      0.00         7\n",
            "          35       0.00      0.00      0.00         6\n",
            "          36       0.00      0.00      0.00        11\n",
            "          37       0.00      0.00      0.00         2\n",
            "          38       0.00      0.00      0.00         3\n",
            "          39       0.00      0.00      0.00         5\n",
            "          40       0.00      0.00      0.00        10\n",
            "          41       0.00      0.00      0.00         8\n",
            "          42       0.00      0.00      0.00         3\n",
            "          43       0.00      0.00      0.00         6\n",
            "          44       0.00      0.00      0.00         5\n",
            "          45       0.00      0.00      0.00         1\n",
            "\n",
            "    accuracy                           0.60      2246\n",
            "   macro avg       0.09      0.07      0.07      2246\n",
            "weighted avg       0.50      0.60      0.50      2246\n",
            "\n"
          ]
        }
      ]
    },
    {
      "cell_type": "markdown",
      "source": [
        "각각의 클래스를 양성(positive) 클래스로 보았을 때의 정밀도, 재현율, F1점수를 각각 구하고\n",
        "<br/>그 평균값으로 전체 모델의 성능을 평가한다."
      ],
      "metadata": {
        "id": "kpbMBZ6aFDN1"
      }
    },
    {
      "cell_type": "markdown",
      "source": [
        "macro: 단순평균\n",
        "<br/>weighted: 각 클래스에 속하는 표본의 개수로 가중평균\n",
        "<br/>accuracy: 정확도. 전체 학습 데이터의 개수에서 클래스를 정확하게 맞춘 개수의 비율"
      ],
      "metadata": {
        "id": "DOdycYCEFTvt"
      }
    },
    {
      "cell_type": "code",
      "source": [
        "none_mnb_predicted = none_mnb_model.predict(none_tfidfv_test) \n",
        "none_mnb_accuracy = accuracy_score(none_y_test, none_mnb_predicted)\n",
        "print(\"accuracy :\", none_mnb_accuracy) "
      ],
      "metadata": {
        "colab": {
          "base_uri": "https://localhost:8080/"
        },
        "id": "MVbOyqjLrPK2",
        "outputId": "f7df3355-7dd0-4db5-9a5f-e882eb9a4f1b"
      },
      "execution_count": null,
      "outputs": [
        {
          "output_type": "stream",
          "name": "stdout",
          "text": [
            "accuracy : 0.5997328584149599\n"
          ]
        }
      ]
    },
    {
      "cell_type": "markdown",
      "source": [
        "num_words=None일 때, Multinomial Naive Bayes Classifier(MNB) 모델의 성능 'accuracy'는 59.97%이다."
      ],
      "metadata": {
        "id": "JdWsDHtMXAMt"
      }
    },
    {
      "cell_type": "markdown",
      "source": [
        "<br/>"
      ],
      "metadata": {
        "id": "WDved3OjwxFO"
      }
    },
    {
      "cell_type": "code",
      "source": [
        "ten_mnb_model = MultinomialNB()\n",
        "ten_mnb_model.fit(ten_tfidfv_train, ten_y_train)\n",
        "ten_mnb_predicted = ten_mnb_model.predict(ten_tfidfv_test) \n",
        "ten_mnb_accuracy = accuracy_score(ten_y_test, ten_mnb_predicted)\n",
        "print(\"accuracy :\", ten_mnb_accuracy) "
      ],
      "metadata": {
        "id": "MwkYa1KlYuyG",
        "colab": {
          "base_uri": "https://localhost:8080/"
        },
        "outputId": "b88e781d-831d-4f21-d613-a52417a0e37a"
      },
      "execution_count": null,
      "outputs": [
        {
          "output_type": "stream",
          "name": "stdout",
          "text": [
            "accuracy : 0.6567230632235085\n"
          ]
        }
      ]
    },
    {
      "cell_type": "markdown",
      "source": [
        "num_words=10000일 때, Multinomial Naive Bayes Classifier(MNB) 모델의 성능 'accuracy'는 65.67%이다."
      ],
      "metadata": {
        "id": "Fzl1SdF_Zhj1"
      }
    },
    {
      "cell_type": "markdown",
      "source": [
        "<br/>"
      ],
      "metadata": {
        "id": "AX4dJIpiwwW6"
      }
    },
    {
      "cell_type": "code",
      "source": [
        "five_mnb_model = MultinomialNB()\n",
        "five_mnb_model.fit(five_tfidfv_train, five_y_train)\n",
        "five_mnb_predicted = five_mnb_model.predict(five_tfidfv_test) \n",
        "five_mnb_accuracy = accuracy_score(five_y_test, five_mnb_predicted)\n",
        "print(\"accuracy :\", five_mnb_accuracy) "
      ],
      "metadata": {
        "id": "jgb-tBqyYyWD",
        "colab": {
          "base_uri": "https://localhost:8080/"
        },
        "outputId": "7f7cd2ec-4758-443a-f89c-abd50a850ffd"
      },
      "execution_count": null,
      "outputs": [
        {
          "output_type": "stream",
          "name": "stdout",
          "text": [
            "accuracy : 0.6731967943009796\n"
          ]
        }
      ]
    },
    {
      "cell_type": "markdown",
      "source": [
        "num_words=5000일 때, Multinomial Naive Bayes Classifier(MNB) 모델의 성능 'accuracy'는 67.32%이다."
      ],
      "metadata": {
        "id": "CN4GhEZVZlyE"
      }
    },
    {
      "cell_type": "markdown",
      "source": [
        "<br/>"
      ],
      "metadata": {
        "id": "m3iHm1uqwwEW"
      }
    },
    {
      "cell_type": "code",
      "source": [
        "one_mnb_model = MultinomialNB()\n",
        "one_mnb_model.fit(one_tfidfv_train, one_y_train)\n",
        "one_mnb_predicted = one_mnb_model.predict(one_tfidfv_test) \n",
        "one_mnb_accuracy = accuracy_score(one_y_test, one_mnb_predicted)\n",
        "print(\"accuracy :\", one_mnb_accuracy) "
      ],
      "metadata": {
        "id": "lNG9Y_eMZl6W",
        "colab": {
          "base_uri": "https://localhost:8080/"
        },
        "outputId": "e5398776-10b2-45eb-afc1-556bbce29eee"
      },
      "execution_count": null,
      "outputs": [
        {
          "output_type": "stream",
          "name": "stdout",
          "text": [
            "accuracy : 0.6731967943009796\n"
          ]
        }
      ]
    },
    {
      "cell_type": "markdown",
      "source": [
        "num_words=1000일 때, Multinomial Naive Bayes Classifier(MNB) 모델의 성능 'accuracy'는 67.32%이다."
      ],
      "metadata": {
        "id": "oGS6YtgTZvUk"
      }
    },
    {
      "cell_type": "markdown",
      "source": [
        "<br/>"
      ],
      "metadata": {
        "id": "gDVPKx1YwvbG"
      }
    },
    {
      "cell_type": "code",
      "source": [
        "mnb_model_comparison = [round(none_mnb_accuracy, 4), round(ten_mnb_accuracy, 4),\n",
        "                        round(five_mnb_accuracy, 4), round(one_mnb_accuracy, 4)]\n",
        "\n",
        "mnb_model_name = ['mnb_none', 'mnb_10000', 'mnb_5000', 'mnb_1000']\n",
        "\n",
        "mnb_df = pd.DataFrame({\"Model\": mnb_model_name,\n",
        "                  \"Accuracy\":mnb_model_comparison})\n",
        "mnb_df_sorted = mnb_df.sort_values('Accuracy',ascending=False)\n",
        "mnb_df_sorted"
      ],
      "metadata": {
        "id": "SUHtKsTxOE3b",
        "colab": {
          "base_uri": "https://localhost:8080/",
          "height": 175
        },
        "outputId": "b5ef9692-ee4f-4a2a-8a15-bf88b98af970"
      },
      "execution_count": null,
      "outputs": [
        {
          "output_type": "execute_result",
          "data": {
            "text/plain": [
              "       Model  Accuracy\n",
              "2   mnb_5000    0.6732\n",
              "3   mnb_1000    0.6732\n",
              "1  mnb_10000    0.6567\n",
              "0   mnb_none    0.5997"
            ],
            "text/html": [
              "\n",
              "  <div id=\"df-8d5f4a30-47c2-4e2e-afb5-f8d85c549163\">\n",
              "    <div class=\"colab-df-container\">\n",
              "      <div>\n",
              "<style scoped>\n",
              "    .dataframe tbody tr th:only-of-type {\n",
              "        vertical-align: middle;\n",
              "    }\n",
              "\n",
              "    .dataframe tbody tr th {\n",
              "        vertical-align: top;\n",
              "    }\n",
              "\n",
              "    .dataframe thead th {\n",
              "        text-align: right;\n",
              "    }\n",
              "</style>\n",
              "<table border=\"1\" class=\"dataframe\">\n",
              "  <thead>\n",
              "    <tr style=\"text-align: right;\">\n",
              "      <th></th>\n",
              "      <th>Model</th>\n",
              "      <th>Accuracy</th>\n",
              "    </tr>\n",
              "  </thead>\n",
              "  <tbody>\n",
              "    <tr>\n",
              "      <th>2</th>\n",
              "      <td>mnb_5000</td>\n",
              "      <td>0.6732</td>\n",
              "    </tr>\n",
              "    <tr>\n",
              "      <th>3</th>\n",
              "      <td>mnb_1000</td>\n",
              "      <td>0.6732</td>\n",
              "    </tr>\n",
              "    <tr>\n",
              "      <th>1</th>\n",
              "      <td>mnb_10000</td>\n",
              "      <td>0.6567</td>\n",
              "    </tr>\n",
              "    <tr>\n",
              "      <th>0</th>\n",
              "      <td>mnb_none</td>\n",
              "      <td>0.5997</td>\n",
              "    </tr>\n",
              "  </tbody>\n",
              "</table>\n",
              "</div>\n",
              "      <button class=\"colab-df-convert\" onclick=\"convertToInteractive('df-8d5f4a30-47c2-4e2e-afb5-f8d85c549163')\"\n",
              "              title=\"Convert this dataframe to an interactive table.\"\n",
              "              style=\"display:none;\">\n",
              "        \n",
              "  <svg xmlns=\"http://www.w3.org/2000/svg\" height=\"24px\"viewBox=\"0 0 24 24\"\n",
              "       width=\"24px\">\n",
              "    <path d=\"M0 0h24v24H0V0z\" fill=\"none\"/>\n",
              "    <path d=\"M18.56 5.44l.94 2.06.94-2.06 2.06-.94-2.06-.94-.94-2.06-.94 2.06-2.06.94zm-11 1L8.5 8.5l.94-2.06 2.06-.94-2.06-.94L8.5 2.5l-.94 2.06-2.06.94zm10 10l.94 2.06.94-2.06 2.06-.94-2.06-.94-.94-2.06-.94 2.06-2.06.94z\"/><path d=\"M17.41 7.96l-1.37-1.37c-.4-.4-.92-.59-1.43-.59-.52 0-1.04.2-1.43.59L10.3 9.45l-7.72 7.72c-.78.78-.78 2.05 0 2.83L4 21.41c.39.39.9.59 1.41.59.51 0 1.02-.2 1.41-.59l7.78-7.78 2.81-2.81c.8-.78.8-2.07 0-2.86zM5.41 20L4 18.59l7.72-7.72 1.47 1.35L5.41 20z\"/>\n",
              "  </svg>\n",
              "      </button>\n",
              "      \n",
              "  <style>\n",
              "    .colab-df-container {\n",
              "      display:flex;\n",
              "      flex-wrap:wrap;\n",
              "      gap: 12px;\n",
              "    }\n",
              "\n",
              "    .colab-df-convert {\n",
              "      background-color: #E8F0FE;\n",
              "      border: none;\n",
              "      border-radius: 50%;\n",
              "      cursor: pointer;\n",
              "      display: none;\n",
              "      fill: #1967D2;\n",
              "      height: 32px;\n",
              "      padding: 0 0 0 0;\n",
              "      width: 32px;\n",
              "    }\n",
              "\n",
              "    .colab-df-convert:hover {\n",
              "      background-color: #E2EBFA;\n",
              "      box-shadow: 0px 1px 2px rgba(60, 64, 67, 0.3), 0px 1px 3px 1px rgba(60, 64, 67, 0.15);\n",
              "      fill: #174EA6;\n",
              "    }\n",
              "\n",
              "    [theme=dark] .colab-df-convert {\n",
              "      background-color: #3B4455;\n",
              "      fill: #D2E3FC;\n",
              "    }\n",
              "\n",
              "    [theme=dark] .colab-df-convert:hover {\n",
              "      background-color: #434B5C;\n",
              "      box-shadow: 0px 1px 3px 1px rgba(0, 0, 0, 0.15);\n",
              "      filter: drop-shadow(0px 1px 2px rgba(0, 0, 0, 0.3));\n",
              "      fill: #FFFFFF;\n",
              "    }\n",
              "  </style>\n",
              "\n",
              "      <script>\n",
              "        const buttonEl =\n",
              "          document.querySelector('#df-8d5f4a30-47c2-4e2e-afb5-f8d85c549163 button.colab-df-convert');\n",
              "        buttonEl.style.display =\n",
              "          google.colab.kernel.accessAllowed ? 'block' : 'none';\n",
              "\n",
              "        async function convertToInteractive(key) {\n",
              "          const element = document.querySelector('#df-8d5f4a30-47c2-4e2e-afb5-f8d85c549163');\n",
              "          const dataTable =\n",
              "            await google.colab.kernel.invokeFunction('convertToInteractive',\n",
              "                                                     [key], {});\n",
              "          if (!dataTable) return;\n",
              "\n",
              "          const docLinkHtml = 'Like what you see? Visit the ' +\n",
              "            '<a target=\"_blank\" href=https://colab.research.google.com/notebooks/data_table.ipynb>data table notebook</a>'\n",
              "            + ' to learn more about interactive tables.';\n",
              "          element.innerHTML = '';\n",
              "          dataTable['output_type'] = 'display_data';\n",
              "          await google.colab.output.renderOutput(dataTable, element);\n",
              "          const docLink = document.createElement('div');\n",
              "          docLink.innerHTML = docLinkHtml;\n",
              "          element.appendChild(docLink);\n",
              "        }\n",
              "      </script>\n",
              "    </div>\n",
              "  </div>\n",
              "  "
            ]
          },
          "metadata": {},
          "execution_count": 58
        }
      ]
    },
    {
      "cell_type": "markdown",
      "source": [
        "num_words=n에서 n이 작아질수록 Multinomial Naive Bayes Classifier(MNB) 모델의 성능이 높다."
      ],
      "metadata": {
        "id": "eRS1-4v3OFF_"
      }
    },
    {
      "cell_type": "markdown",
      "source": [
        "<br/>"
      ],
      "metadata": {
        "id": "Mtr8w05MwuzU"
      }
    },
    {
      "cell_type": "markdown",
      "source": [
        "##Complement Naive Bayes Classifier(CNB)"
      ],
      "metadata": {
        "id": "aws8vf3kvy8A"
      }
    },
    {
      "cell_type": "code",
      "source": [
        "none_cnb_model = ComplementNB()\n",
        "none_cnb_model.fit(none_tfidfv_train, none_y_train)\n",
        "none_cnb_predicted = none_cnb_model.predict(none_tfidfv_test) \n",
        "none_cnb_accuracy = accuracy_score(none_y_test, none_cnb_predicted)\n",
        "print(\"accuracy :\", none_cnb_accuracy) "
      ],
      "metadata": {
        "id": "0_1TNmEzv0QY",
        "colab": {
          "base_uri": "https://localhost:8080/"
        },
        "outputId": "f25bc370-71bf-40f4-fea0-b1fd6e578664"
      },
      "execution_count": null,
      "outputs": [
        {
          "output_type": "stream",
          "name": "stdout",
          "text": [
            "accuracy : 0.7649154051647373\n"
          ]
        }
      ]
    },
    {
      "cell_type": "markdown",
      "source": [
        "num_words=None일 때, Complement Naive Bayes Classifier(CNB)) 모델의 성능 'accuracy'는 76.49%이다."
      ],
      "metadata": {
        "id": "Cf2U1YFBZ9s3"
      }
    },
    {
      "cell_type": "markdown",
      "source": [
        "<br/>"
      ],
      "metadata": {
        "id": "_CnBlNiKwuJc"
      }
    },
    {
      "cell_type": "code",
      "source": [
        "ten_cnb_model = ComplementNB()\n",
        "ten_cnb_model.fit(ten_tfidfv_train, ten_y_train)\n",
        "ten_cnb_predicted = ten_cnb_model.predict(ten_tfidfv_test) \n",
        "ten_cnb_accuracy = accuracy_score(ten_y_test, ten_cnb_predicted)\n",
        "print(\"accuracy :\", ten_cnb_accuracy) "
      ],
      "metadata": {
        "id": "HEuL-F00Z8WU",
        "colab": {
          "base_uri": "https://localhost:8080/"
        },
        "outputId": "782f7622-8be4-45e6-c9be-48c398b6c6d3"
      },
      "execution_count": null,
      "outputs": [
        {
          "output_type": "stream",
          "name": "stdout",
          "text": [
            "accuracy : 0.7707034728406055\n"
          ]
        }
      ]
    },
    {
      "cell_type": "markdown",
      "source": [
        "\n",
        "num_words=10000일 때, Complement Naive Bayes Classifier(CNB) 모델의 성능 'accuracy'는 77.07%이다."
      ],
      "metadata": {
        "id": "yn5B1koxaUB9"
      }
    },
    {
      "cell_type": "markdown",
      "source": [
        "<br/>"
      ],
      "metadata": {
        "id": "nI1Z4n20wtzW"
      }
    },
    {
      "cell_type": "code",
      "source": [
        "five_cnb_model = ComplementNB()\n",
        "five_cnb_model.fit(five_tfidfv_train, five_y_train)\n",
        "five_cnb_predicted = five_cnb_model.predict(five_tfidfv_test) \n",
        "five_cnb_accuracy = accuracy_score(five_y_test, five_cnb_predicted)\n",
        "print(\"accuracy :\", five_cnb_accuracy) "
      ],
      "metadata": {
        "id": "GWCdZdO8aU10",
        "colab": {
          "base_uri": "https://localhost:8080/"
        },
        "outputId": "fb078142-7944-4556-d95d-9ca329cc162d"
      },
      "execution_count": null,
      "outputs": [
        {
          "output_type": "stream",
          "name": "stdout",
          "text": [
            "accuracy : 0.7707034728406055\n"
          ]
        }
      ]
    },
    {
      "cell_type": "markdown",
      "source": [
        "num_words=5000일 때, Complement Naive Bayes Classifier(CNB) 모델의 성능 'accuracy'는 77.07%이다."
      ],
      "metadata": {
        "id": "akuYsM_baVWH"
      }
    },
    {
      "cell_type": "markdown",
      "source": [
        "<br/>"
      ],
      "metadata": {
        "id": "L2RZJyYpwtJV"
      }
    },
    {
      "cell_type": "code",
      "source": [
        "one_cnb_model = ComplementNB()\n",
        "one_cnb_model.fit(one_tfidfv_train, one_y_train)\n",
        "one_cnb_predicted = one_cnb_model.predict(one_tfidfv_test) \n",
        "one_cnb_accuracy = accuracy_score(one_y_test, one_cnb_predicted)\n",
        "print(\"accuracy :\", one_cnb_accuracy) "
      ],
      "metadata": {
        "id": "sT-Cin6HaniN",
        "colab": {
          "base_uri": "https://localhost:8080/"
        },
        "outputId": "c2ad549f-a863-470d-c85b-280c0553bf83"
      },
      "execution_count": null,
      "outputs": [
        {
          "output_type": "stream",
          "name": "stdout",
          "text": [
            "accuracy : 0.7707034728406055\n"
          ]
        }
      ]
    },
    {
      "cell_type": "markdown",
      "source": [
        "num_words=1000일 때, Complement Naive Bayes Classifier(CNB) 모델의 성능 'accuracy'는 77.07%이다."
      ],
      "metadata": {
        "id": "RcgNNKWdantD"
      }
    },
    {
      "cell_type": "markdown",
      "source": [
        "<br/>"
      ],
      "metadata": {
        "id": "xwmNEVDTwspO"
      }
    },
    {
      "cell_type": "code",
      "source": [
        "cnb_model_comparison = [round(none_cnb_accuracy, 4), round(ten_cnb_accuracy, 4),\n",
        "                        round(five_cnb_accuracy, 4), round(one_cnb_accuracy, 4)]\n",
        "\n",
        "cnb_model_name = ['cnb_none', 'cnb_10000', 'cnb_5000', 'cnb_1000']\n",
        "\n",
        "cnb_df = pd.DataFrame({\"Model\": cnb_model_name,\n",
        "                  \"Accuracy\":cnb_model_comparison})\n",
        "cnb_df_sorted = cnb_df.sort_values('Accuracy',ascending=False)\n",
        "cnb_df_sorted"
      ],
      "metadata": {
        "id": "uvuRGxRgRnNf",
        "colab": {
          "base_uri": "https://localhost:8080/",
          "height": 175
        },
        "outputId": "8cdd33d3-4c78-4ff9-c59b-5fa1ea8af622"
      },
      "execution_count": null,
      "outputs": [
        {
          "output_type": "execute_result",
          "data": {
            "text/plain": [
              "       Model  Accuracy\n",
              "1  cnb_10000    0.7707\n",
              "2   cnb_5000    0.7707\n",
              "3   cnb_1000    0.7707\n",
              "0   cnb_none    0.7649"
            ],
            "text/html": [
              "\n",
              "  <div id=\"df-5720d30f-07ba-4a01-8d7f-e9772e56cff8\">\n",
              "    <div class=\"colab-df-container\">\n",
              "      <div>\n",
              "<style scoped>\n",
              "    .dataframe tbody tr th:only-of-type {\n",
              "        vertical-align: middle;\n",
              "    }\n",
              "\n",
              "    .dataframe tbody tr th {\n",
              "        vertical-align: top;\n",
              "    }\n",
              "\n",
              "    .dataframe thead th {\n",
              "        text-align: right;\n",
              "    }\n",
              "</style>\n",
              "<table border=\"1\" class=\"dataframe\">\n",
              "  <thead>\n",
              "    <tr style=\"text-align: right;\">\n",
              "      <th></th>\n",
              "      <th>Model</th>\n",
              "      <th>Accuracy</th>\n",
              "    </tr>\n",
              "  </thead>\n",
              "  <tbody>\n",
              "    <tr>\n",
              "      <th>1</th>\n",
              "      <td>cnb_10000</td>\n",
              "      <td>0.7707</td>\n",
              "    </tr>\n",
              "    <tr>\n",
              "      <th>2</th>\n",
              "      <td>cnb_5000</td>\n",
              "      <td>0.7707</td>\n",
              "    </tr>\n",
              "    <tr>\n",
              "      <th>3</th>\n",
              "      <td>cnb_1000</td>\n",
              "      <td>0.7707</td>\n",
              "    </tr>\n",
              "    <tr>\n",
              "      <th>0</th>\n",
              "      <td>cnb_none</td>\n",
              "      <td>0.7649</td>\n",
              "    </tr>\n",
              "  </tbody>\n",
              "</table>\n",
              "</div>\n",
              "      <button class=\"colab-df-convert\" onclick=\"convertToInteractive('df-5720d30f-07ba-4a01-8d7f-e9772e56cff8')\"\n",
              "              title=\"Convert this dataframe to an interactive table.\"\n",
              "              style=\"display:none;\">\n",
              "        \n",
              "  <svg xmlns=\"http://www.w3.org/2000/svg\" height=\"24px\"viewBox=\"0 0 24 24\"\n",
              "       width=\"24px\">\n",
              "    <path d=\"M0 0h24v24H0V0z\" fill=\"none\"/>\n",
              "    <path d=\"M18.56 5.44l.94 2.06.94-2.06 2.06-.94-2.06-.94-.94-2.06-.94 2.06-2.06.94zm-11 1L8.5 8.5l.94-2.06 2.06-.94-2.06-.94L8.5 2.5l-.94 2.06-2.06.94zm10 10l.94 2.06.94-2.06 2.06-.94-2.06-.94-.94-2.06-.94 2.06-2.06.94z\"/><path d=\"M17.41 7.96l-1.37-1.37c-.4-.4-.92-.59-1.43-.59-.52 0-1.04.2-1.43.59L10.3 9.45l-7.72 7.72c-.78.78-.78 2.05 0 2.83L4 21.41c.39.39.9.59 1.41.59.51 0 1.02-.2 1.41-.59l7.78-7.78 2.81-2.81c.8-.78.8-2.07 0-2.86zM5.41 20L4 18.59l7.72-7.72 1.47 1.35L5.41 20z\"/>\n",
              "  </svg>\n",
              "      </button>\n",
              "      \n",
              "  <style>\n",
              "    .colab-df-container {\n",
              "      display:flex;\n",
              "      flex-wrap:wrap;\n",
              "      gap: 12px;\n",
              "    }\n",
              "\n",
              "    .colab-df-convert {\n",
              "      background-color: #E8F0FE;\n",
              "      border: none;\n",
              "      border-radius: 50%;\n",
              "      cursor: pointer;\n",
              "      display: none;\n",
              "      fill: #1967D2;\n",
              "      height: 32px;\n",
              "      padding: 0 0 0 0;\n",
              "      width: 32px;\n",
              "    }\n",
              "\n",
              "    .colab-df-convert:hover {\n",
              "      background-color: #E2EBFA;\n",
              "      box-shadow: 0px 1px 2px rgba(60, 64, 67, 0.3), 0px 1px 3px 1px rgba(60, 64, 67, 0.15);\n",
              "      fill: #174EA6;\n",
              "    }\n",
              "\n",
              "    [theme=dark] .colab-df-convert {\n",
              "      background-color: #3B4455;\n",
              "      fill: #D2E3FC;\n",
              "    }\n",
              "\n",
              "    [theme=dark] .colab-df-convert:hover {\n",
              "      background-color: #434B5C;\n",
              "      box-shadow: 0px 1px 3px 1px rgba(0, 0, 0, 0.15);\n",
              "      filter: drop-shadow(0px 1px 2px rgba(0, 0, 0, 0.3));\n",
              "      fill: #FFFFFF;\n",
              "    }\n",
              "  </style>\n",
              "\n",
              "      <script>\n",
              "        const buttonEl =\n",
              "          document.querySelector('#df-5720d30f-07ba-4a01-8d7f-e9772e56cff8 button.colab-df-convert');\n",
              "        buttonEl.style.display =\n",
              "          google.colab.kernel.accessAllowed ? 'block' : 'none';\n",
              "\n",
              "        async function convertToInteractive(key) {\n",
              "          const element = document.querySelector('#df-5720d30f-07ba-4a01-8d7f-e9772e56cff8');\n",
              "          const dataTable =\n",
              "            await google.colab.kernel.invokeFunction('convertToInteractive',\n",
              "                                                     [key], {});\n",
              "          if (!dataTable) return;\n",
              "\n",
              "          const docLinkHtml = 'Like what you see? Visit the ' +\n",
              "            '<a target=\"_blank\" href=https://colab.research.google.com/notebooks/data_table.ipynb>data table notebook</a>'\n",
              "            + ' to learn more about interactive tables.';\n",
              "          element.innerHTML = '';\n",
              "          dataTable['output_type'] = 'display_data';\n",
              "          await google.colab.output.renderOutput(dataTable, element);\n",
              "          const docLink = document.createElement('div');\n",
              "          docLink.innerHTML = docLinkHtml;\n",
              "          element.appendChild(docLink);\n",
              "        }\n",
              "      </script>\n",
              "    </div>\n",
              "  </div>\n",
              "  "
            ]
          },
          "metadata": {},
          "execution_count": 64
        }
      ]
    },
    {
      "cell_type": "markdown",
      "source": [
        "Complement Naive Bayes Classifier(CNB) 모델의 성능은 num_words=n에 큰 영향을 받지 않는다."
      ],
      "metadata": {
        "id": "8seVy3gKU_Yu"
      }
    },
    {
      "cell_type": "markdown",
      "source": [
        "<br/>"
      ],
      "metadata": {
        "id": "tQ7mo9aswsDk"
      }
    },
    {
      "cell_type": "markdown",
      "source": [
        "#Linear Classifier"
      ],
      "metadata": {
        "id": "Vl9ypMMPQiNp"
      }
    },
    {
      "cell_type": "markdown",
      "source": [
        "##Logistic Regression"
      ],
      "metadata": {
        "id": "16XSMYSFv40J"
      }
    },
    {
      "cell_type": "code",
      "source": [
        "none_lr_model = LogisticRegression(C=10000, penalty='l2')\n",
        "none_lr_model.fit(none_tfidfv_train, none_y_train)\n",
        "none_lr_predicted = none_lr_model.predict(none_tfidfv_test) \n",
        "none_lr_accuracy = accuracy_score(none_y_test, none_lr_predicted)\n",
        "print(\"accuracy :\", none_lr_accuracy) "
      ],
      "metadata": {
        "id": "IlbtQAwnqBvf",
        "colab": {
          "base_uri": "https://localhost:8080/"
        },
        "outputId": "53fbe843-2c34-4954-9d48-e5f684de0f96"
      },
      "execution_count": null,
      "outputs": [
        {
          "output_type": "stream",
          "name": "stdout",
          "text": [
            "accuracy : 0.813446126447017\n"
          ]
        }
      ]
    },
    {
      "cell_type": "markdown",
      "source": [
        "num_words=None일 때, Logistic Regression 모델의 성능 'accuracy'는 81.34%이다."
      ],
      "metadata": {
        "id": "o4v2SMaDyXUZ"
      }
    },
    {
      "cell_type": "markdown",
      "source": [
        "<br/>"
      ],
      "metadata": {
        "id": "K1_14rc6wrVl"
      }
    },
    {
      "cell_type": "code",
      "source": [
        "ten_lr_model = LogisticRegression(C=10000, penalty='l2')\n",
        "ten_lr_model.fit(ten_tfidfv_train, ten_y_train)\n",
        "ten_lr_predicted = ten_lr_model.predict(ten_tfidfv_test) \n",
        "ten_lr_accuracy = accuracy_score(ten_y_test, ten_lr_predicted)\n",
        "print(\"accuracy :\", ten_lr_accuracy) "
      ],
      "metadata": {
        "id": "XvaVNPtayWov",
        "colab": {
          "base_uri": "https://localhost:8080/"
        },
        "outputId": "1a6e13b6-5e5c-49f2-eced-adb6a0493b6b"
      },
      "execution_count": null,
      "outputs": [
        {
          "output_type": "stream",
          "name": "stdout",
          "text": [
            "accuracy : 0.8076580587711487\n"
          ]
        }
      ]
    },
    {
      "cell_type": "markdown",
      "source": [
        "num_words=10000일 때, Logistic Regression 모델의 성능 'accuracy'는 80.77%이다."
      ],
      "metadata": {
        "id": "lE66sQj0yct_"
      }
    },
    {
      "cell_type": "markdown",
      "source": [
        "<br/>"
      ],
      "metadata": {
        "id": "HpWfZPmOwqwV"
      }
    },
    {
      "cell_type": "code",
      "source": [
        "five_lr_model = LogisticRegression(C=10000, penalty='l2')\n",
        "five_lr_model.fit(five_tfidfv_train, five_y_train)\n",
        "five_lr_predicted = five_lr_model.predict(five_tfidfv_test) \n",
        "five_lr_accuracy = accuracy_score(five_y_test, five_lr_predicted)\n",
        "print(\"accuracy :\", five_lr_accuracy) "
      ],
      "metadata": {
        "id": "8LGKszb0ycJx",
        "colab": {
          "base_uri": "https://localhost:8080/"
        },
        "outputId": "573372b8-4eb9-441d-c6c5-cb3f098fb40c"
      },
      "execution_count": null,
      "outputs": [
        {
          "output_type": "stream",
          "name": "stdout",
          "text": [
            "accuracy : 0.8058771148708815\n"
          ]
        }
      ]
    },
    {
      "cell_type": "markdown",
      "source": [
        "num_words=5000일 때, Logistic Regression 모델의 성능 'accuracy'는 80.59%이다."
      ],
      "metadata": {
        "id": "l-X03JO5ygvS"
      }
    },
    {
      "cell_type": "markdown",
      "source": [
        "<br/>"
      ],
      "metadata": {
        "id": "0rNXSwwEwpwM"
      }
    },
    {
      "cell_type": "code",
      "source": [
        "one_lr_model = LogisticRegression(C=10000, penalty='l2')\n",
        "one_lr_model.fit(one_tfidfv_train, one_y_train)\n",
        "one_lr_predicted = one_lr_model.predict(one_tfidfv_test) \n",
        "one_lr_accuracy = accuracy_score(one_y_test, one_lr_predicted)\n",
        "print(\"accuracy :\", one_lr_accuracy)  "
      ],
      "metadata": {
        "id": "6ikKCRk9ycPR",
        "colab": {
          "base_uri": "https://localhost:8080/"
        },
        "outputId": "24b70e14-40d5-4fa4-db87-51d0cea62fc8"
      },
      "execution_count": null,
      "outputs": [
        {
          "output_type": "stream",
          "name": "stdout",
          "text": [
            "accuracy : 0.8058771148708815\n"
          ]
        }
      ]
    },
    {
      "cell_type": "markdown",
      "source": [
        "num_words=1000일 때, Logistic Regression 모델의 성능 'accuracy'는 80.59%이다."
      ],
      "metadata": {
        "id": "tL1N5acJyh4Y"
      }
    },
    {
      "cell_type": "markdown",
      "source": [
        "<br/>"
      ],
      "metadata": {
        "id": "S8wZHjVFwpEH"
      }
    },
    {
      "cell_type": "code",
      "source": [
        "lr_model_comparison = [round(none_lr_accuracy, 4), round(ten_lr_accuracy, 4),\n",
        "                        round(five_lr_accuracy, 4), round(one_lr_accuracy, 4)]\n",
        "\n",
        "\n",
        "lr_model_name = ['lr_none', 'lr_10000', 'lr_5000', 'lr_1000']\n",
        "\n",
        "lr_df = pd.DataFrame({\"Model\": lr_model_name,\n",
        "                  \"Accuracy\":lr_model_comparison})\n",
        "lr_df_sorted = lr_df.sort_values('Accuracy',ascending=False)\n",
        "lr_df_sorted"
      ],
      "metadata": {
        "id": "4Hk3va6NRqWT",
        "colab": {
          "base_uri": "https://localhost:8080/",
          "height": 175
        },
        "outputId": "ef8b5c71-e1f2-415d-c78b-b4c354321430"
      },
      "execution_count": null,
      "outputs": [
        {
          "output_type": "execute_result",
          "data": {
            "text/plain": [
              "      Model  Accuracy\n",
              "0   lr_none    0.8134\n",
              "1  lr_10000    0.8077\n",
              "2   lr_5000    0.8059\n",
              "3   lr_1000    0.8059"
            ],
            "text/html": [
              "\n",
              "  <div id=\"df-1c8916aa-a1ef-433a-8254-4ea41f017fcc\">\n",
              "    <div class=\"colab-df-container\">\n",
              "      <div>\n",
              "<style scoped>\n",
              "    .dataframe tbody tr th:only-of-type {\n",
              "        vertical-align: middle;\n",
              "    }\n",
              "\n",
              "    .dataframe tbody tr th {\n",
              "        vertical-align: top;\n",
              "    }\n",
              "\n",
              "    .dataframe thead th {\n",
              "        text-align: right;\n",
              "    }\n",
              "</style>\n",
              "<table border=\"1\" class=\"dataframe\">\n",
              "  <thead>\n",
              "    <tr style=\"text-align: right;\">\n",
              "      <th></th>\n",
              "      <th>Model</th>\n",
              "      <th>Accuracy</th>\n",
              "    </tr>\n",
              "  </thead>\n",
              "  <tbody>\n",
              "    <tr>\n",
              "      <th>0</th>\n",
              "      <td>lr_none</td>\n",
              "      <td>0.8134</td>\n",
              "    </tr>\n",
              "    <tr>\n",
              "      <th>1</th>\n",
              "      <td>lr_10000</td>\n",
              "      <td>0.8077</td>\n",
              "    </tr>\n",
              "    <tr>\n",
              "      <th>2</th>\n",
              "      <td>lr_5000</td>\n",
              "      <td>0.8059</td>\n",
              "    </tr>\n",
              "    <tr>\n",
              "      <th>3</th>\n",
              "      <td>lr_1000</td>\n",
              "      <td>0.8059</td>\n",
              "    </tr>\n",
              "  </tbody>\n",
              "</table>\n",
              "</div>\n",
              "      <button class=\"colab-df-convert\" onclick=\"convertToInteractive('df-1c8916aa-a1ef-433a-8254-4ea41f017fcc')\"\n",
              "              title=\"Convert this dataframe to an interactive table.\"\n",
              "              style=\"display:none;\">\n",
              "        \n",
              "  <svg xmlns=\"http://www.w3.org/2000/svg\" height=\"24px\"viewBox=\"0 0 24 24\"\n",
              "       width=\"24px\">\n",
              "    <path d=\"M0 0h24v24H0V0z\" fill=\"none\"/>\n",
              "    <path d=\"M18.56 5.44l.94 2.06.94-2.06 2.06-.94-2.06-.94-.94-2.06-.94 2.06-2.06.94zm-11 1L8.5 8.5l.94-2.06 2.06-.94-2.06-.94L8.5 2.5l-.94 2.06-2.06.94zm10 10l.94 2.06.94-2.06 2.06-.94-2.06-.94-.94-2.06-.94 2.06-2.06.94z\"/><path d=\"M17.41 7.96l-1.37-1.37c-.4-.4-.92-.59-1.43-.59-.52 0-1.04.2-1.43.59L10.3 9.45l-7.72 7.72c-.78.78-.78 2.05 0 2.83L4 21.41c.39.39.9.59 1.41.59.51 0 1.02-.2 1.41-.59l7.78-7.78 2.81-2.81c.8-.78.8-2.07 0-2.86zM5.41 20L4 18.59l7.72-7.72 1.47 1.35L5.41 20z\"/>\n",
              "  </svg>\n",
              "      </button>\n",
              "      \n",
              "  <style>\n",
              "    .colab-df-container {\n",
              "      display:flex;\n",
              "      flex-wrap:wrap;\n",
              "      gap: 12px;\n",
              "    }\n",
              "\n",
              "    .colab-df-convert {\n",
              "      background-color: #E8F0FE;\n",
              "      border: none;\n",
              "      border-radius: 50%;\n",
              "      cursor: pointer;\n",
              "      display: none;\n",
              "      fill: #1967D2;\n",
              "      height: 32px;\n",
              "      padding: 0 0 0 0;\n",
              "      width: 32px;\n",
              "    }\n",
              "\n",
              "    .colab-df-convert:hover {\n",
              "      background-color: #E2EBFA;\n",
              "      box-shadow: 0px 1px 2px rgba(60, 64, 67, 0.3), 0px 1px 3px 1px rgba(60, 64, 67, 0.15);\n",
              "      fill: #174EA6;\n",
              "    }\n",
              "\n",
              "    [theme=dark] .colab-df-convert {\n",
              "      background-color: #3B4455;\n",
              "      fill: #D2E3FC;\n",
              "    }\n",
              "\n",
              "    [theme=dark] .colab-df-convert:hover {\n",
              "      background-color: #434B5C;\n",
              "      box-shadow: 0px 1px 3px 1px rgba(0, 0, 0, 0.15);\n",
              "      filter: drop-shadow(0px 1px 2px rgba(0, 0, 0, 0.3));\n",
              "      fill: #FFFFFF;\n",
              "    }\n",
              "  </style>\n",
              "\n",
              "      <script>\n",
              "        const buttonEl =\n",
              "          document.querySelector('#df-1c8916aa-a1ef-433a-8254-4ea41f017fcc button.colab-df-convert');\n",
              "        buttonEl.style.display =\n",
              "          google.colab.kernel.accessAllowed ? 'block' : 'none';\n",
              "\n",
              "        async function convertToInteractive(key) {\n",
              "          const element = document.querySelector('#df-1c8916aa-a1ef-433a-8254-4ea41f017fcc');\n",
              "          const dataTable =\n",
              "            await google.colab.kernel.invokeFunction('convertToInteractive',\n",
              "                                                     [key], {});\n",
              "          if (!dataTable) return;\n",
              "\n",
              "          const docLinkHtml = 'Like what you see? Visit the ' +\n",
              "            '<a target=\"_blank\" href=https://colab.research.google.com/notebooks/data_table.ipynb>data table notebook</a>'\n",
              "            + ' to learn more about interactive tables.';\n",
              "          element.innerHTML = '';\n",
              "          dataTable['output_type'] = 'display_data';\n",
              "          await google.colab.output.renderOutput(dataTable, element);\n",
              "          const docLink = document.createElement('div');\n",
              "          docLink.innerHTML = docLinkHtml;\n",
              "          element.appendChild(docLink);\n",
              "        }\n",
              "      </script>\n",
              "    </div>\n",
              "  </div>\n",
              "  "
            ]
          },
          "metadata": {},
          "execution_count": 69
        }
      ]
    },
    {
      "cell_type": "markdown",
      "source": [
        "num_words=n에서 n이 클수록 Logistic Regression  모델의 성능이 높다."
      ],
      "metadata": {
        "id": "bdL8BbquWUIn"
      }
    },
    {
      "cell_type": "markdown",
      "source": [
        "<br/>"
      ],
      "metadata": {
        "id": "l2rAzX-kwogS"
      }
    },
    {
      "cell_type": "markdown",
      "source": [
        "##Passive Aggressive Classifier"
      ],
      "metadata": {
        "id": "C9TL1dpCQaQ4"
      }
    },
    {
      "cell_type": "code",
      "source": [
        "none_passiveagre_model = PassiveAggressiveClassifier(max_iter=1000, random_state=0)\n",
        "none_passiveagre_model.fit(none_tfidfv_train, none_y_train)\n",
        "none_passiveagre_predicted = none_passiveagre_model.predict(none_tfidfv_test) \n",
        "none_passiveagre_accuracy = accuracy_score(none_y_test, none_passiveagre_predicted)\n",
        "print(\"accuracy :\", none_passiveagre_accuracy) "
      ],
      "metadata": {
        "id": "R7IJowl-QZ3p",
        "colab": {
          "base_uri": "https://localhost:8080/"
        },
        "outputId": "753bfa60-2ce9-4da0-f0d1-503bd8e95416"
      },
      "execution_count": null,
      "outputs": [
        {
          "output_type": "stream",
          "name": "stdout",
          "text": [
            "accuracy : 0.8143365983971504\n"
          ]
        }
      ]
    },
    {
      "cell_type": "markdown",
      "source": [
        "num_words=None일 때, Passive Aggressive Classifier 모델의 성능 'accuracy'는 81.43%이다."
      ],
      "metadata": {
        "id": "N281vsPAprWK"
      }
    },
    {
      "cell_type": "markdown",
      "source": [
        "<br/>"
      ],
      "metadata": {
        "id": "Wrm8AJR_wn8h"
      }
    },
    {
      "cell_type": "code",
      "source": [
        "ten_passiveagre_model = PassiveAggressiveClassifier(max_iter=1000, random_state=0)\n",
        "ten_passiveagre_model.fit(ten_tfidfv_train, ten_y_train)\n",
        "ten_passiveagre_predicted = ten_passiveagre_model.predict(ten_tfidfv_test) \n",
        "ten_passiveagre_accuracy = accuracy_score(ten_y_test, ten_passiveagre_predicted)\n",
        "print(\"accuracy :\", ten_passiveagre_accuracy) "
      ],
      "metadata": {
        "id": "xLSgPNhHpMhl",
        "colab": {
          "base_uri": "https://localhost:8080/"
        },
        "outputId": "6e862000-bb93-4afe-c80a-fd3361cc97e0"
      },
      "execution_count": null,
      "outputs": [
        {
          "output_type": "stream",
          "name": "stdout",
          "text": [
            "accuracy : 0.8076580587711487\n"
          ]
        }
      ]
    },
    {
      "cell_type": "markdown",
      "source": [
        "num_words=10000일 때, Passive Aggressive Classifier 모델의 성능 'accuracy'는 80.77%이다."
      ],
      "metadata": {
        "id": "RDmEozz3ps00"
      }
    },
    {
      "cell_type": "markdown",
      "source": [
        "<br/>"
      ],
      "metadata": {
        "id": "4PJSQVyTwnZm"
      }
    },
    {
      "cell_type": "code",
      "source": [
        "five_passiveagre_model = PassiveAggressiveClassifier(max_iter=1000, random_state=0)\n",
        "five_passiveagre_model.fit(five_tfidfv_train, five_y_train)\n",
        "five_passiveagre_predicted = five_passiveagre_model.predict(five_tfidfv_test) \n",
        "five_passiveagre_accuracy = accuracy_score(five_y_test, five_passiveagre_predicted)\n",
        "print(\"accuracy :\", five_passiveagre_accuracy) "
      ],
      "metadata": {
        "id": "2xq2y68VpMmA",
        "colab": {
          "base_uri": "https://localhost:8080/"
        },
        "outputId": "da2ed46f-4f36-4394-f3af-8402e4a38f06"
      },
      "execution_count": null,
      "outputs": [
        {
          "output_type": "stream",
          "name": "stdout",
          "text": [
            "accuracy : 0.8040961709706145\n"
          ]
        }
      ]
    },
    {
      "cell_type": "markdown",
      "source": [
        "num_words=5000일 때, Passive Aggressive Classifier 모델의 성능 'accuracy'는 80.41%이다."
      ],
      "metadata": {
        "id": "SN1Cy5xGptjr"
      }
    },
    {
      "cell_type": "markdown",
      "source": [
        "<br/>"
      ],
      "metadata": {
        "id": "yfoJokqlwm6O"
      }
    },
    {
      "cell_type": "code",
      "source": [
        "one_passiveagre_model = PassiveAggressiveClassifier(max_iter=1000, random_state=0)\n",
        "one_passiveagre_model.fit(one_tfidfv_train, one_y_train)\n",
        "one_passiveagre_predicted = one_passiveagre_model.predict(one_tfidfv_test) \n",
        "one_passiveagre_accuracy = accuracy_score(one_y_test, one_passiveagre_predicted)\n",
        "print(\"accuracy :\", one_passiveagre_accuracy) "
      ],
      "metadata": {
        "id": "zIIw_k_8pMue",
        "colab": {
          "base_uri": "https://localhost:8080/"
        },
        "outputId": "873e2c16-bbc4-4fe5-a2b8-8d6b38b82a4c"
      },
      "execution_count": null,
      "outputs": [
        {
          "output_type": "stream",
          "name": "stdout",
          "text": [
            "accuracy : 0.8040961709706145\n"
          ]
        }
      ]
    },
    {
      "cell_type": "markdown",
      "source": [
        "num_words=1000일 때, Passive Aggressive Classifier 모델의 성능 'accuracy'는 80.41%이다."
      ],
      "metadata": {
        "id": "_3ERMrFKpu6k"
      }
    },
    {
      "cell_type": "markdown",
      "source": [
        "<br/>"
      ],
      "metadata": {
        "id": "AjhqrGbTwmSS"
      }
    },
    {
      "cell_type": "code",
      "source": [
        "passiveagre_model_comparison = [round(none_passiveagre_accuracy, 4), round(ten_passiveagre_accuracy, 4),\n",
        "                        round(five_passiveagre_accuracy, 4), round(one_passiveagre_accuracy, 4)]\n",
        "\n",
        "passiveagre_model_name = ['passiveagre_none', 'passiveagre_10000', 'passiveagre_5000', 'passiveagre_1000']\n",
        "\n",
        "passiveagre_df = pd.DataFrame({\"Model\": passiveagre_model_name,\n",
        "                  \"Accuracy\":passiveagre_model_comparison})\n",
        "passiveagre_df_sorted = passiveagre_df.sort_values('Accuracy',ascending=False)\n",
        "passiveagre_df_sorted"
      ],
      "metadata": {
        "id": "ZDIiC4tUSGy4",
        "colab": {
          "base_uri": "https://localhost:8080/",
          "height": 175
        },
        "outputId": "49a5d02a-7c97-4a6f-a952-1adde959d855"
      },
      "execution_count": null,
      "outputs": [
        {
          "output_type": "execute_result",
          "data": {
            "text/plain": [
              "               Model  Accuracy\n",
              "0   passiveagre_none    0.8143\n",
              "1  passiveagre_10000    0.8077\n",
              "2   passiveagre_5000    0.8041\n",
              "3   passiveagre_1000    0.8041"
            ],
            "text/html": [
              "\n",
              "  <div id=\"df-fbfbe8cb-e1d9-4600-8cdf-6c110f627790\">\n",
              "    <div class=\"colab-df-container\">\n",
              "      <div>\n",
              "<style scoped>\n",
              "    .dataframe tbody tr th:only-of-type {\n",
              "        vertical-align: middle;\n",
              "    }\n",
              "\n",
              "    .dataframe tbody tr th {\n",
              "        vertical-align: top;\n",
              "    }\n",
              "\n",
              "    .dataframe thead th {\n",
              "        text-align: right;\n",
              "    }\n",
              "</style>\n",
              "<table border=\"1\" class=\"dataframe\">\n",
              "  <thead>\n",
              "    <tr style=\"text-align: right;\">\n",
              "      <th></th>\n",
              "      <th>Model</th>\n",
              "      <th>Accuracy</th>\n",
              "    </tr>\n",
              "  </thead>\n",
              "  <tbody>\n",
              "    <tr>\n",
              "      <th>0</th>\n",
              "      <td>passiveagre_none</td>\n",
              "      <td>0.8143</td>\n",
              "    </tr>\n",
              "    <tr>\n",
              "      <th>1</th>\n",
              "      <td>passiveagre_10000</td>\n",
              "      <td>0.8077</td>\n",
              "    </tr>\n",
              "    <tr>\n",
              "      <th>2</th>\n",
              "      <td>passiveagre_5000</td>\n",
              "      <td>0.8041</td>\n",
              "    </tr>\n",
              "    <tr>\n",
              "      <th>3</th>\n",
              "      <td>passiveagre_1000</td>\n",
              "      <td>0.8041</td>\n",
              "    </tr>\n",
              "  </tbody>\n",
              "</table>\n",
              "</div>\n",
              "      <button class=\"colab-df-convert\" onclick=\"convertToInteractive('df-fbfbe8cb-e1d9-4600-8cdf-6c110f627790')\"\n",
              "              title=\"Convert this dataframe to an interactive table.\"\n",
              "              style=\"display:none;\">\n",
              "        \n",
              "  <svg xmlns=\"http://www.w3.org/2000/svg\" height=\"24px\"viewBox=\"0 0 24 24\"\n",
              "       width=\"24px\">\n",
              "    <path d=\"M0 0h24v24H0V0z\" fill=\"none\"/>\n",
              "    <path d=\"M18.56 5.44l.94 2.06.94-2.06 2.06-.94-2.06-.94-.94-2.06-.94 2.06-2.06.94zm-11 1L8.5 8.5l.94-2.06 2.06-.94-2.06-.94L8.5 2.5l-.94 2.06-2.06.94zm10 10l.94 2.06.94-2.06 2.06-.94-2.06-.94-.94-2.06-.94 2.06-2.06.94z\"/><path d=\"M17.41 7.96l-1.37-1.37c-.4-.4-.92-.59-1.43-.59-.52 0-1.04.2-1.43.59L10.3 9.45l-7.72 7.72c-.78.78-.78 2.05 0 2.83L4 21.41c.39.39.9.59 1.41.59.51 0 1.02-.2 1.41-.59l7.78-7.78 2.81-2.81c.8-.78.8-2.07 0-2.86zM5.41 20L4 18.59l7.72-7.72 1.47 1.35L5.41 20z\"/>\n",
              "  </svg>\n",
              "      </button>\n",
              "      \n",
              "  <style>\n",
              "    .colab-df-container {\n",
              "      display:flex;\n",
              "      flex-wrap:wrap;\n",
              "      gap: 12px;\n",
              "    }\n",
              "\n",
              "    .colab-df-convert {\n",
              "      background-color: #E8F0FE;\n",
              "      border: none;\n",
              "      border-radius: 50%;\n",
              "      cursor: pointer;\n",
              "      display: none;\n",
              "      fill: #1967D2;\n",
              "      height: 32px;\n",
              "      padding: 0 0 0 0;\n",
              "      width: 32px;\n",
              "    }\n",
              "\n",
              "    .colab-df-convert:hover {\n",
              "      background-color: #E2EBFA;\n",
              "      box-shadow: 0px 1px 2px rgba(60, 64, 67, 0.3), 0px 1px 3px 1px rgba(60, 64, 67, 0.15);\n",
              "      fill: #174EA6;\n",
              "    }\n",
              "\n",
              "    [theme=dark] .colab-df-convert {\n",
              "      background-color: #3B4455;\n",
              "      fill: #D2E3FC;\n",
              "    }\n",
              "\n",
              "    [theme=dark] .colab-df-convert:hover {\n",
              "      background-color: #434B5C;\n",
              "      box-shadow: 0px 1px 3px 1px rgba(0, 0, 0, 0.15);\n",
              "      filter: drop-shadow(0px 1px 2px rgba(0, 0, 0, 0.3));\n",
              "      fill: #FFFFFF;\n",
              "    }\n",
              "  </style>\n",
              "\n",
              "      <script>\n",
              "        const buttonEl =\n",
              "          document.querySelector('#df-fbfbe8cb-e1d9-4600-8cdf-6c110f627790 button.colab-df-convert');\n",
              "        buttonEl.style.display =\n",
              "          google.colab.kernel.accessAllowed ? 'block' : 'none';\n",
              "\n",
              "        async function convertToInteractive(key) {\n",
              "          const element = document.querySelector('#df-fbfbe8cb-e1d9-4600-8cdf-6c110f627790');\n",
              "          const dataTable =\n",
              "            await google.colab.kernel.invokeFunction('convertToInteractive',\n",
              "                                                     [key], {});\n",
              "          if (!dataTable) return;\n",
              "\n",
              "          const docLinkHtml = 'Like what you see? Visit the ' +\n",
              "            '<a target=\"_blank\" href=https://colab.research.google.com/notebooks/data_table.ipynb>data table notebook</a>'\n",
              "            + ' to learn more about interactive tables.';\n",
              "          element.innerHTML = '';\n",
              "          dataTable['output_type'] = 'display_data';\n",
              "          await google.colab.output.renderOutput(dataTable, element);\n",
              "          const docLink = document.createElement('div');\n",
              "          docLink.innerHTML = docLinkHtml;\n",
              "          element.appendChild(docLink);\n",
              "        }\n",
              "      </script>\n",
              "    </div>\n",
              "  </div>\n",
              "  "
            ]
          },
          "metadata": {},
          "execution_count": 74
        }
      ]
    },
    {
      "cell_type": "markdown",
      "source": [
        "num_words=n에서 n이 클수록 Passive Aggressive Classifier 모델의 성능이 높다."
      ],
      "metadata": {
        "id": "Nfd12uUAXR4a"
      }
    },
    {
      "cell_type": "markdown",
      "source": [
        "<br/>"
      ],
      "metadata": {
        "id": "J1UL1ewewlpO"
      }
    },
    {
      "cell_type": "markdown",
      "source": [
        "##Ridge Classifier"
      ],
      "metadata": {
        "id": "C84QdajLTdJB"
      }
    },
    {
      "cell_type": "code",
      "source": [
        "none_ridge_model =  RidgeClassifier()\n",
        "none_ridge_model.fit(none_tfidfv_train, none_y_train)\n",
        "none_ridge_predicted = none_ridge_model.predict(none_tfidfv_test) \n",
        "none_ridge_accuracy = accuracy_score(none_y_test, none_ridge_predicted)\n",
        "print(\"accuracy :\", none_ridge_accuracy) "
      ],
      "metadata": {
        "id": "pYo5sYfNp5vL",
        "colab": {
          "base_uri": "https://localhost:8080/"
        },
        "outputId": "085f24fe-bb43-44fd-a3b9-45b531748a97"
      },
      "execution_count": null,
      "outputs": [
        {
          "output_type": "stream",
          "name": "stdout",
          "text": [
            "accuracy : 0.8392698130008904\n"
          ]
        }
      ]
    },
    {
      "cell_type": "markdown",
      "source": [
        "num_words=None일 때, Ridge Classifier모델의 성능 'accuracy'는 83.93%이다."
      ],
      "metadata": {
        "id": "ZB_j-dVFqZp9"
      }
    },
    {
      "cell_type": "code",
      "source": [
        "ten_ridge_model =  RidgeClassifier()\n",
        "ten_ridge_model.fit(ten_tfidfv_train, ten_y_train)\n",
        "ten_ridge_predicted = ten_ridge_model.predict(ten_tfidfv_test) \n",
        "ten_ridge_accuracy = accuracy_score(ten_y_test, ten_ridge_predicted)\n",
        "print(\"accuracy :\", ten_ridge_accuracy) "
      ],
      "metadata": {
        "id": "1YnC2JPLqBya",
        "colab": {
          "base_uri": "https://localhost:8080/"
        },
        "outputId": "e8b929a4-48d9-48dd-a087-cab2750cf2d5"
      },
      "execution_count": null,
      "outputs": [
        {
          "output_type": "stream",
          "name": "stdout",
          "text": [
            "accuracy : 0.8392698130008904\n"
          ]
        }
      ]
    },
    {
      "cell_type": "markdown",
      "source": [
        "num_words=10000일 때, Ridge Classifier 모델의 성능 'accuracy'는 83.93%이다."
      ],
      "metadata": {
        "id": "agDnzSZqqbcc"
      }
    },
    {
      "cell_type": "markdown",
      "source": [
        "<br/>"
      ],
      "metadata": {
        "id": "75VIfLVgwk7U"
      }
    },
    {
      "cell_type": "code",
      "source": [
        "five_ridge_model =  RidgeClassifier()\n",
        "five_ridge_model.fit(five_tfidfv_train, five_y_train)\n",
        "five_ridge_predicted = five_ridge_model.predict(five_tfidfv_test) \n",
        "five_ridge_accuracy = accuracy_score(five_y_test, five_ridge_predicted)\n",
        "print(\"accuracy :\", five_ridge_accuracy) "
      ],
      "metadata": {
        "id": "-OZh84dsqB3z",
        "colab": {
          "base_uri": "https://localhost:8080/"
        },
        "outputId": "9fc13327-b1ba-4751-cd98-6103b6d73615"
      },
      "execution_count": null,
      "outputs": [
        {
          "output_type": "stream",
          "name": "stdout",
          "text": [
            "accuracy : 0.8379341050756901\n"
          ]
        }
      ]
    },
    {
      "cell_type": "markdown",
      "source": [
        "num_words=5000일 때, Ridge Classifier 모델의 성능 'accuracy'는 83.79%이다."
      ],
      "metadata": {
        "id": "HrnY8mWEqcpU"
      }
    },
    {
      "cell_type": "markdown",
      "source": [
        "<br/>"
      ],
      "metadata": {
        "id": "dq6dqmufwkRO"
      }
    },
    {
      "cell_type": "code",
      "source": [
        "one_ridge_model =  RidgeClassifier()\n",
        "one_ridge_model.fit(one_tfidfv_train, one_y_train)\n",
        "one_ridge_predicted = one_ridge_model.predict(one_tfidfv_test) \n",
        "one_ridge_accuracy = accuracy_score(one_y_test, one_ridge_predicted)\n",
        "print(\"accuracy :\", one_ridge_accuracy) "
      ],
      "metadata": {
        "id": "Eyy9J0Q4qB8Q",
        "colab": {
          "base_uri": "https://localhost:8080/"
        },
        "outputId": "c749ea97-df13-41dc-eeab-b721f838a566"
      },
      "execution_count": null,
      "outputs": [
        {
          "output_type": "stream",
          "name": "stdout",
          "text": [
            "accuracy : 0.8379341050756901\n"
          ]
        }
      ]
    },
    {
      "cell_type": "markdown",
      "source": [
        "num_words=1000일 때, Ridge Classifier 모델의 성능 'accuracy'는 83.79%이다."
      ],
      "metadata": {
        "id": "_ORoEFMoqd4i"
      }
    },
    {
      "cell_type": "markdown",
      "source": [
        "<br/>"
      ],
      "metadata": {
        "id": "4U--4vz0wj9D"
      }
    },
    {
      "cell_type": "code",
      "source": [
        "ridge_model_comparison = [round(none_ridge_accuracy, 4), round(ten_ridge_accuracy, 4),\n",
        "                        round(five_ridge_accuracy, 4), round(one_ridge_accuracy, 4)]\n",
        "\n",
        "ridge_model_name = ['ridge_none', 'ridge_10000', 'ridge_5000', 'ridge_1000']\n",
        "\n",
        "ridge_df = pd.DataFrame({\"Model\": ridge_model_name,\n",
        "                  \"Accuracy\":ridge_model_comparison})\n",
        "ridge_df_sorted = ridge_df.sort_values('Accuracy',ascending=False)\n",
        "ridge_df_sorted"
      ],
      "metadata": {
        "id": "9Vzvi5tTSZIS",
        "colab": {
          "base_uri": "https://localhost:8080/",
          "height": 175
        },
        "outputId": "8fd0d519-21d6-4014-fc79-1b4541b7a099"
      },
      "execution_count": null,
      "outputs": [
        {
          "output_type": "execute_result",
          "data": {
            "text/plain": [
              "         Model  Accuracy\n",
              "0   ridge_none    0.8393\n",
              "1  ridge_10000    0.8393\n",
              "2   ridge_5000    0.8379\n",
              "3   ridge_1000    0.8379"
            ],
            "text/html": [
              "\n",
              "  <div id=\"df-2b47ac8c-62fd-454b-a059-88ec0bc6298c\">\n",
              "    <div class=\"colab-df-container\">\n",
              "      <div>\n",
              "<style scoped>\n",
              "    .dataframe tbody tr th:only-of-type {\n",
              "        vertical-align: middle;\n",
              "    }\n",
              "\n",
              "    .dataframe tbody tr th {\n",
              "        vertical-align: top;\n",
              "    }\n",
              "\n",
              "    .dataframe thead th {\n",
              "        text-align: right;\n",
              "    }\n",
              "</style>\n",
              "<table border=\"1\" class=\"dataframe\">\n",
              "  <thead>\n",
              "    <tr style=\"text-align: right;\">\n",
              "      <th></th>\n",
              "      <th>Model</th>\n",
              "      <th>Accuracy</th>\n",
              "    </tr>\n",
              "  </thead>\n",
              "  <tbody>\n",
              "    <tr>\n",
              "      <th>0</th>\n",
              "      <td>ridge_none</td>\n",
              "      <td>0.8393</td>\n",
              "    </tr>\n",
              "    <tr>\n",
              "      <th>1</th>\n",
              "      <td>ridge_10000</td>\n",
              "      <td>0.8393</td>\n",
              "    </tr>\n",
              "    <tr>\n",
              "      <th>2</th>\n",
              "      <td>ridge_5000</td>\n",
              "      <td>0.8379</td>\n",
              "    </tr>\n",
              "    <tr>\n",
              "      <th>3</th>\n",
              "      <td>ridge_1000</td>\n",
              "      <td>0.8379</td>\n",
              "    </tr>\n",
              "  </tbody>\n",
              "</table>\n",
              "</div>\n",
              "      <button class=\"colab-df-convert\" onclick=\"convertToInteractive('df-2b47ac8c-62fd-454b-a059-88ec0bc6298c')\"\n",
              "              title=\"Convert this dataframe to an interactive table.\"\n",
              "              style=\"display:none;\">\n",
              "        \n",
              "  <svg xmlns=\"http://www.w3.org/2000/svg\" height=\"24px\"viewBox=\"0 0 24 24\"\n",
              "       width=\"24px\">\n",
              "    <path d=\"M0 0h24v24H0V0z\" fill=\"none\"/>\n",
              "    <path d=\"M18.56 5.44l.94 2.06.94-2.06 2.06-.94-2.06-.94-.94-2.06-.94 2.06-2.06.94zm-11 1L8.5 8.5l.94-2.06 2.06-.94-2.06-.94L8.5 2.5l-.94 2.06-2.06.94zm10 10l.94 2.06.94-2.06 2.06-.94-2.06-.94-.94-2.06-.94 2.06-2.06.94z\"/><path d=\"M17.41 7.96l-1.37-1.37c-.4-.4-.92-.59-1.43-.59-.52 0-1.04.2-1.43.59L10.3 9.45l-7.72 7.72c-.78.78-.78 2.05 0 2.83L4 21.41c.39.39.9.59 1.41.59.51 0 1.02-.2 1.41-.59l7.78-7.78 2.81-2.81c.8-.78.8-2.07 0-2.86zM5.41 20L4 18.59l7.72-7.72 1.47 1.35L5.41 20z\"/>\n",
              "  </svg>\n",
              "      </button>\n",
              "      \n",
              "  <style>\n",
              "    .colab-df-container {\n",
              "      display:flex;\n",
              "      flex-wrap:wrap;\n",
              "      gap: 12px;\n",
              "    }\n",
              "\n",
              "    .colab-df-convert {\n",
              "      background-color: #E8F0FE;\n",
              "      border: none;\n",
              "      border-radius: 50%;\n",
              "      cursor: pointer;\n",
              "      display: none;\n",
              "      fill: #1967D2;\n",
              "      height: 32px;\n",
              "      padding: 0 0 0 0;\n",
              "      width: 32px;\n",
              "    }\n",
              "\n",
              "    .colab-df-convert:hover {\n",
              "      background-color: #E2EBFA;\n",
              "      box-shadow: 0px 1px 2px rgba(60, 64, 67, 0.3), 0px 1px 3px 1px rgba(60, 64, 67, 0.15);\n",
              "      fill: #174EA6;\n",
              "    }\n",
              "\n",
              "    [theme=dark] .colab-df-convert {\n",
              "      background-color: #3B4455;\n",
              "      fill: #D2E3FC;\n",
              "    }\n",
              "\n",
              "    [theme=dark] .colab-df-convert:hover {\n",
              "      background-color: #434B5C;\n",
              "      box-shadow: 0px 1px 3px 1px rgba(0, 0, 0, 0.15);\n",
              "      filter: drop-shadow(0px 1px 2px rgba(0, 0, 0, 0.3));\n",
              "      fill: #FFFFFF;\n",
              "    }\n",
              "  </style>\n",
              "\n",
              "      <script>\n",
              "        const buttonEl =\n",
              "          document.querySelector('#df-2b47ac8c-62fd-454b-a059-88ec0bc6298c button.colab-df-convert');\n",
              "        buttonEl.style.display =\n",
              "          google.colab.kernel.accessAllowed ? 'block' : 'none';\n",
              "\n",
              "        async function convertToInteractive(key) {\n",
              "          const element = document.querySelector('#df-2b47ac8c-62fd-454b-a059-88ec0bc6298c');\n",
              "          const dataTable =\n",
              "            await google.colab.kernel.invokeFunction('convertToInteractive',\n",
              "                                                     [key], {});\n",
              "          if (!dataTable) return;\n",
              "\n",
              "          const docLinkHtml = 'Like what you see? Visit the ' +\n",
              "            '<a target=\"_blank\" href=https://colab.research.google.com/notebooks/data_table.ipynb>data table notebook</a>'\n",
              "            + ' to learn more about interactive tables.';\n",
              "          element.innerHTML = '';\n",
              "          dataTable['output_type'] = 'display_data';\n",
              "          await google.colab.output.renderOutput(dataTable, element);\n",
              "          const docLink = document.createElement('div');\n",
              "          docLink.innerHTML = docLinkHtml;\n",
              "          element.appendChild(docLink);\n",
              "        }\n",
              "      </script>\n",
              "    </div>\n",
              "  </div>\n",
              "  "
            ]
          },
          "metadata": {},
          "execution_count": 79
        }
      ]
    },
    {
      "cell_type": "markdown",
      "source": [
        "num_words=n에서 n이 클수록 Ridge Classifier 모델의 성능이 높다."
      ],
      "metadata": {
        "id": "mMPSPeWFXwAQ"
      }
    },
    {
      "cell_type": "markdown",
      "source": [
        "<br/>"
      ],
      "metadata": {
        "id": "3eMYyDAxwi-t"
      }
    },
    {
      "cell_type": "markdown",
      "source": [
        "##SGD Classifier"
      ],
      "metadata": {
        "id": "SNj0BRsGzZT5"
      }
    },
    {
      "cell_type": "code",
      "source": [
        "none_sgd_model = SGDClassifier()\n",
        "none_sgd_model.fit(none_tfidfv_train, none_y_train)\n",
        "none_sgd_predicted = none_sgd_model.predict(none_tfidfv_test) \n",
        "none_sgd_accuracy = accuracy_score(none_y_test, none_sgd_predicted)\n",
        "print(\"accuracy :\", none_sgd_accuracy) "
      ],
      "metadata": {
        "id": "k9282YX713gg",
        "colab": {
          "base_uri": "https://localhost:8080/"
        },
        "outputId": "f2743307-9cec-44f7-e8fa-882d341f2f54"
      },
      "execution_count": null,
      "outputs": [
        {
          "output_type": "stream",
          "name": "stdout",
          "text": [
            "accuracy : 0.8441674087266251\n"
          ]
        }
      ]
    },
    {
      "cell_type": "markdown",
      "source": [
        "num_words=None일 때, SGD Classifier 모델의 성능 'accuracy'는 84.42%이다."
      ],
      "metadata": {
        "id": "oaM8wD7R8PMZ"
      }
    },
    {
      "cell_type": "markdown",
      "source": [
        "<br/>"
      ],
      "metadata": {
        "id": "o7mEF6tfwiaN"
      }
    },
    {
      "cell_type": "code",
      "source": [
        "ten_sgd_model = SGDClassifier()\n",
        "ten_sgd_model.fit(ten_tfidfv_train, ten_y_train)\n",
        "ten_sgd_predicted = ten_sgd_model.predict(ten_tfidfv_test) \n",
        "ten_sgd_accuracy = accuracy_score(ten_y_test, ten_sgd_predicted)\n",
        "print(\"accuracy :\", ten_sgd_accuracy) "
      ],
      "metadata": {
        "id": "DnMuF90I5LqI",
        "colab": {
          "base_uri": "https://localhost:8080/"
        },
        "outputId": "4f0ca2e2-3971-4631-f08f-8169136d349f"
      },
      "execution_count": null,
      "outputs": [
        {
          "output_type": "stream",
          "name": "stdout",
          "text": [
            "accuracy : 0.8410507569011576\n"
          ]
        }
      ]
    },
    {
      "cell_type": "markdown",
      "source": [
        "num_words=10000일 때, SGD Classifier 모델의 성능 'accuracy'는 84.11%이다."
      ],
      "metadata": {
        "id": "1sd2zinT8QSA"
      }
    },
    {
      "cell_type": "markdown",
      "source": [
        "<br/>"
      ],
      "metadata": {
        "id": "ClcfcWinwhwp"
      }
    },
    {
      "cell_type": "code",
      "source": [
        "five_sgd_model = SGDClassifier()\n",
        "five_sgd_model.fit(five_tfidfv_train, five_y_train)\n",
        "five_sgd_predicted = five_sgd_model.predict(five_tfidfv_test) \n",
        "five_sgd_accuracy = accuracy_score(five_y_test, five_sgd_predicted)\n",
        "print(\"accuracy :\", five_sgd_accuracy) "
      ],
      "metadata": {
        "id": "djkd89AT5Luv",
        "colab": {
          "base_uri": "https://localhost:8080/"
        },
        "outputId": "af2328c8-ab36-45a9-ca21-1cdbe6318f13"
      },
      "execution_count": null,
      "outputs": [
        {
          "output_type": "stream",
          "name": "stdout",
          "text": [
            "accuracy : 0.8406055209260909\n"
          ]
        }
      ]
    },
    {
      "cell_type": "markdown",
      "source": [
        "num_words=5000일 때, SGD Classifier 모델의 성능 'accuracy'는 84.06%이다."
      ],
      "metadata": {
        "id": "V8Xphkiy8RyI"
      }
    },
    {
      "cell_type": "markdown",
      "source": [
        "<br/>"
      ],
      "metadata": {
        "id": "a7Sz2AlSwhMF"
      }
    },
    {
      "cell_type": "code",
      "source": [
        "one_sgd_model = SGDClassifier()\n",
        "one_sgd_model.fit(one_tfidfv_train, one_y_train)\n",
        "one_sgd_predicted = one_sgd_model.predict(one_tfidfv_test) \n",
        "one_sgd_accuracy = accuracy_score(one_y_test, one_sgd_predicted)\n",
        "print(\"accuracy :\", one_sgd_accuracy) "
      ],
      "metadata": {
        "id": "Hl0FWQge5Lzu",
        "colab": {
          "base_uri": "https://localhost:8080/"
        },
        "outputId": "12b6fe73-3853-433e-f172-9ce9a2dafe3a"
      },
      "execution_count": null,
      "outputs": [
        {
          "output_type": "stream",
          "name": "stdout",
          "text": [
            "accuracy : 0.8406055209260909\n"
          ]
        }
      ]
    },
    {
      "cell_type": "markdown",
      "source": [
        "num_words=1000일 때, SGD Classifier 모델의 성능 'accuracy'는 84.06%이다.\n"
      ],
      "metadata": {
        "id": "Dre-9RYe8Sv4"
      }
    },
    {
      "cell_type": "markdown",
      "source": [
        "<br/>"
      ],
      "metadata": {
        "id": "qkJSVbujwgmO"
      }
    },
    {
      "cell_type": "code",
      "source": [
        "sgd_model_comparison = [round(none_sgd_accuracy, 4), round(ten_sgd_accuracy, 4),\n",
        "                        round(five_sgd_accuracy, 4), round(one_sgd_accuracy, 4)]\n",
        "\n",
        "sgd_model_name = ['sgd_none', 'sgd_10000', 'sgd_5000', 'sgd_1000']\n",
        "\n",
        "sgd_df = pd.DataFrame({\"Model\": sgd_model_name,\n",
        "                  \"Accuracy\":sgd_model_comparison})\n",
        "sgd_df_sorted = sgd_df.sort_values('Accuracy',ascending=False)\n",
        "sgd_df_sorted"
      ],
      "metadata": {
        "id": "He-ZN-GSSqTp",
        "colab": {
          "base_uri": "https://localhost:8080/",
          "height": 175
        },
        "outputId": "f477549f-b9f9-44f1-df10-4296b8da651d"
      },
      "execution_count": null,
      "outputs": [
        {
          "output_type": "execute_result",
          "data": {
            "text/plain": [
              "       Model  Accuracy\n",
              "0   sgd_none    0.8442\n",
              "1  sgd_10000    0.8411\n",
              "2   sgd_5000    0.8406\n",
              "3   sgd_1000    0.8406"
            ],
            "text/html": [
              "\n",
              "  <div id=\"df-75f3fab0-2a59-47cb-b408-cc342a46de65\">\n",
              "    <div class=\"colab-df-container\">\n",
              "      <div>\n",
              "<style scoped>\n",
              "    .dataframe tbody tr th:only-of-type {\n",
              "        vertical-align: middle;\n",
              "    }\n",
              "\n",
              "    .dataframe tbody tr th {\n",
              "        vertical-align: top;\n",
              "    }\n",
              "\n",
              "    .dataframe thead th {\n",
              "        text-align: right;\n",
              "    }\n",
              "</style>\n",
              "<table border=\"1\" class=\"dataframe\">\n",
              "  <thead>\n",
              "    <tr style=\"text-align: right;\">\n",
              "      <th></th>\n",
              "      <th>Model</th>\n",
              "      <th>Accuracy</th>\n",
              "    </tr>\n",
              "  </thead>\n",
              "  <tbody>\n",
              "    <tr>\n",
              "      <th>0</th>\n",
              "      <td>sgd_none</td>\n",
              "      <td>0.8442</td>\n",
              "    </tr>\n",
              "    <tr>\n",
              "      <th>1</th>\n",
              "      <td>sgd_10000</td>\n",
              "      <td>0.8411</td>\n",
              "    </tr>\n",
              "    <tr>\n",
              "      <th>2</th>\n",
              "      <td>sgd_5000</td>\n",
              "      <td>0.8406</td>\n",
              "    </tr>\n",
              "    <tr>\n",
              "      <th>3</th>\n",
              "      <td>sgd_1000</td>\n",
              "      <td>0.8406</td>\n",
              "    </tr>\n",
              "  </tbody>\n",
              "</table>\n",
              "</div>\n",
              "      <button class=\"colab-df-convert\" onclick=\"convertToInteractive('df-75f3fab0-2a59-47cb-b408-cc342a46de65')\"\n",
              "              title=\"Convert this dataframe to an interactive table.\"\n",
              "              style=\"display:none;\">\n",
              "        \n",
              "  <svg xmlns=\"http://www.w3.org/2000/svg\" height=\"24px\"viewBox=\"0 0 24 24\"\n",
              "       width=\"24px\">\n",
              "    <path d=\"M0 0h24v24H0V0z\" fill=\"none\"/>\n",
              "    <path d=\"M18.56 5.44l.94 2.06.94-2.06 2.06-.94-2.06-.94-.94-2.06-.94 2.06-2.06.94zm-11 1L8.5 8.5l.94-2.06 2.06-.94-2.06-.94L8.5 2.5l-.94 2.06-2.06.94zm10 10l.94 2.06.94-2.06 2.06-.94-2.06-.94-.94-2.06-.94 2.06-2.06.94z\"/><path d=\"M17.41 7.96l-1.37-1.37c-.4-.4-.92-.59-1.43-.59-.52 0-1.04.2-1.43.59L10.3 9.45l-7.72 7.72c-.78.78-.78 2.05 0 2.83L4 21.41c.39.39.9.59 1.41.59.51 0 1.02-.2 1.41-.59l7.78-7.78 2.81-2.81c.8-.78.8-2.07 0-2.86zM5.41 20L4 18.59l7.72-7.72 1.47 1.35L5.41 20z\"/>\n",
              "  </svg>\n",
              "      </button>\n",
              "      \n",
              "  <style>\n",
              "    .colab-df-container {\n",
              "      display:flex;\n",
              "      flex-wrap:wrap;\n",
              "      gap: 12px;\n",
              "    }\n",
              "\n",
              "    .colab-df-convert {\n",
              "      background-color: #E8F0FE;\n",
              "      border: none;\n",
              "      border-radius: 50%;\n",
              "      cursor: pointer;\n",
              "      display: none;\n",
              "      fill: #1967D2;\n",
              "      height: 32px;\n",
              "      padding: 0 0 0 0;\n",
              "      width: 32px;\n",
              "    }\n",
              "\n",
              "    .colab-df-convert:hover {\n",
              "      background-color: #E2EBFA;\n",
              "      box-shadow: 0px 1px 2px rgba(60, 64, 67, 0.3), 0px 1px 3px 1px rgba(60, 64, 67, 0.15);\n",
              "      fill: #174EA6;\n",
              "    }\n",
              "\n",
              "    [theme=dark] .colab-df-convert {\n",
              "      background-color: #3B4455;\n",
              "      fill: #D2E3FC;\n",
              "    }\n",
              "\n",
              "    [theme=dark] .colab-df-convert:hover {\n",
              "      background-color: #434B5C;\n",
              "      box-shadow: 0px 1px 3px 1px rgba(0, 0, 0, 0.15);\n",
              "      filter: drop-shadow(0px 1px 2px rgba(0, 0, 0, 0.3));\n",
              "      fill: #FFFFFF;\n",
              "    }\n",
              "  </style>\n",
              "\n",
              "      <script>\n",
              "        const buttonEl =\n",
              "          document.querySelector('#df-75f3fab0-2a59-47cb-b408-cc342a46de65 button.colab-df-convert');\n",
              "        buttonEl.style.display =\n",
              "          google.colab.kernel.accessAllowed ? 'block' : 'none';\n",
              "\n",
              "        async function convertToInteractive(key) {\n",
              "          const element = document.querySelector('#df-75f3fab0-2a59-47cb-b408-cc342a46de65');\n",
              "          const dataTable =\n",
              "            await google.colab.kernel.invokeFunction('convertToInteractive',\n",
              "                                                     [key], {});\n",
              "          if (!dataTable) return;\n",
              "\n",
              "          const docLinkHtml = 'Like what you see? Visit the ' +\n",
              "            '<a target=\"_blank\" href=https://colab.research.google.com/notebooks/data_table.ipynb>data table notebook</a>'\n",
              "            + ' to learn more about interactive tables.';\n",
              "          element.innerHTML = '';\n",
              "          dataTable['output_type'] = 'display_data';\n",
              "          await google.colab.output.renderOutput(dataTable, element);\n",
              "          const docLink = document.createElement('div');\n",
              "          docLink.innerHTML = docLinkHtml;\n",
              "          element.appendChild(docLink);\n",
              "        }\n",
              "      </script>\n",
              "    </div>\n",
              "  </div>\n",
              "  "
            ]
          },
          "metadata": {},
          "execution_count": 84
        }
      ]
    },
    {
      "cell_type": "markdown",
      "source": [
        "num_words=n에서 n이 클수록 SGD Classifier 모델의 성능이 높다."
      ],
      "metadata": {
        "id": "vLFO7SB2YaKe"
      }
    },
    {
      "cell_type": "markdown",
      "source": [
        "<br/>"
      ],
      "metadata": {
        "id": "n-hYDDMKwfe8"
      }
    },
    {
      "cell_type": "markdown",
      "source": [
        "#Support Vector Machine"
      ],
      "metadata": {
        "id": "TsQNQw1aQ1xC"
      }
    },
    {
      "cell_type": "markdown",
      "source": [
        "##Linear SVC"
      ],
      "metadata": {
        "id": "0yrrEfEVv6TI"
      }
    },
    {
      "cell_type": "code",
      "source": [
        "none_lsvc_model = LinearSVC(C=1000, penalty='l1', max_iter=500, dual=False)\n",
        "none_lsvc_model.fit(none_tfidfv_train, none_y_train)\n",
        "none_lsvc_predicted = none_lsvc_model.predict(none_tfidfv_test) \n",
        "none_lsvc_accuracy = accuracy_score(none_y_test, none_lsvc_predicted)\n",
        "print(\"accuracy :\", none_lsvc_accuracy) "
      ],
      "metadata": {
        "id": "XsqSz6Cav7G5",
        "colab": {
          "base_uri": "https://localhost:8080/"
        },
        "outputId": "cced721d-0114-44c7-c88e-045a6a451b7d"
      },
      "execution_count": null,
      "outputs": [
        {
          "output_type": "stream",
          "name": "stdout",
          "text": [
            "accuracy : 0.7747105966162066\n"
          ]
        }
      ]
    },
    {
      "cell_type": "markdown",
      "source": [
        "num_words=None일 때, Linear SVC 모델의 성능 'accuracy'는 77.47%이다."
      ],
      "metadata": {
        "id": "8gKwTf390Pu_"
      }
    },
    {
      "cell_type": "markdown",
      "source": [
        "<br/>"
      ],
      "metadata": {
        "id": "or-_WJXFwe4c"
      }
    },
    {
      "cell_type": "code",
      "source": [
        "ten_lsvc_model = LinearSVC(C=1000, penalty='l1', max_iter=500, dual=False)\n",
        "ten_lsvc_model.fit(ten_tfidfv_train, ten_y_train)\n",
        "ten_lsvc_predicted = ten_lsvc_model.predict(ten_tfidfv_test) \n",
        "ten_lsvc_accuracy = accuracy_score(ten_y_test, ten_lsvc_predicted)\n",
        "print(\"accuracy :\", ten_lsvc_accuracy) "
      ],
      "metadata": {
        "id": "5NNMnZJNzitg",
        "colab": {
          "base_uri": "https://localhost:8080/"
        },
        "outputId": "6b04a041-fd09-49a2-e40e-3bc7109cf084"
      },
      "execution_count": null,
      "outputs": [
        {
          "output_type": "stream",
          "name": "stdout",
          "text": [
            "accuracy : 0.7631344612644702\n"
          ]
        }
      ]
    },
    {
      "cell_type": "markdown",
      "source": [
        "num_words=10000일 때,Linear SVC 모델의 성능 'accuracy'는 76.31%이다."
      ],
      "metadata": {
        "id": "u4tw3D7j0RgA"
      }
    },
    {
      "cell_type": "markdown",
      "source": [
        "<br/>"
      ],
      "metadata": {
        "id": "VpXTeurrweVc"
      }
    },
    {
      "cell_type": "code",
      "source": [
        "five_lsvc_model = LinearSVC(C=1000, penalty='l1', max_iter=500, dual=False)\n",
        "five_lsvc_model.fit(five_tfidfv_train, five_y_train)\n",
        "five_lsvc_predicted = five_lsvc_model.predict(five_tfidfv_test) \n",
        "five_lsvc_accuracy = accuracy_score(five_y_test, five_lsvc_predicted)\n",
        "print(\"accuracy :\", five_lsvc_accuracy) "
      ],
      "metadata": {
        "id": "pgJ3NelgzkgZ",
        "colab": {
          "base_uri": "https://localhost:8080/"
        },
        "outputId": "2dd89a1f-f7b9-43c1-ba70-34de0e5fa4ca"
      },
      "execution_count": null,
      "outputs": [
        {
          "output_type": "stream",
          "name": "stdout",
          "text": [
            "accuracy : 0.7653606411398041\n"
          ]
        }
      ]
    },
    {
      "cell_type": "markdown",
      "source": [
        "num_words=5000일 때, Linear SVC 모델의 성능 'accuracy'는 76.54%이다."
      ],
      "metadata": {
        "id": "0yP1Qskp0Snn"
      }
    },
    {
      "cell_type": "markdown",
      "source": [
        "<br/>"
      ],
      "metadata": {
        "id": "3Fm1YJZ2wdf2"
      }
    },
    {
      "cell_type": "code",
      "source": [
        "one_lsvc_model = LinearSVC(C=1000, penalty='l1', max_iter=500, dual=False)\n",
        "one_lsvc_model.fit(one_tfidfv_train, one_y_train)\n",
        "one_lsvc_predicted = one_lsvc_model.predict(one_tfidfv_test) \n",
        "one_lsvc_accuracy = accuracy_score(one_y_test, one_lsvc_predicted)\n",
        "print(\"accuracy :\", one_lsvc_accuracy) "
      ],
      "metadata": {
        "id": "4-Lvkjhrziyr",
        "colab": {
          "base_uri": "https://localhost:8080/"
        },
        "outputId": "ee20f4e7-e532-403d-a74e-9d163b1f0055"
      },
      "execution_count": null,
      "outputs": [
        {
          "output_type": "stream",
          "name": "stdout",
          "text": [
            "accuracy : 0.7693677649154052\n"
          ]
        }
      ]
    },
    {
      "cell_type": "markdown",
      "source": [
        "num_words=1000일 때, Linear SVC 모델의 성능 'accuracy'는 76.94%이다."
      ],
      "metadata": {
        "id": "0RmNoP_O0Tpn"
      }
    },
    {
      "cell_type": "markdown",
      "source": [
        "<br/>"
      ],
      "metadata": {
        "id": "uctBxiAuwc09"
      }
    },
    {
      "cell_type": "code",
      "source": [
        "lsvc_model_comparison = [round(none_lsvc_accuracy, 4), round(ten_lsvc_accuracy, 4),\n",
        "                        round(five_lsvc_accuracy, 4), round(one_lsvc_accuracy, 4)]\n",
        "\n",
        "lsvc_model_name = ['lsvc_none', 'lsvc_10000', 'lsvc_5000', 'lsvc_1000']\n",
        "\n",
        "lsvc_df = pd.DataFrame({\"Model\": lsvc_model_name,\n",
        "                  \"Accuracy\":lsvc_model_comparison})\n",
        "lsvc_df_sorted = lsvc_df.sort_values('Accuracy',ascending=False)\n",
        "lsvc_df_sorted"
      ],
      "metadata": {
        "id": "E-d_rz4KTK3t",
        "colab": {
          "base_uri": "https://localhost:8080/",
          "height": 175
        },
        "outputId": "22fff2c5-9877-4ad7-f8a3-a675a3dc71ff"
      },
      "execution_count": null,
      "outputs": [
        {
          "output_type": "execute_result",
          "data": {
            "text/plain": [
              "        Model  Accuracy\n",
              "0   lsvc_none    0.7747\n",
              "3   lsvc_1000    0.7694\n",
              "2   lsvc_5000    0.7654\n",
              "1  lsvc_10000    0.7631"
            ],
            "text/html": [
              "\n",
              "  <div id=\"df-dccb2a63-3ba1-4100-97dc-4b4dfe506696\">\n",
              "    <div class=\"colab-df-container\">\n",
              "      <div>\n",
              "<style scoped>\n",
              "    .dataframe tbody tr th:only-of-type {\n",
              "        vertical-align: middle;\n",
              "    }\n",
              "\n",
              "    .dataframe tbody tr th {\n",
              "        vertical-align: top;\n",
              "    }\n",
              "\n",
              "    .dataframe thead th {\n",
              "        text-align: right;\n",
              "    }\n",
              "</style>\n",
              "<table border=\"1\" class=\"dataframe\">\n",
              "  <thead>\n",
              "    <tr style=\"text-align: right;\">\n",
              "      <th></th>\n",
              "      <th>Model</th>\n",
              "      <th>Accuracy</th>\n",
              "    </tr>\n",
              "  </thead>\n",
              "  <tbody>\n",
              "    <tr>\n",
              "      <th>0</th>\n",
              "      <td>lsvc_none</td>\n",
              "      <td>0.7747</td>\n",
              "    </tr>\n",
              "    <tr>\n",
              "      <th>3</th>\n",
              "      <td>lsvc_1000</td>\n",
              "      <td>0.7694</td>\n",
              "    </tr>\n",
              "    <tr>\n",
              "      <th>2</th>\n",
              "      <td>lsvc_5000</td>\n",
              "      <td>0.7654</td>\n",
              "    </tr>\n",
              "    <tr>\n",
              "      <th>1</th>\n",
              "      <td>lsvc_10000</td>\n",
              "      <td>0.7631</td>\n",
              "    </tr>\n",
              "  </tbody>\n",
              "</table>\n",
              "</div>\n",
              "      <button class=\"colab-df-convert\" onclick=\"convertToInteractive('df-dccb2a63-3ba1-4100-97dc-4b4dfe506696')\"\n",
              "              title=\"Convert this dataframe to an interactive table.\"\n",
              "              style=\"display:none;\">\n",
              "        \n",
              "  <svg xmlns=\"http://www.w3.org/2000/svg\" height=\"24px\"viewBox=\"0 0 24 24\"\n",
              "       width=\"24px\">\n",
              "    <path d=\"M0 0h24v24H0V0z\" fill=\"none\"/>\n",
              "    <path d=\"M18.56 5.44l.94 2.06.94-2.06 2.06-.94-2.06-.94-.94-2.06-.94 2.06-2.06.94zm-11 1L8.5 8.5l.94-2.06 2.06-.94-2.06-.94L8.5 2.5l-.94 2.06-2.06.94zm10 10l.94 2.06.94-2.06 2.06-.94-2.06-.94-.94-2.06-.94 2.06-2.06.94z\"/><path d=\"M17.41 7.96l-1.37-1.37c-.4-.4-.92-.59-1.43-.59-.52 0-1.04.2-1.43.59L10.3 9.45l-7.72 7.72c-.78.78-.78 2.05 0 2.83L4 21.41c.39.39.9.59 1.41.59.51 0 1.02-.2 1.41-.59l7.78-7.78 2.81-2.81c.8-.78.8-2.07 0-2.86zM5.41 20L4 18.59l7.72-7.72 1.47 1.35L5.41 20z\"/>\n",
              "  </svg>\n",
              "      </button>\n",
              "      \n",
              "  <style>\n",
              "    .colab-df-container {\n",
              "      display:flex;\n",
              "      flex-wrap:wrap;\n",
              "      gap: 12px;\n",
              "    }\n",
              "\n",
              "    .colab-df-convert {\n",
              "      background-color: #E8F0FE;\n",
              "      border: none;\n",
              "      border-radius: 50%;\n",
              "      cursor: pointer;\n",
              "      display: none;\n",
              "      fill: #1967D2;\n",
              "      height: 32px;\n",
              "      padding: 0 0 0 0;\n",
              "      width: 32px;\n",
              "    }\n",
              "\n",
              "    .colab-df-convert:hover {\n",
              "      background-color: #E2EBFA;\n",
              "      box-shadow: 0px 1px 2px rgba(60, 64, 67, 0.3), 0px 1px 3px 1px rgba(60, 64, 67, 0.15);\n",
              "      fill: #174EA6;\n",
              "    }\n",
              "\n",
              "    [theme=dark] .colab-df-convert {\n",
              "      background-color: #3B4455;\n",
              "      fill: #D2E3FC;\n",
              "    }\n",
              "\n",
              "    [theme=dark] .colab-df-convert:hover {\n",
              "      background-color: #434B5C;\n",
              "      box-shadow: 0px 1px 3px 1px rgba(0, 0, 0, 0.15);\n",
              "      filter: drop-shadow(0px 1px 2px rgba(0, 0, 0, 0.3));\n",
              "      fill: #FFFFFF;\n",
              "    }\n",
              "  </style>\n",
              "\n",
              "      <script>\n",
              "        const buttonEl =\n",
              "          document.querySelector('#df-dccb2a63-3ba1-4100-97dc-4b4dfe506696 button.colab-df-convert');\n",
              "        buttonEl.style.display =\n",
              "          google.colab.kernel.accessAllowed ? 'block' : 'none';\n",
              "\n",
              "        async function convertToInteractive(key) {\n",
              "          const element = document.querySelector('#df-dccb2a63-3ba1-4100-97dc-4b4dfe506696');\n",
              "          const dataTable =\n",
              "            await google.colab.kernel.invokeFunction('convertToInteractive',\n",
              "                                                     [key], {});\n",
              "          if (!dataTable) return;\n",
              "\n",
              "          const docLinkHtml = 'Like what you see? Visit the ' +\n",
              "            '<a target=\"_blank\" href=https://colab.research.google.com/notebooks/data_table.ipynb>data table notebook</a>'\n",
              "            + ' to learn more about interactive tables.';\n",
              "          element.innerHTML = '';\n",
              "          dataTable['output_type'] = 'display_data';\n",
              "          await google.colab.output.renderOutput(dataTable, element);\n",
              "          const docLink = document.createElement('div');\n",
              "          docLink.innerHTML = docLinkHtml;\n",
              "          element.appendChild(docLink);\n",
              "        }\n",
              "      </script>\n",
              "    </div>\n",
              "  </div>\n",
              "  "
            ]
          },
          "metadata": {},
          "execution_count": 107
        }
      ]
    },
    {
      "cell_type": "markdown",
      "source": [
        "Linear SVC 모델의 성능은 num_words에 큰 영향을 받지 않는다."
      ],
      "metadata": {
        "id": "a_l6mC3nokeJ"
      }
    },
    {
      "cell_type": "markdown",
      "source": [
        "<br/>"
      ],
      "metadata": {
        "id": "FwR-zKghwcdL"
      }
    },
    {
      "cell_type": "markdown",
      "source": [
        "##Radial Basis Function SVC"
      ],
      "metadata": {
        "id": "tvhvLeDtgFry"
      }
    },
    {
      "cell_type": "code",
      "source": [
        "none_rbf_svc_model = SVC(kernel = 'rbf', gamma = 0.7, C=1000, max_iter = 500)\n",
        "none_rbf_svc_model.fit(none_tfidfv_train, none_y_train)\n",
        "none_rbf_svc_predicted = none_rbf_svc_model.predict(none_tfidfv_test) \n",
        "none_rbf_svc_accuracy = accuracy_score(none_y_test, none_rbf_svc_predicted)\n",
        "print(\"accuracy :\", none_rbf_svc_accuracy) "
      ],
      "metadata": {
        "colab": {
          "base_uri": "https://localhost:8080/"
        },
        "id": "NvAMyLd0ZjNe",
        "outputId": "4c39d8e6-14a5-47c3-8a34-89b1f72f5e16"
      },
      "execution_count": null,
      "outputs": [
        {
          "output_type": "stream",
          "name": "stdout",
          "text": [
            "accuracy : 0.8063223508459484\n"
          ]
        }
      ]
    },
    {
      "cell_type": "markdown",
      "source": [
        "num_words=None일 때, Radial Basis Function SVC 모델의 성능 'accuracy'는 80.63%이다."
      ],
      "metadata": {
        "id": "aKgdCgsStQh9"
      }
    },
    {
      "cell_type": "markdown",
      "source": [
        "<br/>"
      ],
      "metadata": {
        "id": "KOrqZadLwb1j"
      }
    },
    {
      "cell_type": "code",
      "source": [
        "ten_rbf_svc_model = SVC(kernel = 'rbf', gamma = 0.7, C=1000, max_iter = 500)\n",
        "ten_rbf_svc_model.fit(ten_tfidfv_train, ten_y_train)\n",
        "ten_rbf_svc_predicted = ten_rbf_svc_model.predict(ten_tfidfv_test) \n",
        "ten_rbf_svc_accuracy = accuracy_score(ten_y_test, ten_rbf_svc_predicted)\n",
        "print(\"accuracy :\", ten_rbf_svc_accuracy) "
      ],
      "metadata": {
        "id": "Z1wzKLRLsiPq",
        "colab": {
          "base_uri": "https://localhost:8080/"
        },
        "outputId": "56daf741-6d98-471d-ea31-4e9f23877882"
      },
      "execution_count": null,
      "outputs": [
        {
          "output_type": "stream",
          "name": "stdout",
          "text": [
            "accuracy : 0.8054318788958148\n"
          ]
        }
      ]
    },
    {
      "cell_type": "markdown",
      "source": [
        "num_words=10000일 때, Radial Basis Function SVC 모델의 성능 'accuracy'는 80.54%이다."
      ],
      "metadata": {
        "id": "Qb5EYVKGtR9f"
      }
    },
    {
      "cell_type": "markdown",
      "source": [
        "<br/>"
      ],
      "metadata": {
        "id": "nXgoT2MXwbM5"
      }
    },
    {
      "cell_type": "code",
      "source": [
        "five_rbf_svc_model = SVC(kernel = 'rbf', gamma = 0.7, C=1000, max_iter = 500)\n",
        "five_rbf_svc_model.fit(five_tfidfv_train, five_y_train)\n",
        "five_rbf_svc_predicted = five_rbf_svc_model.predict(five_tfidfv_test) \n",
        "five_rbf_svc_accuracy = accuracy_score(five_y_test, five_rbf_svc_predicted)\n",
        "print(\"accuracy :\", five_rbf_svc_accuracy) "
      ],
      "metadata": {
        "id": "qitvdHAEsiU5",
        "colab": {
          "base_uri": "https://localhost:8080/"
        },
        "outputId": "6e5a12ac-c4d3-426c-fada-75e5871e264a"
      },
      "execution_count": null,
      "outputs": [
        {
          "output_type": "stream",
          "name": "stdout",
          "text": [
            "accuracy : 0.8067675868210151\n"
          ]
        }
      ]
    },
    {
      "cell_type": "markdown",
      "source": [
        "num_words=5000일 때, Radial Basis Function SVC 모델의 성능 'accuracy'는 80.68%이다."
      ],
      "metadata": {
        "id": "ZkOx9fFntTgs"
      }
    },
    {
      "cell_type": "markdown",
      "source": [
        "<br/>"
      ],
      "metadata": {
        "id": "ku_8a98Bwa1-"
      }
    },
    {
      "cell_type": "code",
      "source": [
        "one_rbf_svc_model = SVC(kernel = 'rbf', gamma = 0.7, C=1000, max_iter = 500)\n",
        "one_rbf_svc_model.fit(one_tfidfv_train, one_y_train)\n",
        "one_rbf_svc_predicted = one_rbf_svc_model.predict(one_tfidfv_test) \n",
        "one_rbf_svc_accuracy = accuracy_score(one_y_test, one_rbf_svc_predicted)\n",
        "print(\"accuracy :\", one_rbf_svc_accuracy) "
      ],
      "metadata": {
        "id": "_4poTg8ysjOJ",
        "colab": {
          "base_uri": "https://localhost:8080/"
        },
        "outputId": "46786bc2-3cdf-4e32-cfcc-da4dd38bdf03"
      },
      "execution_count": null,
      "outputs": [
        {
          "output_type": "stream",
          "name": "stdout",
          "text": [
            "accuracy : 0.8067675868210151\n"
          ]
        }
      ]
    },
    {
      "cell_type": "markdown",
      "source": [
        "num_words=1000일 때, Radial Basis Function SVC 모델의 성능 'accuracy'는 80.68%이다."
      ],
      "metadata": {
        "id": "eVpueSawtUus"
      }
    },
    {
      "cell_type": "markdown",
      "source": [
        "<br/>"
      ],
      "metadata": {
        "id": "JZTxKxtUwaVD"
      }
    },
    {
      "cell_type": "code",
      "source": [
        "rbf_svc_model_comparison = [round(none_rbf_svc_accuracy, 4), round(ten_rbf_svc_accuracy, 4),\n",
        "                        round(five_rbf_svc_accuracy, 4), round(one_rbf_svc_accuracy, 4)]\n",
        "\n",
        "\n",
        "rbf_svc_model_name = ['rbf_svc_none', 'rbf_svc_10000', 'rbf_svc_5000', 'rbf_svc_1000']\n",
        "\n",
        "rbf_svc_df = pd.DataFrame({\"Model\": rbf_svc_model_name,\n",
        "                  \"Accuracy\":rbf_svc_model_comparison})\n",
        "rbf_svc_df_sorted = rbf_svc_df.sort_values('Accuracy',ascending=False)\n",
        "rbf_svc_df_sorted"
      ],
      "metadata": {
        "id": "JsBbMdN5S7nm",
        "colab": {
          "base_uri": "https://localhost:8080/",
          "height": 175
        },
        "outputId": "c1840405-bc30-42c8-d46e-4fb497322737"
      },
      "execution_count": null,
      "outputs": [
        {
          "output_type": "execute_result",
          "data": {
            "text/plain": [
              "           Model  Accuracy\n",
              "2   rbf_svc_5000    0.8068\n",
              "3   rbf_svc_1000    0.8068\n",
              "0   rbf_svc_none    0.8063\n",
              "1  rbf_svc_10000    0.8054"
            ],
            "text/html": [
              "\n",
              "  <div id=\"df-a1afbc10-e9e6-4ea1-840e-f4dc061a3ba4\">\n",
              "    <div class=\"colab-df-container\">\n",
              "      <div>\n",
              "<style scoped>\n",
              "    .dataframe tbody tr th:only-of-type {\n",
              "        vertical-align: middle;\n",
              "    }\n",
              "\n",
              "    .dataframe tbody tr th {\n",
              "        vertical-align: top;\n",
              "    }\n",
              "\n",
              "    .dataframe thead th {\n",
              "        text-align: right;\n",
              "    }\n",
              "</style>\n",
              "<table border=\"1\" class=\"dataframe\">\n",
              "  <thead>\n",
              "    <tr style=\"text-align: right;\">\n",
              "      <th></th>\n",
              "      <th>Model</th>\n",
              "      <th>Accuracy</th>\n",
              "    </tr>\n",
              "  </thead>\n",
              "  <tbody>\n",
              "    <tr>\n",
              "      <th>2</th>\n",
              "      <td>rbf_svc_5000</td>\n",
              "      <td>0.8068</td>\n",
              "    </tr>\n",
              "    <tr>\n",
              "      <th>3</th>\n",
              "      <td>rbf_svc_1000</td>\n",
              "      <td>0.8068</td>\n",
              "    </tr>\n",
              "    <tr>\n",
              "      <th>0</th>\n",
              "      <td>rbf_svc_none</td>\n",
              "      <td>0.8063</td>\n",
              "    </tr>\n",
              "    <tr>\n",
              "      <th>1</th>\n",
              "      <td>rbf_svc_10000</td>\n",
              "      <td>0.8054</td>\n",
              "    </tr>\n",
              "  </tbody>\n",
              "</table>\n",
              "</div>\n",
              "      <button class=\"colab-df-convert\" onclick=\"convertToInteractive('df-a1afbc10-e9e6-4ea1-840e-f4dc061a3ba4')\"\n",
              "              title=\"Convert this dataframe to an interactive table.\"\n",
              "              style=\"display:none;\">\n",
              "        \n",
              "  <svg xmlns=\"http://www.w3.org/2000/svg\" height=\"24px\"viewBox=\"0 0 24 24\"\n",
              "       width=\"24px\">\n",
              "    <path d=\"M0 0h24v24H0V0z\" fill=\"none\"/>\n",
              "    <path d=\"M18.56 5.44l.94 2.06.94-2.06 2.06-.94-2.06-.94-.94-2.06-.94 2.06-2.06.94zm-11 1L8.5 8.5l.94-2.06 2.06-.94-2.06-.94L8.5 2.5l-.94 2.06-2.06.94zm10 10l.94 2.06.94-2.06 2.06-.94-2.06-.94-.94-2.06-.94 2.06-2.06.94z\"/><path d=\"M17.41 7.96l-1.37-1.37c-.4-.4-.92-.59-1.43-.59-.52 0-1.04.2-1.43.59L10.3 9.45l-7.72 7.72c-.78.78-.78 2.05 0 2.83L4 21.41c.39.39.9.59 1.41.59.51 0 1.02-.2 1.41-.59l7.78-7.78 2.81-2.81c.8-.78.8-2.07 0-2.86zM5.41 20L4 18.59l7.72-7.72 1.47 1.35L5.41 20z\"/>\n",
              "  </svg>\n",
              "      </button>\n",
              "      \n",
              "  <style>\n",
              "    .colab-df-container {\n",
              "      display:flex;\n",
              "      flex-wrap:wrap;\n",
              "      gap: 12px;\n",
              "    }\n",
              "\n",
              "    .colab-df-convert {\n",
              "      background-color: #E8F0FE;\n",
              "      border: none;\n",
              "      border-radius: 50%;\n",
              "      cursor: pointer;\n",
              "      display: none;\n",
              "      fill: #1967D2;\n",
              "      height: 32px;\n",
              "      padding: 0 0 0 0;\n",
              "      width: 32px;\n",
              "    }\n",
              "\n",
              "    .colab-df-convert:hover {\n",
              "      background-color: #E2EBFA;\n",
              "      box-shadow: 0px 1px 2px rgba(60, 64, 67, 0.3), 0px 1px 3px 1px rgba(60, 64, 67, 0.15);\n",
              "      fill: #174EA6;\n",
              "    }\n",
              "\n",
              "    [theme=dark] .colab-df-convert {\n",
              "      background-color: #3B4455;\n",
              "      fill: #D2E3FC;\n",
              "    }\n",
              "\n",
              "    [theme=dark] .colab-df-convert:hover {\n",
              "      background-color: #434B5C;\n",
              "      box-shadow: 0px 1px 3px 1px rgba(0, 0, 0, 0.15);\n",
              "      filter: drop-shadow(0px 1px 2px rgba(0, 0, 0, 0.3));\n",
              "      fill: #FFFFFF;\n",
              "    }\n",
              "  </style>\n",
              "\n",
              "      <script>\n",
              "        const buttonEl =\n",
              "          document.querySelector('#df-a1afbc10-e9e6-4ea1-840e-f4dc061a3ba4 button.colab-df-convert');\n",
              "        buttonEl.style.display =\n",
              "          google.colab.kernel.accessAllowed ? 'block' : 'none';\n",
              "\n",
              "        async function convertToInteractive(key) {\n",
              "          const element = document.querySelector('#df-a1afbc10-e9e6-4ea1-840e-f4dc061a3ba4');\n",
              "          const dataTable =\n",
              "            await google.colab.kernel.invokeFunction('convertToInteractive',\n",
              "                                                     [key], {});\n",
              "          if (!dataTable) return;\n",
              "\n",
              "          const docLinkHtml = 'Like what you see? Visit the ' +\n",
              "            '<a target=\"_blank\" href=https://colab.research.google.com/notebooks/data_table.ipynb>data table notebook</a>'\n",
              "            + ' to learn more about interactive tables.';\n",
              "          element.innerHTML = '';\n",
              "          dataTable['output_type'] = 'display_data';\n",
              "          await google.colab.output.renderOutput(dataTable, element);\n",
              "          const docLink = document.createElement('div');\n",
              "          docLink.innerHTML = docLinkHtml;\n",
              "          element.appendChild(docLink);\n",
              "        }\n",
              "      </script>\n",
              "    </div>\n",
              "  </div>\n",
              "  "
            ]
          },
          "metadata": {},
          "execution_count": 118
        }
      ]
    },
    {
      "cell_type": "markdown",
      "source": [
        "Radial Basis Function SVC 모델의 성능은 num_words에 큰 영향을 받지 않는다."
      ],
      "metadata": {
        "id": "wHc6h3YYiUxY"
      }
    },
    {
      "cell_type": "markdown",
      "source": [
        "<br/>"
      ],
      "metadata": {
        "id": "s0dvPxe6wZtc"
      }
    },
    {
      "cell_type": "markdown",
      "source": [
        "##Polynomial SVC"
      ],
      "metadata": {
        "id": "YwLNb8OEcP2B"
      }
    },
    {
      "cell_type": "code",
      "source": [
        "none_poly_svc_model = SVC(kernel = 'poly', degree = 3, gamma = 'auto', C=1000, max_iter = 500) \n",
        "none_poly_svc_model.fit(none_tfidfv_train, none_y_train)\n",
        "none_poly_svc_predicted = none_poly_svc_model.predict(none_tfidfv_test) \n",
        "none_poly_svc_accuracy = accuracy_score(none_y_test, none_poly_svc_predicted)\n",
        "print(\"accuracy :\", none_poly_svc_accuracy) "
      ],
      "metadata": {
        "colab": {
          "base_uri": "https://localhost:8080/"
        },
        "id": "F_wnxA4JcQFo",
        "outputId": "7618721d-8588-40b0-fae1-a977d2ca8335"
      },
      "execution_count": null,
      "outputs": [
        {
          "output_type": "stream",
          "name": "stdout",
          "text": [
            "accuracy : 0.3811219946571683\n"
          ]
        }
      ]
    },
    {
      "cell_type": "markdown",
      "source": [
        "num_words=None일 때, Polynomial SVC 모델의 성능 'accuracy'는 38.11%이다."
      ],
      "metadata": {
        "id": "QOAtyeCbiZas"
      }
    },
    {
      "cell_type": "markdown",
      "source": [
        "<br/>"
      ],
      "metadata": {
        "id": "Hw_TepIMwZLU"
      }
    },
    {
      "cell_type": "code",
      "source": [
        "ten_poly_svc_model = SVC(kernel = 'poly', degree = 3, gamma = 'auto', C=1000, max_iter = 500) \n",
        "ten_poly_svc_model.fit(ten_tfidfv_train, ten_y_train)\n",
        "ten_poly_svc_predicted = ten_poly_svc_model.predict(ten_tfidfv_test) \n",
        "ten_poly_svc_accuracy = accuracy_score(ten_y_test, ten_poly_svc_predicted)\n",
        "print(\"accuracy :\", ten_poly_svc_accuracy) "
      ],
      "metadata": {
        "colab": {
          "base_uri": "https://localhost:8080/"
        },
        "id": "acHcbsVOcVqo",
        "outputId": "29ba223f-795e-41ec-b9e5-0eac31e8766b"
      },
      "execution_count": null,
      "outputs": [
        {
          "output_type": "stream",
          "name": "stdout",
          "text": [
            "accuracy : 0.5516473731077471\n"
          ]
        }
      ]
    },
    {
      "cell_type": "markdown",
      "source": [
        "num_words=10000일 때, Polynomial SVC 모델의 성능 'accuracy'는 55.16%이다."
      ],
      "metadata": {
        "id": "shV2iGv_ib6g"
      }
    },
    {
      "cell_type": "markdown",
      "source": [
        "<br/>"
      ],
      "metadata": {
        "id": "-UdjtF9mwYoD"
      }
    },
    {
      "cell_type": "code",
      "source": [
        "five_poly_svc_model = SVC(kernel = 'poly', degree = 3, gamma = 'auto', C=1000, max_iter = 500) \n",
        "five_poly_svc_model.fit(five_tfidfv_train, five_y_train)\n",
        "five_poly_svc_predicted = five_poly_svc_model.predict(five_tfidfv_test) \n",
        "five_poly_svc_accuracy = accuracy_score(five_y_test, five_poly_svc_predicted)\n",
        "print(\"accuracy :\", five_poly_svc_accuracy) "
      ],
      "metadata": {
        "colab": {
          "base_uri": "https://localhost:8080/"
        },
        "id": "gK7tNHr0cQI8",
        "outputId": "83081960-872c-494f-83f9-f3cf93a744ff"
      },
      "execution_count": null,
      "outputs": [
        {
          "output_type": "stream",
          "name": "stdout",
          "text": [
            "accuracy : 0.5409617097061442\n"
          ]
        }
      ]
    },
    {
      "cell_type": "markdown",
      "source": [
        "num_words=5000일 때, Polynomial SVC 모델의 성능 'accuracy'는 54.10%이다."
      ],
      "metadata": {
        "id": "4GowgOhsid8q"
      }
    },
    {
      "cell_type": "markdown",
      "source": [
        "<br/>"
      ],
      "metadata": {
        "id": "1zn_0TLowYV3"
      }
    },
    {
      "cell_type": "code",
      "source": [
        "one_poly_svc_model = SVC(kernel = 'poly', degree = 3, gamma = 'auto', C=1000, max_iter = 500) \n",
        "one_poly_svc_model.fit(one_tfidfv_train, one_y_train)\n",
        "one_poly_svc_predicted = one_poly_svc_model.predict(one_tfidfv_test) \n",
        "one_poly_svc_accuracy = accuracy_score(one_y_test, one_poly_svc_predicted)\n",
        "print(\"accuracy :\", one_poly_svc_accuracy) "
      ],
      "metadata": {
        "colab": {
          "base_uri": "https://localhost:8080/"
        },
        "id": "p7HOtSm7cQO0",
        "outputId": "27b94ad1-37fd-4395-ad06-78357c7598d3"
      },
      "execution_count": null,
      "outputs": [
        {
          "output_type": "stream",
          "name": "stdout",
          "text": [
            "accuracy : 0.5409617097061442\n"
          ]
        }
      ]
    },
    {
      "cell_type": "markdown",
      "source": [
        "num_words=1000일 때, Polynomial SVC 모델의 성능 'accuracy'는 54.10%이다."
      ],
      "metadata": {
        "id": "8CRR5kk5ifsp"
      }
    },
    {
      "cell_type": "markdown",
      "source": [
        "<br/>"
      ],
      "metadata": {
        "id": "w1gaNwV-wX9c"
      }
    },
    {
      "cell_type": "code",
      "source": [
        "poly_svc_model_comparison = [round(none_poly_svc_accuracy, 4), round(ten_poly_svc_accuracy, 4),\n",
        "                        round(five_poly_svc_accuracy, 4), round(one_poly_svc_accuracy, 4)]\n",
        "\n",
        "poly_svc_model_name = ['poly_svc_none', 'poly_svc_10000', 'poly_svc_5000', 'poly_svc_1000']\n",
        "\n",
        "poly_svc_df = pd.DataFrame({\"Model\": poly_svc_model_name,\n",
        "                  \"Accuracy\":poly_svc_model_comparison})\n",
        "poly_svc_df_sorted = poly_svc_df.sort_values('Accuracy',ascending=False)\n",
        "poly_svc_df_sorted"
      ],
      "metadata": {
        "colab": {
          "base_uri": "https://localhost:8080/",
          "height": 175
        },
        "id": "VT39ekdgfXuG",
        "outputId": "dab98ddc-4af1-4387-d70d-3fbfb72cbe2b"
      },
      "execution_count": null,
      "outputs": [
        {
          "output_type": "execute_result",
          "data": {
            "text/plain": [
              "            Model  Accuracy\n",
              "1  poly_svc_10000    0.5516\n",
              "2   poly_svc_5000    0.5410\n",
              "3   poly_svc_1000    0.5410\n",
              "0   poly_svc_none    0.3811"
            ],
            "text/html": [
              "\n",
              "  <div id=\"df-f64d200a-40b1-41aa-a116-fa431c6d99c7\">\n",
              "    <div class=\"colab-df-container\">\n",
              "      <div>\n",
              "<style scoped>\n",
              "    .dataframe tbody tr th:only-of-type {\n",
              "        vertical-align: middle;\n",
              "    }\n",
              "\n",
              "    .dataframe tbody tr th {\n",
              "        vertical-align: top;\n",
              "    }\n",
              "\n",
              "    .dataframe thead th {\n",
              "        text-align: right;\n",
              "    }\n",
              "</style>\n",
              "<table border=\"1\" class=\"dataframe\">\n",
              "  <thead>\n",
              "    <tr style=\"text-align: right;\">\n",
              "      <th></th>\n",
              "      <th>Model</th>\n",
              "      <th>Accuracy</th>\n",
              "    </tr>\n",
              "  </thead>\n",
              "  <tbody>\n",
              "    <tr>\n",
              "      <th>1</th>\n",
              "      <td>poly_svc_10000</td>\n",
              "      <td>0.5516</td>\n",
              "    </tr>\n",
              "    <tr>\n",
              "      <th>2</th>\n",
              "      <td>poly_svc_5000</td>\n",
              "      <td>0.5410</td>\n",
              "    </tr>\n",
              "    <tr>\n",
              "      <th>3</th>\n",
              "      <td>poly_svc_1000</td>\n",
              "      <td>0.5410</td>\n",
              "    </tr>\n",
              "    <tr>\n",
              "      <th>0</th>\n",
              "      <td>poly_svc_none</td>\n",
              "      <td>0.3811</td>\n",
              "    </tr>\n",
              "  </tbody>\n",
              "</table>\n",
              "</div>\n",
              "      <button class=\"colab-df-convert\" onclick=\"convertToInteractive('df-f64d200a-40b1-41aa-a116-fa431c6d99c7')\"\n",
              "              title=\"Convert this dataframe to an interactive table.\"\n",
              "              style=\"display:none;\">\n",
              "        \n",
              "  <svg xmlns=\"http://www.w3.org/2000/svg\" height=\"24px\"viewBox=\"0 0 24 24\"\n",
              "       width=\"24px\">\n",
              "    <path d=\"M0 0h24v24H0V0z\" fill=\"none\"/>\n",
              "    <path d=\"M18.56 5.44l.94 2.06.94-2.06 2.06-.94-2.06-.94-.94-2.06-.94 2.06-2.06.94zm-11 1L8.5 8.5l.94-2.06 2.06-.94-2.06-.94L8.5 2.5l-.94 2.06-2.06.94zm10 10l.94 2.06.94-2.06 2.06-.94-2.06-.94-.94-2.06-.94 2.06-2.06.94z\"/><path d=\"M17.41 7.96l-1.37-1.37c-.4-.4-.92-.59-1.43-.59-.52 0-1.04.2-1.43.59L10.3 9.45l-7.72 7.72c-.78.78-.78 2.05 0 2.83L4 21.41c.39.39.9.59 1.41.59.51 0 1.02-.2 1.41-.59l7.78-7.78 2.81-2.81c.8-.78.8-2.07 0-2.86zM5.41 20L4 18.59l7.72-7.72 1.47 1.35L5.41 20z\"/>\n",
              "  </svg>\n",
              "      </button>\n",
              "      \n",
              "  <style>\n",
              "    .colab-df-container {\n",
              "      display:flex;\n",
              "      flex-wrap:wrap;\n",
              "      gap: 12px;\n",
              "    }\n",
              "\n",
              "    .colab-df-convert {\n",
              "      background-color: #E8F0FE;\n",
              "      border: none;\n",
              "      border-radius: 50%;\n",
              "      cursor: pointer;\n",
              "      display: none;\n",
              "      fill: #1967D2;\n",
              "      height: 32px;\n",
              "      padding: 0 0 0 0;\n",
              "      width: 32px;\n",
              "    }\n",
              "\n",
              "    .colab-df-convert:hover {\n",
              "      background-color: #E2EBFA;\n",
              "      box-shadow: 0px 1px 2px rgba(60, 64, 67, 0.3), 0px 1px 3px 1px rgba(60, 64, 67, 0.15);\n",
              "      fill: #174EA6;\n",
              "    }\n",
              "\n",
              "    [theme=dark] .colab-df-convert {\n",
              "      background-color: #3B4455;\n",
              "      fill: #D2E3FC;\n",
              "    }\n",
              "\n",
              "    [theme=dark] .colab-df-convert:hover {\n",
              "      background-color: #434B5C;\n",
              "      box-shadow: 0px 1px 3px 1px rgba(0, 0, 0, 0.15);\n",
              "      filter: drop-shadow(0px 1px 2px rgba(0, 0, 0, 0.3));\n",
              "      fill: #FFFFFF;\n",
              "    }\n",
              "  </style>\n",
              "\n",
              "      <script>\n",
              "        const buttonEl =\n",
              "          document.querySelector('#df-f64d200a-40b1-41aa-a116-fa431c6d99c7 button.colab-df-convert');\n",
              "        buttonEl.style.display =\n",
              "          google.colab.kernel.accessAllowed ? 'block' : 'none';\n",
              "\n",
              "        async function convertToInteractive(key) {\n",
              "          const element = document.querySelector('#df-f64d200a-40b1-41aa-a116-fa431c6d99c7');\n",
              "          const dataTable =\n",
              "            await google.colab.kernel.invokeFunction('convertToInteractive',\n",
              "                                                     [key], {});\n",
              "          if (!dataTable) return;\n",
              "\n",
              "          const docLinkHtml = 'Like what you see? Visit the ' +\n",
              "            '<a target=\"_blank\" href=https://colab.research.google.com/notebooks/data_table.ipynb>data table notebook</a>'\n",
              "            + ' to learn more about interactive tables.';\n",
              "          element.innerHTML = '';\n",
              "          dataTable['output_type'] = 'display_data';\n",
              "          await google.colab.output.renderOutput(dataTable, element);\n",
              "          const docLink = document.createElement('div');\n",
              "          docLink.innerHTML = docLinkHtml;\n",
              "          element.appendChild(docLink);\n",
              "        }\n",
              "      </script>\n",
              "    </div>\n",
              "  </div>\n",
              "  "
            ]
          },
          "metadata": {},
          "execution_count": 123
        }
      ]
    },
    {
      "cell_type": "markdown",
      "source": [
        "Polynomial SVC 모델의 성능은 num_words에 큰 영향을 받지 않는다."
      ],
      "metadata": {
        "id": "w_z57E00jwLJ"
      }
    },
    {
      "cell_type": "markdown",
      "source": [
        "<br/>"
      ],
      "metadata": {
        "id": "wkguKWS3wWyD"
      }
    },
    {
      "cell_type": "markdown",
      "source": [
        "#Decision Tree"
      ],
      "metadata": {
        "id": "eLLvgN6nRXUK"
      }
    },
    {
      "cell_type": "markdown",
      "source": [
        "##Decision Tree Classifier"
      ],
      "metadata": {
        "id": "B7lzLqXhv7jw"
      }
    },
    {
      "cell_type": "code",
      "source": [
        "none_tree_model  = DecisionTreeClassifier(max_depth=10, random_state=0)\n",
        "none_tree_model.fit(none_tfidfv_train, none_y_train)\n",
        "none_tree_predicted = none_tree_model.predict(none_tfidfv_test) \n",
        "none_tree_accuracy = accuracy_score(none_y_test, none_tree_predicted)\n",
        "print(\"accuracy :\", none_tree_accuracy)  "
      ],
      "metadata": {
        "id": "wPG-QxeLv8PR",
        "colab": {
          "base_uri": "https://localhost:8080/"
        },
        "outputId": "d7a65b42-1d34-4e2d-bf81-23f9b225d76e"
      },
      "execution_count": null,
      "outputs": [
        {
          "output_type": "stream",
          "name": "stdout",
          "text": [
            "accuracy : 0.6211041852181657\n"
          ]
        }
      ]
    },
    {
      "cell_type": "markdown",
      "source": [
        "num_words=None일 때, Decision Tree 모델의 성능 'accuracy'는 62.11%이다."
      ],
      "metadata": {
        "id": "UMq2lVaxv2lT"
      }
    },
    {
      "cell_type": "markdown",
      "source": [
        "<br/>"
      ],
      "metadata": {
        "id": "oxpMFcrcwWAb"
      }
    },
    {
      "cell_type": "code",
      "source": [
        "ten_tree_model  = DecisionTreeClassifier(max_depth=10, random_state=0)\n",
        "ten_tree_model.fit(ten_tfidfv_train, ten_y_train)\n",
        "ten_tree_predicted = ten_tree_model.predict(ten_tfidfv_test) \n",
        "ten_tree_accuracy = accuracy_score(ten_y_test, ten_tree_predicted)\n",
        "print(\"accuracy :\", ten_tree_accuracy)  "
      ],
      "metadata": {
        "id": "W3f31sr0vBs7",
        "colab": {
          "base_uri": "https://localhost:8080/"
        },
        "outputId": "a5e46322-e6f8-4cea-8fb8-9ea00986746d"
      },
      "execution_count": null,
      "outputs": [
        {
          "output_type": "stream",
          "name": "stdout",
          "text": [
            "accuracy : 0.6202137132680321\n"
          ]
        }
      ]
    },
    {
      "cell_type": "markdown",
      "source": [
        "num_words=10000일 때, Decision Tree 모델의 성능 'accuracy'는 62.02%이다."
      ],
      "metadata": {
        "id": "XaIXsgWFv4Lk"
      }
    },
    {
      "cell_type": "markdown",
      "source": [
        "<br/>"
      ],
      "metadata": {
        "id": "ixlFQ0bHwVkD"
      }
    },
    {
      "cell_type": "code",
      "source": [
        "five_tree_model  = DecisionTreeClassifier(max_depth=10, random_state=0)\n",
        "five_tree_model.fit(five_tfidfv_train, five_y_train)\n",
        "five_tree_predicted = five_tree_model.predict(five_tfidfv_test) \n",
        "five_tree_accuracy = accuracy_score(five_y_test, five_tree_predicted)\n",
        "print(\"accuracy :\", five_tree_accuracy) "
      ],
      "metadata": {
        "id": "8Y3urydHvBzg",
        "colab": {
          "base_uri": "https://localhost:8080/"
        },
        "outputId": "f075cd0b-12c6-4783-bbef-753bff6264e1"
      },
      "execution_count": null,
      "outputs": [
        {
          "output_type": "stream",
          "name": "stdout",
          "text": [
            "accuracy : 0.6179875333926982\n"
          ]
        }
      ]
    },
    {
      "cell_type": "markdown",
      "source": [
        "num_words=5000일 때, Decision Tree 모델의 성능 'accuracy'는 61.80%이다."
      ],
      "metadata": {
        "id": "HTyHonaRv5Kc"
      }
    },
    {
      "cell_type": "markdown",
      "source": [
        "<br/>"
      ],
      "metadata": {
        "id": "uEpdCJxNwU8M"
      }
    },
    {
      "cell_type": "code",
      "source": [
        "one_tree_model  = DecisionTreeClassifier(max_depth=10, random_state=0)\n",
        "one_tree_model.fit(one_tfidfv_train, one_y_train)\n",
        "one_tree_predicted = one_tree_model.predict(one_tfidfv_test) \n",
        "one_tree_accuracy = accuracy_score(one_y_test, one_tree_predicted)\n",
        "print(\"accuracy :\", one_tree_accuracy) "
      ],
      "metadata": {
        "id": "O5RlkVROvMr_",
        "colab": {
          "base_uri": "https://localhost:8080/"
        },
        "outputId": "50bb64ff-8706-410e-d813-580ed1f0384d"
      },
      "execution_count": null,
      "outputs": [
        {
          "output_type": "stream",
          "name": "stdout",
          "text": [
            "accuracy : 0.6179875333926982\n"
          ]
        }
      ]
    },
    {
      "cell_type": "markdown",
      "source": [
        "num_words=1000일 때, Decision Tree 모델의 성능 'accuracy'는 61.80%이다."
      ],
      "metadata": {
        "id": "gE0YCkOov6NA"
      }
    },
    {
      "cell_type": "markdown",
      "source": [
        "<br/>"
      ],
      "metadata": {
        "id": "apsnI1HvwUmO"
      }
    },
    {
      "cell_type": "code",
      "source": [
        "tree_model_comparison = [round(none_tree_accuracy, 4), round(ten_tree_accuracy, 4),\n",
        "                        round(five_tree_accuracy, 4), round(one_tree_accuracy, 4)]\n",
        "\n",
        "\n",
        "tree_model_name = ['tree_none', 'tree_10000', 'tree_5000', 'tree_1000']\n",
        "\n",
        "tree_df = pd.DataFrame({\"Model\": tree_model_name,\n",
        "                  \"Accuracy\":tree_model_comparison})\n",
        "tree_df_sorted = tree_df.sort_values('Accuracy',ascending=False)\n",
        "tree_df_sorted"
      ],
      "metadata": {
        "id": "fmcBeyyKTs2R",
        "colab": {
          "base_uri": "https://localhost:8080/",
          "height": 175
        },
        "outputId": "756c9d62-e0cf-44de-f4ae-1d8ea3542f91"
      },
      "execution_count": null,
      "outputs": [
        {
          "output_type": "execute_result",
          "data": {
            "text/plain": [
              "        Model  Accuracy\n",
              "0   tree_none    0.6211\n",
              "1  tree_10000    0.6202\n",
              "2   tree_5000    0.6180\n",
              "3   tree_1000    0.6180"
            ],
            "text/html": [
              "\n",
              "  <div id=\"df-b7936ff0-7569-4d76-8505-e2a642eae942\">\n",
              "    <div class=\"colab-df-container\">\n",
              "      <div>\n",
              "<style scoped>\n",
              "    .dataframe tbody tr th:only-of-type {\n",
              "        vertical-align: middle;\n",
              "    }\n",
              "\n",
              "    .dataframe tbody tr th {\n",
              "        vertical-align: top;\n",
              "    }\n",
              "\n",
              "    .dataframe thead th {\n",
              "        text-align: right;\n",
              "    }\n",
              "</style>\n",
              "<table border=\"1\" class=\"dataframe\">\n",
              "  <thead>\n",
              "    <tr style=\"text-align: right;\">\n",
              "      <th></th>\n",
              "      <th>Model</th>\n",
              "      <th>Accuracy</th>\n",
              "    </tr>\n",
              "  </thead>\n",
              "  <tbody>\n",
              "    <tr>\n",
              "      <th>0</th>\n",
              "      <td>tree_none</td>\n",
              "      <td>0.6211</td>\n",
              "    </tr>\n",
              "    <tr>\n",
              "      <th>1</th>\n",
              "      <td>tree_10000</td>\n",
              "      <td>0.6202</td>\n",
              "    </tr>\n",
              "    <tr>\n",
              "      <th>2</th>\n",
              "      <td>tree_5000</td>\n",
              "      <td>0.6180</td>\n",
              "    </tr>\n",
              "    <tr>\n",
              "      <th>3</th>\n",
              "      <td>tree_1000</td>\n",
              "      <td>0.6180</td>\n",
              "    </tr>\n",
              "  </tbody>\n",
              "</table>\n",
              "</div>\n",
              "      <button class=\"colab-df-convert\" onclick=\"convertToInteractive('df-b7936ff0-7569-4d76-8505-e2a642eae942')\"\n",
              "              title=\"Convert this dataframe to an interactive table.\"\n",
              "              style=\"display:none;\">\n",
              "        \n",
              "  <svg xmlns=\"http://www.w3.org/2000/svg\" height=\"24px\"viewBox=\"0 0 24 24\"\n",
              "       width=\"24px\">\n",
              "    <path d=\"M0 0h24v24H0V0z\" fill=\"none\"/>\n",
              "    <path d=\"M18.56 5.44l.94 2.06.94-2.06 2.06-.94-2.06-.94-.94-2.06-.94 2.06-2.06.94zm-11 1L8.5 8.5l.94-2.06 2.06-.94-2.06-.94L8.5 2.5l-.94 2.06-2.06.94zm10 10l.94 2.06.94-2.06 2.06-.94-2.06-.94-.94-2.06-.94 2.06-2.06.94z\"/><path d=\"M17.41 7.96l-1.37-1.37c-.4-.4-.92-.59-1.43-.59-.52 0-1.04.2-1.43.59L10.3 9.45l-7.72 7.72c-.78.78-.78 2.05 0 2.83L4 21.41c.39.39.9.59 1.41.59.51 0 1.02-.2 1.41-.59l7.78-7.78 2.81-2.81c.8-.78.8-2.07 0-2.86zM5.41 20L4 18.59l7.72-7.72 1.47 1.35L5.41 20z\"/>\n",
              "  </svg>\n",
              "      </button>\n",
              "      \n",
              "  <style>\n",
              "    .colab-df-container {\n",
              "      display:flex;\n",
              "      flex-wrap:wrap;\n",
              "      gap: 12px;\n",
              "    }\n",
              "\n",
              "    .colab-df-convert {\n",
              "      background-color: #E8F0FE;\n",
              "      border: none;\n",
              "      border-radius: 50%;\n",
              "      cursor: pointer;\n",
              "      display: none;\n",
              "      fill: #1967D2;\n",
              "      height: 32px;\n",
              "      padding: 0 0 0 0;\n",
              "      width: 32px;\n",
              "    }\n",
              "\n",
              "    .colab-df-convert:hover {\n",
              "      background-color: #E2EBFA;\n",
              "      box-shadow: 0px 1px 2px rgba(60, 64, 67, 0.3), 0px 1px 3px 1px rgba(60, 64, 67, 0.15);\n",
              "      fill: #174EA6;\n",
              "    }\n",
              "\n",
              "    [theme=dark] .colab-df-convert {\n",
              "      background-color: #3B4455;\n",
              "      fill: #D2E3FC;\n",
              "    }\n",
              "\n",
              "    [theme=dark] .colab-df-convert:hover {\n",
              "      background-color: #434B5C;\n",
              "      box-shadow: 0px 1px 3px 1px rgba(0, 0, 0, 0.15);\n",
              "      filter: drop-shadow(0px 1px 2px rgba(0, 0, 0, 0.3));\n",
              "      fill: #FFFFFF;\n",
              "    }\n",
              "  </style>\n",
              "\n",
              "      <script>\n",
              "        const buttonEl =\n",
              "          document.querySelector('#df-b7936ff0-7569-4d76-8505-e2a642eae942 button.colab-df-convert');\n",
              "        buttonEl.style.display =\n",
              "          google.colab.kernel.accessAllowed ? 'block' : 'none';\n",
              "\n",
              "        async function convertToInteractive(key) {\n",
              "          const element = document.querySelector('#df-b7936ff0-7569-4d76-8505-e2a642eae942');\n",
              "          const dataTable =\n",
              "            await google.colab.kernel.invokeFunction('convertToInteractive',\n",
              "                                                     [key], {});\n",
              "          if (!dataTable) return;\n",
              "\n",
              "          const docLinkHtml = 'Like what you see? Visit the ' +\n",
              "            '<a target=\"_blank\" href=https://colab.research.google.com/notebooks/data_table.ipynb>data table notebook</a>'\n",
              "            + ' to learn more about interactive tables.';\n",
              "          element.innerHTML = '';\n",
              "          dataTable['output_type'] = 'display_data';\n",
              "          await google.colab.output.renderOutput(dataTable, element);\n",
              "          const docLink = document.createElement('div');\n",
              "          docLink.innerHTML = docLinkHtml;\n",
              "          element.appendChild(docLink);\n",
              "        }\n",
              "      </script>\n",
              "    </div>\n",
              "  </div>\n",
              "  "
            ]
          },
          "metadata": {},
          "execution_count": 130
        }
      ]
    },
    {
      "cell_type": "markdown",
      "source": [
        "num_words=n에서 n이 클수록 Decision Tree 모델의 성능이 높다."
      ],
      "metadata": {
        "id": "uXSKLXtGtHM5"
      }
    },
    {
      "cell_type": "markdown",
      "source": [
        "<br/>"
      ],
      "metadata": {
        "id": "iBig1PdFwT0D"
      }
    },
    {
      "cell_type": "markdown",
      "source": [
        "##ExtraTrees Classifier"
      ],
      "metadata": {
        "id": "6-9Ion9efndd"
      }
    },
    {
      "cell_type": "code",
      "source": [
        "none_extree_model = ExtraTreesClassifier(max_depth=10, random_state=0)\n",
        "none_extree_model.fit(none_tfidfv_train, none_y_train)\n",
        "none_extree_predicted = none_extree_model.predict(none_tfidfv_test) \n",
        "none_extree_accuracy = accuracy_score(none_y_test, none_extree_predicted)\n",
        "print(\"accuracy :\", none_extree_accuracy)  "
      ],
      "metadata": {
        "colab": {
          "base_uri": "https://localhost:8080/"
        },
        "id": "kwiu3OaeuSko",
        "outputId": "4098c493-a14f-4d7a-93e7-076fce81a22a"
      },
      "execution_count": null,
      "outputs": [
        {
          "output_type": "stream",
          "name": "stdout",
          "text": [
            "accuracy : 0.4772929652715939\n"
          ]
        }
      ]
    },
    {
      "cell_type": "markdown",
      "source": [
        "num_words=None일 때, ExtraTrees Classifier 모델의 성능 'accuracy'는 47.73%이다."
      ],
      "metadata": {
        "id": "UXjYP5G8v9B_"
      }
    },
    {
      "cell_type": "markdown",
      "source": [
        "<br/>"
      ],
      "metadata": {
        "id": "AJ13nuGLwTKr"
      }
    },
    {
      "cell_type": "code",
      "source": [
        "ten_extree_model = ExtraTreesClassifier(max_depth=10, random_state=0)\n",
        "ten_extree_model.fit(ten_tfidfv_train, ten_y_train)\n",
        "ten_extree_predicted = ten_extree_model.predict(ten_tfidfv_test) \n",
        "ten_extree_accuracy = accuracy_score(ten_y_test, ten_extree_predicted)\n",
        "print(\"accuracy :\", ten_extree_accuracy)  "
      ],
      "metadata": {
        "id": "n908WBidvP2E",
        "colab": {
          "base_uri": "https://localhost:8080/"
        },
        "outputId": "1aa4d431-124e-4a4d-a8d9-4153535a6b7a"
      },
      "execution_count": null,
      "outputs": [
        {
          "output_type": "stream",
          "name": "stdout",
          "text": [
            "accuracy : 0.5258236865538736\n"
          ]
        }
      ]
    },
    {
      "cell_type": "markdown",
      "source": [
        "num_words=10000일 때, ExtraTrees Classifier 모델의 성능 'accuracy'는 52.58%이다."
      ],
      "metadata": {
        "id": "kcjY6t_Ev-K7"
      }
    },
    {
      "cell_type": "markdown",
      "source": [
        "<br/>"
      ],
      "metadata": {
        "id": "zcrF8dZ6wS1e"
      }
    },
    {
      "cell_type": "code",
      "source": [
        "five_extree_model = ExtraTreesClassifier(max_depth=10, random_state=0)\n",
        "five_extree_model.fit(five_tfidfv_train, five_y_train)\n",
        "five_extree_predicted = five_extree_model.predict(five_tfidfv_test) \n",
        "five_extree_accuracy = accuracy_score(five_y_test, five_extree_predicted)\n",
        "print(\"accuracy :\", five_extree_accuracy)  "
      ],
      "metadata": {
        "id": "YTBkPBYDvP7K",
        "colab": {
          "base_uri": "https://localhost:8080/"
        },
        "outputId": "4c9b4e92-862d-4961-80c5-88948bc2d029"
      },
      "execution_count": null,
      "outputs": [
        {
          "output_type": "stream",
          "name": "stdout",
          "text": [
            "accuracy : 0.7666963490650045\n"
          ]
        }
      ]
    },
    {
      "cell_type": "markdown",
      "source": [
        "num_words=5000일 때, ExtraTrees Classifier 모델의 성능 'accuracy'는 76.67%이다."
      ],
      "metadata": {
        "id": "lLFJ1V_Yv_i1"
      }
    },
    {
      "cell_type": "markdown",
      "source": [
        "<br/>"
      ],
      "metadata": {
        "id": "KByVNNyewSPE"
      }
    },
    {
      "cell_type": "code",
      "source": [
        "one_extree_model = ExtraTreesClassifier(max_depth=10, random_state=0)\n",
        "one_extree_model.fit(one_tfidfv_train, one_y_train)\n",
        "one_extree_predicted = one_extree_model.predict(one_tfidfv_test) \n",
        "one_extree_accuracy = accuracy_score(one_y_test, one_extree_predicted)\n",
        "print(\"accuracy :\", one_extree_accuracy) "
      ],
      "metadata": {
        "colab": {
          "base_uri": "https://localhost:8080/"
        },
        "id": "Xmy3M6RUuIdy",
        "outputId": "befb5ce9-f383-4945-9f86-326296c2a52f"
      },
      "execution_count": null,
      "outputs": [
        {
          "output_type": "stream",
          "name": "stdout",
          "text": [
            "accuracy : 0.5632235084594835\n"
          ]
        }
      ]
    },
    {
      "cell_type": "markdown",
      "source": [
        "num_words=1000일 때, ExtraTrees Classifier 모델의 성능 'accuracy'는 56.32%이다."
      ],
      "metadata": {
        "id": "l8ByEKTiwA-a"
      }
    },
    {
      "cell_type": "markdown",
      "source": [
        "<br/>"
      ],
      "metadata": {
        "id": "ZxE-cRmnwRyH"
      }
    },
    {
      "cell_type": "code",
      "source": [
        "extree_model_comparison = [round(none_extree_accuracy, 4), round(ten_extree_accuracy, 4),\n",
        "                        round(five_extree_accuracy, 4), round(one_extree_accuracy, 4)]\n",
        "\n",
        "extree_model_name = ['extree_none', 'extree_10000', 'extree_5000', 'extree_1000']\n",
        "\n",
        "extree_df = pd.DataFrame({\"Model\": extree_model_name,\n",
        "                  \"Accuracy\":extree_model_comparison})\n",
        "extree_df_sorted = extree_df.sort_values('Accuracy',ascending=False)\n",
        "extree_df_sorted"
      ],
      "metadata": {
        "id": "lrhT4-1CTyuz",
        "colab": {
          "base_uri": "https://localhost:8080/",
          "height": 175
        },
        "outputId": "cede0149-c6de-4391-937a-1161f722c548"
      },
      "execution_count": null,
      "outputs": [
        {
          "output_type": "execute_result",
          "data": {
            "text/plain": [
              "          Model  Accuracy\n",
              "2   extree_5000    0.7667\n",
              "3   extree_1000    0.5632\n",
              "1  extree_10000    0.5258\n",
              "0   extree_none    0.4773"
            ],
            "text/html": [
              "\n",
              "  <div id=\"df-6962485e-24cf-41c9-ab3d-dcc33ef50102\">\n",
              "    <div class=\"colab-df-container\">\n",
              "      <div>\n",
              "<style scoped>\n",
              "    .dataframe tbody tr th:only-of-type {\n",
              "        vertical-align: middle;\n",
              "    }\n",
              "\n",
              "    .dataframe tbody tr th {\n",
              "        vertical-align: top;\n",
              "    }\n",
              "\n",
              "    .dataframe thead th {\n",
              "        text-align: right;\n",
              "    }\n",
              "</style>\n",
              "<table border=\"1\" class=\"dataframe\">\n",
              "  <thead>\n",
              "    <tr style=\"text-align: right;\">\n",
              "      <th></th>\n",
              "      <th>Model</th>\n",
              "      <th>Accuracy</th>\n",
              "    </tr>\n",
              "  </thead>\n",
              "  <tbody>\n",
              "    <tr>\n",
              "      <th>2</th>\n",
              "      <td>extree_5000</td>\n",
              "      <td>0.7667</td>\n",
              "    </tr>\n",
              "    <tr>\n",
              "      <th>3</th>\n",
              "      <td>extree_1000</td>\n",
              "      <td>0.5632</td>\n",
              "    </tr>\n",
              "    <tr>\n",
              "      <th>1</th>\n",
              "      <td>extree_10000</td>\n",
              "      <td>0.5258</td>\n",
              "    </tr>\n",
              "    <tr>\n",
              "      <th>0</th>\n",
              "      <td>extree_none</td>\n",
              "      <td>0.4773</td>\n",
              "    </tr>\n",
              "  </tbody>\n",
              "</table>\n",
              "</div>\n",
              "      <button class=\"colab-df-convert\" onclick=\"convertToInteractive('df-6962485e-24cf-41c9-ab3d-dcc33ef50102')\"\n",
              "              title=\"Convert this dataframe to an interactive table.\"\n",
              "              style=\"display:none;\">\n",
              "        \n",
              "  <svg xmlns=\"http://www.w3.org/2000/svg\" height=\"24px\"viewBox=\"0 0 24 24\"\n",
              "       width=\"24px\">\n",
              "    <path d=\"M0 0h24v24H0V0z\" fill=\"none\"/>\n",
              "    <path d=\"M18.56 5.44l.94 2.06.94-2.06 2.06-.94-2.06-.94-.94-2.06-.94 2.06-2.06.94zm-11 1L8.5 8.5l.94-2.06 2.06-.94-2.06-.94L8.5 2.5l-.94 2.06-2.06.94zm10 10l.94 2.06.94-2.06 2.06-.94-2.06-.94-.94-2.06-.94 2.06-2.06.94z\"/><path d=\"M17.41 7.96l-1.37-1.37c-.4-.4-.92-.59-1.43-.59-.52 0-1.04.2-1.43.59L10.3 9.45l-7.72 7.72c-.78.78-.78 2.05 0 2.83L4 21.41c.39.39.9.59 1.41.59.51 0 1.02-.2 1.41-.59l7.78-7.78 2.81-2.81c.8-.78.8-2.07 0-2.86zM5.41 20L4 18.59l7.72-7.72 1.47 1.35L5.41 20z\"/>\n",
              "  </svg>\n",
              "      </button>\n",
              "      \n",
              "  <style>\n",
              "    .colab-df-container {\n",
              "      display:flex;\n",
              "      flex-wrap:wrap;\n",
              "      gap: 12px;\n",
              "    }\n",
              "\n",
              "    .colab-df-convert {\n",
              "      background-color: #E8F0FE;\n",
              "      border: none;\n",
              "      border-radius: 50%;\n",
              "      cursor: pointer;\n",
              "      display: none;\n",
              "      fill: #1967D2;\n",
              "      height: 32px;\n",
              "      padding: 0 0 0 0;\n",
              "      width: 32px;\n",
              "    }\n",
              "\n",
              "    .colab-df-convert:hover {\n",
              "      background-color: #E2EBFA;\n",
              "      box-shadow: 0px 1px 2px rgba(60, 64, 67, 0.3), 0px 1px 3px 1px rgba(60, 64, 67, 0.15);\n",
              "      fill: #174EA6;\n",
              "    }\n",
              "\n",
              "    [theme=dark] .colab-df-convert {\n",
              "      background-color: #3B4455;\n",
              "      fill: #D2E3FC;\n",
              "    }\n",
              "\n",
              "    [theme=dark] .colab-df-convert:hover {\n",
              "      background-color: #434B5C;\n",
              "      box-shadow: 0px 1px 3px 1px rgba(0, 0, 0, 0.15);\n",
              "      filter: drop-shadow(0px 1px 2px rgba(0, 0, 0, 0.3));\n",
              "      fill: #FFFFFF;\n",
              "    }\n",
              "  </style>\n",
              "\n",
              "      <script>\n",
              "        const buttonEl =\n",
              "          document.querySelector('#df-6962485e-24cf-41c9-ab3d-dcc33ef50102 button.colab-df-convert');\n",
              "        buttonEl.style.display =\n",
              "          google.colab.kernel.accessAllowed ? 'block' : 'none';\n",
              "\n",
              "        async function convertToInteractive(key) {\n",
              "          const element = document.querySelector('#df-6962485e-24cf-41c9-ab3d-dcc33ef50102');\n",
              "          const dataTable =\n",
              "            await google.colab.kernel.invokeFunction('convertToInteractive',\n",
              "                                                     [key], {});\n",
              "          if (!dataTable) return;\n",
              "\n",
              "          const docLinkHtml = 'Like what you see? Visit the ' +\n",
              "            '<a target=\"_blank\" href=https://colab.research.google.com/notebooks/data_table.ipynb>data table notebook</a>'\n",
              "            + ' to learn more about interactive tables.';\n",
              "          element.innerHTML = '';\n",
              "          dataTable['output_type'] = 'display_data';\n",
              "          await google.colab.output.renderOutput(dataTable, element);\n",
              "          const docLink = document.createElement('div');\n",
              "          docLink.innerHTML = docLinkHtml;\n",
              "          element.appendChild(docLink);\n",
              "        }\n",
              "      </script>\n",
              "    </div>\n",
              "  </div>\n",
              "  "
            ]
          },
          "metadata": {},
          "execution_count": 140
        }
      ]
    },
    {
      "cell_type": "markdown",
      "source": [
        "num_words = 5000일 때 ExtraTrees Classifier 모델의 성능이 높다."
      ],
      "metadata": {
        "id": "-Q2XYouKuh7J"
      }
    },
    {
      "cell_type": "markdown",
      "source": [
        "<br/>"
      ],
      "metadata": {
        "id": "_PQEDNTgwRFu"
      }
    },
    {
      "cell_type": "markdown",
      "source": [
        "#Ensemble Method"
      ],
      "metadata": {
        "id": "DELQuWybRii_"
      }
    },
    {
      "cell_type": "markdown",
      "source": [
        "##Random Forest"
      ],
      "metadata": {
        "id": "iM5q2DOewKy7"
      }
    },
    {
      "cell_type": "code",
      "source": [
        "none_forest_model = RandomForestClassifier(n_estimators=5, random_state=0)\n",
        "none_forest_model.fit(none_tfidfv_train, none_y_train)\n",
        "none_forest_predicted = none_forest_model.predict(none_tfidfv_test) \n",
        "none_forest_accuracy = accuracy_score(none_y_test, none_forest_predicted)\n",
        "print(\"accuracy :\", none_forest_accuracy)"
      ],
      "metadata": {
        "id": "-LvZBv6HwHb0",
        "colab": {
          "base_uri": "https://localhost:8080/"
        },
        "outputId": "c7eae775-3cff-4663-aab4-2358724d5aa7"
      },
      "execution_count": null,
      "outputs": [
        {
          "output_type": "stream",
          "name": "stdout",
          "text": [
            "accuracy : 0.6544968833481746\n"
          ]
        }
      ]
    },
    {
      "cell_type": "markdown",
      "source": [
        "num_words=None일 때, Random Forest 모델의 성능 'accuracy'는 65.45%이다."
      ],
      "metadata": {
        "id": "Xjup-VWnB3rI"
      }
    },
    {
      "cell_type": "markdown",
      "source": [
        "<br/>"
      ],
      "metadata": {
        "id": "2UE9lw05wQb0"
      }
    },
    {
      "cell_type": "code",
      "source": [
        "ten_forest_model = RandomForestClassifier(n_estimators=5, random_state=0)\n",
        "ten_forest_model.fit(ten_tfidfv_train, ten_y_train)\n",
        "ten_forest_predicted = ten_forest_model.predict(ten_tfidfv_test) \n",
        "ten_forest_accuracy = accuracy_score(ten_y_test, ten_forest_predicted)\n",
        "print(\"accuracy :\", ten_forest_accuracy)"
      ],
      "metadata": {
        "id": "uAUePfknw24e",
        "colab": {
          "base_uri": "https://localhost:8080/"
        },
        "outputId": "0f16500d-93d6-4ca6-8a79-f7c00e3b6581"
      },
      "execution_count": null,
      "outputs": [
        {
          "output_type": "stream",
          "name": "stdout",
          "text": [
            "accuracy : 0.674087266251113\n"
          ]
        }
      ]
    },
    {
      "cell_type": "markdown",
      "source": [
        "num_words=10000일 때, Random Forest 모델의 성능 'accuracy'는 67.41%이다."
      ],
      "metadata": {
        "id": "5PJ6gczmB5dy"
      }
    },
    {
      "cell_type": "markdown",
      "source": [
        "<br/>"
      ],
      "metadata": {
        "id": "QQSww14SwP9E"
      }
    },
    {
      "cell_type": "code",
      "source": [
        "five_forest_model = RandomForestClassifier(n_estimators=5, random_state=0)\n",
        "five_forest_model.fit(five_tfidfv_train, five_y_train)\n",
        "five_forest_predicted = five_forest_model.predict(five_tfidfv_test) \n",
        "five_forest_accuracy = accuracy_score(five_y_test, five_forest_predicted)\n",
        "print(\"accuracy :\", five_forest_accuracy)"
      ],
      "metadata": {
        "id": "_Sf1q_Duw2_K",
        "colab": {
          "base_uri": "https://localhost:8080/"
        },
        "outputId": "09ccecc3-41db-4841-88e4-e4312ec2b895"
      },
      "execution_count": null,
      "outputs": [
        {
          "output_type": "stream",
          "name": "stdout",
          "text": [
            "accuracy : 0.701246660730187\n"
          ]
        }
      ]
    },
    {
      "cell_type": "markdown",
      "source": [
        "num_words=5000일 때, Random Forest 모델의 성능 'accuracy'는 70.12%이다."
      ],
      "metadata": {
        "id": "lv8DtA2EB6-e"
      }
    },
    {
      "cell_type": "markdown",
      "source": [
        "<br/>"
      ],
      "metadata": {
        "id": "d8p1bJBQwPY7"
      }
    },
    {
      "cell_type": "code",
      "source": [
        "one_forest_model = RandomForestClassifier(n_estimators=5, random_state=0)\n",
        "one_forest_model.fit(one_tfidfv_train, one_y_train)\n",
        "one_forest_predicted = one_forest_model.predict(one_tfidfv_test) \n",
        "one_forest_accuracy = accuracy_score(one_y_test, one_forest_predicted)\n",
        "print(\"accuracy :\", one_forest_accuracy)"
      ],
      "metadata": {
        "id": "aVFleWjXw3Gy",
        "colab": {
          "base_uri": "https://localhost:8080/"
        },
        "outputId": "2ed54d4d-cce2-4789-da23-b6cf33679176"
      },
      "execution_count": null,
      "outputs": [
        {
          "output_type": "stream",
          "name": "stdout",
          "text": [
            "accuracy : 0.701246660730187\n"
          ]
        }
      ]
    },
    {
      "cell_type": "markdown",
      "source": [
        "num_words=1000일 때, Random Forest 모델의 성능 'accuracy'는 70.12%이다."
      ],
      "metadata": {
        "id": "fKv1kzPGB8RP"
      }
    },
    {
      "cell_type": "markdown",
      "source": [
        "<br/>"
      ],
      "metadata": {
        "id": "1ihxyoxvwO8T"
      }
    },
    {
      "cell_type": "code",
      "source": [
        "forest_model_comparison = [round(none_forest_accuracy, 4), round(ten_forest_accuracy, 4),\n",
        "                        round(five_forest_accuracy, 4), round(one_forest_accuracy, 4)]\n",
        "\n",
        "forest_model_name = ['forest_none', 'forest_10000', 'forest_5000', 'forest_1000']\n",
        "\n",
        "forest_df = pd.DataFrame({\"Model\": forest_model_name,\n",
        "                  \"Accuracy\":forest_model_comparison})\n",
        "forest_df_sorted = forest_df.sort_values('Accuracy',ascending=False)\n",
        "forest_df_sorted"
      ],
      "metadata": {
        "id": "0JR-LqktUDdz",
        "colab": {
          "base_uri": "https://localhost:8080/",
          "height": 175
        },
        "outputId": "8f45bf9e-e7fc-4c03-a170-a94a1b616c5a"
      },
      "execution_count": null,
      "outputs": [
        {
          "output_type": "execute_result",
          "data": {
            "text/plain": [
              "          Model  Accuracy\n",
              "2   forest_5000    0.7012\n",
              "3   forest_1000    0.7012\n",
              "1  forest_10000    0.6741\n",
              "0   forest_none    0.6545"
            ],
            "text/html": [
              "\n",
              "  <div id=\"df-ec4fa9d2-5253-453c-950a-60e904181676\">\n",
              "    <div class=\"colab-df-container\">\n",
              "      <div>\n",
              "<style scoped>\n",
              "    .dataframe tbody tr th:only-of-type {\n",
              "        vertical-align: middle;\n",
              "    }\n",
              "\n",
              "    .dataframe tbody tr th {\n",
              "        vertical-align: top;\n",
              "    }\n",
              "\n",
              "    .dataframe thead th {\n",
              "        text-align: right;\n",
              "    }\n",
              "</style>\n",
              "<table border=\"1\" class=\"dataframe\">\n",
              "  <thead>\n",
              "    <tr style=\"text-align: right;\">\n",
              "      <th></th>\n",
              "      <th>Model</th>\n",
              "      <th>Accuracy</th>\n",
              "    </tr>\n",
              "  </thead>\n",
              "  <tbody>\n",
              "    <tr>\n",
              "      <th>2</th>\n",
              "      <td>forest_5000</td>\n",
              "      <td>0.7012</td>\n",
              "    </tr>\n",
              "    <tr>\n",
              "      <th>3</th>\n",
              "      <td>forest_1000</td>\n",
              "      <td>0.7012</td>\n",
              "    </tr>\n",
              "    <tr>\n",
              "      <th>1</th>\n",
              "      <td>forest_10000</td>\n",
              "      <td>0.6741</td>\n",
              "    </tr>\n",
              "    <tr>\n",
              "      <th>0</th>\n",
              "      <td>forest_none</td>\n",
              "      <td>0.6545</td>\n",
              "    </tr>\n",
              "  </tbody>\n",
              "</table>\n",
              "</div>\n",
              "      <button class=\"colab-df-convert\" onclick=\"convertToInteractive('df-ec4fa9d2-5253-453c-950a-60e904181676')\"\n",
              "              title=\"Convert this dataframe to an interactive table.\"\n",
              "              style=\"display:none;\">\n",
              "        \n",
              "  <svg xmlns=\"http://www.w3.org/2000/svg\" height=\"24px\"viewBox=\"0 0 24 24\"\n",
              "       width=\"24px\">\n",
              "    <path d=\"M0 0h24v24H0V0z\" fill=\"none\"/>\n",
              "    <path d=\"M18.56 5.44l.94 2.06.94-2.06 2.06-.94-2.06-.94-.94-2.06-.94 2.06-2.06.94zm-11 1L8.5 8.5l.94-2.06 2.06-.94-2.06-.94L8.5 2.5l-.94 2.06-2.06.94zm10 10l.94 2.06.94-2.06 2.06-.94-2.06-.94-.94-2.06-.94 2.06-2.06.94z\"/><path d=\"M17.41 7.96l-1.37-1.37c-.4-.4-.92-.59-1.43-.59-.52 0-1.04.2-1.43.59L10.3 9.45l-7.72 7.72c-.78.78-.78 2.05 0 2.83L4 21.41c.39.39.9.59 1.41.59.51 0 1.02-.2 1.41-.59l7.78-7.78 2.81-2.81c.8-.78.8-2.07 0-2.86zM5.41 20L4 18.59l7.72-7.72 1.47 1.35L5.41 20z\"/>\n",
              "  </svg>\n",
              "      </button>\n",
              "      \n",
              "  <style>\n",
              "    .colab-df-container {\n",
              "      display:flex;\n",
              "      flex-wrap:wrap;\n",
              "      gap: 12px;\n",
              "    }\n",
              "\n",
              "    .colab-df-convert {\n",
              "      background-color: #E8F0FE;\n",
              "      border: none;\n",
              "      border-radius: 50%;\n",
              "      cursor: pointer;\n",
              "      display: none;\n",
              "      fill: #1967D2;\n",
              "      height: 32px;\n",
              "      padding: 0 0 0 0;\n",
              "      width: 32px;\n",
              "    }\n",
              "\n",
              "    .colab-df-convert:hover {\n",
              "      background-color: #E2EBFA;\n",
              "      box-shadow: 0px 1px 2px rgba(60, 64, 67, 0.3), 0px 1px 3px 1px rgba(60, 64, 67, 0.15);\n",
              "      fill: #174EA6;\n",
              "    }\n",
              "\n",
              "    [theme=dark] .colab-df-convert {\n",
              "      background-color: #3B4455;\n",
              "      fill: #D2E3FC;\n",
              "    }\n",
              "\n",
              "    [theme=dark] .colab-df-convert:hover {\n",
              "      background-color: #434B5C;\n",
              "      box-shadow: 0px 1px 3px 1px rgba(0, 0, 0, 0.15);\n",
              "      filter: drop-shadow(0px 1px 2px rgba(0, 0, 0, 0.3));\n",
              "      fill: #FFFFFF;\n",
              "    }\n",
              "  </style>\n",
              "\n",
              "      <script>\n",
              "        const buttonEl =\n",
              "          document.querySelector('#df-ec4fa9d2-5253-453c-950a-60e904181676 button.colab-df-convert');\n",
              "        buttonEl.style.display =\n",
              "          google.colab.kernel.accessAllowed ? 'block' : 'none';\n",
              "\n",
              "        async function convertToInteractive(key) {\n",
              "          const element = document.querySelector('#df-ec4fa9d2-5253-453c-950a-60e904181676');\n",
              "          const dataTable =\n",
              "            await google.colab.kernel.invokeFunction('convertToInteractive',\n",
              "                                                     [key], {});\n",
              "          if (!dataTable) return;\n",
              "\n",
              "          const docLinkHtml = 'Like what you see? Visit the ' +\n",
              "            '<a target=\"_blank\" href=https://colab.research.google.com/notebooks/data_table.ipynb>data table notebook</a>'\n",
              "            + ' to learn more about interactive tables.';\n",
              "          element.innerHTML = '';\n",
              "          dataTable['output_type'] = 'display_data';\n",
              "          await google.colab.output.renderOutput(dataTable, element);\n",
              "          const docLink = document.createElement('div');\n",
              "          docLink.innerHTML = docLinkHtml;\n",
              "          element.appendChild(docLink);\n",
              "        }\n",
              "      </script>\n",
              "    </div>\n",
              "  </div>\n",
              "  "
            ]
          },
          "metadata": {},
          "execution_count": 145
        }
      ]
    },
    {
      "cell_type": "markdown",
      "source": [
        "num_words=n에서 n이 작을수록 Random Forest 모델의 성능이 높다."
      ],
      "metadata": {
        "id": "3Z__U47ivLVl"
      }
    },
    {
      "cell_type": "markdown",
      "source": [
        "<br/>"
      ],
      "metadata": {
        "id": "eDvPSD_FwOPt"
      }
    },
    {
      "cell_type": "markdown",
      "source": [
        "##AdaBoost Classifier"
      ],
      "metadata": {
        "id": "66PoZuJy7uHH"
      }
    },
    {
      "cell_type": "code",
      "source": [
        "none_adabt_model = AdaBoostClassifier(n_estimators=5, random_state=0)\n",
        "none_adabt_model.fit(none_tfidfv_train, none_y_train)\n",
        "none_adabt_predicted = none_adabt_model.predict(none_tfidfv_test) \n",
        "none_adabt_accuracy = accuracy_score(none_y_test, none_adabt_predicted)\n",
        "print(\"accuracy :\", none_adabt_accuracy) "
      ],
      "metadata": {
        "id": "3bBoOIYhwK7E",
        "colab": {
          "base_uri": "https://localhost:8080/"
        },
        "outputId": "507482c9-2f30-49d5-e670-b1a2fa948143"
      },
      "execution_count": null,
      "outputs": [
        {
          "output_type": "stream",
          "name": "stdout",
          "text": [
            "accuracy : 0.4746215494211932\n"
          ]
        }
      ]
    },
    {
      "cell_type": "markdown",
      "source": [
        "num_words=None일 때, AdaBoost Classifier 모델의 성능 'accuracy'는 47.46%이다."
      ],
      "metadata": {
        "id": "J8cBgY2pCDQP"
      }
    },
    {
      "cell_type": "markdown",
      "source": [
        "<br/>"
      ],
      "metadata": {
        "id": "q-08eQVKwNr7"
      }
    },
    {
      "cell_type": "code",
      "source": [
        "ten_adabt_model = AdaBoostClassifier(n_estimators=5, random_state=0)\n",
        "ten_adabt_model.fit(ten_tfidfv_train, ten_y_train)\n",
        "ten_adabt_predicted = ten_adabt_model.predict(ten_tfidfv_test) \n",
        "ten_adabt_accuracy = accuracy_score(ten_y_test, ten_adabt_predicted)\n",
        "print(\"accuracy :\", ten_adabt_accuracy) "
      ],
      "metadata": {
        "id": "r2CNpwqF755v",
        "colab": {
          "base_uri": "https://localhost:8080/"
        },
        "outputId": "a4c827bb-b1f7-4585-f257-93138662a7fc"
      },
      "execution_count": null,
      "outputs": [
        {
          "output_type": "stream",
          "name": "stdout",
          "text": [
            "accuracy : 0.4746215494211932\n"
          ]
        }
      ]
    },
    {
      "cell_type": "markdown",
      "source": [
        "num_words=10000일 때, AdaBoost Classifier 모델의 성능 'accuracy'는 47.46%이다."
      ],
      "metadata": {
        "id": "Dn12JzEECD6W"
      }
    },
    {
      "cell_type": "markdown",
      "source": [
        "<br/>"
      ],
      "metadata": {
        "id": "lQQbW7EewNNz"
      }
    },
    {
      "cell_type": "code",
      "source": [
        "five_adabt_model = AdaBoostClassifier(n_estimators=5, random_state=0)\n",
        "five_adabt_model.fit(five_tfidfv_train, five_y_train)\n",
        "five_adabt_predicted = five_adabt_model.predict(five_tfidfv_test) \n",
        "five_adabt_accuracy = accuracy_score(five_y_test, five_adabt_predicted)\n",
        "print(\"accuracy :\", five_adabt_accuracy) "
      ],
      "metadata": {
        "id": "S8onH_YpxOZV",
        "colab": {
          "base_uri": "https://localhost:8080/"
        },
        "outputId": "5200e24d-03d7-4a75-eda6-5797eca493eb"
      },
      "execution_count": null,
      "outputs": [
        {
          "output_type": "stream",
          "name": "stdout",
          "text": [
            "accuracy : 0.4732858414959929\n"
          ]
        }
      ]
    },
    {
      "cell_type": "markdown",
      "source": [
        "num_words=5000일 때, AdaBoost Classifier 모델의 성능 'accuracy'는 47.33%이다."
      ],
      "metadata": {
        "id": "v_HOPh7WCHQr"
      }
    },
    {
      "cell_type": "markdown",
      "source": [
        "<br/>"
      ],
      "metadata": {
        "id": "tHuwFOg7wMu8"
      }
    },
    {
      "cell_type": "code",
      "source": [
        "one_adabt_model = AdaBoostClassifier(n_estimators=5, random_state=0)\n",
        "one_adabt_model.fit(one_tfidfv_train, one_y_train)\n",
        "one_adabt_predicted = one_adabt_model.predict(one_tfidfv_test) \n",
        "one_adabt_accuracy = accuracy_score(one_y_test, one_adabt_predicted)\n",
        "print(\"accuracy :\", one_adabt_accuracy) "
      ],
      "metadata": {
        "id": "j2SCWs63xOiM",
        "colab": {
          "base_uri": "https://localhost:8080/"
        },
        "outputId": "66d04a60-4d3b-4dcc-c32c-b25363ce32d0"
      },
      "execution_count": null,
      "outputs": [
        {
          "output_type": "stream",
          "name": "stdout",
          "text": [
            "accuracy : 0.4732858414959929\n"
          ]
        }
      ]
    },
    {
      "cell_type": "markdown",
      "source": [
        "num_words=1000일 때, AdaBoost Classifier 모델의 성능 'accuracy'는 47.33%이다."
      ],
      "metadata": {
        "id": "_p3dqocMCJ-G"
      }
    },
    {
      "cell_type": "markdown",
      "source": [
        "<br/>"
      ],
      "metadata": {
        "id": "4DsHqjaiwMM-"
      }
    },
    {
      "cell_type": "code",
      "source": [
        "adabt_model_comparison = [round(none_adabt_accuracy, 4), round(ten_adabt_accuracy, 4),\n",
        "                        round(five_adabt_accuracy, 4), round(one_adabt_accuracy, 4)]\n",
        "\n",
        "adabt_model_name = ['adabt_none', 'adabt_10000', 'adabt_5000', 'adabt_1000']\n",
        "\n",
        "adabt_df = pd.DataFrame({\"Model\": adabt_model_name,\n",
        "                  \"Accuracy\":adabt_model_comparison})\n",
        "adabt_df_sorted = adabt_df.sort_values('Accuracy',ascending=False)\n",
        "adabt_df_sorted"
      ],
      "metadata": {
        "id": "suS0_NOXUgdc",
        "colab": {
          "base_uri": "https://localhost:8080/",
          "height": 175
        },
        "outputId": "5fe2e2e1-1dec-4a74-f070-d580af0b2dcc"
      },
      "execution_count": null,
      "outputs": [
        {
          "output_type": "execute_result",
          "data": {
            "text/plain": [
              "         Model  Accuracy\n",
              "0   adabt_none    0.4746\n",
              "1  adabt_10000    0.4746\n",
              "2   adabt_5000    0.4733\n",
              "3   adabt_1000    0.4733"
            ],
            "text/html": [
              "\n",
              "  <div id=\"df-da15fc92-38c8-42e0-9d3b-544ecd07559e\">\n",
              "    <div class=\"colab-df-container\">\n",
              "      <div>\n",
              "<style scoped>\n",
              "    .dataframe tbody tr th:only-of-type {\n",
              "        vertical-align: middle;\n",
              "    }\n",
              "\n",
              "    .dataframe tbody tr th {\n",
              "        vertical-align: top;\n",
              "    }\n",
              "\n",
              "    .dataframe thead th {\n",
              "        text-align: right;\n",
              "    }\n",
              "</style>\n",
              "<table border=\"1\" class=\"dataframe\">\n",
              "  <thead>\n",
              "    <tr style=\"text-align: right;\">\n",
              "      <th></th>\n",
              "      <th>Model</th>\n",
              "      <th>Accuracy</th>\n",
              "    </tr>\n",
              "  </thead>\n",
              "  <tbody>\n",
              "    <tr>\n",
              "      <th>0</th>\n",
              "      <td>adabt_none</td>\n",
              "      <td>0.4746</td>\n",
              "    </tr>\n",
              "    <tr>\n",
              "      <th>1</th>\n",
              "      <td>adabt_10000</td>\n",
              "      <td>0.4746</td>\n",
              "    </tr>\n",
              "    <tr>\n",
              "      <th>2</th>\n",
              "      <td>adabt_5000</td>\n",
              "      <td>0.4733</td>\n",
              "    </tr>\n",
              "    <tr>\n",
              "      <th>3</th>\n",
              "      <td>adabt_1000</td>\n",
              "      <td>0.4733</td>\n",
              "    </tr>\n",
              "  </tbody>\n",
              "</table>\n",
              "</div>\n",
              "      <button class=\"colab-df-convert\" onclick=\"convertToInteractive('df-da15fc92-38c8-42e0-9d3b-544ecd07559e')\"\n",
              "              title=\"Convert this dataframe to an interactive table.\"\n",
              "              style=\"display:none;\">\n",
              "        \n",
              "  <svg xmlns=\"http://www.w3.org/2000/svg\" height=\"24px\"viewBox=\"0 0 24 24\"\n",
              "       width=\"24px\">\n",
              "    <path d=\"M0 0h24v24H0V0z\" fill=\"none\"/>\n",
              "    <path d=\"M18.56 5.44l.94 2.06.94-2.06 2.06-.94-2.06-.94-.94-2.06-.94 2.06-2.06.94zm-11 1L8.5 8.5l.94-2.06 2.06-.94-2.06-.94L8.5 2.5l-.94 2.06-2.06.94zm10 10l.94 2.06.94-2.06 2.06-.94-2.06-.94-.94-2.06-.94 2.06-2.06.94z\"/><path d=\"M17.41 7.96l-1.37-1.37c-.4-.4-.92-.59-1.43-.59-.52 0-1.04.2-1.43.59L10.3 9.45l-7.72 7.72c-.78.78-.78 2.05 0 2.83L4 21.41c.39.39.9.59 1.41.59.51 0 1.02-.2 1.41-.59l7.78-7.78 2.81-2.81c.8-.78.8-2.07 0-2.86zM5.41 20L4 18.59l7.72-7.72 1.47 1.35L5.41 20z\"/>\n",
              "  </svg>\n",
              "      </button>\n",
              "      \n",
              "  <style>\n",
              "    .colab-df-container {\n",
              "      display:flex;\n",
              "      flex-wrap:wrap;\n",
              "      gap: 12px;\n",
              "    }\n",
              "\n",
              "    .colab-df-convert {\n",
              "      background-color: #E8F0FE;\n",
              "      border: none;\n",
              "      border-radius: 50%;\n",
              "      cursor: pointer;\n",
              "      display: none;\n",
              "      fill: #1967D2;\n",
              "      height: 32px;\n",
              "      padding: 0 0 0 0;\n",
              "      width: 32px;\n",
              "    }\n",
              "\n",
              "    .colab-df-convert:hover {\n",
              "      background-color: #E2EBFA;\n",
              "      box-shadow: 0px 1px 2px rgba(60, 64, 67, 0.3), 0px 1px 3px 1px rgba(60, 64, 67, 0.15);\n",
              "      fill: #174EA6;\n",
              "    }\n",
              "\n",
              "    [theme=dark] .colab-df-convert {\n",
              "      background-color: #3B4455;\n",
              "      fill: #D2E3FC;\n",
              "    }\n",
              "\n",
              "    [theme=dark] .colab-df-convert:hover {\n",
              "      background-color: #434B5C;\n",
              "      box-shadow: 0px 1px 3px 1px rgba(0, 0, 0, 0.15);\n",
              "      filter: drop-shadow(0px 1px 2px rgba(0, 0, 0, 0.3));\n",
              "      fill: #FFFFFF;\n",
              "    }\n",
              "  </style>\n",
              "\n",
              "      <script>\n",
              "        const buttonEl =\n",
              "          document.querySelector('#df-da15fc92-38c8-42e0-9d3b-544ecd07559e button.colab-df-convert');\n",
              "        buttonEl.style.display =\n",
              "          google.colab.kernel.accessAllowed ? 'block' : 'none';\n",
              "\n",
              "        async function convertToInteractive(key) {\n",
              "          const element = document.querySelector('#df-da15fc92-38c8-42e0-9d3b-544ecd07559e');\n",
              "          const dataTable =\n",
              "            await google.colab.kernel.invokeFunction('convertToInteractive',\n",
              "                                                     [key], {});\n",
              "          if (!dataTable) return;\n",
              "\n",
              "          const docLinkHtml = 'Like what you see? Visit the ' +\n",
              "            '<a target=\"_blank\" href=https://colab.research.google.com/notebooks/data_table.ipynb>data table notebook</a>'\n",
              "            + ' to learn more about interactive tables.';\n",
              "          element.innerHTML = '';\n",
              "          dataTable['output_type'] = 'display_data';\n",
              "          await google.colab.output.renderOutput(dataTable, element);\n",
              "          const docLink = document.createElement('div');\n",
              "          docLink.innerHTML = docLinkHtml;\n",
              "          element.appendChild(docLink);\n",
              "        }\n",
              "      </script>\n",
              "    </div>\n",
              "  </div>\n",
              "  "
            ]
          },
          "metadata": {},
          "execution_count": 150
        }
      ]
    },
    {
      "cell_type": "markdown",
      "source": [
        "num_words=n에서 n이 작을수록 AdaBoost Classifier 모델의 성능이 높다."
      ],
      "metadata": {
        "id": "wn3yWsndvtxq"
      }
    },
    {
      "cell_type": "markdown",
      "source": [
        "<br/>"
      ],
      "metadata": {
        "id": "51nYi5gdwLhO"
      }
    },
    {
      "cell_type": "markdown",
      "source": [
        "##Gradient Boosting Classifier"
      ],
      "metadata": {
        "id": "CoBuQkpswNTY"
      }
    },
    {
      "cell_type": "code",
      "source": [
        "none_grbt_model = GradientBoostingClassifier(n_estimators=5, random_state=0) \n",
        "none_grbt_model.fit(none_tfidfv_train, none_y_train)\n",
        "none_grbt_predicted = none_grbt_model.predict(none_tfidfv_test) \n",
        "none_grbt_accuracy = accuracy_score(none_y_test, none_grbt_predicted)\n",
        "print(\"accuracy :\", none_grbt_accuracy) "
      ],
      "metadata": {
        "colab": {
          "base_uri": "https://localhost:8080/"
        },
        "id": "Th0UD8Lxxsmh",
        "outputId": "defa0796-6752-40c0-c5d4-30ef31a53407"
      },
      "execution_count": null,
      "outputs": [
        {
          "output_type": "stream",
          "name": "stdout",
          "text": [
            "accuracy : 0.7186108637577916\n"
          ]
        }
      ]
    },
    {
      "cell_type": "markdown",
      "source": [
        "num_words=None일 때, Gradient Boosting Classifier 모델의 성능 'accuracy'는 71.86%이다."
      ],
      "metadata": {
        "id": "7IhQLs9vCNHH"
      }
    },
    {
      "cell_type": "markdown",
      "source": [
        "<br/>"
      ],
      "metadata": {
        "id": "M4scaWrmwLB0"
      }
    },
    {
      "cell_type": "code",
      "source": [
        "ten_grbt_model = GradientBoostingClassifier(n_estimators=5, random_state=0) \n",
        "ten_grbt_model.fit(ten_tfidfv_train, ten_y_train)\n",
        "ten_grbt_predicted = ten_grbt_model.predict(ten_tfidfv_test) \n",
        "ten_grbt_accuracy = accuracy_score(ten_y_test, ten_grbt_predicted)\n",
        "print(\"accuracy :\", ten_grbt_accuracy) "
      ],
      "metadata": {
        "id": "B-3GYOddyKDC",
        "colab": {
          "base_uri": "https://localhost:8080/"
        },
        "outputId": "e6744c43-c10b-4d99-caed-9da539e07fea"
      },
      "execution_count": null,
      "outputs": [
        {
          "output_type": "stream",
          "name": "stdout",
          "text": [
            "accuracy : 0.7208370436331255\n"
          ]
        }
      ]
    },
    {
      "cell_type": "markdown",
      "source": [
        "num_words=10000일 때, Gradient Boosting Classifier 모델의 성능 'accuracy'는 72.08%이다."
      ],
      "metadata": {
        "id": "uWf4lAusCOP-"
      }
    },
    {
      "cell_type": "markdown",
      "source": [
        "<br/>"
      ],
      "metadata": {
        "id": "HyuJl5rAwKhE"
      }
    },
    {
      "cell_type": "code",
      "source": [
        "five_grbt_model = GradientBoostingClassifier(n_estimators=5, random_state=0) \n",
        "five_grbt_model.fit(five_tfidfv_train, five_y_train)\n",
        "five_grbt_predicted = five_grbt_model.predict(five_tfidfv_test) \n",
        "five_grbt_accuracy = accuracy_score(five_y_test, five_grbt_predicted)\n",
        "print(\"accuracy :\", five_grbt_accuracy) "
      ],
      "metadata": {
        "id": "77JhvT1TyKJs",
        "colab": {
          "base_uri": "https://localhost:8080/"
        },
        "outputId": "31ef30d4-93e7-43ea-f2f2-65734b501499"
      },
      "execution_count": null,
      "outputs": [
        {
          "output_type": "stream",
          "name": "stdout",
          "text": [
            "accuracy : 0.7230632235084595\n"
          ]
        }
      ]
    },
    {
      "cell_type": "markdown",
      "source": [
        "num_words=5000일 때, Gradient Boosting Classifier 모델의 성능 'accuracy'는 72.31%이다."
      ],
      "metadata": {
        "id": "3dcvgNNXCP05"
      }
    },
    {
      "cell_type": "markdown",
      "source": [
        "<br/>"
      ],
      "metadata": {
        "id": "vn_OjtvxwKA6"
      }
    },
    {
      "cell_type": "code",
      "source": [
        "one_grbt_model = GradientBoostingClassifier(n_estimators=5, random_state=0) \n",
        "one_grbt_model.fit(one_tfidfv_train, one_y_train)\n",
        "one_grbt_predicted = one_grbt_model.predict(one_tfidfv_test) \n",
        "one_grbt_accuracy = accuracy_score(one_y_test, one_grbt_predicted)\n",
        "print(\"accuracy :\", one_grbt_accuracy) "
      ],
      "metadata": {
        "id": "XbhvmgWGyN-3",
        "colab": {
          "base_uri": "https://localhost:8080/"
        },
        "outputId": "cd0354f2-477b-489b-9531-2a7eccb4d31e"
      },
      "execution_count": null,
      "outputs": [
        {
          "output_type": "stream",
          "name": "stdout",
          "text": [
            "accuracy : 0.7230632235084595\n"
          ]
        }
      ]
    },
    {
      "cell_type": "markdown",
      "source": [
        "num_words=1000일 때, Gradient Boosting Classifier 모델의 성능 'accuracy'는 72.31%이다."
      ],
      "metadata": {
        "id": "HxpmqHwrCRJA"
      }
    },
    {
      "cell_type": "markdown",
      "source": [
        "<br/>"
      ],
      "metadata": {
        "id": "q2YlGVELwJxr"
      }
    },
    {
      "cell_type": "code",
      "source": [
        "grbt_model_comparison = [round(none_grbt_accuracy, 4), round(ten_grbt_accuracy, 4),\n",
        "                        round(five_grbt_accuracy, 4), round(one_grbt_accuracy, 4)]\n",
        "\n",
        "\n",
        "grbt_model_name = ['grbt_none', 'grbt_10000', 'grbt_5000', 'grbt_1000']\n",
        "\n",
        "grbt_df = pd.DataFrame({\"Model\": grbt_model_name,\n",
        "                  \"Accuracy\":grbt_model_comparison})\n",
        "grbt_df_sorted = grbt_df.sort_values('Accuracy',ascending=False)\n",
        "grbt_df_sorted"
      ],
      "metadata": {
        "id": "C2ngit0YWYPZ",
        "colab": {
          "base_uri": "https://localhost:8080/",
          "height": 175
        },
        "outputId": "5c367244-db48-4665-d267-5dee7d45a846"
      },
      "execution_count": null,
      "outputs": [
        {
          "output_type": "execute_result",
          "data": {
            "text/plain": [
              "        Model  Accuracy\n",
              "2   grbt_5000    0.7231\n",
              "3   grbt_1000    0.7231\n",
              "1  grbt_10000    0.7208\n",
              "0   grbt_none    0.7186"
            ],
            "text/html": [
              "\n",
              "  <div id=\"df-a78de67b-de6a-448f-97ad-b2cf4f1a535f\">\n",
              "    <div class=\"colab-df-container\">\n",
              "      <div>\n",
              "<style scoped>\n",
              "    .dataframe tbody tr th:only-of-type {\n",
              "        vertical-align: middle;\n",
              "    }\n",
              "\n",
              "    .dataframe tbody tr th {\n",
              "        vertical-align: top;\n",
              "    }\n",
              "\n",
              "    .dataframe thead th {\n",
              "        text-align: right;\n",
              "    }\n",
              "</style>\n",
              "<table border=\"1\" class=\"dataframe\">\n",
              "  <thead>\n",
              "    <tr style=\"text-align: right;\">\n",
              "      <th></th>\n",
              "      <th>Model</th>\n",
              "      <th>Accuracy</th>\n",
              "    </tr>\n",
              "  </thead>\n",
              "  <tbody>\n",
              "    <tr>\n",
              "      <th>2</th>\n",
              "      <td>grbt_5000</td>\n",
              "      <td>0.7231</td>\n",
              "    </tr>\n",
              "    <tr>\n",
              "      <th>3</th>\n",
              "      <td>grbt_1000</td>\n",
              "      <td>0.7231</td>\n",
              "    </tr>\n",
              "    <tr>\n",
              "      <th>1</th>\n",
              "      <td>grbt_10000</td>\n",
              "      <td>0.7208</td>\n",
              "    </tr>\n",
              "    <tr>\n",
              "      <th>0</th>\n",
              "      <td>grbt_none</td>\n",
              "      <td>0.7186</td>\n",
              "    </tr>\n",
              "  </tbody>\n",
              "</table>\n",
              "</div>\n",
              "      <button class=\"colab-df-convert\" onclick=\"convertToInteractive('df-a78de67b-de6a-448f-97ad-b2cf4f1a535f')\"\n",
              "              title=\"Convert this dataframe to an interactive table.\"\n",
              "              style=\"display:none;\">\n",
              "        \n",
              "  <svg xmlns=\"http://www.w3.org/2000/svg\" height=\"24px\"viewBox=\"0 0 24 24\"\n",
              "       width=\"24px\">\n",
              "    <path d=\"M0 0h24v24H0V0z\" fill=\"none\"/>\n",
              "    <path d=\"M18.56 5.44l.94 2.06.94-2.06 2.06-.94-2.06-.94-.94-2.06-.94 2.06-2.06.94zm-11 1L8.5 8.5l.94-2.06 2.06-.94-2.06-.94L8.5 2.5l-.94 2.06-2.06.94zm10 10l.94 2.06.94-2.06 2.06-.94-2.06-.94-.94-2.06-.94 2.06-2.06.94z\"/><path d=\"M17.41 7.96l-1.37-1.37c-.4-.4-.92-.59-1.43-.59-.52 0-1.04.2-1.43.59L10.3 9.45l-7.72 7.72c-.78.78-.78 2.05 0 2.83L4 21.41c.39.39.9.59 1.41.59.51 0 1.02-.2 1.41-.59l7.78-7.78 2.81-2.81c.8-.78.8-2.07 0-2.86zM5.41 20L4 18.59l7.72-7.72 1.47 1.35L5.41 20z\"/>\n",
              "  </svg>\n",
              "      </button>\n",
              "      \n",
              "  <style>\n",
              "    .colab-df-container {\n",
              "      display:flex;\n",
              "      flex-wrap:wrap;\n",
              "      gap: 12px;\n",
              "    }\n",
              "\n",
              "    .colab-df-convert {\n",
              "      background-color: #E8F0FE;\n",
              "      border: none;\n",
              "      border-radius: 50%;\n",
              "      cursor: pointer;\n",
              "      display: none;\n",
              "      fill: #1967D2;\n",
              "      height: 32px;\n",
              "      padding: 0 0 0 0;\n",
              "      width: 32px;\n",
              "    }\n",
              "\n",
              "    .colab-df-convert:hover {\n",
              "      background-color: #E2EBFA;\n",
              "      box-shadow: 0px 1px 2px rgba(60, 64, 67, 0.3), 0px 1px 3px 1px rgba(60, 64, 67, 0.15);\n",
              "      fill: #174EA6;\n",
              "    }\n",
              "\n",
              "    [theme=dark] .colab-df-convert {\n",
              "      background-color: #3B4455;\n",
              "      fill: #D2E3FC;\n",
              "    }\n",
              "\n",
              "    [theme=dark] .colab-df-convert:hover {\n",
              "      background-color: #434B5C;\n",
              "      box-shadow: 0px 1px 3px 1px rgba(0, 0, 0, 0.15);\n",
              "      filter: drop-shadow(0px 1px 2px rgba(0, 0, 0, 0.3));\n",
              "      fill: #FFFFFF;\n",
              "    }\n",
              "  </style>\n",
              "\n",
              "      <script>\n",
              "        const buttonEl =\n",
              "          document.querySelector('#df-a78de67b-de6a-448f-97ad-b2cf4f1a535f button.colab-df-convert');\n",
              "        buttonEl.style.display =\n",
              "          google.colab.kernel.accessAllowed ? 'block' : 'none';\n",
              "\n",
              "        async function convertToInteractive(key) {\n",
              "          const element = document.querySelector('#df-a78de67b-de6a-448f-97ad-b2cf4f1a535f');\n",
              "          const dataTable =\n",
              "            await google.colab.kernel.invokeFunction('convertToInteractive',\n",
              "                                                     [key], {});\n",
              "          if (!dataTable) return;\n",
              "\n",
              "          const docLinkHtml = 'Like what you see? Visit the ' +\n",
              "            '<a target=\"_blank\" href=https://colab.research.google.com/notebooks/data_table.ipynb>data table notebook</a>'\n",
              "            + ' to learn more about interactive tables.';\n",
              "          element.innerHTML = '';\n",
              "          dataTable['output_type'] = 'display_data';\n",
              "          await google.colab.output.renderOutput(dataTable, element);\n",
              "          const docLink = document.createElement('div');\n",
              "          docLink.innerHTML = docLinkHtml;\n",
              "          element.appendChild(docLink);\n",
              "        }\n",
              "      </script>\n",
              "    </div>\n",
              "  </div>\n",
              "  "
            ]
          },
          "metadata": {},
          "execution_count": 159
        }
      ]
    },
    {
      "cell_type": "markdown",
      "source": [
        "num_words=n에서 n이 작을수록 Gradient Boosting Classifier 모델의 성능이 높다."
      ],
      "metadata": {
        "id": "TSBJd_wBzT6i"
      }
    },
    {
      "cell_type": "markdown",
      "source": [
        "<br/>"
      ],
      "metadata": {
        "id": "UiCzflCfwJA8"
      }
    },
    {
      "cell_type": "markdown",
      "source": [
        "##XGB Classifier"
      ],
      "metadata": {
        "id": "s8-9H1GIjXsr"
      }
    },
    {
      "cell_type": "code",
      "source": [
        "none_xgb_model = XGBClassifier(n_estimators=5, random_state=0)\n",
        "none_xgb_model.fit(none_tfidfv_train, none_y_train)\n",
        "none_xgb_predicted = none_xgb_model.predict(none_tfidfv_test) \n",
        "none_xgb_accuracy = accuracy_score(none_y_test, none_xgb_predicted)\n",
        "print(\"accuracy :\", none_xgb_accuracy) "
      ],
      "metadata": {
        "id": "1rhULbgAwR_R",
        "colab": {
          "base_uri": "https://localhost:8080/"
        },
        "outputId": "def4b36b-6388-438f-f748-901b48997f12"
      },
      "execution_count": null,
      "outputs": [
        {
          "output_type": "stream",
          "name": "stdout",
          "text": [
            "accuracy : 0.7684772929652716\n"
          ]
        }
      ]
    },
    {
      "cell_type": "markdown",
      "source": [
        "num_words=None일 때, XGB Classifier 모델의 성능 'accuracy'는 76.85%이다."
      ],
      "metadata": {
        "id": "_zFW5XJNCjss"
      }
    },
    {
      "cell_type": "markdown",
      "source": [
        "<br/>"
      ],
      "metadata": {
        "id": "zvK73QwfwIh4"
      }
    },
    {
      "cell_type": "code",
      "source": [
        "ten_xgb_model = XGBClassifier(n_estimators=5, random_state=0)\n",
        "ten_xgb_model.fit(ten_tfidfv_train, ten_y_train)\n",
        "ten_xgb_predicted = ten_xgb_model.predict(ten_tfidfv_test) \n",
        "ten_xgb_accuracy = accuracy_score(ten_y_test, ten_xgb_predicted)\n",
        "print(\"accuracy :\", ten_xgb_accuracy) "
      ],
      "metadata": {
        "id": "03Ad1Hclzkre",
        "colab": {
          "base_uri": "https://localhost:8080/"
        },
        "outputId": "b0947b76-039c-4ce8-ef44-98ecbea4d686"
      },
      "execution_count": null,
      "outputs": [
        {
          "output_type": "stream",
          "name": "stdout",
          "text": [
            "accuracy : 0.7702582368655387\n"
          ]
        }
      ]
    },
    {
      "cell_type": "markdown",
      "source": [
        "num_words=10000일 때, XGB Classifier 모델의 성능 'accuracy'는 77.03%이다."
      ],
      "metadata": {
        "id": "rfwvxVgsCk4Z"
      }
    },
    {
      "cell_type": "markdown",
      "source": [
        "<br/>"
      ],
      "metadata": {
        "id": "JQwAMr_UwH76"
      }
    },
    {
      "cell_type": "code",
      "source": [
        "five_xgb_model = XGBClassifier(n_estimators=5, random_state=0)\n",
        "five_xgb_model.fit(five_tfidfv_train, five_y_train)\n",
        "five_xgb_predicted = five_xgb_model.predict(five_tfidfv_test) \n",
        "five_xgb_accuracy = accuracy_score(five_y_test, five_xgb_predicted)\n",
        "print(\"accuracy :\", five_xgb_accuracy) "
      ],
      "metadata": {
        "id": "cTU7VRPlzkyJ",
        "colab": {
          "base_uri": "https://localhost:8080/"
        },
        "outputId": "6ec7a10a-4064-445d-e70b-01854c00ddf3"
      },
      "execution_count": null,
      "outputs": [
        {
          "output_type": "stream",
          "name": "stdout",
          "text": [
            "accuracy : 0.7702582368655387\n"
          ]
        }
      ]
    },
    {
      "cell_type": "markdown",
      "source": [
        "num_words=5000일 때, XGB Classifier 모델의 성능 'accuracy'는 77.03%이다."
      ],
      "metadata": {
        "id": "JaJMWm2eCmfF"
      }
    },
    {
      "cell_type": "markdown",
      "source": [
        "<br/>"
      ],
      "metadata": {
        "id": "YA31s4b4wHZd"
      }
    },
    {
      "cell_type": "code",
      "source": [
        "one_xgb_model = XGBClassifier(n_estimators=5, random_state=0)\n",
        "one_xgb_model.fit(one_tfidfv_train, one_y_train)\n",
        "one_xgb_predicted = one_xgb_model.predict(one_tfidfv_test) \n",
        "one_xgb_accuracy = accuracy_score(one_y_test, one_xgb_predicted)\n",
        "print(\"accuracy :\", one_xgb_accuracy) "
      ],
      "metadata": {
        "id": "qiwlxfSnznpU",
        "colab": {
          "base_uri": "https://localhost:8080/"
        },
        "outputId": "2a3381a0-ed4f-4b1f-a6c7-e65bc914bfc7"
      },
      "execution_count": null,
      "outputs": [
        {
          "output_type": "stream",
          "name": "stdout",
          "text": [
            "accuracy : 0.7702582368655387\n"
          ]
        }
      ]
    },
    {
      "cell_type": "markdown",
      "source": [
        "num_words=1000일 때, XGB Classifier 모델의 성능 'accuracy'는 77.03%이다."
      ],
      "metadata": {
        "id": "7_DTVdFFCnhR"
      }
    },
    {
      "cell_type": "markdown",
      "source": [
        "<br/>"
      ],
      "metadata": {
        "id": "mqoAK4CXwG8b"
      }
    },
    {
      "cell_type": "code",
      "source": [
        "xgb_model_comparison = [round(none_xgb_accuracy, 4), round(ten_xgb_accuracy, 4),\n",
        "                        round(five_xgb_accuracy, 4), round(one_xgb_accuracy, 4)]\n",
        "\n",
        "xgb_model_name = ['xgb_none', 'xgb_10000', 'xgb_5000', 'xgb_1000']\n",
        "\n",
        "xgb_df = pd.DataFrame({\"Model\": xgb_model_name,\n",
        "                  \"Accuracy\":xgb_model_comparison})\n",
        "xgb_df_sorted = xgb_df.sort_values('Accuracy',ascending=False)\n",
        "xgb_df_sorted"
      ],
      "metadata": {
        "id": "OZE5n64uWaVs",
        "colab": {
          "base_uri": "https://localhost:8080/",
          "height": 175
        },
        "outputId": "977eed56-2726-4304-a2c5-a2c3013fbb45"
      },
      "execution_count": null,
      "outputs": [
        {
          "output_type": "execute_result",
          "data": {
            "text/plain": [
              "       Model  Accuracy\n",
              "1  xgb_10000    0.7703\n",
              "2   xgb_5000    0.7703\n",
              "3   xgb_1000    0.7703\n",
              "0   xgb_none    0.7685"
            ],
            "text/html": [
              "\n",
              "  <div id=\"df-3d96cc30-154a-42fe-9710-c8c61660e7a6\">\n",
              "    <div class=\"colab-df-container\">\n",
              "      <div>\n",
              "<style scoped>\n",
              "    .dataframe tbody tr th:only-of-type {\n",
              "        vertical-align: middle;\n",
              "    }\n",
              "\n",
              "    .dataframe tbody tr th {\n",
              "        vertical-align: top;\n",
              "    }\n",
              "\n",
              "    .dataframe thead th {\n",
              "        text-align: right;\n",
              "    }\n",
              "</style>\n",
              "<table border=\"1\" class=\"dataframe\">\n",
              "  <thead>\n",
              "    <tr style=\"text-align: right;\">\n",
              "      <th></th>\n",
              "      <th>Model</th>\n",
              "      <th>Accuracy</th>\n",
              "    </tr>\n",
              "  </thead>\n",
              "  <tbody>\n",
              "    <tr>\n",
              "      <th>1</th>\n",
              "      <td>xgb_10000</td>\n",
              "      <td>0.7703</td>\n",
              "    </tr>\n",
              "    <tr>\n",
              "      <th>2</th>\n",
              "      <td>xgb_5000</td>\n",
              "      <td>0.7703</td>\n",
              "    </tr>\n",
              "    <tr>\n",
              "      <th>3</th>\n",
              "      <td>xgb_1000</td>\n",
              "      <td>0.7703</td>\n",
              "    </tr>\n",
              "    <tr>\n",
              "      <th>0</th>\n",
              "      <td>xgb_none</td>\n",
              "      <td>0.7685</td>\n",
              "    </tr>\n",
              "  </tbody>\n",
              "</table>\n",
              "</div>\n",
              "      <button class=\"colab-df-convert\" onclick=\"convertToInteractive('df-3d96cc30-154a-42fe-9710-c8c61660e7a6')\"\n",
              "              title=\"Convert this dataframe to an interactive table.\"\n",
              "              style=\"display:none;\">\n",
              "        \n",
              "  <svg xmlns=\"http://www.w3.org/2000/svg\" height=\"24px\"viewBox=\"0 0 24 24\"\n",
              "       width=\"24px\">\n",
              "    <path d=\"M0 0h24v24H0V0z\" fill=\"none\"/>\n",
              "    <path d=\"M18.56 5.44l.94 2.06.94-2.06 2.06-.94-2.06-.94-.94-2.06-.94 2.06-2.06.94zm-11 1L8.5 8.5l.94-2.06 2.06-.94-2.06-.94L8.5 2.5l-.94 2.06-2.06.94zm10 10l.94 2.06.94-2.06 2.06-.94-2.06-.94-.94-2.06-.94 2.06-2.06.94z\"/><path d=\"M17.41 7.96l-1.37-1.37c-.4-.4-.92-.59-1.43-.59-.52 0-1.04.2-1.43.59L10.3 9.45l-7.72 7.72c-.78.78-.78 2.05 0 2.83L4 21.41c.39.39.9.59 1.41.59.51 0 1.02-.2 1.41-.59l7.78-7.78 2.81-2.81c.8-.78.8-2.07 0-2.86zM5.41 20L4 18.59l7.72-7.72 1.47 1.35L5.41 20z\"/>\n",
              "  </svg>\n",
              "      </button>\n",
              "      \n",
              "  <style>\n",
              "    .colab-df-container {\n",
              "      display:flex;\n",
              "      flex-wrap:wrap;\n",
              "      gap: 12px;\n",
              "    }\n",
              "\n",
              "    .colab-df-convert {\n",
              "      background-color: #E8F0FE;\n",
              "      border: none;\n",
              "      border-radius: 50%;\n",
              "      cursor: pointer;\n",
              "      display: none;\n",
              "      fill: #1967D2;\n",
              "      height: 32px;\n",
              "      padding: 0 0 0 0;\n",
              "      width: 32px;\n",
              "    }\n",
              "\n",
              "    .colab-df-convert:hover {\n",
              "      background-color: #E2EBFA;\n",
              "      box-shadow: 0px 1px 2px rgba(60, 64, 67, 0.3), 0px 1px 3px 1px rgba(60, 64, 67, 0.15);\n",
              "      fill: #174EA6;\n",
              "    }\n",
              "\n",
              "    [theme=dark] .colab-df-convert {\n",
              "      background-color: #3B4455;\n",
              "      fill: #D2E3FC;\n",
              "    }\n",
              "\n",
              "    [theme=dark] .colab-df-convert:hover {\n",
              "      background-color: #434B5C;\n",
              "      box-shadow: 0px 1px 3px 1px rgba(0, 0, 0, 0.15);\n",
              "      filter: drop-shadow(0px 1px 2px rgba(0, 0, 0, 0.3));\n",
              "      fill: #FFFFFF;\n",
              "    }\n",
              "  </style>\n",
              "\n",
              "      <script>\n",
              "        const buttonEl =\n",
              "          document.querySelector('#df-3d96cc30-154a-42fe-9710-c8c61660e7a6 button.colab-df-convert');\n",
              "        buttonEl.style.display =\n",
              "          google.colab.kernel.accessAllowed ? 'block' : 'none';\n",
              "\n",
              "        async function convertToInteractive(key) {\n",
              "          const element = document.querySelector('#df-3d96cc30-154a-42fe-9710-c8c61660e7a6');\n",
              "          const dataTable =\n",
              "            await google.colab.kernel.invokeFunction('convertToInteractive',\n",
              "                                                     [key], {});\n",
              "          if (!dataTable) return;\n",
              "\n",
              "          const docLinkHtml = 'Like what you see? Visit the ' +\n",
              "            '<a target=\"_blank\" href=https://colab.research.google.com/notebooks/data_table.ipynb>data table notebook</a>'\n",
              "            + ' to learn more about interactive tables.';\n",
              "          element.innerHTML = '';\n",
              "          dataTable['output_type'] = 'display_data';\n",
              "          await google.colab.output.renderOutput(dataTable, element);\n",
              "          const docLink = document.createElement('div');\n",
              "          docLink.innerHTML = docLinkHtml;\n",
              "          element.appendChild(docLink);\n",
              "        }\n",
              "      </script>\n",
              "    </div>\n",
              "  </div>\n",
              "  "
            ]
          },
          "metadata": {},
          "execution_count": 173
        }
      ]
    },
    {
      "cell_type": "markdown",
      "source": [
        "XGB Classifier 모델의 성능은 num_words에 큰 영향을 받지 않는다."
      ],
      "metadata": {
        "id": "vSJwqwzb61Mh"
      }
    },
    {
      "cell_type": "markdown",
      "source": [
        "<br/>"
      ],
      "metadata": {
        "id": "1658sO3owGXQ"
      }
    },
    {
      "cell_type": "markdown",
      "source": [
        "##LGBM Classifier"
      ],
      "metadata": {
        "id": "ygCSGi6tkTYs"
      }
    },
    {
      "cell_type": "code",
      "source": [
        "none_lgbm_model = LGBMClassifier(n_estimators=5, random_state=0)\n",
        "none_lgbm_model.fit(none_tfidfv_train, none_y_train)\n",
        "none_lgbm_predicted = none_lgbm_model.predict(none_tfidfv_test) \n",
        "none_lgbm_accuracy = accuracy_score(none_y_test, none_lgbm_predicted)\n",
        "print(\"accuracy :\", none_lgbm_accuracy) "
      ],
      "metadata": {
        "id": "43rJkQMOwUkj",
        "colab": {
          "base_uri": "https://localhost:8080/"
        },
        "outputId": "332778be-d3e6-4a3a-a467-fc2a9c27b918"
      },
      "execution_count": null,
      "outputs": [
        {
          "output_type": "stream",
          "name": "stdout",
          "text": [
            "accuracy : 0.6682991985752449\n"
          ]
        }
      ]
    },
    {
      "cell_type": "markdown",
      "source": [
        "num_words=None일 때, LGBM Classifier 모델의 성능 'accuracy'는 66.83%이다."
      ],
      "metadata": {
        "id": "lrjDHnOyCrNa"
      }
    },
    {
      "cell_type": "markdown",
      "source": [
        "<br/>"
      ],
      "metadata": {
        "id": "kM1mdRvjwFzE"
      }
    },
    {
      "cell_type": "code",
      "source": [
        "ten_lgbm_model = LGBMClassifier(n_estimators=5, random_state=0)\n",
        "ten_lgbm_model.fit(ten_tfidfv_train, ten_y_train)\n",
        "ten_lgbm_predicted = ten_lgbm_model.predict(ten_tfidfv_test) \n",
        "ten_lgbm_accuracy = accuracy_score(ten_y_test, ten_lgbm_predicted)\n",
        "print(\"accuracy :\", ten_lgbm_accuracy) "
      ],
      "metadata": {
        "id": "82pvHb450G0X",
        "colab": {
          "base_uri": "https://localhost:8080/"
        },
        "outputId": "44a17235-588c-49e8-8574-64ec060518df"
      },
      "execution_count": null,
      "outputs": [
        {
          "output_type": "stream",
          "name": "stdout",
          "text": [
            "accuracy : 0.6687444345503116\n"
          ]
        }
      ]
    },
    {
      "cell_type": "markdown",
      "source": [
        "num_words=10000일 때, LGBM Classifier 모델의 성능 'accuracy'는 66.87%이다."
      ],
      "metadata": {
        "id": "NDOqAdoCCsKz"
      }
    },
    {
      "cell_type": "markdown",
      "source": [
        "<br/>"
      ],
      "metadata": {
        "id": "c9K7fn_NwFP6"
      }
    },
    {
      "cell_type": "code",
      "source": [
        "five_lgbm_model = LGBMClassifier(n_estimators=5, random_state=0)\n",
        "five_lgbm_model.fit(five_tfidfv_train, five_y_train)\n",
        "five_lgbm_predicted = five_lgbm_model.predict(five_tfidfv_test) \n",
        "five_lgbm_accuracy = accuracy_score(five_y_test, five_lgbm_predicted)\n",
        "print(\"accuracy :\", five_lgbm_accuracy) "
      ],
      "metadata": {
        "id": "nQxU1Ac80G67",
        "colab": {
          "base_uri": "https://localhost:8080/"
        },
        "outputId": "042cff38-ce7b-4a27-8206-27ee20b64e1e"
      },
      "execution_count": null,
      "outputs": [
        {
          "output_type": "stream",
          "name": "stdout",
          "text": [
            "accuracy : 0.6843276936776491\n"
          ]
        }
      ]
    },
    {
      "cell_type": "markdown",
      "source": [
        "num_words=5000일 때, LGBM Classifier 모델의 성능 'accuracy'는 68.43%이다."
      ],
      "metadata": {
        "id": "IIAx2qZhCtQU"
      }
    },
    {
      "cell_type": "markdown",
      "source": [
        "<br/>"
      ],
      "metadata": {
        "id": "Jn4YdKC6wEsj"
      }
    },
    {
      "cell_type": "code",
      "source": [
        "one_lgbm_model = LGBMClassifier(n_estimators=5, random_state=0)\n",
        "one_lgbm_model.fit(one_tfidfv_train, one_y_train)\n",
        "one_lgbm_predicted = one_lgbm_model.predict(one_tfidfv_test) \n",
        "one_lgbm_accuracy = accuracy_score(one_y_test, one_lgbm_predicted)\n",
        "print(\"accuracy :\", one_lgbm_accuracy) "
      ],
      "metadata": {
        "id": "0Sqyqvf60HBQ",
        "colab": {
          "base_uri": "https://localhost:8080/"
        },
        "outputId": "10806724-1cd4-41c6-88cd-3292df9d2da7"
      },
      "execution_count": null,
      "outputs": [
        {
          "output_type": "stream",
          "name": "stdout",
          "text": [
            "accuracy : 0.6843276936776491\n"
          ]
        }
      ]
    },
    {
      "cell_type": "markdown",
      "source": [
        "num_words=1000일 때, LGBM Classifier 모델의 성능 'accuracy'는 68.43%이다."
      ],
      "metadata": {
        "id": "t1s2oSXpCuZU"
      }
    },
    {
      "cell_type": "markdown",
      "source": [
        "<br/>"
      ],
      "metadata": {
        "id": "_VubqUV2wEOM"
      }
    },
    {
      "cell_type": "code",
      "source": [
        "lgbm_model_comparison = [round(none_lgbm_accuracy, 4), round(ten_lgbm_accuracy, 4),\n",
        "                        round(five_lgbm_accuracy, 4), round(one_lgbm_accuracy, 4)]\n",
        "\n",
        "\n",
        "lgbm_model_name = ['lgbm_none', 'lgbm_10000', 'lgbm_5000', 'lgbm_1000']\n",
        "\n",
        "lgbm_df = pd.DataFrame({\"Model\": lgbm_model_name,\n",
        "                  \"Accuracy\":lgbm_model_comparison})\n",
        "lgbm_df_sorted = lgbm_df.sort_values('Accuracy',ascending=False)\n",
        "lgbm_df_sorted"
      ],
      "metadata": {
        "id": "EaifxqfGWb4r",
        "colab": {
          "base_uri": "https://localhost:8080/",
          "height": 175
        },
        "outputId": "10907844-3628-45cb-8b00-0f115cba737a"
      },
      "execution_count": null,
      "outputs": [
        {
          "output_type": "execute_result",
          "data": {
            "text/plain": [
              "        Model  Accuracy\n",
              "2   lgbm_5000    0.6843\n",
              "3   lgbm_1000    0.6843\n",
              "1  lgbm_10000    0.6687\n",
              "0   lgbm_none    0.6683"
            ],
            "text/html": [
              "\n",
              "  <div id=\"df-edc91400-7e20-423e-961c-07888f92e086\">\n",
              "    <div class=\"colab-df-container\">\n",
              "      <div>\n",
              "<style scoped>\n",
              "    .dataframe tbody tr th:only-of-type {\n",
              "        vertical-align: middle;\n",
              "    }\n",
              "\n",
              "    .dataframe tbody tr th {\n",
              "        vertical-align: top;\n",
              "    }\n",
              "\n",
              "    .dataframe thead th {\n",
              "        text-align: right;\n",
              "    }\n",
              "</style>\n",
              "<table border=\"1\" class=\"dataframe\">\n",
              "  <thead>\n",
              "    <tr style=\"text-align: right;\">\n",
              "      <th></th>\n",
              "      <th>Model</th>\n",
              "      <th>Accuracy</th>\n",
              "    </tr>\n",
              "  </thead>\n",
              "  <tbody>\n",
              "    <tr>\n",
              "      <th>2</th>\n",
              "      <td>lgbm_5000</td>\n",
              "      <td>0.6843</td>\n",
              "    </tr>\n",
              "    <tr>\n",
              "      <th>3</th>\n",
              "      <td>lgbm_1000</td>\n",
              "      <td>0.6843</td>\n",
              "    </tr>\n",
              "    <tr>\n",
              "      <th>1</th>\n",
              "      <td>lgbm_10000</td>\n",
              "      <td>0.6687</td>\n",
              "    </tr>\n",
              "    <tr>\n",
              "      <th>0</th>\n",
              "      <td>lgbm_none</td>\n",
              "      <td>0.6683</td>\n",
              "    </tr>\n",
              "  </tbody>\n",
              "</table>\n",
              "</div>\n",
              "      <button class=\"colab-df-convert\" onclick=\"convertToInteractive('df-edc91400-7e20-423e-961c-07888f92e086')\"\n",
              "              title=\"Convert this dataframe to an interactive table.\"\n",
              "              style=\"display:none;\">\n",
              "        \n",
              "  <svg xmlns=\"http://www.w3.org/2000/svg\" height=\"24px\"viewBox=\"0 0 24 24\"\n",
              "       width=\"24px\">\n",
              "    <path d=\"M0 0h24v24H0V0z\" fill=\"none\"/>\n",
              "    <path d=\"M18.56 5.44l.94 2.06.94-2.06 2.06-.94-2.06-.94-.94-2.06-.94 2.06-2.06.94zm-11 1L8.5 8.5l.94-2.06 2.06-.94-2.06-.94L8.5 2.5l-.94 2.06-2.06.94zm10 10l.94 2.06.94-2.06 2.06-.94-2.06-.94-.94-2.06-.94 2.06-2.06.94z\"/><path d=\"M17.41 7.96l-1.37-1.37c-.4-.4-.92-.59-1.43-.59-.52 0-1.04.2-1.43.59L10.3 9.45l-7.72 7.72c-.78.78-.78 2.05 0 2.83L4 21.41c.39.39.9.59 1.41.59.51 0 1.02-.2 1.41-.59l7.78-7.78 2.81-2.81c.8-.78.8-2.07 0-2.86zM5.41 20L4 18.59l7.72-7.72 1.47 1.35L5.41 20z\"/>\n",
              "  </svg>\n",
              "      </button>\n",
              "      \n",
              "  <style>\n",
              "    .colab-df-container {\n",
              "      display:flex;\n",
              "      flex-wrap:wrap;\n",
              "      gap: 12px;\n",
              "    }\n",
              "\n",
              "    .colab-df-convert {\n",
              "      background-color: #E8F0FE;\n",
              "      border: none;\n",
              "      border-radius: 50%;\n",
              "      cursor: pointer;\n",
              "      display: none;\n",
              "      fill: #1967D2;\n",
              "      height: 32px;\n",
              "      padding: 0 0 0 0;\n",
              "      width: 32px;\n",
              "    }\n",
              "\n",
              "    .colab-df-convert:hover {\n",
              "      background-color: #E2EBFA;\n",
              "      box-shadow: 0px 1px 2px rgba(60, 64, 67, 0.3), 0px 1px 3px 1px rgba(60, 64, 67, 0.15);\n",
              "      fill: #174EA6;\n",
              "    }\n",
              "\n",
              "    [theme=dark] .colab-df-convert {\n",
              "      background-color: #3B4455;\n",
              "      fill: #D2E3FC;\n",
              "    }\n",
              "\n",
              "    [theme=dark] .colab-df-convert:hover {\n",
              "      background-color: #434B5C;\n",
              "      box-shadow: 0px 1px 3px 1px rgba(0, 0, 0, 0.15);\n",
              "      filter: drop-shadow(0px 1px 2px rgba(0, 0, 0, 0.3));\n",
              "      fill: #FFFFFF;\n",
              "    }\n",
              "  </style>\n",
              "\n",
              "      <script>\n",
              "        const buttonEl =\n",
              "          document.querySelector('#df-edc91400-7e20-423e-961c-07888f92e086 button.colab-df-convert');\n",
              "        buttonEl.style.display =\n",
              "          google.colab.kernel.accessAllowed ? 'block' : 'none';\n",
              "\n",
              "        async function convertToInteractive(key) {\n",
              "          const element = document.querySelector('#df-edc91400-7e20-423e-961c-07888f92e086');\n",
              "          const dataTable =\n",
              "            await google.colab.kernel.invokeFunction('convertToInteractive',\n",
              "                                                     [key], {});\n",
              "          if (!dataTable) return;\n",
              "\n",
              "          const docLinkHtml = 'Like what you see? Visit the ' +\n",
              "            '<a target=\"_blank\" href=https://colab.research.google.com/notebooks/data_table.ipynb>data table notebook</a>'\n",
              "            + ' to learn more about interactive tables.';\n",
              "          element.innerHTML = '';\n",
              "          dataTable['output_type'] = 'display_data';\n",
              "          await google.colab.output.renderOutput(dataTable, element);\n",
              "          const docLink = document.createElement('div');\n",
              "          docLink.innerHTML = docLinkHtml;\n",
              "          element.appendChild(docLink);\n",
              "        }\n",
              "      </script>\n",
              "    </div>\n",
              "  </div>\n",
              "  "
            ]
          },
          "metadata": {},
          "execution_count": 178
        }
      ]
    },
    {
      "cell_type": "markdown",
      "source": [
        "num_words=n에서 n이 작을수록 LGBM Classifier 모델의 성능이 높다."
      ],
      "metadata": {
        "id": "fAkPA26y7yZE"
      }
    },
    {
      "cell_type": "markdown",
      "source": [
        "<br/>"
      ],
      "metadata": {
        "id": "lA3jmlhwwDmd"
      }
    },
    {
      "cell_type": "markdown",
      "source": [
        "##CatBoost Classifier"
      ],
      "metadata": {
        "id": "WkmuFGh_lUiC"
      }
    },
    {
      "cell_type": "code",
      "source": [
        "none_catbt_model = CatBoostClassifier(n_estimators=5, random_state=0)\n",
        "none_catbt_model.fit(none_tfidfv_train, none_y_train, eval_set=(none_tfidfv_test, none_y_test))\n",
        "none_catbt_predicted = none_catbt_model.predict(none_tfidfv_test) \n",
        "none_catbt_accuracy = accuracy_score(none_y_test, none_catbt_predicted)\n",
        "print(\"accuracy :\", none_catbt_accuracy)"
      ],
      "metadata": {
        "colab": {
          "base_uri": "https://localhost:8080/"
        },
        "id": "ffAP34QV8Lsc",
        "outputId": "fa6c0602-e40e-42f2-d4b8-b207f6858fc1"
      },
      "execution_count": null,
      "outputs": [
        {
          "output_type": "stream",
          "name": "stdout",
          "text": [
            "Learning rate set to 0.5\n",
            "0:\tlearn: 2.7755023\ttest: 2.9291993\tbest: 2.9291993 (0)\ttotal: 10.7s\tremaining: 43s\n",
            "1:\tlearn: 2.3796181\ttest: 2.5226575\tbest: 2.5226575 (1)\ttotal: 22.1s\tremaining: 33.1s\n",
            "2:\tlearn: 2.0289105\ttest: 2.1844390\tbest: 2.1844390 (2)\ttotal: 31.6s\tremaining: 21.1s\n",
            "3:\tlearn: 1.9116873\ttest: 2.0566646\tbest: 2.0566646 (3)\ttotal: 40.5s\tremaining: 10.1s\n",
            "4:\tlearn: 1.7470068\ttest: 1.8979547\tbest: 1.8979547 (4)\ttotal: 49.4s\tremaining: 0us\n",
            "\n",
            "bestTest = 1.897954674\n",
            "bestIteration = 4\n",
            "\n",
            "accuracy : 0.6153161175422974\n"
          ]
        }
      ]
    },
    {
      "cell_type": "markdown",
      "source": [
        "num_words=None일 때, CatBoost Classifier 모델의 성능 'accuracy'는 61.53%이다."
      ],
      "metadata": {
        "id": "U1yTa6riC2NM"
      }
    },
    {
      "cell_type": "markdown",
      "source": [
        "<br/>"
      ],
      "metadata": {
        "id": "78Ymskt8wC4K"
      }
    },
    {
      "cell_type": "code",
      "source": [
        "ten_catbt_model = CatBoostClassifier(n_estimators=5, random_state=0)\n",
        "ten_catbt_model.fit(ten_tfidfv_train, ten_y_train, eval_set=(ten_tfidfv_test, ten_y_test))\n",
        "ten_catbt_predicted = ten_catbt_model.predict(ten_tfidfv_test) \n",
        "ten_catbt_accuracy = accuracy_score(ten_y_test, ten_catbt_predicted)\n",
        "print(\"accuracy :\", ten_catbt_accuracy)"
      ],
      "metadata": {
        "id": "sUEFfGRt0pG2",
        "colab": {
          "base_uri": "https://localhost:8080/"
        },
        "outputId": "8cce8b28-a785-4c5e-9e4e-873a03bb30db"
      },
      "execution_count": null,
      "outputs": [
        {
          "output_type": "stream",
          "name": "stdout",
          "text": [
            "Learning rate set to 0.5\n",
            "0:\tlearn: 3.0555413\ttest: 3.1018265\tbest: 3.1018265 (0)\ttotal: 9.48s\tremaining: 37.9s\n",
            "1:\tlearn: 2.6062068\ttest: 2.6453378\tbest: 2.6453378 (1)\ttotal: 17.8s\tremaining: 26.6s\n",
            "2:\tlearn: 2.0071832\ttest: 2.1150769\tbest: 2.1150769 (2)\ttotal: 26.4s\tremaining: 17.6s\n",
            "3:\tlearn: 1.8204466\ttest: 1.9700279\tbest: 1.9700279 (3)\ttotal: 35.1s\tremaining: 8.78s\n",
            "4:\tlearn: 1.7443703\ttest: 1.8803524\tbest: 1.8803524 (4)\ttotal: 46s\tremaining: 0us\n",
            "\n",
            "bestTest = 1.880352404\n",
            "bestIteration = 4\n",
            "\n",
            "accuracy : 0.6086375779162957\n"
          ]
        }
      ]
    },
    {
      "cell_type": "markdown",
      "source": [
        "num_words=10000일 때, CatBoost Classifier 모델의 성능 'accuracy'는 60.86%이다."
      ],
      "metadata": {
        "id": "pFn8FMfjC3fS"
      }
    },
    {
      "cell_type": "markdown",
      "source": [
        "<br/>"
      ],
      "metadata": {
        "id": "vcMLZ8ywwCV9"
      }
    },
    {
      "cell_type": "code",
      "source": [
        "five_catbt_model = CatBoostClassifier(n_estimators=5, random_state=0)\n",
        "five_catbt_model.fit(five_tfidfv_train, five_y_train, eval_set=(five_tfidfv_test, five_y_test))\n",
        "five_catbt_predicted = five_catbt_model.predict(five_tfidfv_test) \n",
        "five_catbt_accuracy = accuracy_score(five_y_test, five_catbt_predicted)\n",
        "print(\"accuracy :\", five_catbt_accuracy) "
      ],
      "metadata": {
        "id": "I2nMef1W0pOz",
        "colab": {
          "base_uri": "https://localhost:8080/"
        },
        "outputId": "4e515cda-d28c-4b08-85db-729be763196d"
      },
      "execution_count": null,
      "outputs": [
        {
          "output_type": "stream",
          "name": "stdout",
          "text": [
            "Learning rate set to 0.5\n",
            "0:\tlearn: 3.1994845\ttest: 3.2082913\tbest: 3.2082913 (0)\ttotal: 8.87s\tremaining: 35.5s\n",
            "1:\tlearn: 3.6023587\ttest: 3.6573065\tbest: 3.2082913 (0)\ttotal: 16.3s\tremaining: 24.5s\n",
            "2:\tlearn: 2.4662424\ttest: 2.5220926\tbest: 2.5220926 (2)\ttotal: 24.9s\tremaining: 16.6s\n",
            "3:\tlearn: 2.1075034\ttest: 2.2361272\tbest: 2.2361272 (3)\ttotal: 32.5s\tremaining: 8.12s\n",
            "4:\tlearn: 1.9846054\ttest: 2.1212435\tbest: 2.1212435 (4)\ttotal: 42s\tremaining: 0us\n",
            "\n",
            "bestTest = 2.121243501\n",
            "bestIteration = 4\n",
            "\n",
            "accuracy : 0.5574354407836153\n"
          ]
        }
      ]
    },
    {
      "cell_type": "markdown",
      "source": [
        "num_words=5000일 때, CatBoost Classifier 모델의 성능 'accuracy'는 55.74%이다."
      ],
      "metadata": {
        "id": "NJWGsRQaC4tq"
      }
    },
    {
      "cell_type": "markdown",
      "source": [
        "<br/>"
      ],
      "metadata": {
        "id": "3aobo1fGwBnK"
      }
    },
    {
      "cell_type": "code",
      "source": [
        "one_catbt_model = CatBoostClassifier(n_estimators=5, random_state=0)\n",
        "one_catbt_model.fit(one_tfidfv_train, one_y_train, eval_set=(one_tfidfv_test, one_y_test))\n",
        "one_catbt_predicted = one_catbt_model.predict(one_tfidfv_test) \n",
        "one_catbt_accuracy = accuracy_score(one_y_test, one_catbt_predicted)\n",
        "print(\"accuracy :\", one_catbt_accuracy) "
      ],
      "metadata": {
        "id": "wgKKf43F0pVN",
        "colab": {
          "base_uri": "https://localhost:8080/"
        },
        "outputId": "794384db-126f-45a9-dba6-9fad2ea558f0"
      },
      "execution_count": null,
      "outputs": [
        {
          "output_type": "stream",
          "name": "stdout",
          "text": [
            "Learning rate set to 0.5\n",
            "0:\tlearn: 3.1994845\ttest: 3.2082913\tbest: 3.2082913 (0)\ttotal: 8.98s\tremaining: 35.9s\n",
            "1:\tlearn: 3.6023587\ttest: 3.6573065\tbest: 3.2082913 (0)\ttotal: 18.5s\tremaining: 27.8s\n",
            "2:\tlearn: 2.4662424\ttest: 2.5220926\tbest: 2.5220926 (2)\ttotal: 28.2s\tremaining: 18.8s\n",
            "3:\tlearn: 2.1075034\ttest: 2.2361272\tbest: 2.2361272 (3)\ttotal: 36s\tremaining: 9s\n",
            "4:\tlearn: 1.9846054\ttest: 2.1212435\tbest: 2.1212435 (4)\ttotal: 43.5s\tremaining: 0us\n",
            "\n",
            "bestTest = 2.121243501\n",
            "bestIteration = 4\n",
            "\n",
            "accuracy : 0.5574354407836153\n"
          ]
        }
      ]
    },
    {
      "cell_type": "markdown",
      "source": [
        "num_words=1000일 때, CatBoost Classifier 모델의 성능 'accuracy'는 55.74%이다.\n"
      ],
      "metadata": {
        "id": "yfVYkIigC5-m"
      }
    },
    {
      "cell_type": "markdown",
      "source": [
        "<br/>"
      ],
      "metadata": {
        "id": "8PXcy2OjwAIl"
      }
    },
    {
      "cell_type": "code",
      "source": [
        "catbt_model_comparison = [round(none_catbt_accuracy, 4), round(ten_catbt_accuracy, 4),\n",
        "                        round(five_catbt_accuracy, 4), round(one_catbt_accuracy, 4)]\n",
        "\n",
        "catbt_model_name = ['catbt_none', 'catbt_10000', 'catbt_5000', 'catbt_1000']\n",
        "\n",
        "catbt_df = pd.DataFrame({\"Model\": catbt_model_name,\n",
        "                  \"Accuracy\":catbt_model_comparison})\n",
        "catbt_df_sorted = catbt_df.sort_values('Accuracy',ascending=False)\n",
        "catbt_df_sorted"
      ],
      "metadata": {
        "id": "tE0nueBgWc5V",
        "colab": {
          "base_uri": "https://localhost:8080/",
          "height": 175
        },
        "outputId": "7c8289d8-88ad-428e-a021-9c103784433f"
      },
      "execution_count": null,
      "outputs": [
        {
          "output_type": "execute_result",
          "data": {
            "text/plain": [
              "         Model  Accuracy\n",
              "0   catbt_none    0.6153\n",
              "1  catbt_10000    0.6086\n",
              "2   catbt_5000    0.5574\n",
              "3   catbt_1000    0.5574"
            ],
            "text/html": [
              "\n",
              "  <div id=\"df-77b85e67-85ef-4198-9b4c-772ca95e42f8\">\n",
              "    <div class=\"colab-df-container\">\n",
              "      <div>\n",
              "<style scoped>\n",
              "    .dataframe tbody tr th:only-of-type {\n",
              "        vertical-align: middle;\n",
              "    }\n",
              "\n",
              "    .dataframe tbody tr th {\n",
              "        vertical-align: top;\n",
              "    }\n",
              "\n",
              "    .dataframe thead th {\n",
              "        text-align: right;\n",
              "    }\n",
              "</style>\n",
              "<table border=\"1\" class=\"dataframe\">\n",
              "  <thead>\n",
              "    <tr style=\"text-align: right;\">\n",
              "      <th></th>\n",
              "      <th>Model</th>\n",
              "      <th>Accuracy</th>\n",
              "    </tr>\n",
              "  </thead>\n",
              "  <tbody>\n",
              "    <tr>\n",
              "      <th>0</th>\n",
              "      <td>catbt_none</td>\n",
              "      <td>0.6153</td>\n",
              "    </tr>\n",
              "    <tr>\n",
              "      <th>1</th>\n",
              "      <td>catbt_10000</td>\n",
              "      <td>0.6086</td>\n",
              "    </tr>\n",
              "    <tr>\n",
              "      <th>2</th>\n",
              "      <td>catbt_5000</td>\n",
              "      <td>0.5574</td>\n",
              "    </tr>\n",
              "    <tr>\n",
              "      <th>3</th>\n",
              "      <td>catbt_1000</td>\n",
              "      <td>0.5574</td>\n",
              "    </tr>\n",
              "  </tbody>\n",
              "</table>\n",
              "</div>\n",
              "      <button class=\"colab-df-convert\" onclick=\"convertToInteractive('df-77b85e67-85ef-4198-9b4c-772ca95e42f8')\"\n",
              "              title=\"Convert this dataframe to an interactive table.\"\n",
              "              style=\"display:none;\">\n",
              "        \n",
              "  <svg xmlns=\"http://www.w3.org/2000/svg\" height=\"24px\"viewBox=\"0 0 24 24\"\n",
              "       width=\"24px\">\n",
              "    <path d=\"M0 0h24v24H0V0z\" fill=\"none\"/>\n",
              "    <path d=\"M18.56 5.44l.94 2.06.94-2.06 2.06-.94-2.06-.94-.94-2.06-.94 2.06-2.06.94zm-11 1L8.5 8.5l.94-2.06 2.06-.94-2.06-.94L8.5 2.5l-.94 2.06-2.06.94zm10 10l.94 2.06.94-2.06 2.06-.94-2.06-.94-.94-2.06-.94 2.06-2.06.94z\"/><path d=\"M17.41 7.96l-1.37-1.37c-.4-.4-.92-.59-1.43-.59-.52 0-1.04.2-1.43.59L10.3 9.45l-7.72 7.72c-.78.78-.78 2.05 0 2.83L4 21.41c.39.39.9.59 1.41.59.51 0 1.02-.2 1.41-.59l7.78-7.78 2.81-2.81c.8-.78.8-2.07 0-2.86zM5.41 20L4 18.59l7.72-7.72 1.47 1.35L5.41 20z\"/>\n",
              "  </svg>\n",
              "      </button>\n",
              "      \n",
              "  <style>\n",
              "    .colab-df-container {\n",
              "      display:flex;\n",
              "      flex-wrap:wrap;\n",
              "      gap: 12px;\n",
              "    }\n",
              "\n",
              "    .colab-df-convert {\n",
              "      background-color: #E8F0FE;\n",
              "      border: none;\n",
              "      border-radius: 50%;\n",
              "      cursor: pointer;\n",
              "      display: none;\n",
              "      fill: #1967D2;\n",
              "      height: 32px;\n",
              "      padding: 0 0 0 0;\n",
              "      width: 32px;\n",
              "    }\n",
              "\n",
              "    .colab-df-convert:hover {\n",
              "      background-color: #E2EBFA;\n",
              "      box-shadow: 0px 1px 2px rgba(60, 64, 67, 0.3), 0px 1px 3px 1px rgba(60, 64, 67, 0.15);\n",
              "      fill: #174EA6;\n",
              "    }\n",
              "\n",
              "    [theme=dark] .colab-df-convert {\n",
              "      background-color: #3B4455;\n",
              "      fill: #D2E3FC;\n",
              "    }\n",
              "\n",
              "    [theme=dark] .colab-df-convert:hover {\n",
              "      background-color: #434B5C;\n",
              "      box-shadow: 0px 1px 3px 1px rgba(0, 0, 0, 0.15);\n",
              "      filter: drop-shadow(0px 1px 2px rgba(0, 0, 0, 0.3));\n",
              "      fill: #FFFFFF;\n",
              "    }\n",
              "  </style>\n",
              "\n",
              "      <script>\n",
              "        const buttonEl =\n",
              "          document.querySelector('#df-77b85e67-85ef-4198-9b4c-772ca95e42f8 button.colab-df-convert');\n",
              "        buttonEl.style.display =\n",
              "          google.colab.kernel.accessAllowed ? 'block' : 'none';\n",
              "\n",
              "        async function convertToInteractive(key) {\n",
              "          const element = document.querySelector('#df-77b85e67-85ef-4198-9b4c-772ca95e42f8');\n",
              "          const dataTable =\n",
              "            await google.colab.kernel.invokeFunction('convertToInteractive',\n",
              "                                                     [key], {});\n",
              "          if (!dataTable) return;\n",
              "\n",
              "          const docLinkHtml = 'Like what you see? Visit the ' +\n",
              "            '<a target=\"_blank\" href=https://colab.research.google.com/notebooks/data_table.ipynb>data table notebook</a>'\n",
              "            + ' to learn more about interactive tables.';\n",
              "          element.innerHTML = '';\n",
              "          dataTable['output_type'] = 'display_data';\n",
              "          await google.colab.output.renderOutput(dataTable, element);\n",
              "          const docLink = document.createElement('div');\n",
              "          docLink.innerHTML = docLinkHtml;\n",
              "          element.appendChild(docLink);\n",
              "        }\n",
              "      </script>\n",
              "    </div>\n",
              "  </div>\n",
              "  "
            ]
          },
          "metadata": {},
          "execution_count": 83
        }
      ]
    },
    {
      "cell_type": "markdown",
      "source": [
        "num_words=n에서 n이 클수록 CatBoost Classifier  모델의 성능이 높다."
      ],
      "metadata": {
        "id": "zGaUFO-oKjPP"
      }
    },
    {
      "cell_type": "markdown",
      "source": [
        "<br/>"
      ],
      "metadata": {
        "id": "lBbf7ri1v_Yb"
      }
    },
    {
      "cell_type": "markdown",
      "source": [
        "##Bagging Classifier"
      ],
      "metadata": {
        "id": "4YBveNWG7AxQ"
      }
    },
    {
      "cell_type": "code",
      "source": [
        "none_bagging_model = BaggingClassifier(n_estimators=5, random_state=0) \n",
        "none_bagging_model.fit(none_tfidfv_train, none_y_train)\n",
        "none_bagging_predicted = none_bagging_model.predict(none_tfidfv_test) \n",
        "none_bagging_accuracy = accuracy_score(none_y_test, none_bagging_predicted)\n",
        "print(\"accuracy :\", none_bagging_accuracy) "
      ],
      "metadata": {
        "id": "LFkCQbN3wZi_",
        "colab": {
          "base_uri": "https://localhost:8080/"
        },
        "outputId": "7adf83e3-a90a-46ff-a321-b291c13f370c"
      },
      "execution_count": null,
      "outputs": [
        {
          "output_type": "stream",
          "name": "stdout",
          "text": [
            "accuracy : 0.7475512021371327\n"
          ]
        }
      ]
    },
    {
      "cell_type": "markdown",
      "source": [
        "num_words=None일 때, Bagging Classifier 모델의 성능 'accuracy'는 74.76%이다."
      ],
      "metadata": {
        "id": "hxQNtPflC_vN"
      }
    },
    {
      "cell_type": "markdown",
      "source": [
        "<br/>"
      ],
      "metadata": {
        "id": "Hpjtulbgv-1T"
      }
    },
    {
      "cell_type": "code",
      "source": [
        "ten_bagging_model = BaggingClassifier(n_estimators=5, random_state=0) \n",
        "ten_bagging_model.fit(ten_tfidfv_train, ten_y_train)\n",
        "ten_bagging_predicted = ten_bagging_model.predict(ten_tfidfv_test) \n",
        "ten_bagging_accuracy = accuracy_score(ten_y_test, ten_bagging_predicted)\n",
        "print(\"accuracy :\", ten_bagging_accuracy) "
      ],
      "metadata": {
        "id": "n6hsbdcl1Bc-",
        "colab": {
          "base_uri": "https://localhost:8080/"
        },
        "outputId": "7fe8655e-483b-4fa1-c01a-0cdb1fed89ec"
      },
      "execution_count": null,
      "outputs": [
        {
          "output_type": "stream",
          "name": "stdout",
          "text": [
            "accuracy : 0.757346393588602\n"
          ]
        }
      ]
    },
    {
      "cell_type": "markdown",
      "source": [
        "num_words=10000일 때, Bagging Classifier 모델의 성능 'accuracy'는 75.73%이다."
      ],
      "metadata": {
        "id": "sBXfKB9oDBJU"
      }
    },
    {
      "cell_type": "markdown",
      "source": [
        "<br/>"
      ],
      "metadata": {
        "id": "XxFSeenPv-Sb"
      }
    },
    {
      "cell_type": "code",
      "source": [
        "five_bagging_model = BaggingClassifier(n_estimators=5, random_state=0) \n",
        "five_bagging_model.fit(five_tfidfv_train, five_y_train)\n",
        "five_bagging_predicted = five_bagging_model.predict(five_tfidfv_test) \n",
        "five_bagging_accuracy = accuracy_score(five_y_test, five_bagging_predicted)\n",
        "print(\"accuracy :\", five_bagging_accuracy) "
      ],
      "metadata": {
        "id": "JoQ0fm_-1Bj7",
        "colab": {
          "base_uri": "https://localhost:8080/"
        },
        "outputId": "48ec4950-1e6d-4e14-cd8c-3b951bddef99"
      },
      "execution_count": null,
      "outputs": [
        {
          "output_type": "stream",
          "name": "stdout",
          "text": [
            "accuracy : 0.7533392698130009\n"
          ]
        }
      ]
    },
    {
      "cell_type": "markdown",
      "source": [
        "num_words=5000일 때, Bagging Classifier 모델의 성능 'accuracy'는 75.33%이다."
      ],
      "metadata": {
        "id": "wwxcnJF-DCbY"
      }
    },
    {
      "cell_type": "markdown",
      "source": [
        "<br/>"
      ],
      "metadata": {
        "id": "jo08KQjqv99D"
      }
    },
    {
      "cell_type": "code",
      "source": [
        "one_bagging_model = BaggingClassifier(n_estimators=5, random_state=0) \n",
        "one_bagging_model.fit(one_tfidfv_train, one_y_train)\n",
        "one_bagging_predicted = one_bagging_model.predict(one_tfidfv_test) \n",
        "one_bagging_accuracy = accuracy_score(one_y_test, one_bagging_predicted)\n",
        "print(\"accuracy :\", one_bagging_accuracy) "
      ],
      "metadata": {
        "id": "jZrM5bCv1Bqu",
        "colab": {
          "base_uri": "https://localhost:8080/"
        },
        "outputId": "0d8eb0d9-8396-490f-dd2d-06080dc49860"
      },
      "execution_count": null,
      "outputs": [
        {
          "output_type": "stream",
          "name": "stdout",
          "text": [
            "accuracy : 0.7533392698130009\n"
          ]
        }
      ]
    },
    {
      "cell_type": "markdown",
      "source": [
        "num_words=1000일 때, Bagging Classifier 모델의 성능 'accuracy'는 75.33%이다."
      ],
      "metadata": {
        "id": "AAWiajbIDDtB"
      }
    },
    {
      "cell_type": "markdown",
      "source": [
        "<br/>"
      ],
      "metadata": {
        "id": "oIWPfO9Sv9WU"
      }
    },
    {
      "cell_type": "code",
      "source": [
        "bagging_model_comparison = [round(none_bagging_accuracy, 4), round(ten_bagging_accuracy, 4),\n",
        "                        round(five_bagging_accuracy, 4), round(one_bagging_accuracy, 4)]\n",
        "\n",
        "bagging_model_name = ['bagging_none', 'bagging_10000', 'bagging_5000', 'bagging_1000']\n",
        "\n",
        "bagging_df = pd.DataFrame({\"Model\": bagging_model_name,\n",
        "                  \"Accuracy\":bagging_model_comparison})\n",
        "bagging_df_sorted = bagging_df.sort_values('Accuracy',ascending=False)\n",
        "bagging_df_sorted"
      ],
      "metadata": {
        "id": "brdEJorWWeFW",
        "colab": {
          "base_uri": "https://localhost:8080/",
          "height": 175
        },
        "outputId": "16e9cd9e-fe96-4b73-f338-76e373453d63"
      },
      "execution_count": null,
      "outputs": [
        {
          "output_type": "execute_result",
          "data": {
            "text/plain": [
              "           Model  Accuracy\n",
              "1  bagging_10000    0.7573\n",
              "2   bagging_5000    0.7533\n",
              "3   bagging_1000    0.7533\n",
              "0   bagging_none    0.7476"
            ],
            "text/html": [
              "\n",
              "  <div id=\"df-9eaa917b-6a13-4bc1-a73e-f4f6a924bee2\">\n",
              "    <div class=\"colab-df-container\">\n",
              "      <div>\n",
              "<style scoped>\n",
              "    .dataframe tbody tr th:only-of-type {\n",
              "        vertical-align: middle;\n",
              "    }\n",
              "\n",
              "    .dataframe tbody tr th {\n",
              "        vertical-align: top;\n",
              "    }\n",
              "\n",
              "    .dataframe thead th {\n",
              "        text-align: right;\n",
              "    }\n",
              "</style>\n",
              "<table border=\"1\" class=\"dataframe\">\n",
              "  <thead>\n",
              "    <tr style=\"text-align: right;\">\n",
              "      <th></th>\n",
              "      <th>Model</th>\n",
              "      <th>Accuracy</th>\n",
              "    </tr>\n",
              "  </thead>\n",
              "  <tbody>\n",
              "    <tr>\n",
              "      <th>1</th>\n",
              "      <td>bagging_10000</td>\n",
              "      <td>0.7573</td>\n",
              "    </tr>\n",
              "    <tr>\n",
              "      <th>2</th>\n",
              "      <td>bagging_5000</td>\n",
              "      <td>0.7533</td>\n",
              "    </tr>\n",
              "    <tr>\n",
              "      <th>3</th>\n",
              "      <td>bagging_1000</td>\n",
              "      <td>0.7533</td>\n",
              "    </tr>\n",
              "    <tr>\n",
              "      <th>0</th>\n",
              "      <td>bagging_none</td>\n",
              "      <td>0.7476</td>\n",
              "    </tr>\n",
              "  </tbody>\n",
              "</table>\n",
              "</div>\n",
              "      <button class=\"colab-df-convert\" onclick=\"convertToInteractive('df-9eaa917b-6a13-4bc1-a73e-f4f6a924bee2')\"\n",
              "              title=\"Convert this dataframe to an interactive table.\"\n",
              "              style=\"display:none;\">\n",
              "        \n",
              "  <svg xmlns=\"http://www.w3.org/2000/svg\" height=\"24px\"viewBox=\"0 0 24 24\"\n",
              "       width=\"24px\">\n",
              "    <path d=\"M0 0h24v24H0V0z\" fill=\"none\"/>\n",
              "    <path d=\"M18.56 5.44l.94 2.06.94-2.06 2.06-.94-2.06-.94-.94-2.06-.94 2.06-2.06.94zm-11 1L8.5 8.5l.94-2.06 2.06-.94-2.06-.94L8.5 2.5l-.94 2.06-2.06.94zm10 10l.94 2.06.94-2.06 2.06-.94-2.06-.94-.94-2.06-.94 2.06-2.06.94z\"/><path d=\"M17.41 7.96l-1.37-1.37c-.4-.4-.92-.59-1.43-.59-.52 0-1.04.2-1.43.59L10.3 9.45l-7.72 7.72c-.78.78-.78 2.05 0 2.83L4 21.41c.39.39.9.59 1.41.59.51 0 1.02-.2 1.41-.59l7.78-7.78 2.81-2.81c.8-.78.8-2.07 0-2.86zM5.41 20L4 18.59l7.72-7.72 1.47 1.35L5.41 20z\"/>\n",
              "  </svg>\n",
              "      </button>\n",
              "      \n",
              "  <style>\n",
              "    .colab-df-container {\n",
              "      display:flex;\n",
              "      flex-wrap:wrap;\n",
              "      gap: 12px;\n",
              "    }\n",
              "\n",
              "    .colab-df-convert {\n",
              "      background-color: #E8F0FE;\n",
              "      border: none;\n",
              "      border-radius: 50%;\n",
              "      cursor: pointer;\n",
              "      display: none;\n",
              "      fill: #1967D2;\n",
              "      height: 32px;\n",
              "      padding: 0 0 0 0;\n",
              "      width: 32px;\n",
              "    }\n",
              "\n",
              "    .colab-df-convert:hover {\n",
              "      background-color: #E2EBFA;\n",
              "      box-shadow: 0px 1px 2px rgba(60, 64, 67, 0.3), 0px 1px 3px 1px rgba(60, 64, 67, 0.15);\n",
              "      fill: #174EA6;\n",
              "    }\n",
              "\n",
              "    [theme=dark] .colab-df-convert {\n",
              "      background-color: #3B4455;\n",
              "      fill: #D2E3FC;\n",
              "    }\n",
              "\n",
              "    [theme=dark] .colab-df-convert:hover {\n",
              "      background-color: #434B5C;\n",
              "      box-shadow: 0px 1px 3px 1px rgba(0, 0, 0, 0.15);\n",
              "      filter: drop-shadow(0px 1px 2px rgba(0, 0, 0, 0.3));\n",
              "      fill: #FFFFFF;\n",
              "    }\n",
              "  </style>\n",
              "\n",
              "      <script>\n",
              "        const buttonEl =\n",
              "          document.querySelector('#df-9eaa917b-6a13-4bc1-a73e-f4f6a924bee2 button.colab-df-convert');\n",
              "        buttonEl.style.display =\n",
              "          google.colab.kernel.accessAllowed ? 'block' : 'none';\n",
              "\n",
              "        async function convertToInteractive(key) {\n",
              "          const element = document.querySelector('#df-9eaa917b-6a13-4bc1-a73e-f4f6a924bee2');\n",
              "          const dataTable =\n",
              "            await google.colab.kernel.invokeFunction('convertToInteractive',\n",
              "                                                     [key], {});\n",
              "          if (!dataTable) return;\n",
              "\n",
              "          const docLinkHtml = 'Like what you see? Visit the ' +\n",
              "            '<a target=\"_blank\" href=https://colab.research.google.com/notebooks/data_table.ipynb>data table notebook</a>'\n",
              "            + ' to learn more about interactive tables.';\n",
              "          element.innerHTML = '';\n",
              "          dataTable['output_type'] = 'display_data';\n",
              "          await google.colab.output.renderOutput(dataTable, element);\n",
              "          const docLink = document.createElement('div');\n",
              "          docLink.innerHTML = docLinkHtml;\n",
              "          element.appendChild(docLink);\n",
              "        }\n",
              "      </script>\n",
              "    </div>\n",
              "  </div>\n",
              "  "
            ]
          },
          "metadata": {},
          "execution_count": 43
        }
      ]
    },
    {
      "cell_type": "markdown",
      "source": [
        "Bagging Classifier 모델의 성능은 num_words에 큰 영향을 받지 않는다."
      ],
      "metadata": {
        "id": "Zlj-7_nXjAoa"
      }
    },
    {
      "cell_type": "markdown",
      "source": [
        "<br/>"
      ],
      "metadata": {
        "id": "5QU07m63v8tz"
      }
    },
    {
      "cell_type": "markdown",
      "source": [
        "##Voting Classifier"
      ],
      "metadata": {
        "id": "6en7fmTJwlgI"
      }
    },
    {
      "cell_type": "code",
      "source": [
        "none_voting_model = VotingClassifier(estimators=[\n",
        "         ('lr', LogisticRegression(C=10000, penalty='l2')),\n",
        "        ('cb', ComplementNB()),\n",
        "        ('grbt', GradientBoostingClassifier(random_state=0))\n",
        "], voting='soft')\n",
        "\n",
        "none_voting_model.fit(none_tfidfv_train, none_y_train)\n",
        "none_voting_predicted = none_voting_model.predict(none_tfidfv_test) \n",
        "none_voting_accuracy = accuracy_score(none_y_test, none_voting_predicted)\n",
        "print(\"accuracy :\", none_voting_accuracy) "
      ],
      "metadata": {
        "id": "Vn5qRaWowbJd",
        "colab": {
          "base_uri": "https://localhost:8080/"
        },
        "outputId": "e68a3143-31cc-4047-9e92-73b6e3f8adce"
      },
      "execution_count": null,
      "outputs": [
        {
          "output_type": "stream",
          "name": "stdout",
          "text": [
            "accuracy : 0.8183437221727515\n"
          ]
        }
      ]
    },
    {
      "cell_type": "markdown",
      "source": [
        "num_words=None일 때, Voting Classifier 모델의 성능 'accuracy'는 81.83%이다."
      ],
      "metadata": {
        "id": "hb_HyGCkDMYY"
      }
    },
    {
      "cell_type": "markdown",
      "source": [
        "<br/>"
      ],
      "metadata": {
        "id": "MfAESPxzv8JH"
      }
    },
    {
      "cell_type": "code",
      "source": [
        "ten_voting_model = VotingClassifier(estimators=[\n",
        "         ('lr', LogisticRegression(C=10000, penalty='l2')),\n",
        "        ('cb', ComplementNB()),\n",
        "        ('grbt', GradientBoostingClassifier(random_state=0))\n",
        "], voting='soft')\n",
        "\n",
        "ten_voting_model.fit(ten_tfidfv_train, ten_y_train)\n",
        "ten_voting_predicted = ten_voting_model.predict(ten_tfidfv_test) \n",
        "ten_voting_accuracy = accuracy_score(ten_y_test, ten_voting_predicted)\n",
        "print(\"accuracy :\", ten_voting_accuracy) "
      ],
      "metadata": {
        "id": "GExSP11T1WmH",
        "colab": {
          "base_uri": "https://localhost:8080/"
        },
        "outputId": "038d5e1b-72bc-47a7-ccfe-72c6fad45033"
      },
      "execution_count": null,
      "outputs": [
        {
          "output_type": "stream",
          "name": "stdout",
          "text": [
            "accuracy : 0.8121104185218165\n"
          ]
        }
      ]
    },
    {
      "cell_type": "markdown",
      "source": [
        "num_words=10000일 때, Voting Classifier 모델의 성능 'accuracy'는 81.21%이다."
      ],
      "metadata": {
        "id": "Fso-_NzLDOPg"
      }
    },
    {
      "cell_type": "markdown",
      "source": [
        "<br/>"
      ],
      "metadata": {
        "id": "B3QvMbs7v7kK"
      }
    },
    {
      "cell_type": "code",
      "source": [
        "five_voting_model = VotingClassifier(estimators=[\n",
        "         ('lr', LogisticRegression(C=10000, penalty='l2')),\n",
        "        ('cb', ComplementNB()),\n",
        "        ('grbt', GradientBoostingClassifier(random_state=0))\n",
        "], voting='soft')\n",
        "\n",
        "five_voting_model.fit(five_tfidfv_train, five_y_train)\n",
        "five_voting_predicted = five_voting_model.predict(five_tfidfv_test) \n",
        "five_voting_accuracy = accuracy_score(five_y_test, five_voting_predicted)\n",
        "print(\"accuracy :\", five_voting_accuracy) "
      ],
      "metadata": {
        "id": "lkwO5q6d1WtB",
        "colab": {
          "base_uri": "https://localhost:8080/"
        },
        "outputId": "84dfaaf3-724d-4a84-cbc7-fc90f06052f4"
      },
      "execution_count": null,
      "outputs": [
        {
          "output_type": "stream",
          "name": "stdout",
          "text": [
            "accuracy : 0.8161175422974176\n"
          ]
        }
      ]
    },
    {
      "cell_type": "markdown",
      "source": [
        "num_words=5000일 때, Voting Classifier 모델의 성능 'accuracy'는 81.61%이다."
      ],
      "metadata": {
        "id": "tL_AizcGDPih"
      }
    },
    {
      "cell_type": "markdown",
      "source": [
        "<br/>"
      ],
      "metadata": {
        "id": "oV6tveNav7CM"
      }
    },
    {
      "cell_type": "code",
      "source": [
        "one_voting_model = VotingClassifier(estimators=[\n",
        "         ('lr', LogisticRegression(C=10000, penalty='l2')),\n",
        "        ('cb', ComplementNB()),\n",
        "        ('grbt', GradientBoostingClassifier(random_state=0))\n",
        "], voting='soft')\n",
        "\n",
        "one_voting_model.fit(one_tfidfv_train, one_y_train)\n",
        "one_voting_predicted = one_voting_model.predict(one_tfidfv_test) \n",
        "one_voting_accuracy = accuracy_score(one_y_test, one_voting_predicted)\n",
        "print(\"accuracy :\", one_voting_accuracy) "
      ],
      "metadata": {
        "id": "pjnwdCtV1Wz-",
        "colab": {
          "base_uri": "https://localhost:8080/"
        },
        "outputId": "3f182ea6-ecb1-4fff-c20a-ce49113930f1"
      },
      "execution_count": null,
      "outputs": [
        {
          "output_type": "stream",
          "name": "stdout",
          "text": [
            "accuracy : 0.8161175422974176\n"
          ]
        }
      ]
    },
    {
      "cell_type": "markdown",
      "source": [
        "num_words=1000일 때, Voting Classifier 모델의 성능 'accuracy'는 81.61%이다."
      ],
      "metadata": {
        "id": "bF62qE_QDQ0w"
      }
    },
    {
      "cell_type": "markdown",
      "source": [
        "<br/>"
      ],
      "metadata": {
        "id": "2dn5j_Rgv6gk"
      }
    },
    {
      "cell_type": "code",
      "source": [
        "voting_model_comparison = [round(none_voting_accuracy, 4), round(ten_voting_accuracy, 4),\n",
        "                        round(five_voting_accuracy, 4), round(one_voting_accuracy, 4)]\n",
        "\n",
        "voting_model_name = ['voting_none', 'voting_10000', 'voting_5000', 'voting_1000']\n",
        "\n",
        "voting_df = pd.DataFrame({\"Model\": voting_model_name,\n",
        "                  \"Accuracy\":voting_model_comparison})\n",
        "voting_df_sorted = voting_df.sort_values('Accuracy',ascending=False)\n",
        "voting_df_sorted"
      ],
      "metadata": {
        "id": "EP92td_9WfkY",
        "colab": {
          "base_uri": "https://localhost:8080/",
          "height": 175
        },
        "outputId": "be0ee1fb-67cb-40eb-9839-2ddafe7b5a8d"
      },
      "execution_count": null,
      "outputs": [
        {
          "output_type": "execute_result",
          "data": {
            "text/plain": [
              "          Model  Accuracy\n",
              "0   voting_none    0.8183\n",
              "2   voting_5000    0.8161\n",
              "3   voting_1000    0.8161\n",
              "1  voting_10000    0.8121"
            ],
            "text/html": [
              "\n",
              "  <div id=\"df-59c3bf40-f10a-4a67-af58-1e204bf1302c\">\n",
              "    <div class=\"colab-df-container\">\n",
              "      <div>\n",
              "<style scoped>\n",
              "    .dataframe tbody tr th:only-of-type {\n",
              "        vertical-align: middle;\n",
              "    }\n",
              "\n",
              "    .dataframe tbody tr th {\n",
              "        vertical-align: top;\n",
              "    }\n",
              "\n",
              "    .dataframe thead th {\n",
              "        text-align: right;\n",
              "    }\n",
              "</style>\n",
              "<table border=\"1\" class=\"dataframe\">\n",
              "  <thead>\n",
              "    <tr style=\"text-align: right;\">\n",
              "      <th></th>\n",
              "      <th>Model</th>\n",
              "      <th>Accuracy</th>\n",
              "    </tr>\n",
              "  </thead>\n",
              "  <tbody>\n",
              "    <tr>\n",
              "      <th>0</th>\n",
              "      <td>voting_none</td>\n",
              "      <td>0.8183</td>\n",
              "    </tr>\n",
              "    <tr>\n",
              "      <th>2</th>\n",
              "      <td>voting_5000</td>\n",
              "      <td>0.8161</td>\n",
              "    </tr>\n",
              "    <tr>\n",
              "      <th>3</th>\n",
              "      <td>voting_1000</td>\n",
              "      <td>0.8161</td>\n",
              "    </tr>\n",
              "    <tr>\n",
              "      <th>1</th>\n",
              "      <td>voting_10000</td>\n",
              "      <td>0.8121</td>\n",
              "    </tr>\n",
              "  </tbody>\n",
              "</table>\n",
              "</div>\n",
              "      <button class=\"colab-df-convert\" onclick=\"convertToInteractive('df-59c3bf40-f10a-4a67-af58-1e204bf1302c')\"\n",
              "              title=\"Convert this dataframe to an interactive table.\"\n",
              "              style=\"display:none;\">\n",
              "        \n",
              "  <svg xmlns=\"http://www.w3.org/2000/svg\" height=\"24px\"viewBox=\"0 0 24 24\"\n",
              "       width=\"24px\">\n",
              "    <path d=\"M0 0h24v24H0V0z\" fill=\"none\"/>\n",
              "    <path d=\"M18.56 5.44l.94 2.06.94-2.06 2.06-.94-2.06-.94-.94-2.06-.94 2.06-2.06.94zm-11 1L8.5 8.5l.94-2.06 2.06-.94-2.06-.94L8.5 2.5l-.94 2.06-2.06.94zm10 10l.94 2.06.94-2.06 2.06-.94-2.06-.94-.94-2.06-.94 2.06-2.06.94z\"/><path d=\"M17.41 7.96l-1.37-1.37c-.4-.4-.92-.59-1.43-.59-.52 0-1.04.2-1.43.59L10.3 9.45l-7.72 7.72c-.78.78-.78 2.05 0 2.83L4 21.41c.39.39.9.59 1.41.59.51 0 1.02-.2 1.41-.59l7.78-7.78 2.81-2.81c.8-.78.8-2.07 0-2.86zM5.41 20L4 18.59l7.72-7.72 1.47 1.35L5.41 20z\"/>\n",
              "  </svg>\n",
              "      </button>\n",
              "      \n",
              "  <style>\n",
              "    .colab-df-container {\n",
              "      display:flex;\n",
              "      flex-wrap:wrap;\n",
              "      gap: 12px;\n",
              "    }\n",
              "\n",
              "    .colab-df-convert {\n",
              "      background-color: #E8F0FE;\n",
              "      border: none;\n",
              "      border-radius: 50%;\n",
              "      cursor: pointer;\n",
              "      display: none;\n",
              "      fill: #1967D2;\n",
              "      height: 32px;\n",
              "      padding: 0 0 0 0;\n",
              "      width: 32px;\n",
              "    }\n",
              "\n",
              "    .colab-df-convert:hover {\n",
              "      background-color: #E2EBFA;\n",
              "      box-shadow: 0px 1px 2px rgba(60, 64, 67, 0.3), 0px 1px 3px 1px rgba(60, 64, 67, 0.15);\n",
              "      fill: #174EA6;\n",
              "    }\n",
              "\n",
              "    [theme=dark] .colab-df-convert {\n",
              "      background-color: #3B4455;\n",
              "      fill: #D2E3FC;\n",
              "    }\n",
              "\n",
              "    [theme=dark] .colab-df-convert:hover {\n",
              "      background-color: #434B5C;\n",
              "      box-shadow: 0px 1px 3px 1px rgba(0, 0, 0, 0.15);\n",
              "      filter: drop-shadow(0px 1px 2px rgba(0, 0, 0, 0.3));\n",
              "      fill: #FFFFFF;\n",
              "    }\n",
              "  </style>\n",
              "\n",
              "      <script>\n",
              "        const buttonEl =\n",
              "          document.querySelector('#df-59c3bf40-f10a-4a67-af58-1e204bf1302c button.colab-df-convert');\n",
              "        buttonEl.style.display =\n",
              "          google.colab.kernel.accessAllowed ? 'block' : 'none';\n",
              "\n",
              "        async function convertToInteractive(key) {\n",
              "          const element = document.querySelector('#df-59c3bf40-f10a-4a67-af58-1e204bf1302c');\n",
              "          const dataTable =\n",
              "            await google.colab.kernel.invokeFunction('convertToInteractive',\n",
              "                                                     [key], {});\n",
              "          if (!dataTable) return;\n",
              "\n",
              "          const docLinkHtml = 'Like what you see? Visit the ' +\n",
              "            '<a target=\"_blank\" href=https://colab.research.google.com/notebooks/data_table.ipynb>data table notebook</a>'\n",
              "            + ' to learn more about interactive tables.';\n",
              "          element.innerHTML = '';\n",
              "          dataTable['output_type'] = 'display_data';\n",
              "          await google.colab.output.renderOutput(dataTable, element);\n",
              "          const docLink = document.createElement('div');\n",
              "          docLink.innerHTML = docLinkHtml;\n",
              "          element.appendChild(docLink);\n",
              "        }\n",
              "      </script>\n",
              "    </div>\n",
              "  </div>\n",
              "  "
            ]
          },
          "metadata": {},
          "execution_count": 101
        }
      ]
    },
    {
      "cell_type": "markdown",
      "source": [
        "Voting Classifier 모델의 성능은 num_words에 큰 영향을 받지 않는다."
      ],
      "metadata": {
        "id": "V-G9C4_Dk0lT"
      }
    },
    {
      "cell_type": "markdown",
      "source": [
        "<br/>"
      ],
      "metadata": {
        "id": "15KSCU6-v56U"
      }
    },
    {
      "cell_type": "markdown",
      "source": [
        "#Nearest Neighbors"
      ],
      "metadata": {
        "id": "uLLZAiXaeTgp"
      }
    },
    {
      "cell_type": "markdown",
      "source": [
        "##KNeighbors Classifier"
      ],
      "metadata": {
        "id": "JrdTO0fNeRIJ"
      }
    },
    {
      "cell_type": "code",
      "source": [
        "none_kneigh_model = KNeighborsClassifier(n_neighbors=46)\n",
        "none_kneigh_model.fit(none_tfidfv_train, none_y_train)\n",
        "none_kneigh_predicted = none_kneigh_model.predict(none_tfidfv_test) \n",
        "none_kneigh_accuracy = accuracy_score(none_y_test, none_kneigh_predicted)\n",
        "print(\"accuracy :\", none_kneigh_accuracy) "
      ],
      "metadata": {
        "id": "hpwEX2NAwig9",
        "colab": {
          "base_uri": "https://localhost:8080/"
        },
        "outputId": "a0e4a771-6a1a-4c66-e18d-37f01c864197"
      },
      "execution_count": null,
      "outputs": [
        {
          "output_type": "stream",
          "name": "stdout",
          "text": [
            "accuracy : 0.7560106856634016\n"
          ]
        }
      ]
    },
    {
      "cell_type": "markdown",
      "source": [
        "num_words=None일 때, KNeighbors Classifier 모델의 성능 'accuracy'는 75.60%이다."
      ],
      "metadata": {
        "id": "BOXIUFQMDmoa"
      }
    },
    {
      "cell_type": "markdown",
      "source": [
        "<br/>"
      ],
      "metadata": {
        "id": "usFFizOMv5dF"
      }
    },
    {
      "cell_type": "code",
      "source": [
        "ten_kneigh_model = KNeighborsClassifier(n_neighbors=46)\n",
        "ten_kneigh_model.fit(ten_tfidfv_train, ten_y_train)\n",
        "ten_kneigh_predicted = ten_kneigh_model.predict(ten_tfidfv_test) \n",
        "ten_kneigh_accuracy = accuracy_score(ten_y_test, ten_kneigh_predicted)\n",
        "print(\"accuracy :\", ten_kneigh_accuracy) "
      ],
      "metadata": {
        "id": "tvDY3rU62AZx",
        "colab": {
          "base_uri": "https://localhost:8080/"
        },
        "outputId": "29878cc5-0375-4abb-d68c-2167958073fe"
      },
      "execution_count": null,
      "outputs": [
        {
          "output_type": "stream",
          "name": "stdout",
          "text": [
            "accuracy : 0.7831700801424755\n"
          ]
        }
      ]
    },
    {
      "cell_type": "markdown",
      "source": [
        "num_words=10000일 때, KNeighbors Classifier 모델의 성능 'accuracy'는 78.32%이다."
      ],
      "metadata": {
        "id": "bJZRgyPgDoJc"
      }
    },
    {
      "cell_type": "markdown",
      "source": [
        "<br/>"
      ],
      "metadata": {
        "id": "7lUM3dXVv4wT"
      }
    },
    {
      "cell_type": "code",
      "source": [
        "five_kneigh_model = KNeighborsClassifier(n_neighbors=46)\n",
        "five_kneigh_model.fit(five_tfidfv_train, five_y_train)\n",
        "five_kneigh_predicted = five_kneigh_model.predict(five_tfidfv_test) \n",
        "five_kneigh_accuracy = accuracy_score(five_y_test, five_kneigh_predicted)\n",
        "print(\"accuracy :\", five_kneigh_accuracy) "
      ],
      "metadata": {
        "id": "8U9odljO2AhZ",
        "colab": {
          "base_uri": "https://localhost:8080/"
        },
        "outputId": "5d9c4612-c0ea-4d0e-85f9-d1e7534f038f"
      },
      "execution_count": null,
      "outputs": [
        {
          "output_type": "stream",
          "name": "stdout",
          "text": [
            "accuracy : 0.7769367764915405\n"
          ]
        }
      ]
    },
    {
      "cell_type": "markdown",
      "source": [
        "num_words=5000일 때, KNeighbors Classifier 모델의 성능 'accuracy'는 77.69%이다."
      ],
      "metadata": {
        "id": "zCI0cQg0Dpk5"
      }
    },
    {
      "cell_type": "markdown",
      "source": [
        "<br/>"
      ],
      "metadata": {
        "id": "xQA3OKfov4UN"
      }
    },
    {
      "cell_type": "code",
      "source": [
        "one_kneigh_model = KNeighborsClassifier(n_neighbors=46)\n",
        "one_kneigh_model.fit(one_tfidfv_train, one_y_train)\n",
        "one_kneigh_predicted = one_kneigh_model.predict(one_tfidfv_test) \n",
        "one_kneigh_accuracy = accuracy_score(one_y_test, one_kneigh_predicted)\n",
        "print(\"accuracy :\", one_kneigh_accuracy) "
      ],
      "metadata": {
        "id": "svZrBoOh2Anb",
        "colab": {
          "base_uri": "https://localhost:8080/"
        },
        "outputId": "c955e3eb-9c0f-44b2-9c65-453bc9bfa92a"
      },
      "execution_count": null,
      "outputs": [
        {
          "output_type": "stream",
          "name": "stdout",
          "text": [
            "accuracy : 0.7769367764915405\n"
          ]
        }
      ]
    },
    {
      "cell_type": "markdown",
      "source": [
        "num_words=1000일 때, KNeighbors Classifier 모델의 성능 'accuracy'는 77.69%이다."
      ],
      "metadata": {
        "id": "RfeSVQTADq4g"
      }
    },
    {
      "cell_type": "markdown",
      "source": [
        "<br/>"
      ],
      "metadata": {
        "id": "KtrWGvgFv3_T"
      }
    },
    {
      "cell_type": "code",
      "source": [
        "kneigh_model_comparison = [round(none_kneigh_accuracy, 4), round(ten_kneigh_accuracy, 4),\n",
        "                        round(five_kneigh_accuracy, 4), round(one_kneigh_accuracy, 4)]\n",
        "\n",
        "kneigh_model_name = ['kneigh_none', 'kneigh_10000', 'kneigh_5000', 'kneigh_1000']\n",
        "\n",
        "kneigh_df = pd.DataFrame({\"Model\": kneigh_model_name,\n",
        "                  \"Accuracy\":kneigh_model_comparison})\n",
        "kneigh_df_sorted = kneigh_df.sort_values('Accuracy',ascending=False)\n",
        "kneigh_df_sorted"
      ],
      "metadata": {
        "id": "LkThoGHpWiYD",
        "colab": {
          "base_uri": "https://localhost:8080/",
          "height": 175
        },
        "outputId": "8359a5d4-bf93-453b-f73d-47c0f98f34ef"
      },
      "execution_count": null,
      "outputs": [
        {
          "output_type": "execute_result",
          "data": {
            "text/plain": [
              "          Model  Accuracy\n",
              "1  kneigh_10000    0.7832\n",
              "2   kneigh_5000    0.7769\n",
              "3   kneigh_1000    0.7769\n",
              "0   kneigh_none    0.7560"
            ],
            "text/html": [
              "\n",
              "  <div id=\"df-823e6412-2896-4e3e-9d4f-81139901b70a\">\n",
              "    <div class=\"colab-df-container\">\n",
              "      <div>\n",
              "<style scoped>\n",
              "    .dataframe tbody tr th:only-of-type {\n",
              "        vertical-align: middle;\n",
              "    }\n",
              "\n",
              "    .dataframe tbody tr th {\n",
              "        vertical-align: top;\n",
              "    }\n",
              "\n",
              "    .dataframe thead th {\n",
              "        text-align: right;\n",
              "    }\n",
              "</style>\n",
              "<table border=\"1\" class=\"dataframe\">\n",
              "  <thead>\n",
              "    <tr style=\"text-align: right;\">\n",
              "      <th></th>\n",
              "      <th>Model</th>\n",
              "      <th>Accuracy</th>\n",
              "    </tr>\n",
              "  </thead>\n",
              "  <tbody>\n",
              "    <tr>\n",
              "      <th>1</th>\n",
              "      <td>kneigh_10000</td>\n",
              "      <td>0.7832</td>\n",
              "    </tr>\n",
              "    <tr>\n",
              "      <th>2</th>\n",
              "      <td>kneigh_5000</td>\n",
              "      <td>0.7769</td>\n",
              "    </tr>\n",
              "    <tr>\n",
              "      <th>3</th>\n",
              "      <td>kneigh_1000</td>\n",
              "      <td>0.7769</td>\n",
              "    </tr>\n",
              "    <tr>\n",
              "      <th>0</th>\n",
              "      <td>kneigh_none</td>\n",
              "      <td>0.7560</td>\n",
              "    </tr>\n",
              "  </tbody>\n",
              "</table>\n",
              "</div>\n",
              "      <button class=\"colab-df-convert\" onclick=\"convertToInteractive('df-823e6412-2896-4e3e-9d4f-81139901b70a')\"\n",
              "              title=\"Convert this dataframe to an interactive table.\"\n",
              "              style=\"display:none;\">\n",
              "        \n",
              "  <svg xmlns=\"http://www.w3.org/2000/svg\" height=\"24px\"viewBox=\"0 0 24 24\"\n",
              "       width=\"24px\">\n",
              "    <path d=\"M0 0h24v24H0V0z\" fill=\"none\"/>\n",
              "    <path d=\"M18.56 5.44l.94 2.06.94-2.06 2.06-.94-2.06-.94-.94-2.06-.94 2.06-2.06.94zm-11 1L8.5 8.5l.94-2.06 2.06-.94-2.06-.94L8.5 2.5l-.94 2.06-2.06.94zm10 10l.94 2.06.94-2.06 2.06-.94-2.06-.94-.94-2.06-.94 2.06-2.06.94z\"/><path d=\"M17.41 7.96l-1.37-1.37c-.4-.4-.92-.59-1.43-.59-.52 0-1.04.2-1.43.59L10.3 9.45l-7.72 7.72c-.78.78-.78 2.05 0 2.83L4 21.41c.39.39.9.59 1.41.59.51 0 1.02-.2 1.41-.59l7.78-7.78 2.81-2.81c.8-.78.8-2.07 0-2.86zM5.41 20L4 18.59l7.72-7.72 1.47 1.35L5.41 20z\"/>\n",
              "  </svg>\n",
              "      </button>\n",
              "      \n",
              "  <style>\n",
              "    .colab-df-container {\n",
              "      display:flex;\n",
              "      flex-wrap:wrap;\n",
              "      gap: 12px;\n",
              "    }\n",
              "\n",
              "    .colab-df-convert {\n",
              "      background-color: #E8F0FE;\n",
              "      border: none;\n",
              "      border-radius: 50%;\n",
              "      cursor: pointer;\n",
              "      display: none;\n",
              "      fill: #1967D2;\n",
              "      height: 32px;\n",
              "      padding: 0 0 0 0;\n",
              "      width: 32px;\n",
              "    }\n",
              "\n",
              "    .colab-df-convert:hover {\n",
              "      background-color: #E2EBFA;\n",
              "      box-shadow: 0px 1px 2px rgba(60, 64, 67, 0.3), 0px 1px 3px 1px rgba(60, 64, 67, 0.15);\n",
              "      fill: #174EA6;\n",
              "    }\n",
              "\n",
              "    [theme=dark] .colab-df-convert {\n",
              "      background-color: #3B4455;\n",
              "      fill: #D2E3FC;\n",
              "    }\n",
              "\n",
              "    [theme=dark] .colab-df-convert:hover {\n",
              "      background-color: #434B5C;\n",
              "      box-shadow: 0px 1px 3px 1px rgba(0, 0, 0, 0.15);\n",
              "      filter: drop-shadow(0px 1px 2px rgba(0, 0, 0, 0.3));\n",
              "      fill: #FFFFFF;\n",
              "    }\n",
              "  </style>\n",
              "\n",
              "      <script>\n",
              "        const buttonEl =\n",
              "          document.querySelector('#df-823e6412-2896-4e3e-9d4f-81139901b70a button.colab-df-convert');\n",
              "        buttonEl.style.display =\n",
              "          google.colab.kernel.accessAllowed ? 'block' : 'none';\n",
              "\n",
              "        async function convertToInteractive(key) {\n",
              "          const element = document.querySelector('#df-823e6412-2896-4e3e-9d4f-81139901b70a');\n",
              "          const dataTable =\n",
              "            await google.colab.kernel.invokeFunction('convertToInteractive',\n",
              "                                                     [key], {});\n",
              "          if (!dataTable) return;\n",
              "\n",
              "          const docLinkHtml = 'Like what you see? Visit the ' +\n",
              "            '<a target=\"_blank\" href=https://colab.research.google.com/notebooks/data_table.ipynb>data table notebook</a>'\n",
              "            + ' to learn more about interactive tables.';\n",
              "          element.innerHTML = '';\n",
              "          dataTable['output_type'] = 'display_data';\n",
              "          await google.colab.output.renderOutput(dataTable, element);\n",
              "          const docLink = document.createElement('div');\n",
              "          docLink.innerHTML = docLinkHtml;\n",
              "          element.appendChild(docLink);\n",
              "        }\n",
              "      </script>\n",
              "    </div>\n",
              "  </div>\n",
              "  "
            ]
          },
          "metadata": {},
          "execution_count": 50
        }
      ]
    },
    {
      "cell_type": "markdown",
      "source": [
        "KNeighbors Classifier 모델의 성능은 num_words에 큰 영향을 받지 않는다."
      ],
      "metadata": {
        "id": "L_YBPJHspmV9"
      }
    },
    {
      "cell_type": "markdown",
      "source": [
        "<br/>"
      ],
      "metadata": {
        "id": "E5f6kYNcv2lM"
      }
    },
    {
      "cell_type": "markdown",
      "source": [
        "#Neural Network Model"
      ],
      "metadata": {
        "id": "4srOGalpcji6"
      }
    },
    {
      "cell_type": "markdown",
      "source": [
        "##MLP Classifier"
      ],
      "metadata": {
        "id": "FzrhAN1HckR5"
      }
    },
    {
      "cell_type": "code",
      "source": [
        "none_mlp_model = MLPClassifier(random_state=0)\n",
        "none_mlp_model.fit(none_tfidfv_train, none_y_train)\n",
        "none_mlp_predicted = none_mlp_model.predict(none_tfidfv_test) \n",
        "none_mlp_accuracy = accuracy_score(none_y_test, none_mlp_predicted)\n",
        "print(\"accuracy :\", none_mlp_accuracy) "
      ],
      "metadata": {
        "id": "Kl-zV-2wwnO0",
        "colab": {
          "base_uri": "https://localhost:8080/"
        },
        "outputId": "67f6d02a-728e-45c3-bc8d-0cddfad994b0"
      },
      "execution_count": null,
      "outputs": [
        {
          "output_type": "stream",
          "name": "stdout",
          "text": [
            "accuracy : 0.8058771148708815\n"
          ]
        }
      ]
    },
    {
      "cell_type": "markdown",
      "source": [
        "num_words=None일 때, MLP Classifier 모델의 성능 'accuracy'는 80.59%이다."
      ],
      "metadata": {
        "id": "svNu6WXwD9Z6"
      }
    },
    {
      "cell_type": "markdown",
      "source": [
        "<br/>"
      ],
      "metadata": {
        "id": "X1moi9AQv0vz"
      }
    },
    {
      "cell_type": "code",
      "source": [
        "ten_mlp_model = MLPClassifier(random_state=0)\n",
        "ten_mlp_model.fit(ten_tfidfv_train, ten_y_train)\n",
        "ten_mlp_predicted = ten_mlp_model.predict(ten_tfidfv_test) \n",
        "ten_mlp_accuracy = accuracy_score(ten_y_test, ten_mlp_predicted)\n",
        "print(\"accuracy :\", ten_mlp_accuracy) "
      ],
      "metadata": {
        "id": "S9L3IWGX2vfX",
        "colab": {
          "base_uri": "https://localhost:8080/"
        },
        "outputId": "0d5cdd7b-af1b-46fb-a990-5c7237e0479a"
      },
      "execution_count": null,
      "outputs": [
        {
          "output_type": "stream",
          "name": "stdout",
          "text": [
            "accuracy : 0.8098842386464826\n"
          ]
        }
      ]
    },
    {
      "cell_type": "markdown",
      "source": [
        "num_words=10000일 때, MLP Classifier 모델의 성능 'accuracy'는 80.99%이다."
      ],
      "metadata": {
        "id": "ASeGB4qWD-1I"
      }
    },
    {
      "cell_type": "markdown",
      "source": [
        "<br/>"
      ],
      "metadata": {
        "id": "4Ik0qByKvzfU"
      }
    },
    {
      "cell_type": "code",
      "source": [
        "five_mlp_model = MLPClassifier(random_state=0)\n",
        "five_mlp_model.fit(five_tfidfv_train, five_y_train)\n",
        "five_mlp_predicted = five_mlp_model.predict(five_tfidfv_test) \n",
        "five_mlp_accuracy = accuracy_score(five_y_test, five_mlp_predicted)\n",
        "print(\"accuracy :\", five_mlp_accuracy) "
      ],
      "metadata": {
        "id": "gi8wM9yw2vmi",
        "colab": {
          "base_uri": "https://localhost:8080/"
        },
        "outputId": "59bee40f-7dbf-484d-a58e-7a542974b8bd"
      },
      "execution_count": null,
      "outputs": [
        {
          "output_type": "stream",
          "name": "stdout",
          "text": [
            "accuracy : 0.8063223508459484\n"
          ]
        }
      ]
    },
    {
      "cell_type": "markdown",
      "source": [
        "num_words=5000일 때, MLP Classifier 모델의 성능 'accuracy'는 80.63%이다."
      ],
      "metadata": {
        "id": "goknBAeeEAOR"
      }
    },
    {
      "cell_type": "markdown",
      "source": [
        "<br/>"
      ],
      "metadata": {
        "id": "DRK2ARbBvySb"
      }
    },
    {
      "cell_type": "code",
      "source": [
        "one_mlp_model = MLPClassifier(random_state=0)\n",
        "one_mlp_model.fit(one_tfidfv_train, one_y_train)\n",
        "one_mlp_predicted = one_mlp_model.predict(one_tfidfv_test) \n",
        "one_mlp_accuracy = accuracy_score(one_y_test, one_mlp_predicted)\n",
        "print(\"accuracy :\", one_mlp_accuracy) "
      ],
      "metadata": {
        "id": "Yh7_fyzh2vte",
        "colab": {
          "base_uri": "https://localhost:8080/"
        },
        "outputId": "d51173fc-05a2-4e21-830d-aa55125ea0dc"
      },
      "execution_count": null,
      "outputs": [
        {
          "output_type": "stream",
          "name": "stdout",
          "text": [
            "accuracy : 0.8063223508459484\n"
          ]
        }
      ]
    },
    {
      "cell_type": "markdown",
      "source": [
        "num_words=1000일 때, MLP Classifier 모델의 성능 'accuracy'는 80.63%이다."
      ],
      "metadata": {
        "id": "UiBMrXlGEBt6"
      }
    },
    {
      "cell_type": "markdown",
      "source": [
        "<br/>"
      ],
      "metadata": {
        "id": "gaKyay_Ovw6F"
      }
    },
    {
      "cell_type": "code",
      "source": [
        "mlp_model_comparison = [round(none_mlp_accuracy, 4), round(ten_mlp_accuracy, 4),\n",
        "                        round(five_mlp_accuracy, 4), round(one_mlp_accuracy, 4)]\n",
        "\n",
        "mlp_model_name = ['mlp_none', 'mlp_10000', 'mlp_5000', 'mlp_1000']\n",
        "\n",
        "mlp_df = pd.DataFrame({\"Model\": mlp_model_name,\n",
        "                  \"Accuracy\":mlp_model_comparison})\n",
        "mlp_df_sorted = mlp_df.sort_values('Accuracy',ascending=False)\n",
        "mlp_df_sorted"
      ],
      "metadata": {
        "id": "mq4oqamPWlFl",
        "colab": {
          "base_uri": "https://localhost:8080/",
          "height": 175
        },
        "outputId": "4a4fd458-20ba-4c02-c6c8-d3d26e264f17"
      },
      "execution_count": null,
      "outputs": [
        {
          "output_type": "execute_result",
          "data": {
            "text/plain": [
              "       Model  Accuracy\n",
              "1  mlp_10000    0.8099\n",
              "2   mlp_5000    0.8063\n",
              "3   mlp_1000    0.8063\n",
              "0   mlp_none    0.8059"
            ],
            "text/html": [
              "\n",
              "  <div id=\"df-53fe1a39-aae2-41e7-b168-b7ecded20f4e\">\n",
              "    <div class=\"colab-df-container\">\n",
              "      <div>\n",
              "<style scoped>\n",
              "    .dataframe tbody tr th:only-of-type {\n",
              "        vertical-align: middle;\n",
              "    }\n",
              "\n",
              "    .dataframe tbody tr th {\n",
              "        vertical-align: top;\n",
              "    }\n",
              "\n",
              "    .dataframe thead th {\n",
              "        text-align: right;\n",
              "    }\n",
              "</style>\n",
              "<table border=\"1\" class=\"dataframe\">\n",
              "  <thead>\n",
              "    <tr style=\"text-align: right;\">\n",
              "      <th></th>\n",
              "      <th>Model</th>\n",
              "      <th>Accuracy</th>\n",
              "    </tr>\n",
              "  </thead>\n",
              "  <tbody>\n",
              "    <tr>\n",
              "      <th>1</th>\n",
              "      <td>mlp_10000</td>\n",
              "      <td>0.8099</td>\n",
              "    </tr>\n",
              "    <tr>\n",
              "      <th>2</th>\n",
              "      <td>mlp_5000</td>\n",
              "      <td>0.8063</td>\n",
              "    </tr>\n",
              "    <tr>\n",
              "      <th>3</th>\n",
              "      <td>mlp_1000</td>\n",
              "      <td>0.8063</td>\n",
              "    </tr>\n",
              "    <tr>\n",
              "      <th>0</th>\n",
              "      <td>mlp_none</td>\n",
              "      <td>0.8059</td>\n",
              "    </tr>\n",
              "  </tbody>\n",
              "</table>\n",
              "</div>\n",
              "      <button class=\"colab-df-convert\" onclick=\"convertToInteractive('df-53fe1a39-aae2-41e7-b168-b7ecded20f4e')\"\n",
              "              title=\"Convert this dataframe to an interactive table.\"\n",
              "              style=\"display:none;\">\n",
              "        \n",
              "  <svg xmlns=\"http://www.w3.org/2000/svg\" height=\"24px\"viewBox=\"0 0 24 24\"\n",
              "       width=\"24px\">\n",
              "    <path d=\"M0 0h24v24H0V0z\" fill=\"none\"/>\n",
              "    <path d=\"M18.56 5.44l.94 2.06.94-2.06 2.06-.94-2.06-.94-.94-2.06-.94 2.06-2.06.94zm-11 1L8.5 8.5l.94-2.06 2.06-.94-2.06-.94L8.5 2.5l-.94 2.06-2.06.94zm10 10l.94 2.06.94-2.06 2.06-.94-2.06-.94-.94-2.06-.94 2.06-2.06.94z\"/><path d=\"M17.41 7.96l-1.37-1.37c-.4-.4-.92-.59-1.43-.59-.52 0-1.04.2-1.43.59L10.3 9.45l-7.72 7.72c-.78.78-.78 2.05 0 2.83L4 21.41c.39.39.9.59 1.41.59.51 0 1.02-.2 1.41-.59l7.78-7.78 2.81-2.81c.8-.78.8-2.07 0-2.86zM5.41 20L4 18.59l7.72-7.72 1.47 1.35L5.41 20z\"/>\n",
              "  </svg>\n",
              "      </button>\n",
              "      \n",
              "  <style>\n",
              "    .colab-df-container {\n",
              "      display:flex;\n",
              "      flex-wrap:wrap;\n",
              "      gap: 12px;\n",
              "    }\n",
              "\n",
              "    .colab-df-convert {\n",
              "      background-color: #E8F0FE;\n",
              "      border: none;\n",
              "      border-radius: 50%;\n",
              "      cursor: pointer;\n",
              "      display: none;\n",
              "      fill: #1967D2;\n",
              "      height: 32px;\n",
              "      padding: 0 0 0 0;\n",
              "      width: 32px;\n",
              "    }\n",
              "\n",
              "    .colab-df-convert:hover {\n",
              "      background-color: #E2EBFA;\n",
              "      box-shadow: 0px 1px 2px rgba(60, 64, 67, 0.3), 0px 1px 3px 1px rgba(60, 64, 67, 0.15);\n",
              "      fill: #174EA6;\n",
              "    }\n",
              "\n",
              "    [theme=dark] .colab-df-convert {\n",
              "      background-color: #3B4455;\n",
              "      fill: #D2E3FC;\n",
              "    }\n",
              "\n",
              "    [theme=dark] .colab-df-convert:hover {\n",
              "      background-color: #434B5C;\n",
              "      box-shadow: 0px 1px 3px 1px rgba(0, 0, 0, 0.15);\n",
              "      filter: drop-shadow(0px 1px 2px rgba(0, 0, 0, 0.3));\n",
              "      fill: #FFFFFF;\n",
              "    }\n",
              "  </style>\n",
              "\n",
              "      <script>\n",
              "        const buttonEl =\n",
              "          document.querySelector('#df-53fe1a39-aae2-41e7-b168-b7ecded20f4e button.colab-df-convert');\n",
              "        buttonEl.style.display =\n",
              "          google.colab.kernel.accessAllowed ? 'block' : 'none';\n",
              "\n",
              "        async function convertToInteractive(key) {\n",
              "          const element = document.querySelector('#df-53fe1a39-aae2-41e7-b168-b7ecded20f4e');\n",
              "          const dataTable =\n",
              "            await google.colab.kernel.invokeFunction('convertToInteractive',\n",
              "                                                     [key], {});\n",
              "          if (!dataTable) return;\n",
              "\n",
              "          const docLinkHtml = 'Like what you see? Visit the ' +\n",
              "            '<a target=\"_blank\" href=https://colab.research.google.com/notebooks/data_table.ipynb>data table notebook</a>'\n",
              "            + ' to learn more about interactive tables.';\n",
              "          element.innerHTML = '';\n",
              "          dataTable['output_type'] = 'display_data';\n",
              "          await google.colab.output.renderOutput(dataTable, element);\n",
              "          const docLink = document.createElement('div');\n",
              "          docLink.innerHTML = docLinkHtml;\n",
              "          element.appendChild(docLink);\n",
              "        }\n",
              "      </script>\n",
              "    </div>\n",
              "  </div>\n",
              "  "
            ]
          },
          "metadata": {},
          "execution_count": 65
        }
      ]
    },
    {
      "cell_type": "markdown",
      "source": [
        "MLP Classifier 모델의 성능은 num_words에 큰 영향을 받지 않는다."
      ],
      "metadata": {
        "id": "RTJKqETfwne8"
      }
    },
    {
      "cell_type": "markdown",
      "source": [
        "<br/>"
      ],
      "metadata": {
        "id": "4_maYE6svvj5"
      }
    },
    {
      "cell_type": "markdown",
      "source": [
        "#Dummy Classifier"
      ],
      "metadata": {
        "id": "tUQUw8zHdrpo"
      }
    },
    {
      "cell_type": "code",
      "source": [
        "none_dummy_model = DummyClassifier(strategy='prior', random_state=0)\n",
        "none_dummy_model.fit(none_tfidfv_train, none_y_train)\n",
        "none_dummy_predicted = none_dummy_model.predict(none_tfidfv_test) \n",
        "none_dummy_accuracy = accuracy_score(none_y_test, none_dummy_predicted)\n",
        "print(\"accuracy :\", none_dummy_accuracy)  "
      ],
      "metadata": {
        "id": "VIY795OuwsgT",
        "colab": {
          "base_uri": "https://localhost:8080/"
        },
        "outputId": "b444781e-6521-4654-d08e-a949c81eab2c"
      },
      "execution_count": null,
      "outputs": [
        {
          "output_type": "stream",
          "name": "stdout",
          "text": [
            "accuracy : 0.3619768477292965\n"
          ]
        }
      ]
    },
    {
      "cell_type": "markdown",
      "source": [
        "num_words=None일 때, Dummy Classifier 모델의 성능 'accuracy'는 36.20%이다."
      ],
      "metadata": {
        "id": "_ipa7NQ4Eofe"
      }
    },
    {
      "cell_type": "markdown",
      "source": [
        "<br/>"
      ],
      "metadata": {
        "id": "4ExwsL7BvtNz"
      }
    },
    {
      "cell_type": "code",
      "source": [
        "ten_dummy_model = DummyClassifier(strategy='prior', random_state=0)\n",
        "ten_dummy_model.fit(ten_tfidfv_train, ten_y_train)\n",
        "ten_dummy_predicted = ten_dummy_model.predict(ten_tfidfv_test) \n",
        "ten_dummy_accuracy = accuracy_score(ten_y_test, ten_dummy_predicted)\n",
        "print(\"accuracy :\", ten_dummy_accuracy) "
      ],
      "metadata": {
        "id": "ySgbgvzw3zYG",
        "colab": {
          "base_uri": "https://localhost:8080/"
        },
        "outputId": "eaddd4bd-67f5-4b05-abe6-a9ff1552ca81"
      },
      "execution_count": null,
      "outputs": [
        {
          "output_type": "stream",
          "name": "stdout",
          "text": [
            "accuracy : 0.3619768477292965\n"
          ]
        }
      ]
    },
    {
      "cell_type": "markdown",
      "source": [
        "num_words=10000일 때, Dummy Classifierr 모델의 성능 'accuracy'는 36.20%이다."
      ],
      "metadata": {
        "id": "eGsVK6qIEqOV"
      }
    },
    {
      "cell_type": "markdown",
      "source": [
        "<br/>"
      ],
      "metadata": {
        "id": "WigXlk3qvr_O"
      }
    },
    {
      "cell_type": "code",
      "source": [
        "five_dummy_model = DummyClassifier(strategy='prior',  random_state=0)\n",
        "five_dummy_model.fit(five_tfidfv_train, five_y_train)\n",
        "five_dummy_predicted = five_dummy_model.predict(five_tfidfv_test) \n",
        "five_dummy_accuracy = accuracy_score(five_y_test, five_dummy_predicted)\n",
        "print(\"accuracy :\", five_dummy_accuracy) "
      ],
      "metadata": {
        "id": "I6kAu8wE3zgY",
        "colab": {
          "base_uri": "https://localhost:8080/"
        },
        "outputId": "f1fbd504-57fa-4b5e-b77f-715d3a1251af"
      },
      "execution_count": null,
      "outputs": [
        {
          "output_type": "stream",
          "name": "stdout",
          "text": [
            "accuracy : 0.3619768477292965\n"
          ]
        }
      ]
    },
    {
      "cell_type": "markdown",
      "source": [
        "num_words=5000일 때, Dummy Classifier 모델의 성능 'accuracy'는 36.20%이다."
      ],
      "metadata": {
        "id": "E_N-BbkWErlb"
      }
    },
    {
      "cell_type": "markdown",
      "source": [
        "<br/>"
      ],
      "metadata": {
        "id": "GKRQtySpvqt-"
      }
    },
    {
      "cell_type": "code",
      "source": [
        "one_dummy_model = DummyClassifier(strategy='prior', random_state=0)\n",
        "one_dummy_model.fit(one_tfidfv_train, one_y_train)\n",
        "one_dummy_predicted = one_dummy_model.predict(one_tfidfv_test) \n",
        "one_dummy_accuracy = accuracy_score(one_y_test, one_dummy_predicted)\n",
        "print(\"accuracy :\", one_dummy_accuracy) "
      ],
      "metadata": {
        "id": "thqT63Wm32qI",
        "colab": {
          "base_uri": "https://localhost:8080/"
        },
        "outputId": "6e7b635f-32f5-43ad-946a-988fa7b299f6"
      },
      "execution_count": null,
      "outputs": [
        {
          "output_type": "stream",
          "name": "stdout",
          "text": [
            "accuracy : 0.3619768477292965\n"
          ]
        }
      ]
    },
    {
      "cell_type": "markdown",
      "source": [
        "num_words=1000일 때, Dummy Classifier 모델의 성능 'accuracy'는 36.20%이다.\n"
      ],
      "metadata": {
        "id": "thvNTAYaEtBu"
      }
    },
    {
      "cell_type": "markdown",
      "source": [
        "<br/>"
      ],
      "metadata": {
        "id": "WEno7utLvpHD"
      }
    },
    {
      "cell_type": "code",
      "source": [
        "dummy_model_comparison = [round(none_dummy_accuracy, 4), round(ten_dummy_accuracy, 4),\n",
        "                        round(five_dummy_accuracy, 4), round(one_dummy_accuracy, 4)]\n",
        "\n",
        "dummy_model_name = ['dummy_none', 'dummy_10000', 'dummy_5000', 'dummy_1000']\n",
        "\n",
        "dummy_df = pd.DataFrame({\"Model\": dummy_model_name,\n",
        "                  \"Accuracy\":dummy_model_comparison})\n",
        "dummy_df_sorted = dummy_df.sort_values('Accuracy',ascending=False)\n",
        "dummy_df_sorted"
      ],
      "metadata": {
        "id": "vs0uOOJAWnIe",
        "colab": {
          "base_uri": "https://localhost:8080/",
          "height": 175
        },
        "outputId": "1d7aa41a-5913-4eb1-87dc-7b9563820de1"
      },
      "execution_count": null,
      "outputs": [
        {
          "output_type": "execute_result",
          "data": {
            "text/plain": [
              "         Model  Accuracy\n",
              "0   dummy_none     0.362\n",
              "1  dummy_10000     0.362\n",
              "2   dummy_5000     0.362\n",
              "3   dummy_1000     0.362"
            ],
            "text/html": [
              "\n",
              "  <div id=\"df-aa76ce00-5bba-4401-aa8b-584cd958d1f7\">\n",
              "    <div class=\"colab-df-container\">\n",
              "      <div>\n",
              "<style scoped>\n",
              "    .dataframe tbody tr th:only-of-type {\n",
              "        vertical-align: middle;\n",
              "    }\n",
              "\n",
              "    .dataframe tbody tr th {\n",
              "        vertical-align: top;\n",
              "    }\n",
              "\n",
              "    .dataframe thead th {\n",
              "        text-align: right;\n",
              "    }\n",
              "</style>\n",
              "<table border=\"1\" class=\"dataframe\">\n",
              "  <thead>\n",
              "    <tr style=\"text-align: right;\">\n",
              "      <th></th>\n",
              "      <th>Model</th>\n",
              "      <th>Accuracy</th>\n",
              "    </tr>\n",
              "  </thead>\n",
              "  <tbody>\n",
              "    <tr>\n",
              "      <th>0</th>\n",
              "      <td>dummy_none</td>\n",
              "      <td>0.362</td>\n",
              "    </tr>\n",
              "    <tr>\n",
              "      <th>1</th>\n",
              "      <td>dummy_10000</td>\n",
              "      <td>0.362</td>\n",
              "    </tr>\n",
              "    <tr>\n",
              "      <th>2</th>\n",
              "      <td>dummy_5000</td>\n",
              "      <td>0.362</td>\n",
              "    </tr>\n",
              "    <tr>\n",
              "      <th>3</th>\n",
              "      <td>dummy_1000</td>\n",
              "      <td>0.362</td>\n",
              "    </tr>\n",
              "  </tbody>\n",
              "</table>\n",
              "</div>\n",
              "      <button class=\"colab-df-convert\" onclick=\"convertToInteractive('df-aa76ce00-5bba-4401-aa8b-584cd958d1f7')\"\n",
              "              title=\"Convert this dataframe to an interactive table.\"\n",
              "              style=\"display:none;\">\n",
              "        \n",
              "  <svg xmlns=\"http://www.w3.org/2000/svg\" height=\"24px\"viewBox=\"0 0 24 24\"\n",
              "       width=\"24px\">\n",
              "    <path d=\"M0 0h24v24H0V0z\" fill=\"none\"/>\n",
              "    <path d=\"M18.56 5.44l.94 2.06.94-2.06 2.06-.94-2.06-.94-.94-2.06-.94 2.06-2.06.94zm-11 1L8.5 8.5l.94-2.06 2.06-.94-2.06-.94L8.5 2.5l-.94 2.06-2.06.94zm10 10l.94 2.06.94-2.06 2.06-.94-2.06-.94-.94-2.06-.94 2.06-2.06.94z\"/><path d=\"M17.41 7.96l-1.37-1.37c-.4-.4-.92-.59-1.43-.59-.52 0-1.04.2-1.43.59L10.3 9.45l-7.72 7.72c-.78.78-.78 2.05 0 2.83L4 21.41c.39.39.9.59 1.41.59.51 0 1.02-.2 1.41-.59l7.78-7.78 2.81-2.81c.8-.78.8-2.07 0-2.86zM5.41 20L4 18.59l7.72-7.72 1.47 1.35L5.41 20z\"/>\n",
              "  </svg>\n",
              "      </button>\n",
              "      \n",
              "  <style>\n",
              "    .colab-df-container {\n",
              "      display:flex;\n",
              "      flex-wrap:wrap;\n",
              "      gap: 12px;\n",
              "    }\n",
              "\n",
              "    .colab-df-convert {\n",
              "      background-color: #E8F0FE;\n",
              "      border: none;\n",
              "      border-radius: 50%;\n",
              "      cursor: pointer;\n",
              "      display: none;\n",
              "      fill: #1967D2;\n",
              "      height: 32px;\n",
              "      padding: 0 0 0 0;\n",
              "      width: 32px;\n",
              "    }\n",
              "\n",
              "    .colab-df-convert:hover {\n",
              "      background-color: #E2EBFA;\n",
              "      box-shadow: 0px 1px 2px rgba(60, 64, 67, 0.3), 0px 1px 3px 1px rgba(60, 64, 67, 0.15);\n",
              "      fill: #174EA6;\n",
              "    }\n",
              "\n",
              "    [theme=dark] .colab-df-convert {\n",
              "      background-color: #3B4455;\n",
              "      fill: #D2E3FC;\n",
              "    }\n",
              "\n",
              "    [theme=dark] .colab-df-convert:hover {\n",
              "      background-color: #434B5C;\n",
              "      box-shadow: 0px 1px 3px 1px rgba(0, 0, 0, 0.15);\n",
              "      filter: drop-shadow(0px 1px 2px rgba(0, 0, 0, 0.3));\n",
              "      fill: #FFFFFF;\n",
              "    }\n",
              "  </style>\n",
              "\n",
              "      <script>\n",
              "        const buttonEl =\n",
              "          document.querySelector('#df-aa76ce00-5bba-4401-aa8b-584cd958d1f7 button.colab-df-convert');\n",
              "        buttonEl.style.display =\n",
              "          google.colab.kernel.accessAllowed ? 'block' : 'none';\n",
              "\n",
              "        async function convertToInteractive(key) {\n",
              "          const element = document.querySelector('#df-aa76ce00-5bba-4401-aa8b-584cd958d1f7');\n",
              "          const dataTable =\n",
              "            await google.colab.kernel.invokeFunction('convertToInteractive',\n",
              "                                                     [key], {});\n",
              "          if (!dataTable) return;\n",
              "\n",
              "          const docLinkHtml = 'Like what you see? Visit the ' +\n",
              "            '<a target=\"_blank\" href=https://colab.research.google.com/notebooks/data_table.ipynb>data table notebook</a>'\n",
              "            + ' to learn more about interactive tables.';\n",
              "          element.innerHTML = '';\n",
              "          dataTable['output_type'] = 'display_data';\n",
              "          await google.colab.output.renderOutput(dataTable, element);\n",
              "          const docLink = document.createElement('div');\n",
              "          docLink.innerHTML = docLinkHtml;\n",
              "          element.appendChild(docLink);\n",
              "        }\n",
              "      </script>\n",
              "    </div>\n",
              "  </div>\n",
              "  "
            ]
          },
          "metadata": {},
          "execution_count": 54
        }
      ]
    },
    {
      "cell_type": "markdown",
      "source": [
        "Dummy Classifier 모델의 성능은 num_words에 큰 영향을 받지 않는다.<br/>"
      ],
      "metadata": {
        "id": "wiugyeEazToL"
      }
    },
    {
      "cell_type": "markdown",
      "source": [
        "<br/>"
      ],
      "metadata": {
        "id": "IXS_hcVKyaiG"
      }
    },
    {
      "cell_type": "markdown",
      "source": [
        "#Deep Learning"
      ],
      "metadata": {
        "id": "WGVkgYW1vYKI"
      }
    },
    {
      "cell_type": "markdown",
      "source": [
        "##DNN"
      ],
      "metadata": {
        "id": "aH8VXhYpxFf_"
      }
    },
    {
      "cell_type": "code",
      "source": [
        "max_words = 26506\n",
        "num_classes = 46\n",
        "\n",
        "model = Sequential()\n",
        "model.add(Dense(512, input_shape=(max_words,)))\n",
        "model.add(Activation('relu'))\n",
        "model.add(Dropout(0.5))\n",
        "model.add(Dense(num_classes))\n",
        "model.add(Activation('softmax'))\n",
        "model.summary()"
      ],
      "metadata": {
        "colab": {
          "base_uri": "https://localhost:8080/"
        },
        "id": "r7m5idx7Qz56",
        "outputId": "4a448cbe-e31f-4857-c248-40728e8be5bb"
      },
      "execution_count": null,
      "outputs": [
        {
          "output_type": "stream",
          "name": "stdout",
          "text": [
            "Model: \"sequential_16\"\n",
            "_________________________________________________________________\n",
            " Layer (type)                Output Shape              Param #   \n",
            "=================================================================\n",
            " dense_30 (Dense)            (None, 512)               13571584  \n",
            "                                                                 \n",
            " activation_2 (Activation)   (None, 512)               0         \n",
            "                                                                 \n",
            " dropout_29 (Dropout)        (None, 512)               0         \n",
            "                                                                 \n",
            " dense_31 (Dense)            (None, 46)                23598     \n",
            "                                                                 \n",
            " activation_3 (Activation)   (None, 46)                0         \n",
            "                                                                 \n",
            "=================================================================\n",
            "Total params: 13,595,182\n",
            "Trainable params: 13,595,182\n",
            "Non-trainable params: 0\n",
            "_________________________________________________________________\n"
          ]
        }
      ]
    },
    {
      "cell_type": "markdown",
      "source": [
        "<br/><br/>"
      ],
      "metadata": {
        "id": "Yh4adXZJuwFD"
      }
    },
    {
      "cell_type": "markdown",
      "source": [
        "\n",
        "\n",
        "```\n",
        "tfidfv_train_arr = tfidfv_train.toarray()\n",
        "tfidfv_test_arr = tfidfv_test.toarray()\n",
        "y_train_catetory = keras.utils.to_categorical(y_train, num_classes)\n",
        "y_test_catetory = keras.utils.to_categorical(y_test, num_classes)\n",
        "```\n",
        "\n"
      ],
      "metadata": {
        "id": "x4l9d4wAstYH"
      }
    },
    {
      "cell_type": "markdown",
      "source": [
        ""
      ],
      "metadata": {
        "id": "FaUhxlu22q1h"
      }
    },
    {
      "cell_type": "markdown",
      "source": [
        "DNN 모델에 사용한 데이터의 형태는 Dense Array(X, Feature) 와 Multiclass Matrix(Y, Target)이다.\n",
        "<br/>csr_matrix.toarray는 TF-IDF Matrix(CSR Matrix)를 Dense Array로 변환한다.\n",
        "<br/>utils.to_categorical는 Integer Vector를 Binary Class Matrix로 변환한다."
      ],
      "metadata": {
        "id": "uE03fAbnsyG2"
      }
    },
    {
      "cell_type": "markdown",
      "source": [
        "<br/><br/>"
      ],
      "metadata": {
        "id": "TEHrUsf9uzAq"
      }
    },
    {
      "cell_type": "code",
      "source": [
        "max_words = 26506\n",
        "num_classes = 46\n",
        "\n",
        "none_tfidfv_train_arr = none_tfidfv_train.toarray()\n",
        "none_tfidfv_test_arr = none_tfidfv_test.toarray()\n",
        "none_y_train_catetory = keras.utils.to_categorical(none_y_train, num_classes)\n",
        "none_y_test_catetory = keras.utils.to_categorical(none_y_test, num_classes)\n",
        "\n",
        "with tf.device('/device:GPU:0'):\n",
        "  model = Sequential()\n",
        "  model.add(Dense(512, input_shape=(max_words,)))\n",
        "  model.add(Activation('relu'))\n",
        "  model.add(Dropout(0.5))\n",
        "  model.add(Dense(num_classes))\n",
        "  model.add(Activation('softmax'))\n",
        "  model.compile(loss='categorical_crossentropy', optimizer='adam', metrics=['accuracy'])\n",
        "\n",
        "  ['loss', 'acc']\n",
        "\n",
        "  batch_size = 32\n",
        "  epochs = 3\n",
        "  \n",
        "  history = model.fit(none_tfidfv_train_arr, none_y_train_catetory, batch_size=batch_size, epochs=epochs, verbose=1, validation_split=0.1)\n",
        "  none_dnn_score = model.evaluate(none_tfidfv_test_arr, none_y_test_catetory, batch_size=batch_size, verbose=1)\n",
        "\n",
        "  print()\n",
        "  print('Test loss:', none_dnn_score[0])\n",
        "  print('Test accuracy:', none_dnn_score[1])"
      ],
      "metadata": {
        "colab": {
          "base_uri": "https://localhost:8080/"
        },
        "id": "qdbaN6s_Xzck",
        "outputId": "271886f5-a79a-47a4-b34f-6826238cfb4e"
      },
      "execution_count": null,
      "outputs": [
        {
          "output_type": "stream",
          "name": "stdout",
          "text": [
            "Epoch 1/3\n",
            "253/253 [==============================] - 2s 7ms/step - loss: 1.7183 - accuracy: 0.6410 - val_loss: 1.1595 - val_accuracy: 0.7419\n",
            "Epoch 2/3\n",
            "253/253 [==============================] - 2s 6ms/step - loss: 0.7998 - accuracy: 0.8261 - val_loss: 0.9019 - val_accuracy: 0.8042\n",
            "Epoch 3/3\n",
            "253/253 [==============================] - 2s 6ms/step - loss: 0.4672 - accuracy: 0.8968 - val_loss: 0.7986 - val_accuracy: 0.8265\n",
            "71/71 [==============================] - 0s 3ms/step - loss: 0.7672 - accuracy: 0.8161\n",
            "\n",
            "Test loss: 0.7671837210655212\n",
            "Test accuracy: 0.816117525100708\n"
          ]
        }
      ]
    },
    {
      "cell_type": "markdown",
      "source": [
        "num_words=None일 때, DNN  모델의 성능 'accuracy'는 81.61%이다."
      ],
      "metadata": {
        "id": "Fkp7kc7GFPgc"
      }
    },
    {
      "cell_type": "code",
      "source": [
        "plt.figure(figsize=(6, 6))\n",
        "plt.plot(history.history['accuracy'])\n",
        "plt.plot(history.history['val_accuracy'])\n",
        "plt.title('Model accuracy')\n",
        "plt.xlabel('Epoch')\n",
        "plt.ylabel('Accuracy')\n",
        "plt.legend(['Train', 'Test'], loc='upper left')\n",
        "plt.show()\n",
        "\n",
        "print()\n",
        "plt.plot(history.history['loss'])\n",
        "plt.plot(history.history['val_loss'])\n",
        "plt.title('Model loss')\n",
        "plt.xlabel('Epoch')\n",
        "plt.ylabel('Loss')\n",
        "plt.legend(['Train', 'Test'], loc='upper left')\n",
        "plt.show()"
      ],
      "metadata": {
        "id": "xKNJWLiE-zR3",
        "colab": {
          "base_uri": "https://localhost:8080/",
          "height": 700
        },
        "outputId": "35f03ac1-b331-4fc7-ce9e-a9dc5470c21f"
      },
      "execution_count": null,
      "outputs": [
        {
          "output_type": "display_data",
          "data": {
            "text/plain": [
              "<Figure size 432x432 with 1 Axes>"
            ],
            "image/png": "[encoded data removed]"
          },
          "metadata": {
            "needs_background": "light"
          }
        },
        {
          "output_type": "stream",
          "name": "stdout",
          "text": [
            "\n"
          ]
        },
        {
          "output_type": "display_data",
          "data": {
            "text/plain": [
              "<Figure size 432x288 with 1 Axes>"
            ],
            "image/png": "[encoded data removed]"
          },
          "metadata": {
            "needs_background": "light"
          }
        }
      ]
    },
    {
      "cell_type": "markdown",
      "source": [
        "<br/>"
      ],
      "metadata": {
        "id": "sHsV6cPDyZMF"
      }
    },
    {
      "cell_type": "code",
      "source": [
        "max_words = 9670\n",
        "num_classes = 46\n",
        "\n",
        "ten_tfidfv_train_arr = ten_tfidfv_train.toarray()\n",
        "ten_tfidfv_test_arr = ten_tfidfv_test.toarray()\n",
        "ten_y_train_catetory = keras.utils.to_categorical(ten_y_train, num_classes)\n",
        "ten_y_test_catetory = keras.utils.to_categorical(ten_y_test, num_classes)\n",
        "\n",
        "with tf.device('/device:GPU:0'):\n",
        "  model = Sequential()\n",
        "  model.add(Dense(512, input_shape=(max_words,)))\n",
        "  model.add(Activation('relu'))\n",
        "  model.add(Dropout(0.5))\n",
        "  model.add(Dense(num_classes))\n",
        "  model.add(Activation('softmax'))\n",
        "  model.compile(loss='categorical_crossentropy', optimizer='adam', metrics=['accuracy'])\n",
        "\n",
        "  ['loss', 'acc']\n",
        "\n",
        "  batch_size = 32\n",
        "  epochs = 3\n",
        "  \n",
        "  history = model.fit(ten_tfidfv_train_arr, ten_y_train_catetory, batch_size=batch_size, epochs=epochs, verbose=1, validation_split=0.1)\n",
        "  ten_dnn_score = model.evaluate(ten_tfidfv_test_arr, ten_y_test_catetory, batch_size=batch_size, verbose=1)\n",
        "\n",
        "  print()\n",
        "  print('Test loss:', ten_dnn_score[0])\n",
        "  print('Test accuracy:', ten_dnn_score[1])"
      ],
      "metadata": {
        "id": "pt90QCVR9atI",
        "colab": {
          "base_uri": "https://localhost:8080/"
        },
        "outputId": "7b1f8cc9-fdf6-4ba6-8c86-0318fbd41185"
      },
      "execution_count": null,
      "outputs": [
        {
          "output_type": "stream",
          "name": "stdout",
          "text": [
            "Epoch 1/3\n",
            "253/253 [==============================] - 1s 5ms/step - loss: 1.6819 - accuracy: 0.6426 - val_loss: 1.1365 - val_accuracy: 0.7430\n",
            "Epoch 2/3\n",
            "253/253 [==============================] - 1s 4ms/step - loss: 0.8068 - accuracy: 0.8173 - val_loss: 0.8799 - val_accuracy: 0.8065\n",
            "Epoch 3/3\n",
            "253/253 [==============================] - 1s 4ms/step - loss: 0.5032 - accuracy: 0.8880 - val_loss: 0.7698 - val_accuracy: 0.8387\n",
            "71/71 [==============================] - 0s 3ms/step - loss: 0.7549 - accuracy: 0.8143\n",
            "\n",
            "Test loss: 0.7549293041229248\n",
            "Test accuracy: 0.8143365979194641\n"
          ]
        }
      ]
    },
    {
      "cell_type": "markdown",
      "source": [
        "num_words=10000일 때, DNN  모델의 성능 'accuracy'는 81.43%이다."
      ],
      "metadata": {
        "id": "Fd32q9FTFRab"
      }
    },
    {
      "cell_type": "code",
      "source": [
        "plt.figure(figsize=(6, 6))\n",
        "plt.plot(history.history['accuracy'])\n",
        "plt.plot(history.history['val_accuracy'])\n",
        "plt.title('Model accuracy')\n",
        "plt.xlabel('Epoch')\n",
        "plt.ylabel('Accuracy')\n",
        "plt.legend(['Train', 'Test'], loc='upper left')\n",
        "plt.show()\n",
        "\n",
        "print()\n",
        "plt.plot(history.history['loss'])\n",
        "plt.plot(history.history['val_loss'])\n",
        "plt.title('Model loss')\n",
        "plt.xlabel('Epoch')\n",
        "plt.ylabel('Loss')\n",
        "plt.legend(['Train', 'Test'], loc='upper left')\n",
        "plt.show()"
      ],
      "metadata": {
        "id": "OdTXW0jH-1JI",
        "colab": {
          "base_uri": "https://localhost:8080/",
          "height": 700
        },
        "outputId": "97ebd6bb-b302-4182-f977-eeb5b5256d71"
      },
      "execution_count": null,
      "outputs": [
        {
          "output_type": "display_data",
          "data": {
            "text/plain": [
              "<Figure size 432x432 with 1 Axes>"
            ],
            "image/png": "[encoded data removed]"
          },
          "metadata": {
            "needs_background": "light"
          }
        },
        {
          "output_type": "stream",
          "name": "stdout",
          "text": [
            "\n"
          ]
        },
        {
          "output_type": "display_data",
          "data": {
            "text/plain": [
              "<Figure size 432x288 with 1 Axes>"
            ],
            "image/png": "[encoded data removed]"
          },
          "metadata": {
            "needs_background": "light"
          }
        }
      ]
    },
    {
      "cell_type": "markdown",
      "source": [
        "<br/>"
      ],
      "metadata": {
        "id": "NsGcRNQXyYaF"
      }
    },
    {
      "cell_type": "code",
      "source": [
        "max_words = 4867\n",
        "num_classes = 46\n",
        "\n",
        "five_tfidfv_train_arr = five_tfidfv_train.toarray()\n",
        "five_tfidfv_test_arr = five_tfidfv_test.toarray()\n",
        "five_y_train_catetory = keras.utils.to_categorical(five_y_train, num_classes)\n",
        "five_y_test_catetory = keras.utils.to_categorical(five_y_test, num_classes)\n",
        "\n",
        "with tf.device('/device:GPU:0'):\n",
        "  model = Sequential()\n",
        "  model.add(Dense(512, input_shape=(max_words,)))\n",
        "  model.add(Activation('relu'))\n",
        "  model.add(Dropout(0.5))\n",
        "  model.add(Dense(num_classes))\n",
        "  model.add(Activation('softmax'))\n",
        "  model.compile(loss='categorical_crossentropy', optimizer='adam', metrics=['accuracy'])\n",
        "\n",
        "  ['loss', 'acc']\n",
        "\n",
        "  batch_size = 32\n",
        "  epochs = 3\n",
        "  \n",
        "  history = model.fit(five_tfidfv_train_arr, five_y_train_catetory, batch_size=batch_size, epochs=epochs, verbose=1, validation_split=0.1)\n",
        "  five_dnn_score = model.evaluate(five_tfidfv_test_arr, five_y_test_catetory, batch_size=batch_size, verbose=1)\n",
        "\n",
        "  print()\n",
        "  print('Test loss:', five_dnn_score[0])\n",
        "  print('Test accuracy:', five_dnn_score[1])"
      ],
      "metadata": {
        "id": "KrXCImITKg1s",
        "colab": {
          "base_uri": "https://localhost:8080/"
        },
        "outputId": "ff35d9d6-0ef7-40c6-a56d-5b6e9ff2ed12"
      },
      "execution_count": null,
      "outputs": [
        {
          "output_type": "stream",
          "name": "stdout",
          "text": [
            "Epoch 1/3\n",
            "253/253 [==============================] - 1s 4ms/step - loss: 1.6782 - accuracy: 0.6327 - val_loss: 1.1482 - val_accuracy: 0.7475\n",
            "Epoch 2/3\n",
            "253/253 [==============================] - 1s 3ms/step - loss: 0.8408 - accuracy: 0.8126 - val_loss: 0.8986 - val_accuracy: 0.7998\n",
            "Epoch 3/3\n",
            "253/253 [==============================] - 1s 3ms/step - loss: 0.5670 - accuracy: 0.8710 - val_loss: 0.7898 - val_accuracy: 0.8309\n",
            "71/71 [==============================] - 0s 3ms/step - loss: 0.7607 - accuracy: 0.8157\n",
            "\n",
            "Test loss: 0.7606613039970398\n",
            "Test accuracy: 0.8156722784042358\n"
          ]
        }
      ]
    },
    {
      "cell_type": "markdown",
      "source": [
        "num_words=5000일 때, DNN 모델의 성능 'accuracy'는 81.57%이다."
      ],
      "metadata": {
        "id": "tdT9EEesFTLz"
      }
    },
    {
      "cell_type": "code",
      "source": [
        "plt.figure(figsize=(6, 6))\n",
        "plt.plot(history.history['accuracy'])\n",
        "plt.plot(history.history['val_accuracy'])\n",
        "plt.title('Model accuracy')\n",
        "plt.xlabel('Epoch')\n",
        "plt.ylabel('Accuracy')\n",
        "plt.legend(['Train', 'Test'], loc='upper left')\n",
        "plt.show()\n",
        "\n",
        "print()\n",
        "plt.plot(history.history['loss'])\n",
        "plt.plot(history.history['val_loss'])\n",
        "plt.title('Model loss')\n",
        "plt.xlabel('Epoch')\n",
        "plt.ylabel('Loss')\n",
        "plt.legend(['Train', 'Test'], loc='upper left')\n",
        "plt.show()"
      ],
      "metadata": {
        "id": "f-5EqVWu-2Sg",
        "colab": {
          "base_uri": "https://localhost:8080/",
          "height": 700
        },
        "outputId": "e5a014c4-19c2-47d7-e6eb-742cd3c8f2f7"
      },
      "execution_count": null,
      "outputs": [
        {
          "output_type": "display_data",
          "data": {
            "text/plain": [
              "<Figure size 432x432 with 1 Axes>"
            ],
            "image/png": "[encoded data removed]"
          },
          "metadata": {
            "needs_background": "light"
          }
        },
        {
          "output_type": "stream",
          "name": "stdout",
          "text": [
            "\n"
          ]
        },
        {
          "output_type": "display_data",
          "data": {
            "text/plain": [
              "<Figure size 432x288 with 1 Axes>"
            ],
            "image/png": "[encoded data removed]"
          },
          "metadata": {
            "needs_background": "light"
          }
        }
      ]
    },
    {
      "cell_type": "markdown",
      "source": [
        "<br/>"
      ],
      "metadata": {
        "id": "mVznpaU5yXl1"
      }
    },
    {
      "cell_type": "code",
      "source": [
        "max_words = 4867\n",
        "num_classes = 46\n",
        "\n",
        "one_tfidfv_train_arr = one_tfidfv_train.toarray()\n",
        "one_tfidfv_test_arr = one_tfidfv_test.toarray()\n",
        "one_y_train_catetory = keras.utils.to_categorical(one_y_train, num_classes)\n",
        "one_y_test_catetory = keras.utils.to_categorical(one_y_test, num_classes)\n",
        "\n",
        "with tf.device('/device:GPU:0'):\n",
        "  model = Sequential()\n",
        "  model.add(Dense(512, input_shape=(max_words,)))\n",
        "  model.add(Activation('relu'))\n",
        "  model.add(Dropout(0.5))\n",
        "  model.add(Dense(num_classes))\n",
        "  model.add(Activation('softmax'))\n",
        "  model.compile(loss='categorical_crossentropy', optimizer='adam', metrics=['accuracy'])\n",
        "\n",
        "  ['loss', 'acc']\n",
        "\n",
        "  batch_size = 32\n",
        "  epochs = 3\n",
        "  \n",
        "  history = model.fit(one_tfidfv_train_arr, one_y_train_catetory, batch_size=batch_size, epochs=epochs, verbose=1, validation_split=0.1)\n",
        "  one_dnn_score = model.evaluate(one_tfidfv_test_arr, one_y_test_catetory, batch_size=batch_size, verbose=1)\n",
        "\n",
        "  print()\n",
        "  print('Test loss:', one_dnn_score[0])\n",
        "  print('Test accuracy:', one_dnn_score[1])"
      ],
      "metadata": {
        "id": "3FoMXzFUkZ2y",
        "colab": {
          "base_uri": "https://localhost:8080/"
        },
        "outputId": "383c57d2-2796-4431-c825-2f35c1ece8a9"
      },
      "execution_count": null,
      "outputs": [
        {
          "output_type": "stream",
          "name": "stdout",
          "text": [
            "Epoch 1/3\n",
            "253/253 [==============================] - 1s 4ms/step - loss: 1.6749 - accuracy: 0.6376 - val_loss: 1.1523 - val_accuracy: 0.7475\n",
            "Epoch 2/3\n",
            "253/253 [==============================] - 1s 3ms/step - loss: 0.8438 - accuracy: 0.8128 - val_loss: 0.8965 - val_accuracy: 0.8009\n",
            "Epoch 3/3\n",
            "253/253 [==============================] - 1s 3ms/step - loss: 0.5708 - accuracy: 0.8720 - val_loss: 0.7821 - val_accuracy: 0.8265\n",
            "71/71 [==============================] - 0s 2ms/step - loss: 0.7622 - accuracy: 0.8139\n",
            "\n",
            "Test loss: 0.7621806263923645\n",
            "Test accuracy: 0.8138913512229919\n"
          ]
        }
      ]
    },
    {
      "cell_type": "markdown",
      "source": [
        "num_words=1000일 때, DNN  모델의 성능 'accuracy'는 81.39%이다."
      ],
      "metadata": {
        "id": "Wb1oLv9YFWL1"
      }
    },
    {
      "cell_type": "code",
      "source": [
        "plt.figure(figsize=(6, 6))\n",
        "plt.plot(history.history['accuracy'])\n",
        "plt.plot(history.history['val_accuracy'])\n",
        "plt.title('Model accuracy')\n",
        "plt.xlabel('Epoch')\n",
        "plt.ylabel('Accuracy')\n",
        "plt.legend(['Train', 'Test'], loc='upper left')\n",
        "plt.show()\n",
        "\n",
        "print()\n",
        "plt.plot(history.history['loss'])\n",
        "plt.plot(history.history['val_loss'])\n",
        "plt.title('Model loss')\n",
        "plt.xlabel('Epoch')\n",
        "plt.ylabel('Loss')\n",
        "plt.legend(['Train', 'Test'], loc='upper left')\n",
        "plt.show()"
      ],
      "metadata": {
        "id": "4NAmh3SD-269",
        "colab": {
          "base_uri": "https://localhost:8080/",
          "height": 700
        },
        "outputId": "64d48489-d3e8-47a1-fbd9-01821af8b102"
      },
      "execution_count": null,
      "outputs": [
        {
          "output_type": "display_data",
          "data": {
            "text/plain": [
              "<Figure size 432x432 with 1 Axes>"
            ],
            "image/png": "[encoded data removed]"
          },
          "metadata": {
            "needs_background": "light"
          }
        },
        {
          "output_type": "stream",
          "name": "stdout",
          "text": [
            "\n"
          ]
        },
        {
          "output_type": "display_data",
          "data": {
            "text/plain": [
              "<Figure size 432x288 with 1 Axes>"
            ],
            "image/png": "[encoded data removed]"
          },
          "metadata": {
            "needs_background": "light"
          }
        }
      ]
    },
    {
      "cell_type": "markdown",
      "source": [
        "<br/>"
      ],
      "metadata": {
        "id": "MYVo54s6yW0F"
      }
    },
    {
      "cell_type": "code",
      "source": [
        "dnn_model_comparison = [round(none_dnn_score[1], 4), round(ten_dnn_score[1], 4),\n",
        "                        round(five_dnn_score[1], 4), round(one_dnn_score[1], 4)]\n",
        "\n",
        "dnn_model_name = ['dnn_none', 'dnn_10000', 'dnn_5000', 'dnn_1000']\n",
        "\n",
        "dnn_df = pd.DataFrame({\"Model\": dnn_model_name,\n",
        "                  \"Accuracy\":dnn_model_comparison})\n",
        "dnn_df_sorted = dnn_df.sort_values('Accuracy',ascending=False)\n",
        "dnn_df_sorted"
      ],
      "metadata": {
        "id": "wNO2PSwqU9d0",
        "colab": {
          "base_uri": "https://localhost:8080/",
          "height": 175
        },
        "outputId": "35559450-0442-4ec8-e4bc-b7401007cd85"
      },
      "execution_count": null,
      "outputs": [
        {
          "output_type": "execute_result",
          "data": {
            "text/plain": [
              "       Model  Accuracy\n",
              "0   dnn_none    0.8161\n",
              "2   dnn_5000    0.8157\n",
              "1  dnn_10000    0.8143\n",
              "3   dnn_1000    0.8139"
            ],
            "text/html": [
              "\n",
              "  <div id=\"df-ab82b48b-4740-4689-b6ac-c553dfb64a0f\">\n",
              "    <div class=\"colab-df-container\">\n",
              "      <div>\n",
              "<style scoped>\n",
              "    .dataframe tbody tr th:only-of-type {\n",
              "        vertical-align: middle;\n",
              "    }\n",
              "\n",
              "    .dataframe tbody tr th {\n",
              "        vertical-align: top;\n",
              "    }\n",
              "\n",
              "    .dataframe thead th {\n",
              "        text-align: right;\n",
              "    }\n",
              "</style>\n",
              "<table border=\"1\" class=\"dataframe\">\n",
              "  <thead>\n",
              "    <tr style=\"text-align: right;\">\n",
              "      <th></th>\n",
              "      <th>Model</th>\n",
              "      <th>Accuracy</th>\n",
              "    </tr>\n",
              "  </thead>\n",
              "  <tbody>\n",
              "    <tr>\n",
              "      <th>0</th>\n",
              "      <td>dnn_none</td>\n",
              "      <td>0.8161</td>\n",
              "    </tr>\n",
              "    <tr>\n",
              "      <th>2</th>\n",
              "      <td>dnn_5000</td>\n",
              "      <td>0.8157</td>\n",
              "    </tr>\n",
              "    <tr>\n",
              "      <th>1</th>\n",
              "      <td>dnn_10000</td>\n",
              "      <td>0.8143</td>\n",
              "    </tr>\n",
              "    <tr>\n",
              "      <th>3</th>\n",
              "      <td>dnn_1000</td>\n",
              "      <td>0.8139</td>\n",
              "    </tr>\n",
              "  </tbody>\n",
              "</table>\n",
              "</div>\n",
              "      <button class=\"colab-df-convert\" onclick=\"convertToInteractive('df-ab82b48b-4740-4689-b6ac-c553dfb64a0f')\"\n",
              "              title=\"Convert this dataframe to an interactive table.\"\n",
              "              style=\"display:none;\">\n",
              "        \n",
              "  <svg xmlns=\"http://www.w3.org/2000/svg\" height=\"24px\"viewBox=\"0 0 24 24\"\n",
              "       width=\"24px\">\n",
              "    <path d=\"M0 0h24v24H0V0z\" fill=\"none\"/>\n",
              "    <path d=\"M18.56 5.44l.94 2.06.94-2.06 2.06-.94-2.06-.94-.94-2.06-.94 2.06-2.06.94zm-11 1L8.5 8.5l.94-2.06 2.06-.94-2.06-.94L8.5 2.5l-.94 2.06-2.06.94zm10 10l.94 2.06.94-2.06 2.06-.94-2.06-.94-.94-2.06-.94 2.06-2.06.94z\"/><path d=\"M17.41 7.96l-1.37-1.37c-.4-.4-.92-.59-1.43-.59-.52 0-1.04.2-1.43.59L10.3 9.45l-7.72 7.72c-.78.78-.78 2.05 0 2.83L4 21.41c.39.39.9.59 1.41.59.51 0 1.02-.2 1.41-.59l7.78-7.78 2.81-2.81c.8-.78.8-2.07 0-2.86zM5.41 20L4 18.59l7.72-7.72 1.47 1.35L5.41 20z\"/>\n",
              "  </svg>\n",
              "      </button>\n",
              "      \n",
              "  <style>\n",
              "    .colab-df-container {\n",
              "      display:flex;\n",
              "      flex-wrap:wrap;\n",
              "      gap: 12px;\n",
              "    }\n",
              "\n",
              "    .colab-df-convert {\n",
              "      background-color: #E8F0FE;\n",
              "      border: none;\n",
              "      border-radius: 50%;\n",
              "      cursor: pointer;\n",
              "      display: none;\n",
              "      fill: #1967D2;\n",
              "      height: 32px;\n",
              "      padding: 0 0 0 0;\n",
              "      width: 32px;\n",
              "    }\n",
              "\n",
              "    .colab-df-convert:hover {\n",
              "      background-color: #E2EBFA;\n",
              "      box-shadow: 0px 1px 2px rgba(60, 64, 67, 0.3), 0px 1px 3px 1px rgba(60, 64, 67, 0.15);\n",
              "      fill: #174EA6;\n",
              "    }\n",
              "\n",
              "    [theme=dark] .colab-df-convert {\n",
              "      background-color: #3B4455;\n",
              "      fill: #D2E3FC;\n",
              "    }\n",
              "\n",
              "    [theme=dark] .colab-df-convert:hover {\n",
              "      background-color: #434B5C;\n",
              "      box-shadow: 0px 1px 3px 1px rgba(0, 0, 0, 0.15);\n",
              "      filter: drop-shadow(0px 1px 2px rgba(0, 0, 0, 0.3));\n",
              "      fill: #FFFFFF;\n",
              "    }\n",
              "  </style>\n",
              "\n",
              "      <script>\n",
              "        const buttonEl =\n",
              "          document.querySelector('#df-ab82b48b-4740-4689-b6ac-c553dfb64a0f button.colab-df-convert');\n",
              "        buttonEl.style.display =\n",
              "          google.colab.kernel.accessAllowed ? 'block' : 'none';\n",
              "\n",
              "        async function convertToInteractive(key) {\n",
              "          const element = document.querySelector('#df-ab82b48b-4740-4689-b6ac-c553dfb64a0f');\n",
              "          const dataTable =\n",
              "            await google.colab.kernel.invokeFunction('convertToInteractive',\n",
              "                                                     [key], {});\n",
              "          if (!dataTable) return;\n",
              "\n",
              "          const docLinkHtml = 'Like what you see? Visit the ' +\n",
              "            '<a target=\"_blank\" href=https://colab.research.google.com/notebooks/data_table.ipynb>data table notebook</a>'\n",
              "            + ' to learn more about interactive tables.';\n",
              "          element.innerHTML = '';\n",
              "          dataTable['output_type'] = 'display_data';\n",
              "          await google.colab.output.renderOutput(dataTable, element);\n",
              "          const docLink = document.createElement('div');\n",
              "          docLink.innerHTML = docLinkHtml;\n",
              "          element.appendChild(docLink);\n",
              "        }\n",
              "      </script>\n",
              "    </div>\n",
              "  </div>\n",
              "  "
            ]
          },
          "metadata": {},
          "execution_count": 83
        }
      ]
    },
    {
      "cell_type": "markdown",
      "source": [
        "DNN 모델의 성능은 num_words에 큰 영향을 받지 않는다."
      ],
      "metadata": {
        "id": "1pIrYmS4zP9Q"
      }
    },
    {
      "cell_type": "markdown",
      "source": [
        "<br/>"
      ],
      "metadata": {
        "id": "W-TFQ4RtyWOv"
      }
    },
    {
      "cell_type": "markdown",
      "source": [
        "##1-D CNN"
      ],
      "metadata": {
        "id": "KPcl0PSA0Hb9"
      }
    },
    {
      "cell_type": "code",
      "source": [
        "model = Sequential()\n",
        "model.add(Embedding(vocab_size, 128, input_length=text_max_words))\n",
        "model.add(Dropout(0.2))\n",
        "model.add(Conv1D(256, 3, padding='valid', activation='relu', strides=1))\n",
        "model.add(GlobalMaxPooling1D())\n",
        "model.add(Dense(128, activation='relu'))\n",
        "model.add(Dropout(0.2))\n",
        "model.add(Dense(46, activation='softmax'))\n",
        "model.summary()"
      ],
      "metadata": {
        "colab": {
          "base_uri": "https://localhost:8080/"
        },
        "id": "9DBucqHmpBQP",
        "outputId": "80a2b78c-de23-4f9e-bdee-6bb324d5366e"
      },
      "execution_count": null,
      "outputs": [
        {
          "output_type": "stream",
          "name": "stdout",
          "text": [
            "Model: \"sequential_35\"\n",
            "_________________________________________________________________\n",
            " Layer (type)                Output Shape              Param #   \n",
            "=================================================================\n",
            " embedding_28 (Embedding)    (None, 120, 128)          3965312   \n",
            "                                                                 \n",
            " dropout_62 (Dropout)        (None, 120, 128)          0         \n",
            "                                                                 \n",
            " conv1d_28 (Conv1D)          (None, 118, 256)          98560     \n",
            "                                                                 \n",
            " global_max_pooling1d_28 (Gl  (None, 256)              0         \n",
            " obalMaxPooling1D)                                               \n",
            "                                                                 \n",
            " dense_68 (Dense)            (None, 128)               32896     \n",
            "                                                                 \n",
            " dropout_63 (Dropout)        (None, 128)               0         \n",
            "                                                                 \n",
            " dense_69 (Dense)            (None, 46)                5934      \n",
            "                                                                 \n",
            "=================================================================\n",
            "Total params: 4,102,702\n",
            "Trainable params: 4,102,702\n",
            "Non-trainable params: 0\n",
            "_________________________________________________________________\n"
          ]
        }
      ]
    },
    {
      "cell_type": "markdown",
      "source": [
        "<br/><br/>"
      ],
      "metadata": {
        "id": "A_gp2wZPu3gZ"
      }
    },
    {
      "cell_type": "markdown",
      "source": [
        "\n",
        "\n",
        "```\n",
        "x_train_seq = sequence.pad_sequences(x_train, maxlen = text_max_words)\n",
        "x_test_seq = sequence.pad_sequences(x_test, maxlen = text_max_words)\n",
        "y_train_catetory = np_utils.to_categorical(y_train)\n",
        "y_test_catetory = np_utils.to_categorical(y_test)\n",
        "```\n",
        "\n"
      ],
      "metadata": {
        "id": "IzCXq9NytAoA"
      }
    },
    {
      "cell_type": "markdown",
      "source": [
        ""
      ],
      "metadata": {
        "id": "FWTT_-G82rv4"
      }
    },
    {
      "cell_type": "markdown",
      "source": [
        "1-D CNN 모델에 사용한 데이터의 형태는 Two-Dimensional Tensor(X, Feature)와 Binary Class Matrix(Y, Target)이다.\n",
        "<br/>sequence.pad_sequences는 병렬 연산을 위해 Two-Dimensional Tensor의 길이를 맞춘다.\n",
        "<br/>np_utils.to_categorical는 Integer Vector를 Binary Class Matrix로 변환한다."
      ],
      "metadata": {
        "id": "Rnl7lrZ9s__H"
      }
    },
    {
      "cell_type": "markdown",
      "source": [
        "<br/><br/>"
      ],
      "metadata": {
        "id": "mlyOfLhdu4Zx"
      }
    },
    {
      "cell_type": "code",
      "source": [
        "(none_x_train, none_y_train), (none_x_test, none_y_test) = reuters.load_data(num_words=None, test_split=0.2)\n",
        "\n",
        "vocab_size = len(word_index)\n",
        "text_max_words = 120\n",
        "\n",
        "none_x_train_seq = sequence.pad_sequences(none_x_train, maxlen = text_max_words)\n",
        "none_x_test_seq = sequence.pad_sequences(none_x_test, maxlen = text_max_words)\n",
        "none_y_train_catetory = np_utils.to_categorical(none_y_train)\n",
        "none_y_test_catetory = np_utils.to_categorical(none_y_test)\n",
        "\n",
        "model = Sequential()\n",
        "model.add(Embedding(vocab_size, 128, input_length=text_max_words))\n",
        "model.add(Dropout(0.2))\n",
        "model.add(Conv1D(256, 3, padding='valid', activation='relu', strides=1))\n",
        "model.add(GlobalMaxPooling1D())\n",
        "model.add(Dense(128, activation='relu'))\n",
        "model.add(Dropout(0.2))\n",
        "model.add(Dense(46, activation='softmax'))\n",
        "\n",
        "model.compile(loss='categorical_crossentropy', optimizer='adam', metrics=['accuracy'])\n",
        "history = model.fit(none_x_train_seq, none_y_train_catetory, epochs=10, batch_size=256, validation_split=0.1)\n",
        "none_cnn_score = model.evaluate(none_x_test_seq, none_y_test_catetory, batch_size=256, verbose=1)\n",
        "  \n",
        "print()\n",
        "print('Test loss:', none_cnn_score[0])\n",
        "print('Test accuracy:', none_cnn_score[1])"
      ],
      "metadata": {
        "colab": {
          "base_uri": "https://localhost:8080/"
        },
        "id": "An2sDfD9gxJC",
        "outputId": "f708499e-dcc6-4178-e6ce-afe01d2b800e"
      },
      "execution_count": null,
      "outputs": [
        {
          "output_type": "stream",
          "name": "stdout",
          "text": [
            "Epoch 1/10\n",
            "32/32 [==============================] - 2s 31ms/step - loss: 2.8512 - accuracy: 0.3549 - val_loss: 2.1510 - val_accuracy: 0.4638\n",
            "Epoch 2/10\n",
            "32/32 [==============================] - 0s 15ms/step - loss: 1.9908 - accuracy: 0.5006 - val_loss: 1.9009 - val_accuracy: 0.5050\n",
            "Epoch 3/10\n",
            "32/32 [==============================] - 0s 15ms/step - loss: 1.7478 - accuracy: 0.5514 - val_loss: 1.6373 - val_accuracy: 0.6240\n",
            "Epoch 4/10\n",
            "32/32 [==============================] - 0s 15ms/step - loss: 1.4741 - accuracy: 0.6571 - val_loss: 1.4072 - val_accuracy: 0.6830\n",
            "Epoch 5/10\n",
            "32/32 [==============================] - 0s 15ms/step - loss: 1.2759 - accuracy: 0.6950 - val_loss: 1.3117 - val_accuracy: 0.6885\n",
            "Epoch 6/10\n",
            "32/32 [==============================] - 0s 15ms/step - loss: 1.1159 - accuracy: 0.7320 - val_loss: 1.2373 - val_accuracy: 0.7208\n",
            "Epoch 7/10\n",
            "32/32 [==============================] - 0s 15ms/step - loss: 0.9412 - accuracy: 0.7752 - val_loss: 1.1803 - val_accuracy: 0.7241\n",
            "Epoch 8/10\n",
            "32/32 [==============================] - 0s 15ms/step - loss: 0.7842 - accuracy: 0.8085 - val_loss: 1.1566 - val_accuracy: 0.7297\n",
            "Epoch 9/10\n",
            "32/32 [==============================] - 0s 15ms/step - loss: 0.6496 - accuracy: 0.8408 - val_loss: 1.1569 - val_accuracy: 0.7397\n",
            "Epoch 10/10\n",
            "32/32 [==============================] - 1s 16ms/step - loss: 0.5338 - accuracy: 0.8649 - val_loss: 1.1787 - val_accuracy: 0.7319\n",
            "9/9 [==============================] - 0s 7ms/step - loss: 1.1848 - accuracy: 0.7275\n",
            "\n",
            "Test loss: 1.1848387718200684\n",
            "Test accuracy: 0.7275155782699585\n"
          ]
        }
      ]
    },
    {
      "cell_type": "markdown",
      "source": [
        "num_words=none일 때, CNN 모델의 성능 'accuracy'는 72.75%이다."
      ],
      "metadata": {
        "id": "_yioRXYXpJc4"
      }
    },
    {
      "cell_type": "code",
      "source": [
        "plt.figure(figsize=(6, 6))\n",
        "plt.plot(history.history['accuracy'])\n",
        "plt.plot(history.history['val_accuracy'])\n",
        "plt.title('Model accuracy')\n",
        "plt.xlabel('Epoch')\n",
        "plt.ylabel('Accuracy')\n",
        "plt.legend(['Train', 'Test'], loc='upper left')\n",
        "plt.show()\n",
        "\n",
        "print()\n",
        "plt.plot(history.history['loss'])\n",
        "plt.plot(history.history['val_loss'])\n",
        "plt.title('Model loss')\n",
        "plt.xlabel('Epoch')\n",
        "plt.ylabel('Loss')\n",
        "plt.legend(['Train', 'Test'], loc='upper left')\n",
        "plt.show()"
      ],
      "metadata": {
        "colab": {
          "base_uri": "https://localhost:8080/",
          "height": 700
        },
        "id": "ft3unth-neIr",
        "outputId": "bdf76867-cd74-426a-998d-c89d7ca6c9c5"
      },
      "execution_count": null,
      "outputs": [
        {
          "output_type": "display_data",
          "data": {
            "text/plain": [
              "<Figure size 432x432 with 1 Axes>"
            ],
            "image/png": "[encoded data removed]"
          },
          "metadata": {
            "needs_background": "light"
          }
        },
        {
          "output_type": "stream",
          "name": "stdout",
          "text": [
            "\n"
          ]
        },
        {
          "output_type": "display_data",
          "data": {
            "text/plain": [
              "<Figure size 432x288 with 1 Axes>"
            ],
            "image/png": "[encoded data removed]"
          },
          "metadata": {
            "needs_background": "light"
          }
        }
      ]
    },
    {
      "cell_type": "markdown",
      "source": [
        "<br/>"
      ],
      "metadata": {
        "id": "Boxfcba5yUKF"
      }
    },
    {
      "cell_type": "code",
      "source": [
        "(ten_x_train, ten_y_train), (ten_x_test, ten_y_test) = reuters.load_data(num_words=10000, test_split=0.2)\n",
        "\n",
        "vocab_size = 10000\n",
        "text_max_words = 120\n",
        "\n",
        "ten_x_train_seq = sequence.pad_sequences(ten_x_train, maxlen = text_max_words)\n",
        "ten_x_test_seq = sequence.pad_sequences(ten_x_test, maxlen = text_max_words)\n",
        "ten_y_train_catetory = np_utils.to_categorical(ten_y_train)\n",
        "ten_y_test_catetory = np_utils.to_categorical(ten_y_test)\n",
        "\n",
        "model = Sequential()\n",
        "model.add(Embedding(vocab_size, 128, input_length=text_max_words))\n",
        "model.add(Dropout(0.2))\n",
        "model.add(Conv1D(256, 3, padding='valid', activation='relu', strides=1))\n",
        "model.add(GlobalMaxPooling1D())\n",
        "model.add(Dense(128, activation='relu'))\n",
        "model.add(Dropout(0.2))\n",
        "model.add(Dense(46, activation='softmax'))\n",
        "\n",
        "model.compile(loss='categorical_crossentropy', optimizer='adam', metrics=['accuracy'])\n",
        "history = model.fit(ten_x_train_seq, ten_y_train_catetory, epochs=10, batch_size=256, validation_split=0.1)\n",
        "ten_cnn_score = model.evaluate(ten_x_test_seq, ten_y_test_catetory, batch_size=256, verbose=1)\n",
        "  \n",
        "print()\n",
        "print('Test loss:', ten_cnn_score[0])\n",
        "print('Test accuracy:', ten_cnn_score[1])"
      ],
      "metadata": {
        "id": "iBh2rO730Hyt",
        "colab": {
          "base_uri": "https://localhost:8080/"
        },
        "outputId": "7ca05651-b579-4660-ae52-f63f2e4d0cb7"
      },
      "execution_count": null,
      "outputs": [
        {
          "output_type": "stream",
          "name": "stdout",
          "text": [
            "Epoch 1/10\n",
            "32/32 [==============================] - 1s 21ms/step - loss: 2.8199 - accuracy: 0.3561 - val_loss: 2.1866 - val_accuracy: 0.4661\n",
            "Epoch 2/10\n",
            "32/32 [==============================] - 0s 14ms/step - loss: 2.0075 - accuracy: 0.4961 - val_loss: 1.9116 - val_accuracy: 0.5017\n",
            "Epoch 3/10\n",
            "32/32 [==============================] - 0s 14ms/step - loss: 1.7544 - accuracy: 0.5554 - val_loss: 1.6410 - val_accuracy: 0.6429\n",
            "Epoch 4/10\n",
            "32/32 [==============================] - 0s 14ms/step - loss: 1.4790 - accuracy: 0.6619 - val_loss: 1.4227 - val_accuracy: 0.6841\n",
            "Epoch 5/10\n",
            "32/32 [==============================] - 0s 14ms/step - loss: 1.2827 - accuracy: 0.7006 - val_loss: 1.3267 - val_accuracy: 0.7008\n",
            "Epoch 6/10\n",
            "32/32 [==============================] - 0s 14ms/step - loss: 1.1304 - accuracy: 0.7325 - val_loss: 1.2578 - val_accuracy: 0.7141\n",
            "Epoch 7/10\n",
            "32/32 [==============================] - 0s 14ms/step - loss: 0.9966 - accuracy: 0.7565 - val_loss: 1.2199 - val_accuracy: 0.7152\n",
            "Epoch 8/10\n",
            "32/32 [==============================] - 0s 14ms/step - loss: 0.8636 - accuracy: 0.7920 - val_loss: 1.1780 - val_accuracy: 0.7297\n",
            "Epoch 9/10\n",
            "32/32 [==============================] - 0s 15ms/step - loss: 0.7457 - accuracy: 0.8202 - val_loss: 1.1477 - val_accuracy: 0.7264\n",
            "Epoch 10/10\n",
            "32/32 [==============================] - 0s 14ms/step - loss: 0.6203 - accuracy: 0.8442 - val_loss: 1.1465 - val_accuracy: 0.7353\n",
            "9/9 [==============================] - 0s 5ms/step - loss: 1.0934 - accuracy: 0.7395\n",
            "\n",
            "Test loss: 1.0933923721313477\n",
            "Test accuracy: 0.7395369410514832\n"
          ]
        }
      ]
    },
    {
      "cell_type": "markdown",
      "source": [
        "num_words=10000일 때, CNN  모델의 성능 'accuracy'는 73.95%이다."
      ],
      "metadata": {
        "id": "h-uxPXQMpQL4"
      }
    },
    {
      "cell_type": "code",
      "source": [
        "plt.figure(figsize=(6, 6))\n",
        "plt.plot(history.history['accuracy'])\n",
        "plt.plot(history.history['val_accuracy'])\n",
        "plt.title('Model accuracy')\n",
        "plt.xlabel('Epoch')\n",
        "plt.ylabel('Accuracy')\n",
        "plt.legend(['Train', 'Test'], loc='upper left')\n",
        "plt.show()\n",
        "\n",
        "print()\n",
        "plt.plot(history.history['loss'])\n",
        "plt.plot(history.history['val_loss'])\n",
        "plt.title('Model loss')\n",
        "plt.xlabel('Epoch')\n",
        "plt.ylabel('Loss')\n",
        "plt.legend(['Train', 'Test'], loc='upper left')\n",
        "plt.show()"
      ],
      "metadata": {
        "id": "MEXmBNm60HvZ",
        "colab": {
          "base_uri": "https://localhost:8080/",
          "height": 700
        },
        "outputId": "91c8143c-1086-4dcf-9890-eacf7280fdf8"
      },
      "execution_count": null,
      "outputs": [
        {
          "output_type": "display_data",
          "data": {
            "text/plain": [
              "<Figure size 432x432 with 1 Axes>"
            ],
            "image/png": "[encoded data removed]"
          },
          "metadata": {
            "needs_background": "light"
          }
        },
        {
          "output_type": "stream",
          "name": "stdout",
          "text": [
            "\n"
          ]
        },
        {
          "output_type": "display_data",
          "data": {
            "text/plain": [
              "<Figure size 432x288 with 1 Axes>"
            ],
            "image/png": "[encoded data removed]"
          },
          "metadata": {
            "needs_background": "light"
          }
        }
      ]
    },
    {
      "cell_type": "markdown",
      "source": [
        "<br/>"
      ],
      "metadata": {
        "id": "WlO9Bl03ySed"
      }
    },
    {
      "cell_type": "code",
      "source": [
        "(five_x_train, five_y_train), (five_x_test, five_y_test) = reuters.load_data(num_words=5000, test_split=0.2)\n",
        "\n",
        "vocab_size = 5000\n",
        "text_max_words = 120\n",
        "\n",
        "five_x_train_seq = sequence.pad_sequences(five_x_train, maxlen = text_max_words)\n",
        "five_x_test_seq = sequence.pad_sequences(five_x_test, maxlen = text_max_words)\n",
        "five_y_train_catetory = np_utils.to_categorical(five_y_train)\n",
        "five_y_test_catetory = np_utils.to_categorical(five_y_test)\n",
        "\n",
        "model = Sequential()\n",
        "model.add(Embedding(vocab_size, 128, input_length=text_max_words))\n",
        "model.add(Dropout(0.2))\n",
        "model.add(Conv1D(256, 3, padding='valid', activation='relu', strides=1))\n",
        "model.add(GlobalMaxPooling1D())\n",
        "model.add(Dense(128, activation='relu'))\n",
        "model.add(Dropout(0.2))\n",
        "model.add(Dense(46, activation='softmax'))\n",
        "\n",
        "model.compile(loss='categorical_crossentropy', optimizer='adam', metrics=['accuracy'])\n",
        "history = model.fit(five_x_train_seq, five_y_train_catetory, epochs=10, batch_size=256, validation_split=0.1)\n",
        "five_cnn_score = model.evaluate(five_x_test_seq, five_y_test_catetory, batch_size=256, verbose=1)\n",
        "  \n",
        "print()\n",
        "print('Test loss:', five_cnn_score[0])\n",
        "print('Test accuracy:', five_cnn_score[1])"
      ],
      "metadata": {
        "id": "6oljd3Gj0H3m",
        "colab": {
          "base_uri": "https://localhost:8080/"
        },
        "outputId": "04f61d70-483c-4b48-e016-130a6fef8463"
      },
      "execution_count": null,
      "outputs": [
        {
          "output_type": "stream",
          "name": "stdout",
          "text": [
            "Epoch 1/10\n",
            "32/32 [==============================] - 1s 21ms/step - loss: 2.8176 - accuracy: 0.3656 - val_loss: 2.1493 - val_accuracy: 0.4839\n",
            "Epoch 2/10\n",
            "32/32 [==============================] - 0s 14ms/step - loss: 1.9699 - accuracy: 0.5009 - val_loss: 1.8737 - val_accuracy: 0.5017\n",
            "Epoch 3/10\n",
            "32/32 [==============================] - 0s 14ms/step - loss: 1.7273 - accuracy: 0.5656 - val_loss: 1.6488 - val_accuracy: 0.6129\n",
            "Epoch 4/10\n",
            "32/32 [==============================] - 0s 14ms/step - loss: 1.4998 - accuracy: 0.6512 - val_loss: 1.4467 - val_accuracy: 0.6741\n",
            "Epoch 5/10\n",
            "32/32 [==============================] - 0s 14ms/step - loss: 1.3002 - accuracy: 0.6939 - val_loss: 1.3288 - val_accuracy: 0.6974\n",
            "Epoch 6/10\n",
            "32/32 [==============================] - 0s 14ms/step - loss: 1.1445 - accuracy: 0.7270 - val_loss: 1.2386 - val_accuracy: 0.7186\n",
            "Epoch 7/10\n",
            "32/32 [==============================] - 0s 14ms/step - loss: 1.0015 - accuracy: 0.7590 - val_loss: 1.1855 - val_accuracy: 0.7286\n",
            "Epoch 8/10\n",
            "32/32 [==============================] - 0s 15ms/step - loss: 0.8924 - accuracy: 0.7823 - val_loss: 1.1471 - val_accuracy: 0.7375\n",
            "Epoch 9/10\n",
            "32/32 [==============================] - 0s 14ms/step - loss: 0.7766 - accuracy: 0.8102 - val_loss: 1.1079 - val_accuracy: 0.7475\n",
            "Epoch 10/10\n",
            "32/32 [==============================] - 0s 14ms/step - loss: 0.6730 - accuracy: 0.8320 - val_loss: 1.1063 - val_accuracy: 0.7430\n",
            "9/9 [==============================] - 0s 5ms/step - loss: 1.0632 - accuracy: 0.7440\n",
            "\n",
            "Test loss: 1.0631725788116455\n",
            "Test accuracy: 0.7439892888069153\n"
          ]
        }
      ]
    },
    {
      "cell_type": "markdown",
      "source": [
        "num_words=5000일 때, CNN 모델의 성능 'accuracy'는 74.40%이다."
      ],
      "metadata": {
        "id": "VSmWK2nzpUrR"
      }
    },
    {
      "cell_type": "code",
      "source": [
        "plt.figure(figsize=(6, 6))\n",
        "plt.plot(history.history['accuracy'])\n",
        "plt.plot(history.history['val_accuracy'])\n",
        "plt.title('Model accuracy')\n",
        "plt.xlabel('Epoch')\n",
        "plt.ylabel('Accuracy')\n",
        "plt.legend(['Train', 'Test'], loc='upper left')\n",
        "plt.show()\n",
        "\n",
        "print()\n",
        "plt.plot(history.history['loss'])\n",
        "plt.plot(history.history['val_loss'])\n",
        "plt.title('Model loss')\n",
        "plt.xlabel('Epoch')\n",
        "plt.ylabel('Loss')\n",
        "plt.legend(['Train', 'Test'], loc='upper left')\n",
        "plt.show()"
      ],
      "metadata": {
        "id": "7rjkPfmI0H0q",
        "colab": {
          "base_uri": "https://localhost:8080/",
          "height": 700
        },
        "outputId": "f6bc7e03-5506-4e68-83fb-c30165e81f42"
      },
      "execution_count": null,
      "outputs": [
        {
          "output_type": "display_data",
          "data": {
            "text/plain": [
              "<Figure size 432x432 with 1 Axes>"
            ],
            "image/png": "[encoded data removed]"
          },
          "metadata": {
            "needs_background": "light"
          }
        },
        {
          "output_type": "stream",
          "name": "stdout",
          "text": [
            "\n"
          ]
        },
        {
          "output_type": "display_data",
          "data": {
            "text/plain": [
              "<Figure size 432x288 with 1 Axes>"
            ],
            "image/png": "[encoded data removed]"
          },
          "metadata": {
            "needs_background": "light"
          }
        }
      ]
    },
    {
      "cell_type": "markdown",
      "source": [
        "<br/>"
      ],
      "metadata": {
        "id": "X22h2FpcyRnR"
      }
    },
    {
      "cell_type": "code",
      "source": [
        "(one_x_train, one_y_train), (one_x_test, one_y_test) = reuters.load_data(num_words=1000, test_split=0.2)\n",
        "\n",
        "vocab_size = 1000\n",
        "text_max_words = 120\n",
        "\n",
        "one_x_train_seq = sequence.pad_sequences(one_x_train, maxlen = text_max_words)\n",
        "one_x_test_seq = sequence.pad_sequences(one_x_test, maxlen = text_max_words)\n",
        "one_y_train_catetory = np_utils.to_categorical(one_y_train)\n",
        "one_y_test_catetory = np_utils.to_categorical(one_y_test)\n",
        "\n",
        "model = Sequential()\n",
        "model.add(Embedding(vocab_size, 128, input_length=text_max_words))\n",
        "model.add(Dropout(0.2))\n",
        "model.add(Conv1D(256, 3, padding='valid', activation='relu', strides=1))\n",
        "model.add(GlobalMaxPooling1D())\n",
        "model.add(Dense(128, activation='relu'))\n",
        "model.add(Dropout(0.2))\n",
        "model.add(Dense(46, activation='softmax'))\n",
        "\n",
        "model.compile(loss='categorical_crossentropy', optimizer='adam', metrics=['accuracy'])\n",
        "history = model.fit(one_x_train_seq, one_y_train_catetory, epochs=10, batch_size=256, validation_split=0.1)\n",
        "one_cnn_score = model.evaluate(one_x_test_seq, one_y_test_catetory, batch_size=256, verbose=1)\n",
        "  \n",
        "print()\n",
        "print('Test loss:', one_cnn_score[0])\n",
        "print('Test accuracy:', one_cnn_score[1])"
      ],
      "metadata": {
        "id": "PeVGSyA30H9T",
        "colab": {
          "base_uri": "https://localhost:8080/"
        },
        "outputId": "9adb0928-2d8e-4e00-a981-503c91dc4240"
      },
      "execution_count": null,
      "outputs": [
        {
          "output_type": "stream",
          "name": "stdout",
          "text": [
            "Epoch 1/10\n",
            "32/32 [==============================] - 2s 29ms/step - loss: 2.9107 - accuracy: 0.3609 - val_loss: 2.1943 - val_accuracy: 0.4894\n",
            "Epoch 2/10\n",
            "32/32 [==============================] - 0s 13ms/step - loss: 2.0021 - accuracy: 0.4971 - val_loss: 1.8782 - val_accuracy: 0.5006\n",
            "Epoch 3/10\n",
            "32/32 [==============================] - 0s 13ms/step - loss: 1.7399 - accuracy: 0.5601 - val_loss: 1.6474 - val_accuracy: 0.5996\n",
            "Epoch 4/10\n",
            "32/32 [==============================] - 0s 13ms/step - loss: 1.5061 - accuracy: 0.6480 - val_loss: 1.4477 - val_accuracy: 0.6796\n",
            "Epoch 5/10\n",
            "32/32 [==============================] - 0s 13ms/step - loss: 1.3483 - accuracy: 0.6823 - val_loss: 1.3581 - val_accuracy: 0.6874\n",
            "Epoch 6/10\n",
            "32/32 [==============================] - 0s 13ms/step - loss: 1.2441 - accuracy: 0.7023 - val_loss: 1.3029 - val_accuracy: 0.6986\n",
            "Epoch 7/10\n",
            "32/32 [==============================] - 0s 13ms/step - loss: 1.1506 - accuracy: 0.7173 - val_loss: 1.2477 - val_accuracy: 0.7041\n",
            "Epoch 8/10\n",
            "32/32 [==============================] - 0s 13ms/step - loss: 1.0697 - accuracy: 0.7369 - val_loss: 1.2029 - val_accuracy: 0.7208\n",
            "Epoch 9/10\n",
            "32/32 [==============================] - 0s 13ms/step - loss: 0.9830 - accuracy: 0.7607 - val_loss: 1.1514 - val_accuracy: 0.7341\n",
            "Epoch 10/10\n",
            "32/32 [==============================] - 0s 14ms/step - loss: 0.9017 - accuracy: 0.7798 - val_loss: 1.1150 - val_accuracy: 0.7442\n",
            "9/9 [==============================] - 0s 5ms/step - loss: 1.0711 - accuracy: 0.7409\n",
            "\n",
            "Test loss: 1.0711301565170288\n",
            "Test accuracy: 0.7408726811408997\n"
          ]
        }
      ]
    },
    {
      "cell_type": "markdown",
      "source": [
        "num_words=1000일 때, CNN 모델의 성능 'accuracy'는 74.09%이다."
      ],
      "metadata": {
        "id": "IHjQFlHmpZMC"
      }
    },
    {
      "cell_type": "code",
      "source": [
        "plt.figure(figsize=(6, 6))\n",
        "plt.plot(history.history['accuracy'])\n",
        "plt.plot(history.history['val_accuracy'])\n",
        "plt.title('Model accuracy')\n",
        "plt.xlabel('Epoch')\n",
        "plt.ylabel('Accuracy')\n",
        "plt.legend(['Train', 'Test'], loc='upper left')\n",
        "plt.show()\n",
        "\n",
        "print()\n",
        "plt.plot(history.history['loss'])\n",
        "plt.plot(history.history['val_loss'])\n",
        "plt.title('Model loss')\n",
        "plt.xlabel('Epoch')\n",
        "plt.ylabel('Loss')\n",
        "plt.legend(['Train', 'Test'], loc='upper left')\n",
        "plt.show()"
      ],
      "metadata": {
        "colab": {
          "base_uri": "https://localhost:8080/",
          "height": 700
        },
        "id": "tAxntaCtjKnN",
        "outputId": "022110c9-4070-4e4a-db5d-4253597d0cce"
      },
      "execution_count": null,
      "outputs": [
        {
          "output_type": "display_data",
          "data": {
            "text/plain": [
              "<Figure size 432x432 with 1 Axes>"
            ],
            "image/png": "[encoded data removed]"
          },
          "metadata": {
            "needs_background": "light"
          }
        },
        {
          "output_type": "stream",
          "name": "stdout",
          "text": [
            "\n"
          ]
        },
        {
          "output_type": "display_data",
          "data": {
            "text/plain": [
              "<Figure size 432x288 with 1 Axes>"
            ],
            "image/png": "[encoded data removed]"
          },
          "metadata": {
            "needs_background": "light"
          }
        }
      ]
    },
    {
      "cell_type": "markdown",
      "source": [
        "<br/>"
      ],
      "metadata": {
        "id": "xADeF5EuyQzl"
      }
    },
    {
      "cell_type": "code",
      "source": [
        "cnn_model_comparison = [round(none_cnn_score[1], 4), round(ten_cnn_score[1], 4),\n",
        "                        round(five_cnn_score[1], 4), round(one_cnn_score[1], 4)]\n",
        "\n",
        "cnn_model_name = ['cnn_none', 'cnn_10000', 'cnn_5000', 'cnn_1000']\n",
        "\n",
        "cnn_df = pd.DataFrame({\"Model\": cnn_model_name,\n",
        "                  \"Accuracy\":cnn_model_comparison})\n",
        "cnn_df_sorted = cnn_df.sort_values('Accuracy',ascending=False)\n",
        "cnn_df_sorted"
      ],
      "metadata": {
        "id": "hsfJsKxW0ICP",
        "colab": {
          "base_uri": "https://localhost:8080/",
          "height": 175
        },
        "outputId": "15174067-5eaf-43ed-c5c5-a5025e0ef4f5"
      },
      "execution_count": null,
      "outputs": [
        {
          "output_type": "execute_result",
          "data": {
            "text/plain": [
              "       Model  Accuracy\n",
              "2   cnn_5000    0.7440\n",
              "3   cnn_1000    0.7409\n",
              "1  cnn_10000    0.7395\n",
              "0   cnn_none    0.7275"
            ],
            "text/html": [
              "\n",
              "  <div id=\"df-65e36074-563d-4770-8587-d99598b9f08d\">\n",
              "    <div class=\"colab-df-container\">\n",
              "      <div>\n",
              "<style scoped>\n",
              "    .dataframe tbody tr th:only-of-type {\n",
              "        vertical-align: middle;\n",
              "    }\n",
              "\n",
              "    .dataframe tbody tr th {\n",
              "        vertical-align: top;\n",
              "    }\n",
              "\n",
              "    .dataframe thead th {\n",
              "        text-align: right;\n",
              "    }\n",
              "</style>\n",
              "<table border=\"1\" class=\"dataframe\">\n",
              "  <thead>\n",
              "    <tr style=\"text-align: right;\">\n",
              "      <th></th>\n",
              "      <th>Model</th>\n",
              "      <th>Accuracy</th>\n",
              "    </tr>\n",
              "  </thead>\n",
              "  <tbody>\n",
              "    <tr>\n",
              "      <th>2</th>\n",
              "      <td>cnn_5000</td>\n",
              "      <td>0.7440</td>\n",
              "    </tr>\n",
              "    <tr>\n",
              "      <th>3</th>\n",
              "      <td>cnn_1000</td>\n",
              "      <td>0.7409</td>\n",
              "    </tr>\n",
              "    <tr>\n",
              "      <th>1</th>\n",
              "      <td>cnn_10000</td>\n",
              "      <td>0.7395</td>\n",
              "    </tr>\n",
              "    <tr>\n",
              "      <th>0</th>\n",
              "      <td>cnn_none</td>\n",
              "      <td>0.7275</td>\n",
              "    </tr>\n",
              "  </tbody>\n",
              "</table>\n",
              "</div>\n",
              "      <button class=\"colab-df-convert\" onclick=\"convertToInteractive('df-65e36074-563d-4770-8587-d99598b9f08d')\"\n",
              "              title=\"Convert this dataframe to an interactive table.\"\n",
              "              style=\"display:none;\">\n",
              "        \n",
              "  <svg xmlns=\"http://www.w3.org/2000/svg\" height=\"24px\"viewBox=\"0 0 24 24\"\n",
              "       width=\"24px\">\n",
              "    <path d=\"M0 0h24v24H0V0z\" fill=\"none\"/>\n",
              "    <path d=\"M18.56 5.44l.94 2.06.94-2.06 2.06-.94-2.06-.94-.94-2.06-.94 2.06-2.06.94zm-11 1L8.5 8.5l.94-2.06 2.06-.94-2.06-.94L8.5 2.5l-.94 2.06-2.06.94zm10 10l.94 2.06.94-2.06 2.06-.94-2.06-.94-.94-2.06-.94 2.06-2.06.94z\"/><path d=\"M17.41 7.96l-1.37-1.37c-.4-.4-.92-.59-1.43-.59-.52 0-1.04.2-1.43.59L10.3 9.45l-7.72 7.72c-.78.78-.78 2.05 0 2.83L4 21.41c.39.39.9.59 1.41.59.51 0 1.02-.2 1.41-.59l7.78-7.78 2.81-2.81c.8-.78.8-2.07 0-2.86zM5.41 20L4 18.59l7.72-7.72 1.47 1.35L5.41 20z\"/>\n",
              "  </svg>\n",
              "      </button>\n",
              "      \n",
              "  <style>\n",
              "    .colab-df-container {\n",
              "      display:flex;\n",
              "      flex-wrap:wrap;\n",
              "      gap: 12px;\n",
              "    }\n",
              "\n",
              "    .colab-df-convert {\n",
              "      background-color: #E8F0FE;\n",
              "      border: none;\n",
              "      border-radius: 50%;\n",
              "      cursor: pointer;\n",
              "      display: none;\n",
              "      fill: #1967D2;\n",
              "      height: 32px;\n",
              "      padding: 0 0 0 0;\n",
              "      width: 32px;\n",
              "    }\n",
              "\n",
              "    .colab-df-convert:hover {\n",
              "      background-color: #E2EBFA;\n",
              "      box-shadow: 0px 1px 2px rgba(60, 64, 67, 0.3), 0px 1px 3px 1px rgba(60, 64, 67, 0.15);\n",
              "      fill: #174EA6;\n",
              "    }\n",
              "\n",
              "    [theme=dark] .colab-df-convert {\n",
              "      background-color: #3B4455;\n",
              "      fill: #D2E3FC;\n",
              "    }\n",
              "\n",
              "    [theme=dark] .colab-df-convert:hover {\n",
              "      background-color: #434B5C;\n",
              "      box-shadow: 0px 1px 3px 1px rgba(0, 0, 0, 0.15);\n",
              "      filter: drop-shadow(0px 1px 2px rgba(0, 0, 0, 0.3));\n",
              "      fill: #FFFFFF;\n",
              "    }\n",
              "  </style>\n",
              "\n",
              "      <script>\n",
              "        const buttonEl =\n",
              "          document.querySelector('#df-65e36074-563d-4770-8587-d99598b9f08d button.colab-df-convert');\n",
              "        buttonEl.style.display =\n",
              "          google.colab.kernel.accessAllowed ? 'block' : 'none';\n",
              "\n",
              "        async function convertToInteractive(key) {\n",
              "          const element = document.querySelector('#df-65e36074-563d-4770-8587-d99598b9f08d');\n",
              "          const dataTable =\n",
              "            await google.colab.kernel.invokeFunction('convertToInteractive',\n",
              "                                                     [key], {});\n",
              "          if (!dataTable) return;\n",
              "\n",
              "          const docLinkHtml = 'Like what you see? Visit the ' +\n",
              "            '<a target=\"_blank\" href=https://colab.research.google.com/notebooks/data_table.ipynb>data table notebook</a>'\n",
              "            + ' to learn more about interactive tables.';\n",
              "          element.innerHTML = '';\n",
              "          dataTable['output_type'] = 'display_data';\n",
              "          await google.colab.output.renderOutput(dataTable, element);\n",
              "          const docLink = document.createElement('div');\n",
              "          docLink.innerHTML = docLinkHtml;\n",
              "          element.appendChild(docLink);\n",
              "        }\n",
              "      </script>\n",
              "    </div>\n",
              "  </div>\n",
              "  "
            ]
          },
          "metadata": {},
          "execution_count": 189
        }
      ]
    },
    {
      "cell_type": "markdown",
      "source": [
        "num_words=n에서 n이 작을수록 CNN  모델의 성능이 대체로 높은 편이다."
      ],
      "metadata": {
        "id": "_oyVUnJmpoRC"
      }
    },
    {
      "cell_type": "markdown",
      "source": [
        "<br/>"
      ],
      "metadata": {
        "id": "-Ozrmk2QyN21"
      }
    },
    {
      "cell_type": "markdown",
      "source": [
        "#모델 평가"
      ],
      "metadata": {
        "id": "n9MLXHudPLSv"
      }
    },
    {
      "cell_type": "markdown",
      "source": [
        "##Model Performance"
      ],
      "metadata": {
        "id": "GkFt8vbztIyK"
      }
    },
    {
      "cell_type": "code",
      "source": [
        "machinelearning_model_df_list = [mnb_df, cnb_df, lr_df, passiveagre_df, ridge_df, sgd_df,\n",
        "                 lsvc_df, rbf_svc_df, poly_svc_df, tree_df, extree_df, forest_df,\n",
        "                 adabt_df, grbt_df, xgb_df, lgbm_df, catbt_df, bagging_df, voting_df,\n",
        "                 kneigh_df, mlp_df, dummy_df]\n",
        "\n",
        "machinelearning_model_df = pd.concat(machinelearning_model_df_list, ignore_index=True)\n",
        "machinelearning_model_df_sorted = machinelearning_model_df.sort_values('Accuracy',ascending=False)\n",
        "machinelearning_model_df_sorted['Rank'] = machinelearning_model_df_sorted.reset_index().index + 1"
      ],
      "metadata": {
        "id": "h5p8VApgs8eK"
      },
      "execution_count": null,
      "outputs": []
    },
    {
      "cell_type": "markdown",
      "source": [
        "<br/>"
      ],
      "metadata": {
        "id": "lVftWNZtyNU1"
      }
    },
    {
      "cell_type": "markdown",
      "source": [
        "Top Machine Learning Algorithm"
      ],
      "metadata": {
        "id": "ebJRjN5wumi_"
      }
    },
    {
      "cell_type": "markdown",
      "source": [
        "Multiclass Text Classification Test Accuracy 기준으로 상위 20위 안에 드는 머신러닝 알고리즘이다."
      ],
      "metadata": {
        "id": "4ZiiP9AJsW4W"
      }
    },
    {
      "cell_type": "code",
      "source": [
        "machinelearning_model_df_sorted[:20]"
      ],
      "metadata": {
        "colab": {
          "base_uri": "https://localhost:8080/",
          "height": 677
        },
        "id": "hNjjS9czJSn7",
        "outputId": "4441171c-8904-436f-ec0f-832c64aee9c3"
      },
      "execution_count": null,
      "outputs": [
        {
          "output_type": "execute_result",
          "data": {
            "text/plain": [
              "                Model  Accuracy  Rank\n",
              "20           sgd_none    0.8442     1\n",
              "21          sgd_10000    0.8411     2\n",
              "23           sgd_1000    0.8406     3\n",
              "22           sgd_5000    0.8406     4\n",
              "16         ridge_none    0.8393     5\n",
              "17        ridge_10000    0.8393     6\n",
              "19         ridge_1000    0.8379     7\n",
              "18         ridge_5000    0.8379     8\n",
              "72        voting_none    0.8183     9\n",
              "74        voting_5000    0.8161    10\n",
              "75        voting_1000    0.8161    11\n",
              "12   passiveagre_none    0.8143    12\n",
              "8             lr_none    0.8134    13\n",
              "73       voting_10000    0.8121    14\n",
              "81          mlp_10000    0.8099    15\n",
              "13  passiveagre_10000    0.8077    16\n",
              "9            lr_10000    0.8077    17\n",
              "31       rbf_svc_1000    0.8068    18\n",
              "30       rbf_svc_5000    0.8068    19\n",
              "28       rbf_svc_none    0.8063    20"
            ],
            "text/html": [
              "\n",
              "  <div id=\"df-18e76d3f-a34c-492c-86eb-810b31f0e5c2\">\n",
              "    <div class=\"colab-df-container\">\n",
              "      <div>\n",
              "<style scoped>\n",
              "    .dataframe tbody tr th:only-of-type {\n",
              "        vertical-align: middle;\n",
              "    }\n",
              "\n",
              "    .dataframe tbody tr th {\n",
              "        vertical-align: top;\n",
              "    }\n",
              "\n",
              "    .dataframe thead th {\n",
              "        text-align: right;\n",
              "    }\n",
              "</style>\n",
              "<table border=\"1\" class=\"dataframe\">\n",
              "  <thead>\n",
              "    <tr style=\"text-align: right;\">\n",
              "      <th></th>\n",
              "      <th>Model</th>\n",
              "      <th>Accuracy</th>\n",
              "      <th>Rank</th>\n",
              "    </tr>\n",
              "  </thead>\n",
              "  <tbody>\n",
              "    <tr>\n",
              "      <th>20</th>\n",
              "      <td>sgd_none</td>\n",
              "      <td>0.8442</td>\n",
              "      <td>1</td>\n",
              "    </tr>\n",
              "    <tr>\n",
              "      <th>21</th>\n",
              "      <td>sgd_10000</td>\n",
              "      <td>0.8411</td>\n",
              "      <td>2</td>\n",
              "    </tr>\n",
              "    <tr>\n",
              "      <th>23</th>\n",
              "      <td>sgd_1000</td>\n",
              "      <td>0.8406</td>\n",
              "      <td>3</td>\n",
              "    </tr>\n",
              "    <tr>\n",
              "      <th>22</th>\n",
              "      <td>sgd_5000</td>\n",
              "      <td>0.8406</td>\n",
              "      <td>4</td>\n",
              "    </tr>\n",
              "    <tr>\n",
              "      <th>16</th>\n",
              "      <td>ridge_none</td>\n",
              "      <td>0.8393</td>\n",
              "      <td>5</td>\n",
              "    </tr>\n",
              "    <tr>\n",
              "      <th>17</th>\n",
              "      <td>ridge_10000</td>\n",
              "      <td>0.8393</td>\n",
              "      <td>6</td>\n",
              "    </tr>\n",
              "    <tr>\n",
              "      <th>19</th>\n",
              "      <td>ridge_1000</td>\n",
              "      <td>0.8379</td>\n",
              "      <td>7</td>\n",
              "    </tr>\n",
              "    <tr>\n",
              "      <th>18</th>\n",
              "      <td>ridge_5000</td>\n",
              "      <td>0.8379</td>\n",
              "      <td>8</td>\n",
              "    </tr>\n",
              "    <tr>\n",
              "      <th>72</th>\n",
              "      <td>voting_none</td>\n",
              "      <td>0.8183</td>\n",
              "      <td>9</td>\n",
              "    </tr>\n",
              "    <tr>\n",
              "      <th>74</th>\n",
              "      <td>voting_5000</td>\n",
              "      <td>0.8161</td>\n",
              "      <td>10</td>\n",
              "    </tr>\n",
              "    <tr>\n",
              "      <th>75</th>\n",
              "      <td>voting_1000</td>\n",
              "      <td>0.8161</td>\n",
              "      <td>11</td>\n",
              "    </tr>\n",
              "    <tr>\n",
              "      <th>12</th>\n",
              "      <td>passiveagre_none</td>\n",
              "      <td>0.8143</td>\n",
              "      <td>12</td>\n",
              "    </tr>\n",
              "    <tr>\n",
              "      <th>8</th>\n",
              "      <td>lr_none</td>\n",
              "      <td>0.8134</td>\n",
              "      <td>13</td>\n",
              "    </tr>\n",
              "    <tr>\n",
              "      <th>73</th>\n",
              "      <td>voting_10000</td>\n",
              "      <td>0.8121</td>\n",
              "      <td>14</td>\n",
              "    </tr>\n",
              "    <tr>\n",
              "      <th>81</th>\n",
              "      <td>mlp_10000</td>\n",
              "      <td>0.8099</td>\n",
              "      <td>15</td>\n",
              "    </tr>\n",
              "    <tr>\n",
              "      <th>13</th>\n",
              "      <td>passiveagre_10000</td>\n",
              "      <td>0.8077</td>\n",
              "      <td>16</td>\n",
              "    </tr>\n",
              "    <tr>\n",
              "      <th>9</th>\n",
              "      <td>lr_10000</td>\n",
              "      <td>0.8077</td>\n",
              "      <td>17</td>\n",
              "    </tr>\n",
              "    <tr>\n",
              "      <th>31</th>\n",
              "      <td>rbf_svc_1000</td>\n",
              "      <td>0.8068</td>\n",
              "      <td>18</td>\n",
              "    </tr>\n",
              "    <tr>\n",
              "      <th>30</th>\n",
              "      <td>rbf_svc_5000</td>\n",
              "      <td>0.8068</td>\n",
              "      <td>19</td>\n",
              "    </tr>\n",
              "    <tr>\n",
              "      <th>28</th>\n",
              "      <td>rbf_svc_none</td>\n",
              "      <td>0.8063</td>\n",
              "      <td>20</td>\n",
              "    </tr>\n",
              "  </tbody>\n",
              "</table>\n",
              "</div>\n",
              "      <button class=\"colab-df-convert\" onclick=\"convertToInteractive('df-18e76d3f-a34c-492c-86eb-810b31f0e5c2')\"\n",
              "              title=\"Convert this dataframe to an interactive table.\"\n",
              "              style=\"display:none;\">\n",
              "        \n",
              "  <svg xmlns=\"http://www.w3.org/2000/svg\" height=\"24px\"viewBox=\"0 0 24 24\"\n",
              "       width=\"24px\">\n",
              "    <path d=\"M0 0h24v24H0V0z\" fill=\"none\"/>\n",
              "    <path d=\"M18.56 5.44l.94 2.06.94-2.06 2.06-.94-2.06-.94-.94-2.06-.94 2.06-2.06.94zm-11 1L8.5 8.5l.94-2.06 2.06-.94-2.06-.94L8.5 2.5l-.94 2.06-2.06.94zm10 10l.94 2.06.94-2.06 2.06-.94-2.06-.94-.94-2.06-.94 2.06-2.06.94z\"/><path d=\"M17.41 7.96l-1.37-1.37c-.4-.4-.92-.59-1.43-.59-.52 0-1.04.2-1.43.59L10.3 9.45l-7.72 7.72c-.78.78-.78 2.05 0 2.83L4 21.41c.39.39.9.59 1.41.59.51 0 1.02-.2 1.41-.59l7.78-7.78 2.81-2.81c.8-.78.8-2.07 0-2.86zM5.41 20L4 18.59l7.72-7.72 1.47 1.35L5.41 20z\"/>\n",
              "  </svg>\n",
              "      </button>\n",
              "      \n",
              "  <style>\n",
              "    .colab-df-container {\n",
              "      display:flex;\n",
              "      flex-wrap:wrap;\n",
              "      gap: 12px;\n",
              "    }\n",
              "\n",
              "    .colab-df-convert {\n",
              "      background-color: #E8F0FE;\n",
              "      border: none;\n",
              "      border-radius: 50%;\n",
              "      cursor: pointer;\n",
              "      display: none;\n",
              "      fill: #1967D2;\n",
              "      height: 32px;\n",
              "      padding: 0 0 0 0;\n",
              "      width: 32px;\n",
              "    }\n",
              "\n",
              "    .colab-df-convert:hover {\n",
              "      background-color: #E2EBFA;\n",
              "      box-shadow: 0px 1px 2px rgba(60, 64, 67, 0.3), 0px 1px 3px 1px rgba(60, 64, 67, 0.15);\n",
              "      fill: #174EA6;\n",
              "    }\n",
              "\n",
              "    [theme=dark] .colab-df-convert {\n",
              "      background-color: #3B4455;\n",
              "      fill: #D2E3FC;\n",
              "    }\n",
              "\n",
              "    [theme=dark] .colab-df-convert:hover {\n",
              "      background-color: #434B5C;\n",
              "      box-shadow: 0px 1px 3px 1px rgba(0, 0, 0, 0.15);\n",
              "      filter: drop-shadow(0px 1px 2px rgba(0, 0, 0, 0.3));\n",
              "      fill: #FFFFFF;\n",
              "    }\n",
              "  </style>\n",
              "\n",
              "      <script>\n",
              "        const buttonEl =\n",
              "          document.querySelector('#df-18e76d3f-a34c-492c-86eb-810b31f0e5c2 button.colab-df-convert');\n",
              "        buttonEl.style.display =\n",
              "          google.colab.kernel.accessAllowed ? 'block' : 'none';\n",
              "\n",
              "        async function convertToInteractive(key) {\n",
              "          const element = document.querySelector('#df-18e76d3f-a34c-492c-86eb-810b31f0e5c2');\n",
              "          const dataTable =\n",
              "            await google.colab.kernel.invokeFunction('convertToInteractive',\n",
              "                                                     [key], {});\n",
              "          if (!dataTable) return;\n",
              "\n",
              "          const docLinkHtml = 'Like what you see? Visit the ' +\n",
              "            '<a target=\"_blank\" href=https://colab.research.google.com/notebooks/data_table.ipynb>data table notebook</a>'\n",
              "            + ' to learn more about interactive tables.';\n",
              "          element.innerHTML = '';\n",
              "          dataTable['output_type'] = 'display_data';\n",
              "          await google.colab.output.renderOutput(dataTable, element);\n",
              "          const docLink = document.createElement('div');\n",
              "          docLink.innerHTML = docLinkHtml;\n",
              "          element.appendChild(docLink);\n",
              "        }\n",
              "      </script>\n",
              "    </div>\n",
              "  </div>\n",
              "  "
            ]
          },
          "metadata": {},
          "execution_count": 194
        }
      ]
    },
    {
      "cell_type": "markdown",
      "source": [
        "<br/><br/>"
      ],
      "metadata": {
        "id": "9hPw-tbUu-pj"
      }
    },
    {
      "cell_type": "markdown",
      "source": [
        "Bottom Machine Learning Algorithm"
      ],
      "metadata": {
        "id": "6zL0lNGlpzun"
      }
    },
    {
      "cell_type": "markdown",
      "source": [
        "Multiclass Text Classification Test Accuracy 기준으로 하위 20위 안에 드는 머신러닝 알고리즘이다."
      ],
      "metadata": {
        "id": "Dgr7XiTisV1V"
      }
    },
    {
      "cell_type": "code",
      "source": [
        "machinelearning_model_df_sorted[-20:]"
      ],
      "metadata": {
        "colab": {
          "base_uri": "https://localhost:8080/",
          "height": 677
        },
        "id": "K3RD-O6jqz56",
        "outputId": "1480a4f3-0360-4c81-b559-e1cec69e61fe"
      },
      "execution_count": null,
      "outputs": [
        {
          "output_type": "execute_result",
          "data": {
            "text/plain": [
              "             Model  Accuracy  Rank\n",
              "38       tree_5000    0.6180    69\n",
              "64      catbt_none    0.6153    70\n",
              "65     catbt_10000    0.6086    71\n",
              "0         mnb_none    0.5997    72\n",
              "43     extree_1000    0.5632    73\n",
              "67      catbt_1000    0.5574    74\n",
              "33  poly_svc_10000    0.5516    75\n",
              "35   poly_svc_1000    0.5410    76\n",
              "34   poly_svc_5000    0.5410    77\n",
              "41    extree_10000    0.5258    78\n",
              "40     extree_none    0.4773    79\n",
              "49     adabt_10000    0.4746    80\n",
              "48      adabt_none    0.4746    81\n",
              "51      adabt_1000    0.4733    82\n",
              "50      adabt_5000    0.4733    83\n",
              "32   poly_svc_none    0.3811    84\n",
              "84      dummy_none    0.3620    85\n",
              "85     dummy_10000    0.3620    86\n",
              "86      dummy_5000    0.3620    87\n",
              "87      dummy_1000    0.3620    88"
            ],
            "text/html": [
              "\n",
              "  <div id=\"df-9ca10a9a-6cc7-4094-99b3-17df8b3a5e00\">\n",
              "    <div class=\"colab-df-container\">\n",
              "      <div>\n",
              "<style scoped>\n",
              "    .dataframe tbody tr th:only-of-type {\n",
              "        vertical-align: middle;\n",
              "    }\n",
              "\n",
              "    .dataframe tbody tr th {\n",
              "        vertical-align: top;\n",
              "    }\n",
              "\n",
              "    .dataframe thead th {\n",
              "        text-align: right;\n",
              "    }\n",
              "</style>\n",
              "<table border=\"1\" class=\"dataframe\">\n",
              "  <thead>\n",
              "    <tr style=\"text-align: right;\">\n",
              "      <th></th>\n",
              "      <th>Model</th>\n",
              "      <th>Accuracy</th>\n",
              "      <th>Rank</th>\n",
              "    </tr>\n",
              "  </thead>\n",
              "  <tbody>\n",
              "    <tr>\n",
              "      <th>38</th>\n",
              "      <td>tree_5000</td>\n",
              "      <td>0.6180</td>\n",
              "      <td>69</td>\n",
              "    </tr>\n",
              "    <tr>\n",
              "      <th>64</th>\n",
              "      <td>catbt_none</td>\n",
              "      <td>0.6153</td>\n",
              "      <td>70</td>\n",
              "    </tr>\n",
              "    <tr>\n",
              "      <th>65</th>\n",
              "      <td>catbt_10000</td>\n",
              "      <td>0.6086</td>\n",
              "      <td>71</td>\n",
              "    </tr>\n",
              "    <tr>\n",
              "      <th>0</th>\n",
              "      <td>mnb_none</td>\n",
              "      <td>0.5997</td>\n",
              "      <td>72</td>\n",
              "    </tr>\n",
              "    <tr>\n",
              "      <th>43</th>\n",
              "      <td>extree_1000</td>\n",
              "      <td>0.5632</td>\n",
              "      <td>73</td>\n",
              "    </tr>\n",
              "    <tr>\n",
              "      <th>67</th>\n",
              "      <td>catbt_1000</td>\n",
              "      <td>0.5574</td>\n",
              "      <td>74</td>\n",
              "    </tr>\n",
              "    <tr>\n",
              "      <th>33</th>\n",
              "      <td>poly_svc_10000</td>\n",
              "      <td>0.5516</td>\n",
              "      <td>75</td>\n",
              "    </tr>\n",
              "    <tr>\n",
              "      <th>35</th>\n",
              "      <td>poly_svc_1000</td>\n",
              "      <td>0.5410</td>\n",
              "      <td>76</td>\n",
              "    </tr>\n",
              "    <tr>\n",
              "      <th>34</th>\n",
              "      <td>poly_svc_5000</td>\n",
              "      <td>0.5410</td>\n",
              "      <td>77</td>\n",
              "    </tr>\n",
              "    <tr>\n",
              "      <th>41</th>\n",
              "      <td>extree_10000</td>\n",
              "      <td>0.5258</td>\n",
              "      <td>78</td>\n",
              "    </tr>\n",
              "    <tr>\n",
              "      <th>40</th>\n",
              "      <td>extree_none</td>\n",
              "      <td>0.4773</td>\n",
              "      <td>79</td>\n",
              "    </tr>\n",
              "    <tr>\n",
              "      <th>49</th>\n",
              "      <td>adabt_10000</td>\n",
              "      <td>0.4746</td>\n",
              "      <td>80</td>\n",
              "    </tr>\n",
              "    <tr>\n",
              "      <th>48</th>\n",
              "      <td>adabt_none</td>\n",
              "      <td>0.4746</td>\n",
              "      <td>81</td>\n",
              "    </tr>\n",
              "    <tr>\n",
              "      <th>51</th>\n",
              "      <td>adabt_1000</td>\n",
              "      <td>0.4733</td>\n",
              "      <td>82</td>\n",
              "    </tr>\n",
              "    <tr>\n",
              "      <th>50</th>\n",
              "      <td>adabt_5000</td>\n",
              "      <td>0.4733</td>\n",
              "      <td>83</td>\n",
              "    </tr>\n",
              "    <tr>\n",
              "      <th>32</th>\n",
              "      <td>poly_svc_none</td>\n",
              "      <td>0.3811</td>\n",
              "      <td>84</td>\n",
              "    </tr>\n",
              "    <tr>\n",
              "      <th>84</th>\n",
              "      <td>dummy_none</td>\n",
              "      <td>0.3620</td>\n",
              "      <td>85</td>\n",
              "    </tr>\n",
              "    <tr>\n",
              "      <th>85</th>\n",
              "      <td>dummy_10000</td>\n",
              "      <td>0.3620</td>\n",
              "      <td>86</td>\n",
              "    </tr>\n",
              "    <tr>\n",
              "      <th>86</th>\n",
              "      <td>dummy_5000</td>\n",
              "      <td>0.3620</td>\n",
              "      <td>87</td>\n",
              "    </tr>\n",
              "    <tr>\n",
              "      <th>87</th>\n",
              "      <td>dummy_1000</td>\n",
              "      <td>0.3620</td>\n",
              "      <td>88</td>\n",
              "    </tr>\n",
              "  </tbody>\n",
              "</table>\n",
              "</div>\n",
              "      <button class=\"colab-df-convert\" onclick=\"convertToInteractive('df-9ca10a9a-6cc7-4094-99b3-17df8b3a5e00')\"\n",
              "              title=\"Convert this dataframe to an interactive table.\"\n",
              "              style=\"display:none;\">\n",
              "        \n",
              "  <svg xmlns=\"http://www.w3.org/2000/svg\" height=\"24px\"viewBox=\"0 0 24 24\"\n",
              "       width=\"24px\">\n",
              "    <path d=\"M0 0h24v24H0V0z\" fill=\"none\"/>\n",
              "    <path d=\"M18.56 5.44l.94 2.06.94-2.06 2.06-.94-2.06-.94-.94-2.06-.94 2.06-2.06.94zm-11 1L8.5 8.5l.94-2.06 2.06-.94-2.06-.94L8.5 2.5l-.94 2.06-2.06.94zm10 10l.94 2.06.94-2.06 2.06-.94-2.06-.94-.94-2.06-.94 2.06-2.06.94z\"/><path d=\"M17.41 7.96l-1.37-1.37c-.4-.4-.92-.59-1.43-.59-.52 0-1.04.2-1.43.59L10.3 9.45l-7.72 7.72c-.78.78-.78 2.05 0 2.83L4 21.41c.39.39.9.59 1.41.59.51 0 1.02-.2 1.41-.59l7.78-7.78 2.81-2.81c.8-.78.8-2.07 0-2.86zM5.41 20L4 18.59l7.72-7.72 1.47 1.35L5.41 20z\"/>\n",
              "  </svg>\n",
              "      </button>\n",
              "      \n",
              "  <style>\n",
              "    .colab-df-container {\n",
              "      display:flex;\n",
              "      flex-wrap:wrap;\n",
              "      gap: 12px;\n",
              "    }\n",
              "\n",
              "    .colab-df-convert {\n",
              "      background-color: #E8F0FE;\n",
              "      border: none;\n",
              "      border-radius: 50%;\n",
              "      cursor: pointer;\n",
              "      display: none;\n",
              "      fill: #1967D2;\n",
              "      height: 32px;\n",
              "      padding: 0 0 0 0;\n",
              "      width: 32px;\n",
              "    }\n",
              "\n",
              "    .colab-df-convert:hover {\n",
              "      background-color: #E2EBFA;\n",
              "      box-shadow: 0px 1px 2px rgba(60, 64, 67, 0.3), 0px 1px 3px 1px rgba(60, 64, 67, 0.15);\n",
              "      fill: #174EA6;\n",
              "    }\n",
              "\n",
              "    [theme=dark] .colab-df-convert {\n",
              "      background-color: #3B4455;\n",
              "      fill: #D2E3FC;\n",
              "    }\n",
              "\n",
              "    [theme=dark] .colab-df-convert:hover {\n",
              "      background-color: #434B5C;\n",
              "      box-shadow: 0px 1px 3px 1px rgba(0, 0, 0, 0.15);\n",
              "      filter: drop-shadow(0px 1px 2px rgba(0, 0, 0, 0.3));\n",
              "      fill: #FFFFFF;\n",
              "    }\n",
              "  </style>\n",
              "\n",
              "      <script>\n",
              "        const buttonEl =\n",
              "          document.querySelector('#df-9ca10a9a-6cc7-4094-99b3-17df8b3a5e00 button.colab-df-convert');\n",
              "        buttonEl.style.display =\n",
              "          google.colab.kernel.accessAllowed ? 'block' : 'none';\n",
              "\n",
              "        async function convertToInteractive(key) {\n",
              "          const element = document.querySelector('#df-9ca10a9a-6cc7-4094-99b3-17df8b3a5e00');\n",
              "          const dataTable =\n",
              "            await google.colab.kernel.invokeFunction('convertToInteractive',\n",
              "                                                     [key], {});\n",
              "          if (!dataTable) return;\n",
              "\n",
              "          const docLinkHtml = 'Like what you see? Visit the ' +\n",
              "            '<a target=\"_blank\" href=https://colab.research.google.com/notebooks/data_table.ipynb>data table notebook</a>'\n",
              "            + ' to learn more about interactive tables.';\n",
              "          element.innerHTML = '';\n",
              "          dataTable['output_type'] = 'display_data';\n",
              "          await google.colab.output.renderOutput(dataTable, element);\n",
              "          const docLink = document.createElement('div');\n",
              "          docLink.innerHTML = docLinkHtml;\n",
              "          element.appendChild(docLink);\n",
              "        }\n",
              "      </script>\n",
              "    </div>\n",
              "  </div>\n",
              "  "
            ]
          },
          "metadata": {},
          "execution_count": 196
        }
      ]
    },
    {
      "cell_type": "markdown",
      "source": [
        "<br/><br/>"
      ],
      "metadata": {
        "id": "WVgj_kvTvAyj"
      }
    },
    {
      "cell_type": "markdown",
      "source": [
        "Deep Learning Algorithm"
      ],
      "metadata": {
        "id": "AyBTuaq-v9vH"
      }
    },
    {
      "cell_type": "code",
      "source": [
        "deeplearning_model_df_list = [dnn_df, cnn_df]\n",
        "\n",
        "deeplearning_model_df = pd.concat(deeplearning_model_df_list, ignore_index=True)\n",
        "deeplearning_model_df_sorted = deeplearning_model_df.sort_values('Accuracy',ascending=False)\n",
        "deeplearning_model_df_sorted['Rank'] = deeplearning_model_df_sorted.reset_index().index + 1\n",
        "deeplearning_model_df_sorted"
      ],
      "metadata": {
        "id": "OHH9B85BZ60h",
        "colab": {
          "base_uri": "https://localhost:8080/",
          "height": 300
        },
        "outputId": "4c39cdff-f04c-4c50-c2ff-36a528c8ff39"
      },
      "execution_count": null,
      "outputs": [
        {
          "output_type": "execute_result",
          "data": {
            "text/plain": [
              "       Model  Accuracy  Rank\n",
              "0   dnn_none    0.8161     1\n",
              "2   dnn_5000    0.8157     2\n",
              "1  dnn_10000    0.8143     3\n",
              "3   dnn_1000    0.8139     4\n",
              "6   cnn_5000    0.7440     5\n",
              "7   cnn_1000    0.7409     6\n",
              "5  cnn_10000    0.7395     7\n",
              "4   cnn_none    0.7275     8"
            ],
            "text/html": [
              "\n",
              "  <div id=\"df-8bb7f4df-5079-40fd-84c7-847e68133e17\">\n",
              "    <div class=\"colab-df-container\">\n",
              "      <div>\n",
              "<style scoped>\n",
              "    .dataframe tbody tr th:only-of-type {\n",
              "        vertical-align: middle;\n",
              "    }\n",
              "\n",
              "    .dataframe tbody tr th {\n",
              "        vertical-align: top;\n",
              "    }\n",
              "\n",
              "    .dataframe thead th {\n",
              "        text-align: right;\n",
              "    }\n",
              "</style>\n",
              "<table border=\"1\" class=\"dataframe\">\n",
              "  <thead>\n",
              "    <tr style=\"text-align: right;\">\n",
              "      <th></th>\n",
              "      <th>Model</th>\n",
              "      <th>Accuracy</th>\n",
              "      <th>Rank</th>\n",
              "    </tr>\n",
              "  </thead>\n",
              "  <tbody>\n",
              "    <tr>\n",
              "      <th>0</th>\n",
              "      <td>dnn_none</td>\n",
              "      <td>0.8161</td>\n",
              "      <td>1</td>\n",
              "    </tr>\n",
              "    <tr>\n",
              "      <th>2</th>\n",
              "      <td>dnn_5000</td>\n",
              "      <td>0.8157</td>\n",
              "      <td>2</td>\n",
              "    </tr>\n",
              "    <tr>\n",
              "      <th>1</th>\n",
              "      <td>dnn_10000</td>\n",
              "      <td>0.8143</td>\n",
              "      <td>3</td>\n",
              "    </tr>\n",
              "    <tr>\n",
              "      <th>3</th>\n",
              "      <td>dnn_1000</td>\n",
              "      <td>0.8139</td>\n",
              "      <td>4</td>\n",
              "    </tr>\n",
              "    <tr>\n",
              "      <th>6</th>\n",
              "      <td>cnn_5000</td>\n",
              "      <td>0.7440</td>\n",
              "      <td>5</td>\n",
              "    </tr>\n",
              "    <tr>\n",
              "      <th>7</th>\n",
              "      <td>cnn_1000</td>\n",
              "      <td>0.7409</td>\n",
              "      <td>6</td>\n",
              "    </tr>\n",
              "    <tr>\n",
              "      <th>5</th>\n",
              "      <td>cnn_10000</td>\n",
              "      <td>0.7395</td>\n",
              "      <td>7</td>\n",
              "    </tr>\n",
              "    <tr>\n",
              "      <th>4</th>\n",
              "      <td>cnn_none</td>\n",
              "      <td>0.7275</td>\n",
              "      <td>8</td>\n",
              "    </tr>\n",
              "  </tbody>\n",
              "</table>\n",
              "</div>\n",
              "      <button class=\"colab-df-convert\" onclick=\"convertToInteractive('df-8bb7f4df-5079-40fd-84c7-847e68133e17')\"\n",
              "              title=\"Convert this dataframe to an interactive table.\"\n",
              "              style=\"display:none;\">\n",
              "        \n",
              "  <svg xmlns=\"http://www.w3.org/2000/svg\" height=\"24px\"viewBox=\"0 0 24 24\"\n",
              "       width=\"24px\">\n",
              "    <path d=\"M0 0h24v24H0V0z\" fill=\"none\"/>\n",
              "    <path d=\"M18.56 5.44l.94 2.06.94-2.06 2.06-.94-2.06-.94-.94-2.06-.94 2.06-2.06.94zm-11 1L8.5 8.5l.94-2.06 2.06-.94-2.06-.94L8.5 2.5l-.94 2.06-2.06.94zm10 10l.94 2.06.94-2.06 2.06-.94-2.06-.94-.94-2.06-.94 2.06-2.06.94z\"/><path d=\"M17.41 7.96l-1.37-1.37c-.4-.4-.92-.59-1.43-.59-.52 0-1.04.2-1.43.59L10.3 9.45l-7.72 7.72c-.78.78-.78 2.05 0 2.83L4 21.41c.39.39.9.59 1.41.59.51 0 1.02-.2 1.41-.59l7.78-7.78 2.81-2.81c.8-.78.8-2.07 0-2.86zM5.41 20L4 18.59l7.72-7.72 1.47 1.35L5.41 20z\"/>\n",
              "  </svg>\n",
              "      </button>\n",
              "      \n",
              "  <style>\n",
              "    .colab-df-container {\n",
              "      display:flex;\n",
              "      flex-wrap:wrap;\n",
              "      gap: 12px;\n",
              "    }\n",
              "\n",
              "    .colab-df-convert {\n",
              "      background-color: #E8F0FE;\n",
              "      border: none;\n",
              "      border-radius: 50%;\n",
              "      cursor: pointer;\n",
              "      display: none;\n",
              "      fill: #1967D2;\n",
              "      height: 32px;\n",
              "      padding: 0 0 0 0;\n",
              "      width: 32px;\n",
              "    }\n",
              "\n",
              "    .colab-df-convert:hover {\n",
              "      background-color: #E2EBFA;\n",
              "      box-shadow: 0px 1px 2px rgba(60, 64, 67, 0.3), 0px 1px 3px 1px rgba(60, 64, 67, 0.15);\n",
              "      fill: #174EA6;\n",
              "    }\n",
              "\n",
              "    [theme=dark] .colab-df-convert {\n",
              "      background-color: #3B4455;\n",
              "      fill: #D2E3FC;\n",
              "    }\n",
              "\n",
              "    [theme=dark] .colab-df-convert:hover {\n",
              "      background-color: #434B5C;\n",
              "      box-shadow: 0px 1px 3px 1px rgba(0, 0, 0, 0.15);\n",
              "      filter: drop-shadow(0px 1px 2px rgba(0, 0, 0, 0.3));\n",
              "      fill: #FFFFFF;\n",
              "    }\n",
              "  </style>\n",
              "\n",
              "      <script>\n",
              "        const buttonEl =\n",
              "          document.querySelector('#df-8bb7f4df-5079-40fd-84c7-847e68133e17 button.colab-df-convert');\n",
              "        buttonEl.style.display =\n",
              "          google.colab.kernel.accessAllowed ? 'block' : 'none';\n",
              "\n",
              "        async function convertToInteractive(key) {\n",
              "          const element = document.querySelector('#df-8bb7f4df-5079-40fd-84c7-847e68133e17');\n",
              "          const dataTable =\n",
              "            await google.colab.kernel.invokeFunction('convertToInteractive',\n",
              "                                                     [key], {});\n",
              "          if (!dataTable) return;\n",
              "\n",
              "          const docLinkHtml = 'Like what you see? Visit the ' +\n",
              "            '<a target=\"_blank\" href=https://colab.research.google.com/notebooks/data_table.ipynb>data table notebook</a>'\n",
              "            + ' to learn more about interactive tables.';\n",
              "          element.innerHTML = '';\n",
              "          dataTable['output_type'] = 'display_data';\n",
              "          await google.colab.output.renderOutput(dataTable, element);\n",
              "          const docLink = document.createElement('div');\n",
              "          docLink.innerHTML = docLinkHtml;\n",
              "          element.appendChild(docLink);\n",
              "        }\n",
              "      </script>\n",
              "    </div>\n",
              "  </div>\n",
              "  "
            ]
          },
          "metadata": {},
          "execution_count": 195
        }
      ]
    },
    {
      "cell_type": "markdown",
      "source": [
        "<br/><br/>"
      ],
      "metadata": {
        "id": "uF7H_VWtvBlM"
      }
    },
    {
      "cell_type": "markdown",
      "source": [
        "Deep Learning Algorithm Rank in Maching Learning Algorithm"
      ],
      "metadata": {
        "id": "eNqMjyu34Vmn"
      }
    },
    {
      "cell_type": "code",
      "source": [
        "model_df = pd.concat([machinelearning_model_df_sorted, deeplearning_model_df_sorted])\n",
        "model_df_sorted = model_df.sort_values('Accuracy',ascending=False)\n",
        "model_df_sorted['Rank'] = model_df_sorted.reset_index().index + 1\n",
        "dnn_model_df_sorted = model_df_sorted[model_df_sorted['Model'].str.contains('dnn')]\n",
        "cnn_model_df_sorted = model_df_sorted[model_df_sorted['Model'].str.contains('cnn')]\n",
        "deep_learning_model_df_sorted2 = pd.concat([dnn_model_df_sorted, cnn_model_df_sorted])\n",
        "deep_learning_model_df_sorted2 = deep_learning_model_df_sorted2.sort_values('Accuracy',ascending=False)\n",
        "deep_learning_model_df_sorted2"
      ],
      "metadata": {
        "colab": {
          "base_uri": "https://localhost:8080/",
          "height": 300
        },
        "id": "9yNVT6Wz2oVm",
        "outputId": "a0f22f2a-ea0a-493e-8864-5d6b29ced3ec"
      },
      "execution_count": null,
      "outputs": [
        {
          "output_type": "execute_result",
          "data": {
            "text/plain": [
              "       Model  Accuracy  Rank\n",
              "0   dnn_none    0.8161    10\n",
              "2   dnn_5000    0.8157    13\n",
              "1  dnn_10000    0.8143    15\n",
              "3   dnn_1000    0.8139    16\n",
              "6   cnn_5000    0.7440    54\n",
              "7   cnn_1000    0.7409    55\n",
              "5  cnn_10000    0.7395    56\n",
              "4   cnn_none    0.7275    57"
            ],
            "text/html": [
              "\n",
              "  <div id=\"df-a70a9b9e-72b5-45bb-a00d-cc4d9c7e1ba5\">\n",
              "    <div class=\"colab-df-container\">\n",
              "      <div>\n",
              "<style scoped>\n",
              "    .dataframe tbody tr th:only-of-type {\n",
              "        vertical-align: middle;\n",
              "    }\n",
              "\n",
              "    .dataframe tbody tr th {\n",
              "        vertical-align: top;\n",
              "    }\n",
              "\n",
              "    .dataframe thead th {\n",
              "        text-align: right;\n",
              "    }\n",
              "</style>\n",
              "<table border=\"1\" class=\"dataframe\">\n",
              "  <thead>\n",
              "    <tr style=\"text-align: right;\">\n",
              "      <th></th>\n",
              "      <th>Model</th>\n",
              "      <th>Accuracy</th>\n",
              "      <th>Rank</th>\n",
              "    </tr>\n",
              "  </thead>\n",
              "  <tbody>\n",
              "    <tr>\n",
              "      <th>0</th>\n",
              "      <td>dnn_none</td>\n",
              "      <td>0.8161</td>\n",
              "      <td>10</td>\n",
              "    </tr>\n",
              "    <tr>\n",
              "      <th>2</th>\n",
              "      <td>dnn_5000</td>\n",
              "      <td>0.8157</td>\n",
              "      <td>13</td>\n",
              "    </tr>\n",
              "    <tr>\n",
              "      <th>1</th>\n",
              "      <td>dnn_10000</td>\n",
              "      <td>0.8143</td>\n",
              "      <td>15</td>\n",
              "    </tr>\n",
              "    <tr>\n",
              "      <th>3</th>\n",
              "      <td>dnn_1000</td>\n",
              "      <td>0.8139</td>\n",
              "      <td>16</td>\n",
              "    </tr>\n",
              "    <tr>\n",
              "      <th>6</th>\n",
              "      <td>cnn_5000</td>\n",
              "      <td>0.7440</td>\n",
              "      <td>54</td>\n",
              "    </tr>\n",
              "    <tr>\n",
              "      <th>7</th>\n",
              "      <td>cnn_1000</td>\n",
              "      <td>0.7409</td>\n",
              "      <td>55</td>\n",
              "    </tr>\n",
              "    <tr>\n",
              "      <th>5</th>\n",
              "      <td>cnn_10000</td>\n",
              "      <td>0.7395</td>\n",
              "      <td>56</td>\n",
              "    </tr>\n",
              "    <tr>\n",
              "      <th>4</th>\n",
              "      <td>cnn_none</td>\n",
              "      <td>0.7275</td>\n",
              "      <td>57</td>\n",
              "    </tr>\n",
              "  </tbody>\n",
              "</table>\n",
              "</div>\n",
              "      <button class=\"colab-df-convert\" onclick=\"convertToInteractive('df-a70a9b9e-72b5-45bb-a00d-cc4d9c7e1ba5')\"\n",
              "              title=\"Convert this dataframe to an interactive table.\"\n",
              "              style=\"display:none;\">\n",
              "        \n",
              "  <svg xmlns=\"http://www.w3.org/2000/svg\" height=\"24px\"viewBox=\"0 0 24 24\"\n",
              "       width=\"24px\">\n",
              "    <path d=\"M0 0h24v24H0V0z\" fill=\"none\"/>\n",
              "    <path d=\"M18.56 5.44l.94 2.06.94-2.06 2.06-.94-2.06-.94-.94-2.06-.94 2.06-2.06.94zm-11 1L8.5 8.5l.94-2.06 2.06-.94-2.06-.94L8.5 2.5l-.94 2.06-2.06.94zm10 10l.94 2.06.94-2.06 2.06-.94-2.06-.94-.94-2.06-.94 2.06-2.06.94z\"/><path d=\"M17.41 7.96l-1.37-1.37c-.4-.4-.92-.59-1.43-.59-.52 0-1.04.2-1.43.59L10.3 9.45l-7.72 7.72c-.78.78-.78 2.05 0 2.83L4 21.41c.39.39.9.59 1.41.59.51 0 1.02-.2 1.41-.59l7.78-7.78 2.81-2.81c.8-.78.8-2.07 0-2.86zM5.41 20L4 18.59l7.72-7.72 1.47 1.35L5.41 20z\"/>\n",
              "  </svg>\n",
              "      </button>\n",
              "      \n",
              "  <style>\n",
              "    .colab-df-container {\n",
              "      display:flex;\n",
              "      flex-wrap:wrap;\n",
              "      gap: 12px;\n",
              "    }\n",
              "\n",
              "    .colab-df-convert {\n",
              "      background-color: #E8F0FE;\n",
              "      border: none;\n",
              "      border-radius: 50%;\n",
              "      cursor: pointer;\n",
              "      display: none;\n",
              "      fill: #1967D2;\n",
              "      height: 32px;\n",
              "      padding: 0 0 0 0;\n",
              "      width: 32px;\n",
              "    }\n",
              "\n",
              "    .colab-df-convert:hover {\n",
              "      background-color: #E2EBFA;\n",
              "      box-shadow: 0px 1px 2px rgba(60, 64, 67, 0.3), 0px 1px 3px 1px rgba(60, 64, 67, 0.15);\n",
              "      fill: #174EA6;\n",
              "    }\n",
              "\n",
              "    [theme=dark] .colab-df-convert {\n",
              "      background-color: #3B4455;\n",
              "      fill: #D2E3FC;\n",
              "    }\n",
              "\n",
              "    [theme=dark] .colab-df-convert:hover {\n",
              "      background-color: #434B5C;\n",
              "      box-shadow: 0px 1px 3px 1px rgba(0, 0, 0, 0.15);\n",
              "      filter: drop-shadow(0px 1px 2px rgba(0, 0, 0, 0.3));\n",
              "      fill: #FFFFFF;\n",
              "    }\n",
              "  </style>\n",
              "\n",
              "      <script>\n",
              "        const buttonEl =\n",
              "          document.querySelector('#df-a70a9b9e-72b5-45bb-a00d-cc4d9c7e1ba5 button.colab-df-convert');\n",
              "        buttonEl.style.display =\n",
              "          google.colab.kernel.accessAllowed ? 'block' : 'none';\n",
              "\n",
              "        async function convertToInteractive(key) {\n",
              "          const element = document.querySelector('#df-a70a9b9e-72b5-45bb-a00d-cc4d9c7e1ba5');\n",
              "          const dataTable =\n",
              "            await google.colab.kernel.invokeFunction('convertToInteractive',\n",
              "                                                     [key], {});\n",
              "          if (!dataTable) return;\n",
              "\n",
              "          const docLinkHtml = 'Like what you see? Visit the ' +\n",
              "            '<a target=\"_blank\" href=https://colab.research.google.com/notebooks/data_table.ipynb>data table notebook</a>'\n",
              "            + ' to learn more about interactive tables.';\n",
              "          element.innerHTML = '';\n",
              "          dataTable['output_type'] = 'display_data';\n",
              "          await google.colab.output.renderOutput(dataTable, element);\n",
              "          const docLink = document.createElement('div');\n",
              "          docLink.innerHTML = docLinkHtml;\n",
              "          element.appendChild(docLink);\n",
              "        }\n",
              "      </script>\n",
              "    </div>\n",
              "  </div>\n",
              "  "
            ]
          },
          "metadata": {},
          "execution_count": 222
        }
      ]
    },
    {
      "cell_type": "markdown",
      "source": [
        "머신러닝 알고리즘 정확도와 딥러닝 알고리즘 정확도 데이터프레임을 병합한다.\n",
        "<br/>데이터프레임의 Rank는 Multiclass Text Classification Test Accuracy를 기준으로 한다.\n",
        "<br/>그 중에서 DNN과 CNN 모델의 성능 순위가 어떻게 되는지 파악한다."
      ],
      "metadata": {
        "id": "k7XdbHU34vSI"
      }
    },
    {
      "cell_type": "markdown",
      "source": [
        "DNN 모델의 성능은 Maching Learning Algorithm 사이에서 10위권(80%대)이다.\n",
        "<br/>CNN 모델의 성능은 Maching Learning Algorithm 사이에서 50위권(70%대)이다."
      ],
      "metadata": {
        "id": "ExC6pMFz5kdn"
      }
    },
    {
      "cell_type": "markdown",
      "source": [
        "<br/>"
      ],
      "metadata": {
        "id": "Ym_YpFELyD7w"
      }
    },
    {
      "cell_type": "markdown",
      "source": [
        "##Vocabulary Size"
      ],
      "metadata": {
        "id": "t5Nrr8wTtGB4"
      }
    },
    {
      "cell_type": "code",
      "source": [
        "none_accuracy_list = [none_mnb_accuracy, none_cnb_accuracy, none_lr_accuracy, \n",
        "                        none_passiveagre_accuracy, none_ridge_accuracy, none_sgd_accuracy,\n",
        "                 none_lsvc_accuracy, none_rbf_svc_accuracy, none_poly_svc_accuracy,  \n",
        "                 none_tree_accuracy,none_extree_accuracy, none_forest_accuracy,\n",
        "                 none_adabt_accuracy, none_grbt_accuracy, \n",
        "                 none_xgb_accuracy, none_lgbm_accuracy, none_catbt_accuracy,\n",
        "                 none_bagging_accuracy, none_voting_accuracy,\n",
        "                 none_kneigh_accuracy, none_mlp_accuracy, none_dummy_accuracy]\n",
        "\n",
        "ten_accuracy_list = [ten_mnb_accuracy, ten_cnb_accuracy, ten_lr_accuracy, \n",
        "                        ten_passiveagre_accuracy, ten_ridge_accuracy, ten_sgd_accuracy,\n",
        "                 ten_lsvc_accuracy, ten_rbf_svc_accuracy, ten_poly_svc_accuracy,  \n",
        "                 ten_tree_accuracy,ten_extree_accuracy, ten_forest_accuracy,\n",
        "                 ten_adabt_accuracy, ten_grbt_accuracy, \n",
        "                 ten_xgb_accuracy, ten_lgbm_accuracy, ten_catbt_accuracy,\n",
        "                 ten_bagging_accuracy, ten_voting_accuracy,\n",
        "                 ten_kneigh_accuracy, ten_mlp_accuracy, ten_dummy_accuracy]\n",
        "\n",
        "five_accuracy_list = [five_mnb_accuracy, five_cnb_accuracy, five_lr_accuracy, \n",
        "                        five_passiveagre_accuracy, five_ridge_accuracy, five_sgd_accuracy,\n",
        "                 five_lsvc_accuracy, five_rbf_svc_accuracy, five_poly_svc_accuracy,  \n",
        "                 five_tree_accuracy,five_extree_accuracy, five_forest_accuracy,\n",
        "                 five_adabt_accuracy, five_grbt_accuracy,\n",
        "                 five_xgb_accuracy, five_lgbm_accuracy, five_catbt_accuracy,\n",
        "                 five_bagging_accuracy, five_voting_accuracy,\n",
        "                 five_kneigh_accuracy, five_mlp_accuracy, five_dummy_accuracy]\n",
        "\n",
        "one_accuracy_list = [one_mnb_accuracy, one_cnb_accuracy, one_lr_accuracy, \n",
        "                        one_passiveagre_accuracy, one_ridge_accuracy, one_sgd_accuracy,\n",
        "                 one_lsvc_accuracy, one_rbf_svc_accuracy, one_poly_svc_accuracy,  \n",
        "                 one_tree_accuracy,one_extree_accuracy, one_forest_accuracy,\n",
        "                 one_adabt_accuracy, one_grbt_accuracy, \n",
        "                 one_xgb_accuracy, one_lgbm_accuracy, one_catbt_accuracy,\n",
        "                 one_bagging_accuracy, one_voting_accuracy,\n",
        "                 one_kneigh_accuracy, one_mlp_accuracy, one_dummy_accuracy]"
      ],
      "metadata": {
        "id": "It9d8Jq4JuGv"
      },
      "execution_count": null,
      "outputs": []
    },
    {
      "cell_type": "code",
      "source": [
        "none_accuracy_avg = np.mean(none_accuracy_list)\n",
        "ten_accuracy_avg = np.mean(ten_accuracy_list)\n",
        "five_accuracy_avg = np.mean(five_accuracy_list)\n",
        "one_accuracy_avg = np.mean(one_accuracy_list)\n",
        "\n",
        "vocab_size_comparison = [round(none_accuracy_avg, 4), round(ten_accuracy_avg, 4),\n",
        "                        round(five_accuracy_avg, 4), round(one_accuracy_avg, 4)]\n",
        "\n",
        "\n",
        "vocab_size = ['none', '10000', '5000', '1000']\n",
        "\n",
        "vocab_size_df = pd.DataFrame({\"num_words = n\": vocab_size,\n",
        "                  \"Accuracy\":vocab_size_comparison})\n",
        "vocab_size_df_sorted = vocab_size_df.sort_values('Accuracy',ascending=False)\n",
        "vocab_size_df_sorted"
      ],
      "metadata": {
        "id": "sQIUAht4Z7Aj",
        "colab": {
          "base_uri": "https://localhost:8080/",
          "height": 175
        },
        "outputId": "6f9c85f2-ef91-493c-d645-2bd43ed4322c"
      },
      "execution_count": null,
      "outputs": [
        {
          "output_type": "execute_result",
          "data": {
            "text/plain": [
              "  num_words = n  Accuracy\n",
              "2          5000    0.7168\n",
              "3          1000    0.7023\n",
              "1         10000    0.7014\n",
              "0          none    0.6883"
            ],
            "text/html": [
              "\n",
              "  <div id=\"df-f8dbaef1-b0ea-4adc-849a-235ffaf47714\">\n",
              "    <div class=\"colab-df-container\">\n",
              "      <div>\n",
              "<style scoped>\n",
              "    .dataframe tbody tr th:only-of-type {\n",
              "        vertical-align: middle;\n",
              "    }\n",
              "\n",
              "    .dataframe tbody tr th {\n",
              "        vertical-align: top;\n",
              "    }\n",
              "\n",
              "    .dataframe thead th {\n",
              "        text-align: right;\n",
              "    }\n",
              "</style>\n",
              "<table border=\"1\" class=\"dataframe\">\n",
              "  <thead>\n",
              "    <tr style=\"text-align: right;\">\n",
              "      <th></th>\n",
              "      <th>num_words = n</th>\n",
              "      <th>Accuracy</th>\n",
              "    </tr>\n",
              "  </thead>\n",
              "  <tbody>\n",
              "    <tr>\n",
              "      <th>2</th>\n",
              "      <td>5000</td>\n",
              "      <td>0.7168</td>\n",
              "    </tr>\n",
              "    <tr>\n",
              "      <th>3</th>\n",
              "      <td>1000</td>\n",
              "      <td>0.7023</td>\n",
              "    </tr>\n",
              "    <tr>\n",
              "      <th>1</th>\n",
              "      <td>10000</td>\n",
              "      <td>0.7014</td>\n",
              "    </tr>\n",
              "    <tr>\n",
              "      <th>0</th>\n",
              "      <td>none</td>\n",
              "      <td>0.6883</td>\n",
              "    </tr>\n",
              "  </tbody>\n",
              "</table>\n",
              "</div>\n",
              "      <button class=\"colab-df-convert\" onclick=\"convertToInteractive('df-f8dbaef1-b0ea-4adc-849a-235ffaf47714')\"\n",
              "              title=\"Convert this dataframe to an interactive table.\"\n",
              "              style=\"display:none;\">\n",
              "        \n",
              "  <svg xmlns=\"http://www.w3.org/2000/svg\" height=\"24px\"viewBox=\"0 0 24 24\"\n",
              "       width=\"24px\">\n",
              "    <path d=\"M0 0h24v24H0V0z\" fill=\"none\"/>\n",
              "    <path d=\"M18.56 5.44l.94 2.06.94-2.06 2.06-.94-2.06-.94-.94-2.06-.94 2.06-2.06.94zm-11 1L8.5 8.5l.94-2.06 2.06-.94-2.06-.94L8.5 2.5l-.94 2.06-2.06.94zm10 10l.94 2.06.94-2.06 2.06-.94-2.06-.94-.94-2.06-.94 2.06-2.06.94z\"/><path d=\"M17.41 7.96l-1.37-1.37c-.4-.4-.92-.59-1.43-.59-.52 0-1.04.2-1.43.59L10.3 9.45l-7.72 7.72c-.78.78-.78 2.05 0 2.83L4 21.41c.39.39.9.59 1.41.59.51 0 1.02-.2 1.41-.59l7.78-7.78 2.81-2.81c.8-.78.8-2.07 0-2.86zM5.41 20L4 18.59l7.72-7.72 1.47 1.35L5.41 20z\"/>\n",
              "  </svg>\n",
              "      </button>\n",
              "      \n",
              "  <style>\n",
              "    .colab-df-container {\n",
              "      display:flex;\n",
              "      flex-wrap:wrap;\n",
              "      gap: 12px;\n",
              "    }\n",
              "\n",
              "    .colab-df-convert {\n",
              "      background-color: #E8F0FE;\n",
              "      border: none;\n",
              "      border-radius: 50%;\n",
              "      cursor: pointer;\n",
              "      display: none;\n",
              "      fill: #1967D2;\n",
              "      height: 32px;\n",
              "      padding: 0 0 0 0;\n",
              "      width: 32px;\n",
              "    }\n",
              "\n",
              "    .colab-df-convert:hover {\n",
              "      background-color: #E2EBFA;\n",
              "      box-shadow: 0px 1px 2px rgba(60, 64, 67, 0.3), 0px 1px 3px 1px rgba(60, 64, 67, 0.15);\n",
              "      fill: #174EA6;\n",
              "    }\n",
              "\n",
              "    [theme=dark] .colab-df-convert {\n",
              "      background-color: #3B4455;\n",
              "      fill: #D2E3FC;\n",
              "    }\n",
              "\n",
              "    [theme=dark] .colab-df-convert:hover {\n",
              "      background-color: #434B5C;\n",
              "      box-shadow: 0px 1px 3px 1px rgba(0, 0, 0, 0.15);\n",
              "      filter: drop-shadow(0px 1px 2px rgba(0, 0, 0, 0.3));\n",
              "      fill: #FFFFFF;\n",
              "    }\n",
              "  </style>\n",
              "\n",
              "      <script>\n",
              "        const buttonEl =\n",
              "          document.querySelector('#df-f8dbaef1-b0ea-4adc-849a-235ffaf47714 button.colab-df-convert');\n",
              "        buttonEl.style.display =\n",
              "          google.colab.kernel.accessAllowed ? 'block' : 'none';\n",
              "\n",
              "        async function convertToInteractive(key) {\n",
              "          const element = document.querySelector('#df-f8dbaef1-b0ea-4adc-849a-235ffaf47714');\n",
              "          const dataTable =\n",
              "            await google.colab.kernel.invokeFunction('convertToInteractive',\n",
              "                                                     [key], {});\n",
              "          if (!dataTable) return;\n",
              "\n",
              "          const docLinkHtml = 'Like what you see? Visit the ' +\n",
              "            '<a target=\"_blank\" href=https://colab.research.google.com/notebooks/data_table.ipynb>data table notebook</a>'\n",
              "            + ' to learn more about interactive tables.';\n",
              "          element.innerHTML = '';\n",
              "          dataTable['output_type'] = 'display_data';\n",
              "          await google.colab.output.renderOutput(dataTable, element);\n",
              "          const docLink = document.createElement('div');\n",
              "          docLink.innerHTML = docLinkHtml;\n",
              "          element.appendChild(docLink);\n",
              "        }\n",
              "      </script>\n",
              "    </div>\n",
              "  </div>\n",
              "  "
            ]
          },
          "metadata": {},
          "execution_count": 202
        }
      ]
    },
    {
      "cell_type": "markdown",
      "source": [
        "빈도수 상위 5000개, 1000개, 10000개, 모든 단어의 데이터를 사용한 모델 순으로 성능이 높다."
      ],
      "metadata": {
        "id": "Xd1X2EMKqZ_D"
      }
    },
    {
      "cell_type": "markdown",
      "source": [
        "<br/>"
      ],
      "metadata": {
        "id": "WpCC6U3Wx-E0"
      }
    },
    {
      "cell_type": "markdown",
      "source": [
        "#결론"
      ],
      "metadata": {
        "id": "QPd-wvhtxJco"
      }
    },
    {
      "cell_type": "markdown",
      "source": [
        "**머신 러닝 알고리즘**"
      ],
      "metadata": {
        "id": "jnsCGECR6bq3"
      }
    },
    {
      "cell_type": "markdown",
      "source": [
        "[scikit-learn 1.1.1](https://scikit-learn.org/stable/modules/classes.html)에서 제공하는 머신러닝 다중 분류 알고리즘을 사용하는 것이 이번 프로젝트의 목표이다.\n",
        "<br/>로이터 뉴스 데이터에는 다중 분류 알고리즘을 사용하는 것이 적절하다."
      ],
      "metadata": {
        "id": "X0GxysC_6c_g"
      }
    },
    {
      "cell_type": "markdown",
      "source": [
        "<br/>"
      ],
      "metadata": {
        "id": "RI-EHsWqvHza"
      }
    },
    {
      "cell_type": "markdown",
      "source": [
        "모델 구현에 실패한 다중 분류 알고리즘"
      ],
      "metadata": {
        "id": "pR90d-2I-7Fx"
      }
    },
    {
      "cell_type": "markdown",
      "source": [
        "실패 원인 &emsp;&emsp;&emsp;&ensp; |&emsp;모델\n",
        "<br/>오랜 작업시간 &emsp;&ensp; |&emsp;StackingClassifier, HistGradientBoostingClassifier, GaussianProcessClassifier\n",
        "<br/>메모리 용량&emsp;&emsp;&ensp;&nbsp; |&emsp;AdalineSGDClassifer\n",
        "<br/>데이터 전처리&emsp;&emsp;|&emsp;RadiusNeighborsClassifier, NuSVC\n",
        "<br/>낮은 성능&emsp;&emsp;&emsp;&emsp;|&emsp;AdalineGDClassifer"
      ],
      "metadata": {
        "id": "vrKUnLJ0_AdM"
      }
    },
    {
      "cell_type": "markdown",
      "source": [
        "사이킷런 라이브러리 공부의 깊이가 더 깊어지면 모델 구현의 실패 원인을 해결하여 다중 분류 알고리즘을 작동시킨다."
      ],
      "metadata": {
        "id": "bcGuyiIIqZk1"
      }
    },
    {
      "cell_type": "markdown",
      "source": [
        "<br/>"
      ],
      "metadata": {
        "id": "a0m6oKxrvHaV"
      }
    },
    {
      "cell_type": "markdown",
      "source": [
        "다음에 구현하고 싶은 다중 분류 알고리즘"
      ],
      "metadata": {
        "id": "px2O2Rmd_Afp"
      }
    },
    {
      "cell_type": "markdown",
      "source": [
        "유형&emsp;&emsp;&emsp;&emsp;&emsp;&emsp;&nbsp;|&emsp;모델\n",
        "<br/>Cross Validation&emsp; |&emsp;KFold, LeaveOneOut, ShuffleSplit\n",
        "<br/>Grid Search&emsp;&emsp;&emsp;&nbsp;|&emsp;GridSearchCV, RandomizedSearchCV\n",
        "<br/>Pipeline&emsp;&emsp;&emsp;&emsp;&ensp; |&emsp;Pipeline, Make_pipeline\n",
        "<br/>AutoML&emsp;&emsp;&emsp;&emsp;&ensp; |&emsp;PyCaret\n",
        "<br/>etc &emsp;&emsp;&emsp;&emsp;&emsp;&emsp;&ensp; |&emsp;BaseEstimator, ClassifierMixin, CalibratedClassifierCV, IsolationForest\n",
        "<br/>&emsp;&emsp;&emsp;&emsp;&emsp;&emsp;&emsp;&emsp; |&emsp;OneVsRestClassifier, ClassifierChain, MultiOutputClassifier, SelfTrainingClassifier\n",
        "<br/>Visualization&emsp;&emsp;&ensp;&nbsp;|&emsp;ROC Curve, PR Curve, AUC"
      ],
      "metadata": {
        "id": "SW_FuXmj_3lV"
      }
    },
    {
      "cell_type": "markdown",
      "source": [
        "사이킷런 라이브러리 공부의 깊이가 더 깊어지면 다음에 구현하고 싶은 다중 분류  알고리즘이 있다.\n",
        "<br/>Multiclass_TextClassification_Sklearn.ipynb라는 파일 이름으로 깃허브에 코드를 올릴 예정이다."
      ],
      "metadata": {
        "id": "kfCddxnu_BjU"
      }
    },
    {
      "cell_type": "markdown",
      "source": [
        "<br/>"
      ],
      "metadata": {
        "id": "PvBy9BuVAT9e"
      }
    },
    {
      "cell_type": "markdown",
      "source": [
        "Top Machine Learning Algorithm"
      ],
      "metadata": {
        "id": "9BErQjhHxJia"
      }
    },
    {
      "cell_type": "markdown",
      "source": [
        "Linear classifier &emsp;&emsp;&emsp;&ensp;&ensp;&nbsp;&nbsp; | &ensp;SGD Classifier, Ridge Classifier, Passive Aggressive Classifier, Logistic Regression\n",
        "<br/>Ensemble Method &emsp;&emsp;&emsp;&nbsp; | &ensp;Voting Classifier\n",
        "<br/>Neural network model &emsp;&ensp; | &ensp;MLP Classifier\n",
        "<br/>Support Vector Machine &emsp;| &ensp;Radial Basis Function SVC"
      ],
      "metadata": {
        "id": "rf32yXoXwYBo"
      }
    },
    {
      "cell_type": "markdown",
      "source": [
        "Multiclass Text Classification Test Accuracy 기준으로 상위 20위 안에 드는 머신러닝 알고리즘이다."
      ],
      "metadata": {
        "id": "PsWO9yfuq69e"
      }
    },
    {
      "cell_type": "markdown",
      "source": [
        "<br/>"
      ],
      "metadata": {
        "id": "1uLb_LmIvJPB"
      }
    },
    {
      "cell_type": "markdown",
      "source": [
        "Bottom Machine Learning Algorithm"
      ],
      "metadata": {
        "id": "X9YQnaf4weQe"
      }
    },
    {
      "cell_type": "markdown",
      "source": [
        "Dummy Classifier\n",
        "<br/>Support Vector Machine &emsp; | &ensp;Polynomial SVC\n",
        "<br/>Ensemble Method &emsp;&emsp;&emsp;&emsp;| &ensp;AdaBoost Classifier, CatBoost Classifier\n",
        "<br/>Decision Tree &emsp;&emsp;&emsp;&emsp;&emsp;&emsp;| &ensp;Decision Tree Classifier, ExtraTrees Classifier\n",
        "<br/>Naive Bayes Classifier&emsp;&emsp;&ensp; | &ensp;Multinomial Naive Bayes Classifier(MNB)"
      ],
      "metadata": {
        "id": "gT9d0X1TwYE_"
      }
    },
    {
      "cell_type": "markdown",
      "source": [
        "Multiclass Text Classification Test Accuracy 기준으로 하위 20위 안에 드는 머신러닝 알고리즘이다."
      ],
      "metadata": {
        "id": "MeMR7MbV_HVo"
      }
    },
    {
      "cell_type": "markdown",
      "source": [
        "<br/><br/>"
      ],
      "metadata": {
        "id": "EDi_uM2ZvKNS"
      }
    },
    {
      "cell_type": "markdown",
      "source": [
        "**딥러닝 알고리즘**"
      ],
      "metadata": {
        "id": "fQV_IcRnwYHf"
      }
    },
    {
      "cell_type": "markdown",
      "source": [
        "머신러닝 알고리즘 정확도와 딥러닝 알고리즘 정확도 데이터프레임을 병합한다.\n",
        "<br/>데이터프레임의 Rank는 Multiclass Text Classification Test Accuracy를 기준으로 한다.\n",
        "<br/>그 중에서 DNN과 CNN 모델의 성능 순위가 어떻게 되는지 파악한다."
      ],
      "metadata": {
        "id": "8xSDSJc557vy"
      }
    },
    {
      "cell_type": "markdown",
      "source": [
        "DNN 모델의 성능은 Maching Learning Algorithm 사이에서 10위권(80%대)이다.\n",
        "<br/>CNN 모델의 성능은 Maching Learning Algorithm 사이에서 50위권(70%대)이다."
      ],
      "metadata": {
        "id": "ACF_aafP5-D2"
      }
    },
    {
      "cell_type": "markdown",
      "source": [
        "데이터 형태의 차이가 모델의 성능에 영향을 주었는가에 대해 공부할 필요성을 느낀다."
      ],
      "metadata": {
        "id": "MJR-PiNzPSCR"
      }
    },
    {
      "cell_type": "markdown",
      "source": [
        "DNN 모델에 사용한 데이터의 형태는 Dense Array(X, Feature) 와 Multiclass Matrix(Y, Target)이다.\n",
        "<br/>csr_matrix.toarray는 TF-IDF Matrix(CSR Matrix)를 Dense Array로 변환한다.\n",
        "<br/>utils.to_categorical는 Integer Vector를 Binary Class Matrix로 변환한다."
      ],
      "metadata": {
        "id": "hc0Uv3qaPW2m"
      }
    },
    {
      "cell_type": "markdown",
      "source": [
        "1-D CNN 모델에 사용한 데이터의 형태는 Two-Dimensional Tensor(X, Feature)와 Binary Class Matrix(Y, Target)이다.\n",
        "<br/>sequence.pad_sequences는 병렬 연산을 위해 Two-Dimensional Tensor의 길이를 맞춘다.\n",
        "<br/>np_utils.to_categorical는 Integer Vector를 Binary Class Matrix로 변환한다."
      ],
      "metadata": {
        "id": "IvwU1eogwYJ7"
      }
    },
    {
      "cell_type": "markdown",
      "source": [
        "<br/><br/>"
      ],
      "metadata": {
        "id": "K2I6fxkCvPQc"
      }
    },
    {
      "cell_type": "markdown",
      "source": [
        "#참고문헌"
      ],
      "metadata": {
        "id": "vTs4N31jxJ8T"
      }
    },
    {
      "cell_type": "markdown",
      "source": [
        "**LMS**\n",
        "<br/>[ukairia777](https://github.com/ukairia777)\n",
        "\n",
        "<br/>**단행본**\n",
        "<br/>김태영, 『블록과 함께 하는 파이썬 딥러닝 케라스』, 디지털북스, 2017\n",
        "<br/>[문장(시계열수치)입력 다중클래스분류 모델 레시피](https://tykimos.github.io/2017/08/17/Text_Input_Multiclass_Classification_Model_Recipe/)\n",
        "<br/><br/>유원준 외 1명, 『딥러닝을 이용한 자연어 처리 입문』,Wikidocs, 2022\n",
        "<br/>[로이터 뉴스 분류하기(Reuters News Classification)](https://wikidocs.net/22933)\n",
        "<br/>[패딩(Padding)](https://wikidocs.net/83544)\n",
        "<br/><br/>크리슨 알본, 『파이썬을 활용한 머신러닝 쿡북』, 박해선 옮긴이, 한빛미디어, 2019\n",
        "<br/>[벡터, 행렬, 배열](https://haaringa.tistory.com/entry/1-%EB%B2%A1%ED%84%B0-%ED%96%89%EB%A0%AC-%EB%B0%B0%EC%97%B4)\n",
        "\n",
        "<br/>**공식 사이트**\n",
        "<br/>daviddlewis.com\n",
        "<br/>[Reuters-21578 Text Categorization Collection](https://kdd.ics.uci.edu/databases/reuters21578/reuters21578.html)\n",
        "<br/><br/>Google Colab\n",
        "<br/>[TensorFlow with GPU](https://colab.research.google.com/notebooks/gpu.ipynb?hl=ko#scrollTo=tMce8muBqXQP)\n",
        "<br/><br/>네이버 지식백과\n",
        "<br/>[두산백과 통신사](http://terms.naver.com/entry.naver?docId=1153392&cid=40942&categoryId=31754)\n",
        "<br/><br/>Scikit-learn\n",
        "<br/>[scikit-learn 1.1.1 API Reference](https://scikit-learn.org/stable/modules/classes.html)\n",
        "<br/><br/>Tensorflow\n",
        "<br/>[tf.keras.utils.to_categorical](https://www.tensorflow.org/api_docs/python/tf/keras/utils/to_categorical)\n",
        "\n",
        "<br/>**깃허브**\n",
        "<br/>[Going Deeper NLP 04 DTM, TF-IDF Vocabulary Size실험](https://github.com/miinkang/AI_Project_AIFFEL/blob/main/%5BGD-04%5DTFIDF_vectorization.ipynb)\n",
        "<br/>[ValueError: WRITEBACKIFCOPY base is read-only #1](https://github.com/nishantml/STACKOVERFLOW-TAG-PREDICTOR/issues/1)\n",
        "\n",
        "<br/>**웹사이트**\n",
        "<br/>[구글 코랩(colab) GPU 딥러닝 케라스(keras) 돌리기 추가.CPU랑 속도 비교](https://blog.naver.com/PostView.nhn?blogId=demian7607&logNo=222043724449&from=search&redirect=Log&widgetTypeCall=true&directAccess=false)\n",
        "<br/>[Tensorflow 텐서플로우 GPU로 실행하도록 설정하는 방법](https://otugi.tistory.com/330)\n",
        "<br/>[한국언론진흥재단 미디어리터러시 AP, 로이터, 연합뉴스... 통신사와 신문사의 차이는?](https://dadoc.or.kr/1276)\n",
        "<br/>[Python SVM(Support Vector Machine)구현 실습](https://todayisbetterthanyesterday.tistory.com/32)\n",
        "<br/>[My ExtraTreesClassifier](https://jin-sang.github.io/ExtraTree/)\n",
        "<br/>[How to increase accuracy of model using catboost](https://stackoverflow.com/questions/60648547/how-to-increase-accuracy-of-model-using-catboost)\n",
        "<br/>[A sparse matrix was passed, but dense data is required. Use X.toarray() to convert to a dense numpy array](https://stackoverflow.com/questions/30502284/a-sparse-matrix-was-passed-but-dense-data-is-required-use-x-toarray-to-conve)\n",
        "<br/>[0311 - 모델 평가 (교차검증 모델 / DummyClassifer)](https://ivo-lee.tistory.com/94)\n",
        "<br/>[Text Classification in Keras (Part 1) — A Simple Reuters News Classifier](http://hunterheidenreich.com/blog/keras-text-classification-part-1/)\n",
        "<br/>[Keras Study 6장. 텍스트와 시퀀스를 위한 딥러닝 (1)](https://subinium.github.io/Keras-6-1/)\n",
        "<br/>[변수 Feature VS Target, Feture Engineering](https://seeyapangpang.tistory.com/11)\n",
        "\n",
        "\n",
        "<br/>**공부**\n",
        "<br/>[LSTM을 이용해 로이터 뉴스 카테고리 분석하기](https://buillee.tistory.com/146)\n",
        "<br/>[sklearn Pipeline을 이용해 다양한 Classification모델들 모델링하기](https://data-newbie.tistory.com/185)\n",
        "<br/>[자연어처리(NLP) 17일차 (로이터 뉴스 분류하기)](https://omicro03.medium.com/%EC%9E%90%EC%97%B0%EC%96%B4%EC%B2%98%EB%A6%AC-nlp-17%EC%9D%BC%EC%B0%A8-%EB%A1%9C%EC%9D%B4%ED%84%B0-%EB%89%B4%EC%8A%A4-%EB%B6%84%EB%A5%98%ED%95%98%EA%B8%B0-f5466abe9196)\n",
        "<br/>[sklearn을 사용한 SVM 분류](https://liveyourit.tistory.com/62)\n",
        "<br/>[CNN 모델 구현코드의 기본 형태를 알아보자(with Keras)](https://aidalab.tistory.com/77)\n",
        "<br/><br/>세바스찬 라시카, 바히드 미자리리, 『머신 러닝 교과서 with 파이썬, 사이킷런, 텐서플로(개정 3판)』, 박해선 옮긴이, 길벗, 2021\n",
        "<br/>[Github](https://github.com/rickiepark/python-machine-learning-book-2nd-edition)\n",
        "<br/>[더북(TheBook)](https://thebook.io/080223/)\n",
        "<br/><br/>[안드레아스 뮐러, 세라 가이도, 『파이썬 라이브러리를 활용한 머신러닝』, 박해선 옮긴이, 한빛미디어, 2019](https://github.com/rickiepark/introduction_to_ml_with_python)\n",
        "<br/>[크리스 알본, 『파이썬을 활용한 머신러닝 쿡북』, 박해선 옮긴이, 한빛미디어, 2019](https://github.com/rickiepark/machine-learning-with-python-cookbook)"
      ],
      "metadata": {
        "id": "v5Y14DOjPvAX"
      }
    }
  ]
}