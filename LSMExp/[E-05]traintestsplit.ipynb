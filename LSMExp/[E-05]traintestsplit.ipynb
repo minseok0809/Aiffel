{
 "cells": [
  {
   "cell_type": "code",
   "execution_count": 7,
   "id": "5cc4f955",
   "metadata": {},
   "outputs": [
    {
     "data": {
      "text/plain": [
       "'C:\\\\Users\\\\Min Seok\\\\JupyterAiffel\\\\rock_scissor_paper'"
      ]
     },
     "execution_count": 7,
     "metadata": {},
     "output_type": "execute_result"
    }
   ],
   "source": [
    "import os\n",
    "change_path = 'C:/Users/Min Seok/JupyterAiffel/rock_scissor_paper'\n",
    "\n",
    "os.chdir(change_path)\n",
    "os.getcwd()"
   ]
  },
  {
   "cell_type": "code",
   "execution_count": 10,
   "id": "c508b920",
   "metadata": {},
   "outputs": [
    {
     "name": "stderr",
     "output_type": "stream",
     "text": [
      "Copying files: 2270 files [00:02, 897.30 files/s] \n",
      "Copying files: 2202 files [00:02, 825.37 files/s]\n",
      "Copying files: 2320 files [00:02, 839.48 files/s]\n"
     ]
    }
   ],
   "source": [
    "import splitfolders as sp\n",
    "sp.ratio('paper', output='paper_output',\n",
    "                  seed=1337, ratio=(.7, .0, .3))\n",
    "\n",
    "sp.ratio('rock', output='rock_output',\n",
    "                  seed=1337, ratio=(.7, .0, .3))\n",
    "\n",
    "sp.ratio('scissor', output='scissor_output',\n",
    "                  seed=1337, ratio=(.7, .0, .3))"
   ]
  },
  {
   "cell_type": "code",
   "execution_count": null,
   "id": "6eb26d39",
   "metadata": {},
   "outputs": [],
   "source": []
  },
  {
   "cell_type": "code",
   "execution_count": null,
   "id": "bf0835f2",
   "metadata": {},
   "outputs": [],
   "source": []
  },
  {
   "cell_type": "code",
   "execution_count": null,
   "id": "868f6c0d",
   "metadata": {},
   "outputs": [],
   "source": []
  },
  {
   "cell_type": "code",
   "execution_count": null,
   "id": "2998b8a1",
   "metadata": {},
   "outputs": [],
   "source": []
  },
  {
   "cell_type": "code",
   "execution_count": null,
   "id": "eecd17f0",
   "metadata": {},
   "outputs": [],
   "source": []
  },
  {
   "cell_type": "code",
   "execution_count": null,
   "id": "3e259e9a",
   "metadata": {},
   "outputs": [],
   "source": []
  }
 ],
 "metadata": {
  "kernelspec": {
   "display_name": "Python 3 (ipykernel)",
   "language": "python",
   "name": "python3"
  },
  "language_info": {
   "codemirror_mode": {
    "name": "ipython",
    "version": 3
   },
   "file_extension": ".py",
   "mimetype": "text/x-python",
   "name": "python",
   "nbconvert_exporter": "python",
   "pygments_lexer": "ipython3",
   "version": "3.8.13"
  }
 },
 "nbformat": 4,
 "nbformat_minor": 5
}
