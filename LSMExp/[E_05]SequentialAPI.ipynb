{
  "nbformat": 4,
  "nbformat_minor": 0,
  "metadata": {
    "colab": {
      "name": "[E-05]SequentialAPI.ipynb",
      "provenance": [],
      "collapsed_sections": [],
      "machine_shape": "hm",
      "toc_visible": true
    },
    "kernelspec": {
      "name": "python3",
      "display_name": "Python 3"
    },
    "language_info": {
      "name": "python"
    },
    "accelerator": "GPU"
  },
  "cells": [
    {
      "cell_type": "markdown",
      "source": [
        "LSM EXP 05_Aiffel\n",
        "<br/>**5. 인공지능과 가위바위보 하기**"
      ],
      "metadata": {
        "id": "ek8c_uGStYEB"
      }
    },
    {
      "cell_type": "markdown",
      "source": [
        "데이터 정보\n",
        "<br/>데이터 가져오기\n",
        "<br/>모델 형성\n",
        "<br/>*하이퍼 파라미터 조정\n",
        "<br/>*하이퍼 파라미터 조정(drop rate 제외)"
      ],
      "metadata": {
        "id": "hnmSklCMBDGs"
      }
    },
    {
      "cell_type": "markdown",
      "source": [
        "#가위바위보 데이터와 Sequential API"
      ],
      "metadata": {
        "id": "aodw_z1QuwZn"
      }
    },
    {
      "cell_type": "code",
      "execution_count": 18,
      "metadata": {
        "id": "-Ezj7KZegYJs"
      },
      "outputs": [],
      "source": [
        "import tensorflow as tf\n",
        "from tensorflow import keras\n",
        "import numpy as np\n",
        "from sklearn.model_selection import train_test_split\n",
        "import matplotlib.pyplot as plt\n"
        "import os"
      ]
    },
    {
      "cell_type": "markdown",
      "source": [
        "**tensorflow**는 구글이 개발한 오픈소스 소프트웨어 딥러닝 및 머신러닝 라이브러리이다. 수학 계산식과 데이터의 흐름을 노드와 엣지를 사용한 방향성 그래프, 데이터 플로우 그래프로 나타낸다.\n"
      ],
      "metadata": {
        "id": "I2Yn6FJnqOTC"
      }
    },
    {
      "cell_type": "markdown",
      "source": [
        "**Keras**는 Tensorflow 위에서 동작하는 라이브러리이다.\n",
        "<br/>사용자 친화적으로 개발된 Keras의 쉽다는 장점과\n",
        "<br/>딥러닝 프로젝트에서 범용적으로 활용할 수 있는\n",
        "<br/>Tensorflow의 장점을 통합할 수 있는 환경을 설정한다."
      ],
      "metadata": {
        "id": "MsAk6zlSbNgJ"
      }
    },
    {
      "cell_type": "markdown",
      "source": [
        "**numpy**는 array 단위로 벡터와 행렬을 계산한다.\n"
        "<br/>**sklearn.model_selection**은 훈련 데이터와 테스트 데이터를 분리한다."
      ],
      "metadata": {
        "id": "x7ADYBLHtU6y"
      }
    },
    {
      "cell_type": "markdown",
      "source": [
        "**matplotlib**은 다양한 데이터와 학습 모델을 시각화한다.\n",
        "<br/>**os(Operating System)**는 운영체제에서 제공되는 여러 기능을 파이썬에서 수행한다.\n",
        "<br/>예를 들어, 파일 복사, 디렉터리 생성, 파일 목록을 구할 수 있다."
      ],
      "metadata": {
        "id": "3STUO8J5a00R"
      }
    },
    {
      "cell_type": "code",
      "source": [
        "from PIL import Image\n",
        "import glob"
      ],
      "metadata": {
        "id": "uEWnZkleUJ4n"
      },
      "execution_count": 3,
      "outputs": []
    },
    {
      "cell_type": "markdown",
      "source": [
        "**PIL(Python Image Library)**는 다양한 이미지 파일 형식을 지원하는 작업 모듈이다. 다만, PIL의 지원이 2011년 중단되고, Pillow가 PIL의 후속 프로젝트로 나왔다.\n"
      ],
      "metadata": {
        "id": "PUDbh7UHqXRy"
      }
    },
    {
      "cell_type": "markdown",
      "source": [
        "**glob**는 사용자가 제시한 조건에 맞는 파일명을 리스트 형식으로 반환한다. 단, 조건에 정규식을 사용할 수 없으며 엑셀 등에서도 사용할 수 있는 '*'와 '?'같은 와일드카드만을 지원한다."
      ],
      "metadata": {
        "id": "EXaMFk4MtX6Y"
      }
    },
    {
      "cell_type": "markdown",
      "source": [
        "##데이터 정보"
      ],
      "metadata": {
        "id": "846gqQXftfqk"
      }
    },
    {
      "cell_type": "markdown",
      "source": [
        "**rock_sissor_paper**"
      ],
      "metadata": {
        "id": "9KQEBJqHVdxu"
      }
    },
    {
      "cell_type": "markdown",
      "source": [
        "2021년 아이펠(Aiffel) 수강생이 촬영했던 가위, 바위, 보 이미지를 통합하여 만든 데이터셋이다.\n",
        "<br/>포토윅스라는 프로그램을 이용하여 이미지를 편집했다.\n",
        "<br/>분석하기에 좋다."
      ],
      "metadata": {
        "id": "jYZX65xMVPqO"
      }
    },
    {
      "cell_type": "markdown",
      "source": [
        "이 데이터셋은 224X224 pixel의 337개의 이미지로 구성되어 있다.\n",
        "<br/>가위(114개), 바위(112개), 보(111개)의 이미지는 가위바위보 게임의 동작을 나타낸다.\n"
      ],
      "metadata": {
        "id": "EuFPsD-J5Y2-"
      }
    },
    {
      "cell_type": "markdown",
      "source": [
        "##데이터 가져오기"
      ],
      "metadata": {
        "id": "1k2N6bUFub78"
      }
    },
    {
      "cell_type": "code",
      "source": [
        "def resize_images(img_path):\n",
        "\timages=glob.glob(img_path + \"/*.jpg\")  \n",
        "    \n",
        "\tprint(len(images), \" images to be resized.\")\n",
        "\n",
        "\ttarget_size=(28,28)\n",
        "\tfor img in images:\n",
        "\t\told_img=Image.open(img)\n",
        "\t\tnew_img=old_img.resize(target_size,Image.ANTIALIAS)\n",
        "\t\tnew_img.save(img, \"JPEG\")\n",
        "    \n",
        "\tprint(len(images), \" images resized.\")"
      ],
      "metadata": {
        "id": "fJ0TOY-8pxQm"
      },
      "execution_count": 4,
      "outputs": []
    },
    {
      "cell_type": "markdown",
      "source": [
        "파일마다 모두 28x28 사이즈로 바꾸어 저장합니다."
      ],
      "metadata": {
        "id": "fEvLqmAbUVi1"
      }
    },
    {
      "cell_type": "markdown",
      "source": [
        "**왜 28X28인가?**\n",
        "<br/>'Why 28x28 pixel'라고 검색해보았으나 나오지 않는다.\n",
        "<br/>784(28 x 28)개의 각 뉴런들은 각 픽셀의 밝기를 나타낸다고만 검색 결과가 나올 뿐이다."
      ],
      "metadata": {
        "id": "bg0uBaFDWk7C"
      }
    },
    {
      "cell_type": "code",
      "source": [
        "from google.colab import drive\n",
        "drive.mount('/content/drive')"
      ],
      "metadata": {
        "colab": {
          "base_uri": "https://localhost:8080/"
        },
        "id": "iVeRPG09Vhwd",
        "outputId": "debf77dd-c892-4dc6-d8ba-7dc1762ff9ed"
      },
      "execution_count": 5,
      "outputs": [
        {
          "output_type": "stream",
          "name": "stdout",
          "text": [
            "Mounted at /content/drive\n"
          ]
        }
      ]
    },
    {
      "cell_type": "code",
      "source": [
        "image_dir_path1 = '/content/drive/MyDrive/LMS/rock_scissor_paper/scissor/'\n",
        "resize_images(image_dir_path1)"
      ],
      "metadata": {
        "id": "7JnXo7OduKbQ",
        "colab": {
          "base_uri": "https://localhost:8080/"
        },
        "outputId": "9082b34e-b0ed-4a96-9a3d-fbcc5d49fc54"
      },
      "execution_count": 6,
      "outputs": [
        {
          "output_type": "stream",
          "name": "stdout",
          "text": [
            "2320  images to be resized.\n",
            "2320  images resized.\n"
          ]
        }
      ]
    },
    {
      "cell_type": "markdown",
      "source": [
        "가위 이미지를 28x28 사이즈로 바꾼다."
      ],
      "metadata": {
        "id": "UJmCgCThVszO"
      }
    },
    {
      "cell_type": "code",
      "source": [
        "image_dir_path2 = '/content/drive/MyDrive/LMS/rock_scissor_paper/rock/'\n",
        "resize_images(image_dir_path2)"
      ],
      "metadata": {
        "id": "U7vzofNIuK8L",
        "colab": {
          "base_uri": "https://localhost:8080/"
        },
        "outputId": "883c9ac4-5d22-4bd4-aa50-478e595eec85"
      },
      "execution_count": null,
      "outputs": [
        {
          "output_type": "stream",
          "name": "stdout",
          "text": [
            "2202  images to be resized.\n",
            "2202  images resized.\n"
          ]
        }
      ]
    },
    {
      "cell_type": "markdown",
      "source": [
        "바위 이미지를 28x28 사이즈로 바꾼다."
      ],
      "metadata": {
        "id": "NZWIU-8uVuwV"
      }
    },
    {
      "cell_type": "code",
      "source": [
        "image_dir_path3 = '/content/drive/MyDrive/LMS/rock_scissor_paper/paper/'\n",
        "resize_images(image_dir_path3)"
      ],
      "metadata": {
        "id": "iM75wMsAuMmW",
        "colab": {
          "base_uri": "https://localhost:8080/"
        },
        "outputId": "67e034bf-d5eb-4aec-b374-a6cd7d9b2eb0"
      },
      "execution_count": 8,
      "outputs": [
        {
          "output_type": "stream",
          "name": "stdout",
          "text": [
            "2270  images to be resized.\n",
            "2270  images resized.\n"
          ]
        }
      ]
    },
    {
      "cell_type": "markdown",
      "source": [
        "보 이미지를 28x28 사이즈로 바꾼다."
      ],
      "metadata": {
        "id": "wCz097juVycO"
      }
    },
    {
      "cell_type": "code",
      "source": [
        "import numpy as np\n",
        "\n",
        "def load_data(img_path, number_of_data):  \n",
        "    img_size=28\n",
        "    color=3\n",
        "    imgs=np.zeros(number_of_data*img_size*img_size*color,dtype=np.int32).reshape(number_of_data,img_size,img_size,color)\n",
        "    labels=np.zeros(number_of_data,dtype=np.int32)\n",
        "    idx=0\n",
        "\n",
        "    for file in glob.iglob(img_path+'/scissor/*.jpg'):\n",
        "        img = np.array(Image.open(file),dtype=np.int32)\n",
        "        imgs[idx,:,:,:]=img \n",
        "        labels[idx]=0   \n",
        "        idx=idx+1\n",
        "\n",
        "    for file in glob.iglob(img_path+'/rock/*.jpg'):\n",
        "        img = np.array(Image.open(file),dtype=np.int32)\n",
        "        imgs[idx,:,:,:]=img   \n",
        "        labels[idx]=1  \n",
        "        idx=idx+1  \n",
        "    \n",
        "    for file in glob.iglob(img_path+'/paper/*.jpg'):\n",
        "        img = np.array(Image.open(file),dtype=np.int32)\n",
        "        imgs[idx,:,:,:]=img   \n",
        "        labels[idx]=2  \n",
        "        idx=idx+1\n",
        "        \n",
        "    print(\"학습데이터(x_train)의 이미지 개수는\", idx,\"입니다.\")\n",
        "    return imgs, labels"
      ],
      "metadata": {
        "id": "AfdTBQdori52"
      },
      "execution_count": 9,
      "outputs": []
    },
    {
      "cell_type": "markdown",
      "source": [
        "라벨을 가위(0), 바위(1), 보(2)로 한다.\n",
        "<br/>이미지와 라벨을 담은 행렬을 생성한다."
      ],
      "metadata": {
        "id": "gU0BgZrYQoxI"
      }
    },
    {
      "cell_type": "markdown",
      "source": [
        "for문을 실행하기 앞서 np.zeros와 reshape를 통해 행렬을 초기화한다.\n",
        "<br/>**np.zeros**는 크기(number_of_data*img_size*img_size*color)만큼의 0으로만 채워진 1차원 벡터를 생성한다."
      ],
      "metadata": {
        "id": "W5E_eolbTfdT"
      }
    },
    {
      "cell_type": "markdown",
      "source": [
        "**reshape**은 크기(number_of_data,img_size,img_size,color)만큼의 3차원 텐서를 생성한다."
      ],
      "metadata": {
        "id": "KFh_7PR4TvdC"
      }
    },
    {
      "cell_type": "code",
      "source": [
        "image_dir_path = '/content/drive/MyDrive/LMS/Rock'\n",
        "(x_train, y_train)=load_data(image_dir_path, 4755)\n",
        "x_train_norm = x_train/255.0   \n",
        "\n",
        "print(\"x_train shape: {}\".format(x_train.shape))\n",
        "print(\"y_train shape: {}\".format(y_train.shape))"
      ],
      "metadata": {
        "id": "VntxVlbB3lmC",
        "colab": {
          "base_uri": "https://localhost:8080/"
        },
        "outputId": "ef5509e5-2f91-4b54-f309-21e41a70f0f7"
      },
      "execution_count": 12,
      "outputs": [
        {
          "output_type": "stream",
          "name": "stdout",
          "text": [
            "학습데이터(x_train)의 이미지 개수는 0 입니다.\n",
            "x_train shape: (4755, 28, 28, 3)\n",
            "y_train shape: (4755,)\n"
          ]
        }
      ]
    },
    {
      "cell_type": "markdown",
      "source": [
        "255로 나누어 입력은 0~1 사이의 값으로 정규화한다.\n",
        "<br/>훈련 데이터와 테스트 데이터를 7:3으로 맞춘다.\n",
        "<br/>훈련 데이터의 크기를 6792의 70%인 4755장으로 맞춘다."
      ],
      "metadata": {
        "id": "5V7npSgEYD-S"
      }
    },
    {
      "cell_type": "markdown",
      "source": [
        "##모델 형성"
      ],
      "metadata": {
        "id": "MHeidP5qufLm"
      }
    },
    {
      "cell_type": "markdown",
      "source": [
        "###하이퍼 파라미터 조정"
      ],
      "metadata": {
        "id": "VepyrUECumIc"
      }
    },
    {
      "cell_type": "code",
      "source": [
        "n_channel_1 = 256\n",
        "n_channel_2 = 512\n",
        "n_dense = 512\n",
        "n_class = 3\n",
        "n_drop_rate = 0.3\n",
        "n_train_epoch = 10"
      ],
      "metadata": {
        "id": "Svf7u78TbhNI"
      },
      "execution_count": 36,
      "outputs": []
    },
    {
      "cell_type": "markdown",
      "source": [
        "레이어의 개수, 분류 클래스, drop rate, 최적화의 학습단위(train epoch) 등 하이퍼파라미터 튜닝을 한다."
      ],
      "metadata": {
        "id": "k6WE685Kbjfn"
      }
    },
    {
      "cell_type": "markdown",
      "source": [
        "**Drop-out**은 서로 연결된 연결망(layer)에서 0부터 1 사이의 확률로 뉴런을 제거(drop)하는 기법이다.\n",
        "<br/>Drop-out을 적용하여 상관관계가 강한 Feature를 제외하여\n",
        "<br/>해당 Feature에만 출력값이 좌지우지되는 과대적합(overfitting)을 방지한다."
      ],
      "metadata": {
        "id": "IlYN2NOsb_M5"
      }
    },
    {
      "cell_type": "code",
      "source": [
        "model=keras.models.Sequential()\n",
        "model.add(keras.layers.Conv2D(n_channel_1, (3,3), activation='relu', input_shape=(28,28,3)))\n",
        "model.add(keras.layers.MaxPool2D(2,2))\n",
        "model.add(keras.layers.Dropout(n_drop_rate))\n",
        "model.add(keras.layers.Conv2D(n_channel_2, (3,3), activation='relu'))\n",
        "model.add(keras.layers.MaxPooling2D((2,2)))\n",
        "model.add(keras.layers.Dropout(n_drop_rate))\n",
        "model.add(keras.layers.Flatten())\n",
        "model.add(keras.layers.Dense(n_dense, activation='relu'))\n",
        "model.add(keras.layers.Dense(n_class, activation='softmax'))\n",
        "\n",
        "print('Model에 추가된 Layer 개수: ', len(model.layers))"
      ],
      "metadata": {
        "id": "q3NY98SDrmhw",
        "colab": {
          "base_uri": "https://localhost:8080/"
        },
        "outputId": "88a13751-0043-49c9-d138-1a7fcfc0f7f3"
      },
      "execution_count": 37,
      "outputs": [
        {
          "output_type": "stream",
          "name": "stdout",
          "text": [
            "Model에 추가된 Layer 개수:  9\n"
          ]
        }
      ]
    },
    {
      "cell_type": "markdown",
      "source": [
        "첫번째 레이어는 사이즈 3의 256개의 필터로 구성되어 있다. 이미지 형태는 28X28 크기이다.\n",
        "<br/>relu 함수는 활성화함수로 구성된다.\n",
        "<br/>2 x 2 max-pooling 레이어를 가진다. 추상화된 형태를 오버피팅을 방지하는데 도움을 준다."
      ],
      "metadata": {
        "id": "vOMrSPqJ8wBC"
      }
    },
    {
      "cell_type": "code",
      "source": [
        "model.summary()"
      ],
      "metadata": {
        "id": "LW2YlIHmznhq",
        "colab": {
          "base_uri": "https://localhost:8080/"
        },
        "outputId": "da099cab-cb16-47de-a7ef-97db24e1b4a0"
      },
      "execution_count": 38,
      "outputs": [
        {
          "output_type": "stream",
          "name": "stdout",
          "text": [
            "Model: \"sequential_4\"\n",
            "_________________________________________________________________\n",
            " Layer (type)                Output Shape              Param #   \n",
            "=================================================================\n",
            " conv2d_9 (Conv2D)           (None, 26, 26, 256)       7168      \n",
            "                                                                 \n",
            " max_pooling2d_9 (MaxPooling  (None, 13, 13, 256)      0         \n",
            " 2D)                                                             \n",
            "                                                                 \n",
            " dropout_5 (Dropout)         (None, 13, 13, 256)       0         \n",
            "                                                                 \n",
            " conv2d_10 (Conv2D)          (None, 11, 11, 512)       1180160   \n",
            "                                                                 \n",
            " max_pooling2d_10 (MaxPoolin  (None, 5, 5, 512)        0         \n",
            " g2D)                                                            \n",
            "                                                                 \n",
            " dropout_6 (Dropout)         (None, 5, 5, 512)         0         \n",
            "                                                                 \n",
            " flatten_4 (Flatten)         (None, 12800)             0         \n",
            "                                                                 \n",
            " dense_8 (Dense)             (None, 512)               6554112   \n",
            "                                                                 \n",
            " dense_9 (Dense)             (None, 3)                 1539      \n",
            "                                                                 \n",
            "=================================================================\n",
            "Total params: 7,742,979\n",
            "Trainable params: 7,742,979\n",
            "Non-trainable params: 0\n",
            "_________________________________________________________________\n"
          ]
        }
      ]
    },
    {
      "cell_type": "code",
      "source": [
        "model.compile(optimizer='adam',\n",
        "             loss='sparse_categorical_crossentropy',\n",
        "             metrics=['accuracy'])\n",
        "model.fit(x_train_norm, y_train, epochs= n_train_epoch)"
      ],
      "metadata": {
        "colab": {
          "base_uri": "https://localhost:8080/"
        },
        "id": "jEB3KQMxda__",
        "outputId": "0941e167-cd39-4c49-9510-f8f669cc93a2"
      },
      "execution_count": 39,
      "outputs": [
        {
          "output_type": "stream",
          "name": "stdout",
          "text": [
            "Epoch 1/10\n",
            "149/149 [==============================] - 2s 10ms/step - loss: 1.0046 - accuracy: 1.0000\n",
            "Epoch 2/10\n",
            "149/149 [==============================] - 1s 10ms/step - loss: 0.8341 - accuracy: 1.0000\n",
            "Epoch 3/10\n",
            "149/149 [==============================] - 1s 10ms/step - loss: 0.6917 - accuracy: 1.0000\n",
            "Epoch 4/10\n",
            "149/149 [==============================] - 1s 10ms/step - loss: 0.5746 - accuracy: 1.0000\n",
            "Epoch 5/10\n",
            "149/149 [==============================] - 1s 10ms/step - loss: 0.4793 - accuracy: 1.0000\n",
            "Epoch 6/10\n",
            "149/149 [==============================] - 1s 10ms/step - loss: 0.4021 - accuracy: 1.0000\n",
            "Epoch 7/10\n",
            "149/149 [==============================] - 1s 10ms/step - loss: 0.3396 - accuracy: 1.0000\n",
            "Epoch 8/10\n",
            "149/149 [==============================] - 1s 10ms/step - loss: 0.2888 - accuracy: 1.0000\n",
            "Epoch 9/10\n",
            "149/149 [==============================] - 1s 10ms/step - loss: 0.2474 - accuracy: 1.0000\n",
            "Epoch 10/10\n",
            "149/149 [==============================] - 1s 10ms/step - loss: 0.2134 - accuracy: 1.0000\n"
          ]
        },
        {
          "output_type": "execute_result",
          "data": {
            "text/plain": [
              "<keras.callbacks.History at 0x7f179a247090>"
            ]
          },
          "metadata": {},
          "execution_count": 39
        }
      ]
    },
    {
      "cell_type": "markdown",
      "source": [
        "loss이 지나치네 작고 accuracy가 지나치게 큰 이상한 학습 결과가 나온다.\n",
        "<br/>따라서 drop_rate 하이퍼 파라미터를 제외하기로 했다."
      ],
      "metadata": {
        "id": "U2-We-Fzern_"
      }
    },
    {
      "cell_type": "markdown",
      "source": [
        "###하이퍼 파라미터 조정(drop rate 제외)"
      ],
      "metadata": {
        "id": "IOQhryPce0d3"
      }
    },
    {
      "cell_type": "code",
      "source": [
        "n_channel_1 = 256\n",
        "n_channel_2 = 512\n",
        "n_channel_3 = 512\n",
        "n_dense = 512\n",
        "n_class = 3\n",
        "n_train_epoch = 10"
      ],
      "metadata": {
        "id": "0Z4aCzkAe9g4"
      },
      "execution_count": 40,
      "outputs": []
    },
    {
      "cell_type": "code",
      "source": [
        "model=keras.models.Sequential()\n",
        "model.add(keras.layers.Conv2D(n_channel_1, (3,3), activation='relu', input_shape=(28,28,3)))\n",
        "model.add(keras.layers.MaxPooling2D(2,2))\n",
        "model.add(keras.layers.Conv2D(n_channel_2, (3,3), activation='relu'))\n",
        "model.add(keras.layers.MaxPooling2D((2,2)))\n",
        "model.add(keras.layers.Conv2D(n_channel_3, (3,3), activation='relu'))\n",
        "model.add(keras.layers.MaxPooling2D((2,2)))\n",
        "model.add(keras.layers.Flatten())\n",
        "model.add(keras.layers.Dense(n_dense, activation='relu'))\n",
        "model.add(keras.layers.Dense(n_class, activation='softmax'))\n",
        "\n",
        "print('Model에 추가된 Layer 개수: ', len(model.layers))"
      ],
      "metadata": {
        "colab": {
          "base_uri": "https://localhost:8080/"
        },
        "id": "Wu4qNNCye91g",
        "outputId": "37b5e38b-0b0b-43b9-fa56-b993424c7a28"
      },
      "execution_count": 41,
      "outputs": [
        {
          "output_type": "stream",
          "name": "stdout",
          "text": [
            "Model에 추가된 Layer 개수:  9\n"
          ]
        }
      ]
    },
    {
      "cell_type": "code",
      "source": [
        "model.summary()"
      ],
      "metadata": {
        "colab": {
          "base_uri": "https://localhost:8080/"
        },
        "id": "xCQC04vKfsDX",
        "outputId": "eedc6f85-d487-4c48-8541-10f94e6ec739"
      },
      "execution_count": 42,
      "outputs": [
        {
          "output_type": "stream",
          "name": "stdout",
          "text": [
            "Model: \"sequential_5\"\n",
            "_________________________________________________________________\n",
            " Layer (type)                Output Shape              Param #   \n",
            "=================================================================\n",
            " conv2d_11 (Conv2D)          (None, 26, 26, 256)       7168      \n",
            "                                                                 \n",
            " max_pooling2d_11 (MaxPoolin  (None, 13, 13, 256)      0         \n",
            " g2D)                                                            \n",
            "                                                                 \n",
            " conv2d_12 (Conv2D)          (None, 11, 11, 512)       1180160   \n",
            "                                                                 \n",
            " max_pooling2d_12 (MaxPoolin  (None, 5, 5, 512)        0         \n",
            " g2D)                                                            \n",
            "                                                                 \n",
            " conv2d_13 (Conv2D)          (None, 3, 3, 512)         2359808   \n",
            "                                                                 \n",
            " max_pooling2d_13 (MaxPoolin  (None, 1, 1, 512)        0         \n",
            " g2D)                                                            \n",
            "                                                                 \n",
            " flatten_5 (Flatten)         (None, 512)               0         \n",
            "                                                                 \n",
            " dense_10 (Dense)            (None, 512)               262656    \n",
            "                                                                 \n",
            " dense_11 (Dense)            (None, 3)                 1539      \n",
            "                                                                 \n",
            "=================================================================\n",
            "Total params: 3,811,331\n",
            "Trainable params: 3,811,331\n",
            "Non-trainable params: 0\n",
            "_________________________________________________________________\n"
          ]
        }
      ]
    },
    {
      "cell_type": "code",
      "source": [
        "model.compile(optimizer='adam',\n",
        "             loss='sparse_categorical_crossentropy',\n",
        "             metrics=['accuracy'])\n",
        "model.fit(x_train_norm, y_train, epochs= n_train_epoch)"
      ],
      "metadata": {
        "colab": {
          "base_uri": "https://localhost:8080/"
        },
        "id": "b8a3YhDIfuMv",
        "outputId": "3bbf407e-b4fe-4ff4-9319-93f4a0b0f3aa"
      },
      "execution_count": 43,
      "outputs": [
        {
          "output_type": "stream",
          "name": "stdout",
          "text": [
            "Epoch 1/10\n",
            "149/149 [==============================] - 3s 12ms/step - loss: 1.0046 - accuracy: 1.0000\n",
            "Epoch 2/10\n",
            "149/149 [==============================] - 2s 12ms/step - loss: 0.8341 - accuracy: 1.0000\n",
            "Epoch 3/10\n",
            "149/149 [==============================] - 2s 12ms/step - loss: 0.6917 - accuracy: 1.0000\n",
            "Epoch 4/10\n",
            "149/149 [==============================] - 2s 11ms/step - loss: 0.5746 - accuracy: 1.0000\n",
            "Epoch 5/10\n",
            "149/149 [==============================] - 2s 11ms/step - loss: 0.4793 - accuracy: 1.0000\n",
            "Epoch 6/10\n",
            "149/149 [==============================] - 2s 11ms/step - loss: 0.4021 - accuracy: 1.0000\n",
            "Epoch 7/10\n",
            "149/149 [==============================] - 2s 12ms/step - loss: 0.3396 - accuracy: 1.0000\n",
            "Epoch 8/10\n",
            "149/149 [==============================] - 2s 12ms/step - loss: 0.2888 - accuracy: 1.0000\n",
            "Epoch 9/10\n",
            "149/149 [==============================] - 2s 11ms/step - loss: 0.2474 - accuracy: 1.0000\n",
            "Epoch 10/10\n",
            "149/149 [==============================] - 2s 11ms/step - loss: 0.2134 - accuracy: 1.0000\n"
          ]
        },
        {
          "output_type": "execute_result",
          "data": {
            "text/plain": [
              "<keras.callbacks.History at 0x7f179a0f7850>"
            ]
          },
          "metadata": {},
          "execution_count": 43
        }
      ]
    },
    {
      "cell_type": "markdown",
      "source": [
        "drop rate의 문제가 아니었다.\n",
        "<br/>결과는 accuracy가 지나치게 크게 나온다."
      ],
      "metadata": {
        "id": "zesoupQCfxQp"
      }
    },
    {
      "cell_type": "markdown",
      "source": [
        "하이퍼 파라미터 최적화 알고리즘으로 Adam을 사용한다."
      ],
      "metadata": {
        "id": "2j5W7Vp4efCf"
      }
    },
    {
      "cell_type": "markdown",
      "source": [
        "[Adam]\n",
        "<br/>모멘텀과 AdaGrad를 결합한다.\n",
        "<br/>매개변수 공간을 효율적으로 탐색해주며\n",
        "<br/>하이퍼파라미터의 '편향 보정'이 진행된다는 점이 Adam의 특징이다."
      ],
      "metadata": {
        "id": "oA4hgymhf8vh"
      }
    },
    {
      "cell_type": "code",
      "source": [
        "image_dir_path = '/content/drive/MyDrive/LMS/Rock'\n",
        "(x_test, y_test)=load_data(image_dir_path, 2037)\n",
        "x_test_norm = x_test/255.0   \n",
        "\n",
        "print(\"x_test shape: {}\".format(x_test.shape))\n",
        "print(\"y_test shape: {}\".format(y_test.shape))"
      ],
      "metadata": {
        "colab": {
          "base_uri": "https://localhost:8080/"
        },
        "id": "rKfcOguygGJX",
        "outputId": "ce6fc29c-661d-4282-9900-dcd4d9201c5f"
      },
      "execution_count": 44,
      "outputs": [
        {
          "output_type": "stream",
          "name": "stdout",
          "text": [
            "학습데이터(x_train)의 이미지 개수는 0 입니다.\n",
            "x_test shape: (2037, 28, 28, 3)\n",
            "y_test shape: (2037,)\n"
          ]
        }
      ]
    },
    {
      "cell_type": "markdown",
      "source": [
        "255로 나누어 입력은 0~1 사이의 값으로 정규화한다.\n",
        "<br/>훈련 데이터와 테스트 데이터를 7:3으로 맞춘다.\n",
        "<br/>훈련 데이터의 크기를 6792의 30%인 2037장으로 맞춘다."
      ],
      "metadata": {
        "id": "X11YMFoJgf0o"
      }
    },
    {
      "cell_type": "code",
      "source": [
        "test_loss, test_accuracy = model.evaluate(x_test_norm, y_test, verbose=2)\n",
        "print(\"test_loss: {} \".format(test_loss))\n",
        "print(\"test_accuracy: {}\".format(test_accuracy))"
      ],
      "metadata": {
        "id": "gV8jxBV03omU",
        "colab": {
          "base_uri": "https://localhost:8080/"
        },
        "outputId": "54252a9a-eada-4452-c2b4-6e4928cb047b"
      },
      "execution_count": 45,
      "outputs": [
        {
          "output_type": "stream",
          "name": "stdout",
          "text": [
            "64/64 - 1s - loss: 0.1983 - accuracy: 1.0000 - 627ms/epoch - 10ms/step\n",
            "test_loss: 0.19830520451068878 \n",
            "test_accuracy: 1.0\n"
          ]
        }
      ]
    }
  ]
}
