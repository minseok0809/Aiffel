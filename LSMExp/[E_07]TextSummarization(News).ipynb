{
  "nbformat": 4,
  "nbformat_minor": 0,
  "metadata": {
    "colab": {
      "name": "[E-07]TextSummarization(News).ipynb",
      "provenance": [],
      "collapsed_sections": [],
      "machine_shape": "hm"
    },
    "kernelspec": {
      "name": "python3",
      "display_name": "Python 3"
    },
    "language_info": {
      "name": "python"
    },
    "accelerator": "GPU"
  },
  "cells": [
    {
      "cell_type": "markdown",
      "source": [
        "LSM EXP 07_Aiffel\n",
        "<br/>**7. 뉴스 요약봇 만들기**"
      ],
      "metadata": {
        "id": "LxYkwjI3LXBx"
      }
    },
    {
      "cell_type": "markdown",
      "source": [
        "**개발 환경**\n",
        "<br/>**데이터 정보**\n",
        "<br/>**데이터 수집**\n",
        "<br/>**텍스트 정규화**\n",
        "<br/><br/>**추상적 요약**\n",
        "- 텍스트 정규화\n",
        "> 불용어 사전\n",
        "<br/>Set 변환(자료형 시간복잡도 계산)\n",
        "<br/>축약어 사전\n",
        "<br/>멀티 프로세싱\n",
        "\n",
        "- train, test 데이터 분리\n",
        "- 어텐션 메커니즘\n",
        "- 실제 결과와 요약문\n",
        "\n",
        "**추출적 요약**\n",
        "* summa\n",
        "\n",
        "**결론**\n",
        "<br/>**참고문헌**"
      ],
      "metadata": {
        "id": "GtYOTxmAs6do"
      }
    },
    {
      "cell_type": "markdown",
      "source": [
        "#머리말"
      ],
      "metadata": {
        "id": "OzYSAhPKLyBq"
      }
    },
    {
      "cell_type": "markdown",
      "source": [
        "#개발 환경"
      ],
      "metadata": {
        "id": "tAv13m_-Lz1S"
      }
    },
    {
      "cell_type": "code",
      "source": [
        "pip install importlib"
      ],
      "metadata": {
        "colab": {
          "base_uri": "https://localhost:8080/"
        },
        "id": "vE3plfYN2FS_",
        "outputId": "fdf40dd6-d577-4cd7-f302-45e722527b77"
      },
      "execution_count": null,
      "outputs": [
        {
          "output_type": "stream",
          "name": "stdout",
          "text": [
            "Looking in indexes: https://pypi.org/simple, https://us-python.pkg.dev/colab-wheels/public/simple/\n",
            "Collecting importlib\n",
            "  Downloading importlib-1.0.4.zip (7.1 kB)\n",
            "Building wheels for collected packages: importlib\n",
            "  Building wheel for importlib (setup.py) ... \u001b[?25l\u001b[?25hdone\n",
            "  Created wheel for importlib: filename=importlib-1.0.4-py3-none-any.whl size=5875 sha256=53818d4c66a7dc79a74f5af8ff2b36ac52be73bf0c60f0325bd84f1dc7d35d1f\n",
            "  Stored in directory: /root/.cache/pip/wheels/86/e4/cb/62b0e9efd7da1e984baec0c0ded0b727a7ed25e1904ed51fca\n",
            "Successfully built importlib\n",
            "Installing collected packages: importlib\n",
            "Successfully installed importlib-1.0.4\n"
          ]
        }
      ]
    },
    {
      "cell_type": "code",
      "source": [
        "pip install importlib-metadata"
      ],
      "metadata": {
        "colab": {
          "base_uri": "https://localhost:8080/"
        },
        "id": "qSuDrsnF2WZ_",
        "outputId": "8655f65b-877f-493b-e265-2c0207bd97a3"
      },
      "execution_count": null,
      "outputs": [
        {
          "output_type": "stream",
          "name": "stdout",
          "text": [
            "Looking in indexes: https://pypi.org/simple, https://us-python.pkg.dev/colab-wheels/public/simple/\n",
            "Requirement already satisfied: importlib-metadata in /usr/local/lib/python3.7/dist-packages (4.11.3)\n",
            "Requirement already satisfied: typing-extensions>=3.6.4 in /usr/local/lib/python3.7/dist-packages (from importlib-metadata) (4.2.0)\n",
            "Requirement already satisfied: zipp>=0.5 in /usr/local/lib/python3.7/dist-packages (from importlib-metadata) (3.8.0)\n"
          ]
        }
      ]
    },
    {
      "cell_type": "code",
      "source": [
        "pip install summa"
      ],
      "metadata": {
        "colab": {
          "base_uri": "https://localhost:8080/"
        },
        "id": "qqsFakPh2ndn",
        "outputId": "cd6fa853-324c-4d70-9b9b-111d43fccaf1"
      },
      "execution_count": null,
      "outputs": [
        {
          "output_type": "stream",
          "name": "stdout",
          "text": [
            "Looking in indexes: https://pypi.org/simple, https://us-python.pkg.dev/colab-wheels/public/simple/\n",
            "Collecting summa\n",
            "  Downloading summa-1.2.0.tar.gz (54 kB)\n",
            "\u001b[K     |████████████████████████████████| 54 kB 592 kB/s \n",
            "\u001b[?25hRequirement already satisfied: scipy>=0.19 in /usr/local/lib/python3.7/dist-packages (from summa) (1.4.1)\n",
            "Requirement already satisfied: numpy>=1.13.3 in /usr/local/lib/python3.7/dist-packages (from scipy>=0.19->summa) (1.21.6)\n",
            "Building wheels for collected packages: summa\n",
            "  Building wheel for summa (setup.py) ... \u001b[?25l\u001b[?25hdone\n",
            "  Created wheel for summa: filename=summa-1.2.0-py3-none-any.whl size=54412 sha256=0a1236d10e113b7c471276525c9de284a5f2527afa2deb9df8965a8e7272505b\n",
            "  Stored in directory: /root/.cache/pip/wheels/29/64/ac/7b443477588d365ef37ada30d456bdf5f07dc5be9f6324cb6e\n",
            "Successfully built summa\n",
            "Installing collected packages: summa\n",
            "Successfully installed summa-1.2.0\n"
          ]
        }
      ]
    },
    {
      "cell_type": "code",
      "execution_count": null,
      "metadata": {
        "id": "_Hk_UNhCLV8o"
      },
      "outputs": [],
      "source": [
        "import nltk\n",
        "import summa\n",
        "import re\n",
        "from bs4 import BeautifulSoup"
      ]
    },
    {
      "cell_type": "markdown",
      "source": [
        "**NLTK(Natural Language Toolkit)**는 교육용으로 개발된 자연어 처리 및 문서 분석용 파이썬 패키지다.\n",
        "<br/>말뭉치, 토큰 생성, 형태소 분석, 품사 태깅의 기능을 사용한다."
      ],
      "metadata": {
        "id": "mIG31iIT4eeW"
      }
    },
    {
      "cell_type": "markdown",
      "source": [
        "**summa**는 텍스트 요약과 키워드 추출을 실행하는 TextRank 라이브러리이다.\n",
        "<br/>TextRank는 구글의 페이지 랭크 알고리즘을 기반하여\n",
        "<br/>텍스트로 이루어진 글에서 특정 단어가 다른 문장과 얼마만큼의 관계를 맺고 있는지를 계산하는 알고리즘이다."
      ],
      "metadata": {
        "id": "jsJEKElOrlJb"
      }
    },
    {
      "cell_type": "markdown",
      "source": [
        "**re(regex)**는 특정 문자 또는 문자열이 존재하는지나 어느 위치에 있는지와 같은 기능을 제공하는 정규표현식 라이브러리이다."
      ],
      "metadata": {
        "id": "mzOL0c0WrlMS"
      }
    },
    {
      "cell_type": "markdown",
      "source": [
        "**BeautifulSoup**은 HTML 및 XML 파일에서 데이터를 Parsing 할 수 있는 라이브러리이다.<br/>Parsing이란 어떤 페이지(문서, html 등)에서 내가 원하는 데이터를 특정 패턴이나 순서로 추출해 가공하는 것이다."
      ],
      "metadata": {
        "id": "qcW-II1jrloD"
      }
    },
    {
      "cell_type": "code",
      "source": [
        "from importlib_metadata import version\n",
        "import tensorflow\n",
        "import pandas as pd\n",
        "import numpy as np\n",
        "import os\n",
        "import warnings\n",
        "warnings.filterwarnings(\"ignore\", category=UserWarning, module='bs4')"
      ],
      "metadata": {
        "id": "zIw_qy6trcpj"
      },
      "execution_count": null,
      "outputs": []
    },
    {
      "cell_type": "markdown",
      "source": [
        "**importlib**은 이미 임포트 해둔 모듈의 내용을 수정하고 싶을 때 사용한다.\n",
        "<br/>임포트를 다시 하지 않고 모듈을 개발자의 환경에 맞게 수정한다.\n",
        "<br/>코드 편집기에 재접속했을 때도 그 개발 환경 변경 사항이 유지된다."
      ],
      "metadata": {
        "id": "iSBut3dQ0uT4"
      }
    },
    {
      "cell_type": "markdown",
      "source": [
        "**importlib_metadata**은 pip와 pkg_resources으로 패키지 메타데이터에 접근한다.\n",
        "<br/>pkg_resources의 entry point API(프로그램의 진입점)와 metadata API 기능을 담당한다.\n",
        "<br/>메타데이터는 package>-version-py version.egg-info 파일에 저장된다.\n",
        "\n",
        "\n",
        "\n"
      ],
      "metadata": {
        "id": "p2IT0lgmzdFf"
      }
    },
    {
      "cell_type": "markdown",
      "source": [
        "**tensorflow**는 구글이 개발한 오픈소스 소프트웨어 딥러닝 및 머신러닝 라이브러리이다.\n",
        "<br/>수학 계산식과 데이터의 흐름을 노드와 엣지를 사용한 방향성 그래프, 데이터 플로우 그래프로 나타낸다."
      ],
      "metadata": {
        "id": "UfTiMK3BsG1p"
      }
    },
    {
      "cell_type": "markdown",
      "source": [
        "**pandas**는 행과 열로 이루어진 데이터 객체를 만들어 안정적으로 대용량의 데이터들을 처리한다."
      ],
      "metadata": {
        "id": "6ynIl3HCu_NI"
      }
    },
    {
      "cell_type": "markdown",
      "source": [
        "**numpy**는 array 단위로 벡터와 행렬을 계산한다."
      ],
      "metadata": {
        "id": "pi91kHxrVv3Y"
      }
    },
    {
      "cell_type": "markdown",
      "source": [
        "**os(Operating System)**는 운영체제에서 제공되는 여러 기능을 파이썬에서 수행한다. <br/>예를 들어, 파일 복사, 디렉터리 생성, 파일 목록을 구할 수 있다."
      ],
      "metadata": {
        "id": "6Mr_8KB9uJkH"
      }
    },
    {
      "cell_type": "markdown",
      "source": [
        "**warnings**는 실행시에 경고메시지를 지우는 역할을 한다."
      ],
      "metadata": {
        "id": "o7EDNemMuMF_"
      }
    },
    {
      "cell_type": "code",
      "source": [
        "import time\n",
        "from time import strftime\n",
        "import sys\n",
        "import collections"
      ],
      "metadata": {
        "id": "0L2Xm7WbFR6i"
      },
      "execution_count": null,
      "outputs": []
    },
    {
      "cell_type": "markdown",
      "source": [
        "**time**은 epoch time(Unix time, POSIX time)을 다룬다.\n",
        "<br/>epoch time(timestamp)은 UTC(GMT+0) 기준으로 1970년 1월 1일 0시 0분 0초부터의 경과 시간을 나타낸다."
      ],
      "metadata": {
        "id": "0hRjKmVUFVF5"
      }
    },
    {
      "cell_type": "markdown",
      "source": [
        "**time.strftime**은 '연-월-일' 등 원하는 날짜/시간 포맷으로 출력한다."
      ],
      "metadata": {
        "id": "hYAxrSAYLr5e"
      }
    },
    {
      "cell_type": "markdown",
      "source": [
        "**sys**는 파이썬 인터프리터가 제공하는 변수와 함수를 직접 제어한다.\n",
        "<br/>명령 행에서 인수 전달(sys.argv), 강제로 스크립트 종료(sys.exit), 자신이 만든 모듈 불러와 사용(sys.path)하기 등의 기능이 있다."
      ],
      "metadata": {
        "id": "xGLumqn3GD25"
      }
    },
    {
      "cell_type": "markdown",
      "source": [
        "**collections**는 자료구조 라이브러리이다.\n",
        "<br/>스택과 큐 구현(deque), 등장 회수(counter) 세기 등의 기능이 있다."
      ],
      "metadata": {
        "id": "dPhNB-3OK944"
      }
    },
    {
      "cell_type": "code",
      "source": [
        "gpu_info = !nvidia-smi\n",
        "gpu_info = '\\n'.join(gpu_info)\n",
        "if gpu_info.find('failed') >= 0:\n",
        "  print('Not connected to a GPU')\n",
        "else:\n",
        "  print(gpu_info)"
      ],
      "metadata": {
        "colab": {
          "base_uri": "https://localhost:8080/"
        },
        "id": "-Wb6F5Apn4Pe",
        "outputId": "821a0597-4696-4977-9344-38059e5c6817"
      },
      "execution_count": null,
      "outputs": [
        {
          "output_type": "stream",
          "name": "stdout",
          "text": [
            "Mon May 23 20:37:55 2022       \n",
            "+-----------------------------------------------------------------------------+\n",
            "| NVIDIA-SMI 460.32.03    Driver Version: 460.32.03    CUDA Version: 11.2     |\n",
            "|-------------------------------+----------------------+----------------------+\n",
            "| GPU  Name        Persistence-M| Bus-Id        Disp.A | Volatile Uncorr. ECC |\n",
            "| Fan  Temp  Perf  Pwr:Usage/Cap|         Memory-Usage | GPU-Util  Compute M. |\n",
            "|                               |                      |               MIG M. |\n",
            "|===============================+======================+======================|\n",
            "|   0  Tesla P100-PCIE...  Off  | 00000000:00:04.0 Off |                    0 |\n",
            "| N/A   34C    P0    26W / 250W |      0MiB / 16280MiB |      0%      Default |\n",
            "|                               |                      |                  N/A |\n",
            "+-------------------------------+----------------------+----------------------+\n",
            "                                                                               \n",
            "+-----------------------------------------------------------------------------+\n",
            "| Processes:                                                                  |\n",
            "|  GPU   GI   CI        PID   Type   Process name                  GPU Memory |\n",
            "|        ID   ID                                                   Usage      |\n",
            "|=============================================================================|\n",
            "|  No running processes found                                                 |\n",
            "+-----------------------------------------------------------------------------+\n"
          ]
        }
      ]
    },
    {
      "cell_type": "markdown",
      "source": [
        "할당된 GPU를 확인한다."
      ],
      "metadata": {
        "id": "8oa6LSc1pG67"
      }
    },
    {
      "cell_type": "code",
      "source": [
        "from psutil import virtual_memory\n",
        "ram_gb = virtual_memory().total / 1e9\n",
        "print('Your runtime has {:.1f} gigabytes of available RAM\\n'.format(ram_gb))\n",
        "\n",
        "if ram_gb < 20:\n",
        "  print('Not using a high-RAM runtime')\n",
        "else:\n",
        "  print('You are using a high-RAM runtime!')"
      ],
      "metadata": {
        "colab": {
          "base_uri": "https://localhost:8080/"
        },
        "id": "5RgV4tR5n4Vk",
        "outputId": "c0266267-7b0d-4dc1-8576-f8128bdd8c0a"
      },
      "execution_count": null,
      "outputs": [
        {
          "output_type": "stream",
          "name": "stdout",
          "text": [
            "Your runtime has 27.3 gigabytes of available RAM\n",
            "\n",
            "You are using a high-RAM runtime!\n"
          ]
        }
      ]
    },
    {
      "cell_type": "markdown",
      "source": [
        "고용량 메모리 VM에 액세스한다."
      ],
      "metadata": {
        "id": "RuM4zhKMpXpq"
      }
    },
    {
      "cell_type": "markdown",
      "source": [
        "#데이터 정보"
      ],
      "metadata": {
        "id": "vJi1fOTG92xs"
      }
    },
    {
      "cell_type": "markdown",
      "source": [
        "[news_summary_more.csv](https://github.com/sunnysai12345/News_Summary)"
      ],
      "metadata": {
        "id": "T9xFthlb962t"
      }
    },
    {
      "cell_type": "markdown",
      "source": [
        "데이터셋 제작자는 채팅 문맥을 분석하고 이해하는 일을 하고 있는 개발자다.\n",
        "<br/>BeautifulSoup의 bs4 모듈을 이용해 웹크롤링을 했다.\n",
        "<br/>뉴스 기사의 문법과 어휘는 좋은 통찰력을 준다고 믿는다."
      ],
      "metadata": {
        "id": "Vgc63AnSCldD"
      }
    },
    {
      "cell_type": "markdown",
      "source": [
        "2017년 Hindu(인도 제2위 영문 일간지), The Times of India(인도 최대 영문 일간지)\n",
        "<br/>Guardian(영국 일간지)의 기사와 Inshorts(요약문)를 수집한 데이터이다.\n",
        "<br/>Author_name, Headlines, Url of Article, Short text, Complete Article의 정보를 포함한다.\n",
        "<br/>텍스트 요약(Text Summarization) 도구를 만드는 데 사용된다."
      ],
      "metadata": {
        "id": "pJliCsqG97eV"
      }
    },
    {
      "cell_type": "markdown",
      "source": [
        "# 데이터 수집"
      ],
      "metadata": {
        "id": "4A1D0btEqStJ"
      }
    },
    {
      "cell_type": "code",
      "source": [
        "import urllib.request\n",
        "urllib.request.urlretrieve(\"https://raw.githubusercontent.com/sunnysai12345/News_Summary/master/news_summary_more.csv\", filename=\"news_summary_more.csv\")\n",
        "data = pd.read_csv('news_summary_more.csv', encoding='iso-8859-1')"
      ],
      "metadata": {
        "id": "2orBfswWLWo6"
      },
      "execution_count": null,
      "outputs": []
    },
    {
      "cell_type": "markdown",
      "source": [
        "**urllib.request**은 다이제스트 인증, 리디렉션, 쿠키 등과 같은 URL이나 HTTP를 여는 데 도움이 되는 함수와 클래스를 정의한다.\n",
        "<br/>웹 페이지 요청 및 데이터를 가져온다."
      ],
      "metadata": {
        "id": "mQNfl4YE6xk3"
      }
    },
    {
      "cell_type": "markdown",
      "source": [
        "**iso-8859-**1는 아스키 코드로 인코딩한다.\n",
        "<br/>아스키 코드는 영어를 표현하는 문자열 인코딩 방식이다."
      ],
      "metadata": {
        "id": "gBpoz7YOS4NI"
      }
    },
    {
      "cell_type": "code",
      "source": [
        "data.sample(10)"
      ],
      "metadata": {
        "colab": {
          "base_uri": "https://localhost:8080/",
          "height": 407
        },
        "id": "pAAADdUSsmpJ",
        "outputId": "75b18527-2553-4223-9faf-69bca8a4f292"
      },
      "execution_count": null,
      "outputs": [
        {
          "output_type": "execute_result",
          "data": {
            "text/plain": [
              "                                               headlines  \\\n",
              "88949  Child cries as F1 racer crashes out, meets dri...   \n",
              "32168  Cops to protect Hyd mosque after Shiva idol in...   \n",
              "5490   Kirsten, Gibbs, Powar to appear for India wome...   \n",
              "91678  Ikea responds to Balenciaga's Ã¢ÂÂ¹1 lakh loo...   \n",
              "79475  Ã¢ÂÂ¹19,000 crore black money found in HSBC, ...   \n",
              "36435  ED traces Ã¢ÂÂ¹5,000cr moved through Nirav, C...   \n",
              "35634  Koena Mitra slams Sonam for her tweet on Kathu...   \n",
              "46842  WhatsApp rolls out group description feature f...   \n",
              "76532  Couple buys entire street in wealthy area, ang...   \n",
              "54900  Mumbai to get its biggest sports complex in Da...   \n",
              "\n",
              "                                                    text  \n",
              "88949  A six-year-old F1 fan, who cried in the stands...  \n",
              "32168  Police were assigned to protect the Alijapur m...  \n",
              "5490   India's 2011 World Cup-winning coach Gary Kirs...  \n",
              "91678  Furniture retailer company Ikea has responded ...  \n",
              "79475  Finance Minister Arun Jaitley has said the Inc...  \n",
              "36435  The Enforcement Directorate has traced over Ã¢...  \n",
              "35634  Actress Koena Mitra has slammed Sonam Kapoor f...  \n",
              "46842  Facebook-owned messaging service WhatsApp has ...  \n",
              "76532  A couple has bought a street in the wealthy ne...  \n",
              "54900  The Brihanmumbai Municipal Corporation's garde...  "
            ],
            "text/html": [
              "\n",
              "  <div id=\"df-adc1dde5-c996-407c-a67a-b7faa2d3d047\">\n",
              "    <div class=\"colab-df-container\">\n",
              "      <div>\n",
              "<style scoped>\n",
              "    .dataframe tbody tr th:only-of-type {\n",
              "        vertical-align: middle;\n",
              "    }\n",
              "\n",
              "    .dataframe tbody tr th {\n",
              "        vertical-align: top;\n",
              "    }\n",
              "\n",
              "    .dataframe thead th {\n",
              "        text-align: right;\n",
              "    }\n",
              "</style>\n",
              "<table border=\"1\" class=\"dataframe\">\n",
              "  <thead>\n",
              "    <tr style=\"text-align: right;\">\n",
              "      <th></th>\n",
              "      <th>headlines</th>\n",
              "      <th>text</th>\n",
              "    </tr>\n",
              "  </thead>\n",
              "  <tbody>\n",
              "    <tr>\n",
              "      <th>88949</th>\n",
              "      <td>Child cries as F1 racer crashes out, meets dri...</td>\n",
              "      <td>A six-year-old F1 fan, who cried in the stands...</td>\n",
              "    </tr>\n",
              "    <tr>\n",
              "      <th>32168</th>\n",
              "      <td>Cops to protect Hyd mosque after Shiva idol in...</td>\n",
              "      <td>Police were assigned to protect the Alijapur m...</td>\n",
              "    </tr>\n",
              "    <tr>\n",
              "      <th>5490</th>\n",
              "      <td>Kirsten, Gibbs, Powar to appear for India wome...</td>\n",
              "      <td>India's 2011 World Cup-winning coach Gary Kirs...</td>\n",
              "    </tr>\n",
              "    <tr>\n",
              "      <th>91678</th>\n",
              "      <td>Ikea responds to Balenciaga's Ã¢ÂÂ¹1 lakh loo...</td>\n",
              "      <td>Furniture retailer company Ikea has responded ...</td>\n",
              "    </tr>\n",
              "    <tr>\n",
              "      <th>79475</th>\n",
              "      <td>Ã¢ÂÂ¹19,000 crore black money found in HSBC, ...</td>\n",
              "      <td>Finance Minister Arun Jaitley has said the Inc...</td>\n",
              "    </tr>\n",
              "    <tr>\n",
              "      <th>36435</th>\n",
              "      <td>ED traces Ã¢ÂÂ¹5,000cr moved through Nirav, C...</td>\n",
              "      <td>The Enforcement Directorate has traced over Ã¢...</td>\n",
              "    </tr>\n",
              "    <tr>\n",
              "      <th>35634</th>\n",
              "      <td>Koena Mitra slams Sonam for her tweet on Kathu...</td>\n",
              "      <td>Actress Koena Mitra has slammed Sonam Kapoor f...</td>\n",
              "    </tr>\n",
              "    <tr>\n",
              "      <th>46842</th>\n",
              "      <td>WhatsApp rolls out group description feature f...</td>\n",
              "      <td>Facebook-owned messaging service WhatsApp has ...</td>\n",
              "    </tr>\n",
              "    <tr>\n",
              "      <th>76532</th>\n",
              "      <td>Couple buys entire street in wealthy area, ang...</td>\n",
              "      <td>A couple has bought a street in the wealthy ne...</td>\n",
              "    </tr>\n",
              "    <tr>\n",
              "      <th>54900</th>\n",
              "      <td>Mumbai to get its biggest sports complex in Da...</td>\n",
              "      <td>The Brihanmumbai Municipal Corporation's garde...</td>\n",
              "    </tr>\n",
              "  </tbody>\n",
              "</table>\n",
              "</div>\n",
              "      <button class=\"colab-df-convert\" onclick=\"convertToInteractive('df-adc1dde5-c996-407c-a67a-b7faa2d3d047')\"\n",
              "              title=\"Convert this dataframe to an interactive table.\"\n",
              "              style=\"display:none;\">\n",
              "        \n",
              "  <svg xmlns=\"http://www.w3.org/2000/svg\" height=\"24px\"viewBox=\"0 0 24 24\"\n",
              "       width=\"24px\">\n",
              "    <path d=\"M0 0h24v24H0V0z\" fill=\"none\"/>\n",
              "    <path d=\"M18.56 5.44l.94 2.06.94-2.06 2.06-.94-2.06-.94-.94-2.06-.94 2.06-2.06.94zm-11 1L8.5 8.5l.94-2.06 2.06-.94-2.06-.94L8.5 2.5l-.94 2.06-2.06.94zm10 10l.94 2.06.94-2.06 2.06-.94-2.06-.94-.94-2.06-.94 2.06-2.06.94z\"/><path d=\"M17.41 7.96l-1.37-1.37c-.4-.4-.92-.59-1.43-.59-.52 0-1.04.2-1.43.59L10.3 9.45l-7.72 7.72c-.78.78-.78 2.05 0 2.83L4 21.41c.39.39.9.59 1.41.59.51 0 1.02-.2 1.41-.59l7.78-7.78 2.81-2.81c.8-.78.8-2.07 0-2.86zM5.41 20L4 18.59l7.72-7.72 1.47 1.35L5.41 20z\"/>\n",
              "  </svg>\n",
              "      </button>\n",
              "      \n",
              "  <style>\n",
              "    .colab-df-container {\n",
              "      display:flex;\n",
              "      flex-wrap:wrap;\n",
              "      gap: 12px;\n",
              "    }\n",
              "\n",
              "    .colab-df-convert {\n",
              "      background-color: #E8F0FE;\n",
              "      border: none;\n",
              "      border-radius: 50%;\n",
              "      cursor: pointer;\n",
              "      display: none;\n",
              "      fill: #1967D2;\n",
              "      height: 32px;\n",
              "      padding: 0 0 0 0;\n",
              "      width: 32px;\n",
              "    }\n",
              "\n",
              "    .colab-df-convert:hover {\n",
              "      background-color: #E2EBFA;\n",
              "      box-shadow: 0px 1px 2px rgba(60, 64, 67, 0.3), 0px 1px 3px 1px rgba(60, 64, 67, 0.15);\n",
              "      fill: #174EA6;\n",
              "    }\n",
              "\n",
              "    [theme=dark] .colab-df-convert {\n",
              "      background-color: #3B4455;\n",
              "      fill: #D2E3FC;\n",
              "    }\n",
              "\n",
              "    [theme=dark] .colab-df-convert:hover {\n",
              "      background-color: #434B5C;\n",
              "      box-shadow: 0px 1px 3px 1px rgba(0, 0, 0, 0.15);\n",
              "      filter: drop-shadow(0px 1px 2px rgba(0, 0, 0, 0.3));\n",
              "      fill: #FFFFFF;\n",
              "    }\n",
              "  </style>\n",
              "\n",
              "      <script>\n",
              "        const buttonEl =\n",
              "          document.querySelector('#df-adc1dde5-c996-407c-a67a-b7faa2d3d047 button.colab-df-convert');\n",
              "        buttonEl.style.display =\n",
              "          google.colab.kernel.accessAllowed ? 'block' : 'none';\n",
              "\n",
              "        async function convertToInteractive(key) {\n",
              "          const element = document.querySelector('#df-adc1dde5-c996-407c-a67a-b7faa2d3d047');\n",
              "          const dataTable =\n",
              "            await google.colab.kernel.invokeFunction('convertToInteractive',\n",
              "                                                     [key], {});\n",
              "          if (!dataTable) return;\n",
              "\n",
              "          const docLinkHtml = 'Like what you see? Visit the ' +\n",
              "            '<a target=\"_blank\" href=https://colab.research.google.com/notebooks/data_table.ipynb>data table notebook</a>'\n",
              "            + ' to learn more about interactive tables.';\n",
              "          element.innerHTML = '';\n",
              "          dataTable['output_type'] = 'display_data';\n",
              "          await google.colab.output.renderOutput(dataTable, element);\n",
              "          const docLink = document.createElement('div');\n",
              "          docLink.innerHTML = docLinkHtml;\n",
              "          element.appendChild(docLink);\n",
              "        }\n",
              "      </script>\n",
              "    </div>\n",
              "  </div>\n",
              "  "
            ]
          },
          "metadata": {},
          "execution_count": 9
        }
      ]
    },
    {
      "cell_type": "markdown",
      "source": [
        "text와 headlines 정보로 구성되어 있다."
      ],
      "metadata": {
        "id": "2QFItAt2qor5"
      }
    },
    {
      "cell_type": "code",
      "source": [
        "print('전체 샘플수 :', (len(data)))"
      ],
      "metadata": {
        "colab": {
          "base_uri": "https://localhost:8080/"
        },
        "id": "IzVvPhDjSpO4",
        "outputId": "746ff1ca-5a6a-4398-f873-7e6ce9a23e28"
      },
      "execution_count": null,
      "outputs": [
        {
          "output_type": "stream",
          "name": "stdout",
          "text": [
            "전체 샘플수 : 98401\n"
          ]
        }
      ]
    },
    {
      "cell_type": "markdown",
      "source": [
        "전체 98401개의 샘플이 있다."
      ],
      "metadata": {
        "id": "vsPoaC1ZSocf"
      }
    },
    {
      "cell_type": "code",
      "source": [
        "print('headlines 열에서 중복을 배제한 유일한 샘플의 수 :', data['headlines'].nunique())\n",
        "print('text 열에서 중복을 배제한 유일한 샘플의 수 :', data['text'].nunique())"
      ],
      "metadata": {
        "id": "8Ix-Mr_MT3Qf",
        "colab": {
          "base_uri": "https://localhost:8080/"
        },
        "outputId": "bbb2cd74-eb04-45ae-b8e3-4613f5d62553"
      },
      "execution_count": null,
      "outputs": [
        {
          "output_type": "stream",
          "name": "stdout",
          "text": [
            "headlines 열에서 중복을 배제한 유일한 샘플의 수 : 98280\n",
            "text 열에서 중복을 배제한 유일한 샘플의 수 : 98360\n"
          ]
        }
      ]
    },
    {
      "cell_type": "code",
      "source": [
        "data.drop_duplicates(subset = ['headlines'], inplace=True)\n",
        "print('전체 샘플수 :', (len(data)))"
      ],
      "metadata": {
        "id": "qGlotkEUT4Eh",
        "colab": {
          "base_uri": "https://localhost:8080/"
        },
        "outputId": "6689f7fc-e8fc-4c70-b9b1-1ae43b707fea"
      },
      "execution_count": null,
      "outputs": [
        {
          "output_type": "stream",
          "name": "stdout",
          "text": [
            "전체 샘플수 : 98280\n"
          ]
        }
      ]
    },
    {
      "cell_type": "markdown",
      "source": [
        "데이터프레임의 **drop_duplicates()**를 사용하여 중복 샘플을 제거한다."
      ],
      "metadata": {
        "id": "xgcs6RGtfDvJ"
      }
    },
    {
      "cell_type": "markdown",
      "source": [
        "중복이 제거되면서 샘플 수가 98,280개로 줄어들었다."
      ],
      "metadata": {
        "id": "SPK98ZGPe35x"
      }
    },
    {
      "cell_type": "code",
      "source": [
        "print(data.isnull().sum())"
      ],
      "metadata": {
        "id": "8K29ul32T9-o",
        "colab": {
          "base_uri": "https://localhost:8080/"
        },
        "outputId": "adab01bc-6119-4e85-8df4-f4a7db345277"
      },
      "execution_count": null,
      "outputs": [
        {
          "output_type": "stream",
          "name": "stdout",
          "text": [
            "headlines    0\n",
            "text         0\n",
            "dtype: int64\n"
          ]
        }
      ]
    },
    {
      "cell_type": "markdown",
      "source": [
        "**.isnull().sum()**을 사용하여 데이터프레임에 Null 값이 있는지  확인한다."
      ],
      "metadata": {
        "id": "AJ6Z3amRfQrY"
      }
    },
    {
      "cell_type": "markdown",
      "source": [
        "추상적 요약을 하는 경우에는 text를 본문, headlines를 이미 요약된 데이터로 삼아서 모델을 학습할 수 있어요.\n",
        "<br/>추출적 요약을 하는 경우에는 오직 text열만을 사용하세요."
      ],
      "metadata": {
        "id": "uRMCYzLlyBbA"
      }
    },
    {
      "cell_type": "markdown",
      "source": [
        "#추상적 요약"
      ],
      "metadata": {
        "id": "ZMVrCBmeswVx"
      }
    },
    {
      "cell_type": "markdown",
      "source": [
        "##텍스트 정규화"
      ],
      "metadata": {
        "id": "BMbLP5Cef7iZ"
      }
    },
    {
      "cell_type": "markdown",
      "source": [
        "**텍스트 정규화(text normalization)**는 추가적으로 데이터를 처리하려고 자연어로 된 텍스트를 준비하는 과정이다."
      ],
      "metadata": {
        "id": "z7rl8gKshXfh"
      }
    },
    {
      "cell_type": "markdown",
      "source": [
        "텍스트 정규화에는 여러 방법이 있다.\n"
      ],
      "metadata": {
        "id": "ynheasel9Y3K"
      }
    },
    {
      "cell_type": "markdown",
      "source": [
        "**토큰화(tokenization)**\n",
        "<br/>NLTK 라이브러리에서 토큰화를 한다.\n",
        "* word_tokenize(단어 토크나이저)\n",
        "* sent_tokenize(문장 토크나이저)\n",
        "* regexp_tokenize(정규 표현식 기반의 토크나이저)\n",
        "* WordPunctTokenizer(이모티콘을 이용한 감성 분석)"
      ],
      "metadata": {
        "id": "S0grJSLzh865"
      }
    },
    {
      "cell_type": "markdown",
      "source": [
        "**단어의 대·소문자 통일**\n",
        "<br/>**불용어 제거**\n",
        "<br/>**형태소 분석(stemming)**\n",
        "* Porter(포터)\n",
        "* Lancaster(랭커스터)\n",
        "* lemmatize(원형 추출)"
      ],
      "metadata": {
        "id": "yWdVsSbYiqpB"
      }
    },
    {
      "cell_type": "markdown",
      "source": [
        "뉴스 텍스트 요약 도구에 맞는 텍스트 정규화 방법을 사용한다."
      ],
      "metadata": {
        "id": "D7Hoi57e9O-5"
      }
    },
    {
      "cell_type": "markdown",
      "source": [
        "###불용어 사전"
      ],
      "metadata": {
        "id": "subiKOyHsG5R"
      }
    },
    {
      "cell_type": "markdown",
      "source": [
        "불용어는 큰 의미가 없다.\n",
        "<br/>자주 등장하지만 텍스트 이해에 기여하는 바가 없기 때문이다.\n",
        "<br/>"
      ],
      "metadata": {
        "id": "RM0Gd7wkkp-g"
      }
    },
    {
      "cell_type": "markdown",
      "source": [
        "NLTK 라이브러리 자체 내에 정의된 영어 불용어 사전이 있다.\n"
      ],
      "metadata": {
        "id": "JxctCq_LliG4"
      }
    },
    {
      "cell_type": "code",
      "source": [
        "nltk.download('stopwords')"
      ],
      "metadata": {
        "colab": {
          "base_uri": "https://localhost:8080/"
        },
        "id": "CwkqxcP-m_QY",
        "outputId": "2df94aa0-6707-4ee0-df33-b8f6314c7b09"
      },
      "execution_count": null,
      "outputs": [
        {
          "output_type": "stream",
          "name": "stdout",
          "text": [
            "[nltk_data] Downloading package stopwords to /root/nltk_data...\n",
            "[nltk_data]   Unzipping corpora/stopwords.zip.\n"
          ]
        },
        {
          "output_type": "execute_result",
          "data": {
            "text/plain": [
              "True"
            ]
          },
          "metadata": {},
          "execution_count": 14
        }
      ]
    },
    {
      "cell_type": "code",
      "source": [
        "from nltk.corpus import stopwords\n",
        "nltk_stopwords = stopwords.words('english')"
      ],
      "metadata": {
        "id": "slemsENdm2WR"
      },
      "execution_count": null,
      "outputs": []
    },
    {
      "cell_type": "code",
      "source": [
        "for i in range(len(nltk_stopwords)):\n",
        "  if i % 17 == 0 and i != 0:\n",
        "    print()\n",
        "    print(nltk_stopwords[i-17:i], end='')\n",
        "print() \n",
        "print(nltk_stopwords[-9:])  \n",
        "\n",
        "print(\"\\nnltk 정규화 사전 단어의 수: \", len(nltk_stopwords))"
      ],
      "metadata": {
        "colab": {
          "base_uri": "https://localhost:8080/"
        },
        "id": "NZLU8LV7obaA",
        "outputId": "663aac68-a648-4aa1-93e5-839d76fa7b50"
      },
      "execution_count": null,
      "outputs": [
        {
          "output_type": "stream",
          "name": "stdout",
          "text": [
            "\n",
            "['i', 'me', 'my', 'myself', 'we', 'our', 'ours', 'ourselves', 'you', \"you're\", \"you've\", \"you'll\", \"you'd\", 'your', 'yours', 'yourself', 'yourselves']\n",
            "['he', 'him', 'his', 'himself', 'she', \"she's\", 'her', 'hers', 'herself', 'it', \"it's\", 'its', 'itself', 'they', 'them', 'their', 'theirs']\n",
            "['themselves', 'what', 'which', 'who', 'whom', 'this', 'that', \"that'll\", 'these', 'those', 'am', 'is', 'are', 'was', 'were', 'be', 'been']\n",
            "['being', 'have', 'has', 'had', 'having', 'do', 'does', 'did', 'doing', 'a', 'an', 'the', 'and', 'but', 'if', 'or', 'because']\n",
            "['as', 'until', 'while', 'of', 'at', 'by', 'for', 'with', 'about', 'against', 'between', 'into', 'through', 'during', 'before', 'after', 'above']\n",
            "['below', 'to', 'from', 'up', 'down', 'in', 'out', 'on', 'off', 'over', 'under', 'again', 'further', 'then', 'once', 'here', 'there']\n",
            "['when', 'where', 'why', 'how', 'all', 'any', 'both', 'each', 'few', 'more', 'most', 'other', 'some', 'such', 'no', 'nor', 'not']\n",
            "['only', 'own', 'same', 'so', 'than', 'too', 'very', 's', 't', 'can', 'will', 'just', 'don', \"don't\", 'should', \"should've\", 'now']\n",
            "['d', 'll', 'm', 'o', 're', 've', 'y', 'ain', 'aren', \"aren't\", 'couldn', \"couldn't\", 'didn', \"didn't\", 'doesn', \"doesn't\", 'hadn']\n",
            "[\"hadn't\", 'hasn', \"hasn't\", 'haven', \"haven't\", 'isn', \"isn't\", 'ma', 'mightn', \"mightn't\", 'mustn', \"mustn't\", 'needn', \"needn't\", 'shan', \"shan't\", 'shouldn']\n",
            "[\"shouldn't\", 'wasn', \"wasn't\", 'weren', \"weren't\", 'won', \"won't\", 'wouldn', \"wouldn't\"]\n",
            "\n",
            "nltk 정규화 사전 단어의 수:  179\n"
          ]
        }
      ]
    },
    {
      "cell_type": "markdown",
      "source": [
        "###Set 변환(자료형 시간복잡도 계산)"
      ],
      "metadata": {
        "id": "0qpI2KhHU2ca"
      }
    },
    {
      "cell_type": "code",
      "source": [
        "nltk_stopwords = set(stopwords.words('english'))"
      ],
      "metadata": {
        "id": "6sPNw1RFCQib"
      },
      "execution_count": null,
      "outputs": []
    },
    {
      "cell_type": "markdown",
      "source": [
        "불용어 사전 list를 set으로 바꾼다."
      ],
      "metadata": {
        "id": "ScULg1WgCFoC"
      }
    },
    {
      "cell_type": "markdown",
      "source": [
        "Python은 list보다 set으로 찾는 것이 훨씬 작업속도가 빠르다.\n",
        "<br/>"
      ],
      "metadata": {
        "id": "2nDxU7UjBF0a"
      }
    },
    {
      "cell_type": "code",
      "source": [
        "#import time\n",
        "#import sys, collections\n",
        "#from time import strftime\n",
        "list_process = []\n",
        "start_time = time.time()\n",
        "for i in range(1, 100000):\n",
        "    list_process.append(i)\n",
        "\n",
        "list_dq = collections.deque(list_process)\n",
        "list_d = list_dq.reverse()\n",
        "\n",
        "print(time.time() - start_time)"
      ],
      "metadata": {
        "colab": {
          "base_uri": "https://localhost:8080/"
        },
        "id": "hSr-jauxB_SK",
        "outputId": "27b4b684-8ba1-4cfa-9c1a-2182a2121aba"
      },
      "execution_count": null,
      "outputs": [
        {
          "output_type": "stream",
          "name": "stdout",
          "text": [
            "0.014227151870727539\n"
          ]
        }
      ]
    },
    {
      "cell_type": "code",
      "source": [
        "set_process = set()\n",
        "set_adder = list(range(1, 100000))\n",
        "start_time = time.time()\n",
        "set_process.update(set_adder)\n",
        "set_dq = collections.deque(set_process)\n",
        "\n",
        "set_d = set_dq.reverse()\n",
        "print(time.time() - start_time)"
      ],
      "metadata": {
        "colab": {
          "base_uri": "https://localhost:8080/"
        },
        "id": "9r74IabyOCJR",
        "outputId": "2ef75e69-a3e6-4898-f6be-9c8ee2a76ee3"
      },
      "execution_count": null,
      "outputs": [
        {
          "output_type": "stream",
          "name": "stdout",
          "text": [
            "0.004404306411743164\n"
          ]
        }
      ]
    },
    {
      "cell_type": "markdown",
      "source": [
        "list에서 in 연산자를 사용하면 사실 상 for문을 한번 도는 것이기 때문에 선형 시간인 O(n)의 시간 복잡도를 가진다.\n",
        "<br/>list에서 set으로 바꾸고 in 연산을 한다면 선형 시간 O(n)에서 O(1)로 작업 시간을 줄일 수 있다. "
      ],
      "metadata": {
        "id": "jBcs72StB-RB"
      }
    },
    {
      "cell_type": "markdown",
      "source": [
        "Python의 set과 dict는 이진 트리가 아니라 해시 테이블로 구현되어 있어서 평균 O(1)의 시간이 걸린다."
      ],
      "metadata": {
        "id": "xyCcyV7eC5aw"
      }
    },
    {
      "cell_type": "markdown",
      "source": [
        "Text 전처리 시에서만 호출하고 이미 상대적으로 문장 길이가 짧은 Summary 전처리할 때는 호출하지 않을 예정이다."
      ],
      "metadata": {
        "id": "AVXBE8b8tylB"
      }
    },
    {
      "cell_type": "markdown",
      "source": [
        "###축약어 사전"
      ],
      "metadata": {
        "id": "srx79Sx7tgZ5"
      }
    },
    {
      "cell_type": "markdown",
      "source": [
        "[스택오버플로우](https://stackoverflow.com/questions/19790188/expanding-english-language-contractions-in-python#)의 답변에 올라온 사용자 정의 축약어 사전을 저장한다."
      ],
      "metadata": {
        "id": "HY3qr1wBnR9o"
      }
    },
    {
      "cell_type": "code",
      "source": [
        "contractions = {\"ain't\": \"is not\", \"aren't\": \"are not\",\"can't\": \"cannot\", \"'cause\": \"because\", \"could've\": \"could have\", \"couldn't\": \"could not\",\n",
        "                           \"didn't\": \"did not\",  \"doesn't\": \"does not\", \"don't\": \"do not\", \"hadn't\": \"had not\", \"hasn't\": \"has not\", \"haven't\": \"have not\",\n",
        "                           \"he'd\": \"he would\",\"he'll\": \"he will\", \"he's\": \"he is\", \"how'd\": \"how did\", \"how'd'y\": \"how do you\", \"how'll\": \"how will\", \"how's\": \"how is\",\n",
        "                           \"I'd\": \"I would\", \"I'd've\": \"I would have\", \"I'll\": \"I will\", \"I'll've\": \"I will have\",\"I'm\": \"I am\", \"I've\": \"I have\", \"i'd\": \"i would\",\n",
        "                           \"i'd've\": \"i would have\", \"i'll\": \"i will\",  \"i'll've\": \"i will have\",\"i'm\": \"i am\", \"i've\": \"i have\", \"isn't\": \"is not\", \"it'd\": \"it would\",\n",
        "                           \"it'd've\": \"it would have\", \"it'll\": \"it will\", \"it'll've\": \"it will have\",\"it's\": \"it is\", \"let's\": \"let us\", \"ma'am\": \"madam\",\n",
        "                           \"mayn't\": \"may not\", \"might've\": \"might have\",\"mightn't\": \"might not\",\"mightn't've\": \"might not have\", \"must've\": \"must have\",\n",
        "                           \"mustn't\": \"must not\", \"mustn't've\": \"must not have\", \"needn't\": \"need not\", \"needn't've\": \"need not have\",\"o'clock\": \"of the clock\",\n",
        "                           \"oughtn't\": \"ought not\", \"oughtn't've\": \"ought not have\", \"shan't\": \"shall not\", \"sha'n't\": \"shall not\", \"shan't've\": \"shall not have\",\n",
        "                           \"she'd\": \"she would\", \"she'd've\": \"she would have\", \"she'll\": \"she will\", \"she'll've\": \"she will have\", \"she's\": \"she is\",\n",
        "                           \"should've\": \"should have\", \"shouldn't\": \"should not\", \"shouldn't've\": \"should not have\", \"so've\": \"so have\",\"so's\": \"so as\",\n",
        "                           \"this's\": \"this is\",\"that'd\": \"that would\", \"that'd've\": \"that would have\", \"that's\": \"that is\", \"there'd\": \"there would\",\n",
        "                           \"there'd've\": \"there would have\", \"there's\": \"there is\", \"here's\": \"here is\",\"they'd\": \"they would\", \"they'd've\": \"they would have\",\n",
        "                           \"they'll\": \"they will\", \"they'll've\": \"they will have\", \"they're\": \"they are\", \"they've\": \"they have\", \"to've\": \"to have\",\n",
        "                           \"wasn't\": \"was not\", \"we'd\": \"we would\", \"we'd've\": \"we would have\", \"we'll\": \"we will\", \"we'll've\": \"we will have\", \"we're\": \"we are\",\n",
        "                           \"we've\": \"we have\", \"weren't\": \"were not\", \"what'll\": \"what will\", \"what'll've\": \"what will have\", \"what're\": \"what are\",\n",
        "                           \"what's\": \"what is\", \"what've\": \"what have\", \"when's\": \"when is\", \"when've\": \"when have\", \"where'd\": \"where did\", \"where's\": \"where is\",\n",
        "                           \"where've\": \"where have\", \"who'll\": \"who will\", \"who'll've\": \"who will have\", \"who's\": \"who is\", \"who've\": \"who have\",\n",
        "                           \"why's\": \"why is\", \"why've\": \"why have\", \"will've\": \"will have\", \"won't\": \"will not\", \"won't've\": \"will not have\",\n",
        "                           \"would've\": \"would have\", \"wouldn't\": \"would not\", \"wouldn't've\": \"would not have\", \"y'all\": \"you all\",\n",
        "                           \"y'all'd\": \"you all would\",\"y'all'd've\": \"you all would have\",\"y'all're\": \"you all are\",\"y'all've\": \"you all have\",\n",
        "                           \"you'd\": \"you would\", \"you'd've\": \"you would have\", \"you'll\": \"you will\", \"you'll've\": \"you will have\",\n",
        "                           \"you're\": \"you are\", \"you've\": \"you have\"}\n",
        "\n",
        "print(\"스택오버플로우 정규화 사전 단어의 수: \", len(contractions))"
      ],
      "metadata": {
        "id": "9m-Y4ZC3UaRX",
        "colab": {
          "base_uri": "https://localhost:8080/"
        },
        "outputId": "1dba181e-5833-4f74-c562-9639d23a38c9"
      },
      "execution_count": null,
      "outputs": [
        {
          "output_type": "stream",
          "name": "stdout",
          "text": [
            "스택오버플로우 정규화 사전 단어의 수:  120\n"
          ]
        }
      ]
    },
    {
      "cell_type": "code",
      "source": [
        "def preprocess_sentence(sentence, remove_stopwords=True):\n",
        "    sentence = sentence.lower()\n",
        "    sentence = BeautifulSoup(sentence, \"lxml\").text\n",
        "    sentence = re.sub(r'\\([^)]*\\)', '', sentence) \n",
        "    sentence = re.sub('\"','', sentence) \n",
        "    sentence = re.sub(r\"'s\\b\",\"\", sentence) \n",
        "    sentence = ' '.join([contractions[t] if t in contractions else t for t in sentence.split(\" \")])\n",
        "    sentence = re.sub(\"[^a-zA-Z]\", \" \", sentence)\n",
        "    sentence = re.sub('[m]{2,}', 'mm', sentence) \n",
        "\n",
        "    if remove_stopwords:\n",
        "        tokens = ' '.join(word for word in sentence.split() if not word in stopwords.words('english') if len(word) > 1)\n",
        "    else:\n",
        "        tokens = ' '.join(word for word in sentence.split() if len(word) > 1)\n",
        "    return tokens\n",
        "\n",
        "    stemmer = nltk.stem.SnowballStemmer('english')\n",
        "    stemmer_words = [stemmer.stem(word) for word in tokens]\n",
        "    return(' '.join(stemming_words))"
      ],
      "metadata": {
        "id": "7FVTG_hCrEJK"
      },
      "execution_count": null,
      "outputs": []
    },
    {
      "cell_type": "markdown",
      "source": [
        "데이터 전처리 함수 preprocess_sentence를 정의한다."
      ],
      "metadata": {
        "id": "vyizhI89qaBL"
      }
    },
    {
      "cell_type": "markdown",
      "source": [
        "**lower()**는 텍스트를 소문자화한다."
      ],
      "metadata": {
        "id": "vtttcyDN6-fq"
      }
    },
    {
      "cell_type": "markdown",
      "source": [
        "**BeautifulSoup**에서  br/, a href = ... 등의 html 태그 제거를 한다."
      ],
      "metadata": {
        "id": "iNHnSlIf7E-i"
      }
    },
    {
      "cell_type": "markdown",
      "source": [
        "**re**에서 괄호로 닫힌 문자열 (...), 쌍따옴표, 소유격을 제거하고\n",
        "<br/>약어 정규화, 영어 외 문자(숫자, 특수문자 등) 공백으로 변환, m이 3개 이상이면 2개로 변경한다."
      ],
      "metadata": {
        "id": "MxwAS1Tq7UPp"
      }
    },
    {
      "cell_type": "markdown",
      "source": [
        "If 문에서 **remove_stopwords=True**면 불용어를 제거하고, **False**면 제거하지 않는다. "
      ],
      "metadata": {
        "id": "1iCIv2Vz8ACL"
      }
    },
    {
      "cell_type": "markdown",
      "source": [
        "**SnowballStemmer**는 Porter Stemmer의 에러를 수정한 어간 추출 알고리즘이다.\n",
        "<br/>어간 추출은 단어를 어간 형태로 표현함으로써 단어의 개수를 줄이는 기법이다.\n",
        "<br/>[Snowball 공식 홈페이지](https://snowballstem.org/algorithms/)에 정의된 어간 사전을 바탕으로 하여 어간을 추출한다.\n",
        "<br/>예를 들어 see, saw, seen 는 모두 \"see\"로 표기를 통일한다.\n",
        "<br/>Stemming을 통하여 단어 각각이 전하는 핵심 뜻을 간직하는 동시에, 복잡도를 낮춘다."
      ],
      "metadata": {
        "id": "vbUks8RT-3La"
      }
    },
    {
      "cell_type": "code",
      "source": [
        "temp_text = 'Everything I bought was great, infact I ordered twice and the third ordered was<br />for my mother and father.'\n",
        "temp_summary = 'Great way to start (or finish) the day!!!'\n",
        "\n",
        "print(\"text: \", preprocess_sentence(temp_text))\n",
        "print(\"summary:\", preprocess_sentence(temp_summary, False))  "
      ],
      "metadata": {
        "colab": {
          "base_uri": "https://localhost:8080/"
        },
        "id": "qyeEBvg5TD4J",
        "outputId": "d8e90bb9-fdca-4368-bee6-e5b4f668bdf1"
      },
      "execution_count": null,
      "outputs": [
        {
          "output_type": "stream",
          "name": "stdout",
          "text": [
            "text:  everything bought great infact ordered twice third ordered wasfor mother father\n",
            "summary: great way to start the day\n"
          ]
        }
      ]
    },
    {
      "cell_type": "markdown",
      "source": [
        "###멀티 프로세싱"
      ],
      "metadata": {
        "id": "V6S5CaNQXjew"
      }
    },
    {
      "cell_type": "code",
      "source": [
        "from multiprocessing import Pool\n",
        "import numpy as np\n",
        "\n",
        "def _apply_df(args):\n",
        "    df, func, kwargs = args\n",
        "    return df.apply(func, **kwargs)\n",
        "\n",
        "def apply_by_multiprocessing(df, func, **kwargs):\n",
        " \n",
        "    workers = kwargs.pop('workers')\n",
        "    pool = Pool(processes=workers)\n",
        "    result = pool.map(_apply_df, [(d, func, kwargs)\n",
        "            for d in np.array_split(df, workers)])\n",
        "    pool.close()\n",
        "    return pd.concat(list(result))"
      ],
      "metadata": {
        "id": "nDEuKdDzXnGa"
      },
      "execution_count": null,
      "outputs": []
    },
    {
      "cell_type": "markdown",
      "source": [
        "키워드 항목 중 workers 파라메터를 꺼낸다.\n",
        "<br/>위에서 가져온 workers 수로 프로세스 풀을 정의\n",
        "<br/>실행할 함수와 데이터프레임을 워커의 수 만큼 나눠 작업\n",
        "<br/>작업 결과를 합쳐서 반환"
      ],
      "metadata": {
        "id": "2lhdeBSdXw5Q"
      }
    },
    {
      "cell_type": "markdown",
      "source": [
        "전처리 이전과 이후의 문장을 비교한다."
      ],
      "metadata": {
        "id": "VhzgN4BHTLgo"
      }
    },
    {
      "cell_type": "markdown",
      "source": [
        "추상적 요약을 하는 경우에는 text를 본문, headlines를 이미 요약된 데이터로 삼아서 모델을 학습한다."
      ],
      "metadata": {
        "id": "ezyD0vuBSFug"
      }
    },
    {
      "cell_type": "code",
      "source": [
        "%time clean_train_reviews = apply_by_multiprocessing(\\\n",
        "    train['review'], review_to_words, workers=4)  "
      ],
      "metadata": {
        "id": "Y11g61dMXtnp"
      },
      "execution_count": null,
      "outputs": []
    },
    {
      "cell_type": "code",
      "source": [
        "clean_text = []\n",
        "\n",
        "for s in data['text']:\n",
        "    clean_text.append(preprocess_sentence(s))\n",
        "\n",
        "print(\"text 전처리 후 결과: \", clean_text[:5])"
      ],
      "metadata": {
        "id": "GSaBFJ6ITVGp"
      },
      "execution_count": null,
      "outputs": []
    },
    {
      "cell_type": "markdown",
      "source": [
        "text에 대해서 전처리 함수를 호출해 줄 때는, 불용어 제거를 수행한다."
      ],
      "metadata": {
        "id": "8JULj80VULIK"
      }
    },
    {
      "cell_type": "code",
      "source": [
        "clean_headlines = []\n",
        "\n",
        "for s in data['headlines']:\n",
        "    clean_headlines.append(preprocess_sentence(s, False))\n",
        "\n",
        "print(\"headlines 전처리 후 결과: \", clean_headlines[:5])"
      ],
      "metadata": {
        "id": "8ruyDlvqTjf4"
      },
      "execution_count": null,
      "outputs": []
    },
    {
      "cell_type": "markdown",
      "source": [
        "headlines에 대해서 전처리 함수를 호출해 줄 때는, 불용어 제거를 수행하지 않는다."
      ],
      "metadata": {
        "id": "vDc_k6ppUNLQ"
      }
    },
    {
      "cell_type": "code",
      "source": [
        "data['Text'] = clean_text\n",
        "data['Headlines'] =  clean_headlines\n",
        "\n",
        "data.replace('', np.nan, inplace=True)"
      ],
      "metadata": {
        "id": "zVX1u7FAUc-_"
      },
      "execution_count": null,
      "outputs": []
    },
    {
      "cell_type": "markdown",
      "source": [
        "데이터들을 데이터프레임에 저장하고\n",
        "<br/>빈(empty) 값을 가진 샘플들이 있다면, Null 값을 가진 샘플로 대체한다."
      ],
      "metadata": {
        "id": "2Ne_h4DbV8Dn"
      }
    },
    {
      "cell_type": "code",
      "source": [
        "data.isnull().sum()"
      ],
      "metadata": {
        "id": "W5hwidG_UjVB"
      },
      "execution_count": null,
      "outputs": []
    },
    {
      "cell_type": "code",
      "source": [
        "data.dropna(axis=0, inplace=True)"
      ],
      "metadata": {
        "id": "tT5ss9nlWtAZ"
      },
      "execution_count": null,
      "outputs": []
    },
    {
      "cell_type": "markdown",
      "source": [
        ".isnull().sum()을 사용해서 Null 값이 생겼는지 확인한다.<br/>Headlines 열에서 70개의 Null 값이 생겼다.<br/>이 샘플들을 제거한다."
      ],
      "metadata": {
        "id": "dZZQPiwxTDTR"
      }
    },
    {
      "cell_type": "code",
      "source": [
        "print('전체 샘플수 :', (len(data)))"
      ],
      "metadata": {
        "id": "dlWilBTdqZ-x"
      },
      "execution_count": null,
      "outputs": []
    },
    {
      "cell_type": "markdown",
      "source": [
        "전체 샘플 수는 "
      ],
      "metadata": {
        "id": "95b5buFbWZa4"
      }
    },
    {
      "cell_type": "markdown",
      "source": [
        "##train, test 데이터 분리"
      ],
      "metadata": {
        "id": "P4LZJxQoXHqh"
      }
    },
    {
      "cell_type": "code",
      "source": [
        "# 길이 분포 출력\n",
        "import matplotlib.pyplot as plt\n",
        "\n",
        "text_len = [len(s.split()) for s in data['Text']]\n",
        "summary_len = [len(s.split()) for s in data['Headlines']]\n",
        "\n",
        "print('텍스트의 최소 길이 : {}'.format(np.min(text_len)))\n",
        "print('텍스트의 최대 길이 : {}'.format(np.max(text_len)))\n",
        "print('텍스트의 평균 길이 : {}'.format(np.mean(text_len)))\n",
        "print('요약의 최소 길이 : {}'.format(np.min(summary_len)))\n",
        "print('요약의 최대 길이 : {}'.format(np.max(summary_len)))\n",
        "print('요약의 평균 길이 : {}'.format(np.mean(summary_len)))\n",
        "\n",
        "plt.subplot(1,2,1)\n",
        "plt.boxplot(text_len)\n",
        "plt.title('Text')\n",
        "plt.subplot(1,2,2)\n",
        "plt.boxplot(summary_len)\n",
        "plt.title('Summary')\n",
        "plt.tight_layout()\n",
        "plt.show()\n",
        "\n",
        "plt.title('Text')\n",
        "plt.hist(text_len, bins = 40)\n",
        "plt.xlabel('length of samples')\n",
        "plt.ylabel('number of samples')\n",
        "plt.show()\n",
        "\n",
        "plt.title('Summary')\n",
        "plt.hist(summary_len, bins = 40)\n",
        "plt.xlabel('length of samples')\n",
        "plt.ylabel('number of samples')\n",
        "plt.show()"
      ],
      "metadata": {
        "id": "-dZPO0G5XBzw"
      },
      "execution_count": null,
      "outputs": []
    },
    {
      "cell_type": "markdown",
      "source": [
        "##어텐션 메커니즘"
      ],
      "metadata": {
        "id": "bFC4fdk4qaTp"
      }
    },
    {
      "cell_type": "markdown",
      "source": [
        "일반적인 seq2seq보다는 어텐션 메커니즘을 사용한 seq2seq를 사용하는 것이 더 나은 성능을 얻을 수 있어요. 실습 내용을 참고하여 어텐션 메커니즘을 사용한 seq2seq를 설계해 보세요."
      ],
      "metadata": {
        "id": "pHhTF6GWtUSZ"
      }
    },
    {
      "cell_type": "code",
      "source": [
        ""
      ],
      "metadata": {
        "id": "Pi5Uz9-6qagZ"
      },
      "execution_count": null,
      "outputs": []
    },
    {
      "cell_type": "markdown",
      "source": [
        "##실제 결과와 요약문"
      ],
      "metadata": {
        "id": "yuIVazpcqdex"
      }
    },
    {
      "cell_type": "markdown",
      "source": [
        "원래의 요약문(headlines 열)과 학습을 통해 얻은 추상적 요약의 결과를 비교해 보세요"
      ],
      "metadata": {
        "id": "19Qe96WGtROy"
      }
    },
    {
      "cell_type": "code",
      "source": [
        ""
      ],
      "metadata": {
        "id": "yzT12jI5qdnp"
      },
      "execution_count": null,
      "outputs": []
    },
    {
      "cell_type": "code",
      "source": [
        ""
      ],
      "metadata": {
        "id": "ShQI27Oks4Dx"
      },
      "execution_count": null,
      "outputs": []
    },
    {
      "cell_type": "markdown",
      "source": [
        "#추출적 요약"
      ],
      "metadata": {
        "id": "83hQxx8Hs__J"
      }
    },
    {
      "cell_type": "markdown",
      "source": [
        "추출적 요약을 하는 경우에는 text열만을 사용한다."
      ],
      "metadata": {
        "id": "L2_0WqDASOkn"
      }
    },
    {
      "cell_type": "markdown",
      "source": [
        "추상적 요약은 추출적 요약과는 달리 문장의 표현력을 다양하게 가져갈 수 있지만, 추출적 요약에 비해서 난이도가 높아요. 반대로 말하면 추출적 요약은 추상적 요약에 비해 난이도가 낮고 기존 문장에서 문장을 꺼내오는 것이므로 잘못된 요약이 나올 가능성이 낮아요."
      ],
      "metadata": {
        "id": "F3Vgz7qwtIoQ"
      }
    },
    {
      "cell_type": "markdown",
      "source": [
        "Summa의 summarize를 사용하여 추출적 요약을 해보세요."
      ],
      "metadata": {
        "id": "v4RfCy96tPgQ"
      }
    },
    {
      "cell_type": "markdown",
      "source": [
        "##Summa"
      ],
      "metadata": {
        "id": "QpFdLZK3s9nZ"
      }
    }
  ]
}