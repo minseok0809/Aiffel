{
 "cells": [
  {
   "cell_type": "markdown",
   "id": "725a4d35",
   "metadata": {},
   "source": [
    "LMS Exploration\n",
    "<br/>**5. 인공지능과 가위바위보 하기**"
   ]
  },
  {
   "cell_type": "markdown",
   "id": "773291ec",
   "metadata": {},
   "source": [
    "train, test 데이터 분리"
   ]
  },
  {
   "cell_type": "code",
   "execution_count": 2,
   "id": "5cc4f955",
   "metadata": {},
   "outputs": [
    {
     "data": {
      "text/plain": [
       "'C:\\\\Users\\\\Min Seok\\\\JupyterAiffel\\\\rock_scissor_papers'"
      ]
     },
     "execution_count": 2,
     "metadata": {},
     "output_type": "execute_result"
    }
   ],
   "source": [
    "import os\n",
    "change_path = 'C:/Users/Min Seok/JupyterAiffel/rock_scissor_papers'\n",
    "\n",
    "os.chdir(change_path)\n",
    "os.getcwd()"
   ]
  },
  {
   "cell_type": "code",
   "execution_count": 4,
   "id": "c508b920",
   "metadata": {},
   "outputs": [
    {
     "name": "stderr",
     "output_type": "stream",
     "text": [
      "Copying files: 2270 files [00:04, 562.69 files/s]\n",
      "Copying files: 2202 files [00:04, 506.97 files/s]\n",
      "Copying files: 2320 files [00:20, 115.60 files/s]\n"
     ]
    }
   ],
   "source": [
    "import splitfolders as sp\n",
    "sp.ratio('paper', output='paper_output',\n",
    "                  seed=1337, ratio=(.7, .0, .3))\n",
    "\n",
    "sp.ratio('rock', output='rock_output',\n",
    "                  seed=1337, ratio=(.7, .0, .3))\n",
    "\n",
    "sp.ratio('scissors', output='scissors_output',\n",
    "                  seed=1337, ratio=(.7, .0, .3))"
   ]
  }
 ],
 "metadata": {
  "kernelspec": {
   "display_name": "Python 3 (ipykernel)",
   "language": "python",
   "name": "python3"
  },
  "language_info": {
   "codemirror_mode": {
    "name": "ipython",
    "version": 3
   },
   "file_extension": ".py",
   "mimetype": "text/x-python",
   "name": "python",
   "nbconvert_exporter": "python",
   "pygments_lexer": "ipython3",
   "version": "3.8.13"
  }
 },
 "nbformat": 4,
 "nbformat_minor": 5
}
