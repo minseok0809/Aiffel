{
  "nbformat": 4,
  "nbformat_minor": 0,
  "metadata": {
    "colab": {
      "name": "[E_07]TextSummarization(News).ipynb",
      "provenance": [],
      "collapsed_sections": [],
      "machine_shape": "hm",
      "toc_visible": true
    },
    "kernelspec": {
      "name": "python3",
      "display_name": "Python 3"
    },
    "language_info": {
      "name": "python"
    },
    "accelerator": "GPU"
  },
  "cells": [
    {
      "cell_type": "markdown",
      "source": [
        "LMS Exploration\n",
        "<br/>**7. 뉴스 요약봇 만들기**"
      ],
      "metadata": {
        "id": "LxYkwjI3LXBx"
      }
    },
    {
      "cell_type": "markdown",
      "source": [
        "개발 환경\n",
        "<br/>데이터 정보\n",
        "<br/>데이터 탐색\n",
        "<br/>텍스트 정규화\n",
        "<br/>문서 요약"
      ],
      "metadata": {
        "id": "GtYOTxmAs6do"
      }
    },
    {
      "cell_type": "markdown",
      "source": [
        "추상적 요약"
      ],
      "metadata": {
        "id": "OA8jV9q3KHg9"
      }
    },
    {
      "cell_type": "markdown",
      "source": [
        "텍스트 정규화\n",
        "<br/>불용어 사전\n",
        "<br/>BIG O\n",
        "<br/>축약어 사전\n",
        "<br/>텍스트 정규화 함수"
      ],
      "metadata": {
        "id": "xDP3ZcwnKPFq"
      }
    },
    {
      "cell_type": "markdown",
      "source": [
        "데이터 전처리\n",
        "<br/>훈련 샘플의 최대 길이\n",
        "<br/>시작 토큰과 종료 토큰 추가\n",
        "<br/>정수 시퀀스 샘플 셔플\n",
        "<br/>train, test 데이터 분리\n",
        "<br/>정수 인코딩\n",
        "<br/>패딩"
      ],
      "metadata": {
        "id": "QMjlSh0mP8cK"
      }
    },
    {
      "cell_type": "markdown",
      "source": [
        "모델 구성\n",
        "<br/>Encoder\n",
        "<br/>Decoder\n",
        "<br/>Attention Mechanism"
      ],
      "metadata": {
        "id": "3BIR-DxwP-a5"
      }
    },
    {
      "cell_type": "markdown",
      "source": [
        "\n",
        "모델 학습\n",
        "<br/>인퍼런스 모델 구성\n",
        "<br/>실제 결과와 요약문 비교"
      ],
      "metadata": {
        "id": "46iyJfpSQAdY"
      }
    },
    {
      "cell_type": "markdown",
      "source": [
        "추출적 요약\n",
        "<br/>결론\n",
        "<br/>참고문헌"
      ],
      "metadata": {
        "id": "wN5MF4dGKKES"
      }
    },
    {
      "cell_type": "markdown",
      "source": [
        "#개발 환경"
      ],
      "metadata": {
        "id": "tAv13m_-Lz1S"
      }
    },
    {
      "cell_type": "code",
      "source": [
        "!pip install importlib"
      ],
      "metadata": {
        "id": "vE3plfYN2FS_"
      },
      "execution_count": null,
      "outputs": []
    },
    {
      "cell_type": "code",
      "source": [
        "!pip install importlib-metadata"
      ],
      "metadata": {
        "id": "qSuDrsnF2WZ_"
      },
      "execution_count": null,
      "outputs": []
    },
    {
      "cell_type": "code",
      "source": [
        "!pip install summa"
      ],
      "metadata": {
        "id": "qqsFakPh2ndn"
      },
      "execution_count": null,
      "outputs": []
    },
    {
      "cell_type": "code",
      "execution_count": null,
      "metadata": {
        "id": "_Hk_UNhCLV8o"
      },
      "outputs": [],
      "source": [
        "import nltk\n",
        "import summa\n",
        "import re\n",
        "from bs4 import BeautifulSoup"
      ]
    },
    {
      "cell_type": "markdown",
      "source": [
        "NLTK(Natural Language Toolkit)는 교육용으로 개발된 자연어 처리 및 문서 분석용 파이썬 패키지다.\n",
        "<br/>말뭉치, 토큰 생성, 형태소 분석, 품사 태깅의 기능을 사용한다."
      ],
      "metadata": {
        "id": "mIG31iIT4eeW"
      }
    },
    {
      "cell_type": "markdown",
      "source": [
        "summa는 텍스트 요약과 키워드 추출을 실행하는 TextRank 라이브러리이다.\n",
        "<br/>TextRank는 구글의 페이지 랭크 알고리즘을 기반하여\n",
        "<br/>텍스트로 이루어진 글에서 특정 단어가 다른 문장과 얼마만큼의 관계를 맺고 있는지를 계산하는 알고리즘이다."
      ],
      "metadata": {
        "id": "jsJEKElOrlJb"
      }
    },
    {
      "cell_type": "markdown",
      "source": [
        "re(regex)는 특정 문자 또는 문자열이 존재하는지나 어느 위치에 있는지와 같은 기능을 제공하는 정규표현식 라이브러리이다."
      ],
      "metadata": {
        "id": "mzOL0c0WrlMS"
      }
    },
    {
      "cell_type": "markdown",
      "source": [
        "BeautifulSoup은 HTML 및 XML 파일에서 데이터를 Parsing 할 수 있는 라이브러리이다.<br/>Parsing이란 어떤 페이지(문서, html 등)에서 내가 원하는 데이터를 특정 패턴이나 순서로 추출해 가공하는 것이다."
      ],
      "metadata": {
        "id": "qcW-II1jrloD"
      }
    },
    {
      "cell_type": "code",
      "source": [
        "from importlib_metadata import version\n",
        "import tensorflow\n",
        "from tensorflow import keras\n",
        "from tensorflow.keras.preprocessing.text import Tokenizer\n",
        "from tensorflow.keras.preprocessing.sequence import pad_sequences\n",
        "import pandas as pd\n",
        "import numpy as np\n",
        "import os\n",
        "import warnings\n",
        "warnings.filterwarnings(\"ignore\", category=UserWarning, module='bs4')"
      ],
      "metadata": {
        "id": "zIw_qy6trcpj"
      },
      "execution_count": null,
      "outputs": []
    },
    {
      "cell_type": "markdown",
      "source": [
        "importlib은 이미 임포트 해둔 모듈의 내용을 수정하고 싶을 때 사용한다.\n",
        "<br/>임포트를 다시 하지 않고 모듈을 개발자의 환경에 맞게 수정한다.\n",
        "<br/>코드 편집기에 재접속했을 때도 그 개발 환경 변경 사항이 유지된다."
      ],
      "metadata": {
        "id": "iSBut3dQ0uT4"
      }
    },
    {
      "cell_type": "markdown",
      "source": [
        "importlib_metadata은 pip와 pkg_resources으로 패키지 메타데이터에 접근한다.\n",
        "<br/>pkg_resources의 entry point API(프로그램의 진입점)와 metadata API 기능을 담당한다.\n",
        "<br/>메타데이터는 package>-version-py version.egg-info 파일에 저장된다.\n",
        "\n",
        "\n",
        "\n"
      ],
      "metadata": {
        "id": "p2IT0lgmzdFf"
      }
    },
    {
      "cell_type": "markdown",
      "source": [
        "tensorflow는 구글이 개발한 오픈소스 소프트웨어 딥러닝 및 머신러닝 라이브러리이다.\n",
        "<br/>수학 계산식과 데이터의 흐름을 노드와 엣지를 사용한 방향성 그래프, 데이터 플로우 그래프로 나타낸다."
      ],
      "metadata": {
        "id": "UfTiMK3BsG1p"
      }
    },
    {
      "cell_type": "markdown",
      "source": [
        "keras는 Tensorflow위에서 동작하는 라이브러리이다.\n",
        "<br/>keras는 high level API로서 딥러닝의 기본 연산을 한다.<br/>딥러닝 프레임워크 tensorflow, theano, CNTK를 backend로 사용하여 연산 작업을 수행한다."
      ],
      "metadata": {
        "id": "iTsop2mO-Rg0"
      }
    },
    {
      "cell_type": "markdown",
      "source": [
        "keras의 Tokenizer는 문장으로부터 단어를 토큰화하고 숫자에 대응시키는 딕셔너리를 사용할 수 있게 한다.\n",
        "<br/>pad_sequences는 특정 값을 채워서 데이터의 크기(shape)를 조정한다."
      ],
      "metadata": {
        "id": "ZoM0flva3UP1"
      }
    },
    {
      "cell_type": "markdown",
      "source": [
        "pandas는 행과 열로 이루어진 데이터 객체를 만들어 안정적으로 대용량의 데이터들을 처리한다."
      ],
      "metadata": {
        "id": "6ynIl3HCu_NI"
      }
    },
    {
      "cell_type": "markdown",
      "source": [
        "numpy는 array 단위로 벡터와 행렬을 계산한다."
      ],
      "metadata": {
        "id": "pi91kHxrVv3Y"
      }
    },
    {
      "cell_type": "markdown",
      "source": [
        "os(Operating System)는 운영체제에서 제공되는 여러 기능을 파이썬에서 수행한다. <br/>예를 들어, 파일 복사, 디렉터리 생성, 파일 목록을 구할 수 있다."
      ],
      "metadata": {
        "id": "6Mr_8KB9uJkH"
      }
    },
    {
      "cell_type": "markdown",
      "source": [
        "warnings는 실행시에 경고메시지를 지우는 역할을 한다."
      ],
      "metadata": {
        "id": "o7EDNemMuMF_"
      }
    },
    {
      "cell_type": "code",
      "source": [
        "import time\n",
        "from time import strftime\n",
        "import sys\n",
        "import collections"
      ],
      "metadata": {
        "id": "0L2Xm7WbFR6i"
      },
      "execution_count": null,
      "outputs": []
    },
    {
      "cell_type": "markdown",
      "source": [
        "time은 epoch time(Unix time, POSIX time)을 다룬다.\n",
        "<br/>epoch time(timestamp)은 UTC(GMT+0) 기준으로 1970년 1월 1일 0시 0분 0초부터의 경과 시간을 나타낸다."
      ],
      "metadata": {
        "id": "0hRjKmVUFVF5"
      }
    },
    {
      "cell_type": "markdown",
      "source": [
        "time.strftime은 '연-월-일' 등 원하는 날짜/시간 포맷으로 출력한다."
      ],
      "metadata": {
        "id": "hYAxrSAYLr5e"
      }
    },
    {
      "cell_type": "markdown",
      "source": [
        "sys는 파이썬 인터프리터가 제공하는 변수와 함수를 직접 제어한다.\n",
        "<br/>명령 행에서 인수 전달(sys.argv), 강제로 스크립트 종료(sys.exit), 자신이 만든 모듈 불러와 사용(sys.path)하기 등의 기능이 있다."
      ],
      "metadata": {
        "id": "xGLumqn3GD25"
      }
    },
    {
      "cell_type": "markdown",
      "source": [
        "collections는 자료구조 라이브러리이다.\n",
        "<br/>스택과 큐 구현(deque), 등장 회수(counter) 세기 등의 기능이 있다."
      ],
      "metadata": {
        "id": "dPhNB-3OK944"
      }
    },
    {
      "cell_type": "code",
      "source": [
        "from google.colab import drive\n",
        "drive.mount('/content/drive')"
      ],
      "metadata": {
        "id": "UOUXJtI1T0Lf"
      },
      "execution_count": null,
      "outputs": []
    },
    {
      "cell_type": "code",
      "source": [
        "pip freeze > '/content/drive/MyDrive/lms/library_version.txt'"
      ],
      "metadata": {
        "id": "Y8F9nJJ3T0OV"
      },
      "execution_count": null,
      "outputs": []
    },
    {
      "cell_type": "code",
      "source": [
        "library_name = ['pandas=', 'numpy=', 'matplotlib=', 'nltk=', 'summa=', 'regex=', 'bs4=', 'mportlib-metadata=', 'tensorflow=',\n",
        "                ]\n",
        "library_version = []\n",
        "f = open('/content/drive/MyDrive/lms/library_version.txt', 'r')\n",
        "line = f.readline()\n",
        "while True:\n",
        "    line = f.readline()\n",
        "    if not line:\n",
        "      break\n",
        "    for i in library_name:\n",
        "      if i in line:\n",
        "        library_version.append(line)\n",
        "\n",
        "f.close()\n",
        "\n",
        "import sys\n",
        "print(sys.version)\n",
        "print()\n",
        "print(str(library_version).replace(\"[\",\"\").replace(\"]\",\"\").replace(\"'\",\"\").replace(\"\\\\n\",\"\").replace(\",\",\"\"), end='')"
      ],
      "metadata": {
        "colab": {
          "base_uri": "https://localhost:8080/"
        },
        "id": "KQQr4D7bT0RF",
        "outputId": "340929a8-a91d-4005-8f71-5b80f5d6e7e9"
      },
      "execution_count": null,
      "outputs": [
        {
          "output_type": "stream",
          "name": "stdout",
          "text": [
            "3.7.13 (default, Apr 24 2022, 01:04:09) \n",
            "[GCC 7.5.0]\n",
            "\n",
            "bs4==0.0.1 importlib-metadata==4.11.4 matplotlib==3.2.2 nltk==3.2.5 numpy==1.21.6 pandas==1.3.5 regex==2019.12.20 sklearn-pandas==1.8.0 summa==1.2.0 tensorflow==2.8.2+zzzcolab20220527125636"
          ]
        }
      ]
    },
    {
      "cell_type": "code",
      "source": [
        "gpu_info = !nvidia-smi\n",
        "gpu_info = '\\n'.join(gpu_info)\n",
        "if gpu_info.find('failed') >= 0:\n",
        "  print('Not connected to a GPU')\n",
        "else:\n",
        "  print(gpu_info)"
      ],
      "metadata": {
        "id": "-Wb6F5Apn4Pe"
      },
      "execution_count": null,
      "outputs": []
    },
    {
      "cell_type": "code",
      "source": [
        "from psutil import virtual_memory\n",
        "ram_gb = virtual_memory().total / 1e9\n",
        "print('Your runtime has {:.1f} gigabytes of available RAM\\n'.format(ram_gb))\n",
        "\n",
        "if ram_gb < 20:\n",
        "  print('Not using a high-RAM runtime')\n",
        "else:\n",
        "  print('You are using a high-RAM runtime!')"
      ],
      "metadata": {
        "id": "5RgV4tR5n4Vk"
      },
      "execution_count": null,
      "outputs": []
    },
    {
      "cell_type": "markdown",
      "source": [
        "Google Colab에서 할당된 GPU를 확인한다.\n",
        "<br/>고용량 메모리 VM에 액세스한다.고용량 메모리 VM에 액세스한다."
      ],
      "metadata": {
        "id": "RuM4zhKMpXpq"
      }
    },
    {
      "cell_type": "markdown",
      "source": [
        "#데이터 정보"
      ],
      "metadata": {
        "id": "vJi1fOTG92xs"
      }
    },
    {
      "cell_type": "markdown",
      "source": [
        "[news_summary_more.csv](https://github.com/sunnysai12345/News_Summary)"
      ],
      "metadata": {
        "id": "T9xFthlb962t"
      }
    },
    {
      "cell_type": "markdown",
      "source": [
        "데이터셋 제작자는 채팅 문맥을 분석하고 이해하는 일을 하고 있는 개발자다.\n",
        "<br/>BeautifulSoup의 bs4 모듈을 이용해 웹크롤링을 했다.\n",
        "<br/>뉴스 기사의 문법과 어휘는 좋은 통찰력을 준다고 믿는다."
      ],
      "metadata": {
        "id": "Vgc63AnSCldD"
      }
    },
    {
      "cell_type": "markdown",
      "source": [
        "2017년 Hindu(인도 제2위 영문 일간지), The Times of India(인도 최대 영문 일간지)\n",
        "<br/>Guardian(영국 일간지)의 기사와 Inshorts(요약문)를 수집한 데이터이다.\n",
        "<br/>Author_name, Headlines, Url of Article, Short text, Complete Article의 정보를 포함한다.\n",
        "<br/>텍스트 요약(Text Summarization) 도구를 만드는 데 사용된다."
      ],
      "metadata": {
        "id": "pJliCsqG97eV"
      }
    },
    {
      "cell_type": "markdown",
      "source": [
        "#데이터 탐색"
      ],
      "metadata": {
        "id": "4A1D0btEqStJ"
      }
    },
    {
      "cell_type": "code",
      "source": [
        "import urllib.request\n",
        "urllib.request.urlretrieve(\"https://raw.githubusercontent.com/sunnysai12345/News_Summary/master/news_summary_more.csv\", filename=\"news_summary_more.csv\")\n",
        "data = pd.read_csv('news_summary_more.csv', encoding='iso-8859-1')"
      ],
      "metadata": {
        "id": "2orBfswWLWo6"
      },
      "execution_count": null,
      "outputs": []
    },
    {
      "cell_type": "markdown",
      "source": [
        "urllib.request은 다이제스트 인증, 리디렉션, 쿠키 등과 같은 URL이나 HTTP를 여는 데 도움이 되는 함수와 클래스를 정의한다.\n",
        "<br/>웹 페이지 요청 및 데이터를 가져온다."
      ],
      "metadata": {
        "id": "mQNfl4YE6xk3"
      }
    },
    {
      "cell_type": "markdown",
      "source": [
        "iso-8859-1는 아스키 코드로 인코딩한다.\n",
        "<br/>아스키 코드는 영어를 표현하는 문자열 인코딩 방식이다."
      ],
      "metadata": {
        "id": "gBpoz7YOS4NI"
      }
    },
    {
      "cell_type": "code",
      "source": [
        "data.sample(10)"
      ],
      "metadata": {
        "colab": {
          "base_uri": "https://localhost:8080/",
          "height": 363
        },
        "id": "pAAADdUSsmpJ",
        "outputId": "089df196-8e53-4308-80bb-57225f1a6a29"
      },
      "execution_count": null,
      "outputs": [
        {
          "output_type": "execute_result",
          "data": {
            "text/plain": [
              "                                               headlines  \\\n",
              "84358  Where does every Ã¢ÂÂ¹100 deposited in the ba...   \n",
              "38908  CAIT threatens nationwide agitation on Flipkar...   \n",
              "25684  Bride's kin abduct engineer at gunpoint, forci...   \n",
              "49090  Video: Woman claims husband electrocuted her, ...   \n",
              "51199   SBI to hire over 9,500 to fill roles post merger   \n",
              "97880  Upsetting when words like molestation used loo...   \n",
              "3869   Good days are coming as PM Modi is about to go...   \n",
              "48550  I'm unhappy with present B'wood songs, music i...   \n",
              "86988  Jet Airways profit falls 91% due to high fuel ...   \n",
              "77658   3 killed, 2 injured in shooting at Russian court   \n",
              "\n",
              "                                                    text  \n",
              "84358  As credit-deposit ratio at May end was 72% acc...  \n",
              "38908  Traders' body Confederation of All India Trade...  \n",
              "25684  A railway engineer was allegedly abducted at g...  \n",
              "49090  A video showing a woman in Mumbai's Khar claim...  \n",
              "51199  India's largest lender State Bank of India (SB...  \n",
              "97880  Actress Vidya Balan has said that it's upsetti...  \n",
              "3869   Following Prime Minister Narendra Modi's 95-mi...  \n",
              "48550  Speaking about the changes in Indian cinema, l...  \n",
              "86988  India's second largest airline, Jet Airways, r...  \n",
              "77658  Three people standing trial in a Russian court...  "
            ],
            "text/html": [
              "\n",
              "  <div id=\"df-11f94328-0d46-4e16-aa65-3516aaaf9b10\">\n",
              "    <div class=\"colab-df-container\">\n",
              "      <div>\n",
              "<style scoped>\n",
              "    .dataframe tbody tr th:only-of-type {\n",
              "        vertical-align: middle;\n",
              "    }\n",
              "\n",
              "    .dataframe tbody tr th {\n",
              "        vertical-align: top;\n",
              "    }\n",
              "\n",
              "    .dataframe thead th {\n",
              "        text-align: right;\n",
              "    }\n",
              "</style>\n",
              "<table border=\"1\" class=\"dataframe\">\n",
              "  <thead>\n",
              "    <tr style=\"text-align: right;\">\n",
              "      <th></th>\n",
              "      <th>headlines</th>\n",
              "      <th>text</th>\n",
              "    </tr>\n",
              "  </thead>\n",
              "  <tbody>\n",
              "    <tr>\n",
              "      <th>84358</th>\n",
              "      <td>Where does every Ã¢ÂÂ¹100 deposited in the ba...</td>\n",
              "      <td>As credit-deposit ratio at May end was 72% acc...</td>\n",
              "    </tr>\n",
              "    <tr>\n",
              "      <th>38908</th>\n",
              "      <td>CAIT threatens nationwide agitation on Flipkar...</td>\n",
              "      <td>Traders' body Confederation of All India Trade...</td>\n",
              "    </tr>\n",
              "    <tr>\n",
              "      <th>25684</th>\n",
              "      <td>Bride's kin abduct engineer at gunpoint, forci...</td>\n",
              "      <td>A railway engineer was allegedly abducted at g...</td>\n",
              "    </tr>\n",
              "    <tr>\n",
              "      <th>49090</th>\n",
              "      <td>Video: Woman claims husband electrocuted her, ...</td>\n",
              "      <td>A video showing a woman in Mumbai's Khar claim...</td>\n",
              "    </tr>\n",
              "    <tr>\n",
              "      <th>51199</th>\n",
              "      <td>SBI to hire over 9,500 to fill roles post merger</td>\n",
              "      <td>India's largest lender State Bank of India (SB...</td>\n",
              "    </tr>\n",
              "    <tr>\n",
              "      <th>97880</th>\n",
              "      <td>Upsetting when words like molestation used loo...</td>\n",
              "      <td>Actress Vidya Balan has said that it's upsetti...</td>\n",
              "    </tr>\n",
              "    <tr>\n",
              "      <th>3869</th>\n",
              "      <td>Good days are coming as PM Modi is about to go...</td>\n",
              "      <td>Following Prime Minister Narendra Modi's 95-mi...</td>\n",
              "    </tr>\n",
              "    <tr>\n",
              "      <th>48550</th>\n",
              "      <td>I'm unhappy with present B'wood songs, music i...</td>\n",
              "      <td>Speaking about the changes in Indian cinema, l...</td>\n",
              "    </tr>\n",
              "    <tr>\n",
              "      <th>86988</th>\n",
              "      <td>Jet Airways profit falls 91% due to high fuel ...</td>\n",
              "      <td>India's second largest airline, Jet Airways, r...</td>\n",
              "    </tr>\n",
              "    <tr>\n",
              "      <th>77658</th>\n",
              "      <td>3 killed, 2 injured in shooting at Russian court</td>\n",
              "      <td>Three people standing trial in a Russian court...</td>\n",
              "    </tr>\n",
              "  </tbody>\n",
              "</table>\n",
              "</div>\n",
              "      <button class=\"colab-df-convert\" onclick=\"convertToInteractive('df-11f94328-0d46-4e16-aa65-3516aaaf9b10')\"\n",
              "              title=\"Convert this dataframe to an interactive table.\"\n",
              "              style=\"display:none;\">\n",
              "        \n",
              "  <svg xmlns=\"http://www.w3.org/2000/svg\" height=\"24px\"viewBox=\"0 0 24 24\"\n",
              "       width=\"24px\">\n",
              "    <path d=\"M0 0h24v24H0V0z\" fill=\"none\"/>\n",
              "    <path d=\"M18.56 5.44l.94 2.06.94-2.06 2.06-.94-2.06-.94-.94-2.06-.94 2.06-2.06.94zm-11 1L8.5 8.5l.94-2.06 2.06-.94-2.06-.94L8.5 2.5l-.94 2.06-2.06.94zm10 10l.94 2.06.94-2.06 2.06-.94-2.06-.94-.94-2.06-.94 2.06-2.06.94z\"/><path d=\"M17.41 7.96l-1.37-1.37c-.4-.4-.92-.59-1.43-.59-.52 0-1.04.2-1.43.59L10.3 9.45l-7.72 7.72c-.78.78-.78 2.05 0 2.83L4 21.41c.39.39.9.59 1.41.59.51 0 1.02-.2 1.41-.59l7.78-7.78 2.81-2.81c.8-.78.8-2.07 0-2.86zM5.41 20L4 18.59l7.72-7.72 1.47 1.35L5.41 20z\"/>\n",
              "  </svg>\n",
              "      </button>\n",
              "      \n",
              "  <style>\n",
              "    .colab-df-container {\n",
              "      display:flex;\n",
              "      flex-wrap:wrap;\n",
              "      gap: 12px;\n",
              "    }\n",
              "\n",
              "    .colab-df-convert {\n",
              "      background-color: #E8F0FE;\n",
              "      border: none;\n",
              "      border-radius: 50%;\n",
              "      cursor: pointer;\n",
              "      display: none;\n",
              "      fill: #1967D2;\n",
              "      height: 32px;\n",
              "      padding: 0 0 0 0;\n",
              "      width: 32px;\n",
              "    }\n",
              "\n",
              "    .colab-df-convert:hover {\n",
              "      background-color: #E2EBFA;\n",
              "      box-shadow: 0px 1px 2px rgba(60, 64, 67, 0.3), 0px 1px 3px 1px rgba(60, 64, 67, 0.15);\n",
              "      fill: #174EA6;\n",
              "    }\n",
              "\n",
              "    [theme=dark] .colab-df-convert {\n",
              "      background-color: #3B4455;\n",
              "      fill: #D2E3FC;\n",
              "    }\n",
              "\n",
              "    [theme=dark] .colab-df-convert:hover {\n",
              "      background-color: #434B5C;\n",
              "      box-shadow: 0px 1px 3px 1px rgba(0, 0, 0, 0.15);\n",
              "      filter: drop-shadow(0px 1px 2px rgba(0, 0, 0, 0.3));\n",
              "      fill: #FFFFFF;\n",
              "    }\n",
              "  </style>\n",
              "\n",
              "      <script>\n",
              "        const buttonEl =\n",
              "          document.querySelector('#df-11f94328-0d46-4e16-aa65-3516aaaf9b10 button.colab-df-convert');\n",
              "        buttonEl.style.display =\n",
              "          google.colab.kernel.accessAllowed ? 'block' : 'none';\n",
              "\n",
              "        async function convertToInteractive(key) {\n",
              "          const element = document.querySelector('#df-11f94328-0d46-4e16-aa65-3516aaaf9b10');\n",
              "          const dataTable =\n",
              "            await google.colab.kernel.invokeFunction('convertToInteractive',\n",
              "                                                     [key], {});\n",
              "          if (!dataTable) return;\n",
              "\n",
              "          const docLinkHtml = 'Like what you see? Visit the ' +\n",
              "            '<a target=\"_blank\" href=https://colab.research.google.com/notebooks/data_table.ipynb>data table notebook</a>'\n",
              "            + ' to learn more about interactive tables.';\n",
              "          element.innerHTML = '';\n",
              "          dataTable['output_type'] = 'display_data';\n",
              "          await google.colab.output.renderOutput(dataTable, element);\n",
              "          const docLink = document.createElement('div');\n",
              "          docLink.innerHTML = docLinkHtml;\n",
              "          element.appendChild(docLink);\n",
              "        }\n",
              "      </script>\n",
              "    </div>\n",
              "  </div>\n",
              "  "
            ]
          },
          "metadata": {},
          "execution_count": 10
        }
      ]
    },
    {
      "cell_type": "markdown",
      "source": [
        "text와 headlines 정보로 구성되어 있다."
      ],
      "metadata": {
        "id": "2QFItAt2qor5"
      }
    },
    {
      "cell_type": "code",
      "source": [
        "print('전체 샘플수 :', (len(data)))"
      ],
      "metadata": {
        "colab": {
          "base_uri": "https://localhost:8080/"
        },
        "id": "IzVvPhDjSpO4",
        "outputId": "953b860e-e1b3-4045-8321-19a7d2bf4ccb"
      },
      "execution_count": null,
      "outputs": [
        {
          "output_type": "stream",
          "name": "stdout",
          "text": [
            "전체 샘플수 : 98401\n"
          ]
        }
      ]
    },
    {
      "cell_type": "markdown",
      "source": [
        "전체 98401개의 샘플이 있다."
      ],
      "metadata": {
        "id": "vsPoaC1ZSocf"
      }
    },
    {
      "cell_type": "code",
      "source": [
        "print('headlines 열에서 중복을 배제한 유일한 샘플의 수 :', data['headlines'].nunique())\n",
        "print('text 열에서 중복을 배제한 유일한 샘플의 수 :', data['text'].nunique())"
      ],
      "metadata": {
        "id": "8Ix-Mr_MT3Qf",
        "colab": {
          "base_uri": "https://localhost:8080/"
        },
        "outputId": "f061eb35-2adf-4d06-9bf2-bc04b39e441a"
      },
      "execution_count": null,
      "outputs": [
        {
          "output_type": "stream",
          "name": "stdout",
          "text": [
            "headlines 열에서 중복을 배제한 유일한 샘플의 수 : 98280\n",
            "text 열에서 중복을 배제한 유일한 샘플의 수 : 98360\n"
          ]
        }
      ]
    },
    {
      "cell_type": "code",
      "source": [
        "data.drop_duplicates(subset = ['headlines'], inplace=True)\n",
        "print('전체 샘플수 :', (len(data)))"
      ],
      "metadata": {
        "id": "qGlotkEUT4Eh",
        "colab": {
          "base_uri": "https://localhost:8080/"
        },
        "outputId": "5a5f4e05-1b3a-45b8-9571-43ceb518dec3"
      },
      "execution_count": null,
      "outputs": [
        {
          "output_type": "stream",
          "name": "stdout",
          "text": [
            "전체 샘플수 : 98280\n"
          ]
        }
      ]
    },
    {
      "cell_type": "markdown",
      "source": [
        "데이터프레임의 drop_duplicates()를 사용하여 중복 샘플을 제거한다."
      ],
      "metadata": {
        "id": "xgcs6RGtfDvJ"
      }
    },
    {
      "cell_type": "markdown",
      "source": [
        "중복이 제거되면서 샘플 수가 98,280개로 줄어들었다."
      ],
      "metadata": {
        "id": "SPK98ZGPe35x"
      }
    },
    {
      "cell_type": "code",
      "source": [
        "print(data.isnull().sum())"
      ],
      "metadata": {
        "id": "8K29ul32T9-o",
        "colab": {
          "base_uri": "https://localhost:8080/"
        },
        "outputId": "8b4561c1-c866-4032-803e-0591d2c8b945"
      },
      "execution_count": null,
      "outputs": [
        {
          "output_type": "stream",
          "name": "stdout",
          "text": [
            "headlines    0\n",
            "text         0\n",
            "dtype: int64\n"
          ]
        }
      ]
    },
    {
      "cell_type": "markdown",
      "source": [
        ".isnull().sum()을 사용하여 데이터프레임에 Null 값이 있는지  확인한다."
      ],
      "metadata": {
        "id": "AJ6Z3amRfQrY"
      }
    },
    {
      "cell_type": "markdown",
      "source": [
        "#문서 요약"
      ],
      "metadata": {
        "id": "O47xCqoupH3w"
      }
    },
    {
      "cell_type": "markdown",
      "source": [
        "자연어 처리(NLP) 분야 중 하나인 문서 요약(text summarization)은\n",
        "전체 문서에 포함된 글자와 문장들을 분석하여\n",
        "<br/>요약문과 같이 글의 특징(feature)을 뽑아내는 기법이다.\n",
        "<br/>크게 추상적 방식(abstractive approach)과 추출적 방식(extractive approach)으로 나뉜다.\n"
      ],
      "metadata": {
        "id": "uRMCYzLlyBbA"
      }
    },
    {
      "cell_type": "markdown",
      "source": [
        "추상적 요약과 추출적 요약에 의한 예측 결과와 실제 요약문을 비교하여\n",
        "<br/>문서 요약 모델 간의 성능을 비교한다."
      ],
      "metadata": {
        "id": "WnUh4tbnpQMf"
      }
    },
    {
      "cell_type": "markdown",
      "source": [
        "#추상적 요약"
      ],
      "metadata": {
        "id": "ZMVrCBmeswVx"
      }
    },
    {
      "cell_type": "markdown",
      "source": [
        "추상적 요약은 자연어 생성(Natural Language Generation, NLG)의 영역에 속하는 알고리즘이다.\n",
        "<br/>대표적인 예로 seq2seq가 있다."
      ],
      "metadata": {
        "id": "rh2OyJBBiR_L"
      }
    },
    {
      "cell_type": "markdown",
      "source": [
        "##텍스트 정규화"
      ],
      "metadata": {
        "id": "BMbLP5Cef7iZ"
      }
    },
    {
      "cell_type": "markdown",
      "source": [
        "**텍스트 정규화(text normalization)**는 추가적으로 데이터를 처리하려고 자연어로 된 텍스트를 준비하는 과정이다."
      ],
      "metadata": {
        "id": "z7rl8gKshXfh"
      }
    },
    {
      "cell_type": "markdown",
      "source": [
        "**텍스트 정규화 기법**"
      ],
      "metadata": {
        "id": "ynheasel9Y3K"
      }
    },
    {
      "cell_type": "markdown",
      "source": [
        "**토큰화(tokenization)**\n",
        "* word_tokenize(단어 토크나이저)\n",
        "* sent_tokenize(문장 토크나이저)\n",
        "* regexp_tokenize(정규 표현식 기반의 토크나이저)\n",
        "* WordPunctTokenizer(이모티콘을 이용한 감성 분석)"
      ],
      "metadata": {
        "id": "S0grJSLzh865"
      }
    },
    {
      "cell_type": "markdown",
      "source": [
        "**단어의 대·소문자 통일**\n",
        "<br/>**불용어 제거**\n",
        "<br/>**형태소 분석(stemming)**\n",
        "* Porter(포터)\n",
        "* Lancaster(랭커스터)\n",
        "* lemmatize(원형 추출)"
      ],
      "metadata": {
        "id": "yWdVsSbYiqpB"
      }
    },
    {
      "cell_type": "markdown",
      "source": [
        "뉴스 텍스트 요약 도구에 맞는 텍스트 정규화 방법을 사용한다."
      ],
      "metadata": {
        "id": "D7Hoi57e9O-5"
      }
    },
    {
      "cell_type": "markdown",
      "source": [
        "###불용어 사전"
      ],
      "metadata": {
        "id": "subiKOyHsG5R"
      }
    },
    {
      "cell_type": "markdown",
      "source": [
        "불용어는 큰 의미가 없다.\n",
        "<br/>자주 등장하지만 텍스트 이해에 기여하는 바가 없기 때문이다.\n",
        "<br/>"
      ],
      "metadata": {
        "id": "RM0Gd7wkkp-g"
      }
    },
    {
      "cell_type": "markdown",
      "source": [
        "NLTK 라이브러리 자체 내에 정의된 영어 불용어 사전이 있다.\n"
      ],
      "metadata": {
        "id": "JxctCq_LliG4"
      }
    },
    {
      "cell_type": "code",
      "source": [
        "nltk.download('stopwords')"
      ],
      "metadata": {
        "colab": {
          "base_uri": "https://localhost:8080/"
        },
        "id": "CwkqxcP-m_QY",
        "outputId": "fff0a8dc-94ec-4f94-85a2-41436bff3458"
      },
      "execution_count": null,
      "outputs": [
        {
          "output_type": "stream",
          "name": "stdout",
          "text": [
            "[nltk_data] Downloading package stopwords to /root/nltk_data...\n",
            "[nltk_data]   Unzipping corpora/stopwords.zip.\n"
          ]
        },
        {
          "output_type": "execute_result",
          "data": {
            "text/plain": [
              "True"
            ]
          },
          "metadata": {},
          "execution_count": 15
        }
      ]
    },
    {
      "cell_type": "code",
      "source": [
        "from nltk.corpus import stopwords\n",
        "nltk_stopwords = stopwords.words('english')"
      ],
      "metadata": {
        "id": "slemsENdm2WR"
      },
      "execution_count": null,
      "outputs": []
    },
    {
      "cell_type": "code",
      "source": [
        "for i in range(len(nltk_stopwords)):\n",
        "  if i % 17 == 0 and i != 0:\n",
        "    print()\n",
        "    print(nltk_stopwords[i-17:i], end='')\n",
        "print() \n",
        "print(nltk_stopwords[-9:])  \n",
        "\n",
        "print(\"\\nnltk 정규화 사전 단어의 수: \", len(nltk_stopwords))"
      ],
      "metadata": {
        "colab": {
          "base_uri": "https://localhost:8080/"
        },
        "id": "NZLU8LV7obaA",
        "outputId": "e4b0c7d9-fe49-47d4-f97d-ee3f78b63507"
      },
      "execution_count": null,
      "outputs": [
        {
          "output_type": "stream",
          "name": "stdout",
          "text": [
            "\n",
            "['i', 'me', 'my', 'myself', 'we', 'our', 'ours', 'ourselves', 'you', \"you're\", \"you've\", \"you'll\", \"you'd\", 'your', 'yours', 'yourself', 'yourselves']\n",
            "['he', 'him', 'his', 'himself', 'she', \"she's\", 'her', 'hers', 'herself', 'it', \"it's\", 'its', 'itself', 'they', 'them', 'their', 'theirs']\n",
            "['themselves', 'what', 'which', 'who', 'whom', 'this', 'that', \"that'll\", 'these', 'those', 'am', 'is', 'are', 'was', 'were', 'be', 'been']\n",
            "['being', 'have', 'has', 'had', 'having', 'do', 'does', 'did', 'doing', 'a', 'an', 'the', 'and', 'but', 'if', 'or', 'because']\n",
            "['as', 'until', 'while', 'of', 'at', 'by', 'for', 'with', 'about', 'against', 'between', 'into', 'through', 'during', 'before', 'after', 'above']\n",
            "['below', 'to', 'from', 'up', 'down', 'in', 'out', 'on', 'off', 'over', 'under', 'again', 'further', 'then', 'once', 'here', 'there']\n",
            "['when', 'where', 'why', 'how', 'all', 'any', 'both', 'each', 'few', 'more', 'most', 'other', 'some', 'such', 'no', 'nor', 'not']\n",
            "['only', 'own', 'same', 'so', 'than', 'too', 'very', 's', 't', 'can', 'will', 'just', 'don', \"don't\", 'should', \"should've\", 'now']\n",
            "['d', 'll', 'm', 'o', 're', 've', 'y', 'ain', 'aren', \"aren't\", 'couldn', \"couldn't\", 'didn', \"didn't\", 'doesn', \"doesn't\", 'hadn']\n",
            "[\"hadn't\", 'hasn', \"hasn't\", 'haven', \"haven't\", 'isn', \"isn't\", 'ma', 'mightn', \"mightn't\", 'mustn', \"mustn't\", 'needn', \"needn't\", 'shan', \"shan't\", 'shouldn']\n",
            "[\"shouldn't\", 'wasn', \"wasn't\", 'weren', \"weren't\", 'won', \"won't\", 'wouldn', \"wouldn't\"]\n",
            "\n",
            "nltk 정규화 사전 단어의 수:  179\n"
          ]
        }
      ]
    },
    {
      "cell_type": "markdown",
      "source": [
        "###BIG O"
      ],
      "metadata": {
        "id": "0qpI2KhHU2ca"
      }
    },
    {
      "cell_type": "code",
      "source": [
        "nltk_stopwords = set(stopwords.words('english'))"
      ],
      "metadata": {
        "id": "6sPNw1RFCQib"
      },
      "execution_count": null,
      "outputs": []
    },
    {
      "cell_type": "markdown",
      "source": [
        "불용어 사전 list를 set으로 바꾼다."
      ],
      "metadata": {
        "id": "ScULg1WgCFoC"
      }
    },
    {
      "cell_type": "markdown",
      "source": [
        "Python은 list보다 set으로 찾는 것이 훨씬 작업속도가 빠르다.\n",
        "<br/>"
      ],
      "metadata": {
        "id": "2nDxU7UjBF0a"
      }
    },
    {
      "cell_type": "code",
      "source": [
        "list_process = []\n",
        "start_time = time.time()\n",
        "for i in range(1, 100000):\n",
        "    list_process.append(i)\n",
        "\n",
        "list_dq = collections.deque(list_process)\n",
        "list_d = list_dq.reverse()\n",
        "\n",
        "print(time.time() - start_time)"
      ],
      "metadata": {
        "colab": {
          "base_uri": "https://localhost:8080/"
        },
        "id": "hSr-jauxB_SK",
        "outputId": "ac0c22e8-06a4-45ca-ac5a-e6ca95dbf009"
      },
      "execution_count": null,
      "outputs": [
        {
          "output_type": "stream",
          "name": "stdout",
          "text": [
            "0.014177799224853516\n"
          ]
        }
      ]
    },
    {
      "cell_type": "code",
      "source": [
        "set_process = set()\n",
        "set_adder = list(range(1, 100000))\n",
        "start_time = time.time()\n",
        "set_process.update(set_adder)\n",
        "set_dq = collections.deque(set_process)\n",
        "\n",
        "set_d = set_dq.reverse()\n",
        "print(time.time() - start_time)"
      ],
      "metadata": {
        "colab": {
          "base_uri": "https://localhost:8080/"
        },
        "id": "9r74IabyOCJR",
        "outputId": "9f813b13-68a0-4eec-c6b9-b1cd46136a8c"
      },
      "execution_count": null,
      "outputs": [
        {
          "output_type": "stream",
          "name": "stdout",
          "text": [
            "0.004598855972290039\n"
          ]
        }
      ]
    },
    {
      "cell_type": "markdown",
      "source": [
        "list에서 in 연산자를 사용하면 사실 상 for문을 한번 도는 것이기 때문에 선형 시간인 O(n)의 시간 복잡도를 가진다.\n",
        "<br/>list에서 set으로 바꾸고 in 연산을 한다면 선형 시간 O(n)에서 O(1)로 작업 시간을 줄일 수 있다. "
      ],
      "metadata": {
        "id": "jBcs72StB-RB"
      }
    },
    {
      "cell_type": "markdown",
      "source": [
        "Python의 set과 dict는 이진 트리가 아니라 해시 테이블로 구현되어 있어서 평균 O(1)의 시간이 걸린다."
      ],
      "metadata": {
        "id": "xyCcyV7eC5aw"
      }
    },
    {
      "cell_type": "markdown",
      "source": [
        "Text 전처리 시에서만 호출하고 이미 상대적으로 문장 길이가 짧은 Summary 전처리할 때는 호출하지 않을 예정이다."
      ],
      "metadata": {
        "id": "AVXBE8b8tylB"
      }
    },
    {
      "cell_type": "markdown",
      "source": [
        "###축약어 사전"
      ],
      "metadata": {
        "id": "srx79Sx7tgZ5"
      }
    },
    {
      "cell_type": "markdown",
      "source": [
        "[스택오버플로우](https://stackoverflow.com/questions/19790188/expanding-english-language-contractions-in-python#)의 답변에 올라온 사용자 정의 축약어 사전을 저장한다."
      ],
      "metadata": {
        "id": "HY3qr1wBnR9o"
      }
    },
    {
      "cell_type": "code",
      "source": [
        "contractions = {\"ain't\": \"is not\", \"aren't\": \"are not\",\"can't\": \"cannot\", \"'cause\": \"because\", \"could've\": \"could have\", \"couldn't\": \"could not\",\n",
        "                           \"didn't\": \"did not\",  \"doesn't\": \"does not\", \"don't\": \"do not\", \"hadn't\": \"had not\", \"hasn't\": \"has not\", \"haven't\": \"have not\",\n",
        "                           \"he'd\": \"he would\",\"he'll\": \"he will\", \"he's\": \"he is\", \"how'd\": \"how did\", \"how'd'y\": \"how do you\", \"how'll\": \"how will\", \"how's\": \"how is\",\n",
        "                           \"I'd\": \"I would\", \"I'd've\": \"I would have\", \"I'll\": \"I will\", \"I'll've\": \"I will have\",\"I'm\": \"I am\", \"I've\": \"I have\", \"i'd\": \"i would\",\n",
        "                           \"i'd've\": \"i would have\", \"i'll\": \"i will\",  \"i'll've\": \"i will have\",\"i'm\": \"i am\", \"i've\": \"i have\", \"isn't\": \"is not\", \"it'd\": \"it would\",\n",
        "                           \"it'd've\": \"it would have\", \"it'll\": \"it will\", \"it'll've\": \"it will have\",\"it's\": \"it is\", \"let's\": \"let us\", \"ma'am\": \"madam\",\n",
        "                           \"mayn't\": \"may not\", \"might've\": \"might have\",\"mightn't\": \"might not\",\"mightn't've\": \"might not have\", \"must've\": \"must have\",\n",
        "                           \"mustn't\": \"must not\", \"mustn't've\": \"must not have\", \"needn't\": \"need not\", \"needn't've\": \"need not have\",\"o'clock\": \"of the clock\",\n",
        "                           \"oughtn't\": \"ought not\", \"oughtn't've\": \"ought not have\", \"shan't\": \"shall not\", \"sha'n't\": \"shall not\", \"shan't've\": \"shall not have\",\n",
        "                           \"she'd\": \"she would\", \"she'd've\": \"she would have\", \"she'll\": \"she will\", \"she'll've\": \"she will have\", \"she's\": \"she is\",\n",
        "                           \"should've\": \"should have\", \"shouldn't\": \"should not\", \"shouldn't've\": \"should not have\", \"so've\": \"so have\",\"so's\": \"so as\",\n",
        "                           \"this's\": \"this is\",\"that'd\": \"that would\", \"that'd've\": \"that would have\", \"that's\": \"that is\", \"there'd\": \"there would\",\n",
        "                           \"there'd've\": \"there would have\", \"there's\": \"there is\", \"here's\": \"here is\",\"they'd\": \"they would\", \"they'd've\": \"they would have\",\n",
        "                           \"they'll\": \"they will\", \"they'll've\": \"they will have\", \"they're\": \"they are\", \"they've\": \"they have\", \"to've\": \"to have\",\n",
        "                           \"wasn't\": \"was not\", \"we'd\": \"we would\", \"we'd've\": \"we would have\", \"we'll\": \"we will\", \"we'll've\": \"we will have\", \"we're\": \"we are\",\n",
        "                           \"we've\": \"we have\", \"weren't\": \"were not\", \"what'll\": \"what will\", \"what'll've\": \"what will have\", \"what're\": \"what are\",\n",
        "                           \"what's\": \"what is\", \"what've\": \"what have\", \"when's\": \"when is\", \"when've\": \"when have\", \"where'd\": \"where did\", \"where's\": \"where is\",\n",
        "                           \"where've\": \"where have\", \"who'll\": \"who will\", \"who'll've\": \"who will have\", \"who's\": \"who is\", \"who've\": \"who have\",\n",
        "                           \"why's\": \"why is\", \"why've\": \"why have\", \"will've\": \"will have\", \"won't\": \"will not\", \"won't've\": \"will not have\",\n",
        "                           \"would've\": \"would have\", \"wouldn't\": \"would not\", \"wouldn't've\": \"would not have\", \"y'all\": \"you all\",\n",
        "                           \"y'all'd\": \"you all would\",\"y'all'd've\": \"you all would have\",\"y'all're\": \"you all are\",\"y'all've\": \"you all have\",\n",
        "                           \"you'd\": \"you would\", \"you'd've\": \"you would have\", \"you'll\": \"you will\", \"you'll've\": \"you will have\",\n",
        "                           \"you're\": \"you are\", \"you've\": \"you have\"}\n",
        "\n",
        "print(\"스택오버플로우 정규화 사전 단어의 수: \", len(contractions))"
      ],
      "metadata": {
        "id": "9m-Y4ZC3UaRX",
        "colab": {
          "base_uri": "https://localhost:8080/"
        },
        "outputId": "4a03b45c-3fd9-46d2-c836-41561be947fe"
      },
      "execution_count": null,
      "outputs": [
        {
          "output_type": "stream",
          "name": "stdout",
          "text": [
            "스택오버플로우 정규화 사전 단어의 수:  120\n"
          ]
        }
      ]
    },
    {
      "cell_type": "markdown",
      "source": [
        "###텍스트 정규화 함수"
      ],
      "metadata": {
        "id": "s10FhmufhGmF"
      }
    },
    {
      "cell_type": "code",
      "source": [
        "def preprocess_sentence(sentence, remove_stopwords=True):\n",
        "    sentence = sentence.lower()\n",
        "    sentence = BeautifulSoup(sentence, \"lxml\").text\n",
        "    sentence = re.sub(r'\\([^)]*\\)', '', sentence) \n",
        "    sentence = re.sub('\"','', sentence) \n",
        "    sentence = re.sub(r\"'s\\b\",\"\", sentence) \n",
        "    sentence = ' '.join([contractions[t] if t in contractions else t for t in sentence.split(\" \")])\n",
        "    sentence = re.sub(\"[^a-zA-Z]\", \" \", sentence)\n",
        "    sentence = re.sub('[m]{2,}', 'mm', sentence) \n",
        "\n",
        "    if remove_stopwords:\n",
        "        tokens = ' '.join(word for word in sentence.split() if not word in stopwords.words('english') if len(word) > 1)\n",
        "    else:\n",
        "        tokens = ' '.join(word for word in sentence.split() if len(word) > 1)\n",
        "    return tokens\n",
        "\n",
        "    stemmer = nltk.stem.SnowballStemmer('english')\n",
        "    stemmer_words = [stemmer.stem(word) for word in tokens]\n",
        "    return(' '.join(stemming_words))"
      ],
      "metadata": {
        "id": "7FVTG_hCrEJK"
      },
      "execution_count": null,
      "outputs": []
    },
    {
      "cell_type": "markdown",
      "source": [
        "데이터 전처리 함수 preprocess_sentence를 정의한다."
      ],
      "metadata": {
        "id": "vyizhI89qaBL"
      }
    },
    {
      "cell_type": "markdown",
      "source": [
        "lower()는 텍스트를 소문자화한다."
      ],
      "metadata": {
        "id": "vtttcyDN6-fq"
      }
    },
    {
      "cell_type": "markdown",
      "source": [
        "BeautifulSoup에서  br/, a href = ... 등의 html 태그 제거를 한다."
      ],
      "metadata": {
        "id": "iNHnSlIf7E-i"
      }
    },
    {
      "cell_type": "markdown",
      "source": [
        "**re**에서 괄호로 닫힌 문자열 (...), 쌍따옴표, 소유격을 제거하고\n",
        "<br/>약어 정규화, 영어 외 문자(숫자, 특수문자 등) 공백으로 변환, m이 3개 이상이면 2개로 변경한다."
      ],
      "metadata": {
        "id": "MxwAS1Tq7UPp"
      }
    },
    {
      "cell_type": "markdown",
      "source": [
        "If 문에서 remove_stopwords=True면 불용어를 제거하고, False면 제거하지 않는다. "
      ],
      "metadata": {
        "id": "1iCIv2Vz8ACL"
      }
    },
    {
      "cell_type": "markdown",
      "source": [
        "SnowballStemmer는 Porter Stemmer의 에러를 수정한 어간 추출 알고리즘이다.\n",
        "<br/>어간 추출은 단어를 어간 형태로 표현함으로써 단어의 개수를 줄이는 기법이다.\n",
        "<br/>[Snowball 공식 홈페이지](https://snowballstem.org/algorithms/)에 정의된 어간 사전을 바탕으로 하여 어간을 추출한다.\n",
        "<br/>예를 들어 see, saw, seen 는 모두 \"see\"로 표기를 통일한다.\n",
        "<br/>Stemming을 통하여 단어 각각이 전하는 핵심 뜻을 간직하는 동시에, 복잡도를 낮춘다."
      ],
      "metadata": {
        "id": "vbUks8RT-3La"
      }
    },
    {
      "cell_type": "code",
      "source": [
        "temp_text = 'Everything I bought was great, infact I ordered twice and the third ordered was<br />for my mother and father.'\n",
        "temp_summary = 'Great way to start (or finish) the day!!!'\n",
        "\n",
        "print(\"text: \", preprocess_sentence(temp_text))\n",
        "print(\"summary:\", preprocess_sentence(temp_summary, False))  "
      ],
      "metadata": {
        "colab": {
          "base_uri": "https://localhost:8080/"
        },
        "id": "qyeEBvg5TD4J",
        "outputId": "0517221e-d358-4d7d-93b6-c6b34f119aa5"
      },
      "execution_count": null,
      "outputs": [
        {
          "output_type": "stream",
          "name": "stdout",
          "text": [
            "text:  everything bought great infact ordered twice third ordered wasfor mother father\n",
            "summary: great way to start the day\n"
          ]
        }
      ]
    },
    {
      "cell_type": "markdown",
      "source": [
        "전처리 이전과 이후의 문장을 비교한다."
      ],
      "metadata": {
        "id": "VhzgN4BHTLgo"
      }
    },
    {
      "cell_type": "markdown",
      "source": [
        "추상적 요약을 하는 경우에는 text를 본문, headlines를 이미 요약된 데이터로 삼아서 모델을 학습한다."
      ],
      "metadata": {
        "id": "ezyD0vuBSFug"
      }
    },
    {
      "cell_type": "code",
      "source": [
        "clean_text = []\n",
        "\n",
        "for s in data['text']:\n",
        "    clean_text.append(preprocess_sentence(s))\n",
        "\n",
        "print(\"text 전처리 후 결과: \", clean_text[:5])"
      ],
      "metadata": {
        "id": "GSaBFJ6ITVGp",
        "colab": {
          "base_uri": "https://localhost:8080/"
        },
        "outputId": "c900b80e-e6d3-42e4-84ee-3cf1e8708abe"
      },
      "execution_count": null,
      "outputs": [
        {
          "output_type": "stream",
          "name": "stdout",
          "text": [
            "text 전처리 후 결과:  ['saurav kant alumnus upgrad iiit pg program machine learning artificial intelligence sr systems engineer infosys almost years work experience program upgrad degree career support helped transition data scientist tech mahindra salary hike upgrad online power learning powered lakh careers', 'kunal shah credit card bill payment platform cred gave users chance win free food swiggy one year pranav kaushik delhi techie bagged reward spending cred coins users get one cred coin per rupee bill paid used avail rewards brands like ixigo bookmyshow ubereats cult fit', 'new zealand defeated india wickets fourth odi hamilton thursday win first match five match odi series india lost international match rohit sharma captaincy consecutive victories dating back march match witnessed india getting seventh lowest total odi cricket history', 'aegon life iterm insurance plan customers enjoy tax benefits premiums paid save taxes plan provides life cover age years also customers options insure critical illnesses disability accidental death benefit rider life cover age years', 'speaking sexual harassment allegations rajkumar hirani sonam kapoor said known hirani many years true metoo movement get derailed metoo movement always believe woman case need reserve judgment added hirani accused assistant worked sanju']\n"
          ]
        }
      ]
    },
    {
      "cell_type": "markdown",
      "source": [
        "text에 대해서 전처리 함수를 호출해 줄 때는, 불용어 제거를 수행한다."
      ],
      "metadata": {
        "id": "8JULj80VULIK"
      }
    },
    {
      "cell_type": "code",
      "source": [
        "clean_headlines = []\n",
        "\n",
        "for s in data['headlines']:\n",
        "    clean_headlines.append(preprocess_sentence(s, False))\n",
        "\n",
        "print(\"headlines 전처리 후 결과: \", clean_headlines[:5])"
      ],
      "metadata": {
        "id": "8ruyDlvqTjf4",
        "colab": {
          "base_uri": "https://localhost:8080/"
        },
        "outputId": "27963220-788f-4b68-bb26-52bf113892de"
      },
      "execution_count": null,
      "outputs": [
        {
          "output_type": "stream",
          "name": "stdout",
          "text": [
            "headlines 전처리 후 결과:  ['upgrad learner switches to career in ml al with salary hike', 'delhi techie wins free food from swiggy for one year on cred', 'new zealand end rohit sharma led india match winning streak', 'aegon life iterm insurance plan helps customers save tax', 'have known hirani for yrs what if metoo claims are not true sonam']\n"
          ]
        }
      ]
    },
    {
      "cell_type": "markdown",
      "source": [
        "headlines에 대해서 전처리 함수를 호출해 줄 때는, 불용어 제거를 수행하지 않는다."
      ],
      "metadata": {
        "id": "vDc_k6ppUNLQ"
      }
    },
    {
      "cell_type": "markdown",
      "source": [
        " 텍스트 전처리의 과정을 거친 후에는 다시 한번 빈(empty) 샘플이 생겼는지 확인해본다."
      ],
      "metadata": {
        "id": "CMYEwK7AhVzV"
      }
    },
    {
      "cell_type": "code",
      "source": [
        "data['text'] = clean_text\n",
        "data['headlines'] =  clean_headlines\n",
        "\n",
        "data.replace('', np.nan, inplace=True)"
      ],
      "metadata": {
        "id": "zVX1u7FAUc-_"
      },
      "execution_count": null,
      "outputs": []
    },
    {
      "cell_type": "markdown",
      "source": [
        "데이터들을 데이터프레임에 저장하고\n",
        "<br/>빈(empty) 값을 가진 샘플들이 있다면, Null 값을 가진 샘플로 대체한다."
      ],
      "metadata": {
        "id": "2Ne_h4DbV8Dn"
      }
    },
    {
      "cell_type": "code",
      "source": [
        "data.isnull().sum()"
      ],
      "metadata": {
        "id": "W5hwidG_UjVB",
        "colab": {
          "base_uri": "https://localhost:8080/"
        },
        "outputId": "0eca2771-e6be-4951-c513-17458af83176"
      },
      "execution_count": null,
      "outputs": [
        {
          "output_type": "execute_result",
          "data": {
            "text/plain": [
              "headlines    0\n",
              "text         0\n",
              "dtype: int64"
            ]
          },
          "metadata": {},
          "execution_count": 27
        }
      ]
    },
    {
      "cell_type": "code",
      "source": [
        "data.dropna(axis=0, inplace=True)"
      ],
      "metadata": {
        "id": "tT5ss9nlWtAZ"
      },
      "execution_count": null,
      "outputs": []
    },
    {
      "cell_type": "markdown",
      "source": [
        ".isnull().sum()을 사용해서 Null 값이 생겼는지 확인한다.<br/>Headlines 열에서 70개의 Null 값이 생겼다.<br/>이 샘플들을 제거한다."
      ],
      "metadata": {
        "id": "dZZQPiwxTDTR"
      }
    },
    {
      "cell_type": "code",
      "source": [
        "print('전체 샘플수 :', (len(data)))"
      ],
      "metadata": {
        "id": "dlWilBTdqZ-x",
        "colab": {
          "base_uri": "https://localhost:8080/"
        },
        "outputId": "457a088e-1aa7-4f23-fdc8-3394408394b7"
      },
      "execution_count": null,
      "outputs": [
        {
          "output_type": "stream",
          "name": "stdout",
          "text": [
            "전체 샘플수 : 98280\n"
          ]
        }
      ]
    },
    {
      "cell_type": "markdown",
      "source": [
        "전체 샘플 수는 98280개이다."
      ],
      "metadata": {
        "id": "95b5buFbWZa4"
      }
    },
    {
      "cell_type": "markdown",
      "source": [
        "seq2seq(Sequence-to-Sequence)는 입력된 시퀀스로부터 다른 도메인의 시퀀스를 출력하는 <br/>다양한 분야에서 사용되는 모델이다."
      ],
      "metadata": {
        "id": "BH_9wjcSnpZt"
      }
    },
    {
      "cell_type": "markdown",
      "source": [
        "seq2seq의 입력 문장과 출력 문장으로\n",
        "<br/>챗봇(Chatbot)의 질문과 대답\n",
        "<br/>기계 번역(Machine Translation)의 원어와 번역어\n",
        "<br/>내용 요약(Text Summarization)의 본문과 요약문\n",
        "<br/>STT(Speech to Text)의 인간의 음성과 컴퓨터의 음성 인식\n",
        "<br/>이라는 입력과 출력의 관계를 만들 수 있다."
      ],
      "metadata": {
        "id": "FnERLb4BoVUn"
      }
    },
    {
      "cell_type": "markdown",
      "source": [
        "seq2seq 훈련을 진행하기 위해서는 학습에 사용할 데이터의 크기를 결정하고\n",
        "<br/>문장의 시작과 끝을 표시한다."
      ],
      "metadata": {
        "id": "leXigozVh1ck"
      }
    },
    {
      "cell_type": "markdown",
      "source": [
        "이를 위해 훈련 샘플의 최대 길이를 정하고\n",
        "<br/>시작 토큰과 종료 토큰을 추가한다."
      ],
      "metadata": {
        "id": "_dxRQ_wXnRXf"
      }
    },
    {
      "cell_type": "markdown",
      "source": [
        "##데이터 전처리"
      ],
      "metadata": {
        "id": "vnw0eztkLsww"
      }
    },
    {
      "cell_type": "markdown",
      "source": [
        "###훈련 샘플의 최대 길이"
      ],
      "metadata": {
        "id": "CGau4i-IiKKE"
      }
    },
    {
      "cell_type": "code",
      "source": [
        "import matplotlib.pyplot as plt\n",
        "\n",
        "text_len = [len(s.split()) for s in data['text']]\n",
        "headlines_len = [len(s.split()) for s in data['headlines']]\n",
        "\n",
        "print('텍스트의 최소 길이 : {}'.format(np.min(text_len)))\n",
        "print('텍스트의 최대 길이 : {}'.format(np.max(text_len)))\n",
        "print('텍스트의 평균 길이 : {}'.format(np.mean(text_len)))\n",
        "print('헤드라인의 최소 길이 : {}'.format(np.min(headlines_len)))\n",
        "print('헤드라인의 최대 길이 : {}'.format(np.max(headlines_len)))\n",
        "print('헤드라인의 평균 길이 : {}'.format(np.mean(headlines_len)))\n",
        "\n",
        "plt.subplot(1,2,1)\n",
        "plt.boxplot(text_len)\n",
        "plt.title('Text')\n",
        "plt.subplot(1,2,2)\n",
        "plt.boxplot(headlines_len)\n",
        "plt.title('Headlines')\n",
        "plt.tight_layout()\n",
        "plt.show()\n",
        "\n",
        "plt.title('Text')\n",
        "plt.hist(text_len, bins = 40)\n",
        "plt.xlabel('length of samples')\n",
        "plt.ylabel('number of samples')\n",
        "plt.show()\n",
        "\n",
        "plt.title('Headlines')\n",
        "plt.hist(headlines_len, bins = 40)\n",
        "plt.xlabel('length of samples')\n",
        "plt.ylabel('number of samples')\n",
        "plt.show()"
      ],
      "metadata": {
        "id": "-dZPO0G5XBzw",
        "colab": {
          "base_uri": "https://localhost:8080/",
          "height": 963
        },
        "outputId": "8506214a-5f66-4e07-c283-fcb49443189b"
      },
      "execution_count": null,
      "outputs": [
        {
          "output_type": "stream",
          "name": "stdout",
          "text": [
            "텍스트의 최소 길이 : 1\n",
            "텍스트의 최대 길이 : 60\n",
            "텍스트의 평균 길이 : 35.09916564916565\n",
            "헤드라인의 최소 길이 : 1\n",
            "헤드라인의 최대 길이 : 16\n",
            "헤드라인의 평균 길이 : 9.294424094424095\n"
          ]
        },
        {
          "output_type": "display_data",
          "data": {
            "text/plain": [
              "<Figure size 432x288 with 2 Axes>"
            ],
            "image/png": "[encoded data removed]"
          },
          "metadata": {
            "needs_background": "light"
          }
        },
        {
          "output_type": "display_data",
          "data": {
            "text/plain": [
              "<Figure size 432x288 with 1 Axes>"
            ],
            "image/png": "[encoded data removed]"
          },
          "metadata": {
            "needs_background": "light"
          }
        },
        {
          "output_type": "display_data",
          "data": {
            "text/plain": [
              "<Figure size 432x288 with 1 Axes>"
            ],
            "image/png": "[encoded data removed]"
          },
          "metadata": {
            "needs_background": "light"
          }
        }
      ]
    },
    {
      "cell_type": "markdown",
      "source": [
        "text와 headlines의 최소, 최대, 평균 길이를 구하고 또한 길이 분포를 시각화한다."
      ],
      "metadata": {
        "id": "Kwy4Xn3liBO7"
      }
    },
    {
      "cell_type": "markdown",
      "source": [
        "text의 경우 최소 길이가 1, 최대 길이가 100, 평균 길이는 38로\n",
        "<br/>대체적으로는 100 내외의 길이를 가진다는 것을 파악한다."
      ],
      "metadata": {
        "id": "mDWF3aHmjAmX"
      }
    },
    {
      "cell_type": "markdown",
      "source": [
        "headlines의 경우 최소 길이가 1, 최대 길이가 16, 평균 길이는 9로\n",
        "<br/>대체적으로는 10 내외의 길이를 가진다는 것을 파악한다."
      ],
      "metadata": {
        "id": "U1yIIry2iFmj"
      }
    },
    {
      "cell_type": "markdown",
      "source": [
        "이로부터 text의 최대 길이와 headlines의 적절한 최대 길이를 임의로 정한다."
      ],
      "metadata": {
        "id": "yXjpaKq5iFss"
      }
    },
    {
      "cell_type": "code",
      "source": [
        "text_max_len = 38\n",
        "headlines_max_len = 10"
      ],
      "metadata": {
        "id": "gHpY8rPajlLz"
      },
      "execution_count": null,
      "outputs": []
    },
    {
      "cell_type": "markdown",
      "source": [
        "이 길이를 선택했을 때, 얼마나 많은 샘플들을 자르지 않고 포함할 수 있는지 통계로 확인한다."
      ],
      "metadata": {
        "id": "PlWq6NmEkSF-"
      }
    },
    {
      "cell_type": "code",
      "source": [
        "def below_threshold_len(max_len, nested_list):\n",
        "  cnt = 0\n",
        "  for s in nested_list:\n",
        "    if(len(s.split()) <= max_len):\n",
        "        cnt = cnt + 1\n",
        "  print('전체 샘플 중 길이가 %s 이하인 샘플의 비율: %s'%(max_len, (cnt / len(nested_list))))"
      ],
      "metadata": {
        "id": "0OYbNqEoj4Ru"
      },
      "execution_count": null,
      "outputs": []
    },
    {
      "cell_type": "code",
      "source": [
        "below_threshold_len(text_max_len, data['text'])\n",
        "below_threshold_len(headlines_max_len,  data['headlines'])"
      ],
      "metadata": {
        "colab": {
          "base_uri": "https://localhost:8080/"
        },
        "id": "Zqk2A_ULkFAt",
        "outputId": "6a121ccb-b912-45e7-867b-7eebc0cd10ef"
      },
      "execution_count": null,
      "outputs": [
        {
          "output_type": "stream",
          "name": "stdout",
          "text": [
            "전체 샘플 중 길이가 38 이하인 샘플의 비율: 0.8164224664224664\n",
            "전체 샘플 중 길이가 10 이하인 샘플의 비율: 0.8181013431013431\n"
          ]
        }
      ]
    },
    {
      "cell_type": "markdown",
      "source": [
        "각각 38과 10으로 패딩을 하게 되면 해당 길이보다 긴 샘플들은 내용이 잘리게 되는데\n",
        "<br/>약 18%의 샘플들이 제외된다."
      ],
      "metadata": {
        "id": "dMBUaUdHkDc1"
      }
    },
    {
      "cell_type": "code",
      "source": [
        "data = data[data['text'].apply(lambda x: len(x.split()) <= text_max_len)]\n",
        "data = data[data['headlines'].apply(lambda x: len(x.split()) <= headlines_max_len)]\n",
        "print('전체 샘플수 :', (len(data)))"
      ],
      "metadata": {
        "colab": {
          "base_uri": "https://localhost:8080/"
        },
        "id": "b48HCXvnm4_1",
        "outputId": "e163f31d-9c2f-4da9-c8f2-400e8b0beca6"
      },
      "execution_count": null,
      "outputs": [
        {
          "output_type": "stream",
          "name": "stdout",
          "text": [
            "전체 샘플수 : 65403\n"
          ]
        }
      ]
    },
    {
      "cell_type": "markdown",
      "source": [
        "정해진 길이보다 길면 샘플을 제외한다."
      ],
      "metadata": {
        "id": "PnKdNtErnGtd"
      }
    },
    {
      "cell_type": "markdown",
      "source": [
        "###시작 토큰과 종료 토큰 추가"
      ],
      "metadata": {
        "id": "MIGb3ID7pvMF"
      }
    },
    {
      "cell_type": "code",
      "source": [
        "data['decoder_input'] = data['headlines'].apply(lambda x : 'sostoken '+ x)\n",
        "data['decoder_target'] = data['headlines'].apply(lambda x : x + ' eostoken')\n",
        "data.head()"
      ],
      "metadata": {
        "colab": {
          "base_uri": "https://localhost:8080/",
          "height": 206
        },
        "id": "kSX3yoIYp96G",
        "outputId": "c02cf9ea-29c8-4fdf-aa4a-23c0da7032dd"
      },
      "execution_count": null,
      "outputs": [
        {
          "output_type": "execute_result",
          "data": {
            "text/plain": [
              "                                            headlines  \\\n",
              "2   new zealand end rohit sharma led india match w...   \n",
              "3   aegon life iterm insurance plan helps customer...   \n",
              "5   rahat fateh ali khan denies getting notice for...   \n",
              "9   cong wins ramgarh bypoll in rajasthan takes to...   \n",
              "10  up cousins fed human excreta for friendship wi...   \n",
              "\n",
              "                                                 text  \\\n",
              "2   new zealand defeated india wickets fourth odi ...   \n",
              "3   aegon life iterm insurance plan customers enjo...   \n",
              "5   pakistani singer rahat fateh ali khan denied r...   \n",
              "9   congress candidate shafia zubair ramgarh assem...   \n",
              "10  two minor cousins uttar pradesh gorakhpur alle...   \n",
              "\n",
              "                                        decoder_input  \\\n",
              "2   sostoken new zealand end rohit sharma led indi...   \n",
              "3   sostoken aegon life iterm insurance plan helps...   \n",
              "5   sostoken rahat fateh ali khan denies getting n...   \n",
              "9   sostoken cong wins ramgarh bypoll in rajasthan...   \n",
              "10  sostoken up cousins fed human excreta for frie...   \n",
              "\n",
              "                                       decoder_target  \n",
              "2   new zealand end rohit sharma led india match w...  \n",
              "3   aegon life iterm insurance plan helps customer...  \n",
              "5   rahat fateh ali khan denies getting notice for...  \n",
              "9   cong wins ramgarh bypoll in rajasthan takes to...  \n",
              "10  up cousins fed human excreta for friendship wi...  "
            ],
            "text/html": [
              "\n",
              "  <div id=\"df-037e917a-4ba2-4da0-a006-4604fe1dd71c\">\n",
              "    <div class=\"colab-df-container\">\n",
              "      <div>\n",
              "<style scoped>\n",
              "    .dataframe tbody tr th:only-of-type {\n",
              "        vertical-align: middle;\n",
              "    }\n",
              "\n",
              "    .dataframe tbody tr th {\n",
              "        vertical-align: top;\n",
              "    }\n",
              "\n",
              "    .dataframe thead th {\n",
              "        text-align: right;\n",
              "    }\n",
              "</style>\n",
              "<table border=\"1\" class=\"dataframe\">\n",
              "  <thead>\n",
              "    <tr style=\"text-align: right;\">\n",
              "      <th></th>\n",
              "      <th>headlines</th>\n",
              "      <th>text</th>\n",
              "      <th>decoder_input</th>\n",
              "      <th>decoder_target</th>\n",
              "    </tr>\n",
              "  </thead>\n",
              "  <tbody>\n",
              "    <tr>\n",
              "      <th>2</th>\n",
              "      <td>new zealand end rohit sharma led india match w...</td>\n",
              "      <td>new zealand defeated india wickets fourth odi ...</td>\n",
              "      <td>sostoken new zealand end rohit sharma led indi...</td>\n",
              "      <td>new zealand end rohit sharma led india match w...</td>\n",
              "    </tr>\n",
              "    <tr>\n",
              "      <th>3</th>\n",
              "      <td>aegon life iterm insurance plan helps customer...</td>\n",
              "      <td>aegon life iterm insurance plan customers enjo...</td>\n",
              "      <td>sostoken aegon life iterm insurance plan helps...</td>\n",
              "      <td>aegon life iterm insurance plan helps customer...</td>\n",
              "    </tr>\n",
              "    <tr>\n",
              "      <th>5</th>\n",
              "      <td>rahat fateh ali khan denies getting notice for...</td>\n",
              "      <td>pakistani singer rahat fateh ali khan denied r...</td>\n",
              "      <td>sostoken rahat fateh ali khan denies getting n...</td>\n",
              "      <td>rahat fateh ali khan denies getting notice for...</td>\n",
              "    </tr>\n",
              "    <tr>\n",
              "      <th>9</th>\n",
              "      <td>cong wins ramgarh bypoll in rajasthan takes to...</td>\n",
              "      <td>congress candidate shafia zubair ramgarh assem...</td>\n",
              "      <td>sostoken cong wins ramgarh bypoll in rajasthan...</td>\n",
              "      <td>cong wins ramgarh bypoll in rajasthan takes to...</td>\n",
              "    </tr>\n",
              "    <tr>\n",
              "      <th>10</th>\n",
              "      <td>up cousins fed human excreta for friendship wi...</td>\n",
              "      <td>two minor cousins uttar pradesh gorakhpur alle...</td>\n",
              "      <td>sostoken up cousins fed human excreta for frie...</td>\n",
              "      <td>up cousins fed human excreta for friendship wi...</td>\n",
              "    </tr>\n",
              "  </tbody>\n",
              "</table>\n",
              "</div>\n",
              "      <button class=\"colab-df-convert\" onclick=\"convertToInteractive('df-037e917a-4ba2-4da0-a006-4604fe1dd71c')\"\n",
              "              title=\"Convert this dataframe to an interactive table.\"\n",
              "              style=\"display:none;\">\n",
              "        \n",
              "  <svg xmlns=\"http://www.w3.org/2000/svg\" height=\"24px\"viewBox=\"0 0 24 24\"\n",
              "       width=\"24px\">\n",
              "    <path d=\"M0 0h24v24H0V0z\" fill=\"none\"/>\n",
              "    <path d=\"M18.56 5.44l.94 2.06.94-2.06 2.06-.94-2.06-.94-.94-2.06-.94 2.06-2.06.94zm-11 1L8.5 8.5l.94-2.06 2.06-.94-2.06-.94L8.5 2.5l-.94 2.06-2.06.94zm10 10l.94 2.06.94-2.06 2.06-.94-2.06-.94-.94-2.06-.94 2.06-2.06.94z\"/><path d=\"M17.41 7.96l-1.37-1.37c-.4-.4-.92-.59-1.43-.59-.52 0-1.04.2-1.43.59L10.3 9.45l-7.72 7.72c-.78.78-.78 2.05 0 2.83L4 21.41c.39.39.9.59 1.41.59.51 0 1.02-.2 1.41-.59l7.78-7.78 2.81-2.81c.8-.78.8-2.07 0-2.86zM5.41 20L4 18.59l7.72-7.72 1.47 1.35L5.41 20z\"/>\n",
              "  </svg>\n",
              "      </button>\n",
              "      \n",
              "  <style>\n",
              "    .colab-df-container {\n",
              "      display:flex;\n",
              "      flex-wrap:wrap;\n",
              "      gap: 12px;\n",
              "    }\n",
              "\n",
              "    .colab-df-convert {\n",
              "      background-color: #E8F0FE;\n",
              "      border: none;\n",
              "      border-radius: 50%;\n",
              "      cursor: pointer;\n",
              "      display: none;\n",
              "      fill: #1967D2;\n",
              "      height: 32px;\n",
              "      padding: 0 0 0 0;\n",
              "      width: 32px;\n",
              "    }\n",
              "\n",
              "    .colab-df-convert:hover {\n",
              "      background-color: #E2EBFA;\n",
              "      box-shadow: 0px 1px 2px rgba(60, 64, 67, 0.3), 0px 1px 3px 1px rgba(60, 64, 67, 0.15);\n",
              "      fill: #174EA6;\n",
              "    }\n",
              "\n",
              "    [theme=dark] .colab-df-convert {\n",
              "      background-color: #3B4455;\n",
              "      fill: #D2E3FC;\n",
              "    }\n",
              "\n",
              "    [theme=dark] .colab-df-convert:hover {\n",
              "      background-color: #434B5C;\n",
              "      box-shadow: 0px 1px 3px 1px rgba(0, 0, 0, 0.15);\n",
              "      filter: drop-shadow(0px 1px 2px rgba(0, 0, 0, 0.3));\n",
              "      fill: #FFFFFF;\n",
              "    }\n",
              "  </style>\n",
              "\n",
              "      <script>\n",
              "        const buttonEl =\n",
              "          document.querySelector('#df-037e917a-4ba2-4da0-a006-4604fe1dd71c button.colab-df-convert');\n",
              "        buttonEl.style.display =\n",
              "          google.colab.kernel.accessAllowed ? 'block' : 'none';\n",
              "\n",
              "        async function convertToInteractive(key) {\n",
              "          const element = document.querySelector('#df-037e917a-4ba2-4da0-a006-4604fe1dd71c');\n",
              "          const dataTable =\n",
              "            await google.colab.kernel.invokeFunction('convertToInteractive',\n",
              "                                                     [key], {});\n",
              "          if (!dataTable) return;\n",
              "\n",
              "          const docLinkHtml = 'Like what you see? Visit the ' +\n",
              "            '<a target=\"_blank\" href=https://colab.research.google.com/notebooks/data_table.ipynb>data table notebook</a>'\n",
              "            + ' to learn more about interactive tables.';\n",
              "          element.innerHTML = '';\n",
              "          dataTable['output_type'] = 'display_data';\n",
              "          await google.colab.output.renderOutput(dataTable, element);\n",
              "          const docLink = document.createElement('div');\n",
              "          docLink.innerHTML = docLinkHtml;\n",
              "          element.appendChild(docLink);\n",
              "        }\n",
              "      </script>\n",
              "    </div>\n",
              "  </div>\n",
              "  "
            ]
          },
          "metadata": {},
          "execution_count": 50
        }
      ]
    },
    {
      "cell_type": "markdown",
      "source": [
        "headlins 열로부터 만드는데\n",
        "<br/>디코더의 입력에 해당되는 시작 토큰의 이름을 decoder_input,\n",
        "<br/>디코더의 출력에 해당되는 종료 토큰의 이름을 decoder_target으로 한다."
      ],
      "metadata": {
        "id": "f-EOgKDEp29N"
      }
    },
    {
      "cell_type": "code",
      "source": [
        "encoder_input = np.array(data['text']) \n",
        "decoder_input = np.array(data['decoder_input']) \n",
        "decoder_target = np.array(data['decoder_target']) "
      ],
      "metadata": {
        "id": "wh5gmAmHrvDj"
      },
      "execution_count": null,
      "outputs": []
    },
    {
      "cell_type": "markdown",
      "source": [
        "인코더의 입력, 디코더의 입력과 레이블을 각각 Numpy 자료형으로 저장한다."
      ],
      "metadata": {
        "id": "ciDNt4-1p2_r"
      }
    },
    {
      "cell_type": "code",
      "source": [
        "indices = np.arange(encoder_input.shape[0])\n",
        "np.random.shuffle(indices)\n",
        "print(indices)"
      ],
      "metadata": {
        "colab": {
          "base_uri": "https://localhost:8080/"
        },
        "id": "CxbIiTJOr5dE",
        "outputId": "59e9c439-3776-45bc-c87f-2c4faa47a679"
      },
      "execution_count": null,
      "outputs": [
        {
          "output_type": "stream",
          "name": "stdout",
          "text": [
            "[ 6744 35745   687 ... 63323 31145 32576]\n"
          ]
        }
      ]
    },
    {
      "cell_type": "markdown",
      "source": [
        "###정수 시퀀스 샘플 셔플"
      ],
      "metadata": {
        "id": "RXnkOcZe1l38"
      }
    },
    {
      "cell_type": "markdown",
      "source": [
        "encoder_input과 크기와 형태가 같은 순서가 섞인 정수 시퀀스를 만든다."
      ],
      "metadata": {
        "id": "2jJrbG5UsC70"
      }
    },
    {
      "cell_type": "markdown",
      "source": [
        "**np.random.shuffle**은 무작위 시퀀스를 두 배열의 인덱스로 사용하여 셔플 한다.\n",
        "<br/>셔플 함수는 데이터의 순서를 무작위로 바꾸어 주는 함수이다."
      ],
      "metadata": {
        "id": "I360ZigFtOWF"
      }
    },
    {
      "cell_type": "code",
      "source": [
        "encoder_input = encoder_input[indices]\n",
        "decoder_input = decoder_input[indices]\n",
        "decoder_target = decoder_target[indices]"
      ],
      "metadata": {
        "id": "rm2asRH4sBvl"
      },
      "execution_count": null,
      "outputs": []
    },
    {
      "cell_type": "markdown",
      "source": [
        "정수 시퀀스를 이용해 다시 데이터의 샘플 순서를 정의하여 샘플을 섞는다."
      ],
      "metadata": {
        "id": "yA-NAuxUp3Cc"
      }
    },
    {
      "cell_type": "markdown",
      "source": [
        "###train, test 데이터 분리"
      ],
      "metadata": {
        "id": "ytC1Qg0E1xYL"
      }
    },
    {
      "cell_type": "code",
      "source": [
        "n_of_val = int(len(encoder_input)*0.2)\n",
        "print('테스트 데이터의 수 :', n_of_val)"
      ],
      "metadata": {
        "colab": {
          "base_uri": "https://localhost:8080/"
        },
        "id": "9r9E2YursQ_8",
        "outputId": "d03834ea-35f9-465f-ddac-c6bb149b4a5a"
      },
      "execution_count": null,
      "outputs": [
        {
          "output_type": "stream",
          "name": "stdout",
          "text": [
            "테스트 데이터의 수 : 13080\n"
          ]
        }
      ]
    },
    {
      "cell_type": "markdown",
      "source": [
        "전체 데이터의 크기에서 0.2를 곱해서 테스트 데이터의 크기를 정의한다."
      ],
      "metadata": {
        "id": "tNseWZoNsRJU"
      }
    },
    {
      "cell_type": "code",
      "source": [
        "encoder_input_train = encoder_input[:-n_of_val]\n",
        "decoder_input_train = decoder_input[:-n_of_val]\n",
        "decoder_target_train = decoder_target[:-n_of_val]\n",
        "\n",
        "encoder_input_test = encoder_input[-n_of_val:]\n",
        "decoder_input_test = decoder_input[-n_of_val:]\n",
        "decoder_target_test = decoder_target[-n_of_val:]\n",
        "\n",
        "print('훈련 데이터의 개수 :', len(encoder_input_train))\n",
        "print('훈련 레이블의 개수 :', len(decoder_input_train))\n",
        "print('테스트 데이터의 개수 :', len(encoder_input_test))\n",
        "print('테스트 레이블의 개수 :', len(decoder_input_test))"
      ],
      "metadata": {
        "colab": {
          "base_uri": "https://localhost:8080/"
        },
        "id": "vnfFx_tssRQk",
        "outputId": "1e3c7e62-3d33-4555-af68-84333e27dff5"
      },
      "execution_count": null,
      "outputs": [
        {
          "output_type": "stream",
          "name": "stdout",
          "text": [
            "훈련 데이터의 개수 : 52323\n",
            "훈련 레이블의 개수 : 52323\n",
            "테스트 데이터의 개수 : 13080\n",
            "테스트 레이블의 개수 : 13080\n"
          ]
        }
      ]
    },
    {
      "cell_type": "markdown",
      "source": [
        "이렇게 정의한 테스트 데이터의 개수를 이용해 전체 데이터를 8:2로 나눈다."
      ],
      "metadata": {
        "id": "eZihmC9esRlc"
      }
    },
    {
      "cell_type": "markdown",
      "source": [
        "###정수 인코딩"
      ],
      "metadata": {
        "id": "4QBOuGmF18ZU"
      }
    },
    {
      "cell_type": "markdown",
      "source": [
        "각 단어에 고유한 정수를 맵핑하여 단어 집합(vocabulary)을 만든다."
      ],
      "metadata": {
        "id": "KDE-DkE52PW2"
      }
    },
    {
      "cell_type": "code",
      "source": [
        "src_tokenizer = Tokenizer() \n",
        "src_tokenizer.fit_on_texts(encoder_input_train) "
      ],
      "metadata": {
        "id": "I9ZU0Qo8sg_V"
      },
      "execution_count": null,
      "outputs": []
    },
    {
      "cell_type": "markdown",
      "source": [
        "토크나이저를 정의하고\n",
        "<br/>입력된 text 데이터를 다루는 encoder의 단어집합을 생성한다."
      ],
      "metadata": {
        "id": "3gdqqtoxshHX"
      }
    },
    {
      "cell_type": "code",
      "source": [
        "threshold = 7\n",
        "total_cnt = len(src_tokenizer.word_index) \n",
        "rare_cnt = 0 \n",
        "total_freq = 0 \n",
        "rare_freq = 0 \n",
        "\n",
        "for key, value in src_tokenizer.word_counts.items():\n",
        "    total_freq = total_freq + value\n",
        "\n",
        "    if(value < threshold):\n",
        "        rare_cnt = rare_cnt + 1\n",
        "        rare_freq = rare_freq + value\n",
        "\n",
        "print('단어 집합(vocabulary)의 크기 :', total_cnt)\n",
        "print('등장 빈도가 %s번 이하인 희귀 단어의 수: %s'%(threshold - 1, rare_cnt))\n",
        "print('단어 집합에서 희귀 단어를 제외시킬 경우의 단어 집합의 크기 : %s'%(total_cnt - rare_cnt))\n",
        "print(\"단어 집합에서 희귀 단어의 비율:\", (rare_cnt / total_cnt)*100)\n",
        "print(\"전체 등장 빈도에서 희귀 단어 등장 빈도 비율:\", (rare_freq / total_freq)*100)"
      ],
      "metadata": {
        "colab": {
          "base_uri": "https://localhost:8080/"
        },
        "id": "9d8j54aV4rEk",
        "outputId": "5d742076-c79b-4a8e-9db1-23cc19c9284e"
      },
      "execution_count": null,
      "outputs": [
        {
          "output_type": "stream",
          "name": "stdout",
          "text": [
            "단어 집합(vocabulary)의 크기 : 57250\n",
            "등장 빈도가 6번 이하인 희귀 단어의 수: 39382\n",
            "단어 집합에서 희귀 단어를 제외시킬 경우의 단어 집합의 크기 : 17868\n",
            "단어 집합에서 희귀 단어의 비율: 68.78951965065502\n",
            "전체 등장 빈도에서 희귀 단어 등장 빈도 비율: 4.537824217845316\n"
          ]
        }
      ]
    },
    {
      "cell_type": "markdown",
      "source": [
        "단어의 등장 빈도수가 threshold보다 작으면 훈련 데이터에서 제외한다.\n",
        "<br/>if문에서 제외된 단어의 수를 카운트하고 빈도수를 저장한다."
      ],
      "metadata": {
        "id": "4lliYxoP4rLN"
      }
    },
    {
      "cell_type": "markdown",
      "source": [
        "등장 빈도가 threshold 값인 7회 미만인 단어들은 단어 집합에서 약 68%을 차지한다.\n",
        "<br/>전체 훈련 데이터에서 등장 빈도는 4.54%가 된다."
      ],
      "metadata": {
        "id": "yerxBrvt5u6k"
      }
    },
    {
      "cell_type": "code",
      "source": [
        "src_vocab = 17800\n",
        "src_tokenizer = Tokenizer(num_words = src_vocab) \n",
        "src_tokenizer.fit_on_texts(encoder_input_train)"
      ],
      "metadata": {
        "id": "X2zbn33W6_eE"
      },
      "execution_count": null,
      "outputs": []
    },
    {
      "cell_type": "markdown",
      "source": [
        "등장 빈도가 6회 이하인 단어를 제외한 단어 집합의 크기를 \n",
        "<br/>17800개로 어림잡아 단어집합의 크기를 제한한다."
      ],
      "metadata": {
        "id": "mtPmdOho7Aec"
      }
    },
    {
      "cell_type": "code",
      "source": [
        "encoder_input_train = src_tokenizer.texts_to_sequences(encoder_input_train) \n",
        "encoder_input_test = src_tokenizer.texts_to_sequences(encoder_input_test)\n",
        "\n",
        "print(encoder_input_train[:3])"
      ],
      "metadata": {
        "colab": {
          "base_uri": "https://localhost:8080/"
        },
        "id": "o6MSRert7k8b",
        "outputId": "a7dd8001-5441-4720-aea2-676d94da6a2f"
      },
      "execution_count": null,
      "outputs": [
        {
          "output_type": "stream",
          "name": "stdout",
          "text": [
            "[[522, 84, 3146, 3324, 2660, 7053, 5822, 49, 1, 1226, 105, 5574, 60, 910, 935, 28, 1117, 22, 1232, 8, 5822, 8689, 42, 1317, 157, 251, 1220, 42, 338, 661, 8, 3], [37, 24, 432, 24, 905, 44, 3291, 2868, 1313, 473, 3291, 323, 1268, 435, 43, 4848, 4315, 15574, 68, 73, 7, 426, 72, 97, 961, 1288, 1764, 5, 828, 20, 209], [1296, 111, 618, 5925, 1, 295, 282, 1227, 353, 299, 3949, 5925, 2296, 1154, 444, 6674, 6028, 2031, 1, 248, 8047, 111, 43, 5925, 1144, 120, 1200, 6029, 8, 1, 1296, 6799, 1353, 1149]]\n"
          ]
        }
      ]
    },
    {
      "cell_type": "markdown",
      "source": [
        "texts_to_sequences()는 생성된 단어 집합에 기반하여 <br/>텍스트 시퀀스를 정수 시퀀스로 변환한다."
      ],
      "metadata": {
        "id": "iaARGJ3s7lEg"
      }
    },
    {
      "cell_type": "markdown",
      "source": [
        "토크나이저를 정의하고\n",
        "<br/>입력된 headlines 데이터를 다루는 decoder의 정수 인코딩 작업을 한다."
      ],
      "metadata": {
        "id": "plxB9ftM8Zvk"
      }
    },
    {
      "cell_type": "code",
      "source": [
        "tar_tokenizer = Tokenizer()\n",
        "tar_tokenizer.fit_on_texts(decoder_input_train)"
      ],
      "metadata": {
        "id": "ITWZYbOA71O2"
      },
      "execution_count": null,
      "outputs": []
    },
    {
      "cell_type": "code",
      "source": [
        "threshold = 6\n",
        "total_cnt = len(tar_tokenizer.word_index) \n",
        "rare_cnt = 0 \n",
        "total_freq = 0 \n",
        "rare_freq = 0 \n",
        "\n",
        "for key, value in tar_tokenizer.word_counts.items():\n",
        "    total_freq = total_freq + value\n",
        "\n",
        "    if(value < threshold):\n",
        "        rare_cnt = rare_cnt + 1\n",
        "        rare_freq = rare_freq + value\n",
        "\n",
        "print('단어 집합(vocabulary)의 크기 :', total_cnt)\n",
        "print('등장 빈도가 %s번 이하인 희귀 단어의 수: %s'%(threshold - 1, rare_cnt))\n",
        "print('단어 집합에서 희귀 단어를 제외시킬 경우의 단어 집합의 크기 %s'%(total_cnt - rare_cnt))\n",
        "print(\"단어 집합에서 희귀 단어의 비율:\", (rare_cnt / total_cnt)*100)\n",
        "print(\"전체 등장 빈도에서 희귀 단어 등장 빈도 비율:\", (rare_freq / total_freq)*100)"
      ],
      "metadata": {
        "colab": {
          "base_uri": "https://localhost:8080/"
        },
        "id": "-IRbwVUP8kb0",
        "outputId": "35d9853d-a664-4878-ca35-dcc7c6ad8cd8"
      },
      "execution_count": null,
      "outputs": [
        {
          "output_type": "stream",
          "name": "stdout",
          "text": [
            "단어 집합(vocabulary)의 크기 : 25983\n",
            "등장 빈도가 5번 이하인 희귀 단어의 수: 17593\n",
            "단어 집합에서 희귀 단어를 제외시킬 경우의 단어 집합의 크기 8390\n",
            "단어 집합에서 희귀 단어의 비율: 67.70965631374361\n",
            "전체 등장 빈도에서 희귀 단어 등장 빈도 비율: 6.539126444112997\n"
          ]
        }
      ]
    },
    {
      "cell_type": "markdown",
      "source": [
        "등장 빈도가 threshold 값인 7회 미만인 단어들은 단어 집합에서 약 68%을 차지한다.\n",
        "<br/>전체 훈련 데이터에서 등장 빈도는 6.54%가 된다."
      ],
      "metadata": {
        "id": "_fzqp96S8wS9"
      }
    },
    {
      "cell_type": "code",
      "source": [
        "tar_vocab = 8300\n",
        "tar_tokenizer = Tokenizer(num_words=tar_vocab) \n",
        "tar_tokenizer.fit_on_texts(decoder_input_train)\n",
        "tar_tokenizer.fit_on_texts(decoder_target_train)\n",
        "\n",
        "decoder_input_train = tar_tokenizer.texts_to_sequences(decoder_input_train) \n",
        "decoder_target_train = tar_tokenizer.texts_to_sequences(decoder_target_train)\n",
        "decoder_input_test = tar_tokenizer.texts_to_sequences(decoder_input_test)\n",
        "decoder_target_test = tar_tokenizer.texts_to_sequences(decoder_target_test)\n",
        "\n",
        "print('input')\n",
        "print('input ',decoder_input_train[:5])\n",
        "print('target')\n",
        "print('decoder ',decoder_target_train[:5])"
      ],
      "metadata": {
        "colab": {
          "base_uri": "https://localhost:8080/"
        },
        "id": "rgzAVWxb8klj",
        "outputId": "7a0dc626-c61d-4ce3-bbae-98f895c7bd25"
      },
      "execution_count": null,
      "outputs": [
        {
          "output_type": "stream",
          "name": "stdout",
          "text": [
            "input\n",
            "input  [[1, 40, 274, 1141, 5, 1379, 4940], [1, 146, 100, 192, 919, 224, 211, 193, 2038, 52], [1, 47, 907, 1911, 7, 63, 301, 2592, 468, 7595], [1, 23, 156, 446, 3, 2450, 5254, 1186, 8, 1835], [1, 866, 30, 1379, 36, 3011, 772, 6, 584, 30, 5255]]\n",
            "target\n",
            "decoder  [[40, 274, 1141, 5, 1379, 4940, 2], [146, 100, 192, 919, 224, 211, 193, 2038, 52, 2], [47, 907, 1911, 7, 63, 301, 2592, 468, 7595, 2], [23, 156, 446, 3, 2450, 5254, 1186, 8, 1835, 2], [866, 30, 1379, 36, 3011, 772, 6, 584, 30, 5255, 2]]\n"
          ]
        }
      ]
    },
    {
      "cell_type": "markdown",
      "source": [
        "등장 빈도가 6회 이하인 단어를 제외한 단어 집합의 크기를 \n",
        "<br/>8300개로 어림잡아 단어집합의 크기를 제한한다."
      ],
      "metadata": {
        "id": "ghT5_b78837U"
      }
    },
    {
      "cell_type": "markdown",
      "source": [
        "texts_to_sequences()는 생성된 단어 집합에 기반하여 <br/>텍스트 시퀀스를 정수 시퀀스로 변환한다."
      ],
      "metadata": {
        "id": "HVBOHH3m87Ys"
      }
    },
    {
      "cell_type": "code",
      "source": [
        "drop_train = [index for index, sentence in enumerate(decoder_input_train) if len(sentence) == 1]\n",
        "drop_test = [index for index, sentence in enumerate(decoder_input_test) if len(sentence) == 1]\n",
        "\n",
        "print('삭제할 훈련 데이터의 개수 :', len(drop_train))\n",
        "print('삭제할 테스트 데이터의 개수 :', len(drop_test))\n",
        "\n",
        "encoder_input_train = [sentence for index, sentence in enumerate(encoder_input_train) if index not in drop_train]\n",
        "decoder_input_train = [sentence for index, sentence in enumerate(decoder_input_train) if index not in drop_train]\n",
        "decoder_target_train = [sentence for index, sentence in enumerate(decoder_target_train) if index not in drop_train]\n",
        "\n",
        "encoder_input_test = [sentence for index, sentence in enumerate(encoder_input_test) if index not in drop_test]\n",
        "decoder_input_test = [sentence for index, sentence in enumerate(decoder_input_test) if index not in drop_test]\n",
        "decoder_target_test = [sentence for index, sentence in enumerate(decoder_target_test) if index not in drop_test]\n",
        "\n",
        "print('훈련 데이터의 개수 :', len(encoder_input_train))\n",
        "print('훈련 레이블의 개수 :', len(decoder_input_train))\n",
        "print('테스트 데이터의 개수 :', len(encoder_input_test))\n",
        "print('테스트 레이블의 개수 :', len(decoder_input_test))"
      ],
      "metadata": {
        "colab": {
          "base_uri": "https://localhost:8080/"
        },
        "id": "CpKYRpDi8ko3",
        "outputId": "c97df9e0-c472-47bb-8e86-2cb0d6b861a2"
      },
      "execution_count": null,
      "outputs": [
        {
          "output_type": "stream",
          "name": "stdout",
          "text": [
            "삭제할 훈련 데이터의 개수 : 0\n",
            "삭제할 테스트 데이터의 개수 : 1\n",
            "훈련 데이터의 개수 : 52323\n",
            "훈련 레이블의 개수 : 52323\n",
            "테스트 데이터의 개수 : 13079\n",
            "테스트 레이블의 개수 : 13079\n"
          ]
        }
      ]
    },
    {
      "cell_type": "markdown",
      "source": [
        "전체 데이터에서 빈도수가 낮은 단어가 삭제되었다는 것은\n",
        "<br/>빈도수가 낮은 단어만으로 구성되었던 샘플들은 이제 빈(empty) 샘플이 되었을 가능성이 있다."
      ],
      "metadata": {
        "id": "VMO1-bBW71Zc"
      }
    },
    {
      "cell_type": "markdown",
      "source": [
        "요약문의 길이가 1인 경우의 인덱스를 각각 drop_train과 drop_test에 라는 변수에 저장한다.\n",
        "<br/>이 샘플들을 모두 삭제한다."
      ],
      "metadata": {
        "id": "3kbRs9sC9ZCk"
      }
    },
    {
      "cell_type": "markdown",
      "source": [
        "###패딩"
      ],
      "metadata": {
        "id": "GlSlWMyO933s"
      }
    },
    {
      "cell_type": "markdown",
      "source": [
        "서로 다른 길이의 샘플들을 병렬 처리하기 위해 같은 길이로 맞춰주는 패딩 작업을 한다."
      ],
      "metadata": {
        "id": "uj5E2NcpA7Q7"
      }
    },
    {
      "cell_type": "code",
      "source": [
        "text_max_len = 38\n",
        "headlines_max_len = 10"
      ],
      "metadata": {
        "id": "CWjYK3BIBPAk"
      },
      "execution_count": null,
      "outputs": []
    },
    {
      "cell_type": "markdown",
      "source": [
        "훈련 샘플의 최대 길이로 패딩한다.\n",
        "<br/>짧은 데이터는 뒤의 공간에 숫자 0을 넣어 최대 길이로 길이를 맞춘다."
      ],
      "metadata": {
        "id": "YdA9ThNIBQ3E"
      }
    },
    {
      "cell_type": "code",
      "source": [
        "encoder_input_train = pad_sequences(encoder_input_train, maxlen=text_max_len, padding='post')\n",
        "encoder_input_test = pad_sequences(encoder_input_test, maxlen=text_max_len, padding='post')\n",
        "decoder_input_train = pad_sequences(decoder_input_train, maxlen=headlines_max_len, padding='post')\n",
        "decoder_target_train = pad_sequences(decoder_target_train, maxlen=headlines_max_len, padding='post')\n",
        "decoder_input_test = pad_sequences(decoder_input_test, maxlen=headlines_max_len, padding='post')\n",
        "decoder_target_test = pad_sequences(decoder_target_test, maxlen=headlines_max_len, padding='post')"
      ],
      "metadata": {
        "id": "9bl6E7UY96rD"
      },
      "execution_count": null,
      "outputs": []
    },
    {
      "cell_type": "markdown",
      "source": [
        "post는 padding 방식을 문장 뒤쪽으로 하는 것이다.\n",
        "<br/>반면 pre는 앞의 공간에 숫자 0을 넣어 최대 길이로 길이를 맞추는 것인데\n",
        "<br/>RNN 모델에서는 pre 기법이 성능이 높게 나와 많이 쓰인다."
      ],
      "metadata": {
        "id": "4ju_c7sK95f7"
      }
    },
    {
      "cell_type": "markdown",
      "source": [
        "##모델 구성"
      ],
      "metadata": {
        "id": "MUiM6YKSDhej"
      }
    },
    {
      "cell_type": "markdown",
      "source": [
        "###Encoder"
      ],
      "metadata": {
        "id": "ipWyiMRkDzJT"
      }
    },
    {
      "cell_type": "code",
      "source": [
        "from tensorflow.keras.layers import Input, LSTM, Embedding, Dense, Concatenate, TimeDistributed\n",
        "from tensorflow.keras.models import Model\n",
        "\n",
        "\n",
        "embedding_dim = 128\n",
        "hidden_size = 256\n",
        "\n",
        "encoder_inputs = Input(shape=(text_max_len,))\n",
        "\n",
        "enc_emb = Embedding(src_vocab, embedding_dim)(encoder_inputs)\n",
        "\n",
        "encoder_lstm1 = LSTM(hidden_size, return_sequences=True, return_state=True ,dropout = 0.4)\n",
        "encoder_output1, state_h1, state_c1 = encoder_lstm1(enc_emb)\n",
        "\n",
        "encoder_lstm2 = LSTM(hidden_size, return_sequences=True, return_state=True, dropout=0.4)\n",
        "encoder_output2, state_h2, state_c2 = encoder_lstm2(encoder_output1)\n",
        "\n",
        "encoder_lstm3 = LSTM(hidden_size, return_state=True, return_sequences=True, dropout=0.4)\n",
        "encoder_outputs, state_h, state_c= encoder_lstm3(encoder_output2)"
      ],
      "metadata": {
        "id": "5Goc7A1YD5FL"
      },
      "execution_count": null,
      "outputs": []
    },
    {
      "cell_type": "markdown",
      "source": [
        "모델은 Input, LSTM, Embedding, Dense, Concatenate, TimeDistributed 레이어로 구성된다."
      ],
      "metadata": {
        "id": "hYjWhKl9H6BV"
      }
    },
    {
      "cell_type": "markdown",
      "source": [
        "Input은 입력 데이터의 크기를 지정하는 레이어다."
      ],
      "metadata": {
        "id": "DOGs-IpBIISk"
      }
    },
    {
      "cell_type": "markdown",
      "source": [
        "LSTM은 SimpleRNN의 장기 의존성 문제를 해결하기 위해 등장한 레이어다.\n",
        "<br/>장기의존성이란 입력과 출력 사이의 거리가 멀어질수록 연관 관계가 적어지는 문제이다.\n",
        "<br/>LSTM은 이전의 특정 정보가 유의미할때까지 기억하고\n",
        "<br/>필요 없다면 잊어버리며 현재의 정보와 합쳐 정확한 출력을 낸다. "
      ],
      "metadata": {
        "id": "eT9zq-SDHhJF"
      }
    },
    {
      "cell_type": "markdown",
      "source": [
        "Embedding은 단어의 분산 표현을 구현하기 위한 레이어이다.\n",
        "<br/>분포 가설(distribution hypothesis)이란 모든 단어를 고정 차원의 벡터로 표현할 때\n",
        "<br/>유사한 맥락에서 나타나는 단어는 그 의미도 비슷하다라는 것이다.\n",
        "<br/>이런 방식으로 얻어지는 단어 벡터를 단어의 분산 표현(distributed representation)이라고 한다."
      ],
      "metadata": {
        "id": "xW9ypJi2IAbD"
      }
    },
    {
      "cell_type": "markdown",
      "source": [
        "Dense는 추출된 정보를 하나의 일렬로 정렬해서 원하는 차원으로 축소시키는 레이어다."
      ],
      "metadata": {
        "id": "8HqV-BvAIAlT"
      }
    },
    {
      "cell_type": "markdown",
      "source": [
        "Concatenate는 부분 network의 tensor를 하나로 합치는 레이어다."
      ],
      "metadata": {
        "id": "gftTkMUkLOiT"
      }
    },
    {
      "cell_type": "markdown",
      "source": [
        "Timedistributed는 각 time에서 출력된 아웃풋을 내부에 구성한 레이어와 연결시켜주는 레이어다."
      ],
      "metadata": {
        "id": "PYo6z7rTL3PC"
      }
    },
    {
      "cell_type": "markdown",
      "source": [
        "인코더 임베딩 벡터의 차원은 128, hidden state의 크기를 256으로 정의한다.\n",
        "<br/>레이어로 임베딩 층 1개, LSTM 층 3개를 구성한다."
      ],
      "metadata": {
        "id": "kWdl_icZEFnL"
      }
    },
    {
      "cell_type": "markdown",
      "source": [
        "LSTM의 **Recurrent Dropout**은 dropout을 time step마다 해주어\n",
        "<br/>일반적인 dropout와 같이 regularization을 하고 과적합을 방지한다."
      ],
      "metadata": {
        "id": "GNnRuu24MnC9"
      }
    },
    {
      "cell_type": "markdown",
      "source": [
        "###Decoder"
      ],
      "metadata": {
        "id": "aVWMt5dCOLQi"
      }
    },
    {
      "cell_type": "code",
      "source": [
        "decoder_inputs = Input(shape=(None,))\n",
        "\n",
        "dec_emb_layer = Embedding(tar_vocab, embedding_dim)\n",
        "dec_emb = dec_emb_layer(decoder_inputs)\n",
        "\n",
        "decoder_lstm = LSTM(hidden_size, return_sequences=True, return_state=True, dropout=0.4)\n",
        "decoder_outputs, _, _ = decoder_lstm(dec_emb, initial_state=[state_h, state_c])"
      ],
      "metadata": {
        "id": "TtS0QdNhOMZa"
      },
      "execution_count": null,
      "outputs": []
    },
    {
      "cell_type": "markdown",
      "source": [
        "디코더의 임베딩 층과 LSTM을 구성한다.\n",
        "<br/>initial_state의 인자값으로 인코더의 hidden state와 cell state의 값을 넣는다."
      ],
      "metadata": {
        "id": "by7Iu7NAOiAi"
      }
    },
    {
      "cell_type": "markdown",
      "source": [
        "###Attention Mechanism"
      ],
      "metadata": {
        "id": "bFC4fdk4qaTp"
      }
    },
    {
      "cell_type": "code",
      "source": [
        "from tensorflow.keras.layers import AdditiveAttention\n",
        "\n",
        "attn_layer = AdditiveAttention(name='attention_layer')\n",
        "\n",
        "\n",
        "attn_out = attn_layer([decoder_outputs, encoder_outputs])\n",
        "\n",
        "decoder_concat_input = Concatenate(axis=-1, name='concat_layer')([decoder_outputs, attn_out])\n",
        "\n",
        "decoder_softmax_layer = Dense(tar_vocab, activation='softmax')\n",
        "decoder_softmax_outputs = decoder_softmax_layer(decoder_concat_input)\n",
        "\n",
        "model = Model([encoder_inputs, decoder_inputs], decoder_softmax_outputs)\n",
        "model.summary()"
      ],
      "metadata": {
        "id": "Pi5Uz9-6qagZ",
        "colab": {
          "base_uri": "https://localhost:8080/"
        },
        "outputId": "e5715fba-65e8-4a35-999f-d964d0c6f15e"
      },
      "execution_count": null,
      "outputs": [
        {
          "output_type": "stream",
          "name": "stdout",
          "text": [
            "Model: \"model_1\"\n",
            "__________________________________________________________________________________________________\n",
            " Layer (type)                   Output Shape         Param #     Connected to                     \n",
            "==================================================================================================\n",
            " input_3 (InputLayer)           [(None, 38)]         0           []                               \n",
            "                                                                                                  \n",
            " embedding_2 (Embedding)        (None, 38, 128)      2278400     ['input_3[0][0]']                \n",
            "                                                                                                  \n",
            " lstm_4 (LSTM)                  [(None, 38, 256),    394240      ['embedding_2[0][0]']            \n",
            "                                 (None, 256),                                                     \n",
            "                                 (None, 256)]                                                     \n",
            "                                                                                                  \n",
            " input_4 (InputLayer)           [(None, None)]       0           []                               \n",
            "                                                                                                  \n",
            " lstm_5 (LSTM)                  [(None, 38, 256),    525312      ['lstm_4[0][0]']                 \n",
            "                                 (None, 256),                                                     \n",
            "                                 (None, 256)]                                                     \n",
            "                                                                                                  \n",
            " embedding_3 (Embedding)        (None, None, 128)    1062400     ['input_4[0][0]']                \n",
            "                                                                                                  \n",
            " lstm_6 (LSTM)                  [(None, 38, 256),    525312      ['lstm_5[0][0]']                 \n",
            "                                 (None, 256),                                                     \n",
            "                                 (None, 256)]                                                     \n",
            "                                                                                                  \n",
            " lstm_7 (LSTM)                  [(None, None, 256),  394240      ['embedding_3[0][0]',            \n",
            "                                 (None, 256),                     'lstm_6[0][1]',                 \n",
            "                                 (None, 256)]                     'lstm_6[0][2]']                 \n",
            "                                                                                                  \n",
            " attention_layer (AdditiveAtten  (None, None, 256)   256         ['lstm_7[0][0]',                 \n",
            " tion)                                                            'lstm_6[0][0]']                 \n",
            "                                                                                                  \n",
            " concat_layer (Concatenate)     (None, None, 512)    0           ['lstm_7[0][0]',                 \n",
            "                                                                  'attention_layer[0][0]']        \n",
            "                                                                                                  \n",
            " dense_1 (Dense)                (None, None, 8300)   4257900     ['concat_layer[0][0]']           \n",
            "                                                                                                  \n",
            "==================================================================================================\n",
            "Total params: 9,438,060\n",
            "Trainable params: 9,438,060\n",
            "Non-trainable params: 0\n",
            "__________________________________________________________________________________________________\n"
          ]
        }
      ]
    },
    {
      "cell_type": "markdown",
      "source": [
        "어텐션 함수 AdditiveAttention를 가져와서 어텐션 층을 만든다.\n",
        "<br/>인코더와 디코더의 모든 time step의 hidden state를 어텐션 층에 전달하고 결과를 리턴한다."
      ],
      "metadata": {
        "id": "MaAgpNRQNMNi"
      }
    },
    {
      "cell_type": "markdown",
      "source": [
        "Concatenate는 어텐션의 결과와 디코더의 hidden state들을 연결한다."
      ],
      "metadata": {
        "id": "KVVfM2VVNMVt"
      }
    },
    {
      "cell_type": "markdown",
      "source": [
        "Dense 레이어와 Softmax 활성화 함수를 거쳐 디코더의 출력층을 구성한다."
      ],
      "metadata": {
        "id": "EE0JgbcrNMdb"
      }
    },
    {
      "cell_type": "markdown",
      "source": [
        "##모델 학습"
      ],
      "metadata": {
        "id": "HiximsFbO-qV"
      }
    },
    {
      "cell_type": "code",
      "source": [
        "from tensorflow.keras.callbacks import EarlyStopping, ModelCheckpoint\n",
        "\n",
        "model.compile(optimizer='rmsprop', loss='sparse_categorical_crossentropy')\n",
        "es = EarlyStopping(monitor='val_loss', patience=2, verbose=1)\n",
        "history = model.fit(x=[encoder_input_train, decoder_input_train], y=decoder_target_train, \\\n",
        "          validation_data=([encoder_input_test, decoder_input_test], decoder_target_test), \\\n",
        "          batch_size=256, callbacks=[es], epochs=50)"
      ],
      "metadata": {
        "colab": {
          "base_uri": "https://localhost:8080/"
        },
        "id": "LkywE1sAPAei",
        "outputId": "de77a82c-7d28-4d56-b70b-2f126133b3f4"
      },
      "execution_count": null,
      "outputs": [
        {
          "output_type": "stream",
          "name": "stdout",
          "text": [
            "Epoch 1/50\n",
            "205/205 [==============================] - 19s 64ms/step - loss: 6.2698 - val_loss: 5.8445\n",
            "Epoch 2/50\n",
            "205/205 [==============================] - 12s 58ms/step - loss: 5.7594 - val_loss: 5.5488\n",
            "Epoch 3/50\n",
            "205/205 [==============================] - 12s 58ms/step - loss: 5.4644 - val_loss: 5.3089\n",
            "Epoch 4/50\n",
            "205/205 [==============================] - 12s 59ms/step - loss: 5.1990 - val_loss: 5.1128\n",
            "Epoch 5/50\n",
            "205/205 [==============================] - 12s 58ms/step - loss: 4.9586 - val_loss: 4.9263\n",
            "Epoch 6/50\n",
            "205/205 [==============================] - 12s 58ms/step - loss: 4.7474 - val_loss: 4.7837\n",
            "Epoch 7/50\n",
            "205/205 [==============================] - 12s 58ms/step - loss: 4.5661 - val_loss: 4.6849\n",
            "Epoch 8/50\n",
            "205/205 [==============================] - 12s 58ms/step - loss: 4.4087 - val_loss: 4.6074\n",
            "Epoch 9/50\n",
            "205/205 [==============================] - 12s 58ms/step - loss: 4.2676 - val_loss: 4.5348\n",
            "Epoch 10/50\n",
            "205/205 [==============================] - 12s 58ms/step - loss: 4.1412 - val_loss: 4.4779\n",
            "Epoch 11/50\n",
            "205/205 [==============================] - 12s 58ms/step - loss: 4.0218 - val_loss: 4.4185\n",
            "Epoch 12/50\n",
            "205/205 [==============================] - 12s 58ms/step - loss: 3.9129 - val_loss: 4.3829\n",
            "Epoch 13/50\n",
            "205/205 [==============================] - 12s 58ms/step - loss: 3.8094 - val_loss: 4.3461\n",
            "Epoch 14/50\n",
            "205/205 [==============================] - 12s 58ms/step - loss: 3.7123 - val_loss: 4.3266\n",
            "Epoch 15/50\n",
            "205/205 [==============================] - 12s 58ms/step - loss: 3.6240 - val_loss: 4.2988\n",
            "Epoch 16/50\n",
            "205/205 [==============================] - 12s 58ms/step - loss: 3.5418 - val_loss: 4.2899\n",
            "Epoch 17/50\n",
            "205/205 [==============================] - 12s 58ms/step - loss: 3.4629 - val_loss: 4.2768\n",
            "Epoch 18/50\n",
            "205/205 [==============================] - 12s 58ms/step - loss: 3.3882 - val_loss: 4.2586\n",
            "Epoch 19/50\n",
            "205/205 [==============================] - 12s 58ms/step - loss: 3.3163 - val_loss: 4.2561\n",
            "Epoch 20/50\n",
            "205/205 [==============================] - 12s 58ms/step - loss: 3.2493 - val_loss: 4.2557\n",
            "Epoch 21/50\n",
            "205/205 [==============================] - 12s 58ms/step - loss: 3.1853 - val_loss: 4.2468\n",
            "Epoch 22/50\n",
            "205/205 [==============================] - 12s 58ms/step - loss: 3.1247 - val_loss: 4.2485\n",
            "Epoch 23/50\n",
            "205/205 [==============================] - 12s 58ms/step - loss: 3.0651 - val_loss: 4.2466\n",
            "Epoch 24/50\n",
            "205/205 [==============================] - 12s 58ms/step - loss: 3.0087 - val_loss: 4.2492\n",
            "Epoch 25/50\n",
            "205/205 [==============================] - 12s 58ms/step - loss: 2.9527 - val_loss: 4.2517\n",
            "Epoch 25: early stopping\n"
          ]
        }
      ]
    },
    {
      "cell_type": "markdown",
      "source": [
        "keras의 callbacks 함수 EarlyStopping은 검증 세트에서의 손실이 더 이상 감소하지 않으면 학습을 중단한다.\n",
        "<br/>ModelCheckpoint는 모델을 학습시키는 동안 에포크마다 자동으로 저장한다."
      ],
      "metadata": {
        "id": "O7YBRYhqFTnW"
      }
    },
    {
      "cell_type": "markdown",
      "source": [
        "RMSProp은 AdaGrad의 단점을 보완한 기법이다.\n",
        "<br/>AdaGrad는 과거의 기울기를 제곱하여 더하는 방식으로 갱신량이 0이 되어 전혀 갱신되지 않는 일이 발생하게 된다.\n",
        "<br/>반면 RMSProp은 과거의 기울기를 적게 반영하고 최신의 기울기를 많이 반영하는\n",
        "<br/>지수이동평균(Exponential Moving Average, EMA)의 연산을 하여 AdaGrad의 문제점을 개선한다."
      ],
      "metadata": {
        "id": "yfzfnG6zPSRL"
      }
    },
    {
      "cell_type": "markdown",
      "source": [
        "Sparse Categorical Crossentropy는 데이터 label이 정수의 형태로 제공되어 멀티클래스 분류에 사용되는 손실함수이다. "
      ],
      "metadata": {
        "id": "dae3kDcCPSUh"
      }
    },
    {
      "cell_type": "code",
      "source": [
        "plt.plot(history.history['loss'], label='train')\n",
        "plt.plot(history.history['val_loss'], label='test')\n",
        "plt.legend()\n",
        "plt.show()"
      ],
      "metadata": {
        "colab": {
          "base_uri": "https://localhost:8080/",
          "height": 265
        },
        "id": "wNNMLhJ2Pb6i",
        "outputId": "965372f3-e61c-47d4-c150-0737320c127a"
      },
      "execution_count": null,
      "outputs": [
        {
          "output_type": "display_data",
          "data": {
            "text/plain": [
              "<Figure size 432x288 with 1 Axes>"
            ],
            "image/png": "[encoded data removed]"
          },
          "metadata": {
            "needs_background": "light"
          }
        }
      ]
    },
    {
      "cell_type": "markdown",
      "source": [
        "훈련 데이터의 손실과 검증 데이터의 손실이 줄어드는 과정을 시각화한다."
      ],
      "metadata": {
        "id": "fIi9Xge4PcMT"
      }
    },
    {
      "cell_type": "markdown",
      "source": [
        "훈련 데이터셋의 학습은 실제 데이터셋의 부분 집합으로 오류가 감소한다.\n",
        "<br/>테스트 데이터셋의 학습은 오류가 증가한다.\n",
        "<br/>과적합 문제가 발생하지 않은 일반적인 모델 학습 과정이 나타난다."
      ],
      "metadata": {
        "id": "E71te8EPR80j"
      }
    },
    {
      "cell_type": "markdown",
      "source": [
        "##인퍼런스 모델 구성"
      ],
      "metadata": {
        "id": "yuIVazpcqdex"
      }
    },
    {
      "cell_type": "markdown",
      "source": [
        "딥러닝 프로세스는 분산처리를 기준으로 training과 inference로 나뉜다.\n",
        "<br/>training은 모델을 만들기 위해 데이터를 이용하고, 로스를 줄이기 위해 가중치를 변경하는 반복작업이다.\n",
        "<br/>inference는 이미 학습된 모델을 진행하면서 입력되는 사물을 빠른 시간에 판단하는 것으로 응답속도를 중요시한다.\n",
        "<br/>사물을 판단하는 추론의 정확성은 모델학습과 관련된다.\n"
      ],
      "metadata": {
        "id": "gYJ-ZAzfTDob"
      }
    },
    {
      "cell_type": "markdown",
      "source": [
        "seq2seq는 훈련할 때와 실제 동작할 때(인퍼런스 단계)의 방식이 다르므로\n",
        "<br/>그에 맞게 모델 구성을 별개로 진행한다."
      ],
      "metadata": {
        "id": "3BrZcw2JX78L"
      }
    },
    {
      "cell_type": "markdown",
      "source": [
        "훈련 단계에서는 디코더의 입력부에 정답이 되는 문장 전체를 한꺼번에 넣지만\n",
        "<br/> 정답 문장이 없는 인퍼런스 단계에서는 만들어야 할 문장의 길이만큼 디코더가 반복 구조로 동작한다. "
      ],
      "metadata": {
        "id": "HyS6oOArYNf6"
      }
    },
    {
      "cell_type": "code",
      "source": [
        "src_index_to_word = src_tokenizer.index_word \n",
        "tar_word_to_index = tar_tokenizer.word_index \n",
        "tar_index_to_word = tar_tokenizer.index_word"
      ],
      "metadata": {
        "id": "yzT12jI5qdnp"
      },
      "execution_count": null,
      "outputs": []
    },
    {
      "cell_type": "markdown",
      "source": [
        "src_index_to_word에서 원문 단어 집합에서 정수 -> 단어를 얻는다."
      ],
      "metadata": {
        "id": "Mc-zkU6YWzkz"
      }
    },
    {
      "cell_type": "markdown",
      "source": [
        "tar_word_to_index에서 요약 단어 집합에서 단어 -> 정수를 얻는다."
      ],
      "metadata": {
        "id": "lm0G4ZfeWzrD"
      }
    },
    {
      "cell_type": "markdown",
      "source": [
        "tar_index_to_word에서 요약 단어 집합에서 정수 -> 단어를 얻는다."
      ],
      "metadata": {
        "id": "09sNBxbJWxPj"
      }
    },
    {
      "cell_type": "code",
      "source": [
        "encoder_model = Model(inputs=encoder_inputs, outputs=[encoder_outputs, state_h, state_c])\n",
        "\n",
        "decoder_state_input_h = Input(shape=(hidden_size,))\n",
        "decoder_state_input_c = Input(shape=(hidden_size,))\n",
        "\n",
        "dec_emb2 = dec_emb_layer(decoder_inputs)\n",
        "\n",
        "decoder_outputs2, state_h2, state_c2 = decoder_lstm(dec_emb2, initial_state=[decoder_state_input_h, decoder_state_input_c])"
      ],
      "metadata": {
        "id": "ShQI27Oks4Dx"
      },
      "execution_count": null,
      "outputs": []
    },
    {
      "cell_type": "markdown",
      "source": [
        "인코더를 구성한다.\n",
        "<br/>decoder_state_input은 이전 시점의 상태들을 저장하는 텐서이다.\n",
        "<br/>문장의 다음 단어를 예측하기 위해서 초기 상태(initial_state)를 이전 시점의 상태로 사용한다.\n",
        "<br/>이는 뒤의 함수 decode_sequence()에 구현한다.\n",
        "<br/>훈련 과정에서와 달리 LSTM의 리턴하는 은닉 상태와 셀 상태인 state_h와 state_c를 버리지 않는다."
      ],
      "metadata": {
        "id": "pon6mWR3YadE"
      }
    },
    {
      "cell_type": "code",
      "source": [
        "decoder_hidden_state_input = Input(shape=(text_max_len, hidden_size))\n",
        "attn_out_inf = attn_layer([decoder_outputs2, decoder_hidden_state_input])\n",
        "decoder_inf_concat = Concatenate(axis=-1, name='concat')([decoder_outputs2, attn_out_inf])\n",
        "\n",
        "decoder_outputs2 = decoder_softmax_layer(decoder_inf_concat) \n",
        "\n",
        "decoder_model = Model(\n",
        "    [decoder_inputs] + [decoder_hidden_state_input,decoder_state_input_h, decoder_state_input_c],\n",
        "    [decoder_outputs2] + [state_h2, state_c2])"
      ],
      "metadata": {
        "id": "GQwfwIimYwgQ"
      },
      "execution_count": null,
      "outputs": []
    },
    {
      "cell_type": "markdown",
      "source": [
        "어텐션 메커니즘을 사용하는 출력층, 디코더를 구성한다."
      ],
      "metadata": {
        "id": "tBkWFUcZY9TS"
      }
    },
    {
      "cell_type": "code",
      "source": [
        "def decode_sequence(input_seq):\n",
        "    \n",
        "    e_out, e_h, e_c = encoder_model.predict(input_seq)\n",
        "\n",
        "    target_seq = np.zeros((1,1))\n",
        "    target_seq[0, 0] = tar_word_to_index['sostoken']\n",
        "\n",
        "    stop_condition = False\n",
        "    decoded_sentence = ''\n",
        "    while not stop_condition: \n",
        "\n",
        "        output_tokens, h, c = decoder_model.predict([target_seq] + [e_out, e_h, e_c])\n",
        "        sampled_token_index = np.argmax(output_tokens[0, -1, :])\n",
        "        sampled_token = tar_index_to_word[sampled_token_index]\n",
        "\n",
        "        if (sampled_token!='eostoken'):\n",
        "            decoded_sentence += ' '+sampled_token\n",
        "\n",
        "        if (sampled_token == 'eostoken'  or len(decoded_sentence.split()) >= (summary_max_len-1)):\n",
        "            stop_condition = True\n",
        "\n",
        "        target_seq = np.zeros((1,1))\n",
        "        target_seq[0, 0] = sampled_token_index\n",
        "        \n",
        "        e_h, e_c = h, c\n",
        "\n",
        "    return decoded_sentence"
      ],
      "metadata": {
        "id": "aQ9vRyDjZGzq"
      },
      "execution_count": null,
      "outputs": []
    },
    {
      "cell_type": "markdown",
      "source": [
        "encoder_model.predict은 입력으로부터 인코더의 상태를 얻는다.\n",
        "<br/>target_seq는 SOS에 해당하는 토큰을 생성한다.\n",
        "<br/>stop_condition이 True가 될 때까지 루프를 반복한다.\n",
        "<br/>sampled_token은 eos에 도달하거나 최대 길이를 넘으면 중단한다.\n",
        "<br/> target_seq에서 길이가 1인 타겟 시퀀스를 업데이트한다.\n",
        "<br/>e_h, e_c에서 상태를 업데이트한다."
      ],
      "metadata": {
        "id": "nqch3sFDY9Zm"
      }
    },
    {
      "cell_type": "markdown",
      "source": [
        "##실제 결과와 요약문 비교"
      ],
      "metadata": {
        "id": "AB4GBtEpaKi7"
      }
    },
    {
      "cell_type": "code",
      "source": [
        "def seq2text(input_seq):\n",
        "    temp=''\n",
        "    for i in input_seq:\n",
        "        if (i!=0):\n",
        "            temp = temp + src_index_to_word[i]+' '\n",
        "    return temp"
      ],
      "metadata": {
        "id": "N52DwPaMZ9IZ"
      },
      "execution_count": null,
      "outputs": []
    },
    {
      "cell_type": "markdown",
      "source": [
        "원문(text 열)의 정수 시퀀스를 텍스트 시퀀스로 변환한다."
      ],
      "metadata": {
        "id": "1Xrw_infaHXp"
      }
    },
    {
      "cell_type": "code",
      "source": [
        "def seq2summary(input_seq):\n",
        "    temp=''\n",
        "    for i in input_seq:\n",
        "        if ((i!=0 and i!=tar_word_to_index['sostoken']) and i!=tar_word_to_index['eostoken']):\n",
        "            temp = temp + tar_index_to_word[i] + ' '\n",
        "    return temp"
      ],
      "metadata": {
        "id": "MZUuRG9yaDXT"
      },
      "execution_count": null,
      "outputs": []
    },
    {
      "cell_type": "markdown",
      "source": [
        "요약문(headlines 열)의 정수 시퀀스를 텍스트 시퀀스로 변환한다."
      ],
      "metadata": {
        "id": "z7N6A_Mracbr"
      }
    },
    {
      "cell_type": "code",
      "source": [
        "for i in range(0, 10):\n",
        "    print(\"원문 :\", seq2text(encoder_input_test[i]))\n",
        "    print(\"실제 요약 :\", seq2summary(decoder_input_test[i]))\n",
        "    print(\"예측 요약 :\", decode_sequence(encoder_input_test[i].reshape(1, text_max_len)))\n",
        "    print(\"\\n\")"
      ],
      "metadata": {
        "colab": {
          "base_uri": "https://localhost:8080/"
        },
        "id": "UenkBmXwaaFv",
        "outputId": "a579e5d0-8c1a-4e1c-d627-139854bec0cd"
      },
      "execution_count": null,
      "outputs": [
        {
          "output_type": "stream",
          "name": "stdout",
          "text": [
            "원문 : many people injured saturday five coaches passenger train derailed madhya pradesh district chief minister shivraj singh chouhan monitoring rescue operations given instructions administration chief minister office tweeted cause derailment yet known \n",
            "실제 요약 : injured after passenger train derails in madhya pradesh \n",
            "예측 요약 :  injured after train train derail in himachal\n",
            "\n",
            "\n",
            "원문 : female convict mumbai byculla jail died women allegedly stripped inserted lathi private parts complaining missing eggs ration convict allegedly assaulted doctors found damaged lungs body fir accuses five constables jail officer murder \n",
            "실제 요약 : female inmate dies as force into private parts \n",
            "예측 요약 :  man who thrashed for harassing woman thrashed\n",
            "\n",
            "\n",
            "원문 : winning uefa player year award real madrid croatian midfielder revealed former madrid teammate award contender cristiano ronaldo saying deserved award cristiano sent message congratulated told happy also said cannot wait meet revealed \n",
            "실제 요약 : you it ronaldo texted ex teammate after award \n",
            "예측 요약 :  messi shares pic with ronaldo after losing\n",
            "\n",
            "\n",
            "원문 : global entrepreneurship summit hyderabad women first prosperity year theme first women form majority participants countries represented female delegation including afghanistan saudi arabia israel miss world manushi chhillar also among speakers summit \n",
            "실제 요약 : to be first with majority as women \n",
            "예측 요약 :  india first transgender to women open\n",
            "\n",
            "\n",
            "원문 : aap mla alka lamba claimed delhi chief minister arvind kejriwal asked resign aap controversy erupted resolution delhi assembly seeking withdrawal bharat ratna awarded late prime minister rajiv gandhi lamba said punished opposing resolution adding ready face whatever punishment \n",
            "실제 요약 : aap agrees to resign over rajiv gandhi resolution \n",
            "예측 요약 :  aap chief kejriwal mishra booked for aap\n",
            "\n",
            "\n",
            "원문 : maharashtra cm devendra fadnavis saturday said even reservation given communities government cannot give jobs youth added government give jobs per year reservation solution maharashtra assembly cleared maratha reservation bill last year gave reservation \n",
            "실제 요약 : cannot give jobs to youth even after reservation maha cm \n",
            "예측 요약 :  maha cm fadnavis nitish kumar do not\n",
            "\n",
            "\n",
            "원문 : american swimmer ryan winner olympic medals including six gold medals handed month ban us anti doping agency anti doping violation posted picture getting iv injection twitter may lead investigation ban may received treatment \n",
            "실제 요약 : winner of olympic medals banned for anti doping violation \n",
            "예측 요약 :  indian american olympic champ wins wearing\n",
            "\n",
            "\n",
            "원문 : hrithik roshan said need public places india easily accessible differently abled people surprising happened yet even million differently abled people india said hrithik added films characters acquired deeper understanding differently abled people lives challenges face \n",
            "실제 요약 : differently abled need easy access to public places hrithik \n",
            "예측 요약 :  need to get as hrithik as success\n",
            "\n",
            "\n",
            "원문 : news tabloid australia criticised calling indian cricketers bats upon arrival adelaide report claimed india scared bounce brisbane scared unknown perth scared dark adelaide become tradition reflects poorly country australian journalist tweeted \n",
            "실제 요약 : australian calls indian players bats criticised \n",
            "예측 요약 :  coach denies team coach calls him\n",
            "\n",
            "\n",
            "원문 : hurricane maria killed people us territory puerto rico last year times official toll study harvard university claimed inaccurate count result caused storm one third deaths occurred due inadequate medical care caused power outages destruction infrastructure \n",
            "실제 요약 : hurricane maria death toll times official us number study \n",
            "예측 요약 :  killed in explosion at us study\n",
            "\n",
            "\n"
          ]
        }
      ]
    },
    {
      "cell_type": "markdown",
      "source": [
        "테스트 데이터 약 10개의 샘플에 대해서 실제 요약과 예측된 요약을 비교한다."
      ],
      "metadata": {
        "id": "zxbmlWvTauVi"
      }
    },
    {
      "cell_type": "markdown",
      "source": [
        "기존의 요약과는 다른 요약을 출력하면서도 원문의 내용을 담고 있는 의미 있는 요약들이 보인다.\n",
        "<br/>심지어 일부 요약의 경우에는 원문에 없던 단어를 사용해서 요약을 한다."
      ],
      "metadata": {
        "id": "lhzCe0jncWsC"
      }
    },
    {
      "cell_type": "markdown",
      "source": [
        "원문에 가깝게 요약된 사례도 보이지만\n",
        "<br/>문장 성분 순서가 어색하거나\n",
        "<br/>문학 표현과 같은 비유를 사용해서 지나친 의역을 하거나\n",
        "<br/>문맥상 원문과 의미가 전혀 다른 요약을 보이고 있는 사례도 있다. "
      ],
      "metadata": {
        "id": "b8qN5Vs2cle6"
      }
    },
    {
      "cell_type": "markdown",
      "source": [
        "이러한 문제점을 해결하고 성능을 개선하는 방법은 다음과 같다.\n",
        "* seq2seq와 어텐션의 자체의 조합 튜닝\n",
        "* 빔 서치(beam search)\n",
        "* 사전 훈련된 워드 임베딩(pre-trained word embedding)\n",
        "* 트랜스포머(Transformer)"
      ],
      "metadata": {
        "id": "oqEr0IfXcy5a"
      }
    },
    {
      "cell_type": "markdown",
      "source": [
        "#추출적 요약"
      ],
      "metadata": {
        "id": "83hQxx8Hs__J"
      }
    },
    {
      "cell_type": "markdown",
      "source": [
        "추출적 요약은 전통적인 머신 러닝 방식에 속하는 텍스트랭크(TextRank)와 같은 알고리즘이다."
      ],
      "metadata": {
        "id": "9n0PCzsoiHoz"
      }
    },
    {
      "cell_type": "markdown",
      "source": [
        "Summa에서는 추출적 요약을 위한 모듈인 summarize를 제공한다."
      ],
      "metadata": {
        "id": "sXeDW-2hdoIw"
      }
    },
    {
      "cell_type": "code",
      "source": [
        "from summa.summarizer import summarize\n",
        "urllib.request.urlretrieve(\"https://raw.githubusercontent.com/sunnysai12345/News_Summary/master/news_summary_more.csv\", filename=\"news_summary_more.csv\")\n",
        "data2 = pd.read_csv('news_summary_more.csv', encoding='iso-8859-1')"
      ],
      "metadata": {
        "id": "XmvLPknTcbYF"
      },
      "execution_count": null,
      "outputs": []
    },
    {
      "cell_type": "code",
      "source": [
        "for idx, (head, text) in enumerate(zip(data2['headlines'], data2['text'])):\n",
        "    if idx == 10:\n",
        "        break\n",
        "    print(\"원문 :\", text)\n",
        "    print(\"실제 요약 :\", head)\n",
        "    print(\"예측 요약 :\", summarize(text, ratio=0.35))\n",
        "    print(\"\\n\")"
      ],
      "metadata": {
        "colab": {
          "base_uri": "https://localhost:8080/"
        },
        "id": "mWdiPFrOfSsa",
        "outputId": "2e5521fe-236c-496b-8d87-70c53eeaafb1"
      },
      "execution_count": null,
      "outputs": [
        {
          "output_type": "stream",
          "name": "stdout",
          "text": [
            "원문 : Saurav Kant, an alumnus of upGrad and IIIT-B's PG Program in Machine learning and Artificial Intelligence, was a Sr Systems Engineer at Infosys with almost 5 years of work experience. The program and upGrad's 360-degree career support helped him transition to a Data Scientist at Tech Mahindra with 90% salary hike. upGrad's Online Power Learning has powered 3 lakh+ careers.\n",
            "실제 요약 : upGrad learner switches to career in ML & Al with 90% salary hike\n",
            "예측 요약 : upGrad's Online Power Learning has powered 3 lakh+ careers.\n",
            "\n",
            "\n",
            "원문 : Kunal Shah's credit card bill payment platform, CRED, gave users a chance to win free food from Swiggy for one year. Pranav Kaushik, a Delhi techie, bagged this reward after spending 2000 CRED coins. Users get one CRED coin per rupee of bill paid, which can be used to avail rewards from brands like Ixigo, BookMyShow, UberEats, Cult.Fit and more.\n",
            "실제 요약 : Delhi techie wins free food from Swiggy for one year on CRED\n",
            "예측 요약 : Users get one CRED coin per rupee of bill paid, which can be used to avail rewards from brands like Ixigo, BookMyShow, UberEats, Cult.Fit and more.\n",
            "\n",
            "\n",
            "원문 : New Zealand defeated India by 8 wickets in the fourth ODI at Hamilton on Thursday to win their first match of the five-match ODI series. India lost an international match under Rohit Sharma's captaincy after 12 consecutive victories dating back to March 2018. The match witnessed India getting all out for 92, their seventh lowest total in ODI cricket history.\n",
            "실제 요약 : New Zealand end Rohit Sharma-led India's 12-match winning streak\n",
            "예측 요약 : The match witnessed India getting all out for 92, their seventh lowest total in ODI cricket history.\n",
            "\n",
            "\n",
            "원문 : With Aegon Life iTerm Insurance plan, customers can enjoy tax benefits on your premiums paid and save up to Ã¢ÂÂ¹46,800^ on taxes. The plan provides life cover up to the age of 100 years. Also, customers have options to insure against Critical Illnesses, Disability and Accidental Death Benefit Rider with a life cover up to the age of 80 years.\n",
            "실제 요약 : Aegon life iTerm insurance plan helps customers save tax\n",
            "예측 요약 : Also, customers have options to insure against Critical Illnesses, Disability and Accidental Death Benefit Rider with a life cover up to the age of 80 years.\n",
            "\n",
            "\n",
            "원문 : Speaking about the sexual harassment allegations against Rajkumar Hirani, Sonam Kapoor said, \"I've known Hirani for many years...What if it's not true, the [#MeToo] movement will get derailed.\" \"In the #MeToo movement, I always believe a woman. But in this case, we need to reserve our judgment,\" she added. Hirani has been accused by an assistant who worked in 'Sanju'.\n",
            "실제 요약 : Have known Hirani for yrs, what if MeToo claims are not true: Sonam\n",
            "예측 요약 : Speaking about the sexual harassment allegations against Rajkumar Hirani, Sonam Kapoor said, \"I've known Hirani for many years...What if it's not true, the [#MeToo] movement will get derailed.\" \"In the #MeToo movement, I always believe a woman.\n",
            "\n",
            "\n",
            "원문 : Pakistani singer Rahat Fateh Ali Khan has denied receiving any notice from the Enforcement Directorate over allegedly smuggling foreign currency out of India. \"It would have been better if the authorities would have served the notice first if any and then publicised this,\" reads a press release issued on behalf of Rahat. The statement further called the allegation \"bizarre\".\n",
            "실제 요약 : Rahat Fateh Ali Khan denies getting notice for smuggling currency\n",
            "예측 요약 : Pakistani singer Rahat Fateh Ali Khan has denied receiving any notice from the Enforcement Directorate over allegedly smuggling foreign currency out of India.\n",
            "\n",
            "\n",
            "원문 : India recorded their lowest ODI total in New Zealand after getting all out for 92 runs in 30.5 overs in the fourth ODI at Hamilton on Thursday. Seven of India's batsmen were dismissed for single-digit scores, while their number ten batsman Yuzvendra Chahal top-scored with 18*(37). India's previous lowest ODI total in New Zealand was 108.\n",
            "실제 요약 : India get all out for 92, their lowest ODI total in New Zealand\n",
            "예측 요약 : India's previous lowest ODI total in New Zealand was 108.\n",
            "\n",
            "\n",
            "원문 : Weeks after ex-CBI Director Alok Verma told the Department of Personnel and Training to consider him retired, the Home Ministry asked him to join work on the last day of his fixed tenure as Director on Thursday. The ministry directed him to immediately join as DG, Fire Services, the post he was transferred to after his removal as CBI chief.\n",
            "실제 요약 : Govt directs Alok Verma to join work 1 day before his retirement\n",
            "예측 요약 : \n",
            "\n",
            "\n",
            "원문 : Andhra Pradesh CM N Chandrababu Naidu has said, \"When I met then US President Bill Clinton, I addressed him as Mr Clinton, not as 'sir'. (PM Narendra) Modi is my junior in politics...I addressed him as sir 10 times.\" \"I did this...to satisfy his ego in the hope that he will do justice to the state,\" he added.\n",
            "실제 요약 : Called PM Modi 'sir' 10 times to satisfy his ego: Andhra CM\n",
            "예측 요약 : \n",
            "\n",
            "\n",
            "원문 : Congress candidate Shafia Zubair won the Ramgarh Assembly seat in Rajasthan, by defeating BJP's Sukhwant Singh with a margin of 12,228 votes in the bypoll. With this victory, Congress has taken its total to 100 seats in the 200-member assembly. The election to the Ramgarh seat was delayed due to the death of sitting MLA and BSP candidate Laxman Singh.\n",
            "실제 요약 : Cong wins Ramgarh bypoll in Rajasthan, takes total to 100 seats\n",
            "예측 요약 : Congress candidate Shafia Zubair won the Ramgarh Assembly seat in Rajasthan, by defeating BJP's Sukhwant Singh with a margin of 12,228 votes in the bypoll.\n",
            "\n",
            "\n"
          ]
        }
      ]
    },
    {
      "cell_type": "markdown",
      "source": [
        "실제 요약과 예측 요약에서 공통되는 내용이 있으나\n",
        "<br/>문장의 길이가 일정하지 않고\n",
        "<br/>문장이 출력되지 않는 경우도 있다."
      ],
      "metadata": {
        "id": "mdoJJn6kghzF"
      }
    },
    {
      "cell_type": "markdown",
      "source": [
        "#결론"
      ],
      "metadata": {
        "id": "nfjM1891gb2A"
      }
    },
    {
      "cell_type": "markdown",
      "source": [
        "**추상적 요약**"
      ],
      "metadata": {
        "id": "pK4ZstJHg_yq"
      }
    },
    {
      "cell_type": "markdown",
      "source": [
        "사람이 문장을 직접 쓰는 듯한 자연스러움을 보여주지만\n",
        "<br/>어떤 내용이 나올지 예측하기 어려워 신뢰성을 검증할 필요성이 있다."
      ],
      "metadata": {
        "id": "MRe2GKSEsIXD"
      }
    },
    {
      "cell_type": "markdown",
      "source": [
        "기존의 요약과는 다른 요약을 출력하면서도 원문의 내용을 담고 있는 의미 있는 요약들이 보인다.\n",
        "<br/>심지어 일부 요약의 경우에는 원문에 없던 단어를 사용해서 요약을 한다.\n",
        "<br/>원문에 가깝게 요약된 사례도 보이지만\n",
        "<br/>문장 성분 순서가 어색하거나\n",
        "<br/>문학 표현과 같은 비유를 사용해서 지나친 의역을 하거나\n",
        "<br/>문맥상 원문과 의미가 전혀 다른 요약을 보이고 있는 사례도 있다."
      ],
      "metadata": {
        "id": "Y2KffE1dsD3L"
      }
    },
    {
      "cell_type": "markdown",
      "source": [
        "**추출적 요약**"
      ],
      "metadata": {
        "id": "Wo1_2Irgg__4"
      }
    },
    {
      "cell_type": "markdown",
      "source": [
        "원문의 단어만 쓰는 일관성있는 결과를 보장하지만\n",
        "<br/>어휘나 표현력이 제한되어 있어 부자연스러운 문장이 출력될 수 있다."
      ],
      "metadata": {
        "id": "Gl7lP1-YsS1g"
      }
    },
    {
      "cell_type": "markdown",
      "source": [
        "실제 요약과 예측 요약에서 공통되는 내용이 있으나\n",
        "<br/>문장의 길이가 일정하지 않고\n",
        "<br/>문장이 출력되지 않는 경우도 있다."
      ],
      "metadata": {
        "id": "SdFkscqesQjQ"
      }
    },
    {
      "cell_type": "markdown",
      "source": [
        "#참고문헌"
      ],
      "metadata": {
        "id": "IkODRiubgb4q"
      }
    },
    {
      "cell_type": "markdown",
      "source": [
        "**논문**\n",
        "<br/>[안신영, 박유미, 임은지, 최완, 딥러닝 분산처리 기술동향, 전자통신동향분석 31권 3호 (통권 159), 2016, p.131-141](https://ettrends.etri.re.kr/ettrends/159/0905002137/)\n",
        "<br/><br/>\n",
        "<br/>**단행본**\n",
        "<br/>\n",
        "드미트리 지노비에프, 모두의 데이터 과학 with 파이썬, 황준식 옮김, 길벗, 2017\n",
        "<br/>[e-book](https://thebook.io/006914/)\n",
        "<br/><br/>서지영, 딥러닝 파이토치 교과서, 길벗, 2022\n",
        "<br/>[드롭아웃을 이용한 성능 최적화](https://thebook.io/080289/ch08/03/02/)\n",
        "<br/><br/>유원준 외 1명, 딥러닝을 이용한 자연어 처리 입문, wikidocs, 2022\n",
        "<br/>[불용어(Stopword)](https://wikidocs.net/22530)\n",
        "<br/>[패딩(Padding)](https://wikidocs.net/83544)\n",
        "<br/><br/>남재윤, 파이썬 코딩도장, 길벗, 2018\n",
        "<br/>[날짜/시간 모듈 활용하기](https://uni2237.tistory.com/56)\n",
        "<br/><br/>\n",
        "<br/>**기사**\n",
        "<br/>[AI 기반 뉴스 3줄 요약 서비스 개발기 (AI PLUS Tech Blog)](https://blog.est.ai/2021/06/news-summary/)<br/>\n",
        "<br/><br/>**웹사이트**\n",
        "<br/>[Python importlib과 모듈 리로드](https://jh-bk.tistory.com/29)\n",
        "\n",
        "[Using importlib.metadata](https://docs.python.org/3/library/importlib.metadata.html)\n",
        "\n",
        "[NLTK 자연어 처리 패키지](https://datascienceschool.net/03%20machine%20learning/03.01.01%20NLTK%20%EC%9E%90%EC%97%B0%EC%96%B4%20%EC%B2%98%EB%A6%AC%20%ED%8C%A8%ED%82%A4%EC%A7%80.html)\n",
        "\n",
        "[python urllib 핵심 기초 정리](https://han-py.tistory.com/320)\n",
        "\n",
        "[뉴스 기사 데이터(news_summary_more.csv)](https://github.com/sunnysai12345/News_Summary)\n",
        "\n",
        "[문자열 인코딩 개념](https://jinnify.tistory.com/74)\n",
        "\n",
        "[파이썬 bs4.FeatureNotFound: Couldn't find a tree builder with the features you requested: lxml. Do you need to install a parser library?](https://hello-ming.tistory.com/entry/%ED%8C%8C%EC%9D%B4%EC%8D%AC-bs4FeatureNotFound-Couldnt-find-a-tree-builder-with-the-features-you-requested-lxml-Do-you-need-to-install-a-parser-library)\n",
        "\n",
        "[Python 'float' object has no attribute 'lower'](https://blog.naver.com/PostView.nhn?blogId=pica4star&logNo=221532459431&parentCategoryNo=&categoryNo=47&viewDate=&isShowPopularPosts=true&from=search)\n",
        "\n",
        "\n",
        "[열 개씩 끊어 출력하기 – print 줄바꿈 하지 않기](https://gomguard.tistory.com/26)\n",
        "\n",
        "[summa 1.2.0](https://pypi.org/project/summa/)\n",
        "\n",
        "[파이썬 TextRank(텍스트랭크)란.. 간단하게 사용해보기](https://velog.io/@seolini43/%ED%8C%8C%EC%9D%B4%EC%8D%AC-TextRank%ED%85%8D%EC%8A%A4%ED%8A%B8%EB%9E%AD%ED%81%AC%EB%9E%80..-%EA%B0%84%EB%8B%A8%ED%95%98%EA%B2%8C-%EA%B5%AC%ED%98%84%ED%95%B4%EB%B3%B4%EA%B8%B0)\n",
        "\n",
        "[Python BeautifulSoup Library 사용법 및 예제](https://codetravel.tistory.com/22)\n",
        "\n",
        "[파싱(parsing)](https://www.scienceall.com/%ED%8C%8C%EC%8B%B1parsing/)\n",
        "\n",
        "[Stemming and Lemmatization](https://sg-data.tistory.com/6)\n",
        "\n",
        "[데이터 전처리 & 워드클라우드 시각화 실습 (Python)](https://eunhyejung.github.io/data_analysis/2018/07/24/data-processing-studying-with-python.html)\n",
        "\n",
        "[Python List와 Set에서의 in 연산자 성능 비교하기](https://kyleyj.tistory.com/56)\n",
        "\n",
        "[Python 시간복잡도, 코드시간측정](https://hbj0209.tistory.com/29)\n",
        "\n",
        "[파이썬의 time 모듈로 시간 데이터 다루기](https://www.daleseo.com/python-time/)\n",
        "\n",
        "\n",
        "[Snowball Stemmer – NLP](https://www.geeksforgeeks.org/snowball-stemmer-nlp/)\n",
        "\n",
        "[Python - List, Set, Dict 자료형에 따른 시간 복잡도(Big-O)](https://2dowon.netlify.app/python/data-type-big-o/)\n",
        "\n",
        "[딥 러닝을 이용한 자연어 처리 입문 / 시퀀스-투-시퀀스(Sequence-to-Sequence, seq2seq)](https://wikidocs.net/24996)\n",
        "\n",
        "[python 파이썬 랜덤함수(random)에 대해서](https://blockdmask.tistory.com/383)\n",
        "\n",
        "[자연어 처리하기 1](https://codetorial.net/tensorflow/natural_language_processing_in_tensorflow_01.html)\n",
        "\n",
        "[ML Tensorflow 와 Keras 간단 비교](https://wooono.tistory.com/77)\n",
        "\n",
        "[Tensorflow와 Keras의 관계](https://89douner.tistory.com/279)\n",
        "\n",
        "[케라스 콜백 함수. EarlyStopping. ModelCheckpoint](https://m.blog.naver.com/PostView.naver?isHttpsRedirect=true&blogId=baek2sm&logNo=222013688414)\n",
        "\n",
        "[Keras 기초 Input Layer](https://smalldatalab.tistory.com/4)\n",
        "\n",
        "[12-2. RNN - LSTM(Long Short Term Memory) 레이어](https://childult-programmer.tistory.com/55)\n",
        "\n",
        "[딥러닝 레이어에 대한 이해](https://meissa.tistory.com/m/64)\n",
        "\n",
        "[Dense Layer란? Dense Layer 역할 및 기능 / 개념](https://koreapy.tistory.com/917?category=919111)\n",
        "\n",
        "[RNN Tensorflow + Keras](https://yjjo.tistory.com/32)\n",
        "\n",
        "[딥러닝) optimizer ( SGD , Momentum , AdaGrad , RMSProp, Adam )](https://amber-chaeeunk.tistory.com/23)\n",
        "\n",
        "[딥러닝 손실 함수(loss function) 정리: MSE, MAE, binary/categorical/sparse categorical crossentropy](https://bskyvision.com/822)\n",
        "\n",
        "[인공지능의 기초](https://goballe.tistory.com/9)"
      ],
      "metadata": {
        "id": "TXn8w_W-i9lz"
      }
    }
  ]
}