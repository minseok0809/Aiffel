{
  "nbformat": 4,
  "nbformat_minor": 0,
  "metadata": {
    "colab": {
      "name": "[E-09]SentimentAnalysis(FilmReview).ipynb",
      "provenance": [],
      "collapsed_sections": [],
      "machine_shape": "hm",
      "toc_visible": true
    },
    "kernelspec": {
      "name": "python3",
      "display_name": "Python 3"
    },
    "language_info": {
      "name": "python"
    },
    "accelerator": "GPU"
  },
  "cells": [
    {
      "cell_type": "markdown",
      "source": [
        "LMS EXP 09_Aiffel\n",
        "<br/>**9. 영화리뷰 텍스트 감성분석하기**"
      ],
      "metadata": {
        "id": "Je6-yxY_a5po"
      }
    },
    {
      "cell_type": "markdown",
      "source": [
        "**개발 환경**\n",
        "* 라이브러리\n",
        "<br/>Keras, MeCab, KoNLPy, Genism\n",
        "* 버전 확인\n",
        "* Colab GPU\n",
        "\n",
        "**데이터 정보**\n",
        "<br/>**데이터 수집**\n",
        "<br/>**데이터로더 구성**\n",
        "* 정제\n",
        "* 토큰화\n",
        "* 단어 인덱스 생성\n",
        "* 정수 인코딩\n",
        "\n",
        "**데이터 분석 및 가공**\n",
        "* 데이터셋 내 문장 길이 분포\n",
        "* 적절한 최대 문장 길이 지정\n",
        "* 패딩 추가\n",
        "\n",
        "**validation set 구성**\n",
        "* LSTM\n",
        "* BiLSTM with Attention mechanism\n",
        "* Transformer\n",
        "\n",
        "**모델 훈련**\n",
        "* LSTM\n",
        "<br/>학습된 임베딩 레이어\n",
        "<br/>한국어 Word2Vec 임베딩 레이어\n",
        "* BiLSTM with Attention mechanism\n",
        "* Transformer\n",
        "\n",
        "**결론**\n",
        "<br/>**참고문헌**"
      ],
      "metadata": {
        "id": "M_9h_esl8VAi"
      }
    },
    {
      "cell_type": "markdown",
      "source": [
        "# 개발 환경"
      ],
      "metadata": {
        "id": "BZ_MQJ2PBcLk"
      }
    },
    {
      "cell_type": "markdown",
      "source": [
        "##라이브러리"
      ],
      "metadata": {
        "id": "Hvd8xB9G8HBh"
      }
    },
    {
      "cell_type": "code",
      "source": [
        "import pandas as pd\n",
        "import numpy as np\n",
        "from collections import Counter\n",
        "import matplotlib.pyplot as plt"
      ],
      "metadata": {
        "id": "Bpstd6-wBbhb"
      },
      "execution_count": null,
      "outputs": []
    },
    {
      "cell_type": "markdown",
      "source": [
        "**pandas**는 행과 열로 이루어진 데이터 객체를 만들어 안정적으로 대용량의 데이터들을 처리한다."
      ],
      "metadata": {
        "id": "s2h31c6nEW8p"
      }
    },
    {
      "cell_type": "markdown",
      "source": [
        "**numpy**는 array 단위로 벡터와 행렬을 계산한다."
      ],
      "metadata": {
        "id": "QXzyjiLeryRB"
      }
    },
    {
      "cell_type": "markdown",
      "source": [
        "**Collections**의 **Counter**는 합산하는 기능을 하는 데이터 처리 라이브러리이다."
      ],
      "metadata": {
        "id": "myNId4TamT4E"
      }
    },
    {
      "cell_type": "markdown",
      "source": [
        " **matplotlib**은 시각화를 한다."
      ],
      "metadata": {
        "id": "xA1loSHXJHOj"
      }
    },
    {
      "cell_type": "markdown",
      "source": [
        "###Keras"
      ],
      "metadata": {
        "id": "tnVzBzix9M0Y"
      }
    },
    {
      "cell_type": "code",
      "source": [
        "from tensorflow import keras\n",
        "from tensorflow.keras.preprocessing.text import Tokenizer\n",
        "from tensorflow.keras.preprocessing.sequence import pad_sequences\n",
        "from tensorflow.keras.initializers import Constant\n",
        "from tensorflow.keras.callbacks import EarlyStopping, ModelCheckpoint\n",
        "from tensorflow.keras.models import load_model"
      ],
      "metadata": {
        "id": "FbbhPzKg9JY3"
      },
      "execution_count": null,
      "outputs": []
    },
    {
      "cell_type": "markdown",
      "source": [
        "**Keras**는 **Tensorflow**위에서 동작하는 라이브러리이다.\n",
        "<br/>Keras는 high level API로서 딥러닝의 기본 연산을 한다.\n",
        "<br/>딥러닝 프레임워크 Tensorflow, Theano, CNTK를 backend로 사용하여 연산 작업을 수행한다."
      ],
      "metadata": {
        "id": "QnnR4GwT8qzn"
      }
    },
    {
      "cell_type": "markdown",
      "source": [
        "**Tokenizer**는 문장으로부터 단어를 토큰화하고 숫자에 대응시키는 딕셔너리를 사용할 수 있게 한다.\n",
        "<br/>**pad_sequences**는 특정 값을 채워서 데이터의 크기(shape)를 조정한다."
      ],
      "metadata": {
        "id": "S3xvMRtESVRG"
      }
    },
    {
      "cell_type": "markdown",
      "source": [
        "**Initializers**는 케라스 layer의 파라미터 초기값을 어떤 방식으로 생성할 것인지를 결정한다.\n",
        "<br/>Initializers의 **Constant**는 지정한 파라미터를 특정한 상수 Constant의 값(Value)을 생성한다."
      ],
      "metadata": {
        "id": "zmzjSlFrS6mO"
      }
    },
    {
      "cell_type": "markdown",
      "source": [
        "Callbacks 함수 **EarlyStopping**은 검증 세트에서의 손실이 더 이상 감소하지 않으면 학습을 중단한다.\n",
        "<br/>**ModelCheckpoint**은 모델을 학습시키는 동안 에포크마다 자동으로 저장한다."
      ],
      "metadata": {
        "id": "rgG_7VsDSVT9"
      }
    },
    {
      "cell_type": "markdown",
      "source": [
        " **keras.models.Model**은 Multi input/output을 다루기 때문에\n",
        " <br/>선형적 흐름(Sequential API)이 아닌 모델 설계의 경우도 가능하다.\n",
        " <br/>**load_model**은 Keras의 모델을 지원한다.\n"
      ],
      "metadata": {
        "id": "d2ArOWzt8ayJ"
      }
    },
    {
      "cell_type": "markdown",
      "source": [
        "###MeCab"
      ],
      "metadata": {
        "id": "RgtcrwZD694v"
      }
    },
    {
      "cell_type": "code",
      "source": [
        "import os\n",
        "# install konlpy, jdk, JPype\n",
        "!pip install konlpy\n",
        "!apt-get install openjdk-8-jdk-headless -qq > /dev/null\n",
        "!pip3 install JPype1-py3\n",
        "\n",
        "# install mecab-ko\n",
        "os.chdir('/tmp/')\n",
        "!curl -LO https://bitbucket.org/eunjeon/mecab-ko/downloads/mecab-0.996-ko-0.9.2.tar.gz\n",
        "!tar zxfv mecab-0.996-ko-0.9.2.tar.gz\n",
        "os.chdir('/tmp/mecab-0.996-ko-0.9.2')\n",
        "!./configure\n",
        "!make\n",
        "!make check\n",
        "!make install\n",
        "\n",
        "# install mecab-ko-dic\n",
        "!apt-get install automake\n",
        "os.chdir('/tmp')\n",
        "!curl -LO https://bitbucket.org/eunjeon/mecab-ko-dic/downloads/mecab-ko-dic-2.1.1-20180720.tar.gz\n",
        "!tar -zxvf mecab-ko-dic-2.1.1-20180720.tar.gz\n",
        "os.chdir('/tmp/mecab-ko-dic-2.1.1-20180720')\n",
        "!./autogen.sh\n",
        "!./configure\n",
        "!make\n",
        "!make install\n",
        "\n",
        "# install mecab-python\n",
        "os.chdir('/content')\n",
        "!git clone https://bitbucket.org/eunjeon/mecab-python-0.996.git\n",
        "os.chdir('/content/mecab-python-0.996')\n",
        "!python3 setup.py build\n",
        "!python3 setup.py install"
      ],
      "metadata": {
        "id": "iqPFQ6izvAuz"
      },
      "execution_count": null,
      "outputs": []
    },
    {
      "cell_type": "markdown",
      "source": [
        "**Mecab**은 NTT(일본 통신)에서 배포하는 오픈소스 일본어 형태소 분석기이다.\n",
        "<br/>GPL/LGPL/BSD 라이센스를 따른다."
      ],
      "metadata": {
        "id": "jogKgOASYkQd"
      }
    },
    {
      "cell_type": "markdown",
      "source": [
        "Mecab은 언어, 사전 코퍼스에 의존하지 않는 범용적인 설계가 가능하다.\n",
        "<br/>새로운 단어를 추가해도 형태소 분석기가 작동한다.\n",
        "<br/>CRF 채용하여 HMM 보다 성능이 향상되었다.\n",
        "<br/>즉, 띄어쓰기의 정확도가 개선됐다."
      ],
      "metadata": {
        "id": "TdP5opf43fnA"
      }
    },
    {
      "cell_type": "markdown",
      "source": [
        "###MeCab-Ko"
      ],
      "metadata": {
        "id": "ABgtSOri66un"
      }
    },
    {
      "cell_type": "markdown",
      "source": [
        "**MeCab-ko**은 은전한닢 프로젝트에서 MeCab 엔진이 일본어와 한국어의 유사점으로 인해\n",
        "<br/>한글 분석에도 동작하는 것을 확인하고 개발한 한국어 형태소 분석기이다.\n",
        "<br/>MeCab은 보통 일본어 형태소 분석에 사용되지만, 코퍼스로부터 bigram 모델을 학습하기 때문에 \n",
        "<br/>학습용 데이터와 분석 사전을 준비하면 특정 언어에 종속되지 않고 사용할 수 있다. "
      ],
      "metadata": {
        "id": "mSf0dTZKxDkA"
      }
    },
    {
      "cell_type": "markdown",
      "source": [
        "은전한닢 프로젝트 검색 엔진 색인기에서 쓸 수 있는 적당한 품질과 속도\n",
        "<br/>자유로운 라이센스를 지향하는 한국어 형태소 분석기 프로젝트이다."
      ],
      "metadata": {
        "id": "s7-v0FPc3Ryy"
      }
    },
    {
      "cell_type": "markdown",
      "source": [
        "**mecab-ko-dic**의 오픈 소스 형태소 분석 엔진인 MeCab을 사용한다.\n",
        "<br/>말뭉치 학습과 사전 목록 일부는 21세기 세종계획의 성과물을 사용하였다.\n",
        "<br/>총 23,615 문장으로 구성된다."
      ],
      "metadata": {
        "id": "Axuq3an2x0hZ"
      }
    },
    {
      "cell_type": "markdown",
      "source": [
        "###MeCab-Python"
      ],
      "metadata": {
        "id": "5b-UDGbf7wpH"
      }
    },
    {
      "cell_type": "markdown",
      "source": [
        "Mecab 형태소 분석기는 Java 언어로 구현된 라이브러리이다.\n",
        "<br/>그러므로 파이썬에서 작동시키려면 파이썬에서 자바 언어를 해석할 수 있어야 한다.\n",
        "<br/>이를 위해 JDK에 속하는 **Java SE Development Kit**과 **Jpype**를 설치한다."
      ],
      "metadata": {
        "id": "WWbrWGInzsDI"
      }
    },
    {
      "cell_type": "markdown",
      "source": [
        "**JDK(Java Development Kit)**는 Java로 소프트웨어를 개발할 수 있도록 여러 기능들을 제공하는 패키지(키트)이다.\n",
        "<br/>JDK는 컴파일러와 클래스 라이브러리(Class Library)를 포함하는, 자바 플랫폼 사양서를 구현한다.\n",
        "<br/>**Java SE(Java Platform , Standard Edition)**는 표준 자바 플랫폼으로\n",
        "<br/>표준적인 컴퓨팅 환경을 지원하기 위한 자바 가상머신 규격 및 API 집합을 포함한다.\n",
        "<br/>**JPype**를 이용하면 python 에서 java 라이브러리 작동이 가능하다.\n",
        "<br/>Java의 코드를 컴파일하고 jar 아카이브로 만들어놓으면 python 함수로 재탄생시킬 수 있다.\n",
        "<br/>"
      ],
      "metadata": {
        "id": "a-yHwEVF04i4"
      }
    },
    {
      "cell_type": "markdown",
      "source": [
        "###KoNLPy"
      ],
      "metadata": {
        "id": "oxS_SUaA87_w"
      }
    },
    {
      "cell_type": "code",
      "source": [
        "import konlpy"
      ],
      "metadata": {
        "id": "pHjjshQi8qF3"
      },
      "execution_count": null,
      "outputs": []
    },
    {
      "cell_type": "code",
      "source": [
        "from konlpy.tag import Okt\n",
        "from konlpy.tag import Mecab"
      ],
      "metadata": {
        "id": "RWuqL2fH9VSv"
      },
      "execution_count": null,
      "outputs": []
    },
    {
      "cell_type": "markdown",
      "source": [
        "**KoNLPy**는 한국어 정보처리를 위한 오픈소스 라이브러리이다.\n",
        "<br/>**Okt(Open Korean Text)**는 한국어 트위터 형태소 분석기이다.\n",
        "<br/>**Mecab**은 일본어 형태소 분석기를 기반으로 한 한국어 형태소 분석기이다.\n",
        "\n"
      ],
      "metadata": {
        "id": "eqMOTcqCEjHy"
      }
    },
    {
      "cell_type": "markdown",
      "source": [
        "KoNLPy는 다음과 같은 다양한 형태소 분석, 태깅 라이브러리를 파이썬에서 쉽게 사용할 수 있도록 모아놓았다.\n",
        "<br/>[Hannanum(한나눔)](http://semanticweb.kaist.ac.kr/hannanum/)\n",
        "<br/>[Kkma(꼬꼬마)](http://kkma.snu.ac.kr/)\n",
        "<br/>[Komoran(코모란)](https://github.com/shin285/KOMORAN)\n",
        "<br/>[Mecab(메카브)](https://bitbucket.org/eunjeon/mecab-ko)\n",
        "<br/>[Open Korean Text(트위터 형태소 분석기)](https://github.com/open-korean-text/open-korean-text)"
      ],
      "metadata": {
        "id": "NZLoljQvf3hr"
      }
    },
    {
      "cell_type": "markdown",
      "source": [
        "그 외 형태소 분석기로 Lucene(루씬), KLT, Khaiii가 있다."
      ],
      "metadata": {
        "id": "HSzri07RklY8"
      }
    },
    {
      "cell_type": "markdown",
      "source": [
        "Google Colab Notebook은 **KoNLPy**를 편리하게 사용할 수 있는 개발 환경을 제공한다.\n",
        "<br/>반면 로컬 환경에서 사용하기 위해서는 설치경로 설정과 컴파일러 설치 등 까다로운 조건이 많다."
      ],
      "metadata": {
        "id": "LDbmFARzVp9A"
      }
    },
    {
      "cell_type": "markdown",
      "source": [
        "**KoNLPy**에서 사용한 형태소 분석기들은 C++, Java 등 다른 환경에서 만들어져\n",
        "<br/>Windows, Mac OS에서 제공되지 않는 경우가 있기 때문이다.\n",
        "<br/>Google Colab Notebook은 그 KoNLPy의 제약 조건 없이 환경 구축이 필요없는 파이썬 웹 서비스이다."
      ],
      "metadata": {
        "id": "y6F4m26DVtm5"
      }
    },
    {
      "cell_type": "markdown",
      "source": [
        "Google Colab이 아닌 다른 개발 환경일 시에\n",
        "<br/>[KoNLPy 공식 홈페이지](https://konlpy.org/en/latest/install/)의 설치 방법을 따른다."
      ],
      "metadata": {
        "id": "G23QXGIr5u3v"
      }
    },
    {
      "cell_type": "markdown",
      "source": [
        "###Genism"
      ],
      "metadata": {
        "id": "tYroyxjX9R-_"
      }
    },
    {
      "cell_type": "code",
      "source": [
        "import gensim\n",
        "from gensim.models import KeyedVectors\n",
        "from gensim.models.keyedvectors import Word2VecKeyedVectors"
      ],
      "metadata": {
        "id": "yBLDRs7D8bx_"
      },
      "execution_count": null,
      "outputs": []
    },
    {
      "cell_type": "markdown",
      "source": [
        "**gensim**은 자연어를 벡터로 변환하는데 필요한 기능을 제공하고 있는 오픈소스 라이브러리이다.\n",
        "<br/>단어 및 텍스트 유사성 모델링((LDA)을 위한 패키지로 Topic Model로 시작하여 <br/>SVD 및 neural 단어 표현으로 발전했다."
      ],
      "metadata": {
        "id": "IiHmUYRAEjKb"
      }
    },
    {
      "cell_type": "markdown",
      "source": [
        "**KeyedVectors**는 word vector를 저장하고 query한다.\n",
        "<br/>query는 데이터베이스에게 특정한 데이터를 보여달라는 클라이언트(사용자)의 요청을 말한다. "
      ],
      "metadata": {
        "id": "rjvfn6vepBLW"
      }
    },
    {
      "cell_type": "markdown",
      "source": [
        "**Word2VecKeyedVectors**는 keys와 vector의 관계를 mapping한다."
      ],
      "metadata": {
        "id": "jVd-v98Jtjib"
      }
    },
    {
      "cell_type": "markdown",
      "source": [
        "##버전 확인"
      ],
      "metadata": {
        "id": "QEt1Dan78hOv"
      }
    },
    {
      "cell_type": "code",
      "source": [
        "print(pd.__version__)\n",
        "print(np.__version__)\n",
        "print(keras.__version__)\n",
        "print(konlpy.__version__)\n",
        "print(gensim.__version__)"
      ],
      "metadata": {
        "id": "OAZzYHIoBux6",
        "colab": {
          "base_uri": "https://localhost:8080/"
        },
        "outputId": "fc9cd077-b017-4cac-fd52-69494b9df51d"
      },
      "execution_count": null,
      "outputs": [
        {
          "output_type": "stream",
          "name": "stdout",
          "text": [
            "1.3.5\n",
            "1.21.6\n",
            "2.8.0\n",
            "0.6.0\n",
            "3.6.0\n"
          ]
        }
      ]
    },
    {
      "cell_type": "markdown",
      "source": [
        "어떤 버전의 모듈이 설치되었는지 확인하는 작업은 중요하다.\n",
        "<br/>새로운 기능이 추가되고 일부는 더 이상 사용되지 않으므로\n",
        "<br/>이러한 변경 사항을 인식하지 못하면 오류가 발생할 수 있다. \n"
      ],
      "metadata": {
        "id": "9xN61GsCDco8"
      }
    },
    {
      "cell_type": "markdown",
      "source": [
        "genism이 3.6.0 이상이어야 Word2Vec이 작동한다."
      ],
      "metadata": {
        "id": "PhWcJoGx-3ca"
      }
    },
    {
      "cell_type": "markdown",
      "source": [
        "##Colab GPU"
      ],
      "metadata": {
        "id": "CI52m-PS8jbQ"
      }
    },
    {
      "cell_type": "code",
      "source": [
        "gpu_info = !nvidia-smi\n",
        "gpu_info = '\\n'.join(gpu_info)\n",
        "if gpu_info.find('failed') >= 0:\n",
        "  print('Not connected to a GPU')\n",
        "else:\n",
        "  print(gpu_info)"
      ],
      "metadata": {
        "colab": {
          "base_uri": "https://localhost:8080/"
        },
        "id": "TGiG5X9Q9APG",
        "outputId": "8a0b083a-3a1b-4500-bc19-caff293e96c0"
      },
      "execution_count": null,
      "outputs": [
        {
          "output_type": "stream",
          "name": "stdout",
          "text": [
            "Sat May 28 18:36:12 2022       \n",
            "+-----------------------------------------------------------------------------+\n",
            "| NVIDIA-SMI 460.32.03    Driver Version: 460.32.03    CUDA Version: 11.2     |\n",
            "|-------------------------------+----------------------+----------------------+\n",
            "| GPU  Name        Persistence-M| Bus-Id        Disp.A | Volatile Uncorr. ECC |\n",
            "| Fan  Temp  Perf  Pwr:Usage/Cap|         Memory-Usage | GPU-Util  Compute M. |\n",
            "|                               |                      |               MIG M. |\n",
            "|===============================+======================+======================|\n",
            "|   0  Tesla P100-PCIE...  Off  | 00000000:00:04.0 Off |                    0 |\n",
            "| N/A   37C    P0    26W / 250W |      0MiB / 16280MiB |      0%      Default |\n",
            "|                               |                      |                  N/A |\n",
            "+-------------------------------+----------------------+----------------------+\n",
            "                                                                               \n",
            "+-----------------------------------------------------------------------------+\n",
            "| Processes:                                                                  |\n",
            "|  GPU   GI   CI        PID   Type   Process name                  GPU Memory |\n",
            "|        ID   ID                                                   Usage      |\n",
            "|=============================================================================|\n",
            "|  No running processes found                                                 |\n",
            "+-----------------------------------------------------------------------------+\n"
          ]
        }
      ]
    },
    {
      "cell_type": "markdown",
      "source": [
        "Google Colab에서 할당된 GPU를 확인한다."
      ],
      "metadata": {
        "id": "HlU_LkgV8Gia"
      }
    },
    {
      "cell_type": "code",
      "source": [
        "from psutil import virtual_memory\n",
        "ram_gb = virtual_memory().total / 1e9\n",
        "print('Your runtime has {:.1f} gigabytes of available RAM\\n'.format(ram_gb))\n",
        "\n",
        "if ram_gb < 20:\n",
        "  print('Not using a high-RAM runtime')\n",
        "else:\n",
        "  print('You are using a high-RAM runtime!')"
      ],
      "metadata": {
        "colab": {
          "base_uri": "https://localhost:8080/"
        },
        "id": "ovH9tfkp9AnO",
        "outputId": "5da0d677-1bf7-4500-bd81-f1da4c9d2b3a"
      },
      "execution_count": null,
      "outputs": [
        {
          "output_type": "stream",
          "name": "stdout",
          "text": [
            "Your runtime has 27.3 gigabytes of available RAM\n",
            "\n",
            "You are using a high-RAM runtime!\n"
          ]
        }
      ]
    },
    {
      "cell_type": "markdown",
      "source": [
        "고용량 메모리 VM에 액세스한다."
      ],
      "metadata": {
        "id": "WxUDFHzO8ETl"
      }
    },
    {
      "cell_type": "markdown",
      "source": [
        "#데이터 정보"
      ],
      "metadata": {
        "id": "MkrRlS7u8KXT"
      }
    },
    {
      "cell_type": "markdown",
      "source": [
        "[Naver sentiment movie corpus v1.0](https://github.com/e9t/nsmc)"
      ],
      "metadata": {
        "id": "FkOQ4Yov8j8d"
      }
    },
    {
      "cell_type": "markdown",
      "source": [
        "네이버 영화 리뷰 댓글을 웹크롤링한 한국어 말뭉치 데이터셋이다.\n",
        "\n"
      ],
      "metadata": {
        "id": "wwEw2qF38kp6"
      }
    },
    {
      "cell_type": "markdown",
      "source": [
        "데이터셋 구축 과정은 [Large Movie Review Dataset v1.0](https://ai.stanford.edu/~amaas/data/sentiment/)의 구성 방식에 기초한다. \n",
        "<br/>Large Movie Review Dataset은 IMDB에서 영화 5만편의 작품 리뷰를 웹크롤링한 말뭉치 데이터셋이다.\n",
        "<br/>그 중에 훈련 데이터로 쓰일 2만5천개의 리뷰, 테스트 데이터로 쓰일 2만5천개의 리뷰로 구성된다.\n",
        "<br/>그리고 긍정적인 리뷰 2만5천개, 부정적인 리뷰 2만5천개로 구성된다."
      ],
      "metadata": {
        "id": "SPLRjGoMhjCl"
      }
    },
    {
      "cell_type": "markdown",
      "source": [
        "데이터셋 분석 결과를 통해 논문 Learning Word Vectors for Sentiment Analysis을 작성했다.\n",
        "<br/>이 데이터로 학습시킨 모델의 성능은 88.89%의 정확도에 달한다."
      ],
      "metadata": {
        "id": "rDHY73cUc1Bi"
      }
    },
    {
      "cell_type": "markdown",
      "source": [
        "Naver sentiment movie corpus v1.0은 훈련 데이터로 쓰일 15만개의 리뷰,\n",
        "<br/>테스트 데이터로 쓰일 5만개의 리뷰로 구성된다.\n",
        "<br/>그리고 긍정적인 리뷰 1만개, 부정적인 리뷰 1만개로 구성된다."
      ],
      "metadata": {
        "id": "IAVCmvJCi4vU"
      }
    },
    {
      "cell_type": "markdown",
      "source": [
        "모든 리뷰의 글자수는 140자 이하이다.\n",
        "<br/>긍정과 부정의 수치는 1부터 10까지로 정수로 부여한다.\n",
        "<br/>중립적인 의견의 리뷰는 데이터셋에서 제외한다."
      ],
      "metadata": {
        "id": "yAJVPfTnlGJz"
      }
    },
    {
      "cell_type": "markdown",
      "source": [
        "# 데이터 수집"
      ],
      "metadata": {
        "id": "26EGpOOm8r4S"
      }
    },
    {
      "cell_type": "code",
      "source": [
        "from google.colab import drive\n",
        "drive.mount('/content/drive')"
      ],
      "metadata": {
        "colab": {
          "base_uri": "https://localhost:8080/"
        },
        "id": "pnlWudD-elo8",
        "outputId": "b65c8677-af2b-42e0-a15e-44738163a814"
      },
      "execution_count": null,
      "outputs": [
        {
          "output_type": "stream",
          "name": "stdout",
          "text": [
            "Mounted at /content/drive\n"
          ]
        }
      ]
    },
    {
      "cell_type": "code",
      "source": [
        "train_data = pd.read_table('/content/drive/MyDrive/LMS/film_review/ratings_train.txt')\n",
        "test_data = pd.read_table('/content/drive/MyDrive/LMS/film_review/ratings_test.txt')\n",
        "\n",
        "train_data.head()"
      ],
      "metadata": {
        "id": "Yyma4iTp8jX0",
        "colab": {
          "base_uri": "https://localhost:8080/",
          "height": 206
        },
        "outputId": "d998aff0-b7a2-4fe5-ed78-174fb03034ed"
      },
      "execution_count": null,
      "outputs": [
        {
          "output_type": "execute_result",
          "data": {
            "text/plain": [
              "         id                                           document  label\n",
              "0   9976970                                아 더빙.. 진짜 짜증나네요 목소리      0\n",
              "1   3819312                  흠...포스터보고 초딩영화줄....오버연기조차 가볍지 않구나      1\n",
              "2  10265843                                  너무재밓었다그래서보는것을추천한다      0\n",
              "3   9045019                      교도소 이야기구먼 ..솔직히 재미는 없다..평점 조정      0\n",
              "4   6483659  사이몬페그의 익살스런 연기가 돋보였던 영화!스파이더맨에서 늙어보이기만 했던 커스틴 ...      1"
            ],
            "text/html": [
              "\n",
              "  <div id=\"df-56b78249-82a3-4443-b3ca-538e708c5285\">\n",
              "    <div class=\"colab-df-container\">\n",
              "      <div>\n",
              "<style scoped>\n",
              "    .dataframe tbody tr th:only-of-type {\n",
              "        vertical-align: middle;\n",
              "    }\n",
              "\n",
              "    .dataframe tbody tr th {\n",
              "        vertical-align: top;\n",
              "    }\n",
              "\n",
              "    .dataframe thead th {\n",
              "        text-align: right;\n",
              "    }\n",
              "</style>\n",
              "<table border=\"1\" class=\"dataframe\">\n",
              "  <thead>\n",
              "    <tr style=\"text-align: right;\">\n",
              "      <th></th>\n",
              "      <th>id</th>\n",
              "      <th>document</th>\n",
              "      <th>label</th>\n",
              "    </tr>\n",
              "  </thead>\n",
              "  <tbody>\n",
              "    <tr>\n",
              "      <th>0</th>\n",
              "      <td>9976970</td>\n",
              "      <td>아 더빙.. 진짜 짜증나네요 목소리</td>\n",
              "      <td>0</td>\n",
              "    </tr>\n",
              "    <tr>\n",
              "      <th>1</th>\n",
              "      <td>3819312</td>\n",
              "      <td>흠...포스터보고 초딩영화줄....오버연기조차 가볍지 않구나</td>\n",
              "      <td>1</td>\n",
              "    </tr>\n",
              "    <tr>\n",
              "      <th>2</th>\n",
              "      <td>10265843</td>\n",
              "      <td>너무재밓었다그래서보는것을추천한다</td>\n",
              "      <td>0</td>\n",
              "    </tr>\n",
              "    <tr>\n",
              "      <th>3</th>\n",
              "      <td>9045019</td>\n",
              "      <td>교도소 이야기구먼 ..솔직히 재미는 없다..평점 조정</td>\n",
              "      <td>0</td>\n",
              "    </tr>\n",
              "    <tr>\n",
              "      <th>4</th>\n",
              "      <td>6483659</td>\n",
              "      <td>사이몬페그의 익살스런 연기가 돋보였던 영화!스파이더맨에서 늙어보이기만 했던 커스틴 ...</td>\n",
              "      <td>1</td>\n",
              "    </tr>\n",
              "  </tbody>\n",
              "</table>\n",
              "</div>\n",
              "      <button class=\"colab-df-convert\" onclick=\"convertToInteractive('df-56b78249-82a3-4443-b3ca-538e708c5285')\"\n",
              "              title=\"Convert this dataframe to an interactive table.\"\n",
              "              style=\"display:none;\">\n",
              "        \n",
              "  <svg xmlns=\"http://www.w3.org/2000/svg\" height=\"24px\"viewBox=\"0 0 24 24\"\n",
              "       width=\"24px\">\n",
              "    <path d=\"M0 0h24v24H0V0z\" fill=\"none\"/>\n",
              "    <path d=\"M18.56 5.44l.94 2.06.94-2.06 2.06-.94-2.06-.94-.94-2.06-.94 2.06-2.06.94zm-11 1L8.5 8.5l.94-2.06 2.06-.94-2.06-.94L8.5 2.5l-.94 2.06-2.06.94zm10 10l.94 2.06.94-2.06 2.06-.94-2.06-.94-.94-2.06-.94 2.06-2.06.94z\"/><path d=\"M17.41 7.96l-1.37-1.37c-.4-.4-.92-.59-1.43-.59-.52 0-1.04.2-1.43.59L10.3 9.45l-7.72 7.72c-.78.78-.78 2.05 0 2.83L4 21.41c.39.39.9.59 1.41.59.51 0 1.02-.2 1.41-.59l7.78-7.78 2.81-2.81c.8-.78.8-2.07 0-2.86zM5.41 20L4 18.59l7.72-7.72 1.47 1.35L5.41 20z\"/>\n",
              "  </svg>\n",
              "      </button>\n",
              "      \n",
              "  <style>\n",
              "    .colab-df-container {\n",
              "      display:flex;\n",
              "      flex-wrap:wrap;\n",
              "      gap: 12px;\n",
              "    }\n",
              "\n",
              "    .colab-df-convert {\n",
              "      background-color: #E8F0FE;\n",
              "      border: none;\n",
              "      border-radius: 50%;\n",
              "      cursor: pointer;\n",
              "      display: none;\n",
              "      fill: #1967D2;\n",
              "      height: 32px;\n",
              "      padding: 0 0 0 0;\n",
              "      width: 32px;\n",
              "    }\n",
              "\n",
              "    .colab-df-convert:hover {\n",
              "      background-color: #E2EBFA;\n",
              "      box-shadow: 0px 1px 2px rgba(60, 64, 67, 0.3), 0px 1px 3px 1px rgba(60, 64, 67, 0.15);\n",
              "      fill: #174EA6;\n",
              "    }\n",
              "\n",
              "    [theme=dark] .colab-df-convert {\n",
              "      background-color: #3B4455;\n",
              "      fill: #D2E3FC;\n",
              "    }\n",
              "\n",
              "    [theme=dark] .colab-df-convert:hover {\n",
              "      background-color: #434B5C;\n",
              "      box-shadow: 0px 1px 3px 1px rgba(0, 0, 0, 0.15);\n",
              "      filter: drop-shadow(0px 1px 2px rgba(0, 0, 0, 0.3));\n",
              "      fill: #FFFFFF;\n",
              "    }\n",
              "  </style>\n",
              "\n",
              "      <script>\n",
              "        const buttonEl =\n",
              "          document.querySelector('#df-56b78249-82a3-4443-b3ca-538e708c5285 button.colab-df-convert');\n",
              "        buttonEl.style.display =\n",
              "          google.colab.kernel.accessAllowed ? 'block' : 'none';\n",
              "\n",
              "        async function convertToInteractive(key) {\n",
              "          const element = document.querySelector('#df-56b78249-82a3-4443-b3ca-538e708c5285');\n",
              "          const dataTable =\n",
              "            await google.colab.kernel.invokeFunction('convertToInteractive',\n",
              "                                                     [key], {});\n",
              "          if (!dataTable) return;\n",
              "\n",
              "          const docLinkHtml = 'Like what you see? Visit the ' +\n",
              "            '<a target=\"_blank\" href=https://colab.research.google.com/notebooks/data_table.ipynb>data table notebook</a>'\n",
              "            + ' to learn more about interactive tables.';\n",
              "          element.innerHTML = '';\n",
              "          dataTable['output_type'] = 'display_data';\n",
              "          await google.colab.output.renderOutput(dataTable, element);\n",
              "          const docLink = document.createElement('div');\n",
              "          docLink.innerHTML = docLinkHtml;\n",
              "          element.appendChild(docLink);\n",
              "        }\n",
              "      </script>\n",
              "    </div>\n",
              "  </div>\n",
              "  "
            ]
          },
          "metadata": {},
          "execution_count": 12
        }
      ]
    },
    {
      "cell_type": "code",
      "source": [
        "print('훈련 데이터 샘플수 :', (len(train_data)))\n",
        "print('테스트 데이터 샘플수 :', (len(test_data)))"
      ],
      "metadata": {
        "id": "hun3rneU8JmJ",
        "colab": {
          "base_uri": "https://localhost:8080/"
        },
        "outputId": "cfe9e946-0756-4b54-b538-6090967bd37d"
      },
      "execution_count": null,
      "outputs": [
        {
          "output_type": "stream",
          "name": "stdout",
          "text": [
            "훈련 데이터 샘플수 : 150000\n",
            "테스트 데이터 샘플수 : 50000\n"
          ]
        }
      ]
    },
    {
      "cell_type": "markdown",
      "source": [
        " # 데이터로더 구성"
      ],
      "metadata": {
        "id": "p8OtFNPM8v-T"
      }
    },
    {
      "cell_type": "markdown",
      "source": [
        "nsmc 텍스트를 가공하여 load_data 메서드를 호출하면\n",
        "<br/>숫자 인덱스로 변환된 텍스트와 word_to_index 딕셔너리까지 제공하는 데이터 로더이다."
      ],
      "metadata": {
        "id": "isqdXGOrvUfk"
      }
    },
    {
      "cell_type": "code",
      "source": [
        "tokenizer = Mecab()\n",
        "stopwords = ['의','가','이','은','들','는','좀','잘','걍','과','도','를','으로','자','에','와','한','하다']"
      ],
      "metadata": {
        "id": "l9ltJ7PIsCIQ"
      },
      "execution_count": null,
      "outputs": []
    },
    {
      "cell_type": "code",
      "source": [
        "def load_data(train_data, test_data, num_words=10000):\n",
        "    train_data.drop_duplicates(subset=['document'], inplace=True)\n",
        "    train_data = train_data.dropna(how = 'any') \n",
        "    test_data.drop_duplicates(subset=['document'], inplace=True)\n",
        "    test_data = test_data.dropna(how = 'any') \n",
        "    \n",
        "    X_train = []\n",
        "    for sentence in train_data['document']:\n",
        "        temp_X = tokenizer.morphs(sentence) \n",
        "        temp_X = [word for word in temp_X if not word in stopwords] \n",
        "        X_train.append(temp_X)\n",
        "\n",
        "    X_test = []\n",
        "    for sentence in test_data['document']:\n",
        "        temp_X = tokenizer.morphs(sentence)\n",
        "        temp_X = [word for word in temp_X if not word in stopwords]\n",
        "        X_test.append(temp_X)\n",
        "    \n",
        "    words = np.concatenate(X_train).tolist()\n",
        "    counter = Counter(words)\n",
        "    counter = counter.most_common(10000-4)\n",
        "    vocab = ['<PAD>', '<BOS>', '<UNK>', '<UNUSED>'] + [key for key, _ in counter]\n",
        "    word_to_index = {word:index for index, word in enumerate(vocab)}\n",
        "        \n",
        "    def wordlist_to_indexlist(wordlist):\n",
        "        return [word_to_index[word] if word in word_to_index else word_to_index['<UNK>'] for word in wordlist]\n",
        "        \n",
        "    X_train = list(map(wordlist_to_indexlist, X_train))\n",
        "    X_test = list(map(wordlist_to_indexlist, X_test))\n",
        "        \n",
        "    return X_train, np.array(list(train_data['label'])), X_test, np.array(list(test_data['label'])), word_to_index"
      ],
      "metadata": {
        "id": "AcQCSNd_8Joi"
      },
      "execution_count": null,
      "outputs": []
    },
    {
      "cell_type": "markdown",
      "source": [
        "###정제"
      ],
      "metadata": {
        "id": "XB1oek997Mn0"
      }
    },
    {
      "cell_type": "markdown",
      "source": [
        "drop_duplicates는 데이터의 중복을 제거한다.\n",
        "<br/>dropna는 NaN 결측치를 제거한다."
      ],
      "metadata": {
        "id": "CeEmqzVt9GIJ"
      }
    },
    {
      "cell_type": "markdown",
      "source": [
        "###토큰화\n"
      ],
      "metadata": {
        "id": "3ipgqS2w9Kbz"
      }
    },
    {
      "cell_type": "markdown",
      "source": [
        "tokenizer는 Mecab 형태소 분석기를 이용해 토큰화하고\n",
        "<br/>불용어(Stopwords)는 토큰화에 포함시키지 않는다."
      ],
      "metadata": {
        "id": "0MpLwx427Wuj"
      }
    },
    {
      "cell_type": "markdown",
      "source": [
        "###단어 인덱스 생성"
      ],
      "metadata": {
        "id": "PPpHSNa97Qxz"
      }
    },
    {
      "cell_type": "markdown",
      "source": [
        "concatenate는 단어 numpy 배열을 하나로 합친다.\n",
        " <br/>counter는 단어의 수를 합산한다.\n",
        " <br/>enumerate는 반복문 사용 시 몇 번째 반복문인지 확인한다.\n",
        " <br/>이를 통해 단어 사전 word_to_index를 구성한다.\n",
        " <br/>텍스트 스트링을 사전 인덱스 스트링으로 변환한다."
      ],
      "metadata": {
        "id": "m25KSllm9L5K"
      }
    },
    {
      "cell_type": "code",
      "source": [
        "X_train, y_train, X_test, y_test, word_to_index = load_data(train_data, test_data) "
      ],
      "metadata": {
        "id": "EbtMw_7G1cYr"
      },
      "execution_count": null,
      "outputs": []
    },
    {
      "cell_type": "markdown",
      "source": [
        "데이터 로더를 작동시킨다."
      ],
      "metadata": {
        "id": "OWjIFWSK1dMz"
      }
    },
    {
      "cell_type": "code",
      "source": [
        "index_to_word = {index:word for word, index in word_to_index.items()}"
      ],
      "metadata": {
        "id": "4qyAkJ4j8Jqz"
      },
      "execution_count": null,
      "outputs": []
    },
    {
      "cell_type": "markdown",
      "source": [
        "단어의 인덱스를 생성한다."
      ],
      "metadata": {
        "id": "yg0RqeWp17At"
      }
    },
    {
      "cell_type": "markdown",
      "source": [
        "###정수 인코딩"
      ],
      "metadata": {
        "id": "cP7viEbg7d66"
      }
    },
    {
      "cell_type": "code",
      "source": [
        "def get_encoded_sentence(sentence, word_to_index):\n",
        "    return [word_to_index['<BOS>']]+[word_to_index[word] if word in word_to_index else word_to_index['<UNK>'] for word in sentence.split()]"
      ],
      "metadata": {
        "id": "5X0YEbbS8JtS"
      },
      "execution_count": null,
      "outputs": []
    },
    {
      "cell_type": "markdown",
      "source": [
        "문장 1개를 활용할 딕셔너리와 함께 주면, 단어 인덱스 리스트 벡터로 변환해 주는 함수이다. \n",
        "<br/>단, 모든 문장은 <BOS>로 시작하는 것으로 한다."
      ],
      "metadata": {
        "id": "J_p3f4-51DuD"
      }
    },
    {
      "cell_type": "code",
      "source": [
        "def get_encoded_sentences(sentences, word_to_index):\n",
        "    return [get_encoded_sentence(sentence, word_to_index) for sentence in sentences]"
      ],
      "metadata": {
        "id": "daxtTwr5jXTK"
      },
      "execution_count": null,
      "outputs": []
    },
    {
      "cell_type": "markdown",
      "source": [
        "여러 개의 문장 리스트를 한꺼번에 단어 인덱스 리스트 벡터로 encode해 주는 함수이다. "
      ],
      "metadata": {
        "id": "sIpMYjCU1MJr"
      }
    },
    {
      "cell_type": "code",
      "source": [
        "def get_decoded_sentence(encoded_sentence, index_to_word):\n",
        "    return ' '.join(index_to_word[index] if index in index_to_word else '<UNK>' for index in encoded_sentence[1:])  #[1:]를 통해 <BOS>를 제외"
      ],
      "metadata": {
        "id": "VZUMOCr1jXV4"
      },
      "execution_count": null,
      "outputs": []
    },
    {
      "cell_type": "markdown",
      "source": [
        "숫자 벡터로 encode된 문장을 원래대로 decode하는 함수이다. "
      ],
      "metadata": {
        "id": "xD7Y7Q4s1Qgj"
      }
    },
    {
      "cell_type": "code",
      "source": [
        "def get_decoded_sentences(encoded_sentences, index_to_word):\n",
        "    return [get_decoded_sentence(encoded_sentence, index_to_word) for encoded_sentence in encoded_sentences]"
      ],
      "metadata": {
        "id": "UyRMod4NjXbY"
      },
      "execution_count": null,
      "outputs": []
    },
    {
      "cell_type": "markdown",
      "source": [
        "여러 개의 숫자 벡터로 encode된 문장을 한꺼번에 원래대로 decode하는 함수이다. "
      ],
      "metadata": {
        "id": "PISgsxTi1ToL"
      }
    },
    {
      "cell_type": "markdown",
      "source": [
        "#데이터 분석 및 가공"
      ],
      "metadata": {
        "id": "zi_rya2q9hoU"
      }
    },
    {
      "cell_type": "markdown",
      "source": [
        "##데이터셋 내 문장 길이 분포"
      ],
      "metadata": {
        "id": "JpV5d5b49jQy"
      }
    },
    {
      "cell_type": "code",
      "source": [
        "total_data_text = list(X_train) + list(X_test)\n",
        "num_tokens = [len(tokens) for tokens in total_data_text]\n",
        "num_tokens = np.array(num_tokens)"
      ],
      "metadata": {
        "id": "me4gYCgL2h4j"
      },
      "execution_count": null,
      "outputs": []
    },
    {
      "cell_type": "code",
      "source": [
        "print('문장 개수 : ',  len(num_tokens))\n",
        "print('최소 길이 : ', np.max(num_tokens))\n",
        "print('최대 길이 : ', np.max(num_tokens))\n",
        "print('평균 : ', np.mean(num_tokens))\n",
        "print('표준편차 : ', np.std(num_tokens))"
      ],
      "metadata": {
        "colab": {
          "base_uri": "https://localhost:8080/"
        },
        "id": "2PzlCvSE2h7a",
        "outputId": "2745cbc5-02fd-46c5-9e41-37b4bcf817b8"
      },
      "execution_count": null,
      "outputs": [
        {
          "output_type": "stream",
          "name": "stdout",
          "text": [
            "문장 개수 :  195339\n",
            "최소 길이 :  116\n",
            "최대 길이 :  116\n",
            "평균 :  15.96940191154864\n",
            "표준편차 :  12.843571191092\n"
          ]
        }
      ]
    },
    {
      "cell_type": "code",
      "source": [
        "plt.hist([s for s in num_tokens if s >= 1], bins=50)\n",
        "plt.xlabel('length of sample')\n",
        "plt.ylabel('number of sample')\n",
        "plt.show()"
      ],
      "metadata": {
        "colab": {
          "base_uri": "https://localhost:8080/",
          "height": 279
        },
        "id": "y5C4WHJ-2h_C",
        "outputId": "1c1d37f1-1967-4b1d-c51c-f0540a61c3d8"
      },
      "execution_count": null,
      "outputs": [
        {
          "output_type": "display_data",
          "data": {
            "text/plain": [
              "<Figure size 432x288 with 1 Axes>"
            ],
            "image/png": "[encoded data removed]"
          },
          "metadata": {
            "needs_background": "light"
          }
        }
      ]
    },
    {
      "cell_type": "code",
      "source": [
        "print('최대 : {}'.format(np.max(num_tokens)))\n",
        "print('평균 : {}'.format(np.mean(num_tokens)))\n",
        "print('중앙값 : {}'.format(np.median(num_tokens)))\n",
        "\n",
        "plt.boxplot(num_tokens)\n",
        "plt.show"
      ],
      "metadata": {
        "colab": {
          "base_uri": "https://localhost:8080/",
          "height": 339
        },
        "id": "Oz_4QZgh3-rc",
        "outputId": "43b2011e-49cc-41be-925f-0fadaadfcaad"
      },
      "execution_count": null,
      "outputs": [
        {
          "output_type": "stream",
          "name": "stdout",
          "text": [
            "최대 : 116\n",
            "평균 : 15.96940191154864\n",
            "중앙값 : 12.0\n"
          ]
        },
        {
          "output_type": "execute_result",
          "data": {
            "text/plain": [
              "<function matplotlib.pyplot.show>"
            ]
          },
          "metadata": {},
          "execution_count": 25
        },
        {
          "output_type": "display_data",
          "data": {
            "text/plain": [
              "<Figure size 432x288 with 1 Axes>"
            ],
            "image/png": "[encoded data removed]"
          },
          "metadata": {
            "needs_background": "light"
          }
        }
      ]
    },
    {
      "cell_type": "markdown",
      "source": [
        "##적절한 최대 문장 길이 지정"
      ],
      "metadata": {
        "id": "hoqV8QFz9k3K"
      }
    },
    {
      "cell_type": "markdown",
      "source": [
        "text와 headlines의 최소, 최대, 평균 길이를 구하고 또한 길이 분포를 시각화한다.\n",
        "<br/>text의 경우 최소 길이가 1, 최대 길이가 100, 평균 길이는 38로\n",
        "대체적으로는 100 내외의 길이를 가진다는 것을 파악한다.\n",
        "<br/>이로부터 text의 최대 길이를 정한다.\n"
      ],
      "metadata": {
        "id": "j3yB7x4p4dYi"
      }
    },
    {
      "cell_type": "code",
      "source": [
        "max_tokens = np.mean(num_tokens) + 2 * np.std(num_tokens)\n",
        "text_max_len = int(max_tokens)\n",
        "print('pad_sequences maxlen : ', text_max_len)\n",
        "print('전체 문장의 {}%가 maxlen 설정값 이내에 포함됩니다. '.format(np.sum(num_tokens < max_tokens) / len(num_tokens)))"
      ],
      "metadata": {
        "colab": {
          "base_uri": "https://localhost:8080/"
        },
        "id": "61tkyccS4s0z",
        "outputId": "ea07da3a-7bde-4609-f64a-37ac5cffb2b1"
      },
      "execution_count": null,
      "outputs": [
        {
          "output_type": "stream",
          "name": "stdout",
          "text": [
            "pad_sequences maxlen :  41\n",
            "전체 문장의 0.9342988343341575%가 maxlen 설정값 이내에 포함됩니다. \n"
          ]
        }
      ]
    },
    {
      "cell_type": "markdown",
      "source": [
        "이 길이를 선택했을 때, 얼마나 많은 샘플들을 자르지 않고 포함할 수 있는지 통계로 확인한다."
      ],
      "metadata": {
        "id": "YiqasOug4eIC"
      }
    },
    {
      "cell_type": "markdown",
      "source": [
        "##패딩 추가"
      ],
      "metadata": {
        "id": "4hZe5fc59mLS"
      }
    },
    {
      "cell_type": "markdown",
      "source": [
        "서로 다른 길이의 샘플들을 병렬 처리하기 위해 같은 길이로 맞춰주는 패딩 작업을 한다."
      ],
      "metadata": {
        "id": "nPG_c4BH494r"
      }
    },
    {
      "cell_type": "markdown",
      "source": [
        "훈련 샘플의 최대 길이로 패딩한다.\n",
        "짧은 데이터는 뒤의 공간에 숫자 0을 넣어 최대 길이로 길이를 맞춘다."
      ],
      "metadata": {
        "id": "Ddpc28t84-eT"
      }
    },
    {
      "cell_type": "code",
      "source": [
        "x_train = keras.preprocessing.sequence.pad_sequences(X_train,\n",
        "                                                        value=word_to_index[\"<PAD>\"],\n",
        "                                                        padding='pre',\n",
        "                                                        maxlen=text_max_len)\n",
        "\n",
        "x_test = keras.preprocessing.sequence.pad_sequences(X_test,\n",
        "                                                       value=word_to_index[\"<PAD>\"],\n",
        "                                                       padding='pre',\n",
        "                                                       maxlen=text_max_len)"
      ],
      "metadata": {
        "id": "3BTjGBMe4-lq"
      },
      "execution_count": null,
      "outputs": []
    },
    {
      "cell_type": "markdown",
      "source": [
        "pre는 앞의 공간에 숫자 0을 넣어 최대 길이로 길이를 맞추는 것인데\n",
        "<br/>RNN 모델에서는 pre 기법이 성능이 높게 나와 많이 쓰인다"
      ],
      "metadata": {
        "id": "sxfNXKVx4-qb"
      }
    },
    {
      "cell_type": "code",
      "source": [
        "print(x_train.shape)\n",
        "print(x_test.shape)"
      ],
      "metadata": {
        "colab": {
          "base_uri": "https://localhost:8080/"
        },
        "id": "yLqJ7L8j8Thb",
        "outputId": "ec3c0c20-63f1-4811-ed0b-50c64584bc61"
      },
      "execution_count": null,
      "outputs": [
        {
          "output_type": "stream",
          "name": "stdout",
          "text": [
            "(146182, 41)\n",
            "(49157, 41)\n"
          ]
        }
      ]
    },
    {
      "cell_type": "markdown",
      "source": [
        "#validation set 구성"
      ],
      "metadata": {
        "id": "NShClPji9opk"
      }
    },
    {
      "cell_type": "code",
      "source": [
        "x_val = x_train[:30000]   \n",
        "y_val = y_train[:30000]\n",
        "\n",
        "partial_x_train = x_train[30000:]  \n",
        "partial_y_train = y_train[30000:]\n",
        "\n",
        "print(partial_x_train.shape)\n",
        "print(partial_y_train.shape)"
      ],
      "metadata": {
        "colab": {
          "base_uri": "https://localhost:8080/"
        },
        "id": "xyQsGBXoEUqE",
        "outputId": "bc83b742-8cde-474f-bbeb-06be3f9e0f7c"
      },
      "execution_count": null,
      "outputs": [
        {
          "output_type": "stream",
          "name": "stdout",
          "text": [
            "(116182, 41)\n",
            "(116182,)\n"
          ]
        }
      ]
    },
    {
      "cell_type": "markdown",
      "source": [
        "validation set으로 30000건을 분리한다.\n",
        "<br/>train dat에서 validation set을 제외한다."
      ],
      "metadata": {
        "id": "I7vSIgG8FDyi"
      }
    },
    {
      "cell_type": "markdown",
      "source": [
        "#모델 구성"
      ],
      "metadata": {
        "id": "oh9b4DPvET6r"
      }
    },
    {
      "cell_type": "markdown",
      "source": [
        "##LSTM"
      ],
      "metadata": {
        "id": "q6vc9Ovl8ckb"
      }
    },
    {
      "cell_type": "markdown",
      "source": [
        "RNN은 관련 정보와 그 정보를 사용하는 지점 사이 거리가 멀 경우\n",
        "<br/>역전파시 그래디언트가 점차 줄어 학습능력이 크게 저하되는 것으로 알려져 있다."
      ],
      "metadata": {
        "id": "b35j6ax3EZQX"
      }
    },
    {
      "cell_type": "markdown",
      "source": [
        "이를 해결하기 위해 LSTM(Long Short-Term Memory Network)은\n",
        "<br/>RNN의 구조에 히든 state에 cell-state를 추가해 이전 단계에서 얻은 정보가 지속되도록 한다.\n",
        "\n"
      ],
      "metadata": {
        "id": "jgPwFjTJEGIq"
      }
    },
    {
      "cell_type": "code",
      "source": [
        "import tensorflow as tf"
      ],
      "metadata": {
        "id": "o2-uOEu5RbSz"
      },
      "execution_count": null,
      "outputs": []
    },
    {
      "cell_type": "code",
      "source": [
        "vocab_size = 10000    # 어휘 사전의 크기입니다(10,000개의 단어)\n",
        "word_vector_dim = 16  # 워드 벡터의 차원 수 (변경 가능한 하이퍼파라미터)\n",
        "\n",
        "LSTM_model = keras.Sequential()\n",
        "LSTM_model.add(keras.layers.Embedding(vocab_size, word_vector_dim, input_shape=(None,)))\n",
        "LSTM_model.add(tf.keras.layers.LSTM(64))\n",
        "LSTM_model.add(keras.layers.Dense(256, activation='relu'))\n",
        "LSTM_model.add(keras.layers.Dense(1, activation='sigmoid'))  # 최종 출력은 긍정/부정을 나타내는 1dim 입니다.\n",
        "\n",
        "LSTM_model.summary()"
      ],
      "metadata": {
        "colab": {
          "base_uri": "https://localhost:8080/"
        },
        "id": "96xyYNws8a5E",
        "outputId": "3ee2cb12-bf90-41bc-bd68-3e9c4b805890"
      },
      "execution_count": null,
      "outputs": [
        {
          "output_type": "stream",
          "name": "stdout",
          "text": [
            "Model: \"sequential\"\n",
            "_________________________________________________________________\n",
            " Layer (type)                Output Shape              Param #   \n",
            "=================================================================\n",
            " embedding (Embedding)       (None, None, 16)          160000    \n",
            "                                                                 \n",
            " lstm (LSTM)                 (None, 64)                20736     \n",
            "                                                                 \n",
            " dense (Dense)               (None, 256)               16640     \n",
            "                                                                 \n",
            " dense_1 (Dense)             (None, 1)                 257       \n",
            "                                                                 \n",
            "=================================================================\n",
            "Total params: 197,633\n",
            "Trainable params: 197,633\n",
            "Non-trainable params: 0\n",
            "_________________________________________________________________\n"
          ]
        }
      ]
    },
    {
      "cell_type": "markdown",
      "source": [
        "##BiLSTM with Attention mechanism"
      ],
      "metadata": {
        "id": "ggbmSMHd8h8r"
      }
    },
    {
      "cell_type": "markdown",
      "source": [
        "양방향 LSTM은 기존의 LSTM 계층에 역방향으로 처리하는 LSTM 계층을 추가하여\n",
        "<br/>데이터의 길이가 길어지면 성능이 저하되는 문제를 해결한다.\n",
        "<br/>어텐션 메커니즘은 정보 손실과 기울기 소실(vanishing gradient) 문제를 해결한다."
      ],
      "metadata": {
        "id": "0qiCWHFrDwxX"
      }
    },
    {
      "cell_type": "code",
      "source": [
        "class BahdanauAttention(tf.keras.Model):\n",
        "  def __init__(self, units):\n",
        "    super(BahdanauAttention, self).__init__()\n",
        "    self.W1 = Dense(units)\n",
        "    self.W2 = Dense(units)\n",
        "    self.V = Dense(1)\n",
        "\n",
        "  def call(self, values, query): # 단, key와 value는 같음\n",
        "    # query shape == (batch_size, hidden size)\n",
        "    # hidden_with_time_axis shape == (batch_size, 1, hidden size)\n",
        "    # score 계산을 위해 뒤에서 할 덧셈을 위해서 차원을 변경해줍니다.\n",
        "    hidden_with_time_axis = tf.expand_dims(query, 1)\n",
        "\n",
        "    # score shape == (batch_size, max_length, 1)\n",
        "    # we get 1 at the last axis because we are applying score to self.V\n",
        "    # the shape of the tensor before applying self.V is (batch_size, max_length, units)\n",
        "    score = self.V(tf.nn.tanh(\n",
        "        self.W1(values) + self.W2(hidden_with_time_axis)))\n",
        "\n",
        "    # attention_weights shape == (batch_size, max_length, 1)\n",
        "    attention_weights = tf.nn.softmax(score, axis=1)\n",
        "\n",
        "    # context_vector shape after sum == (batch_size, hidden_size)\n",
        "    context_vector = attention_weights * values\n",
        "    context_vector = tf.reduce_sum(context_vector, axis=1)\n",
        "\n",
        "    return context_vector, attention_weights"
      ],
      "metadata": {
        "id": "t_6dZzPk8iJR"
      },
      "execution_count": null,
      "outputs": []
    },
    {
      "cell_type": "code",
      "source": [
        "from tensorflow.keras.layers import Dense, Embedding, Bidirectional, LSTM, Concatenate, Dropout\n",
        "from tensorflow.keras import Input, Model\n",
        "from tensorflow.keras import optimizers\n",
        "import os"
      ],
      "metadata": {
        "id": "Md2IHRPEC_08"
      },
      "execution_count": null,
      "outputs": []
    },
    {
      "cell_type": "code",
      "source": [
        "sequence_input = Input(shape=(text_max_len,), dtype='int32')\n",
        "embedded_sequences = Embedding(vocab_size, 128, input_length=text_max_len, mask_zero = True)(sequence_input)"
      ],
      "metadata": {
        "id": "VAp6D9VwC_3p"
      },
      "execution_count": null,
      "outputs": []
    },
    {
      "cell_type": "code",
      "source": [
        "lstm = Bidirectional(LSTM(64, dropout=0.5, return_sequences = True))(embedded_sequences)"
      ],
      "metadata": {
        "id": "MP7x0Lt7C_-1"
      },
      "execution_count": null,
      "outputs": []
    },
    {
      "cell_type": "code",
      "source": [
        "lstm, forward_h, forward_c, backward_h, backward_c = Bidirectional \\\n",
        "  (LSTM(64, dropout=0.5, return_sequences=True, return_state=True))(lstm)"
      ],
      "metadata": {
        "id": "DwqAUY_PDGbq"
      },
      "execution_count": null,
      "outputs": []
    },
    {
      "cell_type": "code",
      "source": [
        "print(lstm.shape, forward_h.shape, forward_c.shape, backward_h.shape, backward_c.shape)"
      ],
      "metadata": {
        "colab": {
          "base_uri": "https://localhost:8080/"
        },
        "id": "O2OcYU6ZDGeB",
        "outputId": "806b5819-e128-4d46-8ece-98b5f7d8cf04"
      },
      "execution_count": null,
      "outputs": [
        {
          "output_type": "stream",
          "name": "stdout",
          "text": [
            "(None, 41, 128) (None, 64) (None, 64) (None, 64) (None, 64)\n"
          ]
        }
      ]
    },
    {
      "cell_type": "code",
      "source": [
        "state_h = Concatenate()([forward_h, backward_h]) # 은닉 상태\n",
        "state_c = Concatenate()([forward_c, backward_c]) # 셀 상태"
      ],
      "metadata": {
        "id": "klfac8RxDLDy"
      },
      "execution_count": null,
      "outputs": []
    },
    {
      "cell_type": "code",
      "source": [
        "attention = BahdanauAttention(64) # 가중치 크기 정의\n",
        "context_vector, attention_weights = attention(lstm, state_h)"
      ],
      "metadata": {
        "id": "GYWWBEeGDLGT"
      },
      "execution_count": null,
      "outputs": []
    },
    {
      "cell_type": "code",
      "source": [
        "dense = Dense(20, activation=\"relu\")(context_vector)\n",
        "dropout = Dropout(0.5)(dense)\n",
        "output = Dense(1, activation=\"sigmoid\")(dropout)\n",
        "BiLSTM_model = Model(inputs=sequence_input, outputs=output)\n",
        "BiLSTM_model.summary()"
      ],
      "metadata": {
        "colab": {
          "base_uri": "https://localhost:8080/"
        },
        "id": "9qCYfyvZDLLD",
        "outputId": "be870f53-8208-4e32-a3ed-88f18deb9576"
      },
      "execution_count": null,
      "outputs": [
        {
          "output_type": "stream",
          "name": "stdout",
          "text": [
            "Model: \"model\"\n",
            "__________________________________________________________________________________________________\n",
            " Layer (type)                   Output Shape         Param #     Connected to                     \n",
            "==================================================================================================\n",
            " input_1 (InputLayer)           [(None, 41)]         0           []                               \n",
            "                                                                                                  \n",
            " embedding_1 (Embedding)        (None, 41, 128)      1280000     ['input_1[0][0]']                \n",
            "                                                                                                  \n",
            " bidirectional (Bidirectional)  (None, 41, 128)      98816       ['embedding_1[0][0]']            \n",
            "                                                                                                  \n",
            " bidirectional_1 (Bidirectional  [(None, 41, 128),   98816       ['bidirectional[0][0]']          \n",
            " )                               (None, 64),                                                      \n",
            "                                 (None, 64),                                                      \n",
            "                                 (None, 64),                                                      \n",
            "                                 (None, 64)]                                                      \n",
            "                                                                                                  \n",
            " concatenate (Concatenate)      (None, 128)          0           ['bidirectional_1[0][1]',        \n",
            "                                                                  'bidirectional_1[0][3]']        \n",
            "                                                                                                  \n",
            " bahdanau_attention (BahdanauAt  ((None, 128),       16577       ['bidirectional_1[0][0]',        \n",
            " tention)                        (None, 41, 1))                   'concatenate[0][0]']            \n",
            "                                                                                                  \n",
            " dense_6 (Dense)                (None, 20)           2580        ['bahdanau_attention[0][0]']     \n",
            "                                                                                                  \n",
            " dropout_1 (Dropout)            (None, 20)           0           ['dense_6[0][0]']                \n",
            "                                                                                                  \n",
            " dense_7 (Dense)                (None, 1)            21          ['dropout_1[0][0]']              \n",
            "                                                                                                  \n",
            "==================================================================================================\n",
            "Total params: 1,496,810\n",
            "Trainable params: 1,496,810\n",
            "Non-trainable params: 0\n",
            "__________________________________________________________________________________________________\n"
          ]
        }
      ]
    },
    {
      "cell_type": "markdown",
      "source": [
        "##Transformer"
      ],
      "metadata": {
        "id": "B0zPtIXJ8iZ5"
      }
    },
    {
      "cell_type": "markdown",
      "source": [
        "트랜스포머는 기존의 seq2seq의 구조인 인코더-디코더를 따르면서도, <br/>어텐션 매커니즘만으로 구현한 모델이다.\n",
        "<br/>RNN을 사용하지 않고, 인코더-디코더 구조를 설계한다.\n",
        "<br/>이 아이디어는 후에 BERT라는 모델로 이어진다."
      ],
      "metadata": {
        "id": "J3d8l9JPCB1u"
      }
    },
    {
      "cell_type": "code",
      "source": [
        "class MultiHeadAttention(tf.keras.layers.Layer):\n",
        "    def __init__(self, embedding_dim, num_heads=8):\n",
        "        super(MultiHeadAttention, self).__init__()\n",
        "        self.embedding_dim = embedding_dim # d_model\n",
        "        self.num_heads = num_heads\n",
        "\n",
        "        assert embedding_dim % self.num_heads == 0\n",
        "\n",
        "        self.projection_dim = embedding_dim // num_heads\n",
        "        self.query_dense = tf.keras.layers.Dense(embedding_dim)\n",
        "        self.key_dense = tf.keras.layers.Dense(embedding_dim)\n",
        "        self.value_dense = tf.keras.layers.Dense(embedding_dim)\n",
        "        self.dense = tf.keras.layers.Dense(embedding_dim)\n",
        "\n",
        "    def scaled_dot_product_attention(self, query, key, value):\n",
        "        matmul_qk = tf.matmul(query, key, transpose_b=True)\n",
        "        depth = tf.cast(tf.shape(key)[-1], tf.float32)\n",
        "        logits = matmul_qk / tf.math.sqrt(depth)\n",
        "        attention_weights = tf.nn.softmax(logits, axis=-1)\n",
        "        output = tf.matmul(attention_weights, value)\n",
        "        return output, attention_weights\n",
        "\n",
        "    def split_heads(self, x, batch_size):\n",
        "        x = tf.reshape(x, (batch_size, -1, self.num_heads, self.projection_dim))\n",
        "        return tf.transpose(x, perm=[0, 2, 1, 3])\n",
        "\n",
        "    def call(self, inputs):\n",
        "        # x.shape = [batch_size, seq_len, embedding_dim]\n",
        "        batch_size = tf.shape(inputs)[0]\n",
        "\n",
        "        # (batch_size, seq_len, embedding_dim)\n",
        "        query = self.query_dense(inputs)\n",
        "        key = self.key_dense(inputs)\n",
        "        value = self.value_dense(inputs)\n",
        "\n",
        "        # (batch_size, num_heads, seq_len, projection_dim)\n",
        "        query = self.split_heads(query, batch_size)  \n",
        "        key = self.split_heads(key, batch_size)\n",
        "        value = self.split_heads(value, batch_size)\n",
        "\n",
        "        scaled_attention, _ = self.scaled_dot_product_attention(query, key, value)\n",
        "        # (batch_size, seq_len, num_heads, projection_dim)\n",
        "        scaled_attention = tf.transpose(scaled_attention, perm=[0, 2, 1, 3])  \n",
        "\n",
        "        # (batch_size, seq_len, embedding_dim)\n",
        "        concat_attention = tf.reshape(scaled_attention, (batch_size, -1, self.embedding_dim))\n",
        "        outputs = self.dense(concat_attention)\n",
        "        return outputs"
      ],
      "metadata": {
        "id": "vjWSwmbxYIjr"
      },
      "execution_count": null,
      "outputs": []
    },
    {
      "cell_type": "code",
      "source": [
        "class TransformerBlock(tf.keras.layers.Layer):\n",
        "    def __init__(self, embedding_dim, num_heads, dff, rate=0.1):\n",
        "        super(TransformerBlock, self).__init__()\n",
        "        self.att = MultiHeadAttention(embedding_dim, num_heads)\n",
        "        self.ffn = tf.keras.Sequential(\n",
        "            [tf.keras.layers.Dense(dff, activation=\"relu\"),\n",
        "             tf.keras.layers.Dense(embedding_dim),]\n",
        "        )\n",
        "        self.layernorm1 = tf.keras.layers.LayerNormalization(epsilon=1e-6)\n",
        "        self.layernorm2 = tf.keras.layers.LayerNormalization(epsilon=1e-6)\n",
        "        self.dropout1 = tf.keras.layers.Dropout(rate)\n",
        "        self.dropout2 = tf.keras.layers.Dropout(rate)\n",
        "\n",
        "    def call(self, inputs, training):\n",
        "        attn_output = self.att(inputs) # 첫번째 서브층 : 멀티 헤드 어텐션\n",
        "        attn_output = self.dropout1(attn_output, training=training)\n",
        "        out1 = self.layernorm1(inputs + attn_output) # Add & Norm\n",
        "        ffn_output = self.ffn(out1) # 두번째 서브층 : 포지션 와이즈 피드 포워드 신경망\n",
        "        ffn_output = self.dropout2(ffn_output, training=training)\n",
        "        return self.layernorm2(out1 + ffn_output) # Add & Norm"
      ],
      "metadata": {
        "id": "3h-CjTAdYJ1q"
      },
      "execution_count": null,
      "outputs": []
    },
    {
      "cell_type": "code",
      "source": [
        "class TokenAndPositionEmbedding(tf.keras.layers.Layer):\n",
        "    def __init__(self, max_len, vocab_size, embedding_dim):\n",
        "        super(TokenAndPositionEmbedding, self).__init__()\n",
        "        self.token_emb = tf.keras.layers.Embedding(vocab_size, embedding_dim)\n",
        "        self.pos_emb = tf.keras.layers.Embedding(max_len, embedding_dim)\n",
        "\n",
        "    def call(self, x):\n",
        "        max_len = tf.shape(x)[-1]\n",
        "        positions = tf.range(start=0, limit=max_len, delta=1)\n",
        "        positions = self.pos_emb(positions)\n",
        "        x = self.token_emb(x)\n",
        "        return x + positions"
      ],
      "metadata": {
        "id": "KPucC1PNYMsa"
      },
      "execution_count": null,
      "outputs": []
    },
    {
      "cell_type": "code",
      "source": [
        "vocab_size = 20000  # 빈도수 상위 2만개의 단어만 사용\n",
        "\n",
        "print('훈련용 리뷰 개수 : {}'.format(len(x_train)))\n",
        "print('테스트용 리뷰 개수 : {}'.format(len(x_test)))"
      ],
      "metadata": {
        "colab": {
          "base_uri": "https://localhost:8080/"
        },
        "id": "o_gnqGk7Yrrh",
        "outputId": "bac38171-2b6c-4073-ca9f-a0e570984045"
      },
      "execution_count": null,
      "outputs": [
        {
          "output_type": "stream",
          "name": "stdout",
          "text": [
            "훈련용 리뷰 개수 : 146182\n",
            "테스트용 리뷰 개수 : 49157\n"
          ]
        }
      ]
    },
    {
      "cell_type": "code",
      "source": [
        "embedding_dim = 32  # 각 단어의 임베딩 벡터의 차원\n",
        "num_heads = 2  # 어텐션 헤드의 수\n",
        "dff = 32  # 포지션 와이즈 피드 포워드 신경망의 은닉층의 크기\n",
        "\n",
        "inputs = tf.keras.layers.Input(shape=(text_max_len,))\n",
        "embedding_layer = TokenAndPositionEmbedding(text_max_len, vocab_size, embedding_dim)\n",
        "x = embedding_layer(inputs)\n",
        "transformer_block = TransformerBlock(embedding_dim, num_heads, dff)\n",
        "x = transformer_block(x)\n",
        "x = tf.keras.layers.GlobalAveragePooling1D()(x)\n",
        "x = tf.keras.layers.Dropout(0.1)(x)\n",
        "x = tf.keras.layers.Dense(20, activation=\"relu\")(x)\n",
        "x = tf.keras.layers.Dropout(0.1)(x)\n",
        "outputs = tf.keras.layers.Dense(2, activation=\"softmax\")(x)\n",
        "\n",
        "Transformer_model = tf.keras.Model(inputs=inputs, outputs=outputs)\n",
        "Transformer_model.summary()"
      ],
      "metadata": {
        "colab": {
          "base_uri": "https://localhost:8080/"
        },
        "id": "sccNQVOSYXr8",
        "outputId": "bc372bc7-004b-4d2c-fd8e-a034a87f294a"
      },
      "execution_count": null,
      "outputs": [
        {
          "output_type": "stream",
          "name": "stdout",
          "text": [
            "Model: \"model_1\"\n",
            "_________________________________________________________________\n",
            " Layer (type)                Output Shape              Param #   \n",
            "=================================================================\n",
            " input_2 (InputLayer)        [(None, 41)]              0         \n",
            "                                                                 \n",
            " token_and_position_embeddin  (None, 41, 32)           641312    \n",
            " g (TokenAndPositionEmbeddin                                     \n",
            " g)                                                              \n",
            "                                                                 \n",
            " transformer_block (Transfor  (None, 41, 32)           6464      \n",
            " merBlock)                                                       \n",
            "                                                                 \n",
            " global_average_pooling1d (G  (None, 32)               0         \n",
            " lobalAveragePooling1D)                                          \n",
            "                                                                 \n",
            " dropout_4 (Dropout)         (None, 32)                0         \n",
            "                                                                 \n",
            " dense_14 (Dense)            (None, 20)                660       \n",
            "                                                                 \n",
            " dropout_5 (Dropout)         (None, 20)                0         \n",
            "                                                                 \n",
            " dense_15 (Dense)            (None, 2)                 42        \n",
            "                                                                 \n",
            "=================================================================\n",
            "Total params: 648,478\n",
            "Trainable params: 648,478\n",
            "Non-trainable params: 0\n",
            "_________________________________________________________________\n"
          ]
        }
      ]
    },
    {
      "cell_type": "markdown",
      "source": [
        "#모델 훈련"
      ],
      "metadata": {
        "id": "zXQEyjmi9oyZ"
      }
    },
    {
      "cell_type": "markdown",
      "source": [
        "##LSTM"
      ],
      "metadata": {
        "id": "eMeGgDtr91Kj"
      }
    },
    {
      "cell_type": "code",
      "source": [
        "LSTM_model.compile(optimizer='adam',\n",
        "              loss='binary_crossentropy',\n",
        "              metrics=['accuracy'])\n",
        "              \n",
        "epochs=20  # 몇 epoch를 훈련하면 좋을지 결과를 보면서 바꾸어 봅시다. \n",
        "\n",
        "early = EarlyStopping(monitor='val_loss', mode='min', verbose=1, patience=5)\n",
        "check = ModelCheckpoint('best_model.h5', monitor='val_acc', mode='max', verbose=1, save_bast_only=True)\n",
        "\n",
        "history = LSTM_model.fit(partial_x_train,\n",
        "                    partial_y_train,\n",
        "                    epochs=epochs,\n",
        "                    callbacks=[early, check],\n",
        "                    batch_size=32,\n",
        "                    validation_data=(x_val, y_val),\n",
        "                    verbose=1)"
      ],
      "metadata": {
        "colab": {
          "base_uri": "https://localhost:8080/"
        },
        "id": "-GO9wXNY9RW6",
        "outputId": "b4c86f33-d634-462b-bb8b-8a40f3e4497b"
      },
      "execution_count": null,
      "outputs": [
        {
          "output_type": "stream",
          "name": "stdout",
          "text": [
            "Epoch 1/20\n",
            "3626/3631 [============================>.] - ETA: 0s - loss: 0.3848 - accuracy: 0.8278\n",
            "Epoch 1: saving model to best_model.h5\n",
            "3631/3631 [==============================] - 35s 7ms/step - loss: 0.3849 - accuracy: 0.8278 - val_loss: 0.3401 - val_accuracy: 0.8506\n",
            "Epoch 2/20\n",
            "3627/3631 [============================>.] - ETA: 0s - loss: 0.3042 - accuracy: 0.8708\n",
            "Epoch 2: saving model to best_model.h5\n",
            "3631/3631 [==============================] - 27s 7ms/step - loss: 0.3042 - accuracy: 0.8708 - val_loss: 0.3177 - val_accuracy: 0.8616\n",
            "Epoch 3/20\n",
            "3626/3631 [============================>.] - ETA: 0s - loss: 0.2638 - accuracy: 0.8897\n",
            "Epoch 3: saving model to best_model.h5\n",
            "3631/3631 [==============================] - 27s 7ms/step - loss: 0.2638 - accuracy: 0.8897 - val_loss: 0.3272 - val_accuracy: 0.8614\n",
            "Epoch 4/20\n",
            "3631/3631 [==============================] - ETA: 0s - loss: 0.2350 - accuracy: 0.9032\n",
            "Epoch 4: saving model to best_model.h5\n",
            "3631/3631 [==============================] - 27s 7ms/step - loss: 0.2350 - accuracy: 0.9032 - val_loss: 0.3310 - val_accuracy: 0.8633\n",
            "Epoch 5/20\n",
            "3629/3631 [============================>.] - ETA: 0s - loss: 0.2085 - accuracy: 0.9149\n",
            "Epoch 5: saving model to best_model.h5\n",
            "3631/3631 [==============================] - 27s 7ms/step - loss: 0.2085 - accuracy: 0.9149 - val_loss: 0.3651 - val_accuracy: 0.8622\n",
            "Epoch 6/20\n",
            "3629/3631 [============================>.] - ETA: 0s - loss: 0.1848 - accuracy: 0.9258\n",
            "Epoch 6: saving model to best_model.h5\n",
            "3631/3631 [==============================] - 26s 7ms/step - loss: 0.1847 - accuracy: 0.9258 - val_loss: 0.3821 - val_accuracy: 0.8573\n",
            "Epoch 7/20\n",
            "3626/3631 [============================>.] - ETA: 0s - loss: 0.1635 - accuracy: 0.9351\n",
            "Epoch 7: saving model to best_model.h5\n",
            "3631/3631 [==============================] - 27s 7ms/step - loss: 0.1634 - accuracy: 0.9351 - val_loss: 0.4528 - val_accuracy: 0.8515\n",
            "Epoch 7: early stopping\n"
          ]
        }
      ]
    },
    {
      "cell_type": "code",
      "source": [
        "results = LSTM_model.evaluate(x_test,  y_test, verbose=2)\n",
        "\n",
        "print(results)"
      ],
      "metadata": {
        "colab": {
          "base_uri": "https://localhost:8080/"
        },
        "id": "4DPNhwjBhPRL",
        "outputId": "25f274e0-8eac-40d3-fd75-0e592cf2fb8d"
      },
      "execution_count": null,
      "outputs": [
        {
          "output_type": "stream",
          "name": "stdout",
          "text": [
            "1537/1537 - 5s - loss: 0.4591 - accuracy: 0.8469 - 5s/epoch - 3ms/step\n",
            "[0.4590741991996765, 0.846858024597168]\n"
          ]
        }
      ]
    },
    {
      "cell_type": "code",
      "source": [
        "history_dict = history.history\n",
        "print(history_dict.keys())"
      ],
      "metadata": {
        "colab": {
          "base_uri": "https://localhost:8080/"
        },
        "id": "nLkfKovohg74",
        "outputId": "4a6d406b-81cc-4e82-bada-5c031f856c97"
      },
      "execution_count": null,
      "outputs": [
        {
          "output_type": "stream",
          "name": "stdout",
          "text": [
            "dict_keys(['loss', 'accuracy', 'val_loss', 'val_accuracy'])\n"
          ]
        }
      ]
    },
    {
      "cell_type": "code",
      "source": [
        "import matplotlib.pyplot as plt\n",
        "\n",
        "acc = history_dict['accuracy']\n",
        "val_acc = history_dict['val_accuracy']\n",
        "loss = history_dict['loss']\n",
        "val_loss = history_dict['val_loss']\n",
        "\n",
        "epochs = range(1, len(acc) + 1)\n",
        "\n",
        "\n",
        "plt.plot(epochs, loss, 'bo', label='Training loss')\n",
        "plt.plot(epochs, val_loss, 'b', label='Validation loss')\n",
        "plt.title('Training and validation loss')\n",
        "plt.xlabel('Epochs')\n",
        "plt.ylabel('Loss')\n",
        "plt.legend()\n",
        "\n",
        "plt.show()"
      ],
      "metadata": {
        "colab": {
          "base_uri": "https://localhost:8080/",
          "height": 295
        },
        "id": "SoK56rBUhoWh",
        "outputId": "30b123b1-d3b6-4a24-b2ea-1305310a9b9f"
      },
      "execution_count": null,
      "outputs": [
        {
          "output_type": "display_data",
          "data": {
            "text/plain": [
              "<Figure size 432x288 with 1 Axes>"
            ],
            "image/png": "[encoded data removed]"
          },
          "metadata": {
            "needs_background": "light"
          }
        }
      ]
    },
    {
      "cell_type": "code",
      "source": [
        "plt.clf()   \n",
        "\n",
        "plt.plot(epochs, acc, 'bo', label='Training acc')\n",
        "plt.plot(epochs, val_acc, 'b', label='Validation acc')\n",
        "plt.title('Training and validation accuracy')\n",
        "plt.xlabel('Epochs')\n",
        "plt.ylabel('Accuracy')\n",
        "plt.legend()\n",
        "\n",
        "plt.show()"
      ],
      "metadata": {
        "colab": {
          "base_uri": "https://localhost:8080/",
          "height": 295
        },
        "id": "EVQ66BCYho8K",
        "outputId": "525fb202-a2a4-4a9c-da64-6825a25fa1bc"
      },
      "execution_count": null,
      "outputs": [
        {
          "output_type": "display_data",
          "data": {
            "text/plain": [
              "<Figure size 432x288 with 1 Axes>"
            ],
            "image/png": "[encoded data removed]"
          },
          "metadata": {
            "needs_background": "light"
          }
        }
      ]
    },
    {
      "cell_type": "markdown",
      "source": [
        "###학습된 임베딩 레이어\n"
      ],
      "metadata": {
        "id": "_m-w7XjVqFL6"
      }
    },
    {
      "cell_type": "code",
      "source": [
        "embedding_layer = LSTM_model.layers[0]\n",
        "weights = embedding_layer.get_weights()[0]\n",
        "print(weights.shape)"
      ],
      "metadata": {
        "colab": {
          "base_uri": "https://localhost:8080/"
        },
        "id": "v4NXhhx1k0Za",
        "outputId": "a888cf73-beff-4754-dd56-35a58d62bbca"
      },
      "execution_count": null,
      "outputs": [
        {
          "output_type": "stream",
          "name": "stdout",
          "text": [
            "(10000, 16)\n"
          ]
        }
      ]
    },
    {
      "cell_type": "code",
      "source": [
        "!pip install gensim\n",
        "\n",
        "!curl -c ./cookie -s -L \"https://drive.google.com/uc?export=download&id=1ElQrFswdxYsZyEXIxhN0Us2vbJNMIZwK\" > /dev/null\n",
        "!curl -Lb ./cookie \"https://drive.google.com/uc?export=download&confirm=`awk '/download/ {print $NF}' ./cookie`&id=1ElQrFswdxYsZyEXIxhN0Us2vbJNMIZwK\" -o wiki_20190620_small.txt"
      ],
      "metadata": {
        "colab": {
          "base_uri": "https://localhost:8080/"
        },
        "id": "SC0fNysy2mZQ",
        "outputId": "e9d96d2b-cb20-4ddc-ae52-f281969744f1"
      },
      "execution_count": null,
      "outputs": [
        {
          "output_type": "stream",
          "name": "stdout",
          "text": [
            "Looking in indexes: https://pypi.org/simple, https://us-python.pkg.dev/colab-wheels/public/simple/\n",
            "Requirement already satisfied: gensim in /usr/local/lib/python3.7/dist-packages (3.6.0)\n",
            "Requirement already satisfied: numpy>=1.11.3 in /usr/local/lib/python3.7/dist-packages (from gensim) (1.21.6)\n",
            "Requirement already satisfied: six>=1.5.0 in /usr/local/lib/python3.7/dist-packages (from gensim) (1.15.0)\n",
            "Requirement already satisfied: smart-open>=1.2.1 in /usr/local/lib/python3.7/dist-packages (from gensim) (6.0.0)\n",
            "Requirement already satisfied: scipy>=0.18.1 in /usr/local/lib/python3.7/dist-packages (from gensim) (1.4.1)\n",
            "  % Total    % Received % Xferd  Average Speed   Time    Time     Time  Current\n",
            "                                 Dload  Upload   Total   Spent    Left  Speed\n",
            "  0     0    0     0    0     0      0      0 --:--:-- --:--:-- --:--:--     0\n",
            "100   683  100   683    0     0   4435      0 --:--:-- --:--:-- --:--:--  4435\n",
            "100  115k    0  115k    0     0   597k      0 --:--:-- --:--:-- --:--:--  597k\n"
          ]
        }
      ]
    },
    {
      "cell_type": "code",
      "source": [
        "word2vec_file_path = '/content/drive/MyDrive/LMS/film_review/wiki_20190620_small.txt'\n",
        "f = open(word2vec_file_path, 'w')\n",
        "f.write('{} {}\\n'.format(vocab_size-4, word_vector_dim))\n",
        "\n",
        "vectors = LSTM_model.get_weights()[0]\n",
        "for i in range(4,vocab_size):\n",
        "    f.write('{} {}\\n'.format(index_to_word[i], ' '.join(map(str, list(vectors[i, :])))))\n",
        "f.close()"
      ],
      "metadata": {
        "id": "Uf43IyY0qZeA"
      },
      "execution_count": null,
      "outputs": []
    },
    {
      "cell_type": "code",
      "source": [
        "word_vectors = Word2VecKeyedVectors.load_word2vec_format(word2vec_file_path, binary=False)\n",
        "vector = word_vectors['사과']\n",
        "vector"
      ],
      "metadata": {
        "colab": {
          "base_uri": "https://localhost:8080/"
        },
        "id": "wwMgldgpqZ0J",
        "outputId": "f3e0355a-ecf0-4622-8656-b99021689a50"
      },
      "execution_count": null,
      "outputs": [
        {
          "output_type": "execute_result",
          "data": {
            "text/plain": [
              "array([ 0.1107634 , -0.57663804, -0.01351999, -0.29291138,  0.07818841,\n",
              "        0.09619034,  0.24017058,  0.10063644,  0.00916606, -0.23407896,\n",
              "       -0.06948208,  0.01320128,  0.02453666,  0.02601137, -0.02367757,\n",
              "       -0.05550727], dtype=float32)"
            ]
          },
          "metadata": {},
          "execution_count": 42
        }
      ]
    },
    {
      "cell_type": "code",
      "source": [
        "word_vectors.similar_by_word(\"동의\")"
      ],
      "metadata": {
        "colab": {
          "base_uri": "https://localhost:8080/"
        },
        "id": "ww_W7AWqlTXI",
        "outputId": "a488b644-b163-41cc-f61e-2450699713d0"
      },
      "execution_count": null,
      "outputs": [
        {
          "output_type": "execute_result",
          "data": {
            "text/plain": [
              "[('말리', 0.9184073805809021),\n",
              " ('거기', 0.895789623260498),\n",
              " ('파탄', 0.8877254724502563),\n",
              " ('어줍잖', 0.8823180198669434),\n",
              " ('의도', 0.8793677091598511),\n",
              " ('걸친', 0.8784265518188477),\n",
              " ('압축', 0.8767814040184021),\n",
              " ('끔찍', 0.875941276550293),\n",
              " ('어째', 0.8745017051696777),\n",
              " ('평이', 0.8738136291503906)]"
            ]
          },
          "metadata": {},
          "execution_count": 46
        }
      ]
    },
    {
      "cell_type": "markdown",
      "source": [
        "###한국어 Word2Vec 임베딩 레이어"
      ],
      "metadata": {
        "id": "OGNIfIGnqItK"
      }
    },
    {
      "cell_type": "code",
      "source": [
        "word2vec_file_path = '/content/drive/MyDrive/LMS/film_review/ko/ko.bin'\n",
        "word2vec = gensim.models.Word2Vec.load(word2vec_file_path)"
      ],
      "metadata": {
        "id": "CP-gOGLiqZbR"
      },
      "execution_count": null,
      "outputs": []
    },
    {
      "cell_type": "code",
      "source": [
        "vector = word2vec['사과']\n",
        "vector"
      ],
      "metadata": {
        "colab": {
          "base_uri": "https://localhost:8080/"
        },
        "id": "ox8jY4v1lTaY",
        "outputId": "5c661f9b-a1a7-4f90-974a-0811b2af3cf3"
      },
      "execution_count": null,
      "outputs": [
        {
          "output_type": "stream",
          "name": "stderr",
          "text": [
            "/usr/local/lib/python3.7/dist-packages/ipykernel_launcher.py:1: DeprecationWarning: Call to deprecated `__getitem__` (Method will be removed in 4.0.0, use self.wv.__getitem__() instead).\n",
            "  \"\"\"Entry point for launching an IPython kernel.\n"
          ]
        },
        {
          "output_type": "execute_result",
          "data": {
            "text/plain": [
              "array([ 9.2056787e-01, -9.3060774e-01,  5.4439580e-01, -1.3935467e+00,\n",
              "        5.3978199e-01, -8.0385113e-01,  7.6022381e-01,  9.4473548e-02,\n",
              "       -1.9885937e+00, -1.4190671e+00, -7.1797468e-02, -5.1517338e-01,\n",
              "        1.2117706e-01,  3.8250095e-01, -1.2753999e-01, -9.3050337e-01,\n",
              "        7.6219708e-01, -4.3545979e-01, -1.6027944e-02,  5.4516089e-01,\n",
              "        1.0358979e-01, -2.1163979e-01, -7.4997252e-01, -2.6998541e-01,\n",
              "        1.1858349e+00, -8.4951085e-01, -3.6378971e-01, -1.2847933e+00,\n",
              "       -1.0035210e+00, -6.3335228e-01,  5.7869136e-01, -2.8867555e-01,\n",
              "       -2.2565665e+00,  1.9307016e-01,  1.1739066e+00, -1.2930912e+00,\n",
              "        1.0477116e+00, -1.0863464e+00, -1.0862664e+00,  1.0688077e+00,\n",
              "       -1.3563226e+00, -2.8415608e-01, -1.7860498e-01, -1.7332597e+00,\n",
              "        1.2366999e+00, -2.0593180e-01,  6.3037866e-01, -2.7050629e+00,\n",
              "        7.1303926e-02,  9.8375821e-01, -4.9528290e-02,  1.9433835e-01,\n",
              "        3.8230199e-01, -2.3899893e-01, -5.0880301e-01, -5.5829966e-01,\n",
              "        1.3922104e-01,  4.4940531e-01,  6.8986338e-01, -3.0442375e-01,\n",
              "        7.3363788e-02,  4.8331904e-01, -1.0142415e+00, -8.5719538e-01,\n",
              "        2.1089113e+00,  6.1772596e-02,  6.5218139e-01,  2.1967149e-01,\n",
              "       -1.1237256e-01, -1.5706075e+00,  8.3725262e-01, -1.2167232e+00,\n",
              "        1.3095303e-01,  1.9586633e+00, -5.7486886e-01,  2.7382290e-01,\n",
              "        1.6082500e+00,  1.6767238e-01, -5.5400407e-01, -1.3504802e+00,\n",
              "        4.7964925e-01, -1.0058399e+00,  9.2753643e-01, -3.0977520e-01,\n",
              "       -3.8645715e-01,  9.9770057e-01, -6.8207431e-01, -7.9495257e-01,\n",
              "       -7.0297830e-02,  5.6891537e-01, -2.8777683e-01, -3.7772191e-01,\n",
              "       -3.4829539e-01, -1.1011732e+00,  9.8630786e-01,  6.9675428e-01,\n",
              "        7.8588672e-02,  6.0133791e-01,  2.0386653e+00,  7.5512779e-01,\n",
              "       -1.0222361e+00,  1.1362116e+00,  1.1621809e+00,  9.4081867e-01,\n",
              "       -2.1071397e-01,  7.4736565e-01, -2.1678750e-01, -5.0829969e-02,\n",
              "        1.3181180e+00,  4.5078285e-02,  1.5146104e+00,  2.8937575e-01,\n",
              "       -6.6373628e-01, -6.1464643e-01, -3.4984410e-01, -2.2246938e+00,\n",
              "       -3.0465422e+00, -7.0351160e-01, -1.0372009e+00,  3.1667492e-01,\n",
              "        1.3973162e+00,  1.0384756e+00, -6.4354223e-01, -7.8861445e-01,\n",
              "       -1.0960147e+00,  2.2261159e+00, -4.4469169e-01,  7.0251358e-01,\n",
              "        2.1402767e+00,  6.4174145e-01,  3.4160963e-01,  1.7156144e+00,\n",
              "        1.1094990e+00,  4.2108336e-01,  4.7201291e-01,  1.9110813e+00,\n",
              "        1.0423502e+00,  4.4114050e-01,  2.5146320e-01, -1.4370482e-01,\n",
              "       -8.2406169e-01,  3.9516392e-01,  7.3595750e-01, -1.0461406e+00,\n",
              "       -9.8533696e-01,  6.8320805e-01, -2.9878396e-01,  2.2125600e-01,\n",
              "       -6.8263286e-01, -7.5699516e-02, -1.1611453e+00,  5.8139592e-01,\n",
              "       -7.1322542e-01, -8.1513029e-01,  3.7134299e-01,  9.6703768e-02,\n",
              "       -1.4764746e+00,  1.5716070e+00, -7.4505031e-02, -4.5691881e-01,\n",
              "       -5.5302620e-01, -7.6704375e-02,  2.8263453e-01, -3.2741943e-01,\n",
              "       -3.4204572e-02, -8.4121859e-01, -3.0817610e-01,  1.7433439e-01,\n",
              "        8.3991513e-02, -1.8926296e-01, -1.1685871e+00, -1.3208576e-01,\n",
              "       -2.2126390e-01, -3.7312675e-01, -4.2515266e-01, -1.8266418e+00,\n",
              "       -1.4509571e+00, -3.2827318e-01, -1.0406255e+00,  8.5544211e-01,\n",
              "        2.8576474e-03,  4.2294565e-01,  6.9434917e-01, -2.2928181e+00,\n",
              "        1.1247767e+00, -1.1039850e+00, -2.1055529e-01,  1.5766990e+00,\n",
              "       -4.9395254e-01, -1.9158077e-01,  5.1947111e-01,  2.3162007e+00,\n",
              "        8.3288836e-01, -3.1968194e-01, -7.1928161e-01,  2.9183152e-01,\n",
              "       -1.6742898e+00,  3.5918248e-01, -5.8401018e-01, -4.3856937e-01],\n",
              "      dtype=float32)"
            ]
          },
          "metadata": {},
          "execution_count": 52
        }
      ]
    },
    {
      "cell_type": "code",
      "source": [
        "word2vec.similar_by_word(\"동의\")"
      ],
      "metadata": {
        "colab": {
          "base_uri": "https://localhost:8080/"
        },
        "id": "NwGCTV7VuHnI",
        "outputId": "d9b1531e-d7f2-4f63-ec57-dcf46c552e44"
      },
      "execution_count": null,
      "outputs": [
        {
          "output_type": "stream",
          "name": "stderr",
          "text": [
            "/usr/local/lib/python3.7/dist-packages/ipykernel_launcher.py:1: DeprecationWarning: Call to deprecated `similar_by_word` (Method will be removed in 4.0.0, use self.wv.similar_by_word() instead).\n",
            "  \"\"\"Entry point for launching an IPython kernel.\n"
          ]
        },
        {
          "output_type": "execute_result",
          "data": {
            "text/plain": [
              "[('찬성', 0.47488462924957275),\n",
              " ('양해', 0.4586007595062256),\n",
              " ('찬동', 0.4416826665401459),\n",
              " ('협의', 0.434848427772522),\n",
              " ('합의', 0.43081700801849365),\n",
              " ('승낙', 0.4255688488483429),\n",
              " ('승인', 0.42273956537246704),\n",
              " ('반대', 0.4167338013648987),\n",
              " ('통지', 0.40472936630249023),\n",
              " ('협조', 0.3948354721069336)]"
            ]
          },
          "metadata": {},
          "execution_count": 53
        }
      ]
    },
    {
      "cell_type": "code",
      "source": [
        "vocab_size = 10000\n",
        "word_vector_dim = 200\n",
        "\n",
        "embedding_matrix = np.random.rand(vocab_size, word_vector_dim)\n",
        "\n",
        "for i in range(4,vocab_size):\n",
        "    if index_to_word[i] in word2vec:\n",
        "        embedding_matrix[i] = word2vec[index_to_word[i]]"
      ],
      "metadata": {
        "colab": {
          "base_uri": "https://localhost:8080/"
        },
        "id": "0FG2zHBFuOnZ",
        "outputId": "69cc26aa-ece3-4686-c02e-129b56f9be4b"
      },
      "execution_count": null,
      "outputs": [
        {
          "output_type": "stream",
          "name": "stderr",
          "text": [
            "/usr/local/lib/python3.7/dist-packages/ipykernel_launcher.py:7: DeprecationWarning: Call to deprecated `__contains__` (Method will be removed in 4.0.0, use self.wv.__contains__() instead).\n",
            "  import sys\n",
            "/usr/local/lib/python3.7/dist-packages/ipykernel_launcher.py:8: DeprecationWarning: Call to deprecated `__getitem__` (Method will be removed in 4.0.0, use self.wv.__getitem__() instead).\n",
            "  \n"
          ]
        }
      ]
    },
    {
      "cell_type": "code",
      "source": [
        "vocab_size = 10000    \n",
        "word_vector_dim = 200  \n",
        "\n",
        "word2vec_LSTM_model = keras.Sequential()\n",
        "word2vec_LSTM_model.add(keras.layers.Embedding(vocab_size, \n",
        "                                 word_vector_dim, \n",
        "                                 embeddings_initializer=Constant(embedding_matrix),\n",
        "                                 input_length=text_max_len, \n",
        "                                 trainable=True))\n",
        "word2vec_LSTM_model.add(keras.layers.LSTM(64))\n",
        "word2vec_LSTM_model.add(keras.layers.Dense(256, activation='relu'))\n",
        "word2vec_LSTM_model.add(keras.layers.Dense(1, activation='sigmoid'))  \n",
        "\n",
        "word2vec_LSTM_model.summary()"
      ],
      "metadata": {
        "colab": {
          "base_uri": "https://localhost:8080/"
        },
        "id": "V3ezDQDZuUDn",
        "outputId": "ca97ec9c-bd15-4230-c256-6e26b86669b8"
      },
      "execution_count": null,
      "outputs": [
        {
          "output_type": "stream",
          "name": "stdout",
          "text": [
            "Model: \"sequential_2\"\n",
            "_________________________________________________________________\n",
            " Layer (type)                Output Shape              Param #   \n",
            "=================================================================\n",
            " embedding_4 (Embedding)     (None, 41, 200)           2000000   \n",
            "                                                                 \n",
            " lstm_3 (LSTM)               (None, 64)                67840     \n",
            "                                                                 \n",
            " dense_16 (Dense)            (None, 256)               16640     \n",
            "                                                                 \n",
            " dense_17 (Dense)            (None, 1)                 257       \n",
            "                                                                 \n",
            "=================================================================\n",
            "Total params: 2,084,737\n",
            "Trainable params: 2,084,737\n",
            "Non-trainable params: 0\n",
            "_________________________________________________________________\n"
          ]
        }
      ]
    },
    {
      "cell_type": "code",
      "source": [
        "word2vec_LSTM_model.compile(optimizer='adam',\n",
        "              loss='binary_crossentropy',\n",
        "              metrics=['accuracy'])\n",
        "              \n",
        "epochs=20 \n",
        "\n",
        "early = EarlyStopping(monitor='val_loss', mode='min', verbose=1, patience=5)\n",
        "check = ModelCheckpoint('best_model.h5', monitor='val_acc', mode='max', verbose=1, save_bast_only=True)\n",
        "\n",
        "history = word2vec_LSTM_model.fit(partial_x_train,\n",
        "                    partial_y_train,\n",
        "                    epochs=epochs,\n",
        "                    callbacks=[early, check],\n",
        "                    batch_size=32,\n",
        "                    validation_data=(x_val, y_val),\n",
        "                    verbose=1)"
      ],
      "metadata": {
        "colab": {
          "base_uri": "https://localhost:8080/"
        },
        "id": "PoefA3GLuxVC",
        "outputId": "e16d4685-4fb7-40ec-9eef-f07324691f4e"
      },
      "execution_count": null,
      "outputs": [
        {
          "output_type": "stream",
          "name": "stdout",
          "text": [
            "Epoch 1/20\n",
            "3624/3631 [============================>.] - ETA: 0s - loss: 0.3869 - accuracy: 0.8236\n",
            "Epoch 1: saving model to best_model.h5\n",
            "3631/3631 [==============================] - 30s 8ms/step - loss: 0.3871 - accuracy: 0.8236 - val_loss: 0.3351 - val_accuracy: 0.8580\n",
            "Epoch 2/20\n",
            "3629/3631 [============================>.] - ETA: 0s - loss: 0.2927 - accuracy: 0.8760\n",
            "Epoch 2: saving model to best_model.h5\n",
            "3631/3631 [==============================] - 28s 8ms/step - loss: 0.2928 - accuracy: 0.8760 - val_loss: 0.3166 - val_accuracy: 0.8644\n",
            "Epoch 3/20\n",
            "3625/3631 [============================>.] - ETA: 0s - loss: 0.2502 - accuracy: 0.8961\n",
            "Epoch 3: saving model to best_model.h5\n",
            "3631/3631 [==============================] - 28s 8ms/step - loss: 0.2502 - accuracy: 0.8961 - val_loss: 0.3173 - val_accuracy: 0.8667\n",
            "Epoch 4/20\n",
            "3629/3631 [============================>.] - ETA: 0s - loss: 0.2112 - accuracy: 0.9139\n",
            "Epoch 4: saving model to best_model.h5\n",
            "3631/3631 [==============================] - 28s 8ms/step - loss: 0.2112 - accuracy: 0.9140 - val_loss: 0.3387 - val_accuracy: 0.8645\n",
            "Epoch 5/20\n",
            "3626/3631 [============================>.] - ETA: 0s - loss: 0.1745 - accuracy: 0.9296\n",
            "Epoch 5: saving model to best_model.h5\n",
            "3631/3631 [==============================] - 28s 8ms/step - loss: 0.1746 - accuracy: 0.9296 - val_loss: 0.3870 - val_accuracy: 0.8593\n",
            "Epoch 6/20\n",
            "3625/3631 [============================>.] - ETA: 0s - loss: 0.1407 - accuracy: 0.9443\n",
            "Epoch 6: saving model to best_model.h5\n",
            "3631/3631 [==============================] - 28s 8ms/step - loss: 0.1407 - accuracy: 0.9443 - val_loss: 0.4061 - val_accuracy: 0.8596\n",
            "Epoch 7/20\n",
            "3626/3631 [============================>.] - ETA: 0s - loss: 0.1111 - accuracy: 0.9573\n",
            "Epoch 7: saving model to best_model.h5\n",
            "3631/3631 [==============================] - 27s 8ms/step - loss: 0.1111 - accuracy: 0.9573 - val_loss: 0.5023 - val_accuracy: 0.8576\n",
            "Epoch 7: early stopping\n"
          ]
        }
      ]
    },
    {
      "cell_type": "code",
      "source": [
        "results = word2vec_LSTM_model.evaluate(x_test,  y_test, verbose=2)\n",
        "\n",
        "print(results)"
      ],
      "metadata": {
        "colab": {
          "base_uri": "https://localhost:8080/"
        },
        "id": "DUJxzJEWu2HH",
        "outputId": "d7cc8124-44cc-41c9-b5c2-9a7985c981a3"
      },
      "execution_count": null,
      "outputs": [
        {
          "output_type": "stream",
          "name": "stdout",
          "text": [
            "1537/1537 - 4s - loss: 0.4973 - accuracy: 0.8537 - 4s/epoch - 3ms/step\n",
            "[0.4972745180130005, 0.8536932468414307]\n"
          ]
        }
      ]
    },
    {
      "cell_type": "markdown",
      "source": [
        "##BiLSTM with Attention mechanism"
      ],
      "metadata": {
        "id": "4jLWlMus9Rq6"
      }
    },
    {
      "cell_type": "code",
      "source": [
        "x_train_tensor = tf.convert_to_tensor(x_train)\n",
        "y_train_tensor = tf.convert_to_tensor(y_train)\n",
        "x_val_tensor = tf.convert_to_tensor(x_val)\n",
        "y_val_tensor = tf.convert_to_tensor(y_val)"
      ],
      "metadata": {
        "id": "WwsK46SReXmJ"
      },
      "execution_count": null,
      "outputs": []
    },
    {
      "cell_type": "code",
      "source": [
        "BiLSTM_model.compile(loss='binary_crossentropy',\n",
        "                     optimizer='adam',\n",
        "                     metrics=['accuracy'])\n",
        "\n",
        "history = BiLSTM_model.fit(x_train_tensor, y_train_tensor,\n",
        "                           epochs = 3,\n",
        "                           batch_size = 256,\n",
        "                           validation_data = (x_val_tensor, y_val_tensor),\n",
        "                           verbose=1)"
      ],
      "metadata": {
        "colab": {
          "base_uri": "https://localhost:8080/"
        },
        "id": "ftpmRH5GDQPy",
        "outputId": "0d5d89a1-f511-43e8-a89a-df29a15e4c21"
      },
      "execution_count": null,
      "outputs": [
        {
          "output_type": "stream",
          "name": "stdout",
          "text": [
            "Epoch 1/3\n",
            "572/572 [==============================] - 246s 396ms/step - loss: 0.4117 - accuracy: 0.8200 - val_loss: 0.2981 - val_accuracy: 0.8749\n",
            "Epoch 2/3\n",
            "572/572 [==============================] - 243s 425ms/step - loss: 0.3303 - accuracy: 0.8639 - val_loss: 0.2684 - val_accuracy: 0.8868\n",
            "Epoch 3/3\n",
            "572/572 [==============================] - 217s 380ms/step - loss: 0.3001 - accuracy: 0.8773 - val_loss: 0.2381 - val_accuracy: 0.9009\n"
          ]
        }
      ]
    },
    {
      "cell_type": "code",
      "source": [
        "print(\"\\n 테스트 정확도: %.4f\" % (BiLSTM_model.evaluate(x_test, y_test)[1]))"
      ],
      "metadata": {
        "colab": {
          "base_uri": "https://localhost:8080/"
        },
        "id": "9FXuZQ8oDQR5",
        "outputId": "2cae90a3-da3c-4932-e89b-8d76a1169273"
      },
      "execution_count": null,
      "outputs": [
        {
          "output_type": "stream",
          "name": "stdout",
          "text": [
            "1537/1537 [==============================] - 76s 49ms/step - loss: 0.3260 - accuracy: 0.8600\n",
            "\n",
            " 테스트 정확도: 0.8600\n"
          ]
        }
      ]
    },
    {
      "cell_type": "code",
      "source": [
        "history_dict = history.history\n",
        "print(history_dict.keys()) "
      ],
      "metadata": {
        "colab": {
          "base_uri": "https://localhost:8080/"
        },
        "id": "Yk-pTJAM4_Lq",
        "outputId": "e057a791-5e3f-4c14-bbca-9d3431fe887d"
      },
      "execution_count": null,
      "outputs": [
        {
          "output_type": "stream",
          "name": "stdout",
          "text": [
            "dict_keys(['loss', 'accuracy', 'val_loss', 'val_accuracy'])\n"
          ]
        }
      ]
    },
    {
      "cell_type": "code",
      "source": [
        "import matplotlib.pyplot as plt\n",
        "\n",
        "acc = history_dict['accuracy']\n",
        "val_acc = history_dict['val_accuracy']\n",
        "loss = history_dict['loss']\n",
        "val_loss = history_dict['val_loss']\n",
        "\n",
        "epochs = range(1, len(acc) + 1)\n",
        "\n",
        "\n",
        "plt.plot(epochs, loss, 'bo', label='Training loss')\n",
        "plt.plot(epochs, val_loss, 'b', label='Validation loss')\n",
        "plt.title('Training and validation loss')\n",
        "plt.xlabel('Epochs')\n",
        "plt.ylabel('Loss')\n",
        "plt.legend()\n",
        "\n",
        "plt.show()"
      ],
      "metadata": {
        "colab": {
          "base_uri": "https://localhost:8080/",
          "height": 295
        },
        "id": "OCZ2tikK4_OP",
        "outputId": "68d0be7f-60ae-496a-c310-d1bd6fe7b760"
      },
      "execution_count": null,
      "outputs": [
        {
          "output_type": "display_data",
          "data": {
            "text/plain": [
              "<Figure size 432x288 with 1 Axes>"
            ],
            "image/png": "[encoded data removed]"
          },
          "metadata": {
            "needs_background": "light"
          }
        }
      ]
    },
    {
      "cell_type": "code",
      "source": [
        "plt.clf()   \n",
        "\n",
        "plt.plot(epochs, acc, 'bo', label='Training acc')\n",
        "plt.plot(epochs, val_acc, 'b', label='Validation acc')\n",
        "plt.title('Training and validation accuracy')\n",
        "plt.xlabel('Epochs')\n",
        "plt.ylabel('Accuracy')\n",
        "plt.legend()\n",
        "\n",
        "plt.show()"
      ],
      "metadata": {
        "colab": {
          "base_uri": "https://localhost:8080/",
          "height": 295
        },
        "id": "I-CAWlFj4_Q5",
        "outputId": "f35bcd31-d255-49d8-8988-00428ccbc1d5"
      },
      "execution_count": null,
      "outputs": [
        {
          "output_type": "display_data",
          "data": {
            "text/plain": [
              "<Figure size 432x288 with 1 Axes>"
            ],
            "image/png": "[encoded data removed]"
          },
          "metadata": {
            "needs_background": "light"
          }
        }
      ]
    },
    {
      "cell_type": "markdown",
      "source": [
        "##Transformer"
      ],
      "metadata": {
        "id": "4yMwR_T096BK"
      }
    },
    {
      "cell_type": "code",
      "source": [
        "x_train_tensor = tf.convert_to_tensor(x_train)\n",
        "y_train_tensor = tf.convert_to_tensor(y_train)\n",
        "x_val_tensor = tf.convert_to_tensor(x_val)\n",
        "y_val_tensor = tf.convert_to_tensor(y_val)"
      ],
      "metadata": {
        "id": "HFIqlLvWgoGa"
      },
      "execution_count": null,
      "outputs": []
    },
    {
      "cell_type": "code",
      "source": [
        "Transformer_model.compile(\"adam\",\n",
        "                          \"sparse_categorical_crossentropy\",\n",
        "                          metrics=[\"accuracy\"])\n",
        "\n",
        "history = Transformer_model.fit(x_train_tensor,\n",
        "                                y_train_tensor,\n",
        "                                batch_size=32,\n",
        "                                epochs=3,\n",
        "                                validation_data = (x_val_tensor, y_val_tensor))"
      ],
      "metadata": {
        "colab": {
          "base_uri": "https://localhost:8080/"
        },
        "id": "oWLAGZX7Cep5",
        "outputId": "bdd65969-2ad0-411a-f58f-54c52889486a"
      },
      "execution_count": null,
      "outputs": [
        {
          "output_type": "stream",
          "name": "stdout",
          "text": [
            "Epoch 1/3\n",
            "4569/4569 [==============================] - 44s 9ms/step - loss: 0.3826 - accuracy: 0.8265 - val_loss: 0.3245 - val_accuracy: 0.8552\n",
            "Epoch 2/3\n",
            "4569/4569 [==============================] - 42s 9ms/step - loss: 0.3244 - accuracy: 0.8580 - val_loss: 0.2830 - val_accuracy: 0.8766\n",
            "Epoch 3/3\n",
            "4569/4569 [==============================] - 42s 9ms/step - loss: 0.3057 - accuracy: 0.8661 - val_loss: 0.2681 - val_accuracy: 0.8821\n"
          ]
        }
      ]
    },
    {
      "cell_type": "code",
      "source": [
        "print(\"테스트 정확도: %.4f\" % (Transformer_model.evaluate(x_test, y_test)[1]))"
      ],
      "metadata": {
        "colab": {
          "base_uri": "https://localhost:8080/"
        },
        "id": "pT7RlR9o96HL",
        "outputId": "53a4af01-686f-4775-e54a-753e1d48509b"
      },
      "execution_count": null,
      "outputs": [
        {
          "output_type": "stream",
          "name": "stdout",
          "text": [
            "1537/1537 [==============================] - 7s 5ms/step - loss: 0.3573 - accuracy: 0.8484\n",
            "테스트 정확도: 0.8484\n"
          ]
        }
      ]
    },
    {
      "cell_type": "code",
      "source": [
        "history_dict = history.history\n",
        "print(history_dict.keys()) "
      ],
      "metadata": {
        "colab": {
          "base_uri": "https://localhost:8080/"
        },
        "id": "TEWoAbQ35XjQ",
        "outputId": "34bc3898-806c-48e3-da48-a46fea3c94e3"
      },
      "execution_count": null,
      "outputs": [
        {
          "output_type": "stream",
          "name": "stdout",
          "text": [
            "dict_keys(['loss', 'accuracy', 'val_loss', 'val_accuracy'])\n"
          ]
        }
      ]
    },
    {
      "cell_type": "code",
      "source": [
        "import matplotlib.pyplot as plt\n",
        "\n",
        "acc = history_dict['accuracy']\n",
        "val_acc = history_dict['val_accuracy']\n",
        "loss = history_dict['loss']\n",
        "val_loss = history_dict['val_loss']\n",
        "\n",
        "epochs = range(1, len(acc) + 1)\n",
        "\n",
        "\n",
        "plt.plot(epochs, loss, 'bo', label='Training loss')\n",
        "plt.plot(epochs, val_loss, 'b', label='Validation loss')\n",
        "plt.title('Training and validation loss')\n",
        "plt.xlabel('Epochs')\n",
        "plt.ylabel('Loss')\n",
        "plt.legend()\n",
        "\n",
        "plt.show()"
      ],
      "metadata": {
        "colab": {
          "base_uri": "https://localhost:8080/",
          "height": 295
        },
        "id": "LaVrNW1R5Xlt",
        "outputId": "f4d62751-81d4-46cf-9664-c7bbe457294d"
      },
      "execution_count": null,
      "outputs": [
        {
          "output_type": "display_data",
          "data": {
            "text/plain": [
              "<Figure size 432x288 with 1 Axes>"
            ],
            "image/png": "[encoded data removed]"
          },
          "metadata": {
            "needs_background": "light"
          }
        }
      ]
    },
    {
      "cell_type": "code",
      "source": [
        "plt.clf()   \n",
        "\n",
        "plt.plot(epochs, acc, 'bo', label='Training acc')\n",
        "plt.plot(epochs, val_acc, 'b', label='Validation acc')\n",
        "plt.title('Training and validation accuracy')\n",
        "plt.xlabel('Epochs')\n",
        "plt.ylabel('Accuracy')\n",
        "plt.legend()\n",
        "\n",
        "plt.show()"
      ],
      "metadata": {
        "colab": {
          "base_uri": "https://localhost:8080/",
          "height": 295
        },
        "id": "p9TfP9U85Xn9",
        "outputId": "5cbd03fa-71dd-498f-8d7c-a06e06e24cfb"
      },
      "execution_count": null,
      "outputs": [
        {
          "output_type": "display_data",
          "data": {
            "text/plain": [
              "<Figure size 432x288 with 1 Axes>"
            ],
            "image/png": "[encoded data removed]"
          },
          "metadata": {
            "needs_background": "light"
          }
        }
      ]
    },
    {
      "cell_type": "markdown",
      "source": [
        "#결론"
      ],
      "metadata": {
        "id": "xJ6L_ls6-lJz"
      }
    },
    {
      "cell_type": "markdown",
      "source": [
        "**Text Classification 모델 분석**"
      ],
      "metadata": {
        "id": "wOIgfw-pI3mp"
      }
    },
    {
      "cell_type": "markdown",
      "source": [
        "* LSTM 모델\n",
        "<br/>train_loss: 0.1634 - train_accuracy: 0.9351\n",
        "<br/>val_loss: 0.4528 - val_accuracy: 0.8515\n",
        "<br/>test_loss: 0.4591 - test_accuracy: 0.8469\n"
      ],
      "metadata": {
        "id": "P4JxAo5b-mtz"
      }
    },
    {
      "cell_type": "markdown",
      "source": [
        "* 한국어 Word2Vec을 활용한 LSTM 모델\n",
        "<br/>train_loss: 0.1111 - train_accuracy: 0.9573\n",
        "<br/>val_loss: 0.5023 - val_accuracy: 0.8576\n",
        "<br/>test_loss: 0.4973 - test_accuracy: 0.8537"
      ],
      "metadata": {
        "id": "430aORYQBu8p"
      }
    },
    {
      "cell_type": "markdown",
      "source": [
        "\n",
        "* 양방향 LSTM과 어텐션 메커니즘을 결합한 모델\n",
        "<br/>train_loss: 0.3001 - train_accuracy: 0.8773\n",
        "<br/>val_loss: 0.2381 - val_accuracy: 0.9009\n",
        "<br/>test_loss: 0.3260 - test_accuracy: 0.8600"
      ],
      "metadata": {
        "id": "Llk1-k1ZBwb-"
      }
    },
    {
      "cell_type": "markdown",
      "source": [
        "* 트랜스포머 모델\n",
        "<br/>train_loss: 0.3057 - train_accuracy: 0.8661\n",
        "<br/>val_loss: 0.2681 - val_accuracy: 0.8821\n",
        "<br/>test_loss: 0.3573 - test_accuracy: 0.8484"
      ],
      "metadata": {
        "id": "EqtzdNZdBy3f"
      }
    },
    {
      "cell_type": "markdown",
      "source": [
        "양방향 LSTM과 어텐션 메커니즘을 결합한 모델은 가장 성능이 높고\n",
        "<br/>과적합 문제가 2번째로 적은 편이다."
      ],
      "metadata": {
        "id": "3-pLFQrAHx_W"
      }
    },
    {
      "cell_type": "markdown",
      "source": [
        "**자체학습한 임베딩과 사전학습 임베딩 레이어 분석**"
      ],
      "metadata": {
        "id": "5XjgWdtkIqem"
      }
    },
    {
      "cell_type": "markdown",
      "source": [
        "* 자체 학습된 임베딩 레이어\n",
        "<br/>'동의'와 가장 유사성이 높은 단어는\n",
        "<br/>'말리, '거기', '파탄', '어줍잖', '의도', '걸친', '압축', '끔찍', '어째', '평이'이다."
      ],
      "metadata": {
        "id": "6b-m1NNiGfL2"
      }
    },
    {
      "cell_type": "markdown",
      "source": [
        "* 사전학습 한국어 Word2Vec 임베딩 레이어\n",
        "<br/>'동의'와 가장 유사성이 높은 단어는\n",
        "<br/>'찬성', '양해', '찬동', '협의', '합의', '승낙', '승인', '반대', '통지', '협조'이다.\n"
      ],
      "metadata": {
        "id": "4aeEUmdaJNj2"
      }
    },
    {
      "cell_type": "markdown",
      "source": [
        "모델에 의해 예측된 유사어와 실제 유사어의 의미를 고려했을 때\n",
        "<br/>사전학습된 한국어 Word2Vec 임베딩 레이어 모델이 성능이 더 높은 것으로 보인다."
      ],
      "metadata": {
        "id": "BuSUEt0hJax2"
      }
    },
    {
      "cell_type": "markdown",
      "source": [
        "#참고문헌"
      ],
      "metadata": {
        "id": "jc1kDGM1-iIL"
      }
    },
    {
      "cell_type": "markdown",
      "source": [
        "**단행본**\n",
        "<br/>전창욱, 최태균, 조중현, 신성진, 『텐서플로2와 머신러닝으로 시작하는 자연어 처리』, 위키북스, 2020.\n",
        "<br/>[자연어 처리 예제 저장소](https://github.com/NLP-kr/tensorflow-ml-nlp-tf2)\n",
        "<br/><br/>이기창, 『한국어 임베딩』, 에이콘출판사, 2019.\n",
        "<br/>[한국어 임베딩 관련 튜토리얼 페이지](https://ratsgo.github.io/embedding/)\n",
        "<br/>[RNN과 LSTM을 이해해보자!](https://ratsgo.github.io/natural%20language%20processing/2017/03/09/rnnlstm/)\n",
        "<br/><br/>비슈누 수브라마니안 저, PyTorch로 시작하는 딥 러닝 입문, 김태완 옮긴이, 에이콘출판사, 2019\n",
        "<br/>[IMDB 리뷰 감성 분류하기(IMDB Movie Review Sentiment Analysis)](https://wikidocs.net/60691)\n",
        "<br/><br/>유원준 외 1명, 딥러닝을 이용한 자연어 처리 입문, wikidocs, 2022\n",
        "<br/>[어텐션 메커니즘 (Attention Mechanism)](https://wikidocs.net/22893)\n",
        "<br/>[양방향 LSTM과 어텐션 메커니즘(BiLSTM with Attention mechanism](https://wikidocs.net/48920)\n",
        "<br/>[트랜스포머(Transformer)](https://wikidocs.net/31379)\n",
        "<br/>[셀프 어텐션을 이용한 텍스트 분류(Multi-head Self Attention for Text Classification)](https://wikidocs.net/103802)\n",
        "<br/><br/>사이토 고키 저, 밑바닥부터 시작하는 딥러닝2, 개앞맵시 옮긴이, 2019, 한빛미디어\n",
        "<br/>[Ch 08 어텐션 (2) 양방향 LSTM](https://wegonnamakeit.tistory.com/25)\n",
        "\n",
        "<br/>**논문**\n",
        "<br/>[박은정, 조성준, 「KoNLPy: 쉽고 간결한 한국어 정보처리 파이썬 패키지”, 제 26회 한글 및 한국어 정보처리 학술대회 논문집」, 2014.](https://scienceon.kisti.re.kr/srch/selectPORSrchArticle.do?cn=NPAP12013363&dbt=NPAP)\n",
        "\n",
        "<br/>**공식 사이트**\n",
        "<br/>[은전한닢 프로젝트 : mecab-ko-dic](https://bitbucket.org/eunjeon/mecab-ko-dic/src/master/)\n",
        "<br/>[은전한닢 프로젝트를 소개합니다](http://eunjeon.blogspot.com/2013/02/blog-post.html)\n",
        "<br/>[케라스 코리아 : 초기화 함수 사용법Usage of initializers](https://github.com/keras-team/keras-docs-ko/blob/master/sources/initializers.md)\n",
        "<br/>[genism : What is Gensim?](https://radimrehurek.com/gensim/intro.html)\n",
        "<br/>[genism : models.keyedvectors](https://radimrehurek.com/gensim/models/keyedvectors.html)\n",
        "<br/>[Naver D2 : Data Loader, Better, Faster, Stronger](https://d2.naver.com/helloworld/3773258)\n",
        "\n",
        "<br/>**깃허브**\n",
        "<br/>[03.01.02 KoNLPy 한국어 처리 패키지.ipynb](https://github.com/datascienceschool/book/blob/master/ds/03%20machine%20learning/03.01.02%20KoNLPy%20%ED%95%9C%EA%B5%AD%EC%96%B4%20%EC%B2%98%EB%A6%AC%20%ED%8C%A8%ED%82%A4%EC%A7%80.ipynb)\n",
        "\n",
        "<br/>**웹사이트**\n",
        "<br/>[ML Tensorflow 와 Keras 간단 비교](https://wooono.tistory.com/77)\n",
        "<br/>[Tensorflow와 Keras의 관계](https://89douner.tistory.com/279)\n",
        "<br/>[케라스 콜백 함수. EarlyStopping. ModelCheckpoint](https://m.blog.naver.com/PostView.naver?isHttpsRedirect=true&blogId=baek2sm&logNo=222013688414)\n",
        "<br/>[Python 모듈 버전 확인](https://www.delftstack.com/ko/howto/python/module-version-python/)\n",
        "<br/>[한글 토크나이징 라이브러리](https://monetd.github.io/python/nlp/%ED%95%9C%EA%B8%80-%ED%86%A0%ED%81%AC%EB%82%98%EC%9D%B4%EC%A7%95-%EB%9D%BC%EC%9D%B4%EB%B8%8C%EB%9F%AC%EB%A6%AC/)\n",
        "<br/>[한국어 형태소 분석기 비교 (지도학습기반)](https://www.blog.cosadama.com/articles/2021-practicenlp-01/)\n",
        "<br/>[Colab에서 Mecab 사용하기](https://sosomemo.tistory.com/72)\n",
        "<br/>[Mac OS 자연어처리를 위한 패키지 설치 - MeCab, KoNLPy, eKoNLPy](https://m.blog.naver.com/PostView.naver?isHttpsRedirect=true&blogId=yejin7676&logNo=222024761669)\n",
        "<br/>[MeCab를 이용한 한국어 형태소 분석](https://porocise.sakura.ne.jp/wiki/korean/mecab.ko)\n",
        "<br/>[형태소 분석 '은전한닢' 프로젝트와 MeCab(메카브)](https://eond.com/seo/361286)\n",
        "<br/>[패키지 설치 방법 윈도우10(Window10)에서 Mecab 형태소 분석기를 설치하고 사용하는 방법 (feat. 파이썬)](https://doitgrow.com/39)\n",
        "<br/>[\"JDK란 무엇인가\" 자바 개발 키트 소개와 설치하기](https://www.itworld.co.kr/news/110817)\n",
        "<br/>[Python JPype로 Java 라이브러리 가져다 쓰기](https://oboki.net/workspace/python/jpype%EB%A1%9C-java-%EB%9D%BC%EC%9D%B4%EB%B8%8C%EB%9F%AC%EB%A6%AC-%EA%B0%80%EC%A0%B8%EB%8B%A4-%EC%93%B0%EA%B8%B0/)\n",
        "<br/>[MeCab 형태소 분석기](https://euriion.com/?p=413074)\n",
        "<br/>[NODE JS mecab-ko 특정 품사의 단어들을 추출](https://teeeeeeemo.tistory.com/27)\n",
        "<br/>[노리(Nori) 형태소 분석기 Deep Dive](https://gritmind.blog/2020/07/22/nori_deep_dive/)\n",
        "<br/>[Large Movie Review Dataset](https://ai.stanford.edu/~amaas/data/sentiment/)\n",
        "<br/>[한국어 형태소 분석기(POS) 분석 - 1편. 역사](https://velog.io/@metterian/%ED%95%9C%EA%B5%AD%EC%96%B4-%ED%98%95%ED%83%9C%EC%86%8C-%EB%B6%84%EC%84%9D%EA%B8%B0POS-%EB%B6%84%EC%84%9D-%EB%B0%8F-%EC%B0%A8%EC%9D%B4%EC%A0%90-1%ED%8E%B8.-%EC%97%AD%EC%82%AC)\n",
        "<br/>[한국어 형태소 분석기(POS) 분석 - 3편. 형태소 분석기 비교](https://velog.io/@metterian/%ED%95%9C%EA%B5%AD%EC%96%B4-%ED%98%95%ED%83%9C%EC%86%8C-%EB%B6%84%EC%84%9D%EA%B8%B0POS-%EB%B6%84%EC%84%9D-3%ED%8E%B8.-%ED%98%95%ED%83%9C%EC%86%8C-%EB%B6%84%EC%84%9D%EA%B8%B0-%EB%B9%84%EA%B5%90)\n",
        "<br/>[쿼리(query)란 무엇인가?](https://hengbokhan.tistory.com/133)\n",
        "<br/>[파이썬 - 기본을 갈고 닦자! : for in 반복문, Range, enumerate](https://wikidocs.net/16045)\n",
        "<br/>[How to convert a numpy array to tensor](https://www.projectpro.io/recipes/convert-numpy-array-tensor)\n",
        "<br/>[자연어처리, 워드임베딩 (Word2Vec, FastText , GloVe 예제)(2)](https://jh2021.tistory.com/6)"
      ],
      "metadata": {
        "id": "BD2GF53p-nJC"
      }
    }
  ]
}