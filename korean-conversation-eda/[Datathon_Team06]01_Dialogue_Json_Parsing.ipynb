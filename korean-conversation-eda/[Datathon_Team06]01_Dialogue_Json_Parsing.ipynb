{
  "nbformat": 4,
  "nbformat_minor": 0,
  "metadata": {
    "colab": {
      "name": "[Datathon_Team06]01_Dialogue_Json_Parsing.ipynb",
      "provenance": [],
      "collapsed_sections": [],
      "machine_shape": "hm",
      "toc_visible": true
    },
    "kernelspec": {
      "name": "python3",
      "display_name": "Python 3"
    },
    "language_info": {
      "name": "python"
    },
    "accelerator": "GPU"
  },
  "cells": [
    {
      "cell_type": "markdown",
      "source": [
        "#데이터톤"
      ],
      "metadata": {
        "id": "oarfGxS2keBv"
      }
    },
    {
      "cell_type": "markdown",
      "source": [
        "[\"훈민정음에 스며들다\"-대화요약 역량평가](https://dacon.io/competitions/official/235818/overview/description)\n",
        "<br/>[AI HUB 한국어 대화 요약](https://aihub.or.kr/aidata/30714)\n",
        "\n"
      ],
      "metadata": {
        "id": "hyO2tbLs2REw"
      }
    },
    {
      "cell_type": "markdown",
      "source": [
        "개발 환경\n",
        "<br/>데이터 정보\n",
        "<br/>Json Parsing\n",
        "<br/>CSV 변환\n",
        "<br/>참고문헌\n"
      ],
      "metadata": {
        "id": "jsCVTgMfykTR"
      }
    },
    {
      "cell_type": "markdown",
      "source": [
        "#개발 환경"
      ],
      "metadata": {
        "id": "J1ZvfFXYykWY"
      }
    },
    {
      "cell_type": "code",
      "execution_count": null,
      "metadata": {
        "id": "fgHFnhlLjzBN"
      },
      "outputs": [],
      "source": [
        "gpu_info = !nvidia-smi\n",
        "gpu_info = '\\n'.join(gpu_info)\n",
        "if gpu_info.find('failed') >= 0:\n",
        "  print('Not connected to a GPU')\n",
        "else:\n",
        "  print(gpu_info)"
      ]
    },
    {
      "cell_type": "code",
      "source": [
        "from psutil import virtual_memory\n",
        "ram_gb = virtual_memory().total / 1e9\n",
        "print('Your runtime has {:.1f} gigabytes of available RAM\\n'.format(ram_gb))\n",
        "\n",
        "if ram_gb < 20:\n",
        "  print('Not using a high-RAM runtime')\n",
        "else:\n",
        "  print('You are using a high-RAM runtime!')"
      ],
      "metadata": {
        "id": "RJU5Tbe4kdGl"
      },
      "execution_count": null,
      "outputs": []
    },
    {
      "cell_type": "code",
      "source": [
        "from google.colab import drive\n",
        "drive.mount('/content/drive')"
      ],
      "metadata": {
        "id": "HQoFvEexkdAt"
      },
      "execution_count": null,
      "outputs": []
    },
    {
      "cell_type": "code",
      "source": [
        "import pandas as pd\n",
        "import json"
      ],
      "metadata": {
        "id": "2QhyoZUlnHly"
      },
      "execution_count": null,
      "outputs": []
    },
    {
      "cell_type": "markdown",
      "source": [
        "JSON은 Key-value를 양식을 가지는 텍스트 파일로 인터넷 상의 서버-클라이언트의 데이터 교환에 사용된다. \n",
        "<br/>Python에서는 json 모듈을 지원하고 있으면 인코딩/디코딩을 지원하고 있고, JSON 데이터와 Python 데이터는 1:1로 맵핑되어 사용하기 쉽다."
      ],
      "metadata": {
        "id": "0b0eJVl5x_1i"
      }
    },
    {
      "cell_type": "markdown",
      "source": [
        "JSON(JavaScript Object Notation)은 속성-값 쌍(attribute–value pairs and array data types (or any other serializable value))\n",
        "<br/>또는 \"키-값 쌍\"으로 이루어진 데이터 오브젝트를 전달하기 위해 인간이 읽을 수 있는 텍스트를 사용하는 개방형 표준 포맷입니다.\n",
        "<br/>비동기 브라우저/서버 통신 (AJAX)을 위해, 넓게는 XML(AJAX가 사용)을 대체하는 주요 데이터 포맷이다."
      ],
      "metadata": {
        "id": "LGCYLxO7tEUL"
      }
    },
    {
      "cell_type": "markdown",
      "source": [
        "#데이터 정보"
      ],
      "metadata": {
        "id": "k7NUPJoXnJ12"
      }
    },
    {
      "cell_type": "code",
      "source": [
        "event_json_path = '/content/drive/MyDrive/Dataton/kor_sum_train/행사.json'\n",
        "\n",
        "with open(event_json_path, 'r') as event_json_file:\n",
        "  event_json_sample = json.load(event_json_file)"
      ],
      "metadata": {
        "id": "gFCBnr63j2a2"
      },
      "execution_count": null,
      "outputs": []
    },
    {
      "cell_type": "markdown",
      "source": [
        "한국어 대화 요약 데이터는 크라우드 소싱을 통해 수집한 35만 건이다.\n",
        "<br/>크라우드 워커에 의해 대화 조각을 기준에 맞게 나누고\n",
        "<br/>비식별화를 수행한 데이터는 이후 가공 과정을 통해 메타 정보와 요약문을 어노테이션하였다."
      ],
      "metadata": {
        "id": "k5oA3rls2AYw"
      }
    },
    {
      "cell_type": "markdown",
      "source": [
        "(최소 4턴 이상의) 대화원문 + 요약문 35만건 (JSON파일, UTF-8 인코딩)\n",
        "<br/>오픈 도메인 일상대화주제로 구성 "
      ],
      "metadata": {
        "id": "Pfi8nXPMtFnx"
      }
    },
    {
      "cell_type": "markdown",
      "source": [
        "대화 텍스트는 문어 중심으로 개발된 기존의 자연어처리\n",
        "<br/>기술의 적용에 한계가 있어, 문어에 특화된 데이터셋의 구축이 필수적으로 요청된다.\n",
        "* 비대면 상황에서 컴퓨터를 매개로 하여 이루어지는 SNS 대화의 경우에도 구어적 속성\n",
        "* 문장 성분의 생략, 축약적 표현의 사용"
      ],
      "metadata": {
        "id": "i46P-RcrtmNR"
      }
    },
    {
      "cell_type": "markdown",
      "source": [
        "##대화 매체"
      ],
      "metadata": {
        "id": "Cg47f3t-4pQp"
      }
    },
    {
      "cell_type": "markdown",
      "source": [
        "본 과제의 원천 데이터는 대중들의 일상생활에서 가장 널리 쓰이는 카카오톡을 이용하여\n",
        "<br/>이루어진 대화 원문으로 선정하여 포괄성을 확보한다."
      ],
      "metadata": {
        "id": "wSnBWL7M4pMI"
      }
    },
    {
      "cell_type": "markdown",
      "source": [
        "원시데이터는 카카오톡에서 이루어진 대화를 “대화 내용 내보내기” - “텍스트 메시지만 보내기” 기능에 의해\n",
        "<br/>생성된 플레인 텍스트 파일 형태이다."
      ],
      "metadata": {
        "id": "7gg7pQ_A5DjQ"
      }
    },
    {
      "cell_type": "markdown",
      "source": [
        "**관련 연구**\n",
        "<br/>박일섭. 2019. 《메신저 대화 자료 수집 및 말뭉치 구축》. 국립국어원."
      ],
      "metadata": {
        "id": "lQZqJeGK4pOf"
      }
    },
    {
      "cell_type": "markdown",
      "source": [
        "##대화 분포"
      ],
      "metadata": {
        "id": "PZt9Jfuj4KfJ"
      }
    },
    {
      "cell_type": "markdown",
      "source": [
        "|대화 주제|빈도|분포|\n",
        "|------|---|---|\n",
        "|개인 및 관계|1,887|18.87%|\n",
        "|식음료|1,283|12.83%|\n",
        "|주거와 생활|1,242|12.42%|\n",
        "|상거래(쇼핑)|1,228|12.28%|\n",
        "|행사|1,150|11.50%|\n",
        "|여가 생활|1,066|10.66%|\n",
        "|미용과 건강|927 | 9.27%|\n",
        "|일과 직업|724|7.24%|\n",
        "|시사/교육|493|4.93%|\n",
        "|합계|10,000|100.00%|"
      ],
      "metadata": {
        "id": "33mjVLe30cQw"
      }
    },
    {
      "cell_type": "markdown",
      "source": [
        "그 중에서 행사.json 파일을 불러온다."
      ],
      "metadata": {
        "id": "ny0ZJuVutXOT"
      }
    },
    {
      "cell_type": "markdown",
      "source": [
        "대화 주제 분포에서 '행사'는 11.50%를 차지한다."
      ],
      "metadata": {
        "id": "H8JMM6Iv1pbX"
      }
    },
    {
      "cell_type": "markdown",
      "source": [
        "##대화 내용"
      ],
      "metadata": {
        "id": "Wzpiscjh4IVB"
      }
    },
    {
      "cell_type": "markdown",
      "source": [
        "일상 대화와 토론 대화에서는 다양한 주제가 다루어질 수 있는데\n",
        "<br/>본 과제에서는 최대한 다양한 내용을 담기 위해 \n",
        "<br/>기존 유사 사업에서 제시한 대화 주제 분류를 재분류하고 최대한 골고루 수집될 수 있도록 함"
      ],
      "metadata": {
        "id": "8U_xZ0f52AbP"
      }
    },
    {
      "cell_type": "markdown",
      "source": [
        "대분류 : 행사\n"
      ],
      "metadata": {
        "id": "snszWo533sYR"
      }
    },
    {
      "cell_type": "markdown",
      "source": [
        "소분류 : 초대, 방문, 소개팅, 약속, 가족 및 친척 행사, 공적 행사, 사적 모임(친목 모임),\n",
        "<br/>여행 장소 및 경로, 여행 계획(일정, 숙소, 교통편, 여행 경비), 여행팁, 기념품,\n",
        "여행사 및 여행 상품"
      ],
      "metadata": {
        "id": "X9ae-yop3ciY"
      }
    },
    {
      "cell_type": "markdown",
      "source": [
        "##데이터 포맷"
      ],
      "metadata": {
        "id": "r-JgBlX_zLcK"
      }
    },
    {
      "cell_type": "markdown",
      "source": [
        "{\n",
        "<br/>“header”: {\n",
        "<br/>“dialogueInfo”: {\n",
        "<br/>“dialogueID”: “D000001”,\n",
        "<br/>“numberOfParticipants”: 3,\n",
        "<br/>“numberOfUtterances”: 5,\n",
        "<br/>“numberOfTurns”: 2,\n",
        "<br/>“type”: “일상대화”,\n",
        "<br/>“topic”: “행사”\n",
        "<br/><br/>“participants”: [\n",
        "<br/>{\n",
        "<br/>“participantID”: “P1”,\n",
        "<br/>“gender”: “남”,\n",
        "<br/>“age”: “50대”,\n",
        "<br/>“residentialProvince”: “서울”\n",
        "<br/>},\n",
        "<br/><br/>...\n",
        "<br/><br/>]\n",
        "<br/>},\n",
        "<br/><br/>“body”: {\n",
        "<br/>“dialogue”: [\n",
        "<br/>{\n",
        "<br/>“utteranceID”: “U1”,\n",
        "<br/>“turnID”: “T1”\n",
        "<br/>“participantID”: “P1”,\n",
        "<br/>“date”: “2020-07-23”\n",
        "<br/>“time”: “10:52:02”,\n",
        "<br/>“utterance”: “내일이 #@이름# 엄마 생일임.”\n",
        "<br/>},\n",
        "<br/><br/>...\n",
        "<br/><br/>]\n",
        "<br/>“summary”: “엄마 생일을 맞아 모두 모여 외식할 수 있는 저녁 식사 시간을 정하고 있\n",
        "다.”\n",
        "<br/>}\n",
        "<br/>}"
      ],
      "metadata": {
        "id": "ZkdFCAoczN7R"
      }
    },
    {
      "cell_type": "code",
      "source": [
        "type(event_json_sample)"
      ],
      "metadata": {
        "colab": {
          "base_uri": "https://localhost:8080/"
        },
        "id": "Mr1idLcHj2dt",
        "outputId": "a6f660e4-c5ad-4e54-d5f5-7306847fc742"
      },
      "execution_count": null,
      "outputs": [
        {
          "output_type": "execute_result",
          "data": {
            "text/plain": [
              "dict"
            ]
          },
          "metadata": {},
          "execution_count": 7
        }
      ]
    },
    {
      "cell_type": "code",
      "source": [
        "event_json_sample.keys()"
      ],
      "metadata": {
        "colab": {
          "base_uri": "https://localhost:8080/"
        },
        "id": "QbWQYzNZj2id",
        "outputId": "3dfb50b3-30e1-4926-e663-ea76741761f0"
      },
      "execution_count": null,
      "outputs": [
        {
          "output_type": "execute_result",
          "data": {
            "text/plain": [
              "dict_keys(['numberOfItems', 'data'])"
            ]
          },
          "metadata": {},
          "execution_count": 8
        }
      ]
    },
    {
      "cell_type": "code",
      "source": [
        "for key in event_json_sample.keys():\n",
        "  print(key)"
      ],
      "metadata": {
        "colab": {
          "base_uri": "https://localhost:8080/"
        },
        "id": "Ex55KxFG3lMO",
        "outputId": "8b8493a5-4044-4fd5-b002-499ed1e6637c"
      },
      "execution_count": null,
      "outputs": [
        {
          "output_type": "stream",
          "name": "stdout",
          "text": [
            "numberOfItems\n",
            "data\n"
          ]
        }
      ]
    },
    {
      "cell_type": "code",
      "source": [
        "event_json_sample['numberOfItems']"
      ],
      "metadata": {
        "colab": {
          "base_uri": "https://localhost:8080/"
        },
        "id": "c4cU8XwaXRB6",
        "outputId": "6f48d622-bb9c-40a5-8c9c-b8366a0d4509"
      },
      "execution_count": null,
      "outputs": [
        {
          "output_type": "execute_result",
          "data": {
            "text/plain": [
              "20720"
            ]
          },
          "metadata": {},
          "execution_count": 12
        }
      ]
    },
    {
      "cell_type": "markdown",
      "source": [
        "numberOfItems은 대화의 순서(번호)"
      ],
      "metadata": {
        "id": "S5cs5r57uGsZ"
      }
    },
    {
      "cell_type": "markdown",
      "source": [
        "data는 각 대화"
      ],
      "metadata": {
        "id": "wJXyLVAuuKfp"
      }
    },
    {
      "cell_type": "code",
      "source": [
        "type(event_json_sample['numberOfItems'])"
      ],
      "metadata": {
        "colab": {
          "base_uri": "https://localhost:8080/"
        },
        "id": "YXtivEpJj2n9",
        "outputId": "6abbe5fe-428f-464a-b080-9c60c87ee85c"
      },
      "execution_count": null,
      "outputs": [
        {
          "output_type": "execute_result",
          "data": {
            "text/plain": [
              "int"
            ]
          },
          "metadata": {},
          "execution_count": 9
        }
      ]
    },
    {
      "cell_type": "code",
      "source": [
        "type(event_json_sample['data'])"
      ],
      "metadata": {
        "colab": {
          "base_uri": "https://localhost:8080/"
        },
        "id": "5Py-aR4Vj2qU",
        "outputId": "78002c2b-e4a4-4b5e-83dd-7b3d7e6be7b2"
      },
      "execution_count": null,
      "outputs": [
        {
          "output_type": "execute_result",
          "data": {
            "text/plain": [
              "list"
            ]
          },
          "metadata": {},
          "execution_count": 10
        }
      ]
    },
    {
      "cell_type": "code",
      "source": [
        "event_json_sample['data'][0].keys()"
      ],
      "metadata": {
        "colab": {
          "base_uri": "https://localhost:8080/"
        },
        "id": "J_aJkkwHj2tW",
        "outputId": "3be8dfa2-5b71-4040-ee5e-0e3a84512704"
      },
      "execution_count": null,
      "outputs": [
        {
          "output_type": "execute_result",
          "data": {
            "text/plain": [
              "dict_keys(['header', 'body'])"
            ]
          },
          "metadata": {},
          "execution_count": 11
        }
      ]
    },
    {
      "cell_type": "markdown",
      "source": [
        "data에서 header는 대화와 화자에 대한 정보"
      ],
      "metadata": {
        "id": "-XRo9WKcufAw"
      }
    },
    {
      "cell_type": "markdown",
      "source": [
        "body는 각 turn에 대한 정보"
      ],
      "metadata": {
        "id": "81MUalvPu14h"
      }
    },
    {
      "cell_type": "markdown",
      "source": [
        "#Json Parsing"
      ],
      "metadata": {
        "id": "8-H7IIUOrII0"
      }
    },
    {
      "cell_type": "code",
      "source": [
        "event_json_sample_dialogue_list = []"
      ],
      "metadata": {
        "id": "GwbUrmC1YpIc"
      },
      "execution_count": null,
      "outputs": []
    },
    {
      "cell_type": "code",
      "source": [
        "for i in event_json_sample['data'] :\n",
        "  event_json_sample_body = i['body']\n",
        "  for j in event_json_sample_body :\n",
        "    event_json_sample_dialogue = event_json_sample_body['dialogue']\n",
        "    event_json_sample_dialogue_list.append(event_json_sample_dialogue)"
      ],
      "metadata": {
        "id": "nqcPrXDTYiHy"
      },
      "execution_count": null,
      "outputs": []
    },
    {
      "cell_type": "code",
      "source": [
        "event_json_sample_dialogue_df = pd.DataFrame(event_json_sample_dialogue_list)"
      ],
      "metadata": {
        "id": "V0CWKaZlYFbS"
      },
      "execution_count": null,
      "outputs": []
    },
    {
      "cell_type": "code",
      "source": [
        "event_json_sample_dialogue_df[0:1]"
      ],
      "metadata": {
        "colab": {
          "base_uri": "https://localhost:8080/",
          "height": 261
        },
        "id": "UjfznZQPYvcq",
        "outputId": "d8291fe5-21d7-4d14-8283-6b9b072703c3"
      },
      "execution_count": null,
      "outputs": [
        {
          "output_type": "execute_result",
          "data": {
            "text/plain": [
              "                                                  0   \\\n",
              "0  {'utterance': '#@시스템#사진#', 'utteranceID': 'U1'...   \n",
              "\n",
              "                                                  1   \\\n",
              "0  {'utterance': '비행시간봐', 'utteranceID': 'U2', 'p...   \n",
              "\n",
              "                                                  2   \\\n",
              "0  {'utterance': '엄청나게 오래걸리네', 'utteranceID': 'U3...   \n",
              "\n",
              "                                                  3   \\\n",
              "0  {'utterance': 'ㅋㅋㅋㅋㅋㅋㅋㅋㅋㅋㅋ', 'utteranceID': 'U...   \n",
              "\n",
              "                                                  4   \\\n",
              "0  {'utterance': '비행기에서', 'utteranceID': 'U5', 'p...   \n",
              "\n",
              "                                                  5   \\\n",
              "0  {'utterance': '하루 잔다고 생각해', 'utteranceID': 'U6...   \n",
              "\n",
              "                                                  6   \\\n",
              "0  {'utterance': '그래 이때 아니면', 'utteranceID': 'U7'...   \n",
              "\n",
              "                                                  7   \\\n",
              "0  {'utterance': '언제 가보겠냐', 'utteranceID': 'U8', ...   \n",
              "\n",
              "                                                  8   \\\n",
              "0  {'utterance': '이번이 기회다', 'utteranceID': 'U9', ...   \n",
              "\n",
              "                                                  9   ...    20    21    22  \\\n",
              "0  {'utterance': '그래 바로 결제 고고!!', 'utteranceID': ...  ...  None  None  None   \n",
              "\n",
              "     23    24    25    26    27    28    29  \n",
              "0  None  None  None  None  None  None  None  \n",
              "\n",
              "[1 rows x 30 columns]"
            ],
            "text/html": [
              "\n",
              "  <div id=\"df-1d3d684e-2e59-4e60-aaa7-00636187ddfb\">\n",
              "    <div class=\"colab-df-container\">\n",
              "      <div>\n",
              "<style scoped>\n",
              "    .dataframe tbody tr th:only-of-type {\n",
              "        vertical-align: middle;\n",
              "    }\n",
              "\n",
              "    .dataframe tbody tr th {\n",
              "        vertical-align: top;\n",
              "    }\n",
              "\n",
              "    .dataframe thead th {\n",
              "        text-align: right;\n",
              "    }\n",
              "</style>\n",
              "<table border=\"1\" class=\"dataframe\">\n",
              "  <thead>\n",
              "    <tr style=\"text-align: right;\">\n",
              "      <th></th>\n",
              "      <th>0</th>\n",
              "      <th>1</th>\n",
              "      <th>2</th>\n",
              "      <th>3</th>\n",
              "      <th>4</th>\n",
              "      <th>5</th>\n",
              "      <th>6</th>\n",
              "      <th>7</th>\n",
              "      <th>8</th>\n",
              "      <th>9</th>\n",
              "      <th>...</th>\n",
              "      <th>20</th>\n",
              "      <th>21</th>\n",
              "      <th>22</th>\n",
              "      <th>23</th>\n",
              "      <th>24</th>\n",
              "      <th>25</th>\n",
              "      <th>26</th>\n",
              "      <th>27</th>\n",
              "      <th>28</th>\n",
              "      <th>29</th>\n",
              "    </tr>\n",
              "  </thead>\n",
              "  <tbody>\n",
              "    <tr>\n",
              "      <th>0</th>\n",
              "      <td>{'utterance': '#@시스템#사진#', 'utteranceID': 'U1'...</td>\n",
              "      <td>{'utterance': '비행시간봐', 'utteranceID': 'U2', 'p...</td>\n",
              "      <td>{'utterance': '엄청나게 오래걸리네', 'utteranceID': 'U3...</td>\n",
              "      <td>{'utterance': 'ㅋㅋㅋㅋㅋㅋㅋㅋㅋㅋㅋ', 'utteranceID': 'U...</td>\n",
              "      <td>{'utterance': '비행기에서', 'utteranceID': 'U5', 'p...</td>\n",
              "      <td>{'utterance': '하루 잔다고 생각해', 'utteranceID': 'U6...</td>\n",
              "      <td>{'utterance': '그래 이때 아니면', 'utteranceID': 'U7'...</td>\n",
              "      <td>{'utterance': '언제 가보겠냐', 'utteranceID': 'U8', ...</td>\n",
              "      <td>{'utterance': '이번이 기회다', 'utteranceID': 'U9', ...</td>\n",
              "      <td>{'utterance': '그래 바로 결제 고고!!', 'utteranceID': ...</td>\n",
              "      <td>...</td>\n",
              "      <td>None</td>\n",
              "      <td>None</td>\n",
              "      <td>None</td>\n",
              "      <td>None</td>\n",
              "      <td>None</td>\n",
              "      <td>None</td>\n",
              "      <td>None</td>\n",
              "      <td>None</td>\n",
              "      <td>None</td>\n",
              "      <td>None</td>\n",
              "    </tr>\n",
              "  </tbody>\n",
              "</table>\n",
              "<p>1 rows × 30 columns</p>\n",
              "</div>\n",
              "      <button class=\"colab-df-convert\" onclick=\"convertToInteractive('df-1d3d684e-2e59-4e60-aaa7-00636187ddfb')\"\n",
              "              title=\"Convert this dataframe to an interactive table.\"\n",
              "              style=\"display:none;\">\n",
              "        \n",
              "  <svg xmlns=\"http://www.w3.org/2000/svg\" height=\"24px\"viewBox=\"0 0 24 24\"\n",
              "       width=\"24px\">\n",
              "    <path d=\"M0 0h24v24H0V0z\" fill=\"none\"/>\n",
              "    <path d=\"M18.56 5.44l.94 2.06.94-2.06 2.06-.94-2.06-.94-.94-2.06-.94 2.06-2.06.94zm-11 1L8.5 8.5l.94-2.06 2.06-.94-2.06-.94L8.5 2.5l-.94 2.06-2.06.94zm10 10l.94 2.06.94-2.06 2.06-.94-2.06-.94-.94-2.06-.94 2.06-2.06.94z\"/><path d=\"M17.41 7.96l-1.37-1.37c-.4-.4-.92-.59-1.43-.59-.52 0-1.04.2-1.43.59L10.3 9.45l-7.72 7.72c-.78.78-.78 2.05 0 2.83L4 21.41c.39.39.9.59 1.41.59.51 0 1.02-.2 1.41-.59l7.78-7.78 2.81-2.81c.8-.78.8-2.07 0-2.86zM5.41 20L4 18.59l7.72-7.72 1.47 1.35L5.41 20z\"/>\n",
              "  </svg>\n",
              "      </button>\n",
              "      \n",
              "  <style>\n",
              "    .colab-df-container {\n",
              "      display:flex;\n",
              "      flex-wrap:wrap;\n",
              "      gap: 12px;\n",
              "    }\n",
              "\n",
              "    .colab-df-convert {\n",
              "      background-color: #E8F0FE;\n",
              "      border: none;\n",
              "      border-radius: 50%;\n",
              "      cursor: pointer;\n",
              "      display: none;\n",
              "      fill: #1967D2;\n",
              "      height: 32px;\n",
              "      padding: 0 0 0 0;\n",
              "      width: 32px;\n",
              "    }\n",
              "\n",
              "    .colab-df-convert:hover {\n",
              "      background-color: #E2EBFA;\n",
              "      box-shadow: 0px 1px 2px rgba(60, 64, 67, 0.3), 0px 1px 3px 1px rgba(60, 64, 67, 0.15);\n",
              "      fill: #174EA6;\n",
              "    }\n",
              "\n",
              "    [theme=dark] .colab-df-convert {\n",
              "      background-color: #3B4455;\n",
              "      fill: #D2E3FC;\n",
              "    }\n",
              "\n",
              "    [theme=dark] .colab-df-convert:hover {\n",
              "      background-color: #434B5C;\n",
              "      box-shadow: 0px 1px 3px 1px rgba(0, 0, 0, 0.15);\n",
              "      filter: drop-shadow(0px 1px 2px rgba(0, 0, 0, 0.3));\n",
              "      fill: #FFFFFF;\n",
              "    }\n",
              "  </style>\n",
              "\n",
              "      <script>\n",
              "        const buttonEl =\n",
              "          document.querySelector('#df-1d3d684e-2e59-4e60-aaa7-00636187ddfb button.colab-df-convert');\n",
              "        buttonEl.style.display =\n",
              "          google.colab.kernel.accessAllowed ? 'block' : 'none';\n",
              "\n",
              "        async function convertToInteractive(key) {\n",
              "          const element = document.querySelector('#df-1d3d684e-2e59-4e60-aaa7-00636187ddfb');\n",
              "          const dataTable =\n",
              "            await google.colab.kernel.invokeFunction('convertToInteractive',\n",
              "                                                     [key], {});\n",
              "          if (!dataTable) return;\n",
              "\n",
              "          const docLinkHtml = 'Like what you see? Visit the ' +\n",
              "            '<a target=\"_blank\" href=https://colab.research.google.com/notebooks/data_table.ipynb>data table notebook</a>'\n",
              "            + ' to learn more about interactive tables.';\n",
              "          element.innerHTML = '';\n",
              "          dataTable['output_type'] = 'display_data';\n",
              "          await google.colab.output.renderOutput(dataTable, element);\n",
              "          const docLink = document.createElement('div');\n",
              "          docLink.innerHTML = docLinkHtml;\n",
              "          element.appendChild(docLink);\n",
              "        }\n",
              "      </script>\n",
              "    </div>\n",
              "  </div>\n",
              "  "
            ]
          },
          "metadata": {},
          "execution_count": 22
        }
      ]
    },
    {
      "cell_type": "code",
      "source": [
        "event_json_sample_dialogue_df2 = event_json_sample_dialogue_df.iloc[::2,:]"
      ],
      "metadata": {
        "id": "Q9NaCEjCZRmC"
      },
      "execution_count": null,
      "outputs": []
    },
    {
      "cell_type": "code",
      "source": [
        "event_json_sample_dialogue_df2[:1]"
      ],
      "metadata": {
        "colab": {
          "base_uri": "https://localhost:8080/",
          "height": 261
        },
        "id": "EKfGvVQrZVE6",
        "outputId": "f52c58ea-a65c-4fb3-aa2c-8c32c5a43684"
      },
      "execution_count": null,
      "outputs": [
        {
          "output_type": "execute_result",
          "data": {
            "text/plain": [
              "                                                  0   \\\n",
              "0  {'utterance': '#@시스템#사진#', 'utteranceID': 'U1'...   \n",
              "\n",
              "                                                  1   \\\n",
              "0  {'utterance': '비행시간봐', 'utteranceID': 'U2', 'p...   \n",
              "\n",
              "                                                  2   \\\n",
              "0  {'utterance': '엄청나게 오래걸리네', 'utteranceID': 'U3...   \n",
              "\n",
              "                                                  3   \\\n",
              "0  {'utterance': 'ㅋㅋㅋㅋㅋㅋㅋㅋㅋㅋㅋ', 'utteranceID': 'U...   \n",
              "\n",
              "                                                  4   \\\n",
              "0  {'utterance': '비행기에서', 'utteranceID': 'U5', 'p...   \n",
              "\n",
              "                                                  5   \\\n",
              "0  {'utterance': '하루 잔다고 생각해', 'utteranceID': 'U6...   \n",
              "\n",
              "                                                  6   \\\n",
              "0  {'utterance': '그래 이때 아니면', 'utteranceID': 'U7'...   \n",
              "\n",
              "                                                  7   \\\n",
              "0  {'utterance': '언제 가보겠냐', 'utteranceID': 'U8', ...   \n",
              "\n",
              "                                                  8   \\\n",
              "0  {'utterance': '이번이 기회다', 'utteranceID': 'U9', ...   \n",
              "\n",
              "                                                  9   ...    20    21    22  \\\n",
              "0  {'utterance': '그래 바로 결제 고고!!', 'utteranceID': ...  ...  None  None  None   \n",
              "\n",
              "     23    24    25    26    27    28    29  \n",
              "0  None  None  None  None  None  None  None  \n",
              "\n",
              "[1 rows x 30 columns]"
            ],
            "text/html": [
              "\n",
              "  <div id=\"df-6b49fe18-64a0-4d71-a044-e0bfdb7c7117\">\n",
              "    <div class=\"colab-df-container\">\n",
              "      <div>\n",
              "<style scoped>\n",
              "    .dataframe tbody tr th:only-of-type {\n",
              "        vertical-align: middle;\n",
              "    }\n",
              "\n",
              "    .dataframe tbody tr th {\n",
              "        vertical-align: top;\n",
              "    }\n",
              "\n",
              "    .dataframe thead th {\n",
              "        text-align: right;\n",
              "    }\n",
              "</style>\n",
              "<table border=\"1\" class=\"dataframe\">\n",
              "  <thead>\n",
              "    <tr style=\"text-align: right;\">\n",
              "      <th></th>\n",
              "      <th>0</th>\n",
              "      <th>1</th>\n",
              "      <th>2</th>\n",
              "      <th>3</th>\n",
              "      <th>4</th>\n",
              "      <th>5</th>\n",
              "      <th>6</th>\n",
              "      <th>7</th>\n",
              "      <th>8</th>\n",
              "      <th>9</th>\n",
              "      <th>...</th>\n",
              "      <th>20</th>\n",
              "      <th>21</th>\n",
              "      <th>22</th>\n",
              "      <th>23</th>\n",
              "      <th>24</th>\n",
              "      <th>25</th>\n",
              "      <th>26</th>\n",
              "      <th>27</th>\n",
              "      <th>28</th>\n",
              "      <th>29</th>\n",
              "    </tr>\n",
              "  </thead>\n",
              "  <tbody>\n",
              "    <tr>\n",
              "      <th>0</th>\n",
              "      <td>{'utterance': '#@시스템#사진#', 'utteranceID': 'U1'...</td>\n",
              "      <td>{'utterance': '비행시간봐', 'utteranceID': 'U2', 'p...</td>\n",
              "      <td>{'utterance': '엄청나게 오래걸리네', 'utteranceID': 'U3...</td>\n",
              "      <td>{'utterance': 'ㅋㅋㅋㅋㅋㅋㅋㅋㅋㅋㅋ', 'utteranceID': 'U...</td>\n",
              "      <td>{'utterance': '비행기에서', 'utteranceID': 'U5', 'p...</td>\n",
              "      <td>{'utterance': '하루 잔다고 생각해', 'utteranceID': 'U6...</td>\n",
              "      <td>{'utterance': '그래 이때 아니면', 'utteranceID': 'U7'...</td>\n",
              "      <td>{'utterance': '언제 가보겠냐', 'utteranceID': 'U8', ...</td>\n",
              "      <td>{'utterance': '이번이 기회다', 'utteranceID': 'U9', ...</td>\n",
              "      <td>{'utterance': '그래 바로 결제 고고!!', 'utteranceID': ...</td>\n",
              "      <td>...</td>\n",
              "      <td>None</td>\n",
              "      <td>None</td>\n",
              "      <td>None</td>\n",
              "      <td>None</td>\n",
              "      <td>None</td>\n",
              "      <td>None</td>\n",
              "      <td>None</td>\n",
              "      <td>None</td>\n",
              "      <td>None</td>\n",
              "      <td>None</td>\n",
              "    </tr>\n",
              "  </tbody>\n",
              "</table>\n",
              "<p>1 rows × 30 columns</p>\n",
              "</div>\n",
              "      <button class=\"colab-df-convert\" onclick=\"convertToInteractive('df-6b49fe18-64a0-4d71-a044-e0bfdb7c7117')\"\n",
              "              title=\"Convert this dataframe to an interactive table.\"\n",
              "              style=\"display:none;\">\n",
              "        \n",
              "  <svg xmlns=\"http://www.w3.org/2000/svg\" height=\"24px\"viewBox=\"0 0 24 24\"\n",
              "       width=\"24px\">\n",
              "    <path d=\"M0 0h24v24H0V0z\" fill=\"none\"/>\n",
              "    <path d=\"M18.56 5.44l.94 2.06.94-2.06 2.06-.94-2.06-.94-.94-2.06-.94 2.06-2.06.94zm-11 1L8.5 8.5l.94-2.06 2.06-.94-2.06-.94L8.5 2.5l-.94 2.06-2.06.94zm10 10l.94 2.06.94-2.06 2.06-.94-2.06-.94-.94-2.06-.94 2.06-2.06.94z\"/><path d=\"M17.41 7.96l-1.37-1.37c-.4-.4-.92-.59-1.43-.59-.52 0-1.04.2-1.43.59L10.3 9.45l-7.72 7.72c-.78.78-.78 2.05 0 2.83L4 21.41c.39.39.9.59 1.41.59.51 0 1.02-.2 1.41-.59l7.78-7.78 2.81-2.81c.8-.78.8-2.07 0-2.86zM5.41 20L4 18.59l7.72-7.72 1.47 1.35L5.41 20z\"/>\n",
              "  </svg>\n",
              "      </button>\n",
              "      \n",
              "  <style>\n",
              "    .colab-df-container {\n",
              "      display:flex;\n",
              "      flex-wrap:wrap;\n",
              "      gap: 12px;\n",
              "    }\n",
              "\n",
              "    .colab-df-convert {\n",
              "      background-color: #E8F0FE;\n",
              "      border: none;\n",
              "      border-radius: 50%;\n",
              "      cursor: pointer;\n",
              "      display: none;\n",
              "      fill: #1967D2;\n",
              "      height: 32px;\n",
              "      padding: 0 0 0 0;\n",
              "      width: 32px;\n",
              "    }\n",
              "\n",
              "    .colab-df-convert:hover {\n",
              "      background-color: #E2EBFA;\n",
              "      box-shadow: 0px 1px 2px rgba(60, 64, 67, 0.3), 0px 1px 3px 1px rgba(60, 64, 67, 0.15);\n",
              "      fill: #174EA6;\n",
              "    }\n",
              "\n",
              "    [theme=dark] .colab-df-convert {\n",
              "      background-color: #3B4455;\n",
              "      fill: #D2E3FC;\n",
              "    }\n",
              "\n",
              "    [theme=dark] .colab-df-convert:hover {\n",
              "      background-color: #434B5C;\n",
              "      box-shadow: 0px 1px 3px 1px rgba(0, 0, 0, 0.15);\n",
              "      filter: drop-shadow(0px 1px 2px rgba(0, 0, 0, 0.3));\n",
              "      fill: #FFFFFF;\n",
              "    }\n",
              "  </style>\n",
              "\n",
              "      <script>\n",
              "        const buttonEl =\n",
              "          document.querySelector('#df-6b49fe18-64a0-4d71-a044-e0bfdb7c7117 button.colab-df-convert');\n",
              "        buttonEl.style.display =\n",
              "          google.colab.kernel.accessAllowed ? 'block' : 'none';\n",
              "\n",
              "        async function convertToInteractive(key) {\n",
              "          const element = document.querySelector('#df-6b49fe18-64a0-4d71-a044-e0bfdb7c7117');\n",
              "          const dataTable =\n",
              "            await google.colab.kernel.invokeFunction('convertToInteractive',\n",
              "                                                     [key], {});\n",
              "          if (!dataTable) return;\n",
              "\n",
              "          const docLinkHtml = 'Like what you see? Visit the ' +\n",
              "            '<a target=\"_blank\" href=https://colab.research.google.com/notebooks/data_table.ipynb>data table notebook</a>'\n",
              "            + ' to learn more about interactive tables.';\n",
              "          element.innerHTML = '';\n",
              "          dataTable['output_type'] = 'display_data';\n",
              "          await google.colab.output.renderOutput(dataTable, element);\n",
              "          const docLink = document.createElement('div');\n",
              "          docLink.innerHTML = docLinkHtml;\n",
              "          element.appendChild(docLink);\n",
              "        }\n",
              "      </script>\n",
              "    </div>\n",
              "  </div>\n",
              "  "
            ]
          },
          "metadata": {},
          "execution_count": 24
        }
      ]
    },
    {
      "cell_type": "markdown",
      "source": [
        "0 ~ 1행.  2 ~ 3행, 4 ~ 5행으로 2행씩 내용이 중복되므로\n",
        "<br>홀수행을 제외한다."
      ],
      "metadata": {
        "id": "y9xj5E8Jv6bi"
      }
    },
    {
      "cell_type": "markdown",
      "source": [
        "dialogue에 속한 각 turn을 한 행에 정렬한다.\n",
        "<br/>turn의 순서에 따라 열이 정렬된다."
      ],
      "metadata": {
        "id": "92H_9FVpvjmZ"
      }
    },
    {
      "cell_type": "code",
      "source": [
        "event_json_sample_dialogue_df2['text'] = event_json_sample_dialogue_df2.apply(lambda row: ':'.join(row.values.astype(str)), axis=1)"
      ],
      "metadata": {
        "colab": {
          "base_uri": "https://localhost:8080/"
        },
        "id": "OKM9Vudw81Yg",
        "outputId": "97d0406e-ec4f-4819-f894-9121947c3cc2"
      },
      "execution_count": null,
      "outputs": [
        {
          "output_type": "stream",
          "name": "stderr",
          "text": [
            "/usr/local/lib/python3.7/dist-packages/ipykernel_launcher.py:1: SettingWithCopyWarning: \n",
            "A value is trying to be set on a copy of a slice from a DataFrame.\n",
            "Try using .loc[row_indexer,col_indexer] = value instead\n",
            "\n",
            "See the caveats in the documentation: https://pandas.pydata.org/pandas-docs/stable/user_guide/indexing.html#returning-a-view-versus-a-copy\n",
            "  \"\"\"Entry point for launching an IPython kernel.\n"
          ]
        }
      ]
    },
    {
      "cell_type": "markdown",
      "source": [
        "trun으로 나누어진 여러 개의 컬럼을 하나로 합친다."
      ],
      "metadata": {
        "id": "WM0uXHqIwt9a"
      }
    },
    {
      "cell_type": "code",
      "source": [
        "import re"
      ],
      "metadata": {
        "id": "wCrhcAvR9x1w"
      },
      "execution_count": null,
      "outputs": []
    },
    {
      "cell_type": "code",
      "source": [
        "event_json_sample_dialogue_df2['text2'] = [re.sub('[^가-힣]', ' ', s) for s in event_json_sample_dialogue_df2['text']]"
      ],
      "metadata": {
        "colab": {
          "base_uri": "https://localhost:8080/"
        },
        "id": "bKBJg5_XfvsM",
        "outputId": "23d5a136-f416-4b48-e090-c099c6df6bf6"
      },
      "execution_count": null,
      "outputs": [
        {
          "output_type": "stream",
          "name": "stderr",
          "text": [
            "/usr/local/lib/python3.7/dist-packages/ipykernel_launcher.py:1: SettingWithCopyWarning: \n",
            "A value is trying to be set on a copy of a slice from a DataFrame.\n",
            "Try using .loc[row_indexer,col_indexer] = value instead\n",
            "\n",
            "See the caveats in the documentation: https://pandas.pydata.org/pandas-docs/stable/user_guide/indexing.html#returning-a-view-versus-a-copy\n",
            "  \"\"\"Entry point for launching an IPython kernel.\n"
          ]
        }
      ]
    },
    {
      "cell_type": "markdown",
      "source": [
        "문자열 중에서 한글을 추출한다."
      ],
      "metadata": {
        "id": "GTqPp39YwznZ"
      }
    },
    {
      "cell_type": "code",
      "source": [
        "event_json_sample_dialogue_df2['text2']"
      ],
      "metadata": {
        "colab": {
          "base_uri": "https://localhost:8080/"
        },
        "id": "_MFCsPqbpE9B",
        "outputId": "6150565a-01ad-4ddf-913f-ec45b955dd43"
      },
      "execution_count": null,
      "outputs": [
        {
          "output_type": "execute_result",
          "data": {
            "text/plain": [
              "0                         시스템 사진                       ...\n",
              "2                       아 그 호텔                         ...\n",
              "4                       오 이래도 되나 싶을정도로 신호에 걸리는군        ...\n",
              "6                                으로 봄 일단               ...\n",
              "8                       근데 나는 원주간다                     ...\n",
              "                               ...                        \n",
              "41430                   세상 진짜 좁은게 나 동네 산책모임있는데         ...\n",
              "41432                   그리고 나 부산 갈 것 같은데               ...\n",
              "41434                   우리 여름되기전에                      ...\n",
              "41436                     이름    오늘 도시락 싸오셧나유           ...\n",
              "41438                   너 이제 도쿄 얼마 안남은거                ...\n",
              "Name: text2, Length: 20720, dtype: object"
            ]
          },
          "metadata": {},
          "execution_count": 28
        }
      ]
    },
    {
      "cell_type": "code",
      "source": [
        "event_json_sample_dialogue_df2['text2'][0]"
      ],
      "metadata": {
        "colab": {
          "base_uri": "https://localhost:8080/",
          "height": 108
        },
        "id": "3mGs5jK6h6Tj",
        "outputId": "c6ce2da0-f74f-43f6-c7c5-e090b1ac5b0e"
      },
      "execution_count": null,
      "outputs": [
        {
          "output_type": "execute_result",
          "data": {
            "text/plain": [
              "'                 시스템 사진                                                                                                                          비행시간봐                                                                                                                         엄청나게 오래걸리네                                                                                                                                                                                                                                                             비행기에서                                                                                                                         하루 잔다고 생각해                                                                                                                         그래 이때 아니면                                                                                                                         언제 가보겠냐                                                                                                                         이번이 기회다                                                                                                                         그래 바로 결제 고고                                                                                                                                                                                                                '"
            ],
            "application/vnd.google.colaboratory.intrinsic+json": {
              "type": "string"
            }
          },
          "metadata": {},
          "execution_count": 29
        }
      ]
    },
    {
      "cell_type": "markdown",
      "source": [
        "하나의 행을 출력해서 trun 사이의 공백의 간격이 넓은 것을 확인한다."
      ],
      "metadata": {
        "id": "7sj3_f0_w5Rp"
      }
    },
    {
      "cell_type": "code",
      "source": [
        "event_json_sample_dialogue_df3_list = []"
      ],
      "metadata": {
        "id": "qlAf5A8xqDS5"
      },
      "execution_count": null,
      "outputs": []
    },
    {
      "cell_type": "code",
      "source": [
        "for i in event_json_sample_dialogue_df2['text2']:\n",
        "  event_json_sample_dialogue_df3 = re.sub(r'[\" \"]+', \" \", i)\n",
        "  event_json_sample_dialogue_df3_list.append(event_json_sample_dialogue_df3)"
      ],
      "metadata": {
        "id": "s2PTriEsi_wE"
      },
      "execution_count": null,
      "outputs": []
    },
    {
      "cell_type": "code",
      "source": [
        "event_json_sample_dialogue_df3_text = pd.DataFrame(event_json_sample_dialogue_df3_list)"
      ],
      "metadata": {
        "id": "_MVbXvkkqSaR"
      },
      "execution_count": null,
      "outputs": []
    },
    {
      "cell_type": "code",
      "source": [
        "event_json_sample_dialogue_df3_text.head()"
      ],
      "metadata": {
        "colab": {
          "base_uri": "https://localhost:8080/",
          "height": 206
        },
        "id": "mgtQlL9Qp_Zw",
        "outputId": "65c111b0-c07e-4042-9ea1-ffa665d159de"
      },
      "execution_count": null,
      "outputs": [
        {
          "output_type": "execute_result",
          "data": {
            "text/plain": [
              "                                                   0\n",
              "0   시스템 사진 비행시간봐 엄청나게 오래걸리네 비행기에서 하루 잔다고 생각해 그래 이...\n",
              "1   아 그 호텔 나도 예약할 지경이야 이면 옆방으로다가요 그래도 괜찮은 호텔인데 뭐지...\n",
              "2   오 이래도 되나 싶을정도로 신호에 걸리는군 내려서 뛰가는게 빠를듯 웨이팅 많아 걸...\n",
              "3   으로 봄 일단 왜죠 나 월 일부터 쉰다구 근데 월 일이 목욜이라서 우리 이틀밖에 ...\n",
              "4   근데 나는 원주간다 엥 금 갑자기 왜가 진짜 갑자기 감다 아빠가 갑자기 가쟤 사촌..."
            ],
            "text/html": [
              "\n",
              "  <div id=\"df-2ffb009d-bb6f-4953-8c11-2ffc8d19bead\">\n",
              "    <div class=\"colab-df-container\">\n",
              "      <div>\n",
              "<style scoped>\n",
              "    .dataframe tbody tr th:only-of-type {\n",
              "        vertical-align: middle;\n",
              "    }\n",
              "\n",
              "    .dataframe tbody tr th {\n",
              "        vertical-align: top;\n",
              "    }\n",
              "\n",
              "    .dataframe thead th {\n",
              "        text-align: right;\n",
              "    }\n",
              "</style>\n",
              "<table border=\"1\" class=\"dataframe\">\n",
              "  <thead>\n",
              "    <tr style=\"text-align: right;\">\n",
              "      <th></th>\n",
              "      <th>0</th>\n",
              "    </tr>\n",
              "  </thead>\n",
              "  <tbody>\n",
              "    <tr>\n",
              "      <th>0</th>\n",
              "      <td>시스템 사진 비행시간봐 엄청나게 오래걸리네 비행기에서 하루 잔다고 생각해 그래 이...</td>\n",
              "    </tr>\n",
              "    <tr>\n",
              "      <th>1</th>\n",
              "      <td>아 그 호텔 나도 예약할 지경이야 이면 옆방으로다가요 그래도 괜찮은 호텔인데 뭐지...</td>\n",
              "    </tr>\n",
              "    <tr>\n",
              "      <th>2</th>\n",
              "      <td>오 이래도 되나 싶을정도로 신호에 걸리는군 내려서 뛰가는게 빠를듯 웨이팅 많아 걸...</td>\n",
              "    </tr>\n",
              "    <tr>\n",
              "      <th>3</th>\n",
              "      <td>으로 봄 일단 왜죠 나 월 일부터 쉰다구 근데 월 일이 목욜이라서 우리 이틀밖에 ...</td>\n",
              "    </tr>\n",
              "    <tr>\n",
              "      <th>4</th>\n",
              "      <td>근데 나는 원주간다 엥 금 갑자기 왜가 진짜 갑자기 감다 아빠가 갑자기 가쟤 사촌...</td>\n",
              "    </tr>\n",
              "  </tbody>\n",
              "</table>\n",
              "</div>\n",
              "      <button class=\"colab-df-convert\" onclick=\"convertToInteractive('df-2ffb009d-bb6f-4953-8c11-2ffc8d19bead')\"\n",
              "              title=\"Convert this dataframe to an interactive table.\"\n",
              "              style=\"display:none;\">\n",
              "        \n",
              "  <svg xmlns=\"http://www.w3.org/2000/svg\" height=\"24px\"viewBox=\"0 0 24 24\"\n",
              "       width=\"24px\">\n",
              "    <path d=\"M0 0h24v24H0V0z\" fill=\"none\"/>\n",
              "    <path d=\"M18.56 5.44l.94 2.06.94-2.06 2.06-.94-2.06-.94-.94-2.06-.94 2.06-2.06.94zm-11 1L8.5 8.5l.94-2.06 2.06-.94-2.06-.94L8.5 2.5l-.94 2.06-2.06.94zm10 10l.94 2.06.94-2.06 2.06-.94-2.06-.94-.94-2.06-.94 2.06-2.06.94z\"/><path d=\"M17.41 7.96l-1.37-1.37c-.4-.4-.92-.59-1.43-.59-.52 0-1.04.2-1.43.59L10.3 9.45l-7.72 7.72c-.78.78-.78 2.05 0 2.83L4 21.41c.39.39.9.59 1.41.59.51 0 1.02-.2 1.41-.59l7.78-7.78 2.81-2.81c.8-.78.8-2.07 0-2.86zM5.41 20L4 18.59l7.72-7.72 1.47 1.35L5.41 20z\"/>\n",
              "  </svg>\n",
              "      </button>\n",
              "      \n",
              "  <style>\n",
              "    .colab-df-container {\n",
              "      display:flex;\n",
              "      flex-wrap:wrap;\n",
              "      gap: 12px;\n",
              "    }\n",
              "\n",
              "    .colab-df-convert {\n",
              "      background-color: #E8F0FE;\n",
              "      border: none;\n",
              "      border-radius: 50%;\n",
              "      cursor: pointer;\n",
              "      display: none;\n",
              "      fill: #1967D2;\n",
              "      height: 32px;\n",
              "      padding: 0 0 0 0;\n",
              "      width: 32px;\n",
              "    }\n",
              "\n",
              "    .colab-df-convert:hover {\n",
              "      background-color: #E2EBFA;\n",
              "      box-shadow: 0px 1px 2px rgba(60, 64, 67, 0.3), 0px 1px 3px 1px rgba(60, 64, 67, 0.15);\n",
              "      fill: #174EA6;\n",
              "    }\n",
              "\n",
              "    [theme=dark] .colab-df-convert {\n",
              "      background-color: #3B4455;\n",
              "      fill: #D2E3FC;\n",
              "    }\n",
              "\n",
              "    [theme=dark] .colab-df-convert:hover {\n",
              "      background-color: #434B5C;\n",
              "      box-shadow: 0px 1px 3px 1px rgba(0, 0, 0, 0.15);\n",
              "      filter: drop-shadow(0px 1px 2px rgba(0, 0, 0, 0.3));\n",
              "      fill: #FFFFFF;\n",
              "    }\n",
              "  </style>\n",
              "\n",
              "      <script>\n",
              "        const buttonEl =\n",
              "          document.querySelector('#df-2ffb009d-bb6f-4953-8c11-2ffc8d19bead button.colab-df-convert');\n",
              "        buttonEl.style.display =\n",
              "          google.colab.kernel.accessAllowed ? 'block' : 'none';\n",
              "\n",
              "        async function convertToInteractive(key) {\n",
              "          const element = document.querySelector('#df-2ffb009d-bb6f-4953-8c11-2ffc8d19bead');\n",
              "          const dataTable =\n",
              "            await google.colab.kernel.invokeFunction('convertToInteractive',\n",
              "                                                     [key], {});\n",
              "          if (!dataTable) return;\n",
              "\n",
              "          const docLinkHtml = 'Like what you see? Visit the ' +\n",
              "            '<a target=\"_blank\" href=https://colab.research.google.com/notebooks/data_table.ipynb>data table notebook</a>'\n",
              "            + ' to learn more about interactive tables.';\n",
              "          element.innerHTML = '';\n",
              "          dataTable['output_type'] = 'display_data';\n",
              "          await google.colab.output.renderOutput(dataTable, element);\n",
              "          const docLink = document.createElement('div');\n",
              "          docLink.innerHTML = docLinkHtml;\n",
              "          element.appendChild(docLink);\n",
              "        }\n",
              "      </script>\n",
              "    </div>\n",
              "  </div>\n",
              "  "
            ]
          },
          "metadata": {},
          "execution_count": 33
        }
      ]
    },
    {
      "cell_type": "markdown",
      "source": [
        "trun 사이의 중복 공백을 공백 간격 1칸으로 통일한다."
      ],
      "metadata": {
        "id": "UR1HvvdCxEMa"
      }
    },
    {
      "cell_type": "code",
      "source": [
        "event_json_sample_dialogue_df3_text.columns = ['text']"
      ],
      "metadata": {
        "id": "EojNXr9qqqR8"
      },
      "execution_count": null,
      "outputs": []
    },
    {
      "cell_type": "code",
      "source": [
        "event_json_sample_dialogue_df3_text.head()"
      ],
      "metadata": {
        "colab": {
          "base_uri": "https://localhost:8080/",
          "height": 206
        },
        "id": "Sptvmwh9qzTL",
        "outputId": "c5cdfc8f-eb71-4933-ce50-a140e857e529"
      },
      "execution_count": null,
      "outputs": [
        {
          "output_type": "execute_result",
          "data": {
            "text/plain": [
              "                                                text\n",
              "0   시스템 사진 비행시간봐 엄청나게 오래걸리네 비행기에서 하루 잔다고 생각해 그래 이...\n",
              "1   아 그 호텔 나도 예약할 지경이야 이면 옆방으로다가요 그래도 괜찮은 호텔인데 뭐지...\n",
              "2   오 이래도 되나 싶을정도로 신호에 걸리는군 내려서 뛰가는게 빠를듯 웨이팅 많아 걸...\n",
              "3   으로 봄 일단 왜죠 나 월 일부터 쉰다구 근데 월 일이 목욜이라서 우리 이틀밖에 ...\n",
              "4   근데 나는 원주간다 엥 금 갑자기 왜가 진짜 갑자기 감다 아빠가 갑자기 가쟤 사촌..."
            ],
            "text/html": [
              "\n",
              "  <div id=\"df-b635083c-1219-4634-be4e-21a44bac7ad3\">\n",
              "    <div class=\"colab-df-container\">\n",
              "      <div>\n",
              "<style scoped>\n",
              "    .dataframe tbody tr th:only-of-type {\n",
              "        vertical-align: middle;\n",
              "    }\n",
              "\n",
              "    .dataframe tbody tr th {\n",
              "        vertical-align: top;\n",
              "    }\n",
              "\n",
              "    .dataframe thead th {\n",
              "        text-align: right;\n",
              "    }\n",
              "</style>\n",
              "<table border=\"1\" class=\"dataframe\">\n",
              "  <thead>\n",
              "    <tr style=\"text-align: right;\">\n",
              "      <th></th>\n",
              "      <th>text</th>\n",
              "    </tr>\n",
              "  </thead>\n",
              "  <tbody>\n",
              "    <tr>\n",
              "      <th>0</th>\n",
              "      <td>시스템 사진 비행시간봐 엄청나게 오래걸리네 비행기에서 하루 잔다고 생각해 그래 이...</td>\n",
              "    </tr>\n",
              "    <tr>\n",
              "      <th>1</th>\n",
              "      <td>아 그 호텔 나도 예약할 지경이야 이면 옆방으로다가요 그래도 괜찮은 호텔인데 뭐지...</td>\n",
              "    </tr>\n",
              "    <tr>\n",
              "      <th>2</th>\n",
              "      <td>오 이래도 되나 싶을정도로 신호에 걸리는군 내려서 뛰가는게 빠를듯 웨이팅 많아 걸...</td>\n",
              "    </tr>\n",
              "    <tr>\n",
              "      <th>3</th>\n",
              "      <td>으로 봄 일단 왜죠 나 월 일부터 쉰다구 근데 월 일이 목욜이라서 우리 이틀밖에 ...</td>\n",
              "    </tr>\n",
              "    <tr>\n",
              "      <th>4</th>\n",
              "      <td>근데 나는 원주간다 엥 금 갑자기 왜가 진짜 갑자기 감다 아빠가 갑자기 가쟤 사촌...</td>\n",
              "    </tr>\n",
              "  </tbody>\n",
              "</table>\n",
              "</div>\n",
              "      <button class=\"colab-df-convert\" onclick=\"convertToInteractive('df-b635083c-1219-4634-be4e-21a44bac7ad3')\"\n",
              "              title=\"Convert this dataframe to an interactive table.\"\n",
              "              style=\"display:none;\">\n",
              "        \n",
              "  <svg xmlns=\"http://www.w3.org/2000/svg\" height=\"24px\"viewBox=\"0 0 24 24\"\n",
              "       width=\"24px\">\n",
              "    <path d=\"M0 0h24v24H0V0z\" fill=\"none\"/>\n",
              "    <path d=\"M18.56 5.44l.94 2.06.94-2.06 2.06-.94-2.06-.94-.94-2.06-.94 2.06-2.06.94zm-11 1L8.5 8.5l.94-2.06 2.06-.94-2.06-.94L8.5 2.5l-.94 2.06-2.06.94zm10 10l.94 2.06.94-2.06 2.06-.94-2.06-.94-.94-2.06-.94 2.06-2.06.94z\"/><path d=\"M17.41 7.96l-1.37-1.37c-.4-.4-.92-.59-1.43-.59-.52 0-1.04.2-1.43.59L10.3 9.45l-7.72 7.72c-.78.78-.78 2.05 0 2.83L4 21.41c.39.39.9.59 1.41.59.51 0 1.02-.2 1.41-.59l7.78-7.78 2.81-2.81c.8-.78.8-2.07 0-2.86zM5.41 20L4 18.59l7.72-7.72 1.47 1.35L5.41 20z\"/>\n",
              "  </svg>\n",
              "      </button>\n",
              "      \n",
              "  <style>\n",
              "    .colab-df-container {\n",
              "      display:flex;\n",
              "      flex-wrap:wrap;\n",
              "      gap: 12px;\n",
              "    }\n",
              "\n",
              "    .colab-df-convert {\n",
              "      background-color: #E8F0FE;\n",
              "      border: none;\n",
              "      border-radius: 50%;\n",
              "      cursor: pointer;\n",
              "      display: none;\n",
              "      fill: #1967D2;\n",
              "      height: 32px;\n",
              "      padding: 0 0 0 0;\n",
              "      width: 32px;\n",
              "    }\n",
              "\n",
              "    .colab-df-convert:hover {\n",
              "      background-color: #E2EBFA;\n",
              "      box-shadow: 0px 1px 2px rgba(60, 64, 67, 0.3), 0px 1px 3px 1px rgba(60, 64, 67, 0.15);\n",
              "      fill: #174EA6;\n",
              "    }\n",
              "\n",
              "    [theme=dark] .colab-df-convert {\n",
              "      background-color: #3B4455;\n",
              "      fill: #D2E3FC;\n",
              "    }\n",
              "\n",
              "    [theme=dark] .colab-df-convert:hover {\n",
              "      background-color: #434B5C;\n",
              "      box-shadow: 0px 1px 3px 1px rgba(0, 0, 0, 0.15);\n",
              "      filter: drop-shadow(0px 1px 2px rgba(0, 0, 0, 0.3));\n",
              "      fill: #FFFFFF;\n",
              "    }\n",
              "  </style>\n",
              "\n",
              "      <script>\n",
              "        const buttonEl =\n",
              "          document.querySelector('#df-b635083c-1219-4634-be4e-21a44bac7ad3 button.colab-df-convert');\n",
              "        buttonEl.style.display =\n",
              "          google.colab.kernel.accessAllowed ? 'block' : 'none';\n",
              "\n",
              "        async function convertToInteractive(key) {\n",
              "          const element = document.querySelector('#df-b635083c-1219-4634-be4e-21a44bac7ad3');\n",
              "          const dataTable =\n",
              "            await google.colab.kernel.invokeFunction('convertToInteractive',\n",
              "                                                     [key], {});\n",
              "          if (!dataTable) return;\n",
              "\n",
              "          const docLinkHtml = 'Like what you see? Visit the ' +\n",
              "            '<a target=\"_blank\" href=https://colab.research.google.com/notebooks/data_table.ipynb>data table notebook</a>'\n",
              "            + ' to learn more about interactive tables.';\n",
              "          element.innerHTML = '';\n",
              "          dataTable['output_type'] = 'display_data';\n",
              "          await google.colab.output.renderOutput(dataTable, element);\n",
              "          const docLink = document.createElement('div');\n",
              "          docLink.innerHTML = docLinkHtml;\n",
              "          element.appendChild(docLink);\n",
              "        }\n",
              "      </script>\n",
              "    </div>\n",
              "  </div>\n",
              "  "
            ]
          },
          "metadata": {},
          "execution_count": 35
        }
      ]
    },
    {
      "cell_type": "code",
      "source": [
        "event_conversation_df = event_json_sample_dialogue_df3_text[:10000]"
      ],
      "metadata": {
        "id": "OBBRnm057Xug"
      },
      "execution_count": null,
      "outputs": []
    },
    {
      "cell_type": "code",
      "source": [
        "event_conversation_df "
      ],
      "metadata": {
        "colab": {
          "base_uri": "https://localhost:8080/",
          "height": 424
        },
        "id": "CH6veVL--Sqn",
        "outputId": "e47dbf69-a19f-4f1b-8f87-0704c9d886c0"
      },
      "execution_count": null,
      "outputs": [
        {
          "output_type": "execute_result",
          "data": {
            "text/plain": [
              "                                                   text\n",
              "0      시스템 사진 비행시간봐 엄청나게 오래걸리네 비행기에서 하루 잔다고 생각해 그래 이...\n",
              "1      아 그 호텔 나도 예약할 지경이야 이면 옆방으로다가요 그래도 괜찮은 호텔인데 뭐지...\n",
              "2      오 이래도 되나 싶을정도로 신호에 걸리는군 내려서 뛰가는게 빠를듯 웨이팅 많아 걸...\n",
              "3      으로 봄 일단 왜죠 나 월 일부터 쉰다구 근데 월 일이 목욜이라서 우리 이틀밖에 ...\n",
              "4      근데 나는 원주간다 엥 금 갑자기 왜가 진짜 갑자기 감다 아빠가 갑자기 가쟤 사촌...\n",
              "...                                                 ...\n",
              "9995   코스요리나오면서 식보는거야 먹으면서동시에 엄청비싸겠다 코스면 모르지 식 다보고 가...\n",
              "9996   삼성역 내일 볼까 오호 머리 다자르면 시 반쯤 될텐뎅 아닌가 시인가 삼성역에서 보...\n",
              "9997   오늘데이트는 꽝인건가요 데이트는 강행입니다 맛난거 사드리지요 아니야 돈도없는데 집...\n",
              "9998   너 졸업 여름에하지마 땀나서 머리 다 망함 이모티콘 그리고 졸업사진 찍으러가서 이...\n",
              "9999   아 마쟈 이름 나 방탈출 취소 까먹음 갑자기 전화와서 놀랐네 언능 해야게따 아아아...\n",
              "\n",
              "[10000 rows x 1 columns]"
            ],
            "text/html": [
              "\n",
              "  <div id=\"df-a4f2e760-b325-4990-a786-090f9e0318a5\">\n",
              "    <div class=\"colab-df-container\">\n",
              "      <div>\n",
              "<style scoped>\n",
              "    .dataframe tbody tr th:only-of-type {\n",
              "        vertical-align: middle;\n",
              "    }\n",
              "\n",
              "    .dataframe tbody tr th {\n",
              "        vertical-align: top;\n",
              "    }\n",
              "\n",
              "    .dataframe thead th {\n",
              "        text-align: right;\n",
              "    }\n",
              "</style>\n",
              "<table border=\"1\" class=\"dataframe\">\n",
              "  <thead>\n",
              "    <tr style=\"text-align: right;\">\n",
              "      <th></th>\n",
              "      <th>text</th>\n",
              "    </tr>\n",
              "  </thead>\n",
              "  <tbody>\n",
              "    <tr>\n",
              "      <th>0</th>\n",
              "      <td>시스템 사진 비행시간봐 엄청나게 오래걸리네 비행기에서 하루 잔다고 생각해 그래 이...</td>\n",
              "    </tr>\n",
              "    <tr>\n",
              "      <th>1</th>\n",
              "      <td>아 그 호텔 나도 예약할 지경이야 이면 옆방으로다가요 그래도 괜찮은 호텔인데 뭐지...</td>\n",
              "    </tr>\n",
              "    <tr>\n",
              "      <th>2</th>\n",
              "      <td>오 이래도 되나 싶을정도로 신호에 걸리는군 내려서 뛰가는게 빠를듯 웨이팅 많아 걸...</td>\n",
              "    </tr>\n",
              "    <tr>\n",
              "      <th>3</th>\n",
              "      <td>으로 봄 일단 왜죠 나 월 일부터 쉰다구 근데 월 일이 목욜이라서 우리 이틀밖에 ...</td>\n",
              "    </tr>\n",
              "    <tr>\n",
              "      <th>4</th>\n",
              "      <td>근데 나는 원주간다 엥 금 갑자기 왜가 진짜 갑자기 감다 아빠가 갑자기 가쟤 사촌...</td>\n",
              "    </tr>\n",
              "    <tr>\n",
              "      <th>...</th>\n",
              "      <td>...</td>\n",
              "    </tr>\n",
              "    <tr>\n",
              "      <th>9995</th>\n",
              "      <td>코스요리나오면서 식보는거야 먹으면서동시에 엄청비싸겠다 코스면 모르지 식 다보고 가...</td>\n",
              "    </tr>\n",
              "    <tr>\n",
              "      <th>9996</th>\n",
              "      <td>삼성역 내일 볼까 오호 머리 다자르면 시 반쯤 될텐뎅 아닌가 시인가 삼성역에서 보...</td>\n",
              "    </tr>\n",
              "    <tr>\n",
              "      <th>9997</th>\n",
              "      <td>오늘데이트는 꽝인건가요 데이트는 강행입니다 맛난거 사드리지요 아니야 돈도없는데 집...</td>\n",
              "    </tr>\n",
              "    <tr>\n",
              "      <th>9998</th>\n",
              "      <td>너 졸업 여름에하지마 땀나서 머리 다 망함 이모티콘 그리고 졸업사진 찍으러가서 이...</td>\n",
              "    </tr>\n",
              "    <tr>\n",
              "      <th>9999</th>\n",
              "      <td>아 마쟈 이름 나 방탈출 취소 까먹음 갑자기 전화와서 놀랐네 언능 해야게따 아아아...</td>\n",
              "    </tr>\n",
              "  </tbody>\n",
              "</table>\n",
              "<p>10000 rows × 1 columns</p>\n",
              "</div>\n",
              "      <button class=\"colab-df-convert\" onclick=\"convertToInteractive('df-a4f2e760-b325-4990-a786-090f9e0318a5')\"\n",
              "              title=\"Convert this dataframe to an interactive table.\"\n",
              "              style=\"display:none;\">\n",
              "        \n",
              "  <svg xmlns=\"http://www.w3.org/2000/svg\" height=\"24px\"viewBox=\"0 0 24 24\"\n",
              "       width=\"24px\">\n",
              "    <path d=\"M0 0h24v24H0V0z\" fill=\"none\"/>\n",
              "    <path d=\"M18.56 5.44l.94 2.06.94-2.06 2.06-.94-2.06-.94-.94-2.06-.94 2.06-2.06.94zm-11 1L8.5 8.5l.94-2.06 2.06-.94-2.06-.94L8.5 2.5l-.94 2.06-2.06.94zm10 10l.94 2.06.94-2.06 2.06-.94-2.06-.94-.94-2.06-.94 2.06-2.06.94z\"/><path d=\"M17.41 7.96l-1.37-1.37c-.4-.4-.92-.59-1.43-.59-.52 0-1.04.2-1.43.59L10.3 9.45l-7.72 7.72c-.78.78-.78 2.05 0 2.83L4 21.41c.39.39.9.59 1.41.59.51 0 1.02-.2 1.41-.59l7.78-7.78 2.81-2.81c.8-.78.8-2.07 0-2.86zM5.41 20L4 18.59l7.72-7.72 1.47 1.35L5.41 20z\"/>\n",
              "  </svg>\n",
              "      </button>\n",
              "      \n",
              "  <style>\n",
              "    .colab-df-container {\n",
              "      display:flex;\n",
              "      flex-wrap:wrap;\n",
              "      gap: 12px;\n",
              "    }\n",
              "\n",
              "    .colab-df-convert {\n",
              "      background-color: #E8F0FE;\n",
              "      border: none;\n",
              "      border-radius: 50%;\n",
              "      cursor: pointer;\n",
              "      display: none;\n",
              "      fill: #1967D2;\n",
              "      height: 32px;\n",
              "      padding: 0 0 0 0;\n",
              "      width: 32px;\n",
              "    }\n",
              "\n",
              "    .colab-df-convert:hover {\n",
              "      background-color: #E2EBFA;\n",
              "      box-shadow: 0px 1px 2px rgba(60, 64, 67, 0.3), 0px 1px 3px 1px rgba(60, 64, 67, 0.15);\n",
              "      fill: #174EA6;\n",
              "    }\n",
              "\n",
              "    [theme=dark] .colab-df-convert {\n",
              "      background-color: #3B4455;\n",
              "      fill: #D2E3FC;\n",
              "    }\n",
              "\n",
              "    [theme=dark] .colab-df-convert:hover {\n",
              "      background-color: #434B5C;\n",
              "      box-shadow: 0px 1px 3px 1px rgba(0, 0, 0, 0.15);\n",
              "      filter: drop-shadow(0px 1px 2px rgba(0, 0, 0, 0.3));\n",
              "      fill: #FFFFFF;\n",
              "    }\n",
              "  </style>\n",
              "\n",
              "      <script>\n",
              "        const buttonEl =\n",
              "          document.querySelector('#df-a4f2e760-b325-4990-a786-090f9e0318a5 button.colab-df-convert');\n",
              "        buttonEl.style.display =\n",
              "          google.colab.kernel.accessAllowed ? 'block' : 'none';\n",
              "\n",
              "        async function convertToInteractive(key) {\n",
              "          const element = document.querySelector('#df-a4f2e760-b325-4990-a786-090f9e0318a5');\n",
              "          const dataTable =\n",
              "            await google.colab.kernel.invokeFunction('convertToInteractive',\n",
              "                                                     [key], {});\n",
              "          if (!dataTable) return;\n",
              "\n",
              "          const docLinkHtml = 'Like what you see? Visit the ' +\n",
              "            '<a target=\"_blank\" href=https://colab.research.google.com/notebooks/data_table.ipynb>data table notebook</a>'\n",
              "            + ' to learn more about interactive tables.';\n",
              "          element.innerHTML = '';\n",
              "          dataTable['output_type'] = 'display_data';\n",
              "          await google.colab.output.renderOutput(dataTable, element);\n",
              "          const docLink = document.createElement('div');\n",
              "          docLink.innerHTML = docLinkHtml;\n",
              "          element.appendChild(docLink);\n",
              "        }\n",
              "      </script>\n",
              "    </div>\n",
              "  </div>\n",
              "  "
            ]
          },
          "metadata": {},
          "execution_count": 37
        }
      ]
    },
    {
      "cell_type": "markdown",
      "source": [
        "20720개의 대화에서 10000개의 샘플을 추출한다."
      ],
      "metadata": {
        "id": "su2AdUgkxZB5"
      }
    },
    {
      "cell_type": "markdown",
      "source": [
        "#CSV 변환"
      ],
      "metadata": {
        "id": "-czyyDQEyx65"
      }
    },
    {
      "cell_type": "code",
      "source": [
        "event_conversation_df.to_csv(\"/content/drive/MyDrive/Dataton/event_conversation.csv\", index = False)"
      ],
      "metadata": {
        "id": "OlWdMiXYwN6L"
      },
      "execution_count": null,
      "outputs": []
    },
    {
      "cell_type": "markdown",
      "source": [
        "csv 파일로 저장한다."
      ],
      "metadata": {
        "id": "XQrfIP-9xiNR"
      }
    },
    {
      "cell_type": "code",
      "source": [
        "df = pd.read_csv(\"/content/drive/MyDrive/Dataton/event_conversation.csv\")"
      ],
      "metadata": {
        "id": "quksoM-XwN_g"
      },
      "execution_count": null,
      "outputs": []
    },
    {
      "cell_type": "code",
      "source": [
        "df"
      ],
      "metadata": {
        "colab": {
          "base_uri": "https://localhost:8080/",
          "height": 424
        },
        "id": "rN7Lg9Mn7UEK",
        "outputId": "ff154bdc-e911-4f46-ed0b-c248364f466b"
      },
      "execution_count": null,
      "outputs": [
        {
          "output_type": "execute_result",
          "data": {
            "text/plain": [
              "                                                   text\n",
              "0      시스템 사진 비행시간봐 엄청나게 오래걸리네 비행기에서 하루 잔다고 생각해 그래 이...\n",
              "1      아 그 호텔 나도 예약할 지경이야 이면 옆방으로다가요 그래도 괜찮은 호텔인데 뭐지...\n",
              "2      오 이래도 되나 싶을정도로 신호에 걸리는군 내려서 뛰가는게 빠를듯 웨이팅 많아 걸...\n",
              "3      으로 봄 일단 왜죠 나 월 일부터 쉰다구 근데 월 일이 목욜이라서 우리 이틀밖에 ...\n",
              "4      근데 나는 원주간다 엥 금 갑자기 왜가 진짜 갑자기 감다 아빠가 갑자기 가쟤 사촌...\n",
              "...                                                 ...\n",
              "9995   코스요리나오면서 식보는거야 먹으면서동시에 엄청비싸겠다 코스면 모르지 식 다보고 가...\n",
              "9996   삼성역 내일 볼까 오호 머리 다자르면 시 반쯤 될텐뎅 아닌가 시인가 삼성역에서 보...\n",
              "9997   오늘데이트는 꽝인건가요 데이트는 강행입니다 맛난거 사드리지요 아니야 돈도없는데 집...\n",
              "9998   너 졸업 여름에하지마 땀나서 머리 다 망함 이모티콘 그리고 졸업사진 찍으러가서 이...\n",
              "9999   아 마쟈 이름 나 방탈출 취소 까먹음 갑자기 전화와서 놀랐네 언능 해야게따 아아아...\n",
              "\n",
              "[10000 rows x 1 columns]"
            ],
            "text/html": [
              "\n",
              "  <div id=\"df-f716dd2e-2598-401c-8344-0a53a23aa6a3\">\n",
              "    <div class=\"colab-df-container\">\n",
              "      <div>\n",
              "<style scoped>\n",
              "    .dataframe tbody tr th:only-of-type {\n",
              "        vertical-align: middle;\n",
              "    }\n",
              "\n",
              "    .dataframe tbody tr th {\n",
              "        vertical-align: top;\n",
              "    }\n",
              "\n",
              "    .dataframe thead th {\n",
              "        text-align: right;\n",
              "    }\n",
              "</style>\n",
              "<table border=\"1\" class=\"dataframe\">\n",
              "  <thead>\n",
              "    <tr style=\"text-align: right;\">\n",
              "      <th></th>\n",
              "      <th>text</th>\n",
              "    </tr>\n",
              "  </thead>\n",
              "  <tbody>\n",
              "    <tr>\n",
              "      <th>0</th>\n",
              "      <td>시스템 사진 비행시간봐 엄청나게 오래걸리네 비행기에서 하루 잔다고 생각해 그래 이...</td>\n",
              "    </tr>\n",
              "    <tr>\n",
              "      <th>1</th>\n",
              "      <td>아 그 호텔 나도 예약할 지경이야 이면 옆방으로다가요 그래도 괜찮은 호텔인데 뭐지...</td>\n",
              "    </tr>\n",
              "    <tr>\n",
              "      <th>2</th>\n",
              "      <td>오 이래도 되나 싶을정도로 신호에 걸리는군 내려서 뛰가는게 빠를듯 웨이팅 많아 걸...</td>\n",
              "    </tr>\n",
              "    <tr>\n",
              "      <th>3</th>\n",
              "      <td>으로 봄 일단 왜죠 나 월 일부터 쉰다구 근데 월 일이 목욜이라서 우리 이틀밖에 ...</td>\n",
              "    </tr>\n",
              "    <tr>\n",
              "      <th>4</th>\n",
              "      <td>근데 나는 원주간다 엥 금 갑자기 왜가 진짜 갑자기 감다 아빠가 갑자기 가쟤 사촌...</td>\n",
              "    </tr>\n",
              "    <tr>\n",
              "      <th>...</th>\n",
              "      <td>...</td>\n",
              "    </tr>\n",
              "    <tr>\n",
              "      <th>9995</th>\n",
              "      <td>코스요리나오면서 식보는거야 먹으면서동시에 엄청비싸겠다 코스면 모르지 식 다보고 가...</td>\n",
              "    </tr>\n",
              "    <tr>\n",
              "      <th>9996</th>\n",
              "      <td>삼성역 내일 볼까 오호 머리 다자르면 시 반쯤 될텐뎅 아닌가 시인가 삼성역에서 보...</td>\n",
              "    </tr>\n",
              "    <tr>\n",
              "      <th>9997</th>\n",
              "      <td>오늘데이트는 꽝인건가요 데이트는 강행입니다 맛난거 사드리지요 아니야 돈도없는데 집...</td>\n",
              "    </tr>\n",
              "    <tr>\n",
              "      <th>9998</th>\n",
              "      <td>너 졸업 여름에하지마 땀나서 머리 다 망함 이모티콘 그리고 졸업사진 찍으러가서 이...</td>\n",
              "    </tr>\n",
              "    <tr>\n",
              "      <th>9999</th>\n",
              "      <td>아 마쟈 이름 나 방탈출 취소 까먹음 갑자기 전화와서 놀랐네 언능 해야게따 아아아...</td>\n",
              "    </tr>\n",
              "  </tbody>\n",
              "</table>\n",
              "<p>10000 rows × 1 columns</p>\n",
              "</div>\n",
              "      <button class=\"colab-df-convert\" onclick=\"convertToInteractive('df-f716dd2e-2598-401c-8344-0a53a23aa6a3')\"\n",
              "              title=\"Convert this dataframe to an interactive table.\"\n",
              "              style=\"display:none;\">\n",
              "        \n",
              "  <svg xmlns=\"http://www.w3.org/2000/svg\" height=\"24px\"viewBox=\"0 0 24 24\"\n",
              "       width=\"24px\">\n",
              "    <path d=\"M0 0h24v24H0V0z\" fill=\"none\"/>\n",
              "    <path d=\"M18.56 5.44l.94 2.06.94-2.06 2.06-.94-2.06-.94-.94-2.06-.94 2.06-2.06.94zm-11 1L8.5 8.5l.94-2.06 2.06-.94-2.06-.94L8.5 2.5l-.94 2.06-2.06.94zm10 10l.94 2.06.94-2.06 2.06-.94-2.06-.94-.94-2.06-.94 2.06-2.06.94z\"/><path d=\"M17.41 7.96l-1.37-1.37c-.4-.4-.92-.59-1.43-.59-.52 0-1.04.2-1.43.59L10.3 9.45l-7.72 7.72c-.78.78-.78 2.05 0 2.83L4 21.41c.39.39.9.59 1.41.59.51 0 1.02-.2 1.41-.59l7.78-7.78 2.81-2.81c.8-.78.8-2.07 0-2.86zM5.41 20L4 18.59l7.72-7.72 1.47 1.35L5.41 20z\"/>\n",
              "  </svg>\n",
              "      </button>\n",
              "      \n",
              "  <style>\n",
              "    .colab-df-container {\n",
              "      display:flex;\n",
              "      flex-wrap:wrap;\n",
              "      gap: 12px;\n",
              "    }\n",
              "\n",
              "    .colab-df-convert {\n",
              "      background-color: #E8F0FE;\n",
              "      border: none;\n",
              "      border-radius: 50%;\n",
              "      cursor: pointer;\n",
              "      display: none;\n",
              "      fill: #1967D2;\n",
              "      height: 32px;\n",
              "      padding: 0 0 0 0;\n",
              "      width: 32px;\n",
              "    }\n",
              "\n",
              "    .colab-df-convert:hover {\n",
              "      background-color: #E2EBFA;\n",
              "      box-shadow: 0px 1px 2px rgba(60, 64, 67, 0.3), 0px 1px 3px 1px rgba(60, 64, 67, 0.15);\n",
              "      fill: #174EA6;\n",
              "    }\n",
              "\n",
              "    [theme=dark] .colab-df-convert {\n",
              "      background-color: #3B4455;\n",
              "      fill: #D2E3FC;\n",
              "    }\n",
              "\n",
              "    [theme=dark] .colab-df-convert:hover {\n",
              "      background-color: #434B5C;\n",
              "      box-shadow: 0px 1px 3px 1px rgba(0, 0, 0, 0.15);\n",
              "      filter: drop-shadow(0px 1px 2px rgba(0, 0, 0, 0.3));\n",
              "      fill: #FFFFFF;\n",
              "    }\n",
              "  </style>\n",
              "\n",
              "      <script>\n",
              "        const buttonEl =\n",
              "          document.querySelector('#df-f716dd2e-2598-401c-8344-0a53a23aa6a3 button.colab-df-convert');\n",
              "        buttonEl.style.display =\n",
              "          google.colab.kernel.accessAllowed ? 'block' : 'none';\n",
              "\n",
              "        async function convertToInteractive(key) {\n",
              "          const element = document.querySelector('#df-f716dd2e-2598-401c-8344-0a53a23aa6a3');\n",
              "          const dataTable =\n",
              "            await google.colab.kernel.invokeFunction('convertToInteractive',\n",
              "                                                     [key], {});\n",
              "          if (!dataTable) return;\n",
              "\n",
              "          const docLinkHtml = 'Like what you see? Visit the ' +\n",
              "            '<a target=\"_blank\" href=https://colab.research.google.com/notebooks/data_table.ipynb>data table notebook</a>'\n",
              "            + ' to learn more about interactive tables.';\n",
              "          element.innerHTML = '';\n",
              "          dataTable['output_type'] = 'display_data';\n",
              "          await google.colab.output.renderOutput(dataTable, element);\n",
              "          const docLink = document.createElement('div');\n",
              "          docLink.innerHTML = docLinkHtml;\n",
              "          element.appendChild(docLink);\n",
              "        }\n",
              "      </script>\n",
              "    </div>\n",
              "  </div>\n",
              "  "
            ]
          },
          "metadata": {},
          "execution_count": 45
        }
      ]
    },
    {
      "cell_type": "markdown",
      "source": [
        "csv 파일을 불러온다."
      ],
      "metadata": {
        "id": "ySoJ2qTpxlP4"
      }
    },
    {
      "cell_type": "markdown",
      "source": [
        "#참고문헌"
      ],
      "metadata": {
        "id": "nFU18skzyTDh"
      }
    },
    {
      "cell_type": "markdown",
      "source": [
        "[Python: JSON 개념과 json 모듈 사용법](https://kibua20.tistory.com/114)"
      ],
      "metadata": {
        "id": "Qr5FS0JtyUdq"
      }
    }
  ]
}