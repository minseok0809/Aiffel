{
  "nbformat": 4,
  "nbformat_minor": 0,
  "metadata": {
    "colab": {
      "name": "[Datathon_Team06]02_Summary_Json_Parsing.ipynb",
      "provenance": [],
      "collapsed_sections": [],
      "machine_shape": "hm",
      "toc_visible": true
    },
    "kernelspec": {
      "name": "python3",
      "display_name": "Python 3"
    },
    "language_info": {
      "name": "python"
    },
    "accelerator": "GPU"
  },
  "cells": [
    {
      "cell_type": "markdown",
      "source": [
        "#데이터톤"
      ],
      "metadata": {
        "id": "oarfGxS2keBv"
      }
    },
    {
      "cell_type": "markdown",
      "source": [
        "[\"훈민정음에 스며들다\"-대화요약 역량평가](https://dacon.io/competitions/official/235818/overview/description)\n",
        "<br/>[AI HUB 한국어 대화 요약](https://aihub.or.kr/aidata/30714)\n",
        "\n"
      ],
      "metadata": {
        "id": "hyO2tbLs2REw"
      }
    },
    {
      "cell_type": "markdown",
      "source": [
        "개발 환경\n",
        "<br/>데이터 정보\n",
        "<br/>Json Parsing\n",
        "<br/>CSV 변환\n",
        "<br/>참고문헌\n"
      ],
      "metadata": {
        "id": "jsCVTgMfykTR"
      }
    },
    {
      "cell_type": "markdown",
      "source": [
        "#개발 환경"
      ],
      "metadata": {
        "id": "J1ZvfFXYykWY"
      }
    },
    {
      "cell_type": "code",
      "execution_count": null,
      "metadata": {
        "id": "fgHFnhlLjzBN"
      },
      "outputs": [],
      "source": [
        "gpu_info = !nvidia-smi\n",
        "gpu_info = '\\n'.join(gpu_info)\n",
        "if gpu_info.find('failed') >= 0:\n",
        "  print('Not connected to a GPU')\n",
        "else:\n",
        "  print(gpu_info)"
      ]
    },
    {
      "cell_type": "code",
      "source": [
        "from psutil import virtual_memory\n",
        "ram_gb = virtual_memory().total / 1e9\n",
        "print('Your runtime has {:.1f} gigabytes of available RAM\\n'.format(ram_gb))\n",
        "\n",
        "if ram_gb < 20:\n",
        "  print('Not using a high-RAM runtime')\n",
        "else:\n",
        "  print('You are using a high-RAM runtime!')"
      ],
      "metadata": {
        "id": "RJU5Tbe4kdGl"
      },
      "execution_count": null,
      "outputs": []
    },
    {
      "cell_type": "code",
      "source": [
        "from google.colab import drive\n",
        "drive.mount('/content/drive')"
      ],
      "metadata": {
        "id": "HQoFvEexkdAt"
      },
      "execution_count": null,
      "outputs": []
    },
    {
      "cell_type": "code",
      "source": [
        "import pandas as pd\n",
        "import json"
      ],
      "metadata": {
        "id": "2QhyoZUlnHly"
      },
      "execution_count": null,
      "outputs": []
    },
    {
      "cell_type": "markdown",
      "source": [
        "JSON은 Key-value를 양식을 가지는 텍스트 파일로 인터넷 상의 서버-클라이언트의 데이터 교환에 사용된다. \n",
        "<br/>Python에서는 json 모듈을 지원하고 있으면 인코딩/디코딩을 지원하고 있고, JSON 데이터와 Python 데이터는 1:1로 맵핑되어 사용하기 쉽다."
      ],
      "metadata": {
        "id": "0b0eJVl5x_1i"
      }
    },
    {
      "cell_type": "markdown",
      "source": [
        "JSON(JavaScript Object Notation)은 속성-값 쌍(attribute–value pairs and array data types (or any other serializable value))\n",
        "<br/>또는 \"키-값 쌍\"으로 이루어진 데이터 오브젝트를 전달하기 위해 인간이 읽을 수 있는 텍스트를 사용하는 개방형 표준 포맷입니다.\n",
        "<br/>비동기 브라우저/서버 통신 (AJAX)을 위해, 넓게는 XML(AJAX가 사용)을 대체하는 주요 데이터 포맷이다."
      ],
      "metadata": {
        "id": "LGCYLxO7tEUL"
      }
    },
    {
      "cell_type": "markdown",
      "source": [
        "#데이터 정보"
      ],
      "metadata": {
        "id": "k7NUPJoXnJ12"
      }
    },
    {
      "cell_type": "code",
      "source": [
        "event_json_path = '/content/drive/MyDrive/Dataton/kor_sum_train/행사.json'\n",
        "\n",
        "with open(event_json_path, 'r') as event_json_file:\n",
        "  event_json_sample = json.load(event_json_file)"
      ],
      "metadata": {
        "id": "gFCBnr63j2a2"
      },
      "execution_count": null,
      "outputs": []
    },
    {
      "cell_type": "markdown",
      "source": [
        "한국어 대화 요약 데이터는 크라우드 소싱을 통해 수집한 35만 건이다.\n",
        "<br/>크라우드 워커에 의해 대화 조각을 기준에 맞게 나누고\n",
        "<br/>비식별화를 수행한 데이터는 이후 가공 과정을 통해 메타 정보와 요약문을 어노테이션하였다."
      ],
      "metadata": {
        "id": "k5oA3rls2AYw"
      }
    },
    {
      "cell_type": "markdown",
      "source": [
        "(최소 4턴 이상의) 대화원문 + 요약문 35만건 (JSON파일, UTF-8 인코딩)\n",
        "<br/>오픈 도메인 일상대화주제로 구성 "
      ],
      "metadata": {
        "id": "Pfi8nXPMtFnx"
      }
    },
    {
      "cell_type": "markdown",
      "source": [
        "대화 텍스트는 문어 중심으로 개발된 기존의 자연어처리\n",
        "<br/>기술의 적용에 한계가 있어, 문어에 특화된 데이터셋의 구축이 필수적으로 요청된다.\n",
        "* 비대면 상황에서 컴퓨터를 매개로 하여 이루어지는 SNS 대화의 경우에도 구어적 속성\n",
        "* 문장 성분의 생략, 축약적 표현의 사용"
      ],
      "metadata": {
        "id": "i46P-RcrtmNR"
      }
    },
    {
      "cell_type": "markdown",
      "source": [
        "##대화 매체"
      ],
      "metadata": {
        "id": "Cg47f3t-4pQp"
      }
    },
    {
      "cell_type": "markdown",
      "source": [
        "본 과제의 원천 데이터는 대중들의 일상생활에서 가장 널리 쓰이는 카카오톡을 이용하여\n",
        "<br/>이루어진 대화 원문으로 선정하여 포괄성을 확보한다."
      ],
      "metadata": {
        "id": "wSnBWL7M4pMI"
      }
    },
    {
      "cell_type": "markdown",
      "source": [
        "원시데이터는 카카오톡에서 이루어진 대화를 “대화 내용 내보내기” - “텍스트 메시지만 보내기” 기능에 의해\n",
        "<br/>생성된 플레인 텍스트 파일 형태이다."
      ],
      "metadata": {
        "id": "7gg7pQ_A5DjQ"
      }
    },
    {
      "cell_type": "markdown",
      "source": [
        "**관련 연구**\n",
        "<br/>박일섭. 2019. 《메신저 대화 자료 수집 및 말뭉치 구축》. 국립국어원."
      ],
      "metadata": {
        "id": "lQZqJeGK4pOf"
      }
    },
    {
      "cell_type": "markdown",
      "source": [
        "##대화 분포"
      ],
      "metadata": {
        "id": "PZt9Jfuj4KfJ"
      }
    },
    {
      "cell_type": "markdown",
      "source": [
        "|대화 주제|빈도|분포|\n",
        "|------|---|---|\n",
        "|개인 및 관계|1,887|18.87%|\n",
        "|식음료|1,283|12.83%|\n",
        "|주거와 생활|1,242|12.42%|\n",
        "|상거래(쇼핑)|1,228|12.28%|\n",
        "|행사|1,150|11.50%|\n",
        "|여가 생활|1,066|10.66%|\n",
        "|미용과 건강|927 | 9.27%|\n",
        "|일과 직업|724|7.24%|\n",
        "|시사/교육|493|4.93%|\n",
        "|합계|10,000|100.00%|"
      ],
      "metadata": {
        "id": "33mjVLe30cQw"
      }
    },
    {
      "cell_type": "markdown",
      "source": [
        "그 중에서 행사.json 파일을 불러온다."
      ],
      "metadata": {
        "id": "ny0ZJuVutXOT"
      }
    },
    {
      "cell_type": "markdown",
      "source": [
        "대화 주제 분포에서 '행사'는 11.50%를 차지한다."
      ],
      "metadata": {
        "id": "H8JMM6Iv1pbX"
      }
    },
    {
      "cell_type": "markdown",
      "source": [
        "##대화 내용"
      ],
      "metadata": {
        "id": "Wzpiscjh4IVB"
      }
    },
    {
      "cell_type": "markdown",
      "source": [
        "일상 대화와 토론 대화에서는 다양한 주제가 다루어질 수 있는데\n",
        "<br/>본 과제에서는 최대한 다양한 내용을 담기 위해 \n",
        "<br/>기존 유사 사업에서 제시한 대화 주제 분류를 재분류하고 최대한 골고루 수집될 수 있도록 함"
      ],
      "metadata": {
        "id": "8U_xZ0f52AbP"
      }
    },
    {
      "cell_type": "markdown",
      "source": [
        "대분류 : 행사\n"
      ],
      "metadata": {
        "id": "snszWo533sYR"
      }
    },
    {
      "cell_type": "markdown",
      "source": [
        "소분류 : 초대, 방문, 소개팅, 약속, 가족 및 친척 행사, 공적 행사, 사적 모임(친목 모임),\n",
        "<br/>여행 장소 및 경로, 여행 계획(일정, 숙소, 교통편, 여행 경비), 여행팁, 기념품,\n",
        "여행사 및 여행 상품"
      ],
      "metadata": {
        "id": "X9ae-yop3ciY"
      }
    },
    {
      "cell_type": "markdown",
      "source": [
        "##데이터 포맷"
      ],
      "metadata": {
        "id": "r-JgBlX_zLcK"
      }
    },
    {
      "cell_type": "markdown",
      "source": [
        "{\n",
        "<br/>“header”: {\n",
        "<br/>“dialogueInfo”: {\n",
        "<br/>“dialogueID”: “D000001”,\n",
        "<br/>“numberOfParticipants”: 3,\n",
        "<br/>“numberOfUtterances”: 5,\n",
        "<br/>“numberOfTurns”: 2,\n",
        "<br/>“type”: “일상대화”,\n",
        "<br/>“topic”: “행사”\n",
        "<br/><br/>“participants”: [\n",
        "<br/>{\n",
        "<br/>“participantID”: “P1”,\n",
        "<br/>“gender”: “남”,\n",
        "<br/>“age”: “50대”,\n",
        "<br/>“residentialProvince”: “서울”\n",
        "<br/>},\n",
        "<br/><br/>...\n",
        "<br/><br/>]\n",
        "<br/>},\n",
        "<br/><br/>“body”: {\n",
        "<br/>“dialogue”: [\n",
        "<br/>{\n",
        "<br/>“utteranceID”: “U1”,\n",
        "<br/>“turnID”: “T1”\n",
        "<br/>“participantID”: “P1”,\n",
        "<br/>“date”: “2020-07-23”\n",
        "<br/>“time”: “10:52:02”,\n",
        "<br/>“utterance”: “내일이 #@이름# 엄마 생일임.”\n",
        "<br/>},\n",
        "<br/><br/>...\n",
        "<br/><br/>]\n",
        "<br/>“summary”: “엄마 생일을 맞아 모두 모여 외식할 수 있는 저녁 식사 시간을 정하고 있\n",
        "다.”\n",
        "<br/>}\n",
        "<br/>}"
      ],
      "metadata": {
        "id": "ZkdFCAoczN7R"
      }
    },
    {
      "cell_type": "code",
      "source": [
        "type(event_json_sample)"
      ],
      "metadata": {
        "colab": {
          "base_uri": "https://localhost:8080/"
        },
        "id": "Mr1idLcHj2dt",
        "outputId": "ac581724-aca5-40e7-9281-9be4b3e9e630"
      },
      "execution_count": null,
      "outputs": [
        {
          "output_type": "execute_result",
          "data": {
            "text/plain": [
              "dict"
            ]
          },
          "metadata": {},
          "execution_count": 6
        }
      ]
    },
    {
      "cell_type": "code",
      "source": [
        "event_json_sample.keys()"
      ],
      "metadata": {
        "colab": {
          "base_uri": "https://localhost:8080/"
        },
        "id": "QbWQYzNZj2id",
        "outputId": "de37f6f4-6007-40e2-b929-5100daf8a94a"
      },
      "execution_count": null,
      "outputs": [
        {
          "output_type": "execute_result",
          "data": {
            "text/plain": [
              "dict_keys(['numberOfItems', 'data'])"
            ]
          },
          "metadata": {},
          "execution_count": 7
        }
      ]
    },
    {
      "cell_type": "code",
      "source": [
        "for key in event_json_sample.keys():\n",
        "  print(key)"
      ],
      "metadata": {
        "colab": {
          "base_uri": "https://localhost:8080/"
        },
        "id": "Ex55KxFG3lMO",
        "outputId": "438c3db2-25f3-4e95-872b-f04fa6c14634"
      },
      "execution_count": null,
      "outputs": [
        {
          "output_type": "stream",
          "name": "stdout",
          "text": [
            "numberOfItems\n",
            "data\n"
          ]
        }
      ]
    },
    {
      "cell_type": "code",
      "source": [
        "event_json_sample['numberOfItems']"
      ],
      "metadata": {
        "colab": {
          "base_uri": "https://localhost:8080/"
        },
        "id": "c4cU8XwaXRB6",
        "outputId": "a3265c53-608e-43b1-9b6e-922b65da0896"
      },
      "execution_count": null,
      "outputs": [
        {
          "output_type": "execute_result",
          "data": {
            "text/plain": [
              "20720"
            ]
          },
          "metadata": {},
          "execution_count": 9
        }
      ]
    },
    {
      "cell_type": "markdown",
      "source": [
        "numberOfItems은 대화의 순서(번호)"
      ],
      "metadata": {
        "id": "S5cs5r57uGsZ"
      }
    },
    {
      "cell_type": "markdown",
      "source": [
        "data는 각 대화"
      ],
      "metadata": {
        "id": "wJXyLVAuuKfp"
      }
    },
    {
      "cell_type": "code",
      "source": [
        "type(event_json_sample['numberOfItems'])"
      ],
      "metadata": {
        "colab": {
          "base_uri": "https://localhost:8080/"
        },
        "id": "YXtivEpJj2n9",
        "outputId": "6bb255bf-d665-4dbe-8e33-0ed67d766807"
      },
      "execution_count": null,
      "outputs": [
        {
          "output_type": "execute_result",
          "data": {
            "text/plain": [
              "int"
            ]
          },
          "metadata": {},
          "execution_count": 10
        }
      ]
    },
    {
      "cell_type": "code",
      "source": [
        "type(event_json_sample['data'])"
      ],
      "metadata": {
        "colab": {
          "base_uri": "https://localhost:8080/"
        },
        "id": "5Py-aR4Vj2qU",
        "outputId": "baaf6eca-6764-451f-873b-eb486d8d251e"
      },
      "execution_count": null,
      "outputs": [
        {
          "output_type": "execute_result",
          "data": {
            "text/plain": [
              "list"
            ]
          },
          "metadata": {},
          "execution_count": 11
        }
      ]
    },
    {
      "cell_type": "code",
      "source": [
        "event_json_sample['data'][0].keys()"
      ],
      "metadata": {
        "colab": {
          "base_uri": "https://localhost:8080/"
        },
        "id": "J_aJkkwHj2tW",
        "outputId": "11bbc8b9-b971-41ed-fea4-5f23863f7cbf"
      },
      "execution_count": null,
      "outputs": [
        {
          "output_type": "execute_result",
          "data": {
            "text/plain": [
              "dict_keys(['header', 'body'])"
            ]
          },
          "metadata": {},
          "execution_count": 12
        }
      ]
    },
    {
      "cell_type": "markdown",
      "source": [
        "data에서 header는 대화와 화자에 대한 정보"
      ],
      "metadata": {
        "id": "-XRo9WKcufAw"
      }
    },
    {
      "cell_type": "markdown",
      "source": [
        "body는 각 turn에 대한 정보"
      ],
      "metadata": {
        "id": "81MUalvPu14h"
      }
    },
    {
      "cell_type": "markdown",
      "source": [
        "#Json Parsing"
      ],
      "metadata": {
        "id": "8-H7IIUOrII0"
      }
    },
    {
      "cell_type": "code",
      "source": [
        "event_json_sample_summary_list = []"
      ],
      "metadata": {
        "id": "GwbUrmC1YpIc"
      },
      "execution_count": null,
      "outputs": []
    },
    {
      "cell_type": "code",
      "source": [
        "for i in event_json_sample['data'] :\n",
        "  event_json_sample_body = i['body']\n",
        "  for j in event_json_sample_body :\n",
        "    event_json_sample_summary = event_json_sample_body['summary']\n",
        "    event_json_sample_summary_list.append(event_json_sample_summary)"
      ],
      "metadata": {
        "id": "nqcPrXDTYiHy"
      },
      "execution_count": null,
      "outputs": []
    },
    {
      "cell_type": "code",
      "source": [
        "event_json_sample_summary_df = pd.DataFrame(event_json_sample_summary_list)"
      ],
      "metadata": {
        "id": "V0CWKaZlYFbS"
      },
      "execution_count": null,
      "outputs": []
    },
    {
      "cell_type": "code",
      "source": [
        "event_json_sample_summary_df[0:1]"
      ],
      "metadata": {
        "colab": {
          "base_uri": "https://localhost:8080/",
          "height": 81
        },
        "id": "UjfznZQPYvcq",
        "outputId": "864a3355-a03e-40c0-8107-1cab4f702dc8"
      },
      "execution_count": null,
      "outputs": [
        {
          "output_type": "execute_result",
          "data": {
            "text/plain": [
              "                                                0\n",
              "0  비행시간이 엄청나게 오래 걸리기에 하루 잔다고 생각하기로 하고 결제를 하려고 한다."
            ],
            "text/html": [
              "\n",
              "  <div id=\"df-d8c755ab-bc0e-481c-9530-4467598313a2\">\n",
              "    <div class=\"colab-df-container\">\n",
              "      <div>\n",
              "<style scoped>\n",
              "    .dataframe tbody tr th:only-of-type {\n",
              "        vertical-align: middle;\n",
              "    }\n",
              "\n",
              "    .dataframe tbody tr th {\n",
              "        vertical-align: top;\n",
              "    }\n",
              "\n",
              "    .dataframe thead th {\n",
              "        text-align: right;\n",
              "    }\n",
              "</style>\n",
              "<table border=\"1\" class=\"dataframe\">\n",
              "  <thead>\n",
              "    <tr style=\"text-align: right;\">\n",
              "      <th></th>\n",
              "      <th>0</th>\n",
              "    </tr>\n",
              "  </thead>\n",
              "  <tbody>\n",
              "    <tr>\n",
              "      <th>0</th>\n",
              "      <td>비행시간이 엄청나게 오래 걸리기에 하루 잔다고 생각하기로 하고 결제를 하려고 한다.</td>\n",
              "    </tr>\n",
              "  </tbody>\n",
              "</table>\n",
              "</div>\n",
              "      <button class=\"colab-df-convert\" onclick=\"convertToInteractive('df-d8c755ab-bc0e-481c-9530-4467598313a2')\"\n",
              "              title=\"Convert this dataframe to an interactive table.\"\n",
              "              style=\"display:none;\">\n",
              "        \n",
              "  <svg xmlns=\"http://www.w3.org/2000/svg\" height=\"24px\"viewBox=\"0 0 24 24\"\n",
              "       width=\"24px\">\n",
              "    <path d=\"M0 0h24v24H0V0z\" fill=\"none\"/>\n",
              "    <path d=\"M18.56 5.44l.94 2.06.94-2.06 2.06-.94-2.06-.94-.94-2.06-.94 2.06-2.06.94zm-11 1L8.5 8.5l.94-2.06 2.06-.94-2.06-.94L8.5 2.5l-.94 2.06-2.06.94zm10 10l.94 2.06.94-2.06 2.06-.94-2.06-.94-.94-2.06-.94 2.06-2.06.94z\"/><path d=\"M17.41 7.96l-1.37-1.37c-.4-.4-.92-.59-1.43-.59-.52 0-1.04.2-1.43.59L10.3 9.45l-7.72 7.72c-.78.78-.78 2.05 0 2.83L4 21.41c.39.39.9.59 1.41.59.51 0 1.02-.2 1.41-.59l7.78-7.78 2.81-2.81c.8-.78.8-2.07 0-2.86zM5.41 20L4 18.59l7.72-7.72 1.47 1.35L5.41 20z\"/>\n",
              "  </svg>\n",
              "      </button>\n",
              "      \n",
              "  <style>\n",
              "    .colab-df-container {\n",
              "      display:flex;\n",
              "      flex-wrap:wrap;\n",
              "      gap: 12px;\n",
              "    }\n",
              "\n",
              "    .colab-df-convert {\n",
              "      background-color: #E8F0FE;\n",
              "      border: none;\n",
              "      border-radius: 50%;\n",
              "      cursor: pointer;\n",
              "      display: none;\n",
              "      fill: #1967D2;\n",
              "      height: 32px;\n",
              "      padding: 0 0 0 0;\n",
              "      width: 32px;\n",
              "    }\n",
              "\n",
              "    .colab-df-convert:hover {\n",
              "      background-color: #E2EBFA;\n",
              "      box-shadow: 0px 1px 2px rgba(60, 64, 67, 0.3), 0px 1px 3px 1px rgba(60, 64, 67, 0.15);\n",
              "      fill: #174EA6;\n",
              "    }\n",
              "\n",
              "    [theme=dark] .colab-df-convert {\n",
              "      background-color: #3B4455;\n",
              "      fill: #D2E3FC;\n",
              "    }\n",
              "\n",
              "    [theme=dark] .colab-df-convert:hover {\n",
              "      background-color: #434B5C;\n",
              "      box-shadow: 0px 1px 3px 1px rgba(0, 0, 0, 0.15);\n",
              "      filter: drop-shadow(0px 1px 2px rgba(0, 0, 0, 0.3));\n",
              "      fill: #FFFFFF;\n",
              "    }\n",
              "  </style>\n",
              "\n",
              "      <script>\n",
              "        const buttonEl =\n",
              "          document.querySelector('#df-d8c755ab-bc0e-481c-9530-4467598313a2 button.colab-df-convert');\n",
              "        buttonEl.style.display =\n",
              "          google.colab.kernel.accessAllowed ? 'block' : 'none';\n",
              "\n",
              "        async function convertToInteractive(key) {\n",
              "          const element = document.querySelector('#df-d8c755ab-bc0e-481c-9530-4467598313a2');\n",
              "          const dataTable =\n",
              "            await google.colab.kernel.invokeFunction('convertToInteractive',\n",
              "                                                     [key], {});\n",
              "          if (!dataTable) return;\n",
              "\n",
              "          const docLinkHtml = 'Like what you see? Visit the ' +\n",
              "            '<a target=\"_blank\" href=https://colab.research.google.com/notebooks/data_table.ipynb>data table notebook</a>'\n",
              "            + ' to learn more about interactive tables.';\n",
              "          element.innerHTML = '';\n",
              "          dataTable['output_type'] = 'display_data';\n",
              "          await google.colab.output.renderOutput(dataTable, element);\n",
              "          const docLink = document.createElement('div');\n",
              "          docLink.innerHTML = docLinkHtml;\n",
              "          element.appendChild(docLink);\n",
              "        }\n",
              "      </script>\n",
              "    </div>\n",
              "  </div>\n",
              "  "
            ]
          },
          "metadata": {},
          "execution_count": 18
        }
      ]
    },
    {
      "cell_type": "code",
      "source": [
        "event_json_sample_summary_df2 = event_json_sample_summary_df.iloc[::2,:]"
      ],
      "metadata": {
        "id": "Q9NaCEjCZRmC"
      },
      "execution_count": null,
      "outputs": []
    },
    {
      "cell_type": "code",
      "source": [
        "event_json_sample_summary_df2[:1]"
      ],
      "metadata": {
        "colab": {
          "base_uri": "https://localhost:8080/",
          "height": 81
        },
        "id": "EKfGvVQrZVE6",
        "outputId": "eb12045d-b521-49a0-b306-99277a83ba2f"
      },
      "execution_count": null,
      "outputs": [
        {
          "output_type": "execute_result",
          "data": {
            "text/plain": [
              "                                                0\n",
              "0  비행시간이 엄청나게 오래 걸리기에 하루 잔다고 생각하기로 하고 결제를 하려고 한다."
            ],
            "text/html": [
              "\n",
              "  <div id=\"df-1d7ab8d4-45ad-43fa-9d30-b6593f5d4360\">\n",
              "    <div class=\"colab-df-container\">\n",
              "      <div>\n",
              "<style scoped>\n",
              "    .dataframe tbody tr th:only-of-type {\n",
              "        vertical-align: middle;\n",
              "    }\n",
              "\n",
              "    .dataframe tbody tr th {\n",
              "        vertical-align: top;\n",
              "    }\n",
              "\n",
              "    .dataframe thead th {\n",
              "        text-align: right;\n",
              "    }\n",
              "</style>\n",
              "<table border=\"1\" class=\"dataframe\">\n",
              "  <thead>\n",
              "    <tr style=\"text-align: right;\">\n",
              "      <th></th>\n",
              "      <th>0</th>\n",
              "    </tr>\n",
              "  </thead>\n",
              "  <tbody>\n",
              "    <tr>\n",
              "      <th>0</th>\n",
              "      <td>비행시간이 엄청나게 오래 걸리기에 하루 잔다고 생각하기로 하고 결제를 하려고 한다.</td>\n",
              "    </tr>\n",
              "  </tbody>\n",
              "</table>\n",
              "</div>\n",
              "      <button class=\"colab-df-convert\" onclick=\"convertToInteractive('df-1d7ab8d4-45ad-43fa-9d30-b6593f5d4360')\"\n",
              "              title=\"Convert this dataframe to an interactive table.\"\n",
              "              style=\"display:none;\">\n",
              "        \n",
              "  <svg xmlns=\"http://www.w3.org/2000/svg\" height=\"24px\"viewBox=\"0 0 24 24\"\n",
              "       width=\"24px\">\n",
              "    <path d=\"M0 0h24v24H0V0z\" fill=\"none\"/>\n",
              "    <path d=\"M18.56 5.44l.94 2.06.94-2.06 2.06-.94-2.06-.94-.94-2.06-.94 2.06-2.06.94zm-11 1L8.5 8.5l.94-2.06 2.06-.94-2.06-.94L8.5 2.5l-.94 2.06-2.06.94zm10 10l.94 2.06.94-2.06 2.06-.94-2.06-.94-.94-2.06-.94 2.06-2.06.94z\"/><path d=\"M17.41 7.96l-1.37-1.37c-.4-.4-.92-.59-1.43-.59-.52 0-1.04.2-1.43.59L10.3 9.45l-7.72 7.72c-.78.78-.78 2.05 0 2.83L4 21.41c.39.39.9.59 1.41.59.51 0 1.02-.2 1.41-.59l7.78-7.78 2.81-2.81c.8-.78.8-2.07 0-2.86zM5.41 20L4 18.59l7.72-7.72 1.47 1.35L5.41 20z\"/>\n",
              "  </svg>\n",
              "      </button>\n",
              "      \n",
              "  <style>\n",
              "    .colab-df-container {\n",
              "      display:flex;\n",
              "      flex-wrap:wrap;\n",
              "      gap: 12px;\n",
              "    }\n",
              "\n",
              "    .colab-df-convert {\n",
              "      background-color: #E8F0FE;\n",
              "      border: none;\n",
              "      border-radius: 50%;\n",
              "      cursor: pointer;\n",
              "      display: none;\n",
              "      fill: #1967D2;\n",
              "      height: 32px;\n",
              "      padding: 0 0 0 0;\n",
              "      width: 32px;\n",
              "    }\n",
              "\n",
              "    .colab-df-convert:hover {\n",
              "      background-color: #E2EBFA;\n",
              "      box-shadow: 0px 1px 2px rgba(60, 64, 67, 0.3), 0px 1px 3px 1px rgba(60, 64, 67, 0.15);\n",
              "      fill: #174EA6;\n",
              "    }\n",
              "\n",
              "    [theme=dark] .colab-df-convert {\n",
              "      background-color: #3B4455;\n",
              "      fill: #D2E3FC;\n",
              "    }\n",
              "\n",
              "    [theme=dark] .colab-df-convert:hover {\n",
              "      background-color: #434B5C;\n",
              "      box-shadow: 0px 1px 3px 1px rgba(0, 0, 0, 0.15);\n",
              "      filter: drop-shadow(0px 1px 2px rgba(0, 0, 0, 0.3));\n",
              "      fill: #FFFFFF;\n",
              "    }\n",
              "  </style>\n",
              "\n",
              "      <script>\n",
              "        const buttonEl =\n",
              "          document.querySelector('#df-1d7ab8d4-45ad-43fa-9d30-b6593f5d4360 button.colab-df-convert');\n",
              "        buttonEl.style.display =\n",
              "          google.colab.kernel.accessAllowed ? 'block' : 'none';\n",
              "\n",
              "        async function convertToInteractive(key) {\n",
              "          const element = document.querySelector('#df-1d7ab8d4-45ad-43fa-9d30-b6593f5d4360');\n",
              "          const dataTable =\n",
              "            await google.colab.kernel.invokeFunction('convertToInteractive',\n",
              "                                                     [key], {});\n",
              "          if (!dataTable) return;\n",
              "\n",
              "          const docLinkHtml = 'Like what you see? Visit the ' +\n",
              "            '<a target=\"_blank\" href=https://colab.research.google.com/notebooks/data_table.ipynb>data table notebook</a>'\n",
              "            + ' to learn more about interactive tables.';\n",
              "          element.innerHTML = '';\n",
              "          dataTable['output_type'] = 'display_data';\n",
              "          await google.colab.output.renderOutput(dataTable, element);\n",
              "          const docLink = document.createElement('div');\n",
              "          docLink.innerHTML = docLinkHtml;\n",
              "          element.appendChild(docLink);\n",
              "        }\n",
              "      </script>\n",
              "    </div>\n",
              "  </div>\n",
              "  "
            ]
          },
          "metadata": {},
          "execution_count": 40
        }
      ]
    },
    {
      "cell_type": "markdown",
      "source": [
        "0 ~ 1행.  2 ~ 3행, 4 ~ 5행으로 2행씩 내용이 중복되므로\n",
        "<br>홀수행을 제외한다."
      ],
      "metadata": {
        "id": "y9xj5E8Jv6bi"
      }
    },
    {
      "cell_type": "code",
      "source": [
        "event_json_sample_summary_df2.columns = ['text']"
      ],
      "metadata": {
        "id": "EojNXr9qqqR8"
      },
      "execution_count": null,
      "outputs": []
    },
    {
      "cell_type": "code",
      "source": [
        "event_json_sample_summary_df2.head()"
      ],
      "metadata": {
        "colab": {
          "base_uri": "https://localhost:8080/",
          "height": 206
        },
        "id": "Sptvmwh9qzTL",
        "outputId": "34cc9f89-2fb5-44d8-9a5e-dc8cab392eee"
      },
      "execution_count": null,
      "outputs": [
        {
          "output_type": "execute_result",
          "data": {
            "text/plain": [
              "                                                text\n",
              "0     비행시간이 엄청나게 오래 걸리기에 하루 잔다고 생각하기로 하고 결제를 하려고 한다.\n",
              "2                 20만 원이면 괜찮은 곳일 것 같은데 어느 호텔인지 궁금하다.\n",
              "4  신호에 너무 많이 걸려 이제 내렸다고 하니까 앞에 한 팀이 더 있어 딱 맞게 올 거...\n",
              "6                        쉬는 날을 확보하기 위해 일정을 조정하기로 했다.\n",
              "8  한 사람이 사촌 언니도 있고 아빠가 갑자기 원주에 가자고 해서 지금 원주에 갔다가 ..."
            ],
            "text/html": [
              "\n",
              "  <div id=\"df-f38f70b8-99f3-40b9-ba91-661e4ba846a5\">\n",
              "    <div class=\"colab-df-container\">\n",
              "      <div>\n",
              "<style scoped>\n",
              "    .dataframe tbody tr th:only-of-type {\n",
              "        vertical-align: middle;\n",
              "    }\n",
              "\n",
              "    .dataframe tbody tr th {\n",
              "        vertical-align: top;\n",
              "    }\n",
              "\n",
              "    .dataframe thead th {\n",
              "        text-align: right;\n",
              "    }\n",
              "</style>\n",
              "<table border=\"1\" class=\"dataframe\">\n",
              "  <thead>\n",
              "    <tr style=\"text-align: right;\">\n",
              "      <th></th>\n",
              "      <th>text</th>\n",
              "    </tr>\n",
              "  </thead>\n",
              "  <tbody>\n",
              "    <tr>\n",
              "      <th>0</th>\n",
              "      <td>비행시간이 엄청나게 오래 걸리기에 하루 잔다고 생각하기로 하고 결제를 하려고 한다.</td>\n",
              "    </tr>\n",
              "    <tr>\n",
              "      <th>2</th>\n",
              "      <td>20만 원이면 괜찮은 곳일 것 같은데 어느 호텔인지 궁금하다.</td>\n",
              "    </tr>\n",
              "    <tr>\n",
              "      <th>4</th>\n",
              "      <td>신호에 너무 많이 걸려 이제 내렸다고 하니까 앞에 한 팀이 더 있어 딱 맞게 올 거...</td>\n",
              "    </tr>\n",
              "    <tr>\n",
              "      <th>6</th>\n",
              "      <td>쉬는 날을 확보하기 위해 일정을 조정하기로 했다.</td>\n",
              "    </tr>\n",
              "    <tr>\n",
              "      <th>8</th>\n",
              "      <td>한 사람이 사촌 언니도 있고 아빠가 갑자기 원주에 가자고 해서 지금 원주에 갔다가 ...</td>\n",
              "    </tr>\n",
              "  </tbody>\n",
              "</table>\n",
              "</div>\n",
              "      <button class=\"colab-df-convert\" onclick=\"convertToInteractive('df-f38f70b8-99f3-40b9-ba91-661e4ba846a5')\"\n",
              "              title=\"Convert this dataframe to an interactive table.\"\n",
              "              style=\"display:none;\">\n",
              "        \n",
              "  <svg xmlns=\"http://www.w3.org/2000/svg\" height=\"24px\"viewBox=\"0 0 24 24\"\n",
              "       width=\"24px\">\n",
              "    <path d=\"M0 0h24v24H0V0z\" fill=\"none\"/>\n",
              "    <path d=\"M18.56 5.44l.94 2.06.94-2.06 2.06-.94-2.06-.94-.94-2.06-.94 2.06-2.06.94zm-11 1L8.5 8.5l.94-2.06 2.06-.94-2.06-.94L8.5 2.5l-.94 2.06-2.06.94zm10 10l.94 2.06.94-2.06 2.06-.94-2.06-.94-.94-2.06-.94 2.06-2.06.94z\"/><path d=\"M17.41 7.96l-1.37-1.37c-.4-.4-.92-.59-1.43-.59-.52 0-1.04.2-1.43.59L10.3 9.45l-7.72 7.72c-.78.78-.78 2.05 0 2.83L4 21.41c.39.39.9.59 1.41.59.51 0 1.02-.2 1.41-.59l7.78-7.78 2.81-2.81c.8-.78.8-2.07 0-2.86zM5.41 20L4 18.59l7.72-7.72 1.47 1.35L5.41 20z\"/>\n",
              "  </svg>\n",
              "      </button>\n",
              "      \n",
              "  <style>\n",
              "    .colab-df-container {\n",
              "      display:flex;\n",
              "      flex-wrap:wrap;\n",
              "      gap: 12px;\n",
              "    }\n",
              "\n",
              "    .colab-df-convert {\n",
              "      background-color: #E8F0FE;\n",
              "      border: none;\n",
              "      border-radius: 50%;\n",
              "      cursor: pointer;\n",
              "      display: none;\n",
              "      fill: #1967D2;\n",
              "      height: 32px;\n",
              "      padding: 0 0 0 0;\n",
              "      width: 32px;\n",
              "    }\n",
              "\n",
              "    .colab-df-convert:hover {\n",
              "      background-color: #E2EBFA;\n",
              "      box-shadow: 0px 1px 2px rgba(60, 64, 67, 0.3), 0px 1px 3px 1px rgba(60, 64, 67, 0.15);\n",
              "      fill: #174EA6;\n",
              "    }\n",
              "\n",
              "    [theme=dark] .colab-df-convert {\n",
              "      background-color: #3B4455;\n",
              "      fill: #D2E3FC;\n",
              "    }\n",
              "\n",
              "    [theme=dark] .colab-df-convert:hover {\n",
              "      background-color: #434B5C;\n",
              "      box-shadow: 0px 1px 3px 1px rgba(0, 0, 0, 0.15);\n",
              "      filter: drop-shadow(0px 1px 2px rgba(0, 0, 0, 0.3));\n",
              "      fill: #FFFFFF;\n",
              "    }\n",
              "  </style>\n",
              "\n",
              "      <script>\n",
              "        const buttonEl =\n",
              "          document.querySelector('#df-f38f70b8-99f3-40b9-ba91-661e4ba846a5 button.colab-df-convert');\n",
              "        buttonEl.style.display =\n",
              "          google.colab.kernel.accessAllowed ? 'block' : 'none';\n",
              "\n",
              "        async function convertToInteractive(key) {\n",
              "          const element = document.querySelector('#df-f38f70b8-99f3-40b9-ba91-661e4ba846a5');\n",
              "          const dataTable =\n",
              "            await google.colab.kernel.invokeFunction('convertToInteractive',\n",
              "                                                     [key], {});\n",
              "          if (!dataTable) return;\n",
              "\n",
              "          const docLinkHtml = 'Like what you see? Visit the ' +\n",
              "            '<a target=\"_blank\" href=https://colab.research.google.com/notebooks/data_table.ipynb>data table notebook</a>'\n",
              "            + ' to learn more about interactive tables.';\n",
              "          element.innerHTML = '';\n",
              "          dataTable['output_type'] = 'display_data';\n",
              "          await google.colab.output.renderOutput(dataTable, element);\n",
              "          const docLink = document.createElement('div');\n",
              "          docLink.innerHTML = docLinkHtml;\n",
              "          element.appendChild(docLink);\n",
              "        }\n",
              "      </script>\n",
              "    </div>\n",
              "  </div>\n",
              "  "
            ]
          },
          "metadata": {},
          "execution_count": 42
        }
      ]
    },
    {
      "cell_type": "code",
      "source": [
        "event_summary_df = event_json_sample_summary_df2[:10000]"
      ],
      "metadata": {
        "id": "OBBRnm057Xug"
      },
      "execution_count": null,
      "outputs": []
    },
    {
      "cell_type": "code",
      "source": [
        "event_summary_df "
      ],
      "metadata": {
        "colab": {
          "base_uri": "https://localhost:8080/",
          "height": 424
        },
        "id": "CH6veVL--Sqn",
        "outputId": "aa1896de-8873-4298-a4bc-82a7fbaaa384"
      },
      "execution_count": null,
      "outputs": [
        {
          "output_type": "execute_result",
          "data": {
            "text/plain": [
              "                                                    text\n",
              "0         비행시간이 엄청나게 오래 걸리기에 하루 잔다고 생각하기로 하고 결제를 하려고 한다.\n",
              "2                     20만 원이면 괜찮은 곳일 것 같은데 어느 호텔인지 궁금하다.\n",
              "4      신호에 너무 많이 걸려 이제 내렸다고 하니까 앞에 한 팀이 더 있어 딱 맞게 올 거...\n",
              "6                            쉬는 날을 확보하기 위해 일정을 조정하기로 했다.\n",
              "8      한 사람이 사촌 언니도 있고 아빠가 갑자기 원주에 가자고 해서 지금 원주에 갔다가 ...\n",
              "...                                                  ...\n",
              "19990  코스 요리를 먹으면서 동시에 식을 보는 것인데 코스 요리가 기본 10만 원부터 시작...\n",
              "19992                         내일 머리를 자른 후 삼성역에서 만나기로 한다.\n",
              "19994                        오늘 데이트를 위해 6시 회사에서 만나기로 했다.\n",
              "19996                    여름에 졸업사진을 찍으면 땀이 나서 머리가 다 망가진다.\n",
              "19998  방 탈출을 취소하는 것을 까먹어서 갑자기 전화 와서 놀랬다고 하였으며 취소했다고 알...\n",
              "\n",
              "[10000 rows x 1 columns]"
            ],
            "text/html": [
              "\n",
              "  <div id=\"df-e8c74387-1f97-41fb-bd97-54144db6cd11\">\n",
              "    <div class=\"colab-df-container\">\n",
              "      <div>\n",
              "<style scoped>\n",
              "    .dataframe tbody tr th:only-of-type {\n",
              "        vertical-align: middle;\n",
              "    }\n",
              "\n",
              "    .dataframe tbody tr th {\n",
              "        vertical-align: top;\n",
              "    }\n",
              "\n",
              "    .dataframe thead th {\n",
              "        text-align: right;\n",
              "    }\n",
              "</style>\n",
              "<table border=\"1\" class=\"dataframe\">\n",
              "  <thead>\n",
              "    <tr style=\"text-align: right;\">\n",
              "      <th></th>\n",
              "      <th>text</th>\n",
              "    </tr>\n",
              "  </thead>\n",
              "  <tbody>\n",
              "    <tr>\n",
              "      <th>0</th>\n",
              "      <td>비행시간이 엄청나게 오래 걸리기에 하루 잔다고 생각하기로 하고 결제를 하려고 한다.</td>\n",
              "    </tr>\n",
              "    <tr>\n",
              "      <th>2</th>\n",
              "      <td>20만 원이면 괜찮은 곳일 것 같은데 어느 호텔인지 궁금하다.</td>\n",
              "    </tr>\n",
              "    <tr>\n",
              "      <th>4</th>\n",
              "      <td>신호에 너무 많이 걸려 이제 내렸다고 하니까 앞에 한 팀이 더 있어 딱 맞게 올 거...</td>\n",
              "    </tr>\n",
              "    <tr>\n",
              "      <th>6</th>\n",
              "      <td>쉬는 날을 확보하기 위해 일정을 조정하기로 했다.</td>\n",
              "    </tr>\n",
              "    <tr>\n",
              "      <th>8</th>\n",
              "      <td>한 사람이 사촌 언니도 있고 아빠가 갑자기 원주에 가자고 해서 지금 원주에 갔다가 ...</td>\n",
              "    </tr>\n",
              "    <tr>\n",
              "      <th>...</th>\n",
              "      <td>...</td>\n",
              "    </tr>\n",
              "    <tr>\n",
              "      <th>19990</th>\n",
              "      <td>코스 요리를 먹으면서 동시에 식을 보는 것인데 코스 요리가 기본 10만 원부터 시작...</td>\n",
              "    </tr>\n",
              "    <tr>\n",
              "      <th>19992</th>\n",
              "      <td>내일 머리를 자른 후 삼성역에서 만나기로 한다.</td>\n",
              "    </tr>\n",
              "    <tr>\n",
              "      <th>19994</th>\n",
              "      <td>오늘 데이트를 위해 6시 회사에서 만나기로 했다.</td>\n",
              "    </tr>\n",
              "    <tr>\n",
              "      <th>19996</th>\n",
              "      <td>여름에 졸업사진을 찍으면 땀이 나서 머리가 다 망가진다.</td>\n",
              "    </tr>\n",
              "    <tr>\n",
              "      <th>19998</th>\n",
              "      <td>방 탈출을 취소하는 것을 까먹어서 갑자기 전화 와서 놀랬다고 하였으며 취소했다고 알...</td>\n",
              "    </tr>\n",
              "  </tbody>\n",
              "</table>\n",
              "<p>10000 rows × 1 columns</p>\n",
              "</div>\n",
              "      <button class=\"colab-df-convert\" onclick=\"convertToInteractive('df-e8c74387-1f97-41fb-bd97-54144db6cd11')\"\n",
              "              title=\"Convert this dataframe to an interactive table.\"\n",
              "              style=\"display:none;\">\n",
              "        \n",
              "  <svg xmlns=\"http://www.w3.org/2000/svg\" height=\"24px\"viewBox=\"0 0 24 24\"\n",
              "       width=\"24px\">\n",
              "    <path d=\"M0 0h24v24H0V0z\" fill=\"none\"/>\n",
              "    <path d=\"M18.56 5.44l.94 2.06.94-2.06 2.06-.94-2.06-.94-.94-2.06-.94 2.06-2.06.94zm-11 1L8.5 8.5l.94-2.06 2.06-.94-2.06-.94L8.5 2.5l-.94 2.06-2.06.94zm10 10l.94 2.06.94-2.06 2.06-.94-2.06-.94-.94-2.06-.94 2.06-2.06.94z\"/><path d=\"M17.41 7.96l-1.37-1.37c-.4-.4-.92-.59-1.43-.59-.52 0-1.04.2-1.43.59L10.3 9.45l-7.72 7.72c-.78.78-.78 2.05 0 2.83L4 21.41c.39.39.9.59 1.41.59.51 0 1.02-.2 1.41-.59l7.78-7.78 2.81-2.81c.8-.78.8-2.07 0-2.86zM5.41 20L4 18.59l7.72-7.72 1.47 1.35L5.41 20z\"/>\n",
              "  </svg>\n",
              "      </button>\n",
              "      \n",
              "  <style>\n",
              "    .colab-df-container {\n",
              "      display:flex;\n",
              "      flex-wrap:wrap;\n",
              "      gap: 12px;\n",
              "    }\n",
              "\n",
              "    .colab-df-convert {\n",
              "      background-color: #E8F0FE;\n",
              "      border: none;\n",
              "      border-radius: 50%;\n",
              "      cursor: pointer;\n",
              "      display: none;\n",
              "      fill: #1967D2;\n",
              "      height: 32px;\n",
              "      padding: 0 0 0 0;\n",
              "      width: 32px;\n",
              "    }\n",
              "\n",
              "    .colab-df-convert:hover {\n",
              "      background-color: #E2EBFA;\n",
              "      box-shadow: 0px 1px 2px rgba(60, 64, 67, 0.3), 0px 1px 3px 1px rgba(60, 64, 67, 0.15);\n",
              "      fill: #174EA6;\n",
              "    }\n",
              "\n",
              "    [theme=dark] .colab-df-convert {\n",
              "      background-color: #3B4455;\n",
              "      fill: #D2E3FC;\n",
              "    }\n",
              "\n",
              "    [theme=dark] .colab-df-convert:hover {\n",
              "      background-color: #434B5C;\n",
              "      box-shadow: 0px 1px 3px 1px rgba(0, 0, 0, 0.15);\n",
              "      filter: drop-shadow(0px 1px 2px rgba(0, 0, 0, 0.3));\n",
              "      fill: #FFFFFF;\n",
              "    }\n",
              "  </style>\n",
              "\n",
              "      <script>\n",
              "        const buttonEl =\n",
              "          document.querySelector('#df-e8c74387-1f97-41fb-bd97-54144db6cd11 button.colab-df-convert');\n",
              "        buttonEl.style.display =\n",
              "          google.colab.kernel.accessAllowed ? 'block' : 'none';\n",
              "\n",
              "        async function convertToInteractive(key) {\n",
              "          const element = document.querySelector('#df-e8c74387-1f97-41fb-bd97-54144db6cd11');\n",
              "          const dataTable =\n",
              "            await google.colab.kernel.invokeFunction('convertToInteractive',\n",
              "                                                     [key], {});\n",
              "          if (!dataTable) return;\n",
              "\n",
              "          const docLinkHtml = 'Like what you see? Visit the ' +\n",
              "            '<a target=\"_blank\" href=https://colab.research.google.com/notebooks/data_table.ipynb>data table notebook</a>'\n",
              "            + ' to learn more about interactive tables.';\n",
              "          element.innerHTML = '';\n",
              "          dataTable['output_type'] = 'display_data';\n",
              "          await google.colab.output.renderOutput(dataTable, element);\n",
              "          const docLink = document.createElement('div');\n",
              "          docLink.innerHTML = docLinkHtml;\n",
              "          element.appendChild(docLink);\n",
              "        }\n",
              "      </script>\n",
              "    </div>\n",
              "  </div>\n",
              "  "
            ]
          },
          "metadata": {},
          "execution_count": 44
        }
      ]
    },
    {
      "cell_type": "markdown",
      "source": [
        "20720개의 요약문에서 10000개의 샘플을 추출한다."
      ],
      "metadata": {
        "id": "su2AdUgkxZB5"
      }
    },
    {
      "cell_type": "markdown",
      "source": [
        "#CSV 변환"
      ],
      "metadata": {
        "id": "-czyyDQEyx65"
      }
    },
    {
      "cell_type": "code",
      "source": [
        "event_summary_df.to_csv(\"/content/drive/MyDrive/Dataton/event_summary.csv\", index = False)"
      ],
      "metadata": {
        "id": "OlWdMiXYwN6L"
      },
      "execution_count": null,
      "outputs": []
    },
    {
      "cell_type": "markdown",
      "source": [
        "csv 파일로 저장한다."
      ],
      "metadata": {
        "id": "XQrfIP-9xiNR"
      }
    },
    {
      "cell_type": "code",
      "source": [
        "df = pd.read_csv(\"/content/drive/MyDrive/Dataton/event_summary.csv\")"
      ],
      "metadata": {
        "id": "quksoM-XwN_g"
      },
      "execution_count": null,
      "outputs": []
    },
    {
      "cell_type": "code",
      "source": [
        "df"
      ],
      "metadata": {
        "colab": {
          "base_uri": "https://localhost:8080/",
          "height": 424
        },
        "id": "rN7Lg9Mn7UEK",
        "outputId": "10a3f491-43d8-445a-bbfb-3f6a62f823c7"
      },
      "execution_count": null,
      "outputs": [
        {
          "output_type": "execute_result",
          "data": {
            "text/plain": [
              "                                                   text\n",
              "0        비행시간이 엄청나게 오래 걸리기에 하루 잔다고 생각하기로 하고 결제를 하려고 한다.\n",
              "1                    20만 원이면 괜찮은 곳일 것 같은데 어느 호텔인지 궁금하다.\n",
              "2     신호에 너무 많이 걸려 이제 내렸다고 하니까 앞에 한 팀이 더 있어 딱 맞게 올 거...\n",
              "3                           쉬는 날을 확보하기 위해 일정을 조정하기로 했다.\n",
              "4     한 사람이 사촌 언니도 있고 아빠가 갑자기 원주에 가자고 해서 지금 원주에 갔다가 ...\n",
              "...                                                 ...\n",
              "9995  코스 요리를 먹으면서 동시에 식을 보는 것인데 코스 요리가 기본 10만 원부터 시작...\n",
              "9996                         내일 머리를 자른 후 삼성역에서 만나기로 한다.\n",
              "9997                        오늘 데이트를 위해 6시 회사에서 만나기로 했다.\n",
              "9998                    여름에 졸업사진을 찍으면 땀이 나서 머리가 다 망가진다.\n",
              "9999  방 탈출을 취소하는 것을 까먹어서 갑자기 전화 와서 놀랬다고 하였으며 취소했다고 알...\n",
              "\n",
              "[10000 rows x 1 columns]"
            ],
            "text/html": [
              "\n",
              "  <div id=\"df-18237b48-3cec-4771-b919-68397dfa37a0\">\n",
              "    <div class=\"colab-df-container\">\n",
              "      <div>\n",
              "<style scoped>\n",
              "    .dataframe tbody tr th:only-of-type {\n",
              "        vertical-align: middle;\n",
              "    }\n",
              "\n",
              "    .dataframe tbody tr th {\n",
              "        vertical-align: top;\n",
              "    }\n",
              "\n",
              "    .dataframe thead th {\n",
              "        text-align: right;\n",
              "    }\n",
              "</style>\n",
              "<table border=\"1\" class=\"dataframe\">\n",
              "  <thead>\n",
              "    <tr style=\"text-align: right;\">\n",
              "      <th></th>\n",
              "      <th>text</th>\n",
              "    </tr>\n",
              "  </thead>\n",
              "  <tbody>\n",
              "    <tr>\n",
              "      <th>0</th>\n",
              "      <td>비행시간이 엄청나게 오래 걸리기에 하루 잔다고 생각하기로 하고 결제를 하려고 한다.</td>\n",
              "    </tr>\n",
              "    <tr>\n",
              "      <th>1</th>\n",
              "      <td>20만 원이면 괜찮은 곳일 것 같은데 어느 호텔인지 궁금하다.</td>\n",
              "    </tr>\n",
              "    <tr>\n",
              "      <th>2</th>\n",
              "      <td>신호에 너무 많이 걸려 이제 내렸다고 하니까 앞에 한 팀이 더 있어 딱 맞게 올 거...</td>\n",
              "    </tr>\n",
              "    <tr>\n",
              "      <th>3</th>\n",
              "      <td>쉬는 날을 확보하기 위해 일정을 조정하기로 했다.</td>\n",
              "    </tr>\n",
              "    <tr>\n",
              "      <th>4</th>\n",
              "      <td>한 사람이 사촌 언니도 있고 아빠가 갑자기 원주에 가자고 해서 지금 원주에 갔다가 ...</td>\n",
              "    </tr>\n",
              "    <tr>\n",
              "      <th>...</th>\n",
              "      <td>...</td>\n",
              "    </tr>\n",
              "    <tr>\n",
              "      <th>9995</th>\n",
              "      <td>코스 요리를 먹으면서 동시에 식을 보는 것인데 코스 요리가 기본 10만 원부터 시작...</td>\n",
              "    </tr>\n",
              "    <tr>\n",
              "      <th>9996</th>\n",
              "      <td>내일 머리를 자른 후 삼성역에서 만나기로 한다.</td>\n",
              "    </tr>\n",
              "    <tr>\n",
              "      <th>9997</th>\n",
              "      <td>오늘 데이트를 위해 6시 회사에서 만나기로 했다.</td>\n",
              "    </tr>\n",
              "    <tr>\n",
              "      <th>9998</th>\n",
              "      <td>여름에 졸업사진을 찍으면 땀이 나서 머리가 다 망가진다.</td>\n",
              "    </tr>\n",
              "    <tr>\n",
              "      <th>9999</th>\n",
              "      <td>방 탈출을 취소하는 것을 까먹어서 갑자기 전화 와서 놀랬다고 하였으며 취소했다고 알...</td>\n",
              "    </tr>\n",
              "  </tbody>\n",
              "</table>\n",
              "<p>10000 rows × 1 columns</p>\n",
              "</div>\n",
              "      <button class=\"colab-df-convert\" onclick=\"convertToInteractive('df-18237b48-3cec-4771-b919-68397dfa37a0')\"\n",
              "              title=\"Convert this dataframe to an interactive table.\"\n",
              "              style=\"display:none;\">\n",
              "        \n",
              "  <svg xmlns=\"http://www.w3.org/2000/svg\" height=\"24px\"viewBox=\"0 0 24 24\"\n",
              "       width=\"24px\">\n",
              "    <path d=\"M0 0h24v24H0V0z\" fill=\"none\"/>\n",
              "    <path d=\"M18.56 5.44l.94 2.06.94-2.06 2.06-.94-2.06-.94-.94-2.06-.94 2.06-2.06.94zm-11 1L8.5 8.5l.94-2.06 2.06-.94-2.06-.94L8.5 2.5l-.94 2.06-2.06.94zm10 10l.94 2.06.94-2.06 2.06-.94-2.06-.94-.94-2.06-.94 2.06-2.06.94z\"/><path d=\"M17.41 7.96l-1.37-1.37c-.4-.4-.92-.59-1.43-.59-.52 0-1.04.2-1.43.59L10.3 9.45l-7.72 7.72c-.78.78-.78 2.05 0 2.83L4 21.41c.39.39.9.59 1.41.59.51 0 1.02-.2 1.41-.59l7.78-7.78 2.81-2.81c.8-.78.8-2.07 0-2.86zM5.41 20L4 18.59l7.72-7.72 1.47 1.35L5.41 20z\"/>\n",
              "  </svg>\n",
              "      </button>\n",
              "      \n",
              "  <style>\n",
              "    .colab-df-container {\n",
              "      display:flex;\n",
              "      flex-wrap:wrap;\n",
              "      gap: 12px;\n",
              "    }\n",
              "\n",
              "    .colab-df-convert {\n",
              "      background-color: #E8F0FE;\n",
              "      border: none;\n",
              "      border-radius: 50%;\n",
              "      cursor: pointer;\n",
              "      display: none;\n",
              "      fill: #1967D2;\n",
              "      height: 32px;\n",
              "      padding: 0 0 0 0;\n",
              "      width: 32px;\n",
              "    }\n",
              "\n",
              "    .colab-df-convert:hover {\n",
              "      background-color: #E2EBFA;\n",
              "      box-shadow: 0px 1px 2px rgba(60, 64, 67, 0.3), 0px 1px 3px 1px rgba(60, 64, 67, 0.15);\n",
              "      fill: #174EA6;\n",
              "    }\n",
              "\n",
              "    [theme=dark] .colab-df-convert {\n",
              "      background-color: #3B4455;\n",
              "      fill: #D2E3FC;\n",
              "    }\n",
              "\n",
              "    [theme=dark] .colab-df-convert:hover {\n",
              "      background-color: #434B5C;\n",
              "      box-shadow: 0px 1px 3px 1px rgba(0, 0, 0, 0.15);\n",
              "      filter: drop-shadow(0px 1px 2px rgba(0, 0, 0, 0.3));\n",
              "      fill: #FFFFFF;\n",
              "    }\n",
              "  </style>\n",
              "\n",
              "      <script>\n",
              "        const buttonEl =\n",
              "          document.querySelector('#df-18237b48-3cec-4771-b919-68397dfa37a0 button.colab-df-convert');\n",
              "        buttonEl.style.display =\n",
              "          google.colab.kernel.accessAllowed ? 'block' : 'none';\n",
              "\n",
              "        async function convertToInteractive(key) {\n",
              "          const element = document.querySelector('#df-18237b48-3cec-4771-b919-68397dfa37a0');\n",
              "          const dataTable =\n",
              "            await google.colab.kernel.invokeFunction('convertToInteractive',\n",
              "                                                     [key], {});\n",
              "          if (!dataTable) return;\n",
              "\n",
              "          const docLinkHtml = 'Like what you see? Visit the ' +\n",
              "            '<a target=\"_blank\" href=https://colab.research.google.com/notebooks/data_table.ipynb>data table notebook</a>'\n",
              "            + ' to learn more about interactive tables.';\n",
              "          element.innerHTML = '';\n",
              "          dataTable['output_type'] = 'display_data';\n",
              "          await google.colab.output.renderOutput(dataTable, element);\n",
              "          const docLink = document.createElement('div');\n",
              "          docLink.innerHTML = docLinkHtml;\n",
              "          element.appendChild(docLink);\n",
              "        }\n",
              "      </script>\n",
              "    </div>\n",
              "  </div>\n",
              "  "
            ]
          },
          "metadata": {},
          "execution_count": 47
        }
      ]
    },
    {
      "cell_type": "markdown",
      "source": [
        "csv 파일을 불러온다."
      ],
      "metadata": {
        "id": "ySoJ2qTpxlP4"
      }
    },
    {
      "cell_type": "markdown",
      "source": [
        "#참고문헌"
      ],
      "metadata": {
        "id": "nFU18skzyTDh"
      }
    },
    {
      "cell_type": "markdown",
      "source": [
        "[Python: JSON 개념과 json 모듈 사용법](https://kibua20.tistory.com/114)"
      ],
      "metadata": {
        "id": "Qr5FS0JtyUdq"
      }
    }
  ]
}