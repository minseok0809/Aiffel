{
  "nbformat": 4,
  "nbformat_minor": 0,
  "metadata": {
    "colab": {
      "name": "[E_15]RecommenderSystem(Movie).ipynb",
      "provenance": [],
      "collapsed_sections": [],
      "toc_visible": true,
      "machine_shape": "hm"
    },
    "kernelspec": {
      "name": "python3",
      "display_name": "Python 3"
    },
    "language_info": {
      "name": "python"
    },
    "accelerator": "GPU",
    "gpuClass": "standard",
    "widgets": {
      "application/vnd.jupyter.widget-state+json": {
        "8aa82b4f447d4b0cacb94adda09ec833": {
          "model_module": "@jupyter-widgets/controls",
          "model_name": "HBoxModel",
          "model_module_version": "1.5.0",
          "state": {
            "_dom_classes": [],
            "_model_module": "@jupyter-widgets/controls",
            "_model_module_version": "1.5.0",
            "_model_name": "HBoxModel",
            "_view_count": null,
            "_view_module": "@jupyter-widgets/controls",
            "_view_module_version": "1.5.0",
            "_view_name": "HBoxView",
            "box_style": "",
            "children": [
              "IPY_MODEL_9f28b2f2e70f4af0bf734f056ffc2201",
              "IPY_MODEL_6a561819378b4be3aed67ca205f6f49a",
              "IPY_MODEL_b36a8879ca64445bb838ed3ff99b93d0"
            ],
            "layout": "IPY_MODEL_a16afa7f070345709d6690c6cad42019"
          }
        },
        "9f28b2f2e70f4af0bf734f056ffc2201": {
          "model_module": "@jupyter-widgets/controls",
          "model_name": "HTMLModel",
          "model_module_version": "1.5.0",
          "state": {
            "_dom_classes": [],
            "_model_module": "@jupyter-widgets/controls",
            "_model_module_version": "1.5.0",
            "_model_name": "HTMLModel",
            "_view_count": null,
            "_view_module": "@jupyter-widgets/controls",
            "_view_module_version": "1.5.0",
            "_view_name": "HTMLView",
            "description": "",
            "description_tooltip": null,
            "layout": "IPY_MODEL_8b5ae5f8fb7f49e09208c069f2e722fb",
            "placeholder": "​",
            "style": "IPY_MODEL_83cde31ee3014b41be446e0afdf6d1b3",
            "value": "100%"
          }
        },
        "6a561819378b4be3aed67ca205f6f49a": {
          "model_module": "@jupyter-widgets/controls",
          "model_name": "FloatProgressModel",
          "model_module_version": "1.5.0",
          "state": {
            "_dom_classes": [],
            "_model_module": "@jupyter-widgets/controls",
            "_model_module_version": "1.5.0",
            "_model_name": "FloatProgressModel",
            "_view_count": null,
            "_view_module": "@jupyter-widgets/controls",
            "_view_module_version": "1.5.0",
            "_view_name": "ProgressView",
            "bar_style": "success",
            "description": "",
            "description_tooltip": null,
            "layout": "IPY_MODEL_5d7d1e48e96b4d009ed6c4c48b29714d",
            "max": 15,
            "min": 0,
            "orientation": "horizontal",
            "style": "IPY_MODEL_e9822f88dcaf4c62aa7273c9bbaf7496",
            "value": 15
          }
        },
        "b36a8879ca64445bb838ed3ff99b93d0": {
          "model_module": "@jupyter-widgets/controls",
          "model_name": "HTMLModel",
          "model_module_version": "1.5.0",
          "state": {
            "_dom_classes": [],
            "_model_module": "@jupyter-widgets/controls",
            "_model_module_version": "1.5.0",
            "_model_name": "HTMLModel",
            "_view_count": null,
            "_view_module": "@jupyter-widgets/controls",
            "_view_module_version": "1.5.0",
            "_view_name": "HTMLView",
            "description": "",
            "description_tooltip": null,
            "layout": "IPY_MODEL_04bf5f7fba33442bb589e0d56d01c05d",
            "placeholder": "​",
            "style": "IPY_MODEL_c1df7e2cb82d4a1ca4960bb136af70ab",
            "value": " 15/15 [00:11&lt;00:00,  1.33it/s]"
          }
        },
        "a16afa7f070345709d6690c6cad42019": {
          "model_module": "@jupyter-widgets/base",
          "model_name": "LayoutModel",
          "model_module_version": "1.2.0",
          "state": {
            "_model_module": "@jupyter-widgets/base",
            "_model_module_version": "1.2.0",
            "_model_name": "LayoutModel",
            "_view_count": null,
            "_view_module": "@jupyter-widgets/base",
            "_view_module_version": "1.2.0",
            "_view_name": "LayoutView",
            "align_content": null,
            "align_items": null,
            "align_self": null,
            "border": null,
            "bottom": null,
            "display": null,
            "flex": null,
            "flex_flow": null,
            "grid_area": null,
            "grid_auto_columns": null,
            "grid_auto_flow": null,
            "grid_auto_rows": null,
            "grid_column": null,
            "grid_gap": null,
            "grid_row": null,
            "grid_template_areas": null,
            "grid_template_columns": null,
            "grid_template_rows": null,
            "height": null,
            "justify_content": null,
            "justify_items": null,
            "left": null,
            "margin": null,
            "max_height": null,
            "max_width": null,
            "min_height": null,
            "min_width": null,
            "object_fit": null,
            "object_position": null,
            "order": null,
            "overflow": null,
            "overflow_x": null,
            "overflow_y": null,
            "padding": null,
            "right": null,
            "top": null,
            "visibility": null,
            "width": null
          }
        },
        "8b5ae5f8fb7f49e09208c069f2e722fb": {
          "model_module": "@jupyter-widgets/base",
          "model_name": "LayoutModel",
          "model_module_version": "1.2.0",
          "state": {
            "_model_module": "@jupyter-widgets/base",
            "_model_module_version": "1.2.0",
            "_model_name": "LayoutModel",
            "_view_count": null,
            "_view_module": "@jupyter-widgets/base",
            "_view_module_version": "1.2.0",
            "_view_name": "LayoutView",
            "align_content": null,
            "align_items": null,
            "align_self": null,
            "border": null,
            "bottom": null,
            "display": null,
            "flex": null,
            "flex_flow": null,
            "grid_area": null,
            "grid_auto_columns": null,
            "grid_auto_flow": null,
            "grid_auto_rows": null,
            "grid_column": null,
            "grid_gap": null,
            "grid_row": null,
            "grid_template_areas": null,
            "grid_template_columns": null,
            "grid_template_rows": null,
            "height": null,
            "justify_content": null,
            "justify_items": null,
            "left": null,
            "margin": null,
            "max_height": null,
            "max_width": null,
            "min_height": null,
            "min_width": null,
            "object_fit": null,
            "object_position": null,
            "order": null,
            "overflow": null,
            "overflow_x": null,
            "overflow_y": null,
            "padding": null,
            "right": null,
            "top": null,
            "visibility": null,
            "width": null
          }
        },
        "83cde31ee3014b41be446e0afdf6d1b3": {
          "model_module": "@jupyter-widgets/controls",
          "model_name": "DescriptionStyleModel",
          "model_module_version": "1.5.0",
          "state": {
            "_model_module": "@jupyter-widgets/controls",
            "_model_module_version": "1.5.0",
            "_model_name": "DescriptionStyleModel",
            "_view_count": null,
            "_view_module": "@jupyter-widgets/base",
            "_view_module_version": "1.2.0",
            "_view_name": "StyleView",
            "description_width": ""
          }
        },
        "5d7d1e48e96b4d009ed6c4c48b29714d": {
          "model_module": "@jupyter-widgets/base",
          "model_name": "LayoutModel",
          "model_module_version": "1.2.0",
          "state": {
            "_model_module": "@jupyter-widgets/base",
            "_model_module_version": "1.2.0",
            "_model_name": "LayoutModel",
            "_view_count": null,
            "_view_module": "@jupyter-widgets/base",
            "_view_module_version": "1.2.0",
            "_view_name": "LayoutView",
            "align_content": null,
            "align_items": null,
            "align_self": null,
            "border": null,
            "bottom": null,
            "display": null,
            "flex": null,
            "flex_flow": null,
            "grid_area": null,
            "grid_auto_columns": null,
            "grid_auto_flow": null,
            "grid_auto_rows": null,
            "grid_column": null,
            "grid_gap": null,
            "grid_row": null,
            "grid_template_areas": null,
            "grid_template_columns": null,
            "grid_template_rows": null,
            "height": null,
            "justify_content": null,
            "justify_items": null,
            "left": null,
            "margin": null,
            "max_height": null,
            "max_width": null,
            "min_height": null,
            "min_width": null,
            "object_fit": null,
            "object_position": null,
            "order": null,
            "overflow": null,
            "overflow_x": null,
            "overflow_y": null,
            "padding": null,
            "right": null,
            "top": null,
            "visibility": null,
            "width": null
          }
        },
        "e9822f88dcaf4c62aa7273c9bbaf7496": {
          "model_module": "@jupyter-widgets/controls",
          "model_name": "ProgressStyleModel",
          "model_module_version": "1.5.0",
          "state": {
            "_model_module": "@jupyter-widgets/controls",
            "_model_module_version": "1.5.0",
            "_model_name": "ProgressStyleModel",
            "_view_count": null,
            "_view_module": "@jupyter-widgets/base",
            "_view_module_version": "1.2.0",
            "_view_name": "StyleView",
            "bar_color": null,
            "description_width": ""
          }
        },
        "04bf5f7fba33442bb589e0d56d01c05d": {
          "model_module": "@jupyter-widgets/base",
          "model_name": "LayoutModel",
          "model_module_version": "1.2.0",
          "state": {
            "_model_module": "@jupyter-widgets/base",
            "_model_module_version": "1.2.0",
            "_model_name": "LayoutModel",
            "_view_count": null,
            "_view_module": "@jupyter-widgets/base",
            "_view_module_version": "1.2.0",
            "_view_name": "LayoutView",
            "align_content": null,
            "align_items": null,
            "align_self": null,
            "border": null,
            "bottom": null,
            "display": null,
            "flex": null,
            "flex_flow": null,
            "grid_area": null,
            "grid_auto_columns": null,
            "grid_auto_flow": null,
            "grid_auto_rows": null,
            "grid_column": null,
            "grid_gap": null,
            "grid_row": null,
            "grid_template_areas": null,
            "grid_template_columns": null,
            "grid_template_rows": null,
            "height": null,
            "justify_content": null,
            "justify_items": null,
            "left": null,
            "margin": null,
            "max_height": null,
            "max_width": null,
            "min_height": null,
            "min_width": null,
            "object_fit": null,
            "object_position": null,
            "order": null,
            "overflow": null,
            "overflow_x": null,
            "overflow_y": null,
            "padding": null,
            "right": null,
            "top": null,
            "visibility": null,
            "width": null
          }
        },
        "c1df7e2cb82d4a1ca4960bb136af70ab": {
          "model_module": "@jupyter-widgets/controls",
          "model_name": "DescriptionStyleModel",
          "model_module_version": "1.5.0",
          "state": {
            "_model_module": "@jupyter-widgets/controls",
            "_model_module_version": "1.5.0",
            "_model_name": "DescriptionStyleModel",
            "_view_count": null,
            "_view_module": "@jupyter-widgets/base",
            "_view_module_version": "1.2.0",
            "_view_name": "StyleView",
            "description_width": ""
          }
        }
      }
    }
  },
  "cells": [
    {
      "cell_type": "markdown",
      "source": [
        "#스타워즈 팬이 좋아할 만한 다른 영화 찾기"
      ],
      "metadata": {
        "id": "HMkDBIiNvekK"
      }
    },
    {
      "cell_type": "markdown",
      "source": [
        ""
      ],
      "metadata": {
        "id": "TKV-yotHvfK0"
      }
    },
    {
      "cell_type": "markdown",
      "source": [
        "개발 환경\n",
        "<br/>데이터 정보"
      ],
      "metadata": {
        "id": "Lh9ZTRwyvfNb"
      }
    },
    {
      "cell_type": "markdown",
      "source": [
        "데이터 전처리\n",
        "<br/>암묵적 피드백\n",
        "<br/>고유값\n",
        "<br/>결측치 처리"
      ],
      "metadata": {
        "id": "LILei2TFv3Ks"
      }
    },
    {
      "cell_type": "markdown",
      "source": [
        "데이터 탐색\n",
        "<br/>영화 랭킹\n",
        "<br/>좋아하는 영화 5편 추가"
      ],
      "metadata": {
        "id": "ds8gJMSrzEqs"
      }
    },
    {
      "cell_type": "markdown",
      "source": [
        "모델 구성\n",
        "<br/>Sparse Matrix\n",
        "<br/>하이퍼 파라미터"
      ],
      "metadata": {
        "id": "19s75WHcv7qL"
      }
    },
    {
      "cell_type": "markdown",
      "source": [
        "모델 학습\n",
        "<br/>모델 평가"
      ],
      "metadata": {
        "id": "6_nI0oO3v7t6"
      }
    },
    {
      "cell_type": "markdown",
      "source": [
        "추천시스템\n",
        "<br/>비슷한 영화 추천\n",
        "<br/>새로운 영화 추천"
      ],
      "metadata": {
        "id": "H9AXntPgIciS"
      }
    },
    {
      "cell_type": "markdown",
      "source": [
        "결론\n",
        "<br/>참고문헌"
      ],
      "metadata": {
        "id": "fkmslucXIZsY"
      }
    },
    {
      "cell_type": "markdown",
      "source": [
        ""
      ],
      "metadata": {
        "id": "ZuqtAkyFvwWC"
      }
    },
    {
      "cell_type": "markdown",
      "source": [
        "# 개발 환경"
      ],
      "metadata": {
        "id": "4_Av9HNIwAi7"
      }
    },
    {
      "cell_type": "code",
      "source": [
        "!pip install implicit"
      ],
      "metadata": {
        "id": "TK6xnivk8Fij"
      },
      "execution_count": null,
      "outputs": []
    },
    {
      "cell_type": "code",
      "execution_count": 3,
      "metadata": {
        "id": "9kLA5MplvQLv"
      },
      "outputs": [],
      "source": [
        "import os\n",
        "import random\n",
        "import pandas as pd\n",
        "import numpy as np"
      ]
    },
    {
      "cell_type": "code",
      "source": [
        "import scipy\n",
        "from scipy.sparse import csr_matrix"
      ],
      "metadata": {
        "id": "VnUuveLfwZgB"
      },
      "execution_count": 4,
      "outputs": []
    },
    {
      "cell_type": "code",
      "source": [
        "import implicit\n",
        "from implicit.als import AlternatingLeastSquares\n",
        "\n",
        "os.environ['OPENBLAS_NUM_THREADS']='1'\n",
        "os.environ['KMP_DUPLICATE_LIB_OK']='True'\n",
        "os.environ['MKL_NUM_THREADS']='1'"
      ],
      "metadata": {
        "id": "2U4U7Q-TwWpt"
      },
      "execution_count": 1209,
      "outputs": []
    },
    {
      "cell_type": "code",
      "source": [
        "from google.colab import drive\n",
        "drive.mount('/content/drive')"
      ],
      "metadata": {
        "id": "9F4-SeGKw3C2"
      },
      "execution_count": null,
      "outputs": []
    },
    {
      "cell_type": "code",
      "source": [
        "pip freeze > '/content/drive/MyDrive/lms/library_version.txt'"
      ],
      "metadata": {
        "id": "MOCJe8yNw3FW"
      },
      "execution_count": 1210,
      "outputs": []
    },
    {
      "cell_type": "code",
      "source": [
        "library_name = ['pandas=', 'numpy=', 'scipy=', 'implicit=']\n",
        "library_version = []\n",
        "f = open('/content/drive/MyDrive/lms/library_version.txt', 'r')\n",
        "line = f.readline()\n",
        "while True:\n",
        "    line = f.readline()\n",
        "    if not line:\n",
        "      break\n",
        "    for i in library_name:\n",
        "      if i in line:\n",
        "        library_version.append(line)\n",
        "        library_version.append('    ')\n",
        "\n",
        "f.close()\n",
        "\n",
        "import sys\n",
        "print(sys.version)\n",
        "print()\n",
        "\n",
        "for i in range(0, len(library_version) - 1, 6):\n",
        "  print(str(library_version[i : i+6]).replace(\"[\",\"\").replace(\"]\",\"\").replace(\"'\",\"\").replace(\"\\\\n\",\"\").replace(\",\",\"\"), end='') \n",
        "  if i % 6 == 0:\n",
        "    print()\n",
        "\n",
        "for i in range(len(library_version) - 1):\n",
        "  if (i-1) % 6 == 0 and i == len(library_version) - 6:\n",
        "    print(str(library_version[-1]).replace(\"[\",\"\").replace(\"]\",\"\").replace(\"'\",\"\").replace(\"\\\\n\",\"\").replace(\",\",\"\"), end='')"
      ],
      "metadata": {
        "colab": {
          "base_uri": "https://localhost:8080/"
        },
        "id": "WVdAs25Vw3H1",
        "outputId": "950aa235-fd2e-4212-c6ae-8dc7f718fa2d"
      },
      "execution_count": 1211,
      "outputs": [
        {
          "output_type": "stream",
          "name": "stdout",
          "text": [
            "3.7.13 (default, Apr 24 2022, 01:04:09) \n",
            "[GCC 7.5.0]\n",
            "\n",
            "implicit==0.5.2      numpy==1.21.6      pandas==1.3.5     \n",
            "scipy==1.4.1      sklearn-pandas==1.8.0     \n"
          ]
        }
      ]
    },
    {
      "cell_type": "code",
      "source": [
        "gpu_info = !nvidia-smi\n",
        "gpu_info = '\\n'.join(gpu_info)\n",
        "if gpu_info.find('failed') >= 0:\n",
        "  print('Not connected to a GPU')\n",
        "else:\n",
        "  print(gpu_info)"
      ],
      "metadata": {
        "id": "ZNiG1i1Ow3KN"
      },
      "execution_count": null,
      "outputs": []
    },
    {
      "cell_type": "code",
      "source": [
        "from psutil import virtual_memory\n",
        "ram_gb = virtual_memory().total / 1e9\n",
        "print('Your runtime has {:.1f} gigabytes of available RAM\\n'.format(ram_gb))\n",
        "\n",
        "if ram_gb < 20:\n",
        "  print('Not using a high-RAM runtime')\n",
        "else:\n",
        "  print('You are using a high-RAM runtime!')"
      ],
      "metadata": {
        "id": "tXj8ep9Iw-Gt"
      },
      "execution_count": null,
      "outputs": []
    },
    {
      "cell_type": "markdown",
      "source": [
        "Google Colab에서 할당된 GPU를 확인한다.\n",
        "<br/>고용량 메모리 VM에 액세스한다."
      ],
      "metadata": {
        "id": "6_qLAXRZw_U1"
      }
    },
    {
      "cell_type": "markdown",
      "source": [
        "#데이터 정보"
      ],
      "metadata": {
        "id": "DpkMTcXbvufr"
      }
    },
    {
      "cell_type": "markdown",
      "source": [
        "[MovieLens 1M Dataset](https://grouplens.org/datasets/movielens/)"
      ],
      "metadata": {
        "id": "PpTwWhe1wGL1"
      }
    },
    {
      "cell_type": "markdown",
      "source": [
        "GroupLens Research가 [MovieLens web site](https://movielens.org)로부터 수집한 영화 평점 데이터셋이다.\n",
        "<br/>영화 3,900편에 대한 6,040명의 사용자의 평점으로부터 평점 1,000,209개를 모았다.\n"
      ],
      "metadata": {
        "id": "M35TzTILwGOt"
      }
    },
    {
      "cell_type": "markdown",
      "source": [
        "논문 [The MovieLens Datasets: History and Contex](https://grouplens.org/blog/movielens-datasets-context-and-history/)에서는 MovieLens 데이터셋의 역사에 대해서 이야기한다."
      ],
      "metadata": {
        "id": "2zFxqHS2HhcJ"
      }
    },
    {
      "cell_type": "code",
      "source": [
        "rating_file_path = '/content/drive/MyDrive/lms/recommender_system/ml-1m/ratings.dat'\n",
        "ratings_cols = ['user_id', 'movie_id', 'ratings', 'timestamp']\n",
        "ratings = pd.read_csv(rating_file_path, sep='::', names=ratings_cols, engine='python', encoding = \"ISO-8859-1\")\n",
        "orginal_data_size = len(ratings)\n",
        "ratings.head()"
      ],
      "metadata": {
        "colab": {
          "base_uri": "https://localhost:8080/",
          "height": 206
        },
        "id": "Xr7ssRLp8A-M",
        "outputId": "5360f9db-a380-424e-8815-8c0083ec1deb"
      },
      "execution_count": 1287,
      "outputs": [
        {
          "output_type": "execute_result",
          "data": {
            "text/plain": [
              "   user_id  movie_id  ratings  timestamp\n",
              "0        1      1193        5  978300760\n",
              "1        1       661        3  978302109\n",
              "2        1       914        3  978301968\n",
              "3        1      3408        4  978300275\n",
              "4        1      2355        5  978824291"
            ],
            "text/html": [
              "\n",
              "  <div id=\"df-bb2c06e3-1642-472c-9b79-a12575be20ba\">\n",
              "    <div class=\"colab-df-container\">\n",
              "      <div>\n",
              "<style scoped>\n",
              "    .dataframe tbody tr th:only-of-type {\n",
              "        vertical-align: middle;\n",
              "    }\n",
              "\n",
              "    .dataframe tbody tr th {\n",
              "        vertical-align: top;\n",
              "    }\n",
              "\n",
              "    .dataframe thead th {\n",
              "        text-align: right;\n",
              "    }\n",
              "</style>\n",
              "<table border=\"1\" class=\"dataframe\">\n",
              "  <thead>\n",
              "    <tr style=\"text-align: right;\">\n",
              "      <th></th>\n",
              "      <th>user_id</th>\n",
              "      <th>movie_id</th>\n",
              "      <th>ratings</th>\n",
              "      <th>timestamp</th>\n",
              "    </tr>\n",
              "  </thead>\n",
              "  <tbody>\n",
              "    <tr>\n",
              "      <th>0</th>\n",
              "      <td>1</td>\n",
              "      <td>1193</td>\n",
              "      <td>5</td>\n",
              "      <td>978300760</td>\n",
              "    </tr>\n",
              "    <tr>\n",
              "      <th>1</th>\n",
              "      <td>1</td>\n",
              "      <td>661</td>\n",
              "      <td>3</td>\n",
              "      <td>978302109</td>\n",
              "    </tr>\n",
              "    <tr>\n",
              "      <th>2</th>\n",
              "      <td>1</td>\n",
              "      <td>914</td>\n",
              "      <td>3</td>\n",
              "      <td>978301968</td>\n",
              "    </tr>\n",
              "    <tr>\n",
              "      <th>3</th>\n",
              "      <td>1</td>\n",
              "      <td>3408</td>\n",
              "      <td>4</td>\n",
              "      <td>978300275</td>\n",
              "    </tr>\n",
              "    <tr>\n",
              "      <th>4</th>\n",
              "      <td>1</td>\n",
              "      <td>2355</td>\n",
              "      <td>5</td>\n",
              "      <td>978824291</td>\n",
              "    </tr>\n",
              "  </tbody>\n",
              "</table>\n",
              "</div>\n",
              "      <button class=\"colab-df-convert\" onclick=\"convertToInteractive('df-bb2c06e3-1642-472c-9b79-a12575be20ba')\"\n",
              "              title=\"Convert this dataframe to an interactive table.\"\n",
              "              style=\"display:none;\">\n",
              "        \n",
              "  <svg xmlns=\"http://www.w3.org/2000/svg\" height=\"24px\"viewBox=\"0 0 24 24\"\n",
              "       width=\"24px\">\n",
              "    <path d=\"M0 0h24v24H0V0z\" fill=\"none\"/>\n",
              "    <path d=\"M18.56 5.44l.94 2.06.94-2.06 2.06-.94-2.06-.94-.94-2.06-.94 2.06-2.06.94zm-11 1L8.5 8.5l.94-2.06 2.06-.94-2.06-.94L8.5 2.5l-.94 2.06-2.06.94zm10 10l.94 2.06.94-2.06 2.06-.94-2.06-.94-.94-2.06-.94 2.06-2.06.94z\"/><path d=\"M17.41 7.96l-1.37-1.37c-.4-.4-.92-.59-1.43-.59-.52 0-1.04.2-1.43.59L10.3 9.45l-7.72 7.72c-.78.78-.78 2.05 0 2.83L4 21.41c.39.39.9.59 1.41.59.51 0 1.02-.2 1.41-.59l7.78-7.78 2.81-2.81c.8-.78.8-2.07 0-2.86zM5.41 20L4 18.59l7.72-7.72 1.47 1.35L5.41 20z\"/>\n",
              "  </svg>\n",
              "      </button>\n",
              "      \n",
              "  <style>\n",
              "    .colab-df-container {\n",
              "      display:flex;\n",
              "      flex-wrap:wrap;\n",
              "      gap: 12px;\n",
              "    }\n",
              "\n",
              "    .colab-df-convert {\n",
              "      background-color: #E8F0FE;\n",
              "      border: none;\n",
              "      border-radius: 50%;\n",
              "      cursor: pointer;\n",
              "      display: none;\n",
              "      fill: #1967D2;\n",
              "      height: 32px;\n",
              "      padding: 0 0 0 0;\n",
              "      width: 32px;\n",
              "    }\n",
              "\n",
              "    .colab-df-convert:hover {\n",
              "      background-color: #E2EBFA;\n",
              "      box-shadow: 0px 1px 2px rgba(60, 64, 67, 0.3), 0px 1px 3px 1px rgba(60, 64, 67, 0.15);\n",
              "      fill: #174EA6;\n",
              "    }\n",
              "\n",
              "    [theme=dark] .colab-df-convert {\n",
              "      background-color: #3B4455;\n",
              "      fill: #D2E3FC;\n",
              "    }\n",
              "\n",
              "    [theme=dark] .colab-df-convert:hover {\n",
              "      background-color: #434B5C;\n",
              "      box-shadow: 0px 1px 3px 1px rgba(0, 0, 0, 0.15);\n",
              "      filter: drop-shadow(0px 1px 2px rgba(0, 0, 0, 0.3));\n",
              "      fill: #FFFFFF;\n",
              "    }\n",
              "  </style>\n",
              "\n",
              "      <script>\n",
              "        const buttonEl =\n",
              "          document.querySelector('#df-bb2c06e3-1642-472c-9b79-a12575be20ba button.colab-df-convert');\n",
              "        buttonEl.style.display =\n",
              "          google.colab.kernel.accessAllowed ? 'block' : 'none';\n",
              "\n",
              "        async function convertToInteractive(key) {\n",
              "          const element = document.querySelector('#df-bb2c06e3-1642-472c-9b79-a12575be20ba');\n",
              "          const dataTable =\n",
              "            await google.colab.kernel.invokeFunction('convertToInteractive',\n",
              "                                                     [key], {});\n",
              "          if (!dataTable) return;\n",
              "\n",
              "          const docLinkHtml = 'Like what you see? Visit the ' +\n",
              "            '<a target=\"_blank\" href=https://colab.research.google.com/notebooks/data_table.ipynb>data table notebook</a>'\n",
              "            + ' to learn more about interactive tables.';\n",
              "          element.innerHTML = '';\n",
              "          dataTable['output_type'] = 'display_data';\n",
              "          await google.colab.output.renderOutput(dataTable, element);\n",
              "          const docLink = document.createElement('div');\n",
              "          docLink.innerHTML = docLinkHtml;\n",
              "          element.appendChild(docLink);\n",
              "        }\n",
              "      </script>\n",
              "    </div>\n",
              "  </div>\n",
              "  "
            ]
          },
          "metadata": {},
          "execution_count": 1287
        }
      ]
    },
    {
      "cell_type": "code",
      "source": [
        "movie_file_path = '/content/drive/MyDrive/lms/recommender_system/ml-1m/movies.dat'\n",
        "cols = ['movie_id', 'title', 'genre'] \n",
        "movies = pd.read_csv(movie_file_path, sep='::', names=cols, engine='python', encoding='ISO-8859-1')\n",
        "movies.head()"
      ],
      "metadata": {
        "colab": {
          "base_uri": "https://localhost:8080/",
          "height": 206
        },
        "id": "ruTr97bnvu9t",
        "outputId": "acb107cd-d0c3-4a29-e399-32732c7e15e8"
      },
      "execution_count": 1288,
      "outputs": [
        {
          "output_type": "execute_result",
          "data": {
            "text/plain": [
              "   movie_id                               title                         genre\n",
              "0         1                    Toy Story (1995)   Animation|Children's|Comedy\n",
              "1         2                      Jumanji (1995)  Adventure|Children's|Fantasy\n",
              "2         3             Grumpier Old Men (1995)                Comedy|Romance\n",
              "3         4            Waiting to Exhale (1995)                  Comedy|Drama\n",
              "4         5  Father of the Bride Part II (1995)                        Comedy"
            ],
            "text/html": [
              "\n",
              "  <div id=\"df-b02f8a6c-d111-4df7-b334-b24851a55e35\">\n",
              "    <div class=\"colab-df-container\">\n",
              "      <div>\n",
              "<style scoped>\n",
              "    .dataframe tbody tr th:only-of-type {\n",
              "        vertical-align: middle;\n",
              "    }\n",
              "\n",
              "    .dataframe tbody tr th {\n",
              "        vertical-align: top;\n",
              "    }\n",
              "\n",
              "    .dataframe thead th {\n",
              "        text-align: right;\n",
              "    }\n",
              "</style>\n",
              "<table border=\"1\" class=\"dataframe\">\n",
              "  <thead>\n",
              "    <tr style=\"text-align: right;\">\n",
              "      <th></th>\n",
              "      <th>movie_id</th>\n",
              "      <th>title</th>\n",
              "      <th>genre</th>\n",
              "    </tr>\n",
              "  </thead>\n",
              "  <tbody>\n",
              "    <tr>\n",
              "      <th>0</th>\n",
              "      <td>1</td>\n",
              "      <td>Toy Story (1995)</td>\n",
              "      <td>Animation|Children's|Comedy</td>\n",
              "    </tr>\n",
              "    <tr>\n",
              "      <th>1</th>\n",
              "      <td>2</td>\n",
              "      <td>Jumanji (1995)</td>\n",
              "      <td>Adventure|Children's|Fantasy</td>\n",
              "    </tr>\n",
              "    <tr>\n",
              "      <th>2</th>\n",
              "      <td>3</td>\n",
              "      <td>Grumpier Old Men (1995)</td>\n",
              "      <td>Comedy|Romance</td>\n",
              "    </tr>\n",
              "    <tr>\n",
              "      <th>3</th>\n",
              "      <td>4</td>\n",
              "      <td>Waiting to Exhale (1995)</td>\n",
              "      <td>Comedy|Drama</td>\n",
              "    </tr>\n",
              "    <tr>\n",
              "      <th>4</th>\n",
              "      <td>5</td>\n",
              "      <td>Father of the Bride Part II (1995)</td>\n",
              "      <td>Comedy</td>\n",
              "    </tr>\n",
              "  </tbody>\n",
              "</table>\n",
              "</div>\n",
              "      <button class=\"colab-df-convert\" onclick=\"convertToInteractive('df-b02f8a6c-d111-4df7-b334-b24851a55e35')\"\n",
              "              title=\"Convert this dataframe to an interactive table.\"\n",
              "              style=\"display:none;\">\n",
              "        \n",
              "  <svg xmlns=\"http://www.w3.org/2000/svg\" height=\"24px\"viewBox=\"0 0 24 24\"\n",
              "       width=\"24px\">\n",
              "    <path d=\"M0 0h24v24H0V0z\" fill=\"none\"/>\n",
              "    <path d=\"M18.56 5.44l.94 2.06.94-2.06 2.06-.94-2.06-.94-.94-2.06-.94 2.06-2.06.94zm-11 1L8.5 8.5l.94-2.06 2.06-.94-2.06-.94L8.5 2.5l-.94 2.06-2.06.94zm10 10l.94 2.06.94-2.06 2.06-.94-2.06-.94-.94-2.06-.94 2.06-2.06.94z\"/><path d=\"M17.41 7.96l-1.37-1.37c-.4-.4-.92-.59-1.43-.59-.52 0-1.04.2-1.43.59L10.3 9.45l-7.72 7.72c-.78.78-.78 2.05 0 2.83L4 21.41c.39.39.9.59 1.41.59.51 0 1.02-.2 1.41-.59l7.78-7.78 2.81-2.81c.8-.78.8-2.07 0-2.86zM5.41 20L4 18.59l7.72-7.72 1.47 1.35L5.41 20z\"/>\n",
              "  </svg>\n",
              "      </button>\n",
              "      \n",
              "  <style>\n",
              "    .colab-df-container {\n",
              "      display:flex;\n",
              "      flex-wrap:wrap;\n",
              "      gap: 12px;\n",
              "    }\n",
              "\n",
              "    .colab-df-convert {\n",
              "      background-color: #E8F0FE;\n",
              "      border: none;\n",
              "      border-radius: 50%;\n",
              "      cursor: pointer;\n",
              "      display: none;\n",
              "      fill: #1967D2;\n",
              "      height: 32px;\n",
              "      padding: 0 0 0 0;\n",
              "      width: 32px;\n",
              "    }\n",
              "\n",
              "    .colab-df-convert:hover {\n",
              "      background-color: #E2EBFA;\n",
              "      box-shadow: 0px 1px 2px rgba(60, 64, 67, 0.3), 0px 1px 3px 1px rgba(60, 64, 67, 0.15);\n",
              "      fill: #174EA6;\n",
              "    }\n",
              "\n",
              "    [theme=dark] .colab-df-convert {\n",
              "      background-color: #3B4455;\n",
              "      fill: #D2E3FC;\n",
              "    }\n",
              "\n",
              "    [theme=dark] .colab-df-convert:hover {\n",
              "      background-color: #434B5C;\n",
              "      box-shadow: 0px 1px 3px 1px rgba(0, 0, 0, 0.15);\n",
              "      filter: drop-shadow(0px 1px 2px rgba(0, 0, 0, 0.3));\n",
              "      fill: #FFFFFF;\n",
              "    }\n",
              "  </style>\n",
              "\n",
              "      <script>\n",
              "        const buttonEl =\n",
              "          document.querySelector('#df-b02f8a6c-d111-4df7-b334-b24851a55e35 button.colab-df-convert');\n",
              "        buttonEl.style.display =\n",
              "          google.colab.kernel.accessAllowed ? 'block' : 'none';\n",
              "\n",
              "        async function convertToInteractive(key) {\n",
              "          const element = document.querySelector('#df-b02f8a6c-d111-4df7-b334-b24851a55e35');\n",
              "          const dataTable =\n",
              "            await google.colab.kernel.invokeFunction('convertToInteractive',\n",
              "                                                     [key], {});\n",
              "          if (!dataTable) return;\n",
              "\n",
              "          const docLinkHtml = 'Like what you see? Visit the ' +\n",
              "            '<a target=\"_blank\" href=https://colab.research.google.com/notebooks/data_table.ipynb>data table notebook</a>'\n",
              "            + ' to learn more about interactive tables.';\n",
              "          element.innerHTML = '';\n",
              "          dataTable['output_type'] = 'display_data';\n",
              "          await google.colab.output.renderOutput(dataTable, element);\n",
              "          const docLink = document.createElement('div');\n",
              "          docLink.innerHTML = docLinkHtml;\n",
              "          element.appendChild(docLink);\n",
              "        }\n",
              "      </script>\n",
              "    </div>\n",
              "  </div>\n",
              "  "
            ]
          },
          "metadata": {},
          "execution_count": 1288
        }
      ]
    },
    {
      "cell_type": "markdown",
      "source": [
        "#데이터 전처리"
      ],
      "metadata": {
        "id": "-mOyYBjlIBYy"
      }
    },
    {
      "cell_type": "markdown",
      "source": [
        "##암묵적 피드백"
      ],
      "metadata": {
        "id": "Avv3ynkMzfks"
      }
    },
    {
      "cell_type": "code",
      "source": [
        "ratings = ratings[ratings['ratings']>=3]\n",
        "filtered_data_size = len(ratings)\n",
        "\n",
        "print(f'orginal_data_size: {orginal_data_size}, filtered_data_size: {filtered_data_size}')\n",
        "print(f'Ratio of Remaining Data is {filtered_data_size / orginal_data_size:.2%}')"
      ],
      "metadata": {
        "colab": {
          "base_uri": "https://localhost:8080/"
        },
        "id": "4unVo4rfvuzb",
        "outputId": "b535d2ab-de8c-45dc-c055-6f32a7ebcbf7"
      },
      "execution_count": 1289,
      "outputs": [
        {
          "output_type": "stream",
          "name": "stdout",
          "text": [
            "orginal_data_size: 1000209, filtered_data_size: 836478\n",
            "Ratio of Remaining Data is 83.63%\n"
          ]
        }
      ]
    },
    {
      "cell_type": "markdown",
      "source": [
        "현재 가지고 있는 데이터는 사용자가 영화의 평점으로 몇 점을 주었냐이다.\n",
        "<br/>이렇게 서비스를 사용하면서 자연스럽게 발생하는 암묵적(implicit)인 피드백도\n",
        "<br/>사용자의 아이템에 대한 평가를 알 수 있는 단서가 될 수 있다."
      ],
      "metadata": {
        "id": "TUPRKdrnJ76Q"
      }
    },
    {
      "cell_type": "markdown",
      "source": [
        "앞으로 만들어갈 모델에서는 암묵적 데이터의 해석을 위해 다음과 같은 규칙을 적용한다.\n",
        "<br/>3점이 넘으면 선호한다고 판단한다.\n",
        "<br/>평점을 높게 준 영화에 대해 가중치를 주어서 더 확실히 좋아한다고 판단한다."
      ],
      "metadata": {
        "id": "H356RlfTJnBQ"
      }
    },
    {
      "cell_type": "markdown",
      "source": [
        "##고유값"
      ],
      "metadata": {
        "id": "VlGvR3bHTFAL"
      }
    },
    {
      "cell_type": "code",
      "source": [
        "num_user = ratings['user_id'].nunique()\n",
        "num_movie = ratings['movie_id'].nunique()"
      ],
      "metadata": {
        "id": "n0xbJRMwI1Bp"
      },
      "execution_count": 1239,
      "outputs": []
    },
    {
      "cell_type": "code",
      "source": [
        "num_user"
      ],
      "metadata": {
        "colab": {
          "base_uri": "https://localhost:8080/"
        },
        "id": "Z18DpEAt8lj2",
        "outputId": "ff29c8ce-d09c-44c3-955f-d6ffbc6f352d"
      },
      "execution_count": 573,
      "outputs": [
        {
          "output_type": "execute_result",
          "data": {
            "text/plain": [
              "6039"
            ]
          },
          "metadata": {},
          "execution_count": 573
        }
      ]
    },
    {
      "cell_type": "code",
      "source": [
        "num_movie"
      ],
      "metadata": {
        "colab": {
          "base_uri": "https://localhost:8080/"
        },
        "id": "KQRDPU8Z88GG",
        "outputId": "8200bf9a-01d1-4376-84b5-f06b67822cca"
      },
      "execution_count": 574,
      "outputs": [
        {
          "output_type": "execute_result",
          "data": {
            "text/plain": [
              "3628"
            ]
          },
          "metadata": {},
          "execution_count": 574
        }
      ]
    },
    {
      "cell_type": "markdown",
      "source": [
        "##결측치 처리"
      ],
      "metadata": {
        "id": "tKakAI593VFA"
      }
    },
    {
      "cell_type": "code",
      "source": [
        "user = ratings['user_id'].unique()\n",
        "movie = ratings['movie_id'].unique()"
      ],
      "metadata": {
        "id": "-XM3lTHX3RxP"
      },
      "execution_count": 1411,
      "outputs": []
    },
    {
      "cell_type": "code",
      "source": [
        "user_to_idx = {v:k  for k,v in enumerate(user)}\n",
        "title_to_idx = {v:k for k,v in enumerate(movie)}"
      ],
      "metadata": {
        "id": "pK1po5fQ3V3v"
      },
      "execution_count": 1348,
      "outputs": []
    },
    {
      "cell_type": "code",
      "source": [
        "for key, value in user_to_idx.items():\n",
        "    if 3595 <= key <= 3600: \n",
        "      print(key, value)"
      ],
      "metadata": {
        "colab": {
          "base_uri": "https://localhost:8080/"
        },
        "id": "G4TZmwMY3V6l",
        "outputId": "5fcb9bec-1a3a-4233-a6ba-63647acfa5d0"
      },
      "execution_count": 1349,
      "outputs": [
        {
          "output_type": "stream",
          "name": "stdout",
          "text": [
            "3595 3594\n",
            "3596 3595\n",
            "3597 3596\n",
            "3599 3597\n",
            "3600 3598\n"
          ]
        }
      ]
    },
    {
      "cell_type": "code",
      "source": [
        "condition = (ratings['user_id'] == 3598)\n",
        "ratings[condition]"
      ],
      "metadata": {
        "colab": {
          "base_uri": "https://localhost:8080/",
          "height": 49
        },
        "id": "OJlMdSJa3V9U",
        "outputId": "2bdb0f40-7a93-4a7c-da6e-c1b345848d1a"
      },
      "execution_count": 1350,
      "outputs": [
        {
          "output_type": "execute_result",
          "data": {
            "text/plain": [
              "Empty DataFrame\n",
              "Columns: [user_id, movie_id, ratings, timestamp]\n",
              "Index: []"
            ],
            "text/html": [
              "\n",
              "  <div id=\"df-5ece4f32-e880-4a00-8906-872acbc2950c\">\n",
              "    <div class=\"colab-df-container\">\n",
              "      <div>\n",
              "<style scoped>\n",
              "    .dataframe tbody tr th:only-of-type {\n",
              "        vertical-align: middle;\n",
              "    }\n",
              "\n",
              "    .dataframe tbody tr th {\n",
              "        vertical-align: top;\n",
              "    }\n",
              "\n",
              "    .dataframe thead th {\n",
              "        text-align: right;\n",
              "    }\n",
              "</style>\n",
              "<table border=\"1\" class=\"dataframe\">\n",
              "  <thead>\n",
              "    <tr style=\"text-align: right;\">\n",
              "      <th></th>\n",
              "      <th>user_id</th>\n",
              "      <th>movie_id</th>\n",
              "      <th>ratings</th>\n",
              "      <th>timestamp</th>\n",
              "    </tr>\n",
              "  </thead>\n",
              "  <tbody>\n",
              "  </tbody>\n",
              "</table>\n",
              "</div>\n",
              "      <button class=\"colab-df-convert\" onclick=\"convertToInteractive('df-5ece4f32-e880-4a00-8906-872acbc2950c')\"\n",
              "              title=\"Convert this dataframe to an interactive table.\"\n",
              "              style=\"display:none;\">\n",
              "        \n",
              "  <svg xmlns=\"http://www.w3.org/2000/svg\" height=\"24px\"viewBox=\"0 0 24 24\"\n",
              "       width=\"24px\">\n",
              "    <path d=\"M0 0h24v24H0V0z\" fill=\"none\"/>\n",
              "    <path d=\"M18.56 5.44l.94 2.06.94-2.06 2.06-.94-2.06-.94-.94-2.06-.94 2.06-2.06.94zm-11 1L8.5 8.5l.94-2.06 2.06-.94-2.06-.94L8.5 2.5l-.94 2.06-2.06.94zm10 10l.94 2.06.94-2.06 2.06-.94-2.06-.94-.94-2.06-.94 2.06-2.06.94z\"/><path d=\"M17.41 7.96l-1.37-1.37c-.4-.4-.92-.59-1.43-.59-.52 0-1.04.2-1.43.59L10.3 9.45l-7.72 7.72c-.78.78-.78 2.05 0 2.83L4 21.41c.39.39.9.59 1.41.59.51 0 1.02-.2 1.41-.59l7.78-7.78 2.81-2.81c.8-.78.8-2.07 0-2.86zM5.41 20L4 18.59l7.72-7.72 1.47 1.35L5.41 20z\"/>\n",
              "  </svg>\n",
              "      </button>\n",
              "      \n",
              "  <style>\n",
              "    .colab-df-container {\n",
              "      display:flex;\n",
              "      flex-wrap:wrap;\n",
              "      gap: 12px;\n",
              "    }\n",
              "\n",
              "    .colab-df-convert {\n",
              "      background-color: #E8F0FE;\n",
              "      border: none;\n",
              "      border-radius: 50%;\n",
              "      cursor: pointer;\n",
              "      display: none;\n",
              "      fill: #1967D2;\n",
              "      height: 32px;\n",
              "      padding: 0 0 0 0;\n",
              "      width: 32px;\n",
              "    }\n",
              "\n",
              "    .colab-df-convert:hover {\n",
              "      background-color: #E2EBFA;\n",
              "      box-shadow: 0px 1px 2px rgba(60, 64, 67, 0.3), 0px 1px 3px 1px rgba(60, 64, 67, 0.15);\n",
              "      fill: #174EA6;\n",
              "    }\n",
              "\n",
              "    [theme=dark] .colab-df-convert {\n",
              "      background-color: #3B4455;\n",
              "      fill: #D2E3FC;\n",
              "    }\n",
              "\n",
              "    [theme=dark] .colab-df-convert:hover {\n",
              "      background-color: #434B5C;\n",
              "      box-shadow: 0px 1px 3px 1px rgba(0, 0, 0, 0.15);\n",
              "      filter: drop-shadow(0px 1px 2px rgba(0, 0, 0, 0.3));\n",
              "      fill: #FFFFFF;\n",
              "    }\n",
              "  </style>\n",
              "\n",
              "      <script>\n",
              "        const buttonEl =\n",
              "          document.querySelector('#df-5ece4f32-e880-4a00-8906-872acbc2950c button.colab-df-convert');\n",
              "        buttonEl.style.display =\n",
              "          google.colab.kernel.accessAllowed ? 'block' : 'none';\n",
              "\n",
              "        async function convertToInteractive(key) {\n",
              "          const element = document.querySelector('#df-5ece4f32-e880-4a00-8906-872acbc2950c');\n",
              "          const dataTable =\n",
              "            await google.colab.kernel.invokeFunction('convertToInteractive',\n",
              "                                                     [key], {});\n",
              "          if (!dataTable) return;\n",
              "\n",
              "          const docLinkHtml = 'Like what you see? Visit the ' +\n",
              "            '<a target=\"_blank\" href=https://colab.research.google.com/notebooks/data_table.ipynb>data table notebook</a>'\n",
              "            + ' to learn more about interactive tables.';\n",
              "          element.innerHTML = '';\n",
              "          dataTable['output_type'] = 'display_data';\n",
              "          await google.colab.output.renderOutput(dataTable, element);\n",
              "          const docLink = document.createElement('div');\n",
              "          docLink.innerHTML = docLinkHtml;\n",
              "          element.appendChild(docLink);\n",
              "        }\n",
              "      </script>\n",
              "    </div>\n",
              "  </div>\n",
              "  "
            ]
          },
          "metadata": {},
          "execution_count": 1350
        }
      ]
    },
    {
      "cell_type": "markdown",
      "source": [
        "데이터프레임의 빈 행이 확인된다."
      ],
      "metadata": {
        "id": "9OZwfY-nK2wD"
      }
    },
    {
      "cell_type": "code",
      "source": [
        "ratings.isnull().sum()"
      ],
      "metadata": {
        "colab": {
          "base_uri": "https://localhost:8080/"
        },
        "id": "PCBQU_4K3mWw",
        "outputId": "403d6917-abfb-4764-bee9-dbc80dba1b06"
      },
      "execution_count": 1351,
      "outputs": [
        {
          "output_type": "execute_result",
          "data": {
            "text/plain": [
              "user_id      0\n",
              "movie_id     0\n",
              "ratings      0\n",
              "timestamp    0\n",
              "dtype: int64"
            ]
          },
          "metadata": {},
          "execution_count": 1351
        }
      ]
    },
    {
      "cell_type": "markdown",
      "source": [
        "그러나 결측치가 없다고 하는 모순된 결과가 나온다."
      ],
      "metadata": {
        "id": "Xg2I1kDrK5_T"
      }
    },
    {
      "cell_type": "markdown",
      "source": [
        "#데이터 탐색"
      ],
      "metadata": {
        "id": "I7PtoPdyvu4i"
      }
    },
    {
      "cell_type": "markdown",
      "source": [
        "##영화 랭킹"
      ],
      "metadata": {
        "id": "AIjah-1ZI1FX"
      }
    },
    {
      "cell_type": "code",
      "source": [
        "movies_ratings = pd.merge(movies, ratings)\n",
        "cols = ['user_id','title', 'ratings']\n",
        "movies_ratings = movies_ratings[cols]"
      ],
      "metadata": {
        "id": "FJ2rPnxk9Fe2"
      },
      "execution_count": 1313,
      "outputs": []
    },
    {
      "cell_type": "code",
      "source": [
        "movies_ratings"
      ],
      "metadata": {
        "colab": {
          "base_uri": "https://localhost:8080/",
          "height": 424
        },
        "id": "etIIq_nzf_14",
        "outputId": "8e6b2054-a3bb-4fec-f5ae-0fa226301d23"
      },
      "execution_count": 1314,
      "outputs": [
        {
          "output_type": "execute_result",
          "data": {
            "text/plain": [
              "        user_id                  title  ratings\n",
              "0             1       Toy Story (1995)        5\n",
              "1             6       Toy Story (1995)        4\n",
              "2             8       Toy Story (1995)        4\n",
              "3             9       Toy Story (1995)        5\n",
              "4            10       Toy Story (1995)        5\n",
              "...         ...                    ...      ...\n",
              "836473     5682  Contender, The (2000)        3\n",
              "836474     5812  Contender, The (2000)        4\n",
              "836475     5831  Contender, The (2000)        3\n",
              "836476     5837  Contender, The (2000)        4\n",
              "836477     5998  Contender, The (2000)        4\n",
              "\n",
              "[836478 rows x 3 columns]"
            ],
            "text/html": [
              "\n",
              "  <div id=\"df-dd8209dc-3faf-4d45-a7b7-1aca5b9bd187\">\n",
              "    <div class=\"colab-df-container\">\n",
              "      <div>\n",
              "<style scoped>\n",
              "    .dataframe tbody tr th:only-of-type {\n",
              "        vertical-align: middle;\n",
              "    }\n",
              "\n",
              "    .dataframe tbody tr th {\n",
              "        vertical-align: top;\n",
              "    }\n",
              "\n",
              "    .dataframe thead th {\n",
              "        text-align: right;\n",
              "    }\n",
              "</style>\n",
              "<table border=\"1\" class=\"dataframe\">\n",
              "  <thead>\n",
              "    <tr style=\"text-align: right;\">\n",
              "      <th></th>\n",
              "      <th>user_id</th>\n",
              "      <th>title</th>\n",
              "      <th>ratings</th>\n",
              "    </tr>\n",
              "  </thead>\n",
              "  <tbody>\n",
              "    <tr>\n",
              "      <th>0</th>\n",
              "      <td>1</td>\n",
              "      <td>Toy Story (1995)</td>\n",
              "      <td>5</td>\n",
              "    </tr>\n",
              "    <tr>\n",
              "      <th>1</th>\n",
              "      <td>6</td>\n",
              "      <td>Toy Story (1995)</td>\n",
              "      <td>4</td>\n",
              "    </tr>\n",
              "    <tr>\n",
              "      <th>2</th>\n",
              "      <td>8</td>\n",
              "      <td>Toy Story (1995)</td>\n",
              "      <td>4</td>\n",
              "    </tr>\n",
              "    <tr>\n",
              "      <th>3</th>\n",
              "      <td>9</td>\n",
              "      <td>Toy Story (1995)</td>\n",
              "      <td>5</td>\n",
              "    </tr>\n",
              "    <tr>\n",
              "      <th>4</th>\n",
              "      <td>10</td>\n",
              "      <td>Toy Story (1995)</td>\n",
              "      <td>5</td>\n",
              "    </tr>\n",
              "    <tr>\n",
              "      <th>...</th>\n",
              "      <td>...</td>\n",
              "      <td>...</td>\n",
              "      <td>...</td>\n",
              "    </tr>\n",
              "    <tr>\n",
              "      <th>836473</th>\n",
              "      <td>5682</td>\n",
              "      <td>Contender, The (2000)</td>\n",
              "      <td>3</td>\n",
              "    </tr>\n",
              "    <tr>\n",
              "      <th>836474</th>\n",
              "      <td>5812</td>\n",
              "      <td>Contender, The (2000)</td>\n",
              "      <td>4</td>\n",
              "    </tr>\n",
              "    <tr>\n",
              "      <th>836475</th>\n",
              "      <td>5831</td>\n",
              "      <td>Contender, The (2000)</td>\n",
              "      <td>3</td>\n",
              "    </tr>\n",
              "    <tr>\n",
              "      <th>836476</th>\n",
              "      <td>5837</td>\n",
              "      <td>Contender, The (2000)</td>\n",
              "      <td>4</td>\n",
              "    </tr>\n",
              "    <tr>\n",
              "      <th>836477</th>\n",
              "      <td>5998</td>\n",
              "      <td>Contender, The (2000)</td>\n",
              "      <td>4</td>\n",
              "    </tr>\n",
              "  </tbody>\n",
              "</table>\n",
              "<p>836478 rows × 3 columns</p>\n",
              "</div>\n",
              "      <button class=\"colab-df-convert\" onclick=\"convertToInteractive('df-dd8209dc-3faf-4d45-a7b7-1aca5b9bd187')\"\n",
              "              title=\"Convert this dataframe to an interactive table.\"\n",
              "              style=\"display:none;\">\n",
              "        \n",
              "  <svg xmlns=\"http://www.w3.org/2000/svg\" height=\"24px\"viewBox=\"0 0 24 24\"\n",
              "       width=\"24px\">\n",
              "    <path d=\"M0 0h24v24H0V0z\" fill=\"none\"/>\n",
              "    <path d=\"M18.56 5.44l.94 2.06.94-2.06 2.06-.94-2.06-.94-.94-2.06-.94 2.06-2.06.94zm-11 1L8.5 8.5l.94-2.06 2.06-.94-2.06-.94L8.5 2.5l-.94 2.06-2.06.94zm10 10l.94 2.06.94-2.06 2.06-.94-2.06-.94-.94-2.06-.94 2.06-2.06.94z\"/><path d=\"M17.41 7.96l-1.37-1.37c-.4-.4-.92-.59-1.43-.59-.52 0-1.04.2-1.43.59L10.3 9.45l-7.72 7.72c-.78.78-.78 2.05 0 2.83L4 21.41c.39.39.9.59 1.41.59.51 0 1.02-.2 1.41-.59l7.78-7.78 2.81-2.81c.8-.78.8-2.07 0-2.86zM5.41 20L4 18.59l7.72-7.72 1.47 1.35L5.41 20z\"/>\n",
              "  </svg>\n",
              "      </button>\n",
              "      \n",
              "  <style>\n",
              "    .colab-df-container {\n",
              "      display:flex;\n",
              "      flex-wrap:wrap;\n",
              "      gap: 12px;\n",
              "    }\n",
              "\n",
              "    .colab-df-convert {\n",
              "      background-color: #E8F0FE;\n",
              "      border: none;\n",
              "      border-radius: 50%;\n",
              "      cursor: pointer;\n",
              "      display: none;\n",
              "      fill: #1967D2;\n",
              "      height: 32px;\n",
              "      padding: 0 0 0 0;\n",
              "      width: 32px;\n",
              "    }\n",
              "\n",
              "    .colab-df-convert:hover {\n",
              "      background-color: #E2EBFA;\n",
              "      box-shadow: 0px 1px 2px rgba(60, 64, 67, 0.3), 0px 1px 3px 1px rgba(60, 64, 67, 0.15);\n",
              "      fill: #174EA6;\n",
              "    }\n",
              "\n",
              "    [theme=dark] .colab-df-convert {\n",
              "      background-color: #3B4455;\n",
              "      fill: #D2E3FC;\n",
              "    }\n",
              "\n",
              "    [theme=dark] .colab-df-convert:hover {\n",
              "      background-color: #434B5C;\n",
              "      box-shadow: 0px 1px 3px 1px rgba(0, 0, 0, 0.15);\n",
              "      filter: drop-shadow(0px 1px 2px rgba(0, 0, 0, 0.3));\n",
              "      fill: #FFFFFF;\n",
              "    }\n",
              "  </style>\n",
              "\n",
              "      <script>\n",
              "        const buttonEl =\n",
              "          document.querySelector('#df-dd8209dc-3faf-4d45-a7b7-1aca5b9bd187 button.colab-df-convert');\n",
              "        buttonEl.style.display =\n",
              "          google.colab.kernel.accessAllowed ? 'block' : 'none';\n",
              "\n",
              "        async function convertToInteractive(key) {\n",
              "          const element = document.querySelector('#df-dd8209dc-3faf-4d45-a7b7-1aca5b9bd187');\n",
              "          const dataTable =\n",
              "            await google.colab.kernel.invokeFunction('convertToInteractive',\n",
              "                                                     [key], {});\n",
              "          if (!dataTable) return;\n",
              "\n",
              "          const docLinkHtml = 'Like what you see? Visit the ' +\n",
              "            '<a target=\"_blank\" href=https://colab.research.google.com/notebooks/data_table.ipynb>data table notebook</a>'\n",
              "            + ' to learn more about interactive tables.';\n",
              "          element.innerHTML = '';\n",
              "          dataTable['output_type'] = 'display_data';\n",
              "          await google.colab.output.renderOutput(dataTable, element);\n",
              "          const docLink = document.createElement('div');\n",
              "          docLink.innerHTML = docLinkHtml;\n",
              "          element.appendChild(docLink);\n",
              "        }\n",
              "      </script>\n",
              "    </div>\n",
              "  </div>\n",
              "  "
            ]
          },
          "metadata": {},
          "execution_count": 1314
        }
      ]
    },
    {
      "cell_type": "code",
      "source": [
        "movies_ratings['title'] = movies_ratings['title'].str.lower() \n",
        "movies_count = movies_ratings.groupby('title')['user_id'].count()\n",
        "popluar_thirty_movies = movies_count.sort_values(ascending=False)[:30]"
      ],
      "metadata": {
        "id": "kj0aOZCb-34O"
      },
      "execution_count": 1315,
      "outputs": []
    },
    {
      "cell_type": "code",
      "source": [
        "popluar_thirty_movies = pd.DataFrame(popluar_thirty_movies.reset_index())\n",
        "popluar_thirty_movies.index = popluar_thirty_movies.index + 1\n",
        "popluar_thirty_movies = popluar_thirty_movies.reset_index()"
      ],
      "metadata": {
        "id": "GcVfTLejFhgz"
      },
      "execution_count": 1294,
      "outputs": []
    },
    {
      "cell_type": "code",
      "source": [
        "popluar_thirty_movies.columns = ['rank', 'title', 'counts']\n",
        "popluar_thirty_movies = popluar_thirty_movies[['title', 'rank', 'counts']]"
      ],
      "metadata": {
        "id": "izt1gq4GFx4N"
      },
      "execution_count": 1295,
      "outputs": []
    },
    {
      "cell_type": "code",
      "source": [
        "popluar_thirty_movies"
      ],
      "metadata": {
        "colab": {
          "base_uri": "https://localhost:8080/",
          "height": 990
        },
        "id": "1stxY6mwGszk",
        "outputId": "e99d3751-ed3b-4a21-9bb6-73e929d79a51"
      },
      "execution_count": 1296,
      "outputs": [
        {
          "output_type": "execute_result",
          "data": {
            "text/plain": [
              "                                                title  rank  counts\n",
              "0                              american beauty (1999)     1    3211\n",
              "1           star wars: episode iv - a new hope (1977)     2    2910\n",
              "2   star wars: episode v - the empire strikes back...     3    2885\n",
              "3   star wars: episode vi - return of the jedi (1983)     4    2716\n",
              "4                          saving private ryan (1998)     5    2561\n",
              "5                   terminator 2: judgment day (1991)     6    2509\n",
              "6                    silence of the lambs, the (1991)     7    2498\n",
              "7                      raiders of the lost ark (1981)     8    2473\n",
              "8                           back to the future (1985)     9    2460\n",
              "9                                  matrix, the (1999)    10    2434\n",
              "10                               jurassic park (1993)    11    2413\n",
              "11                            sixth sense, the (1999)    12    2385\n",
              "12                                       fargo (1996)    13    2371\n",
              "13                                  braveheart (1995)    14    2314\n",
              "14                                men in black (1997)    15    2297\n",
              "15                            schindler's list (1993)    16    2257\n",
              "16                         princess bride, the (1987)    17    2252\n",
              "17                         shakespeare in love (1998)    18    2213\n",
              "18                           l.a. confidential (1997)    19    2210\n",
              "19                   shawshank redemption, the (1994)    20    2194\n",
              "20                              godfather, the (1972)    21    2167\n",
              "21                               groundhog day (1993)    22    2121\n",
              "22                  e.t. the extra-terrestrial (1982)    23    2102\n",
              "23                        being john malkovich (1999)    24    2066\n",
              "24                                ghostbusters (1984)    25    2051\n",
              "25                                pulp fiction (1994)    26    2030\n",
              "26                                forrest gump (1994)    27    2022\n",
              "27                             terminator, the (1984)    28    2019\n",
              "28                                   toy story (1995)    29    2000\n",
              "29                               fugitive, the (1993)    30    1941"
            ],
            "text/html": [
              "\n",
              "  <div id=\"df-a24b9b44-e947-4a64-ad5a-0aeff360a54d\">\n",
              "    <div class=\"colab-df-container\">\n",
              "      <div>\n",
              "<style scoped>\n",
              "    .dataframe tbody tr th:only-of-type {\n",
              "        vertical-align: middle;\n",
              "    }\n",
              "\n",
              "    .dataframe tbody tr th {\n",
              "        vertical-align: top;\n",
              "    }\n",
              "\n",
              "    .dataframe thead th {\n",
              "        text-align: right;\n",
              "    }\n",
              "</style>\n",
              "<table border=\"1\" class=\"dataframe\">\n",
              "  <thead>\n",
              "    <tr style=\"text-align: right;\">\n",
              "      <th></th>\n",
              "      <th>title</th>\n",
              "      <th>rank</th>\n",
              "      <th>counts</th>\n",
              "    </tr>\n",
              "  </thead>\n",
              "  <tbody>\n",
              "    <tr>\n",
              "      <th>0</th>\n",
              "      <td>american beauty (1999)</td>\n",
              "      <td>1</td>\n",
              "      <td>3211</td>\n",
              "    </tr>\n",
              "    <tr>\n",
              "      <th>1</th>\n",
              "      <td>star wars: episode iv - a new hope (1977)</td>\n",
              "      <td>2</td>\n",
              "      <td>2910</td>\n",
              "    </tr>\n",
              "    <tr>\n",
              "      <th>2</th>\n",
              "      <td>star wars: episode v - the empire strikes back...</td>\n",
              "      <td>3</td>\n",
              "      <td>2885</td>\n",
              "    </tr>\n",
              "    <tr>\n",
              "      <th>3</th>\n",
              "      <td>star wars: episode vi - return of the jedi (1983)</td>\n",
              "      <td>4</td>\n",
              "      <td>2716</td>\n",
              "    </tr>\n",
              "    <tr>\n",
              "      <th>4</th>\n",
              "      <td>saving private ryan (1998)</td>\n",
              "      <td>5</td>\n",
              "      <td>2561</td>\n",
              "    </tr>\n",
              "    <tr>\n",
              "      <th>5</th>\n",
              "      <td>terminator 2: judgment day (1991)</td>\n",
              "      <td>6</td>\n",
              "      <td>2509</td>\n",
              "    </tr>\n",
              "    <tr>\n",
              "      <th>6</th>\n",
              "      <td>silence of the lambs, the (1991)</td>\n",
              "      <td>7</td>\n",
              "      <td>2498</td>\n",
              "    </tr>\n",
              "    <tr>\n",
              "      <th>7</th>\n",
              "      <td>raiders of the lost ark (1981)</td>\n",
              "      <td>8</td>\n",
              "      <td>2473</td>\n",
              "    </tr>\n",
              "    <tr>\n",
              "      <th>8</th>\n",
              "      <td>back to the future (1985)</td>\n",
              "      <td>9</td>\n",
              "      <td>2460</td>\n",
              "    </tr>\n",
              "    <tr>\n",
              "      <th>9</th>\n",
              "      <td>matrix, the (1999)</td>\n",
              "      <td>10</td>\n",
              "      <td>2434</td>\n",
              "    </tr>\n",
              "    <tr>\n",
              "      <th>10</th>\n",
              "      <td>jurassic park (1993)</td>\n",
              "      <td>11</td>\n",
              "      <td>2413</td>\n",
              "    </tr>\n",
              "    <tr>\n",
              "      <th>11</th>\n",
              "      <td>sixth sense, the (1999)</td>\n",
              "      <td>12</td>\n",
              "      <td>2385</td>\n",
              "    </tr>\n",
              "    <tr>\n",
              "      <th>12</th>\n",
              "      <td>fargo (1996)</td>\n",
              "      <td>13</td>\n",
              "      <td>2371</td>\n",
              "    </tr>\n",
              "    <tr>\n",
              "      <th>13</th>\n",
              "      <td>braveheart (1995)</td>\n",
              "      <td>14</td>\n",
              "      <td>2314</td>\n",
              "    </tr>\n",
              "    <tr>\n",
              "      <th>14</th>\n",
              "      <td>men in black (1997)</td>\n",
              "      <td>15</td>\n",
              "      <td>2297</td>\n",
              "    </tr>\n",
              "    <tr>\n",
              "      <th>15</th>\n",
              "      <td>schindler's list (1993)</td>\n",
              "      <td>16</td>\n",
              "      <td>2257</td>\n",
              "    </tr>\n",
              "    <tr>\n",
              "      <th>16</th>\n",
              "      <td>princess bride, the (1987)</td>\n",
              "      <td>17</td>\n",
              "      <td>2252</td>\n",
              "    </tr>\n",
              "    <tr>\n",
              "      <th>17</th>\n",
              "      <td>shakespeare in love (1998)</td>\n",
              "      <td>18</td>\n",
              "      <td>2213</td>\n",
              "    </tr>\n",
              "    <tr>\n",
              "      <th>18</th>\n",
              "      <td>l.a. confidential (1997)</td>\n",
              "      <td>19</td>\n",
              "      <td>2210</td>\n",
              "    </tr>\n",
              "    <tr>\n",
              "      <th>19</th>\n",
              "      <td>shawshank redemption, the (1994)</td>\n",
              "      <td>20</td>\n",
              "      <td>2194</td>\n",
              "    </tr>\n",
              "    <tr>\n",
              "      <th>20</th>\n",
              "      <td>godfather, the (1972)</td>\n",
              "      <td>21</td>\n",
              "      <td>2167</td>\n",
              "    </tr>\n",
              "    <tr>\n",
              "      <th>21</th>\n",
              "      <td>groundhog day (1993)</td>\n",
              "      <td>22</td>\n",
              "      <td>2121</td>\n",
              "    </tr>\n",
              "    <tr>\n",
              "      <th>22</th>\n",
              "      <td>e.t. the extra-terrestrial (1982)</td>\n",
              "      <td>23</td>\n",
              "      <td>2102</td>\n",
              "    </tr>\n",
              "    <tr>\n",
              "      <th>23</th>\n",
              "      <td>being john malkovich (1999)</td>\n",
              "      <td>24</td>\n",
              "      <td>2066</td>\n",
              "    </tr>\n",
              "    <tr>\n",
              "      <th>24</th>\n",
              "      <td>ghostbusters (1984)</td>\n",
              "      <td>25</td>\n",
              "      <td>2051</td>\n",
              "    </tr>\n",
              "    <tr>\n",
              "      <th>25</th>\n",
              "      <td>pulp fiction (1994)</td>\n",
              "      <td>26</td>\n",
              "      <td>2030</td>\n",
              "    </tr>\n",
              "    <tr>\n",
              "      <th>26</th>\n",
              "      <td>forrest gump (1994)</td>\n",
              "      <td>27</td>\n",
              "      <td>2022</td>\n",
              "    </tr>\n",
              "    <tr>\n",
              "      <th>27</th>\n",
              "      <td>terminator, the (1984)</td>\n",
              "      <td>28</td>\n",
              "      <td>2019</td>\n",
              "    </tr>\n",
              "    <tr>\n",
              "      <th>28</th>\n",
              "      <td>toy story (1995)</td>\n",
              "      <td>29</td>\n",
              "      <td>2000</td>\n",
              "    </tr>\n",
              "    <tr>\n",
              "      <th>29</th>\n",
              "      <td>fugitive, the (1993)</td>\n",
              "      <td>30</td>\n",
              "      <td>1941</td>\n",
              "    </tr>\n",
              "  </tbody>\n",
              "</table>\n",
              "</div>\n",
              "      <button class=\"colab-df-convert\" onclick=\"convertToInteractive('df-a24b9b44-e947-4a64-ad5a-0aeff360a54d')\"\n",
              "              title=\"Convert this dataframe to an interactive table.\"\n",
              "              style=\"display:none;\">\n",
              "        \n",
              "  <svg xmlns=\"http://www.w3.org/2000/svg\" height=\"24px\"viewBox=\"0 0 24 24\"\n",
              "       width=\"24px\">\n",
              "    <path d=\"M0 0h24v24H0V0z\" fill=\"none\"/>\n",
              "    <path d=\"M18.56 5.44l.94 2.06.94-2.06 2.06-.94-2.06-.94-.94-2.06-.94 2.06-2.06.94zm-11 1L8.5 8.5l.94-2.06 2.06-.94-2.06-.94L8.5 2.5l-.94 2.06-2.06.94zm10 10l.94 2.06.94-2.06 2.06-.94-2.06-.94-.94-2.06-.94 2.06-2.06.94z\"/><path d=\"M17.41 7.96l-1.37-1.37c-.4-.4-.92-.59-1.43-.59-.52 0-1.04.2-1.43.59L10.3 9.45l-7.72 7.72c-.78.78-.78 2.05 0 2.83L4 21.41c.39.39.9.59 1.41.59.51 0 1.02-.2 1.41-.59l7.78-7.78 2.81-2.81c.8-.78.8-2.07 0-2.86zM5.41 20L4 18.59l7.72-7.72 1.47 1.35L5.41 20z\"/>\n",
              "  </svg>\n",
              "      </button>\n",
              "      \n",
              "  <style>\n",
              "    .colab-df-container {\n",
              "      display:flex;\n",
              "      flex-wrap:wrap;\n",
              "      gap: 12px;\n",
              "    }\n",
              "\n",
              "    .colab-df-convert {\n",
              "      background-color: #E8F0FE;\n",
              "      border: none;\n",
              "      border-radius: 50%;\n",
              "      cursor: pointer;\n",
              "      display: none;\n",
              "      fill: #1967D2;\n",
              "      height: 32px;\n",
              "      padding: 0 0 0 0;\n",
              "      width: 32px;\n",
              "    }\n",
              "\n",
              "    .colab-df-convert:hover {\n",
              "      background-color: #E2EBFA;\n",
              "      box-shadow: 0px 1px 2px rgba(60, 64, 67, 0.3), 0px 1px 3px 1px rgba(60, 64, 67, 0.15);\n",
              "      fill: #174EA6;\n",
              "    }\n",
              "\n",
              "    [theme=dark] .colab-df-convert {\n",
              "      background-color: #3B4455;\n",
              "      fill: #D2E3FC;\n",
              "    }\n",
              "\n",
              "    [theme=dark] .colab-df-convert:hover {\n",
              "      background-color: #434B5C;\n",
              "      box-shadow: 0px 1px 3px 1px rgba(0, 0, 0, 0.15);\n",
              "      filter: drop-shadow(0px 1px 2px rgba(0, 0, 0, 0.3));\n",
              "      fill: #FFFFFF;\n",
              "    }\n",
              "  </style>\n",
              "\n",
              "      <script>\n",
              "        const buttonEl =\n",
              "          document.querySelector('#df-a24b9b44-e947-4a64-ad5a-0aeff360a54d button.colab-df-convert');\n",
              "        buttonEl.style.display =\n",
              "          google.colab.kernel.accessAllowed ? 'block' : 'none';\n",
              "\n",
              "        async function convertToInteractive(key) {\n",
              "          const element = document.querySelector('#df-a24b9b44-e947-4a64-ad5a-0aeff360a54d');\n",
              "          const dataTable =\n",
              "            await google.colab.kernel.invokeFunction('convertToInteractive',\n",
              "                                                     [key], {});\n",
              "          if (!dataTable) return;\n",
              "\n",
              "          const docLinkHtml = 'Like what you see? Visit the ' +\n",
              "            '<a target=\"_blank\" href=https://colab.research.google.com/notebooks/data_table.ipynb>data table notebook</a>'\n",
              "            + ' to learn more about interactive tables.';\n",
              "          element.innerHTML = '';\n",
              "          dataTable['output_type'] = 'display_data';\n",
              "          await google.colab.output.renderOutput(dataTable, element);\n",
              "          const docLink = document.createElement('div');\n",
              "          docLink.innerHTML = docLinkHtml;\n",
              "          element.appendChild(docLink);\n",
              "        }\n",
              "      </script>\n",
              "    </div>\n",
              "  </div>\n",
              "  "
            ]
          },
          "metadata": {},
          "execution_count": 1296
        }
      ]
    },
    {
      "cell_type": "markdown",
      "source": [
        "##좋아하는 영화 5편 추가"
      ],
      "metadata": {
        "id": "vvcWQWLRKU89"
      }
    },
    {
      "cell_type": "code",
      "source": [
        "favorite_movies_search_keyword = ['star wars: episode v', 'space odyssey', 'titanic', 'lion king', 'pulp fiction']\n",
        "keyword = '|'.join(favorite_movies_search_keyword)\n",
        "favorite_movies_ratings = movies_ratings[movies_ratings['title'].str.contains(keyword)]"
      ],
      "metadata": {
        "id": "5BZReHmZP589"
      },
      "execution_count": 1298,
      "outputs": []
    },
    {
      "cell_type": "code",
      "source": [
        "favorite_movies_count = favorite_movies_ratings.groupby('title')['user_id'].count()\n",
        "favorite_movies_search = favorite_movies_count.sort_values(ascending=False)\n",
        "favorite_movies_search = pd.DataFrame(favorite_movies_search.reset_index())\n",
        "favorite_movies_search.columns = ['title', 'counts']"
      ],
      "metadata": {
        "id": "lt-EWpOgQVN7"
      },
      "execution_count": 1299,
      "outputs": []
    },
    {
      "cell_type": "code",
      "source": [
        "favorite_movies_search"
      ],
      "metadata": {
        "colab": {
          "base_uri": "https://localhost:8080/",
          "height": 332
        },
        "id": "Lkic_XatR6pz",
        "outputId": "8710f361-b6ee-4b55-bd52-10c9ccf8a37d"
      },
      "execution_count": 1300,
      "outputs": [
        {
          "output_type": "execute_result",
          "data": {
            "text/plain": [
              "                                               title  counts\n",
              "0  star wars: episode v - the empire strikes back...    2885\n",
              "1  star wars: episode vi - return of the jedi (1983)    2716\n",
              "2                                pulp fiction (1994)    2030\n",
              "3                       2001: a space odyssey (1968)    1568\n",
              "4                                     titanic (1997)    1270\n",
              "5                              lion king, the (1994)    1029\n",
              "6                                     titanic (1953)     179\n",
              "7                           raise the titanic (1980)      20\n",
              "8             chambermaid on the titanic, the (1998)      15"
            ],
            "text/html": [
              "\n",
              "  <div id=\"df-4871a97e-ee17-4612-a28f-0d294b9fbf57\">\n",
              "    <div class=\"colab-df-container\">\n",
              "      <div>\n",
              "<style scoped>\n",
              "    .dataframe tbody tr th:only-of-type {\n",
              "        vertical-align: middle;\n",
              "    }\n",
              "\n",
              "    .dataframe tbody tr th {\n",
              "        vertical-align: top;\n",
              "    }\n",
              "\n",
              "    .dataframe thead th {\n",
              "        text-align: right;\n",
              "    }\n",
              "</style>\n",
              "<table border=\"1\" class=\"dataframe\">\n",
              "  <thead>\n",
              "    <tr style=\"text-align: right;\">\n",
              "      <th></th>\n",
              "      <th>title</th>\n",
              "      <th>counts</th>\n",
              "    </tr>\n",
              "  </thead>\n",
              "  <tbody>\n",
              "    <tr>\n",
              "      <th>0</th>\n",
              "      <td>star wars: episode v - the empire strikes back...</td>\n",
              "      <td>2885</td>\n",
              "    </tr>\n",
              "    <tr>\n",
              "      <th>1</th>\n",
              "      <td>star wars: episode vi - return of the jedi (1983)</td>\n",
              "      <td>2716</td>\n",
              "    </tr>\n",
              "    <tr>\n",
              "      <th>2</th>\n",
              "      <td>pulp fiction (1994)</td>\n",
              "      <td>2030</td>\n",
              "    </tr>\n",
              "    <tr>\n",
              "      <th>3</th>\n",
              "      <td>2001: a space odyssey (1968)</td>\n",
              "      <td>1568</td>\n",
              "    </tr>\n",
              "    <tr>\n",
              "      <th>4</th>\n",
              "      <td>titanic (1997)</td>\n",
              "      <td>1270</td>\n",
              "    </tr>\n",
              "    <tr>\n",
              "      <th>5</th>\n",
              "      <td>lion king, the (1994)</td>\n",
              "      <td>1029</td>\n",
              "    </tr>\n",
              "    <tr>\n",
              "      <th>6</th>\n",
              "      <td>titanic (1953)</td>\n",
              "      <td>179</td>\n",
              "    </tr>\n",
              "    <tr>\n",
              "      <th>7</th>\n",
              "      <td>raise the titanic (1980)</td>\n",
              "      <td>20</td>\n",
              "    </tr>\n",
              "    <tr>\n",
              "      <th>8</th>\n",
              "      <td>chambermaid on the titanic, the (1998)</td>\n",
              "      <td>15</td>\n",
              "    </tr>\n",
              "  </tbody>\n",
              "</table>\n",
              "</div>\n",
              "      <button class=\"colab-df-convert\" onclick=\"convertToInteractive('df-4871a97e-ee17-4612-a28f-0d294b9fbf57')\"\n",
              "              title=\"Convert this dataframe to an interactive table.\"\n",
              "              style=\"display:none;\">\n",
              "        \n",
              "  <svg xmlns=\"http://www.w3.org/2000/svg\" height=\"24px\"viewBox=\"0 0 24 24\"\n",
              "       width=\"24px\">\n",
              "    <path d=\"M0 0h24v24H0V0z\" fill=\"none\"/>\n",
              "    <path d=\"M18.56 5.44l.94 2.06.94-2.06 2.06-.94-2.06-.94-.94-2.06-.94 2.06-2.06.94zm-11 1L8.5 8.5l.94-2.06 2.06-.94-2.06-.94L8.5 2.5l-.94 2.06-2.06.94zm10 10l.94 2.06.94-2.06 2.06-.94-2.06-.94-.94-2.06-.94 2.06-2.06.94z\"/><path d=\"M17.41 7.96l-1.37-1.37c-.4-.4-.92-.59-1.43-.59-.52 0-1.04.2-1.43.59L10.3 9.45l-7.72 7.72c-.78.78-.78 2.05 0 2.83L4 21.41c.39.39.9.59 1.41.59.51 0 1.02-.2 1.41-.59l7.78-7.78 2.81-2.81c.8-.78.8-2.07 0-2.86zM5.41 20L4 18.59l7.72-7.72 1.47 1.35L5.41 20z\"/>\n",
              "  </svg>\n",
              "      </button>\n",
              "      \n",
              "  <style>\n",
              "    .colab-df-container {\n",
              "      display:flex;\n",
              "      flex-wrap:wrap;\n",
              "      gap: 12px;\n",
              "    }\n",
              "\n",
              "    .colab-df-convert {\n",
              "      background-color: #E8F0FE;\n",
              "      border: none;\n",
              "      border-radius: 50%;\n",
              "      cursor: pointer;\n",
              "      display: none;\n",
              "      fill: #1967D2;\n",
              "      height: 32px;\n",
              "      padding: 0 0 0 0;\n",
              "      width: 32px;\n",
              "    }\n",
              "\n",
              "    .colab-df-convert:hover {\n",
              "      background-color: #E2EBFA;\n",
              "      box-shadow: 0px 1px 2px rgba(60, 64, 67, 0.3), 0px 1px 3px 1px rgba(60, 64, 67, 0.15);\n",
              "      fill: #174EA6;\n",
              "    }\n",
              "\n",
              "    [theme=dark] .colab-df-convert {\n",
              "      background-color: #3B4455;\n",
              "      fill: #D2E3FC;\n",
              "    }\n",
              "\n",
              "    [theme=dark] .colab-df-convert:hover {\n",
              "      background-color: #434B5C;\n",
              "      box-shadow: 0px 1px 3px 1px rgba(0, 0, 0, 0.15);\n",
              "      filter: drop-shadow(0px 1px 2px rgba(0, 0, 0, 0.3));\n",
              "      fill: #FFFFFF;\n",
              "    }\n",
              "  </style>\n",
              "\n",
              "      <script>\n",
              "        const buttonEl =\n",
              "          document.querySelector('#df-4871a97e-ee17-4612-a28f-0d294b9fbf57 button.colab-df-convert');\n",
              "        buttonEl.style.display =\n",
              "          google.colab.kernel.accessAllowed ? 'block' : 'none';\n",
              "\n",
              "        async function convertToInteractive(key) {\n",
              "          const element = document.querySelector('#df-4871a97e-ee17-4612-a28f-0d294b9fbf57');\n",
              "          const dataTable =\n",
              "            await google.colab.kernel.invokeFunction('convertToInteractive',\n",
              "                                                     [key], {});\n",
              "          if (!dataTable) return;\n",
              "\n",
              "          const docLinkHtml = 'Like what you see? Visit the ' +\n",
              "            '<a target=\"_blank\" href=https://colab.research.google.com/notebooks/data_table.ipynb>data table notebook</a>'\n",
              "            + ' to learn more about interactive tables.';\n",
              "          element.innerHTML = '';\n",
              "          dataTable['output_type'] = 'display_data';\n",
              "          await google.colab.output.renderOutput(dataTable, element);\n",
              "          const docLink = document.createElement('div');\n",
              "          docLink.innerHTML = docLinkHtml;\n",
              "          element.appendChild(docLink);\n",
              "        }\n",
              "      </script>\n",
              "    </div>\n",
              "  </div>\n",
              "  "
            ]
          },
          "metadata": {},
          "execution_count": 1300
        }
      ]
    },
    {
      "cell_type": "markdown",
      "source": [
        "좋아하는 영화가 데이터셋에 존재하는지 검색한다."
      ],
      "metadata": {
        "id": "9WWp8YcxLC0M"
      }
    },
    {
      "cell_type": "code",
      "source": [
        "favorite_title_list = ['star wars: episode v - the empire strikes back (1980)', 'pulp fiction (1994)',\n",
        "                       '2001: a space odyssey (1968)', 'titanic (1997)', 'lion king, the (1994)']"
      ],
      "metadata": {
        "id": "Fn-VCucNBTh2"
      },
      "execution_count": 1301,
      "outputs": []
    },
    {
      "cell_type": "code",
      "source": [
        "favorite_ratings_list = []\n",
        "ratings_list = [4, 5]\n",
        "\n",
        "for i in range(5):\n",
        "  if i == 2:\n",
        "    out = random.sample(ratings_list, i)\n",
        "    favorite_ratings_list.append(out)\n",
        "  elif i >= 3:\n",
        "    out = random.sample(ratings_list, i-2)\n",
        "    favorite_ratings_list.append(out)\n",
        "\n",
        "favorite_ratings_list = sum(favorite_ratings_list, [])"
      ],
      "metadata": {
        "id": "I4lNILKcbqcy"
      },
      "execution_count": 1316,
      "outputs": []
    },
    {
      "cell_type": "code",
      "source": [
        "favorite_ratings_list"
      ],
      "metadata": {
        "colab": {
          "base_uri": "https://localhost:8080/"
        },
        "id": "uGgv4PPWdxKZ",
        "outputId": "77b47c9c-972d-409f-c3d2-afeef3551bca"
      },
      "execution_count": 1317,
      "outputs": [
        {
          "output_type": "execute_result",
          "data": {
            "text/plain": [
              "[4, 5, 4, 4, 5]"
            ]
          },
          "metadata": {},
          "execution_count": 1317
        }
      ]
    },
    {
      "cell_type": "markdown",
      "source": [
        "좋아하는 영화에 랜덤으로 평점을 부여한다."
      ],
      "metadata": {
        "id": "aNzASUc2LF3k"
      }
    },
    {
      "cell_type": "code",
      "source": [
        "favorite_movies = pd.DataFrame({'user_id': ['6041']*5,\n",
        "                            'title': favorite_title_list,\n",
        "                            'ratings':favorite_ratings_list})\n",
        "\n",
        "if not movies_ratings.isin({'user_id':['6041']})['user_id'].any():  \n",
        "    movies_ratings_update = movies_ratings.append(favorite_movies) \n",
        "\n",
        "movies_ratings_update = movies_ratings_update.astype({'user_id':'int'})\n",
        "movies_ratings_update = movies_ratings_update.sort_values(by='user_id')\n",
        "movies_ratings_update = movies_ratings_update.reset_index()\n",
        "movies_ratings_update = movies_ratings_update[['user_id', 'title', 'ratings']]"
      ],
      "metadata": {
        "id": "cC1O7YLLXl3S"
      },
      "execution_count": 1318,
      "outputs": []
    },
    {
      "cell_type": "code",
      "source": [
        "movies_ratings_update "
      ],
      "metadata": {
        "colab": {
          "base_uri": "https://localhost:8080/",
          "height": 424
        },
        "id": "D9HUewa-5gcb",
        "outputId": "df767647-fbcb-436a-b6ea-f037b2541168"
      },
      "execution_count": 1319,
      "outputs": [
        {
          "output_type": "execute_result",
          "data": {
            "text/plain": [
              "        user_id                                              title  ratings\n",
              "0             1                                   toy story (1995)        5\n",
              "1             1                          secret garden, the (1993)        4\n",
              "2             1                            schindler's list (1993)        5\n",
              "3             1                           wizard of oz, the (1939)        4\n",
              "4             1                                     titanic (1997)        4\n",
              "...         ...                                                ...      ...\n",
              "836478     6041                                     titanic (1997)        4\n",
              "836479     6041  star wars: episode v - the empire strikes back...        4\n",
              "836480     6041                                pulp fiction (1994)        5\n",
              "836481     6041                       2001: a space odyssey (1968)        4\n",
              "836482     6041                              lion king, the (1994)        5\n",
              "\n",
              "[836483 rows x 3 columns]"
            ],
            "text/html": [
              "\n",
              "  <div id=\"df-57ebe700-614a-4bcf-8bb7-53b7f449db00\">\n",
              "    <div class=\"colab-df-container\">\n",
              "      <div>\n",
              "<style scoped>\n",
              "    .dataframe tbody tr th:only-of-type {\n",
              "        vertical-align: middle;\n",
              "    }\n",
              "\n",
              "    .dataframe tbody tr th {\n",
              "        vertical-align: top;\n",
              "    }\n",
              "\n",
              "    .dataframe thead th {\n",
              "        text-align: right;\n",
              "    }\n",
              "</style>\n",
              "<table border=\"1\" class=\"dataframe\">\n",
              "  <thead>\n",
              "    <tr style=\"text-align: right;\">\n",
              "      <th></th>\n",
              "      <th>user_id</th>\n",
              "      <th>title</th>\n",
              "      <th>ratings</th>\n",
              "    </tr>\n",
              "  </thead>\n",
              "  <tbody>\n",
              "    <tr>\n",
              "      <th>0</th>\n",
              "      <td>1</td>\n",
              "      <td>toy story (1995)</td>\n",
              "      <td>5</td>\n",
              "    </tr>\n",
              "    <tr>\n",
              "      <th>1</th>\n",
              "      <td>1</td>\n",
              "      <td>secret garden, the (1993)</td>\n",
              "      <td>4</td>\n",
              "    </tr>\n",
              "    <tr>\n",
              "      <th>2</th>\n",
              "      <td>1</td>\n",
              "      <td>schindler's list (1993)</td>\n",
              "      <td>5</td>\n",
              "    </tr>\n",
              "    <tr>\n",
              "      <th>3</th>\n",
              "      <td>1</td>\n",
              "      <td>wizard of oz, the (1939)</td>\n",
              "      <td>4</td>\n",
              "    </tr>\n",
              "    <tr>\n",
              "      <th>4</th>\n",
              "      <td>1</td>\n",
              "      <td>titanic (1997)</td>\n",
              "      <td>4</td>\n",
              "    </tr>\n",
              "    <tr>\n",
              "      <th>...</th>\n",
              "      <td>...</td>\n",
              "      <td>...</td>\n",
              "      <td>...</td>\n",
              "    </tr>\n",
              "    <tr>\n",
              "      <th>836478</th>\n",
              "      <td>6041</td>\n",
              "      <td>titanic (1997)</td>\n",
              "      <td>4</td>\n",
              "    </tr>\n",
              "    <tr>\n",
              "      <th>836479</th>\n",
              "      <td>6041</td>\n",
              "      <td>star wars: episode v - the empire strikes back...</td>\n",
              "      <td>4</td>\n",
              "    </tr>\n",
              "    <tr>\n",
              "      <th>836480</th>\n",
              "      <td>6041</td>\n",
              "      <td>pulp fiction (1994)</td>\n",
              "      <td>5</td>\n",
              "    </tr>\n",
              "    <tr>\n",
              "      <th>836481</th>\n",
              "      <td>6041</td>\n",
              "      <td>2001: a space odyssey (1968)</td>\n",
              "      <td>4</td>\n",
              "    </tr>\n",
              "    <tr>\n",
              "      <th>836482</th>\n",
              "      <td>6041</td>\n",
              "      <td>lion king, the (1994)</td>\n",
              "      <td>5</td>\n",
              "    </tr>\n",
              "  </tbody>\n",
              "</table>\n",
              "<p>836483 rows × 3 columns</p>\n",
              "</div>\n",
              "      <button class=\"colab-df-convert\" onclick=\"convertToInteractive('df-57ebe700-614a-4bcf-8bb7-53b7f449db00')\"\n",
              "              title=\"Convert this dataframe to an interactive table.\"\n",
              "              style=\"display:none;\">\n",
              "        \n",
              "  <svg xmlns=\"http://www.w3.org/2000/svg\" height=\"24px\"viewBox=\"0 0 24 24\"\n",
              "       width=\"24px\">\n",
              "    <path d=\"M0 0h24v24H0V0z\" fill=\"none\"/>\n",
              "    <path d=\"M18.56 5.44l.94 2.06.94-2.06 2.06-.94-2.06-.94-.94-2.06-.94 2.06-2.06.94zm-11 1L8.5 8.5l.94-2.06 2.06-.94-2.06-.94L8.5 2.5l-.94 2.06-2.06.94zm10 10l.94 2.06.94-2.06 2.06-.94-2.06-.94-.94-2.06-.94 2.06-2.06.94z\"/><path d=\"M17.41 7.96l-1.37-1.37c-.4-.4-.92-.59-1.43-.59-.52 0-1.04.2-1.43.59L10.3 9.45l-7.72 7.72c-.78.78-.78 2.05 0 2.83L4 21.41c.39.39.9.59 1.41.59.51 0 1.02-.2 1.41-.59l7.78-7.78 2.81-2.81c.8-.78.8-2.07 0-2.86zM5.41 20L4 18.59l7.72-7.72 1.47 1.35L5.41 20z\"/>\n",
              "  </svg>\n",
              "      </button>\n",
              "      \n",
              "  <style>\n",
              "    .colab-df-container {\n",
              "      display:flex;\n",
              "      flex-wrap:wrap;\n",
              "      gap: 12px;\n",
              "    }\n",
              "\n",
              "    .colab-df-convert {\n",
              "      background-color: #E8F0FE;\n",
              "      border: none;\n",
              "      border-radius: 50%;\n",
              "      cursor: pointer;\n",
              "      display: none;\n",
              "      fill: #1967D2;\n",
              "      height: 32px;\n",
              "      padding: 0 0 0 0;\n",
              "      width: 32px;\n",
              "    }\n",
              "\n",
              "    .colab-df-convert:hover {\n",
              "      background-color: #E2EBFA;\n",
              "      box-shadow: 0px 1px 2px rgba(60, 64, 67, 0.3), 0px 1px 3px 1px rgba(60, 64, 67, 0.15);\n",
              "      fill: #174EA6;\n",
              "    }\n",
              "\n",
              "    [theme=dark] .colab-df-convert {\n",
              "      background-color: #3B4455;\n",
              "      fill: #D2E3FC;\n",
              "    }\n",
              "\n",
              "    [theme=dark] .colab-df-convert:hover {\n",
              "      background-color: #434B5C;\n",
              "      box-shadow: 0px 1px 3px 1px rgba(0, 0, 0, 0.15);\n",
              "      filter: drop-shadow(0px 1px 2px rgba(0, 0, 0, 0.3));\n",
              "      fill: #FFFFFF;\n",
              "    }\n",
              "  </style>\n",
              "\n",
              "      <script>\n",
              "        const buttonEl =\n",
              "          document.querySelector('#df-57ebe700-614a-4bcf-8bb7-53b7f449db00 button.colab-df-convert');\n",
              "        buttonEl.style.display =\n",
              "          google.colab.kernel.accessAllowed ? 'block' : 'none';\n",
              "\n",
              "        async function convertToInteractive(key) {\n",
              "          const element = document.querySelector('#df-57ebe700-614a-4bcf-8bb7-53b7f449db00');\n",
              "          const dataTable =\n",
              "            await google.colab.kernel.invokeFunction('convertToInteractive',\n",
              "                                                     [key], {});\n",
              "          if (!dataTable) return;\n",
              "\n",
              "          const docLinkHtml = 'Like what you see? Visit the ' +\n",
              "            '<a target=\"_blank\" href=https://colab.research.google.com/notebooks/data_table.ipynb>data table notebook</a>'\n",
              "            + ' to learn more about interactive tables.';\n",
              "          element.innerHTML = '';\n",
              "          dataTable['output_type'] = 'display_data';\n",
              "          await google.colab.output.renderOutput(dataTable, element);\n",
              "          const docLink = document.createElement('div');\n",
              "          docLink.innerHTML = docLinkHtml;\n",
              "          element.appendChild(docLink);\n",
              "        }\n",
              "      </script>\n",
              "    </div>\n",
              "  </div>\n",
              "  "
            ]
          },
          "metadata": {},
          "execution_count": 1319
        }
      ]
    },
    {
      "cell_type": "markdown",
      "source": [
        "좋아하는 영화 5편을 데이터셋에 추가한다.\n",
        "<br/>새로운 사용자의 데이터가 추가됐으므로 user_id는 6041이다."
      ],
      "metadata": {
        "id": "wKcYMKinLXrs"
      }
    },
    {
      "cell_type": "markdown",
      "source": [
        "#모델 구성"
      ],
      "metadata": {
        "id": "IqHWBNlkwRjO"
      }
    },
    {
      "cell_type": "markdown",
      "source": [
        "##Sparse Matrix"
      ],
      "metadata": {
        "id": "6OC_dsk4QFPG"
      }
    },
    {
      "cell_type": "markdown",
      "source": [
        "Matrix Factorization(MF)"
      ],
      "metadata": {
        "id": "swvisoo2Newv"
      }
    },
    {
      "cell_type": "markdown",
      "source": [
        "협업 필터링(Collaborative Filtering)은 평가 행렬을 전제로 한다."
      ],
      "metadata": {
        "id": "KamLJAykNOlw"
      }
    },
    {
      "cell_type": "markdown",
      "source": [
        "m명의 사용자가 n편의 영화에 대해\n",
        "<br/>평가한 데이터를 포함한 (m,n) 사이즈의 평가 행렬(Rating Matrix)을 만든다.\n"
      ],
      "metadata": {
        "id": "INkCrs2-KtrH"
      }
    },
    {
      "cell_type": "markdown",
      "source": [
        "MF 모델은 Rating Matrix R을 두 개의 Feature Matrix P와 Q로 분해한다."
      ],
      "metadata": {
        "id": "1J3X1t0qOVDI"
      }
    },
    {
      "cell_type": "markdown",
      "source": [
        "벡터를 만드는 기준은 사용자 i의 벡터(U_i)와 아이템 j의 벡터(I_j)를 내적했을 때 <br/>사용자 i가 아이템 j에 대해 평가한 수치(M_ij)와 비슷한지 아닌지이다."
      ],
      "metadata": {
        "id": "MPqwbyjnO97n"
      }
    },
    {
      "cell_type": "markdown",
      "source": [
        "CSR(Compressed Sparse Row) Matrix"
      ],
      "metadata": {
        "id": "w2zky6mLar6N"
      }
    },
    {
      "cell_type": "markdown",
      "source": [
        "사용자는 6,040명이고 영화는 3,559편이다.\n",
        "<br/>이를 행렬로 표현하고 행렬의 각 원소에 정수 한 개 (1byte)가 들어간다면\n",
        "<br/>6040 * 3559 * 1byte ≈ 21.50MB가 필요하다."
      ],
      "metadata": {
        "id": "LC6Eoe0sasCs"
      }
    },
    {
      "cell_type": "markdown",
      "source": [
        "모델 학습의 input으로 사용할 데이터 타입을 CSR Matrix로 한다.\n",
        "<br/>CSR Matrix는 Sparse한 matrix에서 0이 아닌 유효한 데이터로 채워지는 \n",
        "<br/>데이터의 값과 좌표 정보만으로 구성하여 메모리 사용량을 최소화하면서도\n",
        "<br/>Sparse한 matrix와 동일한 행렬을 표현할 수 있도록 하는 데이터 구조이다.\n",
        "<br/>SCSR Matrix는 data, indices, indptr 로 행렬을 압축하여 표현한다."
      ],
      "metadata": {
        "id": "b7sx9Qywt1tr"
      }
    },
    {
      "cell_type": "code",
      "source": [
        "movies_ratings_preprocess = movies_ratings_update.copy()"
      ],
      "metadata": {
        "id": "1GnLPiVl8onD"
      },
      "execution_count": 1618,
      "outputs": []
    },
    {
      "cell_type": "code",
      "source": [
        "user_unique = movies_ratings_preprocess['user_id'].unique()\n",
        "title_unique = movies_ratings_preprocess['title'].unique()"
      ],
      "metadata": {
        "id": "yPJB2Uba56LP"
      },
      "execution_count": 1621,
      "outputs": []
    },
    {
      "cell_type": "code",
      "source": [
        "user_to_idx = {v:k for k,v in enumerate(user_unique)}\n",
        "title_to_idx = {v:k for k,v in enumerate(title_unique)}"
      ],
      "metadata": {
        "id": "tR7gEYWQ5_Kn"
      },
      "execution_count": 1622,
      "outputs": []
    },
    {
      "cell_type": "code",
      "source": [
        "temp_user_data = movies_ratings_preprocess['user_id'].map(user_to_idx.get).dropna()\n",
        "\n",
        "if len(temp_user_data) == len(movies_ratings_preprocess):   \n",
        "    movies_ratings_preprocess['user_id'] = temp_user_data   "
      ],
      "metadata": {
        "id": "XiS7wQbq5_Nn"
      },
      "execution_count": 1623,
      "outputs": []
    },
    {
      "cell_type": "code",
      "source": [
        "temp_title_data = movies_ratings_preprocess['title'].map(title_to_idx.get)\n",
        "\n",
        "if len(temp_title_data) == len(movies_ratings_preprocess):\n",
        "    movies_ratings_preprocess['title'] = temp_title_data "
      ],
      "metadata": {
        "id": "T8ET67sI8Xv3"
      },
      "execution_count": 1624,
      "outputs": []
    },
    {
      "cell_type": "code",
      "source": [
        "movies_ratings_preprocess"
      ],
      "metadata": {
        "colab": {
          "base_uri": "https://localhost:8080/",
          "height": 424
        },
        "id": "AwpFvxOAHjh0",
        "outputId": "35910827-246c-411d-d7e6-1d4f76451d16"
      },
      "execution_count": 1625,
      "outputs": [
        {
          "output_type": "execute_result",
          "data": {
            "text/plain": [
              "        user_id  title  ratings\n",
              "0             0      0        5\n",
              "1             0      1        4\n",
              "2             0      2        5\n",
              "3             0      3        4\n",
              "4             0      4        4\n",
              "...         ...    ...      ...\n",
              "836478     6039      4        4\n",
              "836479     6039     95        4\n",
              "836480     6039    284        5\n",
              "836481     6039    524        4\n",
              "836482     6039    332        5\n",
              "\n",
              "[836483 rows x 3 columns]"
            ],
            "text/html": [
              "\n",
              "  <div id=\"df-4972b4bc-d395-45d2-ac39-eeff651e1752\">\n",
              "    <div class=\"colab-df-container\">\n",
              "      <div>\n",
              "<style scoped>\n",
              "    .dataframe tbody tr th:only-of-type {\n",
              "        vertical-align: middle;\n",
              "    }\n",
              "\n",
              "    .dataframe tbody tr th {\n",
              "        vertical-align: top;\n",
              "    }\n",
              "\n",
              "    .dataframe thead th {\n",
              "        text-align: right;\n",
              "    }\n",
              "</style>\n",
              "<table border=\"1\" class=\"dataframe\">\n",
              "  <thead>\n",
              "    <tr style=\"text-align: right;\">\n",
              "      <th></th>\n",
              "      <th>user_id</th>\n",
              "      <th>title</th>\n",
              "      <th>ratings</th>\n",
              "    </tr>\n",
              "  </thead>\n",
              "  <tbody>\n",
              "    <tr>\n",
              "      <th>0</th>\n",
              "      <td>0</td>\n",
              "      <td>0</td>\n",
              "      <td>5</td>\n",
              "    </tr>\n",
              "    <tr>\n",
              "      <th>1</th>\n",
              "      <td>0</td>\n",
              "      <td>1</td>\n",
              "      <td>4</td>\n",
              "    </tr>\n",
              "    <tr>\n",
              "      <th>2</th>\n",
              "      <td>0</td>\n",
              "      <td>2</td>\n",
              "      <td>5</td>\n",
              "    </tr>\n",
              "    <tr>\n",
              "      <th>3</th>\n",
              "      <td>0</td>\n",
              "      <td>3</td>\n",
              "      <td>4</td>\n",
              "    </tr>\n",
              "    <tr>\n",
              "      <th>4</th>\n",
              "      <td>0</td>\n",
              "      <td>4</td>\n",
              "      <td>4</td>\n",
              "    </tr>\n",
              "    <tr>\n",
              "      <th>...</th>\n",
              "      <td>...</td>\n",
              "      <td>...</td>\n",
              "      <td>...</td>\n",
              "    </tr>\n",
              "    <tr>\n",
              "      <th>836478</th>\n",
              "      <td>6039</td>\n",
              "      <td>4</td>\n",
              "      <td>4</td>\n",
              "    </tr>\n",
              "    <tr>\n",
              "      <th>836479</th>\n",
              "      <td>6039</td>\n",
              "      <td>95</td>\n",
              "      <td>4</td>\n",
              "    </tr>\n",
              "    <tr>\n",
              "      <th>836480</th>\n",
              "      <td>6039</td>\n",
              "      <td>284</td>\n",
              "      <td>5</td>\n",
              "    </tr>\n",
              "    <tr>\n",
              "      <th>836481</th>\n",
              "      <td>6039</td>\n",
              "      <td>524</td>\n",
              "      <td>4</td>\n",
              "    </tr>\n",
              "    <tr>\n",
              "      <th>836482</th>\n",
              "      <td>6039</td>\n",
              "      <td>332</td>\n",
              "      <td>5</td>\n",
              "    </tr>\n",
              "  </tbody>\n",
              "</table>\n",
              "<p>836483 rows × 3 columns</p>\n",
              "</div>\n",
              "      <button class=\"colab-df-convert\" onclick=\"convertToInteractive('df-4972b4bc-d395-45d2-ac39-eeff651e1752')\"\n",
              "              title=\"Convert this dataframe to an interactive table.\"\n",
              "              style=\"display:none;\">\n",
              "        \n",
              "  <svg xmlns=\"http://www.w3.org/2000/svg\" height=\"24px\"viewBox=\"0 0 24 24\"\n",
              "       width=\"24px\">\n",
              "    <path d=\"M0 0h24v24H0V0z\" fill=\"none\"/>\n",
              "    <path d=\"M18.56 5.44l.94 2.06.94-2.06 2.06-.94-2.06-.94-.94-2.06-.94 2.06-2.06.94zm-11 1L8.5 8.5l.94-2.06 2.06-.94-2.06-.94L8.5 2.5l-.94 2.06-2.06.94zm10 10l.94 2.06.94-2.06 2.06-.94-2.06-.94-.94-2.06-.94 2.06-2.06.94z\"/><path d=\"M17.41 7.96l-1.37-1.37c-.4-.4-.92-.59-1.43-.59-.52 0-1.04.2-1.43.59L10.3 9.45l-7.72 7.72c-.78.78-.78 2.05 0 2.83L4 21.41c.39.39.9.59 1.41.59.51 0 1.02-.2 1.41-.59l7.78-7.78 2.81-2.81c.8-.78.8-2.07 0-2.86zM5.41 20L4 18.59l7.72-7.72 1.47 1.35L5.41 20z\"/>\n",
              "  </svg>\n",
              "      </button>\n",
              "      \n",
              "  <style>\n",
              "    .colab-df-container {\n",
              "      display:flex;\n",
              "      flex-wrap:wrap;\n",
              "      gap: 12px;\n",
              "    }\n",
              "\n",
              "    .colab-df-convert {\n",
              "      background-color: #E8F0FE;\n",
              "      border: none;\n",
              "      border-radius: 50%;\n",
              "      cursor: pointer;\n",
              "      display: none;\n",
              "      fill: #1967D2;\n",
              "      height: 32px;\n",
              "      padding: 0 0 0 0;\n",
              "      width: 32px;\n",
              "    }\n",
              "\n",
              "    .colab-df-convert:hover {\n",
              "      background-color: #E2EBFA;\n",
              "      box-shadow: 0px 1px 2px rgba(60, 64, 67, 0.3), 0px 1px 3px 1px rgba(60, 64, 67, 0.15);\n",
              "      fill: #174EA6;\n",
              "    }\n",
              "\n",
              "    [theme=dark] .colab-df-convert {\n",
              "      background-color: #3B4455;\n",
              "      fill: #D2E3FC;\n",
              "    }\n",
              "\n",
              "    [theme=dark] .colab-df-convert:hover {\n",
              "      background-color: #434B5C;\n",
              "      box-shadow: 0px 1px 3px 1px rgba(0, 0, 0, 0.15);\n",
              "      filter: drop-shadow(0px 1px 2px rgba(0, 0, 0, 0.3));\n",
              "      fill: #FFFFFF;\n",
              "    }\n",
              "  </style>\n",
              "\n",
              "      <script>\n",
              "        const buttonEl =\n",
              "          document.querySelector('#df-4972b4bc-d395-45d2-ac39-eeff651e1752 button.colab-df-convert');\n",
              "        buttonEl.style.display =\n",
              "          google.colab.kernel.accessAllowed ? 'block' : 'none';\n",
              "\n",
              "        async function convertToInteractive(key) {\n",
              "          const element = document.querySelector('#df-4972b4bc-d395-45d2-ac39-eeff651e1752');\n",
              "          const dataTable =\n",
              "            await google.colab.kernel.invokeFunction('convertToInteractive',\n",
              "                                                     [key], {});\n",
              "          if (!dataTable) return;\n",
              "\n",
              "          const docLinkHtml = 'Like what you see? Visit the ' +\n",
              "            '<a target=\"_blank\" href=https://colab.research.google.com/notebooks/data_table.ipynb>data table notebook</a>'\n",
              "            + ' to learn more about interactive tables.';\n",
              "          element.innerHTML = '';\n",
              "          dataTable['output_type'] = 'display_data';\n",
              "          await google.colab.output.renderOutput(dataTable, element);\n",
              "          const docLink = document.createElement('div');\n",
              "          docLink.innerHTML = docLinkHtml;\n",
              "          element.appendChild(docLink);\n",
              "        }\n",
              "      </script>\n",
              "    </div>\n",
              "  </div>\n",
              "  "
            ]
          },
          "metadata": {},
          "execution_count": 1625
        }
      ]
    },
    {
      "cell_type": "code",
      "source": [
        "csr_data = csr_matrix((movies_ratings_preprocess.ratings, (movies_ratings_preprocess.user_id, movies_ratings_preprocess.title)), shape= (num_user, num_movie))"
      ],
      "metadata": {
        "id": "88sb8KsYCwB6"
      },
      "execution_count": 1626,
      "outputs": []
    },
    {
      "cell_type": "code",
      "source": [
        "csr_data"
      ],
      "metadata": {
        "colab": {
          "base_uri": "https://localhost:8080/"
        },
        "id": "OHi56doq9ecj",
        "outputId": "62eea119-f3d1-4545-994d-1b260357c64d"
      },
      "execution_count": 1627,
      "outputs": [
        {
          "output_type": "execute_result",
          "data": {
            "text/plain": [
              "<6040x3628 sparse matrix of type '<class 'numpy.longlong'>'\n",
              "\twith 836483 stored elements in Compressed Sparse Row format>"
            ]
          },
          "metadata": {},
          "execution_count": 1627
        }
      ]
    },
    {
      "cell_type": "markdown",
      "source": [
        "##하이퍼파라미터"
      ],
      "metadata": {
        "id": "hv3AUIeqaGxE"
      }
    },
    {
      "cell_type": "markdown",
      "source": [
        "Implicit Alternating Least Squares 모델을 구성한다."
      ],
      "metadata": {
        "id": "cDL4_Ao6wn4g"
      }
    },
    {
      "cell_type": "code",
      "source": [
        "als_model = AlternatingLeastSquares(factors=100,\n",
        "                                    regularization=0.01,\n",
        "                                    use_gpu=False,\n",
        "                                    iterations=15,\n",
        "                                    dtype=np.float32)"
      ],
      "metadata": {
        "id": "fSKHPCL5wA2B"
      },
      "execution_count": 1628,
      "outputs": []
    },
    {
      "cell_type": "markdown",
      "source": [
        "factors : 유저와 아이템의 벡터의 차원\n",
        "<br/>regularization : 과적합을 방지하기 위한 정규화 값\n",
        "<br/>use_gpu : GPU 사용 여부\n",
        "<br/>iterations(epochs) :  학습 횟수"
      ],
      "metadata": {
        "id": "JJT1AixmxDa5"
      }
    },
    {
      "cell_type": "markdown",
      "source": [
        "#모델 학습"
      ],
      "metadata": {
        "id": "vyXkpmiJwRvW"
      }
    },
    {
      "cell_type": "code",
      "source": [
        "als_model.fit(csr_data)"
      ],
      "metadata": {
        "colab": {
          "base_uri": "https://localhost:8080/",
          "height": 49,
          "referenced_widgets": [
            "8aa82b4f447d4b0cacb94adda09ec833",
            "9f28b2f2e70f4af0bf734f056ffc2201",
            "6a561819378b4be3aed67ca205f6f49a",
            "b36a8879ca64445bb838ed3ff99b93d0",
            "a16afa7f070345709d6690c6cad42019",
            "8b5ae5f8fb7f49e09208c069f2e722fb",
            "83cde31ee3014b41be446e0afdf6d1b3",
            "5d7d1e48e96b4d009ed6c4c48b29714d",
            "e9822f88dcaf4c62aa7273c9bbaf7496",
            "04bf5f7fba33442bb589e0d56d01c05d",
            "c1df7e2cb82d4a1ca4960bb136af70ab"
          ]
        },
        "id": "BDG168b3wRzt",
        "outputId": "4b6fd788-9d22-4d8e-de16-f0be83a40c20"
      },
      "execution_count": 1629,
      "outputs": [
        {
          "output_type": "display_data",
          "data": {
            "text/plain": [
              "  0%|          | 0/15 [00:00<?, ?it/s]"
            ],
            "application/vnd.jupyter.widget-view+json": {
              "version_major": 2,
              "version_minor": 0,
              "model_id": "8aa82b4f447d4b0cacb94adda09ec833"
            }
          },
          "metadata": {}
        }
      ]
    },
    {
      "cell_type": "markdown",
      "source": [
        "#모델 평가"
      ],
      "metadata": {
        "id": "XBrqZh2fwR4l"
      }
    },
    {
      "cell_type": "code",
      "source": [
        "new_user = list(user_to_idx.items())[-1][0]\n",
        "new_user_vector = als_model.user_factors[-1]"
      ],
      "metadata": {
        "id": "CT3F46blSRnE"
      },
      "execution_count": 1630,
      "outputs": []
    },
    {
      "cell_type": "code",
      "source": [
        "favorite_title_list = ['star wars: episode v - the empire strikes back (1980)', 'pulp fiction (1994)',\n",
        "                       '2001: a space odyssey (1968)', 'titanic (1997)', 'lion king, the (1994)']\n",
        "\n",
        "favorite_vector_list = []\n",
        "\n",
        "for i in favorite_title_list:\n",
        "  favorite_movie_idx = title_to_idx[i]\n",
        "  favorite_movie_vector = als_model.item_factors[favorite_movie_idx]\n",
        "  favorite_vector_list.append(favorite_movie_vector)"
      ],
      "metadata": {
        "id": "o965lRQZOutg"
      },
      "execution_count": 1631,
      "outputs": []
    },
    {
      "cell_type": "code",
      "source": [
        "favorite_preference = pd.DataFrame(index=range(0, 1), columns = {'0'})\n",
        "\n",
        "for i in range(len(favorite_vector_list)):\n",
        "  favorite_preference_list = []\n",
        "  favorite_preference_list.append(favorite_title_list[i])\n",
        "  favorite_preference_list.append(np.dot(new_user_vector, favorite_vector_list[i]))\n",
        "  favorite_preference_df = pd.DataFrame(favorite_preference_list).transpose()\n",
        "  favorite_preference =  favorite_preference.append(favorite_preference_df)\n",
        "\n",
        "favorite_movie_preference = favorite_preference.iloc[1:, :-1]\n",
        "favorite_movie_preference.columns = ['title', 'preference']"
      ],
      "metadata": {
        "id": "Um8j-hbZOWS_"
      },
      "execution_count": 1632,
      "outputs": []
    },
    {
      "cell_type": "code",
      "source": [
        "favorite_movie_preference "
      ],
      "metadata": {
        "colab": {
          "base_uri": "https://localhost:8080/",
          "height": 206
        },
        "id": "XC8NfGhyUxAP",
        "outputId": "2c34dad7-789a-4476-c328-71d50f55f06c"
      },
      "execution_count": 1633,
      "outputs": [
        {
          "output_type": "execute_result",
          "data": {
            "text/plain": [
              "                                               title preference\n",
              "0  star wars: episode v - the empire strikes back...    0.47515\n",
              "0                                pulp fiction (1994)   0.396951\n",
              "0                       2001: a space odyssey (1968)   0.452353\n",
              "0                                     titanic (1997)   0.513186\n",
              "0                              lion king, the (1994)   0.370988"
            ],
            "text/html": [
              "\n",
              "  <div id=\"df-682b503a-2617-4060-a2f2-6932fe313430\">\n",
              "    <div class=\"colab-df-container\">\n",
              "      <div>\n",
              "<style scoped>\n",
              "    .dataframe tbody tr th:only-of-type {\n",
              "        vertical-align: middle;\n",
              "    }\n",
              "\n",
              "    .dataframe tbody tr th {\n",
              "        vertical-align: top;\n",
              "    }\n",
              "\n",
              "    .dataframe thead th {\n",
              "        text-align: right;\n",
              "    }\n",
              "</style>\n",
              "<table border=\"1\" class=\"dataframe\">\n",
              "  <thead>\n",
              "    <tr style=\"text-align: right;\">\n",
              "      <th></th>\n",
              "      <th>title</th>\n",
              "      <th>preference</th>\n",
              "    </tr>\n",
              "  </thead>\n",
              "  <tbody>\n",
              "    <tr>\n",
              "      <th>0</th>\n",
              "      <td>star wars: episode v - the empire strikes back...</td>\n",
              "      <td>0.47515</td>\n",
              "    </tr>\n",
              "    <tr>\n",
              "      <th>0</th>\n",
              "      <td>pulp fiction (1994)</td>\n",
              "      <td>0.396951</td>\n",
              "    </tr>\n",
              "    <tr>\n",
              "      <th>0</th>\n",
              "      <td>2001: a space odyssey (1968)</td>\n",
              "      <td>0.452353</td>\n",
              "    </tr>\n",
              "    <tr>\n",
              "      <th>0</th>\n",
              "      <td>titanic (1997)</td>\n",
              "      <td>0.513186</td>\n",
              "    </tr>\n",
              "    <tr>\n",
              "      <th>0</th>\n",
              "      <td>lion king, the (1994)</td>\n",
              "      <td>0.370988</td>\n",
              "    </tr>\n",
              "  </tbody>\n",
              "</table>\n",
              "</div>\n",
              "      <button class=\"colab-df-convert\" onclick=\"convertToInteractive('df-682b503a-2617-4060-a2f2-6932fe313430')\"\n",
              "              title=\"Convert this dataframe to an interactive table.\"\n",
              "              style=\"display:none;\">\n",
              "        \n",
              "  <svg xmlns=\"http://www.w3.org/2000/svg\" height=\"24px\"viewBox=\"0 0 24 24\"\n",
              "       width=\"24px\">\n",
              "    <path d=\"M0 0h24v24H0V0z\" fill=\"none\"/>\n",
              "    <path d=\"M18.56 5.44l.94 2.06.94-2.06 2.06-.94-2.06-.94-.94-2.06-.94 2.06-2.06.94zm-11 1L8.5 8.5l.94-2.06 2.06-.94-2.06-.94L8.5 2.5l-.94 2.06-2.06.94zm10 10l.94 2.06.94-2.06 2.06-.94-2.06-.94-.94-2.06-.94 2.06-2.06.94z\"/><path d=\"M17.41 7.96l-1.37-1.37c-.4-.4-.92-.59-1.43-.59-.52 0-1.04.2-1.43.59L10.3 9.45l-7.72 7.72c-.78.78-.78 2.05 0 2.83L4 21.41c.39.39.9.59 1.41.59.51 0 1.02-.2 1.41-.59l7.78-7.78 2.81-2.81c.8-.78.8-2.07 0-2.86zM5.41 20L4 18.59l7.72-7.72 1.47 1.35L5.41 20z\"/>\n",
              "  </svg>\n",
              "      </button>\n",
              "      \n",
              "  <style>\n",
              "    .colab-df-container {\n",
              "      display:flex;\n",
              "      flex-wrap:wrap;\n",
              "      gap: 12px;\n",
              "    }\n",
              "\n",
              "    .colab-df-convert {\n",
              "      background-color: #E8F0FE;\n",
              "      border: none;\n",
              "      border-radius: 50%;\n",
              "      cursor: pointer;\n",
              "      display: none;\n",
              "      fill: #1967D2;\n",
              "      height: 32px;\n",
              "      padding: 0 0 0 0;\n",
              "      width: 32px;\n",
              "    }\n",
              "\n",
              "    .colab-df-convert:hover {\n",
              "      background-color: #E2EBFA;\n",
              "      box-shadow: 0px 1px 2px rgba(60, 64, 67, 0.3), 0px 1px 3px 1px rgba(60, 64, 67, 0.15);\n",
              "      fill: #174EA6;\n",
              "    }\n",
              "\n",
              "    [theme=dark] .colab-df-convert {\n",
              "      background-color: #3B4455;\n",
              "      fill: #D2E3FC;\n",
              "    }\n",
              "\n",
              "    [theme=dark] .colab-df-convert:hover {\n",
              "      background-color: #434B5C;\n",
              "      box-shadow: 0px 1px 3px 1px rgba(0, 0, 0, 0.15);\n",
              "      filter: drop-shadow(0px 1px 2px rgba(0, 0, 0, 0.3));\n",
              "      fill: #FFFFFF;\n",
              "    }\n",
              "  </style>\n",
              "\n",
              "      <script>\n",
              "        const buttonEl =\n",
              "          document.querySelector('#df-682b503a-2617-4060-a2f2-6932fe313430 button.colab-df-convert');\n",
              "        buttonEl.style.display =\n",
              "          google.colab.kernel.accessAllowed ? 'block' : 'none';\n",
              "\n",
              "        async function convertToInteractive(key) {\n",
              "          const element = document.querySelector('#df-682b503a-2617-4060-a2f2-6932fe313430');\n",
              "          const dataTable =\n",
              "            await google.colab.kernel.invokeFunction('convertToInteractive',\n",
              "                                                     [key], {});\n",
              "          if (!dataTable) return;\n",
              "\n",
              "          const docLinkHtml = 'Like what you see? Visit the ' +\n",
              "            '<a target=\"_blank\" href=https://colab.research.google.com/notebooks/data_table.ipynb>data table notebook</a>'\n",
              "            + ' to learn more about interactive tables.';\n",
              "          element.innerHTML = '';\n",
              "          dataTable['output_type'] = 'display_data';\n",
              "          await google.colab.output.renderOutput(dataTable, element);\n",
              "          const docLink = document.createElement('div');\n",
              "          docLink.innerHTML = docLinkHtml;\n",
              "          element.appendChild(docLink);\n",
              "        }\n",
              "      </script>\n",
              "    </div>\n",
              "  </div>\n",
              "  "
            ]
          },
          "metadata": {},
          "execution_count": 1633
        }
      ]
    },
    {
      "cell_type": "markdown",
      "source": [
        "Alternating Least Squares 모델이 좋아하는 영화에 대한 선호도를 예측한다."
      ],
      "metadata": {
        "id": "RbZXf_i8Lq_8"
      }
    },
    {
      "cell_type": "markdown",
      "source": [
        "#추천시스템"
      ],
      "metadata": {
        "id": "Psx8UOtKyHEA"
      }
    },
    {
      "cell_type": "markdown",
      "source": [
        "##비슷한 영화 추천"
      ],
      "metadata": {
        "id": "a-XDNK7wzES5"
      }
    },
    {
      "cell_type": "code",
      "source": [
        "idx_to_title = {v:k for k,v in title_to_idx.items()}"
      ],
      "metadata": {
        "id": "YWgUjBLDBjhe"
      },
      "execution_count": 1635,
      "outputs": []
    },
    {
      "cell_type": "code",
      "source": [
        "def get_similar_title(title_name: str):\n",
        "    title_id = title_to_idx[title_name]\n",
        "    similar_title = als_model.similar_items(title_id)\n",
        "    similar_title = [idx_to_title[i[0]] for i in similar_title]\n",
        "    return similar_title"
      ],
      "metadata": {
        "id": "-bqVlmjdyRwH"
      },
      "execution_count": 1636,
      "outputs": []
    },
    {
      "cell_type": "code",
      "source": [
        "for i in favorite_title_list:\n",
        "  print(get_similar_title(i)) \n",
        "  print()"
      ],
      "metadata": {
        "colab": {
          "base_uri": "https://localhost:8080/"
        },
        "id": "peCq0xy7DZUm",
        "outputId": "f8c87f66-a1cd-4dc8-d951-a43c512b06f7"
      },
      "execution_count": 1639,
      "outputs": [
        {
          "output_type": "stream",
          "name": "stdout",
          "text": [
            "['star wars: episode v - the empire strikes back (1980)', 'secret garden, the (1993)']\n",
            "\n",
            "['pulp fiction (1994)', 'secret garden, the (1993)']\n",
            "\n",
            "['2001: a space odyssey (1968)', 'secret garden, the (1993)']\n",
            "\n",
            "['titanic (1997)', 'secret garden, the (1993)']\n",
            "\n",
            "['lion king, the (1994)', 'secret garden, the (1993)']\n",
            "\n"
          ]
        }
      ]
    },
    {
      "cell_type": "markdown",
      "source": [
        "AlternatingLeastSquares 클래스에 구현되어 있는\n",
        "<br/>similar_items 메서드를 통하여 \n",
        "<br/>좋아하는 영화와 비슷한 영화를 찾는다."
      ],
      "metadata": {
        "id": "Zf_zuDwbyU-I"
      }
    },
    {
      "cell_type": "markdown",
      "source": [
        "##새로운 영화 추천"
      ],
      "metadata": {
        "id": "bGjZxkSpzKiZ"
      }
    },
    {
      "cell_type": "code",
      "source": [
        "movies_recommended = als_model.recommend(new_user, csr_data, N=20, filter_already_liked_items=True)"
      ],
      "metadata": {
        "colab": {
          "base_uri": "https://localhost:8080/",
          "height": 303
        },
        "id": "BHpRkhFQr6MJ",
        "outputId": "da00cf24-674a-403b-eac7-2ab6bae305f4"
      },
      "execution_count": 1674,
      "outputs": [
        {
          "output_type": "error",
          "ename": "ValueError",
          "evalue": "ignored",
          "traceback": [
            "\u001b[0;31m---------------------------------------------------------------------------\u001b[0m",
            "\u001b[0;31mValueError\u001b[0m                                Traceback (most recent call last)",
            "\u001b[0;32m<ipython-input-1674-b9941e8686fa>\u001b[0m in \u001b[0;36m<module>\u001b[0;34m()\u001b[0m\n\u001b[0;32m----> 1\u001b[0;31m \u001b[0mmovies_recommended\u001b[0m \u001b[0;34m=\u001b[0m \u001b[0mals_model\u001b[0m\u001b[0;34m.\u001b[0m\u001b[0mrecommend\u001b[0m\u001b[0;34m(\u001b[0m\u001b[0mnew_user\u001b[0m\u001b[0;34m,\u001b[0m \u001b[0mcsr_data\u001b[0m\u001b[0;34m,\u001b[0m \u001b[0mN\u001b[0m\u001b[0;34m=\u001b[0m\u001b[0;36m20\u001b[0m\u001b[0;34m,\u001b[0m \u001b[0mfilter_already_liked_items\u001b[0m\u001b[0;34m=\u001b[0m\u001b[0;32mTrue\u001b[0m\u001b[0;34m)\u001b[0m\u001b[0;34m\u001b[0m\u001b[0;34m\u001b[0m\u001b[0m\n\u001b[0m",
            "\u001b[0;32m/usr/local/lib/python3.7/dist-packages/implicit/cpu/matrix_factorization_base.py\u001b[0m in \u001b[0;36mrecommend\u001b[0;34m(self, userid, user_items, N, filter_already_liked_items, filter_items, recalculate_user, items)\u001b[0m\n\u001b[1;32m     43\u001b[0m             \u001b[0muser_count\u001b[0m \u001b[0;34m=\u001b[0m \u001b[0;36m1\u001b[0m \u001b[0;32mif\u001b[0m \u001b[0mnp\u001b[0m\u001b[0;34m.\u001b[0m\u001b[0misscalar\u001b[0m\u001b[0;34m(\u001b[0m\u001b[0muserid\u001b[0m\u001b[0;34m)\u001b[0m \u001b[0;32melse\u001b[0m \u001b[0mlen\u001b[0m\u001b[0;34m(\u001b[0m\u001b[0muserid\u001b[0m\u001b[0;34m)\u001b[0m\u001b[0;34m\u001b[0m\u001b[0;34m\u001b[0m\u001b[0m\n\u001b[1;32m     44\u001b[0m             \u001b[0;32mif\u001b[0m \u001b[0muser_items\u001b[0m\u001b[0;34m.\u001b[0m\u001b[0mshape\u001b[0m\u001b[0;34m[\u001b[0m\u001b[0;36m0\u001b[0m\u001b[0;34m]\u001b[0m \u001b[0;34m!=\u001b[0m \u001b[0muser_count\u001b[0m\u001b[0;34m:\u001b[0m\u001b[0;34m\u001b[0m\u001b[0;34m\u001b[0m\u001b[0m\n\u001b[0;32m---> 45\u001b[0;31m                 \u001b[0;32mraise\u001b[0m \u001b[0mValueError\u001b[0m\u001b[0;34m(\u001b[0m\u001b[0;34m\"user_items must contain 1 row for every user in userids\"\u001b[0m\u001b[0;34m)\u001b[0m\u001b[0;34m\u001b[0m\u001b[0;34m\u001b[0m\u001b[0m\n\u001b[0m\u001b[1;32m     46\u001b[0m \u001b[0;34m\u001b[0m\u001b[0m\n\u001b[1;32m     47\u001b[0m         \u001b[0muser\u001b[0m \u001b[0;34m=\u001b[0m \u001b[0mself\u001b[0m\u001b[0;34m.\u001b[0m\u001b[0m_user_factor\u001b[0m\u001b[0;34m(\u001b[0m\u001b[0muserid\u001b[0m\u001b[0;34m,\u001b[0m \u001b[0muser_items\u001b[0m\u001b[0;34m,\u001b[0m \u001b[0mrecalculate_user\u001b[0m\u001b[0;34m)\u001b[0m\u001b[0;34m\u001b[0m\u001b[0;34m\u001b[0m\u001b[0m\n",
            "\u001b[0;31mValueError\u001b[0m: user_items must contain 1 row for every user in userids"
          ]
        }
      ]
    },
    {
      "cell_type": "code",
      "source": [
        "new_user = list(user_to_idx.items())[-3][0]"
      ],
      "metadata": {
        "id": "QHdtwY3Leb89"
      },
      "execution_count": 1682,
      "outputs": []
    },
    {
      "cell_type": "code",
      "source": [
        "movies_recommended = als_model.recommend(new_user, csr_data, N=20, filter_already_liked_items=False)"
      ],
      "metadata": {
        "id": "x2cA7wQwy_MR"
      },
      "execution_count": 1683,
      "outputs": []
    },
    {
      "cell_type": "code",
      "source": [
        "for i in range(20):\n",
        "  print(idx_to_title[movies_recommended[0][i]], movies_recommended[1][i])"
      ],
      "metadata": {
        "colab": {
          "base_uri": "https://localhost:8080/"
        },
        "id": "0d-cJbBlihC7",
        "outputId": "1c84b51c-b66f-4ddb-c21a-9715674a8ee9"
      },
      "execution_count": 1684,
      "outputs": [
        {
          "output_type": "stream",
          "name": "stdout",
          "text": [
            "titanic (1997) 0.5131856\n",
            "star wars: episode iv - a new hope (1977) 0.49004206\n",
            "star wars: episode v - the empire strikes back (1980) 0.47514987\n",
            "2001: a space odyssey (1968) 0.45235324\n",
            "pulp fiction (1994) 0.3969513\n",
            "star wars: episode vi - return of the jedi (1983) 0.3950908\n",
            "lion king, the (1994) 0.37098843\n",
            "silence of the lambs, the (1991) 0.34810182\n",
            "raiders of the lost ark (1981) 0.3470845\n",
            "star wars: episode i - the phantom menace (1999) 0.33751732\n",
            "fargo (1996) 0.32770056\n",
            "usual suspects, the (1995) 0.2910668\n",
            "e.t. the extra-terrestrial (1982) 0.28160626\n",
            "shawshank redemption, the (1994) 0.27598026\n",
            "aladdin (1992) 0.27298298\n",
            "dr. strangelove or: how i learned to stop worrying and love the bomb (1963) 0.27065587\n",
            "beauty and the beast (1991) 0.26257196\n",
            "goodfellas (1990) 0.25521877\n",
            "sixth sense, the (1999) 0.25275445\n",
            "l.a. confidential (1997) 0.22651125\n"
          ]
        }
      ]
    },
    {
      "cell_type": "code",
      "source": [
        "odyssey = title_to_idx['2001: a space odyssey (1968)']\n",
        "explain = als_model.explain(new_user, csr_data, itemid=odyssey)"
      ],
      "metadata": {
        "id": "4MsdKkfRsIJB"
      },
      "execution_count": 1685,
      "outputs": []
    },
    {
      "cell_type": "code",
      "source": [
        "[(idx_to_title[i[0]], i[1]) for i in explain[1]]"
      ],
      "metadata": {
        "colab": {
          "base_uri": "https://localhost:8080/"
        },
        "id": "oL54gJa4sSxq",
        "outputId": "370598f3-0b16-4cc9-ea34-0c3a28d8e1d9"
      },
      "execution_count": 1686,
      "outputs": [
        {
          "output_type": "execute_result",
          "data": {
            "text/plain": [
              "[('2001: a space odyssey (1968)', 0.34118212095260525),\n",
              " ('star wars: episode v - the empire strikes back (1980)',\n",
              "  0.06463420741891043),\n",
              " ('titanic (1997)', 0.029942815205523544),\n",
              " ('lion king, the (1994)', 0.01080593120133216),\n",
              " ('pulp fiction (1994)', -0.0030781638342106503)]"
            ]
          },
          "metadata": {},
          "execution_count": 1686
        }
      ]
    },
    {
      "cell_type": "markdown",
      "source": [
        "#결론"
      ],
      "metadata": {
        "id": "Z6Uq82C1waKF"
      }
    },
    {
      "cell_type": "markdown",
      "source": [
        "**수정 계획**"
      ],
      "metadata": {
        "id": "wTTzwOOiwaut"
      }
    },
    {
      "cell_type": "markdown",
      "source": [
        "결측치 처리"
      ],
      "metadata": {
        "id": "VFewAjNxKBCD"
      }
    },
    {
      "cell_type": "markdown",
      "source": [
        "condition = (ratings['user_id'] == 3598)\n",
        "<br/>ratings[condition]에서 데이터프레임 빈 행이 존재하는데도\n",
        "<br/>ratings.isnull().sum()하면 결측치가 없다고 한다.\n",
        "<br/>나중에 결측치를 주제로 공부하여 문제 원인을 분석하고 디버깅한다."
      ],
      "metadata": {
        "id": "jPb_I8oIJiDz"
      }
    },
    {
      "cell_type": "markdown",
      "source": [
        "새로운 영화 추천"
      ],
      "metadata": {
        "id": "qvQHPH6zKFp8"
      }
    },
    {
      "cell_type": "markdown",
      "source": [
        "als_model.recommend에서\n",
        "<br/>user_items must contain 1 row for every user in userids 에러를 해결한다.\n",
        "<br/>이에 대한 해결책이 Github Conversation [#365](https://github.com/benfred/implicit/issues/365) [#389](https://github.com/benfred/implicit/pull/389)에 제시된다.\n",
        "<br/>라이브러리 implicit에서 발생한 에러이다.\n",
        "<br/>그러나 아직 깃허브의 내용을 이해할 수 있는 수준이 아니므로\n",
        "<br/>나중에 문제 원인을 분석하고 디버깅이 가능한 수준이 되면\n",
        "<br/>filter_already_liked_items=True로 설정할 수 있다."
      ],
      "metadata": {
        "id": "weq6EWeas2vZ"
      }
    },
    {
      "cell_type": "markdown",
      "source": [
        "#참고문헌"
      ],
      "metadata": {
        "id": "AvFbGzcrwc7d"
      }
    },
    {
      "cell_type": "markdown",
      "source": [
        "**LMS**\n",
        "<br/>[ziminpark](https://github.com/ZiminPark)\n",
        "\n",
        "<br/>**공식 사이트**\n",
        "<br/>[MovieLens 1M Dataset](https://grouplens.org/datasets/movielens/)\n",
        "\n",
        "<br/>**깃허브**\n",
        "<br/>[영화 추천 시스템.ipynb](https://github.com/PEBpung/Aiffel/blob/master/Project/Exploration/E7.%20%EC%98%81%ED%99%94%20%EC%B6%94%EC%B2%9C%20%EC%8B%9C%EC%8A%A4%ED%85%9C.ipynb)\n",
        "<br/>[filter_already_liked_items Working for ALS? #365](https://github.com/benfred/implicit/issues/365)\n",
        "<br/>[Fix rank items in ItemItemRecommender #389](https://github.com/benfred/implicit/pull/389)\n",
        "\n",
        "<br/>**웹사이트**\n",
        "<br/>[python 여러 문자열 포함하는 모든 행 검색 - pandas](https://hyang2data.tistory.com/31)\n",
        "<br/>[파이썬 2차원 리스트를 1차원으로 (flatten)](https://wyatt37.tistory.com/16)\n",
        "<br/>[Python에서 목록을 Float로 변환](https://www.delftstack.com/ko/howto/python/convert-list-to-float-python/)\n",
        "<br/>[python 파이썬, pandas 판다스 데이터 값 변경하기, 바꾸기](https://sunning-10.tistory.com/m/entry/python-%ED%8C%8C%EC%9D%B4%EC%8D%AC-pandas-%ED%8C%90%EB%8B%A4%EC%8A%A4-%EB%8D%B0%EC%9D%B4%ED%84%B0-%EA%B0%92-%EB%B3%80%EA%B2%BD%ED%95%98%EA%B8%B0-%EB%B0%94%EA%BE%B8%EA%B8%B0)\n",
        "<br/>[Day18 넷플릭스 추천 알고리즘을 만들어 볼까?](https://softwareeng.tistory.com/entry/Day18-%EB%84%B7%ED%94%8C%EB%A6%AD%EC%8A%A4-%EC%B6%94%EC%B2%9C-%EC%95%8C%EA%B3%A0%EB%A6%AC%EC%A6%98%EC%9D%84-%EB%A7%8C%EB%93%A4%EC%96%B4-%EB%B3%BC%EA%B9%8C)"
      ],
      "metadata": {
        "id": "LJbEZXMiZoyt"
      }
    }
  ]
}