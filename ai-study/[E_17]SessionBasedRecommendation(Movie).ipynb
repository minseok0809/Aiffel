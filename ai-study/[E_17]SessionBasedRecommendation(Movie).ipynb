{
  "nbformat": 4,
  "nbformat_minor": 0,
  "metadata": {
    "colab": {
      "name": "[E_17]SessionBasedRecommendation(Movie).ipynb",
      "provenance": [],
      "collapsed_sections": [],
      "machine_shape": "hm",
      "toc_visible": true
    },
    "kernelspec": {
      "name": "python3",
      "display_name": "Python 3"
    },
    "language_info": {
      "name": "python"
    },
    "accelerator": "GPU",
    "gpuClass": "standard"
  },
  "cells": [
    {
      "cell_type": "markdown",
      "source": [
        "##다음에 볼 영화 예측하기"
      ],
      "metadata": {
        "id": "NGVapO0qovHR"
      }
    },
    {
      "cell_type": "markdown",
      "source": [
        ""
      ],
      "metadata": {
        "id": "4zsSwWGwo0sf"
      }
    },
    {
      "cell_type": "markdown",
      "source": [
        "개발 환경\n",
        "<br/>데이터 정보"
      ],
      "metadata": {
        "id": "CI8EH19po0u-"
      }
    },
    {
      "cell_type": "markdown",
      "source": [
        "데이터 전처리\n",
        "<br/>Session ID\n",
        "<br/>Session Length\n",
        "<br/>Session Time\n",
        "<br/>데이터 정제\n",
        "<br/>데이터 분리"
      ],
      "metadata": {
        "id": "upxPIqpHC903"
      }
    },
    {
      "cell_type": "markdown",
      "source": [
        "데이터 파이프라인\n",
        "<br/>Session Dataset\n",
        "<br/>Session-Parallel Mini-Batch"
      ],
      "metadata": {
        "id": "PXn81LymDEOF"
      }
    },
    {
      "cell_type": "markdown",
      "source": [
        "모델 구성"
      ],
      "metadata": {
        "id": "2PbPmEIBsRWx"
      }
    },
    {
      "cell_type": "markdown",
      "source": [
        "모델 학습\n",
        "<br/>Hyper Parameter Tuning\n",
        "<br/>First Model\n",
        "<br/>Second Model\n",
        "<br/>Third Model\n",
        "<br/>Fourth Model"
      ],
      "metadata": {
        "id": "kWMVBm6BsLOB"
      }
    },
    {
      "cell_type": "markdown",
      "source": [
        "모델 평가\n",
        "<br/>결론\n",
        "<br/>참고문헌"
      ],
      "metadata": {
        "id": "745jVjJepPI3"
      }
    },
    {
      "cell_type": "markdown",
      "source": [
        ""
      ],
      "metadata": {
        "id": "gYG63PoRpWBG"
      }
    },
    {
      "cell_type": "markdown",
      "source": [
        "# 개발 환경"
      ],
      "metadata": {
        "id": "Y1XvHJdKpaqm"
      }
    },
    {
      "cell_type": "code",
      "source": [
        "import os\n",
        "import pickle\n",
        "import copy\n",
        "import datetime as dt\n",
        "from pathlib import Path\n",
        "import warnings\n",
        "warnings.filterwarnings('ignore')"
      ],
      "metadata": {
        "id": "AMdGB7_wrCI-"
      },
      "execution_count": null,
      "outputs": []
    },
    {
      "cell_type": "code",
      "source": [
        "import numpy as np\n",
        "import pandas as pd\n",
        "import matplotlib.pyplot as plt"
      ],
      "metadata": {
        "id": "izoQfASurH9G"
      },
      "execution_count": null,
      "outputs": []
    },
    {
      "cell_type": "code",
      "source": [
        "import tensorflow as tf\n",
        "from tensorflow.keras.layers import Input, Dense, Dropout, GRU\n",
        "from tensorflow.keras.losses import categorical_crossentropy\n",
        "from tensorflow.keras.models import Model\n",
        "from tensorflow.keras.optimizers import Adam\n",
        "from tensorflow.keras.utils import to_categorical\n",
        "from tqdm import tqdm"
      ],
      "metadata": {
        "id": "aze66R8j8isE"
      },
      "execution_count": null,
      "outputs": []
    },
    {
      "cell_type": "code",
      "source": [
        "from google.colab import drive\n",
        "drive.mount('/content/drive')"
      ],
      "metadata": {
        "id": "7PD5OeQqpUZm"
      },
      "execution_count": null,
      "outputs": []
    },
    {
      "cell_type": "code",
      "source": [
        "pip freeze > '/content/drive/MyDrive/lms/library_version.txt'"
      ],
      "metadata": {
        "id": "vRhiNcOCpdyG"
      },
      "execution_count": null,
      "outputs": []
    },
    {
      "cell_type": "code",
      "source": [
        "library_name = ['pandas=', 'numpy=', 'pickle', 'pathlib=', 'tensorflow=', 'keras=', 'tqdm=']\n",
        "library_version = []\n",
        "f = open('/content/drive/MyDrive/lms/library_version.txt', 'r')\n",
        "line = f.readline()\n",
        "while True:\n",
        "    line = f.readline()\n",
        "    if not line:\n",
        "      break\n",
        "    for i in library_name:\n",
        "      if i in line:\n",
        "        library_version.append(line)\n",
        "        library_version.append('    ')\n",
        "\n",
        "f.close()\n",
        "\n",
        "import sys\n",
        "print(sys.version)\n",
        "print()\n",
        "\n",
        "for i in range(0, len(library_version) - 1, 6):\n",
        "  print(str(library_version[i : i+6]).replace(\"[\",\"\").replace(\"]\",\"\").replace(\"'\",\"\").replace(\"\\\\n\",\"\").replace(\",\",\"\"), end='') \n",
        "  if i % 6 == 0:\n",
        "    print()\n",
        "\n",
        "for i in range(len(library_version) - 1):\n",
        "  if (i-1) % 6 == 0 and i == len(library_version) - 6:\n",
        "    print(str(library_version[-1]).replace(\"[\",\"\").replace(\"]\",\"\").replace(\"'\",\"\").replace(\"\\\\n\",\"\").replace(\",\",\"\"), end='')"
      ],
      "metadata": {
        "id": "Np6TZ8Rspd1G",
        "colab": {
          "base_uri": "https://localhost:8080/"
        },
        "outputId": "a6698cb2-7795-4687-9ea5-77543246d23a"
      },
      "execution_count": null,
      "outputs": [
        {
          "output_type": "stream",
          "name": "stdout",
          "text": [
            "3.7.13 (default, Apr 24 2022, 01:04:09) \n",
            "[GCC 7.5.0]\n",
            "\n",
            "cloudpickle==1.3.0      keras==2.8.0      numpy==1.21.6     \n",
            "pandas==1.3.5      pathlib==1.0.1      pickleshare==0.7.5     \n",
            "sklearn-pandas==1.8.0      tensorflow==2.8.2+zzzcolab20220527125636      tqdm==4.64.0     \n"
          ]
        }
      ]
    },
    {
      "cell_type": "code",
      "source": [
        "gpu_info = !nvidia-smi\n",
        "gpu_info = '\\n'.join(gpu_info)\n",
        "if gpu_info.find('failed') >= 0:\n",
        "  print('Not connected to a GPU')\n",
        "else:\n",
        "  print(gpu_info)"
      ],
      "metadata": {
        "id": "RPjlAbw_ouge"
      },
      "execution_count": null,
      "outputs": []
    },
    {
      "cell_type": "code",
      "execution_count": null,
      "metadata": {
        "id": "WlLkMKa6odAF"
      },
      "outputs": [],
      "source": [
        "from psutil import virtual_memory\n",
        "ram_gb = virtual_memory().total / 1e9\n",
        "print('Your runtime has {:.1f} gigabytes of available RAM\\n'.format(ram_gb))\n",
        "\n",
        "if ram_gb < 20:\n",
        "  print('Not using a high-RAM runtime')\n",
        "else:\n",
        "  print('You are using a high-RAM runtime!')"
      ]
    },
    {
      "cell_type": "markdown",
      "source": [
        "Google Colab에서 할당된 GPU를 확인한다.\n",
        "<br/>고용량 메모리 VM에 액세스한다."
      ],
      "metadata": {
        "id": "gmFLBydqo0xW"
      }
    },
    {
      "cell_type": "markdown",
      "source": [
        "#데이터 정보"
      ],
      "metadata": {
        "id": "Gj4tNpBkpsol"
      }
    },
    {
      "cell_type": "markdown",
      "source": [
        "[MovieLens 1M Dataset](https://grouplens.org/datasets/movielens/)"
      ],
      "metadata": {
        "id": "1oIgKlb3psrZ"
      }
    },
    {
      "cell_type": "markdown",
      "source": [
        "GroupLens Research가 [MovieLens](https://movielens.org)에서  영화 3,952편에 대한 6,040명의 사용자의 평점 1,000,209개를 수집한 데이터셋이다.\n",
        "<br/>논문 [The MovieLens Datasets: History and Contex](https://grouplens.org/blog/movielens-datasets-context-and-history/)에서는 MovieLens 데이터셋의 역사에 대해서 이야기한다."
      ],
      "metadata": {
        "id": "63z4AlRppst9"
      }
    },
    {
      "cell_type": "code",
      "source": [
        "readme_path = '/content/drive/MyDrive/lms/recommender_system/ml-1m/README'\n",
        "f = open(readme_path, 'r')\n",
        "line_num = 0\n",
        "while True:\n",
        "    line = f.readline()\n",
        "    line_num += 1\n",
        "    if 76 <= line_num <= 77 or 84 <= line_num <= 87:\n",
        "      print(line)\n",
        "    elif not line: break\n",
        "\n",
        "f.close()"
      ],
      "metadata": {
        "colab": {
          "base_uri": "https://localhost:8080/"
        },
        "id": "9HAuizfRLtc1",
        "outputId": "7a2f5071-0b76-4c60-dfbf-0bf57bd834bd"
      },
      "execution_count": null,
      "outputs": [
        {
          "output_type": "stream",
          "name": "stdout",
          "text": [
            "RATINGS FILE DESCRIPTION\n",
            "\n",
            "================================================================================\n",
            "\n",
            "- UserIDs range between 1 and 6040 \n",
            "\n",
            "- MovieIDs range between 1 and 3952\n",
            "\n",
            "- Ratings are made on a 5-star scale (whole-star ratings only)\n",
            "\n",
            "- Timestamp is represented in seconds since the epoch as returned by time(2)\n",
            "\n"
          ]
        }
      ]
    },
    {
      "cell_type": "markdown",
      "source": [
        "Session-Based Recommendation 데이터"
      ],
      "metadata": {
        "id": "q4YO9at4uMjx"
      }
    },
    {
      "cell_type": "markdown",
      "source": [
        "사용자에 대한 정보(성별, 나이, 장소, 마지막 접속 날짜, 이전 구매 내역)를 알 수 없다.\n",
        "<br/>아이템에 대한 정보(사진, 설명, 가격)를 알 수 없다."
      ],
      "metadata": {
        "id": "uDWMlxWVjX3z"
      }
    },
    {
      "cell_type": "markdown",
      "source": [
        "Sequential Recommendation 데이터"
      ],
      "metadata": {
        "id": "1j_tH19KuSJJ"
      }
    },
    {
      "cell_type": "markdown",
      "source": [
        "사용자에 대한 정보를 알 수 있다."
      ],
      "metadata": {
        "id": "hP5wjmbjuQEK"
      }
    },
    {
      "cell_type": "code",
      "source": [
        "rating_file_path = '/content/drive/MyDrive/lms/recommender_system/ml-1m/ratings.dat'"
      ],
      "metadata": {
        "id": "SLSvwK6Apzmm"
      },
      "execution_count": null,
      "outputs": []
    },
    {
      "cell_type": "code",
      "source": [
        "def load_data(data_path: Path, nrows=None):\n",
        "    data = pd.read_csv(data_path, sep='::', header=None, usecols=[0, 1, 2, 3],\n",
        "                       dtype={0: np.int32, 1: np.int32, 2: np.int32}, nrows=nrows)\n",
        "    data.columns = ['UserID', 'ItemID', 'Rating', 'Time']\n",
        "    return data"
      ],
      "metadata": {
        "id": "vc5tzRWcreLf"
      },
      "execution_count": null,
      "outputs": []
    },
    {
      "cell_type": "code",
      "source": [
        "ratings = load_data(rating_file_path, None)\n",
        "ratings['Time'] = ratings['Time'].map(lambda x: pd.Timestamp(x, unit='s'))  \n",
        "ratings.sort_values(by=['UserID', 'Time'], inplace=True) \n",
        "ratings = ratings.reset_index()\n",
        "ratings = ratings[['UserID', 'ItemID', 'Rating', 'Time']]"
      ],
      "metadata": {
        "id": "B1nxPCuAreVl"
      },
      "execution_count": null,
      "outputs": []
    },
    {
      "cell_type": "code",
      "source": [
        "ratings"
      ],
      "metadata": {
        "colab": {
          "base_uri": "https://localhost:8080/",
          "height": 424
        },
        "id": "PM8Fs_pSqzYZ",
        "outputId": "0e7e2e11-0b70-4911-931b-43201c977fe3"
      },
      "execution_count": null,
      "outputs": [
        {
          "output_type": "execute_result",
          "data": {
            "text/plain": [
              "         UserID  ItemID  Rating                Time\n",
              "0             1    3186       4 2000-12-31 22:00:19\n",
              "1             1    1270       5 2000-12-31 22:00:55\n",
              "2             1    1721       4 2000-12-31 22:00:55\n",
              "3             1    1022       5 2000-12-31 22:00:55\n",
              "4             1    2340       3 2000-12-31 22:01:43\n",
              "...         ...     ...     ...                 ...\n",
              "1000204    6040    2917       4 2001-08-10 14:40:29\n",
              "1000205    6040    1921       4 2001-08-10 14:41:04\n",
              "1000206    6040    1784       3 2001-08-10 14:41:04\n",
              "1000207    6040     161       3 2001-08-10 14:41:26\n",
              "1000208    6040    1221       4 2001-08-20 13:44:15\n",
              "\n",
              "[1000209 rows x 4 columns]"
            ],
            "text/html": [
              "\n",
              "  <div id=\"df-adb06b08-210c-416a-91c8-203aabbcbcc2\">\n",
              "    <div class=\"colab-df-container\">\n",
              "      <div>\n",
              "<style scoped>\n",
              "    .dataframe tbody tr th:only-of-type {\n",
              "        vertical-align: middle;\n",
              "    }\n",
              "\n",
              "    .dataframe tbody tr th {\n",
              "        vertical-align: top;\n",
              "    }\n",
              "\n",
              "    .dataframe thead th {\n",
              "        text-align: right;\n",
              "    }\n",
              "</style>\n",
              "<table border=\"1\" class=\"dataframe\">\n",
              "  <thead>\n",
              "    <tr style=\"text-align: right;\">\n",
              "      <th></th>\n",
              "      <th>UserID</th>\n",
              "      <th>ItemID</th>\n",
              "      <th>Rating</th>\n",
              "      <th>Time</th>\n",
              "    </tr>\n",
              "  </thead>\n",
              "  <tbody>\n",
              "    <tr>\n",
              "      <th>0</th>\n",
              "      <td>1</td>\n",
              "      <td>3186</td>\n",
              "      <td>4</td>\n",
              "      <td>2000-12-31 22:00:19</td>\n",
              "    </tr>\n",
              "    <tr>\n",
              "      <th>1</th>\n",
              "      <td>1</td>\n",
              "      <td>1270</td>\n",
              "      <td>5</td>\n",
              "      <td>2000-12-31 22:00:55</td>\n",
              "    </tr>\n",
              "    <tr>\n",
              "      <th>2</th>\n",
              "      <td>1</td>\n",
              "      <td>1721</td>\n",
              "      <td>4</td>\n",
              "      <td>2000-12-31 22:00:55</td>\n",
              "    </tr>\n",
              "    <tr>\n",
              "      <th>3</th>\n",
              "      <td>1</td>\n",
              "      <td>1022</td>\n",
              "      <td>5</td>\n",
              "      <td>2000-12-31 22:00:55</td>\n",
              "    </tr>\n",
              "    <tr>\n",
              "      <th>4</th>\n",
              "      <td>1</td>\n",
              "      <td>2340</td>\n",
              "      <td>3</td>\n",
              "      <td>2000-12-31 22:01:43</td>\n",
              "    </tr>\n",
              "    <tr>\n",
              "      <th>...</th>\n",
              "      <td>...</td>\n",
              "      <td>...</td>\n",
              "      <td>...</td>\n",
              "      <td>...</td>\n",
              "    </tr>\n",
              "    <tr>\n",
              "      <th>1000204</th>\n",
              "      <td>6040</td>\n",
              "      <td>2917</td>\n",
              "      <td>4</td>\n",
              "      <td>2001-08-10 14:40:29</td>\n",
              "    </tr>\n",
              "    <tr>\n",
              "      <th>1000205</th>\n",
              "      <td>6040</td>\n",
              "      <td>1921</td>\n",
              "      <td>4</td>\n",
              "      <td>2001-08-10 14:41:04</td>\n",
              "    </tr>\n",
              "    <tr>\n",
              "      <th>1000206</th>\n",
              "      <td>6040</td>\n",
              "      <td>1784</td>\n",
              "      <td>3</td>\n",
              "      <td>2001-08-10 14:41:04</td>\n",
              "    </tr>\n",
              "    <tr>\n",
              "      <th>1000207</th>\n",
              "      <td>6040</td>\n",
              "      <td>161</td>\n",
              "      <td>3</td>\n",
              "      <td>2001-08-10 14:41:26</td>\n",
              "    </tr>\n",
              "    <tr>\n",
              "      <th>1000208</th>\n",
              "      <td>6040</td>\n",
              "      <td>1221</td>\n",
              "      <td>4</td>\n",
              "      <td>2001-08-20 13:44:15</td>\n",
              "    </tr>\n",
              "  </tbody>\n",
              "</table>\n",
              "<p>1000209 rows × 4 columns</p>\n",
              "</div>\n",
              "      <button class=\"colab-df-convert\" onclick=\"convertToInteractive('df-adb06b08-210c-416a-91c8-203aabbcbcc2')\"\n",
              "              title=\"Convert this dataframe to an interactive table.\"\n",
              "              style=\"display:none;\">\n",
              "        \n",
              "  <svg xmlns=\"http://www.w3.org/2000/svg\" height=\"24px\"viewBox=\"0 0 24 24\"\n",
              "       width=\"24px\">\n",
              "    <path d=\"M0 0h24v24H0V0z\" fill=\"none\"/>\n",
              "    <path d=\"M18.56 5.44l.94 2.06.94-2.06 2.06-.94-2.06-.94-.94-2.06-.94 2.06-2.06.94zm-11 1L8.5 8.5l.94-2.06 2.06-.94-2.06-.94L8.5 2.5l-.94 2.06-2.06.94zm10 10l.94 2.06.94-2.06 2.06-.94-2.06-.94-.94-2.06-.94 2.06-2.06.94z\"/><path d=\"M17.41 7.96l-1.37-1.37c-.4-.4-.92-.59-1.43-.59-.52 0-1.04.2-1.43.59L10.3 9.45l-7.72 7.72c-.78.78-.78 2.05 0 2.83L4 21.41c.39.39.9.59 1.41.59.51 0 1.02-.2 1.41-.59l7.78-7.78 2.81-2.81c.8-.78.8-2.07 0-2.86zM5.41 20L4 18.59l7.72-7.72 1.47 1.35L5.41 20z\"/>\n",
              "  </svg>\n",
              "      </button>\n",
              "      \n",
              "  <style>\n",
              "    .colab-df-container {\n",
              "      display:flex;\n",
              "      flex-wrap:wrap;\n",
              "      gap: 12px;\n",
              "    }\n",
              "\n",
              "    .colab-df-convert {\n",
              "      background-color: #E8F0FE;\n",
              "      border: none;\n",
              "      border-radius: 50%;\n",
              "      cursor: pointer;\n",
              "      display: none;\n",
              "      fill: #1967D2;\n",
              "      height: 32px;\n",
              "      padding: 0 0 0 0;\n",
              "      width: 32px;\n",
              "    }\n",
              "\n",
              "    .colab-df-convert:hover {\n",
              "      background-color: #E2EBFA;\n",
              "      box-shadow: 0px 1px 2px rgba(60, 64, 67, 0.3), 0px 1px 3px 1px rgba(60, 64, 67, 0.15);\n",
              "      fill: #174EA6;\n",
              "    }\n",
              "\n",
              "    [theme=dark] .colab-df-convert {\n",
              "      background-color: #3B4455;\n",
              "      fill: #D2E3FC;\n",
              "    }\n",
              "\n",
              "    [theme=dark] .colab-df-convert:hover {\n",
              "      background-color: #434B5C;\n",
              "      box-shadow: 0px 1px 3px 1px rgba(0, 0, 0, 0.15);\n",
              "      filter: drop-shadow(0px 1px 2px rgba(0, 0, 0, 0.3));\n",
              "      fill: #FFFFFF;\n",
              "    }\n",
              "  </style>\n",
              "\n",
              "      <script>\n",
              "        const buttonEl =\n",
              "          document.querySelector('#df-adb06b08-210c-416a-91c8-203aabbcbcc2 button.colab-df-convert');\n",
              "        buttonEl.style.display =\n",
              "          google.colab.kernel.accessAllowed ? 'block' : 'none';\n",
              "\n",
              "        async function convertToInteractive(key) {\n",
              "          const element = document.querySelector('#df-adb06b08-210c-416a-91c8-203aabbcbcc2');\n",
              "          const dataTable =\n",
              "            await google.colab.kernel.invokeFunction('convertToInteractive',\n",
              "                                                     [key], {});\n",
              "          if (!dataTable) return;\n",
              "\n",
              "          const docLinkHtml = 'Like what you see? Visit the ' +\n",
              "            '<a target=\"_blank\" href=https://colab.research.google.com/notebooks/data_table.ipynb>data table notebook</a>'\n",
              "            + ' to learn more about interactive tables.';\n",
              "          element.innerHTML = '';\n",
              "          dataTable['output_type'] = 'display_data';\n",
              "          await google.colab.output.renderOutput(dataTable, element);\n",
              "          const docLink = document.createElement('div');\n",
              "          docLink.innerHTML = docLinkHtml;\n",
              "          element.appendChild(docLink);\n",
              "        }\n",
              "      </script>\n",
              "    </div>\n",
              "  </div>\n",
              "  "
            ]
          },
          "metadata": {},
          "execution_count": 10
        }
      ]
    },
    {
      "cell_type": "markdown",
      "source": [
        "데이터를 UserId와 Time 순서로 정렬한다."
      ],
      "metadata": {
        "id": "kqg_JB5qpXfY"
      }
    },
    {
      "cell_type": "markdown",
      "source": [
        "Timestamp(year-month-day hour:minute:second) 형식으로 Time을 변형한다.\n",
        "<br/>시간 단위는 UTC time을 기준으로 한다."
      ],
      "metadata": {
        "id": "cDxY06TMlrvM"
      }
    },
    {
      "cell_type": "markdown",
      "source": [
        "#데이터 전처리"
      ],
      "metadata": {
        "id": "CD5ZwJomOdEk"
      }
    },
    {
      "cell_type": "markdown",
      "source": [
        "##Session ID"
      ],
      "metadata": {
        "id": "17nmfXRVOVxc"
      }
    },
    {
      "cell_type": "code",
      "source": [
        "session_index = 1\n",
        "session_index_list = []\n",
        "\n",
        "for i in range(len(ratings) - 1):\n",
        "  if (ratings['Time'][i + 1] - ratings['Time'][i]) > pd.Timedelta(\"0 days 00:01:00\"):\n",
        "    session_index += 1\n",
        "  session_index_list.append(session_index)\n",
        "session_index_list.append(session_index)"
      ],
      "metadata": {
        "id": "o3Bq9KJcsEfx"
      },
      "execution_count": null,
      "outputs": []
    },
    {
      "cell_type": "code",
      "source": [
        "ratings['SessionID'] = session_index_list\n",
        "ratings = ratings[['SessionID', 'UserID', 'ItemID', 'Rating', 'Time']]"
      ],
      "metadata": {
        "id": "mJON9fYsuF3r"
      },
      "execution_count": null,
      "outputs": []
    },
    {
      "cell_type": "code",
      "source": [
        "ratings"
      ],
      "metadata": {
        "colab": {
          "base_uri": "https://localhost:8080/",
          "height": 424
        },
        "id": "qAqmlHEGwzOU",
        "outputId": "e49bbf3b-fbb5-4c69-dfc1-852a26a9c89e"
      },
      "execution_count": null,
      "outputs": [
        {
          "output_type": "execute_result",
          "data": {
            "text/plain": [
              "         SessionID  UserID  ItemID  Rating                Time\n",
              "0                1       1    3186       4 2000-12-31 22:00:19\n",
              "1                1       1    1270       5 2000-12-31 22:00:55\n",
              "2                1       1    1721       4 2000-12-31 22:00:55\n",
              "3                1       1    1022       5 2000-12-31 22:00:55\n",
              "4                2       1    2340       3 2000-12-31 22:01:43\n",
              "...            ...     ...     ...     ...                 ...\n",
              "1000204     112224    6040    2917       4 2001-08-10 14:40:29\n",
              "1000205     112224    6040    1921       4 2001-08-10 14:41:04\n",
              "1000206     112224    6040    1784       3 2001-08-10 14:41:04\n",
              "1000207     112225    6040     161       3 2001-08-10 14:41:26\n",
              "1000208     112225    6040    1221       4 2001-08-20 13:44:15\n",
              "\n",
              "[1000209 rows x 5 columns]"
            ],
            "text/html": [
              "\n",
              "  <div id=\"df-e4a7601e-1b18-46c5-9694-c6a4bafadfa6\">\n",
              "    <div class=\"colab-df-container\">\n",
              "      <div>\n",
              "<style scoped>\n",
              "    .dataframe tbody tr th:only-of-type {\n",
              "        vertical-align: middle;\n",
              "    }\n",
              "\n",
              "    .dataframe tbody tr th {\n",
              "        vertical-align: top;\n",
              "    }\n",
              "\n",
              "    .dataframe thead th {\n",
              "        text-align: right;\n",
              "    }\n",
              "</style>\n",
              "<table border=\"1\" class=\"dataframe\">\n",
              "  <thead>\n",
              "    <tr style=\"text-align: right;\">\n",
              "      <th></th>\n",
              "      <th>SessionID</th>\n",
              "      <th>UserID</th>\n",
              "      <th>ItemID</th>\n",
              "      <th>Rating</th>\n",
              "      <th>Time</th>\n",
              "    </tr>\n",
              "  </thead>\n",
              "  <tbody>\n",
              "    <tr>\n",
              "      <th>0</th>\n",
              "      <td>1</td>\n",
              "      <td>1</td>\n",
              "      <td>3186</td>\n",
              "      <td>4</td>\n",
              "      <td>2000-12-31 22:00:19</td>\n",
              "    </tr>\n",
              "    <tr>\n",
              "      <th>1</th>\n",
              "      <td>1</td>\n",
              "      <td>1</td>\n",
              "      <td>1270</td>\n",
              "      <td>5</td>\n",
              "      <td>2000-12-31 22:00:55</td>\n",
              "    </tr>\n",
              "    <tr>\n",
              "      <th>2</th>\n",
              "      <td>1</td>\n",
              "      <td>1</td>\n",
              "      <td>1721</td>\n",
              "      <td>4</td>\n",
              "      <td>2000-12-31 22:00:55</td>\n",
              "    </tr>\n",
              "    <tr>\n",
              "      <th>3</th>\n",
              "      <td>1</td>\n",
              "      <td>1</td>\n",
              "      <td>1022</td>\n",
              "      <td>5</td>\n",
              "      <td>2000-12-31 22:00:55</td>\n",
              "    </tr>\n",
              "    <tr>\n",
              "      <th>4</th>\n",
              "      <td>2</td>\n",
              "      <td>1</td>\n",
              "      <td>2340</td>\n",
              "      <td>3</td>\n",
              "      <td>2000-12-31 22:01:43</td>\n",
              "    </tr>\n",
              "    <tr>\n",
              "      <th>...</th>\n",
              "      <td>...</td>\n",
              "      <td>...</td>\n",
              "      <td>...</td>\n",
              "      <td>...</td>\n",
              "      <td>...</td>\n",
              "    </tr>\n",
              "    <tr>\n",
              "      <th>1000204</th>\n",
              "      <td>112224</td>\n",
              "      <td>6040</td>\n",
              "      <td>2917</td>\n",
              "      <td>4</td>\n",
              "      <td>2001-08-10 14:40:29</td>\n",
              "    </tr>\n",
              "    <tr>\n",
              "      <th>1000205</th>\n",
              "      <td>112224</td>\n",
              "      <td>6040</td>\n",
              "      <td>1921</td>\n",
              "      <td>4</td>\n",
              "      <td>2001-08-10 14:41:04</td>\n",
              "    </tr>\n",
              "    <tr>\n",
              "      <th>1000206</th>\n",
              "      <td>112224</td>\n",
              "      <td>6040</td>\n",
              "      <td>1784</td>\n",
              "      <td>3</td>\n",
              "      <td>2001-08-10 14:41:04</td>\n",
              "    </tr>\n",
              "    <tr>\n",
              "      <th>1000207</th>\n",
              "      <td>112225</td>\n",
              "      <td>6040</td>\n",
              "      <td>161</td>\n",
              "      <td>3</td>\n",
              "      <td>2001-08-10 14:41:26</td>\n",
              "    </tr>\n",
              "    <tr>\n",
              "      <th>1000208</th>\n",
              "      <td>112225</td>\n",
              "      <td>6040</td>\n",
              "      <td>1221</td>\n",
              "      <td>4</td>\n",
              "      <td>2001-08-20 13:44:15</td>\n",
              "    </tr>\n",
              "  </tbody>\n",
              "</table>\n",
              "<p>1000209 rows × 5 columns</p>\n",
              "</div>\n",
              "      <button class=\"colab-df-convert\" onclick=\"convertToInteractive('df-e4a7601e-1b18-46c5-9694-c6a4bafadfa6')\"\n",
              "              title=\"Convert this dataframe to an interactive table.\"\n",
              "              style=\"display:none;\">\n",
              "        \n",
              "  <svg xmlns=\"http://www.w3.org/2000/svg\" height=\"24px\"viewBox=\"0 0 24 24\"\n",
              "       width=\"24px\">\n",
              "    <path d=\"M0 0h24v24H0V0z\" fill=\"none\"/>\n",
              "    <path d=\"M18.56 5.44l.94 2.06.94-2.06 2.06-.94-2.06-.94-.94-2.06-.94 2.06-2.06.94zm-11 1L8.5 8.5l.94-2.06 2.06-.94-2.06-.94L8.5 2.5l-.94 2.06-2.06.94zm10 10l.94 2.06.94-2.06 2.06-.94-2.06-.94-.94-2.06-.94 2.06-2.06.94z\"/><path d=\"M17.41 7.96l-1.37-1.37c-.4-.4-.92-.59-1.43-.59-.52 0-1.04.2-1.43.59L10.3 9.45l-7.72 7.72c-.78.78-.78 2.05 0 2.83L4 21.41c.39.39.9.59 1.41.59.51 0 1.02-.2 1.41-.59l7.78-7.78 2.81-2.81c.8-.78.8-2.07 0-2.86zM5.41 20L4 18.59l7.72-7.72 1.47 1.35L5.41 20z\"/>\n",
              "  </svg>\n",
              "      </button>\n",
              "      \n",
              "  <style>\n",
              "    .colab-df-container {\n",
              "      display:flex;\n",
              "      flex-wrap:wrap;\n",
              "      gap: 12px;\n",
              "    }\n",
              "\n",
              "    .colab-df-convert {\n",
              "      background-color: #E8F0FE;\n",
              "      border: none;\n",
              "      border-radius: 50%;\n",
              "      cursor: pointer;\n",
              "      display: none;\n",
              "      fill: #1967D2;\n",
              "      height: 32px;\n",
              "      padding: 0 0 0 0;\n",
              "      width: 32px;\n",
              "    }\n",
              "\n",
              "    .colab-df-convert:hover {\n",
              "      background-color: #E2EBFA;\n",
              "      box-shadow: 0px 1px 2px rgba(60, 64, 67, 0.3), 0px 1px 3px 1px rgba(60, 64, 67, 0.15);\n",
              "      fill: #174EA6;\n",
              "    }\n",
              "\n",
              "    [theme=dark] .colab-df-convert {\n",
              "      background-color: #3B4455;\n",
              "      fill: #D2E3FC;\n",
              "    }\n",
              "\n",
              "    [theme=dark] .colab-df-convert:hover {\n",
              "      background-color: #434B5C;\n",
              "      box-shadow: 0px 1px 3px 1px rgba(0, 0, 0, 0.15);\n",
              "      filter: drop-shadow(0px 1px 2px rgba(0, 0, 0, 0.3));\n",
              "      fill: #FFFFFF;\n",
              "    }\n",
              "  </style>\n",
              "\n",
              "      <script>\n",
              "        const buttonEl =\n",
              "          document.querySelector('#df-e4a7601e-1b18-46c5-9694-c6a4bafadfa6 button.colab-df-convert');\n",
              "        buttonEl.style.display =\n",
              "          google.colab.kernel.accessAllowed ? 'block' : 'none';\n",
              "\n",
              "        async function convertToInteractive(key) {\n",
              "          const element = document.querySelector('#df-e4a7601e-1b18-46c5-9694-c6a4bafadfa6');\n",
              "          const dataTable =\n",
              "            await google.colab.kernel.invokeFunction('convertToInteractive',\n",
              "                                                     [key], {});\n",
              "          if (!dataTable) return;\n",
              "\n",
              "          const docLinkHtml = 'Like what you see? Visit the ' +\n",
              "            '<a target=\"_blank\" href=https://colab.research.google.com/notebooks/data_table.ipynb>data table notebook</a>'\n",
              "            + ' to learn more about interactive tables.';\n",
              "          element.innerHTML = '';\n",
              "          dataTable['output_type'] = 'display_data';\n",
              "          await google.colab.output.renderOutput(dataTable, element);\n",
              "          const docLink = document.createElement('div');\n",
              "          docLink.innerHTML = docLinkHtml;\n",
              "          element.appendChild(docLink);\n",
              "        }\n",
              "      </script>\n",
              "    </div>\n",
              "  </div>\n",
              "  "
            ]
          },
          "metadata": {},
          "execution_count": 13
        }
      ]
    },
    {
      "cell_type": "markdown",
      "source": [
        "UserID의 Time 1분을 기준으로 하여 Session ID를 생성한다.\n",
        "<br/>사용자의 평점 클릭 시간 1분 내에서 동일한 SessionID로 정의한다.\n",
        "<br/>세션은 브라우저가 종료되기 전까지 클라이언트의 요청을 유지하게 해주는 기술로 세션의 내용은 서버에 저장된다. "
      ],
      "metadata": {
        "id": "dA5qV1af56CI"
      }
    },
    {
      "cell_type": "code",
      "source": [
        "ratings['SessionID'].nunique(), ratings['ItemID'].nunique()"
      ],
      "metadata": {
        "id": "dyeDDEqmrnZu",
        "colab": {
          "base_uri": "https://localhost:8080/"
        },
        "outputId": "97a72ade-e7ac-473e-866d-51a581dafbda"
      },
      "execution_count": null,
      "outputs": [
        {
          "output_type": "execute_result",
          "data": {
            "text/plain": [
              "(112225, 3706)"
            ]
          },
          "metadata": {},
          "execution_count": 14
        }
      ]
    },
    {
      "cell_type": "markdown",
      "source": [
        "세션의 숫자가 112225개, 아이템 숫자는 3706개다."
      ],
      "metadata": {
        "id": "iNc1y7obnYKE"
      }
    },
    {
      "cell_type": "markdown",
      "source": [
        "##Session Length"
      ],
      "metadata": {
        "id": "dMuc38boPH5f"
      }
    },
    {
      "cell_type": "code",
      "source": [
        "session_length = ratings.groupby(['SessionID']).size()"
      ],
      "metadata": {
        "id": "I14RUYtdL_2A"
      },
      "execution_count": null,
      "outputs": []
    },
    {
      "cell_type": "markdown",
      "source": [
        "session_length는 해당 세션의 사용자가 그 세션 동안 몇 번의 행동을 취했는지를 의미한다.\n",
        "<br/>SessionID는 브라우저에서 웹서버로 접속할 때 항상 포함하는 사용자의 구분자이다."
      ],
      "metadata": {
        "id": "NMG0VGUU4Kiq"
      }
    },
    {
      "cell_type": "code",
      "source": [
        "print('평균 길이 : ', session_length.mean())\n",
        "print('최소 길이 : ', session_length.min())\n",
        "print('최대 길이 : ', session_length.max())\n",
        "print('중간 길이 : ', session_length.median())\n",
        "print('표준 편차 : ', session_length.std())\n",
        "\n",
        "print()\n",
        "plt.boxplot(session_length)\n",
        "plt.title('session')\n",
        "plt.show()\n",
        "\n",
        "print()\n",
        "plt.hist(session_length)\n",
        "plt.xlabel('length of session')\n",
        "plt.ylabel('number of session')\n",
        "plt.show()"
      ],
      "metadata": {
        "colab": {
          "base_uri": "https://localhost:8080/",
          "height": 672
        },
        "id": "pTXtd2hzz8Yw",
        "outputId": "0c8dc51d-f2c7-4fd1-8500-808a606d47db"
      },
      "execution_count": null,
      "outputs": [
        {
          "output_type": "stream",
          "name": "stdout",
          "text": [
            "평균 길이 :  8.912532858097572\n",
            "최소 길이 :  1\n",
            "최대 길이 :  665\n",
            "중간 길이 :  3.0\n",
            "표준 편차 :  19.397081459922788\n",
            "\n"
          ]
        },
        {
          "output_type": "display_data",
          "data": {
            "text/plain": [
              "<Figure size 432x288 with 1 Axes>"
            ],
            "image/png": "[encoded data removed]"
          },
          "metadata": {
            "needs_background": "light"
          }
        },
        {
          "output_type": "stream",
          "name": "stdout",
          "text": [
            "\n"
          ]
        },
        {
          "output_type": "display_data",
          "data": {
            "text/plain": [
              "<Figure size 432x288 with 1 Axes>"
            ],
            "image/png": "[encoded data removed]"
          },
          "metadata": {
            "needs_background": "light"
          }
        }
      ]
    },
    {
      "cell_type": "markdown",
      "source": [
        "각 세션의 길이는 평균 8~9이다."
      ],
      "metadata": {
        "id": "Zpd1cwUA89n-"
      }
    },
    {
      "cell_type": "code",
      "source": [
        "session_length.quantile(0.999)"
      ],
      "metadata": {
        "id": "exVzpA-A1_1N",
        "colab": {
          "base_uri": "https://localhost:8080/"
        },
        "outputId": "9e6e8f3c-36cb-47b2-f754-8067c9f73ba6"
      },
      "execution_count": null,
      "outputs": [
        {
          "output_type": "execute_result",
          "data": {
            "text/plain": [
              "215.0"
            ]
          },
          "metadata": {},
          "execution_count": 17
        }
      ]
    },
    {
      "cell_type": "markdown",
      "source": [
        "99.9% 세션은 길이가 215 이하이다."
      ],
      "metadata": {
        "id": "d5s60N9L9rQD"
      }
    },
    {
      "cell_type": "code",
      "source": [
        "length_count = session_length.groupby(session_length).size()\n",
        "length_percent_cumlative_sum = length_count.cumsum() / length_count.sum()\n",
        "length_percent_cumlative_sum_999 = length_percent_cumlative_sum[length_percent_cumlative_sum < 0.999]\n",
        "\n",
        "\n",
        "length = len(length_percent_cumlative_sum_999.index)\n",
        "sum_list = []\n",
        "index_list = []\n",
        "\n",
        "for i in range(0, length, 5):\n",
        "  sum_list.append(list(length_percent_cumlative_sum_999)[i+4:i+5])\n",
        "\n",
        "for i in range(0, length, 5):\n",
        "  index_list.append(length_percent_cumlative_sum_999.index[i+4:i+5][0])\n",
        "\n",
        "sum_list = sum(sum_list, [])\n",
        "\n",
        "\n",
        "plt.figure(figsize=(20, 10))\n",
        "plt.bar(x=index_list,\n",
        "        height=sum_list, color='blue', width=4)\n",
        "\n",
        "\n",
        "plt.xticks(index_list)\n",
        "plt.yticks(np.arange(0, 1.01, 0.05))\n",
        "plt.title('Cumulative Sum Percentage Until 0.999', size=20)\n",
        "plt.show()"
      ],
      "metadata": {
        "colab": {
          "base_uri": "https://localhost:8080/",
          "height": 589
        },
        "id": "QjMTkm596ERK",
        "outputId": "c691b564-5719-47b4-e6c1-0f4b71bef61c"
      },
      "execution_count": null,
      "outputs": [
        {
          "output_type": "display_data",
          "data": {
            "text/plain": [
              "<Figure size 1440x720 with 1 Axes>"
            ],
            "image/png": "[encoded data removed]"
          },
          "metadata": {
            "needs_background": "light"
          }
        }
      ]
    },
    {
      "cell_type": "markdown",
      "source": [
        "세션 길이 기준 하위 99.9%까지의 분포 누적합을 시각화한다."
      ],
      "metadata": {
        "id": "Dp7vaoKE45Jr"
      }
    },
    {
      "cell_type": "markdown",
      "source": [
        "##Session Time"
      ],
      "metadata": {
        "id": "Oyc5-iVCbeyP"
      }
    },
    {
      "cell_type": "code",
      "source": [
        "oldest, latest = ratings['Time'].min(), ratings['Time'].max()\n",
        "print(oldest) \n",
        "print(latest)"
      ],
      "metadata": {
        "colab": {
          "base_uri": "https://localhost:8080/"
        },
        "id": "QlpxK3g2-iH2",
        "outputId": "1c94422b-c2c9-428d-90bb-140af2c64c48"
      },
      "execution_count": null,
      "outputs": [
        {
          "output_type": "stream",
          "name": "stdout",
          "text": [
            "2000-04-25 23:05:32\n",
            "2003-02-28 17:49:50\n"
          ]
        }
      ]
    },
    {
      "cell_type": "markdown",
      "source": [
        "3년 간의 영화 평점 데이터가 있다.\n",
        "<br/>그 중에 최근 1년 데이터를 사용한다."
      ],
      "metadata": {
        "id": "QpI9czRR-vvd"
      }
    },
    {
      "cell_type": "code",
      "source": [
        "type(latest)"
      ],
      "metadata": {
        "colab": {
          "base_uri": "https://localhost:8080/"
        },
        "id": "g8oQ4mrz-8Hz",
        "outputId": "ec10a229-bdd6-4736-a07d-f58db6786769"
      },
      "execution_count": null,
      "outputs": [
        {
          "output_type": "execute_result",
          "data": {
            "text/plain": [
              "pandas._libs.tslibs.timestamps.Timestamp"
            ]
          },
          "metadata": {},
          "execution_count": 18
        }
      ]
    },
    {
      "cell_type": "markdown",
      "source": [
        "latest는 Timestamp 객체이기 때문에 int 객체와의 사칙연산을 지원하지 않는다.\n",
        "<br/>날짜의 차이를 계산할 때 datetime의 timedelta 객체를 사용한다."
      ],
      "metadata": {
        "id": "P1x2Su5V_IO8"
      }
    },
    {
      "cell_type": "code",
      "source": [
        "year_ago = latest - dt.timedelta(365)     \n",
        "one_year_ratings = ratings[ratings['Time'] > year_ago]  "
      ],
      "metadata": {
        "id": "A3j8BJr5_Qn0"
      },
      "execution_count": null,
      "outputs": []
    },
    {
      "cell_type": "code",
      "source": [
        "one_year_ratings"
      ],
      "metadata": {
        "colab": {
          "base_uri": "https://localhost:8080/",
          "height": 424
        },
        "id": "HcZuw-DE_b_c",
        "outputId": "de9ca256-6d8c-4a76-ce0f-6981c63ab21c"
      },
      "execution_count": null,
      "outputs": [
        {
          "output_type": "execute_result",
          "data": {
            "text/plain": [
              "        SessionID  UserID  ItemID  Rating                Time\n",
              "5333          527      36    1387       5 2002-03-12 03:46:59\n",
              "5334          527      36    1201       4 2002-03-12 03:46:59\n",
              "5335          528      36    1291       5 2002-03-12 03:47:16\n",
              "5336          528      36    2167       5 2002-03-12 03:48:25\n",
              "5337          528      36    2951       4 2002-03-12 03:48:25\n",
              "...           ...     ...     ...     ...                 ...\n",
              "992789     111682    5996    3835       3 2002-04-29 20:46:24\n",
              "992790     111683    5996    2422       3 2002-04-29 20:47:05\n",
              "992791     111684    5996     168       3 2002-09-03 13:12:26\n",
              "992792     111685    5996     339       4 2002-10-07 13:24:39\n",
              "992793     111685    5996    3882       3 2002-11-04 16:55:55\n",
              "\n",
              "[21704 rows x 5 columns]"
            ],
            "text/html": [
              "\n",
              "  <div id=\"df-1a66a4a2-0584-4d30-ac2e-09407344d511\">\n",
              "    <div class=\"colab-df-container\">\n",
              "      <div>\n",
              "<style scoped>\n",
              "    .dataframe tbody tr th:only-of-type {\n",
              "        vertical-align: middle;\n",
              "    }\n",
              "\n",
              "    .dataframe tbody tr th {\n",
              "        vertical-align: top;\n",
              "    }\n",
              "\n",
              "    .dataframe thead th {\n",
              "        text-align: right;\n",
              "    }\n",
              "</style>\n",
              "<table border=\"1\" class=\"dataframe\">\n",
              "  <thead>\n",
              "    <tr style=\"text-align: right;\">\n",
              "      <th></th>\n",
              "      <th>SessionID</th>\n",
              "      <th>UserID</th>\n",
              "      <th>ItemID</th>\n",
              "      <th>Rating</th>\n",
              "      <th>Time</th>\n",
              "    </tr>\n",
              "  </thead>\n",
              "  <tbody>\n",
              "    <tr>\n",
              "      <th>5333</th>\n",
              "      <td>527</td>\n",
              "      <td>36</td>\n",
              "      <td>1387</td>\n",
              "      <td>5</td>\n",
              "      <td>2002-03-12 03:46:59</td>\n",
              "    </tr>\n",
              "    <tr>\n",
              "      <th>5334</th>\n",
              "      <td>527</td>\n",
              "      <td>36</td>\n",
              "      <td>1201</td>\n",
              "      <td>4</td>\n",
              "      <td>2002-03-12 03:46:59</td>\n",
              "    </tr>\n",
              "    <tr>\n",
              "      <th>5335</th>\n",
              "      <td>528</td>\n",
              "      <td>36</td>\n",
              "      <td>1291</td>\n",
              "      <td>5</td>\n",
              "      <td>2002-03-12 03:47:16</td>\n",
              "    </tr>\n",
              "    <tr>\n",
              "      <th>5336</th>\n",
              "      <td>528</td>\n",
              "      <td>36</td>\n",
              "      <td>2167</td>\n",
              "      <td>5</td>\n",
              "      <td>2002-03-12 03:48:25</td>\n",
              "    </tr>\n",
              "    <tr>\n",
              "      <th>5337</th>\n",
              "      <td>528</td>\n",
              "      <td>36</td>\n",
              "      <td>2951</td>\n",
              "      <td>4</td>\n",
              "      <td>2002-03-12 03:48:25</td>\n",
              "    </tr>\n",
              "    <tr>\n",
              "      <th>...</th>\n",
              "      <td>...</td>\n",
              "      <td>...</td>\n",
              "      <td>...</td>\n",
              "      <td>...</td>\n",
              "      <td>...</td>\n",
              "    </tr>\n",
              "    <tr>\n",
              "      <th>992789</th>\n",
              "      <td>111682</td>\n",
              "      <td>5996</td>\n",
              "      <td>3835</td>\n",
              "      <td>3</td>\n",
              "      <td>2002-04-29 20:46:24</td>\n",
              "    </tr>\n",
              "    <tr>\n",
              "      <th>992790</th>\n",
              "      <td>111683</td>\n",
              "      <td>5996</td>\n",
              "      <td>2422</td>\n",
              "      <td>3</td>\n",
              "      <td>2002-04-29 20:47:05</td>\n",
              "    </tr>\n",
              "    <tr>\n",
              "      <th>992791</th>\n",
              "      <td>111684</td>\n",
              "      <td>5996</td>\n",
              "      <td>168</td>\n",
              "      <td>3</td>\n",
              "      <td>2002-09-03 13:12:26</td>\n",
              "    </tr>\n",
              "    <tr>\n",
              "      <th>992792</th>\n",
              "      <td>111685</td>\n",
              "      <td>5996</td>\n",
              "      <td>339</td>\n",
              "      <td>4</td>\n",
              "      <td>2002-10-07 13:24:39</td>\n",
              "    </tr>\n",
              "    <tr>\n",
              "      <th>992793</th>\n",
              "      <td>111685</td>\n",
              "      <td>5996</td>\n",
              "      <td>3882</td>\n",
              "      <td>3</td>\n",
              "      <td>2002-11-04 16:55:55</td>\n",
              "    </tr>\n",
              "  </tbody>\n",
              "</table>\n",
              "<p>21704 rows × 5 columns</p>\n",
              "</div>\n",
              "      <button class=\"colab-df-convert\" onclick=\"convertToInteractive('df-1a66a4a2-0584-4d30-ac2e-09407344d511')\"\n",
              "              title=\"Convert this dataframe to an interactive table.\"\n",
              "              style=\"display:none;\">\n",
              "        \n",
              "  <svg xmlns=\"http://www.w3.org/2000/svg\" height=\"24px\"viewBox=\"0 0 24 24\"\n",
              "       width=\"24px\">\n",
              "    <path d=\"M0 0h24v24H0V0z\" fill=\"none\"/>\n",
              "    <path d=\"M18.56 5.44l.94 2.06.94-2.06 2.06-.94-2.06-.94-.94-2.06-.94 2.06-2.06.94zm-11 1L8.5 8.5l.94-2.06 2.06-.94-2.06-.94L8.5 2.5l-.94 2.06-2.06.94zm10 10l.94 2.06.94-2.06 2.06-.94-2.06-.94-.94-2.06-.94 2.06-2.06.94z\"/><path d=\"M17.41 7.96l-1.37-1.37c-.4-.4-.92-.59-1.43-.59-.52 0-1.04.2-1.43.59L10.3 9.45l-7.72 7.72c-.78.78-.78 2.05 0 2.83L4 21.41c.39.39.9.59 1.41.59.51 0 1.02-.2 1.41-.59l7.78-7.78 2.81-2.81c.8-.78.8-2.07 0-2.86zM5.41 20L4 18.59l7.72-7.72 1.47 1.35L5.41 20z\"/>\n",
              "  </svg>\n",
              "      </button>\n",
              "      \n",
              "  <style>\n",
              "    .colab-df-container {\n",
              "      display:flex;\n",
              "      flex-wrap:wrap;\n",
              "      gap: 12px;\n",
              "    }\n",
              "\n",
              "    .colab-df-convert {\n",
              "      background-color: #E8F0FE;\n",
              "      border: none;\n",
              "      border-radius: 50%;\n",
              "      cursor: pointer;\n",
              "      display: none;\n",
              "      fill: #1967D2;\n",
              "      height: 32px;\n",
              "      padding: 0 0 0 0;\n",
              "      width: 32px;\n",
              "    }\n",
              "\n",
              "    .colab-df-convert:hover {\n",
              "      background-color: #E2EBFA;\n",
              "      box-shadow: 0px 1px 2px rgba(60, 64, 67, 0.3), 0px 1px 3px 1px rgba(60, 64, 67, 0.15);\n",
              "      fill: #174EA6;\n",
              "    }\n",
              "\n",
              "    [theme=dark] .colab-df-convert {\n",
              "      background-color: #3B4455;\n",
              "      fill: #D2E3FC;\n",
              "    }\n",
              "\n",
              "    [theme=dark] .colab-df-convert:hover {\n",
              "      background-color: #434B5C;\n",
              "      box-shadow: 0px 1px 3px 1px rgba(0, 0, 0, 0.15);\n",
              "      filter: drop-shadow(0px 1px 2px rgba(0, 0, 0, 0.3));\n",
              "      fill: #FFFFFF;\n",
              "    }\n",
              "  </style>\n",
              "\n",
              "      <script>\n",
              "        const buttonEl =\n",
              "          document.querySelector('#df-1a66a4a2-0584-4d30-ac2e-09407344d511 button.colab-df-convert');\n",
              "        buttonEl.style.display =\n",
              "          google.colab.kernel.accessAllowed ? 'block' : 'none';\n",
              "\n",
              "        async function convertToInteractive(key) {\n",
              "          const element = document.querySelector('#df-1a66a4a2-0584-4d30-ac2e-09407344d511');\n",
              "          const dataTable =\n",
              "            await google.colab.kernel.invokeFunction('convertToInteractive',\n",
              "                                                     [key], {});\n",
              "          if (!dataTable) return;\n",
              "\n",
              "          const docLinkHtml = 'Like what you see? Visit the ' +\n",
              "            '<a target=\"_blank\" href=https://colab.research.google.com/notebooks/data_table.ipynb>data table notebook</a>'\n",
              "            + ' to learn more about interactive tables.';\n",
              "          element.innerHTML = '';\n",
              "          dataTable['output_type'] = 'display_data';\n",
              "          await google.colab.output.renderOutput(dataTable, element);\n",
              "          const docLink = document.createElement('div');\n",
              "          docLink.innerHTML = docLinkHtml;\n",
              "          element.appendChild(docLink);\n",
              "        }\n",
              "      </script>\n",
              "    </div>\n",
              "  </div>\n",
              "  "
            ]
          },
          "metadata": {},
          "execution_count": 19
        }
      ]
    },
    {
      "cell_type": "markdown",
      "source": [
        "최종 날짜로부터 365일 이전 날짜 2002-02-28를 구한다.\n",
        "<br/>2002-02-28부터 2003-02-28까지 1년 간의 데이터만 모은다."
      ],
      "metadata": {
        "id": "Ce992PuO_Sk8"
      }
    },
    {
      "cell_type": "markdown",
      "source": [
        "##데이터 정제"
      ],
      "metadata": {
        "id": "zpm_X1rW4DFs"
      }
    },
    {
      "cell_type": "code",
      "source": [
        "def cleanse_short_session(data: pd.DataFrame, shortest_session):\n",
        "    session_len = data.groupby('SessionID').size()\n",
        "    session_use = session_len[session_len >= shortest_session].index\n",
        "    data = data[data['SessionID'].isin(session_use)]\n",
        "    return data"
      ],
      "metadata": {
        "id": "HgYzhIbwb7o0"
      },
      "execution_count": null,
      "outputs": []
    },
    {
      "cell_type": "code",
      "source": [
        "def cleanse_unpopular_item(data: pd.DataFrame, least_click):\n",
        "    item_popular = data.groupby('ItemID').size()\n",
        "    item_use = item_popular[item_popular >= least_click].index\n",
        "    data = data[data['ItemID'].isin(item_use)]\n",
        "    return data"
      ],
      "metadata": {
        "id": "H9uYT0lTZqVY"
      },
      "execution_count": null,
      "outputs": []
    },
    {
      "cell_type": "code",
      "source": [
        "def cleanse_low_rating(data: pd.DataFrame, lowest_rating):\n",
        "    idx_rating = data[data['Rating'] < lowest_rating].index\n",
        "    data = data.drop(idx_rating)\n",
        "    return data"
      ],
      "metadata": {
        "id": "yWQcIJYVcGy_"
      },
      "execution_count": null,
      "outputs": []
    },
    {
      "cell_type": "code",
      "source": [
        "def cleanse_recursive(data: pd.DataFrame, shortest_session, least_click, lowest_rating) -> pd.DataFrame:\n",
        "    while True:\n",
        "        before_len = len(data)\n",
        "        data = cleanse_short_session(data, shortest_session)\n",
        "        data = cleanse_unpopular_item(data, least_click)\n",
        "        after_len = len(data)\n",
        "        if before_len == after_len:\n",
        "            break\n",
        "    \n",
        "    data = cleanse_low_rating(data, lowest_rating)\n",
        "    return data"
      ],
      "metadata": {
        "id": "nWtLnNHTVgXk"
      },
      "execution_count": null,
      "outputs": []
    },
    {
      "cell_type": "code",
      "source": [
        "preprocess_ratings = cleanse_recursive(one_year_ratings, shortest_session=2, least_click=5, lowest_rating=3)"
      ],
      "metadata": {
        "id": "uuTzQ-aJVGWL"
      },
      "execution_count": null,
      "outputs": []
    },
    {
      "cell_type": "markdown",
      "source": [
        "추천 시스템의 목적은 사용자가 최소 1개 이상 클릭했을 때 다음 클릭을 예측하는 것이므로 길이가 1인 세션은 제외한다.\n",
        "<br/>5번 이하의 클릭이 됐거나 3점 이하의 평점을 받은 item은 제외한다."
      ],
      "metadata": {
        "id": "jWjCVCzXWQnK"
      }
    },
    {
      "cell_type": "code",
      "source": [
        "preprocess_ratings"
      ],
      "metadata": {
        "colab": {
          "base_uri": "https://localhost:8080/",
          "height": 424
        },
        "id": "bKZnYIZ3eQ_O",
        "outputId": "f23a4e59-f2f4-4a47-b2c6-f85a8e22de65"
      },
      "execution_count": null,
      "outputs": [
        {
          "output_type": "execute_result",
          "data": {
            "text/plain": [
              "        SessionID  UserID  ItemID  Rating                Time\n",
              "5333          527      36    1387       5 2002-03-12 03:46:59\n",
              "5334          527      36    1201       4 2002-03-12 03:46:59\n",
              "5335          528      36    1291       5 2002-03-12 03:47:16\n",
              "5336          528      36    2167       5 2002-03-12 03:48:25\n",
              "5337          528      36    2951       4 2002-03-12 03:48:25\n",
              "...           ...     ...     ...     ...                 ...\n",
              "992779     111676    5996    2616       3 2002-04-29 20:16:15\n",
              "992780     111677    5996    3707       5 2002-04-29 20:16:15\n",
              "992781     111677    5996     781       5 2002-04-29 20:18:44\n",
              "992792     111685    5996     339       4 2002-10-07 13:24:39\n",
              "992793     111685    5996    3882       3 2002-11-04 16:55:55\n",
              "\n",
              "[11072 rows x 5 columns]"
            ],
            "text/html": [
              "\n",
              "  <div id=\"df-8b51fe34-44c3-45f2-b49a-0f360cafa2cf\">\n",
              "    <div class=\"colab-df-container\">\n",
              "      <div>\n",
              "<style scoped>\n",
              "    .dataframe tbody tr th:only-of-type {\n",
              "        vertical-align: middle;\n",
              "    }\n",
              "\n",
              "    .dataframe tbody tr th {\n",
              "        vertical-align: top;\n",
              "    }\n",
              "\n",
              "    .dataframe thead th {\n",
              "        text-align: right;\n",
              "    }\n",
              "</style>\n",
              "<table border=\"1\" class=\"dataframe\">\n",
              "  <thead>\n",
              "    <tr style=\"text-align: right;\">\n",
              "      <th></th>\n",
              "      <th>SessionID</th>\n",
              "      <th>UserID</th>\n",
              "      <th>ItemID</th>\n",
              "      <th>Rating</th>\n",
              "      <th>Time</th>\n",
              "    </tr>\n",
              "  </thead>\n",
              "  <tbody>\n",
              "    <tr>\n",
              "      <th>5333</th>\n",
              "      <td>527</td>\n",
              "      <td>36</td>\n",
              "      <td>1387</td>\n",
              "      <td>5</td>\n",
              "      <td>2002-03-12 03:46:59</td>\n",
              "    </tr>\n",
              "    <tr>\n",
              "      <th>5334</th>\n",
              "      <td>527</td>\n",
              "      <td>36</td>\n",
              "      <td>1201</td>\n",
              "      <td>4</td>\n",
              "      <td>2002-03-12 03:46:59</td>\n",
              "    </tr>\n",
              "    <tr>\n",
              "      <th>5335</th>\n",
              "      <td>528</td>\n",
              "      <td>36</td>\n",
              "      <td>1291</td>\n",
              "      <td>5</td>\n",
              "      <td>2002-03-12 03:47:16</td>\n",
              "    </tr>\n",
              "    <tr>\n",
              "      <th>5336</th>\n",
              "      <td>528</td>\n",
              "      <td>36</td>\n",
              "      <td>2167</td>\n",
              "      <td>5</td>\n",
              "      <td>2002-03-12 03:48:25</td>\n",
              "    </tr>\n",
              "    <tr>\n",
              "      <th>5337</th>\n",
              "      <td>528</td>\n",
              "      <td>36</td>\n",
              "      <td>2951</td>\n",
              "      <td>4</td>\n",
              "      <td>2002-03-12 03:48:25</td>\n",
              "    </tr>\n",
              "    <tr>\n",
              "      <th>...</th>\n",
              "      <td>...</td>\n",
              "      <td>...</td>\n",
              "      <td>...</td>\n",
              "      <td>...</td>\n",
              "      <td>...</td>\n",
              "    </tr>\n",
              "    <tr>\n",
              "      <th>992779</th>\n",
              "      <td>111676</td>\n",
              "      <td>5996</td>\n",
              "      <td>2616</td>\n",
              "      <td>3</td>\n",
              "      <td>2002-04-29 20:16:15</td>\n",
              "    </tr>\n",
              "    <tr>\n",
              "      <th>992780</th>\n",
              "      <td>111677</td>\n",
              "      <td>5996</td>\n",
              "      <td>3707</td>\n",
              "      <td>5</td>\n",
              "      <td>2002-04-29 20:16:15</td>\n",
              "    </tr>\n",
              "    <tr>\n",
              "      <th>992781</th>\n",
              "      <td>111677</td>\n",
              "      <td>5996</td>\n",
              "      <td>781</td>\n",
              "      <td>5</td>\n",
              "      <td>2002-04-29 20:18:44</td>\n",
              "    </tr>\n",
              "    <tr>\n",
              "      <th>992792</th>\n",
              "      <td>111685</td>\n",
              "      <td>5996</td>\n",
              "      <td>339</td>\n",
              "      <td>4</td>\n",
              "      <td>2002-10-07 13:24:39</td>\n",
              "    </tr>\n",
              "    <tr>\n",
              "      <th>992793</th>\n",
              "      <td>111685</td>\n",
              "      <td>5996</td>\n",
              "      <td>3882</td>\n",
              "      <td>3</td>\n",
              "      <td>2002-11-04 16:55:55</td>\n",
              "    </tr>\n",
              "  </tbody>\n",
              "</table>\n",
              "<p>11072 rows × 5 columns</p>\n",
              "</div>\n",
              "      <button class=\"colab-df-convert\" onclick=\"convertToInteractive('df-8b51fe34-44c3-45f2-b49a-0f360cafa2cf')\"\n",
              "              title=\"Convert this dataframe to an interactive table.\"\n",
              "              style=\"display:none;\">\n",
              "        \n",
              "  <svg xmlns=\"http://www.w3.org/2000/svg\" height=\"24px\"viewBox=\"0 0 24 24\"\n",
              "       width=\"24px\">\n",
              "    <path d=\"M0 0h24v24H0V0z\" fill=\"none\"/>\n",
              "    <path d=\"M18.56 5.44l.94 2.06.94-2.06 2.06-.94-2.06-.94-.94-2.06-.94 2.06-2.06.94zm-11 1L8.5 8.5l.94-2.06 2.06-.94-2.06-.94L8.5 2.5l-.94 2.06-2.06.94zm10 10l.94 2.06.94-2.06 2.06-.94-2.06-.94-.94-2.06-.94 2.06-2.06.94z\"/><path d=\"M17.41 7.96l-1.37-1.37c-.4-.4-.92-.59-1.43-.59-.52 0-1.04.2-1.43.59L10.3 9.45l-7.72 7.72c-.78.78-.78 2.05 0 2.83L4 21.41c.39.39.9.59 1.41.59.51 0 1.02-.2 1.41-.59l7.78-7.78 2.81-2.81c.8-.78.8-2.07 0-2.86zM5.41 20L4 18.59l7.72-7.72 1.47 1.35L5.41 20z\"/>\n",
              "  </svg>\n",
              "      </button>\n",
              "      \n",
              "  <style>\n",
              "    .colab-df-container {\n",
              "      display:flex;\n",
              "      flex-wrap:wrap;\n",
              "      gap: 12px;\n",
              "    }\n",
              "\n",
              "    .colab-df-convert {\n",
              "      background-color: #E8F0FE;\n",
              "      border: none;\n",
              "      border-radius: 50%;\n",
              "      cursor: pointer;\n",
              "      display: none;\n",
              "      fill: #1967D2;\n",
              "      height: 32px;\n",
              "      padding: 0 0 0 0;\n",
              "      width: 32px;\n",
              "    }\n",
              "\n",
              "    .colab-df-convert:hover {\n",
              "      background-color: #E2EBFA;\n",
              "      box-shadow: 0px 1px 2px rgba(60, 64, 67, 0.3), 0px 1px 3px 1px rgba(60, 64, 67, 0.15);\n",
              "      fill: #174EA6;\n",
              "    }\n",
              "\n",
              "    [theme=dark] .colab-df-convert {\n",
              "      background-color: #3B4455;\n",
              "      fill: #D2E3FC;\n",
              "    }\n",
              "\n",
              "    [theme=dark] .colab-df-convert:hover {\n",
              "      background-color: #434B5C;\n",
              "      box-shadow: 0px 1px 3px 1px rgba(0, 0, 0, 0.15);\n",
              "      filter: drop-shadow(0px 1px 2px rgba(0, 0, 0, 0.3));\n",
              "      fill: #FFFFFF;\n",
              "    }\n",
              "  </style>\n",
              "\n",
              "      <script>\n",
              "        const buttonEl =\n",
              "          document.querySelector('#df-8b51fe34-44c3-45f2-b49a-0f360cafa2cf button.colab-df-convert');\n",
              "        buttonEl.style.display =\n",
              "          google.colab.kernel.accessAllowed ? 'block' : 'none';\n",
              "\n",
              "        async function convertToInteractive(key) {\n",
              "          const element = document.querySelector('#df-8b51fe34-44c3-45f2-b49a-0f360cafa2cf');\n",
              "          const dataTable =\n",
              "            await google.colab.kernel.invokeFunction('convertToInteractive',\n",
              "                                                     [key], {});\n",
              "          if (!dataTable) return;\n",
              "\n",
              "          const docLinkHtml = 'Like what you see? Visit the ' +\n",
              "            '<a target=\"_blank\" href=https://colab.research.google.com/notebooks/data_table.ipynb>data table notebook</a>'\n",
              "            + ' to learn more about interactive tables.';\n",
              "          element.innerHTML = '';\n",
              "          dataTable['output_type'] = 'display_data';\n",
              "          await google.colab.output.renderOutput(dataTable, element);\n",
              "          const docLink = document.createElement('div');\n",
              "          docLink.innerHTML = docLinkHtml;\n",
              "          element.appendChild(docLink);\n",
              "        }\n",
              "      </script>\n",
              "    </div>\n",
              "  </div>\n",
              "  "
            ]
          },
          "metadata": {},
          "execution_count": 25
        }
      ]
    },
    {
      "cell_type": "code",
      "source": [
        "preprocess_ratings.isnull().sum()"
      ],
      "metadata": {
        "colab": {
          "base_uri": "https://localhost:8080/"
        },
        "id": "PvS3qo14S5Tr",
        "outputId": "32817495-cc3f-436a-8994-2238df6831bb"
      },
      "execution_count": null,
      "outputs": [
        {
          "output_type": "execute_result",
          "data": {
            "text/plain": [
              "SessionID    0\n",
              "UserID       0\n",
              "ItemID       0\n",
              "Rating       0\n",
              "Time         0\n",
              "dtype: int64"
            ]
          },
          "metadata": {},
          "execution_count": 27
        }
      ]
    },
    {
      "cell_type": "markdown",
      "source": [
        "데이터에 결측치가 존재하지 않는다."
      ],
      "metadata": {
        "id": "3zqp4IXFi0tG"
      }
    },
    {
      "cell_type": "markdown",
      "source": [
        "##데이터 분리"
      ],
      "metadata": {
        "id": "raLwAyjM25o1"
      }
    },
    {
      "cell_type": "code",
      "source": [
        "def split_by_date(data: pd.DataFrame, n_days: int):\n",
        "    final_time = data['Time'].max()\n",
        "    session_last_time = data.groupby('SessionID')['Time'].max()\n",
        "   \n",
        "    session_in_train = session_last_time[session_last_time < final_time - dt.timedelta(n_days)].index\n",
        "    session_in_test = session_last_time[session_last_time >= final_time - dt.timedelta(n_days)].index\n",
        "\n",
        "    before_date = data[data['SessionID'].isin(session_in_train)]\n",
        "    after_date = data[data['SessionID'].isin(session_in_test)]\n",
        "    after_date = after_date[after_date['ItemID'].isin(before_date['ItemID'])]\n",
        "    return before_date, after_date"
      ],
      "metadata": {
        "id": "qI5eH-Yu2-Du"
      },
      "execution_count": null,
      "outputs": []
    },
    {
      "cell_type": "code",
      "source": [
        "train, test = split_by_date(preprocess_ratings, n_days=2)\n",
        "train, val = split_by_date(train, n_days=2)"
      ],
      "metadata": {
        "id": "QuyOLp0HeIg3"
      },
      "execution_count": null,
      "outputs": []
    },
    {
      "cell_type": "markdown",
      "source": [
        "split_by_date는 훈련 데이터(2002-02-28 ~ 2003-02-24), 평가 데이터(2003-02-24 ~ 26), 시험 데이터(2003-02-26 ~ 28)로 분리한다."
      ],
      "metadata": {
        "id": "mUlPjVl_3oDs"
      }
    },
    {
      "cell_type": "code",
      "source": [
        "test.head()"
      ],
      "metadata": {
        "colab": {
          "base_uri": "https://localhost:8080/",
          "height": 206
        },
        "id": "4w8NR7kelgZz",
        "outputId": "6c5ce093-a23a-45d4-f07d-1350fd93518b"
      },
      "execution_count": null,
      "outputs": [
        {
          "output_type": "execute_result",
          "data": {
            "text/plain": [
              "        SessionID  UserID  ItemID  Rating                Time\n",
              "59567        6789     403    1097       4 2002-03-27 00:54:52\n",
              "59568        6789     403    1036       4 2003-02-27 23:31:15\n",
              "63596        7646     424    2324       4 2003-02-26 15:23:29\n",
              "63597        7646     424    2581       3 2003-02-27 12:31:39\n",
              "562872      67318    3462    3893       4 2003-02-27 13:14:14"
            ],
            "text/html": [
              "\n",
              "  <div id=\"df-b1855638-4f2f-49f2-bbb2-72c9e6111a0b\">\n",
              "    <div class=\"colab-df-container\">\n",
              "      <div>\n",
              "<style scoped>\n",
              "    .dataframe tbody tr th:only-of-type {\n",
              "        vertical-align: middle;\n",
              "    }\n",
              "\n",
              "    .dataframe tbody tr th {\n",
              "        vertical-align: top;\n",
              "    }\n",
              "\n",
              "    .dataframe thead th {\n",
              "        text-align: right;\n",
              "    }\n",
              "</style>\n",
              "<table border=\"1\" class=\"dataframe\">\n",
              "  <thead>\n",
              "    <tr style=\"text-align: right;\">\n",
              "      <th></th>\n",
              "      <th>SessionID</th>\n",
              "      <th>UserID</th>\n",
              "      <th>ItemID</th>\n",
              "      <th>Rating</th>\n",
              "      <th>Time</th>\n",
              "    </tr>\n",
              "  </thead>\n",
              "  <tbody>\n",
              "    <tr>\n",
              "      <th>59567</th>\n",
              "      <td>6789</td>\n",
              "      <td>403</td>\n",
              "      <td>1097</td>\n",
              "      <td>4</td>\n",
              "      <td>2002-03-27 00:54:52</td>\n",
              "    </tr>\n",
              "    <tr>\n",
              "      <th>59568</th>\n",
              "      <td>6789</td>\n",
              "      <td>403</td>\n",
              "      <td>1036</td>\n",
              "      <td>4</td>\n",
              "      <td>2003-02-27 23:31:15</td>\n",
              "    </tr>\n",
              "    <tr>\n",
              "      <th>63596</th>\n",
              "      <td>7646</td>\n",
              "      <td>424</td>\n",
              "      <td>2324</td>\n",
              "      <td>4</td>\n",
              "      <td>2003-02-26 15:23:29</td>\n",
              "    </tr>\n",
              "    <tr>\n",
              "      <th>63597</th>\n",
              "      <td>7646</td>\n",
              "      <td>424</td>\n",
              "      <td>2581</td>\n",
              "      <td>3</td>\n",
              "      <td>2003-02-27 12:31:39</td>\n",
              "    </tr>\n",
              "    <tr>\n",
              "      <th>562872</th>\n",
              "      <td>67318</td>\n",
              "      <td>3462</td>\n",
              "      <td>3893</td>\n",
              "      <td>4</td>\n",
              "      <td>2003-02-27 13:14:14</td>\n",
              "    </tr>\n",
              "  </tbody>\n",
              "</table>\n",
              "</div>\n",
              "      <button class=\"colab-df-convert\" onclick=\"convertToInteractive('df-b1855638-4f2f-49f2-bbb2-72c9e6111a0b')\"\n",
              "              title=\"Convert this dataframe to an interactive table.\"\n",
              "              style=\"display:none;\">\n",
              "        \n",
              "  <svg xmlns=\"http://www.w3.org/2000/svg\" height=\"24px\"viewBox=\"0 0 24 24\"\n",
              "       width=\"24px\">\n",
              "    <path d=\"M0 0h24v24H0V0z\" fill=\"none\"/>\n",
              "    <path d=\"M18.56 5.44l.94 2.06.94-2.06 2.06-.94-2.06-.94-.94-2.06-.94 2.06-2.06.94zm-11 1L8.5 8.5l.94-2.06 2.06-.94-2.06-.94L8.5 2.5l-.94 2.06-2.06.94zm10 10l.94 2.06.94-2.06 2.06-.94-2.06-.94-.94-2.06-.94 2.06-2.06.94z\"/><path d=\"M17.41 7.96l-1.37-1.37c-.4-.4-.92-.59-1.43-.59-.52 0-1.04.2-1.43.59L10.3 9.45l-7.72 7.72c-.78.78-.78 2.05 0 2.83L4 21.41c.39.39.9.59 1.41.59.51 0 1.02-.2 1.41-.59l7.78-7.78 2.81-2.81c.8-.78.8-2.07 0-2.86zM5.41 20L4 18.59l7.72-7.72 1.47 1.35L5.41 20z\"/>\n",
              "  </svg>\n",
              "      </button>\n",
              "      \n",
              "  <style>\n",
              "    .colab-df-container {\n",
              "      display:flex;\n",
              "      flex-wrap:wrap;\n",
              "      gap: 12px;\n",
              "    }\n",
              "\n",
              "    .colab-df-convert {\n",
              "      background-color: #E8F0FE;\n",
              "      border: none;\n",
              "      border-radius: 50%;\n",
              "      cursor: pointer;\n",
              "      display: none;\n",
              "      fill: #1967D2;\n",
              "      height: 32px;\n",
              "      padding: 0 0 0 0;\n",
              "      width: 32px;\n",
              "    }\n",
              "\n",
              "    .colab-df-convert:hover {\n",
              "      background-color: #E2EBFA;\n",
              "      box-shadow: 0px 1px 2px rgba(60, 64, 67, 0.3), 0px 1px 3px 1px rgba(60, 64, 67, 0.15);\n",
              "      fill: #174EA6;\n",
              "    }\n",
              "\n",
              "    [theme=dark] .colab-df-convert {\n",
              "      background-color: #3B4455;\n",
              "      fill: #D2E3FC;\n",
              "    }\n",
              "\n",
              "    [theme=dark] .colab-df-convert:hover {\n",
              "      background-color: #434B5C;\n",
              "      box-shadow: 0px 1px 3px 1px rgba(0, 0, 0, 0.15);\n",
              "      filter: drop-shadow(0px 1px 2px rgba(0, 0, 0, 0.3));\n",
              "      fill: #FFFFFF;\n",
              "    }\n",
              "  </style>\n",
              "\n",
              "      <script>\n",
              "        const buttonEl =\n",
              "          document.querySelector('#df-b1855638-4f2f-49f2-bbb2-72c9e6111a0b button.colab-df-convert');\n",
              "        buttonEl.style.display =\n",
              "          google.colab.kernel.accessAllowed ? 'block' : 'none';\n",
              "\n",
              "        async function convertToInteractive(key) {\n",
              "          const element = document.querySelector('#df-b1855638-4f2f-49f2-bbb2-72c9e6111a0b');\n",
              "          const dataTable =\n",
              "            await google.colab.kernel.invokeFunction('convertToInteractive',\n",
              "                                                     [key], {});\n",
              "          if (!dataTable) return;\n",
              "\n",
              "          const docLinkHtml = 'Like what you see? Visit the ' +\n",
              "            '<a target=\"_blank\" href=https://colab.research.google.com/notebooks/data_table.ipynb>data table notebook</a>'\n",
              "            + ' to learn more about interactive tables.';\n",
              "          element.innerHTML = '';\n",
              "          dataTable['output_type'] = 'display_data';\n",
              "          await google.colab.output.renderOutput(dataTable, element);\n",
              "          const docLink = document.createElement('div');\n",
              "          docLink.innerHTML = docLinkHtml;\n",
              "          element.appendChild(docLink);\n",
              "        }\n",
              "      </script>\n",
              "    </div>\n",
              "  </div>\n",
              "  "
            ]
          },
          "metadata": {},
          "execution_count": 28
        }
      ]
    },
    {
      "cell_type": "code",
      "source": [
        "test = test.drop(index=[59567, 609455, 825872, 984291], axis=0)"
      ],
      "metadata": {
        "id": "QT5XMYKPmAn7"
      },
      "execution_count": null,
      "outputs": []
    },
    {
      "cell_type": "markdown",
      "source": [
        "시험 데이터에서 Time이 2003-02-26 ~ 28가 아닌 결측치를 제거한다."
      ],
      "metadata": {
        "id": "whZY5cByltHT"
      }
    },
    {
      "cell_type": "code",
      "source": [
        "def stats_info(data: pd.DataFrame, status: str):\n",
        "    print(f'* {status} Set Stats Info\\n'\n",
        "          f'\\t Events: {len(data)}\\n'\n",
        "          f'\\t Sessions: {data[\"SessionID\"].nunique()}\\n'\n",
        "          f'\\t Items: {data[\"ItemID\"].nunique()}\\n'\n",
        "          f'\\t First Time : {data[\"Time\"].min()}\\n'\n",
        "          f'\\t Last Time : {data[\"Time\"].max()}\\n')"
      ],
      "metadata": {
        "id": "omQP5YDI3u2F"
      },
      "execution_count": null,
      "outputs": []
    },
    {
      "cell_type": "code",
      "source": [
        "stats_info(train, 'Train')\n",
        "stats_info(val, 'Validation')\n",
        "stats_info(test, 'Test')"
      ],
      "metadata": {
        "id": "_q4Jg7zd3vWU",
        "colab": {
          "base_uri": "https://localhost:8080/"
        },
        "outputId": "02aa200e-2e27-4f85-d183-fb2a6a3e6f76"
      },
      "execution_count": null,
      "outputs": [
        {
          "output_type": "stream",
          "name": "stdout",
          "text": [
            "* Train Set Stats Info\n",
            "\t Events: 10911\n",
            "\t Sessions: 2509\n",
            "\t Items: 1213\n",
            "\t First Time : 2002-02-28 19:14:41\n",
            "\t Last Time : 2003-02-24 06:02:24\n",
            "\n",
            "* Validation Set Stats Info\n",
            "\t Events: 114\n",
            "\t Sessions: 43\n",
            "\t Items: 113\n",
            "\t First Time : 2003-02-24 17:02:07\n",
            "\t Last Time : 2003-02-26 16:18:03\n",
            "\n",
            "* Test Set Stats Info\n",
            "\t Events: 43\n",
            "\t Sessions: 17\n",
            "\t Items: 42\n",
            "\t First Time : 2003-02-26 15:23:29\n",
            "\t Last Time : 2003-02-28 17:49:08\n",
            "\n"
          ]
        }
      ]
    },
    {
      "cell_type": "code",
      "source": [
        "id2idx = {item_id : index for index, item_id in enumerate(train['ItemID'].unique())}"
      ],
      "metadata": {
        "id": "p_sLrWI531ak"
      },
      "execution_count": null,
      "outputs": []
    },
    {
      "cell_type": "code",
      "source": [
        "def indexing(df, id2idx):\n",
        "    df['item_idx'] = df['ItemID'].map(lambda x: id2idx.get(x, -1))  \n",
        "    return df"
      ],
      "metadata": {
        "id": "i_kX_tlN32jb"
      },
      "execution_count": null,
      "outputs": []
    },
    {
      "cell_type": "markdown",
      "source": [
        "훈련 데이터에 없는 아이템이 평가 및 시험 기간에 생길 수 있으므로 훈련 데이터를 기준으로 인덱싱한다.\n",
        "<br/>id2idx에 없는 아이템은 모르는 값을 -1로 처리 한다."
      ],
      "metadata": {
        "id": "vf4tVnGboMlU"
      }
    },
    {
      "cell_type": "code",
      "source": [
        "train = indexing(train, id2idx)\n",
        "val = indexing(val, id2idx)\n",
        "test = indexing(test, id2idx)"
      ],
      "metadata": {
        "id": "GtCCDrtD30QD"
      },
      "execution_count": null,
      "outputs": []
    },
    {
      "cell_type": "code",
      "source": [
        "os.environ['home'] = '/content'\n",
        "save_path =  Path(os.getenv('home') + '/drive/MyDrive/lms/recommender_system/preprocessed_data')\n",
        "save_path.mkdir(parents=True, exist_ok=True)\n",
        "\n",
        "train.to_pickle(save_path / 'train.pkl')\n",
        "val.to_pickle(save_path / 'val.pkl')\n",
        "test.to_pickle(save_path / 'test.pkl')"
      ],
      "metadata": {
        "id": "Abd-hD6t36_M"
      },
      "execution_count": null,
      "outputs": []
    },
    {
      "cell_type": "markdown",
      "source": [
        "데이터를 저장한다."
      ],
      "metadata": {
        "id": "fhLRE1U6pGEs"
      }
    },
    {
      "cell_type": "markdown",
      "source": [
        "#데이터 파이프라인"
      ],
      "metadata": {
        "id": "B_tYNwRFquq0"
      }
    },
    {
      "cell_type": "markdown",
      "source": [
        "##Session Dataset"
      ],
      "metadata": {
        "id": "vqdXJIcxtFpm"
      }
    },
    {
      "cell_type": "code",
      "source": [
        "class SessionDataset:\n",
        "    \"\"\"Credit to yhs-968/pyGRU4REC.\"\"\"\n",
        "\n",
        "    def __init__(self, data):\n",
        "        self.df = data\n",
        "        self.click_offsets = self.get_click_offsets()\n",
        "        self.session_idx = np.arange(self.df['SessionID'].nunique())  \n",
        "\n",
        "    def get_click_offsets(self):\n",
        "        \"\"\"\n",
        "        Return the indexes of the first click of each session IDs.\n",
        "        \"\"\"\n",
        "        \n",
        "        offsets = np.zeros(self.df['SessionID'].nunique() + 1, dtype=np.int32)\n",
        "        offsets[1:] = self.df.groupby('SessionID').size().cumsum()\n",
        "        return offsets"
      ],
      "metadata": {
        "id": "jA0tZD-n4IU2"
      },
      "execution_count": null,
      "outputs": []
    },
    {
      "cell_type": "markdown",
      "source": [
        "데이터가 주어지면 세션이 시작되는 인덱스를 담는 값과 세션을 새로 인덱싱한 값을 갖는 클래스를 만든다."
      ],
      "metadata": {
        "id": "5wU1ZKE2rMKU"
      }
    },
    {
      "cell_type": "code",
      "source": [
        "train_dataset = SessionDataset(train)\n",
        "train_dataset.df.head(10)"
      ],
      "metadata": {
        "colab": {
          "base_uri": "https://localhost:8080/",
          "height": 363
        },
        "id": "f-05-6nZsCkd",
        "outputId": "22a7e9db-625e-4a33-b31c-8e21286e7341"
      },
      "execution_count": null,
      "outputs": [
        {
          "output_type": "execute_result",
          "data": {
            "text/plain": [
              "      SessionID  UserID  ItemID  Rating                Time  item_idx\n",
              "5333        527      36    1387       5 2002-03-12 03:46:59         0\n",
              "5334        527      36    1201       4 2002-03-12 03:46:59         1\n",
              "5335        528      36    1291       5 2002-03-12 03:47:16         2\n",
              "5336        528      36    2167       5 2002-03-12 03:48:25         3\n",
              "5337        528      36    2951       4 2002-03-12 03:48:25         4\n",
              "5338        528      36    2115       5 2002-03-12 03:48:25         5\n",
              "5339        528      36    1912       5 2002-03-12 03:48:44         6\n",
              "5340        528      36    2662       3 2002-03-12 03:48:44         7\n",
              "5341        528      36    2985       4 2002-03-12 03:49:01         8\n",
              "5343        529      36     198       5 2002-03-12 03:49:48         9"
            ],
            "text/html": [
              "\n",
              "  <div id=\"df-5edd9238-4310-4ce8-a297-8ac83f86757f\">\n",
              "    <div class=\"colab-df-container\">\n",
              "      <div>\n",
              "<style scoped>\n",
              "    .dataframe tbody tr th:only-of-type {\n",
              "        vertical-align: middle;\n",
              "    }\n",
              "\n",
              "    .dataframe tbody tr th {\n",
              "        vertical-align: top;\n",
              "    }\n",
              "\n",
              "    .dataframe thead th {\n",
              "        text-align: right;\n",
              "    }\n",
              "</style>\n",
              "<table border=\"1\" class=\"dataframe\">\n",
              "  <thead>\n",
              "    <tr style=\"text-align: right;\">\n",
              "      <th></th>\n",
              "      <th>SessionID</th>\n",
              "      <th>UserID</th>\n",
              "      <th>ItemID</th>\n",
              "      <th>Rating</th>\n",
              "      <th>Time</th>\n",
              "      <th>item_idx</th>\n",
              "    </tr>\n",
              "  </thead>\n",
              "  <tbody>\n",
              "    <tr>\n",
              "      <th>5333</th>\n",
              "      <td>527</td>\n",
              "      <td>36</td>\n",
              "      <td>1387</td>\n",
              "      <td>5</td>\n",
              "      <td>2002-03-12 03:46:59</td>\n",
              "      <td>0</td>\n",
              "    </tr>\n",
              "    <tr>\n",
              "      <th>5334</th>\n",
              "      <td>527</td>\n",
              "      <td>36</td>\n",
              "      <td>1201</td>\n",
              "      <td>4</td>\n",
              "      <td>2002-03-12 03:46:59</td>\n",
              "      <td>1</td>\n",
              "    </tr>\n",
              "    <tr>\n",
              "      <th>5335</th>\n",
              "      <td>528</td>\n",
              "      <td>36</td>\n",
              "      <td>1291</td>\n",
              "      <td>5</td>\n",
              "      <td>2002-03-12 03:47:16</td>\n",
              "      <td>2</td>\n",
              "    </tr>\n",
              "    <tr>\n",
              "      <th>5336</th>\n",
              "      <td>528</td>\n",
              "      <td>36</td>\n",
              "      <td>2167</td>\n",
              "      <td>5</td>\n",
              "      <td>2002-03-12 03:48:25</td>\n",
              "      <td>3</td>\n",
              "    </tr>\n",
              "    <tr>\n",
              "      <th>5337</th>\n",
              "      <td>528</td>\n",
              "      <td>36</td>\n",
              "      <td>2951</td>\n",
              "      <td>4</td>\n",
              "      <td>2002-03-12 03:48:25</td>\n",
              "      <td>4</td>\n",
              "    </tr>\n",
              "    <tr>\n",
              "      <th>5338</th>\n",
              "      <td>528</td>\n",
              "      <td>36</td>\n",
              "      <td>2115</td>\n",
              "      <td>5</td>\n",
              "      <td>2002-03-12 03:48:25</td>\n",
              "      <td>5</td>\n",
              "    </tr>\n",
              "    <tr>\n",
              "      <th>5339</th>\n",
              "      <td>528</td>\n",
              "      <td>36</td>\n",
              "      <td>1912</td>\n",
              "      <td>5</td>\n",
              "      <td>2002-03-12 03:48:44</td>\n",
              "      <td>6</td>\n",
              "    </tr>\n",
              "    <tr>\n",
              "      <th>5340</th>\n",
              "      <td>528</td>\n",
              "      <td>36</td>\n",
              "      <td>2662</td>\n",
              "      <td>3</td>\n",
              "      <td>2002-03-12 03:48:44</td>\n",
              "      <td>7</td>\n",
              "    </tr>\n",
              "    <tr>\n",
              "      <th>5341</th>\n",
              "      <td>528</td>\n",
              "      <td>36</td>\n",
              "      <td>2985</td>\n",
              "      <td>4</td>\n",
              "      <td>2002-03-12 03:49:01</td>\n",
              "      <td>8</td>\n",
              "    </tr>\n",
              "    <tr>\n",
              "      <th>5343</th>\n",
              "      <td>529</td>\n",
              "      <td>36</td>\n",
              "      <td>198</td>\n",
              "      <td>5</td>\n",
              "      <td>2002-03-12 03:49:48</td>\n",
              "      <td>9</td>\n",
              "    </tr>\n",
              "  </tbody>\n",
              "</table>\n",
              "</div>\n",
              "      <button class=\"colab-df-convert\" onclick=\"convertToInteractive('df-5edd9238-4310-4ce8-a297-8ac83f86757f')\"\n",
              "              title=\"Convert this dataframe to an interactive table.\"\n",
              "              style=\"display:none;\">\n",
              "        \n",
              "  <svg xmlns=\"http://www.w3.org/2000/svg\" height=\"24px\"viewBox=\"0 0 24 24\"\n",
              "       width=\"24px\">\n",
              "    <path d=\"M0 0h24v24H0V0z\" fill=\"none\"/>\n",
              "    <path d=\"M18.56 5.44l.94 2.06.94-2.06 2.06-.94-2.06-.94-.94-2.06-.94 2.06-2.06.94zm-11 1L8.5 8.5l.94-2.06 2.06-.94-2.06-.94L8.5 2.5l-.94 2.06-2.06.94zm10 10l.94 2.06.94-2.06 2.06-.94-2.06-.94-.94-2.06-.94 2.06-2.06.94z\"/><path d=\"M17.41 7.96l-1.37-1.37c-.4-.4-.92-.59-1.43-.59-.52 0-1.04.2-1.43.59L10.3 9.45l-7.72 7.72c-.78.78-.78 2.05 0 2.83L4 21.41c.39.39.9.59 1.41.59.51 0 1.02-.2 1.41-.59l7.78-7.78 2.81-2.81c.8-.78.8-2.07 0-2.86zM5.41 20L4 18.59l7.72-7.72 1.47 1.35L5.41 20z\"/>\n",
              "  </svg>\n",
              "      </button>\n",
              "      \n",
              "  <style>\n",
              "    .colab-df-container {\n",
              "      display:flex;\n",
              "      flex-wrap:wrap;\n",
              "      gap: 12px;\n",
              "    }\n",
              "\n",
              "    .colab-df-convert {\n",
              "      background-color: #E8F0FE;\n",
              "      border: none;\n",
              "      border-radius: 50%;\n",
              "      cursor: pointer;\n",
              "      display: none;\n",
              "      fill: #1967D2;\n",
              "      height: 32px;\n",
              "      padding: 0 0 0 0;\n",
              "      width: 32px;\n",
              "    }\n",
              "\n",
              "    .colab-df-convert:hover {\n",
              "      background-color: #E2EBFA;\n",
              "      box-shadow: 0px 1px 2px rgba(60, 64, 67, 0.3), 0px 1px 3px 1px rgba(60, 64, 67, 0.15);\n",
              "      fill: #174EA6;\n",
              "    }\n",
              "\n",
              "    [theme=dark] .colab-df-convert {\n",
              "      background-color: #3B4455;\n",
              "      fill: #D2E3FC;\n",
              "    }\n",
              "\n",
              "    [theme=dark] .colab-df-convert:hover {\n",
              "      background-color: #434B5C;\n",
              "      box-shadow: 0px 1px 3px 1px rgba(0, 0, 0, 0.15);\n",
              "      filter: drop-shadow(0px 1px 2px rgba(0, 0, 0, 0.3));\n",
              "      fill: #FFFFFF;\n",
              "    }\n",
              "  </style>\n",
              "\n",
              "      <script>\n",
              "        const buttonEl =\n",
              "          document.querySelector('#df-5edd9238-4310-4ce8-a297-8ac83f86757f button.colab-df-convert');\n",
              "        buttonEl.style.display =\n",
              "          google.colab.kernel.accessAllowed ? 'block' : 'none';\n",
              "\n",
              "        async function convertToInteractive(key) {\n",
              "          const element = document.querySelector('#df-5edd9238-4310-4ce8-a297-8ac83f86757f');\n",
              "          const dataTable =\n",
              "            await google.colab.kernel.invokeFunction('convertToInteractive',\n",
              "                                                     [key], {});\n",
              "          if (!dataTable) return;\n",
              "\n",
              "          const docLinkHtml = 'Like what you see? Visit the ' +\n",
              "            '<a target=\"_blank\" href=https://colab.research.google.com/notebooks/data_table.ipynb>data table notebook</a>'\n",
              "            + ' to learn more about interactive tables.';\n",
              "          element.innerHTML = '';\n",
              "          dataTable['output_type'] = 'display_data';\n",
              "          await google.colab.output.renderOutput(dataTable, element);\n",
              "          const docLink = document.createElement('div');\n",
              "          docLink.innerHTML = docLinkHtml;\n",
              "          element.appendChild(docLink);\n",
              "        }\n",
              "      </script>\n",
              "    </div>\n",
              "  </div>\n",
              "  "
            ]
          },
          "metadata": {},
          "execution_count": 36
        }
      ]
    },
    {
      "cell_type": "markdown",
      "source": [
        "훈련 데이터로 SessionDataset 객체를 만들고 인스턴스 변수들을 확인한다."
      ],
      "metadata": {
        "id": "IEFKGplVsAfE"
      }
    },
    {
      "cell_type": "code",
      "source": [
        "train_dataset.click_offsets"
      ],
      "metadata": {
        "colab": {
          "base_uri": "https://localhost:8080/"
        },
        "id": "fQGa3GhMsJgF",
        "outputId": "c1bf0fdc-76f0-4ae7-ed75-c415de43103e"
      },
      "execution_count": null,
      "outputs": [
        {
          "output_type": "execute_result",
          "data": {
            "text/plain": [
              "array([    0,     2,     9, ..., 10907, 10909, 10911], dtype=int32)"
            ]
          },
          "metadata": {},
          "execution_count": 37
        }
      ]
    },
    {
      "cell_type": "markdown",
      "source": [
        "click_offsets 변수는 각 세션이 시작된 인덱스를 담는다."
      ],
      "metadata": {
        "id": "PAsSs5JgsPvF"
      }
    },
    {
      "cell_type": "code",
      "source": [
        "train_dataset.session_idx"
      ],
      "metadata": {
        "colab": {
          "base_uri": "https://localhost:8080/"
        },
        "id": "6ZTwLtF2sRHc",
        "outputId": "19a2634d-ca21-45e5-f200-0136cfb0e5e5"
      },
      "execution_count": null,
      "outputs": [
        {
          "output_type": "execute_result",
          "data": {
            "text/plain": [
              "array([   0,    1,    2, ..., 2506, 2507, 2508])"
            ]
          },
          "metadata": {},
          "execution_count": 38
        }
      ]
    },
    {
      "cell_type": "markdown",
      "source": [
        "session_idx 변수는 각 세션을 인덱싱한 np.array이다."
      ],
      "metadata": {
        "id": "nqh9C0OdshVs"
      }
    },
    {
      "cell_type": "markdown",
      "source": [
        "##Session-Parallel Mini-Batch"
      ],
      "metadata": {
        "id": "9yeUQyV4teNP"
      }
    },
    {
      "cell_type": "markdown",
      "source": [
        "Session-Parallel Mini-Batch의 개념에 따라 학습 속도의 저하가 최소화될 수 있도록 구성한다."
      ],
      "metadata": {
        "id": "CKS25avoxX9J"
      }
    },
    {
      "cell_type": "code",
      "source": [
        "class SessionDataLoader:\n",
        "    \"\"\"Credit to yhs-968/pyGRU4REC.\"\"\"\n",
        "\n",
        "    def __init__(self, dataset: SessionDataset, batch_size=50):\n",
        "        self.dataset = dataset\n",
        "        self.batch_size = batch_size\n",
        "\n",
        "    def __iter__(self):\n",
        "        \"\"\" Returns the iterator for producing session-parallel training mini-batches.\n",
        "        Yields:\n",
        "            input (B,):  Item indices that will be encoded as one-hot vectors later.\n",
        "            target (B,): a Variable that stores the target item indices\n",
        "            masks: Numpy array indicating the positions of the sessions to be terminated\n",
        "        \"\"\"\n",
        "\n",
        "        start, end, mask, last_session, finished = self.initialize()  \n",
        "        \"\"\"\n",
        "        start : Index Where Session Start\n",
        "        end : Index Where Session End\n",
        "        mask : indicator for the sessions to be terminated\n",
        "        \"\"\"\n",
        "\n",
        "        while not finished:\n",
        "            min_len = (end - start).min() - 1  # 세션의 최소 길이\n",
        "            for i in range(min_len):\n",
        "                # 입력 데이터와 타겟 데이터를 정의한다.\n",
        "                inp = self.dataset.df['item_idx'].values[start + i]\n",
        "                target = self.dataset.df['item_idx'].values[start + i + 1]\n",
        "                yield inp, target, mask\n",
        "\n",
        "            start, end, mask, last_session, finished = self.update_status(start, end, min_len, last_session, finished)\n",
        "\n",
        "    def initialize(self):\n",
        "        first_iters = np.arange(self.batch_size)    # 첫 배치에 사용할 세션 Index를 가져온다.\n",
        "        last_session = self.batch_size - 1    # 마지막으로 다루고 있는 세션 Index를 저장한다.\n",
        "        \n",
        "        start = self.dataset.click_offsets[self.dataset.session_idx[first_iters]]      # data 상에서 session이 시작된 위치를 가져온다.\n",
        "        end = self.dataset.click_offsets[self.dataset.session_idx[first_iters] + 1]  # session이 끝난 위치 바로 다음 위치를 가져온다.\n",
        "        \n",
        "        \n",
        "        mask = np.array([])   # session의 모든 아이템을 다 돌은 경우 mask에 추가한다.\n",
        "        finished = False         # data를 전부 돌았는지 기록하기 위한 변수이다.\n",
        "        return start, end, mask, last_session, finished\n",
        "\n",
        "    def update_status(self, start: np.ndarray, end: np.ndarray, min_len: int, last_session: int, finished: bool):  \n",
        "        # 다음 배치 데이터를 생성하기 위해 상태를 update한다.\n",
        "        \n",
        "        start += min_len   # __iter__에서 min_len 만큼 for문을 돌았으므로 start를 min_len 만큼 더한다.\n",
        "        mask = np.arange(self.batch_size)[(end - start) == 1]  \n",
        "        # end는 다음 세션이 시작되는 위치인데 start와 한 칸 차이난다는 것은 session이 끝났다는 뜻이다. mask에 기록한다.\n",
        "\n",
        "        for i, idx in enumerate(mask, start=1):  # mask에 추가된 세션 개수만큼 새로운 세션을 돈다.\n",
        "            new_session = last_session + i  \n",
        "            if new_session > self.dataset.session_idx[-1]:  # 만약 새로운 세션이 마지막 세션 index보다 크다면 모든 학습 데이터를 거친다.\n",
        "                finished = True\n",
        "                break\n",
        "            # 다음의 시작점과 도착점을 업데이트한다.\n",
        "            start[idx] = self.dataset.click_offsets[self.dataset.session_idx[new_session]]  # 종료된 세션 대신 새로운 세션의 시작점을 기록한다.\n",
        "            end[idx] = self.dataset.click_offsets[self.dataset.session_idx[new_session] + 1]\n",
        "\n",
        "        last_session += len(mask)  # 마지막 세션의 위치를 기록한다.\n",
        "        return start, end, mask, last_session, finished"
      ],
      "metadata": {
        "id": "RTvT1EHF8YqL"
      },
      "execution_count": null,
      "outputs": []
    },
    {
      "cell_type": "markdown",
      "source": [
        "SessionDataset 객체를 받아서 Session-Parallel mini-batch를 만드는 클래스를 만든다.\n",
        "<br/>iter 메서드는 모델 인풋, 라벨, 세션이 끝나는 곳의 위치를 yield한다.\n",
        "<br/>mask는 후에 RNN Cell State를 초기화하는데 사용한다."
      ],
      "metadata": {
        "id": "3zIVj6ONtz5l"
      }
    },
    {
      "cell_type": "code",
      "source": [
        "train_data_loader = SessionDataLoader(train_dataset, batch_size=4)\n",
        "train_dataset.df.head(10)"
      ],
      "metadata": {
        "colab": {
          "base_uri": "https://localhost:8080/",
          "height": 363
        },
        "id": "FCnSRtgtvoEu",
        "outputId": "522c218c-0fff-4676-c239-cc134fe45b47"
      },
      "execution_count": null,
      "outputs": [
        {
          "output_type": "execute_result",
          "data": {
            "text/plain": [
              "      SessionID  UserID  ItemID  Rating                Time  item_idx\n",
              "5333        527      36    1387       5 2002-03-12 03:46:59         0\n",
              "5334        527      36    1201       4 2002-03-12 03:46:59         1\n",
              "5335        528      36    1291       5 2002-03-12 03:47:16         2\n",
              "5336        528      36    2167       5 2002-03-12 03:48:25         3\n",
              "5337        528      36    2951       4 2002-03-12 03:48:25         4\n",
              "5338        528      36    2115       5 2002-03-12 03:48:25         5\n",
              "5339        528      36    1912       5 2002-03-12 03:48:44         6\n",
              "5340        528      36    2662       3 2002-03-12 03:48:44         7\n",
              "5341        528      36    2985       4 2002-03-12 03:49:01         8\n",
              "5343        529      36     198       5 2002-03-12 03:49:48         9"
            ],
            "text/html": [
              "\n",
              "  <div id=\"df-bade6491-65c3-4cc2-aea9-b6204b95b73e\">\n",
              "    <div class=\"colab-df-container\">\n",
              "      <div>\n",
              "<style scoped>\n",
              "    .dataframe tbody tr th:only-of-type {\n",
              "        vertical-align: middle;\n",
              "    }\n",
              "\n",
              "    .dataframe tbody tr th {\n",
              "        vertical-align: top;\n",
              "    }\n",
              "\n",
              "    .dataframe thead th {\n",
              "        text-align: right;\n",
              "    }\n",
              "</style>\n",
              "<table border=\"1\" class=\"dataframe\">\n",
              "  <thead>\n",
              "    <tr style=\"text-align: right;\">\n",
              "      <th></th>\n",
              "      <th>SessionID</th>\n",
              "      <th>UserID</th>\n",
              "      <th>ItemID</th>\n",
              "      <th>Rating</th>\n",
              "      <th>Time</th>\n",
              "      <th>item_idx</th>\n",
              "    </tr>\n",
              "  </thead>\n",
              "  <tbody>\n",
              "    <tr>\n",
              "      <th>5333</th>\n",
              "      <td>527</td>\n",
              "      <td>36</td>\n",
              "      <td>1387</td>\n",
              "      <td>5</td>\n",
              "      <td>2002-03-12 03:46:59</td>\n",
              "      <td>0</td>\n",
              "    </tr>\n",
              "    <tr>\n",
              "      <th>5334</th>\n",
              "      <td>527</td>\n",
              "      <td>36</td>\n",
              "      <td>1201</td>\n",
              "      <td>4</td>\n",
              "      <td>2002-03-12 03:46:59</td>\n",
              "      <td>1</td>\n",
              "    </tr>\n",
              "    <tr>\n",
              "      <th>5335</th>\n",
              "      <td>528</td>\n",
              "      <td>36</td>\n",
              "      <td>1291</td>\n",
              "      <td>5</td>\n",
              "      <td>2002-03-12 03:47:16</td>\n",
              "      <td>2</td>\n",
              "    </tr>\n",
              "    <tr>\n",
              "      <th>5336</th>\n",
              "      <td>528</td>\n",
              "      <td>36</td>\n",
              "      <td>2167</td>\n",
              "      <td>5</td>\n",
              "      <td>2002-03-12 03:48:25</td>\n",
              "      <td>3</td>\n",
              "    </tr>\n",
              "    <tr>\n",
              "      <th>5337</th>\n",
              "      <td>528</td>\n",
              "      <td>36</td>\n",
              "      <td>2951</td>\n",
              "      <td>4</td>\n",
              "      <td>2002-03-12 03:48:25</td>\n",
              "      <td>4</td>\n",
              "    </tr>\n",
              "    <tr>\n",
              "      <th>5338</th>\n",
              "      <td>528</td>\n",
              "      <td>36</td>\n",
              "      <td>2115</td>\n",
              "      <td>5</td>\n",
              "      <td>2002-03-12 03:48:25</td>\n",
              "      <td>5</td>\n",
              "    </tr>\n",
              "    <tr>\n",
              "      <th>5339</th>\n",
              "      <td>528</td>\n",
              "      <td>36</td>\n",
              "      <td>1912</td>\n",
              "      <td>5</td>\n",
              "      <td>2002-03-12 03:48:44</td>\n",
              "      <td>6</td>\n",
              "    </tr>\n",
              "    <tr>\n",
              "      <th>5340</th>\n",
              "      <td>528</td>\n",
              "      <td>36</td>\n",
              "      <td>2662</td>\n",
              "      <td>3</td>\n",
              "      <td>2002-03-12 03:48:44</td>\n",
              "      <td>7</td>\n",
              "    </tr>\n",
              "    <tr>\n",
              "      <th>5341</th>\n",
              "      <td>528</td>\n",
              "      <td>36</td>\n",
              "      <td>2985</td>\n",
              "      <td>4</td>\n",
              "      <td>2002-03-12 03:49:01</td>\n",
              "      <td>8</td>\n",
              "    </tr>\n",
              "    <tr>\n",
              "      <th>5343</th>\n",
              "      <td>529</td>\n",
              "      <td>36</td>\n",
              "      <td>198</td>\n",
              "      <td>5</td>\n",
              "      <td>2002-03-12 03:49:48</td>\n",
              "      <td>9</td>\n",
              "    </tr>\n",
              "  </tbody>\n",
              "</table>\n",
              "</div>\n",
              "      <button class=\"colab-df-convert\" onclick=\"convertToInteractive('df-bade6491-65c3-4cc2-aea9-b6204b95b73e')\"\n",
              "              title=\"Convert this dataframe to an interactive table.\"\n",
              "              style=\"display:none;\">\n",
              "        \n",
              "  <svg xmlns=\"http://www.w3.org/2000/svg\" height=\"24px\"viewBox=\"0 0 24 24\"\n",
              "       width=\"24px\">\n",
              "    <path d=\"M0 0h24v24H0V0z\" fill=\"none\"/>\n",
              "    <path d=\"M18.56 5.44l.94 2.06.94-2.06 2.06-.94-2.06-.94-.94-2.06-.94 2.06-2.06.94zm-11 1L8.5 8.5l.94-2.06 2.06-.94-2.06-.94L8.5 2.5l-.94 2.06-2.06.94zm10 10l.94 2.06.94-2.06 2.06-.94-2.06-.94-.94-2.06-.94 2.06-2.06.94z\"/><path d=\"M17.41 7.96l-1.37-1.37c-.4-.4-.92-.59-1.43-.59-.52 0-1.04.2-1.43.59L10.3 9.45l-7.72 7.72c-.78.78-.78 2.05 0 2.83L4 21.41c.39.39.9.59 1.41.59.51 0 1.02-.2 1.41-.59l7.78-7.78 2.81-2.81c.8-.78.8-2.07 0-2.86zM5.41 20L4 18.59l7.72-7.72 1.47 1.35L5.41 20z\"/>\n",
              "  </svg>\n",
              "      </button>\n",
              "      \n",
              "  <style>\n",
              "    .colab-df-container {\n",
              "      display:flex;\n",
              "      flex-wrap:wrap;\n",
              "      gap: 12px;\n",
              "    }\n",
              "\n",
              "    .colab-df-convert {\n",
              "      background-color: #E8F0FE;\n",
              "      border: none;\n",
              "      border-radius: 50%;\n",
              "      cursor: pointer;\n",
              "      display: none;\n",
              "      fill: #1967D2;\n",
              "      height: 32px;\n",
              "      padding: 0 0 0 0;\n",
              "      width: 32px;\n",
              "    }\n",
              "\n",
              "    .colab-df-convert:hover {\n",
              "      background-color: #E2EBFA;\n",
              "      box-shadow: 0px 1px 2px rgba(60, 64, 67, 0.3), 0px 1px 3px 1px rgba(60, 64, 67, 0.15);\n",
              "      fill: #174EA6;\n",
              "    }\n",
              "\n",
              "    [theme=dark] .colab-df-convert {\n",
              "      background-color: #3B4455;\n",
              "      fill: #D2E3FC;\n",
              "    }\n",
              "\n",
              "    [theme=dark] .colab-df-convert:hover {\n",
              "      background-color: #434B5C;\n",
              "      box-shadow: 0px 1px 3px 1px rgba(0, 0, 0, 0.15);\n",
              "      filter: drop-shadow(0px 1px 2px rgba(0, 0, 0, 0.3));\n",
              "      fill: #FFFFFF;\n",
              "    }\n",
              "  </style>\n",
              "\n",
              "      <script>\n",
              "        const buttonEl =\n",
              "          document.querySelector('#df-bade6491-65c3-4cc2-aea9-b6204b95b73e button.colab-df-convert');\n",
              "        buttonEl.style.display =\n",
              "          google.colab.kernel.accessAllowed ? 'block' : 'none';\n",
              "\n",
              "        async function convertToInteractive(key) {\n",
              "          const element = document.querySelector('#df-bade6491-65c3-4cc2-aea9-b6204b95b73e');\n",
              "          const dataTable =\n",
              "            await google.colab.kernel.invokeFunction('convertToInteractive',\n",
              "                                                     [key], {});\n",
              "          if (!dataTable) return;\n",
              "\n",
              "          const docLinkHtml = 'Like what you see? Visit the ' +\n",
              "            '<a target=\"_blank\" href=https://colab.research.google.com/notebooks/data_table.ipynb>data table notebook</a>'\n",
              "            + ' to learn more about interactive tables.';\n",
              "          element.innerHTML = '';\n",
              "          dataTable['output_type'] = 'display_data';\n",
              "          await google.colab.output.renderOutput(dataTable, element);\n",
              "          const docLink = document.createElement('div');\n",
              "          docLink.innerHTML = docLinkHtml;\n",
              "          element.appendChild(docLink);\n",
              "        }\n",
              "      </script>\n",
              "    </div>\n",
              "  </div>\n",
              "  "
            ]
          },
          "metadata": {},
          "execution_count": 40
        }
      ]
    },
    {
      "cell_type": "code",
      "source": [
        "iter_ex = iter(train_data_loader)"
      ],
      "metadata": {
        "id": "vR0C1VBbvtE3"
      },
      "execution_count": null,
      "outputs": []
    },
    {
      "cell_type": "code",
      "source": [
        "inputs, labels, mask =  next(iter_ex)\n",
        "print(f'Model Input Item Idx are : {inputs}')\n",
        "print(f'Label Item Idx are : {\"\":5} {labels}')\n",
        "print(f'Previous Masked Input Idx are {mask}')"
      ],
      "metadata": {
        "colab": {
          "base_uri": "https://localhost:8080/"
        },
        "id": "7iEdaXoov2J_",
        "outputId": "1ffab65f-5d7c-42ce-ad62-d385de7884ed"
      },
      "execution_count": null,
      "outputs": [
        {
          "output_type": "stream",
          "name": "stdout",
          "text": [
            "Model Input Item Idx are : [ 0  2  9 12]\n",
            "Label Item Idx are :       [ 1  3 10 13]\n",
            "Previous Masked Input Idx are []\n"
          ]
        }
      ]
    },
    {
      "cell_type": "markdown",
      "source": [
        "#모델 구성"
      ],
      "metadata": {
        "id": "__X5S9AHp7h-"
      }
    },
    {
      "cell_type": "code",
      "source": [
        "def mrr_k(pred, truth: int, k: int):\n",
        "    indexing = np.where(pred[:k] == truth)[0]\n",
        "    if len(indexing) > 0:\n",
        "        return 1 / (indexing[0] + 1)\n",
        "    else:\n",
        "        return 0"
      ],
      "metadata": {
        "id": "PZcNlcv2p6uG"
      },
      "execution_count": null,
      "outputs": []
    },
    {
      "cell_type": "code",
      "source": [
        "def recall_k(pred, truth: int, k: int) -> int:\n",
        "    answer = truth in pred[:k]\n",
        "    return int(answer)"
      ],
      "metadata": {
        "id": "9jBVXwvL8dZk"
      },
      "execution_count": null,
      "outputs": []
    },
    {
      "cell_type": "markdown",
      "source": [
        "모델 성능 평가를 위한 지표로 MRR과 Recall@k를 사용한다."
      ],
      "metadata": {
        "id": "BoaX8hk0wZ11"
      }
    },
    {
      "cell_type": "markdown",
      "source": [
        "추천 시스템에서는 몇 번째로 맞추느냐도 중요하여 순서에 민감한 지표인 MRR, NDCG 등을 사용한다.\n",
        "<br/>MRR은 정답 아이템이 나온 순번의 역수 값이다."
      ],
      "metadata": {
        "id": "AUGwqRPgxIk_"
      }
    },
    {
      "cell_type": "markdown",
      "source": [
        "Session-Based Recommendation Task에서는 모델이 k개의 아이템을 제시했을 때\n",
        "<br/>사용자가 클릭/ 구매한 n개의 아이템이 많아야 성능이 뛰어나기 때문에\n",
        "<br/>Recall의 개념을 확장한 Recall@k 지표를 사용한다."
      ],
      "metadata": {
        "id": "dvI2-Gi0wyxH"
      }
    },
    {
      "cell_type": "code",
      "source": [
        "def create_model(args):\n",
        "    inputs = Input(batch_shape=(args.batch_size, 1, args.num_items))\n",
        "    gru, _ = GRU(args.hsz, stateful=True, return_state=True, name='GRU')(inputs)\n",
        "    dropout = Dropout(args.drop_rate)(gru)\n",
        "    predictions = Dense(args.num_items, activation='softmax')(dropout)\n",
        "    model = Model(inputs=inputs, outputs=[predictions])\n",
        "    model.compile(loss=categorical_crossentropy, optimizer=Adam(args.lr), metrics=['accuracy'])\n",
        "    model.summary()\n",
        "    return model"
      ],
      "metadata": {
        "id": "YaTNXGWVp6ye"
      },
      "execution_count": null,
      "outputs": []
    },
    {
      "cell_type": "code",
      "source": [
        "class Args:\n",
        "    def __init__(self, train, val, test, batch_size, hsz, drop_rate, lr, epochs, k):\n",
        "        self.train = train\n",
        "        self.val = val\n",
        "        self.test = test\n",
        "        self.num_items = train['ItemID'].nunique()\n",
        "        self.num_sessions = train['SessionID'].nunique()\n",
        "        self.batch_size = batch_size\n",
        "        self.hsz = hsz\n",
        "        self.drop_rate = drop_rate\n",
        "        self.lr = lr\n",
        "        self.epochs = epochs\n",
        "        self.k = k"
      ],
      "metadata": {
        "id": "zyUcS9bQ89hs"
      },
      "execution_count": null,
      "outputs": []
    },
    {
      "cell_type": "markdown",
      "source": [
        "모델에 사용할 하이퍼 파라미터를 Class형식으로 관리한다."
      ],
      "metadata": {
        "id": "spvsjURYxoy1"
      }
    },
    {
      "cell_type": "markdown",
      "source": [
        "#모델 학습"
      ],
      "metadata": {
        "id": "RgQdoSuop99G"
      }
    },
    {
      "cell_type": "markdown",
      "source": [
        "##Hyper Parameter Tuning"
      ],
      "metadata": {
        "id": "0vbTYYeLsBFi"
      }
    },
    {
      "cell_type": "code",
      "source": [
        "hyper_parameter_tuning = pd.DataFrame({'Model':[1, 2, 3, 4],\n",
        "                             'Batch Size':[256, 512, 256, 512],\n",
        "                             'Learning Rate':[0.001, 0.001, 0.01, 0.01]})"
      ],
      "metadata": {
        "id": "Nl1S_eLKIETH"
      },
      "execution_count": null,
      "outputs": []
    },
    {
      "cell_type": "code",
      "source": [
        "hyper_parameter_tuning"
      ],
      "metadata": {
        "colab": {
          "base_uri": "https://localhost:8080/",
          "height": 175
        },
        "id": "sWLVe9zXJI6P",
        "outputId": "8af5aa81-672f-41aa-c114-4901a2037717"
      },
      "execution_count": null,
      "outputs": [
        {
          "output_type": "execute_result",
          "data": {
            "text/plain": [
              "   Model  Batch Size  Learning Rate\n",
              "0      1         256          0.001\n",
              "1      2         512          0.001\n",
              "2      3         256          0.010\n",
              "3      4         512          0.010"
            ],
            "text/html": [
              "\n",
              "  <div id=\"df-6cbf7c05-c15c-4aba-b72d-17b28030ff05\">\n",
              "    <div class=\"colab-df-container\">\n",
              "      <div>\n",
              "<style scoped>\n",
              "    .dataframe tbody tr th:only-of-type {\n",
              "        vertical-align: middle;\n",
              "    }\n",
              "\n",
              "    .dataframe tbody tr th {\n",
              "        vertical-align: top;\n",
              "    }\n",
              "\n",
              "    .dataframe thead th {\n",
              "        text-align: right;\n",
              "    }\n",
              "</style>\n",
              "<table border=\"1\" class=\"dataframe\">\n",
              "  <thead>\n",
              "    <tr style=\"text-align: right;\">\n",
              "      <th></th>\n",
              "      <th>Model</th>\n",
              "      <th>Batch Size</th>\n",
              "      <th>Learning Rate</th>\n",
              "    </tr>\n",
              "  </thead>\n",
              "  <tbody>\n",
              "    <tr>\n",
              "      <th>0</th>\n",
              "      <td>1</td>\n",
              "      <td>256</td>\n",
              "      <td>0.001</td>\n",
              "    </tr>\n",
              "    <tr>\n",
              "      <th>1</th>\n",
              "      <td>2</td>\n",
              "      <td>512</td>\n",
              "      <td>0.001</td>\n",
              "    </tr>\n",
              "    <tr>\n",
              "      <th>2</th>\n",
              "      <td>3</td>\n",
              "      <td>256</td>\n",
              "      <td>0.010</td>\n",
              "    </tr>\n",
              "    <tr>\n",
              "      <th>3</th>\n",
              "      <td>4</td>\n",
              "      <td>512</td>\n",
              "      <td>0.010</td>\n",
              "    </tr>\n",
              "  </tbody>\n",
              "</table>\n",
              "</div>\n",
              "      <button class=\"colab-df-convert\" onclick=\"convertToInteractive('df-6cbf7c05-c15c-4aba-b72d-17b28030ff05')\"\n",
              "              title=\"Convert this dataframe to an interactive table.\"\n",
              "              style=\"display:none;\">\n",
              "        \n",
              "  <svg xmlns=\"http://www.w3.org/2000/svg\" height=\"24px\"viewBox=\"0 0 24 24\"\n",
              "       width=\"24px\">\n",
              "    <path d=\"M0 0h24v24H0V0z\" fill=\"none\"/>\n",
              "    <path d=\"M18.56 5.44l.94 2.06.94-2.06 2.06-.94-2.06-.94-.94-2.06-.94 2.06-2.06.94zm-11 1L8.5 8.5l.94-2.06 2.06-.94-2.06-.94L8.5 2.5l-.94 2.06-2.06.94zm10 10l.94 2.06.94-2.06 2.06-.94-2.06-.94-.94-2.06-.94 2.06-2.06.94z\"/><path d=\"M17.41 7.96l-1.37-1.37c-.4-.4-.92-.59-1.43-.59-.52 0-1.04.2-1.43.59L10.3 9.45l-7.72 7.72c-.78.78-.78 2.05 0 2.83L4 21.41c.39.39.9.59 1.41.59.51 0 1.02-.2 1.41-.59l7.78-7.78 2.81-2.81c.8-.78.8-2.07 0-2.86zM5.41 20L4 18.59l7.72-7.72 1.47 1.35L5.41 20z\"/>\n",
              "  </svg>\n",
              "      </button>\n",
              "      \n",
              "  <style>\n",
              "    .colab-df-container {\n",
              "      display:flex;\n",
              "      flex-wrap:wrap;\n",
              "      gap: 12px;\n",
              "    }\n",
              "\n",
              "    .colab-df-convert {\n",
              "      background-color: #E8F0FE;\n",
              "      border: none;\n",
              "      border-radius: 50%;\n",
              "      cursor: pointer;\n",
              "      display: none;\n",
              "      fill: #1967D2;\n",
              "      height: 32px;\n",
              "      padding: 0 0 0 0;\n",
              "      width: 32px;\n",
              "    }\n",
              "\n",
              "    .colab-df-convert:hover {\n",
              "      background-color: #E2EBFA;\n",
              "      box-shadow: 0px 1px 2px rgba(60, 64, 67, 0.3), 0px 1px 3px 1px rgba(60, 64, 67, 0.15);\n",
              "      fill: #174EA6;\n",
              "    }\n",
              "\n",
              "    [theme=dark] .colab-df-convert {\n",
              "      background-color: #3B4455;\n",
              "      fill: #D2E3FC;\n",
              "    }\n",
              "\n",
              "    [theme=dark] .colab-df-convert:hover {\n",
              "      background-color: #434B5C;\n",
              "      box-shadow: 0px 1px 3px 1px rgba(0, 0, 0, 0.15);\n",
              "      filter: drop-shadow(0px 1px 2px rgba(0, 0, 0, 0.3));\n",
              "      fill: #FFFFFF;\n",
              "    }\n",
              "  </style>\n",
              "\n",
              "      <script>\n",
              "        const buttonEl =\n",
              "          document.querySelector('#df-6cbf7c05-c15c-4aba-b72d-17b28030ff05 button.colab-df-convert');\n",
              "        buttonEl.style.display =\n",
              "          google.colab.kernel.accessAllowed ? 'block' : 'none';\n",
              "\n",
              "        async function convertToInteractive(key) {\n",
              "          const element = document.querySelector('#df-6cbf7c05-c15c-4aba-b72d-17b28030ff05');\n",
              "          const dataTable =\n",
              "            await google.colab.kernel.invokeFunction('convertToInteractive',\n",
              "                                                     [key], {});\n",
              "          if (!dataTable) return;\n",
              "\n",
              "          const docLinkHtml = 'Like what you see? Visit the ' +\n",
              "            '<a target=\"_blank\" href=https://colab.research.google.com/notebooks/data_table.ipynb>data table notebook</a>'\n",
              "            + ' to learn more about interactive tables.';\n",
              "          element.innerHTML = '';\n",
              "          dataTable['output_type'] = 'display_data';\n",
              "          await google.colab.output.renderOutput(dataTable, element);\n",
              "          const docLink = document.createElement('div');\n",
              "          docLink.innerHTML = docLinkHtml;\n",
              "          element.appendChild(docLink);\n",
              "        }\n",
              "      </script>\n",
              "    </div>\n",
              "  </div>\n",
              "  "
            ]
          },
          "metadata": {},
          "execution_count": 50
        }
      ]
    },
    {
      "cell_type": "markdown",
      "source": [
        "batch size는 256과 512, learning rate는 0.001과 0.01로 번갈아가며 모델의 하이퍼 파라미터를 설정한다."
      ],
      "metadata": {
        "id": "ItfhxlZ-_fMO"
      }
    },
    {
      "cell_type": "markdown",
      "source": [
        "##First Model"
      ],
      "metadata": {
        "id": "4VwnHGWBr_ES"
      }
    },
    {
      "cell_type": "code",
      "source": [
        "args = Args(train, val, test, batch_size=256, hsz=50, drop_rate=0.1, lr=0.001, epochs=3, k=5)"
      ],
      "metadata": {
        "id": "cwQBOWJgx1mf"
      },
      "execution_count": null,
      "outputs": []
    },
    {
      "cell_type": "markdown",
      "source": [
        "batch size를 256, learning rate를 0.001로 설정한다.\n",
        "<br/>batch size가 작을 때 수렴 속도가 빠르고 regularize 효과가 있으나 local minima에 빠질 위험이 있다.\n",
        "<br/>learning rate가 작을 때 overshoot이 생기지 않으나 local minima에 빠질 위험이 있다."
      ],
      "metadata": {
        "id": "c-0CKnA1Jghl"
      }
    },
    {
      "cell_type": "code",
      "source": [
        "model = create_model(args)"
      ],
      "metadata": {
        "id": "O14-6MQSxrmm",
        "colab": {
          "base_uri": "https://localhost:8080/"
        },
        "outputId": "bd21290e-ace9-49a3-ec82-be0006c86ab8"
      },
      "execution_count": null,
      "outputs": [
        {
          "output_type": "stream",
          "name": "stdout",
          "text": [
            "Model: \"model_1\"\n",
            "_________________________________________________________________\n",
            " Layer (type)                Output Shape              Param #   \n",
            "=================================================================\n",
            " input_2 (InputLayer)        [(256, 1, 1213)]          0         \n",
            "                                                                 \n",
            " GRU (GRU)                   [(256, 50),               189750    \n",
            "                              (256, 50)]                         \n",
            "                                                                 \n",
            " dropout_1 (Dropout)         (256, 50)                 0         \n",
            "                                                                 \n",
            " dense_1 (Dense)             (256, 1213)               61863     \n",
            "                                                                 \n",
            "=================================================================\n",
            "Total params: 251,613\n",
            "Trainable params: 251,613\n",
            "Non-trainable params: 0\n",
            "_________________________________________________________________\n"
          ]
        }
      ]
    },
    {
      "cell_type": "code",
      "source": [
        "def train_model(model, args):\n",
        "    train_dataset = SessionDataset(args.train)\n",
        "    train_loader = SessionDataLoader(train_dataset, batch_size=args.batch_size)\n",
        "\n",
        "    history = {'train_loss': [], \n",
        "           'train_accuracy': [], \n",
        "           'val_recall': [], \n",
        "           'val_mrr': []}\n",
        "\n",
        "    for epoch in range(1, args.epochs + 1):\n",
        "        total_step = len(args.train) - args.train['SessionID'].nunique()\n",
        "        train_loader = tqdm(train_loader, total=total_step // args.batch_size, desc='Train', mininterval=1)\n",
        "        for feat, target, mask in train_loader:\n",
        "            reset_hidden_states(model, mask)  \n",
        "\n",
        "            input_ohe = to_categorical(feat, num_classes=args.num_items)\n",
        "            input_ohe = np.expand_dims(input_ohe, axis=1)\n",
        "            target_ohe = to_categorical(target, num_classes=args.num_items)\n",
        "\n",
        "            result = model.train_on_batch(input_ohe, target_ohe)\n",
        "            train_loader.set_postfix(train_loss=result[0], accuracy = result[1])\n",
        " \n",
        "        val_recall, val_mrr = get_metrics(args.val, model, args, args.k)  \n",
        "\n",
        "        print(f\"\\t - Recall@{args.k} epoch {epoch}: {val_recall:3f}\")\n",
        "        print(f\"\\t - MRR@{args.k}    epoch {epoch}: {val_mrr:3f}\\n\")\n",
        "\n",
        "        history['train_loss'].append(result[0])\n",
        "        history['train_accuracy'].append(result[1])\n",
        "\n",
        "        history['val_recall'].append(val_recall)\n",
        "        history['val_mrr'].append(val_mrr)\n",
        "      \n",
        "    return history"
      ],
      "metadata": {
        "id": "Ew3WXxvrp61N"
      },
      "execution_count": null,
      "outputs": []
    },
    {
      "cell_type": "markdown",
      "source": [
        "reset_hidden_states는 종료된 session은 hidden_state를 초기화한다.\n",
        "<br/>get_metrics에서 검증 데이터를 다룬다."
      ],
      "metadata": {
        "id": "t-SSirB-y1vn"
      }
    },
    {
      "cell_type": "code",
      "source": [
        "def reset_hidden_states(model, mask):\n",
        "    gru_layer = model.get_layer(name='GRU') \n",
        "    hidden_states = gru_layer.states[0].numpy()  \n",
        "    for elt in mask:  \n",
        "        hidden_states[elt, :] = 0  \n",
        "    gru_layer.reset_states(states=hidden_states)"
      ],
      "metadata": {
        "id": "xF5REQ5n9Ctr"
      },
      "execution_count": null,
      "outputs": []
    },
    {
      "cell_type": "markdown",
      "source": [
        "model에서 gru layer를 가져온다.\n",
        "<br/>gru_layer의 parameter를 가져온다.\n",
        "<br/>mask된 인덱스 즉, 종료된 세션의 인덱스를 돌면서 parameter를 초기화한다."
      ],
      "metadata": {
        "id": "xpvesY7uzJXu"
      }
    },
    {
      "cell_type": "code",
      "source": [
        "def get_metrics(data, model, args, k: int):  \n",
        "                                             \n",
        "    dataset = SessionDataset(data)\n",
        "    loader = SessionDataLoader(dataset, batch_size=args.batch_size)\n",
        "    recall_list, mrr_list = [], []\n",
        "\n",
        "    total_step = len(data) - data['SessionID'].nunique()\n",
        "    for inputs, label, mask in tqdm(loader, total=total_step // args.batch_size, desc='Evaluation', mininterval=1):\n",
        "        reset_hidden_states(model, mask)\n",
        "        input_ohe = to_categorical(inputs, num_classes=args.num_items)\n",
        "        input_ohe = np.expand_dims(input_ohe, axis=1)\n",
        "\n",
        "        pred = model.predict(input_ohe, batch_size=args.batch_size)\n",
        "        pred_arg = tf.argsort(pred, direction='DESCENDING')  \n",
        "\n",
        "        length = len(inputs)\n",
        "        recall_list.extend([recall_k(pred_arg[i], label[i], k) for i in range(length)])\n",
        "        mrr_list.extend([mrr_k(pred_arg[i], label[i], k) for i in range(length)])\n",
        "\n",
        "    recall, mrr = np.mean(recall_list), np.mean(mrr_list)\n",
        "    \n",
        "    return recall, mrr"
      ],
      "metadata": {
        "id": "822HUWTP9C0c"
      },
      "execution_count": null,
      "outputs": []
    },
    {
      "cell_type": "markdown",
      "source": [
        "검증 데이터와 시험 데이터를 평가한다.\n",
        "<br/>훈련 데이터와 거의 같지만 모델 성능 평가 지표 MRR과 Recall@k를 구한다.\n",
        "<br/>Softmax 값이 큰 순서대로 sort한다."
      ],
      "metadata": {
        "id": "qT2adKTazte_"
      }
    },
    {
      "cell_type": "code",
      "source": [
        "train_model(model, args)"
      ],
      "metadata": {
        "id": "pVrAoQBI1b8B",
        "colab": {
          "base_uri": "https://localhost:8080/",
          "height": 360
        },
        "outputId": "e86a901c-86ce-468e-c3c9-ecd9bbc30041"
      },
      "execution_count": null,
      "outputs": [
        {
          "output_type": "stream",
          "name": "stderr",
          "text": [
            "Train:  81%|████████▏ | 26/32 [00:06<00:01,  3.98it/s, accuracy=0, train_loss=7.1]\n",
            "Evaluation: 0it [00:00, ?it/s]\n"
          ]
        },
        {
          "output_type": "error",
          "ename": "IndexError",
          "evalue": "ignored",
          "traceback": [
            "\u001b[0;31m---------------------------------------------------------------------------\u001b[0m",
            "\u001b[0;31mIndexError\u001b[0m                                Traceback (most recent call last)",
            "\u001b[0;32m<ipython-input-53-feeb9149d92b>\u001b[0m in \u001b[0;36m<module>\u001b[0;34m()\u001b[0m\n\u001b[0;32m----> 1\u001b[0;31m \u001b[0mtrain_model\u001b[0m\u001b[0;34m(\u001b[0m\u001b[0mmodel\u001b[0m\u001b[0;34m,\u001b[0m \u001b[0margs\u001b[0m\u001b[0;34m)\u001b[0m\u001b[0;34m\u001b[0m\u001b[0;34m\u001b[0m\u001b[0m\n\u001b[0m",
            "\u001b[0;32m<ipython-input-50-16f057b1d62e>\u001b[0m in \u001b[0;36mtrain_model\u001b[0;34m(model, args)\u001b[0m\n\u001b[1;32m     21\u001b[0m             \u001b[0mtrain_loader\u001b[0m\u001b[0;34m.\u001b[0m\u001b[0mset_postfix\u001b[0m\u001b[0;34m(\u001b[0m\u001b[0mtrain_loss\u001b[0m\u001b[0;34m=\u001b[0m\u001b[0mresult\u001b[0m\u001b[0;34m[\u001b[0m\u001b[0;36m0\u001b[0m\u001b[0;34m]\u001b[0m\u001b[0;34m,\u001b[0m \u001b[0maccuracy\u001b[0m \u001b[0;34m=\u001b[0m \u001b[0mresult\u001b[0m\u001b[0;34m[\u001b[0m\u001b[0;36m1\u001b[0m\u001b[0;34m]\u001b[0m\u001b[0;34m)\u001b[0m\u001b[0;34m\u001b[0m\u001b[0;34m\u001b[0m\u001b[0m\n\u001b[1;32m     22\u001b[0m \u001b[0;34m\u001b[0m\u001b[0m\n\u001b[0;32m---> 23\u001b[0;31m         \u001b[0mval_recall\u001b[0m\u001b[0;34m,\u001b[0m \u001b[0mval_mrr\u001b[0m \u001b[0;34m=\u001b[0m \u001b[0mget_metrics\u001b[0m\u001b[0;34m(\u001b[0m\u001b[0margs\u001b[0m\u001b[0;34m.\u001b[0m\u001b[0mval\u001b[0m\u001b[0;34m,\u001b[0m \u001b[0mmodel\u001b[0m\u001b[0;34m,\u001b[0m \u001b[0margs\u001b[0m\u001b[0;34m,\u001b[0m \u001b[0margs\u001b[0m\u001b[0;34m.\u001b[0m\u001b[0mk\u001b[0m\u001b[0;34m)\u001b[0m\u001b[0;34m\u001b[0m\u001b[0;34m\u001b[0m\u001b[0m\n\u001b[0m\u001b[1;32m     24\u001b[0m \u001b[0;34m\u001b[0m\u001b[0m\n\u001b[1;32m     25\u001b[0m         \u001b[0mprint\u001b[0m\u001b[0;34m(\u001b[0m\u001b[0;34mf\"\\t - Recall@{args.k} epoch {epoch}: {val_recall:3f}\"\u001b[0m\u001b[0;34m)\u001b[0m\u001b[0;34m\u001b[0m\u001b[0;34m\u001b[0m\u001b[0m\n",
            "\u001b[0;32m<ipython-input-52-79959e55ed22>\u001b[0m in \u001b[0;36mget_metrics\u001b[0;34m(data, model, args, k)\u001b[0m\n\u001b[1;32m      6\u001b[0m \u001b[0;34m\u001b[0m\u001b[0m\n\u001b[1;32m      7\u001b[0m     \u001b[0mtotal_step\u001b[0m \u001b[0;34m=\u001b[0m \u001b[0mlen\u001b[0m\u001b[0;34m(\u001b[0m\u001b[0mdata\u001b[0m\u001b[0;34m)\u001b[0m \u001b[0;34m-\u001b[0m \u001b[0mdata\u001b[0m\u001b[0;34m[\u001b[0m\u001b[0;34m'SessionID'\u001b[0m\u001b[0;34m]\u001b[0m\u001b[0;34m.\u001b[0m\u001b[0mnunique\u001b[0m\u001b[0;34m(\u001b[0m\u001b[0;34m)\u001b[0m\u001b[0;34m\u001b[0m\u001b[0;34m\u001b[0m\u001b[0m\n\u001b[0;32m----> 8\u001b[0;31m     \u001b[0;32mfor\u001b[0m \u001b[0minputs\u001b[0m\u001b[0;34m,\u001b[0m \u001b[0mlabel\u001b[0m\u001b[0;34m,\u001b[0m \u001b[0mmask\u001b[0m \u001b[0;32min\u001b[0m \u001b[0mtqdm\u001b[0m\u001b[0;34m(\u001b[0m\u001b[0mloader\u001b[0m\u001b[0;34m,\u001b[0m \u001b[0mtotal\u001b[0m\u001b[0;34m=\u001b[0m\u001b[0mtotal_step\u001b[0m \u001b[0;34m//\u001b[0m \u001b[0margs\u001b[0m\u001b[0;34m.\u001b[0m\u001b[0mbatch_size\u001b[0m\u001b[0;34m,\u001b[0m \u001b[0mdesc\u001b[0m\u001b[0;34m=\u001b[0m\u001b[0;34m'Evaluation'\u001b[0m\u001b[0;34m,\u001b[0m \u001b[0mmininterval\u001b[0m\u001b[0;34m=\u001b[0m\u001b[0;36m1\u001b[0m\u001b[0;34m)\u001b[0m\u001b[0;34m:\u001b[0m\u001b[0;34m\u001b[0m\u001b[0;34m\u001b[0m\u001b[0m\n\u001b[0m\u001b[1;32m      9\u001b[0m         \u001b[0mreset_hidden_states\u001b[0m\u001b[0;34m(\u001b[0m\u001b[0mmodel\u001b[0m\u001b[0;34m,\u001b[0m \u001b[0mmask\u001b[0m\u001b[0;34m)\u001b[0m\u001b[0;34m\u001b[0m\u001b[0;34m\u001b[0m\u001b[0m\n\u001b[1;32m     10\u001b[0m         \u001b[0minput_ohe\u001b[0m \u001b[0;34m=\u001b[0m \u001b[0mto_categorical\u001b[0m\u001b[0;34m(\u001b[0m\u001b[0minputs\u001b[0m\u001b[0;34m,\u001b[0m \u001b[0mnum_classes\u001b[0m\u001b[0;34m=\u001b[0m\u001b[0margs\u001b[0m\u001b[0;34m.\u001b[0m\u001b[0mnum_items\u001b[0m\u001b[0;34m)\u001b[0m\u001b[0;34m\u001b[0m\u001b[0;34m\u001b[0m\u001b[0m\n",
            "\u001b[0;32m/usr/local/lib/python3.7/dist-packages/tqdm/std.py\u001b[0m in \u001b[0;36m__iter__\u001b[0;34m(self)\u001b[0m\n\u001b[1;32m   1193\u001b[0m \u001b[0;34m\u001b[0m\u001b[0m\n\u001b[1;32m   1194\u001b[0m         \u001b[0;32mtry\u001b[0m\u001b[0;34m:\u001b[0m\u001b[0;34m\u001b[0m\u001b[0;34m\u001b[0m\u001b[0m\n\u001b[0;32m-> 1195\u001b[0;31m             \u001b[0;32mfor\u001b[0m \u001b[0mobj\u001b[0m \u001b[0;32min\u001b[0m \u001b[0miterable\u001b[0m\u001b[0;34m:\u001b[0m\u001b[0;34m\u001b[0m\u001b[0;34m\u001b[0m\u001b[0m\n\u001b[0m\u001b[1;32m   1196\u001b[0m                 \u001b[0;32myield\u001b[0m \u001b[0mobj\u001b[0m\u001b[0;34m\u001b[0m\u001b[0;34m\u001b[0m\u001b[0m\n\u001b[1;32m   1197\u001b[0m                 \u001b[0;31m# Update and possibly print the progressbar.\u001b[0m\u001b[0;34m\u001b[0m\u001b[0;34m\u001b[0m\u001b[0;34m\u001b[0m\u001b[0m\n",
            "\u001b[0;32m<ipython-input-39-ad9d1fcdc625>\u001b[0m in \u001b[0;36m__iter__\u001b[0;34m(self)\u001b[0m\n\u001b[1;32m     14\u001b[0m         \"\"\"\n\u001b[1;32m     15\u001b[0m \u001b[0;34m\u001b[0m\u001b[0m\n\u001b[0;32m---> 16\u001b[0;31m         \u001b[0mstart\u001b[0m\u001b[0;34m,\u001b[0m \u001b[0mend\u001b[0m\u001b[0;34m,\u001b[0m \u001b[0mmask\u001b[0m\u001b[0;34m,\u001b[0m \u001b[0mlast_session\u001b[0m\u001b[0;34m,\u001b[0m \u001b[0mfinished\u001b[0m \u001b[0;34m=\u001b[0m \u001b[0mself\u001b[0m\u001b[0;34m.\u001b[0m\u001b[0minitialize\u001b[0m\u001b[0;34m(\u001b[0m\u001b[0;34m)\u001b[0m\u001b[0;34m\u001b[0m\u001b[0;34m\u001b[0m\u001b[0m\n\u001b[0m\u001b[1;32m     17\u001b[0m         \"\"\"\n\u001b[1;32m     18\u001b[0m         \u001b[0mstart\u001b[0m \u001b[0;34m:\u001b[0m \u001b[0mIndex\u001b[0m \u001b[0mWhere\u001b[0m \u001b[0mSession\u001b[0m \u001b[0mStart\u001b[0m\u001b[0;34m\u001b[0m\u001b[0;34m\u001b[0m\u001b[0m\n",
            "\u001b[0;32m<ipython-input-39-ad9d1fcdc625>\u001b[0m in \u001b[0;36minitialize\u001b[0;34m(self)\u001b[0m\n\u001b[1;32m     35\u001b[0m         \u001b[0mlast_session\u001b[0m \u001b[0;34m=\u001b[0m \u001b[0mself\u001b[0m\u001b[0;34m.\u001b[0m\u001b[0mbatch_size\u001b[0m \u001b[0;34m-\u001b[0m \u001b[0;36m1\u001b[0m    \u001b[0;31m# 마지막으로 다루고 있는 세션 Index를 저장한다.\u001b[0m\u001b[0;34m\u001b[0m\u001b[0;34m\u001b[0m\u001b[0m\n\u001b[1;32m     36\u001b[0m \u001b[0;34m\u001b[0m\u001b[0m\n\u001b[0;32m---> 37\u001b[0;31m         \u001b[0mstart\u001b[0m \u001b[0;34m=\u001b[0m \u001b[0mself\u001b[0m\u001b[0;34m.\u001b[0m\u001b[0mdataset\u001b[0m\u001b[0;34m.\u001b[0m\u001b[0mclick_offsets\u001b[0m\u001b[0;34m[\u001b[0m\u001b[0mself\u001b[0m\u001b[0;34m.\u001b[0m\u001b[0mdataset\u001b[0m\u001b[0;34m.\u001b[0m\u001b[0msession_idx\u001b[0m\u001b[0;34m[\u001b[0m\u001b[0mfirst_iters\u001b[0m\u001b[0;34m]\u001b[0m\u001b[0;34m]\u001b[0m      \u001b[0;31m# data 상에서 session이 시작된 위치를 가져온다.\u001b[0m\u001b[0;34m\u001b[0m\u001b[0;34m\u001b[0m\u001b[0m\n\u001b[0m\u001b[1;32m     38\u001b[0m         \u001b[0mend\u001b[0m \u001b[0;34m=\u001b[0m \u001b[0mself\u001b[0m\u001b[0;34m.\u001b[0m\u001b[0mdataset\u001b[0m\u001b[0;34m.\u001b[0m\u001b[0mclick_offsets\u001b[0m\u001b[0;34m[\u001b[0m\u001b[0mself\u001b[0m\u001b[0;34m.\u001b[0m\u001b[0mdataset\u001b[0m\u001b[0;34m.\u001b[0m\u001b[0msession_idx\u001b[0m\u001b[0;34m[\u001b[0m\u001b[0mfirst_iters\u001b[0m\u001b[0;34m]\u001b[0m \u001b[0;34m+\u001b[0m \u001b[0;36m1\u001b[0m\u001b[0;34m]\u001b[0m  \u001b[0;31m# session이 끝난 위치 바로 다음 위치를 가져온다.\u001b[0m\u001b[0;34m\u001b[0m\u001b[0;34m\u001b[0m\u001b[0m\n\u001b[1;32m     39\u001b[0m \u001b[0;34m\u001b[0m\u001b[0m\n",
            "\u001b[0;31mIndexError\u001b[0m: index 43 is out of bounds for axis 0 with size 43"
          ]
        }
      ]
    },
    {
      "cell_type": "code",
      "source": [
        "stats_info(train, 'Train')\n",
        "stats_info(val, 'Validation')\n",
        "stats_info(test, 'Test')"
      ],
      "metadata": {
        "colab": {
          "base_uri": "https://localhost:8080/"
        },
        "id": "kkEUfoOCrC1T",
        "outputId": "0b45cbee-69f6-4c6a-a105-ce1b109ea0d6"
      },
      "execution_count": null,
      "outputs": [
        {
          "output_type": "stream",
          "name": "stdout",
          "text": [
            "* Train Set Stats Info\n",
            "\t Events: 10911\n",
            "\t Sessions: 2509\n",
            "\t Items: 1213\n",
            "\t First Time : 2002-02-28 19:14:41\n",
            "\t Last Time : 2003-02-24 06:02:24\n",
            "\n",
            "* Validation Set Stats Info\n",
            "\t Events: 114\n",
            "\t Sessions: 43\n",
            "\t Items: 113\n",
            "\t First Time : 2003-02-24 17:02:07\n",
            "\t Last Time : 2003-02-26 16:18:03\n",
            "\n",
            "* Test Set Stats Info\n",
            "\t Events: 43\n",
            "\t Sessions: 17\n",
            "\t Items: 42\n",
            "\t First Time : 2003-02-26 15:23:29\n",
            "\t Last Time : 2003-02-28 17:49:08\n",
            "\n"
          ]
        }
      ]
    },
    {
      "cell_type": "markdown",
      "source": [
        "IndexError: index 43 is out of bounds for axis 0 with size 43가 발생한다.\n",
        "<br/>이 에러의 원인은 Validation Set의 Session 개수 43 혹은 Test Set의 Events 개수 43일 것이다.\n",
        "<br/>나중에 문제를 해결하면 모델 학습을 진행한다."
      ],
      "metadata": {
        "id": "bAfqRpQPooMg"
      }
    },
    {
      "cell_type": "code",
      "source": [
        "model_history = copy.deepcopy(history)"
      ],
      "metadata": {
        "id": "dxeOh1SbDADd"
      },
      "execution_count": null,
      "outputs": []
    },
    {
      "cell_type": "code",
      "source": [
        "def test_model(model, args, test):\n",
        "\n",
        "    history = {'test_recall': [], \n",
        "           'test_mrr': []}\n",
        "\n",
        "    test_recall, test_mrr = get_metrics(train, model, args, 3)\n",
        "    print(f\"\\t - Recall@{args.k}: {test_recall:3f}\")\n",
        "    print(f\"\\t - MRR@{args.k}: {test_mrr:3f}\\n\")\n",
        "    \n",
        "    history['val_recall'].append(test_recall)\n",
        "    history['val_mrr'].append(test_mrr)"
      ],
      "metadata": {
        "id": "XGDsr5YD9yz7"
      },
      "execution_count": null,
      "outputs": []
    },
    {
      "cell_type": "code",
      "source": [
        "model_test_history = copy.deepcopy(history)"
      ],
      "metadata": {
        "id": "disrrOVQEtEn"
      },
      "execution_count": null,
      "outputs": []
    },
    {
      "cell_type": "code",
      "source": [
        "test_model(model, args, test)"
      ],
      "metadata": {
        "id": "ek4RsUvn1lUQ"
      },
      "execution_count": null,
      "outputs": []
    },
    {
      "cell_type": "markdown",
      "source": [
        "##Second Model"
      ],
      "metadata": {
        "id": "gF1hxs0ur59S"
      }
    },
    {
      "cell_type": "markdown",
      "source": [
        "batch size를 512, learning rate를 0.001로 설정한다.\n",
        "<br/>batch size가 클 때 optimal minima에 도달할 수 있으나 과적합 문제가 발생 할 수 있다.\n",
        "<br/>learning rate가 작을 때 overshoot이 생기지 않으나 local minima에 빠질 위험이 있다."
      ],
      "metadata": {
        "id": "I3KD3ZzBJj0G"
      }
    },
    {
      "cell_type": "code",
      "source": [
        "args = Args(train, val, test, batch_size=256, hsz=50, drop_rate=0.1, lr=0.001, epochs=3, k=5)"
      ],
      "metadata": {
        "id": "7Gmf2_Cp9PjL"
      },
      "execution_count": null,
      "outputs": []
    },
    {
      "cell_type": "code",
      "source": [
        "model = create_model(args)"
      ],
      "metadata": {
        "id": "3T33RClq9ZBj",
        "colab": {
          "base_uri": "https://localhost:8080/"
        },
        "outputId": "5e6d01d2-77bd-4158-ce0c-3d2eb5191f2f"
      },
      "execution_count": null,
      "outputs": [
        {
          "output_type": "stream",
          "name": "stdout",
          "text": [
            "Model: \"model_2\"\n",
            "_________________________________________________________________\n",
            " Layer (type)                Output Shape              Param #   \n",
            "=================================================================\n",
            " input_3 (InputLayer)        [(256, 1, 1213)]          0         \n",
            "                                                                 \n",
            " GRU (GRU)                   [(256, 50),               189750    \n",
            "                              (256, 50)]                         \n",
            "                                                                 \n",
            " dropout_2 (Dropout)         (256, 50)                 0         \n",
            "                                                                 \n",
            " dense_2 (Dense)             (256, 1213)               61863     \n",
            "                                                                 \n",
            "=================================================================\n",
            "Total params: 251,613\n",
            "Trainable params: 251,613\n",
            "Non-trainable params: 0\n",
            "_________________________________________________________________\n"
          ]
        }
      ]
    },
    {
      "cell_type": "code",
      "source": [
        "train_model(model, args)"
      ],
      "metadata": {
        "id": "2fLCvO1H9ZLa"
      },
      "execution_count": null,
      "outputs": []
    },
    {
      "cell_type": "code",
      "source": [
        "model2_history = copy.deepcopy(history)"
      ],
      "metadata": {
        "id": "H3ATJ845ELcN"
      },
      "execution_count": null,
      "outputs": []
    },
    {
      "cell_type": "code",
      "source": [
        "test_model(model, args, test)"
      ],
      "metadata": {
        "id": "Qy5nkn3y9wgz"
      },
      "execution_count": null,
      "outputs": []
    },
    {
      "cell_type": "markdown",
      "source": [
        "##Third Model"
      ],
      "metadata": {
        "id": "of5SJp4ar4aB"
      }
    },
    {
      "cell_type": "markdown",
      "source": [
        "batch size를 256, learning rate를 0.01로 설정한다.\n",
        "<br/>batch size가 작을 때 수렴 속도가 빠르고 regularize 효과가 있으나 local minima에 빠질 위험이 있다.\n",
        "<br/>learning rate가 클 때 local minima에 빠질 위험이 적으나 overshoot이 일어나 loss가 줄지 않을 수 있다."
      ],
      "metadata": {
        "id": "ry4WzXsZJlO4"
      }
    },
    {
      "cell_type": "code",
      "source": [
        "args = Args(train, val, test, batch_size=512, hsz=50, drop_rate=0.1, lr=0.1, epochs=3, k=5)"
      ],
      "metadata": {
        "id": "t4y-r8sU9l5j"
      },
      "execution_count": null,
      "outputs": []
    },
    {
      "cell_type": "code",
      "source": [
        "model = create_model(args)"
      ],
      "metadata": {
        "id": "ACY76_2P9l76",
        "colab": {
          "base_uri": "https://localhost:8080/"
        },
        "outputId": "2115ae42-bc9d-4e52-c1f9-0741083ea0b7"
      },
      "execution_count": null,
      "outputs": [
        {
          "output_type": "stream",
          "name": "stdout",
          "text": [
            "Model: \"model_3\"\n",
            "_________________________________________________________________\n",
            " Layer (type)                Output Shape              Param #   \n",
            "=================================================================\n",
            " input_4 (InputLayer)        [(512, 1, 1213)]          0         \n",
            "                                                                 \n",
            " GRU (GRU)                   [(512, 50),               189750    \n",
            "                              (512, 50)]                         \n",
            "                                                                 \n",
            " dropout_3 (Dropout)         (512, 50)                 0         \n",
            "                                                                 \n",
            " dense_3 (Dense)             (512, 1213)               61863     \n",
            "                                                                 \n",
            "=================================================================\n",
            "Total params: 251,613\n",
            "Trainable params: 251,613\n",
            "Non-trainable params: 0\n",
            "_________________________________________________________________\n"
          ]
        }
      ]
    },
    {
      "cell_type": "code",
      "source": [
        "train_model(model, args)"
      ],
      "metadata": {
        "id": "8u44RYBD9mfv"
      },
      "execution_count": null,
      "outputs": []
    },
    {
      "cell_type": "code",
      "source": [
        "mode3_history = copy.deepcopy(history)"
      ],
      "metadata": {
        "id": "7ZP5OdM3Edld"
      },
      "execution_count": null,
      "outputs": []
    },
    {
      "cell_type": "code",
      "source": [
        "test_model(model, args, test)"
      ],
      "metadata": {
        "id": "VgxbhZsX9s07"
      },
      "execution_count": null,
      "outputs": []
    },
    {
      "cell_type": "markdown",
      "source": [
        "##Fourth Model"
      ],
      "metadata": {
        "id": "LOwANupzr1fa"
      }
    },
    {
      "cell_type": "markdown",
      "source": [
        "batch size를 512, learning rate를 0.01로 설정한다.\n",
        "<br/>batch size가 클 때 optimal minima에 도달할 수 있으나 과적합 문제가 발생할 수 있다.\n",
        "<br/>learning rate가 클 때 local minima에 빠질 위험이 적으나 overshoot이 일어나 loss가 줄지 않을 수 있다."
      ],
      "metadata": {
        "id": "1mrksIgOJeSo"
      }
    },
    {
      "cell_type": "code",
      "source": [
        "args = Args(train, val, test, batch_size=256, hsz=50, drop_rate=0.2, lr=0.1, epochs=15, k=20)"
      ],
      "metadata": {
        "id": "GuUIYx-Y-Oub"
      },
      "execution_count": null,
      "outputs": []
    },
    {
      "cell_type": "code",
      "source": [
        "model = create_model(args)"
      ],
      "metadata": {
        "id": "kEKWO4aj-Wrs",
        "colab": {
          "base_uri": "https://localhost:8080/"
        },
        "outputId": "3e2043bf-f4ff-4d2d-a0a1-2e0c0c5870c4"
      },
      "execution_count": null,
      "outputs": [
        {
          "output_type": "stream",
          "name": "stdout",
          "text": [
            "Model: \"model_4\"\n",
            "_________________________________________________________________\n",
            " Layer (type)                Output Shape              Param #   \n",
            "=================================================================\n",
            " input_5 (InputLayer)        [(256, 1, 1213)]          0         \n",
            "                                                                 \n",
            " GRU (GRU)                   [(256, 50),               189750    \n",
            "                              (256, 50)]                         \n",
            "                                                                 \n",
            " dropout_4 (Dropout)         (256, 50)                 0         \n",
            "                                                                 \n",
            " dense_4 (Dense)             (256, 1213)               61863     \n",
            "                                                                 \n",
            "=================================================================\n",
            "Total params: 251,613\n",
            "Trainable params: 251,613\n",
            "Non-trainable params: 0\n",
            "_________________________________________________________________\n"
          ]
        }
      ]
    },
    {
      "cell_type": "code",
      "source": [
        "train_model(model, args)"
      ],
      "metadata": {
        "id": "XriB99yb-YBs"
      },
      "execution_count": null,
      "outputs": []
    },
    {
      "cell_type": "code",
      "source": [
        "model4_history = copy.deepcopy(history)"
      ],
      "metadata": {
        "id": "xv7uO9enEnzw"
      },
      "execution_count": null,
      "outputs": []
    },
    {
      "cell_type": "code",
      "source": [
        "test_model(model, args, test)"
      ],
      "metadata": {
        "id": "1-iHyDO4-TdL"
      },
      "execution_count": null,
      "outputs": []
    },
    {
      "cell_type": "markdown",
      "source": [
        "#모델 평가"
      ],
      "metadata": {
        "id": "Hs8S_3V4p-vO"
      }
    },
    {
      "cell_type": "code",
      "source": [
        "plt.figure(figsize=(16, 10))\n",
        "\n",
        "plt.subplot(2, 2, 1)\n",
        "plt.plot(model_history['train_loss'], 'y-', label='train_loss')\n",
        "plt.plot(model2_history['train_loss'], 'y-', label='train_loss')\n",
        "plt.plot(model3_history['train_loss'], 'y-', label='train_loss')\n",
        "plt.plot(model4_history['train_loss'], 'y-', label='train_loss')\n",
        "plt.xlabel('Epoch')\n",
        "plt.legend()\n",
        "plt.title('Train Loss')\n",
        "\n",
        "plt.subplot(2, 2, 2)\n",
        "plt.plot(model_history['train_accuracy'], 'y-', label='train_accuracy')\n",
        "plt.plot(model2_history['train_accuracy'], 'y-', label='train_accuracy')\n",
        "plt.plot(model3_history['train_accuracy'], 'y-', label='train_accuracy')\n",
        "plt.plot(model4_history['train_accuracy'], 'y-', label='train_accuracy')\n",
        "plt.xlabel('Epoch')\n",
        "plt.legend()\n",
        "plt.title('Train Accuracy')\n",
        "\n",
        "plt.subplot(2, 2, 3)\n",
        "plt.plot(model_history['val_recall'], 'y--', label='val_recall')\n",
        "plt.plot(model2_history['val_recall'], 'y--', label='val_recall')\n",
        "plt.plot(model3_history['val_recall'], 'y--', label='val_recall')\n",
        "plt.plot(model4_history['val_recall'], 'y--', label='val_recall')\n",
        "plt.xlabel('Epoch')\n",
        "plt.legend()\n",
        "plt.title('Validation Recall')\n",
        "\n",
        "\n",
        "plt.subplot(2, 2, 4)\n",
        "plt.plot(model_history['val_mrr'], 'y--', label='val_mrr')\n",
        "plt.plot(model2_history['val_mrr'], 'y--', label='val_mrr')\n",
        "plt.plot(model3_history['val_mrr'], 'y--', label='val_mrr')\n",
        "plt.plot(model4_history['val_mrr'], 'y--', label='val_mrr')\n",
        "plt.xlabel('Epoch')\n",
        "plt.legend()\n",
        "plt.title('Validationi MRR')"
      ],
      "metadata": {
        "id": "8vheLTbE_KfV"
      },
      "execution_count": null,
      "outputs": []
    },
    {
      "cell_type": "markdown",
      "source": [
        "#결론"
      ],
      "metadata": {
        "id": "9uAjmAPiqEBe"
      }
    },
    {
      "cell_type": "markdown",
      "source": [
        "**IndexError**"
      ],
      "metadata": {
        "id": "Zp1DXpOzsd1J"
      }
    },
    {
      "cell_type": "markdown",
      "source": [
        "IndexError: index 43 is out of bounds for axis 0 with size 43가 발생한다.\n",
        "<br/>이 에러의 원인으로 Validation Set의 Session 개수 43 혹은 Test Set의 Events 개수 43이 관련이 있을 것으로 보인다.\n",
        "<br/>문제가 해결되면 Session-Based Recommendation 모델 분석이 가능하다."
      ],
      "metadata": {
        "id": "Q0VmWrtlsc8o"
      }
    },
    {
      "cell_type": "markdown",
      "source": [
        "**Session-Based Recommendation 모델 분석**"
      ],
      "metadata": {
        "id": "obfBxInhLBdX"
      }
    },
    {
      "cell_type": "markdown",
      "source": [
        "First Model\n",
        "<br/>Batch Size: 256 - Learning Rate: 0.001\n",
        "<br/>train_loss:  - train_accuracy: \n",
        "<br/>val_recall:  - val_mrr: "
      ],
      "metadata": {
        "id": "cpSFRTAlLBnO"
      }
    },
    {
      "cell_type": "markdown",
      "source": [
        "Second Model\n",
        "<br/>Batch Size: 512 - Learning Rate: 0.001\n",
        "<br/>train_loss:  - train_accuracy: \n",
        "<br/>val_recall:  - val_mrr: "
      ],
      "metadata": {
        "id": "qwU0FwXnLqjI"
      }
    },
    {
      "cell_type": "markdown",
      "source": [
        "Third Model\n",
        "<br/>Batch Size: 256 - Learning Rate: 0.01\n",
        "<br/>train_loss:  - train_accuracy: \n",
        "<br/>val_recall:  - val_mrr: "
      ],
      "metadata": {
        "id": "l3mj-qPbLqlw"
      }
    },
    {
      "cell_type": "markdown",
      "source": [
        "Fourth Model\n",
        "<br/>Batch Size: 512 - Learning Rate: 0.01\n",
        "<br/>train_loss:  - train_accuracy: \n",
        "<br/>val_recall:  - val_mrr: "
      ],
      "metadata": {
        "id": "SEuh2sj_Lqoj"
      }
    },
    {
      "cell_type": "markdown",
      "source": [
        "**Session ID**"
      ],
      "metadata": {
        "id": "v4ulpMQ5K6qf"
      }
    },
    {
      "cell_type": "markdown",
      "source": [
        "UserID의 Time 1분을 기준으로 하여 Session ID를 생성했다.\n",
        "<br/>사용자가 그 세션 동안 몇 번의 행동을 취했는지를 알 수 있는 시간 간격으로\n",
        "1분이라는 기준이 적당한가?\n",
        "<br/>영화 평점을 남기는 시간을 측정할 때 평균 세션 시간을 어떻게 계산하는가?\n",
        "<br/>이렇게 Session ID를 생성하는 데이터 전처리를 하기에 앞서서 영화 정보 관련 사용자 행동 패턴에 대한 도메인 지식의 필요성을 느낀다."
      ],
      "metadata": {
        "id": "muj47bx_qG_O"
      }
    },
    {
      "cell_type": "markdown",
      "source": [
        "**Session Time**"
      ],
      "metadata": {
        "id": "1aAaZip2Nucl"
      }
    },
    {
      "cell_type": "markdown",
      "source": [
        "영화 평점에 관한 모든 3년 간의 데이터와 최근 1년 간의 데이터 중에서 모델의 성능을 높이는 데 효과적인 데이터가 무엇인가?\n",
        "<br/>모든 3년 간의 데이터를 사용하면 데이터의 양을 최대한 많이 확보할 수 있다.\n",
        "<br/>최근 1년 간의 데이터를 사용하면 사용자의 소비 패턴이 빠르게 변하는 트렌드를 반영할 수 있다.\n",
        "<br/>데이터마다 장단점이 있어서 어떤 데이터가 더 효과적일지는 지켜볼 필요가 있다."
      ],
      "metadata": {
        "id": "Prv1ZC6yO2JO"
      }
    },
    {
      "cell_type": "markdown",
      "source": [
        "#참고문헌"
      ],
      "metadata": {
        "id": "A-41UjzFqHIe"
      }
    },
    {
      "cell_type": "markdown",
      "source": [
        "**LMS**\n",
        "<br/>[ziminpark](https://github.com/ZiminPark)\n",
        "\n",
        "<br/>**논문**\n",
        "<br/>[Ibrahem Kande, lMauro Castelli, The effect of batch size on the generalizability of the convolutional neural networks on a histopathology dataset, KICS, ICT Express Volume 6 Issue 4, 2020, p.312-315](https://www.sciencedirect.com/science/article/pii/S2405959519303455#!)\n",
        "\n",
        "<br/>**깃허브**\n",
        "<br/>[gru4rec.py](https://github.com/paxcema/KerasGRU4Rec/blob/master/model/gru4rec.py)\n",
        "\n",
        "<br/>**웹 사이트**\n",
        "<br/>[WEB 쿠키, 세션이란?](https://chrisjune-13837.medium.com/web-%EC%BF%A0%ED%82%A4-%EC%84%B8%EC%85%98%EC%9D%B4%EB%9E%80-aa6bcb327582)\n",
        "<br/>[시간 델타](https://runebook.dev/ko/docs/pandas/user_guide/timedeltas)\n",
        "<br/>[Learning rate & batch size best 조합 찾기 (feat.논문리뷰와 실험결과)](https://inhovation97.tistory.com/32)"
      ],
      "metadata": {
        "id": "S7gyfbOuGYk9"
      }
    }
  ]
}