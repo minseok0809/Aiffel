{
  "nbformat": 4,
  "nbformat_minor": 0,
  "metadata": {
    "colab": {
      "name": "[E_11]Transformer_Chatbot.ipynb",
      "provenance": [],
      "collapsed_sections": [],
      "machine_shape": "hm",
      "toc_visible": true
    },
    "kernelspec": {
      "name": "python3",
      "display_name": "Python 3"
    },
    "language_info": {
      "name": "python"
    },
    "accelerator": "GPU"
  },
  "cells": [
    {
      "cell_type": "markdown",
      "source": [
        "##트랜스포머로 만드는 대화형 챗봇"
      ],
      "metadata": {
        "id": "PfL_Mqk9ti2b"
      }
    },
    {
      "cell_type": "markdown",
      "source": [
        ""
      ],
      "metadata": {
        "id": "ym7VRLEcIi6_"
      }
    },
    {
      "cell_type": "markdown",
      "source": [
        "개발 환경\n",
        "<br/>데이터 정보\n",
        "<br/>데이터 탐색"
      ],
      "metadata": {
        "id": "Yi0-VrDbtjWT"
      }
    },
    {
      "cell_type": "markdown",
      "source": [
        "데이터 전처리\n",
        "<br/>결측치 처리\n",
        "<br/>데이터 분리\n",
        "<br/>정규화\n",
        "<br/>SubwordTextEncoder"
      ],
      "metadata": {
        "id": "oswoTUYKNVnB"
      }
    },
    {
      "cell_type": "markdown",
      "source": [
        "모델 구성\n",
        "<br/>Positional Encoding Layer\n",
        "<br/>caled Dot Product Attention\n",
        "<br/>Multi Head Attention\n",
        "<br/>Padding Mask\n",
        "<br/>Look Ahead Mask\n",
        "<br/>Encoder\n",
        "<br/>Decoder\n",
        "<br/>Transformer"
      ],
      "metadata": {
        "id": "h06PHxztRbl6"
      }
    },
    {
      "cell_type": "markdown",
      "source": [
        "모델 학습\n",
        "<br/>모델 평가\n",
        "<br/>결론\n",
        "<br/>참고문헌"
      ],
      "metadata": {
        "id": "yLUgpuFjNedx"
      }
    },
    {
      "cell_type": "markdown",
      "source": [
        ""
      ],
      "metadata": {
        "id": "u3sId07KJlXm"
      }
    },
    {
      "cell_type": "markdown",
      "source": [
        "# 개발 환경"
      ],
      "metadata": {
        "id": "CXidqXFmtjYi"
      }
    },
    {
      "cell_type": "code",
      "source": [
        "import tensorflow as tf\n",
        "import tensorflow_datasets as tfds\n",
        "import os\n",
        "from sklearn.model_selection import train_test_split\n",
        "import pandas as pd\n",
        "import numpy as np\n",
        "import re\n",
        "import matplotlib.pyplot as plt"
      ],
      "metadata": {
        "id": "jW9zxauu-OaG"
      },
      "execution_count": null,
      "outputs": []
    },
    {
      "cell_type": "markdown",
      "source": [
        "tensorflow는 구글이 개발한 오픈소스 소프트웨어 딥러닝 및 머신러닝 라이브러리이다.\n",
        "<br/>수학 계산식과 데이터의 흐름을 노드와 엣지를 사용한 방향성 그래프, 데이터 플로우 그래프로 나타낸다."
      ],
      "metadata": {
        "id": "e_RrIGqfNr4g"
      }
    },
    {
      "cell_type": "markdown",
      "source": [
        "tfds는 텐서플로우에서 제공하는 데이터셋으로 모델을 연습하기에 용이하다."
      ],
      "metadata": {
        "id": "gROu7pf1RpcR"
      }
    },
    {
      "cell_type": "markdown",
      "source": [
        "os(Operating System)는 운영체제에서 제공되는 여러 기능을 파이썬에서 수행한다.\n",
        "예를 들어, 파일 복사, 디렉터리 생성, 파일 목록을 구할 수 있다."
      ],
      "metadata": {
        "id": "xZ8VYY5iRphy"
      }
    },
    {
      "cell_type": "markdown",
      "source": [
        "pandas는 행과 열로 이루어진 데이터 객체를 만들어 안정적으로 대용량의 데이터들을 처리한다."
      ],
      "metadata": {
        "id": "m1dmmVDztjfr"
      }
    },
    {
      "cell_type": "markdown",
      "source": [
        "numpy는 array 단위로 벡터와 행렬을 계산한다."
      ],
      "metadata": {
        "id": "x5f8nFyeNrvZ"
      }
    },
    {
      "cell_type": "markdown",
      "source": [
        "re(regex)는 특정 문자 또는 문자열이 존재하는지나 어느 위치에 있는지와 같은 기능을 제공하는 정규표현식 라이브러리이다."
      ],
      "metadata": {
        "id": "szTPoa9GNr1v"
      }
    },
    {
      "cell_type": "markdown",
      "source": [
        " matplotlib은 시각화를 한다."
      ],
      "metadata": {
        "id": "mU5KGsguNryq"
      }
    },
    {
      "cell_type": "code",
      "source": [
        "!pip install git+https://github.com/ssut/py-hanspell.git"
      ],
      "metadata": {
        "id": "QZy-h1caHebz"
      },
      "execution_count": null,
      "outputs": []
    },
    {
      "cell_type": "markdown",
      "source": [
        "Py-Hanspell은 네이버 한글 맞춤법 검사기를 바탕으로 만들어진 패키지이다."
      ],
      "metadata": {
        "id": "LHg6zE3EHf-X"
      }
    },
    {
      "cell_type": "code",
      "source": [
        "!pip install soynlp"
      ],
      "metadata": {
        "id": "6mSnrJSpNkoL"
      },
      "execution_count": null,
      "outputs": []
    },
    {
      "cell_type": "markdown",
      "source": [
        "soynlp는 미등록 단어를 번거롭게 사전에 등록할 필요가 없는 통계 기반 비지도학습 한글 라이브러리이다.\n",
        "<br/>문장을 단어열로 분해하거나 품사 판별을 한다."
      ],
      "metadata": {
        "id": "YV7plUbsNnGh"
      }
    },
    {
      "cell_type": "code",
      "source": [
        "from hanspell import spell_checker\n",
        "from soynlp.normalizer import *"
      ],
      "metadata": {
        "id": "4kIk7VjvIsF2"
      },
      "execution_count": null,
      "outputs": []
    },
    {
      "cell_type": "code",
      "source": [
        "from google.colab import drive\n",
        "drive.mount('/content/drive')"
      ],
      "metadata": {
        "id": "HTAtpj5Huz2j"
      },
      "execution_count": null,
      "outputs": []
    },
    {
      "cell_type": "code",
      "source": [
        "pip freeze > '/content/drive/MyDrive/lms/library_version.txt'"
      ],
      "metadata": {
        "id": "Z-N10-Hvb-WE"
      },
      "execution_count": null,
      "outputs": []
    },
    {
      "cell_type": "code",
      "source": [
        "library_name = ['pandas=', 'numpy=', 'matplotlib=', 'sklearn=', 'tensorflow=', 'sklearn', 'regex=', 'hanspell', 'soynlp']\n",
        "library_version = []\n",
        "f = open('/content/drive/MyDrive/lms/library_version.txt', 'r')\n",
        "line = f.readline()\n",
        "while True:\n",
        "    line = f.readline()\n",
        "    if not line:\n",
        "      break\n",
        "    for i in library_name:\n",
        "      if i in line:\n",
        "        library_version.append(line)\n",
        "        library_version.append('    ')\n",
        "\n",
        "f.close()\n",
        "\n",
        "import sys\n",
        "print(sys.version)\n",
        "print()\n",
        "\n",
        "for i in range(0, len(library_version) - 1, 6):\n",
        "  print(str(library_version[i : i+6]).replace(\"[\",\"\").replace(\"]\",\"\").replace(\"'\",\"\").replace(\"\\\\n\",\"\").replace(\",\",\"\"), end='') \n",
        "  if i % 6 == 0:\n",
        "    print()\n",
        "\n",
        "for i in range(len(library_version) - 1):\n",
        "  if (i-1) % 6 == 0 and i == len(library_version) - 6:\n",
        "    print(str(library_version[-1]).replace(\"[\",\"\").replace(\"]\",\"\").replace(\"'\",\"\").replace(\"\\\\n\",\"\").replace(\",\",\"\"), end='')"
      ],
      "metadata": {
        "colab": {
          "base_uri": "https://localhost:8080/"
        },
        "id": "o8cCfpcMb-Yr",
        "outputId": "5053d0d4-8164-473f-f6da-d2de7669360f"
      },
      "execution_count": null,
      "outputs": [
        {
          "output_type": "stream",
          "name": "stdout",
          "text": [
            "3.7.13 (default, Apr 24 2022, 01:04:09) \n",
            "[GCC 7.5.0]\n",
            "\n",
            "matplotlib==3.2.2      numpy==1.21.6      pandas==1.3.5     \n",
            "py-hanspell @ git+https://github.com/ssut/py-hanspell.git@8e993cf46f97f9d665c15633a0fc78ac1b727713      regex==2022.6.2      sklearn==0.0     \n",
            "sklearn==0.0      sklearn-pandas==1.8.0      sklearn-pandas==1.8.0     \n",
            "soynlp==0.0.493      tensorflow==2.8.2+zzzcolab20220527125636     \n"
          ]
        }
      ]
    },
    {
      "cell_type": "code",
      "source": [
        "gpu_info = !nvidia-smi\n",
        "gpu_info = '\\n'.join(gpu_info)\n",
        "if gpu_info.find('failed') >= 0:\n",
        "  print('Not connected to a GPU')\n",
        "else:\n",
        "  print(gpu_info)"
      ],
      "metadata": {
        "id": "ySWCpKB5tif8"
      },
      "execution_count": null,
      "outputs": []
    },
    {
      "cell_type": "code",
      "source": [
        "from psutil import virtual_memory\n",
        "ram_gb = virtual_memory().total / 1e9\n",
        "print('Your runtime has {:.1f} gigabytes of available RAM\\n'.format(ram_gb))\n",
        "\n",
        "if ram_gb < 20:\n",
        "  print('Not using a high-RAM runtime')\n",
        "else:\n",
        "  print('You are using a high-RAM runtime!')"
      ],
      "metadata": {
        "id": "nHkyEpz5tiia"
      },
      "execution_count": null,
      "outputs": []
    },
    {
      "cell_type": "markdown",
      "source": [
        "Google Colab에서 할당된 GPU를 확인한다.\n",
        "<br/>고용량 메모리 VM에 액세스한다."
      ],
      "metadata": {
        "id": "cwdfY18puVLa"
      }
    },
    {
      "cell_type": "markdown",
      "source": [
        "#데이터 정보"
      ],
      "metadata": {
        "id": "kzfaxWO_uaDi"
      }
    },
    {
      "cell_type": "markdown",
      "source": [
        "[Chatbot data for Korean v1.0](https://github.com/songys/Chatbot_data)"
      ],
      "metadata": {
        "id": "_T-9tIkwua07"
      }
    },
    {
      "cell_type": "markdown",
      "source": [
        "다음 카페 [사랑보다 아름다운 실연](http://cafe116.daum.net/_c21_/home?grpid=1bld)에서 자주 나오는 이야기들을 참고하여 제작한 데이터이다."
      ],
      "metadata": {
        "id": "F0PvFrVHyIln"
      }
    },
    {
      "cell_type": "markdown",
      "source": [
        "챗봇 트레이닝용 문답 페어가 11,876개이다.\n",
        "<br/>일상다반사 0, 이별(부정) 1, 사랑(긍정) 2로 레이블링했다."
      ],
      "metadata": {
        "id": "asUICqC8ua3c"
      }
    },
    {
      "cell_type": "markdown",
      "source": [
        "# 데이터 탐색"
      ],
      "metadata": {
        "id": "VkXikhLcu1cq"
      }
    },
    {
      "cell_type": "code",
      "source": [
        "Chatbot_data = pd.read_table('/content/drive/MyDrive/lms/transformer_chatbot/ChatbotData.csv')\n",
        "Chatbot_data.head()"
      ],
      "metadata": {
        "id": "SiOuMYEeuz47",
        "colab": {
          "base_uri": "https://localhost:8080/",
          "height": 206
        },
        "outputId": "8700dee2-6150-499d-aa77-f0b58410c8b4"
      },
      "execution_count": null,
      "outputs": [
        {
          "output_type": "execute_result",
          "data": {
            "text/plain": [
              "                       Q,A,label\n",
              "0            12시 땡!,하루가 또 가네요.,0\n",
              "1        1지망 학교 떨어졌어,위로해 드립니다.,0\n",
              "2     3박4일 놀러가고 싶다,여행은 언제나 좋죠.,0\n",
              "3  3박4일 정도 놀러가고 싶다,여행은 언제나 좋죠.,0\n",
              "4           PPL 심하네,눈살이 찌푸려지죠.,0"
            ],
            "text/html": [
              "\n",
              "  <div id=\"df-cbfac155-235f-4b6b-8bea-f27f909c0a50\">\n",
              "    <div class=\"colab-df-container\">\n",
              "      <div>\n",
              "<style scoped>\n",
              "    .dataframe tbody tr th:only-of-type {\n",
              "        vertical-align: middle;\n",
              "    }\n",
              "\n",
              "    .dataframe tbody tr th {\n",
              "        vertical-align: top;\n",
              "    }\n",
              "\n",
              "    .dataframe thead th {\n",
              "        text-align: right;\n",
              "    }\n",
              "</style>\n",
              "<table border=\"1\" class=\"dataframe\">\n",
              "  <thead>\n",
              "    <tr style=\"text-align: right;\">\n",
              "      <th></th>\n",
              "      <th>Q,A,label</th>\n",
              "    </tr>\n",
              "  </thead>\n",
              "  <tbody>\n",
              "    <tr>\n",
              "      <th>0</th>\n",
              "      <td>12시 땡!,하루가 또 가네요.,0</td>\n",
              "    </tr>\n",
              "    <tr>\n",
              "      <th>1</th>\n",
              "      <td>1지망 학교 떨어졌어,위로해 드립니다.,0</td>\n",
              "    </tr>\n",
              "    <tr>\n",
              "      <th>2</th>\n",
              "      <td>3박4일 놀러가고 싶다,여행은 언제나 좋죠.,0</td>\n",
              "    </tr>\n",
              "    <tr>\n",
              "      <th>3</th>\n",
              "      <td>3박4일 정도 놀러가고 싶다,여행은 언제나 좋죠.,0</td>\n",
              "    </tr>\n",
              "    <tr>\n",
              "      <th>4</th>\n",
              "      <td>PPL 심하네,눈살이 찌푸려지죠.,0</td>\n",
              "    </tr>\n",
              "  </tbody>\n",
              "</table>\n",
              "</div>\n",
              "      <button class=\"colab-df-convert\" onclick=\"convertToInteractive('df-cbfac155-235f-4b6b-8bea-f27f909c0a50')\"\n",
              "              title=\"Convert this dataframe to an interactive table.\"\n",
              "              style=\"display:none;\">\n",
              "        \n",
              "  <svg xmlns=\"http://www.w3.org/2000/svg\" height=\"24px\"viewBox=\"0 0 24 24\"\n",
              "       width=\"24px\">\n",
              "    <path d=\"M0 0h24v24H0V0z\" fill=\"none\"/>\n",
              "    <path d=\"M18.56 5.44l.94 2.06.94-2.06 2.06-.94-2.06-.94-.94-2.06-.94 2.06-2.06.94zm-11 1L8.5 8.5l.94-2.06 2.06-.94-2.06-.94L8.5 2.5l-.94 2.06-2.06.94zm10 10l.94 2.06.94-2.06 2.06-.94-2.06-.94-.94-2.06-.94 2.06-2.06.94z\"/><path d=\"M17.41 7.96l-1.37-1.37c-.4-.4-.92-.59-1.43-.59-.52 0-1.04.2-1.43.59L10.3 9.45l-7.72 7.72c-.78.78-.78 2.05 0 2.83L4 21.41c.39.39.9.59 1.41.59.51 0 1.02-.2 1.41-.59l7.78-7.78 2.81-2.81c.8-.78.8-2.07 0-2.86zM5.41 20L4 18.59l7.72-7.72 1.47 1.35L5.41 20z\"/>\n",
              "  </svg>\n",
              "      </button>\n",
              "      \n",
              "  <style>\n",
              "    .colab-df-container {\n",
              "      display:flex;\n",
              "      flex-wrap:wrap;\n",
              "      gap: 12px;\n",
              "    }\n",
              "\n",
              "    .colab-df-convert {\n",
              "      background-color: #E8F0FE;\n",
              "      border: none;\n",
              "      border-radius: 50%;\n",
              "      cursor: pointer;\n",
              "      display: none;\n",
              "      fill: #1967D2;\n",
              "      height: 32px;\n",
              "      padding: 0 0 0 0;\n",
              "      width: 32px;\n",
              "    }\n",
              "\n",
              "    .colab-df-convert:hover {\n",
              "      background-color: #E2EBFA;\n",
              "      box-shadow: 0px 1px 2px rgba(60, 64, 67, 0.3), 0px 1px 3px 1px rgba(60, 64, 67, 0.15);\n",
              "      fill: #174EA6;\n",
              "    }\n",
              "\n",
              "    [theme=dark] .colab-df-convert {\n",
              "      background-color: #3B4455;\n",
              "      fill: #D2E3FC;\n",
              "    }\n",
              "\n",
              "    [theme=dark] .colab-df-convert:hover {\n",
              "      background-color: #434B5C;\n",
              "      box-shadow: 0px 1px 3px 1px rgba(0, 0, 0, 0.15);\n",
              "      filter: drop-shadow(0px 1px 2px rgba(0, 0, 0, 0.3));\n",
              "      fill: #FFFFFF;\n",
              "    }\n",
              "  </style>\n",
              "\n",
              "      <script>\n",
              "        const buttonEl =\n",
              "          document.querySelector('#df-cbfac155-235f-4b6b-8bea-f27f909c0a50 button.colab-df-convert');\n",
              "        buttonEl.style.display =\n",
              "          google.colab.kernel.accessAllowed ? 'block' : 'none';\n",
              "\n",
              "        async function convertToInteractive(key) {\n",
              "          const element = document.querySelector('#df-cbfac155-235f-4b6b-8bea-f27f909c0a50');\n",
              "          const dataTable =\n",
              "            await google.colab.kernel.invokeFunction('convertToInteractive',\n",
              "                                                     [key], {});\n",
              "          if (!dataTable) return;\n",
              "\n",
              "          const docLinkHtml = 'Like what you see? Visit the ' +\n",
              "            '<a target=\"_blank\" href=https://colab.research.google.com/notebooks/data_table.ipynb>data table notebook</a>'\n",
              "            + ' to learn more about interactive tables.';\n",
              "          element.innerHTML = '';\n",
              "          dataTable['output_type'] = 'display_data';\n",
              "          await google.colab.output.renderOutput(dataTable, element);\n",
              "          const docLink = document.createElement('div');\n",
              "          docLink.innerHTML = docLinkHtml;\n",
              "          element.appendChild(docLink);\n",
              "        }\n",
              "      </script>\n",
              "    </div>\n",
              "  </div>\n",
              "  "
            ]
          },
          "metadata": {},
          "execution_count": 9
        }
      ]
    },
    {
      "cell_type": "code",
      "source": [
        "Chatbot_split = Chatbot_data[\"Q,A,label\"].str.split(',')\n",
        "Chatbot_split = Chatbot_split.apply(lambda x: pd.Series(x))\n",
        "Chatbot_split = Chatbot_split.loc[:, [0, 1]]\n",
        "Chatbot_split.columns = ['Q', 'A']"
      ],
      "metadata": {
        "id": "Vz83FOWguz7S"
      },
      "execution_count": null,
      "outputs": []
    },
    {
      "cell_type": "code",
      "source": [
        "Chatbot_split"
      ],
      "metadata": {
        "colab": {
          "base_uri": "https://localhost:8080/",
          "height": 424
        },
        "id": "rFuGO18I3vvD",
        "outputId": "d68885fc-9304-4ec0-8c8a-f34368376cd7"
      },
      "execution_count": null,
      "outputs": [
        {
          "output_type": "execute_result",
          "data": {
            "text/plain": [
              "                             Q                         A\n",
              "0                       12시 땡!                하루가 또 가네요.\n",
              "1                  1지망 학교 떨어졌어                 위로해 드립니다.\n",
              "2                 3박4일 놀러가고 싶다               여행은 언제나 좋죠.\n",
              "3              3박4일 정도 놀러가고 싶다               여행은 언제나 좋죠.\n",
              "4                      PPL 심하네                눈살이 찌푸려지죠.\n",
              "...                        ...                       ...\n",
              "11818           훔쳐보는 것도 눈치 보임.        티가 나니까 눈치가 보이는 거죠!\n",
              "11819           훔쳐보는 것도 눈치 보임.             훔쳐보는 거 티나나봐요.\n",
              "11820              흑기사 해주는 짝남.                    설렜겠어요.\n",
              "11821  힘든 연애 좋은 연애라는게 무슨 차이일까?  잘 헤어질 수 있는 사이 여부인 거 같아요.\n",
              "11822               힘들어서 결혼할까봐        도피성 결혼은 하지 않길 바라요.\n",
              "\n",
              "[11823 rows x 2 columns]"
            ],
            "text/html": [
              "\n",
              "  <div id=\"df-bc7b4167-5b30-4bea-861c-4fd409f4cfa2\">\n",
              "    <div class=\"colab-df-container\">\n",
              "      <div>\n",
              "<style scoped>\n",
              "    .dataframe tbody tr th:only-of-type {\n",
              "        vertical-align: middle;\n",
              "    }\n",
              "\n",
              "    .dataframe tbody tr th {\n",
              "        vertical-align: top;\n",
              "    }\n",
              "\n",
              "    .dataframe thead th {\n",
              "        text-align: right;\n",
              "    }\n",
              "</style>\n",
              "<table border=\"1\" class=\"dataframe\">\n",
              "  <thead>\n",
              "    <tr style=\"text-align: right;\">\n",
              "      <th></th>\n",
              "      <th>Q</th>\n",
              "      <th>A</th>\n",
              "    </tr>\n",
              "  </thead>\n",
              "  <tbody>\n",
              "    <tr>\n",
              "      <th>0</th>\n",
              "      <td>12시 땡!</td>\n",
              "      <td>하루가 또 가네요.</td>\n",
              "    </tr>\n",
              "    <tr>\n",
              "      <th>1</th>\n",
              "      <td>1지망 학교 떨어졌어</td>\n",
              "      <td>위로해 드립니다.</td>\n",
              "    </tr>\n",
              "    <tr>\n",
              "      <th>2</th>\n",
              "      <td>3박4일 놀러가고 싶다</td>\n",
              "      <td>여행은 언제나 좋죠.</td>\n",
              "    </tr>\n",
              "    <tr>\n",
              "      <th>3</th>\n",
              "      <td>3박4일 정도 놀러가고 싶다</td>\n",
              "      <td>여행은 언제나 좋죠.</td>\n",
              "    </tr>\n",
              "    <tr>\n",
              "      <th>4</th>\n",
              "      <td>PPL 심하네</td>\n",
              "      <td>눈살이 찌푸려지죠.</td>\n",
              "    </tr>\n",
              "    <tr>\n",
              "      <th>...</th>\n",
              "      <td>...</td>\n",
              "      <td>...</td>\n",
              "    </tr>\n",
              "    <tr>\n",
              "      <th>11818</th>\n",
              "      <td>훔쳐보는 것도 눈치 보임.</td>\n",
              "      <td>티가 나니까 눈치가 보이는 거죠!</td>\n",
              "    </tr>\n",
              "    <tr>\n",
              "      <th>11819</th>\n",
              "      <td>훔쳐보는 것도 눈치 보임.</td>\n",
              "      <td>훔쳐보는 거 티나나봐요.</td>\n",
              "    </tr>\n",
              "    <tr>\n",
              "      <th>11820</th>\n",
              "      <td>흑기사 해주는 짝남.</td>\n",
              "      <td>설렜겠어요.</td>\n",
              "    </tr>\n",
              "    <tr>\n",
              "      <th>11821</th>\n",
              "      <td>힘든 연애 좋은 연애라는게 무슨 차이일까?</td>\n",
              "      <td>잘 헤어질 수 있는 사이 여부인 거 같아요.</td>\n",
              "    </tr>\n",
              "    <tr>\n",
              "      <th>11822</th>\n",
              "      <td>힘들어서 결혼할까봐</td>\n",
              "      <td>도피성 결혼은 하지 않길 바라요.</td>\n",
              "    </tr>\n",
              "  </tbody>\n",
              "</table>\n",
              "<p>11823 rows × 2 columns</p>\n",
              "</div>\n",
              "      <button class=\"colab-df-convert\" onclick=\"convertToInteractive('df-bc7b4167-5b30-4bea-861c-4fd409f4cfa2')\"\n",
              "              title=\"Convert this dataframe to an interactive table.\"\n",
              "              style=\"display:none;\">\n",
              "        \n",
              "  <svg xmlns=\"http://www.w3.org/2000/svg\" height=\"24px\"viewBox=\"0 0 24 24\"\n",
              "       width=\"24px\">\n",
              "    <path d=\"M0 0h24v24H0V0z\" fill=\"none\"/>\n",
              "    <path d=\"M18.56 5.44l.94 2.06.94-2.06 2.06-.94-2.06-.94-.94-2.06-.94 2.06-2.06.94zm-11 1L8.5 8.5l.94-2.06 2.06-.94-2.06-.94L8.5 2.5l-.94 2.06-2.06.94zm10 10l.94 2.06.94-2.06 2.06-.94-2.06-.94-.94-2.06-.94 2.06-2.06.94z\"/><path d=\"M17.41 7.96l-1.37-1.37c-.4-.4-.92-.59-1.43-.59-.52 0-1.04.2-1.43.59L10.3 9.45l-7.72 7.72c-.78.78-.78 2.05 0 2.83L4 21.41c.39.39.9.59 1.41.59.51 0 1.02-.2 1.41-.59l7.78-7.78 2.81-2.81c.8-.78.8-2.07 0-2.86zM5.41 20L4 18.59l7.72-7.72 1.47 1.35L5.41 20z\"/>\n",
              "  </svg>\n",
              "      </button>\n",
              "      \n",
              "  <style>\n",
              "    .colab-df-container {\n",
              "      display:flex;\n",
              "      flex-wrap:wrap;\n",
              "      gap: 12px;\n",
              "    }\n",
              "\n",
              "    .colab-df-convert {\n",
              "      background-color: #E8F0FE;\n",
              "      border: none;\n",
              "      border-radius: 50%;\n",
              "      cursor: pointer;\n",
              "      display: none;\n",
              "      fill: #1967D2;\n",
              "      height: 32px;\n",
              "      padding: 0 0 0 0;\n",
              "      width: 32px;\n",
              "    }\n",
              "\n",
              "    .colab-df-convert:hover {\n",
              "      background-color: #E2EBFA;\n",
              "      box-shadow: 0px 1px 2px rgba(60, 64, 67, 0.3), 0px 1px 3px 1px rgba(60, 64, 67, 0.15);\n",
              "      fill: #174EA6;\n",
              "    }\n",
              "\n",
              "    [theme=dark] .colab-df-convert {\n",
              "      background-color: #3B4455;\n",
              "      fill: #D2E3FC;\n",
              "    }\n",
              "\n",
              "    [theme=dark] .colab-df-convert:hover {\n",
              "      background-color: #434B5C;\n",
              "      box-shadow: 0px 1px 3px 1px rgba(0, 0, 0, 0.15);\n",
              "      filter: drop-shadow(0px 1px 2px rgba(0, 0, 0, 0.3));\n",
              "      fill: #FFFFFF;\n",
              "    }\n",
              "  </style>\n",
              "\n",
              "      <script>\n",
              "        const buttonEl =\n",
              "          document.querySelector('#df-bc7b4167-5b30-4bea-861c-4fd409f4cfa2 button.colab-df-convert');\n",
              "        buttonEl.style.display =\n",
              "          google.colab.kernel.accessAllowed ? 'block' : 'none';\n",
              "\n",
              "        async function convertToInteractive(key) {\n",
              "          const element = document.querySelector('#df-bc7b4167-5b30-4bea-861c-4fd409f4cfa2');\n",
              "          const dataTable =\n",
              "            await google.colab.kernel.invokeFunction('convertToInteractive',\n",
              "                                                     [key], {});\n",
              "          if (!dataTable) return;\n",
              "\n",
              "          const docLinkHtml = 'Like what you see? Visit the ' +\n",
              "            '<a target=\"_blank\" href=https://colab.research.google.com/notebooks/data_table.ipynb>data table notebook</a>'\n",
              "            + ' to learn more about interactive tables.';\n",
              "          element.innerHTML = '';\n",
              "          dataTable['output_type'] = 'display_data';\n",
              "          await google.colab.output.renderOutput(dataTable, element);\n",
              "          const docLink = document.createElement('div');\n",
              "          docLink.innerHTML = docLinkHtml;\n",
              "          element.appendChild(docLink);\n",
              "        }\n",
              "      </script>\n",
              "    </div>\n",
              "  </div>\n",
              "  "
            ]
          },
          "metadata": {},
          "execution_count": 11
        }
      ]
    },
    {
      "cell_type": "markdown",
      "source": [
        "#데이터 전처리"
      ],
      "metadata": {
        "id": "IaTsj6SDujhN"
      }
    },
    {
      "cell_type": "markdown",
      "source": [
        "##결측치 처리"
      ],
      "metadata": {
        "id": "pCYf65jyBoHU"
      }
    },
    {
      "cell_type": "code",
      "source": [
        "Chatbot_split.isnull()"
      ],
      "metadata": {
        "colab": {
          "base_uri": "https://localhost:8080/",
          "height": 424
        },
        "id": "JcTU5uLOBfVV",
        "outputId": "a18ac7f4-c14d-447e-8f93-18845464efd3"
      },
      "execution_count": null,
      "outputs": [
        {
          "output_type": "execute_result",
          "data": {
            "text/plain": [
              "           Q      A\n",
              "0      False  False\n",
              "1      False  False\n",
              "2      False  False\n",
              "3      False  False\n",
              "4      False  False\n",
              "...      ...    ...\n",
              "11818  False  False\n",
              "11819  False  False\n",
              "11820  False  False\n",
              "11821  False  False\n",
              "11822  False  False\n",
              "\n",
              "[11823 rows x 2 columns]"
            ],
            "text/html": [
              "\n",
              "  <div id=\"df-80350935-bee5-40fe-bc0d-450c75dc1690\">\n",
              "    <div class=\"colab-df-container\">\n",
              "      <div>\n",
              "<style scoped>\n",
              "    .dataframe tbody tr th:only-of-type {\n",
              "        vertical-align: middle;\n",
              "    }\n",
              "\n",
              "    .dataframe tbody tr th {\n",
              "        vertical-align: top;\n",
              "    }\n",
              "\n",
              "    .dataframe thead th {\n",
              "        text-align: right;\n",
              "    }\n",
              "</style>\n",
              "<table border=\"1\" class=\"dataframe\">\n",
              "  <thead>\n",
              "    <tr style=\"text-align: right;\">\n",
              "      <th></th>\n",
              "      <th>Q</th>\n",
              "      <th>A</th>\n",
              "    </tr>\n",
              "  </thead>\n",
              "  <tbody>\n",
              "    <tr>\n",
              "      <th>0</th>\n",
              "      <td>False</td>\n",
              "      <td>False</td>\n",
              "    </tr>\n",
              "    <tr>\n",
              "      <th>1</th>\n",
              "      <td>False</td>\n",
              "      <td>False</td>\n",
              "    </tr>\n",
              "    <tr>\n",
              "      <th>2</th>\n",
              "      <td>False</td>\n",
              "      <td>False</td>\n",
              "    </tr>\n",
              "    <tr>\n",
              "      <th>3</th>\n",
              "      <td>False</td>\n",
              "      <td>False</td>\n",
              "    </tr>\n",
              "    <tr>\n",
              "      <th>4</th>\n",
              "      <td>False</td>\n",
              "      <td>False</td>\n",
              "    </tr>\n",
              "    <tr>\n",
              "      <th>...</th>\n",
              "      <td>...</td>\n",
              "      <td>...</td>\n",
              "    </tr>\n",
              "    <tr>\n",
              "      <th>11818</th>\n",
              "      <td>False</td>\n",
              "      <td>False</td>\n",
              "    </tr>\n",
              "    <tr>\n",
              "      <th>11819</th>\n",
              "      <td>False</td>\n",
              "      <td>False</td>\n",
              "    </tr>\n",
              "    <tr>\n",
              "      <th>11820</th>\n",
              "      <td>False</td>\n",
              "      <td>False</td>\n",
              "    </tr>\n",
              "    <tr>\n",
              "      <th>11821</th>\n",
              "      <td>False</td>\n",
              "      <td>False</td>\n",
              "    </tr>\n",
              "    <tr>\n",
              "      <th>11822</th>\n",
              "      <td>False</td>\n",
              "      <td>False</td>\n",
              "    </tr>\n",
              "  </tbody>\n",
              "</table>\n",
              "<p>11823 rows × 2 columns</p>\n",
              "</div>\n",
              "      <button class=\"colab-df-convert\" onclick=\"convertToInteractive('df-80350935-bee5-40fe-bc0d-450c75dc1690')\"\n",
              "              title=\"Convert this dataframe to an interactive table.\"\n",
              "              style=\"display:none;\">\n",
              "        \n",
              "  <svg xmlns=\"http://www.w3.org/2000/svg\" height=\"24px\"viewBox=\"0 0 24 24\"\n",
              "       width=\"24px\">\n",
              "    <path d=\"M0 0h24v24H0V0z\" fill=\"none\"/>\n",
              "    <path d=\"M18.56 5.44l.94 2.06.94-2.06 2.06-.94-2.06-.94-.94-2.06-.94 2.06-2.06.94zm-11 1L8.5 8.5l.94-2.06 2.06-.94-2.06-.94L8.5 2.5l-.94 2.06-2.06.94zm10 10l.94 2.06.94-2.06 2.06-.94-2.06-.94-.94-2.06-.94 2.06-2.06.94z\"/><path d=\"M17.41 7.96l-1.37-1.37c-.4-.4-.92-.59-1.43-.59-.52 0-1.04.2-1.43.59L10.3 9.45l-7.72 7.72c-.78.78-.78 2.05 0 2.83L4 21.41c.39.39.9.59 1.41.59.51 0 1.02-.2 1.41-.59l7.78-7.78 2.81-2.81c.8-.78.8-2.07 0-2.86zM5.41 20L4 18.59l7.72-7.72 1.47 1.35L5.41 20z\"/>\n",
              "  </svg>\n",
              "      </button>\n",
              "      \n",
              "  <style>\n",
              "    .colab-df-container {\n",
              "      display:flex;\n",
              "      flex-wrap:wrap;\n",
              "      gap: 12px;\n",
              "    }\n",
              "\n",
              "    .colab-df-convert {\n",
              "      background-color: #E8F0FE;\n",
              "      border: none;\n",
              "      border-radius: 50%;\n",
              "      cursor: pointer;\n",
              "      display: none;\n",
              "      fill: #1967D2;\n",
              "      height: 32px;\n",
              "      padding: 0 0 0 0;\n",
              "      width: 32px;\n",
              "    }\n",
              "\n",
              "    .colab-df-convert:hover {\n",
              "      background-color: #E2EBFA;\n",
              "      box-shadow: 0px 1px 2px rgba(60, 64, 67, 0.3), 0px 1px 3px 1px rgba(60, 64, 67, 0.15);\n",
              "      fill: #174EA6;\n",
              "    }\n",
              "\n",
              "    [theme=dark] .colab-df-convert {\n",
              "      background-color: #3B4455;\n",
              "      fill: #D2E3FC;\n",
              "    }\n",
              "\n",
              "    [theme=dark] .colab-df-convert:hover {\n",
              "      background-color: #434B5C;\n",
              "      box-shadow: 0px 1px 3px 1px rgba(0, 0, 0, 0.15);\n",
              "      filter: drop-shadow(0px 1px 2px rgba(0, 0, 0, 0.3));\n",
              "      fill: #FFFFFF;\n",
              "    }\n",
              "  </style>\n",
              "\n",
              "      <script>\n",
              "        const buttonEl =\n",
              "          document.querySelector('#df-80350935-bee5-40fe-bc0d-450c75dc1690 button.colab-df-convert');\n",
              "        buttonEl.style.display =\n",
              "          google.colab.kernel.accessAllowed ? 'block' : 'none';\n",
              "\n",
              "        async function convertToInteractive(key) {\n",
              "          const element = document.querySelector('#df-80350935-bee5-40fe-bc0d-450c75dc1690');\n",
              "          const dataTable =\n",
              "            await google.colab.kernel.invokeFunction('convertToInteractive',\n",
              "                                                     [key], {});\n",
              "          if (!dataTable) return;\n",
              "\n",
              "          const docLinkHtml = 'Like what you see? Visit the ' +\n",
              "            '<a target=\"_blank\" href=https://colab.research.google.com/notebooks/data_table.ipynb>data table notebook</a>'\n",
              "            + ' to learn more about interactive tables.';\n",
              "          element.innerHTML = '';\n",
              "          dataTable['output_type'] = 'display_data';\n",
              "          await google.colab.output.renderOutput(dataTable, element);\n",
              "          const docLink = document.createElement('div');\n",
              "          docLink.innerHTML = docLinkHtml;\n",
              "          element.appendChild(docLink);\n",
              "        }\n",
              "      </script>\n",
              "    </div>\n",
              "  </div>\n",
              "  "
            ]
          },
          "metadata": {},
          "execution_count": 12
        }
      ]
    },
    {
      "cell_type": "markdown",
      "source": [
        "##데이터 분리"
      ],
      "metadata": {
        "id": "kPFdANu2AWYc"
      }
    },
    {
      "cell_type": "code",
      "source": [
        "Q_train, Q_test, A_train, A_test = train_test_split(Chatbot_split['Q'], Chatbot_split['A'], test_size= 0.2, random_state=1234)"
      ],
      "metadata": {
        "id": "CzvL0AbZ86GN"
      },
      "execution_count": null,
      "outputs": []
    },
    {
      "cell_type": "code",
      "source": [
        "train_data = pd.concat([Q_train, A_train] , axis=1)\n",
        "test_data = pd.concat([Q_test, A_test] , axis=1) "
      ],
      "metadata": {
        "id": "kaLcknUs_OEE"
      },
      "execution_count": null,
      "outputs": []
    },
    {
      "cell_type": "code",
      "source": [
        "print('전체 샘플 수 :', len(Chatbot_data))\n",
        "print('훈련 샘플 수 :', len(train_data))\n",
        "print('시험 샘플 수 :', len(test_data))"
      ],
      "metadata": {
        "colab": {
          "base_uri": "https://localhost:8080/"
        },
        "id": "ARthEpEq-aok",
        "outputId": "abc5171d-72c0-48cc-c367-91f2f27f3ce9"
      },
      "execution_count": null,
      "outputs": [
        {
          "output_type": "stream",
          "name": "stdout",
          "text": [
            "전체 샘플 수 : 11823\n",
            "훈련 샘플 수 : 9458\n",
            "시험 샘플 수 : 2365\n"
          ]
        }
      ]
    },
    {
      "cell_type": "markdown",
      "source": [
        "##정규화"
      ],
      "metadata": {
        "id": "JzMs8xYjujj0"
      }
    },
    {
      "cell_type": "code",
      "source": [
        "def preprocess_sentence(sentence):\n",
        "  new_sent = spell_checker.check(sentence)\n",
        "  spell_sent = new_sent.checked\n",
        "  sentence = emoticon_normalize(spell_sent,  num_repeats=2)\n",
        "  sentence = re.sub(r\"([?.!,])\", r\" \\1 \", sentence)\n",
        "  sentence = re.sub(r'[\" \"]+', \" \", sentence)\n",
        "  sentence = re.sub(r\"[^가-힣a-zA-Z?.!,]+\", \" \", sentence)\n",
        "\n",
        "  return sentence"
      ],
      "metadata": {
        "id": "J9NXxU9l0Oa8"
      },
      "execution_count": null,
      "outputs": []
    },
    {
      "cell_type": "markdown",
      "source": [
        "Py-Hanspell은 한글 맞춤법 검사를 한다. 띄어쓰기 보정도 한다.\n",
        "<br/>soynlp는 이모티콘(ㅋㅋ, ㅎㅎ)과 같이 불필요하게 연속되는 것을 2개의 반복으로 정규화한다."
      ],
      "metadata": {
        "id": "jJNoJaLgNGxK"
      }
    },
    {
      "cell_type": "markdown",
      "source": [
        "단어와 구두점(punctuation) 사이의 거리를 만든다.\n",
        "<br/>가-힣, a-z, A-Z, \".\", \"?\", \"!\", \",\"를 제외한 모든 문자를 공백인 ' '로 대체한다."
      ],
      "metadata": {
        "id": "iJmLmf9G4ieG"
      }
    },
    {
      "cell_type": "code",
      "source": [
        "def load_conversations():\n",
        "\n",
        "  inputs, outputs = [], []\n",
        "\n",
        "  for i in range(len(train_data) - 1):\n",
        "    inputs.append(preprocess_sentence(train_data.iloc[i]['Q']))\n",
        "    outputs.append(preprocess_sentence(train_data.iloc[i]['A']))\n",
        "\n",
        "  return inputs, outputs"
      ],
      "metadata": {
        "id": "AufPnGY4U3iw"
      },
      "execution_count": null,
      "outputs": []
    },
    {
      "cell_type": "code",
      "source": [
        "questions, answers = load_conversations()\n",
        "print('전체 샘플 수 :', len(questions))\n",
        "print('전체 샘플 수 :', len(answers))"
      ],
      "metadata": {
        "colab": {
          "base_uri": "https://localhost:8080/"
        },
        "id": "3WQmTy8LXAvh",
        "outputId": "a687a309-720f-4d5d-915c-5fe17dca3961"
      },
      "execution_count": null,
      "outputs": [
        {
          "output_type": "stream",
          "name": "stdout",
          "text": [
            "전체 샘플 수 : 9457\n",
            "전체 샘플 수 : 9457\n"
          ]
        }
      ]
    },
    {
      "cell_type": "code",
      "source": [
        "print('전처리 후의 11번째 질문 샘플: ', preprocess_sentence(questions[10]))\n",
        "print('전처리 후의 11번째 답변 샘플: ', preprocess_sentence(answers[10]))"
      ],
      "metadata": {
        "colab": {
          "base_uri": "https://localhost:8080/"
        },
        "id": "3FgShg-3Chge",
        "outputId": "25dd62db-a60f-45bd-c8d8-e1a11c2e2b99"
      },
      "execution_count": null,
      "outputs": [
        {
          "output_type": "stream",
          "name": "stdout",
          "text": [
            "전처리 후의 11번째 질문 샘플:  재회를 기다리다 단념하게 된 이유가 뭐였나 ? \n",
            "전처리 후의 11번째 답변 샘플:  똑같은 일이 반복될까 봐 두려웠던 거겠죠 . \n"
          ]
        }
      ]
    },
    {
      "cell_type": "markdown",
      "source": [
        "전처리하여 질문을 questions, 답변을 answers에 저장한다."
      ],
      "metadata": {
        "id": "VbWk4DKDX13A"
      }
    },
    {
      "cell_type": "markdown",
      "source": [
        "##SubwordTextEncoder"
      ],
      "metadata": {
        "id": "RjNIU8VJ0NGn"
      }
    },
    {
      "cell_type": "code",
      "source": [
        "tokenizer = tfds.deprecated.text.SubwordTextEncoder.build_from_corpus(questions + answers, target_vocab_size=2**13)"
      ],
      "metadata": {
        "id": "k0On6eBQtik5"
      },
      "execution_count": null,
      "outputs": []
    },
    {
      "cell_type": "markdown",
      "source": [
        "질문과 답변 데이터셋에 대해서 Vocabulary를 생성한다."
      ],
      "metadata": {
        "id": "O9_YhzZFSNpi"
      }
    },
    {
      "cell_type": "code",
      "source": [
        "START_TOKEN, END_TOKEN = [tokenizer.vocab_size], [tokenizer.vocab_size + 1]"
      ],
      "metadata": {
        "id": "et-56ou9tipr"
      },
      "execution_count": null,
      "outputs": []
    },
    {
      "cell_type": "markdown",
      "source": [
        "시작 토큰과 종료 토큰에 고유한 정수를 부여한다."
      ],
      "metadata": {
        "id": "n4XkfdbVSdvJ"
      }
    },
    {
      "cell_type": "code",
      "source": [
        "print('START_TOKEN의 번호 :' ,[tokenizer.vocab_size])\n",
        "print('END_TOKEN의 번호 :' ,[tokenizer.vocab_size + 1])"
      ],
      "metadata": {
        "colab": {
          "base_uri": "https://localhost:8080/"
        },
        "id": "mlWm_VcOSgHx",
        "outputId": "5d6b4285-6eb7-4ad8-f55b-20c7bd307701"
      },
      "execution_count": null,
      "outputs": [
        {
          "output_type": "stream",
          "name": "stdout",
          "text": [
            "START_TOKEN의 번호 : [8208]\n",
            "END_TOKEN의 번호 : [8209]\n"
          ]
        }
      ]
    },
    {
      "cell_type": "code",
      "source": [
        "VOCAB_SIZE = tokenizer.vocab_size + 2\n",
        "print(VOCAB_SIZE)"
      ],
      "metadata": {
        "colab": {
          "base_uri": "https://localhost:8080/"
        },
        "id": "KNqgkbjxULlZ",
        "outputId": "53822579-8a81-464c-a8f8-926f9a531f88"
      },
      "execution_count": null,
      "outputs": [
        {
          "output_type": "stream",
          "name": "stdout",
          "text": [
            "8210\n"
          ]
        }
      ]
    },
    {
      "cell_type": "markdown",
      "source": [
        "시작 토큰과 종료 토큰을 고려하여 +2를 하여 단어장의 크기를 산정한다."
      ],
      "metadata": {
        "id": "2LnC3CT9SgNo"
      }
    },
    {
      "cell_type": "code",
      "source": [
        "print('정수 인코딩 후의 3번째 질문 샘플: {}'.format(tokenizer.encode(questions[2])))\n",
        "print('정수 인코딩 후의 3번째 답변 샘플: {}'.format(tokenizer.encode(answers[2])))"
      ],
      "metadata": {
        "colab": {
          "base_uri": "https://localhost:8080/"
        },
        "id": "0cxn2ZFzSgdx",
        "outputId": "eced70bc-3257-4def-f05f-70c2274c25a2"
      },
      "execution_count": null,
      "outputs": [
        {
          "output_type": "stream",
          "name": "stdout",
          "text": [
            "정수 인코딩 후의 3번째 질문 샘플: [303, 682, 9, 213, 1]\n",
            "정수 인코딩 후의 3번째 답변 샘플: [322, 1]\n"
          ]
        }
      ]
    },
    {
      "cell_type": "markdown",
      "source": [
        "임의의 3번째 샘플에 대해서 정수 인코딩 작업을 수행한다.\n",
        "<br/>각 토큰을 고유한 정수로 변환한다."
      ],
      "metadata": {
        "id": "aX_PKvrjYX9B"
      }
    },
    {
      "cell_type": "code",
      "source": [
        "temp = []\n",
        "for q in answers: \n",
        "    if len(q) < 40:\n",
        "        temp.append(q)\n",
        "print(len(temp)/len(answers))"
      ],
      "metadata": {
        "colab": {
          "base_uri": "https://localhost:8080/"
        },
        "id": "yxiEvvjhSggo",
        "outputId": "8437fc43-b7bc-46f0-bdf7-a9c2d3ec5eb5"
      },
      "execution_count": null,
      "outputs": [
        {
          "output_type": "stream",
          "name": "stdout",
          "text": [
            "0.9900602728137887\n"
          ]
        }
      ]
    },
    {
      "cell_type": "code",
      "source": [
        "MAX_LENGTH = 40\n",
        "print(MAX_LENGTH)"
      ],
      "metadata": {
        "colab": {
          "base_uri": "https://localhost:8080/"
        },
        "id": "0kTNMnLYSgi8",
        "outputId": "355fccd1-a144-4acd-aa13-73ee6c615896"
      },
      "execution_count": null,
      "outputs": [
        {
          "output_type": "stream",
          "name": "stdout",
          "text": [
            "40\n"
          ]
        }
      ]
    },
    {
      "cell_type": "code",
      "source": [
        "def tokenize_and_filter(inputs, outputs):\n",
        "  tokenized_inputs, tokenized_outputs = [], []\n",
        "  \n",
        "  for (sentence1, sentence2) in zip(inputs, outputs):\n",
        "    sentence1 = START_TOKEN + tokenizer.encode(sentence1) + END_TOKEN\n",
        "    sentence2 = START_TOKEN + tokenizer.encode(sentence2) + END_TOKEN\n",
        "\n",
        "    if len(sentence1) <= MAX_LENGTH and len(sentence2) <= MAX_LENGTH:\n",
        "      tokenized_inputs.append(sentence1)\n",
        "      tokenized_outputs.append(sentence2)\n",
        "  \n",
        "  tokenized_inputs = tf.keras.preprocessing.sequence.pad_sequences(\n",
        "      tokenized_inputs, maxlen=MAX_LENGTH, padding='post')\n",
        "  tokenized_outputs = tf.keras.preprocessing.sequence.pad_sequences(\n",
        "      tokenized_outputs, maxlen=MAX_LENGTH, padding='post')\n",
        "  \n",
        "  return tokenized_inputs, tokenized_outputs"
      ],
      "metadata": {
        "id": "z5jG13FcYmYQ"
      },
      "execution_count": null,
      "outputs": []
    },
    {
      "cell_type": "markdown",
      "source": [
        "정수 인코딩, 최대 길이를 초과하는 샘플 제거, 패딩을 한다.\n",
        "<br/>정수 인코딩 과정에서 시작 토큰과 종료 토큰을 추가한다.\n",
        "<br/>최대 길이 40이하인 경우에만 데이터셋으로 허용한다.\n",
        "<br/>최대 길이 40으로 모든 데이터셋을 패딩한다."
      ],
      "metadata": {
        "id": "FlWj5hPVYrUI"
      }
    },
    {
      "cell_type": "code",
      "source": [
        "questions, answers = tokenize_and_filter(questions, answers)\n",
        "print('단어장의 크기 :',(VOCAB_SIZE))\n",
        "print('필터링 후의 샘플 개수: {}'.format(len(questions)))\n",
        "print('필터링 후의 샘플 개수: {}'.format(len(answers)))"
      ],
      "metadata": {
        "colab": {
          "base_uri": "https://localhost:8080/"
        },
        "id": "clnkFQRoYmbY",
        "outputId": "05342010-d8af-4202-fd81-b265bb82e969"
      },
      "execution_count": null,
      "outputs": [
        {
          "output_type": "stream",
          "name": "stdout",
          "text": [
            "단어장의 크기 : 8210\n",
            "필터링 후의 샘플 개수: 9457\n",
            "필터링 후의 샘플 개수: 9457\n"
          ]
        }
      ]
    },
    {
      "cell_type": "markdown",
      "source": [
        "#모델 구성"
      ],
      "metadata": {
        "id": "02N-HjT4u-yb"
      }
    },
    {
      "cell_type": "markdown",
      "source": [
        "##Positional Encoding Layer"
      ],
      "metadata": {
        "id": "eKVTxthxgSq_"
      }
    },
    {
      "cell_type": "code",
      "source": [
        "class PositionalEncoding(tf.keras.layers.Layer):\n",
        "    def __init__(self, position, d_model):\n",
        "        super(PositionalEncoding, self).__init__()\n",
        "        self.pos_encoding = self.positional_encoding(position, d_model)\n",
        "\n",
        "    def get_angles(self, position, i, d_model):\n",
        "        angles = 1 / tf.pow(10000, (2 * (i // 2)) / tf.cast(d_model, tf.float32))\n",
        "        return position * angles\n",
        "\n",
        "    def positional_encoding(self, position, d_model):\n",
        "        angle_rads = self.get_angles(\n",
        "            position=tf.range(position, dtype=tf.float32)[:, tf.newaxis],\n",
        "            i=tf.range(d_model, dtype=tf.float32)[tf.newaxis, :],\n",
        "            d_model=d_model)\n",
        "        \n",
        "        sines = tf.math.sin(angle_rads[:, 0::2])\n",
        "        cosines = tf.math.cos(angle_rads[:, 1::2])\n",
        "\n",
        "        pos_encoding = tf.concat([sines, cosines], axis=-1)\n",
        "        pos_encoding = pos_encoding[tf.newaxis, ...]\n",
        "        return tf.cast(pos_encoding, tf.float32)\n",
        "\n",
        "    def call(self, inputs):\n",
        "        return inputs + self.pos_encoding[:, :tf.shape(inputs)[1], :]"
      ],
      "metadata": {
        "id": "Jcc12mSoY92I"
      },
      "execution_count": null,
      "outputs": []
    },
    {
      "cell_type": "markdown",
      "source": [
        "배열의 짝수 인덱스에는 sin 함수를 적용한다.\n",
        "<br/>배열의 홀수 인덱스에는 cosine 함수를 적용한다."
      ],
      "metadata": {
        "id": "lQQmEFPggQ6P"
      }
    },
    {
      "cell_type": "markdown",
      "source": [
        "##Scaled Dot Product Attention"
      ],
      "metadata": {
        "id": "560Sr505gc7Q"
      }
    },
    {
      "cell_type": "code",
      "source": [
        "def scaled_dot_product_attention(query, key, value, mask):\n",
        "    matmul_qk = tf.matmul(query, key, transpose_b=True)\n",
        "\n",
        "    \n",
        "    depth = tf.cast(tf.shape(key)[-1], tf.float32)\n",
        "    logits = matmul_qk / tf.math.sqrt(depth)\n",
        "\n",
        "    if mask is not None:\n",
        "        logits += (mask * -1e9)\n",
        "\n",
        "    attention_weights = tf.nn.softmax(logits, axis=-1)\n",
        "\n",
        "    output = tf.matmul(attention_weights, value)\n",
        "\n",
        "    return output"
      ],
      "metadata": {
        "id": "f3ucp8IgvCEz"
      },
      "execution_count": null,
      "outputs": []
    },
    {
      "cell_type": "markdown",
      "source": [
        "##Multi Head Attention"
      ],
      "metadata": {
        "id": "St-mi3DRgxTS"
      }
    },
    {
      "cell_type": "code",
      "source": [
        "class MultiHeadAttention(tf.keras.layers.Layer):\n",
        "\n",
        "  def __init__(self, d_model, num_heads, name=\"multi_head_attention\"):\n",
        "    super(MultiHeadAttention, self).__init__(name=name)\n",
        "    self.num_heads = num_heads\n",
        "    self.d_model = d_model\n",
        "\n",
        "    assert d_model % self.num_heads == 0\n",
        "\n",
        "    self.depth = d_model // self.num_heads\n",
        "\n",
        "    self.query_dense = tf.keras.layers.Dense(units=d_model)\n",
        "    self.key_dense = tf.keras.layers.Dense(units=d_model)\n",
        "    self.value_dense = tf.keras.layers.Dense(units=d_model)\n",
        "\n",
        "    self.dense = tf.keras.layers.Dense(units=d_model)\n",
        "\n",
        "  def split_heads(self, inputs, batch_size):\n",
        "    inputs = tf.reshape(\n",
        "        inputs, shape=(batch_size, -1, self.num_heads, self.depth))\n",
        "    return tf.transpose(inputs, perm=[0, 2, 1, 3])\n",
        "\n",
        "  def call(self, inputs):\n",
        "    query, key, value, mask = inputs['query'], inputs['key'], inputs[\n",
        "        'value'], inputs['mask']\n",
        "    batch_size = tf.shape(query)[0]\n",
        "\n",
        "    \n",
        "    query = self.query_dense(query)\n",
        "    key = self.key_dense(key)\n",
        "    value = self.value_dense(value)\n",
        "\n",
        "    query = self.split_heads(query, batch_size)\n",
        "    key = self.split_heads(key, batch_size)\n",
        "    value = self.split_heads(value, batch_size)\n",
        "\n",
        "    scaled_attention = scaled_dot_product_attention(query, key, value, mask)\n",
        "\n",
        "    scaled_attention = tf.transpose(scaled_attention, perm=[0, 2, 1, 3])\n",
        "\n",
        "    concat_attention = tf.reshape(scaled_attention,\n",
        "                                  (batch_size, -1, self.d_model))\n",
        "\n",
        "    outputs = self.dense(concat_attention)\n",
        "\n",
        "    return outputs"
      ],
      "metadata": {
        "id": "Gbp3qOhF0jIM"
      },
      "execution_count": null,
      "outputs": []
    },
    {
      "cell_type": "markdown",
      "source": [
        "linear layers로 query, key, value를 구성한다.\n",
        "<br/>병렬 연산을 위한 머리를 여러 개 만든다.\n",
        "<br/>scaled_dot_product_attention 함수에 linear layers(query, key, value)를 불러온다.\n",
        "<br/>어텐션 연산 후에 각 결과를 다시 연결(concatenate)한다.\n",
        "<br/>dense는 final linear layer를 구성한다."
      ],
      "metadata": {
        "id": "IRo5w2mGhEW3"
      }
    },
    {
      "cell_type": "markdown",
      "source": [
        "##Padding Mask"
      ],
      "metadata": {
        "id": "U-rddTUjhsdX"
      }
    },
    {
      "cell_type": "code",
      "source": [
        "def create_padding_mask(x):\n",
        "  mask = tf.cast(tf.math.equal(x, 0), tf.float32)\n",
        "  return mask[:, tf.newaxis, tf.newaxis, :]"
      ],
      "metadata": {
        "id": "ZL2tk3ByvCHS"
      },
      "execution_count": null,
      "outputs": []
    },
    {
      "cell_type": "markdown",
      "source": [
        "##Look Ahead Mask"
      ],
      "metadata": {
        "id": "2i5f6_QzhuhP"
      }
    },
    {
      "cell_type": "code",
      "source": [
        "def create_look_ahead_mask(x):\n",
        "  seq_len = tf.shape(x)[1]\n",
        "  look_ahead_mask = 1 - tf.linalg.band_part(tf.ones((seq_len, seq_len)), -1, 0)\n",
        "  padding_mask = create_padding_mask(x)\n",
        "  return tf.maximum(look_ahead_mask, padding_mask)"
      ],
      "metadata": {
        "id": "STUj4UyRvCJp"
      },
      "execution_count": null,
      "outputs": []
    },
    {
      "cell_type": "markdown",
      "source": [
        "##Encoder"
      ],
      "metadata": {
        "id": "zsf7G4b8hfSU"
      }
    },
    {
      "cell_type": "code",
      "source": [
        "def encoder_layer(units, d_model, num_heads, dropout, name=\"encoder_layer\"):\n",
        "    inputs = tf.keras.Input(shape=(None, d_model), name=\"inputs\")\n",
        "\n",
        "    padding_mask = tf.keras.Input(shape=(1, 1, None), name=\"padding_mask\")\n",
        "\n",
        "    attention = MultiHeadAttention(\n",
        "          d_model, num_heads, name=\"attention\")({\n",
        "              'query': inputs,\n",
        "              'key': inputs,\n",
        "              'value': inputs,\n",
        "              'mask': padding_mask\n",
        "          })\n",
        "\n",
        "    attention = tf.keras.layers.Dropout(rate=dropout)(attention)\n",
        "    attention = tf.keras.layers.LayerNormalization(\n",
        "          epsilon=1e-6)(inputs + attention)\n",
        "\n",
        "    outputs = tf.keras.layers.Dense(units=units, activation='relu')(attention)\n",
        "    outputs = tf.keras.layers.Dense(units=d_model)(outputs)\n",
        "\n",
        "    outputs = tf.keras.layers.Dropout(rate=dropout)(outputs)\n",
        "    outputs = tf.keras.layers.LayerNormalization(\n",
        "          epsilon=1e-6)(attention + outputs)\n",
        "\n",
        "    return tf.keras.Model(\n",
        "          inputs=[inputs, padding_mask], outputs=outputs, name=name)"
      ],
      "metadata": {
        "id": "KwmZCvbnZFLp"
      },
      "execution_count": null,
      "outputs": []
    },
    {
      "cell_type": "markdown",
      "source": [
        "인코더 하나의 레이어 안에는 두 개의 서브 레이어가 존재한다."
      ],
      "metadata": {
        "id": "Z4gWNVkEhm8e"
      }
    },
    {
      "cell_type": "markdown",
      "source": [
        "Padding Mask를 사용한다."
      ],
      "metadata": {
        "id": "yL4dDzShjtwH"
      }
    },
    {
      "cell_type": "markdown",
      "source": [
        "첫번째 서브 레이어에서는 Multi Head Attention를 수행한다.\n",
        "<br/>어텐션의 결과는 Dropout과 Layer Normalization이라는 훈련을 돕는 테크닉을 수행한다."
      ],
      "metadata": {
        "id": "hPetBUObjqLP"
      }
    },
    {
      "cell_type": "markdown",
      "source": [
        "두번째 서브 레이어는 2개의 완전연결층으로 구성된다.\n",
        "<br/>완전연결층의 결과는 Dropout과 LayerNormalization이라는 훈련을 돕는 테크닉을 수행한다."
      ],
      "metadata": {
        "id": "Su7KZYWxjrqo"
      }
    },
    {
      "cell_type": "code",
      "source": [
        "def encoder(vocab_size,\n",
        "            num_layers,\n",
        "            units,\n",
        "            d_model,\n",
        "            num_heads,\n",
        "            dropout,\n",
        "            name=\"encoder\"):\n",
        "  inputs = tf.keras.Input(shape=(None,), name=\"inputs\")\n",
        "\n",
        "  padding_mask = tf.keras.Input(shape=(1, 1, None), name=\"padding_mask\")\n",
        "\n",
        "  embeddings = tf.keras.layers.Embedding(vocab_size, d_model)(inputs)\n",
        "  embeddings *= tf.math.sqrt(tf.cast(d_model, tf.float32))\n",
        "\n",
        "  embeddings = PositionalEncoding(vocab_size, d_model)(embeddings)\n",
        "  outputs = tf.keras.layers.Dropout(rate=dropout)(embeddings)\n",
        "\n",
        "  for i in range(num_layers):\n",
        "    outputs = encoder_layer(\n",
        "        units=units,\n",
        "        d_model=d_model,\n",
        "        num_heads=num_heads,\n",
        "        dropout=dropout,\n",
        "        name=\"encoder_layer_{}\".format(i),\n",
        "    )([outputs, padding_mask])\n",
        "\n",
        "  return tf.keras.Model(\n",
        "      inputs=[inputs, padding_mask], outputs=outputs, name=name)"
      ],
      "metadata": {
        "id": "XR8ltXfoZFYE"
      },
      "execution_count": null,
      "outputs": []
    },
    {
      "cell_type": "markdown",
      "source": [
        "Padding Mask를 사용한다.\n",
        "<br/>Embedding Layer를 구성한다.\n",
        "<br/>Positional Encoding을 한다.\n",
        "<br/>인코더의 층을 num_layers만큼 쌓아올린다."
      ],
      "metadata": {
        "id": "6rJGpTp_io-A"
      }
    },
    {
      "cell_type": "markdown",
      "source": [
        "##Decoder"
      ],
      "metadata": {
        "id": "pADihSvNh_un"
      }
    },
    {
      "cell_type": "code",
      "source": [
        "def decoder_layer(units, d_model, num_heads, dropout, name=\"decoder_layer\"):\n",
        "    inputs = tf.keras.Input(shape=(None, d_model), name=\"inputs\")\n",
        "    enc_outputs = tf.keras.Input(shape=(None, d_model), name=\"encoder_outputs\")\n",
        "    look_ahead_mask = tf.keras.Input(\n",
        "          shape=(1, None, None), name=\"look_ahead_mask\")\n",
        "    padding_mask = tf.keras.Input(shape=(1, 1, None), name='padding_mask')\n",
        "\n",
        "    attention1 = MultiHeadAttention(\n",
        "          d_model, num_heads, name=\"attention_1\")(inputs={\n",
        "              'query': inputs,\n",
        "              'key': inputs,\n",
        "              'value': inputs,\n",
        "              'mask': look_ahead_mask\n",
        "          })\n",
        "\n",
        "    attention1 = tf.keras.layers.LayerNormalization(\n",
        "          epsilon=1e-6)(attention1 + inputs)\n",
        "\n",
        "    attention2 = MultiHeadAttention(\n",
        "          d_model, num_heads, name=\"attention_2\")(inputs={\n",
        "              'query': attention1,\n",
        "              'key': enc_outputs,\n",
        "              'value': enc_outputs,\n",
        "              'mask': padding_mask\n",
        "          })\n",
        "\n",
        "  \n",
        "    attention2 = tf.keras.layers.Dropout(rate=dropout)(attention2)\n",
        "    attention2 = tf.keras.layers.LayerNormalization(\n",
        "          epsilon=1e-6)(attention2 + attention1)\n",
        "\n",
        "    outputs = tf.keras.layers.Dense(units=units, activation='relu')(attention2)\n",
        "    outputs = tf.keras.layers.Dense(units=d_model)(outputs)\n",
        "\n",
        "    outputs = tf.keras.layers.Dropout(rate=dropout)(outputs)\n",
        "    outputs = tf.keras.layers.LayerNormalization(\n",
        "          epsilon=1e-6)(outputs + attention2)\n",
        "\n",
        "    return tf.keras.Model(\n",
        "          inputs=[inputs, enc_outputs, look_ahead_mask, padding_mask],\n",
        "          outputs=outputs,\n",
        "          name=name)"
      ],
      "metadata": {
        "id": "bt3SrQcpZG5I"
      },
      "execution_count": null,
      "outputs": []
    },
    {
      "cell_type": "markdown",
      "source": [
        "디코더 하나의 레이어 안에는 세 개의 서브 레이어가 존재한다."
      ],
      "metadata": {
        "id": "pWAm-DuTiDVg"
      }
    },
    {
      "cell_type": "markdown",
      "source": [
        "첫번째 서브 레이어에서는 Multi Head Attention를 수행한다.\n",
        "<br/>어텐션의 결과는 Dropout과 Layer Normalization이라는 훈련을 돕는 테크닉을 수행한다."
      ],
      "metadata": {
        "id": "Mv4_rd9Fjef3"
      }
    },
    {
      "cell_type": "markdown",
      "source": [
        "두번째 서브 레이어는 Masked Multi Head Attention를 수행한다.\n",
        "<br/>어텐션의 결과는 Dropout과 Layer Normalization이라는 훈련을 돕는 테크닉을 수행한다."
      ],
      "metadata": {
        "id": "DFfseM4Xjc9I"
      }
    },
    {
      "cell_type": "markdown",
      "source": [
        "세번째 서브 레이어는 2개의 완전연결층으로 구성된다.\n",
        "<br/>완전연결층의 결과는 Dropout과 LayerNormalization이라는 훈련을 돕는 테크닉을 수행한다."
      ],
      "metadata": {
        "id": "MAZeE_QijhDX"
      }
    },
    {
      "cell_type": "code",
      "source": [
        "def decoder(vocab_size,\n",
        "            num_layers,\n",
        "            units,\n",
        "            d_model,\n",
        "            num_heads,\n",
        "            dropout,\n",
        "            name='decoder'):\n",
        "    inputs = tf.keras.Input(shape=(None,), name='inputs')\n",
        "    enc_outputs = tf.keras.Input(shape=(None, d_model), name='encoder_outputs')\n",
        "    look_ahead_mask = tf.keras.Input(\n",
        "      shape=(1, None, None), name='look_ahead_mask')\n",
        "\n",
        "    padding_mask = tf.keras.Input(shape=(1, 1, None), name='padding_mask')\n",
        "\n",
        "    embeddings = tf.keras.layers.Embedding(vocab_size, d_model)(inputs)\n",
        "    embeddings *= tf.math.sqrt(tf.cast(d_model, tf.float32))\n",
        "\n",
        "    embeddings = PositionalEncoding(vocab_size, d_model)(embeddings)\n",
        "\n",
        "    outputs = tf.keras.layers.Dropout(rate=dropout)(embeddings)\n",
        "\n",
        "    for i in range(num_layers):\n",
        "        outputs = decoder_layer(\n",
        "            units=units,\n",
        "            d_model=d_model,\n",
        "            num_heads=num_heads,\n",
        "            dropout=dropout,\n",
        "            name='decoder_layer_{}'.format(i),\n",
        "        )(inputs=[outputs, enc_outputs, look_ahead_mask, padding_mask])\n",
        "\n",
        "    return tf.keras.Model(\n",
        "      inputs=[inputs, enc_outputs, look_ahead_mask, padding_mask],\n",
        "      outputs=outputs,\n",
        "      name=name)"
      ],
      "metadata": {
        "id": "US9MwUyKZG8I"
      },
      "execution_count": null,
      "outputs": []
    },
    {
      "cell_type": "markdown",
      "source": [
        "Padding Mask를 사용한다.\n",
        "<br/>Embedding Layer를 구성한다.\n",
        "<br/>Positional Encoding을 한다.\n",
        "<br/>Dropout이라는 훈련을 돕는 테크닉을 수행\n",
        "<br/>인코더의 층을 num_layers만큼 쌓아올린다."
      ],
      "metadata": {
        "id": "GV2ZgLW9jzQ_"
      }
    },
    {
      "cell_type": "markdown",
      "source": [
        "##Transformer"
      ],
      "metadata": {
        "id": "-B4qQo9okDK_"
      }
    },
    {
      "cell_type": "code",
      "source": [
        "BATCH_SIZE = 64\n",
        "BUFFER_SIZE = 20000\n",
        "\n",
        "dataset = tf.data.Dataset.from_tensor_slices((\n",
        "    {\n",
        "        'inputs': questions,\n",
        "        'dec_inputs': answers[:, :-1]\n",
        "    },\n",
        "    {\n",
        "        'outputs': answers[:, 1:]\n",
        "    },\n",
        "))\n",
        "\n",
        "dataset = dataset.cache()\n",
        "dataset = dataset.shuffle(BUFFER_SIZE)\n",
        "dataset = dataset.batch(BATCH_SIZE)\n",
        "dataset = dataset.prefetch(tf.data.experimental.AUTOTUNE)"
      ],
      "metadata": {
        "id": "x2FjiQSoZL6Q"
      },
      "execution_count": null,
      "outputs": []
    },
    {
      "cell_type": "markdown",
      "source": [
        "디코더는 이전의 target을 다음의 input으로 사용한다.\n",
        "<br/>이에 따라 outputs에서는 START_TOKEN을 제거한다."
      ],
      "metadata": {
        "id": "r9VrWT5Hj6A2"
      }
    },
    {
      "cell_type": "code",
      "source": [
        "def transformer(vocab_size,\n",
        "                num_layers,\n",
        "                units,\n",
        "                d_model,\n",
        "                num_heads,\n",
        "                dropout,\n",
        "                name=\"transformer\"):\n",
        "  inputs = tf.keras.Input(shape=(None,), name=\"inputs\")\n",
        "  dec_inputs = tf.keras.Input(shape=(None,), name=\"dec_inputs\")\n",
        "\n",
        "  enc_padding_mask = tf.keras.layers.Lambda(\n",
        "      create_padding_mask, output_shape=(1, 1, None),\n",
        "      name='enc_padding_mask')(inputs)\n",
        "\n",
        "  look_ahead_mask = tf.keras.layers.Lambda(\n",
        "      create_look_ahead_mask,\n",
        "      output_shape=(1, None, None),\n",
        "      name='look_ahead_mask')(dec_inputs)\n",
        "\n",
        "  dec_padding_mask = tf.keras.layers.Lambda(\n",
        "      create_padding_mask, output_shape=(1, 1, None),\n",
        "      name='dec_padding_mask')(inputs)\n",
        "\n",
        "  enc_outputs = encoder(\n",
        "      vocab_size=vocab_size,\n",
        "      num_layers=num_layers,\n",
        "      units=units,\n",
        "      d_model=d_model,\n",
        "      num_heads=num_heads,\n",
        "      dropout=dropout,\n",
        "  )(inputs=[inputs, enc_padding_mask])\n",
        "\n",
        "  dec_outputs = decoder(\n",
        "      vocab_size=vocab_size,\n",
        "      num_layers=num_layers,\n",
        "      units=units,\n",
        "      d_model=d_model,\n",
        "      num_heads=num_heads,\n",
        "      dropout=dropout,\n",
        "  )(inputs=[dec_inputs, enc_outputs, look_ahead_mask, dec_padding_mask])\n",
        "\n",
        "  outputs = tf.keras.layers.Dense(units=vocab_size, name=\"outputs\")(dec_outputs)\n",
        "\n",
        "  return tf.keras.Model(inputs=[inputs, dec_inputs], outputs=outputs, name=name)"
      ],
      "metadata": {
        "id": "1OjJZ_x0ZL8-"
      },
      "execution_count": null,
      "outputs": []
    },
    {
      "cell_type": "markdown",
      "source": [
        "인코더에서 Padding Mask를 구성한다."
      ],
      "metadata": {
        "id": "BGJL3sjikIr3"
      }
    },
    {
      "cell_type": "markdown",
      "source": [
        "Look Ahead Mask는 코더에서 미래의 토큰을 마스킹한다.\n",
        "<br/>내부적으로 Padding Mask도 포함된다."
      ],
      "metadata": {
        "id": "Wlt5hYVpkNJH"
      }
    },
    {
      "cell_type": "markdown",
      "source": [
        "디코더에서 Padding Mask를 구성한다.\n",
        "<br/>두번째 어텐션 블록에서 인코더의 벡터들을 마스킹한다.\n"
      ],
      "metadata": {
        "id": "T0qztz8RkdBp"
      }
    },
    {
      "cell_type": "markdown",
      "source": [
        "인코더, 디코더, 완전연결층을 구성한다."
      ],
      "metadata": {
        "id": "r75Ch5BNkrnf"
      }
    },
    {
      "cell_type": "markdown",
      "source": [
        "#모델 학습"
      ],
      "metadata": {
        "id": "DTV5C8Z3vGNT"
      }
    },
    {
      "cell_type": "code",
      "source": [
        "tf.keras.backend.clear_session()"
      ],
      "metadata": {
        "id": "SO4kwjnVZUCI"
      },
      "execution_count": null,
      "outputs": []
    },
    {
      "cell_type": "code",
      "source": [
        "NUM_LAYERS = 2 \n",
        "D_MODEL = 256 \n",
        "NUM_HEADS = 8\n",
        "UNITS = 512 \n",
        "DROPOUT = 0.1"
      ],
      "metadata": {
        "id": "FlREteBak7OC"
      },
      "execution_count": null,
      "outputs": []
    },
    {
      "cell_type": "markdown",
      "source": [
        "하이퍼파라미터를 조정한다."
      ],
      "metadata": {
        "id": "L_0yA6q5k5rf"
      }
    },
    {
      "cell_type": "markdown",
      "source": [
        "인코더와 디코더의 층의 개수\n",
        "<br/>인코더와 디코더 내부의 입, 출력의 고정 차원\n",
        "<br/>멀티 헤드 어텐션에서의 헤드 수 \n",
        "<br/>피드 포워드 신경망의 은닉층의 크기\n",
        "<br/>드롭아웃의 비율"
      ],
      "metadata": {
        "id": "-h5U3WJdVmQR"
      }
    },
    {
      "cell_type": "code",
      "source": [
        "model = transformer(\n",
        "    vocab_size=VOCAB_SIZE,\n",
        "    num_layers=NUM_LAYERS,\n",
        "    units=UNITS,\n",
        "    d_model=D_MODEL,\n",
        "    num_heads=NUM_HEADS,\n",
        "    dropout=DROPOUT)\n",
        "\n",
        "model.summary()"
      ],
      "metadata": {
        "colab": {
          "base_uri": "https://localhost:8080/"
        },
        "id": "KaOc3XB5k4Fh",
        "outputId": "b2f5913a-2737-470d-adae-05118b62fefd"
      },
      "execution_count": null,
      "outputs": [
        {
          "output_type": "stream",
          "name": "stdout",
          "text": [
            "Model: \"transformer\"\n",
            "__________________________________________________________________________________________________\n",
            "Layer (type)                    Output Shape         Param #     Connected to                     \n",
            "==================================================================================================\n",
            "inputs (InputLayer)             [(None, None)]       0                                            \n",
            "__________________________________________________________________________________________________\n",
            "dec_inputs (InputLayer)         [(None, None)]       0                                            \n",
            "__________________________________________________________________________________________________\n",
            "enc_padding_mask (Lambda)       (None, 1, 1, None)   0           inputs[0][0]                     \n",
            "__________________________________________________________________________________________________\n",
            "encoder (Functional)            (None, None, 256)    3155968     inputs[0][0]                     \n",
            "                                                                 enc_padding_mask[0][0]           \n",
            "__________________________________________________________________________________________________\n",
            "look_ahead_mask (Lambda)        (None, 1, None, None 0           dec_inputs[0][0]                 \n",
            "__________________________________________________________________________________________________\n",
            "dec_padding_mask (Lambda)       (None, 1, 1, None)   0           inputs[0][0]                     \n",
            "__________________________________________________________________________________________________\n",
            "decoder (Functional)            (None, None, 256)    3683328     dec_inputs[0][0]                 \n",
            "                                                                 encoder[0][0]                    \n",
            "                                                                 look_ahead_mask[0][0]            \n",
            "                                                                 dec_padding_mask[0][0]           \n",
            "__________________________________________________________________________________________________\n",
            "outputs (Dense)                 (None, None, 8210)   2109970     decoder[0][0]                    \n",
            "==================================================================================================\n",
            "Total params: 8,949,266\n",
            "Trainable params: 8,949,266\n",
            "Non-trainable params: 0\n",
            "__________________________________________________________________________________________________\n"
          ]
        }
      ]
    },
    {
      "cell_type": "code",
      "source": [
        "def loss_function(y_true, y_pred):\n",
        "  y_true = tf.reshape(y_true, shape=(-1, MAX_LENGTH - 1))\n",
        "  \n",
        "  loss = tf.keras.losses.SparseCategoricalCrossentropy(\n",
        "      from_logits=True, reduction='none')(y_true, y_pred)\n",
        "\n",
        "  mask = tf.cast(tf.not_equal(y_true, 0), tf.float32)\n",
        "  loss = tf.multiply(loss, mask)\n",
        "\n",
        "  return tf.reduce_mean(loss)"
      ],
      "metadata": {
        "id": "fyQ-bkLPZczf"
      },
      "execution_count": null,
      "outputs": []
    },
    {
      "cell_type": "code",
      "source": [
        "class CustomSchedule(tf.keras.optimizers.schedules.LearningRateSchedule):\n",
        "    \n",
        "    def __init__(self, d_model, warmup_steps=4000):\n",
        "        super(CustomSchedule, self).__init__()\n",
        "\n",
        "        self.d_model = d_model\n",
        "        self.d_model = tf.cast(self.d_model, tf.float32)\n",
        "\n",
        "        self.warmup_steps = warmup_steps\n",
        "\n",
        "    def __call__(self, step):\n",
        "        arg1 = tf.math.rsqrt(step)\n",
        "        arg2 = step * (self.warmup_steps**-1.5)\n",
        "\n",
        "        return tf.math.rsqrt(self.d_model) * tf.math.minimum(arg1, arg2)"
      ],
      "metadata": {
        "id": "AW0qlzzqZd1h"
      },
      "execution_count": null,
      "outputs": []
    },
    {
      "cell_type": "code",
      "source": [
        "learning_rate = CustomSchedule(D_MODEL)\n",
        "\n",
        "optimizer = tf.keras.optimizers.Adam(\n",
        "    learning_rate, beta_1=0.9, beta_2=0.98, epsilon=1e-9)\n",
        "\n",
        "def accuracy(y_true, y_pred):\n",
        "  y_true = tf.reshape(y_true, shape=(-1, MAX_LENGTH - 1))\n",
        "  return tf.keras.metrics.sparse_categorical_accuracy(y_true, y_pred)\n",
        "\n",
        "model.compile(optimizer=optimizer, loss=loss_function, metrics=[accuracy])"
      ],
      "metadata": {
        "id": "IivXYKB1ZfOw"
      },
      "execution_count": null,
      "outputs": []
    },
    {
      "cell_type": "code",
      "source": [
        "EPOCHS = 20\n",
        "history = model.fit(dataset, epochs=EPOCHS, verbose=1)"
      ],
      "metadata": {
        "colab": {
          "base_uri": "https://localhost:8080/"
        },
        "id": "8E_fkgwlZg4Q",
        "outputId": "f50aff27-63bb-4ac1-9518-88c03438ad74"
      },
      "execution_count": null,
      "outputs": [
        {
          "output_type": "stream",
          "name": "stdout",
          "text": [
            "Epoch 1/20\n",
            "148/148 [==============================] - 16s 57ms/step - loss: 1.4610 - accuracy: 0.0213\n",
            "Epoch 2/20\n",
            "148/148 [==============================] - 8s 56ms/step - loss: 1.2452 - accuracy: 0.0476\n",
            "Epoch 3/20\n",
            "148/148 [==============================] - 8s 56ms/step - loss: 1.0475 - accuracy: 0.0502\n",
            "Epoch 4/20\n",
            "148/148 [==============================] - 8s 56ms/step - loss: 0.9495 - accuracy: 0.0520\n",
            "Epoch 5/20\n",
            "148/148 [==============================] - 8s 56ms/step - loss: 0.8937 - accuracy: 0.0560\n",
            "Epoch 6/20\n",
            "148/148 [==============================] - 8s 56ms/step - loss: 0.8426 - accuracy: 0.0596\n",
            "Epoch 7/20\n",
            "148/148 [==============================] - 8s 56ms/step - loss: 0.7906 - accuracy: 0.0630\n",
            "Epoch 8/20\n",
            "148/148 [==============================] - 8s 56ms/step - loss: 0.7351 - accuracy: 0.0682\n",
            "Epoch 9/20\n",
            "148/148 [==============================] - 8s 56ms/step - loss: 0.6742 - accuracy: 0.0745\n",
            "Epoch 10/20\n",
            "148/148 [==============================] - 8s 56ms/step - loss: 0.6090 - accuracy: 0.0818\n",
            "Epoch 11/20\n",
            "148/148 [==============================] - 8s 56ms/step - loss: 0.5390 - accuracy: 0.0896\n",
            "Epoch 12/20\n",
            "148/148 [==============================] - 8s 56ms/step - loss: 0.4672 - accuracy: 0.0984\n",
            "Epoch 13/20\n",
            "148/148 [==============================] - 8s 56ms/step - loss: 0.3953 - accuracy: 0.1079\n",
            "Epoch 14/20\n",
            "148/148 [==============================] - 8s 57ms/step - loss: 0.3255 - accuracy: 0.1173\n",
            "Epoch 15/20\n",
            "148/148 [==============================] - 8s 57ms/step - loss: 0.2602 - accuracy: 0.1268\n",
            "Epoch 16/20\n",
            "148/148 [==============================] - 8s 56ms/step - loss: 0.2009 - accuracy: 0.1361\n",
            "Epoch 17/20\n",
            "148/148 [==============================] - 8s 56ms/step - loss: 0.1510 - accuracy: 0.1457\n",
            "Epoch 18/20\n",
            "148/148 [==============================] - 8s 56ms/step - loss: 0.1093 - accuracy: 0.1533\n",
            "Epoch 19/20\n",
            "148/148 [==============================] - 8s 56ms/step - loss: 0.0783 - accuracy: 0.1590\n",
            "Epoch 20/20\n",
            "148/148 [==============================] - 8s 56ms/step - loss: 0.0568 - accuracy: 0.1625\n"
          ]
        }
      ]
    },
    {
      "cell_type": "code",
      "source": [
        "plt.plot(history.history['loss'], 'r')\n",
        "plt.title('Model validation accuracy (resnet_50 vs plain_50)')\n",
        "plt.ylabel('Accuracy')\n",
        "plt.xlabel('Epoch')\n",
        "plt.show()"
      ],
      "metadata": {
        "colab": {
          "base_uri": "https://localhost:8080/",
          "height": 295
        },
        "id": "J9SB0SXmZiuw",
        "outputId": "6ab8aa80-c57f-499b-c676-93606c63f812"
      },
      "execution_count": null,
      "outputs": [
        {
          "output_type": "display_data",
          "data": {
            "text/plain": [
              "<Figure size 432x288 with 1 Axes>"
            ],
            "image/png": "[encoded data removed]"
          },
          "metadata": {
            "needs_background": "light"
          }
        }
      ]
    },
    {
      "cell_type": "markdown",
      "source": [
        "loss가 1.4610에서 0.0568으로 떨어지며 안정적으로 수렴한다."
      ],
      "metadata": {
        "id": "3zpYSoxFnQw4"
      }
    },
    {
      "cell_type": "markdown",
      "source": [
        "#모델 평가"
      ],
      "metadata": {
        "id": "x7Z1FjKU0fQe"
      }
    },
    {
      "cell_type": "code",
      "source": [
        "def decoder_inference(sentence):\n",
        "  sentence = preprocess_sentence(sentence)\n",
        "\n",
        "  sentence = tf.expand_dims(\n",
        "      START_TOKEN + tokenizer.encode(sentence) + END_TOKEN, axis=0)\n",
        "\n",
        "  output_sequence = tf.expand_dims(START_TOKEN, 0)\n",
        "\n",
        "  for i in range(MAX_LENGTH):\n",
        "    predictions = model(inputs=[sentence, output_sequence], training=False)\n",
        "    predictions = predictions[:, -1:, :]\n",
        "\n",
        "    predicted_id = tf.cast(tf.argmax(predictions, axis=-1), tf.int32)\n",
        "\n",
        "    if tf.equal(predicted_id, END_TOKEN[0]):\n",
        "      break\n",
        "\n",
        "    output_sequence = tf.concat([output_sequence, predicted_id], axis=-1)\n",
        "\n",
        "  return tf.squeeze(output_sequence, axis=0)"
      ],
      "metadata": {
        "id": "WOeqx_G7vCMB"
      },
      "execution_count": null,
      "outputs": []
    },
    {
      "cell_type": "markdown",
      "source": [
        "output_sequence는 디코더의 현재까지의 예측한 출력 시퀀스가 지속적으로 저장되는 변수이다.\n",
        "<br/>처음에는 예측한 내용이 없으므로 시작 토큰만 별도 저장한다."
      ],
      "metadata": {
        "id": "BLMLJf_VlOvG"
      }
    },
    {
      "cell_type": "markdown",
      "source": [
        "디코더의 인퍼런스 단계에서는 디코더는 최대 MAX_LENGTH의 길이만큼 다음 단어 예측을 반복하며\n",
        "<br/>현재 예측한 단어의 정수를 연산한다.\n",
        "<br/>만약 현재 예측한 단어가 종료 토큰이라면 for문을 종료한다."
      ],
      "metadata": {
        "id": "aCrLfBR5lWRA"
      }
    },
    {
      "cell_type": "markdown",
      "source": [
        "예측한 단어들은 지속적으로 output_sequence에 추가된다.\n",
        "<br/>이 output_sequence는 다시 디코더의 입력이 된다."
      ],
      "metadata": {
        "id": "5V00lOQXlWT9"
      }
    },
    {
      "cell_type": "code",
      "source": [
        "def sentence_generation(sentence):\n",
        "  prediction = decoder_inference(sentence)\n",
        "  predicted_sentence = tokenizer.decode(\n",
        "      [i for i in prediction if i < tokenizer.vocab_size])\n",
        "\n",
        "  return predicted_sentence"
      ],
      "metadata": {
        "id": "-kKxPq5mvCQ8"
      },
      "execution_count": null,
      "outputs": []
    },
    {
      "cell_type": "markdown",
      "source": [
        "입력 문장에 대해서 디코더를 동작시켜 예측된 정수 시퀀스를 리턴받는다.\n",
        "<br/>정수 시퀀스를 다시 텍스트 시퀀스로 변환한다."
      ],
      "metadata": {
        "id": "hukrAwL5lwwP"
      }
    },
    {
      "cell_type": "code",
      "source": [
        "for i in range(10):\n",
        "    print('질문 입력 : {}'.format(test_data.iloc[i]['Q']))\n",
        "    print('예측 출력 : {}'.format(sentence_generation(test_data.iloc[i]['Q'])))\n",
        "    print('정답 출력 : {}'.format(test_data.iloc[i]['A']))\n",
        "    print('-'*25)"
      ],
      "metadata": {
        "id": "vRuaEH0BvCTl",
        "colab": {
          "base_uri": "https://localhost:8080/"
        },
        "outputId": "7caf42b6-44e6-4881-fac5-b5108b28528f"
      },
      "execution_count": null,
      "outputs": [
        {
          "output_type": "stream",
          "name": "stdout",
          "text": [
            "질문 입력 : 하루종일 썸남 생각만 해. 괜찮을까?\n",
            "예측 출력 : 감정 소모가 꽤 돼요 . \n",
            "정답 출력 : 그것 또한 감정의 일부니까요.\n",
            "-------------------------\n",
            "질문 입력 : 냉장고에 먹을 게 하나도 없네\n",
            "예측 출력 : 장 보러 가봅시다 . \n",
            "정답 출력 : 슈퍼라도 가서 쇼핑하고 오세요.\n",
            "-------------------------\n",
            "질문 입력 : 인사드리러 갔는데 파혼하는게 나을것 같아\n",
            "예측 출력 : 어떤 이별이든 후폭풍이 있는 것 같아요 . \n",
            "정답 출력 : 이혼이 아니라 다행입니다.\n",
            "-------------------------\n",
            "질문 입력 : 금값 어때\n",
            "예측 출력 : 비싸요 . \n",
            "정답 출력 : 비싸요.\n",
            "-------------------------\n",
            "질문 입력 : 연애상담하더니 둘이 사귀더라\n",
            "예측 출력 : 상황이 생각을 바뀌게 하기도 합니다 . \n",
            "정답 출력 : 대화를 하다가 친해졌나봐요.\n",
            "-------------------------\n",
            "질문 입력 : 혼자 노래방 가면 어색할 거 같은데\n",
            "예측 출력 : 신나는 노래를 들려주세요 . \n",
            "정답 출력 : 신나는 노래로 분위기를 띄어보세요.\n",
            "-------------------------\n",
            "질문 입력 : 기회도 없네.\n",
            "예측 출력 : 행운을 빌게요 ! \n",
            "정답 출력 : 다른 기회가 올 거예요.\n",
            "-------------------------\n",
            "질문 입력 : 사랑한 만큼 배려해야했어\n",
            "예측 출력 :  이야기보다 가슴 먹먹할 거예요 . \n",
            "정답 출력 : 이제야 깨달았나봐요.\n",
            "-------------------------\n",
            "질문 입력 : 여자친구가 전화를 안해\n",
            "예측 출력 : 다른 연락을 많이 하거나 더 자주 만나세요 . \n",
            "정답 출력 : 다른 연락을 많이 하거나 더 자주 만나세요.\n",
            "-------------------------\n",
            "질문 입력 : 못생긴 남자를 좋아하는 여자가 있을지.\n",
            "예측 출력 : 직접 말할 때까지 조금 기다려주세요 . \n",
            "정답 출력 : 외모가 중요한 시대는 끝났어요.\n",
            "-------------------------\n"
          ]
        }
      ]
    },
    {
      "cell_type": "markdown",
      "source": [
        "\n",
        "#결론"
      ],
      "metadata": {
        "id": "ZAkexolpvN5j"
      }
    },
    {
      "cell_type": "markdown",
      "source": [
        "**모델 훈련**"
      ],
      "metadata": {
        "id": "uvHDuLqwsNBt"
      }
    },
    {
      "cell_type": "markdown",
      "source": [
        "loss가 1.4610에서 0.0568으로 떨어지며 안정적으로 수렴한다."
      ],
      "metadata": {
        "id": "4dT8YxAVsNT3"
      }
    },
    {
      "cell_type": "markdown",
      "source": [
        "**정답 문장과 예측 결과 비교**"
      ],
      "metadata": {
        "id": "y-pQyThGrbDV"
      }
    },
    {
      "cell_type": "markdown",
      "source": [
        "시험 데이터에서 10번째 문장까지 입력한 결과 그럴듯한 한국어로 답변을 리턴하였다.\n",
        "<br/>정답과 똑같은 어휘 혹은 비슷한 의미를 가진 어휘를 사용한 문장이 출력됐다.\n",
        "<br/>2개의 엉뚱하거나 어색한 의미의 문장이 출력되기도 했다."
      ],
      "metadata": {
        "id": "VmPY8nsoqkrd"
      }
    },
    {
      "cell_type": "markdown",
      "source": [
        "**여담**"
      ],
      "metadata": {
        "id": "T1OJ0Bof0J4r"
      }
    },
    {
      "cell_type": "markdown",
      "source": [
        "앞으로 NLP 모델을 공부하면서 코드에 대한 설명을 추가할 예정이다.\n",
        "<br/>밑바닥부터 시작한 딥러닝 2권 1회독을 하고 1차 수정을 한다.\n",
        "<br/>Attention Is All You Need 논문을 정독하고 2차 수정을 한다."
      ],
      "metadata": {
        "id": "rePq-i_nrw9t"
      }
    },
    {
      "cell_type": "markdown",
      "source": [
        "#참고문헌"
      ],
      "metadata": {
        "id": "4C929lGGvSgm"
      }
    },
    {
      "cell_type": "markdown",
      "source": [
        "**LMS**\n",
        "<br/>[ukairia777](https://github.com/ukairia777)\n",
        "\n",
        "<br/>**논문**\n",
        "<br/>[이재경, 서진범, 조영복, 「한글 토크나이징 라이브러리 모듈 분석」, 한국정보통신학회, 『2021년 춘계 종합학술대회 논문집』, 2021, p.78~80](http://koreascience.or.kr/journal/HOJBAV/y2021m05a.page?&lang=ko)\n",
        "\n",
        "<br/>**단행본**\n",
        "<br/>유원준 외 1명, 『딥러닝을 이용한 자연어 처리 입문』, Wikidocs, 2022\n",
        "<br/>[한국어 전처리 패키지(Text Preprocessing Tools for Korean Text)](https://wikidocs.net/92961)\n",
        "\n",
        "<br/>**깃허브**\n",
        "<br/>[Chatbot data for Korean v1.0](https://github.com/songys/Chatbot_data)\n",
        "<br/>[py-hanspell](https://github.com/ssut/py-hanspell)\n",
        "<br/>[soynlp](https://github.com/lovit/soynlp)\n",
        "\n",
        "<br/>**웹사이트**\n",
        "<br/>[다음 카페 사랑보다 아름다운 실연](http://cafe116.daum.net/_c21_/home?grpid=1bld)\n",
        "<br/>[Tensorflow Datasets(tfds) 사용하기](https://somnio100.tistory.com/100)\n",
        "<br/>[stackoverflow : module 'tensorflow_datasets.core.features' has no attribute 'text'](https://stackoverflow.com/questions/65397061/module-tensorflow-datasets-core-features-has-no-attribute-text)"
      ],
      "metadata": {
        "id": "mJ90Gskco0vn"
      }
    }
  ]
}