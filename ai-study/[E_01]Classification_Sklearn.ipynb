{
  "nbformat": 4,
  "nbformat_minor": 0,
  "metadata": {
    "colab": {
      "name": "[E_01]Classification_Sklearn.ipynb",
      "provenance": [],
      "collapsed_sections": [],
      "toc_visible": true
    },
    "kernelspec": {
      "name": "python3",
      "display_name": "Python 3"
    },
    "language_info": {
      "name": "python"
    }
  },
  "cells": [
    {
      "cell_type": "markdown",
      "source": [
        "##Iris의 세 가지 품종, 분류해볼 수 있겠어요?"
      ],
      "metadata": {
        "id": "Sr4hwJAuZEe3"
      }
    },
    {
      "cell_type": "markdown",
      "source": [
        ""
      ],
      "metadata": {
        "id": "VFbRRnrnGSQf"
      }
    },
    {
      "cell_type": "markdown",
      "source": [
        "데이터셋\n",
        "<br/>load_digits : 손글씨 분류\n",
        "<br/>load_wine : 와인 분류\n",
        "<br/>load_breast_cancer : 유방암 여부 진단\n",
        "\n"
      ],
      "metadata": {
        "id": "E8t7vKsl3IMB"
      }
    },
    {
      "cell_type": "markdown",
      "source": [
        "개발 환경\n",
        "<br/>데이터 정보\n",
        "<br/>데이터 탐색\n",
        "<br/>데이터 분리"
      ],
      "metadata": {
        "id": "Q6OPYysr3fTH"
      }
    },
    {
      "cell_type": "markdown",
      "source": [
        "모델 학습\n",
        "<br/>Decision Tree\n",
        "<br/>Random Forest\n",
        "<br/>SVC\n",
        "<br/>SGD Classifier\n",
        "<br/>Logistic Regression"
      ],
      "metadata": {
        "id": "cWGhEvsUOqN0"
      }
    },
    {
      "cell_type": "markdown",
      "source": [
        "모델 평가\n",
        "<br/>결론\n",
        "<br/>참고문헌"
      ],
      "metadata": {
        "id": "QlpPmwokGlfL"
      }
    },
    {
      "cell_type": "markdown",
      "source": [
        ""
      ],
      "metadata": {
        "id": "viXsVMRoI5Ow"
      }
    },
    {
      "cell_type": "markdown",
      "source": [
        "#개발 환경"
      ],
      "metadata": {
        "id": "9oIlH_e_taqz"
      }
    },
    {
      "cell_type": "code",
      "source": [
        "import pandas as pd                                   \n",
        "import numpy as np  \n",
        "import warnings\n",
        "warnings.filterwarnings(action='ignore')\n",
        "import matplotlib.pyplot as plt  \n",
        "%matplotlib inline                                              "
      ],
      "metadata": {
        "id": "iTZvgkbJZCpM"
      },
      "execution_count": null,
      "outputs": []
    },
    {
      "cell_type": "markdown",
      "source": [
        "pandas는 데이터를 구조화된 형식으로 가공 및 분석할 수 있도록 자료구조를 제공하는 패키지이다."
      ],
      "metadata": {
        "id": "x7lgy5WVkVBB"
      }
    },
    {
      "cell_type": "markdown",
      "source": [
        "matplotlib은 데이터를 시각화한다."
      ],
      "metadata": {
        "id": "8yEFfniQky6Y"
      }
    },
    {
      "cell_type": "markdown",
      "source": [
        "numpy는 수치 행렬을 계산한다."
      ],
      "metadata": {
        "id": "24NyuDv1kaf3"
      }
    },
    {
      "cell_type": "code",
      "source": [
        "from sklearn.model_selection import train_test_split  \n",
        "from sklearn.metrics import classification_report     \n",
        "from sklearn.metrics import confusion_matrix \n",
        "from sklearn.metrics import plot_confusion_matrix \n",
        "from sklearn.metrics import accuracy_score            \n",
        "from sklearn.tree import DecisionTreeClassifier       \n",
        "from sklearn.ensemble import RandomForestClassifier  \n",
        "from sklearn import svm                              \n",
        "from sklearn.linear_model import SGDClassifier       \n",
        "from sklearn.linear_model import LogisticRegression   "
      ],
      "metadata": {
        "id": "xa7DtpO0UIPa"
      },
      "execution_count": null,
      "outputs": []
    },
    {
      "cell_type": "markdown",
      "source": [
        "sklearn.model_selection은 데이터를 훈련 데이터와 시험 데이터로 분리한다."
      ],
      "metadata": {
        "id": "U0WfVTVzkaio"
      }
    },
    {
      "cell_type": "markdown",
      "source": [
        "sklearn.metrics은 분류 결과값을 class별로 출력하고 오차행렬을 시각화한다.\n",
        "<br/>또한 정확도를 측정한다."
      ],
      "metadata": {
        "id": "UlXenP8jkamY"
      }
    },
    {
      "cell_type": "markdown",
      "source": [
        "sklearn은 Decision Tree, Random Forest, Support Vector Classifier(SVC), SGD Clssifier, Logistic Regression을 한다."
      ],
      "metadata": {
        "id": "sn3FhmZhlSBX"
      }
    },
    {
      "cell_type": "code",
      "source": [
        "from google.colab import drive\n",
        "drive.mount('/content/drive')"
      ],
      "metadata": {
        "id": "Lg8BoyytOJnZ"
      },
      "execution_count": null,
      "outputs": []
    },
    {
      "cell_type": "code",
      "source": [
        "pip freeze > '/content/drive/MyDrive/lms/library_version.txt'"
      ],
      "metadata": {
        "id": "JYitOpjsOGa5"
      },
      "execution_count": null,
      "outputs": []
    },
    {
      "cell_type": "code",
      "source": [
        "library_name = ['pandas=', 'numpy=', 'matplotlib=', 'sklearn=']\n",
        "library_version = []\n",
        "f = open('/content/drive/MyDrive/lms/library_version.txt', 'r')\n",
        "line = f.readline()\n",
        "while True:\n",
        "    line = f.readline()\n",
        "    if not line:\n",
        "      break\n",
        "    for i in library_name:\n",
        "      if i in line:\n",
        "        library_version.append(line)\n",
        "        library_version.append('    ')\n",
        "\n",
        "f.close()\n",
        "\n",
        "import sys\n",
        "print(sys.version)\n",
        "print()\n",
        "\n",
        "for i in range(0, len(library_version) - 1, 6):\n",
        "  print(str(library_version[i : i+6]).replace(\"[\",\"\").replace(\"]\",\"\").replace(\"'\",\"\").replace(\"\\\\n\",\"\").replace(\",\",\"\"), end='') \n",
        "  if i % 6 == 0:\n",
        "    print()\n",
        "\n",
        "for i in range(len(library_version) - 1):\n",
        "  if (i-1) % 6 == 0 and i == len(library_version) - 6:\n",
        "    print(str(library_version[-1]).replace(\"[\",\"\").replace(\"]\",\"\").replace(\"'\",\"\").replace(\"\\\\n\",\"\").replace(\",\",\"\"), end='')"
      ],
      "metadata": {
        "colab": {
          "base_uri": "https://localhost:8080/"
        },
        "id": "o2hEba00Nyv6",
        "outputId": "6eee26ce-afe2-4600-ac46-5421e09c5b94"
      },
      "execution_count": null,
      "outputs": [
        {
          "output_type": "stream",
          "name": "stdout",
          "text": [
            "3.7.13 (default, Apr 24 2022, 01:04:09) \n",
            "[GCC 7.5.0]\n",
            "\n",
            "matplotlib==3.2.2      numpy==1.21.6      pandas==1.3.5     \n",
            "sklearn==0.0      sklearn-pandas==1.8.0     \n"
          ]
        }
      ]
    },
    {
      "cell_type": "code",
      "source": [
        "gpu_info = !nvidia-smi\n",
        "gpu_info = '\\n'.join(gpu_info)\n",
        "if gpu_info.find('failed') >= 0:\n",
        "  print('Not connected to a GPU')\n",
        "else:\n",
        "  print(gpu_info)"
      ],
      "metadata": {
        "id": "BQApWrmwH7Hi"
      },
      "execution_count": null,
      "outputs": []
    },
    {
      "cell_type": "code",
      "source": [
        "from psutil import virtual_memory\n",
        "ram_gb = virtual_memory().total / 1e9\n",
        "print('Your runtime has {:.1f} gigabytes of available RAM\\n'.format(ram_gb))\n",
        "\n",
        "if ram_gb < 20:\n",
        "  print('Not using a high-RAM runtime')\n",
        "else:\n",
        "  print('You are using a high-RAM runtime!')"
      ],
      "metadata": {
        "id": "v9ZDVvzUH7Kw"
      },
      "execution_count": null,
      "outputs": []
    },
    {
      "cell_type": "markdown",
      "source": [
        "Google Colab에서 할당된 GPU를 확인한다.\n",
        "<br/>고용량 메모리 VM에 액세스한다."
      ],
      "metadata": {
        "id": "BCTZkx7nIBUa"
      }
    },
    {
      "cell_type": "markdown",
      "source": [
        "#load_digits : 손글씨 분류"
      ],
      "metadata": {
        "id": "oDUTXgdkZL5d"
      }
    },
    {
      "cell_type": "markdown",
      "source": [
        "##데이터 정보"
      ],
      "metadata": {
        "id": "zutmDQaJ1wp9"
      }
    },
    {
      "cell_type": "markdown",
      "source": [
        "[sklearn.datasets.load_digits](https://scikit-learn.org/stable/modules/generated/sklearn.datasets.load_digits.html#sklearn.datasets.load_digits)"
      ],
      "metadata": {
        "id": "46ANN16r1wuD"
      }
    },
    {
      "cell_type": "markdown",
      "source": [
        "##데이터 탐색"
      ],
      "metadata": {
        "id": "t3r2KuUkbh3n"
      }
    },
    {
      "cell_type": "code",
      "source": [
        "from sklearn.datasets import load_digits             \n",
        "digits = load_digits()                                                                                                       "
      ],
      "metadata": {
        "id": "Lm2jyb_9ZLDT"
      },
      "execution_count": null,
      "outputs": []
    },
    {
      "cell_type": "code",
      "source": [
        "plt.gray()\n",
        "matfig = plt.figure(figsize=(2,2))\n",
        "ax = plt.matshow(digits.images[0], fignum=matfig.number)\n",
        "plt.show() "
      ],
      "metadata": {
        "colab": {
          "base_uri": "https://localhost:8080/",
          "height": 181
        },
        "id": "nYekqgMh9SYg",
        "outputId": "fd964fd0-7fe0-4123-e2f3-a58e4775d9e1"
      },
      "execution_count": null,
      "outputs": [
        {
          "output_type": "display_data",
          "data": {
            "text/plain": [
              "<Figure size 720x576 with 0 Axes>"
            ]
          },
          "metadata": {}
        },
        {
          "output_type": "display_data",
          "data": {
            "text/plain": [
              "<Figure size 144x144 with 1 Axes>"
            ],
            "image/png": "[encoded data removed]"
          },
          "metadata": {
            "needs_background": "light"
          }
        }
      ]
    },
    {
      "cell_type": "markdown",
      "source": [
        "손글씨 데이터 행렬을 시각화 도구 matplotlip을 이용해 나타낼 수 있다. "
      ],
      "metadata": {
        "id": "GShar1j0U2Xu"
      }
    },
    {
      "cell_type": "code",
      "source": [
        "dir(digits)                                         "
      ],
      "metadata": {
        "id": "lxgtcYmijTHl",
        "colab": {
          "base_uri": "https://localhost:8080/"
        },
        "outputId": "a914fd23-03ab-421c-98b4-75f08b32ab8c"
      },
      "execution_count": null,
      "outputs": [
        {
          "output_type": "execute_result",
          "data": {
            "text/plain": [
              "['DESCR', 'data', 'feature_names', 'frame', 'images', 'target', 'target_names']"
            ]
          },
          "metadata": {},
          "execution_count": 290
        }
      ]
    },
    {
      "cell_type": "code",
      "source": [
        "digits.keys() "
      ],
      "metadata": {
        "id": "H03T-Bu8LjGt",
        "colab": {
          "base_uri": "https://localhost:8080/"
        },
        "outputId": "597286ec-9a1f-45e4-9a14-3487f33ebc39"
      },
      "execution_count": null,
      "outputs": [
        {
          "output_type": "execute_result",
          "data": {
            "text/plain": [
              "dict_keys(['data', 'target', 'frame', 'feature_names', 'target_names', 'images', 'DESCR'])"
            ]
          },
          "metadata": {},
          "execution_count": 291
        }
      ]
    },
    {
      "cell_type": "markdown",
      "source": [
        "데이터셋 digits에는 data, target, frame, feature_names, target_names, images, DESCR까지\n",
        "<br/>총 7개의 정보가 담겨져있다."
      ],
      "metadata": {
        "id": "N8rUli8eHe3t"
      }
    },
    {
      "cell_type": "code",
      "source": [
        "digits_data = digits.data\n",
        "print(digits_data.shape) "
      ],
      "metadata": {
        "id": "DaIOfOIve-MK",
        "colab": {
          "base_uri": "https://localhost:8080/"
        },
        "outputId": "e6980501-3021-4748-e198-7180f8e70b98"
      },
      "execution_count": null,
      "outputs": [
        {
          "output_type": "stream",
          "name": "stdout",
          "text": [
            "(1797, 64)\n"
          ]
        }
      ]
    },
    {
      "cell_type": "markdown",
      "source": [
        "총 1797개의 데이터가 각각 64개의 정보를 담고 있다."
      ],
      "metadata": {
        "id": "TU324LdpI_SW"
      }
    },
    {
      "cell_type": "code",
      "source": [
        "digits_data[0]"
      ],
      "metadata": {
        "id": "oyIGOrjyJbVy",
        "colab": {
          "base_uri": "https://localhost:8080/"
        },
        "outputId": "7160d93e-5550-4eee-d193-f6fcfcb715ba"
      },
      "execution_count": null,
      "outputs": [
        {
          "output_type": "execute_result",
          "data": {
            "text/plain": [
              "array([ 0.,  0.,  5., 13.,  9.,  1.,  0.,  0.,  0.,  0., 13., 15., 10.,\n",
              "       15.,  5.,  0.,  0.,  3., 15.,  2.,  0., 11.,  8.,  0.,  0.,  4.,\n",
              "       12.,  0.,  0.,  8.,  8.,  0.,  0.,  5.,  8.,  0.,  0.,  9.,  8.,\n",
              "        0.,  0.,  4., 11.,  0.,  1., 12.,  7.,  0.,  0.,  2., 14.,  5.,\n",
              "       10., 12.,  0.,  0.,  0.,  0.,  6., 13., 10.,  0.,  0.,  0.])"
            ]
          },
          "metadata": {},
          "execution_count": 293
        }
      ]
    },
    {
      "cell_type": "markdown",
      "source": [
        "0번 index에 위치한 데이터의 정보이다."
      ],
      "metadata": {
        "id": "VF6CjYlcJpG6"
      }
    },
    {
      "cell_type": "code",
      "source": [
        "digits_label = digits.target\n",
        "print(digits_label.shape)\n",
        "digits_label"
      ],
      "metadata": {
        "id": "ZEoPYQPhelDc",
        "colab": {
          "base_uri": "https://localhost:8080/"
        },
        "outputId": "bffc637d-06f6-4a37-d69f-72ef256c2386"
      },
      "execution_count": null,
      "outputs": [
        {
          "output_type": "stream",
          "name": "stdout",
          "text": [
            "(1797,)\n"
          ]
        },
        {
          "output_type": "execute_result",
          "data": {
            "text/plain": [
              "array([0, 1, 2, ..., 8, 9, 8])"
            ]
          },
          "metadata": {},
          "execution_count": 6
        }
      ]
    },
    {
      "cell_type": "markdown",
      "source": [
        "digits 데이터의 타겟정보\n",
        "<br/>타겟은 주어진 정답을 의미한다.\n",
        "<br/>총 1797개의 데이터가 0부터 9까지 정수 한 자릿수로 구성됐다."
      ],
      "metadata": {
        "id": "EKXTsv5aKn2H"
      }
    },
    {
      "cell_type": "code",
      "source": [
        "digits.target_names"
      ],
      "metadata": {
        "id": "N1-ARJlgfNn2",
        "colab": {
          "base_uri": "https://localhost:8080/"
        },
        "outputId": "79e1e1c4-0211-4d3d-c23d-d67b3bc4bfb4"
      },
      "execution_count": null,
      "outputs": [
        {
          "output_type": "execute_result",
          "data": {
            "text/plain": [
              "array([0, 1, 2, 3, 4, 5, 6, 7, 8, 9])"
            ]
          },
          "metadata": {},
          "execution_count": 7
        }
      ]
    },
    {
      "cell_type": "markdown",
      "source": [
        "0부터 9까지 손글씨 이미지의 요소가 담겨있다."
      ],
      "metadata": {
        "id": "9uwB8YXKKYJe"
      }
    },
    {
      "cell_type": "code",
      "source": [
        "digits_feature = digits.feature_names\n",
        "digits_feature"
      ],
      "metadata": {
        "id": "Tk5zZWvxJMOn"
      },
      "execution_count": null,
      "outputs": []
    },
    {
      "cell_type": "markdown",
      "source": [
        "feature은 데이터의 속성으로 64개를 가지고 있다."
      ],
      "metadata": {
        "id": "uJPqRUcnLgLD"
      }
    },
    {
      "cell_type": "code",
      "source": [
        "print(digits['DESCR'])"
      ],
      "metadata": {
        "id": "HceMXvlRiOQQ",
        "colab": {
          "base_uri": "https://localhost:8080/"
        },
        "outputId": "9cb0fd28-a504-4f51-db78-b935d0ee9358"
      },
      "execution_count": null,
      "outputs": [
        {
          "output_type": "stream",
          "name": "stdout",
          "text": [
            ".. _digits_dataset:\n",
            "\n",
            "Optical recognition of handwritten digits dataset\n",
            "--------------------------------------------------\n",
            "\n",
            "**Data Set Characteristics:**\n",
            "\n",
            "    :Number of Instances: 1797\n",
            "    :Number of Attributes: 64\n",
            "    :Attribute Information: 8x8 image of integer pixels in the range 0..16.\n",
            "    :Missing Attribute Values: None\n",
            "    :Creator: E. Alpaydin (alpaydin '@' boun.edu.tr)\n",
            "    :Date: July; 1998\n",
            "\n",
            "This is a copy of the test set of the UCI ML hand-written digits datasets\n",
            "https://archive.ics.uci.edu/ml/datasets/Optical+Recognition+of+Handwritten+Digits\n",
            "\n",
            "The data set contains images of hand-written digits: 10 classes where\n",
            "each class refers to a digit.\n",
            "\n",
            "Preprocessing programs made available by NIST were used to extract\n",
            "normalized bitmaps of handwritten digits from a preprinted form. From a\n",
            "total of 43 people, 30 contributed to the training set and different 13\n",
            "to the test set. 32x32 bitmaps are divided into nonoverlapping blocks of\n",
            "4x4 and the number of on pixels are counted in each block. This generates\n",
            "an input matrix of 8x8 where each element is an integer in the range\n",
            "0..16. This reduces dimensionality and gives invariance to small\n",
            "distortions.\n",
            "\n",
            "For info on NIST preprocessing routines, see M. D. Garris, J. L. Blue, G.\n",
            "T. Candela, D. L. Dimmick, J. Geist, P. J. Grother, S. A. Janet, and C.\n",
            "L. Wilson, NIST Form-Based Handprint Recognition System, NISTIR 5469,\n",
            "1994.\n",
            "\n",
            ".. topic:: References\n",
            "\n",
            "  - C. Kaynak (1995) Methods of Combining Multiple Classifiers and Their\n",
            "    Applications to Handwritten Digit Recognition, MSc Thesis, Institute of\n",
            "    Graduate Studies in Science and Engineering, Bogazici University.\n",
            "  - E. Alpaydin, C. Kaynak (1998) Cascading Classifiers, Kybernetika.\n",
            "  - Ken Tang and Ponnuthurai N. Suganthan and Xi Yao and A. Kai Qin.\n",
            "    Linear dimensionalityreduction using relevance weighted LDA. School of\n",
            "    Electrical and Electronic Engineering Nanyang Technological University.\n",
            "    2005.\n",
            "  - Claudio Gentile. A New Approximate Maximal Margin Classification\n",
            "    Algorithm. NIPS. 2000.\n",
            "\n"
          ]
        }
      ]
    },
    {
      "cell_type": "markdown",
      "source": [
        "인스턴스. 속성. 속성에 대한 정보. 결측치 개수. 데이터셋 제작자와 제작 날짜 등을 알아볼 수 있다."
      ],
      "metadata": {
        "id": "z7O3PcgTMErx"
      }
    },
    {
      "cell_type": "code",
      "source": [
        "digits_df = pd.DataFrame(data=digits.data, columns=digits.feature_names)  \n",
        "digits_df['label'] = digits.target                                       \n",
        "digits_df                                                                "
      ],
      "metadata": {
        "id": "fcsJcCe7fNx6",
        "colab": {
          "base_uri": "https://localhost:8080/",
          "height": 488
        },
        "outputId": "8ec8c38d-74f1-454a-b9dc-1f41a22ad539"
      },
      "execution_count": null,
      "outputs": [
        {
          "output_type": "execute_result",
          "data": {
            "text/plain": [
              "      pixel_0_0  pixel_0_1  pixel_0_2  pixel_0_3  pixel_0_4  pixel_0_5  \\\n",
              "0           0.0        0.0        5.0       13.0        9.0        1.0   \n",
              "1           0.0        0.0        0.0       12.0       13.0        5.0   \n",
              "2           0.0        0.0        0.0        4.0       15.0       12.0   \n",
              "3           0.0        0.0        7.0       15.0       13.0        1.0   \n",
              "4           0.0        0.0        0.0        1.0       11.0        0.0   \n",
              "...         ...        ...        ...        ...        ...        ...   \n",
              "1792        0.0        0.0        4.0       10.0       13.0        6.0   \n",
              "1793        0.0        0.0        6.0       16.0       13.0       11.0   \n",
              "1794        0.0        0.0        1.0       11.0       15.0        1.0   \n",
              "1795        0.0        0.0        2.0       10.0        7.0        0.0   \n",
              "1796        0.0        0.0       10.0       14.0        8.0        1.0   \n",
              "\n",
              "      pixel_0_6  pixel_0_7  pixel_1_0  pixel_1_1  ...  pixel_6_7  pixel_7_0  \\\n",
              "0           0.0        0.0        0.0        0.0  ...        0.0        0.0   \n",
              "1           0.0        0.0        0.0        0.0  ...        0.0        0.0   \n",
              "2           0.0        0.0        0.0        0.0  ...        0.0        0.0   \n",
              "3           0.0        0.0        0.0        8.0  ...        0.0        0.0   \n",
              "4           0.0        0.0        0.0        0.0  ...        0.0        0.0   \n",
              "...         ...        ...        ...        ...  ...        ...        ...   \n",
              "1792        0.0        0.0        0.0        1.0  ...        0.0        0.0   \n",
              "1793        1.0        0.0        0.0        0.0  ...        0.0        0.0   \n",
              "1794        0.0        0.0        0.0        0.0  ...        0.0        0.0   \n",
              "1795        0.0        0.0        0.0        0.0  ...        0.0        0.0   \n",
              "1796        0.0        0.0        0.0        2.0  ...        0.0        0.0   \n",
              "\n",
              "      pixel_7_1  pixel_7_2  pixel_7_3  pixel_7_4  pixel_7_5  pixel_7_6  \\\n",
              "0           0.0        6.0       13.0       10.0        0.0        0.0   \n",
              "1           0.0        0.0       11.0       16.0       10.0        0.0   \n",
              "2           0.0        0.0        3.0       11.0       16.0        9.0   \n",
              "3           0.0        7.0       13.0       13.0        9.0        0.0   \n",
              "4           0.0        0.0        2.0       16.0        4.0        0.0   \n",
              "...         ...        ...        ...        ...        ...        ...   \n",
              "1792        0.0        2.0       14.0       15.0        9.0        0.0   \n",
              "1793        0.0        6.0       16.0       14.0        6.0        0.0   \n",
              "1794        0.0        2.0        9.0       13.0        6.0        0.0   \n",
              "1795        0.0        5.0       12.0       16.0       12.0        0.0   \n",
              "1796        1.0        8.0       12.0       14.0       12.0        1.0   \n",
              "\n",
              "      pixel_7_7  label  \n",
              "0           0.0      0  \n",
              "1           0.0      1  \n",
              "2           0.0      2  \n",
              "3           0.0      3  \n",
              "4           0.0      4  \n",
              "...         ...    ...  \n",
              "1792        0.0      9  \n",
              "1793        0.0      0  \n",
              "1794        0.0      8  \n",
              "1795        0.0      9  \n",
              "1796        0.0      8  \n",
              "\n",
              "[1797 rows x 65 columns]"
            ],
            "text/html": [
              "\n",
              "  <div id=\"df-3d2c293b-b0a9-4b52-a88e-77bbe754b9eb\">\n",
              "    <div class=\"colab-df-container\">\n",
              "      <div>\n",
              "<style scoped>\n",
              "    .dataframe tbody tr th:only-of-type {\n",
              "        vertical-align: middle;\n",
              "    }\n",
              "\n",
              "    .dataframe tbody tr th {\n",
              "        vertical-align: top;\n",
              "    }\n",
              "\n",
              "    .dataframe thead th {\n",
              "        text-align: right;\n",
              "    }\n",
              "</style>\n",
              "<table border=\"1\" class=\"dataframe\">\n",
              "  <thead>\n",
              "    <tr style=\"text-align: right;\">\n",
              "      <th></th>\n",
              "      <th>pixel_0_0</th>\n",
              "      <th>pixel_0_1</th>\n",
              "      <th>pixel_0_2</th>\n",
              "      <th>pixel_0_3</th>\n",
              "      <th>pixel_0_4</th>\n",
              "      <th>pixel_0_5</th>\n",
              "      <th>pixel_0_6</th>\n",
              "      <th>pixel_0_7</th>\n",
              "      <th>pixel_1_0</th>\n",
              "      <th>pixel_1_1</th>\n",
              "      <th>...</th>\n",
              "      <th>pixel_6_7</th>\n",
              "      <th>pixel_7_0</th>\n",
              "      <th>pixel_7_1</th>\n",
              "      <th>pixel_7_2</th>\n",
              "      <th>pixel_7_3</th>\n",
              "      <th>pixel_7_4</th>\n",
              "      <th>pixel_7_5</th>\n",
              "      <th>pixel_7_6</th>\n",
              "      <th>pixel_7_7</th>\n",
              "      <th>label</th>\n",
              "    </tr>\n",
              "  </thead>\n",
              "  <tbody>\n",
              "    <tr>\n",
              "      <th>0</th>\n",
              "      <td>0.0</td>\n",
              "      <td>0.0</td>\n",
              "      <td>5.0</td>\n",
              "      <td>13.0</td>\n",
              "      <td>9.0</td>\n",
              "      <td>1.0</td>\n",
              "      <td>0.0</td>\n",
              "      <td>0.0</td>\n",
              "      <td>0.0</td>\n",
              "      <td>0.0</td>\n",
              "      <td>...</td>\n",
              "      <td>0.0</td>\n",
              "      <td>0.0</td>\n",
              "      <td>0.0</td>\n",
              "      <td>6.0</td>\n",
              "      <td>13.0</td>\n",
              "      <td>10.0</td>\n",
              "      <td>0.0</td>\n",
              "      <td>0.0</td>\n",
              "      <td>0.0</td>\n",
              "      <td>0</td>\n",
              "    </tr>\n",
              "    <tr>\n",
              "      <th>1</th>\n",
              "      <td>0.0</td>\n",
              "      <td>0.0</td>\n",
              "      <td>0.0</td>\n",
              "      <td>12.0</td>\n",
              "      <td>13.0</td>\n",
              "      <td>5.0</td>\n",
              "      <td>0.0</td>\n",
              "      <td>0.0</td>\n",
              "      <td>0.0</td>\n",
              "      <td>0.0</td>\n",
              "      <td>...</td>\n",
              "      <td>0.0</td>\n",
              "      <td>0.0</td>\n",
              "      <td>0.0</td>\n",
              "      <td>0.0</td>\n",
              "      <td>11.0</td>\n",
              "      <td>16.0</td>\n",
              "      <td>10.0</td>\n",
              "      <td>0.0</td>\n",
              "      <td>0.0</td>\n",
              "      <td>1</td>\n",
              "    </tr>\n",
              "    <tr>\n",
              "      <th>2</th>\n",
              "      <td>0.0</td>\n",
              "      <td>0.0</td>\n",
              "      <td>0.0</td>\n",
              "      <td>4.0</td>\n",
              "      <td>15.0</td>\n",
              "      <td>12.0</td>\n",
              "      <td>0.0</td>\n",
              "      <td>0.0</td>\n",
              "      <td>0.0</td>\n",
              "      <td>0.0</td>\n",
              "      <td>...</td>\n",
              "      <td>0.0</td>\n",
              "      <td>0.0</td>\n",
              "      <td>0.0</td>\n",
              "      <td>0.0</td>\n",
              "      <td>3.0</td>\n",
              "      <td>11.0</td>\n",
              "      <td>16.0</td>\n",
              "      <td>9.0</td>\n",
              "      <td>0.0</td>\n",
              "      <td>2</td>\n",
              "    </tr>\n",
              "    <tr>\n",
              "      <th>3</th>\n",
              "      <td>0.0</td>\n",
              "      <td>0.0</td>\n",
              "      <td>7.0</td>\n",
              "      <td>15.0</td>\n",
              "      <td>13.0</td>\n",
              "      <td>1.0</td>\n",
              "      <td>0.0</td>\n",
              "      <td>0.0</td>\n",
              "      <td>0.0</td>\n",
              "      <td>8.0</td>\n",
              "      <td>...</td>\n",
              "      <td>0.0</td>\n",
              "      <td>0.0</td>\n",
              "      <td>0.0</td>\n",
              "      <td>7.0</td>\n",
              "      <td>13.0</td>\n",
              "      <td>13.0</td>\n",
              "      <td>9.0</td>\n",
              "      <td>0.0</td>\n",
              "      <td>0.0</td>\n",
              "      <td>3</td>\n",
              "    </tr>\n",
              "    <tr>\n",
              "      <th>4</th>\n",
              "      <td>0.0</td>\n",
              "      <td>0.0</td>\n",
              "      <td>0.0</td>\n",
              "      <td>1.0</td>\n",
              "      <td>11.0</td>\n",
              "      <td>0.0</td>\n",
              "      <td>0.0</td>\n",
              "      <td>0.0</td>\n",
              "      <td>0.0</td>\n",
              "      <td>0.0</td>\n",
              "      <td>...</td>\n",
              "      <td>0.0</td>\n",
              "      <td>0.0</td>\n",
              "      <td>0.0</td>\n",
              "      <td>0.0</td>\n",
              "      <td>2.0</td>\n",
              "      <td>16.0</td>\n",
              "      <td>4.0</td>\n",
              "      <td>0.0</td>\n",
              "      <td>0.0</td>\n",
              "      <td>4</td>\n",
              "    </tr>\n",
              "    <tr>\n",
              "      <th>...</th>\n",
              "      <td>...</td>\n",
              "      <td>...</td>\n",
              "      <td>...</td>\n",
              "      <td>...</td>\n",
              "      <td>...</td>\n",
              "      <td>...</td>\n",
              "      <td>...</td>\n",
              "      <td>...</td>\n",
              "      <td>...</td>\n",
              "      <td>...</td>\n",
              "      <td>...</td>\n",
              "      <td>...</td>\n",
              "      <td>...</td>\n",
              "      <td>...</td>\n",
              "      <td>...</td>\n",
              "      <td>...</td>\n",
              "      <td>...</td>\n",
              "      <td>...</td>\n",
              "      <td>...</td>\n",
              "      <td>...</td>\n",
              "      <td>...</td>\n",
              "    </tr>\n",
              "    <tr>\n",
              "      <th>1792</th>\n",
              "      <td>0.0</td>\n",
              "      <td>0.0</td>\n",
              "      <td>4.0</td>\n",
              "      <td>10.0</td>\n",
              "      <td>13.0</td>\n",
              "      <td>6.0</td>\n",
              "      <td>0.0</td>\n",
              "      <td>0.0</td>\n",
              "      <td>0.0</td>\n",
              "      <td>1.0</td>\n",
              "      <td>...</td>\n",
              "      <td>0.0</td>\n",
              "      <td>0.0</td>\n",
              "      <td>0.0</td>\n",
              "      <td>2.0</td>\n",
              "      <td>14.0</td>\n",
              "      <td>15.0</td>\n",
              "      <td>9.0</td>\n",
              "      <td>0.0</td>\n",
              "      <td>0.0</td>\n",
              "      <td>9</td>\n",
              "    </tr>\n",
              "    <tr>\n",
              "      <th>1793</th>\n",
              "      <td>0.0</td>\n",
              "      <td>0.0</td>\n",
              "      <td>6.0</td>\n",
              "      <td>16.0</td>\n",
              "      <td>13.0</td>\n",
              "      <td>11.0</td>\n",
              "      <td>1.0</td>\n",
              "      <td>0.0</td>\n",
              "      <td>0.0</td>\n",
              "      <td>0.0</td>\n",
              "      <td>...</td>\n",
              "      <td>0.0</td>\n",
              "      <td>0.0</td>\n",
              "      <td>0.0</td>\n",
              "      <td>6.0</td>\n",
              "      <td>16.0</td>\n",
              "      <td>14.0</td>\n",
              "      <td>6.0</td>\n",
              "      <td>0.0</td>\n",
              "      <td>0.0</td>\n",
              "      <td>0</td>\n",
              "    </tr>\n",
              "    <tr>\n",
              "      <th>1794</th>\n",
              "      <td>0.0</td>\n",
              "      <td>0.0</td>\n",
              "      <td>1.0</td>\n",
              "      <td>11.0</td>\n",
              "      <td>15.0</td>\n",
              "      <td>1.0</td>\n",
              "      <td>0.0</td>\n",
              "      <td>0.0</td>\n",
              "      <td>0.0</td>\n",
              "      <td>0.0</td>\n",
              "      <td>...</td>\n",
              "      <td>0.0</td>\n",
              "      <td>0.0</td>\n",
              "      <td>0.0</td>\n",
              "      <td>2.0</td>\n",
              "      <td>9.0</td>\n",
              "      <td>13.0</td>\n",
              "      <td>6.0</td>\n",
              "      <td>0.0</td>\n",
              "      <td>0.0</td>\n",
              "      <td>8</td>\n",
              "    </tr>\n",
              "    <tr>\n",
              "      <th>1795</th>\n",
              "      <td>0.0</td>\n",
              "      <td>0.0</td>\n",
              "      <td>2.0</td>\n",
              "      <td>10.0</td>\n",
              "      <td>7.0</td>\n",
              "      <td>0.0</td>\n",
              "      <td>0.0</td>\n",
              "      <td>0.0</td>\n",
              "      <td>0.0</td>\n",
              "      <td>0.0</td>\n",
              "      <td>...</td>\n",
              "      <td>0.0</td>\n",
              "      <td>0.0</td>\n",
              "      <td>0.0</td>\n",
              "      <td>5.0</td>\n",
              "      <td>12.0</td>\n",
              "      <td>16.0</td>\n",
              "      <td>12.0</td>\n",
              "      <td>0.0</td>\n",
              "      <td>0.0</td>\n",
              "      <td>9</td>\n",
              "    </tr>\n",
              "    <tr>\n",
              "      <th>1796</th>\n",
              "      <td>0.0</td>\n",
              "      <td>0.0</td>\n",
              "      <td>10.0</td>\n",
              "      <td>14.0</td>\n",
              "      <td>8.0</td>\n",
              "      <td>1.0</td>\n",
              "      <td>0.0</td>\n",
              "      <td>0.0</td>\n",
              "      <td>0.0</td>\n",
              "      <td>2.0</td>\n",
              "      <td>...</td>\n",
              "      <td>0.0</td>\n",
              "      <td>0.0</td>\n",
              "      <td>1.0</td>\n",
              "      <td>8.0</td>\n",
              "      <td>12.0</td>\n",
              "      <td>14.0</td>\n",
              "      <td>12.0</td>\n",
              "      <td>1.0</td>\n",
              "      <td>0.0</td>\n",
              "      <td>8</td>\n",
              "    </tr>\n",
              "  </tbody>\n",
              "</table>\n",
              "<p>1797 rows × 65 columns</p>\n",
              "</div>\n",
              "      <button class=\"colab-df-convert\" onclick=\"convertToInteractive('df-3d2c293b-b0a9-4b52-a88e-77bbe754b9eb')\"\n",
              "              title=\"Convert this dataframe to an interactive table.\"\n",
              "              style=\"display:none;\">\n",
              "        \n",
              "  <svg xmlns=\"http://www.w3.org/2000/svg\" height=\"24px\"viewBox=\"0 0 24 24\"\n",
              "       width=\"24px\">\n",
              "    <path d=\"M0 0h24v24H0V0z\" fill=\"none\"/>\n",
              "    <path d=\"M18.56 5.44l.94 2.06.94-2.06 2.06-.94-2.06-.94-.94-2.06-.94 2.06-2.06.94zm-11 1L8.5 8.5l.94-2.06 2.06-.94-2.06-.94L8.5 2.5l-.94 2.06-2.06.94zm10 10l.94 2.06.94-2.06 2.06-.94-2.06-.94-.94-2.06-.94 2.06-2.06.94z\"/><path d=\"M17.41 7.96l-1.37-1.37c-.4-.4-.92-.59-1.43-.59-.52 0-1.04.2-1.43.59L10.3 9.45l-7.72 7.72c-.78.78-.78 2.05 0 2.83L4 21.41c.39.39.9.59 1.41.59.51 0 1.02-.2 1.41-.59l7.78-7.78 2.81-2.81c.8-.78.8-2.07 0-2.86zM5.41 20L4 18.59l7.72-7.72 1.47 1.35L5.41 20z\"/>\n",
              "  </svg>\n",
              "      </button>\n",
              "      \n",
              "  <style>\n",
              "    .colab-df-container {\n",
              "      display:flex;\n",
              "      flex-wrap:wrap;\n",
              "      gap: 12px;\n",
              "    }\n",
              "\n",
              "    .colab-df-convert {\n",
              "      background-color: #E8F0FE;\n",
              "      border: none;\n",
              "      border-radius: 50%;\n",
              "      cursor: pointer;\n",
              "      display: none;\n",
              "      fill: #1967D2;\n",
              "      height: 32px;\n",
              "      padding: 0 0 0 0;\n",
              "      width: 32px;\n",
              "    }\n",
              "\n",
              "    .colab-df-convert:hover {\n",
              "      background-color: #E2EBFA;\n",
              "      box-shadow: 0px 1px 2px rgba(60, 64, 67, 0.3), 0px 1px 3px 1px rgba(60, 64, 67, 0.15);\n",
              "      fill: #174EA6;\n",
              "    }\n",
              "\n",
              "    [theme=dark] .colab-df-convert {\n",
              "      background-color: #3B4455;\n",
              "      fill: #D2E3FC;\n",
              "    }\n",
              "\n",
              "    [theme=dark] .colab-df-convert:hover {\n",
              "      background-color: #434B5C;\n",
              "      box-shadow: 0px 1px 3px 1px rgba(0, 0, 0, 0.15);\n",
              "      filter: drop-shadow(0px 1px 2px rgba(0, 0, 0, 0.3));\n",
              "      fill: #FFFFFF;\n",
              "    }\n",
              "  </style>\n",
              "\n",
              "      <script>\n",
              "        const buttonEl =\n",
              "          document.querySelector('#df-3d2c293b-b0a9-4b52-a88e-77bbe754b9eb button.colab-df-convert');\n",
              "        buttonEl.style.display =\n",
              "          google.colab.kernel.accessAllowed ? 'block' : 'none';\n",
              "\n",
              "        async function convertToInteractive(key) {\n",
              "          const element = document.querySelector('#df-3d2c293b-b0a9-4b52-a88e-77bbe754b9eb');\n",
              "          const dataTable =\n",
              "            await google.colab.kernel.invokeFunction('convertToInteractive',\n",
              "                                                     [key], {});\n",
              "          if (!dataTable) return;\n",
              "\n",
              "          const docLinkHtml = 'Like what you see? Visit the ' +\n",
              "            '<a target=\"_blank\" href=https://colab.research.google.com/notebooks/data_table.ipynb>data table notebook</a>'\n",
              "            + ' to learn more about interactive tables.';\n",
              "          element.innerHTML = '';\n",
              "          dataTable['output_type'] = 'display_data';\n",
              "          await google.colab.output.renderOutput(dataTable, element);\n",
              "          const docLink = document.createElement('div');\n",
              "          docLink.innerHTML = docLinkHtml;\n",
              "          element.appendChild(docLink);\n",
              "        }\n",
              "      </script>\n",
              "    </div>\n",
              "  </div>\n",
              "  "
            ]
          },
          "metadata": {},
          "execution_count": 9
        }
      ]
    },
    {
      "cell_type": "markdown",
      "source": [
        "정답 데이터 label 컬럼을 추가했다."
      ],
      "metadata": {
        "id": "gwnssmkKNKzC"
      }
    },
    {
      "cell_type": "markdown",
      "source": [
        "##데이터 분리"
      ],
      "metadata": {
        "id": "PsvlmQJbeMWj"
      }
    },
    {
      "cell_type": "code",
      "source": [
        "x_train, x_test, y_train, y_test = train_test_split(digits_data,  \n",
        "                                                    digits_label,    \n",
        "                                                    test_size=0.2,   \n",
        "                                                    random_state=1)  \n",
        "\n",
        "print('x_train 개수: ', len(x_train),', x_test 개수: ', len(x_test))"
      ],
      "metadata": {
        "id": "V_qeTI-zcsoz",
        "colab": {
          "base_uri": "https://localhost:8080/"
        },
        "outputId": "34f0c95c-8fa8-46b6-b1c7-4906836d5330"
      },
      "execution_count": null,
      "outputs": [
        {
          "output_type": "stream",
          "name": "stdout",
          "text": [
            "x_train 개수:  1437 , x_test 개수:  360\n"
          ]
        }
      ]
    },
    {
      "cell_type": "markdown",
      "source": [
        "digits_data은 특징 데이터, digits_label은 정답 데이터로 구성하여\n",
        "<br/>random state으로 데이터를 무작위로 정렬하고\n",
        "<br/>전체의 20%를 시험 데이터로 사용한다."
      ],
      "metadata": {
        "id": "F8qsZOMDmmmQ"
      }
    },
    {
      "cell_type": "markdown",
      "source": [
        "##모델 학습"
      ],
      "metadata": {
        "id": "OWv0Fg02SXaR"
      }
    },
    {
      "cell_type": "markdown",
      "source": [
        "###Decision Tree\n"
      ],
      "metadata": {
        "id": "_RFf9UXtm3FD"
      }
    },
    {
      "cell_type": "code",
      "source": [
        "decision_tree = DecisionTreeClassifier(random_state=15)   \n",
        "decision_tree.fit(x_train, y_train)    \n",
        "y_pred = decision_tree.predict(x_test)                       "
      ],
      "metadata": {
        "id": "4Pn4A3pQok9E"
      },
      "execution_count": null,
      "outputs": []
    },
    {
      "cell_type": "code",
      "source": [
        "y_pred"
      ],
      "metadata": {
        "id": "QEFproEwScyF",
        "colab": {
          "base_uri": "https://localhost:8080/"
        },
        "outputId": "6a0d1962-9646-400a-db92-d26829a08e5a"
      },
      "execution_count": null,
      "outputs": [
        {
          "output_type": "execute_result",
          "data": {
            "text/plain": [
              "array([1, 5, 0, 7, 1, 0, 6, 1, 5, 4, 9, 2, 7, 8, 4, 6, 9, 3, 7, 4, 7, 2,\n",
              "       8, 6, 0, 9, 6, 1, 3, 7, 5, 9, 8, 3, 2, 8, 8, 4, 1, 0, 7, 9, 0, 0,\n",
              "       8, 7, 2, 7, 4, 3, 4, 3, 4, 0, 4, 7, 0, 5, 9, 5, 2, 1, 7, 0, 5, 1,\n",
              "       8, 3, 3, 4, 0, 3, 7, 5, 3, 4, 2, 7, 7, 3, 2, 5, 3, 4, 1, 5, 5, 2,\n",
              "       5, 2, 2, 5, 2, 7, 0, 8, 1, 7, 4, 2, 9, 8, 2, 3, 9, 0, 5, 9, 5, 2,\n",
              "       3, 2, 8, 1, 1, 9, 1, 2, 0, 1, 3, 5, 4, 4, 7, 6, 2, 6, 6, 1, 9, 5,\n",
              "       6, 9, 8, 3, 7, 1, 8, 5, 9, 4, 4, 8, 5, 0, 6, 0, 6, 3, 7, 6, 5, 6,\n",
              "       2, 2, 2, 3, 0, 7, 6, 5, 6, 4, 5, 0, 6, 0, 6, 5, 0, 9, 9, 5, 5, 2,\n",
              "       3, 2, 9, 0, 7, 6, 2, 9, 3, 5, 8, 4, 6, 9, 3, 7, 4, 4, 2, 7, 6, 1,\n",
              "       6, 8, 4, 0, 3, 1, 5, 9, 9, 3, 4, 9, 5, 6, 8, 0, 4, 5, 4, 8, 2, 3,\n",
              "       5, 3, 0, 8, 7, 7, 0, 3, 3, 7, 6, 3, 2, 3, 9, 1, 6, 9, 0, 4, 2, 2,\n",
              "       7, 9, 1, 6, 7, 6, 8, 9, 1, 5, 3, 4, 0, 6, 4, 8, 5, 3, 6, 2, 1, 4,\n",
              "       0, 4, 4, 8, 7, 9, 3, 5, 2, 7, 0, 9, 0, 4, 4, 0, 1, 8, 6, 4, 2, 8,\n",
              "       5, 0, 9, 6, 0, 1, 8, 3, 0, 5, 5, 6, 2, 0, 5, 0, 9, 1, 4, 7, 1, 7,\n",
              "       0, 6, 6, 8, 0, 2, 2, 6, 9, 9, 7, 5, 1, 4, 6, 4, 6, 1, 9, 4, 7, 1,\n",
              "       3, 7, 8, 1, 6, 9, 8, 8, 2, 4, 8, 4, 5, 5, 6, 8, 9, 4, 5, 0, 0, 4,\n",
              "       9, 8, 0, 4, 9, 4, 2, 5])"
            ]
          },
          "metadata": {},
          "execution_count": 30
        }
      ]
    },
    {
      "cell_type": "code",
      "source": [
        "y_test"
      ],
      "metadata": {
        "id": "eiujdSRNSkt2",
        "colab": {
          "base_uri": "https://localhost:8080/"
        },
        "outputId": "454dc7e1-0aa2-4e39-8f39-0f7be8a146ad"
      },
      "execution_count": null,
      "outputs": [
        {
          "output_type": "execute_result",
          "data": {
            "text/plain": [
              "array([1, 5, 0, 7, 1, 0, 6, 1, 5, 4, 9, 2, 7, 8, 4, 6, 9, 3, 7, 4, 7, 1,\n",
              "       8, 6, 0, 9, 6, 1, 3, 7, 5, 9, 8, 3, 2, 8, 8, 1, 1, 0, 7, 9, 0, 0,\n",
              "       8, 7, 2, 7, 4, 3, 4, 3, 4, 0, 4, 7, 0, 5, 5, 5, 2, 1, 7, 0, 5, 1,\n",
              "       8, 3, 3, 4, 0, 3, 7, 4, 3, 4, 2, 9, 7, 3, 2, 5, 3, 4, 1, 5, 5, 2,\n",
              "       5, 2, 2, 2, 2, 7, 0, 8, 1, 7, 4, 2, 3, 8, 2, 3, 3, 0, 2, 9, 9, 2,\n",
              "       3, 2, 8, 1, 1, 9, 1, 2, 0, 4, 8, 5, 4, 4, 7, 6, 7, 6, 6, 1, 7, 5,\n",
              "       6, 3, 8, 3, 7, 1, 8, 5, 3, 4, 7, 8, 5, 0, 6, 0, 6, 3, 7, 6, 5, 6,\n",
              "       2, 2, 2, 3, 0, 7, 6, 5, 6, 4, 1, 0, 6, 0, 6, 4, 0, 9, 3, 8, 1, 2,\n",
              "       3, 1, 9, 0, 7, 6, 2, 9, 3, 5, 3, 4, 6, 3, 3, 7, 4, 9, 2, 7, 6, 1,\n",
              "       6, 8, 4, 0, 3, 1, 0, 9, 9, 9, 0, 1, 8, 6, 8, 0, 9, 5, 9, 8, 2, 3,\n",
              "       5, 3, 0, 8, 7, 4, 0, 3, 3, 3, 6, 3, 3, 2, 9, 1, 6, 9, 0, 4, 2, 2,\n",
              "       7, 9, 1, 6, 7, 6, 3, 7, 1, 9, 3, 4, 0, 6, 4, 8, 5, 3, 6, 3, 1, 4,\n",
              "       0, 4, 4, 8, 7, 9, 1, 5, 2, 7, 0, 9, 0, 4, 4, 0, 1, 0, 6, 4, 2, 8,\n",
              "       5, 0, 2, 6, 0, 1, 8, 2, 0, 9, 5, 6, 2, 0, 5, 0, 9, 1, 4, 7, 1, 7,\n",
              "       0, 6, 6, 8, 0, 2, 2, 6, 9, 9, 7, 5, 1, 7, 6, 4, 6, 1, 9, 4, 7, 1,\n",
              "       3, 7, 8, 1, 6, 9, 8, 3, 2, 4, 8, 7, 5, 5, 6, 9, 9, 8, 5, 0, 0, 4,\n",
              "       9, 3, 0, 4, 9, 4, 2, 5])"
            ]
          },
          "metadata": {},
          "execution_count": 31
        }
      ]
    },
    {
      "cell_type": "markdown",
      "source": [
        "y_pred와 y_test의 결과를 비교해보니 비슷하게 나왔다"
      ],
      "metadata": {
        "id": "glSxl-l0LSeg"
      }
    },
    {
      "cell_type": "code",
      "source": [
        "digits_decisiontree_confmat = confusion_matrix(y_true=y_test, y_pred=y_pred)\n",
        "\n",
        "fig, ax = plt.subplots(figsize=(2.5, 2.5))\n",
        "ax.matshow(digits_decisiontree_confmat, cmap=plt.cm.Blues, alpha=0.3)\n",
        "for i in range(digits_decisiontree_confmat.shape[0]):\n",
        "  for j in range(digits_decisiontree_confmat.shape[1]):\n",
        "    ax.text(x=j, y=i,\n",
        "            s=digits_decisiontree_confmat[i, j],\n",
        "            va='center', ha='center')\n",
        "plt.xlabel('Predicted label')\n",
        "plt.ylabel('True label')\n",
        "plt.tight_layout()\n",
        "plt.show()"
      ],
      "metadata": {
        "colab": {
          "base_uri": "https://localhost:8080/",
          "height": 189
        },
        "id": "RieDkK0BsYgn",
        "outputId": "05444f63-7799-4f0c-9a21-ad3de9598902"
      },
      "execution_count": null,
      "outputs": [
        {
          "output_type": "display_data",
          "data": {
            "text/plain": [
              "<Figure size 180x180 with 1 Axes>"
            ],
            "image/png": "[encoded data removed]"
          },
          "metadata": {
            "needs_background": "light"
          }
        }
      ]
    },
    {
      "cell_type": "markdown",
      "source": [
        "Decision Tree 학습 알고리즘의 성능을 행렬로 펼쳐 놓은 오차 행렬"
      ],
      "metadata": {
        "id": "mEu3X7AXtyPD"
      }
    },
    {
      "cell_type": "code",
      "source": [
        "plot_confusion_matrix(decision_tree, x_test, y_test, normalize='all')\n",
        "plt.show()"
      ],
      "metadata": {
        "colab": {
          "base_uri": "https://localhost:8080/",
          "height": 279
        },
        "id": "hevyHVsnt5JL",
        "outputId": "fb209cc0-e766-486c-a603-432b8e8e7339"
      },
      "execution_count": null,
      "outputs": [
        {
          "output_type": "display_data",
          "data": {
            "text/plain": [
              "<Figure size 432x288 with 2 Axes>"
            ],
            "image/png": "[encoded data removed]"
          },
          "metadata": {
            "needs_background": "light"
          }
        }
      ]
    },
    {
      "cell_type": "markdown",
      "source": [
        "normalize 매개변수를 사용하여 오차 행렬의 값을 정규화"
      ],
      "metadata": {
        "id": "UkpMF3PewKtz"
      }
    },
    {
      "cell_type": "code",
      "source": [
        "print(classification_report(y_test, y_pred))"
      ],
      "metadata": {
        "colab": {
          "base_uri": "https://localhost:8080/"
        },
        "id": "4tkCCXuuwjvh",
        "outputId": "b84dc031-8e67-489c-93e4-b99b9e9df356"
      },
      "execution_count": null,
      "outputs": [
        {
          "output_type": "stream",
          "name": "stdout",
          "text": [
            "              precision    recall  f1-score   support\n",
            "\n",
            "           0       1.00      0.93      0.96        43\n",
            "           1       0.97      0.80      0.88        35\n",
            "           2       0.86      0.86      0.86        36\n",
            "           3       0.85      0.68      0.76        41\n",
            "           4       0.79      0.89      0.84        38\n",
            "           5       0.71      0.97      0.82        30\n",
            "           6       1.00      1.00      1.00        37\n",
            "           7       0.91      0.84      0.87        37\n",
            "           8       0.81      0.86      0.83        29\n",
            "           9       0.69      0.74      0.71        34\n",
            "\n",
            "    accuracy                           0.86       360\n",
            "   macro avg       0.86      0.86      0.85       360\n",
            "weighted avg       0.87      0.86      0.86       360\n",
            "\n"
          ]
        }
      ]
    },
    {
      "cell_type": "markdown",
      "source": [
        "예측값을 기준으로 한 정답인 예측값의 비율(Precision) 평균 = 0.86\n",
        "<br/>실제값을 기준으로 한 정답인 예측값의 비율(Recall) 평균 = 0.86"
      ],
      "metadata": {
        "id": "-AdxRzRaw-mH"
      }
    },
    {
      "cell_type": "code",
      "source": [
        "digits_decisiontree_report = classification_report(y_test, y_pred, output_dict=True)\n",
        "digits_decisiontree_report = pd.DataFrame(digits_decisiontree_report).transpose()   \n",
        "digits_decisiontree_accuracy = digits_decisiontree_report['f1-score'][-3:-2][0]\n",
        "print(\"accuracy : \", digits_decisiontree_accuracy)"
      ],
      "metadata": {
        "id": "Seu2DbsvSo92",
        "colab": {
          "base_uri": "https://localhost:8080/"
        },
        "outputId": "aadc3d45-77c1-4898-c041-bdbfcb0fd953"
      },
      "execution_count": null,
      "outputs": [
        {
          "output_type": "stream",
          "name": "stdout",
          "text": [
            "accuracy :  0.8555555555555555\n"
          ]
        }
      ]
    },
    {
      "cell_type": "markdown",
      "source": [
        " Decision Tree 모델 성능 'accuracy'는 85.56%이다.\n",
        " <br/>Decision Tree 모델의 성능을 변수로 저장한다."
      ],
      "metadata": {
        "id": "x2CNH4QeLlWe"
      }
    },
    {
      "cell_type": "markdown",
      "source": [
        "###Random Forest"
      ],
      "metadata": {
        "id": "eJh5hMi1olIJ"
      }
    },
    {
      "cell_type": "code",
      "source": [
        "random_forest = RandomForestClassifier(random_state=32)       \n",
        "random_forest.fit(x_train, y_train)                           \n",
        "y_pred = random_forest.predict(x_test)    "
      ],
      "metadata": {
        "id": "kWRbhlFDpwUl"
      },
      "execution_count": null,
      "outputs": []
    },
    {
      "cell_type": "code",
      "source": [
        "y_pred     "
      ],
      "metadata": {
        "id": "Kn5Kp9gDolPM",
        "colab": {
          "base_uri": "https://localhost:8080/"
        },
        "outputId": "fa6630c0-18a7-4251-9413-a9c3c48aa729"
      },
      "execution_count": null,
      "outputs": [
        {
          "output_type": "execute_result",
          "data": {
            "text/plain": [
              "array([1, 5, 0, 7, 1, 0, 6, 1, 5, 4, 9, 2, 7, 8, 4, 6, 9, 3, 7, 4, 7, 1,\n",
              "       8, 6, 0, 9, 6, 1, 3, 7, 5, 9, 8, 3, 2, 8, 8, 1, 1, 0, 7, 9, 0, 0,\n",
              "       8, 7, 2, 7, 4, 3, 4, 3, 4, 0, 4, 7, 0, 5, 5, 5, 2, 1, 7, 0, 5, 1,\n",
              "       8, 3, 3, 4, 0, 3, 7, 4, 3, 4, 2, 9, 7, 3, 2, 5, 3, 4, 1, 5, 5, 2,\n",
              "       5, 2, 2, 2, 2, 7, 0, 8, 1, 7, 4, 2, 3, 8, 2, 3, 3, 0, 2, 9, 5, 2,\n",
              "       3, 2, 8, 1, 1, 9, 1, 2, 0, 4, 8, 5, 4, 4, 7, 6, 7, 6, 6, 1, 7, 5,\n",
              "       6, 3, 8, 3, 7, 1, 8, 5, 3, 4, 7, 8, 5, 0, 6, 0, 6, 3, 7, 6, 5, 6,\n",
              "       2, 2, 2, 3, 0, 7, 6, 5, 6, 4, 1, 0, 6, 0, 6, 4, 0, 9, 3, 8, 1, 2,\n",
              "       3, 1, 9, 0, 7, 6, 2, 9, 3, 5, 3, 4, 6, 3, 3, 7, 4, 9, 2, 7, 6, 1,\n",
              "       6, 8, 4, 0, 3, 1, 0, 9, 9, 9, 4, 1, 8, 6, 8, 0, 9, 5, 9, 8, 2, 3,\n",
              "       5, 3, 0, 8, 7, 4, 0, 3, 3, 3, 6, 3, 3, 2, 9, 1, 6, 9, 0, 4, 2, 2,\n",
              "       7, 9, 1, 6, 7, 6, 3, 9, 1, 9, 3, 4, 0, 6, 4, 8, 5, 3, 6, 3, 1, 4,\n",
              "       0, 4, 4, 8, 7, 9, 1, 5, 2, 7, 0, 9, 0, 4, 4, 0, 1, 4, 6, 4, 2, 8,\n",
              "       5, 0, 2, 6, 0, 1, 8, 2, 0, 9, 5, 6, 2, 0, 5, 0, 9, 1, 4, 7, 1, 7,\n",
              "       0, 6, 6, 8, 0, 2, 2, 6, 9, 9, 7, 5, 1, 7, 6, 4, 6, 1, 9, 4, 7, 1,\n",
              "       3, 7, 8, 1, 6, 9, 8, 3, 2, 4, 8, 7, 5, 5, 6, 9, 9, 9, 5, 0, 0, 4,\n",
              "       9, 3, 0, 4, 9, 4, 2, 5])"
            ]
          },
          "metadata": {},
          "execution_count": 37
        }
      ]
    },
    {
      "cell_type": "code",
      "source": [
        "y_test        "
      ],
      "metadata": {
        "id": "67hjpMayNT6I",
        "colab": {
          "base_uri": "https://localhost:8080/"
        },
        "outputId": "f649fcc7-ded4-41c3-e233-2407ddd775c5"
      },
      "execution_count": null,
      "outputs": [
        {
          "output_type": "execute_result",
          "data": {
            "text/plain": [
              "array([1, 5, 0, 7, 1, 0, 6, 1, 5, 4, 9, 2, 7, 8, 4, 6, 9, 3, 7, 4, 7, 1,\n",
              "       8, 6, 0, 9, 6, 1, 3, 7, 5, 9, 8, 3, 2, 8, 8, 1, 1, 0, 7, 9, 0, 0,\n",
              "       8, 7, 2, 7, 4, 3, 4, 3, 4, 0, 4, 7, 0, 5, 5, 5, 2, 1, 7, 0, 5, 1,\n",
              "       8, 3, 3, 4, 0, 3, 7, 4, 3, 4, 2, 9, 7, 3, 2, 5, 3, 4, 1, 5, 5, 2,\n",
              "       5, 2, 2, 2, 2, 7, 0, 8, 1, 7, 4, 2, 3, 8, 2, 3, 3, 0, 2, 9, 9, 2,\n",
              "       3, 2, 8, 1, 1, 9, 1, 2, 0, 4, 8, 5, 4, 4, 7, 6, 7, 6, 6, 1, 7, 5,\n",
              "       6, 3, 8, 3, 7, 1, 8, 5, 3, 4, 7, 8, 5, 0, 6, 0, 6, 3, 7, 6, 5, 6,\n",
              "       2, 2, 2, 3, 0, 7, 6, 5, 6, 4, 1, 0, 6, 0, 6, 4, 0, 9, 3, 8, 1, 2,\n",
              "       3, 1, 9, 0, 7, 6, 2, 9, 3, 5, 3, 4, 6, 3, 3, 7, 4, 9, 2, 7, 6, 1,\n",
              "       6, 8, 4, 0, 3, 1, 0, 9, 9, 9, 0, 1, 8, 6, 8, 0, 9, 5, 9, 8, 2, 3,\n",
              "       5, 3, 0, 8, 7, 4, 0, 3, 3, 3, 6, 3, 3, 2, 9, 1, 6, 9, 0, 4, 2, 2,\n",
              "       7, 9, 1, 6, 7, 6, 3, 7, 1, 9, 3, 4, 0, 6, 4, 8, 5, 3, 6, 3, 1, 4,\n",
              "       0, 4, 4, 8, 7, 9, 1, 5, 2, 7, 0, 9, 0, 4, 4, 0, 1, 0, 6, 4, 2, 8,\n",
              "       5, 0, 2, 6, 0, 1, 8, 2, 0, 9, 5, 6, 2, 0, 5, 0, 9, 1, 4, 7, 1, 7,\n",
              "       0, 6, 6, 8, 0, 2, 2, 6, 9, 9, 7, 5, 1, 7, 6, 4, 6, 1, 9, 4, 7, 1,\n",
              "       3, 7, 8, 1, 6, 9, 8, 3, 2, 4, 8, 7, 5, 5, 6, 9, 9, 8, 5, 0, 0, 4,\n",
              "       9, 3, 0, 4, 9, 4, 2, 5])"
            ]
          },
          "metadata": {},
          "execution_count": 38
        }
      ]
    },
    {
      "cell_type": "markdown",
      "source": [
        "정답지와 예측치를 비교한다."
      ],
      "metadata": {
        "id": "Z52HGK8_oCYJ"
      }
    },
    {
      "cell_type": "code",
      "source": [
        "digits_random_forest_confmat = confusion_matrix(y_true=y_test, y_pred=y_pred)\n",
        "\n",
        "fig, ax = plt.subplots(figsize=(2.5, 2.5))\n",
        "ax.matshow(digits_random_forest_confmat, cmap=plt.cm.Blues, alpha=0.3)\n",
        "for i in range(digits_random_forest_confmat.shape[0]):\n",
        "  for j in range(digits_random_forest_confmat.shape[1]):\n",
        "    ax.text(x=j, y=i,\n",
        "            s=digits_random_forest_confmat[i, j],\n",
        "            va='center', ha='center')\n",
        "plt.xlabel('Predicted label')\n",
        "plt.ylabel('True label')\n",
        "plt.tight_layout()\n",
        "plt.show()"
      ],
      "metadata": {
        "colab": {
          "base_uri": "https://localhost:8080/",
          "height": 189
        },
        "id": "LMQ9Mm3pxNrW",
        "outputId": "c25a125b-bcc2-4723-c03b-40c94adcce65"
      },
      "execution_count": null,
      "outputs": [
        {
          "output_type": "display_data",
          "data": {
            "text/plain": [
              "<Figure size 180x180 with 1 Axes>"
            ],
            "image/png": "[encoded data removed]"
          },
          "metadata": {
            "needs_background": "light"
          }
        }
      ]
    },
    {
      "cell_type": "markdown",
      "source": [
        "Random Forest 학습 알고리즘의 성능을 행렬로 펼쳐 놓은 오차 행렬"
      ],
      "metadata": {
        "id": "CkZ7BD_2xOA0"
      }
    },
    {
      "cell_type": "code",
      "source": [
        "plot_confusion_matrix(random_forest, x_test, y_test, normalize='all')\n",
        "plt.show()"
      ],
      "metadata": {
        "colab": {
          "base_uri": "https://localhost:8080/",
          "height": 279
        },
        "id": "FCq6oss6xlH1",
        "outputId": "96322b9d-5c77-4b5b-b35a-e86becb58868"
      },
      "execution_count": null,
      "outputs": [
        {
          "output_type": "display_data",
          "data": {
            "text/plain": [
              "<Figure size 432x288 with 2 Axes>"
            ],
            "image/png": "[encoded data removed]"
          },
          "metadata": {
            "needs_background": "light"
          }
        }
      ]
    },
    {
      "cell_type": "markdown",
      "source": [
        "normalize 매개변수를 사용하여 오차 행렬의 값을 정규화"
      ],
      "metadata": {
        "id": "w9d3ldIvxpRR"
      }
    },
    {
      "cell_type": "code",
      "source": [
        "print(classification_report(y_test, y_pred))"
      ],
      "metadata": {
        "id": "tqeT8SotNRz-",
        "colab": {
          "base_uri": "https://localhost:8080/"
        },
        "outputId": "f5f3d232-49b0-4a6a-b38e-05b219b63b8b"
      },
      "execution_count": null,
      "outputs": [
        {
          "output_type": "stream",
          "name": "stdout",
          "text": [
            "              precision    recall  f1-score   support\n",
            "\n",
            "           0       1.00      0.95      0.98        43\n",
            "           1       1.00      1.00      1.00        35\n",
            "           2       1.00      1.00      1.00        36\n",
            "           3       1.00      1.00      1.00        41\n",
            "           4       0.95      1.00      0.97        38\n",
            "           5       0.97      1.00      0.98        30\n",
            "           6       1.00      1.00      1.00        37\n",
            "           7       1.00      0.97      0.99        37\n",
            "           8       1.00      0.97      0.98        29\n",
            "           9       0.94      0.97      0.96        34\n",
            "\n",
            "    accuracy                           0.99       360\n",
            "   macro avg       0.99      0.99      0.99       360\n",
            "weighted avg       0.99      0.99      0.99       360\n",
            "\n"
          ]
        }
      ]
    },
    {
      "cell_type": "markdown",
      "source": [
        "예측값을 기준으로 한 정답인 예측값의 비율(Precision) 평균 = 0.97\n",
        "<br/>실제값을 기준으로 한 정답인 예측값의 비율(Recall) 평균 = 0.97"
      ],
      "metadata": {
        "id": "bF6MUeiYOa-c"
      }
    },
    {
      "cell_type": "code",
      "source": [
        "digits_randomforest_report = classification_report(y_test, y_pred, output_dict=True)\n",
        "digits_randomforest_report = pd.DataFrame(digits_randomforest_report).transpose()  \n",
        "digits_randomforest_accuracy = digits_randomforest_report['f1-score'][-3:-2][0]\n",
        "print(\"accuracy : \", digits_randomforest_accuracy)"
      ],
      "metadata": {
        "colab": {
          "base_uri": "https://localhost:8080/"
        },
        "id": "_vH4edNo0UMu",
        "outputId": "cebaedce-c6fe-4792-c1ec-e40df979b29e"
      },
      "execution_count": null,
      "outputs": [
        {
          "output_type": "stream",
          "name": "stdout",
          "text": [
            "accuracy :  0.9861111111111112\n"
          ]
        }
      ]
    },
    {
      "cell_type": "markdown",
      "source": [
        "Randomforest 모델의 성능 'accuracy'는 98.61%이다.\n",
        "<br/>Randomforest 모델의 성능을 변수로 저장한다.\n"
      ],
      "metadata": {
        "id": "urwu2PhUgDgm"
      }
    },
    {
      "cell_type": "markdown",
      "source": [
        "###Support Vector Classifier(SVC)"
      ],
      "metadata": {
        "id": "70Cw8EOeolXR"
      }
    },
    {
      "cell_type": "code",
      "source": [
        "svc_model = svm.SVC()\n",
        "svc_model.fit(x_train, y_train)\n",
        "y_pred = svc_model.predict(x_test)"
      ],
      "metadata": {
        "id": "u-kFbB81olcm"
      },
      "execution_count": null,
      "outputs": []
    },
    {
      "cell_type": "code",
      "source": [
        "digits_svc_confmat = confusion_matrix(y_true=y_test, y_pred=y_pred)\n",
        "\n",
        "fig, ax = plt.subplots(figsize=(2.5, 2.5))\n",
        "ax.matshow(digits_svc_confmat, cmap=plt.cm.Blues, alpha=0.3)\n",
        "for i in range(digits_svc_confmat.shape[0]):\n",
        "  for j in range(digits_svc_confmat.shape[1]):\n",
        "    ax.text(x=j, y=i,\n",
        "            s=digits_svc_confmat[i, j],\n",
        "            va='center', ha='center')\n",
        "plt.xlabel('Predicted label')\n",
        "plt.ylabel('True label')\n",
        "plt.tight_layout()\n",
        "plt.show()"
      ],
      "metadata": {
        "colab": {
          "base_uri": "https://localhost:8080/",
          "height": 189
        },
        "id": "NQOUmHqUyAIZ",
        "outputId": "e1939538-3a5e-49a2-b9ed-2dbf6cbed385"
      },
      "execution_count": null,
      "outputs": [
        {
          "output_type": "display_data",
          "data": {
            "text/plain": [
              "<Figure size 180x180 with 1 Axes>"
            ],
            "image/png": "[encoded data removed]"
          },
          "metadata": {
            "needs_background": "light"
          }
        }
      ]
    },
    {
      "cell_type": "markdown",
      "source": [
        "SVC 학습 알고리즘의 성능을 행렬로 펼쳐 놓은 오차 행렬"
      ],
      "metadata": {
        "id": "y-mjFDcnyNx0"
      }
    },
    {
      "cell_type": "code",
      "source": [
        "plot_confusion_matrix(svc_model, x_test, y_test, normalize='all')\n",
        "plt.show()"
      ],
      "metadata": {
        "colab": {
          "base_uri": "https://localhost:8080/",
          "height": 279
        },
        "id": "2ZP7C3dJyN8k",
        "outputId": "36053839-54a2-4e50-f351-77387066daf7"
      },
      "execution_count": null,
      "outputs": [
        {
          "output_type": "display_data",
          "data": {
            "text/plain": [
              "<Figure size 432x288 with 2 Axes>"
            ],
            "image/png": "[encoded data removed]"
          },
          "metadata": {
            "needs_background": "light"
          }
        }
      ]
    },
    {
      "cell_type": "markdown",
      "source": [
        "normalize 매개변수를 사용하여 오차 행렬의 값을 정규화"
      ],
      "metadata": {
        "id": "FBC2GNSFyOIC"
      }
    },
    {
      "cell_type": "code",
      "source": [
        "print(classification_report(y_test, y_pred))"
      ],
      "metadata": {
        "colab": {
          "base_uri": "https://localhost:8080/"
        },
        "id": "gkfnHGCbx81z",
        "outputId": "b16dd1b5-006b-4c79-8330-1138a6d18c1d"
      },
      "execution_count": null,
      "outputs": [
        {
          "output_type": "stream",
          "name": "stdout",
          "text": [
            "              precision    recall  f1-score   support\n",
            "\n",
            "           0       1.00      1.00      1.00        43\n",
            "           1       1.00      1.00      1.00        35\n",
            "           2       1.00      1.00      1.00        36\n",
            "           3       1.00      1.00      1.00        41\n",
            "           4       1.00      1.00      1.00        38\n",
            "           5       0.97      1.00      0.98        30\n",
            "           6       1.00      1.00      1.00        37\n",
            "           7       1.00      0.97      0.99        37\n",
            "           8       1.00      0.97      0.98        29\n",
            "           9       0.94      0.97      0.96        34\n",
            "\n",
            "    accuracy                           0.99       360\n",
            "   macro avg       0.99      0.99      0.99       360\n",
            "weighted avg       0.99      0.99      0.99       360\n",
            "\n"
          ]
        }
      ]
    },
    {
      "cell_type": "markdown",
      "source": [
        "예측값을 기준으로 한 정답인 예측값의 비율(Precision) 평균 = 0.99\n",
        "<br/>실제값을 기준으로 한 정답인 예측값의 비율(Recall) 평균 = 0.99"
      ],
      "metadata": {
        "id": "1O7e_efyO__L"
      }
    },
    {
      "cell_type": "code",
      "source": [
        "digits_svc_report = classification_report(y_test, y_pred, output_dict=True)\n",
        "digits_svc_report = pd.DataFrame(digits_svc_report).transpose()  \n",
        "digits_svc_accuracy = digits_svc_report['f1-score'][-3:-2][0]\n",
        "print(\"accuracy : \", digits_svc_accuracy)"
      ],
      "metadata": {
        "id": "BR729vIug8-G",
        "colab": {
          "base_uri": "https://localhost:8080/"
        },
        "outputId": "8f9f6a84-39f7-413c-a6cf-cdbf7e123b55"
      },
      "execution_count": null,
      "outputs": [
        {
          "output_type": "stream",
          "name": "stdout",
          "text": [
            "accuracy :  0.9916666666666667\n"
          ]
        }
      ]
    },
    {
      "cell_type": "markdown",
      "source": [
        "SVC 모델의 성능 'accuracy'는 99.17%이다.\n",
        "<br/>SVC 모델의 성능을 변수로 저장한다."
      ],
      "metadata": {
        "id": "iezCS8NWh32Y"
      }
    },
    {
      "cell_type": "markdown",
      "source": [
        "###SGD Classifier\n"
      ],
      "metadata": {
        "id": "GNKbXg4boqed"
      }
    },
    {
      "cell_type": "code",
      "source": [
        "sgd_model = SGDClassifier()\n",
        "sgd_model.fit(x_train, y_train)\n",
        "y_pred = sgd_model.predict(x_test)"
      ],
      "metadata": {
        "id": "BRJIxE8VowBb"
      },
      "execution_count": null,
      "outputs": []
    },
    {
      "cell_type": "code",
      "source": [
        "digits_sgd_confmat = confusion_matrix(y_true=y_test, y_pred=y_pred)\n",
        "\n",
        "fig, ax = plt.subplots(figsize=(2.5, 2.5))\n",
        "ax.matshow(digits_sgd_confmat, cmap=plt.cm.Blues, alpha=0.3)\n",
        "for i in range(digits_sgd_confmat.shape[0]):\n",
        "  for j in range(digits_sgd_confmat.shape[1]):\n",
        "    ax.text(x=j, y=i,\n",
        "            s=digits_sgd_confmat[i, j],\n",
        "            va='center', ha='center')\n",
        "plt.xlabel('Predicted label')\n",
        "plt.ylabel('True label')\n",
        "plt.tight_layout()\n",
        "plt.show()"
      ],
      "metadata": {
        "colab": {
          "base_uri": "https://localhost:8080/",
          "height": 189
        },
        "id": "-ARN9_c_ydT5",
        "outputId": "f59b104a-a2a0-49bc-b013-4efe21019033"
      },
      "execution_count": null,
      "outputs": [
        {
          "output_type": "display_data",
          "data": {
            "text/plain": [
              "<Figure size 180x180 with 1 Axes>"
            ],
            "image/png": "[encoded data removed]"
          },
          "metadata": {
            "needs_background": "light"
          }
        }
      ]
    },
    {
      "cell_type": "markdown",
      "source": [
        "SGD 학습 알고리즘의 성능을 행렬로 펼쳐 놓은 오차 행렬"
      ],
      "metadata": {
        "id": "oYmJ5Qixyda9"
      }
    },
    {
      "cell_type": "code",
      "source": [
        "plot_confusion_matrix(sgd_model, x_test, y_test, normalize='all')\n",
        "plt.show()"
      ],
      "metadata": {
        "colab": {
          "base_uri": "https://localhost:8080/",
          "height": 279
        },
        "id": "Wq4qxtfNydgJ",
        "outputId": "fdc42a3a-81f3-4296-9458-c3c90c488dd5"
      },
      "execution_count": null,
      "outputs": [
        {
          "output_type": "display_data",
          "data": {
            "text/plain": [
              "<Figure size 432x288 with 2 Axes>"
            ],
            "image/png": "[encoded data removed]"
          },
          "metadata": {
            "needs_background": "light"
          }
        }
      ]
    },
    {
      "cell_type": "markdown",
      "source": [
        "normalize 매개변수를 사용하여 오차 행렬의 값을 정규화"
      ],
      "metadata": {
        "id": "ScZo4UeDydky"
      }
    },
    {
      "cell_type": "code",
      "source": [
        "print(classification_report(y_test, y_pred))"
      ],
      "metadata": {
        "colab": {
          "base_uri": "https://localhost:8080/"
        },
        "id": "pHNtDbOAybyZ",
        "outputId": "1b41b192-bb66-48aa-f7d9-e9de2fe10b07"
      },
      "execution_count": null,
      "outputs": [
        {
          "output_type": "stream",
          "name": "stdout",
          "text": [
            "              precision    recall  f1-score   support\n",
            "\n",
            "           0       1.00      0.98      0.99        43\n",
            "           1       0.76      1.00      0.86        35\n",
            "           2       1.00      0.97      0.99        36\n",
            "           3       1.00      0.85      0.92        41\n",
            "           4       0.97      0.95      0.96        38\n",
            "           5       0.87      0.90      0.89        30\n",
            "           6       1.00      1.00      1.00        37\n",
            "           7       1.00      0.92      0.96        37\n",
            "           8       1.00      0.79      0.88        29\n",
            "           9       0.82      0.97      0.89        34\n",
            "\n",
            "    accuracy                           0.94       360\n",
            "   macro avg       0.94      0.93      0.93       360\n",
            "weighted avg       0.95      0.94      0.94       360\n",
            "\n"
          ]
        }
      ]
    },
    {
      "cell_type": "markdown",
      "source": [
        "예측값을 기준으로 한 정답인 예측값의 비율(Precision) 평균 = 0.94\n",
        "<br/>실제값을 기준으로 한 정답인 예측값의 비율(Recall) 평균 = 0.94"
      ],
      "metadata": {
        "id": "AfCybxJtPTEm"
      }
    },
    {
      "cell_type": "code",
      "source": [
        "digits_sgd_report = classification_report(y_test, y_pred, output_dict=True)\n",
        "digits_sgd_report = pd.DataFrame(digits_sgd_report).transpose()  \n",
        "digits_sgd_accuracy = digits_sgd_report['f1-score'][-3:-2][0]\n",
        "print(\"accuracy : \", digits_sgd_accuracy)"
      ],
      "metadata": {
        "id": "JifIHwE1iw06",
        "colab": {
          "base_uri": "https://localhost:8080/"
        },
        "outputId": "5bff7f3c-2202-4acb-c759-153f3319c21c"
      },
      "execution_count": null,
      "outputs": [
        {
          "output_type": "stream",
          "name": "stdout",
          "text": [
            "accuracy :  0.9361111111111111\n"
          ]
        }
      ]
    },
    {
      "cell_type": "markdown",
      "source": [
        "SGD 모델의 성능 'accuracy'는 93.61%이다.\n",
        "<br/>SGD 모델의 성능을 변수로 저장한다."
      ],
      "metadata": {
        "id": "lu85_ILhixie"
      }
    },
    {
      "cell_type": "markdown",
      "source": [
        "###Logistic Regression"
      ],
      "metadata": {
        "id": "0uav4j-3owYS"
      }
    },
    {
      "cell_type": "code",
      "source": [
        "logistic_model = LogisticRegression()\n",
        "logistic_model.fit(x_train, y_train)\n",
        "y_pred = logistic_model.predict(x_test)"
      ],
      "metadata": {
        "id": "X-fGjxfkoy4X"
      },
      "execution_count": null,
      "outputs": []
    },
    {
      "cell_type": "code",
      "source": [
        "digits_logistic_confmat = confusion_matrix(y_true=y_test, y_pred=y_pred)\n",
        "\n",
        "fig, ax = plt.subplots(figsize=(2.5, 2.5))\n",
        "ax.matshow(digits_logistic_confmat, cmap=plt.cm.Blues, alpha=0.3)\n",
        "for i in range(digits_logistic_confmat.shape[0]):\n",
        "  for j in range(digits_logistic_confmat.shape[1]):\n",
        "    ax.text(x=j, y=i,\n",
        "            s=digits_logistic_confmat[i, j],\n",
        "            va='center', ha='center')\n",
        "plt.xlabel('Predicted label')\n",
        "plt.ylabel('True label')\n",
        "plt.tight_layout()\n",
        "plt.show()"
      ],
      "metadata": {
        "colab": {
          "base_uri": "https://localhost:8080/",
          "height": 189
        },
        "id": "ixN0Ty6uzYBT",
        "outputId": "3f03a1f6-0ac4-46d8-d700-b391251b9ba5"
      },
      "execution_count": null,
      "outputs": [
        {
          "output_type": "display_data",
          "data": {
            "text/plain": [
              "<Figure size 180x180 with 1 Axes>"
            ],
            "image/png": "[encoded data removed]"
          },
          "metadata": {
            "needs_background": "light"
          }
        }
      ]
    },
    {
      "cell_type": "markdown",
      "source": [
        "Logistic Regression 학습 알고리즘의 성능을 행렬로 펼쳐 놓은 오차 행렬"
      ],
      "metadata": {
        "id": "A1yYGIAszYHe"
      }
    },
    {
      "cell_type": "code",
      "source": [
        "plot_confusion_matrix(logistic_model, x_test, y_test, normalize='all')\n",
        "plt.show()"
      ],
      "metadata": {
        "colab": {
          "base_uri": "https://localhost:8080/",
          "height": 279
        },
        "id": "2eIGBecuzYMl",
        "outputId": "ff1348da-92bf-4392-9558-7496ceec9a9e"
      },
      "execution_count": null,
      "outputs": [
        {
          "output_type": "display_data",
          "data": {
            "text/plain": [
              "<Figure size 432x288 with 2 Axes>"
            ],
            "image/png": "[encoded data removed]"
          },
          "metadata": {
            "needs_background": "light"
          }
        }
      ]
    },
    {
      "cell_type": "markdown",
      "source": [
        "normalize 매개변수를 사용하여 오차 행렬의 값을 정규화"
      ],
      "metadata": {
        "id": "5Ux5HMTkzYSi"
      }
    },
    {
      "cell_type": "code",
      "source": [
        "print(classification_report(y_test, y_pred))"
      ],
      "metadata": {
        "colab": {
          "base_uri": "https://localhost:8080/"
        },
        "id": "pIqf8a-5zWyX",
        "outputId": "5cab73d0-2972-46e1-bf84-b2479f568189"
      },
      "execution_count": null,
      "outputs": [
        {
          "output_type": "stream",
          "name": "stdout",
          "text": [
            "              precision    recall  f1-score   support\n",
            "\n",
            "           0       1.00      0.98      0.99        43\n",
            "           1       0.97      0.97      0.97        35\n",
            "           2       1.00      1.00      1.00        36\n",
            "           3       0.95      0.98      0.96        41\n",
            "           4       0.93      1.00      0.96        38\n",
            "           5       0.90      0.93      0.92        30\n",
            "           6       1.00      1.00      1.00        37\n",
            "           7       1.00      0.89      0.94        37\n",
            "           8       0.97      0.97      0.97        29\n",
            "           9       0.97      0.97      0.97        34\n",
            "\n",
            "    accuracy                           0.97       360\n",
            "   macro avg       0.97      0.97      0.97       360\n",
            "weighted avg       0.97      0.97      0.97       360\n",
            "\n"
          ]
        }
      ]
    },
    {
      "cell_type": "markdown",
      "source": [
        "예측값을 기준으로 한 정답인 예측값의 비율(Precision) 평균 = 0.97\n",
        "<br/>실제값을 기준으로 한 정답인 예측값의 비율(Recall) 평균 = 0.97"
      ],
      "metadata": {
        "id": "F5BcDrW3PkOE"
      }
    },
    {
      "cell_type": "code",
      "source": [
        "digits_logistic_report = classification_report(y_test, y_pred, output_dict=True)\n",
        "digits_logistic_report = pd.DataFrame(digits_logistic_report).transpose()   \n",
        "digits_logistic_accuracy = digits_logistic_report['f1-score'][-3:-2][0]  \n",
        "print(\"accuracy : \", digits_logistic_accuracy) "
      ],
      "metadata": {
        "id": "NTeAV9rXjcwf",
        "colab": {
          "base_uri": "https://localhost:8080/"
        },
        "outputId": "f3c1b6d6-0cfa-404e-dbe4-975475695c09"
      },
      "execution_count": null,
      "outputs": [
        {
          "output_type": "stream",
          "name": "stdout",
          "text": [
            "accuracy :  0.9694444444444444\n"
          ]
        }
      ]
    },
    {
      "cell_type": "markdown",
      "source": [
        "Logistic Regression 모델의 성능 'accuracy'는 96.94%이다.\n",
        "<br/>Logistic Regression 모델의 성능을 변수로 저장한다."
      ],
      "metadata": {
        "id": "_znma7cXjc5a"
      }
    },
    {
      "cell_type": "markdown",
      "source": [
        "##모델 평가"
      ],
      "metadata": {
        "id": "kyGhQdK-Rj_E"
      }
    },
    {
      "cell_type": "code",
      "source": [
        "digits_model_comparison = [round(digits_decisiontree_accuracy, 4)\n",
        ",round(digits_randomforest_accuracy, 4), round(digits_svc_accuracy, 4)\n",
        ",round(digits_sgd_accuracy, 4), round(digits_logistic_accuracy, 4)]\n",
        "\n",
        "digits_model_name = ['Decision Tree','Random Forest','SVC','SGD', 'Logistic']   \n",
        "\n",
        "\n",
        "digits_df = pd.DataFrame({\"Model\": digits_model_name,\n",
        "                  \"Accuracy\":digits_model_comparison})\n",
        "digits_df_sorted= digits_df.sort_values('Accuracy',ascending=False)\n",
        "\n",
        "\n",
        "plt.figure(figsize=(10, 5))                                                 \n",
        "bar_width = 0.1                                                                 \n",
        "\n",
        "plt.bar('Model', 'Accuracy',data=digits_df_sorted, color = 'blue')       \n",
        "\n",
        "\n",
        "for i, v in enumerate(digits_model_name):\n",
        "    plt.text(v, digits_model_comparison[i],digits_model_comparison[i],      \n",
        "             fontsize = 9, \n",
        "             color='black',\n",
        "             horizontalalignment='center',  \n",
        "             verticalalignment='bottom')  \n",
        "\n",
        "plt.ylim([0.7, 1])   \n",
        "\n",
        "plt.title('Digits', fontsize=20)     \n",
        "plt.xlabel('Model', fontsize=18)     \n",
        "plt.ylabel('Accuracy', fontsize=18)  \n",
        "\n",
        "plt.show()           "
      ],
      "metadata": {
        "id": "2B_uUBtuqAv5",
        "colab": {
          "base_uri": "https://localhost:8080/",
          "height": 363
        },
        "outputId": "e7c24ed5-580a-4e32-8833-91636280e84d"
      },
      "execution_count": null,
      "outputs": [
        {
          "output_type": "display_data",
          "data": {
            "text/plain": [
              "<Figure size 720x360 with 1 Axes>"
            ],
            "image/png": "[encoded data removed]"
          },
          "metadata": {
            "needs_background": "light"
          }
        }
      ]
    },
    {
      "cell_type": "markdown",
      "source": [
        "SVC > Random Forest > Logistic > SGD > Decision Tree 순으로 성능이 높다.\n",
        "<br/>따라서 digits 데이터셋에서는 SVC 모델 성능이 탁월하다."
      ],
      "metadata": {
        "id": "yyuO4e515gkz"
      }
    },
    {
      "cell_type": "markdown",
      "source": [
        "#load_wine : 와인 분류"
      ],
      "metadata": {
        "id": "aDBPaCPOZagn"
      }
    },
    {
      "cell_type": "markdown",
      "source": [
        "##데이터 정보"
      ],
      "metadata": {
        "id": "pwdTntKx15Qf"
      }
    },
    {
      "cell_type": "markdown",
      "source": [
        "[sklearn.datasets.load_wine](https://scikit-learn.org/stable/modules/generated/sklearn.datasets.load_wine.html?highlight=load_wine#sklearn.datasets.load_wine)"
      ],
      "metadata": {
        "id": "UmM6bzPE15Tp"
      }
    },
    {
      "cell_type": "markdown",
      "source": [
        "##데이터 탐색"
      ],
      "metadata": {
        "id": "ihE8R-K8pHlp"
      }
    },
    {
      "cell_type": "code",
      "source": [
        "from sklearn.datasets import load_wine            \n",
        "wine = load_wine()          "
      ],
      "metadata": {
        "id": "ZMWuKE8FZg_W"
      },
      "execution_count": null,
      "outputs": []
    },
    {
      "cell_type": "code",
      "source": [
        "dir(wine)     "
      ],
      "metadata": {
        "id": "BF-adTE2ZhbG",
        "colab": {
          "base_uri": "https://localhost:8080/"
        },
        "outputId": "ae77c275-96f5-4318-fddc-4f9181dedb3e"
      },
      "execution_count": null,
      "outputs": [
        {
          "output_type": "execute_result",
          "data": {
            "text/plain": [
              "['DESCR', 'data', 'feature_names', 'frame', 'target', 'target_names']"
            ]
          },
          "metadata": {},
          "execution_count": 331
        }
      ]
    },
    {
      "cell_type": "code",
      "source": [
        "wine.keys() "
      ],
      "metadata": {
        "id": "d6HZu30TpOvm",
        "colab": {
          "base_uri": "https://localhost:8080/"
        },
        "outputId": "a80c7299-d620-4559-e4d8-94d906097c3d"
      },
      "execution_count": null,
      "outputs": [
        {
          "output_type": "execute_result",
          "data": {
            "text/plain": [
              "dict_keys(['data', 'target', 'frame', 'target_names', 'DESCR', 'feature_names'])"
            ]
          },
          "metadata": {},
          "execution_count": 66
        }
      ]
    },
    {
      "cell_type": "markdown",
      "source": [
        "데이터셋 wine에는 data, target, frame, feature_names, target_names, DESCR까지\n",
        "<br/>총 6개의 정보가 담겨져있다."
      ],
      "metadata": {
        "id": "mzEIod71I4BH"
      }
    },
    {
      "cell_type": "code",
      "source": [
        "wine_data = wine.data\n",
        "print(wine_data.shape) "
      ],
      "metadata": {
        "id": "GLaqvmokpO3k",
        "colab": {
          "base_uri": "https://localhost:8080/"
        },
        "outputId": "b834c863-7fee-4e02-e6f1-91662d19f971"
      },
      "execution_count": null,
      "outputs": [
        {
          "output_type": "stream",
          "name": "stdout",
          "text": [
            "(178, 13)\n"
          ]
        }
      ]
    },
    {
      "cell_type": "markdown",
      "source": [
        "총 178개의 데이터가 각각 13개의 정보를 담고 있다."
      ],
      "metadata": {
        "id": "SAhHF4KYI7rI"
      }
    },
    {
      "cell_type": "code",
      "source": [
        "wine_data[0]"
      ],
      "metadata": {
        "id": "D8SpzOXipO6m",
        "colab": {
          "base_uri": "https://localhost:8080/"
        },
        "outputId": "901dedf4-cfa4-49d2-87d3-c3833415a81d"
      },
      "execution_count": null,
      "outputs": [
        {
          "output_type": "execute_result",
          "data": {
            "text/plain": [
              "array([1.423e+01, 1.710e+00, 2.430e+00, 1.560e+01, 1.270e+02, 2.800e+00,\n",
              "       3.060e+00, 2.800e-01, 2.290e+00, 5.640e+00, 1.040e+00, 3.920e+00,\n",
              "       1.065e+03])"
            ]
          },
          "metadata": {},
          "execution_count": 334
        }
      ]
    },
    {
      "cell_type": "markdown",
      "source": [
        "0번 index에 위치한 데이터의 정보이다."
      ],
      "metadata": {
        "id": "knPZkGxiI-7u"
      }
    },
    {
      "cell_type": "code",
      "source": [
        "wine_label = wine.target\n",
        "print(wine_label.shape)\n",
        "wine_label"
      ],
      "metadata": {
        "id": "CaOiNGn9pPHo",
        "colab": {
          "base_uri": "https://localhost:8080/"
        },
        "outputId": "0d982cc8-f1c5-4f87-e8ad-d6bfc1b9c166"
      },
      "execution_count": null,
      "outputs": [
        {
          "output_type": "stream",
          "name": "stdout",
          "text": [
            "(178,)\n"
          ]
        },
        {
          "output_type": "execute_result",
          "data": {
            "text/plain": [
              "array([0, 0, 0, 0, 0, 0, 0, 0, 0, 0, 0, 0, 0, 0, 0, 0, 0, 0, 0, 0, 0, 0,\n",
              "       0, 0, 0, 0, 0, 0, 0, 0, 0, 0, 0, 0, 0, 0, 0, 0, 0, 0, 0, 0, 0, 0,\n",
              "       0, 0, 0, 0, 0, 0, 0, 0, 0, 0, 0, 0, 0, 0, 0, 1, 1, 1, 1, 1, 1, 1,\n",
              "       1, 1, 1, 1, 1, 1, 1, 1, 1, 1, 1, 1, 1, 1, 1, 1, 1, 1, 1, 1, 1, 1,\n",
              "       1, 1, 1, 1, 1, 1, 1, 1, 1, 1, 1, 1, 1, 1, 1, 1, 1, 1, 1, 1, 1, 1,\n",
              "       1, 1, 1, 1, 1, 1, 1, 1, 1, 1, 1, 1, 1, 1, 1, 1, 1, 1, 1, 1, 2, 2,\n",
              "       2, 2, 2, 2, 2, 2, 2, 2, 2, 2, 2, 2, 2, 2, 2, 2, 2, 2, 2, 2, 2, 2,\n",
              "       2, 2, 2, 2, 2, 2, 2, 2, 2, 2, 2, 2, 2, 2, 2, 2, 2, 2, 2, 2, 2, 2,\n",
              "       2, 2])"
            ]
          },
          "metadata": {},
          "execution_count": 71
        }
      ]
    },
    {
      "cell_type": "markdown",
      "source": [
        "wine 데이터의 타겟정보\n",
        "<br/>타겟은 주어진 정답을 의미한다.\n",
        "<br/>총 178개의 데이터가 0부터 2까지 정수 한 자릿수로 구성됐다."
      ],
      "metadata": {
        "id": "mOoVp-E6JDd3"
      }
    },
    {
      "cell_type": "code",
      "source": [
        "wine.target_names"
      ],
      "metadata": {
        "id": "DXMWmOt6JC1O",
        "colab": {
          "base_uri": "https://localhost:8080/"
        },
        "outputId": "bb946841-e041-42b4-a131-08da1225e1bb"
      },
      "execution_count": null,
      "outputs": [
        {
          "output_type": "execute_result",
          "data": {
            "text/plain": [
              "array(['class_0', 'class_1', 'class_2'], dtype='<U7')"
            ]
          },
          "metadata": {},
          "execution_count": 336
        }
      ]
    },
    {
      "cell_type": "markdown",
      "source": [
        "'class_0', 'class_1', 'class_2'으로 wine의 요소가 담겨있다."
      ],
      "metadata": {
        "id": "3ps8epiYJJH_"
      }
    },
    {
      "cell_type": "code",
      "source": [
        "wine_feature = wine.feature_names\n",
        "wine_feature"
      ],
      "metadata": {
        "id": "KkE_q5VlJJOq",
        "colab": {
          "base_uri": "https://localhost:8080/"
        },
        "outputId": "921ad462-38b3-446d-b58d-fcc339fd296a"
      },
      "execution_count": null,
      "outputs": [
        {
          "output_type": "execute_result",
          "data": {
            "text/plain": [
              "['alcohol',\n",
              " 'malic_acid',\n",
              " 'ash',\n",
              " 'alcalinity_of_ash',\n",
              " 'magnesium',\n",
              " 'total_phenols',\n",
              " 'flavanoids',\n",
              " 'nonflavanoid_phenols',\n",
              " 'proanthocyanins',\n",
              " 'color_intensity',\n",
              " 'hue',\n",
              " 'od280/od315_of_diluted_wines',\n",
              " 'proline']"
            ]
          },
          "metadata": {},
          "execution_count": 68
        }
      ]
    },
    {
      "cell_type": "markdown",
      "source": [
        "feature은 데이터의 속성으로 13개를 가지고 있다."
      ],
      "metadata": {
        "id": "XEhVZv9rJJUF"
      }
    },
    {
      "cell_type": "code",
      "source": [
        "print(wine['DESCR'])"
      ],
      "metadata": {
        "id": "4nUzclMpJJYw",
        "colab": {
          "base_uri": "https://localhost:8080/"
        },
        "outputId": "8d74d53d-3e8f-4309-9d13-a49bd1d339bb"
      },
      "execution_count": null,
      "outputs": [
        {
          "output_type": "stream",
          "name": "stdout",
          "text": [
            ".. _wine_dataset:\n",
            "\n",
            "Wine recognition dataset\n",
            "------------------------\n",
            "\n",
            "**Data Set Characteristics:**\n",
            "\n",
            "    :Number of Instances: 178 (50 in each of three classes)\n",
            "    :Number of Attributes: 13 numeric, predictive attributes and the class\n",
            "    :Attribute Information:\n",
            " \t\t- Alcohol\n",
            " \t\t- Malic acid\n",
            " \t\t- Ash\n",
            "\t\t- Alcalinity of ash  \n",
            " \t\t- Magnesium\n",
            "\t\t- Total phenols\n",
            " \t\t- Flavanoids\n",
            " \t\t- Nonflavanoid phenols\n",
            " \t\t- Proanthocyanins\n",
            "\t\t- Color intensity\n",
            " \t\t- Hue\n",
            " \t\t- OD280/OD315 of diluted wines\n",
            " \t\t- Proline\n",
            "\n",
            "    - class:\n",
            "            - class_0\n",
            "            - class_1\n",
            "            - class_2\n",
            "\t\t\n",
            "    :Summary Statistics:\n",
            "    \n",
            "    ============================= ==== ===== ======= =====\n",
            "                                   Min   Max   Mean     SD\n",
            "    ============================= ==== ===== ======= =====\n",
            "    Alcohol:                      11.0  14.8    13.0   0.8\n",
            "    Malic Acid:                   0.74  5.80    2.34  1.12\n",
            "    Ash:                          1.36  3.23    2.36  0.27\n",
            "    Alcalinity of Ash:            10.6  30.0    19.5   3.3\n",
            "    Magnesium:                    70.0 162.0    99.7  14.3\n",
            "    Total Phenols:                0.98  3.88    2.29  0.63\n",
            "    Flavanoids:                   0.34  5.08    2.03  1.00\n",
            "    Nonflavanoid Phenols:         0.13  0.66    0.36  0.12\n",
            "    Proanthocyanins:              0.41  3.58    1.59  0.57\n",
            "    Colour Intensity:              1.3  13.0     5.1   2.3\n",
            "    Hue:                          0.48  1.71    0.96  0.23\n",
            "    OD280/OD315 of diluted wines: 1.27  4.00    2.61  0.71\n",
            "    Proline:                       278  1680     746   315\n",
            "    ============================= ==== ===== ======= =====\n",
            "\n",
            "    :Missing Attribute Values: None\n",
            "    :Class Distribution: class_0 (59), class_1 (71), class_2 (48)\n",
            "    :Creator: R.A. Fisher\n",
            "    :Donor: Michael Marshall (MARSHALL%PLU@io.arc.nasa.gov)\n",
            "    :Date: July, 1988\n",
            "\n",
            "This is a copy of UCI ML Wine recognition datasets.\n",
            "https://archive.ics.uci.edu/ml/machine-learning-databases/wine/wine.data\n",
            "\n",
            "The data is the results of a chemical analysis of wines grown in the same\n",
            "region in Italy by three different cultivators. There are thirteen different\n",
            "measurements taken for different constituents found in the three types of\n",
            "wine.\n",
            "\n",
            "Original Owners: \n",
            "\n",
            "Forina, M. et al, PARVUS - \n",
            "An Extendible Package for Data Exploration, Classification and Correlation. \n",
            "Institute of Pharmaceutical and Food Analysis and Technologies,\n",
            "Via Brigata Salerno, 16147 Genoa, Italy.\n",
            "\n",
            "Citation:\n",
            "\n",
            "Lichman, M. (2013). UCI Machine Learning Repository\n",
            "[https://archive.ics.uci.edu/ml]. Irvine, CA: University of California,\n",
            "School of Information and Computer Science. \n",
            "\n",
            ".. topic:: References\n",
            "\n",
            "  (1) S. Aeberhard, D. Coomans and O. de Vel, \n",
            "  Comparison of Classifiers in High Dimensional Settings, \n",
            "  Tech. Rep. no. 92-02, (1992), Dept. of Computer Science and Dept. of  \n",
            "  Mathematics and Statistics, James Cook University of North Queensland. \n",
            "  (Also submitted to Technometrics). \n",
            "\n",
            "  The data was used with many others for comparing various \n",
            "  classifiers. The classes are separable, though only RDA \n",
            "  has achieved 100% correct classification. \n",
            "  (RDA : 100%, QDA 99.4%, LDA 98.9%, 1NN 96.1% (z-transformed data)) \n",
            "  (All results using the leave-one-out technique) \n",
            "\n",
            "  (2) S. Aeberhard, D. Coomans and O. de Vel, \n",
            "  \"THE CLASSIFICATION PERFORMANCE OF RDA\" \n",
            "  Tech. Rep. no. 92-01, (1992), Dept. of Computer Science and Dept. of \n",
            "  Mathematics and Statistics, James Cook University of North Queensland. \n",
            "  (Also submitted to Journal of Chemometrics).\n",
            "\n"
          ]
        }
      ]
    },
    {
      "cell_type": "markdown",
      "source": [
        "인스턴스. 속성. 속성에 대한 정보. 결측치 개수. 데이터셋 제작자와 제작 날짜 등을 알아볼 수 있다."
      ],
      "metadata": {
        "id": "x-nzFeeVJJdk"
      }
    },
    {
      "cell_type": "code",
      "source": [
        "wine_df = pd.DataFrame(data=wine.data, columns=wine.feature_names)  \n",
        "wine_df['label'] = wine.target                                        \n",
        "wine_df                                                                  "
      ],
      "metadata": {
        "id": "jfufpzwGJJhp",
        "colab": {
          "base_uri": "https://localhost:8080/",
          "height": 488
        },
        "outputId": "fa7a3aad-0dfb-4cee-f407-d3b5a112545a"
      },
      "execution_count": null,
      "outputs": [
        {
          "output_type": "execute_result",
          "data": {
            "text/plain": [
              "     alcohol  malic_acid   ash  alcalinity_of_ash  magnesium  total_phenols  \\\n",
              "0      14.23        1.71  2.43               15.6      127.0           2.80   \n",
              "1      13.20        1.78  2.14               11.2      100.0           2.65   \n",
              "2      13.16        2.36  2.67               18.6      101.0           2.80   \n",
              "3      14.37        1.95  2.50               16.8      113.0           3.85   \n",
              "4      13.24        2.59  2.87               21.0      118.0           2.80   \n",
              "..       ...         ...   ...                ...        ...            ...   \n",
              "173    13.71        5.65  2.45               20.5       95.0           1.68   \n",
              "174    13.40        3.91  2.48               23.0      102.0           1.80   \n",
              "175    13.27        4.28  2.26               20.0      120.0           1.59   \n",
              "176    13.17        2.59  2.37               20.0      120.0           1.65   \n",
              "177    14.13        4.10  2.74               24.5       96.0           2.05   \n",
              "\n",
              "     flavanoids  nonflavanoid_phenols  proanthocyanins  color_intensity   hue  \\\n",
              "0          3.06                  0.28             2.29             5.64  1.04   \n",
              "1          2.76                  0.26             1.28             4.38  1.05   \n",
              "2          3.24                  0.30             2.81             5.68  1.03   \n",
              "3          3.49                  0.24             2.18             7.80  0.86   \n",
              "4          2.69                  0.39             1.82             4.32  1.04   \n",
              "..          ...                   ...              ...              ...   ...   \n",
              "173        0.61                  0.52             1.06             7.70  0.64   \n",
              "174        0.75                  0.43             1.41             7.30  0.70   \n",
              "175        0.69                  0.43             1.35            10.20  0.59   \n",
              "176        0.68                  0.53             1.46             9.30  0.60   \n",
              "177        0.76                  0.56             1.35             9.20  0.61   \n",
              "\n",
              "     od280/od315_of_diluted_wines  proline  label  \n",
              "0                            3.92   1065.0      0  \n",
              "1                            3.40   1050.0      0  \n",
              "2                            3.17   1185.0      0  \n",
              "3                            3.45   1480.0      0  \n",
              "4                            2.93    735.0      0  \n",
              "..                            ...      ...    ...  \n",
              "173                          1.74    740.0      2  \n",
              "174                          1.56    750.0      2  \n",
              "175                          1.56    835.0      2  \n",
              "176                          1.62    840.0      2  \n",
              "177                          1.60    560.0      2  \n",
              "\n",
              "[178 rows x 14 columns]"
            ],
            "text/html": [
              "\n",
              "  <div id=\"df-1c87ef25-a47a-4729-aeb5-6eb61682ec59\">\n",
              "    <div class=\"colab-df-container\">\n",
              "      <div>\n",
              "<style scoped>\n",
              "    .dataframe tbody tr th:only-of-type {\n",
              "        vertical-align: middle;\n",
              "    }\n",
              "\n",
              "    .dataframe tbody tr th {\n",
              "        vertical-align: top;\n",
              "    }\n",
              "\n",
              "    .dataframe thead th {\n",
              "        text-align: right;\n",
              "    }\n",
              "</style>\n",
              "<table border=\"1\" class=\"dataframe\">\n",
              "  <thead>\n",
              "    <tr style=\"text-align: right;\">\n",
              "      <th></th>\n",
              "      <th>alcohol</th>\n",
              "      <th>malic_acid</th>\n",
              "      <th>ash</th>\n",
              "      <th>alcalinity_of_ash</th>\n",
              "      <th>magnesium</th>\n",
              "      <th>total_phenols</th>\n",
              "      <th>flavanoids</th>\n",
              "      <th>nonflavanoid_phenols</th>\n",
              "      <th>proanthocyanins</th>\n",
              "      <th>color_intensity</th>\n",
              "      <th>hue</th>\n",
              "      <th>od280/od315_of_diluted_wines</th>\n",
              "      <th>proline</th>\n",
              "      <th>label</th>\n",
              "    </tr>\n",
              "  </thead>\n",
              "  <tbody>\n",
              "    <tr>\n",
              "      <th>0</th>\n",
              "      <td>14.23</td>\n",
              "      <td>1.71</td>\n",
              "      <td>2.43</td>\n",
              "      <td>15.6</td>\n",
              "      <td>127.0</td>\n",
              "      <td>2.80</td>\n",
              "      <td>3.06</td>\n",
              "      <td>0.28</td>\n",
              "      <td>2.29</td>\n",
              "      <td>5.64</td>\n",
              "      <td>1.04</td>\n",
              "      <td>3.92</td>\n",
              "      <td>1065.0</td>\n",
              "      <td>0</td>\n",
              "    </tr>\n",
              "    <tr>\n",
              "      <th>1</th>\n",
              "      <td>13.20</td>\n",
              "      <td>1.78</td>\n",
              "      <td>2.14</td>\n",
              "      <td>11.2</td>\n",
              "      <td>100.0</td>\n",
              "      <td>2.65</td>\n",
              "      <td>2.76</td>\n",
              "      <td>0.26</td>\n",
              "      <td>1.28</td>\n",
              "      <td>4.38</td>\n",
              "      <td>1.05</td>\n",
              "      <td>3.40</td>\n",
              "      <td>1050.0</td>\n",
              "      <td>0</td>\n",
              "    </tr>\n",
              "    <tr>\n",
              "      <th>2</th>\n",
              "      <td>13.16</td>\n",
              "      <td>2.36</td>\n",
              "      <td>2.67</td>\n",
              "      <td>18.6</td>\n",
              "      <td>101.0</td>\n",
              "      <td>2.80</td>\n",
              "      <td>3.24</td>\n",
              "      <td>0.30</td>\n",
              "      <td>2.81</td>\n",
              "      <td>5.68</td>\n",
              "      <td>1.03</td>\n",
              "      <td>3.17</td>\n",
              "      <td>1185.0</td>\n",
              "      <td>0</td>\n",
              "    </tr>\n",
              "    <tr>\n",
              "      <th>3</th>\n",
              "      <td>14.37</td>\n",
              "      <td>1.95</td>\n",
              "      <td>2.50</td>\n",
              "      <td>16.8</td>\n",
              "      <td>113.0</td>\n",
              "      <td>3.85</td>\n",
              "      <td>3.49</td>\n",
              "      <td>0.24</td>\n",
              "      <td>2.18</td>\n",
              "      <td>7.80</td>\n",
              "      <td>0.86</td>\n",
              "      <td>3.45</td>\n",
              "      <td>1480.0</td>\n",
              "      <td>0</td>\n",
              "    </tr>\n",
              "    <tr>\n",
              "      <th>4</th>\n",
              "      <td>13.24</td>\n",
              "      <td>2.59</td>\n",
              "      <td>2.87</td>\n",
              "      <td>21.0</td>\n",
              "      <td>118.0</td>\n",
              "      <td>2.80</td>\n",
              "      <td>2.69</td>\n",
              "      <td>0.39</td>\n",
              "      <td>1.82</td>\n",
              "      <td>4.32</td>\n",
              "      <td>1.04</td>\n",
              "      <td>2.93</td>\n",
              "      <td>735.0</td>\n",
              "      <td>0</td>\n",
              "    </tr>\n",
              "    <tr>\n",
              "      <th>...</th>\n",
              "      <td>...</td>\n",
              "      <td>...</td>\n",
              "      <td>...</td>\n",
              "      <td>...</td>\n",
              "      <td>...</td>\n",
              "      <td>...</td>\n",
              "      <td>...</td>\n",
              "      <td>...</td>\n",
              "      <td>...</td>\n",
              "      <td>...</td>\n",
              "      <td>...</td>\n",
              "      <td>...</td>\n",
              "      <td>...</td>\n",
              "      <td>...</td>\n",
              "    </tr>\n",
              "    <tr>\n",
              "      <th>173</th>\n",
              "      <td>13.71</td>\n",
              "      <td>5.65</td>\n",
              "      <td>2.45</td>\n",
              "      <td>20.5</td>\n",
              "      <td>95.0</td>\n",
              "      <td>1.68</td>\n",
              "      <td>0.61</td>\n",
              "      <td>0.52</td>\n",
              "      <td>1.06</td>\n",
              "      <td>7.70</td>\n",
              "      <td>0.64</td>\n",
              "      <td>1.74</td>\n",
              "      <td>740.0</td>\n",
              "      <td>2</td>\n",
              "    </tr>\n",
              "    <tr>\n",
              "      <th>174</th>\n",
              "      <td>13.40</td>\n",
              "      <td>3.91</td>\n",
              "      <td>2.48</td>\n",
              "      <td>23.0</td>\n",
              "      <td>102.0</td>\n",
              "      <td>1.80</td>\n",
              "      <td>0.75</td>\n",
              "      <td>0.43</td>\n",
              "      <td>1.41</td>\n",
              "      <td>7.30</td>\n",
              "      <td>0.70</td>\n",
              "      <td>1.56</td>\n",
              "      <td>750.0</td>\n",
              "      <td>2</td>\n",
              "    </tr>\n",
              "    <tr>\n",
              "      <th>175</th>\n",
              "      <td>13.27</td>\n",
              "      <td>4.28</td>\n",
              "      <td>2.26</td>\n",
              "      <td>20.0</td>\n",
              "      <td>120.0</td>\n",
              "      <td>1.59</td>\n",
              "      <td>0.69</td>\n",
              "      <td>0.43</td>\n",
              "      <td>1.35</td>\n",
              "      <td>10.20</td>\n",
              "      <td>0.59</td>\n",
              "      <td>1.56</td>\n",
              "      <td>835.0</td>\n",
              "      <td>2</td>\n",
              "    </tr>\n",
              "    <tr>\n",
              "      <th>176</th>\n",
              "      <td>13.17</td>\n",
              "      <td>2.59</td>\n",
              "      <td>2.37</td>\n",
              "      <td>20.0</td>\n",
              "      <td>120.0</td>\n",
              "      <td>1.65</td>\n",
              "      <td>0.68</td>\n",
              "      <td>0.53</td>\n",
              "      <td>1.46</td>\n",
              "      <td>9.30</td>\n",
              "      <td>0.60</td>\n",
              "      <td>1.62</td>\n",
              "      <td>840.0</td>\n",
              "      <td>2</td>\n",
              "    </tr>\n",
              "    <tr>\n",
              "      <th>177</th>\n",
              "      <td>14.13</td>\n",
              "      <td>4.10</td>\n",
              "      <td>2.74</td>\n",
              "      <td>24.5</td>\n",
              "      <td>96.0</td>\n",
              "      <td>2.05</td>\n",
              "      <td>0.76</td>\n",
              "      <td>0.56</td>\n",
              "      <td>1.35</td>\n",
              "      <td>9.20</td>\n",
              "      <td>0.61</td>\n",
              "      <td>1.60</td>\n",
              "      <td>560.0</td>\n",
              "      <td>2</td>\n",
              "    </tr>\n",
              "  </tbody>\n",
              "</table>\n",
              "<p>178 rows × 14 columns</p>\n",
              "</div>\n",
              "      <button class=\"colab-df-convert\" onclick=\"convertToInteractive('df-1c87ef25-a47a-4729-aeb5-6eb61682ec59')\"\n",
              "              title=\"Convert this dataframe to an interactive table.\"\n",
              "              style=\"display:none;\">\n",
              "        \n",
              "  <svg xmlns=\"http://www.w3.org/2000/svg\" height=\"24px\"viewBox=\"0 0 24 24\"\n",
              "       width=\"24px\">\n",
              "    <path d=\"M0 0h24v24H0V0z\" fill=\"none\"/>\n",
              "    <path d=\"M18.56 5.44l.94 2.06.94-2.06 2.06-.94-2.06-.94-.94-2.06-.94 2.06-2.06.94zm-11 1L8.5 8.5l.94-2.06 2.06-.94-2.06-.94L8.5 2.5l-.94 2.06-2.06.94zm10 10l.94 2.06.94-2.06 2.06-.94-2.06-.94-.94-2.06-.94 2.06-2.06.94z\"/><path d=\"M17.41 7.96l-1.37-1.37c-.4-.4-.92-.59-1.43-.59-.52 0-1.04.2-1.43.59L10.3 9.45l-7.72 7.72c-.78.78-.78 2.05 0 2.83L4 21.41c.39.39.9.59 1.41.59.51 0 1.02-.2 1.41-.59l7.78-7.78 2.81-2.81c.8-.78.8-2.07 0-2.86zM5.41 20L4 18.59l7.72-7.72 1.47 1.35L5.41 20z\"/>\n",
              "  </svg>\n",
              "      </button>\n",
              "      \n",
              "  <style>\n",
              "    .colab-df-container {\n",
              "      display:flex;\n",
              "      flex-wrap:wrap;\n",
              "      gap: 12px;\n",
              "    }\n",
              "\n",
              "    .colab-df-convert {\n",
              "      background-color: #E8F0FE;\n",
              "      border: none;\n",
              "      border-radius: 50%;\n",
              "      cursor: pointer;\n",
              "      display: none;\n",
              "      fill: #1967D2;\n",
              "      height: 32px;\n",
              "      padding: 0 0 0 0;\n",
              "      width: 32px;\n",
              "    }\n",
              "\n",
              "    .colab-df-convert:hover {\n",
              "      background-color: #E2EBFA;\n",
              "      box-shadow: 0px 1px 2px rgba(60, 64, 67, 0.3), 0px 1px 3px 1px rgba(60, 64, 67, 0.15);\n",
              "      fill: #174EA6;\n",
              "    }\n",
              "\n",
              "    [theme=dark] .colab-df-convert {\n",
              "      background-color: #3B4455;\n",
              "      fill: #D2E3FC;\n",
              "    }\n",
              "\n",
              "    [theme=dark] .colab-df-convert:hover {\n",
              "      background-color: #434B5C;\n",
              "      box-shadow: 0px 1px 3px 1px rgba(0, 0, 0, 0.15);\n",
              "      filter: drop-shadow(0px 1px 2px rgba(0, 0, 0, 0.3));\n",
              "      fill: #FFFFFF;\n",
              "    }\n",
              "  </style>\n",
              "\n",
              "      <script>\n",
              "        const buttonEl =\n",
              "          document.querySelector('#df-1c87ef25-a47a-4729-aeb5-6eb61682ec59 button.colab-df-convert');\n",
              "        buttonEl.style.display =\n",
              "          google.colab.kernel.accessAllowed ? 'block' : 'none';\n",
              "\n",
              "        async function convertToInteractive(key) {\n",
              "          const element = document.querySelector('#df-1c87ef25-a47a-4729-aeb5-6eb61682ec59');\n",
              "          const dataTable =\n",
              "            await google.colab.kernel.invokeFunction('convertToInteractive',\n",
              "                                                     [key], {});\n",
              "          if (!dataTable) return;\n",
              "\n",
              "          const docLinkHtml = 'Like what you see? Visit the ' +\n",
              "            '<a target=\"_blank\" href=https://colab.research.google.com/notebooks/data_table.ipynb>data table notebook</a>'\n",
              "            + ' to learn more about interactive tables.';\n",
              "          element.innerHTML = '';\n",
              "          dataTable['output_type'] = 'display_data';\n",
              "          await google.colab.output.renderOutput(dataTable, element);\n",
              "          const docLink = document.createElement('div');\n",
              "          docLink.innerHTML = docLinkHtml;\n",
              "          element.appendChild(docLink);\n",
              "        }\n",
              "      </script>\n",
              "    </div>\n",
              "  </div>\n",
              "  "
            ]
          },
          "metadata": {},
          "execution_count": 69
        }
      ]
    },
    {
      "cell_type": "markdown",
      "source": [
        "정답 데이터 label 컬럼을 추가했다."
      ],
      "metadata": {
        "id": "pcbVU8piJZG6"
      }
    },
    {
      "cell_type": "markdown",
      "source": [
        "##데이터 분리"
      ],
      "metadata": {
        "id": "3uqvHJrMpgiM"
      }
    },
    {
      "cell_type": "code",
      "source": [
        "x_train, x_test, y_train, y_test = train_test_split(wine_data,  \n",
        "                                                    wine_label,    \n",
        "                                                    test_size=0.2,   \n",
        "                                                    random_state=1)  \n",
        "\n",
        "print('x_train 개수: ', len(x_train),', x_test 개수: ', len(x_test))"
      ],
      "metadata": {
        "id": "lbjY6nndpmN9",
        "colab": {
          "base_uri": "https://localhost:8080/"
        },
        "outputId": "1ff19e69-8630-41c9-d339-cba3c5b2b6a3"
      },
      "execution_count": null,
      "outputs": [
        {
          "output_type": "stream",
          "name": "stdout",
          "text": [
            "x_train 개수:  142 , x_test 개수:  36\n"
          ]
        }
      ]
    },
    {
      "cell_type": "markdown",
      "source": [
        "digits_data은 특징 데이터, digits_label은 정답 데이터로 구성하여\n",
        "<br/>random state으로 데이터를 무작위로 정렬하고\n",
        "<br/>전체의 20%를 시험 데이터로 사용한다."
      ],
      "metadata": {
        "id": "1b1wK8kQo7jz"
      }
    },
    {
      "cell_type": "markdown",
      "source": [
        "##모델 학습"
      ],
      "metadata": {
        "id": "EtPII9ozSmmJ"
      }
    },
    {
      "cell_type": "markdown",
      "source": [
        "###Decision Tree"
      ],
      "metadata": {
        "id": "7jgcxEWlpmbb"
      }
    },
    {
      "cell_type": "code",
      "source": [
        "decision_tree = DecisionTreeClassifier(random_state=15)  \n",
        "decision_tree.fit(x_train, y_train) \n",
        "y_pred = decision_tree.predict(x_test)                        "
      ],
      "metadata": {
        "id": "4X7CUhDdpo2I"
      },
      "execution_count": null,
      "outputs": []
    },
    {
      "cell_type": "code",
      "source": [
        "y_pred"
      ],
      "metadata": {
        "id": "l8lnBlX4Jo1U",
        "colab": {
          "base_uri": "https://localhost:8080/"
        },
        "outputId": "facc6508-5f41-4678-8792-37401b029ccc"
      },
      "execution_count": null,
      "outputs": [
        {
          "output_type": "execute_result",
          "data": {
            "text/plain": [
              "array([2, 1, 0, 1, 0, 2, 1, 0, 2, 1, 0, 0, 1, 0, 1, 1, 2, 0, 1, 0, 0, 1,\n",
              "       1, 0, 0, 2, 0, 0, 0, 2, 1, 2, 2, 0, 1, 1])"
            ]
          },
          "metadata": {},
          "execution_count": 74
        }
      ]
    },
    {
      "cell_type": "code",
      "source": [
        "y_test"
      ],
      "metadata": {
        "id": "XbehrMZSJo4I",
        "colab": {
          "base_uri": "https://localhost:8080/"
        },
        "outputId": "15e66159-1361-49b6-b35b-357f429eaa07"
      },
      "execution_count": null,
      "outputs": [
        {
          "output_type": "execute_result",
          "data": {
            "text/plain": [
              "array([2, 1, 0, 1, 0, 2, 1, 0, 2, 1, 0, 0, 1, 0, 1, 1, 2, 0, 1, 0, 0, 1,\n",
              "       2, 1, 0, 2, 0, 0, 0, 2, 1, 2, 2, 0, 1, 1])"
            ]
          },
          "metadata": {},
          "execution_count": 75
        }
      ]
    },
    {
      "cell_type": "markdown",
      "source": [
        "y_pred와 y_test의 결과를 비교해보니 비슷하게 나왔다"
      ],
      "metadata": {
        "id": "0w9B8cQeJpMj"
      }
    },
    {
      "cell_type": "code",
      "source": [
        "wine_decisiontree_confmat = confusion_matrix(y_true=y_test, y_pred=y_pred)\n",
        "\n",
        "fig, ax = plt.subplots(figsize=(2.5, 2.5))\n",
        "ax.matshow(wine_decisiontree_confmat, cmap=plt.cm.Blues, alpha=0.3)\n",
        "for i in range(wine_decisiontree_confmat.shape[0]):\n",
        "  for j in range(wine_decisiontree_confmat.shape[1]):\n",
        "    ax.text(x=j, y=i,\n",
        "            s=wine_decisiontree_confmat[i, j],\n",
        "            va='center', ha='center')\n",
        "plt.xlabel('Predicted label')\n",
        "plt.ylabel('True label')\n",
        "plt.tight_layout()\n",
        "plt.show()"
      ],
      "metadata": {
        "colab": {
          "base_uri": "https://localhost:8080/",
          "height": 189
        },
        "id": "bZ14r0uv9TFk",
        "outputId": "467c3d41-5a5b-4f68-a4b1-09b4db7f290c"
      },
      "execution_count": null,
      "outputs": [
        {
          "output_type": "display_data",
          "data": {
            "text/plain": [
              "<Figure size 180x180 with 1 Axes>"
            ],
            "image/png": "[encoded data removed]"
          },
          "metadata": {
            "needs_background": "light"
          }
        }
      ]
    },
    {
      "cell_type": "markdown",
      "source": [
        "Decision Tree 학습 알고리즘의 성능을 행렬로 펼쳐 놓은 오차 행렬"
      ],
      "metadata": {
        "id": "jhyYwxWV9TUg"
      }
    },
    {
      "cell_type": "code",
      "source": [
        "plot_confusion_matrix(decision_tree, x_test, y_test, normalize='all')\n",
        "plt.show()"
      ],
      "metadata": {
        "colab": {
          "base_uri": "https://localhost:8080/",
          "height": 279
        },
        "id": "TywSPCe79UGc",
        "outputId": "a26a000a-74c5-4fd8-ad74-2018917a6248"
      },
      "execution_count": null,
      "outputs": [
        {
          "output_type": "display_data",
          "data": {
            "text/plain": [
              "<Figure size 432x288 with 2 Axes>"
            ],
            "image/png": "[encoded data removed]"
          },
          "metadata": {
            "needs_background": "light"
          }
        }
      ]
    },
    {
      "cell_type": "markdown",
      "source": [
        "normalize 매개변수를 사용하여 오차 행렬의 값을 정규화"
      ],
      "metadata": {
        "id": "UGpKI7Ng9UcF"
      }
    },
    {
      "cell_type": "code",
      "source": [
        "print(classification_report(y_test, y_pred))"
      ],
      "metadata": {
        "colab": {
          "base_uri": "https://localhost:8080/"
        },
        "id": "2edpoXfr_Dx3",
        "outputId": "73f6ac02-ddb5-4fbe-c4be-e581844791e8"
      },
      "execution_count": null,
      "outputs": [
        {
          "output_type": "stream",
          "name": "stdout",
          "text": [
            "              precision    recall  f1-score   support\n",
            "\n",
            "           0       0.93      1.00      0.97        14\n",
            "           1       0.92      0.92      0.92        13\n",
            "           2       1.00      0.89      0.94         9\n",
            "\n",
            "    accuracy                           0.94        36\n",
            "   macro avg       0.95      0.94      0.94        36\n",
            "weighted avg       0.95      0.94      0.94        36\n",
            "\n"
          ]
        }
      ]
    },
    {
      "cell_type": "markdown",
      "source": [
        "예측값을 기준으로 한 정답인 예측값의 비율(Precision) 평균 = 0.95\n",
        "<br/>실제값을 기준으로 한 정답인 예측값의 비율(Recall) 평균 = 0.94"
      ],
      "metadata": {
        "id": "0Lm8KB5P_EjG"
      }
    },
    {
      "cell_type": "code",
      "source": [
        "wine_decisiontree_report = classification_report(y_test, y_pred, output_dict=True)\n",
        "wine_decisiontree_report = pd.DataFrame(wine_decisiontree_report).transpose()   \n",
        "wine_decisiontree_accuracy = wine_decisiontree_report['f1-score'][-3:-2][0] \n",
        "print(\"accuracy : \", wine_decisiontree_accuracy) "
      ],
      "metadata": {
        "id": "m2XD1sjQJp73",
        "colab": {
          "base_uri": "https://localhost:8080/"
        },
        "outputId": "255de3f9-f588-41be-b7ed-6992bffcdc7f"
      },
      "execution_count": null,
      "outputs": [
        {
          "output_type": "stream",
          "name": "stdout",
          "text": [
            "accuracy :  0.9444444444444444\n"
          ]
        }
      ]
    },
    {
      "cell_type": "markdown",
      "source": [
        "Decision Tree 모델 성능 'accuracy'는 94.44%이다.\n",
        " <br/>Decision Tree 모델의 성능을 변수로 저장한다."
      ],
      "metadata": {
        "id": "O70xHFtTJqKD"
      }
    },
    {
      "cell_type": "markdown",
      "source": [
        "###Random Forest"
      ],
      "metadata": {
        "id": "XVDfEOjepn7b"
      }
    },
    {
      "cell_type": "code",
      "source": [
        "random_forest = RandomForestClassifier(random_state=32)       \n",
        "random_forest.fit(x_train, y_train)                          \n",
        "y_pred = random_forest.predict(x_test)   "
      ],
      "metadata": {
        "id": "WSh7nVIcppL_"
      },
      "execution_count": null,
      "outputs": []
    },
    {
      "cell_type": "code",
      "source": [
        "y_pred         "
      ],
      "metadata": {
        "id": "3Z53o1ykppPb",
        "colab": {
          "base_uri": "https://localhost:8080/"
        },
        "outputId": "9e38dac5-eb24-4b66-c281-eaa3743bbbe2"
      },
      "execution_count": null,
      "outputs": [
        {
          "output_type": "execute_result",
          "data": {
            "text/plain": [
              "array([2, 1, 0, 1, 0, 2, 1, 0, 2, 1, 0, 0, 1, 0, 1, 1, 2, 0, 1, 0, 0, 1,\n",
              "       2, 0, 0, 2, 0, 0, 0, 2, 1, 2, 2, 0, 1, 1])"
            ]
          },
          "metadata": {},
          "execution_count": 81
        }
      ]
    },
    {
      "cell_type": "code",
      "source": [
        "y_test        "
      ],
      "metadata": {
        "id": "d9vhWIfoJ4GN",
        "colab": {
          "base_uri": "https://localhost:8080/"
        },
        "outputId": "5dceb705-a8e4-4219-e88e-c93f4ea8587a"
      },
      "execution_count": null,
      "outputs": [
        {
          "output_type": "execute_result",
          "data": {
            "text/plain": [
              "array([2, 2, 1, 0, 1, 2, 0, 2, 1, 2, 2, 2, 1, 1, 2, 0, 0, 0, 0, 2, 0, 0,\n",
              "       1, 1, 0, 0, 1, 1, 1, 0, 0, 1, 0, 2, 0, 2])"
            ]
          },
          "metadata": {},
          "execution_count": 349
        }
      ]
    },
    {
      "cell_type": "code",
      "source": [
        "wine_random_forest_confmat = confusion_matrix(y_true=y_test, y_pred=y_pred)\n",
        "\n",
        "fig, ax = plt.subplots(figsize=(2.5, 2.5))\n",
        "ax.matshow(wine_random_forest_confmat, cmap=plt.cm.Blues, alpha=0.3)\n",
        "for i in range(wine_random_forest_confmat.shape[0]):\n",
        "  for j in range(wine_random_forest_confmat.shape[1]):\n",
        "    ax.text(x=j, y=i,\n",
        "            s=wine_random_forest_confmat[i, j],\n",
        "            va='center', ha='center')\n",
        "plt.xlabel('Predicted label')\n",
        "plt.ylabel('True label')\n",
        "plt.tight_layout()\n",
        "plt.show()"
      ],
      "metadata": {
        "colab": {
          "base_uri": "https://localhost:8080/",
          "height": 189
        },
        "id": "JzKJK7Th9-C6",
        "outputId": "7d0fca4e-585d-403f-f121-7d00cc330f19"
      },
      "execution_count": null,
      "outputs": [
        {
          "output_type": "display_data",
          "data": {
            "text/plain": [
              "<Figure size 180x180 with 1 Axes>"
            ],
            "image/png": "[encoded data removed]"
          },
          "metadata": {
            "needs_background": "light"
          }
        }
      ]
    },
    {
      "cell_type": "markdown",
      "source": [
        "Random Forest 학습 알고리즘의 성능을 행렬로 펼쳐 놓은 오차 행렬"
      ],
      "metadata": {
        "id": "cP5QCfUw_Uur"
      }
    },
    {
      "cell_type": "code",
      "source": [
        "plot_confusion_matrix(random_forest, x_test, y_test, normalize='all')\n",
        "plt.show()"
      ],
      "metadata": {
        "colab": {
          "base_uri": "https://localhost:8080/",
          "height": 279
        },
        "id": "qFZOtwTv-2f6",
        "outputId": "7ce747ca-4609-46b7-b8a4-aecfca211112"
      },
      "execution_count": null,
      "outputs": [
        {
          "output_type": "display_data",
          "data": {
            "text/plain": [
              "<Figure size 432x288 with 2 Axes>"
            ],
            "image/png": "[encoded data removed]"
          },
          "metadata": {
            "needs_background": "light"
          }
        }
      ]
    },
    {
      "cell_type": "markdown",
      "source": [
        "normalize 매개변수를 사용하여 오차 행렬의 값을 정규화"
      ],
      "metadata": {
        "id": "e4vj8O91-2xf"
      }
    },
    {
      "cell_type": "markdown",
      "source": [
        "Random Forest 학습 알고리즘의 성능을 행렬로 펼쳐 놓은 오차 행렬"
      ],
      "metadata": {
        "id": "U7yDRRTd9-Jy"
      }
    },
    {
      "cell_type": "code",
      "source": [
        "print(classification_report(y_test, y_pred))"
      ],
      "metadata": {
        "id": "c05oK2njJ4I5",
        "colab": {
          "base_uri": "https://localhost:8080/"
        },
        "outputId": "7480cc9b-b133-4b7a-8f19-6e378dc2bdd8"
      },
      "execution_count": null,
      "outputs": [
        {
          "output_type": "stream",
          "name": "stdout",
          "text": [
            "              precision    recall  f1-score   support\n",
            "\n",
            "           0       0.93      1.00      0.97        14\n",
            "           1       1.00      0.92      0.96        13\n",
            "           2       1.00      1.00      1.00         9\n",
            "\n",
            "    accuracy                           0.97        36\n",
            "   macro avg       0.98      0.97      0.98        36\n",
            "weighted avg       0.97      0.97      0.97        36\n",
            "\n"
          ]
        }
      ]
    },
    {
      "cell_type": "markdown",
      "source": [
        "예측값을 기준으로 한 정답인 예측값의 비율(Precision) 평균 = 0.97\n",
        "<br/>실제값을 기준으로 한 정답인 예측값의 비율(Recall) 평균 = 0.97"
      ],
      "metadata": {
        "id": "LC4zkjm2J4V6"
      }
    },
    {
      "cell_type": "code",
      "source": [
        "wine_randomforest_report = classification_report(y_test, y_pred, output_dict=True)\n",
        "wine_randomforest_report = pd.DataFrame(wine_randomforest_report).transpose()   \n",
        "wine_randomforest_accuracy = wine_randomforest_report['f1-score'][-3:-2][0]\n",
        "print(\"accuracy : \", wine_randomforest_accuracy) "
      ],
      "metadata": {
        "id": "O_Qp3yRhJ4fD",
        "colab": {
          "base_uri": "https://localhost:8080/"
        },
        "outputId": "a19a85d4-7b5e-45ae-859a-5cf112f957a1"
      },
      "execution_count": null,
      "outputs": [
        {
          "output_type": "stream",
          "name": "stdout",
          "text": [
            "accuracy :  0.9722222222222222\n"
          ]
        }
      ]
    },
    {
      "cell_type": "markdown",
      "source": [
        "Randomforest 모델의 성능 'accuracy'는 97.22%이다.\n",
        "<br/>Randomforest 모델의 성능을 변수로 저장한다.\n"
      ],
      "metadata": {
        "id": "qCsLIVoKJ4oL"
      }
    },
    {
      "cell_type": "markdown",
      "source": [
        "###Support Vector Classifier(SVC)"
      ],
      "metadata": {
        "id": "h1Iokq7zpoGx"
      }
    },
    {
      "cell_type": "code",
      "source": [
        "svc_model = svm.SVC()\n",
        "svc_model.fit(x_train, y_train)\n",
        "y_pred = svc_model.predict(x_test)"
      ],
      "metadata": {
        "id": "EwAvYisFppxN"
      },
      "execution_count": null,
      "outputs": []
    },
    {
      "cell_type": "code",
      "source": [
        "wine_svc_confmat = confusion_matrix(y_true=y_test, y_pred=y_pred)\n",
        "\n",
        "fig, ax = plt.subplots(figsize=(2.5, 2.5))\n",
        "ax.matshow(wine_svc_confmat, cmap=plt.cm.Blues, alpha=0.3)\n",
        "for i in range(wine_svc_confmat.shape[0]):\n",
        "  for j in range(wine_svc_confmat.shape[1]):\n",
        "    ax.text(x=j, y=i,\n",
        "            s=wine_svc_confmat[i, j],\n",
        "            va='center', ha='center')\n",
        "plt.xlabel('Predicted label')\n",
        "plt.ylabel('True label')\n",
        "plt.tight_layout()\n",
        "plt.show()"
      ],
      "metadata": {
        "colab": {
          "base_uri": "https://localhost:8080/",
          "height": 189
        },
        "id": "bveWU_Dd_diF",
        "outputId": "82af021d-808f-4c2f-d090-3a080c7d22e4"
      },
      "execution_count": null,
      "outputs": [
        {
          "output_type": "display_data",
          "data": {
            "text/plain": [
              "<Figure size 180x180 with 1 Axes>"
            ],
            "image/png": "[encoded data removed]"
          },
          "metadata": {
            "needs_background": "light"
          }
        }
      ]
    },
    {
      "cell_type": "markdown",
      "source": [
        "SVC 학습 알고리즘의 성능을 행렬로 펼쳐 놓은 오차 행렬"
      ],
      "metadata": {
        "id": "VLiXwi3s_bwU"
      }
    },
    {
      "cell_type": "code",
      "source": [
        "plot_confusion_matrix(svc_model, x_test, y_test, normalize='all')\n",
        "plt.show()"
      ],
      "metadata": {
        "colab": {
          "base_uri": "https://localhost:8080/",
          "height": 279
        },
        "id": "LgEMYwi0_eFo",
        "outputId": "178a3c11-47d1-4926-ee32-7fa8201b6ad9"
      },
      "execution_count": null,
      "outputs": [
        {
          "output_type": "display_data",
          "data": {
            "text/plain": [
              "<Figure size 432x288 with 2 Axes>"
            ],
            "image/png": "[encoded data removed]"
          },
          "metadata": {
            "needs_background": "light"
          }
        }
      ]
    },
    {
      "cell_type": "markdown",
      "source": [
        "normalize 매개변수를 사용하여 오차 행렬의 값을 정규화"
      ],
      "metadata": {
        "id": "RR4ZBMag_eOM"
      }
    },
    {
      "cell_type": "code",
      "source": [
        "print(classification_report(y_test, y_pred))"
      ],
      "metadata": {
        "colab": {
          "base_uri": "https://localhost:8080/"
        },
        "id": "S-tix0AE_boA",
        "outputId": "32b50235-fedd-4730-8086-6b461caf4144"
      },
      "execution_count": null,
      "outputs": [
        {
          "output_type": "stream",
          "name": "stdout",
          "text": [
            "              precision    recall  f1-score   support\n",
            "\n",
            "           0       0.92      0.79      0.85        14\n",
            "           1       0.58      0.85      0.69        13\n",
            "           2       0.20      0.11      0.14         9\n",
            "\n",
            "    accuracy                           0.64        36\n",
            "   macro avg       0.57      0.58      0.56        36\n",
            "weighted avg       0.62      0.64      0.61        36\n",
            "\n"
          ]
        }
      ]
    },
    {
      "cell_type": "markdown",
      "source": [
        "예측값을 기준으로 한 정답인 예측값의 비율(Precision) 평균 = 0.50\n",
        "<br/>실제값을 기준으로 한 정답인 예측값의 비율(Recall) 평균 = 0.62"
      ],
      "metadata": {
        "id": "R5uYGXn_KGVF"
      }
    },
    {
      "cell_type": "code",
      "source": [
        "wine_svc_report = classification_report(y_test, y_pred, output_dict=True)\n",
        "wine_svc_report = pd.DataFrame(wine_svc_report).transpose()     \n",
        "wine_svc_accuracy = wine_svc_report['f1-score'][-3:-2][0]\n",
        "print(\"accuracy : \", wine_svc_accuracy) "
      ],
      "metadata": {
        "id": "9nRiMtb_KDvf",
        "colab": {
          "base_uri": "https://localhost:8080/"
        },
        "outputId": "bd874b00-bdae-4c0a-d723-d65ba3e8c85b"
      },
      "execution_count": null,
      "outputs": [
        {
          "output_type": "stream",
          "name": "stdout",
          "text": [
            "accuracy :  0.6388888888888888\n"
          ]
        }
      ]
    },
    {
      "cell_type": "markdown",
      "source": [
        "SVC 모델의 성능 'accuracy'는 63.89%이다.\n",
        "<br/>SVC 모델의 성능을 변수로 저장한다."
      ],
      "metadata": {
        "id": "PsD_ZxLJKEnw"
      }
    },
    {
      "cell_type": "markdown",
      "source": [
        "###SGD Classifier"
      ],
      "metadata": {
        "id": "_Ykw47QNpoOC"
      }
    },
    {
      "cell_type": "code",
      "source": [
        "sgd_model = SGDClassifier()\n",
        "sgd_model.fit(x_train, y_train)\n",
        "y_pred = sgd_model.predict(x_test)"
      ],
      "metadata": {
        "id": "ciKci7rMpqRx"
      },
      "execution_count": null,
      "outputs": []
    },
    {
      "cell_type": "code",
      "source": [
        "wine_sgd_confmat = confusion_matrix(y_true=y_test, y_pred=y_pred)\n",
        "\n",
        "fig, ax = plt.subplots(figsize=(2.5, 2.5))\n",
        "ax.matshow(wine_sgd_confmat, cmap=plt.cm.Blues, alpha=0.3)\n",
        "for i in range(wine_sgd_confmat.shape[0]):\n",
        "  for j in range(wine_sgd_confmat.shape[1]):\n",
        "    ax.text(x=j, y=i,\n",
        "            s=wine_sgd_confmat[i, j],\n",
        "            va='center', ha='center')\n",
        "plt.xlabel('Predicted label')\n",
        "plt.ylabel('True label')\n",
        "plt.tight_layout()\n",
        "plt.show()"
      ],
      "metadata": {
        "colab": {
          "base_uri": "https://localhost:8080/",
          "height": 189
        },
        "id": "RFRqOi4YAvd2",
        "outputId": "b018237a-c15d-40ed-a7cb-329acc4de391"
      },
      "execution_count": null,
      "outputs": [
        {
          "output_type": "display_data",
          "data": {
            "text/plain": [
              "<Figure size 180x180 with 1 Axes>"
            ],
            "image/png": "[encoded data removed]"
          },
          "metadata": {
            "needs_background": "light"
          }
        }
      ]
    },
    {
      "cell_type": "markdown",
      "source": [
        "SGD 학습 알고리즘의 성능을 행렬로 펼쳐 놓은 오차 행렬"
      ],
      "metadata": {
        "id": "m--gB6haAvjx"
      }
    },
    {
      "cell_type": "code",
      "source": [
        "plot_confusion_matrix(sgd_model, x_test, y_test, normalize='all')\n",
        "plt.show()"
      ],
      "metadata": {
        "colab": {
          "base_uri": "https://localhost:8080/",
          "height": 279
        },
        "id": "VA82ZBoSAvoX",
        "outputId": "84f4801c-e5e0-437f-b9bc-2b22ff621825"
      },
      "execution_count": null,
      "outputs": [
        {
          "output_type": "display_data",
          "data": {
            "text/plain": [
              "<Figure size 432x288 with 2 Axes>"
            ],
            "image/png": "[encoded data removed]"
          },
          "metadata": {
            "needs_background": "light"
          }
        }
      ]
    },
    {
      "cell_type": "markdown",
      "source": [
        "normalize 매개변수를 사용하여 오차 행렬의 값을 정규화"
      ],
      "metadata": {
        "id": "NyzR6QwxAvtw"
      }
    },
    {
      "cell_type": "code",
      "source": [
        "print(classification_report(y_test, y_pred))"
      ],
      "metadata": {
        "colab": {
          "base_uri": "https://localhost:8080/"
        },
        "id": "8nMpokfqAutV",
        "outputId": "01676681-ea92-469d-eec6-e4c3ce929d2b"
      },
      "execution_count": null,
      "outputs": [
        {
          "output_type": "stream",
          "name": "stdout",
          "text": [
            "              precision    recall  f1-score   support\n",
            "\n",
            "           0       0.64      1.00      0.78        14\n",
            "           1       0.71      0.77      0.74        13\n",
            "           2       0.00      0.00      0.00         9\n",
            "\n",
            "    accuracy                           0.67        36\n",
            "   macro avg       0.45      0.59      0.51        36\n",
            "weighted avg       0.51      0.67      0.57        36\n",
            "\n"
          ]
        }
      ]
    },
    {
      "cell_type": "markdown",
      "source": [
        "예측값을 기준으로 한 정답인 예측값의 비율(Precision) 평균 = 0.71\n",
        "<br/>실제값을 기준으로 한 정답인 예측값의 비율(Recall) 평균 = 0.65"
      ],
      "metadata": {
        "id": "KPtbj3HAKPD5"
      }
    },
    {
      "cell_type": "code",
      "source": [
        "wine_sgd_report = classification_report(y_test, y_pred, output_dict=True)\n",
        "wine_sgd_report = pd.DataFrame(wine_sgd_report).transpose()    \n",
        "wine_sgd_accuracy = wine_sgd_report['f1-score'][-3:-2][0]    \n",
        "print(\"accuracy : \", wine_sgd_accuracy) "
      ],
      "metadata": {
        "id": "H2LARIIhKOPG",
        "colab": {
          "base_uri": "https://localhost:8080/"
        },
        "outputId": "1a2a5de0-a541-40b4-db05-12e81673b02e"
      },
      "execution_count": null,
      "outputs": [
        {
          "output_type": "stream",
          "name": "stdout",
          "text": [
            "accuracy :  0.6666666666666666\n"
          ]
        }
      ]
    },
    {
      "cell_type": "markdown",
      "source": [
        "SGD 모델의 성능 'accuracy'는 66.67%이다.\n",
        "<br/>SGD 모델의 성능을 변수로 저장한다."
      ],
      "metadata": {
        "id": "0-QUpFgeKPwY"
      }
    },
    {
      "cell_type": "markdown",
      "source": [
        "###Logistic Regression"
      ],
      "metadata": {
        "id": "sqQ-irq2poWD"
      }
    },
    {
      "cell_type": "code",
      "source": [
        "logistic_model = LogisticRegression()\n",
        "logistic_model.fit(x_train, y_train)\n",
        "y_pred = logistic_model.predict(x_test)"
      ],
      "metadata": {
        "id": "H8ynO57kpqsY"
      },
      "execution_count": null,
      "outputs": []
    },
    {
      "cell_type": "code",
      "source": [
        "wine_logistic_confmat = confusion_matrix(y_true=y_test, y_pred=y_pred)\n",
        "\n",
        "fig, ax = plt.subplots(figsize=(2.5, 2.5))\n",
        "ax.matshow(wine_logistic_confmat, cmap=plt.cm.Blues, alpha=0.3)\n",
        "for i in range(wine_logistic_confmat.shape[0]):\n",
        "  for j in range(wine_logistic_confmat.shape[1]):\n",
        "    ax.text(x=j, y=i,\n",
        "            s=wine_logistic_confmat[i, j],\n",
        "            va='center', ha='center')\n",
        "plt.xlabel('Predicted label')\n",
        "plt.ylabel('True label')\n",
        "plt.tight_layout()\n",
        "plt.show()"
      ],
      "metadata": {
        "colab": {
          "base_uri": "https://localhost:8080/",
          "height": 189
        },
        "id": "TvvtMsBIBg9Y",
        "outputId": "ef3b2824-29c7-4dfe-d426-24bf6360ead7"
      },
      "execution_count": null,
      "outputs": [
        {
          "output_type": "display_data",
          "data": {
            "text/plain": [
              "<Figure size 180x180 with 1 Axes>"
            ],
            "image/png": "[encoded data removed]"
          },
          "metadata": {
            "needs_background": "light"
          }
        }
      ]
    },
    {
      "cell_type": "markdown",
      "source": [
        "Logistic Regression 학습 알고리즘의 성능을 행렬로 펼쳐 놓은 오차 행렬"
      ],
      "metadata": {
        "id": "mYQxDdL7BhDS"
      }
    },
    {
      "cell_type": "code",
      "source": [
        "plot_confusion_matrix(logistic_model, x_test, y_test, normalize='all')\n",
        "plt.show()"
      ],
      "metadata": {
        "colab": {
          "base_uri": "https://localhost:8080/",
          "height": 279
        },
        "id": "f56_xiZ9BhJI",
        "outputId": "6a364227-7aa5-4af4-d6f9-136c8558c513"
      },
      "execution_count": null,
      "outputs": [
        {
          "output_type": "display_data",
          "data": {
            "text/plain": [
              "<Figure size 432x288 with 2 Axes>"
            ],
            "image/png": "[encoded data removed]"
          },
          "metadata": {
            "needs_background": "light"
          }
        }
      ]
    },
    {
      "cell_type": "markdown",
      "source": [
        "normalize 매개변수를 사용하여 오차 행렬의 값을 정규화"
      ],
      "metadata": {
        "id": "U53YDlWyBhP3"
      }
    },
    {
      "cell_type": "code",
      "source": [
        "print(classification_report(y_test, y_pred))"
      ],
      "metadata": {
        "colab": {
          "base_uri": "https://localhost:8080/"
        },
        "id": "ytKDH3H2BdrJ",
        "outputId": "ae527a42-4449-4ca1-b1c8-a29166741ae5"
      },
      "execution_count": null,
      "outputs": [
        {
          "output_type": "stream",
          "name": "stdout",
          "text": [
            "              precision    recall  f1-score   support\n",
            "\n",
            "           0       1.00      0.93      0.96        14\n",
            "           1       0.87      1.00      0.93        13\n",
            "           2       1.00      0.89      0.94         9\n",
            "\n",
            "    accuracy                           0.94        36\n",
            "   macro avg       0.96      0.94      0.94        36\n",
            "weighted avg       0.95      0.94      0.95        36\n",
            "\n"
          ]
        }
      ]
    },
    {
      "cell_type": "markdown",
      "source": [
        "예측값을 기준으로 한 정답인 예측값의 비율(Precision) 평균 = 0.97\n",
        "<br/>실제값을 기준으로 한 정답인 예측값의 비율(Recall) 평균 = 0.97"
      ],
      "metadata": {
        "id": "C1KDKP4dKXCV"
      }
    },
    {
      "cell_type": "code",
      "source": [
        "wine_logistic_report = classification_report(y_test, y_pred, output_dict=True)\n",
        "wine_logistic_report = pd.DataFrame(wine_logistic_report).transpose()     \n",
        "wine_logistic_accuracy = wine_logistic_report['f1-score'][-3:-2][0]\n",
        "print(\"accuracy : \", wine_logistic_accuracy) "
      ],
      "metadata": {
        "id": "5eM5hPO1KX60",
        "colab": {
          "base_uri": "https://localhost:8080/"
        },
        "outputId": "14c3df97-501b-4b63-8745-335e73144021"
      },
      "execution_count": null,
      "outputs": [
        {
          "output_type": "stream",
          "name": "stdout",
          "text": [
            "accuracy :  0.9444444444444444\n"
          ]
        }
      ]
    },
    {
      "cell_type": "markdown",
      "source": [
        "Logistic Regression 모델의 성능 'accuracy'는 94.44%이다.\n",
        "<br/>Logistic Regression 모델의 성능을 변수로 저장한다."
      ],
      "metadata": {
        "id": "ayCNgpBmKYJO"
      }
    },
    {
      "cell_type": "markdown",
      "source": [
        "##모델 평가"
      ],
      "metadata": {
        "id": "mDmZhQcbRxFG"
      }
    },
    {
      "cell_type": "code",
      "source": [
        "wine_model_comparison = [round(wine_decisiontree_accuracy, 4)\n",
        ",round(wine_randomforest_accuracy, 4), round(wine_svc_accuracy, 4)\n",
        ",round(wine_sgd_accuracy, 4), round(wine_logistic_accuracy, 4)]\n",
        "\n",
        "wine_model_name = ['Decision Tree','Random Forest','SVC','SGD', 'Logistic']  \n",
        "\n",
        "wine_df = pd.DataFrame({\"Model\": wine_model_name,\n",
        "                  \"Accuracy\":wine_model_comparison})\n",
        "wine_df_sorted= wine_df.sort_values('Accuracy',ascending=False)\n",
        "\n",
        "\n",
        "plt.figure(figsize=(10, 5))                                                  \n",
        "bar_width = 0.1                                                                \n",
        "\n",
        "plt.bar('Model', 'Accuracy',data=wine_df_sorted, color = 'blue')        \n",
        "\n",
        "for i, v in enumerate(wine_model_name):\n",
        "    plt.text(v, wine_model_comparison[i],wine_model_comparison[i],      \n",
        "             fontsize = 9, \n",
        "             color='black',\n",
        "             horizontalalignment='center',  \n",
        "             verticalalignment='bottom')    \n",
        "\n",
        "plt.ylim([0.5, 1])    \n",
        "plt.title('Wine', fontsize=20)     \n",
        "plt.xlabel('Model', fontsize=18)     \n",
        "plt.ylabel('Accuracy', fontsize=18)  \n",
        "plt.show()            "
      ],
      "metadata": {
        "id": "DutJpY0CprXn",
        "colab": {
          "base_uri": "https://localhost:8080/",
          "height": 363
        },
        "outputId": "eaba710e-b08a-4106-a6c6-d959d630987f"
      },
      "execution_count": null,
      "outputs": [
        {
          "output_type": "display_data",
          "data": {
            "text/plain": [
              "<Figure size 720x360 with 1 Axes>"
            ],
            "image/png": "[encoded data removed]"
          },
          "metadata": {
            "needs_background": "light"
          }
        }
      ]
    },
    {
      "cell_type": "markdown",
      "source": [
        "Random Forest > Decision Tree = Logistic  >  SGD > SVC 순으로 성능이 높다.\n",
        "<br/>따라서 wine 데이터셋에서는 Random Forest 모델 성능이 탁월하다."
      ],
      "metadata": {
        "id": "mv_fKBXyCVMZ"
      }
    },
    {
      "cell_type": "markdown",
      "source": [
        "#load_breast_cancer : 유방암 여부 진단"
      ],
      "metadata": {
        "id": "LVWw3XEfZhrw"
      }
    },
    {
      "cell_type": "markdown",
      "source": [
        "##데이터 정보"
      ],
      "metadata": {
        "id": "V4sumS2s17uk"
      }
    },
    {
      "cell_type": "markdown",
      "source": [
        "[sklearn.datasets.load_breast_cancer](https://scikit-learn.org/stable/modules/generated/sklearn.datasets.load_breast_cancer.html?highlight=load_breast_cancer#sklearn.datasets.load_breast_cancer)\n",
        "\n"
      ],
      "metadata": {
        "id": "GzGiSGYR17yW"
      }
    },
    {
      "cell_type": "markdown",
      "source": [
        "##**데이터 탐색**"
      ],
      "metadata": {
        "id": "eD90X7PfZnU8"
      }
    },
    {
      "cell_type": "code",
      "execution_count": null,
      "metadata": {
        "id": "w58N4_2WqocJ"
      },
      "outputs": [],
      "source": [
        "from sklearn.datasets import load_breast_cancer             \n",
        "breast_cancer = load_breast_cancer()        "
      ]
    },
    {
      "cell_type": "code",
      "source": [
        "dir(breast_cancer)     "
      ],
      "metadata": {
        "id": "4Cq7ec2aqR_O",
        "colab": {
          "base_uri": "https://localhost:8080/"
        },
        "outputId": "5c444c95-5962-4bbc-c18f-9a3aa7aea5e9"
      },
      "execution_count": null,
      "outputs": [
        {
          "output_type": "execute_result",
          "data": {
            "text/plain": [
              "['DESCR',\n",
              " 'data',\n",
              " 'data_module',\n",
              " 'feature_names',\n",
              " 'filename',\n",
              " 'frame',\n",
              " 'target',\n",
              " 'target_names']"
            ]
          },
          "metadata": {},
          "execution_count": 371
        }
      ]
    },
    {
      "cell_type": "code",
      "source": [
        "breast_cancer.keys() "
      ],
      "metadata": {
        "id": "Lvbqhnz_qcpg",
        "colab": {
          "base_uri": "https://localhost:8080/"
        },
        "outputId": "2ba50fd0-85dc-4e7b-9d8c-379a21071455"
      },
      "execution_count": null,
      "outputs": [
        {
          "output_type": "execute_result",
          "data": {
            "text/plain": [
              "dict_keys(['data', 'target', 'frame', 'target_names', 'DESCR', 'feature_names', 'filename', 'data_module'])"
            ]
          },
          "metadata": {},
          "execution_count": 116
        }
      ]
    },
    {
      "cell_type": "markdown",
      "source": [
        "데이터셋 breast_cancer에는 data, target, frame, feature_names, target_names, filename, data_module, DESCR까지\n",
        "<br/>총 8개의 정보가 담겨져있다."
      ],
      "metadata": {
        "id": "g6M1WKeRKvp6"
      }
    },
    {
      "cell_type": "code",
      "source": [
        "breast_cancer_data = breast_cancer.data\n",
        "print(breast_cancer_data.shape)"
      ],
      "metadata": {
        "id": "JneZ9aSRqcsb",
        "colab": {
          "base_uri": "https://localhost:8080/"
        },
        "outputId": "8e8909e0-5f78-41b2-bb2b-592b24b4ba61"
      },
      "execution_count": null,
      "outputs": [
        {
          "output_type": "stream",
          "name": "stdout",
          "text": [
            "(569, 30)\n"
          ]
        }
      ]
    },
    {
      "cell_type": "markdown",
      "source": [
        "총 569개의 데이터가 각각 30개의 정보를 담고 있다."
      ],
      "metadata": {
        "id": "wN7b1JLiKzuM"
      }
    },
    {
      "cell_type": "code",
      "source": [
        "breast_cancer_data[0]"
      ],
      "metadata": {
        "id": "KgVdtEPwqc1G",
        "colab": {
          "base_uri": "https://localhost:8080/"
        },
        "outputId": "d63e5df0-fd14-4b94-c092-854c9cae52ed"
      },
      "execution_count": null,
      "outputs": [
        {
          "output_type": "execute_result",
          "data": {
            "text/plain": [
              "array([1.799e+01, 1.038e+01, 1.228e+02, 1.001e+03, 1.184e-01, 2.776e-01,\n",
              "       3.001e-01, 1.471e-01, 2.419e-01, 7.871e-02, 1.095e+00, 9.053e-01,\n",
              "       8.589e+00, 1.534e+02, 6.399e-03, 4.904e-02, 5.373e-02, 1.587e-02,\n",
              "       3.003e-02, 6.193e-03, 2.538e+01, 1.733e+01, 1.846e+02, 2.019e+03,\n",
              "       1.622e-01, 6.656e-01, 7.119e-01, 2.654e-01, 4.601e-01, 1.189e-01])"
            ]
          },
          "metadata": {},
          "execution_count": 374
        }
      ]
    },
    {
      "cell_type": "markdown",
      "source": [
        "0번 index에 위치한 데이터의 정보이다."
      ],
      "metadata": {
        "id": "tH_xXV9dK3w0"
      }
    },
    {
      "cell_type": "code",
      "source": [
        "breast_cancer_label = breast_cancer.target\n",
        "print(breast_cancer_label.shape)\n",
        "breast_cancer_label"
      ],
      "metadata": {
        "id": "Kzx_pqe8qc3c",
        "colab": {
          "base_uri": "https://localhost:8080/"
        },
        "outputId": "1212838c-b2b5-4d6c-e919-d3f1ac32c340"
      },
      "execution_count": null,
      "outputs": [
        {
          "output_type": "stream",
          "name": "stdout",
          "text": [
            "(569,)\n"
          ]
        },
        {
          "output_type": "execute_result",
          "data": {
            "text/plain": [
              "array([0, 0, 0, 0, 0, 0, 0, 0, 0, 0, 0, 0, 0, 0, 0, 0, 0, 0, 0, 1, 1, 1,\n",
              "       0, 0, 0, 0, 0, 0, 0, 0, 0, 0, 0, 0, 0, 0, 0, 1, 0, 0, 0, 0, 0, 0,\n",
              "       0, 0, 1, 0, 1, 1, 1, 1, 1, 0, 0, 1, 0, 0, 1, 1, 1, 1, 0, 1, 0, 0,\n",
              "       1, 1, 1, 1, 0, 1, 0, 0, 1, 0, 1, 0, 0, 1, 1, 1, 0, 0, 1, 0, 0, 0,\n",
              "       1, 1, 1, 0, 1, 1, 0, 0, 1, 1, 1, 0, 0, 1, 1, 1, 1, 0, 1, 1, 0, 1,\n",
              "       1, 1, 1, 1, 1, 1, 1, 0, 0, 0, 1, 0, 0, 1, 1, 1, 0, 0, 1, 0, 1, 0,\n",
              "       0, 1, 0, 0, 1, 1, 0, 1, 1, 0, 1, 1, 1, 1, 0, 1, 1, 1, 1, 1, 1, 1,\n",
              "       1, 1, 0, 1, 1, 1, 1, 0, 0, 1, 0, 1, 1, 0, 0, 1, 1, 0, 0, 1, 1, 1,\n",
              "       1, 0, 1, 1, 0, 0, 0, 1, 0, 1, 0, 1, 1, 1, 0, 1, 1, 0, 0, 1, 0, 0,\n",
              "       0, 0, 1, 0, 0, 0, 1, 0, 1, 0, 1, 1, 0, 1, 0, 0, 0, 0, 1, 1, 0, 0,\n",
              "       1, 1, 1, 0, 1, 1, 1, 1, 1, 0, 0, 1, 1, 0, 1, 1, 0, 0, 1, 0, 1, 1,\n",
              "       1, 1, 0, 1, 1, 1, 1, 1, 0, 1, 0, 0, 0, 0, 0, 0, 0, 0, 0, 0, 0, 0,\n",
              "       0, 0, 1, 1, 1, 1, 1, 1, 0, 1, 0, 1, 1, 0, 1, 1, 0, 1, 0, 0, 1, 1,\n",
              "       1, 1, 1, 1, 1, 1, 1, 1, 1, 1, 1, 0, 1, 1, 0, 1, 0, 1, 1, 1, 1, 1,\n",
              "       1, 1, 1, 1, 1, 1, 1, 1, 1, 0, 1, 1, 1, 0, 1, 0, 1, 1, 1, 1, 0, 0,\n",
              "       0, 1, 1, 1, 1, 0, 1, 0, 1, 0, 1, 1, 1, 0, 1, 1, 1, 1, 1, 1, 1, 0,\n",
              "       0, 0, 1, 1, 1, 1, 1, 1, 1, 1, 1, 1, 1, 0, 0, 1, 0, 0, 0, 1, 0, 0,\n",
              "       1, 1, 1, 1, 1, 0, 1, 1, 1, 1, 1, 0, 1, 1, 1, 0, 1, 1, 0, 0, 1, 1,\n",
              "       1, 1, 1, 1, 0, 1, 1, 1, 1, 1, 1, 1, 0, 1, 1, 1, 1, 1, 0, 1, 1, 0,\n",
              "       1, 1, 1, 1, 1, 1, 1, 1, 1, 1, 1, 1, 0, 1, 0, 0, 1, 0, 1, 1, 1, 1,\n",
              "       1, 0, 1, 1, 0, 1, 0, 1, 1, 0, 1, 0, 1, 1, 1, 1, 1, 1, 1, 1, 0, 0,\n",
              "       1, 1, 1, 1, 1, 1, 0, 1, 1, 1, 1, 1, 1, 1, 1, 1, 1, 0, 1, 1, 1, 1,\n",
              "       1, 1, 1, 0, 1, 0, 1, 1, 0, 1, 1, 1, 1, 1, 0, 0, 1, 0, 1, 0, 1, 1,\n",
              "       1, 1, 1, 0, 1, 1, 0, 1, 0, 1, 0, 0, 1, 1, 1, 0, 1, 1, 1, 1, 1, 1,\n",
              "       1, 1, 1, 1, 1, 0, 1, 0, 0, 1, 1, 1, 1, 1, 1, 1, 1, 1, 1, 1, 1, 1,\n",
              "       1, 1, 1, 1, 1, 1, 1, 1, 1, 1, 1, 1, 0, 0, 0, 0, 0, 0, 1])"
            ]
          },
          "metadata": {},
          "execution_count": 118
        }
      ]
    },
    {
      "cell_type": "markdown",
      "source": [
        "breast_cancer 데이터의 타겟정보\n",
        "<br/>타겟은 주어진 정답을 의미한다.\n",
        "<br/>총 569개의 데이터가 0과 1로 이진 분류됐다."
      ],
      "metadata": {
        "id": "V27QpNQ9K6Zt"
      }
    },
    {
      "cell_type": "code",
      "source": [
        "breast_cancer.target_names"
      ],
      "metadata": {
        "id": "MD5Sg4H9K6ew",
        "colab": {
          "base_uri": "https://localhost:8080/"
        },
        "outputId": "289782ec-2335-46f0-ab33-4dd8d511522c"
      },
      "execution_count": null,
      "outputs": [
        {
          "output_type": "execute_result",
          "data": {
            "text/plain": [
              "array(['malignant', 'benign'], dtype='<U9')"
            ]
          },
          "metadata": {},
          "execution_count": 376
        }
      ]
    },
    {
      "cell_type": "markdown",
      "source": [
        "'malignant', 'benign'으로 breast_cancer의 요소가 담겨있다."
      ],
      "metadata": {
        "id": "1lW3yla9K6j_"
      }
    },
    {
      "cell_type": "code",
      "source": [
        "breast_cancer_feature = breast_cancer.feature_names\n",
        "breast_cancer_feature"
      ],
      "metadata": {
        "id": "e3v7zNOYK6ob",
        "colab": {
          "base_uri": "https://localhost:8080/"
        },
        "outputId": "41d5a19d-24fa-43f7-d363-1338e5e74ef5"
      },
      "execution_count": null,
      "outputs": [
        {
          "output_type": "execute_result",
          "data": {
            "text/plain": [
              "array(['mean radius', 'mean texture', 'mean perimeter', 'mean area',\n",
              "       'mean smoothness', 'mean compactness', 'mean concavity',\n",
              "       'mean concave points', 'mean symmetry', 'mean fractal dimension',\n",
              "       'radius error', 'texture error', 'perimeter error', 'area error',\n",
              "       'smoothness error', 'compactness error', 'concavity error',\n",
              "       'concave points error', 'symmetry error',\n",
              "       'fractal dimension error', 'worst radius', 'worst texture',\n",
              "       'worst perimeter', 'worst area', 'worst smoothness',\n",
              "       'worst compactness', 'worst concavity', 'worst concave points',\n",
              "       'worst symmetry', 'worst fractal dimension'], dtype='<U23')"
            ]
          },
          "metadata": {},
          "execution_count": 119
        }
      ]
    },
    {
      "cell_type": "markdown",
      "source": [
        "feature은 데이터의 속성으로 30개를 가지고 있다."
      ],
      "metadata": {
        "id": "HWPyZUtlLBYc"
      }
    },
    {
      "cell_type": "code",
      "source": [
        "print(breast_cancer['DESCR'])"
      ],
      "metadata": {
        "id": "JktHgM_xqW8V",
        "colab": {
          "base_uri": "https://localhost:8080/"
        },
        "outputId": "b3c99f82-d37f-46b6-cfa5-55f3d65e5dae"
      },
      "execution_count": null,
      "outputs": [
        {
          "output_type": "stream",
          "name": "stdout",
          "text": [
            ".. _breast_cancer_dataset:\n",
            "\n",
            "Breast cancer wisconsin (diagnostic) dataset\n",
            "--------------------------------------------\n",
            "\n",
            "**Data Set Characteristics:**\n",
            "\n",
            "    :Number of Instances: 569\n",
            "\n",
            "    :Number of Attributes: 30 numeric, predictive attributes and the class\n",
            "\n",
            "    :Attribute Information:\n",
            "        - radius (mean of distances from center to points on the perimeter)\n",
            "        - texture (standard deviation of gray-scale values)\n",
            "        - perimeter\n",
            "        - area\n",
            "        - smoothness (local variation in radius lengths)\n",
            "        - compactness (perimeter^2 / area - 1.0)\n",
            "        - concavity (severity of concave portions of the contour)\n",
            "        - concave points (number of concave portions of the contour)\n",
            "        - symmetry\n",
            "        - fractal dimension (\"coastline approximation\" - 1)\n",
            "\n",
            "        The mean, standard error, and \"worst\" or largest (mean of the three\n",
            "        worst/largest values) of these features were computed for each image,\n",
            "        resulting in 30 features.  For instance, field 0 is Mean Radius, field\n",
            "        10 is Radius SE, field 20 is Worst Radius.\n",
            "\n",
            "        - class:\n",
            "                - WDBC-Malignant\n",
            "                - WDBC-Benign\n",
            "\n",
            "    :Summary Statistics:\n",
            "\n",
            "    ===================================== ====== ======\n",
            "                                           Min    Max\n",
            "    ===================================== ====== ======\n",
            "    radius (mean):                        6.981  28.11\n",
            "    texture (mean):                       9.71   39.28\n",
            "    perimeter (mean):                     43.79  188.5\n",
            "    area (mean):                          143.5  2501.0\n",
            "    smoothness (mean):                    0.053  0.163\n",
            "    compactness (mean):                   0.019  0.345\n",
            "    concavity (mean):                     0.0    0.427\n",
            "    concave points (mean):                0.0    0.201\n",
            "    symmetry (mean):                      0.106  0.304\n",
            "    fractal dimension (mean):             0.05   0.097\n",
            "    radius (standard error):              0.112  2.873\n",
            "    texture (standard error):             0.36   4.885\n",
            "    perimeter (standard error):           0.757  21.98\n",
            "    area (standard error):                6.802  542.2\n",
            "    smoothness (standard error):          0.002  0.031\n",
            "    compactness (standard error):         0.002  0.135\n",
            "    concavity (standard error):           0.0    0.396\n",
            "    concave points (standard error):      0.0    0.053\n",
            "    symmetry (standard error):            0.008  0.079\n",
            "    fractal dimension (standard error):   0.001  0.03\n",
            "    radius (worst):                       7.93   36.04\n",
            "    texture (worst):                      12.02  49.54\n",
            "    perimeter (worst):                    50.41  251.2\n",
            "    area (worst):                         185.2  4254.0\n",
            "    smoothness (worst):                   0.071  0.223\n",
            "    compactness (worst):                  0.027  1.058\n",
            "    concavity (worst):                    0.0    1.252\n",
            "    concave points (worst):               0.0    0.291\n",
            "    symmetry (worst):                     0.156  0.664\n",
            "    fractal dimension (worst):            0.055  0.208\n",
            "    ===================================== ====== ======\n",
            "\n",
            "    :Missing Attribute Values: None\n",
            "\n",
            "    :Class Distribution: 212 - Malignant, 357 - Benign\n",
            "\n",
            "    :Creator:  Dr. William H. Wolberg, W. Nick Street, Olvi L. Mangasarian\n",
            "\n",
            "    :Donor: Nick Street\n",
            "\n",
            "    :Date: November, 1995\n",
            "\n",
            "This is a copy of UCI ML Breast Cancer Wisconsin (Diagnostic) datasets.\n",
            "https://goo.gl/U2Uwz2\n",
            "\n",
            "Features are computed from a digitized image of a fine needle\n",
            "aspirate (FNA) of a breast mass.  They describe\n",
            "characteristics of the cell nuclei present in the image.\n",
            "\n",
            "Separating plane described above was obtained using\n",
            "Multisurface Method-Tree (MSM-T) [K. P. Bennett, \"Decision Tree\n",
            "Construction Via Linear Programming.\" Proceedings of the 4th\n",
            "Midwest Artificial Intelligence and Cognitive Science Society,\n",
            "pp. 97-101, 1992], a classification method which uses linear\n",
            "programming to construct a decision tree.  Relevant features\n",
            "were selected using an exhaustive search in the space of 1-4\n",
            "features and 1-3 separating planes.\n",
            "\n",
            "The actual linear program used to obtain the separating plane\n",
            "in the 3-dimensional space is that described in:\n",
            "[K. P. Bennett and O. L. Mangasarian: \"Robust Linear\n",
            "Programming Discrimination of Two Linearly Inseparable Sets\",\n",
            "Optimization Methods and Software 1, 1992, 23-34].\n",
            "\n",
            "This database is also available through the UW CS ftp server:\n",
            "\n",
            "ftp ftp.cs.wisc.edu\n",
            "cd math-prog/cpo-dataset/machine-learn/WDBC/\n",
            "\n",
            ".. topic:: References\n",
            "\n",
            "   - W.N. Street, W.H. Wolberg and O.L. Mangasarian. Nuclear feature extraction \n",
            "     for breast tumor diagnosis. IS&T/SPIE 1993 International Symposium on \n",
            "     Electronic Imaging: Science and Technology, volume 1905, pages 861-870,\n",
            "     San Jose, CA, 1993.\n",
            "   - O.L. Mangasarian, W.N. Street and W.H. Wolberg. Breast cancer diagnosis and \n",
            "     prognosis via linear programming. Operations Research, 43(4), pages 570-577, \n",
            "     July-August 1995.\n",
            "   - W.H. Wolberg, W.N. Street, and O.L. Mangasarian. Machine learning techniques\n",
            "     to diagnose breast cancer from fine-needle aspirates. Cancer Letters 77 (1994) \n",
            "     163-171.\n"
          ]
        }
      ]
    },
    {
      "cell_type": "markdown",
      "source": [
        "인스턴스. 속성. 속성에 대한 정보. 결측치 개수. 데이터셋 제작자와 제작 날짜 등을 알아볼 수 있다."
      ],
      "metadata": {
        "id": "rVjEd5KHLGUe"
      }
    },
    {
      "cell_type": "code",
      "source": [
        "breast_cancer_df = pd.DataFrame(data=breast_cancer.data, columns=breast_cancer.feature_names)  \n",
        "breast_cancer_df['label'] = breast_cancer.target                                       \n",
        "breast_cancer_df                                                                  "
      ],
      "metadata": {
        "id": "4HdGH8E5LJ_I",
        "colab": {
          "base_uri": "https://localhost:8080/",
          "height": 522
        },
        "outputId": "8db69341-809c-48d9-a4dc-f2e9404f24d9"
      },
      "execution_count": null,
      "outputs": [
        {
          "output_type": "execute_result",
          "data": {
            "text/plain": [
              "     mean radius  mean texture  mean perimeter  mean area  mean smoothness  \\\n",
              "0          17.99         10.38          122.80     1001.0          0.11840   \n",
              "1          20.57         17.77          132.90     1326.0          0.08474   \n",
              "2          19.69         21.25          130.00     1203.0          0.10960   \n",
              "3          11.42         20.38           77.58      386.1          0.14250   \n",
              "4          20.29         14.34          135.10     1297.0          0.10030   \n",
              "..           ...           ...             ...        ...              ...   \n",
              "564        21.56         22.39          142.00     1479.0          0.11100   \n",
              "565        20.13         28.25          131.20     1261.0          0.09780   \n",
              "566        16.60         28.08          108.30      858.1          0.08455   \n",
              "567        20.60         29.33          140.10     1265.0          0.11780   \n",
              "568         7.76         24.54           47.92      181.0          0.05263   \n",
              "\n",
              "     mean compactness  mean concavity  mean concave points  mean symmetry  \\\n",
              "0             0.27760         0.30010              0.14710         0.2419   \n",
              "1             0.07864         0.08690              0.07017         0.1812   \n",
              "2             0.15990         0.19740              0.12790         0.2069   \n",
              "3             0.28390         0.24140              0.10520         0.2597   \n",
              "4             0.13280         0.19800              0.10430         0.1809   \n",
              "..                ...             ...                  ...            ...   \n",
              "564           0.11590         0.24390              0.13890         0.1726   \n",
              "565           0.10340         0.14400              0.09791         0.1752   \n",
              "566           0.10230         0.09251              0.05302         0.1590   \n",
              "567           0.27700         0.35140              0.15200         0.2397   \n",
              "568           0.04362         0.00000              0.00000         0.1587   \n",
              "\n",
              "     mean fractal dimension  ...  worst texture  worst perimeter  worst area  \\\n",
              "0                   0.07871  ...          17.33           184.60      2019.0   \n",
              "1                   0.05667  ...          23.41           158.80      1956.0   \n",
              "2                   0.05999  ...          25.53           152.50      1709.0   \n",
              "3                   0.09744  ...          26.50            98.87       567.7   \n",
              "4                   0.05883  ...          16.67           152.20      1575.0   \n",
              "..                      ...  ...            ...              ...         ...   \n",
              "564                 0.05623  ...          26.40           166.10      2027.0   \n",
              "565                 0.05533  ...          38.25           155.00      1731.0   \n",
              "566                 0.05648  ...          34.12           126.70      1124.0   \n",
              "567                 0.07016  ...          39.42           184.60      1821.0   \n",
              "568                 0.05884  ...          30.37            59.16       268.6   \n",
              "\n",
              "     worst smoothness  worst compactness  worst concavity  \\\n",
              "0             0.16220            0.66560           0.7119   \n",
              "1             0.12380            0.18660           0.2416   \n",
              "2             0.14440            0.42450           0.4504   \n",
              "3             0.20980            0.86630           0.6869   \n",
              "4             0.13740            0.20500           0.4000   \n",
              "..                ...                ...              ...   \n",
              "564           0.14100            0.21130           0.4107   \n",
              "565           0.11660            0.19220           0.3215   \n",
              "566           0.11390            0.30940           0.3403   \n",
              "567           0.16500            0.86810           0.9387   \n",
              "568           0.08996            0.06444           0.0000   \n",
              "\n",
              "     worst concave points  worst symmetry  worst fractal dimension  label  \n",
              "0                  0.2654          0.4601                  0.11890      0  \n",
              "1                  0.1860          0.2750                  0.08902      0  \n",
              "2                  0.2430          0.3613                  0.08758      0  \n",
              "3                  0.2575          0.6638                  0.17300      0  \n",
              "4                  0.1625          0.2364                  0.07678      0  \n",
              "..                    ...             ...                      ...    ...  \n",
              "564                0.2216          0.2060                  0.07115      0  \n",
              "565                0.1628          0.2572                  0.06637      0  \n",
              "566                0.1418          0.2218                  0.07820      0  \n",
              "567                0.2650          0.4087                  0.12400      0  \n",
              "568                0.0000          0.2871                  0.07039      1  \n",
              "\n",
              "[569 rows x 31 columns]"
            ],
            "text/html": [
              "\n",
              "  <div id=\"df-e8d9c67d-cdfe-4362-beeb-a8d4ac6fe28f\">\n",
              "    <div class=\"colab-df-container\">\n",
              "      <div>\n",
              "<style scoped>\n",
              "    .dataframe tbody tr th:only-of-type {\n",
              "        vertical-align: middle;\n",
              "    }\n",
              "\n",
              "    .dataframe tbody tr th {\n",
              "        vertical-align: top;\n",
              "    }\n",
              "\n",
              "    .dataframe thead th {\n",
              "        text-align: right;\n",
              "    }\n",
              "</style>\n",
              "<table border=\"1\" class=\"dataframe\">\n",
              "  <thead>\n",
              "    <tr style=\"text-align: right;\">\n",
              "      <th></th>\n",
              "      <th>mean radius</th>\n",
              "      <th>mean texture</th>\n",
              "      <th>mean perimeter</th>\n",
              "      <th>mean area</th>\n",
              "      <th>mean smoothness</th>\n",
              "      <th>mean compactness</th>\n",
              "      <th>mean concavity</th>\n",
              "      <th>mean concave points</th>\n",
              "      <th>mean symmetry</th>\n",
              "      <th>mean fractal dimension</th>\n",
              "      <th>...</th>\n",
              "      <th>worst texture</th>\n",
              "      <th>worst perimeter</th>\n",
              "      <th>worst area</th>\n",
              "      <th>worst smoothness</th>\n",
              "      <th>worst compactness</th>\n",
              "      <th>worst concavity</th>\n",
              "      <th>worst concave points</th>\n",
              "      <th>worst symmetry</th>\n",
              "      <th>worst fractal dimension</th>\n",
              "      <th>label</th>\n",
              "    </tr>\n",
              "  </thead>\n",
              "  <tbody>\n",
              "    <tr>\n",
              "      <th>0</th>\n",
              "      <td>17.99</td>\n",
              "      <td>10.38</td>\n",
              "      <td>122.80</td>\n",
              "      <td>1001.0</td>\n",
              "      <td>0.11840</td>\n",
              "      <td>0.27760</td>\n",
              "      <td>0.30010</td>\n",
              "      <td>0.14710</td>\n",
              "      <td>0.2419</td>\n",
              "      <td>0.07871</td>\n",
              "      <td>...</td>\n",
              "      <td>17.33</td>\n",
              "      <td>184.60</td>\n",
              "      <td>2019.0</td>\n",
              "      <td>0.16220</td>\n",
              "      <td>0.66560</td>\n",
              "      <td>0.7119</td>\n",
              "      <td>0.2654</td>\n",
              "      <td>0.4601</td>\n",
              "      <td>0.11890</td>\n",
              "      <td>0</td>\n",
              "    </tr>\n",
              "    <tr>\n",
              "      <th>1</th>\n",
              "      <td>20.57</td>\n",
              "      <td>17.77</td>\n",
              "      <td>132.90</td>\n",
              "      <td>1326.0</td>\n",
              "      <td>0.08474</td>\n",
              "      <td>0.07864</td>\n",
              "      <td>0.08690</td>\n",
              "      <td>0.07017</td>\n",
              "      <td>0.1812</td>\n",
              "      <td>0.05667</td>\n",
              "      <td>...</td>\n",
              "      <td>23.41</td>\n",
              "      <td>158.80</td>\n",
              "      <td>1956.0</td>\n",
              "      <td>0.12380</td>\n",
              "      <td>0.18660</td>\n",
              "      <td>0.2416</td>\n",
              "      <td>0.1860</td>\n",
              "      <td>0.2750</td>\n",
              "      <td>0.08902</td>\n",
              "      <td>0</td>\n",
              "    </tr>\n",
              "    <tr>\n",
              "      <th>2</th>\n",
              "      <td>19.69</td>\n",
              "      <td>21.25</td>\n",
              "      <td>130.00</td>\n",
              "      <td>1203.0</td>\n",
              "      <td>0.10960</td>\n",
              "      <td>0.15990</td>\n",
              "      <td>0.19740</td>\n",
              "      <td>0.12790</td>\n",
              "      <td>0.2069</td>\n",
              "      <td>0.05999</td>\n",
              "      <td>...</td>\n",
              "      <td>25.53</td>\n",
              "      <td>152.50</td>\n",
              "      <td>1709.0</td>\n",
              "      <td>0.14440</td>\n",
              "      <td>0.42450</td>\n",
              "      <td>0.4504</td>\n",
              "      <td>0.2430</td>\n",
              "      <td>0.3613</td>\n",
              "      <td>0.08758</td>\n",
              "      <td>0</td>\n",
              "    </tr>\n",
              "    <tr>\n",
              "      <th>3</th>\n",
              "      <td>11.42</td>\n",
              "      <td>20.38</td>\n",
              "      <td>77.58</td>\n",
              "      <td>386.1</td>\n",
              "      <td>0.14250</td>\n",
              "      <td>0.28390</td>\n",
              "      <td>0.24140</td>\n",
              "      <td>0.10520</td>\n",
              "      <td>0.2597</td>\n",
              "      <td>0.09744</td>\n",
              "      <td>...</td>\n",
              "      <td>26.50</td>\n",
              "      <td>98.87</td>\n",
              "      <td>567.7</td>\n",
              "      <td>0.20980</td>\n",
              "      <td>0.86630</td>\n",
              "      <td>0.6869</td>\n",
              "      <td>0.2575</td>\n",
              "      <td>0.6638</td>\n",
              "      <td>0.17300</td>\n",
              "      <td>0</td>\n",
              "    </tr>\n",
              "    <tr>\n",
              "      <th>4</th>\n",
              "      <td>20.29</td>\n",
              "      <td>14.34</td>\n",
              "      <td>135.10</td>\n",
              "      <td>1297.0</td>\n",
              "      <td>0.10030</td>\n",
              "      <td>0.13280</td>\n",
              "      <td>0.19800</td>\n",
              "      <td>0.10430</td>\n",
              "      <td>0.1809</td>\n",
              "      <td>0.05883</td>\n",
              "      <td>...</td>\n",
              "      <td>16.67</td>\n",
              "      <td>152.20</td>\n",
              "      <td>1575.0</td>\n",
              "      <td>0.13740</td>\n",
              "      <td>0.20500</td>\n",
              "      <td>0.4000</td>\n",
              "      <td>0.1625</td>\n",
              "      <td>0.2364</td>\n",
              "      <td>0.07678</td>\n",
              "      <td>0</td>\n",
              "    </tr>\n",
              "    <tr>\n",
              "      <th>...</th>\n",
              "      <td>...</td>\n",
              "      <td>...</td>\n",
              "      <td>...</td>\n",
              "      <td>...</td>\n",
              "      <td>...</td>\n",
              "      <td>...</td>\n",
              "      <td>...</td>\n",
              "      <td>...</td>\n",
              "      <td>...</td>\n",
              "      <td>...</td>\n",
              "      <td>...</td>\n",
              "      <td>...</td>\n",
              "      <td>...</td>\n",
              "      <td>...</td>\n",
              "      <td>...</td>\n",
              "      <td>...</td>\n",
              "      <td>...</td>\n",
              "      <td>...</td>\n",
              "      <td>...</td>\n",
              "      <td>...</td>\n",
              "      <td>...</td>\n",
              "    </tr>\n",
              "    <tr>\n",
              "      <th>564</th>\n",
              "      <td>21.56</td>\n",
              "      <td>22.39</td>\n",
              "      <td>142.00</td>\n",
              "      <td>1479.0</td>\n",
              "      <td>0.11100</td>\n",
              "      <td>0.11590</td>\n",
              "      <td>0.24390</td>\n",
              "      <td>0.13890</td>\n",
              "      <td>0.1726</td>\n",
              "      <td>0.05623</td>\n",
              "      <td>...</td>\n",
              "      <td>26.40</td>\n",
              "      <td>166.10</td>\n",
              "      <td>2027.0</td>\n",
              "      <td>0.14100</td>\n",
              "      <td>0.21130</td>\n",
              "      <td>0.4107</td>\n",
              "      <td>0.2216</td>\n",
              "      <td>0.2060</td>\n",
              "      <td>0.07115</td>\n",
              "      <td>0</td>\n",
              "    </tr>\n",
              "    <tr>\n",
              "      <th>565</th>\n",
              "      <td>20.13</td>\n",
              "      <td>28.25</td>\n",
              "      <td>131.20</td>\n",
              "      <td>1261.0</td>\n",
              "      <td>0.09780</td>\n",
              "      <td>0.10340</td>\n",
              "      <td>0.14400</td>\n",
              "      <td>0.09791</td>\n",
              "      <td>0.1752</td>\n",
              "      <td>0.05533</td>\n",
              "      <td>...</td>\n",
              "      <td>38.25</td>\n",
              "      <td>155.00</td>\n",
              "      <td>1731.0</td>\n",
              "      <td>0.11660</td>\n",
              "      <td>0.19220</td>\n",
              "      <td>0.3215</td>\n",
              "      <td>0.1628</td>\n",
              "      <td>0.2572</td>\n",
              "      <td>0.06637</td>\n",
              "      <td>0</td>\n",
              "    </tr>\n",
              "    <tr>\n",
              "      <th>566</th>\n",
              "      <td>16.60</td>\n",
              "      <td>28.08</td>\n",
              "      <td>108.30</td>\n",
              "      <td>858.1</td>\n",
              "      <td>0.08455</td>\n",
              "      <td>0.10230</td>\n",
              "      <td>0.09251</td>\n",
              "      <td>0.05302</td>\n",
              "      <td>0.1590</td>\n",
              "      <td>0.05648</td>\n",
              "      <td>...</td>\n",
              "      <td>34.12</td>\n",
              "      <td>126.70</td>\n",
              "      <td>1124.0</td>\n",
              "      <td>0.11390</td>\n",
              "      <td>0.30940</td>\n",
              "      <td>0.3403</td>\n",
              "      <td>0.1418</td>\n",
              "      <td>0.2218</td>\n",
              "      <td>0.07820</td>\n",
              "      <td>0</td>\n",
              "    </tr>\n",
              "    <tr>\n",
              "      <th>567</th>\n",
              "      <td>20.60</td>\n",
              "      <td>29.33</td>\n",
              "      <td>140.10</td>\n",
              "      <td>1265.0</td>\n",
              "      <td>0.11780</td>\n",
              "      <td>0.27700</td>\n",
              "      <td>0.35140</td>\n",
              "      <td>0.15200</td>\n",
              "      <td>0.2397</td>\n",
              "      <td>0.07016</td>\n",
              "      <td>...</td>\n",
              "      <td>39.42</td>\n",
              "      <td>184.60</td>\n",
              "      <td>1821.0</td>\n",
              "      <td>0.16500</td>\n",
              "      <td>0.86810</td>\n",
              "      <td>0.9387</td>\n",
              "      <td>0.2650</td>\n",
              "      <td>0.4087</td>\n",
              "      <td>0.12400</td>\n",
              "      <td>0</td>\n",
              "    </tr>\n",
              "    <tr>\n",
              "      <th>568</th>\n",
              "      <td>7.76</td>\n",
              "      <td>24.54</td>\n",
              "      <td>47.92</td>\n",
              "      <td>181.0</td>\n",
              "      <td>0.05263</td>\n",
              "      <td>0.04362</td>\n",
              "      <td>0.00000</td>\n",
              "      <td>0.00000</td>\n",
              "      <td>0.1587</td>\n",
              "      <td>0.05884</td>\n",
              "      <td>...</td>\n",
              "      <td>30.37</td>\n",
              "      <td>59.16</td>\n",
              "      <td>268.6</td>\n",
              "      <td>0.08996</td>\n",
              "      <td>0.06444</td>\n",
              "      <td>0.0000</td>\n",
              "      <td>0.0000</td>\n",
              "      <td>0.2871</td>\n",
              "      <td>0.07039</td>\n",
              "      <td>1</td>\n",
              "    </tr>\n",
              "  </tbody>\n",
              "</table>\n",
              "<p>569 rows × 31 columns</p>\n",
              "</div>\n",
              "      <button class=\"colab-df-convert\" onclick=\"convertToInteractive('df-e8d9c67d-cdfe-4362-beeb-a8d4ac6fe28f')\"\n",
              "              title=\"Convert this dataframe to an interactive table.\"\n",
              "              style=\"display:none;\">\n",
              "        \n",
              "  <svg xmlns=\"http://www.w3.org/2000/svg\" height=\"24px\"viewBox=\"0 0 24 24\"\n",
              "       width=\"24px\">\n",
              "    <path d=\"M0 0h24v24H0V0z\" fill=\"none\"/>\n",
              "    <path d=\"M18.56 5.44l.94 2.06.94-2.06 2.06-.94-2.06-.94-.94-2.06-.94 2.06-2.06.94zm-11 1L8.5 8.5l.94-2.06 2.06-.94-2.06-.94L8.5 2.5l-.94 2.06-2.06.94zm10 10l.94 2.06.94-2.06 2.06-.94-2.06-.94-.94-2.06-.94 2.06-2.06.94z\"/><path d=\"M17.41 7.96l-1.37-1.37c-.4-.4-.92-.59-1.43-.59-.52 0-1.04.2-1.43.59L10.3 9.45l-7.72 7.72c-.78.78-.78 2.05 0 2.83L4 21.41c.39.39.9.59 1.41.59.51 0 1.02-.2 1.41-.59l7.78-7.78 2.81-2.81c.8-.78.8-2.07 0-2.86zM5.41 20L4 18.59l7.72-7.72 1.47 1.35L5.41 20z\"/>\n",
              "  </svg>\n",
              "      </button>\n",
              "      \n",
              "  <style>\n",
              "    .colab-df-container {\n",
              "      display:flex;\n",
              "      flex-wrap:wrap;\n",
              "      gap: 12px;\n",
              "    }\n",
              "\n",
              "    .colab-df-convert {\n",
              "      background-color: #E8F0FE;\n",
              "      border: none;\n",
              "      border-radius: 50%;\n",
              "      cursor: pointer;\n",
              "      display: none;\n",
              "      fill: #1967D2;\n",
              "      height: 32px;\n",
              "      padding: 0 0 0 0;\n",
              "      width: 32px;\n",
              "    }\n",
              "\n",
              "    .colab-df-convert:hover {\n",
              "      background-color: #E2EBFA;\n",
              "      box-shadow: 0px 1px 2px rgba(60, 64, 67, 0.3), 0px 1px 3px 1px rgba(60, 64, 67, 0.15);\n",
              "      fill: #174EA6;\n",
              "    }\n",
              "\n",
              "    [theme=dark] .colab-df-convert {\n",
              "      background-color: #3B4455;\n",
              "      fill: #D2E3FC;\n",
              "    }\n",
              "\n",
              "    [theme=dark] .colab-df-convert:hover {\n",
              "      background-color: #434B5C;\n",
              "      box-shadow: 0px 1px 3px 1px rgba(0, 0, 0, 0.15);\n",
              "      filter: drop-shadow(0px 1px 2px rgba(0, 0, 0, 0.3));\n",
              "      fill: #FFFFFF;\n",
              "    }\n",
              "  </style>\n",
              "\n",
              "      <script>\n",
              "        const buttonEl =\n",
              "          document.querySelector('#df-e8d9c67d-cdfe-4362-beeb-a8d4ac6fe28f button.colab-df-convert');\n",
              "        buttonEl.style.display =\n",
              "          google.colab.kernel.accessAllowed ? 'block' : 'none';\n",
              "\n",
              "        async function convertToInteractive(key) {\n",
              "          const element = document.querySelector('#df-e8d9c67d-cdfe-4362-beeb-a8d4ac6fe28f');\n",
              "          const dataTable =\n",
              "            await google.colab.kernel.invokeFunction('convertToInteractive',\n",
              "                                                     [key], {});\n",
              "          if (!dataTable) return;\n",
              "\n",
              "          const docLinkHtml = 'Like what you see? Visit the ' +\n",
              "            '<a target=\"_blank\" href=https://colab.research.google.com/notebooks/data_table.ipynb>data table notebook</a>'\n",
              "            + ' to learn more about interactive tables.';\n",
              "          element.innerHTML = '';\n",
              "          dataTable['output_type'] = 'display_data';\n",
              "          await google.colab.output.renderOutput(dataTable, element);\n",
              "          const docLink = document.createElement('div');\n",
              "          docLink.innerHTML = docLinkHtml;\n",
              "          element.appendChild(docLink);\n",
              "        }\n",
              "      </script>\n",
              "    </div>\n",
              "  </div>\n",
              "  "
            ]
          },
          "metadata": {},
          "execution_count": 120
        }
      ]
    },
    {
      "cell_type": "markdown",
      "source": [
        "정답 데이터 label 컬럼을 추가했다."
      ],
      "metadata": {
        "id": "v4zU6I5yLXDz"
      }
    },
    {
      "cell_type": "markdown",
      "source": [
        "##데이터 분리"
      ],
      "metadata": {
        "id": "WeZu9QNiLKDV"
      }
    },
    {
      "cell_type": "code",
      "source": [
        "x_train, x_test, y_train, y_test = train_test_split(breast_cancer_data,  \n",
        "                                                    breast_cancer_label,   \n",
        "                                                    test_size=0.2,   \n",
        "                                                    random_state=1)  \n",
        "\n",
        "print('x_train 개수: ', len(x_train),', x_test 개수: ', len(x_test))"
      ],
      "metadata": {
        "id": "Fnn6iya_LKGz",
        "colab": {
          "base_uri": "https://localhost:8080/"
        },
        "outputId": "f451b68e-3458-4e43-cebe-ed76c86b304e"
      },
      "execution_count": null,
      "outputs": [
        {
          "output_type": "stream",
          "name": "stdout",
          "text": [
            "x_train 개수:  455 , x_test 개수:  114\n"
          ]
        }
      ]
    },
    {
      "cell_type": "markdown",
      "source": [
        "digits_data은 특징 데이터, digits_label은 정답 데이터로 구성하여\n",
        "<br/>random state으로 데이터를 무작위로 정렬하고\n",
        "<br/>전체의 20%를 시험 데이터로 사용한다."
      ],
      "metadata": {
        "id": "AgttmNm_p1bg"
      }
    },
    {
      "cell_type": "markdown",
      "source": [
        "##모델 학습"
      ],
      "metadata": {
        "id": "E7OvvmjiS252"
      }
    },
    {
      "cell_type": "markdown",
      "source": [
        "###Decision Tree"
      ],
      "metadata": {
        "id": "VUfHieXFLapX"
      }
    },
    {
      "cell_type": "code",
      "source": [
        "decision_tree = DecisionTreeClassifier(random_state=15)   \n",
        "decision_tree.fit(x_train, y_train)                       "
      ],
      "metadata": {
        "id": "aPz8fdtcLawY",
        "colab": {
          "base_uri": "https://localhost:8080/"
        },
        "outputId": "2c25110d-cb09-48f2-ea9d-7e752e9d9c55"
      },
      "execution_count": null,
      "outputs": [
        {
          "output_type": "execute_result",
          "data": {
            "text/plain": [
              "DecisionTreeClassifier(random_state=15)"
            ]
          },
          "metadata": {},
          "execution_count": 122
        }
      ]
    },
    {
      "cell_type": "code",
      "source": [
        "y_pred = decision_tree.predict(x_test)                   \n",
        "y_pred"
      ],
      "metadata": {
        "id": "DNCQYIl_Lca_",
        "colab": {
          "base_uri": "https://localhost:8080/"
        },
        "outputId": "7ebfd26e-ffea-46bc-ba21-347b56d5d81f"
      },
      "execution_count": null,
      "outputs": [
        {
          "output_type": "execute_result",
          "data": {
            "text/plain": [
              "array([1, 0, 1, 0, 0, 0, 0, 1, 1, 1, 1, 0, 0, 1, 1, 1, 1, 1, 1, 0, 1, 1,\n",
              "       0, 1, 0, 1, 1, 0, 0, 0, 0, 1, 0, 0, 1, 1, 0, 1, 0, 1, 1, 1, 1, 1,\n",
              "       1, 0, 1, 1, 1, 0, 0, 0, 1, 1, 1, 1, 1, 0, 1, 1, 1, 0, 1, 1, 1, 1,\n",
              "       1, 0, 1, 1, 1, 1, 1, 0, 1, 0, 1, 1, 1, 0, 1, 0, 1, 0, 1, 1, 0, 1,\n",
              "       0, 1, 1, 0, 1, 1, 0, 0, 1, 1, 1, 1, 1, 1, 1, 1, 1, 1, 1, 1, 0, 0,\n",
              "       0, 0, 0, 1])"
            ]
          },
          "metadata": {},
          "execution_count": 123
        }
      ]
    },
    {
      "cell_type": "code",
      "source": [
        "y_test"
      ],
      "metadata": {
        "id": "ZUkdRVlrLcdI",
        "colab": {
          "base_uri": "https://localhost:8080/"
        },
        "outputId": "8b9fedce-22aa-426f-804b-2571c8d79c00"
      },
      "execution_count": null,
      "outputs": [
        {
          "output_type": "execute_result",
          "data": {
            "text/plain": [
              "array([1, 0, 1, 0, 0, 0, 0, 0, 1, 1, 1, 0, 0, 1, 1, 1, 1, 1, 1, 0, 1, 1,\n",
              "       0, 1, 0, 1, 1, 0, 0, 0, 0, 1, 0, 0, 1, 1, 0, 1, 0, 1, 1, 1, 1, 1,\n",
              "       1, 0, 1, 1, 1, 0, 0, 0, 1, 1, 1, 1, 1, 0, 1, 1, 1, 0, 1, 1, 1, 1,\n",
              "       1, 0, 1, 1, 1, 1, 0, 0, 1, 0, 0, 0, 1, 0, 1, 0, 1, 0, 1, 1, 0, 1,\n",
              "       0, 1, 1, 0, 1, 1, 0, 0, 1, 1, 1, 1, 1, 1, 1, 1, 1, 1, 1, 1, 0, 0,\n",
              "       0, 1, 1, 1])"
            ]
          },
          "metadata": {},
          "execution_count": 127
        }
      ]
    },
    {
      "cell_type": "markdown",
      "source": [
        "y_pred와 y_test의 결과를 비교해보니 비슷하게 나왔다"
      ],
      "metadata": {
        "id": "yTnP0ZIGCxEt"
      }
    },
    {
      "cell_type": "code",
      "source": [
        "breast_cancer_decisiontree_confmat = confusion_matrix(y_true=y_test, y_pred=y_pred)\n",
        "\n",
        "fig, ax = plt.subplots(figsize=(2.5, 2.5))\n",
        "ax.matshow(breast_cancer_decisiontree_confmat, cmap=plt.cm.Blues, alpha=0.3)\n",
        "for i in range(breast_cancer_decisiontree_confmat.shape[0]):\n",
        "  for j in range(breast_cancer_decisiontree_confmat.shape[1]):\n",
        "    ax.text(x=j, y=i,\n",
        "            s=breast_cancer_decisiontree_confmat[i, j],\n",
        "            va='center', ha='center')\n",
        "plt.xlabel('Predicted label')\n",
        "plt.ylabel('True label')\n",
        "plt.tight_layout()\n",
        "plt.show()"
      ],
      "metadata": {
        "colab": {
          "base_uri": "https://localhost:8080/",
          "height": 189
        },
        "id": "rgpfnBwuCqfH",
        "outputId": "c674ed37-c406-46c4-e182-9535ec19d2d1"
      },
      "execution_count": null,
      "outputs": [
        {
          "output_type": "display_data",
          "data": {
            "text/plain": [
              "<Figure size 180x180 with 1 Axes>"
            ],
            "image/png": "[encoded data removed]"
          },
          "metadata": {
            "needs_background": "light"
          }
        }
      ]
    },
    {
      "cell_type": "markdown",
      "source": [
        "Decision Tree 학습 알고리즘의 성능을 행렬로 펼쳐 놓은 오차 행렬"
      ],
      "metadata": {
        "id": "rs8zDcFkCqnN"
      }
    },
    {
      "cell_type": "code",
      "source": [
        "plot_confusion_matrix(decision_tree, x_test, y_test, normalize='all')\n",
        "plt.show()"
      ],
      "metadata": {
        "colab": {
          "base_uri": "https://localhost:8080/",
          "height": 279
        },
        "id": "mBsNxffPCqwa",
        "outputId": "ef00c1ad-9074-4ad7-878f-126f1b0c4144"
      },
      "execution_count": null,
      "outputs": [
        {
          "output_type": "display_data",
          "data": {
            "text/plain": [
              "<Figure size 432x288 with 2 Axes>"
            ],
            "image/png": "[encoded data removed]"
          },
          "metadata": {
            "needs_background": "light"
          }
        }
      ]
    },
    {
      "cell_type": "markdown",
      "source": [
        "normalize 매개변수를 사용하여 오차 행렬의 값을 정규화"
      ],
      "metadata": {
        "id": "1F4bwf8WCq3_"
      }
    },
    {
      "cell_type": "code",
      "source": [
        "print(classification_report(y_test, y_pred))"
      ],
      "metadata": {
        "colab": {
          "base_uri": "https://localhost:8080/"
        },
        "id": "wR2zmiI7CrL6",
        "outputId": "1da2f23e-5135-41a6-9f20-805024820bbd"
      },
      "execution_count": null,
      "outputs": [
        {
          "output_type": "stream",
          "name": "stdout",
          "text": [
            "              precision    recall  f1-score   support\n",
            "\n",
            "           0       0.95      0.90      0.93        42\n",
            "           1       0.95      0.97      0.96        72\n",
            "\n",
            "    accuracy                           0.95       114\n",
            "   macro avg       0.95      0.94      0.94       114\n",
            "weighted avg       0.95      0.95      0.95       114\n",
            "\n"
          ]
        }
      ]
    },
    {
      "cell_type": "markdown",
      "source": [
        "예측값을 기준으로 한 정답인 예측값의 비율(Precision) 평균 = 0.95\n",
        "<br/>실제값을 기준으로 한 정답인 예측값의 비율(Recall) 평균 = 0.94"
      ],
      "metadata": {
        "id": "9FiCQGeCCrUO"
      }
    },
    {
      "cell_type": "code",
      "source": [
        "breast_cancer_decisiontree_report = classification_report(y_test, y_pred, output_dict=True)\n",
        "breast_cancer_decisiontree_report = pd.DataFrame(breast_cancer_decisiontree_report).transpose()   \n",
        "breast_cancer_decisiontree_accuracy = breast_cancer_decisiontree_report['f1-score'][-3:-2][0]    \n",
        "print(\"accuracy : \", breast_cancer_decisiontree_accuracy)          "
      ],
      "metadata": {
        "id": "TzDr_uz9Lcvk",
        "colab": {
          "base_uri": "https://localhost:8080/"
        },
        "outputId": "0c069f3c-5548-4f84-9d9c-a59fdabdbd5a"
      },
      "execution_count": null,
      "outputs": [
        {
          "output_type": "stream",
          "name": "stdout",
          "text": [
            "accuracy :  0.9473684210526315\n"
          ]
        }
      ]
    },
    {
      "cell_type": "markdown",
      "source": [
        " Decision Tree 모델 성능 'accuracy'는 94.74%이다.\n",
        " <br/>Decision Tree 모델의 성능을 변수로 저장한다."
      ],
      "metadata": {
        "id": "rfJ-oI2JLmwd"
      }
    },
    {
      "cell_type": "markdown",
      "source": [
        "###Random Forest"
      ],
      "metadata": {
        "id": "SMvSwPx_qXSA"
      }
    },
    {
      "cell_type": "code",
      "source": [
        "random_forest = RandomForestClassifier(random_state=32)       \n",
        "random_forest.fit(x_train, y_train)                          \n",
        "y_pred = random_forest.predict(x_test)                               "
      ],
      "metadata": {
        "id": "K9xFes5vqXXp"
      },
      "execution_count": null,
      "outputs": []
    },
    {
      "cell_type": "code",
      "source": [
        "y_pred  "
      ],
      "metadata": {
        "colab": {
          "base_uri": "https://localhost:8080/"
        },
        "id": "Q0kTjDfypndP",
        "outputId": "8dab6243-539d-405e-e77a-cc9526d1f5dd"
      },
      "execution_count": null,
      "outputs": [
        {
          "output_type": "execute_result",
          "data": {
            "text/plain": [
              "array([0, 0, 1, 0, 0, 0, 0, 0, 1, 1, 1, 0, 0, 1, 1, 1, 1, 1, 1, 0, 1, 1,\n",
              "       0, 1, 0, 1, 1, 0, 0, 0, 0, 1, 0, 0, 1, 1, 0, 1, 1, 1, 1, 1, 1, 1,\n",
              "       1, 0, 1, 1, 1, 0, 0, 0, 1, 1, 1, 1, 1, 0, 1, 1, 1, 0, 1, 1, 1, 1,\n",
              "       1, 0, 1, 1, 1, 1, 1, 0, 1, 0, 1, 1, 1, 0, 1, 0, 1, 0, 1, 1, 0, 1,\n",
              "       0, 1, 1, 0, 1, 1, 0, 0, 1, 1, 1, 1, 1, 1, 1, 1, 1, 1, 1, 1, 0, 0,\n",
              "       0, 1, 1, 1])"
            ]
          },
          "metadata": {},
          "execution_count": 130
        }
      ]
    },
    {
      "cell_type": "code",
      "source": [
        " y_test        "
      ],
      "metadata": {
        "id": "d6OlGgSbLsBn",
        "colab": {
          "base_uri": "https://localhost:8080/"
        },
        "outputId": "c6a30a4c-c5ba-4e8c-9476-8e8c98e0c613"
      },
      "execution_count": null,
      "outputs": [
        {
          "output_type": "execute_result",
          "data": {
            "text/plain": [
              "array([1, 0, 1, 0, 0, 0, 0, 0, 1, 1, 1, 0, 0, 1, 1, 1, 1, 1, 1, 0, 1, 1,\n",
              "       0, 1, 0, 1, 1, 0, 0, 0, 0, 1, 0, 0, 1, 1, 0, 1, 0, 1, 1, 1, 1, 1,\n",
              "       1, 0, 1, 1, 1, 0, 0, 0, 1, 1, 1, 1, 1, 0, 1, 1, 1, 0, 1, 1, 1, 1,\n",
              "       1, 0, 1, 1, 1, 1, 0, 0, 1, 0, 0, 0, 1, 0, 1, 0, 1, 0, 1, 1, 0, 1,\n",
              "       0, 1, 1, 0, 1, 1, 0, 0, 1, 1, 1, 1, 1, 1, 1, 1, 1, 1, 1, 1, 0, 0,\n",
              "       0, 1, 1, 1])"
            ]
          },
          "metadata": {},
          "execution_count": 131
        }
      ]
    },
    {
      "cell_type": "code",
      "source": [
        "breast_cancer_random_forest_confmat = confusion_matrix(y_true=y_test, y_pred=y_pred)\n",
        "\n",
        "fig, ax = plt.subplots(figsize=(2.5, 2.5))\n",
        "ax.matshow(breast_cancer_random_forest_confmat, cmap=plt.cm.Blues, alpha=0.3)\n",
        "for i in range(breast_cancer_random_forest_confmat.shape[0]):\n",
        "  for j in range(breast_cancer_random_forest_confmat.shape[1]):\n",
        "    ax.text(x=j, y=i,\n",
        "            s=breast_cancer_random_forest_confmat[i, j],\n",
        "            va='center', ha='center')\n",
        "plt.xlabel('Predicted label')\n",
        "plt.ylabel('True label')\n",
        "plt.tight_layout()\n",
        "plt.show()"
      ],
      "metadata": {
        "colab": {
          "base_uri": "https://localhost:8080/",
          "height": 189
        },
        "id": "U-Zd9K4QDYXL",
        "outputId": "ffe6f797-86c2-4bce-fb3c-ee65ac3edfe7"
      },
      "execution_count": null,
      "outputs": [
        {
          "output_type": "display_data",
          "data": {
            "text/plain": [
              "<Figure size 180x180 with 1 Axes>"
            ],
            "image/png": "[encoded data removed]"
          },
          "metadata": {
            "needs_background": "light"
          }
        }
      ]
    },
    {
      "cell_type": "markdown",
      "source": [
        "Random Forest 학습 알고리즘의 성능을 행렬로 펼쳐 놓은 오차 행렬"
      ],
      "metadata": {
        "id": "MM8u1F25DYe8"
      }
    },
    {
      "cell_type": "code",
      "source": [
        "plot_confusion_matrix(random_forest, x_test, y_test, normalize='all')\n",
        "plt.show()"
      ],
      "metadata": {
        "colab": {
          "base_uri": "https://localhost:8080/",
          "height": 279
        },
        "id": "Cazyl3daDYmh",
        "outputId": "55fb4c76-e049-4834-abc8-7c1f5c303318"
      },
      "execution_count": null,
      "outputs": [
        {
          "output_type": "display_data",
          "data": {
            "text/plain": [
              "<Figure size 432x288 with 2 Axes>"
            ],
            "image/png": "[encoded data removed]"
          },
          "metadata": {
            "needs_background": "light"
          }
        }
      ]
    },
    {
      "cell_type": "markdown",
      "source": [
        "normalize 매개변수를 사용하여 오차 행렬의 값을 정규화"
      ],
      "metadata": {
        "id": "URedjWb-DYt0"
      }
    },
    {
      "cell_type": "code",
      "source": [
        "print(classification_report(y_test, y_pred))"
      ],
      "metadata": {
        "id": "ICBYKvc2LsEF",
        "colab": {
          "base_uri": "https://localhost:8080/"
        },
        "outputId": "77d50acb-1109-44c6-f8b8-374f836fae0b"
      },
      "execution_count": null,
      "outputs": [
        {
          "output_type": "stream",
          "name": "stdout",
          "text": [
            "              precision    recall  f1-score   support\n",
            "\n",
            "           0       0.97      0.90      0.94        42\n",
            "           1       0.95      0.99      0.97        72\n",
            "\n",
            "    accuracy                           0.96       114\n",
            "   macro avg       0.96      0.95      0.95       114\n",
            "weighted avg       0.96      0.96      0.96       114\n",
            "\n"
          ]
        }
      ]
    },
    {
      "cell_type": "markdown",
      "source": [
        "예측값을 기준으로 한 정답인 예측값의 비율(Precision) 평균 = 0.94\n",
        "<br/>실제값을 기준으로 한 정답인 예측값의 비율(Recall) 평균 = 0.92"
      ],
      "metadata": {
        "id": "PS0f_eb7LsKE"
      }
    },
    {
      "cell_type": "code",
      "source": [
        "breast_cancer_randomforest_report = classification_report(y_test, y_pred, output_dict=True)\n",
        "breast_cancer_randomforest_report = pd.DataFrame(breast_cancer_randomforest_report).transpose()  \n",
        "breast_cancer_randomforest_accuracy = breast_cancer_randomforest_report['f1-score'][-3:-2][0]    \n",
        "print(\"accuracy : \", breast_cancer_randomforest_accuracy)   "
      ],
      "metadata": {
        "id": "6U4t2fGLLsOB",
        "colab": {
          "base_uri": "https://localhost:8080/"
        },
        "outputId": "42098224-ab8f-4587-9ef2-79992df2c7e4"
      },
      "execution_count": null,
      "outputs": [
        {
          "output_type": "stream",
          "name": "stdout",
          "text": [
            "accuracy :  0.956140350877193\n"
          ]
        }
      ]
    },
    {
      "cell_type": "markdown",
      "source": [
        "Randomforest 모델의 성능 'accuracy'는 95.61%이다.\n",
        "<br/>Randomforest 모델의 성능을 변수로 저장한다."
      ],
      "metadata": {
        "id": "XOJaITi6L0Kw"
      }
    },
    {
      "cell_type": "markdown",
      "source": [
        "###Support Vector Classifier(SVC)"
      ],
      "metadata": {
        "id": "KRuUvu8FqXeH"
      }
    },
    {
      "cell_type": "code",
      "source": [
        "svc_model = svm.SVC()\n",
        "svc_model.fit(x_train, y_train)\n",
        "y_pred = svc_model.predict(x_test)"
      ],
      "metadata": {
        "id": "aDsyI3RlqXkW"
      },
      "execution_count": null,
      "outputs": []
    },
    {
      "cell_type": "code",
      "source": [
        "breast_cancer_svc_confmat = confusion_matrix(y_true=y_test, y_pred=y_pred)\n",
        "\n",
        "fig, ax = plt.subplots(figsize=(2.5, 2.5))\n",
        "ax.matshow(breast_cancer_svc_confmat, cmap=plt.cm.Blues, alpha=0.3)\n",
        "for i in range(breast_cancer_svc_confmat.shape[0]):\n",
        "  for j in range(breast_cancer_svc_confmat.shape[1]):\n",
        "    ax.text(x=j, y=i,\n",
        "            s=breast_cancer_svc_confmat[i, j],\n",
        "            va='center', ha='center')\n",
        "plt.xlabel('Predicted label')\n",
        "plt.ylabel('True label')\n",
        "plt.tight_layout()\n",
        "plt.show()"
      ],
      "metadata": {
        "colab": {
          "base_uri": "https://localhost:8080/",
          "height": 189
        },
        "id": "ztpnqHSQDuOU",
        "outputId": "21c6f509-7f22-44ef-8dfe-f528f0d3d850"
      },
      "execution_count": null,
      "outputs": [
        {
          "output_type": "display_data",
          "data": {
            "text/plain": [
              "<Figure size 180x180 with 1 Axes>"
            ],
            "image/png": "[encoded data removed]"
          },
          "metadata": {
            "needs_background": "light"
          }
        }
      ]
    },
    {
      "cell_type": "markdown",
      "source": [
        "SVC 학습 알고리즘의 성능을 행렬로 펼쳐 놓은 오차 행렬"
      ],
      "metadata": {
        "id": "3ctL0KC_DuWX"
      }
    },
    {
      "cell_type": "code",
      "source": [
        "plot_confusion_matrix(svc_model, x_test, y_test, normalize='all')\n",
        "plt.show()"
      ],
      "metadata": {
        "colab": {
          "base_uri": "https://localhost:8080/",
          "height": 279
        },
        "id": "9Z7mait5DudZ",
        "outputId": "2572f7a3-fa24-4f45-a942-98468a9d0be4"
      },
      "execution_count": null,
      "outputs": [
        {
          "output_type": "display_data",
          "data": {
            "text/plain": [
              "<Figure size 432x288 with 2 Axes>"
            ],
            "image/png": "[encoded data removed]"
          },
          "metadata": {
            "needs_background": "light"
          }
        }
      ]
    },
    {
      "cell_type": "markdown",
      "source": [
        "normalize 매개변수를 사용하여 오차 행렬의 값을 정규화"
      ],
      "metadata": {
        "id": "oH1WA3r3Dujw"
      }
    },
    {
      "cell_type": "code",
      "source": [
        "print(classification_report(y_test, y_pred))"
      ],
      "metadata": {
        "colab": {
          "base_uri": "https://localhost:8080/"
        },
        "id": "RrkT-342DvKi",
        "outputId": "03c87c30-2c63-4774-8385-cd9a2f91dedd"
      },
      "execution_count": null,
      "outputs": [
        {
          "output_type": "stream",
          "name": "stdout",
          "text": [
            "              precision    recall  f1-score   support\n",
            "\n",
            "           0       1.00      0.74      0.85        42\n",
            "           1       0.87      1.00      0.93        72\n",
            "\n",
            "    accuracy                           0.90       114\n",
            "   macro avg       0.93      0.87      0.89       114\n",
            "weighted avg       0.92      0.90      0.90       114\n",
            "\n"
          ]
        }
      ]
    },
    {
      "cell_type": "markdown",
      "source": [
        "예측값을 기준으로 한 정답인 예측값의 비율(Precision) 평균 = 0.92\n",
        "<br/>실제값을 기준으로 한 정답인 예측값의 비율(Recall) 평균 = 0.86"
      ],
      "metadata": {
        "id": "_qSGccKfL3LS"
      }
    },
    {
      "cell_type": "code",
      "source": [
        "breast_cancer_svc_report = classification_report(y_test, y_pred, output_dict=True)\n",
        "breast_cancer_svc_report = pd.DataFrame(breast_cancer_svc_report).transpose()     \n",
        "breast_cancer_svc_accuracy = breast_cancer_svc_report['f1-score'][-3:-2][0]   \n",
        "print(\"accuracy : \", breast_cancer_svc_accuracy)   "
      ],
      "metadata": {
        "id": "TH-Z5aOQL3aL",
        "colab": {
          "base_uri": "https://localhost:8080/"
        },
        "outputId": "8a0474a8-863b-41f8-cb0f-b772436ecf55"
      },
      "execution_count": null,
      "outputs": [
        {
          "output_type": "stream",
          "name": "stdout",
          "text": [
            "accuracy :  0.9035087719298246\n"
          ]
        }
      ]
    },
    {
      "cell_type": "markdown",
      "source": [
        "SVC 모델의 성능 'accuracy'는 90.35%이다.\n",
        "<br/>SVC 모델의 성능을 변수로 저장한다."
      ],
      "metadata": {
        "id": "G9C2ZLN_L8TC"
      }
    },
    {
      "cell_type": "markdown",
      "source": [
        "###SGD Classifier"
      ],
      "metadata": {
        "id": "Onc5ftWNqXqw"
      }
    },
    {
      "cell_type": "code",
      "source": [
        "sgd_model = SGDClassifier()\n",
        "sgd_model.fit(x_train, y_train)\n",
        "y_pred = sgd_model.predict(x_test)"
      ],
      "metadata": {
        "id": "GtCm5neSq40l"
      },
      "execution_count": null,
      "outputs": []
    },
    {
      "cell_type": "code",
      "source": [
        "wine_sgd_confmat = confusion_matrix(y_true=y_test, y_pred=y_pred)\n",
        "\n",
        "fig, ax = plt.subplots(figsize=(2.5, 2.5))\n",
        "ax.matshow(wine_sgd_confmat, cmap=plt.cm.Blues, alpha=0.3)\n",
        "for i in range(wine_sgd_confmat.shape[0]):\n",
        "  for j in range(wine_sgd_confmat.shape[1]):\n",
        "    ax.text(x=j, y=i,\n",
        "            s=wine_sgd_confmat[i, j],\n",
        "            va='center', ha='center')\n",
        "plt.xlabel('Predicted label')\n",
        "plt.ylabel('True label')\n",
        "plt.tight_layout()\n",
        "plt.show()"
      ],
      "metadata": {
        "colab": {
          "base_uri": "https://localhost:8080/",
          "height": 189
        },
        "id": "88S7S9-lEJdS",
        "outputId": "8be4c7bb-ae08-4309-a505-0a03cf7d68dc"
      },
      "execution_count": null,
      "outputs": [
        {
          "output_type": "display_data",
          "data": {
            "text/plain": [
              "<Figure size 180x180 with 1 Axes>"
            ],
            "image/png": "[encoded data removed]"
          },
          "metadata": {
            "needs_background": "light"
          }
        }
      ]
    },
    {
      "cell_type": "markdown",
      "source": [
        "SGD 학습 알고리즘의 성능을 행렬로 펼쳐 놓은 오차 행렬"
      ],
      "metadata": {
        "id": "6rpFQsWUEJkE"
      }
    },
    {
      "cell_type": "code",
      "source": [
        "plot_confusion_matrix(sgd_model, x_test, y_test, normalize='all')\n",
        "plt.show()"
      ],
      "metadata": {
        "colab": {
          "base_uri": "https://localhost:8080/",
          "height": 279
        },
        "id": "VX9KphtuEJo3",
        "outputId": "a54370ae-b4d5-494b-da32-8f94dafc165a"
      },
      "execution_count": null,
      "outputs": [
        {
          "output_type": "display_data",
          "data": {
            "text/plain": [
              "<Figure size 432x288 with 2 Axes>"
            ],
            "image/png": "[encoded data removed]"
          },
          "metadata": {
            "needs_background": "light"
          }
        }
      ]
    },
    {
      "cell_type": "markdown",
      "source": [
        "normalize 매개변수를 사용하여 오차 행렬의 값을 정규"
      ],
      "metadata": {
        "id": "xd4Ajw-EEJuf"
      }
    },
    {
      "cell_type": "code",
      "source": [
        "print(classification_report(y_test, y_pred))"
      ],
      "metadata": {
        "colab": {
          "base_uri": "https://localhost:8080/"
        },
        "id": "bOe54WwsEIry",
        "outputId": "006b4fd5-515a-41ed-e53f-b8b91e8da01b"
      },
      "execution_count": null,
      "outputs": [
        {
          "output_type": "stream",
          "name": "stdout",
          "text": [
            "              precision    recall  f1-score   support\n",
            "\n",
            "           0       0.59      1.00      0.74        42\n",
            "           1       1.00      0.60      0.75        72\n",
            "\n",
            "    accuracy                           0.75       114\n",
            "   macro avg       0.80      0.80      0.75       114\n",
            "weighted avg       0.85      0.75      0.75       114\n",
            "\n"
          ]
        }
      ]
    },
    {
      "cell_type": "markdown",
      "source": [
        "예측값을 기준으로 한 정답인 예측값의 비율(Precision) 평균 = 0.90\n",
        "<br/>실제값을 기준으로 한 정답인 예측값의 비율(Recall) 평균 = 0.82"
      ],
      "metadata": {
        "id": "2iTLIfHYL_nq"
      }
    },
    {
      "cell_type": "code",
      "source": [
        "breast_cancer_sgd_report = classification_report(y_test, y_pred, output_dict=True)\n",
        "breast_cancer_sgd_report = pd.DataFrame(breast_cancer_sgd_report).transpose()    \n",
        "breast_cancer_sgd_accuracy = breast_cancer_sgd_report['f1-score'][-3:-2][0]\n",
        "print(\"accuracy : \", breast_cancer_sgd_accuracy) "
      ],
      "metadata": {
        "id": "GZhb8c4fL_r4",
        "colab": {
          "base_uri": "https://localhost:8080/"
        },
        "outputId": "fb3fd603-e22e-4eaf-915b-6868894fed0a"
      },
      "execution_count": null,
      "outputs": [
        {
          "output_type": "stream",
          "name": "stdout",
          "text": [
            "accuracy :  0.7456140350877193\n"
          ]
        }
      ]
    },
    {
      "cell_type": "markdown",
      "source": [
        "SGD 모델의 성능 'accuracy'는 74.56%이다.\n",
        "<br/>SGD 모델의 성능을 변수로 저장한다."
      ],
      "metadata": {
        "id": "x2-m26SwMAEH"
      }
    },
    {
      "cell_type": "markdown",
      "source": [
        "###Logistic Regression"
      ],
      "metadata": {
        "id": "-JdsIyahqXxF"
      }
    },
    {
      "cell_type": "code",
      "source": [
        "logistic_model = LogisticRegression()\n",
        "logistic_model.fit(x_train, y_train)\n",
        "y_pred = logistic_model.predict(x_test)"
      ],
      "metadata": {
        "id": "TfcThoISq5b0"
      },
      "execution_count": null,
      "outputs": []
    },
    {
      "cell_type": "code",
      "source": [
        "wine_logistic_confmat = confusion_matrix(y_true=y_test, y_pred=y_pred)\n",
        "\n",
        "fig, ax = plt.subplots(figsize=(2.5, 2.5))\n",
        "ax.matshow(wine_logistic_confmat, cmap=plt.cm.Blues, alpha=0.3)\n",
        "for i in range(wine_logistic_confmat.shape[0]):\n",
        "  for j in range(wine_logistic_confmat.shape[1]):\n",
        "    ax.text(x=j, y=i,\n",
        "            s=wine_logistic_confmat[i, j],\n",
        "            va='center', ha='center')\n",
        "plt.xlabel('Predicted label')\n",
        "plt.ylabel('True label')\n",
        "plt.tight_layout()\n",
        "plt.show()"
      ],
      "metadata": {
        "colab": {
          "base_uri": "https://localhost:8080/",
          "height": 189
        },
        "id": "IacCW7PKEjXG",
        "outputId": "f961717c-e8b5-4415-efd5-f927dcd6d65c"
      },
      "execution_count": null,
      "outputs": [
        {
          "output_type": "display_data",
          "data": {
            "text/plain": [
              "<Figure size 180x180 with 1 Axes>"
            ],
            "image/png": "[encoded data removed]"
          },
          "metadata": {
            "needs_background": "light"
          }
        }
      ]
    },
    {
      "cell_type": "markdown",
      "source": [
        "Logistic Regression 학습 알고리즘의 성능을 행렬로 펼쳐 놓은 오차 행렬"
      ],
      "metadata": {
        "id": "WuS608ZrEjb0"
      }
    },
    {
      "cell_type": "code",
      "source": [
        "plot_confusion_matrix(logistic_model, x_test, y_test, normalize='all')\n",
        "plt.show()"
      ],
      "metadata": {
        "colab": {
          "base_uri": "https://localhost:8080/",
          "height": 279
        },
        "id": "oue5xFOaEjgX",
        "outputId": "7487d1c6-bfeb-4207-f65a-14aaf60043f8"
      },
      "execution_count": null,
      "outputs": [
        {
          "output_type": "display_data",
          "data": {
            "text/plain": [
              "<Figure size 432x288 with 2 Axes>"
            ],
            "image/png": "[encoded data removed]"
          },
          "metadata": {
            "needs_background": "light"
          }
        }
      ]
    },
    {
      "cell_type": "markdown",
      "source": [
        "normalize 매개변수를 사용하여 오차 행렬의 값을 정규화"
      ],
      "metadata": {
        "id": "Oe0rkp59Ejk8"
      }
    },
    {
      "cell_type": "code",
      "source": [
        "print(classification_report(y_test, y_pred))"
      ],
      "metadata": {
        "colab": {
          "base_uri": "https://localhost:8080/"
        },
        "id": "iHb4ERI3Ehor",
        "outputId": "b90d1788-4bf9-4e43-875e-19ca4bb64bea"
      },
      "execution_count": null,
      "outputs": [
        {
          "output_type": "stream",
          "name": "stdout",
          "text": [
            "              precision    recall  f1-score   support\n",
            "\n",
            "           0       0.95      0.90      0.93        42\n",
            "           1       0.95      0.97      0.96        72\n",
            "\n",
            "    accuracy                           0.95       114\n",
            "   macro avg       0.95      0.94      0.94       114\n",
            "weighted avg       0.95      0.95      0.95       114\n",
            "\n"
          ]
        }
      ]
    },
    {
      "cell_type": "markdown",
      "source": [
        "예측값을 기준으로 한 정답인 예측값의 비율(Precision) 평균 = 0.95\n",
        "<br/>실제값을 기준으로 한 정답인 예측값의 비율(Recall) 평균 = 0.92"
      ],
      "metadata": {
        "id": "mmNu4xVjq9lI"
      }
    },
    {
      "cell_type": "code",
      "source": [
        "breast_cancer_logistic_report = classification_report(y_test, y_pred, output_dict=True)\n",
        "breast_cancer_logistic_report = pd.DataFrame(breast_cancer_logistic_report).transpose()     \n",
        "breast_cancer_logistic_accuracy = breast_cancer_logistic_report['f1-score'][-3:-2][0]       \n",
        "print(\"accuracy : \", breast_cancer_logistic_accuracy) "
      ],
      "metadata": {
        "id": "R_vdG9ehWhcx",
        "colab": {
          "base_uri": "https://localhost:8080/"
        },
        "outputId": "70acb9eb-b80d-4549-c23d-859e14ee8fab"
      },
      "execution_count": null,
      "outputs": [
        {
          "output_type": "stream",
          "name": "stdout",
          "text": [
            "accuracy :  0.9473684210526315\n"
          ]
        }
      ]
    },
    {
      "cell_type": "markdown",
      "source": [
        "Logistic Regression 모델의 성능 'accuracy'는 94.74%이다.\n",
        "<br/>Logistic Regression 모델의 성능을 변수로 저장한다."
      ],
      "metadata": {
        "id": "D-mSIS3_MMr5"
      }
    },
    {
      "cell_type": "markdown",
      "source": [
        "##모델 평가"
      ],
      "metadata": {
        "id": "F-B4yh1ER6UF"
      }
    },
    {
      "cell_type": "code",
      "source": [
        "breast_cancer_model_comparison = [round(breast_cancer_decisiontree_accuracy, 4)\n",
        ",round(breast_cancer_randomforest_accuracy, 4), round(breast_cancer_svc_accuracy, 4)\n",
        ",round(breast_cancer_sgd_accuracy, 4), round(breast_cancer_logistic_accuracy, 4)]\n",
        "\n",
        "\n",
        "breast_cancer_model_name = ['Decision Tree','Random Forest','SVC','SGD', 'Logistic']  \n",
        "\n",
        "\n",
        "breast_cancer_df = pd.DataFrame({\"Model\": breast_cancer_model_name,\n",
        "                  \"Accuracy\":breast_cancer_model_comparison})\n",
        "breast_cancer_df_sorted= breast_cancer_df.sort_values('Accuracy',ascending=False)\n",
        "\n",
        "\n",
        "plt.figure(figsize=(10, 5))                                                  \n",
        "bar_width = 0.1                                                                \n",
        "\n",
        "plt.bar('Model', 'Accuracy',data=breast_cancer_df_sorted, color = 'blue')       \n",
        "\n",
        "\n",
        "for i, v in enumerate(breast_cancer_model_name):\n",
        "    plt.text(v, breast_cancer_model_comparison[i],breast_cancer_model_comparison[i],      \n",
        "             fontsize = 9, \n",
        "             color='black',\n",
        "             horizontalalignment='center',  \n",
        "             verticalalignment='bottom')    \n",
        "\n",
        "plt.ylim([0.7, 1])   \n",
        "plt.title('Breast Cancer', fontsize=20)     \n",
        "plt.xlabel('Model', fontsize=18)     \n",
        "plt.ylabel('Accuracy', fontsize=18)  \n",
        "plt.show()         \n"
      ],
      "metadata": {
        "id": "yqio25S-Wkdx",
        "colab": {
          "base_uri": "https://localhost:8080/",
          "height": 363
        },
        "outputId": "dcf07570-e0f2-4cf7-8f5e-89f3efc92e2d"
      },
      "execution_count": null,
      "outputs": [
        {
          "output_type": "display_data",
          "data": {
            "text/plain": [
              "<Figure size 720x360 with 1 Axes>"
            ],
            "image/png": "[encoded data removed]"
          },
          "metadata": {
            "needs_background": "light"
          }
        }
      ]
    },
    {
      "cell_type": "markdown",
      "source": [
        "Random Forest > Decision Tree = Logistic > SVC > SGD 순으로 성능이 높다.\n",
        "<br/>따라서 breast_cancer 데이터셋에서는 Random Forest 모델 성능이 탁월하다."
      ],
      "metadata": {
        "id": "EXQiDGYeFwtY"
      }
    },
    {
      "cell_type": "markdown",
      "source": [
        "#결론"
      ],
      "metadata": {
        "id": "4pNh6LBhO0cD"
      }
    },
    {
      "cell_type": "markdown",
      "source": [
        "\n",
        "digits\n",
        "<br/>SVC > Random Forest > Logistic > SGD > Decision Tree 순으로 성능이 높다."
      ],
      "metadata": {
        "id": "I4jv4sxNO0qG"
      }
    },
    {
      "cell_type": "markdown",
      "source": [
        "wine\n",
        "<br/>Random Forest > Decision Tree = Logistic  >  SGD > SVC 순으로 성능이 높다."
      ],
      "metadata": {
        "id": "C8XJn6Vh71Tu"
      }
    },
    {
      "cell_type": "markdown",
      "source": [
        "breast_cancer\n",
        "<br/>Random Forest > Decision Tree = Logistic > SVC > SGD 순으로 성능이 높다."
      ],
      "metadata": {
        "id": "bKM9NZE973PP"
      }
    },
    {
      "cell_type": "markdown",
      "source": [
        "데이터에 따라 맞는 분석모델이 다르다.\n",
        "<br/>최적화된 분석 모델의 선택 과정은 어떻게 되는 것일까?\n",
        "<br/>코딩 이전에 모델을 선택하는 것일까?\n",
        "<br/>아니면 코딩 이후에 모델을 선택하는 것일까?\n",
        "<br/>분석자의 도메인 지식으로 알고 있는 데이터의 특성에 따라 분석모델을 선택하는 것일까?\n",
        "<br/>연구자의 사전 지식을 배제하고 컴퓨터의 분석 결과 수치값만을 고려하여 수학적으로 분석모델을 선택하는 것일까?"
      ],
      "metadata": {
        "id": "YN6L8x3kH8ho"
      }
    },
    {
      "cell_type": "markdown",
      "source": [
        "#참고문헌"
      ],
      "metadata": {
        "id": "1NpXlpE6u4U4"
      }
    },
    {
      "cell_type": "markdown",
      "source": [
        "**LMS**\n",
        "<br/>[jeina7](https://github.com/jeina7)\n",
        "\n",
        "<br/>**단행본**\n",
        "<br/>세바스찬 라시카, 바히드 미자리리, 『머신 러닝 교과서 with 파이썬, 사이킷런, 텐서플로』, 박해선 옮긴이, 길벗, 2021\n",
        "<br/>[오차 행렬](https://thebook.io/080223/ch06/05/01-01/)\n",
        "\n",
        "<br/>**공식 사이트**\n",
        "<br/>Sklearn\n",
        "<br/>[load_digits](https://scikit-learn.org/stable/modules/generated/sklearn.datasets.load_digits.html#sklearn.datasets.load_digits)\n",
        "<br/>[load_wine](https://scikit-learn.org/stable/modules/generated/sklearn.datasets.load_wine.html?highlight=load_wine#sklearn.datasets.load_wine)\n",
        "<br/>[load_breast_cancer](https://scikit-learn.org/stable/modules/generated/sklearn.datasets.load_breast_cancer.html?highlight=load_breast_cancer#sklearn.datasets.load_breast_cancer)\n",
        "\n",
        "<br/>**웹사이트**\n",
        "<br/>[Python matplotlib - 그래프에 값 표시 하기](https://pydole.tistory.com/entry/Python-matplotlib-%EA%B7%B8%EB%9E%98%ED%94%84%EC%97%90-%EA%B0%92-%ED%91%9C%EC%8B%9C-%ED%95%98%EA%B8%B0)"
      ],
      "metadata": {
        "id": "4nTFyhKtu5vI"
      }
    }
  ]
}